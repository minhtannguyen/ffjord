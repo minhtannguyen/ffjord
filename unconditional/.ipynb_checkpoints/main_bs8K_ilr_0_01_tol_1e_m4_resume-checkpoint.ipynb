{
 "cells": [
  {
   "cell_type": "code",
   "execution_count": null,
   "metadata": {},
   "outputs": [
    {
     "name": "stderr",
     "output_type": "stream",
     "text": [
      "/tancode/repos/tan-ffjord/train_cnf_exploretol2.py\n",
      "import argparse\n",
      "import os\n",
      "import time\n",
      "import numpy as np\n",
      "\n",
      "import torch\n",
      "import torch.optim as optim\n",
      "import torchvision.datasets as dset\n",
      "import torchvision.transforms as tforms\n",
      "from torchvision.utils import save_image\n",
      "\n",
      "import lib.layers as layers\n",
      "import lib.utils as utils\n",
      "import lib.odenvp_exploretol2 as odenvp\n",
      "import lib.multiscale_parallel as multiscale_parallel\n",
      "\n",
      "from train_misc import standard_normal_logprob\n",
      "from train_misc import set_cnf_options, count_nfe, count_parameters, count_total_time\n",
      "from train_misc import add_spectral_norm, spectral_norm_power_iteration\n",
      "from train_misc import create_regularization_fns, get_regularization, append_regularization_to_log\n",
      "\n",
      "# go fast boi!!\n",
      "torch.backends.cudnn.benchmark = True\n",
      "SOLVERS = [\"dopri5\", \"bdf\", \"rk4\", \"midpoint\", 'adams', 'explicit_adams']\n",
      "parser = argparse.ArgumentParser(\"Continuous Normalizing Flow\")\n",
      "parser.add_argument(\"--data\", choices=[\"mnist\", \"svhn\", \"cifar10\", 'lsun_church'], type=str, default=\"mnist\")\n",
      "parser.add_argument(\"--dims\", type=str, default=\"8,32,32,8\")\n",
      "parser.add_argument(\"--strides\", type=str, default=\"2,2,1,-2,-2\")\n",
      "parser.add_argument(\"--num_blocks\", type=int, default=1, help='Number of stacked CNFs.')\n",
      "\n",
      "parser.add_argument(\"--conv\", type=eval, default=True, choices=[True, False])\n",
      "parser.add_argument(\n",
      "    \"--layer_type\", type=str, default=\"ignore\",\n",
      "    choices=[\"ignore\", \"concat\", \"concat_v2\", \"squash\", \"concatsquash\", \"concatcoord\", \"hyper\", \"blend\"]\n",
      ")\n",
      "parser.add_argument(\"--divergence_fn\", type=str, default=\"approximate\", choices=[\"brute_force\", \"approximate\"])\n",
      "parser.add_argument(\n",
      "    \"--nonlinearity\", type=str, default=\"softplus\", choices=[\"tanh\", \"relu\", \"softplus\", \"elu\", \"swish\"]\n",
      ")\n",
      "parser.add_argument('--solver', type=str, default='dopri5', choices=SOLVERS)\n",
      "parser.add_argument('--atol', type=float, default=1e-5)\n",
      "parser.add_argument('--rtol', type=float, default=1e-5)\n",
      "parser.add_argument(\"--step_size\", type=float, default=None, help=\"Optional fixed step size.\")\n",
      "\n",
      "parser.add_argument('--test_solver', type=str, default=None, choices=SOLVERS + [None])\n",
      "parser.add_argument('--test_atol', type=float, default=None)\n",
      "parser.add_argument('--test_rtol', type=float, default=None)\n",
      "\n",
      "parser.add_argument(\"--imagesize\", type=int, default=None)\n",
      "parser.add_argument(\"--alpha\", type=float, default=1e-6)\n",
      "parser.add_argument('--time_length', type=float, default=1.0)\n",
      "parser.add_argument('--train_T', type=eval, default=True)\n",
      "\n",
      "parser.add_argument(\"--num_epochs\", type=int, default=1000)\n",
      "parser.add_argument(\"--batch_size\", type=int, default=200)\n",
      "parser.add_argument(\n",
      "    \"--batch_size_schedule\", type=str, default=\"\", help=\"Increases the batchsize at every given epoch, dash separated.\"\n",
      ")\n",
      "parser.add_argument(\"--test_batch_size\", type=int, default=200)\n",
      "parser.add_argument(\"--lr\", type=float, default=1e-3)\n",
      "parser.add_argument(\"--warmup_iters\", type=float, default=1000)\n",
      "parser.add_argument(\"--weight_decay\", type=float, default=0.0)\n",
      "parser.add_argument(\"--spectral_norm_niter\", type=int, default=10)\n",
      "\n",
      "parser.add_argument(\"--add_noise\", type=eval, default=True, choices=[True, False])\n",
      "parser.add_argument(\"--batch_norm\", type=eval, default=False, choices=[True, False])\n",
      "parser.add_argument('--residual', type=eval, default=False, choices=[True, False])\n",
      "parser.add_argument('--autoencode', type=eval, default=False, choices=[True, False])\n",
      "parser.add_argument('--rademacher', type=eval, default=True, choices=[True, False])\n",
      "parser.add_argument('--spectral_norm', type=eval, default=False, choices=[True, False])\n",
      "parser.add_argument('--multiscale', type=eval, default=False, choices=[True, False])\n",
      "parser.add_argument('--parallel', type=eval, default=False, choices=[True, False])\n",
      "parser.add_argument('--conditional', type=eval, default=True, choices=[True, False])\n",
      "\n",
      "# Regularizations\n",
      "parser.add_argument('--l1int', type=float, default=None, help=\"int_t ||f||_1\")\n",
      "parser.add_argument('--l2int', type=float, default=None, help=\"int_t ||f||_2\")\n",
      "parser.add_argument('--dl2int', type=float, default=None, help=\"int_t ||f^T df/dt||_2\")\n",
      "parser.add_argument('--JFrobint', type=float, default=None, help=\"int_t ||df/dx||_F\")\n",
      "parser.add_argument('--JdiagFrobint', type=float, default=None, help=\"int_t ||df_i/dx_i||_F\")\n",
      "parser.add_argument('--JoffdiagFrobint', type=float, default=None, help=\"int_t ||df/dx - df_i/dx_i||_F\")\n",
      "\n",
      "parser.add_argument(\"--time_penalty\", type=float, default=0, help=\"Regularization on the end_time.\")\n",
      "parser.add_argument(\n",
      "    \"--max_grad_norm\", type=float, default=1e10,\n",
      "    help=\"Max norm of graidents (default is just stupidly high to avoid any clipping)\"\n",
      ")\n",
      "\n",
      "parser.add_argument(\"--begin_epoch\", type=int, default=1)\n",
      "parser.add_argument(\"--resume\", type=str, default=None)\n",
      "parser.add_argument(\"--save\", type=str, default=\"experiments/cnf\")\n",
      "parser.add_argument(\"--val_freq\", type=int, default=1)\n",
      "parser.add_argument(\"--log_freq\", type=int, default=1)\n",
      "\n",
      "args = parser.parse_args()\n",
      "\n",
      "# logger\n",
      "utils.makedirs(args.save)\n",
      "logger = utils.get_logger(logpath=os.path.join(args.save, 'logs'), filepath=os.path.abspath(__file__))\n",
      "\n",
      "if args.layer_type == \"blend\":\n",
      "    logger.info(\"!! Setting time_length from None to 1.0 due to use of Blend layers.\")\n",
      "    args.time_length = 1.0\n",
      "\n",
      "logger.info(args)\n",
      "\n",
      "\n",
      "def add_noise(x):\n",
      "    \"\"\"\n",
      "    [0, 1] -> [0, 255] -> add noise -> [0, 1]\n",
      "    \"\"\"\n",
      "    if args.add_noise:\n",
      "        noise = x.new().resize_as_(x).uniform_()\n",
      "        x = x * 255 + noise\n",
      "        x = x / 256\n",
      "    return x\n",
      "\n",
      "\n",
      "def update_lr(optimizer, itr):\n",
      "    iter_frac = min(float(itr + 1) / max(args.warmup_iters, 1), 1.0)\n",
      "    lr = args.lr * iter_frac\n",
      "    for param_group in optimizer.param_groups:\n",
      "        param_group[\"lr\"] = lr\n",
      "\n",
      "\n",
      "def get_train_loader(train_set, epoch):\n",
      "    if args.batch_size_schedule != \"\":\n",
      "        epochs = [0] + list(map(int, args.batch_size_schedule.split(\"-\")))\n",
      "        n_passed = sum(np.array(epochs) <= epoch)\n",
      "        current_batch_size = int(args.batch_size * n_passed)\n",
      "    else:\n",
      "        current_batch_size = args.batch_size\n",
      "    train_loader = torch.utils.data.DataLoader(\n",
      "        dataset=train_set, batch_size=current_batch_size, shuffle=True, drop_last=True, pin_memory=True\n",
      "    )\n",
      "    logger.info(\"===> Using batch size {}. Total {} iterations/epoch.\".format(current_batch_size, len(train_loader)))\n",
      "    return train_loader\n",
      "\n",
      "\n",
      "def get_dataset(args):\n",
      "    trans = lambda im_size: tforms.Compose([tforms.Resize(im_size), tforms.ToTensor(), add_noise])\n",
      "\n",
      "    if args.data == \"mnist\":\n",
      "        im_dim = 1\n",
      "        im_size = 28 if args.imagesize is None else args.imagesize\n",
      "        train_set = dset.MNIST(root=\"./data\", train=True, transform=trans(im_size), download=True)\n",
      "        test_set = dset.MNIST(root=\"./data\", train=False, transform=trans(im_size), download=True)\n",
      "    elif args.data == \"svhn\":\n",
      "        im_dim = 3\n",
      "        im_size = 32 if args.imagesize is None else args.imagesize\n",
      "        train_set = dset.SVHN(root=\"./data\", split=\"train\", transform=trans(im_size), download=True)\n",
      "        test_set = dset.SVHN(root=\"./data\", split=\"test\", transform=trans(im_size), download=True)\n",
      "    elif args.data == \"cifar10\":\n",
      "        im_dim = 3\n",
      "        im_size = 32 if args.imagesize is None else args.imagesize\n",
      "        train_set = dset.CIFAR10(\n",
      "            root=\"./data\", train=True, transform=tforms.Compose([\n",
      "                tforms.Resize(im_size),\n",
      "                tforms.RandomHorizontalFlip(),\n",
      "                tforms.ToTensor(),\n",
      "                add_noise,\n",
      "            ]), download=True\n",
      "        )\n",
      "        test_set = dset.CIFAR10(root=\"./data\", train=False, transform=trans(im_size), download=True)\n",
      "    elif args.data == 'celeba':\n",
      "        im_dim = 3\n",
      "        im_size = 64 if args.imagesize is None else args.imagesize\n",
      "        train_set = dset.CelebA(\n",
      "            train=True, transform=tforms.Compose([\n",
      "                tforms.ToPILImage(),\n",
      "                tforms.Resize(im_size),\n",
      "                tforms.RandomHorizontalFlip(),\n",
      "                tforms.ToTensor(),\n",
      "                add_noise,\n",
      "            ])\n",
      "        )\n",
      "        test_set = dset.CelebA(\n",
      "            train=False, transform=tforms.Compose([\n",
      "                tforms.ToPILImage(),\n",
      "                tforms.Resize(im_size),\n",
      "                tforms.ToTensor(),\n",
      "                add_noise,\n",
      "            ])\n",
      "        )\n",
      "    elif args.data == 'lsun_church':\n",
      "        im_dim = 3\n",
      "        im_size = 64 if args.imagesize is None else args.imagesize\n",
      "        train_set = dset.LSUN(\n",
      "            './data', ['church_outdoor_train'], transform=tforms.Compose([\n",
      "                tforms.Resize(96),\n",
      "                tforms.RandomCrop(64),\n",
      "                tforms.Resize(im_size),\n",
      "                tforms.ToTensor(),\n",
      "                add_noise,\n",
      "            ])\n",
      "        )\n",
      "        test_set = dset.LSUN(\n",
      "            './data', ['church_outdoor_val'], transform=tforms.Compose([\n",
      "                tforms.Resize(96),\n",
      "                tforms.RandomCrop(64),\n",
      "                tforms.Resize(im_size),\n",
      "                tforms.ToTensor(),\n",
      "                add_noise,\n",
      "            ])\n",
      "        )    \n",
      "    elif args.data == 'imagenet_64':\n",
      "        im_dim = 3\n",
      "        im_size = 64 if args.imagesize is None else args.imagesize\n",
      "        train_set = dset.ImageFolder(\n",
      "            train=True, transform=tforms.Compose([\n",
      "                tforms.ToPILImage(),\n",
      "                tforms.Resize(im_size),\n",
      "                tforms.RandomHorizontalFlip(),\n",
      "                tforms.ToTensor(),\n",
      "                add_noise,\n",
      "            ])\n",
      "        )\n",
      "        test_set = dset.ImageFolder(\n",
      "            train=False, transform=tforms.Compose([\n",
      "                tforms.ToPILImage(),\n",
      "                tforms.Resize(im_size),\n",
      "                tforms.ToTensor(),\n",
      "                add_noise,\n",
      "            ])\n",
      "        )\n",
      "    \n",
      "    data_shape = (im_dim, im_size, im_size)\n",
      "    if not args.conv:\n",
      "        data_shape = (im_dim * im_size * im_size,)\n",
      "\n",
      "    test_loader = torch.utils.data.DataLoader(\n",
      "        dataset=test_set, batch_size=args.test_batch_size, shuffle=False, drop_last=True\n",
      "    )\n",
      "    return train_set, test_loader, data_shape\n",
      "\n",
      "\n",
      "def compute_bits_per_dim(x, model):\n",
      "    zero = torch.zeros(x.shape[0], 1).to(x)\n",
      "\n",
      "    # Don't use data parallelize if batch size is small.\n",
      "    # if x.shape[0] < 200:\n",
      "    #     model = model.module\n",
      "    \n",
      "    z, delta_logp = model(x, zero)  # run model forward\n",
      "\n",
      "    logpz = standard_normal_logprob(z).view(z.shape[0], -1).sum(1, keepdim=True)  # logp(z)\n",
      "    logpx = logpz - delta_logp\n",
      "\n",
      "    logpx_per_dim = torch.sum(logpx) / x.nelement()  # averaged over batches\n",
      "    bits_per_dim = -(logpx_per_dim - np.log(256)) / np.log(2)\n",
      "\n",
      "    return bits_per_dim\n",
      "\n",
      "\n",
      "def compute_bits_per_dim_and_xent(x, y, model, size_cond=10):\n",
      "    zero = torch.zeros(x.shape[0], 1).to(x)\n",
      "\n",
      "    # Don't use data parallelize if batch size is small.\n",
      "    # if x.shape[0] < 200:\n",
      "    #     model = model.module\n",
      "    \n",
      "    z, delta_logp = model(x, zero)  # run model forward\n",
      "    z_noise, z_cond = z[:,:-size_cond], z[:,-size_cond:] # split z into z for noise and z for conditional signal\n",
      "    \n",
      "    # compute bits_per_dim\n",
      "    logpz = standard_normal_logprob(z_noise).view(z_noise.shape[0], -1).sum(1, keepdim=True)  # logp(z_noise)\n",
      "    logpx = logpz - delta_logp\n",
      "    logpx_per_dim = torch.sum(logpx) / x.nelement()  # averaged over batches\n",
      "    bits_per_dim = -(logpx_per_dim - np.log(256)) / np.log(2)\n",
      "    \n",
      "    # compute xentropy loss\n",
      "    L_xent = torch.nn.CrossEntropyLoss()\n",
      "    loss_xent = L_xent(z_cond, y.to(x.get_device()))\n",
      "\n",
      "    return bits_per_dim, loss_xent\n",
      "\n",
      "\n",
      "def create_model(args, data_shape, regularization_fns):\n",
      "    hidden_dims = tuple(map(int, args.dims.split(\",\")))\n",
      "    strides = tuple(map(int, args.strides.split(\",\")))\n",
      "\n",
      "    if args.multiscale:\n",
      "        model = odenvp.ODENVP(\n",
      "            (args.batch_size, *data_shape),\n",
      "            n_blocks=args.num_blocks,\n",
      "            intermediate_dims=hidden_dims,\n",
      "            nonlinearity=args.nonlinearity,\n",
      "            alpha=args.alpha,\n",
      "            cnf_kwargs={\"T\": args.time_length, \"train_T\": args.train_T, \"regularization_fns\": regularization_fns, \"solver\": args.solver, \"atol\": args.atol, \"rtol\": args.rtol},)\n",
      "    elif args.parallel:\n",
      "        model = multiscale_parallel.MultiscaleParallelCNF(\n",
      "            (args.batch_size, *data_shape),\n",
      "            n_blocks=args.num_blocks,\n",
      "            intermediate_dims=hidden_dims,\n",
      "            alpha=args.alpha,\n",
      "            time_length=args.time_length,\n",
      "        )\n",
      "    else:\n",
      "        if args.autoencode:\n",
      "\n",
      "            def build_cnf():\n",
      "                autoencoder_diffeq = layers.AutoencoderDiffEqNet(\n",
      "                    hidden_dims=hidden_dims,\n",
      "                    input_shape=data_shape,\n",
      "                    strides=strides,\n",
      "                    conv=args.conv,\n",
      "                    layer_type=args.layer_type,\n",
      "                    nonlinearity=args.nonlinearity,\n",
      "                )\n",
      "                odefunc = layers.AutoencoderODEfunc(\n",
      "                    autoencoder_diffeq=autoencoder_diffeq,\n",
      "                    divergence_fn=args.divergence_fn,\n",
      "                    residual=args.residual,\n",
      "                    rademacher=args.rademacher,\n",
      "                )\n",
      "                cnf = layers.CNF(\n",
      "                    odefunc=odefunc,\n",
      "                    T=args.time_length,\n",
      "                    regularization_fns=regularization_fns,\n",
      "                    solver=args.solver,\n",
      "                )\n",
      "                return cnf\n",
      "        else:\n",
      "\n",
      "            def build_cnf():\n",
      "                diffeq = layers.ODEnet(\n",
      "                    hidden_dims=hidden_dims,\n",
      "                    input_shape=data_shape,\n",
      "                    strides=strides,\n",
      "                    conv=args.conv,\n",
      "                    layer_type=args.layer_type,\n",
      "                    nonlinearity=args.nonlinearity,\n",
      "                )\n",
      "                odefunc = layers.ODEfunc(\n",
      "                    diffeq=diffeq,\n",
      "                    divergence_fn=args.divergence_fn,\n",
      "                    residual=args.residual,\n",
      "                    rademacher=args.rademacher,\n",
      "                )\n",
      "                cnf = layers.CNF(\n",
      "                    odefunc=odefunc,\n",
      "                    T=args.time_length,\n",
      "                    train_T=args.train_T,\n",
      "                    regularization_fns=regularization_fns,\n",
      "                    solver=args.solver,\n",
      "                )\n",
      "                return cnf\n",
      "\n",
      "        chain = [layers.LogitTransform(alpha=args.alpha)] if args.alpha > 0 else [layers.ZeroMeanTransform()]\n",
      "        chain = chain + [build_cnf() for _ in range(args.num_blocks)]\n",
      "        if args.batch_norm:\n",
      "            chain.append(layers.MovingBatchNorm2d(data_shape[0]))\n",
      "        model = layers.SequentialFlow(chain)\n",
      "    return model\n",
      "\n",
      "\n",
      "if __name__ == \"__main__\":\n",
      "\n",
      "    # get deivce\n",
      "    device = torch.device(\"cuda:0\" if torch.cuda.is_available() else \"cpu\")\n",
      "    cvt = lambda x: x.type(torch.float32).to(device, non_blocking=True)\n",
      "\n",
      "    # load dataset\n",
      "    train_set, test_loader, data_shape = get_dataset(args)\n",
      "\n",
      "    # build model\n",
      "    regularization_fns, regularization_coeffs = create_regularization_fns(args)\n",
      "    model = create_model(args, data_shape, regularization_fns)\n",
      "\n",
      "    if args.spectral_norm: add_spectral_norm(model, logger)\n",
      "    set_cnf_options(args, model)\n",
      "\n",
      "    logger.info(model)\n",
      "    logger.info(\"Number of trainable parameters: {}\".format(count_parameters(model)))\n",
      "\n",
      "    # optimizer\n",
      "    optimizer = optim.Adam(model.parameters(), lr=args.lr, weight_decay=args.weight_decay)\n",
      "\n",
      "    # restore parameters\n",
      "    if args.resume is not None:\n",
      "        checkpt = torch.load(args.resume, map_location=lambda storage, loc: storage)\n",
      "        model.load_state_dict(checkpt[\"state_dict\"])\n",
      "        if \"optim_state_dict\" in checkpt.keys():\n",
      "            optimizer.load_state_dict(checkpt[\"optim_state_dict\"])\n",
      "            # Manually move optimizer state to device.\n",
      "            for state in optimizer.state.values():\n",
      "                for k, v in state.items():\n",
      "                    if torch.is_tensor(v):\n",
      "                        state[k] = cvt(v)\n",
      "\n",
      "    if torch.cuda.is_available():\n",
      "        model = torch.nn.DataParallel(model).cuda()\n",
      "\n",
      "    # For visualization.\n",
      "    fixed_z = cvt(torch.randn(100, *data_shape))\n",
      "\n",
      "    time_meter = utils.RunningAverageMeter(0.97)\n",
      "    loss_meter = utils.RunningAverageMeter(0.97)\n",
      "    steps_meter = utils.RunningAverageMeter(0.97)\n",
      "    grad_meter = utils.RunningAverageMeter(0.97)\n",
      "    tt_meter = utils.RunningAverageMeter(0.97)\n",
      "\n",
      "    if args.spectral_norm and not args.resume: spectral_norm_power_iteration(model, 500)\n",
      "\n",
      "    best_loss = float(\"inf\")\n",
      "    itr = 0\n",
      "    for epoch in range(args.begin_epoch, args.num_epochs + 1):\n",
      "        start_epoch = time.time()\n",
      "        model.train()\n",
      "        train_loader = get_train_loader(train_set, epoch)\n",
      "        for _, (x, y) in enumerate(train_loader):\n",
      "            start = time.time()\n",
      "            update_lr(optimizer, itr)\n",
      "            optimizer.zero_grad()\n",
      "\n",
      "            if not args.conv:\n",
      "                x = x.view(x.shape[0], -1)\n",
      "\n",
      "            # cast data and move to device\n",
      "            x = cvt(x)\n",
      "            \n",
      "            # compute loss\n",
      "            if args.conditional:\n",
      "                loss_nll, loss_xent = compute_bits_per_dim_and_xent(x, y, model, size_cond=10)\n",
      "                loss = loss_nll + loss_xent\n",
      "            else:\n",
      "                loss = compute_bits_per_dim(x, model)\n",
      "            \n",
      "            if regularization_coeffs:\n",
      "                reg_states = get_regularization(model, regularization_coeffs)\n",
      "                reg_loss = sum(\n",
      "                    reg_state * coeff for reg_state, coeff in zip(reg_states, regularization_coeffs) if coeff != 0\n",
      "                )\n",
      "                loss = loss + reg_loss\n",
      "            total_time = count_total_time(model)\n",
      "            loss = loss + total_time * args.time_penalty\n",
      "\n",
      "            loss.backward()\n",
      "            grad_norm = torch.nn.utils.clip_grad_norm_(model.parameters(), args.max_grad_norm)\n",
      "\n",
      "            optimizer.step()\n",
      "\n",
      "            if args.spectral_norm: spectral_norm_power_iteration(model, args.spectral_norm_niter)\n",
      "\n",
      "            time_meter.update(time.time() - start)\n",
      "            loss_meter.update(loss.item())\n",
      "            steps_meter.update(count_nfe(model))\n",
      "            grad_meter.update(grad_norm)\n",
      "            tt_meter.update(total_time)\n",
      "\n",
      "            if itr % args.log_freq == 0:\n",
      "                log_message = (\n",
      "                    \"Iter {:04d} | Time {:.4f}({:.4f}) | Bit/dim {:.4f}({:.4f}) | \"\n",
      "                    \"Steps {:.0f}({:.2f}) | Grad Norm {:.4f}({:.4f}) | Total Time {:.2f}({:.2f})\".format(\n",
      "                        itr, time_meter.val, time_meter.avg, loss_meter.val, loss_meter.avg, steps_meter.val,\n",
      "                        steps_meter.avg, grad_meter.val, grad_meter.avg, tt_meter.val, tt_meter.avg\n",
      "                    )\n",
      "                )\n",
      "                if regularization_coeffs:\n",
      "                    log_message = append_regularization_to_log(log_message, regularization_fns, reg_states)\n",
      "                logger.info(log_message)\n",
      "\n",
      "            itr += 1\n",
      "\n",
      "        # compute test loss\n",
      "        model.eval()\n",
      "        if epoch % args.val_freq == 0:\n",
      "            with torch.no_grad():\n",
      "                start = time.time()\n",
      "                logger.info(\"validating...\")\n",
      "                losses = []\n",
      "                for (x, y) in test_loader:\n",
      "                    if not args.conv:\n",
      "                        x = x.view(x.shape[0], -1)\n",
      "                    x = cvt(x)\n",
      "                    loss = compute_bits_per_dim(x, model)\n",
      "                    losses.append(loss.cpu().numpy())\n",
      "                \n",
      "                loss = np.mean(losses)\n",
      "                logger.info(\"Epoch {:04d} | Time {:.4f}, Epoch Time {:.4f}, Bit/dim {:.4f}\".format(epoch, time.time() - start, time.time() - start_epoch, loss))\n",
      "                \n",
      "                if loss < best_loss:\n",
      "                    best_loss = loss\n",
      "                    utils.makedirs(args.save)\n",
      "                    torch.save({\n",
      "                        \"args\": args,\n",
      "                        \"state_dict\": model.module.state_dict() if torch.cuda.is_available() else model.state_dict(),\n",
      "                        \"optim_state_dict\": optimizer.state_dict(),\n",
      "                    }, os.path.join(args.save, \"checkpt.pth\"))\n",
      "\n",
      "        # visualize samples and density\n",
      "        with torch.no_grad():\n",
      "            fig_filename = os.path.join(args.save, \"figs\", \"{:04d}.jpg\".format(epoch))\n",
      "            utils.makedirs(os.path.dirname(fig_filename))\n",
      "            generated_samples = model(fixed_z, reverse=True).view(-1, *data_shape)\n",
      "            save_image(generated_samples, fig_filename, nrow=10)\n",
      "\n",
      "Namespace(JFrobint=None, JdiagFrobint=None, JoffdiagFrobint=None, add_noise=True, alpha=1e-06, atol=0.0001, autoencode=False, batch_norm=False, batch_size=8000, batch_size_schedule='', begin_epoch=1, conditional=False, conv=True, data='mnist', dims='64,64,64', divergence_fn='approximate', dl2int=None, imagesize=None, l1int=None, l2int=None, layer_type='concat', log_freq=1, lr=0.01, max_grad_norm=10000000000.0, multiscale=True, nonlinearity='softplus', num_blocks=2, num_epochs=1000, parallel=False, rademacher=True, residual=False, resume=None, rtol=0.0001, save='experiments/cnf_nocond_bs8K_100timeslr_exploretol2', solver='dopri5', spectral_norm=False, spectral_norm_niter=10, step_size=None, strides='1,1,1,1', test_atol=None, test_batch_size=8000, test_rtol=None, test_solver=None, time_length=1.0, time_penalty=0, train_T=True, val_freq=1, warmup_iters=113.0, weight_decay=0.0)\n",
      "ODENVP(\n",
      "  (transforms): ModuleList(\n",
      "    (0): StackedCNFLayers(\n",
      "      (chain): ModuleList(\n",
      "        (0): LogitTransform()\n",
      "        (1): CNF(\n",
      "          (odefunc): RegularizedODEfunc(\n",
      "            (odefunc): ODEfunc(\n",
      "              (diffeq): ODEnet(\n",
      "                (layers): ModuleList(\n",
      "                  (0): ConcatConv2d(\n",
      "                    (_layer): Conv2d(2, 64, kernel_size=(3, 3), stride=(1, 1), padding=(1, 1))\n",
      "                  )\n",
      "                  (1): ConcatConv2d(\n",
      "                    (_layer): Conv2d(65, 64, kernel_size=(3, 3), stride=(1, 1), padding=(1, 1))\n",
      "                  )\n",
      "                  (2): ConcatConv2d(\n",
      "                    (_layer): Conv2d(65, 64, kernel_size=(3, 3), stride=(1, 1), padding=(1, 1))\n",
      "                  )\n",
      "                  (3): ConcatConv2d(\n",
      "                    (_layer): Conv2d(65, 1, kernel_size=(3, 3), stride=(1, 1), padding=(1, 1))\n",
      "                  )\n",
      "                )\n",
      "                (activation_fns): ModuleList(\n",
      "                  (0): Softplus(beta=1, threshold=20)\n",
      "                  (1): Softplus(beta=1, threshold=20)\n",
      "                  (2): Softplus(beta=1, threshold=20)\n",
      "                )\n",
      "              )\n",
      "            )\n",
      "          )\n",
      "        )\n",
      "        (2): CNF(\n",
      "          (odefunc): RegularizedODEfunc(\n",
      "            (odefunc): ODEfunc(\n",
      "              (diffeq): ODEnet(\n",
      "                (layers): ModuleList(\n",
      "                  (0): ConcatConv2d(\n",
      "                    (_layer): Conv2d(2, 64, kernel_size=(3, 3), stride=(1, 1), padding=(1, 1))\n",
      "                  )\n",
      "                  (1): ConcatConv2d(\n",
      "                    (_layer): Conv2d(65, 64, kernel_size=(3, 3), stride=(1, 1), padding=(1, 1))\n",
      "                  )\n",
      "                  (2): ConcatConv2d(\n",
      "                    (_layer): Conv2d(65, 64, kernel_size=(3, 3), stride=(1, 1), padding=(1, 1))\n",
      "                  )\n",
      "                  (3): ConcatConv2d(\n",
      "                    (_layer): Conv2d(65, 1, kernel_size=(3, 3), stride=(1, 1), padding=(1, 1))\n",
      "                  )\n",
      "                )\n",
      "                (activation_fns): ModuleList(\n",
      "                  (0): Softplus(beta=1, threshold=20)\n",
      "                  (1): Softplus(beta=1, threshold=20)\n",
      "                  (2): Softplus(beta=1, threshold=20)\n",
      "                )\n",
      "              )\n",
      "            )\n",
      "          )\n",
      "        )\n",
      "        (3): SqueezeLayer()\n",
      "        (4): CNF(\n",
      "          (odefunc): RegularizedODEfunc(\n",
      "            (odefunc): ODEfunc(\n",
      "              (diffeq): ODEnet(\n",
      "                (layers): ModuleList(\n",
      "                  (0): ConcatConv2d(\n",
      "                    (_layer): Conv2d(5, 64, kernel_size=(3, 3), stride=(1, 1), padding=(1, 1))\n",
      "                  )\n",
      "                  (1): ConcatConv2d(\n",
      "                    (_layer): Conv2d(65, 64, kernel_size=(3, 3), stride=(1, 1), padding=(1, 1))\n",
      "                  )\n",
      "                  (2): ConcatConv2d(\n",
      "                    (_layer): Conv2d(65, 64, kernel_size=(3, 3), stride=(1, 1), padding=(1, 1))\n",
      "                  )\n",
      "                  (3): ConcatConv2d(\n",
      "                    (_layer): Conv2d(65, 4, kernel_size=(3, 3), stride=(1, 1), padding=(1, 1))\n",
      "                  )\n",
      "                )\n",
      "                (activation_fns): ModuleList(\n",
      "                  (0): Softplus(beta=1, threshold=20)\n",
      "                  (1): Softplus(beta=1, threshold=20)\n",
      "                  (2): Softplus(beta=1, threshold=20)\n",
      "                )\n",
      "              )\n",
      "            )\n",
      "          )\n",
      "        )\n",
      "        (5): CNF(\n",
      "          (odefunc): RegularizedODEfunc(\n",
      "            (odefunc): ODEfunc(\n",
      "              (diffeq): ODEnet(\n",
      "                (layers): ModuleList(\n",
      "                  (0): ConcatConv2d(\n",
      "                    (_layer): Conv2d(5, 64, kernel_size=(3, 3), stride=(1, 1), padding=(1, 1))\n",
      "                  )\n",
      "                  (1): ConcatConv2d(\n",
      "                    (_layer): Conv2d(65, 64, kernel_size=(3, 3), stride=(1, 1), padding=(1, 1))\n",
      "                  )\n",
      "                  (2): ConcatConv2d(\n",
      "                    (_layer): Conv2d(65, 64, kernel_size=(3, 3), stride=(1, 1), padding=(1, 1))\n",
      "                  )\n",
      "                  (3): ConcatConv2d(\n",
      "                    (_layer): Conv2d(65, 4, kernel_size=(3, 3), stride=(1, 1), padding=(1, 1))\n",
      "                  )\n",
      "                )\n",
      "                (activation_fns): ModuleList(\n",
      "                  (0): Softplus(beta=1, threshold=20)\n",
      "                  (1): Softplus(beta=1, threshold=20)\n",
      "                  (2): Softplus(beta=1, threshold=20)\n",
      "                )\n",
      "              )\n",
      "            )\n",
      "          )\n",
      "        )\n",
      "      )\n",
      "    )\n",
      "    (1): StackedCNFLayers(\n",
      "      (chain): ModuleList(\n",
      "        (0): CNF(\n",
      "          (odefunc): RegularizedODEfunc(\n",
      "            (odefunc): ODEfunc(\n",
      "              (diffeq): ODEnet(\n",
      "                (layers): ModuleList(\n",
      "                  (0): ConcatConv2d(\n",
      "                    (_layer): Conv2d(3, 64, kernel_size=(3, 3), stride=(1, 1), padding=(1, 1))\n",
      "                  )\n",
      "                  (1): ConcatConv2d(\n",
      "                    (_layer): Conv2d(65, 64, kernel_size=(3, 3), stride=(1, 1), padding=(1, 1))\n",
      "                  )\n",
      "                  (2): ConcatConv2d(\n",
      "                    (_layer): Conv2d(65, 64, kernel_size=(3, 3), stride=(1, 1), padding=(1, 1))\n",
      "                  )\n",
      "                  (3): ConcatConv2d(\n",
      "                    (_layer): Conv2d(65, 2, kernel_size=(3, 3), stride=(1, 1), padding=(1, 1))\n",
      "                  )\n",
      "                )\n",
      "                (activation_fns): ModuleList(\n",
      "                  (0): Softplus(beta=1, threshold=20)\n",
      "                  (1): Softplus(beta=1, threshold=20)\n",
      "                  (2): Softplus(beta=1, threshold=20)\n",
      "                )\n",
      "              )\n",
      "            )\n",
      "          )\n",
      "        )\n",
      "        (1): CNF(\n",
      "          (odefunc): RegularizedODEfunc(\n",
      "            (odefunc): ODEfunc(\n",
      "              (diffeq): ODEnet(\n",
      "                (layers): ModuleList(\n",
      "                  (0): ConcatConv2d(\n",
      "                    (_layer): Conv2d(3, 64, kernel_size=(3, 3), stride=(1, 1), padding=(1, 1))\n",
      "                  )\n",
      "                  (1): ConcatConv2d(\n",
      "                    (_layer): Conv2d(65, 64, kernel_size=(3, 3), stride=(1, 1), padding=(1, 1))\n",
      "                  )\n",
      "                  (2): ConcatConv2d(\n",
      "                    (_layer): Conv2d(65, 64, kernel_size=(3, 3), stride=(1, 1), padding=(1, 1))\n",
      "                  )\n",
      "                  (3): ConcatConv2d(\n",
      "                    (_layer): Conv2d(65, 2, kernel_size=(3, 3), stride=(1, 1), padding=(1, 1))\n",
      "                  )\n",
      "                )\n",
      "                (activation_fns): ModuleList(\n",
      "                  (0): Softplus(beta=1, threshold=20)\n",
      "                  (1): Softplus(beta=1, threshold=20)\n",
      "                  (2): Softplus(beta=1, threshold=20)\n",
      "                )\n",
      "              )\n",
      "            )\n",
      "          )\n",
      "        )\n",
      "        (2): SqueezeLayer()\n",
      "        (3): CNF(\n",
      "          (odefunc): RegularizedODEfunc(\n",
      "            (odefunc): ODEfunc(\n",
      "              (diffeq): ODEnet(\n",
      "                (layers): ModuleList(\n",
      "                  (0): ConcatConv2d(\n",
      "                    (_layer): Conv2d(9, 64, kernel_size=(3, 3), stride=(1, 1), padding=(1, 1))\n",
      "                  )\n",
      "                  (1): ConcatConv2d(\n",
      "                    (_layer): Conv2d(65, 64, kernel_size=(3, 3), stride=(1, 1), padding=(1, 1))\n",
      "                  )\n",
      "                  (2): ConcatConv2d(\n",
      "                    (_layer): Conv2d(65, 64, kernel_size=(3, 3), stride=(1, 1), padding=(1, 1))\n",
      "                  )\n",
      "                  (3): ConcatConv2d(\n",
      "                    (_layer): Conv2d(65, 8, kernel_size=(3, 3), stride=(1, 1), padding=(1, 1))\n",
      "                  )\n",
      "                )\n",
      "                (activation_fns): ModuleList(\n",
      "                  (0): Softplus(beta=1, threshold=20)\n",
      "                  (1): Softplus(beta=1, threshold=20)\n",
      "                  (2): Softplus(beta=1, threshold=20)\n",
      "                )\n",
      "              )\n",
      "            )\n",
      "          )\n",
      "        )\n",
      "        (4): CNF(\n",
      "          (odefunc): RegularizedODEfunc(\n",
      "            (odefunc): ODEfunc(\n",
      "              (diffeq): ODEnet(\n",
      "                (layers): ModuleList(\n",
      "                  (0): ConcatConv2d(\n",
      "                    (_layer): Conv2d(9, 64, kernel_size=(3, 3), stride=(1, 1), padding=(1, 1))\n",
      "                  )\n",
      "                  (1): ConcatConv2d(\n",
      "                    (_layer): Conv2d(65, 64, kernel_size=(3, 3), stride=(1, 1), padding=(1, 1))\n",
      "                  )\n",
      "                  (2): ConcatConv2d(\n",
      "                    (_layer): Conv2d(65, 64, kernel_size=(3, 3), stride=(1, 1), padding=(1, 1))\n",
      "                  )\n",
      "                  (3): ConcatConv2d(\n",
      "                    (_layer): Conv2d(65, 8, kernel_size=(3, 3), stride=(1, 1), padding=(1, 1))\n",
      "                  )\n",
      "                )\n",
      "                (activation_fns): ModuleList(\n",
      "                  (0): Softplus(beta=1, threshold=20)\n",
      "                  (1): Softplus(beta=1, threshold=20)\n",
      "                  (2): Softplus(beta=1, threshold=20)\n",
      "                )\n",
      "              )\n",
      "            )\n",
      "          )\n",
      "        )\n",
      "      )\n",
      "    )\n",
      "    (2): StackedCNFLayers(\n",
      "      (chain): ModuleList(\n",
      "        (0): CNF(\n",
      "          (odefunc): RegularizedODEfunc(\n",
      "            (odefunc): ODEfunc(\n",
      "              (diffeq): ODEnet(\n",
      "                (layers): ModuleList(\n",
      "                  (0): ConcatConv2d(\n",
      "                    (_layer): Conv2d(5, 64, kernel_size=(3, 3), stride=(1, 1), padding=(1, 1))\n",
      "                  )\n",
      "                  (1): ConcatConv2d(\n",
      "                    (_layer): Conv2d(65, 64, kernel_size=(3, 3), stride=(1, 1), padding=(1, 1))\n",
      "                  )\n",
      "                  (2): ConcatConv2d(\n",
      "                    (_layer): Conv2d(65, 64, kernel_size=(3, 3), stride=(1, 1), padding=(1, 1))\n",
      "                  )\n",
      "                  (3): ConcatConv2d(\n",
      "                    (_layer): Conv2d(65, 4, kernel_size=(3, 3), stride=(1, 1), padding=(1, 1))\n",
      "                  )\n",
      "                )\n",
      "                (activation_fns): ModuleList(\n",
      "                  (0): Softplus(beta=1, threshold=20)\n",
      "                  (1): Softplus(beta=1, threshold=20)\n",
      "                  (2): Softplus(beta=1, threshold=20)\n",
      "                )\n",
      "              )\n",
      "            )\n",
      "          )\n",
      "        )\n",
      "        (1): CNF(\n",
      "          (odefunc): RegularizedODEfunc(\n",
      "            (odefunc): ODEfunc(\n",
      "              (diffeq): ODEnet(\n",
      "                (layers): ModuleList(\n",
      "                  (0): ConcatConv2d(\n",
      "                    (_layer): Conv2d(5, 64, kernel_size=(3, 3), stride=(1, 1), padding=(1, 1))\n",
      "                  )\n",
      "                  (1): ConcatConv2d(\n",
      "                    (_layer): Conv2d(65, 64, kernel_size=(3, 3), stride=(1, 1), padding=(1, 1))\n",
      "                  )\n",
      "                  (2): ConcatConv2d(\n",
      "                    (_layer): Conv2d(65, 64, kernel_size=(3, 3), stride=(1, 1), padding=(1, 1))\n",
      "                  )\n",
      "                  (3): ConcatConv2d(\n",
      "                    (_layer): Conv2d(65, 4, kernel_size=(3, 3), stride=(1, 1), padding=(1, 1))\n",
      "                  )\n",
      "                )\n",
      "                (activation_fns): ModuleList(\n",
      "                  (0): Softplus(beta=1, threshold=20)\n",
      "                  (1): Softplus(beta=1, threshold=20)\n",
      "                  (2): Softplus(beta=1, threshold=20)\n",
      "                )\n",
      "              )\n",
      "            )\n",
      "          )\n",
      "        )\n",
      "      )\n",
      "    )\n",
      "  )\n",
      ")\n",
      "Number of trainable parameters: 800646\n",
      "===> Using batch size 8000. Total 7 iterations/epoch.\n",
      "/tancode/repos/tan-ffjord/lib/layers/odefunc.py:286: UserWarning: To copy construct from a tensor, it is recommended to use sourceTensor.clone().detach() or sourceTensor.clone().detach().requires_grad_(True), rather than torch.tensor(sourceTensor).\n",
      "  t = torch.tensor(t).type_as(y)\n",
      "Iter 0000 | Time 58.7590(58.7590) | Bit/dim 31.0692(31.0692) | Steps 290(290.00) | Grad Norm 269.2593(269.2593) | Total Time 10.00(10.00)\n",
      "Iter 0001 | Time 19.5116(57.5816) | Bit/dim 26.2185(30.9237) | Steps 290(290.00) | Grad Norm 226.7432(267.9838) | Total Time 10.00(10.00)\n",
      "Iter 0002 | Time 19.4044(56.4363) | Bit/dim 19.0725(30.5682) | Steps 296(290.18) | Grad Norm 155.9010(264.6214) | Total Time 10.00(10.00)\n",
      "Iter 0003 | Time 22.4695(55.4173) | Bit/dim 13.6050(30.0593) | Steps 350(291.97) | Grad Norm 70.0258(258.7835) | Total Time 10.00(10.00)\n",
      "Iter 0004 | Time 26.6784(54.5551) | Bit/dim 13.3502(29.5580) | Steps 404(295.34) | Grad Norm 63.5647(252.9269) | Total Time 10.00(10.00)\n",
      "Iter 0005 | Time 26.5252(53.7142) | Bit/dim 16.3574(29.1620) | Steps 410(298.78) | Grad Norm 132.5115(249.3145) | Total Time 10.00(10.00)\n",
      "Iter 0006 | Time 27.4126(52.9252) | Bit/dim 16.7960(28.7910) | Steps 410(302.11) | Grad Norm 141.6405(246.0843) | Total Time 10.00(10.00)\n",
      "validating...\n",
      "Epoch 0001 | Time 8.8501, Epoch Time 222.0501, Bit/dim 14.1274\n"
     ]
    },
    {
     "name": "stdout",
     "output_type": "stream",
     "text": [
      "do _generate\n",
      "do _generate\n",
      "do _generate\n",
      "do _generate\n",
      "do _generate\n",
      "do _generate\n",
      "do _generate\n",
      "do _generate\n"
     ]
    },
    {
     "name": "stderr",
     "output_type": "stream",
     "text": [
      "===> Using batch size 8000. Total 7 iterations/epoch.\n",
      "Iter 0007 | Time 28.4292(52.1903) | Bit/dim 14.1724(28.3524) | Steps 410(305.35) | Grad Norm 110.1782(242.0071) | Total Time 10.00(10.00)\n",
      "Iter 0008 | Time 26.5225(51.4203) | Bit/dim 10.8243(27.8266) | Steps 404(308.31) | Grad Norm 68.7554(236.8095) | Total Time 10.00(10.00)\n",
      "Iter 0009 | Time 25.4951(50.6425) | Bit/dim 8.6043(27.2499) | Steps 386(310.64) | Grad Norm 34.3489(230.7357) | Total Time 10.00(10.00)\n",
      "Iter 0010 | Time 22.9386(49.8114) | Bit/dim 7.6753(26.6627) | Steps 338(311.46) | Grad Norm 21.7079(224.4649) | Total Time 10.00(10.00)\n",
      "Iter 0011 | Time 22.9893(49.0067) | Bit/dim 7.6147(26.0913) | Steps 338(312.26) | Grad Norm 32.6843(218.7115) | Total Time 10.00(10.00)\n",
      "Iter 0012 | Time 23.1861(48.2321) | Bit/dim 7.6990(25.5395) | Steps 338(313.03) | Grad Norm 41.5784(213.3975) | Total Time 10.00(10.00)\n",
      "Iter 0013 | Time 22.9123(47.4725) | Bit/dim 7.3613(24.9941) | Steps 338(313.78) | Grad Norm 42.8023(208.2796) | Total Time 10.00(10.00)\n",
      "validating...\n",
      "Epoch 0002 | Time 7.5817, Epoch Time 192.5248, Bit/dim 6.4546\n"
     ]
    },
    {
     "name": "stdout",
     "output_type": "stream",
     "text": [
      "do _generate\n",
      "do _generate\n",
      "do _generate\n",
      "do _generate\n",
      "do _generate\n",
      "do _generate\n",
      "do _generate\n",
      "do _generate\n"
     ]
    },
    {
     "name": "stderr",
     "output_type": "stream",
     "text": [
      "===> Using batch size 8000. Total 7 iterations/epoch.\n",
      "Iter 0014 | Time 24.1509(46.7729) | Bit/dim 6.4872(24.4389) | Steps 338(314.50) | Grad Norm 37.3812(203.1527) | Total Time 10.00(10.00)\n",
      "Iter 0015 | Time 24.7813(46.1131) | Bit/dim 5.3517(23.8663) | Steps 368(316.11) | Grad Norm 27.9036(197.8952) | Total Time 10.00(10.00)\n",
      "Iter 0016 | Time 25.2091(45.4860) | Bit/dim 4.3466(23.2807) | Steps 374(317.85) | Grad Norm 17.5473(192.4847) | Total Time 10.00(10.00)\n",
      "Iter 0017 | Time 25.3298(44.8813) | Bit/dim 3.6882(22.6929) | Steps 362(319.17) | Grad Norm 9.8323(187.0052) | Total Time 10.00(10.00)\n",
      "Iter 0018 | Time 23.8142(44.2493) | Bit/dim 3.3216(22.1118) | Steps 356(320.28) | Grad Norm 7.1777(181.6103) | Total Time 10.00(10.00)\n",
      "Iter 0019 | Time 23.9827(43.6413) | Bit/dim 3.1438(21.5428) | Steps 350(321.17) | Grad Norm 7.4452(176.3854) | Total Time 10.00(10.00)\n",
      "Iter 0020 | Time 24.5215(43.0677) | Bit/dim 3.0575(20.9882) | Steps 356(322.21) | Grad Norm 7.8070(171.3280) | Total Time 10.00(10.00)\n",
      "validating...\n",
      "Epoch 0003 | Time 8.4538, Epoch Time 192.4851, Bit/dim 2.9789\n"
     ]
    },
    {
     "name": "stdout",
     "output_type": "stream",
     "text": [
      "do _generate\n",
      "do _generate\n",
      "do _generate\n",
      "do _generate\n",
      "do _generate\n",
      "do _generate\n",
      "do _generate\n",
      "do _generate\n"
     ]
    },
    {
     "name": "stderr",
     "output_type": "stream",
     "text": [
      "===> Using batch size 8000. Total 7 iterations/epoch.\n",
      "Iter 0021 | Time 25.3792(42.5371) | Bit/dim 2.9971(20.4485) | Steps 374(323.77) | Grad Norm 7.9892(166.4279) | Total Time 10.00(10.00)\n",
      "Iter 0022 | Time 28.3252(42.1107) | Bit/dim 2.9353(19.9231) | Steps 392(325.81) | Grad Norm 7.8724(161.6712) | Total Time 10.00(10.00)\n",
      "Iter 0023 | Time 29.5363(41.7335) | Bit/dim 2.8712(19.4115) | Steps 410(328.34) | Grad Norm 7.2073(157.0373) | Total Time 10.00(10.00)\n",
      "Iter 0024 | Time 29.1978(41.3574) | Bit/dim 2.8281(18.9140) | Steps 422(331.15) | Grad Norm 6.1084(152.5094) | Total Time 10.00(10.00)\n",
      "Iter 0025 | Time 32.8362(41.1018) | Bit/dim 2.8095(18.4309) | Steps 440(334.41) | Grad Norm 5.0525(148.0857) | Total Time 10.00(10.00)\n",
      "Iter 0026 | Time 33.0821(40.8612) | Bit/dim 2.8316(17.9629) | Steps 452(337.94) | Grad Norm 4.5611(143.7800) | Total Time 10.00(10.00)\n",
      "Iter 0027 | Time 33.8479(40.6508) | Bit/dim 2.8698(17.5101) | Steps 452(341.36) | Grad Norm 4.6773(139.6069) | Total Time 10.00(10.00)\n",
      "validating...\n",
      "Epoch 0004 | Time 9.5648, Epoch Time 234.1254, Bit/dim 2.8937\n"
     ]
    },
    {
     "name": "stdout",
     "output_type": "stream",
     "text": [
      "do _generate\n",
      "do _generate\n",
      "do _generate\n",
      "do _generate\n",
      "do _generate\n",
      "do _generate\n",
      "do _generate\n",
      "do _generate\n"
     ]
    },
    {
     "name": "stderr",
     "output_type": "stream",
     "text": [
      "===> Using batch size 8000. Total 7 iterations/epoch.\n",
      "Iter 0028 | Time 33.7986(40.4452) | Bit/dim 2.9094(17.0721) | Steps 458(344.86) | Grad Norm 5.0065(135.5689) | Total Time 10.00(10.00)\n",
      "Iter 0029 | Time 33.7986(40.2458) | Bit/dim 2.9253(16.6477) | Steps 458(348.26) | Grad Norm 5.1562(131.6565) | Total Time 10.00(10.00)\n",
      "Iter 0030 | Time 34.7295(40.0803) | Bit/dim 2.8974(16.2352) | Steps 458(351.55) | Grad Norm 4.9812(127.8562) | Total Time 10.00(10.00)\n",
      "Iter 0031 | Time 31.4575(39.8216) | Bit/dim 2.8514(15.8337) | Steps 440(354.20) | Grad Norm 4.6174(124.1591) | Total Time 10.00(10.00)\n",
      "Iter 0032 | Time 32.2350(39.5940) | Bit/dim 2.7819(15.4421) | Steps 440(356.78) | Grad Norm 4.1937(120.5601) | Total Time 10.00(10.00)\n",
      "Iter 0033 | Time 31.5083(39.3515) | Bit/dim 2.6989(15.0598) | Steps 434(359.09) | Grad Norm 3.8541(117.0589) | Total Time 10.00(10.00)\n",
      "Iter 0034 | Time 30.6917(39.0917) | Bit/dim 2.6076(14.6862) | Steps 434(361.34) | Grad Norm 3.6024(113.6552) | Total Time 10.00(10.00)\n",
      "validating...\n",
      "Epoch 0005 | Time 9.4942, Epoch Time 249.8318, Bit/dim 2.5085\n"
     ]
    },
    {
     "name": "stdout",
     "output_type": "stream",
     "text": [
      "do _generate\n",
      "do _generate\n",
      "do _generate\n",
      "do _generate\n",
      "do _generate\n",
      "do _generate\n",
      "do _generate\n",
      "do _generate\n"
     ]
    },
    {
     "name": "stderr",
     "output_type": "stream",
     "text": [
      "===> Using batch size 8000. Total 7 iterations/epoch.\n",
      "Iter 0035 | Time 30.0406(38.8201) | Bit/dim 2.5236(14.3214) | Steps 434(363.52) | Grad Norm 3.3615(110.3464) | Total Time 10.00(10.00)\n",
      "Iter 0036 | Time 28.1760(38.5008) | Bit/dim 2.4373(13.9648) | Steps 410(364.91) | Grad Norm 2.9627(107.1249) | Total Time 10.00(10.00)\n",
      "Iter 0037 | Time 28.5635(38.2027) | Bit/dim 2.3749(13.6171) | Steps 404(366.09) | Grad Norm 2.2597(103.9790) | Total Time 10.00(10.00)\n",
      "Iter 0038 | Time 28.8656(37.9226) | Bit/dim 2.3595(13.2794) | Steps 404(367.22) | Grad Norm 4.5849(100.9971) | Total Time 10.00(10.00)\n",
      "Iter 0039 | Time 28.6758(37.6452) | Bit/dim 2.3902(12.9527) | Steps 404(368.33) | Grad Norm 13.0535(98.3588) | Total Time 10.00(10.00)\n",
      "Iter 0040 | Time 29.0034(37.3859) | Bit/dim 2.3425(12.6344) | Steps 416(369.76) | Grad Norm 7.6081(95.6363) | Total Time 10.00(10.00)\n",
      "Iter 0041 | Time 27.1108(37.0777) | Bit/dim 2.3086(12.3247) | Steps 398(370.60) | Grad Norm 1.9321(92.8252) | Total Time 10.00(10.00)\n",
      "validating...\n",
      "Epoch 0006 | Time 8.8249, Epoch Time 221.4265, Bit/dim 2.2794\n"
     ]
    },
    {
     "name": "stdout",
     "output_type": "stream",
     "text": [
      "do _generate\n",
      "do _generate\n",
      "do _generate\n",
      "do _generate\n",
      "do _generate\n",
      "do _generate\n",
      "do _generate\n",
      "do _generate\n"
     ]
    },
    {
     "name": "stderr",
     "output_type": "stream",
     "text": [
      "===> Using batch size 8000. Total 7 iterations/epoch.\n",
      "Iter 0042 | Time 26.9307(36.7733) | Bit/dim 2.2941(12.0237) | Steps 398(371.43) | Grad Norm 2.5429(90.1167) | Total Time 10.00(10.00)\n",
      "Iter 0043 | Time 27.0762(36.4824) | Bit/dim 2.2928(11.7318) | Steps 398(372.22) | Grad Norm 3.5414(87.5195) | Total Time 10.00(10.00)\n",
      "Iter 0044 | Time 26.7176(36.1894) | Bit/dim 2.2915(11.4486) | Steps 392(372.82) | Grad Norm 3.9171(85.0114) | Total Time 10.00(10.00)\n",
      "Iter 0045 | Time 26.9216(35.9114) | Bit/dim 2.2624(11.1730) | Steps 392(373.39) | Grad Norm 3.7607(82.5739) | Total Time 10.00(10.00)\n",
      "Iter 0046 | Time 28.4053(35.6862) | Bit/dim 2.2339(10.9048) | Steps 398(374.13) | Grad Norm 3.1091(80.1899) | Total Time 10.00(10.00)\n",
      "Iter 0047 | Time 25.2703(35.3737) | Bit/dim 2.1973(10.6436) | Steps 380(374.31) | Grad Norm 2.1298(77.8481) | Total Time 10.00(10.00)\n",
      "Iter 0048 | Time 24.5682(35.0496) | Bit/dim 2.1756(10.3896) | Steps 374(374.30) | Grad Norm 1.3217(75.5523) | Total Time 10.00(10.00)\n",
      "validating...\n",
      "Epoch 0007 | Time 8.5670, Epoch Time 206.4846, Bit/dim 2.1614\n"
     ]
    },
    {
     "name": "stdout",
     "output_type": "stream",
     "text": [
      "do _generate\n",
      "do _generate\n",
      "do _generate\n",
      "do _generate\n",
      "do _generate\n",
      "do _generate\n",
      "do _generate\n",
      "do _generate\n"
     ]
    },
    {
     "name": "stderr",
     "output_type": "stream",
     "text": [
      "===> Using batch size 8000. Total 7 iterations/epoch.\n",
      "Iter 0049 | Time 24.5416(34.7343) | Bit/dim 2.1716(10.1430) | Steps 374(374.29) | Grad Norm 1.7175(73.3373) | Total Time 10.00(10.00)\n",
      "Iter 0050 | Time 24.3478(34.4227) | Bit/dim 2.1760(9.9040) | Steps 368(374.10) | Grad Norm 2.6050(71.2153) | Total Time 10.00(10.00)\n",
      "Iter 0051 | Time 24.4438(34.1233) | Bit/dim 2.1718(9.6721) | Steps 368(373.92) | Grad Norm 2.9634(69.1678) | Total Time 10.00(10.00)\n",
      "Iter 0052 | Time 25.3523(33.8602) | Bit/dim 2.1553(9.4466) | Steps 368(373.74) | Grad Norm 2.6174(67.1712) | Total Time 10.00(10.00)\n",
      "Iter 0053 | Time 24.3735(33.5756) | Bit/dim 2.1311(9.2271) | Steps 368(373.57) | Grad Norm 1.7897(65.2098) | Total Time 10.00(10.00)\n",
      "Iter 0054 | Time 24.1246(33.2921) | Bit/dim 2.1119(9.0136) | Steps 362(373.22) | Grad Norm 1.1242(63.2872) | Total Time 10.00(10.00)\n",
      "Iter 0055 | Time 23.9543(33.0119) | Bit/dim 2.1008(8.8063) | Steps 362(372.88) | Grad Norm 1.3717(61.4298) | Total Time 10.00(10.00)\n",
      "validating...\n",
      "Epoch 0008 | Time 8.2362, Epoch Time 191.4829, Bit/dim 2.0747\n"
     ]
    },
    {
     "name": "stdout",
     "output_type": "stream",
     "text": [
      "do _generate\n",
      "do _generate\n",
      "do _generate\n",
      "do _generate\n",
      "do _generate\n",
      "do _generate\n",
      "do _generate\n",
      "do _generate\n"
     ]
    },
    {
     "name": "stderr",
     "output_type": "stream",
     "text": [
      "===> Using batch size 8000. Total 7 iterations/epoch.\n",
      "Iter 0056 | Time 24.0473(32.7430) | Bit/dim 2.0927(8.6048) | Steps 356(372.38) | Grad Norm 1.9111(59.6442) | Total Time 10.00(10.00)\n",
      "Iter 0057 | Time 24.6573(32.5004) | Bit/dim 2.0876(8.4093) | Steps 356(371.89) | Grad Norm 2.0937(57.9177) | Total Time 10.00(10.00)\n",
      "Iter 0058 | Time 24.0808(32.2479) | Bit/dim 2.0706(8.2192) | Steps 356(371.41) | Grad Norm 1.7828(56.2336) | Total Time 10.00(10.00)\n",
      "Iter 0059 | Time 24.0793(32.0028) | Bit/dim 2.0503(8.0341) | Steps 356(370.95) | Grad Norm 1.2213(54.5833) | Total Time 10.00(10.00)\n",
      "Iter 0060 | Time 24.5787(31.7801) | Bit/dim 2.0421(7.8543) | Steps 356(370.50) | Grad Norm 1.0479(52.9772) | Total Time 10.00(10.00)\n",
      "Iter 0061 | Time 24.1295(31.5506) | Bit/dim 2.0307(7.6796) | Steps 356(370.06) | Grad Norm 1.3375(51.4280) | Total Time 10.00(10.00)\n",
      "Iter 0062 | Time 24.0270(31.3248) | Bit/dim 2.0223(7.5099) | Steps 356(369.64) | Grad Norm 1.4056(49.9273) | Total Time 10.00(10.00)\n",
      "validating...\n",
      "Epoch 0009 | Time 8.1966, Epoch Time 190.0557, Bit/dim 1.9983\n"
     ]
    },
    {
     "name": "stdout",
     "output_type": "stream",
     "text": [
      "do _generate\n",
      "do _generatedo _generate\n",
      "\n",
      "do _generate\n",
      "do _generate\n",
      "do _generate\n",
      "do _generate\n",
      "do _generate\n"
     ]
    },
    {
     "name": "stderr",
     "output_type": "stream",
     "text": [
      "===> Using batch size 8000. Total 7 iterations/epoch.\n",
      "Iter 0063 | Time 24.6769(31.1254) | Bit/dim 2.0072(7.3448) | Steps 362(369.41) | Grad Norm 1.1091(48.4628) | Total Time 10.00(10.00)\n",
      "Iter 0064 | Time 24.2711(30.9198) | Bit/dim 2.0119(7.1848) | Steps 362(369.19) | Grad Norm 0.9235(47.0366) | Total Time 10.00(10.00)\n",
      "Iter 0065 | Time 24.5218(30.7278) | Bit/dim 1.9993(7.0293) | Steps 362(368.97) | Grad Norm 1.0182(45.6561) | Total Time 10.00(10.00)\n",
      "Iter 0066 | Time 24.3005(30.5350) | Bit/dim 1.9933(6.8782) | Steps 356(368.59) | Grad Norm 1.0091(44.3167) | Total Time 10.00(10.00)\n",
      "Iter 0067 | Time 24.2884(30.3476) | Bit/dim 1.9815(6.7313) | Steps 356(368.21) | Grad Norm 0.8064(43.0114) | Total Time 10.00(10.00)\n",
      "Iter 0068 | Time 25.7448(30.2095) | Bit/dim 1.9823(6.5888) | Steps 344(367.48) | Grad Norm 0.6865(41.7416) | Total Time 10.00(10.00)\n",
      "Iter 0069 | Time 24.1290(30.0271) | Bit/dim 1.9801(6.4506) | Steps 356(367.14) | Grad Norm 0.8690(40.5154) | Total Time 10.00(10.00)\n",
      "validating...\n",
      "Epoch 0010 | Time 7.9610, Epoch Time 192.4557, Bit/dim 1.9482\n"
     ]
    },
    {
     "name": "stdout",
     "output_type": "stream",
     "text": [
      "do _generate\n",
      "do _generate\n",
      "do _generate\n",
      "do _generate\n",
      "do _generate\n",
      "do _generate\n",
      "do _generate\n",
      "do _generate\n"
     ]
    },
    {
     "name": "stderr",
     "output_type": "stream",
     "text": [
      "===> Using batch size 8000. Total 7 iterations/epoch.\n",
      "Iter 0070 | Time 24.1631(29.8512) | Bit/dim 1.9663(6.3160) | Steps 350(366.62) | Grad Norm 0.9322(39.3279) | Total Time 10.00(10.00)\n",
      "Iter 0071 | Time 23.7972(29.6696) | Bit/dim 1.9550(6.1852) | Steps 350(366.12) | Grad Norm 0.6930(38.1689) | Total Time 10.00(10.00)\n",
      "Iter 0072 | Time 24.5530(29.5161) | Bit/dim 1.9440(6.0580) | Steps 356(365.82) | Grad Norm 0.4646(37.0378) | Total Time 10.00(10.00)\n",
      "Iter 0073 | Time 24.6204(29.3692) | Bit/dim 1.9408(5.9345) | Steps 356(365.53) | Grad Norm 0.6580(35.9464) | Total Time 10.00(10.00)\n",
      "Iter 0074 | Time 24.0610(29.2100) | Bit/dim 1.9341(5.8144) | Steps 356(365.24) | Grad Norm 0.6238(34.8867) | Total Time 10.00(10.00)\n",
      "Iter 0075 | Time 24.5060(29.0688) | Bit/dim 1.9256(5.6978) | Steps 356(364.96) | Grad Norm 0.8414(33.8653) | Total Time 10.00(10.00)\n",
      "Iter 0076 | Time 25.3851(28.9583) | Bit/dim 1.9173(5.5844) | Steps 356(364.69) | Grad Norm 0.8364(32.8745) | Total Time 10.00(10.00)\n",
      "validating...\n",
      "Epoch 0011 | Time 8.1294, Epoch Time 191.4041, Bit/dim 1.8985\n"
     ]
    },
    {
     "name": "stdout",
     "output_type": "stream",
     "text": [
      "do _generate\n",
      "do _generate\n",
      "do _generate\n",
      "do _generate\n",
      "do _generate\n",
      "do _generate\n",
      "do _generate\n",
      "do _generate\n"
     ]
    },
    {
     "name": "stderr",
     "output_type": "stream",
     "text": [
      "===> Using batch size 8000. Total 7 iterations/epoch.\n",
      "Iter 0077 | Time 24.8404(28.8348) | Bit/dim 1.9192(5.4744) | Steps 356(364.43) | Grad Norm 0.7783(31.9116) | Total Time 10.00(10.00)\n",
      "Iter 0078 | Time 25.2449(28.7271) | Bit/dim 1.9079(5.3674) | Steps 356(364.18) | Grad Norm 0.9212(30.9819) | Total Time 10.00(10.00)\n",
      "Iter 0079 | Time 26.4848(28.6598) | Bit/dim 1.8958(5.2633) | Steps 368(364.29) | Grad Norm 0.7789(30.0758) | Total Time 10.00(10.00)\n",
      "Iter 0080 | Time 25.4272(28.5629) | Bit/dim 1.8937(5.1622) | Steps 368(364.41) | Grad Norm 0.6310(29.1924) | Total Time 10.00(10.00)\n",
      "Iter 0081 | Time 26.4912(28.5007) | Bit/dim 1.8927(5.0641) | Steps 368(364.51) | Grad Norm 0.7449(28.3390) | Total Time 10.00(10.00)\n",
      "Iter 0082 | Time 26.6728(28.4459) | Bit/dim 1.8863(4.9688) | Steps 368(364.62) | Grad Norm 1.0865(27.5214) | Total Time 10.00(10.00)\n",
      "Iter 0083 | Time 27.8842(28.4290) | Bit/dim 1.8798(4.8761) | Steps 368(364.72) | Grad Norm 0.8055(26.7200) | Total Time 10.00(10.00)\n",
      "validating...\n",
      "Epoch 0012 | Time 8.3612, Epoch Time 203.6745, Bit/dim 1.8593\n"
     ]
    },
    {
     "name": "stdout",
     "output_type": "stream",
     "text": [
      "do _generate\n",
      "do _generate\n",
      "do _generate\n",
      "do _generate\n",
      "do _generate\n",
      "do _generate\n",
      "do _generate\n",
      "do _generate\n"
     ]
    },
    {
     "name": "stderr",
     "output_type": "stream",
     "text": [
      "===> Using batch size 8000. Total 7 iterations/epoch.\n",
      "Iter 0084 | Time 26.9615(28.3850) | Bit/dim 1.8742(4.7860) | Steps 368(364.82) | Grad Norm 1.1169(25.9519) | Total Time 10.00(10.00)\n",
      "Iter 0085 | Time 26.7777(28.3368) | Bit/dim 1.8722(4.6986) | Steps 368(364.91) | Grad Norm 1.7466(25.2257) | Total Time 10.00(10.00)\n",
      "Iter 0086 | Time 27.3695(28.3078) | Bit/dim 1.8796(4.6140) | Steps 374(365.19) | Grad Norm 5.1480(24.6234) | Total Time 10.00(10.00)\n",
      "Iter 0087 | Time 27.6013(28.2866) | Bit/dim 1.9269(4.5334) | Steps 374(365.45) | Grad Norm 9.9705(24.1838) | Total Time 10.00(10.00)\n",
      "Iter 0088 | Time 27.5040(28.2631) | Bit/dim 1.9737(4.4566) | Steps 374(365.71) | Grad Norm 19.4644(24.0422) | Total Time 10.00(10.00)\n",
      "Iter 0089 | Time 29.9186(28.3128) | Bit/dim 1.9937(4.3827) | Steps 386(366.32) | Grad Norm 12.1053(23.6841) | Total Time 10.00(10.00)\n",
      "Iter 0090 | Time 28.3907(28.3151) | Bit/dim 1.9493(4.3097) | Steps 380(366.73) | Grad Norm 7.6575(23.2033) | Total Time 10.00(10.00)\n",
      "validating...\n",
      "Epoch 0013 | Time 8.5420, Epoch Time 215.1653, Bit/dim 1.8880\n"
     ]
    },
    {
     "name": "stdout",
     "output_type": "stream",
     "text": [
      "do _generate\n",
      "do _generate\n",
      "do _generate\n",
      "do _generate\n",
      "do _generate\n",
      "do _generate\n",
      "do _generate\n",
      "do _generate\n"
     ]
    },
    {
     "name": "stderr",
     "output_type": "stream",
     "text": [
      "===> Using batch size 8000. Total 7 iterations/epoch.\n",
      "Iter 0091 | Time 27.0467(28.2770) | Bit/dim 1.9051(4.2376) | Steps 374(366.94) | Grad Norm 7.6081(22.7354) | Total Time 10.00(10.00)\n",
      "Iter 0092 | Time 24.7755(28.1720) | Bit/dim 1.9122(4.1678) | Steps 350(366.44) | Grad Norm 6.8305(22.2583) | Total Time 10.00(10.00)\n",
      "Iter 0093 | Time 27.0393(28.1380) | Bit/dim 1.8882(4.0994) | Steps 368(366.48) | Grad Norm 8.6264(21.8493) | Total Time 10.00(10.00)\n",
      "Iter 0094 | Time 26.9991(28.1038) | Bit/dim 1.9298(4.0344) | Steps 368(366.53) | Grad Norm 5.5223(21.3595) | Total Time 10.00(10.00)\n",
      "Iter 0095 | Time 28.4730(28.1149) | Bit/dim 1.9149(3.9708) | Steps 368(366.57) | Grad Norm 4.0876(20.8414) | Total Time 10.00(10.00)\n",
      "Iter 0096 | Time 25.6013(28.0395) | Bit/dim 1.9061(3.9088) | Steps 356(366.26) | Grad Norm 5.2624(20.3740) | Total Time 10.00(10.00)\n",
      "Iter 0097 | Time 24.5863(27.9359) | Bit/dim 1.8801(3.8480) | Steps 350(365.77) | Grad Norm 5.1350(19.9168) | Total Time 10.00(10.00)\n",
      "validating...\n",
      "Epoch 0014 | Time 8.1895, Epoch Time 204.9031, Bit/dim 1.9942\n"
     ]
    },
    {
     "name": "stdout",
     "output_type": "stream",
     "text": [
      "do _generate\n",
      "do _generate\n",
      "do _generate\n",
      "do _generate\n",
      "do _generate\n",
      "do _generate\n",
      "do _generate\n",
      "do _generate\n"
     ]
    },
    {
     "name": "stderr",
     "output_type": "stream",
     "text": [
      "===> Using batch size 8000. Total 7 iterations/epoch.\n",
      "Iter 0098 | Time 25.1565(27.8525) | Bit/dim 2.0045(3.7927) | Steps 356(365.47) | Grad Norm 56.5538(21.0159) | Total Time 10.00(10.00)\n",
      "Iter 0099 | Time 32.3503(27.9875) | Bit/dim 2.0073(3.7391) | Steps 404(366.63) | Grad Norm 5.3155(20.5449) | Total Time 10.00(10.00)\n",
      "Iter 0100 | Time 34.7152(28.1893) | Bit/dim 2.0611(3.6888) | Steps 428(368.47) | Grad Norm 2.1641(19.9935) | Total Time 10.00(10.00)\n",
      "Iter 0101 | Time 33.9488(28.3621) | Bit/dim 2.1077(3.6413) | Steps 422(370.08) | Grad Norm 5.0020(19.5438) | Total Time 10.00(10.00)\n",
      "Iter 0102 | Time 34.9106(28.5585) | Bit/dim 2.0760(3.5944) | Steps 434(372.00) | Grad Norm 3.2115(19.0538) | Total Time 10.00(10.00)\n",
      "Iter 0103 | Time 36.0214(28.7824) | Bit/dim 2.0773(3.5489) | Steps 452(374.40) | Grad Norm 6.0168(18.6627) | Total Time 10.00(10.00)\n",
      "Iter 0104 | Time 33.7110(28.9303) | Bit/dim 2.0276(3.5032) | Steps 434(376.18) | Grad Norm 1.5016(18.1478) | Total Time 10.00(10.00)\n",
      "validating...\n",
      "Epoch 0015 | Time 9.7726, Epoch Time 253.0965, Bit/dim 2.0435\n"
     ]
    },
    {
     "name": "stdout",
     "output_type": "stream",
     "text": [
      "do _generate\n",
      "do _generate\n",
      "do _generate\n",
      "do _generate\n",
      "do _generate\n",
      "do _generate\n",
      "do _generate\n",
      "do _generate\n"
     ]
    },
    {
     "name": "stderr",
     "output_type": "stream",
     "text": [
      "===> Using batch size 8000. Total 7 iterations/epoch.\n",
      "Iter 0105 | Time 35.0421(29.1136) | Bit/dim 2.0563(3.4598) | Steps 446(378.28) | Grad Norm 9.5778(17.8907) | Total Time 10.00(10.00)\n",
      "Iter 0106 | Time 39.9699(29.4393) | Bit/dim 2.2471(3.4234) | Steps 506(382.11) | Grad Norm 14.8085(17.7983) | Total Time 10.00(10.00)\n",
      "Iter 0107 | Time 40.1183(29.7597) | Bit/dim 2.1530(3.3853) | Steps 458(384.39) | Grad Norm 8.2167(17.5108) | Total Time 10.00(10.00)\n",
      "Iter 0108 | Time 37.5499(29.9934) | Bit/dim 2.1723(3.3489) | Steps 446(386.23) | Grad Norm 3.5107(17.0908) | Total Time 10.00(10.00)\n",
      "Iter 0109 | Time 40.6418(30.3129) | Bit/dim 2.1073(3.3117) | Steps 464(388.57) | Grad Norm 2.9807(16.6675) | Total Time 10.00(10.00)\n",
      "Iter 0110 | Time 36.1115(30.4868) | Bit/dim 2.0705(3.2745) | Steps 440(390.11) | Grad Norm 3.7875(16.2811) | Total Time 10.00(10.00)\n",
      "Iter 0111 | Time 37.0646(30.6841) | Bit/dim 2.0105(3.2365) | Steps 446(391.79) | Grad Norm 2.2098(15.8590) | Total Time 10.00(10.00)\n",
      "validating...\n",
      "Epoch 0016 | Time 9.0131, Epoch Time 287.6016, Bit/dim 2.0660\n"
     ]
    },
    {
     "name": "stdout",
     "output_type": "stream",
     "text": [
      "do _generate\n",
      "do _generate\n",
      "do _generate\n",
      "do _generate\n",
      "do _generate\n",
      "do _generate\n",
      "do _generate\n",
      "do _generate\n"
     ]
    },
    {
     "name": "stderr",
     "output_type": "stream",
     "text": [
      "===> Using batch size 8000. Total 7 iterations/epoch.\n",
      "Iter 0112 | Time 34.8496(30.8091) | Bit/dim 2.0762(3.2017) | Steps 416(392.51) | Grad Norm 8.8151(15.6477) | Total Time 10.00(10.00)\n",
      "Iter 0113 | Time 35.3831(30.9463) | Bit/dim 2.1988(3.1716) | Steps 434(393.76) | Grad Norm 11.4100(15.5205) | Total Time 10.00(10.00)\n",
      "Iter 0114 | Time 34.2513(31.0455) | Bit/dim 1.9246(3.1342) | Steps 422(394.61) | Grad Norm 1.0010(15.0849) | Total Time 10.00(10.00)\n",
      "Iter 0115 | Time 34.0994(31.1371) | Bit/dim 2.0830(3.1027) | Steps 434(395.79) | Grad Norm 9.2200(14.9090) | Total Time 10.00(10.00)\n",
      "Iter 0116 | Time 34.4753(31.2372) | Bit/dim 1.9790(3.0690) | Steps 416(396.39) | Grad Norm 2.1945(14.5276) | Total Time 10.00(10.00)\n",
      "Iter 0117 | Time 32.3393(31.2703) | Bit/dim 2.0336(3.0379) | Steps 416(396.98) | Grad Norm 4.2567(14.2194) | Total Time 10.00(10.00)\n",
      "Iter 0118 | Time 33.0095(31.3225) | Bit/dim 2.0030(3.0069) | Steps 416(397.55) | Grad Norm 4.0367(13.9140) | Total Time 10.00(10.00)\n",
      "validating...\n",
      "Epoch 0017 | Time 8.8922, Epoch Time 259.2336, Bit/dim 1.9233\n"
     ]
    },
    {
     "name": "stdout",
     "output_type": "stream",
     "text": [
      "do _generate\n",
      "do _generate\n",
      "do _generate\n",
      "do _generate\n",
      "do _generate\n",
      "do _generate\n",
      "do _generate\n",
      "do _generate\n"
     ]
    },
    {
     "name": "stderr",
     "output_type": "stream",
     "text": [
      "===> Using batch size 8000. Total 7 iterations/epoch.\n",
      "Iter 0119 | Time 34.1421(31.4071) | Bit/dim 1.9417(2.9749) | Steps 410(397.93) | Grad Norm 2.0133(13.5569) | Total Time 10.00(10.00)\n",
      "Iter 0120 | Time 33.2164(31.4613) | Bit/dim 1.9460(2.9440) | Steps 416(398.47) | Grad Norm 2.5474(13.2266) | Total Time 10.00(10.00)\n",
      "Iter 0121 | Time 32.4436(31.4908) | Bit/dim 1.9025(2.9128) | Steps 422(399.17) | Grad Norm 2.6057(12.9080) | Total Time 10.00(10.00)\n",
      "Iter 0122 | Time 32.4908(31.5208) | Bit/dim 1.8687(2.8815) | Steps 416(399.68) | Grad Norm 1.6892(12.5715) | Total Time 10.00(10.00)\n",
      "Iter 0123 | Time 32.9929(31.5650) | Bit/dim 1.8845(2.8516) | Steps 422(400.35) | Grad Norm 3.4305(12.2972) | Total Time 10.00(10.00)\n",
      "Iter 0124 | Time 30.1026(31.5211) | Bit/dim 1.8555(2.8217) | Steps 398(400.28) | Grad Norm 3.0983(12.0213) | Total Time 10.00(10.00)\n",
      "Iter 0125 | Time 30.2326(31.4825) | Bit/dim 1.8442(2.7924) | Steps 392(400.03) | Grad Norm 3.2778(11.7590) | Total Time 10.00(10.00)\n",
      "validating...\n",
      "Epoch 0018 | Time 8.3391, Epoch Time 246.2938, Bit/dim 1.8050\n"
     ]
    },
    {
     "name": "stdout",
     "output_type": "stream",
     "text": [
      "do _generate\n",
      "do _generate\n",
      "do _generate\n",
      "do _generate\n",
      "do _generate\n",
      "do _generate\n",
      "do _generate\n",
      "do _generate\n"
     ]
    },
    {
     "name": "stderr",
     "output_type": "stream",
     "text": [
      "===> Using batch size 8000. Total 7 iterations/epoch.\n",
      "Iter 0126 | Time 31.1358(31.4721) | Bit/dim 1.8201(2.7632) | Steps 392(399.79) | Grad Norm 2.4226(11.4789) | Total Time 10.00(10.00)\n",
      "Iter 0127 | Time 27.5153(31.3534) | Bit/dim 1.7965(2.7342) | Steps 380(399.20) | Grad Norm 2.6245(11.2132) | Total Time 10.00(10.00)\n",
      "Iter 0128 | Time 30.2098(31.3190) | Bit/dim 1.7832(2.7057) | Steps 398(399.16) | Grad Norm 3.2555(10.9745) | Total Time 10.00(10.00)\n",
      "Iter 0129 | Time 28.1558(31.2241) | Bit/dim 1.7612(2.6773) | Steps 374(398.40) | Grad Norm 0.7753(10.6685) | Total Time 10.00(10.00)\n",
      "Iter 0130 | Time 28.4934(31.1422) | Bit/dim 1.7645(2.6499) | Steps 374(397.67) | Grad Norm 3.7803(10.4619) | Total Time 10.00(10.00)\n",
      "Iter 0131 | Time 26.4613(31.0018) | Bit/dim 1.7482(2.6229) | Steps 362(396.60) | Grad Norm 2.3296(10.2179) | Total Time 10.00(10.00)\n",
      "Iter 0132 | Time 27.2341(30.8888) | Bit/dim 1.7361(2.5963) | Steps 362(395.56) | Grad Norm 2.0394(9.9726) | Total Time 10.00(10.00)\n",
      "validating...\n",
      "Epoch 0019 | Time 8.0457, Epoch Time 219.6826, Bit/dim 1.6993\n"
     ]
    },
    {
     "name": "stdout",
     "output_type": "stream",
     "text": [
      "do _generate\n",
      "do _generate\n",
      "do _generate\n",
      "do _generate\n",
      "do _generate\n",
      "do _generate\n",
      "do _generate\n",
      "do _generate\n"
     ]
    },
    {
     "name": "stderr",
     "output_type": "stream",
     "text": [
      "===> Using batch size 8000. Total 7 iterations/epoch.\n",
      "Iter 0133 | Time 27.9685(30.8012) | Bit/dim 1.7118(2.5697) | Steps 368(394.74) | Grad Norm 3.0751(9.7656) | Total Time 10.00(10.00)\n",
      "Iter 0134 | Time 26.5236(30.6728) | Bit/dim 1.7031(2.5438) | Steps 362(393.76) | Grad Norm 1.0786(9.5050) | Total Time 10.00(10.00)\n",
      "Iter 0135 | Time 28.0473(30.5941) | Bit/dim 1.6858(2.5180) | Steps 362(392.80) | Grad Norm 2.5740(9.2971) | Total Time 10.00(10.00)\n",
      "Iter 0136 | Time 26.6405(30.4755) | Bit/dim 1.6834(2.4930) | Steps 362(391.88) | Grad Norm 3.2461(9.1156) | Total Time 10.00(10.00)\n",
      "Iter 0137 | Time 26.1238(30.3449) | Bit/dim 1.6723(2.4684) | Steps 356(390.80) | Grad Norm 2.3797(8.9135) | Total Time 10.00(10.00)\n",
      "Iter 0138 | Time 25.5196(30.2001) | Bit/dim 1.6509(2.4438) | Steps 356(389.76) | Grad Norm 1.5491(8.6925) | Total Time 10.00(10.00)\n",
      "Iter 0139 | Time 24.1413(30.0184) | Bit/dim 1.6574(2.4202) | Steps 350(388.57) | Grad Norm 3.9457(8.5501) | Total Time 10.00(10.00)\n",
      "validating...\n",
      "Epoch 0020 | Time 7.8152, Epoch Time 205.0446, Bit/dim 1.6553\n"
     ]
    },
    {
     "name": "stdout",
     "output_type": "stream",
     "text": [
      "do _generate\n",
      "do _generate\n",
      "do _generate\n",
      "do _generate\n",
      "do _generate\n",
      "do _generate\n",
      "do _generate\n",
      "do _generate\n"
     ]
    },
    {
     "name": "stderr",
     "output_type": "stream",
     "text": [
      "===> Using batch size 8000. Total 7 iterations/epoch.\n",
      "Iter 0140 | Time 25.6193(29.8864) | Bit/dim 1.6754(2.3979) | Steps 356(387.59) | Grad Norm 7.5453(8.5200) | Total Time 10.00(10.00)\n",
      "Iter 0141 | Time 25.8587(29.7656) | Bit/dim 1.7990(2.3799) | Steps 362(386.82) | Grad Norm 6.8626(8.4703) | Total Time 10.00(10.00)\n",
      "Iter 0142 | Time 25.0167(29.6231) | Bit/dim 1.6490(2.3580) | Steps 356(385.90) | Grad Norm 3.9106(8.3335) | Total Time 10.00(10.00)\n",
      "Iter 0143 | Time 26.4055(29.5266) | Bit/dim 2.0499(2.3488) | Steps 362(385.18) | Grad Norm 16.9278(8.5913) | Total Time 10.00(10.00)\n",
      "Iter 0144 | Time 24.8916(29.3875) | Bit/dim 1.7165(2.3298) | Steps 350(384.12) | Grad Norm 5.8923(8.5103) | Total Time 10.00(10.00)\n",
      "Iter 0145 | Time 25.3409(29.2661) | Bit/dim 1.8223(2.3146) | Steps 350(383.10) | Grad Norm 5.5768(8.4223) | Total Time 10.00(10.00)\n",
      "Iter 0146 | Time 24.5358(29.1242) | Bit/dim 1.7687(2.2982) | Steps 350(382.11) | Grad Norm 2.2942(8.2385) | Total Time 10.00(10.00)\n",
      "validating...\n",
      "Epoch 0021 | Time 7.7778, Epoch Time 197.5516, Bit/dim 1.7089\n"
     ]
    },
    {
     "name": "stdout",
     "output_type": "stream",
     "text": [
      "do _generate\n",
      "do _generate\n",
      "do _generate\n",
      "do _generate\n",
      "do _generate\n",
      "do _generate\n",
      "do _generate\n",
      "do _generate\n"
     ]
    },
    {
     "name": "stderr",
     "output_type": "stream",
     "text": [
      "===> Using batch size 8000. Total 7 iterations/epoch.\n",
      "Iter 0147 | Time 25.5639(29.0174) | Bit/dim 1.7266(2.2810) | Steps 344(380.96) | Grad Norm 2.6077(8.0696) | Total Time 10.00(10.00)\n",
      "Iter 0148 | Time 23.9889(28.8666) | Bit/dim 1.7250(2.2644) | Steps 344(379.85) | Grad Norm 2.0814(7.8899) | Total Time 10.00(10.00)\n",
      "Iter 0149 | Time 24.5243(28.7363) | Bit/dim 1.7668(2.2494) | Steps 344(378.78) | Grad Norm 2.4442(7.7266) | Total Time 10.00(10.00)\n",
      "Iter 0150 | Time 24.4390(28.6074) | Bit/dim 1.7176(2.2335) | Steps 344(377.74) | Grad Norm 1.6910(7.5455) | Total Time 10.00(10.00)\n",
      "Iter 0151 | Time 24.4175(28.4817) | Bit/dim 1.6768(2.2168) | Steps 350(376.90) | Grad Norm 1.1657(7.3541) | Total Time 10.00(10.00)\n",
      "Iter 0152 | Time 25.4193(28.3898) | Bit/dim 1.6881(2.2009) | Steps 356(376.28) | Grad Norm 1.7068(7.1847) | Total Time 10.00(10.00)\n",
      "Iter 0153 | Time 26.2657(28.3261) | Bit/dim 1.6927(2.1857) | Steps 362(375.85) | Grad Norm 1.6105(7.0174) | Total Time 10.00(10.00)\n",
      "validating...\n",
      "Epoch 0022 | Time 8.0987, Epoch Time 194.8770, Bit/dim 1.6379\n"
     ]
    },
    {
     "name": "stdout",
     "output_type": "stream",
     "text": [
      "do _generate\n",
      "do _generate\n",
      "do _generate\n",
      "do _generate\n",
      "do _generate\n",
      "do _generate\n",
      "do _generate\n",
      "do _generate\n"
     ]
    },
    {
     "name": "stderr",
     "output_type": "stream",
     "text": [
      "===> Using batch size 8000. Total 7 iterations/epoch.\n",
      "Iter 0154 | Time 25.1757(28.2316) | Bit/dim 1.6540(2.1697) | Steps 356(375.25) | Grad Norm 1.9788(6.8663) | Total Time 10.00(10.00)\n",
      "Iter 0155 | Time 24.5324(28.1206) | Bit/dim 1.6363(2.1537) | Steps 350(374.50) | Grad Norm 1.1223(6.6940) | Total Time 10.00(10.00)\n",
      "Iter 0156 | Time 24.9506(28.0255) | Bit/dim 1.6446(2.1384) | Steps 350(373.76) | Grad Norm 1.7344(6.5452) | Total Time 10.00(10.00)\n",
      "Iter 0157 | Time 26.6799(27.9851) | Bit/dim 1.6174(2.1228) | Steps 362(373.41) | Grad Norm 1.1401(6.3830) | Total Time 10.00(10.00)\n",
      "Iter 0158 | Time 27.1826(27.9611) | Bit/dim 1.6172(2.1076) | Steps 362(373.07) | Grad Norm 1.4760(6.2358) | Total Time 10.00(10.00)\n",
      "Iter 0159 | Time 26.8353(27.9273) | Bit/dim 1.6248(2.0932) | Steps 362(372.73) | Grad Norm 1.6772(6.0991) | Total Time 10.00(10.00)\n",
      "Iter 0160 | Time 26.7191(27.8910) | Bit/dim 1.5790(2.0777) | Steps 362(372.41) | Grad Norm 1.6423(5.9654) | Total Time 10.00(10.00)\n",
      "validating...\n",
      "Epoch 0023 | Time 7.9149, Epoch Time 202.0625, Bit/dim 1.5801\n"
     ]
    },
    {
     "name": "stdout",
     "output_type": "stream",
     "text": [
      "do _generate\n",
      "do _generate\n",
      "do _generate\n",
      "do _generate\n",
      "do _generate\n",
      "do _generate\n",
      "do _generate\n",
      "do _generate\n"
     ]
    },
    {
     "name": "stderr",
     "output_type": "stream",
     "text": [
      "===> Using batch size 8000. Total 7 iterations/epoch.\n",
      "Iter 0161 | Time 26.3449(27.8447) | Bit/dim 1.5951(2.0633) | Steps 356(371.92) | Grad Norm 1.5371(5.8325) | Total Time 10.00(10.00)\n",
      "Iter 0162 | Time 25.2306(27.7662) | Bit/dim 1.5812(2.0488) | Steps 350(371.26) | Grad Norm 1.3108(5.6969) | Total Time 10.00(10.00)\n",
      "Iter 0163 | Time 24.1668(27.6582) | Bit/dim 1.5717(2.0345) | Steps 350(370.62) | Grad Norm 1.8100(5.5803) | Total Time 10.00(10.00)\n",
      "Iter 0164 | Time 25.1415(27.5827) | Bit/dim 1.5799(2.0208) | Steps 356(370.19) | Grad Norm 2.9935(5.5026) | Total Time 10.00(10.00)\n",
      "Iter 0165 | Time 26.1950(27.5411) | Bit/dim 1.5860(2.0078) | Steps 356(369.76) | Grad Norm 6.6254(5.5363) | Total Time 10.00(10.00)\n",
      "Iter 0166 | Time 26.3751(27.5061) | Bit/dim 1.8225(2.0022) | Steps 368(369.71) | Grad Norm 12.0220(5.7309) | Total Time 10.00(10.00)\n",
      "Iter 0167 | Time 27.4286(27.5038) | Bit/dim 1.6344(1.9912) | Steps 362(369.48) | Grad Norm 9.6599(5.8488) | Total Time 10.00(10.00)\n",
      "validating...\n",
      "Epoch 0024 | Time 8.1146, Epoch Time 201.4589, Bit/dim 1.5790\n"
     ]
    },
    {
     "name": "stdout",
     "output_type": "stream",
     "text": [
      "do _generate\n",
      "do _generate\n",
      "do _generate\n",
      "do _generate\n",
      "do _generate\n",
      "do _generate\n",
      "do _generate\n",
      "do _generate\n"
     ]
    },
    {
     "name": "stderr",
     "output_type": "stream",
     "text": [
      "===> Using batch size 8000. Total 7 iterations/epoch.\n",
      "Iter 0168 | Time 25.4730(27.4429) | Bit/dim 1.6021(1.9795) | Steps 362(369.25) | Grad Norm 2.5555(5.7500) | Total Time 10.00(10.00)\n",
      "Iter 0169 | Time 27.7521(27.4522) | Bit/dim 1.5782(1.9675) | Steps 380(369.57) | Grad Norm 6.7138(5.7789) | Total Time 10.00(10.00)\n",
      "Iter 0170 | Time 26.4693(27.4227) | Bit/dim 1.6259(1.9572) | Steps 356(369.17) | Grad Norm 9.9355(5.9036) | Total Time 10.00(10.00)\n",
      "Iter 0171 | Time 26.6491(27.3995) | Bit/dim 1.6625(1.9484) | Steps 362(368.95) | Grad Norm 7.9693(5.9656) | Total Time 10.00(10.00)\n",
      "Iter 0172 | Time 27.0684(27.3895) | Bit/dim 1.5817(1.9374) | Steps 368(368.92) | Grad Norm 3.0253(5.8774) | Total Time 10.00(10.00)\n",
      "Iter 0173 | Time 25.0904(27.3206) | Bit/dim 1.6394(1.9285) | Steps 356(368.54) | Grad Norm 8.8181(5.9656) | Total Time 10.00(10.00)\n",
      "Iter 0174 | Time 26.2663(27.2889) | Bit/dim 1.6064(1.9188) | Steps 362(368.34) | Grad Norm 9.1722(6.0618) | Total Time 10.00(10.00)\n",
      "validating...\n",
      "Epoch 0025 | Time 8.4056, Epoch Time 205.4470, Bit/dim 1.5941\n"
     ]
    },
    {
     "name": "stdout",
     "output_type": "stream",
     "text": [
      "do _generate\n",
      "do _generate\n",
      "do _generate\n",
      "do _generate\n",
      "do _generate\n",
      "do _generate\n",
      "do _generate\n",
      "do _generate\n"
     ]
    },
    {
     "name": "stderr",
     "output_type": "stream",
     "text": [
      "===> Using batch size 8000. Total 7 iterations/epoch.\n",
      "Iter 0175 | Time 26.8002(27.2743) | Bit/dim 1.6142(1.9097) | Steps 368(368.33) | Grad Norm 3.3354(5.9800) | Total Time 10.00(10.00)\n",
      "Iter 0176 | Time 28.3709(27.3072) | Bit/dim 1.6402(1.9016) | Steps 386(368.86) | Grad Norm 3.0553(5.8922) | Total Time 10.00(10.00)\n",
      "Iter 0177 | Time 29.1029(27.3610) | Bit/dim 1.6456(1.8939) | Steps 374(369.01) | Grad Norm 3.7280(5.8273) | Total Time 10.00(10.00)\n",
      "Iter 0178 | Time 26.8005(27.3442) | Bit/dim 1.5699(1.8842) | Steps 374(369.16) | Grad Norm 2.7688(5.7356) | Total Time 10.00(10.00)\n",
      "Iter 0179 | Time 25.1210(27.2775) | Bit/dim 1.5697(1.8747) | Steps 356(368.77) | Grad Norm 4.4629(5.6974) | Total Time 10.00(10.00)\n",
      "Iter 0180 | Time 24.6994(27.2002) | Bit/dim 1.6126(1.8669) | Steps 350(368.21) | Grad Norm 5.1432(5.6808) | Total Time 10.00(10.00)\n",
      "Iter 0181 | Time 25.2170(27.1407) | Bit/dim 1.5709(1.8580) | Steps 356(367.84) | Grad Norm 2.3939(5.5821) | Total Time 10.00(10.00)\n",
      "validating...\n",
      "Epoch 0026 | Time 8.2701, Epoch Time 206.5423, Bit/dim 1.5245\n"
     ]
    },
    {
     "name": "stdout",
     "output_type": "stream",
     "text": [
      "do _generate\n",
      "do _generate\n",
      "do _generate\n",
      "do _generate\n",
      "do _generate\n",
      "do _generate\n",
      "do _generate\n",
      "do _generate\n"
     ]
    },
    {
     "name": "stderr",
     "output_type": "stream",
     "text": [
      "===> Using batch size 8000. Total 7 iterations/epoch.\n",
      "Iter 0182 | Time 26.0997(27.1095) | Bit/dim 1.5396(1.8484) | Steps 368(367.84) | Grad Norm 2.8602(5.5005) | Total Time 10.00(10.00)\n",
      "Iter 0183 | Time 24.7073(27.0374) | Bit/dim 1.5517(1.8395) | Steps 350(367.31) | Grad Norm 2.0999(5.3985) | Total Time 10.00(10.00)\n",
      "Iter 0184 | Time 26.8035(27.0304) | Bit/dim 1.5542(1.8310) | Steps 350(366.79) | Grad Norm 2.0244(5.2973) | Total Time 10.00(10.00)\n",
      "Iter 0185 | Time 26.5596(27.0163) | Bit/dim 1.5156(1.8215) | Steps 344(366.11) | Grad Norm 1.4435(5.1816) | Total Time 10.00(10.00)\n",
      "Iter 0186 | Time 24.3535(26.9364) | Bit/dim 1.5424(1.8131) | Steps 344(365.44) | Grad Norm 3.3329(5.1262) | Total Time 10.00(10.00)\n",
      "Iter 0187 | Time 26.2124(26.9147) | Bit/dim 1.6718(1.8089) | Steps 356(365.16) | Grad Norm 11.9263(5.3302) | Total Time 10.00(10.00)\n",
      "Iter 0188 | Time 25.1513(26.8618) | Bit/dim 1.7699(1.8077) | Steps 356(364.88) | Grad Norm 7.6505(5.3998) | Total Time 10.00(10.00)\n",
      "validating...\n",
      "Epoch 0027 | Time 8.0181, Epoch Time 199.9766, Bit/dim 1.7299\n"
     ]
    },
    {
     "name": "stdout",
     "output_type": "stream",
     "text": [
      "do _generate\n",
      "do _generate\n",
      "do _generate\n",
      "do _generate\n",
      "do _generate\n",
      "do _generate\n",
      "do _generate\n",
      "do _generate\n"
     ]
    },
    {
     "name": "stderr",
     "output_type": "stream",
     "text": [
      "===> Using batch size 8000. Total 7 iterations/epoch.\n",
      "Iter 0189 | Time 24.7908(26.7996) | Bit/dim 1.7437(1.8058) | Steps 350(364.44) | Grad Norm 7.1571(5.4525) | Total Time 10.00(10.00)\n",
      "Iter 0190 | Time 25.9563(26.7743) | Bit/dim 1.5445(1.7980) | Steps 356(364.18) | Grad Norm 2.9612(5.3778) | Total Time 10.00(10.00)\n",
      "Iter 0191 | Time 25.9763(26.7504) | Bit/dim 1.7413(1.7963) | Steps 362(364.12) | Grad Norm 13.0321(5.6074) | Total Time 10.00(10.00)\n",
      "Iter 0192 | Time 26.1504(26.7324) | Bit/dim 1.5796(1.7898) | Steps 356(363.88) | Grad Norm 3.0161(5.5297) | Total Time 10.00(10.00)\n",
      "Iter 0193 | Time 26.3408(26.7206) | Bit/dim 1.6874(1.7867) | Steps 356(363.64) | Grad Norm 7.4035(5.5859) | Total Time 10.00(10.00)\n",
      "Iter 0194 | Time 25.3045(26.6782) | Bit/dim 1.6221(1.7818) | Steps 350(363.23) | Grad Norm 3.1410(5.5125) | Total Time 10.00(10.00)\n",
      "Iter 0195 | Time 24.4012(26.6098) | Bit/dim 1.5734(1.7755) | Steps 344(362.65) | Grad Norm 2.1837(5.4127) | Total Time 10.00(10.00)\n",
      "validating...\n",
      "Epoch 0028 | Time 7.7453, Epoch Time 198.7233, Bit/dim 1.6165\n"
     ]
    },
    {
     "name": "stdout",
     "output_type": "stream",
     "text": [
      "do _generate\n",
      "do _generate\n",
      "do _generate\n",
      "do _generate\n",
      "do _generate\n",
      "do _generate\n",
      "do _generate\n",
      "do _generate\n"
     ]
    },
    {
     "name": "stderr",
     "output_type": "stream",
     "text": [
      "===> Using batch size 8000. Total 7 iterations/epoch.\n",
      "Iter 0196 | Time 26.0092(26.5918) | Bit/dim 1.6285(1.7711) | Steps 350(362.27) | Grad Norm 6.1324(5.4343) | Total Time 10.00(10.00)\n",
      "Iter 0197 | Time 25.8573(26.5698) | Bit/dim 1.5932(1.7658) | Steps 350(361.91) | Grad Norm 2.2274(5.3380) | Total Time 10.00(10.00)\n",
      "Iter 0198 | Time 25.3507(26.5332) | Bit/dim 1.6050(1.7609) | Steps 350(361.55) | Grad Norm 7.9121(5.4153) | Total Time 10.00(10.00)\n",
      "Iter 0199 | Time 25.1717(26.4924) | Bit/dim 1.5847(1.7557) | Steps 350(361.20) | Grad Norm 2.6794(5.3332) | Total Time 10.00(10.00)\n",
      "Iter 0200 | Time 26.2143(26.4840) | Bit/dim 1.6018(1.7510) | Steps 356(361.05) | Grad Norm 2.6496(5.2527) | Total Time 10.00(10.00)\n",
      "Iter 0201 | Time 26.9384(26.4977) | Bit/dim 1.5786(1.7459) | Steps 362(361.07) | Grad Norm 3.1029(5.1882) | Total Time 10.00(10.00)\n",
      "Iter 0202 | Time 24.0690(26.4248) | Bit/dim 1.5472(1.7399) | Steps 344(360.56) | Grad Norm 2.5675(5.1096) | Total Time 10.00(10.00)\n",
      "validating...\n",
      "Epoch 0029 | Time 7.9207, Epoch Time 199.6900, Bit/dim 1.5557\n"
     ]
    },
    {
     "name": "stdout",
     "output_type": "stream",
     "text": [
      "do _generate\n",
      "do _generate\n",
      "do _generate\n",
      "do _generate\n",
      "do _generate\n",
      "do _generate\n",
      "do _generate\n",
      "do _generate\n"
     ]
    },
    {
     "name": "stderr",
     "output_type": "stream",
     "text": [
      "===> Using batch size 8000. Total 7 iterations/epoch.\n",
      "Iter 0203 | Time 25.8090(26.4063) | Bit/dim 1.5698(1.7348) | Steps 350(360.25) | Grad Norm 5.3367(5.1164) | Total Time 10.00(10.00)\n",
      "Iter 0204 | Time 24.1644(26.3391) | Bit/dim 1.5341(1.7288) | Steps 344(359.76) | Grad Norm 2.5721(5.0401) | Total Time 10.00(10.00)\n",
      "Iter 0205 | Time 25.8613(26.3247) | Bit/dim 1.5303(1.7228) | Steps 356(359.65) | Grad Norm 1.4094(4.9311) | Total Time 10.00(10.00)\n",
      "Iter 0206 | Time 26.7219(26.3366) | Bit/dim 1.5376(1.7173) | Steps 362(359.72) | Grad Norm 2.9484(4.8717) | Total Time 10.00(10.00)\n",
      "Iter 0207 | Time 25.3554(26.3072) | Bit/dim 1.5157(1.7112) | Steps 350(359.42) | Grad Norm 2.2916(4.7943) | Total Time 10.00(10.00)\n",
      "Iter 0208 | Time 26.0632(26.2999) | Bit/dim 1.5082(1.7051) | Steps 350(359.14) | Grad Norm 1.7810(4.7039) | Total Time 10.00(10.00)\n",
      "Iter 0209 | Time 24.8892(26.2576) | Bit/dim 1.5155(1.6994) | Steps 350(358.87) | Grad Norm 2.9928(4.6525) | Total Time 10.00(10.00)\n",
      "validating...\n",
      "Epoch 0030 | Time 7.7999, Epoch Time 199.3676, Bit/dim 1.4870\n"
     ]
    },
    {
     "name": "stdout",
     "output_type": "stream",
     "text": [
      "do _generate\n",
      "do _generate\n",
      "do _generate\n",
      "do _generate\n",
      "do _generate\n",
      "do _generate\n",
      "do _generate\n",
      "do _generate\n"
     ]
    },
    {
     "name": "stderr",
     "output_type": "stream",
     "text": [
      "===> Using batch size 8000. Total 7 iterations/epoch.\n",
      "Iter 0210 | Time 24.6686(26.2099) | Bit/dim 1.5097(1.6938) | Steps 344(358.42) | Grad Norm 1.8635(4.5688) | Total Time 10.00(10.00)\n",
      "Iter 0211 | Time 24.1111(26.1469) | Bit/dim 1.4986(1.6879) | Steps 344(357.99) | Grad Norm 1.7916(4.4855) | Total Time 10.00(10.00)\n",
      "Iter 0212 | Time 24.5052(26.0977) | Bit/dim 1.4864(1.6819) | Steps 344(357.57) | Grad Norm 1.2569(4.3887) | Total Time 10.00(10.00)\n",
      "Iter 0213 | Time 25.3026(26.0738) | Bit/dim 1.4854(1.6760) | Steps 350(357.34) | Grad Norm 1.4625(4.3009) | Total Time 10.00(10.00)\n",
      "Iter 0214 | Time 24.8539(26.0372) | Bit/dim 1.4699(1.6698) | Steps 344(356.94) | Grad Norm 1.0734(4.2041) | Total Time 10.00(10.00)\n",
      "Iter 0215 | Time 26.0399(26.0373) | Bit/dim 1.4778(1.6640) | Steps 344(356.55) | Grad Norm 1.5189(4.1235) | Total Time 10.00(10.00)\n",
      "Iter 0216 | Time 24.7365(25.9983) | Bit/dim 1.4672(1.6581) | Steps 350(356.36) | Grad Norm 1.3824(4.0413) | Total Time 10.00(10.00)\n",
      "validating...\n",
      "Epoch 0031 | Time 7.9215, Epoch Time 194.6487, Bit/dim 1.4484\n"
     ]
    },
    {
     "name": "stdout",
     "output_type": "stream",
     "text": [
      "do _generate\n",
      "do _generate\n",
      "do _generate\n",
      "do _generate\n",
      "do _generate\n",
      "do _generate\n",
      "do _generate\n",
      "do _generate\n"
     ]
    },
    {
     "name": "stderr",
     "output_type": "stream",
     "text": [
      "===> Using batch size 8000. Total 7 iterations/epoch.\n",
      "Iter 0217 | Time 25.2130(25.9747) | Bit/dim 1.4625(1.6522) | Steps 356(356.35) | Grad Norm 2.6111(3.9984) | Total Time 10.00(10.00)\n",
      "Iter 0218 | Time 28.5462(26.0519) | Bit/dim 1.5241(1.6484) | Steps 374(356.88) | Grad Norm 7.3019(4.0975) | Total Time 10.00(10.00)\n",
      "Iter 0219 | Time 25.1905(26.0260) | Bit/dim 1.6674(1.6490) | Steps 350(356.67) | Grad Norm 17.9005(4.5116) | Total Time 10.00(10.00)\n",
      "Iter 0220 | Time 29.1905(26.1210) | Bit/dim 1.9858(1.6591) | Steps 398(357.91) | Grad Norm 14.3987(4.8082) | Total Time 10.00(10.00)\n",
      "Iter 0221 | Time 28.2484(26.1848) | Bit/dim 1.9333(1.6673) | Steps 386(358.75) | Grad Norm 7.3071(4.8831) | Total Time 10.00(10.00)\n",
      "Iter 0222 | Time 25.2526(26.1568) | Bit/dim 1.7295(1.6692) | Steps 362(358.85) | Grad Norm 6.8349(4.9417) | Total Time 10.00(10.00)\n",
      "Iter 0223 | Time 26.4893(26.1668) | Bit/dim 1.7052(1.6702) | Steps 344(358.40) | Grad Norm 8.6170(5.0520) | Total Time 10.00(10.00)\n",
      "validating...\n",
      "Epoch 0032 | Time 7.9337, Epoch Time 208.1203, Bit/dim 1.7257\n"
     ]
    },
    {
     "name": "stdout",
     "output_type": "stream",
     "text": [
      "do _generate\n",
      "do _generate\n",
      "do _generate\n",
      "do _generate\n",
      "do _generate\n",
      "do _generate\n",
      "do _generate\n",
      "do _generate\n"
     ]
    },
    {
     "name": "stderr",
     "output_type": "stream",
     "text": [
      "===> Using batch size 8000. Total 7 iterations/epoch.\n",
      "Iter 0224 | Time 24.5181(26.1173) | Bit/dim 1.7388(1.6723) | Steps 344(357.97) | Grad Norm 6.7012(5.1014) | Total Time 10.00(10.00)\n",
      "Iter 0225 | Time 24.4254(26.0666) | Bit/dim 1.6266(1.6709) | Steps 338(357.37) | Grad Norm 4.2159(5.0749) | Total Time 10.00(10.00)\n",
      "Iter 0226 | Time 25.9754(26.0639) | Bit/dim 1.5880(1.6684) | Steps 350(357.15) | Grad Norm 1.9439(4.9809) | Total Time 10.00(10.00)\n",
      "Iter 0227 | Time 27.1244(26.0957) | Bit/dim 1.6526(1.6680) | Steps 356(357.12) | Grad Norm 3.2822(4.9300) | Total Time 10.00(10.00)\n",
      "Iter 0228 | Time 26.5922(26.1106) | Bit/dim 1.6243(1.6667) | Steps 362(357.26) | Grad Norm 2.5856(4.8596) | Total Time 10.00(10.00)\n",
      "Iter 0229 | Time 25.3284(26.0871) | Bit/dim 1.5784(1.6640) | Steps 356(357.23) | Grad Norm 1.8068(4.7681) | Total Time 10.00(10.00)\n",
      "Iter 0230 | Time 27.7861(26.1381) | Bit/dim 1.5947(1.6619) | Steps 362(357.37) | Grad Norm 1.8354(4.6801) | Total Time 10.00(10.00)\n",
      "validating...\n",
      "Epoch 0033 | Time 8.3172, Epoch Time 202.2989, Bit/dim 1.5972\n"
     ]
    },
    {
     "name": "stdout",
     "output_type": "stream",
     "text": [
      "do _generate\n",
      "do _generate\n",
      "do _generate\n",
      "do _generate\n",
      "do _generate\n",
      "do _generate\n",
      "do _generate\n",
      "do _generate\n"
     ]
    },
    {
     "name": "stderr",
     "output_type": "stream",
     "text": [
      "===> Using batch size 8000. Total 7 iterations/epoch.\n",
      "Iter 0231 | Time 25.4518(26.1175) | Bit/dim 1.6142(1.6605) | Steps 362(357.51) | Grad Norm 2.0146(4.6001) | Total Time 10.00(10.00)\n",
      "Iter 0232 | Time 26.4047(26.1261) | Bit/dim 1.6105(1.6590) | Steps 362(357.64) | Grad Norm 2.6669(4.5421) | Total Time 10.00(10.00)\n",
      "Iter 0233 | Time 25.9822(26.1218) | Bit/dim 1.5864(1.6568) | Steps 356(357.59) | Grad Norm 2.0655(4.4678) | Total Time 10.00(10.00)\n",
      "Iter 0234 | Time 26.0356(26.1192) | Bit/dim 1.5718(1.6543) | Steps 362(357.73) | Grad Norm 0.9913(4.3635) | Total Time 10.00(10.00)\n",
      "Iter 0235 | Time 26.1742(26.1208) | Bit/dim 1.5696(1.6517) | Steps 362(357.85) | Grad Norm 2.0669(4.2946) | Total Time 10.00(10.00)\n",
      "Iter 0236 | Time 26.1557(26.1219) | Bit/dim 1.5608(1.6490) | Steps 362(357.98) | Grad Norm 2.4140(4.2382) | Total Time 10.00(10.00)\n",
      "Iter 0237 | Time 27.0710(26.1504) | Bit/dim 1.5321(1.6455) | Steps 362(358.10) | Grad Norm 1.1389(4.1452) | Total Time 10.00(10.00)\n",
      "validating...\n",
      "Epoch 0034 | Time 7.8973, Epoch Time 203.5823, Bit/dim 1.5120\n"
     ]
    },
    {
     "name": "stdout",
     "output_type": "stream",
     "text": [
      "do _generate\n",
      "do _generate\n",
      "do _generate\n",
      "do _generate\n",
      "do _generate\n",
      "do _generate\n",
      "do _generate\n",
      "do _generate\n"
     ]
    },
    {
     "name": "stderr",
     "output_type": "stream",
     "text": [
      "===> Using batch size 8000. Total 7 iterations/epoch.\n",
      "Iter 0238 | Time 27.2444(26.1832) | Bit/dim 1.5252(1.6419) | Steps 356(358.04) | Grad Norm 1.5902(4.0686) | Total Time 10.00(10.00)\n",
      "Iter 0239 | Time 24.6452(26.1370) | Bit/dim 1.5277(1.6385) | Steps 344(357.61) | Grad Norm 1.9255(4.0043) | Total Time 10.00(10.00)\n",
      "Iter 0240 | Time 24.4264(26.0857) | Bit/dim 1.5197(1.6349) | Steps 344(357.21) | Grad Norm 1.4378(3.9273) | Total Time 10.00(10.00)\n",
      "Iter 0241 | Time 24.8708(26.0493) | Bit/dim 1.5087(1.6311) | Steps 344(356.81) | Grad Norm 1.4405(3.8527) | Total Time 10.00(10.00)\n",
      "Iter 0242 | Time 24.4606(26.0016) | Bit/dim 1.5086(1.6274) | Steps 344(356.43) | Grad Norm 1.5077(3.7823) | Total Time 10.00(10.00)\n",
      "Iter 0243 | Time 28.1062(26.0648) | Bit/dim 1.4901(1.6233) | Steps 356(356.41) | Grad Norm 1.0751(3.7011) | Total Time 10.00(10.00)\n",
      "Iter 0244 | Time 24.8256(26.0276) | Bit/dim 1.4915(1.6194) | Steps 344(356.04) | Grad Norm 1.3108(3.6294) | Total Time 10.00(10.00)\n",
      "validating...\n",
      "Epoch 0035 | Time 7.9842, Epoch Time 198.7286, Bit/dim 1.4661\n"
     ]
    },
    {
     "name": "stdout",
     "output_type": "stream",
     "text": [
      "do _generate\n",
      "do _generate\n",
      "do _generate\n",
      "do _generate\n",
      "do _generate\n",
      "do _generate\n",
      "do _generate\n",
      "do _generate\n"
     ]
    },
    {
     "name": "stderr",
     "output_type": "stream",
     "text": [
      "===> Using batch size 8000. Total 7 iterations/epoch.\n",
      "Iter 0245 | Time 27.1311(26.0607) | Bit/dim 1.4753(1.6150) | Steps 362(356.22) | Grad Norm 1.2118(3.5569) | Total Time 10.00(10.00)\n",
      "Iter 0246 | Time 25.6597(26.0487) | Bit/dim 1.4645(1.6105) | Steps 356(356.21) | Grad Norm 1.4306(3.4931) | Total Time 10.00(10.00)\n",
      "Iter 0247 | Time 24.7886(26.0109) | Bit/dim 1.4774(1.6065) | Steps 350(356.03) | Grad Norm 1.6857(3.4389) | Total Time 10.00(10.00)\n",
      "Iter 0248 | Time 24.8243(25.9753) | Bit/dim 1.4634(1.6022) | Steps 350(355.85) | Grad Norm 1.0010(3.3657) | Total Time 10.00(10.00)\n",
      "Iter 0249 | Time 26.0300(25.9769) | Bit/dim 1.4510(1.5977) | Steps 356(355.85) | Grad Norm 0.6568(3.2845) | Total Time 10.00(10.00)\n",
      "Iter 0250 | Time 26.0591(25.9794) | Bit/dim 1.4535(1.5934) | Steps 356(355.85) | Grad Norm 1.1861(3.2215) | Total Time 10.00(10.00)\n",
      "Iter 0251 | Time 25.5453(25.9663) | Bit/dim 1.4442(1.5889) | Steps 356(355.86) | Grad Norm 0.8056(3.1490) | Total Time 10.00(10.00)\n",
      "validating...\n",
      "Epoch 0036 | Time 8.3567, Epoch Time 200.4651, Bit/dim 1.4261\n"
     ]
    },
    {
     "name": "stdout",
     "output_type": "stream",
     "text": [
      "do _generate\n",
      "do _generate\n",
      "do _generate\n",
      "do _generate\n",
      "do _generate\n",
      "do _generate\n",
      "do _generate\n",
      "do _generate\n"
     ]
    },
    {
     "name": "stderr",
     "output_type": "stream",
     "text": [
      "===> Using batch size 8000. Total 7 iterations/epoch.\n",
      "Iter 0252 | Time 27.4449(26.0107) | Bit/dim 1.4457(1.5846) | Steps 362(356.04) | Grad Norm 0.9677(3.0836) | Total Time 10.00(10.00)\n",
      "Iter 0253 | Time 26.7955(26.0342) | Bit/dim 1.4371(1.5802) | Steps 362(356.22) | Grad Norm 1.2380(3.0282) | Total Time 10.00(10.00)\n",
      "Iter 0254 | Time 26.1289(26.0371) | Bit/dim 1.4346(1.5758) | Steps 362(356.40) | Grad Norm 0.8763(2.9637) | Total Time 10.00(10.00)\n",
      "Iter 0255 | Time 25.9171(26.0335) | Bit/dim 1.4331(1.5715) | Steps 362(356.56) | Grad Norm 3.0843(2.9673) | Total Time 10.00(10.00)\n",
      "Iter 0256 | Time 27.0675(26.0645) | Bit/dim 1.4844(1.5689) | Steps 350(356.37) | Grad Norm 10.3969(3.1902) | Total Time 10.00(10.00)\n",
      "Iter 0257 | Time 29.2169(26.1591) | Bit/dim 1.8179(1.5764) | Steps 386(357.26) | Grad Norm 11.1059(3.4277) | Total Time 10.00(10.00)\n",
      "Iter 0258 | Time 27.5599(26.2011) | Bit/dim 1.6029(1.5772) | Steps 374(357.76) | Grad Norm 7.2155(3.5413) | Total Time 10.00(10.00)\n",
      "validating...\n",
      "Epoch 0037 | Time 8.8451, Epoch Time 211.1897, Bit/dim 1.9727\n"
     ]
    },
    {
     "name": "stdout",
     "output_type": "stream",
     "text": [
      "do _generate\n",
      "do _generate\n",
      "do _generate\n",
      "do _generate\n",
      "do _generate\n",
      "do _generate\n",
      "do _generate\n",
      "do _generate\n"
     ]
    },
    {
     "name": "stderr",
     "output_type": "stream",
     "text": [
      "===> Using batch size 8000. Total 7 iterations/epoch.\n",
      "Iter 0259 | Time 25.1343(26.1691) | Bit/dim 1.9899(1.5896) | Steps 362(357.89) | Grad Norm 22.1657(4.1000) | Total Time 10.00(10.00)\n",
      "Iter 0260 | Time 27.6102(26.2123) | Bit/dim 1.5459(1.5883) | Steps 362(358.01) | Grad Norm 7.0632(4.1889) | Total Time 10.00(10.00)\n",
      "Iter 0261 | Time 30.2141(26.3324) | Bit/dim 1.6494(1.5901) | Steps 380(358.67) | Grad Norm 8.1803(4.3087) | Total Time 10.00(10.00)\n",
      "Iter 0262 | Time 26.0779(26.3248) | Bit/dim 1.5513(1.5889) | Steps 362(358.77) | Grad Norm 3.1019(4.2725) | Total Time 10.00(10.00)\n",
      "Iter 0263 | Time 25.6314(26.3039) | Bit/dim 1.5714(1.5884) | Steps 350(358.51) | Grad Norm 3.8541(4.2599) | Total Time 10.00(10.00)\n",
      "Iter 0264 | Time 24.5847(26.2524) | Bit/dim 1.5904(1.5885) | Steps 350(358.25) | Grad Norm 4.5657(4.2691) | Total Time 10.00(10.00)\n",
      "Iter 0265 | Time 24.5703(26.2019) | Bit/dim 1.5365(1.5869) | Steps 344(357.82) | Grad Norm 2.6733(4.2212) | Total Time 10.00(10.00)\n",
      "validating...\n",
      "Epoch 0038 | Time 8.0242, Epoch Time 204.1279, Bit/dim 1.5113\n"
     ]
    },
    {
     "name": "stdout",
     "output_type": "stream",
     "text": [
      "do _generate\n",
      "do _generate\n",
      "do _generate\n",
      "do _generate\n",
      "do _generate\n",
      "do _generate\n",
      "do _generate\n",
      "do _generate\n"
     ]
    },
    {
     "name": "stderr",
     "output_type": "stream",
     "text": [
      "===> Using batch size 8000. Total 7 iterations/epoch.\n",
      "Iter 0266 | Time 26.3317(26.2058) | Bit/dim 1.5287(1.5851) | Steps 350(357.59) | Grad Norm 2.1285(4.1584) | Total Time 10.00(10.00)\n",
      "Iter 0267 | Time 25.3762(26.1809) | Bit/dim 1.5573(1.5843) | Steps 356(357.54) | Grad Norm 3.2700(4.1318) | Total Time 10.00(10.00)\n",
      "Iter 0268 | Time 26.1355(26.1796) | Bit/dim 1.5437(1.5831) | Steps 362(357.67) | Grad Norm 2.8518(4.0934) | Total Time 10.00(10.00)\n",
      "Iter 0269 | Time 26.1948(26.1800) | Bit/dim 1.5128(1.5810) | Steps 356(357.62) | Grad Norm 1.3799(4.0120) | Total Time 10.00(10.00)\n",
      "Iter 0270 | Time 25.7155(26.1661) | Bit/dim 1.5150(1.5790) | Steps 362(357.76) | Grad Norm 3.0585(3.9834) | Total Time 10.00(10.00)\n",
      "Iter 0271 | Time 24.9971(26.1310) | Bit/dim 1.5081(1.5769) | Steps 362(357.88) | Grad Norm 2.0167(3.9244) | Total Time 10.00(10.00)\n",
      "Iter 0272 | Time 25.4154(26.1095) | Bit/dim 1.5130(1.5750) | Steps 356(357.83) | Grad Norm 3.1443(3.9010) | Total Time 10.00(10.00)\n",
      "validating...\n",
      "Epoch 0039 | Time 8.0127, Epoch Time 200.4208, Bit/dim 1.4689\n"
     ]
    },
    {
     "name": "stdout",
     "output_type": "stream",
     "text": [
      "do _generate\n",
      "do _generate\n",
      "do _generate\n",
      "do _generate\n",
      "do _generate\n",
      "do _generate\n",
      "do _generate\n",
      "do _generate\n"
     ]
    },
    {
     "name": "stderr",
     "output_type": "stream",
     "text": [
      "===> Using batch size 8000. Total 7 iterations/epoch.\n",
      "Iter 0273 | Time 26.1097(26.1095) | Bit/dim 1.4795(1.5721) | Steps 356(357.77) | Grad Norm 1.2770(3.8222) | Total Time 10.00(10.00)\n",
      "Iter 0274 | Time 25.3212(26.0859) | Bit/dim 1.4839(1.5695) | Steps 356(357.72) | Grad Norm 2.5569(3.7843) | Total Time 10.00(10.00)\n",
      "Iter 0275 | Time 25.4172(26.0658) | Bit/dim 1.4660(1.5664) | Steps 350(357.49) | Grad Norm 1.0497(3.7022) | Total Time 10.00(10.00)\n",
      "Iter 0276 | Time 25.8969(26.0608) | Bit/dim 1.4709(1.5635) | Steps 362(357.62) | Grad Norm 2.5130(3.6666) | Total Time 10.00(10.00)\n",
      "Iter 0277 | Time 25.3080(26.0382) | Bit/dim 1.4654(1.5605) | Steps 356(357.57) | Grad Norm 2.0450(3.6179) | Total Time 10.00(10.00)\n",
      "Iter 0278 | Time 25.8139(26.0314) | Bit/dim 1.4685(1.5578) | Steps 362(357.71) | Grad Norm 2.9398(3.5976) | Total Time 10.00(10.00)\n",
      "Iter 0279 | Time 25.1073(26.0037) | Bit/dim 1.4474(1.5545) | Steps 356(357.65) | Grad Norm 1.3314(3.5296) | Total Time 10.00(10.00)\n",
      "validating...\n",
      "Epoch 0040 | Time 8.2272, Epoch Time 199.5335, Bit/dim 1.4261\n"
     ]
    },
    {
     "name": "stdout",
     "output_type": "stream",
     "text": [
      "do _generate\n",
      "do _generate\n",
      "do _generate\n",
      "do _generate\n",
      "do _generate\n",
      "do _generate\n",
      "do _generate\n",
      "do _generate\n"
     ]
    },
    {
     "name": "stderr",
     "output_type": "stream",
     "text": [
      "===> Using batch size 8000. Total 7 iterations/epoch.\n",
      "Iter 0280 | Time 26.8778(26.0299) | Bit/dim 1.4457(1.5512) | Steps 368(357.97) | Grad Norm 1.9647(3.4826) | Total Time 10.00(10.00)\n",
      "Iter 0281 | Time 25.3728(26.0102) | Bit/dim 1.4386(1.5478) | Steps 362(358.09) | Grad Norm 2.0746(3.4404) | Total Time 10.00(10.00)\n",
      "Iter 0282 | Time 26.7271(26.0317) | Bit/dim 1.4289(1.5443) | Steps 368(358.38) | Grad Norm 1.6132(3.3856) | Total Time 10.00(10.00)\n",
      "Iter 0283 | Time 27.2705(26.0689) | Bit/dim 1.4242(1.5407) | Steps 368(358.67) | Grad Norm 1.5757(3.3313) | Total Time 10.00(10.00)\n",
      "Iter 0284 | Time 27.4504(26.1103) | Bit/dim 1.4231(1.5371) | Steps 368(358.95) | Grad Norm 3.8569(3.3471) | Total Time 10.00(10.00)\n",
      "Iter 0285 | Time 26.9213(26.1347) | Bit/dim 1.4260(1.5338) | Steps 374(359.40) | Grad Norm 3.5614(3.3535) | Total Time 10.00(10.00)\n",
      "Iter 0286 | Time 27.4156(26.1731) | Bit/dim 1.4156(1.5303) | Steps 368(359.66) | Grad Norm 1.5422(3.2991) | Total Time 10.00(10.00)\n",
      "validating...\n",
      "Epoch 0041 | Time 8.3365, Epoch Time 208.5178, Bit/dim 1.3904\n"
     ]
    },
    {
     "name": "stdout",
     "output_type": "stream",
     "text": [
      "do _generate\n",
      "do _generate\n",
      "do _generate\n",
      "do _generate\n",
      "do _generate\n",
      "do _generate\n",
      "do _generate\n",
      "do _generate\n"
     ]
    },
    {
     "name": "stderr",
     "output_type": "stream",
     "text": [
      "===> Using batch size 8000. Total 7 iterations/epoch.\n",
      "Iter 0287 | Time 26.5884(26.1856) | Bit/dim 1.4079(1.5266) | Steps 368(359.91) | Grad Norm 1.0505(3.2317) | Total Time 10.00(10.00)\n",
      "Iter 0288 | Time 27.1565(26.2147) | Bit/dim 1.4028(1.5229) | Steps 374(360.33) | Grad Norm 2.8587(3.2205) | Total Time 10.00(10.00)\n",
      "Iter 0289 | Time 25.0773(26.1806) | Bit/dim 1.4414(1.5204) | Steps 362(360.38) | Grad Norm 6.3797(3.3153) | Total Time 10.00(10.00)\n",
      "Iter 0290 | Time 28.1359(26.2392) | Bit/dim 1.5015(1.5199) | Steps 380(360.97) | Grad Norm 8.0593(3.4576) | Total Time 10.00(10.00)\n",
      "Iter 0291 | Time 27.1458(26.2664) | Bit/dim 1.4433(1.5176) | Steps 374(361.36) | Grad Norm 6.1029(3.5370) | Total Time 10.00(10.00)\n",
      "Iter 0292 | Time 28.9780(26.3478) | Bit/dim 1.4087(1.5143) | Steps 374(361.74) | Grad Norm 1.7347(3.4829) | Total Time 10.00(10.00)\n",
      "Iter 0293 | Time 26.4952(26.3522) | Bit/dim 1.4466(1.5123) | Steps 362(361.75) | Grad Norm 8.1398(3.6226) | Total Time 10.00(10.00)\n",
      "validating...\n",
      "Epoch 0042 | Time 8.6340, Epoch Time 210.3127, Bit/dim 1.5058\n"
     ]
    },
    {
     "name": "stdout",
     "output_type": "stream",
     "text": [
      "do _generate\n",
      "do _generate\n",
      "do _generate\n",
      "do _generate\n",
      "do _generate\n",
      "do _generate\n",
      "do _generate\n",
      "do _generate\n"
     ]
    },
    {
     "name": "stderr",
     "output_type": "stream",
     "text": [
      "===> Using batch size 8000. Total 7 iterations/epoch.\n",
      "Iter 0294 | Time 26.6717(26.3618) | Bit/dim 1.5199(1.5125) | Steps 380(362.30) | Grad Norm 10.9645(3.8429) | Total Time 10.00(10.00)\n",
      "Iter 0295 | Time 29.9322(26.4689) | Bit/dim 1.5707(1.5142) | Steps 386(363.01) | Grad Norm 6.7277(3.9294) | Total Time 10.00(10.00)\n",
      "Iter 0296 | Time 26.6063(26.4730) | Bit/dim 1.4377(1.5119) | Steps 362(362.98) | Grad Norm 6.2586(3.9993) | Total Time 10.00(10.00)\n",
      "Iter 0297 | Time 25.8051(26.4530) | Bit/dim 1.6097(1.5149) | Steps 356(362.77) | Grad Norm 9.5914(4.1670) | Total Time 10.00(10.00)\n",
      "Iter 0298 | Time 27.4463(26.4828) | Bit/dim 1.4231(1.5121) | Steps 374(363.11) | Grad Norm 2.4472(4.1154) | Total Time 10.00(10.00)\n",
      "Iter 0299 | Time 28.9484(26.5567) | Bit/dim 1.5100(1.5121) | Steps 386(363.79) | Grad Norm 4.9894(4.1417) | Total Time 10.00(10.00)\n",
      "Iter 0300 | Time 28.0654(26.6020) | Bit/dim 1.4405(1.5099) | Steps 386(364.46) | Grad Norm 2.7169(4.0989) | Total Time 10.00(10.00)\n",
      "validating...\n",
      "Epoch 0043 | Time 8.4130, Epoch Time 214.0488, Bit/dim 1.4887\n"
     ]
    },
    {
     "name": "stdout",
     "output_type": "stream",
     "text": [
      "do _generate\n",
      "do _generate\n",
      "do _generate\n",
      "do _generate\n",
      "do _generate\n",
      "do _generate\n",
      "do _generate\n",
      "do _generate\n"
     ]
    },
    {
     "name": "stderr",
     "output_type": "stream",
     "text": [
      "===> Using batch size 8000. Total 7 iterations/epoch.\n",
      "Iter 0301 | Time 25.7593(26.5767) | Bit/dim 1.5081(1.5099) | Steps 368(364.57) | Grad Norm 7.1233(4.1897) | Total Time 10.00(10.00)\n",
      "Iter 0302 | Time 27.2022(26.5955) | Bit/dim 1.4321(1.5075) | Steps 362(364.49) | Grad Norm 3.9198(4.1816) | Total Time 10.00(10.00)\n",
      "Iter 0303 | Time 28.1585(26.6424) | Bit/dim 1.4567(1.5060) | Steps 386(365.13) | Grad Norm 3.6133(4.1645) | Total Time 10.00(10.00)\n",
      "Iter 0304 | Time 28.3053(26.6923) | Bit/dim 1.4594(1.5046) | Steps 380(365.58) | Grad Norm 3.2615(4.1374) | Total Time 10.00(10.00)\n",
      "Iter 0305 | Time 27.1575(26.7062) | Bit/dim 1.4133(1.5019) | Steps 374(365.83) | Grad Norm 2.3717(4.0844) | Total Time 10.00(10.00)\n",
      "Iter 0306 | Time 27.0305(26.7159) | Bit/dim 1.4611(1.5006) | Steps 374(366.08) | Grad Norm 5.0708(4.1140) | Total Time 10.00(10.00)\n",
      "Iter 0307 | Time 28.2552(26.7621) | Bit/dim 1.4049(1.4978) | Steps 374(366.32) | Grad Norm 1.1328(4.0246) | Total Time 10.00(10.00)\n",
      "validating...\n",
      "Epoch 0044 | Time 8.5931, Epoch Time 212.7595, Bit/dim 1.4148\n"
     ]
    },
    {
     "name": "stdout",
     "output_type": "stream",
     "text": [
      "do _generate\n",
      "do _generate\n",
      "do _generate\n",
      "do _generate\n",
      "do _generate\n",
      "do _generate\n",
      "do _generate\n",
      "do _generate\n"
     ]
    },
    {
     "name": "stderr",
     "output_type": "stream",
     "text": [
      "===> Using batch size 8000. Total 7 iterations/epoch.\n",
      "Iter 0308 | Time 27.0512(26.7708) | Bit/dim 1.4259(1.4956) | Steps 374(366.55) | Grad Norm 2.9005(3.9909) | Total Time 10.00(10.00)\n",
      "Iter 0309 | Time 27.8075(26.8019) | Bit/dim 1.4102(1.4931) | Steps 368(366.59) | Grad Norm 1.9325(3.9291) | Total Time 10.00(10.00)\n",
      "Iter 0310 | Time 28.1990(26.8438) | Bit/dim 1.4117(1.4906) | Steps 380(366.99) | Grad Norm 2.5762(3.8885) | Total Time 10.00(10.00)\n",
      "Iter 0311 | Time 28.3934(26.8903) | Bit/dim 1.3979(1.4878) | Steps 374(367.20) | Grad Norm 2.7125(3.8533) | Total Time 10.00(10.00)\n",
      "Iter 0312 | Time 26.8096(26.8879) | Bit/dim 1.4061(1.4854) | Steps 368(367.23) | Grad Norm 2.9799(3.8271) | Total Time 10.00(10.00)\n",
      "Iter 0313 | Time 26.3599(26.8720) | Bit/dim 1.4056(1.4830) | Steps 368(367.25) | Grad Norm 4.4782(3.8466) | Total Time 10.00(10.00)\n",
      "Iter 0314 | Time 28.0777(26.9082) | Bit/dim 1.3997(1.4805) | Steps 374(367.45) | Grad Norm 3.9709(3.8503) | Total Time 10.00(10.00)\n",
      "validating...\n",
      "Epoch 0045 | Time 8.3114, Epoch Time 213.5465, Bit/dim 1.3709\n"
     ]
    },
    {
     "name": "stdout",
     "output_type": "stream",
     "text": [
      "do _generate\n",
      "do _generate\n",
      "do _generate\n",
      "do _generate\n",
      "do _generate\n",
      "do _generate\n",
      "do _generate\n",
      "do _generate\n"
     ]
    },
    {
     "name": "stderr",
     "output_type": "stream",
     "text": [
      "===> Using batch size 8000. Total 7 iterations/epoch.\n",
      "Iter 0315 | Time 28.2068(26.9472) | Bit/dim 1.3859(1.4776) | Steps 380(367.83) | Grad Norm 3.0404(3.8260) | Total Time 10.00(10.00)\n",
      "Iter 0316 | Time 27.2984(26.9577) | Bit/dim 1.3989(1.4753) | Steps 368(367.83) | Grad Norm 5.3864(3.8728) | Total Time 10.00(10.00)\n",
      "Iter 0317 | Time 30.8871(27.0756) | Bit/dim 1.4572(1.4747) | Steps 392(368.56) | Grad Norm 5.0543(3.9083) | Total Time 10.00(10.00)\n",
      "Iter 0318 | Time 28.3680(27.1144) | Bit/dim 1.3741(1.4717) | Steps 374(368.72) | Grad Norm 1.3345(3.8311) | Total Time 10.00(10.00)\n",
      "Iter 0319 | Time 27.6084(27.1292) | Bit/dim 1.4152(1.4700) | Steps 380(369.06) | Grad Norm 3.8333(3.8311) | Total Time 10.00(10.00)\n",
      "Iter 0320 | Time 28.9234(27.1830) | Bit/dim 1.4057(1.4681) | Steps 380(369.39) | Grad Norm 5.5497(3.8827) | Total Time 10.00(10.00)\n",
      "Iter 0321 | Time 27.2627(27.1854) | Bit/dim 1.3856(1.4656) | Steps 380(369.71) | Grad Norm 3.1874(3.8618) | Total Time 10.00(10.00)\n",
      "validating...\n",
      "Epoch 0046 | Time 8.3974, Epoch Time 219.2377, Bit/dim 1.4085\n"
     ]
    },
    {
     "name": "stdout",
     "output_type": "stream",
     "text": [
      "do _generate\n",
      "do _generate\n",
      "do _generate\n",
      "do _generate\n",
      "do _generate\n",
      "do _generate\n",
      "do _generate\n",
      "do _generate\n"
     ]
    },
    {
     "name": "stderr",
     "output_type": "stream",
     "text": [
      "===> Using batch size 8000. Total 7 iterations/epoch.\n",
      "Iter 0322 | Time 25.6426(27.1391) | Bit/dim 1.4233(1.4644) | Steps 368(369.66) | Grad Norm 8.6522(4.0055) | Total Time 10.00(10.00)\n",
      "Iter 0323 | Time 27.5323(27.1509) | Bit/dim 1.5732(1.4676) | Steps 374(369.79) | Grad Norm 12.0182(4.2459) | Total Time 10.00(10.00)\n",
      "Iter 0324 | Time 28.0908(27.1791) | Bit/dim 1.4191(1.4662) | Steps 380(370.09) | Grad Norm 3.8006(4.2326) | Total Time 10.00(10.00)\n",
      "Iter 0325 | Time 26.5219(27.1594) | Bit/dim 1.6331(1.4712) | Steps 374(370.21) | Grad Norm 13.5560(4.5123) | Total Time 10.00(10.00)\n",
      "Iter 0326 | Time 27.5172(27.1701) | Bit/dim 1.4254(1.4698) | Steps 374(370.32) | Grad Norm 4.3278(4.5067) | Total Time 10.00(10.00)\n",
      "Iter 0327 | Time 28.4813(27.2095) | Bit/dim 1.5475(1.4721) | Steps 368(370.25) | Grad Norm 9.2858(4.6501) | Total Time 10.00(10.00)\n",
      "Iter 0328 | Time 27.1907(27.2089) | Bit/dim 1.4095(1.4703) | Steps 374(370.37) | Grad Norm 2.0591(4.5724) | Total Time 10.00(10.00)\n",
      "validating...\n",
      "Epoch 0047 | Time 8.5219, Epoch Time 211.6128, Bit/dim 1.5183\n"
     ]
    },
    {
     "name": "stdout",
     "output_type": "stream",
     "text": [
      "do _generate\n",
      "do _generate\n",
      "do _generate\n",
      "do _generate\n",
      "do _generate\n",
      "do _generate\n",
      "do _generate\n",
      "do _generate\n"
     ]
    },
    {
     "name": "stderr",
     "output_type": "stream",
     "text": [
      "===> Using batch size 8000. Total 7 iterations/epoch.\n",
      "Iter 0329 | Time 25.9444(27.1710) | Bit/dim 1.5321(1.4721) | Steps 374(370.47) | Grad Norm 7.9743(4.6744) | Total Time 10.00(10.00)\n",
      "Iter 0330 | Time 28.2594(27.2036) | Bit/dim 1.4352(1.4710) | Steps 368(370.40) | Grad Norm 2.5943(4.6120) | Total Time 10.00(10.00)\n",
      "Iter 0331 | Time 26.0003(27.1675) | Bit/dim 1.4601(1.4707) | Steps 362(370.15) | Grad Norm 3.4528(4.5773) | Total Time 10.00(10.00)\n",
      "Iter 0332 | Time 26.1311(27.1364) | Bit/dim 1.4618(1.4704) | Steps 362(369.90) | Grad Norm 5.6586(4.6097) | Total Time 10.00(10.00)\n",
      "Iter 0333 | Time 25.9390(27.1005) | Bit/dim 1.4155(1.4688) | Steps 356(369.49) | Grad Norm 1.6670(4.5214) | Total Time 10.00(10.00)\n",
      "Iter 0334 | Time 25.9277(27.0653) | Bit/dim 1.4535(1.4683) | Steps 368(369.44) | Grad Norm 4.3107(4.5151) | Total Time 10.00(10.00)\n",
      "Iter 0335 | Time 26.2017(27.0394) | Bit/dim 1.4110(1.4666) | Steps 362(369.22) | Grad Norm 1.8604(4.4355) | Total Time 10.00(10.00)\n",
      "validating...\n",
      "Epoch 0048 | Time 8.2825, Epoch Time 204.6670, Bit/dim 1.4257\n"
     ]
    },
    {
     "name": "stdout",
     "output_type": "stream",
     "text": [
      "do _generate\n",
      "do _generate\n",
      "do _generate\n",
      "do _generate\n",
      "do _generate\n",
      "do _generate\n",
      "do _generate\n",
      "do _generate\n"
     ]
    },
    {
     "name": "stderr",
     "output_type": "stream",
     "text": [
      "===> Using batch size 8000. Total 7 iterations/epoch.\n",
      "Iter 0336 | Time 27.2071(27.0444) | Bit/dim 1.4404(1.4658) | Steps 368(369.18) | Grad Norm 3.1641(4.3973) | Total Time 10.00(10.00)\n",
      "Iter 0337 | Time 25.8566(27.0088) | Bit/dim 1.4051(1.4640) | Steps 356(368.79) | Grad Norm 2.0785(4.3277) | Total Time 10.00(10.00)\n",
      "Iter 0338 | Time 27.4569(27.0222) | Bit/dim 1.4180(1.4626) | Steps 368(368.76) | Grad Norm 3.2430(4.2952) | Total Time 10.00(10.00)\n",
      "Iter 0339 | Time 27.5542(27.0382) | Bit/dim 1.4000(1.4607) | Steps 374(368.92) | Grad Norm 2.0869(4.2290) | Total Time 10.00(10.00)\n",
      "Iter 0340 | Time 27.4289(27.0499) | Bit/dim 1.3938(1.4587) | Steps 374(369.07) | Grad Norm 2.7373(4.1842) | Total Time 10.00(10.00)\n",
      "Iter 0341 | Time 27.0684(27.0505) | Bit/dim 1.3981(1.4569) | Steps 374(369.22) | Grad Norm 2.5503(4.1352) | Total Time 10.00(10.00)\n",
      "Iter 0342 | Time 27.4986(27.0639) | Bit/dim 1.3902(1.4549) | Steps 368(369.18) | Grad Norm 4.0145(4.1316) | Total Time 10.00(10.00)\n",
      "validating...\n",
      "Epoch 0049 | Time 8.4879, Epoch Time 210.6418, Bit/dim 1.3562\n"
     ]
    },
    {
     "name": "stdout",
     "output_type": "stream",
     "text": [
      "do _generate\n",
      "do _generate\n",
      "do _generate\n",
      "do _generate\n",
      "do _generate\n",
      "do _generate\n",
      "do _generate\n",
      "do _generate\n"
     ]
    },
    {
     "name": "stderr",
     "output_type": "stream",
     "text": [
      "===> Using batch size 8000. Total 7 iterations/epoch.\n",
      "Iter 0343 | Time 27.6076(27.0802) | Bit/dim 1.3668(1.4523) | Steps 374(369.33) | Grad Norm 1.0463(4.0390) | Total Time 10.00(10.00)\n",
      "Iter 0344 | Time 27.4592(27.0916) | Bit/dim 1.3842(1.4502) | Steps 356(368.93) | Grad Norm 3.9363(4.0359) | Total Time 10.00(10.00)\n",
      "Iter 0345 | Time 28.1311(27.1228) | Bit/dim 1.3630(1.4476) | Steps 374(369.08) | Grad Norm 1.2147(3.9513) | Total Time 10.00(10.00)\n",
      "Iter 0346 | Time 27.3620(27.1300) | Bit/dim 1.3878(1.4458) | Steps 374(369.23) | Grad Norm 4.6658(3.9727) | Total Time 10.00(10.00)\n",
      "Iter 0347 | Time 29.9313(27.2140) | Bit/dim 1.3852(1.4440) | Steps 386(369.73) | Grad Norm 3.4567(3.9572) | Total Time 10.00(10.00)\n",
      "Iter 0348 | Time 27.0244(27.2083) | Bit/dim 1.3582(1.4414) | Steps 368(369.68) | Grad Norm 1.0654(3.8705) | Total Time 10.00(10.00)\n",
      "Iter 0349 | Time 27.9013(27.2291) | Bit/dim 1.3845(1.4397) | Steps 374(369.81) | Grad Norm 4.1793(3.8798) | Total Time 10.00(10.00)\n",
      "validating...\n",
      "Epoch 0050 | Time 8.7320, Epoch Time 216.3245, Bit/dim 1.3691\n"
     ]
    },
    {
     "name": "stdout",
     "output_type": "stream",
     "text": [
      "do _generate\n",
      "do _generate\n",
      "do _generate\n",
      "do _generate\n",
      "do _generate\n",
      "do _generate\n",
      "do _generate\n",
      "do _generate\n"
     ]
    },
    {
     "name": "stderr",
     "output_type": "stream",
     "text": [
      "===> Using batch size 8000. Total 7 iterations/epoch.\n",
      "Iter 0350 | Time 28.5899(27.2699) | Bit/dim 1.3849(1.4381) | Steps 380(370.11) | Grad Norm 4.7232(3.9051) | Total Time 10.00(10.00)\n",
      "Iter 0351 | Time 28.0986(27.2948) | Bit/dim 1.3563(1.4356) | Steps 368(370.05) | Grad Norm 1.3290(3.8278) | Total Time 10.00(10.00)\n",
      "Iter 0352 | Time 28.6993(27.3369) | Bit/dim 1.4043(1.4347) | Steps 368(369.99) | Grad Norm 8.3274(3.9628) | Total Time 10.00(10.00)\n",
      "Iter 0353 | Time 27.9838(27.3563) | Bit/dim 1.4721(1.4358) | Steps 374(370.11) | Grad Norm 7.4995(4.0689) | Total Time 10.00(10.00)\n",
      "Iter 0354 | Time 28.7046(27.3968) | Bit/dim 1.3745(1.4340) | Steps 386(370.59) | Grad Norm 4.2073(4.0730) | Total Time 10.00(10.00)\n",
      "Iter 0355 | Time 25.7638(27.3478) | Bit/dim 1.5451(1.4373) | Steps 362(370.33) | Grad Norm 12.1747(4.3161) | Total Time 10.00(10.00)\n",
      "Iter 0356 | Time 27.4178(27.3499) | Bit/dim 1.3851(1.4357) | Steps 374(370.44) | Grad Norm 3.9407(4.3048) | Total Time 10.00(10.00)\n",
      "validating...\n",
      "Epoch 0051 | Time 8.7570, Epoch Time 216.0810, Bit/dim 1.4393\n"
     ]
    },
    {
     "name": "stdout",
     "output_type": "stream",
     "text": [
      "do _generate\n",
      "do _generate\n",
      "do _generate\n",
      "do _generate\n",
      "do _generate\n",
      "do _generate\n",
      "do _generate\n",
      "do _generate\n"
     ]
    },
    {
     "name": "stderr",
     "output_type": "stream",
     "text": [
      "===> Using batch size 8000. Total 7 iterations/epoch.\n",
      "Iter 0357 | Time 28.4050(27.3815) | Bit/dim 1.4511(1.4362) | Steps 374(370.55) | Grad Norm 5.5353(4.3417) | Total Time 10.00(10.00)\n",
      "Iter 0358 | Time 28.1831(27.4056) | Bit/dim 1.3677(1.4341) | Steps 368(370.47) | Grad Norm 1.2947(4.2503) | Total Time 10.00(10.00)\n",
      "Iter 0359 | Time 27.4179(27.4060) | Bit/dim 1.4480(1.4345) | Steps 362(370.22) | Grad Norm 7.3502(4.3433) | Total Time 10.00(10.00)\n",
      "Iter 0360 | Time 27.3270(27.4036) | Bit/dim 1.3686(1.4326) | Steps 362(369.97) | Grad Norm 1.3821(4.2545) | Total Time 10.00(10.00)\n",
      "Iter 0361 | Time 29.1134(27.4549) | Bit/dim 1.4077(1.4318) | Steps 374(370.09) | Grad Norm 4.1697(4.2519) | Total Time 10.00(10.00)\n",
      "Iter 0362 | Time 28.8212(27.4959) | Bit/dim 1.4036(1.4310) | Steps 380(370.39) | Grad Norm 2.9218(4.2120) | Total Time 10.00(10.00)\n",
      "Iter 0363 | Time 27.1642(27.4859) | Bit/dim 1.3680(1.4291) | Steps 362(370.14) | Grad Norm 1.8566(4.1414) | Total Time 10.00(10.00)\n",
      "validating...\n",
      "Epoch 0052 | Time 8.3088, Epoch Time 216.7056, Bit/dim 1.3874\n"
     ]
    },
    {
     "name": "stdout",
     "output_type": "stream",
     "text": [
      "do _generate\n",
      "do _generate\n",
      "do _generate\n",
      "do _generate\n",
      "do _generate\n",
      "do _generate\n",
      "do _generate\n",
      "do _generate\n"
     ]
    },
    {
     "name": "stderr",
     "output_type": "stream",
     "text": [
      "===> Using batch size 8000. Total 7 iterations/epoch.\n",
      "Iter 0364 | Time 27.6445(27.4907) | Bit/dim 1.4017(1.4283) | Steps 368(370.07) | Grad Norm 4.0875(4.1397) | Total Time 10.00(10.00)\n",
      "Iter 0365 | Time 27.1042(27.4791) | Bit/dim 1.3670(1.4264) | Steps 368(370.01) | Grad Norm 2.0068(4.0758) | Total Time 10.00(10.00)\n",
      "Iter 0366 | Time 27.0112(27.4650) | Bit/dim 1.3803(1.4250) | Steps 380(370.31) | Grad Norm 2.5834(4.0310) | Total Time 10.00(10.00)\n",
      "Iter 0367 | Time 27.7628(27.4740) | Bit/dim 1.3681(1.4233) | Steps 374(370.42) | Grad Norm 2.0317(3.9710) | Total Time 10.00(10.00)\n",
      "Iter 0368 | Time 27.5115(27.4751) | Bit/dim 1.3611(1.4215) | Steps 368(370.35) | Grad Norm 2.4220(3.9245) | Total Time 10.00(10.00)\n",
      "Iter 0369 | Time 28.1445(27.4952) | Bit/dim 1.3549(1.4195) | Steps 368(370.28) | Grad Norm 1.9752(3.8661) | Total Time 10.00(10.00)\n",
      "Iter 0370 | Time 27.0853(27.4829) | Bit/dim 1.3618(1.4177) | Steps 374(370.39) | Grad Norm 2.9633(3.8390) | Total Time 10.00(10.00)\n",
      "validating...\n",
      "Epoch 0053 | Time 8.6024, Epoch Time 213.2647, Bit/dim 1.3313\n"
     ]
    },
    {
     "name": "stdout",
     "output_type": "stream",
     "text": [
      "do _generate\n",
      "do _generate\n",
      "do _generate\n",
      "do _generate\n",
      "do _generate\n",
      "do _generate\n",
      "do _generate\n",
      "do _generate\n"
     ]
    },
    {
     "name": "stderr",
     "output_type": "stream",
     "text": [
      "===> Using batch size 8000. Total 7 iterations/epoch.\n",
      "Iter 0371 | Time 27.4112(27.4807) | Bit/dim 1.3474(1.4156) | Steps 362(370.14) | Grad Norm 1.9557(3.7825) | Total Time 10.00(10.00)\n",
      "Iter 0372 | Time 27.5672(27.4833) | Bit/dim 1.3575(1.4139) | Steps 368(370.07) | Grad Norm 2.7362(3.7511) | Total Time 10.00(10.00)\n",
      "Iter 0373 | Time 27.5637(27.4857) | Bit/dim 1.3373(1.4116) | Steps 362(369.83) | Grad Norm 2.4184(3.7111) | Total Time 10.00(10.00)\n",
      "Iter 0374 | Time 27.0789(27.4735) | Bit/dim 1.3398(1.4094) | Steps 374(369.96) | Grad Norm 2.7625(3.6826) | Total Time 10.00(10.00)\n",
      "Iter 0375 | Time 26.9412(27.4576) | Bit/dim 1.3386(1.4073) | Steps 374(370.08) | Grad Norm 2.9796(3.6616) | Total Time 10.00(10.00)\n",
      "Iter 0376 | Time 30.1782(27.5392) | Bit/dim 1.3524(1.4057) | Steps 374(370.19) | Grad Norm 5.3332(3.7117) | Total Time 10.00(10.00)\n",
      "Iter 0377 | Time 27.9633(27.5519) | Bit/dim 1.3371(1.4036) | Steps 374(370.31) | Grad Norm 3.3074(3.6996) | Total Time 10.00(10.00)\n",
      "validating...\n",
      "Epoch 0054 | Time 8.5338, Epoch Time 215.3118, Bit/dim 1.3217\n"
     ]
    },
    {
     "name": "stdout",
     "output_type": "stream",
     "text": [
      "do _generate\n",
      "do _generate\n",
      "do _generate\n",
      "do _generate\n",
      "do _generate\n",
      "do _generate\n",
      "do _generate\n",
      "do _generate\n"
     ]
    },
    {
     "name": "stderr",
     "output_type": "stream",
     "text": [
      "===> Using batch size 8000. Total 7 iterations/epoch.\n",
      "Iter 0378 | Time 29.6174(27.6139) | Bit/dim 1.3372(1.4016) | Steps 386(370.78) | Grad Norm 2.7438(3.6709) | Total Time 10.00(10.00)\n",
      "Iter 0379 | Time 28.1521(27.6300) | Bit/dim 1.3272(1.3994) | Steps 374(370.88) | Grad Norm 2.4553(3.6344) | Total Time 10.00(10.00)\n",
      "Iter 0380 | Time 28.8626(27.6670) | Bit/dim 1.3286(1.3973) | Steps 374(370.97) | Grad Norm 3.5029(3.6305) | Total Time 10.00(10.00)\n",
      "Iter 0381 | Time 27.1232(27.6507) | Bit/dim 1.3318(1.3953) | Steps 368(370.88) | Grad Norm 3.8960(3.6385) | Total Time 10.00(10.00)\n",
      "Iter 0382 | Time 29.5737(27.7084) | Bit/dim 1.3554(1.3941) | Steps 380(371.15) | Grad Norm 5.1421(3.6836) | Total Time 10.00(10.00)\n",
      "Iter 0383 | Time 27.8453(27.7125) | Bit/dim 1.3801(1.3937) | Steps 368(371.06) | Grad Norm 8.5808(3.8305) | Total Time 10.00(10.00)\n",
      "Iter 0384 | Time 28.0441(27.7224) | Bit/dim 1.4593(1.3956) | Steps 380(371.33) | Grad Norm 9.3268(3.9954) | Total Time 10.00(10.00)\n",
      "validating...\n",
      "Epoch 0055 | Time 8.5761, Epoch Time 219.8093, Bit/dim 1.3244\n"
     ]
    },
    {
     "name": "stdout",
     "output_type": "stream",
     "text": [
      "do _generate\n",
      "do _generate\n",
      "do _generate\n",
      "do _generate\n",
      "do _generate\n",
      "do _generate\n",
      "do _generate\n",
      "do _generate\n"
     ]
    },
    {
     "name": "stderr",
     "output_type": "stream",
     "text": [
      "===> Using batch size 8000. Total 7 iterations/epoch.\n",
      "Iter 0385 | Time 27.0762(27.7030) | Bit/dim 1.3405(1.3940) | Steps 374(371.41) | Grad Norm 2.7952(3.9594) | Total Time 10.00(10.00)\n",
      "Iter 0386 | Time 26.9982(27.6819) | Bit/dim 1.4322(1.3951) | Steps 368(371.31) | Grad Norm 10.7943(4.1644) | Total Time 10.00(10.00)\n",
      "Iter 0387 | Time 28.5841(27.7090) | Bit/dim 1.5259(1.3991) | Steps 380(371.57) | Grad Norm 10.0948(4.3423) | Total Time 10.00(10.00)\n",
      "Iter 0388 | Time 29.6238(27.7664) | Bit/dim 1.4490(1.4006) | Steps 380(371.82) | Grad Norm 5.6976(4.3830) | Total Time 10.00(10.00)\n",
      "Iter 0389 | Time 27.1832(27.7489) | Bit/dim 1.4312(1.4015) | Steps 362(371.53) | Grad Norm 6.6222(4.4502) | Total Time 10.00(10.00)\n",
      "Iter 0390 | Time 27.1617(27.7313) | Bit/dim 1.4123(1.4018) | Steps 362(371.24) | Grad Norm 4.6772(4.4570) | Total Time 10.00(10.00)\n",
      "Iter 0391 | Time 28.5206(27.7550) | Bit/dim 1.4257(1.4025) | Steps 368(371.14) | Grad Norm 5.1017(4.4763) | Total Time 10.00(10.00)\n",
      "validating...\n",
      "Epoch 0056 | Time 8.6166, Epoch Time 215.7552, Bit/dim 1.4070\n"
     ]
    },
    {
     "name": "stdout",
     "output_type": "stream",
     "text": [
      "do _generate\n",
      "do _generate\n",
      "do _generate\n",
      "do _generate\n",
      "do _generate\n",
      "do _generate\n",
      "do _generate\n",
      "do _generate\n"
     ]
    },
    {
     "name": "stderr",
     "output_type": "stream",
     "text": [
      "===> Using batch size 8000. Total 7 iterations/epoch.\n",
      "Iter 0392 | Time 28.0647(27.7643) | Bit/dim 1.4210(1.4031) | Steps 380(371.41) | Grad Norm 3.5406(4.4482) | Total Time 10.00(10.00)\n",
      "Iter 0393 | Time 26.8461(27.7367) | Bit/dim 1.4222(1.4036) | Steps 374(371.49) | Grad Norm 3.0903(4.4075) | Total Time 10.00(10.00)\n",
      "Iter 0394 | Time 26.8292(27.7095) | Bit/dim 1.3809(1.4030) | Steps 362(371.20) | Grad Norm 2.6670(4.3553) | Total Time 10.00(10.00)\n",
      "Iter 0395 | Time 27.0574(27.6899) | Bit/dim 1.4078(1.4031) | Steps 362(370.93) | Grad Norm 4.8709(4.3708) | Total Time 10.00(10.00)\n",
      "Iter 0396 | Time 27.6126(27.6876) | Bit/dim 1.3834(1.4025) | Steps 368(370.84) | Grad Norm 2.6315(4.3186) | Total Time 10.00(10.00)\n",
      "Iter 0397 | Time 26.7503(27.6595) | Bit/dim 1.3820(1.4019) | Steps 374(370.93) | Grad Norm 3.0396(4.2802) | Total Time 10.00(10.00)\n",
      "Iter 0398 | Time 28.4429(27.6830) | Bit/dim 1.3778(1.4012) | Steps 374(371.02) | Grad Norm 3.2040(4.2479) | Total Time 10.00(10.00)\n",
      "validating...\n",
      "Epoch 0057 | Time 8.5759, Epoch Time 212.1751, Bit/dim 1.3479\n"
     ]
    },
    {
     "name": "stdout",
     "output_type": "stream",
     "text": [
      "do _generate\n",
      "do _generate\n",
      "do _generate\n",
      "do _generate\n",
      "do _generate\n",
      "do _generate\n",
      "do _generate\n",
      "do _generate\n"
     ]
    },
    {
     "name": "stderr",
     "output_type": "stream",
     "text": [
      "===> Using batch size 8000. Total 7 iterations/epoch.\n",
      "Iter 0399 | Time 28.4456(27.7059) | Bit/dim 1.3581(1.3999) | Steps 368(370.93) | Grad Norm 2.3097(4.1898) | Total Time 10.00(10.00)\n",
      "Iter 0400 | Time 27.8689(27.7108) | Bit/dim 1.3772(1.3992) | Steps 368(370.85) | Grad Norm 4.5747(4.2013) | Total Time 10.00(10.00)\n",
      "Iter 0401 | Time 27.7996(27.7134) | Bit/dim 1.3384(1.3974) | Steps 368(370.76) | Grad Norm 1.2488(4.1127) | Total Time 10.00(10.00)\n",
      "Iter 0402 | Time 27.5973(27.7099) | Bit/dim 1.3562(1.3961) | Steps 374(370.86) | Grad Norm 4.2791(4.1177) | Total Time 10.00(10.00)\n",
      "Iter 0403 | Time 27.9009(27.7157) | Bit/dim 1.3559(1.3949) | Steps 374(370.95) | Grad Norm 2.9883(4.0839) | Total Time 10.00(10.00)\n",
      "Iter 0404 | Time 27.6102(27.7125) | Bit/dim 1.3379(1.3932) | Steps 368(370.86) | Grad Norm 1.7208(4.0130) | Total Time 10.00(10.00)\n",
      "Iter 0405 | Time 27.6040(27.7092) | Bit/dim 1.3496(1.3919) | Steps 368(370.78) | Grad Norm 2.7728(3.9758) | Total Time 10.00(10.00)\n",
      "validating...\n",
      "Epoch 0058 | Time 8.6256, Epoch Time 215.6117, Bit/dim 1.3174\n"
     ]
    },
    {
     "name": "stdout",
     "output_type": "stream",
     "text": [
      "do _generate\n",
      "do _generate\n",
      "do _generate\n",
      "do _generate\n",
      "do _generate\n",
      "do _generate\n",
      "do _generate\n",
      "do _generate\n"
     ]
    },
    {
     "name": "stderr",
     "output_type": "stream",
     "text": [
      "===> Using batch size 8000. Total 7 iterations/epoch.\n",
      "Iter 0406 | Time 28.4175(27.7305) | Bit/dim 1.3358(1.3902) | Steps 368(370.69) | Grad Norm 2.6319(3.9354) | Total Time 10.00(10.00)\n",
      "Iter 0407 | Time 26.9842(27.7081) | Bit/dim 1.3354(1.3886) | Steps 368(370.61) | Grad Norm 3.0475(3.9088) | Total Time 10.00(10.00)\n",
      "Iter 0408 | Time 28.2429(27.7242) | Bit/dim 1.3241(1.3867) | Steps 368(370.53) | Grad Norm 1.8355(3.8466) | Total Time 10.00(10.00)\n",
      "Iter 0409 | Time 27.6261(27.7212) | Bit/dim 1.3217(1.3847) | Steps 368(370.46) | Grad Norm 1.2643(3.7691) | Total Time 10.00(10.00)\n",
      "Iter 0410 | Time 27.2468(27.7070) | Bit/dim 1.3140(1.3826) | Steps 368(370.38) | Grad Norm 2.0563(3.7177) | Total Time 10.00(10.00)\n",
      "Iter 0411 | Time 27.6405(27.7050) | Bit/dim 1.3105(1.3804) | Steps 374(370.49) | Grad Norm 1.2273(3.6430) | Total Time 10.00(10.00)\n",
      "Iter 0412 | Time 27.8017(27.7079) | Bit/dim 1.3252(1.3788) | Steps 374(370.60) | Grad Norm 1.9050(3.5909) | Total Time 10.00(10.00)\n",
      "validating...\n",
      "Epoch 0059 | Time 8.7250, Epoch Time 215.0031, Bit/dim 1.2936\n"
     ]
    },
    {
     "name": "stdout",
     "output_type": "stream",
     "text": [
      "do _generate\n",
      "do _generate\n",
      "do _generate\n",
      "do _generate\n",
      "do _generate\n",
      "do _generate\n",
      "do _generate\n",
      "do _generate\n"
     ]
    },
    {
     "name": "stderr",
     "output_type": "stream",
     "text": [
      "===> Using batch size 8000. Total 7 iterations/epoch.\n",
      "Iter 0413 | Time 27.9404(27.7149) | Bit/dim 1.3075(1.3766) | Steps 380(370.88) | Grad Norm 1.3506(3.5237) | Total Time 10.00(10.00)\n",
      "Iter 0414 | Time 28.7482(27.7459) | Bit/dim 1.3196(1.3749) | Steps 386(371.33) | Grad Norm 2.5409(3.4942) | Total Time 10.00(10.00)\n",
      "Iter 0415 | Time 27.0168(27.7240) | Bit/dim 1.3231(1.3734) | Steps 368(371.23) | Grad Norm 5.0256(3.5401) | Total Time 10.00(10.00)\n",
      "Iter 0416 | Time 30.0861(27.7949) | Bit/dim 1.4469(1.3756) | Steps 374(371.32) | Grad Norm 8.9079(3.7012) | Total Time 10.00(10.00)\n",
      "Iter 0417 | Time 28.0428(27.8023) | Bit/dim 1.4565(1.3780) | Steps 362(371.04) | Grad Norm 10.8582(3.9159) | Total Time 10.00(10.00)\n",
      "Iter 0418 | Time 28.5898(27.8259) | Bit/dim 1.4796(1.3810) | Steps 380(371.31) | Grad Norm 6.9948(4.0083) | Total Time 10.00(10.00)\n",
      "Iter 0419 | Time 30.0901(27.8938) | Bit/dim 1.3679(1.3807) | Steps 374(371.39) | Grad Norm 4.8829(4.0345) | Total Time 10.00(10.00)\n",
      "validating...\n",
      "Epoch 0060 | Time 8.4723, Epoch Time 221.0194, Bit/dim 1.4088\n"
     ]
    },
    {
     "name": "stdout",
     "output_type": "stream",
     "text": [
      "do _generate\n",
      "do _generate\n",
      "do _generate\n",
      "do _generate\n",
      "do _generate\n",
      "do _generate\n",
      "do _generate\n",
      "do _generate\n"
     ]
    },
    {
     "name": "stderr",
     "output_type": "stream",
     "text": [
      "===> Using batch size 8000. Total 7 iterations/epoch.\n",
      "Iter 0420 | Time 27.1775(27.8724) | Bit/dim 1.4244(1.3820) | Steps 368(371.29) | Grad Norm 8.2021(4.1595) | Total Time 10.00(10.00)\n",
      "Iter 0421 | Time 30.0339(27.9372) | Bit/dim 1.4311(1.3834) | Steps 386(371.73) | Grad Norm 5.9694(4.2138) | Total Time 10.00(10.00)\n",
      "Iter 0422 | Time 28.4145(27.9515) | Bit/dim 1.3631(1.3828) | Steps 374(371.80) | Grad Norm 2.3894(4.1591) | Total Time 10.00(10.00)\n",
      "Iter 0423 | Time 27.8509(27.9485) | Bit/dim 1.4176(1.3839) | Steps 362(371.50) | Grad Norm 2.6933(4.1151) | Total Time 10.00(10.00)\n",
      "Iter 0424 | Time 27.7105(27.9414) | Bit/dim 1.3902(1.3841) | Steps 362(371.22) | Grad Norm 3.7921(4.1054) | Total Time 10.00(10.00)\n",
      "Iter 0425 | Time 27.6511(27.9327) | Bit/dim 1.3382(1.3827) | Steps 368(371.12) | Grad Norm 1.6912(4.0330) | Total Time 10.00(10.00)\n",
      "Iter 0426 | Time 27.7748(27.9279) | Bit/dim 1.3724(1.3824) | Steps 368(371.03) | Grad Norm 3.5942(4.0198) | Total Time 10.00(10.00)\n",
      "validating...\n",
      "Epoch 0061 | Time 8.5854, Epoch Time 217.9496, Bit/dim 1.3603\n"
     ]
    },
    {
     "name": "stdout",
     "output_type": "stream",
     "text": [
      "do _generate\n",
      "do _generate\n",
      "do _generate\n",
      "do _generate\n",
      "do _generate\n",
      "do _generate\n",
      "do _generate\n",
      "do _generate\n"
     ]
    },
    {
     "name": "stderr",
     "output_type": "stream",
     "text": [
      "===> Using batch size 8000. Total 7 iterations/epoch.\n",
      "Iter 0427 | Time 28.0987(27.9330) | Bit/dim 1.3799(1.3823) | Steps 368(370.94) | Grad Norm 4.9512(4.0478) | Total Time 10.00(10.00)\n",
      "Iter 0428 | Time 27.0391(27.9062) | Bit/dim 1.3466(1.3812) | Steps 368(370.85) | Grad Norm 3.0832(4.0188) | Total Time 10.00(10.00)\n",
      "Iter 0429 | Time 27.1329(27.8830) | Bit/dim 1.3399(1.3800) | Steps 368(370.76) | Grad Norm 2.7223(3.9799) | Total Time 10.00(10.00)\n",
      "Iter 0430 | Time 27.1352(27.8606) | Bit/dim 1.3400(1.3788) | Steps 368(370.68) | Grad Norm 1.4927(3.9053) | Total Time 10.00(10.00)\n",
      "Iter 0431 | Time 28.2251(27.8715) | Bit/dim 1.3450(1.3778) | Steps 368(370.60) | Grad Norm 2.1768(3.8535) | Total Time 10.00(10.00)\n",
      "Iter 0432 | Time 27.2951(27.8542) | Bit/dim 1.3371(1.3766) | Steps 368(370.52) | Grad Norm 1.9159(3.7953) | Total Time 10.00(10.00)\n",
      "Iter 0433 | Time 27.5177(27.8441) | Bit/dim 1.3100(1.3746) | Steps 368(370.45) | Grad Norm 1.4721(3.7256) | Total Time 10.00(10.00)\n",
      "validating...\n",
      "Epoch 0062 | Time 8.7629, Epoch Time 213.2680, Bit/dim 1.3026\n"
     ]
    },
    {
     "name": "stdout",
     "output_type": "stream",
     "text": [
      "do _generate\n",
      "do _generate\n",
      "do _generate\n",
      "do _generate\n",
      "do _generate\n",
      "do _generate\n",
      "do _generate\n",
      "do _generate\n"
     ]
    },
    {
     "name": "stderr",
     "output_type": "stream",
     "text": [
      "===> Using batch size 8000. Total 7 iterations/epoch.\n",
      "Iter 0434 | Time 27.5560(27.8355) | Bit/dim 1.3140(1.3727) | Steps 374(370.55) | Grad Norm 1.4538(3.6575) | Total Time 10.00(10.00)\n",
      "Iter 0435 | Time 28.1825(27.8459) | Bit/dim 1.3338(1.3716) | Steps 374(370.66) | Grad Norm 3.5634(3.6547) | Total Time 10.00(10.00)\n",
      "Iter 0436 | Time 28.5797(27.8679) | Bit/dim 1.3502(1.3709) | Steps 380(370.94) | Grad Norm 5.9737(3.7242) | Total Time 10.00(10.00)\n",
      "Iter 0437 | Time 28.2125(27.8783) | Bit/dim 1.4285(1.3727) | Steps 350(370.31) | Grad Norm 9.5080(3.8978) | Total Time 10.00(10.00)\n",
      "Iter 0438 | Time 29.6200(27.9305) | Bit/dim 1.3971(1.3734) | Steps 380(370.60) | Grad Norm 6.9051(3.9880) | Total Time 10.00(10.00)\n",
      "Iter 0439 | Time 28.3157(27.9421) | Bit/dim 1.3546(1.3728) | Steps 380(370.88) | Grad Norm 4.4283(4.0012) | Total Time 10.00(10.00)\n",
      "Iter 0440 | Time 27.8266(27.9386) | Bit/dim 1.4253(1.3744) | Steps 380(371.15) | Grad Norm 9.5708(4.1683) | Total Time 10.00(10.00)\n",
      "validating...\n",
      "Epoch 0063 | Time 8.6180, Epoch Time 219.0479, Bit/dim 1.3352\n"
     ]
    },
    {
     "name": "stdout",
     "output_type": "stream",
     "text": [
      "do _generate\n",
      "do _generate\n",
      "do _generate\n",
      "do _generate\n",
      "do _generate\n",
      "do _generate\n",
      "do _generate\n",
      "do _generate\n"
     ]
    },
    {
     "name": "stderr",
     "output_type": "stream",
     "text": [
      "===> Using batch size 8000. Total 7 iterations/epoch.\n",
      "Iter 0441 | Time 28.6498(27.9599) | Bit/dim 1.3457(1.3735) | Steps 380(371.42) | Grad Norm 4.9955(4.1931) | Total Time 10.00(10.00)\n",
      "Iter 0442 | Time 28.3121(27.9705) | Bit/dim 1.3282(1.3722) | Steps 380(371.68) | Grad Norm 3.5604(4.1741) | Total Time 10.00(10.00)\n",
      "Iter 0443 | Time 28.3118(27.9807) | Bit/dim 1.3927(1.3728) | Steps 380(371.93) | Grad Norm 7.4493(4.2724) | Total Time 10.00(10.00)\n",
      "Iter 0444 | Time 29.1608(28.0161) | Bit/dim 1.3181(1.3712) | Steps 380(372.17) | Grad Norm 2.0503(4.2057) | Total Time 10.00(10.00)\n",
      "Iter 0445 | Time 28.8237(28.0404) | Bit/dim 1.3579(1.3708) | Steps 380(372.40) | Grad Norm 4.8228(4.2242) | Total Time 10.00(10.00)\n",
      "Iter 0446 | Time 28.6621(28.0590) | Bit/dim 1.3146(1.3691) | Steps 380(372.63) | Grad Norm 1.5593(4.1443) | Total Time 10.00(10.00)\n",
      "Iter 0447 | Time 27.8632(28.0531) | Bit/dim 1.3439(1.3683) | Steps 368(372.49) | Grad Norm 5.0547(4.1716) | Total Time 10.00(10.00)\n",
      "validating...\n",
      "Epoch 0064 | Time 8.4892, Epoch Time 220.5620, Bit/dim 1.3194\n"
     ]
    },
    {
     "name": "stdout",
     "output_type": "stream",
     "text": [
      "do _generate\n",
      "do _generate\n",
      "do _generate\n",
      "do _generate\n",
      "do _generate\n",
      "do _generate\n",
      "do _generate\n",
      "do _generate\n"
     ]
    },
    {
     "name": "stderr",
     "output_type": "stream",
     "text": [
      "===> Using batch size 8000. Total 7 iterations/epoch.\n",
      "Iter 0448 | Time 29.0438(28.0829) | Bit/dim 1.3297(1.3672) | Steps 380(372.72) | Grad Norm 4.1441(4.1708) | Total Time 10.00(10.00)\n",
      "Iter 0449 | Time 29.1459(28.1148) | Bit/dim 1.3038(1.3653) | Steps 368(372.58) | Grad Norm 1.9094(4.1029) | Total Time 10.00(10.00)\n",
      "Iter 0450 | Time 27.2665(28.0893) | Bit/dim 1.3432(1.3646) | Steps 368(372.44) | Grad Norm 5.3665(4.1408) | Total Time 10.00(10.00)\n",
      "Iter 0451 | Time 28.4258(28.0994) | Bit/dim 1.3085(1.3629) | Steps 368(372.31) | Grad Norm 2.7799(4.1000) | Total Time 10.00(10.00)\n",
      "Iter 0452 | Time 28.5879(28.1141) | Bit/dim 1.3127(1.3614) | Steps 368(372.18) | Grad Norm 2.9273(4.0648) | Total Time 10.00(10.00)\n",
      "Iter 0453 | Time 26.6785(28.0710) | Bit/dim 1.3240(1.3603) | Steps 368(372.05) | Grad Norm 4.8638(4.0888) | Total Time 10.00(10.00)\n",
      "Iter 0454 | Time 29.8709(28.1250) | Bit/dim 1.3023(1.3585) | Steps 368(371.93) | Grad Norm 2.3902(4.0378) | Total Time 10.00(10.00)\n",
      "validating...\n",
      "Epoch 0065 | Time 8.6832, Epoch Time 219.9012, Bit/dim 1.2825\n"
     ]
    },
    {
     "name": "stdout",
     "output_type": "stream",
     "text": [
      "do _generate\n",
      "do _generate\n",
      "do _generate\n",
      "do _generate\n",
      "do _generate\n",
      "do _generate\n",
      "do _generate\n",
      "do _generate\n"
     ]
    },
    {
     "name": "stderr",
     "output_type": "stream",
     "text": [
      "===> Using batch size 8000. Total 7 iterations/epoch.\n",
      "Iter 0455 | Time 27.7609(28.1141) | Bit/dim 1.2953(1.3567) | Steps 374(371.99) | Grad Norm 2.4107(3.9890) | Total Time 10.00(10.00)\n",
      "Iter 0456 | Time 27.7510(28.1032) | Bit/dim 1.3191(1.3555) | Steps 368(371.87) | Grad Norm 5.4606(4.0332) | Total Time 10.00(10.00)\n",
      "Iter 0457 | Time 28.8662(28.1261) | Bit/dim 1.3360(1.3549) | Steps 380(372.12) | Grad Norm 5.3580(4.0729) | Total Time 10.00(10.00)\n",
      "Iter 0458 | Time 27.9054(28.1194) | Bit/dim 1.2992(1.3533) | Steps 374(372.17) | Grad Norm 2.3541(4.0213) | Total Time 10.00(10.00)\n",
      "Iter 0459 | Time 27.7321(28.1078) | Bit/dim 1.2951(1.3515) | Steps 374(372.23) | Grad Norm 1.8999(3.9577) | Total Time 10.00(10.00)\n",
      "Iter 0460 | Time 28.7314(28.1265) | Bit/dim 1.3100(1.3503) | Steps 380(372.46) | Grad Norm 4.1835(3.9645) | Total Time 10.00(10.00)\n",
      "Iter 0461 | Time 27.9630(28.1216) | Bit/dim 1.2962(1.3487) | Steps 368(372.33) | Grad Norm 3.8384(3.9607) | Total Time 10.00(10.00)\n",
      "validating...\n",
      "Epoch 0066 | Time 8.5887, Epoch Time 217.4760, Bit/dim 1.2712\n"
     ]
    },
    {
     "name": "stdout",
     "output_type": "stream",
     "text": [
      "do _generate\n",
      "do _generate\n",
      "do _generate\n",
      "do _generate\n",
      "do _generate\n",
      "do _generate\n",
      "do _generate\n",
      "do _generate\n"
     ]
    },
    {
     "name": "stderr",
     "output_type": "stream",
     "text": [
      "===> Using batch size 8000. Total 7 iterations/epoch.\n",
      "Iter 0462 | Time 29.5782(28.1653) | Bit/dim 1.2894(1.3469) | Steps 380(372.56) | Grad Norm 1.9208(3.8995) | Total Time 10.00(10.00)\n",
      "Iter 0463 | Time 29.7943(28.2142) | Bit/dim 1.2790(1.3448) | Steps 380(372.78) | Grad Norm 0.7894(3.8062) | Total Time 10.00(10.00)\n",
      "Iter 0464 | Time 27.3285(28.1876) | Bit/dim 1.2826(1.3430) | Steps 368(372.64) | Grad Norm 2.5023(3.7671) | Total Time 10.00(10.00)\n",
      "Iter 0465 | Time 29.5249(28.2277) | Bit/dim 1.2959(1.3416) | Steps 380(372.86) | Grad Norm 4.5277(3.7899) | Total Time 10.00(10.00)\n",
      "Iter 0466 | Time 27.8497(28.2164) | Bit/dim 1.3259(1.3411) | Steps 380(373.07) | Grad Norm 7.5482(3.9026) | Total Time 10.00(10.00)\n",
      "Iter 0467 | Time 29.0827(28.2424) | Bit/dim 1.3789(1.3422) | Steps 380(373.28) | Grad Norm 7.7857(4.0191) | Total Time 10.00(10.00)\n",
      "Iter 0468 | Time 28.3829(28.2466) | Bit/dim 1.3013(1.3410) | Steps 374(373.30) | Grad Norm 3.2452(3.9959) | Total Time 10.00(10.00)\n",
      "validating...\n",
      "Epoch 0067 | Time 8.5843, Epoch Time 222.4696, Bit/dim 1.2881\n"
     ]
    },
    {
     "name": "stdout",
     "output_type": "stream",
     "text": [
      "do _generate\n",
      "do _generate\n",
      "do _generate\n",
      "do _generate\n",
      "do _generate\n",
      "do _generate\n",
      "do _generate\n",
      "do _generate\n"
     ]
    },
    {
     "name": "stderr",
     "output_type": "stream",
     "text": [
      "===> Using batch size 8000. Total 7 iterations/epoch.\n",
      "Iter 0469 | Time 27.7783(28.2326) | Bit/dim 1.3012(1.3398) | Steps 374(373.32) | Grad Norm 3.6260(3.9848) | Total Time 10.00(10.00)\n",
      "Iter 0470 | Time 28.7542(28.2482) | Bit/dim 1.3489(1.3401) | Steps 374(373.34) | Grad Norm 6.4606(4.0591) | Total Time 10.00(10.00)\n",
      "Iter 0471 | Time 27.5680(28.2278) | Bit/dim 1.3011(1.3389) | Steps 374(373.36) | Grad Norm 3.9073(4.0545) | Total Time 10.00(10.00)\n",
      "Iter 0472 | Time 27.2210(28.1976) | Bit/dim 1.2972(1.3377) | Steps 368(373.20) | Grad Norm 3.9032(4.0500) | Total Time 10.00(10.00)\n",
      "Iter 0473 | Time 29.4143(28.2341) | Bit/dim 1.3259(1.3373) | Steps 380(373.41) | Grad Norm 5.1964(4.0844) | Total Time 10.00(10.00)\n",
      "Iter 0474 | Time 28.6514(28.2466) | Bit/dim 1.3062(1.3364) | Steps 374(373.42) | Grad Norm 3.4254(4.0646) | Total Time 10.00(10.00)\n",
      "Iter 0475 | Time 27.3900(28.2209) | Bit/dim 1.3175(1.3358) | Steps 368(373.26) | Grad Norm 4.7492(4.0852) | Total Time 10.00(10.00)\n",
      "validating...\n",
      "Epoch 0068 | Time 8.6838, Epoch Time 217.7506, Bit/dim 1.3006\n"
     ]
    },
    {
     "name": "stdout",
     "output_type": "stream",
     "text": [
      "do _generate\n",
      "do _generate\n",
      "do _generate\n",
      "do _generate\n",
      "do _generate\n",
      "do _generate\n",
      "do _generate\n",
      "do _generate\n"
     ]
    },
    {
     "name": "stderr",
     "output_type": "stream",
     "text": [
      "===> Using batch size 8000. Total 7 iterations/epoch.\n",
      "Iter 0476 | Time 29.1722(28.2495) | Bit/dim 1.3161(1.3352) | Steps 380(373.46) | Grad Norm 5.2743(4.1208) | Total Time 10.00(10.00)\n",
      "Iter 0477 | Time 29.7888(28.2956) | Bit/dim 1.3108(1.3345) | Steps 380(373.66) | Grad Norm 3.7578(4.1099) | Total Time 10.00(10.00)\n",
      "Iter 0478 | Time 27.3153(28.2662) | Bit/dim 1.3056(1.3336) | Steps 368(373.49) | Grad Norm 5.2200(4.1432) | Total Time 10.00(10.00)\n",
      "Iter 0479 | Time 28.4949(28.2731) | Bit/dim 1.3697(1.3347) | Steps 380(373.68) | Grad Norm 8.5747(4.2762) | Total Time 10.00(10.00)\n",
      "Iter 0480 | Time 28.3995(28.2769) | Bit/dim 1.3351(1.3347) | Steps 374(373.69) | Grad Norm 4.6747(4.2881) | Total Time 10.00(10.00)\n",
      "Iter 0481 | Time 27.5903(28.2563) | Bit/dim 1.3160(1.3341) | Steps 368(373.52) | Grad Norm 4.0685(4.2816) | Total Time 10.00(10.00)\n",
      "Iter 0482 | Time 30.2395(28.3158) | Bit/dim 1.3264(1.3339) | Steps 368(373.36) | Grad Norm 5.9149(4.3306) | Total Time 10.00(10.00)\n",
      "validating...\n",
      "Epoch 0069 | Time 8.3832, Epoch Time 221.5943, Bit/dim 1.2963\n"
     ]
    },
    {
     "name": "stdout",
     "output_type": "stream",
     "text": [
      "do _generate\n",
      "do _generate\n",
      "do _generate\n",
      "do _generate\n",
      "do _generate\n",
      "do _generate\n",
      "do _generate\n",
      "do _generate\n"
     ]
    },
    {
     "name": "stderr",
     "output_type": "stream",
     "text": [
      "===> Using batch size 8000. Total 7 iterations/epoch.\n",
      "Iter 0483 | Time 27.6513(28.2958) | Bit/dim 1.3085(1.3332) | Steps 368(373.20) | Grad Norm 3.7853(4.3142) | Total Time 10.00(10.00)\n",
      "Iter 0484 | Time 29.3645(28.3279) | Bit/dim 1.2860(1.3317) | Steps 374(373.22) | Grad Norm 1.3213(4.2244) | Total Time 10.00(10.00)\n",
      "Iter 0485 | Time 28.9955(28.3479) | Bit/dim 1.3120(1.3311) | Steps 380(373.42) | Grad Norm 3.9097(4.2150) | Total Time 10.00(10.00)\n",
      "Iter 0486 | Time 27.2486(28.3150) | Bit/dim 1.3150(1.3307) | Steps 362(373.08) | Grad Norm 6.3562(4.2792) | Total Time 10.00(10.00)\n",
      "Iter 0487 | Time 28.9668(28.3345) | Bit/dim 1.3464(1.3311) | Steps 380(373.29) | Grad Norm 6.4443(4.3442) | Total Time 10.00(10.00)\n",
      "Iter 0488 | Time 27.5074(28.3097) | Bit/dim 1.2959(1.3301) | Steps 374(373.31) | Grad Norm 2.1416(4.2781) | Total Time 10.00(10.00)\n",
      "Iter 0489 | Time 27.5687(28.2875) | Bit/dim 1.2948(1.3290) | Steps 374(373.33) | Grad Norm 4.0738(4.2719) | Total Time 10.00(10.00)\n",
      "validating...\n",
      "Epoch 0070 | Time 8.6379, Epoch Time 218.4081, Bit/dim 1.3384\n"
     ]
    },
    {
     "name": "stdout",
     "output_type": "stream",
     "text": [
      "do _generate\n",
      "do _generate\n",
      "do _generate\n",
      "do _generate\n",
      "do _generate\n",
      "do _generate\n",
      "do _generate\n",
      "do _generate\n"
     ]
    },
    {
     "name": "stderr",
     "output_type": "stream",
     "text": [
      "===> Using batch size 8000. Total 7 iterations/epoch.\n",
      "Iter 0490 | Time 29.7445(28.3312) | Bit/dim 1.3535(1.3298) | Steps 374(373.35) | Grad Norm 6.1664(4.3288) | Total Time 10.00(10.00)\n",
      "Iter 0491 | Time 27.5291(28.3071) | Bit/dim 1.2966(1.3288) | Steps 374(373.37) | Grad Norm 4.4887(4.3336) | Total Time 10.00(10.00)\n",
      "Iter 0492 | Time 30.9312(28.3858) | Bit/dim 1.2831(1.3274) | Steps 368(373.21) | Grad Norm 1.5990(4.2515) | Total Time 10.00(10.00)\n",
      "Iter 0493 | Time 29.6460(28.4236) | Bit/dim 1.2988(1.3265) | Steps 380(373.41) | Grad Norm 3.9991(4.2440) | Total Time 10.00(10.00)\n",
      "Iter 0494 | Time 27.9545(28.4096) | Bit/dim 1.2836(1.3252) | Steps 368(373.25) | Grad Norm 3.9206(4.2343) | Total Time 10.00(10.00)\n",
      "Iter 0495 | Time 28.7166(28.4188) | Bit/dim 1.2848(1.3240) | Steps 380(373.45) | Grad Norm 2.7627(4.1901) | Total Time 10.00(10.00)\n",
      "Iter 0496 | Time 29.5820(28.4537) | Bit/dim 1.2738(1.3225) | Steps 374(373.47) | Grad Norm 1.0471(4.0958) | Total Time 10.00(10.00)\n",
      "validating...\n",
      "Epoch 0071 | Time 8.7414, Epoch Time 224.9396, Bit/dim 1.2591\n"
     ]
    },
    {
     "name": "stdout",
     "output_type": "stream",
     "text": [
      "do _generate\n",
      "do _generate\n",
      "do _generate\n",
      "do _generate\n",
      "do _generate\n",
      "do _generate\n",
      "do _generate\n",
      "do _generate\n"
     ]
    },
    {
     "name": "stderr",
     "output_type": "stream",
     "text": [
      "===> Using batch size 8000. Total 7 iterations/epoch.\n",
      "Iter 0497 | Time 27.6999(28.4311) | Bit/dim 1.2688(1.3209) | Steps 374(373.49) | Grad Norm 1.6735(4.0232) | Total Time 10.00(10.00)\n",
      "Iter 0498 | Time 29.0478(28.4496) | Bit/dim 1.2745(1.3195) | Steps 380(373.68) | Grad Norm 3.6214(4.0111) | Total Time 10.00(10.00)\n",
      "Iter 0499 | Time 28.5411(28.4523) | Bit/dim 1.3112(1.3193) | Steps 368(373.51) | Grad Norm 6.9682(4.0998) | Total Time 10.00(10.00)\n",
      "Iter 0500 | Time 30.3298(28.5086) | Bit/dim 1.3810(1.3211) | Steps 386(373.89) | Grad Norm 7.5726(4.2040) | Total Time 10.00(10.00)\n",
      "Iter 0501 | Time 27.5439(28.4797) | Bit/dim 1.2917(1.3202) | Steps 374(373.89) | Grad Norm 3.3252(4.1776) | Total Time 10.00(10.00)\n",
      "Iter 0502 | Time 27.5981(28.4532) | Bit/dim 1.2889(1.3193) | Steps 368(373.71) | Grad Norm 3.5672(4.1593) | Total Time 10.00(10.00)\n",
      "Iter 0503 | Time 28.1682(28.4447) | Bit/dim 1.3513(1.3203) | Steps 374(373.72) | Grad Norm 6.6459(4.2339) | Total Time 10.00(10.00)\n",
      "validating...\n",
      "Epoch 0072 | Time 8.5149, Epoch Time 219.7612, Bit/dim 1.2782\n"
     ]
    },
    {
     "name": "stdout",
     "output_type": "stream",
     "text": [
      "do _generate\n",
      "do _generate\n",
      "do _generate\n",
      "do _generate\n",
      "do _generate\n",
      "do _generate\n",
      "do _generate\n",
      "do _generate\n"
     ]
    },
    {
     "name": "stderr",
     "output_type": "stream",
     "text": [
      "===> Using batch size 8000. Total 7 iterations/epoch.\n",
      "Iter 0504 | Time 28.9417(28.4596) | Bit/dim 1.2971(1.3196) | Steps 374(373.73) | Grad Norm 3.8514(4.2224) | Total Time 10.00(10.00)\n",
      "Iter 0505 | Time 27.8952(28.4427) | Bit/dim 1.2879(1.3186) | Steps 368(373.56) | Grad Norm 2.9532(4.1844) | Total Time 10.00(10.00)\n",
      "Iter 0506 | Time 28.8908(28.4561) | Bit/dim 1.3164(1.3185) | Steps 380(373.75) | Grad Norm 5.9394(4.2370) | Total Time 10.00(10.00)\n",
      "Iter 0507 | Time 29.8655(28.4984) | Bit/dim 1.2705(1.3171) | Steps 368(373.58) | Grad Norm 1.4287(4.1528) | Total Time 10.00(10.00)\n",
      "Iter 0508 | Time 28.1108(28.4868) | Bit/dim 1.3015(1.3166) | Steps 368(373.41) | Grad Norm 6.4124(4.2206) | Total Time 10.00(10.00)\n",
      "Iter 0509 | Time 29.2294(28.5090) | Bit/dim 1.3443(1.3175) | Steps 380(373.61) | Grad Norm 6.5555(4.2906) | Total Time 10.00(10.00)\n",
      "Iter 0510 | Time 28.8153(28.5182) | Bit/dim 1.2704(1.3161) | Steps 368(373.44) | Grad Norm 1.6762(4.2122) | Total Time 10.00(10.00)\n",
      "validating...\n",
      "Epoch 0073 | Time 8.4361, Epoch Time 222.3012, Bit/dim 1.3340\n"
     ]
    },
    {
     "name": "stdout",
     "output_type": "stream",
     "text": [
      "do _generate\n",
      "do _generate\n",
      "do _generate\n",
      "do _generate\n",
      "do _generate\n",
      "do _generate\n",
      "do _generate\n",
      "do _generate\n"
     ]
    },
    {
     "name": "stderr",
     "output_type": "stream",
     "text": [
      "===> Using batch size 8000. Total 7 iterations/epoch.\n",
      "Iter 0511 | Time 27.0578(28.4744) | Bit/dim 1.3465(1.3170) | Steps 362(373.10) | Grad Norm 8.3339(4.3358) | Total Time 10.00(10.00)\n",
      "Iter 0512 | Time 28.1398(28.4644) | Bit/dim 1.3472(1.3179) | Steps 380(373.30) | Grad Norm 5.7313(4.3777) | Total Time 10.00(10.00)\n",
      "Iter 0513 | Time 28.7924(28.4742) | Bit/dim 1.3089(1.3176) | Steps 380(373.50) | Grad Norm 4.2934(4.3752) | Total Time 10.00(10.00)\n",
      "Iter 0514 | Time 27.0456(28.4314) | Bit/dim 1.3457(1.3185) | Steps 362(373.16) | Grad Norm 6.9696(4.4530) | Total Time 10.00(10.00)\n",
      "Iter 0515 | Time 30.2847(28.4870) | Bit/dim 1.2810(1.3173) | Steps 368(373.00) | Grad Norm 1.5895(4.3671) | Total Time 10.00(10.00)\n",
      "Iter 0516 | Time 28.6172(28.4909) | Bit/dim 1.3181(1.3173) | Steps 380(373.21) | Grad Norm 3.9863(4.3557) | Total Time 10.00(10.00)\n",
      "Iter 0517 | Time 28.8911(28.5029) | Bit/dim 1.2891(1.3165) | Steps 386(373.60) | Grad Norm 2.3106(4.2943) | Total Time 10.00(10.00)\n",
      "validating...\n",
      "Epoch 0074 | Time 8.5414, Epoch Time 219.8270, Bit/dim 1.2952\n"
     ]
    },
    {
     "name": "stdout",
     "output_type": "stream",
     "text": [
      "do _generate\n",
      "do _generate\n",
      "do _generate\n",
      "do _generate\n",
      "do _generate\n",
      "do _generate\n",
      "do _generate\n",
      "do _generate\n"
     ]
    },
    {
     "name": "stderr",
     "output_type": "stream",
     "text": [
      "===> Using batch size 8000. Total 7 iterations/epoch.\n",
      "Iter 0518 | Time 27.1304(28.4617) | Bit/dim 1.3131(1.3164) | Steps 368(373.43) | Grad Norm 4.8537(4.3111) | Total Time 10.00(10.00)\n",
      "Iter 0519 | Time 30.3438(28.5182) | Bit/dim 1.2823(1.3154) | Steps 380(373.63) | Grad Norm 3.3171(4.2813) | Total Time 10.00(10.00)\n",
      "Iter 0520 | Time 28.8487(28.5281) | Bit/dim 1.2876(1.3145) | Steps 380(373.82) | Grad Norm 3.0289(4.2437) | Total Time 10.00(10.00)\n",
      "Iter 0521 | Time 27.0063(28.4824) | Bit/dim 1.2741(1.3133) | Steps 368(373.64) | Grad Norm 2.5670(4.1934) | Total Time 10.00(10.00)\n",
      "Iter 0522 | Time 28.0067(28.4682) | Bit/dim 1.2855(1.3125) | Steps 374(373.65) | Grad Norm 3.1372(4.1617) | Total Time 10.00(10.00)\n",
      "Iter 0523 | Time 28.7822(28.4776) | Bit/dim 1.2856(1.3117) | Steps 380(373.85) | Grad Norm 4.0057(4.1570) | Total Time 10.00(10.00)\n",
      "Iter 0524 | Time 26.8200(28.4279) | Bit/dim 1.2839(1.3109) | Steps 368(373.67) | Grad Norm 2.9839(4.1218) | Total Time 10.00(10.00)\n",
      "validating...\n",
      "Epoch 0075 | Time 8.7728, Epoch Time 217.9088, Bit/dim 1.2503\n"
     ]
    },
    {
     "name": "stdout",
     "output_type": "stream",
     "text": [
      "do _generate\n",
      "do _generate\n",
      "do _generate\n",
      "do _generate\n",
      "do _generate\n",
      "do _generate\n",
      "do _generate\n",
      "do _generate\n"
     ]
    },
    {
     "name": "stderr",
     "output_type": "stream",
     "text": [
      "===> Using batch size 8000. Total 7 iterations/epoch.\n",
      "Iter 0525 | Time 27.7658(28.4080) | Bit/dim 1.2677(1.3096) | Steps 374(373.68) | Grad Norm 1.9392(4.0564) | Total Time 10.00(10.00)\n",
      "Iter 0526 | Time 30.1580(28.4605) | Bit/dim 1.2997(1.3093) | Steps 380(373.87) | Grad Norm 5.4726(4.0988) | Total Time 10.00(10.00)\n",
      "Iter 0527 | Time 28.3061(28.4559) | Bit/dim 1.2906(1.3087) | Steps 374(373.87) | Grad Norm 5.7428(4.1482) | Total Time 10.00(10.00)\n",
      "Iter 0528 | Time 29.7414(28.4944) | Bit/dim 1.2978(1.3084) | Steps 380(374.06) | Grad Norm 4.8123(4.1681) | Total Time 10.00(10.00)\n",
      "Iter 0529 | Time 28.9390(28.5078) | Bit/dim 1.2568(1.3068) | Steps 380(374.24) | Grad Norm 1.4775(4.0874) | Total Time 10.00(10.00)\n",
      "Iter 0530 | Time 28.9259(28.5203) | Bit/dim 1.2772(1.3059) | Steps 374(374.23) | Grad Norm 3.6511(4.0743) | Total Time 10.00(10.00)\n",
      "Iter 0531 | Time 28.7372(28.5268) | Bit/dim 1.3148(1.3062) | Steps 374(374.22) | Grad Norm 6.1515(4.1366) | Total Time 10.00(10.00)\n",
      "validating...\n",
      "Epoch 0076 | Time 8.6886, Epoch Time 223.5553, Bit/dim 1.2963\n"
     ]
    },
    {
     "name": "stdout",
     "output_type": "stream",
     "text": [
      "do _generate\n",
      "do _generate\n",
      "do _generate\n",
      "do _generate\n",
      "do _generate\n",
      "do _generate\n",
      "do _generate\n",
      "do _generate\n"
     ]
    },
    {
     "name": "stderr",
     "output_type": "stream",
     "text": [
      "===> Using batch size 8000. Total 7 iterations/epoch.\n",
      "Iter 0532 | Time 29.0099(28.5413) | Bit/dim 1.3136(1.3064) | Steps 380(374.39) | Grad Norm 6.4200(4.2051) | Total Time 10.00(10.00)\n",
      "Iter 0533 | Time 28.7692(28.5481) | Bit/dim 1.2800(1.3056) | Steps 380(374.56) | Grad Norm 3.4395(4.1821) | Total Time 10.00(10.00)\n",
      "Iter 0534 | Time 28.9490(28.5602) | Bit/dim 1.2703(1.3046) | Steps 374(374.55) | Grad Norm 3.5926(4.1645) | Total Time 10.00(10.00)\n",
      "Iter 0535 | Time 28.1973(28.5493) | Bit/dim 1.2933(1.3042) | Steps 368(374.35) | Grad Norm 6.9040(4.2466) | Total Time 10.00(10.00)\n",
      "Iter 0536 | Time 29.1393(28.5670) | Bit/dim 1.3218(1.3048) | Steps 374(374.34) | Grad Norm 5.7470(4.2916) | Total Time 10.00(10.00)\n",
      "Iter 0537 | Time 29.7725(28.6032) | Bit/dim 1.2816(1.3041) | Steps 368(374.15) | Grad Norm 2.5233(4.2386) | Total Time 10.00(10.00)\n",
      "Iter 0538 | Time 27.8192(28.5796) | Bit/dim 1.2995(1.3039) | Steps 374(374.14) | Grad Norm 4.1367(4.2355) | Total Time 10.00(10.00)\n",
      "validating...\n",
      "Epoch 0077 | Time 8.6696, Epoch Time 222.5178, Bit/dim 1.2823\n"
     ]
    },
    {
     "name": "stdout",
     "output_type": "stream",
     "text": [
      "do _generate\n",
      "do _generate\n",
      "do _generate\n",
      "do _generate\n",
      "do _generate\n",
      "do _generate\n",
      "do _generate\n",
      "do _generate\n"
     ]
    },
    {
     "name": "stderr",
     "output_type": "stream",
     "text": [
      "===> Using batch size 8000. Total 7 iterations/epoch.\n",
      "Iter 0539 | Time 29.3608(28.6031) | Bit/dim 1.2949(1.3037) | Steps 380(374.32) | Grad Norm 4.2952(4.2373) | Total Time 10.00(10.00)\n",
      "Iter 0540 | Time 29.0480(28.6164) | Bit/dim 1.2744(1.3028) | Steps 380(374.49) | Grad Norm 2.9379(4.1983) | Total Time 10.00(10.00)\n",
      "Iter 0541 | Time 28.7605(28.6207) | Bit/dim 1.3250(1.3034) | Steps 362(374.12) | Grad Norm 7.9690(4.3115) | Total Time 10.00(10.00)\n",
      "Iter 0542 | Time 29.4334(28.6451) | Bit/dim 1.3256(1.3041) | Steps 380(374.29) | Grad Norm 7.0140(4.3925) | Total Time 10.00(10.00)\n",
      "Iter 0543 | Time 29.2679(28.6638) | Bit/dim 1.2849(1.3035) | Steps 386(374.64) | Grad Norm 2.8505(4.3463) | Total Time 10.00(10.00)\n",
      "Iter 0544 | Time 28.2333(28.6509) | Bit/dim 1.3257(1.3042) | Steps 374(374.62) | Grad Norm 6.7484(4.4183) | Total Time 10.00(10.00)\n",
      "Iter 0545 | Time 29.6917(28.6821) | Bit/dim 1.2939(1.3039) | Steps 374(374.61) | Grad Norm 4.4184(4.4183) | Total Time 10.00(10.00)\n",
      "validating...\n",
      "Epoch 0078 | Time 8.6644, Epoch Time 224.8134, Bit/dim 1.2577\n"
     ]
    },
    {
     "name": "stdout",
     "output_type": "stream",
     "text": [
      "do _generate\n",
      "do _generate\n",
      "do _generate\n",
      "do _generate\n",
      "do _generate\n",
      "do _generate\n",
      "do _generate\n",
      "do _generate\n"
     ]
    },
    {
     "name": "stderr",
     "output_type": "stream",
     "text": [
      "===> Using batch size 8000. Total 7 iterations/epoch.\n",
      "Iter 0546 | Time 30.1379(28.7258) | Bit/dim 1.2712(1.3029) | Steps 380(374.77) | Grad Norm 2.9738(4.3750) | Total Time 10.00(10.00)\n",
      "Iter 0547 | Time 28.3139(28.7134) | Bit/dim 1.3132(1.3032) | Steps 380(374.92) | Grad Norm 6.2803(4.4322) | Total Time 10.00(10.00)\n",
      "Iter 0548 | Time 28.8176(28.7166) | Bit/dim 1.2716(1.3023) | Steps 380(375.08) | Grad Norm 2.7281(4.3810) | Total Time 10.00(10.00)\n",
      "Iter 0549 | Time 28.4283(28.7079) | Bit/dim 1.2786(1.3016) | Steps 380(375.22) | Grad Norm 3.6867(4.3602) | Total Time 10.00(10.00)\n",
      "Iter 0550 | Time 27.3284(28.6665) | Bit/dim 1.3005(1.3015) | Steps 362(374.83) | Grad Norm 5.5543(4.3960) | Total Time 10.00(10.00)\n",
      "Iter 0551 | Time 29.0449(28.6779) | Bit/dim 1.2707(1.3006) | Steps 380(374.98) | Grad Norm 3.0908(4.3569) | Total Time 10.00(10.00)\n",
      "Iter 0552 | Time 29.5612(28.7044) | Bit/dim 1.2643(1.2995) | Steps 380(375.13) | Grad Norm 2.7328(4.3082) | Total Time 10.00(10.00)\n",
      "validating...\n",
      "Epoch 0079 | Time 8.3308, Epoch Time 222.2505, Bit/dim 1.2847\n"
     ]
    },
    {
     "name": "stdout",
     "output_type": "stream",
     "text": [
      "do _generate\n",
      "do _generate\n",
      "do _generate\n",
      "do _generate\n",
      "do _generate\n",
      "do _generate\n",
      "do _generate\n",
      "do _generate\n"
     ]
    },
    {
     "name": "stderr",
     "output_type": "stream",
     "text": [
      "===> Using batch size 8000. Total 7 iterations/epoch.\n",
      "Iter 0553 | Time 27.3774(28.6646) | Bit/dim 1.2971(1.2994) | Steps 368(374.92) | Grad Norm 6.6440(4.3782) | Total Time 10.00(10.00)\n",
      "Iter 0554 | Time 28.5814(28.6621) | Bit/dim 1.2967(1.2994) | Steps 380(375.07) | Grad Norm 5.4304(4.4098) | Total Time 10.00(10.00)\n",
      "Iter 0555 | Time 28.8442(28.6675) | Bit/dim 1.2646(1.2983) | Steps 374(375.04) | Grad Norm 1.6551(4.3272) | Total Time 10.00(10.00)\n",
      "Iter 0556 | Time 28.3196(28.6571) | Bit/dim 1.2872(1.2980) | Steps 374(375.01) | Grad Norm 4.6550(4.3370) | Total Time 10.00(10.00)\n",
      "Iter 0557 | Time 28.7453(28.6597) | Bit/dim 1.2810(1.2975) | Steps 380(375.16) | Grad Norm 5.0488(4.3583) | Total Time 10.00(10.00)\n",
      "Iter 0558 | Time 29.6854(28.6905) | Bit/dim 1.2555(1.2962) | Steps 380(375.30) | Grad Norm 1.5689(4.2747) | Total Time 10.00(10.00)\n",
      "Iter 0559 | Time 27.8502(28.6653) | Bit/dim 1.2901(1.2960) | Steps 368(375.08) | Grad Norm 6.3755(4.3377) | Total Time 10.00(10.00)\n",
      "validating...\n",
      "Epoch 0080 | Time 8.6832, Epoch Time 220.3713, Bit/dim 1.3005\n"
     ]
    },
    {
     "name": "stdout",
     "output_type": "stream",
     "text": [
      "do _generatedo _generate\n",
      "\n",
      "do _generate\n",
      "do _generate\n",
      "do _generate\n",
      "do _generate\n",
      "do _generate\n",
      "do _generate\n"
     ]
    },
    {
     "name": "stderr",
     "output_type": "stream",
     "text": [
      "===> Using batch size 8000. Total 7 iterations/epoch.\n",
      "Iter 0560 | Time 28.3637(28.6562) | Bit/dim 1.3115(1.2965) | Steps 374(375.05) | Grad Norm 6.6706(4.4077) | Total Time 10.00(10.00)\n",
      "Iter 0561 | Time 29.4562(28.6802) | Bit/dim 1.2550(1.2953) | Steps 374(375.02) | Grad Norm 1.3646(4.3164) | Total Time 10.00(10.00)\n",
      "Iter 0562 | Time 28.1757(28.6651) | Bit/dim 1.2953(1.2953) | Steps 368(374.81) | Grad Norm 6.1347(4.3709) | Total Time 10.00(10.00)\n",
      "Iter 0563 | Time 28.5322(28.6611) | Bit/dim 1.3083(1.2956) | Steps 374(374.79) | Grad Norm 5.7002(4.4108) | Total Time 10.00(10.00)\n",
      "Iter 0564 | Time 29.3740(28.6825) | Bit/dim 1.2524(1.2944) | Steps 380(374.94) | Grad Norm 1.3276(4.3183) | Total Time 10.00(10.00)\n",
      "Iter 0565 | Time 27.0277(28.6329) | Bit/dim 1.3115(1.2949) | Steps 368(374.73) | Grad Norm 6.7675(4.3918) | Total Time 10.00(10.00)\n",
      "Iter 0566 | Time 30.1566(28.6786) | Bit/dim 1.2789(1.2944) | Steps 380(374.89) | Grad Norm 4.4125(4.3924) | Total Time 10.00(10.00)\n",
      "validating...\n",
      "Epoch 0081 | Time 8.7792, Epoch Time 221.9691, Bit/dim 1.2548\n"
     ]
    },
    {
     "name": "stdout",
     "output_type": "stream",
     "text": [
      "do _generate\n",
      "do _generate\n",
      "do _generate\n",
      "do _generate\n",
      "do _generate\n",
      "do _generate\n",
      "do _generate\n",
      "do _generate\n"
     ]
    },
    {
     "name": "stderr",
     "output_type": "stream",
     "text": [
      "===> Using batch size 8000. Total 7 iterations/epoch.\n",
      "Iter 0567 | Time 29.1958(28.6941) | Bit/dim 1.2656(1.2935) | Steps 386(375.22) | Grad Norm 3.2938(4.3595) | Total Time 10.00(10.00)\n",
      "Iter 0568 | Time 27.2937(28.6521) | Bit/dim 1.2994(1.2937) | Steps 368(375.01) | Grad Norm 6.2496(4.4162) | Total Time 10.00(10.00)\n",
      "Iter 0569 | Time 28.7641(28.6554) | Bit/dim 1.2542(1.2925) | Steps 374(374.98) | Grad Norm 2.4437(4.3570) | Total Time 10.00(10.00)\n",
      "Iter 0570 | Time 29.7161(28.6873) | Bit/dim 1.2655(1.2917) | Steps 380(375.13) | Grad Norm 3.4246(4.3290) | Total Time 10.00(10.00)\n",
      "Iter 0571 | Time 28.8952(28.6935) | Bit/dim 1.2677(1.2910) | Steps 368(374.91) | Grad Norm 3.7728(4.3123) | Total Time 10.00(10.00)\n",
      "Iter 0572 | Time 28.5165(28.6882) | Bit/dim 1.2500(1.2898) | Steps 368(374.71) | Grad Norm 1.4934(4.2278) | Total Time 10.00(10.00)\n",
      "Iter 0573 | Time 29.0015(28.6976) | Bit/dim 1.2629(1.2889) | Steps 374(374.69) | Grad Norm 3.0361(4.1920) | Total Time 10.00(10.00)\n",
      "validating...\n",
      "Epoch 0082 | Time 8.7265, Epoch Time 222.2314, Bit/dim 1.2488\n"
     ]
    },
    {
     "name": "stdout",
     "output_type": "stream",
     "text": [
      "do _generate\n",
      "do _generate\n",
      "do _generate\n",
      "do _generate\n",
      "do _generate\n",
      "do _generate\n",
      "do _generate\n",
      "do _generate\n"
     ]
    },
    {
     "name": "stderr",
     "output_type": "stream",
     "text": [
      "===> Using batch size 8000. Total 7 iterations/epoch.\n",
      "Iter 0574 | Time 27.8224(28.6713) | Bit/dim 1.2698(1.2884) | Steps 380(374.85) | Grad Norm 3.8583(4.1820) | Total Time 10.00(10.00)\n",
      "Iter 0575 | Time 29.1376(28.6853) | Bit/dim 1.2514(1.2873) | Steps 374(374.82) | Grad Norm 2.7607(4.1394) | Total Time 10.00(10.00)\n",
      "Iter 0576 | Time 30.6487(28.7442) | Bit/dim 1.2414(1.2859) | Steps 380(374.98) | Grad Norm 1.2182(4.0517) | Total Time 10.00(10.00)\n",
      "Iter 0577 | Time 27.7455(28.7143) | Bit/dim 1.2533(1.2849) | Steps 374(374.95) | Grad Norm 4.0248(4.0509) | Total Time 10.00(10.00)\n",
      "Iter 0578 | Time 29.2099(28.7291) | Bit/dim 1.2763(1.2847) | Steps 380(375.10) | Grad Norm 6.1027(4.1125) | Total Time 10.00(10.00)\n",
      "Iter 0579 | Time 27.4856(28.6918) | Bit/dim 1.3038(1.2852) | Steps 368(374.88) | Grad Norm 7.5297(4.2150) | Total Time 10.00(10.00)\n",
      "Iter 0580 | Time 27.9077(28.6683) | Bit/dim 1.2857(1.2852) | Steps 380(375.04) | Grad Norm 5.6261(4.2573) | Total Time 10.00(10.00)\n",
      "validating...\n",
      "Epoch 0083 | Time 8.7132, Epoch Time 220.8270, Bit/dim 1.2340\n"
     ]
    },
    {
     "name": "stdout",
     "output_type": "stream",
     "text": [
      "do _generate\n",
      "do _generate\n",
      "do _generate\n",
      "do _generate\n",
      "do _generate\n",
      "do _generate\n",
      "do _generate\n",
      "do _generate\n"
     ]
    },
    {
     "name": "stderr",
     "output_type": "stream",
     "text": [
      "===> Using batch size 8000. Total 7 iterations/epoch.\n",
      "Iter 0581 | Time 29.2323(28.6852) | Bit/dim 1.2475(1.2841) | Steps 380(375.19) | Grad Norm 1.5235(4.1753) | Total Time 10.00(10.00)\n",
      "Iter 0582 | Time 28.0758(28.6669) | Bit/dim 1.2924(1.2844) | Steps 380(375.33) | Grad Norm 7.4284(4.2729) | Total Time 10.00(10.00)\n",
      "Iter 0583 | Time 30.9549(28.7356) | Bit/dim 1.3628(1.2867) | Steps 398(376.01) | Grad Norm 7.9570(4.3834) | Total Time 10.00(10.00)\n",
      "Iter 0584 | Time 29.6980(28.7645) | Bit/dim 1.2712(1.2862) | Steps 374(375.95) | Grad Norm 2.0823(4.3144) | Total Time 10.00(10.00)\n",
      "Iter 0585 | Time 28.2619(28.7494) | Bit/dim 1.3253(1.2874) | Steps 368(375.71) | Grad Norm 5.9572(4.3637) | Total Time 10.00(10.00)\n",
      "Iter 0586 | Time 29.2658(28.7649) | Bit/dim 1.2774(1.2871) | Steps 380(375.84) | Grad Norm 3.7119(4.3441) | Total Time 10.00(10.00)\n",
      "Iter 0587 | Time 27.9902(28.7416) | Bit/dim 1.3023(1.2876) | Steps 380(375.97) | Grad Norm 4.3478(4.3442) | Total Time 10.00(10.00)\n",
      "validating...\n",
      "Epoch 0084 | Time 8.7825, Epoch Time 224.4781, Bit/dim 1.2581\n"
     ]
    },
    {
     "name": "stdout",
     "output_type": "stream",
     "text": [
      "do _generate\n",
      "do _generate\n",
      "do _generate\n",
      "do _generate\n",
      "do _generate\n",
      "do _generate\n",
      "do _generate\n",
      "do _generate\n"
     ]
    },
    {
     "name": "stderr",
     "output_type": "stream",
     "text": [
      "===> Using batch size 8000. Total 7 iterations/epoch.\n",
      "Iter 0588 | Time 27.8824(28.7159) | Bit/dim 1.2671(1.2870) | Steps 374(375.91) | Grad Norm 3.0986(4.3069) | Total Time 10.00(10.00)\n",
      "Iter 0589 | Time 27.0776(28.6667) | Bit/dim 1.2920(1.2871) | Steps 368(375.67) | Grad Norm 4.4043(4.3098) | Total Time 10.00(10.00)\n",
      "Iter 0590 | Time 29.5920(28.6945) | Bit/dim 1.2778(1.2868) | Steps 386(375.98) | Grad Norm 3.1918(4.2762) | Total Time 10.00(10.00)\n",
      "Iter 0591 | Time 28.7746(28.6969) | Bit/dim 1.2747(1.2865) | Steps 380(376.10) | Grad Norm 3.3232(4.2477) | Total Time 10.00(10.00)\n",
      "Iter 0592 | Time 27.4569(28.6597) | Bit/dim 1.2821(1.2863) | Steps 374(376.04) | Grad Norm 3.7754(4.2335) | Total Time 10.00(10.00)\n",
      "Iter 0593 | Time 31.3453(28.7402) | Bit/dim 1.2553(1.2854) | Steps 368(375.80) | Grad Norm 1.9825(4.1660) | Total Time 10.00(10.00)\n",
      "Iter 0594 | Time 30.2466(28.7854) | Bit/dim 1.2805(1.2853) | Steps 386(376.10) | Grad Norm 3.9997(4.1610) | Total Time 10.00(10.00)\n",
      "validating...\n",
      "Epoch 0085 | Time 8.6563, Epoch Time 223.1187, Bit/dim 1.2304\n"
     ]
    },
    {
     "name": "stdout",
     "output_type": "stream",
     "text": [
      "do _generate\n",
      "do _generate\n",
      "do _generate\n",
      "do _generate\n",
      "do _generate\n",
      "do _generate\n",
      "do _generate\n",
      "do _generate\n"
     ]
    },
    {
     "name": "stderr",
     "output_type": "stream",
     "text": [
      "===> Using batch size 8000. Total 7 iterations/epoch.\n",
      "Iter 0595 | Time 29.6329(28.8109) | Bit/dim 1.2436(1.2840) | Steps 368(375.86) | Grad Norm 0.8915(4.0629) | Total Time 10.00(10.00)\n",
      "Iter 0596 | Time 27.9769(28.7858) | Bit/dim 1.2704(1.2836) | Steps 368(375.62) | Grad Norm 4.1653(4.0660) | Total Time 10.00(10.00)\n",
      "Iter 0597 | Time 28.8238(28.7870) | Bit/dim 1.2769(1.2834) | Steps 380(375.75) | Grad Norm 4.3971(4.0759) | Total Time 10.00(10.00)\n",
      "Iter 0598 | Time 28.5740(28.7806) | Bit/dim 1.2461(1.2823) | Steps 380(375.88) | Grad Norm 1.6961(4.0045) | Total Time 10.00(10.00)\n",
      "Iter 0599 | Time 28.4612(28.7710) | Bit/dim 1.2686(1.2819) | Steps 368(375.65) | Grad Norm 5.0900(4.0371) | Total Time 10.00(10.00)\n",
      "Iter 0600 | Time 28.7106(28.7692) | Bit/dim 1.2899(1.2821) | Steps 374(375.60) | Grad Norm 6.0369(4.0971) | Total Time 10.00(10.00)\n",
      "Iter 0601 | Time 30.3312(28.8160) | Bit/dim 1.2736(1.2819) | Steps 386(375.91) | Grad Norm 4.0789(4.0965) | Total Time 10.00(10.00)\n",
      "validating...\n",
      "Epoch 0086 | Time 8.6517, Epoch Time 223.8033, Bit/dim 1.2390\n"
     ]
    },
    {
     "name": "stdout",
     "output_type": "stream",
     "text": [
      "do _generate\n",
      "do _generate\n",
      "do _generate\n",
      "do _generate\n",
      "do _generate\n",
      "do _generate\n",
      "do _generate\n",
      "do _generate\n"
     ]
    },
    {
     "name": "stderr",
     "output_type": "stream",
     "text": [
      "===> Using batch size 8000. Total 7 iterations/epoch.\n",
      "Iter 0602 | Time 27.1455(28.7659) | Bit/dim 1.2543(1.2810) | Steps 374(375.85) | Grad Norm 2.9892(4.0633) | Total Time 10.00(10.00)\n",
      "Iter 0603 | Time 30.5040(28.8181) | Bit/dim 1.2984(1.2816) | Steps 386(376.16) | Grad Norm 7.3654(4.1624) | Total Time 10.00(10.00)\n",
      "Iter 0604 | Time 27.1107(28.7669) | Bit/dim 1.2957(1.2820) | Steps 380(376.27) | Grad Norm 6.6894(4.2382) | Total Time 10.00(10.00)\n",
      "Iter 0605 | Time 30.7108(28.8252) | Bit/dim 1.2553(1.2812) | Steps 386(376.56) | Grad Norm 2.5906(4.1887) | Total Time 10.00(10.00)\n",
      "Iter 0606 | Time 29.0543(28.8320) | Bit/dim 1.2631(1.2806) | Steps 380(376.67) | Grad Norm 4.1638(4.1880) | Total Time 10.00(10.00)\n",
      "Iter 0607 | Time 27.4579(28.7908) | Bit/dim 1.2735(1.2804) | Steps 368(376.41) | Grad Norm 5.3314(4.2223) | Total Time 10.00(10.00)\n",
      "Iter 0608 | Time 28.7678(28.7901) | Bit/dim 1.2889(1.2807) | Steps 380(376.51) | Grad Norm 5.2616(4.2535) | Total Time 10.00(10.00)\n",
      "validating...\n",
      "Epoch 0087 | Time 8.7354, Epoch Time 221.8118, Bit/dim 1.2451\n"
     ]
    },
    {
     "name": "stdout",
     "output_type": "stream",
     "text": [
      "do _generate\n",
      "do _generate\n",
      "do _generate\n",
      "do _generate\n",
      "do _generate\n",
      "do _generate\n",
      "do _generate\n",
      "do _generate\n"
     ]
    },
    {
     "name": "stderr",
     "output_type": "stream",
     "text": [
      "===> Using batch size 8000. Total 7 iterations/epoch.\n",
      "Iter 0609 | Time 26.7923(28.7302) | Bit/dim 1.2570(1.2800) | Steps 368(376.26) | Grad Norm 2.7620(4.2087) | Total Time 10.00(10.00)\n",
      "Iter 0610 | Time 27.9049(28.7054) | Bit/dim 1.2521(1.2791) | Steps 374(376.19) | Grad Norm 2.9956(4.1723) | Total Time 10.00(10.00)\n",
      "Iter 0611 | Time 28.9168(28.7118) | Bit/dim 1.2954(1.2796) | Steps 380(376.30) | Grad Norm 6.3233(4.2369) | Total Time 10.00(10.00)\n",
      "Iter 0612 | Time 28.0767(28.6927) | Bit/dim 1.2601(1.2790) | Steps 374(376.24) | Grad Norm 4.1663(4.2347) | Total Time 10.00(10.00)\n",
      "Iter 0613 | Time 28.9713(28.7011) | Bit/dim 1.2538(1.2783) | Steps 386(376.53) | Grad Norm 1.9623(4.1666) | Total Time 10.00(10.00)\n",
      "Iter 0614 | Time 28.9876(28.7097) | Bit/dim 1.2537(1.2775) | Steps 380(376.63) | Grad Norm 3.5551(4.1482) | Total Time 10.00(10.00)\n",
      "Iter 0615 | Time 26.9751(28.6576) | Bit/dim 1.2775(1.2775) | Steps 368(376.37) | Grad Norm 5.8349(4.1988) | Total Time 10.00(10.00)\n",
      "validating...\n",
      "Epoch 0088 | Time 8.6989, Epoch Time 217.4482, Bit/dim 1.2663\n"
     ]
    },
    {
     "name": "stdout",
     "output_type": "stream",
     "text": [
      "do _generate\n",
      "do _generate\n",
      "do _generate\n",
      "do _generate\n",
      "do _generate\n",
      "do _generate\n",
      "do _generate\n",
      "do _generate\n"
     ]
    },
    {
     "name": "stderr",
     "output_type": "stream",
     "text": [
      "===> Using batch size 8000. Total 7 iterations/epoch.\n",
      "Iter 0616 | Time 28.8517(28.6635) | Bit/dim 1.2793(1.2776) | Steps 380(376.48) | Grad Norm 5.8911(4.2496) | Total Time 10.00(10.00)\n",
      "Iter 0617 | Time 28.0633(28.6455) | Bit/dim 1.2571(1.2770) | Steps 374(376.41) | Grad Norm 2.6168(4.2006) | Total Time 10.00(10.00)\n",
      "Iter 0618 | Time 27.4695(28.6102) | Bit/dim 1.2487(1.2761) | Steps 368(376.16) | Grad Norm 3.3153(4.1741) | Total Time 10.00(10.00)\n",
      "Iter 0619 | Time 28.5741(28.6091) | Bit/dim 1.2919(1.2766) | Steps 374(376.09) | Grad Norm 6.3980(4.2408) | Total Time 10.00(10.00)\n",
      "Iter 0620 | Time 29.8484(28.6463) | Bit/dim 1.2890(1.2770) | Steps 368(375.85) | Grad Norm 6.2431(4.3008) | Total Time 10.00(10.00)\n",
      "Iter 0621 | Time 29.1345(28.6609) | Bit/dim 1.2680(1.2767) | Steps 380(375.97) | Grad Norm 3.3147(4.2713) | Total Time 10.00(10.00)\n",
      "Iter 0622 | Time 28.5671(28.6581) | Bit/dim 1.2520(1.2760) | Steps 380(376.09) | Grad Norm 3.2788(4.2415) | Total Time 10.00(10.00)\n",
      "validating...\n",
      "Epoch 0089 | Time 8.2708, Epoch Time 221.0591, Bit/dim 1.2669\n"
     ]
    },
    {
     "name": "stdout",
     "output_type": "stream",
     "text": [
      "do _generate\n",
      "do _generate\n",
      "do _generate\n",
      "do _generate\n",
      "do _generate\n",
      "do _generate\n",
      "do _generate\n",
      "do _generate\n"
     ]
    },
    {
     "name": "stderr",
     "output_type": "stream",
     "text": [
      "===> Using batch size 8000. Total 7 iterations/epoch.\n",
      "Iter 0623 | Time 27.0525(28.6099) | Bit/dim 1.2767(1.2760) | Steps 368(375.85) | Grad Norm 6.1947(4.3001) | Total Time 10.00(10.00)\n",
      "Iter 0624 | Time 29.3865(28.6332) | Bit/dim 1.2775(1.2760) | Steps 380(375.98) | Grad Norm 5.3038(4.3302) | Total Time 10.00(10.00)\n",
      "Iter 0625 | Time 27.1959(28.5901) | Bit/dim 1.2655(1.2757) | Steps 368(375.74) | Grad Norm 2.5412(4.2765) | Total Time 10.00(10.00)\n",
      "Iter 0626 | Time 27.9256(28.5702) | Bit/dim 1.2626(1.2753) | Steps 374(375.68) | Grad Norm 2.4437(4.2215) | Total Time 10.00(10.00)\n",
      "Iter 0627 | Time 28.6697(28.5732) | Bit/dim 1.2536(1.2747) | Steps 374(375.63) | Grad Norm 3.3891(4.1966) | Total Time 10.00(10.00)\n",
      "Iter 0628 | Time 28.5369(28.5721) | Bit/dim 1.2485(1.2739) | Steps 368(375.40) | Grad Norm 1.4960(4.1155) | Total Time 10.00(10.00)\n",
      "Iter 0629 | Time 27.2093(28.5312) | Bit/dim 1.2502(1.2732) | Steps 380(375.54) | Grad Norm 4.4196(4.1247) | Total Time 10.00(10.00)\n",
      "validating...\n",
      "Epoch 0090 | Time 8.8377, Epoch Time 217.4364, Bit/dim 1.2770\n"
     ]
    },
    {
     "name": "stdout",
     "output_type": "stream",
     "text": [
      "do _generate\n",
      "do _generate\n",
      "do _generate\n",
      "do _generate\n",
      "do _generate\n",
      "do _generate\n",
      "do _generate\n",
      "do _generate\n"
     ]
    },
    {
     "name": "stderr",
     "output_type": "stream",
     "text": [
      "===> Using batch size 8000. Total 7 iterations/epoch.\n",
      "Iter 0630 | Time 29.0996(28.5482) | Bit/dim 1.2930(1.2738) | Steps 374(375.50) | Grad Norm 5.9226(4.1786) | Total Time 10.00(10.00)\n",
      "Iter 0631 | Time 28.2925(28.5406) | Bit/dim 1.2560(1.2732) | Steps 380(375.63) | Grad Norm 4.0349(4.1743) | Total Time 10.00(10.00)\n",
      "Iter 0632 | Time 28.6612(28.5442) | Bit/dim 1.2344(1.2721) | Steps 380(375.76) | Grad Norm 1.3923(4.0908) | Total Time 10.00(10.00)\n",
      "Iter 0633 | Time 28.6551(28.5475) | Bit/dim 1.2582(1.2717) | Steps 380(375.89) | Grad Norm 4.2377(4.0952) | Total Time 10.00(10.00)\n",
      "Iter 0634 | Time 28.2140(28.5375) | Bit/dim 1.2699(1.2716) | Steps 380(376.01) | Grad Norm 6.2261(4.1592) | Total Time 10.00(10.00)\n",
      "Iter 0635 | Time 30.4168(28.5939) | Bit/dim 1.2587(1.2712) | Steps 380(376.13) | Grad Norm 4.9663(4.1834) | Total Time 10.00(10.00)\n",
      "Iter 0636 | Time 29.5082(28.6213) | Bit/dim 1.2311(1.2700) | Steps 374(376.07) | Grad Norm 1.1326(4.0919) | Total Time 10.00(10.00)\n",
      "validating...\n",
      "Epoch 0091 | Time 8.4856, Epoch Time 223.7428, Bit/dim 1.2330\n"
     ]
    },
    {
     "name": "stdout",
     "output_type": "stream",
     "text": [
      "do _generate\n",
      "do _generate\n",
      "do _generate\n",
      "do _generate\n",
      "do _generate\n",
      "do _generate\n",
      "do _generate\n",
      "do _generate\n"
     ]
    },
    {
     "name": "stderr",
     "output_type": "stream",
     "text": [
      "===> Using batch size 8000. Total 7 iterations/epoch.\n",
      "Iter 0637 | Time 29.3859(28.6443) | Bit/dim 1.2478(1.2693) | Steps 374(376.01) | Grad Norm 4.3139(4.0985) | Total Time 10.00(10.00)\n",
      "Iter 0638 | Time 30.7391(28.7071) | Bit/dim 1.2976(1.2702) | Steps 392(376.49) | Grad Norm 7.0496(4.1871) | Total Time 10.00(10.00)\n",
      "Iter 0639 | Time 28.5376(28.7020) | Bit/dim 1.2923(1.2709) | Steps 380(376.59) | Grad Norm 6.1637(4.2464) | Total Time 10.00(10.00)\n",
      "Iter 0640 | Time 29.4859(28.7255) | Bit/dim 1.2582(1.2705) | Steps 374(376.51) | Grad Norm 2.6745(4.1992) | Total Time 10.00(10.00)\n",
      "Iter 0641 | Time 28.9437(28.7321) | Bit/dim 1.2626(1.2702) | Steps 380(376.62) | Grad Norm 3.8317(4.1882) | Total Time 10.00(10.00)\n",
      "Iter 0642 | Time 27.7328(28.7021) | Bit/dim 1.2593(1.2699) | Steps 374(376.54) | Grad Norm 3.9478(4.1810) | Total Time 10.00(10.00)\n",
      "Iter 0643 | Time 30.1776(28.7464) | Bit/dim 1.2417(1.2691) | Steps 380(376.64) | Grad Norm 1.9000(4.1125) | Total Time 10.00(10.00)\n",
      "validating...\n",
      "Epoch 0092 | Time 8.9982, Epoch Time 226.5175, Bit/dim 1.2347\n"
     ]
    },
    {
     "name": "stdout",
     "output_type": "stream",
     "text": [
      "do _generate\n",
      "do _generate\n",
      "do _generate\n",
      "do _generate\n",
      "do _generate\n",
      "do _generate\n",
      "do _generate\n",
      "do _generate\n"
     ]
    },
    {
     "name": "stderr",
     "output_type": "stream",
     "text": [
      "===> Using batch size 8000. Total 7 iterations/epoch.\n",
      "Iter 0644 | Time 30.3262(28.7938) | Bit/dim 1.2523(1.2686) | Steps 380(376.74) | Grad Norm 3.3706(4.0903) | Total Time 10.00(10.00)\n",
      "Iter 0645 | Time 27.3418(28.7502) | Bit/dim 1.2474(1.2679) | Steps 374(376.66) | Grad Norm 2.9775(4.0569) | Total Time 10.00(10.00)\n",
      "Iter 0646 | Time 29.1515(28.7622) | Bit/dim 1.2426(1.2672) | Steps 380(376.76) | Grad Norm 2.0179(3.9957) | Total Time 10.00(10.00)\n",
      "Iter 0647 | Time 26.6538(28.6990) | Bit/dim 1.2306(1.2661) | Steps 368(376.50) | Grad Norm 1.5752(3.9231) | Total Time 10.00(10.00)\n",
      "Iter 0648 | Time 28.1181(28.6816) | Bit/dim 1.2365(1.2652) | Steps 380(376.60) | Grad Norm 3.8729(3.9216) | Total Time 10.00(10.00)\n",
      "Iter 0649 | Time 29.8947(28.7180) | Bit/dim 1.2852(1.2658) | Steps 374(376.53) | Grad Norm 7.3386(4.0241) | Total Time 10.00(10.00)\n",
      "Iter 0650 | Time 27.6761(28.6867) | Bit/dim 1.3981(1.2698) | Steps 374(376.45) | Grad Norm 9.9004(4.2004) | Total Time 10.00(10.00)\n",
      "validating...\n",
      "Epoch 0093 | Time 8.7618, Epoch Time 220.2183, Bit/dim 1.2626\n"
     ]
    },
    {
     "name": "stdout",
     "output_type": "stream",
     "text": [
      "do _generate\n",
      "do _generate\n",
      "do _generate\n",
      "do _generate\n",
      "do _generate\n",
      "do _generate\n",
      "do _generate\n",
      "do _generate\n"
     ]
    },
    {
     "name": "stderr",
     "output_type": "stream",
     "text": [
      "===> Using batch size 8000. Total 7 iterations/epoch.\n",
      "Iter 0651 | Time 28.3282(28.6759) | Bit/dim 1.2779(1.2700) | Steps 380(376.56) | Grad Norm 4.6443(4.2137) | Total Time 10.00(10.00)\n",
      "Iter 0652 | Time 28.1595(28.6605) | Bit/dim 1.2923(1.2707) | Steps 374(376.48) | Grad Norm 5.3883(4.2490) | Total Time 10.00(10.00)\n",
      "Iter 0653 | Time 28.2990(28.6496) | Bit/dim 1.2993(1.2715) | Steps 368(376.23) | Grad Norm 6.7340(4.3235) | Total Time 10.00(10.00)\n",
      "Iter 0654 | Time 29.1615(28.6650) | Bit/dim 1.2467(1.2708) | Steps 380(376.34) | Grad Norm 2.2388(4.2610) | Total Time 10.00(10.00)\n",
      "Iter 0655 | Time 30.1645(28.7100) | Bit/dim 1.2602(1.2705) | Steps 380(376.45) | Grad Norm 2.7650(4.2161) | Total Time 10.00(10.00)\n",
      "Iter 0656 | Time 29.7405(28.7409) | Bit/dim 1.2595(1.2701) | Steps 380(376.56) | Grad Norm 2.3034(4.1587) | Total Time 10.00(10.00)\n",
      "Iter 0657 | Time 27.3801(28.7000) | Bit/dim 1.2418(1.2693) | Steps 374(376.48) | Grad Norm 1.6424(4.0832) | Total Time 10.00(10.00)\n",
      "validating...\n",
      "Epoch 0094 | Time 8.7054, Epoch Time 222.2451, Bit/dim 1.2374\n"
     ]
    },
    {
     "name": "stdout",
     "output_type": "stream",
     "text": [
      "do _generate\n",
      "do _generate\n",
      "do _generate\n",
      "do _generate\n",
      "do _generate\n",
      "do _generate\n",
      "do _generate\n",
      "do _generate\n"
     ]
    },
    {
     "name": "stderr",
     "output_type": "stream",
     "text": [
      "===> Using batch size 8000. Total 7 iterations/epoch.\n",
      "Iter 0658 | Time 28.9391(28.7072) | Bit/dim 1.2474(1.2686) | Steps 374(376.40) | Grad Norm 3.1978(4.0567) | Total Time 10.00(10.00)\n",
      "Iter 0659 | Time 28.0353(28.6871) | Bit/dim 1.2598(1.2684) | Steps 368(376.15) | Grad Norm 5.0398(4.0861) | Total Time 10.00(10.00)\n",
      "Iter 0660 | Time 29.1450(28.7008) | Bit/dim 1.2523(1.2679) | Steps 386(376.45) | Grad Norm 4.0977(4.0865) | Total Time 10.00(10.00)\n",
      "Iter 0661 | Time 27.7263(28.6716) | Bit/dim 1.2384(1.2670) | Steps 374(376.37) | Grad Norm 2.2913(4.0326) | Total Time 10.00(10.00)\n",
      "Iter 0662 | Time 28.1314(28.6554) | Bit/dim 1.2321(1.2659) | Steps 380(376.48) | Grad Norm 1.5584(3.9584) | Total Time 10.00(10.00)\n",
      "Iter 0663 | Time 29.4513(28.6792) | Bit/dim 1.2547(1.2656) | Steps 380(376.59) | Grad Norm 4.8980(3.9866) | Total Time 10.00(10.00)\n",
      "Iter 0664 | Time 28.1861(28.6644) | Bit/dim 1.3360(1.2677) | Steps 374(376.51) | Grad Norm 9.2556(4.1447) | Total Time 10.00(10.00)\n",
      "validating...\n",
      "Epoch 0095 | Time 9.1192, Epoch Time 220.8506, Bit/dim 1.3211\n"
     ]
    },
    {
     "name": "stdout",
     "output_type": "stream",
     "text": [
      "do _generate\n",
      "do _generate\n",
      "do _generate\n",
      "do _generate\n",
      "do _generate\n",
      "do _generate\n",
      "do _generate\n",
      "do _generate\n"
     ]
    },
    {
     "name": "stderr",
     "output_type": "stream",
     "text": [
      "===> Using batch size 8000. Total 7 iterations/epoch.\n",
      "Iter 0665 | Time 31.5790(28.7519) | Bit/dim 1.3326(1.2697) | Steps 398(377.16) | Grad Norm 7.7831(4.2538) | Total Time 10.00(10.00)\n",
      "Iter 0666 | Time 29.2233(28.7660) | Bit/dim 1.2640(1.2695) | Steps 386(377.42) | Grad Norm 3.1388(4.2204) | Total Time 10.00(10.00)\n",
      "Iter 0667 | Time 27.8698(28.7391) | Bit/dim 1.3215(1.2711) | Steps 368(377.14) | Grad Norm 7.9462(4.3321) | Total Time 10.00(10.00)\n",
      "Iter 0668 | Time 28.6284(28.7358) | Bit/dim 1.2947(1.2718) | Steps 380(377.22) | Grad Norm 6.1191(4.3858) | Total Time 10.00(10.00)\n",
      "Iter 0669 | Time 30.2039(28.7799) | Bit/dim 1.2677(1.2716) | Steps 398(377.85) | Grad Norm 2.4871(4.3288) | Total Time 10.00(10.00)\n",
      "Iter 0670 | Time 29.9806(28.8159) | Bit/dim 1.2832(1.2720) | Steps 386(378.09) | Grad Norm 3.4671(4.3029) | Total Time 10.00(10.00)\n",
      "Iter 0671 | Time 28.9704(28.8205) | Bit/dim 1.2677(1.2719) | Steps 374(377.97) | Grad Norm 4.0103(4.2942) | Total Time 10.00(10.00)\n",
      "validating...\n",
      "Epoch 0096 | Time 8.6503, Epoch Time 227.2823, Bit/dim 1.2438\n"
     ]
    },
    {
     "name": "stdout",
     "output_type": "stream",
     "text": [
      "do _generate\n",
      "do _generate\n",
      "do _generate\n",
      "do _generate\n",
      "do _generate\n",
      "do _generate\n",
      "do _generate\n",
      "do _generate\n"
     ]
    },
    {
     "name": "stderr",
     "output_type": "stream",
     "text": [
      "===> Using batch size 8000. Total 7 iterations/epoch.\n",
      "Iter 0672 | Time 28.6526(28.8155) | Bit/dim 1.2595(1.2715) | Steps 380(378.03) | Grad Norm 3.0944(4.2582) | Total Time 10.00(10.00)\n",
      "Iter 0673 | Time 27.2649(28.7690) | Bit/dim 1.2590(1.2711) | Steps 368(377.73) | Grad Norm 3.9546(4.2491) | Total Time 10.00(10.00)\n",
      "Iter 0674 | Time 27.8471(28.7413) | Bit/dim 1.2401(1.2702) | Steps 374(377.62) | Grad Norm 1.2262(4.1584) | Total Time 10.00(10.00)\n",
      "Iter 0675 | Time 28.7402(28.7413) | Bit/dim 1.2621(1.2699) | Steps 380(377.69) | Grad Norm 4.0764(4.1559) | Total Time 10.00(10.00)\n",
      "Iter 0676 | Time 27.2344(28.6961) | Bit/dim 1.2556(1.2695) | Steps 368(377.40) | Grad Norm 4.0065(4.1514) | Total Time 10.00(10.00)\n",
      "Iter 0677 | Time 28.5276(28.6910) | Bit/dim 1.2491(1.2689) | Steps 380(377.48) | Grad Norm 3.5104(4.1322) | Total Time 10.00(10.00)\n",
      "Iter 0678 | Time 27.3338(28.6503) | Bit/dim 1.2425(1.2681) | Steps 368(377.19) | Grad Norm 3.2902(4.1069) | Total Time 10.00(10.00)\n",
      "validating...\n",
      "Epoch 0097 | Time 8.6225, Epoch Time 216.3325, Bit/dim 1.2257\n"
     ]
    },
    {
     "name": "stdout",
     "output_type": "stream",
     "text": [
      "do _generate\n",
      "do _generate\n",
      "do _generate\n",
      "do _generate\n",
      "do _generate\n",
      "do _generate\n",
      "do _generate\n",
      "do _generate\n"
     ]
    },
    {
     "name": "stderr",
     "output_type": "stream",
     "text": [
      "===> Using batch size 8000. Total 7 iterations/epoch.\n",
      "Iter 0679 | Time 28.8295(28.6557) | Bit/dim 1.2413(1.2673) | Steps 380(377.28) | Grad Norm 3.6761(4.0940) | Total Time 10.00(10.00)\n",
      "Iter 0680 | Time 27.5161(28.6215) | Bit/dim 1.2384(1.2664) | Steps 374(377.18) | Grad Norm 3.7390(4.0834) | Total Time 10.00(10.00)\n",
      "Iter 0681 | Time 28.9164(28.6303) | Bit/dim 1.2439(1.2658) | Steps 380(377.26) | Grad Norm 3.7202(4.0725) | Total Time 10.00(10.00)\n",
      "Iter 0682 | Time 28.0675(28.6134) | Bit/dim 1.2370(1.2649) | Steps 374(377.16) | Grad Norm 3.5679(4.0573) | Total Time 10.00(10.00)\n",
      "Iter 0683 | Time 29.0575(28.6268) | Bit/dim 1.2411(1.2642) | Steps 380(377.25) | Grad Norm 4.4258(4.0684) | Total Time 10.00(10.00)\n",
      "Iter 0684 | Time 28.7246(28.6297) | Bit/dim 1.2697(1.2644) | Steps 386(377.51) | Grad Norm 7.3756(4.1676) | Total Time 10.00(10.00)\n",
      "Iter 0685 | Time 32.4034(28.7429) | Bit/dim 1.3241(1.2661) | Steps 398(378.13) | Grad Norm 8.2982(4.2915) | Total Time 10.00(10.00)\n",
      "validating...\n",
      "Epoch 0098 | Time 8.6051, Epoch Time 224.2425, Bit/dim 1.2489\n"
     ]
    },
    {
     "name": "stdout",
     "output_type": "stream",
     "text": [
      "do _generate\n",
      "do _generate\n",
      "do _generate\n",
      "do _generate\n",
      "do _generate\n",
      "do _generate\n",
      "do _generate\n",
      "do _generate\n"
     ]
    },
    {
     "name": "stderr",
     "output_type": "stream",
     "text": [
      "===> Using batch size 8000. Total 7 iterations/epoch.\n",
      "Iter 0686 | Time 27.3816(28.7021) | Bit/dim 1.2643(1.2661) | Steps 368(377.82) | Grad Norm 4.2118(4.2891) | Total Time 10.00(10.00)\n",
      "Iter 0687 | Time 27.4684(28.6651) | Bit/dim 1.2485(1.2656) | Steps 374(377.71) | Grad Norm 3.0970(4.2534) | Total Time 10.00(10.00)\n",
      "Iter 0688 | Time 30.3185(28.7147) | Bit/dim 1.2889(1.2663) | Steps 374(377.60) | Grad Norm 5.6787(4.2961) | Total Time 10.00(10.00)\n",
      "Iter 0689 | Time 29.2424(28.7305) | Bit/dim 1.2271(1.2651) | Steps 368(377.31) | Grad Norm 2.1145(4.2307) | Total Time 10.00(10.00)\n",
      "Iter 0690 | Time 27.7293(28.7005) | Bit/dim 1.2584(1.2649) | Steps 368(377.03) | Grad Norm 4.7606(4.2466) | Total Time 10.00(10.00)\n",
      "Iter 0691 | Time 29.5149(28.7249) | Bit/dim 1.2636(1.2648) | Steps 374(376.94) | Grad Norm 4.8103(4.2635) | Total Time 10.00(10.00)\n",
      "Iter 0692 | Time 29.2569(28.7409) | Bit/dim 1.2481(1.2643) | Steps 386(377.21) | Grad Norm 2.9011(4.2226) | Total Time 10.00(10.00)\n",
      "validating...\n",
      "Epoch 0099 | Time 8.6553, Epoch Time 221.9682, Bit/dim 1.2394\n"
     ]
    },
    {
     "name": "stdout",
     "output_type": "stream",
     "text": [
      "do _generate\n",
      "do _generate\n",
      "do _generate\n",
      "do _generate\n",
      "do _generate\n",
      "do _generate\n",
      "do _generate\n",
      "do _generate\n"
     ]
    },
    {
     "name": "stderr",
     "output_type": "stream",
     "text": [
      "===> Using batch size 8000. Total 7 iterations/epoch.\n",
      "Iter 0693 | Time 27.8049(28.7128) | Bit/dim 1.2478(1.2638) | Steps 374(377.11) | Grad Norm 4.6316(4.2349) | Total Time 10.00(10.00)\n",
      "Iter 0694 | Time 30.0404(28.7526) | Bit/dim 1.2552(1.2636) | Steps 380(377.20) | Grad Norm 4.5735(4.2450) | Total Time 10.00(10.00)\n",
      "Iter 0695 | Time 29.3966(28.7719) | Bit/dim 1.2388(1.2628) | Steps 386(377.47) | Grad Norm 2.7290(4.1996) | Total Time 10.00(10.00)\n",
      "Iter 0696 | Time 28.2858(28.7573) | Bit/dim 1.2471(1.2624) | Steps 392(377.90) | Grad Norm 4.2717(4.2017) | Total Time 10.00(10.00)\n",
      "Iter 0697 | Time 29.1637(28.7695) | Bit/dim 1.2516(1.2620) | Steps 374(377.78) | Grad Norm 5.0348(4.2267) | Total Time 10.00(10.00)\n",
      "Iter 0698 | Time 27.0550(28.7181) | Bit/dim 1.2328(1.2612) | Steps 368(377.49) | Grad Norm 3.3586(4.2007) | Total Time 10.00(10.00)\n",
      "Iter 0699 | Time 28.8608(28.7224) | Bit/dim 1.2278(1.2602) | Steps 380(377.57) | Grad Norm 3.0893(4.1673) | Total Time 10.00(10.00)\n",
      "validating...\n",
      "Epoch 0100 | Time 8.7314, Epoch Time 222.4332, Bit/dim 1.2079\n"
     ]
    },
    {
     "name": "stdout",
     "output_type": "stream",
     "text": [
      "do _generate\n",
      "do _generate\n",
      "do _generate\n",
      "do _generate\n",
      "do _generate\n",
      "do _generate\n",
      "do _generate\n",
      "do _generate\n"
     ]
    },
    {
     "name": "stderr",
     "output_type": "stream",
     "text": [
      "===> Using batch size 8000. Total 7 iterations/epoch.\n",
      "Iter 0700 | Time 26.8148(28.6652) | Bit/dim 1.2223(1.2590) | Steps 368(377.28) | Grad Norm 2.1624(4.1072) | Total Time 10.00(10.00)\n",
      "Iter 0701 | Time 28.5316(28.6611) | Bit/dim 1.2180(1.2578) | Steps 380(377.36) | Grad Norm 2.2623(4.0518) | Total Time 10.00(10.00)\n",
      "Iter 0702 | Time 27.8059(28.6355) | Bit/dim 1.2117(1.2564) | Steps 368(377.08) | Grad Norm 1.2605(3.9681) | Total Time 10.00(10.00)\n",
      "Iter 0703 | Time 30.7437(28.6987) | Bit/dim 1.2233(1.2554) | Steps 380(377.17) | Grad Norm 1.6392(3.8982) | Total Time 10.00(10.00)\n",
      "Iter 0704 | Time 27.8892(28.6744) | Bit/dim 1.2228(1.2544) | Steps 380(377.25) | Grad Norm 3.4320(3.8842) | Total Time 10.00(10.00)\n",
      "Iter 0705 | Time 28.3965(28.6661) | Bit/dim 1.2617(1.2547) | Steps 380(377.33) | Grad Norm 7.6627(3.9976) | Total Time 10.00(10.00)\n",
      "Iter 0706 | Time 28.4877(28.6608) | Bit/dim 1.4116(1.2594) | Steps 368(377.05) | Grad Norm 10.3363(4.1878) | Total Time 10.00(10.00)\n",
      "validating...\n",
      "Epoch 0101 | Time 8.7602, Epoch Time 219.5968, Bit/dim 1.3049\n"
     ]
    },
    {
     "name": "stdout",
     "output_type": "stream",
     "text": [
      "do _generate\n",
      "do _generate\n",
      "do _generate\n",
      "do _generate\n",
      "do _generate\n",
      "do _generate\n",
      "do _generate\n",
      "do _generate\n"
     ]
    },
    {
     "name": "stderr",
     "output_type": "stream",
     "text": [
      "===> Using batch size 8000. Total 7 iterations/epoch.\n",
      "Iter 0707 | Time 27.8975(28.6379) | Bit/dim 1.3197(1.2612) | Steps 380(377.14) | Grad Norm 5.2322(4.2191) | Total Time 10.00(10.00)\n",
      "Iter 0708 | Time 28.3133(28.6281) | Bit/dim 1.2865(1.2619) | Steps 380(377.23) | Grad Norm 5.6254(4.2613) | Total Time 10.00(10.00)\n",
      "Iter 0709 | Time 27.1423(28.5835) | Bit/dim 1.2764(1.2624) | Steps 374(377.13) | Grad Norm 6.0581(4.3152) | Total Time 10.00(10.00)\n",
      "Iter 0710 | Time 27.3380(28.5462) | Bit/dim 1.2746(1.2627) | Steps 368(376.86) | Grad Norm 3.5993(4.2937) | Total Time 10.00(10.00)\n",
      "Iter 0711 | Time 27.7950(28.5236) | Bit/dim 1.2520(1.2624) | Steps 368(376.59) | Grad Norm 2.3559(4.2356) | Total Time 10.00(10.00)\n",
      "Iter 0712 | Time 29.0552(28.5396) | Bit/dim 1.2480(1.2620) | Steps 386(376.87) | Grad Norm 1.3915(4.1503) | Total Time 10.00(10.00)\n",
      "Iter 0713 | Time 26.7658(28.4864) | Bit/dim 1.2518(1.2617) | Steps 374(376.79) | Grad Norm 1.9382(4.0839) | Total Time 10.00(10.00)\n",
      "validating...\n",
      "Epoch 0102 | Time 8.3818, Epoch Time 214.8659, Bit/dim 1.2295\n"
     ]
    },
    {
     "name": "stdout",
     "output_type": "stream",
     "text": [
      "do _generate\n",
      "do _generate\n",
      "do _generate\n",
      "do _generate\n",
      "do _generate\n",
      "do _generate\n",
      "do _generate\n",
      "do _generate\n"
     ]
    },
    {
     "name": "stderr",
     "output_type": "stream",
     "text": [
      "===> Using batch size 8000. Total 7 iterations/epoch.\n",
      "Iter 0714 | Time 27.3274(28.4516) | Bit/dim 1.2438(1.2611) | Steps 374(376.70) | Grad Norm 1.5905(4.0091) | Total Time 10.00(10.00)\n",
      "Iter 0715 | Time 27.6259(28.4268) | Bit/dim 1.2385(1.2605) | Steps 368(376.44) | Grad Norm 1.4328(3.9318) | Total Time 10.00(10.00)\n",
      "Iter 0716 | Time 28.5004(28.4290) | Bit/dim 1.2273(1.2595) | Steps 362(376.01) | Grad Norm 1.4348(3.8569) | Total Time 10.00(10.00)\n",
      "Iter 0717 | Time 27.6790(28.4065) | Bit/dim 1.2340(1.2587) | Steps 374(375.95) | Grad Norm 3.4995(3.8462) | Total Time 10.00(10.00)\n",
      "Iter 0718 | Time 28.9770(28.4237) | Bit/dim 1.2837(1.2594) | Steps 380(376.07) | Grad Norm 8.1559(3.9755) | Total Time 10.00(10.00)\n",
      "Iter 0719 | Time 25.3685(28.3320) | Bit/dim 1.4338(1.2647) | Steps 362(375.65) | Grad Norm 9.6403(4.1454) | Total Time 10.00(10.00)\n",
      "Iter 0720 | Time 27.5739(28.3093) | Bit/dim 1.2976(1.2657) | Steps 368(375.42) | Grad Norm 3.2832(4.1195) | Total Time 10.00(10.00)\n",
      "validating...\n",
      "Epoch 0103 | Time 9.0143, Epoch Time 214.5423, Bit/dim 1.3582\n"
     ]
    },
    {
     "name": "stdout",
     "output_type": "stream",
     "text": [
      "do _generate\n",
      "do _generate\n",
      "do _generate\n",
      "do _generate\n",
      "do _generate\n",
      "do _generate\n",
      "do _generate\n",
      "do _generate\n"
     ]
    },
    {
     "name": "stderr",
     "output_type": "stream",
     "text": [
      "===> Using batch size 8000. Total 7 iterations/epoch.\n",
      "Iter 0721 | Time 30.6903(28.3807) | Bit/dim 1.3725(1.2689) | Steps 398(376.10) | Grad Norm 6.8105(4.2003) | Total Time 10.00(10.00)\n",
      "Iter 0722 | Time 29.0912(28.4020) | Bit/dim 1.3094(1.2701) | Steps 374(376.03) | Grad Norm 4.3173(4.2038) | Total Time 10.00(10.00)\n",
      "Iter 0723 | Time 27.4231(28.3726) | Bit/dim 1.3231(1.2717) | Steps 374(375.97) | Grad Norm 7.2057(4.2938) | Total Time 10.00(10.00)\n",
      "Iter 0724 | Time 26.8328(28.3264) | Bit/dim 1.2943(1.2724) | Steps 368(375.73) | Grad Norm 5.2509(4.3226) | Total Time 10.00(10.00)\n",
      "Iter 0725 | Time 29.2474(28.3541) | Bit/dim 1.2855(1.2728) | Steps 386(376.04) | Grad Norm 3.6345(4.3019) | Total Time 10.00(10.00)\n",
      "Iter 0726 | Time 29.4010(28.3855) | Bit/dim 1.2816(1.2730) | Steps 380(376.16) | Grad Norm 2.7680(4.2559) | Total Time 10.00(10.00)\n",
      "Iter 0727 | Time 27.3374(28.3540) | Bit/dim 1.2651(1.2728) | Steps 374(376.10) | Grad Norm 2.9171(4.2157) | Total Time 10.00(10.00)\n",
      "validating...\n",
      "Epoch 0104 | Time 8.4791, Epoch Time 220.8558, Bit/dim 1.2673\n"
     ]
    },
    {
     "name": "stdout",
     "output_type": "stream",
     "text": [
      "do _generate\n",
      "do _generate\n",
      "do _generate\n",
      "do _generate\n",
      "do _generate\n",
      "do _generate\n",
      "do _generate\n",
      "do _generate\n"
     ]
    },
    {
     "name": "stderr",
     "output_type": "stream",
     "text": [
      "===> Using batch size 8000. Total 7 iterations/epoch.\n",
      "Iter 0728 | Time 26.3252(28.2932) | Bit/dim 1.2870(1.2732) | Steps 362(375.67) | Grad Norm 3.6555(4.1989) | Total Time 10.00(10.00)\n",
      "Iter 0729 | Time 26.6952(28.2452) | Bit/dim 1.2439(1.2723) | Steps 374(375.62) | Grad Norm 2.2399(4.1401) | Total Time 10.00(10.00)\n",
      "Iter 0730 | Time 27.6743(28.2281) | Bit/dim 1.2832(1.2727) | Steps 380(375.75) | Grad Norm 6.0744(4.1982) | Total Time 10.00(10.00)\n",
      "Iter 0731 | Time 29.4302(28.2642) | Bit/dim 1.2792(1.2729) | Steps 380(375.88) | Grad Norm 6.1618(4.2571) | Total Time 10.00(10.00)\n",
      "Iter 0732 | Time 28.5394(28.2724) | Bit/dim 1.2991(1.2736) | Steps 374(375.83) | Grad Norm 5.9836(4.3089) | Total Time 10.00(10.00)\n",
      "Iter 0733 | Time 27.0693(28.2363) | Bit/dim 1.2469(1.2728) | Steps 368(375.59) | Grad Norm 3.2391(4.2768) | Total Time 10.00(10.00)\n",
      "Iter 0734 | Time 28.6731(28.2494) | Bit/dim 1.2567(1.2724) | Steps 380(375.72) | Grad Norm 4.0853(4.2710) | Total Time 10.00(10.00)\n",
      "validating...\n",
      "Epoch 0105 | Time 8.6910, Epoch Time 215.7188, Bit/dim 1.2590\n"
     ]
    },
    {
     "name": "stdout",
     "output_type": "stream",
     "text": [
      "do _generate\n",
      "do _generate\n",
      "do _generate\n",
      "do _generate\n",
      "do _generate\n",
      "do _generate\n",
      "do _generate\n",
      "do _generate\n"
     ]
    },
    {
     "name": "stderr",
     "output_type": "stream",
     "text": [
      "===> Using batch size 8000. Total 7 iterations/epoch.\n",
      "Iter 0735 | Time 27.1007(28.2150) | Bit/dim 1.2745(1.2724) | Steps 374(375.67) | Grad Norm 5.2576(4.3006) | Total Time 10.00(10.00)\n",
      "Iter 0736 | Time 28.3148(28.2180) | Bit/dim 1.2335(1.2712) | Steps 380(375.80) | Grad Norm 1.1509(4.2061) | Total Time 10.00(10.00)\n",
      "Iter 0737 | Time 29.0521(28.2430) | Bit/dim 1.2536(1.2707) | Steps 380(375.93) | Grad Norm 4.1395(4.2041) | Total Time 10.00(10.00)\n",
      "Iter 0738 | Time 27.6020(28.2238) | Bit/dim 1.2585(1.2704) | Steps 374(375.87) | Grad Norm 4.4445(4.2114) | Total Time 10.00(10.00)\n",
      "Iter 0739 | Time 29.1275(28.2509) | Bit/dim 1.2251(1.2690) | Steps 386(376.17) | Grad Norm 2.3522(4.1556) | Total Time 10.00(10.00)\n",
      "Iter 0740 | Time 30.1297(28.3072) | Bit/dim 1.2274(1.2677) | Steps 374(376.11) | Grad Norm 1.7905(4.0846) | Total Time 10.00(10.00)\n",
      "Iter 0741 | Time 28.6265(28.3168) | Bit/dim 1.2340(1.2667) | Steps 374(376.04) | Grad Norm 4.1860(4.0877) | Total Time 10.00(10.00)\n",
      "validating...\n",
      "Epoch 0106 | Time 8.6952, Epoch Time 221.1549, Bit/dim 1.2469\n"
     ]
    },
    {
     "name": "stdout",
     "output_type": "stream",
     "text": [
      "do _generate\n",
      "do _generate\n",
      "do _generate\n",
      "do _generate\n",
      "do _generate\n",
      "do _generate\n",
      "do _generate\n",
      "do _generate\n"
     ]
    },
    {
     "name": "stderr",
     "output_type": "stream",
     "text": [
      "===> Using batch size 8000. Total 7 iterations/epoch.\n",
      "Iter 0742 | Time 28.6129(28.3257) | Bit/dim 1.2576(1.2665) | Steps 374(375.98) | Grad Norm 6.3145(4.1545) | Total Time 10.00(10.00)\n",
      "Iter 0743 | Time 27.5759(28.3032) | Bit/dim 1.2693(1.2665) | Steps 380(376.10) | Grad Norm 5.7822(4.2033) | Total Time 10.00(10.00)\n",
      "Iter 0744 | Time 30.0491(28.3556) | Bit/dim 1.2278(1.2654) | Steps 380(376.22) | Grad Norm 2.4928(4.1520) | Total Time 10.00(10.00)\n",
      "Iter 0745 | Time 30.5483(28.4214) | Bit/dim 1.2258(1.2642) | Steps 380(376.33) | Grad Norm 3.4413(4.1307) | Total Time 10.00(10.00)\n",
      "Iter 0746 | Time 29.0730(28.4409) | Bit/dim 1.2804(1.2647) | Steps 386(376.62) | Grad Norm 7.8507(4.2423) | Total Time 10.00(10.00)\n",
      "Iter 0747 | Time 28.3186(28.4372) | Bit/dim 1.2838(1.2653) | Steps 380(376.73) | Grad Norm 7.0347(4.3260) | Total Time 10.00(10.00)\n",
      "Iter 0748 | Time 27.0918(28.3969) | Bit/dim 1.2383(1.2644) | Steps 374(376.64) | Grad Norm 1.7562(4.2489) | Total Time 10.00(10.00)\n",
      "validating...\n",
      "Epoch 0107 | Time 8.6048, Epoch Time 222.5031, Bit/dim 1.2440\n"
     ]
    },
    {
     "name": "stdout",
     "output_type": "stream",
     "text": [
      "do _generate\n",
      "do _generate\n",
      "do _generate\n",
      "do _generate\n",
      "do _generate\n",
      "do _generate\n",
      "do _generate\n",
      "do _generate\n"
     ]
    },
    {
     "name": "stderr",
     "output_type": "stream",
     "text": [
      "===> Using batch size 8000. Total 7 iterations/epoch.\n",
      "Iter 0749 | Time 27.3394(28.3652) | Bit/dim 1.2552(1.2642) | Steps 368(376.38) | Grad Norm 4.0617(4.2433) | Total Time 10.00(10.00)\n",
      "Iter 0750 | Time 28.8025(28.3783) | Bit/dim 1.2383(1.2634) | Steps 380(376.49) | Grad Norm 3.0896(4.2087) | Total Time 10.00(10.00)\n",
      "Iter 0751 | Time 28.8642(28.3929) | Bit/dim 1.2403(1.2627) | Steps 380(376.60) | Grad Norm 3.1953(4.1783) | Total Time 10.00(10.00)\n",
      "Iter 0752 | Time 27.8775(28.3774) | Bit/dim 1.2508(1.2623) | Steps 374(376.52) | Grad Norm 5.4957(4.2178) | Total Time 10.00(10.00)\n",
      "Iter 0753 | Time 29.3178(28.4056) | Bit/dim 1.2152(1.2609) | Steps 380(376.62) | Grad Norm 1.6888(4.1420) | Total Time 10.00(10.00)\n",
      "Iter 0754 | Time 29.2463(28.4308) | Bit/dim 1.2340(1.2601) | Steps 386(376.91) | Grad Norm 3.7954(4.1316) | Total Time 10.00(10.00)\n",
      "Iter 0755 | Time 27.0370(28.3890) | Bit/dim 1.2388(1.2595) | Steps 374(376.82) | Grad Norm 4.2438(4.1349) | Total Time 10.00(10.00)\n",
      "validating...\n",
      "Epoch 0108 | Time 8.6370, Epoch Time 219.4057, Bit/dim 1.2018\n"
     ]
    },
    {
     "name": "stdout",
     "output_type": "stream",
     "text": [
      "do _generate\n",
      "do _generate\n",
      "do _generate\n",
      "do _generate\n",
      "do _generate\n",
      "do _generate\n",
      "do _generate\n",
      "do _generate\n"
     ]
    },
    {
     "name": "stderr",
     "output_type": "stream",
     "text": [
      "===> Using batch size 8000. Total 7 iterations/epoch.\n",
      "Iter 0756 | Time 28.7298(28.3992) | Bit/dim 1.2174(1.2582) | Steps 380(376.91) | Grad Norm 1.7308(4.0628) | Total Time 10.00(10.00)\n",
      "Iter 0757 | Time 28.7713(28.4104) | Bit/dim 1.2126(1.2569) | Steps 380(377.01) | Grad Norm 2.2428(4.0082) | Total Time 10.00(10.00)\n",
      "Iter 0758 | Time 27.8053(28.3922) | Bit/dim 1.2317(1.2561) | Steps 374(376.92) | Grad Norm 4.3268(4.0178) | Total Time 10.00(10.00)\n",
      "Iter 0759 | Time 30.0706(28.4426) | Bit/dim 1.2343(1.2554) | Steps 386(377.19) | Grad Norm 4.6222(4.0359) | Total Time 10.00(10.00)\n",
      "Iter 0760 | Time 28.0154(28.4298) | Bit/dim 1.2157(1.2543) | Steps 386(377.45) | Grad Norm 3.2839(4.0133) | Total Time 10.00(10.00)\n",
      "Iter 0761 | Time 28.8423(28.4422) | Bit/dim 1.2055(1.2528) | Steps 380(377.53) | Grad Norm 1.9063(3.9501) | Total Time 10.00(10.00)\n",
      "Iter 0762 | Time 27.9827(28.4284) | Bit/dim 1.2013(1.2512) | Steps 374(377.42) | Grad Norm 0.9828(3.8611) | Total Time 10.00(10.00)\n",
      "validating...\n",
      "Epoch 0109 | Time 8.4948, Epoch Time 221.1744, Bit/dim 1.1880\n"
     ]
    },
    {
     "name": "stdout",
     "output_type": "stream",
     "text": [
      "do _generate\n",
      "do _generate\n",
      "do _generate\n",
      "do _generate\n",
      "do _generate\n",
      "do _generate\n",
      "do _generate\n",
      "do _generate\n"
     ]
    },
    {
     "name": "stderr",
     "output_type": "stream",
     "text": [
      "===> Using batch size 8000. Total 7 iterations/epoch.\n",
      "Iter 0763 | Time 28.7975(28.4394) | Bit/dim 1.1992(1.2497) | Steps 380(377.50) | Grad Norm 0.6961(3.7662) | Total Time 10.00(10.00)\n",
      "Iter 0764 | Time 27.4695(28.4103) | Bit/dim 1.2048(1.2483) | Steps 368(377.22) | Grad Norm 0.6841(3.6737) | Total Time 10.00(10.00)\n",
      "Iter 0765 | Time 27.7604(28.3908) | Bit/dim 1.1984(1.2468) | Steps 368(376.94) | Grad Norm 0.5544(3.5801) | Total Time 10.00(10.00)\n",
      "Iter 0766 | Time 27.2306(28.3560) | Bit/dim 1.1944(1.2453) | Steps 368(376.67) | Grad Norm 1.0082(3.5030) | Total Time 10.00(10.00)\n",
      "Iter 0767 | Time 27.9543(28.3440) | Bit/dim 1.1994(1.2439) | Steps 380(376.77) | Grad Norm 1.0490(3.4293) | Total Time 10.00(10.00)\n",
      "Iter 0768 | Time 30.2005(28.3997) | Bit/dim 1.2043(1.2427) | Steps 380(376.87) | Grad Norm 3.0311(3.4174) | Total Time 10.00(10.00)\n",
      "Iter 0769 | Time 28.0512(28.3892) | Bit/dim 1.2502(1.2429) | Steps 380(376.96) | Grad Norm 7.6297(3.5438) | Total Time 10.00(10.00)\n",
      "validating...\n",
      "Epoch 0110 | Time 8.9272, Epoch Time 218.7597, Bit/dim 1.3987\n"
     ]
    },
    {
     "name": "stdout",
     "output_type": "stream",
     "text": [
      "do _generate\n",
      "do _generate\n",
      "do _generate\n",
      "do _generate\n",
      "do _generate\n",
      "do _generate\n",
      "do _generate\n",
      "do _generate\n"
     ]
    },
    {
     "name": "stderr",
     "output_type": "stream",
     "text": [
      "===> Using batch size 8000. Total 7 iterations/epoch.\n",
      "Iter 0770 | Time 29.6001(28.4256) | Bit/dim 1.4168(1.2481) | Steps 392(377.41) | Grad Norm 11.5469(3.7839) | Total Time 10.00(10.00)\n",
      "Iter 0771 | Time 27.4867(28.3974) | Bit/dim 1.3433(1.2510) | Steps 380(377.49) | Grad Norm 7.7573(3.9031) | Total Time 10.00(10.00)\n",
      "Iter 0772 | Time 26.1500(28.3300) | Bit/dim 1.3194(1.2530) | Steps 368(377.21) | Grad Norm 2.6875(3.8666) | Total Time 10.00(10.00)\n",
      "Iter 0773 | Time 27.9829(28.3196) | Bit/dim 1.3133(1.2549) | Steps 380(377.29) | Grad Norm 4.3396(3.8808) | Total Time 10.00(10.00)\n",
      "Iter 0774 | Time 28.5237(28.3257) | Bit/dim 1.2775(1.2555) | Steps 380(377.37) | Grad Norm 2.8639(3.8503) | Total Time 10.00(10.00)\n",
      "Iter 0775 | Time 28.6549(28.3356) | Bit/dim 1.2886(1.2565) | Steps 380(377.45) | Grad Norm 2.4910(3.8095) | Total Time 10.00(10.00)\n",
      "Iter 0776 | Time 28.7170(28.3470) | Bit/dim 1.3101(1.2581) | Steps 380(377.53) | Grad Norm 3.9553(3.8139) | Total Time 10.00(10.00)\n",
      "validating...\n",
      "Epoch 0111 | Time 8.8089, Epoch Time 218.2139, Bit/dim 1.2504\n"
     ]
    },
    {
     "name": "stdout",
     "output_type": "stream",
     "text": [
      "do _generate\n",
      "do _generate\n",
      "do _generate\n",
      "do _generate\n",
      "do _generate\n",
      "do _generate\n",
      "do _generate\n",
      "do _generate\n"
     ]
    },
    {
     "name": "stderr",
     "output_type": "stream",
     "text": [
      "===> Using batch size 8000. Total 7 iterations/epoch.\n",
      "Iter 0777 | Time 29.4166(28.3791) | Bit/dim 1.2677(1.2584) | Steps 386(377.78) | Grad Norm 2.1551(3.7641) | Total Time 10.00(10.00)\n",
      "Iter 0778 | Time 29.6234(28.4164) | Bit/dim 1.2563(1.2584) | Steps 380(377.85) | Grad Norm 1.9849(3.7107) | Total Time 10.00(10.00)\n",
      "Iter 0779 | Time 28.1813(28.4094) | Bit/dim 1.2689(1.2587) | Steps 374(377.73) | Grad Norm 2.3649(3.6704) | Total Time 10.00(10.00)\n",
      "Iter 0780 | Time 27.5796(28.3845) | Bit/dim 1.2560(1.2586) | Steps 374(377.62) | Grad Norm 2.3504(3.6308) | Total Time 10.00(10.00)\n",
      "Iter 0781 | Time 29.7892(28.4266) | Bit/dim 1.2562(1.2585) | Steps 380(377.69) | Grad Norm 3.5356(3.6279) | Total Time 10.00(10.00)\n",
      "Iter 0782 | Time 26.4552(28.3675) | Bit/dim 1.2228(1.2574) | Steps 374(377.58) | Grad Norm 1.2651(3.5570) | Total Time 10.00(10.00)\n",
      "Iter 0783 | Time 27.7022(28.3475) | Bit/dim 1.2572(1.2574) | Steps 374(377.47) | Grad Norm 5.4208(3.6129) | Total Time 10.00(10.00)\n",
      "validating...\n",
      "Epoch 0112 | Time 8.7650, Epoch Time 219.8926, Bit/dim 1.2808\n"
     ]
    },
    {
     "name": "stdout",
     "output_type": "stream",
     "text": [
      "do _generate\n",
      "do _generate\n",
      "do _generate\n",
      "do _generate\n",
      "do _generate\n",
      "do _generate\n",
      "do _generate\n",
      "do _generate\n"
     ]
    },
    {
     "name": "stderr",
     "output_type": "stream",
     "text": [
      "===> Using batch size 8000. Total 7 iterations/epoch.\n",
      "Iter 0784 | Time 29.3812(28.3785) | Bit/dim 1.2932(1.2585) | Steps 374(377.37) | Grad Norm 7.1201(3.7182) | Total Time 10.00(10.00)\n",
      "Iter 0785 | Time 28.2327(28.3741) | Bit/dim 1.2798(1.2591) | Steps 386(377.63) | Grad Norm 6.8266(3.8114) | Total Time 10.00(10.00)\n",
      "Iter 0786 | Time 28.7127(28.3843) | Bit/dim 1.2390(1.2585) | Steps 374(377.52) | Grad Norm 2.8362(3.7821) | Total Time 10.00(10.00)\n",
      "Iter 0787 | Time 29.4024(28.4148) | Bit/dim 1.2664(1.2588) | Steps 386(377.77) | Grad Norm 4.2117(3.7950) | Total Time 10.00(10.00)\n",
      "Iter 0788 | Time 27.4110(28.3847) | Bit/dim 1.2413(1.2583) | Steps 380(377.84) | Grad Norm 3.3162(3.7807) | Total Time 10.00(10.00)\n",
      "Iter 0789 | Time 26.9876(28.3428) | Bit/dim 1.2271(1.2573) | Steps 380(377.91) | Grad Norm 2.1663(3.7322) | Total Time 10.00(10.00)\n",
      "Iter 0790 | Time 28.6310(28.3515) | Bit/dim 1.2494(1.2571) | Steps 380(377.97) | Grad Norm 5.2113(3.7766) | Total Time 10.00(10.00)\n",
      "validating...\n",
      "Epoch 0113 | Time 8.8607, Epoch Time 220.0321, Bit/dim 1.2508\n"
     ]
    },
    {
     "name": "stdout",
     "output_type": "stream",
     "text": [
      "do _generate\n",
      "do _generate\n",
      "do _generate\n",
      "do _generatedo _generate\n",
      "do _generate\n",
      "do _generate\n",
      "\n",
      "do _generate\n"
     ]
    },
    {
     "name": "stderr",
     "output_type": "stream",
     "text": [
      "===> Using batch size 8000. Total 7 iterations/epoch.\n",
      "Iter 0791 | Time 28.5198(28.3565) | Bit/dim 1.2641(1.2573) | Steps 380(378.03) | Grad Norm 6.2861(3.8519) | Total Time 10.00(10.00)\n",
      "Iter 0792 | Time 28.6231(28.3645) | Bit/dim 1.2473(1.2570) | Steps 374(377.91) | Grad Norm 4.4427(3.8696) | Total Time 10.00(10.00)\n",
      "Iter 0793 | Time 27.4029(28.3357) | Bit/dim 1.2150(1.2557) | Steps 374(377.79) | Grad Norm 1.5320(3.7995) | Total Time 10.00(10.00)\n",
      "Iter 0794 | Time 27.4307(28.3085) | Bit/dim 1.2456(1.2554) | Steps 374(377.68) | Grad Norm 3.5606(3.7923) | Total Time 10.00(10.00)\n",
      "Iter 0795 | Time 29.2192(28.3358) | Bit/dim 1.2402(1.2550) | Steps 380(377.75) | Grad Norm 4.6769(3.8189) | Total Time 10.00(10.00)\n",
      "Iter 0796 | Time 27.2996(28.3048) | Bit/dim 1.2193(1.2539) | Steps 380(377.81) | Grad Norm 2.5908(3.7820) | Total Time 10.00(10.00)\n",
      "Iter 0797 | Time 29.7203(28.3472) | Bit/dim 1.2057(1.2525) | Steps 380(377.88) | Grad Norm 1.5308(3.7145) | Total Time 10.00(10.00)\n",
      "validating...\n",
      "Epoch 0114 | Time 8.6170, Epoch Time 219.1849, Bit/dim 1.2186\n"
     ]
    },
    {
     "name": "stdout",
     "output_type": "stream",
     "text": [
      "do _generate\n",
      "do _generate\n",
      "do _generate\n",
      "do _generate\n",
      "do _generate\n",
      "do _generate\n",
      "do _generate\n",
      "do _generate\n"
     ]
    },
    {
     "name": "stderr",
     "output_type": "stream",
     "text": [
      "===> Using batch size 8000. Total 7 iterations/epoch.\n",
      "Iter 0798 | Time 28.9421(28.3651) | Bit/dim 1.2280(1.2517) | Steps 380(377.94) | Grad Norm 4.8674(3.7491) | Total Time 10.00(10.00)\n",
      "Iter 0799 | Time 28.9266(28.3819) | Bit/dim 1.2900(1.2529) | Steps 380(378.01) | Grad Norm 7.7516(3.8691) | Total Time 10.00(10.00)\n",
      "Iter 0800 | Time 28.1178(28.3740) | Bit/dim 1.2577(1.2530) | Steps 380(378.07) | Grad Norm 5.4570(3.9168) | Total Time 10.00(10.00)\n",
      "Iter 0801 | Time 30.3410(28.4330) | Bit/dim 1.2206(1.2520) | Steps 380(378.12) | Grad Norm 2.2492(3.8668) | Total Time 10.00(10.00)\n",
      "Iter 0802 | Time 28.3149(28.4295) | Bit/dim 1.2647(1.2524) | Steps 374(378.00) | Grad Norm 5.7356(3.9228) | Total Time 10.00(10.00)\n",
      "Iter 0803 | Time 28.5915(28.4343) | Bit/dim 1.2260(1.2516) | Steps 380(378.06) | Grad Norm 3.6179(3.9137) | Total Time 10.00(10.00)\n",
      "Iter 0804 | Time 29.1237(28.4550) | Bit/dim 1.2190(1.2507) | Steps 392(378.48) | Grad Norm 2.8713(3.8824) | Total Time 10.00(10.00)\n",
      "validating...\n",
      "Epoch 0115 | Time 8.3690, Epoch Time 222.7605, Bit/dim 1.2323\n"
     ]
    },
    {
     "name": "stdout",
     "output_type": "stream",
     "text": [
      "do _generate\n",
      "do _generate\n",
      "do _generate\n",
      "do _generate\n",
      "do _generate\n",
      "do _generate\n",
      "do _generate\n",
      "do _generate\n"
     ]
    },
    {
     "name": "stderr",
     "output_type": "stream",
     "text": [
      "===> Using batch size 8000. Total 7 iterations/epoch.\n",
      "Iter 0805 | Time 27.9742(28.4406) | Bit/dim 1.2461(1.2505) | Steps 368(378.16) | Grad Norm 5.6949(3.9368) | Total Time 10.00(10.00)\n",
      "Iter 0806 | Time 29.1415(28.4616) | Bit/dim 1.2312(1.2499) | Steps 386(378.40) | Grad Norm 5.0864(3.9713) | Total Time 10.00(10.00)\n",
      "Iter 0807 | Time 28.3185(28.4573) | Bit/dim 1.2038(1.2486) | Steps 374(378.27) | Grad Norm 1.1418(3.8864) | Total Time 10.00(10.00)\n",
      "Iter 0808 | Time 28.1299(28.4475) | Bit/dim 1.2137(1.2475) | Steps 374(378.14) | Grad Norm 3.8677(3.8858) | Total Time 10.00(10.00)\n",
      "Iter 0809 | Time 28.7430(28.4563) | Bit/dim 1.2311(1.2470) | Steps 380(378.19) | Grad Norm 5.1440(3.9236) | Total Time 10.00(10.00)\n",
      "Iter 0810 | Time 27.8675(28.4387) | Bit/dim 1.2284(1.2465) | Steps 374(378.07) | Grad Norm 4.1300(3.9298) | Total Time 10.00(10.00)\n",
      "Iter 0811 | Time 29.0638(28.4574) | Bit/dim 1.2087(1.2453) | Steps 392(378.49) | Grad Norm 1.7440(3.8642) | Total Time 10.00(10.00)\n",
      "validating...\n",
      "Epoch 0116 | Time 8.6569, Epoch Time 220.0682, Bit/dim 1.1868\n"
     ]
    },
    {
     "name": "stdout",
     "output_type": "stream",
     "text": [
      "do _generate\n",
      "do _generate\n",
      "do _generate\n",
      "do _generate\n",
      "do _generate\n",
      "do _generate\n",
      "do _generate\n",
      "do _generate\n"
     ]
    },
    {
     "name": "stderr",
     "output_type": "stream",
     "text": [
      "===> Using batch size 8000. Total 7 iterations/epoch.\n",
      "Iter 0812 | Time 28.9459(28.4721) | Bit/dim 1.2030(1.2441) | Steps 380(378.53) | Grad Norm 2.5195(3.8238) | Total Time 10.00(10.00)\n",
      "Iter 0813 | Time 28.1582(28.4627) | Bit/dim 1.2425(1.2440) | Steps 380(378.58) | Grad Norm 6.5135(3.9045) | Total Time 10.00(10.00)\n",
      "Iter 0814 | Time 29.9159(28.5063) | Bit/dim 1.2936(1.2455) | Steps 380(378.62) | Grad Norm 8.1882(4.0330) | Total Time 10.00(10.00)\n",
      "Iter 0815 | Time 29.6120(28.5394) | Bit/dim 1.2554(1.2458) | Steps 386(378.84) | Grad Norm 5.6611(4.0819) | Total Time 10.00(10.00)\n",
      "Iter 0816 | Time 27.3192(28.5028) | Bit/dim 1.2224(1.2451) | Steps 374(378.69) | Grad Norm 1.8823(4.0159) | Total Time 10.00(10.00)\n",
      "Iter 0817 | Time 28.5817(28.5052) | Bit/dim 1.2559(1.2454) | Steps 374(378.55) | Grad Norm 4.9182(4.0430) | Total Time 10.00(10.00)\n",
      "Iter 0818 | Time 30.7337(28.5721) | Bit/dim 1.2179(1.2446) | Steps 380(378.60) | Grad Norm 2.2570(3.9894) | Total Time 10.00(10.00)\n",
      "validating...\n",
      "Epoch 0117 | Time 8.5319, Epoch Time 224.1552, Bit/dim 1.2245\n"
     ]
    },
    {
     "name": "stdout",
     "output_type": "stream",
     "text": [
      "do _generate\n",
      "do _generate\n",
      "do _generate\n",
      "do _generate\n",
      "do _generate\n",
      "do _generate\n",
      "do _generate\n",
      "do _generate\n"
     ]
    },
    {
     "name": "stderr",
     "output_type": "stream",
     "text": [
      "===> Using batch size 8000. Total 7 iterations/epoch.\n",
      "Iter 0819 | Time 27.6899(28.5456) | Bit/dim 1.2400(1.2445) | Steps 374(378.46) | Grad Norm 5.3126(4.0291) | Total Time 10.00(10.00)\n",
      "Iter 0820 | Time 29.2127(28.5656) | Bit/dim 1.2452(1.2445) | Steps 386(378.69) | Grad Norm 4.9493(4.0567) | Total Time 10.00(10.00)\n",
      "Iter 0821 | Time 29.4988(28.5936) | Bit/dim 1.2122(1.2435) | Steps 392(379.09) | Grad Norm 1.7280(3.9868) | Total Time 10.00(10.00)\n",
      "Iter 0822 | Time 27.2873(28.5544) | Bit/dim 1.2377(1.2433) | Steps 374(378.93) | Grad Norm 5.1835(4.0227) | Total Time 10.00(10.00)\n",
      "Iter 0823 | Time 28.6444(28.5571) | Bit/dim 1.2315(1.2430) | Steps 380(378.96) | Grad Norm 4.1635(4.0270) | Total Time 10.00(10.00)\n",
      "Iter 0824 | Time 27.1528(28.5150) | Bit/dim 1.2051(1.2418) | Steps 374(378.82) | Grad Norm 1.2793(3.9445) | Total Time 10.00(10.00)\n",
      "Iter 0825 | Time 27.2248(28.4763) | Bit/dim 1.2199(1.2412) | Steps 368(378.49) | Grad Norm 3.9263(3.9440) | Total Time 10.00(10.00)\n",
      "validating...\n",
      "Epoch 0118 | Time 8.6988, Epoch Time 218.2038, Bit/dim 1.2121\n"
     ]
    },
    {
     "name": "stdout",
     "output_type": "stream",
     "text": [
      "do _generate\n",
      "do _generate\n",
      "do _generate\n",
      "do _generate\n",
      "do _generate\n",
      "do _generate\n",
      "do _generate\n",
      "do _generate\n"
     ]
    },
    {
     "name": "stderr",
     "output_type": "stream",
     "text": [
      "===> Using batch size 8000. Total 7 iterations/epoch.\n",
      "Iter 0826 | Time 29.2595(28.4998) | Bit/dim 1.2262(1.2407) | Steps 386(378.72) | Grad Norm 4.4797(3.9600) | Total Time 10.00(10.00)\n",
      "Iter 0827 | Time 27.9715(28.4839) | Bit/dim 1.2046(1.2396) | Steps 368(378.39) | Grad Norm 2.7943(3.9251) | Total Time 10.00(10.00)\n",
      "Iter 0828 | Time 26.9541(28.4380) | Bit/dim 1.1987(1.2384) | Steps 374(378.26) | Grad Norm 1.2479(3.8448) | Total Time 10.00(10.00)\n",
      "Iter 0829 | Time 29.3389(28.4651) | Bit/dim 1.1966(1.2372) | Steps 386(378.50) | Grad Norm 1.6643(3.7793) | Total Time 10.00(10.00)\n",
      "Iter 0830 | Time 27.4306(28.4340) | Bit/dim 1.2019(1.2361) | Steps 368(378.18) | Grad Norm 3.1059(3.7591) | Total Time 10.00(10.00)\n",
      "Iter 0831 | Time 28.8785(28.4474) | Bit/dim 1.2187(1.2356) | Steps 380(378.23) | Grad Norm 4.9900(3.7961) | Total Time 10.00(10.00)\n",
      "Iter 0832 | Time 28.0962(28.4368) | Bit/dim 1.2211(1.2352) | Steps 380(378.29) | Grad Norm 5.2613(3.8400) | Total Time 10.00(10.00)\n",
      "validating...\n",
      "Epoch 0119 | Time 8.8419, Epoch Time 219.0468, Bit/dim 1.2048\n"
     ]
    },
    {
     "name": "stdout",
     "output_type": "stream",
     "text": [
      "do _generate\n",
      "do _generate\n",
      "do _generate\n",
      "do _generate\n",
      "do _generate\n",
      "do _generate\n",
      "do _generate\n",
      "do _generate\n"
     ]
    },
    {
     "name": "stderr",
     "output_type": "stream",
     "text": [
      "===> Using batch size 8000. Total 7 iterations/epoch.\n",
      "Iter 0833 | Time 28.9593(28.4525) | Bit/dim 1.2116(1.2344) | Steps 380(378.34) | Grad Norm 4.9812(3.8743) | Total Time 10.00(10.00)\n",
      "Iter 0834 | Time 29.1796(28.4743) | Bit/dim 1.2112(1.2337) | Steps 380(378.39) | Grad Norm 4.3735(3.8892) | Total Time 10.00(10.00)\n",
      "Iter 0835 | Time 29.4250(28.5028) | Bit/dim 1.2035(1.2328) | Steps 386(378.62) | Grad Norm 3.9226(3.8902) | Total Time 10.00(10.00)\n",
      "Iter 0836 | Time 28.1330(28.4917) | Bit/dim 1.1965(1.2317) | Steps 392(379.02) | Grad Norm 3.0825(3.8660) | Total Time 10.00(10.00)\n",
      "Iter 0837 | Time 29.1185(28.5105) | Bit/dim 1.1959(1.2307) | Steps 386(379.23) | Grad Norm 2.6948(3.8309) | Total Time 10.00(10.00)\n",
      "Iter 0838 | Time 27.7411(28.4875) | Bit/dim 1.1982(1.2297) | Steps 380(379.25) | Grad Norm 3.4384(3.8191) | Total Time 10.00(10.00)\n",
      "Iter 0839 | Time 29.1136(28.5062) | Bit/dim 1.2189(1.2294) | Steps 374(379.09) | Grad Norm 5.2167(3.8610) | Total Time 10.00(10.00)\n",
      "validating...\n",
      "Epoch 0120 | Time 8.7175, Epoch Time 222.6718, Bit/dim 1.2332\n"
     ]
    },
    {
     "name": "stdout",
     "output_type": "stream",
     "text": [
      "do _generate\n",
      "do _generate\n",
      "do _generate\n",
      "do _generate\n",
      "do _generate\n",
      "do _generate\n",
      "do _generate\n",
      "do _generate\n"
     ]
    },
    {
     "name": "stderr",
     "output_type": "stream",
     "text": [
      "===> Using batch size 8000. Total 7 iterations/epoch.\n",
      "Iter 0840 | Time 27.7611(28.4839) | Bit/dim 1.2429(1.2298) | Steps 380(379.12) | Grad Norm 6.6501(3.9447) | Total Time 10.00(10.00)\n",
      "Iter 0841 | Time 29.1850(28.5049) | Bit/dim 1.2218(1.2295) | Steps 386(379.33) | Grad Norm 5.2092(3.9826) | Total Time 10.00(10.00)\n",
      "Iter 0842 | Time 27.4797(28.4742) | Bit/dim 1.1969(1.2286) | Steps 374(379.17) | Grad Norm 1.3664(3.9041) | Total Time 10.00(10.00)\n",
      "Iter 0843 | Time 28.3922(28.4717) | Bit/dim 1.2073(1.2279) | Steps 380(379.19) | Grad Norm 4.4040(3.9191) | Total Time 10.00(10.00)\n",
      "Iter 0844 | Time 27.7737(28.4508) | Bit/dim 1.2644(1.2290) | Steps 380(379.22) | Grad Norm 8.0014(4.0416) | Total Time 10.00(10.00)\n",
      "Iter 0845 | Time 29.0166(28.4677) | Bit/dim 1.2892(1.2308) | Steps 386(379.42) | Grad Norm 7.4930(4.1452) | Total Time 10.00(10.00)\n",
      "Iter 0846 | Time 29.3193(28.4933) | Bit/dim 1.2198(1.2305) | Steps 386(379.62) | Grad Norm 2.1064(4.0840) | Total Time 10.00(10.00)\n",
      "validating...\n",
      "Epoch 0121 | Time 8.6728, Epoch Time 219.7530, Bit/dim 1.2462\n"
     ]
    },
    {
     "name": "stdout",
     "output_type": "stream",
     "text": [
      "do _generate\n",
      "do _generate\n",
      "do _generate\n",
      "do _generate\n",
      "do _generate\n",
      "do _generate\n",
      "do _generate\n",
      "do _generate\n"
     ]
    },
    {
     "name": "stderr",
     "output_type": "stream",
     "text": [
      "===> Using batch size 8000. Total 7 iterations/epoch.\n",
      "Iter 0847 | Time 27.9462(28.4769) | Bit/dim 1.2616(1.2314) | Steps 380(379.63) | Grad Norm 5.5982(4.1294) | Total Time 10.00(10.00)\n",
      "Iter 0848 | Time 26.9563(28.4313) | Bit/dim 1.2246(1.2312) | Steps 374(379.46) | Grad Norm 2.9282(4.0934) | Total Time 10.00(10.00)\n",
      "Iter 0849 | Time 28.4269(28.4311) | Bit/dim 1.2355(1.2313) | Steps 380(379.48) | Grad Norm 5.0911(4.1233) | Total Time 10.00(10.00)\n",
      "Iter 0850 | Time 28.7224(28.4399) | Bit/dim 1.2457(1.2318) | Steps 380(379.49) | Grad Norm 4.8786(4.1460) | Total Time 10.00(10.00)\n",
      "Iter 0851 | Time 30.3759(28.4979) | Bit/dim 1.2214(1.2315) | Steps 392(379.87) | Grad Norm 1.7910(4.0753) | Total Time 10.00(10.00)\n",
      "Iter 0852 | Time 27.4684(28.4671) | Bit/dim 1.2299(1.2314) | Steps 374(379.69) | Grad Norm 4.7522(4.0956) | Total Time 10.00(10.00)\n",
      "Iter 0853 | Time 29.6591(28.5028) | Bit/dim 1.2259(1.2313) | Steps 380(379.70) | Grad Norm 3.4513(4.0763) | Total Time 10.00(10.00)\n",
      "validating...\n",
      "Epoch 0122 | Time 8.8359, Epoch Time 220.5183, Bit/dim 1.1957\n"
     ]
    },
    {
     "name": "stdout",
     "output_type": "stream",
     "text": [
      "do _generate\n",
      "do _generate\n",
      "do _generate\n",
      "do _generate\n",
      "do _generate\n",
      "do _generate\n",
      "do _generate\n",
      "do _generate\n"
     ]
    },
    {
     "name": "stderr",
     "output_type": "stream",
     "text": [
      "===> Using batch size 8000. Total 7 iterations/epoch.\n",
      "Iter 0854 | Time 30.1511(28.5523) | Bit/dim 1.2132(1.2307) | Steps 392(380.07) | Grad Norm 2.4956(4.0289) | Total Time 10.00(10.00)\n",
      "Iter 0855 | Time 27.5209(28.5213) | Bit/dim 1.2213(1.2304) | Steps 386(380.25) | Grad Norm 4.4333(4.0410) | Total Time 10.00(10.00)\n",
      "Iter 0856 | Time 28.4941(28.5205) | Bit/dim 1.2137(1.2299) | Steps 386(380.42) | Grad Norm 3.5111(4.0251) | Total Time 10.00(10.00)\n",
      "Iter 0857 | Time 27.3084(28.4841) | Bit/dim 1.1972(1.2289) | Steps 374(380.23) | Grad Norm 1.6392(3.9535) | Total Time 10.00(10.00)\n",
      "Iter 0858 | Time 28.7716(28.4928) | Bit/dim 1.2080(1.2283) | Steps 386(380.40) | Grad Norm 4.6481(3.9744) | Total Time 10.00(10.00)\n",
      "Iter 0859 | Time 29.3877(28.5196) | Bit/dim 1.2477(1.2289) | Steps 380(380.39) | Grad Norm 7.0907(4.0679) | Total Time 10.00(10.00)\n",
      "Iter 0860 | Time 27.9713(28.5032) | Bit/dim 1.2932(1.2308) | Steps 380(380.38) | Grad Norm 7.0433(4.1571) | Total Time 10.00(10.00)\n",
      "validating...\n",
      "Epoch 0123 | Time 8.7343, Epoch Time 220.3165, Bit/dim 1.2322\n"
     ]
    },
    {
     "name": "stdout",
     "output_type": "stream",
     "text": [
      "do _generate\n",
      "do _generate\n",
      "do _generate\n",
      "do _generate\n",
      "do _generate\n",
      "do _generate\n",
      "do _generate\n",
      "do _generate\n"
     ]
    },
    {
     "name": "stderr",
     "output_type": "stream",
     "text": [
      "===> Using batch size 8000. Total 7 iterations/epoch.\n",
      "Iter 0861 | Time 29.1877(28.5237) | Bit/dim 1.2414(1.2311) | Steps 386(380.55) | Grad Norm 2.8352(4.1175) | Total Time 10.00(10.00)\n",
      "Iter 0862 | Time 28.1331(28.5120) | Bit/dim 1.2597(1.2320) | Steps 380(380.53) | Grad Norm 5.0661(4.1459) | Total Time 10.00(10.00)\n",
      "Iter 0863 | Time 27.5931(28.4844) | Bit/dim 1.2101(1.2313) | Steps 374(380.33) | Grad Norm 2.4167(4.0940) | Total Time 10.00(10.00)\n",
      "Iter 0864 | Time 28.1049(28.4730) | Bit/dim 1.2338(1.2314) | Steps 380(380.32) | Grad Norm 3.7285(4.0831) | Total Time 10.00(10.00)\n",
      "Iter 0865 | Time 27.8889(28.4555) | Bit/dim 1.2689(1.2325) | Steps 380(380.31) | Grad Norm 6.2715(4.1487) | Total Time 10.00(10.00)\n",
      "Iter 0866 | Time 28.0408(28.4431) | Bit/dim 1.2551(1.2332) | Steps 374(380.12) | Grad Norm 4.4715(4.1584) | Total Time 10.00(10.00)\n",
      "Iter 0867 | Time 26.9005(28.3968) | Bit/dim 1.2323(1.2332) | Steps 368(379.76) | Grad Norm 2.4753(4.1079) | Total Time 10.00(10.00)\n",
      "validating...\n",
      "Epoch 0124 | Time 8.9029, Epoch Time 216.7848, Bit/dim 1.2308\n"
     ]
    },
    {
     "name": "stdout",
     "output_type": "stream",
     "text": [
      "do _generate\n",
      "do _generate\n",
      "do _generate\n",
      "do _generate\n",
      "do _generate\n",
      "do _generate\n",
      "do _generate\n",
      "do _generate\n"
     ]
    },
    {
     "name": "stderr",
     "output_type": "stream",
     "text": [
      "===> Using batch size 8000. Total 7 iterations/epoch.\n",
      "Iter 0868 | Time 30.2586(28.4526) | Bit/dim 1.2448(1.2335) | Steps 392(380.13) | Grad Norm 3.7638(4.0976) | Total Time 10.00(10.00)\n",
      "Iter 0869 | Time 29.0546(28.4707) | Bit/dim 1.2414(1.2338) | Steps 386(380.30) | Grad Norm 2.8094(4.0590) | Total Time 10.00(10.00)\n",
      "Iter 0870 | Time 27.5993(28.4446) | Bit/dim 1.2262(1.2335) | Steps 368(379.93) | Grad Norm 4.0244(4.0579) | Total Time 10.00(10.00)\n",
      "Iter 0871 | Time 29.2099(28.4675) | Bit/dim 1.2119(1.2329) | Steps 392(380.30) | Grad Norm 3.2468(4.0336) | Total Time 10.00(10.00)\n",
      "Iter 0872 | Time 29.8423(28.5088) | Bit/dim 1.2187(1.2325) | Steps 398(380.83) | Grad Norm 1.4546(3.9562) | Total Time 10.00(10.00)\n",
      "Iter 0873 | Time 27.8825(28.4900) | Bit/dim 1.2242(1.2322) | Steps 386(380.98) | Grad Norm 3.3720(3.9387) | Total Time 10.00(10.00)\n",
      "Iter 0874 | Time 31.1172(28.5688) | Bit/dim 1.2176(1.2318) | Steps 392(381.31) | Grad Norm 4.5889(3.9582) | Total Time 10.00(10.00)\n",
      "validating...\n",
      "Epoch 0125 | Time 8.9680, Epoch Time 226.2140, Bit/dim 1.2212\n"
     ]
    },
    {
     "name": "stdout",
     "output_type": "stream",
     "text": [
      "do _generate\n",
      "do _generate\n",
      "do _generate\n",
      "do _generate\n",
      "do _generate\n",
      "do _generate\n",
      "do _generate\n",
      "do _generate\n"
     ]
    },
    {
     "name": "stderr",
     "output_type": "stream",
     "text": [
      "===> Using batch size 8000. Total 7 iterations/epoch.\n",
      "Iter 0875 | Time 27.6539(28.5413) | Bit/dim 1.2336(1.2318) | Steps 386(381.45) | Grad Norm 5.2176(3.9960) | Total Time 10.00(10.00)\n",
      "Iter 0876 | Time 28.6360(28.5442) | Bit/dim 1.2234(1.2316) | Steps 386(381.59) | Grad Norm 3.9897(3.9958) | Total Time 10.00(10.00)\n",
      "Iter 0877 | Time 29.3648(28.5688) | Bit/dim 1.2026(1.2307) | Steps 392(381.90) | Grad Norm 1.6595(3.9257) | Total Time 10.00(10.00)\n",
      "Iter 0878 | Time 27.8719(28.5479) | Bit/dim 1.2260(1.2306) | Steps 380(381.85) | Grad Norm 4.6463(3.9473) | Total Time 10.00(10.00)\n",
      "Iter 0879 | Time 28.9686(28.5605) | Bit/dim 1.2423(1.2309) | Steps 380(381.79) | Grad Norm 6.9234(4.0366) | Total Time 10.00(10.00)\n",
      "Iter 0880 | Time 30.7927(28.6275) | Bit/dim 1.2823(1.2325) | Steps 398(382.28) | Grad Norm 8.1723(4.1607) | Total Time 10.00(10.00)\n",
      "Iter 0881 | Time 29.2912(28.6474) | Bit/dim 1.2140(1.2319) | Steps 386(382.39) | Grad Norm 3.5770(4.1432) | Total Time 10.00(10.00)\n",
      "validating...\n",
      "Epoch 0126 | Time 8.6155, Epoch Time 223.4616, Bit/dim 1.2084\n"
     ]
    },
    {
     "name": "stdout",
     "output_type": "stream",
     "text": [
      "do _generate\n",
      "do _generate\n",
      "do _generate\n",
      "do _generate\n",
      "do _generate\n",
      "do _generate\n",
      "do _generate\n",
      "do _generate\n"
     ]
    },
    {
     "name": "stderr",
     "output_type": "stream",
     "text": [
      "===> Using batch size 8000. Total 7 iterations/epoch.\n",
      "Iter 0882 | Time 29.5142(28.6734) | Bit/dim 1.2230(1.2316) | Steps 386(382.50) | Grad Norm 4.2940(4.1477) | Total Time 10.00(10.00)\n",
      "Iter 0883 | Time 27.6279(28.6420) | Bit/dim 1.2287(1.2316) | Steps 374(382.24) | Grad Norm 4.8980(4.1702) | Total Time 10.00(10.00)\n",
      "Iter 0884 | Time 27.4674(28.6068) | Bit/dim 1.1985(1.2306) | Steps 374(381.99) | Grad Norm 1.0398(4.0763) | Total Time 10.00(10.00)\n",
      "Iter 0885 | Time 28.1611(28.5934) | Bit/dim 1.2272(1.2305) | Steps 386(382.11) | Grad Norm 4.8917(4.1007) | Total Time 10.00(10.00)\n",
      "Iter 0886 | Time 28.4225(28.5883) | Bit/dim 1.2145(1.2300) | Steps 380(382.05) | Grad Norm 4.2327(4.1047) | Total Time 10.00(10.00)\n",
      "Iter 0887 | Time 26.9124(28.5380) | Bit/dim 1.1938(1.2289) | Steps 374(381.81) | Grad Norm 0.8317(4.0065) | Total Time 10.00(10.00)\n",
      "Iter 0888 | Time 28.6530(28.5415) | Bit/dim 1.2243(1.2288) | Steps 386(381.94) | Grad Norm 4.9557(4.0350) | Total Time 10.00(10.00)\n",
      "validating...\n",
      "Epoch 0127 | Time 9.1395, Epoch Time 218.1782, Bit/dim 1.2195\n"
     ]
    },
    {
     "name": "stdout",
     "output_type": "stream",
     "text": [
      "do _generate\n",
      "do _generate\n",
      "do _generate\n",
      "do _generate\n",
      "do _generate\n",
      "do _generate\n",
      "do _generate\n",
      "do _generate\n"
     ]
    },
    {
     "name": "stderr",
     "output_type": "stream",
     "text": [
      "===> Using batch size 8000. Total 7 iterations/epoch.\n",
      "Iter 0889 | Time 28.3882(28.5369) | Bit/dim 1.2357(1.2290) | Steps 392(382.24) | Grad Norm 6.0202(4.0945) | Total Time 10.00(10.00)\n",
      "Iter 0890 | Time 30.4044(28.5929) | Bit/dim 1.1916(1.2278) | Steps 386(382.35) | Grad Norm 2.0983(4.0347) | Total Time 10.00(10.00)\n",
      "Iter 0891 | Time 28.8370(28.6002) | Bit/dim 1.2037(1.2271) | Steps 386(382.46) | Grad Norm 3.3576(4.0143) | Total Time 10.00(10.00)\n",
      "Iter 0892 | Time 28.0800(28.5846) | Bit/dim 1.2158(1.2268) | Steps 380(382.39) | Grad Norm 4.5924(4.0317) | Total Time 10.00(10.00)\n",
      "Iter 0893 | Time 30.6637(28.6470) | Bit/dim 1.1916(1.2257) | Steps 392(382.67) | Grad Norm 2.0302(3.9716) | Total Time 10.00(10.00)\n",
      "Iter 0894 | Time 29.9751(28.6868) | Bit/dim 1.1889(1.2246) | Steps 392(382.95) | Grad Norm 2.3668(3.9235) | Total Time 10.00(10.00)\n",
      "Iter 0895 | Time 27.9234(28.6639) | Bit/dim 1.2162(1.2244) | Steps 386(383.05) | Grad Norm 5.4841(3.9703) | Total Time 10.00(10.00)\n",
      "validating...\n",
      "Epoch 0128 | Time 8.9143, Epoch Time 225.5374, Bit/dim 1.2076\n"
     ]
    },
    {
     "name": "stdout",
     "output_type": "stream",
     "text": [
      "do _generate\n",
      "do _generate\n",
      "do _generate\n",
      "do _generate\n",
      "do _generate\n",
      "do _generate\n",
      "do _generate\n",
      "do _generate\n"
     ]
    },
    {
     "name": "stderr",
     "output_type": "stream",
     "text": [
      "===> Using batch size 8000. Total 7 iterations/epoch.\n",
      "Iter 0896 | Time 28.4803(28.6584) | Bit/dim 1.2242(1.2244) | Steps 380(382.95) | Grad Norm 5.7681(4.0243) | Total Time 10.00(10.00)\n",
      "Iter 0897 | Time 28.1017(28.6417) | Bit/dim 1.1976(1.2236) | Steps 374(382.69) | Grad Norm 3.3454(4.0039) | Total Time 10.00(10.00)\n",
      "Iter 0898 | Time 27.6517(28.6120) | Bit/dim 1.1876(1.2225) | Steps 380(382.60) | Grad Norm 0.8879(3.9104) | Total Time 10.00(10.00)\n",
      "Iter 0899 | Time 28.9564(28.6223) | Bit/dim 1.2028(1.2219) | Steps 386(382.71) | Grad Norm 4.0872(3.9157) | Total Time 10.00(10.00)\n",
      "Iter 0900 | Time 27.4064(28.5859) | Bit/dim 1.2146(1.2217) | Steps 374(382.45) | Grad Norm 5.5263(3.9640) | Total Time 10.00(10.00)\n",
      "Iter 0901 | Time 28.6271(28.5871) | Bit/dim 1.2009(1.2210) | Steps 386(382.55) | Grad Norm 4.5938(3.9829) | Total Time 10.00(10.00)\n",
      "Iter 0902 | Time 26.8729(28.5357) | Bit/dim 1.1881(1.2201) | Steps 374(382.30) | Grad Norm 2.8475(3.9489) | Total Time 10.00(10.00)\n",
      "validating...\n",
      "Epoch 0129 | Time 9.1307, Epoch Time 217.2924, Bit/dim 1.1664\n"
     ]
    },
    {
     "name": "stdout",
     "output_type": "stream",
     "text": [
      "do _generate\n",
      "do _generate\n",
      "do _generate\n",
      "do _generate\n",
      "do _generate\n",
      "do _generate\n",
      "do _generate\n",
      "do _generate\n"
     ]
    },
    {
     "name": "stderr",
     "output_type": "stream",
     "text": [
      "===> Using batch size 8000. Total 7 iterations/epoch.\n",
      "Iter 0903 | Time 29.3086(28.5589) | Bit/dim 1.1803(1.2189) | Steps 386(382.41) | Grad Norm 1.3596(3.8712) | Total Time 10.00(10.00)\n",
      "Iter 0904 | Time 27.5970(28.5300) | Bit/dim 1.1768(1.2176) | Steps 374(382.15) | Grad Norm 1.2314(3.7920) | Total Time 10.00(10.00)\n",
      "Iter 0905 | Time 28.0531(28.5157) | Bit/dim 1.1877(1.2167) | Steps 374(381.91) | Grad Norm 2.8339(3.7632) | Total Time 10.00(10.00)\n",
      "Iter 0906 | Time 29.3885(28.5419) | Bit/dim 1.2052(1.2164) | Steps 386(382.03) | Grad Norm 5.2965(3.8092) | Total Time 10.00(10.00)\n",
      "Iter 0907 | Time 29.8783(28.5820) | Bit/dim 1.2520(1.2174) | Steps 398(382.51) | Grad Norm 7.0223(3.9056) | Total Time 10.00(10.00)\n",
      "Iter 0908 | Time 29.1450(28.5989) | Bit/dim 1.2070(1.2171) | Steps 386(382.62) | Grad Norm 5.3407(3.9487) | Total Time 10.00(10.00)\n",
      "Iter 0909 | Time 27.4341(28.5639) | Bit/dim 1.1862(1.2162) | Steps 374(382.36) | Grad Norm 1.8665(3.8862) | Total Time 10.00(10.00)\n",
      "validating...\n",
      "Epoch 0130 | Time 8.5775, Epoch Time 221.7474, Bit/dim 1.1730\n"
     ]
    },
    {
     "name": "stdout",
     "output_type": "stream",
     "text": [
      "do _generate\n",
      "do _generate\n",
      "do _generate\n",
      "do _generate\n",
      "do _generate\n",
      "do _generate\n",
      "do _generate\n",
      "do _generate\n"
     ]
    },
    {
     "name": "stderr",
     "output_type": "stream",
     "text": [
      "===> Using batch size 8000. Total 7 iterations/epoch.\n",
      "Iter 0910 | Time 26.8956(28.5139) | Bit/dim 1.1881(1.2153) | Steps 374(382.11) | Grad Norm 2.4541(3.8433) | Total Time 10.00(10.00)\n",
      "Iter 0911 | Time 28.3721(28.5096) | Bit/dim 1.2132(1.2153) | Steps 386(382.22) | Grad Norm 5.5230(3.8937) | Total Time 10.00(10.00)\n",
      "Iter 0912 | Time 28.1365(28.4984) | Bit/dim 1.2446(1.2162) | Steps 380(382.16) | Grad Norm 6.6650(3.9768) | Total Time 10.00(10.00)\n",
      "Iter 0913 | Time 29.4967(28.5284) | Bit/dim 1.1978(1.2156) | Steps 392(382.45) | Grad Norm 3.7163(3.9690) | Total Time 10.00(10.00)\n",
      "Iter 0914 | Time 30.8419(28.5978) | Bit/dim 1.1924(1.2149) | Steps 386(382.56) | Grad Norm 3.1319(3.9439) | Total Time 10.00(10.00)\n",
      "Iter 0915 | Time 28.5567(28.5966) | Bit/dim 1.2285(1.2153) | Steps 398(383.02) | Grad Norm 6.1855(4.0111) | Total Time 10.00(10.00)\n",
      "Iter 0916 | Time 28.4096(28.5909) | Bit/dim 1.2075(1.2151) | Steps 386(383.11) | Grad Norm 4.9570(4.0395) | Total Time 10.00(10.00)\n",
      "validating...\n",
      "Epoch 0131 | Time 8.9404, Epoch Time 222.1335, Bit/dim 1.1754\n"
     ]
    },
    {
     "name": "stdout",
     "output_type": "stream",
     "text": [
      "do _generate\n",
      "do _generate\n",
      "do _generate\n",
      "do _generate\n",
      "do _generate\n",
      "do _generate\n",
      "do _generate\n",
      "do _generate\n"
     ]
    },
    {
     "name": "stderr",
     "output_type": "stream",
     "text": [
      "===> Using batch size 8000. Total 7 iterations/epoch.\n",
      "Iter 0917 | Time 29.4290(28.6161) | Bit/dim 1.1895(1.2143) | Steps 386(383.20) | Grad Norm 1.2887(3.9570) | Total Time 10.00(10.00)\n",
      "Iter 0918 | Time 27.7494(28.5901) | Bit/dim 1.1961(1.2138) | Steps 374(382.92) | Grad Norm 3.1452(3.9326) | Total Time 10.00(10.00)\n",
      "Iter 0919 | Time 28.4586(28.5861) | Bit/dim 1.2187(1.2139) | Steps 386(383.01) | Grad Norm 5.6093(3.9829) | Total Time 10.00(10.00)\n",
      "Iter 0920 | Time 28.3425(28.5788) | Bit/dim 1.2232(1.2142) | Steps 392(383.28) | Grad Norm 6.0616(4.0453) | Total Time 10.00(10.00)\n",
      "Iter 0921 | Time 27.6650(28.5514) | Bit/dim 1.1919(1.2135) | Steps 386(383.37) | Grad Norm 3.1006(4.0169) | Total Time 10.00(10.00)\n",
      "Iter 0922 | Time 29.0238(28.5656) | Bit/dim 1.1897(1.2128) | Steps 386(383.44) | Grad Norm 2.9017(3.9835) | Total Time 10.00(10.00)\n",
      "Iter 0923 | Time 27.8473(28.5440) | Bit/dim 1.2107(1.2127) | Steps 374(383.16) | Grad Norm 5.2182(4.0205) | Total Time 10.00(10.00)\n",
      "validating...\n",
      "Epoch 0132 | Time 8.8292, Epoch Time 219.6647, Bit/dim 1.2014\n"
     ]
    },
    {
     "name": "stdout",
     "output_type": "stream",
     "text": [
      "do _generate\n",
      "do _generate\n",
      "do _generate\n",
      "do _generate\n",
      "do _generate\n",
      "do _generate\n",
      "do _generate\n",
      "do _generate\n"
     ]
    },
    {
     "name": "stderr",
     "output_type": "stream",
     "text": [
      "===> Using batch size 8000. Total 7 iterations/epoch.\n",
      "Iter 0924 | Time 28.8749(28.5540) | Bit/dim 1.2166(1.2129) | Steps 386(383.25) | Grad Norm 5.4439(4.0632) | Total Time 10.00(10.00)\n",
      "Iter 0925 | Time 27.0922(28.5101) | Bit/dim 1.1967(1.2124) | Steps 380(383.15) | Grad Norm 3.8239(4.0560) | Total Time 10.00(10.00)\n",
      "Iter 0926 | Time 28.8101(28.5191) | Bit/dim 1.1902(1.2117) | Steps 392(383.41) | Grad Norm 1.4746(3.9786) | Total Time 10.00(10.00)\n",
      "Iter 0927 | Time 28.8024(28.5276) | Bit/dim 1.1862(1.2109) | Steps 386(383.49) | Grad Norm 2.9575(3.9480) | Total Time 10.00(10.00)\n",
      "Iter 0928 | Time 27.5775(28.4991) | Bit/dim 1.1957(1.2105) | Steps 374(383.21) | Grad Norm 4.0954(3.9524) | Total Time 10.00(10.00)\n",
      "Iter 0929 | Time 29.0879(28.5168) | Bit/dim 1.1906(1.2099) | Steps 386(383.29) | Grad Norm 3.7662(3.9468) | Total Time 10.00(10.00)\n",
      "Iter 0930 | Time 28.2078(28.5075) | Bit/dim 1.1869(1.2092) | Steps 392(383.55) | Grad Norm 3.3565(3.9291) | Total Time 10.00(10.00)\n",
      "validating...\n",
      "Epoch 0133 | Time 9.0607, Epoch Time 219.6284, Bit/dim 1.1695\n"
     ]
    },
    {
     "name": "stdout",
     "output_type": "stream",
     "text": [
      "do _generate\n",
      "do _generate\n",
      "do _generate\n",
      "do _generate\n",
      "do _generate\n",
      "do _generate\n",
      "do _generate\n",
      "do _generate\n"
     ]
    },
    {
     "name": "stderr",
     "output_type": "stream",
     "text": [
      "===> Using batch size 8000. Total 7 iterations/epoch.\n",
      "Iter 0931 | Time 29.3944(28.5341) | Bit/dim 1.1888(1.2086) | Steps 392(383.81) | Grad Norm 2.8966(3.8981) | Total Time 10.00(10.00)\n",
      "Iter 0932 | Time 28.3263(28.5279) | Bit/dim 1.1758(1.2076) | Steps 374(383.51) | Grad Norm 1.7142(3.8326) | Total Time 10.00(10.00)\n",
      "Iter 0933 | Time 27.3922(28.4938) | Bit/dim 1.1752(1.2066) | Steps 374(383.23) | Grad Norm 1.2179(3.7542) | Total Time 10.00(10.00)\n",
      "Iter 0934 | Time 28.5155(28.4945) | Bit/dim 1.1722(1.2056) | Steps 374(382.95) | Grad Norm 1.5520(3.6881) | Total Time 10.00(10.00)\n",
      "Iter 0935 | Time 29.7477(28.5321) | Bit/dim 1.1812(1.2049) | Steps 398(383.40) | Grad Norm 2.9691(3.6665) | Total Time 10.00(10.00)\n",
      "Iter 0936 | Time 29.7973(28.5700) | Bit/dim 1.2131(1.2051) | Steps 386(383.48) | Grad Norm 6.4839(3.7510) | Total Time 10.00(10.00)\n",
      "Iter 0937 | Time 29.7259(28.6047) | Bit/dim 1.3016(1.2080) | Steps 386(383.55) | Grad Norm 11.0277(3.9693) | Total Time 10.00(10.00)\n",
      "validating...\n",
      "Epoch 0134 | Time 9.3997, Epoch Time 224.4890, Bit/dim 1.3598\n"
     ]
    },
    {
     "name": "stdout",
     "output_type": "stream",
     "text": [
      "do _generate\n",
      "do _generate\n",
      "do _generate\n",
      "do _generate\n",
      "do _generate\n",
      "do _generate\n",
      "do _generate\n",
      "do _generate\n"
     ]
    },
    {
     "name": "stderr",
     "output_type": "stream",
     "text": [
      "===> Using batch size 8000. Total 7 iterations/epoch.\n",
      "Iter 0938 | Time 29.3243(28.6263) | Bit/dim 1.3675(1.2128) | Steps 404(384.17) | Grad Norm 8.5930(4.1081) | Total Time 10.00(10.00)\n",
      "Iter 0939 | Time 26.4757(28.5618) | Bit/dim 1.2982(1.2154) | Steps 374(383.86) | Grad Norm 3.5636(4.0917) | Total Time 10.00(10.00)\n",
      "Iter 0940 | Time 31.2404(28.6421) | Bit/dim 1.3333(1.2189) | Steps 392(384.11) | Grad Norm 5.5217(4.1346) | Total Time 10.00(10.00)\n",
      "Iter 0941 | Time 28.1278(28.6267) | Bit/dim 1.2793(1.2207) | Steps 380(383.98) | Grad Norm 3.5533(4.1172) | Total Time 10.00(10.00)\n",
      "Iter 0942 | Time 27.5759(28.5952) | Bit/dim 1.2756(1.2224) | Steps 380(383.86) | Grad Norm 2.2943(4.0625) | Total Time 10.00(10.00)\n",
      "Iter 0943 | Time 27.5421(28.5636) | Bit/dim 1.3057(1.2249) | Steps 392(384.11) | Grad Norm 4.1080(4.0639) | Total Time 10.00(10.00)\n",
      "Iter 0944 | Time 29.2795(28.5851) | Bit/dim 1.2630(1.2260) | Steps 398(384.53) | Grad Norm 1.7912(3.9957) | Total Time 10.00(10.00)\n",
      "validating...\n",
      "Epoch 0135 | Time 8.9915, Epoch Time 220.8770, Bit/dim 1.2451\n"
     ]
    },
    {
     "name": "stdout",
     "output_type": "stream",
     "text": [
      "do _generate\n",
      "do _generate\n",
      "do _generate\n",
      "do _generate\n",
      "do _generate\n",
      "do _generate\n",
      "do _generate\n",
      "do _generate\n"
     ]
    },
    {
     "name": "stderr",
     "output_type": "stream",
     "text": [
      "===> Using batch size 8000. Total 7 iterations/epoch.\n",
      "Iter 0945 | Time 27.8846(28.5640) | Bit/dim 1.2639(1.2271) | Steps 392(384.75) | Grad Norm 2.4585(3.9496) | Total Time 10.00(10.00)\n",
      "Iter 0946 | Time 26.9204(28.5147) | Bit/dim 1.2401(1.2275) | Steps 380(384.61) | Grad Norm 1.3251(3.8708) | Total Time 10.00(10.00)\n",
      "Iter 0947 | Time 29.0414(28.5305) | Bit/dim 1.2545(1.2283) | Steps 386(384.65) | Grad Norm 2.6849(3.8353) | Total Time 10.00(10.00)\n",
      "Iter 0948 | Time 27.2367(28.4917) | Bit/dim 1.2266(1.2283) | Steps 386(384.69) | Grad Norm 1.1705(3.7553) | Total Time 10.00(10.00)\n",
      "Iter 0949 | Time 29.2852(28.5155) | Bit/dim 1.2418(1.2287) | Steps 386(384.73) | Grad Norm 3.7180(3.7542) | Total Time 10.00(10.00)\n",
      "Iter 0950 | Time 28.9484(28.5285) | Bit/dim 1.2174(1.2284) | Steps 398(385.13) | Grad Norm 2.8019(3.7256) | Total Time 10.00(10.00)\n",
      "Iter 0951 | Time 27.4856(28.4972) | Bit/dim 1.2222(1.2282) | Steps 374(384.79) | Grad Norm 3.2710(3.7120) | Total Time 10.00(10.00)\n",
      "validating...\n",
      "Epoch 0136 | Time 8.9432, Epoch Time 218.0290, Bit/dim 1.2143\n"
     ]
    },
    {
     "name": "stdout",
     "output_type": "stream",
     "text": [
      "do _generate\n",
      "do _generate\n",
      "do _generate\n",
      "do _generate\n",
      "do _generate\n",
      "do _generate\n",
      "do _generate\n",
      "do _generate\n"
     ]
    },
    {
     "name": "stderr",
     "output_type": "stream",
     "text": [
      "===> Using batch size 8000. Total 7 iterations/epoch.\n",
      "Iter 0952 | Time 31.6966(28.5932) | Bit/dim 1.2305(1.2282) | Steps 392(385.01) | Grad Norm 3.9905(3.7203) | Total Time 10.00(10.00)\n",
      "Iter 0953 | Time 26.7942(28.5392) | Bit/dim 1.1996(1.2274) | Steps 374(384.68) | Grad Norm 1.7780(3.6621) | Total Time 10.00(10.00)\n",
      "Iter 0954 | Time 27.0832(28.4955) | Bit/dim 1.2119(1.2269) | Steps 374(384.36) | Grad Norm 2.0275(3.6130) | Total Time 10.00(10.00)\n",
      "Iter 0955 | Time 29.5674(28.5277) | Bit/dim 1.2075(1.2263) | Steps 386(384.41) | Grad Norm 2.8518(3.5902) | Total Time 10.00(10.00)\n",
      "Iter 0956 | Time 26.9004(28.4789) | Bit/dim 1.1950(1.2254) | Steps 380(384.28) | Grad Norm 2.3997(3.5545) | Total Time 10.00(10.00)\n",
      "Iter 0957 | Time 28.7877(28.4881) | Bit/dim 1.1970(1.2245) | Steps 386(384.33) | Grad Norm 2.3018(3.5169) | Total Time 10.00(10.00)\n",
      "Iter 0958 | Time 27.2361(28.4506) | Bit/dim 1.1913(1.2235) | Steps 368(383.84) | Grad Norm 1.4830(3.4559) | Total Time 10.00(10.00)\n",
      "validating...\n",
      "Epoch 0137 | Time 9.0286, Epoch Time 219.3503, Bit/dim 1.1834\n"
     ]
    },
    {
     "name": "stdout",
     "output_type": "stream",
     "text": [
      "do _generate\n",
      "do _generate\n",
      "do _generate\n",
      "do _generate\n",
      "do _generate\n",
      "do _generate\n",
      "do _generate\n",
      "do _generate\n"
     ]
    },
    {
     "name": "stderr",
     "output_type": "stream",
     "text": [
      "===> Using batch size 8000. Total 7 iterations/epoch.\n",
      "Iter 0959 | Time 29.6911(28.4878) | Bit/dim 1.1923(1.2226) | Steps 398(384.26) | Grad Norm 2.9787(3.4416) | Total Time 10.00(10.00)\n",
      "Iter 0960 | Time 28.9644(28.5021) | Bit/dim 1.2252(1.2227) | Steps 398(384.67) | Grad Norm 6.6291(3.5372) | Total Time 10.00(10.00)\n",
      "Iter 0961 | Time 30.2428(28.5543) | Bit/dim 1.3351(1.2261) | Steps 386(384.71) | Grad Norm 10.5263(3.7469) | Total Time 10.00(10.00)\n",
      "Iter 0962 | Time 28.7662(28.5607) | Bit/dim 1.3126(1.2287) | Steps 386(384.75) | Grad Norm 7.4892(3.8591) | Total Time 10.00(10.00)\n",
      "Iter 0963 | Time 27.0561(28.5155) | Bit/dim 1.2732(1.2300) | Steps 374(384.43) | Grad Norm 2.8023(3.8274) | Total Time 10.00(10.00)\n",
      "Iter 0964 | Time 28.1067(28.5033) | Bit/dim 1.2893(1.2318) | Steps 380(384.30) | Grad Norm 5.0782(3.8650) | Total Time 10.00(10.00)\n",
      "Iter 0965 | Time 27.8902(28.4849) | Bit/dim 1.2424(1.2321) | Steps 380(384.17) | Grad Norm 3.2183(3.8456) | Total Time 10.00(10.00)\n",
      "validating...\n",
      "Epoch 0138 | Time 9.0173, Epoch Time 221.8257, Bit/dim 1.2446\n"
     ]
    },
    {
     "name": "stdout",
     "output_type": "stream",
     "text": [
      "do _generate\n",
      "do _generate\n",
      "do _generate\n",
      "do _generate\n",
      "do _generate\n",
      "do _generate\n",
      "do _generate\n",
      "do _generate\n"
     ]
    },
    {
     "name": "stderr",
     "output_type": "stream",
     "text": [
      "===> Using batch size 8000. Total 7 iterations/epoch.\n",
      "Iter 0966 | Time 27.8793(28.4667) | Bit/dim 1.2561(1.2328) | Steps 380(384.04) | Grad Norm 5.0561(3.8819) | Total Time 10.00(10.00)\n",
      "Iter 0967 | Time 29.1230(28.4864) | Bit/dim 1.2523(1.2334) | Steps 374(383.74) | Grad Norm 2.6621(3.8453) | Total Time 10.00(10.00)\n",
      "Iter 0968 | Time 29.2912(28.5106) | Bit/dim 1.2453(1.2337) | Steps 386(383.81) | Grad Norm 3.5202(3.8355) | Total Time 10.00(10.00)\n",
      "Iter 0969 | Time 27.3273(28.4751) | Bit/dim 1.2222(1.2334) | Steps 386(383.88) | Grad Norm 3.1056(3.8136) | Total Time 10.00(10.00)\n",
      "Iter 0970 | Time 27.6573(28.4505) | Bit/dim 1.2171(1.2329) | Steps 374(383.58) | Grad Norm 1.5825(3.7467) | Total Time 10.00(10.00)\n",
      "Iter 0971 | Time 26.6850(28.3976) | Bit/dim 1.2305(1.2328) | Steps 368(383.11) | Grad Norm 2.8316(3.7192) | Total Time 10.00(10.00)\n",
      "Iter 0972 | Time 27.8752(28.3819) | Bit/dim 1.2132(1.2323) | Steps 374(382.84) | Grad Norm 1.6107(3.6560) | Total Time 10.00(10.00)\n",
      "validating...\n",
      "Epoch 0139 | Time 8.7512, Epoch Time 216.6459, Bit/dim 1.1908\n"
     ]
    },
    {
     "name": "stdout",
     "output_type": "stream",
     "text": [
      "do _generate\n",
      "do _generate\n",
      "do _generate\n",
      "do _generate\n",
      "do _generate\n",
      "do _generate\n",
      "do _generate\n",
      "do _generate\n"
     ]
    },
    {
     "name": "stderr",
     "output_type": "stream",
     "text": [
      "===> Using batch size 8000. Total 7 iterations/epoch.\n",
      "Iter 0973 | Time 26.9984(28.3404) | Bit/dim 1.2034(1.2314) | Steps 386(382.93) | Grad Norm 2.6858(3.6269) | Total Time 10.00(10.00)\n",
      "Iter 0974 | Time 28.9164(28.3577) | Bit/dim 1.2065(1.2306) | Steps 386(383.03) | Grad Norm 4.0593(3.6399) | Total Time 10.00(10.00)\n",
      "Iter 0975 | Time 30.8385(28.4321) | Bit/dim 1.2672(1.2317) | Steps 398(383.47) | Grad Norm 7.6925(3.7614) | Total Time 10.00(10.00)\n",
      "Iter 0976 | Time 30.0340(28.4801) | Bit/dim 1.3048(1.2339) | Steps 392(383.73) | Grad Norm 8.1737(3.8938) | Total Time 10.00(10.00)\n",
      "Iter 0977 | Time 27.6496(28.4552) | Bit/dim 1.2372(1.2340) | Steps 386(383.80) | Grad Norm 3.8326(3.8920) | Total Time 10.00(10.00)\n",
      "Iter 0978 | Time 28.1311(28.4455) | Bit/dim 1.2483(1.2345) | Steps 368(383.32) | Grad Norm 3.0249(3.8660) | Total Time 10.00(10.00)\n",
      "Iter 0979 | Time 29.4688(28.4762) | Bit/dim 1.2514(1.2350) | Steps 386(383.40) | Grad Norm 3.4487(3.8534) | Total Time 10.00(10.00)\n",
      "validating...\n",
      "Epoch 0140 | Time 8.7944, Epoch Time 223.1034, Bit/dim 1.2198\n"
     ]
    },
    {
     "name": "stdout",
     "output_type": "stream",
     "text": [
      "do _generate\n",
      "do _generate\n",
      "do _generate\n",
      "do _generate\n",
      "do _generate\n",
      "do _generate\n",
      "do _generate\n",
      "do _generate\n"
     ]
    },
    {
     "name": "stderr",
     "output_type": "stream",
     "text": [
      "===> Using batch size 8000. Total 7 iterations/epoch.\n",
      "Iter 0980 | Time 27.8845(28.4585) | Bit/dim 1.2325(1.2349) | Steps 380(383.30) | Grad Norm 2.7444(3.8202) | Total Time 10.00(10.00)\n",
      "Iter 0981 | Time 31.0591(28.5365) | Bit/dim 1.2228(1.2345) | Steps 392(383.56) | Grad Norm 3.2116(3.8019) | Total Time 10.00(10.00)\n",
      "Iter 0982 | Time 27.8172(28.5149) | Bit/dim 1.2147(1.2339) | Steps 380(383.46) | Grad Norm 2.0794(3.7502) | Total Time 10.00(10.00)\n",
      "Iter 0983 | Time 29.6319(28.5484) | Bit/dim 1.2342(1.2339) | Steps 392(383.71) | Grad Norm 4.6739(3.7779) | Total Time 10.00(10.00)\n",
      "Iter 0984 | Time 28.2963(28.5408) | Bit/dim 1.2095(1.2332) | Steps 368(383.24) | Grad Norm 3.2216(3.7613) | Total Time 10.00(10.00)\n",
      "Iter 0985 | Time 27.9428(28.5229) | Bit/dim 1.1974(1.2321) | Steps 380(383.14) | Grad Norm 1.8091(3.7027) | Total Time 10.00(10.00)\n",
      "Iter 0986 | Time 29.8396(28.5624) | Bit/dim 1.1997(1.2312) | Steps 392(383.41) | Grad Norm 2.3658(3.6626) | Total Time 10.00(10.00)\n",
      "validating...\n",
      "Epoch 0141 | Time 8.5413, Epoch Time 223.1674, Bit/dim 1.1945\n"
     ]
    },
    {
     "name": "stdout",
     "output_type": "stream",
     "text": [
      "do _generate\n",
      "do _generate\n",
      "do _generate\n",
      "do _generate\n",
      "do _generate\n",
      "do _generate\n",
      "do _generate\n",
      "do _generate\n"
     ]
    },
    {
     "name": "stderr",
     "output_type": "stream",
     "text": [
      "===> Using batch size 8000. Total 7 iterations/epoch.\n",
      "Iter 0987 | Time 27.3199(28.5251) | Bit/dim 1.2032(1.2303) | Steps 380(383.31) | Grad Norm 3.2077(3.6489) | Total Time 10.00(10.00)\n",
      "Iter 0988 | Time 29.1099(28.5427) | Bit/dim 1.2058(1.2296) | Steps 392(383.57) | Grad Norm 3.1969(3.6354) | Total Time 10.00(10.00)\n",
      "Iter 0989 | Time 26.6907(28.4871) | Bit/dim 1.1913(1.2284) | Steps 368(383.10) | Grad Norm 3.2110(3.6226) | Total Time 10.00(10.00)\n",
      "Iter 0990 | Time 29.2691(28.5106) | Bit/dim 1.1941(1.2274) | Steps 398(383.55) | Grad Norm 4.4083(3.6462) | Total Time 10.00(10.00)\n",
      "Iter 0991 | Time 28.8531(28.5208) | Bit/dim 1.2599(1.2284) | Steps 392(383.80) | Grad Norm 7.6766(3.7671) | Total Time 10.00(10.00)\n",
      "Iter 0992 | Time 31.3650(28.6062) | Bit/dim 1.2780(1.2299) | Steps 392(384.05) | Grad Norm 8.0903(3.8968) | Total Time 10.00(10.00)\n",
      "Iter 0993 | Time 27.8404(28.5832) | Bit/dim 1.2242(1.2297) | Steps 392(384.29) | Grad Norm 3.9502(3.8984) | Total Time 10.00(10.00)\n",
      "validating...\n",
      "Epoch 0142 | Time 8.6937, Epoch Time 221.5821, Bit/dim 1.2022\n"
     ]
    },
    {
     "name": "stdout",
     "output_type": "stream",
     "text": [
      "do _generate\n",
      "do _generate\n",
      "do _generate\n",
      "do _generate\n",
      "do _generate\n",
      "do _generate\n",
      "do _generate\n",
      "do _generate\n"
     ]
    },
    {
     "name": "stderr",
     "output_type": "stream",
     "text": [
      "===> Using batch size 8000. Total 7 iterations/epoch.\n",
      "Iter 0994 | Time 27.5523(28.5523) | Bit/dim 1.2141(1.2292) | Steps 380(384.16) | Grad Norm 2.9686(3.8705) | Total Time 10.00(10.00)\n",
      "Iter 0995 | Time 28.8682(28.5617) | Bit/dim 1.2333(1.2294) | Steps 386(384.21) | Grad Norm 4.3145(3.8838) | Total Time 10.00(10.00)\n",
      "Iter 0996 | Time 29.7560(28.5976) | Bit/dim 1.2045(1.2286) | Steps 392(384.45) | Grad Norm 2.1289(3.8312) | Total Time 10.00(10.00)\n",
      "Iter 0997 | Time 28.1276(28.5835) | Bit/dim 1.2264(1.2285) | Steps 392(384.67) | Grad Norm 5.0577(3.8680) | Total Time 10.00(10.00)\n",
      "Iter 0998 | Time 29.3845(28.6075) | Bit/dim 1.2057(1.2279) | Steps 386(384.71) | Grad Norm 3.1244(3.8457) | Total Time 10.00(10.00)\n",
      "Iter 0999 | Time 29.5122(28.6346) | Bit/dim 1.1992(1.2270) | Steps 392(384.93) | Grad Norm 2.9746(3.8196) | Total Time 10.00(10.00)\n",
      "Iter 1000 | Time 30.2444(28.6829) | Bit/dim 1.2232(1.2269) | Steps 404(385.50) | Grad Norm 5.7055(3.8761) | Total Time 10.00(10.00)\n",
      "validating...\n",
      "Epoch 0143 | Time 8.8347, Epoch Time 224.6706, Bit/dim 1.1790\n"
     ]
    },
    {
     "name": "stdout",
     "output_type": "stream",
     "text": [
      "do _generate\n",
      "do _generate\n",
      "do _generate\n",
      "do _generate\n",
      "do _generate\n",
      "do _generate\n",
      "do _generate\n",
      "do _generate\n"
     ]
    },
    {
     "name": "stderr",
     "output_type": "stream",
     "text": [
      "===> Using batch size 8000. Total 7 iterations/epoch.\n",
      "Iter 1001 | Time 30.1490(28.7269) | Bit/dim 1.1920(1.2258) | Steps 392(385.70) | Grad Norm 2.6606(3.8397) | Total Time 10.00(10.00)\n",
      "Iter 1002 | Time 28.9044(28.7322) | Bit/dim 1.1903(1.2248) | Steps 392(385.89) | Grad Norm 2.6422(3.8037) | Total Time 10.00(10.00)\n",
      "Iter 1003 | Time 26.7353(28.6723) | Bit/dim 1.2045(1.2242) | Steps 380(385.71) | Grad Norm 4.3008(3.8187) | Total Time 10.00(10.00)\n",
      "Iter 1004 | Time 28.3641(28.6631) | Bit/dim 1.2029(1.2235) | Steps 386(385.72) | Grad Norm 4.1496(3.8286) | Total Time 10.00(10.00)\n",
      "Iter 1005 | Time 28.4649(28.6571) | Bit/dim 1.1813(1.2223) | Steps 380(385.55) | Grad Norm 2.0639(3.7756) | Total Time 10.00(10.00)\n",
      "Iter 1006 | Time 27.7242(28.6292) | Bit/dim 1.1824(1.2211) | Steps 368(385.02) | Grad Norm 1.1965(3.6983) | Total Time 10.00(10.00)\n",
      "Iter 1007 | Time 30.0064(28.6705) | Bit/dim 1.1776(1.2198) | Steps 392(385.23) | Grad Norm 2.6442(3.6666) | Total Time 10.00(10.00)\n",
      "validating...\n",
      "Epoch 0144 | Time 8.9524, Epoch Time 221.3259, Bit/dim 1.1930\n"
     ]
    },
    {
     "name": "stdout",
     "output_type": "stream",
     "text": [
      "do _generate\n",
      "do _generate\n",
      "do _generate\n",
      "do _generate\n",
      "do _generate\n",
      "do _generate\n",
      "do _generate\n",
      "do _generate\n"
     ]
    },
    {
     "name": "stderr",
     "output_type": "stream",
     "text": [
      "===> Using batch size 8000. Total 7 iterations/epoch.\n",
      "Iter 1008 | Time 28.3274(28.6602) | Bit/dim 1.2072(1.2194) | Steps 380(385.07) | Grad Norm 5.7204(3.7283) | Total Time 10.00(10.00)\n",
      "Iter 1009 | Time 29.9306(28.6983) | Bit/dim 1.2260(1.2196) | Steps 380(384.92) | Grad Norm 6.7199(3.8180) | Total Time 10.00(10.00)\n",
      "Iter 1010 | Time 28.1990(28.6833) | Bit/dim 1.2101(1.2193) | Steps 386(384.95) | Grad Norm 4.9731(3.8527) | Total Time 10.00(10.00)\n",
      "Iter 1011 | Time 29.5799(28.7102) | Bit/dim 1.1863(1.2183) | Steps 392(385.17) | Grad Norm 1.1822(3.7725) | Total Time 10.00(10.00)\n",
      "Iter 1012 | Time 28.5888(28.7066) | Bit/dim 1.1969(1.2177) | Steps 386(385.19) | Grad Norm 4.1101(3.7827) | Total Time 10.00(10.00)\n",
      "Iter 1013 | Time 28.6969(28.7063) | Bit/dim 1.2010(1.2172) | Steps 386(385.21) | Grad Norm 4.9989(3.8192) | Total Time 10.00(10.00)\n",
      "Iter 1014 | Time 28.7865(28.7087) | Bit/dim 1.1825(1.2161) | Steps 386(385.24) | Grad Norm 3.0906(3.7973) | Total Time 10.00(10.00)\n",
      "validating...\n",
      "Epoch 0145 | Time 9.0009, Epoch Time 223.3558, Bit/dim 1.1602\n"
     ]
    },
    {
     "name": "stdout",
     "output_type": "stream",
     "text": [
      "do _generate\n",
      "do _generate\n",
      "do _generate\n",
      "do _generate\n",
      "do _generate\n",
      "do _generate\n",
      "do _generate\n",
      "do _generate\n"
     ]
    },
    {
     "name": "stderr",
     "output_type": "stream",
     "text": [
      "===> Using batch size 8000. Total 7 iterations/epoch.\n",
      "Iter 1015 | Time 29.8336(28.7424) | Bit/dim 1.1756(1.2149) | Steps 398(385.62) | Grad Norm 0.7255(3.7051) | Total Time 10.00(10.00)\n",
      "Iter 1016 | Time 27.4541(28.7038) | Bit/dim 1.1807(1.2139) | Steps 386(385.63) | Grad Norm 3.0198(3.6846) | Total Time 10.00(10.00)\n",
      "Iter 1017 | Time 28.5828(28.7001) | Bit/dim 1.2005(1.2135) | Steps 386(385.64) | Grad Norm 5.4202(3.7367) | Total Time 10.00(10.00)\n",
      "Iter 1018 | Time 27.7940(28.6730) | Bit/dim 1.2245(1.2138) | Steps 386(385.65) | Grad Norm 6.3272(3.8144) | Total Time 10.00(10.00)\n",
      "Iter 1019 | Time 29.9510(28.7113) | Bit/dim 1.1919(1.2132) | Steps 386(385.66) | Grad Norm 3.8329(3.8149) | Total Time 10.00(10.00)\n",
      "Iter 1020 | Time 29.3858(28.7315) | Bit/dim 1.1734(1.2120) | Steps 392(385.85) | Grad Norm 1.9848(3.7600) | Total Time 10.00(10.00)\n",
      "Iter 1021 | Time 28.2279(28.7164) | Bit/dim 1.1972(1.2115) | Steps 392(386.04) | Grad Norm 5.5443(3.8135) | Total Time 10.00(10.00)\n",
      "validating...\n",
      "Epoch 0146 | Time 8.8930, Epoch Time 222.4091, Bit/dim 1.2020\n"
     ]
    },
    {
     "name": "stdout",
     "output_type": "stream",
     "text": [
      "do _generate\n",
      "do _generate\n",
      "do _generate\n",
      "do _generate\n",
      "do _generate\n",
      "do _generate\n",
      "do _generate\n",
      "do _generate\n"
     ]
    },
    {
     "name": "stderr",
     "output_type": "stream",
     "text": [
      "===> Using batch size 8000. Total 7 iterations/epoch.\n",
      "Iter 1022 | Time 28.7247(28.7167) | Bit/dim 1.2143(1.2116) | Steps 380(385.86) | Grad Norm 6.2343(3.8862) | Total Time 10.00(10.00)\n",
      "Iter 1023 | Time 27.0278(28.6660) | Bit/dim 1.1967(1.2112) | Steps 386(385.86) | Grad Norm 4.3602(3.9004) | Total Time 10.00(10.00)\n",
      "Iter 1024 | Time 29.4934(28.6908) | Bit/dim 1.1741(1.2100) | Steps 398(386.23) | Grad Norm 1.0145(3.8138) | Total Time 10.00(10.00)\n",
      "Iter 1025 | Time 29.0318(28.7011) | Bit/dim 1.1956(1.2096) | Steps 386(386.22) | Grad Norm 3.9838(3.8189) | Total Time 10.00(10.00)\n",
      "Iter 1026 | Time 27.0132(28.6504) | Bit/dim 1.1901(1.2090) | Steps 380(386.03) | Grad Norm 3.6999(3.8153) | Total Time 10.00(10.00)\n",
      "Iter 1027 | Time 29.6997(28.6819) | Bit/dim 1.1710(1.2079) | Steps 392(386.21) | Grad Norm 0.9667(3.7299) | Total Time 10.00(10.00)\n",
      "Iter 1028 | Time 29.4767(28.7057) | Bit/dim 1.1768(1.2070) | Steps 392(386.39) | Grad Norm 2.8026(3.7021) | Total Time 10.00(10.00)\n",
      "validating...\n",
      "Epoch 0147 | Time 8.9129, Epoch Time 221.5908, Bit/dim 1.1731\n"
     ]
    },
    {
     "name": "stdout",
     "output_type": "stream",
     "text": [
      "do _generate\n",
      "do _generate\n",
      "do _generate\n",
      "do _generate\n",
      "do _generate\n",
      "do _generate\n",
      "do _generate\n",
      "do _generate\n"
     ]
    },
    {
     "name": "stderr",
     "output_type": "stream",
     "text": [
      "===> Using batch size 8000. Total 7 iterations/epoch.\n",
      "Iter 1029 | Time 27.7602(28.6774) | Bit/dim 1.1864(1.2063) | Steps 380(386.19) | Grad Norm 4.3567(3.7217) | Total Time 10.00(10.00)\n",
      "Iter 1030 | Time 28.8874(28.6837) | Bit/dim 1.1866(1.2057) | Steps 386(386.19) | Grad Norm 4.4279(3.7429) | Total Time 10.00(10.00)\n",
      "Iter 1031 | Time 27.3989(28.6451) | Bit/dim 1.1776(1.2049) | Steps 386(386.18) | Grad Norm 3.6274(3.7394) | Total Time 10.00(10.00)\n",
      "Iter 1032 | Time 29.1892(28.6615) | Bit/dim 1.1735(1.2040) | Steps 386(386.18) | Grad Norm 2.4810(3.7017) | Total Time 10.00(10.00)\n",
      "Iter 1033 | Time 27.5265(28.6274) | Bit/dim 1.1629(1.2027) | Steps 386(386.17) | Grad Norm 0.7351(3.6127) | Total Time 10.00(10.00)\n",
      "Iter 1034 | Time 27.2333(28.5856) | Bit/dim 1.1678(1.2017) | Steps 380(385.99) | Grad Norm 1.7026(3.5554) | Total Time 10.00(10.00)\n",
      "Iter 1035 | Time 28.4869(28.5826) | Bit/dim 1.1851(1.2012) | Steps 386(385.99) | Grad Norm 4.9379(3.5969) | Total Time 10.00(10.00)\n",
      "validating...\n",
      "Epoch 0148 | Time 9.3021, Epoch Time 218.0731, Bit/dim 1.2476\n"
     ]
    },
    {
     "name": "stdout",
     "output_type": "stream",
     "text": [
      "do _generate\n",
      "do _generate\n",
      "do _generate\n",
      "do _generate\n",
      "do _generate\n",
      "do _generate\n",
      "do _generate\n",
      "do _generate\n"
     ]
    },
    {
     "name": "stderr",
     "output_type": "stream",
     "text": [
      "===> Using batch size 8000. Total 7 iterations/epoch.\n",
      "Iter 1036 | Time 30.7707(28.6483) | Bit/dim 1.2609(1.2030) | Steps 404(386.53) | Grad Norm 8.1726(3.7341) | Total Time 10.00(10.00)\n",
      "Iter 1037 | Time 28.1627(28.6337) | Bit/dim 1.2263(1.2037) | Steps 380(386.33) | Grad Norm 6.3201(3.8117) | Total Time 10.00(10.00)\n",
      "Iter 1038 | Time 29.3717(28.6558) | Bit/dim 1.1786(1.2029) | Steps 386(386.32) | Grad Norm 1.6497(3.7468) | Total Time 10.00(10.00)\n",
      "Iter 1039 | Time 28.4469(28.6496) | Bit/dim 1.2082(1.2031) | Steps 392(386.49) | Grad Norm 4.9697(3.7835) | Total Time 10.00(10.00)\n",
      "Iter 1040 | Time 27.8528(28.6257) | Bit/dim 1.2087(1.2032) | Steps 386(386.48) | Grad Norm 5.6209(3.8386) | Total Time 10.00(10.00)\n",
      "Iter 1041 | Time 28.2492(28.6144) | Bit/dim 1.1889(1.2028) | Steps 392(386.64) | Grad Norm 2.8334(3.8085) | Total Time 10.00(10.00)\n",
      "Iter 1042 | Time 26.8907(28.5627) | Bit/dim 1.1853(1.2023) | Steps 380(386.44) | Grad Norm 2.3059(3.7634) | Total Time 10.00(10.00)\n",
      "validating...\n",
      "Epoch 0149 | Time 8.9189, Epoch Time 220.9889, Bit/dim 1.1821\n"
     ]
    },
    {
     "name": "stdout",
     "output_type": "stream",
     "text": [
      "do _generate\n",
      "do _generate\n",
      "do _generate\n",
      "do _generate\n",
      "do _generate\n",
      "do _generate\n",
      "do _generate\n",
      "do _generate\n"
     ]
    },
    {
     "name": "stderr",
     "output_type": "stream",
     "text": [
      "===> Using batch size 8000. Total 7 iterations/epoch.\n",
      "Iter 1043 | Time 30.0162(28.6063) | Bit/dim 1.1985(1.2022) | Steps 386(386.43) | Grad Norm 4.5315(3.7865) | Total Time 10.00(10.00)\n",
      "Iter 1044 | Time 27.2059(28.5643) | Bit/dim 1.1902(1.2018) | Steps 380(386.24) | Grad Norm 4.2502(3.8004) | Total Time 10.00(10.00)\n",
      "Iter 1045 | Time 27.4557(28.5310) | Bit/dim 1.1787(1.2011) | Steps 380(386.05) | Grad Norm 1.9917(3.7461) | Total Time 10.00(10.00)\n",
      "Iter 1046 | Time 29.0506(28.5466) | Bit/dim 1.1826(1.2006) | Steps 386(386.05) | Grad Norm 2.9327(3.7217) | Total Time 10.00(10.00)\n",
      "Iter 1047 | Time 27.4324(28.5132) | Bit/dim 1.1807(1.2000) | Steps 386(386.05) | Grad Norm 3.6606(3.7199) | Total Time 10.00(10.00)\n",
      "Iter 1048 | Time 29.6639(28.5477) | Bit/dim 1.1719(1.1991) | Steps 392(386.23) | Grad Norm 3.4143(3.7107) | Total Time 10.00(10.00)\n",
      "Iter 1049 | Time 27.1502(28.5058) | Bit/dim 1.1735(1.1984) | Steps 380(386.04) | Grad Norm 3.2507(3.6969) | Total Time 10.00(10.00)\n",
      "validating...\n",
      "Epoch 0150 | Time 8.9429, Epoch Time 219.4779, Bit/dim 1.1585\n"
     ]
    },
    {
     "name": "stdout",
     "output_type": "stream",
     "text": [
      "do _generate\n",
      "do _generate\n",
      "do _generate\n",
      "do _generate\n",
      "do _generate\n",
      "do _generate\n",
      "do _generate\n",
      "do _generate\n"
     ]
    },
    {
     "name": "stderr",
     "output_type": "stream",
     "text": [
      "===> Using batch size 8000. Total 7 iterations/epoch.\n",
      "Iter 1050 | Time 28.3964(28.5025) | Bit/dim 1.1715(1.1976) | Steps 386(386.04) | Grad Norm 3.4239(3.6887) | Total Time 10.00(10.00)\n",
      "Iter 1051 | Time 27.3415(28.4676) | Bit/dim 1.1856(1.1972) | Steps 380(385.86) | Grad Norm 4.5180(3.7136) | Total Time 10.00(10.00)\n",
      "Iter 1052 | Time 28.2991(28.4626) | Bit/dim 1.1895(1.1970) | Steps 386(385.86) | Grad Norm 4.8600(3.7480) | Total Time 10.00(10.00)\n",
      "Iter 1053 | Time 27.4497(28.4322) | Bit/dim 1.1888(1.1967) | Steps 386(385.87) | Grad Norm 4.7777(3.7789) | Total Time 10.00(10.00)\n",
      "Iter 1054 | Time 28.7382(28.4414) | Bit/dim 1.1823(1.1963) | Steps 386(385.87) | Grad Norm 4.3541(3.7961) | Total Time 10.00(10.00)\n",
      "Iter 1055 | Time 27.2303(28.4051) | Bit/dim 1.1717(1.1955) | Steps 386(385.87) | Grad Norm 3.2166(3.7788) | Total Time 10.00(10.00)\n",
      "Iter 1056 | Time 30.2391(28.4601) | Bit/dim 1.1615(1.1945) | Steps 398(386.24) | Grad Norm 2.2028(3.7315) | Total Time 10.00(10.00)\n",
      "validating...\n",
      "Epoch 0151 | Time 9.1535, Epoch Time 219.1343, Bit/dim 1.1485\n"
     ]
    },
    {
     "name": "stdout",
     "output_type": "stream",
     "text": [
      "do _generate\n",
      "do _generate\n",
      "do _generate\n",
      "do _generate\n",
      "do _generate\n",
      "do _generate\n",
      "do _generate\n",
      "do _generate\n"
     ]
    },
    {
     "name": "stderr",
     "output_type": "stream",
     "text": [
      "===> Using batch size 8000. Total 7 iterations/epoch.\n",
      "Iter 1057 | Time 27.1509(28.4208) | Bit/dim 1.1575(1.1934) | Steps 386(386.23) | Grad Norm 1.7790(3.6729) | Total Time 10.00(10.00)\n",
      "Iter 1058 | Time 29.4153(28.4506) | Bit/dim 1.1669(1.1926) | Steps 392(386.40) | Grad Norm 2.7237(3.6444) | Total Time 10.00(10.00)\n",
      "Iter 1059 | Time 27.6068(28.4253) | Bit/dim 1.1800(1.1922) | Steps 386(386.39) | Grad Norm 4.9614(3.6839) | Total Time 10.00(10.00)\n",
      "Iter 1060 | Time 28.1029(28.4156) | Bit/dim 1.2296(1.1934) | Steps 380(386.20) | Grad Norm 8.1377(3.8175) | Total Time 10.00(10.00)\n",
      "Iter 1061 | Time 28.7050(28.4243) | Bit/dim 1.2768(1.1959) | Steps 404(386.73) | Grad Norm 7.9648(3.9420) | Total Time 10.00(10.00)\n",
      "Iter 1062 | Time 29.7430(28.4639) | Bit/dim 1.1956(1.1959) | Steps 380(386.53) | Grad Norm 2.8336(3.9087) | Total Time 10.00(10.00)\n",
      "Iter 1063 | Time 29.6466(28.4994) | Bit/dim 1.2619(1.1978) | Steps 386(386.52) | Grad Norm 6.6944(3.9923) | Total Time 10.00(10.00)\n",
      "validating...\n",
      "Epoch 0152 | Time 8.9577, Epoch Time 221.7259, Bit/dim 1.1720\n"
     ]
    },
    {
     "name": "stdout",
     "output_type": "stream",
     "text": [
      "do _generate\n",
      "do _generate\n",
      "do _generate\n",
      "do _generate\n",
      "do _generate\n",
      "do _generate\n",
      "do _generate\n",
      "do _generate\n"
     ]
    },
    {
     "name": "stderr",
     "output_type": "stream",
     "text": [
      "===> Using batch size 8000. Total 7 iterations/epoch.\n",
      "Iter 1064 | Time 27.1254(28.4582) | Bit/dim 1.1899(1.1976) | Steps 380(386.32) | Grad Norm 2.8105(3.9568) | Total Time 10.00(10.00)\n",
      "Iter 1065 | Time 28.0312(28.4453) | Bit/dim 1.2298(1.1986) | Steps 392(386.49) | Grad Norm 5.1008(3.9911) | Total Time 10.00(10.00)\n",
      "Iter 1066 | Time 29.0087(28.4622) | Bit/dim 1.2193(1.1992) | Steps 386(386.48) | Grad Norm 4.1590(3.9962) | Total Time 10.00(10.00)\n",
      "Iter 1067 | Time 28.2347(28.4554) | Bit/dim 1.2051(1.1994) | Steps 386(386.46) | Grad Norm 2.5501(3.9528) | Total Time 10.00(10.00)\n",
      "Iter 1068 | Time 27.9431(28.4400) | Bit/dim 1.2044(1.1995) | Steps 380(386.27) | Grad Norm 3.3629(3.9351) | Total Time 10.00(10.00)\n",
      "Iter 1069 | Time 26.9229(28.3945) | Bit/dim 1.2001(1.1995) | Steps 380(386.08) | Grad Norm 2.1949(3.8829) | Total Time 10.00(10.00)\n",
      "Iter 1070 | Time 28.5353(28.3988) | Bit/dim 1.2018(1.1996) | Steps 386(386.08) | Grad Norm 3.0703(3.8585) | Total Time 10.00(10.00)\n",
      "validating...\n",
      "Epoch 0153 | Time 8.7148, Epoch Time 216.8167, Bit/dim 1.1757\n"
     ]
    },
    {
     "name": "stdout",
     "output_type": "stream",
     "text": [
      "do _generate\n",
      "do _generate\n",
      "do _generate\n",
      "do _generate\n",
      "do _generate\n",
      "do _generate\n",
      "do _generate\n",
      "do _generate\n"
     ]
    },
    {
     "name": "stderr",
     "output_type": "stream",
     "text": [
      "===> Using batch size 8000. Total 7 iterations/epoch.\n",
      "Iter 1071 | Time 28.3877(28.3984) | Bit/dim 1.1934(1.1994) | Steps 386(386.07) | Grad Norm 2.6584(3.8225) | Total Time 10.00(10.00)\n",
      "Iter 1072 | Time 29.6577(28.4362) | Bit/dim 1.1966(1.1993) | Steps 386(386.07) | Grad Norm 3.1707(3.8030) | Total Time 10.00(10.00)\n",
      "Iter 1073 | Time 27.8867(28.4197) | Bit/dim 1.1772(1.1987) | Steps 380(385.89) | Grad Norm 2.3544(3.7595) | Total Time 10.00(10.00)\n",
      "Iter 1074 | Time 27.9581(28.4059) | Bit/dim 1.2107(1.1990) | Steps 386(385.89) | Grad Norm 5.1531(3.8013) | Total Time 10.00(10.00)\n",
      "Iter 1075 | Time 27.3909(28.3754) | Bit/dim 1.1833(1.1986) | Steps 392(386.08) | Grad Norm 3.0329(3.7783) | Total Time 10.00(10.00)\n",
      "Iter 1076 | Time 27.7588(28.3569) | Bit/dim 1.1825(1.1981) | Steps 380(385.89) | Grad Norm 2.3121(3.7343) | Total Time 10.00(10.00)\n",
      "Iter 1077 | Time 28.1119(28.3496) | Bit/dim 1.1817(1.1976) | Steps 386(385.90) | Grad Norm 2.7968(3.7061) | Total Time 10.00(10.00)\n",
      "validating...\n",
      "Epoch 0154 | Time 9.2626, Epoch Time 218.8775, Bit/dim 1.1619\n"
     ]
    },
    {
     "name": "stdout",
     "output_type": "stream",
     "text": [
      "do _generate\n",
      "do _generate\n",
      "do _generate\n",
      "do _generate\n",
      "do _generate\n",
      "do _generate\n",
      "do _generate\n",
      "do _generate\n"
     ]
    },
    {
     "name": "stderr",
     "output_type": "stream",
     "text": [
      "===> Using batch size 8000. Total 7 iterations/epoch.\n",
      "Iter 1078 | Time 30.4506(28.4126) | Bit/dim 1.1770(1.1970) | Steps 404(386.44) | Grad Norm 2.3971(3.6669) | Total Time 10.00(10.00)\n",
      "Iter 1079 | Time 27.5294(28.3861) | Bit/dim 1.1828(1.1965) | Steps 380(386.25) | Grad Norm 2.8981(3.6438) | Total Time 10.00(10.00)\n",
      "Iter 1080 | Time 28.3531(28.3851) | Bit/dim 1.1809(1.1961) | Steps 386(386.24) | Grad Norm 3.8472(3.6499) | Total Time 10.00(10.00)\n",
      "Iter 1081 | Time 28.2811(28.3820) | Bit/dim 1.1852(1.1957) | Steps 404(386.77) | Grad Norm 4.2946(3.6693) | Total Time 10.00(10.00)\n",
      "Iter 1082 | Time 28.5512(28.3871) | Bit/dim 1.1786(1.1952) | Steps 386(386.75) | Grad Norm 2.9145(3.6466) | Total Time 10.00(10.00)\n",
      "Iter 1083 | Time 28.0413(28.3767) | Bit/dim 1.1679(1.1944) | Steps 392(386.91) | Grad Norm 1.1828(3.5727) | Total Time 10.00(10.00)\n",
      "Iter 1084 | Time 27.9624(28.3643) | Bit/dim 1.1720(1.1937) | Steps 398(387.24) | Grad Norm 2.3842(3.5370) | Total Time 10.00(10.00)\n",
      "validating...\n",
      "Epoch 0155 | Time 8.8357, Epoch Time 220.1975, Bit/dim 1.1603\n"
     ]
    },
    {
     "name": "stdout",
     "output_type": "stream",
     "text": [
      "do _generate\n",
      "do _generate\n",
      "do _generate\n",
      "do _generate\n",
      "do _generate\n",
      "do _generate\n",
      "do _generate\n",
      "do _generate\n"
     ]
    },
    {
     "name": "stderr",
     "output_type": "stream",
     "text": [
      "===> Using batch size 8000. Total 7 iterations/epoch.\n",
      "Iter 1085 | Time 28.4351(28.3664) | Bit/dim 1.1760(1.1932) | Steps 386(387.20) | Grad Norm 3.9511(3.5495) | Total Time 10.00(10.00)\n",
      "Iter 1086 | Time 28.8624(28.3813) | Bit/dim 1.2371(1.1945) | Steps 404(387.71) | Grad Norm 7.5382(3.6691) | Total Time 10.00(10.00)\n",
      "Iter 1087 | Time 30.0422(28.4311) | Bit/dim 1.2569(1.1964) | Steps 386(387.66) | Grad Norm 8.9606(3.8279) | Total Time 10.00(10.00)\n",
      "Iter 1088 | Time 28.4925(28.4329) | Bit/dim 1.2417(1.1978) | Steps 398(387.97) | Grad Norm 5.9269(3.8908) | Total Time 10.00(10.00)\n",
      "Iter 1089 | Time 26.8979(28.3869) | Bit/dim 1.2105(1.1981) | Steps 380(387.73) | Grad Norm 2.7240(3.8558) | Total Time 10.00(10.00)\n",
      "Iter 1090 | Time 27.9300(28.3732) | Bit/dim 1.2221(1.1989) | Steps 380(387.50) | Grad Norm 4.1053(3.8633) | Total Time 10.00(10.00)\n",
      "Iter 1091 | Time 28.4051(28.3741) | Bit/dim 1.2064(1.1991) | Steps 386(387.45) | Grad Norm 2.6795(3.8278) | Total Time 10.00(10.00)\n",
      "validating...\n",
      "Epoch 0156 | Time 9.2573, Epoch Time 220.6621, Bit/dim 1.1970\n"
     ]
    },
    {
     "name": "stdout",
     "output_type": "stream",
     "text": [
      "do _generate\n",
      "do _generate\n",
      "do _generate\n",
      "do _generate\n",
      "do _generate\n",
      "do _generate\n",
      "do _generate\n",
      "do _generate\n"
     ]
    },
    {
     "name": "stderr",
     "output_type": "stream",
     "text": [
      "===> Using batch size 8000. Total 7 iterations/epoch.\n",
      "Iter 1092 | Time 27.9369(28.3610) | Bit/dim 1.2115(1.1995) | Steps 392(387.59) | Grad Norm 3.7459(3.8254) | Total Time 10.00(10.00)\n",
      "Iter 1093 | Time 29.5145(28.3956) | Bit/dim 1.2081(1.1997) | Steps 392(387.72) | Grad Norm 2.6771(3.7909) | Total Time 10.00(10.00)\n",
      "Iter 1094 | Time 28.7194(28.4053) | Bit/dim 1.1903(1.1994) | Steps 386(387.67) | Grad Norm 1.9260(3.7350) | Total Time 10.00(10.00)\n",
      "Iter 1095 | Time 27.9544(28.3918) | Bit/dim 1.2023(1.1995) | Steps 392(387.80) | Grad Norm 3.2351(3.7200) | Total Time 10.00(10.00)\n",
      "Iter 1096 | Time 27.0680(28.3521) | Bit/dim 1.1789(1.1989) | Steps 380(387.56) | Grad Norm 1.2162(3.6448) | Total Time 10.00(10.00)\n",
      "Iter 1097 | Time 29.6366(28.3906) | Bit/dim 1.1868(1.1985) | Steps 392(387.70) | Grad Norm 2.5327(3.6115) | Total Time 10.00(10.00)\n",
      "Iter 1098 | Time 28.2317(28.3859) | Bit/dim 1.1734(1.1978) | Steps 380(387.47) | Grad Norm 1.5566(3.5498) | Total Time 10.00(10.00)\n",
      "validating...\n",
      "Epoch 0157 | Time 9.0271, Epoch Time 220.4667, Bit/dim 1.1651\n"
     ]
    },
    {
     "name": "stdout",
     "output_type": "stream",
     "text": [
      "do _generate\n",
      "do _generate\n",
      "do _generate\n",
      "do _generate\n",
      "do _generate\n",
      "do _generate\n",
      "do _generate\n",
      "do _generate\n"
     ]
    },
    {
     "name": "stderr",
     "output_type": "stream",
     "text": [
      "===> Using batch size 8000. Total 7 iterations/epoch.\n",
      "Iter 1099 | Time 30.3187(28.4439) | Bit/dim 1.1814(1.1973) | Steps 398(387.78) | Grad Norm 1.9912(3.5031) | Total Time 10.00(10.00)\n",
      "Iter 1100 | Time 27.5356(28.4166) | Bit/dim 1.1701(1.1965) | Steps 398(388.09) | Grad Norm 2.2355(3.4651) | Total Time 10.00(10.00)\n",
      "Iter 1101 | Time 28.7707(28.4272) | Bit/dim 1.1842(1.1961) | Steps 386(388.03) | Grad Norm 4.9387(3.5093) | Total Time 10.00(10.00)\n",
      "Iter 1102 | Time 29.4753(28.4587) | Bit/dim 1.2645(1.1982) | Steps 416(388.86) | Grad Norm 8.0884(3.6466) | Total Time 10.00(10.00)\n",
      "Iter 1103 | Time 29.6723(28.4951) | Bit/dim 1.2177(1.1987) | Steps 380(388.60) | Grad Norm 5.6560(3.7069) | Total Time 10.00(10.00)\n",
      "Iter 1104 | Time 27.9007(28.4772) | Bit/dim 1.1786(1.1981) | Steps 392(388.70) | Grad Norm 2.2021(3.6618) | Total Time 10.00(10.00)\n",
      "Iter 1105 | Time 29.3519(28.5035) | Bit/dim 1.2339(1.1992) | Steps 398(388.98) | Grad Norm 5.8896(3.7286) | Total Time 10.00(10.00)\n",
      "validating...\n",
      "Epoch 0158 | Time 8.6067, Epoch Time 223.7392, Bit/dim 1.1852\n"
     ]
    },
    {
     "name": "stdout",
     "output_type": "stream",
     "text": [
      "do _generate\n",
      "do _generate\n",
      "do _generate\n",
      "do _generate\n",
      "do _generate\n",
      "do _generate\n",
      "do _generate\n",
      "do _generate\n"
     ]
    },
    {
     "name": "stderr",
     "output_type": "stream",
     "text": [
      "===> Using batch size 8000. Total 7 iterations/epoch.\n",
      "Iter 1106 | Time 28.8535(28.5140) | Bit/dim 1.1951(1.1991) | Steps 380(388.71) | Grad Norm 4.7121(3.7581) | Total Time 10.00(10.00)\n",
      "Iter 1107 | Time 29.5955(28.5464) | Bit/dim 1.1765(1.1984) | Steps 392(388.81) | Grad Norm 0.8505(3.6709) | Total Time 10.00(10.00)\n",
      "Iter 1108 | Time 26.9830(28.4995) | Bit/dim 1.1933(1.1983) | Steps 386(388.72) | Grad Norm 3.7496(3.6732) | Total Time 10.00(10.00)\n",
      "Iter 1109 | Time 28.5638(28.5015) | Bit/dim 1.1852(1.1979) | Steps 386(388.64) | Grad Norm 3.7089(3.6743) | Total Time 10.00(10.00)\n",
      "Iter 1110 | Time 27.8108(28.4807) | Bit/dim 1.1749(1.1972) | Steps 380(388.38) | Grad Norm 1.9391(3.6223) | Total Time 10.00(10.00)\n",
      "Iter 1111 | Time 26.6366(28.4254) | Bit/dim 1.1691(1.1963) | Steps 368(387.77) | Grad Norm 1.9449(3.5719) | Total Time 10.00(10.00)\n",
      "Iter 1112 | Time 28.6073(28.4309) | Bit/dim 1.1763(1.1957) | Steps 386(387.72) | Grad Norm 3.7055(3.5759) | Total Time 10.00(10.00)\n",
      "validating...\n",
      "Epoch 0159 | Time 8.8364, Epoch Time 218.1941, Bit/dim 1.1664\n"
     ]
    },
    {
     "name": "stdout",
     "output_type": "stream",
     "text": [
      "do _generate\n",
      "do _generate\n",
      "do _generate\n",
      "do _generate\n",
      "do _generate\n",
      "do _generate\n",
      "do _generate\n",
      "do _generate\n"
     ]
    },
    {
     "name": "stderr",
     "output_type": "stream",
     "text": [
      "===> Using batch size 8000. Total 7 iterations/epoch.\n",
      "Iter 1113 | Time 27.5501(28.4044) | Bit/dim 1.1782(1.1952) | Steps 380(387.49) | Grad Norm 4.2046(3.5948) | Total Time 10.00(10.00)\n",
      "Iter 1114 | Time 28.7780(28.4157) | Bit/dim 1.1782(1.1947) | Steps 386(387.44) | Grad Norm 4.1819(3.6124) | Total Time 10.00(10.00)\n",
      "Iter 1115 | Time 27.1948(28.3790) | Bit/dim 1.1902(1.1946) | Steps 386(387.40) | Grad Norm 4.9452(3.6524) | Total Time 10.00(10.00)\n",
      "Iter 1116 | Time 28.6589(28.3874) | Bit/dim 1.1970(1.1946) | Steps 380(387.18) | Grad Norm 5.5269(3.7086) | Total Time 10.00(10.00)\n",
      "Iter 1117 | Time 27.3324(28.3558) | Bit/dim 1.1854(1.1944) | Steps 386(387.14) | Grad Norm 4.2010(3.7234) | Total Time 10.00(10.00)\n",
      "Iter 1118 | Time 29.1485(28.3796) | Bit/dim 1.1660(1.1935) | Steps 392(387.29) | Grad Norm 1.8772(3.6680) | Total Time 10.00(10.00)\n",
      "Iter 1119 | Time 28.5891(28.3858) | Bit/dim 1.1686(1.1928) | Steps 386(387.25) | Grad Norm 3.4671(3.6620) | Total Time 10.00(10.00)\n",
      "validating...\n",
      "Epoch 0160 | Time 9.4782, Epoch Time 219.1221, Bit/dim 1.1837\n"
     ]
    },
    {
     "name": "stdout",
     "output_type": "stream",
     "text": [
      "do _generate\n",
      "do _generate\n",
      "do _generatedo _generate\n",
      "\n",
      "do _generate\n",
      "do _generate\n",
      "do _generate\n",
      "do _generate\n"
     ]
    },
    {
     "name": "stderr",
     "output_type": "stream",
     "text": [
      "===> Using batch size 8000. Total 7 iterations/epoch.\n",
      "Iter 1120 | Time 27.7000(28.3653) | Bit/dim 1.1973(1.1929) | Steps 392(387.39) | Grad Norm 6.1134(3.7355) | Total Time 10.00(10.00)\n",
      "Iter 1121 | Time 27.9660(28.3533) | Bit/dim 1.2075(1.1933) | Steps 380(387.17) | Grad Norm 6.3391(3.8136) | Total Time 10.00(10.00)\n",
      "Iter 1122 | Time 28.2272(28.3495) | Bit/dim 1.1779(1.1929) | Steps 374(386.78) | Grad Norm 3.5071(3.8044) | Total Time 10.00(10.00)\n",
      "Iter 1123 | Time 27.8990(28.3360) | Bit/dim 1.1627(1.1920) | Steps 386(386.75) | Grad Norm 1.5143(3.7357) | Total Time 10.00(10.00)\n",
      "Iter 1124 | Time 29.9277(28.3837) | Bit/dim 1.1803(1.1916) | Steps 386(386.73) | Grad Norm 4.2227(3.7503) | Total Time 10.00(10.00)\n",
      "Iter 1125 | Time 27.5131(28.3576) | Bit/dim 1.1865(1.1915) | Steps 386(386.71) | Grad Norm 5.0044(3.7880) | Total Time 10.00(10.00)\n",
      "Iter 1126 | Time 28.7377(28.3690) | Bit/dim 1.1721(1.1909) | Steps 386(386.69) | Grad Norm 3.4237(3.7770) | Total Time 10.00(10.00)\n",
      "validating...\n",
      "Epoch 0161 | Time 9.3197, Epoch Time 219.5328, Bit/dim 1.1421\n"
     ]
    },
    {
     "name": "stdout",
     "output_type": "stream",
     "text": [
      "do _generate\n",
      "do _generate\n",
      "do _generate\n",
      "do _generate\n",
      "do _generate\n",
      "do _generate\n",
      "do _generate\n",
      "do _generate\n"
     ]
    },
    {
     "name": "stderr",
     "output_type": "stream",
     "text": [
      "===> Using batch size 8000. Total 7 iterations/epoch.\n",
      "Iter 1127 | Time 27.6879(28.3486) | Bit/dim 1.1504(1.1897) | Steps 392(386.85) | Grad Norm 0.8650(3.6897) | Total Time 10.00(10.00)\n",
      "Iter 1128 | Time 28.5004(28.3531) | Bit/dim 1.1699(1.1891) | Steps 386(386.82) | Grad Norm 2.0540(3.6406) | Total Time 10.00(10.00)\n",
      "Iter 1129 | Time 28.2153(28.3490) | Bit/dim 1.1763(1.1887) | Steps 386(386.80) | Grad Norm 4.8559(3.6771) | Total Time 10.00(10.00)\n",
      "Iter 1130 | Time 28.5960(28.3564) | Bit/dim 1.2158(1.1895) | Steps 398(387.13) | Grad Norm 6.4079(3.7590) | Total Time 10.00(10.00)\n",
      "Iter 1131 | Time 28.3453(28.3561) | Bit/dim 1.1845(1.1894) | Steps 386(387.10) | Grad Norm 4.1787(3.7716) | Total Time 10.00(10.00)\n",
      "Iter 1132 | Time 27.7483(28.3379) | Bit/dim 1.1604(1.1885) | Steps 386(387.06) | Grad Norm 2.4532(3.7320) | Total Time 10.00(10.00)\n",
      "Iter 1133 | Time 28.8240(28.3524) | Bit/dim 1.2125(1.1892) | Steps 404(387.57) | Grad Norm 6.8488(3.8255) | Total Time 10.00(10.00)\n",
      "validating...\n",
      "Epoch 0162 | Time 8.5587, Epoch Time 218.9352, Bit/dim 1.2000\n"
     ]
    },
    {
     "name": "stdout",
     "output_type": "stream",
     "text": [
      "do _generate\n",
      "do _generate\n",
      "do _generate\n",
      "do _generate\n",
      "do _generate\n",
      "do _generate\n",
      "do _generate\n",
      "do _generate\n"
     ]
    },
    {
     "name": "stderr",
     "output_type": "stream",
     "text": [
      "===> Using batch size 8000. Total 7 iterations/epoch.\n",
      "Iter 1134 | Time 28.2239(28.3486) | Bit/dim 1.2155(1.1900) | Steps 380(387.35) | Grad Norm 6.8023(3.9148) | Total Time 10.00(10.00)\n",
      "Iter 1135 | Time 27.4867(28.3227) | Bit/dim 1.1896(1.1900) | Steps 386(387.31) | Grad Norm 3.3939(3.8992) | Total Time 10.00(10.00)\n",
      "Iter 1136 | Time 27.3941(28.2949) | Bit/dim 1.1768(1.1896) | Steps 380(387.09) | Grad Norm 2.7515(3.8648) | Total Time 10.00(10.00)\n",
      "Iter 1137 | Time 28.2441(28.2933) | Bit/dim 1.1970(1.1898) | Steps 386(387.05) | Grad Norm 4.4434(3.8821) | Total Time 10.00(10.00)\n",
      "Iter 1138 | Time 27.2744(28.2628) | Bit/dim 1.1601(1.1889) | Steps 380(386.84) | Grad Norm 1.2646(3.8036) | Total Time 10.00(10.00)\n",
      "Iter 1139 | Time 28.0507(28.2564) | Bit/dim 1.1811(1.1887) | Steps 392(387.00) | Grad Norm 3.6812(3.7999) | Total Time 10.00(10.00)\n",
      "Iter 1140 | Time 28.7490(28.2712) | Bit/dim 1.1861(1.1886) | Steps 386(386.97) | Grad Norm 4.2659(3.8139) | Total Time 10.00(10.00)\n",
      "validating...\n",
      "Epoch 0163 | Time 8.9605, Epoch Time 216.7239, Bit/dim 1.1448\n"
     ]
    },
    {
     "name": "stdout",
     "output_type": "stream",
     "text": [
      "do _generate\n",
      "do _generate\n",
      "do _generate\n",
      "do _generate\n",
      "do _generate\n",
      "do _generate\n",
      "do _generate\n",
      "do _generate\n"
     ]
    },
    {
     "name": "stderr",
     "output_type": "stream",
     "text": [
      "===> Using batch size 8000. Total 7 iterations/epoch.\n",
      "Iter 1141 | Time 27.2142(28.2395) | Bit/dim 1.1574(1.1877) | Steps 374(386.58) | Grad Norm 1.5437(3.7458) | Total Time 10.00(10.00)\n",
      "Iter 1142 | Time 27.2273(28.2091) | Bit/dim 1.1684(1.1871) | Steps 386(386.56) | Grad Norm 2.7957(3.7173) | Total Time 10.00(10.00)\n",
      "Iter 1143 | Time 29.3556(28.2435) | Bit/dim 1.1822(1.1870) | Steps 386(386.54) | Grad Norm 4.7631(3.7487) | Total Time 10.00(10.00)\n",
      "Iter 1144 | Time 29.1035(28.2693) | Bit/dim 1.1835(1.1869) | Steps 404(387.07) | Grad Norm 3.9575(3.7549) | Total Time 10.00(10.00)\n",
      "Iter 1145 | Time 28.6056(28.2794) | Bit/dim 1.1570(1.1860) | Steps 392(387.22) | Grad Norm 0.9028(3.6694) | Total Time 10.00(10.00)\n",
      "Iter 1146 | Time 29.6518(28.3206) | Bit/dim 1.1739(1.1856) | Steps 386(387.18) | Grad Norm 4.3862(3.6909) | Total Time 10.00(10.00)\n",
      "Iter 1147 | Time 30.2605(28.3788) | Bit/dim 1.2025(1.1861) | Steps 398(387.50) | Grad Norm 6.3433(3.7705) | Total Time 10.00(10.00)\n",
      "validating...\n",
      "Epoch 0164 | Time 8.9351, Epoch Time 222.4022, Bit/dim 1.1649\n"
     ]
    },
    {
     "name": "stdout",
     "output_type": "stream",
     "text": [
      "do _generate\n",
      "do _generate\n",
      "do _generate\n",
      "do _generate\n",
      "do _generate\n",
      "do _generate\n",
      "do _generate\n",
      "do _generate\n"
     ]
    },
    {
     "name": "stderr",
     "output_type": "stream",
     "text": [
      "===> Using batch size 8000. Total 7 iterations/epoch.\n",
      "Iter 1148 | Time 27.9222(28.3651) | Bit/dim 1.1808(1.1859) | Steps 386(387.46) | Grad Norm 4.2791(3.7857) | Total Time 10.00(10.00)\n",
      "Iter 1149 | Time 29.9946(28.4140) | Bit/dim 1.1667(1.1854) | Steps 392(387.59) | Grad Norm 1.4674(3.7162) | Total Time 10.00(10.00)\n",
      "Iter 1150 | Time 28.3724(28.4127) | Bit/dim 1.1750(1.1851) | Steps 398(387.91) | Grad Norm 4.0034(3.7248) | Total Time 10.00(10.00)\n",
      "Iter 1151 | Time 30.2744(28.4686) | Bit/dim 1.1735(1.1847) | Steps 386(387.85) | Grad Norm 3.9070(3.7303) | Total Time 10.00(10.00)\n",
      "Iter 1152 | Time 28.4797(28.4689) | Bit/dim 1.1572(1.1839) | Steps 398(388.15) | Grad Norm 2.0716(3.6805) | Total Time 10.00(10.00)\n",
      "Iter 1153 | Time 27.1882(28.4305) | Bit/dim 1.1674(1.1834) | Steps 386(388.09) | Grad Norm 2.3295(3.6400) | Total Time 10.00(10.00)\n",
      "Iter 1154 | Time 29.1317(28.4515) | Bit/dim 1.1612(1.1827) | Steps 386(388.03) | Grad Norm 3.6523(3.6403) | Total Time 10.00(10.00)\n",
      "validating...\n",
      "Epoch 0165 | Time 9.4959, Epoch Time 223.0637, Bit/dim 1.1633\n"
     ]
    },
    {
     "name": "stdout",
     "output_type": "stream",
     "text": [
      "do _generate\n",
      "do _generate\n",
      "do _generate\n",
      "do _generate\n",
      "do _generate\n",
      "do _generate\n",
      "do _generate\n",
      "do _generate\n"
     ]
    },
    {
     "name": "stderr",
     "output_type": "stream",
     "text": [
      "===> Using batch size 8000. Total 7 iterations/epoch.\n",
      "Iter 1155 | Time 29.1717(28.4731) | Bit/dim 1.1773(1.1826) | Steps 398(388.33) | Grad Norm 5.0690(3.6832) | Total Time 10.00(10.00)\n",
      "Iter 1156 | Time 29.5950(28.5068) | Bit/dim 1.1759(1.1824) | Steps 386(388.26) | Grad Norm 4.7945(3.7165) | Total Time 10.00(10.00)\n",
      "Iter 1157 | Time 27.4339(28.4746) | Bit/dim 1.1664(1.1819) | Steps 392(388.37) | Grad Norm 2.9150(3.6925) | Total Time 10.00(10.00)\n",
      "Iter 1158 | Time 28.9177(28.4879) | Bit/dim 1.1487(1.1809) | Steps 392(388.48) | Grad Norm 1.0478(3.6131) | Total Time 10.00(10.00)\n",
      "Iter 1159 | Time 29.7171(28.5248) | Bit/dim 1.1588(1.1802) | Steps 386(388.40) | Grad Norm 2.9658(3.5937) | Total Time 10.00(10.00)\n",
      "Iter 1160 | Time 28.0637(28.5109) | Bit/dim 1.1814(1.1803) | Steps 398(388.69) | Grad Norm 6.0629(3.6678) | Total Time 10.00(10.00)\n",
      "Iter 1161 | Time 29.3179(28.5351) | Bit/dim 1.2369(1.1820) | Steps 386(388.61) | Grad Norm 8.5744(3.8150) | Total Time 10.00(10.00)\n",
      "validating...\n",
      "Epoch 0166 | Time 9.3202, Epoch Time 223.7567, Bit/dim 1.2251\n"
     ]
    },
    {
     "name": "stdout",
     "output_type": "stream",
     "text": [
      "do _generate\n",
      "do _generate\n",
      "do _generate\n",
      "do _generate\n",
      "do _generate\n",
      "do _generate\n",
      "do _generate\n",
      "do _generate\n"
     ]
    },
    {
     "name": "stderr",
     "output_type": "stream",
     "text": [
      "===> Using batch size 8000. Total 7 iterations/epoch.\n",
      "Iter 1162 | Time 31.1941(28.6149) | Bit/dim 1.2371(1.1836) | Steps 416(389.43) | Grad Norm 6.0189(3.8811) | Total Time 10.00(10.00)\n",
      "Iter 1163 | Time 28.0289(28.5973) | Bit/dim 1.1937(1.1839) | Steps 392(389.51) | Grad Norm 2.6187(3.8432) | Total Time 10.00(10.00)\n",
      "Iter 1164 | Time 27.8633(28.5753) | Bit/dim 1.2261(1.1852) | Steps 380(389.22) | Grad Norm 4.4753(3.8622) | Total Time 10.00(10.00)\n",
      "Iter 1165 | Time 28.6637(28.5780) | Bit/dim 1.1885(1.1853) | Steps 386(389.13) | Grad Norm 2.5415(3.8226) | Total Time 10.00(10.00)\n",
      "Iter 1166 | Time 28.0487(28.5621) | Bit/dim 1.2031(1.1858) | Steps 398(389.39) | Grad Norm 3.6548(3.8176) | Total Time 10.00(10.00)\n",
      "Iter 1167 | Time 28.3576(28.5559) | Bit/dim 1.1817(1.1857) | Steps 398(389.65) | Grad Norm 1.7796(3.7564) | Total Time 10.00(10.00)\n",
      "Iter 1168 | Time 28.8991(28.5662) | Bit/dim 1.1992(1.1861) | Steps 386(389.54) | Grad Norm 3.1042(3.7368) | Total Time 10.00(10.00)\n",
      "validating...\n",
      "Epoch 0167 | Time 9.3551, Epoch Time 222.6913, Bit/dim 1.1568\n"
     ]
    },
    {
     "name": "stdout",
     "output_type": "stream",
     "text": [
      "do _generate\n",
      "do _generate\n",
      "do _generate\n",
      "do _generate\n",
      "do _generate\n",
      "do _generate\n",
      "do _generate\n",
      "do _generate\n"
     ]
    },
    {
     "name": "stderr",
     "output_type": "stream",
     "text": [
      "===> Using batch size 8000. Total 7 iterations/epoch.\n",
      "Iter 1169 | Time 29.5730(28.5964) | Bit/dim 1.1699(1.1856) | Steps 398(389.80) | Grad Norm 0.9471(3.6532) | Total Time 10.00(10.00)\n",
      "Iter 1170 | Time 27.8421(28.5738) | Bit/dim 1.1943(1.1859) | Steps 398(390.04) | Grad Norm 2.7248(3.6253) | Total Time 10.00(10.00)\n",
      "Iter 1171 | Time 28.2973(28.5655) | Bit/dim 1.1730(1.1855) | Steps 392(390.10) | Grad Norm 1.0914(3.5493) | Total Time 10.00(10.00)\n",
      "Iter 1172 | Time 28.2959(28.5574) | Bit/dim 1.1847(1.1855) | Steps 386(389.98) | Grad Norm 3.2263(3.5396) | Total Time 10.00(10.00)\n",
      "Iter 1173 | Time 27.3316(28.5206) | Bit/dim 1.1678(1.1849) | Steps 392(390.04) | Grad Norm 2.3051(3.5026) | Total Time 10.00(10.00)\n",
      "Iter 1174 | Time 27.9223(28.5027) | Bit/dim 1.1597(1.1842) | Steps 392(390.10) | Grad Norm 1.4772(3.4418) | Total Time 10.00(10.00)\n",
      "Iter 1175 | Time 28.4782(28.5020) | Bit/dim 1.1645(1.1836) | Steps 392(390.15) | Grad Norm 3.1403(3.4328) | Total Time 10.00(10.00)\n",
      "validating...\n",
      "Epoch 0168 | Time 8.9756, Epoch Time 218.8642, Bit/dim 1.1567\n"
     ]
    },
    {
     "name": "stdout",
     "output_type": "stream",
     "text": [
      "do _generate\n",
      "do _generate\n",
      "do _generate\n",
      "do _generate\n",
      "do _generate\n",
      "do _generate\n",
      "do _generate\n",
      "do _generate\n"
     ]
    },
    {
     "name": "stderr",
     "output_type": "stream",
     "text": [
      "===> Using batch size 8000. Total 7 iterations/epoch.\n",
      "Iter 1176 | Time 27.5112(28.4722) | Bit/dim 1.1693(1.1832) | Steps 398(390.39) | Grad Norm 3.3318(3.4297) | Total Time 10.00(10.00)\n",
      "Iter 1177 | Time 28.7645(28.4810) | Bit/dim 1.1660(1.1826) | Steps 392(390.44) | Grad Norm 2.8907(3.4136) | Total Time 10.00(10.00)\n",
      "Iter 1178 | Time 30.5326(28.5426) | Bit/dim 1.1595(1.1819) | Steps 404(390.84) | Grad Norm 2.0891(3.3738) | Total Time 10.00(10.00)\n",
      "Iter 1179 | Time 27.9326(28.5243) | Bit/dim 1.1572(1.1812) | Steps 398(391.06) | Grad Norm 1.4448(3.3159) | Total Time 10.00(10.00)\n",
      "Iter 1180 | Time 28.8552(28.5342) | Bit/dim 1.1680(1.1808) | Steps 392(391.09) | Grad Norm 3.6325(3.3254) | Total Time 10.00(10.00)\n",
      "Iter 1181 | Time 28.7815(28.5416) | Bit/dim 1.2109(1.1817) | Steps 416(391.83) | Grad Norm 7.6109(3.4540) | Total Time 10.00(10.00)\n",
      "Iter 1182 | Time 29.3344(28.5654) | Bit/dim 1.2757(1.1845) | Steps 386(391.66) | Grad Norm 10.4997(3.6654) | Total Time 10.00(10.00)\n",
      "validating...\n",
      "Epoch 0169 | Time 9.2353, Epoch Time 223.2500, Bit/dim 1.2629\n"
     ]
    },
    {
     "name": "stdout",
     "output_type": "stream",
     "text": [
      "do _generate\n",
      "do _generate\n",
      "do _generate\n",
      "do _generate\n",
      "do _generate\n",
      "do _generate\n",
      "do _generate\n",
      "do _generate\n"
     ]
    },
    {
     "name": "stderr",
     "output_type": "stream",
     "text": [
      "===> Using batch size 8000. Total 7 iterations/epoch.\n",
      "Iter 1183 | Time 30.0878(28.6111) | Bit/dim 1.2818(1.1874) | Steps 410(392.21) | Grad Norm 6.2654(3.7434) | Total Time 10.00(10.00)\n",
      "Iter 1184 | Time 27.7006(28.5837) | Bit/dim 1.2451(1.1892) | Steps 392(392.20) | Grad Norm 3.5062(3.7363) | Total Time 10.00(10.00)\n",
      "Iter 1185 | Time 28.5070(28.5814) | Bit/dim 1.2464(1.1909) | Steps 380(391.84) | Grad Norm 3.9728(3.7434) | Total Time 10.00(10.00)\n",
      "Iter 1186 | Time 29.2997(28.6030) | Bit/dim 1.2259(1.1919) | Steps 386(391.66) | Grad Norm 3.5972(3.7390) | Total Time 10.00(10.00)\n",
      "Iter 1187 | Time 28.9779(28.6142) | Bit/dim 1.2127(1.1926) | Steps 398(391.85) | Grad Norm 2.0773(3.6891) | Total Time 10.00(10.00)\n",
      "Iter 1188 | Time 28.1878(28.6014) | Bit/dim 1.2551(1.1944) | Steps 404(392.22) | Grad Norm 4.8125(3.7228) | Total Time 10.00(10.00)\n",
      "Iter 1189 | Time 28.6898(28.6041) | Bit/dim 1.2038(1.1947) | Steps 392(392.21) | Grad Norm 2.3780(3.6825) | Total Time 10.00(10.00)\n",
      "validating...\n",
      "Epoch 0170 | Time 9.0169, Epoch Time 222.5239, Bit/dim 1.2054\n"
     ]
    },
    {
     "name": "stdout",
     "output_type": "stream",
     "text": [
      "do _generate\n",
      "do _generate\n",
      "do _generate\n",
      "do _generate\n",
      "do _generate\n",
      "do _generate\n",
      "do _generate\n",
      "do _generate\n"
     ]
    },
    {
     "name": "stderr",
     "output_type": "stream",
     "text": [
      "===> Using batch size 8000. Total 7 iterations/epoch.\n",
      "Iter 1190 | Time 29.2109(28.6223) | Bit/dim 1.2194(1.1955) | Steps 392(392.20) | Grad Norm 2.7436(3.6543) | Total Time 10.00(10.00)\n",
      "Iter 1191 | Time 27.7413(28.5959) | Bit/dim 1.1980(1.1955) | Steps 392(392.20) | Grad Norm 1.7172(3.5962) | Total Time 10.00(10.00)\n",
      "Iter 1192 | Time 27.3785(28.5593) | Bit/dim 1.2149(1.1961) | Steps 386(392.01) | Grad Norm 2.6328(3.5673) | Total Time 10.00(10.00)\n",
      "Iter 1193 | Time 29.2127(28.5789) | Bit/dim 1.1844(1.1958) | Steps 392(392.01) | Grad Norm 1.4728(3.5045) | Total Time 10.00(10.00)\n",
      "Iter 1194 | Time 28.9826(28.5911) | Bit/dim 1.2137(1.1963) | Steps 386(391.83) | Grad Norm 4.6043(3.5375) | Total Time 10.00(10.00)\n",
      "Iter 1195 | Time 27.1465(28.5477) | Bit/dim 1.1950(1.1963) | Steps 386(391.66) | Grad Norm 3.8209(3.5460) | Total Time 10.00(10.00)\n",
      "Iter 1196 | Time 26.9579(28.5000) | Bit/dim 1.1818(1.1958) | Steps 386(391.49) | Grad Norm 2.5317(3.5155) | Total Time 10.00(10.00)\n",
      "validating...\n",
      "Epoch 0171 | Time 9.0905, Epoch Time 217.7009, Bit/dim 1.1658\n"
     ]
    },
    {
     "name": "stdout",
     "output_type": "stream",
     "text": [
      "do _generate\n",
      "do _generate\n",
      "do _generate\n",
      "do _generate\n",
      "do _generate\n",
      "do _generate\n",
      "do _generate\n",
      "do _generate\n"
     ]
    },
    {
     "name": "stderr",
     "output_type": "stream",
     "text": [
      "===> Using batch size 8000. Total 7 iterations/epoch.\n",
      "Iter 1197 | Time 28.6798(28.5054) | Bit/dim 1.1774(1.1953) | Steps 392(391.50) | Grad Norm 2.5503(3.4866) | Total Time 10.00(10.00)\n",
      "Iter 1198 | Time 29.7305(28.5422) | Bit/dim 1.1814(1.1949) | Steps 404(391.88) | Grad Norm 2.5168(3.4575) | Total Time 10.00(10.00)\n",
      "Iter 1199 | Time 27.8350(28.5210) | Bit/dim 1.1750(1.1943) | Steps 392(391.88) | Grad Norm 1.6962(3.4046) | Total Time 10.00(10.00)\n",
      "Iter 1200 | Time 28.0405(28.5065) | Bit/dim 1.1657(1.1934) | Steps 392(391.88) | Grad Norm 2.0894(3.3652) | Total Time 10.00(10.00)\n",
      "Iter 1201 | Time 29.6564(28.5410) | Bit/dim 1.1766(1.1929) | Steps 404(392.25) | Grad Norm 2.5490(3.3407) | Total Time 10.00(10.00)\n",
      "Iter 1202 | Time 29.6647(28.5747) | Bit/dim 1.1636(1.1920) | Steps 398(392.42) | Grad Norm 2.2535(3.3081) | Total Time 10.00(10.00)\n",
      "Iter 1203 | Time 28.5607(28.5743) | Bit/dim 1.1687(1.1913) | Steps 386(392.23) | Grad Norm 3.6168(3.3174) | Total Time 10.00(10.00)\n",
      "validating...\n",
      "Epoch 0172 | Time 9.1876, Epoch Time 223.4404, Bit/dim 1.1799\n"
     ]
    },
    {
     "name": "stdout",
     "output_type": "stream",
     "text": [
      "do _generate\n",
      "do _generate\n",
      "do _generate\n",
      "do _generate\n",
      "do _generate\n",
      "do _generate\n",
      "do _generate\n",
      "do _generate\n"
     ]
    },
    {
     "name": "stderr",
     "output_type": "stream",
     "text": [
      "===> Using batch size 8000. Total 7 iterations/epoch.\n",
      "Iter 1204 | Time 28.9247(28.5848) | Bit/dim 1.1904(1.1913) | Steps 392(392.22) | Grad Norm 6.2370(3.4049) | Total Time 10.00(10.00)\n",
      "Iter 1205 | Time 29.7613(28.6201) | Bit/dim 1.2583(1.1933) | Steps 416(392.93) | Grad Norm 8.3078(3.5520) | Total Time 10.00(10.00)\n",
      "Iter 1206 | Time 29.5421(28.6478) | Bit/dim 1.1950(1.1934) | Steps 392(392.91) | Grad Norm 4.0795(3.5678) | Total Time 10.00(10.00)\n",
      "Iter 1207 | Time 28.4114(28.6407) | Bit/dim 1.1908(1.1933) | Steps 386(392.70) | Grad Norm 4.2942(3.5896) | Total Time 10.00(10.00)\n",
      "Iter 1208 | Time 28.7628(28.6444) | Bit/dim 1.2260(1.1943) | Steps 398(392.86) | Grad Norm 6.6958(3.6828) | Total Time 10.00(10.00)\n",
      "Iter 1209 | Time 28.7531(28.6476) | Bit/dim 1.1702(1.1935) | Steps 392(392.83) | Grad Norm 2.6698(3.6524) | Total Time 10.00(10.00)\n",
      "Iter 1210 | Time 28.8724(28.6544) | Bit/dim 1.1821(1.1932) | Steps 386(392.63) | Grad Norm 3.0641(3.6348) | Total Time 10.00(10.00)\n",
      "validating...\n",
      "Epoch 0173 | Time 9.2365, Epoch Time 224.7736, Bit/dim 1.1801\n"
     ]
    },
    {
     "name": "stdout",
     "output_type": "stream",
     "text": [
      "do _generate\n",
      "do _generate\n",
      "do _generate\n",
      "do _generate\n",
      "do _generatedo _generate\n",
      "\n",
      "do _generate\n",
      "do _generate\n"
     ]
    },
    {
     "name": "stderr",
     "output_type": "stream",
     "text": [
      "===> Using batch size 8000. Total 7 iterations/epoch.\n",
      "Iter 1211 | Time 27.6135(28.6231) | Bit/dim 1.1914(1.1932) | Steps 392(392.61) | Grad Norm 4.8484(3.6712) | Total Time 10.00(10.00)\n",
      "Iter 1212 | Time 29.0037(28.6346) | Bit/dim 1.1632(1.1923) | Steps 392(392.59) | Grad Norm 1.9362(3.6191) | Total Time 10.00(10.00)\n",
      "Iter 1213 | Time 28.8654(28.6415) | Bit/dim 1.1738(1.1917) | Steps 386(392.39) | Grad Norm 2.7601(3.5934) | Total Time 10.00(10.00)\n",
      "Iter 1214 | Time 27.5215(28.6079) | Bit/dim 1.1742(1.1912) | Steps 380(392.02) | Grad Norm 3.2896(3.5843) | Total Time 10.00(10.00)\n",
      "Iter 1215 | Time 29.5558(28.6363) | Bit/dim 1.1550(1.1901) | Steps 386(391.84) | Grad Norm 0.7944(3.5006) | Total Time 10.00(10.00)\n",
      "Iter 1216 | Time 27.9548(28.6159) | Bit/dim 1.1722(1.1896) | Steps 386(391.67) | Grad Norm 4.3354(3.5256) | Total Time 10.00(10.00)\n",
      "Iter 1217 | Time 27.5267(28.5832) | Bit/dim 1.2063(1.1901) | Steps 392(391.68) | Grad Norm 6.2854(3.6084) | Total Time 10.00(10.00)\n",
      "validating...\n",
      "Epoch 0174 | Time 8.9589, Epoch Time 219.2316, Bit/dim 1.1585\n"
     ]
    },
    {
     "name": "stdout",
     "output_type": "stream",
     "text": [
      "do _generate\n",
      "do _generate\n",
      "do _generate\n",
      "do _generate\n",
      "do _generate\n",
      "do _generate\n",
      "do _generate\n",
      "do _generate\n"
     ]
    },
    {
     "name": "stderr",
     "output_type": "stream",
     "text": [
      "===> Using batch size 8000. Total 7 iterations/epoch.\n",
      "Iter 1218 | Time 28.5542(28.5823) | Bit/dim 1.1723(1.1895) | Steps 386(391.50) | Grad Norm 4.2148(3.6266) | Total Time 10.00(10.00)\n",
      "Iter 1219 | Time 29.1046(28.5980) | Bit/dim 1.1614(1.1887) | Steps 392(391.52) | Grad Norm 2.0083(3.5780) | Total Time 10.00(10.00)\n",
      "Iter 1220 | Time 26.9771(28.5494) | Bit/dim 1.1670(1.1880) | Steps 386(391.35) | Grad Norm 3.0642(3.5626) | Total Time 10.00(10.00)\n",
      "Iter 1221 | Time 29.8636(28.5888) | Bit/dim 1.1602(1.1872) | Steps 386(391.19) | Grad Norm 2.5319(3.5317) | Total Time 10.00(10.00)\n",
      "Iter 1222 | Time 29.2023(28.6072) | Bit/dim 1.1531(1.1862) | Steps 398(391.40) | Grad Norm 1.8233(3.4805) | Total Time 10.00(10.00)\n",
      "Iter 1223 | Time 27.4198(28.5716) | Bit/dim 1.1529(1.1852) | Steps 386(391.24) | Grad Norm 2.4091(3.4483) | Total Time 10.00(10.00)\n",
      "Iter 1224 | Time 28.2400(28.5616) | Bit/dim 1.1702(1.1847) | Steps 386(391.08) | Grad Norm 4.1696(3.4700) | Total Time 10.00(10.00)\n",
      "validating...\n",
      "Epoch 0175 | Time 9.2257, Epoch Time 220.9830, Bit/dim 1.1696\n"
     ]
    },
    {
     "name": "stdout",
     "output_type": "stream",
     "text": [
      "do _generate\n",
      "do _generate\n",
      "do _generate\n",
      "do _generate\n",
      "do _generate\n",
      "do _generate\n",
      "do _generate\n",
      "do _generate\n"
     ]
    },
    {
     "name": "stderr",
     "output_type": "stream",
     "text": [
      "===> Using batch size 8000. Total 7 iterations/epoch.\n",
      "Iter 1225 | Time 27.5950(28.5326) | Bit/dim 1.1814(1.1846) | Steps 398(391.29) | Grad Norm 5.6014(3.5339) | Total Time 10.00(10.00)\n",
      "Iter 1226 | Time 28.4417(28.5299) | Bit/dim 1.1749(1.1843) | Steps 386(391.13) | Grad Norm 4.7295(3.5698) | Total Time 10.00(10.00)\n",
      "Iter 1227 | Time 26.5090(28.4693) | Bit/dim 1.1587(1.1836) | Steps 380(390.79) | Grad Norm 2.4491(3.5361) | Total Time 10.00(10.00)\n",
      "Iter 1228 | Time 29.4553(28.4989) | Bit/dim 1.1471(1.1825) | Steps 392(390.83) | Grad Norm 1.1428(3.4643) | Total Time 10.00(10.00)\n",
      "Iter 1229 | Time 28.0571(28.4856) | Bit/dim 1.1630(1.1819) | Steps 386(390.69) | Grad Norm 3.9446(3.4787) | Total Time 10.00(10.00)\n",
      "Iter 1230 | Time 29.7430(28.5233) | Bit/dim 1.2173(1.1829) | Steps 410(391.26) | Grad Norm 7.0047(3.5845) | Total Time 10.00(10.00)\n",
      "Iter 1231 | Time 27.7121(28.4990) | Bit/dim 1.1927(1.1832) | Steps 380(390.93) | Grad Norm 6.1358(3.6611) | Total Time 10.00(10.00)\n",
      "validating...\n",
      "Epoch 0176 | Time 9.1842, Epoch Time 219.4104, Bit/dim 1.1498\n"
     ]
    },
    {
     "name": "stdout",
     "output_type": "stream",
     "text": [
      "do _generate\n",
      "do _generate\n",
      "do _generate\n",
      "do _generate\n",
      "do _generate\n",
      "do _generate\n",
      "do _generate\n",
      "do _generate\n"
     ]
    },
    {
     "name": "stderr",
     "output_type": "stream",
     "text": [
      "===> Using batch size 8000. Total 7 iterations/epoch.\n",
      "Iter 1232 | Time 28.0987(28.4870) | Bit/dim 1.1677(1.1828) | Steps 386(390.78) | Grad Norm 2.5303(3.6271) | Total Time 10.00(10.00)\n",
      "Iter 1233 | Time 27.1185(28.4459) | Bit/dim 1.1685(1.1823) | Steps 380(390.46) | Grad Norm 2.4297(3.5912) | Total Time 10.00(10.00)\n",
      "Iter 1234 | Time 28.0002(28.4326) | Bit/dim 1.1716(1.1820) | Steps 386(390.32) | Grad Norm 3.9350(3.6015) | Total Time 10.00(10.00)\n",
      "Iter 1235 | Time 28.3922(28.4313) | Bit/dim 1.1588(1.1813) | Steps 398(390.55) | Grad Norm 2.8857(3.5801) | Total Time 10.00(10.00)\n",
      "Iter 1236 | Time 27.4626(28.4023) | Bit/dim 1.1587(1.1806) | Steps 380(390.24) | Grad Norm 2.3309(3.5426) | Total Time 10.00(10.00)\n",
      "Iter 1237 | Time 27.9036(28.3873) | Bit/dim 1.1651(1.1802) | Steps 386(390.11) | Grad Norm 3.9031(3.5534) | Total Time 10.00(10.00)\n",
      "Iter 1238 | Time 27.4662(28.3597) | Bit/dim 1.1921(1.1805) | Steps 392(390.17) | Grad Norm 6.0438(3.6281) | Total Time 10.00(10.00)\n",
      "validating...\n",
      "Epoch 0177 | Time 8.8496, Epoch Time 215.7284, Bit/dim 1.1682\n"
     ]
    },
    {
     "name": "stdout",
     "output_type": "stream",
     "text": [
      "do _generate\n",
      "do _generate\n",
      "do _generate\n",
      "do _generate\n",
      "do _generate\n",
      "do _generate\n",
      "do _generate\n",
      "do _generate\n"
     ]
    },
    {
     "name": "stderr",
     "output_type": "stream",
     "text": [
      "===> Using batch size 8000. Total 7 iterations/epoch.\n",
      "Iter 1239 | Time 29.7293(28.4008) | Bit/dim 1.1869(1.1807) | Steps 386(390.04) | Grad Norm 4.5534(3.6559) | Total Time 10.00(10.00)\n",
      "Iter 1240 | Time 29.2171(28.4253) | Bit/dim 1.1543(1.1799) | Steps 386(389.92) | Grad Norm 1.6853(3.5968) | Total Time 10.00(10.00)\n",
      "Iter 1241 | Time 27.1014(28.3856) | Bit/dim 1.1785(1.1799) | Steps 386(389.80) | Grad Norm 4.7662(3.6318) | Total Time 10.00(10.00)\n",
      "Iter 1242 | Time 28.5276(28.3898) | Bit/dim 1.1838(1.1800) | Steps 386(389.69) | Grad Norm 5.8233(3.6976) | Total Time 10.00(10.00)\n",
      "Iter 1243 | Time 27.4980(28.3631) | Bit/dim 1.2010(1.1806) | Steps 392(389.76) | Grad Norm 5.4493(3.7501) | Total Time 10.00(10.00)\n",
      "Iter 1244 | Time 30.7790(28.4355) | Bit/dim 1.1615(1.1801) | Steps 398(390.00) | Grad Norm 1.5350(3.6837) | Total Time 10.00(10.00)\n",
      "Iter 1245 | Time 30.1817(28.4879) | Bit/dim 1.1770(1.1800) | Steps 386(389.88) | Grad Norm 4.4054(3.7053) | Total Time 10.00(10.00)\n",
      "validating...\n",
      "Epoch 0178 | Time 9.1524, Epoch Time 224.2137, Bit/dim 1.1770\n"
     ]
    },
    {
     "name": "stdout",
     "output_type": "stream",
     "text": [
      "do _generate\n",
      "do _generate\n",
      "do _generate\n",
      "do _generate\n",
      "do _generate\n",
      "do _generate\n",
      "do _generate\n",
      "do _generate\n"
     ]
    },
    {
     "name": "stderr",
     "output_type": "stream",
     "text": [
      "===> Using batch size 8000. Total 7 iterations/epoch.\n",
      "Iter 1246 | Time 28.3853(28.4848) | Bit/dim 1.1920(1.1803) | Steps 398(390.13) | Grad Norm 4.5870(3.7318) | Total Time 10.00(10.00)\n",
      "Iter 1247 | Time 28.5572(28.4870) | Bit/dim 1.1467(1.1793) | Steps 392(390.18) | Grad Norm 0.9136(3.6472) | Total Time 10.00(10.00)\n",
      "Iter 1248 | Time 28.6667(28.4924) | Bit/dim 1.1809(1.1794) | Steps 386(390.06) | Grad Norm 3.8376(3.6529) | Total Time 10.00(10.00)\n",
      "Iter 1249 | Time 27.0545(28.4493) | Bit/dim 1.1714(1.1791) | Steps 386(389.94) | Grad Norm 3.8225(3.6580) | Total Time 10.00(10.00)\n",
      "Iter 1250 | Time 30.2975(28.5047) | Bit/dim 1.1540(1.1784) | Steps 392(390.00) | Grad Norm 1.5495(3.5948) | Total Time 10.00(10.00)\n",
      "Iter 1251 | Time 29.5314(28.5355) | Bit/dim 1.1559(1.1777) | Steps 386(389.88) | Grad Norm 2.5831(3.5644) | Total Time 10.00(10.00)\n",
      "Iter 1252 | Time 27.6936(28.5103) | Bit/dim 1.1655(1.1773) | Steps 398(390.12) | Grad Norm 3.8950(3.5743) | Total Time 10.00(10.00)\n",
      "validating...\n",
      "Epoch 0179 | Time 8.7479, Epoch Time 221.2704, Bit/dim 1.1492\n"
     ]
    },
    {
     "name": "stdout",
     "output_type": "stream",
     "text": [
      "do _generate\n",
      "do _generate\n",
      "do _generate\n",
      "do _generate\n",
      "do _generate\n",
      "do _generate\n",
      "do _generatedo _generate\n",
      "\n"
     ]
    },
    {
     "name": "stderr",
     "output_type": "stream",
     "text": [
      "===> Using batch size 8000. Total 7 iterations/epoch.\n",
      "Iter 1253 | Time 29.3489(28.5354) | Bit/dim 1.1662(1.1770) | Steps 386(390.00) | Grad Norm 3.3179(3.5666) | Total Time 10.00(10.00)\n",
      "Iter 1254 | Time 30.6930(28.6001) | Bit/dim 1.1481(1.1761) | Steps 392(390.06) | Grad Norm 0.9334(3.4876) | Total Time 10.00(10.00)\n",
      "Iter 1255 | Time 27.7072(28.5734) | Bit/dim 1.1585(1.1756) | Steps 386(389.94) | Grad Norm 4.0177(3.5036) | Total Time 10.00(10.00)\n",
      "Iter 1256 | Time 28.1351(28.5602) | Bit/dim 1.1937(1.1762) | Steps 386(389.82) | Grad Norm 7.2341(3.6155) | Total Time 10.00(10.00)\n",
      "Iter 1257 | Time 28.4263(28.5562) | Bit/dim 1.2531(1.1785) | Steps 410(390.42) | Grad Norm 6.6377(3.7061) | Total Time 10.00(10.00)\n",
      "Iter 1258 | Time 28.7282(28.5614) | Bit/dim 1.1878(1.1787) | Steps 398(390.65) | Grad Norm 2.1949(3.6608) | Total Time 10.00(10.00)\n",
      "Iter 1259 | Time 29.0271(28.5753) | Bit/dim 1.2311(1.1803) | Steps 386(390.51) | Grad Norm 6.0735(3.7332) | Total Time 10.00(10.00)\n",
      "validating...\n",
      "Epoch 0180 | Time 8.9589, Epoch Time 223.5049, Bit/dim 1.1713\n"
     ]
    },
    {
     "name": "stdout",
     "output_type": "stream",
     "text": [
      "do _generate\n",
      "do _generate\n",
      "do _generate\n",
      "do _generate\n",
      "do _generate\n",
      "do _generate\n",
      "do _generate\n",
      "do _generate\n"
     ]
    },
    {
     "name": "stderr",
     "output_type": "stream",
     "text": [
      "===> Using batch size 8000. Total 7 iterations/epoch.\n",
      "Iter 1260 | Time 29.7401(28.6103) | Bit/dim 1.1831(1.1804) | Steps 386(390.38) | Grad Norm 1.9249(3.6789) | Total Time 10.00(10.00)\n",
      "Iter 1261 | Time 29.1898(28.6277) | Bit/dim 1.2053(1.1811) | Steps 410(390.97) | Grad Norm 5.5388(3.7347) | Total Time 10.00(10.00)\n",
      "Iter 1262 | Time 28.0830(28.6113) | Bit/dim 1.2110(1.1820) | Steps 392(391.00) | Grad Norm 3.9064(3.7399) | Total Time 10.00(10.00)\n",
      "Iter 1263 | Time 28.8437(28.6183) | Bit/dim 1.1894(1.1823) | Steps 392(391.03) | Grad Norm 2.5904(3.7054) | Total Time 10.00(10.00)\n",
      "Iter 1264 | Time 28.0791(28.6021) | Bit/dim 1.1925(1.1826) | Steps 380(390.70) | Grad Norm 4.0580(3.7160) | Total Time 10.00(10.00)\n",
      "Iter 1265 | Time 28.4495(28.5975) | Bit/dim 1.1845(1.1826) | Steps 386(390.55) | Grad Norm 1.8377(3.6596) | Total Time 10.00(10.00)\n",
      "Iter 1266 | Time 29.4228(28.6223) | Bit/dim 1.1821(1.1826) | Steps 386(390.42) | Grad Norm 3.0728(3.6420) | Total Time 10.00(10.00)\n",
      "validating...\n",
      "Epoch 0181 | Time 8.8550, Epoch Time 222.8394, Bit/dim 1.1582\n"
     ]
    },
    {
     "name": "stdout",
     "output_type": "stream",
     "text": [
      "do _generate\n",
      "do _generate\n",
      "do _generate\n",
      "do _generate\n",
      "do _generate\n",
      "do _generate\n",
      "do _generate\n",
      "do _generate\n"
     ]
    },
    {
     "name": "stderr",
     "output_type": "stream",
     "text": [
      "===> Using batch size 8000. Total 7 iterations/epoch.\n",
      "Iter 1267 | Time 27.7926(28.5974) | Bit/dim 1.1651(1.1821) | Steps 386(390.29) | Grad Norm 1.6663(3.5827) | Total Time 10.00(10.00)\n",
      "Iter 1268 | Time 27.1896(28.5552) | Bit/dim 1.1763(1.1819) | Steps 386(390.16) | Grad Norm 2.8356(3.5603) | Total Time 10.00(10.00)\n",
      "Iter 1269 | Time 29.7022(28.5896) | Bit/dim 1.1815(1.1819) | Steps 386(390.03) | Grad Norm 4.8392(3.5987) | Total Time 10.00(10.00)\n",
      "Iter 1270 | Time 27.3576(28.5526) | Bit/dim 1.2045(1.1826) | Steps 392(390.09) | Grad Norm 6.0709(3.6729) | Total Time 10.00(10.00)\n",
      "Iter 1271 | Time 28.4386(28.5492) | Bit/dim 1.1752(1.1823) | Steps 386(389.97) | Grad Norm 3.1539(3.6573) | Total Time 10.00(10.00)\n",
      "Iter 1272 | Time 29.1807(28.5681) | Bit/dim 1.1701(1.1820) | Steps 386(389.85) | Grad Norm 2.9243(3.6353) | Total Time 10.00(10.00)\n",
      "Iter 1273 | Time 27.6365(28.5402) | Bit/dim 1.1817(1.1820) | Steps 398(390.09) | Grad Norm 3.5801(3.6336) | Total Time 10.00(10.00)\n",
      "validating...\n",
      "Epoch 0182 | Time 9.3866, Epoch Time 218.8694, Bit/dim 1.1387\n"
     ]
    },
    {
     "name": "stdout",
     "output_type": "stream",
     "text": [
      "do _generate\n",
      "do _generate\n",
      "do _generate\n",
      "do _generate\n",
      "do _generate\n",
      "do _generate\n",
      "do _generate\n",
      "do _generate\n"
     ]
    },
    {
     "name": "stderr",
     "output_type": "stream",
     "text": [
      "===> Using batch size 8000. Total 7 iterations/epoch.\n",
      "Iter 1274 | Time 30.9341(28.6120) | Bit/dim 1.1537(1.1811) | Steps 398(390.33) | Grad Norm 0.7705(3.5477) | Total Time 10.00(10.00)\n",
      "Iter 1275 | Time 28.8201(28.6183) | Bit/dim 1.1840(1.1812) | Steps 386(390.20) | Grad Norm 5.2994(3.6003) | Total Time 10.00(10.00)\n",
      "Iter 1276 | Time 28.5185(28.6153) | Bit/dim 1.2142(1.1822) | Steps 410(390.80) | Grad Norm 6.3163(3.6818) | Total Time 10.00(10.00)\n",
      "Iter 1277 | Time 28.9116(28.6241) | Bit/dim 1.1567(1.1814) | Steps 386(390.65) | Grad Norm 2.0341(3.6324) | Total Time 10.00(10.00)\n",
      "Iter 1278 | Time 29.1387(28.6396) | Bit/dim 1.1966(1.1819) | Steps 380(390.33) | Grad Norm 5.1288(3.6772) | Total Time 10.00(10.00)\n",
      "Iter 1279 | Time 28.7569(28.6431) | Bit/dim 1.1894(1.1821) | Steps 398(390.56) | Grad Norm 4.3959(3.6988) | Total Time 10.00(10.00)\n",
      "Iter 1280 | Time 27.0866(28.5964) | Bit/dim 1.1657(1.1816) | Steps 392(390.60) | Grad Norm 2.3498(3.6583) | Total Time 10.00(10.00)\n",
      "validating...\n",
      "Epoch 0183 | Time 8.8922, Epoch Time 223.5475, Bit/dim 1.1805\n"
     ]
    },
    {
     "name": "stdout",
     "output_type": "stream",
     "text": [
      "do _generate\n",
      "do _generate\n",
      "do _generate\n",
      "do _generate\n",
      "do _generate\n",
      "do _generate\n",
      "do _generate\n",
      "do _generate\n"
     ]
    },
    {
     "name": "stderr",
     "output_type": "stream",
     "text": [
      "===> Using batch size 8000. Total 7 iterations/epoch.\n",
      "Iter 1281 | Time 28.1292(28.5824) | Bit/dim 1.1991(1.1821) | Steps 386(390.47) | Grad Norm 4.9912(3.6983) | Total Time 10.00(10.00)\n",
      "Iter 1282 | Time 28.2524(28.5725) | Bit/dim 1.1598(1.1815) | Steps 404(390.87) | Grad Norm 2.3563(3.6581) | Total Time 10.00(10.00)\n",
      "Iter 1283 | Time 27.3026(28.5344) | Bit/dim 1.1740(1.1812) | Steps 392(390.91) | Grad Norm 3.2055(3.6445) | Total Time 10.00(10.00)\n",
      "Iter 1284 | Time 28.6183(28.5369) | Bit/dim 1.1624(1.1807) | Steps 392(390.94) | Grad Norm 2.1751(3.6004) | Total Time 10.00(10.00)\n",
      "Iter 1285 | Time 28.8569(28.5465) | Bit/dim 1.1728(1.1804) | Steps 392(390.97) | Grad Norm 2.6110(3.5707) | Total Time 10.00(10.00)\n",
      "Iter 1286 | Time 27.9513(28.5287) | Bit/dim 1.1643(1.1800) | Steps 386(390.82) | Grad Norm 2.0019(3.5237) | Total Time 10.00(10.00)\n",
      "Iter 1287 | Time 29.6341(28.5618) | Bit/dim 1.1575(1.1793) | Steps 392(390.86) | Grad Norm 1.8239(3.4727) | Total Time 10.00(10.00)\n",
      "validating...\n",
      "Epoch 0184 | Time 8.9951, Epoch Time 219.9347, Bit/dim 1.1507\n"
     ]
    },
    {
     "name": "stdout",
     "output_type": "stream",
     "text": [
      "do _generate\n",
      "do _generate\n",
      "do _generate\n",
      "do _generate\n",
      "do _generate\n",
      "do _generate\n",
      "do _generate\n",
      "do _generate\n"
     ]
    },
    {
     "name": "stderr",
     "output_type": "stream",
     "text": [
      "===> Using batch size 8000. Total 7 iterations/epoch.\n",
      "Iter 1288 | Time 28.2304(28.5519) | Bit/dim 1.1630(1.1788) | Steps 386(390.71) | Grad Norm 2.9817(3.4579) | Total Time 10.00(10.00)\n",
      "Iter 1289 | Time 27.1965(28.5112) | Bit/dim 1.1564(1.1781) | Steps 392(390.75) | Grad Norm 1.6901(3.4049) | Total Time 10.00(10.00)\n",
      "Iter 1290 | Time 27.1900(28.4716) | Bit/dim 1.1524(1.1774) | Steps 386(390.61) | Grad Norm 1.7265(3.3545) | Total Time 10.00(10.00)\n",
      "Iter 1291 | Time 28.4780(28.4718) | Bit/dim 1.1466(1.1764) | Steps 392(390.65) | Grad Norm 2.4963(3.3288) | Total Time 10.00(10.00)\n",
      "Iter 1292 | Time 27.7246(28.4494) | Bit/dim 1.1625(1.1760) | Steps 398(390.87) | Grad Norm 3.1783(3.3243) | Total Time 10.00(10.00)\n",
      "Iter 1293 | Time 28.2950(28.4447) | Bit/dim 1.1518(1.1753) | Steps 392(390.90) | Grad Norm 3.1642(3.3195) | Total Time 10.00(10.00)\n",
      "Iter 1294 | Time 27.7508(28.4239) | Bit/dim 1.1492(1.1745) | Steps 398(391.12) | Grad Norm 2.5974(3.2978) | Total Time 10.00(10.00)\n",
      "validating...\n",
      "Epoch 0185 | Time 9.1612, Epoch Time 216.1350, Bit/dim 1.1407\n"
     ]
    },
    {
     "name": "stdout",
     "output_type": "stream",
     "text": [
      "do _generate\n",
      "do _generate\n",
      "do _generate\n",
      "do _generate\n",
      "do _generate\n",
      "do _generate\n",
      "do _generate\n",
      "do _generate\n"
     ]
    },
    {
     "name": "stderr",
     "output_type": "stream",
     "text": [
      "===> Using batch size 8000. Total 7 iterations/epoch.\n",
      "Iter 1295 | Time 28.7037(28.4323) | Bit/dim 1.1560(1.1740) | Steps 392(391.14) | Grad Norm 3.6799(3.3093) | Total Time 10.00(10.00)\n",
      "Iter 1296 | Time 29.5092(28.4646) | Bit/dim 1.1726(1.1739) | Steps 410(391.71) | Grad Norm 5.5068(3.3752) | Total Time 10.00(10.00)\n",
      "Iter 1297 | Time 28.1505(28.4552) | Bit/dim 1.2033(1.1748) | Steps 380(391.36) | Grad Norm 8.1216(3.5176) | Total Time 10.00(10.00)\n",
      "Iter 1298 | Time 29.9383(28.4997) | Bit/dim 1.2403(1.1768) | Steps 422(392.28) | Grad Norm 7.2427(3.6294) | Total Time 10.00(10.00)\n",
      "Iter 1299 | Time 27.6650(28.4746) | Bit/dim 1.1747(1.1767) | Steps 398(392.45) | Grad Norm 1.8388(3.5756) | Total Time 10.00(10.00)\n",
      "Iter 1300 | Time 31.0610(28.5522) | Bit/dim 1.2178(1.1779) | Steps 392(392.44) | Grad Norm 5.5557(3.6350) | Total Time 10.00(10.00)\n",
      "Iter 1301 | Time 31.2512(28.6332) | Bit/dim 1.1613(1.1774) | Steps 398(392.60) | Grad Norm 1.2739(3.5642) | Total Time 10.00(10.00)\n",
      "validating...\n",
      "Epoch 0186 | Time 9.3853, Epoch Time 228.0774, Bit/dim 1.1955\n"
     ]
    },
    {
     "name": "stdout",
     "output_type": "stream",
     "text": [
      "do _generate\n",
      "do _generate\n",
      "do _generate\n",
      "do _generate\n",
      "do _generate\n",
      "do _generate\n",
      "do _generate\n",
      "do _generate\n"
     ]
    },
    {
     "name": "stderr",
     "output_type": "stream",
     "text": [
      "===> Using batch size 8000. Total 7 iterations/epoch.\n",
      "Iter 1302 | Time 27.8061(28.6084) | Bit/dim 1.2053(1.1783) | Steps 404(392.94) | Grad Norm 5.6188(3.6258) | Total Time 10.00(10.00)\n",
      "Iter 1303 | Time 28.6696(28.6102) | Bit/dim 1.1754(1.1782) | Steps 392(392.92) | Grad Norm 2.9620(3.6059) | Total Time 10.00(10.00)\n",
      "Iter 1304 | Time 28.7680(28.6150) | Bit/dim 1.1749(1.1781) | Steps 392(392.89) | Grad Norm 2.9288(3.5856) | Total Time 10.00(10.00)\n",
      "Iter 1305 | Time 26.7365(28.5586) | Bit/dim 1.1816(1.1782) | Steps 386(392.68) | Grad Norm 3.3514(3.5786) | Total Time 10.00(10.00)\n",
      "Iter 1306 | Time 27.1457(28.5162) | Bit/dim 1.1722(1.1780) | Steps 386(392.48) | Grad Norm 2.1831(3.5367) | Total Time 10.00(10.00)\n",
      "Iter 1307 | Time 28.2274(28.5076) | Bit/dim 1.1693(1.1777) | Steps 386(392.29) | Grad Norm 2.5752(3.5079) | Total Time 10.00(10.00)\n",
      "Iter 1308 | Time 28.2873(28.5009) | Bit/dim 1.1648(1.1774) | Steps 386(392.10) | Grad Norm 1.7311(3.4546) | Total Time 10.00(10.00)\n",
      "validating...\n",
      "Epoch 0187 | Time 9.0733, Epoch Time 217.1508, Bit/dim 1.1539\n"
     ]
    },
    {
     "name": "stdout",
     "output_type": "stream",
     "text": [
      "do _generate\n",
      "do _generate\n",
      "do _generate\n",
      "do _generate\n",
      "do _generate\n",
      "do _generate\n",
      "do _generate\n",
      "do _generate\n"
     ]
    },
    {
     "name": "stderr",
     "output_type": "stream",
     "text": [
      "===> Using batch size 8000. Total 7 iterations/epoch.\n",
      "Iter 1309 | Time 26.9849(28.4555) | Bit/dim 1.1685(1.1771) | Steps 380(391.74) | Grad Norm 2.9811(3.4404) | Total Time 10.00(10.00)\n",
      "Iter 1310 | Time 28.6570(28.4615) | Bit/dim 1.1573(1.1765) | Steps 386(391.56) | Grad Norm 2.2002(3.4032) | Total Time 10.00(10.00)\n",
      "Iter 1311 | Time 28.6217(28.4663) | Bit/dim 1.1541(1.1758) | Steps 392(391.58) | Grad Norm 1.1212(3.3347) | Total Time 10.00(10.00)\n",
      "Iter 1312 | Time 28.0489(28.4538) | Bit/dim 1.1561(1.1752) | Steps 392(391.59) | Grad Norm 2.4036(3.3068) | Total Time 10.00(10.00)\n",
      "Iter 1313 | Time 27.9944(28.4400) | Bit/dim 1.1523(1.1745) | Steps 386(391.42) | Grad Norm 2.6237(3.2863) | Total Time 10.00(10.00)\n",
      "Iter 1314 | Time 28.9480(28.4552) | Bit/dim 1.1418(1.1736) | Steps 398(391.62) | Grad Norm 1.1347(3.2217) | Total Time 10.00(10.00)\n",
      "Iter 1315 | Time 29.3155(28.4811) | Bit/dim 1.1439(1.1727) | Steps 398(391.81) | Grad Norm 1.1037(3.1582) | Total Time 10.00(10.00)\n",
      "validating...\n",
      "Epoch 0188 | Time 9.1255, Epoch Time 219.8865, Bit/dim 1.1277\n"
     ]
    },
    {
     "name": "stdout",
     "output_type": "stream",
     "text": [
      "do _generate\n",
      "do _generate\n",
      "do _generate\n",
      "do _generate\n",
      "do _generate\n",
      "do _generate\n",
      "do _generate\n",
      "do _generate\n"
     ]
    },
    {
     "name": "stderr",
     "output_type": "stream",
     "text": [
      "===> Using batch size 8000. Total 7 iterations/epoch.\n",
      "Iter 1316 | Time 28.9077(28.4939) | Bit/dim 1.1416(1.1717) | Steps 398(392.00) | Grad Norm 1.5902(3.1111) | Total Time 10.00(10.00)\n",
      "Iter 1317 | Time 27.4527(28.4626) | Bit/dim 1.1555(1.1713) | Steps 392(392.00) | Grad Norm 3.9954(3.1377) | Total Time 10.00(10.00)\n",
      "Iter 1318 | Time 29.1053(28.4819) | Bit/dim 1.2295(1.1730) | Steps 386(391.82) | Grad Norm 10.8326(3.3685) | Total Time 10.00(10.00)\n",
      "Iter 1319 | Time 27.6869(28.4581) | Bit/dim 1.4179(1.1804) | Steps 398(392.00) | Grad Norm 7.3708(3.4886) | Total Time 10.00(10.00)\n",
      "Iter 1320 | Time 26.6041(28.4024) | Bit/dim 1.3844(1.1865) | Steps 392(392.00) | Grad Norm 4.5216(3.5196) | Total Time 10.00(10.00)\n",
      "Iter 1321 | Time 29.3159(28.4298) | Bit/dim 1.3039(1.1900) | Steps 404(392.36) | Grad Norm 2.6738(3.4942) | Total Time 10.00(10.00)\n",
      "Iter 1322 | Time 29.0688(28.4490) | Bit/dim 1.3192(1.1939) | Steps 386(392.17) | Grad Norm 4.2951(3.5182) | Total Time 10.00(10.00)\n",
      "validating...\n",
      "Epoch 0189 | Time 8.8180, Epoch Time 219.2174, Bit/dim 1.2477\n"
     ]
    },
    {
     "name": "stdout",
     "output_type": "stream",
     "text": [
      "do _generate\n",
      "do _generate\n",
      "do _generate\n",
      "do _generate\n",
      "do _generate\n",
      "do _generate\n",
      "do _generate\n",
      "do _generate\n"
     ]
    },
    {
     "name": "stderr",
     "output_type": "stream",
     "text": [
      "===> Using batch size 8000. Total 7 iterations/epoch.\n",
      "Iter 1323 | Time 27.9695(28.4346) | Bit/dim 1.2623(1.1959) | Steps 386(391.99) | Grad Norm 2.1451(3.4770) | Total Time 10.00(10.00)\n",
      "Iter 1324 | Time 29.1870(28.4572) | Bit/dim 1.2961(1.1989) | Steps 398(392.17) | Grad Norm 2.3038(3.4418) | Total Time 10.00(10.00)\n",
      "Iter 1325 | Time 28.8876(28.4701) | Bit/dim 1.3018(1.2020) | Steps 410(392.70) | Grad Norm 3.5106(3.4439) | Total Time 10.00(10.00)\n",
      "Iter 1326 | Time 27.4056(28.4382) | Bit/dim 1.2673(1.2040) | Steps 392(392.68) | Grad Norm 2.2470(3.4080) | Total Time 10.00(10.00)\n",
      "Iter 1327 | Time 31.1882(28.5207) | Bit/dim 1.2506(1.2054) | Steps 398(392.84) | Grad Norm 1.7691(3.3588) | Total Time 10.00(10.00)\n",
      "Iter 1328 | Time 27.7930(28.4988) | Bit/dim 1.2416(1.2065) | Steps 392(392.81) | Grad Norm 1.9524(3.3166) | Total Time 10.00(10.00)\n",
      "Iter 1329 | Time 27.6260(28.4727) | Bit/dim 1.2357(1.2073) | Steps 398(392.97) | Grad Norm 1.5889(3.2648) | Total Time 10.00(10.00)\n",
      "validating...\n",
      "Epoch 0190 | Time 8.9163, Epoch Time 221.4189, Bit/dim 1.2038\n"
     ]
    },
    {
     "name": "stdout",
     "output_type": "stream",
     "text": [
      "do _generate\n",
      "do _generate\n",
      "do _generate\n",
      "do _generate\n",
      "do _generate\n",
      "do _generate\n",
      "do _generate\n",
      "do _generate\n"
     ]
    },
    {
     "name": "stderr",
     "output_type": "stream",
     "text": [
      "===> Using batch size 8000. Total 7 iterations/epoch.\n",
      "Iter 1330 | Time 27.8081(28.4527) | Bit/dim 1.2151(1.2076) | Steps 398(393.12) | Grad Norm 1.6524(3.2164) | Total Time 10.00(10.00)\n",
      "Iter 1331 | Time 28.5466(28.4555) | Bit/dim 1.2144(1.2078) | Steps 398(393.27) | Grad Norm 1.6690(3.1700) | Total Time 10.00(10.00)\n",
      "Iter 1332 | Time 28.6455(28.4612) | Bit/dim 1.2148(1.2080) | Steps 398(393.41) | Grad Norm 2.4526(3.1485) | Total Time 10.00(10.00)\n",
      "Iter 1333 | Time 27.8009(28.4414) | Bit/dim 1.1987(1.2077) | Steps 398(393.55) | Grad Norm 2.6942(3.1349) | Total Time 10.00(10.00)\n",
      "Iter 1334 | Time 27.9587(28.4269) | Bit/dim 1.1834(1.2070) | Steps 392(393.50) | Grad Norm 1.0428(3.0721) | Total Time 10.00(10.00)\n",
      "Iter 1335 | Time 28.8684(28.4402) | Bit/dim 1.1837(1.2063) | Steps 398(393.64) | Grad Norm 2.0032(3.0400) | Total Time 10.00(10.00)\n",
      "Iter 1336 | Time 28.0210(28.4276) | Bit/dim 1.1840(1.2056) | Steps 398(393.77) | Grad Norm 2.0277(3.0097) | Total Time 10.00(10.00)\n",
      "validating...\n",
      "Epoch 0191 | Time 9.2655, Epoch Time 219.4170, Bit/dim 1.1589\n"
     ]
    },
    {
     "name": "stdout",
     "output_type": "stream",
     "text": [
      "do _generate\n",
      "do _generate\n",
      "do _generate\n",
      "do _generate\n",
      "do _generate\n",
      "do _generate\n",
      "do _generate\n",
      "do _generate\n"
     ]
    },
    {
     "name": "stderr",
     "output_type": "stream",
     "text": [
      "===> Using batch size 8000. Total 7 iterations/epoch.\n",
      "Iter 1337 | Time 28.9672(28.4438) | Bit/dim 1.1756(1.2047) | Steps 398(393.89) | Grad Norm 1.3212(2.9590) | Total Time 10.00(10.00)\n",
      "Iter 1338 | Time 27.2414(28.4077) | Bit/dim 1.1688(1.2036) | Steps 392(393.84) | Grad Norm 1.2575(2.9080) | Total Time 10.00(10.00)\n",
      "Iter 1339 | Time 27.4035(28.3776) | Bit/dim 1.1706(1.2026) | Steps 392(393.78) | Grad Norm 3.4343(2.9238) | Total Time 10.00(10.00)\n",
      "Iter 1340 | Time 28.5722(28.3834) | Bit/dim 1.2067(1.2028) | Steps 392(393.73) | Grad Norm 7.4533(3.0596) | Total Time 10.00(10.00)\n",
      "Iter 1341 | Time 29.4898(28.4166) | Bit/dim 1.3013(1.2057) | Steps 404(394.04) | Grad Norm 7.2720(3.1860) | Total Time 10.00(10.00)\n",
      "Iter 1342 | Time 27.6301(28.3930) | Bit/dim 1.2138(1.2060) | Steps 392(393.98) | Grad Norm 3.2367(3.1875) | Total Time 10.00(10.00)\n",
      "Iter 1343 | Time 29.8472(28.4367) | Bit/dim 1.2914(1.2085) | Steps 392(393.92) | Grad Norm 7.1878(3.3075) | Total Time 10.00(10.00)\n",
      "validating...\n",
      "Epoch 0192 | Time 8.8604, Epoch Time 220.3543, Bit/dim 1.1885\n"
     ]
    },
    {
     "name": "stdout",
     "output_type": "stream",
     "text": [
      "do _generate\n",
      "do _generate\n",
      "do _generate\n",
      "do _generate\n",
      "do _generate\n",
      "do _generate\n",
      "do _generate\n",
      "do _generate\n"
     ]
    },
    {
     "name": "stderr",
     "output_type": "stream",
     "text": [
      "===> Using batch size 8000. Total 7 iterations/epoch.\n",
      "Iter 1344 | Time 28.3857(28.4351) | Bit/dim 1.2071(1.2085) | Steps 392(393.86) | Grad Norm 2.1392(3.2725) | Total Time 10.00(10.00)\n",
      "Iter 1345 | Time 29.1671(28.4571) | Bit/dim 1.2642(1.2102) | Steps 398(393.98) | Grad Norm 6.1461(3.3587) | Total Time 10.00(10.00)\n",
      "Iter 1346 | Time 28.3832(28.4549) | Bit/dim 1.1840(1.2094) | Steps 392(393.92) | Grad Norm 1.3284(3.2978) | Total Time 10.00(10.00)\n",
      "Iter 1347 | Time 27.9899(28.4409) | Bit/dim 1.2302(1.2100) | Steps 386(393.69) | Grad Norm 4.4145(3.3313) | Total Time 10.00(10.00)\n",
      "Iter 1348 | Time 28.8717(28.4538) | Bit/dim 1.1903(1.2094) | Steps 398(393.81) | Grad Norm 1.7289(3.2832) | Total Time 10.00(10.00)\n",
      "Iter 1349 | Time 26.8970(28.4071) | Bit/dim 1.2030(1.2092) | Steps 374(393.22) | Grad Norm 3.3966(3.2866) | Total Time 10.00(10.00)\n",
      "Iter 1350 | Time 27.3273(28.3747) | Bit/dim 1.1794(1.2083) | Steps 386(393.00) | Grad Norm 1.1448(3.2224) | Total Time 10.00(10.00)\n",
      "validating...\n",
      "Epoch 0193 | Time 8.9410, Epoch Time 218.0387, Bit/dim 1.1864\n"
     ]
    },
    {
     "name": "stdout",
     "output_type": "stream",
     "text": [
      "do _generate\n",
      "do _generate\n",
      "do _generate\n",
      "do _generate\n",
      "do _generate\n",
      "do _generate\n",
      "do _generate\n",
      "do _generate\n"
     ]
    },
    {
     "name": "stderr",
     "output_type": "stream",
     "text": [
      "===> Using batch size 8000. Total 7 iterations/epoch.\n",
      "Iter 1351 | Time 28.8352(28.3886) | Bit/dim 1.2039(1.2082) | Steps 392(392.97) | Grad Norm 3.2727(3.2239) | Total Time 10.00(10.00)\n",
      "Iter 1352 | Time 27.9455(28.3753) | Bit/dim 1.1654(1.2069) | Steps 380(392.58) | Grad Norm 1.0785(3.1595) | Total Time 10.00(10.00)\n",
      "Iter 1353 | Time 26.5140(28.3194) | Bit/dim 1.1872(1.2063) | Steps 374(392.03) | Grad Norm 3.4433(3.1680) | Total Time 10.00(10.00)\n",
      "Iter 1354 | Time 28.8246(28.3346) | Bit/dim 1.1740(1.2053) | Steps 380(391.67) | Grad Norm 3.5046(3.1781) | Total Time 10.00(10.00)\n",
      "Iter 1355 | Time 26.9388(28.2927) | Bit/dim 1.1553(1.2038) | Steps 374(391.14) | Grad Norm 1.3588(3.1235) | Total Time 10.00(10.00)\n",
      "Iter 1356 | Time 26.5289(28.2398) | Bit/dim 1.1680(1.2028) | Steps 374(390.62) | Grad Norm 2.1437(3.0941) | Total Time 10.00(10.00)\n",
      "Iter 1357 | Time 28.2403(28.2398) | Bit/dim 1.1641(1.2016) | Steps 386(390.48) | Grad Norm 2.8769(3.0876) | Total Time 10.00(10.00)\n",
      "validating...\n",
      "Epoch 0194 | Time 9.3633, Epoch Time 215.8010, Bit/dim 1.1498\n"
     ]
    },
    {
     "name": "stdout",
     "output_type": "stream",
     "text": [
      "do _generate\n",
      "do _generate\n",
      "do _generate\n",
      "do _generate\n",
      "do _generate\n",
      "do _generate\n",
      "do _generate\n",
      "do _generate\n"
     ]
    },
    {
     "name": "stderr",
     "output_type": "stream",
     "text": [
      "===> Using batch size 8000. Total 7 iterations/epoch.\n",
      "Iter 1358 | Time 28.7467(28.2550) | Bit/dim 1.1644(1.2005) | Steps 386(390.35) | Grad Norm 2.3989(3.0670) | Total Time 10.00(10.00)\n",
      "Iter 1359 | Time 27.2824(28.2258) | Bit/dim 1.1562(1.1992) | Steps 386(390.22) | Grad Norm 1.9855(3.0345) | Total Time 10.00(10.00)\n",
      "Iter 1360 | Time 29.6628(28.2689) | Bit/dim 1.1517(1.1977) | Steps 386(390.09) | Grad Norm 1.7444(2.9958) | Total Time 10.00(10.00)\n",
      "Iter 1361 | Time 26.9100(28.2282) | Bit/dim 1.1692(1.1969) | Steps 380(389.79) | Grad Norm 4.0188(3.0265) | Total Time 10.00(10.00)\n",
      "Iter 1362 | Time 28.2093(28.2276) | Bit/dim 1.1659(1.1959) | Steps 380(389.50) | Grad Norm 5.6157(3.1042) | Total Time 10.00(10.00)\n",
      "Iter 1363 | Time 28.5819(28.2382) | Bit/dim 1.2247(1.1968) | Steps 386(389.39) | Grad Norm 6.3850(3.2026) | Total Time 10.00(10.00)\n",
      "Iter 1364 | Time 30.6215(28.3097) | Bit/dim 1.1640(1.1958) | Steps 386(389.29) | Grad Norm 2.0037(3.1666) | Total Time 10.00(10.00)\n",
      "validating...\n",
      "Epoch 0195 | Time 8.7724, Epoch Time 221.3358, Bit/dim 1.1751\n"
     ]
    },
    {
     "name": "stdout",
     "output_type": "stream",
     "text": [
      "do _generate\n",
      "do _generate\n",
      "do _generate\n",
      "do _generate\n",
      "do _generate\n",
      "do _generate\n",
      "do _generate\n",
      "do _generate\n"
     ]
    },
    {
     "name": "stderr",
     "output_type": "stream",
     "text": [
      "===> Using batch size 8000. Total 7 iterations/epoch.\n",
      "Iter 1365 | Time 27.8583(28.2962) | Bit/dim 1.1897(1.1956) | Steps 380(389.01) | Grad Norm 5.1818(3.2271) | Total Time 10.00(10.00)\n",
      "Iter 1366 | Time 28.8009(28.3113) | Bit/dim 1.2050(1.1959) | Steps 392(389.10) | Grad Norm 5.5339(3.2963) | Total Time 10.00(10.00)\n",
      "Iter 1367 | Time 26.9842(28.2715) | Bit/dim 1.1525(1.1946) | Steps 374(388.65) | Grad Norm 1.2974(3.2363) | Total Time 10.00(10.00)\n",
      "Iter 1368 | Time 27.4505(28.2469) | Bit/dim 1.2172(1.1953) | Steps 380(388.39) | Grad Norm 6.5557(3.3359) | Total Time 10.00(10.00)\n",
      "Iter 1369 | Time 26.7197(28.2011) | Bit/dim 1.1923(1.1952) | Steps 380(388.14) | Grad Norm 4.8807(3.3823) | Total Time 10.00(10.00)\n",
      "Iter 1370 | Time 27.0237(28.1658) | Bit/dim 1.1778(1.1947) | Steps 386(388.07) | Grad Norm 2.9458(3.3692) | Total Time 10.00(10.00)\n",
      "Iter 1371 | Time 28.0741(28.1630) | Bit/dim 1.1845(1.1944) | Steps 380(387.83) | Grad Norm 3.8566(3.3838) | Total Time 10.00(10.00)\n",
      "validating...\n",
      "Epoch 0196 | Time 9.0702, Epoch Time 214.1682, Bit/dim 1.1705\n"
     ]
    },
    {
     "name": "stdout",
     "output_type": "stream",
     "text": [
      "do _generate\n",
      "do _generate\n",
      "do _generate\n",
      "do _generate\n",
      "do _generate\n",
      "do _generate\n",
      "do _generate\n",
      "do _generate\n"
     ]
    },
    {
     "name": "stderr",
     "output_type": "stream",
     "text": [
      "===> Using batch size 8000. Total 7 iterations/epoch.\n",
      "Iter 1372 | Time 28.8774(28.1844) | Bit/dim 1.1851(1.1941) | Steps 386(387.77) | Grad Norm 3.4498(3.3858) | Total Time 10.00(10.00)\n",
      "Iter 1373 | Time 26.3644(28.1298) | Bit/dim 1.1588(1.1930) | Steps 374(387.36) | Grad Norm 2.0611(3.3460) | Total Time 10.00(10.00)\n",
      "Iter 1374 | Time 26.8825(28.0924) | Bit/dim 1.1753(1.1925) | Steps 380(387.14) | Grad Norm 2.6996(3.3266) | Total Time 10.00(10.00)\n",
      "Iter 1375 | Time 29.0415(28.1209) | Bit/dim 1.1560(1.1914) | Steps 392(387.29) | Grad Norm 2.4436(3.3001) | Total Time 10.00(10.00)\n",
      "Iter 1376 | Time 27.8648(28.1132) | Bit/dim 1.1642(1.1906) | Steps 392(387.43) | Grad Norm 2.4908(3.2759) | Total Time 10.00(10.00)\n",
      "Iter 1377 | Time 27.2590(28.0876) | Bit/dim 1.1567(1.1896) | Steps 380(387.21) | Grad Norm 1.6576(3.2273) | Total Time 10.00(10.00)\n",
      "Iter 1378 | Time 27.7377(28.0771) | Bit/dim 1.1619(1.1888) | Steps 386(387.17) | Grad Norm 2.7596(3.2133) | Total Time 10.00(10.00)\n",
      "validating...\n",
      "Epoch 0197 | Time 8.9547, Epoch Time 215.2238, Bit/dim 1.1341\n"
     ]
    },
    {
     "name": "stdout",
     "output_type": "stream",
     "text": [
      "do _generate\n",
      "do _generate\n",
      "do _generate\n",
      "do _generate\n",
      "do _generate\n",
      "do _generate\n",
      "do _generate\n",
      "do _generate\n"
     ]
    },
    {
     "name": "stderr",
     "output_type": "stream",
     "text": [
      "===> Using batch size 8000. Total 7 iterations/epoch.\n",
      "Iter 1379 | Time 27.0398(28.0460) | Bit/dim 1.1488(1.1876) | Steps 386(387.13) | Grad Norm 1.1379(3.1510) | Total Time 10.00(10.00)\n",
      "Iter 1380 | Time 27.3793(28.0260) | Bit/dim 1.1562(1.1866) | Steps 380(386.92) | Grad Norm 2.0090(3.1168) | Total Time 10.00(10.00)\n",
      "Iter 1381 | Time 28.7927(28.0490) | Bit/dim 1.1470(1.1854) | Steps 392(387.07) | Grad Norm 3.2223(3.1199) | Total Time 10.00(10.00)\n",
      "Iter 1382 | Time 27.0755(28.0198) | Bit/dim 1.1827(1.1853) | Steps 386(387.04) | Grad Norm 5.5212(3.1920) | Total Time 10.00(10.00)\n",
      "Iter 1383 | Time 28.4076(28.0314) | Bit/dim 1.1881(1.1854) | Steps 386(387.01) | Grad Norm 6.2094(3.2825) | Total Time 10.00(10.00)\n",
      "Iter 1384 | Time 27.1413(28.0047) | Bit/dim 1.1746(1.1851) | Steps 386(386.98) | Grad Norm 4.0156(3.3045) | Total Time 10.00(10.00)\n",
      "Iter 1385 | Time 28.2663(28.0125) | Bit/dim 1.1546(1.1842) | Steps 380(386.77) | Grad Norm 1.6442(3.2547) | Total Time 10.00(10.00)\n",
      "validating...\n",
      "Epoch 0198 | Time 9.0178, Epoch Time 215.3008, Bit/dim 1.1635\n"
     ]
    },
    {
     "name": "stdout",
     "output_type": "stream",
     "text": [
      "do _generate\n",
      "do _generate\n",
      "do _generate\n",
      "do _generate\n",
      "do _generate\n",
      "do _generate\n",
      "do _generate\n",
      "do _generate\n"
     ]
    },
    {
     "name": "stderr",
     "output_type": "stream",
     "text": [
      "===> Using batch size 8000. Total 7 iterations/epoch.\n",
      "Iter 1386 | Time 28.5707(28.0293) | Bit/dim 1.1773(1.1840) | Steps 386(386.75) | Grad Norm 4.7207(3.2987) | Total Time 10.00(10.00)\n",
      "Iter 1387 | Time 27.6659(28.0184) | Bit/dim 1.1546(1.1831) | Steps 392(386.90) | Grad Norm 2.8173(3.2842) | Total Time 10.00(10.00)\n",
      "Iter 1388 | Time 27.1636(27.9927) | Bit/dim 1.1526(1.1822) | Steps 380(386.70) | Grad Norm 1.6739(3.2359) | Total Time 10.00(10.00)\n",
      "Iter 1389 | Time 28.6225(28.0116) | Bit/dim 1.1655(1.1817) | Steps 392(386.86) | Grad Norm 4.1509(3.2634) | Total Time 10.00(10.00)\n",
      "Iter 1390 | Time 28.7684(28.0343) | Bit/dim 1.1516(1.1808) | Steps 386(386.83) | Grad Norm 3.3372(3.2656) | Total Time 10.00(10.00)\n",
      "Iter 1391 | Time 27.7427(28.0256) | Bit/dim 1.1437(1.1797) | Steps 374(386.45) | Grad Norm 0.7599(3.1904) | Total Time 10.00(10.00)\n",
      "Iter 1392 | Time 28.6938(28.0456) | Bit/dim 1.1540(1.1789) | Steps 392(386.61) | Grad Norm 3.3309(3.1946) | Total Time 10.00(10.00)\n",
      "validating...\n",
      "Epoch 0199 | Time 9.0634, Epoch Time 218.6244, Bit/dim 1.1357\n"
     ]
    },
    {
     "name": "stdout",
     "output_type": "stream",
     "text": [
      "do _generate\n",
      "do _generate\n",
      "do _generate\n",
      "do _generate\n",
      "do _generate\n",
      "do _generate\n",
      "do _generate\n",
      "do _generate\n"
     ]
    },
    {
     "name": "stderr",
     "output_type": "stream",
     "text": [
      "===> Using batch size 8000. Total 7 iterations/epoch.\n",
      "Iter 1393 | Time 26.9520(28.0128) | Bit/dim 1.1497(1.1780) | Steps 386(386.59) | Grad Norm 2.9034(3.1859) | Total Time 10.00(10.00)\n",
      "Iter 1394 | Time 29.2586(28.0502) | Bit/dim 1.1358(1.1768) | Steps 380(386.40) | Grad Norm 1.0035(3.1204) | Total Time 10.00(10.00)\n",
      "Iter 1395 | Time 29.6701(28.0988) | Bit/dim 1.1422(1.1757) | Steps 398(386.74) | Grad Norm 2.1254(3.0906) | Total Time 10.00(10.00)\n",
      "Iter 1396 | Time 26.8900(28.0625) | Bit/dim 1.1611(1.1753) | Steps 386(386.72) | Grad Norm 5.2531(3.1554) | Total Time 10.00(10.00)\n",
      "Iter 1397 | Time 28.2803(28.0691) | Bit/dim 1.1998(1.1760) | Steps 380(386.52) | Grad Norm 7.5565(3.2875) | Total Time 10.00(10.00)\n",
      "Iter 1398 | Time 28.4462(28.0804) | Bit/dim 1.2007(1.1768) | Steps 398(386.86) | Grad Norm 5.7126(3.3602) | Total Time 10.00(10.00)\n",
      "Iter 1399 | Time 27.1230(28.0517) | Bit/dim 1.1670(1.1765) | Steps 386(386.84) | Grad Norm 1.9749(3.3187) | Total Time 10.00(10.00)\n",
      "validating...\n",
      "Epoch 0200 | Time 8.6497, Epoch Time 217.5078, Bit/dim 1.1764\n"
     ]
    },
    {
     "name": "stdout",
     "output_type": "stream",
     "text": [
      "do _generate\n",
      "do _generate\n",
      "do _generate\n",
      "do _generate\n",
      "do _generate\n",
      "do _generate\n",
      "do _generate\n",
      "do _generate\n"
     ]
    },
    {
     "name": "stderr",
     "output_type": "stream",
     "text": [
      "===> Using batch size 8000. Total 7 iterations/epoch.\n",
      "Iter 1400 | Time 28.6558(28.0698) | Bit/dim 1.1913(1.1769) | Steps 380(386.63) | Grad Norm 4.7619(3.3620) | Total Time 10.00(10.00)\n",
      "Iter 1401 | Time 29.2078(28.1039) | Bit/dim 1.1591(1.1764) | Steps 392(386.79) | Grad Norm 1.4922(3.3059) | Total Time 10.00(10.00)\n",
      "Iter 1402 | Time 27.9999(28.1008) | Bit/dim 1.1902(1.1768) | Steps 404(387.31) | Grad Norm 5.3973(3.3686) | Total Time 10.00(10.00)\n",
      "Iter 1403 | Time 28.6006(28.1158) | Bit/dim 1.1864(1.1771) | Steps 392(387.45) | Grad Norm 4.6015(3.4056) | Total Time 10.00(10.00)\n",
      "Iter 1404 | Time 28.6474(28.1317) | Bit/dim 1.1566(1.1765) | Steps 392(387.59) | Grad Norm 1.4358(3.3465) | Total Time 10.00(10.00)\n",
      "Iter 1405 | Time 27.3920(28.1096) | Bit/dim 1.1733(1.1764) | Steps 386(387.54) | Grad Norm 3.5474(3.3525) | Total Time 10.00(10.00)\n",
      "Iter 1406 | Time 27.2004(28.0823) | Bit/dim 1.1674(1.1761) | Steps 380(387.31) | Grad Norm 1.7248(3.3037) | Total Time 10.00(10.00)\n",
      "validating...\n",
      "Epoch 0201 | Time 8.9895, Epoch Time 218.7603, Bit/dim 1.1567\n"
     ]
    },
    {
     "name": "stdout",
     "output_type": "stream",
     "text": [
      "do _generate\n",
      "do _generate\n",
      "do _generate\n",
      "do _generate\n",
      "do _generate\n",
      "do _generate\n",
      "do _generate\n",
      "do _generate\n"
     ]
    },
    {
     "name": "stderr",
     "output_type": "stream",
     "text": [
      "===> Using batch size 8000. Total 7 iterations/epoch.\n",
      "Iter 1407 | Time 27.9608(28.0786) | Bit/dim 1.1687(1.1759) | Steps 386(387.27) | Grad Norm 3.3142(3.3040) | Total Time 10.00(10.00)\n",
      "Iter 1408 | Time 28.6167(28.0948) | Bit/dim 1.1502(1.1751) | Steps 392(387.42) | Grad Norm 1.5419(3.2512) | Total Time 10.00(10.00)\n",
      "Iter 1409 | Time 27.4793(28.0763) | Bit/dim 1.1643(1.1748) | Steps 380(387.19) | Grad Norm 3.3116(3.2530) | Total Time 10.00(10.00)\n",
      "Iter 1410 | Time 28.8862(28.1006) | Bit/dim 1.1508(1.1741) | Steps 392(387.34) | Grad Norm 2.2615(3.2232) | Total Time 10.00(10.00)\n",
      "Iter 1411 | Time 28.8513(28.1231) | Bit/dim 1.1460(1.1732) | Steps 404(387.84) | Grad Norm 1.4201(3.1691) | Total Time 10.00(10.00)\n",
      "Iter 1412 | Time 26.5595(28.0762) | Bit/dim 1.1508(1.1725) | Steps 380(387.60) | Grad Norm 2.3970(3.1460) | Total Time 10.00(10.00)\n",
      "Iter 1413 | Time 30.0446(28.1353) | Bit/dim 1.1539(1.1720) | Steps 392(387.73) | Grad Norm 2.4512(3.1251) | Total Time 10.00(10.00)\n",
      "validating...\n",
      "Epoch 0202 | Time 9.3697, Epoch Time 219.9570, Bit/dim 1.1254\n"
     ]
    },
    {
     "name": "stdout",
     "output_type": "stream",
     "text": [
      "do _generate\n",
      "do _generate\n",
      "do _generate\n",
      "do _generate\n",
      "do _generate\n",
      "do _generate\n",
      "do _generate\n",
      "do _generate\n"
     ]
    },
    {
     "name": "stderr",
     "output_type": "stream",
     "text": [
      "===> Using batch size 8000. Total 7 iterations/epoch.\n",
      "Iter 1414 | Time 29.8126(28.1856) | Bit/dim 1.1424(1.1711) | Steps 404(388.22) | Grad Norm 0.7441(3.0537) | Total Time 10.00(10.00)\n",
      "Iter 1415 | Time 26.7257(28.1418) | Bit/dim 1.1384(1.1701) | Steps 380(387.98) | Grad Norm 2.4670(3.0361) | Total Time 10.00(10.00)\n",
      "Iter 1416 | Time 28.8203(28.1622) | Bit/dim 1.1509(1.1695) | Steps 392(388.10) | Grad Norm 4.1137(3.0684) | Total Time 10.00(10.00)\n",
      "Iter 1417 | Time 27.4176(28.1398) | Bit/dim 1.1759(1.1697) | Steps 392(388.21) | Grad Norm 5.2837(3.1349) | Total Time 10.00(10.00)\n",
      "Iter 1418 | Time 28.9264(28.1634) | Bit/dim 1.1626(1.1695) | Steps 398(388.51) | Grad Norm 5.1286(3.1947) | Total Time 10.00(10.00)\n",
      "Iter 1419 | Time 27.0908(28.1312) | Bit/dim 1.1528(1.1690) | Steps 386(388.43) | Grad Norm 3.4519(3.2024) | Total Time 10.00(10.00)\n",
      "Iter 1420 | Time 28.4333(28.1403) | Bit/dim 1.1397(1.1681) | Steps 392(388.54) | Grad Norm 1.1468(3.1407) | Total Time 10.00(10.00)\n",
      "validating...\n",
      "Epoch 0203 | Time 9.2246, Epoch Time 218.7282, Bit/dim 1.1324\n"
     ]
    },
    {
     "name": "stdout",
     "output_type": "stream",
     "text": [
      "do _generate\n",
      "do _generate\n",
      "do _generate\n",
      "do _generate\n",
      "do _generate\n",
      "do _generate\n",
      "do _generate\n",
      "do _generate\n"
     ]
    },
    {
     "name": "stderr",
     "output_type": "stream",
     "text": [
      "===> Using batch size 8000. Total 7 iterations/epoch.\n",
      "Iter 1421 | Time 29.4082(28.1783) | Bit/dim 1.1484(1.1675) | Steps 392(388.64) | Grad Norm 3.0510(3.1380) | Total Time 10.00(10.00)\n",
      "Iter 1422 | Time 27.2797(28.1514) | Bit/dim 1.1577(1.1673) | Steps 392(388.74) | Grad Norm 4.8397(3.1891) | Total Time 10.00(10.00)\n",
      "Iter 1423 | Time 28.4329(28.1598) | Bit/dim 1.1580(1.1670) | Steps 386(388.66) | Grad Norm 4.5858(3.2310) | Total Time 10.00(10.00)\n",
      "Iter 1424 | Time 27.8172(28.1495) | Bit/dim 1.1443(1.1663) | Steps 386(388.58) | Grad Norm 2.4377(3.2072) | Total Time 10.00(10.00)\n",
      "Iter 1425 | Time 27.2659(28.1230) | Bit/dim 1.1396(1.1655) | Steps 392(388.68) | Grad Norm 1.1183(3.1445) | Total Time 10.00(10.00)\n",
      "Iter 1426 | Time 28.8596(28.1451) | Bit/dim 1.1466(1.1649) | Steps 392(388.78) | Grad Norm 3.3761(3.1515) | Total Time 10.00(10.00)\n",
      "Iter 1427 | Time 26.7539(28.1034) | Bit/dim 1.1488(1.1644) | Steps 386(388.70) | Grad Norm 3.5397(3.1631) | Total Time 10.00(10.00)\n",
      "validating...\n",
      "Epoch 0204 | Time 9.4949, Epoch Time 217.5103, Bit/dim 1.1235\n"
     ]
    },
    {
     "name": "stdout",
     "output_type": "stream",
     "text": [
      "do _generate\n",
      "do _generate\n",
      "do _generate\n",
      "do _generate\n",
      "do _generate\n",
      "do _generate\n",
      "do _generate\n",
      "do _generate\n"
     ]
    },
    {
     "name": "stderr",
     "output_type": "stream",
     "text": [
      "===> Using batch size 8000. Total 7 iterations/epoch.\n",
      "Iter 1428 | Time 28.8776(28.1266) | Bit/dim 1.1352(1.1636) | Steps 398(388.98) | Grad Norm 2.1927(3.1340) | Total Time 10.00(10.00)\n",
      "Iter 1429 | Time 27.1917(28.0986) | Bit/dim 1.1276(1.1625) | Steps 386(388.89) | Grad Norm 0.6157(3.0585) | Total Time 10.00(10.00)\n",
      "Iter 1430 | Time 26.7200(28.0572) | Bit/dim 1.1308(1.1615) | Steps 386(388.80) | Grad Norm 1.3439(3.0070) | Total Time 10.00(10.00)\n",
      "Iter 1431 | Time 28.8691(28.0816) | Bit/dim 1.1359(1.1608) | Steps 398(389.08) | Grad Norm 3.4085(3.0191) | Total Time 10.00(10.00)\n",
      "Iter 1432 | Time 27.4538(28.0627) | Bit/dim 1.1691(1.1610) | Steps 398(389.35) | Grad Norm 5.5534(3.0951) | Total Time 10.00(10.00)\n",
      "Iter 1433 | Time 28.5062(28.0760) | Bit/dim 1.1769(1.1615) | Steps 386(389.25) | Grad Norm 6.6653(3.2022) | Total Time 10.00(10.00)\n",
      "Iter 1434 | Time 27.2461(28.0511) | Bit/dim 1.1868(1.1623) | Steps 392(389.33) | Grad Norm 5.6854(3.2767) | Total Time 10.00(10.00)\n",
      "validating...\n",
      "Epoch 0205 | Time 9.3643, Epoch Time 216.5001, Bit/dim 1.1328\n"
     ]
    },
    {
     "name": "stdout",
     "output_type": "stream",
     "text": [
      "do _generate\n",
      "do _generate\n",
      "do _generate\n",
      "do _generate\n",
      "do _generate\n",
      "do _generate\n",
      "do _generate\n",
      "do _generate\n"
     ]
    },
    {
     "name": "stderr",
     "output_type": "stream",
     "text": [
      "===> Using batch size 8000. Total 7 iterations/epoch.\n",
      "Iter 1435 | Time 29.3497(28.0901) | Bit/dim 1.1457(1.1618) | Steps 404(389.77) | Grad Norm 2.1995(3.2444) | Total Time 10.00(10.00)\n",
      "Iter 1436 | Time 27.9882(28.0870) | Bit/dim 1.1598(1.1617) | Steps 386(389.66) | Grad Norm 4.4299(3.2799) | Total Time 10.00(10.00)\n",
      "Iter 1437 | Time 27.8375(28.0796) | Bit/dim 1.1742(1.1621) | Steps 398(389.91) | Grad Norm 5.5456(3.3479) | Total Time 10.00(10.00)\n",
      "Iter 1438 | Time 28.8139(28.1016) | Bit/dim 1.1554(1.1619) | Steps 398(390.15) | Grad Norm 2.3498(3.3180) | Total Time 10.00(10.00)\n",
      "Iter 1439 | Time 28.9549(28.1272) | Bit/dim 1.1509(1.1615) | Steps 392(390.20) | Grad Norm 3.0733(3.3106) | Total Time 10.00(10.00)\n",
      "Iter 1440 | Time 27.6294(28.1123) | Bit/dim 1.1609(1.1615) | Steps 386(390.08) | Grad Norm 3.9385(3.3295) | Total Time 10.00(10.00)\n",
      "Iter 1441 | Time 27.1643(28.0838) | Bit/dim 1.1363(1.1608) | Steps 386(389.96) | Grad Norm 1.2369(3.2667) | Total Time 10.00(10.00)\n",
      "validating...\n",
      "Epoch 0206 | Time 9.1083, Epoch Time 219.0533, Bit/dim 1.1414\n"
     ]
    },
    {
     "name": "stdout",
     "output_type": "stream",
     "text": [
      "do _generate\n",
      "do _generate\n",
      "do _generate\n",
      "do _generate\n",
      "do _generate\n",
      "do _generate\n",
      "do _generate\n",
      "do _generate\n"
     ]
    },
    {
     "name": "stderr",
     "output_type": "stream",
     "text": [
      "===> Using batch size 8000. Total 7 iterations/epoch.\n",
      "Iter 1442 | Time 28.4778(28.0956) | Bit/dim 1.1513(1.1605) | Steps 392(390.02) | Grad Norm 3.7220(3.2804) | Total Time 10.00(10.00)\n",
      "Iter 1443 | Time 27.4538(28.0764) | Bit/dim 1.1454(1.1600) | Steps 386(389.90) | Grad Norm 2.6286(3.2608) | Total Time 10.00(10.00)\n",
      "Iter 1444 | Time 29.8109(28.1284) | Bit/dim 1.1339(1.1592) | Steps 398(390.14) | Grad Norm 1.0880(3.1956) | Total Time 10.00(10.00)\n",
      "Iter 1445 | Time 28.3946(28.1364) | Bit/dim 1.1474(1.1589) | Steps 392(390.20) | Grad Norm 3.9550(3.2184) | Total Time 10.00(10.00)\n",
      "Iter 1446 | Time 29.4737(28.1765) | Bit/dim 1.1666(1.1591) | Steps 410(390.79) | Grad Norm 4.8902(3.2686) | Total Time 10.00(10.00)\n",
      "Iter 1447 | Time 28.5751(28.1885) | Bit/dim 1.1433(1.1586) | Steps 398(391.01) | Grad Norm 2.6533(3.2501) | Total Time 10.00(10.00)\n",
      "Iter 1448 | Time 28.4332(28.1958) | Bit/dim 1.1380(1.1580) | Steps 392(391.04) | Grad Norm 1.6441(3.2019) | Total Time 10.00(10.00)\n",
      "validating...\n",
      "Epoch 0207 | Time 9.1225, Epoch Time 222.0389, Bit/dim 1.1402\n"
     ]
    },
    {
     "name": "stdout",
     "output_type": "stream",
     "text": [
      "do _generate\n",
      "do _generate\n",
      "do _generate\n",
      "do _generate\n",
      "do _generate\n",
      "do _generate\n",
      "do _generate\n",
      "do _generate\n"
     ]
    },
    {
     "name": "stderr",
     "output_type": "stream",
     "text": [
      "===> Using batch size 8000. Total 7 iterations/epoch.\n",
      "Iter 1449 | Time 27.5019(28.1750) | Bit/dim 1.1547(1.1579) | Steps 398(391.24) | Grad Norm 3.6267(3.2147) | Total Time 10.00(10.00)\n",
      "Iter 1450 | Time 29.0548(28.2014) | Bit/dim 1.1422(1.1575) | Steps 392(391.27) | Grad Norm 2.8329(3.2032) | Total Time 10.00(10.00)\n",
      "Iter 1451 | Time 30.2612(28.2632) | Bit/dim 1.1376(1.1569) | Steps 410(391.83) | Grad Norm 1.0491(3.1386) | Total Time 10.00(10.00)\n",
      "Iter 1452 | Time 27.7563(28.2480) | Bit/dim 1.1359(1.1562) | Steps 392(391.83) | Grad Norm 2.0229(3.1051) | Total Time 10.00(10.00)\n",
      "Iter 1453 | Time 28.7965(28.2644) | Bit/dim 1.1411(1.1558) | Steps 392(391.84) | Grad Norm 3.7426(3.1242) | Total Time 10.00(10.00)\n",
      "Iter 1454 | Time 28.9059(28.2837) | Bit/dim 1.1632(1.1560) | Steps 404(392.20) | Grad Norm 5.1298(3.1844) | Total Time 10.00(10.00)\n",
      "Iter 1455 | Time 29.1232(28.3089) | Bit/dim 1.1500(1.1558) | Steps 386(392.02) | Grad Norm 4.4342(3.2219) | Total Time 10.00(10.00)\n",
      "validating...\n",
      "Epoch 0208 | Time 9.1488, Epoch Time 222.8251, Bit/dim 1.1200\n"
     ]
    },
    {
     "name": "stdout",
     "output_type": "stream",
     "text": [
      "do _generate\n",
      "do _generate\n",
      "do _generate\n",
      "do _generate\n",
      "do _generate\n",
      "do _generate\n",
      "do _generate\n",
      "do _generate\n"
     ]
    },
    {
     "name": "stderr",
     "output_type": "stream",
     "text": [
      "===> Using batch size 8000. Total 7 iterations/epoch.\n",
      "Iter 1456 | Time 27.2139(28.2760) | Bit/dim 1.1322(1.1551) | Steps 386(391.84) | Grad Norm 1.3152(3.1647) | Total Time 10.00(10.00)\n",
      "Iter 1457 | Time 27.4009(28.2498) | Bit/dim 1.1363(1.1545) | Steps 386(391.66) | Grad Norm 2.2157(3.1362) | Total Time 10.00(10.00)\n",
      "Iter 1458 | Time 28.5266(28.2581) | Bit/dim 1.1567(1.1546) | Steps 398(391.85) | Grad Norm 4.8048(3.1863) | Total Time 10.00(10.00)\n",
      "Iter 1459 | Time 28.5964(28.2682) | Bit/dim 1.2073(1.1562) | Steps 410(392.40) | Grad Norm 6.6981(3.2916) | Total Time 10.00(10.00)\n",
      "Iter 1460 | Time 29.6637(28.3101) | Bit/dim 1.1552(1.1562) | Steps 386(392.21) | Grad Norm 4.0220(3.3135) | Total Time 10.00(10.00)\n",
      "Iter 1461 | Time 28.5239(28.3165) | Bit/dim 1.1452(1.1558) | Steps 392(392.20) | Grad Norm 1.8797(3.2705) | Total Time 10.00(10.00)\n",
      "Iter 1462 | Time 27.5541(28.2936) | Bit/dim 1.1596(1.1559) | Steps 392(392.19) | Grad Norm 3.2423(3.2697) | Total Time 10.00(10.00)\n",
      "validating...\n",
      "Epoch 0209 | Time 9.3356, Epoch Time 219.3548, Bit/dim 1.1239\n"
     ]
    },
    {
     "name": "stdout",
     "output_type": "stream",
     "text": [
      "do _generate\n",
      "do _generate\n",
      "do _generate\n",
      "do _generate\n",
      "do _generate\n",
      "do _generate\n",
      "do _generate\n",
      "do _generate\n"
     ]
    },
    {
     "name": "stderr",
     "output_type": "stream",
     "text": [
      "===> Using batch size 8000. Total 7 iterations/epoch.\n",
      "Iter 1463 | Time 29.1919(28.3206) | Bit/dim 1.1344(1.1553) | Steps 404(392.55) | Grad Norm 1.1920(3.2074) | Total Time 10.00(10.00)\n",
      "Iter 1464 | Time 30.2507(28.3785) | Bit/dim 1.1536(1.1553) | Steps 398(392.71) | Grad Norm 2.5116(3.1865) | Total Time 10.00(10.00)\n",
      "Iter 1465 | Time 29.9579(28.4259) | Bit/dim 1.1537(1.1552) | Steps 398(392.87) | Grad Norm 4.1109(3.2142) | Total Time 10.00(10.00)\n",
      "Iter 1466 | Time 29.2549(28.4507) | Bit/dim 1.1420(1.1548) | Steps 392(392.84) | Grad Norm 2.6685(3.1978) | Total Time 10.00(10.00)\n",
      "Iter 1467 | Time 28.6042(28.4553) | Bit/dim 1.1415(1.1544) | Steps 386(392.64) | Grad Norm 1.8013(3.1559) | Total Time 10.00(10.00)\n",
      "Iter 1468 | Time 28.7426(28.4640) | Bit/dim 1.1434(1.1541) | Steps 398(392.80) | Grad Norm 1.7097(3.1126) | Total Time 10.00(10.00)\n",
      "Iter 1469 | Time 29.6862(28.5006) | Bit/dim 1.1318(1.1534) | Steps 392(392.78) | Grad Norm 1.7106(3.0705) | Total Time 10.00(10.00)\n",
      "validating...\n",
      "Epoch 0210 | Time 9.5381, Epoch Time 227.4778, Bit/dim 1.1211\n"
     ]
    },
    {
     "name": "stdout",
     "output_type": "stream",
     "text": [
      "do _generate\n",
      "do _generate\n",
      "do _generate\n",
      "do _generate\n",
      "do _generate\n",
      "do _generate\n",
      "do _generate\n",
      "do _generate\n"
     ]
    },
    {
     "name": "stderr",
     "output_type": "stream",
     "text": [
      "===> Using batch size 8000. Total 7 iterations/epoch.\n",
      "Iter 1470 | Time 28.5975(28.5035) | Bit/dim 1.1365(1.1529) | Steps 404(393.11) | Grad Norm 1.7944(3.0322) | Total Time 10.00(10.00)\n",
      "Iter 1471 | Time 30.1121(28.5518) | Bit/dim 1.1315(1.1523) | Steps 404(393.44) | Grad Norm 0.8139(2.9657) | Total Time 10.00(10.00)\n",
      "Iter 1472 | Time 29.0104(28.5655) | Bit/dim 1.1298(1.1516) | Steps 410(393.94) | Grad Norm 1.7311(2.9286) | Total Time 10.00(10.00)\n",
      "Iter 1473 | Time 27.4943(28.5334) | Bit/dim 1.1367(1.1511) | Steps 386(393.70) | Grad Norm 3.0498(2.9323) | Total Time 10.00(10.00)\n",
      "Iter 1474 | Time 28.0143(28.5178) | Bit/dim 1.1732(1.1518) | Steps 380(393.29) | Grad Norm 8.6624(3.1042) | Total Time 10.00(10.00)\n",
      "Iter 1475 | Time 27.9774(28.5016) | Bit/dim 1.3723(1.1584) | Steps 416(393.97) | Grad Norm 7.2790(3.2294) | Total Time 10.00(10.00)\n",
      "Iter 1476 | Time 29.0622(28.5184) | Bit/dim 1.2974(1.1626) | Steps 410(394.45) | Grad Norm 4.6705(3.2726) | Total Time 10.00(10.00)\n",
      "validating...\n",
      "Epoch 0211 | Time 8.9311, Epoch Time 221.5025, Bit/dim 1.2427\n"
     ]
    },
    {
     "name": "stdout",
     "output_type": "stream",
     "text": [
      "do _generate\n",
      "do _generate\n",
      "do _generate\n",
      "do _generate\n",
      "do _generate\n",
      "do _generate\n",
      "do _generate\n",
      "do _generate\n"
     ]
    },
    {
     "name": "stderr",
     "output_type": "stream",
     "text": [
      "===> Using batch size 8000. Total 7 iterations/epoch.\n",
      "Iter 1477 | Time 29.2493(28.5404) | Bit/dim 1.2585(1.1655) | Steps 392(394.38) | Grad Norm 4.4463(3.3079) | Total Time 10.00(10.00)\n",
      "Iter 1478 | Time 29.2179(28.5607) | Bit/dim 1.2492(1.1680) | Steps 386(394.12) | Grad Norm 5.1755(3.3639) | Total Time 10.00(10.00)\n",
      "Iter 1479 | Time 27.7472(28.5363) | Bit/dim 1.2122(1.1693) | Steps 392(394.06) | Grad Norm 2.1419(3.3272) | Total Time 10.00(10.00)\n",
      "Iter 1480 | Time 30.3108(28.5895) | Bit/dim 1.2596(1.1720) | Steps 410(394.54) | Grad Norm 5.2090(3.3837) | Total Time 10.00(10.00)\n",
      "Iter 1481 | Time 29.1916(28.6076) | Bit/dim 1.2261(1.1736) | Steps 410(395.00) | Grad Norm 2.5356(3.3582) | Total Time 10.00(10.00)\n",
      "Iter 1482 | Time 29.8117(28.6437) | Bit/dim 1.2312(1.1754) | Steps 392(394.91) | Grad Norm 2.3939(3.3293) | Total Time 10.00(10.00)\n",
      "Iter 1483 | Time 27.9038(28.6215) | Bit/dim 1.1922(1.1759) | Steps 392(394.82) | Grad Norm 1.2599(3.2672) | Total Time 10.00(10.00)\n",
      "validating...\n",
      "Epoch 0212 | Time 9.1714, Epoch Time 224.7612, Bit/dim 1.1877\n"
     ]
    },
    {
     "name": "stdout",
     "output_type": "stream",
     "text": [
      "do _generate\n",
      "do _generate\n",
      "do _generate\n",
      "do _generate\n",
      "do _generate\n",
      "do _generate\n",
      "do _generate\n",
      "do _generate\n"
     ]
    },
    {
     "name": "stderr",
     "output_type": "stream",
     "text": [
      "===> Using batch size 8000. Total 7 iterations/epoch.\n",
      "Iter 1484 | Time 28.4217(28.6155) | Bit/dim 1.2009(1.1766) | Steps 398(394.92) | Grad Norm 2.0393(3.2304) | Total Time 10.00(10.00)\n",
      "Iter 1485 | Time 27.6297(28.5859) | Bit/dim 1.2035(1.1774) | Steps 392(394.83) | Grad Norm 1.8241(3.1882) | Total Time 10.00(10.00)\n",
      "Iter 1486 | Time 29.5103(28.6137) | Bit/dim 1.1857(1.1777) | Steps 404(395.11) | Grad Norm 1.8632(3.1485) | Total Time 10.00(10.00)\n",
      "Iter 1487 | Time 29.5284(28.6411) | Bit/dim 1.1877(1.1780) | Steps 410(395.55) | Grad Norm 2.9107(3.1413) | Total Time 10.00(10.00)\n",
      "Iter 1488 | Time 29.0275(28.6527) | Bit/dim 1.1888(1.1783) | Steps 404(395.81) | Grad Norm 3.5550(3.1537) | Total Time 10.00(10.00)\n",
      "Iter 1489 | Time 30.9327(28.7211) | Bit/dim 1.1666(1.1780) | Steps 422(396.59) | Grad Norm 1.6366(3.1082) | Total Time 10.00(10.00)\n",
      "Iter 1490 | Time 30.0528(28.7611) | Bit/dim 1.1660(1.1776) | Steps 410(397.00) | Grad Norm 2.6286(3.0938) | Total Time 10.00(10.00)\n",
      "validating...\n",
      "Epoch 0213 | Time 9.2302, Epoch Time 226.6318, Bit/dim 1.1665\n"
     ]
    },
    {
     "name": "stdout",
     "output_type": "stream",
     "text": [
      "do _generate\n",
      "do _generate\n",
      "do _generate\n",
      "do _generate\n",
      "do _generate\n",
      "do _generate\n",
      "do _generate\n",
      "do _generate\n"
     ]
    },
    {
     "name": "stderr",
     "output_type": "stream",
     "text": [
      "===> Using batch size 8000. Total 7 iterations/epoch.\n",
      "Iter 1491 | Time 28.7208(28.7598) | Bit/dim 1.1846(1.1778) | Steps 410(397.39) | Grad Norm 4.3794(3.1324) | Total Time 10.00(10.00)\n",
      "Iter 1492 | Time 29.2588(28.7748) | Bit/dim 1.1679(1.1775) | Steps 398(397.40) | Grad Norm 3.2767(3.1367) | Total Time 10.00(10.00)\n",
      "Iter 1493 | Time 28.6361(28.7707) | Bit/dim 1.1534(1.1768) | Steps 404(397.60) | Grad Norm 0.8723(3.0688) | Total Time 10.00(10.00)\n",
      "Iter 1494 | Time 27.9171(28.7451) | Bit/dim 1.1537(1.1761) | Steps 404(397.79) | Grad Norm 2.7930(3.0605) | Total Time 10.00(10.00)\n",
      "Iter 1495 | Time 28.9010(28.7497) | Bit/dim 1.1605(1.1756) | Steps 398(397.80) | Grad Norm 4.3777(3.1000) | Total Time 10.00(10.00)\n",
      "Iter 1496 | Time 28.3267(28.7370) | Bit/dim 1.1908(1.1761) | Steps 404(397.99) | Grad Norm 6.3165(3.1965) | Total Time 10.00(10.00)\n",
      "Iter 1497 | Time 28.6078(28.7332) | Bit/dim 1.1960(1.1767) | Steps 398(397.99) | Grad Norm 6.4128(3.2930) | Total Time 10.00(10.00)\n",
      "validating...\n",
      "Epoch 0214 | Time 9.0724, Epoch Time 221.6801, Bit/dim 1.1676\n"
     ]
    },
    {
     "name": "stdout",
     "output_type": "stream",
     "text": [
      "do _generate\n",
      "do _generate\n",
      "do _generate\n",
      "do _generate\n",
      "do _generate\n",
      "do _generate\n",
      "do _generate\n",
      "do _generate\n"
     ]
    },
    {
     "name": "stderr",
     "output_type": "stream",
     "text": [
      "===> Using batch size 8000. Total 7 iterations/epoch.\n",
      "Iter 1498 | Time 27.4044(28.6933) | Bit/dim 1.1859(1.1770) | Steps 392(397.81) | Grad Norm 3.5054(3.2994) | Total Time 10.00(10.00)\n",
      "Iter 1499 | Time 28.0822(28.6750) | Bit/dim 1.1669(1.1767) | Steps 380(397.27) | Grad Norm 2.4619(3.2743) | Total Time 10.00(10.00)\n",
      "Iter 1500 | Time 28.4251(28.6675) | Bit/dim 1.1727(1.1765) | Steps 392(397.11) | Grad Norm 4.2035(3.3021) | Total Time 10.00(10.00)\n",
      "Iter 1501 | Time 28.5131(28.6628) | Bit/dim 1.1511(1.1758) | Steps 392(396.96) | Grad Norm 1.7774(3.2564) | Total Time 10.00(10.00)\n",
      "Iter 1502 | Time 26.9338(28.6110) | Bit/dim 1.1599(1.1753) | Steps 380(396.45) | Grad Norm 3.2514(3.2562) | Total Time 10.00(10.00)\n",
      "Iter 1503 | Time 28.6657(28.6126) | Bit/dim 1.1749(1.1753) | Steps 392(396.32) | Grad Norm 4.9691(3.3076) | Total Time 10.00(10.00)\n",
      "Iter 1504 | Time 27.0735(28.5664) | Bit/dim 1.1497(1.1745) | Steps 380(395.83) | Grad Norm 2.7326(3.2904) | Total Time 10.00(10.00)\n",
      "validating...\n",
      "Epoch 0215 | Time 8.9819, Epoch Time 216.6149, Bit/dim 1.1365\n"
     ]
    },
    {
     "name": "stdout",
     "output_type": "stream",
     "text": [
      "do _generate\n",
      "do _generate\n",
      "do _generate\n",
      "do _generate\n",
      "do _generate\n",
      "do _generate\n",
      "do _generate\n",
      "do _generate\n"
     ]
    },
    {
     "name": "stderr",
     "output_type": "stream",
     "text": [
      "===> Using batch size 8000. Total 7 iterations/epoch.\n",
      "Iter 1505 | Time 29.1024(28.5825) | Bit/dim 1.1540(1.1739) | Steps 380(395.35) | Grad Norm 1.8744(3.2479) | Total Time 10.00(10.00)\n",
      "Iter 1506 | Time 29.3627(28.6059) | Bit/dim 1.1614(1.1735) | Steps 392(395.25) | Grad Norm 3.2893(3.2491) | Total Time 10.00(10.00)\n",
      "Iter 1507 | Time 29.7957(28.6416) | Bit/dim 1.1343(1.1724) | Steps 386(394.98) | Grad Norm 0.6504(3.1712) | Total Time 10.00(10.00)\n",
      "Iter 1508 | Time 27.4462(28.6058) | Bit/dim 1.1502(1.1717) | Steps 380(394.53) | Grad Norm 3.6841(3.1866) | Total Time 10.00(10.00)\n",
      "Iter 1509 | Time 28.2388(28.5947) | Bit/dim 1.1774(1.1719) | Steps 392(394.45) | Grad Norm 6.0536(3.2726) | Total Time 10.00(10.00)\n",
      "Iter 1510 | Time 28.1915(28.5826) | Bit/dim 1.1925(1.1725) | Steps 404(394.74) | Grad Norm 5.6093(3.3427) | Total Time 10.00(10.00)\n",
      "Iter 1511 | Time 30.1213(28.6288) | Bit/dim 1.1472(1.1717) | Steps 398(394.84) | Grad Norm 1.2696(3.2805) | Total Time 10.00(10.00)\n",
      "validating...\n",
      "Epoch 0216 | Time 8.8082, Epoch Time 223.1446, Bit/dim 1.1726\n"
     ]
    },
    {
     "name": "stdout",
     "output_type": "stream",
     "text": [
      "do _generate\n",
      "do _generate\n",
      "do _generate\n",
      "do _generate\n",
      "do _generate\n",
      "do _generate\n",
      "do _generate\n",
      "do _generate\n"
     ]
    },
    {
     "name": "stderr",
     "output_type": "stream",
     "text": [
      "===> Using batch size 8000. Total 7 iterations/epoch.\n",
      "Iter 1512 | Time 28.1233(28.6136) | Bit/dim 1.1856(1.1721) | Steps 386(394.57) | Grad Norm 5.0995(3.3351) | Total Time 10.00(10.00)\n",
      "Iter 1513 | Time 26.6761(28.5555) | Bit/dim 1.1567(1.1717) | Steps 380(394.13) | Grad Norm 1.9494(3.2935) | Total Time 10.00(10.00)\n",
      "Iter 1514 | Time 27.4180(28.5214) | Bit/dim 1.1675(1.1715) | Steps 386(393.89) | Grad Norm 3.6819(3.3051) | Total Time 10.00(10.00)\n",
      "Iter 1515 | Time 28.4701(28.5198) | Bit/dim 1.1634(1.1713) | Steps 392(393.83) | Grad Norm 3.2879(3.3046) | Total Time 10.00(10.00)\n",
      "Iter 1516 | Time 28.6179(28.5228) | Bit/dim 1.1439(1.1705) | Steps 392(393.78) | Grad Norm 1.7533(3.2581) | Total Time 10.00(10.00)\n",
      "Iter 1517 | Time 27.1591(28.4819) | Bit/dim 1.1595(1.1701) | Steps 392(393.72) | Grad Norm 3.1262(3.2541) | Total Time 10.00(10.00)\n",
      "Iter 1518 | Time 28.3667(28.4784) | Bit/dim 1.1391(1.1692) | Steps 398(393.85) | Grad Norm 1.4574(3.2002) | Total Time 10.00(10.00)\n",
      "validating...\n",
      "Epoch 0217 | Time 9.0020, Epoch Time 216.2598, Bit/dim 1.1402\n"
     ]
    },
    {
     "name": "stdout",
     "output_type": "stream",
     "text": [
      "do _generate\n",
      "do _generate\n",
      "do _generate\n",
      "do _generate\n",
      "do _generate\n",
      "do _generate\n",
      "do _generate\n",
      "do _generate\n"
     ]
    },
    {
     "name": "stderr",
     "output_type": "stream",
     "text": [
      "===> Using batch size 8000. Total 7 iterations/epoch.\n",
      "Iter 1519 | Time 28.6491(28.4835) | Bit/dim 1.1514(1.1687) | Steps 392(393.80) | Grad Norm 2.8188(3.1888) | Total Time 10.00(10.00)\n",
      "Iter 1520 | Time 28.8976(28.4960) | Bit/dim 1.1401(1.1678) | Steps 392(393.74) | Grad Norm 1.6871(3.1437) | Total Time 10.00(10.00)\n",
      "Iter 1521 | Time 28.1032(28.4842) | Bit/dim 1.1437(1.1671) | Steps 380(393.33) | Grad Norm 2.0740(3.1116) | Total Time 10.00(10.00)\n",
      "Iter 1522 | Time 28.7822(28.4931) | Bit/dim 1.1500(1.1666) | Steps 398(393.47) | Grad Norm 3.5698(3.1254) | Total Time 10.00(10.00)\n",
      "Iter 1523 | Time 27.6129(28.4667) | Bit/dim 1.1514(1.1661) | Steps 404(393.79) | Grad Norm 4.0640(3.1535) | Total Time 10.00(10.00)\n",
      "Iter 1524 | Time 29.3902(28.4944) | Bit/dim 1.1385(1.1653) | Steps 398(393.91) | Grad Norm 2.1828(3.1244) | Total Time 10.00(10.00)\n",
      "Iter 1525 | Time 28.9978(28.5095) | Bit/dim 1.1352(1.1644) | Steps 398(394.04) | Grad Norm 1.7800(3.0841) | Total Time 10.00(10.00)\n",
      "validating...\n",
      "Epoch 0218 | Time 9.0189, Epoch Time 221.6394, Bit/dim 1.1304\n"
     ]
    },
    {
     "name": "stdout",
     "output_type": "stream",
     "text": [
      "do _generate\n",
      "do _generate\n",
      "do _generate\n",
      "do _generate\n",
      "do _generate\n",
      "do _generate\n",
      "do _generate\n",
      "do _generate\n"
     ]
    },
    {
     "name": "stderr",
     "output_type": "stream",
     "text": [
      "===> Using batch size 8000. Total 7 iterations/epoch.\n",
      "Iter 1526 | Time 28.2048(28.5004) | Bit/dim 1.1440(1.1638) | Steps 398(394.15) | Grad Norm 3.6785(3.1019) | Total Time 10.00(10.00)\n",
      "Iter 1527 | Time 29.1984(28.5213) | Bit/dim 1.1443(1.1632) | Steps 398(394.27) | Grad Norm 3.9639(3.1278) | Total Time 10.00(10.00)\n",
      "Iter 1528 | Time 29.2499(28.5432) | Bit/dim 1.1492(1.1628) | Steps 398(394.38) | Grad Norm 3.7553(3.1466) | Total Time 10.00(10.00)\n",
      "Iter 1529 | Time 29.3906(28.5686) | Bit/dim 1.1317(1.1619) | Steps 404(394.67) | Grad Norm 2.2352(3.1193) | Total Time 10.00(10.00)\n",
      "Iter 1530 | Time 28.6116(28.5699) | Bit/dim 1.1320(1.1610) | Steps 404(394.95) | Grad Norm 1.0658(3.0577) | Total Time 10.00(10.00)\n",
      "Iter 1531 | Time 27.7842(28.5463) | Bit/dim 1.1317(1.1601) | Steps 398(395.04) | Grad Norm 2.7227(3.0476) | Total Time 10.00(10.00)\n",
      "Iter 1532 | Time 30.1767(28.5952) | Bit/dim 1.1505(1.1598) | Steps 392(394.95) | Grad Norm 4.9547(3.1048) | Total Time 10.00(10.00)\n",
      "validating...\n",
      "Epoch 0219 | Time 8.8355, Epoch Time 223.7444, Bit/dim 1.1803\n"
     ]
    },
    {
     "name": "stdout",
     "output_type": "stream",
     "text": [
      "do _generate\n",
      "do _generate\n",
      "do _generate\n",
      "do _generate\n",
      "do _generate\n",
      "do _generate\n",
      "do _generate\n",
      "do _generate\n"
     ]
    },
    {
     "name": "stderr",
     "output_type": "stream",
     "text": [
      "===> Using batch size 8000. Total 7 iterations/epoch.\n",
      "Iter 1533 | Time 29.9665(28.6364) | Bit/dim 1.1955(1.1609) | Steps 416(395.58) | Grad Norm 7.1950(3.2275) | Total Time 10.00(10.00)\n",
      "Iter 1534 | Time 28.6475(28.6367) | Bit/dim 1.1694(1.1611) | Steps 386(395.29) | Grad Norm 5.9044(3.3078) | Total Time 10.00(10.00)\n",
      "Iter 1535 | Time 29.0496(28.6491) | Bit/dim 1.1421(1.1605) | Steps 404(395.56) | Grad Norm 1.3341(3.2486) | Total Time 10.00(10.00)\n",
      "Iter 1536 | Time 28.3210(28.6392) | Bit/dim 1.1521(1.1603) | Steps 386(395.27) | Grad Norm 3.3846(3.2527) | Total Time 10.00(10.00)\n",
      "Iter 1537 | Time 28.8541(28.6457) | Bit/dim 1.1508(1.1600) | Steps 398(395.35) | Grad Norm 3.6404(3.2643) | Total Time 10.00(10.00)\n",
      "Iter 1538 | Time 27.8072(28.6205) | Bit/dim 1.1377(1.1593) | Steps 404(395.61) | Grad Norm 1.5440(3.2127) | Total Time 10.00(10.00)\n",
      "Iter 1539 | Time 27.5865(28.5895) | Bit/dim 1.1428(1.1588) | Steps 392(395.50) | Grad Norm 2.4944(3.1912) | Total Time 10.00(10.00)\n",
      "validating...\n",
      "Epoch 0220 | Time 9.1603, Epoch Time 221.5816, Bit/dim 1.1311\n"
     ]
    },
    {
     "name": "stdout",
     "output_type": "stream",
     "text": [
      "do _generate\n",
      "do _generate\n",
      "do _generate\n",
      "do _generate\n",
      "do _generate\n",
      "do _generate\n",
      "do _generate\n",
      "do _generate\n"
     ]
    },
    {
     "name": "stderr",
     "output_type": "stream",
     "text": [
      "===> Using batch size 8000. Total 7 iterations/epoch.\n",
      "Iter 1540 | Time 28.6369(28.5909) | Bit/dim 1.1448(1.1584) | Steps 392(395.40) | Grad Norm 3.2274(3.1923) | Total Time 10.00(10.00)\n",
      "Iter 1541 | Time 26.9280(28.5411) | Bit/dim 1.1389(1.1578) | Steps 380(394.94) | Grad Norm 1.6972(3.1474) | Total Time 10.00(10.00)\n",
      "Iter 1542 | Time 28.8553(28.5505) | Bit/dim 1.1340(1.1571) | Steps 398(395.03) | Grad Norm 1.2552(3.0906) | Total Time 10.00(10.00)\n",
      "Iter 1543 | Time 28.1873(28.5396) | Bit/dim 1.1416(1.1567) | Steps 386(394.76) | Grad Norm 2.9446(3.0863) | Total Time 10.00(10.00)\n",
      "Iter 1544 | Time 29.3469(28.5638) | Bit/dim 1.1372(1.1561) | Steps 398(394.85) | Grad Norm 2.8022(3.0777) | Total Time 10.00(10.00)\n",
      "Iter 1545 | Time 28.7443(28.5692) | Bit/dim 1.1277(1.1552) | Steps 392(394.77) | Grad Norm 1.6667(3.0354) | Total Time 10.00(10.00)\n",
      "Iter 1546 | Time 29.7976(28.6061) | Bit/dim 1.1245(1.1543) | Steps 398(394.86) | Grad Norm 0.9891(2.9740) | Total Time 10.00(10.00)\n",
      "validating...\n",
      "Epoch 0221 | Time 9.3084, Epoch Time 222.0861, Bit/dim 1.1105\n"
     ]
    },
    {
     "name": "stdout",
     "output_type": "stream",
     "text": [
      "do _generate\n",
      "do _generate\n",
      "do _generate\n",
      "do _generate\n",
      "do _generate\n",
      "do _generate\n",
      "do _generate\n",
      "do _generate\n"
     ]
    },
    {
     "name": "stderr",
     "output_type": "stream",
     "text": [
      "===> Using batch size 8000. Total 7 iterations/epoch.\n",
      "Iter 1547 | Time 31.2997(28.6869) | Bit/dim 1.1245(1.1534) | Steps 410(395.32) | Grad Norm 0.8402(2.9100) | Total Time 10.00(10.00)\n",
      "Iter 1548 | Time 28.7200(28.6879) | Bit/dim 1.1186(1.1524) | Steps 398(395.40) | Grad Norm 1.0579(2.8544) | Total Time 10.00(10.00)\n",
      "Iter 1549 | Time 28.8342(28.6923) | Bit/dim 1.1263(1.1516) | Steps 398(395.48) | Grad Norm 2.2289(2.8357) | Total Time 10.00(10.00)\n",
      "Iter 1550 | Time 29.3194(28.7111) | Bit/dim 1.1367(1.1511) | Steps 404(395.73) | Grad Norm 4.9781(2.8999) | Total Time 10.00(10.00)\n",
      "Iter 1551 | Time 29.0689(28.7218) | Bit/dim 1.2264(1.1534) | Steps 416(396.34) | Grad Norm 7.7567(3.0456) | Total Time 10.00(10.00)\n",
      "Iter 1552 | Time 29.2936(28.7390) | Bit/dim 1.1777(1.1541) | Steps 392(396.21) | Grad Norm 6.4803(3.1487) | Total Time 10.00(10.00)\n",
      "Iter 1553 | Time 27.1217(28.6904) | Bit/dim 1.1514(1.1540) | Steps 386(395.90) | Grad Norm 2.3146(3.1237) | Total Time 10.00(10.00)\n",
      "validating...\n",
      "Epoch 0222 | Time 9.1302, Epoch Time 224.8866, Bit/dim 1.1287\n"
     ]
    },
    {
     "name": "stdout",
     "output_type": "stream",
     "text": [
      "do _generate\n",
      "do _generate\n",
      "do _generate\n",
      "do _generate\n",
      "do _generate\n",
      "do _generate\n",
      "do _generate\n",
      "do _generate\n"
     ]
    },
    {
     "name": "stderr",
     "output_type": "stream",
     "text": [
      "===> Using batch size 8000. Total 7 iterations/epoch.\n",
      "Iter 1554 | Time 27.5233(28.6554) | Bit/dim 1.1442(1.1537) | Steps 392(395.79) | Grad Norm 2.1776(3.0953) | Total Time 10.00(10.00)\n",
      "Iter 1555 | Time 28.6347(28.6548) | Bit/dim 1.1658(1.1541) | Steps 392(395.67) | Grad Norm 5.2744(3.1607) | Total Time 10.00(10.00)\n",
      "Iter 1556 | Time 29.6870(28.6858) | Bit/dim 1.1870(1.1551) | Steps 404(395.92) | Grad Norm 5.4899(3.2305) | Total Time 10.00(10.00)\n",
      "Iter 1557 | Time 29.6566(28.7149) | Bit/dim 1.1479(1.1549) | Steps 392(395.81) | Grad Norm 2.1774(3.1989) | Total Time 10.00(10.00)\n",
      "Iter 1558 | Time 28.4031(28.7055) | Bit/dim 1.1611(1.1551) | Steps 392(395.69) | Grad Norm 4.0548(3.2246) | Total Time 10.00(10.00)\n",
      "Iter 1559 | Time 29.3674(28.7254) | Bit/dim 1.1562(1.1551) | Steps 398(395.76) | Grad Norm 3.2590(3.2256) | Total Time 10.00(10.00)\n",
      "Iter 1560 | Time 27.2910(28.6824) | Bit/dim 1.1634(1.1553) | Steps 386(395.47) | Grad Norm 2.8214(3.2135) | Total Time 10.00(10.00)\n",
      "validating...\n",
      "Epoch 0223 | Time 9.2651, Epoch Time 222.0522, Bit/dim 1.1334\n"
     ]
    },
    {
     "name": "stdout",
     "output_type": "stream",
     "text": [
      "do _generate\n",
      "do _generate\n",
      "do _generate\n",
      "do _generate\n",
      "do _generate\n",
      "do _generate\n",
      "do _generate\n",
      "do _generate\n"
     ]
    },
    {
     "name": "stderr",
     "output_type": "stream",
     "text": [
      "===> Using batch size 8000. Total 7 iterations/epoch.\n",
      "Iter 1561 | Time 28.8380(28.6870) | Bit/dim 1.1475(1.1551) | Steps 398(395.54) | Grad Norm 2.2614(3.1850) | Total Time 10.00(10.00)\n",
      "Iter 1562 | Time 29.1132(28.6998) | Bit/dim 1.1535(1.1551) | Steps 404(395.80) | Grad Norm 2.7317(3.1714) | Total Time 10.00(10.00)\n",
      "Iter 1563 | Time 28.9927(28.7086) | Bit/dim 1.1473(1.1548) | Steps 386(395.50) | Grad Norm 2.5965(3.1541) | Total Time 10.00(10.00)\n",
      "Iter 1564 | Time 28.6686(28.7074) | Bit/dim 1.1375(1.1543) | Steps 398(395.58) | Grad Norm 1.7516(3.1120) | Total Time 10.00(10.00)\n",
      "Iter 1565 | Time 29.9487(28.7447) | Bit/dim 1.1395(1.1539) | Steps 410(396.01) | Grad Norm 1.5421(3.0649) | Total Time 10.00(10.00)\n",
      "Iter 1566 | Time 27.5900(28.7100) | Bit/dim 1.1444(1.1536) | Steps 392(395.89) | Grad Norm 2.9955(3.0629) | Total Time 10.00(10.00)\n",
      "Iter 1567 | Time 31.0947(28.7816) | Bit/dim 1.1360(1.1530) | Steps 410(396.31) | Grad Norm 2.6836(3.0515) | Total Time 10.00(10.00)\n",
      "validating...\n",
      "Epoch 0224 | Time 9.0517, Epoch Time 225.4901, Bit/dim 1.1267\n"
     ]
    },
    {
     "name": "stdout",
     "output_type": "stream",
     "text": [
      "do _generate\n",
      "do _generate\n",
      "do _generate\n",
      "do _generate\n",
      "do _generate\n",
      "do _generate\n",
      "do _generate\n",
      "do _generate\n"
     ]
    },
    {
     "name": "stderr",
     "output_type": "stream",
     "text": [
      "===> Using batch size 8000. Total 7 iterations/epoch.\n",
      "Iter 1568 | Time 27.7714(28.7512) | Bit/dim 1.1369(1.1526) | Steps 404(396.54) | Grad Norm 2.4544(3.0336) | Total Time 10.00(10.00)\n",
      "Iter 1569 | Time 28.5203(28.7443) | Bit/dim 1.1310(1.1519) | Steps 404(396.77) | Grad Norm 2.2077(3.0088) | Total Time 10.00(10.00)\n",
      "Iter 1570 | Time 28.5786(28.7393) | Bit/dim 1.1346(1.1514) | Steps 398(396.81) | Grad Norm 2.8617(3.0044) | Total Time 10.00(10.00)\n",
      "Iter 1571 | Time 29.5729(28.7644) | Bit/dim 1.1367(1.1510) | Steps 404(397.02) | Grad Norm 4.2877(3.0429) | Total Time 10.00(10.00)\n",
      "Iter 1572 | Time 30.0604(28.8032) | Bit/dim 1.1813(1.1519) | Steps 416(397.59) | Grad Norm 5.8238(3.1263) | Total Time 10.00(10.00)\n",
      "Iter 1573 | Time 30.7629(28.8620) | Bit/dim 1.1563(1.1520) | Steps 392(397.42) | Grad Norm 5.0803(3.1849) | Total Time 10.00(10.00)\n",
      "Iter 1574 | Time 27.2666(28.8142) | Bit/dim 1.1433(1.1517) | Steps 392(397.26) | Grad Norm 2.7053(3.1705) | Total Time 10.00(10.00)\n",
      "validating...\n",
      "Epoch 0225 | Time 9.5959, Epoch Time 224.2318, Bit/dim 1.1176\n"
     ]
    },
    {
     "name": "stdout",
     "output_type": "stream",
     "text": [
      "do _generate\n",
      "do _generate\n",
      "do _generate\n",
      "do _generate\n",
      "do _generate\n",
      "do _generate\n",
      "do _generate\n",
      "do _generate\n"
     ]
    },
    {
     "name": "stderr",
     "output_type": "stream",
     "text": [
      "===> Using batch size 8000. Total 7 iterations/epoch.\n",
      "Iter 1575 | Time 29.0274(28.8206) | Bit/dim 1.1296(1.1511) | Steps 392(397.10) | Grad Norm 1.1301(3.1093) | Total Time 10.00(10.00)\n",
      "Iter 1576 | Time 29.5496(28.8424) | Bit/dim 1.1424(1.1508) | Steps 398(397.13) | Grad Norm 3.6181(3.1246) | Total Time 10.00(10.00)\n",
      "Iter 1577 | Time 29.1451(28.8515) | Bit/dim 1.1636(1.1512) | Steps 416(397.70) | Grad Norm 5.3645(3.1918) | Total Time 10.00(10.00)\n",
      "Iter 1578 | Time 30.7697(28.9091) | Bit/dim 1.1380(1.1508) | Steps 398(397.70) | Grad Norm 3.2071(3.1922) | Total Time 10.00(10.00)\n",
      "Iter 1579 | Time 29.9470(28.9402) | Bit/dim 1.1273(1.1501) | Steps 392(397.53) | Grad Norm 1.1689(3.1315) | Total Time 10.00(10.00)\n",
      "Iter 1580 | Time 27.0513(28.8835) | Bit/dim 1.1349(1.1496) | Steps 386(397.19) | Grad Norm 2.9545(3.1262) | Total Time 10.00(10.00)\n",
      "Iter 1581 | Time 28.4044(28.8692) | Bit/dim 1.1397(1.1493) | Steps 398(397.21) | Grad Norm 2.7127(3.1138) | Total Time 10.00(10.00)\n",
      "validating...\n",
      "Epoch 0226 | Time 9.3684, Epoch Time 225.6215, Bit/dim 1.1097\n"
     ]
    },
    {
     "name": "stdout",
     "output_type": "stream",
     "text": [
      "do _generate\n",
      "do _generate\n",
      "do _generate\n",
      "do _generate\n",
      "do _generatedo _generate\n",
      "\n",
      "do _generate\n",
      "do _generate\n"
     ]
    },
    {
     "name": "stderr",
     "output_type": "stream",
     "text": [
      "===> Using batch size 8000. Total 7 iterations/epoch.\n",
      "Iter 1582 | Time 29.5033(28.8882) | Bit/dim 1.1238(1.1486) | Steps 416(397.78) | Grad Norm 0.9525(3.0490) | Total Time 10.00(10.00)\n",
      "Iter 1583 | Time 29.3917(28.9033) | Bit/dim 1.1294(1.1480) | Steps 404(397.96) | Grad Norm 1.8443(3.0128) | Total Time 10.00(10.00)\n",
      "Iter 1584 | Time 28.8075(28.9004) | Bit/dim 1.1256(1.1473) | Steps 404(398.14) | Grad Norm 3.1287(3.0163) | Total Time 10.00(10.00)\n",
      "Iter 1585 | Time 28.3993(28.8854) | Bit/dim 1.1546(1.1476) | Steps 404(398.32) | Grad Norm 4.7087(3.0671) | Total Time 10.00(10.00)\n",
      "Iter 1586 | Time 30.3907(28.9305) | Bit/dim 1.1424(1.1474) | Steps 404(398.49) | Grad Norm 4.9554(3.1237) | Total Time 10.00(10.00)\n",
      "Iter 1587 | Time 28.1128(28.9060) | Bit/dim 1.1499(1.1475) | Steps 404(398.65) | Grad Norm 3.9404(3.1482) | Total Time 10.00(10.00)\n",
      "Iter 1588 | Time 28.9673(28.9078) | Bit/dim 1.1334(1.1470) | Steps 404(398.82) | Grad Norm 1.6518(3.1033) | Total Time 10.00(10.00)\n",
      "validating...\n",
      "Epoch 0227 | Time 9.4823, Epoch Time 225.2339, Bit/dim 1.1185\n"
     ]
    },
    {
     "name": "stdout",
     "output_type": "stream",
     "text": [
      "do _generate\n",
      "do _generate\n",
      "do _generate\n",
      "do _generate\n",
      "do _generate\n",
      "do _generate\n",
      "do _generate\n",
      "do _generate\n"
     ]
    },
    {
     "name": "stderr",
     "output_type": "stream",
     "text": [
      "===> Using batch size 8000. Total 7 iterations/epoch.\n",
      "Iter 1589 | Time 29.8867(28.9372) | Bit/dim 1.1304(1.1466) | Steps 410(399.15) | Grad Norm 2.7696(3.0933) | Total Time 10.00(10.00)\n",
      "Iter 1590 | Time 28.8866(28.9357) | Bit/dim 1.1627(1.1470) | Steps 416(399.66) | Grad Norm 5.2459(3.1579) | Total Time 10.00(10.00)\n",
      "Iter 1591 | Time 28.7301(28.9295) | Bit/dim 1.1435(1.1469) | Steps 398(399.61) | Grad Norm 4.5601(3.2000) | Total Time 10.00(10.00)\n",
      "Iter 1592 | Time 28.0967(28.9045) | Bit/dim 1.1243(1.1463) | Steps 398(399.56) | Grad Norm 1.7597(3.1568) | Total Time 10.00(10.00)\n",
      "Iter 1593 | Time 29.3319(28.9174) | Bit/dim 1.1291(1.1457) | Steps 404(399.69) | Grad Norm 1.7324(3.1140) | Total Time 10.00(10.00)\n",
      "Iter 1594 | Time 28.9429(28.9181) | Bit/dim 1.1387(1.1455) | Steps 404(399.82) | Grad Norm 3.6313(3.1296) | Total Time 10.00(10.00)\n",
      "Iter 1595 | Time 28.9627(28.9195) | Bit/dim 1.1393(1.1453) | Steps 416(400.31) | Grad Norm 3.5652(3.1426) | Total Time 10.00(10.00)\n",
      "validating...\n",
      "Epoch 0228 | Time 9.4789, Epoch Time 224.8373, Bit/dim 1.1140\n"
     ]
    },
    {
     "name": "stdout",
     "output_type": "stream",
     "text": [
      "do _generate\n",
      "do _generate\n",
      "do _generate\n",
      "do _generate\n",
      "do _generate\n",
      "do _generate\n",
      "do _generate\n",
      "do _generate\n"
     ]
    },
    {
     "name": "stderr",
     "output_type": "stream",
     "text": [
      "===> Using batch size 8000. Total 7 iterations/epoch.\n",
      "Iter 1596 | Time 28.5162(28.9074) | Bit/dim 1.1263(1.1448) | Steps 398(400.24) | Grad Norm 2.0823(3.1108) | Total Time 10.00(10.00)\n",
      "Iter 1597 | Time 28.6712(28.9003) | Bit/dim 1.1176(1.1440) | Steps 404(400.35) | Grad Norm 0.8671(3.0435) | Total Time 10.00(10.00)\n",
      "Iter 1598 | Time 28.8027(28.8974) | Bit/dim 1.1222(1.1433) | Steps 398(400.28) | Grad Norm 2.3280(3.0220) | Total Time 10.00(10.00)\n",
      "Iter 1599 | Time 29.0576(28.9022) | Bit/dim 1.1307(1.1429) | Steps 404(400.39) | Grad Norm 3.6487(3.0408) | Total Time 10.00(10.00)\n",
      "Iter 1600 | Time 28.6201(28.8937) | Bit/dim 1.1438(1.1430) | Steps 416(400.86) | Grad Norm 4.3357(3.0797) | Total Time 10.00(10.00)\n",
      "Iter 1601 | Time 30.8010(28.9509) | Bit/dim 1.1341(1.1427) | Steps 416(401.31) | Grad Norm 3.9094(3.1046) | Total Time 10.00(10.00)\n",
      "Iter 1602 | Time 30.0305(28.9833) | Bit/dim 1.1337(1.1424) | Steps 410(401.57) | Grad Norm 2.3053(3.0806) | Total Time 10.00(10.00)\n",
      "validating...\n",
      "Epoch 0229 | Time 9.4272, Epoch Time 226.1377, Bit/dim 1.1034\n"
     ]
    },
    {
     "name": "stdout",
     "output_type": "stream",
     "text": [
      "do _generate\n",
      "do _generate\n",
      "do _generate\n",
      "do _generate\n",
      "do _generate\n",
      "do _generate\n",
      "do _generate\n",
      "do _generate\n"
     ]
    },
    {
     "name": "stderr",
     "output_type": "stream",
     "text": [
      "===> Using batch size 8000. Total 7 iterations/epoch.\n",
      "Iter 1603 | Time 28.6459(28.9732) | Bit/dim 1.1192(1.1417) | Steps 404(401.65) | Grad Norm 0.4260(3.0010) | Total Time 10.00(10.00)\n",
      "Iter 1604 | Time 28.9924(28.9738) | Bit/dim 1.1255(1.1412) | Steps 404(401.72) | Grad Norm 2.5031(2.9860) | Total Time 10.00(10.00)\n",
      "Iter 1605 | Time 29.3358(28.9846) | Bit/dim 1.1347(1.1410) | Steps 416(402.15) | Grad Norm 4.1826(3.0219) | Total Time 10.00(10.00)\n",
      "Iter 1606 | Time 30.4097(29.0274) | Bit/dim 1.1388(1.1410) | Steps 410(402.38) | Grad Norm 5.5823(3.0987) | Total Time 10.00(10.00)\n",
      "Iter 1607 | Time 29.2237(29.0333) | Bit/dim 1.1724(1.1419) | Steps 416(402.79) | Grad Norm 5.0754(3.1580) | Total Time 10.00(10.00)\n",
      "Iter 1608 | Time 28.9760(29.0315) | Bit/dim 1.1343(1.1417) | Steps 404(402.83) | Grad Norm 1.4756(3.1076) | Total Time 10.00(10.00)\n",
      "Iter 1609 | Time 29.5115(29.0459) | Bit/dim 1.1632(1.1423) | Steps 392(402.50) | Grad Norm 6.9726(3.2235) | Total Time 10.00(10.00)\n",
      "validating...\n",
      "Epoch 0230 | Time 9.3469, Epoch Time 226.4412, Bit/dim 1.2263\n"
     ]
    },
    {
     "name": "stdout",
     "output_type": "stream",
     "text": [
      "do _generate\n",
      "do _generate\n",
      "do _generate\n",
      "do _generate\n",
      "do _generate\n",
      "do _generate\n",
      "do _generate\n",
      "do _generate\n"
     ]
    },
    {
     "name": "stderr",
     "output_type": "stream",
     "text": [
      "===> Using batch size 8000. Total 7 iterations/epoch.\n",
      "Iter 1610 | Time 30.1951(29.0804) | Bit/dim 1.2363(1.1452) | Steps 428(403.27) | Grad Norm 7.5642(3.3537) | Total Time 10.00(10.00)\n",
      "Iter 1611 | Time 29.0217(29.0787) | Bit/dim 1.1650(1.1457) | Steps 416(403.65) | Grad Norm 2.6746(3.3334) | Total Time 10.00(10.00)\n",
      "Iter 1612 | Time 30.7460(29.1287) | Bit/dim 1.1945(1.1472) | Steps 416(404.02) | Grad Norm 4.4802(3.3678) | Total Time 10.00(10.00)\n",
      "Iter 1613 | Time 29.6236(29.1435) | Bit/dim 1.1691(1.1479) | Steps 404(404.02) | Grad Norm 2.5843(3.3443) | Total Time 10.00(10.00)\n",
      "Iter 1614 | Time 31.2708(29.2073) | Bit/dim 1.1725(1.1486) | Steps 410(404.20) | Grad Norm 1.9007(3.3009) | Total Time 10.00(10.00)\n",
      "Iter 1615 | Time 28.4771(29.1854) | Bit/dim 1.1660(1.1491) | Steps 410(404.37) | Grad Norm 2.2177(3.2684) | Total Time 10.00(10.00)\n",
      "Iter 1616 | Time 29.3677(29.1909) | Bit/dim 1.1566(1.1494) | Steps 404(404.36) | Grad Norm 1.2653(3.2084) | Total Time 10.00(10.00)\n",
      "validating...\n",
      "Epoch 0231 | Time 9.1313, Epoch Time 230.2000, Bit/dim 1.1464\n"
     ]
    },
    {
     "name": "stdout",
     "output_type": "stream",
     "text": [
      "do _generate\n",
      "do _generate\n",
      "do _generate\n",
      "do _generatedo _generate\n",
      "\n",
      "do _generate\n",
      "do _generate\n",
      "do _generate\n"
     ]
    },
    {
     "name": "stderr",
     "output_type": "stream",
     "text": [
      "===> Using batch size 8000. Total 7 iterations/epoch.\n",
      "Iter 1617 | Time 31.9213(29.2728) | Bit/dim 1.1607(1.1497) | Steps 416(404.71) | Grad Norm 2.2296(3.1790) | Total Time 10.00(10.00)\n",
      "Iter 1618 | Time 29.3812(29.2761) | Bit/dim 1.1423(1.1495) | Steps 410(404.87) | Grad Norm 1.0869(3.1162) | Total Time 10.00(10.00)\n",
      "Iter 1619 | Time 29.4509(29.2813) | Bit/dim 1.1503(1.1495) | Steps 410(405.02) | Grad Norm 1.8959(3.0796) | Total Time 10.00(10.00)\n",
      "Iter 1620 | Time 29.5730(29.2901) | Bit/dim 1.1432(1.1493) | Steps 416(405.35) | Grad Norm 1.0853(3.0198) | Total Time 10.00(10.00)\n",
      "Iter 1621 | Time 29.2679(29.2894) | Bit/dim 1.1403(1.1490) | Steps 416(405.67) | Grad Norm 1.9715(2.9883) | Total Time 10.00(10.00)\n",
      "Iter 1622 | Time 31.1945(29.3465) | Bit/dim 1.1421(1.1488) | Steps 422(406.16) | Grad Norm 2.2087(2.9650) | Total Time 10.00(10.00)\n",
      "Iter 1623 | Time 29.5369(29.3523) | Bit/dim 1.1366(1.1485) | Steps 422(406.64) | Grad Norm 1.4362(2.9191) | Total Time 10.00(10.00)\n",
      "validating...\n",
      "Epoch 0232 | Time 9.4520, Epoch Time 231.9916, Bit/dim 1.1187\n"
     ]
    },
    {
     "name": "stdout",
     "output_type": "stream",
     "text": [
      "do _generate\n",
      "do _generate\n",
      "do _generate\n",
      "do _generate\n",
      "do _generate\n",
      "do _generate\n",
      "do _generate\n",
      "do _generate\n"
     ]
    },
    {
     "name": "stderr",
     "output_type": "stream",
     "text": [
      "===> Using batch size 8000. Total 7 iterations/epoch.\n",
      "Iter 1624 | Time 30.9228(29.3994) | Bit/dim 1.1371(1.1481) | Steps 422(407.10) | Grad Norm 2.0402(2.8927) | Total Time 10.00(10.00)\n",
      "Iter 1625 | Time 29.1620(29.3923) | Bit/dim 1.1442(1.1480) | Steps 404(407.00) | Grad Norm 3.7736(2.9191) | Total Time 10.00(10.00)\n",
      "Iter 1626 | Time 31.1564(29.4452) | Bit/dim 1.1497(1.1481) | Steps 398(406.73) | Grad Norm 5.3514(2.9921) | Total Time 10.00(10.00)\n",
      "Iter 1627 | Time 28.3589(29.4126) | Bit/dim 1.1843(1.1491) | Steps 410(406.83) | Grad Norm 5.4278(3.0652) | Total Time 10.00(10.00)\n",
      "Iter 1628 | Time 30.9766(29.4595) | Bit/dim 1.1318(1.1486) | Steps 422(407.29) | Grad Norm 1.3709(3.0144) | Total Time 10.00(10.00)\n",
      "Iter 1629 | Time 29.4730(29.4599) | Bit/dim 1.1600(1.1490) | Steps 422(407.73) | Grad Norm 5.4682(3.0880) | Total Time 10.00(10.00)\n",
      "Iter 1630 | Time 29.8193(29.4707) | Bit/dim 1.2100(1.1508) | Steps 422(408.16) | Grad Norm 5.4196(3.1579) | Total Time 10.00(10.00)\n",
      "validating...\n",
      "Epoch 0233 | Time 8.9698, Epoch Time 231.1416, Bit/dim 1.1594\n"
     ]
    },
    {
     "name": "stdout",
     "output_type": "stream",
     "text": [
      "do _generate\n",
      "do _generate\n",
      "do _generate\n",
      "do _generate\n",
      "do _generate\n",
      "do _generate\n",
      "do _generate\n",
      "do _generate\n"
     ]
    },
    {
     "name": "stderr",
     "output_type": "stream",
     "text": [
      "===> Using batch size 8000. Total 7 iterations/epoch.\n",
      "Iter 1631 | Time 30.4416(29.4998) | Bit/dim 1.1749(1.1515) | Steps 416(408.39) | Grad Norm 2.8864(3.1498) | Total Time 10.00(10.00)\n",
      "Iter 1632 | Time 32.0912(29.5776) | Bit/dim 1.1911(1.1527) | Steps 422(408.80) | Grad Norm 5.7611(3.2281) | Total Time 10.00(10.00)\n",
      "Iter 1633 | Time 29.4888(29.5749) | Bit/dim 1.1544(1.1528) | Steps 410(408.84) | Grad Norm 2.3615(3.2021) | Total Time 10.00(10.00)\n",
      "Iter 1634 | Time 28.5536(29.5443) | Bit/dim 1.1692(1.1532) | Steps 410(408.87) | Grad Norm 2.2996(3.1750) | Total Time 10.00(10.00)\n",
      "Iter 1635 | Time 29.1621(29.5328) | Bit/dim 1.1512(1.1532) | Steps 410(408.91) | Grad Norm 1.5340(3.1258) | Total Time 10.00(10.00)\n",
      "Iter 1636 | Time 30.2741(29.5550) | Bit/dim 1.1573(1.1533) | Steps 416(409.12) | Grad Norm 1.4199(3.0746) | Total Time 10.00(10.00)\n",
      "Iter 1637 | Time 31.5173(29.6139) | Bit/dim 1.1375(1.1528) | Steps 422(409.50) | Grad Norm 0.8313(3.0073) | Total Time 10.00(10.00)\n",
      "validating...\n",
      "Epoch 0234 | Time 8.9883, Epoch Time 232.7228, Bit/dim 1.1347\n"
     ]
    },
    {
     "name": "stdout",
     "output_type": "stream",
     "text": [
      "do _generate\n",
      "do _generate\n",
      "do _generate\n",
      "do _generate\n",
      "do _generate\n",
      "do _generate\n",
      "do _generate\n",
      "do _generate\n"
     ]
    },
    {
     "name": "stderr",
     "output_type": "stream",
     "text": [
      "===> Using batch size 8000. Total 7 iterations/epoch.\n",
      "Iter 1638 | Time 29.0335(29.5965) | Bit/dim 1.1451(1.1526) | Steps 410(409.52) | Grad Norm 1.4216(2.9598) | Total Time 10.00(10.00)\n",
      "Iter 1639 | Time 28.8244(29.5733) | Bit/dim 1.1385(1.1522) | Steps 404(409.35) | Grad Norm 1.0942(2.9038) | Total Time 10.00(10.00)\n",
      "Iter 1640 | Time 29.1101(29.5594) | Bit/dim 1.1369(1.1517) | Steps 410(409.37) | Grad Norm 1.0108(2.8470) | Total Time 10.00(10.00)\n",
      "Iter 1641 | Time 31.1247(29.6064) | Bit/dim 1.1449(1.1515) | Steps 410(409.39) | Grad Norm 2.0215(2.8222) | Total Time 10.00(10.00)\n",
      "Iter 1642 | Time 28.9866(29.5878) | Bit/dim 1.1377(1.1511) | Steps 398(409.05) | Grad Norm 2.9567(2.8263) | Total Time 10.00(10.00)\n",
      "Iter 1643 | Time 28.7202(29.5618) | Bit/dim 1.1509(1.1511) | Steps 404(408.90) | Grad Norm 4.5891(2.8792) | Total Time 10.00(10.00)\n",
      "Iter 1644 | Time 29.3313(29.5549) | Bit/dim 1.1596(1.1514) | Steps 410(408.93) | Grad Norm 5.6632(2.9627) | Total Time 10.00(10.00)\n",
      "validating...\n",
      "Epoch 0235 | Time 9.2106, Epoch Time 226.5365, Bit/dim 1.1465\n"
     ]
    },
    {
     "name": "stdout",
     "output_type": "stream",
     "text": [
      "do _generate\n",
      "do _generate\n",
      "do _generate\n",
      "do _generate\n",
      "do _generate\n",
      "do _generate\n",
      "do _generate\n",
      "do _generate\n"
     ]
    },
    {
     "name": "stderr",
     "output_type": "stream",
     "text": [
      "===> Using batch size 8000. Total 7 iterations/epoch.\n",
      "Iter 1645 | Time 27.1924(29.4840) | Bit/dim 1.1648(1.1518) | Steps 392(408.42) | Grad Norm 3.9593(2.9926) | Total Time 10.00(10.00)\n",
      "Iter 1646 | Time 29.1799(29.4749) | Bit/dim 1.1397(1.1514) | Steps 404(408.29) | Grad Norm 1.6068(2.9510) | Total Time 10.00(10.00)\n",
      "Iter 1647 | Time 31.2554(29.5283) | Bit/dim 1.1617(1.1517) | Steps 416(408.52) | Grad Norm 5.4293(3.0254) | Total Time 10.00(10.00)\n",
      "Iter 1648 | Time 28.3099(29.4917) | Bit/dim 1.1622(1.1520) | Steps 404(408.39) | Grad Norm 4.3830(3.0661) | Total Time 10.00(10.00)\n",
      "Iter 1649 | Time 29.8539(29.5026) | Bit/dim 1.1376(1.1516) | Steps 410(408.44) | Grad Norm 1.2050(3.0103) | Total Time 10.00(10.00)\n",
      "Iter 1650 | Time 29.5520(29.5041) | Bit/dim 1.1584(1.1518) | Steps 410(408.48) | Grad Norm 4.0955(3.0428) | Total Time 10.00(10.00)\n",
      "Iter 1651 | Time 29.4204(29.5016) | Bit/dim 1.1300(1.1511) | Steps 410(408.53) | Grad Norm 1.5703(2.9986) | Total Time 10.00(10.00)\n",
      "validating...\n",
      "Epoch 0236 | Time 9.1725, Epoch Time 226.3202, Bit/dim 1.1324\n"
     ]
    },
    {
     "name": "stdout",
     "output_type": "stream",
     "text": [
      "do _generate\n",
      "do _generate\n",
      "do _generate\n",
      "do _generatedo _generate\n",
      "do _generate\n",
      "do _generate\n",
      "do _generate\n",
      "\n"
     ]
    },
    {
     "name": "stderr",
     "output_type": "stream",
     "text": [
      "===> Using batch size 8000. Total 7 iterations/epoch.\n",
      "Iter 1652 | Time 29.2607(29.4943) | Bit/dim 1.1435(1.1509) | Steps 404(408.39) | Grad Norm 2.9604(2.9975) | Total Time 10.00(10.00)\n",
      "Iter 1653 | Time 29.1437(29.4838) | Bit/dim 1.1342(1.1504) | Steps 404(408.26) | Grad Norm 2.7223(2.9892) | Total Time 10.00(10.00)\n",
      "Iter 1654 | Time 29.2068(29.4755) | Bit/dim 1.1343(1.1499) | Steps 410(408.31) | Grad Norm 1.7662(2.9525) | Total Time 10.00(10.00)\n",
      "Iter 1655 | Time 28.0594(29.4330) | Bit/dim 1.1374(1.1495) | Steps 404(408.18) | Grad Norm 2.5611(2.9408) | Total Time 10.00(10.00)\n",
      "Iter 1656 | Time 30.0701(29.4521) | Bit/dim 1.1231(1.1488) | Steps 404(408.06) | Grad Norm 1.4393(2.8958) | Total Time 10.00(10.00)\n",
      "Iter 1657 | Time 30.6622(29.4884) | Bit/dim 1.1322(1.1483) | Steps 410(408.12) | Grad Norm 2.2077(2.8751) | Total Time 10.00(10.00)\n",
      "Iter 1658 | Time 29.3868(29.4854) | Bit/dim 1.1262(1.1476) | Steps 398(407.81) | Grad Norm 2.0999(2.8519) | Total Time 10.00(10.00)\n",
      "validating...\n",
      "Epoch 0237 | Time 9.5191, Epoch Time 227.4160, Bit/dim 1.1096\n"
     ]
    },
    {
     "name": "stdout",
     "output_type": "stream",
     "text": [
      "do _generate\n",
      "do _generate\n",
      "do _generate\n",
      "do _generate\n",
      "do _generate\n",
      "do _generate\n",
      "do _generate\n",
      "do _generate\n"
     ]
    },
    {
     "name": "stderr",
     "output_type": "stream",
     "text": [
      "===> Using batch size 8000. Total 7 iterations/epoch.\n",
      "Iter 1659 | Time 30.4066(29.5130) | Bit/dim 1.1213(1.1468) | Steps 410(407.88) | Grad Norm 1.6727(2.8165) | Total Time 10.00(10.00)\n",
      "Iter 1660 | Time 29.4039(29.5098) | Bit/dim 1.1224(1.1461) | Steps 410(407.94) | Grad Norm 1.2399(2.7692) | Total Time 10.00(10.00)\n",
      "Iter 1661 | Time 29.7601(29.5173) | Bit/dim 1.1212(1.1453) | Steps 416(408.18) | Grad Norm 1.8783(2.7425) | Total Time 10.00(10.00)\n",
      "Iter 1662 | Time 30.7202(29.5533) | Bit/dim 1.1261(1.1448) | Steps 428(408.78) | Grad Norm 3.2693(2.7583) | Total Time 10.00(10.00)\n",
      "Iter 1663 | Time 28.6168(29.5253) | Bit/dim 1.1436(1.1447) | Steps 404(408.63) | Grad Norm 4.7218(2.8172) | Total Time 10.00(10.00)\n",
      "Iter 1664 | Time 30.8571(29.5652) | Bit/dim 1.1623(1.1452) | Steps 416(408.86) | Grad Norm 7.6932(2.9635) | Total Time 10.00(10.00)\n",
      "Iter 1665 | Time 28.9521(29.5468) | Bit/dim 1.2436(1.1482) | Steps 416(409.07) | Grad Norm 6.8742(3.0808) | Total Time 10.00(10.00)\n",
      "validating...\n",
      "Epoch 0238 | Time 9.1057, Epoch Time 230.3743, Bit/dim 1.1597\n"
     ]
    },
    {
     "name": "stdout",
     "output_type": "stream",
     "text": [
      "do _generate\n",
      "do _generate\n",
      "do _generate\n",
      "do _generate\n",
      "do _generate\n",
      "do _generate\n",
      "do _generate\n",
      "do _generate\n"
     ]
    },
    {
     "name": "stderr",
     "output_type": "stream",
     "text": [
      "===> Using batch size 8000. Total 7 iterations/epoch.\n",
      "Iter 1666 | Time 27.7555(29.4931) | Bit/dim 1.1735(1.1490) | Steps 392(408.56) | Grad Norm 2.5687(3.0654) | Total Time 10.00(10.00)\n",
      "Iter 1667 | Time 31.5770(29.5556) | Bit/dim 1.1913(1.1502) | Steps 404(408.42) | Grad Norm 5.1434(3.1278) | Total Time 10.00(10.00)\n",
      "Iter 1668 | Time 30.1728(29.5741) | Bit/dim 1.1668(1.1507) | Steps 410(408.47) | Grad Norm 2.7043(3.1150) | Total Time 10.00(10.00)\n",
      "Iter 1669 | Time 27.4455(29.5103) | Bit/dim 1.1714(1.1513) | Steps 404(408.33) | Grad Norm 2.3863(3.0932) | Total Time 10.00(10.00)\n",
      "Iter 1670 | Time 29.1467(29.4993) | Bit/dim 1.1726(1.1520) | Steps 404(408.20) | Grad Norm 1.9543(3.0590) | Total Time 10.00(10.00)\n",
      "Iter 1671 | Time 29.4045(29.4965) | Bit/dim 1.1557(1.1521) | Steps 422(408.62) | Grad Norm 1.7412(3.0195) | Total Time 10.00(10.00)\n",
      "Iter 1672 | Time 30.4443(29.5249) | Bit/dim 1.1546(1.1522) | Steps 422(409.02) | Grad Norm 1.8926(2.9857) | Total Time 10.00(10.00)\n",
      "validating...\n",
      "Epoch 0239 | Time 9.2083, Epoch Time 227.4397, Bit/dim 1.1392\n"
     ]
    },
    {
     "name": "stdout",
     "output_type": "stream",
     "text": [
      "do _generate\n",
      "do _generate\n",
      "do _generate\n",
      "do _generate\n",
      "do _generate\n",
      "do _generate\n",
      "do _generate\n",
      "do _generate\n"
     ]
    },
    {
     "name": "stderr",
     "output_type": "stream",
     "text": [
      "===> Using batch size 8000. Total 7 iterations/epoch.\n",
      "Iter 1673 | Time 28.4802(29.4936) | Bit/dim 1.1531(1.1522) | Steps 422(409.41) | Grad Norm 1.6742(2.9463) | Total Time 10.00(10.00)\n",
      "Iter 1674 | Time 29.5919(29.4965) | Bit/dim 1.1475(1.1521) | Steps 422(409.79) | Grad Norm 1.4360(2.9010) | Total Time 10.00(10.00)\n",
      "Iter 1675 | Time 31.7142(29.5631) | Bit/dim 1.1442(1.1518) | Steps 416(409.97) | Grad Norm 1.9898(2.8737) | Total Time 10.00(10.00)\n",
      "Iter 1676 | Time 29.9497(29.5747) | Bit/dim 1.1430(1.1516) | Steps 428(410.51) | Grad Norm 2.1977(2.8534) | Total Time 10.00(10.00)\n",
      "Iter 1677 | Time 30.3108(29.5968) | Bit/dim 1.1367(1.1511) | Steps 434(411.22) | Grad Norm 2.2454(2.8352) | Total Time 10.00(10.00)\n",
      "Iter 1678 | Time 28.9839(29.5784) | Bit/dim 1.1370(1.1507) | Steps 422(411.54) | Grad Norm 2.3265(2.8199) | Total Time 10.00(10.00)\n",
      "Iter 1679 | Time 30.3100(29.6003) | Bit/dim 1.1373(1.1503) | Steps 428(412.04) | Grad Norm 2.8234(2.8200) | Total Time 10.00(10.00)\n",
      "validating...\n",
      "Epoch 0240 | Time 9.1859, Epoch Time 230.7537, Bit/dim 1.1253\n"
     ]
    },
    {
     "name": "stdout",
     "output_type": "stream",
     "text": [
      "do _generate\n",
      "do _generate\n",
      "do _generate\n",
      "do _generate\n",
      "do _generate\n",
      "do _generate\n",
      "do _generate\n",
      "do _generate\n"
     ]
    },
    {
     "name": "stderr",
     "output_type": "stream",
     "text": [
      "===> Using batch size 8000. Total 7 iterations/epoch.\n",
      "Iter 1680 | Time 29.2401(29.5895) | Bit/dim 1.1429(1.1501) | Steps 410(411.97) | Grad Norm 3.0941(2.8282) | Total Time 10.00(10.00)\n",
      "Iter 1681 | Time 30.8287(29.6267) | Bit/dim 1.1287(1.1494) | Steps 422(412.28) | Grad Norm 2.5278(2.8192) | Total Time 10.00(10.00)\n",
      "Iter 1682 | Time 31.3561(29.6786) | Bit/dim 1.1238(1.1487) | Steps 416(412.39) | Grad Norm 1.1369(2.7687) | Total Time 10.00(10.00)\n",
      "Iter 1683 | Time 30.0426(29.6895) | Bit/dim 1.1230(1.1479) | Steps 422(412.68) | Grad Norm 1.1846(2.7212) | Total Time 10.00(10.00)\n",
      "Iter 1684 | Time 30.4015(29.7108) | Bit/dim 1.1254(1.1472) | Steps 416(412.78) | Grad Norm 3.2946(2.7384) | Total Time 10.00(10.00)\n",
      "Iter 1685 | Time 29.1481(29.6940) | Bit/dim 1.1867(1.1484) | Steps 410(412.69) | Grad Norm 7.2325(2.8732) | Total Time 10.00(10.00)\n",
      "Iter 1686 | Time 31.7976(29.7571) | Bit/dim 1.2599(1.1517) | Steps 434(413.33) | Grad Norm 11.9207(3.1447) | Total Time 10.00(10.00)\n",
      "validating...\n",
      "Epoch 0241 | Time 9.1967, Epoch Time 234.7551, Bit/dim 1.3061\n"
     ]
    },
    {
     "name": "stdout",
     "output_type": "stream",
     "text": [
      "do _generate\n",
      "do _generate\n",
      "do _generate\n",
      "do _generate\n",
      "do _generate\n",
      "do _generate\n",
      "do _generate\n",
      "do _generate\n"
     ]
    },
    {
     "name": "stderr",
     "output_type": "stream",
     "text": [
      "===> Using batch size 8000. Total 7 iterations/epoch.\n",
      "Iter 1687 | Time 29.0315(29.7353) | Bit/dim 1.3225(1.1569) | Steps 410(413.23) | Grad Norm 6.0081(3.2306) | Total Time 10.00(10.00)\n",
      "Iter 1688 | Time 28.5082(29.6985) | Bit/dim 1.3485(1.1626) | Steps 410(413.13) | Grad Norm 4.1982(3.2596) | Total Time 10.00(10.00)\n",
      "Iter 1689 | Time 27.2306(29.6245) | Bit/dim 1.2653(1.1657) | Steps 398(412.68) | Grad Norm 2.2571(3.2295) | Total Time 10.00(10.00)\n",
      "Iter 1690 | Time 28.7984(29.5997) | Bit/dim 1.2544(1.1684) | Steps 404(412.42) | Grad Norm 2.9579(3.2214) | Total Time 10.00(10.00)\n",
      "Iter 1691 | Time 29.0512(29.5832) | Bit/dim 1.2456(1.1707) | Steps 404(412.17) | Grad Norm 2.0847(3.1873) | Total Time 10.00(10.00)\n",
      "Iter 1692 | Time 30.1136(29.5991) | Bit/dim 1.2622(1.1734) | Steps 422(412.46) | Grad Norm 1.7562(3.1443) | Total Time 10.00(10.00)\n",
      "Iter 1693 | Time 29.9430(29.6094) | Bit/dim 1.2803(1.1766) | Steps 422(412.75) | Grad Norm 4.0192(3.1706) | Total Time 10.00(10.00)\n",
      "validating...\n",
      "Epoch 0242 | Time 9.1002, Epoch Time 224.0735, Bit/dim 1.2190\n"
     ]
    },
    {
     "name": "stdout",
     "output_type": "stream",
     "text": [
      "do _generate\n",
      "do _generate\n",
      "do _generate\n",
      "do _generate\n",
      "do _generate\n",
      "do _generate\n",
      "do _generate\n",
      "do _generate\n"
     ]
    },
    {
     "name": "stderr",
     "output_type": "stream",
     "text": [
      "===> Using batch size 8000. Total 7 iterations/epoch.\n",
      "Iter 1694 | Time 30.0313(29.6221) | Bit/dim 1.2333(1.1783) | Steps 410(412.67) | Grad Norm 2.2019(3.1415) | Total Time 10.00(10.00)\n",
      "Iter 1695 | Time 29.8228(29.6281) | Bit/dim 1.2317(1.1799) | Steps 416(412.77) | Grad Norm 2.4041(3.1194) | Total Time 10.00(10.00)\n",
      "Iter 1696 | Time 30.1804(29.6447) | Bit/dim 1.2119(1.1809) | Steps 434(413.40) | Grad Norm 1.3129(3.0652) | Total Time 10.00(10.00)\n",
      "Iter 1697 | Time 28.7397(29.6175) | Bit/dim 1.2365(1.1826) | Steps 422(413.66) | Grad Norm 3.2356(3.0703) | Total Time 10.00(10.00)\n",
      "Iter 1698 | Time 30.7685(29.6521) | Bit/dim 1.2015(1.1831) | Steps 422(413.91) | Grad Norm 1.7338(3.0302) | Total Time 10.00(10.00)\n",
      "Iter 1699 | Time 30.2232(29.6692) | Bit/dim 1.1994(1.1836) | Steps 416(413.97) | Grad Norm 1.7669(2.9923) | Total Time 10.00(10.00)\n",
      "Iter 1700 | Time 29.9142(29.6766) | Bit/dim 1.2127(1.1845) | Steps 416(414.03) | Grad Norm 2.3680(2.9736) | Total Time 10.00(10.00)\n",
      "validating...\n",
      "Epoch 0243 | Time 9.1497, Epoch Time 230.7896, Bit/dim 1.1630\n"
     ]
    },
    {
     "name": "stdout",
     "output_type": "stream",
     "text": [
      "do _generate\n",
      "do _generate\n",
      "do _generate\n",
      "do _generate\n",
      "do _generate\n",
      "do _generate\n",
      "do _generate\n",
      "do _generate\n"
     ]
    },
    {
     "name": "stderr",
     "output_type": "stream",
     "text": [
      "===> Using batch size 8000. Total 7 iterations/epoch.\n",
      "Iter 1701 | Time 29.9931(29.6861) | Bit/dim 1.1786(1.1843) | Steps 416(414.09) | Grad Norm 1.0871(2.9170) | Total Time 10.00(10.00)\n",
      "Iter 1702 | Time 29.2047(29.6716) | Bit/dim 1.1862(1.1844) | Steps 404(413.79) | Grad Norm 3.1324(2.9235) | Total Time 10.00(10.00)\n",
      "Iter 1703 | Time 29.3974(29.6634) | Bit/dim 1.1686(1.1839) | Steps 416(413.86) | Grad Norm 0.7691(2.8588) | Total Time 10.00(10.00)\n",
      "Iter 1704 | Time 30.7093(29.6948) | Bit/dim 1.1809(1.1838) | Steps 410(413.74) | Grad Norm 1.8954(2.8299) | Total Time 10.00(10.00)\n",
      "Iter 1705 | Time 29.6223(29.6926) | Bit/dim 1.1551(1.1829) | Steps 416(413.81) | Grad Norm 1.3017(2.7841) | Total Time 10.00(10.00)\n",
      "Iter 1706 | Time 27.7553(29.6345) | Bit/dim 1.1574(1.1822) | Steps 398(413.33) | Grad Norm 2.0922(2.7633) | Total Time 10.00(10.00)\n",
      "Iter 1707 | Time 31.3121(29.6848) | Bit/dim 1.1596(1.1815) | Steps 416(413.41) | Grad Norm 1.1099(2.7137) | Total Time 10.00(10.00)\n",
      "validating...\n",
      "Epoch 0244 | Time 9.4542, Epoch Time 229.7385, Bit/dim 1.1400\n"
     ]
    },
    {
     "name": "stdout",
     "output_type": "stream",
     "text": [
      "do _generate\n",
      "do _generate\n",
      "do _generate\n",
      "do _generate\n",
      "do _generate\n",
      "do _generate\n",
      "do _generate\n",
      "do _generate\n"
     ]
    },
    {
     "name": "stderr",
     "output_type": "stream",
     "text": [
      "===> Using batch size 8000. Total 7 iterations/epoch.\n",
      "Iter 1708 | Time 29.7078(29.6855) | Bit/dim 1.1506(1.1806) | Steps 416(413.49) | Grad Norm 2.3869(2.7039) | Total Time 10.00(10.00)\n",
      "Iter 1709 | Time 28.7625(29.6578) | Bit/dim 1.1508(1.1797) | Steps 404(413.21) | Grad Norm 3.4503(2.7263) | Total Time 10.00(10.00)\n",
      "Iter 1710 | Time 30.3569(29.6788) | Bit/dim 1.1505(1.1788) | Steps 416(413.29) | Grad Norm 3.4358(2.7476) | Total Time 10.00(10.00)\n",
      "Iter 1711 | Time 28.3076(29.6376) | Bit/dim 1.1479(1.1779) | Steps 398(412.83) | Grad Norm 2.0170(2.7257) | Total Time 10.00(10.00)\n",
      "Iter 1712 | Time 29.4859(29.6331) | Bit/dim 1.1354(1.1766) | Steps 422(413.11) | Grad Norm 1.2644(2.6818) | Total Time 10.00(10.00)\n",
      "Iter 1713 | Time 28.7095(29.6054) | Bit/dim 1.1301(1.1752) | Steps 410(413.01) | Grad Norm 1.2475(2.6388) | Total Time 10.00(10.00)\n",
      "Iter 1714 | Time 27.4730(29.5414) | Bit/dim 1.1455(1.1743) | Steps 398(412.56) | Grad Norm 3.8904(2.6764) | Total Time 10.00(10.00)\n",
      "validating...\n",
      "Epoch 0245 | Time 9.1080, Epoch Time 224.2089, Bit/dim 1.2173\n"
     ]
    },
    {
     "name": "stdout",
     "output_type": "stream",
     "text": [
      "do _generate\n",
      "do _generate\n",
      "do _generate\n",
      "do _generate\n",
      "do _generate\n",
      "do _generate\n",
      "do _generate\n",
      "do _generate\n"
     ]
    },
    {
     "name": "stderr",
     "output_type": "stream",
     "text": [
      "===> Using batch size 8000. Total 7 iterations/epoch.\n",
      "Iter 1715 | Time 31.0911(29.5879) | Bit/dim 1.2299(1.1760) | Steps 428(413.03) | Grad Norm 9.8119(2.8904) | Total Time 10.00(10.00)\n",
      "Iter 1716 | Time 28.5012(29.5553) | Bit/dim 1.3748(1.1819) | Steps 398(412.58) | Grad Norm 9.2248(3.0805) | Total Time 10.00(10.00)\n",
      "Iter 1717 | Time 28.3242(29.5184) | Bit/dim 1.2913(1.1852) | Steps 404(412.32) | Grad Norm 3.7170(3.0996) | Total Time 10.00(10.00)\n",
      "Iter 1718 | Time 32.2741(29.6010) | Bit/dim 1.3379(1.1898) | Steps 446(413.33) | Grad Norm 4.9520(3.1551) | Total Time 10.00(10.00)\n",
      "Iter 1719 | Time 31.7065(29.6642) | Bit/dim 1.2700(1.1922) | Steps 446(414.31) | Grad Norm 3.5059(3.1656) | Total Time 10.00(10.00)\n",
      "Iter 1720 | Time 29.8118(29.6686) | Bit/dim 1.2374(1.1936) | Steps 422(414.54) | Grad Norm 2.6008(3.1487) | Total Time 10.00(10.00)\n",
      "Iter 1721 | Time 29.4578(29.6623) | Bit/dim 1.2463(1.1952) | Steps 422(414.76) | Grad Norm 1.9637(3.1132) | Total Time 10.00(10.00)\n",
      "validating...\n",
      "Epoch 0246 | Time 9.2587, Epoch Time 232.7696, Bit/dim 1.2384\n"
     ]
    },
    {
     "name": "stdout",
     "output_type": "stream",
     "text": [
      "do _generate\n",
      "do _generate\n",
      "do _generate\n",
      "do _generate\n",
      "do _generate\n",
      "do _generate\n",
      "do _generate\n",
      "do _generate\n"
     ]
    },
    {
     "name": "stderr",
     "output_type": "stream",
     "text": [
      "===> Using batch size 8000. Total 7 iterations/epoch.\n",
      "Iter 1722 | Time 31.5131(29.7178) | Bit/dim 1.2493(1.1968) | Steps 410(414.62) | Grad Norm 2.7166(3.1013) | Total Time 10.00(10.00)\n",
      "Iter 1723 | Time 28.7715(29.6894) | Bit/dim 1.2313(1.1978) | Steps 410(414.48) | Grad Norm 1.5328(3.0542) | Total Time 10.00(10.00)\n",
      "Iter 1724 | Time 28.6677(29.6588) | Bit/dim 1.2243(1.1986) | Steps 410(414.35) | Grad Norm 2.9082(3.0498) | Total Time 10.00(10.00)\n",
      "Iter 1725 | Time 29.8858(29.6656) | Bit/dim 1.1983(1.1986) | Steps 404(414.04) | Grad Norm 1.2384(2.9955) | Total Time 10.00(10.00)\n",
      "Iter 1726 | Time 27.9418(29.6139) | Bit/dim 1.1955(1.1985) | Steps 374(412.84) | Grad Norm 2.1418(2.9699) | Total Time 10.00(10.00)\n",
      "Iter 1727 | Time 26.6779(29.5258) | Bit/dim 1.1896(1.1982) | Steps 368(411.49) | Grad Norm 1.6910(2.9315) | Total Time 10.00(10.00)\n",
      "Iter 1728 | Time 28.3595(29.4908) | Bit/dim 1.1917(1.1980) | Steps 386(410.73) | Grad Norm 1.8555(2.8992) | Total Time 10.00(10.00)\n",
      "validating...\n",
      "Epoch 0247 | Time 8.7520, Epoch Time 222.8138, Bit/dim 1.1712\n"
     ]
    },
    {
     "name": "stdout",
     "output_type": "stream",
     "text": [
      "do _generate\n",
      "do _generate\n",
      "do _generate\n",
      "do _generate\n",
      "do _generate\n",
      "do _generate\n",
      "do _generate\n",
      "do _generate\n"
     ]
    },
    {
     "name": "stderr",
     "output_type": "stream",
     "text": [
      "===> Using batch size 8000. Total 7 iterations/epoch.\n",
      "Iter 1729 | Time 28.3606(29.4569) | Bit/dim 1.1821(1.1976) | Steps 386(409.98) | Grad Norm 2.8483(2.8977) | Total Time 10.00(10.00)\n",
      "Iter 1730 | Time 26.2577(29.3609) | Bit/dim 1.1961(1.1975) | Steps 368(408.73) | Grad Norm 4.0764(2.9331) | Total Time 10.00(10.00)\n",
      "Iter 1731 | Time 30.1849(29.3856) | Bit/dim 1.1823(1.1971) | Steps 386(408.04) | Grad Norm 4.3081(2.9743) | Total Time 10.00(10.00)\n",
      "Iter 1732 | Time 26.5687(29.3011) | Bit/dim 1.1823(1.1966) | Steps 374(407.02) | Grad Norm 3.7597(2.9979) | Total Time 10.00(10.00)\n",
      "Iter 1733 | Time 28.2306(29.2690) | Bit/dim 1.1627(1.1956) | Steps 392(406.57) | Grad Norm 1.9038(2.9650) | Total Time 10.00(10.00)\n",
      "Iter 1734 | Time 28.8110(29.2553) | Bit/dim 1.1517(1.1943) | Steps 392(406.13) | Grad Norm 1.7520(2.9287) | Total Time 10.00(10.00)\n",
      "Iter 1735 | Time 26.7233(29.1793) | Bit/dim 1.1615(1.1933) | Steps 374(405.17) | Grad Norm 3.5516(2.9473) | Total Time 10.00(10.00)\n",
      "validating...\n",
      "Epoch 0248 | Time 9.2441, Epoch Time 216.4028, Bit/dim 1.1595\n"
     ]
    },
    {
     "name": "stdout",
     "output_type": "stream",
     "text": [
      "do _generate\n",
      "do _generate\n",
      "do _generate\n",
      "do _generate\n",
      "do _generate\n",
      "do _generate\n",
      "do _generate\n",
      "do _generate\n"
     ]
    },
    {
     "name": "stderr",
     "output_type": "stream",
     "text": [
      "===> Using batch size 8000. Total 7 iterations/epoch.\n",
      "Iter 1736 | Time 28.7010(29.1650) | Bit/dim 1.1727(1.1927) | Steps 398(404.96) | Grad Norm 4.9188(3.0065) | Total Time 10.00(10.00)\n",
      "Iter 1737 | Time 26.2034(29.0761) | Bit/dim 1.1948(1.1927) | Steps 368(403.85) | Grad Norm 5.4782(3.0806) | Total Time 10.00(10.00)\n",
      "Iter 1738 | Time 28.8465(29.0692) | Bit/dim 1.1590(1.1917) | Steps 398(403.67) | Grad Norm 3.6090(3.0965) | Total Time 10.00(10.00)\n",
      "Iter 1739 | Time 28.7162(29.0586) | Bit/dim 1.1431(1.1903) | Steps 398(403.50) | Grad Norm 1.1664(3.0386) | Total Time 10.00(10.00)\n",
      "Iter 1740 | Time 26.6129(28.9853) | Bit/dim 1.1536(1.1892) | Steps 368(402.44) | Grad Norm 2.9736(3.0366) | Total Time 10.00(10.00)\n",
      "Iter 1741 | Time 28.8603(28.9815) | Bit/dim 1.1546(1.1881) | Steps 398(402.30) | Grad Norm 4.6378(3.0847) | Total Time 10.00(10.00)\n",
      "Iter 1742 | Time 26.4359(28.9052) | Bit/dim 1.1615(1.1873) | Steps 374(401.45) | Grad Norm 4.9632(3.1410) | Total Time 10.00(10.00)\n",
      "validating...\n",
      "Epoch 0249 | Time 9.1730, Epoch Time 215.6704, Bit/dim 1.1383\n"
     ]
    },
    {
     "name": "stdout",
     "output_type": "stream",
     "text": [
      "do _generate\n",
      "do _generate\n",
      "do _generate\n",
      "do _generate\n",
      "do _generate\n",
      "do _generate\n",
      "do _generate\n",
      "do _generate\n"
     ]
    },
    {
     "name": "stderr",
     "output_type": "stream",
     "text": [
      "===> Using batch size 8000. Total 7 iterations/epoch.\n",
      "Iter 1743 | Time 31.2356(28.9751) | Bit/dim 1.1521(1.1863) | Steps 398(401.35) | Grad Norm 4.2684(3.1748) | Total Time 10.00(10.00)\n",
      "Iter 1744 | Time 27.0104(28.9161) | Bit/dim 1.1501(1.1852) | Steps 368(400.35) | Grad Norm 3.4566(3.1833) | Total Time 10.00(10.00)\n",
      "Iter 1745 | Time 30.0844(28.9512) | Bit/dim 1.1361(1.1837) | Steps 404(400.46) | Grad Norm 2.1583(3.1525) | Total Time 10.00(10.00)\n",
      "Iter 1746 | Time 29.5963(28.9705) | Bit/dim 1.1273(1.1820) | Steps 404(400.57) | Grad Norm 0.5967(3.0759) | Total Time 10.00(10.00)\n",
      "Iter 1747 | Time 27.7191(28.9330) | Bit/dim 1.1370(1.1807) | Steps 392(400.31) | Grad Norm 2.1777(3.0489) | Total Time 10.00(10.00)\n",
      "Iter 1748 | Time 30.1649(28.9700) | Bit/dim 1.1463(1.1796) | Steps 404(400.42) | Grad Norm 4.3143(3.0869) | Total Time 10.00(10.00)\n",
      "Iter 1749 | Time 27.2943(28.9197) | Bit/dim 1.1745(1.1795) | Steps 386(399.99) | Grad Norm 6.0014(3.1743) | Total Time 10.00(10.00)\n",
      "validating...\n",
      "Epoch 0250 | Time 9.0530, Epoch Time 224.7249, Bit/dim 1.1448\n"
     ]
    },
    {
     "name": "stdout",
     "output_type": "stream",
     "text": [
      "do _generate\n",
      "do _generate\n",
      "do _generate\n",
      "do _generate\n",
      "do _generate\n",
      "do _generate\n",
      "do _generate\n",
      "do _generate\n"
     ]
    },
    {
     "name": "stderr",
     "output_type": "stream",
     "text": [
      "===> Using batch size 8000. Total 7 iterations/epoch.\n",
      "Iter 1750 | Time 29.7274(28.9439) | Bit/dim 1.1606(1.1789) | Steps 410(400.29) | Grad Norm 5.2735(3.2373) | Total Time 10.00(10.00)\n",
      "Iter 1751 | Time 29.2129(28.9520) | Bit/dim 1.1419(1.1778) | Steps 404(400.40) | Grad Norm 2.5004(3.2152) | Total Time 10.00(10.00)\n",
      "Iter 1752 | Time 29.9585(28.9822) | Bit/dim 1.1341(1.1765) | Steps 410(400.69) | Grad Norm 1.4025(3.1608) | Total Time 10.00(10.00)\n",
      "Iter 1753 | Time 29.0220(28.9834) | Bit/dim 1.1374(1.1753) | Steps 410(400.97) | Grad Norm 4.1584(3.1907) | Total Time 10.00(10.00)\n",
      "Iter 1754 | Time 27.8207(28.9485) | Bit/dim 1.1569(1.1748) | Steps 380(400.34) | Grad Norm 4.9852(3.2446) | Total Time 10.00(10.00)\n",
      "Iter 1755 | Time 29.4894(28.9647) | Bit/dim 1.1351(1.1736) | Steps 410(400.63) | Grad Norm 3.0324(3.2382) | Total Time 10.00(10.00)\n",
      "Iter 1756 | Time 30.7731(29.0190) | Bit/dim 1.1249(1.1721) | Steps 416(401.09) | Grad Norm 0.4408(3.1543) | Total Time 10.00(10.00)\n",
      "validating...\n",
      "Epoch 0251 | Time 9.2991, Epoch Time 227.4991, Bit/dim 1.1168\n"
     ]
    },
    {
     "name": "stdout",
     "output_type": "stream",
     "text": [
      "do _generate\n",
      "do _generate\n",
      "do _generate\n",
      "do _generate\n",
      "do _generate\n",
      "do _generate\n",
      "do _generate\n",
      "do _generate\n"
     ]
    },
    {
     "name": "stderr",
     "output_type": "stream",
     "text": [
      "===> Using batch size 8000. Total 7 iterations/epoch.\n",
      "Iter 1757 | Time 28.5865(29.0060) | Bit/dim 1.1277(1.1708) | Steps 398(401.00) | Grad Norm 2.4028(3.1317) | Total Time 10.00(10.00)\n",
      "Iter 1758 | Time 30.1162(29.0393) | Bit/dim 1.1371(1.1698) | Steps 410(401.27) | Grad Norm 3.4926(3.1426) | Total Time 10.00(10.00)\n",
      "Iter 1759 | Time 28.0100(29.0084) | Bit/dim 1.1332(1.1687) | Steps 398(401.17) | Grad Norm 2.9698(3.1374) | Total Time 10.00(10.00)\n",
      "Iter 1760 | Time 29.2071(29.0144) | Bit/dim 1.1211(1.1673) | Steps 398(401.07) | Grad Norm 1.5152(3.0887) | Total Time 10.00(10.00)\n",
      "Iter 1761 | Time 31.0056(29.0741) | Bit/dim 1.1194(1.1658) | Steps 404(401.16) | Grad Norm 0.6082(3.0143) | Total Time 10.00(10.00)\n",
      "Iter 1762 | Time 28.6426(29.0612) | Bit/dim 1.1263(1.1646) | Steps 398(401.07) | Grad Norm 2.6648(3.0038) | Total Time 10.00(10.00)\n",
      "Iter 1763 | Time 29.4905(29.0741) | Bit/dim 1.1482(1.1641) | Steps 410(401.33) | Grad Norm 5.9952(3.0936) | Total Time 10.00(10.00)\n",
      "validating...\n",
      "Epoch 0252 | Time 8.6494, Epoch Time 225.9707, Bit/dim 1.2172\n"
     ]
    },
    {
     "name": "stdout",
     "output_type": "stream",
     "text": [
      "do _generate\n",
      "do _generate\n",
      "do _generate\n",
      "do _generatedo _generate\n",
      "\n",
      "do _generate\n",
      "do _generate\n",
      "do _generate\n"
     ]
    },
    {
     "name": "stderr",
     "output_type": "stream",
     "text": [
      "===> Using batch size 8000. Total 7 iterations/epoch.\n",
      "Iter 1764 | Time 27.6985(29.0328) | Bit/dim 1.2302(1.1661) | Steps 374(400.51) | Grad Norm 7.1563(3.2154) | Total Time 10.00(10.00)\n",
      "Iter 1765 | Time 31.1231(29.0955) | Bit/dim 1.1357(1.1652) | Steps 410(400.80) | Grad Norm 1.6614(3.1688) | Total Time 10.00(10.00)\n",
      "Iter 1766 | Time 31.9301(29.1805) | Bit/dim 1.2164(1.1668) | Steps 434(401.79) | Grad Norm 7.2319(3.2907) | Total Time 10.00(10.00)\n",
      "Iter 1767 | Time 30.0880(29.2078) | Bit/dim 1.1988(1.1677) | Steps 416(402.22) | Grad Norm 5.7497(3.3645) | Total Time 10.00(10.00)\n",
      "Iter 1768 | Time 28.6180(29.1901) | Bit/dim 1.1703(1.1678) | Steps 392(401.91) | Grad Norm 3.5930(3.3713) | Total Time 10.00(10.00)\n",
      "Iter 1769 | Time 30.3717(29.2255) | Bit/dim 1.1978(1.1687) | Steps 422(402.52) | Grad Norm 4.9946(3.4200) | Total Time 10.00(10.00)\n",
      "Iter 1770 | Time 31.4300(29.2916) | Bit/dim 1.1682(1.1687) | Steps 416(402.92) | Grad Norm 2.2847(3.3860) | Total Time 10.00(10.00)\n",
      "validating...\n",
      "Epoch 0253 | Time 9.3991, Epoch Time 232.7201, Bit/dim 1.1504\n"
     ]
    },
    {
     "name": "stdout",
     "output_type": "stream",
     "text": [
      "do _generate\n",
      "do _generate\n",
      "do _generate\n",
      "do _generate\n",
      "do _generate\n",
      "do _generate\n",
      "do _generate\n",
      "do _generate\n"
     ]
    },
    {
     "name": "stderr",
     "output_type": "stream",
     "text": [
      "===> Using batch size 8000. Total 7 iterations/epoch.\n",
      "Iter 1771 | Time 29.6836(29.3034) | Bit/dim 1.1632(1.1685) | Steps 422(403.49) | Grad Norm 2.5284(3.3602) | Total Time 10.00(10.00)\n",
      "Iter 1772 | Time 29.4528(29.3079) | Bit/dim 1.1772(1.1688) | Steps 404(403.51) | Grad Norm 2.3065(3.3286) | Total Time 10.00(10.00)\n",
      "Iter 1773 | Time 31.6776(29.3790) | Bit/dim 1.1545(1.1683) | Steps 410(403.70) | Grad Norm 1.4320(3.2717) | Total Time 10.00(10.00)\n",
      "Iter 1774 | Time 31.9404(29.4558) | Bit/dim 1.1705(1.1684) | Steps 428(404.43) | Grad Norm 2.5537(3.2502) | Total Time 10.00(10.00)\n",
      "Iter 1775 | Time 31.4462(29.5155) | Bit/dim 1.1517(1.1679) | Steps 398(404.24) | Grad Norm 0.9086(3.1799) | Total Time 10.00(10.00)\n",
      "Iter 1776 | Time 30.5850(29.5476) | Bit/dim 1.1580(1.1676) | Steps 404(404.23) | Grad Norm 2.4241(3.1573) | Total Time 10.00(10.00)\n",
      "Iter 1777 | Time 30.6657(29.5812) | Bit/dim 1.1410(1.1668) | Steps 404(404.22) | Grad Norm 1.0044(3.0927) | Total Time 10.00(10.00)\n",
      "validating...\n",
      "Epoch 0254 | Time 9.1071, Epoch Time 236.8847, Bit/dim 1.1388\n"
     ]
    },
    {
     "name": "stdout",
     "output_type": "stream",
     "text": [
      "do _generate\n",
      "do _generate\n",
      "do _generate\n",
      "do _generate\n",
      "do _generate\n",
      "do _generate\n",
      "do _generate\n",
      "do _generate\n"
     ]
    },
    {
     "name": "stderr",
     "output_type": "stream",
     "text": [
      "===> Using batch size 8000. Total 7 iterations/epoch.\n",
      "Iter 1778 | Time 32.0071(29.6539) | Bit/dim 1.1435(1.1661) | Steps 428(404.94) | Grad Norm 2.2354(3.0670) | Total Time 10.00(10.00)\n",
      "Iter 1779 | Time 30.6511(29.6839) | Bit/dim 1.1417(1.1654) | Steps 410(405.09) | Grad Norm 1.2026(3.0110) | Total Time 10.00(10.00)\n",
      "Iter 1780 | Time 30.9248(29.7211) | Bit/dim 1.1460(1.1648) | Steps 410(405.24) | Grad Norm 1.8006(2.9747) | Total Time 10.00(10.00)\n",
      "Iter 1781 | Time 31.7997(29.7834) | Bit/dim 1.1362(1.1639) | Steps 416(405.56) | Grad Norm 1.7897(2.9392) | Total Time 10.00(10.00)\n",
      "Iter 1782 | Time 29.8663(29.7859) | Bit/dim 1.1436(1.1633) | Steps 410(405.69) | Grad Norm 1.9106(2.9083) | Total Time 10.00(10.00)\n",
      "Iter 1783 | Time 30.2543(29.8000) | Bit/dim 1.1294(1.1623) | Steps 410(405.82) | Grad Norm 0.7067(2.8423) | Total Time 10.00(10.00)\n",
      "Iter 1784 | Time 30.0824(29.8085) | Bit/dim 1.1378(1.1616) | Steps 410(405.95) | Grad Norm 1.1494(2.7915) | Total Time 10.00(10.00)\n",
      "validating...\n",
      "Epoch 0255 | Time 9.4290, Epoch Time 237.6578, Bit/dim 1.1167\n"
     ]
    },
    {
     "name": "stdout",
     "output_type": "stream",
     "text": [
      "do _generate\n",
      "do _generate\n",
      "do _generate\n",
      "do _generate\n",
      "do _generate\n",
      "do _generate\n",
      "do _generate\n",
      "do _generate\n"
     ]
    },
    {
     "name": "stderr",
     "output_type": "stream",
     "text": [
      "===> Using batch size 8000. Total 7 iterations/epoch.\n",
      "Iter 1785 | Time 30.1594(29.8190) | Bit/dim 1.1320(1.1607) | Steps 410(406.07) | Grad Norm 0.6421(2.7270) | Total Time 10.00(10.00)\n",
      "Iter 1786 | Time 31.0606(29.8562) | Bit/dim 1.1273(1.1597) | Steps 416(406.37) | Grad Norm 1.0911(2.6779) | Total Time 10.00(10.00)\n",
      "Iter 1787 | Time 32.6544(29.9402) | Bit/dim 1.1286(1.1588) | Steps 416(406.66) | Grad Norm 1.7333(2.6496) | Total Time 10.00(10.00)\n",
      "Iter 1788 | Time 31.6160(29.9904) | Bit/dim 1.1499(1.1585) | Steps 422(407.12) | Grad Norm 5.0609(2.7219) | Total Time 10.00(10.00)\n",
      "Iter 1789 | Time 31.4351(30.0338) | Bit/dim 1.2709(1.1619) | Steps 422(407.56) | Grad Norm 8.8883(2.9069) | Total Time 10.00(10.00)\n",
      "Iter 1790 | Time 34.1804(30.1582) | Bit/dim 1.2260(1.1638) | Steps 446(408.72) | Grad Norm 7.3821(3.0412) | Total Time 10.00(10.00)\n",
      "Iter 1791 | Time 35.7477(30.3259) | Bit/dim 1.1747(1.1641) | Steps 458(410.19) | Grad Norm 2.1422(3.0142) | Total Time 10.00(10.00)\n",
      "validating...\n",
      "Epoch 0256 | Time 9.7442, Epoch Time 249.0699, Bit/dim 1.1695\n"
     ]
    },
    {
     "name": "stdout",
     "output_type": "stream",
     "text": [
      "do _generate\n",
      "do _generate\n",
      "do _generate\n",
      "do _generate\n",
      "do _generate\n",
      "do _generate\n",
      "do _generate\n",
      "do _generate\n"
     ]
    },
    {
     "name": "stderr",
     "output_type": "stream",
     "text": [
      "===> Using batch size 8000. Total 7 iterations/epoch.\n",
      "Iter 1792 | Time 33.6720(30.4263) | Bit/dim 1.1856(1.1648) | Steps 440(411.09) | Grad Norm 3.5320(3.0297) | Total Time 10.00(10.00)\n",
      "Iter 1793 | Time 36.7793(30.6168) | Bit/dim 1.2210(1.1664) | Steps 476(413.04) | Grad Norm 5.9328(3.1168) | Total Time 10.00(10.00)\n",
      "Iter 1794 | Time 35.0682(30.7504) | Bit/dim 1.2229(1.1681) | Steps 452(414.21) | Grad Norm 3.8784(3.1397) | Total Time 10.00(10.00)\n",
      "Iter 1795 | Time 37.1723(30.9430) | Bit/dim 1.1939(1.1689) | Steps 476(416.06) | Grad Norm 2.4510(3.1190) | Total Time 10.00(10.00)\n",
      "Iter 1796 | Time 39.4067(31.1970) | Bit/dim 1.2186(1.1704) | Steps 494(418.40) | Grad Norm 3.4081(3.1277) | Total Time 10.00(10.00)\n",
      "Iter 1797 | Time 37.0469(31.3725) | Bit/dim 1.2031(1.1714) | Steps 470(419.95) | Grad Norm 1.5932(3.0817) | Total Time 10.00(10.00)\n",
      "Iter 1798 | Time 37.9036(31.5684) | Bit/dim 1.2084(1.1725) | Steps 458(421.09) | Grad Norm 1.7994(3.0432) | Total Time 10.00(10.00)\n",
      "validating...\n",
      "Epoch 0257 | Time 9.9477, Epoch Time 279.3835, Bit/dim 1.2005\n"
     ]
    },
    {
     "name": "stdout",
     "output_type": "stream",
     "text": [
      "do _generate\n",
      "do _generate\n",
      "do _generate\n",
      "do _generate\n",
      "do _generate\n",
      "do _generate\n",
      "do _generate\n",
      "do _generate\n"
     ]
    },
    {
     "name": "stderr",
     "output_type": "stream",
     "text": [
      "===> Using batch size 8000. Total 7 iterations/epoch.\n",
      "Iter 1799 | Time 38.9697(31.7904) | Bit/dim 1.2137(1.1737) | Steps 470(422.55) | Grad Norm 1.6497(3.0014) | Total Time 10.00(10.00)\n",
      "Iter 1800 | Time 39.2401(32.0139) | Bit/dim 1.2093(1.1748) | Steps 476(424.16) | Grad Norm 1.6142(2.9598) | Total Time 10.00(10.00)\n",
      "Iter 1801 | Time 38.9489(32.2220) | Bit/dim 1.1969(1.1755) | Steps 482(425.89) | Grad Norm 2.2829(2.9395) | Total Time 10.00(10.00)\n",
      "Iter 1802 | Time 36.6065(32.3535) | Bit/dim 1.2066(1.1764) | Steps 458(426.86) | Grad Norm 3.4858(2.9558) | Total Time 10.00(10.00)\n",
      "Iter 1803 | Time 37.7062(32.5141) | Bit/dim 1.2137(1.1775) | Steps 458(427.79) | Grad Norm 2.3323(2.9371) | Total Time 10.00(10.00)\n",
      "Iter 1804 | Time 38.6889(32.6993) | Bit/dim 1.1946(1.1780) | Steps 470(429.06) | Grad Norm 2.6023(2.9271) | Total Time 10.00(10.00)\n",
      "Iter 1805 | Time 38.0215(32.8590) | Bit/dim 1.2261(1.1795) | Steps 488(430.83) | Grad Norm 4.5529(2.9759) | Total Time 10.00(10.00)\n",
      "validating...\n",
      "Epoch 0258 | Time 9.9703, Epoch Time 290.4806, Bit/dim 1.1847\n"
     ]
    },
    {
     "name": "stdout",
     "output_type": "stream",
     "text": [
      "do _generate\n",
      "do _generate\n",
      "do _generate\n",
      "do _generate\n",
      "do _generate\n",
      "do _generate\n",
      "do _generate\n",
      "do _generate\n"
     ]
    },
    {
     "name": "stderr",
     "output_type": "stream",
     "text": [
      "===> Using batch size 8000. Total 7 iterations/epoch.\n",
      "Iter 1806 | Time 37.0760(32.9855) | Bit/dim 1.1980(1.1800) | Steps 470(432.00) | Grad Norm 2.5773(2.9639) | Total Time 10.00(10.00)\n",
      "Iter 1807 | Time 35.6977(33.0669) | Bit/dim 1.1990(1.1806) | Steps 452(432.60) | Grad Norm 1.6056(2.9232) | Total Time 10.00(10.00)\n",
      "Iter 1808 | Time 37.2380(33.1920) | Bit/dim 1.1735(1.1804) | Steps 464(433.54) | Grad Norm 1.3874(2.8771) | Total Time 10.00(10.00)\n",
      "Iter 1809 | Time 33.6341(33.2053) | Bit/dim 1.1989(1.1809) | Steps 446(433.92) | Grad Norm 4.1637(2.9157) | Total Time 10.00(10.00)\n",
      "Iter 1810 | Time 32.6208(33.1877) | Bit/dim 1.2236(1.1822) | Steps 428(433.74) | Grad Norm 5.5469(2.9946) | Total Time 10.00(10.00)\n",
      "Iter 1811 | Time 33.4559(33.1958) | Bit/dim 1.2062(1.1829) | Steps 428(433.57) | Grad Norm 3.9933(3.0246) | Total Time 10.00(10.00)\n",
      "Iter 1812 | Time 31.5326(33.1459) | Bit/dim 1.1736(1.1827) | Steps 428(433.40) | Grad Norm 1.4068(2.9761) | Total Time 10.00(10.00)\n",
      "validating...\n",
      "Epoch 0259 | Time 9.1986, Epoch Time 262.8538, Bit/dim 1.1797\n"
     ]
    },
    {
     "name": "stdout",
     "output_type": "stream",
     "text": [
      "do _generatedo _generate\n",
      "do _generate\n",
      "\n",
      "do _generate\n",
      "do _generate\n",
      "do _generate\n",
      "do _generate\n",
      "do _generate\n"
     ]
    },
    {
     "name": "stderr",
     "output_type": "stream",
     "text": [
      "===> Using batch size 8000. Total 7 iterations/epoch.\n",
      "Iter 1813 | Time 34.5598(33.1883) | Bit/dim 1.1952(1.1830) | Steps 446(433.78) | Grad Norm 3.4291(2.9896) | Total Time 10.00(10.00)\n",
      "Iter 1814 | Time 30.8785(33.1190) | Bit/dim 1.1755(1.1828) | Steps 422(433.42) | Grad Norm 3.3112(2.9993) | Total Time 10.00(10.00)\n",
      "Iter 1815 | Time 31.9744(33.0847) | Bit/dim 1.1731(1.1825) | Steps 410(432.72) | Grad Norm 2.1992(2.9753) | Total Time 10.00(10.00)\n",
      "Iter 1816 | Time 33.3935(33.0939) | Bit/dim 1.1629(1.1819) | Steps 434(432.76) | Grad Norm 1.0477(2.9175) | Total Time 10.00(10.00)\n",
      "Iter 1817 | Time 32.2570(33.0688) | Bit/dim 1.1652(1.1814) | Steps 428(432.62) | Grad Norm 2.5619(2.9068) | Total Time 10.00(10.00)\n",
      "Iter 1818 | Time 32.0424(33.0380) | Bit/dim 1.1701(1.1811) | Steps 422(432.30) | Grad Norm 3.0617(2.9114) | Total Time 10.00(10.00)\n",
      "Iter 1819 | Time 33.9330(33.0649) | Bit/dim 1.1637(1.1806) | Steps 440(432.53) | Grad Norm 2.7882(2.9077) | Total Time 10.00(10.00)\n",
      "validating...\n",
      "Epoch 0260 | Time 9.2070, Epoch Time 250.7813, Bit/dim 1.1420\n"
     ]
    },
    {
     "name": "stdout",
     "output_type": "stream",
     "text": [
      "do _generate\n",
      "do _generate\n",
      "do _generate\n",
      "do _generate\n",
      "do _generate\n",
      "do _generate\n",
      "do _generate\n",
      "do _generate\n"
     ]
    },
    {
     "name": "stderr",
     "output_type": "stream",
     "text": [
      "===> Using batch size 8000. Total 7 iterations/epoch.\n",
      "Iter 1820 | Time 33.2071(33.0691) | Bit/dim 1.1551(1.1798) | Steps 428(432.39) | Grad Norm 2.3440(2.8908) | Total Time 10.00(10.00)\n",
      "Iter 1821 | Time 32.5338(33.0531) | Bit/dim 1.1515(1.1790) | Steps 440(432.62) | Grad Norm 1.9600(2.8629) | Total Time 10.00(10.00)\n",
      "Iter 1822 | Time 30.8223(32.9862) | Bit/dim 1.1548(1.1782) | Steps 404(431.76) | Grad Norm 2.5943(2.8549) | Total Time 10.00(10.00)\n",
      "Iter 1823 | Time 32.7828(32.9801) | Bit/dim 1.1639(1.1778) | Steps 434(431.83) | Grad Norm 5.0386(2.9204) | Total Time 10.00(10.00)\n",
      "Iter 1824 | Time 29.6775(32.8810) | Bit/dim 1.2250(1.1792) | Steps 410(431.18) | Grad Norm 5.9230(3.0104) | Total Time 10.00(10.00)\n",
      "Iter 1825 | Time 31.4988(32.8395) | Bit/dim 1.1549(1.1785) | Steps 422(430.90) | Grad Norm 1.3363(2.9602) | Total Time 10.00(10.00)\n",
      "Iter 1826 | Time 32.7018(32.8354) | Bit/dim 1.2272(1.1799) | Steps 434(430.99) | Grad Norm 9.4501(3.1549) | Total Time 10.00(10.00)\n",
      "validating...\n",
      "Epoch 0261 | Time 9.1408, Epoch Time 244.6009, Bit/dim 1.3142\n"
     ]
    },
    {
     "name": "stdout",
     "output_type": "stream",
     "text": [
      "do _generate\n",
      "do _generate\n",
      "do _generate\n",
      "do _generate\n",
      "do _generate\n",
      "do _generate\n",
      "do _generate\n",
      "do _generate\n"
     ]
    },
    {
     "name": "stderr",
     "output_type": "stream",
     "text": [
      "===> Using batch size 8000. Total 7 iterations/epoch.\n",
      "Iter 1827 | Time 31.9337(32.8083) | Bit/dim 1.3330(1.1845) | Steps 446(431.44) | Grad Norm 5.7451(3.2326) | Total Time 10.00(10.00)\n",
      "Iter 1828 | Time 32.4971(32.7990) | Bit/dim 1.3295(1.1889) | Steps 440(431.70) | Grad Norm 4.2349(3.2627) | Total Time 10.00(10.00)\n",
      "Iter 1829 | Time 34.4008(32.8471) | Bit/dim 1.2538(1.1908) | Steps 464(432.67) | Grad Norm 1.8323(3.2198) | Total Time 10.00(10.00)\n",
      "Iter 1830 | Time 34.8287(32.9065) | Bit/dim 1.2727(1.1933) | Steps 452(433.25) | Grad Norm 3.1244(3.2169) | Total Time 10.00(10.00)\n",
      "Iter 1831 | Time 34.1153(32.9428) | Bit/dim 1.2386(1.1946) | Steps 434(433.27) | Grad Norm 2.8927(3.2072) | Total Time 10.00(10.00)\n",
      "Iter 1832 | Time 34.3659(32.9855) | Bit/dim 1.2431(1.1961) | Steps 422(432.93) | Grad Norm 2.7445(3.1933) | Total Time 10.00(10.00)\n",
      "Iter 1833 | Time 31.9828(32.9554) | Bit/dim 1.2549(1.1979) | Steps 422(432.61) | Grad Norm 2.8173(3.1820) | Total Time 10.00(10.00)\n",
      "validating...\n",
      "Epoch 0262 | Time 9.5828, Epoch Time 255.9358, Bit/dim 1.2064\n"
     ]
    },
    {
     "name": "stdout",
     "output_type": "stream",
     "text": [
      "do _generate\n",
      "do _generate\n",
      "do _generate\n",
      "do _generate\n",
      "do _generate\n",
      "do _generate\n",
      "do _generate\n",
      "do _generate\n"
     ]
    },
    {
     "name": "stderr",
     "output_type": "stream",
     "text": [
      "===> Using batch size 8000. Total 7 iterations/epoch.\n",
      "Iter 1834 | Time 33.1992(32.9627) | Bit/dim 1.2221(1.1986) | Steps 458(433.37) | Grad Norm 2.0661(3.1485) | Total Time 10.00(10.00)\n",
      "Iter 1835 | Time 35.4420(33.0371) | Bit/dim 1.1997(1.1986) | Steps 476(434.65) | Grad Norm 1.2949(3.0929) | Total Time 10.00(10.00)\n",
      "Iter 1836 | Time 37.3673(33.1670) | Bit/dim 1.2213(1.1993) | Steps 488(436.25) | Grad Norm 1.7867(3.0538) | Total Time 10.00(10.00)\n",
      "Iter 1837 | Time 35.7334(33.2440) | Bit/dim 1.2000(1.1993) | Steps 464(437.08) | Grad Norm 1.5620(3.0090) | Total Time 10.00(10.00)\n",
      "Iter 1838 | Time 32.7273(33.2285) | Bit/dim 1.1809(1.1988) | Steps 434(436.99) | Grad Norm 1.2670(2.9567) | Total Time 10.00(10.00)\n",
      "Iter 1839 | Time 31.1051(33.1648) | Bit/dim 1.1875(1.1984) | Steps 416(436.36) | Grad Norm 0.9235(2.8957) | Total Time 10.00(10.00)\n",
      "Iter 1840 | Time 31.1926(33.1056) | Bit/dim 1.1764(1.1978) | Steps 422(435.93) | Grad Norm 1.6931(2.8597) | Total Time 10.00(10.00)\n",
      "validating...\n",
      "Epoch 0263 | Time 9.3747, Epoch Time 258.2521, Bit/dim 1.1612\n"
     ]
    },
    {
     "name": "stdout",
     "output_type": "stream",
     "text": [
      "do _generate\n",
      "do _generate\n",
      "do _generate\n",
      "do _generate\n",
      "do _generatedo _generate\n",
      "do _generate\n",
      "\n",
      "do _generate\n"
     ]
    },
    {
     "name": "stderr",
     "output_type": "stream",
     "text": [
      "===> Using batch size 8000. Total 7 iterations/epoch.\n",
      "Iter 1841 | Time 31.8441(33.0678) | Bit/dim 1.1731(1.1970) | Steps 434(435.87) | Grad Norm 2.4684(2.8479) | Total Time 10.00(10.00)\n",
      "Iter 1842 | Time 33.8218(33.0904) | Bit/dim 1.1777(1.1965) | Steps 458(436.53) | Grad Norm 2.7588(2.8452) | Total Time 10.00(10.00)\n",
      "Iter 1843 | Time 31.5894(33.0454) | Bit/dim 1.1710(1.1957) | Steps 440(436.64) | Grad Norm 1.8613(2.8157) | Total Time 10.00(10.00)\n",
      "Iter 1844 | Time 33.7351(33.0660) | Bit/dim 1.1606(1.1946) | Steps 434(436.56) | Grad Norm 1.4750(2.7755) | Total Time 10.00(10.00)\n",
      "Iter 1845 | Time 32.6602(33.0539) | Bit/dim 1.1621(1.1937) | Steps 446(436.84) | Grad Norm 2.6462(2.7716) | Total Time 10.00(10.00)\n",
      "Iter 1846 | Time 32.7326(33.0442) | Bit/dim 1.1756(1.1931) | Steps 434(436.76) | Grad Norm 4.9018(2.8355) | Total Time 10.00(10.00)\n",
      "Iter 1847 | Time 32.4352(33.0260) | Bit/dim 1.2101(1.1936) | Steps 446(437.03) | Grad Norm 5.1273(2.9043) | Total Time 10.00(10.00)\n",
      "validating...\n",
      "Epoch 0264 | Time 9.3188, Epoch Time 250.2673, Bit/dim 1.1333\n"
     ]
    },
    {
     "name": "stdout",
     "output_type": "stream",
     "text": [
      "do _generate\n",
      "do _generate\n",
      "do _generate\n",
      "do _generate\n",
      "do _generate\n",
      "do _generate\n",
      "do _generate\n",
      "do _generate\n"
     ]
    },
    {
     "name": "stderr",
     "output_type": "stream",
     "text": [
      "===> Using batch size 8000. Total 7 iterations/epoch.\n",
      "Iter 1848 | Time 33.1360(33.0293) | Bit/dim 1.1485(1.1923) | Steps 440(437.12) | Grad Norm 0.7873(2.8408) | Total Time 10.00(10.00)\n",
      "Iter 1849 | Time 35.4324(33.1014) | Bit/dim 1.2292(1.1934) | Steps 458(437.75) | Grad Norm 8.7053(3.0167) | Total Time 10.00(10.00)\n",
      "Iter 1850 | Time 33.0273(33.0991) | Bit/dim 1.2808(1.1960) | Steps 452(438.18) | Grad Norm 5.4252(3.0890) | Total Time 10.00(10.00)\n",
      "Iter 1851 | Time 32.4716(33.0803) | Bit/dim 1.2818(1.1986) | Steps 440(438.23) | Grad Norm 3.7728(3.1095) | Total Time 10.00(10.00)\n",
      "Iter 1852 | Time 32.5149(33.0633) | Bit/dim 1.2319(1.1996) | Steps 464(439.00) | Grad Norm 2.3366(3.0863) | Total Time 10.00(10.00)\n",
      "Iter 1853 | Time 32.8138(33.0559) | Bit/dim 1.2320(1.2005) | Steps 446(439.21) | Grad Norm 3.0235(3.0844) | Total Time 10.00(10.00)\n",
      "Iter 1854 | Time 35.0895(33.1169) | Bit/dim 1.2199(1.2011) | Steps 458(439.78) | Grad Norm 3.3015(3.0909) | Total Time 10.00(10.00)\n",
      "validating...\n",
      "Epoch 0265 | Time 9.1095, Epoch Time 255.8139, Bit/dim 1.2033\n"
     ]
    },
    {
     "name": "stdout",
     "output_type": "stream",
     "text": [
      "do _generate\n",
      "do _generate\n",
      "do _generate\n",
      "do _generate\n",
      "do _generate\n",
      "do _generate\n",
      "do _generate\n",
      "do _generate\n"
     ]
    },
    {
     "name": "stderr",
     "output_type": "stream",
     "text": [
      "===> Using batch size 8000. Total 7 iterations/epoch.\n",
      "Iter 1855 | Time 32.6259(33.1021) | Bit/dim 1.2199(1.2017) | Steps 452(440.14) | Grad Norm 2.0482(3.0596) | Total Time 10.00(10.00)\n",
      "Iter 1856 | Time 32.8801(33.0955) | Bit/dim 1.2139(1.2021) | Steps 446(440.32) | Grad Norm 2.0874(3.0305) | Total Time 10.00(10.00)\n",
      "Iter 1857 | Time 32.5596(33.0794) | Bit/dim 1.2059(1.2022) | Steps 416(439.59) | Grad Norm 2.4090(3.0118) | Total Time 10.00(10.00)\n",
      "Iter 1858 | Time 34.0070(33.1072) | Bit/dim 1.1873(1.2017) | Steps 446(439.78) | Grad Norm 1.1491(2.9559) | Total Time 10.00(10.00)\n",
      "Iter 1859 | Time 33.4530(33.1176) | Bit/dim 1.1912(1.2014) | Steps 440(439.79) | Grad Norm 2.8427(2.9526) | Total Time 10.00(10.00)\n",
      "Iter 1860 | Time 31.3131(33.0635) | Bit/dim 1.1828(1.2009) | Steps 422(439.26) | Grad Norm 1.4975(2.9089) | Total Time 10.00(10.00)\n",
      "Iter 1861 | Time 34.0000(33.0916) | Bit/dim 1.1773(1.2001) | Steps 440(439.28) | Grad Norm 1.8676(2.8777) | Total Time 10.00(10.00)\n",
      "validating...\n",
      "Epoch 0266 | Time 9.3787, Epoch Time 252.4725, Bit/dim 1.1571\n"
     ]
    },
    {
     "name": "stdout",
     "output_type": "stream",
     "text": [
      "do _generate\n",
      "do _generate\n",
      "do _generate\n",
      "do _generate\n",
      "do _generate\n",
      "do _generate\n",
      "do _generate\n",
      "do _generate\n"
     ]
    },
    {
     "name": "stderr",
     "output_type": "stream",
     "text": [
      "===> Using batch size 8000. Total 7 iterations/epoch.\n",
      "Iter 1862 | Time 32.1341(33.0628) | Bit/dim 1.1702(1.1993) | Steps 440(439.30) | Grad Norm 1.5544(2.8380) | Total Time 10.00(10.00)\n",
      "Iter 1863 | Time 32.4939(33.0458) | Bit/dim 1.1678(1.1983) | Steps 440(439.32) | Grad Norm 1.8385(2.8080) | Total Time 10.00(10.00)\n",
      "Iter 1864 | Time 32.4094(33.0267) | Bit/dim 1.1599(1.1972) | Steps 440(439.34) | Grad Norm 1.6216(2.7724) | Total Time 10.00(10.00)\n",
      "Iter 1865 | Time 32.3333(33.0059) | Bit/dim 1.1539(1.1959) | Steps 422(438.82) | Grad Norm 1.2920(2.7280) | Total Time 10.00(10.00)\n",
      "Iter 1866 | Time 33.1238(33.0094) | Bit/dim 1.1486(1.1944) | Steps 446(439.04) | Grad Norm 1.1287(2.6800) | Total Time 10.00(10.00)\n",
      "Iter 1867 | Time 33.2977(33.0181) | Bit/dim 1.1532(1.1932) | Steps 446(439.24) | Grad Norm 1.0949(2.6324) | Total Time 10.00(10.00)\n",
      "Iter 1868 | Time 33.4197(33.0301) | Bit/dim 1.1453(1.1918) | Steps 446(439.45) | Grad Norm 1.0308(2.5844) | Total Time 10.00(10.00)\n",
      "validating...\n",
      "Epoch 0267 | Time 9.3261, Epoch Time 250.8210, Bit/dim 1.1273\n"
     ]
    },
    {
     "name": "stdout",
     "output_type": "stream",
     "text": [
      "do _generate\n",
      "do _generate\n",
      "do _generate\n",
      "do _generate\n",
      "do _generate\n",
      "do _generate\n",
      "do _generate\n",
      "do _generate\n"
     ]
    },
    {
     "name": "stderr",
     "output_type": "stream",
     "text": [
      "===> Using batch size 8000. Total 7 iterations/epoch.\n",
      "Iter 1869 | Time 32.2168(33.0057) | Bit/dim 1.1396(1.1902) | Steps 440(439.46) | Grad Norm 1.2027(2.5429) | Total Time 10.00(10.00)\n",
      "Iter 1870 | Time 31.9186(32.9731) | Bit/dim 1.1391(1.1887) | Steps 440(439.48) | Grad Norm 0.9472(2.4951) | Total Time 10.00(10.00)\n",
      "Iter 1871 | Time 32.1754(32.9492) | Bit/dim 1.1396(1.1872) | Steps 440(439.50) | Grad Norm 2.2490(2.4877) | Total Time 10.00(10.00)\n",
      "Iter 1872 | Time 30.4318(32.8736) | Bit/dim 1.1541(1.1862) | Steps 428(439.15) | Grad Norm 4.3904(2.5448) | Total Time 10.00(10.00)\n",
      "Iter 1873 | Time 33.4152(32.8899) | Bit/dim 1.2104(1.1869) | Steps 440(439.18) | Grad Norm 9.4692(2.7525) | Total Time 10.00(10.00)\n",
      "Iter 1874 | Time 30.3204(32.8128) | Bit/dim 1.3074(1.1905) | Steps 422(438.66) | Grad Norm 6.7086(2.8712) | Total Time 10.00(10.00)\n",
      "Iter 1875 | Time 31.7340(32.7804) | Bit/dim 1.2684(1.1929) | Steps 434(438.52) | Grad Norm 3.5637(2.8920) | Total Time 10.00(10.00)\n",
      "validating...\n",
      "Epoch 0268 | Time 9.5240, Epoch Time 244.0603, Bit/dim 1.2277\n"
     ]
    },
    {
     "name": "stdout",
     "output_type": "stream",
     "text": [
      "do _generate\n",
      "do _generate\n",
      "do _generate\n",
      "do _generate\n",
      "do _generate\n",
      "do _generate\n",
      "do _generate\n",
      "do _generate\n"
     ]
    },
    {
     "name": "stderr",
     "output_type": "stream",
     "text": [
      "===> Using batch size 8000. Total 7 iterations/epoch.\n",
      "Iter 1876 | Time 35.3227(32.8567) | Bit/dim 1.2437(1.1944) | Steps 458(439.11) | Grad Norm 3.0392(2.8964) | Total Time 10.00(10.00)\n",
      "Iter 1877 | Time 34.7963(32.9149) | Bit/dim 1.2515(1.1961) | Steps 470(440.03) | Grad Norm 4.1811(2.9349) | Total Time 10.00(10.00)\n",
      "Iter 1878 | Time 33.8021(32.9415) | Bit/dim 1.1978(1.1962) | Steps 464(440.75) | Grad Norm 2.4794(2.9213) | Total Time 10.00(10.00)\n",
      "Iter 1879 | Time 34.3256(32.9830) | Bit/dim 1.2071(1.1965) | Steps 452(441.09) | Grad Norm 1.8190(2.8882) | Total Time 10.00(10.00)\n",
      "Iter 1880 | Time 30.9502(32.9220) | Bit/dim 1.2119(1.1970) | Steps 434(440.88) | Grad Norm 2.2862(2.8701) | Total Time 10.00(10.00)\n",
      "Iter 1881 | Time 35.7253(33.0061) | Bit/dim 1.2093(1.1973) | Steps 458(441.39) | Grad Norm 1.6104(2.8323) | Total Time 10.00(10.00)\n",
      "Iter 1882 | Time 33.9228(33.0336) | Bit/dim 1.1966(1.1973) | Steps 458(441.89) | Grad Norm 2.0653(2.8093) | Total Time 10.00(10.00)\n",
      "validating...\n",
      "Epoch 0269 | Time 9.6498, Epoch Time 260.8657, Bit/dim 1.1560\n"
     ]
    },
    {
     "name": "stdout",
     "output_type": "stream",
     "text": [
      "do _generate\n",
      "do _generate\n",
      "do _generate\n",
      "do _generate\n",
      "do _generate\n",
      "do _generate\n",
      "do _generate\n",
      "do _generate\n"
     ]
    },
    {
     "name": "stderr",
     "output_type": "stream",
     "text": [
      "===> Using batch size 8000. Total 7 iterations/epoch.\n",
      "Iter 1883 | Time 33.1951(33.0385) | Bit/dim 1.1729(1.1966) | Steps 452(442.19) | Grad Norm 1.0268(2.7559) | Total Time 10.00(10.00)\n",
      "Iter 1884 | Time 33.5689(33.0544) | Bit/dim 1.1856(1.1962) | Steps 452(442.49) | Grad Norm 1.7341(2.7252) | Total Time 10.00(10.00)\n",
      "Iter 1885 | Time 35.0949(33.1156) | Bit/dim 1.1687(1.1954) | Steps 470(443.31) | Grad Norm 0.9766(2.6727) | Total Time 10.00(10.00)\n",
      "Iter 1886 | Time 33.9525(33.1407) | Bit/dim 1.1699(1.1946) | Steps 452(443.57) | Grad Norm 1.7970(2.6465) | Total Time 10.00(10.00)\n",
      "Iter 1887 | Time 35.1327(33.2005) | Bit/dim 1.1700(1.1939) | Steps 452(443.82) | Grad Norm 1.4839(2.6116) | Total Time 10.00(10.00)\n",
      "Iter 1888 | Time 30.2833(33.1130) | Bit/dim 1.1591(1.1929) | Steps 428(443.35) | Grad Norm 2.1603(2.5981) | Total Time 10.00(10.00)\n",
      "Iter 1889 | Time 33.3057(33.1187) | Bit/dim 1.1544(1.1917) | Steps 446(443.43) | Grad Norm 2.0551(2.5818) | Total Time 10.00(10.00)\n",
      "validating...\n",
      "Epoch 0270 | Time 9.3402, Epoch Time 256.4937, Bit/dim 1.1351\n"
     ]
    },
    {
     "name": "stdout",
     "output_type": "stream",
     "text": [
      "do _generate\n",
      "do _generate\n",
      "do _generate\n",
      "do _generate\n",
      "do _generate\n",
      "do _generate\n",
      "do _generate\n",
      "do _generate\n"
     ]
    },
    {
     "name": "stderr",
     "output_type": "stream",
     "text": [
      "===> Using batch size 8000. Total 7 iterations/epoch.\n",
      "Iter 1890 | Time 33.1354(33.1192) | Bit/dim 1.1512(1.1905) | Steps 446(443.51) | Grad Norm 1.0071(2.5345) | Total Time 10.00(10.00)\n",
      "Iter 1891 | Time 34.3378(33.1558) | Bit/dim 1.1397(1.1890) | Steps 440(443.40) | Grad Norm 0.8642(2.4844) | Total Time 10.00(10.00)\n",
      "Iter 1892 | Time 33.5906(33.1689) | Bit/dim 1.1409(1.1875) | Steps 434(443.12) | Grad Norm 1.3076(2.4491) | Total Time 10.00(10.00)\n",
      "Iter 1893 | Time 32.5119(33.1491) | Bit/dim 1.1450(1.1863) | Steps 434(442.85) | Grad Norm 1.3639(2.4166) | Total Time 10.00(10.00)\n",
      "Iter 1894 | Time 32.6688(33.1347) | Bit/dim 1.1372(1.1848) | Steps 446(442.94) | Grad Norm 1.1365(2.3781) | Total Time 10.00(10.00)\n",
      "Iter 1895 | Time 33.5451(33.1470) | Bit/dim 1.1314(1.1832) | Steps 452(443.21) | Grad Norm 0.5271(2.3226) | Total Time 10.00(10.00)\n",
      "Iter 1896 | Time 33.0082(33.1429) | Bit/dim 1.1288(1.1815) | Steps 452(443.48) | Grad Norm 0.9589(2.2817) | Total Time 10.00(10.00)\n",
      "validating...\n",
      "Epoch 0271 | Time 9.2431, Epoch Time 254.4827, Bit/dim 1.1201\n"
     ]
    },
    {
     "name": "stdout",
     "output_type": "stream",
     "text": [
      "do _generate\n",
      "do _generate\n",
      "do _generate\n",
      "do _generate\n",
      "do _generate\n",
      "do _generate\n",
      "do _generate\n",
      "do _generate\n"
     ]
    },
    {
     "name": "stderr",
     "output_type": "stream",
     "text": [
      "===> Using batch size 8000. Total 7 iterations/epoch.\n",
      "Iter 1897 | Time 35.3887(33.2103) | Bit/dim 1.1372(1.1802) | Steps 464(444.09) | Grad Norm 2.5808(2.2907) | Total Time 10.00(10.00)\n",
      "Iter 1898 | Time 30.8416(33.1392) | Bit/dim 1.1794(1.1802) | Steps 428(443.61) | Grad Norm 6.3607(2.4128) | Total Time 10.00(10.00)\n",
      "Iter 1899 | Time 35.4387(33.2082) | Bit/dim 1.2648(1.1827) | Steps 470(444.40) | Grad Norm 11.8966(2.6973) | Total Time 10.00(10.00)\n",
      "Iter 1900 | Time 31.8255(33.1667) | Bit/dim 1.3330(1.1872) | Steps 428(443.91) | Grad Norm 5.9992(2.7964) | Total Time 10.00(10.00)\n",
      "Iter 1901 | Time 30.5844(33.0892) | Bit/dim 1.3710(1.1928) | Steps 410(442.89) | Grad Norm 3.5375(2.8186) | Total Time 10.00(10.00)\n",
      "Iter 1902 | Time 31.4863(33.0411) | Bit/dim 1.3133(1.1964) | Steps 440(442.80) | Grad Norm 2.2393(2.8012) | Total Time 10.00(10.00)\n",
      "Iter 1903 | Time 33.6869(33.0605) | Bit/dim 1.3137(1.1999) | Steps 458(443.26) | Grad Norm 2.5969(2.7951) | Total Time 10.00(10.00)\n",
      "validating...\n",
      "Epoch 0272 | Time 9.5460, Epoch Time 251.4046, Bit/dim 1.2647\n"
     ]
    },
    {
     "name": "stdout",
     "output_type": "stream",
     "text": [
      "do _generate\n",
      "do _generate\n",
      "do _generate\n",
      "do _generate\n",
      "do _generate\n",
      "do _generate\n",
      "do _generate\n",
      "do _generate\n"
     ]
    },
    {
     "name": "stderr",
     "output_type": "stream",
     "text": [
      "===> Using batch size 8000. Total 7 iterations/epoch.\n",
      "Iter 1904 | Time 36.4710(33.1628) | Bit/dim 1.2795(1.2023) | Steps 458(443.70) | Grad Norm 2.6326(2.7902) | Total Time 10.00(10.00)\n",
      "Iter 1905 | Time 33.1979(33.1639) | Bit/dim 1.2356(1.2033) | Steps 458(444.13) | Grad Norm 1.4164(2.7490) | Total Time 10.00(10.00)\n",
      "Iter 1906 | Time 33.1801(33.1644) | Bit/dim 1.2513(1.2047) | Steps 458(444.55) | Grad Norm 1.6757(2.7168) | Total Time 10.00(10.00)\n",
      "Iter 1907 | Time 35.2668(33.2274) | Bit/dim 1.2638(1.2065) | Steps 470(445.31) | Grad Norm 2.1753(2.7005) | Total Time 10.00(10.00)\n",
      "Iter 1908 | Time 33.8630(33.2465) | Bit/dim 1.2628(1.2082) | Steps 452(445.51) | Grad Norm 1.7929(2.6733) | Total Time 10.00(10.00)\n",
      "Iter 1909 | Time 35.2893(33.3078) | Bit/dim 1.2460(1.2093) | Steps 452(445.71) | Grad Norm 1.7948(2.6470) | Total Time 10.00(10.00)\n",
      "Iter 1910 | Time 32.1259(33.2723) | Bit/dim 1.2259(1.2098) | Steps 440(445.54) | Grad Norm 1.3629(2.6084) | Total Time 10.00(10.00)\n",
      "validating...\n",
      "Epoch 0273 | Time 9.0046, Epoch Time 260.6312, Bit/dim 1.1888\n"
     ]
    },
    {
     "name": "stdout",
     "output_type": "stream",
     "text": [
      "do _generate\n",
      "do _generate\n",
      "do _generatedo _generate\n",
      "\n",
      "do _generate\n",
      "do _generate\n",
      "do _generate\n",
      "do _generate\n"
     ]
    },
    {
     "name": "stderr",
     "output_type": "stream",
     "text": [
      "===> Using batch size 8000. Total 7 iterations/epoch.\n",
      "Iter 1911 | Time 33.1774(33.2695) | Bit/dim 1.2036(1.2096) | Steps 446(445.55) | Grad Norm 0.7267(2.5520) | Total Time 10.00(10.00)\n",
      "Iter 1912 | Time 35.6426(33.3407) | Bit/dim 1.2072(1.2096) | Steps 434(445.20) | Grad Norm 1.8913(2.5322) | Total Time 10.00(10.00)\n",
      "Iter 1913 | Time 34.0716(33.3626) | Bit/dim 1.2071(1.2095) | Steps 464(445.77) | Grad Norm 2.1356(2.5203) | Total Time 10.00(10.00)\n",
      "Iter 1914 | Time 33.5541(33.3684) | Bit/dim 1.1907(1.2089) | Steps 464(446.31) | Grad Norm 1.1412(2.4789) | Total Time 10.00(10.00)\n",
      "Iter 1915 | Time 35.5585(33.4341) | Bit/dim 1.1915(1.2084) | Steps 470(447.02) | Grad Norm 2.3140(2.4740) | Total Time 10.00(10.00)\n",
      "Iter 1916 | Time 33.8243(33.4458) | Bit/dim 1.1795(1.2075) | Steps 464(447.53) | Grad Norm 1.3902(2.4414) | Total Time 10.00(10.00)\n",
      "Iter 1917 | Time 33.7848(33.4559) | Bit/dim 1.1664(1.2063) | Steps 458(447.85) | Grad Norm 1.4936(2.4130) | Total Time 10.00(10.00)\n",
      "validating...\n",
      "Epoch 0274 | Time 9.6346, Epoch Time 261.5747, Bit/dim 1.1557\n"
     ]
    },
    {
     "name": "stdout",
     "output_type": "stream",
     "text": [
      "do _generate\n",
      "do _generate\n",
      "do _generate\n",
      "do _generate\n",
      "do _generate\n",
      "do _generate\n",
      "do _generate\n",
      "do _generate\n"
     ]
    },
    {
     "name": "stderr",
     "output_type": "stream",
     "text": [
      "===> Using batch size 8000. Total 7 iterations/epoch.\n",
      "Iter 1918 | Time 33.3874(33.4539) | Bit/dim 1.1680(1.2051) | Steps 458(448.15) | Grad Norm 2.0986(2.4036) | Total Time 10.00(10.00)\n",
      "Iter 1919 | Time 33.6350(33.4593) | Bit/dim 1.1735(1.2042) | Steps 452(448.27) | Grad Norm 3.3320(2.4314) | Total Time 10.00(10.00)\n",
      "Iter 1920 | Time 34.5813(33.4930) | Bit/dim 1.1692(1.2031) | Steps 446(448.20) | Grad Norm 2.9944(2.4483) | Total Time 10.00(10.00)\n",
      "Iter 1921 | Time 31.6365(33.4373) | Bit/dim 1.1560(1.2017) | Steps 440(447.95) | Grad Norm 1.3913(2.4166) | Total Time 10.00(10.00)\n",
      "Iter 1922 | Time 32.4965(33.4091) | Bit/dim 1.1582(1.2004) | Steps 440(447.71) | Grad Norm 1.6891(2.3948) | Total Time 10.00(10.00)\n",
      "Iter 1923 | Time 34.0453(33.4281) | Bit/dim 1.1549(1.1991) | Steps 452(447.84) | Grad Norm 2.1119(2.3863) | Total Time 10.00(10.00)\n",
      "Iter 1924 | Time 32.0369(33.3864) | Bit/dim 1.1520(1.1976) | Steps 434(447.43) | Grad Norm 2.5537(2.3913) | Total Time 10.00(10.00)\n",
      "validating...\n",
      "Epoch 0275 | Time 9.1707, Epoch Time 253.2572, Bit/dim 1.1381\n"
     ]
    },
    {
     "name": "stdout",
     "output_type": "stream",
     "text": [
      "do _generate\n",
      "do _generate\n",
      "do _generate\n",
      "do _generatedo _generate\n",
      "\n",
      "do _generate\n",
      "do _generate\n",
      "do _generate\n"
     ]
    },
    {
     "name": "stderr",
     "output_type": "stream",
     "text": [
      "===> Using batch size 8000. Total 7 iterations/epoch.\n",
      "Iter 1925 | Time 32.2245(33.3515) | Bit/dim 1.1525(1.1963) | Steps 440(447.21) | Grad Norm 2.9367(2.4077) | Total Time 10.00(10.00)\n",
      "Iter 1926 | Time 32.6013(33.3290) | Bit/dim 1.1523(1.1950) | Steps 446(447.17) | Grad Norm 3.2168(2.4320) | Total Time 10.00(10.00)\n",
      "Iter 1927 | Time 31.8457(33.2845) | Bit/dim 1.1481(1.1936) | Steps 446(447.13) | Grad Norm 2.7621(2.4419) | Total Time 10.00(10.00)\n",
      "Iter 1928 | Time 30.5474(33.2024) | Bit/dim 1.1463(1.1921) | Steps 434(446.74) | Grad Norm 1.9665(2.4276) | Total Time 10.00(10.00)\n",
      "Iter 1929 | Time 32.8021(33.1904) | Bit/dim 1.1368(1.1905) | Steps 440(446.54) | Grad Norm 0.5991(2.3727) | Total Time 10.00(10.00)\n",
      "Iter 1930 | Time 33.8301(33.2096) | Bit/dim 1.1402(1.1890) | Steps 452(446.70) | Grad Norm 2.1480(2.3660) | Total Time 10.00(10.00)\n",
      "Iter 1931 | Time 33.8413(33.2286) | Bit/dim 1.1377(1.1874) | Steps 446(446.68) | Grad Norm 2.3991(2.3670) | Total Time 10.00(10.00)\n",
      "validating...\n",
      "Epoch 0276 | Time 9.2166, Epoch Time 249.0337, Bit/dim 1.1190\n"
     ]
    },
    {
     "name": "stdout",
     "output_type": "stream",
     "text": [
      "do _generate\n",
      "do _generate\n",
      "do _generate\n",
      "do _generate\n",
      "do _generate\n",
      "do _generate\n",
      "do _generate\n",
      "do _generate\n"
     ]
    },
    {
     "name": "stderr",
     "output_type": "stream",
     "text": [
      "===> Using batch size 8000. Total 7 iterations/epoch.\n",
      "Iter 1932 | Time 32.0978(33.1946) | Bit/dim 1.1324(1.1858) | Steps 446(446.66) | Grad Norm 1.7154(2.3474) | Total Time 10.00(10.00)\n",
      "Iter 1933 | Time 33.3781(33.2001) | Bit/dim 1.1405(1.1844) | Steps 452(446.82) | Grad Norm 1.2710(2.3151) | Total Time 10.00(10.00)\n",
      "Iter 1934 | Time 33.4146(33.2066) | Bit/dim 1.1311(1.1828) | Steps 446(446.80) | Grad Norm 0.7360(2.2678) | Total Time 10.00(10.00)\n",
      "Iter 1935 | Time 34.8862(33.2570) | Bit/dim 1.1205(1.1810) | Steps 446(446.77) | Grad Norm 1.1865(2.2353) | Total Time 10.00(10.00)\n",
      "Iter 1936 | Time 32.4612(33.2331) | Bit/dim 1.1244(1.1793) | Steps 452(446.93) | Grad Norm 2.0436(2.2296) | Total Time 10.00(10.00)\n",
      "Iter 1937 | Time 34.5666(33.2731) | Bit/dim 1.1303(1.1778) | Steps 440(446.72) | Grad Norm 3.2810(2.2611) | Total Time 10.00(10.00)\n",
      "Iter 1938 | Time 29.4351(33.1580) | Bit/dim 1.1560(1.1771) | Steps 416(445.80) | Grad Norm 5.3301(2.3532) | Total Time 10.00(10.00)\n",
      "validating...\n",
      "Epoch 0277 | Time 9.4316, Epoch Time 252.0107, Bit/dim 1.1625\n"
     ]
    },
    {
     "name": "stdout",
     "output_type": "stream",
     "text": [
      "do _generate\n",
      "do _generatedo _generate\n",
      "\n",
      "do _generate\n",
      "do _generate\n",
      "do _generate\n",
      "do _generate\n",
      "do _generate\n"
     ]
    },
    {
     "name": "stderr",
     "output_type": "stream",
     "text": [
      "===> Using batch size 8000. Total 7 iterations/epoch.\n",
      "Iter 1939 | Time 32.7708(33.1463) | Bit/dim 1.1778(1.1772) | Steps 458(446.17) | Grad Norm 7.5408(2.5088) | Total Time 10.00(10.00)\n",
      "Iter 1940 | Time 29.7134(33.0434) | Bit/dim 1.2098(1.1781) | Steps 410(445.08) | Grad Norm 6.3169(2.6231) | Total Time 10.00(10.00)\n",
      "Iter 1941 | Time 29.2542(32.9297) | Bit/dim 1.1722(1.1780) | Steps 404(443.85) | Grad Norm 2.9898(2.6341) | Total Time 10.00(10.00)\n",
      "Iter 1942 | Time 32.7392(32.9240) | Bit/dim 1.1782(1.1780) | Steps 452(444.09) | Grad Norm 4.5134(2.6905) | Total Time 10.00(10.00)\n",
      "Iter 1943 | Time 31.7640(32.8892) | Bit/dim 1.1709(1.1778) | Steps 446(444.15) | Grad Norm 3.4137(2.7121) | Total Time 10.00(10.00)\n",
      "Iter 1944 | Time 31.2985(32.8414) | Bit/dim 1.1598(1.1772) | Steps 428(443.67) | Grad Norm 2.4504(2.7043) | Total Time 10.00(10.00)\n",
      "Iter 1945 | Time 33.5752(32.8635) | Bit/dim 1.1559(1.1766) | Steps 440(443.56) | Grad Norm 1.6172(2.6717) | Total Time 10.00(10.00)\n",
      "validating...\n",
      "Epoch 0278 | Time 9.3700, Epoch Time 242.6507, Bit/dim 1.1493\n"
     ]
    },
    {
     "name": "stdout",
     "output_type": "stream",
     "text": [
      "do _generate\n",
      "do _generate\n",
      "do _generate\n",
      "do _generate\n",
      "do _generate\n",
      "do _generate\n",
      "do _generate\n",
      "do _generate\n"
     ]
    },
    {
     "name": "stderr",
     "output_type": "stream",
     "text": [
      "===> Using batch size 8000. Total 7 iterations/epoch.\n",
      "Iter 1946 | Time 33.9787(32.8969) | Bit/dim 1.1594(1.1761) | Steps 464(444.17) | Grad Norm 3.1594(2.6863) | Total Time 10.00(10.00)\n",
      "Iter 1947 | Time 32.9821(32.8995) | Bit/dim 1.1439(1.1751) | Steps 452(444.40) | Grad Norm 1.6749(2.6560) | Total Time 10.00(10.00)\n",
      "Iter 1948 | Time 33.6306(32.9214) | Bit/dim 1.1510(1.1744) | Steps 452(444.63) | Grad Norm 2.3032(2.6454) | Total Time 10.00(10.00)\n",
      "Iter 1949 | Time 32.7073(32.9150) | Bit/dim 1.1361(1.1732) | Steps 452(444.85) | Grad Norm 1.5852(2.6136) | Total Time 10.00(10.00)\n",
      "Iter 1950 | Time 33.1472(32.9219) | Bit/dim 1.1500(1.1725) | Steps 458(445.25) | Grad Norm 2.2064(2.6014) | Total Time 10.00(10.00)\n",
      "Iter 1951 | Time 32.9139(32.9217) | Bit/dim 1.1389(1.1715) | Steps 452(445.45) | Grad Norm 1.4892(2.5680) | Total Time 10.00(10.00)\n",
      "Iter 1952 | Time 31.9965(32.8940) | Bit/dim 1.1350(1.1704) | Steps 446(445.47) | Grad Norm 2.0086(2.5512) | Total Time 10.00(10.00)\n",
      "validating...\n",
      "Epoch 0279 | Time 9.4601, Epoch Time 253.0138, Bit/dim 1.1355\n"
     ]
    },
    {
     "name": "stdout",
     "output_type": "stream",
     "text": [
      "do _generate\n",
      "do _generate\n",
      "do _generate\n",
      "do _generate\n",
      "do _generate\n",
      "do _generate\n",
      "do _generate\n",
      "do _generate\n"
     ]
    },
    {
     "name": "stderr",
     "output_type": "stream",
     "text": [
      "===> Using batch size 8000. Total 7 iterations/epoch.\n",
      "Iter 1953 | Time 31.8293(32.8620) | Bit/dim 1.1500(1.1698) | Steps 440(445.30) | Grad Norm 4.9723(2.6239) | Total Time 10.00(10.00)\n",
      "Iter 1954 | Time 32.4325(32.8491) | Bit/dim 1.1955(1.1706) | Steps 422(444.60) | Grad Norm 5.8240(2.7199) | Total Time 10.00(10.00)\n",
      "Iter 1955 | Time 32.9270(32.8515) | Bit/dim 1.1309(1.1694) | Steps 452(444.82) | Grad Norm 1.0430(2.6696) | Total Time 10.00(10.00)\n",
      "Iter 1956 | Time 34.0002(32.8859) | Bit/dim 1.1797(1.1697) | Steps 464(445.40) | Grad Norm 5.3431(2.7498) | Total Time 10.00(10.00)\n",
      "Iter 1957 | Time 31.5831(32.8468) | Bit/dim 1.1586(1.1694) | Steps 452(445.60) | Grad Norm 3.0498(2.7588) | Total Time 10.00(10.00)\n",
      "Iter 1958 | Time 31.2731(32.7996) | Bit/dim 1.1667(1.1693) | Steps 434(445.25) | Grad Norm 2.9377(2.7641) | Total Time 10.00(10.00)\n",
      "Iter 1959 | Time 32.8309(32.8006) | Bit/dim 1.1457(1.1686) | Steps 452(445.45) | Grad Norm 2.3519(2.7518) | Total Time 10.00(10.00)\n",
      "validating...\n",
      "Epoch 0280 | Time 9.4748, Epoch Time 248.5174, Bit/dim 1.1400\n"
     ]
    },
    {
     "name": "stdout",
     "output_type": "stream",
     "text": [
      "do _generate\n",
      "do _generate\n",
      "do _generate\n",
      "do _generate\n",
      "do _generate\n",
      "do _generate\n",
      "do _generate\n",
      "do _generate\n"
     ]
    },
    {
     "name": "stderr",
     "output_type": "stream",
     "text": [
      "===> Using batch size 8000. Total 7 iterations/epoch.\n",
      "Iter 1960 | Time 33.2303(32.8135) | Bit/dim 1.1531(1.1681) | Steps 464(446.01) | Grad Norm 3.4612(2.7730) | Total Time 10.00(10.00)\n",
      "Iter 1961 | Time 32.2118(32.7954) | Bit/dim 1.1533(1.1677) | Steps 458(446.37) | Grad Norm 3.4780(2.7942) | Total Time 10.00(10.00)\n",
      "Iter 1962 | Time 33.2696(32.8096) | Bit/dim 1.1488(1.1671) | Steps 446(446.36) | Grad Norm 2.0664(2.7724) | Total Time 10.00(10.00)\n",
      "Iter 1963 | Time 34.0986(32.8483) | Bit/dim 1.1516(1.1666) | Steps 488(447.61) | Grad Norm 2.2987(2.7581) | Total Time 10.00(10.00)\n",
      "Iter 1964 | Time 34.1185(32.8864) | Bit/dim 1.1399(1.1658) | Steps 482(448.64) | Grad Norm 1.7472(2.7278) | Total Time 10.00(10.00)\n",
      "Iter 1965 | Time 34.0190(32.9204) | Bit/dim 1.1431(1.1652) | Steps 464(449.10) | Grad Norm 2.0739(2.7082) | Total Time 10.00(10.00)\n",
      "Iter 1966 | Time 32.6765(32.9131) | Bit/dim 1.1388(1.1644) | Steps 452(449.19) | Grad Norm 1.6067(2.6752) | Total Time 10.00(10.00)\n",
      "validating...\n",
      "Epoch 0281 | Time 9.5948, Epoch Time 255.4877, Bit/dim 1.1234\n"
     ]
    },
    {
     "name": "stdout",
     "output_type": "stream",
     "text": [
      "do _generate\n",
      "do _generate\n",
      "do _generate\n",
      "do _generate\n",
      "do _generate\n",
      "do _generate\n",
      "do _generate\n",
      "do _generate\n"
     ]
    },
    {
     "name": "stderr",
     "output_type": "stream",
     "text": [
      "===> Using batch size 8000. Total 7 iterations/epoch.\n",
      "Iter 1967 | Time 33.8472(32.9411) | Bit/dim 1.1372(1.1636) | Steps 464(449.63) | Grad Norm 2.4201(2.6675) | Total Time 10.00(10.00)\n",
      "Iter 1968 | Time 33.2297(32.9498) | Bit/dim 1.1326(1.1626) | Steps 446(449.52) | Grad Norm 1.5072(2.6327) | Total Time 10.00(10.00)\n",
      "Iter 1969 | Time 33.7881(32.9749) | Bit/dim 1.1263(1.1615) | Steps 452(449.60) | Grad Norm 1.3874(2.5953) | Total Time 10.00(10.00)\n",
      "Iter 1970 | Time 32.0116(32.9460) | Bit/dim 1.1381(1.1608) | Steps 458(449.85) | Grad Norm 2.5826(2.5950) | Total Time 10.00(10.00)\n",
      "Iter 1971 | Time 33.9382(32.9758) | Bit/dim 1.1256(1.1598) | Steps 452(449.91) | Grad Norm 2.1606(2.5819) | Total Time 10.00(10.00)\n",
      "Iter 1972 | Time 32.2255(32.9533) | Bit/dim 1.1208(1.1586) | Steps 452(449.98) | Grad Norm 0.9246(2.5322) | Total Time 10.00(10.00)\n",
      "Iter 1973 | Time 32.6254(32.9434) | Bit/dim 1.1295(1.1577) | Steps 458(450.22) | Grad Norm 1.7702(2.5093) | Total Time 10.00(10.00)\n",
      "validating...\n",
      "Epoch 0282 | Time 9.3897, Epoch Time 253.2788, Bit/dim 1.1124\n"
     ]
    },
    {
     "name": "stdout",
     "output_type": "stream",
     "text": [
      "do _generate\n",
      "do _generate\n",
      "do _generate\n",
      "do _generate\n",
      "do _generate\n",
      "do _generate\n",
      "do _generate\n",
      "do _generate\n"
     ]
    },
    {
     "name": "stderr",
     "output_type": "stream",
     "text": [
      "===> Using batch size 8000. Total 7 iterations/epoch.\n",
      "Iter 1974 | Time 31.8418(32.9104) | Bit/dim 1.1251(1.1568) | Steps 434(449.73) | Grad Norm 2.5529(2.5107) | Total Time 10.00(10.00)\n",
      "Iter 1975 | Time 33.9611(32.9419) | Bit/dim 1.1313(1.1560) | Steps 464(450.16) | Grad Norm 3.4362(2.5384) | Total Time 10.00(10.00)\n",
      "Iter 1976 | Time 29.7890(32.8473) | Bit/dim 1.1412(1.1555) | Steps 422(449.31) | Grad Norm 4.2659(2.5902) | Total Time 10.00(10.00)\n",
      "Iter 1977 | Time 32.4888(32.8366) | Bit/dim 1.1420(1.1551) | Steps 464(449.75) | Grad Norm 4.9506(2.6611) | Total Time 10.00(10.00)\n",
      "Iter 1978 | Time 32.8831(32.8380) | Bit/dim 1.1472(1.1549) | Steps 428(449.10) | Grad Norm 3.5629(2.6881) | Total Time 10.00(10.00)\n",
      "Iter 1979 | Time 31.0319(32.7838) | Bit/dim 1.1207(1.1539) | Steps 434(448.65) | Grad Norm 1.0098(2.6378) | Total Time 10.00(10.00)\n",
      "Iter 1980 | Time 31.7486(32.7527) | Bit/dim 1.1426(1.1535) | Steps 446(448.57) | Grad Norm 4.6192(2.6972) | Total Time 10.00(10.00)\n",
      "validating...\n",
      "Epoch 0283 | Time 9.3274, Epoch Time 245.5985, Bit/dim 1.1330\n"
     ]
    },
    {
     "name": "stdout",
     "output_type": "stream",
     "text": [
      "do _generate\n",
      "do _generate\n",
      "do _generate\n",
      "do _generate\n",
      "do _generate\n",
      "do _generatedo _generate\n",
      "do _generate\n",
      "\n"
     ]
    },
    {
     "name": "stderr",
     "output_type": "stream",
     "text": [
      "===> Using batch size 8000. Total 7 iterations/epoch.\n",
      "Iter 1981 | Time 30.0775(32.6725) | Bit/dim 1.1507(1.1535) | Steps 422(447.77) | Grad Norm 4.2973(2.7452) | Total Time 10.00(10.00)\n",
      "Iter 1982 | Time 32.3388(32.6624) | Bit/dim 1.1210(1.1525) | Steps 422(447.00) | Grad Norm 1.3158(2.7023) | Total Time 10.00(10.00)\n",
      "Iter 1983 | Time 31.8293(32.6375) | Bit/dim 1.1463(1.1523) | Steps 446(446.97) | Grad Norm 4.5881(2.7589) | Total Time 10.00(10.00)\n",
      "Iter 1984 | Time 30.7618(32.5812) | Bit/dim 1.1464(1.1521) | Steps 440(446.76) | Grad Norm 3.7421(2.7884) | Total Time 10.00(10.00)\n",
      "Iter 1985 | Time 30.5723(32.5209) | Bit/dim 1.1312(1.1515) | Steps 434(446.38) | Grad Norm 1.8572(2.7605) | Total Time 10.00(10.00)\n",
      "Iter 1986 | Time 32.2746(32.5135) | Bit/dim 1.1401(1.1511) | Steps 452(446.55) | Grad Norm 3.2430(2.7749) | Total Time 10.00(10.00)\n",
      "Iter 1987 | Time 32.7376(32.5203) | Bit/dim 1.1216(1.1503) | Steps 452(446.71) | Grad Norm 1.0711(2.7238) | Total Time 10.00(10.00)\n",
      "validating...\n",
      "Epoch 0284 | Time 9.8183, Epoch Time 242.6734, Bit/dim 1.1188\n"
     ]
    },
    {
     "name": "stdout",
     "output_type": "stream",
     "text": [
      "do _generate\n",
      "do _generate\n",
      "do _generate\n",
      "do _generate\n",
      "do _generate\n",
      "do _generate\n",
      "do _generate\n",
      "do _generate\n"
     ]
    },
    {
     "name": "stderr",
     "output_type": "stream",
     "text": [
      "===> Using batch size 8000. Total 7 iterations/epoch.\n",
      "Iter 1988 | Time 31.0049(32.4748) | Bit/dim 1.1304(1.1497) | Steps 440(446.51) | Grad Norm 2.6670(2.7221) | Total Time 10.00(10.00)\n",
      "Iter 1989 | Time 32.4853(32.4751) | Bit/dim 1.1172(1.1487) | Steps 452(446.67) | Grad Norm 0.8424(2.6657) | Total Time 10.00(10.00)\n",
      "Iter 1990 | Time 32.3115(32.4702) | Bit/dim 1.1318(1.1482) | Steps 458(447.01) | Grad Norm 3.5694(2.6928) | Total Time 10.00(10.00)\n",
      "Iter 1991 | Time 31.0614(32.4279) | Bit/dim 1.1450(1.1481) | Steps 434(446.62) | Grad Norm 3.6830(2.7225) | Total Time 10.00(10.00)\n",
      "Iter 1992 | Time 31.5937(32.4029) | Bit/dim 1.1244(1.1474) | Steps 452(446.78) | Grad Norm 0.9154(2.6683) | Total Time 10.00(10.00)\n",
      "Iter 1993 | Time 32.0557(32.3925) | Bit/dim 1.1393(1.1471) | Steps 452(446.94) | Grad Norm 3.6617(2.6981) | Total Time 10.00(10.00)\n",
      "Iter 1994 | Time 31.6517(32.3703) | Bit/dim 1.1183(1.1463) | Steps 434(446.55) | Grad Norm 1.4150(2.6596) | Total Time 10.00(10.00)\n",
      "validating...\n",
      "Epoch 0285 | Time 9.7005, Epoch Time 244.0276, Bit/dim 1.1128\n"
     ]
    },
    {
     "name": "stdout",
     "output_type": "stream",
     "text": [
      "do _generate\n",
      "do _generate\n",
      "do _generate\n",
      "do _generate\n",
      "do _generate\n",
      "do _generate\n",
      "do _generate\n",
      "do _generate\n"
     ]
    },
    {
     "name": "stderr",
     "output_type": "stream",
     "text": [
      "===> Using batch size 8000. Total 7 iterations/epoch.\n",
      "Iter 1995 | Time 30.1330(32.3031) | Bit/dim 1.1285(1.1457) | Steps 428(446.00) | Grad Norm 2.5882(2.6575) | Total Time 10.00(10.00)\n",
      "Iter 1996 | Time 32.3603(32.3049) | Bit/dim 1.1285(1.1452) | Steps 452(446.18) | Grad Norm 3.4053(2.6799) | Total Time 10.00(10.00)\n",
      "Iter 1997 | Time 32.5239(32.3114) | Bit/dim 1.1150(1.1443) | Steps 428(445.63) | Grad Norm 1.0809(2.6320) | Total Time 10.00(10.00)\n",
      "Iter 1998 | Time 29.8704(32.2382) | Bit/dim 1.1205(1.1436) | Steps 422(444.92) | Grad Norm 1.9437(2.6113) | Total Time 10.00(10.00)\n",
      "Iter 1999 | Time 32.0214(32.2317) | Bit/dim 1.1237(1.1430) | Steps 446(444.95) | Grad Norm 1.9408(2.5912) | Total Time 10.00(10.00)\n",
      "Iter 2000 | Time 31.5737(32.2120) | Bit/dim 1.1120(1.1421) | Steps 452(445.16) | Grad Norm 0.6888(2.5341) | Total Time 10.00(10.00)\n",
      "Iter 2001 | Time 29.4769(32.1299) | Bit/dim 1.1179(1.1413) | Steps 428(444.65) | Grad Norm 2.0922(2.5209) | Total Time 10.00(10.00)\n",
      "validating...\n",
      "Epoch 0286 | Time 9.4539, Epoch Time 239.7131, Bit/dim 1.1000\n"
     ]
    },
    {
     "name": "stdout",
     "output_type": "stream",
     "text": [
      "do _generate\n",
      "do _generate\n",
      "do _generate\n",
      "do _generate\n",
      "do _generate\n",
      "do _generate\n",
      "do _generate\n",
      "do _generate\n"
     ]
    },
    {
     "name": "stderr",
     "output_type": "stream",
     "text": [
      "===> Using batch size 8000. Total 7 iterations/epoch.\n",
      "Iter 2002 | Time 32.3179(32.1355) | Bit/dim 1.1174(1.1406) | Steps 446(444.69) | Grad Norm 1.8188(2.4998) | Total Time 10.00(10.00)\n",
      "Iter 2003 | Time 32.1900(32.1372) | Bit/dim 1.1125(1.1398) | Steps 446(444.73) | Grad Norm 0.5709(2.4419) | Total Time 10.00(10.00)\n",
      "Iter 2004 | Time 31.7405(32.1253) | Bit/dim 1.1099(1.1389) | Steps 446(444.77) | Grad Norm 1.0658(2.4007) | Total Time 10.00(10.00)\n",
      "Iter 2005 | Time 32.2367(32.1286) | Bit/dim 1.1138(1.1381) | Steps 446(444.80) | Grad Norm 2.1678(2.3937) | Total Time 10.00(10.00)\n",
      "Iter 2006 | Time 31.3912(32.1065) | Bit/dim 1.1201(1.1376) | Steps 428(444.30) | Grad Norm 3.1609(2.4167) | Total Time 10.00(10.00)\n",
      "Iter 2007 | Time 32.1609(32.1081) | Bit/dim 1.1223(1.1371) | Steps 452(444.53) | Grad Norm 4.4707(2.4783) | Total Time 10.00(10.00)\n",
      "Iter 2008 | Time 30.5520(32.0614) | Bit/dim 1.1431(1.1373) | Steps 434(444.22) | Grad Norm 4.8984(2.5509) | Total Time 10.00(10.00)\n",
      "validating...\n",
      "Epoch 0287 | Time 9.5034, Epoch Time 244.6432, Bit/dim 1.1065\n"
     ]
    },
    {
     "name": "stdout",
     "output_type": "stream",
     "text": [
      "do _generate\n",
      "do _generate\n",
      "do _generate\n",
      "do _generate\n",
      "do _generate\n",
      "do _generate\n",
      "do _generate\n",
      "do _generate\n"
     ]
    },
    {
     "name": "stderr",
     "output_type": "stream",
     "text": [
      "===> Using batch size 8000. Total 7 iterations/epoch.\n",
      "Iter 2009 | Time 31.9460(32.0580) | Bit/dim 1.1250(1.1369) | Steps 446(444.27) | Grad Norm 2.0836(2.5369) | Total Time 10.00(10.00)\n",
      "Iter 2010 | Time 33.1685(32.0913) | Bit/dim 1.1296(1.1367) | Steps 446(444.32) | Grad Norm 3.6308(2.5697) | Total Time 10.00(10.00)\n",
      "Iter 2011 | Time 30.3136(32.0380) | Bit/dim 1.1593(1.1374) | Steps 434(444.01) | Grad Norm 5.2586(2.6504) | Total Time 10.00(10.00)\n",
      "Iter 2012 | Time 31.2045(32.0130) | Bit/dim 1.1151(1.1367) | Steps 446(444.07) | Grad Norm 1.5694(2.6179) | Total Time 10.00(10.00)\n",
      "Iter 2013 | Time 31.8731(32.0088) | Bit/dim 1.1479(1.1371) | Steps 446(444.13) | Grad Norm 5.3943(2.7012) | Total Time 10.00(10.00)\n",
      "Iter 2014 | Time 31.4392(31.9917) | Bit/dim 1.1727(1.1381) | Steps 440(444.01) | Grad Norm 4.9825(2.7697) | Total Time 10.00(10.00)\n",
      "Iter 2015 | Time 30.8639(31.9578) | Bit/dim 1.1487(1.1385) | Steps 440(443.89) | Grad Norm 2.7361(2.7687) | Total Time 10.00(10.00)\n",
      "validating...\n",
      "Epoch 0288 | Time 9.7397, Epoch Time 242.7895, Bit/dim 1.1322\n"
     ]
    },
    {
     "name": "stdout",
     "output_type": "stream",
     "text": [
      "do _generate\n",
      "do _generate\n",
      "do _generate\n",
      "do _generate\n",
      "do _generate\n",
      "do _generate\n",
      "do _generate\n",
      "do _generate\n"
     ]
    },
    {
     "name": "stderr",
     "output_type": "stream",
     "text": [
      "===> Using batch size 8000. Total 7 iterations/epoch.\n",
      "Iter 2016 | Time 33.8523(32.0147) | Bit/dim 1.1408(1.1385) | Steps 470(444.67) | Grad Norm 2.8681(2.7716) | Total Time 10.00(10.00)\n",
      "Iter 2017 | Time 34.4739(32.0885) | Bit/dim 1.1517(1.1389) | Steps 476(445.61) | Grad Norm 3.9598(2.8073) | Total Time 10.00(10.00)\n",
      "Iter 2018 | Time 31.5008(32.0708) | Bit/dim 1.1568(1.1395) | Steps 440(445.44) | Grad Norm 3.0959(2.8159) | Total Time 10.00(10.00)\n",
      "Iter 2019 | Time 32.5304(32.0846) | Bit/dim 1.1686(1.1403) | Steps 452(445.64) | Grad Norm 3.3871(2.8331) | Total Time 10.00(10.00)\n",
      "Iter 2020 | Time 34.0780(32.1444) | Bit/dim 1.1475(1.1405) | Steps 458(446.01) | Grad Norm 1.9338(2.8061) | Total Time 10.00(10.00)\n",
      "Iter 2021 | Time 34.5902(32.2178) | Bit/dim 1.1547(1.1410) | Steps 482(447.09) | Grad Norm 2.7598(2.8047) | Total Time 10.00(10.00)\n",
      "Iter 2022 | Time 33.1038(32.2444) | Bit/dim 1.1342(1.1408) | Steps 470(447.77) | Grad Norm 1.9249(2.7783) | Total Time 10.00(10.00)\n",
      "validating...\n",
      "Epoch 0289 | Time 9.5485, Epoch Time 255.9702, Bit/dim 1.1339\n"
     ]
    },
    {
     "name": "stdout",
     "output_type": "stream",
     "text": [
      "do _generate\n",
      "do _generate\n",
      "do _generate\n",
      "do _generate\n",
      "do _generate\n",
      "do _generate\n",
      "do _generate\n",
      "do _generate\n"
     ]
    },
    {
     "name": "stderr",
     "output_type": "stream",
     "text": [
      "===> Using batch size 8000. Total 7 iterations/epoch.\n",
      "Iter 2023 | Time 34.2331(32.3040) | Bit/dim 1.1520(1.1411) | Steps 464(448.26) | Grad Norm 1.4442(2.7383) | Total Time 10.00(10.00)\n",
      "Iter 2024 | Time 33.4566(32.3386) | Bit/dim 1.1315(1.1408) | Steps 470(448.91) | Grad Norm 1.2704(2.6943) | Total Time 10.00(10.00)\n",
      "Iter 2025 | Time 33.8189(32.3830) | Bit/dim 1.1299(1.1405) | Steps 488(450.09) | Grad Norm 0.8450(2.6388) | Total Time 10.00(10.00)\n",
      "Iter 2026 | Time 34.2386(32.4387) | Bit/dim 1.1398(1.1405) | Steps 488(451.22) | Grad Norm 2.0859(2.6222) | Total Time 10.00(10.00)\n",
      "Iter 2027 | Time 33.2035(32.4616) | Bit/dim 1.1280(1.1401) | Steps 458(451.43) | Grad Norm 1.3795(2.5849) | Total Time 10.00(10.00)\n",
      "Iter 2028 | Time 32.5152(32.4632) | Bit/dim 1.1267(1.1397) | Steps 458(451.62) | Grad Norm 1.5105(2.5527) | Total Time 10.00(10.00)\n",
      "Iter 2029 | Time 33.2770(32.4876) | Bit/dim 1.1233(1.1392) | Steps 476(452.36) | Grad Norm 1.5768(2.5234) | Total Time 10.00(10.00)\n",
      "validating...\n",
      "Epoch 0290 | Time 9.6298, Epoch Time 256.6770, Bit/dim 1.1071\n"
     ]
    },
    {
     "name": "stdout",
     "output_type": "stream",
     "text": [
      "do _generate\n",
      "do _generate\n",
      "do _generate\n",
      "do _generate\n",
      "do _generate\n",
      "do _generate\n",
      "do _generate\n",
      "do _generate\n"
     ]
    },
    {
     "name": "stderr",
     "output_type": "stream",
     "text": [
      "===> Using batch size 8000. Total 7 iterations/epoch.\n",
      "Iter 2030 | Time 34.2909(32.5417) | Bit/dim 1.1174(1.1385) | Steps 476(453.06) | Grad Norm 1.2613(2.4855) | Total Time 10.00(10.00)\n",
      "Iter 2031 | Time 32.4304(32.5384) | Bit/dim 1.1214(1.1380) | Steps 458(453.21) | Grad Norm 1.9166(2.4685) | Total Time 10.00(10.00)\n",
      "Iter 2032 | Time 33.2559(32.5599) | Bit/dim 1.1207(1.1375) | Steps 464(453.54) | Grad Norm 1.2191(2.4310) | Total Time 10.00(10.00)\n",
      "Iter 2033 | Time 33.9157(32.6006) | Bit/dim 1.1154(1.1368) | Steps 464(453.85) | Grad Norm 1.0845(2.3906) | Total Time 10.00(10.00)\n",
      "Iter 2034 | Time 32.8557(32.6083) | Bit/dim 1.1186(1.1363) | Steps 458(453.97) | Grad Norm 1.9473(2.3773) | Total Time 10.00(10.00)\n",
      "Iter 2035 | Time 33.0708(32.6221) | Bit/dim 1.1199(1.1358) | Steps 458(454.10) | Grad Norm 1.6223(2.3546) | Total Time 10.00(10.00)\n",
      "Iter 2036 | Time 32.7652(32.6264) | Bit/dim 1.1155(1.1352) | Steps 458(454.21) | Grad Norm 0.7619(2.3069) | Total Time 10.00(10.00)\n",
      "validating...\n",
      "Epoch 0291 | Time 9.5835, Epoch Time 254.4775, Bit/dim 1.0969\n"
     ]
    },
    {
     "name": "stdout",
     "output_type": "stream",
     "text": [
      "do _generate\n",
      "do _generate\n",
      "do _generate\n",
      "do _generate\n",
      "do _generate\n",
      "do _generate\n",
      "do _generate\n",
      "do _generate\n"
     ]
    },
    {
     "name": "stderr",
     "output_type": "stream",
     "text": [
      "===> Using batch size 8000. Total 7 iterations/epoch.\n",
      "Iter 2037 | Time 32.4417(32.6209) | Bit/dim 1.1117(1.1345) | Steps 452(454.15) | Grad Norm 1.0653(2.2696) | Total Time 10.00(10.00)\n",
      "Iter 2038 | Time 32.2962(32.6111) | Bit/dim 1.1114(1.1338) | Steps 452(454.08) | Grad Norm 1.2910(2.2403) | Total Time 10.00(10.00)\n",
      "Iter 2039 | Time 30.7294(32.5547) | Bit/dim 1.1185(1.1333) | Steps 428(453.30) | Grad Norm 2.9311(2.2610) | Total Time 10.00(10.00)\n",
      "Iter 2040 | Time 33.7603(32.5909) | Bit/dim 1.1726(1.1345) | Steps 452(453.26) | Grad Norm 11.1408(2.5274) | Total Time 10.00(10.00)\n",
      "Iter 2041 | Time 29.3144(32.4926) | Bit/dim 1.5009(1.1455) | Steps 422(452.32) | Grad Norm 8.9045(2.7187) | Total Time 10.00(10.00)\n",
      "Iter 2042 | Time 30.6622(32.4377) | Bit/dim 1.4457(1.1545) | Steps 446(452.13) | Grad Norm 3.4809(2.7416) | Total Time 10.00(10.00)\n",
      "Iter 2043 | Time 33.2906(32.4632) | Bit/dim 1.4058(1.1621) | Steps 488(453.21) | Grad Norm 2.5054(2.7345) | Total Time 10.00(10.00)\n",
      "validating...\n",
      "Epoch 0292 | Time 9.3265, Epoch Time 244.1903, Bit/dim 1.3830\n"
     ]
    },
    {
     "name": "stdout",
     "output_type": "stream",
     "text": [
      "do _generate\n",
      "do _generate\n",
      "do _generate\n",
      "do _generate\n",
      "do _generate\n",
      "do _generate\n",
      "do _generate\n",
      "do _generate\n"
     ]
    },
    {
     "name": "stderr",
     "output_type": "stream",
     "text": [
      "===> Using batch size 8000. Total 7 iterations/epoch.\n",
      "Iter 2044 | Time 33.4392(32.4925) | Bit/dim 1.3938(1.1690) | Steps 452(453.17) | Grad Norm 3.4975(2.7574) | Total Time 10.00(10.00)\n",
      "Iter 2045 | Time 32.8500(32.5032) | Bit/dim 1.3064(1.1731) | Steps 464(453.50) | Grad Norm 2.4237(2.7474) | Total Time 10.00(10.00)\n",
      "Iter 2046 | Time 35.5812(32.5956) | Bit/dim 1.2693(1.1760) | Steps 500(454.89) | Grad Norm 1.3410(2.7052) | Total Time 10.00(10.00)\n",
      "Iter 2047 | Time 34.8262(32.6625) | Bit/dim 1.2852(1.1793) | Steps 494(456.07) | Grad Norm 1.9512(2.6825) | Total Time 10.00(10.00)\n",
      "Iter 2048 | Time 35.1121(32.7360) | Bit/dim 1.2916(1.1827) | Steps 476(456.66) | Grad Norm 1.4968(2.6470) | Total Time 10.00(10.00)\n",
      "Iter 2049 | Time 31.1101(32.6872) | Bit/dim 1.2708(1.1853) | Steps 440(456.16) | Grad Norm 1.7280(2.6194) | Total Time 10.00(10.00)\n",
      "Iter 2050 | Time 37.1793(32.8220) | Bit/dim 1.2495(1.1872) | Steps 482(456.94) | Grad Norm 1.3043(2.5799) | Total Time 10.00(10.00)\n",
      "validating...\n",
      "Epoch 0293 | Time 9.6477, Epoch Time 262.2254, Bit/dim 1.2211\n"
     ]
    },
    {
     "name": "stdout",
     "output_type": "stream",
     "text": [
      "do _generate\n",
      "do _generate\n",
      "do _generate\n",
      "do _generate\n",
      "do _generate\n",
      "do _generate\n",
      "do _generate\n",
      "do _generate\n"
     ]
    },
    {
     "name": "stderr",
     "output_type": "stream",
     "text": [
      "===> Using batch size 8000. Total 7 iterations/epoch.\n",
      "Iter 2051 | Time 33.2934(32.8361) | Bit/dim 1.2369(1.1887) | Steps 434(456.25) | Grad Norm 1.4429(2.5458) | Total Time 10.00(10.00)\n",
      "Iter 2052 | Time 31.6516(32.8006) | Bit/dim 1.2190(1.1896) | Steps 434(455.58) | Grad Norm 1.3449(2.5098) | Total Time 10.00(10.00)\n",
      "Iter 2053 | Time 33.2582(32.8143) | Bit/dim 1.2195(1.1905) | Steps 440(455.12) | Grad Norm 1.8030(2.4886) | Total Time 10.00(10.00)\n",
      "Iter 2054 | Time 33.5227(32.8356) | Bit/dim 1.2123(1.1912) | Steps 470(455.56) | Grad Norm 2.0633(2.4758) | Total Time 10.00(10.00)\n",
      "Iter 2055 | Time 35.2430(32.9078) | Bit/dim 1.2091(1.1917) | Steps 470(456.00) | Grad Norm 2.9360(2.4897) | Total Time 10.00(10.00)\n",
      "Iter 2056 | Time 34.1654(32.9455) | Bit/dim 1.2183(1.1925) | Steps 470(456.42) | Grad Norm 4.4467(2.5484) | Total Time 10.00(10.00)\n",
      "Iter 2057 | Time 31.2806(32.8956) | Bit/dim 1.2116(1.1931) | Steps 446(456.10) | Grad Norm 4.3142(2.6013) | Total Time 10.00(10.00)\n",
      "validating...\n",
      "Epoch 0294 | Time 9.9440, Epoch Time 254.8235, Bit/dim 1.1760\n"
     ]
    },
    {
     "name": "stdout",
     "output_type": "stream",
     "text": [
      "do _generate\n",
      "do _generate\n",
      "do _generate\n",
      "do _generate\n",
      "do _generate\n",
      "do _generate\n",
      "do _generate\n",
      "do _generate\n"
     ]
    },
    {
     "name": "stderr",
     "output_type": "stream",
     "text": [
      "===> Using batch size 8000. Total 7 iterations/epoch.\n",
      "Iter 2058 | Time 35.6010(32.9767) | Bit/dim 1.1909(1.1930) | Steps 470(456.52) | Grad Norm 2.3505(2.5938) | Total Time 10.00(10.00)\n",
      "Iter 2059 | Time 31.9828(32.9469) | Bit/dim 1.1833(1.1927) | Steps 446(456.20) | Grad Norm 2.2489(2.5835) | Total Time 10.00(10.00)\n",
      "Iter 2060 | Time 31.7951(32.9124) | Bit/dim 1.1818(1.1924) | Steps 452(456.08) | Grad Norm 2.4235(2.5787) | Total Time 10.00(10.00)\n",
      "Iter 2061 | Time 33.5303(32.9309) | Bit/dim 1.1951(1.1925) | Steps 458(456.14) | Grad Norm 3.3026(2.6004) | Total Time 10.00(10.00)\n",
      "Iter 2062 | Time 31.4653(32.8869) | Bit/dim 1.1682(1.1918) | Steps 446(455.83) | Grad Norm 2.1670(2.5874) | Total Time 10.00(10.00)\n",
      "Iter 2063 | Time 33.9556(32.9190) | Bit/dim 1.1655(1.1910) | Steps 452(455.72) | Grad Norm 1.4961(2.5546) | Total Time 10.00(10.00)\n",
      "Iter 2064 | Time 32.2311(32.8984) | Bit/dim 1.1628(1.1901) | Steps 452(455.61) | Grad Norm 1.4933(2.5228) | Total Time 10.00(10.00)\n",
      "validating...\n",
      "Epoch 0295 | Time 9.6774, Epoch Time 252.6129, Bit/dim 1.1506\n"
     ]
    },
    {
     "name": "stdout",
     "output_type": "stream",
     "text": [
      "do _generate\n",
      "do _generate\n",
      "do _generate\n",
      "do _generate\n",
      "do _generate\n",
      "do _generate\n",
      "do _generate\n",
      "do _generate\n"
     ]
    },
    {
     "name": "stderr",
     "output_type": "stream",
     "text": [
      "===> Using batch size 8000. Total 7 iterations/epoch.\n",
      "Iter 2065 | Time 32.1730(32.8766) | Bit/dim 1.1637(1.1893) | Steps 446(455.32) | Grad Norm 2.5845(2.5247) | Total Time 10.00(10.00)\n",
      "Iter 2066 | Time 32.3473(32.8607) | Bit/dim 1.1571(1.1884) | Steps 452(455.22) | Grad Norm 2.2005(2.5149) | Total Time 10.00(10.00)\n",
      "Iter 2067 | Time 32.3340(32.8449) | Bit/dim 1.1499(1.1872) | Steps 446(454.94) | Grad Norm 1.7072(2.4907) | Total Time 10.00(10.00)\n",
      "Iter 2068 | Time 32.2770(32.8279) | Bit/dim 1.1389(1.1858) | Steps 452(454.85) | Grad Norm 1.4655(2.4599) | Total Time 10.00(10.00)\n",
      "Iter 2069 | Time 31.4446(32.7864) | Bit/dim 1.1532(1.1848) | Steps 434(454.23) | Grad Norm 3.8899(2.5028) | Total Time 10.00(10.00)\n"
     ]
    }
   ],
   "source": [
    "%run -p train_cnf_exploretol2.py --data mnist --dims 64,64,64 --strides 1,1,1,1 --num_blocks 2 --layer_type concat --multiscale True --rademacher True --batch_size 8000 --test_batch_size 8000 --save experiments/cnf_nocond_bs8K_100timeslr_exploretol2 --conditional False --lr 0.01 --warmup_iters 113 --atol 1e-4  --rtol 1e-4"
   ]
  },
  {
   "cell_type": "code",
   "execution_count": null,
   "metadata": {},
   "outputs": [],
   "source": []
  }
 ],
 "metadata": {
  "kernelspec": {
   "display_name": "Python 3",
   "language": "python",
   "name": "python3"
  },
  "language_info": {
   "codemirror_mode": {
    "name": "ipython",
    "version": 3
   },
   "file_extension": ".py",
   "mimetype": "text/x-python",
   "name": "python",
   "nbconvert_exporter": "python",
   "pygments_lexer": "ipython3",
   "version": "3.6.7"
  }
 },
 "nbformat": 4,
 "nbformat_minor": 2
}
