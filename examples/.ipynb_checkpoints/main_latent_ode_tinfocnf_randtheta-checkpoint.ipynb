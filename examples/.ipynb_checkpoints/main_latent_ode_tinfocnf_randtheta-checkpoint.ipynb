{
 "cells": [
  {
   "cell_type": "code",
   "execution_count": 1,
   "metadata": {},
   "outputs": [],
   "source": [
    "import os\n",
    "os.environ['CUDA_VISIBLE_DEVICES']='0,1,2,3,4,5,6,7'"
   ]
  },
  {
   "cell_type": "code",
   "execution_count": null,
   "metadata": {},
   "outputs": [
    {
     "name": "stdout",
     "output_type": "stream",
     "text": [
      "Saved ground truth spiral at ./results_sup_nstd_0_3_a_0_1_b_0_0_5_nstdt_0_3_at_0_1_bt_0_0_5/vis_sup_ground_truth_0_train.png\n",
      "Saved ground truth spiral at ./results_sup_nstd_0_3_a_0_1_b_0_0_5_nstdt_0_3_at_0_1_bt_0_0_5/vis_sup_ground_truth_1_train.png\n",
      "Saved ground truth spiral at ./results_sup_nstd_0_3_a_0_1_b_0_0_5_nstdt_0_3_at_0_1_bt_0_0_5/vis_sup_ground_truth_2_train.png\n",
      "Saved ground truth spiral at ./results_sup_nstd_0_3_a_0_1_b_0_0_5_nstdt_0_3_at_0_1_bt_0_0_5/vis_sup_ground_truth_0_test.png\n",
      "Saved ground truth spiral at ./results_sup_nstd_0_3_a_0_1_b_0_0_5_nstdt_0_3_at_0_1_bt_0_0_5/vis_sup_ground_truth_1_test.png\n",
      "Saved ground truth spiral at ./results_sup_nstd_0_3_a_0_1_b_0_0_5_nstdt_0_3_at_0_1_bt_0_0_5/vis_sup_ground_truth_2_test.png\n",
      "Iter: 1, running avg loss: 20699.1289, running avg elbo: -20698.9219, running avg sysid: 0.2065, sysid: (0.0000, 0.0000) (0.0000, 0.0000) (0.0000, 0.0000), sysid_truth: (0.5488, 0.1834) (0.7917, 0.4232) (0.9786, 0.3249)\n",
      "Iter: 2, running avg loss: 20690.0916, running avg elbo: -20689.8847, running avg sysid: 0.2064, sysid: (0.0299, 0.0299) (0.0209, 0.0209) (0.0340, 0.0340), sysid_truth: (0.5488, 0.1834) (0.7917, 0.4232) (0.9786, 0.3249)\n",
      "Iter: 3, running avg loss: 20669.9460, running avg elbo: -20669.7393, running avg sysid: 0.2062, sysid: (0.0531, 0.0528) (0.0284, 0.0296) (0.0556, 0.0557), sysid_truth: (0.5488, 0.1834) (0.7917, 0.4232) (0.9786, 0.3249)\n",
      "Iter: 4, running avg loss: 20633.5937, running avg elbo: -20633.3873, running avg sysid: 0.2059, sysid: (0.0795, 0.0740) (0.0368, 0.0383) (0.0810, 0.0754), sysid_truth: (0.5488, 0.1834) (0.7917, 0.4232) (0.9786, 0.3249)\n",
      "Iter: 5, running avg loss: 20576.4902, running avg elbo: -20576.2842, running avg sysid: 0.2056, sysid: (0.1002, 0.0808) (0.0458, 0.0506) (0.1006, 0.0803), sysid_truth: (0.5488, 0.1834) (0.7917, 0.4232) (0.9786, 0.3249)\n",
      "Iter: 6, running avg loss: 20495.8380, running avg elbo: -20495.6324, running avg sysid: 0.2051, sysid: (0.1046, 0.0732) (0.0597, 0.0707) (0.1034, 0.0709), sysid_truth: (0.5488, 0.1834) (0.7917, 0.4232) (0.9786, 0.3249)\n",
      "Iter: 7, running avg loss: 20402.4787, running avg elbo: -20402.2737, running avg sysid: 0.2046, sysid: (0.0945, 0.0625) (0.0823, 0.0936) (0.0918, 0.0591), sysid_truth: (0.5488, 0.1834) (0.7917, 0.4232) (0.9786, 0.3249)\n",
      "Iter: 8, running avg loss: 20317.4329, running avg elbo: -20317.2285, running avg sysid: 0.2040, sysid: (0.0766, 0.0748) (0.1059, 0.1063) (0.0725, 0.0711), sysid_truth: (0.5488, 0.1834) (0.7917, 0.4232) (0.9786, 0.3249)\n",
      "Iter: 9, running avg loss: 20219.3663, running avg elbo: -20219.1625, running avg sysid: 0.2033, sysid: (0.0614, 0.0979) (0.1430, 0.1226) (0.0561, 0.0939), sysid_truth: (0.5488, 0.1834) (0.7917, 0.4232) (0.9786, 0.3249)\n",
      "Iter: 10, running avg loss: 20111.3581, running avg elbo: -20111.1551, running avg sysid: 0.2026, sysid: (0.0698, 0.1280) (0.1726, 0.1204) (0.0635, 0.1236), sysid_truth: (0.5488, 0.1834) (0.7917, 0.4232) (0.9786, 0.3249)\n",
      "Iter: 11, running avg loss: 20003.3019, running avg elbo: -20003.0997, running avg sysid: 0.2018, sysid: (0.0997, 0.1522) (0.1675, 0.1091) (0.0928, 0.1470), sysid_truth: (0.5488, 0.1834) (0.7917, 0.4232) (0.9786, 0.3249)\n",
      "Iter: 12, running avg loss: 19897.5023, running avg elbo: -19897.3009, running avg sysid: 0.2010, sysid: (0.1425, 0.1623) (0.1483, 0.1182) (0.1351, 0.1557), sysid_truth: (0.5488, 0.1834) (0.7917, 0.4232) (0.9786, 0.3249)\n",
      "Iter: 13, running avg loss: 19793.1504, running avg elbo: -19792.9499, running avg sysid: 0.2001, sysid: (0.1858, 0.1612) (0.1299, 0.1411) (0.1777, 0.1531), sysid_truth: (0.5488, 0.1834) (0.7917, 0.4232) (0.9786, 0.3249)\n",
      "Iter: 14, running avg loss: 19687.6483, running avg elbo: -19687.4488, running avg sysid: 0.1991, sysid: (0.2163, 0.1583) (0.1245, 0.1661) (0.2070, 0.1485), sysid_truth: (0.5488, 0.1834) (0.7917, 0.4232) (0.9786, 0.3249)\n",
      "Iter: 15, running avg loss: 19578.6798, running avg elbo: -19578.4812, running avg sysid: 0.1981, sysid: (0.2301, 0.1703) (0.1364, 0.1761) (0.2190, 0.1591), sysid_truth: (0.5488, 0.1834) (0.7917, 0.4232) (0.9786, 0.3249)\n",
      "Iter: 16, running avg loss: 19465.9702, running avg elbo: -19465.7727, running avg sysid: 0.1971, sysid: (0.2275, 0.1970) (0.1646, 0.1699) (0.2146, 0.1847), sysid_truth: (0.5488, 0.1834) (0.7917, 0.4232) (0.9786, 0.3249)\n",
      "Iter: 17, running avg loss: 19350.8577, running avg elbo: -19350.6613, running avg sysid: 0.1960, sysid: (0.2159, 0.2250) (0.2021, 0.1612) (0.2010, 0.2117), sysid_truth: (0.5488, 0.1834) (0.7917, 0.4232) (0.9786, 0.3249)\n",
      "Iter: 18, running avg loss: 19234.6871, running avg elbo: -19234.4919, running avg sysid: 0.1949, sysid: (0.2081, 0.2357) (0.2359, 0.1693) (0.1914, 0.2212), sysid_truth: (0.5488, 0.1834) (0.7917, 0.4232) (0.9786, 0.3249)\n",
      "Iter: 19, running avg loss: 19118.6734, running avg elbo: -19118.4792, running avg sysid: 0.1937, sysid: (0.2189, 0.2315) (0.2505, 0.1915) (0.2006, 0.2158), sysid_truth: (0.5488, 0.1834) (0.7917, 0.4232) (0.9786, 0.3249)\n",
      "Iter: 20, running avg loss: 19003.0374, running avg elbo: -19002.8444, running avg sysid: 0.1926, sysid: (0.2508, 0.2322) (0.2412, 0.2057) (0.2315, 0.2156), sysid_truth: (0.5488, 0.1834) (0.7917, 0.4232) (0.9786, 0.3249)\n",
      "Iter: 21, running avg loss: 18885.9809, running avg elbo: -18885.7892, running avg sysid: 0.1914, sysid: (0.3015, 0.2577) (0.2186, 0.1976) (0.2799, 0.2395), sysid_truth: (0.5488, 0.1834) (0.7917, 0.4232) (0.9786, 0.3249)\n",
      "Iter: 22, running avg loss: 18768.1473, running avg elbo: -18767.9567, running avg sysid: 0.1902, sysid: (0.3415, 0.2759) (0.2081, 0.1960) (0.3170, 0.2558), sysid_truth: (0.5488, 0.1834) (0.7917, 0.4232) (0.9786, 0.3249)\n",
      "Iter: 23, running avg loss: 18650.3893, running avg elbo: -18650.2000, running avg sysid: 0.1890, sysid: (0.3526, 0.2691) (0.2271, 0.2180) (0.3248, 0.2471), sysid_truth: (0.5488, 0.1834) (0.7917, 0.4232) (0.9786, 0.3249)\n",
      "Iter: 24, running avg loss: 18533.4667, running avg elbo: -18533.2785, running avg sysid: 0.1878, sysid: (0.3364, 0.2570) (0.2715, 0.2412) (0.3055, 0.2336), sysid_truth: (0.5488, 0.1834) (0.7917, 0.4232) (0.9786, 0.3249)\n",
      "Iter: 25, running avg loss: 18417.2823, running avg elbo: -18417.0954, running avg sysid: 0.1865, sysid: (0.3080, 0.2659) (0.3247, 0.2376) (0.2745, 0.2421), sysid_truth: (0.5488, 0.1834) (0.7917, 0.4232) (0.9786, 0.3249)\n",
      "Iter: 26, running avg loss: 18300.9430, running avg elbo: -18300.7572, running avg sysid: 0.1853, sysid: (0.2890, 0.2786) (0.3632, 0.2250) (0.2545, 0.2555), sysid_truth: (0.5488, 0.1834) (0.7917, 0.4232) (0.9786, 0.3249)\n",
      "Iter: 27, running avg loss: 18184.4133, running avg elbo: -18184.2288, running avg sysid: 0.1841, sysid: (0.2947, 0.2773) (0.3718, 0.2219) (0.2613, 0.2562), sysid_truth: (0.5488, 0.1834) (0.7917, 0.4232) (0.9786, 0.3249)\n",
      "Iter: 28, running avg loss: 18068.3387, running avg elbo: -18068.1554, running avg sysid: 0.1829, sysid: (0.3252, 0.2664) (0.3531, 0.2263) (0.2947, 0.2482), sysid_truth: (0.5488, 0.1834) (0.7917, 0.4232) (0.9786, 0.3249)\n",
      "Iter: 29, running avg loss: 17953.2654, running avg elbo: -17953.0833, running avg sysid: 0.1817, sysid: (0.3762, 0.2639) (0.3164, 0.2221) (0.3486, 0.2483), sysid_truth: (0.5488, 0.1834) (0.7917, 0.4232) (0.9786, 0.3249)\n",
      "Iter: 30, running avg loss: 17839.5438, running avg elbo: -17839.3629, running avg sysid: 0.1805, sysid: (0.4337, 0.2714) (0.2789, 0.2096) (0.4070, 0.2573), sysid_truth: (0.5488, 0.1834) (0.7917, 0.4232) (0.9786, 0.3249)\n",
      "Iter: 31, running avg loss: 17726.2963, running avg elbo: -17726.1166, running avg sysid: 0.1793, sysid: (0.4700, 0.2670) (0.2683, 0.2105) (0.4413, 0.2528), sysid_truth: (0.5488, 0.1834) (0.7917, 0.4232) (0.9786, 0.3249)\n",
      "Iter: 32, running avg loss: 17613.7782, running avg elbo: -17613.5997, running avg sysid: 0.1782, sysid: (0.4723, 0.2513) (0.2944, 0.2228) (0.4386, 0.2360), sysid_truth: (0.5488, 0.1834) (0.7917, 0.4232) (0.9786, 0.3249)\n",
      "Iter: 33, running avg loss: 17502.3031, running avg elbo: -17502.1257, running avg sysid: 0.1770, sysid: (0.4502, 0.2472) (0.3458, 0.2231) (0.4094, 0.2304), sysid_truth: (0.5488, 0.1834) (0.7917, 0.4232) (0.9786, 0.3249)\n",
      "Iter: 34, running avg loss: 17392.2923, running avg elbo: -17392.1161, running avg sysid: 0.1758, sysid: (0.4188, 0.2529) (0.4054, 0.2122) (0.3700, 0.2351), sysid_truth: (0.5488, 0.1834) (0.7917, 0.4232) (0.9786, 0.3249)\n",
      "Iter: 35, running avg loss: 17283.1159, running avg elbo: -17282.9409, running avg sysid: 0.1747, sysid: (0.4172, 0.2564) (0.4501, 0.2080) (0.3570, 0.2365), sysid_truth: (0.5488, 0.1834) (0.7917, 0.4232) (0.9786, 0.3249)\n",
      "Iter: 36, running avg loss: 17174.4470, running avg elbo: -17174.2731, running avg sysid: 0.1735, sysid: (0.4385, 0.2432) (0.4671, 0.2164) (0.3712, 0.2231), sysid_truth: (0.5488, 0.1834) (0.7917, 0.4232) (0.9786, 0.3249)\n"
     ]
    }
   ],
   "source": [
    "%run -p ../latent_ode_tinfocnf_randtheta.py --sup True --cond True --noise_std 0.3 --a_range \"0., 1.\" --b_range \"0., .5\" --noise_std_test 0.3 --a_range_test \"0., 1.\" --b_range_test \"0., .5\" --adjoint False --visualize True --niters 16000 --lr 0.01 --save vis_sup --savedir ./results_sup_nstd_0_3_a_0_1_b_0_0_5_nstdt_0_3_at_0_1_bt_0_0_5 --gpu 0 \n",
    "#"
   ]
  },
  {
   "cell_type": "code",
   "execution_count": null,
   "metadata": {},
   "outputs": [],
   "source": [
    "# %run -p ../latent_ode_tinfocnf.py --sup True --noise_std 0.3 --a 0. --b 0.3 --noise_std_test 0.3 --a_test 0. --b_test 0.4 --adjoint False --visualize True --niters 2000 --lr 0.01 --save vis_sup --savedir ./results_sup_nstd_0_3_a_0_b_0_3_nstdt_0_3_at_0_bt_0_4 --gpu 0 \n",
    "# #"
   ]
  },
  {
   "cell_type": "code",
   "execution_count": null,
   "metadata": {},
   "outputs": [],
   "source": [
    "# %run -p ../latent_ode_tinfocnf.py --sup True --noise_std 0.3 --a 0. --b 0.3 --noise_std_test 0.3 --a_test 0. --b_test 0.5 --adjoint False --visualize True --niters 2000 --lr 0.01 --save vis_sup --savedir ./results_sup_nstd_0_3_a_0_b_0_3_nstdt_0_3_at_0_bt_0_5 --gpu 0 \n",
    "# #"
   ]
  },
  {
   "cell_type": "code",
   "execution_count": null,
   "metadata": {},
   "outputs": [],
   "source": [
    "# %run -p ../latent_ode_tinfocnf.py --sup True --noise_std 0.3 --a 0. --b 0.3 --noise_std_test 0.3 --a_test 1. --b_test 0.3 --adjoint False --visualize True --niters 2000 --lr 0.01 --save vis_sup --savedir ./results_sup_nstd_0_3_a_0_b_0_3_nstdt_0_3_at_1_bt_0_3 --gpu 0 \n",
    "# #"
   ]
  },
  {
   "cell_type": "code",
   "execution_count": null,
   "metadata": {},
   "outputs": [],
   "source": [
    "# %run -p ../latent_ode_tinfocnf.py --sup True --noise_std 0.3 --a 0. --b 0.3 --noise_std_test 0.3 --a_test 1. --b_test 0.4 --adjoint False --visualize True --niters 2000 --lr 0.01 --save vis_sup --savedir ./results_sup_nstd_0_3_a_0_b_0_3_nstdt_0_3_at_1_bt_0_4 --gpu 0 \n",
    "# #"
   ]
  },
  {
   "cell_type": "code",
   "execution_count": null,
   "metadata": {},
   "outputs": [],
   "source": [
    "# %run -p ../latent_ode_tinfocnf.py --sup True --noise_std 0.3 --a 0. --b 0.3 --noise_std_test 0.3 --a_test 1. --b_test 0.5 --adjoint False --visualize True --niters 2000 --lr 0.01 --save vis_sup --savedir ./results_sup_nstd_0_3_a_0_b_0_3_nstdt_0_3_at_1_bt_0_5 --gpu 0 \n",
    "# #"
   ]
  },
  {
   "cell_type": "code",
   "execution_count": null,
   "metadata": {},
   "outputs": [],
   "source": [
    "# %run -p ../latent_ode_tinfocnf.py --sup True --noise_std 0.3 --a 0. --b 0.3 --noise_std_test 0.3 --a_test 2. --b_test 0.3 --adjoint False --visualize True --niters 2000 --lr 0.01 --save vis_sup --savedir ./results_sup_nstd_0_3_a_0_b_0_3_nstdt_0_3_at_2_bt_0_3 --gpu 0 \n",
    "# #"
   ]
  },
  {
   "cell_type": "code",
   "execution_count": null,
   "metadata": {},
   "outputs": [],
   "source": [
    "# %run -p ../latent_ode_tinfocnf.py --sup True --noise_std 0.3 --a 0. --b 0.3 --noise_std_test 0.3 --a_test 2. --b_test 0.4 --adjoint False --visualize True --niters 2000 --lr 0.01 --save vis_sup --savedir ./results_sup_nstd_0_3_a_0_b_0_3_nstdt_0_3_at_2_bt_0_4 --gpu 0 \n",
    "# #"
   ]
  },
  {
   "cell_type": "code",
   "execution_count": null,
   "metadata": {},
   "outputs": [],
   "source": [
    "# %run -p ../latent_ode_tinfocnf.py --sup True --noise_std 0.3 --a 0. --b 0.3 --noise_std_test 0.3 --a_test 2. --b_test 0.5 --adjoint False --visualize True --niters 2000 --lr 0.01 --save vis_sup --savedir ./results_sup_nstd_0_3_a_0_b_0_3_nstdt_0_3_at_2_bt_0_5 --gpu 0 \n",
    "# #"
   ]
  }
 ],
 "metadata": {
  "kernelspec": {
   "display_name": "Python 3",
   "language": "python",
   "name": "python3"
  },
  "language_info": {
   "codemirror_mode": {
    "name": "ipython",
    "version": 3
   },
   "file_extension": ".py",
   "mimetype": "text/x-python",
   "name": "python",
   "nbconvert_exporter": "python",
   "pygments_lexer": "ipython3",
   "version": "3.6.7"
  }
 },
 "nbformat": 4,
 "nbformat_minor": 2
}
