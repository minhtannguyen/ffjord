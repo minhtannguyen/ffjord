{
 "cells": [
  {
   "cell_type": "code",
   "execution_count": 1,
   "metadata": {},
   "outputs": [],
   "source": [
    "import os\n",
    "os.environ['CUDA_VISIBLE_DEVICES']='0,1,2,3,4,5,6,7'"
   ]
  },
  {
   "cell_type": "code",
   "execution_count": null,
   "metadata": {},
   "outputs": [
    {
     "name": "stdout",
     "output_type": "stream",
     "text": [
      "Saved ground truth spiral at ./results_nstd_0_3_a_1_0_08_b_0_25_03_nstdt_0_3_at_1_0_08_bt_0_25_03_200_20K_lr_0_001_cond/vis_sup_ground_truth_0_train.png\n",
      "Saved ground truth spiral at ./results_nstd_0_3_a_1_0_08_b_0_25_03_nstdt_0_3_at_1_0_08_bt_0_25_03_200_20K_lr_0_001_cond/vis_sup_ground_truth_1_train.png\n",
      "Saved ground truth spiral at ./results_nstd_0_3_a_1_0_08_b_0_25_03_nstdt_0_3_at_1_0_08_bt_0_25_03_200_20K_lr_0_001_cond/vis_sup_ground_truth_2_train.png\n",
      "Saved ground truth spiral at ./results_nstd_0_3_a_1_0_08_b_0_25_03_nstdt_0_3_at_1_0_08_bt_0_25_03_200_20K_lr_0_001_cond/vis_sup_ground_truth_0_test.png\n",
      "Saved ground truth spiral at ./results_nstd_0_3_a_1_0_08_b_0_25_03_nstdt_0_3_at_1_0_08_bt_0_25_03_200_20K_lr_0_001_cond/vis_sup_ground_truth_1_test.png\n",
      "Saved ground truth spiral at ./results_nstd_0_3_a_1_0_08_b_0_25_03_nstdt_0_3_at_1_0_08_bt_0_25_03_200_20K_lr_0_001_cond/vis_sup_ground_truth_2_test.png\n",
      "> \u001b[0;32m/tancode/repos/tan-ffjord/latent_ode_tinfocnf_randtheta_weaksup.py\u001b[0m(385)\u001b[0;36m<module>\u001b[0;34m()\u001b[0m\n",
      "\u001b[0;32m    384 \u001b[0;31m                \u001b[0;32mimport\u001b[0m \u001b[0mipdb\u001b[0m\u001b[0;34m;\u001b[0m \u001b[0mipdb\u001b[0m\u001b[0;34m.\u001b[0m\u001b[0mset_trace\u001b[0m\u001b[0;34m(\u001b[0m\u001b[0;34m)\u001b[0m\u001b[0;34m\u001b[0m\u001b[0;34m\u001b[0m\u001b[0m\n",
      "\u001b[0m\u001b[0;32m--> 385 \u001b[0;31m                \u001b[0mpz0\u001b[0m \u001b[0;34m=\u001b[0m \u001b[0mconditioner\u001b[0m\u001b[0;34m(\u001b[0m\u001b[0mtheta\u001b[0m\u001b[0;34m.\u001b[0m\u001b[0mto\u001b[0m\u001b[0;34m(\u001b[0m\u001b[0mout\u001b[0m\u001b[0;34m)\u001b[0m\u001b[0;34m)\u001b[0m\u001b[0;34m\u001b[0m\u001b[0;34m\u001b[0m\u001b[0m\n",
      "\u001b[0m\u001b[0;32m    386 \u001b[0;31m                \u001b[0mpz0_mean\u001b[0m\u001b[0;34m,\u001b[0m \u001b[0mpz0_logvar\u001b[0m \u001b[0;34m=\u001b[0m \u001b[0msplit_feature\u001b[0m\u001b[0;34m(\u001b[0m\u001b[0mpz0\u001b[0m\u001b[0;34m,\u001b[0m \u001b[0mtype\u001b[0m\u001b[0;34m=\u001b[0m\u001b[0;34m\"split\"\u001b[0m\u001b[0;34m)\u001b[0m\u001b[0;34m\u001b[0m\u001b[0;34m\u001b[0m\u001b[0m\n",
      "\u001b[0m\n"
     ]
    },
    {
     "name": "stdin",
     "output_type": "stream",
     "text": [
      "ipdb>  pred_theta.shape\n"
     ]
    },
    {
     "name": "stdout",
     "output_type": "stream",
     "text": [
      "torch.Size([5000, 2])\n"
     ]
    },
    {
     "name": "stdin",
     "output_type": "stream",
     "text": [
      "ipdb>  pred_theta\n"
     ]
    },
    {
     "name": "stdout",
     "output_type": "stream",
     "text": [
      "tensor([[0., 0.],\n",
      "        [0., 0.],\n",
      "        [0., 0.],\n",
      "        ...,\n",
      "        [0., 0.],\n",
      "        [0., 0.],\n",
      "        [0., 0.]], device='cuda:3', grad_fn=<AddmmBackward>)\n"
     ]
    },
    {
     "name": "stdin",
     "output_type": "stream",
     "text": [
      "ipdb>  quit\n"
     ]
    }
   ],
   "source": [
    "%run -p ../latent_ode_tinfocnf_randtheta_weaksup.py --weaksup False --sup False --cond True --noise_std 0.3 --a_range \"1.0, .08\" --b_range \"0.25, .03\" --noise_std_test 0.3 --a_range_test \"1.0, .08\" --b_range_test \"0.25, .03\" --adjoint False --visualize True --niters 20000 --nsample 200 --lr 0.001 --save vis_sup --savedir ./results_nstd_0_3_a_1_0_08_b_0_25_03_nstdt_0_3_at_1_0_08_bt_0_25_03_200_20K_lr_0_001_cond --gpu 3 \n",
    "#"
   ]
  },
  {
   "cell_type": "code",
   "execution_count": null,
   "metadata": {},
   "outputs": [],
   "source": [
    "# %run -p ../latent_ode_tinfocnf.py --sup True --noise_std 0.3 --a 0. --b 0.3 --noise_std_test 0.3 --a_test 0. --b_test 0.4 --adjoint False --visualize True --niters 2000 --lr 0.01 --save vis_sup --savedir ./results_sup_nstd_0_3_a_0_b_0_3_nstdt_0_3_at_0_bt_0_4 --gpu 0 \n",
    "# #"
   ]
  },
  {
   "cell_type": "code",
   "execution_count": null,
   "metadata": {},
   "outputs": [],
   "source": [
    "# %run -p ../latent_ode_tinfocnf.py --sup True --noise_std 0.3 --a 0. --b 0.3 --noise_std_test 0.3 --a_test 0. --b_test 0.5 --adjoint False --visualize True --niters 2000 --lr 0.01 --save vis_sup --savedir ./results_sup_nstd_0_3_a_0_b_0_3_nstdt_0_3_at_0_bt_0_5 --gpu 0 \n",
    "# #"
   ]
  },
  {
   "cell_type": "code",
   "execution_count": null,
   "metadata": {},
   "outputs": [],
   "source": [
    "# %run -p ../latent_ode_tinfocnf.py --sup True --noise_std 0.3 --a 0. --b 0.3 --noise_std_test 0.3 --a_test 1. --b_test 0.3 --adjoint False --visualize True --niters 2000 --lr 0.01 --save vis_sup --savedir ./results_sup_nstd_0_3_a_0_b_0_3_nstdt_0_3_at_1_bt_0_3 --gpu 0 \n",
    "# #"
   ]
  },
  {
   "cell_type": "code",
   "execution_count": null,
   "metadata": {},
   "outputs": [],
   "source": [
    "# %run -p ../latent_ode_tinfocnf.py --sup True --noise_std 0.3 --a 0. --b 0.3 --noise_std_test 0.3 --a_test 1. --b_test 0.4 --adjoint False --visualize True --niters 2000 --lr 0.01 --save vis_sup --savedir ./results_sup_nstd_0_3_a_0_b_0_3_nstdt_0_3_at_1_bt_0_4 --gpu 0 \n",
    "# #"
   ]
  },
  {
   "cell_type": "code",
   "execution_count": null,
   "metadata": {},
   "outputs": [],
   "source": [
    "# %run -p ../latent_ode_tinfocnf.py --sup True --noise_std 0.3 --a 0. --b 0.3 --noise_std_test 0.3 --a_test 1. --b_test 0.5 --adjoint False --visualize True --niters 2000 --lr 0.01 --save vis_sup --savedir ./results_sup_nstd_0_3_a_0_b_0_3_nstdt_0_3_at_1_bt_0_5 --gpu 0 \n",
    "# #"
   ]
  },
  {
   "cell_type": "code",
   "execution_count": null,
   "metadata": {},
   "outputs": [],
   "source": [
    "# %run -p ../latent_ode_tinfocnf.py --sup True --noise_std 0.3 --a 0. --b 0.3 --noise_std_test 0.3 --a_test 2. --b_test 0.3 --adjoint False --visualize True --niters 2000 --lr 0.01 --save vis_sup --savedir ./results_sup_nstd_0_3_a_0_b_0_3_nstdt_0_3_at_2_bt_0_3 --gpu 0 \n",
    "# #"
   ]
  },
  {
   "cell_type": "code",
   "execution_count": null,
   "metadata": {},
   "outputs": [],
   "source": [
    "# %run -p ../latent_ode_tinfocnf.py --sup True --noise_std 0.3 --a 0. --b 0.3 --noise_std_test 0.3 --a_test 2. --b_test 0.4 --adjoint False --visualize True --niters 2000 --lr 0.01 --save vis_sup --savedir ./results_sup_nstd_0_3_a_0_b_0_3_nstdt_0_3_at_2_bt_0_4 --gpu 0 \n",
    "# #"
   ]
  },
  {
   "cell_type": "code",
   "execution_count": null,
   "metadata": {},
   "outputs": [],
   "source": [
    "# %run -p ../latent_ode_tinfocnf.py --sup True --noise_std 0.3 --a 0. --b 0.3 --noise_std_test 0.3 --a_test 2. --b_test 0.5 --adjoint False --visualize True --niters 2000 --lr 0.01 --save vis_sup --savedir ./results_sup_nstd_0_3_a_0_b_0_3_nstdt_0_3_at_2_bt_0_5 --gpu 0 \n",
    "# #"
   ]
  }
 ],
 "metadata": {
  "kernelspec": {
   "display_name": "Python 3",
   "language": "python",
   "name": "python3"
  },
  "language_info": {
   "codemirror_mode": {
    "name": "ipython",
    "version": 3
   },
   "file_extension": ".py",
   "mimetype": "text/x-python",
   "name": "python",
   "nbconvert_exporter": "python",
   "pygments_lexer": "ipython3",
   "version": "3.6.7"
  }
 },
 "nbformat": 4,
 "nbformat_minor": 2
}
