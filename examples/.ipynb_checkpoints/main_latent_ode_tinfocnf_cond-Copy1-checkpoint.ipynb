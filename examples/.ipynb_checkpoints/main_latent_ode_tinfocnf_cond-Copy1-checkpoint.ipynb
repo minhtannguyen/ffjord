{
 "cells": [
  {
   "cell_type": "code",
   "execution_count": 1,
   "metadata": {},
   "outputs": [],
   "source": [
    "import os\n",
    "os.environ['CUDA_VISIBLE_DEVICES']='0,1,2,3,4,5,6,7'"
   ]
  },
  {
   "cell_type": "code",
   "execution_count": null,
   "metadata": {},
   "outputs": [
    {
     "name": "stdout",
     "output_type": "stream",
     "text": [
      "Saved ground truth spiral at ./results_sup_cond_nstd_0_3_a_0_b_0_3_nstdt_0_3_at_0_bt_0_3_published/vis_sup_ground_truth_train.png\n",
      "Saved ground truth spiral at ./results_sup_cond_nstd_0_3_a_0_b_0_3_nstdt_0_3_at_0_bt_0_3_published/vis_sup_ground_truth_test.png\n",
      "Iter: 1, running avg loss: 20061.5195, running avg elbo: -20061.4746, running avg sysid: 0.0450, sysid: 0.0000, 0.0000, sysid_truth: 0.0000, 0.3000\n",
      "Training complete after 2 iters.\n",
      "train:\n",
      "loss sysid: 0.0411, sysid: 0.0000, 0.0132, sysid_truth: 0.0000, 0.3000\n"
     ]
    }
   ],
   "source": [
    "%run -p ../latent_ode_tinfocnf.py --sup True --cond True --noise_std 0.3 --a 0. --b 0.3 --noise_std_test 0.3 --a_test 0. --b_test 0.3 --adjoint False --visualize True --niters 2000 --lr 0.01 --save vis_sup --savedir ./results_sup_cond_nstd_0_3_a_0_b_0_3_nstdt_0_3_at_0_bt_0_3_published --gpu 0 \n",
    "#"
   ]
  },
  {
   "cell_type": "code",
   "execution_count": null,
   "metadata": {},
   "outputs": [],
   "source": [
    "# %run -p ../latent_ode_tinfocnf.py --sup True --cond True --noise_std 0.3 --a 0. --b 0.3 --noise_std_test 0.3 --a_test 0. --b_test 0.4 --adjoint False --visualize True --niters 2000 --lr 0.01 --save vis_sup --savedir ./results_sup_cond_nstd_0_3_a_0_b_0_3_nstdt_0_3_at_0_bt_0_4_published --gpu 4 \n",
    "# #"
   ]
  },
  {
   "cell_type": "code",
   "execution_count": null,
   "metadata": {},
   "outputs": [],
   "source": [
    "# %run -p ../latent_ode_tinfocnf.py --sup True --cond True --noise_std 0.3 --a 0. --b 0.3 --noise_std_test 0.3 --a_test 0. --b_test 0.5 --adjoint False --visualize True --niters 2000_published --lr 0.01 --save vis_sup --savedir ./results_sup_cond_nstd_0_3_a_0_b_0_3_nstdt_0_3_at_0_bt_0_5 --gpu 4 \n",
    "# #"
   ]
  },
  {
   "cell_type": "code",
   "execution_count": null,
   "metadata": {},
   "outputs": [],
   "source": [
    "# %run -p ../latent_ode_tinfocnf.py --sup True --cond True --noise_std 0.3 --a 0. --b 0.3 --noise_std_test 0.3 --a_test 1. --b_test 0.3 --adjoint False --visualize True --niters 2000 --lr 0.01 --save vis_sup --savedir ./results_sup_cond_nstd_0_3_a_0_b_0_3_nstdt_0_3_at_1_bt_0_3 --gpu 4 \n",
    "# #"
   ]
  },
  {
   "cell_type": "code",
   "execution_count": null,
   "metadata": {},
   "outputs": [],
   "source": [
    "# %run -p ../latent_ode_tinfocnf.py --sup True --cond True --noise_std 0.3 --a 0. --b 0.3 --noise_std_test 0.3 --a_test 1. --b_test 0.4 --adjoint False --visualize True --niters 2000 --lr 0.01 --save vis_sup --savedir ./results_sup_cond_nstd_0_3_a_0_b_0_3_nstdt_0_3_at_1_bt_0_4 --gpu 4 \n",
    "# #"
   ]
  },
  {
   "cell_type": "code",
   "execution_count": null,
   "metadata": {},
   "outputs": [],
   "source": [
    "# %run -p ../latent_ode_tinfocnf.py --sup True --cond True --noise_std 0.3 --a 0. --b 0.3 --noise_std_test 0.3 --a_test 1. --b_test 0.5 --adjoint False --visualize True --niters 2000 --lr 0.01 --save vis_sup --savedir ./results_sup_cond_nstd_0_3_a_0_b_0_3_nstdt_0_3_at_1_bt_0_5 --gpu 4 \n",
    "# #"
   ]
  },
  {
   "cell_type": "code",
   "execution_count": null,
   "metadata": {},
   "outputs": [],
   "source": [
    "# %run -p ../latent_ode_tinfocnf.py --sup True --cond True --noise_std 0.3 --a 0. --b 0.3 --noise_std_test 0.3 --a_test 2. --b_test 0.3 --adjoint False --visualize True --niters 2000 --lr 0.01 --save vis_sup --savedir ./results_sup_cond_nstd_0_3_a_0_b_0_3_nstdt_0_3_at_2_bt_0_3 --gpu 4 \n",
    "# #"
   ]
  },
  {
   "cell_type": "code",
   "execution_count": null,
   "metadata": {},
   "outputs": [],
   "source": [
    "# %run -p ../latent_ode_tinfocnf.py --sup True --cond True --noise_std 0.3 --a 0. --b 0.3 --noise_std_test 0.3 --a_test 2. --b_test 0.4 --adjoint False --visualize True --niters 2000 --lr 0.01 --save vis_sup --savedir ./results_sup_cond_nstd_0_3_a_0_b_0_3_nstdt_0_3_at_2_bt_0_4 --gpu 4 \n",
    "# #"
   ]
  },
  {
   "cell_type": "code",
   "execution_count": null,
   "metadata": {},
   "outputs": [],
   "source": [
    "# %run -p ../latent_ode_tinfocnf.py --sup True --cond True --noise_std 0.3 --a 0. --b 0.3 --noise_std_test 0.3 --a_test 2. --b_test 0.5 --adjoint False --visualize True --niters 2000 --lr 0.01 --save vis_sup --savedir ./results_sup_cond_nstd_0_3_a_0_b_0_3_nstdt_0_3_at_2_bt_0_5 --gpu 4 \n",
    "# #"
   ]
  }
 ],
 "metadata": {
  "kernelspec": {
   "display_name": "Python 3",
   "language": "python",
   "name": "python3"
  },
  "language_info": {
   "codemirror_mode": {
    "name": "ipython",
    "version": 3
   },
   "file_extension": ".py",
   "mimetype": "text/x-python",
   "name": "python",
   "nbconvert_exporter": "python",
   "pygments_lexer": "ipython3",
   "version": "3.6.7"
  }
 },
 "nbformat": 4,
 "nbformat_minor": 2
}
