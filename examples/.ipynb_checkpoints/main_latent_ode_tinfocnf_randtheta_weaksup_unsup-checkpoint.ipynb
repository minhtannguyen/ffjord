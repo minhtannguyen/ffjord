{
 "cells": [
  {
   "cell_type": "code",
   "execution_count": 1,
   "metadata": {},
   "outputs": [],
   "source": [
    "import os\n",
    "os.environ['CUDA_VISIBLE_DEVICES']='0,1,2,3,4,5,6,7'"
   ]
  },
  {
   "cell_type": "code",
   "execution_count": null,
   "metadata": {},
   "outputs": [
    {
     "name": "stdout",
     "output_type": "stream",
     "text": [
      "Saved ground truth spiral at ./results_nstd_0_3_a_1_0_08_b_0_25_03_nstdt_0_3_at_1_0_08_bt_0_25_03_200_20K_lr_0_001_weaksup/vis_sup_ground_truth_0_train.png\n",
      "Saved ground truth spiral at ./results_nstd_0_3_a_1_0_08_b_0_25_03_nstdt_0_3_at_1_0_08_bt_0_25_03_200_20K_lr_0_001_weaksup/vis_sup_ground_truth_1_train.png\n",
      "Saved ground truth spiral at ./results_nstd_0_3_a_1_0_08_b_0_25_03_nstdt_0_3_at_1_0_08_bt_0_25_03_200_20K_lr_0_001_weaksup/vis_sup_ground_truth_2_train.png\n",
      "Saved ground truth spiral at ./results_nstd_0_3_a_1_0_08_b_0_25_03_nstdt_0_3_at_1_0_08_bt_0_25_03_200_20K_lr_0_001_weaksup/vis_sup_ground_truth_0_test.png\n",
      "Saved ground truth spiral at ./results_nstd_0_3_a_1_0_08_b_0_25_03_nstdt_0_3_at_1_0_08_bt_0_25_03_200_20K_lr_0_001_weaksup/vis_sup_ground_truth_1_test.png\n",
      "Saved ground truth spiral at ./results_nstd_0_3_a_1_0_08_b_0_25_03_nstdt_0_3_at_1_0_08_bt_0_25_03_200_20K_lr_0_001_weaksup/vis_sup_ground_truth_2_test.png\n",
      "Iter: 1, running avg elbo: -21663.8398\n",
      "Iter: 2, running avg elbo: -21662.6601\n",
      "Iter: 3, running avg elbo: -21660.9513\n",
      "Iter: 4, running avg elbo: -21658.0350\n",
      "Iter: 5, running avg elbo: -21654.4138\n",
      "Iter: 6, running avg elbo: -21649.8916\n",
      "Iter: 7, running avg elbo: -21644.3413\n",
      "Iter: 8, running avg elbo: -21638.0590\n",
      "Iter: 9, running avg elbo: -21630.6058\n",
      "Iter: 10, running avg elbo: -21621.7182\n",
      "Iter: 11, running avg elbo: -21612.4385\n",
      "Iter: 12, running avg elbo: -21602.1874\n",
      "Iter: 13, running avg elbo: -21590.5998\n",
      "Iter: 14, running avg elbo: -21577.0185\n",
      "Iter: 15, running avg elbo: -21562.9376\n",
      "Iter: 16, running avg elbo: -21547.1394\n",
      "Iter: 17, running avg elbo: -21529.4124\n",
      "Iter: 18, running avg elbo: -21509.9369\n",
      "Iter: 19, running avg elbo: -21489.5962\n",
      "Iter: 20, running avg elbo: -21467.5373\n",
      "Iter: 21, running avg elbo: -21444.0628\n",
      "Iter: 22, running avg elbo: -21418.4894\n",
      "Iter: 23, running avg elbo: -21390.9119\n",
      "Iter: 24, running avg elbo: -21360.7407\n",
      "Iter: 25, running avg elbo: -21328.0119\n",
      "Iter: 26, running avg elbo: -21293.1363\n",
      "Iter: 27, running avg elbo: -21255.4505\n",
      "Iter: 28, running avg elbo: -21215.7482\n",
      "Iter: 29, running avg elbo: -21174.1959\n",
      "Iter: 30, running avg elbo: -21130.5804\n",
      "Iter: 31, running avg elbo: -21083.7160\n",
      "Iter: 32, running avg elbo: -21035.2541\n",
      "Iter: 33, running avg elbo: -20982.7694\n",
      "Iter: 34, running avg elbo: -20928.5306\n",
      "Iter: 35, running avg elbo: -20871.7764\n",
      "Iter: 36, running avg elbo: -20812.2302\n",
      "Iter: 37, running avg elbo: -20750.4516\n"
     ]
    }
   ],
   "source": [
    "%run -p ../latent_ode_tinfocnf_randtheta_weaksup.py --weaksup True --sup False --cond False --noise_std 0.3 --a_range \"1.0, .08\" --b_range \"0.25, .03\" --noise_std_test 0.3 --a_range_test \"1.0, .08\" --b_range_test \"0.25, .03\" --adjoint False --visualize True --niters 20000 --nsample 200 --lr 0.001 --save vis_sup --savedir ./results_nstd_0_3_a_1_0_08_b_0_25_03_nstdt_0_3_at_1_0_08_bt_0_25_03_200_20K_lr_0_001_weaksup --gpu 0 \n",
    "#"
   ]
  },
  {
   "cell_type": "code",
   "execution_count": null,
   "metadata": {},
   "outputs": [],
   "source": [
    "# %run -p ../latent_ode_tinfocnf.py --sup True --noise_std 0.3 --a 0. --b 0.3 --noise_std_test 0.3 --a_test 0. --b_test 0.4 --adjoint False --visualize True --niters 2000 --lr 0.01 --save vis_sup --savedir ./results_sup_nstd_0_3_a_0_b_0_3_nstdt_0_3_at_0_bt_0_4 --gpu 0 \n",
    "# #"
   ]
  },
  {
   "cell_type": "code",
   "execution_count": null,
   "metadata": {},
   "outputs": [],
   "source": [
    "# %run -p ../latent_ode_tinfocnf.py --sup True --noise_std 0.3 --a 0. --b 0.3 --noise_std_test 0.3 --a_test 0. --b_test 0.5 --adjoint False --visualize True --niters 2000 --lr 0.01 --save vis_sup --savedir ./results_sup_nstd_0_3_a_0_b_0_3_nstdt_0_3_at_0_bt_0_5 --gpu 0 \n",
    "# #"
   ]
  },
  {
   "cell_type": "code",
   "execution_count": null,
   "metadata": {},
   "outputs": [],
   "source": [
    "# %run -p ../latent_ode_tinfocnf.py --sup True --noise_std 0.3 --a 0. --b 0.3 --noise_std_test 0.3 --a_test 1. --b_test 0.3 --adjoint False --visualize True --niters 2000 --lr 0.01 --save vis_sup --savedir ./results_sup_nstd_0_3_a_0_b_0_3_nstdt_0_3_at_1_bt_0_3 --gpu 0 \n",
    "# #"
   ]
  },
  {
   "cell_type": "code",
   "execution_count": null,
   "metadata": {},
   "outputs": [],
   "source": [
    "# %run -p ../latent_ode_tinfocnf.py --sup True --noise_std 0.3 --a 0. --b 0.3 --noise_std_test 0.3 --a_test 1. --b_test 0.4 --adjoint False --visualize True --niters 2000 --lr 0.01 --save vis_sup --savedir ./results_sup_nstd_0_3_a_0_b_0_3_nstdt_0_3_at_1_bt_0_4 --gpu 0 \n",
    "# #"
   ]
  },
  {
   "cell_type": "code",
   "execution_count": null,
   "metadata": {},
   "outputs": [],
   "source": [
    "# %run -p ../latent_ode_tinfocnf.py --sup True --noise_std 0.3 --a 0. --b 0.3 --noise_std_test 0.3 --a_test 1. --b_test 0.5 --adjoint False --visualize True --niters 2000 --lr 0.01 --save vis_sup --savedir ./results_sup_nstd_0_3_a_0_b_0_3_nstdt_0_3_at_1_bt_0_5 --gpu 0 \n",
    "# #"
   ]
  },
  {
   "cell_type": "code",
   "execution_count": null,
   "metadata": {},
   "outputs": [],
   "source": [
    "# %run -p ../latent_ode_tinfocnf.py --sup True --noise_std 0.3 --a 0. --b 0.3 --noise_std_test 0.3 --a_test 2. --b_test 0.3 --adjoint False --visualize True --niters 2000 --lr 0.01 --save vis_sup --savedir ./results_sup_nstd_0_3_a_0_b_0_3_nstdt_0_3_at_2_bt_0_3 --gpu 0 \n",
    "# #"
   ]
  },
  {
   "cell_type": "code",
   "execution_count": null,
   "metadata": {},
   "outputs": [],
   "source": [
    "# %run -p ../latent_ode_tinfocnf.py --sup True --noise_std 0.3 --a 0. --b 0.3 --noise_std_test 0.3 --a_test 2. --b_test 0.4 --adjoint False --visualize True --niters 2000 --lr 0.01 --save vis_sup --savedir ./results_sup_nstd_0_3_a_0_b_0_3_nstdt_0_3_at_2_bt_0_4 --gpu 0 \n",
    "# #"
   ]
  },
  {
   "cell_type": "code",
   "execution_count": null,
   "metadata": {},
   "outputs": [],
   "source": [
    "# %run -p ../latent_ode_tinfocnf.py --sup True --noise_std 0.3 --a 0. --b 0.3 --noise_std_test 0.3 --a_test 2. --b_test 0.5 --adjoint False --visualize True --niters 2000 --lr 0.01 --save vis_sup --savedir ./results_sup_nstd_0_3_a_0_b_0_3_nstdt_0_3_at_2_bt_0_5 --gpu 0 \n",
    "# #"
   ]
  }
 ],
 "metadata": {
  "kernelspec": {
   "display_name": "Python 3",
   "language": "python",
   "name": "python3"
  },
  "language_info": {
   "codemirror_mode": {
    "name": "ipython",
    "version": 3
   },
   "file_extension": ".py",
   "mimetype": "text/x-python",
   "name": "python",
   "nbconvert_exporter": "python",
   "pygments_lexer": "ipython3",
   "version": "3.6.7"
  }
 },
 "nbformat": 4,
 "nbformat_minor": 2
}
