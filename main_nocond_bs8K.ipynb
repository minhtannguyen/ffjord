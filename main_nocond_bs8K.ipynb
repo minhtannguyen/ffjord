{
 "cells": [
  {
   "cell_type": "code",
   "execution_count": null,
   "metadata": {},
   "outputs": [
    {
     "name": "stderr",
     "output_type": "stream",
     "text": [
      "/tancode/repos/tan-ffjord/train_cnf.py\n",
      "import argparse\n",
      "import os\n",
      "import time\n",
      "import numpy as np\n",
      "\n",
      "import torch\n",
      "import torch.optim as optim\n",
      "import torchvision.datasets as dset\n",
      "import torchvision.transforms as tforms\n",
      "from torchvision.utils import save_image\n",
      "\n",
      "import lib.layers as layers\n",
      "import lib.utils as utils\n",
      "import lib.odenvp as odenvp\n",
      "import lib.multiscale_parallel as multiscale_parallel\n",
      "\n",
      "from train_misc import standard_normal_logprob\n",
      "from train_misc import set_cnf_options, count_nfe, count_parameters, count_total_time\n",
      "from train_misc import add_spectral_norm, spectral_norm_power_iteration\n",
      "from train_misc import create_regularization_fns, get_regularization, append_regularization_to_log\n",
      "\n",
      "# go fast boi!!\n",
      "torch.backends.cudnn.benchmark = True\n",
      "SOLVERS = [\"dopri5\", \"bdf\", \"rk4\", \"midpoint\", 'adams', 'explicit_adams']\n",
      "parser = argparse.ArgumentParser(\"Continuous Normalizing Flow\")\n",
      "parser.add_argument(\"--data\", choices=[\"mnist\", \"svhn\", \"cifar10\", 'lsun_church'], type=str, default=\"mnist\")\n",
      "parser.add_argument(\"--dims\", type=str, default=\"8,32,32,8\")\n",
      "parser.add_argument(\"--strides\", type=str, default=\"2,2,1,-2,-2\")\n",
      "parser.add_argument(\"--num_blocks\", type=int, default=1, help='Number of stacked CNFs.')\n",
      "\n",
      "parser.add_argument(\"--conv\", type=eval, default=True, choices=[True, False])\n",
      "parser.add_argument(\n",
      "    \"--layer_type\", type=str, default=\"ignore\",\n",
      "    choices=[\"ignore\", \"concat\", \"concat_v2\", \"squash\", \"concatsquash\", \"concatcoord\", \"hyper\", \"blend\"]\n",
      ")\n",
      "parser.add_argument(\"--divergence_fn\", type=str, default=\"approximate\", choices=[\"brute_force\", \"approximate\"])\n",
      "parser.add_argument(\n",
      "    \"--nonlinearity\", type=str, default=\"softplus\", choices=[\"tanh\", \"relu\", \"softplus\", \"elu\", \"swish\"]\n",
      ")\n",
      "parser.add_argument('--solver', type=str, default='dopri5', choices=SOLVERS)\n",
      "parser.add_argument('--atol', type=float, default=1e-5)\n",
      "parser.add_argument('--rtol', type=float, default=1e-5)\n",
      "parser.add_argument(\"--step_size\", type=float, default=None, help=\"Optional fixed step size.\")\n",
      "\n",
      "parser.add_argument('--test_solver', type=str, default=None, choices=SOLVERS + [None])\n",
      "parser.add_argument('--test_atol', type=float, default=None)\n",
      "parser.add_argument('--test_rtol', type=float, default=None)\n",
      "\n",
      "parser.add_argument(\"--imagesize\", type=int, default=None)\n",
      "parser.add_argument(\"--alpha\", type=float, default=1e-6)\n",
      "parser.add_argument('--time_length', type=float, default=1.0)\n",
      "parser.add_argument('--train_T', type=eval, default=True)\n",
      "\n",
      "parser.add_argument(\"--num_epochs\", type=int, default=1000)\n",
      "parser.add_argument(\"--batch_size\", type=int, default=200)\n",
      "parser.add_argument(\n",
      "    \"--batch_size_schedule\", type=str, default=\"\", help=\"Increases the batchsize at every given epoch, dash separated.\"\n",
      ")\n",
      "parser.add_argument(\"--test_batch_size\", type=int, default=200)\n",
      "parser.add_argument(\"--lr\", type=float, default=1e-3)\n",
      "parser.add_argument(\"--warmup_iters\", type=float, default=1000)\n",
      "parser.add_argument(\"--weight_decay\", type=float, default=0.0)\n",
      "parser.add_argument(\"--spectral_norm_niter\", type=int, default=10)\n",
      "\n",
      "parser.add_argument(\"--add_noise\", type=eval, default=True, choices=[True, False])\n",
      "parser.add_argument(\"--batch_norm\", type=eval, default=False, choices=[True, False])\n",
      "parser.add_argument('--residual', type=eval, default=False, choices=[True, False])\n",
      "parser.add_argument('--autoencode', type=eval, default=False, choices=[True, False])\n",
      "parser.add_argument('--rademacher', type=eval, default=True, choices=[True, False])\n",
      "parser.add_argument('--spectral_norm', type=eval, default=False, choices=[True, False])\n",
      "parser.add_argument('--multiscale', type=eval, default=False, choices=[True, False])\n",
      "parser.add_argument('--parallel', type=eval, default=False, choices=[True, False])\n",
      "parser.add_argument('--conditional', type=eval, default=True, choices=[True, False])\n",
      "\n",
      "# Regularizations\n",
      "parser.add_argument('--l1int', type=float, default=None, help=\"int_t ||f||_1\")\n",
      "parser.add_argument('--l2int', type=float, default=None, help=\"int_t ||f||_2\")\n",
      "parser.add_argument('--dl2int', type=float, default=None, help=\"int_t ||f^T df/dt||_2\")\n",
      "parser.add_argument('--JFrobint', type=float, default=None, help=\"int_t ||df/dx||_F\")\n",
      "parser.add_argument('--JdiagFrobint', type=float, default=None, help=\"int_t ||df_i/dx_i||_F\")\n",
      "parser.add_argument('--JoffdiagFrobint', type=float, default=None, help=\"int_t ||df/dx - df_i/dx_i||_F\")\n",
      "\n",
      "parser.add_argument(\"--time_penalty\", type=float, default=0, help=\"Regularization on the end_time.\")\n",
      "parser.add_argument(\n",
      "    \"--max_grad_norm\", type=float, default=1e10,\n",
      "    help=\"Max norm of graidents (default is just stupidly high to avoid any clipping)\"\n",
      ")\n",
      "\n",
      "parser.add_argument(\"--begin_epoch\", type=int, default=1)\n",
      "parser.add_argument(\"--resume\", type=str, default=None)\n",
      "parser.add_argument(\"--save\", type=str, default=\"experiments/cnf\")\n",
      "parser.add_argument(\"--val_freq\", type=int, default=1)\n",
      "parser.add_argument(\"--log_freq\", type=int, default=1)\n",
      "\n",
      "args = parser.parse_args()\n",
      "\n",
      "# logger\n",
      "utils.makedirs(args.save)\n",
      "logger = utils.get_logger(logpath=os.path.join(args.save, 'logs'), filepath=os.path.abspath(__file__))\n",
      "\n",
      "if args.layer_type == \"blend\":\n",
      "    logger.info(\"!! Setting time_length from None to 1.0 due to use of Blend layers.\")\n",
      "    args.time_length = 1.0\n",
      "\n",
      "logger.info(args)\n",
      "\n",
      "\n",
      "def add_noise(x):\n",
      "    \"\"\"\n",
      "    [0, 1] -> [0, 255] -> add noise -> [0, 1]\n",
      "    \"\"\"\n",
      "    if args.add_noise:\n",
      "        noise = x.new().resize_as_(x).uniform_()\n",
      "        x = x * 255 + noise\n",
      "        x = x / 256\n",
      "    return x\n",
      "\n",
      "\n",
      "def update_lr(optimizer, itr):\n",
      "    iter_frac = min(float(itr + 1) / max(args.warmup_iters, 1), 1.0)\n",
      "    lr = args.lr * iter_frac\n",
      "    for param_group in optimizer.param_groups:\n",
      "        param_group[\"lr\"] = lr\n",
      "\n",
      "\n",
      "def get_train_loader(train_set, epoch):\n",
      "    if args.batch_size_schedule != \"\":\n",
      "        epochs = [0] + list(map(int, args.batch_size_schedule.split(\"-\")))\n",
      "        n_passed = sum(np.array(epochs) <= epoch)\n",
      "        current_batch_size = int(args.batch_size * n_passed)\n",
      "    else:\n",
      "        current_batch_size = args.batch_size\n",
      "    train_loader = torch.utils.data.DataLoader(\n",
      "        dataset=train_set, batch_size=current_batch_size, shuffle=True, drop_last=True, pin_memory=True\n",
      "    )\n",
      "    logger.info(\"===> Using batch size {}. Total {} iterations/epoch.\".format(current_batch_size, len(train_loader)))\n",
      "    return train_loader\n",
      "\n",
      "\n",
      "def get_dataset(args):\n",
      "    trans = lambda im_size: tforms.Compose([tforms.Resize(im_size), tforms.ToTensor(), add_noise])\n",
      "\n",
      "    if args.data == \"mnist\":\n",
      "        im_dim = 1\n",
      "        im_size = 28 if args.imagesize is None else args.imagesize\n",
      "        train_set = dset.MNIST(root=\"./data\", train=True, transform=trans(im_size), download=True)\n",
      "        test_set = dset.MNIST(root=\"./data\", train=False, transform=trans(im_size), download=True)\n",
      "    elif args.data == \"svhn\":\n",
      "        im_dim = 3\n",
      "        im_size = 32 if args.imagesize is None else args.imagesize\n",
      "        train_set = dset.SVHN(root=\"./data\", split=\"train\", transform=trans(im_size), download=True)\n",
      "        test_set = dset.SVHN(root=\"./data\", split=\"test\", transform=trans(im_size), download=True)\n",
      "    elif args.data == \"cifar10\":\n",
      "        im_dim = 3\n",
      "        im_size = 32 if args.imagesize is None else args.imagesize\n",
      "        train_set = dset.CIFAR10(\n",
      "            root=\"./data\", train=True, transform=tforms.Compose([\n",
      "                tforms.Resize(im_size),\n",
      "                tforms.RandomHorizontalFlip(),\n",
      "                tforms.ToTensor(),\n",
      "                add_noise,\n",
      "            ]), download=True\n",
      "        )\n",
      "        test_set = dset.CIFAR10(root=\"./data\", train=False, transform=trans(im_size), download=True)\n",
      "    elif args.data == 'celeba':\n",
      "        im_dim = 3\n",
      "        im_size = 64 if args.imagesize is None else args.imagesize\n",
      "        train_set = dset.CelebA(\n",
      "            train=True, transform=tforms.Compose([\n",
      "                tforms.ToPILImage(),\n",
      "                tforms.Resize(im_size),\n",
      "                tforms.RandomHorizontalFlip(),\n",
      "                tforms.ToTensor(),\n",
      "                add_noise,\n",
      "            ])\n",
      "        )\n",
      "        test_set = dset.CelebA(\n",
      "            train=False, transform=tforms.Compose([\n",
      "                tforms.ToPILImage(),\n",
      "                tforms.Resize(im_size),\n",
      "                tforms.ToTensor(),\n",
      "                add_noise,\n",
      "            ])\n",
      "        )\n",
      "    elif args.data == 'lsun_church':\n",
      "        im_dim = 3\n",
      "        im_size = 64 if args.imagesize is None else args.imagesize\n",
      "        train_set = dset.LSUN(\n",
      "            './data', ['church_outdoor_train'], transform=tforms.Compose([\n",
      "                tforms.Resize(96),\n",
      "                tforms.RandomCrop(64),\n",
      "                tforms.Resize(im_size),\n",
      "                tforms.ToTensor(),\n",
      "                add_noise,\n",
      "            ])\n",
      "        )\n",
      "        test_set = dset.LSUN(\n",
      "            './data', ['church_outdoor_val'], transform=tforms.Compose([\n",
      "                tforms.Resize(96),\n",
      "                tforms.RandomCrop(64),\n",
      "                tforms.Resize(im_size),\n",
      "                tforms.ToTensor(),\n",
      "                add_noise,\n",
      "            ])\n",
      "        )    \n",
      "    elif args.data == 'imagenet_64':\n",
      "        im_dim = 3\n",
      "        im_size = 64 if args.imagesize is None else args.imagesize\n",
      "        train_set = dset.ImageFolder(\n",
      "            train=True, transform=tforms.Compose([\n",
      "                tforms.ToPILImage(),\n",
      "                tforms.Resize(im_size),\n",
      "                tforms.RandomHorizontalFlip(),\n",
      "                tforms.ToTensor(),\n",
      "                add_noise,\n",
      "            ])\n",
      "        )\n",
      "        test_set = dset.ImageFolder(\n",
      "            train=False, transform=tforms.Compose([\n",
      "                tforms.ToPILImage(),\n",
      "                tforms.Resize(im_size),\n",
      "                tforms.ToTensor(),\n",
      "                add_noise,\n",
      "            ])\n",
      "        )\n",
      "    \n",
      "    data_shape = (im_dim, im_size, im_size)\n",
      "    if not args.conv:\n",
      "        data_shape = (im_dim * im_size * im_size,)\n",
      "\n",
      "    test_loader = torch.utils.data.DataLoader(\n",
      "        dataset=test_set, batch_size=args.test_batch_size, shuffle=False, drop_last=True\n",
      "    )\n",
      "    return train_set, test_loader, data_shape\n",
      "\n",
      "\n",
      "def compute_bits_per_dim(x, model):\n",
      "    zero = torch.zeros(x.shape[0], 1).to(x)\n",
      "\n",
      "    # Don't use data parallelize if batch size is small.\n",
      "    # if x.shape[0] < 200:\n",
      "    #     model = model.module\n",
      "    \n",
      "    z, delta_logp = model(x, zero)  # run model forward\n",
      "\n",
      "    logpz = standard_normal_logprob(z).view(z.shape[0], -1).sum(1, keepdim=True)  # logp(z)\n",
      "    logpx = logpz - delta_logp\n",
      "\n",
      "    logpx_per_dim = torch.sum(logpx) / x.nelement()  # averaged over batches\n",
      "    bits_per_dim = -(logpx_per_dim - np.log(256)) / np.log(2)\n",
      "\n",
      "    return bits_per_dim\n",
      "\n",
      "\n",
      "def compute_bits_per_dim_and_xent(x, y, model, size_cond=10):\n",
      "    zero = torch.zeros(x.shape[0], 1).to(x)\n",
      "\n",
      "    # Don't use data parallelize if batch size is small.\n",
      "    # if x.shape[0] < 200:\n",
      "    #     model = model.module\n",
      "    \n",
      "    z, delta_logp = model(x, zero)  # run model forward\n",
      "    z_noise, z_cond = z[:,:-size_cond], z[:,-size_cond:] # split z into z for noise and z for conditional signal\n",
      "    \n",
      "    # compute bits_per_dim\n",
      "    logpz = standard_normal_logprob(z_noise).view(z_noise.shape[0], -1).sum(1, keepdim=True)  # logp(z_noise)\n",
      "    logpx = logpz - delta_logp\n",
      "    logpx_per_dim = torch.sum(logpx) / x.nelement()  # averaged over batches\n",
      "    bits_per_dim = -(logpx_per_dim - np.log(256)) / np.log(2)\n",
      "    \n",
      "    # compute xentropy loss\n",
      "    L_xent = torch.nn.CrossEntropyLoss()\n",
      "    loss_xent = L_xent(z_cond, y.to(x.get_device()))\n",
      "\n",
      "    return bits_per_dim, loss_xent\n",
      "\n",
      "\n",
      "def create_model(args, data_shape, regularization_fns):\n",
      "    hidden_dims = tuple(map(int, args.dims.split(\",\")))\n",
      "    strides = tuple(map(int, args.strides.split(\",\")))\n",
      "\n",
      "    if args.multiscale:\n",
      "        model = odenvp.ODENVP(\n",
      "            (args.batch_size, *data_shape),\n",
      "            n_blocks=args.num_blocks,\n",
      "            intermediate_dims=hidden_dims,\n",
      "            nonlinearity=args.nonlinearity,\n",
      "            alpha=args.alpha,\n",
      "            cnf_kwargs={\"T\": args.time_length, \"train_T\": args.train_T, \"regularization_fns\": regularization_fns},\n",
      "        )\n",
      "    elif args.parallel:\n",
      "        model = multiscale_parallel.MultiscaleParallelCNF(\n",
      "            (args.batch_size, *data_shape),\n",
      "            n_blocks=args.num_blocks,\n",
      "            intermediate_dims=hidden_dims,\n",
      "            alpha=args.alpha,\n",
      "            time_length=args.time_length,\n",
      "        )\n",
      "    else:\n",
      "        if args.autoencode:\n",
      "\n",
      "            def build_cnf():\n",
      "                autoencoder_diffeq = layers.AutoencoderDiffEqNet(\n",
      "                    hidden_dims=hidden_dims,\n",
      "                    input_shape=data_shape,\n",
      "                    strides=strides,\n",
      "                    conv=args.conv,\n",
      "                    layer_type=args.layer_type,\n",
      "                    nonlinearity=args.nonlinearity,\n",
      "                )\n",
      "                odefunc = layers.AutoencoderODEfunc(\n",
      "                    autoencoder_diffeq=autoencoder_diffeq,\n",
      "                    divergence_fn=args.divergence_fn,\n",
      "                    residual=args.residual,\n",
      "                    rademacher=args.rademacher,\n",
      "                )\n",
      "                cnf = layers.CNF(\n",
      "                    odefunc=odefunc,\n",
      "                    T=args.time_length,\n",
      "                    regularization_fns=regularization_fns,\n",
      "                    solver=args.solver,\n",
      "                )\n",
      "                return cnf\n",
      "        else:\n",
      "\n",
      "            def build_cnf():\n",
      "                diffeq = layers.ODEnet(\n",
      "                    hidden_dims=hidden_dims,\n",
      "                    input_shape=data_shape,\n",
      "                    strides=strides,\n",
      "                    conv=args.conv,\n",
      "                    layer_type=args.layer_type,\n",
      "                    nonlinearity=args.nonlinearity,\n",
      "                )\n",
      "                odefunc = layers.ODEfunc(\n",
      "                    diffeq=diffeq,\n",
      "                    divergence_fn=args.divergence_fn,\n",
      "                    residual=args.residual,\n",
      "                    rademacher=args.rademacher,\n",
      "                )\n",
      "                cnf = layers.CNF(\n",
      "                    odefunc=odefunc,\n",
      "                    T=args.time_length,\n",
      "                    train_T=args.train_T,\n",
      "                    regularization_fns=regularization_fns,\n",
      "                    solver=args.solver,\n",
      "                )\n",
      "                return cnf\n",
      "\n",
      "        chain = [layers.LogitTransform(alpha=args.alpha)] if args.alpha > 0 else [layers.ZeroMeanTransform()]\n",
      "        chain = chain + [build_cnf() for _ in range(args.num_blocks)]\n",
      "        if args.batch_norm:\n",
      "            chain.append(layers.MovingBatchNorm2d(data_shape[0]))\n",
      "        model = layers.SequentialFlow(chain)\n",
      "    return model\n",
      "\n",
      "\n",
      "if __name__ == \"__main__\":\n",
      "\n",
      "    # get deivce\n",
      "    device = torch.device(\"cuda:0\" if torch.cuda.is_available() else \"cpu\")\n",
      "    cvt = lambda x: x.type(torch.float32).to(device, non_blocking=True)\n",
      "\n",
      "    # load dataset\n",
      "    train_set, test_loader, data_shape = get_dataset(args)\n",
      "\n",
      "    # build model\n",
      "    regularization_fns, regularization_coeffs = create_regularization_fns(args)\n",
      "    model = create_model(args, data_shape, regularization_fns)\n",
      "\n",
      "    if args.spectral_norm: add_spectral_norm(model, logger)\n",
      "    set_cnf_options(args, model)\n",
      "\n",
      "    logger.info(model)\n",
      "    logger.info(\"Number of trainable parameters: {}\".format(count_parameters(model)))\n",
      "\n",
      "    # optimizer\n",
      "    optimizer = optim.Adam(model.parameters(), lr=args.lr, weight_decay=args.weight_decay)\n",
      "\n",
      "    # restore parameters\n",
      "    if args.resume is not None:\n",
      "        checkpt = torch.load(args.resume, map_location=lambda storage, loc: storage)\n",
      "        model.load_state_dict(checkpt[\"state_dict\"])\n",
      "        if \"optim_state_dict\" in checkpt.keys():\n",
      "            optimizer.load_state_dict(checkpt[\"optim_state_dict\"])\n",
      "            # Manually move optimizer state to device.\n",
      "            for state in optimizer.state.values():\n",
      "                for k, v in state.items():\n",
      "                    if torch.is_tensor(v):\n",
      "                        state[k] = cvt(v)\n",
      "\n",
      "    if torch.cuda.is_available():\n",
      "        model = torch.nn.DataParallel(model).cuda()\n",
      "\n",
      "    # For visualization.\n",
      "    fixed_z = cvt(torch.randn(100, *data_shape))\n",
      "\n",
      "    time_meter = utils.RunningAverageMeter(0.97)\n",
      "    loss_meter = utils.RunningAverageMeter(0.97)\n",
      "    steps_meter = utils.RunningAverageMeter(0.97)\n",
      "    grad_meter = utils.RunningAverageMeter(0.97)\n",
      "    tt_meter = utils.RunningAverageMeter(0.97)\n",
      "\n",
      "    if args.spectral_norm and not args.resume: spectral_norm_power_iteration(model, 500)\n",
      "\n",
      "    best_loss = float(\"inf\")\n",
      "    itr = 0\n",
      "    for epoch in range(args.begin_epoch, args.num_epochs + 1):\n",
      "        start_epoch = time.time()\n",
      "        model.train()\n",
      "        train_loader = get_train_loader(train_set, epoch)\n",
      "        for _, (x, y) in enumerate(train_loader):\n",
      "            start = time.time()\n",
      "            update_lr(optimizer, itr)\n",
      "            optimizer.zero_grad()\n",
      "\n",
      "            if not args.conv:\n",
      "                x = x.view(x.shape[0], -1)\n",
      "\n",
      "            # cast data and move to device\n",
      "            x = cvt(x)\n",
      "            \n",
      "            # compute loss\n",
      "            if args.conditional:\n",
      "                loss_nll, loss_xent = compute_bits_per_dim_and_xent(x, y, model, size_cond=10)\n",
      "                loss = loss_nll + loss_xent\n",
      "            else:\n",
      "                loss = compute_bits_per_dim(x, model)\n",
      "            \n",
      "            if regularization_coeffs:\n",
      "                reg_states = get_regularization(model, regularization_coeffs)\n",
      "                reg_loss = sum(\n",
      "                    reg_state * coeff for reg_state, coeff in zip(reg_states, regularization_coeffs) if coeff != 0\n",
      "                )\n",
      "                loss = loss + reg_loss\n",
      "            total_time = count_total_time(model)\n",
      "            loss = loss + total_time * args.time_penalty\n",
      "\n",
      "            loss.backward()\n",
      "            grad_norm = torch.nn.utils.clip_grad_norm_(model.parameters(), args.max_grad_norm)\n",
      "\n",
      "            optimizer.step()\n",
      "\n",
      "            if args.spectral_norm: spectral_norm_power_iteration(model, args.spectral_norm_niter)\n",
      "\n",
      "            time_meter.update(time.time() - start)\n",
      "            loss_meter.update(loss.item())\n",
      "            steps_meter.update(count_nfe(model))\n",
      "            grad_meter.update(grad_norm)\n",
      "            tt_meter.update(total_time)\n",
      "\n",
      "            if itr % args.log_freq == 0:\n",
      "                log_message = (\n",
      "                    \"Iter {:04d} | Time {:.4f}({:.4f}) | Bit/dim {:.4f}({:.4f}) | \"\n",
      "                    \"Steps {:.0f}({:.2f}) | Grad Norm {:.4f}({:.4f}) | Total Time {:.2f}({:.2f})\".format(\n",
      "                        itr, time_meter.val, time_meter.avg, loss_meter.val, loss_meter.avg, steps_meter.val,\n",
      "                        steps_meter.avg, grad_meter.val, grad_meter.avg, tt_meter.val, tt_meter.avg\n",
      "                    )\n",
      "                )\n",
      "                if regularization_coeffs:\n",
      "                    log_message = append_regularization_to_log(log_message, regularization_fns, reg_states)\n",
      "                logger.info(log_message)\n",
      "\n",
      "            itr += 1\n",
      "\n",
      "        # compute test loss\n",
      "        model.eval()\n",
      "        if epoch % args.val_freq == 0:\n",
      "            with torch.no_grad():\n",
      "                start = time.time()\n",
      "                logger.info(\"validating...\")\n",
      "                losses = []\n",
      "                for (x, y) in test_loader:\n",
      "                    if not args.conv:\n",
      "                        x = x.view(x.shape[0], -1)\n",
      "                    x = cvt(x)\n",
      "                    loss = compute_bits_per_dim(x, model)\n",
      "                    losses.append(loss.cpu().numpy())\n",
      "                \n",
      "                loss = np.mean(losses)\n",
      "                logger.info(\"Epoch {:04d} | Time {:.4f}, Epoch Time {:.4f}, Bit/dim {:.4f}\".format(epoch, time.time() - start, time.time() - start_epoch, loss))\n",
      "                \n",
      "                if loss < best_loss:\n",
      "                    best_loss = loss\n",
      "                    utils.makedirs(args.save)\n",
      "                    torch.save({\n",
      "                        \"args\": args,\n",
      "                        \"state_dict\": model.module.state_dict() if torch.cuda.is_available() else model.state_dict(),\n",
      "                        \"optim_state_dict\": optimizer.state_dict(),\n",
      "                    }, os.path.join(args.save, \"checkpt.pth\"))\n",
      "\n",
      "        # visualize samples and density\n",
      "        with torch.no_grad():\n",
      "            fig_filename = os.path.join(args.save, \"figs\", \"{:04d}.jpg\".format(epoch))\n",
      "            utils.makedirs(os.path.dirname(fig_filename))\n",
      "            generated_samples = model(fixed_z, reverse=True).view(-1, *data_shape)\n",
      "            save_image(generated_samples, fig_filename, nrow=10)\n",
      "\n",
      "Namespace(JFrobint=None, JdiagFrobint=None, JoffdiagFrobint=None, add_noise=True, alpha=1e-06, atol=1e-05, autoencode=False, batch_norm=False, batch_size=8000, batch_size_schedule='', begin_epoch=1, conditional=False, conv=True, data='mnist', dims='64,64,64', divergence_fn='approximate', dl2int=None, imagesize=None, l1int=None, l2int=None, layer_type='concat', log_freq=1, lr=0.001, max_grad_norm=10000000000.0, multiscale=True, nonlinearity='softplus', num_blocks=2, num_epochs=1000, parallel=False, rademacher=True, residual=False, resume=None, rtol=1e-05, save='experiments/cnf_nocond_bs8K', solver='dopri5', spectral_norm=False, spectral_norm_niter=10, step_size=None, strides='1,1,1,1', test_atol=None, test_batch_size=8000, test_rtol=None, test_solver=None, time_length=1.0, time_penalty=0, train_T=True, val_freq=1, warmup_iters=1000, weight_decay=0.0)\n",
      "ODENVP(\n",
      "  (transforms): ModuleList(\n",
      "    (0): StackedCNFLayers(\n",
      "      (chain): ModuleList(\n",
      "        (0): LogitTransform()\n",
      "        (1): CNF(\n",
      "          (odefunc): RegularizedODEfunc(\n",
      "            (odefunc): ODEfunc(\n",
      "              (diffeq): ODEnet(\n",
      "                (layers): ModuleList(\n",
      "                  (0): ConcatConv2d(\n",
      "                    (_layer): Conv2d(2, 64, kernel_size=(3, 3), stride=(1, 1), padding=(1, 1))\n",
      "                  )\n",
      "                  (1): ConcatConv2d(\n",
      "                    (_layer): Conv2d(65, 64, kernel_size=(3, 3), stride=(1, 1), padding=(1, 1))\n",
      "                  )\n",
      "                  (2): ConcatConv2d(\n",
      "                    (_layer): Conv2d(65, 64, kernel_size=(3, 3), stride=(1, 1), padding=(1, 1))\n",
      "                  )\n",
      "                  (3): ConcatConv2d(\n",
      "                    (_layer): Conv2d(65, 1, kernel_size=(3, 3), stride=(1, 1), padding=(1, 1))\n",
      "                  )\n",
      "                )\n",
      "                (activation_fns): ModuleList(\n",
      "                  (0): Softplus(beta=1, threshold=20)\n",
      "                  (1): Softplus(beta=1, threshold=20)\n",
      "                  (2): Softplus(beta=1, threshold=20)\n",
      "                )\n",
      "              )\n",
      "            )\n",
      "          )\n",
      "        )\n",
      "        (2): CNF(\n",
      "          (odefunc): RegularizedODEfunc(\n",
      "            (odefunc): ODEfunc(\n",
      "              (diffeq): ODEnet(\n",
      "                (layers): ModuleList(\n",
      "                  (0): ConcatConv2d(\n",
      "                    (_layer): Conv2d(2, 64, kernel_size=(3, 3), stride=(1, 1), padding=(1, 1))\n",
      "                  )\n",
      "                  (1): ConcatConv2d(\n",
      "                    (_layer): Conv2d(65, 64, kernel_size=(3, 3), stride=(1, 1), padding=(1, 1))\n",
      "                  )\n",
      "                  (2): ConcatConv2d(\n",
      "                    (_layer): Conv2d(65, 64, kernel_size=(3, 3), stride=(1, 1), padding=(1, 1))\n",
      "                  )\n",
      "                  (3): ConcatConv2d(\n",
      "                    (_layer): Conv2d(65, 1, kernel_size=(3, 3), stride=(1, 1), padding=(1, 1))\n",
      "                  )\n",
      "                )\n",
      "                (activation_fns): ModuleList(\n",
      "                  (0): Softplus(beta=1, threshold=20)\n",
      "                  (1): Softplus(beta=1, threshold=20)\n",
      "                  (2): Softplus(beta=1, threshold=20)\n",
      "                )\n",
      "              )\n",
      "            )\n",
      "          )\n",
      "        )\n",
      "        (3): SqueezeLayer()\n",
      "        (4): CNF(\n",
      "          (odefunc): RegularizedODEfunc(\n",
      "            (odefunc): ODEfunc(\n",
      "              (diffeq): ODEnet(\n",
      "                (layers): ModuleList(\n",
      "                  (0): ConcatConv2d(\n",
      "                    (_layer): Conv2d(5, 64, kernel_size=(3, 3), stride=(1, 1), padding=(1, 1))\n",
      "                  )\n",
      "                  (1): ConcatConv2d(\n",
      "                    (_layer): Conv2d(65, 64, kernel_size=(3, 3), stride=(1, 1), padding=(1, 1))\n",
      "                  )\n",
      "                  (2): ConcatConv2d(\n",
      "                    (_layer): Conv2d(65, 64, kernel_size=(3, 3), stride=(1, 1), padding=(1, 1))\n",
      "                  )\n",
      "                  (3): ConcatConv2d(\n",
      "                    (_layer): Conv2d(65, 4, kernel_size=(3, 3), stride=(1, 1), padding=(1, 1))\n",
      "                  )\n",
      "                )\n",
      "                (activation_fns): ModuleList(\n",
      "                  (0): Softplus(beta=1, threshold=20)\n",
      "                  (1): Softplus(beta=1, threshold=20)\n",
      "                  (2): Softplus(beta=1, threshold=20)\n",
      "                )\n",
      "              )\n",
      "            )\n",
      "          )\n",
      "        )\n",
      "        (5): CNF(\n",
      "          (odefunc): RegularizedODEfunc(\n",
      "            (odefunc): ODEfunc(\n",
      "              (diffeq): ODEnet(\n",
      "                (layers): ModuleList(\n",
      "                  (0): ConcatConv2d(\n",
      "                    (_layer): Conv2d(5, 64, kernel_size=(3, 3), stride=(1, 1), padding=(1, 1))\n",
      "                  )\n",
      "                  (1): ConcatConv2d(\n",
      "                    (_layer): Conv2d(65, 64, kernel_size=(3, 3), stride=(1, 1), padding=(1, 1))\n",
      "                  )\n",
      "                  (2): ConcatConv2d(\n",
      "                    (_layer): Conv2d(65, 64, kernel_size=(3, 3), stride=(1, 1), padding=(1, 1))\n",
      "                  )\n",
      "                  (3): ConcatConv2d(\n",
      "                    (_layer): Conv2d(65, 4, kernel_size=(3, 3), stride=(1, 1), padding=(1, 1))\n",
      "                  )\n",
      "                )\n",
      "                (activation_fns): ModuleList(\n",
      "                  (0): Softplus(beta=1, threshold=20)\n",
      "                  (1): Softplus(beta=1, threshold=20)\n",
      "                  (2): Softplus(beta=1, threshold=20)\n",
      "                )\n",
      "              )\n",
      "            )\n",
      "          )\n",
      "        )\n",
      "      )\n",
      "    )\n",
      "    (1): StackedCNFLayers(\n",
      "      (chain): ModuleList(\n",
      "        (0): CNF(\n",
      "          (odefunc): RegularizedODEfunc(\n",
      "            (odefunc): ODEfunc(\n",
      "              (diffeq): ODEnet(\n",
      "                (layers): ModuleList(\n",
      "                  (0): ConcatConv2d(\n",
      "                    (_layer): Conv2d(3, 64, kernel_size=(3, 3), stride=(1, 1), padding=(1, 1))\n",
      "                  )\n",
      "                  (1): ConcatConv2d(\n",
      "                    (_layer): Conv2d(65, 64, kernel_size=(3, 3), stride=(1, 1), padding=(1, 1))\n",
      "                  )\n",
      "                  (2): ConcatConv2d(\n",
      "                    (_layer): Conv2d(65, 64, kernel_size=(3, 3), stride=(1, 1), padding=(1, 1))\n",
      "                  )\n",
      "                  (3): ConcatConv2d(\n",
      "                    (_layer): Conv2d(65, 2, kernel_size=(3, 3), stride=(1, 1), padding=(1, 1))\n",
      "                  )\n",
      "                )\n",
      "                (activation_fns): ModuleList(\n",
      "                  (0): Softplus(beta=1, threshold=20)\n",
      "                  (1): Softplus(beta=1, threshold=20)\n",
      "                  (2): Softplus(beta=1, threshold=20)\n",
      "                )\n",
      "              )\n",
      "            )\n",
      "          )\n",
      "        )\n",
      "        (1): CNF(\n",
      "          (odefunc): RegularizedODEfunc(\n",
      "            (odefunc): ODEfunc(\n",
      "              (diffeq): ODEnet(\n",
      "                (layers): ModuleList(\n",
      "                  (0): ConcatConv2d(\n",
      "                    (_layer): Conv2d(3, 64, kernel_size=(3, 3), stride=(1, 1), padding=(1, 1))\n",
      "                  )\n",
      "                  (1): ConcatConv2d(\n",
      "                    (_layer): Conv2d(65, 64, kernel_size=(3, 3), stride=(1, 1), padding=(1, 1))\n",
      "                  )\n",
      "                  (2): ConcatConv2d(\n",
      "                    (_layer): Conv2d(65, 64, kernel_size=(3, 3), stride=(1, 1), padding=(1, 1))\n",
      "                  )\n",
      "                  (3): ConcatConv2d(\n",
      "                    (_layer): Conv2d(65, 2, kernel_size=(3, 3), stride=(1, 1), padding=(1, 1))\n",
      "                  )\n",
      "                )\n",
      "                (activation_fns): ModuleList(\n",
      "                  (0): Softplus(beta=1, threshold=20)\n",
      "                  (1): Softplus(beta=1, threshold=20)\n",
      "                  (2): Softplus(beta=1, threshold=20)\n",
      "                )\n",
      "              )\n",
      "            )\n",
      "          )\n",
      "        )\n",
      "        (2): SqueezeLayer()\n",
      "        (3): CNF(\n",
      "          (odefunc): RegularizedODEfunc(\n",
      "            (odefunc): ODEfunc(\n",
      "              (diffeq): ODEnet(\n",
      "                (layers): ModuleList(\n",
      "                  (0): ConcatConv2d(\n",
      "                    (_layer): Conv2d(9, 64, kernel_size=(3, 3), stride=(1, 1), padding=(1, 1))\n",
      "                  )\n",
      "                  (1): ConcatConv2d(\n",
      "                    (_layer): Conv2d(65, 64, kernel_size=(3, 3), stride=(1, 1), padding=(1, 1))\n",
      "                  )\n",
      "                  (2): ConcatConv2d(\n",
      "                    (_layer): Conv2d(65, 64, kernel_size=(3, 3), stride=(1, 1), padding=(1, 1))\n",
      "                  )\n",
      "                  (3): ConcatConv2d(\n",
      "                    (_layer): Conv2d(65, 8, kernel_size=(3, 3), stride=(1, 1), padding=(1, 1))\n",
      "                  )\n",
      "                )\n",
      "                (activation_fns): ModuleList(\n",
      "                  (0): Softplus(beta=1, threshold=20)\n",
      "                  (1): Softplus(beta=1, threshold=20)\n",
      "                  (2): Softplus(beta=1, threshold=20)\n",
      "                )\n",
      "              )\n",
      "            )\n",
      "          )\n",
      "        )\n",
      "        (4): CNF(\n",
      "          (odefunc): RegularizedODEfunc(\n",
      "            (odefunc): ODEfunc(\n",
      "              (diffeq): ODEnet(\n",
      "                (layers): ModuleList(\n",
      "                  (0): ConcatConv2d(\n",
      "                    (_layer): Conv2d(9, 64, kernel_size=(3, 3), stride=(1, 1), padding=(1, 1))\n",
      "                  )\n",
      "                  (1): ConcatConv2d(\n",
      "                    (_layer): Conv2d(65, 64, kernel_size=(3, 3), stride=(1, 1), padding=(1, 1))\n",
      "                  )\n",
      "                  (2): ConcatConv2d(\n",
      "                    (_layer): Conv2d(65, 64, kernel_size=(3, 3), stride=(1, 1), padding=(1, 1))\n",
      "                  )\n",
      "                  (3): ConcatConv2d(\n",
      "                    (_layer): Conv2d(65, 8, kernel_size=(3, 3), stride=(1, 1), padding=(1, 1))\n",
      "                  )\n",
      "                )\n",
      "                (activation_fns): ModuleList(\n",
      "                  (0): Softplus(beta=1, threshold=20)\n",
      "                  (1): Softplus(beta=1, threshold=20)\n",
      "                  (2): Softplus(beta=1, threshold=20)\n",
      "                )\n",
      "              )\n",
      "            )\n",
      "          )\n",
      "        )\n",
      "      )\n",
      "    )\n",
      "    (2): StackedCNFLayers(\n",
      "      (chain): ModuleList(\n",
      "        (0): CNF(\n",
      "          (odefunc): RegularizedODEfunc(\n",
      "            (odefunc): ODEfunc(\n",
      "              (diffeq): ODEnet(\n",
      "                (layers): ModuleList(\n",
      "                  (0): ConcatConv2d(\n",
      "                    (_layer): Conv2d(5, 64, kernel_size=(3, 3), stride=(1, 1), padding=(1, 1))\n",
      "                  )\n",
      "                  (1): ConcatConv2d(\n",
      "                    (_layer): Conv2d(65, 64, kernel_size=(3, 3), stride=(1, 1), padding=(1, 1))\n",
      "                  )\n",
      "                  (2): ConcatConv2d(\n",
      "                    (_layer): Conv2d(65, 64, kernel_size=(3, 3), stride=(1, 1), padding=(1, 1))\n",
      "                  )\n",
      "                  (3): ConcatConv2d(\n",
      "                    (_layer): Conv2d(65, 4, kernel_size=(3, 3), stride=(1, 1), padding=(1, 1))\n",
      "                  )\n",
      "                )\n",
      "                (activation_fns): ModuleList(\n",
      "                  (0): Softplus(beta=1, threshold=20)\n",
      "                  (1): Softplus(beta=1, threshold=20)\n",
      "                  (2): Softplus(beta=1, threshold=20)\n",
      "                )\n",
      "              )\n",
      "            )\n",
      "          )\n",
      "        )\n",
      "        (1): CNF(\n",
      "          (odefunc): RegularizedODEfunc(\n",
      "            (odefunc): ODEfunc(\n",
      "              (diffeq): ODEnet(\n",
      "                (layers): ModuleList(\n",
      "                  (0): ConcatConv2d(\n",
      "                    (_layer): Conv2d(5, 64, kernel_size=(3, 3), stride=(1, 1), padding=(1, 1))\n",
      "                  )\n",
      "                  (1): ConcatConv2d(\n",
      "                    (_layer): Conv2d(65, 64, kernel_size=(3, 3), stride=(1, 1), padding=(1, 1))\n",
      "                  )\n",
      "                  (2): ConcatConv2d(\n",
      "                    (_layer): Conv2d(65, 64, kernel_size=(3, 3), stride=(1, 1), padding=(1, 1))\n",
      "                  )\n",
      "                  (3): ConcatConv2d(\n",
      "                    (_layer): Conv2d(65, 4, kernel_size=(3, 3), stride=(1, 1), padding=(1, 1))\n",
      "                  )\n",
      "                )\n",
      "                (activation_fns): ModuleList(\n",
      "                  (0): Softplus(beta=1, threshold=20)\n",
      "                  (1): Softplus(beta=1, threshold=20)\n",
      "                  (2): Softplus(beta=1, threshold=20)\n",
      "                )\n",
      "              )\n",
      "            )\n",
      "          )\n",
      "        )\n",
      "      )\n",
      "    )\n",
      "  )\n",
      ")\n",
      "Number of trainable parameters: 800646\n",
      "===> Using batch size 8000. Total 7 iterations/epoch.\n",
      "/tancode/repos/tan-ffjord/lib/layers/odefunc.py:286: UserWarning: To copy construct from a tensor, it is recommended to use sourceTensor.clone().detach() or sourceTensor.clone().detach().requires_grad_(True), rather than torch.tensor(sourceTensor).\n",
      "  t = torch.tensor(t).type_as(y)\n",
      "Iter 0000 | Time 65.4330(65.4330) | Bit/dim 25.8366(25.8366) | Steps 410(410.00) | Grad Norm 206.4158(206.4158) | Total Time 10.00(10.00)\n",
      "Iter 0001 | Time 27.7170(64.3015) | Bit/dim 25.7938(25.8353) | Steps 410(410.00) | Grad Norm 206.6533(206.4229) | Total Time 10.00(10.00)\n",
      "Iter 0002 | Time 26.8669(63.1785) | Bit/dim 25.6865(25.8309) | Steps 410(410.00) | Grad Norm 205.0067(206.3804) | Total Time 10.00(10.00)\n",
      "Iter 0003 | Time 26.3309(62.0730) | Bit/dim 25.5567(25.8226) | Steps 410(410.00) | Grad Norm 203.9563(206.3077) | Total Time 10.00(10.00)\n",
      "Iter 0004 | Time 27.1698(61.0259) | Bit/dim 25.3583(25.8087) | Steps 410(410.00) | Grad Norm 202.0674(206.1805) | Total Time 10.00(10.00)\n",
      "Iter 0005 | Time 26.5277(59.9910) | Bit/dim 25.1480(25.7889) | Steps 410(410.00) | Grad Norm 200.3422(206.0053) | Total Time 10.00(10.00)\n",
      "Iter 0006 | Time 26.4861(58.9859) | Bit/dim 24.8754(25.7615) | Steps 410(410.00) | Grad Norm 198.1234(205.7689) | Total Time 10.00(10.00)\n",
      "validating...\n",
      "Epoch 0001 | Time 8.7428, Epoch Time 247.3872, Bit/dim 24.5907\n"
     ]
    },
    {
     "name": "stdout",
     "output_type": "stream",
     "text": [
      "do _generate\n",
      "do _generate\n",
      "do _generate\n",
      "do _generate\n",
      "do _generate\n",
      "do _generate\n",
      "do _generate\n",
      "do _generate\n"
     ]
    },
    {
     "name": "stderr",
     "output_type": "stream",
     "text": [
      "===> Using batch size 8000. Total 7 iterations/epoch.\n",
      "Iter 0007 | Time 28.4405(58.0695) | Bit/dim 24.5518(25.7252) | Steps 410(410.00) | Grad Norm 195.2933(205.4546) | Total Time 10.00(10.00)\n",
      "Iter 0008 | Time 26.5125(57.1228) | Bit/dim 24.2112(25.6798) | Steps 410(410.00) | Grad Norm 192.6661(205.0710) | Total Time 10.00(10.00)\n",
      "Iter 0009 | Time 26.6585(56.2089) | Bit/dim 23.8490(25.6249) | Steps 410(410.00) | Grad Norm 189.7350(204.6109) | Total Time 10.00(10.00)\n",
      "Iter 0010 | Time 26.6223(55.3213) | Bit/dim 23.4132(25.5585) | Steps 410(410.00) | Grad Norm 185.8377(204.0477) | Total Time 10.00(10.00)\n",
      "Iter 0011 | Time 26.2271(54.4484) | Bit/dim 22.9708(25.4809) | Steps 410(410.00) | Grad Norm 181.3509(203.3668) | Total Time 10.00(10.00)\n",
      "Iter 0012 | Time 26.4226(53.6077) | Bit/dim 22.4924(25.3912) | Steps 410(410.00) | Grad Norm 177.9913(202.6055) | Total Time 10.00(10.00)\n",
      "Iter 0013 | Time 26.8054(52.8036) | Bit/dim 22.0062(25.2897) | Steps 410(410.00) | Grad Norm 172.7741(201.7106) | Total Time 10.00(10.00)\n",
      "validating...\n",
      "Epoch 0002 | Time 8.5870, Epoch Time 208.2186, Bit/dim 21.5101\n"
     ]
    },
    {
     "name": "stdout",
     "output_type": "stream",
     "text": [
      "do _generate\n",
      "do _generate\n",
      "do _generate\n",
      "do _generate\n",
      "do _generate\n",
      "do _generate\n",
      "do _generate\n",
      "do _generate\n"
     ]
    },
    {
     "name": "stderr",
     "output_type": "stream",
     "text": [
      "===> Using batch size 8000. Total 7 iterations/epoch.\n",
      "Iter 0014 | Time 27.3366(52.0396) | Bit/dim 21.4764(25.1753) | Steps 410(410.00) | Grad Norm 168.6384(200.7184) | Total Time 10.00(10.00)\n",
      "Iter 0015 | Time 26.4782(51.2727) | Bit/dim 20.9535(25.0486) | Steps 410(410.00) | Grad Norm 162.9912(199.5866) | Total Time 10.00(10.00)\n",
      "Iter 0016 | Time 26.5420(50.5308) | Bit/dim 20.4183(24.9097) | Steps 410(410.00) | Grad Norm 157.7711(198.3321) | Total Time 10.00(10.00)\n",
      "Iter 0017 | Time 26.6628(49.8148) | Bit/dim 19.8417(24.7577) | Steps 410(410.00) | Grad Norm 152.6234(196.9609) | Total Time 10.00(10.00)\n",
      "Iter 0018 | Time 27.3651(49.1413) | Bit/dim 19.2992(24.5939) | Steps 410(410.00) | Grad Norm 146.3866(195.4436) | Total Time 10.00(10.00)\n",
      "Iter 0019 | Time 26.9746(48.4763) | Bit/dim 18.7327(24.4181) | Steps 410(410.00) | Grad Norm 140.5430(193.7966) | Total Time 10.00(10.00)\n",
      "Iter 0020 | Time 26.7336(47.8240) | Bit/dim 18.1796(24.2309) | Steps 410(410.00) | Grad Norm 134.5533(192.0193) | Total Time 10.00(10.00)\n",
      "validating...\n",
      "Epoch 0003 | Time 8.7284, Epoch Time 208.7880, Bit/dim 17.6497\n"
     ]
    },
    {
     "name": "stdout",
     "output_type": "stream",
     "text": [
      "do _generate\n",
      "do _generate\n",
      "do _generate\n",
      "do _generate\n",
      "do _generate\n",
      "do _generate\n",
      "do _generate\n",
      "do _generate\n"
     ]
    },
    {
     "name": "stderr",
     "output_type": "stream",
     "text": [
      "===> Using batch size 8000. Total 7 iterations/epoch.\n",
      "Iter 0021 | Time 26.4631(47.1832) | Bit/dim 17.6099(24.0323) | Steps 410(410.00) | Grad Norm 129.0221(190.1294) | Total Time 10.00(10.00)\n",
      "Iter 0022 | Time 26.6005(46.5657) | Bit/dim 17.0849(23.8239) | Steps 410(410.00) | Grad Norm 122.2324(188.0925) | Total Time 10.00(10.00)\n",
      "Iter 0023 | Time 26.7422(45.9710) | Bit/dim 16.5634(23.6061) | Steps 410(410.00) | Grad Norm 115.7213(185.9214) | Total Time 10.00(10.00)\n",
      "Iter 0024 | Time 26.6012(45.3899) | Bit/dim 16.0677(23.3799) | Steps 410(410.00) | Grad Norm 108.8313(183.6087) | Total Time 10.00(10.00)\n",
      "Iter 0025 | Time 26.8664(44.8342) | Bit/dim 15.6127(23.1469) | Steps 410(410.00) | Grad Norm 101.7209(181.1520) | Total Time 10.00(10.00)\n",
      "Iter 0026 | Time 27.0624(44.3010) | Bit/dim 15.1286(22.9063) | Steps 410(410.00) | Grad Norm 95.5814(178.5849) | Total Time 10.00(10.00)\n",
      "Iter 0027 | Time 27.0789(43.7844) | Bit/dim 14.7267(22.6610) | Steps 410(410.00) | Grad Norm 88.5131(175.8827) | Total Time 10.00(10.00)\n",
      "validating...\n",
      "Epoch 0004 | Time 8.8479, Epoch Time 208.5337, Bit/dim 14.2897\n"
     ]
    },
    {
     "name": "stdout",
     "output_type": "stream",
     "text": [
      "do _generate\n",
      "do _generate\n",
      "do _generate\n",
      "do _generate\n",
      "do _generate\n",
      "do _generate\n",
      "do _generate\n",
      "do _generate\n"
     ]
    },
    {
     "name": "stderr",
     "output_type": "stream",
     "text": [
      "===> Using batch size 8000. Total 7 iterations/epoch.\n",
      "Iter 0028 | Time 27.7640(43.3038) | Bit/dim 14.2853(22.4097) | Steps 410(410.00) | Grad Norm 82.1236(173.0700) | Total Time 10.00(10.00)\n",
      "Iter 0029 | Time 26.5708(42.8018) | Bit/dim 13.8793(22.1538) | Steps 410(410.00) | Grad Norm 75.9183(170.1554) | Total Time 10.00(10.00)\n",
      "Iter 0030 | Time 27.3618(42.3386) | Bit/dim 13.5337(21.8952) | Steps 410(410.00) | Grad Norm 69.2134(167.1272) | Total Time 10.00(10.00)\n",
      "Iter 0031 | Time 26.6563(41.8681) | Bit/dim 13.2393(21.6355) | Steps 410(410.00) | Grad Norm 62.5050(163.9885) | Total Time 10.00(10.00)\n",
      "Iter 0032 | Time 26.8034(41.4162) | Bit/dim 12.9509(21.3750) | Steps 410(410.00) | Grad Norm 56.1170(160.7523) | Total Time 10.00(10.00)\n",
      "Iter 0033 | Time 26.7277(40.9755) | Bit/dim 12.6636(21.1136) | Steps 410(410.00) | Grad Norm 50.4045(157.4419) | Total Time 10.00(10.00)\n",
      "Iter 0034 | Time 27.6118(40.5746) | Bit/dim 12.4435(20.8535) | Steps 410(410.00) | Grad Norm 44.5738(154.0559) | Total Time 10.00(10.00)\n",
      "validating...\n",
      "Epoch 0005 | Time 8.7611, Epoch Time 210.4502, Bit/dim 12.2112\n"
     ]
    },
    {
     "name": "stdout",
     "output_type": "stream",
     "text": [
      "do _generate\n",
      "do _generate\n",
      "do _generate\n",
      "do _generate\n",
      "do _generate\n",
      "do _generate\n",
      "do _generate\n",
      "do _generate\n"
     ]
    },
    {
     "name": "stderr",
     "output_type": "stream",
     "text": [
      "===> Using batch size 8000. Total 7 iterations/epoch.\n",
      "Iter 0035 | Time 26.9487(40.1658) | Bit/dim 12.2367(20.5950) | Steps 410(410.00) | Grad Norm 39.1560(150.6089) | Total Time 10.00(10.00)\n",
      "Iter 0036 | Time 26.4214(39.7535) | Bit/dim 12.0437(20.3385) | Steps 410(410.00) | Grad Norm 34.4292(147.1235) | Total Time 10.00(10.00)\n",
      "Iter 0037 | Time 26.3266(39.3507) | Bit/dim 11.8587(20.0841) | Steps 410(410.00) | Grad Norm 30.0670(143.6118) | Total Time 10.00(10.00)\n",
      "Iter 0038 | Time 27.1133(38.9836) | Bit/dim 11.6525(19.8311) | Steps 410(410.00) | Grad Norm 26.7093(140.1047) | Total Time 10.00(10.00)\n",
      "Iter 0039 | Time 26.5611(38.6109) | Bit/dim 11.4806(19.5806) | Steps 410(410.00) | Grad Norm 23.7762(136.6149) | Total Time 10.00(10.00)\n",
      "Iter 0040 | Time 27.3819(38.2740) | Bit/dim 11.3462(19.3336) | Steps 410(410.00) | Grad Norm 21.4475(133.1598) | Total Time 10.00(10.00)\n",
      "Iter 0041 | Time 26.9583(37.9345) | Bit/dim 11.2640(19.0915) | Steps 410(410.00) | Grad Norm 19.6824(129.7555) | Total Time 10.00(10.00)\n",
      "validating...\n",
      "Epoch 0006 | Time 8.7989, Epoch Time 208.5925, Bit/dim 11.0880\n"
     ]
    },
    {
     "name": "stdout",
     "output_type": "stream",
     "text": [
      "do _generate\n",
      "do _generate\n",
      "do _generate\n",
      "do _generate\n",
      "do _generate\n",
      "do _generate\n",
      "do _generate\n",
      "do _generate\n"
     ]
    },
    {
     "name": "stderr",
     "output_type": "stream",
     "text": [
      "===> Using batch size 8000. Total 7 iterations/epoch.\n",
      "Iter 0042 | Time 26.7982(37.6005) | Bit/dim 11.0944(18.8516) | Steps 410(410.00) | Grad Norm 18.6795(126.4232) | Total Time 10.00(10.00)\n",
      "Iter 0043 | Time 27.6977(37.3034) | Bit/dim 11.0199(18.6166) | Steps 410(410.00) | Grad Norm 18.1933(123.1763) | Total Time 10.00(10.00)\n",
      "Iter 0044 | Time 27.4743(37.0085) | Bit/dim 10.8225(18.3828) | Steps 410(410.00) | Grad Norm 17.7853(120.0146) | Total Time 10.00(10.00)\n",
      "Iter 0045 | Time 26.7074(36.6995) | Bit/dim 10.6743(18.1515) | Steps 410(410.00) | Grad Norm 17.5493(116.9406) | Total Time 10.00(10.00)\n",
      "Iter 0046 | Time 26.6837(36.3990) | Bit/dim 10.5015(17.9220) | Steps 410(410.00) | Grad Norm 17.2816(113.9509) | Total Time 10.00(10.00)\n",
      "Iter 0047 | Time 26.6300(36.1059) | Bit/dim 10.4672(17.6984) | Steps 410(410.00) | Grad Norm 17.4961(111.0572) | Total Time 10.00(10.00)\n",
      "Iter 0048 | Time 26.6841(35.8233) | Bit/dim 10.2101(17.4738) | Steps 410(410.00) | Grad Norm 16.7540(108.2281) | Total Time 10.00(10.00)\n",
      "validating...\n",
      "Epoch 0007 | Time 8.6420, Epoch Time 209.4342, Bit/dim 10.0811\n"
     ]
    },
    {
     "name": "stdout",
     "output_type": "stream",
     "text": [
      "do _generate\n",
      "do _generate\n",
      "do _generate\n",
      "do _generate\n",
      "do _generate\n",
      "do _generate\n",
      "do _generate\n",
      "do _generate\n"
     ]
    },
    {
     "name": "stderr",
     "output_type": "stream",
     "text": [
      "===> Using batch size 8000. Total 7 iterations/epoch.\n",
      "Iter 0049 | Time 26.7363(35.5507) | Bit/dim 10.1076(17.2528) | Steps 410(410.00) | Grad Norm 16.5713(105.4784) | Total Time 10.00(10.00)\n",
      "Iter 0050 | Time 26.7379(35.2863) | Bit/dim 9.9342(17.0332) | Steps 410(410.00) | Grad Norm 15.9488(102.7925) | Total Time 10.00(10.00)\n",
      "Iter 0051 | Time 26.9494(35.0362) | Bit/dim 9.8385(16.8174) | Steps 410(410.00) | Grad Norm 15.6497(100.1783) | Total Time 10.00(10.00)\n",
      "Iter 0052 | Time 26.8042(34.7892) | Bit/dim 9.6489(16.6023) | Steps 410(410.00) | Grad Norm 14.9598(97.6217) | Total Time 10.00(10.00)\n",
      "Iter 0053 | Time 26.6985(34.5465) | Bit/dim 9.4744(16.3885) | Steps 410(410.00) | Grad Norm 14.3530(95.1236) | Total Time 10.00(10.00)\n",
      "Iter 0054 | Time 26.7390(34.3123) | Bit/dim 9.3249(16.1766) | Steps 410(410.00) | Grad Norm 13.9133(92.6873) | Total Time 10.00(10.00)\n",
      "Iter 0055 | Time 27.0410(34.0941) | Bit/dim 9.2133(15.9677) | Steps 410(410.00) | Grad Norm 13.7034(90.3178) | Total Time 10.00(10.00)\n",
      "validating...\n",
      "Epoch 0008 | Time 8.7359, Epoch Time 208.5913, Bit/dim 9.0374\n"
     ]
    },
    {
     "name": "stdout",
     "output_type": "stream",
     "text": [
      "do _generate\n",
      "do _generate\n",
      "do _generate\n",
      "do _generate\n",
      "do _generate\n",
      "do _generate\n",
      "do _generate\n",
      "do _generate\n"
     ]
    },
    {
     "name": "stderr",
     "output_type": "stream",
     "text": [
      "===> Using batch size 8000. Total 7 iterations/epoch.\n",
      "Iter 0056 | Time 27.0248(33.8820) | Bit/dim 9.0406(15.7599) | Steps 410(410.00) | Grad Norm 13.4664(88.0123) | Total Time 10.00(10.00)\n",
      "Iter 0057 | Time 26.5110(33.6609) | Bit/dim 8.9505(15.5556) | Steps 410(410.00) | Grad Norm 13.5362(85.7780) | Total Time 10.00(10.00)\n",
      "Iter 0058 | Time 26.6545(33.4507) | Bit/dim 8.8085(15.3532) | Steps 410(410.00) | Grad Norm 13.6270(83.6135) | Total Time 10.00(10.00)\n",
      "Iter 0059 | Time 26.3344(33.2372) | Bit/dim 8.6394(15.1517) | Steps 410(410.00) | Grad Norm 13.8820(81.5215) | Total Time 10.00(10.00)\n",
      "Iter 0060 | Time 26.7029(33.0412) | Bit/dim 8.5074(14.9524) | Steps 410(410.00) | Grad Norm 14.2658(79.5038) | Total Time 10.00(10.00)\n",
      "Iter 0061 | Time 26.9266(32.8578) | Bit/dim 8.3380(14.7540) | Steps 410(410.00) | Grad Norm 14.7524(77.5613) | Total Time 10.00(10.00)\n",
      "Iter 0062 | Time 27.7629(32.7049) | Bit/dim 8.2355(14.5584) | Steps 410(410.00) | Grad Norm 15.1601(75.6893) | Total Time 10.00(10.00)\n",
      "validating...\n",
      "Epoch 0009 | Time 8.8570, Epoch Time 208.8293, Bit/dim 8.0951\n"
     ]
    },
    {
     "name": "stdout",
     "output_type": "stream",
     "text": [
      "do _generate\n",
      "do _generate\n",
      "do _generate\n",
      "do _generate\n",
      "do _generate\n",
      "do _generate\n",
      "do _generate\n",
      "do _generate\n"
     ]
    },
    {
     "name": "stderr",
     "output_type": "stream",
     "text": [
      "===> Using batch size 8000. Total 7 iterations/epoch.\n",
      "Iter 0063 | Time 26.8266(32.5286) | Bit/dim 8.1052(14.3648) | Steps 410(410.00) | Grad Norm 15.6160(73.8871) | Total Time 10.00(10.00)\n",
      "Iter 0064 | Time 27.4554(32.3764) | Bit/dim 7.9704(14.1730) | Steps 410(410.00) | Grad Norm 16.0547(72.1521) | Total Time 10.00(10.00)\n",
      "Iter 0065 | Time 26.7996(32.2091) | Bit/dim 7.8732(13.9840) | Steps 410(410.00) | Grad Norm 16.3371(70.4776) | Total Time 10.00(10.00)\n",
      "Iter 0066 | Time 26.8865(32.0494) | Bit/dim 7.7300(13.7964) | Steps 410(410.00) | Grad Norm 16.6435(68.8626) | Total Time 10.00(10.00)\n",
      "Iter 0067 | Time 27.0125(31.8983) | Bit/dim 7.6189(13.6111) | Steps 410(410.00) | Grad Norm 16.8062(67.3009) | Total Time 10.00(10.00)\n",
      "Iter 0068 | Time 26.9100(31.7486) | Bit/dim 7.4666(13.4267) | Steps 410(410.00) | Grad Norm 16.9907(65.7916) | Total Time 10.00(10.00)\n",
      "Iter 0069 | Time 26.4419(31.5894) | Bit/dim 7.3113(13.2433) | Steps 410(410.00) | Grad Norm 17.0903(64.3306) | Total Time 10.00(10.00)\n",
      "validating...\n",
      "Epoch 0010 | Time 8.8247, Epoch Time 209.2663, Bit/dim 7.1791\n"
     ]
    },
    {
     "name": "stdout",
     "output_type": "stream",
     "text": [
      "do _generate\n",
      "do _generate\n",
      "do _generate\n",
      "do _generate\n",
      "do _generate\n",
      "do _generate\n",
      "do _generate\n",
      "do _generate\n"
     ]
    },
    {
     "name": "stderr",
     "output_type": "stream",
     "text": [
      "===> Using batch size 8000. Total 7 iterations/epoch.\n",
      "Iter 0070 | Time 26.7224(31.4434) | Bit/dim 7.2112(13.0623) | Steps 410(410.00) | Grad Norm 16.9683(62.9097) | Total Time 10.00(10.00)\n",
      "Iter 0071 | Time 26.7757(31.3034) | Bit/dim 7.0574(12.8822) | Steps 410(410.00) | Grad Norm 16.8672(61.5284) | Total Time 10.00(10.00)\n",
      "Iter 0072 | Time 26.3843(31.1558) | Bit/dim 6.8947(12.7025) | Steps 410(410.00) | Grad Norm 16.7181(60.1841) | Total Time 10.00(10.00)\n",
      "Iter 0073 | Time 27.5727(31.0483) | Bit/dim 6.8124(12.5258) | Steps 410(410.00) | Grad Norm 16.3265(58.8684) | Total Time 10.00(10.00)\n",
      "Iter 0074 | Time 26.4628(30.9108) | Bit/dim 6.6949(12.3509) | Steps 410(410.00) | Grad Norm 15.9866(57.5819) | Total Time 10.00(10.00)\n",
      "Iter 0075 | Time 27.8778(30.8198) | Bit/dim 6.5632(12.1773) | Steps 410(410.00) | Grad Norm 15.6468(56.3239) | Total Time 10.00(10.00)\n",
      "Iter 0076 | Time 26.9695(30.7043) | Bit/dim 6.3820(12.0034) | Steps 410(410.00) | Grad Norm 15.3002(55.0932) | Total Time 10.00(10.00)\n",
      "validating...\n",
      "Epoch 0011 | Time 8.8725, Epoch Time 209.6156, Bit/dim 6.2516\n"
     ]
    },
    {
     "name": "stdout",
     "output_type": "stream",
     "text": [
      "do _generate\n",
      "do _generate\n",
      "do _generate\n",
      "do _generate\n",
      "do _generate\n",
      "do _generate\n",
      "do _generate\n",
      "do _generate\n"
     ]
    },
    {
     "name": "stderr",
     "output_type": "stream",
     "text": [
      "===> Using batch size 8000. Total 7 iterations/epoch.\n",
      "Iter 0077 | Time 26.5795(30.5805) | Bit/dim 6.2528(11.8309) | Steps 410(410.00) | Grad Norm 14.8898(53.8871) | Total Time 10.00(10.00)\n",
      "Iter 0078 | Time 27.4513(30.4866) | Bit/dim 6.1439(11.6603) | Steps 410(410.00) | Grad Norm 14.4513(52.7040) | Total Time 10.00(10.00)\n",
      "Iter 0079 | Time 26.4316(30.3650) | Bit/dim 6.0136(11.4909) | Steps 410(410.00) | Grad Norm 14.0564(51.5446) | Total Time 10.00(10.00)\n",
      "Iter 0080 | Time 26.2260(30.2408) | Bit/dim 5.8919(11.3229) | Steps 410(410.00) | Grad Norm 13.6537(50.4079) | Total Time 10.00(10.00)\n",
      "Iter 0081 | Time 26.8351(30.1387) | Bit/dim 5.7399(11.1554) | Steps 410(410.00) | Grad Norm 13.2993(49.2946) | Total Time 10.00(10.00)\n",
      "Iter 0082 | Time 27.2105(30.0508) | Bit/dim 5.6327(10.9897) | Steps 410(410.00) | Grad Norm 12.9468(48.2042) | Total Time 10.00(10.00)\n",
      "Iter 0083 | Time 26.4921(29.9440) | Bit/dim 5.5193(10.8256) | Steps 410(410.00) | Grad Norm 12.6338(47.1371) | Total Time 10.00(10.00)\n",
      "validating...\n",
      "Epoch 0012 | Time 8.8561, Epoch Time 208.1375, Bit/dim 5.3557\n"
     ]
    },
    {
     "name": "stdout",
     "output_type": "stream",
     "text": [
      "do _generate\n",
      "do _generate\n",
      "do _generate\n",
      "do _generate\n",
      "do _generate\n",
      "do _generate\n",
      "do _generate\n",
      "do _generate\n"
     ]
    },
    {
     "name": "stderr",
     "output_type": "stream",
     "text": [
      "===> Using batch size 8000. Total 7 iterations/epoch.\n",
      "Iter 0084 | Time 26.7452(29.8481) | Bit/dim 5.3757(10.6621) | Steps 410(410.00) | Grad Norm 12.3155(46.0924) | Total Time 10.00(10.00)\n",
      "Iter 0085 | Time 28.0482(29.7941) | Bit/dim 5.2706(10.5004) | Steps 410(410.00) | Grad Norm 12.0779(45.0720) | Total Time 10.00(10.00)\n",
      "Iter 0086 | Time 26.8921(29.7070) | Bit/dim 5.1158(10.3388) | Steps 410(410.00) | Grad Norm 11.7796(44.0732) | Total Time 10.00(10.00)\n",
      "Iter 0087 | Time 27.6601(29.6456) | Bit/dim 5.0089(10.1789) | Steps 410(410.00) | Grad Norm 11.5689(43.0981) | Total Time 10.00(10.00)\n",
      "Iter 0088 | Time 26.7857(29.5598) | Bit/dim 4.8910(10.0203) | Steps 410(410.00) | Grad Norm 11.3360(42.1452) | Total Time 10.00(10.00)\n",
      "Iter 0089 | Time 27.6602(29.5028) | Bit/dim 4.7883(9.8633) | Steps 410(410.00) | Grad Norm 11.1558(41.2155) | Total Time 10.00(10.00)\n",
      "Iter 0090 | Time 27.5644(29.4447) | Bit/dim 4.6646(9.7074) | Steps 410(410.00) | Grad Norm 10.9206(40.3067) | Total Time 10.00(10.00)\n",
      "validating...\n",
      "Epoch 0013 | Time 8.9257, Epoch Time 212.2996, Bit/dim 4.5292\n"
     ]
    },
    {
     "name": "stdout",
     "output_type": "stream",
     "text": [
      "do _generate\n",
      "do _generate\n",
      "do _generate\n",
      "do _generate\n",
      "do _generate\n",
      "do _generate\n",
      "do _generate\n",
      "do _generate\n"
     ]
    },
    {
     "name": "stderr",
     "output_type": "stream",
     "text": [
      "===> Using batch size 8000. Total 7 iterations/epoch.\n",
      "Iter 0091 | Time 26.3339(29.3514) | Bit/dim 4.5534(9.5528) | Steps 410(410.00) | Grad Norm 10.7421(39.4197) | Total Time 10.00(10.00)\n",
      "Iter 0092 | Time 26.7835(29.2743) | Bit/dim 4.4420(9.3994) | Steps 410(410.00) | Grad Norm 10.5710(38.5543) | Total Time 10.00(10.00)\n",
      "Iter 0093 | Time 26.7346(29.1981) | Bit/dim 4.3384(9.2476) | Steps 410(410.00) | Grad Norm 10.3946(37.7095) | Total Time 10.00(10.00)\n",
      "Iter 0094 | Time 26.7282(29.1240) | Bit/dim 4.2273(9.0970) | Steps 410(410.00) | Grad Norm 10.2096(36.8845) | Total Time 10.00(10.00)\n",
      "Iter 0095 | Time 26.6254(29.0491) | Bit/dim 4.1413(8.9483) | Steps 410(410.00) | Grad Norm 10.0596(36.0797) | Total Time 10.00(10.00)\n",
      "Iter 0096 | Time 26.5598(28.9744) | Bit/dim 4.0424(8.8012) | Steps 410(410.00) | Grad Norm 9.9282(35.2952) | Total Time 10.00(10.00)\n",
      "Iter 0097 | Time 26.5540(28.9018) | Bit/dim 3.9330(8.6551) | Steps 410(410.00) | Grad Norm 9.7499(34.5288) | Total Time 10.00(10.00)\n",
      "validating...\n",
      "Epoch 0014 | Time 8.7118, Epoch Time 207.2181, Bit/dim 3.8280\n"
     ]
    },
    {
     "name": "stdout",
     "output_type": "stream",
     "text": [
      "do _generate\n",
      "do _generate\n",
      "do _generate\n",
      "do _generate\n",
      "do _generate\n",
      "do _generate\n",
      "do _generate\n",
      "do _generate\n"
     ]
    },
    {
     "name": "stderr",
     "output_type": "stream",
     "text": [
      "===> Using batch size 8000. Total 7 iterations/epoch.\n",
      "Iter 0098 | Time 26.9540(28.8433) | Bit/dim 3.8543(8.5111) | Steps 410(410.00) | Grad Norm 9.6024(33.7810) | Total Time 10.00(10.00)\n",
      "Iter 0099 | Time 28.6059(28.8362) | Bit/dim 3.7631(8.3686) | Steps 416(410.18) | Grad Norm 9.4125(33.0500) | Total Time 10.00(10.00)\n",
      "Iter 0100 | Time 27.2750(28.7894) | Bit/dim 3.6762(8.2279) | Steps 416(410.35) | Grad Norm 9.2253(32.3352) | Total Time 10.00(10.00)\n",
      "Iter 0101 | Time 27.2319(28.7427) | Bit/dim 3.6076(8.0893) | Steps 416(410.52) | Grad Norm 9.0477(31.6366) | Total Time 10.00(10.00)\n",
      "Iter 0102 | Time 27.6303(28.7093) | Bit/dim 3.5216(7.9522) | Steps 416(410.69) | Grad Norm 8.8046(30.9517) | Total Time 10.00(10.00)\n",
      "Iter 0103 | Time 29.3060(28.7272) | Bit/dim 3.4518(7.8172) | Steps 422(411.03) | Grad Norm 8.5720(30.2803) | Total Time 10.00(10.00)\n",
      "Iter 0104 | Time 27.7527(28.6980) | Bit/dim 3.3687(7.6838) | Steps 422(411.36) | Grad Norm 8.2997(29.6209) | Total Time 10.00(10.00)\n",
      "validating...\n",
      "Epoch 0015 | Time 8.9061, Epoch Time 215.7514, Bit/dim 3.2921\n"
     ]
    },
    {
     "name": "stdout",
     "output_type": "stream",
     "text": [
      "do _generate\n",
      "do _generate\n",
      "do _generate\n",
      "do _generate\n",
      "do _generate\n",
      "do _generate\n",
      "do _generate\n",
      "do _generate\n"
     ]
    },
    {
     "name": "stderr",
     "output_type": "stream",
     "text": [
      "===> Using batch size 8000. Total 7 iterations/epoch.\n",
      "Iter 0105 | Time 28.7422(28.6993) | Bit/dim 3.3155(7.5527) | Steps 422(411.68) | Grad Norm 8.0408(28.9735) | Total Time 10.00(10.00)\n",
      "Iter 0106 | Time 28.0463(28.6797) | Bit/dim 3.2541(7.4238) | Steps 422(411.99) | Grad Norm 7.7486(28.3367) | Total Time 10.00(10.00)\n",
      "Iter 0107 | Time 28.6107(28.6776) | Bit/dim 3.1863(7.2966) | Steps 422(412.29) | Grad Norm 7.4224(27.7093) | Total Time 10.00(10.00)\n",
      "Iter 0108 | Time 28.2070(28.6635) | Bit/dim 3.1362(7.1718) | Steps 422(412.58) | Grad Norm 7.1117(27.0914) | Total Time 10.00(10.00)\n",
      "Iter 0109 | Time 28.0787(28.6460) | Bit/dim 3.0780(7.0490) | Steps 422(412.86) | Grad Norm 6.7796(26.4820) | Total Time 10.00(10.00)\n",
      "Iter 0110 | Time 28.7357(28.6487) | Bit/dim 3.0232(6.9282) | Steps 422(413.13) | Grad Norm 6.4270(25.8804) | Total Time 10.00(10.00)\n",
      "Iter 0111 | Time 29.2777(28.6675) | Bit/dim 2.9699(6.8095) | Steps 422(413.40) | Grad Norm 6.0975(25.2869) | Total Time 10.00(10.00)\n",
      "validating...\n",
      "Epoch 0016 | Time 9.0952, Epoch Time 220.9253, Bit/dim 2.9150\n"
     ]
    },
    {
     "name": "stdout",
     "output_type": "stream",
     "text": [
      "do _generate\n",
      "do _generate\n",
      "do _generate\n",
      "do _generate\n",
      "do _generate\n",
      "do _generate\n",
      "do _generate\n",
      "do _generate\n"
     ]
    },
    {
     "name": "stderr",
     "output_type": "stream",
     "text": [
      "===> Using batch size 8000. Total 7 iterations/epoch.\n",
      "Iter 0112 | Time 29.1325(28.6815) | Bit/dim 2.9235(6.6929) | Steps 422(413.66) | Grad Norm 5.7612(24.7011) | Total Time 10.00(10.00)\n",
      "Iter 0113 | Time 28.1360(28.6651) | Bit/dim 2.8925(6.5789) | Steps 422(413.91) | Grad Norm 5.4731(24.1243) | Total Time 10.00(10.00)\n",
      "Iter 0114 | Time 28.5387(28.6613) | Bit/dim 2.8489(6.4670) | Steps 422(414.15) | Grad Norm 5.1643(23.5555) | Total Time 10.00(10.00)\n",
      "Iter 0115 | Time 28.0817(28.6439) | Bit/dim 2.8195(6.3576) | Steps 422(414.39) | Grad Norm 4.8779(22.9951) | Total Time 10.00(10.00)\n",
      "Iter 0116 | Time 28.2747(28.6329) | Bit/dim 2.7757(6.2501) | Steps 422(414.62) | Grad Norm 4.5968(22.4432) | Total Time 10.00(10.00)\n",
      "Iter 0117 | Time 28.9777(28.6432) | Bit/dim 2.7542(6.1452) | Steps 422(414.84) | Grad Norm 4.3409(21.9001) | Total Time 10.00(10.00)\n",
      "Iter 0118 | Time 28.8212(28.6485) | Bit/dim 2.7143(6.0423) | Steps 428(415.23) | Grad Norm 4.0785(21.3655) | Total Time 10.00(10.00)\n",
      "validating...\n",
      "Epoch 0017 | Time 9.1424, Epoch Time 221.1866, Bit/dim 2.6681\n"
     ]
    },
    {
     "name": "stdout",
     "output_type": "stream",
     "text": [
      "do _generate\n",
      "do _generate\n",
      "do _generate\n",
      "do _generate\n",
      "do _generate\n",
      "do _generate\n",
      "do _generate\n",
      "do _generate\n"
     ]
    },
    {
     "name": "stderr",
     "output_type": "stream",
     "text": [
      "===> Using batch size 8000. Total 7 iterations/epoch.\n",
      "Iter 0119 | Time 30.4620(28.7029) | Bit/dim 2.6881(5.9417) | Steps 428(415.61) | Grad Norm 3.8387(20.8397) | Total Time 10.00(10.00)\n",
      "Iter 0120 | Time 29.6649(28.7318) | Bit/dim 2.6593(5.8432) | Steps 434(416.17) | Grad Norm 3.6053(20.3226) | Total Time 10.00(10.00)\n",
      "Iter 0121 | Time 32.2971(28.8388) | Bit/dim 2.6279(5.7468) | Steps 428(416.52) | Grad Norm 3.3840(19.8145) | Total Time 10.00(10.00)\n",
      "Iter 0122 | Time 31.3480(28.9140) | Bit/dim 2.6108(5.6527) | Steps 440(417.23) | Grad Norm 3.1833(19.3155) | Total Time 10.00(10.00)\n",
      "Iter 0123 | Time 30.1866(28.9522) | Bit/dim 2.5863(5.5607) | Steps 440(417.91) | Grad Norm 3.0063(18.8263) | Total Time 10.00(10.00)\n",
      "Iter 0124 | Time 30.1094(28.9869) | Bit/dim 2.5730(5.4711) | Steps 440(418.57) | Grad Norm 2.8388(18.3466) | Total Time 10.00(10.00)\n",
      "Iter 0125 | Time 29.8990(29.0143) | Bit/dim 2.5550(5.3836) | Steps 440(419.21) | Grad Norm 2.6878(17.8769) | Total Time 10.00(10.00)\n",
      "validating...\n",
      "Epoch 0018 | Time 9.3559, Epoch Time 235.6571, Bit/dim 2.5140\n"
     ]
    },
    {
     "name": "stdout",
     "output_type": "stream",
     "text": [
      "do _generate\n",
      "do _generate\n",
      "do _generate\n",
      "do _generate\n",
      "do _generate\n",
      "do _generate\n",
      "do _generate\n",
      "do _generate\n"
     ]
    },
    {
     "name": "stderr",
     "output_type": "stream",
     "text": [
      "===> Using batch size 8000. Total 7 iterations/epoch.\n",
      "Iter 0126 | Time 30.7675(29.0669) | Bit/dim 2.5313(5.2980) | Steps 440(419.84) | Grad Norm 2.5311(17.4165) | Total Time 10.00(10.00)\n",
      "Iter 0127 | Time 31.5873(29.1425) | Bit/dim 2.5156(5.2145) | Steps 440(420.44) | Grad Norm 2.4076(16.9662) | Total Time 10.00(10.00)\n",
      "Iter 0128 | Time 29.6914(29.1590) | Bit/dim 2.4971(5.1330) | Steps 440(421.03) | Grad Norm 2.2877(16.5259) | Total Time 10.00(10.00)\n",
      "Iter 0129 | Time 30.0188(29.1848) | Bit/dim 2.4841(5.0535) | Steps 440(421.60) | Grad Norm 2.1931(16.0959) | Total Time 10.00(10.00)\n",
      "Iter 0130 | Time 31.3675(29.2502) | Bit/dim 2.4646(4.9759) | Steps 440(422.15) | Grad Norm 2.1072(15.6762) | Total Time 10.00(10.00)\n",
      "Iter 0131 | Time 31.8891(29.3294) | Bit/dim 2.4599(4.9004) | Steps 440(422.69) | Grad Norm 2.0460(15.2673) | Total Time 10.00(10.00)\n",
      "Iter 0132 | Time 32.4376(29.4227) | Bit/dim 2.4415(4.8266) | Steps 440(423.21) | Grad Norm 1.9651(14.8683) | Total Time 10.00(10.00)\n",
      "validating...\n",
      "Epoch 0019 | Time 9.5046, Epoch Time 239.4873, Bit/dim 2.4145\n"
     ]
    },
    {
     "name": "stdout",
     "output_type": "stream",
     "text": [
      "do _generate\n",
      "do _generate\n",
      "do _generate\n",
      "do _generate\n",
      "do _generate\n",
      "do _generate\n",
      "do _generate\n",
      "do _generate\n"
     ]
    },
    {
     "name": "stderr",
     "output_type": "stream",
     "text": [
      "===> Using batch size 8000. Total 7 iterations/epoch.\n",
      "Iter 0133 | Time 32.5611(29.5168) | Bit/dim 2.4321(4.7548) | Steps 452(424.07) | Grad Norm 1.9089(14.4795) | Total Time 10.00(10.00)\n",
      "Iter 0134 | Time 33.2289(29.6282) | Bit/dim 2.4195(4.6847) | Steps 452(424.91) | Grad Norm 1.8578(14.1008) | Total Time 10.00(10.00)\n",
      "Iter 0135 | Time 31.8940(29.6961) | Bit/dim 2.4101(4.6165) | Steps 452(425.72) | Grad Norm 1.8176(13.7323) | Total Time 10.00(10.00)\n",
      "Iter 0136 | Time 31.6681(29.7553) | Bit/dim 2.3976(4.5499) | Steps 452(426.51) | Grad Norm 1.7767(13.3737) | Total Time 10.00(10.00)\n",
      "Iter 0137 | Time 33.8500(29.8781) | Bit/dim 2.3949(4.4853) | Steps 452(427.27) | Grad Norm 1.7446(13.0248) | Total Time 10.00(10.00)\n",
      "Iter 0138 | Time 32.7064(29.9630) | Bit/dim 2.3757(4.4220) | Steps 452(428.02) | Grad Norm 1.7107(12.6854) | Total Time 10.00(10.00)\n",
      "Iter 0139 | Time 32.6388(30.0433) | Bit/dim 2.3688(4.3604) | Steps 452(428.73) | Grad Norm 1.6743(12.3550) | Total Time 10.00(10.00)\n",
      "validating...\n",
      "Epoch 0020 | Time 9.4430, Epoch Time 250.1410, Bit/dim 2.3467\n"
     ]
    },
    {
     "name": "stdout",
     "output_type": "stream",
     "text": [
      "do _generate\n",
      "do _generate\n",
      "do _generate\n",
      "do _generate\n",
      "do _generate\n",
      "do _generate\n",
      "do _generate\n",
      "do _generate\n"
     ]
    },
    {
     "name": "stderr",
     "output_type": "stream",
     "text": [
      "===> Using batch size 8000. Total 7 iterations/epoch.\n",
      "Iter 0140 | Time 31.9458(30.1003) | Bit/dim 2.3663(4.3006) | Steps 452(429.43) | Grad Norm 1.6394(12.0336) | Total Time 10.00(10.00)\n",
      "Iter 0141 | Time 32.1803(30.1627) | Bit/dim 2.3551(4.2422) | Steps 452(430.11) | Grad Norm 1.5975(11.7205) | Total Time 10.00(10.00)\n",
      "Iter 0142 | Time 32.1924(30.2236) | Bit/dim 2.3458(4.1853) | Steps 452(430.77) | Grad Norm 1.5609(11.4157) | Total Time 10.00(10.00)\n",
      "Iter 0143 | Time 32.2424(30.2842) | Bit/dim 2.3426(4.1300) | Steps 452(431.40) | Grad Norm 1.5175(11.1187) | Total Time 10.00(10.00)\n",
      "Iter 0144 | Time 31.9395(30.3338) | Bit/dim 2.3298(4.0760) | Steps 452(432.02) | Grad Norm 1.4744(10.8294) | Total Time 10.00(10.00)\n",
      "Iter 0145 | Time 32.8047(30.4080) | Bit/dim 2.3241(4.0235) | Steps 452(432.62) | Grad Norm 1.4347(10.5476) | Total Time 10.00(10.00)\n",
      "Iter 0146 | Time 33.2996(30.4947) | Bit/dim 2.3210(3.9724) | Steps 452(433.20) | Grad Norm 1.3954(10.2730) | Total Time 10.00(10.00)\n",
      "validating...\n",
      "Epoch 0021 | Time 9.5388, Epoch Time 248.2090, Bit/dim 2.2987\n"
     ]
    },
    {
     "name": "stdout",
     "output_type": "stream",
     "text": [
      "do _generate\n",
      "do _generate\n",
      "do _generate\n",
      "do _generate\n",
      "do _generate\n",
      "do _generate\n",
      "do _generate\n",
      "do _generate\n"
     ]
    },
    {
     "name": "stderr",
     "output_type": "stream",
     "text": [
      "===> Using batch size 8000. Total 7 iterations/epoch.\n",
      "Iter 0147 | Time 33.1364(30.5740) | Bit/dim 2.3171(3.9227) | Steps 452(433.77) | Grad Norm 1.3603(10.0056) | Total Time 10.00(10.00)\n",
      "Iter 0148 | Time 32.1332(30.6207) | Bit/dim 2.3030(3.8741) | Steps 452(434.31) | Grad Norm 1.3329(9.7454) | Total Time 10.00(10.00)\n",
      "Iter 0149 | Time 33.1806(30.6975) | Bit/dim 2.3029(3.8270) | Steps 452(434.84) | Grad Norm 1.3047(9.4922) | Total Time 10.00(10.00)\n",
      "Iter 0150 | Time 32.8830(30.7631) | Bit/dim 2.2959(3.7811) | Steps 452(435.36) | Grad Norm 1.2818(9.2459) | Total Time 10.00(10.00)\n",
      "Iter 0151 | Time 33.6071(30.8484) | Bit/dim 2.2966(3.7365) | Steps 452(435.86) | Grad Norm 1.2591(9.0063) | Total Time 10.00(10.00)\n",
      "Iter 0152 | Time 33.1331(30.9170) | Bit/dim 2.2839(3.6930) | Steps 452(436.34) | Grad Norm 1.2316(8.7731) | Total Time 10.00(10.00)\n",
      "Iter 0153 | Time 32.2500(30.9570) | Bit/dim 2.2853(3.6507) | Steps 452(436.81) | Grad Norm 1.2032(8.5460) | Total Time 10.00(10.00)\n",
      "validating...\n",
      "Epoch 0022 | Time 9.1622, Epoch Time 251.7227, Bit/dim 2.2628\n"
     ]
    },
    {
     "name": "stdout",
     "output_type": "stream",
     "text": [
      "do _generate\n",
      "do _generate\n",
      "do _generate\n",
      "do _generate\n",
      "do _generate\n",
      "do _generate\n",
      "do _generate\n",
      "do _generate\n"
     ]
    },
    {
     "name": "stderr",
     "output_type": "stream",
     "text": [
      "===> Using batch size 8000. Total 7 iterations/epoch.\n",
      "Iter 0154 | Time 31.7846(30.9818) | Bit/dim 2.2769(3.6095) | Steps 452(437.27) | Grad Norm 1.1805(8.3250) | Total Time 10.00(10.00)\n",
      "Iter 0155 | Time 33.0797(31.0447) | Bit/dim 2.2740(3.5694) | Steps 452(437.71) | Grad Norm 1.1542(8.1099) | Total Time 10.00(10.00)\n",
      "Iter 0156 | Time 32.1438(31.0777) | Bit/dim 2.2695(3.5304) | Steps 452(438.14) | Grad Norm 1.1277(7.9004) | Total Time 10.00(10.00)\n",
      "Iter 0157 | Time 32.8050(31.1295) | Bit/dim 2.2685(3.4926) | Steps 452(438.55) | Grad Norm 1.1043(7.6965) | Total Time 10.00(10.00)\n",
      "Iter 0158 | Time 33.0988(31.1886) | Bit/dim 2.2614(3.4557) | Steps 452(438.96) | Grad Norm 1.0722(7.4978) | Total Time 10.00(10.00)\n",
      "Iter 0159 | Time 32.0724(31.2151) | Bit/dim 2.2552(3.4196) | Steps 452(439.35) | Grad Norm 1.0464(7.3043) | Total Time 10.00(10.00)\n",
      "Iter 0160 | Time 32.1606(31.2435) | Bit/dim 2.2544(3.3847) | Steps 452(439.73) | Grad Norm 1.0182(7.1157) | Total Time 10.00(10.00)\n",
      "validating...\n",
      "Epoch 0023 | Time 9.4169, Epoch Time 248.6851, Bit/dim 2.2364\n"
     ]
    },
    {
     "name": "stdout",
     "output_type": "stream",
     "text": [
      "do _generate\n",
      "do _generate\n",
      "do _generate\n",
      "do _generate\n",
      "do _generate\n",
      "do _generate\n",
      "do _generate\n",
      "do _generate\n"
     ]
    },
    {
     "name": "stderr",
     "output_type": "stream",
     "text": [
      "===> Using batch size 8000. Total 7 iterations/epoch.\n",
      "Iter 0161 | Time 32.0975(31.2691) | Bit/dim 2.2489(3.3506) | Steps 452(440.10) | Grad Norm 0.9882(6.9319) | Total Time 10.00(10.00)\n",
      "Iter 0162 | Time 32.4039(31.3031) | Bit/dim 2.2479(3.3175) | Steps 452(440.45) | Grad Norm 0.9563(6.7526) | Total Time 10.00(10.00)\n",
      "Iter 0163 | Time 32.2885(31.3327) | Bit/dim 2.2462(3.2854) | Steps 452(440.80) | Grad Norm 0.9268(6.5778) | Total Time 10.00(10.00)\n",
      "Iter 0164 | Time 33.8571(31.4084) | Bit/dim 2.2406(3.2540) | Steps 452(441.14) | Grad Norm 0.8970(6.4074) | Total Time 10.00(10.00)\n",
      "Iter 0165 | Time 34.5417(31.5024) | Bit/dim 2.2439(3.2237) | Steps 452(441.46) | Grad Norm 0.8736(6.2414) | Total Time 10.00(10.00)\n",
      "Iter 0166 | Time 33.0882(31.5500) | Bit/dim 2.2393(3.1942) | Steps 452(441.78) | Grad Norm 0.8423(6.0794) | Total Time 10.00(10.00)\n",
      "Iter 0167 | Time 32.1462(31.5679) | Bit/dim 2.2315(3.1653) | Steps 452(442.08) | Grad Norm 0.8243(5.9217) | Total Time 10.00(10.00)\n",
      "validating...\n",
      "Epoch 0024 | Time 9.4689, Epoch Time 251.9343, Bit/dim 2.2167\n"
     ]
    },
    {
     "name": "stdout",
     "output_type": "stream",
     "text": [
      "do _generate\n",
      "do _generate\n",
      "do _generate\n",
      "do _generate\n",
      "do _generate\n",
      "do _generate\n",
      "do _generate\n",
      "do _generate\n"
     ]
    },
    {
     "name": "stderr",
     "output_type": "stream",
     "text": [
      "===> Using batch size 8000. Total 7 iterations/epoch.\n",
      "Iter 0168 | Time 31.5365(31.5669) | Bit/dim 2.2301(3.1373) | Steps 452(442.38) | Grad Norm 0.8068(5.7683) | Total Time 10.00(10.00)\n",
      "Iter 0169 | Time 31.9473(31.5784) | Bit/dim 2.2282(3.1100) | Steps 452(442.67) | Grad Norm 0.7863(5.6188) | Total Time 10.00(10.00)\n",
      "Iter 0170 | Time 33.0924(31.6238) | Bit/dim 2.2357(3.0838) | Steps 452(442.95) | Grad Norm 0.7694(5.4734) | Total Time 10.00(10.00)\n",
      "Iter 0171 | Time 32.6272(31.6539) | Bit/dim 2.2209(3.0579) | Steps 452(443.22) | Grad Norm 0.7571(5.3319) | Total Time 10.00(10.00)\n",
      "Iter 0172 | Time 32.2112(31.6706) | Bit/dim 2.2226(3.0328) | Steps 452(443.49) | Grad Norm 0.7466(5.1943) | Total Time 10.00(10.00)\n",
      "Iter 0173 | Time 32.8591(31.7063) | Bit/dim 2.2179(3.0084) | Steps 452(443.74) | Grad Norm 0.7289(5.0603) | Total Time 10.00(10.00)\n",
      "Iter 0174 | Time 32.9308(31.7430) | Bit/dim 2.2123(2.9845) | Steps 452(443.99) | Grad Norm 0.7159(4.9300) | Total Time 10.00(10.00)\n",
      "validating...\n",
      "Epoch 0025 | Time 9.5082, Epoch Time 248.8052, Bit/dim 2.2013\n"
     ]
    },
    {
     "name": "stdout",
     "output_type": "stream",
     "text": [
      "do _generate\n",
      "do _generate\n",
      "do _generate\n",
      "do _generate\n",
      "do _generate\n",
      "do _generate\n",
      "do _generate\n",
      "do _generate\n"
     ]
    },
    {
     "name": "stderr",
     "output_type": "stream",
     "text": [
      "===> Using batch size 8000. Total 7 iterations/epoch.\n",
      "Iter 0175 | Time 32.2487(31.7582) | Bit/dim 2.2203(2.9616) | Steps 452(444.23) | Grad Norm 0.6976(4.8030) | Total Time 10.00(10.00)\n",
      "Iter 0176 | Time 32.0670(31.7674) | Bit/dim 2.2139(2.9391) | Steps 452(444.46) | Grad Norm 0.6897(4.6796) | Total Time 10.00(10.00)\n",
      "Iter 0177 | Time 33.3927(31.8162) | Bit/dim 2.2137(2.9174) | Steps 452(444.69) | Grad Norm 0.6751(4.5595) | Total Time 10.00(10.00)\n",
      "Iter 0178 | Time 32.1518(31.8263) | Bit/dim 2.2042(2.8960) | Steps 452(444.91) | Grad Norm 0.6604(4.4425) | Total Time 10.00(10.00)\n",
      "Iter 0179 | Time 32.3350(31.8415) | Bit/dim 2.2031(2.8752) | Steps 452(445.12) | Grad Norm 0.6475(4.3287) | Total Time 10.00(10.00)\n",
      "Iter 0180 | Time 32.0900(31.8490) | Bit/dim 2.2048(2.8551) | Steps 452(445.33) | Grad Norm 0.6357(4.2179) | Total Time 10.00(10.00)\n",
      "Iter 0181 | Time 31.8888(31.8502) | Bit/dim 2.2018(2.8355) | Steps 452(445.53) | Grad Norm 0.6249(4.1101) | Total Time 10.00(10.00)\n",
      "validating...\n",
      "Epoch 0026 | Time 9.1827, Epoch Time 247.5078, Bit/dim 2.1880\n"
     ]
    },
    {
     "name": "stdout",
     "output_type": "stream",
     "text": [
      "do _generate\n",
      "do _generate\n",
      "do _generate\n",
      "do _generate\n",
      "do _generate\n",
      "do _generate\n",
      "do _generate\n",
      "do _generate\n"
     ]
    },
    {
     "name": "stderr",
     "output_type": "stream",
     "text": [
      "===> Using batch size 8000. Total 7 iterations/epoch.\n",
      "Iter 0182 | Time 31.9290(31.8525) | Bit/dim 2.2028(2.8165) | Steps 452(445.72) | Grad Norm 0.6179(4.0053) | Total Time 10.00(10.00)\n",
      "Iter 0183 | Time 31.8787(31.8533) | Bit/dim 2.1943(2.7978) | Steps 440(445.55) | Grad Norm 0.6090(3.9034) | Total Time 10.00(10.00)\n",
      "Iter 0184 | Time 30.0089(31.7980) | Bit/dim 2.1990(2.7799) | Steps 440(445.38) | Grad Norm 0.6005(3.8044) | Total Time 10.00(10.00)\n",
      "Iter 0185 | Time 32.0752(31.8063) | Bit/dim 2.2020(2.7625) | Steps 452(445.58) | Grad Norm 0.5932(3.7080) | Total Time 10.00(10.00)\n",
      "Iter 0186 | Time 32.4697(31.8262) | Bit/dim 2.1960(2.7455) | Steps 440(445.41) | Grad Norm 0.5905(3.6145) | Total Time 10.00(10.00)\n",
      "Iter 0187 | Time 30.8457(31.7968) | Bit/dim 2.1912(2.7289) | Steps 440(445.25) | Grad Norm 0.5814(3.5235) | Total Time 10.00(10.00)\n",
      "Iter 0188 | Time 31.1466(31.7773) | Bit/dim 2.1937(2.7129) | Steps 440(445.09) | Grad Norm 0.5841(3.4353) | Total Time 10.00(10.00)\n",
      "validating...\n",
      "Epoch 0027 | Time 9.3578, Epoch Time 241.8360, Bit/dim 2.1769\n"
     ]
    },
    {
     "name": "stdout",
     "output_type": "stream",
     "text": [
      "do _generate\n",
      "do _generate\n",
      "do _generate\n",
      "do _generate\n",
      "do _generate\n",
      "do _generate\n",
      "do _generate\n",
      "do _generate\n"
     ]
    },
    {
     "name": "stderr",
     "output_type": "stream",
     "text": [
      "===> Using batch size 8000. Total 7 iterations/epoch.\n",
      "Iter 0189 | Time 30.9745(31.7532) | Bit/dim 2.1910(2.6972) | Steps 440(444.94) | Grad Norm 0.5721(3.3494) | Total Time 10.00(10.00)\n",
      "Iter 0190 | Time 30.9310(31.7285) | Bit/dim 2.1884(2.6819) | Steps 440(444.79) | Grad Norm 0.5700(3.2660) | Total Time 10.00(10.00)\n",
      "Iter 0191 | Time 30.6372(31.6958) | Bit/dim 2.1863(2.6671) | Steps 440(444.65) | Grad Norm 0.5656(3.1850) | Total Time 10.00(10.00)\n",
      "Iter 0192 | Time 30.4276(31.6577) | Bit/dim 2.1874(2.6527) | Steps 440(444.51) | Grad Norm 0.5589(3.1062) | Total Time 10.00(10.00)\n",
      "Iter 0193 | Time 32.3827(31.6795) | Bit/dim 2.1814(2.6385) | Steps 440(444.37) | Grad Norm 0.5559(3.0297) | Total Time 10.00(10.00)\n",
      "Iter 0194 | Time 31.2464(31.6665) | Bit/dim 2.1864(2.6250) | Steps 440(444.24) | Grad Norm 0.5540(2.9555) | Total Time 10.00(10.00)\n",
      "Iter 0195 | Time 30.2388(31.6237) | Bit/dim 2.1861(2.6118) | Steps 440(444.12) | Grad Norm 0.5495(2.8833) | Total Time 10.00(10.00)\n",
      "validating...\n",
      "Epoch 0028 | Time 9.5752, Epoch Time 238.4908, Bit/dim 2.1678\n"
     ]
    },
    {
     "name": "stdout",
     "output_type": "stream",
     "text": [
      "do _generate\n",
      "do _generate\n",
      "do _generate\n",
      "do _generate\n",
      "do _generate\n",
      "do _generate\n",
      "do _generate\n",
      "do _generate\n"
     ]
    },
    {
     "name": "stderr",
     "output_type": "stream",
     "text": [
      "===> Using batch size 8000. Total 7 iterations/epoch.\n",
      "Iter 0196 | Time 30.5072(31.5902) | Bit/dim 2.1834(2.5990) | Steps 440(443.99) | Grad Norm 0.5511(2.8133) | Total Time 10.00(10.00)\n",
      "Iter 0197 | Time 30.4080(31.5547) | Bit/dim 2.1822(2.5865) | Steps 440(443.87) | Grad Norm 0.5432(2.7452) | Total Time 10.00(10.00)\n",
      "Iter 0198 | Time 30.5666(31.5251) | Bit/dim 2.1789(2.5742) | Steps 440(443.76) | Grad Norm 0.5410(2.6791) | Total Time 10.00(10.00)\n",
      "Iter 0199 | Time 30.1294(31.4832) | Bit/dim 2.1748(2.5622) | Steps 440(443.64) | Grad Norm 0.5388(2.6149) | Total Time 10.00(10.00)\n",
      "Iter 0200 | Time 30.6184(31.4573) | Bit/dim 2.1743(2.5506) | Steps 440(443.53) | Grad Norm 0.5369(2.5525) | Total Time 10.00(10.00)\n",
      "Iter 0201 | Time 31.7497(31.4660) | Bit/dim 2.1712(2.5392) | Steps 440(443.43) | Grad Norm 0.5355(2.4920) | Total Time 10.00(10.00)\n",
      "Iter 0202 | Time 30.8636(31.4480) | Bit/dim 2.1783(2.5284) | Steps 440(443.33) | Grad Norm 0.5265(2.4331) | Total Time 10.00(10.00)\n",
      "validating...\n",
      "Epoch 0029 | Time 9.5327, Epoch Time 236.3354, Bit/dim 2.1576\n"
     ]
    },
    {
     "name": "stdout",
     "output_type": "stream",
     "text": [
      "do _generate\n",
      "do _generate\n",
      "do _generate\n",
      "do _generate\n",
      "do _generate\n",
      "do _generate\n",
      "do _generate\n",
      "do _generate\n"
     ]
    },
    {
     "name": "stderr",
     "output_type": "stream",
     "text": [
      "===> Using batch size 8000. Total 7 iterations/epoch.\n",
      "Iter 0203 | Time 29.8573(31.4002) | Bit/dim 2.1685(2.5176) | Steps 440(443.23) | Grad Norm 0.5295(2.3760) | Total Time 10.00(10.00)\n",
      "Iter 0204 | Time 31.0788(31.3906) | Bit/dim 2.1712(2.5072) | Steps 440(443.13) | Grad Norm 0.5279(2.3205) | Total Time 10.00(10.00)\n",
      "Iter 0205 | Time 30.0224(31.3495) | Bit/dim 2.1702(2.4971) | Steps 440(443.04) | Grad Norm 0.5209(2.2665) | Total Time 10.00(10.00)\n",
      "Iter 0206 | Time 30.0377(31.3102) | Bit/dim 2.1668(2.4872) | Steps 440(442.94) | Grad Norm 0.5258(2.2143) | Total Time 10.00(10.00)\n",
      "Iter 0207 | Time 30.1028(31.2740) | Bit/dim 2.1675(2.4776) | Steps 440(442.86) | Grad Norm 0.5218(2.1635) | Total Time 10.00(10.00)\n",
      "Iter 0208 | Time 29.9088(31.2330) | Bit/dim 2.1636(2.4682) | Steps 440(442.77) | Grad Norm 0.5192(2.1142) | Total Time 10.00(10.00)\n",
      "Iter 0209 | Time 29.4638(31.1799) | Bit/dim 2.1664(2.4591) | Steps 440(442.69) | Grad Norm 0.5173(2.0663) | Total Time 10.00(10.00)\n",
      "validating...\n",
      "Epoch 0030 | Time 9.4466, Epoch Time 232.2770, Bit/dim 2.1485\n"
     ]
    },
    {
     "name": "stdout",
     "output_type": "stream",
     "text": [
      "do _generate\n",
      "do _generate\n",
      "do _generate\n",
      "do _generate\n",
      "do _generate\n",
      "do _generate\n",
      "do _generate\n",
      "do _generate\n"
     ]
    },
    {
     "name": "stderr",
     "output_type": "stream",
     "text": [
      "===> Using batch size 8000. Total 7 iterations/epoch.\n",
      "Iter 0210 | Time 30.3169(31.1541) | Bit/dim 2.1626(2.4502) | Steps 440(442.61) | Grad Norm 0.5136(2.0197) | Total Time 10.00(10.00)\n",
      "Iter 0211 | Time 30.1743(31.1247) | Bit/dim 2.1629(2.4416) | Steps 440(442.53) | Grad Norm 0.5138(1.9745) | Total Time 10.00(10.00)\n",
      "Iter 0212 | Time 31.1598(31.1257) | Bit/dim 2.1639(2.4333) | Steps 440(442.45) | Grad Norm 0.5095(1.9306) | Total Time 10.00(10.00)\n",
      "Iter 0213 | Time 30.5980(31.1099) | Bit/dim 2.1572(2.4250) | Steps 440(442.38) | Grad Norm 0.5114(1.8880) | Total Time 10.00(10.00)\n",
      "Iter 0214 | Time 30.1559(31.0813) | Bit/dim 2.1586(2.4170) | Steps 440(442.31) | Grad Norm 0.5060(1.8465) | Total Time 10.00(10.00)\n",
      "Iter 0215 | Time 31.8839(31.1053) | Bit/dim 2.1596(2.4093) | Steps 440(442.24) | Grad Norm 0.5065(1.8063) | Total Time 10.00(10.00)\n",
      "Iter 0216 | Time 30.0629(31.0741) | Bit/dim 2.1527(2.4016) | Steps 440(442.17) | Grad Norm 0.5024(1.7672) | Total Time 10.00(10.00)\n",
      "validating...\n",
      "Epoch 0031 | Time 9.4550, Epoch Time 235.7800, Bit/dim 2.1407\n"
     ]
    },
    {
     "name": "stdout",
     "output_type": "stream",
     "text": [
      "do _generate\n",
      "do _generate\n",
      "do _generate\n",
      "do _generate\n",
      "do _generate\n",
      "do _generate\n",
      "do _generate\n",
      "do _generate\n"
     ]
    },
    {
     "name": "stderr",
     "output_type": "stream",
     "text": [
      "===> Using batch size 8000. Total 7 iterations/epoch.\n",
      "Iter 0217 | Time 30.7446(31.0642) | Bit/dim 2.1498(2.3940) | Steps 440(442.11) | Grad Norm 0.5065(1.7294) | Total Time 10.00(10.00)\n",
      "Iter 0218 | Time 30.4424(31.0455) | Bit/dim 2.1547(2.3869) | Steps 440(442.04) | Grad Norm 0.5004(1.6925) | Total Time 10.00(10.00)\n",
      "Iter 0219 | Time 30.4500(31.0277) | Bit/dim 2.1425(2.3795) | Steps 440(441.98) | Grad Norm 0.5064(1.6570) | Total Time 10.00(10.00)\n",
      "Iter 0220 | Time 31.3291(31.0367) | Bit/dim 2.1510(2.3727) | Steps 440(441.92) | Grad Norm 0.4948(1.6221) | Total Time 10.00(10.00)\n",
      "Iter 0221 | Time 30.7224(31.0273) | Bit/dim 2.1535(2.3661) | Steps 440(441.86) | Grad Norm 0.4936(1.5882) | Total Time 10.00(10.00)\n",
      "Iter 0222 | Time 31.1688(31.0315) | Bit/dim 2.1523(2.3597) | Steps 440(441.81) | Grad Norm 0.4887(1.5552) | Total Time 10.00(10.00)\n",
      "Iter 0223 | Time 29.7847(30.9941) | Bit/dim 2.1570(2.3536) | Steps 440(441.75) | Grad Norm 0.4850(1.5231) | Total Time 10.00(10.00)\n",
      "validating...\n",
      "Epoch 0032 | Time 9.3751, Epoch Time 236.1944, Bit/dim 2.1321\n"
     ]
    },
    {
     "name": "stdout",
     "output_type": "stream",
     "text": [
      "do _generate\n",
      "do _generate\n",
      "do _generate\n",
      "do _generate\n",
      "do _generate\n",
      "do _generate\n",
      "do _generate\n",
      "do _generate\n"
     ]
    },
    {
     "name": "stderr",
     "output_type": "stream",
     "text": [
      "===> Using batch size 8000. Total 7 iterations/epoch.\n",
      "Iter 0224 | Time 29.9500(30.9628) | Bit/dim 2.1464(2.3474) | Steps 440(441.70) | Grad Norm 0.4888(1.4921) | Total Time 10.00(10.00)\n",
      "Iter 0225 | Time 30.8635(30.9598) | Bit/dim 2.1463(2.3413) | Steps 440(441.65) | Grad Norm 0.4867(1.4619) | Total Time 10.00(10.00)\n",
      "Iter 0226 | Time 30.0033(30.9311) | Bit/dim 2.1419(2.3354) | Steps 434(441.42) | Grad Norm 0.4884(1.4327) | Total Time 10.00(10.00)\n",
      "Iter 0227 | Time 30.6776(30.9235) | Bit/dim 2.1458(2.3297) | Steps 434(441.20) | Grad Norm 0.4822(1.4042) | Total Time 10.00(10.00)\n",
      "Iter 0228 | Time 29.7947(30.8897) | Bit/dim 2.1396(2.3240) | Steps 434(440.98) | Grad Norm 0.4838(1.3766) | Total Time 10.00(10.00)\n",
      "Iter 0229 | Time 30.9568(30.8917) | Bit/dim 2.1411(2.3185) | Steps 440(440.95) | Grad Norm 0.4794(1.3497) | Total Time 10.00(10.00)\n",
      "Iter 0230 | Time 31.0510(30.8965) | Bit/dim 2.1379(2.3131) | Steps 434(440.74) | Grad Norm 0.4774(1.3235) | Total Time 10.00(10.00)\n",
      "validating...\n",
      "Epoch 0033 | Time 9.1530, Epoch Time 234.3069, Bit/dim 2.1240\n"
     ]
    },
    {
     "name": "stdout",
     "output_type": "stream",
     "text": [
      "do _generate\n",
      "do _generate\n",
      "do _generate\n",
      "do _generate\n",
      "do _generate\n",
      "do _generate\n",
      "do _generate\n",
      "do _generate\n"
     ]
    },
    {
     "name": "stderr",
     "output_type": "stream",
     "text": [
      "===> Using batch size 8000. Total 7 iterations/epoch.\n",
      "Iter 0231 | Time 29.4137(30.8520) | Bit/dim 2.1349(2.3077) | Steps 434(440.54) | Grad Norm 0.4749(1.2981) | Total Time 10.00(10.00)\n",
      "Iter 0232 | Time 29.5538(30.8130) | Bit/dim 2.1419(2.3027) | Steps 434(440.35) | Grad Norm 0.4692(1.2732) | Total Time 10.00(10.00)\n",
      "Iter 0233 | Time 29.5761(30.7759) | Bit/dim 2.1368(2.2978) | Steps 434(440.16) | Grad Norm 0.4688(1.2491) | Total Time 10.00(10.00)\n",
      "Iter 0234 | Time 29.8695(30.7487) | Bit/dim 2.1339(2.2929) | Steps 434(439.97) | Grad Norm 0.4719(1.2258) | Total Time 10.00(10.00)\n",
      "Iter 0235 | Time 29.8312(30.7212) | Bit/dim 2.1331(2.2881) | Steps 434(439.79) | Grad Norm 0.4676(1.2030) | Total Time 10.00(10.00)\n",
      "Iter 0236 | Time 29.5664(30.6866) | Bit/dim 2.1289(2.2833) | Steps 434(439.62) | Grad Norm 0.4722(1.1811) | Total Time 10.00(10.00)\n",
      "Iter 0237 | Time 29.8947(30.6628) | Bit/dim 2.1297(2.2787) | Steps 434(439.45) | Grad Norm 0.4636(1.1596) | Total Time 10.00(10.00)\n",
      "validating...\n",
      "Epoch 0034 | Time 9.2420, Epoch Time 228.9913, Bit/dim 2.1150\n"
     ]
    },
    {
     "name": "stdout",
     "output_type": "stream",
     "text": [
      "do _generate\n",
      "do _generate\n",
      "do _generate\n",
      "do _generate\n",
      "do _generate\n",
      "do _generate\n",
      "do _generate\n",
      "do _generate\n"
     ]
    },
    {
     "name": "stderr",
     "output_type": "stream",
     "text": [
      "===> Using batch size 8000. Total 7 iterations/epoch.\n",
      "Iter 0238 | Time 30.7758(30.6662) | Bit/dim 2.1303(2.2742) | Steps 434(439.29) | Grad Norm 0.4613(1.1386) | Total Time 10.00(10.00)\n",
      "Iter 0239 | Time 29.3262(30.6260) | Bit/dim 2.1316(2.2699) | Steps 434(439.13) | Grad Norm 0.4602(1.1183) | Total Time 10.00(10.00)\n",
      "Iter 0240 | Time 29.6420(30.5965) | Bit/dim 2.1280(2.2657) | Steps 434(438.97) | Grad Norm 0.4569(1.0984) | Total Time 10.00(10.00)\n",
      "Iter 0241 | Time 31.3674(30.6196) | Bit/dim 2.1252(2.2615) | Steps 434(438.82) | Grad Norm 0.4569(1.0792) | Total Time 10.00(10.00)\n",
      "Iter 0242 | Time 29.9986(30.6010) | Bit/dim 2.1218(2.2573) | Steps 434(438.68) | Grad Norm 0.4556(1.0605) | Total Time 10.00(10.00)\n",
      "Iter 0243 | Time 29.8012(30.5770) | Bit/dim 2.1218(2.2532) | Steps 434(438.54) | Grad Norm 0.4521(1.0422) | Total Time 10.00(10.00)\n",
      "Iter 0244 | Time 30.3038(30.5688) | Bit/dim 2.1286(2.2495) | Steps 434(438.40) | Grad Norm 0.4467(1.0244) | Total Time 10.00(10.00)\n",
      "validating...\n",
      "Epoch 0035 | Time 9.2579, Epoch Time 232.4508, Bit/dim 2.1072\n"
     ]
    },
    {
     "name": "stdout",
     "output_type": "stream",
     "text": [
      "do _generate\n",
      "do _generate\n",
      "do _generate\n",
      "do _generate\n",
      "do _generate\n",
      "do _generate\n",
      "do _generate\n",
      "do _generate\n"
     ]
    },
    {
     "name": "stderr",
     "output_type": "stream",
     "text": [
      "===> Using batch size 8000. Total 7 iterations/epoch.\n",
      "Iter 0245 | Time 29.9783(30.5511) | Bit/dim 2.1202(2.2456) | Steps 434(438.27) | Grad Norm 0.4507(1.0071) | Total Time 10.00(10.00)\n",
      "Iter 0246 | Time 30.7875(30.5582) | Bit/dim 2.1229(2.2419) | Steps 434(438.14) | Grad Norm 0.4434(0.9902) | Total Time 10.00(10.00)\n",
      "Iter 0247 | Time 30.0887(30.5441) | Bit/dim 2.1196(2.2382) | Steps 434(438.02) | Grad Norm 0.4402(0.9737) | Total Time 10.00(10.00)\n",
      "Iter 0248 | Time 31.7944(30.5816) | Bit/dim 2.1165(2.2346) | Steps 434(437.90) | Grad Norm 0.4446(0.9579) | Total Time 10.00(10.00)\n",
      "Iter 0249 | Time 31.7554(30.6168) | Bit/dim 2.1177(2.2311) | Steps 434(437.78) | Grad Norm 0.4388(0.9423) | Total Time 10.00(10.00)\n",
      "Iter 0250 | Time 29.5141(30.5837) | Bit/dim 2.1167(2.2277) | Steps 434(437.67) | Grad Norm 0.4379(0.9272) | Total Time 10.00(10.00)\n",
      "Iter 0251 | Time 29.8506(30.5617) | Bit/dim 2.1130(2.2242) | Steps 434(437.56) | Grad Norm 0.4358(0.9124) | Total Time 10.00(10.00)\n",
      "validating...\n",
      "Epoch 0036 | Time 9.1879, Epoch Time 235.0370, Bit/dim 2.0998\n"
     ]
    },
    {
     "name": "stdout",
     "output_type": "stream",
     "text": [
      "do _generate\n",
      "do _generate\n",
      "do _generate\n",
      "do _generate\n",
      "do _generate\n",
      "do _generate\n",
      "do _generate\n",
      "do _generate\n"
     ]
    },
    {
     "name": "stderr",
     "output_type": "stream",
     "text": [
      "===> Using batch size 8000. Total 7 iterations/epoch.\n",
      "Iter 0252 | Time 30.2488(30.5523) | Bit/dim 2.1171(2.2210) | Steps 434(437.45) | Grad Norm 0.4338(0.8981) | Total Time 10.00(10.00)\n",
      "Iter 0253 | Time 29.1658(30.5107) | Bit/dim 2.1113(2.2177) | Steps 434(437.35) | Grad Norm 0.4338(0.8841) | Total Time 10.00(10.00)\n",
      "Iter 0254 | Time 29.5222(30.4811) | Bit/dim 2.1101(2.2145) | Steps 434(437.25) | Grad Norm 0.4326(0.8706) | Total Time 10.00(10.00)\n",
      "Iter 0255 | Time 29.2629(30.4445) | Bit/dim 2.1092(2.2113) | Steps 434(437.15) | Grad Norm 0.4306(0.8574) | Total Time 10.00(10.00)\n",
      "Iter 0256 | Time 30.3832(30.4427) | Bit/dim 2.1112(2.2083) | Steps 434(437.05) | Grad Norm 0.4272(0.8445) | Total Time 10.00(10.00)\n",
      "Iter 0257 | Time 31.3369(30.4695) | Bit/dim 2.1044(2.2052) | Steps 434(436.96) | Grad Norm 0.4273(0.8320) | Total Time 10.00(10.00)\n",
      "Iter 0258 | Time 29.8554(30.4511) | Bit/dim 2.1014(2.2021) | Steps 434(436.87) | Grad Norm 0.4252(0.8198) | Total Time 10.00(10.00)\n",
      "validating...\n",
      "Epoch 0037 | Time 9.1424, Epoch Time 231.0080, Bit/dim 2.0912\n"
     ]
    },
    {
     "name": "stdout",
     "output_type": "stream",
     "text": [
      "do _generate\n",
      "do _generate\n",
      "do _generate\n",
      "do _generate\n",
      "do _generate\n",
      "do _generate\n",
      "do _generate\n",
      "do _generate\n"
     ]
    },
    {
     "name": "stderr",
     "output_type": "stream",
     "text": [
      "===> Using batch size 8000. Total 7 iterations/epoch.\n",
      "Iter 0259 | Time 29.4646(30.4215) | Bit/dim 2.1057(2.1992) | Steps 434(436.79) | Grad Norm 0.4202(0.8078) | Total Time 10.00(10.00)\n",
      "Iter 0260 | Time 30.0311(30.4098) | Bit/dim 2.1061(2.1964) | Steps 434(436.70) | Grad Norm 0.4186(0.7961) | Total Time 10.00(10.00)\n",
      "Iter 0261 | Time 31.0830(30.4300) | Bit/dim 2.1026(2.1936) | Steps 434(436.62) | Grad Norm 0.4166(0.7847) | Total Time 10.00(10.00)\n",
      "Iter 0262 | Time 29.6115(30.4054) | Bit/dim 2.1038(2.1909) | Steps 434(436.54) | Grad Norm 0.4195(0.7737) | Total Time 10.00(10.00)\n",
      "Iter 0263 | Time 30.8418(30.4185) | Bit/dim 2.0999(2.1882) | Steps 434(436.47) | Grad Norm 0.4144(0.7630) | Total Time 10.00(10.00)\n",
      "Iter 0264 | Time 30.0543(30.4076) | Bit/dim 2.1023(2.1856) | Steps 434(436.39) | Grad Norm 0.4098(0.7524) | Total Time 10.00(10.00)\n",
      "Iter 0265 | Time 30.0178(30.3959) | Bit/dim 2.1009(2.1830) | Steps 434(436.32) | Grad Norm 0.4114(0.7421) | Total Time 10.00(10.00)\n",
      "validating...\n",
      "Epoch 0038 | Time 9.1300, Epoch Time 232.5968, Bit/dim 2.0837\n"
     ]
    },
    {
     "name": "stdout",
     "output_type": "stream",
     "text": [
      "do _generate\n",
      "do _generate\n",
      "do _generate\n",
      "do _generate\n",
      "do _generate\n",
      "do _generate\n",
      "do _generate\n",
      "do _generate\n"
     ]
    },
    {
     "name": "stderr",
     "output_type": "stream",
     "text": [
      "===> Using batch size 8000. Total 7 iterations/epoch.\n",
      "Iter 0266 | Time 29.8397(30.3792) | Bit/dim 2.0988(2.1805) | Steps 434(436.25) | Grad Norm 0.4084(0.7321) | Total Time 10.00(10.00)\n",
      "Iter 0267 | Time 29.7333(30.3598) | Bit/dim 2.0980(2.1780) | Steps 434(436.19) | Grad Norm 0.4078(0.7224) | Total Time 10.00(10.00)\n",
      "Iter 0268 | Time 30.1940(30.3549) | Bit/dim 2.0924(2.1755) | Steps 434(436.12) | Grad Norm 0.4041(0.7129) | Total Time 10.00(10.00)\n",
      "Iter 0269 | Time 29.8520(30.3398) | Bit/dim 2.0904(2.1729) | Steps 434(436.06) | Grad Norm 0.4077(0.7037) | Total Time 10.00(10.00)\n",
      "Iter 0270 | Time 29.5686(30.3166) | Bit/dim 2.0942(2.1706) | Steps 434(435.99) | Grad Norm 0.4014(0.6946) | Total Time 10.00(10.00)\n",
      "Iter 0271 | Time 30.0656(30.3091) | Bit/dim 2.0934(2.1682) | Steps 434(435.93) | Grad Norm 0.3988(0.6858) | Total Time 10.00(10.00)\n",
      "Iter 0272 | Time 30.6057(30.3180) | Bit/dim 2.0925(2.1660) | Steps 434(435.88) | Grad Norm 0.3979(0.6771) | Total Time 10.00(10.00)\n",
      "validating...\n",
      "Epoch 0039 | Time 9.0330, Epoch Time 230.9169, Bit/dim 2.0746\n"
     ]
    },
    {
     "name": "stdout",
     "output_type": "stream",
     "text": [
      "do _generate\n",
      "do _generate\n",
      "do _generate\n",
      "do _generate\n",
      "do _generate\n",
      "do _generate\n",
      "do _generate\n",
      "do _generate\n"
     ]
    },
    {
     "name": "stderr",
     "output_type": "stream",
     "text": [
      "===> Using batch size 8000. Total 7 iterations/epoch.\n",
      "Iter 0273 | Time 29.5547(30.2951) | Bit/dim 2.0886(2.1637) | Steps 434(435.82) | Grad Norm 0.3958(0.6687) | Total Time 10.00(10.00)\n",
      "Iter 0274 | Time 29.7563(30.2789) | Bit/dim 2.0854(2.1613) | Steps 434(435.77) | Grad Norm 0.4001(0.6606) | Total Time 10.00(10.00)\n",
      "Iter 0275 | Time 29.2321(30.2475) | Bit/dim 2.0835(2.1590) | Steps 434(435.71) | Grad Norm 0.3928(0.6526) | Total Time 10.00(10.00)\n",
      "Iter 0276 | Time 29.4593(30.2239) | Bit/dim 2.0877(2.1568) | Steps 434(435.66) | Grad Norm 0.3884(0.6447) | Total Time 10.00(10.00)\n",
      "Iter 0277 | Time 29.9613(30.2160) | Bit/dim 2.0918(2.1549) | Steps 434(435.61) | Grad Norm 0.3873(0.6369) | Total Time 10.00(10.00)\n",
      "Iter 0278 | Time 30.9237(30.2372) | Bit/dim 2.0848(2.1528) | Steps 434(435.56) | Grad Norm 0.3875(0.6295) | Total Time 10.00(10.00)\n",
      "Iter 0279 | Time 30.2472(30.2375) | Bit/dim 2.0824(2.1507) | Steps 434(435.52) | Grad Norm 0.3882(0.6222) | Total Time 10.00(10.00)\n",
      "validating...\n",
      "Epoch 0040 | Time 9.2939, Epoch Time 230.7280, Bit/dim 2.0674\n"
     ]
    },
    {
     "name": "stdout",
     "output_type": "stream",
     "text": [
      "do _generate\n",
      "do _generate\n",
      "do _generate\n",
      "do _generate\n",
      "do _generate\n",
      "do _generate\n",
      "do _generate\n",
      "do _generate\n"
     ]
    },
    {
     "name": "stderr",
     "output_type": "stream",
     "text": [
      "===> Using batch size 8000. Total 7 iterations/epoch.\n",
      "Iter 0280 | Time 29.2390(30.2076) | Bit/dim 2.0837(2.1487) | Steps 434(435.47) | Grad Norm 0.3871(0.6152) | Total Time 10.00(10.00)\n",
      "Iter 0281 | Time 29.3507(30.1819) | Bit/dim 2.0822(2.1467) | Steps 434(435.43) | Grad Norm 0.3894(0.6084) | Total Time 10.00(10.00)\n",
      "Iter 0282 | Time 30.2673(30.1844) | Bit/dim 2.0806(2.1447) | Steps 434(435.38) | Grad Norm 0.3837(0.6017) | Total Time 10.00(10.00)\n",
      "Iter 0283 | Time 29.9359(30.1770) | Bit/dim 2.0748(2.1426) | Steps 440(435.52) | Grad Norm 0.3843(0.5951) | Total Time 10.00(10.00)\n",
      "Iter 0284 | Time 31.5559(30.2184) | Bit/dim 2.0732(2.1405) | Steps 440(435.66) | Grad Norm 0.3820(0.5887) | Total Time 10.00(10.00)\n",
      "Iter 0285 | Time 29.5694(30.1989) | Bit/dim 2.0818(2.1387) | Steps 440(435.79) | Grad Norm 0.3791(0.5824) | Total Time 10.00(10.00)\n",
      "Iter 0286 | Time 30.2476(30.2003) | Bit/dim 2.0758(2.1369) | Steps 440(435.91) | Grad Norm 0.3787(0.5763) | Total Time 10.00(10.00)\n",
      "validating...\n",
      "Epoch 0041 | Time 9.3798, Epoch Time 231.6690, Bit/dim 2.0598\n"
     ]
    },
    {
     "name": "stdout",
     "output_type": "stream",
     "text": [
      "do _generate\n",
      "do _generate\n",
      "do _generate\n",
      "do _generate\n",
      "do _generate\n",
      "do _generate\n",
      "do _generate\n",
      "do _generate\n"
     ]
    },
    {
     "name": "stderr",
     "output_type": "stream",
     "text": [
      "===> Using batch size 8000. Total 7 iterations/epoch.\n",
      "Iter 0287 | Time 31.0219(30.2250) | Bit/dim 2.0728(2.1349) | Steps 440(436.04) | Grad Norm 0.3780(0.5704) | Total Time 10.00(10.00)\n",
      "Iter 0288 | Time 30.0734(30.2204) | Bit/dim 2.0698(2.1330) | Steps 440(436.15) | Grad Norm 0.3759(0.5646) | Total Time 10.00(10.00)\n",
      "Iter 0289 | Time 31.1520(30.2484) | Bit/dim 2.0767(2.1313) | Steps 440(436.27) | Grad Norm 0.3707(0.5587) | Total Time 10.00(10.00)\n",
      "Iter 0290 | Time 30.0419(30.2422) | Bit/dim 2.0724(2.1295) | Steps 440(436.38) | Grad Norm 0.3716(0.5531) | Total Time 10.00(10.00)\n",
      "Iter 0291 | Time 29.9477(30.2334) | Bit/dim 2.0683(2.1277) | Steps 440(436.49) | Grad Norm 0.3692(0.5476) | Total Time 10.00(10.00)\n",
      "Iter 0292 | Time 31.3143(30.2658) | Bit/dim 2.0723(2.1260) | Steps 440(436.60) | Grad Norm 0.3683(0.5422) | Total Time 10.00(10.00)\n",
      "Iter 0293 | Time 29.9621(30.2567) | Bit/dim 2.0663(2.1242) | Steps 440(436.70) | Grad Norm 0.3799(0.5374) | Total Time 10.00(10.00)\n",
      "validating...\n",
      "Epoch 0042 | Time 9.5459, Epoch Time 234.7964, Bit/dim 2.0515\n"
     ]
    },
    {
     "name": "stdout",
     "output_type": "stream",
     "text": [
      "do _generate\n",
      "do _generate\n",
      "do _generate\n",
      "do _generate\n",
      "do _generate\n",
      "do _generate\n",
      "do _generate\n",
      "do _generate\n"
     ]
    },
    {
     "name": "stderr",
     "output_type": "stream",
     "text": [
      "===> Using batch size 8000. Total 7 iterations/epoch.\n",
      "Iter 0294 | Time 30.8286(30.2738) | Bit/dim 2.0678(2.1225) | Steps 440(436.80) | Grad Norm 0.3664(0.5322) | Total Time 10.00(10.00)\n",
      "Iter 0295 | Time 30.2753(30.2739) | Bit/dim 2.0675(2.1209) | Steps 440(436.89) | Grad Norm 0.3672(0.5273) | Total Time 10.00(10.00)\n",
      "Iter 0296 | Time 30.1849(30.2712) | Bit/dim 2.0578(2.1190) | Steps 440(436.99) | Grad Norm 0.3737(0.5227) | Total Time 10.00(10.00)\n",
      "Iter 0297 | Time 30.1686(30.2681) | Bit/dim 2.0602(2.1172) | Steps 440(437.08) | Grad Norm 0.3633(0.5179) | Total Time 10.00(10.00)\n",
      "Iter 0298 | Time 31.1242(30.2938) | Bit/dim 2.0636(2.1156) | Steps 440(437.16) | Grad Norm 0.3603(0.5132) | Total Time 10.00(10.00)\n",
      "Iter 0299 | Time 31.0771(30.3173) | Bit/dim 2.0624(2.1140) | Steps 440(437.25) | Grad Norm 0.3603(0.5086) | Total Time 10.00(10.00)\n",
      "Iter 0300 | Time 30.0378(30.3089) | Bit/dim 2.0650(2.1126) | Steps 440(437.33) | Grad Norm 0.3606(0.5041) | Total Time 10.00(10.00)\n",
      "validating...\n",
      "Epoch 0043 | Time 9.4563, Epoch Time 235.1729, Bit/dim 2.0443\n"
     ]
    },
    {
     "name": "stdout",
     "output_type": "stream",
     "text": [
      "do _generate\n",
      "do _generate\n",
      "do _generatedo _generate\n",
      "\n",
      "do _generate\n",
      "do _generate\n",
      "do _generate\n",
      "do _generate\n"
     ]
    },
    {
     "name": "stderr",
     "output_type": "stream",
     "text": [
      "===> Using batch size 8000. Total 7 iterations/epoch.\n",
      "Iter 0301 | Time 29.7738(30.2929) | Bit/dim 2.0625(2.1111) | Steps 440(437.41) | Grad Norm 0.3581(0.4998) | Total Time 10.00(10.00)\n",
      "Iter 0302 | Time 30.1336(30.2881) | Bit/dim 2.0601(2.1095) | Steps 440(437.49) | Grad Norm 0.3628(0.4956) | Total Time 10.00(10.00)\n",
      "Iter 0303 | Time 30.8683(30.3055) | Bit/dim 2.0640(2.1082) | Steps 440(437.57) | Grad Norm 0.3590(0.4915) | Total Time 10.00(10.00)\n",
      "Iter 0304 | Time 30.0978(30.2993) | Bit/dim 2.0500(2.1064) | Steps 440(437.64) | Grad Norm 0.3654(0.4878) | Total Time 10.00(10.00)\n",
      "Iter 0305 | Time 29.9856(30.2899) | Bit/dim 2.0477(2.1047) | Steps 440(437.71) | Grad Norm 0.3666(0.4841) | Total Time 10.00(10.00)\n",
      "Iter 0306 | Time 29.5660(30.2681) | Bit/dim 2.0522(2.1031) | Steps 440(437.78) | Grad Norm 0.3596(0.4804) | Total Time 10.00(10.00)\n",
      "Iter 0307 | Time 30.3796(30.2715) | Bit/dim 2.0494(2.1015) | Steps 440(437.84) | Grad Norm 0.3547(0.4766) | Total Time 10.00(10.00)\n",
      "validating...\n",
      "Epoch 0044 | Time 9.4830, Epoch Time 232.7327, Bit/dim 2.0360\n"
     ]
    },
    {
     "name": "stdout",
     "output_type": "stream",
     "text": [
      "do _generate\n",
      "do _generate\n",
      "do _generate\n",
      "do _generate\n",
      "do _generate\n",
      "do _generate\n",
      "do _generate\n",
      "do _generate\n"
     ]
    },
    {
     "name": "stderr",
     "output_type": "stream",
     "text": [
      "===> Using batch size 8000. Total 7 iterations/epoch.\n",
      "Iter 0308 | Time 30.4404(30.2766) | Bit/dim 2.0485(2.0999) | Steps 440(437.91) | Grad Norm 0.3559(0.4730) | Total Time 10.00(10.00)\n",
      "Iter 0309 | Time 30.4257(30.2810) | Bit/dim 2.0534(2.0985) | Steps 440(437.97) | Grad Norm 0.3470(0.4692) | Total Time 10.00(10.00)\n",
      "Iter 0310 | Time 30.0841(30.2751) | Bit/dim 2.0484(2.0970) | Steps 440(438.03) | Grad Norm 0.3477(0.4656) | Total Time 10.00(10.00)\n",
      "Iter 0311 | Time 30.7399(30.2891) | Bit/dim 2.0471(2.0955) | Steps 440(438.09) | Grad Norm 0.3555(0.4623) | Total Time 10.00(10.00)\n",
      "Iter 0312 | Time 30.1846(30.2859) | Bit/dim 2.0446(2.0940) | Steps 440(438.15) | Grad Norm 0.3578(0.4591) | Total Time 10.00(10.00)\n",
      "Iter 0313 | Time 30.3458(30.2877) | Bit/dim 2.0449(2.0925) | Steps 440(438.20) | Grad Norm 0.3491(0.4558) | Total Time 10.00(10.00)\n",
      "Iter 0314 | Time 29.7977(30.2730) | Bit/dim 2.0449(2.0911) | Steps 440(438.26) | Grad Norm 0.3671(0.4532) | Total Time 10.00(10.00)\n",
      "validating...\n",
      "Epoch 0045 | Time 9.3412, Epoch Time 233.3133, Bit/dim 2.0292\n"
     ]
    },
    {
     "name": "stdout",
     "output_type": "stream",
     "text": [
      "do _generate\n",
      "do _generate\n",
      "do _generate\n",
      "do _generate\n",
      "do _generate\n",
      "do _generate\n",
      "do _generate\n",
      "do _generate\n"
     ]
    },
    {
     "name": "stderr",
     "output_type": "stream",
     "text": [
      "===> Using batch size 8000. Total 7 iterations/epoch.\n",
      "Iter 0315 | Time 30.0636(30.2667) | Bit/dim 2.0456(2.0897) | Steps 440(438.31) | Grad Norm 0.3497(0.4501) | Total Time 10.00(10.00)\n",
      "Iter 0316 | Time 30.0567(30.2604) | Bit/dim 2.0423(2.0883) | Steps 440(438.36) | Grad Norm 0.3477(0.4470) | Total Time 10.00(10.00)\n",
      "Iter 0317 | Time 31.5977(30.3006) | Bit/dim 2.0390(2.0868) | Steps 440(438.41) | Grad Norm 0.3617(0.4444) | Total Time 10.00(10.00)\n",
      "Iter 0318 | Time 32.2403(30.3588) | Bit/dim 2.0429(2.0855) | Steps 440(438.46) | Grad Norm 0.3439(0.4414) | Total Time 10.00(10.00)\n",
      "Iter 0319 | Time 30.6073(30.3662) | Bit/dim 2.0356(2.0840) | Steps 440(438.50) | Grad Norm 0.3428(0.4385) | Total Time 10.00(10.00)\n",
      "Iter 0320 | Time 30.4723(30.3694) | Bit/dim 2.0417(2.0827) | Steps 440(438.55) | Grad Norm 0.3576(0.4360) | Total Time 10.00(10.00)\n",
      "Iter 0321 | Time 31.2081(30.3946) | Bit/dim 2.0359(2.0813) | Steps 440(438.59) | Grad Norm 0.3355(0.4330) | Total Time 10.00(10.00)\n",
      "validating...\n",
      "Epoch 0046 | Time 9.3675, Epoch Time 237.6329, Bit/dim 2.0218\n"
     ]
    },
    {
     "name": "stdout",
     "output_type": "stream",
     "text": [
      "do _generate\n",
      "do _generate\n",
      "do _generate\n",
      "do _generate\n",
      "do _generate\n",
      "do _generate\n",
      "do _generate\n",
      "do _generate\n"
     ]
    },
    {
     "name": "stderr",
     "output_type": "stream",
     "text": [
      "===> Using batch size 8000. Total 7 iterations/epoch.\n",
      "Iter 0322 | Time 29.9698(30.3818) | Bit/dim 2.0384(2.0800) | Steps 440(438.63) | Grad Norm 0.3327(0.4300) | Total Time 10.00(10.00)\n",
      "Iter 0323 | Time 30.1089(30.3736) | Bit/dim 2.0330(2.0786) | Steps 440(438.68) | Grad Norm 0.3536(0.4277) | Total Time 10.00(10.00)\n",
      "Iter 0324 | Time 30.1684(30.3675) | Bit/dim 2.0357(2.0773) | Steps 440(438.72) | Grad Norm 0.3333(0.4249) | Total Time 10.00(10.00)\n",
      "Iter 0325 | Time 29.9165(30.3539) | Bit/dim 2.0303(2.0759) | Steps 440(438.75) | Grad Norm 0.3303(0.4220) | Total Time 10.00(10.00)\n",
      "Iter 0326 | Time 30.6124(30.3617) | Bit/dim 2.0321(2.0746) | Steps 440(438.79) | Grad Norm 0.3392(0.4196) | Total Time 10.00(10.00)\n",
      "Iter 0327 | Time 29.6899(30.3415) | Bit/dim 2.0299(2.0733) | Steps 440(438.83) | Grad Norm 0.3342(0.4170) | Total Time 10.00(10.00)\n",
      "Iter 0328 | Time 31.8342(30.3863) | Bit/dim 2.0312(2.0720) | Steps 440(438.86) | Grad Norm 0.3253(0.4143) | Total Time 10.00(10.00)\n",
      "validating...\n",
      "Epoch 0047 | Time 9.3795, Epoch Time 233.8032, Bit/dim 2.0132\n"
     ]
    },
    {
     "name": "stdout",
     "output_type": "stream",
     "text": [
      "do _generate\n",
      "do _generate\n",
      "do _generate\n",
      "do _generate\n",
      "do _generate\n",
      "do _generate\n",
      "do _generate\n",
      "do _generate\n"
     ]
    },
    {
     "name": "stderr",
     "output_type": "stream",
     "text": [
      "===> Using batch size 8000. Total 7 iterations/epoch.\n",
      "Iter 0329 | Time 29.8896(30.3714) | Bit/dim 2.0274(2.0707) | Steps 440(438.90) | Grad Norm 0.3407(0.4120) | Total Time 10.00(10.00)\n",
      "Iter 0330 | Time 31.6273(30.4091) | Bit/dim 2.0258(2.0693) | Steps 440(438.93) | Grad Norm 0.3271(0.4095) | Total Time 10.00(10.00)\n",
      "Iter 0331 | Time 29.9180(30.3944) | Bit/dim 2.0298(2.0681) | Steps 440(438.96) | Grad Norm 0.3167(0.4067) | Total Time 10.00(10.00)\n",
      "Iter 0332 | Time 30.6313(30.4015) | Bit/dim 2.0304(2.0670) | Steps 440(438.99) | Grad Norm 0.3225(0.4042) | Total Time 10.00(10.00)\n",
      "Iter 0333 | Time 29.9585(30.3882) | Bit/dim 2.0213(2.0656) | Steps 440(439.02) | Grad Norm 0.3269(0.4019) | Total Time 10.00(10.00)\n",
      "Iter 0334 | Time 29.9470(30.3749) | Bit/dim 2.0221(2.0643) | Steps 440(439.05) | Grad Norm 0.3236(0.3995) | Total Time 10.00(10.00)\n",
      "Iter 0335 | Time 30.7301(30.3856) | Bit/dim 2.0260(2.0632) | Steps 440(439.08) | Grad Norm 0.3178(0.3971) | Total Time 10.00(10.00)\n",
      "validating...\n",
      "Epoch 0048 | Time 9.3606, Epoch Time 234.1872, Bit/dim 2.0068\n"
     ]
    },
    {
     "name": "stdout",
     "output_type": "stream",
     "text": [
      "do _generate\n",
      "do _generate\n",
      "do _generate\n",
      "do _generate\n",
      "do _generate\n",
      "do _generate\n",
      "do _generate\n",
      "do _generate\n"
     ]
    },
    {
     "name": "stderr",
     "output_type": "stream",
     "text": [
      "===> Using batch size 8000. Total 7 iterations/epoch.\n",
      "Iter 0336 | Time 30.0441(30.3754) | Bit/dim 2.0246(2.0620) | Steps 440(439.11) | Grad Norm 0.3187(0.3947) | Total Time 10.00(10.00)\n",
      "Iter 0337 | Time 30.1992(30.3701) | Bit/dim 2.0205(2.0608) | Steps 440(439.14) | Grad Norm 0.3125(0.3923) | Total Time 10.00(10.00)\n",
      "Iter 0338 | Time 31.5889(30.4066) | Bit/dim 2.0202(2.0596) | Steps 440(439.16) | Grad Norm 0.3110(0.3898) | Total Time 10.00(10.00)\n",
      "Iter 0339 | Time 31.0070(30.4246) | Bit/dim 2.0187(2.0583) | Steps 440(439.19) | Grad Norm 0.3112(0.3875) | Total Time 10.00(10.00)\n",
      "Iter 0340 | Time 30.1200(30.4155) | Bit/dim 2.0136(2.0570) | Steps 440(439.21) | Grad Norm 0.3143(0.3853) | Total Time 10.00(10.00)\n",
      "Iter 0341 | Time 30.5847(30.4206) | Bit/dim 2.0206(2.0559) | Steps 446(439.41) | Grad Norm 0.3060(0.3829) | Total Time 10.00(10.00)\n",
      "Iter 0342 | Time 30.7498(30.4305) | Bit/dim 2.0114(2.0546) | Steps 446(439.61) | Grad Norm 0.3061(0.3806) | Total Time 10.00(10.00)\n",
      "validating...\n",
      "Epoch 0049 | Time 9.6726, Epoch Time 235.9468, Bit/dim 1.9999\n"
     ]
    },
    {
     "name": "stdout",
     "output_type": "stream",
     "text": [
      "do _generate\n",
      "do _generate\n",
      "do _generate\n",
      "do _generate\n",
      "do _generate\n",
      "do _generate\n",
      "do _generate\n",
      "do _generate\n"
     ]
    },
    {
     "name": "stderr",
     "output_type": "stream",
     "text": [
      "===> Using batch size 8000. Total 7 iterations/epoch.\n",
      "Iter 0343 | Time 30.8342(30.4426) | Bit/dim 2.0197(2.0535) | Steps 446(439.80) | Grad Norm 0.3038(0.3783) | Total Time 10.00(10.00)\n",
      "Iter 0344 | Time 31.0446(30.4606) | Bit/dim 2.0147(2.0524) | Steps 446(439.99) | Grad Norm 0.3054(0.3761) | Total Time 10.00(10.00)\n",
      "Iter 0345 | Time 30.8964(30.4737) | Bit/dim 2.0147(2.0512) | Steps 446(440.17) | Grad Norm 0.3063(0.3740) | Total Time 10.00(10.00)\n",
      "Iter 0346 | Time 30.2548(30.4671) | Bit/dim 2.0114(2.0500) | Steps 446(440.34) | Grad Norm 0.3022(0.3718) | Total Time 10.00(10.00)\n",
      "Iter 0347 | Time 30.4189(30.4657) | Bit/dim 2.0055(2.0487) | Steps 446(440.51) | Grad Norm 0.3086(0.3699) | Total Time 10.00(10.00)\n",
      "Iter 0348 | Time 30.5983(30.4697) | Bit/dim 2.0076(2.0475) | Steps 446(440.68) | Grad Norm 0.3054(0.3680) | Total Time 10.00(10.00)\n",
      "Iter 0349 | Time 30.9548(30.4842) | Bit/dim 2.0049(2.0462) | Steps 446(440.84) | Grad Norm 0.2984(0.3659) | Total Time 10.00(10.00)\n",
      "validating...\n",
      "Epoch 0050 | Time 9.5726, Epoch Time 236.5775, Bit/dim 1.9918\n"
     ]
    },
    {
     "name": "stdout",
     "output_type": "stream",
     "text": [
      "do _generate\n",
      "do _generate\n",
      "do _generate\n",
      "do _generate\n",
      "do _generate\n",
      "do _generate\n",
      "do _generate\n",
      "do _generate\n"
     ]
    },
    {
     "name": "stderr",
     "output_type": "stream",
     "text": [
      "===> Using batch size 8000. Total 7 iterations/epoch.\n",
      "Iter 0350 | Time 31.0418(30.5010) | Bit/dim 2.0046(2.0449) | Steps 446(440.99) | Grad Norm 0.2978(0.3639) | Total Time 10.00(10.00)\n",
      "Iter 0351 | Time 30.9072(30.5131) | Bit/dim 2.0063(2.0438) | Steps 446(441.14) | Grad Norm 0.2977(0.3619) | Total Time 10.00(10.00)\n",
      "Iter 0352 | Time 30.9750(30.5270) | Bit/dim 2.0017(2.0425) | Steps 446(441.29) | Grad Norm 0.2930(0.3598) | Total Time 10.00(10.00)\n",
      "Iter 0353 | Time 31.9411(30.5694) | Bit/dim 2.0082(2.0415) | Steps 446(441.43) | Grad Norm 0.2956(0.3579) | Total Time 10.00(10.00)\n",
      "Iter 0354 | Time 31.3226(30.5920) | Bit/dim 2.0037(2.0403) | Steps 446(441.57) | Grad Norm 0.2923(0.3559) | Total Time 10.00(10.00)\n",
      "Iter 0355 | Time 31.9275(30.6321) | Bit/dim 1.9967(2.0390) | Steps 446(441.70) | Grad Norm 0.2989(0.3542) | Total Time 10.00(10.00)\n",
      "Iter 0356 | Time 31.8644(30.6690) | Bit/dim 2.0065(2.0381) | Steps 446(441.83) | Grad Norm 0.2950(0.3524) | Total Time 10.00(10.00)\n",
      "validating...\n",
      "Epoch 0051 | Time 9.7419, Epoch Time 242.1954, Bit/dim 1.9851\n"
     ]
    },
    {
     "name": "stdout",
     "output_type": "stream",
     "text": [
      "do _generate\n",
      "do _generate\n",
      "do _generate\n",
      "do _generate\n",
      "do _generate\n",
      "do _generate\n",
      "do _generate\n",
      "do _generate\n"
     ]
    },
    {
     "name": "stderr",
     "output_type": "stream",
     "text": [
      "===> Using batch size 8000. Total 7 iterations/epoch.\n",
      "Iter 0357 | Time 30.5782(30.6663) | Bit/dim 2.0001(2.0369) | Steps 446(441.95) | Grad Norm 0.2979(0.3508) | Total Time 10.00(10.00)\n",
      "Iter 0358 | Time 31.8209(30.7010) | Bit/dim 2.0050(2.0360) | Steps 446(442.08) | Grad Norm 0.2965(0.3492) | Total Time 10.00(10.00)\n",
      "Iter 0359 | Time 30.4420(30.6932) | Bit/dim 1.9985(2.0348) | Steps 446(442.19) | Grad Norm 0.2876(0.3473) | Total Time 10.00(10.00)\n",
      "Iter 0360 | Time 31.8703(30.7285) | Bit/dim 1.9956(2.0337) | Steps 446(442.31) | Grad Norm 0.2879(0.3455) | Total Time 10.00(10.00)\n",
      "Iter 0361 | Time 30.4833(30.7211) | Bit/dim 1.9981(2.0326) | Steps 446(442.42) | Grad Norm 0.2934(0.3440) | Total Time 10.00(10.00)\n",
      "Iter 0362 | Time 31.0340(30.7305) | Bit/dim 1.9906(2.0313) | Steps 446(442.53) | Grad Norm 0.2863(0.3423) | Total Time 10.00(10.00)\n",
      "Iter 0363 | Time 31.4853(30.7532) | Bit/dim 1.9920(2.0302) | Steps 446(442.63) | Grad Norm 0.2897(0.3407) | Total Time 10.00(10.00)\n",
      "validating...\n",
      "Epoch 0052 | Time 9.6536, Epoch Time 239.6645, Bit/dim 1.9782\n"
     ]
    },
    {
     "name": "stdout",
     "output_type": "stream",
     "text": [
      "do _generate\n",
      "do _generate\n",
      "do _generate\n",
      "do _generate\n",
      "do _generate\n",
      "do _generate\n",
      "do _generate\n",
      "do _generate\n"
     ]
    },
    {
     "name": "stderr",
     "output_type": "stream",
     "text": [
      "===> Using batch size 8000. Total 7 iterations/epoch.\n",
      "Iter 0364 | Time 32.6162(30.8091) | Bit/dim 1.9941(2.0291) | Steps 446(442.73) | Grad Norm 0.2853(0.3390) | Total Time 10.00(10.00)\n",
      "Iter 0365 | Time 30.4598(30.7986) | Bit/dim 1.9913(2.0279) | Steps 446(442.83) | Grad Norm 0.2891(0.3375) | Total Time 10.00(10.00)\n",
      "Iter 0366 | Time 30.5502(30.7911) | Bit/dim 1.9857(2.0267) | Steps 446(442.92) | Grad Norm 0.2979(0.3363) | Total Time 10.00(10.00)\n",
      "Iter 0367 | Time 31.0079(30.7976) | Bit/dim 1.9914(2.0256) | Steps 452(443.20) | Grad Norm 0.2790(0.3346) | Total Time 10.00(10.00)\n",
      "Iter 0368 | Time 30.8316(30.7987) | Bit/dim 1.9927(2.0246) | Steps 446(443.28) | Grad Norm 0.2832(0.3331) | Total Time 10.00(10.00)\n",
      "Iter 0369 | Time 31.0580(30.8064) | Bit/dim 1.9904(2.0236) | Steps 446(443.36) | Grad Norm 0.2751(0.3313) | Total Time 10.00(10.00)\n",
      "Iter 0370 | Time 31.0585(30.8140) | Bit/dim 1.9850(2.0224) | Steps 446(443.44) | Grad Norm 0.2726(0.3296) | Total Time 10.00(10.00)\n",
      "validating...\n",
      "Epoch 0053 | Time 9.9079, Epoch Time 239.9156, Bit/dim 1.9717\n"
     ]
    },
    {
     "name": "stdout",
     "output_type": "stream",
     "text": [
      "do _generate\n",
      "do _generate\n",
      "do _generate\n",
      "do _generate\n",
      "do _generate\n",
      "do _generate\n",
      "do _generate\n",
      "do _generate\n"
     ]
    },
    {
     "name": "stderr",
     "output_type": "stream",
     "text": [
      "===> Using batch size 8000. Total 7 iterations/epoch.\n",
      "Iter 0371 | Time 31.3191(30.8292) | Bit/dim 1.9803(2.0212) | Steps 446(443.52) | Grad Norm 0.2923(0.3284) | Total Time 10.00(10.00)\n",
      "Iter 0372 | Time 31.1810(30.8397) | Bit/dim 1.9857(2.0201) | Steps 452(443.77) | Grad Norm 0.2739(0.3268) | Total Time 10.00(10.00)\n",
      "Iter 0373 | Time 30.5826(30.8320) | Bit/dim 1.9858(2.0191) | Steps 452(444.02) | Grad Norm 0.2712(0.3251) | Total Time 10.00(10.00)\n",
      "Iter 0374 | Time 31.0694(30.8391) | Bit/dim 1.9832(2.0180) | Steps 452(444.26) | Grad Norm 0.2718(0.3235) | Total Time 10.00(10.00)\n",
      "Iter 0375 | Time 31.4230(30.8566) | Bit/dim 1.9819(2.0169) | Steps 452(444.49) | Grad Norm 0.2717(0.3220) | Total Time 10.00(10.00)\n",
      "Iter 0376 | Time 31.5311(30.8769) | Bit/dim 1.9819(2.0159) | Steps 452(444.72) | Grad Norm 0.2649(0.3203) | Total Time 10.00(10.00)\n",
      "Iter 0377 | Time 31.3165(30.8901) | Bit/dim 1.9873(2.0150) | Steps 452(444.94) | Grad Norm 0.2681(0.3187) | Total Time 10.00(10.00)\n",
      "validating...\n",
      "Epoch 0054 | Time 9.8595, Epoch Time 240.8672, Bit/dim 1.9654\n"
     ]
    },
    {
     "name": "stdout",
     "output_type": "stream",
     "text": [
      "do _generate\n",
      "do _generate\n",
      "do _generate\n",
      "do _generate\n",
      "do _generate\n",
      "do _generate\n",
      "do _generate\n",
      "do _generate\n"
     ]
    },
    {
     "name": "stderr",
     "output_type": "stream",
     "text": [
      "===> Using batch size 8000. Total 7 iterations/epoch.\n",
      "Iter 0378 | Time 32.2338(30.9304) | Bit/dim 1.9715(2.0137) | Steps 452(445.15) | Grad Norm 0.2667(0.3172) | Total Time 10.00(10.00)\n",
      "Iter 0379 | Time 32.0864(30.9651) | Bit/dim 1.9811(2.0127) | Steps 458(445.53) | Grad Norm 0.2738(0.3158) | Total Time 10.00(10.00)\n",
      "Iter 0380 | Time 30.8331(30.9611) | Bit/dim 1.9776(2.0117) | Steps 452(445.73) | Grad Norm 0.2601(0.3142) | Total Time 10.00(10.00)\n",
      "Iter 0381 | Time 31.3295(30.9721) | Bit/dim 1.9780(2.0107) | Steps 452(445.91) | Grad Norm 0.2617(0.3126) | Total Time 10.00(10.00)\n",
      "Iter 0382 | Time 32.2636(31.0109) | Bit/dim 1.9800(2.0097) | Steps 452(446.10) | Grad Norm 0.2585(0.3110) | Total Time 10.00(10.00)\n",
      "Iter 0383 | Time 31.5047(31.0257) | Bit/dim 1.9821(2.0089) | Steps 452(446.27) | Grad Norm 0.2559(0.3093) | Total Time 10.00(10.00)\n",
      "Iter 0384 | Time 31.6141(31.0434) | Bit/dim 1.9733(2.0078) | Steps 458(446.63) | Grad Norm 0.2612(0.3079) | Total Time 10.00(10.00)\n",
      "validating...\n",
      "Epoch 0055 | Time 10.0015, Epoch Time 244.1561, Bit/dim 1.9589\n"
     ]
    },
    {
     "name": "stdout",
     "output_type": "stream",
     "text": [
      "do _generate\n",
      "do _generate\n",
      "do _generate\n",
      "do _generate\n",
      "do _generate\n",
      "do _generate\n",
      "do _generate\n",
      "do _generate\n"
     ]
    },
    {
     "name": "stderr",
     "output_type": "stream",
     "text": [
      "===> Using batch size 8000. Total 7 iterations/epoch.\n",
      "Iter 0385 | Time 32.1839(31.0776) | Bit/dim 1.9712(2.0067) | Steps 458(446.97) | Grad Norm 0.2656(0.3066) | Total Time 10.00(10.00)\n",
      "Iter 0386 | Time 32.2271(31.1121) | Bit/dim 1.9735(2.0058) | Steps 452(447.12) | Grad Norm 0.2527(0.3050) | Total Time 10.00(10.00)\n",
      "Iter 0387 | Time 32.0071(31.1389) | Bit/dim 1.9712(2.0047) | Steps 458(447.44) | Grad Norm 0.2497(0.3033) | Total Time 10.00(10.00)\n",
      "Iter 0388 | Time 33.0251(31.1955) | Bit/dim 1.9716(2.0037) | Steps 458(447.76) | Grad Norm 0.2543(0.3019) | Total Time 10.00(10.00)\n",
      "Iter 0389 | Time 31.9500(31.2181) | Bit/dim 1.9682(2.0027) | Steps 458(448.07) | Grad Norm 0.2510(0.3003) | Total Time 10.00(10.00)\n",
      "Iter 0390 | Time 31.9272(31.2394) | Bit/dim 1.9680(2.0016) | Steps 458(448.37) | Grad Norm 0.2506(0.2989) | Total Time 10.00(10.00)\n",
      "Iter 0391 | Time 31.8222(31.2569) | Bit/dim 1.9733(2.0008) | Steps 458(448.66) | Grad Norm 0.2480(0.2973) | Total Time 10.00(10.00)\n",
      "validating...\n",
      "Epoch 0056 | Time 9.9470, Epoch Time 247.2268, Bit/dim 1.9519\n"
     ]
    },
    {
     "name": "stdout",
     "output_type": "stream",
     "text": [
      "do _generate\n",
      "do _generate\n",
      "do _generate\n",
      "do _generate\n",
      "do _generate\n",
      "do _generate\n",
      "do _generate\n",
      "do _generate\n"
     ]
    },
    {
     "name": "stderr",
     "output_type": "stream",
     "text": [
      "===> Using batch size 8000. Total 7 iterations/epoch.\n",
      "Iter 0392 | Time 32.2381(31.2863) | Bit/dim 1.9664(1.9997) | Steps 458(448.94) | Grad Norm 0.2472(0.2958) | Total Time 10.00(10.00)\n",
      "Iter 0393 | Time 31.9274(31.3056) | Bit/dim 1.9634(1.9986) | Steps 458(449.21) | Grad Norm 0.2499(0.2944) | Total Time 10.00(10.00)\n",
      "Iter 0394 | Time 31.9393(31.3246) | Bit/dim 1.9636(1.9976) | Steps 458(449.47) | Grad Norm 0.2444(0.2929) | Total Time 10.00(10.00)\n",
      "Iter 0395 | Time 33.0889(31.3775) | Bit/dim 1.9719(1.9968) | Steps 458(449.73) | Grad Norm 0.2435(0.2915) | Total Time 10.00(10.00)\n",
      "Iter 0396 | Time 32.0347(31.3972) | Bit/dim 1.9621(1.9958) | Steps 458(449.98) | Grad Norm 0.2445(0.2900) | Total Time 10.00(10.00)\n",
      "Iter 0397 | Time 31.8757(31.4116) | Bit/dim 1.9693(1.9950) | Steps 458(450.22) | Grad Norm 0.2422(0.2886) | Total Time 10.00(10.00)\n",
      "Iter 0398 | Time 33.3887(31.4709) | Bit/dim 1.9596(1.9939) | Steps 458(450.45) | Grad Norm 0.2431(0.2872) | Total Time 10.00(10.00)\n",
      "validating...\n",
      "Epoch 0057 | Time 9.7679, Epoch Time 248.4612, Bit/dim 1.9456\n"
     ]
    },
    {
     "name": "stdout",
     "output_type": "stream",
     "text": [
      "do _generate\n",
      "do _generate\n",
      "do _generate\n",
      "do _generate\n",
      "do _generate\n",
      "do _generate\n",
      "do _generate\n",
      "do _generate\n"
     ]
    },
    {
     "name": "stderr",
     "output_type": "stream",
     "text": [
      "===> Using batch size 8000. Total 7 iterations/epoch.\n",
      "Iter 0399 | Time 32.1223(31.4904) | Bit/dim 1.9598(1.9929) | Steps 458(450.68) | Grad Norm 0.2424(0.2859) | Total Time 10.00(10.00)\n",
      "Iter 0400 | Time 32.3187(31.5153) | Bit/dim 1.9577(1.9918) | Steps 458(450.90) | Grad Norm 0.2346(0.2844) | Total Time 10.00(10.00)\n",
      "Iter 0401 | Time 32.3556(31.5405) | Bit/dim 1.9586(1.9909) | Steps 458(451.11) | Grad Norm 0.2333(0.2828) | Total Time 10.00(10.00)\n",
      "Iter 0402 | Time 32.1393(31.5584) | Bit/dim 1.9582(1.9899) | Steps 458(451.32) | Grad Norm 0.2366(0.2814) | Total Time 10.00(10.00)\n",
      "Iter 0403 | Time 31.7313(31.5636) | Bit/dim 1.9538(1.9888) | Steps 458(451.52) | Grad Norm 0.2361(0.2801) | Total Time 10.00(10.00)\n",
      "Iter 0404 | Time 32.1252(31.5805) | Bit/dim 1.9606(1.9879) | Steps 458(451.71) | Grad Norm 0.2330(0.2787) | Total Time 10.00(10.00)\n",
      "Iter 0405 | Time 32.5610(31.6099) | Bit/dim 1.9617(1.9872) | Steps 458(451.90) | Grad Norm 0.2290(0.2772) | Total Time 10.00(10.00)\n",
      "validating...\n",
      "Epoch 0058 | Time 10.0083, Epoch Time 247.4121, Bit/dim 1.9405\n"
     ]
    },
    {
     "name": "stdout",
     "output_type": "stream",
     "text": [
      "do _generate\n",
      "do _generate\n",
      "do _generate\n",
      "do _generate\n",
      "do _generate\n",
      "do _generate\n",
      "do _generate\n",
      "do _generate\n"
     ]
    },
    {
     "name": "stderr",
     "output_type": "stream",
     "text": [
      "===> Using batch size 8000. Total 7 iterations/epoch.\n",
      "Iter 0406 | Time 31.7031(31.6127) | Bit/dim 1.9537(1.9862) | Steps 458(452.08) | Grad Norm 0.2467(0.2763) | Total Time 10.00(10.00)\n",
      "Iter 0407 | Time 31.4701(31.6084) | Bit/dim 1.9556(1.9852) | Steps 458(452.26) | Grad Norm 0.2324(0.2749) | Total Time 10.00(10.00)\n",
      "Iter 0408 | Time 31.4946(31.6050) | Bit/dim 1.9568(1.9844) | Steps 458(452.43) | Grad Norm 0.2339(0.2737) | Total Time 10.00(10.00)\n",
      "Iter 0409 | Time 32.9424(31.6451) | Bit/dim 1.9559(1.9835) | Steps 458(452.60) | Grad Norm 0.2339(0.2725) | Total Time 10.00(10.00)\n",
      "Iter 0410 | Time 32.0397(31.6570) | Bit/dim 1.9550(1.9827) | Steps 458(452.76) | Grad Norm 0.2325(0.2713) | Total Time 10.00(10.00)\n",
      "Iter 0411 | Time 33.8260(31.7220) | Bit/dim 1.9493(1.9817) | Steps 458(452.92) | Grad Norm 0.2359(0.2703) | Total Time 10.00(10.00)\n",
      "Iter 0412 | Time 31.9840(31.7299) | Bit/dim 1.9518(1.9808) | Steps 458(453.07) | Grad Norm 0.2200(0.2688) | Total Time 10.00(10.00)\n",
      "validating...\n",
      "Epoch 0059 | Time 9.9798, Epoch Time 247.5124, Bit/dim 1.9353\n"
     ]
    },
    {
     "name": "stdout",
     "output_type": "stream",
     "text": [
      "do _generate\n",
      "do _generate\n",
      "do _generate\n",
      "do _generate\n",
      "do _generate\n",
      "do _generate\n",
      "do _generate\n",
      "do _generate\n"
     ]
    },
    {
     "name": "stderr",
     "output_type": "stream",
     "text": [
      "===> Using batch size 8000. Total 7 iterations/epoch.\n",
      "Iter 0413 | Time 32.0835(31.7405) | Bit/dim 1.9490(1.9798) | Steps 458(453.22) | Grad Norm 0.2459(0.2681) | Total Time 10.00(10.00)\n",
      "Iter 0414 | Time 31.8146(31.7427) | Bit/dim 1.9507(1.9789) | Steps 458(453.36) | Grad Norm 0.2221(0.2667) | Total Time 10.00(10.00)\n",
      "Iter 0415 | Time 32.0134(31.7508) | Bit/dim 1.9478(1.9780) | Steps 458(453.50) | Grad Norm 0.2320(0.2656) | Total Time 10.00(10.00)\n",
      "Iter 0416 | Time 32.4008(31.7703) | Bit/dim 1.9505(1.9772) | Steps 458(453.64) | Grad Norm 0.2173(0.2642) | Total Time 10.00(10.00)\n",
      "Iter 0417 | Time 32.9021(31.8043) | Bit/dim 1.9467(1.9763) | Steps 458(453.77) | Grad Norm 0.2197(0.2629) | Total Time 10.00(10.00)\n",
      "Iter 0418 | Time 32.2662(31.8181) | Bit/dim 1.9422(1.9753) | Steps 458(453.89) | Grad Norm 0.2276(0.2618) | Total Time 10.00(10.00)\n",
      "Iter 0419 | Time 32.3277(31.8334) | Bit/dim 1.9467(1.9744) | Steps 458(454.02) | Grad Norm 0.2163(0.2604) | Total Time 10.00(10.00)\n",
      "validating...\n",
      "Epoch 0060 | Time 9.8194, Epoch Time 247.5632, Bit/dim 1.9308\n"
     ]
    },
    {
     "name": "stdout",
     "output_type": "stream",
     "text": [
      "do _generate\n",
      "do _generate\n",
      "do _generate\n",
      "do _generate\n",
      "do _generate\n",
      "do _generate\n",
      "do _generate\n",
      "do _generate\n"
     ]
    },
    {
     "name": "stderr",
     "output_type": "stream",
     "text": [
      "===> Using batch size 8000. Total 7 iterations/epoch.\n",
      "Iter 0420 | Time 32.1068(31.8416) | Bit/dim 1.9461(1.9735) | Steps 458(454.14) | Grad Norm 0.2275(0.2594) | Total Time 10.00(10.00)\n",
      "Iter 0421 | Time 32.3048(31.8555) | Bit/dim 1.9429(1.9726) | Steps 458(454.25) | Grad Norm 0.2202(0.2583) | Total Time 10.00(10.00)\n",
      "Iter 0422 | Time 32.7959(31.8837) | Bit/dim 1.9422(1.9717) | Steps 458(454.37) | Grad Norm 0.2215(0.2572) | Total Time 10.00(10.00)\n",
      "Iter 0423 | Time 32.5726(31.9044) | Bit/dim 1.9455(1.9709) | Steps 464(454.65) | Grad Norm 0.2107(0.2558) | Total Time 10.00(10.00)\n",
      "Iter 0424 | Time 32.8869(31.9339) | Bit/dim 1.9430(1.9701) | Steps 464(454.93) | Grad Norm 0.2161(0.2546) | Total Time 10.00(10.00)\n",
      "Iter 0425 | Time 32.8352(31.9609) | Bit/dim 1.9440(1.9693) | Steps 464(455.21) | Grad Norm 0.2154(0.2534) | Total Time 10.00(10.00)\n",
      "Iter 0426 | Time 32.7117(31.9834) | Bit/dim 1.9372(1.9683) | Steps 464(455.47) | Grad Norm 0.2152(0.2523) | Total Time 10.00(10.00)\n",
      "validating...\n",
      "Epoch 0061 | Time 10.2117, Epoch Time 250.6393, Bit/dim 1.9238\n"
     ]
    },
    {
     "name": "stdout",
     "output_type": "stream",
     "text": [
      "do _generate\n",
      "do _generate\n",
      "do _generate\n",
      "do _generate\n",
      "do _generate\n",
      "do _generate\n",
      "do _generate\n",
      "do _generate\n"
     ]
    },
    {
     "name": "stderr",
     "output_type": "stream",
     "text": [
      "===> Using batch size 8000. Total 7 iterations/epoch.\n",
      "Iter 0427 | Time 32.0994(31.9869) | Bit/dim 1.9413(1.9675) | Steps 464(455.73) | Grad Norm 0.2137(0.2511) | Total Time 10.00(10.00)\n",
      "Iter 0428 | Time 33.3096(32.0266) | Bit/dim 1.9382(1.9667) | Steps 464(455.97) | Grad Norm 0.2224(0.2502) | Total Time 10.00(10.00)\n",
      "Iter 0429 | Time 33.1111(32.0591) | Bit/dim 1.9424(1.9659) | Steps 464(456.22) | Grad Norm 0.2118(0.2491) | Total Time 10.00(10.00)\n",
      "Iter 0430 | Time 33.2365(32.0945) | Bit/dim 1.9341(1.9650) | Steps 464(456.45) | Grad Norm 0.2263(0.2484) | Total Time 10.00(10.00)\n",
      "Iter 0431 | Time 32.8410(32.1169) | Bit/dim 1.9407(1.9642) | Steps 464(456.68) | Grad Norm 0.2081(0.2472) | Total Time 10.00(10.00)\n",
      "Iter 0432 | Time 33.9143(32.1708) | Bit/dim 1.9329(1.9633) | Steps 464(456.90) | Grad Norm 0.2316(0.2467) | Total Time 10.00(10.00)\n",
      "Iter 0433 | Time 32.4851(32.1802) | Bit/dim 1.9370(1.9625) | Steps 464(457.11) | Grad Norm 0.2089(0.2456) | Total Time 10.00(10.00)\n",
      "validating...\n",
      "Epoch 0062 | Time 10.1300, Epoch Time 253.1922, Bit/dim 1.9196\n"
     ]
    },
    {
     "name": "stdout",
     "output_type": "stream",
     "text": [
      "do _generate\n",
      "do _generate\n",
      "do _generate\n",
      "do _generate\n",
      "do _generate\n",
      "do _generate\n",
      "do _generate\n",
      "do _generate\n"
     ]
    },
    {
     "name": "stderr",
     "output_type": "stream",
     "text": [
      "===> Using batch size 8000. Total 7 iterations/epoch.\n",
      "Iter 0434 | Time 32.2779(32.1831) | Bit/dim 1.9281(1.9615) | Steps 464(457.32) | Grad Norm 0.2115(0.2446) | Total Time 10.00(10.00)\n",
      "Iter 0435 | Time 33.1768(32.2129) | Bit/dim 1.9357(1.9607) | Steps 464(457.52) | Grad Norm 0.2084(0.2435) | Total Time 10.00(10.00)\n",
      "Iter 0436 | Time 32.6347(32.2256) | Bit/dim 1.9328(1.9599) | Steps 464(457.71) | Grad Norm 0.2123(0.2426) | Total Time 10.00(10.00)\n",
      "Iter 0437 | Time 32.4122(32.2312) | Bit/dim 1.9356(1.9591) | Steps 464(457.90) | Grad Norm 0.2251(0.2420) | Total Time 10.00(10.00)\n",
      "Iter 0438 | Time 32.6832(32.2448) | Bit/dim 1.9360(1.9584) | Steps 464(458.08) | Grad Norm 0.2076(0.2410) | Total Time 10.00(10.00)\n",
      "Iter 0439 | Time 32.5814(32.2549) | Bit/dim 1.9334(1.9577) | Steps 464(458.26) | Grad Norm 0.2475(0.2412) | Total Time 10.00(10.00)\n",
      "Iter 0440 | Time 32.8417(32.2725) | Bit/dim 1.9285(1.9568) | Steps 464(458.43) | Grad Norm 0.2162(0.2404) | Total Time 10.00(10.00)\n",
      "validating...\n",
      "Epoch 0063 | Time 9.9962, Epoch Time 250.8841, Bit/dim 1.9143\n"
     ]
    },
    {
     "name": "stdout",
     "output_type": "stream",
     "text": [
      "do _generate\n",
      "do _generate\n",
      "do _generate\n",
      "do _generate\n",
      "do _generate\n",
      "do _generate\n",
      "do _generate\n",
      "do _generate\n"
     ]
    },
    {
     "name": "stderr",
     "output_type": "stream",
     "text": [
      "===> Using batch size 8000. Total 7 iterations/epoch.\n",
      "Iter 0441 | Time 32.4779(32.2786) | Bit/dim 1.9306(1.9560) | Steps 464(458.60) | Grad Norm 0.2281(0.2401) | Total Time 10.00(10.00)\n",
      "Iter 0442 | Time 33.0979(32.3032) | Bit/dim 1.9230(1.9550) | Steps 464(458.76) | Grad Norm 0.2047(0.2390) | Total Time 10.00(10.00)\n",
      "Iter 0443 | Time 31.8210(32.2887) | Bit/dim 1.9263(1.9542) | Steps 464(458.92) | Grad Norm 0.2322(0.2388) | Total Time 10.00(10.00)\n",
      "Iter 0444 | Time 33.4726(32.3243) | Bit/dim 1.9349(1.9536) | Steps 458(458.89) | Grad Norm 0.2115(0.2380) | Total Time 10.00(10.00)\n",
      "Iter 0445 | Time 32.4096(32.3268) | Bit/dim 1.9314(1.9529) | Steps 458(458.86) | Grad Norm 0.2361(0.2379) | Total Time 10.00(10.00)\n",
      "Iter 0446 | Time 32.4241(32.3297) | Bit/dim 1.9280(1.9522) | Steps 458(458.84) | Grad Norm 0.2099(0.2371) | Total Time 10.00(10.00)\n",
      "Iter 0447 | Time 32.4895(32.3345) | Bit/dim 1.9214(1.9513) | Steps 458(458.81) | Grad Norm 0.2438(0.2373) | Total Time 10.00(10.00)\n",
      "validating...\n",
      "Epoch 0064 | Time 10.0936, Epoch Time 250.5048, Bit/dim 1.9094\n"
     ]
    },
    {
     "name": "stdout",
     "output_type": "stream",
     "text": [
      "do _generate\n",
      "do _generate\n",
      "do _generate\n",
      "do _generate\n",
      "do _generate\n",
      "do _generate\n",
      "do _generate\n",
      "do _generate\n"
     ]
    },
    {
     "name": "stderr",
     "output_type": "stream",
     "text": [
      "===> Using batch size 8000. Total 7 iterations/epoch.\n",
      "Iter 0448 | Time 31.7609(32.3173) | Bit/dim 1.9280(1.9506) | Steps 458(458.79) | Grad Norm 0.2102(0.2365) | Total Time 10.00(10.00)\n",
      "Iter 0449 | Time 31.9747(32.3070) | Bit/dim 1.9242(1.9498) | Steps 458(458.76) | Grad Norm 0.2284(0.2362) | Total Time 10.00(10.00)\n",
      "Iter 0450 | Time 31.8413(32.2931) | Bit/dim 1.9192(1.9489) | Steps 458(458.74) | Grad Norm 0.2271(0.2360) | Total Time 10.00(10.00)\n",
      "Iter 0451 | Time 31.6972(32.2752) | Bit/dim 1.9241(1.9481) | Steps 458(458.72) | Grad Norm 0.2302(0.2358) | Total Time 10.00(10.00)\n",
      "Iter 0452 | Time 31.8464(32.2623) | Bit/dim 1.9247(1.9474) | Steps 458(458.70) | Grad Norm 0.2271(0.2355) | Total Time 10.00(10.00)\n",
      "Iter 0453 | Time 33.8038(32.3086) | Bit/dim 1.9255(1.9468) | Steps 458(458.68) | Grad Norm 0.2227(0.2351) | Total Time 10.00(10.00)\n",
      "Iter 0454 | Time 32.2874(32.3079) | Bit/dim 1.9177(1.9459) | Steps 458(458.66) | Grad Norm 0.2316(0.2350) | Total Time 10.00(10.00)\n",
      "validating...\n",
      "Epoch 0065 | Time 9.9724, Epoch Time 247.1778, Bit/dim 1.9048\n"
     ]
    },
    {
     "name": "stdout",
     "output_type": "stream",
     "text": [
      "do _generate\n",
      "do _generate\n",
      "do _generate\n",
      "do _generate\n",
      "do _generate\n",
      "do _generate\n",
      "do _generate\n",
      "do _generate\n"
     ]
    },
    {
     "name": "stderr",
     "output_type": "stream",
     "text": [
      "===> Using batch size 8000. Total 7 iterations/epoch.\n",
      "Iter 0455 | Time 32.2674(32.3067) | Bit/dim 1.9245(1.9452) | Steps 458(458.64) | Grad Norm 0.2329(0.2350) | Total Time 10.00(10.00)\n",
      "Iter 0456 | Time 33.5133(32.3429) | Bit/dim 1.9220(1.9446) | Steps 458(458.62) | Grad Norm 0.2134(0.2343) | Total Time 10.00(10.00)\n",
      "Iter 0457 | Time 31.8701(32.3287) | Bit/dim 1.9178(1.9437) | Steps 458(458.60) | Grad Norm 0.2085(0.2335) | Total Time 10.00(10.00)\n",
      "Iter 0458 | Time 32.4706(32.3330) | Bit/dim 1.9153(1.9429) | Steps 458(458.58) | Grad Norm 0.2082(0.2328) | Total Time 10.00(10.00)\n",
      "Iter 0459 | Time 31.8794(32.3194) | Bit/dim 1.9197(1.9422) | Steps 458(458.56) | Grad Norm 0.2110(0.2321) | Total Time 10.00(10.00)\n",
      "Iter 0460 | Time 32.1510(32.3143) | Bit/dim 1.9204(1.9415) | Steps 458(458.55) | Grad Norm 0.2096(0.2315) | Total Time 10.00(10.00)\n",
      "Iter 0461 | Time 32.0755(32.3072) | Bit/dim 1.9151(1.9407) | Steps 458(458.53) | Grad Norm 0.2018(0.2306) | Total Time 10.00(10.00)\n",
      "validating...\n",
      "Epoch 0066 | Time 9.9039, Epoch Time 248.2145, Bit/dim 1.9002\n"
     ]
    },
    {
     "name": "stdout",
     "output_type": "stream",
     "text": [
      "do _generate\n",
      "do _generate\n",
      "do _generate\n",
      "do _generate\n",
      "do _generate\n",
      "do _generate\n",
      "do _generate\n",
      "do _generate\n"
     ]
    },
    {
     "name": "stderr",
     "output_type": "stream",
     "text": [
      "===> Using batch size 8000. Total 7 iterations/epoch.\n",
      "Iter 0462 | Time 31.8053(32.2921) | Bit/dim 1.9108(1.9398) | Steps 458(458.51) | Grad Norm 0.1969(0.2296) | Total Time 10.00(10.00)\n",
      "Iter 0463 | Time 31.9616(32.2822) | Bit/dim 1.9187(1.9392) | Steps 458(458.50) | Grad Norm 0.2035(0.2288) | Total Time 10.00(10.00)\n",
      "Iter 0464 | Time 31.4046(32.2559) | Bit/dim 1.9142(1.9385) | Steps 458(458.48) | Grad Norm 0.1950(0.2278) | Total Time 10.00(10.00)\n",
      "Iter 0465 | Time 32.3594(32.2590) | Bit/dim 1.9142(1.9377) | Steps 458(458.47) | Grad Norm 0.1975(0.2269) | Total Time 10.00(10.00)\n",
      "Iter 0466 | Time 32.6150(32.2697) | Bit/dim 1.9199(1.9372) | Steps 458(458.46) | Grad Norm 0.2099(0.2263) | Total Time 10.00(10.00)\n",
      "Iter 0467 | Time 32.4923(32.2763) | Bit/dim 1.9078(1.9363) | Steps 458(458.44) | Grad Norm 0.1921(0.2253) | Total Time 10.00(10.00)\n",
      "Iter 0468 | Time 31.9260(32.2658) | Bit/dim 1.9123(1.9356) | Steps 458(458.43) | Grad Norm 0.1952(0.2244) | Total Time 10.00(10.00)\n",
      "validating...\n",
      "Epoch 0067 | Time 9.7785, Epoch Time 246.3453, Bit/dim 1.8952\n"
     ]
    },
    {
     "name": "stdout",
     "output_type": "stream",
     "text": [
      "do _generate\n",
      "do _generate\n",
      "do _generate\n",
      "do _generate\n",
      "do _generate\n",
      "do _generate\n",
      "do _generate\n",
      "do _generate\n"
     ]
    },
    {
     "name": "stderr",
     "output_type": "stream",
     "text": [
      "===> Using batch size 8000. Total 7 iterations/epoch.\n",
      "Iter 0469 | Time 31.6159(32.2463) | Bit/dim 1.9170(1.9350) | Steps 458(458.42) | Grad Norm 0.2087(0.2239) | Total Time 10.00(10.00)\n",
      "Iter 0470 | Time 31.8606(32.2348) | Bit/dim 1.9100(1.9343) | Steps 458(458.40) | Grad Norm 0.1951(0.2231) | Total Time 10.00(10.00)\n",
      "Iter 0471 | Time 31.9842(32.2272) | Bit/dim 1.9090(1.9335) | Steps 458(458.39) | Grad Norm 0.1954(0.2223) | Total Time 10.00(10.00)\n",
      "Iter 0472 | Time 31.8319(32.2154) | Bit/dim 1.9051(1.9327) | Steps 458(458.38) | Grad Norm 0.2076(0.2218) | Total Time 10.00(10.00)\n",
      "Iter 0473 | Time 31.5497(32.1954) | Bit/dim 1.9100(1.9320) | Steps 458(458.37) | Grad Norm 0.2013(0.2212) | Total Time 10.00(10.00)\n",
      "Iter 0474 | Time 32.3548(32.2002) | Bit/dim 1.9078(1.9313) | Steps 458(458.36) | Grad Norm 0.2214(0.2212) | Total Time 10.00(10.00)\n",
      "Iter 0475 | Time 32.4374(32.2073) | Bit/dim 1.9087(1.9306) | Steps 458(458.35) | Grad Norm 0.2038(0.2207) | Total Time 10.00(10.00)\n",
      "validating...\n",
      "Epoch 0068 | Time 9.7836, Epoch Time 245.6284, Bit/dim 1.8923\n"
     ]
    },
    {
     "name": "stdout",
     "output_type": "stream",
     "text": [
      "do _generate\n",
      "do _generate\n",
      "do _generate\n",
      "do _generate\n",
      "do _generate\n",
      "do _generate\n",
      "do _generate\n",
      "do _generate\n"
     ]
    },
    {
     "name": "stderr",
     "output_type": "stream",
     "text": [
      "===> Using batch size 8000. Total 7 iterations/epoch.\n",
      "Iter 0476 | Time 32.4009(32.2131) | Bit/dim 1.9061(1.9299) | Steps 458(458.34) | Grad Norm 0.2259(0.2208) | Total Time 10.00(10.00)\n",
      "Iter 0477 | Time 31.9016(32.2038) | Bit/dim 1.9066(1.9292) | Steps 458(458.33) | Grad Norm 0.1998(0.2202) | Total Time 10.00(10.00)\n",
      "Iter 0478 | Time 31.7806(32.1911) | Bit/dim 1.9015(1.9283) | Steps 458(458.32) | Grad Norm 0.2128(0.2200) | Total Time 10.00(10.00)\n",
      "Iter 0479 | Time 32.5894(32.2030) | Bit/dim 1.9083(1.9277) | Steps 458(458.31) | Grad Norm 0.1992(0.2194) | Total Time 10.00(10.00)\n",
      "Iter 0480 | Time 32.2371(32.2040) | Bit/dim 1.9029(1.9270) | Steps 458(458.30) | Grad Norm 0.2106(0.2191) | Total Time 10.00(10.00)\n",
      "Iter 0481 | Time 32.3291(32.2078) | Bit/dim 1.9074(1.9264) | Steps 458(458.29) | Grad Norm 0.1986(0.2185) | Total Time 10.00(10.00)\n",
      "Iter 0482 | Time 32.5396(32.2177) | Bit/dim 1.9037(1.9257) | Steps 458(458.28) | Grad Norm 0.2036(0.2180) | Total Time 10.00(10.00)\n",
      "validating...\n",
      "Epoch 0069 | Time 9.8972, Epoch Time 247.6823, Bit/dim 1.8874\n"
     ]
    },
    {
     "name": "stdout",
     "output_type": "stream",
     "text": [
      "do _generate\n",
      "do _generate\n",
      "do _generate\n",
      "do _generate\n",
      "do _generate\n",
      "do _generate\n",
      "do _generate\n",
      "do _generate\n"
     ]
    },
    {
     "name": "stderr",
     "output_type": "stream",
     "text": [
      "===> Using batch size 8000. Total 7 iterations/epoch.\n",
      "Iter 0483 | Time 32.7776(32.2345) | Bit/dim 1.9030(1.9250) | Steps 458(458.27) | Grad Norm 0.2014(0.2175) | Total Time 10.00(10.00)\n",
      "Iter 0484 | Time 33.1622(32.2624) | Bit/dim 1.9049(1.9244) | Steps 458(458.26) | Grad Norm 0.1947(0.2169) | Total Time 10.00(10.00)\n",
      "Iter 0485 | Time 33.3036(32.2936) | Bit/dim 1.9022(1.9238) | Steps 458(458.26) | Grad Norm 0.1984(0.2163) | Total Time 10.00(10.00)\n",
      "Iter 0486 | Time 32.0420(32.2861) | Bit/dim 1.8983(1.9230) | Steps 458(458.25) | Grad Norm 0.2082(0.2161) | Total Time 10.00(10.00)\n",
      "Iter 0487 | Time 32.0780(32.2798) | Bit/dim 1.8925(1.9221) | Steps 458(458.24) | Grad Norm 0.1964(0.2155) | Total Time 10.00(10.00)\n",
      "Iter 0488 | Time 33.6876(32.3221) | Bit/dim 1.9067(1.9216) | Steps 458(458.23) | Grad Norm 0.2209(0.2156) | Total Time 10.00(10.00)\n",
      "Iter 0489 | Time 31.4516(32.2959) | Bit/dim 1.8933(1.9208) | Steps 458(458.23) | Grad Norm 0.2004(0.2152) | Total Time 10.00(10.00)\n",
      "validating...\n",
      "Epoch 0070 | Time 9.9425, Epoch Time 250.7214, Bit/dim 1.8816\n"
     ]
    },
    {
     "name": "stdout",
     "output_type": "stream",
     "text": [
      "do _generate\n",
      "do _generate\n",
      "do _generate\n",
      "do _generate\n",
      "do _generate\n",
      "do _generate\n",
      "do _generate\n",
      "do _generate\n"
     ]
    },
    {
     "name": "stderr",
     "output_type": "stream",
     "text": [
      "===> Using batch size 8000. Total 7 iterations/epoch.\n",
      "Iter 0490 | Time 32.1344(32.2911) | Bit/dim 1.8988(1.9201) | Steps 458(458.22) | Grad Norm 0.1896(0.2144) | Total Time 10.00(10.00)\n",
      "Iter 0491 | Time 31.7719(32.2755) | Bit/dim 1.8950(1.9194) | Steps 458(458.21) | Grad Norm 0.2003(0.2140) | Total Time 10.00(10.00)\n",
      "Iter 0492 | Time 33.4088(32.3095) | Bit/dim 1.8929(1.9186) | Steps 458(458.21) | Grad Norm 0.1988(0.2135) | Total Time 10.00(10.00)\n",
      "Iter 0493 | Time 32.1502(32.3047) | Bit/dim 1.8965(1.9179) | Steps 458(458.20) | Grad Norm 0.2033(0.2132) | Total Time 10.00(10.00)\n",
      "Iter 0494 | Time 32.5491(32.3121) | Bit/dim 1.8916(1.9171) | Steps 458(458.19) | Grad Norm 0.2213(0.2135) | Total Time 10.00(10.00)\n",
      "Iter 0495 | Time 32.3698(32.3138) | Bit/dim 1.8991(1.9166) | Steps 458(458.19) | Grad Norm 0.1950(0.2129) | Total Time 10.00(10.00)\n",
      "Iter 0496 | Time 32.9857(32.3340) | Bit/dim 1.8930(1.9159) | Steps 458(458.18) | Grad Norm 0.2067(0.2127) | Total Time 10.00(10.00)\n",
      "validating...\n",
      "Epoch 0071 | Time 9.8877, Epoch Time 249.4918, Bit/dim 1.8780\n"
     ]
    },
    {
     "name": "stdout",
     "output_type": "stream",
     "text": [
      "do _generate\n",
      "do _generate\n",
      "do _generate\n",
      "do _generate\n",
      "do _generate\n",
      "do _generate\n",
      "do _generate\n",
      "do _generate\n"
     ]
    },
    {
     "name": "stderr",
     "output_type": "stream",
     "text": [
      "===> Using batch size 8000. Total 7 iterations/epoch.\n",
      "Iter 0497 | Time 32.0988(32.3269) | Bit/dim 1.8935(1.9152) | Steps 458(458.18) | Grad Norm 0.1996(0.2123) | Total Time 10.00(10.00)\n",
      "Iter 0498 | Time 32.4035(32.3292) | Bit/dim 1.8991(1.9147) | Steps 458(458.17) | Grad Norm 0.2026(0.2120) | Total Time 10.00(10.00)\n",
      "Iter 0499 | Time 32.9321(32.3473) | Bit/dim 1.8938(1.9141) | Steps 458(458.17) | Grad Norm 0.1962(0.2116) | Total Time 10.00(10.00)\n",
      "Iter 0500 | Time 32.2672(32.3449) | Bit/dim 1.8913(1.9134) | Steps 458(458.16) | Grad Norm 0.2005(0.2112) | Total Time 10.00(10.00)\n",
      "Iter 0501 | Time 32.4186(32.3471) | Bit/dim 1.8882(1.9126) | Steps 458(458.16) | Grad Norm 0.2116(0.2112) | Total Time 10.00(10.00)\n",
      "Iter 0502 | Time 32.7208(32.3583) | Bit/dim 1.8835(1.9118) | Steps 458(458.15) | Grad Norm 0.2014(0.2109) | Total Time 10.00(10.00)\n",
      "Iter 0503 | Time 31.6506(32.3371) | Bit/dim 1.8866(1.9110) | Steps 458(458.15) | Grad Norm 0.2015(0.2107) | Total Time 10.00(10.00)\n",
      "validating...\n",
      "Epoch 0072 | Time 9.8590, Epoch Time 248.4106, Bit/dim 1.8730\n"
     ]
    },
    {
     "name": "stdout",
     "output_type": "stream",
     "text": [
      "do _generate\n",
      "do _generate\n",
      "do _generate\n",
      "do _generate\n",
      "do _generate\n",
      "do _generate\n",
      "do _generate\n",
      "do _generate\n"
     ]
    },
    {
     "name": "stderr",
     "output_type": "stream",
     "text": [
      "===> Using batch size 8000. Total 7 iterations/epoch.\n",
      "Iter 0504 | Time 32.3601(32.3378) | Bit/dim 1.8885(1.9103) | Steps 458(458.14) | Grad Norm 0.1917(0.2101) | Total Time 10.00(10.00)\n",
      "Iter 0505 | Time 33.1520(32.3622) | Bit/dim 1.8871(1.9096) | Steps 458(458.14) | Grad Norm 0.2031(0.2099) | Total Time 10.00(10.00)\n",
      "Iter 0506 | Time 31.6982(32.3423) | Bit/dim 1.8902(1.9091) | Steps 458(458.13) | Grad Norm 0.1968(0.2095) | Total Time 10.00(10.00)\n",
      "Iter 0507 | Time 31.7311(32.3239) | Bit/dim 1.8869(1.9084) | Steps 458(458.13) | Grad Norm 0.1972(0.2091) | Total Time 10.00(10.00)\n",
      "Iter 0508 | Time 32.6331(32.3332) | Bit/dim 1.8820(1.9076) | Steps 458(458.13) | Grad Norm 0.1962(0.2087) | Total Time 10.00(10.00)\n",
      "Iter 0509 | Time 31.8174(32.3177) | Bit/dim 1.8852(1.9069) | Steps 458(458.12) | Grad Norm 0.1918(0.2082) | Total Time 10.00(10.00)\n",
      "Iter 0510 | Time 32.0983(32.3112) | Bit/dim 1.8813(1.9062) | Steps 458(458.12) | Grad Norm 0.1955(0.2078) | Total Time 10.00(10.00)\n",
      "validating...\n",
      "Epoch 0073 | Time 9.9270, Epoch Time 247.6055, Bit/dim 1.8680\n"
     ]
    },
    {
     "name": "stdout",
     "output_type": "stream",
     "text": [
      "do _generate\n",
      "do _generate\n",
      "do _generate\n",
      "do _generate\n",
      "do _generate\n",
      "do _generate\n",
      "do _generate\n",
      "do _generate\n"
     ]
    },
    {
     "name": "stderr",
     "output_type": "stream",
     "text": [
      "===> Using batch size 8000. Total 7 iterations/epoch.\n",
      "Iter 0511 | Time 32.0642(32.3037) | Bit/dim 1.8819(1.9054) | Steps 458(458.12) | Grad Norm 0.1987(0.2076) | Total Time 10.00(10.00)\n",
      "Iter 0512 | Time 32.7998(32.3186) | Bit/dim 1.8855(1.9048) | Steps 458(458.11) | Grad Norm 0.2074(0.2076) | Total Time 10.00(10.00)\n",
      "Iter 0513 | Time 32.9702(32.3382) | Bit/dim 1.8829(1.9042) | Steps 458(458.11) | Grad Norm 0.2138(0.2078) | Total Time 10.00(10.00)\n",
      "Iter 0514 | Time 31.7546(32.3207) | Bit/dim 1.8820(1.9035) | Steps 458(458.11) | Grad Norm 0.1987(0.2075) | Total Time 10.00(10.00)\n",
      "Iter 0515 | Time 32.1160(32.3145) | Bit/dim 1.8792(1.9028) | Steps 458(458.10) | Grad Norm 0.1985(0.2072) | Total Time 10.00(10.00)\n",
      "Iter 0516 | Time 32.4201(32.3177) | Bit/dim 1.8752(1.9020) | Steps 458(458.10) | Grad Norm 0.1953(0.2069) | Total Time 10.00(10.00)\n",
      "Iter 0517 | Time 32.2169(32.3147) | Bit/dim 1.8808(1.9013) | Steps 458(458.10) | Grad Norm 0.2084(0.2069) | Total Time 10.00(10.00)\n",
      "validating...\n",
      "Epoch 0074 | Time 9.9508, Epoch Time 248.3458, Bit/dim 1.8631\n"
     ]
    },
    {
     "name": "stdout",
     "output_type": "stream",
     "text": [
      "do _generate\n",
      "do _generate\n",
      "do _generate\n",
      "do _generate\n",
      "do _generate\n",
      "do _generate\n",
      "do _generate\n",
      "do _generate\n"
     ]
    },
    {
     "name": "stderr",
     "output_type": "stream",
     "text": [
      "===> Using batch size 8000. Total 7 iterations/epoch.\n",
      "Iter 0518 | Time 32.0725(32.3074) | Bit/dim 1.8794(1.9007) | Steps 458(458.09) | Grad Norm 0.2179(0.2072) | Total Time 10.00(10.00)\n",
      "Iter 0519 | Time 31.9160(32.2957) | Bit/dim 1.8751(1.8999) | Steps 458(458.09) | Grad Norm 0.1965(0.2069) | Total Time 10.00(10.00)\n",
      "Iter 0520 | Time 31.8309(32.2817) | Bit/dim 1.8781(1.8992) | Steps 458(458.09) | Grad Norm 0.1986(0.2067) | Total Time 10.00(10.00)\n",
      "Iter 0521 | Time 32.3398(32.2835) | Bit/dim 1.8775(1.8986) | Steps 458(458.09) | Grad Norm 0.1998(0.2065) | Total Time 10.00(10.00)\n",
      "Iter 0522 | Time 33.2648(32.3129) | Bit/dim 1.8724(1.8978) | Steps 458(458.08) | Grad Norm 0.1962(0.2061) | Total Time 10.00(10.00)\n",
      "Iter 0523 | Time 31.9176(32.3010) | Bit/dim 1.8757(1.8971) | Steps 458(458.08) | Grad Norm 0.1997(0.2060) | Total Time 10.00(10.00)\n",
      "Iter 0524 | Time 32.6714(32.3122) | Bit/dim 1.8757(1.8965) | Steps 458(458.08) | Grad Norm 0.2225(0.2064) | Total Time 10.00(10.00)\n",
      "validating...\n",
      "Epoch 0075 | Time 9.7129, Epoch Time 247.9010, Bit/dim 1.8566\n"
     ]
    },
    {
     "name": "stdout",
     "output_type": "stream",
     "text": [
      "do _generate\n",
      "do _generate\n",
      "do _generate\n",
      "do _generate\n",
      "do _generate\n",
      "do _generate\n",
      "do _generate\n",
      "do _generate\n"
     ]
    },
    {
     "name": "stderr",
     "output_type": "stream",
     "text": [
      "===> Using batch size 8000. Total 7 iterations/epoch.\n",
      "Iter 0525 | Time 33.5270(32.3486) | Bit/dim 1.8749(1.8959) | Steps 458(458.08) | Grad Norm 0.2144(0.2067) | Total Time 10.00(10.00)\n",
      "Iter 0526 | Time 32.0779(32.3405) | Bit/dim 1.8708(1.8951) | Steps 458(458.07) | Grad Norm 0.2035(0.2066) | Total Time 10.00(10.00)\n",
      "Iter 0527 | Time 32.2305(32.3372) | Bit/dim 1.8690(1.8943) | Steps 458(458.07) | Grad Norm 0.1976(0.2063) | Total Time 10.00(10.00)\n",
      "Iter 0528 | Time 32.1551(32.3317) | Bit/dim 1.8651(1.8934) | Steps 458(458.07) | Grad Norm 0.2035(0.2062) | Total Time 10.00(10.00)\n",
      "Iter 0529 | Time 31.8023(32.3158) | Bit/dim 1.8682(1.8927) | Steps 458(458.07) | Grad Norm 0.2287(0.2069) | Total Time 10.00(10.00)\n",
      "Iter 0530 | Time 32.0796(32.3088) | Bit/dim 1.8733(1.8921) | Steps 458(458.06) | Grad Norm 0.2404(0.2079) | Total Time 10.00(10.00)\n",
      "Iter 0531 | Time 31.8043(32.2936) | Bit/dim 1.8736(1.8915) | Steps 458(458.06) | Grad Norm 0.2069(0.2079) | Total Time 10.00(10.00)\n",
      "validating...\n",
      "Epoch 0076 | Time 9.9072, Epoch Time 247.6951, Bit/dim 1.8507\n"
     ]
    },
    {
     "name": "stdout",
     "output_type": "stream",
     "text": [
      "do _generate\n",
      "do _generate\n",
      "do _generate\n",
      "do _generate\n",
      "do _generate\n",
      "do _generate\n",
      "do _generate\n",
      "do _generate\n"
     ]
    },
    {
     "name": "stderr",
     "output_type": "stream",
     "text": [
      "===> Using batch size 8000. Total 7 iterations/epoch.\n",
      "Iter 0532 | Time 32.6807(32.3052) | Bit/dim 1.8660(1.8908) | Steps 458(458.06) | Grad Norm 0.2203(0.2083) | Total Time 10.00(10.00)\n",
      "Iter 0533 | Time 33.4491(32.3395) | Bit/dim 1.8639(1.8900) | Steps 458(458.06) | Grad Norm 0.2244(0.2087) | Total Time 10.00(10.00)\n",
      "Iter 0534 | Time 32.0455(32.3307) | Bit/dim 1.8627(1.8892) | Steps 458(458.06) | Grad Norm 0.2197(0.2091) | Total Time 10.00(10.00)\n",
      "Iter 0535 | Time 32.6039(32.3389) | Bit/dim 1.8687(1.8885) | Steps 458(458.06) | Grad Norm 0.2404(0.2100) | Total Time 10.00(10.00)\n",
      "Iter 0536 | Time 32.8735(32.3550) | Bit/dim 1.8644(1.8878) | Steps 458(458.05) | Grad Norm 0.2274(0.2105) | Total Time 10.00(10.00)\n",
      "Iter 0537 | Time 32.4979(32.3592) | Bit/dim 1.8632(1.8871) | Steps 464(458.23) | Grad Norm 0.2134(0.2106) | Total Time 10.00(10.00)\n",
      "Iter 0538 | Time 32.0327(32.3495) | Bit/dim 1.8656(1.8864) | Steps 464(458.41) | Grad Norm 0.2201(0.2109) | Total Time 10.00(10.00)\n",
      "validating...\n",
      "Epoch 0077 | Time 10.0242, Epoch Time 250.3384, Bit/dim 1.8453\n"
     ]
    },
    {
     "name": "stdout",
     "output_type": "stream",
     "text": [
      "do _generate\n",
      "do _generate\n",
      "do _generate\n",
      "do _generate\n",
      "do _generate\n",
      "do _generate\n",
      "do _generate\n",
      "do _generate\n"
     ]
    },
    {
     "name": "stderr",
     "output_type": "stream",
     "text": [
      "===> Using batch size 8000. Total 7 iterations/epoch.\n",
      "Iter 0539 | Time 33.9335(32.3970) | Bit/dim 1.8619(1.8857) | Steps 470(458.75) | Grad Norm 0.2203(0.2112) | Total Time 10.00(10.00)\n",
      "Iter 0540 | Time 33.6225(32.4337) | Bit/dim 1.8615(1.8850) | Steps 470(459.09) | Grad Norm 0.2183(0.2114) | Total Time 10.00(10.00)\n",
      "Iter 0541 | Time 34.0954(32.4836) | Bit/dim 1.8588(1.8842) | Steps 470(459.42) | Grad Norm 0.2416(0.2123) | Total Time 10.00(10.00)\n",
      "Iter 0542 | Time 33.5235(32.5148) | Bit/dim 1.8572(1.8834) | Steps 470(459.74) | Grad Norm 0.2352(0.2130) | Total Time 10.00(10.00)\n",
      "Iter 0543 | Time 33.8305(32.5543) | Bit/dim 1.8542(1.8825) | Steps 470(460.04) | Grad Norm 0.2161(0.2131) | Total Time 10.00(10.00)\n",
      "Iter 0544 | Time 33.4885(32.5823) | Bit/dim 1.8588(1.8818) | Steps 470(460.34) | Grad Norm 0.2287(0.2136) | Total Time 10.00(10.00)\n",
      "Iter 0545 | Time 34.7755(32.6481) | Bit/dim 1.8551(1.8810) | Steps 470(460.63) | Grad Norm 0.2184(0.2137) | Total Time 10.00(10.00)\n",
      "validating...\n",
      "Epoch 0078 | Time 10.1061, Epoch Time 259.4799, Bit/dim 1.8389\n"
     ]
    },
    {
     "name": "stdout",
     "output_type": "stream",
     "text": [
      "do _generate\n",
      "do _generate\n",
      "do _generate\n",
      "do _generate\n",
      "do _generate\n",
      "do _generate\n",
      "do _generate\n",
      "do _generate\n"
     ]
    },
    {
     "name": "stderr",
     "output_type": "stream",
     "text": [
      "===> Using batch size 8000. Total 7 iterations/epoch.\n",
      "Iter 0546 | Time 33.2394(32.6658) | Bit/dim 1.8485(1.8800) | Steps 470(460.91) | Grad Norm 0.2208(0.2139) | Total Time 10.00(10.00)\n",
      "Iter 0547 | Time 33.4377(32.6890) | Bit/dim 1.8560(1.8793) | Steps 470(461.19) | Grad Norm 0.2333(0.2145) | Total Time 10.00(10.00)\n",
      "Iter 0548 | Time 34.0443(32.7296) | Bit/dim 1.8558(1.8786) | Steps 470(461.45) | Grad Norm 0.2290(0.2149) | Total Time 10.00(10.00)\n",
      "Iter 0549 | Time 33.7636(32.7607) | Bit/dim 1.8567(1.8779) | Steps 470(461.71) | Grad Norm 0.2249(0.2152) | Total Time 10.00(10.00)\n",
      "Iter 0550 | Time 33.6849(32.7884) | Bit/dim 1.8503(1.8771) | Steps 470(461.96) | Grad Norm 0.2262(0.2156) | Total Time 10.00(10.00)\n",
      "Iter 0551 | Time 33.8221(32.8194) | Bit/dim 1.8455(1.8762) | Steps 470(462.20) | Grad Norm 0.2379(0.2162) | Total Time 10.00(10.00)\n",
      "Iter 0552 | Time 34.0055(32.8550) | Bit/dim 1.8439(1.8752) | Steps 470(462.43) | Grad Norm 0.2384(0.2169) | Total Time 10.00(10.00)\n",
      "validating...\n",
      "Epoch 0079 | Time 10.2602, Epoch Time 258.4271, Bit/dim 1.8301\n"
     ]
    },
    {
     "name": "stdout",
     "output_type": "stream",
     "text": [
      "do _generate\n",
      "do _generate\n",
      "do _generate\n",
      "do _generate\n",
      "do _generate\n",
      "do _generate\n",
      "do _generate\n",
      "do _generate\n"
     ]
    },
    {
     "name": "stderr",
     "output_type": "stream",
     "text": [
      "===> Using batch size 8000. Total 7 iterations/epoch.\n",
      "Iter 0553 | Time 33.7274(32.8812) | Bit/dim 1.8486(1.8744) | Steps 470(462.66) | Grad Norm 0.2338(0.2174) | Total Time 10.00(10.00)\n",
      "Iter 0554 | Time 33.3596(32.8955) | Bit/dim 1.8469(1.8736) | Steps 470(462.88) | Grad Norm 0.2329(0.2179) | Total Time 10.00(10.00)\n",
      "Iter 0555 | Time 33.4778(32.9130) | Bit/dim 1.8423(1.8726) | Steps 470(463.09) | Grad Norm 0.2305(0.2182) | Total Time 10.00(10.00)\n",
      "Iter 0556 | Time 33.0225(32.9163) | Bit/dim 1.8435(1.8718) | Steps 470(463.30) | Grad Norm 0.2516(0.2192) | Total Time 10.00(10.00)\n",
      "Iter 0557 | Time 33.8489(32.9442) | Bit/dim 1.8423(1.8709) | Steps 470(463.50) | Grad Norm 0.2408(0.2199) | Total Time 10.00(10.00)\n",
      "Iter 0558 | Time 33.4625(32.9598) | Bit/dim 1.8411(1.8700) | Steps 470(463.69) | Grad Norm 0.2631(0.2212) | Total Time 10.00(10.00)\n",
      "Iter 0559 | Time 34.0108(32.9913) | Bit/dim 1.8389(1.8690) | Steps 470(463.88) | Grad Norm 0.2519(0.2221) | Total Time 10.00(10.00)\n",
      "validating...\n",
      "Epoch 0080 | Time 10.1128, Epoch Time 257.0221, Bit/dim 1.8212\n"
     ]
    },
    {
     "name": "stdout",
     "output_type": "stream",
     "text": [
      "do _generate\n",
      "do _generate\n",
      "do _generate\n",
      "do _generate\n",
      "do _generate\n",
      "do _generate\n",
      "do _generate\n",
      "do _generate\n"
     ]
    },
    {
     "name": "stderr",
     "output_type": "stream",
     "text": [
      "===> Using batch size 8000. Total 7 iterations/epoch.\n",
      "Iter 0560 | Time 32.7881(32.9852) | Bit/dim 1.8340(1.8680) | Steps 470(464.07) | Grad Norm 0.2427(0.2227) | Total Time 10.00(10.00)\n",
      "Iter 0561 | Time 33.2781(32.9940) | Bit/dim 1.8319(1.8669) | Steps 470(464.25) | Grad Norm 0.2583(0.2238) | Total Time 10.00(10.00)\n",
      "Iter 0562 | Time 32.6182(32.9827) | Bit/dim 1.8343(1.8659) | Steps 470(464.42) | Grad Norm 0.2747(0.2253) | Total Time 10.00(10.00)\n",
      "Iter 0563 | Time 32.9289(32.9811) | Bit/dim 1.8381(1.8651) | Steps 470(464.59) | Grad Norm 0.2657(0.2265) | Total Time 10.00(10.00)\n",
      "Iter 0564 | Time 33.1378(32.9858) | Bit/dim 1.8335(1.8641) | Steps 470(464.75) | Grad Norm 0.2575(0.2275) | Total Time 10.00(10.00)\n",
      "Iter 0565 | Time 33.0018(32.9863) | Bit/dim 1.8351(1.8633) | Steps 470(464.91) | Grad Norm 0.2677(0.2287) | Total Time 10.00(10.00)\n",
      "Iter 0566 | Time 33.8305(33.0116) | Bit/dim 1.8290(1.8623) | Steps 470(465.06) | Grad Norm 0.2514(0.2294) | Total Time 10.00(10.00)\n",
      "validating...\n",
      "Epoch 0081 | Time 10.1897, Epoch Time 253.8342, Bit/dim 1.8122\n"
     ]
    },
    {
     "name": "stdout",
     "output_type": "stream",
     "text": [
      "do _generate\n",
      "do _generate\n",
      "do _generate\n",
      "do _generate\n",
      "do _generate\n",
      "do _generate\n",
      "do _generate\n",
      "do _generate\n"
     ]
    },
    {
     "name": "stderr",
     "output_type": "stream",
     "text": [
      "===> Using batch size 8000. Total 7 iterations/epoch.\n",
      "Iter 0567 | Time 33.9993(33.0413) | Bit/dim 1.8282(1.8612) | Steps 470(465.21) | Grad Norm 0.2785(0.2308) | Total Time 10.00(10.00)\n",
      "Iter 0568 | Time 34.9116(33.0974) | Bit/dim 1.8195(1.8600) | Steps 470(465.35) | Grad Norm 0.2485(0.2314) | Total Time 10.00(10.00)\n",
      "Iter 0569 | Time 33.8638(33.1204) | Bit/dim 1.8243(1.8589) | Steps 470(465.49) | Grad Norm 0.2570(0.2321) | Total Time 10.00(10.00)\n",
      "Iter 0570 | Time 33.6192(33.1353) | Bit/dim 1.8262(1.8579) | Steps 470(465.63) | Grad Norm 0.2718(0.2333) | Total Time 10.00(10.00)\n",
      "Iter 0571 | Time 33.8222(33.1559) | Bit/dim 1.8214(1.8568) | Steps 470(465.76) | Grad Norm 0.2821(0.2348) | Total Time 10.00(10.00)\n",
      "Iter 0572 | Time 33.6805(33.1717) | Bit/dim 1.8181(1.8557) | Steps 470(465.88) | Grad Norm 0.2694(0.2358) | Total Time 10.00(10.00)\n",
      "Iter 0573 | Time 33.1323(33.1705) | Bit/dim 1.8155(1.8545) | Steps 470(466.01) | Grad Norm 0.2756(0.2370) | Total Time 10.00(10.00)\n",
      "validating...\n",
      "Epoch 0082 | Time 9.8849, Epoch Time 259.0580, Bit/dim 1.7985\n"
     ]
    },
    {
     "name": "stdout",
     "output_type": "stream",
     "text": [
      "do _generate\n",
      "do _generate\n",
      "do _generate\n",
      "do _generate\n",
      "do _generate\n",
      "do _generate\n",
      "do _generate\n",
      "do _generate\n"
     ]
    },
    {
     "name": "stderr",
     "output_type": "stream",
     "text": [
      "===> Using batch size 8000. Total 7 iterations/epoch.\n",
      "Iter 0574 | Time 34.6581(33.2151) | Bit/dim 1.8178(1.8534) | Steps 470(466.13) | Grad Norm 0.3075(0.2391) | Total Time 10.00(10.00)\n",
      "Iter 0575 | Time 33.9610(33.2375) | Bit/dim 1.8113(1.8521) | Steps 470(466.24) | Grad Norm 0.2764(0.2402) | Total Time 10.00(10.00)\n",
      "Iter 0576 | Time 33.2238(33.2371) | Bit/dim 1.8134(1.8509) | Steps 470(466.36) | Grad Norm 0.2910(0.2418) | Total Time 10.00(10.00)\n",
      "Iter 0577 | Time 33.4149(33.2424) | Bit/dim 1.8081(1.8497) | Steps 470(466.47) | Grad Norm 0.2774(0.2428) | Total Time 10.00(10.00)\n",
      "Iter 0578 | Time 33.0415(33.2364) | Bit/dim 1.8043(1.8483) | Steps 470(466.57) | Grad Norm 0.3027(0.2446) | Total Time 10.00(10.00)\n",
      "Iter 0579 | Time 33.5525(33.2459) | Bit/dim 1.8026(1.8469) | Steps 470(466.67) | Grad Norm 0.3204(0.2469) | Total Time 10.00(10.00)\n",
      "Iter 0580 | Time 33.2010(33.2445) | Bit/dim 1.8003(1.8455) | Steps 470(466.77) | Grad Norm 0.2743(0.2477) | Total Time 10.00(10.00)\n",
      "validating...\n",
      "Epoch 0083 | Time 10.1101, Epoch Time 257.3486, Bit/dim 1.7837\n"
     ]
    },
    {
     "name": "stdout",
     "output_type": "stream",
     "text": [
      "do _generate\n",
      "do _generate\n",
      "do _generate\n",
      "do _generate\n",
      "do _generate\n",
      "do _generate\n",
      "do _generate\n",
      "do _generate\n"
     ]
    },
    {
     "name": "stderr",
     "output_type": "stream",
     "text": [
      "===> Using batch size 8000. Total 7 iterations/epoch.\n",
      "Iter 0581 | Time 34.3098(33.2765) | Bit/dim 1.8034(1.8443) | Steps 470(466.87) | Grad Norm 0.2889(0.2490) | Total Time 10.00(10.00)\n",
      "Iter 0582 | Time 33.5055(33.2834) | Bit/dim 1.7952(1.8428) | Steps 470(466.96) | Grad Norm 0.2935(0.2503) | Total Time 10.00(10.00)\n",
      "Iter 0583 | Time 33.3155(33.2843) | Bit/dim 1.7941(1.8413) | Steps 470(467.06) | Grad Norm 0.3225(0.2525) | Total Time 10.00(10.00)\n",
      "Iter 0584 | Time 34.4017(33.3178) | Bit/dim 1.8005(1.8401) | Steps 470(467.14) | Grad Norm 0.3033(0.2540) | Total Time 10.00(10.00)\n",
      "Iter 0585 | Time 32.9788(33.3077) | Bit/dim 1.7928(1.8387) | Steps 470(467.23) | Grad Norm 0.3067(0.2556) | Total Time 10.00(10.00)\n",
      "Iter 0586 | Time 33.8654(33.3244) | Bit/dim 1.7796(1.8369) | Steps 470(467.31) | Grad Norm 0.2963(0.2568) | Total Time 10.00(10.00)\n",
      "Iter 0587 | Time 34.9775(33.3740) | Bit/dim 1.7796(1.8352) | Steps 470(467.39) | Grad Norm 0.3445(0.2594) | Total Time 10.00(10.00)\n",
      "validating...\n",
      "Epoch 0084 | Time 10.2357, Epoch Time 259.6222, Bit/dim 1.7650\n"
     ]
    },
    {
     "name": "stdout",
     "output_type": "stream",
     "text": [
      "do _generate\n",
      "do _generate\n",
      "do _generate\n",
      "do _generate\n",
      "do _generate\n",
      "do _generate\n",
      "do _generate\n",
      "do _generate\n"
     ]
    },
    {
     "name": "stderr",
     "output_type": "stream",
     "text": [
      "===> Using batch size 8000. Total 7 iterations/epoch.\n",
      "Iter 0588 | Time 33.7125(33.3841) | Bit/dim 1.7772(1.8335) | Steps 470(467.47) | Grad Norm 0.3141(0.2611) | Total Time 10.00(10.00)\n",
      "Iter 0589 | Time 33.3105(33.3819) | Bit/dim 1.7879(1.8321) | Steps 470(467.55) | Grad Norm 0.3099(0.2625) | Total Time 10.00(10.00)\n",
      "Iter 0590 | Time 32.8674(33.3665) | Bit/dim 1.7779(1.8305) | Steps 470(467.62) | Grad Norm 0.3113(0.2640) | Total Time 10.00(10.00)\n",
      "Iter 0591 | Time 35.8212(33.4401) | Bit/dim 1.7757(1.8288) | Steps 470(467.69) | Grad Norm 0.3357(0.2661) | Total Time 10.00(10.00)\n",
      "Iter 0592 | Time 33.7706(33.4501) | Bit/dim 1.7654(1.8269) | Steps 470(467.76) | Grad Norm 0.3479(0.2686) | Total Time 10.00(10.00)\n",
      "Iter 0593 | Time 34.4564(33.4802) | Bit/dim 1.7714(1.8253) | Steps 470(467.83) | Grad Norm 0.2992(0.2695) | Total Time 10.00(10.00)\n",
      "Iter 0594 | Time 34.4011(33.5079) | Bit/dim 1.7630(1.8234) | Steps 470(467.89) | Grad Norm 0.3305(0.2713) | Total Time 10.00(10.00)\n",
      "validating...\n",
      "Epoch 0085 | Time 10.1092, Epoch Time 260.4747, Bit/dim 1.7454\n"
     ]
    },
    {
     "name": "stdout",
     "output_type": "stream",
     "text": [
      "do _generate\n",
      "do _generate\n",
      "do _generate\n",
      "do _generate\n",
      "do _generate\n",
      "do _generate\n",
      "do _generate\n",
      "do _generate\n"
     ]
    },
    {
     "name": "stderr",
     "output_type": "stream",
     "text": [
      "===> Using batch size 8000. Total 7 iterations/epoch.\n",
      "Iter 0595 | Time 32.9065(33.4898) | Bit/dim 1.7642(1.8216) | Steps 470(467.96) | Grad Norm 0.3311(0.2731) | Total Time 10.00(10.00)\n",
      "Iter 0596 | Time 34.1982(33.5111) | Bit/dim 1.7634(1.8199) | Steps 470(468.02) | Grad Norm 0.3779(0.2763) | Total Time 10.00(10.00)\n",
      "Iter 0597 | Time 34.2640(33.5337) | Bit/dim 1.7551(1.8179) | Steps 470(468.08) | Grad Norm 0.3186(0.2775) | Total Time 10.00(10.00)\n",
      "Iter 0598 | Time 33.6952(33.5385) | Bit/dim 1.7543(1.8160) | Steps 470(468.14) | Grad Norm 0.3199(0.2788) | Total Time 10.00(10.00)\n",
      "Iter 0599 | Time 33.6027(33.5404) | Bit/dim 1.7490(1.8140) | Steps 470(468.19) | Grad Norm 0.3259(0.2802) | Total Time 10.00(10.00)\n",
      "Iter 0600 | Time 34.4020(33.5663) | Bit/dim 1.7507(1.8121) | Steps 470(468.25) | Grad Norm 0.3280(0.2817) | Total Time 10.00(10.00)\n",
      "Iter 0601 | Time 33.3294(33.5592) | Bit/dim 1.7387(1.8099) | Steps 470(468.30) | Grad Norm 0.3154(0.2827) | Total Time 10.00(10.00)\n",
      "validating...\n",
      "Epoch 0086 | Time 10.1230, Epoch Time 258.8153, Bit/dim 1.7245\n"
     ]
    },
    {
     "name": "stdout",
     "output_type": "stream",
     "text": [
      "do _generate\n",
      "do _generate\n",
      "do _generate\n",
      "do _generate\n",
      "do _generate\n",
      "do _generate\n",
      "do _generate\n",
      "do _generate\n"
     ]
    },
    {
     "name": "stderr",
     "output_type": "stream",
     "text": [
      "===> Using batch size 8000. Total 7 iterations/epoch.\n",
      "Iter 0602 | Time 33.8609(33.5682) | Bit/dim 1.7455(1.8080) | Steps 464(468.17) | Grad Norm 0.3090(0.2835) | Total Time 10.00(10.00)\n",
      "Iter 0603 | Time 33.7651(33.5741) | Bit/dim 1.7358(1.8058) | Steps 470(468.22) | Grad Norm 0.3262(0.2847) | Total Time 10.00(10.00)\n",
      "Iter 0604 | Time 34.0170(33.5874) | Bit/dim 1.7345(1.8037) | Steps 464(468.10) | Grad Norm 0.3182(0.2857) | Total Time 10.00(10.00)\n",
      "Iter 0605 | Time 34.5382(33.6159) | Bit/dim 1.7313(1.8015) | Steps 464(467.97) | Grad Norm 0.3167(0.2867) | Total Time 10.00(10.00)\n",
      "Iter 0606 | Time 33.4884(33.6121) | Bit/dim 1.7248(1.7992) | Steps 464(467.86) | Grad Norm 0.3158(0.2875) | Total Time 10.00(10.00)\n",
      "Iter 0607 | Time 32.9818(33.5932) | Bit/dim 1.7262(1.7970) | Steps 464(467.74) | Grad Norm 0.3692(0.2900) | Total Time 10.00(10.00)\n",
      "Iter 0608 | Time 31.8409(33.5406) | Bit/dim 1.7230(1.7948) | Steps 464(467.63) | Grad Norm 0.3297(0.2912) | Total Time 10.00(10.00)\n",
      "validating...\n",
      "Epoch 0087 | Time 9.9391, Epoch Time 256.3806, Bit/dim 1.7025\n"
     ]
    },
    {
     "name": "stdout",
     "output_type": "stream",
     "text": [
      "do _generate\n",
      "do _generate\n",
      "do _generate\n",
      "do _generate\n",
      "do _generate\n",
      "do _generate\n",
      "do _generate\n",
      "do _generate\n"
     ]
    },
    {
     "name": "stderr",
     "output_type": "stream",
     "text": [
      "===> Using batch size 8000. Total 7 iterations/epoch.\n",
      "Iter 0609 | Time 32.8328(33.5194) | Bit/dim 1.7230(1.7926) | Steps 464(467.52) | Grad Norm 0.3552(0.2931) | Total Time 10.00(10.00)\n",
      "Iter 0610 | Time 34.0184(33.5344) | Bit/dim 1.7175(1.7904) | Steps 464(467.41) | Grad Norm 0.3766(0.2956) | Total Time 10.00(10.00)\n",
      "Iter 0611 | Time 33.0348(33.5194) | Bit/dim 1.7166(1.7882) | Steps 464(467.31) | Grad Norm 0.3494(0.2972) | Total Time 10.00(10.00)\n",
      "Iter 0612 | Time 32.4362(33.4869) | Bit/dim 1.7080(1.7858) | Steps 464(467.21) | Grad Norm 0.3862(0.2999) | Total Time 10.00(10.00)\n",
      "Iter 0613 | Time 32.6902(33.4630) | Bit/dim 1.7089(1.7835) | Steps 464(467.12) | Grad Norm 0.3441(0.3012) | Total Time 10.00(10.00)\n",
      "Iter 0614 | Time 35.1594(33.5139) | Bit/dim 1.7064(1.7811) | Steps 464(467.02) | Grad Norm 0.3868(0.3038) | Total Time 10.00(10.00)\n",
      "Iter 0615 | Time 33.8398(33.5237) | Bit/dim 1.7003(1.7787) | Steps 470(467.11) | Grad Norm 0.4926(0.3095) | Total Time 10.00(10.00)\n",
      "validating...\n",
      "Epoch 0088 | Time 10.2880, Epoch Time 256.4081, Bit/dim 1.6810\n"
     ]
    },
    {
     "name": "stdout",
     "output_type": "stream",
     "text": [
      "do _generate\n",
      "do _generate\n",
      "do _generate\n",
      "do _generate\n",
      "do _generate\n",
      "do _generate\n",
      "do _generate\n",
      "do _generate\n"
     ]
    },
    {
     "name": "stderr",
     "output_type": "stream",
     "text": [
      "===> Using batch size 8000. Total 7 iterations/epoch.\n",
      "Iter 0616 | Time 35.8528(33.5935) | Bit/dim 1.7017(1.7764) | Steps 470(467.20) | Grad Norm 0.3915(0.3119) | Total Time 10.00(10.00)\n",
      "Iter 0617 | Time 34.6009(33.6238) | Bit/dim 1.6955(1.7740) | Steps 482(467.64) | Grad Norm 0.3442(0.3129) | Total Time 10.00(10.00)\n",
      "Iter 0618 | Time 34.6444(33.6544) | Bit/dim 1.6977(1.7717) | Steps 482(468.07) | Grad Norm 0.4673(0.3175) | Total Time 10.00(10.00)\n",
      "Iter 0619 | Time 34.6729(33.6849) | Bit/dim 1.6943(1.7694) | Steps 482(468.49) | Grad Norm 0.4439(0.3213) | Total Time 10.00(10.00)\n",
      "Iter 0620 | Time 34.1617(33.6992) | Bit/dim 1.6847(1.7668) | Steps 482(468.90) | Grad Norm 0.3485(0.3221) | Total Time 10.00(10.00)\n",
      "Iter 0621 | Time 34.8721(33.7344) | Bit/dim 1.6782(1.7642) | Steps 482(469.29) | Grad Norm 0.3594(0.3232) | Total Time 10.00(10.00)\n",
      "Iter 0622 | Time 34.4195(33.7550) | Bit/dim 1.6815(1.7617) | Steps 482(469.67) | Grad Norm 0.3732(0.3247) | Total Time 10.00(10.00)\n",
      "validating...\n",
      "Epoch 0089 | Time 10.4649, Epoch Time 265.7882, Bit/dim 1.6608\n"
     ]
    },
    {
     "name": "stdout",
     "output_type": "stream",
     "text": [
      "do _generate\n",
      "do _generate\n",
      "do _generate\n",
      "do _generate\n",
      "do _generate\n",
      "do _generate\n",
      "do _generate\n",
      "do _generate\n"
     ]
    },
    {
     "name": "stderr",
     "output_type": "stream",
     "text": [
      "===> Using batch size 8000. Total 7 iterations/epoch.\n",
      "Iter 0623 | Time 34.7187(33.7839) | Bit/dim 1.6807(1.7593) | Steps 482(470.04) | Grad Norm 0.3297(0.3249) | Total Time 10.00(10.00)\n",
      "Iter 0624 | Time 34.5014(33.8054) | Bit/dim 1.6740(1.7567) | Steps 482(470.40) | Grad Norm 0.3512(0.3257) | Total Time 10.00(10.00)\n",
      "Iter 0625 | Time 35.1088(33.8445) | Bit/dim 1.6735(1.7542) | Steps 482(470.75) | Grad Norm 0.4444(0.3292) | Total Time 10.00(10.00)\n",
      "Iter 0626 | Time 35.3901(33.8909) | Bit/dim 1.6707(1.7517) | Steps 482(471.08) | Grad Norm 0.4060(0.3315) | Total Time 10.00(10.00)\n",
      "Iter 0627 | Time 35.6760(33.9444) | Bit/dim 1.6728(1.7493) | Steps 482(471.41) | Grad Norm 0.3051(0.3308) | Total Time 10.00(10.00)\n",
      "Iter 0628 | Time 36.0738(34.0083) | Bit/dim 1.6637(1.7468) | Steps 482(471.73) | Grad Norm 0.3658(0.3318) | Total Time 10.00(10.00)\n",
      "Iter 0629 | Time 36.2150(34.0745) | Bit/dim 1.6630(1.7442) | Steps 482(472.04) | Grad Norm 0.3552(0.3325) | Total Time 10.00(10.00)\n",
      "validating...\n",
      "Epoch 0090 | Time 10.7035, Epoch Time 270.2751, Bit/dim 1.6428\n"
     ]
    },
    {
     "name": "stdout",
     "output_type": "stream",
     "text": [
      "do _generate\n",
      "do _generate\n",
      "do _generate\n",
      "do _generate\n",
      "do _generate\n",
      "do _generate\n",
      "do _generate\n",
      "do _generate\n"
     ]
    },
    {
     "name": "stderr",
     "output_type": "stream",
     "text": [
      "===> Using batch size 8000. Total 7 iterations/epoch.\n",
      "Iter 0630 | Time 34.8220(34.0969) | Bit/dim 1.6612(1.7418) | Steps 482(472.34) | Grad Norm 0.4288(0.3354) | Total Time 10.00(10.00)\n",
      "Iter 0631 | Time 35.6089(34.1423) | Bit/dim 1.6551(1.7392) | Steps 482(472.63) | Grad Norm 0.6304(0.3442) | Total Time 10.00(10.00)\n",
      "Iter 0632 | Time 34.4208(34.1506) | Bit/dim 1.6517(1.7365) | Steps 482(472.91) | Grad Norm 0.8238(0.3586) | Total Time 10.00(10.00)\n",
      "Iter 0633 | Time 34.7909(34.1699) | Bit/dim 1.6518(1.7340) | Steps 482(473.18) | Grad Norm 1.4010(0.3899) | Total Time 10.00(10.00)\n",
      "Iter 0634 | Time 34.5054(34.1799) | Bit/dim 1.6514(1.7315) | Steps 482(473.44) | Grad Norm 2.5125(0.4536) | Total Time 10.00(10.00)\n",
      "Iter 0635 | Time 34.6583(34.1943) | Bit/dim 1.6481(1.7290) | Steps 482(473.70) | Grad Norm 4.5204(0.5756) | Total Time 10.00(10.00)\n",
      "Iter 0636 | Time 34.8335(34.2134) | Bit/dim 1.6605(1.7270) | Steps 482(473.95) | Grad Norm 7.0694(0.7704) | Total Time 10.00(10.00)\n",
      "validating...\n",
      "Epoch 0091 | Time 10.4169, Epoch Time 265.9662, Bit/dim 1.6375\n"
     ]
    },
    {
     "name": "stdout",
     "output_type": "stream",
     "text": [
      "do _generate\n",
      "do _generate\n",
      "do _generate\n",
      "do _generate\n",
      "do _generate\n",
      "do _generate\n",
      "do _generate\n",
      "do _generate\n"
     ]
    },
    {
     "name": "stderr",
     "output_type": "stream",
     "text": [
      "===> Using batch size 8000. Total 7 iterations/epoch.\n",
      "Iter 0637 | Time 34.6484(34.2265) | Bit/dim 1.6537(1.7248) | Steps 482(474.19) | Grad Norm 9.0545(1.0189) | Total Time 10.00(10.00)\n",
      "Iter 0638 | Time 34.3142(34.2291) | Bit/dim 1.6545(1.7226) | Steps 482(474.43) | Grad Norm 7.3897(1.2100) | Total Time 10.00(10.00)\n",
      "Iter 0639 | Time 34.5058(34.2374) | Bit/dim 1.6369(1.7201) | Steps 482(474.65) | Grad Norm 1.6943(1.2246) | Total Time 10.00(10.00)\n",
      "Iter 0640 | Time 34.7243(34.2520) | Bit/dim 1.6410(1.7177) | Steps 482(474.87) | Grad Norm 5.0742(1.3401) | Total Time 10.00(10.00)\n",
      "Iter 0641 | Time 35.9184(34.3020) | Bit/dim 1.6490(1.7156) | Steps 482(475.09) | Grad Norm 7.9314(1.5378) | Total Time 10.00(10.00)\n",
      "Iter 0642 | Time 34.6334(34.3120) | Bit/dim 1.6313(1.7131) | Steps 482(475.30) | Grad Norm 4.9831(1.6412) | Total Time 10.00(10.00)\n",
      "Iter 0643 | Time 34.2056(34.3088) | Bit/dim 1.6261(1.7105) | Steps 482(475.50) | Grad Norm 1.4245(1.6347) | Total Time 10.00(10.00)\n",
      "validating...\n",
      "Epoch 0092 | Time 10.6050, Epoch Time 265.5638, Bit/dim 1.6148\n"
     ]
    },
    {
     "name": "stdout",
     "output_type": "stream",
     "text": [
      "do _generate\n",
      "do _generate\n",
      "do _generate\n",
      "do _generate\n",
      "do _generate\n",
      "do _generate\n",
      "do _generate\n",
      "do _generate\n"
     ]
    },
    {
     "name": "stderr",
     "output_type": "stream",
     "text": [
      "===> Using batch size 8000. Total 7 iterations/epoch.\n",
      "Iter 0644 | Time 34.6193(34.3181) | Bit/dim 1.6299(1.7081) | Steps 482(475.69) | Grad Norm 5.6085(1.7539) | Total Time 10.00(10.00)\n",
      "Iter 0645 | Time 35.3882(34.3502) | Bit/dim 1.6304(1.7058) | Steps 482(475.88) | Grad Norm 5.8484(1.8767) | Total Time 10.00(10.00)\n",
      "Iter 0646 | Time 33.8340(34.3347) | Bit/dim 1.6226(1.7033) | Steps 482(476.06) | Grad Norm 2.3589(1.8912) | Total Time 10.00(10.00)\n",
      "Iter 0647 | Time 34.3563(34.3354) | Bit/dim 1.6176(1.7007) | Steps 482(476.24) | Grad Norm 2.0927(1.8972) | Total Time 10.00(10.00)\n",
      "Iter 0648 | Time 35.3971(34.3672) | Bit/dim 1.6226(1.6983) | Steps 482(476.41) | Grad Norm 5.0905(1.9930) | Total Time 10.00(10.00)\n",
      "Iter 0649 | Time 34.1902(34.3619) | Bit/dim 1.6217(1.6960) | Steps 482(476.58) | Grad Norm 4.9458(2.0816) | Total Time 10.00(10.00)\n",
      "Iter 0650 | Time 34.1429(34.3553) | Bit/dim 1.6200(1.6938) | Steps 482(476.75) | Grad Norm 2.2071(2.0854) | Total Time 10.00(10.00)\n",
      "validating...\n",
      "Epoch 0093 | Time 10.5658, Epoch Time 264.7308, Bit/dim 1.5949\n"
     ]
    },
    {
     "name": "stdout",
     "output_type": "stream",
     "text": [
      "do _generate\n",
      "do _generate\n",
      "do _generate\n",
      "do _generate\n",
      "do _generate\n",
      "do _generate\n",
      "do _generate\n",
      "do _generate\n"
     ]
    },
    {
     "name": "stderr",
     "output_type": "stream",
     "text": [
      "===> Using batch size 8000. Total 7 iterations/epoch.\n",
      "Iter 0651 | Time 34.5769(34.3620) | Bit/dim 1.6156(1.6914) | Steps 482(476.90) | Grad Norm 1.8039(2.0769) | Total Time 10.00(10.00)\n",
      "Iter 0652 | Time 36.0263(34.4119) | Bit/dim 1.6158(1.6892) | Steps 482(477.06) | Grad Norm 4.4172(2.1471) | Total Time 10.00(10.00)\n",
      "Iter 0653 | Time 34.6439(34.4189) | Bit/dim 1.6091(1.6868) | Steps 482(477.20) | Grad Norm 5.0225(2.2334) | Total Time 10.00(10.00)\n",
      "Iter 0654 | Time 34.6419(34.4256) | Bit/dim 1.6096(1.6844) | Steps 482(477.35) | Grad Norm 3.6399(2.2756) | Total Time 10.00(10.00)\n",
      "Iter 0655 | Time 34.2682(34.4208) | Bit/dim 1.6042(1.6820) | Steps 482(477.49) | Grad Norm 1.1698(2.2424) | Total Time 10.00(10.00)\n",
      "Iter 0656 | Time 34.1846(34.4137) | Bit/dim 1.6032(1.6797) | Steps 482(477.62) | Grad Norm 1.7922(2.2289) | Total Time 10.00(10.00)\n",
      "Iter 0657 | Time 35.6032(34.4494) | Bit/dim 1.6029(1.6774) | Steps 482(477.75) | Grad Norm 3.6776(2.2724) | Total Time 10.00(10.00)\n",
      "validating...\n",
      "Epoch 0094 | Time 10.4257, Epoch Time 266.4198, Bit/dim 1.5846\n"
     ]
    },
    {
     "name": "stdout",
     "output_type": "stream",
     "text": [
      "do _generate\n",
      "do _generate\n",
      "do _generate\n",
      "do _generate\n",
      "do _generate\n",
      "do _generate\n",
      "do _generate\n",
      "do _generate\n"
     ]
    },
    {
     "name": "stderr",
     "output_type": "stream",
     "text": [
      "===> Using batch size 8000. Total 7 iterations/epoch.\n",
      "Iter 0658 | Time 33.8712(34.4321) | Bit/dim 1.5992(1.6750) | Steps 482(477.88) | Grad Norm 4.6362(2.3433) | Total Time 10.00(10.00)\n",
      "Iter 0659 | Time 34.6409(34.4383) | Bit/dim 1.6059(1.6729) | Steps 482(478.01) | Grad Norm 4.6186(2.4115) | Total Time 10.00(10.00)\n",
      "Iter 0660 | Time 33.8755(34.4215) | Bit/dim 1.5981(1.6707) | Steps 482(478.12) | Grad Norm 3.9915(2.4589) | Total Time 10.00(10.00)\n",
      "Iter 0661 | Time 34.3807(34.4202) | Bit/dim 1.5985(1.6685) | Steps 482(478.24) | Grad Norm 2.8332(2.4702) | Total Time 10.00(10.00)\n",
      "Iter 0662 | Time 34.1876(34.4133) | Bit/dim 1.5904(1.6662) | Steps 482(478.35) | Grad Norm 1.7038(2.4472) | Total Time 10.00(10.00)\n",
      "Iter 0663 | Time 35.5036(34.4460) | Bit/dim 1.5901(1.6639) | Steps 482(478.46) | Grad Norm 0.5708(2.3909) | Total Time 10.00(10.00)\n",
      "Iter 0664 | Time 34.9715(34.4617) | Bit/dim 1.5853(1.6615) | Steps 482(478.57) | Grad Norm 0.7071(2.3404) | Total Time 10.00(10.00)\n",
      "validating...\n",
      "Epoch 0095 | Time 10.7887, Epoch Time 264.1304, Bit/dim 1.5693\n"
     ]
    },
    {
     "name": "stdout",
     "output_type": "stream",
     "text": [
      "do _generate\n",
      "do _generate\n",
      "do _generate\n",
      "do _generatedo _generate\n",
      "\n",
      "do _generate\n",
      "do _generate\n",
      "do _generate\n"
     ]
    },
    {
     "name": "stderr",
     "output_type": "stream",
     "text": [
      "===> Using batch size 8000. Total 7 iterations/epoch.\n",
      "Iter 0665 | Time 34.3136(34.4573) | Bit/dim 1.5852(1.6593) | Steps 482(478.67) | Grad Norm 1.9581(2.3289) | Total Time 10.00(10.00)\n",
      "Iter 0666 | Time 35.3982(34.4855) | Bit/dim 1.5895(1.6572) | Steps 482(478.77) | Grad Norm 3.3377(2.3592) | Total Time 10.00(10.00)\n",
      "Iter 0667 | Time 35.0878(34.5036) | Bit/dim 1.5852(1.6550) | Steps 482(478.87) | Grad Norm 5.8269(2.4632) | Total Time 10.00(10.00)\n",
      "Iter 0668 | Time 35.2617(34.5263) | Bit/dim 1.5948(1.6532) | Steps 482(478.96) | Grad Norm 9.3325(2.6693) | Total Time 10.00(10.00)\n",
      "Iter 0669 | Time 34.2036(34.5167) | Bit/dim 1.5981(1.6515) | Steps 482(479.05) | Grad Norm 14.8881(3.0358) | Total Time 10.00(10.00)\n",
      "Iter 0670 | Time 34.6280(34.5200) | Bit/dim 1.6331(1.6510) | Steps 482(479.14) | Grad Norm 18.0219(3.4854) | Total Time 10.00(10.00)\n",
      "Iter 0671 | Time 34.2765(34.5127) | Bit/dim 1.5945(1.6493) | Steps 482(479.23) | Grad Norm 12.6123(3.7592) | Total Time 10.00(10.00)\n",
      "validating...\n",
      "Epoch 0096 | Time 10.6023, Epoch Time 265.9110, Bit/dim 1.5573\n"
     ]
    },
    {
     "name": "stdout",
     "output_type": "stream",
     "text": [
      "do _generate\n",
      "do _generate\n",
      "do _generate\n",
      "do _generate\n",
      "do _generate\n",
      "do _generate\n",
      "do _generate\n",
      "do _generate\n"
     ]
    },
    {
     "name": "stderr",
     "output_type": "stream",
     "text": [
      "===> Using batch size 8000. Total 7 iterations/epoch.\n",
      "Iter 0672 | Time 34.8074(34.5215) | Bit/dim 1.5727(1.6470) | Steps 482(479.31) | Grad Norm 1.4022(3.6885) | Total Time 10.00(10.00)\n",
      "Iter 0673 | Time 37.2990(34.6049) | Bit/dim 1.5819(1.6451) | Steps 482(479.39) | Grad Norm 8.6482(3.8373) | Total Time 10.00(10.00)\n",
      "Iter 0674 | Time 35.3856(34.6283) | Bit/dim 1.5871(1.6433) | Steps 482(479.47) | Grad Norm 13.1812(4.1176) | Total Time 10.00(10.00)\n",
      "Iter 0675 | Time 36.9089(34.6967) | Bit/dim 1.5840(1.6415) | Steps 488(479.73) | Grad Norm 10.5275(4.3099) | Total Time 10.00(10.00)\n",
      "Iter 0676 | Time 37.5221(34.7815) | Bit/dim 1.5735(1.6395) | Steps 482(479.79) | Grad Norm 1.8445(4.2360) | Total Time 10.00(10.00)\n",
      "Iter 0677 | Time 34.3295(34.7679) | Bit/dim 1.5779(1.6376) | Steps 482(479.86) | Grad Norm 8.4254(4.3616) | Total Time 10.00(10.00)\n",
      "Iter 0678 | Time 37.3316(34.8448) | Bit/dim 1.5900(1.6362) | Steps 488(480.10) | Grad Norm 11.6839(4.5813) | Total Time 10.00(10.00)\n",
      "validating...\n",
      "Epoch 0097 | Time 10.5255, Epoch Time 276.2677, Bit/dim 1.5521\n"
     ]
    },
    {
     "name": "stdout",
     "output_type": "stream",
     "text": [
      "do _generate\n",
      "do _generate\n",
      "do _generate\n",
      "do _generate\n",
      "do _generate\n",
      "do _generate\n",
      "do _generate\n",
      "do _generate\n"
     ]
    },
    {
     "name": "stderr",
     "output_type": "stream",
     "text": [
      "===> Using batch size 8000. Total 7 iterations/epoch.\n",
      "Iter 0679 | Time 37.3312(34.9194) | Bit/dim 1.5680(1.6342) | Steps 494(480.52) | Grad Norm 6.9000(4.6509) | Total Time 10.00(10.00)\n",
      "Iter 0680 | Time 36.4555(34.9655) | Bit/dim 1.5663(1.6321) | Steps 494(480.93) | Grad Norm 2.5245(4.5871) | Total Time 10.00(10.00)\n",
      "Iter 0681 | Time 35.5454(34.9829) | Bit/dim 1.5700(1.6303) | Steps 488(481.14) | Grad Norm 8.6797(4.7099) | Total Time 10.00(10.00)\n",
      "Iter 0682 | Time 36.2660(35.0214) | Bit/dim 1.5647(1.6283) | Steps 494(481.52) | Grad Norm 7.6036(4.7967) | Total Time 10.00(10.00)\n",
      "Iter 0683 | Time 36.4250(35.0635) | Bit/dim 1.5619(1.6263) | Steps 494(481.90) | Grad Norm 1.5616(4.6996) | Total Time 10.00(10.00)\n",
      "Iter 0684 | Time 35.6410(35.0808) | Bit/dim 1.5578(1.6243) | Steps 488(482.08) | Grad Norm 4.6489(4.6981) | Total Time 10.00(10.00)\n",
      "Iter 0685 | Time 35.9004(35.1054) | Bit/dim 1.5620(1.6224) | Steps 494(482.44) | Grad Norm 7.3382(4.7773) | Total Time 10.00(10.00)\n",
      "validating...\n",
      "Epoch 0098 | Time 10.7003, Epoch Time 276.4078, Bit/dim 1.5387\n"
     ]
    },
    {
     "name": "stdout",
     "output_type": "stream",
     "text": [
      "do _generate\n",
      "do _generate\n",
      "do _generate\n",
      "do _generate\n",
      "do _generate\n",
      "do _generate\n",
      "do _generate\n",
      "do _generate\n"
     ]
    },
    {
     "name": "stderr",
     "output_type": "stream",
     "text": [
      "===> Using batch size 8000. Total 7 iterations/epoch.\n",
      "Iter 0686 | Time 36.0890(35.1349) | Bit/dim 1.5537(1.6203) | Steps 488(482.61) | Grad Norm 5.2741(4.7922) | Total Time 10.00(10.00)\n",
      "Iter 0687 | Time 35.0536(35.1325) | Bit/dim 1.5547(1.6184) | Steps 488(482.77) | Grad Norm 0.3868(4.6600) | Total Time 10.00(10.00)\n",
      "Iter 0688 | Time 37.2018(35.1945) | Bit/dim 1.5529(1.6164) | Steps 494(483.10) | Grad Norm 5.0367(4.6713) | Total Time 10.00(10.00)\n",
      "Iter 0689 | Time 35.7272(35.2105) | Bit/dim 1.5600(1.6147) | Steps 488(483.25) | Grad Norm 6.6747(4.7314) | Total Time 10.00(10.00)\n",
      "Iter 0690 | Time 38.2375(35.3013) | Bit/dim 1.5496(1.6128) | Steps 494(483.57) | Grad Norm 4.8666(4.7355) | Total Time 10.00(10.00)\n",
      "Iter 0691 | Time 35.5188(35.3079) | Bit/dim 1.5428(1.6107) | Steps 488(483.71) | Grad Norm 0.9753(4.6227) | Total Time 10.00(10.00)\n",
      "Iter 0692 | Time 35.4282(35.3115) | Bit/dim 1.5443(1.6087) | Steps 488(483.84) | Grad Norm 3.2015(4.5801) | Total Time 10.00(10.00)\n",
      "validating...\n",
      "Epoch 0099 | Time 10.5478, Epoch Time 275.9128, Bit/dim 1.5286\n"
     ]
    },
    {
     "name": "stdout",
     "output_type": "stream",
     "text": [
      "do _generate\n",
      "do _generate\n",
      "do _generate\n",
      "do _generate\n",
      "do _generate\n",
      "do _generatedo _generate\n",
      "\n",
      "do _generate\n"
     ]
    },
    {
     "name": "stderr",
     "output_type": "stream",
     "text": [
      "===> Using batch size 8000. Total 7 iterations/epoch.\n",
      "Iter 0693 | Time 37.4725(35.3763) | Bit/dim 1.5497(1.6069) | Steps 488(483.96) | Grad Norm 5.5314(4.6086) | Total Time 10.00(10.00)\n",
      "Iter 0694 | Time 35.6279(35.3838) | Bit/dim 1.5428(1.6050) | Steps 488(484.08) | Grad Norm 5.8060(4.6445) | Total Time 10.00(10.00)\n",
      "Iter 0695 | Time 35.1105(35.3756) | Bit/dim 1.5450(1.6032) | Steps 488(484.20) | Grad Norm 4.5988(4.6431) | Total Time 10.00(10.00)\n",
      "Iter 0696 | Time 34.9400(35.3626) | Bit/dim 1.5450(1.6014) | Steps 488(484.31) | Grad Norm 2.3856(4.5754) | Total Time 10.00(10.00)\n",
      "Iter 0697 | Time 34.9441(35.3500) | Bit/dim 1.5355(1.5995) | Steps 488(484.42) | Grad Norm 0.3085(4.4474) | Total Time 10.00(10.00)\n",
      "Iter 0698 | Time 35.4664(35.3535) | Bit/dim 1.5327(1.5974) | Steps 488(484.53) | Grad Norm 2.2880(4.3826) | Total Time 10.00(10.00)\n",
      "Iter 0699 | Time 35.3430(35.3532) | Bit/dim 1.5293(1.5954) | Steps 488(484.64) | Grad Norm 4.1951(4.3770) | Total Time 10.00(10.00)\n",
      "validating...\n",
      "Epoch 0100 | Time 10.6365, Epoch Time 271.6660, Bit/dim 1.5181\n"
     ]
    },
    {
     "name": "stdout",
     "output_type": "stream",
     "text": [
      "do _generate\n",
      "do _generate\n",
      "do _generate\n",
      "do _generate\n",
      "do _generate\n",
      "do _generate\n",
      "do _generate\n",
      "do _generate\n"
     ]
    },
    {
     "name": "stderr",
     "output_type": "stream",
     "text": [
      "===> Using batch size 8000. Total 7 iterations/epoch.\n",
      "Iter 0700 | Time 37.7976(35.4265) | Bit/dim 1.5327(1.5935) | Steps 494(484.92) | Grad Norm 6.3383(4.4358) | Total Time 10.00(10.00)\n",
      "Iter 0701 | Time 36.6691(35.4638) | Bit/dim 1.5445(1.5921) | Steps 488(485.01) | Grad Norm 8.5141(4.5582) | Total Time 10.00(10.00)\n",
      "Iter 0702 | Time 37.3292(35.5198) | Bit/dim 1.5412(1.5905) | Steps 488(485.10) | Grad Norm 11.4349(4.7645) | Total Time 10.00(10.00)\n",
      "Iter 0703 | Time 35.7955(35.5280) | Bit/dim 1.5496(1.5893) | Steps 488(485.19) | Grad Norm 14.3228(5.0512) | Total Time 10.00(10.00)\n",
      "Iter 0704 | Time 34.8878(35.5088) | Bit/dim 1.5588(1.5884) | Steps 488(485.27) | Grad Norm 16.8547(5.4053) | Total Time 10.00(10.00)\n",
      "Iter 0705 | Time 35.5218(35.5092) | Bit/dim 1.5579(1.5875) | Steps 488(485.35) | Grad Norm 16.9591(5.7520) | Total Time 10.00(10.00)\n",
      "Iter 0706 | Time 35.5959(35.5118) | Bit/dim 1.5461(1.5862) | Steps 488(485.43) | Grad Norm 13.2949(5.9782) | Total Time 10.00(10.00)\n",
      "validating...\n",
      "Epoch 0101 | Time 10.6545, Epoch Time 276.4191, Bit/dim 1.5122\n"
     ]
    },
    {
     "name": "stdout",
     "output_type": "stream",
     "text": [
      "do _generate\n",
      "do _generate\n",
      "do _generate\n",
      "do _generate\n",
      "do _generate\n",
      "do _generate\n",
      "do _generate\n",
      "do _generate\n"
     ]
    },
    {
     "name": "stderr",
     "output_type": "stream",
     "text": [
      "===> Using batch size 8000. Total 7 iterations/epoch.\n",
      "Iter 0707 | Time 35.4884(35.5111) | Bit/dim 1.5342(1.5847) | Steps 488(485.51) | Grad Norm 6.5176(5.9944) | Total Time 10.00(10.00)\n",
      "Iter 0708 | Time 36.7332(35.5478) | Bit/dim 1.5289(1.5830) | Steps 488(485.58) | Grad Norm 1.2727(5.8528) | Total Time 10.00(10.00)\n",
      "Iter 0709 | Time 34.1087(35.5046) | Bit/dim 1.5265(1.5813) | Steps 482(485.48) | Grad Norm 8.2109(5.9235) | Total Time 10.00(10.00)\n",
      "Iter 0710 | Time 35.1080(35.4927) | Bit/dim 1.5329(1.5798) | Steps 488(485.55) | Grad Norm 12.8266(6.1306) | Total Time 10.00(10.00)\n",
      "Iter 0711 | Time 35.9518(35.5065) | Bit/dim 1.5388(1.5786) | Steps 482(485.44) | Grad Norm 14.0623(6.3686) | Total Time 10.00(10.00)\n",
      "Iter 0712 | Time 35.2237(35.4980) | Bit/dim 1.5326(1.5772) | Steps 488(485.52) | Grad Norm 11.1015(6.5106) | Total Time 10.00(10.00)\n",
      "Iter 0713 | Time 34.5247(35.4688) | Bit/dim 1.5211(1.5756) | Steps 482(485.42) | Grad Norm 5.7255(6.4870) | Total Time 10.00(10.00)\n",
      "validating...\n",
      "Epoch 0102 | Time 10.4399, Epoch Time 270.2577, Bit/dim 1.5001\n"
     ]
    },
    {
     "name": "stdout",
     "output_type": "stream",
     "text": [
      "do _generate\n",
      "do _generate\n",
      "do _generate\n",
      "do _generate\n",
      "do _generate\n",
      "do _generate\n",
      "do _generate\n",
      "do _generate\n"
     ]
    },
    {
     "name": "stderr",
     "output_type": "stream",
     "text": [
      "===> Using batch size 8000. Total 7 iterations/epoch.\n",
      "Iter 0714 | Time 35.4714(35.4689) | Bit/dim 1.5171(1.5738) | Steps 488(485.49) | Grad Norm 1.2183(6.3289) | Total Time 10.00(10.00)\n",
      "Iter 0715 | Time 35.5649(35.4718) | Bit/dim 1.5178(1.5721) | Steps 488(485.57) | Grad Norm 6.9245(6.3468) | Total Time 10.00(10.00)\n",
      "Iter 0716 | Time 35.0160(35.4581) | Bit/dim 1.5265(1.5708) | Steps 482(485.46) | Grad Norm 10.3357(6.4665) | Total Time 10.00(10.00)\n",
      "Iter 0717 | Time 36.5523(35.4909) | Bit/dim 1.5286(1.5695) | Steps 488(485.54) | Grad Norm 10.6573(6.5922) | Total Time 10.00(10.00)\n",
      "Iter 0718 | Time 35.0197(35.4768) | Bit/dim 1.5189(1.5680) | Steps 482(485.43) | Grad Norm 8.2793(6.6428) | Total Time 10.00(10.00)\n",
      "Iter 0719 | Time 37.2891(35.5311) | Bit/dim 1.5154(1.5664) | Steps 488(485.51) | Grad Norm 4.1934(6.5693) | Total Time 10.00(10.00)\n",
      "Iter 0720 | Time 35.3233(35.5249) | Bit/dim 1.5152(1.5649) | Steps 482(485.40) | Grad Norm 0.8064(6.3964) | Total Time 10.00(10.00)\n",
      "validating...\n",
      "Epoch 0103 | Time 10.6221, Epoch Time 272.7667, Bit/dim 1.4942\n"
     ]
    },
    {
     "name": "stdout",
     "output_type": "stream",
     "text": [
      "do _generate\n",
      "do _generate\n",
      "do _generate\n",
      "do _generate\n",
      "do _generate\n",
      "do _generate\n",
      "do _generate\n",
      "do _generate\n"
     ]
    },
    {
     "name": "stderr",
     "output_type": "stream",
     "text": [
      "===> Using batch size 8000. Total 7 iterations/epoch.\n",
      "Iter 0721 | Time 34.4037(35.4913) | Bit/dim 1.5236(1.5636) | Steps 482(485.30) | Grad Norm 4.8260(6.3493) | Total Time 10.00(10.00)\n",
      "Iter 0722 | Time 35.2086(35.4828) | Bit/dim 1.5122(1.5621) | Steps 488(485.38) | Grad Norm 8.1496(6.4033) | Total Time 10.00(10.00)\n",
      "Iter 0723 | Time 34.5111(35.4536) | Bit/dim 1.5159(1.5607) | Steps 482(485.28) | Grad Norm 11.2055(6.5474) | Total Time 10.00(10.00)\n",
      "Iter 0724 | Time 35.0182(35.4406) | Bit/dim 1.5247(1.5596) | Steps 488(485.36) | Grad Norm 13.1399(6.7452) | Total Time 10.00(10.00)\n",
      "Iter 0725 | Time 34.5375(35.4135) | Bit/dim 1.5222(1.5585) | Steps 482(485.26) | Grad Norm 14.2372(6.9699) | Total Time 10.00(10.00)\n",
      "Iter 0726 | Time 35.7275(35.4229) | Bit/dim 1.5237(1.5574) | Steps 488(485.34) | Grad Norm 13.9630(7.1797) | Total Time 10.00(10.00)\n",
      "Iter 0727 | Time 35.2244(35.4170) | Bit/dim 1.5148(1.5562) | Steps 482(485.24) | Grad Norm 12.0332(7.3253) | Total Time 10.00(10.00)\n",
      "validating...\n",
      "Epoch 0104 | Time 10.6472, Epoch Time 267.3881, Bit/dim 1.4929\n"
     ]
    },
    {
     "name": "stdout",
     "output_type": "stream",
     "text": [
      "do _generate\n",
      "do _generate\n",
      "do _generate\n",
      "do _generate\n",
      "do _generate\n",
      "do _generate\n",
      "do _generate\n",
      "do _generate\n"
     ]
    },
    {
     "name": "stderr",
     "output_type": "stream",
     "text": [
      "===> Using batch size 8000. Total 7 iterations/epoch.\n",
      "Iter 0728 | Time 36.1788(35.4398) | Bit/dim 1.5089(1.5547) | Steps 494(485.51) | Grad Norm 8.5204(7.3612) | Total Time 10.00(10.00)\n",
      "Iter 0729 | Time 34.6932(35.4174) | Bit/dim 1.5043(1.5532) | Steps 482(485.40) | Grad Norm 4.4971(7.2753) | Total Time 10.00(10.00)\n",
      "Iter 0730 | Time 35.8694(35.4310) | Bit/dim 1.4994(1.5516) | Steps 488(485.48) | Grad Norm 0.7045(7.0781) | Total Time 10.00(10.00)\n",
      "Iter 0731 | Time 36.3265(35.4578) | Bit/dim 1.5056(1.5502) | Steps 494(485.73) | Grad Norm 3.2096(6.9621) | Total Time 10.00(10.00)\n",
      "Iter 0732 | Time 36.1139(35.4775) | Bit/dim 1.5037(1.5488) | Steps 482(485.62) | Grad Norm 6.9234(6.9609) | Total Time 10.00(10.00)\n",
      "Iter 0733 | Time 37.5655(35.5402) | Bit/dim 1.5076(1.5476) | Steps 494(485.87) | Grad Norm 10.4960(7.0670) | Total Time 10.00(10.00)\n",
      "Iter 0734 | Time 34.2166(35.5004) | Bit/dim 1.5211(1.5468) | Steps 482(485.76) | Grad Norm 15.4132(7.3174) | Total Time 10.00(10.00)\n",
      "validating...\n",
      "Epoch 0105 | Time 10.7652, Epoch Time 274.2956, Bit/dim 1.5186\n"
     ]
    },
    {
     "name": "stdout",
     "output_type": "stream",
     "text": [
      "do _generate\n",
      "do _generate\n",
      "do _generate\n",
      "do _generate\n",
      "do _generate\n",
      "do _generate\n",
      "do _generate\n",
      "do _generate\n"
     ]
    },
    {
     "name": "stderr",
     "output_type": "stream",
     "text": [
      "===> Using batch size 8000. Total 7 iterations/epoch.\n",
      "Iter 0735 | Time 35.7913(35.5092) | Bit/dim 1.5355(1.5465) | Steps 494(486.00) | Grad Norm 19.9026(7.6949) | Total Time 10.00(10.00)\n",
      "Iter 0736 | Time 35.8169(35.5184) | Bit/dim 1.5394(1.5463) | Steps 470(485.52) | Grad Norm 22.6355(8.1431) | Total Time 10.00(10.00)\n",
      "Iter 0737 | Time 36.5690(35.5499) | Bit/dim 1.5463(1.5463) | Steps 494(485.78) | Grad Norm 20.2732(8.5070) | Total Time 10.00(10.00)\n",
      "Iter 0738 | Time 34.8123(35.5278) | Bit/dim 1.5051(1.5450) | Steps 482(485.67) | Grad Norm 11.7814(8.6053) | Total Time 10.00(10.00)\n",
      "Iter 0739 | Time 36.2316(35.5489) | Bit/dim 1.4938(1.5435) | Steps 488(485.74) | Grad Norm 0.5503(8.3636) | Total Time 10.00(10.00)\n",
      "Iter 0740 | Time 36.3440(35.5728) | Bit/dim 1.5062(1.5424) | Steps 494(485.98) | Grad Norm 10.7271(8.4345) | Total Time 10.00(10.00)\n",
      "Iter 0741 | Time 35.3980(35.5675) | Bit/dim 1.5165(1.5416) | Steps 488(486.04) | Grad Norm 16.0649(8.6634) | Total Time 10.00(10.00)\n",
      "validating...\n",
      "Epoch 0106 | Time 10.7627, Epoch Time 273.9931, Bit/dim 1.4977\n"
     ]
    },
    {
     "name": "stdout",
     "output_type": "stream",
     "text": [
      "do _generate\n",
      "do _generate\n",
      "do _generate\n",
      "do _generate\n",
      "do _generate\n",
      "do _generate\n",
      "do _generate\n",
      "do _generate\n"
     ]
    },
    {
     "name": "stderr",
     "output_type": "stream",
     "text": [
      "===> Using batch size 8000. Total 7 iterations/epoch.\n",
      "Iter 0742 | Time 38.0391(35.6417) | Bit/dim 1.5143(1.5408) | Steps 494(486.28) | Grad Norm 14.9137(8.8509) | Total Time 10.00(10.00)\n",
      "Iter 0743 | Time 35.1984(35.6284) | Bit/dim 1.5026(1.5396) | Steps 488(486.33) | Grad Norm 7.8606(8.8212) | Total Time 10.00(10.00)\n",
      "Iter 0744 | Time 34.8446(35.6049) | Bit/dim 1.4866(1.5380) | Steps 488(486.38) | Grad Norm 2.4703(8.6307) | Total Time 10.00(10.00)\n",
      "Iter 0745 | Time 36.1428(35.6210) | Bit/dim 1.5001(1.5369) | Steps 494(486.61) | Grad Norm 10.4545(8.6854) | Total Time 10.00(10.00)\n",
      "Iter 0746 | Time 34.6380(35.5915) | Bit/dim 1.5117(1.5361) | Steps 488(486.65) | Grad Norm 13.7576(8.8376) | Total Time 10.00(10.00)\n",
      "Iter 0747 | Time 35.7611(35.5966) | Bit/dim 1.5036(1.5352) | Steps 494(486.87) | Grad Norm 11.0226(8.9031) | Total Time 10.00(10.00)\n",
      "Iter 0748 | Time 34.3924(35.5605) | Bit/dim 1.4905(1.5338) | Steps 488(486.91) | Grad Norm 4.0524(8.7576) | Total Time 10.00(10.00)\n",
      "validating...\n",
      "Epoch 0107 | Time 10.6022, Epoch Time 271.6830, Bit/dim 1.4724\n"
     ]
    },
    {
     "name": "stdout",
     "output_type": "stream",
     "text": [
      "do _generate\n",
      "do _generate\n",
      "do _generate\n",
      "do _generate\n",
      "do _generate\n",
      "do _generate\n",
      "do _generate\n",
      "do _generate\n"
     ]
    },
    {
     "name": "stderr",
     "output_type": "stream",
     "text": [
      "===> Using batch size 8000. Total 7 iterations/epoch.\n",
      "Iter 0749 | Time 34.9092(35.5409) | Bit/dim 1.4865(1.5324) | Steps 488(486.94) | Grad Norm 4.2901(8.6236) | Total Time 10.00(10.00)\n",
      "Iter 0750 | Time 36.2657(35.5627) | Bit/dim 1.4960(1.5313) | Steps 494(487.15) | Grad Norm 10.0550(8.6665) | Total Time 10.00(10.00)\n",
      "Iter 0751 | Time 35.2755(35.5541) | Bit/dim 1.4995(1.5304) | Steps 488(487.18) | Grad Norm 11.4395(8.7497) | Total Time 10.00(10.00)\n",
      "Iter 0752 | Time 35.3091(35.5467) | Bit/dim 1.5002(1.5295) | Steps 494(487.38) | Grad Norm 9.0146(8.7577) | Total Time 10.00(10.00)\n",
      "Iter 0753 | Time 34.8184(35.5249) | Bit/dim 1.4877(1.5282) | Steps 488(487.40) | Grad Norm 3.9009(8.6120) | Total Time 10.00(10.00)\n",
      "Iter 0754 | Time 34.3772(35.4904) | Bit/dim 1.4849(1.5269) | Steps 488(487.42) | Grad Norm 2.2511(8.4211) | Total Time 10.00(10.00)\n",
      "Iter 0755 | Time 36.8602(35.5315) | Bit/dim 1.4844(1.5256) | Steps 494(487.62) | Grad Norm 7.3482(8.3889) | Total Time 10.00(10.00)\n",
      "validating...\n",
      "Epoch 0108 | Time 10.7675, Epoch Time 270.7304, Bit/dim 1.4761\n"
     ]
    },
    {
     "name": "stdout",
     "output_type": "stream",
     "text": [
      "do _generate\n",
      "do _generate\n",
      "do _generate\n",
      "do _generate\n",
      "do _generate\n",
      "do _generate\n",
      "do _generate\n",
      "do _generate\n"
     ]
    },
    {
     "name": "stderr",
     "output_type": "stream",
     "text": [
      "===> Using batch size 8000. Total 7 iterations/epoch.\n",
      "Iter 0756 | Time 35.2143(35.5220) | Bit/dim 1.4983(1.5248) | Steps 488(487.63) | Grad Norm 11.1637(8.4722) | Total Time 10.00(10.00)\n",
      "Iter 0757 | Time 35.5770(35.5237) | Bit/dim 1.4968(1.5240) | Steps 494(487.82) | Grad Norm 13.1600(8.6128) | Total Time 10.00(10.00)\n",
      "Iter 0758 | Time 35.5462(35.5243) | Bit/dim 1.4976(1.5232) | Steps 488(487.82) | Grad Norm 13.7819(8.7679) | Total Time 10.00(10.00)\n",
      "Iter 0759 | Time 36.2126(35.5450) | Bit/dim 1.4981(1.5224) | Steps 494(488.01) | Grad Norm 12.7680(8.8879) | Total Time 10.00(10.00)\n",
      "Iter 0760 | Time 34.7809(35.5221) | Bit/dim 1.4847(1.5213) | Steps 488(488.01) | Grad Norm 10.9165(8.9488) | Total Time 10.00(10.00)\n",
      "Iter 0761 | Time 35.4011(35.5184) | Bit/dim 1.4801(1.5201) | Steps 494(488.19) | Grad Norm 8.3266(8.9301) | Total Time 10.00(10.00)\n",
      "Iter 0762 | Time 37.2813(35.5713) | Bit/dim 1.4838(1.5190) | Steps 488(488.18) | Grad Norm 5.4293(8.8251) | Total Time 10.00(10.00)\n",
      "validating...\n",
      "Epoch 0109 | Time 10.7152, Epoch Time 273.1758, Bit/dim 1.4608\n"
     ]
    },
    {
     "name": "stdout",
     "output_type": "stream",
     "text": [
      "do _generate\n",
      "do _generate\n",
      "do _generate\n",
      "do _generate\n",
      "do _generate\n",
      "do _generate\n",
      "do _generate\n",
      "do _generate\n"
     ]
    },
    {
     "name": "stderr",
     "output_type": "stream",
     "text": [
      "===> Using batch size 8000. Total 7 iterations/epoch.\n",
      "Iter 0763 | Time 36.0151(35.5846) | Bit/dim 1.4754(1.5177) | Steps 488(488.18) | Grad Norm 2.8532(8.6459) | Total Time 10.00(10.00)\n",
      "Iter 0764 | Time 35.2585(35.5748) | Bit/dim 1.4812(1.5166) | Steps 488(488.17) | Grad Norm 0.6689(8.4066) | Total Time 10.00(10.00)\n",
      "Iter 0765 | Time 35.2517(35.5652) | Bit/dim 1.4776(1.5154) | Steps 488(488.17) | Grad Norm 1.6316(8.2033) | Total Time 10.00(10.00)\n",
      "Iter 0766 | Time 35.7557(35.5709) | Bit/dim 1.4740(1.5142) | Steps 488(488.16) | Grad Norm 3.7338(8.0693) | Total Time 10.00(10.00)\n",
      "Iter 0767 | Time 34.9308(35.5517) | Bit/dim 1.4730(1.5129) | Steps 488(488.16) | Grad Norm 6.4371(8.0203) | Total Time 10.00(10.00)\n",
      "Iter 0768 | Time 36.6486(35.5846) | Bit/dim 1.4825(1.5120) | Steps 494(488.33) | Grad Norm 10.3545(8.0903) | Total Time 10.00(10.00)\n",
      "Iter 0769 | Time 35.4606(35.5809) | Bit/dim 1.4949(1.5115) | Steps 488(488.32) | Grad Norm 16.8428(8.3529) | Total Time 10.00(10.00)\n",
      "validating...\n",
      "Epoch 0110 | Time 10.7272, Epoch Time 272.6742, Bit/dim 1.5093\n"
     ]
    },
    {
     "name": "stdout",
     "output_type": "stream",
     "text": [
      "do _generate\n",
      "do _generate\n",
      "do _generate\n",
      "do _generate\n",
      "do _generate\n",
      "do _generate\n",
      "do _generate\n",
      "do _generate\n"
     ]
    },
    {
     "name": "stderr",
     "output_type": "stream",
     "text": [
      "===> Using batch size 8000. Total 7 iterations/epoch.\n",
      "Iter 0770 | Time 37.3895(35.6351) | Bit/dim 1.5320(1.5121) | Steps 494(488.49) | Grad Norm 24.6656(8.8423) | Total Time 10.00(10.00)\n",
      "Iter 0771 | Time 35.6048(35.6342) | Bit/dim 1.5607(1.5136) | Steps 476(488.12) | Grad Norm 31.5026(9.5221) | Total Time 10.00(10.00)\n",
      "Iter 0772 | Time 35.8000(35.6392) | Bit/dim 1.5612(1.5150) | Steps 494(488.30) | Grad Norm 29.5689(10.1235) | Total Time 10.00(10.00)\n",
      "Iter 0773 | Time 35.2471(35.6274) | Bit/dim 1.4945(1.5144) | Steps 488(488.29) | Grad Norm 15.5590(10.2866) | Total Time 10.00(10.00)\n",
      "Iter 0774 | Time 35.6393(35.6278) | Bit/dim 1.4774(1.5133) | Steps 488(488.28) | Grad Norm 4.1720(10.1031) | Total Time 10.00(10.00)\n",
      "Iter 0775 | Time 36.9087(35.6662) | Bit/dim 1.5002(1.5129) | Steps 494(488.45) | Grad Norm 18.4015(10.3521) | Total Time 10.00(10.00)\n",
      "Iter 0776 | Time 35.1177(35.6497) | Bit/dim 1.5078(1.5127) | Steps 476(488.08) | Grad Norm 18.7174(10.6030) | Total Time 10.00(10.00)\n",
      "validating...\n",
      "Epoch 0111 | Time 10.6977, Epoch Time 274.5736, Bit/dim 1.4593\n"
     ]
    },
    {
     "name": "stdout",
     "output_type": "stream",
     "text": [
      "do _generate\n",
      "do _generate\n",
      "do _generate\n",
      "do _generate\n",
      "do _generate\n",
      "do _generate\n",
      "do _generate\n",
      "do _generate\n"
     ]
    },
    {
     "name": "stderr",
     "output_type": "stream",
     "text": [
      "===> Using batch size 8000. Total 7 iterations/epoch.\n",
      "Iter 0777 | Time 36.3160(35.6697) | Bit/dim 1.4727(1.5115) | Steps 488(488.07) | Grad Norm 6.9050(10.4921) | Total Time 10.00(10.00)\n",
      "Iter 0778 | Time 36.4204(35.6923) | Bit/dim 1.4775(1.5105) | Steps 488(488.07) | Grad Norm 8.3137(10.4267) | Total Time 10.00(10.00)\n",
      "Iter 0779 | Time 33.8561(35.6372) | Bit/dim 1.4949(1.5100) | Steps 476(487.71) | Grad Norm 16.2163(10.6004) | Total Time 10.00(10.00)\n",
      "Iter 0780 | Time 35.9875(35.6477) | Bit/dim 1.4832(1.5092) | Steps 488(487.72) | Grad Norm 11.1570(10.6171) | Total Time 10.00(10.00)\n",
      "Iter 0781 | Time 35.1221(35.6319) | Bit/dim 1.4686(1.5080) | Steps 488(487.73) | Grad Norm 1.0645(10.3305) | Total Time 10.00(10.00)\n",
      "Iter 0782 | Time 34.2350(35.5900) | Bit/dim 1.4848(1.5073) | Steps 476(487.37) | Grad Norm 11.1483(10.3551) | Total Time 10.00(10.00)\n",
      "Iter 0783 | Time 34.9909(35.5720) | Bit/dim 1.4836(1.5066) | Steps 488(487.39) | Grad Norm 11.8006(10.3984) | Total Time 10.00(10.00)\n",
      "validating...\n",
      "Epoch 0112 | Time 10.9241, Epoch Time 269.8779, Bit/dim 1.4524\n"
     ]
    },
    {
     "name": "stdout",
     "output_type": "stream",
     "text": [
      "do _generate\n",
      "do _generate\n",
      "do _generate\n",
      "do _generate\n",
      "do _generate\n",
      "do _generate\n",
      "do _generate\n",
      "do _generate\n"
     ]
    },
    {
     "name": "stderr",
     "output_type": "stream",
     "text": [
      "===> Using batch size 8000. Total 7 iterations/epoch.\n",
      "Iter 0784 | Time 34.6636(35.5448) | Bit/dim 1.4739(1.5056) | Steps 488(487.41) | Grad Norm 3.5908(10.1942) | Total Time 10.00(10.00)\n",
      "Iter 0785 | Time 35.1409(35.5327) | Bit/dim 1.4693(1.5045) | Steps 488(487.43) | Grad Norm 6.6397(10.0876) | Total Time 10.00(10.00)\n",
      "Iter 0786 | Time 35.2809(35.5251) | Bit/dim 1.4720(1.5036) | Steps 488(487.45) | Grad Norm 11.0084(10.1152) | Total Time 10.00(10.00)\n",
      "Iter 0787 | Time 34.9764(35.5086) | Bit/dim 1.4746(1.5027) | Steps 488(487.46) | Grad Norm 7.2152(10.0282) | Total Time 10.00(10.00)\n",
      "Iter 0788 | Time 34.9017(35.4904) | Bit/dim 1.4662(1.5016) | Steps 488(487.48) | Grad Norm 0.9645(9.7563) | Total Time 10.00(10.00)\n",
      "Iter 0789 | Time 35.4031(35.4878) | Bit/dim 1.4689(1.5006) | Steps 488(487.49) | Grad Norm 8.0039(9.7037) | Total Time 10.00(10.00)\n",
      "Iter 0790 | Time 35.2795(35.4816) | Bit/dim 1.4688(1.4997) | Steps 488(487.51) | Grad Norm 10.4178(9.7251) | Total Time 10.00(10.00)\n",
      "validating...\n",
      "Epoch 0113 | Time 10.7478, Epoch Time 268.4587, Bit/dim 1.4503\n"
     ]
    },
    {
     "name": "stdout",
     "output_type": "stream",
     "text": [
      "do _generate\n",
      "do _generate\n",
      "do _generate\n",
      "do _generate\n",
      "do _generate\n",
      "do _generate\n",
      "do _generate\n",
      "do _generate\n"
     ]
    },
    {
     "name": "stderr",
     "output_type": "stream",
     "text": [
      "===> Using batch size 8000. Total 7 iterations/epoch.\n",
      "Iter 0791 | Time 34.8952(35.4640) | Bit/dim 1.4708(1.4988) | Steps 488(487.52) | Grad Norm 7.5856(9.6610) | Total Time 10.00(10.00)\n",
      "Iter 0792 | Time 34.7641(35.4430) | Bit/dim 1.4630(1.4977) | Steps 488(487.54) | Grad Norm 2.0549(9.4328) | Total Time 10.00(10.00)\n",
      "Iter 0793 | Time 34.6426(35.4190) | Bit/dim 1.4643(1.4967) | Steps 488(487.55) | Grad Norm 4.2392(9.2770) | Total Time 10.00(10.00)\n",
      "Iter 0794 | Time 35.6466(35.4258) | Bit/dim 1.4617(1.4957) | Steps 488(487.57) | Grad Norm 8.8182(9.2632) | Total Time 10.00(10.00)\n",
      "Iter 0795 | Time 35.0954(35.4159) | Bit/dim 1.4737(1.4950) | Steps 488(487.58) | Grad Norm 11.1639(9.3202) | Total Time 10.00(10.00)\n",
      "Iter 0796 | Time 35.5262(35.4192) | Bit/dim 1.4642(1.4941) | Steps 494(487.77) | Grad Norm 10.7780(9.3640) | Total Time 10.00(10.00)\n",
      "Iter 0797 | Time 35.0605(35.4084) | Bit/dim 1.4642(1.4932) | Steps 488(487.78) | Grad Norm 8.7114(9.3444) | Total Time 10.00(10.00)\n",
      "validating...\n",
      "Epoch 0114 | Time 10.8152, Epoch Time 268.6913, Bit/dim 1.4436\n"
     ]
    },
    {
     "name": "stdout",
     "output_type": "stream",
     "text": [
      "do _generate\n",
      "do _generate\n",
      "do _generate\n",
      "do _generate\n",
      "do _generate\n",
      "do _generate\n",
      "do _generate\n",
      "do _generate\n"
     ]
    },
    {
     "name": "stderr",
     "output_type": "stream",
     "text": [
      "===> Using batch size 8000. Total 7 iterations/epoch.\n",
      "Iter 0798 | Time 34.8801(35.3926) | Bit/dim 1.4583(1.4921) | Steps 488(487.79) | Grad Norm 5.7440(9.2364) | Total Time 10.00(10.00)\n",
      "Iter 0799 | Time 34.6246(35.3695) | Bit/dim 1.4584(1.4911) | Steps 488(487.79) | Grad Norm 2.2731(9.0275) | Total Time 10.00(10.00)\n",
      "Iter 0800 | Time 34.9379(35.3566) | Bit/dim 1.4539(1.4900) | Steps 488(487.80) | Grad Norm 0.9009(8.7837) | Total Time 10.00(10.00)\n",
      "Iter 0801 | Time 35.2986(35.3549) | Bit/dim 1.4568(1.4890) | Steps 488(487.80) | Grad Norm 3.7193(8.6317) | Total Time 10.00(10.00)\n",
      "Iter 0802 | Time 34.9055(35.3414) | Bit/dim 1.4552(1.4880) | Steps 488(487.81) | Grad Norm 6.5184(8.5683) | Total Time 10.00(10.00)\n",
      "Iter 0803 | Time 37.3422(35.4014) | Bit/dim 1.4658(1.4873) | Steps 494(488.00) | Grad Norm 9.8194(8.6059) | Total Time 10.00(10.00)\n",
      "Iter 0804 | Time 34.8376(35.3845) | Bit/dim 1.4701(1.4868) | Steps 488(488.00) | Grad Norm 14.1240(8.7714) | Total Time 10.00(10.00)\n",
      "validating...\n",
      "Epoch 0115 | Time 11.0759, Epoch Time 269.9730, Bit/dim 1.4652\n"
     ]
    },
    {
     "name": "stdout",
     "output_type": "stream",
     "text": [
      "do _generate\n",
      "do _generate\n",
      "do _generate\n",
      "do _generate\n",
      "do _generate\n",
      "do _generate\n",
      "do _generate\n",
      "do _generate\n"
     ]
    },
    {
     "name": "stderr",
     "output_type": "stream",
     "text": [
      "===> Using batch size 8000. Total 7 iterations/epoch.\n",
      "Iter 0805 | Time 37.7813(35.4564) | Bit/dim 1.4839(1.4867) | Steps 494(488.18) | Grad Norm 19.4548(9.0919) | Total Time 10.00(10.00)\n",
      "Iter 0806 | Time 34.2272(35.4195) | Bit/dim 1.5086(1.4874) | Steps 488(488.17) | Grad Norm 25.1903(9.5749) | Total Time 10.00(10.00)\n",
      "Iter 0807 | Time 37.2084(35.4732) | Bit/dim 1.5181(1.4883) | Steps 494(488.35) | Grad Norm 27.4545(10.1113) | Total Time 10.00(10.00)\n",
      "Iter 0808 | Time 34.9848(35.4585) | Bit/dim 1.5034(1.4888) | Steps 488(488.34) | Grad Norm 23.3089(10.5072) | Total Time 10.00(10.00)\n",
      "Iter 0809 | Time 36.5703(35.4919) | Bit/dim 1.4673(1.4881) | Steps 494(488.51) | Grad Norm 12.4056(10.5641) | Total Time 10.00(10.00)\n",
      "Iter 0810 | Time 34.8927(35.4739) | Bit/dim 1.4509(1.4870) | Steps 488(488.49) | Grad Norm 1.6635(10.2971) | Total Time 10.00(10.00)\n",
      "Iter 0811 | Time 34.6961(35.4506) | Bit/dim 1.4665(1.4864) | Steps 488(488.48) | Grad Norm 12.7951(10.3721) | Total Time 10.00(10.00)\n",
      "validating...\n",
      "Epoch 0116 | Time 10.7617, Epoch Time 273.4218, Bit/dim 1.4613\n"
     ]
    },
    {
     "name": "stdout",
     "output_type": "stream",
     "text": [
      "do _generate\n",
      "do _generate\n",
      "do _generate\n",
      "do _generate\n",
      "do _generate\n",
      "do _generate\n",
      "do _generate\n",
      "do _generate\n"
     ]
    },
    {
     "name": "stderr",
     "output_type": "stream",
     "text": [
      "===> Using batch size 8000. Total 7 iterations/epoch.\n",
      "Iter 0812 | Time 34.9518(35.4356) | Bit/dim 1.4811(1.4862) | Steps 488(488.46) | Grad Norm 17.3818(10.5824) | Total Time 10.00(10.00)\n",
      "Iter 0813 | Time 34.3637(35.4035) | Bit/dim 1.4658(1.4856) | Steps 488(488.45) | Grad Norm 12.9844(10.6544) | Total Time 10.00(10.00)\n",
      "Iter 0814 | Time 34.9065(35.3885) | Bit/dim 1.4545(1.4847) | Steps 488(488.43) | Grad Norm 2.2248(10.4015) | Total Time 10.00(10.00)\n",
      "Iter 0815 | Time 35.3657(35.3879) | Bit/dim 1.4592(1.4839) | Steps 494(488.60) | Grad Norm 8.6772(10.3498) | Total Time 10.00(10.00)\n",
      "Iter 0816 | Time 33.9661(35.3452) | Bit/dim 1.4668(1.4834) | Steps 476(488.22) | Grad Norm 13.9929(10.4591) | Total Time 10.00(10.00)\n",
      "Iter 0817 | Time 35.9007(35.3619) | Bit/dim 1.4570(1.4826) | Steps 488(488.22) | Grad Norm 11.1101(10.4786) | Total Time 10.00(10.00)\n",
      "Iter 0818 | Time 36.5758(35.3983) | Bit/dim 1.4472(1.4815) | Steps 488(488.21) | Grad Norm 3.0209(10.2549) | Total Time 10.00(10.00)\n",
      "validating...\n",
      "Epoch 0117 | Time 10.9577, Epoch Time 269.1687, Bit/dim 1.4339\n"
     ]
    },
    {
     "name": "stdout",
     "output_type": "stream",
     "text": [
      "do _generate\n",
      "do _generate\n",
      "do _generate\n",
      "do _generate\n",
      "do _generate\n",
      "do _generate\n",
      "do _generate\n",
      "do _generate\n"
     ]
    },
    {
     "name": "stderr",
     "output_type": "stream",
     "text": [
      "===> Using batch size 8000. Total 7 iterations/epoch.\n",
      "Iter 0819 | Time 34.8932(35.3831) | Bit/dim 1.4567(1.4808) | Steps 488(488.20) | Grad Norm 6.2708(10.1354) | Total Time 10.00(10.00)\n",
      "Iter 0820 | Time 35.2130(35.3780) | Bit/dim 1.4592(1.4802) | Steps 488(488.20) | Grad Norm 11.9027(10.1884) | Total Time 10.00(10.00)\n",
      "Iter 0821 | Time 34.9667(35.3657) | Bit/dim 1.4571(1.4795) | Steps 488(488.19) | Grad Norm 11.6279(10.2316) | Total Time 10.00(10.00)\n",
      "Iter 0822 | Time 34.2052(35.3309) | Bit/dim 1.4524(1.4787) | Steps 488(488.19) | Grad Norm 6.3355(10.1147) | Total Time 10.00(10.00)\n",
      "Iter 0823 | Time 35.3066(35.3301) | Bit/dim 1.4449(1.4776) | Steps 488(488.18) | Grad Norm 0.9209(9.8389) | Total Time 10.00(10.00)\n",
      "Iter 0824 | Time 37.2536(35.3879) | Bit/dim 1.4425(1.4766) | Steps 488(488.17) | Grad Norm 7.0701(9.7558) | Total Time 10.00(10.00)\n",
      "Iter 0825 | Time 35.9810(35.4056) | Bit/dim 1.4566(1.4760) | Steps 488(488.17) | Grad Norm 10.7014(9.7842) | Total Time 10.00(10.00)\n",
      "validating...\n",
      "Epoch 0118 | Time 10.8811, Epoch Time 270.7042, Bit/dim 1.4366\n"
     ]
    },
    {
     "name": "stdout",
     "output_type": "stream",
     "text": [
      "do _generate\n",
      "do _generate\n",
      "do _generate\n",
      "do _generate\n",
      "do _generate\n",
      "do _generate\n",
      "do _generate\n",
      "do _generate\n"
     ]
    },
    {
     "name": "stderr",
     "output_type": "stream",
     "text": [
      "===> Using batch size 8000. Total 7 iterations/epoch.\n",
      "Iter 0826 | Time 36.5941(35.4413) | Bit/dim 1.4554(1.4754) | Steps 488(488.16) | Grad Norm 11.0969(9.8236) | Total Time 10.00(10.00)\n",
      "Iter 0827 | Time 34.7854(35.4216) | Bit/dim 1.4485(1.4746) | Steps 488(488.16) | Grad Norm 8.6150(9.7873) | Total Time 10.00(10.00)\n",
      "Iter 0828 | Time 36.3812(35.4504) | Bit/dim 1.4464(1.4737) | Steps 488(488.15) | Grad Norm 5.2187(9.6502) | Total Time 10.00(10.00)\n",
      "Iter 0829 | Time 35.9413(35.4651) | Bit/dim 1.4379(1.4726) | Steps 488(488.15) | Grad Norm 1.6006(9.4088) | Total Time 10.00(10.00)\n",
      "Iter 0830 | Time 34.9643(35.4501) | Bit/dim 1.4443(1.4718) | Steps 488(488.15) | Grad Norm 2.2638(9.1944) | Total Time 10.00(10.00)\n",
      "Iter 0831 | Time 34.4005(35.4186) | Bit/dim 1.4466(1.4710) | Steps 488(488.14) | Grad Norm 5.7438(9.0909) | Total Time 10.00(10.00)\n",
      "Iter 0832 | Time 35.3731(35.4173) | Bit/dim 1.4416(1.4702) | Steps 488(488.14) | Grad Norm 8.8355(9.0832) | Total Time 10.00(10.00)\n",
      "validating...\n",
      "Epoch 0119 | Time 10.8888, Epoch Time 271.3011, Bit/dim 1.4345\n"
     ]
    },
    {
     "name": "stdout",
     "output_type": "stream",
     "text": [
      "do _generate\n",
      "do _generate\n",
      "do _generate\n",
      "do _generate\n",
      "do _generate\n",
      "do _generate\n",
      "do _generate\n",
      "do _generate\n"
     ]
    },
    {
     "name": "stderr",
     "output_type": "stream",
     "text": [
      "===> Using batch size 8000. Total 7 iterations/epoch.\n",
      "Iter 0833 | Time 35.3811(35.4162) | Bit/dim 1.4474(1.4695) | Steps 488(488.13) | Grad Norm 12.2359(9.1778) | Total Time 10.00(10.00)\n",
      "Iter 0834 | Time 36.9689(35.4628) | Bit/dim 1.4600(1.4692) | Steps 494(488.31) | Grad Norm 16.5811(9.3999) | Total Time 10.00(10.00)\n",
      "Iter 0835 | Time 35.7341(35.4709) | Bit/dim 1.4738(1.4693) | Steps 488(488.30) | Grad Norm 20.9526(9.7465) | Total Time 10.00(10.00)\n",
      "Iter 0836 | Time 37.0097(35.5171) | Bit/dim 1.4851(1.4698) | Steps 494(488.47) | Grad Norm 23.6559(10.1638) | Total Time 10.00(10.00)\n",
      "Iter 0837 | Time 35.1586(35.5063) | Bit/dim 1.4860(1.4703) | Steps 488(488.46) | Grad Norm 23.2740(10.5571) | Total Time 10.00(10.00)\n",
      "Iter 0838 | Time 37.2214(35.5578) | Bit/dim 1.4648(1.4701) | Steps 494(488.62) | Grad Norm 18.4260(10.7931) | Total Time 10.00(10.00)\n",
      "Iter 0839 | Time 35.5066(35.5562) | Bit/dim 1.4452(1.4694) | Steps 494(488.78) | Grad Norm 9.6170(10.7579) | Total Time 10.00(10.00)\n",
      "validating...\n",
      "Epoch 0120 | Time 10.9991, Epoch Time 276.0298, Bit/dim 1.4211\n"
     ]
    },
    {
     "name": "stdout",
     "output_type": "stream",
     "text": [
      "do _generate\n",
      "do _generate\n",
      "do _generate\n",
      "do _generate\n",
      "do _generate\n",
      "do _generate\n",
      "do _generate\n",
      "do _generate\n"
     ]
    },
    {
     "name": "stderr",
     "output_type": "stream",
     "text": [
      "===> Using batch size 8000. Total 7 iterations/epoch.\n",
      "Iter 0840 | Time 35.1660(35.5445) | Bit/dim 1.4367(1.4684) | Steps 494(488.94) | Grad Norm 0.8590(10.4609) | Total Time 10.00(10.00)\n",
      "Iter 0841 | Time 35.3006(35.5372) | Bit/dim 1.4462(1.4677) | Steps 494(489.09) | Grad Norm 9.1157(10.4205) | Total Time 10.00(10.00)\n",
      "Iter 0842 | Time 36.9732(35.5803) | Bit/dim 1.4540(1.4673) | Steps 494(489.24) | Grad Norm 13.9294(10.5258) | Total Time 10.00(10.00)\n",
      "Iter 0843 | Time 35.4418(35.5761) | Bit/dim 1.4491(1.4668) | Steps 494(489.38) | Grad Norm 13.7898(10.6237) | Total Time 10.00(10.00)\n",
      "Iter 0844 | Time 35.9535(35.5874) | Bit/dim 1.4427(1.4660) | Steps 494(489.52) | Grad Norm 9.1837(10.5805) | Total Time 10.00(10.00)\n",
      "Iter 0845 | Time 35.2299(35.5767) | Bit/dim 1.4331(1.4651) | Steps 494(489.66) | Grad Norm 1.5024(10.3082) | Total Time 10.00(10.00)\n",
      "Iter 0846 | Time 35.4249(35.5722) | Bit/dim 1.4426(1.4644) | Steps 494(489.79) | Grad Norm 6.1920(10.1847) | Total Time 10.00(10.00)\n",
      "validating...\n",
      "Epoch 0121 | Time 11.0229, Epoch Time 272.4927, Bit/dim 1.4278\n"
     ]
    },
    {
     "name": "stdout",
     "output_type": "stream",
     "text": [
      "do _generate\n",
      "do _generate\n",
      "do _generate\n",
      "do _generate\n",
      "do _generate\n",
      "do _generate\n",
      "do _generate\n",
      "do _generate\n"
     ]
    },
    {
     "name": "stderr",
     "output_type": "stream",
     "text": [
      "===> Using batch size 8000. Total 7 iterations/epoch.\n",
      "Iter 0847 | Time 35.3820(35.5665) | Bit/dim 1.4458(1.4638) | Steps 494(489.91) | Grad Norm 10.9603(10.2080) | Total Time 10.00(10.00)\n",
      "Iter 0848 | Time 35.1274(35.5533) | Bit/dim 1.4473(1.4633) | Steps 494(490.03) | Grad Norm 12.1557(10.2664) | Total Time 10.00(10.00)\n",
      "Iter 0849 | Time 35.6038(35.5548) | Bit/dim 1.4429(1.4627) | Steps 494(490.15) | Grad Norm 10.1639(10.2633) | Total Time 10.00(10.00)\n",
      "Iter 0850 | Time 35.5042(35.5533) | Bit/dim 1.4344(1.4619) | Steps 494(490.27) | Grad Norm 5.6140(10.1238) | Total Time 10.00(10.00)\n",
      "Iter 0851 | Time 35.3011(35.5457) | Bit/dim 1.4360(1.4611) | Steps 494(490.38) | Grad Norm 0.4808(9.8345) | Total Time 10.00(10.00)\n",
      "Iter 0852 | Time 35.5586(35.5461) | Bit/dim 1.4344(1.4603) | Steps 494(490.49) | Grad Norm 4.4040(9.6716) | Total Time 10.00(10.00)\n",
      "Iter 0853 | Time 35.4701(35.5438) | Bit/dim 1.4331(1.4595) | Steps 494(490.59) | Grad Norm 8.0196(9.6221) | Total Time 10.00(10.00)\n",
      "validating...\n",
      "Epoch 0122 | Time 10.8061, Epoch Time 270.9021, Bit/dim 1.4246\n"
     ]
    },
    {
     "name": "stdout",
     "output_type": "stream",
     "text": [
      "do _generate\n",
      "do _generate\n",
      "do _generate\n",
      "do _generate\n",
      "do _generate\n",
      "do _generate\n",
      "do _generate\n",
      "do _generate\n"
     ]
    },
    {
     "name": "stderr",
     "output_type": "stream",
     "text": [
      "===> Using batch size 8000. Total 7 iterations/epoch.\n",
      "Iter 0854 | Time 35.6230(35.5462) | Bit/dim 1.4337(1.4587) | Steps 494(490.70) | Grad Norm 10.8172(9.6579) | Total Time 10.00(10.00)\n",
      "Iter 0855 | Time 35.2251(35.5366) | Bit/dim 1.4448(1.4583) | Steps 494(490.80) | Grad Norm 13.0127(9.7586) | Total Time 10.00(10.00)\n",
      "Iter 0856 | Time 35.5152(35.5359) | Bit/dim 1.4457(1.4579) | Steps 494(490.89) | Grad Norm 14.7203(9.9074) | Total Time 10.00(10.00)\n",
      "Iter 0857 | Time 36.1767(35.5551) | Bit/dim 1.4538(1.4578) | Steps 500(491.17) | Grad Norm 15.7149(10.0816) | Total Time 10.00(10.00)\n",
      "Iter 0858 | Time 34.9345(35.5365) | Bit/dim 1.4522(1.4576) | Steps 494(491.25) | Grad Norm 16.6308(10.2781) | Total Time 10.00(10.00)\n",
      "Iter 0859 | Time 37.8737(35.6066) | Bit/dim 1.4521(1.4575) | Steps 500(491.51) | Grad Norm 17.1279(10.4836) | Total Time 10.00(10.00)\n",
      "Iter 0860 | Time 35.0252(35.5892) | Bit/dim 1.4508(1.4573) | Steps 494(491.59) | Grad Norm 16.3948(10.6610) | Total Time 10.00(10.00)\n",
      "validating...\n",
      "Epoch 0123 | Time 11.1592, Epoch Time 273.6833, Bit/dim 1.4271\n"
     ]
    },
    {
     "name": "stdout",
     "output_type": "stream",
     "text": [
      "do _generate\n",
      "do _generate\n",
      "do _generate\n",
      "do _generate\n",
      "do _generate\n",
      "do _generate\n",
      "do _generate\n",
      "do _generate\n"
     ]
    },
    {
     "name": "stderr",
     "output_type": "stream",
     "text": [
      "===> Using batch size 8000. Total 7 iterations/epoch.\n",
      "Iter 0861 | Time 37.9807(35.6609) | Bit/dim 1.4440(1.4569) | Steps 500(491.84) | Grad Norm 14.4088(10.7734) | Total Time 10.00(10.00)\n",
      "Iter 0862 | Time 35.4388(35.6543) | Bit/dim 1.4424(1.4564) | Steps 494(491.90) | Grad Norm 11.3971(10.7921) | Total Time 10.00(10.00)\n",
      "Iter 0863 | Time 35.7258(35.6564) | Bit/dim 1.4268(1.4555) | Steps 494(491.97) | Grad Norm 7.4877(10.6930) | Total Time 10.00(10.00)\n",
      "Iter 0864 | Time 35.5885(35.6544) | Bit/dim 1.4237(1.4546) | Steps 494(492.03) | Grad Norm 2.6769(10.4525) | Total Time 10.00(10.00)\n",
      "Iter 0865 | Time 36.7954(35.6886) | Bit/dim 1.4240(1.4537) | Steps 494(492.09) | Grad Norm 1.9468(10.1973) | Total Time 10.00(10.00)\n",
      "Iter 0866 | Time 34.9252(35.6657) | Bit/dim 1.4305(1.4530) | Steps 494(492.15) | Grad Norm 5.5957(10.0593) | Total Time 10.00(10.00)\n",
      "Iter 0867 | Time 35.2837(35.6543) | Bit/dim 1.4356(1.4524) | Steps 494(492.20) | Grad Norm 8.6742(10.0177) | Total Time 10.00(10.00)\n",
      "validating...\n",
      "Epoch 0124 | Time 11.2943, Epoch Time 275.1277, Bit/dim 1.4163\n"
     ]
    },
    {
     "name": "stdout",
     "output_type": "stream",
     "text": [
      "do _generate\n",
      "do _generate\n",
      "do _generate\n",
      "do _generate\n",
      "do _generate\n",
      "do _generate\n",
      "do _generate\n",
      "do _generate\n"
     ]
    },
    {
     "name": "stderr",
     "output_type": "stream",
     "text": [
      "===> Using batch size 8000. Total 7 iterations/epoch.\n",
      "Iter 0868 | Time 37.2475(35.7021) | Bit/dim 1.4380(1.4520) | Steps 494(492.25) | Grad Norm 11.1382(10.0513) | Total Time 10.00(10.00)\n",
      "Iter 0869 | Time 35.3368(35.6911) | Bit/dim 1.4360(1.4515) | Steps 494(492.31) | Grad Norm 13.1949(10.1456) | Total Time 10.00(10.00)\n",
      "Iter 0870 | Time 36.2138(35.7068) | Bit/dim 1.4391(1.4512) | Steps 494(492.36) | Grad Norm 14.6397(10.2805) | Total Time 10.00(10.00)\n",
      "Iter 0871 | Time 36.0556(35.7172) | Bit/dim 1.4414(1.4509) | Steps 494(492.41) | Grad Norm 15.8478(10.4475) | Total Time 10.00(10.00)\n",
      "Iter 0872 | Time 36.2506(35.7332) | Bit/dim 1.4462(1.4507) | Steps 500(492.63) | Grad Norm 16.4498(10.6275) | Total Time 10.00(10.00)\n",
      "Iter 0873 | Time 36.1355(35.7453) | Bit/dim 1.4417(1.4505) | Steps 494(492.68) | Grad Norm 16.2662(10.7967) | Total Time 10.00(10.00)\n",
      "Iter 0874 | Time 35.0859(35.7255) | Bit/dim 1.4422(1.4502) | Steps 494(492.72) | Grad Norm 14.8596(10.9186) | Total Time 10.00(10.00)\n",
      "validating...\n",
      "Epoch 0125 | Time 10.8380, Epoch Time 275.3530, Bit/dim 1.4183\n"
     ]
    },
    {
     "name": "stdout",
     "output_type": "stream",
     "text": [
      "do _generate\n",
      "do _generate\n",
      "do _generate\n",
      "do _generate\n",
      "do _generate\n",
      "do _generate\n",
      "do _generate\n",
      "do _generate\n"
     ]
    },
    {
     "name": "stderr",
     "output_type": "stream",
     "text": [
      "===> Using batch size 8000. Total 7 iterations/epoch.\n",
      "Iter 0875 | Time 35.6910(35.7245) | Bit/dim 1.4339(1.4497) | Steps 494(492.75) | Grad Norm 12.4258(10.9638) | Total Time 10.00(10.00)\n",
      "Iter 0876 | Time 35.2236(35.7095) | Bit/dim 1.4269(1.4490) | Steps 494(492.79) | Grad Norm 9.0110(10.9052) | Total Time 10.00(10.00)\n",
      "Iter 0877 | Time 36.6898(35.7389) | Bit/dim 1.4222(1.4482) | Steps 494(492.83) | Grad Norm 5.0429(10.7294) | Total Time 10.00(10.00)\n",
      "Iter 0878 | Time 35.6900(35.7374) | Bit/dim 1.4229(1.4475) | Steps 494(492.86) | Grad Norm 1.1126(10.4409) | Total Time 10.00(10.00)\n",
      "Iter 0879 | Time 35.0634(35.7172) | Bit/dim 1.4193(1.4466) | Steps 494(492.90) | Grad Norm 2.8357(10.2127) | Total Time 10.00(10.00)\n",
      "Iter 0880 | Time 35.0298(35.6966) | Bit/dim 1.4204(1.4458) | Steps 494(492.93) | Grad Norm 6.3796(10.0977) | Total Time 10.00(10.00)\n",
      "Iter 0881 | Time 36.7795(35.7291) | Bit/dim 1.4286(1.4453) | Steps 494(492.96) | Grad Norm 9.5966(10.0827) | Total Time 10.00(10.00)\n",
      "validating...\n",
      "Epoch 0126 | Time 11.0525, Epoch Time 273.6633, Bit/dim 1.4162\n"
     ]
    },
    {
     "name": "stdout",
     "output_type": "stream",
     "text": [
      "do _generatedo _generate\n",
      "\n",
      "do _generate\n",
      "do _generate\n",
      "do _generate\n",
      "do _generate\n",
      "do _generate\n",
      "do _generate\n"
     ]
    },
    {
     "name": "stderr",
     "output_type": "stream",
     "text": [
      "===> Using batch size 8000. Total 7 iterations/epoch.\n",
      "Iter 0882 | Time 34.6222(35.6959) | Bit/dim 1.4312(1.4449) | Steps 494(492.99) | Grad Norm 13.0197(10.1708) | Total Time 10.00(10.00)\n",
      "Iter 0883 | Time 34.9216(35.6726) | Bit/dim 1.4428(1.4448) | Steps 494(493.02) | Grad Norm 16.7386(10.3678) | Total Time 10.00(10.00)\n",
      "Iter 0884 | Time 34.9251(35.6502) | Bit/dim 1.4544(1.4451) | Steps 482(492.69) | Grad Norm 20.5014(10.6718) | Total Time 10.00(10.00)\n",
      "Iter 0885 | Time 36.2686(35.6687) | Bit/dim 1.4562(1.4455) | Steps 500(492.91) | Grad Norm 22.8814(11.0381) | Total Time 10.00(10.00)\n",
      "Iter 0886 | Time 34.4005(35.6307) | Bit/dim 1.4550(1.4457) | Steps 464(492.04) | Grad Norm 22.4291(11.3798) | Total Time 10.00(10.00)\n",
      "Iter 0887 | Time 36.8586(35.6675) | Bit/dim 1.4451(1.4457) | Steps 494(492.10) | Grad Norm 17.6105(11.5668) | Total Time 10.00(10.00)\n",
      "Iter 0888 | Time 35.4679(35.6616) | Bit/dim 1.4318(1.4453) | Steps 494(492.16) | Grad Norm 9.4725(11.5039) | Total Time 10.00(10.00)\n",
      "validating...\n",
      "Epoch 0127 | Time 11.0210, Epoch Time 270.4807, Bit/dim 1.4021\n"
     ]
    },
    {
     "name": "stdout",
     "output_type": "stream",
     "text": [
      "do _generate\n",
      "do _generate\n",
      "do _generate\n",
      "do _generate\n",
      "do _generate\n",
      "do _generate\n",
      "do _generate\n",
      "do _generate\n"
     ]
    },
    {
     "name": "stderr",
     "output_type": "stream",
     "text": [
      "===> Using batch size 8000. Total 7 iterations/epoch.\n",
      "Iter 0889 | Time 35.2765(35.6500) | Bit/dim 1.4199(1.4445) | Steps 494(492.22) | Grad Norm 0.6004(11.1768) | Total Time 10.00(10.00)\n",
      "Iter 0890 | Time 35.0018(35.6306) | Bit/dim 1.4232(1.4439) | Steps 494(492.27) | Grad Norm 8.7179(11.1031) | Total Time 10.00(10.00)\n",
      "Iter 0891 | Time 34.7436(35.6039) | Bit/dim 1.4277(1.4434) | Steps 476(491.78) | Grad Norm 14.2247(11.1967) | Total Time 10.00(10.00)\n",
      "Iter 0892 | Time 35.2606(35.5936) | Bit/dim 1.4358(1.4432) | Steps 494(491.85) | Grad Norm 15.0131(11.3112) | Total Time 10.00(10.00)\n",
      "Iter 0893 | Time 35.3801(35.5872) | Bit/dim 1.4281(1.4427) | Steps 494(491.91) | Grad Norm 11.9006(11.3289) | Total Time 10.00(10.00)\n",
      "Iter 0894 | Time 36.3717(35.6108) | Bit/dim 1.4195(1.4420) | Steps 494(491.97) | Grad Norm 5.5260(11.1548) | Total Time 10.00(10.00)\n",
      "Iter 0895 | Time 35.4056(35.6046) | Bit/dim 1.4198(1.4414) | Steps 494(492.04) | Grad Norm 1.9851(10.8797) | Total Time 10.00(10.00)\n",
      "validating...\n",
      "Epoch 0128 | Time 10.9841, Epoch Time 270.3862, Bit/dim 1.4040\n"
     ]
    },
    {
     "name": "stdout",
     "output_type": "stream",
     "text": [
      "do _generate\n",
      "do _generate\n",
      "do _generate\n",
      "do _generate\n",
      "do _generate\n",
      "do _generate\n",
      "do _generate\n",
      "do _generate\n"
     ]
    },
    {
     "name": "stderr",
     "output_type": "stream",
     "text": [
      "===> Using batch size 8000. Total 7 iterations/epoch.\n",
      "Iter 0896 | Time 36.4757(35.6308) | Bit/dim 1.4195(1.4407) | Steps 494(492.09) | Grad Norm 8.3796(10.8047) | Total Time 10.00(10.00)\n",
      "Iter 0897 | Time 35.5561(35.6285) | Bit/dim 1.4330(1.4405) | Steps 494(492.15) | Grad Norm 12.6437(10.8599) | Total Time 10.00(10.00)\n",
      "Iter 0898 | Time 35.5026(35.6247) | Bit/dim 1.4291(1.4401) | Steps 494(492.21) | Grad Norm 14.1273(10.9579) | Total Time 10.00(10.00)\n",
      "Iter 0899 | Time 35.5843(35.6235) | Bit/dim 1.4212(1.4396) | Steps 494(492.26) | Grad Norm 12.6236(11.0079) | Total Time 10.00(10.00)\n",
      "Iter 0900 | Time 35.1864(35.6104) | Bit/dim 1.4122(1.4388) | Steps 494(492.31) | Grad Norm 9.3281(10.9575) | Total Time 10.00(10.00)\n",
      "Iter 0901 | Time 35.9638(35.6210) | Bit/dim 1.4178(1.4381) | Steps 494(492.36) | Grad Norm 4.8579(10.7745) | Total Time 10.00(10.00)\n",
      "Iter 0902 | Time 35.0399(35.6036) | Bit/dim 1.4145(1.4374) | Steps 494(492.41) | Grad Norm 0.4798(10.4656) | Total Time 10.00(10.00)\n",
      "validating...\n",
      "Epoch 0129 | Time 10.9733, Epoch Time 272.4926, Bit/dim 1.3979\n"
     ]
    },
    {
     "name": "stdout",
     "output_type": "stream",
     "text": [
      "do _generate\n",
      "do _generate\n",
      "do _generate\n",
      "do _generate\n",
      "do _generate\n",
      "do _generate\n",
      "do _generate\n",
      "do _generate\n"
     ]
    },
    {
     "name": "stderr",
     "output_type": "stream",
     "text": [
      "===> Using batch size 8000. Total 7 iterations/epoch.\n",
      "Iter 0903 | Time 35.1211(35.5891) | Bit/dim 1.4115(1.4366) | Steps 494(492.46) | Grad Norm 4.3492(10.2822) | Total Time 10.00(10.00)\n",
      "Iter 0904 | Time 34.9775(35.5708) | Bit/dim 1.4174(1.4361) | Steps 494(492.51) | Grad Norm 8.3934(10.2255) | Total Time 10.00(10.00)\n",
      "Iter 0905 | Time 36.2378(35.5908) | Bit/dim 1.4206(1.4356) | Steps 494(492.55) | Grad Norm 12.5124(10.2941) | Total Time 10.00(10.00)\n",
      "Iter 0906 | Time 37.3422(35.6433) | Bit/dim 1.4312(1.4355) | Steps 500(492.77) | Grad Norm 16.5974(10.4832) | Total Time 10.00(10.00)\n",
      "Iter 0907 | Time 34.9635(35.6229) | Bit/dim 1.4542(1.4360) | Steps 494(492.81) | Grad Norm 20.8049(10.7928) | Total Time 10.00(10.00)\n",
      "Iter 0908 | Time 36.5128(35.6496) | Bit/dim 1.4485(1.4364) | Steps 500(493.03) | Grad Norm 23.9791(11.1884) | Total Time 10.00(10.00)\n",
      "Iter 0909 | Time 35.1493(35.6346) | Bit/dim 1.4599(1.4371) | Steps 476(492.52) | Grad Norm 23.8912(11.5695) | Total Time 10.00(10.00)\n",
      "validating...\n",
      "Epoch 0130 | Time 11.1516, Epoch Time 273.5474, Bit/dim 1.4238\n"
     ]
    },
    {
     "name": "stdout",
     "output_type": "stream",
     "text": [
      "do _generate\n",
      "do _generate\n",
      "do _generate\n",
      "do _generate\n",
      "do _generate\n",
      "do _generate\n",
      "do _generate\n",
      "do _generate\n"
     ]
    },
    {
     "name": "stderr",
     "output_type": "stream",
     "text": [
      "===> Using batch size 8000. Total 7 iterations/epoch.\n",
      "Iter 0910 | Time 35.9462(35.6440) | Bit/dim 1.4362(1.4371) | Steps 500(492.74) | Grad Norm 18.6571(11.7821) | Total Time 10.00(10.00)\n",
      "Iter 0911 | Time 35.2815(35.6331) | Bit/dim 1.4168(1.4365) | Steps 494(492.78) | Grad Norm 9.5600(11.7155) | Total Time 10.00(10.00)\n",
      "Iter 0912 | Time 35.2616(35.6219) | Bit/dim 1.4093(1.4357) | Steps 494(492.82) | Grad Norm 1.2733(11.4022) | Total Time 10.00(10.00)\n",
      "Iter 0913 | Time 35.1292(35.6072) | Bit/dim 1.4169(1.4351) | Steps 494(492.85) | Grad Norm 10.4770(11.3745) | Total Time 10.00(10.00)\n",
      "Iter 0914 | Time 35.5322(35.6049) | Bit/dim 1.4338(1.4351) | Steps 488(492.71) | Grad Norm 15.4295(11.4961) | Total Time 10.00(10.00)\n",
      "Iter 0915 | Time 34.8164(35.5812) | Bit/dim 1.4236(1.4347) | Steps 494(492.74) | Grad Norm 13.9949(11.5711) | Total Time 10.00(10.00)\n",
      "Iter 0916 | Time 35.1093(35.5671) | Bit/dim 1.4128(1.4341) | Steps 494(492.78) | Grad Norm 7.7543(11.4566) | Total Time 10.00(10.00)\n",
      "validating...\n",
      "Epoch 0131 | Time 10.8306, Epoch Time 270.2014, Bit/dim 1.3913\n"
     ]
    },
    {
     "name": "stdout",
     "output_type": "stream",
     "text": [
      "do _generate\n",
      "do _generate\n",
      "do _generate\n",
      "do _generate\n",
      "do _generate\n",
      "do _generate\n",
      "do _generate\n",
      "do _generate\n"
     ]
    },
    {
     "name": "stderr",
     "output_type": "stream",
     "text": [
      "===> Using batch size 8000. Total 7 iterations/epoch.\n",
      "Iter 0917 | Time 36.2206(35.5867) | Bit/dim 1.4098(1.4333) | Steps 494(492.82) | Grad Norm 1.1138(11.1463) | Total Time 10.00(10.00)\n",
      "Iter 0918 | Time 35.6620(35.5890) | Bit/dim 1.4087(1.4326) | Steps 494(492.85) | Grad Norm 8.5396(11.0681) | Total Time 10.00(10.00)\n",
      "Iter 0919 | Time 35.7266(35.5931) | Bit/dim 1.4190(1.4322) | Steps 494(492.89) | Grad Norm 13.2383(11.1332) | Total Time 10.00(10.00)\n",
      "Iter 0920 | Time 35.1189(35.5789) | Bit/dim 1.4228(1.4319) | Steps 494(492.92) | Grad Norm 13.9270(11.2170) | Total Time 10.00(10.00)\n",
      "Iter 0921 | Time 35.4267(35.5743) | Bit/dim 1.4169(1.4314) | Steps 494(492.95) | Grad Norm 11.2377(11.2176) | Total Time 10.00(10.00)\n",
      "Iter 0922 | Time 35.5394(35.5732) | Bit/dim 1.4033(1.4306) | Steps 494(492.99) | Grad Norm 5.7844(11.0546) | Total Time 10.00(10.00)\n",
      "Iter 0923 | Time 35.1796(35.5614) | Bit/dim 1.4107(1.4300) | Steps 494(493.02) | Grad Norm 0.5466(10.7394) | Total Time 10.00(10.00)\n",
      "validating...\n",
      "Epoch 0132 | Time 10.9095, Epoch Time 272.1797, Bit/dim 1.3919\n"
     ]
    },
    {
     "name": "stdout",
     "output_type": "stream",
     "text": [
      "do _generate\n",
      "do _generate\n",
      "do _generate\n",
      "do _generate\n",
      "do _generate\n",
      "do _generate\n",
      "do _generate\n",
      "do _generate\n"
     ]
    },
    {
     "name": "stderr",
     "output_type": "stream",
     "text": [
      "===> Using batch size 8000. Total 7 iterations/epoch.\n",
      "Iter 0924 | Time 36.2560(35.5823) | Bit/dim 1.4061(1.4293) | Steps 494(493.05) | Grad Norm 5.5288(10.5831) | Total Time 10.00(10.00)\n",
      "Iter 0925 | Time 35.3080(35.5740) | Bit/dim 1.4101(1.4287) | Steps 494(493.07) | Grad Norm 9.8534(10.5612) | Total Time 10.00(10.00)\n",
      "Iter 0926 | Time 36.0159(35.5873) | Bit/dim 1.4204(1.4285) | Steps 494(493.10) | Grad Norm 12.5525(10.6209) | Total Time 10.00(10.00)\n",
      "Iter 0927 | Time 36.7111(35.6210) | Bit/dim 1.4180(1.4282) | Steps 494(493.13) | Grad Norm 13.6831(10.7128) | Total Time 10.00(10.00)\n",
      "Iter 0928 | Time 35.8825(35.6289) | Bit/dim 1.4128(1.4277) | Steps 494(493.15) | Grad Norm 13.8020(10.8055) | Total Time 10.00(10.00)\n",
      "Iter 0929 | Time 34.6626(35.5999) | Bit/dim 1.4144(1.4273) | Steps 494(493.18) | Grad Norm 12.9325(10.8693) | Total Time 10.00(10.00)\n",
      "Iter 0930 | Time 35.3509(35.5924) | Bit/dim 1.4121(1.4268) | Steps 494(493.20) | Grad Norm 11.7613(10.8960) | Total Time 10.00(10.00)\n",
      "validating...\n",
      "Epoch 0133 | Time 10.8075, Epoch Time 273.2999, Bit/dim 1.3937\n"
     ]
    },
    {
     "name": "stdout",
     "output_type": "stream",
     "text": [
      "do _generate\n",
      "do _generate\n",
      "do _generate\n",
      "do _generate\n",
      "do _generate\n",
      "do _generate\n",
      "do _generate\n",
      "do _generate\n"
     ]
    },
    {
     "name": "stderr",
     "output_type": "stream",
     "text": [
      "===> Using batch size 8000. Total 7 iterations/epoch.\n",
      "Iter 0931 | Time 35.5651(35.5916) | Bit/dim 1.4050(1.4262) | Steps 494(493.23) | Grad Norm 10.8915(10.8959) | Total Time 10.00(10.00)\n",
      "Iter 0932 | Time 35.6510(35.5934) | Bit/dim 1.4068(1.4256) | Steps 494(493.25) | Grad Norm 9.8210(10.8637) | Total Time 10.00(10.00)\n",
      "Iter 0933 | Time 35.0509(35.5771) | Bit/dim 1.4084(1.4251) | Steps 494(493.27) | Grad Norm 8.8267(10.8025) | Total Time 10.00(10.00)\n",
      "Iter 0934 | Time 35.8322(35.5847) | Bit/dim 1.4089(1.4246) | Steps 494(493.30) | Grad Norm 8.2131(10.7249) | Total Time 10.00(10.00)\n",
      "Iter 0935 | Time 35.4980(35.5821) | Bit/dim 1.4036(1.4240) | Steps 494(493.32) | Grad Norm 8.2402(10.6503) | Total Time 10.00(10.00)\n",
      "Iter 0936 | Time 35.3098(35.5740) | Bit/dim 1.4148(1.4237) | Steps 494(493.34) | Grad Norm 8.8870(10.5974) | Total Time 10.00(10.00)\n",
      "Iter 0937 | Time 35.8794(35.5831) | Bit/dim 1.4111(1.4233) | Steps 494(493.36) | Grad Norm 10.2363(10.5866) | Total Time 10.00(10.00)\n",
      "validating...\n",
      "Epoch 0134 | Time 11.1261, Epoch Time 272.1861, Bit/dim 1.4008\n"
     ]
    },
    {
     "name": "stdout",
     "output_type": "stream",
     "text": [
      "do _generate\n",
      "do _generate\n",
      "do _generate\n",
      "do _generate\n",
      "do _generate\n",
      "do _generate\n",
      "do _generate\n",
      "do _generate\n"
     ]
    },
    {
     "name": "stderr",
     "output_type": "stream",
     "text": [
      "===> Using batch size 8000. Total 7 iterations/epoch.\n",
      "Iter 0938 | Time 35.3157(35.5751) | Bit/dim 1.4135(1.4230) | Steps 494(493.38) | Grad Norm 12.2381(10.6361) | Total Time 10.00(10.00)\n",
      "Iter 0939 | Time 35.7475(35.5803) | Bit/dim 1.4238(1.4230) | Steps 494(493.40) | Grad Norm 15.2267(10.7738) | Total Time 10.00(10.00)\n",
      "Iter 0940 | Time 36.2150(35.5993) | Bit/dim 1.4308(1.4233) | Steps 482(493.05) | Grad Norm 19.4104(11.0329) | Total Time 10.00(10.00)\n",
      "Iter 0941 | Time 36.4342(35.6244) | Bit/dim 1.4415(1.4238) | Steps 500(493.26) | Grad Norm 23.9885(11.4216) | Total Time 10.00(10.00)\n",
      "Iter 0942 | Time 33.1088(35.5489) | Bit/dim 1.4599(1.4249) | Steps 470(492.56) | Grad Norm 26.4314(11.8719) | Total Time 10.00(10.00)\n",
      "Iter 0943 | Time 36.2727(35.5706) | Bit/dim 1.4457(1.4255) | Steps 500(492.79) | Grad Norm 23.2624(12.2136) | Total Time 10.00(10.00)\n",
      "Iter 0944 | Time 34.7751(35.5468) | Bit/dim 1.4215(1.4254) | Steps 488(492.64) | Grad Norm 15.0738(12.2994) | Total Time 10.00(10.00)\n",
      "validating...\n",
      "Epoch 0135 | Time 11.0181, Epoch Time 271.0157, Bit/dim 1.3838\n"
     ]
    },
    {
     "name": "stdout",
     "output_type": "stream",
     "text": [
      "do _generate\n",
      "do _generate\n",
      "do _generate\n",
      "do _generate\n",
      "do _generate\n",
      "do _generate\n",
      "do _generate\n",
      "do _generate\n"
     ]
    },
    {
     "name": "stderr",
     "output_type": "stream",
     "text": [
      "===> Using batch size 8000. Total 7 iterations/epoch.\n",
      "Iter 0945 | Time 35.4237(35.5431) | Bit/dim 1.3959(1.4245) | Steps 494(492.68) | Grad Norm 3.9426(12.0487) | Total Time 10.00(10.00)\n",
      "Iter 0946 | Time 35.6106(35.5451) | Bit/dim 1.4093(1.4241) | Steps 494(492.72) | Grad Norm 8.2100(11.9336) | Total Time 10.00(10.00)\n",
      "Iter 0947 | Time 34.9254(35.5265) | Bit/dim 1.4156(1.4238) | Steps 488(492.58) | Grad Norm 14.6603(12.0154) | Total Time 10.00(10.00)\n",
      "Iter 0948 | Time 34.8596(35.5065) | Bit/dim 1.4160(1.4236) | Steps 494(492.62) | Grad Norm 13.8307(12.0698) | Total Time 10.00(10.00)\n",
      "Iter 0949 | Time 35.1370(35.4954) | Bit/dim 1.4040(1.4230) | Steps 494(492.67) | Grad Norm 7.3541(11.9283) | Total Time 10.00(10.00)\n",
      "Iter 0950 | Time 35.4505(35.4941) | Bit/dim 1.3955(1.4222) | Steps 494(492.71) | Grad Norm 2.3300(11.6404) | Total Time 10.00(10.00)\n",
      "Iter 0951 | Time 35.4643(35.4932) | Bit/dim 1.4082(1.4217) | Steps 494(492.74) | Grad Norm 9.2345(11.5682) | Total Time 10.00(10.00)\n",
      "validating...\n",
      "Epoch 0136 | Time 10.8888, Epoch Time 269.9233, Bit/dim 1.3945\n"
     ]
    },
    {
     "name": "stdout",
     "output_type": "stream",
     "text": [
      "do _generate\n",
      "do _generate\n",
      "do _generate\n",
      "do _generate\n",
      "do _generate\n",
      "do _generate\n",
      "do _generate\n",
      "do _generate\n"
     ]
    },
    {
     "name": "stderr",
     "output_type": "stream",
     "text": [
      "===> Using batch size 8000. Total 7 iterations/epoch.\n",
      "Iter 0952 | Time 34.7993(35.4724) | Bit/dim 1.4099(1.4214) | Steps 488(492.60) | Grad Norm 12.6811(11.6016) | Total Time 10.00(10.00)\n",
      "Iter 0953 | Time 37.1693(35.5233) | Bit/dim 1.4065(1.4209) | Steps 494(492.64) | Grad Norm 11.7146(11.6050) | Total Time 10.00(10.00)\n",
      "Iter 0954 | Time 35.4492(35.5210) | Bit/dim 1.3997(1.4203) | Steps 494(492.68) | Grad Norm 7.8584(11.4926) | Total Time 10.00(10.00)\n",
      "Iter 0955 | Time 35.3920(35.5172) | Bit/dim 1.3948(1.4195) | Steps 494(492.72) | Grad Norm 2.1276(11.2116) | Total Time 10.00(10.00)\n",
      "Iter 0956 | Time 34.7644(35.4946) | Bit/dim 1.3950(1.4188) | Steps 494(492.76) | Grad Norm 3.6472(10.9847) | Total Time 10.00(10.00)\n",
      "Iter 0957 | Time 35.6585(35.4995) | Bit/dim 1.3994(1.4182) | Steps 494(492.80) | Grad Norm 8.0856(10.8977) | Total Time 10.00(10.00)\n",
      "Iter 0958 | Time 36.1925(35.5203) | Bit/dim 1.4050(1.4178) | Steps 494(492.84) | Grad Norm 11.1523(10.9054) | Total Time 10.00(10.00)\n",
      "validating...\n",
      "Epoch 0137 | Time 10.8616, Epoch Time 272.2803, Bit/dim 1.3888\n"
     ]
    },
    {
     "name": "stdout",
     "output_type": "stream",
     "text": [
      "do _generate\n",
      "do _generate\n",
      "do _generate\n",
      "do _generate\n",
      "do _generate\n",
      "do _generate\n",
      "do _generate\n",
      "do _generate\n"
     ]
    },
    {
     "name": "stderr",
     "output_type": "stream",
     "text": [
      "===> Using batch size 8000. Total 7 iterations/epoch.\n",
      "Iter 0959 | Time 34.6213(35.4933) | Bit/dim 1.4075(1.4175) | Steps 488(492.69) | Grad Norm 12.9915(10.9680) | Total Time 10.00(10.00)\n",
      "Iter 0960 | Time 36.1966(35.5144) | Bit/dim 1.4056(1.4172) | Steps 494(492.73) | Grad Norm 13.9218(11.0566) | Total Time 10.00(10.00)\n",
      "Iter 0961 | Time 34.7157(35.4905) | Bit/dim 1.4039(1.4168) | Steps 488(492.59) | Grad Norm 14.0895(11.1476) | Total Time 10.00(10.00)\n",
      "Iter 0962 | Time 36.2701(35.5138) | Bit/dim 1.4008(1.4163) | Steps 494(492.63) | Grad Norm 13.5081(11.2184) | Total Time 10.00(10.00)\n",
      "Iter 0963 | Time 35.6762(35.5187) | Bit/dim 1.4087(1.4161) | Steps 488(492.49) | Grad Norm 12.8357(11.2669) | Total Time 10.00(10.00)\n",
      "Iter 0964 | Time 36.2239(35.5399) | Bit/dim 1.4052(1.4157) | Steps 494(492.54) | Grad Norm 12.4904(11.3036) | Total Time 10.00(10.00)\n",
      "Iter 0965 | Time 35.0000(35.5237) | Bit/dim 1.3966(1.4152) | Steps 488(492.40) | Grad Norm 11.6712(11.3146) | Total Time 10.00(10.00)\n",
      "validating...\n",
      "Epoch 0138 | Time 11.0275, Epoch Time 271.9194, Bit/dim 1.3820\n"
     ]
    },
    {
     "name": "stdout",
     "output_type": "stream",
     "text": [
      "do _generate\n",
      "do _generate\n",
      "do _generate\n",
      "do _generate\n",
      "do _generate\n",
      "do _generate\n",
      "do _generate\n",
      "do _generate\n"
     ]
    },
    {
     "name": "stderr",
     "output_type": "stream",
     "text": [
      "===> Using batch size 8000. Total 7 iterations/epoch.\n",
      "Iter 0966 | Time 38.0906(35.6007) | Bit/dim 1.3970(1.4146) | Steps 494(492.45) | Grad Norm 10.4949(11.2900) | Total Time 10.00(10.00)\n",
      "Iter 0967 | Time 35.2948(35.5915) | Bit/dim 1.3936(1.4140) | Steps 494(492.50) | Grad Norm 8.9087(11.2186) | Total Time 10.00(10.00)\n",
      "Iter 0968 | Time 35.0548(35.5754) | Bit/dim 1.3941(1.4134) | Steps 494(492.54) | Grad Norm 7.3358(11.1021) | Total Time 10.00(10.00)\n",
      "Iter 0969 | Time 34.8102(35.5525) | Bit/dim 1.3915(1.4127) | Steps 494(492.58) | Grad Norm 6.0570(10.9508) | Total Time 10.00(10.00)\n",
      "Iter 0970 | Time 35.5447(35.5522) | Bit/dim 1.3901(1.4120) | Steps 494(492.63) | Grad Norm 4.9128(10.7696) | Total Time 10.00(10.00)\n",
      "Iter 0971 | Time 35.4607(35.5495) | Bit/dim 1.3920(1.4114) | Steps 494(492.67) | Grad Norm 4.1669(10.5715) | Total Time 10.00(10.00)\n",
      "Iter 0972 | Time 35.7778(35.5563) | Bit/dim 1.3835(1.4106) | Steps 494(492.71) | Grad Norm 3.9349(10.3724) | Total Time 10.00(10.00)\n",
      "validating...\n",
      "Epoch 0139 | Time 10.8371, Epoch Time 272.9234, Bit/dim 1.3724\n"
     ]
    },
    {
     "name": "stdout",
     "output_type": "stream",
     "text": [
      "do _generate\n",
      "do _generate\n",
      "do _generate\n",
      "do _generate\n",
      "do _generate\n",
      "do _generate\n",
      "do _generate\n",
      "do _generate\n"
     ]
    },
    {
     "name": "stderr",
     "output_type": "stream",
     "text": [
      "===> Using batch size 8000. Total 7 iterations/epoch.\n",
      "Iter 0973 | Time 35.1180(35.5432) | Bit/dim 1.3877(1.4099) | Steps 488(492.57) | Grad Norm 4.3100(10.1906) | Total Time 10.00(10.00)\n",
      "Iter 0974 | Time 36.4193(35.5695) | Bit/dim 1.3820(1.4091) | Steps 494(492.61) | Grad Norm 4.9871(10.0345) | Total Time 10.00(10.00)\n",
      "Iter 0975 | Time 35.1332(35.5564) | Bit/dim 1.3883(1.4085) | Steps 488(492.47) | Grad Norm 6.7547(9.9361) | Total Time 10.00(10.00)\n",
      "Iter 0976 | Time 35.2634(35.5476) | Bit/dim 1.3903(1.4079) | Steps 494(492.52) | Grad Norm 10.3478(9.9484) | Total Time 10.00(10.00)\n",
      "Iter 0977 | Time 34.9191(35.5287) | Bit/dim 1.4080(1.4079) | Steps 488(492.38) | Grad Norm 16.4634(10.1439) | Total Time 10.00(10.00)\n",
      "Iter 0978 | Time 36.4623(35.5567) | Bit/dim 1.4331(1.4087) | Steps 500(492.61) | Grad Norm 26.1199(10.6232) | Total Time 10.00(10.00)\n",
      "Iter 0979 | Time 34.5088(35.5253) | Bit/dim 1.4985(1.4114) | Steps 488(492.47) | Grad Norm 33.9001(11.3215) | Total Time 10.00(10.00)\n",
      "validating...\n",
      "Epoch 0140 | Time 11.1758, Epoch Time 271.0898, Bit/dim 1.4552\n"
     ]
    },
    {
     "name": "stdout",
     "output_type": "stream",
     "text": [
      "do _generate\n",
      "do _generate\n",
      "do _generate\n",
      "do _generate\n",
      "do _generate\n",
      "do _generate\n",
      "do _generate\n",
      "do _generate\n"
     ]
    },
    {
     "name": "stderr",
     "output_type": "stream",
     "text": [
      "===> Using batch size 8000. Total 7 iterations/epoch.\n",
      "Iter 0980 | Time 36.3040(35.5487) | Bit/dim 1.4690(1.4131) | Steps 500(492.70) | Grad Norm 31.6410(11.9311) | Total Time 10.00(10.00)\n",
      "Iter 0981 | Time 33.9874(35.5018) | Bit/dim 1.4266(1.4135) | Steps 482(492.38) | Grad Norm 19.7734(12.1663) | Total Time 10.00(10.00)\n",
      "Iter 0982 | Time 34.7790(35.4801) | Bit/dim 1.3921(1.4129) | Steps 494(492.43) | Grad Norm 2.1709(11.8665) | Total Time 10.00(10.00)\n",
      "Iter 0983 | Time 35.1936(35.4715) | Bit/dim 1.4170(1.4130) | Steps 494(492.47) | Grad Norm 16.8668(12.0165) | Total Time 10.00(10.00)\n",
      "Iter 0984 | Time 34.4586(35.4412) | Bit/dim 1.4350(1.4136) | Steps 476(491.98) | Grad Norm 20.7235(12.2777) | Total Time 10.00(10.00)\n",
      "Iter 0985 | Time 35.4449(35.4413) | Bit/dim 1.3885(1.4129) | Steps 494(492.04) | Grad Norm 7.9212(12.1470) | Total Time 10.00(10.00)\n",
      "Iter 0986 | Time 35.1192(35.4316) | Bit/dim 1.3991(1.4125) | Steps 494(492.10) | Grad Norm 10.6810(12.1030) | Total Time 10.00(10.00)\n",
      "validating...\n",
      "Epoch 0141 | Time 10.4273, Epoch Time 267.7100, Bit/dim 1.4077\n"
     ]
    },
    {
     "name": "stdout",
     "output_type": "stream",
     "text": [
      "do _generate\n",
      "do _generate\n",
      "do _generate\n",
      "do _generate\n",
      "do _generate\n",
      "do _generate\n",
      "do _generate\n",
      "do _generate\n"
     ]
    },
    {
     "name": "stderr",
     "output_type": "stream",
     "text": [
      "===> Using batch size 8000. Total 7 iterations/epoch.\n",
      "Iter 0987 | Time 35.6451(35.4380) | Bit/dim 1.4254(1.4129) | Steps 476(491.62) | Grad Norm 18.4490(12.2934) | Total Time 10.00(10.00)\n",
      "Iter 0988 | Time 35.1857(35.4304) | Bit/dim 1.3966(1.4124) | Steps 494(491.69) | Grad Norm 9.1598(12.1994) | Total Time 10.00(10.00)\n",
      "Iter 0989 | Time 34.9699(35.4166) | Bit/dim 1.3919(1.4118) | Steps 494(491.76) | Grad Norm 7.1475(12.0478) | Total Time 10.00(10.00)\n",
      "Iter 0990 | Time 34.6541(35.3937) | Bit/dim 1.4093(1.4117) | Steps 488(491.64) | Grad Norm 16.4084(12.1786) | Total Time 10.00(10.00)\n",
      "Iter 0991 | Time 35.1865(35.3875) | Bit/dim 1.3994(1.4113) | Steps 494(491.71) | Grad Norm 12.4454(12.1866) | Total Time 10.00(10.00)\n",
      "Iter 0992 | Time 35.8949(35.4028) | Bit/dim 1.3827(1.4105) | Steps 488(491.60) | Grad Norm 1.2059(11.8572) | Total Time 10.00(10.00)\n",
      "Iter 0993 | Time 35.0664(35.3927) | Bit/dim 1.3913(1.4099) | Steps 488(491.49) | Grad Norm 10.2215(11.8082) | Total Time 10.00(10.00)\n",
      "validating...\n",
      "Epoch 0142 | Time 11.0111, Epoch Time 269.6402, Bit/dim 1.3846\n"
     ]
    },
    {
     "name": "stdout",
     "output_type": "stream",
     "text": [
      "do _generate\n",
      "do _generate\n",
      "do _generate\n",
      "do _generate\n",
      "do _generate\n",
      "do _generate\n",
      "do _generate\n",
      "do _generate\n"
     ]
    },
    {
     "name": "stderr",
     "output_type": "stream",
     "text": [
      "===> Using batch size 8000. Total 7 iterations/epoch.\n",
      "Iter 0994 | Time 35.2137(35.3873) | Bit/dim 1.4026(1.4097) | Steps 494(491.57) | Grad Norm 13.9894(11.8736) | Total Time 10.00(10.00)\n",
      "Iter 0995 | Time 35.1000(35.3787) | Bit/dim 1.3930(1.4092) | Steps 488(491.46) | Grad Norm 9.4761(11.8017) | Total Time 10.00(10.00)\n",
      "Iter 0996 | Time 35.2297(35.3742) | Bit/dim 1.3729(1.4081) | Steps 488(491.36) | Grad Norm 0.5477(11.4640) | Total Time 10.00(10.00)\n",
      "Iter 0997 | Time 36.1079(35.3962) | Bit/dim 1.3861(1.4074) | Steps 494(491.44) | Grad Norm 8.8185(11.3847) | Total Time 10.00(10.00)\n",
      "Iter 0998 | Time 35.2675(35.3924) | Bit/dim 1.3996(1.4072) | Steps 488(491.33) | Grad Norm 13.0040(11.4333) | Total Time 10.00(10.00)\n",
      "Iter 0999 | Time 35.6279(35.3994) | Bit/dim 1.3906(1.4067) | Steps 494(491.41) | Grad Norm 10.9150(11.4177) | Total Time 10.00(10.00)\n",
      "Iter 1000 | Time 34.8745(35.3837) | Bit/dim 1.3779(1.4058) | Steps 488(491.31) | Grad Norm 4.8347(11.2202) | Total Time 10.00(10.00)\n",
      "validating...\n",
      "Epoch 0143 | Time 10.9160, Epoch Time 270.2936, Bit/dim 1.3620\n"
     ]
    },
    {
     "name": "stdout",
     "output_type": "stream",
     "text": [
      "do _generate\n",
      "do _generate\n",
      "do _generate\n",
      "do _generate\n",
      "do _generate\n",
      "do _generate\n",
      "do _generate\n",
      "do _generate\n"
     ]
    },
    {
     "name": "stderr",
     "output_type": "stream",
     "text": [
      "===> Using batch size 8000. Total 7 iterations/epoch.\n",
      "Iter 1001 | Time 34.7084(35.3634) | Bit/dim 1.3780(1.4050) | Steps 488(491.21) | Grad Norm 2.1109(10.9469) | Total Time 10.00(10.00)\n",
      "Iter 1002 | Time 34.9870(35.3521) | Bit/dim 1.3848(1.4044) | Steps 494(491.30) | Grad Norm 8.2949(10.8674) | Total Time 10.00(10.00)\n",
      "Iter 1003 | Time 34.8812(35.3380) | Bit/dim 1.3891(1.4039) | Steps 488(491.20) | Grad Norm 11.8160(10.8958) | Total Time 10.00(10.00)\n",
      "Iter 1004 | Time 36.4868(35.3725) | Bit/dim 1.3865(1.4034) | Steps 494(491.28) | Grad Norm 11.9441(10.9273) | Total Time 10.00(10.00)\n",
      "Iter 1005 | Time 36.0249(35.3920) | Bit/dim 1.3791(1.4027) | Steps 488(491.18) | Grad Norm 9.3676(10.8805) | Total Time 10.00(10.00)\n",
      "Iter 1006 | Time 34.9109(35.3776) | Bit/dim 1.3801(1.4020) | Steps 488(491.09) | Grad Norm 5.0199(10.7047) | Total Time 10.00(10.00)\n",
      "Iter 1007 | Time 34.9692(35.3653) | Bit/dim 1.3780(1.4013) | Steps 488(491.00) | Grad Norm 0.5589(10.4003) | Total Time 10.00(10.00)\n",
      "validating...\n",
      "Epoch 0144 | Time 10.8240, Epoch Time 269.9171, Bit/dim 1.3616\n"
     ]
    },
    {
     "name": "stdout",
     "output_type": "stream",
     "text": [
      "do _generate\n",
      "do _generate\n",
      "do _generate\n",
      "do _generate\n",
      "do _generate\n",
      "do _generate\n",
      "do _generate\n",
      "do _generate\n"
     ]
    },
    {
     "name": "stderr",
     "output_type": "stream",
     "text": [
      "===> Using batch size 8000. Total 7 iterations/epoch.\n",
      "Iter 1008 | Time 34.8214(35.3490) | Bit/dim 1.3780(1.4006) | Steps 488(490.91) | Grad Norm 4.2333(10.2153) | Total Time 10.00(10.00)\n",
      "Iter 1009 | Time 35.9450(35.3669) | Bit/dim 1.3804(1.4000) | Steps 494(491.00) | Grad Norm 7.6980(10.1398) | Total Time 10.00(10.00)\n",
      "Iter 1010 | Time 34.9024(35.3530) | Bit/dim 1.3814(1.3994) | Steps 488(490.91) | Grad Norm 10.0898(10.1383) | Total Time 10.00(10.00)\n",
      "Iter 1011 | Time 37.2169(35.4089) | Bit/dim 1.3835(1.3989) | Steps 494(491.00) | Grad Norm 11.2102(10.1704) | Total Time 10.00(10.00)\n",
      "Iter 1012 | Time 35.3395(35.4068) | Bit/dim 1.3832(1.3985) | Steps 488(490.91) | Grad Norm 11.6458(10.2147) | Total Time 10.00(10.00)\n",
      "Iter 1013 | Time 36.1246(35.4283) | Bit/dim 1.3815(1.3980) | Steps 494(491.00) | Grad Norm 11.5172(10.2538) | Total Time 10.00(10.00)\n",
      "Iter 1014 | Time 36.2682(35.4535) | Bit/dim 1.3803(1.3974) | Steps 488(490.91) | Grad Norm 10.9841(10.2757) | Total Time 10.00(10.00)\n",
      "validating...\n",
      "Epoch 0145 | Time 10.9576, Epoch Time 273.6697, Bit/dim 1.3636\n"
     ]
    },
    {
     "name": "stdout",
     "output_type": "stream",
     "text": [
      "do _generate\n",
      "do _generate\n",
      "do _generate\n",
      "do _generate\n",
      "do _generate\n",
      "do _generate\n",
      "do _generate\n",
      "do _generate\n"
     ]
    },
    {
     "name": "stderr",
     "output_type": "stream",
     "text": [
      "===> Using batch size 8000. Total 7 iterations/epoch.\n",
      "Iter 1015 | Time 35.4943(35.4548) | Bit/dim 1.3854(1.3971) | Steps 494(491.01) | Grad Norm 10.1338(10.2714) | Total Time 10.00(10.00)\n",
      "Iter 1016 | Time 35.4123(35.4535) | Bit/dim 1.3822(1.3966) | Steps 488(490.92) | Grad Norm 8.8567(10.2290) | Total Time 10.00(10.00)\n",
      "Iter 1017 | Time 35.6642(35.4598) | Bit/dim 1.3738(1.3959) | Steps 494(491.01) | Grad Norm 7.1754(10.1374) | Total Time 10.00(10.00)\n",
      "Iter 1018 | Time 34.6331(35.4350) | Bit/dim 1.3732(1.3953) | Steps 488(490.92) | Grad Norm 5.4802(9.9977) | Total Time 10.00(10.00)\n",
      "Iter 1019 | Time 34.7400(35.4142) | Bit/dim 1.3707(1.3945) | Steps 488(490.83) | Grad Norm 4.0388(9.8189) | Total Time 10.00(10.00)\n",
      "Iter 1020 | Time 35.5395(35.4179) | Bit/dim 1.3736(1.3939) | Steps 488(490.75) | Grad Norm 2.7599(9.6071) | Total Time 10.00(10.00)\n",
      "Iter 1021 | Time 36.3963(35.4473) | Bit/dim 1.3609(1.3929) | Steps 488(490.66) | Grad Norm 1.6544(9.3685) | Total Time 10.00(10.00)\n",
      "validating...\n",
      "Epoch 0146 | Time 10.7858, Epoch Time 270.8258, Bit/dim 1.3535\n"
     ]
    },
    {
     "name": "stdout",
     "output_type": "stream",
     "text": [
      "do _generate\n",
      "do _generate\n",
      "do _generate\n",
      "do _generate\n",
      "do _generate\n",
      "do _generate\n",
      "do _generate\n",
      "do _generate\n"
     ]
    },
    {
     "name": "stderr",
     "output_type": "stream",
     "text": [
      "===> Using batch size 8000. Total 7 iterations/epoch.\n",
      "Iter 1022 | Time 35.4327(35.4468) | Bit/dim 1.3758(1.3924) | Steps 488(490.58) | Grad Norm 0.8609(9.1133) | Total Time 10.00(10.00)\n",
      "Iter 1023 | Time 34.7559(35.4261) | Bit/dim 1.3670(1.3916) | Steps 488(490.51) | Grad Norm 0.2533(8.8475) | Total Time 10.00(10.00)\n",
      "Iter 1024 | Time 35.3622(35.4242) | Bit/dim 1.3647(1.3908) | Steps 488(490.43) | Grad Norm 0.7279(8.6039) | Total Time 10.00(10.00)\n",
      "Iter 1025 | Time 34.5642(35.3984) | Bit/dim 1.3678(1.3901) | Steps 488(490.36) | Grad Norm 1.5280(8.3916) | Total Time 10.00(10.00)\n",
      "Iter 1026 | Time 34.8339(35.3814) | Bit/dim 1.3636(1.3893) | Steps 488(490.29) | Grad Norm 2.5113(8.2152) | Total Time 10.00(10.00)\n",
      "Iter 1027 | Time 35.0460(35.3714) | Bit/dim 1.3682(1.3887) | Steps 488(490.22) | Grad Norm 4.2411(8.0960) | Total Time 10.00(10.00)\n",
      "Iter 1028 | Time 35.0359(35.3613) | Bit/dim 1.3754(1.3883) | Steps 488(490.15) | Grad Norm 7.4592(8.0769) | Total Time 10.00(10.00)\n",
      "validating...\n",
      "Epoch 0147 | Time 10.6621, Epoch Time 267.9441, Bit/dim 1.3639\n"
     ]
    },
    {
     "name": "stdout",
     "output_type": "stream",
     "text": [
      "do _generate\n",
      "do _generate\n",
      "do _generate\n",
      "do _generate\n",
      "do _generate\n",
      "do _generate\n",
      "do _generate\n",
      "do _generate\n"
     ]
    },
    {
     "name": "stderr",
     "output_type": "stream",
     "text": [
      "===> Using batch size 8000. Total 7 iterations/epoch.\n",
      "Iter 1029 | Time 37.0999(35.4135) | Bit/dim 1.3763(1.3879) | Steps 488(490.09) | Grad Norm 13.0640(8.2265) | Total Time 10.00(10.00)\n",
      "Iter 1030 | Time 35.9323(35.4290) | Bit/dim 1.4052(1.3885) | Steps 500(490.38) | Grad Norm 22.9962(8.6696) | Total Time 10.00(10.00)\n",
      "Iter 1031 | Time 35.2408(35.4234) | Bit/dim 1.4699(1.3909) | Steps 488(490.31) | Grad Norm 33.3245(9.4093) | Total Time 10.00(10.00)\n",
      "Iter 1032 | Time 36.3736(35.4519) | Bit/dim 1.4764(1.3935) | Steps 500(490.60) | Grad Norm 36.7007(10.2280) | Total Time 10.00(10.00)\n",
      "Iter 1033 | Time 35.2944(35.4472) | Bit/dim 1.4541(1.3953) | Steps 488(490.53) | Grad Norm 27.7641(10.7541) | Total Time 10.00(10.00)\n",
      "Iter 1034 | Time 35.6840(35.4543) | Bit/dim 1.3721(1.3946) | Steps 494(490.63) | Grad Norm 4.1562(10.5561) | Total Time 10.00(10.00)\n",
      "Iter 1035 | Time 36.7836(35.4942) | Bit/dim 1.4193(1.3953) | Steps 494(490.73) | Grad Norm 21.9365(10.8976) | Total Time 10.00(10.00)\n",
      "validating...\n",
      "Epoch 0148 | Time 10.4831, Epoch Time 274.9243, Bit/dim 1.4299\n"
     ]
    },
    {
     "name": "stdout",
     "output_type": "stream",
     "text": [
      "do _generate\n",
      "do _generate\n",
      "do _generate\n",
      "do _generate\n",
      "do _generate\n",
      "do _generate\n",
      "do _generate\n",
      "do _generate\n"
     ]
    },
    {
     "name": "stderr",
     "output_type": "stream",
     "text": [
      "===> Using batch size 8000. Total 7 iterations/epoch.\n",
      "Iter 1036 | Time 33.4304(35.4322) | Bit/dim 1.4408(1.3967) | Steps 476(490.29) | Grad Norm 23.8524(11.2862) | Total Time 10.00(10.00)\n",
      "Iter 1037 | Time 34.3311(35.3992) | Bit/dim 1.3732(1.3960) | Steps 500(490.58) | Grad Norm 1.6946(10.9984) | Total Time 10.00(10.00)\n",
      "Iter 1038 | Time 36.5942(35.4351) | Bit/dim 1.4433(1.3974) | Steps 494(490.68) | Grad Norm 24.6223(11.4072) | Total Time 10.00(10.00)\n",
      "Iter 1039 | Time 34.9267(35.4198) | Bit/dim 1.4290(1.3984) | Steps 476(490.24) | Grad Norm 19.9197(11.6625) | Total Time 10.00(10.00)\n",
      "Iter 1040 | Time 34.9325(35.4052) | Bit/dim 1.3861(1.3980) | Steps 488(490.18) | Grad Norm 9.9626(11.6115) | Total Time 10.00(10.00)\n",
      "Iter 1041 | Time 34.6870(35.3836) | Bit/dim 1.4559(1.3997) | Steps 494(490.29) | Grad Norm 28.0968(12.1061) | Total Time 10.00(10.00)\n",
      "Iter 1042 | Time 34.6829(35.3626) | Bit/dim 1.3967(1.3996) | Steps 488(490.22) | Grad Norm 13.4177(12.1454) | Total Time 10.00(10.00)\n",
      "validating...\n",
      "Epoch 0149 | Time 10.7739, Epoch Time 266.6653, Bit/dim 1.3848\n"
     ]
    },
    {
     "name": "stdout",
     "output_type": "stream",
     "text": [
      "do _generate\n",
      "do _generate\n",
      "do _generate\n",
      "do _generate\n",
      "do _generate\n",
      "do _generate\n",
      "do _generate\n",
      "do _generate\n"
     ]
    },
    {
     "name": "stderr",
     "output_type": "stream",
     "text": [
      "===> Using batch size 8000. Total 7 iterations/epoch.\n",
      "Iter 1043 | Time 35.5705(35.3689) | Bit/dim 1.3996(1.3996) | Steps 488(490.15) | Grad Norm 14.5505(12.2176) | Total Time 10.00(10.00)\n",
      "Iter 1044 | Time 35.4377(35.3709) | Bit/dim 1.4167(1.4001) | Steps 494(490.27) | Grad Norm 19.5940(12.4389) | Total Time 10.00(10.00)\n",
      "Iter 1045 | Time 35.1546(35.3644) | Bit/dim 1.3739(1.3994) | Steps 488(490.20) | Grad Norm 3.0583(12.1575) | Total Time 10.00(10.00)\n",
      "Iter 1046 | Time 34.8946(35.3503) | Bit/dim 1.4038(1.3995) | Steps 488(490.14) | Grad Norm 16.2999(12.2817) | Total Time 10.00(10.00)\n",
      "Iter 1047 | Time 35.6986(35.3608) | Bit/dim 1.3857(1.3991) | Steps 488(490.07) | Grad Norm 10.1397(12.2175) | Total Time 10.00(10.00)\n",
      "Iter 1048 | Time 35.2746(35.3582) | Bit/dim 1.3728(1.3983) | Steps 488(490.01) | Grad Norm 8.7076(12.1122) | Total Time 10.00(10.00)\n",
      "Iter 1049 | Time 34.5783(35.3348) | Bit/dim 1.4044(1.3985) | Steps 488(489.95) | Grad Norm 14.7868(12.1924) | Total Time 10.00(10.00)\n",
      "validating...\n",
      "Epoch 0150 | Time 10.6690, Epoch Time 269.2636, Bit/dim 1.3524\n"
     ]
    },
    {
     "name": "stdout",
     "output_type": "stream",
     "text": [
      "do _generate\n",
      "do _generatedo _generate\n",
      "\n",
      "do _generate\n",
      "do _generate\n",
      "do _generate\n",
      "do _generate\n",
      "do _generate\n"
     ]
    },
    {
     "name": "stderr",
     "output_type": "stream",
     "text": [
      "===> Using batch size 8000. Total 7 iterations/epoch.\n",
      "Iter 1050 | Time 35.4649(35.3387) | Bit/dim 1.3709(1.3976) | Steps 488(489.89) | Grad Norm 2.0640(11.8886) | Total Time 10.00(10.00)\n",
      "Iter 1051 | Time 35.8762(35.3548) | Bit/dim 1.3837(1.3972) | Steps 494(490.01) | Grad Norm 12.9971(11.9218) | Total Time 10.00(10.00)\n",
      "Iter 1052 | Time 34.9284(35.3420) | Bit/dim 1.3830(1.3968) | Steps 488(489.95) | Grad Norm 12.5425(11.9404) | Total Time 10.00(10.00)\n",
      "Iter 1053 | Time 34.6970(35.3227) | Bit/dim 1.3687(1.3960) | Steps 488(489.90) | Grad Norm 3.1016(11.6753) | Total Time 10.00(10.00)\n",
      "Iter 1054 | Time 34.9877(35.3126) | Bit/dim 1.3857(1.3956) | Steps 494(490.02) | Grad Norm 14.0237(11.7457) | Total Time 10.00(10.00)\n",
      "Iter 1055 | Time 34.5162(35.2887) | Bit/dim 1.3736(1.3950) | Steps 488(489.96) | Grad Norm 11.0041(11.7235) | Total Time 10.00(10.00)\n",
      "Iter 1056 | Time 34.7759(35.2734) | Bit/dim 1.3704(1.3942) | Steps 488(489.90) | Grad Norm 3.9658(11.4908) | Total Time 10.00(10.00)\n",
      "validating...\n",
      "Epoch 0151 | Time 10.9514, Epoch Time 268.2501, Bit/dim 1.3680\n"
     ]
    },
    {
     "name": "stdout",
     "output_type": "stream",
     "text": [
      "do _generate\n",
      "do _generate\n",
      "do _generate\n",
      "do _generate\n",
      "do _generate\n",
      "do _generate\n",
      "do _generate\n",
      "do _generate\n"
     ]
    },
    {
     "name": "stderr",
     "output_type": "stream",
     "text": [
      "===> Using batch size 8000. Total 7 iterations/epoch.\n",
      "Iter 1057 | Time 36.2531(35.3028) | Bit/dim 1.3827(1.3939) | Steps 494(490.02) | Grad Norm 14.3172(11.5756) | Total Time 10.00(10.00)\n",
      "Iter 1058 | Time 35.1130(35.2971) | Bit/dim 1.3679(1.3931) | Steps 488(489.96) | Grad Norm 9.8512(11.5238) | Total Time 10.00(10.00)\n",
      "Iter 1059 | Time 35.7987(35.3121) | Bit/dim 1.3688(1.3924) | Steps 488(489.90) | Grad Norm 4.0684(11.3002) | Total Time 10.00(10.00)\n",
      "Iter 1060 | Time 35.6027(35.3208) | Bit/dim 1.3749(1.3919) | Steps 488(489.85) | Grad Norm 12.3060(11.3303) | Total Time 10.00(10.00)\n",
      "Iter 1061 | Time 37.2066(35.3774) | Bit/dim 1.3732(1.3913) | Steps 488(489.79) | Grad Norm 10.0856(11.2930) | Total Time 10.00(10.00)\n",
      "Iter 1062 | Time 34.6970(35.3570) | Bit/dim 1.3622(1.3904) | Steps 488(489.74) | Grad Norm 1.1279(10.9880) | Total Time 10.00(10.00)\n",
      "Iter 1063 | Time 34.6150(35.3347) | Bit/dim 1.3689(1.3898) | Steps 488(489.68) | Grad Norm 10.2175(10.9649) | Total Time 10.00(10.00)\n",
      "validating...\n",
      "Epoch 0152 | Time 10.8018, Epoch Time 272.2183, Bit/dim 1.3564\n"
     ]
    },
    {
     "name": "stdout",
     "output_type": "stream",
     "text": [
      "do _generate\n",
      "do _generate\n",
      "do _generate\n",
      "do _generate\n",
      "do _generate\n",
      "do _generate\n",
      "do _generate\n",
      "do _generate\n"
     ]
    },
    {
     "name": "stderr",
     "output_type": "stream",
     "text": [
      "===> Using batch size 8000. Total 7 iterations/epoch.\n",
      "Iter 1064 | Time 35.2511(35.3322) | Bit/dim 1.3715(1.3892) | Steps 488(489.63) | Grad Norm 11.1515(10.9705) | Total Time 10.00(10.00)\n",
      "Iter 1065 | Time 34.7421(35.3145) | Bit/dim 1.3580(1.3883) | Steps 488(489.58) | Grad Norm 4.1270(10.7652) | Total Time 10.00(10.00)\n",
      "Iter 1066 | Time 35.5380(35.3212) | Bit/dim 1.3607(1.3875) | Steps 488(489.54) | Grad Norm 6.9626(10.6511) | Total Time 10.00(10.00)\n",
      "Iter 1067 | Time 35.4680(35.3256) | Bit/dim 1.3723(1.3870) | Steps 488(489.49) | Grad Norm 11.2224(10.6683) | Total Time 10.00(10.00)\n",
      "Iter 1068 | Time 35.1861(35.3214) | Bit/dim 1.3618(1.3863) | Steps 488(489.45) | Grad Norm 6.2601(10.5360) | Total Time 10.00(10.00)\n",
      "Iter 1069 | Time 34.9748(35.3110) | Bit/dim 1.3549(1.3853) | Steps 488(489.40) | Grad Norm 3.4432(10.3232) | Total Time 10.00(10.00)\n",
      "Iter 1070 | Time 34.2014(35.2777) | Bit/dim 1.3699(1.3849) | Steps 488(489.36) | Grad Norm 8.6615(10.2734) | Total Time 10.00(10.00)\n",
      "validating...\n",
      "Epoch 0153 | Time 10.7180, Epoch Time 268.1721, Bit/dim 1.3463\n"
     ]
    },
    {
     "name": "stdout",
     "output_type": "stream",
     "text": [
      "do _generate\n",
      "do _generate\n",
      "do _generate\n",
      "do _generate\n",
      "do _generate\n",
      "do _generate\n",
      "do _generate\n",
      "do _generate\n"
     ]
    },
    {
     "name": "stderr",
     "output_type": "stream",
     "text": [
      "===> Using batch size 8000. Total 7 iterations/epoch.\n",
      "Iter 1071 | Time 35.4324(35.2824) | Bit/dim 1.3556(1.3840) | Steps 488(489.32) | Grad Norm 7.8413(10.2004) | Total Time 10.00(10.00)\n",
      "Iter 1072 | Time 34.6222(35.2626) | Bit/dim 1.3583(1.3832) | Steps 488(489.28) | Grad Norm 2.8334(9.9794) | Total Time 10.00(10.00)\n",
      "Iter 1073 | Time 36.2032(35.2908) | Bit/dim 1.3559(1.3824) | Steps 488(489.24) | Grad Norm 3.7876(9.7937) | Total Time 10.00(10.00)\n",
      "Iter 1074 | Time 35.0201(35.2827) | Bit/dim 1.3600(1.3817) | Steps 488(489.20) | Grad Norm 7.1934(9.7157) | Total Time 10.00(10.00)\n",
      "Iter 1075 | Time 34.9675(35.2732) | Bit/dim 1.3592(1.3810) | Steps 488(489.17) | Grad Norm 7.3731(9.6454) | Total Time 10.00(10.00)\n",
      "Iter 1076 | Time 35.1120(35.2684) | Bit/dim 1.3584(1.3804) | Steps 488(489.13) | Grad Norm 4.6071(9.4942) | Total Time 10.00(10.00)\n",
      "Iter 1077 | Time 34.2971(35.2392) | Bit/dim 1.3571(1.3797) | Steps 488(489.10) | Grad Norm 1.1048(9.2425) | Total Time 10.00(10.00)\n",
      "validating...\n",
      "Epoch 0154 | Time 10.9044, Epoch Time 268.5188, Bit/dim 1.3388\n"
     ]
    },
    {
     "name": "stdout",
     "output_type": "stream",
     "text": [
      "do _generate\n",
      "do _generate\n",
      "do _generate\n",
      "do _generate\n",
      "do _generate\n",
      "do _generate\n",
      "do _generate\n",
      "do _generate\n"
     ]
    },
    {
     "name": "stderr",
     "output_type": "stream",
     "text": [
      "===> Using batch size 8000. Total 7 iterations/epoch.\n",
      "Iter 1078 | Time 34.8248(35.2268) | Bit/dim 1.3483(1.3787) | Steps 488(489.07) | Grad Norm 4.1263(9.0891) | Total Time 10.00(10.00)\n",
      "Iter 1079 | Time 34.6972(35.2109) | Bit/dim 1.3554(1.3780) | Steps 488(489.03) | Grad Norm 5.8604(8.9922) | Total Time 10.00(10.00)\n",
      "Iter 1080 | Time 34.7034(35.1957) | Bit/dim 1.3588(1.3775) | Steps 488(489.00) | Grad Norm 5.7473(8.8949) | Total Time 10.00(10.00)\n",
      "Iter 1081 | Time 35.2359(35.1969) | Bit/dim 1.3543(1.3768) | Steps 488(488.97) | Grad Norm 4.0633(8.7499) | Total Time 10.00(10.00)\n",
      "Iter 1082 | Time 34.7853(35.1846) | Bit/dim 1.3569(1.3762) | Steps 488(488.94) | Grad Norm 1.8488(8.5429) | Total Time 10.00(10.00)\n",
      "Iter 1083 | Time 34.6852(35.1696) | Bit/dim 1.3516(1.3754) | Steps 488(488.92) | Grad Norm 1.2388(8.3238) | Total Time 10.00(10.00)\n",
      "Iter 1084 | Time 35.0859(35.1671) | Bit/dim 1.3533(1.3748) | Steps 488(488.89) | Grad Norm 3.3825(8.1755) | Total Time 10.00(10.00)\n",
      "validating...\n",
      "Epoch 0155 | Time 10.8223, Epoch Time 266.7934, Bit/dim 1.3366\n"
     ]
    },
    {
     "name": "stdout",
     "output_type": "stream",
     "text": [
      "do _generate\n",
      "do _generate\n",
      "do _generate\n",
      "do _generate\n",
      "do _generate\n",
      "do _generate\n",
      "do _generate\n",
      "do _generate\n"
     ]
    },
    {
     "name": "stderr",
     "output_type": "stream",
     "text": [
      "===> Using batch size 8000. Total 7 iterations/epoch.\n",
      "Iter 1085 | Time 35.7769(35.1854) | Bit/dim 1.3534(1.3741) | Steps 488(488.86) | Grad Norm 4.9153(8.0777) | Total Time 10.00(10.00)\n",
      "Iter 1086 | Time 34.6952(35.1707) | Bit/dim 1.3556(1.3736) | Steps 488(488.84) | Grad Norm 5.6497(8.0049) | Total Time 10.00(10.00)\n",
      "Iter 1087 | Time 34.8456(35.1609) | Bit/dim 1.3524(1.3729) | Steps 488(488.81) | Grad Norm 5.8800(7.9411) | Total Time 10.00(10.00)\n",
      "Iter 1088 | Time 36.4857(35.2006) | Bit/dim 1.3500(1.3722) | Steps 488(488.79) | Grad Norm 5.6404(7.8721) | Total Time 10.00(10.00)\n",
      "Iter 1089 | Time 34.9599(35.1934) | Bit/dim 1.3520(1.3716) | Steps 488(488.76) | Grad Norm 5.0710(7.7881) | Total Time 10.00(10.00)\n",
      "Iter 1090 | Time 35.5438(35.2039) | Bit/dim 1.3546(1.3711) | Steps 488(488.74) | Grad Norm 3.8980(7.6714) | Total Time 10.00(10.00)\n",
      "Iter 1091 | Time 35.5005(35.2128) | Bit/dim 1.3459(1.3704) | Steps 488(488.72) | Grad Norm 2.6787(7.5216) | Total Time 10.00(10.00)\n",
      "validating...\n",
      "Epoch 0156 | Time 10.9769, Epoch Time 270.7357, Bit/dim 1.3334\n"
     ]
    },
    {
     "name": "stdout",
     "output_type": "stream",
     "text": [
      "do _generate\n",
      "do _generate\n",
      "do _generate\n",
      "do _generate\n",
      "do _generate\n",
      "do _generate\n",
      "do _generate\n",
      "do _generate\n"
     ]
    },
    {
     "name": "stderr",
     "output_type": "stream",
     "text": [
      "===> Using batch size 8000. Total 7 iterations/epoch.\n",
      "Iter 1092 | Time 36.0016(35.2365) | Bit/dim 1.3487(1.3697) | Steps 488(488.70) | Grad Norm 1.4250(7.3387) | Total Time 10.00(10.00)\n",
      "Iter 1093 | Time 34.9465(35.2278) | Bit/dim 1.3455(1.3690) | Steps 488(488.68) | Grad Norm 0.9740(7.1478) | Total Time 10.00(10.00)\n",
      "Iter 1094 | Time 34.8486(35.2164) | Bit/dim 1.3521(1.3685) | Steps 488(488.66) | Grad Norm 0.8037(6.9574) | Total Time 10.00(10.00)\n",
      "Iter 1095 | Time 35.3548(35.2206) | Bit/dim 1.3502(1.3679) | Steps 488(488.64) | Grad Norm 1.8144(6.8031) | Total Time 10.00(10.00)\n",
      "Iter 1096 | Time 34.9634(35.2129) | Bit/dim 1.3407(1.3671) | Steps 488(488.62) | Grad Norm 3.0738(6.6913) | Total Time 10.00(10.00)\n",
      "Iter 1097 | Time 34.5378(35.1926) | Bit/dim 1.3486(1.3666) | Steps 488(488.60) | Grad Norm 4.3497(6.6210) | Total Time 10.00(10.00)\n",
      "Iter 1098 | Time 36.0247(35.2176) | Bit/dim 1.3496(1.3661) | Steps 488(488.58) | Grad Norm 6.1138(6.6058) | Total Time 10.00(10.00)\n",
      "validating...\n",
      "Epoch 0157 | Time 10.7915, Epoch Time 269.4821, Bit/dim 1.3356\n"
     ]
    },
    {
     "name": "stdout",
     "output_type": "stream",
     "text": [
      "do _generate\n",
      "do _generate\n",
      "do _generate\n",
      "do _generate\n",
      "do _generate\n",
      "do _generate\n",
      "do _generate\n",
      "do _generate\n"
     ]
    },
    {
     "name": "stderr",
     "output_type": "stream",
     "text": [
      "===> Using batch size 8000. Total 7 iterations/epoch.\n",
      "Iter 1099 | Time 35.6144(35.2295) | Bit/dim 1.3477(1.3655) | Steps 488(488.56) | Grad Norm 8.4089(6.6599) | Total Time 10.00(10.00)\n",
      "Iter 1100 | Time 34.4501(35.2061) | Bit/dim 1.3514(1.3651) | Steps 488(488.55) | Grad Norm 11.4866(6.8047) | Total Time 10.00(10.00)\n",
      "Iter 1101 | Time 36.9587(35.2587) | Bit/dim 1.3644(1.3651) | Steps 488(488.53) | Grad Norm 15.0913(7.0533) | Total Time 10.00(10.00)\n",
      "Iter 1102 | Time 34.5937(35.2387) | Bit/dim 1.3781(1.3654) | Steps 488(488.51) | Grad Norm 18.6586(7.4014) | Total Time 10.00(10.00)\n",
      "Iter 1103 | Time 37.5244(35.3073) | Bit/dim 1.3796(1.3659) | Steps 500(488.86) | Grad Norm 20.9605(7.8082) | Total Time 10.00(10.00)\n",
      "Iter 1104 | Time 34.6944(35.2889) | Bit/dim 1.3819(1.3664) | Steps 488(488.83) | Grad Norm 20.3347(8.1840) | Total Time 10.00(10.00)\n",
      "Iter 1105 | Time 34.8166(35.2747) | Bit/dim 1.3586(1.3661) | Steps 488(488.81) | Grad Norm 14.5415(8.3747) | Total Time 10.00(10.00)\n",
      "validating...\n",
      "Epoch 0158 | Time 10.7700, Epoch Time 271.6353, Bit/dim 1.3317\n"
     ]
    },
    {
     "name": "stdout",
     "output_type": "stream",
     "text": [
      "do _generate\n",
      "do _generate\n",
      "do _generate\n",
      "do _generate\n",
      "do _generate\n",
      "do _generate\n",
      "do _generate\n",
      "do _generate\n"
     ]
    },
    {
     "name": "stderr",
     "output_type": "stream",
     "text": [
      "===> Using batch size 8000. Total 7 iterations/epoch.\n",
      "Iter 1106 | Time 35.5973(35.2844) | Bit/dim 1.3503(1.3656) | Steps 488(488.78) | Grad Norm 5.1505(8.2780) | Total Time 10.00(10.00)\n",
      "Iter 1107 | Time 34.5508(35.2624) | Bit/dim 1.3478(1.3651) | Steps 488(488.76) | Grad Norm 4.5254(8.1654) | Total Time 10.00(10.00)\n",
      "Iter 1108 | Time 34.5007(35.2395) | Bit/dim 1.3558(1.3648) | Steps 488(488.74) | Grad Norm 12.0274(8.2813) | Total Time 10.00(10.00)\n",
      "Iter 1109 | Time 35.9012(35.2594) | Bit/dim 1.3607(1.3647) | Steps 488(488.71) | Grad Norm 14.4982(8.4678) | Total Time 10.00(10.00)\n",
      "Iter 1110 | Time 35.2917(35.2604) | Bit/dim 1.3552(1.3644) | Steps 488(488.69) | Grad Norm 11.2808(8.5522) | Total Time 10.00(10.00)\n",
      "Iter 1111 | Time 35.1406(35.2568) | Bit/dim 1.3452(1.3638) | Steps 488(488.67) | Grad Norm 4.9975(8.4455) | Total Time 10.00(10.00)\n",
      "Iter 1112 | Time 34.6853(35.2396) | Bit/dim 1.3455(1.3633) | Steps 488(488.65) | Grad Norm 2.6606(8.2720) | Total Time 10.00(10.00)\n",
      "validating...\n",
      "Epoch 0159 | Time 10.6717, Epoch Time 268.4551, Bit/dim 1.3326\n"
     ]
    },
    {
     "name": "stdout",
     "output_type": "stream",
     "text": [
      "do _generate\n",
      "do _generate\n",
      "do _generate\n",
      "do _generate\n",
      "do _generate\n",
      "do _generate\n",
      "do _generate\n",
      "do _generate\n"
     ]
    },
    {
     "name": "stderr",
     "output_type": "stream",
     "text": [
      "===> Using batch size 8000. Total 7 iterations/epoch.\n",
      "Iter 1113 | Time 35.1118(35.2358) | Bit/dim 1.3503(1.3629) | Steps 488(488.63) | Grad Norm 9.2085(8.3001) | Total Time 10.00(10.00)\n",
      "Iter 1114 | Time 34.7276(35.2205) | Bit/dim 1.3583(1.3628) | Steps 488(488.61) | Grad Norm 13.4991(8.4561) | Total Time 10.00(10.00)\n",
      "Iter 1115 | Time 34.8318(35.2089) | Bit/dim 1.3547(1.3625) | Steps 488(488.60) | Grad Norm 14.6939(8.6432) | Total Time 10.00(10.00)\n",
      "Iter 1116 | Time 34.9302(35.2005) | Bit/dim 1.3515(1.3622) | Steps 488(488.58) | Grad Norm 12.9783(8.7732) | Total Time 10.00(10.00)\n",
      "Iter 1117 | Time 34.8416(35.1898) | Bit/dim 1.3461(1.3617) | Steps 488(488.56) | Grad Norm 7.9869(8.7497) | Total Time 10.00(10.00)\n",
      "Iter 1118 | Time 36.5115(35.2294) | Bit/dim 1.3425(1.3611) | Steps 488(488.54) | Grad Norm 1.9847(8.5467) | Total Time 10.00(10.00)\n",
      "Iter 1119 | Time 34.7489(35.2150) | Bit/dim 1.3458(1.3607) | Steps 488(488.53) | Grad Norm 3.9395(8.4085) | Total Time 10.00(10.00)\n",
      "validating...\n",
      "Epoch 0160 | Time 11.0591, Epoch Time 268.6386, Bit/dim 1.3300\n"
     ]
    },
    {
     "name": "stdout",
     "output_type": "stream",
     "text": [
      "do _generate\n",
      "do _generate\n",
      "do _generate\n",
      "do _generate\n",
      "do _generate\n",
      "do _generate\n",
      "do _generate\n",
      "do _generate\n"
     ]
    },
    {
     "name": "stderr",
     "output_type": "stream",
     "text": [
      "===> Using batch size 8000. Total 7 iterations/epoch.\n",
      "Iter 1120 | Time 34.6198(35.1971) | Bit/dim 1.3522(1.3604) | Steps 488(488.51) | Grad Norm 8.6896(8.4169) | Total Time 10.00(10.00)\n",
      "Iter 1121 | Time 34.6517(35.1808) | Bit/dim 1.3475(1.3600) | Steps 488(488.50) | Grad Norm 10.9147(8.4919) | Total Time 10.00(10.00)\n",
      "Iter 1122 | Time 34.7823(35.1688) | Bit/dim 1.3513(1.3598) | Steps 488(488.48) | Grad Norm 10.9874(8.5667) | Total Time 10.00(10.00)\n",
      "Iter 1123 | Time 34.7053(35.1549) | Bit/dim 1.3423(1.3592) | Steps 488(488.47) | Grad Norm 9.6839(8.6002) | Total Time 10.00(10.00)\n",
      "Iter 1124 | Time 34.4864(35.1349) | Bit/dim 1.3420(1.3587) | Steps 488(488.45) | Grad Norm 7.1562(8.5569) | Total Time 10.00(10.00)\n",
      "Iter 1125 | Time 35.4448(35.1442) | Bit/dim 1.3411(1.3582) | Steps 488(488.44) | Grad Norm 4.1911(8.4259) | Total Time 10.00(10.00)\n",
      "Iter 1126 | Time 36.6800(35.1902) | Bit/dim 1.3345(1.3575) | Steps 488(488.43) | Grad Norm 1.2455(8.2105) | Total Time 10.00(10.00)\n",
      "validating...\n",
      "Epoch 0161 | Time 10.8607, Epoch Time 268.3862, Bit/dim 1.3222\n"
     ]
    },
    {
     "name": "stdout",
     "output_type": "stream",
     "text": [
      "do _generatedo _generate\n",
      "do _generate\n",
      "\n",
      "do _generate\n",
      "do _generate\n",
      "do _generate\n",
      "do _generate\n",
      "do _generate\n"
     ]
    },
    {
     "name": "stderr",
     "output_type": "stream",
     "text": [
      "===> Using batch size 8000. Total 7 iterations/epoch.\n",
      "Iter 1127 | Time 34.7144(35.1760) | Bit/dim 1.3336(1.3568) | Steps 488(488.41) | Grad Norm 2.1514(8.0288) | Total Time 10.00(10.00)\n",
      "Iter 1128 | Time 35.1352(35.1747) | Bit/dim 1.3407(1.3563) | Steps 488(488.40) | Grad Norm 4.9841(7.9374) | Total Time 10.00(10.00)\n",
      "Iter 1129 | Time 36.3165(35.2090) | Bit/dim 1.3392(1.3558) | Steps 488(488.39) | Grad Norm 7.4324(7.9223) | Total Time 10.00(10.00)\n",
      "Iter 1130 | Time 34.6635(35.1926) | Bit/dim 1.3464(1.3555) | Steps 488(488.38) | Grad Norm 10.4777(7.9989) | Total Time 10.00(10.00)\n",
      "Iter 1131 | Time 36.4105(35.2292) | Bit/dim 1.3491(1.3553) | Steps 494(488.55) | Grad Norm 14.0480(8.1804) | Total Time 10.00(10.00)\n",
      "Iter 1132 | Time 34.6557(35.2120) | Bit/dim 1.3665(1.3556) | Steps 488(488.53) | Grad Norm 17.6102(8.4633) | Total Time 10.00(10.00)\n",
      "Iter 1133 | Time 36.1179(35.2391) | Bit/dim 1.3691(1.3560) | Steps 500(488.87) | Grad Norm 20.0850(8.8119) | Total Time 10.00(10.00)\n",
      "validating...\n",
      "Epoch 0162 | Time 10.9611, Epoch Time 271.4534, Bit/dim 1.3538\n"
     ]
    },
    {
     "name": "stdout",
     "output_type": "stream",
     "text": [
      "do _generate\n",
      "do _generate\n",
      "do _generate\n",
      "do _generate\n",
      "do _generate\n",
      "do _generate\n",
      "do _generate\n",
      "do _generate\n"
     ]
    },
    {
     "name": "stderr",
     "output_type": "stream",
     "text": [
      "===> Using batch size 8000. Total 7 iterations/epoch.\n",
      "Iter 1134 | Time 35.0203(35.2326) | Bit/dim 1.3734(1.3566) | Steps 488(488.85) | Grad Norm 19.6657(9.1376) | Total Time 10.00(10.00)\n",
      "Iter 1135 | Time 34.6163(35.2141) | Bit/dim 1.3500(1.3564) | Steps 488(488.82) | Grad Norm 14.5264(9.2992) | Total Time 10.00(10.00)\n",
      "Iter 1136 | Time 34.9398(35.2059) | Bit/dim 1.3367(1.3558) | Steps 488(488.80) | Grad Norm 6.2552(9.2079) | Total Time 10.00(10.00)\n",
      "Iter 1137 | Time 35.1607(35.2045) | Bit/dim 1.3347(1.3551) | Steps 488(488.77) | Grad Norm 2.5419(9.0079) | Total Time 10.00(10.00)\n",
      "Iter 1138 | Time 35.1423(35.2026) | Bit/dim 1.3393(1.3547) | Steps 488(488.75) | Grad Norm 9.9721(9.0368) | Total Time 10.00(10.00)\n",
      "Iter 1139 | Time 35.0820(35.1990) | Bit/dim 1.3489(1.3545) | Steps 488(488.73) | Grad Norm 13.3316(9.1657) | Total Time 10.00(10.00)\n",
      "Iter 1140 | Time 34.6732(35.1832) | Bit/dim 1.3510(1.3544) | Steps 488(488.71) | Grad Norm 12.1016(9.2538) | Total Time 10.00(10.00)\n",
      "validating...\n",
      "Epoch 0163 | Time 10.7110, Epoch Time 267.2760, Bit/dim 1.3233\n"
     ]
    },
    {
     "name": "stdout",
     "output_type": "stream",
     "text": [
      "do _generate\n",
      "do _generate\n",
      "do _generate\n",
      "do _generate\n",
      "do _generate\n",
      "do _generate\n",
      "do _generate\n",
      "do _generate\n"
     ]
    },
    {
     "name": "stderr",
     "output_type": "stream",
     "text": [
      "===> Using batch size 8000. Total 7 iterations/epoch.\n",
      "Iter 1141 | Time 36.0554(35.2094) | Bit/dim 1.3404(1.3540) | Steps 488(488.68) | Grad Norm 7.9676(9.2152) | Total Time 10.00(10.00)\n",
      "Iter 1142 | Time 34.6399(35.1923) | Bit/dim 1.3323(1.3533) | Steps 488(488.66) | Grad Norm 1.9864(8.9983) | Total Time 10.00(10.00)\n",
      "Iter 1143 | Time 34.8042(35.1807) | Bit/dim 1.3344(1.3528) | Steps 488(488.64) | Grad Norm 3.7306(8.8403) | Total Time 10.00(10.00)\n",
      "Iter 1144 | Time 34.7330(35.1673) | Bit/dim 1.3404(1.3524) | Steps 488(488.62) | Grad Norm 8.2312(8.8220) | Total Time 10.00(10.00)\n",
      "Iter 1145 | Time 36.9402(35.2204) | Bit/dim 1.3507(1.3523) | Steps 488(488.61) | Grad Norm 11.5915(8.9051) | Total Time 10.00(10.00)\n",
      "Iter 1146 | Time 34.3049(35.1930) | Bit/dim 1.3458(1.3521) | Steps 488(488.59) | Grad Norm 13.9177(9.0555) | Total Time 10.00(10.00)\n",
      "Iter 1147 | Time 36.4878(35.2318) | Bit/dim 1.3428(1.3519) | Steps 494(488.75) | Grad Norm 14.3918(9.2156) | Total Time 10.00(10.00)\n",
      "validating...\n",
      "Epoch 0164 | Time 10.8243, Epoch Time 271.0697, Bit/dim 1.3297\n"
     ]
    },
    {
     "name": "stdout",
     "output_type": "stream",
     "text": [
      "do _generate\n",
      "do _generate\n",
      "do _generate\n",
      "do _generate\n",
      "do _generate\n",
      "do _generate\n",
      "do _generate\n",
      "do _generate\n"
     ]
    },
    {
     "name": "stderr",
     "output_type": "stream",
     "text": [
      "===> Using batch size 8000. Total 7 iterations/epoch.\n",
      "Iter 1148 | Time 34.8133(35.2193) | Bit/dim 1.3441(1.3516) | Steps 488(488.73) | Grad Norm 13.2104(9.3354) | Total Time 10.00(10.00)\n",
      "Iter 1149 | Time 34.6830(35.2032) | Bit/dim 1.3397(1.3513) | Steps 488(488.71) | Grad Norm 9.9803(9.3548) | Total Time 10.00(10.00)\n",
      "Iter 1150 | Time 36.5626(35.2440) | Bit/dim 1.3309(1.3507) | Steps 488(488.68) | Grad Norm 5.1853(9.2297) | Total Time 10.00(10.00)\n",
      "Iter 1151 | Time 34.9364(35.2347) | Bit/dim 1.3292(1.3500) | Steps 488(488.66) | Grad Norm 1.0211(8.9834) | Total Time 10.00(10.00)\n",
      "Iter 1152 | Time 35.1102(35.2310) | Bit/dim 1.3364(1.3496) | Steps 488(488.64) | Grad Norm 4.7301(8.8558) | Total Time 10.00(10.00)\n",
      "Iter 1153 | Time 34.8108(35.2184) | Bit/dim 1.3410(1.3493) | Steps 488(488.62) | Grad Norm 8.6560(8.8498) | Total Time 10.00(10.00)\n",
      "Iter 1154 | Time 34.0455(35.1832) | Bit/dim 1.3419(1.3491) | Steps 488(488.61) | Grad Norm 11.6760(8.9346) | Total Time 10.00(10.00)\n",
      "validating...\n",
      "Epoch 0165 | Time 10.7758, Epoch Time 268.1183, Bit/dim 1.3292\n"
     ]
    },
    {
     "name": "stdout",
     "output_type": "stream",
     "text": [
      "do _generate\n",
      "do _generate\n",
      "do _generate\n",
      "do _generate\n",
      "do _generate\n",
      "do _generate\n",
      "do _generate\n",
      "do _generate\n"
     ]
    },
    {
     "name": "stderr",
     "output_type": "stream",
     "text": [
      "===> Using batch size 8000. Total 7 iterations/epoch.\n",
      "Iter 1155 | Time 36.6767(35.2280) | Bit/dim 1.3471(1.3491) | Steps 488(488.59) | Grad Norm 13.9886(9.0862) | Total Time 10.00(10.00)\n",
      "Iter 1156 | Time 36.4974(35.2661) | Bit/dim 1.3476(1.3490) | Steps 494(488.75) | Grad Norm 15.3922(9.2754) | Total Time 10.00(10.00)\n",
      "Iter 1157 | Time 37.1428(35.3224) | Bit/dim 1.3485(1.3490) | Steps 488(488.73) | Grad Norm 15.8431(9.4724) | Total Time 10.00(10.00)\n",
      "Iter 1158 | Time 36.5598(35.3595) | Bit/dim 1.3408(1.3488) | Steps 494(488.89) | Grad Norm 14.4633(9.6222) | Total Time 10.00(10.00)\n",
      "Iter 1159 | Time 34.9658(35.3477) | Bit/dim 1.3381(1.3484) | Steps 488(488.86) | Grad Norm 11.6238(9.6822) | Total Time 10.00(10.00)\n",
      "Iter 1160 | Time 35.2173(35.3438) | Bit/dim 1.3298(1.3479) | Steps 488(488.83) | Grad Norm 7.1731(9.6069) | Total Time 10.00(10.00)\n",
      "Iter 1161 | Time 36.0687(35.3655) | Bit/dim 1.3307(1.3474) | Steps 488(488.81) | Grad Norm 1.7071(9.3699) | Total Time 10.00(10.00)\n",
      "validating...\n",
      "Epoch 0166 | Time 10.7649, Epoch Time 275.9186, Bit/dim 1.3131\n"
     ]
    },
    {
     "name": "stdout",
     "output_type": "stream",
     "text": [
      "do _generate\n",
      "do _generate\n",
      "do _generate\n",
      "do _generate\n",
      "do _generate\n",
      "do _generate\n",
      "do _generate\n",
      "do _generate\n"
     ]
    },
    {
     "name": "stderr",
     "output_type": "stream",
     "text": [
      "===> Using batch size 8000. Total 7 iterations/epoch.\n",
      "Iter 1162 | Time 34.8297(35.3495) | Bit/dim 1.3352(1.3470) | Steps 488(488.78) | Grad Norm 3.4810(9.1933) | Total Time 10.00(10.00)\n",
      "Iter 1163 | Time 35.6592(35.3588) | Bit/dim 1.3341(1.3466) | Steps 488(488.76) | Grad Norm 7.8269(9.1523) | Total Time 10.00(10.00)\n",
      "Iter 1164 | Time 34.4692(35.3321) | Bit/dim 1.3350(1.3463) | Steps 488(488.74) | Grad Norm 11.0073(9.2079) | Total Time 10.00(10.00)\n",
      "Iter 1165 | Time 34.7484(35.3146) | Bit/dim 1.3450(1.3462) | Steps 488(488.72) | Grad Norm 13.2209(9.3283) | Total Time 10.00(10.00)\n",
      "Iter 1166 | Time 34.6099(35.2934) | Bit/dim 1.3441(1.3462) | Steps 488(488.69) | Grad Norm 15.0209(9.4991) | Total Time 10.00(10.00)\n",
      "Iter 1167 | Time 35.9803(35.3140) | Bit/dim 1.3399(1.3460) | Steps 506(489.21) | Grad Norm 15.5227(9.6798) | Total Time 10.00(10.00)\n",
      "Iter 1168 | Time 35.6036(35.3227) | Bit/dim 1.3405(1.3458) | Steps 488(489.18) | Grad Norm 14.7977(9.8333) | Total Time 10.00(10.00)\n",
      "validating...\n",
      "Epoch 0167 | Time 11.1054, Epoch Time 269.2271, Bit/dim 1.3210\n"
     ]
    },
    {
     "name": "stdout",
     "output_type": "stream",
     "text": [
      "do _generate\n",
      "do _generate\n",
      "do _generate\n",
      "do _generate\n",
      "do _generate\n",
      "do _generate\n",
      "do _generate\n",
      "do _generate\n"
     ]
    },
    {
     "name": "stderr",
     "output_type": "stream",
     "text": [
      "===> Using batch size 8000. Total 7 iterations/epoch.\n",
      "Iter 1169 | Time 35.7298(35.3349) | Bit/dim 1.3333(1.3454) | Steps 500(489.50) | Grad Norm 12.0885(9.9010) | Total Time 10.00(10.00)\n",
      "Iter 1170 | Time 34.9001(35.3219) | Bit/dim 1.3280(1.3449) | Steps 488(489.46) | Grad Norm 7.7260(9.8358) | Total Time 10.00(10.00)\n",
      "Iter 1171 | Time 35.0792(35.3146) | Bit/dim 1.3278(1.3444) | Steps 488(489.41) | Grad Norm 2.6794(9.6211) | Total Time 10.00(10.00)\n",
      "Iter 1172 | Time 35.7330(35.3271) | Bit/dim 1.3270(1.3439) | Steps 500(489.73) | Grad Norm 2.7490(9.4149) | Total Time 10.00(10.00)\n",
      "Iter 1173 | Time 34.9707(35.3165) | Bit/dim 1.3300(1.3435) | Steps 488(489.68) | Grad Norm 7.2859(9.3510) | Total Time 10.00(10.00)\n",
      "Iter 1174 | Time 35.7718(35.3301) | Bit/dim 1.3334(1.3432) | Steps 500(489.99) | Grad Norm 10.9686(9.3996) | Total Time 10.00(10.00)\n",
      "Iter 1175 | Time 35.5662(35.3372) | Bit/dim 1.3382(1.3430) | Steps 488(489.93) | Grad Norm 13.7104(9.5289) | Total Time 10.00(10.00)\n",
      "validating...\n",
      "Epoch 0168 | Time 10.9291, Epoch Time 270.6686, Bit/dim 1.3253\n"
     ]
    },
    {
     "name": "stdout",
     "output_type": "stream",
     "text": [
      "do _generate\n",
      "do _generate\n",
      "do _generate\n",
      "do _generate\n",
      "do _generate\n",
      "do _generate\n",
      "do _generate\n",
      "do _generate\n"
     ]
    },
    {
     "name": "stderr",
     "output_type": "stream",
     "text": [
      "===> Using batch size 8000. Total 7 iterations/epoch.\n",
      "Iter 1176 | Time 36.5854(35.3746) | Bit/dim 1.3464(1.3431) | Steps 506(490.41) | Grad Norm 15.5673(9.7100) | Total Time 10.00(10.00)\n",
      "Iter 1177 | Time 36.1487(35.3979) | Bit/dim 1.3451(1.3432) | Steps 488(490.34) | Grad Norm 16.9567(9.9274) | Total Time 10.00(10.00)\n",
      "Iter 1178 | Time 36.7942(35.4398) | Bit/dim 1.3408(1.3431) | Steps 500(490.63) | Grad Norm 16.6258(10.1284) | Total Time 10.00(10.00)\n",
      "Iter 1179 | Time 36.0942(35.4594) | Bit/dim 1.3395(1.3430) | Steps 488(490.55) | Grad Norm 14.2579(10.2523) | Total Time 10.00(10.00)\n",
      "Iter 1180 | Time 35.8627(35.4715) | Bit/dim 1.3287(1.3426) | Steps 500(490.83) | Grad Norm 9.3753(10.2260) | Total Time 10.00(10.00)\n",
      "Iter 1181 | Time 34.7849(35.4509) | Bit/dim 1.3238(1.3420) | Steps 500(491.11) | Grad Norm 2.8622(10.0050) | Total Time 10.00(10.00)\n",
      "Iter 1182 | Time 34.6091(35.4256) | Bit/dim 1.3251(1.3415) | Steps 488(491.01) | Grad Norm 3.6844(9.8154) | Total Time 10.00(10.00)\n",
      "validating...\n",
      "Epoch 0169 | Time 11.1279, Epoch Time 274.1388, Bit/dim 1.3133\n"
     ]
    },
    {
     "name": "stdout",
     "output_type": "stream",
     "text": [
      "do _generate\n",
      "do _generate\n",
      "do _generate\n",
      "do _generate\n",
      "do _generate\n",
      "do _generate\n",
      "do _generate\n",
      "do _generate\n"
     ]
    },
    {
     "name": "stderr",
     "output_type": "stream",
     "text": [
      "===> Using batch size 8000. Total 7 iterations/epoch.\n",
      "Iter 1183 | Time 35.9089(35.4401) | Bit/dim 1.3299(1.3412) | Steps 500(491.28) | Grad Norm 8.8471(9.7864) | Total Time 10.00(10.00)\n",
      "Iter 1184 | Time 35.1363(35.4310) | Bit/dim 1.3376(1.3410) | Steps 488(491.19) | Grad Norm 12.2163(9.8593) | Total Time 10.00(10.00)\n",
      "Iter 1185 | Time 35.6638(35.4380) | Bit/dim 1.3380(1.3410) | Steps 488(491.09) | Grad Norm 13.5046(9.9686) | Total Time 10.00(10.00)\n",
      "Iter 1186 | Time 35.7189(35.4464) | Bit/dim 1.3312(1.3407) | Steps 488(491.00) | Grad Norm 13.4279(10.0724) | Total Time 10.00(10.00)\n",
      "Iter 1187 | Time 35.7499(35.4555) | Bit/dim 1.3250(1.3402) | Steps 500(491.27) | Grad Norm 11.7615(10.1231) | Total Time 10.00(10.00)\n",
      "Iter 1188 | Time 35.3622(35.4527) | Bit/dim 1.3322(1.3399) | Steps 488(491.17) | Grad Norm 9.4853(10.1040) | Total Time 10.00(10.00)\n",
      "Iter 1189 | Time 35.4989(35.4541) | Bit/dim 1.3250(1.3395) | Steps 500(491.43) | Grad Norm 6.7454(10.0032) | Total Time 10.00(10.00)\n",
      "validating...\n",
      "Epoch 0170 | Time 10.9751, Epoch Time 271.9247, Bit/dim 1.3061\n"
     ]
    },
    {
     "name": "stdout",
     "output_type": "stream",
     "text": [
      "do _generate\n",
      "do _generate\n",
      "do _generate\n",
      "do _generate\n",
      "do _generate\n",
      "do _generate\n",
      "do _generate\n",
      "do _generate\n"
     ]
    },
    {
     "name": "stderr",
     "output_type": "stream",
     "text": [
      "===> Using batch size 8000. Total 7 iterations/epoch.\n",
      "Iter 1190 | Time 34.9024(35.4376) | Bit/dim 1.3206(1.3389) | Steps 488(491.33) | Grad Norm 3.8425(9.8184) | Total Time 10.00(10.00)\n",
      "Iter 1191 | Time 36.6233(35.4731) | Bit/dim 1.3183(1.3383) | Steps 488(491.23) | Grad Norm 1.4225(9.5665) | Total Time 10.00(10.00)\n",
      "Iter 1192 | Time 36.5256(35.5047) | Bit/dim 1.3205(1.3378) | Steps 500(491.49) | Grad Norm 1.5503(9.3260) | Total Time 10.00(10.00)\n",
      "Iter 1193 | Time 35.2559(35.4973) | Bit/dim 1.3223(1.3373) | Steps 488(491.39) | Grad Norm 3.8028(9.1603) | Total Time 10.00(10.00)\n",
      "Iter 1194 | Time 35.5470(35.4987) | Bit/dim 1.3213(1.3368) | Steps 488(491.29) | Grad Norm 6.1277(9.0693) | Total Time 10.00(10.00)\n",
      "Iter 1195 | Time 34.5569(35.4705) | Bit/dim 1.3224(1.3364) | Steps 488(491.19) | Grad Norm 8.7391(9.0594) | Total Time 10.00(10.00)\n",
      "Iter 1196 | Time 36.6352(35.5054) | Bit/dim 1.3261(1.3361) | Steps 494(491.27) | Grad Norm 12.1574(9.1524) | Total Time 10.00(10.00)\n",
      "validating...\n",
      "Epoch 0171 | Time 10.5078, Epoch Time 272.8694, Bit/dim 1.3238\n"
     ]
    },
    {
     "name": "stdout",
     "output_type": "stream",
     "text": [
      "do _generate\n",
      "do _generate\n",
      "do _generate\n",
      "do _generate\n",
      "do _generate\n",
      "do _generate\n",
      "do _generate\n",
      "do _generate\n"
     ]
    },
    {
     "name": "stderr",
     "output_type": "stream",
     "text": [
      "===> Using batch size 8000. Total 7 iterations/epoch.\n",
      "Iter 1197 | Time 35.1255(35.4940) | Bit/dim 1.3383(1.3362) | Steps 488(491.18) | Grad Norm 16.7233(9.3795) | Total Time 10.00(10.00)\n",
      "Iter 1198 | Time 36.2504(35.5167) | Bit/dim 1.3567(1.3368) | Steps 500(491.44) | Grad Norm 22.0552(9.7598) | Total Time 10.00(10.00)\n",
      "Iter 1199 | Time 34.9361(35.4993) | Bit/dim 1.3764(1.3380) | Steps 488(491.34) | Grad Norm 25.8742(10.2432) | Total Time 10.00(10.00)\n",
      "Iter 1200 | Time 36.2653(35.5223) | Bit/dim 1.3637(1.3387) | Steps 500(491.60) | Grad Norm 23.2687(10.6340) | Total Time 10.00(10.00)\n",
      "Iter 1201 | Time 35.2320(35.5136) | Bit/dim 1.3378(1.3387) | Steps 488(491.49) | Grad Norm 13.6018(10.7230) | Total Time 10.00(10.00)\n",
      "Iter 1202 | Time 35.4628(35.5121) | Bit/dim 1.3232(1.3382) | Steps 500(491.74) | Grad Norm 1.3977(10.4432) | Total Time 10.00(10.00)\n",
      "Iter 1203 | Time 35.9242(35.5244) | Bit/dim 1.3333(1.3381) | Steps 500(491.99) | Grad Norm 13.9200(10.5475) | Total Time 10.00(10.00)\n",
      "validating...\n",
      "Epoch 0172 | Time 10.6651, Epoch Time 271.7888, Bit/dim 1.3338\n"
     ]
    },
    {
     "name": "stdout",
     "output_type": "stream",
     "text": [
      "do _generate\n",
      "do _generate\n",
      "do _generate\n",
      "do _generate\n",
      "do _generate\n",
      "do _generate\n",
      "do _generate\n",
      "do _generate\n"
     ]
    },
    {
     "name": "stderr",
     "output_type": "stream",
     "text": [
      "===> Using batch size 8000. Total 7 iterations/epoch.\n",
      "Iter 1204 | Time 35.4519(35.5222) | Bit/dim 1.3469(1.3384) | Steps 488(491.87) | Grad Norm 17.8441(10.7664) | Total Time 10.00(10.00)\n",
      "Iter 1205 | Time 35.6292(35.5255) | Bit/dim 1.3294(1.3381) | Steps 500(492.12) | Grad Norm 11.2671(10.7815) | Total Time 10.00(10.00)\n",
      "Iter 1206 | Time 36.3365(35.5498) | Bit/dim 1.3207(1.3376) | Steps 500(492.35) | Grad Norm 1.6455(10.5074) | Total Time 10.00(10.00)\n",
      "Iter 1207 | Time 35.7639(35.5562) | Bit/dim 1.3276(1.3373) | Steps 488(492.22) | Grad Norm 10.8866(10.5188) | Total Time 10.00(10.00)\n",
      "Iter 1208 | Time 37.1066(35.6027) | Bit/dim 1.3429(1.3374) | Steps 500(492.46) | Grad Norm 16.3526(10.6938) | Total Time 10.00(10.00)\n",
      "Iter 1209 | Time 35.8542(35.6103) | Bit/dim 1.3389(1.3375) | Steps 488(492.32) | Grad Norm 16.5934(10.8708) | Total Time 10.00(10.00)\n",
      "Iter 1210 | Time 35.4293(35.6048) | Bit/dim 1.3271(1.3372) | Steps 500(492.55) | Grad Norm 11.8562(10.9003) | Total Time 10.00(10.00)\n",
      "validating...\n",
      "Epoch 0173 | Time 11.1775, Epoch Time 274.9316, Bit/dim 1.3020\n"
     ]
    },
    {
     "name": "stdout",
     "output_type": "stream",
     "text": [
      "do _generate\n",
      "do _generate\n",
      "do _generate\n",
      "do _generate\n",
      "do _generate\n",
      "do _generate\n",
      "do _generate\n",
      "do _generate\n"
     ]
    },
    {
     "name": "stderr",
     "output_type": "stream",
     "text": [
      "===> Using batch size 8000. Total 7 iterations/epoch.\n",
      "Iter 1211 | Time 36.7882(35.6403) | Bit/dim 1.3154(1.3365) | Steps 500(492.78) | Grad Norm 4.8309(10.7182) | Total Time 10.00(10.00)\n",
      "Iter 1212 | Time 36.8422(35.6764) | Bit/dim 1.3185(1.3360) | Steps 500(492.99) | Grad Norm 3.1753(10.4920) | Total Time 10.00(10.00)\n",
      "Iter 1213 | Time 36.0164(35.6866) | Bit/dim 1.3205(1.3355) | Steps 500(493.20) | Grad Norm 9.1397(10.4514) | Total Time 10.00(10.00)\n",
      "Iter 1214 | Time 34.3020(35.6451) | Bit/dim 1.3292(1.3353) | Steps 488(493.05) | Grad Norm 11.5792(10.4852) | Total Time 10.00(10.00)\n",
      "Iter 1215 | Time 35.8784(35.6521) | Bit/dim 1.3262(1.3350) | Steps 500(493.26) | Grad Norm 10.6328(10.4897) | Total Time 10.00(10.00)\n",
      "Iter 1216 | Time 35.4979(35.6474) | Bit/dim 1.3233(1.3347) | Steps 500(493.46) | Grad Norm 6.9030(10.3821) | Total Time 10.00(10.00)\n",
      "Iter 1217 | Time 35.2059(35.6342) | Bit/dim 1.3129(1.3340) | Steps 500(493.65) | Grad Norm 2.0277(10.1314) | Total Time 10.00(10.00)\n",
      "validating...\n",
      "Epoch 0174 | Time 11.0128, Epoch Time 273.5779, Bit/dim 1.2996\n"
     ]
    },
    {
     "name": "stdout",
     "output_type": "stream",
     "text": [
      "do _generate\n",
      "do _generate\n",
      "do _generate\n",
      "do _generate\n",
      "do _generate\n",
      "do _generate\n",
      "do _generate\n",
      "do _generate\n"
     ]
    },
    {
     "name": "stderr",
     "output_type": "stream",
     "text": [
      "===> Using batch size 8000. Total 7 iterations/epoch.\n",
      "Iter 1218 | Time 35.6215(35.6338) | Bit/dim 1.3126(1.3334) | Steps 500(493.84) | Grad Norm 3.5028(9.9326) | Total Time 10.00(10.00)\n",
      "Iter 1219 | Time 35.1485(35.6192) | Bit/dim 1.3232(1.3331) | Steps 500(494.03) | Grad Norm 7.2476(9.8520) | Total Time 10.00(10.00)\n",
      "Iter 1220 | Time 35.9450(35.6290) | Bit/dim 1.3219(1.3328) | Steps 500(494.21) | Grad Norm 9.8565(9.8522) | Total Time 10.00(10.00)\n",
      "Iter 1221 | Time 34.8207(35.6048) | Bit/dim 1.3212(1.3324) | Steps 488(494.02) | Grad Norm 11.4954(9.9014) | Total Time 10.00(10.00)\n",
      "Iter 1222 | Time 36.9470(35.6450) | Bit/dim 1.3215(1.3321) | Steps 506(494.38) | Grad Norm 12.6979(9.9853) | Total Time 10.00(10.00)\n",
      "Iter 1223 | Time 35.1015(35.6287) | Bit/dim 1.3289(1.3320) | Steps 488(494.19) | Grad Norm 13.7620(10.0986) | Total Time 10.00(10.00)\n",
      "Iter 1224 | Time 36.6681(35.6599) | Bit/dim 1.3283(1.3319) | Steps 506(494.54) | Grad Norm 13.5791(10.2031) | Total Time 10.00(10.00)\n",
      "validating...\n",
      "Epoch 0175 | Time 10.9598, Epoch Time 273.2658, Bit/dim 1.3108\n"
     ]
    },
    {
     "name": "stdout",
     "output_type": "stream",
     "text": [
      "do _generate\n",
      "do _generate\n",
      "do _generate\n",
      "do _generate\n",
      "do _generate\n",
      "do _generate\n",
      "do _generate\n",
      "do _generate\n"
     ]
    },
    {
     "name": "stderr",
     "output_type": "stream",
     "text": [
      "===> Using batch size 8000. Total 7 iterations/epoch.\n",
      "Iter 1225 | Time 34.7868(35.6337) | Bit/dim 1.3235(1.3316) | Steps 488(494.35) | Grad Norm 12.2739(10.2652) | Total Time 10.00(10.00)\n",
      "Iter 1226 | Time 36.0120(35.6451) | Bit/dim 1.3171(1.3312) | Steps 500(494.52) | Grad Norm 9.7733(10.2504) | Total Time 10.00(10.00)\n",
      "Iter 1227 | Time 35.4300(35.6386) | Bit/dim 1.3129(1.3306) | Steps 488(494.32) | Grad Norm 6.1105(10.1262) | Total Time 10.00(10.00)\n",
      "Iter 1228 | Time 35.8010(35.6435) | Bit/dim 1.3132(1.3301) | Steps 500(494.49) | Grad Norm 2.4892(9.8971) | Total Time 10.00(10.00)\n",
      "Iter 1229 | Time 34.8535(35.6198) | Bit/dim 1.3113(1.3296) | Steps 500(494.66) | Grad Norm 1.9517(9.6588) | Total Time 10.00(10.00)\n",
      "Iter 1230 | Time 35.5892(35.6189) | Bit/dim 1.3163(1.3292) | Steps 488(494.46) | Grad Norm 4.8361(9.5141) | Total Time 10.00(10.00)\n",
      "Iter 1231 | Time 36.0890(35.6330) | Bit/dim 1.3142(1.3287) | Steps 500(494.62) | Grad Norm 8.0437(9.4700) | Total Time 10.00(10.00)\n",
      "validating...\n",
      "Epoch 0176 | Time 10.6878, Epoch Time 271.3674, Bit/dim 1.3034\n"
     ]
    },
    {
     "name": "stdout",
     "output_type": "stream",
     "text": [
      "do _generate\n",
      "do _generate\n",
      "do _generate\n",
      "do _generate\n",
      "do _generate\n",
      "do _generate\n",
      "do _generate\n",
      "do _generate\n"
     ]
    },
    {
     "name": "stderr",
     "output_type": "stream",
     "text": [
      "===> Using batch size 8000. Total 7 iterations/epoch.\n",
      "Iter 1232 | Time 35.6885(35.6346) | Bit/dim 1.3177(1.3284) | Steps 488(494.43) | Grad Norm 11.7119(9.5372) | Total Time 10.00(10.00)\n",
      "Iter 1233 | Time 37.5270(35.6914) | Bit/dim 1.3288(1.3284) | Steps 506(494.77) | Grad Norm 16.2329(9.7381) | Total Time 10.00(10.00)\n",
      "Iter 1234 | Time 35.1292(35.6745) | Bit/dim 1.3427(1.3288) | Steps 488(494.57) | Grad Norm 21.5403(10.0922) | Total Time 10.00(10.00)\n",
      "Iter 1235 | Time 36.3343(35.6943) | Bit/dim 1.3595(1.3297) | Steps 500(494.73) | Grad Norm 24.7862(10.5330) | Total Time 10.00(10.00)\n",
      "Iter 1236 | Time 34.6506(35.6630) | Bit/dim 1.3580(1.3306) | Steps 488(494.53) | Grad Norm 23.0625(10.9089) | Total Time 10.00(10.00)\n",
      "Iter 1237 | Time 35.5962(35.6610) | Bit/dim 1.3247(1.3304) | Steps 500(494.69) | Grad Norm 12.8050(10.9657) | Total Time 10.00(10.00)\n",
      "Iter 1238 | Time 37.1695(35.7063) | Bit/dim 1.3132(1.3299) | Steps 500(494.85) | Grad Norm 3.5323(10.7427) | Total Time 10.00(10.00)\n",
      "validating...\n",
      "Epoch 0177 | Time 11.0045, Epoch Time 275.2240, Bit/dim 1.3139\n"
     ]
    },
    {
     "name": "stdout",
     "output_type": "stream",
     "text": [
      "do _generate\n",
      "do _generate\n",
      "do _generate\n",
      "do _generate\n",
      "do _generate\n",
      "do _generate\n",
      "do _generate\n",
      "do _generate\n"
     ]
    },
    {
     "name": "stderr",
     "output_type": "stream",
     "text": [
      "===> Using batch size 8000. Total 7 iterations/epoch.\n",
      "Iter 1239 | Time 35.4185(35.6976) | Bit/dim 1.3334(1.3300) | Steps 500(495.01) | Grad Norm 13.1902(10.8162) | Total Time 10.00(10.00)\n",
      "Iter 1240 | Time 35.1082(35.6800) | Bit/dim 1.3323(1.3301) | Steps 494(494.98) | Grad Norm 15.4013(10.9537) | Total Time 10.00(10.00)\n",
      "Iter 1241 | Time 36.0262(35.6903) | Bit/dim 1.3178(1.3297) | Steps 500(495.13) | Grad Norm 9.7009(10.9161) | Total Time 10.00(10.00)\n",
      "Iter 1242 | Time 35.4918(35.6844) | Bit/dim 1.3103(1.3291) | Steps 488(494.91) | Grad Norm 2.3299(10.6586) | Total Time 10.00(10.00)\n",
      "Iter 1243 | Time 36.2692(35.7019) | Bit/dim 1.3136(1.3287) | Steps 500(495.07) | Grad Norm 9.7373(10.6309) | Total Time 10.00(10.00)\n",
      "Iter 1244 | Time 35.9190(35.7084) | Bit/dim 1.3272(1.3286) | Steps 488(494.85) | Grad Norm 15.3382(10.7721) | Total Time 10.00(10.00)\n",
      "Iter 1245 | Time 37.7901(35.7709) | Bit/dim 1.3352(1.3288) | Steps 506(495.19) | Grad Norm 16.5920(10.9467) | Total Time 10.00(10.00)\n",
      "validating...\n",
      "Epoch 0178 | Time 10.6103, Epoch Time 274.7284, Bit/dim 1.3163\n"
     ]
    },
    {
     "name": "stdout",
     "output_type": "stream",
     "text": [
      "do _generate\n",
      "do _generate\n",
      "do _generate\n",
      "do _generate\n",
      "do _generate\n",
      "do _generate\n",
      "do _generate\n",
      "do _generate\n"
     ]
    },
    {
     "name": "stderr",
     "output_type": "stream",
     "text": [
      "===> Using batch size 8000. Total 7 iterations/epoch.\n",
      "Iter 1246 | Time 35.7759(35.7710) | Bit/dim 1.3368(1.3290) | Steps 488(494.97) | Grad Norm 15.3056(11.0775) | Total Time 10.00(10.00)\n",
      "Iter 1247 | Time 38.4662(35.8519) | Bit/dim 1.3247(1.3289) | Steps 506(495.30) | Grad Norm 10.4247(11.0579) | Total Time 10.00(10.00)\n",
      "Iter 1248 | Time 35.5681(35.8434) | Bit/dim 1.3081(1.3283) | Steps 500(495.45) | Grad Norm 3.3289(10.8260) | Total Time 10.00(10.00)\n",
      "Iter 1249 | Time 36.4947(35.8629) | Bit/dim 1.3055(1.3276) | Steps 500(495.58) | Grad Norm 4.0790(10.6236) | Total Time 10.00(10.00)\n",
      "Iter 1250 | Time 36.3588(35.8778) | Bit/dim 1.3122(1.3271) | Steps 500(495.71) | Grad Norm 9.4420(10.5882) | Total Time 10.00(10.00)\n",
      "Iter 1251 | Time 35.0063(35.8517) | Bit/dim 1.3203(1.3269) | Steps 488(495.48) | Grad Norm 11.9318(10.6285) | Total Time 10.00(10.00)\n",
      "Iter 1252 | Time 35.5025(35.8412) | Bit/dim 1.3154(1.3266) | Steps 494(495.44) | Grad Norm 11.8424(10.6649) | Total Time 10.00(10.00)\n",
      "validating...\n",
      "Epoch 0179 | Time 10.9883, Epoch Time 276.1685, Bit/dim 1.2970\n"
     ]
    },
    {
     "name": "stdout",
     "output_type": "stream",
     "text": [
      "do _generate\n",
      "do _generate\n",
      "do _generate\n",
      "do _generate\n",
      "do _generate\n",
      "do _generate\n",
      "do _generate\n",
      "do _generate\n"
     ]
    },
    {
     "name": "stderr",
     "output_type": "stream",
     "text": [
      "===> Using batch size 8000. Total 7 iterations/epoch.\n",
      "Iter 1253 | Time 35.4650(35.8299) | Bit/dim 1.3164(1.3263) | Steps 500(495.58) | Grad Norm 8.5030(10.6000) | Total Time 10.00(10.00)\n",
      "Iter 1254 | Time 36.0850(35.8376) | Bit/dim 1.2992(1.3255) | Steps 500(495.71) | Grad Norm 3.9532(10.4006) | Total Time 10.00(10.00)\n",
      "Iter 1255 | Time 35.2634(35.8203) | Bit/dim 1.3063(1.3249) | Steps 500(495.84) | Grad Norm 2.3308(10.1585) | Total Time 10.00(10.00)\n",
      "Iter 1256 | Time 36.9489(35.8542) | Bit/dim 1.3059(1.3243) | Steps 500(495.96) | Grad Norm 4.5957(9.9917) | Total Time 10.00(10.00)\n",
      "Iter 1257 | Time 36.7578(35.8813) | Bit/dim 1.3089(1.3239) | Steps 506(496.26) | Grad Norm 8.2056(9.9381) | Total Time 10.00(10.00)\n",
      "Iter 1258 | Time 35.3829(35.8663) | Bit/dim 1.3228(1.3238) | Steps 488(496.02) | Grad Norm 11.9275(9.9978) | Total Time 10.00(10.00)\n",
      "Iter 1259 | Time 37.6169(35.9189) | Bit/dim 1.3179(1.3237) | Steps 506(496.31) | Grad Norm 15.1836(10.1533) | Total Time 10.00(10.00)\n",
      "validating...\n",
      "Epoch 0180 | Time 10.5380, Epoch Time 276.1220, Bit/dim 1.3152\n"
     ]
    },
    {
     "name": "stdout",
     "output_type": "stream",
     "text": [
      "do _generate\n",
      "do _generate\n",
      "do _generate\n",
      "do _generate\n",
      "do _generate\n",
      "do _generate\n",
      "do _generate\n",
      "do _generate\n"
     ]
    },
    {
     "name": "stderr",
     "output_type": "stream",
     "text": [
      "===> Using batch size 8000. Total 7 iterations/epoch.\n",
      "Iter 1260 | Time 34.7700(35.8844) | Bit/dim 1.3257(1.3237) | Steps 488(496.07) | Grad Norm 18.4520(10.4023) | Total Time 10.00(10.00)\n",
      "Iter 1261 | Time 36.2753(35.8961) | Bit/dim 1.3336(1.3240) | Steps 500(496.18) | Grad Norm 18.9887(10.6599) | Total Time 10.00(10.00)\n",
      "Iter 1262 | Time 35.3903(35.8809) | Bit/dim 1.3196(1.3239) | Steps 488(495.94) | Grad Norm 15.8237(10.8148) | Total Time 10.00(10.00)\n",
      "Iter 1263 | Time 35.8278(35.8794) | Bit/dim 1.3141(1.3236) | Steps 500(496.06) | Grad Norm 9.0028(10.7604) | Total Time 10.00(10.00)\n",
      "Iter 1264 | Time 35.4243(35.8657) | Bit/dim 1.3053(1.3230) | Steps 500(496.18) | Grad Norm 1.2592(10.4754) | Total Time 10.00(10.00)\n",
      "Iter 1265 | Time 35.4627(35.8536) | Bit/dim 1.3063(1.3225) | Steps 500(496.29) | Grad Norm 8.1075(10.4044) | Total Time 10.00(10.00)\n",
      "Iter 1266 | Time 36.2232(35.8647) | Bit/dim 1.3162(1.3223) | Steps 500(496.40) | Grad Norm 13.3430(10.4925) | Total Time 10.00(10.00)\n",
      "validating...\n",
      "Epoch 0181 | Time 10.6263, Epoch Time 272.1688, Bit/dim 1.3051\n"
     ]
    },
    {
     "name": "stdout",
     "output_type": "stream",
     "text": [
      "do _generate\n",
      "do _generate\n",
      "do _generate\n",
      "do _generate\n",
      "do _generate\n",
      "do _generate\n",
      "do _generate\n",
      "do _generate\n"
     ]
    },
    {
     "name": "stderr",
     "output_type": "stream",
     "text": [
      "===> Using batch size 8000. Total 7 iterations/epoch.\n",
      "Iter 1267 | Time 35.0846(35.8413) | Bit/dim 1.3199(1.3223) | Steps 488(496.15) | Grad Norm 15.3782(10.6391) | Total Time 10.00(10.00)\n",
      "Iter 1268 | Time 37.4247(35.8888) | Bit/dim 1.3192(1.3222) | Steps 494(496.09) | Grad Norm 14.3286(10.7498) | Total Time 10.00(10.00)\n",
      "Iter 1269 | Time 35.2118(35.8685) | Bit/dim 1.3109(1.3218) | Steps 488(495.84) | Grad Norm 11.1812(10.7627) | Total Time 10.00(10.00)\n",
      "Iter 1270 | Time 36.1998(35.8784) | Bit/dim 1.3043(1.3213) | Steps 500(495.97) | Grad Norm 6.2823(10.6283) | Total Time 10.00(10.00)\n",
      "Iter 1271 | Time 35.7044(35.8732) | Bit/dim 1.3032(1.3208) | Steps 500(496.09) | Grad Norm 2.0482(10.3709) | Total Time 10.00(10.00)\n",
      "Iter 1272 | Time 35.9009(35.8740) | Bit/dim 1.3015(1.3202) | Steps 500(496.21) | Grad Norm 2.8765(10.1461) | Total Time 10.00(10.00)\n",
      "Iter 1273 | Time 35.7414(35.8701) | Bit/dim 1.2976(1.3195) | Steps 500(496.32) | Grad Norm 6.3683(10.0327) | Total Time 10.00(10.00)\n",
      "validating...\n",
      "Epoch 0182 | Time 10.8065, Epoch Time 274.2724, Bit/dim 1.2909\n"
     ]
    },
    {
     "name": "stdout",
     "output_type": "stream",
     "text": [
      "do _generate\n",
      "do _generate\n",
      "do _generate\n",
      "do _generate\n",
      "do _generate\n",
      "do _generate\n",
      "do _generate\n",
      "do _generate\n"
     ]
    },
    {
     "name": "stderr",
     "output_type": "stream",
     "text": [
      "===> Using batch size 8000. Total 7 iterations/epoch.\n",
      "Iter 1274 | Time 35.3680(35.8550) | Bit/dim 1.3126(1.3193) | Steps 488(496.07) | Grad Norm 9.6472(10.0212) | Total Time 10.00(10.00)\n",
      "Iter 1275 | Time 36.8876(35.8860) | Bit/dim 1.3077(1.3190) | Steps 506(496.37) | Grad Norm 12.5697(10.0976) | Total Time 10.00(10.00)\n",
      "Iter 1276 | Time 34.3707(35.8405) | Bit/dim 1.3140(1.3188) | Steps 488(496.12) | Grad Norm 15.6750(10.2650) | Total Time 10.00(10.00)\n",
      "Iter 1277 | Time 38.0429(35.9066) | Bit/dim 1.3276(1.3191) | Steps 500(496.23) | Grad Norm 18.3091(10.5063) | Total Time 10.00(10.00)\n",
      "Iter 1278 | Time 35.4727(35.8936) | Bit/dim 1.3263(1.3193) | Steps 488(495.99) | Grad Norm 19.3134(10.7705) | Total Time 10.00(10.00)\n",
      "Iter 1279 | Time 36.2427(35.9040) | Bit/dim 1.3158(1.3192) | Steps 506(496.29) | Grad Norm 16.7899(10.9511) | Total Time 10.00(10.00)\n",
      "Iter 1280 | Time 35.9505(35.9054) | Bit/dim 1.3106(1.3189) | Steps 500(496.40) | Grad Norm 10.3837(10.9341) | Total Time 10.00(10.00)\n",
      "validating...\n",
      "Epoch 0183 | Time 11.2480, Epoch Time 275.8746, Bit/dim 1.2834\n"
     ]
    },
    {
     "name": "stdout",
     "output_type": "stream",
     "text": [
      "do _generate\n",
      "do _generate\n",
      "do _generate\n",
      "do _generate\n",
      "do _generate\n",
      "do _generate\n",
      "do _generate\n",
      "do _generate\n"
     ]
    },
    {
     "name": "stderr",
     "output_type": "stream",
     "text": [
      "===> Using batch size 8000. Total 7 iterations/epoch.\n",
      "Iter 1281 | Time 36.6214(35.9269) | Bit/dim 1.3010(1.3184) | Steps 500(496.51) | Grad Norm 1.9181(10.6636) | Total Time 10.00(10.00)\n",
      "Iter 1282 | Time 36.5740(35.9463) | Bit/dim 1.3023(1.3179) | Steps 500(496.61) | Grad Norm 7.5352(10.5697) | Total Time 10.00(10.00)\n",
      "Iter 1283 | Time 34.0660(35.8899) | Bit/dim 1.3123(1.3177) | Steps 488(496.35) | Grad Norm 13.6480(10.6621) | Total Time 10.00(10.00)\n",
      "Iter 1284 | Time 36.9507(35.9217) | Bit/dim 1.3180(1.3177) | Steps 506(496.64) | Grad Norm 16.2567(10.8299) | Total Time 10.00(10.00)\n",
      "Iter 1285 | Time 35.7906(35.9178) | Bit/dim 1.3214(1.3179) | Steps 488(496.38) | Grad Norm 15.9531(10.9836) | Total Time 10.00(10.00)\n",
      "Iter 1286 | Time 36.6270(35.9391) | Bit/dim 1.2995(1.3173) | Steps 506(496.67) | Grad Norm 12.2579(11.0218) | Total Time 10.00(10.00)\n",
      "Iter 1287 | Time 34.6466(35.9003) | Bit/dim 1.3050(1.3169) | Steps 488(496.41) | Grad Norm 7.2464(10.9086) | Total Time 10.00(10.00)\n",
      "validating...\n",
      "Epoch 0184 | Time 10.9279, Epoch Time 274.4138, Bit/dim 1.2805\n"
     ]
    },
    {
     "name": "stdout",
     "output_type": "stream",
     "text": [
      "do _generate\n",
      "do _generate\n",
      "do _generate\n",
      "do _generate\n",
      "do _generate\n",
      "do _generate\n",
      "do _generate\n",
      "do _generate\n"
     ]
    },
    {
     "name": "stderr",
     "output_type": "stream",
     "text": [
      "===> Using batch size 8000. Total 7 iterations/epoch.\n",
      "Iter 1288 | Time 36.2153(35.9098) | Bit/dim 1.2972(1.3163) | Steps 500(496.52) | Grad Norm 1.7664(10.6343) | Total Time 10.00(10.00)\n",
      "Iter 1289 | Time 35.4887(35.8971) | Bit/dim 1.2974(1.3158) | Steps 500(496.62) | Grad Norm 4.0325(10.4363) | Total Time 10.00(10.00)\n",
      "Iter 1290 | Time 35.2867(35.8788) | Bit/dim 1.2971(1.3152) | Steps 488(496.37) | Grad Norm 8.3145(10.3726) | Total Time 10.00(10.00)\n",
      "Iter 1291 | Time 36.9025(35.9095) | Bit/dim 1.3035(1.3149) | Steps 506(496.65) | Grad Norm 11.9394(10.4196) | Total Time 10.00(10.00)\n",
      "Iter 1292 | Time 34.5299(35.8681) | Bit/dim 1.3132(1.3148) | Steps 488(496.39) | Grad Norm 14.7308(10.5489) | Total Time 10.00(10.00)\n",
      "Iter 1293 | Time 36.6800(35.8925) | Bit/dim 1.3128(1.3148) | Steps 506(496.68) | Grad Norm 16.2664(10.7205) | Total Time 10.00(10.00)\n",
      "Iter 1294 | Time 35.4882(35.8804) | Bit/dim 1.3182(1.3149) | Steps 488(496.42) | Grad Norm 16.9655(10.9078) | Total Time 10.00(10.00)\n",
      "validating...\n",
      "Epoch 0185 | Time 10.9851, Epoch Time 273.8718, Bit/dim 1.2975\n"
     ]
    },
    {
     "name": "stdout",
     "output_type": "stream",
     "text": [
      "do _generate\n",
      "do _generate\n",
      "do _generate\n",
      "do _generate\n",
      "do _generate\n",
      "do _generate\n",
      "do _generate\n",
      "do _generate\n"
     ]
    },
    {
     "name": "stderr",
     "output_type": "stream",
     "text": [
      "===> Using batch size 8000. Total 7 iterations/epoch.\n",
      "Iter 1295 | Time 36.0834(35.8865) | Bit/dim 1.3147(1.3149) | Steps 506(496.71) | Grad Norm 15.5741(11.0478) | Total Time 10.00(10.00)\n",
      "Iter 1296 | Time 34.6057(35.8480) | Bit/dim 1.3045(1.3145) | Steps 488(496.45) | Grad Norm 11.5668(11.0634) | Total Time 10.00(10.00)\n",
      "Iter 1297 | Time 35.8147(35.8470) | Bit/dim 1.2968(1.3140) | Steps 500(496.56) | Grad Norm 5.9571(10.9102) | Total Time 10.00(10.00)\n",
      "Iter 1298 | Time 35.9444(35.8500) | Bit/dim 1.2942(1.3134) | Steps 500(496.66) | Grad Norm 1.7138(10.6343) | Total Time 10.00(10.00)\n",
      "Iter 1299 | Time 35.3010(35.8335) | Bit/dim 1.2955(1.3129) | Steps 488(496.40) | Grad Norm 6.8548(10.5209) | Total Time 10.00(10.00)\n",
      "Iter 1300 | Time 36.2317(35.8454) | Bit/dim 1.3049(1.3126) | Steps 506(496.69) | Grad Norm 11.9795(10.5647) | Total Time 10.00(10.00)\n",
      "Iter 1301 | Time 35.3149(35.8295) | Bit/dim 1.3136(1.3127) | Steps 488(496.43) | Grad Norm 16.4999(10.7427) | Total Time 10.00(10.00)\n",
      "validating...\n",
      "Epoch 0186 | Time 11.2801, Epoch Time 272.5365, Bit/dim 1.3065\n"
     ]
    },
    {
     "name": "stdout",
     "output_type": "stream",
     "text": [
      "do _generate\n",
      "do _generate\n",
      "do _generate\n",
      "do _generate\n",
      "do _generate\n",
      "do _generate\n",
      "do _generate\n",
      "do _generate\n"
     ]
    },
    {
     "name": "stderr",
     "output_type": "stream",
     "text": [
      "===> Using batch size 8000. Total 7 iterations/epoch.\n",
      "Iter 1302 | Time 36.2496(35.8421) | Bit/dim 1.3178(1.3128) | Steps 506(496.71) | Grad Norm 19.9203(11.0181) | Total Time 10.00(10.00)\n",
      "Iter 1303 | Time 34.7552(35.8095) | Bit/dim 1.3296(1.3133) | Steps 488(496.45) | Grad Norm 21.7524(11.3401) | Total Time 10.00(10.00)\n",
      "Iter 1304 | Time 36.1376(35.8194) | Bit/dim 1.3163(1.3134) | Steps 500(496.56) | Grad Norm 18.2202(11.5465) | Total Time 10.00(10.00)\n",
      "Iter 1305 | Time 35.3874(35.8064) | Bit/dim 1.3059(1.3132) | Steps 500(496.66) | Grad Norm 9.8730(11.4963) | Total Time 10.00(10.00)\n",
      "Iter 1306 | Time 35.5042(35.7973) | Bit/dim 1.2970(1.3127) | Steps 500(496.76) | Grad Norm 1.8061(11.2056) | Total Time 10.00(10.00)\n",
      "Iter 1307 | Time 36.0659(35.8054) | Bit/dim 1.3060(1.3125) | Steps 500(496.86) | Grad Norm 11.0851(11.2020) | Total Time 10.00(10.00)\n",
      "Iter 1308 | Time 35.3910(35.7930) | Bit/dim 1.3140(1.3126) | Steps 488(496.59) | Grad Norm 16.0120(11.3463) | Total Time 10.00(10.00)\n",
      "validating...\n",
      "Epoch 0187 | Time 11.1650, Epoch Time 272.6436, Bit/dim 1.2955\n"
     ]
    },
    {
     "name": "stdout",
     "output_type": "stream",
     "text": [
      "do _generate\n",
      "do _generate\n",
      "do _generate\n",
      "do _generate\n",
      "do _generate\n",
      "do _generate\n",
      "do _generate\n",
      "do _generate\n"
     ]
    },
    {
     "name": "stderr",
     "output_type": "stream",
     "text": [
      "===> Using batch size 8000. Total 7 iterations/epoch.\n",
      "Iter 1309 | Time 37.5671(35.8462) | Bit/dim 1.3066(1.3124) | Steps 506(496.88) | Grad Norm 15.0163(11.4564) | Total Time 10.00(10.00)\n",
      "Iter 1310 | Time 35.2471(35.8282) | Bit/dim 1.2993(1.3120) | Steps 488(496.61) | Grad Norm 10.4582(11.4264) | Total Time 10.00(10.00)\n",
      "Iter 1311 | Time 35.5075(35.8186) | Bit/dim 1.2959(1.3115) | Steps 500(496.71) | Grad Norm 3.7373(11.1957) | Total Time 10.00(10.00)\n",
      "Iter 1312 | Time 36.1447(35.8284) | Bit/dim 1.2935(1.3110) | Steps 500(496.81) | Grad Norm 3.5927(10.9677) | Total Time 10.00(10.00)\n",
      "Iter 1313 | Time 35.3565(35.8142) | Bit/dim 1.2934(1.3104) | Steps 500(496.91) | Grad Norm 9.4905(10.9233) | Total Time 10.00(10.00)\n",
      "Iter 1314 | Time 36.7275(35.8416) | Bit/dim 1.3057(1.3103) | Steps 506(497.18) | Grad Norm 14.4246(11.0284) | Total Time 10.00(10.00)\n",
      "Iter 1315 | Time 35.2661(35.8243) | Bit/dim 1.3138(1.3104) | Steps 488(496.90) | Grad Norm 17.4052(11.2197) | Total Time 10.00(10.00)\n",
      "validating...\n",
      "Epoch 0188 | Time 11.0456, Epoch Time 274.9302, Bit/dim 1.2963\n"
     ]
    },
    {
     "name": "stdout",
     "output_type": "stream",
     "text": [
      "do _generatedo _generate\n",
      "\n",
      "do _generate\n",
      "do _generate\n",
      "do _generate\n",
      "do _generate\n",
      "do _generate\n",
      "do _generate\n"
     ]
    },
    {
     "name": "stderr",
     "output_type": "stream",
     "text": [
      "===> Using batch size 8000. Total 7 iterations/epoch.\n",
      "Iter 1316 | Time 36.5956(35.8475) | Bit/dim 1.3146(1.3105) | Steps 506(497.18) | Grad Norm 16.9455(11.3915) | Total Time 10.00(10.00)\n",
      "Iter 1317 | Time 35.2450(35.8294) | Bit/dim 1.3029(1.3103) | Steps 488(496.90) | Grad Norm 13.9374(11.4678) | Total Time 10.00(10.00)\n",
      "Iter 1318 | Time 37.2294(35.8714) | Bit/dim 1.2876(1.3096) | Steps 500(496.99) | Grad Norm 8.3202(11.3734) | Total Time 10.00(10.00)\n",
      "Iter 1319 | Time 35.3664(35.8563) | Bit/dim 1.2912(1.3091) | Steps 500(497.08) | Grad Norm 1.4365(11.0753) | Total Time 10.00(10.00)\n",
      "Iter 1320 | Time 34.6622(35.8204) | Bit/dim 1.2904(1.3085) | Steps 500(497.17) | Grad Norm 5.5241(10.9088) | Total Time 10.00(10.00)\n",
      "Iter 1321 | Time 35.4848(35.8104) | Bit/dim 1.2981(1.3082) | Steps 494(497.08) | Grad Norm 10.7037(10.9026) | Total Time 10.00(10.00)\n",
      "Iter 1322 | Time 34.6758(35.7763) | Bit/dim 1.3070(1.3082) | Steps 488(496.80) | Grad Norm 14.4107(11.0079) | Total Time 10.00(10.00)\n",
      "validating...\n",
      "Epoch 0189 | Time 11.1601, Epoch Time 272.4678, Bit/dim 1.2925\n"
     ]
    },
    {
     "name": "stdout",
     "output_type": "stream",
     "text": [
      "do _generate\n",
      "do _generate\n",
      "do _generate\n",
      "do _generate\n",
      "do _generate\n",
      "do _generate\n",
      "do _generate\n",
      "do _generate\n"
     ]
    },
    {
     "name": "stderr",
     "output_type": "stream",
     "text": [
      "===> Using batch size 8000. Total 7 iterations/epoch.\n",
      "Iter 1323 | Time 37.2019(35.8191) | Bit/dim 1.3011(1.3079) | Steps 506(497.08) | Grad Norm 16.4389(11.1708) | Total Time 10.00(10.00)\n",
      "Iter 1324 | Time 34.6845(35.7851) | Bit/dim 1.3086(1.3080) | Steps 488(496.81) | Grad Norm 17.5433(11.3620) | Total Time 10.00(10.00)\n",
      "Iter 1325 | Time 37.3150(35.8310) | Bit/dim 1.3068(1.3079) | Steps 506(497.08) | Grad Norm 16.7743(11.5243) | Total Time 10.00(10.00)\n",
      "Iter 1326 | Time 35.8206(35.8306) | Bit/dim 1.3027(1.3078) | Steps 488(496.81) | Grad Norm 14.0198(11.5992) | Total Time 10.00(10.00)\n",
      "Iter 1327 | Time 35.8413(35.8310) | Bit/dim 1.2948(1.3074) | Steps 500(496.91) | Grad Norm 8.6726(11.5114) | Total Time 10.00(10.00)\n",
      "Iter 1328 | Time 35.4836(35.8205) | Bit/dim 1.2898(1.3069) | Steps 500(497.00) | Grad Norm 2.3011(11.2351) | Total Time 10.00(10.00)\n",
      "Iter 1329 | Time 37.0103(35.8562) | Bit/dim 1.2939(1.3065) | Steps 500(497.09) | Grad Norm 5.0169(11.0485) | Total Time 10.00(10.00)\n",
      "validating...\n",
      "Epoch 0190 | Time 11.1324, Epoch Time 276.5652, Bit/dim 1.2784\n"
     ]
    },
    {
     "name": "stdout",
     "output_type": "stream",
     "text": [
      "do _generate\n",
      "do _generate\n",
      "do _generate\n",
      "do _generate\n",
      "do _generate\n",
      "do _generate\n",
      "do _generate\n",
      "do _generate\n"
     ]
    },
    {
     "name": "stderr",
     "output_type": "stream",
     "text": [
      "===> Using batch size 8000. Total 7 iterations/epoch.\n",
      "Iter 1330 | Time 37.2577(35.8983) | Bit/dim 1.2932(1.3061) | Steps 500(497.18) | Grad Norm 10.4811(11.0315) | Total Time 10.00(10.00)\n",
      "Iter 1331 | Time 35.0364(35.8724) | Bit/dim 1.2979(1.3058) | Steps 488(496.90) | Grad Norm 14.4807(11.1350) | Total Time 10.00(10.00)\n",
      "Iter 1332 | Time 37.4361(35.9193) | Bit/dim 1.3062(1.3058) | Steps 500(496.99) | Grad Norm 16.9474(11.3094) | Total Time 10.00(10.00)\n",
      "Iter 1333 | Time 35.9674(35.9208) | Bit/dim 1.3096(1.3059) | Steps 488(496.72) | Grad Norm 18.0882(11.5127) | Total Time 10.00(10.00)\n",
      "Iter 1334 | Time 36.7769(35.9465) | Bit/dim 1.2998(1.3058) | Steps 506(497.00) | Grad Norm 16.7188(11.6689) | Total Time 10.00(10.00)\n",
      "Iter 1335 | Time 36.5933(35.9659) | Bit/dim 1.3016(1.3056) | Steps 488(496.73) | Grad Norm 13.2987(11.7178) | Total Time 10.00(10.00)\n",
      "Iter 1336 | Time 36.2409(35.9741) | Bit/dim 1.2974(1.3054) | Steps 500(496.83) | Grad Norm 7.8400(11.6015) | Total Time 10.00(10.00)\n",
      "validating...\n",
      "Epoch 0191 | Time 11.2564, Epoch Time 278.5704, Bit/dim 1.2692\n"
     ]
    },
    {
     "name": "stdout",
     "output_type": "stream",
     "text": [
      "do _generate\n",
      "do _generate\n",
      "do _generate\n",
      "do _generate\n",
      "do _generate\n",
      "do _generate\n",
      "do _generate\n",
      "do _generate\n"
     ]
    },
    {
     "name": "stderr",
     "output_type": "stream",
     "text": [
      "===> Using batch size 8000. Total 7 iterations/epoch.\n",
      "Iter 1337 | Time 35.1172(35.9484) | Bit/dim 1.2877(1.3049) | Steps 500(496.93) | Grad Norm 1.9572(11.3121) | Total Time 10.00(10.00)\n",
      "Iter 1338 | Time 35.8336(35.9450) | Bit/dim 1.2883(1.3044) | Steps 500(497.02) | Grad Norm 4.5052(11.1079) | Total Time 10.00(10.00)\n",
      "Iter 1339 | Time 36.3378(35.9568) | Bit/dim 1.2850(1.3038) | Steps 500(497.11) | Grad Norm 8.8534(11.0403) | Total Time 10.00(10.00)\n",
      "Iter 1340 | Time 35.3205(35.9377) | Bit/dim 1.2939(1.3035) | Steps 488(496.83) | Grad Norm 12.6675(11.0891) | Total Time 10.00(10.00)\n",
      "Iter 1341 | Time 37.0804(35.9719) | Bit/dim 1.2999(1.3034) | Steps 506(497.11) | Grad Norm 15.6064(11.2246) | Total Time 10.00(10.00)\n",
      "Iter 1342 | Time 35.5951(35.9606) | Bit/dim 1.3072(1.3035) | Steps 488(496.84) | Grad Norm 18.0348(11.4289) | Total Time 10.00(10.00)\n",
      "Iter 1343 | Time 38.1852(36.0274) | Bit/dim 1.3118(1.3037) | Steps 506(497.11) | Grad Norm 19.6453(11.6754) | Total Time 10.00(10.00)\n",
      "validating...\n",
      "Epoch 0192 | Time 10.6722, Epoch Time 276.3914, Bit/dim 1.3000\n"
     ]
    },
    {
     "name": "stdout",
     "output_type": "stream",
     "text": [
      "do _generate\n",
      "do _generate\n",
      "do _generate\n",
      "do _generate\n",
      "do _generate\n",
      "do _generate\n",
      "do _generate\n",
      "do _generate\n"
     ]
    },
    {
     "name": "stderr",
     "output_type": "stream",
     "text": [
      "===> Using batch size 8000. Total 7 iterations/epoch.\n",
      "Iter 1344 | Time 35.3895(36.0082) | Bit/dim 1.3129(1.3040) | Steps 488(496.84) | Grad Norm 19.1933(11.9010) | Total Time 10.00(10.00)\n",
      "Iter 1345 | Time 36.2128(36.0144) | Bit/dim 1.2931(1.3037) | Steps 506(497.11) | Grad Norm 13.7512(11.9565) | Total Time 10.00(10.00)\n",
      "Iter 1346 | Time 35.7888(36.0076) | Bit/dim 1.2849(1.3031) | Steps 500(497.20) | Grad Norm 5.3498(11.7583) | Total Time 10.00(10.00)\n",
      "Iter 1347 | Time 35.5163(35.9929) | Bit/dim 1.2844(1.3026) | Steps 500(497.28) | Grad Norm 4.5923(11.5433) | Total Time 10.00(10.00)\n",
      "Iter 1348 | Time 37.4332(36.0361) | Bit/dim 1.2936(1.3023) | Steps 506(497.54) | Grad Norm 10.7325(11.5190) | Total Time 10.00(10.00)\n",
      "Iter 1349 | Time 34.9222(36.0027) | Bit/dim 1.3043(1.3024) | Steps 488(497.26) | Grad Norm 13.8447(11.5887) | Total Time 10.00(10.00)\n",
      "Iter 1350 | Time 36.1865(36.0082) | Bit/dim 1.3011(1.3023) | Steps 500(497.34) | Grad Norm 13.9149(11.6585) | Total Time 10.00(10.00)\n",
      "validating...\n",
      "Epoch 0193 | Time 10.8459, Epoch Time 274.3476, Bit/dim 1.2746\n"
     ]
    },
    {
     "name": "stdout",
     "output_type": "stream",
     "text": [
      "do _generate\n",
      "do _generate\n",
      "do _generate\n",
      "do _generate\n",
      "do _generate\n",
      "do _generate\n",
      "do _generate\n",
      "do _generate\n"
     ]
    },
    {
     "name": "stderr",
     "output_type": "stream",
     "text": [
      "===> Using batch size 8000. Total 7 iterations/epoch.\n",
      "Iter 1351 | Time 35.6835(35.9984) | Bit/dim 1.2953(1.3021) | Steps 488(497.06) | Grad Norm 11.2870(11.6474) | Total Time 10.00(10.00)\n",
      "Iter 1352 | Time 35.8083(35.9927) | Bit/dim 1.2845(1.3016) | Steps 500(497.15) | Grad Norm 6.8972(11.5049) | Total Time 10.00(10.00)\n",
      "Iter 1353 | Time 35.0581(35.9647) | Bit/dim 1.2847(1.3011) | Steps 488(496.87) | Grad Norm 3.7166(11.2712) | Total Time 10.00(10.00)\n",
      "Iter 1354 | Time 36.8398(35.9909) | Bit/dim 1.2777(1.3004) | Steps 500(496.97) | Grad Norm 2.8870(11.0197) | Total Time 10.00(10.00)\n",
      "Iter 1355 | Time 36.5473(36.0076) | Bit/dim 1.2754(1.2996) | Steps 494(496.88) | Grad Norm 3.9073(10.8063) | Total Time 10.00(10.00)\n",
      "Iter 1356 | Time 35.0129(35.9778) | Bit/dim 1.2825(1.2991) | Steps 488(496.61) | Grad Norm 6.9308(10.6901) | Total Time 10.00(10.00)\n",
      "Iter 1357 | Time 37.1004(36.0115) | Bit/dim 1.2924(1.2989) | Steps 506(496.89) | Grad Norm 11.0394(10.7005) | Total Time 10.00(10.00)\n",
      "validating...\n",
      "Epoch 0194 | Time 10.9441, Epoch Time 275.2046, Bit/dim 1.2836\n"
     ]
    },
    {
     "name": "stdout",
     "output_type": "stream",
     "text": [
      "do _generate\n",
      "do _generate\n",
      "do _generate\n",
      "do _generate\n",
      "do _generate\n",
      "do _generate\n",
      "do _generate\n",
      "do _generate\n"
     ]
    },
    {
     "name": "stderr",
     "output_type": "stream",
     "text": [
      "===> Using batch size 8000. Total 7 iterations/epoch.\n",
      "Iter 1358 | Time 34.0798(35.9535) | Bit/dim 1.2981(1.2989) | Steps 488(496.63) | Grad Norm 16.2723(10.8677) | Total Time 10.00(10.00)\n",
      "Iter 1359 | Time 37.7348(36.0070) | Bit/dim 1.3109(1.2992) | Steps 506(496.91) | Grad Norm 22.7616(11.2245) | Total Time 10.00(10.00)\n",
      "Iter 1360 | Time 35.2280(35.9836) | Bit/dim 1.3464(1.3007) | Steps 488(496.64) | Grad Norm 27.5619(11.7146) | Total Time 10.00(10.00)\n",
      "Iter 1361 | Time 37.1099(36.0174) | Bit/dim 1.3300(1.3015) | Steps 500(496.74) | Grad Norm 23.9856(12.0828) | Total Time 10.00(10.00)\n",
      "Iter 1362 | Time 37.1931(36.0527) | Bit/dim 1.2925(1.3013) | Steps 488(496.48) | Grad Norm 11.4562(12.0640) | Total Time 10.00(10.00)\n",
      "Iter 1363 | Time 36.7215(36.0727) | Bit/dim 1.2879(1.3009) | Steps 500(496.59) | Grad Norm 5.2125(11.8584) | Total Time 10.00(10.00)\n",
      "Iter 1364 | Time 37.2113(36.1069) | Bit/dim 1.3138(1.3013) | Steps 500(496.69) | Grad Norm 17.4883(12.0273) | Total Time 10.00(10.00)\n",
      "validating...\n",
      "Epoch 0195 | Time 10.7264, Epoch Time 278.4740, Bit/dim 1.2966\n"
     ]
    },
    {
     "name": "stdout",
     "output_type": "stream",
     "text": [
      "do _generate\n",
      "do _generate\n",
      "do _generate\n",
      "do _generate\n",
      "do _generate\n",
      "do _generate\n",
      "do _generate\n",
      "do _generate\n"
     ]
    },
    {
     "name": "stderr",
     "output_type": "stream",
     "text": [
      "===> Using batch size 8000. Total 7 iterations/epoch.\n",
      "Iter 1365 | Time 35.9497(36.1022) | Bit/dim 1.3136(1.3016) | Steps 488(496.43) | Grad Norm 18.6331(12.2255) | Total Time 10.00(10.00)\n",
      "Iter 1366 | Time 35.4478(36.0825) | Bit/dim 1.2841(1.3011) | Steps 500(496.53) | Grad Norm 8.6941(12.1195) | Total Time 10.00(10.00)\n",
      "Iter 1367 | Time 36.8120(36.1044) | Bit/dim 1.2869(1.3007) | Steps 500(496.64) | Grad Norm 5.4946(11.9208) | Total Time 10.00(10.00)\n",
      "Iter 1368 | Time 35.5374(36.0874) | Bit/dim 1.3001(1.3007) | Steps 488(496.38) | Grad Norm 16.3297(12.0531) | Total Time 10.00(10.00)\n",
      "Iter 1369 | Time 36.7202(36.1064) | Bit/dim 1.3095(1.3009) | Steps 500(496.49) | Grad Norm 19.5080(12.2767) | Total Time 10.00(10.00)\n",
      "Iter 1370 | Time 35.5642(36.0901) | Bit/dim 1.3013(1.3009) | Steps 488(496.23) | Grad Norm 16.1223(12.3921) | Total Time 10.00(10.00)\n",
      "Iter 1371 | Time 36.7881(36.1111) | Bit/dim 1.2811(1.3003) | Steps 506(496.53) | Grad Norm 7.5243(12.2460) | Total Time 10.00(10.00)\n",
      "validating...\n",
      "Epoch 0196 | Time 11.1621, Epoch Time 276.2190, Bit/dim 1.2652\n"
     ]
    },
    {
     "name": "stdout",
     "output_type": "stream",
     "text": [
      "do _generate\n",
      "do _generate\n",
      "do _generate\n",
      "do _generate\n",
      "do _generate\n",
      "do _generate\n",
      "do _generate\n",
      "do _generate\n"
     ]
    },
    {
     "name": "stderr",
     "output_type": "stream",
     "text": [
      "===> Using batch size 8000. Total 7 iterations/epoch.\n",
      "Iter 1372 | Time 35.9188(36.1053) | Bit/dim 1.2820(1.2998) | Steps 500(496.63) | Grad Norm 3.8790(11.9950) | Total Time 10.00(10.00)\n",
      "Iter 1373 | Time 35.3842(36.0837) | Bit/dim 1.2891(1.2995) | Steps 488(496.37) | Grad Norm 11.7653(11.9881) | Total Time 10.00(10.00)\n",
      "Iter 1374 | Time 38.7496(36.1636) | Bit/dim 1.2932(1.2993) | Steps 506(496.66) | Grad Norm 15.3994(12.0905) | Total Time 10.00(10.00)\n",
      "Iter 1375 | Time 35.0556(36.1304) | Bit/dim 1.2972(1.2992) | Steps 488(496.40) | Grad Norm 13.6230(12.1365) | Total Time 10.00(10.00)\n",
      "Iter 1376 | Time 37.3524(36.1671) | Bit/dim 1.2843(1.2988) | Steps 506(496.69) | Grad Norm 7.7406(12.0046) | Total Time 10.00(10.00)\n",
      "Iter 1377 | Time 35.6305(36.1510) | Bit/dim 1.2710(1.2979) | Steps 500(496.79) | Grad Norm 1.2962(11.6833) | Total Time 10.00(10.00)\n",
      "Iter 1378 | Time 34.9438(36.1147) | Bit/dim 1.2755(1.2973) | Steps 488(496.52) | Grad Norm 7.1396(11.5470) | Total Time 10.00(10.00)\n",
      "validating...\n",
      "Epoch 0197 | Time 11.1636, Epoch Time 276.2399, Bit/dim 1.2698\n"
     ]
    },
    {
     "name": "stdout",
     "output_type": "stream",
     "text": [
      "do _generate\n",
      "do _generate\n",
      "do _generate\n",
      "do _generate\n",
      "do _generate\n",
      "do _generate\n",
      "do _generate\n",
      "do _generate\n"
     ]
    },
    {
     "name": "stderr",
     "output_type": "stream",
     "text": [
      "===> Using batch size 8000. Total 7 iterations/epoch.\n",
      "Iter 1379 | Time 38.2054(36.1775) | Bit/dim 1.2868(1.2970) | Steps 506(496.81) | Grad Norm 12.0588(11.5624) | Total Time 10.00(10.00)\n",
      "Iter 1380 | Time 35.3171(36.1517) | Bit/dim 1.2986(1.2970) | Steps 488(496.54) | Grad Norm 15.2259(11.6723) | Total Time 10.00(10.00)\n",
      "Iter 1381 | Time 36.6139(36.1655) | Bit/dim 1.2913(1.2968) | Steps 506(496.83) | Grad Norm 15.4390(11.7853) | Total Time 10.00(10.00)\n",
      "Iter 1382 | Time 35.2839(36.1391) | Bit/dim 1.2880(1.2966) | Steps 488(496.56) | Grad Norm 13.2240(11.8284) | Total Time 10.00(10.00)\n",
      "Iter 1383 | Time 37.7649(36.1878) | Bit/dim 1.2795(1.2961) | Steps 506(496.85) | Grad Norm 8.3732(11.7248) | Total Time 10.00(10.00)\n",
      "Iter 1384 | Time 37.2268(36.2190) | Bit/dim 1.2746(1.2954) | Steps 500(496.94) | Grad Norm 2.4829(11.4475) | Total Time 10.00(10.00)\n",
      "Iter 1385 | Time 35.4818(36.1969) | Bit/dim 1.2725(1.2947) | Steps 500(497.03) | Grad Norm 3.3468(11.2045) | Total Time 10.00(10.00)\n",
      "validating...\n",
      "Epoch 0198 | Time 11.0443, Epoch Time 278.9660, Bit/dim 1.2637\n"
     ]
    },
    {
     "name": "stdout",
     "output_type": "stream",
     "text": [
      "do _generate\n",
      "do _generate\n",
      "do _generate\n",
      "do _generate\n",
      "do _generate\n",
      "do _generate\n",
      "do _generate\n",
      "do _generate\n"
     ]
    },
    {
     "name": "stderr",
     "output_type": "stream",
     "text": [
      "===> Using batch size 8000. Total 7 iterations/epoch.\n",
      "Iter 1386 | Time 37.4142(36.2334) | Bit/dim 1.2783(1.2942) | Steps 506(497.30) | Grad Norm 8.6179(11.1269) | Total Time 10.00(10.00)\n",
      "Iter 1387 | Time 34.8175(36.1909) | Bit/dim 1.2828(1.2939) | Steps 488(497.02) | Grad Norm 13.0180(11.1836) | Total Time 10.00(10.00)\n",
      "Iter 1388 | Time 37.7441(36.2375) | Bit/dim 1.2938(1.2939) | Steps 506(497.29) | Grad Norm 16.8999(11.3551) | Total Time 10.00(10.00)\n",
      "Iter 1389 | Time 34.7277(36.1922) | Bit/dim 1.3040(1.2942) | Steps 488(497.01) | Grad Norm 20.0389(11.6156) | Total Time 10.00(10.00)\n",
      "Iter 1390 | Time 37.1296(36.2204) | Bit/dim 1.3060(1.2945) | Steps 506(497.28) | Grad Norm 20.3336(11.8772) | Total Time 10.00(10.00)\n",
      "Iter 1391 | Time 34.5615(36.1706) | Bit/dim 1.2996(1.2947) | Steps 488(497.00) | Grad Norm 17.3942(12.0427) | Total Time 10.00(10.00)\n",
      "Iter 1392 | Time 36.6018(36.1835) | Bit/dim 1.2824(1.2943) | Steps 506(497.27) | Grad Norm 10.4282(11.9943) | Total Time 10.00(10.00)\n",
      "validating...\n",
      "Epoch 0199 | Time 11.2826, Epoch Time 276.4041, Bit/dim 1.2578\n"
     ]
    },
    {
     "name": "stdout",
     "output_type": "stream",
     "text": [
      "do _generate\n",
      "do _generate\n",
      "do _generate\n",
      "do _generate\n",
      "do _generate\n",
      "do _generate\n",
      "do _generate\n",
      "do _generate\n"
     ]
    },
    {
     "name": "stderr",
     "output_type": "stream",
     "text": [
      "===> Using batch size 8000. Total 7 iterations/epoch.\n",
      "Iter 1393 | Time 35.6616(36.1679) | Bit/dim 1.2758(1.2938) | Steps 500(497.36) | Grad Norm 1.4077(11.6767) | Total Time 10.00(10.00)\n",
      "Iter 1394 | Time 35.5279(36.1487) | Bit/dim 1.2721(1.2931) | Steps 488(497.08) | Grad Norm 8.0199(11.5670) | Total Time 10.00(10.00)\n",
      "Iter 1395 | Time 37.0502(36.1757) | Bit/dim 1.2865(1.2929) | Steps 506(497.34) | Grad Norm 13.8277(11.6348) | Total Time 10.00(10.00)\n",
      "Iter 1396 | Time 35.7662(36.1634) | Bit/dim 1.2948(1.2930) | Steps 488(497.06) | Grad Norm 15.6957(11.7566) | Total Time 10.00(10.00)\n",
      "Iter 1397 | Time 36.6330(36.1775) | Bit/dim 1.2881(1.2928) | Steps 506(497.33) | Grad Norm 13.3846(11.8054) | Total Time 10.00(10.00)\n",
      "Iter 1398 | Time 36.2506(36.1797) | Bit/dim 1.2800(1.2925) | Steps 488(497.05) | Grad Norm 9.5423(11.7375) | Total Time 10.00(10.00)\n",
      "Iter 1399 | Time 37.2989(36.2133) | Bit/dim 1.2741(1.2919) | Steps 506(497.32) | Grad Norm 4.9441(11.5337) | Total Time 10.00(10.00)\n",
      "validating...\n",
      "Epoch 0200 | Time 11.1341, Epoch Time 277.5351, Bit/dim 1.2562\n"
     ]
    },
    {
     "name": "stdout",
     "output_type": "stream",
     "text": [
      "do _generate\n",
      "do _generate\n",
      "do _generate\n",
      "do _generate\n",
      "do _generate\n",
      "do _generate\n",
      "do _generate\n",
      "do _generate\n"
     ]
    },
    {
     "name": "stderr",
     "output_type": "stream",
     "text": [
      "===> Using batch size 8000. Total 7 iterations/epoch.\n",
      "Iter 1400 | Time 35.4161(36.1894) | Bit/dim 1.2693(1.2912) | Steps 494(497.22) | Grad Norm 0.9400(11.2159) | Total Time 10.00(10.00)\n",
      "Iter 1401 | Time 35.5441(36.1700) | Bit/dim 1.2725(1.2907) | Steps 500(497.30) | Grad Norm 3.7942(10.9933) | Total Time 10.00(10.00)\n",
      "Iter 1402 | Time 36.8253(36.1897) | Bit/dim 1.2758(1.2902) | Steps 506(497.56) | Grad Norm 7.9078(10.9007) | Total Time 10.00(10.00)\n",
      "Iter 1403 | Time 35.5087(36.1692) | Bit/dim 1.2818(1.2900) | Steps 488(497.28) | Grad Norm 12.2518(10.9412) | Total Time 10.00(10.00)\n",
      "Iter 1404 | Time 38.0776(36.2265) | Bit/dim 1.2918(1.2900) | Steps 506(497.54) | Grad Norm 17.4658(11.1370) | Total Time 10.00(10.00)\n",
      "Iter 1405 | Time 35.4431(36.2030) | Bit/dim 1.3122(1.2907) | Steps 488(497.25) | Grad Norm 22.9450(11.4912) | Total Time 10.00(10.00)\n",
      "Iter 1406 | Time 36.0213(36.1975) | Bit/dim 1.3182(1.2915) | Steps 500(497.34) | Grad Norm 25.1634(11.9014) | Total Time 10.00(10.00)\n",
      "validating...\n",
      "Epoch 0201 | Time 10.8673, Epoch Time 276.1518, Bit/dim 1.2969\n"
     ]
    },
    {
     "name": "stdout",
     "output_type": "stream",
     "text": [
      "do _generate\n",
      "do _generate\n",
      "do _generate\n",
      "do _generate\n",
      "do _generate\n",
      "do _generate\n",
      "do _generate\n",
      "do _generate\n"
     ]
    },
    {
     "name": "stderr",
     "output_type": "stream",
     "text": [
      "===> Using batch size 8000. Total 7 iterations/epoch.\n",
      "Iter 1407 | Time 35.1558(36.1663) | Bit/dim 1.3163(1.2923) | Steps 488(497.05) | Grad Norm 21.2722(12.1825) | Total Time 10.00(10.00)\n",
      "Iter 1408 | Time 36.4331(36.1743) | Bit/dim 1.2792(1.2919) | Steps 500(497.14) | Grad Norm 9.3130(12.0964) | Total Time 10.00(10.00)\n",
      "Iter 1409 | Time 35.5406(36.1553) | Bit/dim 1.2797(1.2915) | Steps 500(497.23) | Grad Norm 7.1323(11.9475) | Total Time 10.00(10.00)\n",
      "Iter 1410 | Time 34.4663(36.1046) | Bit/dim 1.2914(1.2915) | Steps 488(496.95) | Grad Norm 16.6438(12.0884) | Total Time 10.00(10.00)\n",
      "Iter 1411 | Time 36.9268(36.1293) | Bit/dim 1.2905(1.2915) | Steps 500(497.04) | Grad Norm 16.1972(12.2117) | Total Time 10.00(10.00)\n",
      "Iter 1412 | Time 36.0011(36.1254) | Bit/dim 1.2777(1.2911) | Steps 488(496.77) | Grad Norm 8.0838(12.0878) | Total Time 10.00(10.00)\n",
      "Iter 1413 | Time 34.7997(36.0857) | Bit/dim 1.2725(1.2905) | Steps 494(496.69) | Grad Norm 3.2964(11.8241) | Total Time 10.00(10.00)\n",
      "validating...\n",
      "Epoch 0202 | Time 10.9518, Epoch Time 272.2330, Bit/dim 1.2662\n"
     ]
    },
    {
     "name": "stdout",
     "output_type": "stream",
     "text": [
      "do _generate\n",
      "do _generate\n",
      "do _generate\n",
      "do _generate\n",
      "do _generate\n",
      "do _generate\n",
      "do _generate\n",
      "do _generate\n"
     ]
    },
    {
     "name": "stderr",
     "output_type": "stream",
     "text": [
      "===> Using batch size 8000. Total 7 iterations/epoch.\n",
      "Iter 1414 | Time 37.4974(36.1280) | Bit/dim 1.2725(1.2900) | Steps 506(496.97) | Grad Norm 12.1184(11.8329) | Total Time 10.00(10.00)\n",
      "Iter 1415 | Time 34.7271(36.0860) | Bit/dim 1.2975(1.2902) | Steps 488(496.70) | Grad Norm 17.8037(12.0120) | Total Time 10.00(10.00)\n",
      "Iter 1416 | Time 36.8320(36.1084) | Bit/dim 1.3023(1.2905) | Steps 506(496.98) | Grad Norm 18.3699(12.2028) | Total Time 10.00(10.00)\n",
      "Iter 1417 | Time 34.9107(36.0724) | Bit/dim 1.2850(1.2904) | Steps 488(496.71) | Grad Norm 15.1045(12.2898) | Total Time 10.00(10.00)\n",
      "Iter 1418 | Time 38.3317(36.1402) | Bit/dim 1.2753(1.2899) | Steps 506(496.99) | Grad Norm 8.0248(12.1619) | Total Time 10.00(10.00)\n",
      "Iter 1419 | Time 35.2354(36.1131) | Bit/dim 1.2638(1.2891) | Steps 500(497.08) | Grad Norm 1.9739(11.8562) | Total Time 10.00(10.00)\n",
      "Iter 1420 | Time 34.7621(36.0725) | Bit/dim 1.2763(1.2888) | Steps 488(496.81) | Grad Norm 8.7143(11.7620) | Total Time 10.00(10.00)\n",
      "validating...\n",
      "Epoch 0203 | Time 10.9410, Epoch Time 275.5248, Bit/dim 1.2673\n"
     ]
    },
    {
     "name": "stdout",
     "output_type": "stream",
     "text": [
      "do _generate\n",
      "do _generate\n",
      "do _generate\n",
      "do _generate\n",
      "do _generate\n",
      "do _generate\n",
      "do _generate\n",
      "do _generate\n"
     ]
    },
    {
     "name": "stderr",
     "output_type": "stream",
     "text": [
      "===> Using batch size 8000. Total 7 iterations/epoch.\n",
      "Iter 1421 | Time 36.9120(36.0977) | Bit/dim 1.2859(1.2887) | Steps 506(497.08) | Grad Norm 13.4836(11.8136) | Total Time 10.00(10.00)\n",
      "Iter 1422 | Time 34.5260(36.0506) | Bit/dim 1.2870(1.2886) | Steps 488(496.81) | Grad Norm 14.4667(11.8932) | Total Time 10.00(10.00)\n",
      "Iter 1423 | Time 37.2215(36.0857) | Bit/dim 1.2782(1.2883) | Steps 506(497.08) | Grad Norm 12.4149(11.9089) | Total Time 10.00(10.00)\n",
      "Iter 1424 | Time 35.1283(36.0570) | Bit/dim 1.2705(1.2878) | Steps 488(496.81) | Grad Norm 8.7245(11.8133) | Total Time 10.00(10.00)\n",
      "Iter 1425 | Time 34.8843(36.0218) | Bit/dim 1.2655(1.2871) | Steps 500(496.91) | Grad Norm 4.1496(11.5834) | Total Time 10.00(10.00)\n",
      "Iter 1426 | Time 35.4699(36.0052) | Bit/dim 1.2673(1.2865) | Steps 500(497.00) | Grad Norm 2.4362(11.3090) | Total Time 10.00(10.00)\n",
      "Iter 1427 | Time 35.5700(35.9922) | Bit/dim 1.2689(1.2860) | Steps 488(496.73) | Grad Norm 7.5964(11.1976) | Total Time 10.00(10.00)\n",
      "validating...\n",
      "Epoch 0204 | Time 11.0659, Epoch Time 272.8933, Bit/dim 1.2625\n"
     ]
    },
    {
     "name": "stdout",
     "output_type": "stream",
     "text": [
      "do _generate\n",
      "do _generate\n",
      "do _generate\n",
      "do _generate\n",
      "do _generate\n",
      "do _generate\n",
      "do _generate\n",
      "do _generate\n"
     ]
    },
    {
     "name": "stderr",
     "output_type": "stream",
     "text": [
      "===> Using batch size 8000. Total 7 iterations/epoch.\n",
      "Iter 1428 | Time 37.5945(36.0403) | Bit/dim 1.2764(1.2857) | Steps 506(497.01) | Grad Norm 12.3443(11.2320) | Total Time 10.00(10.00)\n",
      "Iter 1429 | Time 35.6857(36.0296) | Bit/dim 1.2842(1.2857) | Steps 488(496.74) | Grad Norm 16.4507(11.3886) | Total Time 10.00(10.00)\n",
      "Iter 1430 | Time 36.2438(36.0360) | Bit/dim 1.2936(1.2859) | Steps 506(497.02) | Grad Norm 19.6071(11.6351) | Total Time 10.00(10.00)\n",
      "Iter 1431 | Time 34.9911(36.0047) | Bit/dim 1.2989(1.2863) | Steps 488(496.75) | Grad Norm 21.0681(11.9181) | Total Time 10.00(10.00)\n",
      "Iter 1432 | Time 36.2962(36.0134) | Bit/dim 1.2869(1.2863) | Steps 506(497.02) | Grad Norm 17.1277(12.0744) | Total Time 10.00(10.00)\n",
      "Iter 1433 | Time 34.9558(35.9817) | Bit/dim 1.2761(1.2860) | Steps 488(496.75) | Grad Norm 9.1044(11.9853) | Total Time 10.00(10.00)\n",
      "Iter 1434 | Time 35.7090(35.9735) | Bit/dim 1.2709(1.2855) | Steps 494(496.67) | Grad Norm 2.5913(11.7035) | Total Time 10.00(10.00)\n",
      "validating...\n",
      "Epoch 0205 | Time 11.1828, Epoch Time 274.7261, Bit/dim 1.2566\n"
     ]
    },
    {
     "name": "stdout",
     "output_type": "stream",
     "text": [
      "do _generate\n",
      "do _generate\n",
      "do _generate\n",
      "do _generate\n",
      "do _generate\n",
      "do _generate\n",
      "do _generate\n",
      "do _generate\n"
     ]
    },
    {
     "name": "stderr",
     "output_type": "stream",
     "text": [
      "===> Using batch size 8000. Total 7 iterations/epoch.\n",
      "Iter 1435 | Time 36.8646(36.0003) | Bit/dim 1.2733(1.2852) | Steps 506(496.95) | Grad Norm 9.7106(11.6437) | Total Time 10.00(10.00)\n",
      "Iter 1436 | Time 35.0383(35.9714) | Bit/dim 1.2807(1.2850) | Steps 488(496.68) | Grad Norm 14.9989(11.7444) | Total Time 10.00(10.00)\n",
      "Iter 1437 | Time 37.6136(36.0207) | Bit/dim 1.2852(1.2850) | Steps 500(496.78) | Grad Norm 15.6906(11.8628) | Total Time 10.00(10.00)\n",
      "Iter 1438 | Time 34.7065(35.9812) | Bit/dim 1.2782(1.2848) | Steps 488(496.52) | Grad Norm 12.7511(11.8894) | Total Time 10.00(10.00)\n",
      "Iter 1439 | Time 38.0049(36.0419) | Bit/dim 1.2674(1.2843) | Steps 506(496.80) | Grad Norm 7.4509(11.7562) | Total Time 10.00(10.00)\n",
      "Iter 1440 | Time 34.7269(36.0025) | Bit/dim 1.2596(1.2836) | Steps 488(496.54) | Grad Norm 2.9480(11.4920) | Total Time 10.00(10.00)\n",
      "Iter 1441 | Time 37.4017(36.0445) | Bit/dim 1.2661(1.2831) | Steps 500(496.64) | Grad Norm 4.3176(11.2768) | Total Time 10.00(10.00)\n",
      "validating...\n",
      "Epoch 0206 | Time 11.2268, Epoch Time 277.6837, Bit/dim 1.2516\n"
     ]
    },
    {
     "name": "stdout",
     "output_type": "stream",
     "text": [
      "do _generate\n",
      "do _generate\n",
      "do _generate\n",
      "do _generate\n",
      "do _generate\n",
      "do _generate\n",
      "do _generate\n",
      "do _generate\n"
     ]
    },
    {
     "name": "stderr",
     "output_type": "stream",
     "text": [
      "===> Using batch size 8000. Total 7 iterations/epoch.\n",
      "Iter 1442 | Time 36.2367(36.0502) | Bit/dim 1.2680(1.2826) | Steps 506(496.92) | Grad Norm 8.5236(11.1942) | Total Time 10.00(10.00)\n",
      "Iter 1443 | Time 35.0388(36.0199) | Bit/dim 1.2753(1.2824) | Steps 488(496.66) | Grad Norm 13.3666(11.2593) | Total Time 10.00(10.00)\n",
      "Iter 1444 | Time 36.2200(36.0259) | Bit/dim 1.2871(1.2825) | Steps 506(496.94) | Grad Norm 18.7582(11.4843) | Total Time 10.00(10.00)\n",
      "Iter 1445 | Time 35.0296(35.9960) | Bit/dim 1.3089(1.2833) | Steps 488(496.67) | Grad Norm 22.8599(11.8256) | Total Time 10.00(10.00)\n",
      "Iter 1446 | Time 36.7094(36.0174) | Bit/dim 1.2918(1.2836) | Steps 506(496.95) | Grad Norm 21.5564(12.1175) | Total Time 10.00(10.00)\n",
      "Iter 1447 | Time 34.8581(35.9826) | Bit/dim 1.2871(1.2837) | Steps 488(496.68) | Grad Norm 15.1808(12.2094) | Total Time 10.00(10.00)\n",
      "Iter 1448 | Time 35.7467(35.9756) | Bit/dim 1.2685(1.2832) | Steps 494(496.60) | Grad Norm 5.5811(12.0106) | Total Time 10.00(10.00)\n",
      "validating...\n",
      "Epoch 0207 | Time 11.2461, Epoch Time 273.0350, Bit/dim 1.2542\n"
     ]
    },
    {
     "name": "stdout",
     "output_type": "stream",
     "text": [
      "do _generate\n",
      "do _generate\n",
      "do _generate\n",
      "do _generate\n",
      "do _generate\n",
      "do _generate\n",
      "do _generate\n",
      "do _generate\n"
     ]
    },
    {
     "name": "stderr",
     "output_type": "stream",
     "text": [
      "===> Using batch size 8000. Total 7 iterations/epoch.\n",
      "Iter 1449 | Time 36.1020(35.9793) | Bit/dim 1.2679(1.2828) | Steps 500(496.70) | Grad Norm 7.2258(11.8670) | Total Time 10.00(10.00)\n",
      "Iter 1450 | Time 34.8864(35.9466) | Bit/dim 1.2759(1.2826) | Steps 488(496.44) | Grad Norm 14.6437(11.9503) | Total Time 10.00(10.00)\n",
      "Iter 1451 | Time 36.5874(35.9658) | Bit/dim 1.2813(1.2825) | Steps 500(496.55) | Grad Norm 16.1036(12.0749) | Total Time 10.00(10.00)\n",
      "Iter 1452 | Time 35.7378(35.9589) | Bit/dim 1.2757(1.2823) | Steps 488(496.29) | Grad Norm 12.0823(12.0751) | Total Time 10.00(10.00)\n",
      "Iter 1453 | Time 36.7892(35.9839) | Bit/dim 1.2643(1.2818) | Steps 506(496.58) | Grad Norm 4.9679(11.8619) | Total Time 10.00(10.00)\n",
      "Iter 1454 | Time 35.4940(35.9692) | Bit/dim 1.2597(1.2811) | Steps 494(496.50) | Grad Norm 3.3343(11.6061) | Total Time 10.00(10.00)\n",
      "Iter 1455 | Time 36.3883(35.9817) | Bit/dim 1.2686(1.2807) | Steps 488(496.25) | Grad Norm 9.3407(11.5381) | Total Time 10.00(10.00)\n",
      "validating...\n",
      "Epoch 0208 | Time 10.9644, Epoch Time 275.2672, Bit/dim 1.2614\n"
     ]
    },
    {
     "name": "stdout",
     "output_type": "stream",
     "text": [
      "do _generate\n",
      "do _generate\n",
      "do _generate\n",
      "do _generate\n",
      "do _generate\n",
      "do _generate\n",
      "do _generate\n",
      "do _generate\n"
     ]
    },
    {
     "name": "stderr",
     "output_type": "stream",
     "text": [
      "===> Using batch size 8000. Total 7 iterations/epoch.\n",
      "Iter 1456 | Time 37.2415(36.0195) | Bit/dim 1.2822(1.2808) | Steps 506(496.54) | Grad Norm 15.3437(11.6523) | Total Time 10.00(10.00)\n",
      "Iter 1457 | Time 34.7676(35.9820) | Bit/dim 1.2978(1.2813) | Steps 488(496.29) | Grad Norm 20.4225(11.9154) | Total Time 10.00(10.00)\n",
      "Iter 1458 | Time 37.0365(36.0136) | Bit/dim 1.2922(1.2816) | Steps 506(496.58) | Grad Norm 21.6157(12.2064) | Total Time 10.00(10.00)\n",
      "Iter 1459 | Time 34.9027(35.9803) | Bit/dim 1.2927(1.2820) | Steps 488(496.32) | Grad Norm 18.2227(12.3869) | Total Time 10.00(10.00)\n",
      "Iter 1460 | Time 37.3357(36.0209) | Bit/dim 1.2629(1.2814) | Steps 506(496.61) | Grad Norm 9.5041(12.3004) | Total Time 10.00(10.00)\n",
      "Iter 1461 | Time 36.6382(36.0395) | Bit/dim 1.2646(1.2809) | Steps 500(496.71) | Grad Norm 4.9943(12.0812) | Total Time 10.00(10.00)\n",
      "Iter 1462 | Time 34.6399(35.9975) | Bit/dim 1.2731(1.2806) | Steps 488(496.45) | Grad Norm 12.2898(12.0875) | Total Time 10.00(10.00)\n",
      "validating...\n",
      "Epoch 0209 | Time 11.1641, Epoch Time 275.9306, Bit/dim 1.2653\n"
     ]
    },
    {
     "name": "stdout",
     "output_type": "stream",
     "text": [
      "do _generate\n",
      "do _generate\n",
      "do _generate\n",
      "do _generate\n",
      "do _generate\n",
      "do _generate\n",
      "do _generate\n",
      "do _generate\n"
     ]
    },
    {
     "name": "stderr",
     "output_type": "stream",
     "text": [
      "===> Using batch size 8000. Total 7 iterations/epoch.\n",
      "Iter 1463 | Time 35.9822(35.9970) | Bit/dim 1.2746(1.2805) | Steps 500(496.56) | Grad Norm 15.4897(12.1895) | Total Time 10.00(10.00)\n",
      "Iter 1464 | Time 34.1178(35.9406) | Bit/dim 1.2750(1.2803) | Steps 488(496.30) | Grad Norm 13.2130(12.2203) | Total Time 10.00(10.00)\n",
      "Iter 1465 | Time 35.1162(35.9159) | Bit/dim 1.2559(1.2796) | Steps 494(496.23) | Grad Norm 6.6344(12.0527) | Total Time 10.00(10.00)\n",
      "Iter 1466 | Time 35.3224(35.8981) | Bit/dim 1.2656(1.2792) | Steps 500(496.34) | Grad Norm 1.5664(11.7381) | Total Time 10.00(10.00)\n",
      "Iter 1467 | Time 34.4117(35.8535) | Bit/dim 1.2663(1.2788) | Steps 488(496.09) | Grad Norm 8.8729(11.6521) | Total Time 10.00(10.00)\n",
      "Iter 1468 | Time 36.3385(35.8680) | Bit/dim 1.2724(1.2786) | Steps 506(496.39) | Grad Norm 14.7781(11.7459) | Total Time 10.00(10.00)\n",
      "Iter 1469 | Time 34.9719(35.8412) | Bit/dim 1.2914(1.2790) | Steps 488(496.14) | Grad Norm 19.6115(11.9819) | Total Time 10.00(10.00)\n",
      "validating...\n",
      "Epoch 0210 | Time 10.8884, Epoch Time 269.1923, Bit/dim 1.2774\n"
     ]
    },
    {
     "name": "stdout",
     "output_type": "stream",
     "text": [
      "do _generate\n",
      "do _generate\n",
      "do _generate\n",
      "do _generate\n",
      "do _generate\n",
      "do _generate\n",
      "do _generate\n",
      "do _generate\n"
     ]
    },
    {
     "name": "stderr",
     "output_type": "stream",
     "text": [
      "===> Using batch size 8000. Total 7 iterations/epoch.\n",
      "Iter 1470 | Time 36.2487(35.8534) | Bit/dim 1.2893(1.2793) | Steps 506(496.43) | Grad Norm 21.3035(12.2615) | Total Time 10.00(10.00)\n",
      "Iter 1471 | Time 34.6840(35.8183) | Bit/dim 1.2908(1.2796) | Steps 488(496.18) | Grad Norm 18.2681(12.4417) | Total Time 10.00(10.00)\n",
      "Iter 1472 | Time 37.4257(35.8665) | Bit/dim 1.2677(1.2793) | Steps 506(496.48) | Grad Norm 8.4838(12.3230) | Total Time 10.00(10.00)\n",
      "Iter 1473 | Time 37.1065(35.9037) | Bit/dim 1.2632(1.2788) | Steps 506(496.76) | Grad Norm 6.4490(12.1468) | Total Time 10.00(10.00)\n",
      "Iter 1474 | Time 34.7998(35.8706) | Bit/dim 1.2817(1.2789) | Steps 488(496.50) | Grad Norm 14.1720(12.2075) | Total Time 10.00(10.00)\n",
      "Iter 1475 | Time 36.6983(35.8954) | Bit/dim 1.2782(1.2788) | Steps 500(496.60) | Grad Norm 16.5923(12.3391) | Total Time 10.00(10.00)\n",
      "Iter 1476 | Time 34.5675(35.8556) | Bit/dim 1.2716(1.2786) | Steps 488(496.35) | Grad Norm 13.3109(12.3682) | Total Time 10.00(10.00)\n",
      "validating...\n",
      "Epoch 0211 | Time 11.0957, Epoch Time 274.9274, Bit/dim 1.2484\n"
     ]
    },
    {
     "name": "stdout",
     "output_type": "stream",
     "text": [
      "do _generate\n",
      "do _generate\n",
      "do _generate\n",
      "do _generate\n",
      "do _generate\n",
      "do _generate\n",
      "do _generate\n",
      "do _generate\n"
     ]
    },
    {
     "name": "stderr",
     "output_type": "stream",
     "text": [
      "===> Using batch size 8000. Total 7 iterations/epoch.\n",
      "Iter 1477 | Time 35.4660(35.8439) | Bit/dim 1.2621(1.2781) | Steps 494(496.28) | Grad Norm 6.4700(12.1913) | Total Time 10.00(10.00)\n",
      "Iter 1478 | Time 36.3637(35.8595) | Bit/dim 1.2592(1.2776) | Steps 506(496.57) | Grad Norm 3.7192(11.9371) | Total Time 10.00(10.00)\n",
      "Iter 1479 | Time 34.6825(35.8242) | Bit/dim 1.2785(1.2776) | Steps 488(496.31) | Grad Norm 11.8901(11.9357) | Total Time 10.00(10.00)\n",
      "Iter 1480 | Time 37.0752(35.8617) | Bit/dim 1.2733(1.2775) | Steps 506(496.60) | Grad Norm 16.9292(12.0855) | Total Time 10.00(10.00)\n",
      "Iter 1481 | Time 36.9295(35.8938) | Bit/dim 1.2859(1.2777) | Steps 488(496.34) | Grad Norm 18.9886(12.2926) | Total Time 10.00(10.00)\n",
      "Iter 1482 | Time 36.8342(35.9220) | Bit/dim 1.2758(1.2777) | Steps 506(496.63) | Grad Norm 17.3290(12.4437) | Total Time 10.00(10.00)\n",
      "Iter 1483 | Time 34.8253(35.8891) | Bit/dim 1.2721(1.2775) | Steps 488(496.37) | Grad Norm 12.2025(12.4365) | Total Time 10.00(10.00)\n",
      "validating...\n",
      "Epoch 0212 | Time 11.2004, Epoch Time 275.5166, Bit/dim 1.2422\n"
     ]
    },
    {
     "name": "stdout",
     "output_type": "stream",
     "text": [
      "do _generate\n",
      "do _generate\n",
      "do _generate\n",
      "do _generate\n",
      "do _generate\n",
      "do _generate\n",
      "do _generate\n",
      "do _generate\n"
     ]
    },
    {
     "name": "stderr",
     "output_type": "stream",
     "text": [
      "===> Using batch size 8000. Total 7 iterations/epoch.\n",
      "Iter 1484 | Time 35.7129(35.8838) | Bit/dim 1.2566(1.2769) | Steps 500(496.48) | Grad Norm 3.4935(12.1682) | Total Time 10.00(10.00)\n",
      "Iter 1485 | Time 36.3110(35.8966) | Bit/dim 1.2602(1.2764) | Steps 506(496.77) | Grad Norm 7.1320(12.0171) | Total Time 10.00(10.00)\n",
      "Iter 1486 | Time 35.6036(35.8878) | Bit/dim 1.2682(1.2761) | Steps 488(496.51) | Grad Norm 13.2245(12.0533) | Total Time 10.00(10.00)\n",
      "Iter 1487 | Time 37.9690(35.9502) | Bit/dim 1.2714(1.2760) | Steps 506(496.79) | Grad Norm 15.6369(12.1608) | Total Time 10.00(10.00)\n",
      "Iter 1488 | Time 34.4283(35.9046) | Bit/dim 1.2724(1.2759) | Steps 488(496.53) | Grad Norm 14.5840(12.2335) | Total Time 10.00(10.00)\n",
      "Iter 1489 | Time 37.2216(35.9441) | Bit/dim 1.2646(1.2755) | Steps 500(496.63) | Grad Norm 10.4028(12.1786) | Total Time 10.00(10.00)\n",
      "Iter 1490 | Time 35.4224(35.9284) | Bit/dim 1.2637(1.2752) | Steps 500(496.73) | Grad Norm 4.3653(11.9442) | Total Time 10.00(10.00)\n",
      "validating...\n",
      "Epoch 0213 | Time 11.1498, Epoch Time 275.8334, Bit/dim 1.2398\n"
     ]
    },
    {
     "name": "stdout",
     "output_type": "stream",
     "text": [
      "do _generate\n",
      "do _generate\n",
      "do _generate\n",
      "do _generate\n",
      "do _generate\n",
      "do _generate\n",
      "do _generate\n",
      "do _generate\n"
     ]
    },
    {
     "name": "stderr",
     "output_type": "stream",
     "text": [
      "===> Using batch size 8000. Total 7 iterations/epoch.\n",
      "Iter 1491 | Time 34.9903(35.9003) | Bit/dim 1.2544(1.2746) | Steps 494(496.65) | Grad Norm 3.7734(11.6991) | Total Time 10.00(10.00)\n",
      "Iter 1492 | Time 36.2518(35.9108) | Bit/dim 1.2621(1.2742) | Steps 500(496.75) | Grad Norm 9.8535(11.6437) | Total Time 10.00(10.00)\n",
      "Iter 1493 | Time 35.5298(35.8994) | Bit/dim 1.2735(1.2742) | Steps 488(496.49) | Grad Norm 14.5083(11.7296) | Total Time 10.00(10.00)\n",
      "Iter 1494 | Time 36.6766(35.9227) | Bit/dim 1.2755(1.2742) | Steps 506(496.77) | Grad Norm 17.8201(11.9123) | Total Time 10.00(10.00)\n",
      "Iter 1495 | Time 34.6563(35.8847) | Bit/dim 1.2896(1.2747) | Steps 488(496.51) | Grad Norm 19.3484(12.1354) | Total Time 10.00(10.00)\n",
      "Iter 1496 | Time 36.0409(35.8894) | Bit/dim 1.2780(1.2748) | Steps 506(496.79) | Grad Norm 15.9485(12.2498) | Total Time 10.00(10.00)\n",
      "Iter 1497 | Time 34.9708(35.8619) | Bit/dim 1.2559(1.2742) | Steps 488(496.53) | Grad Norm 9.6954(12.1732) | Total Time 10.00(10.00)\n",
      "validating...\n",
      "Epoch 0214 | Time 11.2258, Epoch Time 272.6474, Bit/dim 1.2398\n"
     ]
    },
    {
     "name": "stdout",
     "output_type": "stream",
     "text": [
      "do _generate\n",
      "do _generate\n",
      "do _generate\n",
      "do _generate\n",
      "do _generate\n",
      "do _generate\n",
      "do _generate\n",
      "do _generate\n"
     ]
    },
    {
     "name": "stderr",
     "output_type": "stream",
     "text": [
      "===> Using batch size 8000. Total 7 iterations/epoch.\n",
      "Iter 1498 | Time 37.2110(35.9023) | Bit/dim 1.2533(1.2736) | Steps 494(496.45) | Grad Norm 3.3627(11.9089) | Total Time 10.00(10.00)\n",
      "Iter 1499 | Time 37.4150(35.9477) | Bit/dim 1.2555(1.2730) | Steps 506(496.74) | Grad Norm 5.1229(11.7053) | Total Time 10.00(10.00)\n",
      "Iter 1500 | Time 34.7089(35.9106) | Bit/dim 1.2585(1.2726) | Steps 488(496.48) | Grad Norm 10.6302(11.6730) | Total Time 10.00(10.00)\n",
      "Iter 1501 | Time 37.1929(35.9490) | Bit/dim 1.2689(1.2725) | Steps 506(496.76) | Grad Norm 14.7385(11.7650) | Total Time 10.00(10.00)\n",
      "Iter 1502 | Time 34.9465(35.9190) | Bit/dim 1.2762(1.2726) | Steps 488(496.50) | Grad Norm 17.2083(11.9283) | Total Time 10.00(10.00)\n",
      "Iter 1503 | Time 36.3186(35.9309) | Bit/dim 1.2768(1.2727) | Steps 506(496.79) | Grad Norm 16.6648(12.0704) | Total Time 10.00(10.00)\n",
      "Iter 1504 | Time 35.2534(35.9106) | Bit/dim 1.2691(1.2726) | Steps 488(496.52) | Grad Norm 14.6125(12.1467) | Total Time 10.00(10.00)\n",
      "validating...\n",
      "Iter 1507 | Time 35.7437(35.9023) | Bit/dim 1.2525(1.2711) | Steps 494(496.47) | Grad Norm 1.6581(11.6317) | Total Time 10.00(10.00)\n",
      "Iter 1508 | Time 37.5764(35.9525) | Bit/dim 1.2462(1.2703) | Steps 506(496.75) | Grad Norm 3.5761(11.3900) | Total Time 10.00(10.00)\n",
      "Iter 1509 | Time 34.6466(35.9133) | Bit/dim 1.2549(1.2699) | Steps 488(496.49) | Grad Norm 7.3317(11.2683) | Total Time 10.00(10.00)\n",
      "Iter 1510 | Time 37.2662(35.9539) | Bit/dim 1.2622(1.2697) | Steps 506(496.78) | Grad Norm 11.2460(11.2676) | Total Time 10.00(10.00)\n",
      "Iter 1511 | Time 35.9182(35.9529) | Bit/dim 1.2723(1.2697) | Steps 488(496.51) | Grad Norm 16.0952(11.4124) | Total Time 10.00(10.00)\n",
      "validating...\n",
      "Epoch 0216 | Time 11.2313, Epoch Time 276.1862, Bit/dim 1.2684\n"
     ]
    },
    {
     "name": "stdout",
     "output_type": "stream",
     "text": [
      "do _generate\n",
      "do _generate\n",
      "do _generate\n",
      "do _generate\n",
      "do _generate\n",
      "do _generate\n",
      "do _generate\n",
      "do _generate\n"
     ]
    },
    {
     "name": "stderr",
     "output_type": "stream",
     "text": [
      "===> Using batch size 8000. Total 7 iterations/epoch.\n",
      "Iter 1512 | Time 37.5017(35.9993) | Bit/dim 1.2835(1.2701) | Steps 506(496.80) | Grad Norm 21.9818(11.7295) | Total Time 10.00(10.00)\n",
      "Iter 1513 | Time 34.4524(35.9529) | Bit/dim 1.3120(1.2714) | Steps 488(496.53) | Grad Norm 26.1072(12.1609) | Total Time 10.00(10.00)\n",
      "Iter 1514 | Time 36.4447(35.9677) | Bit/dim 1.2920(1.2720) | Steps 500(496.64) | Grad Norm 21.4451(12.4394) | Total Time 10.00(10.00)\n",
      "Iter 1515 | Time 34.8937(35.9355) | Bit/dim 1.2577(1.2716) | Steps 488(496.38) | Grad Norm 9.8654(12.3622) | Total Time 10.00(10.00)\n",
      "Iter 1516 | Time 35.4768(35.9217) | Bit/dim 1.2509(1.2710) | Steps 494(496.31) | Grad Norm 3.8725(12.1075) | Total Time 10.00(10.00)\n",
      "Iter 1517 | Time 36.9190(35.9516) | Bit/dim 1.2684(1.2709) | Steps 500(496.42) | Grad Norm 15.0688(12.1963) | Total Time 10.00(10.00)\n",
      "Iter 1518 | Time 34.9983(35.9230) | Bit/dim 1.2808(1.2712) | Steps 488(496.16) | Grad Norm 18.1292(12.3743) | Total Time 10.00(10.00)\n",
      "validating...\n",
      "Iter 1521 | Time 35.0016(35.9586) | Bit/dim 1.2581(1.2698) | Steps 488(496.31) | Grad Norm 10.9850(11.9763) | Total Time 10.00(10.00)\n",
      "Iter 1522 | Time 35.9300(35.9577) | Bit/dim 1.2775(1.2701) | Steps 506(496.60) | Grad Norm 17.5866(12.1446) | Total Time 10.00(10.00)\n",
      "Iter 1523 | Time 34.8342(35.9240) | Bit/dim 1.2806(1.2704) | Steps 488(496.34) | Grad Norm 19.9878(12.3799) | Total Time 10.00(10.00)\n",
      "Iter 1524 | Time 36.5767(35.9436) | Bit/dim 1.2703(1.2704) | Steps 506(496.63) | Grad Norm 16.1918(12.4943) | Total Time 10.00(10.00)\n",
      "Iter 1525 | Time 34.8489(35.9107) | Bit/dim 1.2607(1.2701) | Steps 488(496.37) | Grad Norm 8.3932(12.3712) | Total Time 10.00(10.00)\n",
      "validating...\n",
      "Epoch 0218 | Time 11.1040, Epoch Time 274.4056, Bit/dim 1.2346\n"
     ]
    },
    {
     "name": "stdout",
     "output_type": "stream",
     "text": [
      "do _generate\n",
      "do _generate\n",
      "do _generate\n",
      "do _generate\n",
      "do _generate\n",
      "do _generate\n",
      "do _generate\n",
      "do _generate\n"
     ]
    },
    {
     "name": "stderr",
     "output_type": "stream",
     "text": [
      "===> Using batch size 8000. Total 7 iterations/epoch.\n",
      "Iter 1526 | Time 36.7926(35.9372) | Bit/dim 1.2545(1.2696) | Steps 494(496.30) | Grad Norm 1.4615(12.0440) | Total Time 10.00(10.00)\n",
      "Iter 1527 | Time 36.4419(35.9523) | Bit/dim 1.2617(1.2694) | Steps 506(496.59) | Grad Norm 10.4222(11.9953) | Total Time 10.00(10.00)\n",
      "Iter 1528 | Time 34.8670(35.9198) | Bit/dim 1.2651(1.2693) | Steps 488(496.33) | Grad Norm 15.8988(12.1124) | Total Time 10.00(10.00)\n",
      "Iter 1529 | Time 36.6855(35.9427) | Bit/dim 1.2637(1.2691) | Steps 506(496.62) | Grad Norm 16.5579(12.2458) | Total Time 10.00(10.00)\n",
      "Iter 1530 | Time 35.8058(35.9386) | Bit/dim 1.2661(1.2690) | Steps 488(496.37) | Grad Norm 12.9183(12.2659) | Total Time 10.00(10.00)\n",
      "Iter 1531 | Time 35.8720(35.9366) | Bit/dim 1.2497(1.2684) | Steps 500(496.47) | Grad Norm 6.2074(12.0842) | Total Time 10.00(10.00)\n",
      "Iter 1532 | Time 36.0165(35.9390) | Bit/dim 1.2473(1.2678) | Steps 500(496.58) | Grad Norm 3.0385(11.8128) | Total Time 10.00(10.00)\n",
      "validating...\n",
      "Epoch 0219 | Time 10.8630, Epoch Time 275.2959, Bit/dim 1.2407\n"
     ]
    },
    {
     "name": "stdout",
     "output_type": "stream",
     "text": [
      "do _generate\n",
      "do _generate\n",
      "do _generate\n",
      "do _generate\n",
      "do _generate\n",
      "do _generate\n",
      "do _generate\n",
      "do _generate\n"
     ]
    },
    {
     "name": "stderr",
     "output_type": "stream",
     "text": [
      "===> Using batch size 8000. Total 7 iterations/epoch.\n",
      "Iter 1533 | Time 34.5789(35.8982) | Bit/dim 1.2563(1.2674) | Steps 488(496.32) | Grad Norm 9.9162(11.7559) | Total Time 10.00(10.00)\n",
      "Iter 1534 | Time 37.8795(35.9577) | Bit/dim 1.2664(1.2674) | Steps 506(496.61) | Grad Norm 15.6726(11.8734) | Total Time 10.00(10.00)\n",
      "Iter 1535 | Time 35.3592(35.9397) | Bit/dim 1.2833(1.2679) | Steps 488(496.36) | Grad Norm 19.0663(12.0892) | Total Time 10.00(10.00)\n",
      "Iter 1536 | Time 37.6652(35.9915) | Bit/dim 1.2702(1.2680) | Steps 500(496.46) | Grad Norm 17.4748(12.2508) | Total Time 10.00(10.00)\n",
      "Iter 1537 | Time 34.7679(35.9548) | Bit/dim 1.2589(1.2677) | Steps 488(496.21) | Grad Norm 12.0016(12.2433) | Total Time 10.00(10.00)\n",
      "Iter 1538 | Time 36.8713(35.9823) | Bit/dim 1.2480(1.2671) | Steps 500(496.32) | Grad Norm 3.9277(11.9938) | Total Time 10.00(10.00)\n",
      "Iter 1539 | Time 38.2240(36.0495) | Bit/dim 1.2460(1.2665) | Steps 506(496.61) | Grad Norm 5.3040(11.7931) | Total Time 10.00(10.00)\n",
      "validating...\n",
      "Epoch 0220 | Time 10.9994, Epoch Time 278.4385, Bit/dim 1.2431\n"
     ]
    },
    {
     "name": "stdout",
     "output_type": "stream",
     "text": [
      "do _generate\n",
      "do _generate\n",
      "do _generate\n",
      "do _generate\n",
      "do _generate\n",
      "do _generate\n",
      "do _generate\n",
      "do _generate\n"
     ]
    },
    {
     "name": "stderr",
     "output_type": "stream",
     "text": [
      "===> Using batch size 8000. Total 7 iterations/epoch.\n",
      "Iter 1540 | Time 35.2101(36.0243) | Bit/dim 1.2568(1.2662) | Steps 488(496.36) | Grad Norm 11.9219(11.7970) | Total Time 10.00(10.00)\n",
      "Iter 1541 | Time 37.0260(36.0544) | Bit/dim 1.2651(1.2661) | Steps 506(496.65) | Grad Norm 16.0139(11.9235) | Total Time 10.00(10.00)\n",
      "Iter 1542 | Time 34.6968(36.0137) | Bit/dim 1.2704(1.2663) | Steps 488(496.39) | Grad Norm 16.5702(12.0629) | Total Time 10.00(10.00)\n",
      "Iter 1543 | Time 36.4505(36.0268) | Bit/dim 1.2597(1.2661) | Steps 506(496.67) | Grad Norm 12.8134(12.0854) | Total Time 10.00(10.00)\n",
      "Iter 1544 | Time 35.0068(35.9962) | Bit/dim 1.2527(1.2657) | Steps 488(496.41) | Grad Norm 7.1390(11.9370) | Total Time 10.00(10.00)\n",
      "Iter 1545 | Time 35.6728(35.9865) | Bit/dim 1.2465(1.2651) | Steps 494(496.34) | Grad Norm 1.2733(11.6171) | Total Time 10.00(10.00)\n",
      "Iter 1546 | Time 36.4952(36.0017) | Bit/dim 1.2471(1.2646) | Steps 506(496.63) | Grad Norm 4.3323(11.3986) | Total Time 10.00(10.00)\n",
      "validating...\n",
      "Epoch 0221 | Time 10.8358, Epoch Time 273.6530, Bit/dim 1.2358\n"
     ]
    },
    {
     "name": "stdout",
     "output_type": "stream",
     "text": [
      "do _generate\n",
      "do _generate\n",
      "do _generate\n",
      "do _generate\n",
      "do _generate\n",
      "do _generate\n",
      "do _generate\n",
      "do _generate\n"
     ]
    },
    {
     "name": "stderr",
     "output_type": "stream",
     "text": [
      "===> Using batch size 8000. Total 7 iterations/epoch.\n",
      "Iter 1547 | Time 34.8273(35.9665) | Bit/dim 1.2509(1.2641) | Steps 488(496.37) | Grad Norm 8.8147(11.3211) | Total Time 10.00(10.00)\n",
      "Iter 1548 | Time 37.1172(36.0010) | Bit/dim 1.2554(1.2639) | Steps 506(496.66) | Grad Norm 12.9821(11.3709) | Total Time 10.00(10.00)\n",
      "Iter 1549 | Time 34.8940(35.9678) | Bit/dim 1.2663(1.2640) | Steps 488(496.40) | Grad Norm 17.1525(11.5443) | Total Time 10.00(10.00)\n",
      "Iter 1550 | Time 36.3481(35.9792) | Bit/dim 1.2801(1.2644) | Steps 506(496.69) | Grad Norm 20.2403(11.8052) | Total Time 10.00(10.00)\n",
      "Iter 1551 | Time 34.8102(35.9441) | Bit/dim 1.2804(1.2649) | Steps 488(496.43) | Grad Norm 20.8122(12.0754) | Total Time 10.00(10.00)\n",
      "Iter 1552 | Time 37.2364(35.9829) | Bit/dim 1.2620(1.2648) | Steps 506(496.72) | Grad Norm 15.2460(12.1705) | Total Time 10.00(10.00)\n",
      "Iter 1553 | Time 36.6472(36.0028) | Bit/dim 1.2501(1.2644) | Steps 494(496.63) | Grad Norm 5.7151(11.9769) | Total Time 10.00(10.00)\n",
      "validating...\n",
      "Epoch 0222 | Time 11.0143, Epoch Time 274.8044, Bit/dim 1.2324\n"
     ]
    },
    {
     "name": "stdout",
     "output_type": "stream",
     "text": [
      "do _generate\n",
      "do _generate\n",
      "do _generate\n",
      "do _generate\n",
      "do _generate\n",
      "do _generate\n",
      "do _generate\n",
      "do _generate\n"
     ]
    },
    {
     "name": "stderr",
     "output_type": "stream",
     "text": [
      "===> Using batch size 8000. Total 7 iterations/epoch.\n",
      "Iter 1554 | Time 35.0062(35.9729) | Bit/dim 1.2475(1.2639) | Steps 494(496.56) | Grad Norm 4.2524(11.7451) | Total Time 10.00(10.00)\n",
      "Iter 1555 | Time 37.1884(36.0094) | Bit/dim 1.2579(1.2637) | Steps 506(496.84) | Grad Norm 11.6617(11.7426) | Total Time 10.00(10.00)\n",
      "Iter 1556 | Time 34.4318(35.9621) | Bit/dim 1.2668(1.2638) | Steps 488(496.57) | Grad Norm 15.4514(11.8539) | Total Time 10.00(10.00)\n",
      "Iter 1557 | Time 35.9944(35.9630) | Bit/dim 1.2666(1.2639) | Steps 500(496.68) | Grad Norm 14.4343(11.9313) | Total Time 10.00(10.00)\n",
      "Iter 1558 | Time 34.5801(35.9216) | Bit/dim 1.2523(1.2635) | Steps 488(496.42) | Grad Norm 9.6489(11.8628) | Total Time 10.00(10.00)\n",
      "Iter 1559 | Time 35.8082(35.9182) | Bit/dim 1.2444(1.2630) | Steps 494(496.34) | Grad Norm 3.1833(11.6025) | Total Time 10.00(10.00)\n",
      "Iter 1560 | Time 37.0215(35.9513) | Bit/dim 1.2458(1.2624) | Steps 500(496.45) | Grad Norm 3.9724(11.3736) | Total Time 10.00(10.00)\n",
      "validating...\n",
      "Epoch 0223 | Time 10.8910, Epoch Time 272.9764, Bit/dim 1.2366\n"
     ]
    },
    {
     "name": "stdout",
     "output_type": "stream",
     "text": [
      "do _generate\n",
      "do _generate\n",
      "do _generate\n",
      "do _generate\n",
      "do _generate\n",
      "do _generate\n",
      "do _generate\n",
      "do _generate\n"
     ]
    },
    {
     "name": "stderr",
     "output_type": "stream",
     "text": [
      "===> Using batch size 8000. Total 7 iterations/epoch.\n",
      "Iter 1561 | Time 35.4133(35.9351) | Bit/dim 1.2514(1.2621) | Steps 488(496.20) | Grad Norm 10.5722(11.3495) | Total Time 10.00(10.00)\n",
      "Iter 1562 | Time 36.7400(35.9593) | Bit/dim 1.2592(1.2620) | Steps 500(496.31) | Grad Norm 16.0620(11.4909) | Total Time 10.00(10.00)\n",
      "Iter 1563 | Time 35.9104(35.9578) | Bit/dim 1.2774(1.2625) | Steps 488(496.06) | Grad Norm 19.8196(11.7407) | Total Time 10.00(10.00)\n",
      "Iter 1564 | Time 36.4810(35.9735) | Bit/dim 1.2720(1.2628) | Steps 506(496.36) | Grad Norm 19.9809(11.9879) | Total Time 10.00(10.00)\n",
      "Iter 1565 | Time 36.4266(35.9871) | Bit/dim 1.2701(1.2630) | Steps 488(496.11) | Grad Norm 16.5663(12.1253) | Total Time 10.00(10.00)\n",
      "Iter 1566 | Time 38.6521(36.0670) | Bit/dim 1.2499(1.2626) | Steps 506(496.41) | Grad Norm 8.9851(12.0311) | Total Time 10.00(10.00)\n",
      "Iter 1567 | Time 37.2140(36.1014) | Bit/dim 1.2462(1.2621) | Steps 506(496.70) | Grad Norm 3.7338(11.7822) | Total Time 10.00(10.00)\n",
      "validating...\n",
      "Epoch 0224 | Time 11.0280, Epoch Time 280.0520, Bit/dim 1.2384\n"
     ]
    },
    {
     "name": "stdout",
     "output_type": "stream",
     "text": [
      "do _generate\n",
      "do _generate\n",
      "do _generate\n",
      "do _generate\n",
      "do _generate\n",
      "do _generate\n",
      "do _generate\n",
      "do _generate\n"
     ]
    },
    {
     "name": "stderr",
     "output_type": "stream",
     "text": [
      "===> Using batch size 8000. Total 7 iterations/epoch.\n",
      "Iter 1568 | Time 36.0722(36.1006) | Bit/dim 1.2617(1.2621) | Steps 494(496.62) | Grad Norm 9.4852(11.7133) | Total Time 10.00(10.00)\n",
      "Iter 1569 | Time 36.9702(36.1267) | Bit/dim 1.2562(1.2619) | Steps 506(496.90) | Grad Norm 13.9550(11.7805) | Total Time 10.00(10.00)\n",
      "Iter 1570 | Time 35.0202(36.0935) | Bit/dim 1.2656(1.2620) | Steps 488(496.63) | Grad Norm 15.9454(11.9055) | Total Time 10.00(10.00)\n",
      "Iter 1571 | Time 36.0562(36.0923) | Bit/dim 1.2592(1.2619) | Steps 500(496.73) | Grad Norm 14.1962(11.9742) | Total Time 10.00(10.00)\n",
      "Iter 1572 | Time 35.4849(36.0741) | Bit/dim 1.2520(1.2616) | Steps 488(496.47) | Grad Norm 9.7303(11.9069) | Total Time 10.00(10.00)\n",
      "Iter 1573 | Time 35.9740(36.0711) | Bit/dim 1.2406(1.2610) | Steps 506(496.75) | Grad Norm 4.3522(11.6802) | Total Time 10.00(10.00)\n",
      "Iter 1574 | Time 35.1556(36.0437) | Bit/dim 1.2401(1.2604) | Steps 494(496.67) | Grad Norm 3.4724(11.4340) | Total Time 10.00(10.00)\n",
      "validating...\n",
      "Epoch 0225 | Time 11.1698, Epoch Time 273.9594, Bit/dim 1.2291\n"
     ]
    },
    {
     "name": "stdout",
     "output_type": "stream",
     "text": [
      "do _generate\n",
      "do _generate\n",
      "do _generate\n",
      "do _generate\n",
      "do _generate\n",
      "do _generate\n",
      "do _generate\n",
      "do _generate\n"
     ]
    },
    {
     "name": "stderr",
     "output_type": "stream",
     "text": [
      "===> Using batch size 8000. Total 7 iterations/epoch.\n",
      "Iter 1575 | Time 37.6306(36.0913) | Bit/dim 1.2467(1.2600) | Steps 506(496.95) | Grad Norm 5.7141(11.2624) | Total Time 10.00(10.00)\n",
      "Iter 1576 | Time 36.7767(36.1118) | Bit/dim 1.2446(1.2595) | Steps 500(497.04) | Grad Norm 7.7229(11.1562) | Total Time 10.00(10.00)\n",
      "Iter 1577 | Time 36.6592(36.1282) | Bit/dim 1.2514(1.2593) | Steps 488(496.77) | Grad Norm 11.1021(11.1546) | Total Time 10.00(10.00)\n",
      "Iter 1578 | Time 38.1959(36.1903) | Bit/dim 1.2551(1.2591) | Steps 506(497.05) | Grad Norm 16.5374(11.3161) | Total Time 10.00(10.00)\n",
      "Iter 1579 | Time 36.8290(36.2094) | Bit/dim 1.2866(1.2600) | Steps 488(496.78) | Grad Norm 21.6141(11.6250) | Total Time 10.00(10.00)\n",
      "Iter 1580 | Time 37.2723(36.2413) | Bit/dim 1.2823(1.2606) | Steps 506(497.05) | Grad Norm 22.8341(11.9613) | Total Time 10.00(10.00)\n",
      "Iter 1581 | Time 34.5208(36.1897) | Bit/dim 1.2776(1.2611) | Steps 488(496.78) | Grad Norm 19.8675(12.1985) | Total Time 10.00(10.00)\n",
      "validating...\n",
      "Epoch 0226 | Time 11.1926, Epoch Time 281.3159, Bit/dim 1.2426\n"
     ]
    },
    {
     "name": "stdout",
     "output_type": "stream",
     "text": [
      "do _generate\n",
      "do _generate\n",
      "do _generate\n",
      "do _generate\n",
      "do _generate\n",
      "do _generate\n",
      "do _generate\n",
      "do _generate\n"
     ]
    },
    {
     "name": "stderr",
     "output_type": "stream",
     "text": [
      "===> Using batch size 8000. Total 7 iterations/epoch.\n",
      "Iter 1582 | Time 36.3750(36.1953) | Bit/dim 1.2589(1.2611) | Steps 494(496.70) | Grad Norm 11.4805(12.1769) | Total Time 10.00(10.00)\n",
      "Iter 1583 | Time 38.0671(36.2514) | Bit/dim 1.2466(1.2606) | Steps 500(496.80) | Grad Norm 5.4117(11.9740) | Total Time 10.00(10.00)\n",
      "Iter 1584 | Time 35.5116(36.2292) | Bit/dim 1.2578(1.2606) | Steps 488(496.53) | Grad Norm 13.3686(12.0158) | Total Time 10.00(10.00)\n",
      "Iter 1585 | Time 36.3946(36.2342) | Bit/dim 1.2700(1.2608) | Steps 500(496.64) | Grad Norm 17.0143(12.1658) | Total Time 10.00(10.00)\n",
      "Iter 1586 | Time 34.9261(36.1949) | Bit/dim 1.2627(1.2609) | Steps 488(496.38) | Grad Norm 13.3566(12.2015) | Total Time 10.00(10.00)\n",
      "Iter 1587 | Time 36.4685(36.2032) | Bit/dim 1.2447(1.2604) | Steps 500(496.49) | Grad Norm 4.7751(11.9787) | Total Time 10.00(10.00)\n",
      "Iter 1588 | Time 35.2554(36.1747) | Bit/dim 1.2478(1.2600) | Steps 494(496.41) | Grad Norm 6.1245(11.8031) | Total Time 10.00(10.00)\n",
      "validating...\n",
      "Epoch 0227 | Time 10.7585, Epoch Time 275.8903, Bit/dim 1.2413\n"
     ]
    },
    {
     "name": "stdout",
     "output_type": "stream",
     "text": [
      "do _generate\n",
      "do _generate\n",
      "do _generate\n",
      "do _generate\n",
      "do _generate\n",
      "do _generate\n",
      "do _generate\n",
      "do _generate\n"
     ]
    },
    {
     "name": "stderr",
     "output_type": "stream",
     "text": [
      "===> Using batch size 8000. Total 7 iterations/epoch.\n",
      "Iter 1589 | Time 35.1785(36.1448) | Bit/dim 1.2615(1.2601) | Steps 488(496.16) | Grad Norm 13.3942(11.8508) | Total Time 10.00(10.00)\n",
      "Iter 1590 | Time 36.3450(36.1508) | Bit/dim 1.2599(1.2601) | Steps 506(496.46) | Grad Norm 19.1994(12.0713) | Total Time 10.00(10.00)\n",
      "Iter 1591 | Time 36.3964(36.1582) | Bit/dim 1.2904(1.2610) | Steps 488(496.20) | Grad Norm 22.1640(12.3740) | Total Time 10.00(10.00)\n",
      "Iter 1592 | Time 36.7791(36.1768) | Bit/dim 1.2611(1.2610) | Steps 506(496.50) | Grad Norm 15.2389(12.4600) | Total Time 10.00(10.00)\n",
      "Iter 1593 | Time 34.9951(36.1414) | Bit/dim 1.2442(1.2605) | Steps 494(496.42) | Grad Norm 2.9105(12.1735) | Total Time 10.00(10.00)\n",
      "Iter 1594 | Time 35.3646(36.1181) | Bit/dim 1.2504(1.2602) | Steps 494(496.35) | Grad Norm 8.5604(12.0651) | Total Time 10.00(10.00)\n",
      "Iter 1595 | Time 37.8666(36.1705) | Bit/dim 1.2689(1.2604) | Steps 506(496.64) | Grad Norm 15.6876(12.1738) | Total Time 10.00(10.00)\n",
      "validating...\n",
      "Epoch 0228 | Time 10.8786, Epoch Time 275.7517, Bit/dim 1.2496\n"
     ]
    },
    {
     "name": "stdout",
     "output_type": "stream",
     "text": [
      "do _generate\n",
      "do _generate\n",
      "do _generate\n",
      "do _generate\n",
      "do _generate\n",
      "do _generate\n",
      "do _generate\n",
      "do _generate\n"
     ]
    },
    {
     "name": "stderr",
     "output_type": "stream",
     "text": [
      "===> Using batch size 8000. Total 7 iterations/epoch.\n",
      "Iter 1596 | Time 36.0370(36.1665) | Bit/dim 1.2635(1.2605) | Steps 488(496.38) | Grad Norm 16.2000(12.2946) | Total Time 10.00(10.00)\n",
      "Iter 1597 | Time 36.3795(36.1729) | Bit/dim 1.2511(1.2603) | Steps 500(496.49) | Grad Norm 10.6823(12.2462) | Total Time 10.00(10.00)\n",
      "Iter 1598 | Time 37.5860(36.2153) | Bit/dim 1.2497(1.2599) | Steps 500(496.59) | Grad Norm 4.0439(12.0001) | Total Time 10.00(10.00)\n",
      "Iter 1599 | Time 35.4150(36.1913) | Bit/dim 1.2454(1.2595) | Steps 494(496.52) | Grad Norm 10.0683(11.9422) | Total Time 10.00(10.00)\n",
      "Iter 1600 | Time 37.6075(36.2338) | Bit/dim 1.2603(1.2595) | Steps 506(496.80) | Grad Norm 15.3513(12.0445) | Total Time 10.00(10.00)\n",
      "Iter 1601 | Time 34.8468(36.1922) | Bit/dim 1.2657(1.2597) | Steps 488(496.54) | Grad Norm 17.8344(12.2182) | Total Time 10.00(10.00)\n",
      "Iter 1602 | Time 37.2736(36.2246) | Bit/dim 1.2572(1.2596) | Steps 506(496.82) | Grad Norm 14.9133(12.2990) | Total Time 10.00(10.00)\n",
      "validating...\n",
      "Epoch 0229 | Time 10.8794, Epoch Time 278.2763, Bit/dim 1.2318\n"
     ]
    },
    {
     "name": "stdout",
     "output_type": "stream",
     "text": [
      "do _generate\n",
      "do _generate\n",
      "do _generate\n",
      "do _generate\n",
      "do _generate\n",
      "do _generate\n",
      "do _generate\n",
      "do _generate\n"
     ]
    },
    {
     "name": "stderr",
     "output_type": "stream",
     "text": [
      "===> Using batch size 8000. Total 7 iterations/epoch.\n",
      "Iter 1603 | Time 35.0139(36.1883) | Bit/dim 1.2436(1.2592) | Steps 488(496.56) | Grad Norm 8.4019(12.1821) | Total Time 10.00(10.00)\n",
      "Iter 1604 | Time 36.7461(36.2050) | Bit/dim 1.2438(1.2587) | Steps 506(496.84) | Grad Norm 2.6445(11.8960) | Total Time 10.00(10.00)\n",
      "Iter 1605 | Time 36.4820(36.2133) | Bit/dim 1.2452(1.2583) | Steps 494(496.75) | Grad Norm 7.9189(11.7767) | Total Time 10.00(10.00)\n",
      "Iter 1606 | Time 33.9188(36.1445) | Bit/dim 1.2554(1.2582) | Steps 488(496.49) | Grad Norm 13.2797(11.8217) | Total Time 10.00(10.00)\n",
      "Iter 1607 | Time 36.2795(36.1486) | Bit/dim 1.2559(1.2581) | Steps 506(496.78) | Grad Norm 16.6842(11.9676) | Total Time 10.00(10.00)\n",
      "Iter 1608 | Time 34.7550(36.1067) | Bit/dim 1.2610(1.2582) | Steps 488(496.51) | Grad Norm 16.4310(12.1015) | Total Time 10.00(10.00)\n",
      "Iter 1609 | Time 35.9188(36.1011) | Bit/dim 1.2452(1.2578) | Steps 500(496.62) | Grad Norm 10.8178(12.0630) | Total Time 10.00(10.00)\n",
      "validating...\n",
      "Epoch 0230 | Time 10.9635, Epoch Time 272.0353, Bit/dim 1.2257\n"
     ]
    },
    {
     "name": "stdout",
     "output_type": "stream",
     "text": [
      "do _generate\n",
      "do _generate\n",
      "do _generate\n",
      "do _generate\n",
      "do _generate\n",
      "do _generate\n",
      "do _generate\n",
      "do _generate\n"
     ]
    },
    {
     "name": "stderr",
     "output_type": "stream",
     "text": [
      "===> Using batch size 8000. Total 7 iterations/epoch.\n",
      "Iter 1610 | Time 35.6553(36.0877) | Bit/dim 1.2401(1.2573) | Steps 500(496.72) | Grad Norm 4.0170(11.8216) | Total Time 10.00(10.00)\n",
      "Iter 1611 | Time 34.5950(36.0430) | Bit/dim 1.2447(1.2569) | Steps 494(496.64) | Grad Norm 5.7325(11.6390) | Total Time 10.00(10.00)\n",
      "Iter 1612 | Time 37.1262(36.0754) | Bit/dim 1.2492(1.2567) | Steps 506(496.92) | Grad Norm 11.9952(11.6496) | Total Time 10.00(10.00)\n",
      "Iter 1613 | Time 34.9902(36.0429) | Bit/dim 1.2596(1.2568) | Steps 488(496.65) | Grad Norm 16.9621(11.8090) | Total Time 10.00(10.00)\n",
      "Iter 1614 | Time 38.1479(36.1060) | Bit/dim 1.2671(1.2571) | Steps 500(496.75) | Grad Norm 17.9898(11.9944) | Total Time 10.00(10.00)\n",
      "Iter 1615 | Time 34.5774(36.0602) | Bit/dim 1.2514(1.2569) | Steps 488(496.49) | Grad Norm 14.3947(12.0664) | Total Time 10.00(10.00)\n",
      "Iter 1616 | Time 36.8528(36.0840) | Bit/dim 1.2378(1.2563) | Steps 506(496.77) | Grad Norm 7.4773(11.9288) | Total Time 10.00(10.00)\n",
      "validating...\n",
      "Epoch 0231 | Time 11.0870, Epoch Time 275.0619, Bit/dim 1.2230\n"
     ]
    },
    {
     "name": "stdout",
     "output_type": "stream",
     "text": [
      "do _generate\n",
      "do _generate\n",
      "do _generate\n",
      "do _generate\n",
      "do _generate\n",
      "do _generate\n",
      "do _generate\n",
      "do _generate\n"
     ]
    },
    {
     "name": "stderr",
     "output_type": "stream",
     "text": [
      "===> Using batch size 8000. Total 7 iterations/epoch.\n",
      "Iter 1617 | Time 35.1319(36.0554) | Bit/dim 1.2395(1.2558) | Steps 494(496.69) | Grad Norm 2.0060(11.6311) | Total Time 10.00(10.00)\n",
      "Iter 1618 | Time 35.3126(36.0331) | Bit/dim 1.2404(1.2554) | Steps 488(496.43) | Grad Norm 6.6890(11.4828) | Total Time 10.00(10.00)\n",
      "Iter 1619 | Time 36.5393(36.0483) | Bit/dim 1.2421(1.2550) | Steps 500(496.54) | Grad Norm 11.6777(11.4887) | Total Time 10.00(10.00)\n",
      "Iter 1620 | Time 34.4031(35.9989) | Bit/dim 1.2540(1.2549) | Steps 488(496.28) | Grad Norm 15.0136(11.5944) | Total Time 10.00(10.00)\n",
      "Iter 1621 | Time 36.5161(36.0145) | Bit/dim 1.2554(1.2550) | Steps 506(496.57) | Grad Norm 16.6252(11.7453) | Total Time 10.00(10.00)\n",
      "Iter 1622 | Time 36.6642(36.0340) | Bit/dim 1.2632(1.2552) | Steps 488(496.32) | Grad Norm 16.8945(11.8998) | Total Time 10.00(10.00)\n",
      "Iter 1623 | Time 36.4466(36.0463) | Bit/dim 1.2520(1.2551) | Steps 506(496.61) | Grad Norm 13.9638(11.9617) | Total Time 10.00(10.00)\n",
      "validating...\n",
      "Epoch 0232 | Time 10.7624, Epoch Time 274.0032, Bit/dim 1.2277\n"
     ]
    },
    {
     "name": "stdout",
     "output_type": "stream",
     "text": [
      "do _generatedo _generate\n",
      "\n",
      "do _generate\n",
      "do _generate\n",
      "do _generate\n",
      "do _generate\n",
      "do _generate\n",
      "do _generate\n"
     ]
    },
    {
     "name": "stderr",
     "output_type": "stream",
     "text": [
      "===> Using batch size 8000. Total 7 iterations/epoch.\n",
      "Iter 1624 | Time 34.8864(36.0115) | Bit/dim 1.2402(1.2547) | Steps 488(496.35) | Grad Norm 9.1421(11.8772) | Total Time 10.00(10.00)\n",
      "Iter 1625 | Time 36.5524(36.0278) | Bit/dim 1.2413(1.2543) | Steps 500(496.46) | Grad Norm 3.9714(11.6400) | Total Time 10.00(10.00)\n",
      "Iter 1626 | Time 36.5198(36.0425) | Bit/dim 1.2374(1.2538) | Steps 494(496.38) | Grad Norm 2.9220(11.3784) | Total Time 10.00(10.00)\n",
      "Iter 1627 | Time 36.8854(36.0678) | Bit/dim 1.2423(1.2534) | Steps 488(496.13) | Grad Norm 8.3359(11.2872) | Total Time 10.00(10.00)\n",
      "Iter 1628 | Time 38.3540(36.1364) | Bit/dim 1.2501(1.2533) | Steps 506(496.43) | Grad Norm 13.0872(11.3412) | Total Time 10.00(10.00)\n",
      "Iter 1629 | Time 36.1221(36.1360) | Bit/dim 1.2587(1.2535) | Steps 488(496.18) | Grad Norm 17.0592(11.5127) | Total Time 10.00(10.00)\n",
      "Iter 1630 | Time 37.2258(36.1687) | Bit/dim 1.2558(1.2535) | Steps 506(496.47) | Grad Norm 19.4349(11.7504) | Total Time 10.00(10.00)\n",
      "validating...\n",
      "Epoch 0233 | Time 10.7003, Epoch Time 279.6886, Bit/dim 1.2544\n"
     ]
    },
    {
     "name": "stdout",
     "output_type": "stream",
     "text": [
      "do _generate\n",
      "do _generate\n",
      "do _generate\n",
      "do _generate\n",
      "do _generate\n",
      "do _generate\n",
      "do _generate\n",
      "do _generate\n"
     ]
    },
    {
     "name": "stderr",
     "output_type": "stream",
     "text": [
      "===> Using batch size 8000. Total 7 iterations/epoch.\n",
      "Iter 1631 | Time 34.7370(36.1257) | Bit/dim 1.2697(1.2540) | Steps 488(496.22) | Grad Norm 19.7917(11.9916) | Total Time 10.00(10.00)\n"
     ]
    }
   ],
   "source": [
    "%run -p train_cnf.py --data mnist --dims 64,64,64 --strides 1,1,1,1 --num_blocks 2 --layer_type concat --multiscale True --rademacher True --batch_size 8000 --test_batch_size 8000 --save experiments/cnf_nocond_bs8K --conditional False"
   ]
  },
  {
   "cell_type": "code",
   "execution_count": null,
   "metadata": {},
   "outputs": [],
   "source": []
  }
 ],
 "metadata": {
  "kernelspec": {
   "display_name": "Python 3",
   "language": "python",
   "name": "python3"
  },
  "language_info": {
   "codemirror_mode": {
    "name": "ipython",
    "version": 3
   },
   "file_extension": ".py",
   "mimetype": "text/x-python",
   "name": "python",
   "nbconvert_exporter": "python",
   "pygments_lexer": "ipython3",
   "version": "3.6.7"
  }
 },
 "nbformat": 4,
 "nbformat_minor": 2
}
