{
 "cells": [
  {
   "cell_type": "code",
   "execution_count": null,
   "metadata": {},
   "outputs": [
    {
     "name": "stderr",
     "output_type": "stream",
     "text": [
      "/tancode/repos/tan-ffjord/train_cnf.py\n",
      "import argparse\n",
      "import os\n",
      "import time\n",
      "import numpy as np\n",
      "\n",
      "import torch\n",
      "import torch.optim as optim\n",
      "import torchvision.datasets as dset\n",
      "import torchvision.transforms as tforms\n",
      "from torchvision.utils import save_image\n",
      "\n",
      "import lib.layers as layers\n",
      "import lib.utils as utils\n",
      "import lib.odenvp as odenvp\n",
      "import lib.multiscale_parallel as multiscale_parallel\n",
      "\n",
      "from train_misc import standard_normal_logprob\n",
      "from train_misc import set_cnf_options, count_nfe, count_parameters, count_total_time\n",
      "from train_misc import add_spectral_norm, spectral_norm_power_iteration\n",
      "from train_misc import create_regularization_fns, get_regularization, append_regularization_to_log\n",
      "\n",
      "# go fast boi!!\n",
      "torch.backends.cudnn.benchmark = True\n",
      "SOLVERS = [\"dopri5\", \"bdf\", \"rk4\", \"midpoint\", 'adams', 'explicit_adams']\n",
      "parser = argparse.ArgumentParser(\"Continuous Normalizing Flow\")\n",
      "parser.add_argument(\"--data\", choices=[\"mnist\", \"svhn\", \"cifar10\", 'lsun_church'], type=str, default=\"mnist\")\n",
      "parser.add_argument(\"--dims\", type=str, default=\"8,32,32,8\")\n",
      "parser.add_argument(\"--strides\", type=str, default=\"2,2,1,-2,-2\")\n",
      "parser.add_argument(\"--num_blocks\", type=int, default=1, help='Number of stacked CNFs.')\n",
      "\n",
      "parser.add_argument(\"--conv\", type=eval, default=True, choices=[True, False])\n",
      "parser.add_argument(\n",
      "    \"--layer_type\", type=str, default=\"ignore\",\n",
      "    choices=[\"ignore\", \"concat\", \"concat_v2\", \"squash\", \"concatsquash\", \"concatcoord\", \"hyper\", \"blend\"]\n",
      ")\n",
      "parser.add_argument(\"--divergence_fn\", type=str, default=\"approximate\", choices=[\"brute_force\", \"approximate\"])\n",
      "parser.add_argument(\n",
      "    \"--nonlinearity\", type=str, default=\"softplus\", choices=[\"tanh\", \"relu\", \"softplus\", \"elu\", \"swish\"]\n",
      ")\n",
      "parser.add_argument('--solver', type=str, default='dopri5', choices=SOLVERS)\n",
      "parser.add_argument('--atol', type=float, default=1e-5)\n",
      "parser.add_argument('--rtol', type=float, default=1e-5)\n",
      "parser.add_argument(\"--step_size\", type=float, default=None, help=\"Optional fixed step size.\")\n",
      "\n",
      "parser.add_argument('--test_solver', type=str, default=None, choices=SOLVERS + [None])\n",
      "parser.add_argument('--test_atol', type=float, default=None)\n",
      "parser.add_argument('--test_rtol', type=float, default=None)\n",
      "\n",
      "parser.add_argument(\"--imagesize\", type=int, default=None)\n",
      "parser.add_argument(\"--alpha\", type=float, default=1e-6)\n",
      "parser.add_argument('--time_length', type=float, default=1.0)\n",
      "parser.add_argument('--train_T', type=eval, default=True)\n",
      "\n",
      "parser.add_argument(\"--num_epochs\", type=int, default=1000)\n",
      "parser.add_argument(\"--batch_size\", type=int, default=200)\n",
      "parser.add_argument(\n",
      "    \"--batch_size_schedule\", type=str, default=\"\", help=\"Increases the batchsize at every given epoch, dash separated.\"\n",
      ")\n",
      "parser.add_argument(\"--test_batch_size\", type=int, default=200)\n",
      "parser.add_argument(\"--lr\", type=float, default=1e-3)\n",
      "parser.add_argument(\"--warmup_iters\", type=float, default=1000)\n",
      "parser.add_argument(\"--weight_decay\", type=float, default=0.0)\n",
      "parser.add_argument(\"--spectral_norm_niter\", type=int, default=10)\n",
      "\n",
      "parser.add_argument(\"--add_noise\", type=eval, default=True, choices=[True, False])\n",
      "parser.add_argument(\"--batch_norm\", type=eval, default=False, choices=[True, False])\n",
      "parser.add_argument('--residual', type=eval, default=False, choices=[True, False])\n",
      "parser.add_argument('--autoencode', type=eval, default=False, choices=[True, False])\n",
      "parser.add_argument('--rademacher', type=eval, default=True, choices=[True, False])\n",
      "parser.add_argument('--spectral_norm', type=eval, default=False, choices=[True, False])\n",
      "parser.add_argument('--multiscale', type=eval, default=False, choices=[True, False])\n",
      "parser.add_argument('--parallel', type=eval, default=False, choices=[True, False])\n",
      "parser.add_argument('--conditional', type=eval, default=True, choices=[True, False])\n",
      "\n",
      "# Regularizations\n",
      "parser.add_argument('--l1int', type=float, default=None, help=\"int_t ||f||_1\")\n",
      "parser.add_argument('--l2int', type=float, default=None, help=\"int_t ||f||_2\")\n",
      "parser.add_argument('--dl2int', type=float, default=None, help=\"int_t ||f^T df/dt||_2\")\n",
      "parser.add_argument('--JFrobint', type=float, default=None, help=\"int_t ||df/dx||_F\")\n",
      "parser.add_argument('--JdiagFrobint', type=float, default=None, help=\"int_t ||df_i/dx_i||_F\")\n",
      "parser.add_argument('--JoffdiagFrobint', type=float, default=None, help=\"int_t ||df/dx - df_i/dx_i||_F\")\n",
      "\n",
      "parser.add_argument(\"--time_penalty\", type=float, default=0, help=\"Regularization on the end_time.\")\n",
      "parser.add_argument(\n",
      "    \"--max_grad_norm\", type=float, default=1e10,\n",
      "    help=\"Max norm of graidents (default is just stupidly high to avoid any clipping)\"\n",
      ")\n",
      "\n",
      "parser.add_argument(\"--begin_epoch\", type=int, default=1)\n",
      "parser.add_argument(\"--resume\", type=str, default=None)\n",
      "parser.add_argument(\"--save\", type=str, default=\"experiments/cnf\")\n",
      "parser.add_argument(\"--val_freq\", type=int, default=1)\n",
      "parser.add_argument(\"--log_freq\", type=int, default=1)\n",
      "\n",
      "args = parser.parse_args()\n",
      "\n",
      "# logger\n",
      "utils.makedirs(args.save)\n",
      "logger = utils.get_logger(logpath=os.path.join(args.save, 'logs'), filepath=os.path.abspath(__file__))\n",
      "\n",
      "if args.layer_type == \"blend\":\n",
      "    logger.info(\"!! Setting time_length from None to 1.0 due to use of Blend layers.\")\n",
      "    args.time_length = 1.0\n",
      "\n",
      "logger.info(args)\n",
      "\n",
      "\n",
      "def add_noise(x):\n",
      "    \"\"\"\n",
      "    [0, 1] -> [0, 255] -> add noise -> [0, 1]\n",
      "    \"\"\"\n",
      "    if args.add_noise:\n",
      "        noise = x.new().resize_as_(x).uniform_()\n",
      "        x = x * 255 + noise\n",
      "        x = x / 256\n",
      "    return x\n",
      "\n",
      "\n",
      "def update_lr(optimizer, itr):\n",
      "    iter_frac = min(float(itr + 1) / max(args.warmup_iters, 1), 1.0)\n",
      "    lr = args.lr * iter_frac\n",
      "    for param_group in optimizer.param_groups:\n",
      "        param_group[\"lr\"] = lr\n",
      "\n",
      "\n",
      "def get_train_loader(train_set, epoch):\n",
      "    if args.batch_size_schedule != \"\":\n",
      "        epochs = [0] + list(map(int, args.batch_size_schedule.split(\"-\")))\n",
      "        n_passed = sum(np.array(epochs) <= epoch)\n",
      "        current_batch_size = int(args.batch_size * n_passed)\n",
      "    else:\n",
      "        current_batch_size = args.batch_size\n",
      "    train_loader = torch.utils.data.DataLoader(\n",
      "        dataset=train_set, batch_size=current_batch_size, shuffle=True, drop_last=True, pin_memory=True\n",
      "    )\n",
      "    logger.info(\"===> Using batch size {}. Total {} iterations/epoch.\".format(current_batch_size, len(train_loader)))\n",
      "    return train_loader\n",
      "\n",
      "\n",
      "def get_dataset(args):\n",
      "    trans = lambda im_size: tforms.Compose([tforms.Resize(im_size), tforms.ToTensor(), add_noise])\n",
      "\n",
      "    if args.data == \"mnist\":\n",
      "        im_dim = 1\n",
      "        im_size = 28 if args.imagesize is None else args.imagesize\n",
      "        train_set = dset.MNIST(root=\"./data\", train=True, transform=trans(im_size), download=True)\n",
      "        test_set = dset.MNIST(root=\"./data\", train=False, transform=trans(im_size), download=True)\n",
      "    elif args.data == \"svhn\":\n",
      "        im_dim = 3\n",
      "        im_size = 32 if args.imagesize is None else args.imagesize\n",
      "        train_set = dset.SVHN(root=\"./data\", split=\"train\", transform=trans(im_size), download=True)\n",
      "        test_set = dset.SVHN(root=\"./data\", split=\"test\", transform=trans(im_size), download=True)\n",
      "    elif args.data == \"cifar10\":\n",
      "        im_dim = 3\n",
      "        im_size = 32 if args.imagesize is None else args.imagesize\n",
      "        train_set = dset.CIFAR10(\n",
      "            root=\"./data\", train=True, transform=tforms.Compose([\n",
      "                tforms.Resize(im_size),\n",
      "                tforms.RandomHorizontalFlip(),\n",
      "                tforms.ToTensor(),\n",
      "                add_noise,\n",
      "            ]), download=True\n",
      "        )\n",
      "        test_set = dset.CIFAR10(root=\"./data\", train=False, transform=trans(im_size), download=True)\n",
      "    elif args.data == 'celeba':\n",
      "        im_dim = 3\n",
      "        im_size = 64 if args.imagesize is None else args.imagesize\n",
      "        train_set = dset.CelebA(\n",
      "            train=True, transform=tforms.Compose([\n",
      "                tforms.ToPILImage(),\n",
      "                tforms.Resize(im_size),\n",
      "                tforms.RandomHorizontalFlip(),\n",
      "                tforms.ToTensor(),\n",
      "                add_noise,\n",
      "            ])\n",
      "        )\n",
      "        test_set = dset.CelebA(\n",
      "            train=False, transform=tforms.Compose([\n",
      "                tforms.ToPILImage(),\n",
      "                tforms.Resize(im_size),\n",
      "                tforms.ToTensor(),\n",
      "                add_noise,\n",
      "            ])\n",
      "        )\n",
      "    elif args.data == 'lsun_church':\n",
      "        im_dim = 3\n",
      "        im_size = 64 if args.imagesize is None else args.imagesize\n",
      "        train_set = dset.LSUN(\n",
      "            './data', ['church_outdoor_train'], transform=tforms.Compose([\n",
      "                tforms.Resize(96),\n",
      "                tforms.RandomCrop(64),\n",
      "                tforms.Resize(im_size),\n",
      "                tforms.ToTensor(),\n",
      "                add_noise,\n",
      "            ])\n",
      "        )\n",
      "        test_set = dset.LSUN(\n",
      "            './data', ['church_outdoor_val'], transform=tforms.Compose([\n",
      "                tforms.Resize(96),\n",
      "                tforms.RandomCrop(64),\n",
      "                tforms.Resize(im_size),\n",
      "                tforms.ToTensor(),\n",
      "                add_noise,\n",
      "            ])\n",
      "        )    \n",
      "    elif args.data == 'imagenet_64':\n",
      "        im_dim = 3\n",
      "        im_size = 64 if args.imagesize is None else args.imagesize\n",
      "        train_set = dset.ImageFolder(\n",
      "            train=True, transform=tforms.Compose([\n",
      "                tforms.ToPILImage(),\n",
      "                tforms.Resize(im_size),\n",
      "                tforms.RandomHorizontalFlip(),\n",
      "                tforms.ToTensor(),\n",
      "                add_noise,\n",
      "            ])\n",
      "        )\n",
      "        test_set = dset.ImageFolder(\n",
      "            train=False, transform=tforms.Compose([\n",
      "                tforms.ToPILImage(),\n",
      "                tforms.Resize(im_size),\n",
      "                tforms.ToTensor(),\n",
      "                add_noise,\n",
      "            ])\n",
      "        )\n",
      "    \n",
      "    data_shape = (im_dim, im_size, im_size)\n",
      "    if not args.conv:\n",
      "        data_shape = (im_dim * im_size * im_size,)\n",
      "\n",
      "    test_loader = torch.utils.data.DataLoader(\n",
      "        dataset=test_set, batch_size=args.test_batch_size, shuffle=False, drop_last=True\n",
      "    )\n",
      "    return train_set, test_loader, data_shape\n",
      "\n",
      "\n",
      "def compute_bits_per_dim(x, model):\n",
      "    zero = torch.zeros(x.shape[0], 1).to(x)\n",
      "\n",
      "    # Don't use data parallelize if batch size is small.\n",
      "    # if x.shape[0] < 200:\n",
      "    #     model = model.module\n",
      "    \n",
      "    z, delta_logp = model(x, zero)  # run model forward\n",
      "\n",
      "    logpz = standard_normal_logprob(z).view(z.shape[0], -1).sum(1, keepdim=True)  # logp(z)\n",
      "    logpx = logpz - delta_logp\n",
      "\n",
      "    logpx_per_dim = torch.sum(logpx) / x.nelement()  # averaged over batches\n",
      "    bits_per_dim = -(logpx_per_dim - np.log(256)) / np.log(2)\n",
      "\n",
      "    return bits_per_dim\n",
      "\n",
      "\n",
      "def compute_bits_per_dim_and_xent(x, y, model, size_cond=10):\n",
      "    zero = torch.zeros(x.shape[0], 1).to(x)\n",
      "\n",
      "    # Don't use data parallelize if batch size is small.\n",
      "    # if x.shape[0] < 200:\n",
      "    #     model = model.module\n",
      "    \n",
      "    z, delta_logp = model(x, zero)  # run model forward\n",
      "    z_noise, z_cond = z[:,:-size_cond], z[:,-size_cond:] # split z into z for noise and z for conditional signal\n",
      "    \n",
      "    # compute bits_per_dim\n",
      "    logpz = standard_normal_logprob(z_noise).view(z_noise.shape[0], -1).sum(1, keepdim=True)  # logp(z_noise)\n",
      "    logpx = logpz - delta_logp\n",
      "    logpx_per_dim = torch.sum(logpx) / x.nelement()  # averaged over batches\n",
      "    bits_per_dim = -(logpx_per_dim - np.log(256)) / np.log(2)\n",
      "    \n",
      "    # compute xentropy loss\n",
      "    L_xent = torch.nn.CrossEntropyLoss()\n",
      "    loss_xent = L_xent(z_cond, y.to(x.get_device()))\n",
      "\n",
      "    return bits_per_dim, loss_xent\n",
      "\n",
      "\n",
      "def create_model(args, data_shape, regularization_fns):\n",
      "    hidden_dims = tuple(map(int, args.dims.split(\",\")))\n",
      "    strides = tuple(map(int, args.strides.split(\",\")))\n",
      "\n",
      "    if args.multiscale:\n",
      "        model = odenvp.ODENVP(\n",
      "            (args.batch_size, *data_shape),\n",
      "            n_blocks=args.num_blocks,\n",
      "            intermediate_dims=hidden_dims,\n",
      "            nonlinearity=args.nonlinearity,\n",
      "            alpha=args.alpha,\n",
      "            cnf_kwargs={\"T\": args.time_length, \"train_T\": args.train_T, \"regularization_fns\": regularization_fns},\n",
      "        )\n",
      "    elif args.parallel:\n",
      "        model = multiscale_parallel.MultiscaleParallelCNF(\n",
      "            (args.batch_size, *data_shape),\n",
      "            n_blocks=args.num_blocks,\n",
      "            intermediate_dims=hidden_dims,\n",
      "            alpha=args.alpha,\n",
      "            time_length=args.time_length,\n",
      "        )\n",
      "    else:\n",
      "        if args.autoencode:\n",
      "\n",
      "            def build_cnf():\n",
      "                autoencoder_diffeq = layers.AutoencoderDiffEqNet(\n",
      "                    hidden_dims=hidden_dims,\n",
      "                    input_shape=data_shape,\n",
      "                    strides=strides,\n",
      "                    conv=args.conv,\n",
      "                    layer_type=args.layer_type,\n",
      "                    nonlinearity=args.nonlinearity,\n",
      "                )\n",
      "                odefunc = layers.AutoencoderODEfunc(\n",
      "                    autoencoder_diffeq=autoencoder_diffeq,\n",
      "                    divergence_fn=args.divergence_fn,\n",
      "                    residual=args.residual,\n",
      "                    rademacher=args.rademacher,\n",
      "                )\n",
      "                cnf = layers.CNF(\n",
      "                    odefunc=odefunc,\n",
      "                    T=args.time_length,\n",
      "                    regularization_fns=regularization_fns,\n",
      "                    solver=args.solver,\n",
      "                )\n",
      "                return cnf\n",
      "        else:\n",
      "\n",
      "            def build_cnf():\n",
      "                diffeq = layers.ODEnet(\n",
      "                    hidden_dims=hidden_dims,\n",
      "                    input_shape=data_shape,\n",
      "                    strides=strides,\n",
      "                    conv=args.conv,\n",
      "                    layer_type=args.layer_type,\n",
      "                    nonlinearity=args.nonlinearity,\n",
      "                )\n",
      "                odefunc = layers.ODEfunc(\n",
      "                    diffeq=diffeq,\n",
      "                    divergence_fn=args.divergence_fn,\n",
      "                    residual=args.residual,\n",
      "                    rademacher=args.rademacher,\n",
      "                )\n",
      "                cnf = layers.CNF(\n",
      "                    odefunc=odefunc,\n",
      "                    T=args.time_length,\n",
      "                    train_T=args.train_T,\n",
      "                    regularization_fns=regularization_fns,\n",
      "                    solver=args.solver,\n",
      "                )\n",
      "                return cnf\n",
      "\n",
      "        chain = [layers.LogitTransform(alpha=args.alpha)] if args.alpha > 0 else [layers.ZeroMeanTransform()]\n",
      "        chain = chain + [build_cnf() for _ in range(args.num_blocks)]\n",
      "        if args.batch_norm:\n",
      "            chain.append(layers.MovingBatchNorm2d(data_shape[0]))\n",
      "        model = layers.SequentialFlow(chain)\n",
      "    return model\n",
      "\n",
      "\n",
      "if __name__ == \"__main__\":\n",
      "\n",
      "    # get deivce\n",
      "    device = torch.device(\"cuda:0\" if torch.cuda.is_available() else \"cpu\")\n",
      "    cvt = lambda x: x.type(torch.float32).to(device, non_blocking=True)\n",
      "\n",
      "    # load dataset\n",
      "    train_set, test_loader, data_shape = get_dataset(args)\n",
      "\n",
      "    # build model\n",
      "    regularization_fns, regularization_coeffs = create_regularization_fns(args)\n",
      "    model = create_model(args, data_shape, regularization_fns)\n",
      "\n",
      "    if args.spectral_norm: add_spectral_norm(model, logger)\n",
      "    set_cnf_options(args, model)\n",
      "\n",
      "    logger.info(model)\n",
      "    logger.info(\"Number of trainable parameters: {}\".format(count_parameters(model)))\n",
      "\n",
      "    # optimizer\n",
      "    optimizer = optim.Adam(model.parameters(), lr=args.lr, weight_decay=args.weight_decay)\n",
      "\n",
      "    # restore parameters\n",
      "    if args.resume is not None:\n",
      "        checkpt = torch.load(args.resume, map_location=lambda storage, loc: storage)\n",
      "        model.load_state_dict(checkpt[\"state_dict\"])\n",
      "        if \"optim_state_dict\" in checkpt.keys():\n",
      "            optimizer.load_state_dict(checkpt[\"optim_state_dict\"])\n",
      "            # Manually move optimizer state to device.\n",
      "            for state in optimizer.state.values():\n",
      "                for k, v in state.items():\n",
      "                    if torch.is_tensor(v):\n",
      "                        state[k] = cvt(v)\n",
      "\n",
      "    if torch.cuda.is_available():\n",
      "        model = torch.nn.DataParallel(model).cuda()\n",
      "\n",
      "    # For visualization.\n",
      "    fixed_z = cvt(torch.randn(100, *data_shape))\n",
      "\n",
      "    time_meter = utils.RunningAverageMeter(0.97)\n",
      "    loss_meter = utils.RunningAverageMeter(0.97)\n",
      "    steps_meter = utils.RunningAverageMeter(0.97)\n",
      "    grad_meter = utils.RunningAverageMeter(0.97)\n",
      "    tt_meter = utils.RunningAverageMeter(0.97)\n",
      "\n",
      "    if args.spectral_norm and not args.resume: spectral_norm_power_iteration(model, 500)\n",
      "\n",
      "    best_loss = float(\"inf\")\n",
      "    itr = 0\n",
      "    for epoch in range(args.begin_epoch, args.num_epochs + 1):\n",
      "        start_epoch = time.time()\n",
      "        model.train()\n",
      "        train_loader = get_train_loader(train_set, epoch)\n",
      "        for _, (x, y) in enumerate(train_loader):\n",
      "            start = time.time()\n",
      "            update_lr(optimizer, itr)\n",
      "            optimizer.zero_grad()\n",
      "\n",
      "            if not args.conv:\n",
      "                x = x.view(x.shape[0], -1)\n",
      "\n",
      "            # cast data and move to device\n",
      "            x = cvt(x)\n",
      "            \n",
      "            # compute loss\n",
      "            if args.conditional:\n",
      "                loss_nll, loss_xent = compute_bits_per_dim_and_xent(x, y, model, size_cond=10)\n",
      "                loss = loss_nll + loss_xent\n",
      "            else:\n",
      "                loss = compute_bits_per_dim(x, model)\n",
      "            \n",
      "            if regularization_coeffs:\n",
      "                reg_states = get_regularization(model, regularization_coeffs)\n",
      "                reg_loss = sum(\n",
      "                    reg_state * coeff for reg_state, coeff in zip(reg_states, regularization_coeffs) if coeff != 0\n",
      "                )\n",
      "                loss = loss + reg_loss\n",
      "            total_time = count_total_time(model)\n",
      "            loss = loss + total_time * args.time_penalty\n",
      "\n",
      "            loss.backward()\n",
      "            grad_norm = torch.nn.utils.clip_grad_norm_(model.parameters(), args.max_grad_norm)\n",
      "\n",
      "            optimizer.step()\n",
      "\n",
      "            if args.spectral_norm: spectral_norm_power_iteration(model, args.spectral_norm_niter)\n",
      "\n",
      "            time_meter.update(time.time() - start)\n",
      "            loss_meter.update(loss.item())\n",
      "            steps_meter.update(count_nfe(model))\n",
      "            grad_meter.update(grad_norm)\n",
      "            tt_meter.update(total_time)\n",
      "\n",
      "            if itr % args.log_freq == 0:\n",
      "                log_message = (\n",
      "                    \"Iter {:04d} | Time {:.4f}({:.4f}) | Bit/dim {:.4f}({:.4f}) | \"\n",
      "                    \"Steps {:.0f}({:.2f}) | Grad Norm {:.4f}({:.4f}) | Total Time {:.2f}({:.2f})\".format(\n",
      "                        itr, time_meter.val, time_meter.avg, loss_meter.val, loss_meter.avg, steps_meter.val,\n",
      "                        steps_meter.avg, grad_meter.val, grad_meter.avg, tt_meter.val, tt_meter.avg\n",
      "                    )\n",
      "                )\n",
      "                if regularization_coeffs:\n",
      "                    log_message = append_regularization_to_log(log_message, regularization_fns, reg_states)\n",
      "                logger.info(log_message)\n",
      "\n",
      "            itr += 1\n",
      "\n",
      "        # compute test loss\n",
      "        model.eval()\n",
      "        if epoch % args.val_freq == 0:\n",
      "            with torch.no_grad():\n",
      "                start = time.time()\n",
      "                logger.info(\"validating...\")\n",
      "                losses = []\n",
      "                for (x, y) in test_loader:\n",
      "                    if not args.conv:\n",
      "                        x = x.view(x.shape[0], -1)\n",
      "                    x = cvt(x)\n",
      "                    loss = compute_bits_per_dim(x, model)\n",
      "                    losses.append(loss.cpu().numpy())\n",
      "                \n",
      "                loss = np.mean(losses)\n",
      "                logger.info(\"Epoch {:04d} | Time {:.4f}, Epoch Time {:.4f}, Bit/dim {:.4f}\".format(epoch, time.time() - start, time.time() - start_epoch, loss))\n",
      "                \n",
      "                if loss < best_loss:\n",
      "                    best_loss = loss\n",
      "                    utils.makedirs(args.save)\n",
      "                    torch.save({\n",
      "                        \"args\": args,\n",
      "                        \"state_dict\": model.module.state_dict() if torch.cuda.is_available() else model.state_dict(),\n",
      "                        \"optim_state_dict\": optimizer.state_dict(),\n",
      "                    }, os.path.join(args.save, \"checkpt.pth\"))\n",
      "\n",
      "        # visualize samples and density\n",
      "        with torch.no_grad():\n",
      "            fig_filename = os.path.join(args.save, \"figs\", \"{:04d}.jpg\".format(epoch))\n",
      "            utils.makedirs(os.path.dirname(fig_filename))\n",
      "            generated_samples = model(fixed_z, reverse=True).view(-1, *data_shape)\n",
      "            save_image(generated_samples, fig_filename, nrow=10)\n",
      "\n",
      "Namespace(JFrobint=None, JdiagFrobint=None, JoffdiagFrobint=None, add_noise=True, alpha=1e-06, atol=1e-05, autoencode=False, batch_norm=False, batch_size=8000, batch_size_schedule='', begin_epoch=1, conditional=True, conv=True, data='mnist', dims='64,64,64', divergence_fn='approximate', dl2int=None, imagesize=None, l1int=None, l2int=None, layer_type='concat', log_freq=1, lr=0.001, max_grad_norm=10000000000.0, multiscale=True, nonlinearity='softplus', num_blocks=2, num_epochs=1000, parallel=False, rademacher=True, residual=False, resume=None, rtol=1e-05, save='experiments/cnf', solver='dopri5', spectral_norm=False, spectral_norm_niter=10, step_size=None, strides='1,1,1,1', test_atol=None, test_batch_size=8000, test_rtol=None, test_solver=None, time_length=1.0, time_penalty=0, train_T=True, val_freq=1, warmup_iters=1000, weight_decay=0.0)\n",
      "ODENVP(\n",
      "  (transforms): ModuleList(\n",
      "    (0): StackedCNFLayers(\n",
      "      (chain): ModuleList(\n",
      "        (0): LogitTransform()\n",
      "        (1): CNF(\n",
      "          (odefunc): RegularizedODEfunc(\n",
      "            (odefunc): ODEfunc(\n",
      "              (diffeq): ODEnet(\n",
      "                (layers): ModuleList(\n",
      "                  (0): ConcatConv2d(\n",
      "                    (_layer): Conv2d(2, 64, kernel_size=(3, 3), stride=(1, 1), padding=(1, 1))\n",
      "                  )\n",
      "                  (1): ConcatConv2d(\n",
      "                    (_layer): Conv2d(65, 64, kernel_size=(3, 3), stride=(1, 1), padding=(1, 1))\n",
      "                  )\n",
      "                  (2): ConcatConv2d(\n",
      "                    (_layer): Conv2d(65, 64, kernel_size=(3, 3), stride=(1, 1), padding=(1, 1))\n",
      "                  )\n",
      "                  (3): ConcatConv2d(\n",
      "                    (_layer): Conv2d(65, 1, kernel_size=(3, 3), stride=(1, 1), padding=(1, 1))\n",
      "                  )\n",
      "                )\n",
      "                (activation_fns): ModuleList(\n",
      "                  (0): Softplus(beta=1, threshold=20)\n",
      "                  (1): Softplus(beta=1, threshold=20)\n",
      "                  (2): Softplus(beta=1, threshold=20)\n",
      "                )\n",
      "              )\n",
      "            )\n",
      "          )\n",
      "        )\n",
      "        (2): CNF(\n",
      "          (odefunc): RegularizedODEfunc(\n",
      "            (odefunc): ODEfunc(\n",
      "              (diffeq): ODEnet(\n",
      "                (layers): ModuleList(\n",
      "                  (0): ConcatConv2d(\n",
      "                    (_layer): Conv2d(2, 64, kernel_size=(3, 3), stride=(1, 1), padding=(1, 1))\n",
      "                  )\n",
      "                  (1): ConcatConv2d(\n",
      "                    (_layer): Conv2d(65, 64, kernel_size=(3, 3), stride=(1, 1), padding=(1, 1))\n",
      "                  )\n",
      "                  (2): ConcatConv2d(\n",
      "                    (_layer): Conv2d(65, 64, kernel_size=(3, 3), stride=(1, 1), padding=(1, 1))\n",
      "                  )\n",
      "                  (3): ConcatConv2d(\n",
      "                    (_layer): Conv2d(65, 1, kernel_size=(3, 3), stride=(1, 1), padding=(1, 1))\n",
      "                  )\n",
      "                )\n",
      "                (activation_fns): ModuleList(\n",
      "                  (0): Softplus(beta=1, threshold=20)\n",
      "                  (1): Softplus(beta=1, threshold=20)\n",
      "                  (2): Softplus(beta=1, threshold=20)\n",
      "                )\n",
      "              )\n",
      "            )\n",
      "          )\n",
      "        )\n",
      "        (3): SqueezeLayer()\n",
      "        (4): CNF(\n",
      "          (odefunc): RegularizedODEfunc(\n",
      "            (odefunc): ODEfunc(\n",
      "              (diffeq): ODEnet(\n",
      "                (layers): ModuleList(\n",
      "                  (0): ConcatConv2d(\n",
      "                    (_layer): Conv2d(5, 64, kernel_size=(3, 3), stride=(1, 1), padding=(1, 1))\n",
      "                  )\n",
      "                  (1): ConcatConv2d(\n",
      "                    (_layer): Conv2d(65, 64, kernel_size=(3, 3), stride=(1, 1), padding=(1, 1))\n",
      "                  )\n",
      "                  (2): ConcatConv2d(\n",
      "                    (_layer): Conv2d(65, 64, kernel_size=(3, 3), stride=(1, 1), padding=(1, 1))\n",
      "                  )\n",
      "                  (3): ConcatConv2d(\n",
      "                    (_layer): Conv2d(65, 4, kernel_size=(3, 3), stride=(1, 1), padding=(1, 1))\n",
      "                  )\n",
      "                )\n",
      "                (activation_fns): ModuleList(\n",
      "                  (0): Softplus(beta=1, threshold=20)\n",
      "                  (1): Softplus(beta=1, threshold=20)\n",
      "                  (2): Softplus(beta=1, threshold=20)\n",
      "                )\n",
      "              )\n",
      "            )\n",
      "          )\n",
      "        )\n",
      "        (5): CNF(\n",
      "          (odefunc): RegularizedODEfunc(\n",
      "            (odefunc): ODEfunc(\n",
      "              (diffeq): ODEnet(\n",
      "                (layers): ModuleList(\n",
      "                  (0): ConcatConv2d(\n",
      "                    (_layer): Conv2d(5, 64, kernel_size=(3, 3), stride=(1, 1), padding=(1, 1))\n",
      "                  )\n",
      "                  (1): ConcatConv2d(\n",
      "                    (_layer): Conv2d(65, 64, kernel_size=(3, 3), stride=(1, 1), padding=(1, 1))\n",
      "                  )\n",
      "                  (2): ConcatConv2d(\n",
      "                    (_layer): Conv2d(65, 64, kernel_size=(3, 3), stride=(1, 1), padding=(1, 1))\n",
      "                  )\n",
      "                  (3): ConcatConv2d(\n",
      "                    (_layer): Conv2d(65, 4, kernel_size=(3, 3), stride=(1, 1), padding=(1, 1))\n",
      "                  )\n",
      "                )\n",
      "                (activation_fns): ModuleList(\n",
      "                  (0): Softplus(beta=1, threshold=20)\n",
      "                  (1): Softplus(beta=1, threshold=20)\n",
      "                  (2): Softplus(beta=1, threshold=20)\n",
      "                )\n",
      "              )\n",
      "            )\n",
      "          )\n",
      "        )\n",
      "      )\n",
      "    )\n",
      "    (1): StackedCNFLayers(\n",
      "      (chain): ModuleList(\n",
      "        (0): CNF(\n",
      "          (odefunc): RegularizedODEfunc(\n",
      "            (odefunc): ODEfunc(\n",
      "              (diffeq): ODEnet(\n",
      "                (layers): ModuleList(\n",
      "                  (0): ConcatConv2d(\n",
      "                    (_layer): Conv2d(3, 64, kernel_size=(3, 3), stride=(1, 1), padding=(1, 1))\n",
      "                  )\n",
      "                  (1): ConcatConv2d(\n",
      "                    (_layer): Conv2d(65, 64, kernel_size=(3, 3), stride=(1, 1), padding=(1, 1))\n",
      "                  )\n",
      "                  (2): ConcatConv2d(\n",
      "                    (_layer): Conv2d(65, 64, kernel_size=(3, 3), stride=(1, 1), padding=(1, 1))\n",
      "                  )\n",
      "                  (3): ConcatConv2d(\n",
      "                    (_layer): Conv2d(65, 2, kernel_size=(3, 3), stride=(1, 1), padding=(1, 1))\n",
      "                  )\n",
      "                )\n",
      "                (activation_fns): ModuleList(\n",
      "                  (0): Softplus(beta=1, threshold=20)\n",
      "                  (1): Softplus(beta=1, threshold=20)\n",
      "                  (2): Softplus(beta=1, threshold=20)\n",
      "                )\n",
      "              )\n",
      "            )\n",
      "          )\n",
      "        )\n",
      "        (1): CNF(\n",
      "          (odefunc): RegularizedODEfunc(\n",
      "            (odefunc): ODEfunc(\n",
      "              (diffeq): ODEnet(\n",
      "                (layers): ModuleList(\n",
      "                  (0): ConcatConv2d(\n",
      "                    (_layer): Conv2d(3, 64, kernel_size=(3, 3), stride=(1, 1), padding=(1, 1))\n",
      "                  )\n",
      "                  (1): ConcatConv2d(\n",
      "                    (_layer): Conv2d(65, 64, kernel_size=(3, 3), stride=(1, 1), padding=(1, 1))\n",
      "                  )\n",
      "                  (2): ConcatConv2d(\n",
      "                    (_layer): Conv2d(65, 64, kernel_size=(3, 3), stride=(1, 1), padding=(1, 1))\n",
      "                  )\n",
      "                  (3): ConcatConv2d(\n",
      "                    (_layer): Conv2d(65, 2, kernel_size=(3, 3), stride=(1, 1), padding=(1, 1))\n",
      "                  )\n",
      "                )\n",
      "                (activation_fns): ModuleList(\n",
      "                  (0): Softplus(beta=1, threshold=20)\n",
      "                  (1): Softplus(beta=1, threshold=20)\n",
      "                  (2): Softplus(beta=1, threshold=20)\n",
      "                )\n",
      "              )\n",
      "            )\n",
      "          )\n",
      "        )\n",
      "        (2): SqueezeLayer()\n",
      "        (3): CNF(\n",
      "          (odefunc): RegularizedODEfunc(\n",
      "            (odefunc): ODEfunc(\n",
      "              (diffeq): ODEnet(\n",
      "                (layers): ModuleList(\n",
      "                  (0): ConcatConv2d(\n",
      "                    (_layer): Conv2d(9, 64, kernel_size=(3, 3), stride=(1, 1), padding=(1, 1))\n",
      "                  )\n",
      "                  (1): ConcatConv2d(\n",
      "                    (_layer): Conv2d(65, 64, kernel_size=(3, 3), stride=(1, 1), padding=(1, 1))\n",
      "                  )\n",
      "                  (2): ConcatConv2d(\n",
      "                    (_layer): Conv2d(65, 64, kernel_size=(3, 3), stride=(1, 1), padding=(1, 1))\n",
      "                  )\n",
      "                  (3): ConcatConv2d(\n",
      "                    (_layer): Conv2d(65, 8, kernel_size=(3, 3), stride=(1, 1), padding=(1, 1))\n",
      "                  )\n",
      "                )\n",
      "                (activation_fns): ModuleList(\n",
      "                  (0): Softplus(beta=1, threshold=20)\n",
      "                  (1): Softplus(beta=1, threshold=20)\n",
      "                  (2): Softplus(beta=1, threshold=20)\n",
      "                )\n",
      "              )\n",
      "            )\n",
      "          )\n",
      "        )\n",
      "        (4): CNF(\n",
      "          (odefunc): RegularizedODEfunc(\n",
      "            (odefunc): ODEfunc(\n",
      "              (diffeq): ODEnet(\n",
      "                (layers): ModuleList(\n",
      "                  (0): ConcatConv2d(\n",
      "                    (_layer): Conv2d(9, 64, kernel_size=(3, 3), stride=(1, 1), padding=(1, 1))\n",
      "                  )\n",
      "                  (1): ConcatConv2d(\n",
      "                    (_layer): Conv2d(65, 64, kernel_size=(3, 3), stride=(1, 1), padding=(1, 1))\n",
      "                  )\n",
      "                  (2): ConcatConv2d(\n",
      "                    (_layer): Conv2d(65, 64, kernel_size=(3, 3), stride=(1, 1), padding=(1, 1))\n",
      "                  )\n",
      "                  (3): ConcatConv2d(\n",
      "                    (_layer): Conv2d(65, 8, kernel_size=(3, 3), stride=(1, 1), padding=(1, 1))\n",
      "                  )\n",
      "                )\n",
      "                (activation_fns): ModuleList(\n",
      "                  (0): Softplus(beta=1, threshold=20)\n",
      "                  (1): Softplus(beta=1, threshold=20)\n",
      "                  (2): Softplus(beta=1, threshold=20)\n",
      "                )\n",
      "              )\n",
      "            )\n",
      "          )\n",
      "        )\n",
      "      )\n",
      "    )\n",
      "    (2): StackedCNFLayers(\n",
      "      (chain): ModuleList(\n",
      "        (0): CNF(\n",
      "          (odefunc): RegularizedODEfunc(\n",
      "            (odefunc): ODEfunc(\n",
      "              (diffeq): ODEnet(\n",
      "                (layers): ModuleList(\n",
      "                  (0): ConcatConv2d(\n",
      "                    (_layer): Conv2d(5, 64, kernel_size=(3, 3), stride=(1, 1), padding=(1, 1))\n",
      "                  )\n",
      "                  (1): ConcatConv2d(\n",
      "                    (_layer): Conv2d(65, 64, kernel_size=(3, 3), stride=(1, 1), padding=(1, 1))\n",
      "                  )\n",
      "                  (2): ConcatConv2d(\n",
      "                    (_layer): Conv2d(65, 64, kernel_size=(3, 3), stride=(1, 1), padding=(1, 1))\n",
      "                  )\n",
      "                  (3): ConcatConv2d(\n",
      "                    (_layer): Conv2d(65, 4, kernel_size=(3, 3), stride=(1, 1), padding=(1, 1))\n",
      "                  )\n",
      "                )\n",
      "                (activation_fns): ModuleList(\n",
      "                  (0): Softplus(beta=1, threshold=20)\n",
      "                  (1): Softplus(beta=1, threshold=20)\n",
      "                  (2): Softplus(beta=1, threshold=20)\n",
      "                )\n",
      "              )\n",
      "            )\n",
      "          )\n",
      "        )\n",
      "        (1): CNF(\n",
      "          (odefunc): RegularizedODEfunc(\n",
      "            (odefunc): ODEfunc(\n",
      "              (diffeq): ODEnet(\n",
      "                (layers): ModuleList(\n",
      "                  (0): ConcatConv2d(\n",
      "                    (_layer): Conv2d(5, 64, kernel_size=(3, 3), stride=(1, 1), padding=(1, 1))\n",
      "                  )\n",
      "                  (1): ConcatConv2d(\n",
      "                    (_layer): Conv2d(65, 64, kernel_size=(3, 3), stride=(1, 1), padding=(1, 1))\n",
      "                  )\n",
      "                  (2): ConcatConv2d(\n",
      "                    (_layer): Conv2d(65, 64, kernel_size=(3, 3), stride=(1, 1), padding=(1, 1))\n",
      "                  )\n",
      "                  (3): ConcatConv2d(\n",
      "                    (_layer): Conv2d(65, 4, kernel_size=(3, 3), stride=(1, 1), padding=(1, 1))\n",
      "                  )\n",
      "                )\n",
      "                (activation_fns): ModuleList(\n",
      "                  (0): Softplus(beta=1, threshold=20)\n",
      "                  (1): Softplus(beta=1, threshold=20)\n",
      "                  (2): Softplus(beta=1, threshold=20)\n",
      "                )\n",
      "              )\n",
      "            )\n",
      "          )\n",
      "        )\n",
      "      )\n",
      "    )\n",
      "  )\n",
      ")\n",
      "Number of trainable parameters: 800646\n",
      "===> Using batch size 8000. Total 7 iterations/epoch.\n",
      "/tancode/repos/tan-ffjord/lib/layers/odefunc.py:286: UserWarning: To copy construct from a tensor, it is recommended to use sourceTensor.clone().detach() or sourceTensor.clone().detach().requires_grad_(True), rather than torch.tensor(sourceTensor).\n",
      "  t = torch.tensor(t).type_as(y)\n",
      "Iter 0000 | Time 66.8541(66.8541) | Bit/dim 31.3238(31.3238) | Steps 410(410.00) | Grad Norm 204.9145(204.9145) | Total Time 10.00(10.00)\n",
      "Iter 0001 | Time 27.4424(65.6717) | Bit/dim 31.2564(31.3217) | Steps 410(410.00) | Grad Norm 204.3050(204.8963) | Total Time 10.00(10.00)\n",
      "Iter 0002 | Time 26.9753(64.5108) | Bit/dim 31.1448(31.3164) | Steps 410(410.00) | Grad Norm 204.3243(204.8791) | Total Time 10.00(10.00)\n",
      "Iter 0003 | Time 27.1816(63.3909) | Bit/dim 31.0406(31.3082) | Steps 410(410.00) | Grad Norm 202.3484(204.8032) | Total Time 10.00(10.00)\n",
      "Iter 0004 | Time 26.9159(62.2967) | Bit/dim 30.7885(31.2926) | Steps 410(410.00) | Grad Norm 200.7643(204.6820) | Total Time 10.00(10.00)\n",
      "Iter 0005 | Time 26.9775(61.2371) | Bit/dim 30.6483(31.2732) | Steps 410(410.00) | Grad Norm 199.6983(204.5325) | Total Time 10.00(10.00)\n",
      "Iter 0006 | Time 26.5081(60.1952) | Bit/dim 30.3614(31.2459) | Steps 410(410.00) | Grad Norm 197.4665(204.3205) | Total Time 10.00(10.00)\n",
      "validating...\n",
      "Epoch 0001 | Time 8.8138, Epoch Time 249.8528, Bit/dim 26.4418\n"
     ]
    },
    {
     "name": "stdout",
     "output_type": "stream",
     "text": [
      "do _generate\n",
      "do _generate\n",
      "do _generate\n",
      "do _generate\n",
      "do _generate\n",
      "do _generate\n",
      "do _generate\n",
      "do _generate\n"
     ]
    },
    {
     "name": "stderr",
     "output_type": "stream",
     "text": [
      "===> Using batch size 8000. Total 7 iterations/epoch.\n",
      "Iter 0007 | Time 28.6345(59.2484) | Bit/dim 30.0261(31.2093) | Steps 410(410.00) | Grad Norm 195.4694(204.0550) | Total Time 10.00(10.00)\n",
      "Iter 0008 | Time 26.6953(58.2718) | Bit/dim 29.7526(31.1656) | Steps 410(410.00) | Grad Norm 192.6299(203.7122) | Total Time 10.00(10.00)\n",
      "Iter 0009 | Time 26.8341(57.3287) | Bit/dim 29.2970(31.1095) | Steps 410(410.00) | Grad Norm 188.7514(203.2634) | Total Time 10.00(10.00)\n",
      "Iter 0010 | Time 26.6574(56.4086) | Bit/dim 28.8587(31.0420) | Steps 410(410.00) | Grad Norm 185.2241(202.7222) | Total Time 10.00(10.00)\n",
      "Iter 0011 | Time 27.4943(55.5411) | Bit/dim 28.3464(30.9611) | Steps 410(410.00) | Grad Norm 181.6699(202.0907) | Total Time 10.00(10.00)\n",
      "Iter 0012 | Time 27.6220(54.7036) | Bit/dim 27.9550(30.8710) | Steps 410(410.00) | Grad Norm 178.0178(201.3685) | Total Time 10.00(10.00)\n",
      "Iter 0013 | Time 27.3632(53.8833) | Bit/dim 27.4422(30.7681) | Steps 410(410.00) | Grad Norm 173.7989(200.5414) | Total Time 10.00(10.00)\n",
      "validating...\n",
      "Epoch 0002 | Time 8.6674, Epoch Time 212.2016, Bit/dim 23.2309\n"
     ]
    },
    {
     "name": "stdout",
     "output_type": "stream",
     "text": [
      "do _generate\n",
      "do _generate\n",
      "do _generate\n",
      "do _generate\n",
      "do _generate\n",
      "do _generate\n",
      "do _generate\n",
      "do _generate\n"
     ]
    },
    {
     "name": "stderr",
     "output_type": "stream",
     "text": [
      "===> Using batch size 8000. Total 7 iterations/epoch.\n",
      "Iter 0014 | Time 26.3122(53.0562) | Bit/dim 26.9219(30.6527) | Steps 410(410.00) | Grad Norm 169.6312(199.6141) | Total Time 10.00(10.00)\n",
      "Iter 0015 | Time 26.6915(52.2653) | Bit/dim 26.3128(30.5225) | Steps 410(410.00) | Grad Norm 165.0119(198.5760) | Total Time 10.00(10.00)\n",
      "Iter 0016 | Time 26.7406(51.4995) | Bit/dim 25.7874(30.3805) | Steps 410(410.00) | Grad Norm 160.4112(197.4311) | Total Time 10.00(10.00)\n",
      "Iter 0017 | Time 26.5418(50.7508) | Bit/dim 25.3163(30.2285) | Steps 410(410.00) | Grad Norm 154.4341(196.1412) | Total Time 10.00(10.00)\n",
      "Iter 0018 | Time 26.6846(50.0288) | Bit/dim 24.6536(30.0613) | Steps 410(410.00) | Grad Norm 149.7416(194.7492) | Total Time 10.00(10.00)\n",
      "Iter 0019 | Time 27.3518(49.3485) | Bit/dim 24.0571(29.8812) | Steps 410(410.00) | Grad Norm 144.4533(193.2403) | Total Time 10.00(10.00)\n",
      "Iter 0020 | Time 26.9458(48.6764) | Bit/dim 23.5203(29.6903) | Steps 410(410.00) | Grad Norm 138.3683(191.5941) | Total Time 10.00(10.00)\n",
      "validating...\n",
      "Epoch 0003 | Time 8.7508, Epoch Time 208.2090, Bit/dim 19.1244\n"
     ]
    },
    {
     "name": "stdout",
     "output_type": "stream",
     "text": [
      "do _generate\n",
      "do _generate\n",
      "do _generate\n",
      "do _generate\n",
      "do _generate\n",
      "do _generate\n",
      "do _generate\n",
      "do _generate\n"
     ]
    },
    {
     "name": "stderr",
     "output_type": "stream",
     "text": [
      "===> Using batch size 8000. Total 7 iterations/epoch.\n",
      "Iter 0021 | Time 26.6485(48.0156) | Bit/dim 22.9186(29.4872) | Steps 410(410.00) | Grad Norm 133.0347(189.8374) | Total Time 10.00(10.00)\n",
      "Iter 0022 | Time 28.2158(47.4216) | Bit/dim 22.3127(29.2720) | Steps 410(410.00) | Grad Norm 127.4236(187.9649) | Total Time 10.00(10.00)\n",
      "Iter 0023 | Time 26.2768(46.7872) | Bit/dim 21.7757(29.0471) | Steps 410(410.00) | Grad Norm 121.7385(185.9782) | Total Time 10.00(10.00)\n",
      "Iter 0024 | Time 27.3927(46.2054) | Bit/dim 21.2286(28.8125) | Steps 410(410.00) | Grad Norm 115.6891(183.8695) | Total Time 10.00(10.00)\n",
      "Iter 0025 | Time 26.6448(45.6186) | Bit/dim 20.6366(28.5672) | Steps 410(410.00) | Grad Norm 110.2780(181.6617) | Total Time 10.00(10.00)\n",
      "Iter 0026 | Time 27.4692(45.0741) | Bit/dim 20.1707(28.3153) | Steps 410(410.00) | Grad Norm 104.2651(179.3398) | Total Time 10.00(10.00)\n",
      "Iter 0027 | Time 27.0104(44.5322) | Bit/dim 19.6469(28.0553) | Steps 410(410.00) | Grad Norm 98.9721(176.9288) | Total Time 10.00(10.00)\n",
      "validating...\n",
      "Epoch 0004 | Time 8.6649, Epoch Time 210.6979, Bit/dim 15.3211\n"
     ]
    },
    {
     "name": "stdout",
     "output_type": "stream",
     "text": [
      "do _generate\n",
      "do _generate\n",
      "do _generate\n",
      "do _generate\n",
      "do _generate\n",
      "do _generate\n",
      "do _generate\n",
      "do _generate\n"
     ]
    },
    {
     "name": "stderr",
     "output_type": "stream",
     "text": [
      "===> Using batch size 8000. Total 7 iterations/epoch.\n",
      "Iter 0028 | Time 26.4915(43.9910) | Bit/dim 19.1215(27.7873) | Steps 410(410.00) | Grad Norm 92.6005(174.3990) | Total Time 10.00(10.00)\n",
      "Iter 0029 | Time 27.4494(43.4947) | Bit/dim 18.7321(27.5156) | Steps 410(410.00) | Grad Norm 86.9382(171.7751) | Total Time 10.00(10.00)\n",
      "Iter 0030 | Time 26.6489(42.9894) | Bit/dim 18.2501(27.2377) | Steps 410(410.00) | Grad Norm 81.0840(169.0544) | Total Time 10.00(10.00)\n",
      "Iter 0031 | Time 26.7527(42.5023) | Bit/dim 17.8774(26.9568) | Steps 410(410.00) | Grad Norm 75.3605(166.2436) | Total Time 10.00(10.00)\n",
      "Iter 0032 | Time 26.7665(42.0302) | Bit/dim 17.5664(26.6751) | Steps 410(410.00) | Grad Norm 69.4380(163.3394) | Total Time 10.00(10.00)\n",
      "Iter 0033 | Time 26.7295(41.5712) | Bit/dim 17.1026(26.3880) | Steps 410(410.00) | Grad Norm 64.7604(160.3820) | Total Time 10.00(10.00)\n",
      "Iter 0034 | Time 26.5147(41.1195) | Bit/dim 16.8062(26.1005) | Steps 410(410.00) | Grad Norm 59.4699(157.3547) | Total Time 10.00(10.00)\n",
      "validating...\n",
      "Epoch 0005 | Time 8.7758, Epoch Time 208.4468, Bit/dim 12.6355\n"
     ]
    },
    {
     "name": "stdout",
     "output_type": "stream",
     "text": [
      "do _generate\n",
      "do _generate\n",
      "do _generate\n",
      "do _generate\n",
      "do _generate\n",
      "do _generate\n",
      "do _generate\n",
      "do _generate\n"
     ]
    },
    {
     "name": "stderr",
     "output_type": "stream",
     "text": [
      "===> Using batch size 8000. Total 7 iterations/epoch.\n",
      "Iter 0035 | Time 26.7215(40.6875) | Bit/dim 16.5064(25.8127) | Steps 410(410.00) | Grad Norm 54.4511(154.2676) | Total Time 10.00(10.00)\n",
      "Iter 0036 | Time 27.4694(40.2910) | Bit/dim 16.0896(25.5210) | Steps 410(410.00) | Grad Norm 50.5819(151.1570) | Total Time 10.00(10.00)\n",
      "Iter 0037 | Time 26.5534(39.8789) | Bit/dim 15.7997(25.2294) | Steps 410(410.00) | Grad Norm 46.0951(148.0051) | Total Time 10.00(10.00)\n",
      "Iter 0038 | Time 27.1324(39.4965) | Bit/dim 15.5703(24.9396) | Steps 410(410.00) | Grad Norm 42.2698(144.8331) | Total Time 10.00(10.00)\n",
      "Iter 0039 | Time 27.8568(39.1473) | Bit/dim 15.4193(24.6540) | Steps 410(410.00) | Grad Norm 38.3522(141.6387) | Total Time 10.00(10.00)\n",
      "Iter 0040 | Time 29.0148(38.8433) | Bit/dim 15.2178(24.3709) | Steps 410(410.00) | Grad Norm 35.1799(138.4449) | Total Time 10.00(10.00)\n",
      "Iter 0041 | Time 32.1397(38.6422) | Bit/dim 14.8956(24.0866) | Steps 410(410.00) | Grad Norm 32.2858(135.2601) | Total Time 10.00(10.00)\n",
      "validating...\n",
      "Epoch 0006 | Time 10.2186, Epoch Time 219.8795, Bit/dim 11.0117\n"
     ]
    },
    {
     "name": "stdout",
     "output_type": "stream",
     "text": [
      "do _generate\n",
      "do _generate\n",
      "do _generate\n",
      "do _generate\n",
      "do _generate\n",
      "do _generate\n",
      "do _generate\n",
      "do _generate\n"
     ]
    },
    {
     "name": "stderr",
     "output_type": "stream",
     "text": [
      "===> Using batch size 8000. Total 7 iterations/epoch.\n",
      "Iter 0042 | Time 34.3937(38.5147) | Bit/dim 14.6826(23.8045) | Steps 410(410.00) | Grad Norm 30.0970(132.1052) | Total Time 10.00(10.00)\n",
      "Iter 0043 | Time 32.9249(38.3470) | Bit/dim 14.4886(23.5250) | Steps 410(410.00) | Grad Norm 27.7460(128.9745) | Total Time 10.00(10.00)\n",
      "Iter 0044 | Time 33.0886(38.1893) | Bit/dim 14.2871(23.2479) | Steps 410(410.00) | Grad Norm 26.0646(125.8872) | Total Time 10.00(10.00)\n",
      "Iter 0045 | Time 34.6813(38.0840) | Bit/dim 14.0349(22.9715) | Steps 410(410.00) | Grad Norm 24.5373(122.8467) | Total Time 10.00(10.00)\n",
      "Iter 0046 | Time 31.7620(37.8944) | Bit/dim 13.8285(22.6972) | Steps 410(410.00) | Grad Norm 23.2508(119.8588) | Total Time 10.00(10.00)\n",
      "Iter 0047 | Time 33.2570(37.7553) | Bit/dim 13.6234(22.4250) | Steps 410(410.00) | Grad Norm 22.0036(116.9231) | Total Time 10.00(10.00)\n",
      "Iter 0048 | Time 34.3674(37.6536) | Bit/dim 13.4642(22.1562) | Steps 410(410.00) | Grad Norm 21.0369(114.0465) | Total Time 10.00(10.00)\n",
      "validating...\n",
      "Epoch 0007 | Time 9.6594, Epoch Time 258.5646, Bit/dim 9.7846\n"
     ]
    },
    {
     "name": "stdout",
     "output_type": "stream",
     "text": [
      "do _generate\n",
      "do _generate\n",
      "do _generate\n",
      "do _generate\n",
      "do _generate\n",
      "do _generate\n",
      "do _generate\n",
      "do _generate\n"
     ]
    },
    {
     "name": "stderr",
     "output_type": "stream",
     "text": [
      "===> Using batch size 8000. Total 7 iterations/epoch.\n",
      "Iter 0049 | Time 31.6970(37.4749) | Bit/dim 13.2365(21.8886) | Steps 410(410.00) | Grad Norm 20.1442(111.2295) | Total Time 10.00(10.00)\n",
      "Iter 0050 | Time 33.7045(37.3618) | Bit/dim 13.1000(21.6249) | Steps 410(410.00) | Grad Norm 19.4928(108.4774) | Total Time 10.00(10.00)\n",
      "Iter 0051 | Time 32.7715(37.2241) | Bit/dim 12.8025(21.3603) | Steps 410(410.00) | Grad Norm 18.6287(105.7819) | Total Time 10.00(10.00)\n",
      "Iter 0052 | Time 31.9836(37.0669) | Bit/dim 12.6558(21.0991) | Steps 410(410.00) | Grad Norm 18.0161(103.1489) | Total Time 10.00(10.00)\n",
      "Iter 0053 | Time 33.1718(36.9500) | Bit/dim 12.4000(20.8381) | Steps 410(410.00) | Grad Norm 17.3712(100.5756) | Total Time 10.00(10.00)\n",
      "Iter 0054 | Time 31.1346(36.7756) | Bit/dim 12.3126(20.5824) | Steps 410(410.00) | Grad Norm 16.9768(98.0676) | Total Time 10.00(10.00)\n",
      "Iter 0055 | Time 33.1618(36.6672) | Bit/dim 12.0892(20.3276) | Steps 410(410.00) | Grad Norm 16.4764(95.6199) | Total Time 10.00(10.00)\n",
      "validating...\n",
      "Epoch 0008 | Time 10.0414, Epoch Time 252.1211, Bit/dim 8.6291\n"
     ]
    },
    {
     "name": "stdout",
     "output_type": "stream",
     "text": [
      "do _generate\n",
      "do _generate\n",
      "do _generate\n",
      "do _generate\n",
      "do _generate\n",
      "do _generate\n",
      "do _generate\n",
      "do _generate\n"
     ]
    },
    {
     "name": "stderr",
     "output_type": "stream",
     "text": [
      "===> Using batch size 8000. Total 7 iterations/epoch.\n",
      "Iter 0056 | Time 36.0710(36.6493) | Bit/dim 11.9069(20.0750) | Steps 410(410.00) | Grad Norm 16.1619(93.2362) | Total Time 10.00(10.00)\n",
      "Iter 0057 | Time 33.0173(36.5403) | Bit/dim 11.6667(19.8227) | Steps 410(410.00) | Grad Norm 15.8503(90.9146) | Total Time 10.00(10.00)\n",
      "Iter 0058 | Time 34.8800(36.4905) | Bit/dim 11.5689(19.5751) | Steps 410(410.00) | Grad Norm 15.7191(88.6587) | Total Time 10.00(10.00)\n",
      "Iter 0059 | Time 36.0552(36.4775) | Bit/dim 11.3679(19.3289) | Steps 410(410.00) | Grad Norm 15.5832(86.4665) | Total Time 10.00(10.00)\n",
      "Iter 0060 | Time 33.1685(36.3782) | Bit/dim 11.1922(19.0848) | Steps 410(410.00) | Grad Norm 15.6174(84.3410) | Total Time 10.00(10.00)\n",
      "Iter 0061 | Time 33.7840(36.3004) | Bit/dim 11.0667(18.8442) | Steps 410(410.00) | Grad Norm 15.6763(82.2810) | Total Time 10.00(10.00)\n",
      "Iter 0062 | Time 37.1776(36.3267) | Bit/dim 10.8738(18.6051) | Steps 410(410.00) | Grad Norm 15.7857(80.2862) | Total Time 10.00(10.00)\n",
      "validating...\n",
      "Epoch 0009 | Time 10.0099, Epoch Time 268.6254, Bit/dim 7.5649\n"
     ]
    },
    {
     "name": "stdout",
     "output_type": "stream",
     "text": [
      "do _generate\n",
      "do _generate\n",
      "do _generate\n",
      "do _generate\n",
      "do _generate\n",
      "do _generate\n",
      "do _generate\n",
      "do _generate\n"
     ]
    },
    {
     "name": "stderr",
     "output_type": "stream",
     "text": [
      "===> Using batch size 8000. Total 7 iterations/epoch.\n",
      "Iter 0063 | Time 34.3041(36.2660) | Bit/dim 10.7135(18.3684) | Steps 416(410.18) | Grad Norm 15.9295(78.3555) | Total Time 10.00(10.00)\n",
      "Iter 0064 | Time 33.5249(36.1838) | Bit/dim 10.5654(18.1343) | Steps 416(410.35) | Grad Norm 16.0580(76.4866) | Total Time 10.00(10.00)\n",
      "Iter 0065 | Time 37.0665(36.2102) | Bit/dim 10.3699(17.9014) | Steps 416(410.52) | Grad Norm 16.2010(74.6780) | Total Time 10.00(10.00)\n",
      "Iter 0066 | Time 34.6723(36.1641) | Bit/dim 10.2076(17.6705) | Steps 410(410.51) | Grad Norm 16.3459(72.9280) | Total Time 10.00(10.00)\n",
      "Iter 0067 | Time 33.0698(36.0713) | Bit/dim 10.0799(17.4428) | Steps 410(410.49) | Grad Norm 16.4542(71.2338) | Total Time 10.00(10.00)\n",
      "Iter 0068 | Time 34.7356(36.0312) | Bit/dim 9.8798(17.2159) | Steps 410(410.48) | Grad Norm 16.5339(69.5928) | Total Time 10.00(10.00)\n",
      "Iter 0069 | Time 36.7364(36.0524) | Bit/dim 9.7613(16.9923) | Steps 410(410.46) | Grad Norm 16.5988(68.0030) | Total Time 10.00(10.00)\n",
      "validating...\n",
      "Epoch 0010 | Time 9.7444, Epoch Time 268.2857, Bit/dim 6.5912\n"
     ]
    },
    {
     "name": "stdout",
     "output_type": "stream",
     "text": [
      "do _generate\n",
      "do _generate\n",
      "do _generate\n",
      "do _generate\n",
      "do _generate\n",
      "do _generate\n",
      "do _generate\n",
      "do _generate\n"
     ]
    },
    {
     "name": "stderr",
     "output_type": "stream",
     "text": [
      "===> Using batch size 8000. Total 7 iterations/epoch.\n",
      "Iter 0070 | Time 34.5542(36.0074) | Bit/dim 9.5883(16.7702) | Steps 410(410.45) | Grad Norm 16.5903(66.4606) | Total Time 10.00(10.00)\n",
      "Iter 0071 | Time 33.1077(35.9204) | Bit/dim 9.4880(16.5517) | Steps 410(410.44) | Grad Norm 16.4733(64.9610) | Total Time 10.00(10.00)\n",
      "Iter 0072 | Time 35.6034(35.9109) | Bit/dim 9.2994(16.3341) | Steps 410(410.42) | Grad Norm 16.3955(63.5040) | Total Time 10.00(10.00)\n",
      "Iter 0073 | Time 34.6245(35.8723) | Bit/dim 9.1623(16.1190) | Steps 410(410.41) | Grad Norm 16.2000(62.0849) | Total Time 10.00(10.00)\n",
      "Iter 0074 | Time 35.6337(35.8652) | Bit/dim 9.0102(15.9057) | Steps 410(410.40) | Grad Norm 15.9847(60.7019) | Total Time 10.00(10.00)\n",
      "Iter 0075 | Time 35.8517(35.8648) | Bit/dim 8.8978(15.6955) | Steps 410(410.39) | Grad Norm 15.7889(59.3545) | Total Time 10.00(10.00)\n",
      "Iter 0076 | Time 35.3518(35.8494) | Bit/dim 8.7355(15.4867) | Steps 410(410.37) | Grad Norm 15.4786(58.0382) | Total Time 10.00(10.00)\n",
      "validating...\n",
      "Epoch 0011 | Time 9.8298, Epoch Time 269.2480, Bit/dim 5.6697\n"
     ]
    },
    {
     "name": "stdout",
     "output_type": "stream",
     "text": [
      "do _generate\n",
      "do _generate\n",
      "do _generate\n",
      "do _generate\n",
      "do _generate\n",
      "do _generate\n",
      "do _generate\n",
      "do _generate\n"
     ]
    },
    {
     "name": "stderr",
     "output_type": "stream",
     "text": [
      "===> Using batch size 8000. Total 7 iterations/epoch.\n",
      "Iter 0077 | Time 35.1070(35.8271) | Bit/dim 8.5614(15.2789) | Steps 410(410.36) | Grad Norm 15.1372(56.7512) | Total Time 10.00(10.00)\n",
      "Iter 0078 | Time 31.7269(35.7041) | Bit/dim 8.4714(15.0747) | Steps 410(410.35) | Grad Norm 14.7634(55.4916) | Total Time 10.00(10.00)\n",
      "Iter 0079 | Time 33.6893(35.6436) | Bit/dim 8.3032(14.8716) | Steps 410(410.34) | Grad Norm 14.3725(54.2580) | Total Time 10.00(10.00)\n",
      "Iter 0080 | Time 35.4240(35.6371) | Bit/dim 8.1541(14.6700) | Steps 410(410.33) | Grad Norm 13.9465(53.0487) | Total Time 10.00(10.00)\n",
      "Iter 0081 | Time 33.8045(35.5821) | Bit/dim 8.0125(14.4703) | Steps 410(410.32) | Grad Norm 13.5046(51.8623) | Total Time 10.00(10.00)\n",
      "Iter 0082 | Time 36.6759(35.6149) | Bit/dim 7.9454(14.2746) | Steps 410(410.31) | Grad Norm 13.2345(50.7035) | Total Time 10.00(10.00)\n",
      "Iter 0083 | Time 34.0277(35.5673) | Bit/dim 7.7798(14.0797) | Steps 410(410.30) | Grad Norm 12.8287(49.5673) | Total Time 10.00(10.00)\n",
      "validating...\n",
      "Epoch 0012 | Time 9.5623, Epoch Time 264.6930, Bit/dim 4.8364\n"
     ]
    },
    {
     "name": "stdout",
     "output_type": "stream",
     "text": [
      "do _generate\n",
      "do _generate\n",
      "do _generate\n",
      "do _generate\n",
      "do _generate\n",
      "do _generatedo _generate\n",
      "\n",
      "do _generate\n"
     ]
    },
    {
     "name": "stderr",
     "output_type": "stream",
     "text": [
      "===> Using batch size 8000. Total 7 iterations/epoch.\n",
      "Iter 0084 | Time 35.0023(35.5503) | Bit/dim 7.6548(13.8870) | Steps 410(410.29) | Grad Norm 12.4798(48.4546) | Total Time 10.00(10.00)\n",
      "Iter 0085 | Time 34.9334(35.5318) | Bit/dim 7.5330(13.6964) | Steps 410(410.28) | Grad Norm 12.0188(47.3616) | Total Time 10.00(10.00)\n",
      "Iter 0086 | Time 34.8042(35.5100) | Bit/dim 7.4111(13.5078) | Steps 410(410.28) | Grad Norm 11.7974(46.2946) | Total Time 10.00(10.00)\n",
      "Iter 0087 | Time 33.7799(35.4581) | Bit/dim 7.2890(13.3212) | Steps 410(410.27) | Grad Norm 11.3896(45.2475) | Total Time 10.00(10.00)\n",
      "Iter 0088 | Time 35.6127(35.4627) | Bit/dim 7.2089(13.1379) | Steps 410(410.26) | Grad Norm 11.1223(44.2237) | Total Time 10.00(10.00)\n",
      "Iter 0089 | Time 36.8530(35.5044) | Bit/dim 7.0680(12.9558) | Steps 410(410.25) | Grad Norm 10.7487(43.2195) | Total Time 10.00(10.00)\n",
      "Iter 0090 | Time 34.6311(35.4782) | Bit/dim 6.9564(12.7758) | Steps 410(410.24) | Grad Norm 10.4897(42.2376) | Total Time 10.00(10.00)\n",
      "validating...\n",
      "Epoch 0013 | Time 9.7340, Epoch Time 270.1169, Bit/dim 4.1344\n"
     ]
    },
    {
     "name": "stdout",
     "output_type": "stream",
     "text": [
      "do _generate\n",
      "do _generate\n",
      "do _generate\n",
      "do _generate\n",
      "do _generate\n",
      "do _generate\n",
      "do _generate\n",
      "do _generate\n"
     ]
    },
    {
     "name": "stderr",
     "output_type": "stream",
     "text": [
      "===> Using batch size 8000. Total 7 iterations/epoch.\n",
      "Iter 0091 | Time 34.8296(35.4588) | Bit/dim 6.8757(12.5988) | Steps 410(410.24) | Grad Norm 10.2742(41.2787) | Total Time 10.00(10.00)\n",
      "Iter 0092 | Time 35.9058(35.4722) | Bit/dim 6.7684(12.4239) | Steps 410(410.23) | Grad Norm 9.8600(40.3361) | Total Time 10.00(10.00)\n",
      "Iter 0093 | Time 36.1649(35.4930) | Bit/dim 6.6831(12.2516) | Steps 410(410.22) | Grad Norm 9.6580(39.4158) | Total Time 10.00(10.00)\n",
      "Iter 0094 | Time 34.9760(35.4775) | Bit/dim 6.5968(12.0820) | Steps 410(410.22) | Grad Norm 9.4734(38.5175) | Total Time 10.00(10.00)\n",
      "Iter 0095 | Time 32.5274(35.3890) | Bit/dim 6.5003(11.9146) | Steps 410(410.21) | Grad Norm 9.1817(37.6374) | Total Time 10.00(10.00)\n",
      "Iter 0096 | Time 37.5330(35.4533) | Bit/dim 6.4057(11.7493) | Steps 410(410.20) | Grad Norm 8.8892(36.7750) | Total Time 10.00(10.00)\n",
      "Iter 0097 | Time 34.9992(35.4397) | Bit/dim 6.3311(11.5867) | Steps 410(410.20) | Grad Norm 8.7044(35.9329) | Total Time 10.00(10.00)\n",
      "validating...\n",
      "Epoch 0014 | Time 9.6833, Epoch Time 271.0971, Bit/dim 3.5741\n"
     ]
    },
    {
     "name": "stdout",
     "output_type": "stream",
     "text": [
      "do _generate\n",
      "do _generate\n",
      "do _generate\n",
      "do _generate\n",
      "do _generate\n",
      "do _generate\n",
      "do _generate\n",
      "do _generate\n"
     ]
    },
    {
     "name": "stderr",
     "output_type": "stream",
     "text": [
      "===> Using batch size 8000. Total 7 iterations/epoch.\n",
      "Iter 0098 | Time 34.3354(35.4065) | Bit/dim 6.2392(11.4263) | Steps 410(410.19) | Grad Norm 8.4836(35.1094) | Total Time 10.00(10.00)\n",
      "Iter 0099 | Time 36.6363(35.4434) | Bit/dim 6.1705(11.2686) | Steps 410(410.19) | Grad Norm 8.3517(34.3067) | Total Time 10.00(10.00)\n",
      "Iter 0100 | Time 36.2084(35.4664) | Bit/dim 6.0958(11.1135) | Steps 410(410.18) | Grad Norm 8.1357(33.5215) | Total Time 10.00(10.00)\n",
      "Iter 0101 | Time 32.2771(35.3707) | Bit/dim 6.0300(10.9610) | Steps 410(410.18) | Grad Norm 7.8638(32.7518) | Total Time 10.00(10.00)\n",
      "Iter 0102 | Time 35.0445(35.3609) | Bit/dim 5.9676(10.8111) | Steps 410(410.17) | Grad Norm 7.7125(32.0006) | Total Time 10.00(10.00)\n",
      "Iter 0103 | Time 35.1070(35.3533) | Bit/dim 5.8972(10.6637) | Steps 410(410.16) | Grad Norm 7.5017(31.2656) | Total Time 10.00(10.00)\n",
      "Iter 0104 | Time 35.6356(35.3618) | Bit/dim 5.8256(10.5186) | Steps 410(410.16) | Grad Norm 7.2472(30.5451) | Total Time 10.00(10.00)\n",
      "validating...\n",
      "Epoch 0015 | Time 10.5925, Epoch Time 270.0534, Bit/dim 3.1550\n"
     ]
    },
    {
     "name": "stdout",
     "output_type": "stream",
     "text": [
      "do _generate\n",
      "do _generate\n",
      "do _generate\n",
      "do _generate\n",
      "do _generate\n",
      "do _generate\n",
      "do _generate\n",
      "do _generate\n"
     ]
    },
    {
     "name": "stderr",
     "output_type": "stream",
     "text": [
      "===> Using batch size 8000. Total 7 iterations/epoch.\n",
      "Iter 0105 | Time 36.4970(35.3958) | Bit/dim 5.8050(10.3772) | Steps 410(410.15) | Grad Norm 7.0874(29.8414) | Total Time 10.00(10.00)\n",
      "Iter 0106 | Time 34.6902(35.3746) | Bit/dim 5.7369(10.2380) | Steps 416(410.33) | Grad Norm 6.8620(29.1520) | Total Time 10.00(10.00)\n",
      "Iter 0107 | Time 34.2915(35.3422) | Bit/dim 5.6658(10.1008) | Steps 416(410.50) | Grad Norm 6.6226(28.4761) | Total Time 10.00(10.00)\n",
      "Iter 0108 | Time 37.9477(35.4203) | Bit/dim 5.6183(9.9663) | Steps 422(410.85) | Grad Norm 6.4248(27.8146) | Total Time 10.00(10.00)\n",
      "Iter 0109 | Time 38.2642(35.5056) | Bit/dim 5.5717(9.8345) | Steps 428(411.36) | Grad Norm 6.1783(27.1655) | Total Time 10.00(10.00)\n",
      "Iter 0110 | Time 37.5835(35.5680) | Bit/dim 5.5347(9.7055) | Steps 428(411.86) | Grad Norm 5.9578(26.5292) | Total Time 10.00(10.00)\n",
      "Iter 0111 | Time 36.1134(35.5843) | Bit/dim 5.4803(9.5787) | Steps 428(412.34) | Grad Norm 5.7343(25.9054) | Total Time 10.00(10.00)\n",
      "validating...\n",
      "Epoch 0016 | Time 11.3252, Epoch Time 281.5197, Bit/dim 2.8519\n"
     ]
    },
    {
     "name": "stdout",
     "output_type": "stream",
     "text": [
      "do _generate\n",
      "do _generate\n",
      "do _generate\n",
      "do _generate\n",
      "do _generate\n",
      "do _generate\n",
      "do _generate\n",
      "do _generate\n"
     ]
    },
    {
     "name": "stderr",
     "output_type": "stream",
     "text": [
      "===> Using batch size 8000. Total 7 iterations/epoch.\n",
      "Iter 0112 | Time 39.6237(35.7055) | Bit/dim 5.4356(9.4544) | Steps 428(412.81) | Grad Norm 5.4710(25.2924) | Total Time 10.00(10.00)\n",
      "Iter 0113 | Time 39.8956(35.8312) | Bit/dim 5.4214(9.3335) | Steps 434(413.45) | Grad Norm 5.2585(24.6913) | Total Time 10.00(10.00)\n",
      "Iter 0114 | Time 37.7037(35.8874) | Bit/dim 5.3591(9.2142) | Steps 434(414.07) | Grad Norm 5.0533(24.1022) | Total Time 10.00(10.00)\n",
      "Iter 0115 | Time 36.0636(35.8927) | Bit/dim 5.3162(9.0973) | Steps 434(414.66) | Grad Norm 4.8511(23.5247) | Total Time 10.00(10.00)\n",
      "Iter 0116 | Time 39.0865(35.9885) | Bit/dim 5.2888(8.9830) | Steps 434(415.24) | Grad Norm 4.6344(22.9580) | Total Time 10.00(10.00)\n",
      "Iter 0117 | Time 39.6539(36.0985) | Bit/dim 5.2426(8.8708) | Steps 434(415.81) | Grad Norm 4.4927(22.4040) | Total Time 10.00(10.00)\n",
      "Iter 0118 | Time 40.4469(36.2289) | Bit/dim 5.2408(8.7619) | Steps 434(416.35) | Grad Norm 4.3097(21.8612) | Total Time 10.00(10.00)\n",
      "validating...\n",
      "Epoch 0017 | Time 10.4020, Epoch Time 297.3560, Bit/dim 2.6396\n"
     ]
    },
    {
     "name": "stdout",
     "output_type": "stream",
     "text": [
      "do _generate\n",
      "do _generate\n",
      "do _generate\n",
      "do _generate\n",
      "do _generate\n",
      "do _generate\n",
      "do _generate\n",
      "do _generate\n"
     ]
    },
    {
     "name": "stderr",
     "output_type": "stream",
     "text": [
      "===> Using batch size 8000. Total 7 iterations/epoch.\n",
      "Iter 0119 | Time 39.0043(36.3122) | Bit/dim 5.1822(8.6545) | Steps 434(416.88) | Grad Norm 4.1170(21.3289) | Total Time 10.00(10.00)\n",
      "Iter 0120 | Time 41.6333(36.4718) | Bit/dim 5.1647(8.5498) | Steps 434(417.39) | Grad Norm 3.9702(20.8081) | Total Time 10.00(10.00)\n",
      "Iter 0121 | Time 42.3530(36.6482) | Bit/dim 5.1299(8.4472) | Steps 434(417.89) | Grad Norm 3.8110(20.2982) | Total Time 10.00(10.00)\n",
      "Iter 0122 | Time 39.2487(36.7263) | Bit/dim 5.0952(8.3467) | Steps 434(418.38) | Grad Norm 3.5901(19.7969) | Total Time 10.00(10.00)\n",
      "Iter 0123 | Time 39.2104(36.8008) | Bit/dim 5.0931(8.2491) | Steps 434(418.85) | Grad Norm 3.4392(19.3062) | Total Time 10.00(10.00)\n",
      "Iter 0124 | Time 38.2990(36.8457) | Bit/dim 5.0615(8.1534) | Steps 434(419.30) | Grad Norm 3.3462(18.8274) | Total Time 10.00(10.00)\n",
      "Iter 0125 | Time 40.4118(36.9527) | Bit/dim 5.0386(8.0600) | Steps 434(419.74) | Grad Norm 3.1931(18.3584) | Total Time 10.00(10.00)\n",
      "validating...\n",
      "Epoch 0018 | Time 10.2884, Epoch Time 304.8990, Bit/dim 2.4913\n"
     ]
    },
    {
     "name": "stdout",
     "output_type": "stream",
     "text": [
      "do _generate\n",
      "do _generate\n",
      "do _generate\n",
      "do _generate\n",
      "do _generate\n",
      "do _generate\n",
      "do _generate\n",
      "do _generate\n"
     ]
    },
    {
     "name": "stderr",
     "output_type": "stream",
     "text": [
      "===> Using batch size 8000. Total 7 iterations/epoch.\n",
      "Iter 0126 | Time 38.7965(37.0080) | Bit/dim 5.0251(7.9689) | Steps 434(420.17) | Grad Norm 3.1647(17.9026) | Total Time 10.00(10.00)\n",
      "Iter 0127 | Time 37.9954(37.0376) | Bit/dim 4.9917(7.8796) | Steps 434(420.58) | Grad Norm 2.9129(17.4529) | Total Time 10.00(10.00)\n",
      "Iter 0128 | Time 40.3252(37.1363) | Bit/dim 4.9811(7.7927) | Steps 434(420.99) | Grad Norm 2.8239(17.0140) | Total Time 10.00(10.00)\n",
      "Iter 0129 | Time 43.2565(37.3199) | Bit/dim 4.9678(7.7079) | Steps 434(421.38) | Grad Norm 2.7595(16.5864) | Total Time 10.00(10.00)\n",
      "Iter 0130 | Time 41.6733(37.4505) | Bit/dim 4.9521(7.6253) | Steps 434(421.76) | Grad Norm 2.6437(16.1681) | Total Time 10.00(10.00)\n",
      "Iter 0131 | Time 38.8213(37.4916) | Bit/dim 4.9228(7.5442) | Steps 434(422.12) | Grad Norm 2.5459(15.7594) | Total Time 10.00(10.00)\n",
      "Iter 0132 | Time 39.2596(37.5447) | Bit/dim 4.9094(7.4651) | Steps 434(422.48) | Grad Norm 2.4410(15.3599) | Total Time 10.00(10.00)\n",
      "validating...\n",
      "Epoch 0019 | Time 10.3553, Epoch Time 304.8781, Bit/dim 2.3916\n"
     ]
    },
    {
     "name": "stdout",
     "output_type": "stream",
     "text": [
      "do _generate\n",
      "do _generate\n",
      "do _generate\n",
      "do _generate\n",
      "do _generate\n",
      "do _generate\n",
      "do _generate\n",
      "do _generate\n"
     ]
    },
    {
     "name": "stderr",
     "output_type": "stream",
     "text": [
      "===> Using batch size 8000. Total 7 iterations/epoch.\n",
      "Iter 0133 | Time 39.8831(37.6148) | Bit/dim 4.8968(7.3881) | Steps 434(422.82) | Grad Norm 2.4128(14.9715) | Total Time 10.00(10.00)\n",
      "Iter 0134 | Time 40.3637(37.6973) | Bit/dim 4.8865(7.3130) | Steps 434(423.16) | Grad Norm 2.2434(14.5896) | Total Time 10.00(10.00)\n",
      "Iter 0135 | Time 41.1609(37.8012) | Bit/dim 4.8822(7.2401) | Steps 434(423.48) | Grad Norm 2.2252(14.2187) | Total Time 10.00(10.00)\n",
      "Iter 0136 | Time 37.5488(37.7936) | Bit/dim 4.8528(7.1685) | Steps 434(423.80) | Grad Norm 2.0423(13.8534) | Total Time 10.00(10.00)\n",
      "Iter 0137 | Time 40.3618(37.8707) | Bit/dim 4.8425(7.0987) | Steps 434(424.11) | Grad Norm 1.9961(13.4977) | Total Time 10.00(10.00)\n",
      "Iter 0138 | Time 39.0716(37.9067) | Bit/dim 4.8360(7.0308) | Steps 434(424.40) | Grad Norm 1.9280(13.1506) | Total Time 10.00(10.00)\n",
      "Iter 0139 | Time 42.2094(38.0358) | Bit/dim 4.8152(6.9644) | Steps 434(424.69) | Grad Norm 1.8091(12.8103) | Total Time 10.00(10.00)\n",
      "validating...\n",
      "Epoch 0020 | Time 10.6428, Epoch Time 305.6268, Bit/dim 2.3248\n"
     ]
    },
    {
     "name": "stdout",
     "output_type": "stream",
     "text": [
      "do _generate\n",
      "do _generate\n",
      "do _generate\n",
      "do _generate\n",
      "do _generate\n",
      "do _generate\n",
      "do _generate\n",
      "do _generate\n"
     ]
    },
    {
     "name": "stderr",
     "output_type": "stream",
     "text": [
      "===> Using batch size 8000. Total 7 iterations/epoch.\n",
      "Iter 0140 | Time 39.6505(38.0842) | Bit/dim 4.8246(6.9002) | Steps 434(424.97) | Grad Norm 1.7553(12.4787) | Total Time 10.00(10.00)\n",
      "Iter 0141 | Time 39.3656(38.1226) | Bit/dim 4.8077(6.8374) | Steps 434(425.24) | Grad Norm 1.7082(12.1556) | Total Time 10.00(10.00)\n",
      "Iter 0142 | Time 39.2646(38.1569) | Bit/dim 4.7758(6.7755) | Steps 434(425.50) | Grad Norm 1.6644(11.8408) | Total Time 10.00(10.00)\n",
      "Iter 0143 | Time 40.6396(38.2314) | Bit/dim 4.7764(6.7156) | Steps 434(425.76) | Grad Norm 1.6592(11.5354) | Total Time 10.00(10.00)\n",
      "Iter 0144 | Time 41.0479(38.3159) | Bit/dim 4.7757(6.6574) | Steps 434(426.01) | Grad Norm 1.5715(11.2365) | Total Time 10.00(10.00)\n",
      "Iter 0145 | Time 39.4910(38.3511) | Bit/dim 4.7597(6.6005) | Steps 434(426.25) | Grad Norm 1.4956(10.9443) | Total Time 10.00(10.00)\n",
      "Iter 0146 | Time 39.2475(38.3780) | Bit/dim 4.7565(6.5451) | Steps 440(426.66) | Grad Norm 1.4079(10.6582) | Total Time 10.00(10.00)\n",
      "validating...\n",
      "Epoch 0021 | Time 10.3972, Epoch Time 303.6690, Bit/dim 2.2804\n"
     ]
    },
    {
     "name": "stdout",
     "output_type": "stream",
     "text": [
      "do _generate\n",
      "do _generate\n",
      "do _generate\n",
      "do _generate\n",
      "do _generate\n",
      "do _generate\n",
      "do _generate\n",
      "do _generate\n"
     ]
    },
    {
     "name": "stderr",
     "output_type": "stream",
     "text": [
      "===> Using batch size 8000. Total 7 iterations/epoch.\n",
      "Iter 0147 | Time 40.5573(38.4434) | Bit/dim 4.7526(6.4914) | Steps 440(427.06) | Grad Norm 1.3752(10.3797) | Total Time 10.00(10.00)\n",
      "Iter 0148 | Time 42.5435(38.5664) | Bit/dim 4.7424(6.4389) | Steps 440(427.45) | Grad Norm 1.3509(10.1088) | Total Time 10.00(10.00)\n",
      "Iter 0149 | Time 42.8622(38.6953) | Bit/dim 4.7341(6.3877) | Steps 440(427.82) | Grad Norm 1.2913(9.8443) | Total Time 10.00(10.00)\n",
      "Iter 0150 | Time 42.5691(38.8115) | Bit/dim 4.7092(6.3374) | Steps 440(428.19) | Grad Norm 1.2781(9.5873) | Total Time 10.00(10.00)\n",
      "Iter 0151 | Time 39.6274(38.8360) | Bit/dim 4.7177(6.2888) | Steps 440(428.54) | Grad Norm 1.2046(9.3358) | Total Time 10.00(10.00)\n",
      "Iter 0152 | Time 37.6565(38.8006) | Bit/dim 4.7102(6.2414) | Steps 440(428.89) | Grad Norm 1.1793(9.0911) | Total Time 10.00(10.00)\n",
      "Iter 0153 | Time 38.3168(38.7861) | Bit/dim 4.7082(6.1954) | Steps 440(429.22) | Grad Norm 1.1417(8.8526) | Total Time 10.00(10.00)\n",
      "validating...\n",
      "Epoch 0022 | Time 11.4878, Epoch Time 309.9607, Bit/dim 2.2528\n"
     ]
    },
    {
     "name": "stdout",
     "output_type": "stream",
     "text": [
      "do _generate\n",
      "do _generate\n",
      "do _generate\n",
      "do _generate\n",
      "do _generate\n",
      "do _generate\n",
      "do _generate\n",
      "do _generate\n"
     ]
    },
    {
     "name": "stderr",
     "output_type": "stream",
     "text": [
      "===> Using batch size 8000. Total 7 iterations/epoch.\n",
      "Iter 0154 | Time 42.2292(38.8894) | Bit/dim 4.7051(6.1507) | Steps 440(429.54) | Grad Norm 1.1245(8.6208) | Total Time 10.00(10.00)\n",
      "Iter 0155 | Time 40.1639(38.9276) | Bit/dim 4.6894(6.1069) | Steps 440(429.86) | Grad Norm 1.1383(8.3963) | Total Time 10.00(10.00)\n",
      "Iter 0156 | Time 38.5685(38.9168) | Bit/dim 4.6923(6.0645) | Steps 440(430.16) | Grad Norm 1.1303(8.1783) | Total Time 10.00(10.00)\n",
      "Iter 0157 | Time 41.2453(38.9867) | Bit/dim 4.6873(6.0231) | Steps 440(430.46) | Grad Norm 1.0713(7.9651) | Total Time 10.00(10.00)\n",
      "Iter 0158 | Time 41.9620(39.0759) | Bit/dim 4.6789(5.9828) | Steps 440(430.74) | Grad Norm 1.0891(7.7589) | Total Time 10.00(10.00)\n",
      "Iter 0159 | Time 39.0853(39.0762) | Bit/dim 4.6935(5.9441) | Steps 440(431.02) | Grad Norm 1.0023(7.5562) | Total Time 10.00(10.00)\n",
      "Iter 0160 | Time 42.2976(39.1729) | Bit/dim 4.6830(5.9063) | Steps 440(431.29) | Grad Norm 1.0451(7.3608) | Total Time 10.00(10.00)\n",
      "validating...\n",
      "Epoch 0023 | Time 11.0512, Epoch Time 311.0398, Bit/dim 2.2343\n"
     ]
    },
    {
     "name": "stdout",
     "output_type": "stream",
     "text": [
      "do _generate\n",
      "do _generate\n",
      "do _generate\n",
      "do _generate\n",
      "do _generate\n",
      "do _generate\n",
      "do _generate\n",
      "do _generate\n"
     ]
    },
    {
     "name": "stderr",
     "output_type": "stream",
     "text": [
      "===> Using batch size 8000. Total 7 iterations/epoch.\n",
      "Iter 0161 | Time 42.8698(39.2838) | Bit/dim 4.6787(5.8695) | Steps 440(431.55) | Grad Norm 1.0112(7.1703) | Total Time 10.00(10.00)\n",
      "Iter 0162 | Time 41.5046(39.3504) | Bit/dim 4.6586(5.8331) | Steps 440(431.80) | Grad Norm 0.9920(6.9850) | Total Time 10.00(10.00)\n",
      "Iter 0163 | Time 41.1573(39.4046) | Bit/dim 4.6621(5.7980) | Steps 440(432.05) | Grad Norm 0.9578(6.8042) | Total Time 10.00(10.00)\n",
      "Iter 0164 | Time 42.1414(39.4867) | Bit/dim 4.6732(5.7643) | Steps 440(432.29) | Grad Norm 0.9597(6.6288) | Total Time 10.00(10.00)\n",
      "Iter 0165 | Time 40.5351(39.5182) | Bit/dim 4.6518(5.7309) | Steps 440(432.52) | Grad Norm 0.9630(6.4589) | Total Time 10.00(10.00)\n",
      "Iter 0166 | Time 39.0826(39.5051) | Bit/dim 4.6453(5.6983) | Steps 440(432.74) | Grad Norm 0.9655(6.2941) | Total Time 10.00(10.00)\n",
      "Iter 0167 | Time 39.7478(39.5124) | Bit/dim 4.6392(5.6666) | Steps 440(432.96) | Grad Norm 0.9520(6.1338) | Total Time 10.00(10.00)\n",
      "validating...\n",
      "Epoch 0024 | Time 11.2644, Epoch Time 312.6761, Bit/dim 2.2209\n"
     ]
    },
    {
     "name": "stdout",
     "output_type": "stream",
     "text": [
      "do _generate\n",
      "do _generate\n",
      "do _generate\n",
      "do _generate\n",
      "do _generate\n",
      "do _generate\n",
      "do _generate\n",
      "do _generate\n"
     ]
    },
    {
     "name": "stderr",
     "output_type": "stream",
     "text": [
      "===> Using batch size 8000. Total 7 iterations/epoch.\n",
      "Iter 0168 | Time 40.2957(39.5359) | Bit/dim 4.6476(5.6360) | Steps 440(433.17) | Grad Norm 0.9725(5.9790) | Total Time 10.00(10.00)\n",
      "Iter 0169 | Time 39.7235(39.5415) | Bit/dim 4.6480(5.6063) | Steps 440(433.38) | Grad Norm 0.9656(5.8286) | Total Time 10.00(10.00)\n",
      "Iter 0170 | Time 40.6686(39.5753) | Bit/dim 4.6409(5.5774) | Steps 440(433.58) | Grad Norm 0.9400(5.6819) | Total Time 10.00(10.00)\n",
      "Iter 0171 | Time 38.2360(39.5351) | Bit/dim 4.6320(5.5490) | Steps 440(433.77) | Grad Norm 0.9594(5.5402) | Total Time 10.00(10.00)\n",
      "Iter 0172 | Time 39.0205(39.5197) | Bit/dim 4.6226(5.5212) | Steps 440(433.96) | Grad Norm 0.9639(5.4029) | Total Time 10.00(10.00)\n",
      "Iter 0173 | Time 40.8519(39.5597) | Bit/dim 4.6203(5.4942) | Steps 440(434.14) | Grad Norm 0.9339(5.2689) | Total Time 10.00(10.00)\n",
      "Iter 0174 | Time 42.3782(39.6442) | Bit/dim 4.6078(5.4676) | Steps 440(434.31) | Grad Norm 0.9574(5.1395) | Total Time 10.00(10.00)\n",
      "validating...\n",
      "Epoch 0025 | Time 11.8379, Epoch Time 308.1734, Bit/dim 2.2099\n"
     ]
    },
    {
     "name": "stdout",
     "output_type": "stream",
     "text": [
      "do _generate\n",
      "do _generate\n",
      "do _generate\n",
      "do _generate\n",
      "do _generate\n",
      "do _generate\n",
      "do _generate\n",
      "do _generate\n"
     ]
    },
    {
     "name": "stderr",
     "output_type": "stream",
     "text": [
      "===> Using batch size 8000. Total 7 iterations/epoch.\n",
      "Iter 0175 | Time 40.3013(39.6639) | Bit/dim 4.6122(5.4419) | Steps 440(434.48) | Grad Norm 0.9143(5.0128) | Total Time 10.00(10.00)\n",
      "Iter 0176 | Time 40.6998(39.6950) | Bit/dim 4.6235(5.4174) | Steps 434(434.47) | Grad Norm 0.9423(4.8907) | Total Time 10.00(10.00)\n",
      "Iter 0177 | Time 40.1578(39.7089) | Bit/dim 4.6136(5.3933) | Steps 434(434.46) | Grad Norm 1.0000(4.7739) | Total Time 10.00(10.00)\n",
      "Iter 0178 | Time 39.5702(39.7047) | Bit/dim 4.6019(5.3695) | Steps 434(434.44) | Grad Norm 0.9451(4.6591) | Total Time 10.00(10.00)\n",
      "Iter 0179 | Time 38.2643(39.6615) | Bit/dim 4.5853(5.3460) | Steps 434(434.43) | Grad Norm 0.9762(4.5486) | Total Time 10.00(10.00)\n",
      "Iter 0180 | Time 39.7184(39.6632) | Bit/dim 4.5965(5.3235) | Steps 434(434.42) | Grad Norm 0.9794(4.4415) | Total Time 10.00(10.00)\n",
      "Iter 0181 | Time 40.4916(39.6881) | Bit/dim 4.5849(5.3014) | Steps 434(434.40) | Grad Norm 0.9400(4.3365) | Total Time 10.00(10.00)\n",
      "validating...\n",
      "Epoch 0026 | Time 10.8637, Epoch Time 304.4614, Bit/dim 2.2005\n"
     ]
    },
    {
     "name": "stdout",
     "output_type": "stream",
     "text": [
      "do _generate\n",
      "do _generate\n",
      "do _generate\n",
      "do _generate\n",
      "do _generate\n",
      "do _generate\n",
      "do _generate\n",
      "do _generate\n"
     ]
    },
    {
     "name": "stderr",
     "output_type": "stream",
     "text": [
      "===> Using batch size 8000. Total 7 iterations/epoch.\n",
      "Iter 0182 | Time 40.4301(39.7103) | Bit/dim 4.5791(5.2797) | Steps 434(434.39) | Grad Norm 0.9307(4.2343) | Total Time 10.00(10.00)\n",
      "Iter 0183 | Time 39.0537(39.6906) | Bit/dim 4.5837(5.2588) | Steps 434(434.38) | Grad Norm 1.1406(4.1415) | Total Time 10.00(10.00)\n",
      "Iter 0184 | Time 40.7453(39.7223) | Bit/dim 4.5785(5.2384) | Steps 434(434.37) | Grad Norm 1.0634(4.0491) | Total Time 10.00(10.00)\n",
      "Iter 0185 | Time 39.6613(39.7204) | Bit/dim 4.5664(5.2183) | Steps 434(434.36) | Grad Norm 0.9149(3.9551) | Total Time 10.00(10.00)\n",
      "Iter 0186 | Time 37.8096(39.6631) | Bit/dim 4.5619(5.1986) | Steps 434(434.35) | Grad Norm 0.9301(3.8644) | Total Time 10.00(10.00)\n",
      "Iter 0187 | Time 36.3005(39.5622) | Bit/dim 4.5788(5.1800) | Steps 434(434.34) | Grad Norm 1.1103(3.7817) | Total Time 10.00(10.00)\n",
      "Iter 0188 | Time 36.9222(39.4830) | Bit/dim 4.5590(5.1613) | Steps 434(434.33) | Grad Norm 1.1919(3.7040) | Total Time 10.00(10.00)\n",
      "validating...\n",
      "Epoch 0027 | Time 10.2945, Epoch Time 295.9900, Bit/dim 2.1913\n"
     ]
    },
    {
     "name": "stdout",
     "output_type": "stream",
     "text": [
      "do _generate\n",
      "do _generate\n",
      "do _generate\n",
      "do _generate\n",
      "do _generate\n",
      "do _generatedo _generate\n",
      "\n",
      "do _generate\n"
     ]
    },
    {
     "name": "stderr",
     "output_type": "stream",
     "text": [
      "===> Using batch size 8000. Total 7 iterations/epoch.\n",
      "Iter 0189 | Time 37.5646(39.4255) | Bit/dim 4.5561(5.1432) | Steps 434(434.32) | Grad Norm 0.9505(3.6214) | Total Time 10.00(10.00)\n",
      "Iter 0190 | Time 40.0906(39.4454) | Bit/dim 4.5522(5.1254) | Steps 434(434.31) | Grad Norm 0.9294(3.5407) | Total Time 10.00(10.00)\n",
      "Iter 0191 | Time 41.3919(39.5038) | Bit/dim 4.5378(5.1078) | Steps 434(434.30) | Grad Norm 0.9598(3.4632) | Total Time 10.00(10.00)\n",
      "Iter 0192 | Time 40.6755(39.5390) | Bit/dim 4.5262(5.0904) | Steps 434(434.29) | Grad Norm 0.9564(3.3880) | Total Time 10.00(10.00)\n",
      "Iter 0193 | Time 40.3069(39.5620) | Bit/dim 4.5286(5.0735) | Steps 434(434.28) | Grad Norm 1.0519(3.3180) | Total Time 10.00(10.00)\n",
      "Iter 0194 | Time 37.7846(39.5087) | Bit/dim 4.5344(5.0573) | Steps 434(434.27) | Grad Norm 0.9968(3.2483) | Total Time 10.00(10.00)\n",
      "Iter 0195 | Time 36.9005(39.4305) | Bit/dim 4.5279(5.0415) | Steps 434(434.26) | Grad Norm 0.9788(3.1802) | Total Time 10.00(10.00)\n",
      "validating...\n",
      "Epoch 0028 | Time 10.8593, Epoch Time 300.1579, Bit/dim 2.1866\n"
     ]
    },
    {
     "name": "stdout",
     "output_type": "stream",
     "text": [
      "do _generate\n",
      "do _generate\n",
      "do _generate\n",
      "do _generate\n",
      "do _generate\n",
      "do _generate\n",
      "do _generate\n",
      "do _generate\n"
     ]
    },
    {
     "name": "stderr",
     "output_type": "stream",
     "text": [
      "===> Using batch size 8000. Total 7 iterations/epoch.\n",
      "Iter 0196 | Time 39.8313(39.4425) | Bit/dim 4.5171(5.0257) | Steps 434(434.26) | Grad Norm 0.9367(3.1129) | Total Time 10.00(10.00)\n",
      "Iter 0197 | Time 40.4094(39.4715) | Bit/dim 4.5022(5.0100) | Steps 434(434.25) | Grad Norm 1.0692(3.0516) | Total Time 10.00(10.00)\n",
      "Iter 0198 | Time 38.7822(39.4508) | Bit/dim 4.5074(4.9949) | Steps 434(434.24) | Grad Norm 1.0201(2.9907) | Total Time 10.00(10.00)\n",
      "Iter 0199 | Time 40.0169(39.4678) | Bit/dim 4.4891(4.9798) | Steps 434(434.23) | Grad Norm 0.9575(2.9297) | Total Time 10.00(10.00)\n",
      "Iter 0200 | Time 38.9342(39.4518) | Bit/dim 4.5075(4.9656) | Steps 434(434.23) | Grad Norm 0.9675(2.8708) | Total Time 10.00(10.00)\n",
      "Iter 0201 | Time 38.2194(39.4148) | Bit/dim 4.4941(4.9515) | Steps 434(434.22) | Grad Norm 1.1858(2.8203) | Total Time 10.00(10.00)\n",
      "Iter 0202 | Time 41.0623(39.4642) | Bit/dim 4.4926(4.9377) | Steps 434(434.21) | Grad Norm 1.0180(2.7662) | Total Time 10.00(10.00)\n",
      "validating...\n",
      "Epoch 0029 | Time 11.1480, Epoch Time 303.1136, Bit/dim 2.1820\n"
     ]
    },
    {
     "name": "stdout",
     "output_type": "stream",
     "text": [
      "do _generate\n",
      "do _generate\n",
      "do _generate\n",
      "do _generate\n",
      "do _generate\n",
      "do _generate\n",
      "do _generate\n",
      "do _generate\n"
     ]
    },
    {
     "name": "stderr",
     "output_type": "stream",
     "text": [
      "===> Using batch size 8000. Total 7 iterations/epoch.\n",
      "Iter 0203 | Time 41.6972(39.5312) | Bit/dim 4.4819(4.9240) | Steps 434(434.21) | Grad Norm 0.9869(2.7128) | Total Time 10.00(10.00)\n",
      "Iter 0204 | Time 41.7392(39.5975) | Bit/dim 4.4771(4.9106) | Steps 434(434.20) | Grad Norm 1.1383(2.6656) | Total Time 10.00(10.00)\n",
      "Iter 0205 | Time 40.9599(39.6383) | Bit/dim 4.4735(4.8975) | Steps 434(434.19) | Grad Norm 1.1059(2.6188) | Total Time 10.00(10.00)\n",
      "Iter 0206 | Time 40.0366(39.6503) | Bit/dim 4.4493(4.8841) | Steps 434(434.19) | Grad Norm 1.0210(2.5709) | Total Time 10.00(10.00)\n",
      "Iter 0207 | Time 40.1054(39.6639) | Bit/dim 4.4522(4.8711) | Steps 434(434.18) | Grad Norm 1.0430(2.5250) | Total Time 10.00(10.00)\n",
      "Iter 0208 | Time 39.1129(39.6474) | Bit/dim 4.4341(4.8580) | Steps 434(434.18) | Grad Norm 1.0603(2.4811) | Total Time 10.00(10.00)\n",
      "Iter 0209 | Time 38.7104(39.6193) | Bit/dim 4.4539(4.8459) | Steps 434(434.17) | Grad Norm 1.1166(2.4401) | Total Time 10.00(10.00)\n",
      "validating...\n",
      "Epoch 0030 | Time 11.1010, Epoch Time 307.8303, Bit/dim 2.1813\n"
     ]
    },
    {
     "name": "stdout",
     "output_type": "stream",
     "text": [
      "do _generate\n",
      "do _generate\n",
      "do _generate\n",
      "do _generate\n",
      "do _generatedo _generate\n",
      "\n",
      "do _generate\n",
      "do _generate\n"
     ]
    },
    {
     "name": "stderr",
     "output_type": "stream",
     "text": [
      "===> Using batch size 8000. Total 7 iterations/epoch.\n",
      "Iter 0210 | Time 40.4841(39.6452) | Bit/dim 4.4366(4.8336) | Steps 434(434.17) | Grad Norm 1.1416(2.4012) | Total Time 10.00(10.00)\n",
      "Iter 0211 | Time 40.8021(39.6799) | Bit/dim 4.4393(4.8218) | Steps 434(434.16) | Grad Norm 1.0729(2.3613) | Total Time 10.00(10.00)\n",
      "Iter 0212 | Time 40.6908(39.7103) | Bit/dim 4.4217(4.8098) | Steps 434(434.16) | Grad Norm 1.2052(2.3267) | Total Time 10.00(10.00)\n",
      "Iter 0213 | Time 37.3531(39.6396) | Bit/dim 4.3965(4.7974) | Steps 434(434.15) | Grad Norm 1.1304(2.2908) | Total Time 10.00(10.00)\n",
      "Iter 0214 | Time 37.8991(39.5873) | Bit/dim 4.3935(4.7852) | Steps 434(434.15) | Grad Norm 1.4559(2.2657) | Total Time 10.00(10.00)\n",
      "Iter 0215 | Time 42.7209(39.6814) | Bit/dim 4.3735(4.7729) | Steps 434(434.14) | Grad Norm 1.2949(2.2366) | Total Time 10.00(10.00)\n",
      "Iter 0216 | Time 38.9053(39.6581) | Bit/dim 4.3818(4.7612) | Steps 434(434.14) | Grad Norm 1.1084(2.2028) | Total Time 10.00(10.00)\n",
      "validating...\n",
      "Epoch 0031 | Time 10.4045, Epoch Time 303.5805, Bit/dim 2.1870\n"
     ]
    },
    {
     "name": "stdout",
     "output_type": "stream",
     "text": [
      "do _generatedo _generate\n",
      "\n",
      "do _generate\n",
      "do _generate\n",
      "do _generate\n",
      "do _generate\n",
      "do _generate\n",
      "do _generate\n"
     ]
    },
    {
     "name": "stderr",
     "output_type": "stream",
     "text": [
      "===> Using batch size 8000. Total 7 iterations/epoch.\n",
      "Iter 0217 | Time 40.0240(39.6690) | Bit/dim 4.3706(4.7494) | Steps 434(434.13) | Grad Norm 1.5757(2.1839) | Total Time 10.00(10.00)\n",
      "Iter 0218 | Time 39.0506(39.6505) | Bit/dim 4.3428(4.7372) | Steps 434(434.13) | Grad Norm 1.5386(2.1646) | Total Time 10.00(10.00)\n",
      "Iter 0219 | Time 37.0950(39.5738) | Bit/dim 4.3490(4.7256) | Steps 434(434.13) | Grad Norm 1.2504(2.1372) | Total Time 10.00(10.00)\n",
      "Iter 0220 | Time 39.8122(39.5810) | Bit/dim 4.3383(4.7140) | Steps 440(434.30) | Grad Norm 1.9384(2.1312) | Total Time 10.00(10.00)\n",
      "Iter 0221 | Time 41.3541(39.6342) | Bit/dim 4.3146(4.7020) | Steps 440(434.47) | Grad Norm 1.1536(2.1019) | Total Time 10.00(10.00)\n",
      "Iter 0222 | Time 40.2233(39.6518) | Bit/dim 4.3103(4.6902) | Steps 458(435.18) | Grad Norm 1.7322(2.0908) | Total Time 10.00(10.00)\n",
      "Iter 0223 | Time 37.4915(39.5870) | Bit/dim 4.2949(4.6784) | Steps 458(435.86) | Grad Norm 1.3223(2.0677) | Total Time 10.00(10.00)\n",
      "validating...\n",
      "Epoch 0032 | Time 10.4192, Epoch Time 299.9323, Bit/dim 2.2041\n"
     ]
    },
    {
     "name": "stdout",
     "output_type": "stream",
     "text": [
      "do _generate\n",
      "do _generate\n",
      "do _generate\n",
      "do _generate\n",
      "do _generate\n",
      "do _generate\n",
      "do _generate\n",
      "do _generate\n"
     ]
    },
    {
     "name": "stderr",
     "output_type": "stream",
     "text": [
      "===> Using batch size 8000. Total 7 iterations/epoch.\n",
      "Iter 0224 | Time 41.3898(39.6411) | Bit/dim 4.2846(4.6666) | Steps 458(436.53) | Grad Norm 1.3793(2.0471) | Total Time 10.00(10.00)\n",
      "Iter 0225 | Time 39.6997(39.6429) | Bit/dim 4.2790(4.6549) | Steps 458(437.17) | Grad Norm 1.5729(2.0328) | Total Time 10.00(10.00)\n",
      "Iter 0226 | Time 41.8774(39.7099) | Bit/dim 4.2573(4.6430) | Steps 458(437.80) | Grad Norm 0.9881(2.0015) | Total Time 10.00(10.00)\n",
      "Iter 0227 | Time 42.6332(39.7976) | Bit/dim 4.2515(4.6313) | Steps 458(438.40) | Grad Norm 1.3803(1.9829) | Total Time 10.00(10.00)\n",
      "Iter 0228 | Time 41.6682(39.8537) | Bit/dim 4.2432(4.6196) | Steps 458(438.99) | Grad Norm 1.0739(1.9556) | Total Time 10.00(10.00)\n",
      "Iter 0229 | Time 43.3659(39.9591) | Bit/dim 4.2410(4.6083) | Steps 458(439.56) | Grad Norm 1.2652(1.9349) | Total Time 10.00(10.00)\n",
      "Iter 0230 | Time 42.7510(40.0429) | Bit/dim 4.2112(4.5964) | Steps 458(440.11) | Grad Norm 1.1524(1.9114) | Total Time 10.00(10.00)\n",
      "validating...\n",
      "Epoch 0033 | Time 10.7018, Epoch Time 318.8082, Bit/dim 2.2324\n"
     ]
    },
    {
     "name": "stdout",
     "output_type": "stream",
     "text": [
      "do _generate\n",
      "do _generate\n",
      "do _generate\n",
      "do _generate\n",
      "do _generate\n",
      "do _generate\n",
      "do _generate\n",
      "do _generate\n"
     ]
    },
    {
     "name": "stderr",
     "output_type": "stream",
     "text": [
      "===> Using batch size 8000. Total 7 iterations/epoch.\n",
      "Iter 0231 | Time 41.7382(40.0937) | Bit/dim 4.2015(4.5845) | Steps 458(440.65) | Grad Norm 0.9914(1.8838) | Total Time 10.00(10.00)\n",
      "Iter 0232 | Time 42.8383(40.1761) | Bit/dim 4.1975(4.5729) | Steps 458(441.17) | Grad Norm 1.9560(1.8860) | Total Time 10.00(10.00)\n",
      "Iter 0233 | Time 40.2671(40.1788) | Bit/dim 4.1884(4.5614) | Steps 458(441.68) | Grad Norm 1.2944(1.8682) | Total Time 10.00(10.00)\n",
      "Iter 0234 | Time 40.3410(40.1837) | Bit/dim 4.1746(4.5498) | Steps 458(442.17) | Grad Norm 1.7374(1.8643) | Total Time 10.00(10.00)\n",
      "Iter 0235 | Time 38.2562(40.1258) | Bit/dim 4.1815(4.5387) | Steps 458(442.64) | Grad Norm 2.1708(1.8735) | Total Time 10.00(10.00)\n",
      "Iter 0236 | Time 40.9321(40.1500) | Bit/dim 4.1502(4.5271) | Steps 458(443.10) | Grad Norm 1.2768(1.8556) | Total Time 10.00(10.00)\n",
      "Iter 0237 | Time 41.7120(40.1969) | Bit/dim 4.1401(4.5155) | Steps 458(443.55) | Grad Norm 1.2819(1.8384) | Total Time 10.00(10.00)\n",
      "validating...\n",
      "Epoch 0034 | Time 11.4098, Epoch Time 312.0245, Bit/dim 2.2428\n"
     ]
    },
    {
     "name": "stdout",
     "output_type": "stream",
     "text": [
      "do _generate\n",
      "do _generate\n",
      "do _generate\n",
      "do _generate\n",
      "do _generate\n",
      "do _generate\n",
      "do _generate\n",
      "do _generate\n"
     ]
    },
    {
     "name": "stderr",
     "output_type": "stream",
     "text": [
      "===> Using batch size 8000. Total 7 iterations/epoch.\n",
      "Iter 0238 | Time 42.1204(40.2546) | Bit/dim 4.1370(4.5041) | Steps 458(443.98) | Grad Norm 1.1625(1.8181) | Total Time 10.00(10.00)\n",
      "Iter 0239 | Time 43.2390(40.3441) | Bit/dim 4.1264(4.4928) | Steps 458(444.40) | Grad Norm 1.2255(1.8003) | Total Time 10.00(10.00)\n",
      "Iter 0240 | Time 42.6319(40.4128) | Bit/dim 4.1170(4.4815) | Steps 458(444.81) | Grad Norm 1.9554(1.8050) | Total Time 10.00(10.00)\n",
      "Iter 0241 | Time 41.6903(40.4511) | Bit/dim 4.0941(4.4699) | Steps 458(445.21) | Grad Norm 1.4221(1.7935) | Total Time 10.00(10.00)\n",
      "Iter 0242 | Time 42.7046(40.5187) | Bit/dim 4.0718(4.4579) | Steps 458(445.59) | Grad Norm 1.6350(1.7887) | Total Time 10.00(10.00)\n",
      "Iter 0243 | Time 41.9060(40.5603) | Bit/dim 4.0667(4.4462) | Steps 458(445.96) | Grad Norm 1.5350(1.7811) | Total Time 10.00(10.00)\n",
      "Iter 0244 | Time 43.0327(40.6345) | Bit/dim 4.0555(4.4345) | Steps 458(446.32) | Grad Norm 1.8245(1.7824) | Total Time 10.00(10.00)\n",
      "validating...\n",
      "Epoch 0035 | Time 10.7004, Epoch Time 322.7499, Bit/dim 2.2330\n"
     ]
    },
    {
     "name": "stdout",
     "output_type": "stream",
     "text": [
      "do _generate\n",
      "do _generate\n",
      "do _generate\n",
      "do _generate\n",
      "do _generate\n",
      "do _generate\n",
      "do _generate\n",
      "do _generate\n"
     ]
    },
    {
     "name": "stderr",
     "output_type": "stream",
     "text": [
      "===> Using batch size 8000. Total 7 iterations/epoch.\n",
      "Iter 0245 | Time 38.8687(40.5815) | Bit/dim 4.0545(4.4231) | Steps 464(446.85) | Grad Norm 1.8135(1.7834) | Total Time 10.00(10.00)\n",
      "Iter 0246 | Time 38.0987(40.5070) | Bit/dim 4.0201(4.4110) | Steps 464(447.37) | Grad Norm 1.9688(1.7889) | Total Time 10.00(10.00)\n",
      "Iter 0247 | Time 42.1569(40.5565) | Bit/dim 4.0023(4.3987) | Steps 464(447.87) | Grad Norm 2.7131(1.8166) | Total Time 10.00(10.00)\n",
      "Iter 0248 | Time 43.2822(40.6383) | Bit/dim 4.0083(4.3870) | Steps 464(448.35) | Grad Norm 3.5765(1.8694) | Total Time 10.00(10.00)\n",
      "Iter 0249 | Time 43.6646(40.7291) | Bit/dim 4.0030(4.3755) | Steps 464(448.82) | Grad Norm 1.9614(1.8722) | Total Time 10.00(10.00)\n",
      "Iter 0250 | Time 42.6704(40.7873) | Bit/dim 3.9838(4.3637) | Steps 464(449.28) | Grad Norm 3.1030(1.9091) | Total Time 10.00(10.00)\n",
      "Iter 0251 | Time 41.0009(40.7937) | Bit/dim 3.9813(4.3523) | Steps 464(449.72) | Grad Norm 2.1717(1.9170) | Total Time 10.00(10.00)\n",
      "validating...\n",
      "Epoch 0036 | Time 10.5275, Epoch Time 315.0035, Bit/dim 2.2408\n"
     ]
    },
    {
     "name": "stdout",
     "output_type": "stream",
     "text": [
      "do _generate\n",
      "do _generate\n",
      "do _generate\n",
      "do _generate\n",
      "do _generate\n",
      "do _generate\n",
      "do _generate\n",
      "do _generate\n"
     ]
    },
    {
     "name": "stderr",
     "output_type": "stream",
     "text": [
      "===> Using batch size 8000. Total 7 iterations/epoch.\n",
      "Iter 0252 | Time 41.8898(40.8266) | Bit/dim 3.9503(4.3402) | Steps 464(450.15) | Grad Norm 1.9841(1.9190) | Total Time 10.00(10.00)\n",
      "Iter 0253 | Time 39.1799(40.7772) | Bit/dim 3.9332(4.3280) | Steps 470(450.74) | Grad Norm 3.9161(1.9789) | Total Time 10.00(10.00)\n",
      "Iter 0254 | Time 40.9906(40.7836) | Bit/dim 3.9319(4.3161) | Steps 470(451.32) | Grad Norm 3.4021(2.0216) | Total Time 10.00(10.00)\n",
      "Iter 0255 | Time 42.9029(40.8472) | Bit/dim 3.9064(4.3038) | Steps 470(451.88) | Grad Norm 4.5363(2.0971) | Total Time 10.00(10.00)\n",
      "Iter 0256 | Time 41.9392(40.8799) | Bit/dim 3.8861(4.2913) | Steps 470(452.42) | Grad Norm 7.0381(2.2453) | Total Time 10.00(10.00)\n",
      "Iter 0257 | Time 39.3011(40.8326) | Bit/dim 3.9056(4.2797) | Steps 470(452.95) | Grad Norm 8.4263(2.4307) | Total Time 10.00(10.00)\n",
      "Iter 0258 | Time 39.1632(40.7825) | Bit/dim 3.9006(4.2683) | Steps 470(453.46) | Grad Norm 9.2790(2.6362) | Total Time 10.00(10.00)\n",
      "validating...\n",
      "Epoch 0037 | Time 10.6834, Epoch Time 310.6158, Bit/dim 2.2564\n"
     ]
    },
    {
     "name": "stdout",
     "output_type": "stream",
     "text": [
      "do _generate\n",
      "do _generate\n",
      "do _generate\n",
      "do _generate\n",
      "do _generate\n",
      "do _generate\n",
      "do _generate\n",
      "do _generate\n"
     ]
    },
    {
     "name": "stderr",
     "output_type": "stream",
     "text": [
      "===> Using batch size 8000. Total 7 iterations/epoch.\n",
      "Iter 0259 | Time 39.1541(40.7336) | Bit/dim 3.8750(4.2565) | Steps 470(453.96) | Grad Norm 8.3317(2.8070) | Total Time 10.00(10.00)\n",
      "Iter 0260 | Time 39.8925(40.7084) | Bit/dim 3.8424(4.2441) | Steps 470(454.44) | Grad Norm 2.9017(2.8099) | Total Time 10.00(10.00)\n",
      "Iter 0261 | Time 42.5209(40.7628) | Bit/dim 3.8209(4.2314) | Steps 470(454.91) | Grad Norm 4.8754(2.8718) | Total Time 10.00(10.00)\n",
      "Iter 0262 | Time 42.9973(40.8298) | Bit/dim 3.8342(4.2195) | Steps 470(455.36) | Grad Norm 8.7868(3.0493) | Total Time 10.00(10.00)\n",
      "Iter 0263 | Time 42.9752(40.8942) | Bit/dim 3.8010(4.2070) | Steps 470(455.80) | Grad Norm 7.0822(3.1703) | Total Time 10.00(10.00)\n",
      "Iter 0264 | Time 41.4193(40.9099) | Bit/dim 3.8094(4.1950) | Steps 470(456.22) | Grad Norm 4.2297(3.2021) | Total Time 10.00(10.00)\n",
      "Iter 0265 | Time 41.5888(40.9303) | Bit/dim 3.7796(4.1826) | Steps 470(456.64) | Grad Norm 5.5939(3.2738) | Total Time 10.00(10.00)\n",
      "validating...\n",
      "Epoch 0038 | Time 10.7744, Epoch Time 315.6783, Bit/dim 2.2512\n"
     ]
    },
    {
     "name": "stdout",
     "output_type": "stream",
     "text": [
      "do _generate\n",
      "do _generate\n",
      "do _generate\n",
      "do _generate\n",
      "do _generate\n",
      "do _generate\n",
      "do _generate\n",
      "do _generate\n"
     ]
    },
    {
     "name": "stderr",
     "output_type": "stream",
     "text": [
      "===> Using batch size 8000. Total 7 iterations/epoch.\n",
      "Iter 0266 | Time 40.8211(40.9270) | Bit/dim 3.7873(4.1707) | Steps 470(457.04) | Grad Norm 8.1796(3.4210) | Total Time 10.00(10.00)\n",
      "Iter 0267 | Time 40.6857(40.9198) | Bit/dim 3.7614(4.1584) | Steps 470(457.43) | Grad Norm 7.8242(3.5531) | Total Time 10.00(10.00)\n",
      "Iter 0268 | Time 42.3185(40.9617) | Bit/dim 3.7219(4.1453) | Steps 470(457.80) | Grad Norm 3.8630(3.5624) | Total Time 10.00(10.00)\n",
      "Iter 0269 | Time 43.6678(41.0429) | Bit/dim 3.7203(4.1326) | Steps 470(458.17) | Grad Norm 3.3436(3.5558) | Total Time 10.00(10.00)\n",
      "Iter 0270 | Time 44.6540(41.1513) | Bit/dim 3.7199(4.1202) | Steps 470(458.53) | Grad Norm 6.4531(3.6427) | Total Time 10.00(10.00)\n",
      "Iter 0271 | Time 43.6814(41.2272) | Bit/dim 3.7103(4.1079) | Steps 470(458.87) | Grad Norm 7.5127(3.7588) | Total Time 10.00(10.00)\n",
      "Iter 0272 | Time 41.0108(41.2207) | Bit/dim 3.6823(4.0951) | Steps 470(459.20) | Grad Norm 6.9565(3.8548) | Total Time 10.00(10.00)\n",
      "validating...\n",
      "Epoch 0039 | Time 10.5798, Epoch Time 322.0625, Bit/dim 2.2513\n"
     ]
    },
    {
     "name": "stdout",
     "output_type": "stream",
     "text": [
      "do _generate\n",
      "do _generate\n",
      "do _generate\n",
      "do _generate\n",
      "do _generatedo _generate\n",
      "\n",
      "do _generate\n",
      "do _generate\n"
     ]
    },
    {
     "name": "stderr",
     "output_type": "stream",
     "text": [
      "===> Using batch size 8000. Total 7 iterations/epoch.\n",
      "Iter 0273 | Time 44.1046(41.3072) | Bit/dim 3.6787(4.0826) | Steps 470(459.53) | Grad Norm 7.7394(3.9713) | Total Time 10.00(10.00)\n",
      "Iter 0274 | Time 42.1436(41.3323) | Bit/dim 3.6719(4.0703) | Steps 470(459.84) | Grad Norm 7.7334(4.0842) | Total Time 10.00(10.00)\n",
      "Iter 0275 | Time 43.3442(41.3926) | Bit/dim 3.6437(4.0575) | Steps 470(460.15) | Grad Norm 8.7799(4.2250) | Total Time 10.00(10.00)\n",
      "Iter 0276 | Time 44.9595(41.4996) | Bit/dim 3.6718(4.0460) | Steps 470(460.44) | Grad Norm 12.2496(4.4658) | Total Time 10.00(10.00)\n",
      "Iter 0277 | Time 44.6902(41.5954) | Bit/dim 3.6744(4.0348) | Steps 470(460.73) | Grad Norm 12.8616(4.7177) | Total Time 10.00(10.00)\n",
      "Iter 0278 | Time 43.8342(41.6625) | Bit/dim 3.6215(4.0224) | Steps 470(461.01) | Grad Norm 7.7630(4.8090) | Total Time 10.00(10.00)\n",
      "Iter 0279 | Time 42.1687(41.6777) | Bit/dim 3.5775(4.0091) | Steps 470(461.28) | Grad Norm 4.0694(4.7868) | Total Time 10.00(10.00)\n",
      "validating...\n",
      "Epoch 0040 | Time 10.5814, Epoch Time 330.4508, Bit/dim 2.2485\n"
     ]
    },
    {
     "name": "stdout",
     "output_type": "stream",
     "text": [
      "do _generate\n",
      "do _generate\n",
      "do _generate\n",
      "do _generate\n",
      "do _generate\n",
      "do _generate\n",
      "do _generate\n",
      "do _generate\n"
     ]
    },
    {
     "name": "stderr",
     "output_type": "stream",
     "text": [
      "===> Using batch size 8000. Total 7 iterations/epoch.\n",
      "Iter 0280 | Time 42.0968(41.6903) | Bit/dim 3.6224(3.9975) | Steps 470(461.54) | Grad Norm 13.4688(5.0473) | Total Time 10.00(10.00)\n",
      "Iter 0281 | Time 39.3389(41.6197) | Bit/dim 3.5991(3.9855) | Steps 470(461.79) | Grad Norm 10.9751(5.2251) | Total Time 10.00(10.00)\n",
      "Iter 0282 | Time 41.2316(41.6081) | Bit/dim 3.5523(3.9725) | Steps 470(462.04) | Grad Norm 6.3551(5.2590) | Total Time 10.00(10.00)\n",
      "Iter 0283 | Time 41.9277(41.6177) | Bit/dim 3.5609(3.9602) | Steps 470(462.28) | Grad Norm 10.2592(5.4090) | Total Time 10.00(10.00)\n",
      "Iter 0284 | Time 41.9754(41.6284) | Bit/dim 3.5566(3.9481) | Steps 476(462.69) | Grad Norm 10.6051(5.5649) | Total Time 10.00(10.00)\n",
      "Iter 0285 | Time 41.1873(41.6152) | Bit/dim 3.5457(3.9360) | Steps 476(463.09) | Grad Norm 8.3988(5.6499) | Total Time 10.00(10.00)\n",
      "Iter 0286 | Time 42.1817(41.6322) | Bit/dim 3.5364(3.9240) | Steps 476(463.48) | Grad Norm 13.0195(5.8710) | Total Time 10.00(10.00)\n",
      "validating...\n",
      "Epoch 0041 | Time 11.8002, Epoch Time 316.5339, Bit/dim 2.2380\n"
     ]
    },
    {
     "name": "stdout",
     "output_type": "stream",
     "text": [
      "do _generate\n",
      "do _generate\n",
      "do _generate\n",
      "do _generate\n",
      "do _generate\n",
      "do _generate\n",
      "do _generate\n",
      "do _generate\n"
     ]
    },
    {
     "name": "stderr",
     "output_type": "stream",
     "text": [
      "===> Using batch size 8000. Total 7 iterations/epoch.\n",
      "Iter 0287 | Time 43.3060(41.6824) | Bit/dim 3.5184(3.9118) | Steps 476(463.85) | Grad Norm 10.1022(5.9979) | Total Time 10.00(10.00)\n",
      "Iter 0288 | Time 43.5702(41.7390) | Bit/dim 3.4942(3.8993) | Steps 476(464.22) | Grad Norm 8.6671(6.0780) | Total Time 10.00(10.00)\n",
      "Iter 0289 | Time 43.9238(41.8046) | Bit/dim 3.4781(3.8867) | Steps 476(464.57) | Grad Norm 10.0312(6.1966) | Total Time 10.00(10.00)\n",
      "Iter 0290 | Time 46.0184(41.9310) | Bit/dim 3.4666(3.8741) | Steps 476(464.91) | Grad Norm 3.6936(6.1215) | Total Time 10.00(10.00)\n",
      "Iter 0291 | Time 43.0358(41.9641) | Bit/dim 3.4402(3.8610) | Steps 476(465.25) | Grad Norm 8.0852(6.1804) | Total Time 10.00(10.00)\n",
      "Iter 0292 | Time 40.3657(41.9162) | Bit/dim 3.4479(3.8487) | Steps 476(465.57) | Grad Norm 10.5016(6.3101) | Total Time 10.00(10.00)\n",
      "Iter 0293 | Time 39.8354(41.8538) | Bit/dim 3.4210(3.8358) | Steps 476(465.88) | Grad Norm 8.4624(6.3746) | Total Time 10.00(10.00)\n",
      "validating...\n",
      "Epoch 0042 | Time 10.8865, Epoch Time 325.3867, Bit/dim 2.2359\n"
     ]
    },
    {
     "name": "stdout",
     "output_type": "stream",
     "text": [
      "do _generate\n",
      "do _generate\n",
      "do _generate\n",
      "do _generate\n",
      "do _generate\n",
      "do _generate\n",
      "do _generate\n",
      "do _generate\n"
     ]
    },
    {
     "name": "stderr",
     "output_type": "stream",
     "text": [
      "===> Using batch size 8000. Total 7 iterations/epoch.\n",
      "Iter 0294 | Time 43.8903(41.9149) | Bit/dim 3.4257(3.8235) | Steps 476(466.18) | Grad Norm 11.2109(6.5197) | Total Time 10.00(10.00)\n",
      "Iter 0295 | Time 44.1425(41.9817) | Bit/dim 3.4569(3.8125) | Steps 476(466.48) | Grad Norm 18.4004(6.8761) | Total Time 10.00(10.00)\n",
      "Iter 0296 | Time 44.4657(42.0562) | Bit/dim 3.4734(3.8023) | Steps 476(466.76) | Grad Norm 28.1678(7.5149) | Total Time 10.00(10.00)\n",
      "Iter 0297 | Time 45.2799(42.1529) | Bit/dim 3.5573(3.7950) | Steps 476(467.04) | Grad Norm 35.2723(8.3476) | Total Time 10.00(10.00)\n",
      "Iter 0298 | Time 44.0271(42.2091) | Bit/dim 3.4216(3.7838) | Steps 476(467.31) | Grad Norm 19.7417(8.6894) | Total Time 10.00(10.00)\n",
      "Iter 0299 | Time 40.5978(42.1608) | Bit/dim 3.4076(3.7725) | Steps 476(467.57) | Grad Norm 12.6850(8.8093) | Total Time 10.00(10.00)\n",
      "Iter 0300 | Time 40.6389(42.1151) | Bit/dim 3.4271(3.7621) | Steps 476(467.82) | Grad Norm 21.1806(9.1804) | Total Time 10.00(10.00)\n",
      "validating...\n",
      "Epoch 0043 | Time 12.2013, Epoch Time 329.7767, Bit/dim 2.2131\n"
     ]
    },
    {
     "name": "stdout",
     "output_type": "stream",
     "text": [
      "do _generate\n",
      "do _generate\n",
      "do _generate\n",
      "do _generate\n",
      "do _generate\n",
      "do _generate\n",
      "do _generate\n",
      "do _generate\n"
     ]
    },
    {
     "name": "stderr",
     "output_type": "stream",
     "text": [
      "===> Using batch size 8000. Total 7 iterations/epoch.\n",
      "Iter 0301 | Time 44.6102(42.1900) | Bit/dim 3.3550(3.7499) | Steps 476(468.07) | Grad Norm 6.2444(9.0924) | Total Time 10.00(10.00)\n",
      "Iter 0302 | Time 43.2251(42.2210) | Bit/dim 3.3946(3.7393) | Steps 476(468.31) | Grad Norm 24.9301(9.5675) | Total Time 10.00(10.00)\n",
      "Iter 0303 | Time 42.5224(42.2301) | Bit/dim 3.3605(3.7279) | Steps 470(468.36) | Grad Norm 14.4419(9.7137) | Total Time 10.00(10.00)\n",
      "Iter 0304 | Time 40.9479(42.1916) | Bit/dim 3.3548(3.7167) | Steps 476(468.59) | Grad Norm 13.9112(9.8397) | Total Time 10.00(10.00)\n",
      "Iter 0305 | Time 43.3421(42.2261) | Bit/dim 3.3333(3.7052) | Steps 476(468.81) | Grad Norm 13.9004(9.9615) | Total Time 10.00(10.00)\n",
      "Iter 0306 | Time 45.6633(42.3293) | Bit/dim 3.3161(3.6935) | Steps 476(469.03) | Grad Norm 12.0589(10.0244) | Total Time 10.00(10.00)\n",
      "Iter 0307 | Time 45.4681(42.4234) | Bit/dim 3.2933(3.6815) | Steps 476(469.23) | Grad Norm 11.2299(10.0606) | Total Time 10.00(10.00)\n",
      "validating...\n",
      "Epoch 0044 | Time 10.9830, Epoch Time 331.0990, Bit/dim 2.2583\n"
     ]
    },
    {
     "name": "stdout",
     "output_type": "stream",
     "text": [
      "do _generate\n",
      "do _generate\n",
      "do _generate\n",
      "do _generate\n",
      "do _generate\n",
      "do _generate\n",
      "do _generate\n",
      "do _generate\n"
     ]
    },
    {
     "name": "stderr",
     "output_type": "stream",
     "text": [
      "===> Using batch size 8000. Total 7 iterations/epoch.\n",
      "Iter 0308 | Time 42.2552(42.4184) | Bit/dim 3.2975(3.6700) | Steps 476(469.44) | Grad Norm 12.2884(10.1274) | Total Time 10.00(10.00)\n",
      "Iter 0309 | Time 42.8222(42.4305) | Bit/dim 3.2791(3.6583) | Steps 470(469.45) | Grad Norm 11.9133(10.1810) | Total Time 10.00(10.00)\n",
      "Iter 0310 | Time 43.7596(42.4704) | Bit/dim 3.2489(3.6460) | Steps 470(469.47) | Grad Norm 10.0456(10.1769) | Total Time 10.00(10.00)\n",
      "Iter 0311 | Time 44.3712(42.5274) | Bit/dim 3.2447(3.6340) | Steps 476(469.67) | Grad Norm 8.4470(10.1250) | Total Time 10.00(10.00)\n",
      "Iter 0312 | Time 44.8639(42.5975) | Bit/dim 3.2544(3.6226) | Steps 482(470.04) | Grad Norm 10.5640(10.1382) | Total Time 10.00(10.00)\n",
      "Iter 0313 | Time 45.2921(42.6783) | Bit/dim 3.2179(3.6104) | Steps 482(470.40) | Grad Norm 7.0528(10.0456) | Total Time 10.00(10.00)\n",
      "Iter 0314 | Time 45.6919(42.7687) | Bit/dim 3.2199(3.5987) | Steps 482(470.74) | Grad Norm 9.5858(10.0318) | Total Time 10.00(10.00)\n",
      "validating...\n",
      "Epoch 0045 | Time 11.3286, Epoch Time 334.7421, Bit/dim 2.2441\n"
     ]
    },
    {
     "name": "stdout",
     "output_type": "stream",
     "text": [
      "do _generatedo _generate\n",
      "\n",
      "do _generate\n",
      "do _generate\n",
      "do _generate\n",
      "do _generate\n",
      "do _generate\n",
      "do _generate\n"
     ]
    },
    {
     "name": "stderr",
     "output_type": "stream",
     "text": [
      "===> Using batch size 8000. Total 7 iterations/epoch.\n",
      "Iter 0315 | Time 42.2686(42.7537) | Bit/dim 3.1919(3.5865) | Steps 476(470.90) | Grad Norm 9.0987(10.0038) | Total Time 10.00(10.00)\n",
      "Iter 0316 | Time 41.5148(42.7166) | Bit/dim 3.1896(3.5746) | Steps 482(471.23) | Grad Norm 7.2261(9.9205) | Total Time 10.00(10.00)\n",
      "Iter 0317 | Time 43.2129(42.7314) | Bit/dim 3.1707(3.5625) | Steps 476(471.38) | Grad Norm 7.6069(9.8511) | Total Time 10.00(10.00)\n",
      "Iter 0318 | Time 44.1344(42.7735) | Bit/dim 3.1725(3.5508) | Steps 476(471.52) | Grad Norm 8.0701(9.7977) | Total Time 10.00(10.00)\n",
      "Iter 0319 | Time 44.2736(42.8185) | Bit/dim 3.1786(3.5396) | Steps 482(471.83) | Grad Norm 7.2137(9.7201) | Total Time 10.00(10.00)\n",
      "Iter 0320 | Time 44.5263(42.8698) | Bit/dim 3.1537(3.5280) | Steps 482(472.14) | Grad Norm 9.8534(9.7241) | Total Time 10.00(10.00)\n",
      "Iter 0321 | Time 43.6703(42.8938) | Bit/dim 3.1121(3.5156) | Steps 482(472.43) | Grad Norm 7.2764(9.6507) | Total Time 10.00(10.00)\n",
      "validating...\n",
      "Epoch 0046 | Time 11.3891, Epoch Time 329.4841, Bit/dim 2.2307\n"
     ]
    },
    {
     "name": "stdout",
     "output_type": "stream",
     "text": [
      "do _generate\n",
      "do _generate\n",
      "do _generate\n",
      "do _generate\n",
      "do _generate\n",
      "do _generate\n",
      "do _generate\n",
      "do _generate\n"
     ]
    },
    {
     "name": "stderr",
     "output_type": "stream",
     "text": [
      "===> Using batch size 8000. Total 7 iterations/epoch.\n",
      "Iter 0322 | Time 42.3614(42.8778) | Bit/dim 3.1209(3.5037) | Steps 488(472.90) | Grad Norm 5.1672(9.5162) | Total Time 10.00(10.00)\n",
      "Iter 0323 | Time 43.4065(42.8937) | Bit/dim 3.1128(3.4920) | Steps 488(473.35) | Grad Norm 7.7540(9.4633) | Total Time 10.00(10.00)\n",
      "Iter 0324 | Time 46.2968(42.9958) | Bit/dim 3.0937(3.4801) | Steps 494(473.97) | Grad Norm 9.6753(9.4697) | Total Time 10.00(10.00)\n",
      "Iter 0325 | Time 47.7412(43.1381) | Bit/dim 3.1062(3.4688) | Steps 488(474.39) | Grad Norm 12.7966(9.5695) | Total Time 10.00(10.00)\n",
      "Iter 0326 | Time 44.0005(43.1640) | Bit/dim 3.1209(3.4584) | Steps 494(474.98) | Grad Norm 15.7014(9.7535) | Total Time 10.00(10.00)\n",
      "Iter 0327 | Time 44.1410(43.1933) | Bit/dim 3.1342(3.4487) | Steps 494(475.55) | Grad Norm 25.1440(10.2152) | Total Time 10.00(10.00)\n",
      "Iter 0328 | Time 39.9290(43.0954) | Bit/dim 3.2026(3.4413) | Steps 494(476.10) | Grad Norm 35.0400(10.9599) | Total Time 10.00(10.00)\n",
      "validating...\n",
      "Epoch 0047 | Time 11.0648, Epoch Time 333.5566, Bit/dim 2.3039\n"
     ]
    },
    {
     "name": "stdout",
     "output_type": "stream",
     "text": [
      "do _generate\n",
      "do _generate\n",
      "do _generate\n",
      "do _generate\n",
      "do _generate\n",
      "do _generate\n",
      "do _generate\n",
      "do _generate\n"
     ]
    },
    {
     "name": "stderr",
     "output_type": "stream",
     "text": [
      "===> Using batch size 8000. Total 7 iterations/epoch.\n",
      "Iter 0329 | Time 42.7498(43.0850) | Bit/dim 3.1741(3.4333) | Steps 494(476.64) | Grad Norm 25.1708(11.3862) | Total Time 10.00(10.00)\n",
      "Iter 0330 | Time 44.7069(43.1337) | Bit/dim 3.0519(3.4218) | Steps 494(477.16) | Grad Norm 10.7115(11.3660) | Total Time 10.00(10.00)\n",
      "Iter 0331 | Time 45.3887(43.2013) | Bit/dim 3.1270(3.4130) | Steps 494(477.67) | Grad Norm 23.9334(11.7430) | Total Time 10.00(10.00)\n",
      "Iter 0332 | Time 46.4662(43.2993) | Bit/dim 3.0277(3.4014) | Steps 494(478.16) | Grad Norm 11.8619(11.7466) | Total Time 10.00(10.00)\n",
      "Iter 0333 | Time 46.1776(43.3856) | Bit/dim 3.0865(3.3920) | Steps 494(478.63) | Grad Norm 20.9669(12.0232) | Total Time 10.00(10.00)\n",
      "Iter 0334 | Time 44.2259(43.4108) | Bit/dim 3.0792(3.3826) | Steps 494(479.09) | Grad Norm 21.0618(12.2944) | Total Time 10.00(10.00)\n",
      "Iter 0335 | Time 44.4300(43.4414) | Bit/dim 3.0214(3.3718) | Steps 494(479.54) | Grad Norm 10.0070(12.2257) | Total Time 10.00(10.00)\n",
      "validating...\n",
      "Epoch 0048 | Time 11.5936, Epoch Time 340.2968, Bit/dim 2.2842\n"
     ]
    },
    {
     "name": "stdout",
     "output_type": "stream",
     "text": [
      "do _generate\n",
      "do _generate\n",
      "do _generate\n",
      "do _generate\n",
      "do _generate\n",
      "do _generate\n",
      "do _generate\n",
      "do _generate\n"
     ]
    },
    {
     "name": "stderr",
     "output_type": "stream",
     "text": [
      "===> Using batch size 8000. Total 7 iterations/epoch.\n",
      "Iter 0336 | Time 41.7609(43.3910) | Bit/dim 3.0484(3.3621) | Steps 494(479.97) | Grad Norm 18.5805(12.4164) | Total Time 10.00(10.00)\n",
      "Iter 0337 | Time 41.3980(43.3312) | Bit/dim 2.9655(3.3502) | Steps 494(480.40) | Grad Norm 7.3569(12.2646) | Total Time 10.00(10.00)\n",
      "Iter 0338 | Time 44.6204(43.3699) | Bit/dim 2.9957(3.3395) | Steps 494(480.80) | Grad Norm 16.8921(12.4034) | Total Time 10.00(10.00)\n",
      "Iter 0339 | Time 44.0470(43.3902) | Bit/dim 2.9451(3.3277) | Steps 494(481.20) | Grad Norm 7.2984(12.2503) | Total Time 10.00(10.00)\n",
      "Iter 0340 | Time 44.9345(43.4365) | Bit/dim 2.9874(3.3175) | Steps 494(481.58) | Grad Norm 14.8847(12.3293) | Total Time 10.00(10.00)\n",
      "Iter 0341 | Time 44.8769(43.4797) | Bit/dim 2.9624(3.3068) | Steps 494(481.96) | Grad Norm 7.4174(12.1819) | Total Time 10.00(10.00)\n",
      "Iter 0342 | Time 43.6562(43.4850) | Bit/dim 2.9781(3.2970) | Steps 494(482.32) | Grad Norm 11.9460(12.1749) | Total Time 10.00(10.00)\n",
      "validating...\n",
      "Epoch 0049 | Time 11.7560, Epoch Time 331.4932, Bit/dim 2.2443\n"
     ]
    },
    {
     "name": "stdout",
     "output_type": "stream",
     "text": [
      "do _generate\n",
      "do _generate\n",
      "do _generate\n",
      "do _generate\n",
      "do _generate\n",
      "do _generate\n",
      "do _generate\n",
      "do _generate\n"
     ]
    },
    {
     "name": "stderr",
     "output_type": "stream",
     "text": [
      "===> Using batch size 8000. Total 7 iterations/epoch.\n",
      "Iter 0343 | Time 42.6879(43.4611) | Bit/dim 2.9390(3.2862) | Steps 494(482.67) | Grad Norm 6.7349(12.0117) | Total Time 10.00(10.00)\n",
      "Iter 0344 | Time 42.8941(43.4441) | Bit/dim 2.9342(3.2757) | Steps 494(483.01) | Grad Norm 12.1591(12.0161) | Total Time 10.00(10.00)\n",
      "Iter 0345 | Time 41.3184(43.3803) | Bit/dim 2.9164(3.2649) | Steps 494(483.34) | Grad Norm 11.1846(11.9911) | Total Time 10.00(10.00)\n",
      "Iter 0346 | Time 43.6641(43.3888) | Bit/dim 2.8994(3.2539) | Steps 494(483.66) | Grad Norm 9.3974(11.9133) | Total Time 10.00(10.00)\n",
      "Iter 0347 | Time 44.1774(43.4125) | Bit/dim 2.8749(3.2426) | Steps 500(484.15) | Grad Norm 11.1131(11.8893) | Total Time 10.00(10.00)\n",
      "Iter 0348 | Time 43.6898(43.4208) | Bit/dim 2.8878(3.2319) | Steps 500(484.62) | Grad Norm 6.0994(11.7156) | Total Time 10.00(10.00)\n",
      "Iter 0349 | Time 43.8171(43.4327) | Bit/dim 2.8934(3.2218) | Steps 500(485.08) | Grad Norm 12.2002(11.7302) | Total Time 10.00(10.00)\n",
      "validating...\n",
      "Epoch 0050 | Time 11.7093, Epoch Time 328.7564, Bit/dim 2.2681\n"
     ]
    },
    {
     "name": "stdout",
     "output_type": "stream",
     "text": [
      "do _generate\n",
      "do _generate\n",
      "do _generate\n",
      "do _generate\n",
      "do _generate\n",
      "do _generate\n",
      "do _generate\n",
      "do _generate\n"
     ]
    },
    {
     "name": "stderr",
     "output_type": "stream",
     "text": [
      "===> Using batch size 8000. Total 7 iterations/epoch.\n",
      "Iter 0350 | Time 43.1327(43.4237) | Bit/dim 2.8761(3.2114) | Steps 500(485.53) | Grad Norm 7.1906(11.5940) | Total Time 10.00(10.00)\n",
      "Iter 0351 | Time 42.0709(43.3831) | Bit/dim 2.8541(3.2007) | Steps 500(485.97) | Grad Norm 11.1657(11.5811) | Total Time 10.00(10.00)\n",
      "Iter 0352 | Time 44.9325(43.4296) | Bit/dim 2.8379(3.1898) | Steps 506(486.57) | Grad Norm 9.2367(11.5108) | Total Time 10.00(10.00)\n",
      "Iter 0353 | Time 45.3196(43.4863) | Bit/dim 2.8323(3.1791) | Steps 506(487.15) | Grad Norm 8.4948(11.4203) | Total Time 10.00(10.00)\n",
      "Iter 0354 | Time 44.5539(43.5183) | Bit/dim 2.8360(3.1688) | Steps 500(487.54) | Grad Norm 7.5964(11.3056) | Total Time 10.00(10.00)\n",
      "Iter 0355 | Time 46.0391(43.5940) | Bit/dim 2.7966(3.1576) | Steps 500(487.91) | Grad Norm 6.2461(11.1538) | Total Time 10.00(10.00)\n",
      "Iter 0356 | Time 45.7781(43.6595) | Bit/dim 2.8182(3.1474) | Steps 500(488.27) | Grad Norm 13.3644(11.2201) | Total Time 10.00(10.00)\n",
      "validating...\n",
      "Epoch 0051 | Time 12.8707, Epoch Time 339.1131, Bit/dim 2.2701\n"
     ]
    },
    {
     "name": "stdout",
     "output_type": "stream",
     "text": [
      "do _generate\n",
      "do _generate\n",
      "do _generate\n",
      "do _generate\n",
      "do _generate\n",
      "do _generate\n",
      "do _generate\n",
      "do _generate\n"
     ]
    },
    {
     "name": "stderr",
     "output_type": "stream",
     "text": [
      "===> Using batch size 8000. Total 7 iterations/epoch.\n",
      "Iter 0357 | Time 44.3212(43.6793) | Bit/dim 2.8342(3.1380) | Steps 506(488.80) | Grad Norm 14.5113(11.3189) | Total Time 10.00(10.00)\n",
      "Iter 0358 | Time 46.6836(43.7695) | Bit/dim 2.8393(3.1291) | Steps 500(489.14) | Grad Norm 21.3817(11.6208) | Total Time 10.00(10.00)\n",
      "Iter 0359 | Time 45.3611(43.8172) | Bit/dim 2.8764(3.1215) | Steps 506(489.65) | Grad Norm 25.8415(12.0474) | Total Time 10.00(10.00)\n",
      "Iter 0360 | Time 44.7590(43.8455) | Bit/dim 2.8187(3.1124) | Steps 500(489.96) | Grad Norm 22.2969(12.3549) | Total Time 10.00(10.00)\n",
      "Iter 0361 | Time 45.6228(43.8988) | Bit/dim 2.8294(3.1039) | Steps 506(490.44) | Grad Norm 14.3642(12.4151) | Total Time 10.00(10.00)\n",
      "Iter 0362 | Time 42.4381(43.8550) | Bit/dim 2.7477(3.0932) | Steps 506(490.90) | Grad Norm 3.6859(12.1533) | Total Time 10.00(10.00)\n",
      "Iter 0363 | Time 42.7313(43.8212) | Bit/dim 2.7743(3.0837) | Steps 506(491.36) | Grad Norm 15.1953(12.2445) | Total Time 10.00(10.00)\n",
      "validating...\n",
      "Epoch 0052 | Time 12.0080, Epoch Time 338.1471, Bit/dim 2.2825\n"
     ]
    },
    {
     "name": "stdout",
     "output_type": "stream",
     "text": [
      "do _generate\n",
      "do _generate\n",
      "do _generate\n",
      "do _generate\n",
      "do _generate\n",
      "do _generate\n",
      "do _generate\n",
      "do _generate\n"
     ]
    },
    {
     "name": "stderr",
     "output_type": "stream",
     "text": [
      "===> Using batch size 8000. Total 7 iterations/epoch.\n",
      "Iter 0364 | Time 44.3598(43.8374) | Bit/dim 2.7875(3.0748) | Steps 506(491.80) | Grad Norm 18.1861(12.4228) | Total Time 10.00(10.00)\n",
      "Iter 0365 | Time 47.4421(43.9455) | Bit/dim 2.7506(3.0650) | Steps 512(492.40) | Grad Norm 16.1106(12.5334) | Total Time 10.00(10.00)\n",
      "Iter 0366 | Time 45.8409(44.0024) | Bit/dim 2.7358(3.0552) | Steps 512(492.99) | Grad Norm 7.8053(12.3916) | Total Time 10.00(10.00)\n",
      "Iter 0367 | Time 44.2733(44.0105) | Bit/dim 2.7380(3.0457) | Steps 512(493.56) | Grad Norm 10.3209(12.3294) | Total Time 10.00(10.00)\n",
      "Iter 0368 | Time 45.6598(44.0600) | Bit/dim 2.7670(3.0373) | Steps 512(494.11) | Grad Norm 16.4540(12.4532) | Total Time 10.00(10.00)\n",
      "Iter 0369 | Time 47.5819(44.1657) | Bit/dim 2.7368(3.0283) | Steps 512(494.65) | Grad Norm 12.7769(12.4629) | Total Time 10.00(10.00)\n",
      "Iter 0370 | Time 46.4648(44.2346) | Bit/dim 2.7346(3.0195) | Steps 506(494.99) | Grad Norm 7.8838(12.3255) | Total Time 10.00(10.00)\n",
      "validating...\n",
      "Epoch 0053 | Time 12.8376, Epoch Time 349.1365, Bit/dim 2.2352\n"
     ]
    },
    {
     "name": "stdout",
     "output_type": "stream",
     "text": [
      "do _generate\n",
      "do _generate\n",
      "do _generate\n",
      "do _generate\n",
      "do _generate\n",
      "do _generate\n",
      "do _generate\n",
      "do _generate\n"
     ]
    },
    {
     "name": "stderr",
     "output_type": "stream",
     "text": [
      "===> Using batch size 8000. Total 7 iterations/epoch.\n",
      "Iter 0371 | Time 45.1549(44.2623) | Bit/dim 2.6965(3.0098) | Steps 506(495.32) | Grad Norm 5.4849(12.1203) | Total Time 10.00(10.00)\n",
      "Iter 0372 | Time 45.8211(44.3090) | Bit/dim 2.7001(3.0005) | Steps 506(495.64) | Grad Norm 11.0902(12.0894) | Total Time 10.00(10.00)\n",
      "Iter 0373 | Time 47.3283(44.3996) | Bit/dim 2.7166(2.9920) | Steps 512(496.13) | Grad Norm 10.3017(12.0358) | Total Time 10.00(10.00)\n",
      "Iter 0374 | Time 46.4740(44.4618) | Bit/dim 2.6833(2.9827) | Steps 512(496.61) | Grad Norm 5.5800(11.8421) | Total Time 10.00(10.00)\n",
      "Iter 0375 | Time 45.6043(44.4961) | Bit/dim 2.6863(2.9738) | Steps 512(497.07) | Grad Norm 5.7282(11.6587) | Total Time 10.00(10.00)\n",
      "Iter 0376 | Time 46.3550(44.5519) | Bit/dim 2.6845(2.9651) | Steps 512(497.52) | Grad Norm 10.1125(11.6123) | Total Time 10.00(10.00)\n",
      "Iter 0377 | Time 44.9338(44.5633) | Bit/dim 2.6780(2.9565) | Steps 512(497.95) | Grad Norm 10.6863(11.5845) | Total Time 10.00(10.00)\n",
      "validating...\n",
      "Epoch 0054 | Time 11.8801, Epoch Time 348.0093, Bit/dim 2.2234\n"
     ]
    },
    {
     "name": "stdout",
     "output_type": "stream",
     "text": [
      "do _generate\n",
      "do _generate\n",
      "do _generate\n",
      "do _generate\n",
      "do _generate\n",
      "do _generate\n",
      "do _generate\n",
      "do _generate\n"
     ]
    },
    {
     "name": "stderr",
     "output_type": "stream",
     "text": [
      "===> Using batch size 8000. Total 7 iterations/epoch.\n",
      "Iter 0378 | Time 41.5037(44.4715) | Bit/dim 2.6352(2.9469) | Steps 512(498.37) | Grad Norm 4.5106(11.3723) | Total Time 10.00(10.00)\n",
      "Iter 0379 | Time 46.2638(44.5253) | Bit/dim 2.6505(2.9380) | Steps 512(498.78) | Grad Norm 7.4795(11.2555) | Total Time 10.00(10.00)\n",
      "Iter 0380 | Time 45.3629(44.5504) | Bit/dim 2.6472(2.9293) | Steps 512(499.18) | Grad Norm 9.5404(11.2041) | Total Time 10.00(10.00)\n",
      "Iter 0381 | Time 44.7105(44.5552) | Bit/dim 2.6705(2.9215) | Steps 518(499.74) | Grad Norm 9.2907(11.1467) | Total Time 10.00(10.00)\n",
      "Iter 0382 | Time 46.7731(44.6218) | Bit/dim 2.6456(2.9132) | Steps 518(500.29) | Grad Norm 7.2007(11.0283) | Total Time 10.00(10.00)\n",
      "Iter 0383 | Time 47.4182(44.7057) | Bit/dim 2.6516(2.9054) | Steps 518(500.82) | Grad Norm 5.3319(10.8574) | Total Time 10.00(10.00)\n",
      "Iter 0384 | Time 46.7639(44.7674) | Bit/dim 2.6026(2.8963) | Steps 518(501.34) | Grad Norm 7.1393(10.7458) | Total Time 10.00(10.00)\n",
      "validating...\n",
      "Epoch 0055 | Time 12.3862, Epoch Time 345.9656, Bit/dim 2.2399\n"
     ]
    },
    {
     "name": "stdout",
     "output_type": "stream",
     "text": [
      "do _generate\n",
      "do _generate\n",
      "do _generate\n",
      "do _generate\n",
      "do _generate\n",
      "do _generate\n",
      "do _generate\n",
      "do _generate\n"
     ]
    },
    {
     "name": "stderr",
     "output_type": "stream",
     "text": [
      "===> Using batch size 8000. Total 7 iterations/epoch.\n",
      "Iter 0385 | Time 44.5443(44.7607) | Bit/dim 2.6223(2.8881) | Steps 518(501.84) | Grad Norm 8.2273(10.6703) | Total Time 10.00(10.00)\n",
      "Iter 0386 | Time 49.0985(44.8909) | Bit/dim 2.6139(2.8799) | Steps 518(502.32) | Grad Norm 8.2896(10.5989) | Total Time 10.00(10.00)\n",
      "Iter 0387 | Time 48.4716(44.9983) | Bit/dim 2.6038(2.8716) | Steps 524(502.97) | Grad Norm 6.6784(10.4813) | Total Time 10.00(10.00)\n",
      "Iter 0388 | Time 45.1158(45.0018) | Bit/dim 2.5919(2.8632) | Steps 524(503.60) | Grad Norm 9.1156(10.4403) | Total Time 10.00(10.00)\n",
      "Iter 0389 | Time 46.3706(45.0429) | Bit/dim 2.6173(2.8558) | Steps 524(504.22) | Grad Norm 10.1581(10.4318) | Total Time 10.00(10.00)\n",
      "Iter 0390 | Time 46.8454(45.0969) | Bit/dim 2.6065(2.8483) | Steps 524(504.81) | Grad Norm 10.3418(10.4291) | Total Time 10.00(10.00)\n",
      "Iter 0391 | Time 48.1332(45.1880) | Bit/dim 2.6098(2.8412) | Steps 530(505.57) | Grad Norm 11.1571(10.4510) | Total Time 10.00(10.00)\n",
      "validating...\n",
      "Epoch 0056 | Time 12.7727, Epoch Time 355.7033, Bit/dim 2.2160\n"
     ]
    },
    {
     "name": "stdout",
     "output_type": "stream",
     "text": [
      "do _generate\n",
      "do _generate\n",
      "do _generate\n",
      "do _generate\n",
      "do _generate\n",
      "do _generate\n",
      "do _generate\n",
      "do _generate\n"
     ]
    },
    {
     "name": "stderr",
     "output_type": "stream",
     "text": [
      "===> Using batch size 8000. Total 7 iterations/epoch.\n",
      "Iter 0392 | Time 46.0293(45.2133) | Bit/dim 2.5794(2.8333) | Steps 524(506.12) | Grad Norm 7.8395(10.3726) | Total Time 10.00(10.00)\n",
      "Iter 0393 | Time 46.9610(45.2657) | Bit/dim 2.5773(2.8256) | Steps 524(506.65) | Grad Norm 6.9473(10.2699) | Total Time 10.00(10.00)\n",
      "Iter 0394 | Time 47.8820(45.3442) | Bit/dim 2.5640(2.8178) | Steps 524(507.17) | Grad Norm 6.9353(10.1698) | Total Time 10.00(10.00)\n",
      "Iter 0395 | Time 45.7999(45.3579) | Bit/dim 2.5616(2.8101) | Steps 524(507.68) | Grad Norm 7.5890(10.0924) | Total Time 10.00(10.00)\n",
      "Iter 0396 | Time 41.2800(45.2355) | Bit/dim 2.5774(2.8031) | Steps 524(508.17) | Grad Norm 9.0542(10.0612) | Total Time 10.00(10.00)\n",
      "Iter 0397 | Time 43.9781(45.1978) | Bit/dim 2.5810(2.7965) | Steps 524(508.64) | Grad Norm 10.2684(10.0675) | Total Time 10.00(10.00)\n",
      "Iter 0398 | Time 42.9046(45.1290) | Bit/dim 2.5576(2.7893) | Steps 524(509.10) | Grad Norm 12.9365(10.1535) | Total Time 10.00(10.00)\n",
      "validating...\n",
      "Epoch 0057 | Time 11.7976, Epoch Time 341.6343, Bit/dim 2.2274\n"
     ]
    },
    {
     "name": "stdout",
     "output_type": "stream",
     "text": [
      "do _generate\n",
      "do _generate\n",
      "do _generate\n",
      "do _generate\n",
      "do _generate\n",
      "do _generate\n",
      "do _generate\n",
      "do _generate\n"
     ]
    },
    {
     "name": "stderr",
     "output_type": "stream",
     "text": [
      "===> Using batch size 8000. Total 7 iterations/epoch.\n",
      "Iter 0399 | Time 46.5490(45.1716) | Bit/dim 2.5599(2.7824) | Steps 524(509.55) | Grad Norm 12.6881(10.2296) | Total Time 10.00(10.00)\n",
      "Iter 0400 | Time 44.7202(45.1581) | Bit/dim 2.5381(2.7751) | Steps 524(509.99) | Grad Norm 10.4180(10.2352) | Total Time 10.00(10.00)\n",
      "Iter 0401 | Time 45.8754(45.1796) | Bit/dim 2.5388(2.7680) | Steps 524(510.41) | Grad Norm 12.5908(10.3059) | Total Time 10.00(10.00)\n",
      "Iter 0402 | Time 46.7718(45.2274) | Bit/dim 2.5509(2.7615) | Steps 524(510.81) | Grad Norm 12.2777(10.3650) | Total Time 10.00(10.00)\n",
      "Iter 0403 | Time 44.7416(45.2128) | Bit/dim 2.5746(2.7559) | Steps 524(511.21) | Grad Norm 16.3423(10.5444) | Total Time 10.00(10.00)\n",
      "Iter 0404 | Time 45.8117(45.2307) | Bit/dim 2.6145(2.7516) | Steps 524(511.59) | Grad Norm 30.7363(11.1501) | Total Time 10.00(10.00)\n",
      "Iter 0405 | Time 46.5997(45.2718) | Bit/dim 2.7572(2.7518) | Steps 524(511.97) | Grad Norm 42.7226(12.0973) | Total Time 10.00(10.00)\n",
      "validating...\n",
      "Epoch 0058 | Time 12.1204, Epoch Time 347.7251, Bit/dim 2.2269\n"
     ]
    },
    {
     "name": "stdout",
     "output_type": "stream",
     "text": [
      "do _generate\n",
      "do _generate\n",
      "do _generate\n",
      "do _generate\n",
      "do _generate\n",
      "do _generate\n",
      "do _generate\n",
      "do _generate\n"
     ]
    },
    {
     "name": "stderr",
     "output_type": "stream",
     "text": [
      "===> Using batch size 8000. Total 7 iterations/epoch.\n",
      "Iter 0406 | Time 47.5851(45.3412) | Bit/dim 2.6798(2.7496) | Steps 518(512.15) | Grad Norm 24.8312(12.4793) | Total Time 10.00(10.00)\n",
      "Iter 0407 | Time 45.5216(45.3466) | Bit/dim 2.6303(2.7461) | Steps 512(512.14) | Grad Norm 19.9644(12.7039) | Total Time 10.00(10.00)\n",
      "Iter 0408 | Time 45.9981(45.3662) | Bit/dim 2.6339(2.7427) | Steps 512(512.14) | Grad Norm 23.1337(13.0168) | Total Time 10.00(10.00)\n",
      "Iter 0409 | Time 44.9656(45.3542) | Bit/dim 2.5691(2.7375) | Steps 512(512.13) | Grad Norm 15.5694(13.0933) | Total Time 10.00(10.00)\n",
      "Iter 0410 | Time 45.2820(45.3520) | Bit/dim 2.6130(2.7337) | Steps 512(512.13) | Grad Norm 22.9802(13.3899) | Total Time 10.00(10.00)\n",
      "Iter 0411 | Time 43.7880(45.3051) | Bit/dim 2.5380(2.7279) | Steps 512(512.13) | Grad Norm 8.8095(13.2525) | Total Time 10.00(10.00)\n",
      "Iter 0412 | Time 41.7727(45.1991) | Bit/dim 2.5770(2.7233) | Steps 512(512.12) | Grad Norm 17.9108(13.3923) | Total Time 10.00(10.00)\n",
      "validating...\n",
      "Epoch 0059 | Time 11.6010, Epoch Time 340.7538, Bit/dim 2.2102\n"
     ]
    },
    {
     "name": "stdout",
     "output_type": "stream",
     "text": [
      "do _generate\n",
      "do _generate\n",
      "do _generate\n",
      "do _generate\n",
      "do _generate\n",
      "do _generate\n",
      "do _generate\n",
      "do _generate\n"
     ]
    },
    {
     "name": "stderr",
     "output_type": "stream",
     "text": [
      "===> Using batch size 8000. Total 7 iterations/epoch.\n",
      "Iter 0413 | Time 46.0395(45.2243) | Bit/dim 2.5395(2.7178) | Steps 512(512.12) | Grad Norm 9.8869(13.2871) | Total Time 10.00(10.00)\n",
      "Iter 0414 | Time 43.8050(45.1817) | Bit/dim 2.5646(2.7132) | Steps 512(512.11) | Grad Norm 13.5279(13.2943) | Total Time 10.00(10.00)\n",
      "Iter 0415 | Time 45.6525(45.1959) | Bit/dim 2.5133(2.7072) | Steps 512(512.11) | Grad Norm 8.8000(13.1595) | Total Time 10.00(10.00)\n",
      "Iter 0416 | Time 44.0022(45.1600) | Bit/dim 2.5043(2.7012) | Steps 512(512.11) | Grad Norm 9.8458(13.0601) | Total Time 10.00(10.00)\n",
      "Iter 0417 | Time 47.0606(45.2171) | Bit/dim 2.5057(2.6953) | Steps 518(512.28) | Grad Norm 11.0631(13.0002) | Total Time 10.00(10.00)\n",
      "Iter 0418 | Time 46.5720(45.2577) | Bit/dim 2.4713(2.6886) | Steps 524(512.64) | Grad Norm 6.6001(12.8082) | Total Time 10.00(10.00)\n",
      "Iter 0419 | Time 47.9378(45.3381) | Bit/dim 2.4956(2.6828) | Steps 524(512.98) | Grad Norm 11.1547(12.7586) | Total Time 10.00(10.00)\n",
      "validating...\n",
      "Epoch 0060 | Time 12.7526, Epoch Time 348.2491, Bit/dim 2.1924\n"
     ]
    },
    {
     "name": "stdout",
     "output_type": "stream",
     "text": [
      "do _generate\n",
      "do _generate\n",
      "do _generate\n",
      "do _generate\n",
      "do _generate\n",
      "do _generate\n",
      "do _generate\n",
      "do _generate\n"
     ]
    },
    {
     "name": "stderr",
     "output_type": "stream",
     "text": [
      "===> Using batch size 8000. Total 7 iterations/epoch.\n",
      "Iter 0420 | Time 46.6479(45.3774) | Bit/dim 2.4765(2.6766) | Steps 524(513.31) | Grad Norm 6.0913(12.5586) | Total Time 10.00(10.00)\n",
      "Iter 0421 | Time 47.4250(45.4388) | Bit/dim 2.4742(2.6705) | Steps 524(513.63) | Grad Norm 9.0064(12.4520) | Total Time 10.00(10.00)\n",
      "Iter 0422 | Time 47.3122(45.4950) | Bit/dim 2.4691(2.6645) | Steps 524(513.94) | Grad Norm 5.6793(12.2488) | Total Time 10.00(10.00)\n",
      "Iter 0423 | Time 46.0915(45.5129) | Bit/dim 2.4583(2.6583) | Steps 524(514.24) | Grad Norm 7.1464(12.0957) | Total Time 10.00(10.00)\n",
      "Iter 0424 | Time 48.7967(45.6114) | Bit/dim 2.4621(2.6524) | Steps 524(514.53) | Grad Norm 8.1068(11.9761) | Total Time 10.00(10.00)\n",
      "Iter 0425 | Time 46.4084(45.6354) | Bit/dim 2.4348(2.6459) | Steps 524(514.82) | Grad Norm 7.0258(11.8276) | Total Time 10.00(10.00)\n",
      "Iter 0426 | Time 45.6225(45.6350) | Bit/dim 2.4480(2.6399) | Steps 524(515.09) | Grad Norm 8.7713(11.7359) | Total Time 10.00(10.00)\n",
      "validating...\n",
      "Epoch 0061 | Time 12.6715, Epoch Time 355.3318, Bit/dim 2.1774\n"
     ]
    },
    {
     "name": "stdout",
     "output_type": "stream",
     "text": [
      "do _generate\n",
      "do _generate\n",
      "do _generate\n",
      "do _generate\n",
      "do _generate\n",
      "do _generate\n",
      "do _generate\n",
      "do _generate\n"
     ]
    },
    {
     "name": "stderr",
     "output_type": "stream",
     "text": [
      "===> Using batch size 8000. Total 7 iterations/epoch.\n",
      "Iter 0427 | Time 45.8372(45.6410) | Bit/dim 2.4426(2.6340) | Steps 524(515.36) | Grad Norm 4.9636(11.5327) | Total Time 10.00(10.00)\n",
      "Iter 0428 | Time 45.2497(45.6293) | Bit/dim 2.4561(2.6287) | Steps 524(515.62) | Grad Norm 7.6978(11.4177) | Total Time 10.00(10.00)\n",
      "Iter 0429 | Time 42.9652(45.5494) | Bit/dim 2.4117(2.6222) | Steps 524(515.87) | Grad Norm 2.6380(11.1543) | Total Time 10.00(10.00)\n",
      "Iter 0430 | Time 42.4364(45.4560) | Bit/dim 2.4359(2.6166) | Steps 524(516.12) | Grad Norm 6.6204(11.0183) | Total Time 10.00(10.00)\n",
      "Iter 0431 | Time 42.9272(45.3801) | Bit/dim 2.4185(2.6106) | Steps 524(516.35) | Grad Norm 5.9856(10.8673) | Total Time 10.00(10.00)\n",
      "Iter 0432 | Time 44.3093(45.3480) | Bit/dim 2.4097(2.6046) | Steps 524(516.58) | Grad Norm 7.8971(10.7782) | Total Time 10.00(10.00)\n",
      "Iter 0433 | Time 43.3153(45.2870) | Bit/dim 2.4152(2.5989) | Steps 524(516.80) | Grad Norm 9.1936(10.7306) | Total Time 10.00(10.00)\n",
      "validating...\n",
      "Epoch 0062 | Time 12.3284, Epoch Time 333.7670, Bit/dim 2.1918\n"
     ]
    },
    {
     "name": "stdout",
     "output_type": "stream",
     "text": [
      "do _generate\n",
      "do _generate\n",
      "do _generate\n",
      "do _generate\n",
      "do _generate\n",
      "do _generate\n",
      "do _generate\n",
      "do _generate\n"
     ]
    },
    {
     "name": "stderr",
     "output_type": "stream",
     "text": [
      "===> Using batch size 8000. Total 7 iterations/epoch.\n",
      "Iter 0434 | Time 46.3226(45.3181) | Bit/dim 2.4038(2.5931) | Steps 524(517.02) | Grad Norm 11.0681(10.7408) | Total Time 10.00(10.00)\n",
      "Iter 0435 | Time 48.5243(45.4143) | Bit/dim 2.3991(2.5873) | Steps 524(517.23) | Grad Norm 13.7633(10.8314) | Total Time 10.00(10.00)\n",
      "Iter 0436 | Time 47.4767(45.4761) | Bit/dim 2.4356(2.5827) | Steps 524(517.43) | Grad Norm 15.8006(10.9805) | Total Time 10.00(10.00)\n",
      "Iter 0437 | Time 44.0415(45.4331) | Bit/dim 2.4404(2.5784) | Steps 524(517.63) | Grad Norm 16.6636(11.1510) | Total Time 10.00(10.00)\n",
      "Iter 0438 | Time 45.3552(45.4308) | Bit/dim 2.4036(2.5732) | Steps 524(517.82) | Grad Norm 13.2032(11.2126) | Total Time 10.00(10.00)\n",
      "Iter 0439 | Time 47.0009(45.4779) | Bit/dim 2.3959(2.5679) | Steps 524(518.01) | Grad Norm 7.4610(11.1000) | Total Time 10.00(10.00)\n",
      "Iter 0440 | Time 46.3235(45.5032) | Bit/dim 2.3890(2.5625) | Steps 524(518.19) | Grad Norm 3.9604(10.8858) | Total Time 10.00(10.00)\n",
      "validating...\n",
      "Epoch 0063 | Time 12.6109, Epoch Time 352.1540, Bit/dim 2.1867\n"
     ]
    },
    {
     "name": "stdout",
     "output_type": "stream",
     "text": [
      "do _generate\n",
      "do _generate\n",
      "do _generate\n",
      "do _generate\n",
      "do _generate\n",
      "do _generate\n",
      "do _generate\n",
      "do _generate\n"
     ]
    },
    {
     "name": "stderr",
     "output_type": "stream",
     "text": [
      "===> Using batch size 8000. Total 7 iterations/epoch.\n",
      "Iter 0441 | Time 47.6790(45.5685) | Bit/dim 2.3730(2.5568) | Steps 524(518.36) | Grad Norm 8.2679(10.8073) | Total Time 10.00(10.00)\n",
      "Iter 0442 | Time 45.3816(45.5629) | Bit/dim 2.3925(2.5519) | Steps 524(518.53) | Grad Norm 12.7782(10.8664) | Total Time 10.00(10.00)\n",
      "Iter 0443 | Time 47.6973(45.6269) | Bit/dim 2.4018(2.5474) | Steps 524(518.69) | Grad Norm 15.5096(11.0057) | Total Time 10.00(10.00)\n",
      "Iter 0444 | Time 46.9620(45.6670) | Bit/dim 2.3940(2.5428) | Steps 524(518.85) | Grad Norm 14.9283(11.1234) | Total Time 10.00(10.00)\n",
      "Iter 0445 | Time 45.6382(45.6661) | Bit/dim 2.3847(2.5381) | Steps 524(519.01) | Grad Norm 11.8603(11.1455) | Total Time 10.00(10.00)\n",
      "Iter 0446 | Time 47.5853(45.7237) | Bit/dim 2.3658(2.5329) | Steps 524(519.16) | Grad Norm 9.2762(11.0894) | Total Time 10.00(10.00)\n",
      "Iter 0447 | Time 46.2421(45.7392) | Bit/dim 2.3763(2.5282) | Steps 524(519.30) | Grad Norm 12.4451(11.1301) | Total Time 10.00(10.00)\n",
      "validating...\n",
      "Epoch 0064 | Time 11.9350, Epoch Time 353.4939, Bit/dim 2.1881\n"
     ]
    },
    {
     "name": "stdout",
     "output_type": "stream",
     "text": [
      "do _generate\n",
      "do _generate\n",
      "do _generate\n",
      "do _generate\n",
      "do _generate\n",
      "do _generate\n",
      "do _generate\n",
      "do _generate\n"
     ]
    },
    {
     "name": "stderr",
     "output_type": "stream",
     "text": [
      "===> Using batch size 8000. Total 7 iterations/epoch.\n",
      "Iter 0448 | Time 44.0511(45.6886) | Bit/dim 2.3634(2.5232) | Steps 524(519.44) | Grad Norm 13.5307(11.2021) | Total Time 10.00(10.00)\n",
      "Iter 0449 | Time 44.3543(45.6486) | Bit/dim 2.3721(2.5187) | Steps 524(519.58) | Grad Norm 11.2262(11.2028) | Total Time 10.00(10.00)\n",
      "Iter 0450 | Time 46.4739(45.6733) | Bit/dim 2.3426(2.5134) | Steps 524(519.71) | Grad Norm 8.1437(11.1111) | Total Time 10.00(10.00)\n",
      "Iter 0451 | Time 43.1558(45.5978) | Bit/dim 2.3489(2.5085) | Steps 524(519.84) | Grad Norm 9.6073(11.0659) | Total Time 10.00(10.00)\n",
      "Iter 0452 | Time 44.7086(45.5711) | Bit/dim 2.3547(2.5039) | Steps 524(519.97) | Grad Norm 9.3279(11.0138) | Total Time 10.00(10.00)\n",
      "Iter 0453 | Time 45.0818(45.5565) | Bit/dim 2.3436(2.4991) | Steps 524(520.09) | Grad Norm 6.8133(10.8878) | Total Time 10.00(10.00)\n",
      "Iter 0454 | Time 48.5407(45.6460) | Bit/dim 2.3243(2.4938) | Steps 524(520.20) | Grad Norm 10.8211(10.8858) | Total Time 10.00(10.00)\n",
      "validating...\n",
      "Epoch 0065 | Time 11.9390, Epoch Time 342.8353, Bit/dim 2.1959\n"
     ]
    },
    {
     "name": "stdout",
     "output_type": "stream",
     "text": [
      "do _generate\n",
      "do _generate\n",
      "do _generate\n",
      "do _generate\n",
      "do _generate\n",
      "do _generate\n",
      "do _generate\n",
      "do _generate\n"
     ]
    },
    {
     "name": "stderr",
     "output_type": "stream",
     "text": [
      "===> Using batch size 8000. Total 7 iterations/epoch.\n",
      "Iter 0455 | Time 45.5347(45.6426) | Bit/dim 2.3664(2.4900) | Steps 524(520.32) | Grad Norm 15.9320(11.0372) | Total Time 10.00(10.00)\n",
      "Iter 0456 | Time 46.5360(45.6694) | Bit/dim 2.3597(2.4861) | Steps 524(520.43) | Grad Norm 15.7192(11.1776) | Total Time 10.00(10.00)\n",
      "Iter 0457 | Time 46.6998(45.7004) | Bit/dim 2.3276(2.4813) | Steps 524(520.54) | Grad Norm 6.4624(11.0362) | Total Time 10.00(10.00)\n",
      "Iter 0458 | Time 47.1126(45.7427) | Bit/dim 2.3171(2.4764) | Steps 524(520.64) | Grad Norm 8.2095(10.9514) | Total Time 10.00(10.00)\n",
      "Iter 0459 | Time 46.5691(45.7675) | Bit/dim 2.3431(2.4724) | Steps 524(520.74) | Grad Norm 14.5937(11.0606) | Total Time 10.00(10.00)\n",
      "Iter 0460 | Time 45.5234(45.7602) | Bit/dim 2.3325(2.4682) | Steps 524(520.84) | Grad Norm 11.6046(11.0770) | Total Time 10.00(10.00)\n",
      "Iter 0461 | Time 47.2482(45.8048) | Bit/dim 2.3185(2.4637) | Steps 524(520.93) | Grad Norm 4.0343(10.8657) | Total Time 10.00(10.00)\n",
      "validating...\n",
      "Epoch 0066 | Time 12.3138, Epoch Time 352.1343, Bit/dim 2.1793\n"
     ]
    },
    {
     "name": "stdout",
     "output_type": "stream",
     "text": [
      "do _generate\n",
      "do _generate\n",
      "do _generate\n",
      "do _generate\n",
      "do _generate\n",
      "do _generate\n",
      "do _generate\n",
      "do _generate\n"
     ]
    },
    {
     "name": "stderr",
     "output_type": "stream",
     "text": [
      "===> Using batch size 8000. Total 7 iterations/epoch.\n",
      "Iter 0462 | Time 46.2728(45.8189) | Bit/dim 2.3122(2.4592) | Steps 530(521.20) | Grad Norm 13.2326(10.9367) | Total Time 10.00(10.00)\n",
      "Iter 0463 | Time 42.5847(45.7218) | Bit/dim 2.3233(2.4551) | Steps 524(521.29) | Grad Norm 13.4926(11.0134) | Total Time 10.00(10.00)\n",
      "Iter 0464 | Time 44.4783(45.6845) | Bit/dim 2.3160(2.4509) | Steps 524(521.37) | Grad Norm 7.4454(10.9063) | Total Time 10.00(10.00)\n",
      "Iter 0465 | Time 46.0427(45.6953) | Bit/dim 2.3145(2.4468) | Steps 530(521.63) | Grad Norm 11.4260(10.9219) | Total Time 10.00(10.00)\n",
      "Iter 0466 | Time 44.6452(45.6638) | Bit/dim 2.3223(2.4431) | Steps 524(521.70) | Grad Norm 15.5797(11.0617) | Total Time 10.00(10.00)\n",
      "Iter 0467 | Time 45.4525(45.6574) | Bit/dim 2.3226(2.4395) | Steps 524(521.77) | Grad Norm 12.9101(11.1171) | Total Time 10.00(10.00)\n",
      "Iter 0468 | Time 43.6707(45.5978) | Bit/dim 2.3236(2.4360) | Steps 524(521.84) | Grad Norm 15.5384(11.2497) | Total Time 10.00(10.00)\n",
      "validating...\n",
      "Epoch 0067 | Time 11.9914, Epoch Time 339.5351, Bit/dim 2.1846\n"
     ]
    },
    {
     "name": "stdout",
     "output_type": "stream",
     "text": [
      "do _generate\n",
      "do _generate\n",
      "do _generate\n",
      "do _generate\n",
      "do _generate\n",
      "do _generate\n",
      "do _generate\n",
      "do _generate\n"
     ]
    },
    {
     "name": "stderr",
     "output_type": "stream",
     "text": [
      "===> Using batch size 8000. Total 7 iterations/epoch.\n",
      "Iter 0469 | Time 43.9204(45.5475) | Bit/dim 2.3370(2.4330) | Steps 524(521.90) | Grad Norm 20.9271(11.5401) | Total Time 10.00(10.00)\n",
      "Iter 0470 | Time 47.4258(45.6039) | Bit/dim 2.3400(2.4302) | Steps 524(521.96) | Grad Norm 19.1940(11.7697) | Total Time 10.00(10.00)\n",
      "Iter 0471 | Time 47.6360(45.6648) | Bit/dim 2.3107(2.4267) | Steps 524(522.03) | Grad Norm 13.4542(11.8202) | Total Time 10.00(10.00)\n",
      "Iter 0472 | Time 46.0656(45.6769) | Bit/dim 2.2851(2.4224) | Steps 524(522.08) | Grad Norm 8.1170(11.7091) | Total Time 10.00(10.00)\n",
      "Iter 0473 | Time 48.9462(45.7749) | Bit/dim 2.2959(2.4186) | Steps 530(522.32) | Grad Norm 10.8517(11.6834) | Total Time 10.00(10.00)\n",
      "Iter 0474 | Time 47.0117(45.8120) | Bit/dim 2.3228(2.4157) | Steps 530(522.55) | Grad Norm 20.7374(11.9550) | Total Time 10.00(10.00)\n",
      "Iter 0475 | Time 46.8358(45.8427) | Bit/dim 2.3477(2.4137) | Steps 524(522.60) | Grad Norm 21.4282(12.2392) | Total Time 10.00(10.00)\n",
      "validating...\n",
      "Epoch 0068 | Time 13.0509, Epoch Time 355.5564, Bit/dim 2.1103\n"
     ]
    },
    {
     "name": "stdout",
     "output_type": "stream",
     "text": [
      "do _generate\n",
      "do _generate\n",
      "do _generate\n",
      "do _generate\n",
      "do _generate\n",
      "do _generate\n",
      "do _generate\n",
      "do _generate\n"
     ]
    },
    {
     "name": "stderr",
     "output_type": "stream",
     "text": [
      "===> Using batch size 8000. Total 7 iterations/epoch.\n",
      "Iter 0476 | Time 46.9100(45.8748) | Bit/dim 2.2997(2.4103) | Steps 524(522.64) | Grad Norm 10.8309(12.1970) | Total Time 10.00(10.00)\n",
      "Iter 0477 | Time 47.4256(45.9213) | Bit/dim 2.2991(2.4069) | Steps 530(522.86) | Grad Norm 10.6434(12.1504) | Total Time 10.00(10.00)\n",
      "Iter 0478 | Time 48.8628(46.0095) | Bit/dim 2.3027(2.4038) | Steps 530(523.07) | Grad Norm 17.6930(12.3166) | Total Time 10.00(10.00)\n",
      "Iter 0479 | Time 48.0351(46.0703) | Bit/dim 2.2822(2.4002) | Steps 530(523.28) | Grad Norm 11.0472(12.2786) | Total Time 10.00(10.00)\n",
      "Iter 0480 | Time 47.5580(46.1149) | Bit/dim 2.2802(2.3966) | Steps 536(523.66) | Grad Norm 10.3028(12.2193) | Total Time 10.00(10.00)\n",
      "Iter 0481 | Time 50.1844(46.2370) | Bit/dim 2.2968(2.3936) | Steps 536(524.03) | Grad Norm 18.5082(12.4079) | Total Time 10.00(10.00)\n",
      "Iter 0482 | Time 46.7147(46.2514) | Bit/dim 2.2748(2.3900) | Steps 536(524.39) | Grad Norm 11.2222(12.3724) | Total Time 10.00(10.00)\n",
      "validating...\n",
      "Epoch 0069 | Time 12.4650, Epoch Time 362.5104, Bit/dim 2.1071\n"
     ]
    },
    {
     "name": "stdout",
     "output_type": "stream",
     "text": [
      "do _generate\n",
      "do _generate\n",
      "do _generate\n",
      "do _generate\n",
      "do _generate\n",
      "do _generate\n",
      "do _generate\n",
      "do _generate\n"
     ]
    },
    {
     "name": "stderr",
     "output_type": "stream",
     "text": [
      "===> Using batch size 8000. Total 7 iterations/epoch.\n",
      "Iter 0483 | Time 47.4422(46.2871) | Bit/dim 2.2655(2.3863) | Steps 530(524.56) | Grad Norm 8.4388(12.2544) | Total Time 10.00(10.00)\n",
      "Iter 0484 | Time 46.6107(46.2968) | Bit/dim 2.2681(2.3827) | Steps 530(524.72) | Grad Norm 13.2432(12.2840) | Total Time 10.00(10.00)\n",
      "Iter 0485 | Time 47.9047(46.3450) | Bit/dim 2.2522(2.3788) | Steps 536(525.06) | Grad Norm 4.4402(12.0487) | Total Time 10.00(10.00)\n",
      "Iter 0486 | Time 48.2853(46.4032) | Bit/dim 2.2732(2.3756) | Steps 536(525.39) | Grad Norm 13.6131(12.0956) | Total Time 10.00(10.00)\n",
      "Iter 0487 | Time 45.7459(46.3835) | Bit/dim 2.2600(2.3722) | Steps 530(525.53) | Grad Norm 11.6597(12.0826) | Total Time 10.00(10.00)\n",
      "Iter 0488 | Time 47.3691(46.4131) | Bit/dim 2.2436(2.3683) | Steps 530(525.66) | Grad Norm 6.3781(11.9114) | Total Time 10.00(10.00)\n",
      "Iter 0489 | Time 44.0161(46.3412) | Bit/dim 2.2519(2.3648) | Steps 530(525.79) | Grad Norm 11.5558(11.9008) | Total Time 10.00(10.00)\n",
      "validating...\n",
      "Epoch 0070 | Time 13.6348, Epoch Time 355.5779, Bit/dim 2.1319\n"
     ]
    },
    {
     "name": "stdout",
     "output_type": "stream",
     "text": [
      "do _generate\n",
      "do _generate\n",
      "do _generate\n",
      "do _generate\n",
      "do _generate\n",
      "do _generate\n",
      "do _generate\n",
      "do _generate\n"
     ]
    },
    {
     "name": "stderr",
     "output_type": "stream",
     "text": [
      "===> Using batch size 8000. Total 7 iterations/epoch.\n",
      "Iter 0490 | Time 49.9118(46.4483) | Bit/dim 2.2351(2.3609) | Steps 530(525.92) | Grad Norm 8.3925(11.7955) | Total Time 10.00(10.00)\n",
      "Iter 0491 | Time 47.4838(46.4794) | Bit/dim 2.2465(2.3575) | Steps 530(526.04) | Grad Norm 8.4428(11.6949) | Total Time 10.00(10.00)\n",
      "Iter 0492 | Time 47.2302(46.5019) | Bit/dim 2.2380(2.3539) | Steps 536(526.34) | Grad Norm 11.3333(11.6841) | Total Time 10.00(10.00)\n",
      "Iter 0493 | Time 47.6058(46.5350) | Bit/dim 2.2320(2.3503) | Steps 530(526.45) | Grad Norm 6.1300(11.5175) | Total Time 10.00(10.00)\n",
      "Iter 0494 | Time 46.8129(46.5433) | Bit/dim 2.2338(2.3468) | Steps 530(526.56) | Grad Norm 8.9150(11.4394) | Total Time 10.00(10.00)\n",
      "Iter 0495 | Time 47.0905(46.5597) | Bit/dim 2.2401(2.3436) | Steps 530(526.66) | Grad Norm 9.1284(11.3701) | Total Time 10.00(10.00)\n",
      "Iter 0496 | Time 42.7266(46.4448) | Bit/dim 2.2224(2.3399) | Steps 530(526.76) | Grad Norm 6.9559(11.2376) | Total Time 10.00(10.00)\n",
      "validating...\n",
      "Epoch 0071 | Time 12.0562, Epoch Time 355.2790, Bit/dim 2.1455\n"
     ]
    },
    {
     "name": "stdout",
     "output_type": "stream",
     "text": [
      "do _generate\n",
      "do _generate\n",
      "do _generate\n",
      "do _generate\n",
      "do _generate\n",
      "do _generate\n",
      "do _generate\n",
      "do _generate\n"
     ]
    },
    {
     "name": "stderr",
     "output_type": "stream",
     "text": [
      "===> Using batch size 8000. Total 7 iterations/epoch.\n",
      "Iter 0497 | Time 45.7286(46.4233) | Bit/dim 2.2282(2.3366) | Steps 530(526.86) | Grad Norm 7.9424(11.1388) | Total Time 10.00(10.00)\n",
      "Iter 0498 | Time 46.8712(46.4367) | Bit/dim 2.2496(2.3340) | Steps 536(527.13) | Grad Norm 9.2339(11.0816) | Total Time 10.00(10.00)\n",
      "Iter 0499 | Time 44.7188(46.3852) | Bit/dim 2.2277(2.3308) | Steps 530(527.22) | Grad Norm 9.1190(11.0228) | Total Time 10.00(10.00)\n",
      "Iter 0500 | Time 45.3631(46.3545) | Bit/dim 2.2020(2.3269) | Steps 530(527.30) | Grad Norm 8.8340(10.9571) | Total Time 10.00(10.00)\n",
      "Iter 0501 | Time 46.2994(46.3529) | Bit/dim 2.2266(2.3239) | Steps 530(527.38) | Grad Norm 11.0449(10.9597) | Total Time 10.00(10.00)\n",
      "Iter 0502 | Time 43.4070(46.2645) | Bit/dim 2.2134(2.3206) | Steps 530(527.46) | Grad Norm 7.7502(10.8634) | Total Time 10.00(10.00)\n",
      "Iter 0503 | Time 46.7169(46.2781) | Bit/dim 2.2158(2.3175) | Steps 530(527.54) | Grad Norm 9.2774(10.8159) | Total Time 10.00(10.00)\n",
      "validating...\n",
      "Epoch 0072 | Time 12.8493, Epoch Time 346.4292, Bit/dim 2.1273\n"
     ]
    },
    {
     "name": "stdout",
     "output_type": "stream",
     "text": [
      "do _generate\n",
      "do _generate\n",
      "do _generate\n",
      "do _generate\n",
      "do _generate\n",
      "do _generate\n",
      "do _generate\n",
      "do _generate\n"
     ]
    },
    {
     "name": "stderr",
     "output_type": "stream",
     "text": [
      "===> Using batch size 8000. Total 7 iterations/epoch.\n",
      "Iter 0504 | Time 46.4756(46.2840) | Bit/dim 2.1990(2.3139) | Steps 530(527.61) | Grad Norm 7.8376(10.7265) | Total Time 10.00(10.00)\n",
      "Iter 0505 | Time 45.9060(46.2726) | Bit/dim 2.2028(2.3106) | Steps 530(527.68) | Grad Norm 6.2962(10.5936) | Total Time 10.00(10.00)\n",
      "Iter 0506 | Time 47.6151(46.3129) | Bit/dim 2.2231(2.3079) | Steps 530(527.75) | Grad Norm 8.1107(10.5191) | Total Time 10.00(10.00)\n",
      "Iter 0507 | Time 46.7051(46.3247) | Bit/dim 2.2068(2.3049) | Steps 530(527.82) | Grad Norm 7.5802(10.4310) | Total Time 10.00(10.00)\n",
      "Iter 0508 | Time 45.2400(46.2921) | Bit/dim 2.2046(2.3019) | Steps 530(527.88) | Grad Norm 10.6358(10.4371) | Total Time 10.00(10.00)\n",
      "Iter 0509 | Time 45.4488(46.2668) | Bit/dim 2.2105(2.2992) | Steps 530(527.95) | Grad Norm 10.7333(10.4460) | Total Time 10.00(10.00)\n",
      "Iter 0510 | Time 46.5261(46.2746) | Bit/dim 2.2038(2.2963) | Steps 530(528.01) | Grad Norm 11.2193(10.4692) | Total Time 10.00(10.00)\n",
      "validating...\n",
      "Epoch 0073 | Time 11.8329, Epoch Time 350.1776, Bit/dim 2.1088\n"
     ]
    },
    {
     "name": "stdout",
     "output_type": "stream",
     "text": [
      "do _generate\n",
      "do _generate\n",
      "do _generate\n",
      "do _generate\n",
      "do _generate\n",
      "do _generate\n",
      "do _generate\n",
      "do _generate\n"
     ]
    },
    {
     "name": "stderr",
     "output_type": "stream",
     "text": [
      "===> Using batch size 8000. Total 7 iterations/epoch.\n",
      "Iter 0511 | Time 43.7928(46.2002) | Bit/dim 2.1941(2.2932) | Steps 530(528.07) | Grad Norm 10.3056(10.4643) | Total Time 10.00(10.00)\n",
      "Iter 0512 | Time 43.2713(46.1123) | Bit/dim 2.1994(2.2904) | Steps 530(528.13) | Grad Norm 8.7721(10.4135) | Total Time 10.00(10.00)\n",
      "Iter 0513 | Time 46.3703(46.1200) | Bit/dim 2.1771(2.2870) | Steps 530(528.18) | Grad Norm 4.3733(10.2323) | Total Time 10.00(10.00)\n",
      "Iter 0514 | Time 46.6304(46.1353) | Bit/dim 2.1719(2.2836) | Steps 530(528.24) | Grad Norm 7.8267(10.1601) | Total Time 10.00(10.00)\n",
      "Iter 0515 | Time 45.4855(46.1159) | Bit/dim 2.1925(2.2808) | Steps 530(528.29) | Grad Norm 4.9631(10.0042) | Total Time 10.00(10.00)\n",
      "Iter 0516 | Time 46.9627(46.1413) | Bit/dim 2.1925(2.2782) | Steps 530(528.34) | Grad Norm 9.3084(9.9834) | Total Time 10.00(10.00)\n",
      "Iter 0517 | Time 47.9915(46.1968) | Bit/dim 2.1799(2.2752) | Steps 536(528.57) | Grad Norm 9.6922(9.9746) | Total Time 10.00(10.00)\n",
      "validating...\n",
      "Epoch 0074 | Time 13.5782, Epoch Time 348.6980, Bit/dim 2.0922\n"
     ]
    },
    {
     "name": "stdout",
     "output_type": "stream",
     "text": [
      "do _generate\n",
      "do _generate\n",
      "do _generate\n",
      "do _generate\n",
      "do _generate\n",
      "do _generate\n",
      "do _generate\n",
      "do _generate\n"
     ]
    },
    {
     "name": "stderr",
     "output_type": "stream",
     "text": [
      "===> Using batch size 8000. Total 7 iterations/epoch.\n",
      "Iter 0518 | Time 48.7032(46.2720) | Bit/dim 2.1837(2.2725) | Steps 530(528.61) | Grad Norm 8.4652(9.9293) | Total Time 10.00(10.00)\n",
      "Iter 0519 | Time 48.9425(46.3521) | Bit/dim 2.1820(2.2698) | Steps 530(528.66) | Grad Norm 8.4947(9.8863) | Total Time 10.00(10.00)\n",
      "Iter 0520 | Time 46.2704(46.3496) | Bit/dim 2.1570(2.2664) | Steps 536(528.88) | Grad Norm 5.8677(9.7657) | Total Time 10.00(10.00)\n",
      "Iter 0521 | Time 47.6095(46.3874) | Bit/dim 2.1619(2.2633) | Steps 536(529.09) | Grad Norm 6.2307(9.6597) | Total Time 10.00(10.00)\n",
      "Iter 0522 | Time 48.4223(46.4485) | Bit/dim 2.1592(2.2601) | Steps 536(529.30) | Grad Norm 5.6665(9.5399) | Total Time 10.00(10.00)\n",
      "Iter 0523 | Time 47.2733(46.4732) | Bit/dim 2.1575(2.2571) | Steps 536(529.50) | Grad Norm 6.8763(9.4600) | Total Time 10.00(10.00)\n",
      "Iter 0524 | Time 48.2994(46.5280) | Bit/dim 2.1771(2.2547) | Steps 536(529.69) | Grad Norm 11.0463(9.5076) | Total Time 10.00(10.00)\n",
      "validating...\n",
      "Epoch 0075 | Time 13.4023, Epoch Time 363.5979, Bit/dim 2.0950\n"
     ]
    },
    {
     "name": "stdout",
     "output_type": "stream",
     "text": [
      "do _generate\n",
      "do _generate\n",
      "do _generate\n",
      "do _generate\n",
      "do _generate\n",
      "do _generate\n",
      "do _generate\n",
      "do _generate\n"
     ]
    },
    {
     "name": "stderr",
     "output_type": "stream",
     "text": [
      "===> Using batch size 8000. Total 7 iterations/epoch.\n",
      "Iter 0525 | Time 47.6191(46.5607) | Bit/dim 2.1907(2.2527) | Steps 530(529.70) | Grad Norm 12.9602(9.6112) | Total Time 10.00(10.00)\n",
      "Iter 0526 | Time 47.6509(46.5934) | Bit/dim 2.1742(2.2504) | Steps 536(529.89) | Grad Norm 12.4566(9.6965) | Total Time 10.00(10.00)\n",
      "Iter 0527 | Time 48.2941(46.6445) | Bit/dim 2.1622(2.2477) | Steps 536(530.07) | Grad Norm 10.8065(9.7298) | Total Time 10.00(10.00)\n",
      "Iter 0528 | Time 46.7108(46.6464) | Bit/dim 2.1419(2.2446) | Steps 536(530.25) | Grad Norm 6.7276(9.6397) | Total Time 10.00(10.00)\n",
      "Iter 0529 | Time 44.3799(46.5784) | Bit/dim 2.1265(2.2410) | Steps 536(530.42) | Grad Norm 3.7776(9.4639) | Total Time 10.00(10.00)\n",
      "Iter 0530 | Time 42.4006(46.4531) | Bit/dim 2.1645(2.2387) | Steps 536(530.59) | Grad Norm 5.2024(9.3360) | Total Time 10.00(10.00)\n",
      "Iter 0531 | Time 42.9484(46.3480) | Bit/dim 2.1552(2.2362) | Steps 536(530.75) | Grad Norm 7.4630(9.2798) | Total Time 10.00(10.00)\n",
      "validating...\n",
      "Epoch 0076 | Time 13.1253, Epoch Time 347.8653, Bit/dim 2.0871\n"
     ]
    },
    {
     "name": "stdout",
     "output_type": "stream",
     "text": [
      "do _generate\n",
      "do _generate\n",
      "do _generate\n",
      "do _generate\n",
      "do _generate\n",
      "do _generate\n",
      "do _generate\n",
      "do _generate\n"
     ]
    },
    {
     "name": "stderr",
     "output_type": "stream",
     "text": [
      "===> Using batch size 8000. Total 7 iterations/epoch.\n",
      "Iter 0532 | Time 47.8475(46.3930) | Bit/dim 2.1411(2.2334) | Steps 536(530.91) | Grad Norm 8.0823(9.2439) | Total Time 10.00(10.00)\n",
      "Iter 0533 | Time 46.7687(46.4042) | Bit/dim 2.1436(2.2307) | Steps 536(531.06) | Grad Norm 7.2467(9.1840) | Total Time 10.00(10.00)\n",
      "Iter 0534 | Time 47.8248(46.4468) | Bit/dim 2.1248(2.2275) | Steps 536(531.21) | Grad Norm 6.4358(9.1016) | Total Time 10.00(10.00)\n",
      "Iter 0535 | Time 46.1590(46.4382) | Bit/dim 2.1366(2.2248) | Steps 536(531.36) | Grad Norm 4.5619(8.9654) | Total Time 10.00(10.00)\n",
      "Iter 0536 | Time 48.2613(46.4929) | Bit/dim 2.1146(2.2215) | Steps 536(531.50) | Grad Norm 4.8760(8.8427) | Total Time 10.00(10.00)\n",
      "Iter 0537 | Time 47.4069(46.5203) | Bit/dim 2.1593(2.2196) | Steps 536(531.63) | Grad Norm 6.1109(8.7607) | Total Time 10.00(10.00)\n",
      "Iter 0538 | Time 48.3103(46.5740) | Bit/dim 2.1188(2.2166) | Steps 536(531.76) | Grad Norm 8.1901(8.7436) | Total Time 10.00(10.00)\n",
      "validating...\n",
      "Epoch 0077 | Time 13.1457, Epoch Time 360.2511, Bit/dim 2.1040\n"
     ]
    },
    {
     "name": "stdout",
     "output_type": "stream",
     "text": [
      "do _generate\n",
      "do _generate\n",
      "do _generate\n",
      "do _generate\n",
      "do _generate\n",
      "do _generate\n",
      "do _generate\n",
      "do _generate\n"
     ]
    },
    {
     "name": "stderr",
     "output_type": "stream",
     "text": [
      "===> Using batch size 8000. Total 7 iterations/epoch.\n",
      "Iter 0539 | Time 46.2138(46.5632) | Bit/dim 2.1412(2.2143) | Steps 536(531.89) | Grad Norm 9.0836(8.7538) | Total Time 10.00(10.00)\n",
      "Iter 0540 | Time 46.6417(46.5656) | Bit/dim 2.1277(2.2117) | Steps 536(532.01) | Grad Norm 8.5852(8.7488) | Total Time 10.00(10.00)\n",
      "Iter 0541 | Time 47.3939(46.5904) | Bit/dim 2.1191(2.2089) | Steps 542(532.31) | Grad Norm 4.7837(8.6298) | Total Time 10.00(10.00)\n",
      "Iter 0542 | Time 47.4843(46.6172) | Bit/dim 2.1362(2.2068) | Steps 542(532.60) | Grad Norm 5.0504(8.5224) | Total Time 10.00(10.00)\n",
      "Iter 0543 | Time 48.4090(46.6710) | Bit/dim 2.1123(2.2039) | Steps 542(532.88) | Grad Norm 7.4830(8.4912) | Total Time 10.00(10.00)\n",
      "Iter 0544 | Time 48.3658(46.7218) | Bit/dim 2.1294(2.2017) | Steps 542(533.16) | Grad Norm 10.5391(8.5527) | Total Time 10.00(10.00)\n",
      "Iter 0545 | Time 48.4717(46.7743) | Bit/dim 2.1295(2.1995) | Steps 542(533.42) | Grad Norm 13.6096(8.7044) | Total Time 10.00(10.00)\n",
      "validating...\n",
      "Epoch 0078 | Time 12.3478, Epoch Time 359.6368, Bit/dim 2.1047\n"
     ]
    },
    {
     "name": "stdout",
     "output_type": "stream",
     "text": [
      "do _generate\n",
      "do _generate\n",
      "do _generate\n",
      "do _generate\n",
      "do _generate\n",
      "do _generate\n",
      "do _generate\n",
      "do _generate\n"
     ]
    },
    {
     "name": "stderr",
     "output_type": "stream",
     "text": [
      "===> Using batch size 8000. Total 7 iterations/epoch.\n",
      "Iter 0546 | Time 46.9860(46.7807) | Bit/dim 2.1305(2.1974) | Steps 542(533.68) | Grad Norm 14.2688(8.8713) | Total Time 10.00(10.00)\n",
      "Iter 0547 | Time 48.9425(46.8455) | Bit/dim 2.1111(2.1949) | Steps 542(533.93) | Grad Norm 10.2213(8.9118) | Total Time 10.00(10.00)\n",
      "Iter 0548 | Time 44.9200(46.7878) | Bit/dim 2.1019(2.1921) | Steps 542(534.17) | Grad Norm 4.0182(8.7650) | Total Time 10.00(10.00)\n",
      "Iter 0549 | Time 47.4371(46.8072) | Bit/dim 2.1214(2.1899) | Steps 542(534.41) | Grad Norm 8.6749(8.7623) | Total Time 10.00(10.00)\n",
      "Iter 0550 | Time 44.5804(46.7404) | Bit/dim 2.1365(2.1883) | Steps 542(534.63) | Grad Norm 14.4447(8.9328) | Total Time 10.00(10.00)\n",
      "Iter 0551 | Time 48.2756(46.7865) | Bit/dim 2.1601(2.1875) | Steps 542(534.86) | Grad Norm 14.8420(9.1101) | Total Time 10.00(10.00)\n",
      "Iter 0552 | Time 48.5493(46.8394) | Bit/dim 2.1197(2.1855) | Steps 542(535.07) | Grad Norm 8.3114(9.0861) | Total Time 10.00(10.00)\n",
      "validating...\n",
      "Epoch 0079 | Time 12.6153, Epoch Time 357.2982, Bit/dim 2.0695\n"
     ]
    },
    {
     "name": "stdout",
     "output_type": "stream",
     "text": [
      "do _generatedo _generate\n",
      "\n",
      "do _generate\n",
      "do _generatedo _generate\n",
      "\n",
      "do _generate\n",
      "do _generate\n",
      "do _generate\n"
     ]
    },
    {
     "name": "stderr",
     "output_type": "stream",
     "text": [
      "===> Using batch size 8000. Total 7 iterations/epoch.\n",
      "Iter 0553 | Time 46.7869(46.8378) | Bit/dim 2.1139(2.1833) | Steps 542(535.28) | Grad Norm 6.1413(8.9977) | Total Time 10.00(10.00)\n",
      "Iter 0554 | Time 47.7450(46.8650) | Bit/dim 2.1253(2.1816) | Steps 542(535.48) | Grad Norm 12.4323(9.1008) | Total Time 10.00(10.00)\n",
      "Iter 0555 | Time 48.4734(46.9133) | Bit/dim 2.1189(2.1797) | Steps 542(535.68) | Grad Norm 13.1793(9.2231) | Total Time 10.00(10.00)\n",
      "Iter 0556 | Time 47.2922(46.9246) | Bit/dim 2.1212(2.1779) | Steps 542(535.86) | Grad Norm 7.9256(9.1842) | Total Time 10.00(10.00)\n",
      "Iter 0557 | Time 47.1113(46.9302) | Bit/dim 2.0887(2.1753) | Steps 542(536.05) | Grad Norm 8.1425(9.1530) | Total Time 10.00(10.00)\n",
      "Iter 0558 | Time 47.1602(46.9371) | Bit/dim 2.0928(2.1728) | Steps 542(536.23) | Grad Norm 7.7456(9.1107) | Total Time 10.00(10.00)\n",
      "Iter 0559 | Time 48.3302(46.9789) | Bit/dim 2.1070(2.1708) | Steps 542(536.40) | Grad Norm 7.5456(9.0638) | Total Time 10.00(10.00)\n",
      "validating...\n",
      "Epoch 0080 | Time 12.7820, Epoch Time 360.4506, Bit/dim 2.1149\n"
     ]
    },
    {
     "name": "stdout",
     "output_type": "stream",
     "text": [
      "do _generate\n",
      "do _generate\n",
      "do _generate\n",
      "do _generate\n",
      "do _generate\n",
      "do _generate\n",
      "do _generate\n",
      "do _generate\n"
     ]
    },
    {
     "name": "stderr",
     "output_type": "stream",
     "text": [
      "===> Using batch size 8000. Total 7 iterations/epoch.\n",
      "Iter 0560 | Time 50.0677(47.0716) | Bit/dim 2.0990(2.1687) | Steps 542(536.57) | Grad Norm 11.6818(9.1423) | Total Time 10.00(10.00)\n",
      "Iter 0561 | Time 45.8673(47.0355) | Bit/dim 2.0976(2.1665) | Steps 542(536.73) | Grad Norm 12.5651(9.2450) | Total Time 10.00(10.00)\n",
      "Iter 0562 | Time 46.3970(47.0163) | Bit/dim 2.0967(2.1644) | Steps 542(536.89) | Grad Norm 8.6480(9.2271) | Total Time 10.00(10.00)\n",
      "Iter 0563 | Time 45.5738(46.9730) | Bit/dim 2.0858(2.1621) | Steps 542(537.04) | Grad Norm 4.5789(9.0877) | Total Time 10.00(10.00)\n",
      "Iter 0564 | Time 46.7154(46.9653) | Bit/dim 2.1058(2.1604) | Steps 542(537.19) | Grad Norm 10.3991(9.1270) | Total Time 10.00(10.00)\n",
      "Iter 0565 | Time 48.9061(47.0235) | Bit/dim 2.0911(2.1583) | Steps 542(537.34) | Grad Norm 11.3996(9.1952) | Total Time 10.00(10.00)\n",
      "Iter 0566 | Time 50.2816(47.1213) | Bit/dim 2.0934(2.1564) | Steps 542(537.48) | Grad Norm 8.0493(9.1608) | Total Time 10.00(10.00)\n",
      "validating...\n",
      "Epoch 0081 | Time 12.6615, Epoch Time 360.8814, Bit/dim 2.0674\n"
     ]
    },
    {
     "name": "stdout",
     "output_type": "stream",
     "text": [
      "do _generate\n",
      "do _generate\n",
      "do _generate\n",
      "do _generate\n",
      "do _generate\n",
      "do _generatedo _generate\n",
      "\n",
      "do _generate\n"
     ]
    },
    {
     "name": "stderr",
     "output_type": "stream",
     "text": [
      "===> Using batch size 8000. Total 7 iterations/epoch.\n",
      "Iter 0567 | Time 45.9955(47.0875) | Bit/dim 2.1004(2.1547) | Steps 542(537.61) | Grad Norm 9.0801(9.1584) | Total Time 10.00(10.00)\n",
      "Iter 0568 | Time 48.4753(47.1291) | Bit/dim 2.0785(2.1524) | Steps 542(537.74) | Grad Norm 10.1467(9.1880) | Total Time 10.00(10.00)\n",
      "Iter 0569 | Time 47.6683(47.1453) | Bit/dim 2.0752(2.1501) | Steps 542(537.87) | Grad Norm 6.9479(9.1208) | Total Time 10.00(10.00)\n",
      "Iter 0570 | Time 49.2914(47.2097) | Bit/dim 2.1069(2.1488) | Steps 542(537.99) | Grad Norm 12.6489(9.2267) | Total Time 10.00(10.00)\n",
      "Iter 0571 | Time 48.3270(47.2432) | Bit/dim 2.1092(2.1476) | Steps 536(537.93) | Grad Norm 10.6550(9.2695) | Total Time 10.00(10.00)\n",
      "Iter 0572 | Time 48.4365(47.2790) | Bit/dim 2.0575(2.1449) | Steps 542(538.06) | Grad Norm 6.4682(9.1855) | Total Time 10.00(10.00)\n",
      "Iter 0573 | Time 48.9661(47.3296) | Bit/dim 2.0968(2.1434) | Steps 542(538.18) | Grad Norm 14.5690(9.3470) | Total Time 10.00(10.00)\n",
      "validating...\n",
      "Epoch 0082 | Time 12.3619, Epoch Time 364.0798, Bit/dim 2.0983\n"
     ]
    },
    {
     "name": "stdout",
     "output_type": "stream",
     "text": [
      "do _generate\n",
      "do _generate\n",
      "do _generate\n",
      "do _generate\n",
      "do _generate\n",
      "do _generate\n",
      "do _generate\n",
      "do _generate\n"
     ]
    },
    {
     "name": "stderr",
     "output_type": "stream",
     "text": [
      "===> Using batch size 8000. Total 7 iterations/epoch.\n",
      "Iter 0574 | Time 49.2965(47.3886) | Bit/dim 2.1020(2.1422) | Steps 542(538.29) | Grad Norm 11.5357(9.4126) | Total Time 10.00(10.00)\n",
      "Iter 0575 | Time 48.1127(47.4104) | Bit/dim 2.0658(2.1399) | Steps 542(538.40) | Grad Norm 8.4385(9.3834) | Total Time 10.00(10.00)\n",
      "Iter 0576 | Time 48.1285(47.4319) | Bit/dim 2.0937(2.1385) | Steps 542(538.51) | Grad Norm 9.7260(9.3937) | Total Time 10.00(10.00)\n",
      "Iter 0577 | Time 49.5953(47.4968) | Bit/dim 2.0818(2.1368) | Steps 542(538.61) | Grad Norm 9.0405(9.3831) | Total Time 10.00(10.00)\n",
      "Iter 0578 | Time 48.8093(47.5362) | Bit/dim 2.0807(2.1351) | Steps 542(538.72) | Grad Norm 7.4503(9.3251) | Total Time 10.00(10.00)\n",
      "Iter 0579 | Time 47.0851(47.5226) | Bit/dim 2.0759(2.1334) | Steps 542(538.81) | Grad Norm 10.3165(9.3549) | Total Time 10.00(10.00)\n",
      "Iter 0580 | Time 49.6857(47.5875) | Bit/dim 2.0771(2.1317) | Steps 542(538.91) | Grad Norm 7.6712(9.3044) | Total Time 10.00(10.00)\n",
      "validating...\n",
      "Epoch 0083 | Time 12.4069, Epoch Time 367.3187, Bit/dim 2.0366\n"
     ]
    },
    {
     "name": "stdout",
     "output_type": "stream",
     "text": [
      "do _generate\n",
      "do _generate\n",
      "do _generate\n",
      "do _generate\n",
      "do _generate\n",
      "do _generate\n",
      "do _generate\n",
      "do _generate\n"
     ]
    },
    {
     "name": "stderr",
     "output_type": "stream",
     "text": [
      "===> Using batch size 8000. Total 7 iterations/epoch.\n",
      "Iter 0581 | Time 47.1406(47.5741) | Bit/dim 2.0563(2.1294) | Steps 542(539.00) | Grad Norm 6.7537(9.2278) | Total Time 10.00(10.00)\n",
      "Iter 0582 | Time 46.5839(47.5444) | Bit/dim 2.0657(2.1275) | Steps 542(539.09) | Grad Norm 5.3895(9.1127) | Total Time 10.00(10.00)\n",
      "Iter 0583 | Time 48.6113(47.5764) | Bit/dim 2.0443(2.1250) | Steps 542(539.18) | Grad Norm 7.3156(9.0588) | Total Time 10.00(10.00)\n",
      "Iter 0584 | Time 47.6262(47.5779) | Bit/dim 2.0646(2.1232) | Steps 542(539.26) | Grad Norm 5.4025(8.9491) | Total Time 10.00(10.00)\n",
      "Iter 0585 | Time 46.8158(47.5551) | Bit/dim 2.0530(2.1211) | Steps 542(539.35) | Grad Norm 5.3579(8.8414) | Total Time 10.00(10.00)\n",
      "Iter 0586 | Time 46.0245(47.5091) | Bit/dim 2.0456(2.1188) | Steps 542(539.43) | Grad Norm 4.6744(8.7163) | Total Time 10.00(10.00)\n",
      "Iter 0587 | Time 46.1652(47.4688) | Bit/dim 2.0302(2.1162) | Steps 542(539.50) | Grad Norm 4.7228(8.5965) | Total Time 10.00(10.00)\n",
      "validating...\n",
      "Epoch 0084 | Time 13.4050, Epoch Time 356.7843, Bit/dim 2.0752\n"
     ]
    },
    {
     "name": "stdout",
     "output_type": "stream",
     "text": [
      "do _generate\n",
      "do _generate\n",
      "do _generate\n",
      "do _generate\n",
      "do _generate\n",
      "do _generate\n",
      "do _generate\n",
      "do _generate\n"
     ]
    },
    {
     "name": "stderr",
     "output_type": "stream",
     "text": [
      "===> Using batch size 8000. Total 7 iterations/epoch.\n",
      "Iter 0588 | Time 49.0869(47.5174) | Bit/dim 2.0388(2.1138) | Steps 542(539.58) | Grad Norm 4.5579(8.4754) | Total Time 10.00(10.00)\n",
      "Iter 0589 | Time 50.0179(47.5924) | Bit/dim 2.0398(2.1116) | Steps 542(539.65) | Grad Norm 5.1202(8.3747) | Total Time 10.00(10.00)\n",
      "Iter 0590 | Time 50.4911(47.6793) | Bit/dim 2.0363(2.1094) | Steps 542(539.72) | Grad Norm 5.1516(8.2780) | Total Time 10.00(10.00)\n",
      "Iter 0591 | Time 46.9741(47.6582) | Bit/dim 2.0398(2.1073) | Steps 542(539.79) | Grad Norm 3.0438(8.1210) | Total Time 10.00(10.00)\n",
      "Iter 0592 | Time 50.1169(47.7319) | Bit/dim 2.0349(2.1051) | Steps 542(539.86) | Grad Norm 4.4259(8.0101) | Total Time 10.00(10.00)\n",
      "Iter 0593 | Time 48.8283(47.7648) | Bit/dim 2.0356(2.1030) | Steps 542(539.92) | Grad Norm 4.7622(7.9127) | Total Time 10.00(10.00)\n",
      "Iter 0594 | Time 51.1742(47.8671) | Bit/dim 2.0268(2.1007) | Steps 542(539.98) | Grad Norm 4.9563(7.8240) | Total Time 10.00(10.00)\n",
      "validating...\n",
      "Epoch 0085 | Time 13.2967, Epoch Time 374.4170, Bit/dim 2.0612\n"
     ]
    },
    {
     "name": "stdout",
     "output_type": "stream",
     "text": [
      "do _generate\n",
      "do _generate\n",
      "do _generate\n",
      "do _generate\n",
      "do _generate\n",
      "do _generate\n",
      "do _generate\n",
      "do _generate\n"
     ]
    },
    {
     "name": "stderr",
     "output_type": "stream",
     "text": [
      "===> Using batch size 8000. Total 7 iterations/epoch.\n",
      "Iter 0595 | Time 49.0666(47.9031) | Bit/dim 2.0393(2.0989) | Steps 542(540.04) | Grad Norm 5.5706(7.7564) | Total Time 10.00(10.00)\n",
      "Iter 0596 | Time 44.0975(47.7889) | Bit/dim 2.0271(2.0967) | Steps 542(540.10) | Grad Norm 2.8462(7.6091) | Total Time 10.00(10.00)\n",
      "Iter 0597 | Time 45.7700(47.7284) | Bit/dim 2.0202(2.0944) | Steps 542(540.16) | Grad Norm 6.2863(7.5694) | Total Time 10.00(10.00)\n",
      "Iter 0598 | Time 46.7475(47.6989) | Bit/dim 2.0351(2.0927) | Steps 542(540.21) | Grad Norm 6.7823(7.5458) | Total Time 10.00(10.00)\n",
      "Iter 0599 | Time 46.6579(47.6677) | Bit/dim 2.0076(2.0901) | Steps 542(540.27) | Grad Norm 4.8873(7.4661) | Total Time 10.00(10.00)\n",
      "Iter 0600 | Time 46.1677(47.6227) | Bit/dim 2.0268(2.0882) | Steps 542(540.32) | Grad Norm 5.4466(7.4055) | Total Time 10.00(10.00)\n",
      "Iter 0601 | Time 48.6386(47.6532) | Bit/dim 2.0322(2.0865) | Steps 542(540.37) | Grad Norm 4.4060(7.3155) | Total Time 10.00(10.00)\n",
      "validating...\n",
      "Epoch 0086 | Time 12.7175, Epoch Time 354.5977, Bit/dim 2.0720\n"
     ]
    },
    {
     "name": "stdout",
     "output_type": "stream",
     "text": [
      "do _generate\n",
      "do _generate\n",
      "do _generate\n",
      "do _generate\n",
      "do _generate\n",
      "do _generate\n",
      "do _generate\n",
      "do _generate\n"
     ]
    },
    {
     "name": "stderr",
     "output_type": "stream",
     "text": [
      "===> Using batch size 8000. Total 7 iterations/epoch.\n",
      "Iter 0602 | Time 50.3609(47.7344) | Bit/dim 2.0177(2.0845) | Steps 542(540.42) | Grad Norm 4.4694(7.2301) | Total Time 10.00(10.00)\n",
      "Iter 0603 | Time 49.3665(47.7834) | Bit/dim 2.0197(2.0825) | Steps 542(540.47) | Grad Norm 6.4371(7.2063) | Total Time 10.00(10.00)\n",
      "Iter 0604 | Time 46.4861(47.7445) | Bit/dim 2.0238(2.0808) | Steps 542(540.51) | Grad Norm 5.4220(7.1528) | Total Time 10.00(10.00)\n",
      "Iter 0605 | Time 48.2354(47.7592) | Bit/dim 2.0134(2.0787) | Steps 542(540.56) | Grad Norm 3.8373(7.0533) | Total Time 10.00(10.00)\n",
      "Iter 0606 | Time 45.9320(47.7044) | Bit/dim 2.0207(2.0770) | Steps 542(540.60) | Grad Norm 6.0148(7.0222) | Total Time 10.00(10.00)\n",
      "Iter 0607 | Time 48.7445(47.7356) | Bit/dim 1.9989(2.0747) | Steps 542(540.64) | Grad Norm 3.5244(6.9172) | Total Time 10.00(10.00)\n",
      "Iter 0608 | Time 45.7981(47.6775) | Bit/dim 1.9981(2.0724) | Steps 542(540.68) | Grad Norm 5.6271(6.8785) | Total Time 10.00(10.00)\n",
      "validating...\n",
      "Epoch 0087 | Time 13.2022, Epoch Time 362.6778, Bit/dim 2.0765\n"
     ]
    },
    {
     "name": "stdout",
     "output_type": "stream",
     "text": [
      "do _generate\n",
      "do _generate\n",
      "do _generate\n",
      "do _generate\n",
      "do _generate\n",
      "do _generate\n",
      "do _generate\n",
      "do _generate\n"
     ]
    },
    {
     "name": "stderr",
     "output_type": "stream",
     "text": [
      "===> Using batch size 8000. Total 7 iterations/epoch.\n",
      "Iter 0609 | Time 49.3461(47.7275) | Bit/dim 2.0031(2.0703) | Steps 542(540.72) | Grad Norm 4.8327(6.8172) | Total Time 10.00(10.00)\n",
      "Iter 0610 | Time 48.8167(47.7602) | Bit/dim 1.9971(2.0681) | Steps 542(540.76) | Grad Norm 5.0093(6.7629) | Total Time 10.00(10.00)\n",
      "Iter 0611 | Time 48.8134(47.7918) | Bit/dim 2.0111(2.0664) | Steps 542(540.80) | Grad Norm 5.5756(6.7273) | Total Time 10.00(10.00)\n",
      "Iter 0612 | Time 50.0923(47.8608) | Bit/dim 1.9925(2.0642) | Steps 542(540.83) | Grad Norm 5.5916(6.6932) | Total Time 10.00(10.00)\n",
      "Iter 0613 | Time 49.1106(47.8983) | Bit/dim 2.0026(2.0623) | Steps 542(540.87) | Grad Norm 3.8478(6.6079) | Total Time 10.00(10.00)\n",
      "Iter 0614 | Time 49.8079(47.9556) | Bit/dim 2.0036(2.0606) | Steps 542(540.90) | Grad Norm 4.4718(6.5438) | Total Time 10.00(10.00)\n",
      "Iter 0615 | Time 47.0132(47.9273) | Bit/dim 2.0023(2.0588) | Steps 542(540.94) | Grad Norm 7.8501(6.5830) | Total Time 10.00(10.00)\n",
      "validating...\n",
      "Epoch 0088 | Time 12.9814, Epoch Time 370.6315, Bit/dim 2.0599\n"
     ]
    },
    {
     "name": "stdout",
     "output_type": "stream",
     "text": [
      "do _generate\n",
      "do _generate\n",
      "do _generate\n",
      "do _generate\n",
      "do _generate\n",
      "do _generate\n",
      "do _generate\n",
      "do _generate\n"
     ]
    },
    {
     "name": "stderr",
     "output_type": "stream",
     "text": [
      "===> Using batch size 8000. Total 7 iterations/epoch.\n",
      "Iter 0616 | Time 48.6516(47.9490) | Bit/dim 2.0105(2.0574) | Steps 542(540.97) | Grad Norm 10.3608(6.6963) | Total Time 10.00(10.00)\n",
      "Iter 0617 | Time 47.8314(47.9455) | Bit/dim 2.0068(2.0558) | Steps 542(541.00) | Grad Norm 10.2126(6.8018) | Total Time 10.00(10.00)\n",
      "Iter 0618 | Time 50.6156(48.0256) | Bit/dim 1.9921(2.0539) | Steps 542(541.03) | Grad Norm 8.4247(6.8505) | Total Time 10.00(10.00)\n",
      "Iter 0619 | Time 50.1499(48.0893) | Bit/dim 1.9805(2.0517) | Steps 542(541.06) | Grad Norm 8.5624(6.9018) | Total Time 10.00(10.00)\n",
      "Iter 0620 | Time 50.0739(48.1489) | Bit/dim 2.0001(2.0502) | Steps 542(541.09) | Grad Norm 7.6844(6.9253) | Total Time 10.00(10.00)\n",
      "Iter 0621 | Time 48.5177(48.1599) | Bit/dim 1.9881(2.0483) | Steps 542(541.11) | Grad Norm 4.9377(6.8657) | Total Time 10.00(10.00)\n",
      "Iter 0622 | Time 46.4320(48.1081) | Bit/dim 1.9963(2.0468) | Steps 542(541.14) | Grad Norm 3.6441(6.7690) | Total Time 10.00(10.00)\n",
      "validating...\n",
      "Epoch 0089 | Time 13.3287, Epoch Time 370.1429, Bit/dim 2.0441\n"
     ]
    },
    {
     "name": "stdout",
     "output_type": "stream",
     "text": [
      "do _generate\n",
      "do _generate\n",
      "do _generatedo _generate\n",
      "do _generate\n",
      "\n",
      "do _generate\n",
      "do _generate\n",
      "do _generate\n"
     ]
    },
    {
     "name": "stderr",
     "output_type": "stream",
     "text": [
      "===> Using batch size 8000. Total 7 iterations/epoch.\n",
      "Iter 0623 | Time 48.8142(48.1293) | Bit/dim 1.9904(2.0451) | Steps 542(541.17) | Grad Norm 7.5708(6.7931) | Total Time 10.00(10.00)\n",
      "Iter 0624 | Time 50.8129(48.2098) | Bit/dim 2.0011(2.0437) | Steps 542(541.19) | Grad Norm 10.1633(6.8942) | Total Time 10.00(10.00)\n",
      "Iter 0625 | Time 50.0859(48.2661) | Bit/dim 1.9956(2.0423) | Steps 542(541.22) | Grad Norm 8.9060(6.9546) | Total Time 10.00(10.00)\n",
      "Iter 0626 | Time 49.4863(48.3027) | Bit/dim 1.9837(2.0405) | Steps 542(541.24) | Grad Norm 6.8749(6.9522) | Total Time 10.00(10.00)\n",
      "Iter 0627 | Time 50.2208(48.3602) | Bit/dim 1.9858(2.0389) | Steps 542(541.26) | Grad Norm 5.7583(6.9164) | Total Time 10.00(10.00)\n",
      "Iter 0628 | Time 47.4482(48.3329) | Bit/dim 1.9829(2.0372) | Steps 542(541.28) | Grad Norm 5.8207(6.8835) | Total Time 10.00(10.00)\n",
      "Iter 0629 | Time 45.8538(48.2585) | Bit/dim 1.9761(2.0354) | Steps 542(541.31) | Grad Norm 5.6901(6.8477) | Total Time 10.00(10.00)\n",
      "validating...\n",
      "Epoch 0090 | Time 12.3284, Epoch Time 369.6483, Bit/dim 2.0624\n"
     ]
    },
    {
     "name": "stdout",
     "output_type": "stream",
     "text": [
      "do _generate\n",
      "do _generate\n",
      "do _generate\n",
      "do _generate\n",
      "do _generate\n",
      "do _generate\n",
      "do _generate\n",
      "do _generate\n"
     ]
    },
    {
     "name": "stderr",
     "output_type": "stream",
     "text": [
      "===> Using batch size 8000. Total 7 iterations/epoch.\n",
      "Iter 0630 | Time 44.5699(48.1478) | Bit/dim 1.9725(2.0335) | Steps 542(541.33) | Grad Norm 6.2885(6.8309) | Total Time 10.00(10.00)\n",
      "Iter 0631 | Time 48.0678(48.1454) | Bit/dim 1.9726(2.0317) | Steps 542(541.35) | Grad Norm 7.7443(6.8583) | Total Time 10.00(10.00)\n",
      "Iter 0632 | Time 49.4827(48.1856) | Bit/dim 1.9751(2.0300) | Steps 542(541.37) | Grad Norm 9.0538(6.9242) | Total Time 10.00(10.00)\n",
      "Iter 0633 | Time 44.9007(48.0870) | Bit/dim 1.9824(2.0285) | Steps 542(541.38) | Grad Norm 5.8188(6.8910) | Total Time 10.00(10.00)\n",
      "Iter 0634 | Time 46.5998(48.0424) | Bit/dim 1.9764(2.0270) | Steps 542(541.40) | Grad Norm 10.2831(6.9928) | Total Time 10.00(10.00)\n",
      "Iter 0635 | Time 48.2154(48.0476) | Bit/dim 1.9999(2.0262) | Steps 542(541.42) | Grad Norm 11.2047(7.1191) | Total Time 10.00(10.00)\n",
      "Iter 0636 | Time 49.4267(48.0890) | Bit/dim 1.9709(2.0245) | Steps 542(541.44) | Grad Norm 8.9556(7.1742) | Total Time 10.00(10.00)\n",
      "validating...\n",
      "Epoch 0091 | Time 12.5832, Epoch Time 358.8031, Bit/dim 2.0120\n"
     ]
    },
    {
     "name": "stdout",
     "output_type": "stream",
     "text": [
      "do _generate\n",
      "do _generate\n",
      "do _generate\n",
      "do _generate\n",
      "do _generate\n",
      "do _generate\n",
      "do _generate\n",
      "do _generate\n"
     ]
    },
    {
     "name": "stderr",
     "output_type": "stream",
     "text": [
      "===> Using batch size 8000. Total 7 iterations/epoch.\n",
      "Iter 0637 | Time 47.0392(48.0575) | Bit/dim 1.9942(2.0236) | Steps 542(541.46) | Grad Norm 13.3804(7.3604) | Total Time 10.00(10.00)\n",
      "Iter 0638 | Time 47.6739(48.0460) | Bit/dim 2.0202(2.0235) | Steps 542(541.47) | Grad Norm 13.5606(7.5464) | Total Time 10.00(10.00)\n",
      "Iter 0639 | Time 48.9902(48.0743) | Bit/dim 1.9721(2.0220) | Steps 542(541.49) | Grad Norm 8.2161(7.5665) | Total Time 10.00(10.00)\n",
      "Iter 0640 | Time 48.9094(48.0993) | Bit/dim 2.0355(2.0224) | Steps 542(541.50) | Grad Norm 20.2878(7.9481) | Total Time 10.00(10.00)\n",
      "Iter 0641 | Time 49.8001(48.1504) | Bit/dim 2.0755(2.0240) | Steps 536(541.34) | Grad Norm 20.1958(8.3156) | Total Time 10.00(10.00)\n",
      "Iter 0642 | Time 50.6655(48.2258) | Bit/dim 1.9792(2.0226) | Steps 542(541.36) | Grad Norm 8.7792(8.3295) | Total Time 10.00(10.00)\n",
      "Iter 0643 | Time 48.0269(48.2198) | Bit/dim 2.0464(2.0233) | Steps 548(541.56) | Grad Norm 22.6709(8.7597) | Total Time 10.00(10.00)\n",
      "validating...\n",
      "Epoch 0092 | Time 12.5750, Epoch Time 368.1696, Bit/dim 1.9697\n"
     ]
    },
    {
     "name": "stdout",
     "output_type": "stream",
     "text": [
      "do _generate\n",
      "do _generate\n",
      "do _generate\n",
      "do _generate\n",
      "do _generate\n",
      "do _generate\n",
      "do _generate\n",
      "do _generate\n"
     ]
    },
    {
     "name": "stderr",
     "output_type": "stream",
     "text": [
      "===> Using batch size 8000. Total 7 iterations/epoch.\n",
      "Iter 0644 | Time 46.7569(48.1760) | Bit/dim 1.9894(2.0223) | Steps 536(541.39) | Grad Norm 10.4786(8.8113) | Total Time 10.00(10.00)\n",
      "Iter 0645 | Time 49.5246(48.2164) | Bit/dim 2.0198(2.0222) | Steps 536(541.23) | Grad Norm 17.1328(9.0609) | Total Time 10.00(10.00)\n",
      "Iter 0646 | Time 51.0877(48.3026) | Bit/dim 1.9556(2.0202) | Steps 542(541.25) | Grad Norm 8.3774(9.0404) | Total Time 10.00(10.00)\n",
      "Iter 0647 | Time 52.0231(48.4142) | Bit/dim 2.0360(2.0207) | Steps 548(541.45) | Grad Norm 22.2256(9.4360) | Total Time 10.00(10.00)\n",
      "Iter 0648 | Time 48.2802(48.4102) | Bit/dim 2.0245(2.0208) | Steps 536(541.29) | Grad Norm 17.5148(9.6783) | Total Time 10.00(10.00)\n",
      "Iter 0649 | Time 49.5224(48.4435) | Bit/dim 2.0230(2.0209) | Steps 536(541.13) | Grad Norm 16.2980(9.8769) | Total Time 10.00(10.00)\n",
      "Iter 0650 | Time 49.5352(48.4763) | Bit/dim 1.9981(2.0202) | Steps 542(541.16) | Grad Norm 15.5854(10.0482) | Total Time 10.00(10.00)\n",
      "validating...\n",
      "Epoch 0093 | Time 12.6392, Epoch Time 373.6216, Bit/dim 2.2094\n"
     ]
    },
    {
     "name": "stdout",
     "output_type": "stream",
     "text": [
      "do _generate\n",
      "do _generate\n",
      "do _generate\n",
      "do _generate\n",
      "do _generate\n",
      "do _generate\n",
      "do _generate\n",
      "do _generate\n"
     ]
    },
    {
     "name": "stderr",
     "output_type": "stream",
     "text": [
      "===> Using batch size 8000. Total 7 iterations/epoch.\n",
      "Iter 0651 | Time 48.9492(48.4905) | Bit/dim 2.0945(2.0224) | Steps 542(541.18) | Grad Norm 29.5197(10.6323) | Total Time 10.00(10.00)\n",
      "Iter 0652 | Time 49.8785(48.5321) | Bit/dim 2.0261(2.0225) | Steps 536(541.03) | Grad Norm 16.5559(10.8100) | Total Time 10.00(10.00)\n",
      "Iter 0653 | Time 48.6791(48.5365) | Bit/dim 2.0302(2.0228) | Steps 536(540.88) | Grad Norm 15.1862(10.9413) | Total Time 10.00(10.00)\n",
      "Iter 0654 | Time 50.1500(48.5849) | Bit/dim 2.0027(2.0222) | Steps 542(540.91) | Grad Norm 13.7085(11.0243) | Total Time 10.00(10.00)\n",
      "Iter 0655 | Time 49.0416(48.5986) | Bit/dim 1.9873(2.0211) | Steps 548(541.12) | Grad Norm 12.0268(11.0544) | Total Time 10.00(10.00)\n",
      "Iter 0656 | Time 49.0314(48.6116) | Bit/dim 2.0396(2.0217) | Steps 548(541.33) | Grad Norm 17.6292(11.2517) | Total Time 10.00(10.00)\n",
      "Iter 0657 | Time 46.1699(48.5384) | Bit/dim 1.9518(2.0196) | Steps 536(541.17) | Grad Norm 9.9301(11.2120) | Total Time 10.00(10.00)\n",
      "validating...\n",
      "Epoch 0094 | Time 13.1276, Epoch Time 369.7084, Bit/dim 1.9963\n"
     ]
    },
    {
     "name": "stdout",
     "output_type": "stream",
     "text": [
      "do _generate\n",
      "do _generate\n",
      "do _generate\n",
      "do _generatedo _generate\n",
      "\n",
      "do _generate\n",
      "do _generate\n",
      "do _generate\n"
     ]
    },
    {
     "name": "stderr",
     "output_type": "stream",
     "text": [
      "===> Using batch size 8000. Total 7 iterations/epoch.\n",
      "Iter 0658 | Time 50.2324(48.5892) | Bit/dim 2.0008(2.0190) | Steps 536(541.01) | Grad Norm 12.9963(11.2655) | Total Time 10.00(10.00)\n",
      "Iter 0659 | Time 49.8813(48.6279) | Bit/dim 1.9324(2.0164) | Steps 542(541.04) | Grad Norm 4.4917(11.0623) | Total Time 10.00(10.00)\n",
      "Iter 0660 | Time 48.8070(48.6333) | Bit/dim 2.0052(2.0161) | Steps 548(541.25) | Grad Norm 14.3907(11.1622) | Total Time 10.00(10.00)\n",
      "Iter 0661 | Time 49.3734(48.6555) | Bit/dim 1.9283(2.0135) | Steps 542(541.28) | Grad Norm 4.8339(10.9723) | Total Time 10.00(10.00)\n",
      "Iter 0662 | Time 45.5985(48.5638) | Bit/dim 1.9720(2.0122) | Steps 542(541.30) | Grad Norm 9.4791(10.9275) | Total Time 10.00(10.00)\n",
      "Iter 0663 | Time 44.3932(48.4387) | Bit/dim 1.9420(2.0101) | Steps 542(541.32) | Grad Norm 7.3395(10.8199) | Total Time 10.00(10.00)\n",
      "Iter 0664 | Time 46.1261(48.3693) | Bit/dim 1.9534(2.0084) | Steps 542(541.34) | Grad Norm 8.1273(10.7391) | Total Time 10.00(10.00)\n",
      "validating...\n",
      "Epoch 0095 | Time 12.4551, Epoch Time 361.4491, Bit/dim 2.0450\n"
     ]
    },
    {
     "name": "stdout",
     "output_type": "stream",
     "text": [
      "do _generate\n",
      "do _generate\n",
      "do _generate\n",
      "do _generate\n",
      "do _generate\n",
      "do _generate\n",
      "do _generatedo _generate\n",
      "\n"
     ]
    },
    {
     "name": "stderr",
     "output_type": "stream",
     "text": [
      "===> Using batch size 8000. Total 7 iterations/epoch.\n",
      "Iter 0665 | Time 48.4013(48.3703) | Bit/dim 1.9345(2.0062) | Steps 542(541.36) | Grad Norm 6.7497(10.6194) | Total Time 10.00(10.00)\n",
      "Iter 0666 | Time 46.0890(48.3018) | Bit/dim 1.9556(2.0047) | Steps 542(541.38) | Grad Norm 8.6560(10.5605) | Total Time 10.00(10.00)\n",
      "Iter 0667 | Time 47.9457(48.2911) | Bit/dim 1.9289(2.0024) | Steps 542(541.40) | Grad Norm 6.5075(10.4389) | Total Time 10.00(10.00)\n",
      "Iter 0668 | Time 47.4163(48.2649) | Bit/dim 1.9377(2.0004) | Steps 542(541.41) | Grad Norm 7.5100(10.3511) | Total Time 10.00(10.00)\n",
      "Iter 0669 | Time 49.5017(48.3020) | Bit/dim 1.9104(1.9977) | Steps 542(541.43) | Grad Norm 4.5986(10.1785) | Total Time 10.00(10.00)\n",
      "Iter 0670 | Time 52.1047(48.4161) | Bit/dim 1.9275(1.9956) | Steps 548(541.63) | Grad Norm 9.8932(10.1699) | Total Time 10.00(10.00)\n",
      "Iter 0671 | Time 47.1855(48.3792) | Bit/dim 1.9100(1.9931) | Steps 542(541.64) | Grad Norm 4.8744(10.0111) | Total Time 10.00(10.00)\n",
      "validating...\n",
      "Epoch 0096 | Time 13.0267, Epoch Time 366.1713, Bit/dim 1.9672\n"
     ]
    },
    {
     "name": "stdout",
     "output_type": "stream",
     "text": [
      "do _generate\n",
      "do _generate\n",
      "do _generate\n",
      "do _generate\n",
      "do _generate\n",
      "do _generate\n",
      "do _generate\n",
      "do _generate\n"
     ]
    },
    {
     "name": "stderr",
     "output_type": "stream",
     "text": [
      "===> Using batch size 8000. Total 7 iterations/epoch.\n",
      "Iter 0672 | Time 47.7614(48.3606) | Bit/dim 1.9233(1.9910) | Steps 542(541.65) | Grad Norm 6.6701(9.9108) | Total Time 10.00(10.00)\n",
      "Iter 0673 | Time 49.9279(48.4076) | Bit/dim 1.9052(1.9884) | Steps 542(541.66) | Grad Norm 5.9871(9.7931) | Total Time 10.00(10.00)\n",
      "Iter 0674 | Time 49.9729(48.4546) | Bit/dim 1.9038(1.9859) | Steps 542(541.67) | Grad Norm 2.7035(9.5804) | Total Time 10.00(10.00)\n",
      "Iter 0675 | Time 48.0805(48.4434) | Bit/dim 1.9167(1.9838) | Steps 542(541.68) | Grad Norm 6.4002(9.4850) | Total Time 10.00(10.00)\n",
      "Iter 0676 | Time 49.8926(48.4869) | Bit/dim 1.8967(1.9812) | Steps 542(541.69) | Grad Norm 2.9450(9.2888) | Total Time 10.00(10.00)\n",
      "Iter 0677 | Time 47.8809(48.4687) | Bit/dim 1.8918(1.9785) | Steps 542(541.70) | Grad Norm 4.3914(9.1419) | Total Time 10.00(10.00)\n",
      "Iter 0678 | Time 48.4888(48.4693) | Bit/dim 1.8952(1.9760) | Steps 542(541.71) | Grad Norm 4.4447(9.0010) | Total Time 10.00(10.00)\n",
      "validating...\n",
      "Epoch 0097 | Time 13.6218, Epoch Time 370.4528, Bit/dim 1.9817\n"
     ]
    },
    {
     "name": "stdout",
     "output_type": "stream",
     "text": [
      "do _generate\n",
      "do _generate\n",
      "do _generate\n",
      "do _generate\n",
      "do _generate\n",
      "do _generatedo _generate\n",
      "do _generate\n",
      "\n"
     ]
    },
    {
     "name": "stderr",
     "output_type": "stream",
     "text": [
      "===> Using batch size 8000. Total 7 iterations/epoch.\n",
      "Iter 0679 | Time 49.5681(48.5022) | Bit/dim 1.8932(1.9735) | Steps 542(541.72) | Grad Norm 4.5468(8.8674) | Total Time 10.00(10.00)\n",
      "Iter 0680 | Time 50.8174(48.5717) | Bit/dim 1.8888(1.9710) | Steps 554(542.09) | Grad Norm 5.9926(8.7811) | Total Time 10.00(10.00)\n",
      "Iter 0681 | Time 50.6317(48.6335) | Bit/dim 1.8802(1.9683) | Steps 548(542.26) | Grad Norm 3.9456(8.6361) | Total Time 10.00(10.00)\n",
      "Iter 0682 | Time 48.5213(48.6301) | Bit/dim 1.8752(1.9655) | Steps 542(542.26) | Grad Norm 4.0094(8.4973) | Total Time 10.00(10.00)\n",
      "Iter 0683 | Time 48.8121(48.6356) | Bit/dim 1.8683(1.9625) | Steps 542(542.25) | Grad Norm 4.4024(8.3744) | Total Time 10.00(10.00)\n",
      "Iter 0684 | Time 48.2630(48.6244) | Bit/dim 1.8744(1.9599) | Steps 548(542.42) | Grad Norm 2.6680(8.2032) | Total Time 10.00(10.00)\n",
      "Iter 0685 | Time 51.0819(48.6981) | Bit/dim 1.8781(1.9575) | Steps 548(542.59) | Grad Norm 5.8610(8.1330) | Total Time 10.00(10.00)\n",
      "validating...\n",
      "Epoch 0098 | Time 14.0680, Epoch Time 376.2794, Bit/dim 1.9726\n"
     ]
    },
    {
     "name": "stdout",
     "output_type": "stream",
     "text": [
      "do _generate\n",
      "do _generate\n",
      "do _generate\n",
      "do _generate\n",
      "do _generate\n",
      "do _generate\n",
      "do _generate\n",
      "do _generate\n"
     ]
    },
    {
     "name": "stderr",
     "output_type": "stream",
     "text": [
      "===> Using batch size 8000. Total 7 iterations/epoch.\n",
      "Iter 0686 | Time 50.6171(48.7557) | Bit/dim 1.8663(1.9547) | Steps 548(542.75) | Grad Norm 3.5078(7.9942) | Total Time 10.00(10.00)\n",
      "Iter 0687 | Time 49.4553(48.7767) | Bit/dim 1.8736(1.9523) | Steps 542(542.73) | Grad Norm 5.0454(7.9057) | Total Time 10.00(10.00)\n",
      "Iter 0688 | Time 50.7845(48.8369) | Bit/dim 1.8514(1.9493) | Steps 548(542.89) | Grad Norm 4.2060(7.7947) | Total Time 10.00(10.00)\n",
      "Iter 0689 | Time 50.2581(48.8796) | Bit/dim 1.8592(1.9466) | Steps 548(543.04) | Grad Norm 3.6623(7.6708) | Total Time 10.00(10.00)\n",
      "Iter 0690 | Time 49.7659(48.9062) | Bit/dim 1.8677(1.9442) | Steps 548(543.19) | Grad Norm 4.1046(7.5638) | Total Time 10.00(10.00)\n",
      "Iter 0691 | Time 48.2567(48.8867) | Bit/dim 1.8537(1.9415) | Steps 548(543.33) | Grad Norm 3.4070(7.4391) | Total Time 10.00(10.00)\n",
      "Iter 0692 | Time 50.2628(48.9280) | Bit/dim 1.8352(1.9383) | Steps 548(543.47) | Grad Norm 4.5388(7.3521) | Total Time 10.00(10.00)\n",
      "validating...\n",
      "Epoch 0099 | Time 13.5208, Epoch Time 377.4072, Bit/dim 1.9345\n"
     ]
    },
    {
     "name": "stdout",
     "output_type": "stream",
     "text": [
      "do _generate\n",
      "do _generatedo _generate\n",
      "\n",
      "do _generate\n",
      "do _generate\n",
      "do _generate\n",
      "do _generate\n",
      "do _generate\n"
     ]
    },
    {
     "name": "stderr",
     "output_type": "stream",
     "text": [
      "===> Using batch size 8000. Total 7 iterations/epoch.\n",
      "Iter 0693 | Time 51.8000(49.0141) | Bit/dim 1.8339(1.9352) | Steps 548(543.61) | Grad Norm 5.5750(7.2988) | Total Time 10.00(10.00)\n",
      "Iter 0694 | Time 49.4304(49.0266) | Bit/dim 1.8524(1.9327) | Steps 548(543.74) | Grad Norm 4.3713(7.2109) | Total Time 10.00(10.00)\n",
      "Iter 0695 | Time 50.1615(49.0607) | Bit/dim 1.8372(1.9298) | Steps 554(544.05) | Grad Norm 4.5162(7.1301) | Total Time 10.00(10.00)\n",
      "Iter 0696 | Time 47.6756(49.0191) | Bit/dim 1.8382(1.9271) | Steps 548(544.17) | Grad Norm 3.1665(7.0112) | Total Time 10.00(10.00)\n",
      "Iter 0697 | Time 48.5116(49.0039) | Bit/dim 1.8361(1.9243) | Steps 548(544.28) | Grad Norm 3.2298(6.8977) | Total Time 10.00(10.00)\n",
      "Iter 0698 | Time 51.0124(49.0641) | Bit/dim 1.8293(1.9215) | Steps 548(544.39) | Grad Norm 3.5423(6.7971) | Total Time 10.00(10.00)\n",
      "Iter 0699 | Time 50.2721(49.1004) | Bit/dim 1.8280(1.9187) | Steps 548(544.50) | Grad Norm 3.1229(6.6869) | Total Time 10.00(10.00)\n",
      "validating...\n",
      "Epoch 0100 | Time 13.8731, Epoch Time 377.3026, Bit/dim 1.9519\n"
     ]
    },
    {
     "name": "stdout",
     "output_type": "stream",
     "text": [
      "do _generate\n",
      "do _generate\n",
      "do _generate\n",
      "do _generate\n",
      "do _generate\n",
      "do _generate\n",
      "do _generate\n",
      "do _generate\n"
     ]
    },
    {
     "name": "stderr",
     "output_type": "stream",
     "text": [
      "===> Using batch size 8000. Total 7 iterations/epoch.\n",
      "Iter 0700 | Time 50.8023(49.1514) | Bit/dim 1.8152(1.9156) | Steps 548(544.61) | Grad Norm 3.8838(6.6028) | Total Time 10.00(10.00)\n",
      "Iter 0701 | Time 50.9454(49.2052) | Bit/dim 1.8241(1.9128) | Steps 548(544.71) | Grad Norm 6.2417(6.5919) | Total Time 10.00(10.00)\n",
      "Iter 0702 | Time 49.4140(49.2115) | Bit/dim 1.8069(1.9097) | Steps 548(544.81) | Grad Norm 3.9052(6.5113) | Total Time 10.00(10.00)\n",
      "Iter 0703 | Time 49.4852(49.2197) | Bit/dim 1.8275(1.9072) | Steps 548(544.90) | Grad Norm 5.3701(6.4771) | Total Time 10.00(10.00)\n",
      "Iter 0704 | Time 49.9545(49.2418) | Bit/dim 1.8097(1.9043) | Steps 548(545.00) | Grad Norm 6.5941(6.4806) | Total Time 10.00(10.00)\n",
      "Iter 0705 | Time 48.5811(49.2219) | Bit/dim 1.8235(1.9018) | Steps 554(545.27) | Grad Norm 4.4759(6.4205) | Total Time 10.00(10.00)\n",
      "Iter 0706 | Time 48.9907(49.2150) | Bit/dim 1.8063(1.8990) | Steps 548(545.35) | Grad Norm 7.4955(6.4527) | Total Time 10.00(10.00)\n",
      "validating...\n",
      "Epoch 0101 | Time 13.9200, Epoch Time 376.9520, Bit/dim 1.9198\n"
     ]
    },
    {
     "name": "stdout",
     "output_type": "stream",
     "text": [
      "do _generate\n",
      "do _generate\n",
      "do _generate\n",
      "do _generate\n",
      "do _generate\n",
      "do _generate\n",
      "do _generate\n",
      "do _generate\n"
     ]
    },
    {
     "name": "stderr",
     "output_type": "stream",
     "text": [
      "===> Using batch size 8000. Total 7 iterations/epoch.\n",
      "Iter 0707 | Time 50.4257(49.2513) | Bit/dim 1.8063(1.8962) | Steps 554(545.61) | Grad Norm 5.8039(6.4333) | Total Time 10.00(10.00)\n",
      "Iter 0708 | Time 50.1281(49.2776) | Bit/dim 1.7964(1.8932) | Steps 548(545.68) | Grad Norm 3.1417(6.3345) | Total Time 10.00(10.00)\n",
      "Iter 0709 | Time 49.1953(49.2752) | Bit/dim 1.7953(1.8903) | Steps 548(545.75) | Grad Norm 5.9369(6.3226) | Total Time 10.00(10.00)\n",
      "Iter 0710 | Time 50.9879(49.3265) | Bit/dim 1.7877(1.8872) | Steps 554(546.00) | Grad Norm 7.0587(6.3447) | Total Time 10.00(10.00)\n",
      "Iter 0711 | Time 49.8550(49.3424) | Bit/dim 1.7773(1.8839) | Steps 548(546.06) | Grad Norm 3.8908(6.2710) | Total Time 10.00(10.00)\n",
      "Iter 0712 | Time 49.9241(49.3598) | Bit/dim 1.7877(1.8810) | Steps 548(546.11) | Grad Norm 5.6721(6.2531) | Total Time 10.00(10.00)\n",
      "Iter 0713 | Time 50.2164(49.3855) | Bit/dim 1.7914(1.8783) | Steps 548(546.17) | Grad Norm 6.9112(6.2728) | Total Time 10.00(10.00)\n",
      "validating...\n",
      "Epoch 0102 | Time 13.5570, Epoch Time 378.5247, Bit/dim 1.8981\n"
     ]
    },
    {
     "name": "stdout",
     "output_type": "stream",
     "text": [
      "do _generate\n",
      "do _generate\n",
      "do _generate\n",
      "do _generate\n",
      "do _generate\n",
      "do _generate\n",
      "do _generate\n",
      "do _generate\n"
     ]
    },
    {
     "name": "stderr",
     "output_type": "stream",
     "text": [
      "===> Using batch size 8000. Total 7 iterations/epoch.\n",
      "Iter 0714 | Time 49.7949(49.3978) | Bit/dim 1.7775(1.8753) | Steps 548(546.23) | Grad Norm 5.1380(6.2388) | Total Time 10.00(10.00)\n",
      "Iter 0715 | Time 48.8282(49.3807) | Bit/dim 1.7741(1.8723) | Steps 548(546.28) | Grad Norm 4.0659(6.1736) | Total Time 10.00(10.00)\n",
      "Iter 0716 | Time 51.7829(49.4528) | Bit/dim 1.7744(1.8693) | Steps 554(546.51) | Grad Norm 8.8527(6.2540) | Total Time 10.00(10.00)\n",
      "Iter 0717 | Time 52.6859(49.5498) | Bit/dim 1.7590(1.8660) | Steps 548(546.56) | Grad Norm 8.5850(6.3239) | Total Time 10.00(10.00)\n",
      "Iter 0718 | Time 51.0386(49.5945) | Bit/dim 1.7491(1.8625) | Steps 554(546.78) | Grad Norm 4.3349(6.2642) | Total Time 10.00(10.00)\n",
      "Iter 0719 | Time 47.0307(49.5175) | Bit/dim 1.7580(1.8594) | Steps 548(546.82) | Grad Norm 6.3246(6.2660) | Total Time 10.00(10.00)\n",
      "Iter 0720 | Time 48.7060(49.4932) | Bit/dim 1.7684(1.8566) | Steps 548(546.85) | Grad Norm 7.0170(6.2886) | Total Time 10.00(10.00)\n",
      "validating...\n",
      "Epoch 0103 | Time 13.2163, Epoch Time 377.5906, Bit/dim 1.8727\n"
     ]
    },
    {
     "name": "stdout",
     "output_type": "stream",
     "text": [
      "do _generate\n",
      "do _generate\n",
      "do _generate\n",
      "do _generate\n",
      "do _generate\n",
      "do _generate\n",
      "do _generate\n",
      "do _generate\n"
     ]
    },
    {
     "name": "stderr",
     "output_type": "stream",
     "text": [
      "===> Using batch size 8000. Total 7 iterations/epoch.\n",
      "Iter 0721 | Time 46.9681(49.4174) | Bit/dim 1.7637(1.8538) | Steps 548(546.89) | Grad Norm 5.7151(6.2714) | Total Time 10.00(10.00)\n",
      "Iter 0722 | Time 49.9155(49.4324) | Bit/dim 1.7505(1.8507) | Steps 548(546.92) | Grad Norm 5.2432(6.2405) | Total Time 10.00(10.00)\n",
      "Iter 0723 | Time 50.6539(49.4690) | Bit/dim 1.7527(1.8478) | Steps 548(546.95) | Grad Norm 6.2035(6.2394) | Total Time 10.00(10.00)\n",
      "Iter 0724 | Time 48.3461(49.4353) | Bit/dim 1.7437(1.8447) | Steps 548(546.98) | Grad Norm 6.6717(6.2524) | Total Time 10.00(10.00)\n",
      "Iter 0725 | Time 49.3073(49.4315) | Bit/dim 1.7454(1.8417) | Steps 548(547.01) | Grad Norm 5.8686(6.2409) | Total Time 10.00(10.00)\n",
      "Iter 0726 | Time 50.3302(49.4585) | Bit/dim 1.7379(1.8386) | Steps 548(547.04) | Grad Norm 6.1396(6.2378) | Total Time 10.00(10.00)\n",
      "Iter 0727 | Time 51.5023(49.5198) | Bit/dim 1.7308(1.8354) | Steps 548(547.07) | Grad Norm 8.7418(6.3129) | Total Time 10.00(10.00)\n",
      "validating...\n",
      "Epoch 0104 | Time 12.6742, Epoch Time 374.1769, Bit/dim 1.9061\n"
     ]
    },
    {
     "name": "stdout",
     "output_type": "stream",
     "text": [
      "do _generate\n",
      "do _generate\n",
      "do _generate\n",
      "do _generate\n",
      "do _generate\n",
      "do _generate\n",
      "do _generate\n",
      "do _generate\n"
     ]
    },
    {
     "name": "stderr",
     "output_type": "stream",
     "text": [
      "===> Using batch size 8000. Total 7 iterations/epoch.\n",
      "Iter 0728 | Time 45.9437(49.4125) | Bit/dim 1.7401(1.8325) | Steps 554(547.28) | Grad Norm 8.7465(6.3859) | Total Time 10.00(10.00)\n",
      "Iter 0729 | Time 47.5182(49.3557) | Bit/dim 1.7304(1.8294) | Steps 548(547.30) | Grad Norm 8.7751(6.4576) | Total Time 10.00(10.00)\n",
      "Iter 0730 | Time 48.8558(49.3407) | Bit/dim 1.7403(1.8268) | Steps 548(547.32) | Grad Norm 7.3542(6.4845) | Total Time 10.00(10.00)\n",
      "Iter 0731 | Time 49.6884(49.3511) | Bit/dim 1.7205(1.8236) | Steps 548(547.34) | Grad Norm 4.7432(6.4323) | Total Time 10.00(10.00)\n",
      "Iter 0732 | Time 49.7993(49.3645) | Bit/dim 1.7297(1.8208) | Steps 548(547.36) | Grad Norm 5.3362(6.3994) | Total Time 10.00(10.00)\n",
      "Iter 0733 | Time 49.4340(49.3666) | Bit/dim 1.7219(1.8178) | Steps 548(547.38) | Grad Norm 6.8784(6.4138) | Total Time 10.00(10.00)\n",
      "Iter 0734 | Time 48.4714(49.3398) | Bit/dim 1.7138(1.8147) | Steps 548(547.40) | Grad Norm 8.8453(6.4867) | Total Time 10.00(10.00)\n",
      "validating...\n",
      "Epoch 0105 | Time 12.5852, Epoch Time 366.7792, Bit/dim 1.8476\n"
     ]
    },
    {
     "name": "stdout",
     "output_type": "stream",
     "text": [
      "do _generate\n",
      "do _generate\n",
      "do _generate\n",
      "do _generate\n",
      "do _generate\n",
      "do _generate\n",
      "do _generate\n",
      "do _generate\n"
     ]
    },
    {
     "name": "stderr",
     "output_type": "stream",
     "text": [
      "===> Using batch size 8000. Total 7 iterations/epoch.\n",
      "Iter 0735 | Time 47.5145(49.2850) | Bit/dim 1.7275(1.8121) | Steps 548(547.42) | Grad Norm 10.3028(6.6012) | Total Time 10.00(10.00)\n",
      "Iter 0736 | Time 46.5980(49.2044) | Bit/dim 1.7074(1.8089) | Steps 548(547.44) | Grad Norm 10.5142(6.7186) | Total Time 10.00(10.00)\n",
      "Iter 0737 | Time 47.5054(49.1534) | Bit/dim 1.7175(1.8062) | Steps 554(547.63) | Grad Norm 10.2178(6.8236) | Total Time 10.00(10.00)\n",
      "Iter 0738 | Time 48.4376(49.1320) | Bit/dim 1.7058(1.8032) | Steps 554(547.82) | Grad Norm 9.4363(6.9019) | Total Time 10.00(10.00)\n",
      "Iter 0739 | Time 50.6587(49.1778) | Bit/dim 1.7173(1.8006) | Steps 554(548.01) | Grad Norm 9.9053(6.9920) | Total Time 10.00(10.00)\n",
      "Iter 0740 | Time 48.6467(49.1618) | Bit/dim 1.7127(1.7980) | Steps 554(548.19) | Grad Norm 12.2650(7.1502) | Total Time 10.00(10.00)\n",
      "Iter 0741 | Time 47.6411(49.1162) | Bit/dim 1.7216(1.7957) | Steps 554(548.36) | Grad Norm 17.6295(7.4646) | Total Time 10.00(10.00)\n",
      "validating...\n",
      "Epoch 0106 | Time 13.0321, Epoch Time 364.6898, Bit/dim 1.9022\n"
     ]
    },
    {
     "name": "stdout",
     "output_type": "stream",
     "text": [
      "do _generate\n",
      "do _generate\n",
      "do _generate\n",
      "do _generate\n",
      "do _generate\n",
      "do _generate\n",
      "do _generate\n",
      "do _generate\n"
     ]
    },
    {
     "name": "stderr",
     "output_type": "stream",
     "text": [
      "===> Using batch size 8000. Total 7 iterations/epoch.\n",
      "Iter 0742 | Time 50.0272(49.1435) | Bit/dim 1.7329(1.7938) | Steps 560(548.71) | Grad Norm 22.0388(7.9018) | Total Time 10.00(10.00)\n",
      "Iter 0743 | Time 47.7981(49.1032) | Bit/dim 1.7784(1.7933) | Steps 548(548.69) | Grad Norm 23.9463(8.3832) | Total Time 10.00(10.00)\n",
      "Iter 0744 | Time 53.1994(49.2261) | Bit/dim 1.7346(1.7916) | Steps 560(549.03) | Grad Norm 22.4235(8.8044) | Total Time 10.00(10.00)\n",
      "Iter 0745 | Time 47.1460(49.1637) | Bit/dim 1.7253(1.7896) | Steps 554(549.18) | Grad Norm 17.9962(9.0801) | Total Time 10.00(10.00)\n",
      "Iter 0746 | Time 50.3389(49.1989) | Bit/dim 1.6974(1.7868) | Steps 554(549.32) | Grad Norm 7.5703(9.0348) | Total Time 10.00(10.00)\n",
      "Iter 0747 | Time 51.0633(49.2548) | Bit/dim 1.7100(1.7845) | Steps 560(549.64) | Grad Norm 11.7782(9.1171) | Total Time 10.00(10.00)\n",
      "Iter 0748 | Time 48.8169(49.2417) | Bit/dim 1.7029(1.7820) | Steps 554(549.77) | Grad Norm 16.3406(9.3338) | Total Time 10.00(10.00)\n",
      "validating...\n",
      "Epoch 0107 | Time 13.0726, Epoch Time 376.1410, Bit/dim 1.8425\n"
     ]
    },
    {
     "name": "stdout",
     "output_type": "stream",
     "text": [
      "do _generate\n",
      "do _generate\n",
      "do _generate\n",
      "do _generate\n",
      "do _generate\n",
      "do _generate\n",
      "do _generate\n",
      "do _generate\n"
     ]
    },
    {
     "name": "stderr",
     "output_type": "stream",
     "text": [
      "===> Using batch size 8000. Total 7 iterations/epoch.\n",
      "Iter 0749 | Time 50.5479(49.2809) | Bit/dim 1.6925(1.7794) | Steps 566(550.26) | Grad Norm 10.9356(9.3819) | Total Time 10.00(10.00)\n",
      "Iter 0750 | Time 46.6350(49.2015) | Bit/dim 1.6819(1.7764) | Steps 560(550.55) | Grad Norm 8.6654(9.3604) | Total Time 10.00(10.00)\n",
      "Iter 0751 | Time 49.1102(49.1988) | Bit/dim 1.7064(1.7743) | Steps 542(550.30) | Grad Norm 16.0116(9.5599) | Total Time 10.00(10.00)\n",
      "Iter 0752 | Time 50.6815(49.2433) | Bit/dim 1.6928(1.7719) | Steps 566(550.77) | Grad Norm 16.7934(9.7769) | Total Time 10.00(10.00)\n",
      "Iter 0753 | Time 51.5734(49.3132) | Bit/dim 1.6866(1.7693) | Steps 566(551.22) | Grad Norm 9.5117(9.7690) | Total Time 10.00(10.00)\n",
      "Iter 0754 | Time 49.2768(49.3121) | Bit/dim 1.6635(1.7662) | Steps 566(551.67) | Grad Norm 9.5369(9.7620) | Total Time 10.00(10.00)\n",
      "Iter 0755 | Time 50.2908(49.3414) | Bit/dim 1.6940(1.7640) | Steps 572(552.28) | Grad Norm 17.7633(10.0021) | Total Time 10.00(10.00)\n",
      "validating...\n",
      "Epoch 0108 | Time 12.7084, Epoch Time 375.4243, Bit/dim 1.7876\n"
     ]
    },
    {
     "name": "stdout",
     "output_type": "stream",
     "text": [
      "do _generate\n",
      "do _generate\n",
      "do _generate\n",
      "do _generate\n",
      "do _generate\n",
      "do _generate\n",
      "do _generate\n",
      "do _generate\n"
     ]
    },
    {
     "name": "stderr",
     "output_type": "stream",
     "text": [
      "===> Using batch size 8000. Total 7 iterations/epoch.\n",
      "Iter 0756 | Time 47.4756(49.2855) | Bit/dim 1.6915(1.7618) | Steps 542(551.97) | Grad Norm 12.2085(10.0683) | Total Time 10.00(10.00)\n",
      "Iter 0757 | Time 48.4267(49.2597) | Bit/dim 1.6421(1.7582) | Steps 542(551.67) | Grad Norm 5.1645(9.9211) | Total Time 10.00(10.00)\n",
      "Iter 0758 | Time 50.3709(49.2930) | Bit/dim 1.6797(1.7559) | Steps 566(552.10) | Grad Norm 13.6172(10.0320) | Total Time 10.00(10.00)\n",
      "Iter 0759 | Time 47.3459(49.2346) | Bit/dim 1.6765(1.7535) | Steps 560(552.34) | Grad Norm 10.9855(10.0606) | Total Time 10.00(10.00)\n",
      "Iter 0760 | Time 49.4486(49.2410) | Bit/dim 1.6544(1.7505) | Steps 572(552.93) | Grad Norm 6.8365(9.9639) | Total Time 10.00(10.00)\n",
      "Iter 0761 | Time 49.9467(49.2622) | Bit/dim 1.6786(1.7484) | Steps 572(553.50) | Grad Norm 11.0532(9.9966) | Total Time 10.00(10.00)\n",
      "Iter 0762 | Time 48.2738(49.2326) | Bit/dim 1.6683(1.7460) | Steps 566(553.87) | Grad Norm 11.8794(10.0531) | Total Time 10.00(10.00)\n",
      "validating...\n",
      "Epoch 0109 | Time 12.7798, Epoch Time 368.7653, Bit/dim 1.7884\n"
     ]
    },
    {
     "name": "stdout",
     "output_type": "stream",
     "text": [
      "do _generatedo _generate\n",
      "\n",
      "do _generate\n",
      "do _generate\n",
      "do _generate\n",
      "do _generate\n",
      "do _generate\n",
      "do _generate\n"
     ]
    },
    {
     "name": "stderr",
     "output_type": "stream",
     "text": [
      "===> Using batch size 8000. Total 7 iterations/epoch.\n",
      "Iter 0763 | Time 50.1388(49.2597) | Bit/dim 1.6541(1.7432) | Steps 566(554.24) | Grad Norm 7.1226(9.9652) | Total Time 10.00(10.00)\n",
      "Iter 0764 | Time 52.1110(49.3453) | Bit/dim 1.6541(1.7405) | Steps 566(554.59) | Grad Norm 8.1539(9.9108) | Total Time 10.00(10.00)\n",
      "Iter 0765 | Time 51.7918(49.4187) | Bit/dim 1.6428(1.7376) | Steps 566(554.93) | Grad Norm 9.9196(9.9111) | Total Time 10.00(10.00)\n",
      "Iter 0766 | Time 51.5658(49.4831) | Bit/dim 1.6651(1.7354) | Steps 572(555.45) | Grad Norm 9.8876(9.9104) | Total Time 10.00(10.00)\n",
      "Iter 0767 | Time 49.4023(49.4807) | Bit/dim 1.6534(1.7330) | Steps 566(555.76) | Grad Norm 6.8522(9.8186) | Total Time 10.00(10.00)\n",
      "Iter 0768 | Time 48.2111(49.4426) | Bit/dim 1.6477(1.7304) | Steps 566(556.07) | Grad Norm 4.5786(9.6614) | Total Time 10.00(10.00)\n",
      "Iter 0769 | Time 49.7917(49.4531) | Bit/dim 1.6427(1.7278) | Steps 572(556.55) | Grad Norm 6.3933(9.5634) | Total Time 10.00(10.00)\n",
      "validating...\n",
      "Epoch 0110 | Time 13.4580, Epoch Time 380.9036, Bit/dim 1.7673\n"
     ]
    },
    {
     "name": "stdout",
     "output_type": "stream",
     "text": [
      "do _generate\n",
      "do _generate\n",
      "do _generate\n",
      "do _generate\n",
      "do _generate\n",
      "do _generate\n",
      "do _generate\n",
      "do _generate\n"
     ]
    },
    {
     "name": "stderr",
     "output_type": "stream",
     "text": [
      "===> Using batch size 8000. Total 7 iterations/epoch.\n",
      "Iter 0770 | Time 47.7775(49.4028) | Bit/dim 1.6362(1.7250) | Steps 566(556.83) | Grad Norm 10.3149(9.5859) | Total Time 10.00(10.00)\n",
      "Iter 0771 | Time 50.9415(49.4490) | Bit/dim 1.6268(1.7221) | Steps 572(557.29) | Grad Norm 10.8107(9.6227) | Total Time 10.00(10.00)\n",
      "Iter 0772 | Time 50.7530(49.4881) | Bit/dim 1.6513(1.7200) | Steps 566(557.55) | Grad Norm 7.5753(9.5613) | Total Time 10.00(10.00)\n",
      "Iter 0773 | Time 52.2154(49.5699) | Bit/dim 1.6187(1.7169) | Steps 572(557.98) | Grad Norm 3.8790(9.3908) | Total Time 10.00(10.00)\n",
      "Iter 0774 | Time 50.7699(49.6059) | Bit/dim 1.6149(1.7139) | Steps 572(558.40) | Grad Norm 3.3843(9.2106) | Total Time 10.00(10.00)\n",
      "Iter 0775 | Time 50.5176(49.6332) | Bit/dim 1.6266(1.7112) | Steps 572(558.81) | Grad Norm 8.0629(9.1762) | Total Time 10.00(10.00)\n",
      "Iter 0776 | Time 51.4844(49.6888) | Bit/dim 1.6319(1.7089) | Steps 572(559.21) | Grad Norm 11.6212(9.2495) | Total Time 10.00(10.00)\n",
      "validating...\n",
      "Epoch 0111 | Time 13.2696, Epoch Time 382.1834, Bit/dim 1.7899\n"
     ]
    },
    {
     "name": "stdout",
     "output_type": "stream",
     "text": [
      "do _generate\n",
      "do _generate\n",
      "do _generate\n",
      "do _generate\n",
      "do _generate\n",
      "do _generate\n",
      "do _generate\n",
      "do _generate\n"
     ]
    },
    {
     "name": "stderr",
     "output_type": "stream",
     "text": [
      "===> Using batch size 8000. Total 7 iterations/epoch.\n",
      "Iter 0777 | Time 49.6394(49.6873) | Bit/dim 1.6346(1.7066) | Steps 572(559.59) | Grad Norm 11.9169(9.3295) | Total Time 10.00(10.00)\n",
      "Iter 0778 | Time 52.0787(49.7590) | Bit/dim 1.6198(1.7040) | Steps 572(559.96) | Grad Norm 9.4256(9.3324) | Total Time 10.00(10.00)\n",
      "Iter 0779 | Time 52.0931(49.8291) | Bit/dim 1.6152(1.7014) | Steps 578(560.50) | Grad Norm 6.3485(9.2429) | Total Time 10.00(10.00)\n",
      "Iter 0780 | Time 53.3904(49.9359) | Bit/dim 1.6150(1.6988) | Steps 572(560.85) | Grad Norm 3.9376(9.0837) | Total Time 10.00(10.00)\n",
      "Iter 0781 | Time 56.7911(50.1416) | Bit/dim 1.5980(1.6957) | Steps 578(561.36) | Grad Norm 3.1389(8.9054) | Total Time 10.00(10.00)\n",
      "Iter 0782 | Time 51.6226(50.1860) | Bit/dim 1.6065(1.6931) | Steps 578(561.86) | Grad Norm 4.1185(8.7618) | Total Time 10.00(10.00)\n",
      "Iter 0783 | Time 51.2234(50.2171) | Bit/dim 1.6054(1.6904) | Steps 578(562.35) | Grad Norm 5.6765(8.6692) | Total Time 10.00(10.00)\n",
      "validating...\n",
      "Epoch 0112 | Time 13.1197, Epoch Time 394.7172, Bit/dim 1.7752\n"
     ]
    },
    {
     "name": "stdout",
     "output_type": "stream",
     "text": [
      "do _generate\n",
      "do _generate\n",
      "do _generate\n",
      "do _generate\n",
      "do _generate\n",
      "do _generate\n",
      "do _generate\n",
      "do _generate\n"
     ]
    },
    {
     "name": "stderr",
     "output_type": "stream",
     "text": [
      "===> Using batch size 8000. Total 7 iterations/epoch.\n",
      "Iter 0784 | Time 51.2116(50.2469) | Bit/dim 1.6170(1.6882) | Steps 572(562.63) | Grad Norm 13.4861(8.8137) | Total Time 10.00(10.00)\n",
      "Iter 0785 | Time 48.5938(50.1973) | Bit/dim 1.6621(1.6875) | Steps 560(562.56) | Grad Norm 24.9727(9.2985) | Total Time 10.00(10.00)\n",
      "Iter 0786 | Time 52.9337(50.2794) | Bit/dim 1.7297(1.6887) | Steps 590(563.38) | Grad Norm 39.0789(10.1919) | Total Time 10.00(10.00)\n",
      "Iter 0787 | Time 49.0144(50.2415) | Bit/dim 1.8396(1.6932) | Steps 554(563.10) | Grad Norm 40.4587(11.0999) | Total Time 10.00(10.00)\n",
      "Iter 0788 | Time 54.0612(50.3561) | Bit/dim 1.6967(1.6934) | Steps 578(563.54) | Grad Norm 22.2199(11.4335) | Total Time 10.00(10.00)\n",
      "Iter 0789 | Time 53.2090(50.4417) | Bit/dim 1.9425(1.7008) | Steps 590(564.34) | Grad Norm 39.4108(12.2728) | Total Time 10.00(10.00)\n",
      "Iter 0790 | Time 49.9174(50.4259) | Bit/dim 2.2670(1.7178) | Steps 554(564.03) | Grad Norm 36.6637(13.0046) | Total Time 10.00(10.00)\n",
      "validating...\n",
      "Epoch 0113 | Time 13.8963, Epoch Time 387.2116, Bit/dim 1.6463\n"
     ]
    },
    {
     "name": "stdout",
     "output_type": "stream",
     "text": [
      "do _generate\n",
      "do _generate\n",
      "do _generate\n",
      "do _generate\n",
      "do _generate\n",
      "do _generate\n",
      "do _generate\n",
      "do _generate\n"
     ]
    },
    {
     "name": "stderr",
     "output_type": "stream",
     "text": [
      "===> Using batch size 8000. Total 7 iterations/epoch.\n",
      "Iter 0791 | Time 51.8066(50.4674) | Bit/dim 2.2822(1.7347) | Steps 560(563.91) | Grad Norm 37.2816(13.7329) | Total Time 10.00(10.00)\n",
      "Iter 0792 | Time 49.4678(50.4374) | Bit/dim 2.1556(1.7474) | Steps 542(563.25) | Grad Norm 24.4035(14.0530) | Total Time 10.00(10.00)\n",
      "Iter 0793 | Time 46.7536(50.3269) | Bit/dim 2.0695(1.7570) | Steps 548(562.79) | Grad Norm 14.4253(14.0642) | Total Time 10.00(10.00)\n",
      "Iter 0794 | Time 44.3565(50.1477) | Bit/dim 2.0419(1.7656) | Steps 542(562.17) | Grad Norm 19.5076(14.2275) | Total Time 10.00(10.00)\n",
      "Iter 0795 | Time 46.5019(50.0384) | Bit/dim 1.9186(1.7702) | Steps 548(561.74) | Grad Norm 9.5563(14.0873) | Total Time 10.00(10.00)\n",
      "Iter 0796 | Time 47.5800(49.9646) | Bit/dim 1.9904(1.7768) | Steps 554(561.51) | Grad Norm 9.8560(13.9604) | Total Time 10.00(10.00)\n",
      "Iter 0797 | Time 48.7182(49.9272) | Bit/dim 1.9664(1.7825) | Steps 542(560.93) | Grad Norm 9.3592(13.8224) | Total Time 10.00(10.00)\n",
      "validating...\n",
      "Epoch 0114 | Time 13.0469, Epoch Time 362.9557, Bit/dim 1.7307\n"
     ]
    },
    {
     "name": "stdout",
     "output_type": "stream",
     "text": [
      "do _generate\n",
      "do _generate\n",
      "do _generate\n",
      "do _generate\n",
      "do _generate\n",
      "do _generate\n",
      "do _generate\n",
      "do _generate\n"
     ]
    },
    {
     "name": "stderr",
     "output_type": "stream",
     "text": [
      "===> Using batch size 8000. Total 7 iterations/epoch.\n",
      "Iter 0798 | Time 47.0751(49.8417) | Bit/dim 1.8927(1.7858) | Steps 542(560.36) | Grad Norm 8.9090(13.6750) | Total Time 10.00(10.00)\n",
      "Iter 0799 | Time 51.2528(49.8840) | Bit/dim 1.8472(1.7876) | Steps 554(560.17) | Grad Norm 8.7455(13.5271) | Total Time 10.00(10.00)\n",
      "Iter 0800 | Time 49.7999(49.8815) | Bit/dim 1.8416(1.7892) | Steps 560(560.16) | Grad Norm 11.4717(13.4654) | Total Time 10.00(10.00)\n",
      "Iter 0801 | Time 50.5575(49.9018) | Bit/dim 1.8203(1.7902) | Steps 560(560.16) | Grad Norm 7.2687(13.2795) | Total Time 10.00(10.00)\n",
      "Iter 0802 | Time 49.6116(49.8930) | Bit/dim 1.8087(1.7907) | Steps 548(559.79) | Grad Norm 6.1166(13.0646) | Total Time 10.00(10.00)\n",
      "Iter 0803 | Time 50.2752(49.9045) | Bit/dim 1.8058(1.7912) | Steps 548(559.44) | Grad Norm 6.7806(12.8761) | Total Time 10.00(10.00)\n",
      "Iter 0804 | Time 48.7114(49.8687) | Bit/dim 1.7715(1.7906) | Steps 548(559.10) | Grad Norm 7.9379(12.7280) | Total Time 10.00(10.00)\n",
      "validating...\n",
      "Epoch 0115 | Time 13.5733, Epoch Time 375.3099, Bit/dim 1.7599\n"
     ]
    },
    {
     "name": "stdout",
     "output_type": "stream",
     "text": [
      "do _generate\n",
      "do _generate\n",
      "do _generate\n",
      "do _generate\n",
      "do _generate\n",
      "do _generate\n",
      "do _generate\n",
      "do _generate\n"
     ]
    },
    {
     "name": "stderr",
     "output_type": "stream",
     "text": [
      "===> Using batch size 8000. Total 7 iterations/epoch.\n",
      "Iter 0805 | Time 49.5639(49.8596) | Bit/dim 1.7447(1.7892) | Steps 560(559.12) | Grad Norm 4.4364(12.4792) | Total Time 10.00(10.00)\n",
      "Iter 0806 | Time 50.7726(49.8870) | Bit/dim 1.7520(1.7881) | Steps 554(558.97) | Grad Norm 9.7854(12.3984) | Total Time 10.00(10.00)\n",
      "Iter 0807 | Time 49.8405(49.8856) | Bit/dim 1.7434(1.7868) | Steps 566(559.18) | Grad Norm 4.8316(12.1714) | Total Time 10.00(10.00)\n",
      "Iter 0808 | Time 48.5435(49.8453) | Bit/dim 1.7179(1.7847) | Steps 554(559.03) | Grad Norm 3.9163(11.9237) | Total Time 10.00(10.00)\n",
      "Iter 0809 | Time 52.3120(49.9193) | Bit/dim 1.7277(1.7830) | Steps 554(558.87) | Grad Norm 5.2677(11.7241) | Total Time 10.00(10.00)\n",
      "Iter 0810 | Time 46.9420(49.8300) | Bit/dim 1.7173(1.7810) | Steps 560(558.91) | Grad Norm 3.9570(11.4910) | Total Time 10.00(10.00)\n",
      "Iter 0811 | Time 49.2875(49.8137) | Bit/dim 1.6990(1.7786) | Steps 560(558.94) | Grad Norm 7.2590(11.3641) | Total Time 10.00(10.00)\n",
      "validating...\n",
      "Epoch 0116 | Time 13.2217, Epoch Time 374.7267, Bit/dim 1.7565\n"
     ]
    },
    {
     "name": "stdout",
     "output_type": "stream",
     "text": [
      "do _generate\n",
      "do _generate\n",
      "do _generate\n",
      "do _generate\n",
      "do _generate\n",
      "do _generate\n",
      "do _generate\n",
      "do _generate\n"
     ]
    },
    {
     "name": "stderr",
     "output_type": "stream",
     "text": [
      "===> Using batch size 8000. Total 7 iterations/epoch.\n",
      "Iter 0812 | Time 51.8090(49.8736) | Bit/dim 1.6965(1.7761) | Steps 566(559.15) | Grad Norm 5.9347(11.2012) | Total Time 10.00(10.00)\n",
      "Iter 0813 | Time 51.1250(49.9111) | Bit/dim 1.6745(1.7730) | Steps 572(559.54) | Grad Norm 4.7284(11.0070) | Total Time 10.00(10.00)\n",
      "Iter 0814 | Time 48.5352(49.8698) | Bit/dim 1.6762(1.7701) | Steps 566(559.73) | Grad Norm 4.4031(10.8089) | Total Time 10.00(10.00)\n",
      "Iter 0815 | Time 49.2915(49.8525) | Bit/dim 1.6650(1.7670) | Steps 566(559.92) | Grad Norm 3.1645(10.5796) | Total Time 10.00(10.00)\n",
      "Iter 0816 | Time 48.6458(49.8163) | Bit/dim 1.6672(1.7640) | Steps 566(560.10) | Grad Norm 5.8961(10.4391) | Total Time 10.00(10.00)\n",
      "Iter 0817 | Time 50.7999(49.8458) | Bit/dim 1.6578(1.7608) | Steps 566(560.28) | Grad Norm 4.1408(10.2501) | Total Time 10.00(10.00)\n",
      "Iter 0818 | Time 51.6340(49.8994) | Bit/dim 1.6486(1.7574) | Steps 566(560.45) | Grad Norm 4.7862(10.0862) | Total Time 10.00(10.00)\n",
      "validating...\n",
      "Epoch 0117 | Time 12.6634, Epoch Time 379.0443, Bit/dim 1.7324\n"
     ]
    },
    {
     "name": "stdout",
     "output_type": "stream",
     "text": [
      "do _generate\n",
      "do _generate\n",
      "do _generate\n",
      "do _generate\n",
      "do _generatedo _generate\n",
      "\n",
      "do _generate\n",
      "do _generate\n"
     ]
    },
    {
     "name": "stderr",
     "output_type": "stream",
     "text": [
      "===> Using batch size 8000. Total 7 iterations/epoch.\n",
      "Iter 0819 | Time 51.0824(49.9349) | Bit/dim 1.6429(1.7540) | Steps 566(560.62) | Grad Norm 7.3993(10.0056) | Total Time 10.00(10.00)\n",
      "Iter 0820 | Time 50.1214(49.9405) | Bit/dim 1.6284(1.7502) | Steps 560(560.60) | Grad Norm 2.4792(9.7798) | Total Time 10.00(10.00)\n",
      "Iter 0821 | Time 49.3663(49.9233) | Bit/dim 1.6266(1.7465) | Steps 566(560.76) | Grad Norm 5.6023(9.6545) | Total Time 10.00(10.00)\n",
      "Iter 0822 | Time 50.4114(49.9379) | Bit/dim 1.6308(1.7431) | Steps 566(560.92) | Grad Norm 3.8406(9.4801) | Total Time 10.00(10.00)\n",
      "Iter 0823 | Time 51.5145(49.9852) | Bit/dim 1.6282(1.7396) | Steps 566(561.07) | Grad Norm 2.4269(9.2685) | Total Time 10.00(10.00)\n",
      "Iter 0824 | Time 50.7104(50.0070) | Bit/dim 1.6107(1.7357) | Steps 566(561.22) | Grad Norm 4.8045(9.1345) | Total Time 10.00(10.00)\n",
      "Iter 0825 | Time 49.9951(50.0066) | Bit/dim 1.6144(1.7321) | Steps 566(561.36) | Grad Norm 3.1136(8.9539) | Total Time 10.00(10.00)\n",
      "validating...\n",
      "Epoch 0118 | Time 13.2163, Epoch Time 380.9916, Bit/dim 1.7215\n"
     ]
    },
    {
     "name": "stdout",
     "output_type": "stream",
     "text": [
      "do _generate\n",
      "do _generate\n",
      "do _generate\n",
      "do _generate\n",
      "do _generate\n",
      "do _generate\n",
      "do _generate\n",
      "do _generate\n"
     ]
    },
    {
     "name": "stderr",
     "output_type": "stream",
     "text": [
      "===> Using batch size 8000. Total 7 iterations/epoch.\n",
      "Iter 0826 | Time 49.0346(49.9775) | Bit/dim 1.6092(1.7284) | Steps 572(561.68) | Grad Norm 2.4897(8.7600) | Total Time 10.00(10.00)\n",
      "Iter 0827 | Time 49.5859(49.9657) | Bit/dim 1.5930(1.7243) | Steps 572(561.99) | Grad Norm 2.4805(8.5716) | Total Time 10.00(10.00)\n",
      "Iter 0828 | Time 50.1352(49.9708) | Bit/dim 1.6136(1.7210) | Steps 572(562.29) | Grad Norm 2.1888(8.3801) | Total Time 10.00(10.00)\n",
      "Iter 0829 | Time 51.8344(50.0267) | Bit/dim 1.6020(1.7175) | Steps 572(562.58) | Grad Norm 1.9608(8.1875) | Total Time 10.00(10.00)\n",
      "Iter 0830 | Time 50.9371(50.0540) | Bit/dim 1.5984(1.7139) | Steps 572(562.86) | Grad Norm 2.3295(8.0118) | Total Time 10.00(10.00)\n",
      "Iter 0831 | Time 50.3524(50.0630) | Bit/dim 1.5907(1.7102) | Steps 572(563.14) | Grad Norm 2.9179(7.8590) | Total Time 10.00(10.00)\n",
      "Iter 0832 | Time 48.8963(50.0280) | Bit/dim 1.5810(1.7063) | Steps 572(563.40) | Grad Norm 3.5630(7.7301) | Total Time 10.00(10.00)\n",
      "validating...\n",
      "Epoch 0119 | Time 13.0175, Epoch Time 378.6110, Bit/dim 1.7399\n"
     ]
    },
    {
     "name": "stdout",
     "output_type": "stream",
     "text": [
      "do _generate\n",
      "do _generate\n",
      "do _generate\n",
      "do _generate\n",
      "do _generate\n",
      "do _generate\n",
      "do _generate\n",
      "do _generate\n"
     ]
    },
    {
     "name": "stderr",
     "output_type": "stream",
     "text": [
      "===> Using batch size 8000. Total 7 iterations/epoch.\n",
      "Iter 0833 | Time 50.3997(50.0391) | Bit/dim 1.5774(1.7024) | Steps 572(563.66) | Grad Norm 2.9682(7.5872) | Total Time 10.00(10.00)\n",
      "Iter 0834 | Time 52.7619(50.1208) | Bit/dim 1.5770(1.6987) | Steps 572(563.91) | Grad Norm 1.5641(7.4066) | Total Time 10.00(10.00)\n",
      "Iter 0835 | Time 50.9372(50.1453) | Bit/dim 1.5897(1.6954) | Steps 572(564.16) | Grad Norm 2.2138(7.2508) | Total Time 10.00(10.00)\n",
      "Iter 0836 | Time 49.5472(50.1274) | Bit/dim 1.5781(1.6919) | Steps 572(564.39) | Grad Norm 2.3806(7.1047) | Total Time 10.00(10.00)\n",
      "Iter 0837 | Time 49.2422(50.1008) | Bit/dim 1.5778(1.6885) | Steps 572(564.62) | Grad Norm 2.9874(6.9811) | Total Time 10.00(10.00)\n",
      "Iter 0838 | Time 49.3479(50.0782) | Bit/dim 1.5852(1.6854) | Steps 572(564.84) | Grad Norm 3.6962(6.8826) | Total Time 10.00(10.00)\n",
      "Iter 0839 | Time 51.2937(50.1147) | Bit/dim 1.5784(1.6822) | Steps 572(565.06) | Grad Norm 4.5658(6.8131) | Total Time 10.00(10.00)\n",
      "validating...\n",
      "Epoch 0120 | Time 12.9979, Epoch Time 380.8139, Bit/dim 1.7220\n"
     ]
    },
    {
     "name": "stdout",
     "output_type": "stream",
     "text": [
      "do _generate\n",
      "do _generate\n",
      "do _generate\n",
      "do _generate\n",
      "do _generate\n",
      "do _generate\n",
      "do _generate\n",
      "do _generate\n"
     ]
    },
    {
     "name": "stderr",
     "output_type": "stream",
     "text": [
      "===> Using batch size 8000. Total 7 iterations/epoch.\n",
      "Iter 0840 | Time 49.4172(50.0938) | Bit/dim 1.5950(1.6796) | Steps 572(565.26) | Grad Norm 4.3885(6.7404) | Total Time 10.00(10.00)\n",
      "Iter 0841 | Time 51.4916(50.1357) | Bit/dim 1.5614(1.6760) | Steps 572(565.47) | Grad Norm 1.7792(6.5915) | Total Time 10.00(10.00)\n",
      "Iter 0842 | Time 53.3366(50.2317) | Bit/dim 1.5737(1.6729) | Steps 572(565.66) | Grad Norm 2.3509(6.4643) | Total Time 10.00(10.00)\n",
      "Iter 0843 | Time 52.3966(50.2967) | Bit/dim 1.5606(1.6696) | Steps 572(565.85) | Grad Norm 2.4871(6.3450) | Total Time 10.00(10.00)\n",
      "Iter 0844 | Time 53.1842(50.3833) | Bit/dim 1.5600(1.6663) | Steps 572(566.04) | Grad Norm 2.1449(6.2190) | Total Time 10.00(10.00)\n",
      "Iter 0845 | Time 54.6200(50.5104) | Bit/dim 1.5479(1.6627) | Steps 572(566.22) | Grad Norm 1.5610(6.0792) | Total Time 10.00(10.00)\n",
      "Iter 0846 | Time 51.2813(50.5335) | Bit/dim 1.5604(1.6597) | Steps 572(566.39) | Grad Norm 1.6307(5.9458) | Total Time 10.00(10.00)\n",
      "validating...\n",
      "Epoch 0121 | Time 13.5740, Epoch Time 393.9206, Bit/dim 1.7209\n"
     ]
    },
    {
     "name": "stdout",
     "output_type": "stream",
     "text": [
      "do _generate\n",
      "do _generate\n",
      "do _generate\n",
      "do _generate\n",
      "do _generate\n",
      "do _generate\n",
      "do _generate\n",
      "do _generate\n"
     ]
    },
    {
     "name": "stderr",
     "output_type": "stream",
     "text": [
      "===> Using batch size 8000. Total 7 iterations/epoch.\n",
      "Iter 0847 | Time 52.2791(50.5859) | Bit/dim 1.5591(1.6566) | Steps 572(566.56) | Grad Norm 2.1559(5.8321) | Total Time 10.00(10.00)\n",
      "Iter 0848 | Time 49.1677(50.5433) | Bit/dim 1.5662(1.6539) | Steps 572(566.72) | Grad Norm 2.6378(5.7363) | Total Time 10.00(10.00)\n",
      "Iter 0849 | Time 53.0223(50.6177) | Bit/dim 1.5554(1.6510) | Steps 572(566.88) | Grad Norm 3.1850(5.6597) | Total Time 10.00(10.00)\n",
      "Iter 0850 | Time 51.3920(50.6409) | Bit/dim 1.5449(1.6478) | Steps 572(567.03) | Grad Norm 2.9143(5.5774) | Total Time 10.00(10.00)\n",
      "Iter 0851 | Time 52.0641(50.6836) | Bit/dim 1.5493(1.6448) | Steps 572(567.18) | Grad Norm 3.8248(5.5248) | Total Time 10.00(10.00)\n",
      "Iter 0852 | Time 53.6480(50.7726) | Bit/dim 1.5569(1.6422) | Steps 572(567.33) | Grad Norm 6.0226(5.5397) | Total Time 10.00(10.00)\n",
      "Iter 0853 | Time 52.4958(50.8243) | Bit/dim 1.5475(1.6394) | Steps 584(567.83) | Grad Norm 10.1080(5.6768) | Total Time 10.00(10.00)\n",
      "validating...\n",
      "Epoch 0122 | Time 13.6663, Epoch Time 392.2560, Bit/dim 1.7453\n"
     ]
    },
    {
     "name": "stdout",
     "output_type": "stream",
     "text": [
      "do _generate\n",
      "do _generate\n",
      "do _generate\n",
      "do _generate\n",
      "do _generate\n",
      "do _generate\n",
      "do _generate\n",
      "do _generate\n"
     ]
    },
    {
     "name": "stderr",
     "output_type": "stream",
     "text": [
      "===> Using batch size 8000. Total 7 iterations/epoch.\n",
      "Iter 0854 | Time 52.0850(50.8621) | Bit/dim 1.5691(1.6373) | Steps 572(567.95) | Grad Norm 18.5796(6.0639) | Total Time 10.00(10.00)\n",
      "Iter 0855 | Time 57.2753(51.0545) | Bit/dim 1.6176(1.6367) | Steps 596(568.79) | Grad Norm 33.0277(6.8728) | Total Time 10.00(10.00)\n",
      "Iter 0856 | Time 48.4325(50.9758) | Bit/dim 1.7829(1.6411) | Steps 554(568.35) | Grad Norm 50.1132(8.1700) | Total Time 10.00(10.00)\n",
      "Iter 0857 | Time 54.8012(51.0906) | Bit/dim 1.7681(1.6449) | Steps 596(569.18) | Grad Norm 46.7644(9.3278) | Total Time 10.00(10.00)\n",
      "Iter 0858 | Time 48.1055(51.0010) | Bit/dim 1.6198(1.6441) | Steps 566(569.08) | Grad Norm 16.1118(9.5313) | Total Time 10.00(10.00)\n",
      "Iter 0859 | Time 48.9942(50.9408) | Bit/dim 1.6377(1.6439) | Steps 566(568.99) | Grad Norm 20.4474(9.8588) | Total Time 10.00(10.00)\n",
      "Iter 0860 | Time 56.3717(51.1038) | Bit/dim 1.6343(1.6436) | Steps 596(569.80) | Grad Norm 23.2510(10.2606) | Total Time 10.00(10.00)\n",
      "validating...\n",
      "Epoch 0123 | Time 13.6268, Epoch Time 394.1591, Bit/dim 1.7321\n"
     ]
    },
    {
     "name": "stdout",
     "output_type": "stream",
     "text": [
      "do _generate\n",
      "do _generate\n",
      "do _generate\n",
      "do _generate\n",
      "do _generate\n",
      "do _generate\n",
      "do _generate\n",
      "do _generate\n"
     ]
    },
    {
     "name": "stderr",
     "output_type": "stream",
     "text": [
      "===> Using batch size 8000. Total 7 iterations/epoch.\n",
      "Iter 0861 | Time 52.2636(51.1385) | Bit/dim 1.5806(1.6417) | Steps 584(570.23) | Grad Norm 8.6061(10.2109) | Total Time 10.00(10.00)\n",
      "Iter 0862 | Time 46.7239(51.0061) | Bit/dim 1.6215(1.6411) | Steps 566(570.10) | Grad Norm 19.9308(10.5025) | Total Time 10.00(10.00)\n",
      "Iter 0863 | Time 48.7288(50.9378) | Bit/dim 1.5677(1.6389) | Steps 572(570.16) | Grad Norm 5.3587(10.3482) | Total Time 10.00(10.00)\n",
      "Iter 0864 | Time 53.8935(51.0265) | Bit/dim 1.6062(1.6379) | Steps 590(570.75) | Grad Norm 17.2566(10.5555) | Total Time 10.00(10.00)\n",
      "Iter 0865 | Time 51.9479(51.0541) | Bit/dim 1.5610(1.6356) | Steps 572(570.79) | Grad Norm 4.8762(10.3851) | Total Time 10.00(10.00)\n",
      "Iter 0866 | Time 50.0644(51.0244) | Bit/dim 1.5893(1.6342) | Steps 566(570.65) | Grad Norm 11.7477(10.4260) | Total Time 10.00(10.00)\n",
      "Iter 0867 | Time 49.2695(50.9718) | Bit/dim 1.5662(1.6322) | Steps 572(570.69) | Grad Norm 3.8646(10.2291) | Total Time 10.00(10.00)\n",
      "validating...\n",
      "Epoch 0124 | Time 13.1715, Epoch Time 380.6083, Bit/dim 1.7228\n"
     ]
    },
    {
     "name": "stdout",
     "output_type": "stream",
     "text": [
      "do _generate\n",
      "do _generate\n",
      "do _generate\n",
      "do _generate\n",
      "do _generate\n",
      "do _generate\n",
      "do _generate\n",
      "do _generate\n"
     ]
    },
    {
     "name": "stderr",
     "output_type": "stream",
     "text": [
      "===> Using batch size 8000. Total 7 iterations/epoch.\n",
      "Iter 0868 | Time 51.8943(50.9994) | Bit/dim 1.5781(1.6306) | Steps 578(570.91) | Grad Norm 10.7968(10.2462) | Total Time 10.00(10.00)\n",
      "Iter 0869 | Time 50.9254(50.9972) | Bit/dim 1.5733(1.6289) | Steps 572(570.94) | Grad Norm 5.2054(10.0949) | Total Time 10.00(10.00)\n",
      "Iter 0870 | Time 52.2446(51.0346) | Bit/dim 1.5651(1.6270) | Steps 566(570.79) | Grad Norm 9.4418(10.0753) | Total Time 10.00(10.00)\n",
      "Iter 0871 | Time 53.7369(51.1157) | Bit/dim 1.5609(1.6250) | Steps 572(570.83) | Grad Norm 5.2660(9.9311) | Total Time 10.00(10.00)\n",
      "Iter 0872 | Time 52.1864(51.1478) | Bit/dim 1.5506(1.6227) | Steps 572(570.86) | Grad Norm 8.6631(9.8930) | Total Time 10.00(10.00)\n",
      "Iter 0873 | Time 53.6204(51.2220) | Bit/dim 1.5642(1.6210) | Steps 572(570.90) | Grad Norm 4.9276(9.7441) | Total Time 10.00(10.00)\n",
      "Iter 0874 | Time 49.3407(51.1656) | Bit/dim 1.5549(1.6190) | Steps 566(570.75) | Grad Norm 8.4477(9.7052) | Total Time 10.00(10.00)\n",
      "validating...\n",
      "Epoch 0125 | Time 13.6565, Epoch Time 392.4388, Bit/dim 1.7265\n"
     ]
    },
    {
     "name": "stdout",
     "output_type": "stream",
     "text": [
      "do _generate\n",
      "do _generate\n",
      "do _generate\n",
      "do _generate\n",
      "do _generate\n",
      "do _generate\n",
      "do _generate\n",
      "do _generate\n"
     ]
    },
    {
     "name": "stderr",
     "output_type": "stream",
     "text": [
      "===> Using batch size 8000. Total 7 iterations/epoch.\n",
      "Iter 0875 | Time 51.2897(51.1693) | Bit/dim 1.5354(1.6165) | Steps 572(570.79) | Grad Norm 4.2155(9.5405) | Total Time 10.00(10.00)\n",
      "Iter 0876 | Time 51.3243(51.1739) | Bit/dim 1.5535(1.6146) | Steps 572(570.82) | Grad Norm 7.8778(9.4906) | Total Time 10.00(10.00)\n",
      "Iter 0877 | Time 51.6586(51.1885) | Bit/dim 1.5268(1.6120) | Steps 572(570.86) | Grad Norm 3.2715(9.3040) | Total Time 10.00(10.00)\n",
      "Iter 0878 | Time 50.4472(51.1662) | Bit/dim 1.5348(1.6097) | Steps 572(570.89) | Grad Norm 5.2400(9.1821) | Total Time 10.00(10.00)\n",
      "Iter 0879 | Time 50.1171(51.1348) | Bit/dim 1.5412(1.6076) | Steps 572(570.93) | Grad Norm 3.7969(9.0206) | Total Time 10.00(10.00)\n",
      "Iter 0880 | Time 50.5367(51.1168) | Bit/dim 1.5465(1.6058) | Steps 572(570.96) | Grad Norm 4.7940(8.8938) | Total Time 10.00(10.00)\n",
      "Iter 0881 | Time 49.5559(51.0700) | Bit/dim 1.5365(1.6037) | Steps 572(570.99) | Grad Norm 3.2888(8.7256) | Total Time 10.00(10.00)\n",
      "validating...\n",
      "Epoch 0126 | Time 12.8861, Epoch Time 382.3925, Bit/dim 1.7415\n"
     ]
    },
    {
     "name": "stdout",
     "output_type": "stream",
     "text": [
      "do _generate\n",
      "do _generate\n",
      "do _generate\n",
      "do _generate\n",
      "do _generate\n",
      "do _generate\n",
      "do _generate\n",
      "do _generate\n"
     ]
    },
    {
     "name": "stderr",
     "output_type": "stream",
     "text": [
      "===> Using batch size 8000. Total 7 iterations/epoch.\n",
      "Iter 0882 | Time 51.1625(51.0728) | Bit/dim 1.5381(1.6017) | Steps 572(571.02) | Grad Norm 5.1236(8.6175) | Total Time 10.00(10.00)\n",
      "Iter 0883 | Time 50.6609(51.0604) | Bit/dim 1.5248(1.5994) | Steps 572(571.05) | Grad Norm 2.7158(8.4405) | Total Time 10.00(10.00)\n",
      "Iter 0884 | Time 51.0121(51.0590) | Bit/dim 1.5350(1.5975) | Steps 584(571.44) | Grad Norm 4.2841(8.3158) | Total Time 10.00(10.00)\n",
      "Iter 0885 | Time 49.7229(51.0189) | Bit/dim 1.5228(1.5952) | Steps 572(571.45) | Grad Norm 3.2254(8.1631) | Total Time 10.00(10.00)\n",
      "Iter 0886 | Time 50.5672(51.0053) | Bit/dim 1.5273(1.5932) | Steps 572(571.47) | Grad Norm 3.1024(8.0113) | Total Time 10.00(10.00)\n",
      "Iter 0887 | Time 52.4405(51.0484) | Bit/dim 1.5220(1.5911) | Steps 584(571.85) | Grad Norm 2.6284(7.8498) | Total Time 10.00(10.00)\n",
      "Iter 0888 | Time 54.7175(51.1585) | Bit/dim 1.5342(1.5894) | Steps 584(572.21) | Grad Norm 3.8316(7.7292) | Total Time 10.00(10.00)\n",
      "validating...\n",
      "Epoch 0127 | Time 13.7814, Epoch Time 388.6253, Bit/dim 1.7078\n"
     ]
    },
    {
     "name": "stdout",
     "output_type": "stream",
     "text": [
      "do _generate\n",
      "do _generate\n",
      "do _generate\n",
      "do _generate\n",
      "do _generate\n",
      "do _generate\n",
      "do _generate\n",
      "do _generate\n"
     ]
    },
    {
     "name": "stderr",
     "output_type": "stream",
     "text": [
      "===> Using batch size 8000. Total 7 iterations/epoch.\n",
      "Iter 0889 | Time 51.1910(51.1594) | Bit/dim 1.5231(1.5874) | Steps 572(572.21) | Grad Norm 4.5621(7.6342) | Total Time 10.00(10.00)\n",
      "Iter 0890 | Time 50.8859(51.1512) | Bit/dim 1.5242(1.5855) | Steps 572(572.20) | Grad Norm 2.7847(7.4887) | Total Time 10.00(10.00)\n",
      "Iter 0891 | Time 52.7261(51.1985) | Bit/dim 1.5295(1.5838) | Steps 584(572.55) | Grad Norm 4.3586(7.3948) | Total Time 10.00(10.00)\n",
      "Iter 0892 | Time 52.6850(51.2431) | Bit/dim 1.5207(1.5819) | Steps 572(572.54) | Grad Norm 3.0772(7.2653) | Total Time 10.00(10.00)\n",
      "Iter 0893 | Time 54.4586(51.3395) | Bit/dim 1.5126(1.5798) | Steps 572(572.52) | Grad Norm 3.1050(7.1405) | Total Time 10.00(10.00)\n",
      "Iter 0894 | Time 53.6016(51.4074) | Bit/dim 1.5268(1.5782) | Steps 596(573.22) | Grad Norm 6.0376(7.1074) | Total Time 10.00(10.00)\n",
      "Iter 0895 | Time 50.4423(51.3784) | Bit/dim 1.5177(1.5764) | Steps 572(573.19) | Grad Norm 4.7811(7.0376) | Total Time 10.00(10.00)\n",
      "validating...\n",
      "Epoch 0128 | Time 13.5707, Epoch Time 393.9788, Bit/dim 1.7016\n"
     ]
    },
    {
     "name": "stdout",
     "output_type": "stream",
     "text": [
      "do _generate\n",
      "do _generate\n",
      "do _generate\n",
      "do _generate\n",
      "do _generate\n",
      "do _generate\n",
      "do _generate\n",
      "do _generate\n"
     ]
    },
    {
     "name": "stderr",
     "output_type": "stream",
     "text": [
      "===> Using batch size 8000. Total 7 iterations/epoch.\n",
      "Iter 0896 | Time 51.5791(51.3845) | Bit/dim 1.5203(1.5747) | Steps 584(573.51) | Grad Norm 3.0461(6.9179) | Total Time 10.00(10.00)\n",
      "Iter 0897 | Time 53.3317(51.4429) | Bit/dim 1.5264(1.5733) | Steps 596(574.19) | Grad Norm 5.9844(6.8899) | Total Time 10.00(10.00)\n",
      "Iter 0898 | Time 50.5685(51.4167) | Bit/dim 1.5106(1.5714) | Steps 572(574.12) | Grad Norm 5.2747(6.8414) | Total Time 10.00(10.00)\n",
      "Iter 0899 | Time 53.7658(51.4871) | Bit/dim 1.5031(1.5694) | Steps 596(574.78) | Grad Norm 3.2845(6.7347) | Total Time 10.00(10.00)\n",
      "Iter 0900 | Time 55.0610(51.5943) | Bit/dim 1.5042(1.5674) | Steps 584(575.05) | Grad Norm 2.4550(6.6063) | Total Time 10.00(10.00)\n",
      "Iter 0901 | Time 53.8384(51.6617) | Bit/dim 1.5137(1.5658) | Steps 572(574.96) | Grad Norm 3.3201(6.5077) | Total Time 10.00(10.00)\n",
      "Iter 0902 | Time 53.5171(51.7173) | Bit/dim 1.5169(1.5643) | Steps 584(575.23) | Grad Norm 3.6122(6.4209) | Total Time 10.00(10.00)\n",
      "validating...\n",
      "Epoch 0129 | Time 14.2033, Epoch Time 400.1352, Bit/dim 1.7210\n"
     ]
    },
    {
     "name": "stdout",
     "output_type": "stream",
     "text": [
      "do _generate\n",
      "do _generate\n",
      "do _generate\n",
      "do _generate\n",
      "do _generate\n",
      "do _generate\n",
      "do _generate\n",
      "do _generate\n"
     ]
    },
    {
     "name": "stderr",
     "output_type": "stream",
     "text": [
      "===> Using batch size 8000. Total 7 iterations/epoch.\n",
      "Iter 0903 | Time 55.4360(51.8289) | Bit/dim 1.5115(1.5627) | Steps 584(575.50) | Grad Norm 4.7422(6.3705) | Total Time 10.00(10.00)\n",
      "Iter 0904 | Time 51.8091(51.8283) | Bit/dim 1.4987(1.5608) | Steps 596(576.11) | Grad Norm 4.8400(6.3246) | Total Time 10.00(10.00)\n",
      "Iter 0905 | Time 52.1272(51.8373) | Bit/dim 1.5076(1.5592) | Steps 572(575.99) | Grad Norm 2.5720(6.2120) | Total Time 10.00(10.00)\n",
      "Iter 0906 | Time 50.3685(51.7932) | Bit/dim 1.5101(1.5577) | Steps 572(575.87) | Grad Norm 3.5420(6.1319) | Total Time 10.00(10.00)\n",
      "Iter 0907 | Time 56.0265(51.9202) | Bit/dim 1.5113(1.5564) | Steps 596(576.47) | Grad Norm 7.5585(6.1747) | Total Time 10.00(10.00)\n",
      "Iter 0908 | Time 51.1724(51.8978) | Bit/dim 1.5073(1.5549) | Steps 572(576.34) | Grad Norm 10.5303(6.3054) | Total Time 10.00(10.00)\n",
      "Iter 0909 | Time 55.5402(52.0070) | Bit/dim 1.5227(1.5539) | Steps 596(576.93) | Grad Norm 12.1960(6.4821) | Total Time 10.00(10.00)\n",
      "validating...\n",
      "Epoch 0130 | Time 14.6349, Epoch Time 401.6059, Bit/dim 1.7148\n"
     ]
    },
    {
     "name": "stdout",
     "output_type": "stream",
     "text": [
      "do _generate\n",
      "do _generate\n",
      "do _generate\n",
      "do _generate\n",
      "do _generate\n",
      "do _generate\n",
      "do _generate\n",
      "do _generate\n"
     ]
    },
    {
     "name": "stderr",
     "output_type": "stream",
     "text": [
      "===> Using batch size 8000. Total 7 iterations/epoch.\n",
      "Iter 0910 | Time 52.4564(52.0205) | Bit/dim 1.5027(1.5524) | Steps 572(576.78) | Grad Norm 11.8532(6.6432) | Total Time 10.00(10.00)\n",
      "Iter 0911 | Time 54.1553(52.0846) | Bit/dim 1.4992(1.5508) | Steps 596(577.36) | Grad Norm 8.1011(6.6870) | Total Time 10.00(10.00)\n",
      "Iter 0912 | Time 54.0658(52.1440) | Bit/dim 1.4922(1.5490) | Steps 584(577.56) | Grad Norm 3.3763(6.5876) | Total Time 10.00(10.00)\n",
      "Iter 0913 | Time 51.4824(52.1242) | Bit/dim 1.4926(1.5473) | Steps 584(577.75) | Grad Norm 2.5205(6.4656) | Total Time 10.00(10.00)\n",
      "Iter 0914 | Time 53.9677(52.1795) | Bit/dim 1.5059(1.5461) | Steps 584(577.94) | Grad Norm 4.5029(6.4068) | Total Time 10.00(10.00)\n",
      "Iter 0915 | Time 53.3440(52.2144) | Bit/dim 1.5008(1.5447) | Steps 572(577.76) | Grad Norm 7.8806(6.4510) | Total Time 10.00(10.00)\n",
      "Iter 0916 | Time 56.8259(52.3527) | Bit/dim 1.5089(1.5437) | Steps 596(578.31) | Grad Norm 11.3639(6.5984) | Total Time 10.00(10.00)\n",
      "validating...\n",
      "Epoch 0131 | Time 14.4446, Epoch Time 405.1640, Bit/dim 1.7349\n"
     ]
    },
    {
     "name": "stdout",
     "output_type": "stream",
     "text": [
      "do _generate\n",
      "do _generate\n",
      "do _generate\n",
      "do _generate\n",
      "do _generate\n",
      "do _generate\n",
      "do _generate\n",
      "do _generate\n"
     ]
    },
    {
     "name": "stderr",
     "output_type": "stream",
     "text": [
      "===> Using batch size 8000. Total 7 iterations/epoch.\n",
      "Iter 0917 | Time 51.5543(52.3288) | Bit/dim 1.5080(1.5426) | Steps 572(578.12) | Grad Norm 13.7547(6.8130) | Total Time 10.00(10.00)\n",
      "Iter 0918 | Time 53.3891(52.3606) | Bit/dim 1.5023(1.5414) | Steps 596(578.65) | Grad Norm 14.2810(7.0371) | Total Time 10.00(10.00)\n",
      "Iter 0919 | Time 51.7713(52.3429) | Bit/dim 1.5061(1.5403) | Steps 572(578.45) | Grad Norm 13.5841(7.2335) | Total Time 10.00(10.00)\n",
      "Iter 0920 | Time 50.2466(52.2800) | Bit/dim 1.5063(1.5393) | Steps 596(578.98) | Grad Norm 11.7524(7.3691) | Total Time 10.00(10.00)\n",
      "Iter 0921 | Time 48.4168(52.1641) | Bit/dim 1.4997(1.5381) | Steps 572(578.77) | Grad Norm 7.2661(7.3660) | Total Time 10.00(10.00)\n",
      "Iter 0922 | Time 50.8538(52.1248) | Bit/dim 1.4928(1.5368) | Steps 584(578.93) | Grad Norm 2.7459(7.2274) | Total Time 10.00(10.00)\n",
      "Iter 0923 | Time 54.7172(52.2026) | Bit/dim 1.4855(1.5352) | Steps 596(579.44) | Grad Norm 3.0348(7.1016) | Total Time 10.00(10.00)\n",
      "validating...\n",
      "Epoch 0132 | Time 13.6246, Epoch Time 388.9470, Bit/dim 1.7317\n"
     ]
    },
    {
     "name": "stdout",
     "output_type": "stream",
     "text": [
      "do _generate\n",
      "do _generate\n",
      "do _generate\n",
      "do _generate\n",
      "do _generate\n",
      "do _generate\n",
      "do _generate\n",
      "do _generate\n"
     ]
    },
    {
     "name": "stderr",
     "output_type": "stream",
     "text": [
      "===> Using batch size 8000. Total 7 iterations/epoch.\n",
      "Iter 0924 | Time 50.3153(52.1460) | Bit/dim 1.5016(1.5342) | Steps 572(579.22) | Grad Norm 7.6583(7.1183) | Total Time 10.00(10.00)\n",
      "Iter 0925 | Time 51.6607(52.1314) | Bit/dim 1.5003(1.5332) | Steps 602(579.90) | Grad Norm 12.8149(7.2892) | Total Time 10.00(10.00)\n",
      "Iter 0926 | Time 50.3887(52.0791) | Bit/dim 1.5081(1.5324) | Steps 572(579.66) | Grad Norm 15.4738(7.5347) | Total Time 10.00(10.00)\n",
      "Iter 0927 | Time 53.7869(52.1304) | Bit/dim 1.5103(1.5318) | Steps 602(580.33) | Grad Norm 18.9070(7.8759) | Total Time 10.00(10.00)\n",
      "Iter 0928 | Time 51.0942(52.0993) | Bit/dim 1.5423(1.5321) | Steps 572(580.08) | Grad Norm 22.5775(8.3169) | Total Time 10.00(10.00)\n",
      "Iter 0929 | Time 57.0101(52.2466) | Bit/dim 1.5158(1.5316) | Steps 608(580.92) | Grad Norm 20.5453(8.6838) | Total Time 10.00(10.00)\n",
      "Iter 0930 | Time 51.0831(52.2117) | Bit/dim 1.5019(1.5307) | Steps 578(580.83) | Grad Norm 13.0107(8.8136) | Total Time 10.00(10.00)\n",
      "validating...\n",
      "Epoch 0133 | Time 14.6204, Epoch Time 394.4168, Bit/dim 1.7160\n"
     ]
    },
    {
     "name": "stdout",
     "output_type": "stream",
     "text": [
      "do _generate\n",
      "do _generate\n",
      "do _generate\n",
      "do _generate\n",
      "do _generate\n",
      "do _generate\n",
      "do _generate\n",
      "do _generate\n"
     ]
    },
    {
     "name": "stderr",
     "output_type": "stream",
     "text": [
      "===> Using batch size 8000. Total 7 iterations/epoch.\n",
      "Iter 0931 | Time 56.5152(52.3408) | Bit/dim 1.4782(1.5291) | Steps 602(581.47) | Grad Norm 2.4947(8.6240) | Total Time 10.00(10.00)\n",
      "Iter 0932 | Time 55.1181(52.4241) | Bit/dim 1.4986(1.5282) | Steps 602(582.08) | Grad Norm 13.1013(8.7584) | Total Time 10.00(10.00)\n",
      "Iter 0933 | Time 53.4623(52.4553) | Bit/dim 1.5331(1.5284) | Steps 572(581.78) | Grad Norm 21.5013(9.1406) | Total Time 10.00(10.00)\n",
      "Iter 0934 | Time 54.5983(52.5196) | Bit/dim 1.5148(1.5280) | Steps 608(582.57) | Grad Norm 21.8852(9.5230) | Total Time 10.00(10.00)\n",
      "Iter 0935 | Time 51.9977(52.5039) | Bit/dim 1.5100(1.5274) | Steps 572(582.25) | Grad Norm 15.1630(9.6922) | Total Time 10.00(10.00)\n",
      "Iter 0936 | Time 55.4929(52.5936) | Bit/dim 1.4945(1.5264) | Steps 602(582.84) | Grad Norm 3.3832(9.5029) | Total Time 10.00(10.00)\n",
      "Iter 0937 | Time 57.2991(52.7347) | Bit/dim 1.4957(1.5255) | Steps 602(583.42) | Grad Norm 12.6020(9.5959) | Total Time 10.00(10.00)\n",
      "validating...\n",
      "Epoch 0134 | Time 13.7103, Epoch Time 412.4768, Bit/dim 1.7346\n"
     ]
    },
    {
     "name": "stdout",
     "output_type": "stream",
     "text": [
      "do _generate\n",
      "do _generate\n",
      "do _generate\n",
      "do _generate\n",
      "do _generate\n",
      "do _generate\n",
      "do _generate\n",
      "do _generate\n"
     ]
    },
    {
     "name": "stderr",
     "output_type": "stream",
     "text": [
      "===> Using batch size 8000. Total 7 iterations/epoch.\n",
      "Iter 0938 | Time 51.8275(52.7075) | Bit/dim 1.5094(1.5250) | Steps 578(583.26) | Grad Norm 16.3711(9.7991) | Total Time 10.00(10.00)\n",
      "Iter 0939 | Time 54.8511(52.7718) | Bit/dim 1.5073(1.5245) | Steps 602(583.82) | Grad Norm 10.9445(9.8335) | Total Time 10.00(10.00)\n",
      "Iter 0940 | Time 52.1492(52.7532) | Bit/dim 1.4777(1.5231) | Steps 602(584.36) | Grad Norm 2.9806(9.6279) | Total Time 10.00(10.00)\n",
      "Iter 0941 | Time 51.5856(52.7181) | Bit/dim 1.4879(1.5220) | Steps 578(584.17) | Grad Norm 7.9169(9.5766) | Total Time 10.00(10.00)\n",
      "Iter 0942 | Time 53.8915(52.7533) | Bit/dim 1.4801(1.5208) | Steps 602(584.71) | Grad Norm 10.1656(9.5942) | Total Time 10.00(10.00)\n",
      "Iter 0943 | Time 53.3223(52.7704) | Bit/dim 1.4893(1.5198) | Steps 578(584.51) | Grad Norm 6.5615(9.5033) | Total Time 10.00(10.00)\n",
      "Iter 0944 | Time 55.0078(52.8375) | Bit/dim 1.4787(1.5186) | Steps 590(584.67) | Grad Norm 3.3296(9.3181) | Total Time 10.00(10.00)\n",
      "validating...\n",
      "Epoch 0135 | Time 15.9179, Epoch Time 403.0614, Bit/dim 1.7395\n"
     ]
    },
    {
     "name": "stdout",
     "output_type": "stream",
     "text": [
      "do _generate\n",
      "do _generate\n",
      "do _generate\n",
      "do _generate\n",
      "do _generate\n",
      "do _generate\n",
      "do _generate\n",
      "do _generate\n"
     ]
    },
    {
     "name": "stderr",
     "output_type": "stream",
     "text": [
      "===> Using batch size 8000. Total 7 iterations/epoch.\n",
      "Iter 0945 | Time 54.5230(52.8881) | Bit/dim 1.4811(1.5175) | Steps 602(585.19) | Grad Norm 8.9014(9.3056) | Total Time 10.00(10.00)\n",
      "Iter 0946 | Time 53.4589(52.9052) | Bit/dim 1.4896(1.5166) | Steps 578(584.98) | Grad Norm 10.9326(9.3544) | Total Time 10.00(10.00)\n",
      "Iter 0947 | Time 55.8296(52.9929) | Bit/dim 1.4943(1.5160) | Steps 602(585.49) | Grad Norm 8.6961(9.3346) | Total Time 10.00(10.00)\n",
      "Iter 0948 | Time 54.3549(53.0338) | Bit/dim 1.4839(1.5150) | Steps 590(585.62) | Grad Norm 4.3508(9.1851) | Total Time 10.00(10.00)\n",
      "Iter 0949 | Time 54.1432(53.0671) | Bit/dim 1.4807(1.5140) | Steps 590(585.75) | Grad Norm 5.3321(9.0695) | Total Time 10.00(10.00)\n",
      "Iter 0950 | Time 60.1487(53.2795) | Bit/dim 1.4829(1.5131) | Steps 602(586.24) | Grad Norm 11.5910(9.1452) | Total Time 10.00(10.00)\n",
      "Iter 0951 | Time 50.7211(53.2028) | Bit/dim 1.4833(1.5122) | Steps 572(585.81) | Grad Norm 13.7193(9.2824) | Total Time 10.00(10.00)\n",
      "validating...\n",
      "Epoch 0136 | Time 14.4233, Epoch Time 411.7304, Bit/dim 1.7194\n"
     ]
    },
    {
     "name": "stdout",
     "output_type": "stream",
     "text": [
      "do _generate\n",
      "do _generate\n",
      "do _generate\n",
      "do _generate\n",
      "do _generate\n",
      "do _generate\n",
      "do _generate\n",
      "do _generate\n"
     ]
    },
    {
     "name": "stderr",
     "output_type": "stream",
     "text": [
      "===> Using batch size 8000. Total 7 iterations/epoch.\n",
      "Iter 0952 | Time 49.7378(53.0988) | Bit/dim 1.4779(1.5111) | Steps 602(586.30) | Grad Norm 9.7118(9.2953) | Total Time 10.00(10.00)\n",
      "Iter 0953 | Time 53.5432(53.1122) | Bit/dim 1.4694(1.5099) | Steps 590(586.41) | Grad Norm 6.0199(9.1970) | Total Time 10.00(10.00)\n",
      "Iter 0954 | Time 55.9315(53.1967) | Bit/dim 1.4645(1.5085) | Steps 602(586.88) | Grad Norm 5.6538(9.0907) | Total Time 10.00(10.00)\n",
      "Iter 0955 | Time 51.8873(53.1575) | Bit/dim 1.4792(1.5076) | Steps 602(587.33) | Grad Norm 6.1027(9.0011) | Total Time 10.00(10.00)\n",
      "Iter 0956 | Time 53.9857(53.1823) | Bit/dim 1.4791(1.5068) | Steps 590(587.41) | Grad Norm 6.5738(8.9282) | Total Time 10.00(10.00)\n",
      "Iter 0957 | Time 54.4959(53.2217) | Bit/dim 1.4711(1.5057) | Steps 602(587.85) | Grad Norm 5.0497(8.8119) | Total Time 10.00(10.00)\n",
      "Iter 0958 | Time 54.9269(53.2729) | Bit/dim 1.4660(1.5045) | Steps 590(587.91) | Grad Norm 4.6925(8.6883) | Total Time 10.00(10.00)\n",
      "validating...\n",
      "Epoch 0137 | Time 16.2390, Epoch Time 405.3572, Bit/dim 1.7406\n"
     ]
    },
    {
     "name": "stdout",
     "output_type": "stream",
     "text": [
      "do _generate\n",
      "do _generate\n",
      "do _generate\n",
      "do _generate\n",
      "do _generate\n",
      "do _generate\n",
      "do _generate\n",
      "do _generate\n"
     ]
    },
    {
     "name": "stderr",
     "output_type": "stream",
     "text": [
      "===> Using batch size 8000. Total 7 iterations/epoch.\n",
      "Iter 0959 | Time 56.3051(53.3638) | Bit/dim 1.4683(1.5034) | Steps 602(588.34) | Grad Norm 6.3874(8.6193) | Total Time 10.00(10.00)\n",
      "Iter 0960 | Time 54.2556(53.3906) | Bit/dim 1.4824(1.5028) | Steps 590(588.39) | Grad Norm 7.4279(8.5835) | Total Time 10.00(10.00)\n",
      "Iter 0961 | Time 51.2868(53.3275) | Bit/dim 1.4781(1.5021) | Steps 596(588.61) | Grad Norm 7.5715(8.5532) | Total Time 10.00(10.00)\n",
      "Iter 0962 | Time 51.9261(53.2854) | Bit/dim 1.4721(1.5012) | Steps 584(588.48) | Grad Norm 10.9534(8.6252) | Total Time 10.00(10.00)\n",
      "Iter 0963 | Time 54.5871(53.3245) | Bit/dim 1.5028(1.5012) | Steps 608(589.06) | Grad Norm 20.7548(8.9891) | Total Time 10.00(10.00)\n",
      "Iter 0964 | Time 49.8447(53.2201) | Bit/dim 1.5606(1.5030) | Steps 566(588.37) | Grad Norm 30.3905(9.6311) | Total Time 10.00(10.00)\n",
      "Iter 0965 | Time 55.9934(53.3033) | Bit/dim 1.5673(1.5049) | Steps 602(588.78) | Grad Norm 35.5436(10.4085) | Total Time 10.00(10.00)\n",
      "validating...\n",
      "Epoch 0138 | Time 13.3350, Epoch Time 402.2338, Bit/dim 1.8110\n"
     ]
    },
    {
     "name": "stdout",
     "output_type": "stream",
     "text": [
      "do _generate\n",
      "do _generate\n",
      "do _generate\n",
      "do _generate\n",
      "do _generate\n",
      "do _generate\n",
      "do _generate\n",
      "do _generate\n"
     ]
    },
    {
     "name": "stderr",
     "output_type": "stream",
     "text": [
      "===> Using batch size 8000. Total 7 iterations/epoch.\n",
      "Iter 0966 | Time 50.1126(53.2076) | Bit/dim 1.5875(1.5074) | Steps 566(588.10) | Grad Norm 30.7755(11.0195) | Total Time 10.00(10.00)\n",
      "Iter 0967 | Time 57.4737(53.3355) | Bit/dim 1.5029(1.5073) | Steps 608(588.69) | Grad Norm 10.4845(11.0034) | Total Time 10.00(10.00)\n",
      "Iter 0968 | Time 59.2567(53.5132) | Bit/dim 1.5490(1.5085) | Steps 596(588.91) | Grad Norm 27.9354(11.5114) | Total Time 10.00(10.00)\n",
      "Iter 0969 | Time 50.9323(53.4358) | Bit/dim 1.6413(1.5125) | Steps 560(588.04) | Grad Norm 36.3757(12.2573) | Total Time 10.00(10.00)\n",
      "Iter 0970 | Time 56.2844(53.5212) | Bit/dim 1.5024(1.5122) | Steps 608(588.64) | Grad Norm 9.3189(12.1692) | Total Time 10.00(10.00)\n",
      "Iter 0971 | Time 54.1579(53.5403) | Bit/dim 1.5821(1.5143) | Steps 602(589.04) | Grad Norm 28.7158(12.6656) | Total Time 10.00(10.00)\n",
      "Iter 0972 | Time 47.8280(53.3689) | Bit/dim 1.5727(1.5160) | Steps 560(588.17) | Grad Norm 21.1861(12.9212) | Total Time 10.00(10.00)\n",
      "validating...\n",
      "Epoch 0139 | Time 12.5319, Epoch Time 402.8052, Bit/dim 1.6737\n"
     ]
    },
    {
     "name": "stdout",
     "output_type": "stream",
     "text": [
      "do _generate\n",
      "do _generate\n",
      "do _generate\n",
      "do _generate\n",
      "do _generate\n",
      "do _generate\n",
      "do _generate\n",
      "do _generate\n"
     ]
    },
    {
     "name": "stderr",
     "output_type": "stream",
     "text": [
      "===> Using batch size 8000. Total 7 iterations/epoch.\n",
      "Iter 0973 | Time 47.4069(53.1901) | Bit/dim 1.5280(1.5164) | Steps 560(587.33) | Grad Norm 16.4659(13.0275) | Total Time 10.00(10.00)\n",
      "Iter 0974 | Time 55.6585(53.2641) | Bit/dim 1.5825(1.5184) | Steps 602(587.77) | Grad Norm 24.0736(13.3589) | Total Time 10.00(10.00)\n",
      "Iter 0975 | Time 52.8004(53.2502) | Bit/dim 1.4799(1.5172) | Steps 602(588.19) | Grad Norm 7.1145(13.1716) | Total Time 10.00(10.00)\n",
      "Iter 0976 | Time 50.0603(53.1545) | Bit/dim 1.5682(1.5188) | Steps 566(587.53) | Grad Norm 18.7902(13.3401) | Total Time 10.00(10.00)\n",
      "Iter 0977 | Time 51.5226(53.1056) | Bit/dim 1.4828(1.5177) | Steps 572(587.06) | Grad Norm 5.0131(13.0903) | Total Time 10.00(10.00)\n",
      "Iter 0978 | Time 53.7876(53.1260) | Bit/dim 1.5401(1.5184) | Steps 596(587.33) | Grad Norm 17.8450(13.2330) | Total Time 10.00(10.00)\n",
      "Iter 0979 | Time 52.6139(53.1107) | Bit/dim 1.4957(1.5177) | Steps 572(586.87) | Grad Norm 6.8149(13.0404) | Total Time 10.00(10.00)\n",
      "validating...\n",
      "Epoch 0140 | Time 13.0891, Epoch Time 391.5748, Bit/dim 1.6974\n"
     ]
    },
    {
     "name": "stdout",
     "output_type": "stream",
     "text": [
      "do _generate\n",
      "do _generate\n",
      "do _generate\n",
      "do _generate\n",
      "do _generate\n",
      "do _generate\n",
      "do _generate\n",
      "do _generate\n"
     ]
    },
    {
     "name": "stderr",
     "output_type": "stream",
     "text": [
      "===> Using batch size 8000. Total 7 iterations/epoch.\n",
      "Iter 0980 | Time 48.9140(52.9848) | Bit/dim 1.5175(1.5177) | Steps 566(586.24) | Grad Norm 13.2940(13.0480) | Total Time 10.00(10.00)\n",
      "Iter 0981 | Time 54.5851(53.0328) | Bit/dim 1.4766(1.5164) | Steps 602(586.72) | Grad Norm 4.8235(12.8013) | Total Time 10.00(10.00)\n",
      "Iter 0982 | Time 54.3362(53.0719) | Bit/dim 1.5192(1.5165) | Steps 602(587.18) | Grad Norm 14.8146(12.8617) | Total Time 10.00(10.00)\n",
      "Iter 0983 | Time 48.5893(52.9374) | Bit/dim 1.4985(1.5160) | Steps 572(586.72) | Grad Norm 8.7489(12.7383) | Total Time 10.00(10.00)\n",
      "Iter 0984 | Time 48.5890(52.8069) | Bit/dim 1.4952(1.5154) | Steps 572(586.28) | Grad Norm 12.1621(12.7210) | Total Time 10.00(10.00)\n",
      "Iter 0985 | Time 54.2724(52.8509) | Bit/dim 1.4936(1.5147) | Steps 584(586.21) | Grad Norm 7.2737(12.5576) | Total Time 10.00(10.00)\n",
      "Iter 0986 | Time 56.6312(52.9643) | Bit/dim 1.4989(1.5142) | Steps 602(586.68) | Grad Norm 12.7116(12.5622) | Total Time 10.00(10.00)\n",
      "validating...\n",
      "Epoch 0141 | Time 14.9887, Epoch Time 395.0552, Bit/dim 1.7431\n"
     ]
    },
    {
     "name": "stdout",
     "output_type": "stream",
     "text": [
      "do _generate\n",
      "do _generate\n",
      "do _generate\n",
      "do _generate\n",
      "do _generate\n",
      "do _generate\n",
      "do _generate\n",
      "do _generate\n"
     ]
    },
    {
     "name": "stderr",
     "output_type": "stream",
     "text": [
      "===> Using batch size 8000. Total 7 iterations/epoch.\n",
      "Iter 0987 | Time 53.5117(52.9807) | Bit/dim 1.4897(1.5135) | Steps 572(586.24) | Grad Norm 9.6919(12.4761) | Total Time 10.00(10.00)\n",
      "Iter 0988 | Time 55.5896(53.0590) | Bit/dim 1.4791(1.5125) | Steps 584(586.18) | Grad Norm 5.1956(12.2577) | Total Time 10.00(10.00)\n",
      "Iter 0989 | Time 57.0556(53.1789) | Bit/dim 1.4942(1.5119) | Steps 596(586.47) | Grad Norm 10.3387(12.2001) | Total Time 10.00(10.00)\n",
      "Iter 0990 | Time 55.8710(53.2597) | Bit/dim 1.4659(1.5105) | Steps 596(586.76) | Grad Norm 5.9925(12.0139) | Total Time 10.00(10.00)\n",
      "Iter 0991 | Time 52.6387(53.2410) | Bit/dim 1.4643(1.5091) | Steps 584(586.67) | Grad Norm 6.1889(11.8392) | Total Time 10.00(10.00)\n",
      "Iter 0992 | Time 57.0480(53.3552) | Bit/dim 1.4794(1.5083) | Steps 602(587.13) | Grad Norm 9.0081(11.7542) | Total Time 10.00(10.00)\n",
      "Iter 0993 | Time 55.0057(53.4048) | Bit/dim 1.4682(1.5071) | Steps 584(587.04) | Grad Norm 5.2727(11.5598) | Total Time 10.00(10.00)\n",
      "validating...\n",
      "Epoch 0142 | Time 14.4072, Epoch Time 415.7040, Bit/dim 1.6988\n"
     ]
    },
    {
     "name": "stdout",
     "output_type": "stream",
     "text": [
      "do _generate\n",
      "do _generate\n",
      "do _generate\n",
      "do _generate\n",
      "do _generate\n",
      "do _generate\n",
      "do _generate\n",
      "do _generate\n"
     ]
    },
    {
     "name": "stderr",
     "output_type": "stream",
     "text": [
      "===> Using batch size 8000. Total 7 iterations/epoch.\n",
      "Iter 0994 | Time 55.4499(53.4661) | Bit/dim 1.4567(1.5055) | Steps 584(586.95) | Grad Norm 5.8440(11.3883) | Total Time 10.00(10.00)\n",
      "Iter 0995 | Time 54.1468(53.4865) | Bit/dim 1.4628(1.5043) | Steps 602(587.40) | Grad Norm 7.9188(11.2842) | Total Time 10.00(10.00)\n",
      "Iter 0996 | Time 51.8800(53.4383) | Bit/dim 1.4665(1.5031) | Steps 602(587.84) | Grad Norm 5.0284(11.0965) | Total Time 10.00(10.00)\n",
      "Iter 0997 | Time 51.7582(53.3879) | Bit/dim 1.4504(1.5015) | Steps 584(587.72) | Grad Norm 6.6809(10.9641) | Total Time 10.00(10.00)\n",
      "Iter 0998 | Time 54.3129(53.4157) | Bit/dim 1.4590(1.5003) | Steps 596(587.97) | Grad Norm 6.3072(10.8244) | Total Time 10.00(10.00)\n",
      "Iter 0999 | Time 56.9194(53.5208) | Bit/dim 1.4580(1.4990) | Steps 596(588.21) | Grad Norm 3.4402(10.6028) | Total Time 10.00(10.00)\n",
      "Iter 1000 | Time 53.7915(53.5289) | Bit/dim 1.4394(1.4972) | Steps 590(588.27) | Grad Norm 5.9442(10.4631) | Total Time 10.00(10.00)\n",
      "validating...\n",
      "Epoch 0143 | Time 15.6771, Epoch Time 408.3104, Bit/dim 1.7713\n"
     ]
    },
    {
     "name": "stdout",
     "output_type": "stream",
     "text": [
      "do _generate\n",
      "do _generate\n",
      "do _generate\n",
      "do _generate\n",
      "do _generate\n",
      "do _generate\n",
      "do _generate\n",
      "do _generate\n"
     ]
    },
    {
     "name": "stderr",
     "output_type": "stream",
     "text": [
      "===> Using batch size 8000. Total 7 iterations/epoch.\n",
      "Iter 1001 | Time 54.4219(53.5557) | Bit/dim 1.4633(1.4962) | Steps 602(588.68) | Grad Norm 6.2753(10.3375) | Total Time 10.00(10.00)\n",
      "Iter 1002 | Time 53.9360(53.5671) | Bit/dim 1.4393(1.4945) | Steps 602(589.08) | Grad Norm 2.6082(10.1056) | Total Time 10.00(10.00)\n",
      "Iter 1003 | Time 54.8100(53.6044) | Bit/dim 1.4501(1.4932) | Steps 584(588.93) | Grad Norm 3.6039(9.9105) | Total Time 10.00(10.00)\n",
      "Iter 1004 | Time 54.7500(53.6388) | Bit/dim 1.4464(1.4918) | Steps 602(589.32) | Grad Norm 4.0510(9.7347) | Total Time 10.00(10.00)\n",
      "Iter 1005 | Time 53.6007(53.6376) | Bit/dim 1.4456(1.4904) | Steps 590(589.34) | Grad Norm 3.4243(9.5454) | Total Time 10.00(10.00)\n",
      "Iter 1006 | Time 56.2773(53.7168) | Bit/dim 1.4326(1.4886) | Steps 602(589.72) | Grad Norm 2.7677(9.3421) | Total Time 10.00(10.00)\n",
      "Iter 1007 | Time 57.8030(53.8394) | Bit/dim 1.4350(1.4870) | Steps 602(590.09) | Grad Norm 2.8757(9.1481) | Total Time 10.00(10.00)\n",
      "validating...\n",
      "Epoch 0144 | Time 14.6849, Epoch Time 414.7063, Bit/dim 1.7324\n"
     ]
    },
    {
     "name": "stdout",
     "output_type": "stream",
     "text": [
      "do _generate\n",
      "do _generate\n",
      "do _generate\n",
      "do _generate\n",
      "do _generate\n",
      "do _generate\n",
      "do _generate\n",
      "do _generate\n"
     ]
    },
    {
     "name": "stderr",
     "output_type": "stream",
     "text": [
      "===> Using batch size 8000. Total 7 iterations/epoch.\n",
      "Iter 1008 | Time 53.5657(53.8312) | Bit/dim 1.4271(1.4852) | Steps 602(590.44) | Grad Norm 2.4287(8.9465) | Total Time 10.00(10.00)\n",
      "Iter 1009 | Time 52.8102(53.8006) | Bit/dim 1.4358(1.4837) | Steps 602(590.79) | Grad Norm 2.6452(8.7575) | Total Time 10.00(10.00)\n",
      "Iter 1010 | Time 53.8245(53.8013) | Bit/dim 1.4383(1.4824) | Steps 602(591.13) | Grad Norm 2.0708(8.5569) | Total Time 10.00(10.00)\n",
      "Iter 1011 | Time 55.2615(53.8451) | Bit/dim 1.4344(1.4809) | Steps 602(591.45) | Grad Norm 2.4600(8.3740) | Total Time 10.00(10.00)\n",
      "Iter 1012 | Time 53.7352(53.8418) | Bit/dim 1.4294(1.4794) | Steps 602(591.77) | Grad Norm 2.5286(8.1986) | Total Time 10.00(10.00)\n",
      "Iter 1013 | Time 54.1764(53.8518) | Bit/dim 1.4323(1.4780) | Steps 602(592.08) | Grad Norm 2.1363(8.0167) | Total Time 10.00(10.00)\n",
      "Iter 1014 | Time 51.3758(53.7775) | Bit/dim 1.4324(1.4766) | Steps 602(592.37) | Grad Norm 3.6634(7.8861) | Total Time 10.00(10.00)\n",
      "validating...\n",
      "Epoch 0145 | Time 14.5971, Epoch Time 403.8689, Bit/dim 1.7383\n"
     ]
    },
    {
     "name": "stdout",
     "output_type": "stream",
     "text": [
      "do _generate\n",
      "do _generate\n",
      "do _generate\n",
      "do _generate\n",
      "do _generate\n",
      "do _generate\n",
      "do _generate\n",
      "do _generate\n"
     ]
    },
    {
     "name": "stderr",
     "output_type": "stream",
     "text": [
      "===> Using batch size 8000. Total 7 iterations/epoch.\n",
      "Iter 1015 | Time 51.9068(53.7214) | Bit/dim 1.4345(1.4754) | Steps 602(592.66) | Grad Norm 6.2654(7.8375) | Total Time 10.00(10.00)\n",
      "Iter 1016 | Time 55.2364(53.7669) | Bit/dim 1.4274(1.4739) | Steps 584(592.40) | Grad Norm 7.9637(7.8413) | Total Time 10.00(10.00)\n",
      "Iter 1017 | Time 56.2135(53.8403) | Bit/dim 1.4354(1.4728) | Steps 602(592.69) | Grad Norm 7.6987(7.8370) | Total Time 10.00(10.00)\n",
      "Iter 1018 | Time 53.0007(53.8151) | Bit/dim 1.4336(1.4716) | Steps 596(592.79) | Grad Norm 5.3501(7.7624) | Total Time 10.00(10.00)\n",
      "Iter 1019 | Time 53.5351(53.8067) | Bit/dim 1.4256(1.4702) | Steps 602(593.07) | Grad Norm 2.1093(7.5928) | Total Time 10.00(10.00)\n",
      "Iter 1020 | Time 53.9625(53.8114) | Bit/dim 1.4280(1.4689) | Steps 596(593.15) | Grad Norm 6.1773(7.5504) | Total Time 10.00(10.00)\n",
      "Iter 1021 | Time 53.2568(53.7947) | Bit/dim 1.4288(1.4677) | Steps 584(592.88) | Grad Norm 12.4198(7.6964) | Total Time 10.00(10.00)\n",
      "validating...\n",
      "Epoch 0146 | Time 15.0397, Epoch Time 406.6003, Bit/dim 1.7879\n"
     ]
    },
    {
     "name": "stdout",
     "output_type": "stream",
     "text": [
      "do _generate\n",
      "do _generate\n",
      "do _generate\n",
      "do _generatedo _generate\n",
      "\n",
      "do _generate\n",
      "do _generate\n",
      "do _generate\n"
     ]
    },
    {
     "name": "stderr",
     "output_type": "stream",
     "text": [
      "===> Using batch size 8000. Total 7 iterations/epoch.\n",
      "Iter 1022 | Time 58.4410(53.9341) | Bit/dim 1.4574(1.4674) | Steps 608(593.33) | Grad Norm 19.3350(8.0456) | Total Time 10.00(10.00)\n",
      "Iter 1023 | Time 55.5479(53.9825) | Bit/dim 1.4939(1.4682) | Steps 572(592.69) | Grad Norm 24.8953(8.5511) | Total Time 10.00(10.00)\n",
      "Iter 1024 | Time 54.7305(54.0050) | Bit/dim 1.4645(1.4681) | Steps 608(593.15) | Grad Norm 23.0421(8.9858) | Total Time 10.00(10.00)\n",
      "Iter 1025 | Time 51.6140(53.9332) | Bit/dim 1.4714(1.4682) | Steps 584(592.88) | Grad Norm 15.8634(9.1922) | Total Time 10.00(10.00)\n",
      "Iter 1026 | Time 56.3103(54.0046) | Bit/dim 1.4315(1.4671) | Steps 608(593.33) | Grad Norm 5.9885(9.0960) | Total Time 10.00(10.00)\n",
      "Iter 1027 | Time 57.2972(54.1033) | Bit/dim 1.4426(1.4664) | Steps 596(593.41) | Grad Norm 9.1595(9.0979) | Total Time 10.00(10.00)\n",
      "Iter 1028 | Time 52.0472(54.0416) | Bit/dim 1.4524(1.4659) | Steps 572(592.77) | Grad Norm 18.8695(9.3911) | Total Time 10.00(10.00)\n",
      "validating...\n",
      "Epoch 0147 | Time 15.8410, Epoch Time 416.2649, Bit/dim 1.8670\n"
     ]
    },
    {
     "name": "stdout",
     "output_type": "stream",
     "text": [
      "do _generate\n",
      "do _generate\n",
      "do _generate\n",
      "do _generate\n",
      "do _generate\n",
      "do _generate\n",
      "do _generate\n",
      "do _generate\n"
     ]
    },
    {
     "name": "stderr",
     "output_type": "stream",
     "text": [
      "===> Using batch size 8000. Total 7 iterations/epoch.\n",
      "Iter 1029 | Time 59.8159(54.2149) | Bit/dim 1.5069(1.4672) | Steps 608(593.23) | Grad Norm 27.6973(9.9403) | Total Time 10.00(10.00)\n",
      "Iter 1030 | Time 51.3386(54.1286) | Bit/dim 1.5560(1.4698) | Steps 566(592.41) | Grad Norm 29.5090(10.5273) | Total Time 10.00(10.00)\n",
      "Iter 1031 | Time 56.7194(54.2063) | Bit/dim 1.4874(1.4704) | Steps 602(592.70) | Grad Norm 12.5770(10.5888) | Total Time 10.00(10.00)\n",
      "Iter 1032 | Time 57.3602(54.3009) | Bit/dim 1.4903(1.4710) | Steps 602(592.98) | Grad Norm 16.1627(10.7560) | Total Time 10.00(10.00)\n",
      "Iter 1033 | Time 51.0819(54.2044) | Bit/dim 1.5321(1.4728) | Steps 566(592.17) | Grad Norm 23.4446(11.1367) | Total Time 10.00(10.00)\n",
      "Iter 1034 | Time 58.6561(54.3379) | Bit/dim 1.4659(1.4726) | Steps 602(592.46) | Grad Norm 8.6603(11.0624) | Total Time 10.00(10.00)\n",
      "Iter 1035 | Time 57.7095(54.4391) | Bit/dim 1.4851(1.4730) | Steps 602(592.75) | Grad Norm 18.0572(11.2723) | Total Time 10.00(10.00)\n",
      "validating...\n",
      "Epoch 0148 | Time 12.9550, Epoch Time 420.2557, Bit/dim 1.7246\n"
     ]
    },
    {
     "name": "stdout",
     "output_type": "stream",
     "text": [
      "do _generate\n",
      "do _generate\n",
      "do _generate\n",
      "do _generate\n",
      "do _generate\n",
      "do _generate\n",
      "do _generate\n",
      "do _generate\n"
     ]
    },
    {
     "name": "stderr",
     "output_type": "stream",
     "text": [
      "===> Using batch size 8000. Total 7 iterations/epoch.\n",
      "Iter 1036 | Time 51.6195(54.3545) | Bit/dim 1.5114(1.4741) | Steps 572(592.13) | Grad Norm 21.9613(11.5929) | Total Time 10.00(10.00)\n",
      "Iter 1037 | Time 53.4144(54.3263) | Bit/dim 1.4567(1.4736) | Steps 596(592.24) | Grad Norm 4.7239(11.3869) | Total Time 10.00(10.00)\n",
      "Iter 1038 | Time 55.9779(54.3758) | Bit/dim 1.4870(1.4740) | Steps 596(592.35) | Grad Norm 20.5912(11.6630) | Total Time 10.00(10.00)\n",
      "Iter 1039 | Time 53.7747(54.3578) | Bit/dim 1.4960(1.4747) | Steps 572(591.74) | Grad Norm 17.8553(11.8488) | Total Time 10.00(10.00)\n",
      "Iter 1040 | Time 52.8403(54.3123) | Bit/dim 1.4576(1.4741) | Steps 572(591.15) | Grad Norm 10.5080(11.8085) | Total Time 10.00(10.00)\n",
      "Iter 1041 | Time 56.3031(54.3720) | Bit/dim 1.5079(1.4752) | Steps 602(591.48) | Grad Norm 25.0312(12.2052) | Total Time 10.00(10.00)\n",
      "Iter 1042 | Time 56.5196(54.4364) | Bit/dim 1.4622(1.4748) | Steps 584(591.25) | Grad Norm 10.2765(12.1474) | Total Time 10.00(10.00)\n",
      "validating...\n",
      "Epoch 0149 | Time 13.8241, Epoch Time 408.5254, Bit/dim 1.6847\n"
     ]
    },
    {
     "name": "stdout",
     "output_type": "stream",
     "text": [
      "do _generate\n",
      "do _generate\n",
      "do _generate\n",
      "do _generate\n",
      "do _generate\n",
      "do _generate\n",
      "do _generate\n",
      "do _generate\n"
     ]
    },
    {
     "name": "stderr",
     "output_type": "stream",
     "text": [
      "===> Using batch size 8000. Total 7 iterations/epoch.\n",
      "Iter 1043 | Time 51.1098(54.3366) | Bit/dim 1.4595(1.4743) | Steps 572(590.68) | Grad Norm 13.7964(12.1968) | Total Time 10.00(10.00)\n",
      "Iter 1044 | Time 52.1953(54.2724) | Bit/dim 1.4645(1.4740) | Steps 596(590.83) | Grad Norm 16.6631(12.3308) | Total Time 10.00(10.00)\n",
      "Iter 1045 | Time 50.3054(54.1534) | Bit/dim 1.4327(1.4728) | Steps 596(590.99) | Grad Norm 4.5059(12.0961) | Total Time 10.00(10.00)\n",
      "Iter 1046 | Time 51.6431(54.0781) | Bit/dim 1.4559(1.4723) | Steps 572(590.42) | Grad Norm 12.2211(12.0998) | Total Time 10.00(10.00)\n",
      "Iter 1047 | Time 59.8851(54.2523) | Bit/dim 1.4352(1.4712) | Steps 602(590.77) | Grad Norm 6.4561(11.9305) | Total Time 10.00(10.00)\n",
      "Iter 1048 | Time 55.2602(54.2825) | Bit/dim 1.4364(1.4701) | Steps 602(591.10) | Grad Norm 10.5043(11.8877) | Total Time 10.00(10.00)\n",
      "Iter 1049 | Time 51.5682(54.2011) | Bit/dim 1.4528(1.4696) | Steps 584(590.89) | Grad Norm 11.3460(11.8715) | Total Time 10.00(10.00)\n",
      "validating...\n",
      "Epoch 0150 | Time 14.0446, Epoch Time 400.5474, Bit/dim 1.6698\n"
     ]
    },
    {
     "name": "stdout",
     "output_type": "stream",
     "text": [
      "do _generate\n",
      "do _generate\n",
      "do _generate\n",
      "do _generate\n",
      "do _generate\n",
      "do _generate\n",
      "do _generate\n",
      "do _generate\n"
     ]
    },
    {
     "name": "stderr",
     "output_type": "stream",
     "text": [
      "===> Using batch size 8000. Total 7 iterations/epoch.\n",
      "Iter 1050 | Time 51.5554(54.1217) | Bit/dim 1.4159(1.4680) | Steps 596(591.04) | Grad Norm 4.1087(11.6386) | Total Time 10.00(10.00)\n",
      "Iter 1051 | Time 55.5556(54.1647) | Bit/dim 1.4480(1.4674) | Steps 608(591.55) | Grad Norm 14.0845(11.7120) | Total Time 10.00(10.00)\n",
      "Iter 1052 | Time 55.7690(54.2128) | Bit/dim 1.4240(1.4661) | Steps 584(591.33) | Grad Norm 7.5928(11.5884) | Total Time 10.00(10.00)\n",
      "Iter 1053 | Time 55.2862(54.2451) | Bit/dim 1.4244(1.4648) | Steps 584(591.11) | Grad Norm 7.0665(11.4527) | Total Time 10.00(10.00)\n",
      "Iter 1054 | Time 59.1302(54.3916) | Bit/dim 1.4391(1.4641) | Steps 608(591.61) | Grad Norm 13.8455(11.5245) | Total Time 10.00(10.00)\n",
      "Iter 1055 | Time 52.7939(54.3437) | Bit/dim 1.4228(1.4628) | Steps 596(591.75) | Grad Norm 6.4118(11.3711) | Total Time 10.00(10.00)\n",
      "Iter 1056 | Time 51.3590(54.2541) | Bit/dim 1.4196(1.4615) | Steps 584(591.51) | Grad Norm 8.6551(11.2897) | Total Time 10.00(10.00)\n",
      "validating...\n",
      "Epoch 0151 | Time 14.4414, Epoch Time 410.2015, Bit/dim 1.7704\n"
     ]
    },
    {
     "name": "stdout",
     "output_type": "stream",
     "text": [
      "do _generate\n",
      "do _generate\n",
      "do _generate\n",
      "do _generate\n",
      "do _generate\n",
      "do _generate\n",
      "do _generate\n",
      "do _generate\n"
     ]
    },
    {
     "name": "stderr",
     "output_type": "stream",
     "text": [
      "===> Using batch size 8000. Total 7 iterations/epoch.\n",
      "Iter 1057 | Time 55.2579(54.2842) | Bit/dim 1.4278(1.4605) | Steps 608(592.01) | Grad Norm 13.2539(11.3486) | Total Time 10.00(10.00)\n",
      "Iter 1058 | Time 51.7235(54.2074) | Bit/dim 1.4041(1.4588) | Steps 602(592.31) | Grad Norm 4.6159(11.1466) | Total Time 10.00(10.00)\n",
      "Iter 1059 | Time 52.1117(54.1446) | Bit/dim 1.4148(1.4575) | Steps 590(592.24) | Grad Norm 7.0531(11.0238) | Total Time 10.00(10.00)\n",
      "Iter 1060 | Time 55.8137(54.1946) | Bit/dim 1.4268(1.4566) | Steps 608(592.71) | Grad Norm 10.1838(10.9986) | Total Time 10.00(10.00)\n",
      "Iter 1061 | Time 53.9567(54.1875) | Bit/dim 1.4044(1.4550) | Steps 602(592.99) | Grad Norm 5.0325(10.8196) | Total Time 10.00(10.00)\n",
      "Iter 1062 | Time 54.8600(54.2077) | Bit/dim 1.4081(1.4536) | Steps 602(593.26) | Grad Norm 4.5227(10.6307) | Total Time 10.00(10.00)\n",
      "Iter 1063 | Time 56.4668(54.2754) | Bit/dim 1.4132(1.4524) | Steps 602(593.52) | Grad Norm 8.6686(10.5718) | Total Time 10.00(10.00)\n",
      "validating...\n",
      "Epoch 0152 | Time 15.3428, Epoch Time 409.6591, Bit/dim 1.6967\n"
     ]
    },
    {
     "name": "stdout",
     "output_type": "stream",
     "text": [
      "do _generate\n",
      "do _generate\n",
      "do _generate\n",
      "do _generate\n",
      "do _generate\n",
      "do _generate\n",
      "do _generate\n",
      "do _generate\n"
     ]
    },
    {
     "name": "stderr",
     "output_type": "stream",
     "text": [
      "===> Using batch size 8000. Total 7 iterations/epoch.\n",
      "Iter 1064 | Time 54.9629(54.2961) | Bit/dim 1.4111(1.4512) | Steps 596(593.60) | Grad Norm 5.6258(10.4235) | Total Time 10.00(10.00)\n",
      "Iter 1065 | Time 52.3936(54.2390) | Bit/dim 1.4088(1.4499) | Steps 602(593.85) | Grad Norm 2.8288(10.1956) | Total Time 10.00(10.00)\n",
      "Iter 1066 | Time 55.9763(54.2911) | Bit/dim 1.4131(1.4488) | Steps 608(594.27) | Grad Norm 8.8410(10.1550) | Total Time 10.00(10.00)\n",
      "Iter 1067 | Time 54.1765(54.2877) | Bit/dim 1.4110(1.4477) | Steps 584(593.96) | Grad Norm 8.8625(10.1162) | Total Time 10.00(10.00)\n",
      "Iter 1068 | Time 57.4391(54.3822) | Bit/dim 1.3944(1.4461) | Steps 602(594.21) | Grad Norm 3.6294(9.9216) | Total Time 10.00(10.00)\n",
      "Iter 1069 | Time 56.6674(54.4508) | Bit/dim 1.3872(1.4443) | Steps 602(594.44) | Grad Norm 5.2702(9.7821) | Total Time 10.00(10.00)\n",
      "Iter 1070 | Time 56.2828(54.5057) | Bit/dim 1.4094(1.4432) | Steps 602(594.67) | Grad Norm 7.8350(9.7237) | Total Time 10.00(10.00)\n",
      "validating...\n",
      "Epoch 0153 | Time 14.5397, Epoch Time 416.9055, Bit/dim 1.7586\n"
     ]
    },
    {
     "name": "stdout",
     "output_type": "stream",
     "text": [
      "do _generate\n",
      "do _generate\n",
      "do _generate\n",
      "do _generate\n",
      "do _generate\n",
      "do _generate\n",
      "do _generate\n",
      "do _generate\n"
     ]
    },
    {
     "name": "stderr",
     "output_type": "stream",
     "text": [
      "===> Using batch size 8000. Total 7 iterations/epoch.\n",
      "Iter 1071 | Time 54.4601(54.5044) | Bit/dim 1.3961(1.4418) | Steps 602(594.89) | Grad Norm 5.3104(9.5913) | Total Time 10.00(10.00)\n",
      "Iter 1072 | Time 55.4580(54.5330) | Bit/dim 1.3981(1.4405) | Steps 596(594.92) | Grad Norm 3.4989(9.4085) | Total Time 10.00(10.00)\n",
      "Iter 1073 | Time 56.5556(54.5937) | Bit/dim 1.3905(1.4390) | Steps 596(594.95) | Grad Norm 7.1912(9.3420) | Total Time 10.00(10.00)\n",
      "Iter 1074 | Time 58.8467(54.7212) | Bit/dim 1.4051(1.4380) | Steps 608(595.34) | Grad Norm 8.1214(9.3053) | Total Time 10.00(10.00)\n",
      "Iter 1075 | Time 51.2743(54.6178) | Bit/dim 1.3977(1.4368) | Steps 596(595.36) | Grad Norm 5.8647(9.2021) | Total Time 10.00(10.00)\n",
      "Iter 1076 | Time 52.5842(54.5568) | Bit/dim 1.3838(1.4352) | Steps 596(595.38) | Grad Norm 2.5337(9.0021) | Total Time 10.00(10.00)\n",
      "Iter 1077 | Time 54.5701(54.5572) | Bit/dim 1.4008(1.4342) | Steps 596(595.40) | Grad Norm 4.9828(8.8815) | Total Time 10.00(10.00)\n",
      "validating...\n",
      "Epoch 0154 | Time 15.8574, Epoch Time 414.1861, Bit/dim 1.7550\n"
     ]
    },
    {
     "name": "stdout",
     "output_type": "stream",
     "text": [
      "do _generate\n",
      "do _generate\n",
      "do _generate\n",
      "do _generate\n",
      "do _generate\n",
      "do _generate\n",
      "do _generate\n",
      "do _generate\n"
     ]
    },
    {
     "name": "stderr",
     "output_type": "stream",
     "text": [
      "===> Using batch size 8000. Total 7 iterations/epoch.\n",
      "Iter 1078 | Time 56.5957(54.6184) | Bit/dim 1.3898(1.4328) | Steps 596(595.42) | Grad Norm 8.3929(8.8668) | Total Time 10.00(10.00)\n",
      "Iter 1079 | Time 56.3766(54.6711) | Bit/dim 1.4051(1.4320) | Steps 602(595.62) | Grad Norm 11.0086(8.9311) | Total Time 10.00(10.00)\n",
      "Iter 1080 | Time 52.9398(54.6192) | Bit/dim 1.4028(1.4311) | Steps 584(595.27) | Grad Norm 12.3180(9.0327) | Total Time 10.00(10.00)\n",
      "Iter 1081 | Time 56.7727(54.6838) | Bit/dim 1.4009(1.4302) | Steps 608(595.65) | Grad Norm 10.2753(9.0700) | Total Time 10.00(10.00)\n",
      "Iter 1082 | Time 54.9125(54.6907) | Bit/dim 1.3949(1.4292) | Steps 596(595.66) | Grad Norm 5.8452(8.9732) | Total Time 10.00(10.00)\n",
      "Iter 1083 | Time 56.0033(54.7300) | Bit/dim 1.3820(1.4277) | Steps 596(595.67) | Grad Norm 2.8565(8.7897) | Total Time 10.00(10.00)\n",
      "Iter 1084 | Time 56.4281(54.7810) | Bit/dim 1.3816(1.4264) | Steps 602(595.86) | Grad Norm 1.9851(8.5856) | Total Time 10.00(10.00)\n",
      "validating...\n",
      "Epoch 0155 | Time 15.1738, Epoch Time 419.6757, Bit/dim 1.7531\n"
     ]
    },
    {
     "name": "stdout",
     "output_type": "stream",
     "text": [
      "do _generate\n",
      "do _generate\n",
      "do _generate\n",
      "do _generate\n",
      "do _generate\n",
      "do _generate\n",
      "do _generate\n",
      "do _generate\n"
     ]
    },
    {
     "name": "stderr",
     "output_type": "stream",
     "text": [
      "===> Using batch size 8000. Total 7 iterations/epoch.\n",
      "Iter 1085 | Time 55.6771(54.8079) | Bit/dim 1.3838(1.4251) | Steps 596(595.86) | Grad Norm 5.0642(8.4800) | Total Time 10.00(10.00)\n",
      "Iter 1086 | Time 54.1170(54.7871) | Bit/dim 1.4008(1.4244) | Steps 608(596.23) | Grad Norm 9.1190(8.4991) | Total Time 10.00(10.00)\n",
      "Iter 1087 | Time 51.5910(54.6912) | Bit/dim 1.4039(1.4237) | Steps 596(596.22) | Grad Norm 12.4328(8.6171) | Total Time 10.00(10.00)\n",
      "Iter 1088 | Time 54.3136(54.6799) | Bit/dim 1.4058(1.4232) | Steps 608(596.58) | Grad Norm 14.3322(8.7886) | Total Time 10.00(10.00)\n",
      "Iter 1089 | Time 52.0072(54.5997) | Bit/dim 1.3943(1.4223) | Steps 584(596.20) | Grad Norm 13.9731(8.9441) | Total Time 10.00(10.00)\n",
      "Iter 1090 | Time 55.0569(54.6134) | Bit/dim 1.3931(1.4215) | Steps 608(596.55) | Grad Norm 11.4042(9.0179) | Total Time 10.00(10.00)\n",
      "Iter 1091 | Time 54.0900(54.5977) | Bit/dim 1.3813(1.4202) | Steps 596(596.54) | Grad Norm 9.1164(9.0209) | Total Time 10.00(10.00)\n",
      "validating...\n",
      "Epoch 0156 | Time 14.3073, Epoch Time 405.6729, Bit/dim 1.7850\n"
     ]
    },
    {
     "name": "stdout",
     "output_type": "stream",
     "text": [
      "do _generate\n",
      "do _generate\n",
      "do _generate\n",
      "do _generate\n",
      "do _generate\n",
      "do _generate\n",
      "do _generate\n",
      "do _generate\n"
     ]
    },
    {
     "name": "stderr",
     "output_type": "stream",
     "text": [
      "===> Using batch size 8000. Total 7 iterations/epoch.\n",
      "Iter 1092 | Time 55.2368(54.6169) | Bit/dim 1.3944(1.4195) | Steps 596(596.52) | Grad Norm 8.0319(8.9912) | Total Time 10.00(10.00)\n",
      "Iter 1093 | Time 55.3963(54.6403) | Bit/dim 1.3810(1.4183) | Steps 596(596.50) | Grad Norm 7.0522(8.9330) | Total Time 10.00(10.00)\n",
      "Iter 1094 | Time 59.3144(54.7805) | Bit/dim 1.3763(1.4171) | Steps 602(596.67) | Grad Norm 5.5457(8.8314) | Total Time 10.00(10.00)\n",
      "Iter 1095 | Time 53.9184(54.7547) | Bit/dim 1.3895(1.4162) | Steps 596(596.65) | Grad Norm 4.5299(8.7024) | Total Time 10.00(10.00)\n",
      "Iter 1096 | Time 53.3730(54.7132) | Bit/dim 1.3771(1.4151) | Steps 596(596.63) | Grad Norm 3.3054(8.5405) | Total Time 10.00(10.00)\n",
      "Iter 1097 | Time 52.6807(54.6522) | Bit/dim 1.3841(1.4141) | Steps 596(596.61) | Grad Norm 3.0061(8.3744) | Total Time 10.00(10.00)\n",
      "Iter 1098 | Time 52.1439(54.5770) | Bit/dim 1.3846(1.4132) | Steps 596(596.59) | Grad Norm 2.9122(8.2106) | Total Time 10.00(10.00)\n",
      "validating...\n",
      "Epoch 0157 | Time 14.2680, Epoch Time 411.0846, Bit/dim 1.8094\n"
     ]
    },
    {
     "name": "stdout",
     "output_type": "stream",
     "text": [
      "do _generate\n",
      "do _generate\n",
      "do _generate\n",
      "do _generate\n",
      "do _generate\n",
      "do _generate\n",
      "do _generate\n",
      "do _generate\n"
     ]
    },
    {
     "name": "stderr",
     "output_type": "stream",
     "text": [
      "===> Using batch size 8000. Total 7 iterations/epoch.\n",
      "Iter 1099 | Time 54.1452(54.5640) | Bit/dim 1.3701(1.4119) | Steps 602(596.75) | Grad Norm 4.6729(8.1044) | Total Time 10.00(10.00)\n",
      "Iter 1100 | Time 57.3438(54.6474) | Bit/dim 1.3810(1.4110) | Steps 596(596.73) | Grad Norm 5.1714(8.0164) | Total Time 10.00(10.00)\n",
      "Iter 1101 | Time 56.3526(54.6986) | Bit/dim 1.3929(1.4105) | Steps 602(596.89) | Grad Norm 8.9611(8.0448) | Total Time 10.00(10.00)\n",
      "Iter 1102 | Time 57.3308(54.7775) | Bit/dim 1.3921(1.4099) | Steps 596(596.86) | Grad Norm 15.5734(8.2706) | Total Time 10.00(10.00)\n",
      "Iter 1103 | Time 55.3233(54.7939) | Bit/dim 1.4273(1.4104) | Steps 608(597.20) | Grad Norm 27.4889(8.8472) | Total Time 10.00(10.00)\n",
      "Iter 1104 | Time 51.8304(54.7050) | Bit/dim 1.5308(1.4141) | Steps 566(596.26) | Grad Norm 37.8993(9.7188) | Total Time 10.00(10.00)\n",
      "Iter 1105 | Time 53.4393(54.6670) | Bit/dim 1.4685(1.4157) | Steps 608(596.61) | Grad Norm 30.9473(10.3556) | Total Time 10.00(10.00)\n",
      "validating...\n",
      "Epoch 0158 | Time 14.1704, Epoch Time 414.6453, Bit/dim 1.7738\n"
     ]
    },
    {
     "name": "stdout",
     "output_type": "stream",
     "text": [
      "do _generate\n",
      "do _generate\n",
      "do _generate\n",
      "do _generate\n",
      "do _generate\n",
      "do _generate\n",
      "do _generate\n",
      "do _generate\n"
     ]
    },
    {
     "name": "stderr",
     "output_type": "stream",
     "text": [
      "===> Using batch size 8000. Total 7 iterations/epoch.\n",
      "Iter 1106 | Time 52.1234(54.5907) | Bit/dim 1.4133(1.4156) | Steps 608(596.95) | Grad Norm 12.8262(10.4297) | Total Time 10.00(10.00)\n",
      "Iter 1107 | Time 51.4544(54.4966) | Bit/dim 1.4090(1.4154) | Steps 602(597.11) | Grad Norm 11.0444(10.4482) | Total Time 10.00(10.00)\n",
      "Iter 1108 | Time 54.5602(54.4985) | Bit/dim 1.4804(1.4174) | Steps 602(597.25) | Grad Norm 33.4697(11.1388) | Total Time 10.00(10.00)\n",
      "Iter 1109 | Time 47.7132(54.2950) | Bit/dim 1.5523(1.4214) | Steps 566(596.32) | Grad Norm 35.1546(11.8593) | Total Time 10.00(10.00)\n",
      "Iter 1110 | Time 55.5941(54.3340) | Bit/dim 1.4447(1.4221) | Steps 608(596.67) | Grad Norm 9.7713(11.7966) | Total Time 10.00(10.00)\n",
      "Iter 1111 | Time 55.1757(54.3592) | Bit/dim 1.5219(1.4251) | Steps 602(596.83) | Grad Norm 33.6532(12.4523) | Total Time 10.00(10.00)\n",
      "Iter 1112 | Time 52.3341(54.2985) | Bit/dim 1.4867(1.4270) | Steps 572(596.08) | Grad Norm 20.9696(12.7079) | Total Time 10.00(10.00)\n",
      "validating...\n",
      "Epoch 0159 | Time 13.5069, Epoch Time 396.7907, Bit/dim 1.6250\n"
     ]
    },
    {
     "name": "stdout",
     "output_type": "stream",
     "text": [
      "do _generate\n",
      "do _generatedo _generate\n",
      "do _generate\n",
      "\n",
      "do _generate\n",
      "do _generatedo _generate\n",
      "\n",
      "do _generate\n"
     ]
    },
    {
     "name": "stderr",
     "output_type": "stream",
     "text": [
      "===> Using batch size 8000. Total 7 iterations/epoch.\n",
      "Iter 1113 | Time 50.8458(54.1949) | Bit/dim 1.4880(1.4288) | Steps 578(595.54) | Grad Norm 17.9778(12.8660) | Total Time 10.00(10.00)\n",
      "Iter 1114 | Time 54.1125(54.1924) | Bit/dim 1.5240(1.4316) | Steps 596(595.55) | Grad Norm 30.0636(13.3819) | Total Time 10.00(10.00)\n",
      "Iter 1115 | Time 57.3172(54.2861) | Bit/dim 1.4565(1.4324) | Steps 602(595.75) | Grad Norm 11.0854(13.3130) | Total Time 10.00(10.00)\n",
      "Iter 1116 | Time 56.1404(54.3418) | Bit/dim 1.5204(1.4350) | Steps 584(595.39) | Grad Norm 15.9861(13.3932) | Total Time 10.00(10.00)\n",
      "Iter 1117 | Time 55.9172(54.3890) | Bit/dim 1.4578(1.4357) | Steps 602(595.59) | Grad Norm 10.7693(13.3145) | Total Time 10.00(10.00)\n",
      "Iter 1118 | Time 56.3573(54.4481) | Bit/dim 1.4365(1.4357) | Steps 596(595.60) | Grad Norm 13.4269(13.3178) | Total Time 10.00(10.00)\n",
      "Iter 1119 | Time 54.1337(54.4387) | Bit/dim 1.4563(1.4364) | Steps 590(595.44) | Grad Norm 12.6223(13.2970) | Total Time 10.00(10.00)\n",
      "validating...\n",
      "Epoch 0160 | Time 13.6799, Epoch Time 412.8790, Bit/dim 1.7130\n"
     ]
    },
    {
     "name": "stdout",
     "output_type": "stream",
     "text": [
      "do _generate\n",
      "do _generate\n",
      "do _generate\n",
      "do _generate\n",
      "do _generate\n",
      "do _generate\n",
      "do _generate\n",
      "do _generate\n"
     ]
    },
    {
     "name": "stderr",
     "output_type": "stream",
     "text": [
      "===> Using batch size 8000. Total 7 iterations/epoch.\n",
      "Iter 1120 | Time 53.4461(54.4089) | Bit/dim 1.4381(1.4364) | Steps 584(595.09) | Grad Norm 15.4182(13.3606) | Total Time 10.00(10.00)\n",
      "Iter 1123 | Time 61.8937(54.7554) | Bit/dim 1.4170(1.4355) | Steps 608(595.71) | Grad Norm 6.5892(12.9422) | Total Time 10.00(10.00)\n",
      "Iter 1124 | Time 52.6765(54.6931) | Bit/dim 1.4285(1.4353) | Steps 584(595.36) | Grad Norm 9.8737(12.8501) | Total Time 10.00(10.00)\n",
      "Iter 1125 | Time 52.1623(54.6171) | Bit/dim 1.4185(1.4348) | Steps 596(595.37) | Grad Norm 4.7857(12.6082) | Total Time 10.00(10.00)\n",
      "Iter 1126 | Time 54.3911(54.6104) | Bit/dim 1.4256(1.4346) | Steps 596(595.39) | Grad Norm 9.4562(12.5136) | Total Time 10.00(10.00)\n",
      "validating...\n",
      "Epoch 0161 | Time 13.9993, Epoch Time 416.2148, Bit/dim 1.7276\n"
     ]
    },
    {
     "name": "stdout",
     "output_type": "stream",
     "text": [
      "do _generate\n",
      "do _generate\n",
      "do _generate\n",
      "do _generate\n",
      "do _generate\n",
      "do _generate\n",
      "do _generate\n",
      "do _generate\n"
     ]
    },
    {
     "name": "stderr",
     "output_type": "stream",
     "text": [
      "===> Using batch size 8000. Total 7 iterations/epoch.\n",
      "Iter 1127 | Time 53.0710(54.5642) | Bit/dim 1.4081(1.4338) | Steps 584(595.05) | Grad Norm 7.6956(12.3691) | Total Time 10.00(10.00)\n",
      "Iter 1128 | Time 53.6394(54.5364) | Bit/dim 1.4041(1.4329) | Steps 602(595.26) | Grad Norm 5.5053(12.1632) | Total Time 10.00(10.00)\n",
      "Iter 1129 | Time 55.0912(54.5531) | Bit/dim 1.3916(1.4316) | Steps 602(595.46) | Grad Norm 8.5226(12.0540) | Total Time 10.00(10.00)\n",
      "Iter 1132 | Time 56.6204(54.6767) | Bit/dim 1.4029(1.4289) | Steps 596(595.16) | Grad Norm 5.6689(11.5147) | Total Time 10.00(10.00)\n",
      "Iter 1133 | Time 53.1076(54.6297) | Bit/dim 1.3823(1.4275) | Steps 602(595.37) | Grad Norm 5.1416(11.3235) | Total Time 10.00(10.00)\n",
      "validating...\n",
      "Epoch 0162 | Time 14.2824, Epoch Time 411.8703, Bit/dim 1.7738\n"
     ]
    },
    {
     "name": "stdout",
     "output_type": "stream",
     "text": [
      "do _generate\n",
      "do _generate\n",
      "do _generatedo _generate\n",
      "\n",
      "do _generate\n",
      "do _generate\n",
      "do _generate\n",
      "do _generate\n"
     ]
    },
    {
     "name": "stderr",
     "output_type": "stream",
     "text": [
      "===> Using batch size 8000. Total 7 iterations/epoch.\n",
      "Iter 1134 | Time 53.2352(54.5878) | Bit/dim 1.3862(1.4263) | Steps 602(595.56) | Grad Norm 5.8120(11.1582) | Total Time 10.00(10.00)\n",
      "Iter 1135 | Time 51.8592(54.5060) | Bit/dim 1.3770(1.4248) | Steps 596(595.58) | Grad Norm 3.4386(10.9266) | Total Time 10.00(10.00)\n",
      "Iter 1136 | Time 53.3351(54.4708) | Bit/dim 1.3881(1.4237) | Steps 602(595.77) | Grad Norm 5.6317(10.7677) | Total Time 10.00(10.00)\n",
      "Iter 1137 | Time 50.1811(54.3421) | Bit/dim 1.3817(1.4225) | Steps 584(595.42) | Grad Norm 4.9051(10.5918) | Total Time 10.00(10.00)\n",
      "Iter 1138 | Time 52.0229(54.2726) | Bit/dim 1.3833(1.4213) | Steps 596(595.43) | Grad Norm 3.0077(10.3643) | Total Time 10.00(10.00)\n",
      "Iter 1139 | Time 52.9620(54.2332) | Bit/dim 1.3774(1.4200) | Steps 596(595.45) | Grad Norm 5.3525(10.2140) | Total Time 10.00(10.00)\n",
      "Iter 1140 | Time 52.8224(54.1909) | Bit/dim 1.3724(1.4185) | Steps 596(595.47) | Grad Norm 3.6102(10.0158) | Total Time 10.00(10.00)\n",
      "validating...\n",
      "Epoch 0163 | Time 13.5683, Epoch Time 395.3293, Bit/dim 1.7183\n"
     ]
    },
    {
     "name": "stdout",
     "output_type": "stream",
     "text": [
      "do _generate\n",
      "do _generate\n",
      "do _generate\n",
      "do _generate\n",
      "do _generate\n",
      "do _generate\n",
      "do _generate\n",
      "do _generate\n"
     ]
    },
    {
     "name": "stderr",
     "output_type": "stream",
     "text": [
      "===> Using batch size 8000. Total 7 iterations/epoch.\n",
      "Iter 1141 | Time 51.7950(54.1190) | Bit/dim 1.3783(1.4173) | Steps 584(595.12) | Grad Norm 3.4349(9.8184) | Total Time 10.00(10.00)\n",
      "Iter 1142 | Time 51.4076(54.0377) | Bit/dim 1.3736(1.4160) | Steps 596(595.15) | Grad Norm 5.6808(9.6943) | Total Time 10.00(10.00)\n",
      "Iter 1143 | Time 52.8472(54.0020) | Bit/dim 1.3797(1.4149) | Steps 584(594.82) | Grad Norm 5.0743(9.5557) | Total Time 10.00(10.00)\n",
      "Iter 1144 | Time 52.9249(53.9697) | Bit/dim 1.3761(1.4138) | Steps 596(594.85) | Grad Norm 2.5406(9.3452) | Total Time 10.00(10.00)\n",
      "Iter 1145 | Time 53.4899(53.9553) | Bit/dim 1.3742(1.4126) | Steps 602(595.07) | Grad Norm 4.4823(9.1994) | Total Time 10.00(10.00)\n",
      "Iter 1146 | Time 54.1914(53.9624) | Bit/dim 1.3660(1.4112) | Steps 602(595.27) | Grad Norm 4.6508(9.0629) | Total Time 10.00(10.00)\n",
      "Iter 1147 | Time 54.9104(53.9908) | Bit/dim 1.3501(1.4094) | Steps 602(595.48) | Grad Norm 2.1682(8.8561) | Total Time 10.00(10.00)\n",
      "validating...\n",
      "Epoch 0164 | Time 14.7221, Epoch Time 400.8111, Bit/dim 1.7862\n"
     ]
    },
    {
     "name": "stdout",
     "output_type": "stream",
     "text": [
      "do _generate\n",
      "do _generate\n",
      "do _generate\n",
      "do _generate\n",
      "do _generate\n",
      "do _generate\n",
      "do _generate\n",
      "do _generate\n"
     ]
    },
    {
     "name": "stderr",
     "output_type": "stream",
     "text": [
      "===> Using batch size 8000. Total 7 iterations/epoch.\n",
      "Iter 1148 | Time 54.3146(54.0005) | Bit/dim 1.3634(1.4080) | Steps 602(595.67) | Grad Norm 4.5915(8.7281) | Total Time 10.00(10.00)\n",
      "Iter 1149 | Time 56.0887(54.0632) | Bit/dim 1.3648(1.4067) | Steps 590(595.50) | Grad Norm 6.9106(8.6736) | Total Time 10.00(10.00)\n",
      "Iter 1150 | Time 55.9696(54.1204) | Bit/dim 1.3629(1.4054) | Steps 602(595.70) | Grad Norm 5.4821(8.5779) | Total Time 10.00(10.00)\n",
      "Iter 1151 | Time 56.1472(54.1812) | Bit/dim 1.3621(1.4041) | Steps 596(595.71) | Grad Norm 2.4799(8.3949) | Total Time 10.00(10.00)\n",
      "Iter 1152 | Time 52.4771(54.1300) | Bit/dim 1.3622(1.4028) | Steps 596(595.71) | Grad Norm 5.6422(8.3123) | Total Time 10.00(10.00)\n",
      "Iter 1153 | Time 55.0293(54.1570) | Bit/dim 1.3607(1.4015) | Steps 602(595.90) | Grad Norm 9.1981(8.3389) | Total Time 10.00(10.00)\n",
      "Iter 1154 | Time 51.2641(54.0702) | Bit/dim 1.3593(1.4003) | Steps 596(595.91) | Grad Norm 6.5723(8.2859) | Total Time 10.00(10.00)\n",
      "validating...\n",
      "Epoch 0165 | Time 13.9427, Epoch Time 409.8380, Bit/dim 1.7199\n"
     ]
    },
    {
     "name": "stdout",
     "output_type": "stream",
     "text": [
      "do _generate\n",
      "do _generate\n",
      "do _generate\n",
      "do _generate\n",
      "do _generate\n",
      "do _generate\n",
      "do _generate\n",
      "do _generate\n"
     ]
    },
    {
     "name": "stderr",
     "output_type": "stream",
     "text": [
      "===> Using batch size 8000. Total 7 iterations/epoch.\n",
      "Iter 1155 | Time 51.6049(53.9963) | Bit/dim 1.3683(1.3993) | Steps 596(595.91) | Grad Norm 3.2076(8.1336) | Total Time 10.00(10.00)\n",
      "Iter 1156 | Time 51.4047(53.9185) | Bit/dim 1.3586(1.3981) | Steps 602(596.09) | Grad Norm 3.8859(8.0061) | Total Time 10.00(10.00)\n",
      "Iter 1157 | Time 53.9216(53.9186) | Bit/dim 1.3620(1.3970) | Steps 602(596.27) | Grad Norm 5.0119(7.9163) | Total Time 10.00(10.00)\n",
      "Iter 1158 | Time 53.5677(53.9081) | Bit/dim 1.3518(1.3957) | Steps 602(596.44) | Grad Norm 5.3552(7.8395) | Total Time 10.00(10.00)\n",
      "Iter 1159 | Time 55.5533(53.9574) | Bit/dim 1.3542(1.3944) | Steps 596(596.43) | Grad Norm 3.6709(7.7144) | Total Time 10.00(10.00)\n",
      "Iter 1160 | Time 55.6962(54.0096) | Bit/dim 1.3440(1.3929) | Steps 596(596.41) | Grad Norm 2.2211(7.5496) | Total Time 10.00(10.00)\n",
      "Iter 1161 | Time 54.5642(54.0262) | Bit/dim 1.3547(1.3918) | Steps 596(596.40) | Grad Norm 2.2405(7.3903) | Total Time 10.00(10.00)\n",
      "validating...\n",
      "Epoch 0166 | Time 15.2622, Epoch Time 406.1087, Bit/dim 1.8052\n"
     ]
    },
    {
     "name": "stdout",
     "output_type": "stream",
     "text": [
      "do _generate\n",
      "do _generate\n",
      "do _generate\n",
      "do _generate\n",
      "do _generate\n",
      "do _generate\n",
      "do _generate\n",
      "do _generate\n"
     ]
    },
    {
     "name": "stderr",
     "output_type": "stream",
     "text": [
      "===> Using batch size 8000. Total 7 iterations/epoch.\n",
      "Iter 1162 | Time 55.1252(54.0592) | Bit/dim 1.3509(1.3905) | Steps 602(596.57) | Grad Norm 2.2195(7.2352) | Total Time 10.00(10.00)\n",
      "Iter 1163 | Time 56.6631(54.1373) | Bit/dim 1.3590(1.3896) | Steps 602(596.73) | Grad Norm 3.6532(7.1278) | Total Time 10.00(10.00)\n",
      "Iter 1164 | Time 51.9724(54.0724) | Bit/dim 1.3385(1.3881) | Steps 596(596.71) | Grad Norm 4.5862(7.0515) | Total Time 10.00(10.00)\n",
      "Iter 1165 | Time 53.4116(54.0526) | Bit/dim 1.3441(1.3867) | Steps 596(596.69) | Grad Norm 4.9752(6.9892) | Total Time 10.00(10.00)\n",
      "Iter 1166 | Time 51.6992(53.9820) | Bit/dim 1.3422(1.3854) | Steps 596(596.67) | Grad Norm 5.4721(6.9437) | Total Time 10.00(10.00)\n",
      "Iter 1167 | Time 51.8267(53.9173) | Bit/dim 1.3502(1.3843) | Steps 602(596.83) | Grad Norm 5.4446(6.8987) | Total Time 10.00(10.00)\n",
      "Iter 1168 | Time 52.4467(53.8732) | Bit/dim 1.3430(1.3831) | Steps 596(596.80) | Grad Norm 4.6650(6.8317) | Total Time 10.00(10.00)\n",
      "validating...\n",
      "Epoch 0167 | Time 14.1475, Epoch Time 401.8462, Bit/dim 1.7695\n"
     ]
    },
    {
     "name": "stdout",
     "output_type": "stream",
     "text": [
      "do _generate\n",
      "do _generate\n",
      "do _generate\n",
      "do _generate\n",
      "do _generate\n",
      "do _generate\n",
      "do _generate\n",
      "do _generate\n"
     ]
    },
    {
     "name": "stderr",
     "output_type": "stream",
     "text": [
      "===> Using batch size 8000. Total 7 iterations/epoch.\n",
      "Iter 1169 | Time 52.7610(53.8398) | Bit/dim 1.3440(1.3819) | Steps 596(596.78) | Grad Norm 4.9901(6.7765) | Total Time 10.00(10.00)\n",
      "Iter 1170 | Time 51.3123(53.7640) | Bit/dim 1.3451(1.3808) | Steps 596(596.76) | Grad Norm 6.5961(6.7711) | Total Time 10.00(10.00)\n",
      "Iter 1171 | Time 56.0164(53.8316) | Bit/dim 1.3494(1.3799) | Steps 602(596.91) | Grad Norm 9.7511(6.8605) | Total Time 10.00(10.00)\n",
      "Iter 1172 | Time 52.8506(53.8021) | Bit/dim 1.3616(1.3793) | Steps 596(596.89) | Grad Norm 14.7172(7.0962) | Total Time 10.00(10.00)\n",
      "Iter 1173 | Time 55.5370(53.8542) | Bit/dim 1.3802(1.3794) | Steps 608(597.22) | Grad Norm 22.4712(7.5574) | Total Time 10.00(10.00)\n",
      "Iter 1174 | Time 51.4051(53.7807) | Bit/dim 1.4237(1.3807) | Steps 584(596.82) | Grad Norm 26.9838(8.1402) | Total Time 10.00(10.00)\n",
      "Iter 1175 | Time 54.5142(53.8027) | Bit/dim 1.3823(1.3807) | Steps 608(597.16) | Grad Norm 19.9677(8.4950) | Total Time 10.00(10.00)\n",
      "validating...\n",
      "Epoch 0168 | Time 14.0494, Epoch Time 403.0871, Bit/dim 1.7674\n"
     ]
    },
    {
     "name": "stdout",
     "output_type": "stream",
     "text": [
      "do _generate\n",
      "do _generate\n",
      "do _generate\n",
      "do _generate\n",
      "do _generate\n",
      "do _generate\n",
      "do _generate\n",
      "do _generate\n"
     ]
    },
    {
     "name": "stderr",
     "output_type": "stream",
     "text": [
      "===> Using batch size 8000. Total 7 iterations/epoch.\n",
      "Iter 1176 | Time 53.0852(53.7812) | Bit/dim 1.3532(1.3799) | Steps 596(597.12) | Grad Norm 6.9152(8.4476) | Total Time 10.00(10.00)\n",
      "Iter 1177 | Time 52.8350(53.7528) | Bit/dim 1.3575(1.3792) | Steps 596(597.09) | Grad Norm 7.3162(8.4137) | Total Time 10.00(10.00)\n",
      "Iter 1178 | Time 57.8792(53.8766) | Bit/dim 1.3689(1.3789) | Steps 602(597.24) | Grad Norm 22.2244(8.8280) | Total Time 10.00(10.00)\n",
      "Iter 1179 | Time 53.0479(53.8517) | Bit/dim 1.4537(1.3812) | Steps 572(596.48) | Grad Norm 29.3094(9.4425) | Total Time 10.00(10.00)\n",
      "Iter 1180 | Time 59.1912(54.0119) | Bit/dim 1.3889(1.3814) | Steps 602(596.65) | Grad Norm 14.9926(9.6090) | Total Time 10.00(10.00)\n",
      "Iter 1181 | Time 55.9874(54.0712) | Bit/dim 1.3663(1.3810) | Steps 602(596.81) | Grad Norm 14.2075(9.7469) | Total Time 10.00(10.00)\n",
      "Iter 1182 | Time 53.2360(54.0461) | Bit/dim 1.4190(1.3821) | Steps 584(596.42) | Grad Norm 24.0099(10.1748) | Total Time 10.00(10.00)\n",
      "validating...\n",
      "Epoch 0169 | Time 14.6561, Epoch Time 414.5451, Bit/dim 1.7680\n"
     ]
    },
    {
     "name": "stdout",
     "output_type": "stream",
     "text": [
      "do _generate\n",
      "do _generate\n",
      "do _generate\n",
      "do _generate\n",
      "do _generate\n",
      "do _generate\n",
      "do _generate\n",
      "do _generate\n"
     ]
    },
    {
     "name": "stderr",
     "output_type": "stream",
     "text": [
      "===> Using batch size 8000. Total 7 iterations/epoch.\n",
      "Iter 1183 | Time 53.8873(54.0414) | Bit/dim 1.3796(1.3820) | Steps 602(596.59) | Grad Norm 17.2031(10.3857) | Total Time 10.00(10.00)\n",
      "Iter 1184 | Time 54.1463(54.0445) | Bit/dim 1.3490(1.3810) | Steps 596(596.57) | Grad Norm 5.1138(10.2275) | Total Time 10.00(10.00)\n",
      "Iter 1185 | Time 54.5663(54.0602) | Bit/dim 1.3591(1.3804) | Steps 602(596.73) | Grad Norm 8.3799(10.1721) | Total Time 10.00(10.00)\n",
      "Iter 1186 | Time 56.9427(54.1466) | Bit/dim 1.3645(1.3799) | Steps 602(596.89) | Grad Norm 11.7218(10.2186) | Total Time 10.00(10.00)\n",
      "Iter 1187 | Time 57.1350(54.2363) | Bit/dim 1.3483(1.3789) | Steps 596(596.87) | Grad Norm 6.9131(10.1194) | Total Time 10.00(10.00)\n",
      "Iter 1188 | Time 54.1215(54.2329) | Bit/dim 1.3515(1.3781) | Steps 596(596.84) | Grad Norm 4.0360(9.9369) | Total Time 10.00(10.00)\n",
      "Iter 1189 | Time 58.6103(54.3642) | Bit/dim 1.3563(1.3775) | Steps 602(596.99) | Grad Norm 7.2603(9.8566) | Total Time 10.00(10.00)\n",
      "validating...\n",
      "Epoch 0170 | Time 14.0063, Epoch Time 418.3419, Bit/dim 1.8075\n"
     ]
    },
    {
     "name": "stdout",
     "output_type": "stream",
     "text": [
      "do _generate\n",
      "do _generate\n",
      "do _generate\n",
      "do _generate\n",
      "do _generate\n",
      "do _generate\n",
      "do _generate\n",
      "do _generate\n"
     ]
    },
    {
     "name": "stderr",
     "output_type": "stream",
     "text": [
      "===> Using batch size 8000. Total 7 iterations/epoch.\n",
      "Iter 1190 | Time 54.9556(54.3819) | Bit/dim 1.3560(1.3768) | Steps 596(596.96) | Grad Norm 8.1618(9.8058) | Total Time 10.00(10.00)\n",
      "Iter 1191 | Time 55.6744(54.4207) | Bit/dim 1.3379(1.3757) | Steps 602(597.12) | Grad Norm 4.6324(9.6506) | Total Time 10.00(10.00)\n",
      "Iter 1192 | Time 57.2120(54.5044) | Bit/dim 1.3512(1.3749) | Steps 602(597.26) | Grad Norm 3.4643(9.4650) | Total Time 10.00(10.00)\n",
      "Iter 1193 | Time 56.4293(54.5622) | Bit/dim 1.3490(1.3741) | Steps 596(597.22) | Grad Norm 6.3099(9.3703) | Total Time 10.00(10.00)\n",
      "Iter 1194 | Time 56.8145(54.6297) | Bit/dim 1.3453(1.3733) | Steps 602(597.37) | Grad Norm 6.8700(9.2953) | Total Time 10.00(10.00)\n",
      "Iter 1195 | Time 53.7514(54.6034) | Bit/dim 1.3462(1.3725) | Steps 596(597.33) | Grad Norm 5.2604(9.1743) | Total Time 10.00(10.00)\n",
      "Iter 1196 | Time 56.4037(54.6574) | Bit/dim 1.3429(1.3716) | Steps 596(597.29) | Grad Norm 2.8372(8.9841) | Total Time 10.00(10.00)\n",
      "validating...\n",
      "Epoch 0171 | Time 14.2408, Epoch Time 420.0262, Bit/dim 1.8699\n"
     ]
    },
    {
     "name": "stdout",
     "output_type": "stream",
     "text": [
      "do _generate\n",
      "do _generate\n",
      "do _generate\n",
      "do _generate\n",
      "do _generate\n",
      "do _generate\n",
      "do _generate\n",
      "do _generate\n"
     ]
    },
    {
     "name": "stderr",
     "output_type": "stream",
     "text": [
      "===> Using batch size 8000. Total 7 iterations/epoch.\n",
      "Iter 1197 | Time 55.9160(54.6952) | Bit/dim 1.3385(1.3706) | Steps 596(597.25) | Grad Norm 4.9279(8.8625) | Total Time 10.00(10.00)\n",
      "Iter 1198 | Time 53.6777(54.6646) | Bit/dim 1.3441(1.3698) | Steps 596(597.21) | Grad Norm 7.6156(8.8251) | Total Time 10.00(10.00)\n",
      "Iter 1199 | Time 57.9238(54.7624) | Bit/dim 1.3375(1.3688) | Steps 602(597.35) | Grad Norm 11.7199(8.9119) | Total Time 10.00(10.00)\n",
      "Iter 1200 | Time 53.6977(54.7305) | Bit/dim 1.3662(1.3687) | Steps 596(597.31) | Grad Norm 14.7610(9.0874) | Total Time 10.00(10.00)\n",
      "Iter 1201 | Time 52.3986(54.6605) | Bit/dim 1.3466(1.3681) | Steps 602(597.45) | Grad Norm 14.1742(9.2400) | Total Time 10.00(10.00)\n",
      "Iter 1202 | Time 53.7946(54.6345) | Bit/dim 1.3492(1.3675) | Steps 596(597.41) | Grad Norm 10.2849(9.2713) | Total Time 10.00(10.00)\n",
      "Iter 1203 | Time 57.5326(54.7215) | Bit/dim 1.3382(1.3666) | Steps 602(597.55) | Grad Norm 5.8935(9.1700) | Total Time 10.00(10.00)\n",
      "validating...\n",
      "Epoch 0172 | Time 16.1987, Epoch Time 416.1109, Bit/dim 1.7779\n"
     ]
    },
    {
     "name": "stdout",
     "output_type": "stream",
     "text": [
      "do _generate\n",
      "do _generate\n",
      "do _generate\n",
      "do _generate\n",
      "do _generate\n",
      "do _generate\n",
      "do _generate\n",
      "do _generate\n"
     ]
    },
    {
     "name": "stderr",
     "output_type": "stream",
     "text": [
      "===> Using batch size 8000. Total 7 iterations/epoch.\n",
      "Iter 1204 | Time 59.1114(54.8532) | Bit/dim 1.3374(1.3658) | Steps 596(597.50) | Grad Norm 2.5433(8.9712) | Total Time 10.00(10.00)\n",
      "Iter 1205 | Time 53.3230(54.8073) | Bit/dim 1.3269(1.3646) | Steps 596(597.46) | Grad Norm 4.4628(8.8359) | Total Time 10.00(10.00)\n",
      "Iter 1206 | Time 52.4858(54.7376) | Bit/dim 1.3337(1.3637) | Steps 596(597.41) | Grad Norm 7.2193(8.7874) | Total Time 10.00(10.00)\n",
      "Iter 1207 | Time 51.7985(54.6495) | Bit/dim 1.3432(1.3630) | Steps 596(597.37) | Grad Norm 8.5628(8.7807) | Total Time 10.00(10.00)\n"
     ]
    }
   ],
   "source": [
    "%run -p train_cnf.py --data mnist --dims 64,64,64 --strides 1,1,1,1 --num_blocks 2 --layer_type concat --multiscale True --rademacher True --batch_size 8000 --test_batch_size 8000"
   ]
  },
  {
   "cell_type": "code",
   "execution_count": null,
   "metadata": {},
   "outputs": [],
   "source": []
  }
 ],
 "metadata": {
  "kernelspec": {
   "display_name": "Python 3",
   "language": "python",
   "name": "python3"
  },
  "language_info": {
   "codemirror_mode": {
    "name": "ipython",
    "version": 3
   },
   "file_extension": ".py",
   "mimetype": "text/x-python",
   "name": "python",
   "nbconvert_exporter": "python",
   "pygments_lexer": "ipython3",
   "version": "3.6.7"
  }
 },
 "nbformat": 4,
 "nbformat_minor": 2
}
