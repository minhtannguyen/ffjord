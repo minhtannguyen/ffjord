{
 "cells": [
  {
   "cell_type": "code",
   "execution_count": null,
   "metadata": {},
   "outputs": [],
   "source": [
    "%%bash\n",
    "\n",
    "### Prepare ImageNet 32x32 and 64x64 ### \n",
    "DATA_DIR=/tandatasets/small_imnet\n",
    "\n",
    "mkdir ${DATA_DIR}\n",
    "cd ${DATA_DIR}\n",
    "\n",
    "for FILENAME in train_32x32.tar valid_32x32.tar train_64x64.tar valid_64x64.tar\n",
    "do\n",
    "    curl -O http://image-net.org/small/$FILENAME\n",
    "    tar -xvf $FILENAME\n",
    "done"
   ]
  },
  {
   "cell_type": "code",
   "execution_count": null,
   "metadata": {},
   "outputs": [],
   "source": []
  }
 ],
 "metadata": {
  "kernelspec": {
   "display_name": "Python 3",
   "language": "python",
   "name": "python3"
  },
  "language_info": {
   "codemirror_mode": {
    "name": "ipython",
    "version": 3
   },
   "file_extension": ".py",
   "mimetype": "text/x-python",
   "name": "python",
   "nbconvert_exporter": "python",
   "pygments_lexer": "ipython3",
   "version": "3.6.7"
  }
 },
 "nbformat": 4,
 "nbformat_minor": 2
}
