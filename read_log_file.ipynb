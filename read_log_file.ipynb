{
 "cells": [
  {
   "cell_type": "code",
   "execution_count": 1,
   "metadata": {},
   "outputs": [],
   "source": [
    "import numpy as np"
   ]
  },
  {
   "cell_type": "code",
   "execution_count": 2,
   "metadata": {},
   "outputs": [
    {
     "name": "stdout",
     "output_type": "stream",
     "text": [
      "Average time per epoch = 233.987517\n"
     ]
    }
   ],
   "source": [
    "log_file = 'experiments/cnf_nocond_bs8K_100timeslr_exploretol2/logs'\n",
    "\n",
    "with open(log_file) as f:\n",
    "    content = f.readlines()\n",
    "\n",
    "content = [line.strip() for line in content] \n",
    "start_collect = False\n",
    "epoch_time = []\n",
    "for line in content:\n",
    "    cline = line.split(' | ')\n",
    "    for phrase in cline:\n",
    "        cphrase = phrase.split(', ')\n",
    "        for word in cphrase:\n",
    "            if word == 'Epoch 0001':\n",
    "                start_collect = True\n",
    "            if start_collect:\n",
    "                cword = word.split(' ')\n",
    "                if len(cword) >= 2:\n",
    "                    if cword[0]=='Epoch' and cword[1]=='Time':\n",
    "                        epoch_time.append(float(cword[2]))\n",
    "\n",
    "print('Average time per epoch = %f'%np.mean(epoch_time[0:399]))"
   ]
  },
  {
   "cell_type": "code",
   "execution_count": null,
   "metadata": {},
   "outputs": [],
   "source": []
  }
 ],
 "metadata": {
  "kernelspec": {
   "display_name": "Python 3",
   "language": "python",
   "name": "python3"
  },
  "language_info": {
   "codemirror_mode": {
    "name": "ipython",
    "version": 3
   },
   "file_extension": ".py",
   "mimetype": "text/x-python",
   "name": "python",
   "nbconvert_exporter": "python",
   "pygments_lexer": "ipython3",
   "version": "3.6.7"
  }
 },
 "nbformat": 4,
 "nbformat_minor": 2
}
