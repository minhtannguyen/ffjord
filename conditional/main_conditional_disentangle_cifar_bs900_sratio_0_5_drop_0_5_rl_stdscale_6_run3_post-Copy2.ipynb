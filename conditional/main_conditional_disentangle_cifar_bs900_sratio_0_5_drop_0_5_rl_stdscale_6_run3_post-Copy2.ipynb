{
 "cells": [
  {
   "cell_type": "code",
   "execution_count": 1,
   "metadata": {},
   "outputs": [],
   "source": [
    "import os\n",
    "os.environ['CUDA_VISIBLE_DEVICES']='0,1,2,3'"
   ]
  },
  {
   "cell_type": "code",
   "execution_count": 2,
   "metadata": {},
   "outputs": [
    {
     "name": "stderr",
     "output_type": "stream",
     "text": [
      "/tancode/repos/tan-ffjord/train_cnf_disentangle_rl.py\n",
      "import argparse\n",
      "import os\n",
      "import time\n",
      "import numpy as np\n",
      "\n",
      "import torch\n",
      "import torch.optim as optim\n",
      "import torchvision.datasets as dset\n",
      "import torchvision.transforms as tforms\n",
      "from torchvision.utils import save_image\n",
      "\n",
      "import torch.utils.data as data\n",
      "from torch.utils.data import Dataset\n",
      "\n",
      "import matplotlib.pyplot as plt\n",
      "plt.rcParams['figure.dpi'] = 300\n",
      "\n",
      "from PIL import Image\n",
      "import os.path\n",
      "import errno\n",
      "import codecs\n",
      "\n",
      "import lib.layers as layers\n",
      "import lib.utils as utils\n",
      "import lib.multiscale_parallel as multiscale_parallel\n",
      "import lib.modules as modules\n",
      "import lib.thops as thops\n",
      "\n",
      "from train_misc import standard_normal_logprob\n",
      "from train_misc import set_cnf_options, count_nfe, count_parameters, count_total_time, count_nfe_gate\n",
      "from train_misc import add_spectral_norm, spectral_norm_power_iteration\n",
      "from train_misc import create_regularization_fns, get_regularization, append_regularization_to_log\n",
      "\n",
      "from tensorboardX import SummaryWriter\n",
      "\n",
      "import glob\n",
      "\n",
      "# go fast boi!!\n",
      "torch.backends.cudnn.benchmark = True\n",
      "SOLVERS = [\"dopri5\", \"bdf\", \"rk4\", \"midpoint\", 'adams', 'explicit_adams']\n",
      "GATES = [\"cnn1\", \"cnn2\", \"rnn\"]\n",
      "\n",
      "parser = argparse.ArgumentParser(\"Continuous Normalizing Flow\")\n",
      "parser.add_argument(\"--data\", choices=[\"mnist\", \"colormnist\", \"svhn\", \"cifar10\", 'lsun_church'], type=str, default=\"mnist\")\n",
      "parser.add_argument(\"--dims\", type=str, default=\"8,32,32,8\")\n",
      "parser.add_argument(\"--strides\", type=str, default=\"2,2,1,-2,-2\")\n",
      "parser.add_argument(\"--num_blocks\", type=int, default=1, help='Number of stacked CNFs.')\n",
      "\n",
      "parser.add_argument(\"--conv\", type=eval, default=True, choices=[True, False])\n",
      "parser.add_argument(\n",
      "    \"--layer_type\", type=str, default=\"ignore\",\n",
      "    choices=[\"ignore\", \"concat\", \"concat_v2\", \"squash\", \"concatsquash\", \"concatcoord\", \"hyper\", \"blend\"]\n",
      ")\n",
      "parser.add_argument(\"--divergence_fn\", type=str, default=\"approximate\", choices=[\"brute_force\", \"approximate\"])\n",
      "parser.add_argument(\n",
      "    \"--nonlinearity\", type=str, default=\"softplus\", choices=[\"tanh\", \"relu\", \"softplus\", \"elu\", \"swish\"]\n",
      ")\n",
      "\n",
      "parser.add_argument(\"--seed\", type=int, default=0)\n",
      "\n",
      "parser.add_argument('--solver', type=str, default='dopri5', choices=SOLVERS)\n",
      "parser.add_argument('--atol', type=float, default=1e-5)\n",
      "parser.add_argument('--rtol', type=float, default=1e-5)\n",
      "parser.add_argument(\"--step_size\", type=float, default=None, help=\"Optional fixed step size.\")\n",
      "\n",
      "parser.add_argument('--gate', type=str, default='cnn1', choices=GATES)\n",
      "parser.add_argument('--scale', type=float, default=1.0)\n",
      "parser.add_argument('--scale_fac', type=float, default=1.0)\n",
      "parser.add_argument('--scale_std', type=float, default=1.0)\n",
      "parser.add_argument('--eta', default=0.1, type=float,\n",
      "                        help='tuning parameter that allows us to trade-off the competing goals of' \n",
      "                                'minimizing the prediction loss and maximizing the gate rewards ')\n",
      "parser.add_argument('--rl-weight', default=0.01, type=float,\n",
      "                        help='rl weight')\n",
      "\n",
      "parser.add_argument('--gamma', default=0.99, type=float,\n",
      "                        help='discount factor, default: (0.99)')\n",
      "\n",
      "parser.add_argument('--test_solver', type=str, default=None, choices=SOLVERS + [None])\n",
      "parser.add_argument('--test_atol', type=float, default=None)\n",
      "parser.add_argument('--test_rtol', type=float, default=None)\n",
      "\n",
      "parser.add_argument(\"--imagesize\", type=int, default=None)\n",
      "parser.add_argument(\"--alpha\", type=float, default=1e-6)\n",
      "parser.add_argument('--time_length', type=float, default=1.0)\n",
      "parser.add_argument('--train_T', type=eval, default=True)\n",
      "\n",
      "parser.add_argument(\"--num_epochs\", type=int, default=500)\n",
      "parser.add_argument(\"--batch_size\", type=int, default=200)\n",
      "parser.add_argument(\n",
      "    \"--batch_size_schedule\", type=str, default=\"\", help=\"Increases the batchsize at every given epoch, dash separated.\"\n",
      ")\n",
      "parser.add_argument(\"--test_batch_size\", type=int, default=200)\n",
      "parser.add_argument(\"--lr\", type=float, default=1e-3)\n",
      "parser.add_argument(\"--warmup_iters\", type=float, default=1000)\n",
      "parser.add_argument(\"--weight_decay\", type=float, default=0.0)\n",
      "parser.add_argument(\"--spectral_norm_niter\", type=int, default=10)\n",
      "parser.add_argument(\"--weight_y\", type=float, default=0.5)\n",
      "parser.add_argument(\"--annealing_std\", type=eval, default=False, choices=[True, False])\n",
      "parser.add_argument(\"--y_class\", type=int, default=10)\n",
      "parser.add_argument(\"--y_color\", type=int, default=10)\n",
      "\n",
      "parser.add_argument(\"--add_noise\", type=eval, default=True, choices=[True, False])\n",
      "parser.add_argument(\"--batch_norm\", type=eval, default=False, choices=[True, False])\n",
      "parser.add_argument('--residual', type=eval, default=False, choices=[True, False])\n",
      "parser.add_argument('--autoencode', type=eval, default=False, choices=[True, False])\n",
      "parser.add_argument('--rademacher', type=eval, default=True, choices=[True, False])\n",
      "parser.add_argument('--spectral_norm', type=eval, default=False, choices=[True, False])\n",
      "parser.add_argument('--multiscale', type=eval, default=False, choices=[True, False])\n",
      "parser.add_argument('--parallel', type=eval, default=False, choices=[True, False])\n",
      "parser.add_argument('--conditional', type=eval, default=False, choices=[True, False])\n",
      "parser.add_argument('--controlled_tol', type=eval, default=False, choices=[True, False])\n",
      "parser.add_argument(\"--train_mode\", choices=[\"semisup\", \"sup\", \"unsup\"], type=str, default=\"semisup\")\n",
      "parser.add_argument(\"--condition_ratio\", type=float, default=0.5)\n",
      "parser.add_argument(\"--dropout_rate\", type=float, default=0.0)\n",
      "\n",
      "\n",
      "# Regularizations\n",
      "parser.add_argument('--l1int', type=float, default=None, help=\"int_t ||f||_1\")\n",
      "parser.add_argument('--l2int', type=float, default=None, help=\"int_t ||f||_2\")\n",
      "parser.add_argument('--dl2int', type=float, default=None, help=\"int_t ||f^T df/dt||_2\")\n",
      "parser.add_argument('--JFrobint', type=float, default=None, help=\"int_t ||df/dx||_F\")\n",
      "parser.add_argument('--JdiagFrobint', type=float, default=None, help=\"int_t ||df_i/dx_i||_F\")\n",
      "parser.add_argument('--JoffdiagFrobint', type=float, default=None, help=\"int_t ||df/dx - df_i/dx_i||_F\")\n",
      "\n",
      "parser.add_argument(\"--time_penalty\", type=float, default=0, help=\"Regularization on the end_time.\")\n",
      "parser.add_argument(\n",
      "    \"--max_grad_norm\", type=float, default=1e10,\n",
      "    help=\"Max norm of graidents (default is just stupidly high to avoid any clipping)\"\n",
      ")\n",
      "\n",
      "parser.add_argument(\"--begin_epoch\", type=int, default=1)\n",
      "parser.add_argument(\"--resume\", type=str, default=None)\n",
      "parser.add_argument(\"--save\", type=str, default=\"experiments/cnf\")\n",
      "parser.add_argument(\"--load_dir\", type=str, default=None)\n",
      "parser.add_argument(\"--resume_load\", type=int, default=1)\n",
      "parser.add_argument(\"--val_freq\", type=int, default=1)\n",
      "parser.add_argument(\"--log_freq\", type=int, default=1)\n",
      "\n",
      "args = parser.parse_args()\n",
      "\n",
      "import lib.odenvp_conditional_rl as odenvp\n",
      "    \n",
      "# set seed\n",
      "torch.manual_seed(args.seed)\n",
      "np.random.seed(args.seed)\n",
      "\n",
      "# logger\n",
      "utils.makedirs(args.save)\n",
      "logger = utils.get_logger(logpath=os.path.join(args.save, 'logs'), filepath=os.path.abspath(__file__)) # write to log file\n",
      "writer = SummaryWriter(os.path.join(args.save, 'tensorboard')) # write to tensorboard\n",
      "\n",
      "if args.layer_type == \"blend\":\n",
      "    logger.info(\"!! Setting time_length from None to 1.0 due to use of Blend layers.\")\n",
      "    args.time_length = 1.0\n",
      "\n",
      "logger.info(args)\n",
      "\n",
      "class ColorMNIST(data.Dataset):\n",
      "    \"\"\"\n",
      "    ColorMNIST\n",
      "    \"\"\"\n",
      "    urls = [\n",
      "        'http://yann.lecun.com/exdb/mnist/train-images-idx3-ubyte.gz',\n",
      "        'http://yann.lecun.com/exdb/mnist/train-labels-idx1-ubyte.gz',\n",
      "        'http://yann.lecun.com/exdb/mnist/t10k-images-idx3-ubyte.gz',\n",
      "        'http://yann.lecun.com/exdb/mnist/t10k-labels-idx1-ubyte.gz',\n",
      "    ]\n",
      "    raw_folder = 'raw'\n",
      "    processed_folder = 'processed'\n",
      "    training_file = 'training.pt'\n",
      "    test_file = 'test.pt'\n",
      "\n",
      "    def __init__(self, root, train=True, transform=None, target_transform=None, download=False):\n",
      "        self.root = os.path.expanduser(root)\n",
      "        self.transform = transform\n",
      "        self.target_transform = target_transform\n",
      "        self.train = train  # training set or test set\n",
      "\n",
      "        if download:\n",
      "            self.download()\n",
      "\n",
      "        if not self._check_exists():\n",
      "            raise RuntimeError('Dataset not found.' +\n",
      "                               ' You can use download=True to download it')\n",
      "\n",
      "        if self.train:\n",
      "            self.train_data, self.train_labels = torch.load(\n",
      "                os.path.join(self.root, self.processed_folder, self.training_file))\n",
      "            \n",
      "            self.train_data = np.tile(self.train_data[:, :, :, np.newaxis], 3)\n",
      "        else:\n",
      "            self.test_data, self.test_labels = torch.load(\n",
      "                os.path.join(self.root, self.processed_folder, self.test_file))\n",
      "            \n",
      "            self.test_data = np.tile(self.test_data[:, :, :, np.newaxis], 3)\n",
      "        \n",
      "        self.pallette = [[31, 119, 180],\n",
      "                         [255, 127, 14],\n",
      "                         [44, 160, 44],\n",
      "                         [214, 39, 40],\n",
      "                         [148, 103, 189],\n",
      "                         [140, 86, 75],\n",
      "                         [227, 119, 194],\n",
      "                         [127, 127, 127],\n",
      "                         [188, 189, 34],\n",
      "                         [23, 190, 207]]\n",
      "\n",
      "    def __getitem__(self, index):\n",
      "        \"\"\"\n",
      "        Args:\n",
      "            index (int): Index\n",
      "\n",
      "        Returns:\n",
      "            tuple: (image, target) where target is index of the target class.\n",
      "        \"\"\"\n",
      "        if self.train:\n",
      "            img, target = self.train_data[index].copy(), self.train_labels[index]\n",
      "        else:\n",
      "            img, target = self.test_data[index].copy(), self.test_labels[index]\n",
      "        \n",
      "        # doing this so that it is consistent with all other datasets\n",
      "        # to return a PIL Image\n",
      "        y_color_digit = np.random.randint(0, args.y_color)\n",
      "        c_digit = self.pallette[y_color_digit]\n",
      "        \n",
      "        img[:, :, 0] = img[:, :, 0] / 255 * c_digit[0]\n",
      "        img[:, :, 1] = img[:, :, 1] / 255 * c_digit[1]\n",
      "        img[:, :, 2] = img[:, :, 2] / 255 * c_digit[2]\n",
      "        \n",
      "        img = Image.fromarray(img)\n",
      "\n",
      "        if self.transform is not None:\n",
      "            img = self.transform(img)\n",
      "\n",
      "        if self.target_transform is not None:\n",
      "            target = self.target_transform(target)\n",
      "\n",
      "        return img, [target,torch.from_numpy(np.array(y_color_digit))]\n",
      "\n",
      "    def __len__(self):\n",
      "        if self.train:\n",
      "            return len(self.train_data)\n",
      "        else:\n",
      "            return len(self.test_data)\n",
      "\n",
      "    def _check_exists(self):\n",
      "        return os.path.exists(os.path.join(self.root, self.processed_folder, self.training_file)) and \\\n",
      "            os.path.exists(os.path.join(self.root, self.processed_folder, self.test_file))\n",
      "\n",
      "    def download(self):\n",
      "        \"\"\"Download the MNIST data if it doesn't exist in processed_folder already.\"\"\"\n",
      "        from six.moves import urllib\n",
      "        import gzip\n",
      "\n",
      "        if self._check_exists():\n",
      "            return\n",
      "\n",
      "        # download files\n",
      "        try:\n",
      "            os.makedirs(os.path.join(self.root, self.raw_folder))\n",
      "            os.makedirs(os.path.join(self.root, self.processed_folder))\n",
      "        except OSError as e:\n",
      "            if e.errno == errno.EEXIST:\n",
      "                pass\n",
      "            else:\n",
      "                raise\n",
      "\n",
      "        for url in self.urls:\n",
      "            print('Downloading ' + url)\n",
      "            data = urllib.request.urlopen(url)\n",
      "            filename = url.rpartition('/')[2]\n",
      "            file_path = os.path.join(self.root, self.raw_folder, filename)\n",
      "            with open(file_path, 'wb') as f:\n",
      "                f.write(data.read())\n",
      "            with open(file_path.replace('.gz', ''), 'wb') as out_f, \\\n",
      "                    gzip.GzipFile(file_path) as zip_f:\n",
      "                out_f.write(zip_f.read())\n",
      "            os.unlink(file_path)\n",
      "\n",
      "        # process and save as torch files\n",
      "        print('Processing...')\n",
      "\n",
      "        training_set = (\n",
      "            read_image_file(os.path.join(self.root, self.raw_folder, 'train-images-idx3-ubyte')),\n",
      "            read_label_file(os.path.join(self.root, self.raw_folder, 'train-labels-idx1-ubyte'))\n",
      "        )\n",
      "        test_set = (\n",
      "            read_image_file(os.path.join(self.root, self.raw_folder, 't10k-images-idx3-ubyte')),\n",
      "            read_label_file(os.path.join(self.root, self.raw_folder, 't10k-labels-idx1-ubyte'))\n",
      "        )\n",
      "        with open(os.path.join(self.root, self.processed_folder, self.training_file), 'wb') as f:\n",
      "            torch.save(training_set, f)\n",
      "        with open(os.path.join(self.root, self.processed_folder, self.test_file), 'wb') as f:\n",
      "            torch.save(test_set, f)\n",
      "\n",
      "        print('Done!')\n",
      "\n",
      "    def __repr__(self):\n",
      "        fmt_str = 'Dataset ' + self.__class__.__name__ + '\\n'\n",
      "        fmt_str += '    Number of datapoints: {}\\n'.format(self.__len__())\n",
      "        tmp = 'train' if self.train is True else 'test'\n",
      "        fmt_str += '    Split: {}\\n'.format(tmp)\n",
      "        fmt_str += '    Root Location: {}\\n'.format(self.root)\n",
      "        tmp = '    Transforms (if any): '\n",
      "        fmt_str += '{0}{1}\\n'.format(tmp, self.transform.__repr__().replace('\\n', '\\n' + ' ' * len(tmp)))\n",
      "        tmp = '    Target Transforms (if any): '\n",
      "        fmt_str += '{0}{1}'.format(tmp, self.target_transform.__repr__().replace('\\n', '\\n' + ' ' * len(tmp)))\n",
      "        return fmt_str\n",
      "\n",
      "def add_noise(x):\n",
      "    \"\"\"\n",
      "    [0, 1] -> [0, 255] -> add noise -> [0, 1]\n",
      "    \"\"\"\n",
      "    if args.add_noise:\n",
      "        noise = x.new().resize_as_(x).uniform_()\n",
      "        x = x * 255 + noise\n",
      "        x = x / 256\n",
      "    return x\n",
      "\n",
      "\n",
      "def update_lr(optimizer, itr):\n",
      "    iter_frac = min(float(itr + 1) / max(args.warmup_iters, 1), 1.0)\n",
      "    lr = args.lr * iter_frac\n",
      "    for param_group in optimizer.param_groups:\n",
      "        param_group[\"lr\"] = lr\n",
      "\n",
      "        \n",
      "def update_scale_std(model, epoch):\n",
      "    epoch_frac = 1.0 - float(epoch - 1) / max(args.num_epochs + 1, 1)\n",
      "    scale_std = args.scale_std * epoch_frac\n",
      "    model.set_scale_std(scale_std)\n",
      "\n",
      "\n",
      "def get_train_loader(train_set, epoch):\n",
      "    if args.batch_size_schedule != \"\":\n",
      "        epochs = [0] + list(map(int, args.batch_size_schedule.split(\"-\")))\n",
      "        n_passed = sum(np.array(epochs) <= epoch)\n",
      "        current_batch_size = int(args.batch_size * n_passed)\n",
      "    else:\n",
      "        current_batch_size = args.batch_size\n",
      "    train_loader = torch.utils.data.DataLoader(\n",
      "        dataset=train_set, batch_size=current_batch_size, shuffle=True, drop_last=True, pin_memory=True\n",
      "    )\n",
      "    logger.info(\"===> Using batch size {}. Total {} iterations/epoch.\".format(current_batch_size, len(train_loader)))\n",
      "    return train_loader\n",
      "\n",
      "\n",
      "def get_dataset(args):\n",
      "    trans = lambda im_size: tforms.Compose([tforms.Resize(im_size), tforms.ToTensor(), add_noise])\n",
      "\n",
      "    if args.data == \"mnist\":\n",
      "        im_dim = 1\n",
      "        im_size = 28 if args.imagesize is None else args.imagesize\n",
      "        train_set = dset.MNIST(root=\"../data\", train=True, transform=trans(im_size), download=True)\n",
      "        test_set = dset.MNIST(root=\"../data\", train=False, transform=trans(im_size), download=True)\n",
      "    elif args.data == \"colormnist\":\n",
      "        im_dim = 3\n",
      "        im_size = 28 if args.imagesize is None else args.imagesize\n",
      "        train_set = ColorMNIST(root=\"../data\", train=True, transform=trans(im_size), download=True)\n",
      "        test_set = ColorMNIST(root=\"../data\", train=False, transform=trans(im_size), download=True)\n",
      "    elif args.data == \"svhn\":\n",
      "        im_dim = 3\n",
      "        im_size = 32 if args.imagesize is None else args.imagesize\n",
      "        train_set = dset.SVHN(root=\"../data\", split=\"train\", transform=trans(im_size), download=True)\n",
      "        test_set = dset.SVHN(root=\"../data\", split=\"test\", transform=trans(im_size), download=True)\n",
      "    elif args.data == \"cifar10\":\n",
      "        im_dim = 3\n",
      "        im_size = 32 if args.imagesize is None else args.imagesize\n",
      "        train_set = dset.CIFAR10(\n",
      "            root=\"../data\", train=True, transform=tforms.Compose([\n",
      "                tforms.Resize(im_size),\n",
      "                tforms.RandomHorizontalFlip(),\n",
      "                tforms.ToTensor(),\n",
      "                add_noise,\n",
      "            ]), download=True\n",
      "        )\n",
      "        test_set = dset.CIFAR10(root=\"../data\", train=False, transform=trans(im_size), download=True)\n",
      "    elif args.data == 'celeba':\n",
      "        im_dim = 3\n",
      "        im_size = 64 if args.imagesize is None else args.imagesize\n",
      "        train_set = dset.CelebA(\n",
      "            train=True, transform=tforms.Compose([\n",
      "                tforms.ToPILImage(),\n",
      "                tforms.Resize(im_size),\n",
      "                tforms.RandomHorizontalFlip(),\n",
      "                tforms.ToTensor(),\n",
      "                add_noise,\n",
      "            ])\n",
      "        )\n",
      "        test_set = dset.CelebA(\n",
      "            train=False, transform=tforms.Compose([\n",
      "                tforms.ToPILImage(),\n",
      "                tforms.Resize(im_size),\n",
      "                tforms.ToTensor(),\n",
      "                add_noise,\n",
      "            ])\n",
      "        )\n",
      "    elif args.data == 'lsun_church':\n",
      "        im_dim = 3\n",
      "        im_size = 64 if args.imagesize is None else args.imagesize\n",
      "        train_set = dset.LSUN(\n",
      "            '../data', ['church_outdoor_train'], transform=tforms.Compose([\n",
      "                tforms.Resize(96),\n",
      "                tforms.RandomCrop(64),\n",
      "                tforms.Resize(im_size),\n",
      "                tforms.ToTensor(),\n",
      "                add_noise,\n",
      "            ])\n",
      "        )\n",
      "        test_set = dset.LSUN(\n",
      "            '../data', ['church_outdoor_val'], transform=tforms.Compose([\n",
      "                tforms.Resize(96),\n",
      "                tforms.RandomCrop(64),\n",
      "                tforms.Resize(im_size),\n",
      "                tforms.ToTensor(),\n",
      "                add_noise,\n",
      "            ])\n",
      "        )    \n",
      "    elif args.data == 'imagenet_64':\n",
      "        im_dim = 3\n",
      "        im_size = 64 if args.imagesize is None else args.imagesize\n",
      "        train_set = dset.ImageFolder(\n",
      "            train=True, transform=tforms.Compose([\n",
      "                tforms.ToPILImage(),\n",
      "                tforms.Resize(im_size),\n",
      "                tforms.RandomHorizontalFlip(),\n",
      "                tforms.ToTensor(),\n",
      "                add_noise,\n",
      "            ])\n",
      "        )\n",
      "        test_set = dset.ImageFolder(\n",
      "            train=False, transform=tforms.Compose([\n",
      "                tforms.ToPILImage(),\n",
      "                tforms.Resize(im_size),\n",
      "                tforms.ToTensor(),\n",
      "                add_noise,\n",
      "            ])\n",
      "        )\n",
      "    \n",
      "    data_shape = (im_dim, im_size, im_size)\n",
      "    if not args.conv:\n",
      "        data_shape = (im_dim * im_size * im_size,)\n",
      "\n",
      "    test_loader = torch.utils.data.DataLoader(\n",
      "        dataset=test_set, batch_size=args.test_batch_size, shuffle=False, drop_last=True\n",
      "    )\n",
      "    return train_set, test_loader, data_shape\n",
      "\n",
      "\n",
      "def compute_bits_per_dim(x, model):\n",
      "    zero = torch.zeros(x.shape[0], 1).to(x)\n",
      "\n",
      "    # Don't use data parallelize if batch size is small.\n",
      "    # if x.shape[0] < 200:\n",
      "    #     model = model.module\n",
      "    \n",
      "    z, delta_logp, atol, rtol, logp_actions, nfe = model(x, zero)  # run model forward\n",
      "\n",
      "    logpz = standard_normal_logprob(z).view(z.shape[0], -1).sum(1, keepdim=True)  # logp(z)\n",
      "    logpx = logpz - delta_logp\n",
      "\n",
      "    logpx_per_dim = torch.sum(logpx) / x.nelement()  # averaged over batches\n",
      "    bits_per_dim = -(logpx_per_dim - np.log(256)) / np.log(2)\n",
      "\n",
      "    return bits_per_dim, atol, rtol, logp_actions, nfe\n",
      "\n",
      "def compute_bits_per_dim_conditional(x, y, model):\n",
      "    zero = torch.zeros(x.shape[0], 1).to(x)\n",
      "    y_onehot = thops.onehot(y, num_classes=model.module.y_class).to(x)\n",
      "\n",
      "    # Don't use data parallelize if batch size is small.\n",
      "    # if x.shape[0] < 200:\n",
      "    #     model = model.module\n",
      "    \n",
      "    z, delta_logp, atol, rtol, logp_actions, nfe = model(x, zero)  # run model forward\n",
      "    \n",
      "    dim_sup = int(args.condition_ratio * np.prod(z.size()[1:]))\n",
      "    \n",
      "    # prior\n",
      "    mean, logs = model.module._prior(y_onehot)\n",
      "\n",
      "    logpz_sup = modules.GaussianDiag.logp(mean, logs, z[:, 0:dim_sup]).view(-1,1)  # logp(z)_sup\n",
      "    logpz_unsup = standard_normal_logprob(z[:, dim_sup:]).view(z.shape[0], -1).sum(1, keepdim=True)\n",
      "    logpz = logpz_sup + logpz_unsup\n",
      "    logpx = logpz - delta_logp\n",
      "\n",
      "    logpx_per_dim = torch.sum(logpx) / x.nelement()  # averaged over batches\n",
      "    bits_per_dim = -(logpx_per_dim - np.log(256)) / np.log(2)\n",
      "    \n",
      "    # dropout\n",
      "    if args.dropout_rate > 0:\n",
      "        zsup = model.module.dropout(z[:, 0:dim_sup])\n",
      "    else:\n",
      "        zsup = z[:, 0:dim_sup]\n",
      "    \n",
      "    # compute xentropy loss\n",
      "    y_logits = model.module.project_class(zsup)\n",
      "    loss_xent = model.module.loss_class(y_logits, y.to(x.get_device()))\n",
      "    y_predicted = np.argmax(y_logits.cpu().detach().numpy(), axis=1)\n",
      "\n",
      "    return bits_per_dim, loss_xent, y_predicted, atol, rtol, logp_actions, nfe\n",
      "\n",
      "def compute_marginal_bits_per_dim(x, y, model):\n",
      "    zero = torch.zeros(x.shape[0], 1).to(x)\n",
      "\n",
      "    # Don't use data parallelize if batch size is small.\n",
      "    # if x.shape[0] < 200:\n",
      "    #     model = model.module\n",
      "    \n",
      "    z, delta_logp, atol, rtol, logp_actions, nfe = model(x, zero)  # run model forward\n",
      "    \n",
      "    dim_sup = int(args.condition_ratio * np.prod(z.size()[1:]))\n",
      "    \n",
      "    logpz_sup = []\n",
      "    \n",
      "    for indx in range(model.module.y_class):\n",
      "        y_i = torch.full_like(y, indx).to(y)\n",
      "        y_onehot = thops.onehot(y_i, num_classes=model.module.y_class).to(x)\n",
      "        # prior\n",
      "        mean, logs = model.module._prior(y_onehot)\n",
      "        logpz_sup.append(modules.GaussianDiag.logp(mean, logs, z[:, 0:dim_sup]).view(-1,1) - torch.log(torch.tensor(model.module.y_class).to(z)))  # logp(z)_sup\n",
      "        \n",
      "    logpz_sup = torch.cat(logpz_sup,dim=1)\n",
      "    logpz_sup = torch.logsumexp(logpz_sup, 1, keepdim=True)\n",
      "    \n",
      "    logpz_unsup = standard_normal_logprob(z[:, dim_sup:]).view(z.shape[0], -1).sum(1, keepdim=True)\n",
      "    logpz = logpz_sup + logpz_unsup\n",
      "    \n",
      "    logpx = logpz - delta_logp\n",
      "\n",
      "    logpx_per_dim = torch.sum(logpx) / x.nelement()  # averaged over batches\n",
      "    bits_per_dim = -(logpx_per_dim - np.log(256)) / np.log(2)\n",
      "\n",
      "    return bits_per_dim\n",
      "\n",
      "def create_model(args, data_shape, regularization_fns):\n",
      "    hidden_dims = tuple(map(int, args.dims.split(\",\")))\n",
      "    strides = tuple(map(int, args.strides.split(\",\")))\n",
      "\n",
      "    if args.multiscale:\n",
      "        model = odenvp.ODENVP(\n",
      "            (args.batch_size, *data_shape),\n",
      "            n_blocks=args.num_blocks,\n",
      "            intermediate_dims=hidden_dims,\n",
      "            nonlinearity=args.nonlinearity,\n",
      "            alpha=args.alpha,\n",
      "            cnf_kwargs={\"T\": args.time_length, \"train_T\": args.train_T, \"regularization_fns\": regularization_fns, \"solver\": args.solver, \"atol\": args.atol, \"rtol\": args.rtol, \"scale\": args.scale, \"scale_fac\": args.scale_fac, \"scale_std\": args.scale_std, \"gate\": args.gate},\n",
      "            condition_ratio=args.condition_ratio,\n",
      "            dropout_rate=args.dropout_rate,\n",
      "            y_class = args.y_class)\n",
      "    elif args.parallel:\n",
      "        model = multiscale_parallel.MultiscaleParallelCNF(\n",
      "            (args.batch_size, *data_shape),\n",
      "            n_blocks=args.num_blocks,\n",
      "            intermediate_dims=hidden_dims,\n",
      "            alpha=args.alpha,\n",
      "            time_length=args.time_length,\n",
      "        )\n",
      "    else:\n",
      "        if args.autoencode:\n",
      "\n",
      "            def build_cnf():\n",
      "                autoencoder_diffeq = layers.AutoencoderDiffEqNet(\n",
      "                    hidden_dims=hidden_dims,\n",
      "                    input_shape=data_shape,\n",
      "                    strides=strides,\n",
      "                    conv=args.conv,\n",
      "                    layer_type=args.layer_type,\n",
      "                    nonlinearity=args.nonlinearity,\n",
      "                )\n",
      "                odefunc = layers.AutoencoderODEfunc(\n",
      "                    autoencoder_diffeq=autoencoder_diffeq,\n",
      "                    divergence_fn=args.divergence_fn,\n",
      "                    residual=args.residual,\n",
      "                    rademacher=args.rademacher,\n",
      "                )\n",
      "                cnf = layers.CNF(\n",
      "                    odefunc=odefunc,\n",
      "                    T=args.time_length,\n",
      "                    regularization_fns=regularization_fns,\n",
      "                    solver=args.solver,\n",
      "                )\n",
      "                return cnf\n",
      "        else:\n",
      "\n",
      "            def build_cnf():\n",
      "                diffeq = layers.ODEnet(\n",
      "                    hidden_dims=hidden_dims,\n",
      "                    input_shape=data_shape,\n",
      "                    strides=strides,\n",
      "                    conv=args.conv,\n",
      "                    layer_type=args.layer_type,\n",
      "                    nonlinearity=args.nonlinearity,\n",
      "                )\n",
      "                odefunc = layers.ODEfunc(\n",
      "                    diffeq=diffeq,\n",
      "                    divergence_fn=args.divergence_fn,\n",
      "                    residual=args.residual,\n",
      "                    rademacher=args.rademacher,\n",
      "                )\n",
      "                cnf = layers.CNF(\n",
      "                    odefunc=odefunc,\n",
      "                    T=args.time_length,\n",
      "                    train_T=args.train_T,\n",
      "                    regularization_fns=regularization_fns,\n",
      "                    solver=args.solver,\n",
      "                )\n",
      "                return cnf\n",
      "\n",
      "        chain = [layers.LogitTransform(alpha=args.alpha)] if args.alpha > 0 else [layers.ZeroMeanTransform()]\n",
      "        chain = chain + [build_cnf() for _ in range(args.num_blocks)]\n",
      "        if args.batch_norm:\n",
      "            chain.append(layers.MovingBatchNorm2d(data_shape[0]))\n",
      "        model = layers.SequentialFlow(chain)\n",
      "    return model\n",
      "\n",
      "\n",
      "if __name__ == \"__main__\":\n",
      "\n",
      "    # get deivce\n",
      "    device = torch.device(\"cuda:0\" if torch.cuda.is_available() else \"cpu\")\n",
      "    cvt = lambda x: x.type(torch.float32).to(device, non_blocking=True)\n",
      "\n",
      "    # load dataset\n",
      "    train_set, test_loader, data_shape = get_dataset(args)\n",
      "\n",
      "    # build model\n",
      "    regularization_fns, regularization_coeffs = create_regularization_fns(args)\n",
      "    model = create_model(args, data_shape, regularization_fns)\n",
      "\n",
      "    if args.spectral_norm: add_spectral_norm(model, logger)\n",
      "    set_cnf_options(args, model)\n",
      "\n",
      "    logger.info(model)\n",
      "    logger.info(\"Number of trainable parameters: {}\".format(count_parameters(model)))\n",
      "    \n",
      "    writer.add_text('info', \"Number of trainable parameters: {}\".format(count_parameters(model)))\n",
      "\n",
      "    # optimizer\n",
      "    optimizer = optim.Adam(model.parameters(), lr=args.lr, weight_decay=args.weight_decay)\n",
      "    \n",
      "    # set initial iter\n",
      "    itr = 1\n",
      "    \n",
      "    # set the meters\n",
      "    time_epoch_meter = utils.RunningAverageMeter(0.97)\n",
      "    time_meter = utils.RunningAverageMeter(0.97)\n",
      "    loss_meter = utils.RunningAverageMeter(0.97) # track total loss\n",
      "    nll_meter = utils.RunningAverageMeter(0.97) # track negative log-likelihood\n",
      "    xent_meter = utils.RunningAverageMeter(0.97) # track xentropy score\n",
      "    error_meter = utils.RunningAverageMeter(0.97) # track error score\n",
      "    steps_meter = utils.RunningAverageMeter(0.97)\n",
      "    grad_meter = utils.RunningAverageMeter(0.97)\n",
      "    tt_meter = utils.RunningAverageMeter(0.97)\n",
      "    \n",
      "    \n",
      "    if args.load_dir is not None:\n",
      "        filelist = glob.glob(os.path.join(args.load_dir,\"*epoch_*_checkpt.pth\"))\n",
      "        all_indx = []\n",
      "        for infile in sorted(filelist):\n",
      "            all_indx.append(int(infile.split('_')[-2]))\n",
      "            \n",
      "        indxmax = max(all_indx)\n",
      "        indxstart = max(1, args.resume_load)\n",
      "        \n",
      "        for i in range(indxstart,indxmax+1):\n",
      "            model = create_model(args, data_shape, regularization_fns)\n",
      "            infile = os.path.join(args.load_dir,\"epoch_%i_checkpt.pth\"%i)\n",
      "            print(infile)\n",
      "            checkpt = torch.load(infile, map_location=lambda storage, loc: storage)\n",
      "            model.load_state_dict(checkpt[\"state_dict\"])\n",
      "            \n",
      "            if torch.cuda.is_available():\n",
      "                model = torch.nn.DataParallel(model).cuda()\n",
      "                \n",
      "            model.eval()\n",
      "            \n",
      "            with torch.no_grad():\n",
      "                logger.info(\"validating...\")\n",
      "                losses = []\n",
      "                for (x, y) in test_loader:\n",
      "                    if args.data == \"colormnist\":\n",
      "                        y = y[0]\n",
      "                        \n",
      "                    if not args.conv:\n",
      "                        x = x.view(x.shape[0], -1)\n",
      "                    x = cvt(x)\n",
      "                    nll = compute_marginal_bits_per_dim(x, y, model)\n",
      "                    losses.append(nll.cpu().numpy())\n",
      "                    \n",
      "                loss = np.mean(losses)\n",
      "                writer.add_scalars('nll_marginal', {'validation': loss}, i)\n",
      "        \n",
      "        raise SystemExit(0)\n",
      "    \n",
      "    # restore parameters\n",
      "    if args.resume is not None:\n",
      "        checkpt = torch.load(args.resume, map_location=lambda storage, loc: storage)\n",
      "        model.load_state_dict(checkpt[\"state_dict\"])\n",
      "        if \"optim_state_dict\" in checkpt.keys():\n",
      "            optimizer.load_state_dict(checkpt[\"optim_state_dict\"])\n",
      "            # Manually move optimizer state to device.\n",
      "            for state in optimizer.state.values():\n",
      "                for k, v in state.items():\n",
      "                    if torch.is_tensor(v):\n",
      "                        state[k] = cvt(v)\n",
      "        args.begin_epoch = checkpt['epoch'] + 1\n",
      "        itr = checkpt['iter'] + 1\n",
      "        time_epoch_meter.set(checkpt['epoch_time_avg'])\n",
      "        time_meter.set(checkpt['time_train'])\n",
      "        loss_meter.set(checkpt['loss_train'])\n",
      "        nll_meter.set(checkpt['bits_per_dim_train'])\n",
      "        xent_meter.set(checkpt['xent_train'])\n",
      "        error_meter.set(checkpt['error_train'])\n",
      "        steps_meter.set(checkpt['nfe_train'])\n",
      "        grad_meter.set(checkpt['grad_train'])\n",
      "        tt_meter.set(checkpt['total_time_train'])\n",
      "\n",
      "    if torch.cuda.is_available():\n",
      "        model = torch.nn.DataParallel(model).cuda()\n",
      "\n",
      "    # For visualization.\n",
      "    if args.conditional:\n",
      "        dim_unsup = int((1.0 - args.condition_ratio) * np.prod(data_shape))\n",
      "        fixed_y = torch.from_numpy(np.arange(model.module.y_class)).repeat(model.module.y_class).type(torch.long).to(device, non_blocking=True)\n",
      "        fixed_y_onehot = thops.onehot(fixed_y, num_classes=model.module.y_class)\n",
      "        with torch.no_grad():\n",
      "            mean, logs = model.module._prior(fixed_y_onehot)\n",
      "            fixed_z_sup = modules.GaussianDiag.sample(mean, logs)\n",
      "            fixed_z_unsup = cvt(torch.randn(model.module.y_class**2, dim_unsup))\n",
      "            fixed_z = torch.cat((fixed_z_sup, fixed_z_unsup),1)\n",
      "    else:\n",
      "        fixed_z = cvt(torch.randn(100, *data_shape))\n",
      "    \n",
      "\n",
      "    if args.spectral_norm and not args.resume: spectral_norm_power_iteration(model, 500)\n",
      "\n",
      "    best_loss_nll = float(\"inf\")\n",
      "    best_error_score = float(\"inf\")\n",
      "    \n",
      "    for epoch in range(args.begin_epoch, args.num_epochs + 1):\n",
      "        start_epoch = time.time()\n",
      "        model.train()\n",
      "        if args.annealing_std:\n",
      "            update_scale_std(model.module, epoch)\n",
      "            \n",
      "        train_loader = get_train_loader(train_set, epoch)\n",
      "        for _, (x, y) in enumerate(train_loader):\n",
      "            if args.data == \"colormnist\":\n",
      "                y = y[0]\n",
      "            \n",
      "            start = time.time()\n",
      "            update_lr(optimizer, itr)\n",
      "            optimizer.zero_grad()\n",
      "\n",
      "            if not args.conv:\n",
      "                x = x.view(x.shape[0], -1)\n",
      "\n",
      "            # cast data and move to device\n",
      "            x = cvt(x)\n",
      "            \n",
      "            # compute loss\n",
      "            if args.conditional:\n",
      "                loss_nll, loss_xent, y_predicted, atol, rtol, logp_actions, nfe = compute_bits_per_dim_conditional(x, y, model)\n",
      "                if args.train_mode == \"semisup\":\n",
      "                    loss =  loss_nll + args.weight_y * loss_xent\n",
      "                elif args.train_mode == \"sup\":\n",
      "                    loss =  loss_xent\n",
      "                elif args.train_mode == \"unsup\":\n",
      "                    loss =  loss_nll\n",
      "                else:\n",
      "                    raise ValueError('Choose supported train_mode: semisup, sup, unsup')\n",
      "                error_score = 1. - np.mean(y_predicted.astype(int) == y.numpy())   \n",
      "                \n",
      "            else:\n",
      "                loss, atol, rtol, logp_actions, nfe = compute_bits_per_dim(x, model)\n",
      "                loss_nll, loss_xent, error_score = loss, 0., 0.\n",
      "            \n",
      "            if regularization_coeffs:\n",
      "                reg_states = get_regularization(model, regularization_coeffs)\n",
      "                reg_loss = sum(\n",
      "                    reg_state * coeff for reg_state, coeff in zip(reg_states, regularization_coeffs) if coeff != 0\n",
      "                )\n",
      "                loss = loss + reg_loss\n",
      "            total_time = count_total_time(model)\n",
      "            loss = loss + total_time * args.time_penalty\n",
      "\n",
      "            # re-weight the gate rewards\n",
      "            normalized_eta = args.eta / len(logp_actions)\n",
      "            \n",
      "            # collect cumulative future rewards\n",
      "            R = - loss\n",
      "            cum_rewards = []\n",
      "            for r in nfe[::-1]:\n",
      "                R = -normalized_eta * r.view(-1,1) + args.gamma * R\n",
      "                cum_rewards.insert(0,R)\n",
      "            \n",
      "            # apply REINFORCE\n",
      "            rl_loss = 0\n",
      "            for lpa, r in zip(logp_actions, cum_rewards):\n",
      "                rl_loss = rl_loss - lpa.view(-1,1) * args.rl_weight * r\n",
      "                \n",
      "            loss = loss + rl_loss.mean()\n",
      "            \n",
      "            loss.backward()\n",
      "            \n",
      "            grad_norm = torch.nn.utils.clip_grad_norm_(model.parameters(), args.max_grad_norm)\n",
      "\n",
      "            optimizer.step()\n",
      "\n",
      "            if args.spectral_norm: spectral_norm_power_iteration(model, args.spectral_norm_niter)\n",
      "            \n",
      "            time_meter.update(time.time() - start)\n",
      "            loss_meter.update(loss.item())\n",
      "            nll_meter.update(loss_nll.item())\n",
      "            if args.conditional:\n",
      "                xent_meter.update(loss_xent.item())\n",
      "            else:\n",
      "                xent_meter.update(loss_xent)\n",
      "            error_meter.update(error_score)\n",
      "            steps_meter.update(count_nfe_gate(model))\n",
      "            grad_meter.update(grad_norm)\n",
      "            tt_meter.update(total_time)\n",
      "            \n",
      "            for idx in range(len(model.module.transforms)):\n",
      "                for layer in model.module.transforms[idx].chain:\n",
      "                    if hasattr(layer, 'atol'):\n",
      "                        layer.odefunc.after_odeint()\n",
      "            \n",
      "            # write to tensorboard\n",
      "            writer.add_scalars('time', {'train_iter': time_meter.val}, itr)\n",
      "            writer.add_scalars('loss', {'train_iter': loss_meter.val}, itr)\n",
      "            writer.add_scalars('bits_per_dim', {'train_iter': nll_meter.val}, itr)\n",
      "            writer.add_scalars('xent', {'train_iter': xent_meter.val}, itr)\n",
      "            writer.add_scalars('error', {'train_iter': error_meter.val}, itr)\n",
      "            writer.add_scalars('nfe', {'train_iter': steps_meter.val}, itr)\n",
      "            writer.add_scalars('grad', {'train_iter': grad_meter.val}, itr)\n",
      "            writer.add_scalars('total_time', {'train_iter': tt_meter.val}, itr)\n",
      "\n",
      "            if itr % args.log_freq == 0:\n",
      "                for tol_indx in range(len(atol)):\n",
      "                    writer.add_scalars('atol_%i'%tol_indx, {'train': atol[tol_indx].mean()}, itr)\n",
      "                    writer.add_scalars('rtol_%i'%tol_indx, {'train': rtol[tol_indx].mean()}, itr)\n",
      "                    \n",
      "                log_message = (\n",
      "                    \"Iter {:04d} | Time {:.4f}({:.4f}) | Bit/dim {:.4f}({:.4f}) | Xent {:.4f}({:.4f}) | Loss {:.4f}({:.4f}) | Error {:.4f}({:.4f}) \"\n",
      "                    \"Steps {:.0f}({:.2f}) | Grad Norm {:.4f}({:.4f}) | Total Time {:.2f}({:.2f})\".format(\n",
      "                        itr, time_meter.val, time_meter.avg, nll_meter.val, nll_meter.avg, xent_meter.val, xent_meter.avg, loss_meter.val, loss_meter.avg, error_meter.val, error_meter.avg, steps_meter.val, steps_meter.avg, grad_meter.val, grad_meter.avg, tt_meter.val, tt_meter.avg\n",
      "                    )\n",
      "                )\n",
      "                if regularization_coeffs:\n",
      "                    log_message = append_regularization_to_log(log_message, regularization_fns, reg_states)\n",
      "                logger.info(log_message)\n",
      "                writer.add_text('info', log_message, itr)\n",
      "\n",
      "            itr += 1\n",
      "        \n",
      "        if args.data == \"colormnist\":\n",
      "            # print train images\n",
      "            xall = []\n",
      "            ximg = x[0:40].cpu().numpy().transpose((0,2,3,1))\n",
      "            for i in range(ximg.shape[0]):\n",
      "                xall.append(ximg[i])\n",
      "        \n",
      "            xall = np.hstack(xall)\n",
      "\n",
      "            plt.imshow(xall)\n",
      "            plt.axis('off')\n",
      "            plt.show()\n",
      "            \n",
      "        # compute test loss\n",
      "        model.eval()\n",
      "        if epoch % args.val_freq == 0:\n",
      "            with torch.no_grad():\n",
      "                # write to tensorboard\n",
      "                writer.add_scalars('time', {'train_epoch': time_meter.avg}, epoch)\n",
      "                writer.add_scalars('loss', {'train_epoch': loss_meter.avg}, epoch)\n",
      "                writer.add_scalars('bits_per_dim', {'train_epoch': nll_meter.avg}, epoch)\n",
      "                writer.add_scalars('xent', {'train_epoch': xent_meter.avg}, epoch)\n",
      "                writer.add_scalars('error', {'train_epoch': error_meter.avg}, epoch)\n",
      "                writer.add_scalars('nfe', {'train_epoch': steps_meter.avg}, epoch)\n",
      "                writer.add_scalars('grad', {'train_epoch': grad_meter.avg}, epoch)\n",
      "                writer.add_scalars('total_time', {'train_epoch': tt_meter.avg}, epoch)\n",
      "                \n",
      "                start = time.time()\n",
      "                logger.info(\"validating...\")\n",
      "                writer.add_text('info', \"validating...\", epoch)\n",
      "                losses_nll = []; losses_xent = []; losses = []\n",
      "                total_correct = 0\n",
      "                \n",
      "                for (x, y) in test_loader:\n",
      "                    if args.data == \"colormnist\":\n",
      "                        y = y[0]\n",
      "                        \n",
      "                    if not args.conv:\n",
      "                        x = x.view(x.shape[0], -1)\n",
      "                    x = cvt(x)\n",
      "                    if args.conditional:\n",
      "                        loss_nll, loss_xent, y_predicted, atol, rtol, logp_actions, nfe = compute_bits_per_dim_conditional(x, y, model)\n",
      "                        if args.train_mode == \"semisup\":\n",
      "                            loss =  loss_nll + args.weight_y * loss_xent\n",
      "                        elif args.train_mode == \"sup\":\n",
      "                            loss =  loss_xent\n",
      "                        elif args.train_mode == \"unsup\":\n",
      "                            loss =  loss_nll\n",
      "                        else:\n",
      "                            raise ValueError('Choose supported train_mode: semisup, sup, unsup')\n",
      "                        total_correct += np.sum(y_predicted.astype(int) == y.numpy())\n",
      "                    else:\n",
      "                        loss, atol, rtol, logp_actions, nfe = compute_bits_per_dim(x, model)\n",
      "                        loss_nll, loss_xent = loss, 0.\n",
      "                    losses_nll.append(loss_nll.cpu().numpy()); losses.append(loss.cpu().numpy())\n",
      "                    if args.conditional: \n",
      "                        losses_xent.append(loss_xent.cpu().numpy())\n",
      "                    else:\n",
      "                        losses_xent.append(loss_xent)\n",
      "                \n",
      "                if args.data == \"colormnist\":\n",
      "                    # print test images\n",
      "                    xall = []\n",
      "                    ximg = x[0:40].cpu().numpy().transpose((0,2,3,1))\n",
      "                    for i in range(ximg.shape[0]):\n",
      "                        xall.append(ximg[i])\n",
      "\n",
      "                    xall = np.hstack(xall)\n",
      "\n",
      "                    plt.imshow(xall)\n",
      "                    plt.axis('off')\n",
      "                    plt.show()\n",
      "                    \n",
      "                loss_nll = np.mean(losses_nll); loss_xent = np.mean(losses_xent); loss = np.mean(losses)\n",
      "                error_score =  1. - total_correct / len(test_loader.dataset)\n",
      "                time_epoch_meter.update(time.time() - start_epoch)\n",
      "                \n",
      "                # write to tensorboard\n",
      "                test_time_spent = time.time() - start\n",
      "                writer.add_scalars('time', {'validation': test_time_spent}, epoch)\n",
      "                writer.add_scalars('epoch_time', {'validation': time_epoch_meter.val}, epoch)\n",
      "                writer.add_scalars('bits_per_dim', {'validation': loss_nll}, epoch)\n",
      "                writer.add_scalars('xent', {'validation': loss_xent}, epoch)\n",
      "                writer.add_scalars('loss', {'validation': loss}, epoch)\n",
      "                writer.add_scalars('error', {'validation': error_score}, epoch)\n",
      "                \n",
      "                for tol_indx in range(len(atol)):\n",
      "                    writer.add_scalars('atol_%i'%tol_indx, {'validation': atol[tol_indx].mean()}, epoch)\n",
      "                    writer.add_scalars('rtol_%i'%tol_indx, {'validation': rtol[tol_indx].mean()}, epoch)\n",
      "                \n",
      "                log_message = \"Epoch {:04d} | Time {:.4f}, Epoch Time {:.4f}({:.4f}), Bit/dim {:.4f}(best: {:.4f}), Xent {:.4f}, Loss {:.4f}, Error {:.4f}(best: {:.4f})\".format(epoch, time.time() - start, time_epoch_meter.val, time_epoch_meter.avg, loss_nll, best_loss_nll, loss_xent, loss, error_score, best_error_score)\n",
      "                logger.info(log_message)\n",
      "                writer.add_text('info', log_message, epoch)\n",
      "                \n",
      "                for name, param in model.named_parameters():\n",
      "                    writer.add_histogram(name, param.clone().cpu().data.numpy(), epoch)\n",
      "                    \n",
      "                \n",
      "                utils.makedirs(args.save)\n",
      "                torch.save({\n",
      "                        \"args\": args,\n",
      "                        \"state_dict\": model.module.state_dict() if torch.cuda.is_available() else model.state_dict(),\n",
      "                        \"optim_state_dict\": optimizer.state_dict(),\n",
      "                        \"epoch\": epoch,\n",
      "                        \"iter\": itr-1,\n",
      "                        \"error\": error_score,\n",
      "                        \"loss\": loss,\n",
      "                        \"xent\": loss_xent,\n",
      "                        \"bits_per_dim\": loss_nll,\n",
      "                        \"best_bits_per_dim\": best_loss_nll,\n",
      "                        \"best_error_score\": best_error_score,\n",
      "                        \"epoch_time\": time_epoch_meter.val,\n",
      "                        \"epoch_time_avg\": time_epoch_meter.avg,\n",
      "                        \"time\": test_time_spent,\n",
      "                        \"error_train\": error_meter.avg,\n",
      "                        \"loss_train\": loss_meter.avg,\n",
      "                        \"xent_train\": xent_meter.avg,\n",
      "                        \"bits_per_dim_train\": nll_meter.avg,\n",
      "                        \"total_time_train\": tt_meter.avg,\n",
      "                        \"time_train\": time_meter.avg,\n",
      "                        \"nfe_train\": steps_meter.avg,\n",
      "                        \"grad_train\": grad_meter.avg,\n",
      "                    }, os.path.join(args.save, \"epoch_%i_checkpt.pth\"%epoch))\n",
      "                \n",
      "                torch.save({\n",
      "                        \"args\": args,\n",
      "                        \"state_dict\": model.module.state_dict() if torch.cuda.is_available() else model.state_dict(),\n",
      "                        \"optim_state_dict\": optimizer.state_dict(),\n",
      "                        \"epoch\": epoch,\n",
      "                        \"iter\": itr-1,\n",
      "                        \"error\": error_score,\n",
      "                        \"loss\": loss,\n",
      "                        \"xent\": loss_xent,\n",
      "                        \"bits_per_dim\": loss_nll,\n",
      "                        \"best_bits_per_dim\": best_loss_nll,\n",
      "                        \"best_error_score\": best_error_score,\n",
      "                        \"epoch_time\": time_epoch_meter.val,\n",
      "                        \"epoch_time_avg\": time_epoch_meter.avg,\n",
      "                        \"time\": test_time_spent,\n",
      "                        \"error_train\": error_meter.avg,\n",
      "                        \"loss_train\": loss_meter.avg,\n",
      "                        \"xent_train\": xent_meter.avg,\n",
      "                        \"bits_per_dim_train\": nll_meter.avg,\n",
      "                        \"total_time_train\": tt_meter.avg,\n",
      "                        \"time_train\": time_meter.avg,\n",
      "                        \"nfe_train\": steps_meter.avg,\n",
      "                        \"grad_train\": grad_meter.avg,\n",
      "                    }, os.path.join(args.save, \"current_checkpt.pth\"))\n",
      "                \n",
      "                if loss_nll < best_loss_nll:\n",
      "                    best_loss_nll = loss_nll\n",
      "                    utils.makedirs(args.save)\n",
      "                    torch.save({\n",
      "                        \"args\": args,\n",
      "                        \"state_dict\": model.module.state_dict() if torch.cuda.is_available() else model.state_dict(),\n",
      "                        \"optim_state_dict\": optimizer.state_dict(),\n",
      "                        \"epoch\": epoch,\n",
      "                        \"iter\": itr-1,\n",
      "                        \"error\": error_score,\n",
      "                        \"loss\": loss,\n",
      "                        \"xent\": loss_xent,\n",
      "                        \"bits_per_dim\": loss_nll,\n",
      "                        \"best_bits_per_dim\": best_loss_nll,\n",
      "                        \"best_error_score\": best_error_score,\n",
      "                        \"epoch_time\": time_epoch_meter.val,\n",
      "                        \"epoch_time_avg\": time_epoch_meter.avg,\n",
      "                        \"time\": test_time_spent,\n",
      "                        \"error_train\": error_meter.avg,\n",
      "                        \"loss_train\": loss_meter.avg,\n",
      "                        \"xent_train\": xent_meter.avg,\n",
      "                        \"bits_per_dim_train\": nll_meter.avg,\n",
      "                        \"total_time_train\": tt_meter.avg,\n",
      "                        \"time_train\": time_meter.avg,\n",
      "                        \"nfe_train\": steps_meter.avg,\n",
      "                        \"grad_train\": grad_meter.avg,\n",
      "                    }, os.path.join(args.save, \"best_nll_checkpt.pth\"))\n",
      "                    \n",
      "                if args.conditional:\n",
      "                    if error_score < best_error_score:\n",
      "                        best_error_score = error_score\n",
      "                        utils.makedirs(args.save)\n",
      "                        torch.save({\n",
      "                            \"args\": args,\n",
      "                            \"state_dict\": model.module.state_dict() if torch.cuda.is_available() else model.state_dict(),\n",
      "                            \"optim_state_dict\": optimizer.state_dict(),\n",
      "                            \"epoch\": epoch,\n",
      "                            \"iter\": itr-1,\n",
      "                            \"error\": error_score,\n",
      "                            \"loss\": loss,\n",
      "                            \"xent\": loss_xent,\n",
      "                            \"bits_per_dim\": loss_nll,\n",
      "                            \"best_bits_per_dim\": best_loss_nll,\n",
      "                            \"best_error_score\": best_error_score,\n",
      "                            \"epoch_time\": time_epoch_meter.val,\n",
      "                            \"epoch_time_avg\": time_epoch_meter.avg,\n",
      "                            \"time\": test_time_spent,\n",
      "                            \"error_train\": error_meter.avg,\n",
      "                            \"loss_train\": loss_meter.avg,\n",
      "                            \"xent_train\": xent_meter.avg,\n",
      "                            \"bits_per_dim_train\": nll_meter.avg,\n",
      "                            \"total_time_train\": tt_meter.avg,\n",
      "                            \"time_train\": time_meter.avg,\n",
      "                            \"nfe_train\": steps_meter.avg,\n",
      "                            \"grad_train\": grad_meter.avg,\n",
      "                        }, os.path.join(args.save, \"best_error_checkpt.pth\"))\n",
      "                        \n",
      "\n",
      "        # visualize samples and density\n",
      "        with torch.no_grad():\n",
      "            fig_filename = os.path.join(args.save, \"figs\", \"{:04d}.jpg\".format(epoch))\n",
      "            utils.makedirs(os.path.dirname(fig_filename))\n",
      "            generated_samples, atol, rtol, logp_actions, nfe = model(fixed_z, reverse=True)\n",
      "            generated_samples = generated_samples.view(-1, *data_shape)\n",
      "            for tol_indx in range(len(atol)):\n",
      "                writer.add_scalars('atol_gen_%i'%tol_indx, {'validation': atol[tol_indx].mean()}, epoch)\n",
      "                writer.add_scalars('rtol_gen_%i'%tol_indx, {'validation': rtol[tol_indx].mean()}, epoch)\n",
      "            save_image(generated_samples, fig_filename, nrow=10)\n",
      "            if args.data == \"mnist\":\n",
      "                writer.add_images('generated_images', generated_samples.repeat(1,3,1,1), epoch)\n",
      "            else:\n",
      "                writer.add_images('generated_images', generated_samples.repeat(1,1,1,1), epoch)\n",
      "Namespace(JFrobint=None, JdiagFrobint=None, JoffdiagFrobint=None, add_noise=True, alpha=1e-06, annealing_std=False, atol=1e-05, autoencode=False, batch_norm=False, batch_size=900, batch_size_schedule='', begin_epoch=1, condition_ratio=0.5, conditional=True, controlled_tol=False, conv=True, data='cifar10', dims='64,64,64', divergence_fn='approximate', dl2int=None, dropout_rate=0.5, eta=0.1, gamma=0.99, gate='cnn1', imagesize=None, l1int=None, l2int=None, layer_type='concat', load_dir='../experiments_published/cnf_conditional_disentangle_cifar10_bs900_sratio_0_5_drop_0_5_rl_stdscale_6_run3', log_freq=1, lr=0.001, max_grad_norm=10000000000.0, multiscale=True, nonlinearity='softplus', num_blocks=2, num_epochs=500, parallel=False, rademacher=True, residual=False, resume=None, resume_load=135, rl_weight=0.01, rtol=1e-05, save='../experiments_published/cnf_conditional_disentangle_cifar10_bs900_sratio_0_5_drop_0_5_rl_stdscale_6_run3_post', scale=1.0, scale_fac=1.0, scale_std=6.0, seed=3, solver='dopri5', spectral_norm=False, spectral_norm_niter=10, step_size=None, strides='1,1,1,1', test_atol=None, test_batch_size=500, test_rtol=None, test_solver=None, time_length=1.0, time_penalty=0, train_T=True, train_mode='semisup', val_freq=1, warmup_iters=1000, weight_decay=0.0, weight_y=0.5, y_class=10, y_color=10)\n"
     ]
    },
    {
     "name": "stdout",
     "output_type": "stream",
     "text": [
      "Files already downloaded and verified\n",
      "Files already downloaded and verified\n"
     ]
    },
    {
     "name": "stderr",
     "output_type": "stream",
     "text": [
      "ODENVP(\n",
      "  (transforms): ModuleList(\n",
      "    (0): StackedCNFLayers(\n",
      "      (chain): ModuleList(\n",
      "        (0): LogitTransform()\n",
      "        (1): CNF_Gate(\n",
      "          (gate_net): FeedforwardGateI(\n",
      "            (maxpool): MaxPool2d(kernel_size=2, stride=2, padding=0, dilation=1, ceil_mode=False)\n",
      "            (conv1): Conv2d(3, 10, kernel_size=(3, 3), stride=(1, 1), padding=(1, 1), bias=False)\n",
      "            (bn1): BatchNorm2d(10, eps=1e-05, momentum=0.1, affine=True, track_running_stats=True)\n",
      "            (relu1): ReLU(inplace)\n",
      "            (conv2): Conv2d(10, 10, kernel_size=(3, 3), stride=(2, 2), padding=(1, 1), bias=False)\n",
      "            (bn2): BatchNorm2d(10, eps=1e-05, momentum=0.1, affine=True, track_running_stats=True)\n",
      "            (relu2): ReLU(inplace)\n",
      "            (avg_layer): AdaptiveAvgPool2d(output_size=(1, 1))\n",
      "            (linear_layer): Conv2d(10, 1, kernel_size=(1, 1), stride=(1, 1))\n",
      "            (sigmoid): Sigmoid()\n",
      "          )\n",
      "          (odefunc): RegularizedODEfunc(\n",
      "            (odefunc): ODEfunc_rl(\n",
      "              (diffeq): ODEnet(\n",
      "                (layers): ModuleList(\n",
      "                  (0): ConcatConv2d(\n",
      "                    (_layer): Conv2d(4, 64, kernel_size=(3, 3), stride=(1, 1), padding=(1, 1))\n",
      "                  )\n",
      "                  (1): ConcatConv2d(\n",
      "                    (_layer): Conv2d(65, 64, kernel_size=(3, 3), stride=(1, 1), padding=(1, 1))\n",
      "                  )\n",
      "                  (2): ConcatConv2d(\n",
      "                    (_layer): Conv2d(65, 64, kernel_size=(3, 3), stride=(1, 1), padding=(1, 1))\n",
      "                  )\n",
      "                  (3): ConcatConv2d(\n",
      "                    (_layer): Conv2d(65, 3, kernel_size=(3, 3), stride=(1, 1), padding=(1, 1))\n",
      "                  )\n",
      "                )\n",
      "                (activation_fns): ModuleList(\n",
      "                  (0): Softplus(beta=1, threshold=20)\n",
      "                  (1): Softplus(beta=1, threshold=20)\n",
      "                  (2): Softplus(beta=1, threshold=20)\n",
      "                )\n",
      "              )\n",
      "            )\n",
      "          )\n",
      "        )\n",
      "        (2): CNF_Gate(\n",
      "          (gate_net): FeedforwardGateI(\n",
      "            (maxpool): MaxPool2d(kernel_size=2, stride=2, padding=0, dilation=1, ceil_mode=False)\n",
      "            (conv1): Conv2d(3, 10, kernel_size=(3, 3), stride=(1, 1), padding=(1, 1), bias=False)\n",
      "            (bn1): BatchNorm2d(10, eps=1e-05, momentum=0.1, affine=True, track_running_stats=True)\n",
      "            (relu1): ReLU(inplace)\n",
      "            (conv2): Conv2d(10, 10, kernel_size=(3, 3), stride=(2, 2), padding=(1, 1), bias=False)\n",
      "            (bn2): BatchNorm2d(10, eps=1e-05, momentum=0.1, affine=True, track_running_stats=True)\n",
      "            (relu2): ReLU(inplace)\n",
      "            (avg_layer): AdaptiveAvgPool2d(output_size=(1, 1))\n",
      "            (linear_layer): Conv2d(10, 1, kernel_size=(1, 1), stride=(1, 1))\n",
      "            (sigmoid): Sigmoid()\n",
      "          )\n",
      "          (odefunc): RegularizedODEfunc(\n",
      "            (odefunc): ODEfunc_rl(\n",
      "              (diffeq): ODEnet(\n",
      "                (layers): ModuleList(\n",
      "                  (0): ConcatConv2d(\n",
      "                    (_layer): Conv2d(4, 64, kernel_size=(3, 3), stride=(1, 1), padding=(1, 1))\n",
      "                  )\n",
      "                  (1): ConcatConv2d(\n",
      "                    (_layer): Conv2d(65, 64, kernel_size=(3, 3), stride=(1, 1), padding=(1, 1))\n",
      "                  )\n",
      "                  (2): ConcatConv2d(\n",
      "                    (_layer): Conv2d(65, 64, kernel_size=(3, 3), stride=(1, 1), padding=(1, 1))\n",
      "                  )\n",
      "                  (3): ConcatConv2d(\n",
      "                    (_layer): Conv2d(65, 3, kernel_size=(3, 3), stride=(1, 1), padding=(1, 1))\n",
      "                  )\n",
      "                )\n",
      "                (activation_fns): ModuleList(\n",
      "                  (0): Softplus(beta=1, threshold=20)\n",
      "                  (1): Softplus(beta=1, threshold=20)\n",
      "                  (2): Softplus(beta=1, threshold=20)\n",
      "                )\n",
      "              )\n",
      "            )\n",
      "          )\n",
      "        )\n",
      "        (3): SqueezeLayer()\n",
      "        (4): CNF_Gate(\n",
      "          (gate_net): FeedforwardGateI(\n",
      "            (maxpool): MaxPool2d(kernel_size=2, stride=2, padding=0, dilation=1, ceil_mode=False)\n",
      "            (conv1): Conv2d(12, 10, kernel_size=(3, 3), stride=(1, 1), padding=(1, 1), bias=False)\n",
      "            (bn1): BatchNorm2d(10, eps=1e-05, momentum=0.1, affine=True, track_running_stats=True)\n",
      "            (relu1): ReLU(inplace)\n",
      "            (conv2): Conv2d(10, 10, kernel_size=(3, 3), stride=(2, 2), padding=(1, 1), bias=False)\n",
      "            (bn2): BatchNorm2d(10, eps=1e-05, momentum=0.1, affine=True, track_running_stats=True)\n",
      "            (relu2): ReLU(inplace)\n",
      "            (avg_layer): AdaptiveAvgPool2d(output_size=(1, 1))\n",
      "            (linear_layer): Conv2d(10, 1, kernel_size=(1, 1), stride=(1, 1))\n",
      "            (sigmoid): Sigmoid()\n",
      "          )\n",
      "          (odefunc): RegularizedODEfunc(\n",
      "            (odefunc): ODEfunc_rl(\n",
      "              (diffeq): ODEnet(\n",
      "                (layers): ModuleList(\n",
      "                  (0): ConcatConv2d(\n",
      "                    (_layer): Conv2d(13, 64, kernel_size=(3, 3), stride=(1, 1), padding=(1, 1))\n",
      "                  )\n",
      "                  (1): ConcatConv2d(\n",
      "                    (_layer): Conv2d(65, 64, kernel_size=(3, 3), stride=(1, 1), padding=(1, 1))\n",
      "                  )\n",
      "                  (2): ConcatConv2d(\n",
      "                    (_layer): Conv2d(65, 64, kernel_size=(3, 3), stride=(1, 1), padding=(1, 1))\n",
      "                  )\n",
      "                  (3): ConcatConv2d(\n",
      "                    (_layer): Conv2d(65, 12, kernel_size=(3, 3), stride=(1, 1), padding=(1, 1))\n",
      "                  )\n",
      "                )\n",
      "                (activation_fns): ModuleList(\n",
      "                  (0): Softplus(beta=1, threshold=20)\n",
      "                  (1): Softplus(beta=1, threshold=20)\n",
      "                  (2): Softplus(beta=1, threshold=20)\n",
      "                )\n",
      "              )\n",
      "            )\n",
      "          )\n",
      "        )\n",
      "        (5): CNF_Gate(\n",
      "          (gate_net): FeedforwardGateI(\n",
      "            (maxpool): MaxPool2d(kernel_size=2, stride=2, padding=0, dilation=1, ceil_mode=False)\n",
      "            (conv1): Conv2d(12, 10, kernel_size=(3, 3), stride=(1, 1), padding=(1, 1), bias=False)\n",
      "            (bn1): BatchNorm2d(10, eps=1e-05, momentum=0.1, affine=True, track_running_stats=True)\n",
      "            (relu1): ReLU(inplace)\n",
      "            (conv2): Conv2d(10, 10, kernel_size=(3, 3), stride=(2, 2), padding=(1, 1), bias=False)\n",
      "            (bn2): BatchNorm2d(10, eps=1e-05, momentum=0.1, affine=True, track_running_stats=True)\n",
      "            (relu2): ReLU(inplace)\n",
      "            (avg_layer): AdaptiveAvgPool2d(output_size=(1, 1))\n",
      "            (linear_layer): Conv2d(10, 1, kernel_size=(1, 1), stride=(1, 1))\n",
      "            (sigmoid): Sigmoid()\n",
      "          )\n",
      "          (odefunc): RegularizedODEfunc(\n",
      "            (odefunc): ODEfunc_rl(\n",
      "              (diffeq): ODEnet(\n",
      "                (layers): ModuleList(\n",
      "                  (0): ConcatConv2d(\n",
      "                    (_layer): Conv2d(13, 64, kernel_size=(3, 3), stride=(1, 1), padding=(1, 1))\n",
      "                  )\n",
      "                  (1): ConcatConv2d(\n",
      "                    (_layer): Conv2d(65, 64, kernel_size=(3, 3), stride=(1, 1), padding=(1, 1))\n",
      "                  )\n",
      "                  (2): ConcatConv2d(\n",
      "                    (_layer): Conv2d(65, 64, kernel_size=(3, 3), stride=(1, 1), padding=(1, 1))\n",
      "                  )\n",
      "                  (3): ConcatConv2d(\n",
      "                    (_layer): Conv2d(65, 12, kernel_size=(3, 3), stride=(1, 1), padding=(1, 1))\n",
      "                  )\n",
      "                )\n",
      "                (activation_fns): ModuleList(\n",
      "                  (0): Softplus(beta=1, threshold=20)\n",
      "                  (1): Softplus(beta=1, threshold=20)\n",
      "                  (2): Softplus(beta=1, threshold=20)\n",
      "                )\n",
      "              )\n",
      "            )\n",
      "          )\n",
      "        )\n",
      "      )\n",
      "    )\n",
      "    (1): StackedCNFLayers(\n",
      "      (chain): ModuleList(\n",
      "        (0): CNF_Gate(\n",
      "          (gate_net): FeedforwardGateI(\n",
      "            (maxpool): MaxPool2d(kernel_size=2, stride=2, padding=0, dilation=1, ceil_mode=False)\n",
      "            (conv1): Conv2d(6, 10, kernel_size=(3, 3), stride=(1, 1), padding=(1, 1), bias=False)\n",
      "            (bn1): BatchNorm2d(10, eps=1e-05, momentum=0.1, affine=True, track_running_stats=True)\n",
      "            (relu1): ReLU(inplace)\n",
      "            (conv2): Conv2d(10, 10, kernel_size=(3, 3), stride=(2, 2), padding=(1, 1), bias=False)\n",
      "            (bn2): BatchNorm2d(10, eps=1e-05, momentum=0.1, affine=True, track_running_stats=True)\n",
      "            (relu2): ReLU(inplace)\n",
      "            (avg_layer): AdaptiveAvgPool2d(output_size=(1, 1))\n",
      "            (linear_layer): Conv2d(10, 1, kernel_size=(1, 1), stride=(1, 1))\n",
      "            (sigmoid): Sigmoid()\n",
      "          )\n",
      "          (odefunc): RegularizedODEfunc(\n",
      "            (odefunc): ODEfunc_rl(\n",
      "              (diffeq): ODEnet(\n",
      "                (layers): ModuleList(\n",
      "                  (0): ConcatConv2d(\n",
      "                    (_layer): Conv2d(7, 64, kernel_size=(3, 3), stride=(1, 1), padding=(1, 1))\n",
      "                  )\n",
      "                  (1): ConcatConv2d(\n",
      "                    (_layer): Conv2d(65, 64, kernel_size=(3, 3), stride=(1, 1), padding=(1, 1))\n",
      "                  )\n",
      "                  (2): ConcatConv2d(\n",
      "                    (_layer): Conv2d(65, 64, kernel_size=(3, 3), stride=(1, 1), padding=(1, 1))\n",
      "                  )\n",
      "                  (3): ConcatConv2d(\n",
      "                    (_layer): Conv2d(65, 6, kernel_size=(3, 3), stride=(1, 1), padding=(1, 1))\n",
      "                  )\n",
      "                )\n",
      "                (activation_fns): ModuleList(\n",
      "                  (0): Softplus(beta=1, threshold=20)\n",
      "                  (1): Softplus(beta=1, threshold=20)\n",
      "                  (2): Softplus(beta=1, threshold=20)\n",
      "                )\n",
      "              )\n",
      "            )\n",
      "          )\n",
      "        )\n",
      "        (1): CNF_Gate(\n",
      "          (gate_net): FeedforwardGateI(\n",
      "            (maxpool): MaxPool2d(kernel_size=2, stride=2, padding=0, dilation=1, ceil_mode=False)\n",
      "            (conv1): Conv2d(6, 10, kernel_size=(3, 3), stride=(1, 1), padding=(1, 1), bias=False)\n",
      "            (bn1): BatchNorm2d(10, eps=1e-05, momentum=0.1, affine=True, track_running_stats=True)\n",
      "            (relu1): ReLU(inplace)\n",
      "            (conv2): Conv2d(10, 10, kernel_size=(3, 3), stride=(2, 2), padding=(1, 1), bias=False)\n",
      "            (bn2): BatchNorm2d(10, eps=1e-05, momentum=0.1, affine=True, track_running_stats=True)\n",
      "            (relu2): ReLU(inplace)\n",
      "            (avg_layer): AdaptiveAvgPool2d(output_size=(1, 1))\n",
      "            (linear_layer): Conv2d(10, 1, kernel_size=(1, 1), stride=(1, 1))\n",
      "            (sigmoid): Sigmoid()\n",
      "          )\n",
      "          (odefunc): RegularizedODEfunc(\n",
      "            (odefunc): ODEfunc_rl(\n",
      "              (diffeq): ODEnet(\n",
      "                (layers): ModuleList(\n",
      "                  (0): ConcatConv2d(\n",
      "                    (_layer): Conv2d(7, 64, kernel_size=(3, 3), stride=(1, 1), padding=(1, 1))\n",
      "                  )\n",
      "                  (1): ConcatConv2d(\n",
      "                    (_layer): Conv2d(65, 64, kernel_size=(3, 3), stride=(1, 1), padding=(1, 1))\n",
      "                  )\n",
      "                  (2): ConcatConv2d(\n",
      "                    (_layer): Conv2d(65, 64, kernel_size=(3, 3), stride=(1, 1), padding=(1, 1))\n",
      "                  )\n",
      "                  (3): ConcatConv2d(\n",
      "                    (_layer): Conv2d(65, 6, kernel_size=(3, 3), stride=(1, 1), padding=(1, 1))\n",
      "                  )\n",
      "                )\n",
      "                (activation_fns): ModuleList(\n",
      "                  (0): Softplus(beta=1, threshold=20)\n",
      "                  (1): Softplus(beta=1, threshold=20)\n",
      "                  (2): Softplus(beta=1, threshold=20)\n",
      "                )\n",
      "              )\n",
      "            )\n",
      "          )\n",
      "        )\n",
      "        (2): SqueezeLayer()\n",
      "        (3): CNF_Gate(\n",
      "          (gate_net): FeedforwardGateI(\n",
      "            (maxpool): MaxPool2d(kernel_size=2, stride=2, padding=0, dilation=1, ceil_mode=False)\n",
      "            (conv1): Conv2d(24, 10, kernel_size=(3, 3), stride=(1, 1), padding=(1, 1), bias=False)\n",
      "            (bn1): BatchNorm2d(10, eps=1e-05, momentum=0.1, affine=True, track_running_stats=True)\n",
      "            (relu1): ReLU(inplace)\n",
      "            (conv2): Conv2d(10, 10, kernel_size=(3, 3), stride=(2, 2), padding=(1, 1), bias=False)\n",
      "            (bn2): BatchNorm2d(10, eps=1e-05, momentum=0.1, affine=True, track_running_stats=True)\n",
      "            (relu2): ReLU(inplace)\n",
      "            (avg_layer): AdaptiveAvgPool2d(output_size=(1, 1))\n",
      "            (linear_layer): Conv2d(10, 1, kernel_size=(1, 1), stride=(1, 1))\n",
      "            (sigmoid): Sigmoid()\n",
      "          )\n",
      "          (odefunc): RegularizedODEfunc(\n",
      "            (odefunc): ODEfunc_rl(\n",
      "              (diffeq): ODEnet(\n",
      "                (layers): ModuleList(\n",
      "                  (0): ConcatConv2d(\n",
      "                    (_layer): Conv2d(25, 64, kernel_size=(3, 3), stride=(1, 1), padding=(1, 1))\n",
      "                  )\n",
      "                  (1): ConcatConv2d(\n",
      "                    (_layer): Conv2d(65, 64, kernel_size=(3, 3), stride=(1, 1), padding=(1, 1))\n",
      "                  )\n",
      "                  (2): ConcatConv2d(\n",
      "                    (_layer): Conv2d(65, 64, kernel_size=(3, 3), stride=(1, 1), padding=(1, 1))\n",
      "                  )\n",
      "                  (3): ConcatConv2d(\n",
      "                    (_layer): Conv2d(65, 24, kernel_size=(3, 3), stride=(1, 1), padding=(1, 1))\n",
      "                  )\n",
      "                )\n",
      "                (activation_fns): ModuleList(\n",
      "                  (0): Softplus(beta=1, threshold=20)\n",
      "                  (1): Softplus(beta=1, threshold=20)\n",
      "                  (2): Softplus(beta=1, threshold=20)\n",
      "                )\n",
      "              )\n",
      "            )\n",
      "          )\n",
      "        )\n",
      "        (4): CNF_Gate(\n",
      "          (gate_net): FeedforwardGateI(\n",
      "            (maxpool): MaxPool2d(kernel_size=2, stride=2, padding=0, dilation=1, ceil_mode=False)\n",
      "            (conv1): Conv2d(24, 10, kernel_size=(3, 3), stride=(1, 1), padding=(1, 1), bias=False)\n",
      "            (bn1): BatchNorm2d(10, eps=1e-05, momentum=0.1, affine=True, track_running_stats=True)\n",
      "            (relu1): ReLU(inplace)\n",
      "            (conv2): Conv2d(10, 10, kernel_size=(3, 3), stride=(2, 2), padding=(1, 1), bias=False)\n",
      "            (bn2): BatchNorm2d(10, eps=1e-05, momentum=0.1, affine=True, track_running_stats=True)\n",
      "            (relu2): ReLU(inplace)\n",
      "            (avg_layer): AdaptiveAvgPool2d(output_size=(1, 1))\n",
      "            (linear_layer): Conv2d(10, 1, kernel_size=(1, 1), stride=(1, 1))\n",
      "            (sigmoid): Sigmoid()\n",
      "          )\n",
      "          (odefunc): RegularizedODEfunc(\n",
      "            (odefunc): ODEfunc_rl(\n",
      "              (diffeq): ODEnet(\n",
      "                (layers): ModuleList(\n",
      "                  (0): ConcatConv2d(\n",
      "                    (_layer): Conv2d(25, 64, kernel_size=(3, 3), stride=(1, 1), padding=(1, 1))\n",
      "                  )\n",
      "                  (1): ConcatConv2d(\n",
      "                    (_layer): Conv2d(65, 64, kernel_size=(3, 3), stride=(1, 1), padding=(1, 1))\n",
      "                  )\n",
      "                  (2): ConcatConv2d(\n",
      "                    (_layer): Conv2d(65, 64, kernel_size=(3, 3), stride=(1, 1), padding=(1, 1))\n",
      "                  )\n",
      "                  (3): ConcatConv2d(\n",
      "                    (_layer): Conv2d(65, 24, kernel_size=(3, 3), stride=(1, 1), padding=(1, 1))\n",
      "                  )\n",
      "                )\n",
      "                (activation_fns): ModuleList(\n",
      "                  (0): Softplus(beta=1, threshold=20)\n",
      "                  (1): Softplus(beta=1, threshold=20)\n",
      "                  (2): Softplus(beta=1, threshold=20)\n",
      "                )\n",
      "              )\n",
      "            )\n",
      "          )\n",
      "        )\n",
      "      )\n",
      "    )\n",
      "    (2): StackedCNFLayers(\n",
      "      (chain): ModuleList(\n",
      "        (0): CNF_Gate(\n",
      "          (gate_net): FeedforwardGateI(\n",
      "            (maxpool): MaxPool2d(kernel_size=2, stride=2, padding=0, dilation=1, ceil_mode=False)\n",
      "            (conv1): Conv2d(12, 10, kernel_size=(3, 3), stride=(1, 1), padding=(1, 1), bias=False)\n",
      "            (bn1): BatchNorm2d(10, eps=1e-05, momentum=0.1, affine=True, track_running_stats=True)\n",
      "            (relu1): ReLU(inplace)\n",
      "            (conv2): Conv2d(10, 10, kernel_size=(3, 3), stride=(2, 2), padding=(1, 1), bias=False)\n",
      "            (bn2): BatchNorm2d(10, eps=1e-05, momentum=0.1, affine=True, track_running_stats=True)\n",
      "            (relu2): ReLU(inplace)\n",
      "            (avg_layer): AdaptiveAvgPool2d(output_size=(1, 1))\n",
      "            (linear_layer): Conv2d(10, 1, kernel_size=(1, 1), stride=(1, 1))\n",
      "            (sigmoid): Sigmoid()\n",
      "          )\n",
      "          (odefunc): RegularizedODEfunc(\n",
      "            (odefunc): ODEfunc_rl(\n",
      "              (diffeq): ODEnet(\n",
      "                (layers): ModuleList(\n",
      "                  (0): ConcatConv2d(\n",
      "                    (_layer): Conv2d(13, 64, kernel_size=(3, 3), stride=(1, 1), padding=(1, 1))\n",
      "                  )\n",
      "                  (1): ConcatConv2d(\n",
      "                    (_layer): Conv2d(65, 64, kernel_size=(3, 3), stride=(1, 1), padding=(1, 1))\n",
      "                  )\n",
      "                  (2): ConcatConv2d(\n",
      "                    (_layer): Conv2d(65, 64, kernel_size=(3, 3), stride=(1, 1), padding=(1, 1))\n",
      "                  )\n",
      "                  (3): ConcatConv2d(\n",
      "                    (_layer): Conv2d(65, 12, kernel_size=(3, 3), stride=(1, 1), padding=(1, 1))\n",
      "                  )\n",
      "                )\n",
      "                (activation_fns): ModuleList(\n",
      "                  (0): Softplus(beta=1, threshold=20)\n",
      "                  (1): Softplus(beta=1, threshold=20)\n",
      "                  (2): Softplus(beta=1, threshold=20)\n",
      "                )\n",
      "              )\n",
      "            )\n",
      "          )\n",
      "        )\n",
      "        (1): CNF_Gate(\n",
      "          (gate_net): FeedforwardGateI(\n",
      "            (maxpool): MaxPool2d(kernel_size=2, stride=2, padding=0, dilation=1, ceil_mode=False)\n",
      "            (conv1): Conv2d(12, 10, kernel_size=(3, 3), stride=(1, 1), padding=(1, 1), bias=False)\n",
      "            (bn1): BatchNorm2d(10, eps=1e-05, momentum=0.1, affine=True, track_running_stats=True)\n",
      "            (relu1): ReLU(inplace)\n",
      "            (conv2): Conv2d(10, 10, kernel_size=(3, 3), stride=(2, 2), padding=(1, 1), bias=False)\n",
      "            (bn2): BatchNorm2d(10, eps=1e-05, momentum=0.1, affine=True, track_running_stats=True)\n",
      "            (relu2): ReLU(inplace)\n",
      "            (avg_layer): AdaptiveAvgPool2d(output_size=(1, 1))\n",
      "            (linear_layer): Conv2d(10, 1, kernel_size=(1, 1), stride=(1, 1))\n",
      "            (sigmoid): Sigmoid()\n",
      "          )\n",
      "          (odefunc): RegularizedODEfunc(\n",
      "            (odefunc): ODEfunc_rl(\n",
      "              (diffeq): ODEnet(\n",
      "                (layers): ModuleList(\n",
      "                  (0): ConcatConv2d(\n",
      "                    (_layer): Conv2d(13, 64, kernel_size=(3, 3), stride=(1, 1), padding=(1, 1))\n",
      "                  )\n",
      "                  (1): ConcatConv2d(\n",
      "                    (_layer): Conv2d(65, 64, kernel_size=(3, 3), stride=(1, 1), padding=(1, 1))\n",
      "                  )\n",
      "                  (2): ConcatConv2d(\n",
      "                    (_layer): Conv2d(65, 64, kernel_size=(3, 3), stride=(1, 1), padding=(1, 1))\n",
      "                  )\n",
      "                  (3): ConcatConv2d(\n",
      "                    (_layer): Conv2d(65, 12, kernel_size=(3, 3), stride=(1, 1), padding=(1, 1))\n",
      "                  )\n",
      "                )\n",
      "                (activation_fns): ModuleList(\n",
      "                  (0): Softplus(beta=1, threshold=20)\n",
      "                  (1): Softplus(beta=1, threshold=20)\n",
      "                  (2): Softplus(beta=1, threshold=20)\n",
      "                )\n",
      "              )\n",
      "            )\n",
      "          )\n",
      "        )\n",
      "        (2): SqueezeLayer()\n",
      "        (3): CNF_Gate(\n",
      "          (gate_net): FeedforwardGateI(\n",
      "            (maxpool): MaxPool2d(kernel_size=2, stride=2, padding=0, dilation=1, ceil_mode=False)\n",
      "            (conv1): Conv2d(48, 10, kernel_size=(3, 3), stride=(1, 1), padding=(1, 1), bias=False)\n",
      "            (bn1): BatchNorm2d(10, eps=1e-05, momentum=0.1, affine=True, track_running_stats=True)\n",
      "            (relu1): ReLU(inplace)\n",
      "            (conv2): Conv2d(10, 10, kernel_size=(3, 3), stride=(2, 2), padding=(1, 1), bias=False)\n",
      "            (bn2): BatchNorm2d(10, eps=1e-05, momentum=0.1, affine=True, track_running_stats=True)\n",
      "            (relu2): ReLU(inplace)\n",
      "            (avg_layer): AdaptiveAvgPool2d(output_size=(1, 1))\n",
      "            (linear_layer): Conv2d(10, 1, kernel_size=(1, 1), stride=(1, 1))\n",
      "            (sigmoid): Sigmoid()\n",
      "          )\n",
      "          (odefunc): RegularizedODEfunc(\n",
      "            (odefunc): ODEfunc_rl(\n",
      "              (diffeq): ODEnet(\n",
      "                (layers): ModuleList(\n",
      "                  (0): ConcatConv2d(\n",
      "                    (_layer): Conv2d(49, 64, kernel_size=(3, 3), stride=(1, 1), padding=(1, 1))\n",
      "                  )\n",
      "                  (1): ConcatConv2d(\n",
      "                    (_layer): Conv2d(65, 64, kernel_size=(3, 3), stride=(1, 1), padding=(1, 1))\n",
      "                  )\n",
      "                  (2): ConcatConv2d(\n",
      "                    (_layer): Conv2d(65, 64, kernel_size=(3, 3), stride=(1, 1), padding=(1, 1))\n",
      "                  )\n",
      "                  (3): ConcatConv2d(\n",
      "                    (_layer): Conv2d(65, 48, kernel_size=(3, 3), stride=(1, 1), padding=(1, 1))\n",
      "                  )\n",
      "                )\n",
      "                (activation_fns): ModuleList(\n",
      "                  (0): Softplus(beta=1, threshold=20)\n",
      "                  (1): Softplus(beta=1, threshold=20)\n",
      "                  (2): Softplus(beta=1, threshold=20)\n",
      "                )\n",
      "              )\n",
      "            )\n",
      "          )\n",
      "        )\n",
      "        (4): CNF_Gate(\n",
      "          (gate_net): FeedforwardGateI(\n",
      "            (maxpool): MaxPool2d(kernel_size=2, stride=2, padding=0, dilation=1, ceil_mode=False)\n",
      "            (conv1): Conv2d(48, 10, kernel_size=(3, 3), stride=(1, 1), padding=(1, 1), bias=False)\n",
      "            (bn1): BatchNorm2d(10, eps=1e-05, momentum=0.1, affine=True, track_running_stats=True)\n",
      "            (relu1): ReLU(inplace)\n",
      "            (conv2): Conv2d(10, 10, kernel_size=(3, 3), stride=(2, 2), padding=(1, 1), bias=False)\n",
      "            (bn2): BatchNorm2d(10, eps=1e-05, momentum=0.1, affine=True, track_running_stats=True)\n",
      "            (relu2): ReLU(inplace)\n",
      "            (avg_layer): AdaptiveAvgPool2d(output_size=(1, 1))\n",
      "            (linear_layer): Conv2d(10, 1, kernel_size=(1, 1), stride=(1, 1))\n",
      "            (sigmoid): Sigmoid()\n",
      "          )\n",
      "          (odefunc): RegularizedODEfunc(\n",
      "            (odefunc): ODEfunc_rl(\n",
      "              (diffeq): ODEnet(\n",
      "                (layers): ModuleList(\n",
      "                  (0): ConcatConv2d(\n",
      "                    (_layer): Conv2d(49, 64, kernel_size=(3, 3), stride=(1, 1), padding=(1, 1))\n",
      "                  )\n",
      "                  (1): ConcatConv2d(\n",
      "                    (_layer): Conv2d(65, 64, kernel_size=(3, 3), stride=(1, 1), padding=(1, 1))\n",
      "                  )\n",
      "                  (2): ConcatConv2d(\n",
      "                    (_layer): Conv2d(65, 64, kernel_size=(3, 3), stride=(1, 1), padding=(1, 1))\n",
      "                  )\n",
      "                  (3): ConcatConv2d(\n",
      "                    (_layer): Conv2d(65, 48, kernel_size=(3, 3), stride=(1, 1), padding=(1, 1))\n",
      "                  )\n",
      "                )\n",
      "                (activation_fns): ModuleList(\n",
      "                  (0): Softplus(beta=1, threshold=20)\n",
      "                  (1): Softplus(beta=1, threshold=20)\n",
      "                  (2): Softplus(beta=1, threshold=20)\n",
      "                )\n",
      "              )\n",
      "            )\n",
      "          )\n",
      "        )\n",
      "      )\n",
      "    )\n",
      "    (3): StackedCNFLayers(\n",
      "      (chain): ModuleList(\n",
      "        (0): CNF_Gate(\n",
      "          (gate_net): FeedforwardGateI(\n",
      "            (maxpool): MaxPool2d(kernel_size=2, stride=2, padding=0, dilation=1, ceil_mode=False)\n",
      "            (conv1): Conv2d(24, 10, kernel_size=(3, 3), stride=(1, 1), padding=(1, 1), bias=False)\n",
      "            (bn1): BatchNorm2d(10, eps=1e-05, momentum=0.1, affine=True, track_running_stats=True)\n",
      "            (relu1): ReLU(inplace)\n",
      "            (conv2): Conv2d(10, 10, kernel_size=(3, 3), stride=(2, 2), padding=(1, 1), bias=False)\n",
      "            (bn2): BatchNorm2d(10, eps=1e-05, momentum=0.1, affine=True, track_running_stats=True)\n",
      "            (relu2): ReLU(inplace)\n",
      "            (avg_layer): AdaptiveAvgPool2d(output_size=(1, 1))\n",
      "            (linear_layer): Conv2d(10, 1, kernel_size=(1, 1), stride=(1, 1))\n",
      "            (sigmoid): Sigmoid()\n",
      "          )\n",
      "          (odefunc): RegularizedODEfunc(\n",
      "            (odefunc): ODEfunc_rl(\n",
      "              (diffeq): ODEnet(\n",
      "                (layers): ModuleList(\n",
      "                  (0): ConcatConv2d(\n",
      "                    (_layer): Conv2d(25, 64, kernel_size=(3, 3), stride=(1, 1), padding=(1, 1))\n",
      "                  )\n",
      "                  (1): ConcatConv2d(\n",
      "                    (_layer): Conv2d(65, 64, kernel_size=(3, 3), stride=(1, 1), padding=(1, 1))\n",
      "                  )\n",
      "                  (2): ConcatConv2d(\n",
      "                    (_layer): Conv2d(65, 64, kernel_size=(3, 3), stride=(1, 1), padding=(1, 1))\n",
      "                  )\n",
      "                  (3): ConcatConv2d(\n",
      "                    (_layer): Conv2d(65, 24, kernel_size=(3, 3), stride=(1, 1), padding=(1, 1))\n",
      "                  )\n",
      "                )\n",
      "                (activation_fns): ModuleList(\n",
      "                  (0): Softplus(beta=1, threshold=20)\n",
      "                  (1): Softplus(beta=1, threshold=20)\n",
      "                  (2): Softplus(beta=1, threshold=20)\n",
      "                )\n",
      "              )\n",
      "            )\n",
      "          )\n",
      "        )\n",
      "        (1): CNF_Gate(\n",
      "          (gate_net): FeedforwardGateI(\n",
      "            (maxpool): MaxPool2d(kernel_size=2, stride=2, padding=0, dilation=1, ceil_mode=False)\n",
      "            (conv1): Conv2d(24, 10, kernel_size=(3, 3), stride=(1, 1), padding=(1, 1), bias=False)\n",
      "            (bn1): BatchNorm2d(10, eps=1e-05, momentum=0.1, affine=True, track_running_stats=True)\n",
      "            (relu1): ReLU(inplace)\n",
      "            (conv2): Conv2d(10, 10, kernel_size=(3, 3), stride=(2, 2), padding=(1, 1), bias=False)\n",
      "            (bn2): BatchNorm2d(10, eps=1e-05, momentum=0.1, affine=True, track_running_stats=True)\n",
      "            (relu2): ReLU(inplace)\n",
      "            (avg_layer): AdaptiveAvgPool2d(output_size=(1, 1))\n",
      "            (linear_layer): Conv2d(10, 1, kernel_size=(1, 1), stride=(1, 1))\n",
      "            (sigmoid): Sigmoid()\n",
      "          )\n",
      "          (odefunc): RegularizedODEfunc(\n",
      "            (odefunc): ODEfunc_rl(\n",
      "              (diffeq): ODEnet(\n",
      "                (layers): ModuleList(\n",
      "                  (0): ConcatConv2d(\n",
      "                    (_layer): Conv2d(25, 64, kernel_size=(3, 3), stride=(1, 1), padding=(1, 1))\n",
      "                  )\n",
      "                  (1): ConcatConv2d(\n",
      "                    (_layer): Conv2d(65, 64, kernel_size=(3, 3), stride=(1, 1), padding=(1, 1))\n",
      "                  )\n",
      "                  (2): ConcatConv2d(\n",
      "                    (_layer): Conv2d(65, 64, kernel_size=(3, 3), stride=(1, 1), padding=(1, 1))\n",
      "                  )\n",
      "                  (3): ConcatConv2d(\n",
      "                    (_layer): Conv2d(65, 24, kernel_size=(3, 3), stride=(1, 1), padding=(1, 1))\n",
      "                  )\n",
      "                )\n",
      "                (activation_fns): ModuleList(\n",
      "                  (0): Softplus(beta=1, threshold=20)\n",
      "                  (1): Softplus(beta=1, threshold=20)\n",
      "                  (2): Softplus(beta=1, threshold=20)\n",
      "                )\n",
      "              )\n",
      "            )\n",
      "          )\n",
      "        )\n",
      "      )\n",
      "    )\n",
      "  )\n",
      "  (project_ycond): LinearZeros(in_features=10, out_features=3072, bias=True)\n",
      "  (project_class): LinearZeros(in_features=1536, out_features=10, bias=True)\n",
      "  (dropout): Dropout(p=0.5)\n",
      ")\n",
      "Number of trainable parameters: 1450732\n"
     ]
    },
    {
     "name": "stdout",
     "output_type": "stream",
     "text": [
      "../experiments_published/cnf_conditional_disentangle_cifar10_bs900_sratio_0_5_drop_0_5_rl_stdscale_6_run3/epoch_135_checkpt.pth\n"
     ]
    },
    {
     "name": "stderr",
     "output_type": "stream",
     "text": [
      "validating...\n",
      "/tancode/repos/tan-ffjord/lib/layers/odefunc_rl.py:291: UserWarning: To copy construct from a tensor, it is recommended to use sourceTensor.clone().detach() or sourceTensor.clone().detach().requires_grad_(True), rather than torch.tensor(sourceTensor).\n",
      "  t = torch.tensor(t).type_as(y)\n",
      "/opt/conda/lib/python3.6/site-packages/torch/nn/parallel/_functions.py:61: UserWarning: Was asked to gather along dimension 0, but all input tensors were scalars; will instead unsqueeze and return a vector.\n",
      "  warnings.warn('Was asked to gather along dimension 0, but all '\n"
     ]
    },
    {
     "name": "stdout",
     "output_type": "stream",
     "text": [
      "../experiments_published/cnf_conditional_disentangle_cifar10_bs900_sratio_0_5_drop_0_5_rl_stdscale_6_run3/epoch_136_checkpt.pth\n"
     ]
    },
    {
     "name": "stderr",
     "output_type": "stream",
     "text": [
      "validating...\n"
     ]
    },
    {
     "name": "stdout",
     "output_type": "stream",
     "text": [
      "../experiments_published/cnf_conditional_disentangle_cifar10_bs900_sratio_0_5_drop_0_5_rl_stdscale_6_run3/epoch_137_checkpt.pth\n"
     ]
    },
    {
     "name": "stderr",
     "output_type": "stream",
     "text": [
      "validating...\n"
     ]
    },
    {
     "name": "stdout",
     "output_type": "stream",
     "text": [
      "../experiments_published/cnf_conditional_disentangle_cifar10_bs900_sratio_0_5_drop_0_5_rl_stdscale_6_run3/epoch_138_checkpt.pth\n"
     ]
    },
    {
     "name": "stderr",
     "output_type": "stream",
     "text": [
      "validating...\n"
     ]
    },
    {
     "name": "stdout",
     "output_type": "stream",
     "text": [
      "../experiments_published/cnf_conditional_disentangle_cifar10_bs900_sratio_0_5_drop_0_5_rl_stdscale_6_run3/epoch_139_checkpt.pth\n"
     ]
    },
    {
     "name": "stderr",
     "output_type": "stream",
     "text": [
      "validating...\n"
     ]
    },
    {
     "name": "stdout",
     "output_type": "stream",
     "text": [
      "../experiments_published/cnf_conditional_disentangle_cifar10_bs900_sratio_0_5_drop_0_5_rl_stdscale_6_run3/epoch_140_checkpt.pth\n"
     ]
    },
    {
     "name": "stderr",
     "output_type": "stream",
     "text": [
      "validating...\n"
     ]
    },
    {
     "name": "stdout",
     "output_type": "stream",
     "text": [
      "../experiments_published/cnf_conditional_disentangle_cifar10_bs900_sratio_0_5_drop_0_5_rl_stdscale_6_run3/epoch_141_checkpt.pth\n"
     ]
    },
    {
     "name": "stderr",
     "output_type": "stream",
     "text": [
      "validating...\n"
     ]
    },
    {
     "name": "stdout",
     "output_type": "stream",
     "text": [
      "../experiments_published/cnf_conditional_disentangle_cifar10_bs900_sratio_0_5_drop_0_5_rl_stdscale_6_run3/epoch_142_checkpt.pth\n"
     ]
    },
    {
     "name": "stderr",
     "output_type": "stream",
     "text": [
      "validating...\n"
     ]
    },
    {
     "name": "stdout",
     "output_type": "stream",
     "text": [
      "../experiments_published/cnf_conditional_disentangle_cifar10_bs900_sratio_0_5_drop_0_5_rl_stdscale_6_run3/epoch_143_checkpt.pth\n"
     ]
    },
    {
     "name": "stderr",
     "output_type": "stream",
     "text": [
      "validating...\n"
     ]
    },
    {
     "name": "stdout",
     "output_type": "stream",
     "text": [
      "../experiments_published/cnf_conditional_disentangle_cifar10_bs900_sratio_0_5_drop_0_5_rl_stdscale_6_run3/epoch_144_checkpt.pth\n"
     ]
    },
    {
     "name": "stderr",
     "output_type": "stream",
     "text": [
      "validating...\n"
     ]
    },
    {
     "name": "stdout",
     "output_type": "stream",
     "text": [
      "../experiments_published/cnf_conditional_disentangle_cifar10_bs900_sratio_0_5_drop_0_5_rl_stdscale_6_run3/epoch_145_checkpt.pth\n"
     ]
    },
    {
     "name": "stderr",
     "output_type": "stream",
     "text": [
      "validating...\n"
     ]
    },
    {
     "name": "stdout",
     "output_type": "stream",
     "text": [
      "../experiments_published/cnf_conditional_disentangle_cifar10_bs900_sratio_0_5_drop_0_5_rl_stdscale_6_run3/epoch_146_checkpt.pth\n"
     ]
    },
    {
     "name": "stderr",
     "output_type": "stream",
     "text": [
      "validating...\n"
     ]
    },
    {
     "name": "stdout",
     "output_type": "stream",
     "text": [
      "../experiments_published/cnf_conditional_disentangle_cifar10_bs900_sratio_0_5_drop_0_5_rl_stdscale_6_run3/epoch_147_checkpt.pth\n"
     ]
    },
    {
     "name": "stderr",
     "output_type": "stream",
     "text": [
      "validating...\n"
     ]
    },
    {
     "name": "stdout",
     "output_type": "stream",
     "text": [
      "../experiments_published/cnf_conditional_disentangle_cifar10_bs900_sratio_0_5_drop_0_5_rl_stdscale_6_run3/epoch_148_checkpt.pth\n"
     ]
    },
    {
     "name": "stderr",
     "output_type": "stream",
     "text": [
      "validating...\n"
     ]
    },
    {
     "name": "stdout",
     "output_type": "stream",
     "text": [
      "../experiments_published/cnf_conditional_disentangle_cifar10_bs900_sratio_0_5_drop_0_5_rl_stdscale_6_run3/epoch_149_checkpt.pth\n"
     ]
    },
    {
     "name": "stderr",
     "output_type": "stream",
     "text": [
      "validating...\n"
     ]
    },
    {
     "name": "stdout",
     "output_type": "stream",
     "text": [
      "../experiments_published/cnf_conditional_disentangle_cifar10_bs900_sratio_0_5_drop_0_5_rl_stdscale_6_run3/epoch_150_checkpt.pth\n"
     ]
    },
    {
     "name": "stderr",
     "output_type": "stream",
     "text": [
      "validating...\n"
     ]
    },
    {
     "name": "stdout",
     "output_type": "stream",
     "text": [
      "../experiments_published/cnf_conditional_disentangle_cifar10_bs900_sratio_0_5_drop_0_5_rl_stdscale_6_run3/epoch_151_checkpt.pth\n"
     ]
    },
    {
     "name": "stderr",
     "output_type": "stream",
     "text": [
      "validating...\n"
     ]
    },
    {
     "name": "stdout",
     "output_type": "stream",
     "text": [
      "../experiments_published/cnf_conditional_disentangle_cifar10_bs900_sratio_0_5_drop_0_5_rl_stdscale_6_run3/epoch_152_checkpt.pth\n"
     ]
    },
    {
     "name": "stderr",
     "output_type": "stream",
     "text": [
      "validating...\n"
     ]
    },
    {
     "name": "stdout",
     "output_type": "stream",
     "text": [
      "../experiments_published/cnf_conditional_disentangle_cifar10_bs900_sratio_0_5_drop_0_5_rl_stdscale_6_run3/epoch_153_checkpt.pth\n"
     ]
    },
    {
     "name": "stderr",
     "output_type": "stream",
     "text": [
      "validating...\n"
     ]
    },
    {
     "name": "stdout",
     "output_type": "stream",
     "text": [
      "../experiments_published/cnf_conditional_disentangle_cifar10_bs900_sratio_0_5_drop_0_5_rl_stdscale_6_run3/epoch_154_checkpt.pth\n"
     ]
    },
    {
     "name": "stderr",
     "output_type": "stream",
     "text": [
      "validating...\n"
     ]
    },
    {
     "name": "stdout",
     "output_type": "stream",
     "text": [
      "../experiments_published/cnf_conditional_disentangle_cifar10_bs900_sratio_0_5_drop_0_5_rl_stdscale_6_run3/epoch_155_checkpt.pth\n"
     ]
    },
    {
     "name": "stderr",
     "output_type": "stream",
     "text": [
      "validating...\n"
     ]
    },
    {
     "name": "stdout",
     "output_type": "stream",
     "text": [
      "../experiments_published/cnf_conditional_disentangle_cifar10_bs900_sratio_0_5_drop_0_5_rl_stdscale_6_run3/epoch_156_checkpt.pth\n"
     ]
    },
    {
     "name": "stderr",
     "output_type": "stream",
     "text": [
      "validating...\n"
     ]
    },
    {
     "name": "stdout",
     "output_type": "stream",
     "text": [
      "../experiments_published/cnf_conditional_disentangle_cifar10_bs900_sratio_0_5_drop_0_5_rl_stdscale_6_run3/epoch_157_checkpt.pth\n"
     ]
    },
    {
     "name": "stderr",
     "output_type": "stream",
     "text": [
      "validating...\n"
     ]
    },
    {
     "name": "stdout",
     "output_type": "stream",
     "text": [
      "../experiments_published/cnf_conditional_disentangle_cifar10_bs900_sratio_0_5_drop_0_5_rl_stdscale_6_run3/epoch_158_checkpt.pth\n"
     ]
    },
    {
     "name": "stderr",
     "output_type": "stream",
     "text": [
      "validating...\n"
     ]
    },
    {
     "name": "stdout",
     "output_type": "stream",
     "text": [
      "../experiments_published/cnf_conditional_disentangle_cifar10_bs900_sratio_0_5_drop_0_5_rl_stdscale_6_run3/epoch_159_checkpt.pth\n"
     ]
    },
    {
     "name": "stderr",
     "output_type": "stream",
     "text": [
      "validating...\n"
     ]
    },
    {
     "name": "stdout",
     "output_type": "stream",
     "text": [
      "../experiments_published/cnf_conditional_disentangle_cifar10_bs900_sratio_0_5_drop_0_5_rl_stdscale_6_run3/epoch_160_checkpt.pth\n"
     ]
    },
    {
     "name": "stderr",
     "output_type": "stream",
     "text": [
      "validating...\n"
     ]
    },
    {
     "name": "stdout",
     "output_type": "stream",
     "text": [
      "../experiments_published/cnf_conditional_disentangle_cifar10_bs900_sratio_0_5_drop_0_5_rl_stdscale_6_run3/epoch_161_checkpt.pth\n"
     ]
    },
    {
     "name": "stderr",
     "output_type": "stream",
     "text": [
      "validating...\n"
     ]
    },
    {
     "name": "stdout",
     "output_type": "stream",
     "text": [
      "../experiments_published/cnf_conditional_disentangle_cifar10_bs900_sratio_0_5_drop_0_5_rl_stdscale_6_run3/epoch_162_checkpt.pth\n"
     ]
    },
    {
     "name": "stderr",
     "output_type": "stream",
     "text": [
      "validating...\n"
     ]
    },
    {
     "name": "stdout",
     "output_type": "stream",
     "text": [
      "../experiments_published/cnf_conditional_disentangle_cifar10_bs900_sratio_0_5_drop_0_5_rl_stdscale_6_run3/epoch_163_checkpt.pth\n"
     ]
    },
    {
     "name": "stderr",
     "output_type": "stream",
     "text": [
      "validating...\n"
     ]
    },
    {
     "name": "stdout",
     "output_type": "stream",
     "text": [
      "../experiments_published/cnf_conditional_disentangle_cifar10_bs900_sratio_0_5_drop_0_5_rl_stdscale_6_run3/epoch_164_checkpt.pth\n"
     ]
    },
    {
     "name": "stderr",
     "output_type": "stream",
     "text": [
      "validating...\n"
     ]
    },
    {
     "name": "stdout",
     "output_type": "stream",
     "text": [
      "../experiments_published/cnf_conditional_disentangle_cifar10_bs900_sratio_0_5_drop_0_5_rl_stdscale_6_run3/epoch_165_checkpt.pth\n"
     ]
    },
    {
     "name": "stderr",
     "output_type": "stream",
     "text": [
      "validating...\n"
     ]
    },
    {
     "name": "stdout",
     "output_type": "stream",
     "text": [
      "../experiments_published/cnf_conditional_disentangle_cifar10_bs900_sratio_0_5_drop_0_5_rl_stdscale_6_run3/epoch_166_checkpt.pth\n"
     ]
    },
    {
     "name": "stderr",
     "output_type": "stream",
     "text": [
      "validating...\n"
     ]
    },
    {
     "name": "stdout",
     "output_type": "stream",
     "text": [
      "../experiments_published/cnf_conditional_disentangle_cifar10_bs900_sratio_0_5_drop_0_5_rl_stdscale_6_run3/epoch_167_checkpt.pth\n"
     ]
    },
    {
     "name": "stderr",
     "output_type": "stream",
     "text": [
      "validating...\n"
     ]
    },
    {
     "name": "stdout",
     "output_type": "stream",
     "text": [
      "../experiments_published/cnf_conditional_disentangle_cifar10_bs900_sratio_0_5_drop_0_5_rl_stdscale_6_run3/epoch_168_checkpt.pth\n"
     ]
    },
    {
     "name": "stderr",
     "output_type": "stream",
     "text": [
      "validating...\n"
     ]
    },
    {
     "name": "stdout",
     "output_type": "stream",
     "text": [
      "../experiments_published/cnf_conditional_disentangle_cifar10_bs900_sratio_0_5_drop_0_5_rl_stdscale_6_run3/epoch_169_checkpt.pth\n"
     ]
    },
    {
     "name": "stderr",
     "output_type": "stream",
     "text": [
      "validating...\n"
     ]
    },
    {
     "name": "stdout",
     "output_type": "stream",
     "text": [
      "../experiments_published/cnf_conditional_disentangle_cifar10_bs900_sratio_0_5_drop_0_5_rl_stdscale_6_run3/epoch_170_checkpt.pth\n"
     ]
    },
    {
     "name": "stderr",
     "output_type": "stream",
     "text": [
      "validating...\n"
     ]
    },
    {
     "name": "stdout",
     "output_type": "stream",
     "text": [
      "../experiments_published/cnf_conditional_disentangle_cifar10_bs900_sratio_0_5_drop_0_5_rl_stdscale_6_run3/epoch_171_checkpt.pth\n"
     ]
    },
    {
     "name": "stderr",
     "output_type": "stream",
     "text": [
      "validating...\n"
     ]
    },
    {
     "name": "stdout",
     "output_type": "stream",
     "text": [
      "../experiments_published/cnf_conditional_disentangle_cifar10_bs900_sratio_0_5_drop_0_5_rl_stdscale_6_run3/epoch_172_checkpt.pth\n"
     ]
    },
    {
     "name": "stderr",
     "output_type": "stream",
     "text": [
      "validating...\n"
     ]
    },
    {
     "name": "stdout",
     "output_type": "stream",
     "text": [
      "../experiments_published/cnf_conditional_disentangle_cifar10_bs900_sratio_0_5_drop_0_5_rl_stdscale_6_run3/epoch_173_checkpt.pth\n"
     ]
    },
    {
     "name": "stderr",
     "output_type": "stream",
     "text": [
      "validating...\n"
     ]
    },
    {
     "name": "stdout",
     "output_type": "stream",
     "text": [
      "../experiments_published/cnf_conditional_disentangle_cifar10_bs900_sratio_0_5_drop_0_5_rl_stdscale_6_run3/epoch_174_checkpt.pth\n"
     ]
    },
    {
     "name": "stderr",
     "output_type": "stream",
     "text": [
      "validating...\n"
     ]
    },
    {
     "name": "stdout",
     "output_type": "stream",
     "text": [
      "../experiments_published/cnf_conditional_disentangle_cifar10_bs900_sratio_0_5_drop_0_5_rl_stdscale_6_run3/epoch_175_checkpt.pth\n"
     ]
    },
    {
     "name": "stderr",
     "output_type": "stream",
     "text": [
      "validating...\n"
     ]
    },
    {
     "name": "stdout",
     "output_type": "stream",
     "text": [
      "../experiments_published/cnf_conditional_disentangle_cifar10_bs900_sratio_0_5_drop_0_5_rl_stdscale_6_run3/epoch_176_checkpt.pth\n"
     ]
    },
    {
     "name": "stderr",
     "output_type": "stream",
     "text": [
      "validating...\n"
     ]
    },
    {
     "name": "stdout",
     "output_type": "stream",
     "text": [
      "../experiments_published/cnf_conditional_disentangle_cifar10_bs900_sratio_0_5_drop_0_5_rl_stdscale_6_run3/epoch_177_checkpt.pth\n"
     ]
    },
    {
     "name": "stderr",
     "output_type": "stream",
     "text": [
      "validating...\n"
     ]
    },
    {
     "name": "stdout",
     "output_type": "stream",
     "text": [
      "../experiments_published/cnf_conditional_disentangle_cifar10_bs900_sratio_0_5_drop_0_5_rl_stdscale_6_run3/epoch_178_checkpt.pth\n"
     ]
    },
    {
     "name": "stderr",
     "output_type": "stream",
     "text": [
      "validating...\n"
     ]
    },
    {
     "name": "stdout",
     "output_type": "stream",
     "text": [
      "../experiments_published/cnf_conditional_disentangle_cifar10_bs900_sratio_0_5_drop_0_5_rl_stdscale_6_run3/epoch_179_checkpt.pth\n"
     ]
    },
    {
     "name": "stderr",
     "output_type": "stream",
     "text": [
      "validating...\n"
     ]
    },
    {
     "name": "stdout",
     "output_type": "stream",
     "text": [
      "../experiments_published/cnf_conditional_disentangle_cifar10_bs900_sratio_0_5_drop_0_5_rl_stdscale_6_run3/epoch_180_checkpt.pth\n"
     ]
    },
    {
     "name": "stderr",
     "output_type": "stream",
     "text": [
      "validating...\n"
     ]
    },
    {
     "name": "stdout",
     "output_type": "stream",
     "text": [
      "../experiments_published/cnf_conditional_disentangle_cifar10_bs900_sratio_0_5_drop_0_5_rl_stdscale_6_run3/epoch_181_checkpt.pth\n"
     ]
    },
    {
     "name": "stderr",
     "output_type": "stream",
     "text": [
      "validating...\n"
     ]
    },
    {
     "name": "stdout",
     "output_type": "stream",
     "text": [
      "../experiments_published/cnf_conditional_disentangle_cifar10_bs900_sratio_0_5_drop_0_5_rl_stdscale_6_run3/epoch_182_checkpt.pth\n"
     ]
    },
    {
     "name": "stderr",
     "output_type": "stream",
     "text": [
      "validating...\n"
     ]
    },
    {
     "name": "stdout",
     "output_type": "stream",
     "text": [
      "../experiments_published/cnf_conditional_disentangle_cifar10_bs900_sratio_0_5_drop_0_5_rl_stdscale_6_run3/epoch_183_checkpt.pth\n"
     ]
    },
    {
     "name": "stderr",
     "output_type": "stream",
     "text": [
      "validating...\n"
     ]
    },
    {
     "name": "stdout",
     "output_type": "stream",
     "text": [
      "../experiments_published/cnf_conditional_disentangle_cifar10_bs900_sratio_0_5_drop_0_5_rl_stdscale_6_run3/epoch_184_checkpt.pth\n"
     ]
    },
    {
     "name": "stderr",
     "output_type": "stream",
     "text": [
      "validating...\n"
     ]
    },
    {
     "name": "stdout",
     "output_type": "stream",
     "text": [
      "../experiments_published/cnf_conditional_disentangle_cifar10_bs900_sratio_0_5_drop_0_5_rl_stdscale_6_run3/epoch_185_checkpt.pth\n"
     ]
    },
    {
     "name": "stderr",
     "output_type": "stream",
     "text": [
      "validating...\n"
     ]
    },
    {
     "name": "stdout",
     "output_type": "stream",
     "text": [
      "../experiments_published/cnf_conditional_disentangle_cifar10_bs900_sratio_0_5_drop_0_5_rl_stdscale_6_run3/epoch_186_checkpt.pth\n"
     ]
    },
    {
     "name": "stderr",
     "output_type": "stream",
     "text": [
      "validating...\n"
     ]
    },
    {
     "name": "stdout",
     "output_type": "stream",
     "text": [
      "../experiments_published/cnf_conditional_disentangle_cifar10_bs900_sratio_0_5_drop_0_5_rl_stdscale_6_run3/epoch_187_checkpt.pth\n"
     ]
    },
    {
     "name": "stderr",
     "output_type": "stream",
     "text": [
      "validating...\n"
     ]
    },
    {
     "name": "stdout",
     "output_type": "stream",
     "text": [
      "../experiments_published/cnf_conditional_disentangle_cifar10_bs900_sratio_0_5_drop_0_5_rl_stdscale_6_run3/epoch_188_checkpt.pth\n"
     ]
    },
    {
     "name": "stderr",
     "output_type": "stream",
     "text": [
      "validating...\n"
     ]
    },
    {
     "name": "stdout",
     "output_type": "stream",
     "text": [
      "../experiments_published/cnf_conditional_disentangle_cifar10_bs900_sratio_0_5_drop_0_5_rl_stdscale_6_run3/epoch_189_checkpt.pth\n"
     ]
    },
    {
     "name": "stderr",
     "output_type": "stream",
     "text": [
      "validating...\n"
     ]
    },
    {
     "name": "stdout",
     "output_type": "stream",
     "text": [
      "../experiments_published/cnf_conditional_disentangle_cifar10_bs900_sratio_0_5_drop_0_5_rl_stdscale_6_run3/epoch_190_checkpt.pth\n"
     ]
    },
    {
     "name": "stderr",
     "output_type": "stream",
     "text": [
      "validating...\n"
     ]
    },
    {
     "name": "stdout",
     "output_type": "stream",
     "text": [
      "../experiments_published/cnf_conditional_disentangle_cifar10_bs900_sratio_0_5_drop_0_5_rl_stdscale_6_run3/epoch_191_checkpt.pth\n"
     ]
    },
    {
     "name": "stderr",
     "output_type": "stream",
     "text": [
      "validating...\n"
     ]
    },
    {
     "name": "stdout",
     "output_type": "stream",
     "text": [
      "../experiments_published/cnf_conditional_disentangle_cifar10_bs900_sratio_0_5_drop_0_5_rl_stdscale_6_run3/epoch_192_checkpt.pth\n"
     ]
    },
    {
     "name": "stderr",
     "output_type": "stream",
     "text": [
      "validating...\n"
     ]
    },
    {
     "name": "stdout",
     "output_type": "stream",
     "text": [
      "../experiments_published/cnf_conditional_disentangle_cifar10_bs900_sratio_0_5_drop_0_5_rl_stdscale_6_run3/epoch_193_checkpt.pth\n"
     ]
    },
    {
     "name": "stderr",
     "output_type": "stream",
     "text": [
      "validating...\n"
     ]
    },
    {
     "name": "stdout",
     "output_type": "stream",
     "text": [
      "../experiments_published/cnf_conditional_disentangle_cifar10_bs900_sratio_0_5_drop_0_5_rl_stdscale_6_run3/epoch_194_checkpt.pth\n"
     ]
    },
    {
     "name": "stderr",
     "output_type": "stream",
     "text": [
      "validating...\n"
     ]
    },
    {
     "name": "stdout",
     "output_type": "stream",
     "text": [
      "../experiments_published/cnf_conditional_disentangle_cifar10_bs900_sratio_0_5_drop_0_5_rl_stdscale_6_run3/epoch_195_checkpt.pth\n"
     ]
    },
    {
     "name": "stderr",
     "output_type": "stream",
     "text": [
      "validating...\n"
     ]
    },
    {
     "name": "stdout",
     "output_type": "stream",
     "text": [
      "../experiments_published/cnf_conditional_disentangle_cifar10_bs900_sratio_0_5_drop_0_5_rl_stdscale_6_run3/epoch_196_checkpt.pth\n"
     ]
    },
    {
     "name": "stderr",
     "output_type": "stream",
     "text": [
      "validating...\n"
     ]
    },
    {
     "name": "stdout",
     "output_type": "stream",
     "text": [
      "../experiments_published/cnf_conditional_disentangle_cifar10_bs900_sratio_0_5_drop_0_5_rl_stdscale_6_run3/epoch_197_checkpt.pth\n"
     ]
    },
    {
     "name": "stderr",
     "output_type": "stream",
     "text": [
      "validating...\n"
     ]
    },
    {
     "name": "stdout",
     "output_type": "stream",
     "text": [
      "../experiments_published/cnf_conditional_disentangle_cifar10_bs900_sratio_0_5_drop_0_5_rl_stdscale_6_run3/epoch_198_checkpt.pth\n"
     ]
    },
    {
     "name": "stderr",
     "output_type": "stream",
     "text": [
      "validating...\n"
     ]
    },
    {
     "name": "stdout",
     "output_type": "stream",
     "text": [
      "../experiments_published/cnf_conditional_disentangle_cifar10_bs900_sratio_0_5_drop_0_5_rl_stdscale_6_run3/epoch_199_checkpt.pth\n"
     ]
    },
    {
     "name": "stderr",
     "output_type": "stream",
     "text": [
      "validating...\n"
     ]
    },
    {
     "name": "stdout",
     "output_type": "stream",
     "text": [
      "../experiments_published/cnf_conditional_disentangle_cifar10_bs900_sratio_0_5_drop_0_5_rl_stdscale_6_run3/epoch_200_checkpt.pth\n"
     ]
    },
    {
     "name": "stderr",
     "output_type": "stream",
     "text": [
      "validating...\n"
     ]
    },
    {
     "name": "stdout",
     "output_type": "stream",
     "text": [
      "../experiments_published/cnf_conditional_disentangle_cifar10_bs900_sratio_0_5_drop_0_5_rl_stdscale_6_run3/epoch_201_checkpt.pth\n"
     ]
    },
    {
     "name": "stderr",
     "output_type": "stream",
     "text": [
      "validating...\n"
     ]
    },
    {
     "name": "stdout",
     "output_type": "stream",
     "text": [
      "../experiments_published/cnf_conditional_disentangle_cifar10_bs900_sratio_0_5_drop_0_5_rl_stdscale_6_run3/epoch_202_checkpt.pth\n"
     ]
    },
    {
     "name": "stderr",
     "output_type": "stream",
     "text": [
      "validating...\n"
     ]
    },
    {
     "name": "stdout",
     "output_type": "stream",
     "text": [
      "../experiments_published/cnf_conditional_disentangle_cifar10_bs900_sratio_0_5_drop_0_5_rl_stdscale_6_run3/epoch_203_checkpt.pth\n"
     ]
    },
    {
     "name": "stderr",
     "output_type": "stream",
     "text": [
      "validating...\n"
     ]
    },
    {
     "name": "stdout",
     "output_type": "stream",
     "text": [
      "../experiments_published/cnf_conditional_disentangle_cifar10_bs900_sratio_0_5_drop_0_5_rl_stdscale_6_run3/epoch_204_checkpt.pth\n"
     ]
    },
    {
     "name": "stderr",
     "output_type": "stream",
     "text": [
      "validating...\n"
     ]
    },
    {
     "name": "stdout",
     "output_type": "stream",
     "text": [
      "../experiments_published/cnf_conditional_disentangle_cifar10_bs900_sratio_0_5_drop_0_5_rl_stdscale_6_run3/epoch_205_checkpt.pth\n"
     ]
    },
    {
     "name": "stderr",
     "output_type": "stream",
     "text": [
      "validating...\n"
     ]
    },
    {
     "name": "stdout",
     "output_type": "stream",
     "text": [
      "../experiments_published/cnf_conditional_disentangle_cifar10_bs900_sratio_0_5_drop_0_5_rl_stdscale_6_run3/epoch_206_checkpt.pth\n"
     ]
    },
    {
     "name": "stderr",
     "output_type": "stream",
     "text": [
      "validating...\n"
     ]
    },
    {
     "name": "stdout",
     "output_type": "stream",
     "text": [
      "../experiments_published/cnf_conditional_disentangle_cifar10_bs900_sratio_0_5_drop_0_5_rl_stdscale_6_run3/epoch_207_checkpt.pth\n"
     ]
    },
    {
     "name": "stderr",
     "output_type": "stream",
     "text": [
      "validating...\n"
     ]
    },
    {
     "name": "stdout",
     "output_type": "stream",
     "text": [
      "../experiments_published/cnf_conditional_disentangle_cifar10_bs900_sratio_0_5_drop_0_5_rl_stdscale_6_run3/epoch_208_checkpt.pth\n"
     ]
    },
    {
     "name": "stderr",
     "output_type": "stream",
     "text": [
      "validating...\n"
     ]
    },
    {
     "name": "stdout",
     "output_type": "stream",
     "text": [
      "../experiments_published/cnf_conditional_disentangle_cifar10_bs900_sratio_0_5_drop_0_5_rl_stdscale_6_run3/epoch_209_checkpt.pth\n"
     ]
    },
    {
     "name": "stderr",
     "output_type": "stream",
     "text": [
      "validating...\n"
     ]
    },
    {
     "name": "stdout",
     "output_type": "stream",
     "text": [
      "../experiments_published/cnf_conditional_disentangle_cifar10_bs900_sratio_0_5_drop_0_5_rl_stdscale_6_run3/epoch_210_checkpt.pth\n"
     ]
    },
    {
     "name": "stderr",
     "output_type": "stream",
     "text": [
      "validating...\n"
     ]
    },
    {
     "name": "stdout",
     "output_type": "stream",
     "text": [
      "../experiments_published/cnf_conditional_disentangle_cifar10_bs900_sratio_0_5_drop_0_5_rl_stdscale_6_run3/epoch_211_checkpt.pth\n"
     ]
    },
    {
     "name": "stderr",
     "output_type": "stream",
     "text": [
      "validating...\n"
     ]
    },
    {
     "name": "stdout",
     "output_type": "stream",
     "text": [
      "../experiments_published/cnf_conditional_disentangle_cifar10_bs900_sratio_0_5_drop_0_5_rl_stdscale_6_run3/epoch_212_checkpt.pth\n"
     ]
    },
    {
     "name": "stderr",
     "output_type": "stream",
     "text": [
      "validating...\n"
     ]
    },
    {
     "name": "stdout",
     "output_type": "stream",
     "text": [
      "../experiments_published/cnf_conditional_disentangle_cifar10_bs900_sratio_0_5_drop_0_5_rl_stdscale_6_run3/epoch_213_checkpt.pth\n"
     ]
    },
    {
     "name": "stderr",
     "output_type": "stream",
     "text": [
      "validating...\n"
     ]
    },
    {
     "name": "stdout",
     "output_type": "stream",
     "text": [
      "../experiments_published/cnf_conditional_disentangle_cifar10_bs900_sratio_0_5_drop_0_5_rl_stdscale_6_run3/epoch_214_checkpt.pth\n"
     ]
    },
    {
     "name": "stderr",
     "output_type": "stream",
     "text": [
      "validating...\n"
     ]
    },
    {
     "name": "stdout",
     "output_type": "stream",
     "text": [
      "../experiments_published/cnf_conditional_disentangle_cifar10_bs900_sratio_0_5_drop_0_5_rl_stdscale_6_run3/epoch_215_checkpt.pth\n"
     ]
    },
    {
     "name": "stderr",
     "output_type": "stream",
     "text": [
      "validating...\n"
     ]
    },
    {
     "name": "stdout",
     "output_type": "stream",
     "text": [
      "../experiments_published/cnf_conditional_disentangle_cifar10_bs900_sratio_0_5_drop_0_5_rl_stdscale_6_run3/epoch_216_checkpt.pth\n"
     ]
    },
    {
     "name": "stderr",
     "output_type": "stream",
     "text": [
      "validating...\n"
     ]
    },
    {
     "name": "stdout",
     "output_type": "stream",
     "text": [
      "../experiments_published/cnf_conditional_disentangle_cifar10_bs900_sratio_0_5_drop_0_5_rl_stdscale_6_run3/epoch_217_checkpt.pth\n"
     ]
    },
    {
     "name": "stderr",
     "output_type": "stream",
     "text": [
      "validating...\n"
     ]
    },
    {
     "name": "stdout",
     "output_type": "stream",
     "text": [
      "../experiments_published/cnf_conditional_disentangle_cifar10_bs900_sratio_0_5_drop_0_5_rl_stdscale_6_run3/epoch_218_checkpt.pth\n"
     ]
    },
    {
     "name": "stderr",
     "output_type": "stream",
     "text": [
      "validating...\n"
     ]
    },
    {
     "name": "stdout",
     "output_type": "stream",
     "text": [
      "../experiments_published/cnf_conditional_disentangle_cifar10_bs900_sratio_0_5_drop_0_5_rl_stdscale_6_run3/epoch_219_checkpt.pth\n"
     ]
    },
    {
     "name": "stderr",
     "output_type": "stream",
     "text": [
      "validating...\n"
     ]
    },
    {
     "name": "stdout",
     "output_type": "stream",
     "text": [
      "../experiments_published/cnf_conditional_disentangle_cifar10_bs900_sratio_0_5_drop_0_5_rl_stdscale_6_run3/epoch_220_checkpt.pth\n"
     ]
    },
    {
     "name": "stderr",
     "output_type": "stream",
     "text": [
      "validating...\n"
     ]
    },
    {
     "name": "stdout",
     "output_type": "stream",
     "text": [
      "../experiments_published/cnf_conditional_disentangle_cifar10_bs900_sratio_0_5_drop_0_5_rl_stdscale_6_run3/epoch_221_checkpt.pth\n"
     ]
    },
    {
     "name": "stderr",
     "output_type": "stream",
     "text": [
      "validating...\n"
     ]
    },
    {
     "name": "stdout",
     "output_type": "stream",
     "text": [
      "../experiments_published/cnf_conditional_disentangle_cifar10_bs900_sratio_0_5_drop_0_5_rl_stdscale_6_run3/epoch_222_checkpt.pth\n"
     ]
    },
    {
     "name": "stderr",
     "output_type": "stream",
     "text": [
      "validating...\n"
     ]
    },
    {
     "name": "stdout",
     "output_type": "stream",
     "text": [
      "../experiments_published/cnf_conditional_disentangle_cifar10_bs900_sratio_0_5_drop_0_5_rl_stdscale_6_run3/epoch_223_checkpt.pth\n"
     ]
    },
    {
     "name": "stderr",
     "output_type": "stream",
     "text": [
      "validating...\n"
     ]
    },
    {
     "name": "stdout",
     "output_type": "stream",
     "text": [
      "../experiments_published/cnf_conditional_disentangle_cifar10_bs900_sratio_0_5_drop_0_5_rl_stdscale_6_run3/epoch_224_checkpt.pth\n"
     ]
    },
    {
     "name": "stderr",
     "output_type": "stream",
     "text": [
      "validating...\n"
     ]
    },
    {
     "name": "stdout",
     "output_type": "stream",
     "text": [
      "../experiments_published/cnf_conditional_disentangle_cifar10_bs900_sratio_0_5_drop_0_5_rl_stdscale_6_run3/epoch_225_checkpt.pth\n"
     ]
    },
    {
     "name": "stderr",
     "output_type": "stream",
     "text": [
      "validating...\n"
     ]
    },
    {
     "name": "stdout",
     "output_type": "stream",
     "text": [
      "../experiments_published/cnf_conditional_disentangle_cifar10_bs900_sratio_0_5_drop_0_5_rl_stdscale_6_run3/epoch_226_checkpt.pth\n"
     ]
    },
    {
     "name": "stderr",
     "output_type": "stream",
     "text": [
      "validating...\n"
     ]
    },
    {
     "name": "stdout",
     "output_type": "stream",
     "text": [
      "../experiments_published/cnf_conditional_disentangle_cifar10_bs900_sratio_0_5_drop_0_5_rl_stdscale_6_run3/epoch_227_checkpt.pth\n"
     ]
    },
    {
     "name": "stderr",
     "output_type": "stream",
     "text": [
      "validating...\n"
     ]
    },
    {
     "name": "stdout",
     "output_type": "stream",
     "text": [
      "../experiments_published/cnf_conditional_disentangle_cifar10_bs900_sratio_0_5_drop_0_5_rl_stdscale_6_run3/epoch_228_checkpt.pth\n"
     ]
    },
    {
     "name": "stderr",
     "output_type": "stream",
     "text": [
      "validating...\n"
     ]
    },
    {
     "name": "stdout",
     "output_type": "stream",
     "text": [
      "../experiments_published/cnf_conditional_disentangle_cifar10_bs900_sratio_0_5_drop_0_5_rl_stdscale_6_run3/epoch_229_checkpt.pth\n"
     ]
    },
    {
     "name": "stderr",
     "output_type": "stream",
     "text": [
      "validating...\n"
     ]
    },
    {
     "name": "stdout",
     "output_type": "stream",
     "text": [
      "../experiments_published/cnf_conditional_disentangle_cifar10_bs900_sratio_0_5_drop_0_5_rl_stdscale_6_run3/epoch_230_checkpt.pth\n"
     ]
    },
    {
     "name": "stderr",
     "output_type": "stream",
     "text": [
      "validating...\n"
     ]
    },
    {
     "name": "stdout",
     "output_type": "stream",
     "text": [
      "../experiments_published/cnf_conditional_disentangle_cifar10_bs900_sratio_0_5_drop_0_5_rl_stdscale_6_run3/epoch_231_checkpt.pth\n"
     ]
    },
    {
     "name": "stderr",
     "output_type": "stream",
     "text": [
      "validating...\n"
     ]
    },
    {
     "name": "stdout",
     "output_type": "stream",
     "text": [
      "../experiments_published/cnf_conditional_disentangle_cifar10_bs900_sratio_0_5_drop_0_5_rl_stdscale_6_run3/epoch_232_checkpt.pth\n"
     ]
    },
    {
     "name": "stderr",
     "output_type": "stream",
     "text": [
      "validating...\n"
     ]
    },
    {
     "name": "stdout",
     "output_type": "stream",
     "text": [
      "../experiments_published/cnf_conditional_disentangle_cifar10_bs900_sratio_0_5_drop_0_5_rl_stdscale_6_run3/epoch_233_checkpt.pth\n"
     ]
    },
    {
     "name": "stderr",
     "output_type": "stream",
     "text": [
      "validating...\n"
     ]
    },
    {
     "name": "stdout",
     "output_type": "stream",
     "text": [
      "../experiments_published/cnf_conditional_disentangle_cifar10_bs900_sratio_0_5_drop_0_5_rl_stdscale_6_run3/epoch_234_checkpt.pth\n"
     ]
    },
    {
     "name": "stderr",
     "output_type": "stream",
     "text": [
      "validating...\n"
     ]
    },
    {
     "name": "stdout",
     "output_type": "stream",
     "text": [
      "../experiments_published/cnf_conditional_disentangle_cifar10_bs900_sratio_0_5_drop_0_5_rl_stdscale_6_run3/epoch_235_checkpt.pth\n"
     ]
    },
    {
     "name": "stderr",
     "output_type": "stream",
     "text": [
      "validating...\n"
     ]
    },
    {
     "name": "stdout",
     "output_type": "stream",
     "text": [
      "../experiments_published/cnf_conditional_disentangle_cifar10_bs900_sratio_0_5_drop_0_5_rl_stdscale_6_run3/epoch_236_checkpt.pth\n"
     ]
    },
    {
     "name": "stderr",
     "output_type": "stream",
     "text": [
      "validating...\n"
     ]
    },
    {
     "name": "stdout",
     "output_type": "stream",
     "text": [
      "../experiments_published/cnf_conditional_disentangle_cifar10_bs900_sratio_0_5_drop_0_5_rl_stdscale_6_run3/epoch_237_checkpt.pth\n"
     ]
    },
    {
     "name": "stderr",
     "output_type": "stream",
     "text": [
      "validating...\n"
     ]
    },
    {
     "name": "stdout",
     "output_type": "stream",
     "text": [
      "../experiments_published/cnf_conditional_disentangle_cifar10_bs900_sratio_0_5_drop_0_5_rl_stdscale_6_run3/epoch_238_checkpt.pth\n"
     ]
    },
    {
     "name": "stderr",
     "output_type": "stream",
     "text": [
      "validating...\n"
     ]
    },
    {
     "name": "stdout",
     "output_type": "stream",
     "text": [
      "../experiments_published/cnf_conditional_disentangle_cifar10_bs900_sratio_0_5_drop_0_5_rl_stdscale_6_run3/epoch_239_checkpt.pth\n"
     ]
    },
    {
     "name": "stderr",
     "output_type": "stream",
     "text": [
      "validating...\n"
     ]
    },
    {
     "name": "stdout",
     "output_type": "stream",
     "text": [
      "../experiments_published/cnf_conditional_disentangle_cifar10_bs900_sratio_0_5_drop_0_5_rl_stdscale_6_run3/epoch_240_checkpt.pth\n"
     ]
    },
    {
     "name": "stderr",
     "output_type": "stream",
     "text": [
      "validating...\n"
     ]
    },
    {
     "name": "stdout",
     "output_type": "stream",
     "text": [
      "../experiments_published/cnf_conditional_disentangle_cifar10_bs900_sratio_0_5_drop_0_5_rl_stdscale_6_run3/epoch_241_checkpt.pth\n"
     ]
    },
    {
     "name": "stderr",
     "output_type": "stream",
     "text": [
      "validating...\n"
     ]
    },
    {
     "name": "stdout",
     "output_type": "stream",
     "text": [
      "../experiments_published/cnf_conditional_disentangle_cifar10_bs900_sratio_0_5_drop_0_5_rl_stdscale_6_run3/epoch_242_checkpt.pth\n"
     ]
    },
    {
     "name": "stderr",
     "output_type": "stream",
     "text": [
      "validating...\n"
     ]
    },
    {
     "name": "stdout",
     "output_type": "stream",
     "text": [
      "../experiments_published/cnf_conditional_disentangle_cifar10_bs900_sratio_0_5_drop_0_5_rl_stdscale_6_run3/epoch_243_checkpt.pth\n"
     ]
    },
    {
     "name": "stderr",
     "output_type": "stream",
     "text": [
      "validating...\n"
     ]
    },
    {
     "name": "stdout",
     "output_type": "stream",
     "text": [
      "../experiments_published/cnf_conditional_disentangle_cifar10_bs900_sratio_0_5_drop_0_5_rl_stdscale_6_run3/epoch_244_checkpt.pth\n"
     ]
    },
    {
     "name": "stderr",
     "output_type": "stream",
     "text": [
      "validating...\n"
     ]
    },
    {
     "name": "stdout",
     "output_type": "stream",
     "text": [
      "../experiments_published/cnf_conditional_disentangle_cifar10_bs900_sratio_0_5_drop_0_5_rl_stdscale_6_run3/epoch_245_checkpt.pth\n"
     ]
    },
    {
     "name": "stderr",
     "output_type": "stream",
     "text": [
      "validating...\n"
     ]
    },
    {
     "name": "stdout",
     "output_type": "stream",
     "text": [
      "../experiments_published/cnf_conditional_disentangle_cifar10_bs900_sratio_0_5_drop_0_5_rl_stdscale_6_run3/epoch_246_checkpt.pth\n"
     ]
    },
    {
     "name": "stderr",
     "output_type": "stream",
     "text": [
      "validating...\n"
     ]
    },
    {
     "name": "stdout",
     "output_type": "stream",
     "text": [
      "../experiments_published/cnf_conditional_disentangle_cifar10_bs900_sratio_0_5_drop_0_5_rl_stdscale_6_run3/epoch_247_checkpt.pth\n"
     ]
    },
    {
     "name": "stderr",
     "output_type": "stream",
     "text": [
      "validating...\n"
     ]
    },
    {
     "name": "stdout",
     "output_type": "stream",
     "text": [
      "../experiments_published/cnf_conditional_disentangle_cifar10_bs900_sratio_0_5_drop_0_5_rl_stdscale_6_run3/epoch_248_checkpt.pth\n"
     ]
    },
    {
     "name": "stderr",
     "output_type": "stream",
     "text": [
      "validating...\n"
     ]
    },
    {
     "name": "stdout",
     "output_type": "stream",
     "text": [
      "../experiments_published/cnf_conditional_disentangle_cifar10_bs900_sratio_0_5_drop_0_5_rl_stdscale_6_run3/epoch_249_checkpt.pth\n"
     ]
    },
    {
     "name": "stderr",
     "output_type": "stream",
     "text": [
      "validating...\n"
     ]
    },
    {
     "name": "stdout",
     "output_type": "stream",
     "text": [
      "../experiments_published/cnf_conditional_disentangle_cifar10_bs900_sratio_0_5_drop_0_5_rl_stdscale_6_run3/epoch_250_checkpt.pth\n"
     ]
    },
    {
     "name": "stderr",
     "output_type": "stream",
     "text": [
      "validating...\n"
     ]
    },
    {
     "name": "stdout",
     "output_type": "stream",
     "text": [
      "../experiments_published/cnf_conditional_disentangle_cifar10_bs900_sratio_0_5_drop_0_5_rl_stdscale_6_run3/epoch_251_checkpt.pth\n"
     ]
    },
    {
     "name": "stderr",
     "output_type": "stream",
     "text": [
      "validating...\n"
     ]
    },
    {
     "name": "stdout",
     "output_type": "stream",
     "text": [
      "../experiments_published/cnf_conditional_disentangle_cifar10_bs900_sratio_0_5_drop_0_5_rl_stdscale_6_run3/epoch_252_checkpt.pth\n"
     ]
    },
    {
     "name": "stderr",
     "output_type": "stream",
     "text": [
      "validating...\n"
     ]
    },
    {
     "name": "stdout",
     "output_type": "stream",
     "text": [
      "../experiments_published/cnf_conditional_disentangle_cifar10_bs900_sratio_0_5_drop_0_5_rl_stdscale_6_run3/epoch_253_checkpt.pth\n"
     ]
    },
    {
     "name": "stderr",
     "output_type": "stream",
     "text": [
      "validating...\n"
     ]
    },
    {
     "name": "stdout",
     "output_type": "stream",
     "text": [
      "../experiments_published/cnf_conditional_disentangle_cifar10_bs900_sratio_0_5_drop_0_5_rl_stdscale_6_run3/epoch_254_checkpt.pth\n"
     ]
    },
    {
     "name": "stderr",
     "output_type": "stream",
     "text": [
      "validating...\n"
     ]
    },
    {
     "name": "stdout",
     "output_type": "stream",
     "text": [
      "../experiments_published/cnf_conditional_disentangle_cifar10_bs900_sratio_0_5_drop_0_5_rl_stdscale_6_run3/epoch_255_checkpt.pth\n"
     ]
    },
    {
     "name": "stderr",
     "output_type": "stream",
     "text": [
      "validating...\n"
     ]
    },
    {
     "name": "stdout",
     "output_type": "stream",
     "text": [
      "../experiments_published/cnf_conditional_disentangle_cifar10_bs900_sratio_0_5_drop_0_5_rl_stdscale_6_run3/epoch_256_checkpt.pth\n"
     ]
    },
    {
     "name": "stderr",
     "output_type": "stream",
     "text": [
      "validating...\n"
     ]
    },
    {
     "name": "stdout",
     "output_type": "stream",
     "text": [
      "../experiments_published/cnf_conditional_disentangle_cifar10_bs900_sratio_0_5_drop_0_5_rl_stdscale_6_run3/epoch_257_checkpt.pth\n"
     ]
    },
    {
     "name": "stderr",
     "output_type": "stream",
     "text": [
      "validating...\n"
     ]
    },
    {
     "name": "stdout",
     "output_type": "stream",
     "text": [
      "../experiments_published/cnf_conditional_disentangle_cifar10_bs900_sratio_0_5_drop_0_5_rl_stdscale_6_run3/epoch_258_checkpt.pth\n"
     ]
    },
    {
     "name": "stderr",
     "output_type": "stream",
     "text": [
      "validating...\n"
     ]
    },
    {
     "name": "stdout",
     "output_type": "stream",
     "text": [
      "../experiments_published/cnf_conditional_disentangle_cifar10_bs900_sratio_0_5_drop_0_5_rl_stdscale_6_run3/epoch_259_checkpt.pth\n"
     ]
    },
    {
     "name": "stderr",
     "output_type": "stream",
     "text": [
      "validating...\n"
     ]
    },
    {
     "name": "stdout",
     "output_type": "stream",
     "text": [
      "../experiments_published/cnf_conditional_disentangle_cifar10_bs900_sratio_0_5_drop_0_5_rl_stdscale_6_run3/epoch_260_checkpt.pth\n"
     ]
    },
    {
     "name": "stderr",
     "output_type": "stream",
     "text": [
      "validating...\n"
     ]
    },
    {
     "name": "stdout",
     "output_type": "stream",
     "text": [
      "../experiments_published/cnf_conditional_disentangle_cifar10_bs900_sratio_0_5_drop_0_5_rl_stdscale_6_run3/epoch_261_checkpt.pth\n"
     ]
    },
    {
     "name": "stderr",
     "output_type": "stream",
     "text": [
      "validating...\n"
     ]
    },
    {
     "name": "stdout",
     "output_type": "stream",
     "text": [
      "../experiments_published/cnf_conditional_disentangle_cifar10_bs900_sratio_0_5_drop_0_5_rl_stdscale_6_run3/epoch_262_checkpt.pth\n"
     ]
    },
    {
     "name": "stderr",
     "output_type": "stream",
     "text": [
      "validating...\n"
     ]
    },
    {
     "name": "stdout",
     "output_type": "stream",
     "text": [
      "../experiments_published/cnf_conditional_disentangle_cifar10_bs900_sratio_0_5_drop_0_5_rl_stdscale_6_run3/epoch_263_checkpt.pth\n"
     ]
    },
    {
     "name": "stderr",
     "output_type": "stream",
     "text": [
      "validating...\n"
     ]
    },
    {
     "name": "stdout",
     "output_type": "stream",
     "text": [
      "../experiments_published/cnf_conditional_disentangle_cifar10_bs900_sratio_0_5_drop_0_5_rl_stdscale_6_run3/epoch_264_checkpt.pth\n"
     ]
    },
    {
     "name": "stderr",
     "output_type": "stream",
     "text": [
      "validating...\n"
     ]
    },
    {
     "name": "stdout",
     "output_type": "stream",
     "text": [
      "../experiments_published/cnf_conditional_disentangle_cifar10_bs900_sratio_0_5_drop_0_5_rl_stdscale_6_run3/epoch_265_checkpt.pth\n"
     ]
    },
    {
     "name": "stderr",
     "output_type": "stream",
     "text": [
      "validating...\n"
     ]
    },
    {
     "name": "stdout",
     "output_type": "stream",
     "text": [
      "../experiments_published/cnf_conditional_disentangle_cifar10_bs900_sratio_0_5_drop_0_5_rl_stdscale_6_run3/epoch_266_checkpt.pth\n"
     ]
    },
    {
     "name": "stderr",
     "output_type": "stream",
     "text": [
      "validating...\n"
     ]
    },
    {
     "name": "stdout",
     "output_type": "stream",
     "text": [
      "../experiments_published/cnf_conditional_disentangle_cifar10_bs900_sratio_0_5_drop_0_5_rl_stdscale_6_run3/epoch_267_checkpt.pth\n"
     ]
    },
    {
     "name": "stderr",
     "output_type": "stream",
     "text": [
      "validating...\n"
     ]
    },
    {
     "name": "stdout",
     "output_type": "stream",
     "text": [
      "../experiments_published/cnf_conditional_disentangle_cifar10_bs900_sratio_0_5_drop_0_5_rl_stdscale_6_run3/epoch_268_checkpt.pth\n"
     ]
    },
    {
     "name": "stderr",
     "output_type": "stream",
     "text": [
      "validating...\n"
     ]
    },
    {
     "name": "stdout",
     "output_type": "stream",
     "text": [
      "../experiments_published/cnf_conditional_disentangle_cifar10_bs900_sratio_0_5_drop_0_5_rl_stdscale_6_run3/epoch_269_checkpt.pth\n"
     ]
    },
    {
     "name": "stderr",
     "output_type": "stream",
     "text": [
      "validating...\n"
     ]
    },
    {
     "name": "stdout",
     "output_type": "stream",
     "text": [
      "../experiments_published/cnf_conditional_disentangle_cifar10_bs900_sratio_0_5_drop_0_5_rl_stdscale_6_run3/epoch_270_checkpt.pth\n"
     ]
    },
    {
     "name": "stderr",
     "output_type": "stream",
     "text": [
      "validating...\n"
     ]
    },
    {
     "name": "stdout",
     "output_type": "stream",
     "text": [
      "../experiments_published/cnf_conditional_disentangle_cifar10_bs900_sratio_0_5_drop_0_5_rl_stdscale_6_run3/epoch_271_checkpt.pth\n"
     ]
    },
    {
     "name": "stderr",
     "output_type": "stream",
     "text": [
      "validating...\n"
     ]
    },
    {
     "name": "stdout",
     "output_type": "stream",
     "text": [
      "../experiments_published/cnf_conditional_disentangle_cifar10_bs900_sratio_0_5_drop_0_5_rl_stdscale_6_run3/epoch_272_checkpt.pth\n"
     ]
    },
    {
     "name": "stderr",
     "output_type": "stream",
     "text": [
      "validating...\n"
     ]
    },
    {
     "name": "stdout",
     "output_type": "stream",
     "text": [
      "../experiments_published/cnf_conditional_disentangle_cifar10_bs900_sratio_0_5_drop_0_5_rl_stdscale_6_run3/epoch_273_checkpt.pth\n"
     ]
    },
    {
     "name": "stderr",
     "output_type": "stream",
     "text": [
      "validating...\n"
     ]
    },
    {
     "name": "stdout",
     "output_type": "stream",
     "text": [
      "../experiments_published/cnf_conditional_disentangle_cifar10_bs900_sratio_0_5_drop_0_5_rl_stdscale_6_run3/epoch_274_checkpt.pth\n"
     ]
    },
    {
     "name": "stderr",
     "output_type": "stream",
     "text": [
      "validating...\n"
     ]
    },
    {
     "name": "stdout",
     "output_type": "stream",
     "text": [
      "../experiments_published/cnf_conditional_disentangle_cifar10_bs900_sratio_0_5_drop_0_5_rl_stdscale_6_run3/epoch_275_checkpt.pth\n"
     ]
    },
    {
     "name": "stderr",
     "output_type": "stream",
     "text": [
      "validating...\n"
     ]
    },
    {
     "name": "stdout",
     "output_type": "stream",
     "text": [
      "../experiments_published/cnf_conditional_disentangle_cifar10_bs900_sratio_0_5_drop_0_5_rl_stdscale_6_run3/epoch_276_checkpt.pth\n"
     ]
    },
    {
     "name": "stderr",
     "output_type": "stream",
     "text": [
      "validating...\n"
     ]
    },
    {
     "name": "stdout",
     "output_type": "stream",
     "text": [
      "../experiments_published/cnf_conditional_disentangle_cifar10_bs900_sratio_0_5_drop_0_5_rl_stdscale_6_run3/epoch_277_checkpt.pth\n"
     ]
    },
    {
     "name": "stderr",
     "output_type": "stream",
     "text": [
      "validating...\n"
     ]
    },
    {
     "name": "stdout",
     "output_type": "stream",
     "text": [
      "../experiments_published/cnf_conditional_disentangle_cifar10_bs900_sratio_0_5_drop_0_5_rl_stdscale_6_run3/epoch_278_checkpt.pth\n"
     ]
    },
    {
     "name": "stderr",
     "output_type": "stream",
     "text": [
      "validating...\n"
     ]
    },
    {
     "name": "stdout",
     "output_type": "stream",
     "text": [
      "../experiments_published/cnf_conditional_disentangle_cifar10_bs900_sratio_0_5_drop_0_5_rl_stdscale_6_run3/epoch_279_checkpt.pth\n"
     ]
    },
    {
     "name": "stderr",
     "output_type": "stream",
     "text": [
      "validating...\n"
     ]
    },
    {
     "name": "stdout",
     "output_type": "stream",
     "text": [
      "../experiments_published/cnf_conditional_disentangle_cifar10_bs900_sratio_0_5_drop_0_5_rl_stdscale_6_run3/epoch_280_checkpt.pth\n"
     ]
    },
    {
     "name": "stderr",
     "output_type": "stream",
     "text": [
      "validating...\n"
     ]
    },
    {
     "name": "stdout",
     "output_type": "stream",
     "text": [
      "../experiments_published/cnf_conditional_disentangle_cifar10_bs900_sratio_0_5_drop_0_5_rl_stdscale_6_run3/epoch_281_checkpt.pth\n"
     ]
    },
    {
     "name": "stderr",
     "output_type": "stream",
     "text": [
      "validating...\n"
     ]
    },
    {
     "name": "stdout",
     "output_type": "stream",
     "text": [
      "../experiments_published/cnf_conditional_disentangle_cifar10_bs900_sratio_0_5_drop_0_5_rl_stdscale_6_run3/epoch_282_checkpt.pth\n"
     ]
    },
    {
     "name": "stderr",
     "output_type": "stream",
     "text": [
      "validating...\n"
     ]
    },
    {
     "name": "stdout",
     "output_type": "stream",
     "text": [
      "../experiments_published/cnf_conditional_disentangle_cifar10_bs900_sratio_0_5_drop_0_5_rl_stdscale_6_run3/epoch_283_checkpt.pth\n"
     ]
    },
    {
     "name": "stderr",
     "output_type": "stream",
     "text": [
      "validating...\n"
     ]
    },
    {
     "name": "stdout",
     "output_type": "stream",
     "text": [
      "../experiments_published/cnf_conditional_disentangle_cifar10_bs900_sratio_0_5_drop_0_5_rl_stdscale_6_run3/epoch_284_checkpt.pth\n"
     ]
    },
    {
     "name": "stderr",
     "output_type": "stream",
     "text": [
      "validating...\n"
     ]
    },
    {
     "name": "stdout",
     "output_type": "stream",
     "text": [
      "../experiments_published/cnf_conditional_disentangle_cifar10_bs900_sratio_0_5_drop_0_5_rl_stdscale_6_run3/epoch_285_checkpt.pth\n"
     ]
    },
    {
     "name": "stderr",
     "output_type": "stream",
     "text": [
      "validating...\n"
     ]
    },
    {
     "name": "stdout",
     "output_type": "stream",
     "text": [
      "../experiments_published/cnf_conditional_disentangle_cifar10_bs900_sratio_0_5_drop_0_5_rl_stdscale_6_run3/epoch_286_checkpt.pth\n"
     ]
    },
    {
     "name": "stderr",
     "output_type": "stream",
     "text": [
      "validating...\n"
     ]
    },
    {
     "name": "stdout",
     "output_type": "stream",
     "text": [
      "../experiments_published/cnf_conditional_disentangle_cifar10_bs900_sratio_0_5_drop_0_5_rl_stdscale_6_run3/epoch_287_checkpt.pth\n"
     ]
    },
    {
     "name": "stderr",
     "output_type": "stream",
     "text": [
      "validating...\n"
     ]
    },
    {
     "name": "stdout",
     "output_type": "stream",
     "text": [
      "../experiments_published/cnf_conditional_disentangle_cifar10_bs900_sratio_0_5_drop_0_5_rl_stdscale_6_run3/epoch_288_checkpt.pth\n"
     ]
    },
    {
     "name": "stderr",
     "output_type": "stream",
     "text": [
      "validating...\n"
     ]
    },
    {
     "name": "stdout",
     "output_type": "stream",
     "text": [
      "../experiments_published/cnf_conditional_disentangle_cifar10_bs900_sratio_0_5_drop_0_5_rl_stdscale_6_run3/epoch_289_checkpt.pth\n"
     ]
    },
    {
     "name": "stderr",
     "output_type": "stream",
     "text": [
      "validating...\n"
     ]
    },
    {
     "name": "stdout",
     "output_type": "stream",
     "text": [
      "../experiments_published/cnf_conditional_disentangle_cifar10_bs900_sratio_0_5_drop_0_5_rl_stdscale_6_run3/epoch_290_checkpt.pth\n"
     ]
    },
    {
     "name": "stderr",
     "output_type": "stream",
     "text": [
      "validating...\n"
     ]
    },
    {
     "name": "stdout",
     "output_type": "stream",
     "text": [
      "../experiments_published/cnf_conditional_disentangle_cifar10_bs900_sratio_0_5_drop_0_5_rl_stdscale_6_run3/epoch_291_checkpt.pth\n"
     ]
    },
    {
     "name": "stderr",
     "output_type": "stream",
     "text": [
      "validating...\n"
     ]
    },
    {
     "name": "stdout",
     "output_type": "stream",
     "text": [
      "../experiments_published/cnf_conditional_disentangle_cifar10_bs900_sratio_0_5_drop_0_5_rl_stdscale_6_run3/epoch_292_checkpt.pth\n"
     ]
    },
    {
     "name": "stderr",
     "output_type": "stream",
     "text": [
      "validating...\n"
     ]
    },
    {
     "name": "stdout",
     "output_type": "stream",
     "text": [
      "../experiments_published/cnf_conditional_disentangle_cifar10_bs900_sratio_0_5_drop_0_5_rl_stdscale_6_run3/epoch_293_checkpt.pth\n"
     ]
    },
    {
     "name": "stderr",
     "output_type": "stream",
     "text": [
      "validating...\n"
     ]
    },
    {
     "name": "stdout",
     "output_type": "stream",
     "text": [
      "../experiments_published/cnf_conditional_disentangle_cifar10_bs900_sratio_0_5_drop_0_5_rl_stdscale_6_run3/epoch_294_checkpt.pth\n"
     ]
    },
    {
     "name": "stderr",
     "output_type": "stream",
     "text": [
      "validating...\n"
     ]
    },
    {
     "name": "stdout",
     "output_type": "stream",
     "text": [
      "../experiments_published/cnf_conditional_disentangle_cifar10_bs900_sratio_0_5_drop_0_5_rl_stdscale_6_run3/epoch_295_checkpt.pth\n"
     ]
    },
    {
     "name": "stderr",
     "output_type": "stream",
     "text": [
      "validating...\n"
     ]
    },
    {
     "name": "stdout",
     "output_type": "stream",
     "text": [
      "../experiments_published/cnf_conditional_disentangle_cifar10_bs900_sratio_0_5_drop_0_5_rl_stdscale_6_run3/epoch_296_checkpt.pth\n"
     ]
    },
    {
     "name": "stderr",
     "output_type": "stream",
     "text": [
      "validating...\n"
     ]
    },
    {
     "name": "stdout",
     "output_type": "stream",
     "text": [
      "../experiments_published/cnf_conditional_disentangle_cifar10_bs900_sratio_0_5_drop_0_5_rl_stdscale_6_run3/epoch_297_checkpt.pth\n"
     ]
    },
    {
     "name": "stderr",
     "output_type": "stream",
     "text": [
      "validating...\n"
     ]
    },
    {
     "name": "stdout",
     "output_type": "stream",
     "text": [
      "../experiments_published/cnf_conditional_disentangle_cifar10_bs900_sratio_0_5_drop_0_5_rl_stdscale_6_run3/epoch_298_checkpt.pth\n"
     ]
    },
    {
     "name": "stderr",
     "output_type": "stream",
     "text": [
      "validating...\n"
     ]
    },
    {
     "name": "stdout",
     "output_type": "stream",
     "text": [
      "../experiments_published/cnf_conditional_disentangle_cifar10_bs900_sratio_0_5_drop_0_5_rl_stdscale_6_run3/epoch_299_checkpt.pth\n"
     ]
    },
    {
     "name": "stderr",
     "output_type": "stream",
     "text": [
      "validating...\n"
     ]
    },
    {
     "name": "stdout",
     "output_type": "stream",
     "text": [
      "../experiments_published/cnf_conditional_disentangle_cifar10_bs900_sratio_0_5_drop_0_5_rl_stdscale_6_run3/epoch_300_checkpt.pth\n"
     ]
    },
    {
     "name": "stderr",
     "output_type": "stream",
     "text": [
      "validating...\n"
     ]
    },
    {
     "name": "stdout",
     "output_type": "stream",
     "text": [
      "../experiments_published/cnf_conditional_disentangle_cifar10_bs900_sratio_0_5_drop_0_5_rl_stdscale_6_run3/epoch_301_checkpt.pth\n"
     ]
    },
    {
     "name": "stderr",
     "output_type": "stream",
     "text": [
      "validating...\n"
     ]
    },
    {
     "name": "stdout",
     "output_type": "stream",
     "text": [
      "../experiments_published/cnf_conditional_disentangle_cifar10_bs900_sratio_0_5_drop_0_5_rl_stdscale_6_run3/epoch_302_checkpt.pth\n"
     ]
    },
    {
     "name": "stderr",
     "output_type": "stream",
     "text": [
      "validating...\n"
     ]
    },
    {
     "name": "stdout",
     "output_type": "stream",
     "text": [
      "../experiments_published/cnf_conditional_disentangle_cifar10_bs900_sratio_0_5_drop_0_5_rl_stdscale_6_run3/epoch_303_checkpt.pth\n"
     ]
    },
    {
     "name": "stderr",
     "output_type": "stream",
     "text": [
      "validating...\n"
     ]
    },
    {
     "name": "stdout",
     "output_type": "stream",
     "text": [
      "../experiments_published/cnf_conditional_disentangle_cifar10_bs900_sratio_0_5_drop_0_5_rl_stdscale_6_run3/epoch_304_checkpt.pth\n"
     ]
    },
    {
     "name": "stderr",
     "output_type": "stream",
     "text": [
      "validating...\n"
     ]
    },
    {
     "name": "stdout",
     "output_type": "stream",
     "text": [
      "../experiments_published/cnf_conditional_disentangle_cifar10_bs900_sratio_0_5_drop_0_5_rl_stdscale_6_run3/epoch_305_checkpt.pth\n"
     ]
    },
    {
     "name": "stderr",
     "output_type": "stream",
     "text": [
      "validating...\n"
     ]
    },
    {
     "name": "stdout",
     "output_type": "stream",
     "text": [
      "../experiments_published/cnf_conditional_disentangle_cifar10_bs900_sratio_0_5_drop_0_5_rl_stdscale_6_run3/epoch_306_checkpt.pth\n"
     ]
    },
    {
     "name": "stderr",
     "output_type": "stream",
     "text": [
      "validating...\n"
     ]
    },
    {
     "name": "stdout",
     "output_type": "stream",
     "text": [
      "../experiments_published/cnf_conditional_disentangle_cifar10_bs900_sratio_0_5_drop_0_5_rl_stdscale_6_run3/epoch_307_checkpt.pth\n"
     ]
    },
    {
     "name": "stderr",
     "output_type": "stream",
     "text": [
      "validating...\n"
     ]
    },
    {
     "name": "stdout",
     "output_type": "stream",
     "text": [
      "../experiments_published/cnf_conditional_disentangle_cifar10_bs900_sratio_0_5_drop_0_5_rl_stdscale_6_run3/epoch_308_checkpt.pth\n"
     ]
    },
    {
     "name": "stderr",
     "output_type": "stream",
     "text": [
      "validating...\n"
     ]
    },
    {
     "name": "stdout",
     "output_type": "stream",
     "text": [
      "../experiments_published/cnf_conditional_disentangle_cifar10_bs900_sratio_0_5_drop_0_5_rl_stdscale_6_run3/epoch_309_checkpt.pth\n"
     ]
    },
    {
     "name": "stderr",
     "output_type": "stream",
     "text": [
      "validating...\n"
     ]
    },
    {
     "name": "stdout",
     "output_type": "stream",
     "text": [
      "../experiments_published/cnf_conditional_disentangle_cifar10_bs900_sratio_0_5_drop_0_5_rl_stdscale_6_run3/epoch_310_checkpt.pth\n"
     ]
    },
    {
     "name": "stderr",
     "output_type": "stream",
     "text": [
      "validating...\n"
     ]
    },
    {
     "name": "stdout",
     "output_type": "stream",
     "text": [
      "../experiments_published/cnf_conditional_disentangle_cifar10_bs900_sratio_0_5_drop_0_5_rl_stdscale_6_run3/epoch_311_checkpt.pth\n"
     ]
    },
    {
     "name": "stderr",
     "output_type": "stream",
     "text": [
      "validating...\n"
     ]
    },
    {
     "name": "stdout",
     "output_type": "stream",
     "text": [
      "../experiments_published/cnf_conditional_disentangle_cifar10_bs900_sratio_0_5_drop_0_5_rl_stdscale_6_run3/epoch_312_checkpt.pth\n"
     ]
    },
    {
     "name": "stderr",
     "output_type": "stream",
     "text": [
      "validating...\n"
     ]
    },
    {
     "name": "stdout",
     "output_type": "stream",
     "text": [
      "../experiments_published/cnf_conditional_disentangle_cifar10_bs900_sratio_0_5_drop_0_5_rl_stdscale_6_run3/epoch_313_checkpt.pth\n"
     ]
    },
    {
     "name": "stderr",
     "output_type": "stream",
     "text": [
      "validating...\n"
     ]
    },
    {
     "name": "stdout",
     "output_type": "stream",
     "text": [
      "../experiments_published/cnf_conditional_disentangle_cifar10_bs900_sratio_0_5_drop_0_5_rl_stdscale_6_run3/epoch_314_checkpt.pth\n"
     ]
    },
    {
     "name": "stderr",
     "output_type": "stream",
     "text": [
      "validating...\n"
     ]
    },
    {
     "name": "stdout",
     "output_type": "stream",
     "text": [
      "../experiments_published/cnf_conditional_disentangle_cifar10_bs900_sratio_0_5_drop_0_5_rl_stdscale_6_run3/epoch_315_checkpt.pth\n"
     ]
    },
    {
     "name": "stderr",
     "output_type": "stream",
     "text": [
      "validating...\n"
     ]
    },
    {
     "name": "stdout",
     "output_type": "stream",
     "text": [
      "../experiments_published/cnf_conditional_disentangle_cifar10_bs900_sratio_0_5_drop_0_5_rl_stdscale_6_run3/epoch_316_checkpt.pth\n"
     ]
    },
    {
     "name": "stderr",
     "output_type": "stream",
     "text": [
      "validating...\n"
     ]
    },
    {
     "name": "stdout",
     "output_type": "stream",
     "text": [
      "../experiments_published/cnf_conditional_disentangle_cifar10_bs900_sratio_0_5_drop_0_5_rl_stdscale_6_run3/epoch_317_checkpt.pth\n"
     ]
    },
    {
     "name": "stderr",
     "output_type": "stream",
     "text": [
      "validating...\n"
     ]
    },
    {
     "name": "stdout",
     "output_type": "stream",
     "text": [
      "../experiments_published/cnf_conditional_disentangle_cifar10_bs900_sratio_0_5_drop_0_5_rl_stdscale_6_run3/epoch_318_checkpt.pth\n"
     ]
    },
    {
     "name": "stderr",
     "output_type": "stream",
     "text": [
      "validating...\n"
     ]
    },
    {
     "name": "stdout",
     "output_type": "stream",
     "text": [
      "../experiments_published/cnf_conditional_disentangle_cifar10_bs900_sratio_0_5_drop_0_5_rl_stdscale_6_run3/epoch_319_checkpt.pth\n"
     ]
    },
    {
     "name": "stderr",
     "output_type": "stream",
     "text": [
      "validating...\n"
     ]
    },
    {
     "name": "stdout",
     "output_type": "stream",
     "text": [
      "../experiments_published/cnf_conditional_disentangle_cifar10_bs900_sratio_0_5_drop_0_5_rl_stdscale_6_run3/epoch_320_checkpt.pth\n"
     ]
    },
    {
     "name": "stderr",
     "output_type": "stream",
     "text": [
      "validating...\n"
     ]
    },
    {
     "name": "stdout",
     "output_type": "stream",
     "text": [
      "../experiments_published/cnf_conditional_disentangle_cifar10_bs900_sratio_0_5_drop_0_5_rl_stdscale_6_run3/epoch_321_checkpt.pth\n"
     ]
    },
    {
     "name": "stderr",
     "output_type": "stream",
     "text": [
      "validating...\n"
     ]
    },
    {
     "name": "stdout",
     "output_type": "stream",
     "text": [
      "../experiments_published/cnf_conditional_disentangle_cifar10_bs900_sratio_0_5_drop_0_5_rl_stdscale_6_run3/epoch_322_checkpt.pth\n"
     ]
    },
    {
     "name": "stderr",
     "output_type": "stream",
     "text": [
      "validating...\n"
     ]
    },
    {
     "name": "stdout",
     "output_type": "stream",
     "text": [
      "../experiments_published/cnf_conditional_disentangle_cifar10_bs900_sratio_0_5_drop_0_5_rl_stdscale_6_run3/epoch_323_checkpt.pth\n"
     ]
    },
    {
     "name": "stderr",
     "output_type": "stream",
     "text": [
      "validating...\n"
     ]
    },
    {
     "name": "stdout",
     "output_type": "stream",
     "text": [
      "../experiments_published/cnf_conditional_disentangle_cifar10_bs900_sratio_0_5_drop_0_5_rl_stdscale_6_run3/epoch_324_checkpt.pth\n"
     ]
    },
    {
     "name": "stderr",
     "output_type": "stream",
     "text": [
      "validating...\n"
     ]
    },
    {
     "name": "stdout",
     "output_type": "stream",
     "text": [
      "../experiments_published/cnf_conditional_disentangle_cifar10_bs900_sratio_0_5_drop_0_5_rl_stdscale_6_run3/epoch_325_checkpt.pth\n"
     ]
    },
    {
     "name": "stderr",
     "output_type": "stream",
     "text": [
      "validating...\n"
     ]
    },
    {
     "name": "stdout",
     "output_type": "stream",
     "text": [
      "../experiments_published/cnf_conditional_disentangle_cifar10_bs900_sratio_0_5_drop_0_5_rl_stdscale_6_run3/epoch_326_checkpt.pth\n"
     ]
    },
    {
     "name": "stderr",
     "output_type": "stream",
     "text": [
      "validating...\n"
     ]
    },
    {
     "name": "stdout",
     "output_type": "stream",
     "text": [
      "../experiments_published/cnf_conditional_disentangle_cifar10_bs900_sratio_0_5_drop_0_5_rl_stdscale_6_run3/epoch_327_checkpt.pth\n"
     ]
    },
    {
     "name": "stderr",
     "output_type": "stream",
     "text": [
      "validating...\n"
     ]
    },
    {
     "name": "stdout",
     "output_type": "stream",
     "text": [
      "../experiments_published/cnf_conditional_disentangle_cifar10_bs900_sratio_0_5_drop_0_5_rl_stdscale_6_run3/epoch_329_checkpt.pth\n"
     ]
    },
    {
     "name": "stderr",
     "output_type": "stream",
     "text": [
      "validating...\n"
     ]
    },
    {
     "name": "stdout",
     "output_type": "stream",
     "text": [
      "../experiments_published/cnf_conditional_disentangle_cifar10_bs900_sratio_0_5_drop_0_5_rl_stdscale_6_run3/epoch_330_checkpt.pth\n"
     ]
    },
    {
     "name": "stderr",
     "output_type": "stream",
     "text": [
      "validating...\n"
     ]
    },
    {
     "name": "stdout",
     "output_type": "stream",
     "text": [
      "../experiments_published/cnf_conditional_disentangle_cifar10_bs900_sratio_0_5_drop_0_5_rl_stdscale_6_run3/epoch_331_checkpt.pth\n"
     ]
    },
    {
     "name": "stderr",
     "output_type": "stream",
     "text": [
      "validating...\n"
     ]
    },
    {
     "name": "stdout",
     "output_type": "stream",
     "text": [
      "../experiments_published/cnf_conditional_disentangle_cifar10_bs900_sratio_0_5_drop_0_5_rl_stdscale_6_run3/epoch_332_checkpt.pth\n"
     ]
    },
    {
     "name": "stderr",
     "output_type": "stream",
     "text": [
      "validating...\n"
     ]
    },
    {
     "name": "stdout",
     "output_type": "stream",
     "text": [
      "../experiments_published/cnf_conditional_disentangle_cifar10_bs900_sratio_0_5_drop_0_5_rl_stdscale_6_run3/epoch_333_checkpt.pth\n"
     ]
    },
    {
     "name": "stderr",
     "output_type": "stream",
     "text": [
      "validating...\n"
     ]
    },
    {
     "name": "stdout",
     "output_type": "stream",
     "text": [
      "../experiments_published/cnf_conditional_disentangle_cifar10_bs900_sratio_0_5_drop_0_5_rl_stdscale_6_run3/epoch_334_checkpt.pth\n"
     ]
    },
    {
     "name": "stderr",
     "output_type": "stream",
     "text": [
      "validating...\n"
     ]
    },
    {
     "name": "stdout",
     "output_type": "stream",
     "text": [
      "../experiments_published/cnf_conditional_disentangle_cifar10_bs900_sratio_0_5_drop_0_5_rl_stdscale_6_run3/epoch_335_checkpt.pth\n"
     ]
    },
    {
     "name": "stderr",
     "output_type": "stream",
     "text": [
      "validating...\n"
     ]
    },
    {
     "name": "stdout",
     "output_type": "stream",
     "text": [
      "../experiments_published/cnf_conditional_disentangle_cifar10_bs900_sratio_0_5_drop_0_5_rl_stdscale_6_run3/epoch_336_checkpt.pth\n"
     ]
    },
    {
     "name": "stderr",
     "output_type": "stream",
     "text": [
      "validating...\n"
     ]
    },
    {
     "name": "stdout",
     "output_type": "stream",
     "text": [
      "../experiments_published/cnf_conditional_disentangle_cifar10_bs900_sratio_0_5_drop_0_5_rl_stdscale_6_run3/epoch_337_checkpt.pth\n"
     ]
    },
    {
     "name": "stderr",
     "output_type": "stream",
     "text": [
      "validating...\n"
     ]
    },
    {
     "name": "stdout",
     "output_type": "stream",
     "text": [
      "../experiments_published/cnf_conditional_disentangle_cifar10_bs900_sratio_0_5_drop_0_5_rl_stdscale_6_run3/epoch_338_checkpt.pth\n"
     ]
    },
    {
     "name": "stderr",
     "output_type": "stream",
     "text": [
      "validating...\n"
     ]
    },
    {
     "name": "stdout",
     "output_type": "stream",
     "text": [
      "../experiments_published/cnf_conditional_disentangle_cifar10_bs900_sratio_0_5_drop_0_5_rl_stdscale_6_run3/epoch_339_checkpt.pth\n"
     ]
    },
    {
     "name": "stderr",
     "output_type": "stream",
     "text": [
      "validating...\n"
     ]
    },
    {
     "name": "stdout",
     "output_type": "stream",
     "text": [
      "../experiments_published/cnf_conditional_disentangle_cifar10_bs900_sratio_0_5_drop_0_5_rl_stdscale_6_run3/epoch_340_checkpt.pth\n"
     ]
    },
    {
     "name": "stderr",
     "output_type": "stream",
     "text": [
      "validating...\n"
     ]
    },
    {
     "name": "stdout",
     "output_type": "stream",
     "text": [
      "../experiments_published/cnf_conditional_disentangle_cifar10_bs900_sratio_0_5_drop_0_5_rl_stdscale_6_run3/epoch_341_checkpt.pth\n"
     ]
    },
    {
     "name": "stderr",
     "output_type": "stream",
     "text": [
      "validating...\n"
     ]
    },
    {
     "name": "stdout",
     "output_type": "stream",
     "text": [
      "../experiments_published/cnf_conditional_disentangle_cifar10_bs900_sratio_0_5_drop_0_5_rl_stdscale_6_run3/epoch_342_checkpt.pth\n"
     ]
    },
    {
     "name": "stderr",
     "output_type": "stream",
     "text": [
      "validating...\n"
     ]
    },
    {
     "name": "stdout",
     "output_type": "stream",
     "text": [
      "../experiments_published/cnf_conditional_disentangle_cifar10_bs900_sratio_0_5_drop_0_5_rl_stdscale_6_run3/epoch_343_checkpt.pth\n"
     ]
    },
    {
     "name": "stderr",
     "output_type": "stream",
     "text": [
      "validating...\n"
     ]
    },
    {
     "name": "stdout",
     "output_type": "stream",
     "text": [
      "../experiments_published/cnf_conditional_disentangle_cifar10_bs900_sratio_0_5_drop_0_5_rl_stdscale_6_run3/epoch_344_checkpt.pth\n"
     ]
    },
    {
     "name": "stderr",
     "output_type": "stream",
     "text": [
      "validating...\n"
     ]
    },
    {
     "name": "stdout",
     "output_type": "stream",
     "text": [
      "../experiments_published/cnf_conditional_disentangle_cifar10_bs900_sratio_0_5_drop_0_5_rl_stdscale_6_run3/epoch_345_checkpt.pth\n"
     ]
    },
    {
     "name": "stderr",
     "output_type": "stream",
     "text": [
      "validating...\n"
     ]
    },
    {
     "name": "stdout",
     "output_type": "stream",
     "text": [
      "../experiments_published/cnf_conditional_disentangle_cifar10_bs900_sratio_0_5_drop_0_5_rl_stdscale_6_run3/epoch_346_checkpt.pth\n"
     ]
    },
    {
     "name": "stderr",
     "output_type": "stream",
     "text": [
      "validating...\n"
     ]
    },
    {
     "name": "stdout",
     "output_type": "stream",
     "text": [
      "../experiments_published/cnf_conditional_disentangle_cifar10_bs900_sratio_0_5_drop_0_5_rl_stdscale_6_run3/epoch_347_checkpt.pth\n"
     ]
    },
    {
     "name": "stderr",
     "output_type": "stream",
     "text": [
      "validating...\n"
     ]
    },
    {
     "name": "stdout",
     "output_type": "stream",
     "text": [
      "../experiments_published/cnf_conditional_disentangle_cifar10_bs900_sratio_0_5_drop_0_5_rl_stdscale_6_run3/epoch_348_checkpt.pth\n"
     ]
    },
    {
     "name": "stderr",
     "output_type": "stream",
     "text": [
      "validating...\n"
     ]
    },
    {
     "name": "stdout",
     "output_type": "stream",
     "text": [
      "../experiments_published/cnf_conditional_disentangle_cifar10_bs900_sratio_0_5_drop_0_5_rl_stdscale_6_run3/epoch_349_checkpt.pth\n"
     ]
    },
    {
     "name": "stderr",
     "output_type": "stream",
     "text": [
      "validating...\n"
     ]
    },
    {
     "name": "stdout",
     "output_type": "stream",
     "text": [
      "../experiments_published/cnf_conditional_disentangle_cifar10_bs900_sratio_0_5_drop_0_5_rl_stdscale_6_run3/epoch_350_checkpt.pth\n"
     ]
    },
    {
     "name": "stderr",
     "output_type": "stream",
     "text": [
      "validating...\n"
     ]
    },
    {
     "name": "stdout",
     "output_type": "stream",
     "text": [
      "../experiments_published/cnf_conditional_disentangle_cifar10_bs900_sratio_0_5_drop_0_5_rl_stdscale_6_run3/epoch_351_checkpt.pth\n"
     ]
    },
    {
     "name": "stderr",
     "output_type": "stream",
     "text": [
      "validating...\n"
     ]
    },
    {
     "name": "stdout",
     "output_type": "stream",
     "text": [
      "../experiments_published/cnf_conditional_disentangle_cifar10_bs900_sratio_0_5_drop_0_5_rl_stdscale_6_run3/epoch_352_checkpt.pth\n"
     ]
    },
    {
     "name": "stderr",
     "output_type": "stream",
     "text": [
      "validating...\n"
     ]
    },
    {
     "name": "stdout",
     "output_type": "stream",
     "text": [
      "../experiments_published/cnf_conditional_disentangle_cifar10_bs900_sratio_0_5_drop_0_5_rl_stdscale_6_run3/epoch_353_checkpt.pth\n"
     ]
    },
    {
     "name": "stderr",
     "output_type": "stream",
     "text": [
      "validating...\n"
     ]
    },
    {
     "name": "stdout",
     "output_type": "stream",
     "text": [
      "../experiments_published/cnf_conditional_disentangle_cifar10_bs900_sratio_0_5_drop_0_5_rl_stdscale_6_run3/epoch_354_checkpt.pth\n"
     ]
    },
    {
     "name": "stderr",
     "output_type": "stream",
     "text": [
      "validating...\n"
     ]
    },
    {
     "name": "stdout",
     "output_type": "stream",
     "text": [
      "../experiments_published/cnf_conditional_disentangle_cifar10_bs900_sratio_0_5_drop_0_5_rl_stdscale_6_run3/epoch_355_checkpt.pth\n"
     ]
    },
    {
     "name": "stderr",
     "output_type": "stream",
     "text": [
      "validating...\n"
     ]
    },
    {
     "name": "stdout",
     "output_type": "stream",
     "text": [
      "../experiments_published/cnf_conditional_disentangle_cifar10_bs900_sratio_0_5_drop_0_5_rl_stdscale_6_run3/epoch_356_checkpt.pth\n"
     ]
    },
    {
     "name": "stderr",
     "output_type": "stream",
     "text": [
      "validating...\n"
     ]
    },
    {
     "name": "stdout",
     "output_type": "stream",
     "text": [
      "../experiments_published/cnf_conditional_disentangle_cifar10_bs900_sratio_0_5_drop_0_5_rl_stdscale_6_run3/epoch_357_checkpt.pth\n"
     ]
    },
    {
     "name": "stderr",
     "output_type": "stream",
     "text": [
      "validating...\n"
     ]
    },
    {
     "name": "stdout",
     "output_type": "stream",
     "text": [
      "../experiments_published/cnf_conditional_disentangle_cifar10_bs900_sratio_0_5_drop_0_5_rl_stdscale_6_run3/epoch_358_checkpt.pth\n"
     ]
    },
    {
     "name": "stderr",
     "output_type": "stream",
     "text": [
      "validating...\n"
     ]
    },
    {
     "name": "stdout",
     "output_type": "stream",
     "text": [
      "../experiments_published/cnf_conditional_disentangle_cifar10_bs900_sratio_0_5_drop_0_5_rl_stdscale_6_run3/epoch_359_checkpt.pth\n"
     ]
    },
    {
     "name": "stderr",
     "output_type": "stream",
     "text": [
      "validating...\n"
     ]
    },
    {
     "name": "stdout",
     "output_type": "stream",
     "text": [
      "../experiments_published/cnf_conditional_disentangle_cifar10_bs900_sratio_0_5_drop_0_5_rl_stdscale_6_run3/epoch_360_checkpt.pth\n"
     ]
    },
    {
     "name": "stderr",
     "output_type": "stream",
     "text": [
      "validating...\n"
     ]
    },
    {
     "name": "stdout",
     "output_type": "stream",
     "text": [
      "../experiments_published/cnf_conditional_disentangle_cifar10_bs900_sratio_0_5_drop_0_5_rl_stdscale_6_run3/epoch_361_checkpt.pth\n"
     ]
    },
    {
     "name": "stderr",
     "output_type": "stream",
     "text": [
      "validating...\n"
     ]
    },
    {
     "name": "stdout",
     "output_type": "stream",
     "text": [
      "../experiments_published/cnf_conditional_disentangle_cifar10_bs900_sratio_0_5_drop_0_5_rl_stdscale_6_run3/epoch_362_checkpt.pth\n"
     ]
    },
    {
     "name": "stderr",
     "output_type": "stream",
     "text": [
      "validating...\n"
     ]
    },
    {
     "name": "stdout",
     "output_type": "stream",
     "text": [
      "../experiments_published/cnf_conditional_disentangle_cifar10_bs900_sratio_0_5_drop_0_5_rl_stdscale_6_run3/epoch_363_checkpt.pth\n"
     ]
    },
    {
     "name": "stderr",
     "output_type": "stream",
     "text": [
      "validating...\n"
     ]
    },
    {
     "name": "stdout",
     "output_type": "stream",
     "text": [
      "../experiments_published/cnf_conditional_disentangle_cifar10_bs900_sratio_0_5_drop_0_5_rl_stdscale_6_run3/epoch_364_checkpt.pth\n"
     ]
    },
    {
     "name": "stderr",
     "output_type": "stream",
     "text": [
      "validating...\n"
     ]
    },
    {
     "name": "stdout",
     "output_type": "stream",
     "text": [
      "../experiments_published/cnf_conditional_disentangle_cifar10_bs900_sratio_0_5_drop_0_5_rl_stdscale_6_run3/epoch_365_checkpt.pth\n"
     ]
    },
    {
     "name": "stderr",
     "output_type": "stream",
     "text": [
      "validating...\n"
     ]
    },
    {
     "name": "stdout",
     "output_type": "stream",
     "text": [
      "../experiments_published/cnf_conditional_disentangle_cifar10_bs900_sratio_0_5_drop_0_5_rl_stdscale_6_run3/epoch_366_checkpt.pth\n"
     ]
    },
    {
     "name": "stderr",
     "output_type": "stream",
     "text": [
      "validating...\n"
     ]
    },
    {
     "name": "stdout",
     "output_type": "stream",
     "text": [
      "../experiments_published/cnf_conditional_disentangle_cifar10_bs900_sratio_0_5_drop_0_5_rl_stdscale_6_run3/epoch_367_checkpt.pth\n"
     ]
    },
    {
     "name": "stderr",
     "output_type": "stream",
     "text": [
      "validating...\n"
     ]
    },
    {
     "name": "stdout",
     "output_type": "stream",
     "text": [
      "../experiments_published/cnf_conditional_disentangle_cifar10_bs900_sratio_0_5_drop_0_5_rl_stdscale_6_run3/epoch_368_checkpt.pth\n"
     ]
    },
    {
     "name": "stderr",
     "output_type": "stream",
     "text": [
      "validating...\n"
     ]
    },
    {
     "name": "stdout",
     "output_type": "stream",
     "text": [
      "../experiments_published/cnf_conditional_disentangle_cifar10_bs900_sratio_0_5_drop_0_5_rl_stdscale_6_run3/epoch_369_checkpt.pth\n"
     ]
    },
    {
     "name": "stderr",
     "output_type": "stream",
     "text": [
      "validating...\n"
     ]
    },
    {
     "name": "stdout",
     "output_type": "stream",
     "text": [
      "../experiments_published/cnf_conditional_disentangle_cifar10_bs900_sratio_0_5_drop_0_5_rl_stdscale_6_run3/epoch_370_checkpt.pth\n"
     ]
    },
    {
     "name": "stderr",
     "output_type": "stream",
     "text": [
      "validating...\n"
     ]
    },
    {
     "name": "stdout",
     "output_type": "stream",
     "text": [
      "../experiments_published/cnf_conditional_disentangle_cifar10_bs900_sratio_0_5_drop_0_5_rl_stdscale_6_run3/epoch_371_checkpt.pth\n"
     ]
    },
    {
     "name": "stderr",
     "output_type": "stream",
     "text": [
      "validating...\n"
     ]
    },
    {
     "name": "stdout",
     "output_type": "stream",
     "text": [
      "../experiments_published/cnf_conditional_disentangle_cifar10_bs900_sratio_0_5_drop_0_5_rl_stdscale_6_run3/epoch_372_checkpt.pth\n"
     ]
    },
    {
     "name": "stderr",
     "output_type": "stream",
     "text": [
      "validating...\n"
     ]
    },
    {
     "name": "stdout",
     "output_type": "stream",
     "text": [
      "../experiments_published/cnf_conditional_disentangle_cifar10_bs900_sratio_0_5_drop_0_5_rl_stdscale_6_run3/epoch_373_checkpt.pth\n"
     ]
    },
    {
     "name": "stderr",
     "output_type": "stream",
     "text": [
      "validating...\n"
     ]
    },
    {
     "name": "stdout",
     "output_type": "stream",
     "text": [
      "../experiments_published/cnf_conditional_disentangle_cifar10_bs900_sratio_0_5_drop_0_5_rl_stdscale_6_run3/epoch_374_checkpt.pth\n"
     ]
    },
    {
     "name": "stderr",
     "output_type": "stream",
     "text": [
      "validating...\n"
     ]
    },
    {
     "name": "stdout",
     "output_type": "stream",
     "text": [
      "../experiments_published/cnf_conditional_disentangle_cifar10_bs900_sratio_0_5_drop_0_5_rl_stdscale_6_run3/epoch_375_checkpt.pth\n"
     ]
    },
    {
     "name": "stderr",
     "output_type": "stream",
     "text": [
      "validating...\n"
     ]
    },
    {
     "name": "stdout",
     "output_type": "stream",
     "text": [
      "../experiments_published/cnf_conditional_disentangle_cifar10_bs900_sratio_0_5_drop_0_5_rl_stdscale_6_run3/epoch_376_checkpt.pth\n"
     ]
    },
    {
     "name": "stderr",
     "output_type": "stream",
     "text": [
      "validating...\n"
     ]
    },
    {
     "name": "stdout",
     "output_type": "stream",
     "text": [
      "../experiments_published/cnf_conditional_disentangle_cifar10_bs900_sratio_0_5_drop_0_5_rl_stdscale_6_run3/epoch_377_checkpt.pth\n"
     ]
    },
    {
     "name": "stderr",
     "output_type": "stream",
     "text": [
      "validating...\n"
     ]
    },
    {
     "name": "stdout",
     "output_type": "stream",
     "text": [
      "../experiments_published/cnf_conditional_disentangle_cifar10_bs900_sratio_0_5_drop_0_5_rl_stdscale_6_run3/epoch_378_checkpt.pth\n"
     ]
    },
    {
     "name": "stderr",
     "output_type": "stream",
     "text": [
      "validating...\n"
     ]
    },
    {
     "name": "stdout",
     "output_type": "stream",
     "text": [
      "../experiments_published/cnf_conditional_disentangle_cifar10_bs900_sratio_0_5_drop_0_5_rl_stdscale_6_run3/epoch_379_checkpt.pth\n"
     ]
    },
    {
     "name": "stderr",
     "output_type": "stream",
     "text": [
      "validating...\n"
     ]
    },
    {
     "name": "stdout",
     "output_type": "stream",
     "text": [
      "../experiments_published/cnf_conditional_disentangle_cifar10_bs900_sratio_0_5_drop_0_5_rl_stdscale_6_run3/epoch_380_checkpt.pth\n"
     ]
    },
    {
     "name": "stderr",
     "output_type": "stream",
     "text": [
      "validating...\n"
     ]
    },
    {
     "name": "stdout",
     "output_type": "stream",
     "text": [
      "../experiments_published/cnf_conditional_disentangle_cifar10_bs900_sratio_0_5_drop_0_5_rl_stdscale_6_run3/epoch_381_checkpt.pth\n"
     ]
    },
    {
     "name": "stderr",
     "output_type": "stream",
     "text": [
      "validating...\n"
     ]
    },
    {
     "name": "stdout",
     "output_type": "stream",
     "text": [
      "../experiments_published/cnf_conditional_disentangle_cifar10_bs900_sratio_0_5_drop_0_5_rl_stdscale_6_run3/epoch_382_checkpt.pth\n"
     ]
    },
    {
     "name": "stderr",
     "output_type": "stream",
     "text": [
      "validating...\n"
     ]
    },
    {
     "name": "stdout",
     "output_type": "stream",
     "text": [
      "../experiments_published/cnf_conditional_disentangle_cifar10_bs900_sratio_0_5_drop_0_5_rl_stdscale_6_run3/epoch_383_checkpt.pth\n"
     ]
    },
    {
     "name": "stderr",
     "output_type": "stream",
     "text": [
      "validating...\n"
     ]
    },
    {
     "name": "stdout",
     "output_type": "stream",
     "text": [
      "../experiments_published/cnf_conditional_disentangle_cifar10_bs900_sratio_0_5_drop_0_5_rl_stdscale_6_run3/epoch_384_checkpt.pth\n"
     ]
    },
    {
     "name": "stderr",
     "output_type": "stream",
     "text": [
      "validating...\n"
     ]
    },
    {
     "name": "stdout",
     "output_type": "stream",
     "text": [
      "../experiments_published/cnf_conditional_disentangle_cifar10_bs900_sratio_0_5_drop_0_5_rl_stdscale_6_run3/epoch_385_checkpt.pth\n"
     ]
    },
    {
     "name": "stderr",
     "output_type": "stream",
     "text": [
      "validating...\n"
     ]
    },
    {
     "name": "stdout",
     "output_type": "stream",
     "text": [
      "../experiments_published/cnf_conditional_disentangle_cifar10_bs900_sratio_0_5_drop_0_5_rl_stdscale_6_run3/epoch_386_checkpt.pth\n"
     ]
    },
    {
     "name": "stderr",
     "output_type": "stream",
     "text": [
      "validating...\n"
     ]
    },
    {
     "name": "stdout",
     "output_type": "stream",
     "text": [
      "../experiments_published/cnf_conditional_disentangle_cifar10_bs900_sratio_0_5_drop_0_5_rl_stdscale_6_run3/epoch_387_checkpt.pth\n"
     ]
    },
    {
     "name": "stderr",
     "output_type": "stream",
     "text": [
      "validating...\n"
     ]
    },
    {
     "name": "stdout",
     "output_type": "stream",
     "text": [
      "../experiments_published/cnf_conditional_disentangle_cifar10_bs900_sratio_0_5_drop_0_5_rl_stdscale_6_run3/epoch_388_checkpt.pth\n"
     ]
    },
    {
     "name": "stderr",
     "output_type": "stream",
     "text": [
      "validating...\n"
     ]
    },
    {
     "name": "stdout",
     "output_type": "stream",
     "text": [
      "../experiments_published/cnf_conditional_disentangle_cifar10_bs900_sratio_0_5_drop_0_5_rl_stdscale_6_run3/epoch_389_checkpt.pth\n"
     ]
    },
    {
     "name": "stderr",
     "output_type": "stream",
     "text": [
      "validating...\n"
     ]
    },
    {
     "name": "stdout",
     "output_type": "stream",
     "text": [
      "../experiments_published/cnf_conditional_disentangle_cifar10_bs900_sratio_0_5_drop_0_5_rl_stdscale_6_run3/epoch_390_checkpt.pth\n"
     ]
    },
    {
     "name": "stderr",
     "output_type": "stream",
     "text": [
      "validating...\n"
     ]
    },
    {
     "name": "stdout",
     "output_type": "stream",
     "text": [
      "../experiments_published/cnf_conditional_disentangle_cifar10_bs900_sratio_0_5_drop_0_5_rl_stdscale_6_run3/epoch_391_checkpt.pth\n"
     ]
    },
    {
     "name": "stderr",
     "output_type": "stream",
     "text": [
      "validating...\n"
     ]
    },
    {
     "name": "stdout",
     "output_type": "stream",
     "text": [
      "../experiments_published/cnf_conditional_disentangle_cifar10_bs900_sratio_0_5_drop_0_5_rl_stdscale_6_run3/epoch_392_checkpt.pth\n"
     ]
    },
    {
     "name": "stderr",
     "output_type": "stream",
     "text": [
      "validating...\n"
     ]
    },
    {
     "name": "stdout",
     "output_type": "stream",
     "text": [
      "../experiments_published/cnf_conditional_disentangle_cifar10_bs900_sratio_0_5_drop_0_5_rl_stdscale_6_run3/epoch_393_checkpt.pth\n"
     ]
    },
    {
     "name": "stderr",
     "output_type": "stream",
     "text": [
      "validating...\n"
     ]
    },
    {
     "name": "stdout",
     "output_type": "stream",
     "text": [
      "../experiments_published/cnf_conditional_disentangle_cifar10_bs900_sratio_0_5_drop_0_5_rl_stdscale_6_run3/epoch_394_checkpt.pth\n"
     ]
    },
    {
     "name": "stderr",
     "output_type": "stream",
     "text": [
      "validating...\n"
     ]
    },
    {
     "name": "stdout",
     "output_type": "stream",
     "text": [
      "../experiments_published/cnf_conditional_disentangle_cifar10_bs900_sratio_0_5_drop_0_5_rl_stdscale_6_run3/epoch_395_checkpt.pth\n"
     ]
    },
    {
     "name": "stderr",
     "output_type": "stream",
     "text": [
      "validating...\n"
     ]
    },
    {
     "name": "stdout",
     "output_type": "stream",
     "text": [
      "../experiments_published/cnf_conditional_disentangle_cifar10_bs900_sratio_0_5_drop_0_5_rl_stdscale_6_run3/epoch_396_checkpt.pth\n"
     ]
    },
    {
     "name": "stderr",
     "output_type": "stream",
     "text": [
      "validating...\n"
     ]
    },
    {
     "name": "stdout",
     "output_type": "stream",
     "text": [
      "../experiments_published/cnf_conditional_disentangle_cifar10_bs900_sratio_0_5_drop_0_5_rl_stdscale_6_run3/epoch_397_checkpt.pth\n"
     ]
    },
    {
     "name": "stderr",
     "output_type": "stream",
     "text": [
      "validating...\n"
     ]
    },
    {
     "name": "stdout",
     "output_type": "stream",
     "text": [
      "../experiments_published/cnf_conditional_disentangle_cifar10_bs900_sratio_0_5_drop_0_5_rl_stdscale_6_run3/epoch_398_checkpt.pth\n"
     ]
    },
    {
     "name": "stderr",
     "output_type": "stream",
     "text": [
      "validating...\n"
     ]
    },
    {
     "name": "stdout",
     "output_type": "stream",
     "text": [
      "../experiments_published/cnf_conditional_disentangle_cifar10_bs900_sratio_0_5_drop_0_5_rl_stdscale_6_run3/epoch_399_checkpt.pth\n"
     ]
    },
    {
     "name": "stderr",
     "output_type": "stream",
     "text": [
      "validating...\n"
     ]
    },
    {
     "name": "stdout",
     "output_type": "stream",
     "text": [
      "../experiments_published/cnf_conditional_disentangle_cifar10_bs900_sratio_0_5_drop_0_5_rl_stdscale_6_run3/epoch_400_checkpt.pth\n"
     ]
    },
    {
     "name": "stderr",
     "output_type": "stream",
     "text": [
      "validating...\n"
     ]
    },
    {
     "name": "stdout",
     "output_type": "stream",
     "text": [
      "../experiments_published/cnf_conditional_disentangle_cifar10_bs900_sratio_0_5_drop_0_5_rl_stdscale_6_run3/epoch_401_checkpt.pth\n"
     ]
    },
    {
     "name": "stderr",
     "output_type": "stream",
     "text": [
      "validating...\n"
     ]
    },
    {
     "name": "stdout",
     "output_type": "stream",
     "text": [
      "../experiments_published/cnf_conditional_disentangle_cifar10_bs900_sratio_0_5_drop_0_5_rl_stdscale_6_run3/epoch_402_checkpt.pth\n"
     ]
    },
    {
     "name": "stderr",
     "output_type": "stream",
     "text": [
      "validating...\n"
     ]
    },
    {
     "name": "stdout",
     "output_type": "stream",
     "text": [
      "../experiments_published/cnf_conditional_disentangle_cifar10_bs900_sratio_0_5_drop_0_5_rl_stdscale_6_run3/epoch_403_checkpt.pth\n"
     ]
    },
    {
     "name": "stderr",
     "output_type": "stream",
     "text": [
      "validating...\n"
     ]
    },
    {
     "name": "stdout",
     "output_type": "stream",
     "text": [
      "../experiments_published/cnf_conditional_disentangle_cifar10_bs900_sratio_0_5_drop_0_5_rl_stdscale_6_run3/epoch_404_checkpt.pth\n"
     ]
    },
    {
     "name": "stderr",
     "output_type": "stream",
     "text": [
      "validating...\n"
     ]
    },
    {
     "name": "stdout",
     "output_type": "stream",
     "text": [
      "../experiments_published/cnf_conditional_disentangle_cifar10_bs900_sratio_0_5_drop_0_5_rl_stdscale_6_run3/epoch_405_checkpt.pth\n"
     ]
    },
    {
     "name": "stderr",
     "output_type": "stream",
     "text": [
      "validating...\n"
     ]
    },
    {
     "name": "stdout",
     "output_type": "stream",
     "text": [
      "../experiments_published/cnf_conditional_disentangle_cifar10_bs900_sratio_0_5_drop_0_5_rl_stdscale_6_run3/epoch_406_checkpt.pth\n"
     ]
    },
    {
     "name": "stderr",
     "output_type": "stream",
     "text": [
      "validating...\n"
     ]
    },
    {
     "name": "stdout",
     "output_type": "stream",
     "text": [
      "../experiments_published/cnf_conditional_disentangle_cifar10_bs900_sratio_0_5_drop_0_5_rl_stdscale_6_run3/epoch_407_checkpt.pth\n"
     ]
    },
    {
     "name": "stderr",
     "output_type": "stream",
     "text": [
      "validating...\n"
     ]
    },
    {
     "name": "stdout",
     "output_type": "stream",
     "text": [
      "../experiments_published/cnf_conditional_disentangle_cifar10_bs900_sratio_0_5_drop_0_5_rl_stdscale_6_run3/epoch_408_checkpt.pth\n"
     ]
    },
    {
     "name": "stderr",
     "output_type": "stream",
     "text": [
      "validating...\n"
     ]
    },
    {
     "name": "stdout",
     "output_type": "stream",
     "text": [
      "../experiments_published/cnf_conditional_disentangle_cifar10_bs900_sratio_0_5_drop_0_5_rl_stdscale_6_run3/epoch_409_checkpt.pth\n"
     ]
    },
    {
     "name": "stderr",
     "output_type": "stream",
     "text": [
      "validating...\n"
     ]
    },
    {
     "name": "stdout",
     "output_type": "stream",
     "text": [
      "../experiments_published/cnf_conditional_disentangle_cifar10_bs900_sratio_0_5_drop_0_5_rl_stdscale_6_run3/epoch_410_checkpt.pth\n"
     ]
    },
    {
     "name": "stderr",
     "output_type": "stream",
     "text": [
      "validating...\n"
     ]
    },
    {
     "name": "stdout",
     "output_type": "stream",
     "text": [
      "../experiments_published/cnf_conditional_disentangle_cifar10_bs900_sratio_0_5_drop_0_5_rl_stdscale_6_run3/epoch_411_checkpt.pth\n"
     ]
    },
    {
     "name": "stderr",
     "output_type": "stream",
     "text": [
      "validating...\n"
     ]
    },
    {
     "name": "stdout",
     "output_type": "stream",
     "text": [
      "../experiments_published/cnf_conditional_disentangle_cifar10_bs900_sratio_0_5_drop_0_5_rl_stdscale_6_run3/epoch_412_checkpt.pth\n"
     ]
    },
    {
     "name": "stderr",
     "output_type": "stream",
     "text": [
      "validating...\n"
     ]
    },
    {
     "name": "stdout",
     "output_type": "stream",
     "text": [
      "../experiments_published/cnf_conditional_disentangle_cifar10_bs900_sratio_0_5_drop_0_5_rl_stdscale_6_run3/epoch_413_checkpt.pth\n"
     ]
    },
    {
     "name": "stderr",
     "output_type": "stream",
     "text": [
      "validating...\n"
     ]
    },
    {
     "name": "stdout",
     "output_type": "stream",
     "text": [
      "../experiments_published/cnf_conditional_disentangle_cifar10_bs900_sratio_0_5_drop_0_5_rl_stdscale_6_run3/epoch_414_checkpt.pth\n"
     ]
    },
    {
     "name": "stderr",
     "output_type": "stream",
     "text": [
      "validating...\n"
     ]
    },
    {
     "name": "stdout",
     "output_type": "stream",
     "text": [
      "../experiments_published/cnf_conditional_disentangle_cifar10_bs900_sratio_0_5_drop_0_5_rl_stdscale_6_run3/epoch_415_checkpt.pth\n"
     ]
    },
    {
     "name": "stderr",
     "output_type": "stream",
     "text": [
      "validating...\n"
     ]
    },
    {
     "name": "stdout",
     "output_type": "stream",
     "text": [
      "../experiments_published/cnf_conditional_disentangle_cifar10_bs900_sratio_0_5_drop_0_5_rl_stdscale_6_run3/epoch_416_checkpt.pth\n"
     ]
    },
    {
     "name": "stderr",
     "output_type": "stream",
     "text": [
      "validating...\n"
     ]
    },
    {
     "name": "stdout",
     "output_type": "stream",
     "text": [
      "../experiments_published/cnf_conditional_disentangle_cifar10_bs900_sratio_0_5_drop_0_5_rl_stdscale_6_run3/epoch_417_checkpt.pth\n"
     ]
    },
    {
     "name": "stderr",
     "output_type": "stream",
     "text": [
      "validating...\n"
     ]
    },
    {
     "name": "stdout",
     "output_type": "stream",
     "text": [
      "../experiments_published/cnf_conditional_disentangle_cifar10_bs900_sratio_0_5_drop_0_5_rl_stdscale_6_run3/epoch_418_checkpt.pth\n"
     ]
    },
    {
     "name": "stderr",
     "output_type": "stream",
     "text": [
      "validating...\n"
     ]
    },
    {
     "name": "stdout",
     "output_type": "stream",
     "text": [
      "../experiments_published/cnf_conditional_disentangle_cifar10_bs900_sratio_0_5_drop_0_5_rl_stdscale_6_run3/epoch_419_checkpt.pth\n"
     ]
    },
    {
     "name": "stderr",
     "output_type": "stream",
     "text": [
      "validating...\n"
     ]
    },
    {
     "name": "stdout",
     "output_type": "stream",
     "text": [
      "../experiments_published/cnf_conditional_disentangle_cifar10_bs900_sratio_0_5_drop_0_5_rl_stdscale_6_run3/epoch_420_checkpt.pth\n"
     ]
    },
    {
     "name": "stderr",
     "output_type": "stream",
     "text": [
      "validating...\n"
     ]
    },
    {
     "name": "stdout",
     "output_type": "stream",
     "text": [
      "../experiments_published/cnf_conditional_disentangle_cifar10_bs900_sratio_0_5_drop_0_5_rl_stdscale_6_run3/epoch_421_checkpt.pth\n"
     ]
    },
    {
     "name": "stderr",
     "output_type": "stream",
     "text": [
      "validating...\n"
     ]
    },
    {
     "name": "stdout",
     "output_type": "stream",
     "text": [
      "../experiments_published/cnf_conditional_disentangle_cifar10_bs900_sratio_0_5_drop_0_5_rl_stdscale_6_run3/epoch_422_checkpt.pth\n"
     ]
    },
    {
     "name": "stderr",
     "output_type": "stream",
     "text": [
      "validating...\n"
     ]
    },
    {
     "name": "stdout",
     "output_type": "stream",
     "text": [
      "../experiments_published/cnf_conditional_disentangle_cifar10_bs900_sratio_0_5_drop_0_5_rl_stdscale_6_run3/epoch_423_checkpt.pth\n"
     ]
    },
    {
     "name": "stderr",
     "output_type": "stream",
     "text": [
      "validating...\n"
     ]
    },
    {
     "name": "stdout",
     "output_type": "stream",
     "text": [
      "../experiments_published/cnf_conditional_disentangle_cifar10_bs900_sratio_0_5_drop_0_5_rl_stdscale_6_run3/epoch_424_checkpt.pth\n"
     ]
    },
    {
     "name": "stderr",
     "output_type": "stream",
     "text": [
      "validating...\n"
     ]
    },
    {
     "name": "stdout",
     "output_type": "stream",
     "text": [
      "../experiments_published/cnf_conditional_disentangle_cifar10_bs900_sratio_0_5_drop_0_5_rl_stdscale_6_run3/epoch_425_checkpt.pth\n"
     ]
    },
    {
     "name": "stderr",
     "output_type": "stream",
     "text": [
      "validating...\n"
     ]
    },
    {
     "name": "stdout",
     "output_type": "stream",
     "text": [
      "../experiments_published/cnf_conditional_disentangle_cifar10_bs900_sratio_0_5_drop_0_5_rl_stdscale_6_run3/epoch_426_checkpt.pth\n"
     ]
    },
    {
     "name": "stderr",
     "output_type": "stream",
     "text": [
      "validating...\n"
     ]
    },
    {
     "name": "stdout",
     "output_type": "stream",
     "text": [
      "../experiments_published/cnf_conditional_disentangle_cifar10_bs900_sratio_0_5_drop_0_5_rl_stdscale_6_run3/epoch_427_checkpt.pth\n"
     ]
    },
    {
     "name": "stderr",
     "output_type": "stream",
     "text": [
      "validating...\n"
     ]
    },
    {
     "name": "stdout",
     "output_type": "stream",
     "text": [
      "../experiments_published/cnf_conditional_disentangle_cifar10_bs900_sratio_0_5_drop_0_5_rl_stdscale_6_run3/epoch_428_checkpt.pth\n"
     ]
    },
    {
     "name": "stderr",
     "output_type": "stream",
     "text": [
      "validating...\n"
     ]
    },
    {
     "name": "stdout",
     "output_type": "stream",
     "text": [
      "../experiments_published/cnf_conditional_disentangle_cifar10_bs900_sratio_0_5_drop_0_5_rl_stdscale_6_run3/epoch_429_checkpt.pth\n"
     ]
    },
    {
     "name": "stderr",
     "output_type": "stream",
     "text": [
      "validating...\n"
     ]
    },
    {
     "name": "stdout",
     "output_type": "stream",
     "text": [
      "../experiments_published/cnf_conditional_disentangle_cifar10_bs900_sratio_0_5_drop_0_5_rl_stdscale_6_run3/epoch_430_checkpt.pth\n"
     ]
    },
    {
     "name": "stderr",
     "output_type": "stream",
     "text": [
      "validating...\n"
     ]
    },
    {
     "name": "stdout",
     "output_type": "stream",
     "text": [
      "../experiments_published/cnf_conditional_disentangle_cifar10_bs900_sratio_0_5_drop_0_5_rl_stdscale_6_run3/epoch_431_checkpt.pth\n"
     ]
    },
    {
     "name": "stderr",
     "output_type": "stream",
     "text": [
      "validating...\n"
     ]
    },
    {
     "name": "stdout",
     "output_type": "stream",
     "text": [
      "../experiments_published/cnf_conditional_disentangle_cifar10_bs900_sratio_0_5_drop_0_5_rl_stdscale_6_run3/epoch_432_checkpt.pth\n"
     ]
    },
    {
     "name": "stderr",
     "output_type": "stream",
     "text": [
      "validating...\n"
     ]
    },
    {
     "name": "stdout",
     "output_type": "stream",
     "text": [
      "../experiments_published/cnf_conditional_disentangle_cifar10_bs900_sratio_0_5_drop_0_5_rl_stdscale_6_run3/epoch_433_checkpt.pth\n"
     ]
    },
    {
     "name": "stderr",
     "output_type": "stream",
     "text": [
      "validating...\n"
     ]
    },
    {
     "name": "stdout",
     "output_type": "stream",
     "text": [
      "../experiments_published/cnf_conditional_disentangle_cifar10_bs900_sratio_0_5_drop_0_5_rl_stdscale_6_run3/epoch_434_checkpt.pth\n"
     ]
    },
    {
     "name": "stderr",
     "output_type": "stream",
     "text": [
      "validating...\n"
     ]
    },
    {
     "name": "stdout",
     "output_type": "stream",
     "text": [
      "../experiments_published/cnf_conditional_disentangle_cifar10_bs900_sratio_0_5_drop_0_5_rl_stdscale_6_run3/epoch_435_checkpt.pth\n"
     ]
    },
    {
     "name": "stderr",
     "output_type": "stream",
     "text": [
      "validating...\n"
     ]
    },
    {
     "name": "stdout",
     "output_type": "stream",
     "text": [
      "../experiments_published/cnf_conditional_disentangle_cifar10_bs900_sratio_0_5_drop_0_5_rl_stdscale_6_run3/epoch_436_checkpt.pth\n"
     ]
    },
    {
     "name": "stderr",
     "output_type": "stream",
     "text": [
      "validating...\n"
     ]
    },
    {
     "name": "stdout",
     "output_type": "stream",
     "text": [
      "../experiments_published/cnf_conditional_disentangle_cifar10_bs900_sratio_0_5_drop_0_5_rl_stdscale_6_run3/epoch_437_checkpt.pth\n"
     ]
    },
    {
     "name": "stderr",
     "output_type": "stream",
     "text": [
      "validating...\n"
     ]
    },
    {
     "name": "stdout",
     "output_type": "stream",
     "text": [
      "../experiments_published/cnf_conditional_disentangle_cifar10_bs900_sratio_0_5_drop_0_5_rl_stdscale_6_run3/epoch_438_checkpt.pth\n"
     ]
    },
    {
     "name": "stderr",
     "output_type": "stream",
     "text": [
      "validating...\n"
     ]
    },
    {
     "name": "stdout",
     "output_type": "stream",
     "text": [
      "../experiments_published/cnf_conditional_disentangle_cifar10_bs900_sratio_0_5_drop_0_5_rl_stdscale_6_run3/epoch_439_checkpt.pth\n"
     ]
    },
    {
     "name": "stderr",
     "output_type": "stream",
     "text": [
      "validating...\n"
     ]
    },
    {
     "name": "stdout",
     "output_type": "stream",
     "text": [
      "../experiments_published/cnf_conditional_disentangle_cifar10_bs900_sratio_0_5_drop_0_5_rl_stdscale_6_run3/epoch_440_checkpt.pth\n"
     ]
    },
    {
     "name": "stderr",
     "output_type": "stream",
     "text": [
      "validating...\n"
     ]
    },
    {
     "name": "stdout",
     "output_type": "stream",
     "text": [
      "../experiments_published/cnf_conditional_disentangle_cifar10_bs900_sratio_0_5_drop_0_5_rl_stdscale_6_run3/epoch_441_checkpt.pth\n"
     ]
    },
    {
     "name": "stderr",
     "output_type": "stream",
     "text": [
      "validating...\n"
     ]
    },
    {
     "name": "stdout",
     "output_type": "stream",
     "text": [
      "../experiments_published/cnf_conditional_disentangle_cifar10_bs900_sratio_0_5_drop_0_5_rl_stdscale_6_run3/epoch_442_checkpt.pth\n"
     ]
    },
    {
     "name": "stderr",
     "output_type": "stream",
     "text": [
      "validating...\n"
     ]
    },
    {
     "name": "stdout",
     "output_type": "stream",
     "text": [
      "../experiments_published/cnf_conditional_disentangle_cifar10_bs900_sratio_0_5_drop_0_5_rl_stdscale_6_run3/epoch_443_checkpt.pth\n"
     ]
    },
    {
     "name": "stderr",
     "output_type": "stream",
     "text": [
      "validating...\n"
     ]
    },
    {
     "name": "stdout",
     "output_type": "stream",
     "text": [
      "../experiments_published/cnf_conditional_disentangle_cifar10_bs900_sratio_0_5_drop_0_5_rl_stdscale_6_run3/epoch_444_checkpt.pth\n"
     ]
    },
    {
     "name": "stderr",
     "output_type": "stream",
     "text": [
      "validating...\n"
     ]
    },
    {
     "name": "stdout",
     "output_type": "stream",
     "text": [
      "../experiments_published/cnf_conditional_disentangle_cifar10_bs900_sratio_0_5_drop_0_5_rl_stdscale_6_run3/epoch_445_checkpt.pth\n"
     ]
    },
    {
     "name": "stderr",
     "output_type": "stream",
     "text": [
      "validating...\n"
     ]
    },
    {
     "name": "stdout",
     "output_type": "stream",
     "text": [
      "../experiments_published/cnf_conditional_disentangle_cifar10_bs900_sratio_0_5_drop_0_5_rl_stdscale_6_run3/epoch_446_checkpt.pth\n"
     ]
    },
    {
     "name": "stderr",
     "output_type": "stream",
     "text": [
      "validating...\n"
     ]
    },
    {
     "name": "stdout",
     "output_type": "stream",
     "text": [
      "../experiments_published/cnf_conditional_disentangle_cifar10_bs900_sratio_0_5_drop_0_5_rl_stdscale_6_run3/epoch_447_checkpt.pth\n"
     ]
    },
    {
     "name": "stderr",
     "output_type": "stream",
     "text": [
      "validating...\n"
     ]
    },
    {
     "name": "stdout",
     "output_type": "stream",
     "text": [
      "../experiments_published/cnf_conditional_disentangle_cifar10_bs900_sratio_0_5_drop_0_5_rl_stdscale_6_run3/epoch_448_checkpt.pth\n"
     ]
    },
    {
     "name": "stderr",
     "output_type": "stream",
     "text": [
      "validating...\n"
     ]
    },
    {
     "name": "stdout",
     "output_type": "stream",
     "text": [
      "../experiments_published/cnf_conditional_disentangle_cifar10_bs900_sratio_0_5_drop_0_5_rl_stdscale_6_run3/epoch_449_checkpt.pth\n"
     ]
    },
    {
     "name": "stderr",
     "output_type": "stream",
     "text": [
      "validating...\n"
     ]
    },
    {
     "name": "stdout",
     "output_type": "stream",
     "text": [
      "../experiments_published/cnf_conditional_disentangle_cifar10_bs900_sratio_0_5_drop_0_5_rl_stdscale_6_run3/epoch_450_checkpt.pth\n"
     ]
    },
    {
     "name": "stderr",
     "output_type": "stream",
     "text": [
      "validating...\n"
     ]
    },
    {
     "name": "stdout",
     "output_type": "stream",
     "text": [
      "../experiments_published/cnf_conditional_disentangle_cifar10_bs900_sratio_0_5_drop_0_5_rl_stdscale_6_run3/epoch_451_checkpt.pth\n"
     ]
    },
    {
     "name": "stderr",
     "output_type": "stream",
     "text": [
      "validating...\n"
     ]
    },
    {
     "name": "stdout",
     "output_type": "stream",
     "text": [
      "../experiments_published/cnf_conditional_disentangle_cifar10_bs900_sratio_0_5_drop_0_5_rl_stdscale_6_run3/epoch_452_checkpt.pth\n"
     ]
    },
    {
     "name": "stderr",
     "output_type": "stream",
     "text": [
      "validating...\n"
     ]
    },
    {
     "name": "stdout",
     "output_type": "stream",
     "text": [
      "../experiments_published/cnf_conditional_disentangle_cifar10_bs900_sratio_0_5_drop_0_5_rl_stdscale_6_run3/epoch_453_checkpt.pth\n"
     ]
    },
    {
     "name": "stderr",
     "output_type": "stream",
     "text": [
      "validating...\n"
     ]
    },
    {
     "name": "stdout",
     "output_type": "stream",
     "text": [
      "../experiments_published/cnf_conditional_disentangle_cifar10_bs900_sratio_0_5_drop_0_5_rl_stdscale_6_run3/epoch_454_checkpt.pth\n"
     ]
    },
    {
     "name": "stderr",
     "output_type": "stream",
     "text": [
      "validating...\n"
     ]
    },
    {
     "name": "stdout",
     "output_type": "stream",
     "text": [
      "../experiments_published/cnf_conditional_disentangle_cifar10_bs900_sratio_0_5_drop_0_5_rl_stdscale_6_run3/epoch_455_checkpt.pth\n"
     ]
    },
    {
     "name": "stderr",
     "output_type": "stream",
     "text": [
      "validating...\n"
     ]
    },
    {
     "name": "stdout",
     "output_type": "stream",
     "text": [
      "../experiments_published/cnf_conditional_disentangle_cifar10_bs900_sratio_0_5_drop_0_5_rl_stdscale_6_run3/epoch_456_checkpt.pth\n"
     ]
    },
    {
     "name": "stderr",
     "output_type": "stream",
     "text": [
      "validating...\n"
     ]
    },
    {
     "name": "stdout",
     "output_type": "stream",
     "text": [
      "../experiments_published/cnf_conditional_disentangle_cifar10_bs900_sratio_0_5_drop_0_5_rl_stdscale_6_run3/epoch_457_checkpt.pth\n"
     ]
    },
    {
     "name": "stderr",
     "output_type": "stream",
     "text": [
      "validating...\n"
     ]
    },
    {
     "name": "stdout",
     "output_type": "stream",
     "text": [
      "../experiments_published/cnf_conditional_disentangle_cifar10_bs900_sratio_0_5_drop_0_5_rl_stdscale_6_run3/epoch_458_checkpt.pth\n"
     ]
    },
    {
     "name": "stderr",
     "output_type": "stream",
     "text": [
      "validating...\n"
     ]
    },
    {
     "name": "stdout",
     "output_type": "stream",
     "text": [
      "../experiments_published/cnf_conditional_disentangle_cifar10_bs900_sratio_0_5_drop_0_5_rl_stdscale_6_run3/epoch_459_checkpt.pth\n"
     ]
    },
    {
     "name": "stderr",
     "output_type": "stream",
     "text": [
      "validating...\n"
     ]
    },
    {
     "name": "stdout",
     "output_type": "stream",
     "text": [
      "../experiments_published/cnf_conditional_disentangle_cifar10_bs900_sratio_0_5_drop_0_5_rl_stdscale_6_run3/epoch_460_checkpt.pth\n"
     ]
    },
    {
     "name": "stderr",
     "output_type": "stream",
     "text": [
      "validating...\n"
     ]
    },
    {
     "name": "stdout",
     "output_type": "stream",
     "text": [
      "../experiments_published/cnf_conditional_disentangle_cifar10_bs900_sratio_0_5_drop_0_5_rl_stdscale_6_run3/epoch_461_checkpt.pth\n"
     ]
    },
    {
     "name": "stderr",
     "output_type": "stream",
     "text": [
      "validating...\n"
     ]
    },
    {
     "name": "stdout",
     "output_type": "stream",
     "text": [
      "../experiments_published/cnf_conditional_disentangle_cifar10_bs900_sratio_0_5_drop_0_5_rl_stdscale_6_run3/epoch_462_checkpt.pth\n"
     ]
    },
    {
     "name": "stderr",
     "output_type": "stream",
     "text": [
      "validating...\n"
     ]
    },
    {
     "name": "stdout",
     "output_type": "stream",
     "text": [
      "../experiments_published/cnf_conditional_disentangle_cifar10_bs900_sratio_0_5_drop_0_5_rl_stdscale_6_run3/epoch_463_checkpt.pth\n"
     ]
    },
    {
     "name": "stderr",
     "output_type": "stream",
     "text": [
      "validating...\n"
     ]
    },
    {
     "name": "stdout",
     "output_type": "stream",
     "text": [
      "../experiments_published/cnf_conditional_disentangle_cifar10_bs900_sratio_0_5_drop_0_5_rl_stdscale_6_run3/epoch_464_checkpt.pth\n"
     ]
    },
    {
     "name": "stderr",
     "output_type": "stream",
     "text": [
      "validating...\n"
     ]
    },
    {
     "name": "stdout",
     "output_type": "stream",
     "text": [
      "../experiments_published/cnf_conditional_disentangle_cifar10_bs900_sratio_0_5_drop_0_5_rl_stdscale_6_run3/epoch_465_checkpt.pth\n"
     ]
    },
    {
     "name": "stderr",
     "output_type": "stream",
     "text": [
      "validating...\n"
     ]
    },
    {
     "name": "stdout",
     "output_type": "stream",
     "text": [
      "../experiments_published/cnf_conditional_disentangle_cifar10_bs900_sratio_0_5_drop_0_5_rl_stdscale_6_run3/epoch_466_checkpt.pth\n"
     ]
    },
    {
     "name": "stderr",
     "output_type": "stream",
     "text": [
      "validating...\n"
     ]
    },
    {
     "name": "stdout",
     "output_type": "stream",
     "text": [
      "../experiments_published/cnf_conditional_disentangle_cifar10_bs900_sratio_0_5_drop_0_5_rl_stdscale_6_run3/epoch_467_checkpt.pth\n"
     ]
    },
    {
     "name": "stderr",
     "output_type": "stream",
     "text": [
      "validating...\n"
     ]
    },
    {
     "name": "stdout",
     "output_type": "stream",
     "text": [
      "../experiments_published/cnf_conditional_disentangle_cifar10_bs900_sratio_0_5_drop_0_5_rl_stdscale_6_run3/epoch_468_checkpt.pth\n"
     ]
    },
    {
     "name": "stderr",
     "output_type": "stream",
     "text": [
      "validating...\n"
     ]
    },
    {
     "name": "stdout",
     "output_type": "stream",
     "text": [
      "../experiments_published/cnf_conditional_disentangle_cifar10_bs900_sratio_0_5_drop_0_5_rl_stdscale_6_run3/epoch_469_checkpt.pth\n"
     ]
    },
    {
     "name": "stderr",
     "output_type": "stream",
     "text": [
      "validating...\n"
     ]
    },
    {
     "name": "stdout",
     "output_type": "stream",
     "text": [
      "../experiments_published/cnf_conditional_disentangle_cifar10_bs900_sratio_0_5_drop_0_5_rl_stdscale_6_run3/epoch_470_checkpt.pth\n"
     ]
    },
    {
     "name": "stderr",
     "output_type": "stream",
     "text": [
      "validating...\n"
     ]
    },
    {
     "name": "stdout",
     "output_type": "stream",
     "text": [
      "../experiments_published/cnf_conditional_disentangle_cifar10_bs900_sratio_0_5_drop_0_5_rl_stdscale_6_run3/epoch_471_checkpt.pth\n"
     ]
    },
    {
     "name": "stderr",
     "output_type": "stream",
     "text": [
      "validating...\n"
     ]
    },
    {
     "name": "stdout",
     "output_type": "stream",
     "text": [
      "../experiments_published/cnf_conditional_disentangle_cifar10_bs900_sratio_0_5_drop_0_5_rl_stdscale_6_run3/epoch_472_checkpt.pth\n"
     ]
    },
    {
     "name": "stderr",
     "output_type": "stream",
     "text": [
      "validating...\n"
     ]
    },
    {
     "name": "stdout",
     "output_type": "stream",
     "text": [
      "../experiments_published/cnf_conditional_disentangle_cifar10_bs900_sratio_0_5_drop_0_5_rl_stdscale_6_run3/epoch_473_checkpt.pth\n"
     ]
    },
    {
     "name": "stderr",
     "output_type": "stream",
     "text": [
      "validating...\n"
     ]
    },
    {
     "name": "stdout",
     "output_type": "stream",
     "text": [
      "../experiments_published/cnf_conditional_disentangle_cifar10_bs900_sratio_0_5_drop_0_5_rl_stdscale_6_run3/epoch_474_checkpt.pth\n"
     ]
    },
    {
     "name": "stderr",
     "output_type": "stream",
     "text": [
      "validating...\n"
     ]
    },
    {
     "name": "stdout",
     "output_type": "stream",
     "text": [
      "../experiments_published/cnf_conditional_disentangle_cifar10_bs900_sratio_0_5_drop_0_5_rl_stdscale_6_run3/epoch_475_checkpt.pth\n"
     ]
    },
    {
     "name": "stderr",
     "output_type": "stream",
     "text": [
      "validating...\n"
     ]
    },
    {
     "name": "stdout",
     "output_type": "stream",
     "text": [
      "../experiments_published/cnf_conditional_disentangle_cifar10_bs900_sratio_0_5_drop_0_5_rl_stdscale_6_run3/epoch_476_checkpt.pth\n"
     ]
    },
    {
     "name": "stderr",
     "output_type": "stream",
     "text": [
      "validating...\n"
     ]
    },
    {
     "name": "stdout",
     "output_type": "stream",
     "text": [
      "../experiments_published/cnf_conditional_disentangle_cifar10_bs900_sratio_0_5_drop_0_5_rl_stdscale_6_run3/epoch_477_checkpt.pth\n"
     ]
    },
    {
     "name": "stderr",
     "output_type": "stream",
     "text": [
      "validating...\n"
     ]
    },
    {
     "name": "stdout",
     "output_type": "stream",
     "text": [
      "../experiments_published/cnf_conditional_disentangle_cifar10_bs900_sratio_0_5_drop_0_5_rl_stdscale_6_run3/epoch_478_checkpt.pth\n"
     ]
    },
    {
     "name": "stderr",
     "output_type": "stream",
     "text": [
      "validating...\n"
     ]
    },
    {
     "name": "stdout",
     "output_type": "stream",
     "text": [
      "../experiments_published/cnf_conditional_disentangle_cifar10_bs900_sratio_0_5_drop_0_5_rl_stdscale_6_run3/epoch_479_checkpt.pth\n"
     ]
    },
    {
     "name": "stderr",
     "output_type": "stream",
     "text": [
      "validating...\n"
     ]
    },
    {
     "name": "stdout",
     "output_type": "stream",
     "text": [
      "../experiments_published/cnf_conditional_disentangle_cifar10_bs900_sratio_0_5_drop_0_5_rl_stdscale_6_run3/epoch_480_checkpt.pth\n"
     ]
    },
    {
     "name": "stderr",
     "output_type": "stream",
     "text": [
      "validating...\n"
     ]
    },
    {
     "name": "stdout",
     "output_type": "stream",
     "text": [
      "../experiments_published/cnf_conditional_disentangle_cifar10_bs900_sratio_0_5_drop_0_5_rl_stdscale_6_run3/epoch_481_checkpt.pth\n"
     ]
    },
    {
     "name": "stderr",
     "output_type": "stream",
     "text": [
      "validating...\n"
     ]
    },
    {
     "name": "stdout",
     "output_type": "stream",
     "text": [
      "../experiments_published/cnf_conditional_disentangle_cifar10_bs900_sratio_0_5_drop_0_5_rl_stdscale_6_run3/epoch_482_checkpt.pth\n"
     ]
    },
    {
     "name": "stderr",
     "output_type": "stream",
     "text": [
      "validating...\n"
     ]
    },
    {
     "name": "stdout",
     "output_type": "stream",
     "text": [
      "../experiments_published/cnf_conditional_disentangle_cifar10_bs900_sratio_0_5_drop_0_5_rl_stdscale_6_run3/epoch_483_checkpt.pth\n"
     ]
    },
    {
     "name": "stderr",
     "output_type": "stream",
     "text": [
      "validating...\n"
     ]
    },
    {
     "name": "stdout",
     "output_type": "stream",
     "text": [
      "../experiments_published/cnf_conditional_disentangle_cifar10_bs900_sratio_0_5_drop_0_5_rl_stdscale_6_run3/epoch_484_checkpt.pth\n"
     ]
    },
    {
     "name": "stderr",
     "output_type": "stream",
     "text": [
      "validating...\n"
     ]
    },
    {
     "name": "stdout",
     "output_type": "stream",
     "text": [
      "../experiments_published/cnf_conditional_disentangle_cifar10_bs900_sratio_0_5_drop_0_5_rl_stdscale_6_run3/epoch_485_checkpt.pth\n"
     ]
    },
    {
     "name": "stderr",
     "output_type": "stream",
     "text": [
      "validating...\n"
     ]
    },
    {
     "name": "stdout",
     "output_type": "stream",
     "text": [
      "../experiments_published/cnf_conditional_disentangle_cifar10_bs900_sratio_0_5_drop_0_5_rl_stdscale_6_run3/epoch_486_checkpt.pth\n"
     ]
    },
    {
     "name": "stderr",
     "output_type": "stream",
     "text": [
      "validating...\n"
     ]
    },
    {
     "name": "stdout",
     "output_type": "stream",
     "text": [
      "../experiments_published/cnf_conditional_disentangle_cifar10_bs900_sratio_0_5_drop_0_5_rl_stdscale_6_run3/epoch_487_checkpt.pth\n"
     ]
    },
    {
     "name": "stderr",
     "output_type": "stream",
     "text": [
      "validating...\n"
     ]
    },
    {
     "name": "stdout",
     "output_type": "stream",
     "text": [
      "../experiments_published/cnf_conditional_disentangle_cifar10_bs900_sratio_0_5_drop_0_5_rl_stdscale_6_run3/epoch_488_checkpt.pth\n"
     ]
    },
    {
     "name": "stderr",
     "output_type": "stream",
     "text": [
      "validating...\n"
     ]
    },
    {
     "name": "stdout",
     "output_type": "stream",
     "text": [
      "../experiments_published/cnf_conditional_disentangle_cifar10_bs900_sratio_0_5_drop_0_5_rl_stdscale_6_run3/epoch_489_checkpt.pth\n"
     ]
    },
    {
     "name": "stderr",
     "output_type": "stream",
     "text": [
      "validating...\n"
     ]
    },
    {
     "name": "stdout",
     "output_type": "stream",
     "text": [
      "../experiments_published/cnf_conditional_disentangle_cifar10_bs900_sratio_0_5_drop_0_5_rl_stdscale_6_run3/epoch_490_checkpt.pth\n"
     ]
    },
    {
     "name": "stderr",
     "output_type": "stream",
     "text": [
      "validating...\n"
     ]
    },
    {
     "name": "stdout",
     "output_type": "stream",
     "text": [
      "../experiments_published/cnf_conditional_disentangle_cifar10_bs900_sratio_0_5_drop_0_5_rl_stdscale_6_run3/epoch_491_checkpt.pth\n"
     ]
    },
    {
     "name": "stderr",
     "output_type": "stream",
     "text": [
      "validating...\n"
     ]
    },
    {
     "name": "stdout",
     "output_type": "stream",
     "text": [
      "../experiments_published/cnf_conditional_disentangle_cifar10_bs900_sratio_0_5_drop_0_5_rl_stdscale_6_run3/epoch_492_checkpt.pth\n"
     ]
    },
    {
     "name": "stderr",
     "output_type": "stream",
     "text": [
      "validating...\n"
     ]
    },
    {
     "name": "stdout",
     "output_type": "stream",
     "text": [
      "../experiments_published/cnf_conditional_disentangle_cifar10_bs900_sratio_0_5_drop_0_5_rl_stdscale_6_run3/epoch_493_checkpt.pth\n"
     ]
    },
    {
     "name": "stderr",
     "output_type": "stream",
     "text": [
      "validating...\n"
     ]
    },
    {
     "name": "stdout",
     "output_type": "stream",
     "text": [
      "../experiments_published/cnf_conditional_disentangle_cifar10_bs900_sratio_0_5_drop_0_5_rl_stdscale_6_run3/epoch_494_checkpt.pth\n"
     ]
    },
    {
     "name": "stderr",
     "output_type": "stream",
     "text": [
      "validating...\n"
     ]
    },
    {
     "name": "stdout",
     "output_type": "stream",
     "text": [
      "../experiments_published/cnf_conditional_disentangle_cifar10_bs900_sratio_0_5_drop_0_5_rl_stdscale_6_run3/epoch_495_checkpt.pth\n"
     ]
    },
    {
     "name": "stderr",
     "output_type": "stream",
     "text": [
      "validating...\n"
     ]
    },
    {
     "name": "stdout",
     "output_type": "stream",
     "text": [
      "../experiments_published/cnf_conditional_disentangle_cifar10_bs900_sratio_0_5_drop_0_5_rl_stdscale_6_run3/epoch_496_checkpt.pth\n"
     ]
    },
    {
     "name": "stderr",
     "output_type": "stream",
     "text": [
      "validating...\n"
     ]
    },
    {
     "name": "stdout",
     "output_type": "stream",
     "text": [
      "../experiments_published/cnf_conditional_disentangle_cifar10_bs900_sratio_0_5_drop_0_5_rl_stdscale_6_run3/epoch_497_checkpt.pth\n"
     ]
    },
    {
     "name": "stderr",
     "output_type": "stream",
     "text": [
      "validating...\n"
     ]
    },
    {
     "name": "stdout",
     "output_type": "stream",
     "text": [
      "../experiments_published/cnf_conditional_disentangle_cifar10_bs900_sratio_0_5_drop_0_5_rl_stdscale_6_run3/epoch_498_checkpt.pth\n"
     ]
    },
    {
     "name": "stderr",
     "output_type": "stream",
     "text": [
      "validating...\n"
     ]
    },
    {
     "name": "stdout",
     "output_type": "stream",
     "text": [
      "../experiments_published/cnf_conditional_disentangle_cifar10_bs900_sratio_0_5_drop_0_5_rl_stdscale_6_run3/epoch_499_checkpt.pth\n"
     ]
    },
    {
     "name": "stderr",
     "output_type": "stream",
     "text": [
      "validating...\n"
     ]
    },
    {
     "name": "stdout",
     "output_type": "stream",
     "text": [
      "../experiments_published/cnf_conditional_disentangle_cifar10_bs900_sratio_0_5_drop_0_5_rl_stdscale_6_run3/epoch_500_checkpt.pth\n"
     ]
    },
    {
     "name": "stderr",
     "output_type": "stream",
     "text": [
      "validating...\n"
     ]
    },
    {
     "name": "stdout",
     "output_type": "stream",
     "text": [
      " "
     ]
    },
    {
     "data": {
      "text/plain": [
       "         902192048 function calls (836159287 primitive calls) in 42099.479 seconds\n",
       "\n",
       "   Ordered by: internal time\n",
       "\n",
       "   ncalls  tottime  percall  cumtime  percall filename:lineno(function)\n",
       "   151592 39775.318    0.262 39775.318    0.262 {method 'acquire' of '_thread.lock' objects}\n",
       " 45333853  187.841    0.000  289.693    0.000 module.py:537(__setattr__)\n",
       "  3660000  159.838    0.000  278.527    0.000 train_cnf_disentangle_rl.py:311(add_noise)\n",
       "   299754  135.558    0.000  135.558    0.000 {method '_set_from_file' of 'torch._C.FloatStorageBase' objects}\n",
       "  3660000  106.163    0.000  106.163    0.000 {method 'tobytes' of 'numpy.ndarray' objects}\n",
       "  3733400  101.395    0.000  101.395    0.000 {method 'uniform_' of 'torch._C._TensorBase' objects}\n",
       "  3660000   93.518    0.000  409.404    0.000 functional.py:32(to_tensor)\n",
       "     7320   88.852    0.012  578.581    0.079 replicate.py:5(replicate)\n",
       "73180716/8104347   74.477    0.000   81.647    0.000 module.py:938(named_modules)\n",
       "145769030/145768591   74.410    0.000   75.214    0.000 {built-in method builtins.isinstance}\n",
       "  3660000   68.163    0.000   68.163    0.000 {method 'div' of 'torch._C._TensorBase' objects}\n",
       "     1234   64.918    0.053   64.918    0.053 {method 'read' of '_io.BufferedReader' objects}\n",
       "140514217   61.514    0.000   61.514    0.000 {method 'get' of 'dict' objects}\n",
       "   424560   48.447    0.000   48.447    0.000 {built-in method torch._C._gather}\n",
       "  3660000   46.627    0.000  365.210    0.000 Image.py:2457(fromarray)\n",
       "  3660000   44.530    0.000   44.530    0.000 {method 'contiguous' of 'torch._C._TensorBase' objects}\n",
       "  3660000   42.917    0.000   42.917    0.000 {method 'float' of 'torch._C._TensorBase' objects}\n",
       "    14640   40.253    0.003   40.253    0.003 {built-in method torch._C._broadcast_coalesced}\n",
       "  3660000   35.060    0.000 1163.230    0.000 cifar.py:103(__getitem__)\n",
       "  5380200   30.717    0.000   30.717    0.000 {method 'view' of 'torch._C._TensorBase' objects}\n",
       "   149694   29.420    0.000   56.298    0.000 module.py:647(_load_from_state_dict)\n",
       "  3660000   29.158    0.000   87.436    0.000 Image.py:711(tobytes)\n",
       "    80520   27.046    0.000 40498.656    0.503 module.py:483(__call__)\n",
       " 53807544   24.106    0.000   24.106    0.000 {method 'startswith' of 'str' objects}\n",
       "  3660000   23.933    0.000   88.592    0.000 Image.py:2322(new)\n",
       "  3660000   22.668    0.000  748.924    0.000 transforms.py:47(__call__)\n",
       " 32325492   21.786    0.000   21.786    0.000 {method 'copy' of 'collections.OrderedDict' objects}\n",
       "  7320000   21.627    0.000   21.627    0.000 {method 'transpose' of 'torch._C._TensorBase' objects}\n",
       " 10980000   19.959    0.000   31.424    0.000 Image.py:2304(_check_size)\n",
       "38345244/38331813   18.655    0.000   18.672    0.000 {built-in method builtins.len}\n",
       "  3660000   17.852    0.000   29.302    0.000 Image.py:430(_getdecoder)\n",
       "  3660000   16.792    0.000   16.792    0.000 {built-in method PIL._imaging.fill}\n",
       "  3660000   16.705    0.000  177.993    0.000 Image.py:2353(frombytes)\n",
       "  3660000   16.336    0.000   60.277    0.000 Image.py:779(frombytes)\n",
       "     7320   16.096    0.002   16.096    0.002 {built-in method stack}\n",
       "11189729/11189720   14.298    0.000   14.913    0.000 {built-in method builtins.hasattr}\n",
       "    73200   13.905    0.000   15.179    0.000 modules.py:268(likelihood)\n",
       "  3660000   13.144    0.000   24.703    0.000 functional.py:172(resize)\n",
       "  3660000   12.490    0.000   12.490    0.000 {method 'resize_as_' of 'torch._C._TensorBase' objects}\n",
       "  3660000   12.393    0.000   21.764    0.000 Image.py:451(_getencoder)\n",
       "  3660000   12.329    0.000  205.071    0.000 Image.py:2396(frombuffer)\n",
       "  3660000   12.282    0.000   18.895    0.000 Image.py:553(_new)\n",
       "  3660000   12.221    0.000   12.221    0.000 {method 'encode' of 'ImagingEncoder' objects}\n",
       "  2628618   11.875    0.000   85.419    0.000 module.py:771(_named_members)\n",
       "   307440   11.053    0.000   11.053    0.000 {method 'to' of 'torch._C._TensorBase' objects}\n",
       "  7320000   10.956    0.000   22.340    0.000 Image.py:601(__del__)\n",
       "  7320000    9.965    0.000    9.965    0.000 Image.py:529(__init__)\n",
       "  3660000    9.946    0.000    9.946    0.000 {method 'new' of 'torch._C._TensorBase' objects}\n",
       " 14435047    9.719    0.000    9.719    0.000 {method 'copy' of 'dict' objects}\n",
       " 22571767    9.459    0.000    9.459    0.000 {method 'items' of 'collections.OrderedDict' objects}\n",
       "  3660000    9.454    0.000    9.454    0.000 {built-in method from_buffer}\n",
       " 18310344    8.959    0.000    8.959    0.000 {method 'append' of 'list' objects}\n",
       " 10454675    8.733    0.000   13.030    0.000 tensor.py:416(__hash__)\n",
       "    14640    8.526    0.001    8.526    0.001 {built-in method torch._C._scatter}\n",
       "  7320000    8.149    0.000   11.513    0.000 functional.py:17(_is_pil_image)\n",
       "   424560    8.133    0.000   81.964    0.000 _functions.py:52(forward)\n",
       "  3660000    8.073    0.000    8.073    0.000 {method 'decode' of 'ImagingDecoder' objects}\n",
       "     7320    7.640    0.001 1170.870    0.160 dataloader.py:615(<listcomp>)\n",
       " 14640000    7.285    0.000    7.285    0.000 Image.py:549(size)\n",
       "   446520    7.267    0.000  128.475    0.000 {built-in method apply}\n",
       "  7657792    7.233    0.000    7.233    0.000 {built-in method builtins.getattr}\n",
       "     7320    7.020    0.001 40555.848    5.540 train_cnf_disentangle_rl.py:504(compute_marginal_bits_per_dim)\n",
       "  3660000    6.978    0.000  416.382    0.000 transforms.py:68(__call__)\n",
       " 11006566    6.647    0.000    9.943    0.000 {method 'add' of 'set' objects}\n",
       "  3660000    6.644    0.000   31.347    0.000 transforms.py:167(__call__)\n",
       "    73200    6.494    0.000   24.803    0.000 odenvp_conditional_rl.py:132(_prior)\n",
       "  3660000    6.432    0.000    9.016    0.000 Image.py:809(load)\n",
       "  3660000    6.055    0.000    6.055    0.000 {built-in method PIL._imaging.raw_decoder}\n",
       " 10796366    5.360    0.000    5.360    0.000 {built-in method __new__ of type object at 0x55f5c463ad60}\n",
       "   130662    5.335    0.000    5.335    0.000 {method 'cuda' of 'torch._C._TensorBase' objects}\n",
       "    73200    5.080    0.000   11.917    0.000 modules.py:105(forward)\n",
       "21960/7320    4.961    0.000   21.389    0.003 dataloader.py:196(default_collate)\n",
       "  3660000    4.338    0.000    4.338    0.000 {built-in method PIL._imaging.raw_encoder}\n",
       "  3661446    4.317    0.000    4.317    0.000 {built-in method builtins.max}\n",
       " 10455985    4.298    0.000    4.298    0.000 {built-in method builtins.id}\n",
       "      769    4.170    0.005    4.170    0.005 {method 'read' of '_io.FileIO' objects}\n",
       "  3660000    3.855    0.000    5.711    0.000 _util.py:7(isStringType)\n",
       "    73200    3.665    0.000    3.665    0.000 {built-in method addmm}\n",
       "     7686    3.549    0.000    6.775    0.001 sampler.py:158(__iter__)\n",
       "  2694864    3.414    0.000    4.555    0.000 module.py:829(<lambda>)\n",
       "   856807    3.265    0.000    7.977    0.000 {built-in method builtins.all}\n",
       "  3660000    3.177    0.000    3.177    0.000 {method 'setimage' of 'ImagingDecoder' objects}\n",
       "  3660000    3.098    0.000    3.098    0.000 {method 'setimage' of 'ImagingEncoder' objects}\n",
       "  2693760    3.038    0.000    4.156    0.000 module.py:877(<lambda>)\n",
       "    73200    2.857    0.000    2.857    0.000 {method 'scatter_' of 'torch._C._TensorBase' objects}\n",
       "461160/7320    2.854    0.000   90.179    0.012 scatter_gather.py:51(gather_map)\n",
       "   146400    2.784    0.000    2.784    0.000 {built-in method exp}\n",
       "  3660000    2.583    0.000    2.583    0.000 {method 'pixel_access' of 'ImagingCore' objects}\n",
       "   621472    2.504    0.000    4.885    0.000 <frozen importlib._bootstrap>:157(_get_module_lock)\n",
       "310844/310016    2.460    0.000   21.454    0.000 <frozen importlib._bootstrap>:966(_find_and_load)\n",
       "  2701080    2.367    0.000   28.621    0.000 module.py:911(modules)\n",
       "  3660001    2.197    0.000    2.197    0.000 {method 'join' of 'bytes' objects}\n",
       "  2049600    2.144    0.000    9.381    0.000 _functions.py:60(<genexpr>)\n",
       "     7686    1.997    0.000 1201.050    0.156 dataloader.py:612(__next__)\n",
       "      366    1.952    0.005   26.055    0.071 {method 'load' of '_pickle.Unpickler' objects}\n",
       "        1    1.950    1.950 42099.370 42099.370 train_cnf_disentangle_rl.py:1(<module>)\n",
       "   310002    1.950    0.000   20.448    0.000 _utils.py:127(_rebuild_tensor)\n",
       "  2078880    1.946    0.000    2.733    0.000 _functions.py:59(<genexpr>)\n",
       "    80520    1.942    0.000    1.942    0.000 {method 'sum' of 'torch._C._TensorBase' objects}\n",
       "  2124608    1.889    0.000    1.889    0.000 {method 'size' of 'torch._C._TensorBase' objects}\n",
       "    80520    1.877    0.000    1.877    0.000 {built-in method sum}\n",
       "  1698240    1.769    0.000    3.017    0.000 _functions.py:67(<lambda>)\n",
       "    73200    1.741    0.000    1.741    0.000 {method 'clone' of 'torch._C._TensorBase' objects}\n",
       "  1698240    1.721    0.000    2.941    0.000 _functions.py:58(<lambda>)\n",
       "  1801458    1.696    0.000   48.612    0.000 module.py:808(named_parameters)\n",
       "  1801458    1.679    0.000   50.291    0.000 module.py:784(parameters)\n",
       "    29283    1.654    0.000    1.654    0.000 {built-in method _thread.start_new_thread}\n",
       "    73200    1.588    0.000    1.588    0.000 {built-in method log}\n",
       "   964873    1.569    0.000    1.734    0.000 module.py:521(__getattr__)\n",
       "   310002    1.523    0.000    1.523    0.000 {method 'set_' of 'torch._C._TensorBase' objects}\n",
       "    73200    1.523    0.000    1.523    0.000 {built-in method full_like}\n",
       "   310002    1.505    0.000    3.174    0.000 serialization.py:513(persistent_load)\n",
       "   410213    1.435    0.000    1.435    0.000 {built-in method _warnings.warn}\n",
       "   135069    1.362    0.000    9.830    0.000 module.py:62(__init__)\n",
       "   620835    1.341    0.000    2.257    0.000 <frozen importlib._bootstrap>:176(cb)\n",
       "   130662    1.269    0.000    1.269    0.000 {method 'copy_' of 'torch._C._TensorBase' objects}\n",
       "   575726    1.262    0.000    1.921    0.000 _utils.py:5(_get_device_index)\n",
       "     1472    1.244    0.001    1.244    0.001 {built-in method _pickle.load}\n",
       "  1720200    1.241    0.000    1.241    0.000 {method 'get_device' of 'torch._C._TensorBase' objects}\n",
       "      720    1.177    0.002    1.177    0.002 {method 'update' of '_hashlib.HASH' objects}\n",
       "   621472    1.177    0.000    1.469    0.000 <frozen importlib._bootstrap>:78(acquire)\n",
       "     7320    1.169    0.000    3.278    0.000 replicate.py:12(<dictcomp>)\n",
       "   620835    1.137    0.000    1.786    0.000 <frozen importlib._bootstrap>:58(__init__)\n",
       "139812/366    1.090    0.000    7.573    0.021 module.py:185(_apply)\n",
       "    73200    1.067    0.000    1.224    0.000 thops.py:47(split_feature)\n",
       "  1698240    1.014    0.000    1.014    0.000 _functions.py:54(<lambda>)\n",
       "   621472    1.013    0.000    1.286    0.000 <frozen importlib._bootstrap>:103(release)\n",
       "    91897    1.010    0.000    1.010    0.000 {built-in method zeros}\n",
       "  1800720    0.981    0.000    0.981    0.000 _functions.py:13(<genexpr>)\n",
       "     7320    0.969    0.000    0.969    0.000 {built-in method logsumexp}\n",
       "    35966    0.924    0.000   14.506    0.000 conv.py:17(__init__)\n",
       "    63124    0.908    0.000    1.202    0.000 init.py:178(_calculate_fan_in_and_fan_out)\n",
       "  1789176    0.878    0.000    0.878    0.000 {method 'dim' of 'torch._C._TensorBase' objects}\n",
       "   424560    0.866    0.000   49.313    0.000 comm.py:151(gather)\n",
       "   827160    0.799    0.000   39.302    0.000 module.py:856(named_buffers)\n",
       "   827160    0.784    0.000   40.086    0.000 module.py:834(buffers)\n",
       "149694/366    0.776    0.000   57.333    0.157 module.py:746(load)\n",
       "    73200    0.765    0.000   19.130    0.000 modules.py:277(logp)\n",
       "  1308315    0.754    0.000    0.754    0.000 {built-in method _thread.allocate_lock}\n",
       "    98892    0.745    0.000    0.745    0.000 {built-in method tensor}\n",
       "   310628    0.727    0.000    4.030    0.000 <frozen importlib._bootstrap>:194(_lock_unlock_module)\n",
       "   559277    0.722    0.000    0.975    0.000 module.py:891(named_children)\n",
       "      366    0.686    0.002  222.389    0.608 serialization.py:385(_load)\n",
       "    73200    0.681    0.000    5.101    0.000 thops.py:4(onehot)\n",
       "  1156534    0.655    0.000    0.655    0.000 {method 'split' of 'str' objects}\n",
       "   310003    0.647    0.000   16.436    0.000 __init__.py:108(import_module)\n",
       "   559277    0.622    0.000    1.597    0.000 module.py:882(children)\n",
       "   620004    0.618    0.000    0.962    0.000 serialization.py:502(maybe_decode_ascii)\n",
       "  1302249    0.613    0.000    0.613    0.000 {built-in method _thread.get_ident}\n",
       "   310844    0.584    0.000    4.249    0.000 <frozen importlib._bootstrap>:147(__enter__)\n",
       "  1245026    0.577    0.000    0.577    0.000 {built-in method _imp.release_lock}\n",
       "  1245026    0.575    0.000    0.575    0.000 {built-in method _imp.acquire_lock}\n",
       "310004/310003    0.565    0.000   15.485    0.000 <frozen importlib._bootstrap>:982(_gcd_import)\n",
       "      662    0.555    0.001    0.555    0.001 {built-in method io.open}\n",
       "    73200    0.555    0.000    2.900    0.000 thops.py:15(sum)\n",
       "     7320    0.548    0.000    1.526    0.000 replicate.py:19(<dictcomp>)\n",
       "    73200    0.500    0.000    4.726    0.000 functional.py:1335(linear)\n",
       "   207103    0.484    0.000    0.804    0.000 abc.py:180(__instancecheck__)\n",
       "   310002    0.481    0.000   20.929    0.000 _utils.py:134(_rebuild_tensor_v2)\n",
       "    73200    0.458    0.000    0.458    0.000 {method 'unsqueeze' of 'torch._C._TensorBase' objects}\n",
       "     8072    0.452    0.000    0.452    0.000 {method 'reduce' of 'numpy.ufunc' objects}\n",
       "    73200    0.451    0.000    0.451    0.000 {method 't' of 'torch._C._TensorBase' objects}\n",
       "139812/366    0.442    0.000    2.048    0.006 module.py:976(train)\n",
       "     7320    0.420    0.000 39780.248    5.434 parallel_apply.py:21(parallel_apply)\n",
       "    35966    0.388    0.000    7.998    0.000 conv.py:45(reset_parameters)\n",
       "   310002    0.382    0.000    0.529    0.000 serialization.py:401(restore_location)\n",
       "    29653    0.381    0.000   13.758    0.000 threading.py:263(wait)\n",
       "   310844    0.376    0.000    1.047    0.000 <frozen importlib._bootstrap>:151(__exit__)\n",
       "    73200    0.375    0.000    5.232    0.000 linear.py:65(forward)\n",
       "        1    0.374    0.374    0.374    0.374 {built-in method caffe2.python.caffe2_pybind11_state_gpu.num_cuda_devices}\n",
       "     7320    0.365    0.000    0.365    0.000 {built-in method cat}\n",
       "   310004    0.362    0.000    0.508    0.000 <frozen importlib._bootstrap>:917(_sanity_check)\n",
       "    73200    0.361    0.000    0.361    0.000 {method 'squeeze_' of 'torch._C._TensorBase' objects}\n",
       "     7320    0.355    0.000    0.826    0.000 train_misc.py:10(standard_normal_logprob)\n",
       "     6006    0.332    0.000    0.332    0.000 {built-in method posix.stat}\n",
       "   100193    0.326    0.000    0.984    0.000 module.py:122(register_parameter)\n",
       "     7320    0.320    0.000   30.230    0.004 _functions.py:11(forward)\n",
       "    36700    0.315    0.000    6.836    0.000 init.py:261(kaiming_uniform_)\n",
       "   395186    0.315    0.000    0.315    0.000 _weakrefset.py:70(__contains__)\n",
       "   179830    0.313    0.000    1.198    0.000 utils.py:6(parse)\n",
       "   149694    0.295    0.000    0.295    0.000 module.py:684(<dictcomp>)\n",
       "     7320    0.289    0.000    0.289    0.000 {method 'cpu' of 'torch._C._TensorBase' objects}\n",
       "    29283    0.288    0.000    0.777    0.000 threading.py:757(__init__)\n",
       "    10276    0.283    0.000    2.721    0.000 batchnorm.py:19(__init__)\n",
       "   311431    0.272    0.000    0.272    0.000 {method 'replace' of 'str' objects}\n",
       "   450546    0.261    0.000    0.261    0.000 {method 'values' of 'collections.OrderedDict' objects}\n",
       "     7320    0.258    0.000    0.258    0.000 {built-in method rsub}\n",
       "    32612    0.230    0.000 39762.603    1.219 threading.py:1062(_wait_for_tstate_lock)\n",
       "    29280    0.229    0.000 39762.968    1.358 threading.py:1024(join)\n",
       "     7320    0.227    0.000    0.227    0.000 _functions.py:28(<listcomp>)\n",
       "    29654    0.227    0.000   14.146    0.000 threading.py:533(wait)\n",
       "     5138    0.222    0.000   15.295    0.003 odefunc.py:99(__init__)\n",
       "   310844    0.221    0.000    0.221    0.000 <frozen importlib._bootstrap>:143(__init__)\n",
       "    35966    0.220    0.000   15.924    0.000 conv.py:307(__init__)\n",
       "    29283    0.220    0.000   15.762    0.001 threading.py:828(start)\n",
       "   189740    0.218    0.000    0.218    0.000 module.py:538(remove_from)\n",
       "    73200    0.205    0.000    0.205    0.000 {method 'detach' of 'torch._C._TensorBase' objects}\n",
       "    80520    0.201    0.000    0.201    0.000 {built-in method torch._C._get_tracing_state}\n",
       "      366    0.198    0.001  223.147    0.610 serialization.py:300(load)\n",
       "     7320    0.195    0.000 39780.545    5.435 data_parallel.py:152(parallel_apply)\n",
       "    37/34    0.186    0.005    0.193    0.006 {built-in method _imp.create_dynamic}\n",
       "    84042    0.184    0.000    0.276    0.000 grad_mode.py:31(__enter__)\n",
       "    36700    0.183    0.000    0.263    0.000 init.py:8(calculate_gain)\n",
       "      371    0.180    0.000    0.180    0.000 {method 'flush' of '_io.TextIOWrapper' objects}\n",
       "     5138    0.177    0.000   10.763    0.002 gate.py:9(__init__)\n",
       "    14640    0.170    0.000    9.014    0.001 _functions.py:80(forward)\n",
       "   188394    0.168    0.000    0.168    0.000 {method 'format' of 'str' objects}\n",
       "     7320    0.168    0.000 40459.305    5.527 data_parallel.py:136(forward)\n",
       "     7320    0.167    0.000  578.748    0.079 data_parallel.py:146(replicate)\n",
       "   130662    0.162    0.000    5.497    0.000 module.py:260(<lambda>)\n",
       "     7320    0.159    0.000    0.159    0.000 {method 'pow' of 'torch._C._TensorBase' objects}\n",
       "    84042    0.158    0.000    0.240    0.000 grad_mode.py:122(__init__)\n",
       "        1    0.158    0.158    0.158    0.158 {built-in method numpy.core.multiarray.concatenate}\n",
       "    84042    0.156    0.000    0.397    0.000 grad_mode.py:35(__exit__)\n",
       "    29661    0.151    0.000    0.151    0.000 threading.py:215(__init__)\n",
       "   310002    0.147    0.000    0.147    0.000 train_cnf_disentangle_rl.py:671(<lambda>)\n",
       "    20552    0.145    0.000   13.336    0.001 basic.py:152(__init__)\n",
       "21960/7320    0.143    0.000    9.378    0.001 scatter_gather.py:11(scatter_map)\n",
       "    36700    0.141    0.000    0.565    0.000 init.py:50(uniform_)\n",
       "    89917    0.138    0.000    0.268    0.000 parameter.py:23(__new__)\n",
       "     5138    0.138    0.000   12.306    0.002 cnf_gate.py:21(__init__)\n",
       "    58934    0.136    0.000    0.184    0.000 threading.py:1230(current_thread)\n",
       "     7320    0.133    0.000   16.457    0.002 dataloader.py:232(<listcomp>)\n",
       "    73271    0.133    0.000    0.186    0.000 {built-in method builtins.sorted}\n",
       "    89917    0.130    0.000    0.130    0.000 {built-in method _make_subclass}\n",
       "      769    0.129    0.000    4.300    0.006 <frozen importlib._bootstrap_external>:830(get_data)\n",
       "       60    0.124    0.002    0.374    0.006 afm.py:190(_parse_char_metrics)\n",
       "    41104    0.121    0.000    0.375    0.000 module.py:87(register_buffer)\n",
       "     7320    0.116    0.000    0.130    0.000 replicate.py:15(<listcomp>)\n",
       "    44040    0.111    0.000    0.362    0.000 module.py:161(add_module)\n",
       "    36700    0.109    0.000    0.906    0.000 init.py:251(_calculate_correct_fan)\n",
       "   173224    0.106    0.000    0.106    0.000 {built-in method math.sqrt}\n",
       "    32296    0.102    0.000    0.102    0.000 {method 'zero_' of 'torch._C._TensorBase' objects}\n",
       "   175404    0.101    0.000    0.101    0.000 {built-in method torch._C.is_grad_enabled}\n",
       "      767    0.100    0.000    0.100    0.000 {built-in method marshal.loads}\n",
       "     7687    0.099    0.000    0.577    0.000 fromnumeric.py:64(_wrapreduction)\n",
       "     7320    0.098    0.000    0.875    0.000 parallel_apply.py:67(<listcomp>)\n",
       "     7320    0.097    0.000    9.542    0.001 scatter_gather.py:33(scatter_kwargs)\n",
       "    62146    0.097    0.000    0.097    0.000 {method 'numel' of 'torch._C._TensorBase' objects}\n",
       "    29280    0.097    0.000    0.117    0.000 threading.py:966(_stop)\n",
       "    73200    0.093    0.000    0.093    0.000 modules.py:280(<listcomp>)\n",
       "       46    0.092    0.002    0.208    0.005 afm.py:242(_parse_kern_pairs)\n",
       "    29655    0.092    0.000    0.265    0.000 threading.py:498(__init__)\n",
       "    12111    0.091    0.000    0.546    0.000 container.py:187(extend)\n",
       "   168084    0.083    0.000    0.083    0.000 {built-in method torch._C.set_grad_enabled}\n",
       "   158804    0.078    0.000    0.078    0.000 {method 'items' of 'dict' objects}\n",
       "    58560    0.078    0.000    0.248    0.000 _functions.py:82(<lambda>)\n",
       "    71255    0.077    0.000    0.127    0.000 afm.py:221(<genexpr>)\n",
       "    30021    0.075    0.000    0.127    0.000 threading.py:254(_is_owned)\n",
       "      375    0.075    0.000    0.075    0.000 {method 'close' of '_io.BufferedReader' objects}\n",
       "    29280    0.073    0.000    0.096    0.000 _weakrefset.py:38(_remove)\n",
       "    10276    0.070    0.000    0.203    0.000 batchnorm.py:43(reset_running_stats)\n",
       "    10276    0.069    0.000    0.591    0.000 batchnorm.py:49(reset_parameters)\n",
       "    30022    0.065    0.000    0.099    0.000 threading.py:239(__enter__)\n",
       "     2961    0.064    0.000    0.064    0.000 socket.py:334(send)\n",
       "    29828    0.063    0.000    0.084    0.000 _weakrefset.py:81(add)\n",
       "     5138    0.061    0.000    0.061    0.000 {built-in method sqrt}\n",
       "    14640    0.058    0.000    8.584    0.001 comm.py:131(scatter)\n",
       "    70510    0.054    0.000    0.087    0.000 afm.py:61(_to_str)\n",
       "    29283    0.054    0.000    0.054    0.000 threading.py:727(_newname)\n",
       "    59301    0.053    0.000    0.053    0.000 {method 'release' of '_thread.lock' objects}\n",
       "    61897    0.052    0.000    0.052    0.000 threading.py:506(is_set)\n",
       "    10248    0.052    0.000    4.206    0.000 batchnorm.py:82(_load_from_state_dict)\n",
       "      424    0.052    0.000    0.052    0.000 {built-in method posix.listdir}\n",
       "     5138    0.052    0.000    0.689    0.000 odefunc_rl.py:257(__init__)\n",
       "    10276    0.050    0.000    0.050    0.000 {built-in method ones}\n",
       "    14640    0.050    0.000   40.303    0.003 comm.py:24(broadcast_coalesced)\n",
       "    29653    0.049    0.000    0.077    0.000 threading.py:251(_acquire_restore)\n",
       "    73200    0.048    0.000    0.048    0.000 __init__.py:1408(_unwrap_optional)\n",
       "    21453    0.048    0.000    0.073    0.000 copy.py:66(copy)\n",
       "     7320    0.047    0.000    4.851    0.001 train_cnf_disentangle_rl.py:623(<lambda>)\n",
       "    30022    0.047    0.000    0.065    0.000 threading.py:242(__exit__)\n",
       "     7687    0.046    0.000    0.623    0.000 fromnumeric.py:2478(prod)\n",
       "    10278    0.043    0.000    0.925    0.000 activation.py:41(__init__)\n",
       "    29653    0.042    0.000    0.060    0.000 threading.py:248(_release_save)\n",
       "    63124    0.042    0.000    0.042    0.000 {method 'ndimension' of 'torch._C._TensorBase' objects}\n",
       "    12111    0.042    0.000    1.434    0.000 container.py:119(__init__)\n",
       "    29280    0.041    0.000    0.132    0.000 parallel_apply.py:45(<lambda>)\n",
       "     9578    0.040    0.000    0.056    0.000 <frozen importlib._bootstrap>:416(parent)\n",
       "2294/2227    0.038    0.000    0.161    0.000 {built-in method builtins.__build_class__}\n",
       "    29280    0.038    0.000    0.121    0.000 replicate.py:8(<lambda>)\n",
       "     7320    0.037    0.000   90.246    0.012 data_parallel.py:155(gather)\n",
       "     1468    0.037    0.000   28.758    0.020 odenvp_conditional_rl.py:194(__init__)\n",
       "    10276    0.036    0.000    0.129    0.000 init.py:113(zeros_)\n",
       "    29280    0.036    0.000    0.123    0.000 _functions.py:15(<lambda>)\n",
       "    10276    0.036    0.000    0.036    0.000 {method 'fill_' of 'torch._C._TensorBase' objects}\n",
       "     7320    0.035    0.000    0.293    0.000 tensor.py:348(__rsub__)\n",
       "        1    0.035    0.035    7.587    7.587 train_cnf_disentangle_rl.py:349(get_dataset)\n",
       "     7320    0.035    0.000    0.035    0.000 {method 'numpy' of 'torch._C._TensorBase' objects}\n",
       "    71225    0.035    0.000    0.035    0.000 {method 'decode' of 'bytes' objects}\n",
       "     5138    0.034    0.000    0.743    0.000 pooling.py:14(__init__)\n",
       "    32981    0.034    0.000    0.034    0.000 {method 'append' of 'collections.deque' objects}\n",
       "    30022    0.034    0.000    0.034    0.000 {method '__enter__' of '_thread.lock' objects}\n",
       "    10276    0.032    0.000    2.964    0.000 gate.py:115(conv3x3)\n",
       "     7320    0.030    0.000   90.209    0.012 scatter_gather.py:46(gather)\n",
       "     5138    0.030    0.000   16.015    0.003 odenvp_conditional_rl.py:209(_make_odefunc)\n",
       "    74601    0.030    0.000    0.030    0.000 {method 'strip' of 'str' objects}\n",
       "      366    0.027    0.000    0.027    0.000 {method 'random_' of 'torch._C._TensorBase' objects}\n",
       "     7320    0.027    0.000    9.406    0.001 scatter_gather.py:5(scatter)\n",
       "    42799    0.027    0.000    0.027    0.000 {method 'lower' of 'str' objects}\n",
       "    29283    0.027    0.000    0.027    0.000 threading.py:1120(daemon)\n",
       "     7320    0.027    0.000    9.569    0.001 data_parallel.py:149(scatter)\n",
       "     7320    0.026    0.000    0.026    0.000 {method 'type' of 'torch._C._TensorBase' objects}\n",
       "    10278    0.026    0.000    0.951    0.000 activation.py:81(__init__)\n",
       "        3    0.026    0.009    0.077    0.026 utils.py:70(parse_header)\n",
       "  942/229    0.024    0.000    0.083    0.000 sre_parse.py:470(_parse)\n",
       "      366    0.024    0.000    0.036    0.000 summary.py:105(scalar)\n",
       "    29280    0.024    0.000    0.024    0.000 {method 'discard' of 'set' objects}\n",
       "10708/8871    0.023    0.000    1.764    0.000 <frozen importlib._bootstrap>:997(_handle_fromlist)\n",
       "      367    0.023    0.000   29.354    0.080 odenvp_conditional_rl.py:21(__init__)\n",
       "    10248    0.022    0.000    0.022    0.000 {method '_set_from_file' of 'torch._C.LongStorageBase' objects}\n",
       "     2961    0.021    0.000    0.114    0.000 iostream.py:195(schedule)\n",
       "     8312    0.021    0.000    6.812    0.001 {built-in method builtins.next}\n",
       "    29280    0.020    0.000    0.020    0.000 {method 'locked' of '_thread.lock' objects}\n",
       "     1369    0.020    0.000    0.303    0.000 <frozen importlib._bootstrap_external>:1233(find_spec)\n",
       "    14228    0.020    0.000    0.044    0.000 afm.py:70(_to_list_of_floats)\n",
       "    15175    0.020    0.000    0.020    0.000 {method 'rpartition' of 'str' objects}\n",
       "    47165    0.020    0.000    0.020    0.000 {method 'rstrip' of 'bytes' objects}\n",
       "        4    0.020    0.005    0.020    0.005 {built-in method posix.pipe}\n",
       "      507    0.020    0.000    0.020    0.000 glob.py:114(_iterdir)\n",
       "     5138    0.019    0.000    0.457    0.000 cnf_regularization_rl.py:6(__init__)\n",
       "    30022    0.018    0.000    0.018    0.000 {method '__exit__' of '_thread.lock' objects}\n",
       "    12111    0.018    0.000    0.564    0.000 container.py:159(__iadd__)\n",
       "    37209    0.018    0.000    0.018    0.000 {method 'split' of 'bytes' objects}\n",
       "     7322    0.018    0.000    0.018    0.000 {built-in method math.log}\n",
       "      366    0.017    0.000    0.059    0.000 dataloader.py:518(__init__)\n",
       "      734    0.017    0.000    0.316    0.000 linear.py:47(__init__)\n",
       " 1862/220    0.017    0.000    0.066    0.000 sre_compile.py:64(_compile)\n",
       "    14228    0.017    0.000    0.017    0.000 afm.py:71(<listcomp>)\n",
       "     7320    0.017    0.000    0.017    0.000 {method 'nelement' of 'torch._C._TensorBase' objects}\n",
       "      371    0.016    0.000    0.032    0.000 __init__.py:251(__init__)\n",
       "      367    0.016    0.000   28.850    0.079 odenvp_conditional_rl.py:65(_build_net)\n",
       "     7320    0.015    0.000    0.015    0.000 function.py:45(mark_non_differentiable)\n",
       "    12111    0.015    0.000    0.021    0.000 container.py:153(__len__)\n",
       "     9309    0.015    0.000    0.043    0.000 <frozen importlib._bootstrap_external>:57(_path_join)\n",
       "     5138    0.014    0.000    0.386    0.000 pooling.py:940(__init__)\n",
       "     9309    0.014    0.000    0.023    0.000 <frozen importlib._bootstrap_external>:59(<listcomp>)\n",
       "     2573    0.014    0.000    0.014    0.000 {built-in method torch._C._cuda_isDriverSufficient}\n",
       "    31550    0.014    0.000    0.014    0.000 {method 'startswith' of 'bytes' objects}\n",
       "     1479    0.014    0.000    0.119    0.000 iostream.py:382(write)\n",
       "       35    0.014    0.000    0.027    0.001 afm.py:282(_parse_composites)\n",
       "      366    0.013    0.000    0.013    0.000 {method 'item' of 'torch._C._TensorBase' objects}\n",
       "      366    0.013    0.000    0.029    0.000 _methods.py:58(_mean)\n",
       "    15914    0.013    0.000    0.022    0.000 sre_parse.py:253(get)\n",
       "    798/1    0.013    0.000 42099.497 42099.497 {built-in method builtins.exec}\n",
       "    27720    0.012    0.000    0.012    0.000 {method 'rstrip' of 'str' objects}\n",
       "     1528    0.012    0.000    0.029    0.000 version.py:198(__init__)\n",
       "      734    0.012    0.000    0.359    0.000 modules.py:96(__init__)\n",
       "      366    0.012    0.000    0.120    0.000 writer.py:344(add_scalars)\n",
       "    16642    0.012    0.000    0.012    0.000 afm.py:54(_to_int)\n",
       "     2243    0.012    0.000    0.020    0.000 posixpath.py:75(join)\n",
       "     1101    0.012    0.000   12.354    0.011 odenvp_conditional_rl.py:221(<listcomp>)\n",
       "     7320    0.012    0.000    0.012    0.000 scatter_gather.py:40(<listcomp>)\n",
       "     7320    0.012    0.000    0.012    0.000 replicate.py:69(<listcomp>)\n",
       "    11539    0.011    0.000    0.020    0.000 enum.py:267(__call__)\n",
       "     7320    0.011    0.000    0.011    0.000 replicate.py:23(<listcomp>)\n",
       "     3332    0.011    0.000    0.024    0.000 threading.py:1104(is_alive)\n",
       "      366    0.011    0.000    0.126    0.000 data_parallel.py:113(__init__)\n",
       "14228/3586    0.011    0.000    0.030    0.000 encoder.py:412(_iterencode)\n",
       "      366    0.011    0.000   59.102    0.161 tarfile.py:1411(__init__)\n",
       "    17903    0.011    0.000    0.011    0.000 sre_parse.py:232(__next)\n",
       "      969    0.011    0.000    0.036    0.000 inspect.py:2100(_signature_from_function)\n",
       "13833/13757    0.010    0.000    0.013    0.000 {method 'join' of 'str' objects}\n",
       "      367    0.009    0.000   29.364    0.080 train_cnf_disentangle_rl.py:537(create_model)\n",
       "     4225    0.009    0.000    0.025    0.000 enum.py:803(__and__)\n",
       "      528    0.009    0.000    0.015    0.000 posixpath.py:331(normpath)\n",
       "     1601    0.009    0.000    0.009    0.000 {built-in method numpy.core.multiarray.array}\n",
       "      768    0.009    0.000    0.013    0.000 <frozen importlib._bootstrap_external>:430(_validate_bytecode_header)\n",
       "      734    0.009    0.000    0.213    0.000 linear.py:58(reset_parameters)\n",
       "    14228    0.009    0.000    0.009    0.000 {method 'issubset' of 'set' objects}\n",
       "        2    0.008    0.004    0.008    0.004 {built-in method builtins.compile}\n",
       "      831    0.008    0.000    0.308    0.000 <frozen importlib._bootstrap>:870(_find_spec)\n",
       "        2    0.008    0.004    0.634    0.317 font_manager.py:464(createFontList)\n",
       "     2572    0.008    0.000    0.026    0.000 __init__.py:45(is_available)\n",
       "     3828    0.008    0.000    0.022    0.000 {built-in method builtins.any}\n",
       "    11537    0.008    0.000    0.008    0.000 enum.py:517(__new__)\n",
       "      366    0.008    0.000    0.017    0.000 writer.py:303(__append_to_scalar_dict)\n",
       "     7567    0.008    0.000    0.011    0.000 sre_parse.py:163(__getitem__)\n",
       "    10776    0.008    0.000    0.011    0.000 mathtext.py:2739(<genexpr>)\n",
       "      768    0.008    0.000    4.482    0.006 <frozen importlib._bootstrap_external>:743(get_code)\n",
       "     1536    0.007    0.000    0.023    0.000 <frozen importlib._bootstrap_external>:263(cache_from_source)\n",
       "     1468    0.007    0.000    0.301    0.000 container_gate.py:8(__init__)\n",
       "     2417    0.007    0.000    0.007    0.000 {method 'search' of '_sre.SRE_Pattern' objects}\n",
       "     8014    0.007    0.000    0.008    0.000 {method 'extend' of 'list' objects}\n",
       "      366    0.007    0.000    0.011    0.000 tarfile.py:174(nti)\n",
       "     2569    0.007    0.000    0.014    0.000 inspect.py:2450(__init__)\n",
       "     1081    0.007    0.000    0.007    0.000 {method 'sub' of '_sre.SRE_Pattern' objects}\n",
       "      742    0.007    0.000    0.604    0.001 __init__.py:982(emit)\n",
       "      367    0.007    0.000    0.024    0.000 queue.py:115(put)\n",
       "2952/1326    0.007    0.000    0.009    0.000 sre_parse.py:173(getwidth)\n",
       "        1    0.007    0.007    0.007    0.007 {built-in method torch._C._cuda_init}\n",
       "      576    0.007    0.000    0.035    0.000 inspect.py:1087(getfullargspec)\n",
       "      807    0.007    0.000    0.029    0.000 <frozen importlib._bootstrap>:504(_init_module_attrs)\n",
       "     1472    0.006    0.000    0.006    0.000 {built-in method torch.cuda._get_device_properties}\n",
       "      367    0.006    0.000    0.038    0.000 writer.py:82(add_summary)\n",
       "      621    0.006    0.000    0.011    0.000 sre_compile.py:250(_optimize_charset)\n",
       "      366    0.006    0.000   59.060    0.161 tarfile.py:2276(next)\n",
       "     9398    0.006    0.000    0.006    0.000 {built-in method posix.fspath}\n",
       "        2    0.006    0.003    0.006    0.003 {built-in method posix.read}\n",
       "      742    0.006    0.000    0.503    0.001 __init__.py:971(flush)\n",
       "      371    0.006    0.000    0.011    0.000 __init__.py:1376(findCaller)\n",
       "       24    0.006    0.000    7.080    0.295 utils.py:16(check_integrity)\n",
       "     1890    0.006    0.000    0.006    0.000 {method 'tell' of '_io.BufferedReader' objects}\n",
       "       27    0.006    0.000    0.031    0.001 __init__.py:978(_rc_params_in_file)\n",
       "7138/3586    0.006    0.000    0.025    0.000 encoder.py:333(_iterencode_dict)\n",
       "   820/16    0.006    0.000    6.999    0.437 <frozen importlib._bootstrap>:651(_load_unlocked)\n",
       "      732    0.006    0.000    0.016    0.000 data_parallel.py:20(warn_imbalance)\n",
       "      105    0.006    0.000    0.013    0.000 <frozen importlib._bootstrap_external>:1067(_path_hooks)\n",
       "        2    0.006    0.003    0.006    0.003 {built-in method _posixsubprocess.fork_exec}\n",
       "    818/2    0.006    0.000    0.017    0.008 module.py:1024(__repr__)\n",
       "        1    0.005    0.005    0.005    0.005 {method 'dot' of 'numpy.ndarray' objects}\n",
       "      371    0.005    0.000    0.312    0.001 iostream.py:334(flush)\n",
       "     1008    0.005    0.000    0.010    0.000 inspect.py:2730(__init__)\n",
       "     5128    0.005    0.000    0.236    0.000 <frozen importlib._bootstrap_external>:75(_path_stat)\n",
       "     3312    0.005    0.000    0.009    0.000 version.py:114(_parse_version_parts)\n",
       "     8172    0.005    0.000    0.005    0.000 <frozen importlib._bootstrap>:222(_verbose_message)\n",
       "     5540    0.005    0.000    0.005    0.000 {built-in method builtins.min}\n",
       "   842/14    0.005    0.000    7.047    0.503 <frozen importlib._bootstrap>:936(_find_and_load_unlocked)\n",
       "      760    0.005    0.000    0.016    0.000 version.py:131(_legacy_cmpkey)\n",
       "     2961    0.005    0.000    0.005    0.000 iostream.py:93(_event_pipe)\n",
       "1472/1464    0.005    0.000    0.031    0.000 __init__.py:296(get_device_properties)\n",
       "      969    0.005    0.000    0.046    0.000 inspect.py:2181(_signature_from_callable)\n",
       "      514    0.005    0.000    0.031    0.000 posixpath.py:369(abspath)\n",
       "      366    0.005    0.000   57.385    0.157 module.py:723(load_state_dict)\n",
       "      366    0.005    0.000    0.018    0.000 tarfile.py:1024(frombuf)\n",
       "     4080    0.005    0.000    0.007    0.000 posixpath.py:41(_get_sep)\n",
       "     3814    0.005    0.000    0.007    0.000 utils.py:51(add_argument)\n",
       "     2620    0.005    0.000    0.175    0.000 re.py:286(_compile)\n",
       "      371    0.005    0.000    0.620    0.002 __init__.py:1500(callHandlers)\n",
       "       12    0.005    0.000    0.040    0.003 artist.py:1179(_get_setters_and_targets)\n",
       "      366    0.004    0.000   59.053    0.161 tarfile.py:1087(fromtarfile)\n",
       "  539/173    0.004    0.000    0.014    0.000 abc.py:196(__subclasscheck__)\n",
       "      732    0.004    0.000    0.010    0.000 x2num.py:10(make_np)\n",
       "      742    0.004    0.000    0.031    0.000 __init__.py:564(format)\n",
       "     3740    0.004    0.000    0.007    0.000 version.py:65(_compare)\n",
       "     3488    0.004    0.000    0.007    0.000 utils.py:79(<lambda>)\n",
       "      366    0.004    0.000    0.060    0.000 data_parallel.py:11(_check_balance)\n",
       "      366    0.004    0.000   59.110    0.162 tarfile.py:1522(open)\n",
       "      742    0.004    0.000    0.615    0.001 __init__.py:852(handle)\n",
       "     3488    0.004    0.000    0.007    0.000 utils.py:81(<lambda>)\n",
       "       26    0.004    0.000    0.005    0.000 {method 'readlines' of '_io._IOBase' objects}\n",
       "  832/831    0.004    0.000    0.290    0.000 <frozen importlib._bootstrap_external>:1117(_get_spec)\n",
       "     1479    0.004    0.000    0.005    0.000 iostream.py:307(_is_master_process)\n",
       "     5386    0.004    0.000    0.005    0.000 {built-in method builtins.setattr}\n",
       "     2990    0.004    0.000    0.109    0.000 <frozen importlib._bootstrap_external>:85(_path_is_mode_type)\n",
       "     8709    0.004    0.000    0.004    0.000 {method 'group' of '_sre.SRE_Match' objects}\n",
       "      768    0.004    0.000    0.005    0.000 version.py:343(_cmpkey)\n",
       "      366    0.004    0.000    0.033    0.000 fromnumeric.py:2817(mean)\n",
       "     1479    0.004    0.000    0.025    0.000 iostream.py:320(_schedule_flush)\n",
       "      368    0.004    0.000    0.063    0.000 {built-in method builtins.print}\n",
       "     1101    0.004    0.000    0.084    0.000 squeeze.py:7(__init__)\n",
       "  691/220    0.004    0.000    0.084    0.000 sre_parse.py:407(_parse_sub)\n",
       "      371    0.004    0.000    0.671    0.002 __init__.py:1421(_log)\n",
       "     1007    0.004    0.000    0.008    0.000 posixpath.py:121(splitext)\n",
       "      368    0.004    0.000    0.011    0.000 threading.py:334(notify)\n",
       "      367    0.004    0.000    0.030    0.000 writer.py:137(_add_event)\n",
       "       60    0.003    0.000    0.007    0.000 afm.py:103(_parse_header)\n",
       "     4226    0.003    0.000    0.005    0.000 utils.py:92(<lambda>)\n",
       "      767    0.003    0.000    0.106    0.000 <frozen importlib._bootstrap_external>:485(_compile_bytecode)\n",
       "        1    0.003    0.003    0.015    0.015 {built-in method torch._C._initExtension}\n",
       "      818    0.003    0.000    0.003    0.000 {method 'seek' of '_io.BufferedReader' objects}\n",
       "      366    0.003    0.000   59.113    0.162 serialization.py:448(legacy_load)\n",
       "     1839    0.003    0.000    0.011    0.000 __init__.py:331(device_count)\n",
       "      367    0.003    0.000    0.027    0.000 event_file_writer.py:131(add_event)\n",
       "      718    0.003    0.000    0.006    0.000 posixpath.py:144(basename)\n",
       "     1484    0.003    0.000    0.005    0.000 __init__.py:809(acquire)\n",
       "      371    0.003    0.000    0.677    0.002 __init__.py:1298(info)\n",
       "        1    0.003    0.003    0.035    0.035 __init__.py:120(dump)\n",
       "      807    0.003    0.000    0.005    0.000 <frozen importlib._bootstrap_external>:524(spec_from_file_location)\n",
       "     4327    0.003    0.000    0.003    0.000 {method 'write' of '_io.TextIOWrapper' objects}\n",
       "     3614    0.003    0.000    0.003    0.000 {method 'rfind' of 'str' objects}\n",
       "     1799    0.003    0.000    0.029    0.000 __init__.py:829(__setitem__)\n",
       "     2128    0.003    0.000    0.005    0.000 __init__.py:1972(dist_factory)\n",
       "     5138    0.003    0.000    0.003    0.000 copy.py:111(_copy_immutable)\n",
       "     2798    0.003    0.000    0.003    0.000 {method 'match' of '_sre.SRE_Pattern' objects}\n",
       "     3499    0.003    0.000    0.004    0.000 inspect.py:2779(<genexpr>)\n",
       "      366    0.003    0.000    0.003    0.000 _methods.py:48(_count_reduce_items)\n",
       "     4903    0.003    0.000    0.004    0.000 sre_parse.py:248(match)\n",
       "     3534    0.003    0.000    0.022    0.000 encoder.py:277(_iterencode_list)\n",
       "     3830    0.003    0.000    0.004    0.000 utils.py:75(<lambda>)\n",
       "      807    0.003    0.000    0.007    0.000 <frozen importlib._bootstrap>:318(__exit__)\n",
       "      732    0.003    0.000    0.008    0.000 data_parallel.py:21(<listcomp>)\n",
       "      443    0.003    0.000    0.006    0.000 pathlib.py:51(parse_parts)\n",
       "   768/15    0.003    0.000    6.998    0.467 <frozen importlib._bootstrap_external>:672(exec_module)\n",
       "  807/801    0.003    0.000    0.227    0.000 <frozen importlib._bootstrap>:564(module_from_spec)\n",
       "     1007    0.003    0.000    0.004    0.000 genericpath.py:117(_splitext)\n",
       "     1464    0.003    0.000    0.003    0.000 data_parallel.py:29(<lambda>)\n",
       "      313    0.003    0.000    0.005    0.000 functools.py:44(update_wrapper)\n",
       "     3170    0.003    0.000    0.004    0.000 sre_parse.py:171(append)\n",
       "     1537    0.003    0.000    0.004    0.000 <frozen importlib._bootstrap_external>:63(_path_split)\n",
       "     3488    0.003    0.000    0.004    0.000 utils.py:83(<lambda>)\n",
       "     2595    0.003    0.000    0.104    0.000 <frozen importlib._bootstrap_external>:94(_path_isfile)\n",
       "     3488    0.003    0.000    0.004    0.000 utils.py:77(<lambda>)\n",
       "     3814    0.003    0.000    0.003    0.000 utils.py:61(__init__)\n",
       "      373    0.003    0.000    0.006    0.000 colors.py:184(_to_rgba_no_colorcycle)\n",
       "     1484    0.003    0.000    0.004    0.000 __init__.py:816(release)\n",
       "      320    0.003    0.000    0.047    0.000 __init__.py:2481(from_location)\n",
       "      628    0.003    0.000    0.063    0.000 __init__.py:2027(distributions_from_metadata)\n",
       "      367    0.002    0.000    0.003    0.000 odenvp_conditional_rl.py:113(calc_output_size)\n",
       "     4411    0.002    0.000    0.002    0.000 {built-in method torch._C._cuda_getDeviceCount}\n",
       "      366    0.002    0.000    0.006    0.000 summary.py:64(_clean_tag)\n",
       "     2552    0.002    0.000    0.004    0.000 <frozen importlib._bootstrap>:847(__exit__)\n",
       "      406    0.002    0.000    0.002    0.000 {built-in method posix.getcwd}\n",
       "      366    0.002    0.000    0.002    0.000 serialization.py:149(_is_compressed_file)\n",
       "     2425    0.002    0.000    0.003    0.000 sre_parse.py:285(tell)\n",
       "      366    0.002    0.000    0.034    0.000 data_parallel.py:18(<listcomp>)\n",
       "3492/2197    0.002    0.000    0.016    0.000 {built-in method builtins.issubclass}\n",
       "     2914    0.002    0.000    0.003    0.000 sre_parse.py:159(__len__)\n",
       "      900    0.002    0.000    0.005    0.000 copy.py:268(_reconstruct)\n",
       "      366    0.002    0.000   59.104    0.161 tarfile.py:1613(taropen)\n",
       "      805    0.002    0.000    0.015    0.000 <frozen importlib._bootstrap_external>:361(_get_cached)\n",
       "     2552    0.002    0.000    0.003    0.000 <frozen importlib._bootstrap>:843(__enter__)\n",
       "      366    0.002    0.000    0.061    0.000 dataloader.py:818(__iter__)\n",
       "      742    0.002    0.000    0.033    0.000 __init__.py:829(format)\n",
       "      621    0.002    0.000    0.015    0.000 sre_compile.py:223(_compile_charset)\n",
       "     1464    0.002    0.000    0.008    0.000 data_parallel.py:128(<lambda>)\n",
       "     1144    0.002    0.000    0.004    0.000 _weakrefset.py:58(__iter__)\n",
       "      807    0.002    0.000    0.008    0.000 <frozen importlib._bootstrap_external>:1228(_get_spec)\n",
       "      742    0.002    0.000    0.005    0.000 __init__.py:542(usesTime)\n",
       "      410    0.002    0.000    0.034    0.000 artist.py:1142(get_valid_values)\n",
       "       33    0.002    0.000    0.002    0.000 {built-in method builtins.dir}\n",
       "     3326    0.002    0.000    0.002    0.000 {method 'endswith' of 'str' objects}\n",
       "       64    0.002    0.000    0.011    0.000 colors.py:713(from_list)\n",
       "      366    0.002    0.000    0.005    0.000 serialization.py:157(_should_read_directly)\n",
       "      367    0.002    0.000    0.003    0.000 writer.py:204(get_logdir)\n",
       "      487    0.002    0.000    0.003    0.000 __init__.py:1544(isEnabledFor)\n",
       "      366    0.002    0.000    0.005    0.000 serialization.py:173(_check_seekable)\n",
       "      367    0.002    0.000    1.960    0.005 odenvp_conditional_rl.py:226(<listcomp>)\n",
       "      371    0.002    0.000    0.622    0.002 __init__.py:1446(handle)\n",
       "        1    0.002    0.002    0.002    0.002 {built-in method gc.collect}\n",
       "      352    0.002    0.000    0.005    0.000 inspect.py:2832(_hash_basis)\n",
       "      816    0.002    0.000    0.005    0.000 module.py:11(_addindent)\n",
       "      486    0.002    0.000    0.004    0.000 posixpath.py:154(dirname)\n",
       "     1076    0.002    0.000    0.032    0.000 version.py:24(parse)\n",
       "      320    0.002    0.000    0.005    0.000 __init__.py:683(add)\n",
       "       38    0.002    0.000    0.002    0.000 {method 'get_sfnt' of 'matplotlib.ft2font.FT2Font' objects}\n",
       "      366    0.002    0.000    0.006    0.000 sampler.py:33(__iter__)\n",
       "     2210    0.002    0.000    0.003    0.000 inspect.py:159(isfunction)\n",
       "     1464    0.002    0.000    0.002    0.000 data_parallel.py:31(<lambda>)\n",
       "      367    0.002    0.000    0.033    0.000 dropout.py:9(__init__)\n",
       "     2992    0.002    0.000    0.002    0.000 version.py:207(<genexpr>)\n",
       "      371    0.002    0.000    0.034    0.000 __init__.py:1406(makeRecord)\n",
       "     1018    0.002    0.000    0.002    0.000 {built-in method builtins.iter}\n",
       "       12    0.002    0.000    0.004    0.000 artist.py:1125(<listcomp>)\n",
       "     1536    0.002    0.000    0.005    0.000 colors.py:116(_is_nth_color)\n",
       "      528    0.002    0.000    0.004    0.000 posixpath.py:64(isabs)\n",
       "        1    0.002    0.002    0.003    0.003 packages.py:1(<module>)\n",
       "     4696    0.002    0.000    0.002    0.000 inspect.py:2500(name)\n",
       "      220    0.002    0.000    0.007    0.000 sre_compile.py:482(_compile_info)\n",
       "      742    0.002    0.000    0.003    0.000 __init__.py:387(usesTime)\n",
       "     1375    0.002    0.000    0.005    0.000 re.py:169(match)\n",
       "     1045    0.002    0.000    0.011    0.000 colors.py:150(to_rgba)\n",
       "     1464    0.002    0.000    0.006    0.000 data_parallel.py:17(<lambda>)\n",
       "      326    0.002    0.000    0.042    0.000 __init__.py:2094(_handle_ns)\n",
       "     1535    0.002    0.000    0.003    0.000 <frozen importlib._bootstrap_external>:52(_r_long)\n",
       "      742    0.002    0.000    0.002    0.000 __init__.py:390(format)\n",
       "      366    0.002    0.000    0.002    0.000 {method 'count' of 'bytes' objects}\n",
       "        2    0.002    0.001    7.552    3.776 cifar.py:49(__init__)\n",
       "      367    0.002    0.000    0.033    0.000 elemwise.py:32(__init__)\n",
       "      371    0.002    0.000    0.209    0.001 __init__.py:1063(emit)\n",
       "      330    0.002    0.000    0.006    0.000 __init__.py:1958(<genexpr>)\n",
       "       94    0.002    0.000    0.002    0.000 function.py:89(__init__)\n",
       "      144    0.002    0.000    0.002    0.000 {method 'splitlines' of 'str' objects}\n",
       "     1573    0.002    0.000    0.017    0.000 <frozen importlib._bootstrap>:403(cached)\n",
       "        1    0.002    0.002    0.027    0.027 binding.py:81(build_conditional_library)\n",
       "      395    0.002    0.000    0.003    0.000 posixpath.py:52(normcase)\n",
       "      691    0.002    0.000    0.018    0.000 __init__.py:2647(_get_metadata)\n",
       "     1854    0.002    0.000    0.002    0.000 {built-in method posix.getpid}\n",
       "      220    0.002    0.000    0.166    0.001 sre_compile.py:557(compile)\n",
       "      366    0.002    0.000    0.004    0.000 tarfile.py:166(nts)\n",
       "     1524    0.002    0.000    0.002    0.000 {method 'acquire' of '_thread.RLock' objects}\n",
       "     4076    0.002    0.000    0.002    0.000 inspect.py:2512(kind)\n",
       "       12    0.002    0.000    0.009    0.001 artist.py:1114(get_aliases)\n",
       "     3228    0.002    0.000    0.002    0.000 <frozen importlib._bootstrap>:321(<genexpr>)\n",
       "      150    0.002    0.000    0.026    0.000 utils.py:89(verify_interface)\n",
       "      366    0.002    0.000    0.002    0.000 writer.py:314(_check_caffe2)\n",
       "     4226    0.002    0.000    0.002    0.000 utils.py:94(<lambda>)\n",
       "     1113    0.002    0.000    0.002    0.000 __init__.py:705(filter)\n",
       "     1870    0.002    0.000    0.005    0.000 version.py:47(__lt__)\n",
       "     1468    0.002    0.000    0.002    0.000 odenvp_conditional_rl.py:204(<listcomp>)\n",
       "     3828    0.002    0.000    0.002    0.000 {method 'partition' of 'str' objects}\n",
       "      492    0.002    0.000    0.011    0.000 rcsetup.py:358(validate_color)\n",
       "      452    0.002    0.000    0.022    0.000 __init__.py:1323(safe_version)\n",
       "     1870    0.001    0.000    0.005    0.000 version.py:53(__eq__)\n",
       "      792    0.001    0.000    0.002    0.000 numeric.py:1927(isscalar)\n",
       "      452    0.001    0.000    0.004    0.000 version.py:236(__str__)\n",
       "     1135    0.001    0.000    0.001    0.000 <frozen importlib._bootstrap>:369(__init__)\n",
       "       16    0.001    0.000    0.001    0.000 {method 'AddSerializedFile' of 'google.protobuf.pyext._message.DescriptorPool' objects}\n",
       "     1862    0.001    0.000    0.001    0.000 sre_parse.py:111(__init__)\n",
       "     1511    0.001    0.000    0.001    0.000 {method 'find' of 'str' objects}\n",
       "     1592    0.001    0.000    0.002    0.000 artist.py:1225(is_alias)\n",
       "      805    0.001    0.000    0.003    0.000 sre_compile.py:388(_simple)\n",
       "      366    0.001    0.000    7.574    0.021 module.py:246(cuda)\n",
       "      441    0.001    0.000    0.008    0.000 pathlib.py:631(_parse_args)\n",
       "       57    0.001    0.000    7.583    0.133 __init__.py:1(<module>)\n",
       "      768    0.001    0.000    0.002    0.000 <frozen importlib._bootstrap_external>:393(_check_name_wrapper)\n",
       "       39    0.001    0.000    0.011    0.000 __init__.py:1638(param)\n",
       "      768    0.001    0.000    0.043    0.000 <frozen importlib._bootstrap_external>:840(path_stats)\n",
       "      831    0.001    0.000    0.291    0.000 <frozen importlib._bootstrap_external>:1149(find_spec)\n",
       "      956    0.001    0.000    0.002    0.000 __init__.py:2540(key)\n",
       "      342    0.001    0.000    0.131    0.000 __init__.py:1940(find_on_path)\n",
       "      781    0.001    0.000    0.001    0.000 {method 'split' of '_sre.SRE_Pattern' objects}\n",
       "      742    0.001    0.000    0.003    0.000 __init__.py:548(formatMessage)\n",
       "      767    0.001    0.000    0.001    0.000 {built-in method _imp._fix_co_filename}\n",
       "     1486    0.001    0.000    0.001    0.000 {method 'update' of 'dict' objects}\n",
       "     3512    0.001    0.000    0.001    0.000 {built-in method builtins.callable}\n",
       "     2892    0.001    0.000    0.001    0.000 {method 'isidentifier' of 'str' objects}\n",
       "      366    0.001    0.000    2.049    0.006 module.py:992(eval)\n",
       "      742    0.001    0.000    0.001    0.000 {built-in method time.time}\n",
       "     1092    0.001    0.000    0.014    0.000 <frozen importlib._bootstrap_external>:1080(_path_importer_cache)\n",
       "       50    0.001    0.000    0.014    0.000 traceback.py:319(extract)\n",
       "  1062/16    0.001    0.000    5.962    0.373 <frozen importlib._bootstrap>:211(_call_with_frames_removed)\n",
       "      742    0.001    0.000    0.018    0.000 __init__.py:329(getMessage)\n",
       "      366    0.001    0.000    0.002    0.000 cifar.py:128(__len__)\n",
       "      326    0.001    0.000    0.001    0.000 module.py:17(<listcomp>)\n",
       "      220    0.001    0.000    0.088    0.000 sre_parse.py:844(parse)\n",
       "     1478    0.001    0.000    0.001    0.000 {method 'lstrip' of 'str' objects}\n",
       "      518    0.001    0.000    0.001    0.000 _weakrefset.py:36(__init__)\n",
       "     3390    0.001    0.000    0.001    0.000 {built-in method builtins.ord}\n",
       "      744    0.001    0.000    5.766    0.008 utils.py:22(<lambda>)\n",
       "      770    0.001    0.000    0.001    0.000 <frozen importlib._bootstrap>:35(_new_module)\n",
       "     1535    0.001    0.000    0.001    0.000 {built-in method from_bytes}\n",
       "      486    0.001    0.000    0.007    0.000 numeric.py:504(asanyarray)\n",
       "      371    0.001    0.000    0.002    0.000 __init__.py:157(<lambda>)\n",
       "  959/151    0.001    0.000    0.016    0.000 {built-in method builtins.repr}\n",
       "       60    0.001    0.000    0.002    0.000 function_base.py:25(linspace)\n",
       "   260/11    0.001    0.000    0.005    0.000 pyparsing.py:1380(_parseNoCache)\n",
       "   535/56    0.001    0.000    1.895    0.034 {built-in method builtins.__import__}\n",
       "      367    0.001    0.000    0.002    0.000 queue.py:206(_put)\n",
       "       31    0.001    0.000    0.003    0.000 auto.py:107(_make_function_class)\n",
       "      748    0.001    0.000    0.002    0.000 __init__.py:2688(__getattr__)\n",
       "     1987    0.001    0.000    0.001    0.000 {built-in method sys.intern}\n",
       "       11    0.001    0.000    0.072    0.007 artist.py:1268(pprint_setters)\n",
       "       72    0.001    0.000    0.001    0.000 {built-in method posix.lstat}\n",
       "      537    0.001    0.000    0.003    0.000 __init__.py:2281(yield_lines)\n",
       "      451    0.001    0.000    0.002    0.000 artist.py:1204(_replace_path)\n",
       "       23    0.001    0.000    0.001    0.000 {built-in method posix.scandir}\n",
       "     1524    0.001    0.000    0.001    0.000 {method 'release' of '_thread.RLock' objects}\n",
       "     1758    0.001    0.000    0.001    0.000 version.py:244(<genexpr>)\n",
       "      109    0.001    0.000    0.040    0.000 <frozen importlib._bootstrap_external>:1281(_fill_cache)\n",
       "      282    0.001    0.000    0.003    0.000 function_base.py:3895(add_newdoc)\n",
       "      760    0.001    0.000    0.017    0.000 version.py:74(__init__)\n",
       "      314    0.001    0.000    0.033    0.000 __init__.py:1935(<listcomp>)\n",
       "     2304    0.001    0.000    0.001    0.000 version.py:298(_parse_letter_version)\n",
       "      900    0.001    0.000    0.001    0.000 {method '__reduce_ex__' of 'object' objects}\n",
       "      393    0.001    0.000    0.002    0.000 inspect.py:485(unwrap)\n",
       "     1096    0.001    0.000    0.001    0.000 inspect.py:2833(<genexpr>)\n",
       "     1867    0.001    0.000    0.001    0.000 {method 'find' of 'bytearray' objects}\n",
       "      196    0.001    0.000    0.002    0.000 conv.py:53(extra_repr)\n",
       "      126    0.001    0.000    0.006    0.000 deprecation.py:178(deprecate)\n",
       "       24    0.001    0.000    0.014    0.001 __init__.py:357(namedtuple)\n",
       "      159    0.001    0.000    0.002    0.000 __init__.py:2772(<listcomp>)\n",
       "      947    0.001    0.000    0.001    0.000 {method 'pop' of 'list' objects}\n",
       "      900    0.001    0.000    0.001    0.000 copyreg.py:87(__newobj__)\n",
       "       84    0.001    0.000    0.004    0.000 abc.py:132(__new__)\n",
       "      367    0.001    0.000    0.001    0.000 odenvp_conditional_rl.py:104(_calc_n_scale)\n",
       "      129    0.001    0.000    0.002    0.000 inspect.py:614(cleandoc)\n",
       "      323    0.001    0.000    0.036    0.000 <frozen importlib._bootstrap_external>:413(_find_module_shim)\n",
       "        1    0.001    0.001    0.002    0.002 descriptor_pb2.py:4(<module>)\n",
       "      212    0.001    0.000    0.005    0.000 __init__.py:540(dedent)\n",
       "      796    0.001    0.000    0.001    0.000 {built-in method sys._getframe}\n",
       "      367    0.001    0.000    0.001    0.000 queue.py:202(_qsize)\n",
       "      147    0.001    0.000    0.001    0.000 enum.py:353(__setattr__)\n",
       "      121    0.001    0.000    0.003    0.000 __init__.py:1521(_get)\n",
       "    381/1    0.001    0.000    0.003    0.003 module.py:203(apply)\n",
       "      831    0.001    0.000    0.002    0.000 <frozen importlib._bootstrap>:780(find_spec)\n",
       "      335    0.001    0.000    0.001    0.000 pyparsing.py:1144(__init__)\n",
       "      487    0.001    0.000    0.001    0.000 __init__.py:1530(getEffectiveLevel)\n",
       "      388    0.001    0.000    0.004    0.000 __init__.py:1468(_fn)\n",
       "     1035    0.001    0.000    0.001    0.000 sre_parse.py:81(groups)\n",
       "      314    0.001    0.000    0.036    0.000 __init__.py:1929(_by_version)\n",
       "       31    0.001    0.000    0.006    0.000 {built-in method builtins.eval}\n",
       "      492    0.001    0.000    0.018    0.000 train_misc.py:86(<genexpr>)\n",
       "      342    0.001    0.000    0.002    0.000 warnings.py:159(_add_filter)\n",
       "      320    0.001    0.000    0.019    0.000 __init__.py:2468(__init__)\n",
       "     1260    0.001    0.000    0.001    0.000 colors.py:236(<genexpr>)\n",
       "      807    0.001    0.000    0.001    0.000 <frozen importlib._bootstrap>:311(__enter__)\n",
       "       16    0.001    0.000    0.004    0.000 enum.py:124(__new__)\n",
       "        3    0.001    0.000    0.348    0.116 __init__.py:9(<module>)\n",
       "      366    0.001    0.000    0.001    0.000 tarfile.py:2363(_check)\n",
       "      371    0.001    0.000    0.001    0.000 threading.py:1076(name)\n",
       "     1870    0.001    0.000    0.001    0.000 version.py:48(<lambda>)\n",
       "     1011    0.001    0.000    0.001    0.000 sre_compile.py:102(fixup)\n",
       "      479    0.001    0.000    0.028    0.000 re.py:179(search)\n",
       "     1940    0.001    0.000    0.003    0.000 __init__.py:2248(_normalize_cached)\n",
       "      491    0.001    0.000    0.008    0.000 colors.py:121(is_color_like)\n",
       "      292    0.001    0.000    0.002    0.000 sre_parse.py:84(opengroup)\n",
       "        2    0.001    0.000    0.001    0.001 __init__.py:1420(register_all)\n",
       "        2    0.001    0.000    0.001    0.000 {method 'flush' of '_io.BufferedWriter' objects}\n",
       "     1321    0.001    0.000    0.001    0.000 {method 'values' of 'mappingproxy' objects}\n",
       "      371    0.001    0.000    0.001    0.000 __init__.py:120(getLevelName)\n",
       "      159    0.001    0.000    0.004    0.000 __init__.py:2746(insert_on)\n",
       "      106    0.001    0.000    0.002    0.000 <frozen importlib._bootstrap_external>:1196(__init__)\n",
       "   114/58    0.001    0.000    0.001    0.000 typing.py:1164(__setattr__)\n",
       "      831    0.001    0.000    0.001    0.000 {built-in method _imp.is_frozen}\n",
       "     1828    0.001    0.000    0.001    0.000 inspect.py:2504(default)\n",
       "     1870    0.001    0.000    0.001    0.000 version.py:54(<lambda>)\n",
       "      438    0.001    0.000    0.003    0.000 re.py:184(sub)\n",
       "      130    0.001    0.000    0.003    0.000 textwrap.py:414(dedent)\n",
       "       31    0.001    0.000    0.010    0.000 _collections_abc.py:824(update)\n",
       "        1    0.001    0.001    0.444    0.444 writer.py:246(__init__)\n",
       "      220    0.001    0.000    0.074    0.000 sre_compile.py:542(_code)\n",
       "       20    0.001    0.000    0.001    0.000 {method 'read' of '_io.TextIOWrapper' objects}\n",
       "       99    0.001    0.000    0.008    0.000 font_manager.py:833(default)\n",
       "      232    0.001    0.000    0.001    0.000 pyparsing.py:1154(__init__)\n",
       "      254    0.001    0.000    0.008    0.000 rcsetup.py:342(validate_color_for_prop_cycle)\n",
       "      176    0.001    0.000    0.007    0.000 inspect.py:2846(__eq__)\n",
       "     1569    0.001    0.000    0.001    0.000 {built-in method _json.encode_basestring_ascii}\n",
       "      366    0.001    0.000    0.001    0.000 {method 'find' of 'bytes' objects}\n",
       "        1    0.001    0.001    0.005    0.005 pyplot.py:2043(_setup_pyplot_info_docstrings)\n",
       "      356    0.001    0.000    0.001    0.000 warnings.py:449(__enter__)\n",
       "        3    0.001    0.000    0.002    0.001 six.py:1(<module>)\n",
       "       60    0.001    0.000    0.236    0.004 afm.py:328(_parse_optional)\n",
       "      378    0.001    0.000    0.001    0.000 _weakrefset.py:26(__exit__)\n",
       "        1    0.001    0.001    0.001    0.001 {built-in method torch._C._c10d_init}\n",
       "      341    0.001    0.000    0.007    0.000 pathlib.py:998(__new__)\n",
       "      770    0.001    0.000    0.001    0.000 <frozen importlib._bootstrap_external>:800(__init__)\n",
       "     1491    0.001    0.000    0.001    0.000 {built-in method _sre.getlower}\n",
       "      794    0.001    0.000    0.001    0.000 {method 'keys' of 'dict' objects}\n",
       "       24    0.001    0.000    0.137    0.006 __init__.py:609(add_entry)\n",
       "      471    0.001    0.000    0.008    0.000 pyparsing.py:1167(copy)\n",
       "      366    0.001    0.000    0.001    0.000 {method 'squeeze' of 'numpy.ndarray' objects}\n",
       "      386    0.001    0.000    0.001    0.000 sre_parse.py:342(_escape)\n",
       "      367    0.001    0.000    0.001    0.000 odenvp_conditional_rl.py:50(<listcomp>)\n",
       "       38    0.001    0.000    0.004    0.000 font_manager.py:315(ttfFontProperty)\n",
       "      133    0.001    0.000    0.002    0.000 pyparsing.py:3260(__init__)\n",
       "      807    0.001    0.000    0.001    0.000 <frozen importlib._bootstrap>:307(__init__)\n",
       "        1    0.001    0.001    0.004    0.004 caffe2_pb2.py:4(<module>)\n",
       "      336    0.001    0.000    0.002    0.000 warnings.py:143(simplefilter)\n",
       "      429    0.001    0.000    0.007    0.000 pyparsing.py:1177(copy)\n",
       "      576    0.001    0.000    0.001    0.000 <string>:12(__new__)\n",
       "      159    0.001    0.000    0.037    0.000 __init__.py:2193(fixup_namespace_packages)\n",
       "      352    0.001    0.000    0.001    0.000 inspect.py:2836(<dictcomp>)\n",
       "      267    0.001    0.000    0.006    0.000 __init__.py:1404(has_metadata)\n",
       "      316    0.001    0.000    0.003    0.000 genericpath.py:39(isdir)\n",
       "      221    0.001    0.000    0.001    0.000 sre_parse.py:223(__init__)\n",
       "     1369    0.001    0.000    0.001    0.000 <frozen importlib._bootstrap_external>:41(_relax_case)\n",
       "       40    0.001    0.000    0.008    0.000 linecache.py:82(updatecache)\n",
       "      259    0.001    0.000    0.002    0.000 enum.py:797(__or__)\n",
       "     1321    0.001    0.000    0.001    0.000 inspect.py:2809(parameters)\n",
       "      442    0.001    0.000    0.001    0.000 pathlib.py:282(splitroot)\n",
       "      159    0.001    0.000    0.052    0.000 __init__.py:2652(activate)\n",
       "      367    0.001    0.000    0.001    0.000 event_file_writer.py:118(get_logdir)\n",
       "        1    0.001    0.001    0.002    0.002 fnmatch.py:48(filter)\n",
       "      341    0.001    0.000    0.007    0.000 pathlib.py:651(_from_parts)\n",
       "     1526    0.001    0.000    0.001    0.000 _structures.py:33(__neg__)\n",
       "       48    0.001    0.000    0.001    0.000 pyparsing.py:3540(__init__)\n",
       "      108    0.001    0.000    0.001    0.000 utils.py:33(read_only_property)\n",
       "       68    0.001    0.000    0.004    0.000 argparse.py:1307(add_argument)\n",
       "      366    0.001    0.000    0.001    0.000 {method 'fileno' of '_io.BufferedReader' objects}\n",
       "     1500    0.001    0.000    0.001    0.000 __init__.py:1997(__bool__)\n",
       "      410    0.001    0.000    0.010    0.000 genericpath.py:16(exists)\n",
       "       60    0.001    0.000    0.001    0.000 font_manager.py:397(afmFontProperty)\n",
       "      356    0.001    0.000    0.001    0.000 warnings.py:468(__exit__)\n",
       "       18    0.001    0.000    0.007    0.000 font_manager.py:155(<listcomp>)\n",
       "     1398    0.001    0.000    0.001    0.000 inspect.py:2508(annotation)\n",
       "      374    0.001    0.000    0.001    0.000 descriptor.py:524(__new__)\n",
       "      130    0.001    0.000    0.001    0.000 {method 'findall' of '_sre.SRE_Pattern' objects}\n",
       "       98    0.001    0.000    0.003    0.000 pathlib.py:846(relative_to)\n",
       "      243    0.001    0.000    0.001    0.000 sre_parse.py:294(_class_escape)\n",
       "      274    0.001    0.000    0.001    0.000 {built-in method _codecs.utf_8_decode}\n",
       "      818    0.001    0.000    0.001    0.000 module.py:1012(_get_name)\n",
       "      132    0.001    0.000    0.022    0.000 __init__.py:2451(_version_from_file)\n",
       "      372    0.001    0.000    0.001    0.000 inspect.py:2559(__eq__)\n",
       "      132    0.001    0.000    0.001    0.000 deprecation.py:23(_generate_deprecation_message)\n",
       "      361    0.001    0.000    0.001    0.000 {method 'remove' of 'list' objects}\n",
       "       75    0.001    0.000    0.001    0.000 cm.py:65(_reverse_cmap_spec)\n",
       "      501    0.001    0.000    0.026    0.000 glob.py:39(_iglob)\n",
       "      105    0.001    0.000    0.001    0.000 posixpath.py:104(split)\n",
       "      100    0.000    0.000    0.001    0.000 sre_compile.py:376(_mk_bitmap)\n",
       "       19    0.000    0.000    0.011    0.001 rcsetup.py:825(validate_cycler)\n",
       "     1024    0.000    0.000    0.000    0.000 version.py:352(<lambda>)\n",
       "      366    0.000    0.000    0.001    0.000 rcsetup.py:118(validate_bool)\n",
       "      378    0.000    0.000    0.001    0.000 _weakrefset.py:20(__enter__)\n",
       "      838    0.000    0.000    0.000    0.000 {method 'setdefault' of 'dict' objects}\n",
       "      274    0.000    0.000    0.001    0.000 codecs.py:318(decode)\n",
       "      117    0.000    0.000    0.008    0.000 rcsetup.py:90(<listcomp>)\n",
       "        1    0.000    0.000    0.959    0.959 pyplot.py:19(<module>)\n",
       "      381    0.000    0.000    0.001    0.000 train_misc.py:17(_set)\n",
       "      162    0.000    0.000    0.009    0.000 abc.py:151(register)\n",
       "       86    0.000    0.000    0.001    0.000 _oid.py:11(__init__)\n",
       "      561    0.000    0.000    0.000    0.000 {method 'mro' of 'type' objects}\n",
       "      396    0.000    0.000    0.001    0.000 __init__.py:2456(is_version_line)\n",
       "       84    0.000    0.000    0.001    0.000 abc.py:135(<setcomp>)\n",
       "      220    0.000    0.000    0.000    0.000 {built-in method _sre.compile}\n",
       "      100    0.000    0.000    0.000    0.000 sre_compile.py:378(<listcomp>)\n",
       "      454    0.000    0.000    0.010    0.000 traceback.py:283(line)\n",
       "      395    0.000    0.000    0.009    0.000 <frozen importlib._bootstrap_external>:99(_path_isdir)\n",
       "      831    0.000    0.000    0.001    0.000 <frozen importlib._bootstrap>:707(find_spec)\n",
       "      372    0.000    0.000    0.000    0.000 process.py:35(current_process)\n",
       "      393    0.000    0.000    0.023    0.000 inspect.py:2803(from_callable)\n",
       "      393    0.000    0.000    0.023    0.000 inspect.py:3055(signature)\n",
       "    42/32    0.000    0.000    0.001    0.000 os.py:277(walk)\n",
       "      177    0.000    0.000    0.011    0.000 rcsetup.py:69(f)\n",
       "        1    0.000    0.000    0.000    0.000 visdom_writer.py:23(VisdomWriter)\n",
       "      230    0.000    0.000    0.001    0.000 pathlib.py:785(suffix)\n",
       "      366    0.000    0.000    0.000    0.000 dataloader.py:715(__del__)\n",
       "     1054    0.000    0.000    0.000    0.000 {built-in method _warnings._filters_mutated}\n",
       "       98    0.000    0.000    0.000    0.000 font_manager.py:289(__init__)\n",
       "      121    0.000    0.000    0.005    0.000 __init__.py:1407(get_metadata)\n",
       "      125    0.000    0.000    0.001    0.000 enum.py:70(__setitem__)\n",
       "      371    0.000    0.000    0.000    0.000 {built-in method _imp.lock_held}\n",
       "      323    0.000    0.000    0.034    0.000 <frozen importlib._bootstrap_external>:1216(find_loader)\n",
       "  230/198    0.000    0.000    0.000    0.000 sre_compile.py:414(_get_literal_prefix)\n",
       "       37    0.000    0.000    0.000    0.000 {built-in method _imp.exec_dynamic}\n",
       "   249/65    0.000    0.000    0.007    0.000 typing.py:1145(__subclasscheck__)\n",
       "      371    0.000    0.000    0.000    0.000 process.py:146(name)\n",
       "      220    0.000    0.000    0.001    0.000 sre_parse.py:828(fix_flags)\n",
       "  263/261    0.000    0.000    0.001    0.000 pyparsing.py:382(__init__)\n",
       "      320    0.000    0.000    0.002    0.000 __init__.py:1315(safe_name)\n",
       "      848    0.000    0.000    0.000    0.000 <frozen importlib._bootstrap_external>:1202(<genexpr>)\n",
       "       16    0.000    0.000    0.001    0.000 enum.py:160(<setcomp>)\n",
       "      440    0.000    0.000    0.001    0.000 sre_compile.py:539(isstring)\n",
       "      946    0.000    0.000    0.000    0.000 {built-in method builtins.chr}\n",
       "      928    0.000    0.000    0.000    0.000 inspect.py:2813(return_annotation)\n",
       "      393    0.000    0.000    0.001    0.000 inspect.py:505(_is_wrapper)\n",
       "      106    0.000    0.000    0.008    0.000 <frozen importlib._bootstrap_external>:1322(path_hook_for_FileFinder)\n",
       "    102/2    0.000    0.000    0.001    0.001 pyparsing.py:1370(_parseNoCache)\n",
       "       68    0.000    0.000    0.001    0.000 argparse.py:157(__init__)\n",
       "      237    0.000    0.000    0.009    0.000 linecache.py:15(getline)\n",
       "      507    0.000    0.000    0.001    0.000 glob.py:82(<genexpr>)\n",
       "       60    0.000    0.000    0.003    0.000 six.py:837(wrapper)\n",
       "      368    0.000    0.000    0.000    0.000 {method 'remove' of 'collections.deque' objects}\n",
       "      286    0.000    0.000    0.001    0.000 _tensor_docs.py:8(add_docstr_all)\n",
       "      768    0.000    0.000    0.000    0.000 version.py:332(_parse_local_version)\n",
       "        2    0.000    0.000    0.001    0.000 traceback.py:386(format)\n",
       "       83    0.000    0.000    0.001    0.000 pyparsing.py:3326(__init__)\n",
       "      805    0.000    0.000    0.000    0.000 sre_parse.py:167(__setitem__)\n",
       "       54    0.000    0.000    0.002    0.000 __init__.py:961(_open_file_or_url)\n",
       "      132    0.000    0.000    0.022    0.000 __init__.py:2858(_reload_version)\n",
       "      149    0.000    0.000    0.032    0.000 utils.py:38(register_decorator)\n",
       "      130    0.000    0.000    0.001    0.000 pyplot.py:1795(<genexpr>)\n",
       "      356    0.000    0.000    0.000    0.000 warnings.py:428(__init__)\n",
       "        1    0.000    0.000    0.016    0.016 mathtext.py:2738(<listcomp>)\n",
       "        4    0.000    0.000    7.081    1.770 cifar.py:134(_check_integrity)\n",
       "      324    0.000    0.000    0.146    0.000 re.py:231(compile)\n",
       "      166    0.000    0.000    0.000    0.000 six.py:141(__init__)\n",
       "      807    0.000    0.000    0.000    0.000 <frozen importlib._bootstrap>:424(has_location)\n",
       "      263    0.000    0.000    0.001    0.000 pyparsing.py:373(__new__)\n",
       "      313    0.000    0.000    0.000    0.000 {method 'astype' of 'numpy.ndarray' objects}\n",
       "       84    0.000    0.000    0.002    0.000 pyparsing.py:3390(__init__)\n",
       "       30    0.000    0.000    0.000    0.000 {method 'readline' of '_io.BufferedReader' objects}\n",
       "      292    0.000    0.000    0.006    0.000 sre_parse.py:96(closegroup)\n",
       "      495    0.000    0.000    0.000    0.000 {built-in method torch._C._add_docstr}\n",
       "      236    0.000    0.000    0.000    0.000 linecache.py:147(lazycache)\n",
       "   131/65    0.000    0.000    0.005    0.000 pyparsing.py:3365(<listcomp>)\n",
       "       68    0.000    0.000    0.001    0.000 argparse.py:1444(_get_optional_kwargs)\n",
       "       82    0.000    0.000    0.001    0.000 pyparsing.py:3719(__init__)\n",
       "       84    0.000    0.000    0.000    0.000 docstring.py:40(__call__)\n",
       "        3    0.000    0.000    0.000    0.000 {built-in method posix.open}\n",
       "       59    0.000    0.000    0.001    0.000 font_manager.py:359(<genexpr>)\n",
       "        2    0.000    0.000    0.000    0.000 {built-in method _openssl.SSL_library_init}\n",
       "      768    0.000    0.000    0.000    0.000 <frozen importlib._bootstrap_external>:825(get_filename)\n",
       "      267    0.000    0.000    0.003    0.000 __init__.py:1509(_has)\n",
       "      884    0.000    0.000    0.000    0.000 {built-in method builtins.globals}\n",
       "      160    0.000    0.000    0.052    0.000 __init__.py:3153(<genexpr>)\n",
       "      768    0.000    0.000    0.000    0.000 <frozen importlib._bootstrap_external>:669(create_module)\n",
       "        3    0.000    0.000    0.000    0.000 {built-in method posix.mkdir}\n",
       "        9    0.000    0.000    0.001    0.000 auto.py:14(_make_function_class_criterion)\n",
       "      374    0.000    0.000    0.000    0.000 {method 'FindFieldByName' of 'google.protobuf.pyext._message.DescriptorPool' objects}\n",
       "       60    0.000    0.000    0.618    0.010 afm.py:365(_parse_afm)\n",
       "        1    0.000    0.000    0.001    0.001 optimizer.py:174(add_param_group)\n",
       "   131/65    0.000    0.000    0.006    0.000 pyparsing.py:3363(copy)\n",
       "    63/11    0.000    0.000    0.005    0.000 pyparsing.py:3463(parseImpl)\n",
       "        1    0.000    0.000    0.001    0.001 step_stats_pb2.py:4(<module>)\n",
       "        1    0.000    0.000    0.027    0.027 auto.py:268(_generate_function_classes)\n",
       "      296    0.000    0.000    0.000    0.000 weakref.py:406(__setitem__)\n",
       "      237    0.000    0.000    0.009    0.000 linecache.py:37(getlines)\n",
       "        6    0.000    0.000    0.006    0.001 patches.py:1830(_pprint_styles)\n",
       "     72/4    0.000    0.000    0.003    0.001 pyparsing.py:1564(_parseCache)\n",
       "        2    0.000    0.000    0.032    0.016 subprocess.py:1208(_execute_child)\n",
       "       66    0.000    0.000    0.001    0.000 pyparsing.py:3785(__init__)\n",
       "      178    0.000    0.000    0.001    0.000 _jit_internal.py:34(createResolutionCallback)\n",
       "       39    0.000    0.000    0.001    0.000 _inspect.py:142(formatargspec)\n",
       "       26    0.000    0.000    0.002    0.000 tokenize.py:448(open)\n",
       "      150    0.000    0.000    0.012    0.000 cm.py:81(_generate_cmap)\n",
       "      378    0.000    0.000    0.000    0.000 _weakrefset.py:16(__init__)\n",
       "      304    0.000    0.000    0.000    0.000 __init__.py:1837(__init__)\n",
       "        1    0.000    0.000    0.007    0.007 mlab.py:155(<module>)\n",
       "        1    0.000    0.000    0.013    0.013 _axes.py:119(Axes)\n",
       "        1    0.000    0.000    0.379    0.379 _import_c_extension.py:3(<module>)\n",
       "        1    0.000    0.000    0.004    0.004 summary_pb2.py:4(<module>)\n",
       "        1    0.000    0.000    0.000    0.000 _cm_listed.py:1(<module>)\n",
       "        2    0.000    0.000    0.018    0.009 {built-in method builtins.sum}\n",
       "      168    0.000    0.000    0.004    0.000 docstring.py:90(dedent)\n",
       "        1    0.000    0.000 42099.495 42099.495 py3compat.py:184(execfile)\n",
       "      410    0.000    0.000    0.000    0.000 artist.py:1235(aliased_name)\n",
       "       19    0.000    0.000    0.000    0.000 cycler.py:349(by_key)\n",
       "      432    0.000    0.000    0.000    0.000 colors.py:204(<genexpr>)\n",
       "      108    0.000    0.000    0.002    0.000 deprecation.py:237(finalize)\n",
       "      378    0.000    0.000    0.000    0.000 _weakrefset.py:52(_commit_removals)\n",
       "       60    0.000    0.000    0.001    0.000 afm.py:81(_sanity_check)\n",
       "       32    0.000    0.000    0.001    0.000 __init__.py:1161(getLogger)\n",
       "      113    0.000    0.000    0.001    0.000 os.py:664(__getitem__)\n",
       "        1    0.000    0.000    0.033    0.033 pyparsing.py:76(<module>)\n",
       "    36/35    0.000    0.000    0.002    0.000 typing.py:875(__extrahook__)\n",
       "      276    0.000    0.000    0.000    0.000 functools.py:74(wraps)\n",
       "      117    0.000    0.000    0.000    0.000 pathlib.py:691(__str__)\n",
       "      101    0.000    0.000    0.002    0.000 linecache.py:53(checkcache)\n",
       "      350    0.000    0.000    0.001    0.000 pkgutil.py:402(get_importer)\n",
       "   121/59    0.000    0.000    0.006    0.000 pyparsing.py:3429(copy)\n",
       "      371    0.000    0.000    0.000    0.000 {method 'insert' of 'list' objects}\n",
       "       39    0.000    0.000    0.001    0.000 __init__.py:1563(_add_data_doc)\n",
       "        1    0.000    0.000    0.023    0.023 glob.py:79(_glob1)\n",
       "      220    0.000    0.000    0.000    0.000 sre_parse.py:76(__init__)\n",
       "       67    0.000    0.000    0.001    0.000 pyparsing.py:3456(__init__)\n",
       "      178    0.000    0.000    0.000    0.000 inspect.py:1493(currentframe)\n",
       "      409    0.000    0.000    0.000    0.000 utils.py:47(__init__)\n",
       "      296    0.000    0.000    0.000    0.000 {method 'encode' of 'str' objects}\n",
       "      443    0.000    0.000    0.000    0.000 pathlib.py:1008(_init)\n",
       "       42    0.000    0.000    0.000    0.000 pyparsing.py:765(copy)\n",
       "        1    0.000    0.000 42099.497 42099.497 interactiveshell.py:2637(safe_execfile)\n",
       "       50    0.000    0.000    0.014    0.000 traceback.py:200(extract_stack)\n",
       "      101    0.000    0.000    0.002    0.000 compilerop.py:137(check_linecache_ipython)\n",
       "      145    0.000    0.000    0.001    0.000 inspect.py:714(getmodule)\n",
       "      586    0.000    0.000    0.000    0.000 {built-in method _CheckCalledFromGeneratedFile}\n",
       "        1    0.000    0.000    0.003    0.003 core.py:21(<module>)\n",
       "       60    0.000    0.000    0.001    0.000 rcsetup.py:72(<listcomp>)\n",
       "      286    0.000    0.000    0.000    0.000 traceback.py:290(walk_stack)\n",
       "       52    0.000    0.000    0.000    0.000 sre_parse.py:266(getuntil)\n",
       "      413    0.000    0.000    0.000    0.000 {method '__subclasses__' of 'type' objects}\n",
       "   121/59    0.000    0.000    0.004    0.000 pyparsing.py:3431(<listcomp>)\n",
       "      500    0.000    0.000    0.000    0.000 {method 'reverse' of 'list' objects}\n",
       "      163    0.000    0.000    0.000    0.000 sre_compile.py:441(_get_charset_prefix)\n",
       "      233    0.000    0.000    0.000    0.000 pathlib.py:777(name)\n",
       "        2    0.000    0.000    0.000    0.000 {built-in method _openssl.SSL_load_error_strings}\n",
       "      322    0.000    0.000    0.000    0.000 rcsetup.py:144(validate_float)\n",
       "        1    0.000    0.000    0.018    0.018 pyparsing.py:75(<module>)\n",
       "       66    0.000    0.000    0.002    0.000 pyparsing.py:1843(__add__)\n",
       "        1    0.000    0.000    0.032    0.032 core.py:182(read_style_directory)\n",
       "      507    0.000    0.000    0.000    0.000 glob.py:152(_ishidden)\n",
       "        1    0.000    0.000    0.010    0.010 utils.py:13(get_logger)\n",
       "        1    0.000    0.000    0.001    0.001 getlimits.py:3(<module>)\n",
       "      266    0.000    0.000    0.000    0.000 pyparsing.py:3270(<genexpr>)\n",
       "     33/5    0.000    0.000    0.001    0.000 pyparsing.py:3385(streamline)\n",
       "      168    0.000    0.000    0.000    0.000 rcsetup.py:59(__call__)\n",
       "       69    0.000    0.000    0.001    0.000 pyparsing.py:2412(__init__)\n",
       "       14    0.000    0.000    0.002    0.000 posixpath.py:393(_joinrealpath)\n",
       "      148    0.000    0.000    0.000    0.000 _oid.py:58(__hash__)\n",
       "      160    0.000    0.000    0.000    0.000 __init__.py:666(__iter__)\n",
       "      164    0.000    0.000    0.000    0.000 colors.py:439(__init__)\n",
       "      121    0.000    0.000    0.005    0.000 __init__.py:1413(get_metadata_lines)\n",
       "        8    0.000    0.000    0.000    0.000 __init__.py:1896(_define_aliases)\n",
       "       60    0.000    0.000    0.000    0.000 afm.py:67(<listcomp>)\n",
       "        1    0.000    0.000    0.001    0.001 _tensor_docs.py:1(<module>)\n",
       "       26    0.000    0.000    0.001    0.000 tokenize.py:355(detect_encoding)\n",
       "      252    0.000    0.000    0.000    0.000 {built-in method numpy.core.multiarray.can_cast}\n",
       "      119    0.000    0.000    0.000    0.000 os.py:742(encode)\n",
       "        1    0.000    0.000    0.347    0.347 event_pb2.py:4(<module>)\n",
       "    61/11    0.000    0.000    0.006    0.001 pyparsing.py:3288(leaveWhitespace)\n",
       "       19    0.000    0.000    0.001    0.000 path.py:96(__init__)\n",
       "       88    0.000    0.000    0.002    0.000 docstring.py:122(<lambda>)\n",
       "    58/10    0.000    0.000    0.006    0.001 pyparsing.py:3354(leaveWhitespace)\n",
       "       68    0.000    0.000    0.000    0.000 argparse.py:1364(_add_action)\n",
       "        1    0.000    0.000    0.001    0.001 status_codes.py:104(_init)\n",
       "        1    0.000    0.000    0.026    0.026 glob.py:9(glob)\n",
       "    37/34    0.000    0.000    0.193    0.006 <frozen importlib._bootstrap_external>:919(create_module)\n",
       "      393    0.000    0.000    0.000    0.000 {built-in method sys.getrecursionlimit}\n",
       "      273    0.000    0.000    0.000    0.000 {method 'get' of 'mappingproxy' objects}\n",
       "        1    0.000    0.000    0.003    0.003 lapack.py:461(<module>)\n",
       "        1    0.000    0.000    0.000    0.000 attr_value_pb2.py:4(<module>)\n",
       "        1    0.000    0.000    0.002    0.002 numerictypes.py:81(<module>)\n",
       "        1    0.000    0.000    0.046    0.046 rcsetup.py:15(<module>)\n",
       "        1    0.000    0.000    0.000    0.000 __init__.py:933(<dictcomp>)\n",
       "        2    0.000    0.000    0.000    0.000 argparse.py:118(__repr__)\n",
       "       48    0.000    0.000    0.088    0.002 genericpath.py:27(isfile)\n",
       "      378    0.000    0.000    0.000    0.000 {method 'remove' of 'set' objects}\n",
       "        1    0.000    0.000    0.000    0.000 _color_data.py:992(<dictcomp>)\n",
       "      144    0.000    0.000    0.000    0.000 pyparsing.py:2226(__hash__)\n",
       "       68    0.000    0.000    0.000    0.000 argparse.py:580(_format_args)\n",
       "       83    0.000    0.000    0.002    0.000 pyparsing.py:1821(__add__)\n",
       "      162    0.000    0.000    0.000    0.000 argparse.py:1282(_registry_get)\n",
       "      126    0.000    0.000    0.000    0.000 colors.py:639(__init__)\n",
       "        3    0.000    0.000    0.126    0.042 functional.py:1(<module>)\n",
       "      364    0.000    0.000    0.000    0.000 module.py:1015(extra_repr)\n",
       "        1    0.000    0.000    0.000    0.000 layout_pb2.py:4(<module>)\n",
       "       27    0.000    0.000    0.001    0.000 core.py:172(iter_style_files)\n",
       "       80    0.000    0.000    0.003    0.000 docstring.py:109(dedent_interpd)\n",
       "       91    0.000    0.000    0.001    0.000 _jit_internal.py:105(weak_script_method)\n",
       "        1    0.000    0.000    0.004    0.004 kl.py:1(<module>)\n",
       "      102    0.000    0.000    0.000    0.000 pathlib.py:664(_from_parsed_parts)\n",
       "      318    0.000    0.000    0.000    0.000 {built-in method _stat.S_ISDIR}\n",
       "       72    0.000    0.000    0.001    0.000 posixpath.py:168(islink)\n",
       "      164    0.000    0.000    0.000    0.000 abc.py:9(abstractmethod)\n",
       "       31    0.000    0.000    0.000    0.000 __init__.py:1212(_fixupParents)\n",
       "      116    0.000    0.000    0.000    0.000 __init__.py:1286(debug)\n",
       "       27    0.000    0.000    0.012    0.000 pyparsing.py:2816(__init__)\n",
       "       87    0.000    0.000    0.001    0.000 _jit_internal.py:83(weak_script)\n",
       "       26    0.000    0.000    0.000    0.000 numerictypes.py:229(bitname)\n",
       "        4    0.000    0.000    0.000    0.000 numeric.py:2916(extend_all)\n",
       "      164    0.000    0.000    0.000    0.000 rcsetup.py:399(validate_string)\n",
       "        2    0.000    0.000    0.000    0.000 {built-in method posix.waitpid}\n",
       "       16    0.000    0.000    0.001    0.000 __init__.py:1796(get_metadata)\n",
       "       27    0.000    0.000    0.038    0.001 __init__.py:1056(rc_params_from_file)\n",
       "        1    0.000    0.000    0.081    0.081 __init__.py:106(<module>)\n",
       "        1    0.000    0.000    0.049    0.049 add_newdocs.py:10(<module>)\n",
       "      312    0.000    0.000    0.000    0.000 {built-in method builtins.hash}\n",
       "      204    0.000    0.000    0.000    0.000 patches.py:1815(<genexpr>)\n",
       "       80    0.000    0.000    0.000    0.000 sre_parse.py:784(_parse_flags)\n",
       "        1    0.000    0.000    0.190    0.190 __init__.py:3126(_initialize_master_working_set)\n",
       "       54    0.000    0.000    0.000    0.000 pyparsing.py:2870(__str__)\n",
       "       37    0.000    0.000    0.000    0.000 pyparsing.py:2852(parseImpl)\n",
       "      282    0.000    0.000    0.000    0.000 {method 'zfill' of 'str' objects}\n",
       "        1    0.000    0.000    0.016    0.016 pyparsing.py:5558(pyparsing_common)\n",
       "      150    0.000    0.000    0.000    0.000 typing.py:1019(_abc_negative_cache)\n",
       "        1    0.000    0.000    0.294    0.294 __init__.py:16(<module>)\n",
       "       60    0.000    0.000    0.000    0.000 {built-in method numpy.core.multiarray.arange}\n",
       "      224    0.000    0.000    0.000    0.000 patches.py:1822(<genexpr>)\n",
       "       53    0.000    0.000    0.000    0.000 core.py:893(__init__)\n",
       "        1    0.000    0.000    0.068    0.068 __init__.py:101(<module>)\n",
       "       60    0.000    0.000    0.000    0.000 cm.py:60(<listcomp>)\n",
       "       31    0.000    0.000    0.000    0.000 cm.py:48(revcmap)\n",
       "      103    0.000    0.000    0.000    0.000 typing.py:1033(_abc_negative_cache_version)\n",
       "      319    0.000    0.000    0.000    0.000 {method 'pop' of 'dict' objects}\n",
       "      236    0.000    0.000    0.000    0.000 traceback.py:243(__init__)\n",
       "       74    0.000    0.000    0.000    0.000 codecs.py:308(__init__)\n",
       "      120    0.000    0.000    0.001    0.000 pyparsing.py:2368(__init__)\n",
       "       60    0.000    0.000    0.001    0.000 afm.py:65(_to_list_of_ints)\n",
       "        1    0.000    0.000    0.018    0.018 __init__.py:72(<module>)\n",
       "       71    0.000    0.000    0.000    0.000 kl.py:38(register_kl)\n",
       "      111    0.000    0.000    0.000    0.000 _jit_internal.py:98(weak_module)\n",
       "       72    0.000    0.000    0.000    0.000 pyparsing.py:1509(set)\n",
       "       68    0.000    0.000    0.000    0.000 argparse.py:1555(_add_action)\n",
       "      121    0.000    0.000    0.000    0.000 pyparsing.py:1361(preParse)\n",
       "      137    0.000    0.000    0.000    0.000 __init__.py:420(<genexpr>)\n",
       "       12    0.000    0.000    0.001    0.000 pyparsing.py:2653(__init__)\n",
       "      277    0.000    0.000    0.000    0.000 {built-in method numpy.core.multiarray.add_docstring}\n",
       "       39    0.000    0.000    0.000    0.000 _inspect.py:67(getargs)\n",
       "        1    0.000    0.000    0.014    0.014 cm.py:19(<module>)\n",
       "        1    0.000    0.000    0.003    0.003 markers.py:4(<module>)\n",
       "       76    0.000    0.000    0.000    0.000 __init__.py:329(iterable)\n",
       "       27    0.000    0.000    0.003    0.000 pyparsing.py:1039(_trim_arity)\n",
       "       26    0.000    0.000    0.025    0.001 pyparsing.py:2779(__init__)\n",
       "        6    0.000    0.000    0.000    0.000 getlimits.py:65(__init__)\n",
       "        1    0.000    0.000    0.003    0.003 pyparsing.py:5028(_makeTags)\n",
       "       59    0.000    0.000    0.000    0.000 <frozen importlib._bootstrap>:861(_find_spec_legacy)\n",
       "        2    0.000    0.000    0.237    0.118 __init__.py:41(<module>)\n",
       "        1    0.000    0.000    0.006    0.006 __init__.py:57(<module>)\n",
       "       58    0.000    0.000    0.004    0.000 pyparsing.py:3358(<listcomp>)\n",
       "        1    0.000    0.000    0.051    0.051 requirements.py:4(<module>)\n",
       "       67    0.000    0.000    0.000    0.000 argparse.py:835(__init__)\n",
       "        1    0.000    0.000    0.018    0.018 __init__.py:184(<module>)\n",
       "       10    0.000    0.000    0.004    0.000 pyparsing.py:2675(__init__)\n",
       "        1    0.000    0.000    0.000    0.000 {built-in method torch._C._autograd_init}\n",
       "     19/4    0.000    0.000    0.000    0.000 pyparsing.py:3319(streamline)\n",
       "        1    0.000    0.000    0.057    0.057 extensions.py:5(<module>)\n",
       "        1    0.000    0.000    0.003    0.003 numeric.py:1(<module>)\n",
       "        1    0.000    0.000    0.000    0.000 inspect.py:317(getmembers)\n",
       "      256    0.000    0.000    0.000    0.000 {method 'end' of '_sre.SRE_Match' objects}\n",
       "       36    0.000    0.000    0.000    0.000 pyparsing.py:2434(__init__)\n",
       "       17    0.000    0.000    0.000    0.000 cycler.py:191(_from_iter)\n",
       "       60    0.000    0.000    0.618    0.010 afm.py:392(__init__)\n",
       "        2    0.000    0.000    0.005    0.002 ec.py:5(<module>)\n",
       "       16    0.000    0.000    0.005    0.000 rcsetup.py:740(cycler)\n",
       "       23    0.000    0.000    0.003    0.000 pyparsing.py:1049(_trim_arity)\n",
       "      302    0.000    0.000    0.000    0.000 __init__.py:907(__iter__)\n",
       "       34    0.000    0.000    0.000    0.000 enum.py:419(_get_mixins_)\n",
       "        1    0.000    0.000    0.007    0.007 optimizer.py:32(__init__)\n",
       "      152    0.000    0.000    0.000    0.000 typing.py:1089(__eq__)\n",
       "        1    0.000    0.000    0.001    0.001 argparse.py:1775(_parse_known_args)\n",
       "       11    0.000    0.000    0.121    0.011 __init__.py:5(<module>)\n",
       "      108    0.000    0.000    0.000    0.000 pathlib.py:674(_format_parsed_parts)\n",
       "      137    0.000    0.000    0.000    0.000 __init__.py:422(<genexpr>)\n",
       "       19    0.000    0.000    0.000    0.000 path.py:193(_update_values)\n",
       "       82    0.000    0.000    0.000    0.000 __init__.py:870(__getitem__)\n",
       "        4    0.000    0.000    0.022    0.005 __init__.py:3(<module>)\n",
       "    82/80    0.000    0.000    0.000    0.000 pyparsing.py:372(__init__)\n",
       "      125    0.000    0.000    0.000    0.000 enum.py:28(_is_dunder)\n",
       "        2    0.000    0.000    0.016    0.008 __init__.py:7(<module>)\n",
       "       63    0.000    0.000    0.000    0.000 rcsetup.py:429(validate_fontsize)\n",
       "       65    0.000    0.000    0.000    0.000 enum.py:20(_is_descriptor)\n",
       "       37    0.000    0.000    0.001    0.000 contextlib.py:129(contextmanager)\n",
       "        1    0.000    0.000    0.000    0.000 _base.py:396(_AxesBase)\n",
       "        1    0.000    0.000    0.000    0.000 summary.py:380(text)\n",
       "        1    0.000    0.000    0.016    0.016 mathtext.py:2202(Parser)\n",
       "       37    0.000    0.000    0.001    0.000 <frozen importlib._bootstrap_external>:927(exec_module)\n",
       "       42    0.000    0.000    0.002    0.000 {method 'update' of 'set' objects}\n",
       "        1    0.000    0.000    0.008    0.008 pyparsing.py:5399(pyparsing_common)\n",
       "      252    0.000    0.000    0.000    0.000 six.py:88(__init__)\n",
       "        1    0.000    0.000    0.022    0.022 tokenize.py:26(<module>)\n",
       "        1    0.000    0.000    0.001    0.001 markers.py:165(MarkerStyle)\n",
       "        2    0.000    0.000    0.012    0.006 event_file_writer.py:35(__init__)\n",
       "       67    0.000    0.000    0.000    0.000 auto.py:95(_find_buffers)\n",
       "       22    0.000    0.000    0.003    0.000 pyparsing.py:1057(extract_stack)\n",
       "       42    0.000    0.000    0.000    0.000 pyparsing.py:2826(__str__)\n",
       "      166    0.000    0.000    0.000    0.000 pyparsing.py:3336(<genexpr>)\n",
       "       11    0.000    0.000    0.081    0.007 artist.py:1511(kwdoc)\n",
       "       12    0.000    0.000    0.010    0.001 artist.py:1094(__init__)\n",
       "        1    0.000    0.000    0.001    0.001 node_def_pb2.py:4(<module>)\n",
       "       48    0.000    0.000    0.002    0.000 pyparsing.py:1948(__or__)\n",
       "      159    0.000    0.000    0.000    0.000 __init__.py:919(_added_new)\n",
       "        1    0.000    0.000    0.018    0.018 mathtext.py:16(<module>)\n",
       "       83    0.000    0.000    0.000    0.000 pyparsing.py:2390(__init__)\n",
       "       24    0.000    0.000    0.000    0.000 {method 'hexdigest' of '_hashlib.HASH' objects}\n",
       "       31    0.000    0.000    0.000    0.000 __init__.py:1268(__init__)\n",
       "       26    0.000    0.000    0.003    0.000 pyparsing.py:1047(extract_stack)\n",
       "        1    0.000    0.000    0.045    0.045 backend.py:5(<module>)\n",
       "      148    0.000    0.000    0.000    0.000 utils.py:34(<lambda>)\n",
       "       82    0.000    0.000    0.000    0.000 symbol_database.py:68(RegisterMessage)\n",
       "        1    0.000    0.000    0.003    0.003 oid.py:5(<module>)\n",
       "      125    0.000    0.000    0.000    0.000 enum.py:36(_is_sunder)\n",
       "        1    0.000    0.000    0.533    0.533 odefunc.py:1(<module>)\n",
       "       60    0.000    0.000    0.000    0.000 afm.py:74(_to_bool)\n",
       "      160    0.000    0.000    0.000    0.000 cycler.py:227(<genexpr>)\n",
       "       21    0.000    0.000    0.003    0.000 pyparsing.py:1260(setParseAction)\n",
       "       35    0.000    0.000    0.000    0.000 sre_compile.py:393(_generate_overlap_table)\n",
       "       30    0.000    0.000    0.000    0.000 rcsetup.py:288(__call__)\n",
       "       61    0.000    0.000    0.004    0.000 pyparsing.py:3292(<listcomp>)\n",
       "        1    0.000    0.000    0.655    0.655 font_manager.py:953(__init__)\n",
       "        1    0.000    0.000    0.004    0.004 tensor_pb2.py:4(<module>)\n",
       "       25    0.000    0.000    0.003    0.000 pyparsing.py:1250(setParseAction)\n",
       "        1    0.000    0.000    0.013    0.013 patches.py:1(<module>)\n",
       "      149    0.000    0.000    0.000    0.000 utils.py:37(register_interface)\n",
       "       44    0.000    0.000    0.000    0.000 _inspect.py:98(getargspec)\n",
       "      195    0.000    0.000    0.000    0.000 pyparsing.py:3392(<genexpr>)\n",
       "        1    0.000    0.000    0.000    0.000 synchronize.py:50(__init__)\n",
       "       16    0.000    0.000    0.000    0.000 enum.py:464(_find_new_)\n",
       "       30    0.000    0.000    0.000    0.000 contextlib.py:59(__init__)\n",
       "      100    0.000    0.000    0.000    0.000 {method 'translate' of 'bytearray' objects}\n",
       "       68    0.000    0.000    0.001    0.000 argparse.py:2352(_get_formatter)\n",
       "      211    0.000    0.000    0.000    0.000 {method 'start' of '_sre.SRE_Match' objects}\n",
       "    36/11    0.000    0.000    0.008    0.001 pyparsing.py:3743(leaveWhitespace)\n",
       "       82    0.000    0.000    0.000    0.000 pyparsing.py:363(__new__)\n",
       "        1    0.000    0.000    0.000    0.000 _mathtext_data.py:1751(<dictcomp>)\n",
       "        1    0.000    0.000    0.001    0.001 _torch_docs.py:1(<module>)\n",
       "        1    0.000    0.000    0.000    0.000 core.py:2710(MaskedArray)\n",
       "       68    0.000    0.000    0.000    0.000 argparse.py:793(__init__)\n",
       "        1    0.000    0.000    0.000    0.000 decomp_lu.py:1(<module>)\n",
       "        1    0.000    0.000    0.003    0.003 modes.py:5(<module>)\n",
       "        1    0.000    0.000    0.000    0.000 numerictypes.py:299(_add_aliases)\n",
       "  109/105    0.000    0.000    0.001    0.000 __init__.py:409(wrapper)\n",
       "       82    0.000    0.000    0.000    0.000 descriptor.py:281(__new__)\n",
       "      170    0.000    0.000    0.000    0.000 pyparsing.py:2061(setWhitespaceChars)\n",
       "       18    0.000    0.000    0.007    0.000 font_manager.py:149(list_fonts)\n",
       "        2    0.000    0.000    0.073    0.036 base.py:5(<module>)\n",
       "       68    0.000    0.000    0.000    0.000 argparse.py:1480(_pop_action_class)\n",
       "       39    0.000    0.000    0.002    0.000 inspect.py:2817(replace)\n",
       "      100    0.000    0.000    0.000    0.000 six.py:177(_add_module)\n",
       "        1    0.000    0.000    0.000    0.000 rrule.py:7(<module>)\n",
       "       84    0.000    0.000    0.000    0.000 activation.py:617(extra_repr)\n",
       "       60    0.000    0.000    0.000    0.000 {built-in method numpy.core.multiarray.result_type}\n",
       "      148    0.000    0.000    0.000    0.000 rcsetup.py:52(func)\n",
       "        1    0.000    0.000    0.002    0.002 core.py:47(<module>)\n",
       "        1    0.000    0.000    0.000    0.000 __init__.py:286(Verbose)\n",
       "      145    0.000    0.000    0.000    0.000 inspect.py:64(ismodule)\n",
       "       82    0.000    0.000    0.000    0.000 {method 'FindMessageTypeByName' of 'google.protobuf.pyext._message.DescriptorPool' objects}\n",
       "       26    0.000    0.000    0.000    0.000 __init__.py:3037(_find_adapter)\n",
       "       86    0.000    0.000    0.000    0.000 pyparsing.py:3505(<genexpr>)\n",
       "       51    0.000    0.000    0.000    0.000 _internal.py:715(_ufunc_doc_signature_formatter)\n",
       "        8    0.000    0.000    0.001    0.000 utils.py:1(<module>)\n",
       "        1    0.000    0.000    0.000    0.000 numerictypes.py:120(<listcomp>)\n",
       "       55    0.000    0.000    0.000    0.000 rcsetup.py:939(_validate_linestyle)\n",
       "       16    0.000    0.000    0.000    0.000 enum.py:114(__prepare__)\n",
       "       30    0.000    0.000    0.000    0.000 tokenize.py:385(find_cookie)\n",
       "      220    0.000    0.000    0.000    0.000 {method 'is_dir' of 'posix.DirEntry' objects}\n",
       "        1    0.000    0.000    0.429    0.429 workspace.py:3(<module>)\n",
       "      113    0.000    0.000    0.000    0.000 descriptor.py:690(__new__)\n",
       "        3    0.000    0.000    0.115    0.038 __init__.py:6(<module>)\n",
       "      186    0.000    0.000    0.000    0.000 {method 'ljust' of 'str' objects}\n",
       "        1    0.000    0.000    0.002    0.002 dates.py:134(<module>)\n",
       "      115    0.000    0.000    0.000    0.000 pyparsing.py:2175(__str__)\n",
       "      126    0.000    0.000    0.000    0.000 deprecation.py:115(deprecated)\n",
       "       35    0.000    0.000    0.001    0.000 __init__.py:1838(getLogger)\n",
       "        1    0.000    0.000    0.000    0.000 text_encoding.py:37(<listcomp>)\n",
       "        1    0.000    0.000    0.000    0.000 decode_asn1.py:5(<module>)\n",
       "       23    0.000    0.000    0.000    0.000 rcsetup.py:57(<dictcomp>)\n",
       "        6    0.000    0.000    0.002    0.000 warnings.py:119(filterwarnings)\n",
       "       30    0.000    0.000    0.000    0.000 contextlib.py:85(__exit__)\n",
       "       11    0.000    0.000    0.002    0.000 <frozen importlib._bootstrap_external>:993(__iter__)\n",
       "        1    0.000    0.000    0.000    0.000 tensor_shape_pb2.py:4(<module>)\n",
       "        1    0.000    0.000    0.000    0.000 widgets.py:1440(_SelectorWidget)\n",
       "       22    0.000    0.000    0.001    0.000 artist.py:32(allow_rasterization)\n",
       "       92    0.000    0.000    0.000    0.000 textwrap.py:479(prefixed_lines)\n",
       "       68    0.000    0.000    0.000    0.000 argparse.py:564(_metavar_formatter)\n",
       "       31    0.000    0.000    0.000    0.000 copyreg.py:96(_slotnames)\n",
       "        1    0.000    0.000    0.001    0.001 encoder.py:65(<module>)\n",
       "        1    0.000    0.000    0.000    0.000 _mathtext_data.py:3(<module>)\n",
       "        1    0.000    0.000    0.104    0.104 crypto.py:1(<module>)\n",
       "       26    0.000    0.000    0.001    0.000 core.py:6573(getdoc)\n",
       "       86    0.000    0.000    0.000    0.000 six.py:105(__init__)\n",
       "      189    0.000    0.000    0.000    0.000 status_codes.py:112(<genexpr>)\n",
       "       21    0.000    0.000    0.001    0.000 argparse.py:1843(consume_optional)\n",
       "       31    0.000    0.000    0.000    0.000 posixpath.py:232(expanduser)\n",
       "        6    0.000    0.000    0.000    0.000 __init__.py:930(__init__)\n",
       "        1    0.000    0.000    0.000    0.000 runner.py:120(TextTestRunner)\n",
       "    24/12    0.000    0.000    0.002    0.000 pyparsing.py:3613(parseImpl)\n",
       "      137    0.000    0.000    0.000    0.000 {method '__contains__' of 'frozenset' objects}\n",
       "       60    0.000    0.000    0.000    0.000 afm.py:513(get_familyname)\n",
       "        4    0.000    0.000    0.021    0.005 font_manager.py:252(findSystemFonts)\n",
       "       82    0.000    0.000    0.000    0.000 types.py:135(__get__)\n",
       "      8/6    0.000    0.000    0.006    0.001 __init__.py:2159(declare_namespace)\n",
       "       71    0.000    0.000    0.000    0.000 kl.py:69(decorator)\n",
       "       24    0.000    0.000    0.000    0.000 dviread.py:155(decorate)\n",
       "       68    0.000    0.000    0.000    0.000 status_codes.py:111(doc)\n",
       "      101    0.000    0.000    0.000    0.000 _inspect.py:133(strseq)\n",
       "       29    0.000    0.000    0.000    0.000 typing.py:1025(_abc_negative_cache)\n",
       "      142    0.000    0.000    0.000    0.000 {method 'expandtabs' of 'str' objects}\n",
       "       20    0.000    0.000    0.003    0.000 pyparsing.py:4012(parseImpl)\n",
       "       98    0.000    0.000    0.000    0.000 pyparsing.py:2181(streamline)\n",
       "       93    0.000    0.000    0.000    0.000 pyparsing.py:219(__init__)\n",
       "       68    0.000    0.000    0.000    0.000 argparse.py:573(format)\n",
       "       82    0.000    0.000    0.000    0.000 {method 'AddDescriptor' of 'google.protobuf.pyext._message.DescriptorPool' objects}\n",
       "        2    0.000    0.000    0.011    0.005 __init__.py:45(<module>)\n",
       "       42    0.000    0.000    0.000    0.000 pyparsing.py:1079(wrapper)\n",
       "      137    0.000    0.000    0.000    0.000 pyparsing.py:2083(setWhitespaceChars)\n",
       "        1    0.000    0.000    0.001    0.001 argparse.py:1740(parse_known_args)\n",
       "        2    0.000    0.000    0.000    0.000 traceback.py:367(from_list)\n",
       "        1    0.000    0.000    0.002    0.002 resource_handle_pb2.py:4(<module>)\n",
       "        2    0.000    0.000    0.019    0.009 event_file_writer.py:90(__init__)\n",
       "      188    0.000    0.000    0.000    0.000 __init__.py:2498(_reload_version)\n",
       "        1    0.000    0.000    0.054    0.054 text.py:3(<module>)\n",
       "       56    0.000    0.000    0.000    0.000 batchnorm.py:78(extra_repr)\n",
       "        1    0.000    0.000    0.000    0.000 colors.py:89(<dictcomp>)\n",
       "        1    0.000    0.000    0.000    0.000 structures.py:87(LookupDict)\n",
       "        2    0.000    0.000    0.000    0.000 response.py:1(<module>)\n",
       "        1    0.000    0.000    0.000    0.000 auto.py:272(<setcomp>)\n",
       "        1    0.000    0.000    0.000    0.000 _iotools.py:493(StringConverter)\n",
       "       60    0.000    0.000    0.000    0.000 function_base.py:13(_index_deprecate)\n",
       "       21    0.000    0.000    0.000    0.000 argparse.py:1822(take_action)\n",
       "       16    0.000    0.000    0.000    0.000 {method 'sort' of 'list' objects}\n",
       "        1    0.000    0.000    0.008    0.008 Image.py:30(<module>)\n",
       "        2    0.000    0.000    0.000    0.000 {built-in method _ctypes.dlopen}\n",
       "       47    0.000    0.000    0.000    0.000 pyparsing.py:2453(parseImpl)\n",
       "       68    0.000    0.000    0.001    0.000 argparse.py:1713(_add_action)\n",
       "      188    0.000    0.000    0.000    0.000 pyparsing.py:2656(<genexpr>)\n",
       "        1    0.000    0.000    0.000    0.000 _tqdm.py:112(tqdm)\n",
       "        1    0.000    0.000    0.156    0.156 pyopenssl.py:43(<module>)\n",
       "       44    0.000    0.000    0.001    0.000 core.py:149(get_object_signature)\n",
       "        1    0.000    0.000    0.029    0.029 util.py:150(_get_soname)\n",
       "       97    0.000    0.000    0.000    0.000 pyparsing.py:4934(<genexpr>)\n",
       "        1    0.000    0.000    0.041    0.041 collections.py:10(<module>)\n",
       "        1    0.000    0.000    0.000    0.000 _color_data.py:1(<module>)\n",
       "       95    0.000    0.000    0.000    0.000 cycler.py:138(keys)\n",
       "        1    0.000    0.000    0.039    0.039 keys.py:15(<module>)\n",
       "        1    0.000    0.000    0.000    0.000 independent.py:7(Independent)\n",
       "        2    0.000    0.000    0.032    0.016 subprocess.py:588(__init__)\n",
       "     20/8    0.000    0.000    0.001    0.000 pyparsing.py:3547(parseImpl)\n",
       "       96    0.000    0.000    0.000    0.000 pyparsing.py:2153(__str__)\n",
       "       45    0.000    0.000    0.000    0.000 docstring.py:44(update)\n",
       "      138    0.000    0.000    0.000    0.000 cycler.py:212(<genexpr>)\n",
       "        3    0.000    0.000    0.003    0.001 distributed.py:1(<module>)\n",
       "        1    0.000    0.000    0.000    0.000 stringprep.py:6(<module>)\n",
       "       62    0.000    0.000    0.000    0.000 numerictypes.py:127(english_lower)\n",
       "       31    0.000    0.000    0.000    0.000 numeric.py:433(asarray)\n",
       "        1    0.000    0.000    0.000    0.000 __init__.py:1078(<listcomp>)\n",
       "      163    0.000    0.000    0.000    0.000 {method '__subclasshook__' of 'object' objects}\n",
       "     10/2    0.000    0.000    0.001    0.001 pyparsing.py:3397(parseImpl)\n",
       "       15    0.000    0.000    0.000    0.000 pyparsing.py:4565(_escapeRegexRangeChars)\n",
       "       97    0.000    0.000    0.000    0.000 pyparsing.py:4781(<genexpr>)\n",
       "        1    0.000    0.000    0.007    0.007 pyplot.py:177(switch_backend)\n",
       "        1    0.000    0.000    0.002    0.002 utils.py:4(<module>)\n",
       "        1    0.000    0.000    0.000    0.000 types_pb2.py:4(<module>)\n",
       "        1    0.000    0.000    0.012    0.012 connectionpool.py:1(<module>)\n",
       "       28    0.000    0.000    0.000    0.000 pooling.py:24(extra_repr)\n",
       "        2    0.000    0.000    0.001    0.000 function_base.py:1(<module>)\n",
       "    33/10    0.000    0.000    0.007    0.001 pyparsing.py:3809(leaveWhitespace)\n",
       "       55    0.000    0.000    0.000    0.000 rcsetup.py:667(__call__)\n",
       "       39    0.000    0.000    0.000    0.000 __init__.py:1598(_preprocess_data)\n",
       "       86    0.000    0.000    0.000    0.000 rcsetup.py:201(validate_int)\n",
       "       89    0.000    0.000    0.000    0.000 docstring.py:98(do_copy)\n",
       "        2    0.000    0.000    0.007    0.003 ocsp.py:5(<module>)\n",
       "        1    0.000    0.000    0.029    0.029 _big_num_ctypes.py:20(<module>)\n",
       "       69    0.000    0.000    0.000    0.000 __init__.py:1265(<lambda>)\n",
       "      188    0.000    0.000    0.000    0.000 pyparsing.py:2678(<genexpr>)\n",
       "       47    0.000    0.000    0.000    0.000 {built-in method _imp.is_builtin}\n",
       "       20    0.000    0.000    0.000    0.000 pyparsing.py:2813(parseImpl)\n",
       "        4    0.000    0.000    0.001    0.000 font_manager.py:281(<listcomp>)\n",
       "        1    0.000    0.000    0.000    0.000 exponential.py:9(Exponential)\n",
       "       82    0.000    0.000    0.000    0.000 backend.py:13(register_function)\n",
       "       23    0.000    0.000    0.000    0.000 re.py:249(escape)\n",
       "      142    0.000    0.000    0.000    0.000 _collections_abc.py:392(__subclasshook__)\n",
       "        2    0.000    0.000    0.000    0.000 pygram.py:22(__init__)\n",
       "       17    0.000    0.000    0.000    0.000 cycler.py:55(_process_keys)\n",
       "        1    0.000    0.000    0.000    0.000 SSL.py:1(<module>)\n",
       "        1    0.000    0.000    0.000    0.000 base.py:79(Certificate)\n",
       "        1    0.000    0.000    0.001    0.001 extras.py:10(<module>)\n",
       "       45    0.000    0.000    0.000    0.000 pyparsing.py:1200(setName)\n",
       "       30    0.000    0.000    0.010    0.000 __init__.py:826(__init__)\n",
       "      196    0.000    0.000    0.000    0.000 pathlib.py:300(casefold_parts)\n",
       "       86    0.000    0.000    0.000    0.000 textwrap.py:476(predicate)\n",
       "        3    0.000    0.000    0.000    0.000 gettext.py:466(find)\n",
       "       27    0.000    0.000    0.000    0.000 locale.py:631(getpreferredencoding)\n",
       "       23    0.000    0.000    0.000    0.000 utils.py:112(__init__)\n",
       "        2    0.000    0.000    0.000    0.000 getlimits.py:409(_init)\n",
       "       21    0.000    0.000    0.000    0.000 argparse.py:2234(_get_values)\n",
       "       34    0.000    0.000    0.000    0.000 _bootlocale.py:23(getpreferredencoding)\n",
       "       13    0.000    0.000    0.000    0.000 <frozen importlib._bootstrap>:433(spec_from_loader)\n",
       "       34    0.000    0.000    0.000    0.000 {built-in method _locale.nl_langinfo}\n",
       "      139    0.000    0.000    0.000    0.000 pyparsing.py:3543(<genexpr>)\n",
       "       60    0.000    0.000    0.000    0.000 pyparsing.py:1351(preParse)\n",
       "       14    0.000    0.000    0.002    0.000 __init__.py:2232(normalize_path)\n",
       "        1    0.000    0.000    0.830    0.830 colorbar.py:20(<module>)\n",
       "        1    0.000    0.000    0.002    0.002 case.py:1(<module>)\n",
       "       20    0.000    0.000    0.002    0.000 pyparsing.py:4156(parseImpl)\n",
       "       48    0.000    0.000    0.000    0.000 traceback.py:273(__getitem__)\n",
       "       23    0.000    0.000    0.000    0.000 pyparsing.py:2742(__str__)\n",
       "       56    0.000    0.000    0.000    0.000 patches.py:1919(_register_style)\n",
       "       88    0.000    0.000    0.000    0.000 docstring.py:115(copy_dedent)\n",
       "       17    0.000    0.000    0.000    0.000 cycler.py:112(__init__)\n",
       "        1    0.000    0.000    0.030    0.030 utils.py:9(<module>)\n",
       "       30    0.000    0.000    0.000    0.000 contextlib.py:157(helper)\n",
       "        1    0.000    0.000    0.000    0.000 __init__.py:210(<listcomp>)\n",
       "        1    0.000    0.000    0.000    0.000 offsetbox.py:966(AnchoredOffsetbox)\n",
       "        1    0.000    0.000    0.695    0.695 font_manager.py:21(<module>)\n",
       "        3    0.000    0.000    0.006    0.002 __init__.py:15(<module>)\n",
       "        1    0.000    0.000    0.000    0.000 serialization.py:198(BestAvailableEncryption)\n",
       "        7    0.000    0.000    0.000    0.000 utils.py:74(__call__)\n",
       "       21    0.000    0.000    0.000    0.000 pyparsing.py:2764(__str__)\n",
       "       24    0.000    0.000    0.001    0.000 __init__.py:1870(find_distributions)\n",
       "        1    0.000    0.000    0.015    0.015 cookiejar.py:26(<module>)\n",
       "        1    0.000    0.000    0.002    0.002 __init__.py:88(<module>)\n",
       "        1    0.000    0.000    0.000    0.000 arrayprint.py:5(<module>)\n",
       "       72    0.000    0.000    0.000    0.000 pyparsing.py:1506(get)\n",
       "       24    0.000    0.000    0.000    0.000 {built-in method _hashlib.openssl_md5}\n",
       "       74    0.000    0.000    0.000    0.000 codecs.py:259(__init__)\n",
       "        3    0.000    0.000    0.000    0.000 {method 'SerializeToString' of 'google.protobuf.pyext._message.CMessage' objects}\n",
       "        1    0.000    0.000    0.000    0.000 {built-in method _openssl.Cryptography_add_osrandom_engine}\n",
       "        1    0.000    0.000    0.000    0.000 auto.py:271(<dictcomp>)\n",
       "      158    0.000    0.000    0.000    0.000 pyparsing.py:3458(<genexpr>)\n",
       "       19    0.000    0.000    0.000    0.000 __init__.py:1357(_to_unmasked_float_array)\n",
       "       82    0.000    0.000    0.000    0.000 symbol_database.py:85(RegisterMessageDescriptor)\n",
       "       45    0.000    0.000    0.000    0.000 pyparsing.py:1190(setName)\n",
       "        1    0.000    0.000    0.003    0.003 dviread.py:18(<module>)\n",
       "        2    0.000    0.000    0.007    0.003 rsa.py:5(<module>)\n",
       "        2    0.000    0.000    0.002    0.001 hashes.py:5(<module>)\n",
       "       17    0.000    0.000    0.000    0.000 ocsp.py:25(_requires_successful_response)\n",
       "    34/26    0.000    0.000    0.000    0.000 pyparsing.py:3500(__str__)\n",
       "        2    0.000    0.000    0.006    0.003 transforms.py:1(<module>)\n",
       "        1    0.000    0.000    0.001    0.001 dviread.py:173(Dvi)\n",
       "        6    0.000    0.000    0.001    0.000 patches.py:1811(_pprint_table)\n",
       "        1    0.000    0.000    0.000    0.000 pyplot.py:2078(<listcomp>)\n",
       "        2    0.000    0.000    0.007    0.003 connection.py:1(<module>)\n",
       "       15    0.000    0.000    0.000    0.000 rcsetup.py:291(<listcomp>)\n",
       "       49    0.000    0.000    0.000    0.000 pyparsing.py:421(__getitem__)\n",
       "        2    0.000    0.000    0.000    0.000 queue.py:27(__init__)\n",
       "        2    0.000    0.000    0.001    0.000 enum.py:366(_create_)\n",
       "        1    0.000    0.000    0.356    0.356 writer.py:15(<module>)\n",
       "        1    0.000    0.000    0.004    0.004 backend_inline.py:1(<module>)\n",
       "        1    0.000    0.000    0.044    0.044 _axes.py:1(<module>)\n",
       "        1    0.000    0.000    0.001    0.001 cm.py:99(<dictcomp>)\n",
       "       17    0.000    0.000    0.000    0.000 cycler.py:468(cycler)\n",
       "       38    0.000    0.000    0.000    0.000 colors.py:788(__init__)\n",
       "       69    0.000    0.000    0.000    0.000 status_codes.py:117(<genexpr>)\n",
       "       56    0.000    0.000    0.000    0.000 activation.py:84(extra_repr)\n",
       "       78    0.000    0.000    0.000    0.000 _internal.py:726(<genexpr>)\n",
       "       30    0.000    0.000    0.004    0.000 rcsetup.py:446(validate_font_properties)\n",
       "        1    0.000    0.000    0.003    0.003 fontconfig_pattern.py:65(__init__)\n",
       "       20    0.000    0.000    0.000    0.000 pyparsing.py:1589(resetCache)\n",
       "        7    0.000    0.000    0.000    0.000 {built-in method posix.close}\n",
       "        1    0.000    0.000    0.002    0.002 graph_pb2.py:4(<module>)\n",
       "        1    0.000    0.000    0.000    0.000 versions_pb2.py:4(<module>)\n",
       "        1    0.000    0.000    0.000    0.000 legend_handler.py:25(<module>)\n",
       "        1    0.000    0.000    0.090    0.090 thnn.py:21(_initialize_backend)\n",
       "        1    0.000    0.000    0.000    0.000 numeric.py:2923(<listcomp>)\n",
       "       26    0.000    0.000    0.000    0.000 argparse.py:2286(_get_value)\n",
       "       40    0.000    0.000    0.000    0.000 __init__.py:219(_acquireLock)\n",
       "        2    0.000    0.000    0.000    0.000 enum.py:857(<listcomp>)\n",
       "        2    0.000    0.000    0.003    0.002 dsa.py:5(<module>)\n",
       "        1    0.000    0.000    0.023    0.023 grammar.py:13(<module>)\n",
       "        1    0.000    0.000    0.002    0.002 backend_agg.py:21(<module>)\n",
       "       89    0.000    0.000    0.000    0.000 docstring.py:96(copy)\n",
       "        1    0.000    0.000    0.000    0.000 frontend.py:1(<module>)\n",
       "        3    0.000    0.000    0.000    0.000 _six.py:61(__new__)\n",
       "       29    0.000    0.000    0.000    0.000 typing.py:1039(_abc_negative_cache_version)\n",
       "       30    0.000    0.000    0.000    0.000 sre_parse.py:257(getwhile)\n",
       "       29    0.000    0.000    0.000    0.000 _collections_abc.py:657(get)\n",
       "       54    0.000    0.000    0.000    0.000 {method 'setter' of 'property' objects}\n",
       "        1    0.000    0.000    0.079    0.079 figure.py:12(<module>)\n",
       "        1    0.000    0.000    0.005    0.005 image.py:4(<module>)\n",
       "        1    0.000    0.000    0.005    0.005 cookies.py:127(<module>)\n",
       "       32    0.000    0.000    0.000    0.000 inspect.py:73(isclass)\n",
       "       40    0.000    0.000    0.000    0.000 __init__.py:228(_releaseLock)\n",
       "        2    0.000    0.000    0.000    0.000 profiler.py:1(<module>)\n",
       "       28    0.000    0.000    0.000    0.000 pyparsing.py:3997(__init__)\n",
       "        1    0.000    0.000    0.003    0.003 backend_bases.py:33(<module>)\n",
       "        1    0.000    0.000    0.002    0.002 serialization.py:1(<module>)\n",
       "       10    0.000    0.000    0.000    0.000 sre_compile.py:381(_bytes_to_codes)\n",
       "       60    0.000    0.000    0.000    0.000 {method 'copy' of 'mappingproxy' objects}\n",
       "        1    0.000    0.000    0.001    0.001 pyparsing.py:4875(_makeTags)\n",
       "        1    0.000    0.000    0.001    0.001 blas.py:202(<module>)\n",
       "        1    0.000    0.000    0.000    0.000 quiver.py:15(<module>)\n",
       "        1    0.000    0.000    0.001    0.001 serialization.py:5(<module>)\n",
       "       10    0.000    0.000    0.000    0.000 extras.py:242(getdoc)\n",
       "        1    0.000    0.000    0.001    0.001 linalg.py:10(<module>)\n",
       "       18    0.000    0.000    0.001    0.000 pyparsing.py:4092(parseImpl)\n",
       "       15    0.000    0.000    0.000    0.000 rcsetup.py:906(validate_animation_writer_path)\n",
       "       40    0.000    0.000    0.000    0.000 typing.py:889(__extrahook__)\n",
       "       21    0.000    0.000    0.000    0.000 argparse.py:2050(_match_argument)\n",
       "       17    0.000    0.000    0.000    0.000 {built-in method _struct.calcsize}\n",
       "        6    0.000    0.000    0.000    0.000 __init__.py:52(__new__)\n",
       "        1    0.000    0.000    0.000    0.000 text_encoding.py:83(<listcomp>)\n",
       "        3    0.000    0.000    0.033    0.011 _util.py:1(<module>)\n",
       "        1    0.000    0.000    0.002    0.002 colors.py:61(<module>)\n",
       "        1    0.000    0.000    0.002    0.002 models.py:8(<module>)\n",
       "        1    0.000    0.000    0.008    0.008 general_name.py:5(<module>)\n",
       "        1    0.000    0.000    0.000    0.000 extensions.py:142(AuthorityKeyIdentifier)\n",
       "       40    0.000    0.000    0.000    0.000 {method 'copy' of 'numpy.ndarray' objects}\n",
       "       11    0.000    0.000    0.000    0.000 __init__.py:365(__getitem__)\n",
       "       68    0.000    0.000    0.000    0.000 argparse.py:1493(_check_conflict)\n",
       "       16    0.000    0.000    0.000    0.000 enum.py:135(<dictcomp>)\n",
       "    13/12    0.000    0.000    0.024    0.002 <frozen importlib._bootstrap>:622(_load_backward_compatible)\n",
       "        1    0.000    0.000    0.000    0.000 plugin_pr_curve_pb2.py:4(<module>)\n",
       "        1    0.000    0.000    0.005    0.005 plistlib.py:47(<module>)\n",
       "        1    0.000    0.000    0.000    0.000 transforms.py:2474(CompositeAffine2D)\n",
       "       15    0.000    0.000    0.001    0.000 pyplot.py:2363(<lambda>)\n",
       "        1    0.000    0.000    0.000    0.000 encode_asn1.py:5(<module>)\n",
       "        1    0.000    0.000    0.001    0.001 pooling.py:1(<module>)\n",
       "        1    0.000    0.000    0.000    0.000 tarfile.py:30(<module>)\n",
       "       10    0.000    0.000    0.000    0.000 getlimits.py:71(<lambda>)\n",
       "       11    0.000    0.000    0.006    0.001 pyparsing.py:1630(parseString)\n",
       "        8    0.000    0.000    0.000    0.000 pathlib.py:385(wrapped)\n",
       "       68    0.000    0.000    0.000    0.000 argparse.py:202(__init__)\n",
       "       60    0.000    0.000    0.000    0.000 {method 'replace' of 'bytes' objects}\n",
       "      102    0.000    0.000    0.000    0.000 {method 'translate' of 'str' objects}\n",
       "        1    0.000    0.000    0.000    0.000 decomp_svd.py:1(<module>)\n",
       "        1    0.000    0.000    0.000    0.000 legend.py:307(Legend)\n",
       "        1    0.000    0.000    0.001    0.001 distributed_c10d.py:1(<module>)\n",
       "        1    0.000    0.000    0.001    0.001 loss.py:1(<module>)\n",
       "      138    0.000    0.000    0.000    0.000 pyparsing.py:1376(postParse)\n",
       "        3    0.000    0.000    0.000    0.000 argparse.py:1226(__init__)\n",
       "       39    0.000    0.000    0.000    0.000 __init__.py:190(_checkLevel)\n",
       "        3    0.000    0.000    0.000    0.000 normalization.py:1(<module>)\n",
       "      118    0.000    0.000    0.000    0.000 {method 'upper' of 'str' objects}\n",
       "       16    0.000    0.000    0.000    0.000 pyparsing.py:2707(parseImpl)\n",
       "       38    0.000    0.000    0.001    0.000 pyparsing.py:4230(__init__)\n",
       "       30    0.000    0.000    0.000    0.000 getlimits.py:26(_fr1)\n",
       "       25    0.000    0.000    0.000    0.000 pyparsing.py:4150(__init__)\n",
       "       95    0.000    0.000    0.000    0.000 pyparsing.py:213(<genexpr>)\n",
       "       11    0.000    0.000    0.001    0.000 <frozen importlib._bootstrap_external>:980(_recalculate)\n",
       "        1    0.000    0.000    0.002    0.002 summary.py:30(<module>)\n",
       "       12    0.000    0.000    0.000    0.000 pyparsing.py:663(__iadd__)\n",
       "        1    0.000    0.000    0.006    0.006 axis.py:3(<module>)\n",
       "        1    0.000    0.000    0.008    0.008 _base.py:1(<module>)\n",
       "        1    0.000    0.000    0.001    0.001 patches.py:1927(BoxStyle)\n",
       "        6    0.000    0.000    0.000    0.000 patches.py:1822(<listcomp>)\n",
       "        1    0.000    0.000    0.000    0.000 colors.py:73(__init__)\n",
       "        1    0.000    0.000    0.003    0.003 sessions.py:9(<module>)\n",
       "        1    0.000    0.000    0.000    0.000 cookies.py:170(<dictcomp>)\n",
       "       44    0.000    0.000    0.000    0.000 pyparsing.py:3647(<genexpr>)\n",
       "       10    0.000    0.000    0.000    0.000 pyparsing.py:4004(__init__)\n",
       "     12/2    0.000    0.000    0.000    0.000 pyparsing.py:1948(makeOptionalList)\n",
       "       13    0.000    0.000    0.000    0.000 os.py:794(fsencode)\n",
       "        1    0.000    0.000    0.000    0.000 text_encoding.py:84(<listcomp>)\n",
       "       17    0.000    0.000    0.000    0.000 cycler.py:529(_cycler)\n",
       "       31    0.000    0.000    0.000    0.000 auto.py:109(has_argument)\n",
       "        1    0.000    0.000    0.000    0.000 numerictypes.py:285(_add_types)\n",
       "       36    0.000    0.000    0.000    0.000 getlimits.py:69(<lambda>)\n",
       "        1    0.000    0.000    0.000    0.000 _globals.py:17(<module>)\n",
       "       16    0.000    0.000    0.000    0.000 pyparsing.py:3606(__init__)\n",
       "       16    0.000    0.000    0.000    0.000 pyparsing.py:1970(__or__)\n",
       "        2    0.000    0.000    0.000    0.000 traitlets.py:742(setup_class)\n",
       "        1    0.000    0.000    0.000    0.000 __init__.py:48(<module>)\n",
       "       78    0.000    0.000    0.000    0.000 pyparsing.py:2052(leaveWhitespace)\n",
       "       12    0.000    0.000    0.000    0.000 six.py:91(__get__)\n",
       "       49    0.000    0.000    0.000    0.000 six.py:184(find_module)\n",
       "        1    0.000    0.000    0.002    0.002 patches.py:3102(ArrowStyle)\n",
       "        2    0.000    0.000    0.003    0.002 dh.py:5(<module>)\n",
       "        1    0.000    0.000    0.000    0.000 backend.py:225(_register_default_ciphers)\n",
       "        1    0.000    0.000    0.000    0.000 __init__.py:86(<listcomp>)\n",
       "       26    0.000    0.000    0.000    0.000 {built-in method numpy.core.multiarray.empty}\n",
       "       44    0.000    0.000    0.000    0.000 _inspect.py:28(isfunction)\n",
       "       62    0.000    0.000    0.000    0.000 _inspect.py:146(<lambda>)\n",
       "     23/7    0.000    0.000    0.001    0.000 pyparsing.py:3828(streamline)\n",
       "       32    0.000    0.000    0.000    0.000 rcsetup.py:822(<genexpr>)\n",
       "        1    0.000    0.000    0.000    0.000 __init__.py:265(_parse_commandline)\n",
       "        1    0.000    0.000    0.011    0.011 subprocess.py:372(run)\n",
       "        1    0.000    0.000    0.000    0.000 plugin_text_pb2.py:4(<module>)\n",
       "       41    0.000    0.000    0.000    0.000 pyparsing.py:3439(<genexpr>)\n",
       "        4    0.000    0.000    0.000    0.000 crc32c.py:77(crc_update)\n",
       "        1    0.000    0.000    0.001    0.001 ticker.py:165(<module>)\n",
       "        2    0.000    0.000    0.001    0.000 font_manager.py:248(<listcomp>)\n",
       "        1    0.000    0.000    0.004    0.004 algos.py:19(<module>)\n",
       "        1    0.000    0.000    0.001    0.001 activation.py:1(<module>)\n",
       "        1    0.000    0.000    0.000    0.000 streams.py:126(EventHandle)\n",
       "        1    0.000    0.000    0.000    0.000 numerictypes.py:766(_construct_lookups)\n",
       "       60    0.000    0.000    0.000    0.000 six.py:835(add_metaclass)\n",
       "       37    0.000    0.000    0.000    0.000 <frozen importlib._bootstrap_external>:908(__init__)\n",
       "        4    0.000    0.000    0.362    0.091 __init__.py:2(<module>)\n",
       "        2    0.000    0.000    0.000    0.000 {built-in method posix.putenv}\n",
       "       24    0.000    0.000    0.000    0.000 __init__.py:1793(has_metadata)\n",
       "       16    0.000    0.000    0.001    0.000 __init__.py:1813(get_metadata_lines)\n",
       "        1    0.000    0.000    0.000    0.000 backend_inline.py:151(_enable_matplotlib_integration)\n",
       "        4    0.000    0.000    0.000    0.000 legend_handler.py:179(__init__)\n",
       "        1    0.000    0.000    0.690    0.690 font_manager.py:1344(_rebuild)\n",
       "        1    0.000    0.000    0.002    0.002 afm.py:38(<module>)\n",
       "        1    0.000    0.000    0.755    0.755 contour.py:3(<module>)\n",
       "        1    0.000    0.000    0.012    0.012 lines.py:4(<module>)\n",
       "        1    0.000    0.000    0.002    0.002 adapters.py:9(<module>)\n",
       "        1    0.000    0.000    0.001    0.001 interfaces.py:5(<module>)\n",
       "       41    0.000    0.000    0.000    0.000 enum.py:874(_power_of_two)\n",
       "        1    0.000    0.000    0.002    0.002 type_checkers.py:44(<module>)\n",
       "        3    0.000    0.000    0.002    0.001 __init__.py:10(<module>)\n",
       "       95    0.000    0.000    0.000    0.000 pyparsing.py:203(<genexpr>)\n",
       "        1    0.000    0.000    0.000    0.000 triinterpolate.py:594(_ReducedHCT_Element)\n",
       "        1    0.000    0.000    0.009    0.009 legend.py:22(<module>)\n",
       "        1    0.000    0.000    0.001    0.001 texmanager.py:48(TexManager)\n",
       "        1    0.000    0.000    0.000    0.000 colorbar.py:307(ColorbarBase)\n",
       "       38    0.000    0.000    0.000    0.000 constraint_registry.py:86(register)\n",
       "        1    0.000    0.000    0.001    0.001 constraint_registry.py:66(<module>)\n",
       "       16    0.000    0.000    0.000    0.000 enum.py:65(__init__)\n",
       "       14    0.000    0.000    0.002    0.000 posixpath.py:384(realpath)\n",
       "        4    0.000    0.000    0.086    0.021 container.py:1(<module>)\n",
       "        3    0.000    0.000    0.000    0.000 _utils.py:1(<module>)\n",
       "        3    0.000    0.000    0.005    0.002 misc.py:1(<module>)\n",
       "       41    0.000    0.000    0.000    0.000 pyparsing.py:3581(<genexpr>)\n",
       "        1    0.000    0.000    0.001    0.001 odefunc_rl.py:1(<module>)\n",
       "        1    0.000    0.000    0.000    0.000 socks.py:55(<module>)\n",
       "        1    0.000    0.000    0.000    0.000 conv.py:2(<module>)\n",
       "        1    0.000    0.000    0.005    0.005 _internal.py:6(<module>)\n",
       "       14    0.000    0.000    0.000    0.000 functools.py:479(decorating_function)\n",
       "        1    0.000    0.000    0.000    0.000 scale.py:1(<module>)\n",
       "        1    0.000    0.000    0.000    0.000 _cm.py:7(<module>)\n",
       "        1    0.000    0.000    0.003    0.003 sbcsgroupprober.py:29(<module>)\n",
       "        1    0.000    0.000    0.007    0.007 adam.py:30(__init__)\n",
       "       31    0.000    0.000    0.000    0.000 auto.py:118(<listcomp>)\n",
       "       19    0.000    0.000    0.000    0.000 {method 'all' of 'numpy.ndarray' objects}\n",
       "        2    0.000    0.000    0.000    0.000 shape_base.py:1(<module>)\n",
       "        2    0.000    0.000    0.000    0.000 __init__.py:1825(_lock_path)\n",
       "        1    0.000    0.000    0.000    0.000 __init__.py:1120(<listcomp>)\n",
       "       21    0.000    0.000    0.000    0.000 argparse.py:2190(_get_nargs_pattern)\n",
       "        1    0.000    0.000    0.001    0.001 matfuncs.py:5(<module>)\n",
       "        1    0.000    0.000    0.003    0.003 basic.py:7(<module>)\n",
       "        1    0.000    0.000    0.000    0.000 legend_handler.py:553(__init__)\n",
       "        1    0.000    0.000    0.000    0.000 dataloader.py:768(__init__)\n",
       "        1    0.000    0.000    0.001    0.001 algorithms.py:5(<module>)\n",
       "       27    0.000    0.000    0.000    0.000 core.py:920(__init__)\n",
       "        1    0.000    0.000    0.002    0.002 npyio.py:1(<module>)\n",
       "        1    0.000    0.000    0.000    0.000 defchararray.py:17(<module>)\n",
       "        4    0.000    0.000    0.000    0.000 getlimits.py:376(__new__)\n",
       "       16    0.000    0.000    0.000    0.000 pyparsing.py:2729(parseImpl)\n",
       "       11    0.000    0.000    0.000    0.000 pyparsing.py:4718(_escapeRegexRangeChars)\n",
       "       12    0.000    0.000    0.000    0.000 pyparsing.py:4910(<lambda>)\n",
       "       94    0.000    0.000    0.000    0.000 pyparsing.py:5043(<genexpr>)\n",
       "        6    0.000    0.000    0.000    0.000 version.py:307(parse)\n",
       "       23    0.000    0.000    0.000    0.000 rcsetup.py:47(__init__)\n",
       "        1    0.000    0.000    0.000    0.000 __init__.py:792(<dictcomp>)\n",
       "       30    0.000    0.000    0.000    0.000 tokenize.py:379(read_or_stop)\n",
       "        2    0.000    0.000    0.000    0.000 enum.py:839(_decompose)\n",
       "        1    0.000    0.000    0.001    0.001 decoder.py:79(<module>)\n",
       "        2    0.000    0.000    0.359    0.179 __init__.py:33(<module>)\n",
       "     15/4    0.000    0.000    0.000    0.000 pyparsing.py:3762(streamline)\n",
       "        2    0.000    0.000    0.001    0.000 record_writer.py:114(write)\n",
       "        1    0.000    0.000    0.000    0.000 modules.py:265(GaussianDiag)\n",
       "        1    0.000    0.000    0.000    0.000 config.py:39(InlineBackend)\n",
       "        1    0.000    0.000    0.000    0.000 zipfile.py:5(<module>)\n",
       "        1    0.000    0.000    0.000    0.000 frontend.py:328(ExprBuilder)\n",
       "        2    0.000    0.000    0.003    0.002 rnn.py:1(<module>)\n",
       "        1    0.000    0.000    0.005    0.005 index_tricks.py:1(<module>)\n",
       "       27    0.000    0.000    0.000    0.000 pyparsing.py:4383(__init__)\n",
       "       25    0.000    0.000    0.000    0.000 rcsetup.py:300(<listcomp>)\n",
       "       61    0.000    0.000    0.000    0.000 __init__.py:1916(make_alias)\n",
       "       35    0.000    0.000    0.000    0.000 __init__.py:685(__init__)\n",
       "       49    0.000    0.000    0.000    0.000 {built-in method _stat.S_ISREG}\n",
       "        2    0.000    0.000    0.000    0.000 {built-in method posix.unsetenv}\n",
       "       43    0.000    0.000    0.000    0.000 caffe2_pb2.py:5(<lambda>)\n",
       "        1    0.000    0.000    0.000    0.000 text_encoding.py:48(<listcomp>)\n",
       "       12    0.000    0.000    0.000    0.000 pyparsing.py:4757(<lambda>)\n",
       "        1    0.000    0.000    0.000    0.000 train_misc.py:150(create_regularization_fns)\n",
       "       12    0.000    0.000    0.000    0.000 dual.py:52(register_func)\n",
       "        1    0.000    0.000    0.000    0.000 polar.py:1(<module>)\n",
       "        1    0.000    0.000    0.000    0.000 triinterpolate.py:3(<module>)\n",
       "        1    0.000    0.000    0.001    0.001 backend_tools.py:12(<module>)\n",
       "        1    0.000    0.000    0.002    0.002 _tqdm.py:9(<module>)\n",
       "       26    0.000    0.000    0.001    0.000 core.py:6568(__init__)\n",
       "        1    0.000    0.000    0.000    0.000 case.py:341(TestCase)\n",
       "       44    0.000    0.000    0.000    0.000 pyparsing.py:3609(<genexpr>)\n",
       "        9    0.000    0.000    0.004    0.000 fontconfig_pattern.py:113(parse)\n",
       "       16    0.000    0.000    0.000    0.000 pyparsing.py:673(__iadd__)\n",
       "        6    0.000    0.000    0.000    0.000 gettext.py:205(_expand_lang)\n",
       "        1    0.000    0.000    0.000    0.000 shutil.py:1093(which)\n",
       "       13    0.000    0.000    0.000    0.000 <frozen importlib._bootstrap_external>:976(_get_parent_path)\n",
       "       60    0.000    0.000    0.000    0.000 {method 'lower' of 'bytes' objects}\n",
       "        2    0.000    0.000    0.001    0.000 pyparsing.py:2863(__init__)\n",
       "       14    0.000    0.000    0.000    0.000 __init__.py:3120(<genexpr>)\n",
       "       22    0.000    0.000    0.000    0.000 __init__.py:2263(_is_unpacked_egg)\n",
       "        1    0.000    0.000    0.006    0.006 offsetbox.py:15(<module>)\n",
       "       60    0.000    0.000    0.000    0.000 afm.py:530(get_weight)\n",
       "        1    0.000    0.000    0.000    0.000 contour.py:52(ContourLabeler)\n",
       "        1    0.000    0.000    0.011    0.011 font_manager.py:226(_call_fc_list)\n",
       "        1    0.000    0.000    0.000    0.000 model.py:1(<module>)\n",
       "        1    0.000    0.000    0.032    0.032 binding.py:5(<module>)\n",
       "        1    0.000    0.000    0.007    0.007 mbcsgroupprober.py:30(<module>)\n",
       "        1    0.000    0.000    0.003    0.003 exceptions.py:1(<module>)\n",
       "       39    0.000    0.000    0.000    0.000 _inspect.py:43(iscode)\n",
       "       23    0.000    0.000    0.000    0.000 numerictypes.py:216(_evalname)\n",
       "        4    0.000    0.000    0.000    0.000 weakref.py:102(__init__)\n",
       "        1    0.000    0.000    0.001    0.001 pytorch_graph.py:1(<module>)\n",
       "       12    0.000    0.000    0.008    0.001 pyparsing.py:4251(__init__)\n",
       "       94    0.000    0.000    0.000    0.000 pyparsing.py:4890(<genexpr>)\n",
       "        4    0.000    0.000    0.000    0.000 record_writer.py:127(masked_crc32c)\n",
       "        1    0.000    0.000    0.064    0.064 modules.py:1(<module>)\n",
       "       26    0.000    0.000    0.000    0.000 core.py:55(is_style_file)\n",
       "        1    0.000    0.000    0.023    0.023 textpath.py:1(<module>)\n",
       "        1    0.000    0.000    0.000    0.000 oid.py:11(ExtensionOID)\n",
       "        1    0.000    0.000    0.000    0.000 utf8prober.py:28(<module>)\n",
       "        1    0.000    0.000    0.000    0.000 _jit_internal.py:5(<module>)\n",
       "        4    0.000    0.000    0.000    0.000 __init__.py:484(cast)\n",
       "       74    0.000    0.000    0.000    0.000 pyparsing.py:2074(leaveWhitespace)\n",
       "        1    0.000    0.000    0.000    0.000 tempfile.py:146(rng)\n",
       "       35    0.000    0.000    0.000    0.000 enum.py:822(_high_bit)\n",
       "        1    0.000    0.000    0.002    0.002 noniterators.py:18(<module>)\n",
       "        1    0.000    0.000    0.000    0.000 token.py:3(<module>)\n",
       "        1    0.000    0.000    0.000    0.000 widgets.py:10(<module>)\n",
       "       60    0.000    0.000    0.000    0.000 afm.py:534(get_angle)\n",
       "        1    0.000    0.000    0.003    0.003 x509.py:5(<module>)\n",
       "        1    0.000    0.000    0.001    0.001 poolmanager.py:1(<module>)\n",
       "        1    0.000    0.000    0.088    0.088 auto.py:1(<module>)\n",
       "        1    0.000    0.000    0.000    0.000 ctypeslib.py:332(<dictcomp>)\n",
       "        1    0.000    0.000    0.000    0.000 memmap.py:1(<module>)\n",
       "       30    0.000    0.000    0.000    0.000 getlimits.py:70(<lambda>)\n",
       "        2    0.000    0.000    0.000    0.000 getlimits.py:251(_get_machar)\n",
       "       42    0.000    0.000    0.000    0.000 pyparsing.py:516(haskeys)\n",
       "       27    0.000    0.000    0.000    0.000 __init__.py:956(is_url)\n",
       "        6    0.000    0.000    0.024    0.004 __init__.py:35(load_module)\n",
       "        1    0.000    0.000    0.001    0.001 pyplot.py:1782(get_plot_commands)\n",
       "        3    0.000    0.000    0.000    0.000 utils.py:5(<module>)\n",
       "        1    0.000    0.000    0.004    0.004 name.py:5(<module>)\n",
       "       21    0.000    0.000    0.000    0.000 utils.py:126(__getattr__)\n",
       "        1    0.000    0.000    0.000    0.000 ssl_.py:1(<module>)\n",
       "        1    0.000    0.000    0.000    0.000 multinomial.py:10(Multinomial)\n",
       "        1    0.000    0.000    0.000    0.000 reductions.py:308(init_reductions)\n",
       "        1    0.000    0.000    0.000    0.000 _reduction.py:1(<module>)\n",
       "       44    0.000    0.000    0.000    0.000 _inspect.py:15(ismethod)\n",
       "       30    0.000    0.000    0.000    0.000 numerictypes.py:432(_add_array_type)\n",
       "        1    0.000    0.000    0.001    0.001 polynomial.py:56(<module>)\n",
       "        1    0.000    0.000    0.000    0.000 _polybase.py:19(ABCPolyBase)\n",
       "        1    0.000    0.000    0.001    0.001 fromnumeric.py:3(<module>)\n",
       "        7    0.000    0.000    0.000    0.000 utils.py:118(deprecate)\n",
       "        5    0.000    0.000    0.000    0.000 __init__.py:73(CFUNCTYPE)\n",
       "       11    0.000    0.000    0.000    0.000 __init__.py:358(__getattr__)\n",
       "       10    0.000    0.000    0.007    0.001 pyparsing.py:4404(__init__)\n",
       "        2    0.000    0.000    0.000    0.000 __init__.py:602(_get_config_or_cache_dir)\n",
       "        1    0.000    0.000    0.000    0.000 socket.py:139(__init__)\n",
       "        2    0.000    0.000    0.000    0.000 traitlets.py:2468(__init__)\n",
       "        1    0.000    0.000    0.004    0.004 subprocess.py:803(communicate)\n",
       "       13    0.000    0.000    0.000    0.000 _collections_abc.py:664(__contains__)\n",
       "        1    0.000    0.000    0.028    0.028 refactor.py:9(<module>)\n",
       "       20    0.000    0.000    0.000    0.000 tokenize.py:48(group)\n",
       "       16    0.000    0.000    0.001    0.000 descriptor.py:869(__new__)\n",
       "     12/2    0.000    0.000    0.000    0.000 pyparsing.py:1926(makeOptionalList)\n",
       "        1    0.000    0.000    0.367    0.367 tsit5.py:1(<module>)\n",
       "        1    0.000    0.000    0.066    0.066 _subplots.py:1(<module>)\n",
       "        1    0.000    0.000    0.999    0.999 odeint.py:1(<module>)\n",
       "       60    0.000    0.000    0.000    0.000 afm.py:502(get_fontname)\n",
       "       33    0.000    0.000    0.000    0.000 cm.py:40(_reverser)\n",
       "        1    0.000    0.000    0.000    0.000 SSL.py:684(Context)\n",
       "       12    0.000    0.000    0.000    0.000 utils.py:147(deprecated)\n",
       "        2    0.000    0.000    0.001    0.000 request.py:1(<module>)\n",
       "        1    0.000    0.000    0.000    0.000 negative_binomial.py:8(NegativeBinomial)\n",
       "        1    0.000    0.000    0.000    0.000 negative_binomial.py:1(<module>)\n",
       "       28    0.000    0.000    0.000    0.000 pooling.py:944(extra_repr)\n",
       "        2    0.000    0.000    0.001    0.001 tensor.py:1(<module>)\n",
       "       58    0.000    0.000    0.000    0.000 pyparsing.py:468(__bool__)\n",
       "       49    0.000    0.000    0.000    0.000 reduction.py:43(register)\n",
       "        2    0.000    0.000    0.000    0.000 inspect.py:2853(_bind)\n",
       "        3    0.000    0.000    0.000    0.000 subprocess.py:1414(wait)\n",
       "       30    0.000    0.000    0.002    0.000 contextlib.py:79(__enter__)\n",
       "        3    0.000    0.000    0.000    0.000 weakref.py:165(__setitem__)\n",
       "       60    0.000    0.000    0.000    0.000 {method 'strip' of 'bytes' objects}\n",
       "       60    0.000    0.000    0.000    0.000 {built-in method _operator.index}\n",
       "        1    0.000    0.000    0.000    0.000 {built-in method marshal.dumps}\n",
       "        1    0.000    0.000    0.003    0.003 fixer_util.py:1(<module>)\n",
       "       16    0.000    0.000    0.000    0.000 symbol_database.py:116(RegisterFileDescriptor)\n",
       "        1    0.000    0.000    0.011    0.011 descriptor.py:33(<module>)\n",
       "       32    0.000    0.000    0.000    0.000 pyparsing.py:209(__init__)\n",
       "       16    0.000    0.000    0.001    0.000 pyparsing.py:1204(setResultsName)\n",
       "       61    0.000    0.000    0.000    0.000 pyparsing.py:2159(streamline)\n",
       "       22    0.000    0.000    0.000    0.000 __init__.py:2256(_is_egg_path)\n",
       "        1    0.000    0.000    0.000    0.000 decomp.py:15(<module>)\n",
       "        2    0.000    0.000    0.068    0.034 resnet.py:1(<module>)\n",
       "        1    0.000    0.000    0.000    0.000 figure.py:250(Figure)\n",
       "        7    0.000    0.000    0.000    0.000 legend_handler.py:134(__init__)\n",
       "        1    0.000    0.000    0.011    0.011 artist.py:1(<module>)\n",
       "        1    0.000    0.000    0.000    0.000 dataloader.py:1(<module>)\n",
       "        1    0.000    0.000    0.003    0.003 util.py:15(<module>)\n",
       "        3    0.000    0.000    0.000    0.000 sparse.py:1(<module>)\n",
       "        1    0.000    0.000    0.000    0.000 _datasource.py:35(<module>)\n",
       "        4    0.000    0.000    0.000    0.000 function_base.py:1912(__init__)\n",
       "     20/6    0.000    0.000    0.001    0.000 pyparsing.py:3803(parseImpl)\n",
       "        1    0.000    0.000    0.000    0.000 omniglot.py:1(<module>)\n",
       "       42    0.000    0.000    0.000    0.000 argparse.py:2087(_parse_optional)\n",
       "        4    0.000    0.000    0.000    0.000 __init__.py:1456(addHandler)\n",
       "        4    0.000    0.000    0.000    0.000 __init__.py:771(__init__)\n",
       "       59    0.000    0.000    0.000    0.000 enum.py:594(name)\n",
       "       71    0.000    0.000    0.000    0.000 {built-in method _stat.S_ISLNK}\n",
       "       16    0.000    0.000    0.001    0.000 {built-in method _functools.reduce}\n",
       "       86    0.000    0.000    0.000    0.000 {method 'clear' of 'dict' objects}\n",
       "        2    0.000    0.000    0.001    0.000 grammar.py:105(load)\n",
       "        1    0.000    0.000    0.001    0.001 axis.py:687(Axis)\n",
       "        1    0.000    0.000    0.001    0.001 transforms.py:30(<module>)\n",
       "        1    0.000    0.000    0.000    0.000 path.py:21(Path)\n",
       "       38    0.000    0.000    0.000    0.000 cycler.py:371(<genexpr>)\n",
       "        2    0.000    0.000    6.354    3.177 cifar.py:143(download)\n",
       "        1    0.000    0.000    0.023    0.023 compat.py:9(<module>)\n",
       "        1    0.000    0.000    0.003    0.003 chardistribution.py:28(<module>)\n",
       "        1    0.000    0.000    0.000    0.000 multivariate_normal.py:58(MultivariateNormal)\n",
       "        1    0.000    0.000    0.000    0.000 log_normal.py:1(<module>)\n",
       "        1    0.000    0.000    0.000    0.000 padding.py:1(<module>)\n",
       "        2    0.000    0.000    0.000    0.000 core.py:2931(__array_finalize__)\n",
       "        3    0.000    0.000    0.000    0.000 numerictypes.py:565(obj2sctype)\n",
       "       34    0.000    0.000    0.000    0.000 argparse.py:1278(register)\n",
       "       10    0.000    0.000    0.000    0.000 pyparsing.py:3164(__init__)\n",
       "       49    0.000    0.000    0.000    0.000 {method 'items' of 'mappingproxy' objects}\n",
       "        1    0.000    0.000    0.001    0.001 pygram.py:4(<module>)\n",
       "        1    0.000    0.000    0.000    0.000 text_encoding.py:49(<listcomp>)\n",
       "       10    0.000    0.000    0.000    0.000 __init__.py:23(find_module)\n",
       "        1    0.000    0.000    0.073    0.073 train_misc.py:1(<module>)\n",
       "       15    0.000    0.000    0.000    0.000 pyplot.py:2358(_autogen_docstring)\n",
       "       19    0.000    0.000    0.000    0.000 cycler.py:225(__iter__)\n",
       "        5    0.000    0.000    0.027    0.005 binding.py:122(_ensure_ffi_initialized)\n",
       "        1    0.000    0.000    0.000    0.000 mbcssm.py:28(<module>)\n",
       "        2    0.000    0.000    0.007    0.004 __init__.py:147(_lazy_init)\n",
       "        1    0.000    0.000    0.000    0.000 chebyshev.py:88(<module>)\n",
       "        1    0.000    0.000    0.000    0.000 numerictypes.py:440(_set_array_types)\n",
       "       13    0.000    0.000    0.000    0.000 pyparsing.py:3847(__str__)\n",
       "        1    0.000    0.000    0.040    0.040 fontconfig_pattern.py:7(<module>)\n",
       "        8    0.000    0.000    0.000    0.000 pyparsing.py:1517(clear)\n",
       "        2    0.000    0.000    0.001    0.000 rcsetup.py:78(<listcomp>)\n",
       "       14    0.000    0.000    0.000    0.000 rcsetup.py:178(validate_axisbelow)\n",
       "       21    0.000    0.000    0.000    0.000 argparse.py:1950(<listcomp>)\n",
       "        1    0.000    0.000    0.006    0.006 __init__.py:206(_sanity_check)\n",
       "       16    0.000    0.000    0.000    0.000 enum.py:312(__getattr__)\n",
       "       61    0.000    0.000    0.000    0.000 {built-in method builtins.vars}\n",
       "       10    0.000    0.000    0.000    0.000 {method 'tolist' of 'memoryview' objects}\n",
       "       34    0.000    0.000    0.000    0.000 descriptor_pb2.py:5(<lambda>)\n",
       "       14    0.000    0.000    0.000    0.000 pyparsing.py:3576(__str__)\n",
       "       11    0.000    0.000    0.000    0.000 pyparsing.py:3851(__init__)\n",
       "        1    0.000    0.000    0.025    0.025 specifiers.py:4(<module>)\n",
       "        1    0.000    0.000    0.000    0.000 pyparsing.py:1298(addCondition)\n",
       "        1    0.000    0.000    0.348    0.348 event_file_writer.py:15(<module>)\n",
       "       16    0.000    0.000    0.055    0.003 __init__.py:1914(_by_version_descending)\n",
       "        1    0.000    0.000    0.000    0.000 decomp_schur.py:1(<module>)\n",
       "        1    0.000    0.000    0.000    0.000 _solvers.py:1(<module>)\n",
       "        1    0.000    0.000    0.000    0.000 _subplots.py:203(subplot_class_factory)\n",
       "        1    0.000    0.000    0.035    0.035 font_manager.py:868(json_dump)\n",
       "        1    0.000    0.000    0.000    0.000 cycler.py:41(<module>)\n",
       "        1    0.000    0.000    0.034    0.034 _int.py:32(<module>)\n",
       "        1    0.000    0.000    0.014    0.014 universaldetector.py:36(<module>)\n",
       "        5    0.000    0.000    0.000    0.000 _torch_docs.py:9(parse_kwargs)\n",
       "        7    0.000    0.000    0.000    0.000 _jit_internal.py:113(boolean_dispatch)\n",
       "       18    0.000    0.000    0.000    0.000 core.py:996(__init__)\n",
       "        1    0.000    0.000    0.000    0.000 hermite.py:59(<module>)\n",
       "        1    0.000    0.000    0.000    0.000 numerictypes.py:340(_add_integer_aliases)\n",
       "        1    0.000    0.000    0.000    0.000 numerictypes.py:418(_construct_char_code_lookup)\n",
       "        1    0.000    0.000    0.000    0.000 suite.py:317(_DebugResult)\n",
       "        1    0.000    0.000    0.009    0.009 _constrained_layout.py:16(<module>)\n",
       "        2    0.000    0.000    0.000    0.000 __init__.py:332(__init__)\n",
       "        9    0.000    0.000    0.000    0.000 fontconfig_pattern.py:132(_family)\n",
       "        1    0.000    0.000    0.000    0.000 deprecation.py:1(<module>)\n",
       "        2    0.000    0.000    0.000    0.000 traitlets.py:757(setup_class)\n",
       "        1    0.000    0.000    0.000    0.000 fnmatch.py:74(translate)\n",
       "       15    0.000    0.000    0.000    0.000 _collections_abc.py:72(_check_methods)\n",
       "        1    0.000    0.000    0.000    0.000 {built-in method posix.unlink}\n",
       "        1    0.000    0.000    0.001    0.001 well_known_types.py:39(<module>)\n",
       "        1    0.000    0.000    0.000    0.000 descriptor.py:392(FieldDescriptor)\n",
       "       12    0.000    0.000    0.000    0.000 six.py:126(__init__)\n",
       "        1    0.000    0.000    0.002    0.002 record_writer.py:4(<module>)\n",
       "        1    0.000    0.000    0.357    0.357 torchvis.py:1(<module>)\n",
       "        1    0.000    0.000    0.000    0.000 cnf_regularization.py:1(<module>)\n",
       "        1    0.000    0.000    0.000    0.000 geo.py:15(GeoAxes)\n",
       "        1    0.000    0.000    0.032    0.032 core.py:12(<module>)\n",
       "        1    0.000    0.000    0.000    0.000 synchronize.py:11(<module>)\n",
       "        1    0.000    0.000    0.002    0.002 socks.py:23(<module>)\n",
       "        2    0.000    0.000    0.001    0.001 x25519.py:5(<module>)\n",
       "        1    0.000    0.000    0.001    0.001 core.py:1(<module>)\n",
       "        1    0.000    0.000    0.001    0.001 exceptions.py:8(<module>)\n",
       "        7    0.000    0.000    0.000    0.000 {built-in method numpy.core.umath.seterrobj}\n",
       "        2    0.000    0.000    0.000    0.000 {method 'reshape' of 'numpy.ndarray' objects}\n",
       "        1    0.000    0.000    0.000    0.000 laguerre.py:59(<module>)\n",
       "        1    0.000    0.000    0.000    0.000 mixins.py:63(NDArrayOperatorsMixin)\n",
       "        2    0.000    0.000    0.000    0.000 util.py:301(_findLib_prefix)\n",
       "       12    0.000    0.000    0.000    0.000 rcsetup.py:68(_listify_validator)\n",
       "        4    0.000    0.000    0.000    0.000 traitlets.py:1627(__init__)\n",
       "        1    0.000    0.000    0.000    0.000 {built-in method posix.replace}\n",
       "        1    0.000    0.000    0.006    0.006 text_format.py:41(<module>)\n",
       "        1    0.000    0.000    0.000    0.000 scope.py:3(<module>)\n",
       "        1    0.000    0.000    0.007    0.007 utils.py:3(<module>)\n",
       "        1    0.000    0.000    0.010    0.010 api_implementation.py:32(<module>)\n",
       "       14    0.000    0.000    0.000    0.000 descriptor.py:919(_ParseOptions)\n",
       "        6    0.000    0.000    0.000    0.000 pyparsing.py:4781(<lambda>)\n",
       "       12    0.000    0.000    0.000    0.000 pyparsing.py:1069(wrapper)\n",
       "        1    0.000    0.000    0.145    0.145 cnf_gate.py:1(<module>)\n",
       "        1    0.000    0.000    0.000    0.000 basic.py:1(<module>)\n",
       "        1    0.000    0.000    0.000    0.000 artist.py:69(Artist)\n",
       "       11    0.000    0.000    0.000    0.000 dataloader.py:811(__setattr__)\n",
       "        1    0.000    0.000    0.000    0.000 padding.py:5(<module>)\n",
       "        1    0.000    0.000    0.034    0.034 _elliptic_curve.py:47(<module>)\n",
       "        1    0.000    0.000    0.000    0.000 codingstatemachine.py:28(<module>)\n",
       "        1    0.000    0.000    0.001    0.001 constraints.py:19(<module>)\n",
       "        2    0.000    0.000    0.000    0.000 distributed_cpu.py:1(<module>)\n",
       "        1    0.000    0.000    0.000    0.000 batchnorm.py:1(<module>)\n",
       "        1    0.000    0.000    0.000    0.000 function.py:1(<module>)\n",
       "       10    0.000    0.000    0.000    0.000 extras.py:238(__init__)\n",
       "        1    0.000    0.000    0.000    0.000 legendre.py:83(<module>)\n",
       "        1    0.000    0.000    0.000    0.000 ctypeslib.py:323(_get_typecodes)\n",
       "       40    0.000    0.000    0.000    0.000 numerictypes.py:154(english_upper)\n",
       "        1    0.000    0.000    0.001    0.001 fftpack.py:32(<module>)\n",
       "       19    0.000    0.000    0.000    0.000 mixins.py:20(_binary_method)\n",
       "        1    0.000    0.000    0.000    0.000 polynomial.py:4(<module>)\n",
       "        6    0.000    0.000    0.000    0.000 numeric.py:2491(seterr)\n",
       "        1    0.000    0.000    0.000    0.000 records.py:36(<module>)\n",
       "        5    0.000    0.000    0.000    0.000 rcsetup.py:468(validate_whiskers)\n",
       "        4    0.000    0.000    0.000    0.000 fontconfig_pattern.py:152(_property)\n",
       "        1    0.000    0.000    0.000    0.000 pyparsing.py:1595(enablePackrat)\n",
       "        1    0.000    0.000    0.001    0.001 argparse.py:1604(__init__)\n",
       "        6    0.000    0.000    0.000    0.000 platform.py:1059(system)\n",
       "       23    0.000    0.000    0.000    0.000 inspect.py:81(ismethod)\n",
       "        1    0.000    0.000    0.000    0.000 <frozen importlib._bootstrap_external>:106(_write_atomic)\n",
       "       41    0.000    0.000    0.000    0.000 {method 'groupdict' of '_sre.SRE_Match' objects}\n",
       "        2    0.000    0.000    0.001    0.001 driver.py:117(load_grammar)\n",
       "       16    0.000    0.000    0.000    0.000 pyparsing.py:2751(charsAsStr)\n",
       "       24    0.000    0.000    0.000    0.000 pyparsing.py:411(__getitem__)\n",
       "        1    0.000    0.000    0.000    0.000 fixed_adams.py:1(<module>)\n",
       "        1    0.000    0.000    0.058    0.058 dopri5.py:2(<module>)\n",
       "        1    0.000    0.000    0.000    0.000 scale.py:582(get_scale_docs)\n",
       "        1    0.000    0.000    0.000    0.000 legend_handler.py:687(HandlerPolyCollection)\n",
       "        1    0.000    0.000    0.010    0.010 _layoutbox.py:16(<module>)\n",
       "       24    0.000    0.000    0.000    0.000 patches.py:1820(<genexpr>)\n",
       "       36    0.000    0.000    0.000    0.000 backend.py:218(register_cipher_adapter)\n",
       "        1    0.000    0.000    0.000    0.000 crypto.py:514(X509Name)\n",
       "        1    0.000    0.000    0.001    0.001 retry.py:1(<module>)\n",
       "        2    0.000    0.000    0.000    0.000 random.py:1(<module>)\n",
       "        1    0.000    0.000    0.000    0.000 hermite.py:1814(Hermite)\n",
       "        1    0.000    0.000    0.000    0.000 _iotools.py:3(<module>)\n",
       "       15    0.000    0.000    0.000    0.000 pyparsing.py:4170(__str__)\n",
       "       18    0.000    0.000    0.000    0.000 deprecation.py:189(finalize)\n",
       "        1    0.000    0.000    0.001    0.001 ImageFilter.py:18(<module>)\n",
       "        3    0.000    0.000    0.000    0.000 util.py:136(register_after_fork)\n",
       "        6    0.000    0.000    0.000    0.000 traitlets.py:419(__init__)\n",
       "        5    0.000    0.000    0.000    0.000 traitlets.py:651(tag)\n",
       "       13    0.000    0.000    0.000    0.000 <frozen importlib._bootstrap_external>:966(_find_parent_path_names)\n",
       "        4    0.000    0.000    0.000    0.000 pyparsing.py:420(__setitem__)\n",
       "       14    0.000    0.000    0.001    0.000 pyparsing.py:2026(__call__)\n",
       "        1    0.000    0.000    0.010    0.010 version.py:4(<module>)\n",
       "       16    0.000    0.000    0.007    0.000 __init__.py:2006(safe_listdir)\n",
       "        2    0.000    0.000    0.000    0.000 odefunc_rl.py:75(__init__)\n",
       "        1    0.000    0.000    0.000    0.000 odefunc.py:65(__init__)\n",
       "        1    0.000    0.000    0.001    0.001 geo.py:1(<module>)\n",
       "        1    0.000    0.000    0.000    0.000 lines.py:208(Line2D)\n",
       "        1    0.000    0.000    0.000    0.000 ocsp.py:89(_OCSPResponse)\n",
       "        1    0.000    0.000    0.004    0.004 sjisprober.py:28(<module>)\n",
       "        1    0.000    0.000    0.000    0.000 dropout.py:1(<module>)\n",
       "        1    0.000    0.000    0.000    0.000 conv.py:760(ConvTranspose3d)\n",
       "        1    0.000    0.000    0.000    0.000 __init__.py:94(_check_capability)\n",
       "        1    0.000    0.000    0.000    0.000 hermite_e.py:59(<module>)\n",
       "        1    0.000    0.000    0.000    0.000 ctypeslib.py:51(<module>)\n",
       "        1    0.000    0.000    0.031    0.031 type_check.py:3(<module>)\n",
       "       12    0.000    0.000    0.000    0.000 mixins.py:48(_numeric_methods)\n",
       "        1    0.000    0.000    0.000    0.000 twodim_base.py:140(eye)\n",
       "       20    0.000    0.000    0.000    0.000 argparse.py:568(<listcomp>)\n",
       "        2    0.000    0.000    0.000    0.000 getipython.py:17(get_ipython)\n",
       "       20    0.000    0.000    0.000    0.000 enum.py:581(__hash__)\n",
       "       14    0.000    0.000    0.000    0.000 functools.py:448(lru_cache)\n",
       "        1    0.000    0.000    0.001    0.001 text_encoding.py:31(<module>)\n",
       "     16/2    0.000    0.000    0.001    0.001 pyparsing.py:3737(parseImpl)\n",
       "        7    0.000    0.000    0.000    0.000 six.py:195(load_module)\n",
       "        2    0.000    0.000    0.000    0.000 spectral_norm.py:3(<module>)\n",
       "        4    0.000    0.000    0.000    0.000 crc32c.py:114(crc32c)\n",
       "        1    0.000    0.000    0.003    0.003 table.py:21(<module>)\n",
       "        6    0.000    0.000    0.000    0.000 patches.py:1815(<listcomp>)\n",
       "        1    0.000    0.000    0.000    0.000 text.py:109(Text)\n",
       "        1    0.000    0.000    0.001    0.001 markers.py:146(<module>)\n",
       "        1    0.000    0.000    0.000    0.000 auth.py:8(<module>)\n",
       "        1    0.000    0.000    0.000    0.000 ocsp.py:302(OCSPResponse)\n",
       "        1    0.000    0.000    0.000    0.000 backend.py:81(Backend)\n",
       "        1    0.000    0.000    0.002    0.002 _iri.py:9(<module>)\n",
       "        1    0.000    0.000    0.000    0.000 <string>:5(PoolKey)\n",
       "        1    0.000    0.000    0.000    0.000 _appengine_environ.py:18(is_local_appengine)\n",
       "        2    0.000    0.000    0.002    0.001 __init__.py:1414(_get_builtin_table)\n",
       "        1    0.000    0.000    0.000    0.000 annotations.py:1(<module>)\n",
       "        1    0.000    0.000    0.000    0.000 lr_scheduler.py:1(<module>)\n",
       "        1    0.000    0.000    0.000    0.000 reductions.py:1(<module>)\n",
       "        1    0.000    0.000    0.000    0.000 __init__.py:57(_load_cudart)\n",
       "        1    0.000    0.000    0.000    0.000 _six.py:21(<module>)\n",
       "       19    0.000    0.000    0.000    0.000 _methods.py:45(_all)\n",
       "        1    0.000    0.000    0.002    0.002 loader.py:1(<module>)\n",
       "       16    0.000    0.000    0.000    0.000 pyparsing.py:3642(__str__)\n",
       "        1    0.000    0.000    0.000    0.000 pyparsing.py:5885(Japanese)\n",
       "       21    0.000    0.000    0.000    0.000 argparse.py:864(__call__)\n",
       "        6    0.000    0.000    0.000    0.000 locale.py:379(normalize)\n",
       "        2    0.000    0.000    0.000    0.000 __config__.py:3(<module>)\n",
       "       13    0.000    0.000    0.000    0.000 descriptor.py:635(__new__)\n",
       "        2    0.000    0.000    0.006    0.003 record_writer.py:35(directory_check)\n",
       "        1    0.000    0.000    0.000    0.000 adjoint.py:1(<module>)\n",
       "        2    0.000    0.000    0.000    0.000 _version.py:55(__init__)\n",
       "        1    0.000    0.000    0.001    0.001 csv.py:4(<module>)\n",
       "        1    0.000    0.000    0.000    0.000 transforms.py:244(BboxBase)\n",
       "        1    0.000    0.000    0.002    0.002 api.py:1(<module>)\n",
       "        1    0.000    0.000    0.000    0.000 _tqdm_gui.py:26(tqdm_gui)\n",
       "        1    0.000    0.000    0.000    0.000 SSL.py:1529(Connection)\n",
       "        1    0.000    0.000    0.000    0.000 core.py:2370(OctetString)\n",
       "        2    0.000    0.000    0.000    0.000 utils.py:123(__init__)\n",
       "        7    0.000    0.000    0.000    0.000 utils.py:154(cached_property)\n",
       "        1    0.000    0.000    0.000    0.000 resource_sharer.py:11(<module>)\n",
       "        1    0.000    0.000    0.005    0.005 linear.py:1(<module>)\n",
       "        1    0.000    0.000    0.092    0.092 module.py:1(<module>)\n",
       "        1    0.000    0.000    0.000    0.000 ctypeslib.py:177(_ndptr)\n",
       "        1    0.000    0.000    0.000    0.000 suite.py:1(<module>)\n",
       "        1    0.000    0.000    0.029    0.029 util.py:310(find_library)\n",
       "        1    0.000    0.000    0.000    0.000 pyparsing.py:1113(ParserElement)\n",
       "        9    0.000    0.000    0.000    0.000 fontconfig_pattern.py:144(_families)\n",
       "       10    0.000    0.000    0.000    0.000 rcsetup.py:221(validate_fonttype)\n",
       "       27    0.000    0.000    0.000    0.000 inspect.py:479(getmro)\n",
       "        2    0.000    0.000    0.000    0.000 traitlets.py:2558(class_init)\n",
       "        7    0.000    0.000    0.000    0.000 tokenize.py:344(_get_normal_name)\n",
       "        2    0.000    0.000    0.001    0.000 traceback.py:27(format_list)\n",
       "        8    0.000    0.000    0.000    0.000 {method 'clear' of 'collections.OrderedDict' objects}\n",
       "        1    0.000    0.000    0.000    0.000 grammar.py:115(copy)\n",
       "    13/12    0.000    0.000    0.000    0.000 pyparsing.py:3434(__str__)\n",
       "        2    0.000    0.000    0.000    0.000 six.py:103(MovedModule)\n",
       "        6    0.000    0.000    0.000    0.000 __init__.py:2707(from_filename)\n",
       "        2    0.000    0.000    0.019    0.009 train_misc.py:85(count_parameters)\n",
       "        1    0.000    0.000    0.001    0.001 adams.py:1(<module>)\n",
       "        1    0.000    0.000    0.000    0.000 basic.py:36(IgnoreLinear)\n",
       "        1    0.000    0.000    0.000    0.000 fixed_grid.py:5(Euler)\n",
       "        1    0.000    0.000    0.000    0.000 scale.py:450(LogitTransform)\n",
       "        1    0.000    0.000    0.002    0.002 _pylab_helpers.py:67(destroy_all)\n",
       "        2    0.000    0.000    0.012    0.006 font_manager.py:244(get_fontconfig_fonts)\n",
       "        1    0.000    0.000    0.000    0.000 idnadata.py:3(<module>)\n",
       "        1    0.000    0.000    0.000    0.000 oid.py:52(NameOID)\n",
       "        5    0.000    0.000    0.000    0.000 _elliptic_curve.py:78(contains)\n",
       "        1    0.000    0.000    0.239    0.239 model_zoo.py:1(<module>)\n",
       "        1    0.000    0.000    0.001    0.001 lowrank_multivariate_normal.py:1(<module>)\n",
       "        5    0.000    0.000    0.000    0.000 _torch_docs.py:23(<dictcomp>)\n",
       "        1    0.000    0.000    0.000    0.000 tensor.py:15(Tensor)\n",
       "        2    0.000    0.000    0.000    0.000 {method 'tobytes' of 'numpy.generic' objects}\n",
       "        1    0.000    0.000    0.000    0.000 info.py:34(<module>)\n",
       "       10    0.000    0.000    0.000    0.000 getlimits.py:18(_fr0)\n",
       "        1    0.000    0.000    0.000    0.000 __init__.py:783(RcParams)\n",
       "        1    0.000    0.000    0.000    0.000 {function Random.seed at 0x7ff71f6a2840}\n",
       "       12    0.000    0.000    0.000    0.000 subprocess.py:1264(<genexpr>)\n",
       "        1    0.000    0.000    0.000    0.000 sre_parse.py:98(checkgroup)\n",
       "        2    0.000    0.000    0.000    0.000 subprocess.py:746(__exit__)\n",
       "        9    0.000    0.000    0.000    0.000 re.py:324(_subx)\n",
       "        8    0.000    0.000    0.000    0.000 os.py:806(fsdecode)\n",
       "        1    0.000    0.000    0.000    0.000 {method 'write' of '_io.FileIO' objects}\n",
       "       26    0.000    0.000    0.000    0.000 {method 'groups' of '_sre.SRE_Match' objects}\n",
       "        1    0.000    0.000    0.000    0.000 wire_format.py:31(<module>)\n",
       "        1    0.000    0.000    0.002    0.002 onnx_graph.py:1(<module>)\n",
       "        9    0.000    0.000    0.000    0.000 pyparsing.py:3781(__str__)\n",
       "        2    0.000    0.000    0.000    0.000 pyparsing.py:4450(delimitedList)\n",
       "        2    0.000    0.000    0.001    0.000 pyparsing.py:4681(originalTextFor)\n",
       "       12    0.000    0.000    0.000    0.000 pyparsing.py:2045(suppress)\n",
       "        7    0.000    0.000    0.000    0.000 six.py:159(_resolve)\n",
       "        1    0.000    0.000    0.001    0.001 rk_common.py:2(<module>)\n",
       "        1    0.000    0.000    0.000    0.000 text.py:1980(Annotation)\n",
       "       15    0.000    0.000    0.000    0.000 docstring.py:84(__call__)\n",
       "        1    0.000    0.000    0.000    0.000 Image.py:514(Image)\n",
       "        1    0.000    0.000    0.000    0.000 _conditional.py:46(cryptography_has_ssl3_method)\n",
       "       11    0.000    0.000    0.000    0.000 name.py:28(<genexpr>)\n",
       "        1    0.000    0.000    0.003    0.003 constant_time.py:5(<module>)\n",
       "        6    0.000    0.000    0.000    0.000 _elliptic_curve.py:97(__init__)\n",
       "        1    0.000    0.000    0.002    0.002 idna.py:3(<module>)\n",
       "        1    0.000    0.000    0.000    0.000 crypto.py:1078(X509)\n",
       "        1    0.000    0.000    0.001    0.001 data_parallel.py:1(<module>)\n",
       "       14    0.000    0.000    0.000    0.000 numerictypes.py:181(english_capitalize)\n",
       "        1    0.000    0.000    0.000    0.000 scimath.py:17(<module>)\n",
       "        5    0.000    0.000    0.000    0.000 getlimits.py:507(__init__)\n",
       "        5    0.000    0.000    0.000    0.000 rcsetup.py:312(__call__)\n",
       "        6    0.000    0.000    0.000    0.000 deprecation.py:54(warn_deprecated)\n",
       "        2    0.000    0.000    0.000    0.000 pathlib.py:814(with_name)\n",
       "        3    0.000    0.000    0.000    0.000 pathlib.py:1057(home)\n",
       "        8    0.000    0.000    0.000    0.000 random.py:223(_randbelow)\n",
       "        2    0.000    0.000    0.000    0.000 traitlets.py:722(__new__)\n",
       "       14    0.000    0.000    0.000    0.000 weakref.py:428(get)\n",
       "        1    0.000    0.000    0.000    0.000 latin_1.py:41(getregentry)\n",
       "       13    0.000    0.000    0.000    0.000 {method 'FindEnumTypeByName' of 'google.protobuf.pyext._message.DescriptorPool' objects}\n",
       "       25    0.000    0.000    0.000    0.000 {method 'append' of 'DescriptorSequence' objects}\n",
       "       12    0.000    0.000    0.000    0.000 pyparsing.py:2431(parseImpl)\n",
       "       14    0.000    0.000    0.000    0.000 six.py:80(_import_module)\n",
       "        2    0.000    0.000    0.001    0.000 event_file_writer.py:54(write_event)\n",
       "        1    0.000    0.000    0.000    0.000 _decomp_ldl.py:1(<module>)\n",
       "        1    0.000    0.000    0.000    0.000 _matfuncs_sqrtm.py:6(<module>)\n",
       "        1    0.000    0.000    0.000    0.000 dual.py:12(<module>)\n",
       "        1    0.000    0.000    0.000    0.000 cnf_gate_sep.py:1(<module>)\n",
       "        1    0.000    0.000    0.000    0.000 backend_agg.py:62(RendererAgg)\n",
       "        1    0.000    0.000    0.000    0.000 geo.py:298(InvertedAitoffTransform)\n",
       "        1    0.000    0.000    0.000    0.000 backend_bases.py:1569(FigureCanvasBase)\n",
       "        1    0.000    0.000    0.000    0.000 elemwise.py:1(<module>)\n",
       "        1    0.000    0.000    1.596    1.596 cnf.py:1(<module>)\n",
       "        1    0.000    0.000    0.001    0.001 texmanager.py:29(<module>)\n",
       "        1    0.000    0.000    0.001    0.001 patches.py:2645(ConnectionStyle)\n",
       "        1    0.000    0.000    0.000    0.000 transforms.py:752(Bbox)\n",
       "        1    0.000    0.000    0.000    0.000 pyplot.py:82(install_repl_displayhook)\n",
       "        1    0.000    0.000    0.001    0.001 _main.py:1(<module>)\n",
       "        1    0.000    0.000    0.000    0.000 synchronize.py:114(_make_name)\n",
       "        1    0.000    0.000    0.000    0.000 scrypt.py:5(<module>)\n",
       "        1    0.000    0.000    0.000    0.000 dh.py:217(_DHPublicKey)\n",
       "       35    0.000    0.000    0.000    0.000 backend.py:2100(__init__)\n",
       "        1    0.000    0.000    0.000    0.000 oid.py:81(SignatureAlgorithmOID)\n",
       "        1    0.000    0.000    0.000    0.000 hashes.py:167(BLAKE2s)\n",
       "        1    0.000    0.000    0.000    0.000 _teletex_codec.py:7(<module>)\n",
       "        1    0.000    0.000    0.001    0.001 certificate_transparency.py:5(<module>)\n",
       "        1    0.000    0.000    0.001    0.001 gumbel.py:1(<module>)\n",
       "        1    0.000    0.000    0.000    0.000 adaptive.py:3(<module>)\n",
       "        1    0.000    0.000    0.000    0.000 instancenorm.py:1(<module>)\n",
       "        1    0.000    0.000    0.002    0.002 random.py:22(manual_seed)\n",
       "        8    0.000    0.000    0.000    0.000 core.py:8066(getdoc)\n",
       "        4    0.000    0.000    0.000    0.000 core.py:126(doc_note)\n",
       "        2    0.000    0.000    0.000    0.000 core.py:2905(_update_from)\n",
       "        1    0.000    0.000    0.000    0.000 numerictypes.py:369(_set_up_aliases)\n",
       "        1    0.000    0.000    0.000    0.000 format.py:156(<module>)\n",
       "        1    0.000    0.000    0.003    0.003 defmatrix.py:1(<module>)\n",
       "        1    0.000    0.000    0.000    0.000 _methods.py:5(<module>)\n",
       "        4    0.000    0.000    0.000    0.000 pyparsing.py:430(__setitem__)\n",
       "       21    0.000    0.000    0.000    0.000 argparse.py:2312(_check_value)\n",
       "        2    0.000    0.000    0.010    0.005 traceback.py:193(format_stack)\n",
       "        1    0.000    0.000    0.000    0.000 train_cnf_disentangle_rl.py:350(<lambda>)\n",
       "        6    0.000    0.000    0.000    0.000 weakref.py:354(__init__)\n",
       "        2    0.000    0.000    0.001    0.000 _distributor_init.py:10(<module>)\n",
       "        2    0.000    0.000    0.000    0.000 _version.py:2(<module>)\n",
       "        3    0.000    0.000    0.000    0.000 {built-in method posix.access}\n",
       "        1    0.000    0.000    0.000    0.000 odenvp_conditional_rl.py:1(<module>)\n",
       "        1    0.000    0.000    0.000    0.000 pyparsing.py:1103(ParserElement)\n",
       "        9    0.000    0.000    0.000    0.000 pyparsing.py:3841(__str__)\n",
       "        9    0.000    0.000    0.000    0.000 pyparsing.py:4017(__str__)\n",
       "        2    0.000    0.000    0.002    0.001 pyparsing.py:4763(srange)\n",
       "        7    0.000    0.000    0.000    0.000 specifiers.py:266(_require_version_compare)\n",
       "        2    0.000    0.000    0.000    0.000 six.py:469(Module_six_moves_urllib)\n",
       "       26    0.000    0.000    0.000    0.000 __init__.py:3027(_always_object)\n",
       "        2    0.000    0.000    0.019    0.009 writer.py:162(__init__)\n",
       "        1    0.000    0.000    0.000    0.000 _decomp_qz.py:1(<module>)\n",
       "        1    0.000    0.000    0.000    0.000 special_matrices.py:1(<module>)\n",
       "        1    0.000    0.000    0.000    0.000 adjoint_sep.py:1(<module>)\n",
       "        1    0.000    0.000    0.000    0.000 spines.py:1(<module>)\n",
       "        1    0.000    0.000    0.001    0.001 dates.py:581(DateFormatter)\n",
       "        7    0.000    0.000    0.000    0.000 rrule.py:70(__init__)\n",
       "        1    0.000    0.000    0.011    0.011 gridspec.py:14(<module>)\n",
       "        1    0.000    0.000    0.000    0.000 cookies.py:10(<module>)\n",
       "        1    0.000    0.000    0.007    0.007 ciphers.py:5(<module>)\n",
       "        1    0.000    0.000    0.000    0.000 backend.py:148(activate_osrandom_engine)\n",
       "        1    0.000    0.000    0.000    0.000 eucjpprober.py:28(<module>)\n",
       "        1    0.000    0.000    0.000    0.000 _collections.py:1(<module>)\n",
       "        1    0.000    0.000    0.000    0.000 filepost.py:1(<module>)\n",
       "        1    0.000    0.000    0.000    0.000 connection.py:104(_has_ipv6)\n",
       "        5    0.000    0.000    0.000    0.000 _torch_docs.py:21(<listcomp>)\n",
       "        1    0.000    0.000    0.000    0.000 rendezvous.py:1(<module>)\n",
       "        1    0.000    0.000    0.000    0.000 upsampling.py:1(<module>)\n",
       "        1    0.000    0.000    0.000    0.000 distance.py:1(<module>)\n",
       "        1    0.000    0.000    0.000    0.000 init.py:1(<module>)\n",
       "        3    0.000    0.000    0.000    0.000 {built-in method _csv.register_dialect}\n",
       "        2    0.000    0.000    0.000    0.000 {built-in method numpy.core.multiarray.zeros}\n",
       "        1    0.000    0.000    0.000    0.000 _numpy_fft.py:54(<module>)\n",
       "        6    0.000    0.000    0.000    0.000 numeric.py:2592(geterr)\n",
       "        1    0.000    0.000    0.001    0.001 main.py:1(<module>)\n",
       "        1    0.000    0.000    0.000    0.000 einsumfunc.py:4(<module>)\n",
       "        9    0.000    0.000    0.000    0.000 pyparsing.py:3269(parseImpl)\n",
       "        2    0.000    0.000    0.000    0.000 pyparsing.py:4603(delimitedList)\n",
       "        6    0.000    0.000    0.000    0.000 pyparsing.py:4934(<lambda>)\n",
       "        9    0.000    0.000    0.000    0.000 rcsetup.py:249(validate_backend)\n",
       "        1    0.000    0.000    0.000    0.000 semeion.py:1(<module>)\n",
       "        1    0.000    0.000    0.001    0.001 __init__.py:703(matplotlib_fname)\n",
       "        2    0.000    0.000    0.000    0.000 events.py:42(register)\n",
       "        2    0.000    0.000    0.000    0.000 argparse.py:1533(__init__)\n",
       "        8    0.000    0.000    0.000    0.000 shutil.py:1106(_access_check)\n",
       "        2    0.000    0.000    0.000    0.000 subprocess.py:1401(_try_wait)\n",
       "        1    0.000    0.000    0.000    0.000 encoder.py:204(iterencode)\n",
       "        1    0.000    0.000    0.000    0.000 warnings.py:35(_formatwarnmsg_impl)\n",
       "       24    0.000    0.000    0.000    0.000 _collections_abc.py:302(__subclasshook__)\n",
       "        1    0.000    0.000    0.000    0.000 sysconfig.py:612(get_platform)\n",
       "        1    0.000    0.000    0.003    0.003 text_format.py:1006(Tokenizer)\n",
       "       16    0.000    0.000    0.000    0.000 {method 'AddFileDescriptor' of 'google.protobuf.pyext._message.DescriptorPool' objects}\n",
       "        2    0.000    0.000    0.001    0.001 pyparsing.py:3859(parseImpl)\n",
       "        1    0.000    0.000    0.022    0.022 specifiers.py:275(Specifier)\n",
       "       46    0.000    0.000    0.000    0.000 pyparsing.py:1366(postParse)\n",
       "        2    0.000    0.000    0.000    0.000 event_file_writer.py:159(__init__)\n",
       "       16    0.000    0.000    0.000    0.000 __init__.py:1805(_warn_on_replacement)\n",
       "        1    0.000    0.000    0.000    0.000 writer.py:523(add_text)\n",
       "        1    0.000    0.000    0.001    0.001 category.py:12(<module>)\n",
       "        1    0.000    0.000    0.000    0.000 backend_bases.py:3270(export)\n",
       "        1    0.000    0.000    0.000    0.000 blocking_input.py:20(<module>)\n",
       "        1    0.000    0.000    0.000    0.000 patches.py:19(Patch)\n",
       "       18    0.000    0.000    0.000    0.000 font_manager.py:154(<listcomp>)\n",
       "        1    0.000    0.000    0.000    0.000 densenet.py:1(<module>)\n",
       "        1    0.000    0.000    0.000    0.000 socks.py:294(socksocket)\n",
       "        1    0.000    0.000    0.000    0.000 {built-in method _openssl.X509_new}\n",
       "        1    0.000    0.000    0.001    0.001 escprober.py:28(<module>)\n",
       "        1    0.000    0.000    0.000    0.000 escsm.py:28(<module>)\n",
       "        1    0.000    0.000    0.000    0.000 _ops.py:1(<module>)\n",
       "        5    0.000    0.000    0.000    0.000 _torch_docs.py:22(<listcomp>)\n",
       "        1    0.000    0.000    0.002    0.002 bernoulli.py:1(<module>)\n",
       "       11    0.000    0.000    0.000    0.000 init.py:403(_make_deprecate)\n",
       "       27    0.000    0.000    0.000    0.000 auto.py:339(make_default_double_backwards_fn)\n",
       "       12    0.000    0.000    0.000    0.000 mixins.py:40(_inplace_binary_method)\n",
       "        1    0.000    0.000    0.000    0.000 nanfunctions.py:22(<module>)\n",
       "        1    0.000    0.000    0.000    0.000 twodim_base.py:3(<module>)\n",
       "       14    0.000    0.000    0.000    0.000 pyparsing.py:2773(charsAsStr)\n",
       "        7    0.000    0.000    0.000    0.000 pyparsing.py:4978(tokenMap)\n",
       "        6    0.000    0.000    0.000    0.000 pyparsing.py:1214(setResultsName)\n",
       "        1    0.000    0.000    0.000    0.000 cifar.py:1(<module>)\n",
       "        2    0.000    0.000    0.000    0.000 backcall.py:49(adapt)\n",
       "       46    0.000    0.000    0.000    0.000 inspect.py:358(<lambda>)\n",
       "        6    0.000    0.000    0.000    0.000 traitlets.py:181(is_trait)\n",
       "        8    0.000    0.000    0.000    0.000 __init__.py:1109(__init__)\n",
       "        1    0.000    0.000    0.000    0.000 __init__.py:43(normalize_encoding)\n",
       "       43    0.000    0.000    0.000    0.000 {method 'bit_length' of 'int' objects}\n",
       "        1    0.000    0.000    0.003    0.003 __init__.py:40(<module>)\n",
       "        1    0.000    0.000    0.000    0.000 patcomp.py:9(<module>)\n",
       "        1    0.000    0.000    0.023    0.023 driver.py:12(<module>)\n",
       "        1    0.000    0.000    0.000    0.000 proto_graph.py:1(<module>)\n",
       "        1    0.000    0.000    0.000    0.000 visdom_writer.py:1(<module>)\n",
       "       13    0.000    0.000    0.000    0.000 symbol_database.py:93(RegisterEnumDescriptor)\n",
       "        1    0.000    0.000    0.001    0.001 containers.py:40(<module>)\n",
       "        8    0.000    0.000    0.000    0.000 pyparsing.py:3935(__init__)\n",
       "        4    0.000    0.000    0.000    0.000 pyparsing.py:1841(__radd__)\n",
       "        1    0.000    0.000    0.000    0.000 specifiers.py:21(BaseSpecifier)\n",
       "        2    0.000    0.000    0.011    0.006 record_writer.py:105(__init__)\n",
       "        9    0.000    0.000    0.000    0.000 utils.py:62(__init__)\n",
       "        3    0.000    0.000    0.000    0.000 _version.py:7(<module>)\n",
       "        1    0.000    0.000    0.000    0.000 config.py:4(<module>)\n",
       "        1    0.000    0.000    0.000    0.000 spines.py:13(Spine)\n",
       "        1    0.000    0.000    0.000    0.000 streamplot.py:4(<module>)\n",
       "        1    0.000    0.000    0.000    0.000 rrule.py:1409(_rrulestr)\n",
       "       11    0.000    0.000    0.000    0.000 legend_handler.py:57(__init__)\n",
       "       24    0.000    0.000    0.000    0.000 dviread.py:156(<listcomp>)\n",
       "        1    0.000    0.000    0.000    0.000 contour.py:738(ContourSet)\n",
       "        1    0.000    0.000    0.000    0.000 collections.py:25(Collection)\n",
       "        1    0.000    0.000    0.001    0.001 cookiejar.py:1224(CookieJar)\n",
       "        1    0.000    0.000    0.000    0.000 {built-in method _openssl.ENGINE_init}\n",
       "        1    0.000    0.000    0.000    0.000 base.py:292(CertificateSigningRequest)\n",
       "        1    0.000    0.000    0.000    0.000 euctwprober.py:28(<module>)\n",
       "        1    0.000    0.000    0.015    0.015 __init__.py:19(<module>)\n",
       "        1    0.000    0.000    0.000    0.000 weibull.py:1(<module>)\n",
       "        1    0.000    0.000    0.000    0.000 spawn.py:1(<module>)\n",
       "        2    0.000    0.000    0.000    0.000 activation.py:321(__init__)\n",
       "        1    0.000    0.000    0.000    0.000 gradcheck.py:1(<module>)\n",
       "        1    0.000    0.000    0.000    0.000 _tensor_str.py:1(<module>)\n",
       "        8    0.000    0.000    0.000    0.000 core.py:8061(__init__)\n",
       "        2    0.000    0.000    0.000    0.000 {method 'newbyteorder' of 'numpy.generic' objects}\n",
       "        8    0.000    0.000    0.000    0.000 core.py:2551(_arraymethod)\n",
       "        1    0.000    0.000    0.000    0.000 core.py:2775(__new__)\n",
       "        1    0.000    0.000    0.000    0.000 py3k.py:4(<module>)\n",
       "        1    0.000    0.000    0.000    0.000 _polybase.py:8(<module>)\n",
       "        1    0.000    0.000    0.000    0.000 polynomial.py:934(poly1d)\n",
       "        1    0.000    0.000    0.000    0.000 defchararray.py:1669(chararray)\n",
       "        1    0.000    0.000    0.001    0.001 runner.py:1(<module>)\n",
       "        4    0.000    0.000    0.000    0.000 pyparsing.py:3982(__init__)\n",
       "        2    0.000    0.000    0.002    0.001 pyparsing.py:4916(srange)\n",
       "       11    0.000    0.000    0.000    0.000 pyparsing.py:470(__iter__)\n",
       "        3    0.000    0.000    0.000    0.000 pyparsing.py:1899(__mul__)\n",
       "        4    0.000    0.000    0.001    0.000 __init__.py:734(gen_candidates)\n",
       "        1    0.000    0.000    0.000    0.000 mnist.py:1(<module>)\n",
       "        1    0.000    0.000    0.000    0.000 ImageOps.py:20(<module>)\n",
       "        6    0.000    0.000    0.000    0.000 textwrap.py:467(indent)\n",
       "        2    0.000    0.000    0.000    0.000 enum.py:767(_create_pseudo_member_)\n",
       "        1    0.000    0.000    0.011    0.011 subprocess.py:295(check_output)\n",
       "        1    0.000    0.000    0.000    0.000 os.py:607(get_exec_path)\n",
       "       13    0.000    0.000    0.000    0.000 {built-in method builtins.delattr}\n",
       "        1    0.000    0.000    0.000    0.000 {built-in method torch._C._init_names}\n",
       "        1    0.000    0.000    0.000    0.000 {built-in method torch._C._multiprocessing_init}\n",
       "        4    0.000    0.000    0.000    0.000 decoder.py:263(_StructPackDecoder)\n",
       "        1    0.000    0.000    0.000    0.000 extension_loader.py:3(<module>)\n",
       "        1    0.000    0.000    0.000    0.000 btm_matcher.py:6(<module>)\n",
       "        1    0.000    0.000    0.000    0.000 pytree.py:11(<module>)\n",
       "        6    0.000    0.000    0.000    0.000 pyparsing.py:3098(__init__)\n",
       "        7    0.000    0.000    0.000    0.000 pyparsing.py:4825(tokenMap)\n",
       "        7    0.000    0.000    0.000    0.000 six.py:209(is_package)\n",
       "       12    0.000    0.000    0.000    0.000 version.py:389(<genexpr>)\n",
       "       16    0.000    0.000    0.000    0.000 __init__.py:1790(__init__)\n",
       "        1    0.000    0.000    0.001    0.001 _ccallback.py:1(<module>)\n",
       "        1    0.000    0.000    0.000    0.000 cnf_augment.py:1(<module>)\n",
       "        1    0.000    0.000    0.000    0.000 solvers.py:6(AdaptiveStepsizeODESolver)\n",
       "        1    0.000    0.000    0.000    0.000 table.py:204(Table)\n",
       "        1    0.000    0.000    0.000    0.000 units.py:43(<module>)\n",
       "       24    0.000    0.000    0.000    0.000 dviread.py:124(_dispatch)\n",
       "       24    0.000    0.000    0.000    0.000 patches.py:1816(<genexpr>)\n",
       "        1    0.000    0.000    0.001    0.001 path.py:10(<module>)\n",
       "       19    0.000    0.000    0.000    0.000 cycler.py:145(change_key)\n",
       "        1    0.000    0.000    0.013    0.013 lsun.py:1(<module>)\n",
       "        1    0.000    0.000    0.001    0.001 status_codes.py:18(<module>)\n",
       "        1    0.000    0.000    0.001    0.001 hmac.py:5(<module>)\n",
       "        1    0.000    0.000    0.000    0.000 x509.py:26(_Certificate)\n",
       "        1    0.000    0.000    0.000    0.000 mac.py:5(<module>)\n",
       "        1    0.000    0.000    0.001    0.001 cmac.py:5(<module>)\n",
       "        1    0.000    0.000    0.000    0.000 parser.py:12(<module>)\n",
       "        1    0.000    0.000    0.000    0.000 extensions.py:488(DistributionPoint)\n",
       "        1    0.000    0.000    0.000    0.000 keys.py:491(PrivateKeyInfo)\n",
       "        1    0.000    0.000    0.001    0.001 exceptions.py:5(<module>)\n",
       "        1    0.000    0.000    0.000    0.000 base.py:185(CertificateRevocationList)\n",
       "        1    0.000    0.000    0.000    0.000 timeout.py:1(<module>)\n",
       "        1    0.000    0.000    0.000    0.000 response.py:124(HTTPResponse)\n",
       "        1    0.000    0.000    0.000    0.000 multivariate_normal.py:1(<module>)\n",
       "        1    0.000    0.000    0.000    0.000 pareto.py:1(<module>)\n",
       "        1    0.000    0.000    0.000    0.000 relaxed_bernoulli.py:1(<module>)\n",
       "        1    0.000    0.000    0.000    0.000 half_cauchy.py:1(<module>)\n",
       "        1    0.000    0.000    0.000    0.000 distribution.py:7(Distribution)\n",
       "        1    0.000    0.000    0.000    0.000 optimizer.py:1(<module>)\n",
       "        1    0.000    0.000    0.000    0.000 pixelshuffle.py:1(<module>)\n",
       "        1    0.000    0.000    0.000    0.000 module.py:23(Module)\n",
       "        1    0.000    0.000    0.091    0.091 thnn.py:1(<module>)\n",
       "        2    0.000    0.000    0.010    0.005 __init__.py:120(_lazy_call)\n",
       "        1    0.000    0.000    0.000    0.000 tarfile.py:1385(TarFile)\n",
       "        1    0.000    0.000    0.000    0.000 {method 'manual_seed' of 'torch._C.Generator' objects}\n",
       "        1    0.000    0.000    0.000    0.000 _utils_internal.py:1(<module>)\n",
       "        1    0.000    0.000    0.000    0.000 {method 'seed' of 'mtrand.RandomState' objects}\n",
       "        6    0.000    0.000    0.000    0.000 core.py:1145(__init__)\n",
       "        1    0.000    0.000    0.003    0.003 __init__.py:27(<module>)\n",
       "        1    0.000    0.000    0.000    0.000 polyutils.py:45(<module>)\n",
       "       14    0.000    0.000    0.000    0.000 __init__.py:25(register_func)\n",
       "        1    0.000    0.000    0.000    0.000 signals.py:1(<module>)\n",
       "        1    0.000    0.000    0.000    0.000 decorators.py:15(<module>)\n",
       "        1    0.000    0.000    0.001    0.001 util.py:1(<module>)\n",
       "        9    0.000    0.000    0.000    0.000 pyparsing.py:3994(__str__)\n",
       "        7    0.000    0.000    0.000    0.000 pyparsing.py:4088(__init__)\n",
       "        5    0.000    0.000    0.000    0.000 rcsetup.py:644(validate_sketch)\n",
       "        3    0.000    0.000    0.000    0.000 rcsetup.py:921(validate_webagg_address)\n",
       "        8    0.000    0.000    0.000    0.000 __init__.py:390(_logged_cached)\n",
       "        1    0.000    0.000    0.000    0.000 stl10.py:1(<module>)\n",
       "        1    0.000    0.000    0.000    0.000 svhn.py:1(<module>)\n",
       "        2    0.000    0.000    0.000    0.000 transforms.py:162(__init__)\n",
       "        4    0.000    0.000    0.000    0.000 __init__.py:752(_addHandlerRef)\n",
       "       25    0.000    0.000    0.000    0.000 enum.py:332(<genexpr>)\n",
       "        1    0.000    0.000    0.000    0.000 __init__.py:71(search_function)\n",
       "        2    0.000    0.000    0.000    0.000 <frozen importlib._bootstrap_external>:960(__init__)\n",
       "        7    0.000    0.000    0.000    0.000 six.py:114(_resolve)\n",
       "       10    0.000    0.000    0.000    0.000 {method 'cast' of 'memoryview' objects}\n",
       "        1    0.000    0.000    0.000    0.000 btm_utils.py:1(<module>)\n",
       "        1    0.000    0.000    0.000    0.000 text_encoding.py:47(<listcomp>)\n",
       "        1    0.000    0.000    0.000    0.000 pyparsing.py:324(ParseResults)\n",
       "        1    0.000    0.000    0.001    0.001 expat.py:1(<module>)\n",
       "        1    0.000    0.000    0.072    0.072 __init__.py:554(__init__)\n",
       "        2    0.000    0.000    0.011    0.006 record_writer.py:46(open_file)\n",
       "        1    0.000    0.000    0.000    0.000 norm_flows.py:1(<module>)\n",
       "        1    0.000    0.000    0.000    0.000 odefunc_rl.py:65(__init__)\n",
       "        1    0.000    0.000    0.000    0.000 multiscale_parallel.py:1(<module>)\n",
       "        1    0.000    0.000    0.000    0.000 wrappers.py:1(<module>)\n",
       "        1    0.000    0.000    0.000    0.000 bezier.py:3(<module>)\n",
       "        1    0.000    0.000    0.000    0.000 transforms.py:2084(IdentityTransform)\n",
       "        1    0.000    0.000    0.000    0.000 api.py:21(FFI)\n",
       "        1    0.000    0.000    0.000    0.000 _binary.py:14(<module>)\n",
       "        1    0.000    0.000    0.000    0.000 inception.py:1(<module>)\n",
       "        1    0.000    0.000    0.000    0.000 _tqdm_gui.py:9(<module>)\n",
       "        1    0.000    0.000    0.000    0.000 models.py:586(Response)\n",
       "        2    0.000    0.000    0.000    0.000 backend.py:128(_get_osurandom_engine)\n",
       "        1    0.000    0.000    0.000    0.000 _conditional.py:5(<module>)\n",
       "        1    0.000    0.000    0.000    0.000 name.py:15(_ASN1Type)\n",
       "        1    0.000    0.000    0.000    0.000 extensions.py:581(ReasonFlags)\n",
       "        1    0.000    0.000    0.000    0.000 extensions.py:949(KeyUsage)\n",
       "       12    0.000    0.000    0.000    0.000 utils.py:116(__init__)\n",
       "        1    0.000    0.000    0.000    0.000 cp949prober.py:28(<module>)\n",
       "        1    0.000    0.000    0.000    0.000 big5prober.py:28(<module>)\n",
       "        1    0.000    0.000    0.000    0.000 pyopenssl.py:137(_validate_dependencies_met)\n",
       "        1    0.000    0.000    0.000    0.000 latin1prober.py:29(<module>)\n",
       "        1    0.000    0.000    0.000    0.000 fields.py:1(<module>)\n",
       "        1    0.000    0.000    0.000    0.000 _storage_docs.py:18(add_docstr_all)\n",
       "        1    0.000    0.000    0.240    0.240 alexnet.py:1(<module>)\n",
       "        1    0.000    0.000    0.000    0.000 logistic_normal.py:1(<module>)\n",
       "        1    0.000    0.000    0.000    0.000 multinomial.py:1(<module>)\n",
       "        1    0.000    0.000    0.000    0.000 relaxed_categorical.py:1(<module>)\n",
       "        1    0.000    0.000    0.000    0.000 studentT.py:1(<module>)\n",
       "       19    0.000    0.000    0.000    0.000 constraint_registry.py:105(<lambda>)\n",
       "        1    0.000    0.000    0.000    0.000 fishersnedecor.py:1(<module>)\n",
       "        1    0.000    0.000    0.000    0.000 uniform.py:9(Uniform)\n",
       "        1    0.000    0.000    0.000    0.000 half_normal.py:1(<module>)\n",
       "        1    0.000    0.000    0.000    0.000 beta.py:1(<module>)\n",
       "        1    0.000    0.000    0.000    0.000 dirichlet.py:1(<module>)\n",
       "        1    0.000    0.000    0.000    0.000 binomial.py:1(<module>)\n",
       "        4    0.000    0.000    0.000    0.000 linear.py:69(extra_repr)\n",
       "        1    0.000    0.000    0.000    0.000 streams.py:1(<module>)\n",
       "        1    0.000    0.000    0.000    0.000 tarfile.py:727(TarInfo)\n",
       "        4    0.000    0.000    0.000    0.000 _utils_internal.py:16(get_file_path)\n",
       "        1    0.000    0.000    0.000    0.000 __init__.py:239(manager_path)\n",
       "        2    0.000    0.000    0.000    0.000 {built-in method numpy.core.multiarray.copyto}\n",
       "        1    0.000    0.000    0.000    0.000 _import_tools.py:1(<module>)\n",
       "        1    0.000    0.000    0.000    0.000 helper.py:4(<module>)\n",
       "        1    0.000    0.000    0.000    0.000 defmatrix.py:70(matrix)\n",
       "        1    0.000    0.000    0.001    0.001 result.py:1(<module>)\n",
       "        1    0.000    0.000    0.000    0.000 pylabtools.py:302(activate_matplotlib)\n",
       "        5    0.000    0.000    0.000    0.000 rcsetup.py:890(validate_hist_bins)\n",
       "        8    0.000    0.000    0.000    0.000 fontconfig_pattern.py:138(_name)\n",
       "        1    0.000    0.000    0.000    0.000 pyparsing.py:334(ParseResults)\n",
       "        1    0.000    0.000    0.000    0.000 gzip.py:4(<module>)\n",
       "        1    0.000    0.000    0.001    0.001 context.py:69(RLock)\n",
       "        3    0.000    0.000    0.000    0.000 pathlib.py:1241(mkdir)\n",
       "        8    0.000    0.000    0.000    0.000 random.py:255(choice)\n",
       "        6    0.000    0.000    0.000    0.000 {built-in method _struct.pack}\n",
       "        1    0.000    0.000    0.000    0.000 six.py:826(__new__)\n",
       "        2    0.000    0.000    0.000    0.000 subprocess.py:1348(_handle_exitstatus)\n",
       "       23    0.000    0.000    0.000    0.000 enum.py:599(value)\n",
       "        1    0.000    0.000    0.000    0.000 train_cnf_disentangle_rl.py:159(ColorMNIST)\n",
       "        1    0.000    0.000    0.000    0.000 <frozen importlib._bootstrap_external>:497(_code_to_bytecode)\n",
       "        2    0.000    0.000    0.000    0.000 __init__.py:4(<module>)\n",
       "        9    0.000    0.000    0.000    0.000 {built-in method builtins.locals}\n",
       "        1    0.000    0.000    0.000    0.000 {built-in method torch._C._cuda_manualSeedAll}\n",
       "        1    0.000    0.000    0.000    0.000 <string>:5(Int8Tensor)\n",
       "        3    0.000    0.000    0.000    0.000 __init__.py:24(with_metaclass)\n",
       "        1    0.000    0.000    0.000    0.000 text_format.py:77(ParseError)\n",
       "        1    0.000    0.000    0.002    0.002 descriptor_pool.py:56(<module>)\n",
       "        4    0.000    0.000    0.000    0.000 pyparsing.py:3829(__init__)\n",
       "        3    0.000    0.000    0.000    0.000 pyparsing.py:1877(__mul__)\n",
       "        1    0.000    0.000    0.000    0.000 <string>:5(_Version)\n",
       "        2    0.000    0.000    0.001    0.000 event_file_writer.py:63(_write_serialized_event)\n",
       "        4    0.000    0.000    0.000    0.000 __init__.py:135(_declare_state)\n",
       "        1    0.000    0.000    0.000    0.000 decomp_cholesky.py:1(<module>)\n",
       "        1    0.000    0.000    0.000    0.000 _testutils.py:4(<module>)\n",
       "        1    0.000    0.000    0.000    0.000 fixed_grid.py:1(<module>)\n",
       "        1    0.000    0.000    0.000    0.000 polar.py:833(PolarAxes)\n",
       "        1    0.000    0.000    0.000    0.000 quiver.py:235(QuiverKey)\n",
       "        1    0.000    0.000    0.000    0.000 _pylab_helpers.py:3(<module>)\n",
       "        1    0.000    0.000    0.000    0.000 mathtext.py:634(BakomaFonts)\n",
       "        2    0.000    0.000    0.000    0.000 font_manager.py:983(<genexpr>)\n",
       "        4    0.000    0.000    0.000    0.000 docstring.py:35(__init__)\n",
       "       15    0.000    0.000    0.000    0.000 docstring.py:80(__init__)\n",
       "        1    0.000    0.000    0.000    0.000 Image.py:2932(_apply_env_variables)\n",
       "        1    0.000    0.000    0.000    0.000 sampler.py:1(<module>)\n",
       "        1    0.000    0.000    0.000    0.000 cookies.py:259(Morsel)\n",
       "        1    0.000    0.000    0.000    0.000 name.py:40(NameAttribute)\n",
       "        1    0.000    0.000    0.000    0.000 algos.py:613(EncryptionAlgorithm)\n",
       "        1    0.000    0.000    0.000    0.000 _ffi.py:11(<module>)\n",
       "        1    0.000    0.000    0.000    0.000 exceptions.py:10(_Reasons)\n",
       "        1    0.000    0.000    0.000    0.000 crypto.py:1082(__init__)\n",
       "        1    0.000    0.000    0.000    0.000 gb2312prober.py:28(<module>)\n",
       "        1    0.000    0.000    0.000    0.000 pyopenssl.py:115(inject_into_urllib3)\n",
       "        1    0.000    0.000    0.001    0.001 charsetgroupprober.py:28(<module>)\n",
       "        1    0.000    0.000    0.001    0.001 url.py:1(<module>)\n",
       "        1    0.000    0.000    0.000    0.000 exponential.py:1(<module>)\n",
       "        1    0.000    0.000    0.000    0.000 uniform.py:1(<module>)\n",
       "        1    0.000    0.000    0.000    0.000 normal.py:1(<module>)\n",
       "        1    0.000    0.000    0.000    0.000 categorical.py:8(Categorical)\n",
       "        1    0.000    0.000    0.000    0.000 categorical.py:1(<module>)\n",
       "        1    0.000    0.000    0.000    0.000 frontend.py:225(StmtBuilder)\n",
       "        1    0.000    0.000    0.000    0.000 fold.py:2(<module>)\n",
       "        1    0.000    0.000    0.000    0.000 comm.py:1(<module>)\n",
       "        1    0.000    0.000    0.000    0.000 _functions.py:1(<module>)\n",
       "        2    0.000    0.000    0.000    0.000 activation.py:608(__init__)\n",
       "        1    0.000    0.000    0.000    0.000 variable.py:1(<module>)\n",
       "        1    0.000    0.000    0.000    0.000 storage.py:1(<module>)\n",
       "        1    0.000    0.000    0.000    0.000 core.py:6266(__new__)\n",
       "        2    0.000    0.000    0.000    0.000 numeric.py:156(ones)\n",
       "        1    0.000    0.000    0.000    0.000 arrayterator.py:9(<module>)\n",
       "        1    0.000    0.000    0.000    0.000 arraypad.py:5(<module>)\n",
       "        1    0.000    0.000    0.000    0.000 nosetester.py:6(<module>)\n",
       "        1    0.000    0.000    0.000    0.000 ufunclike.py:5(<module>)\n",
       "        1    0.000    0.000    0.000    0.000 case.py:388(__init__)\n",
       "        1    0.000    0.000    0.000    0.000 <string>:5(_LoggingWatcher)\n",
       "        3    0.000    0.000    0.000    0.000 pyparsing.py:3230(__init__)\n",
       "        5    0.000    0.000    0.000    0.000 pyparsing.py:4098(__str__)\n",
       "        5    0.000    0.000    0.000    0.000 rcsetup.py:607(validate_hinting)\n",
       "        1    0.000    0.000    0.000    0.000 pyparsing.py:1501(__init__)\n",
       "        1    0.000    0.000    0.000    0.000 phototour.py:1(<module>)\n",
       "        3    0.000    0.000    0.000    0.000 pathlib.py:1343(is_dir)\n",
       "        3    0.000    0.000    0.000    0.000 glob.py:145(has_magic)\n",
       "        1    0.000    0.000    0.003    0.003 __init__.py:1014(__init__)\n",
       "        1    0.000    0.000    0.000    0.000 threading.py:512(set)\n",
       "        1    0.000    0.000    0.000    0.000 sre_parse.py:876(parse_template)\n",
       "       10    0.000    0.000    0.000    0.000 os.py:746(decode)\n",
       "        8    0.000    0.000    0.000    0.000 {built-in method _codecs.lookup}\n",
       "       14    0.000    0.000    0.000    0.000 {method 'values' of 'dict' objects}\n",
       "        1    0.000    0.000    0.000    0.000 refactor.py:171(RefactoringTool)\n",
       "       14    0.000    0.000    0.000    0.000 visdom_writer.py:13(_check_connection)\n",
       "       16    0.000    0.000    0.000    0.000 symbol_database.py:187(Default)\n",
       "        1    0.000    0.000    0.003    0.003 symbol_database.py:58(<module>)\n",
       "        1    0.000    0.000    0.000    0.000 specifiers.py:78(_IndividualSpecifier)\n",
       "        2    0.000    0.000    0.000    0.000 pyparsing.py:668(<listcomp>)\n",
       "        2    0.000    0.000    0.002    0.001 pyparsing.py:1608(parseString)\n",
       "        1    0.000    0.000    0.000    0.000 appdirs.py:9(<module>)\n",
       "        1    0.000    0.000    0.000    0.000 __init__.py:2464(Distribution)\n",
       "        1    0.000    0.000    0.000    0.000 writer.py:237(SummaryWriter)\n",
       "        1    0.000    0.000    0.072    0.072 __init__.py:567(_build_master)\n",
       "        2    0.000    0.000    0.000    0.000 __init__.py:2205(file_ns_handler)\n",
       "        1    0.000    0.000    0.000    0.000 decomp_qr.py:1(<module>)\n",
       "        1    0.000    0.000    0.000    0.000 _procrustes.py:4(<module>)\n",
       "        1    0.000    0.000    0.000    0.000 <string>:5(ArgSpec)\n",
       "        1    0.000    0.000    0.000    0.000 flinalg.py:5(<module>)\n",
       "        1    0.000    0.000    0.000    0.000 cnf_regularization_rl.py:1(<module>)\n",
       "        1    0.000    0.000    0.000    0.000 solvers.py:1(<module>)\n",
       "        1    0.000    0.000    0.000    0.000 <string>:5(_RungeKuttaState)\n",
       "        1    0.000    0.000    0.000    0.000 axis.py:1790(XAxis)\n",
       "        4    0.000    0.000    0.000    0.000 scale.py:592(<listcomp>)\n",
       "        1    0.000    0.000    0.000    0.000 tricontour.py:1(<module>)\n",
       "        1    0.000    0.000    0.000    0.000 quiver.py:414(Quiver)\n",
       "        1    0.000    0.000    0.000    0.000 font_manager.py:939(FontManager)\n",
       "        1    0.000    0.000    0.000    0.000 font_manager.py:241(<listcomp>)\n",
       "        1    0.000    0.000    0.000    0.000 docstring.py:1(<module>)\n",
       "       11    0.000    0.000    0.000    0.000 _color_data.py:31(<genexpr>)\n",
       "        1    0.000    0.000    0.000    0.000 folder.py:1(<module>)\n",
       "        1    0.000    0.000    0.000    0.000 structures.py:8(<module>)\n",
       "        1    0.000    0.000    0.023    0.023 _internal_utils.py:9(<module>)\n",
       "        1    0.000    0.000    0.000    0.000 binding.py:109(_register_osrandom_engine)\n",
       "        3    0.000    0.000    0.000    0.000 extensions.py:915(<genexpr>)\n",
       "        1    0.000    0.000    0.000    0.000 pyopenssl.py:383(PyOpenSSLContext)\n",
       "        1    0.000    0.000    0.000    0.000 crypto.py:217(PKey)\n",
       "        1    0.000    0.000    0.000    0.000 euckrprober.py:28(<module>)\n",
       "        1    0.000    0.000    0.000    0.000 <string>:5(Url)\n",
       "        1    0.000    0.000    0.000    0.000 queue.py:1(<module>)\n",
       "        1    0.000    0.000    0.000    0.000 wait.py:1(<module>)\n",
       "        1    0.000    0.000    0.000    0.000 connectionpool.py:95(HTTPConnectionPool)\n",
       "        1    0.000    0.000    0.000    0.000 laplace.py:1(<module>)\n",
       "        1    0.000    0.000    0.000    0.000 lowrank_multivariate_normal.py:57(LowRankMultivariateNormal)\n",
       "        1    0.000    0.000    0.000    0.000 one_hot_categorical.py:7(OneHotCategorical)\n",
       "        1    0.000    0.000    0.000    0.000 gamma.py:1(<module>)\n",
       "        1    0.000    0.000    0.000    0.000 binomial.py:8(Binomial)\n",
       "        1    0.000    0.000    0.000    0.000 cauchy.py:1(<module>)\n",
       "        1    0.000    0.000    0.000    0.000 lbfgs.py:1(<module>)\n",
       "        1    0.000    0.000    0.000    0.000 distributed_c10d.py:79(__init__)\n",
       "        1    0.000    0.000    0.000    0.000 adadelta.py:1(<module>)\n",
       "        1    0.000    0.000    0.001    0.001 vision.py:1(<module>)\n",
       "        4    0.000    0.000    0.000    0.000 __init__.py:279(get_device_capability)\n",
       "        1    0.000    0.000    0.000    0.000 numerictypes.py:942(_register_types)\n",
       "        1    0.000    0.000    0.000    0.000 financial.py:12(<module>)\n",
       "        1    0.000    0.000    0.000    0.000 histograms.py:3(<module>)\n",
       "        1    0.000    0.000    0.000    0.000 linalg.py:74(_determine_error_states)\n",
       "        7    0.000    0.000    0.000    0.000 utils.py:69(__init__)\n",
       "        3    0.000    0.000    0.000    0.000 ufunclike.py:14(_deprecate_out_named_y)\n",
       "        1    0.000    0.000    0.000    0.000 __init__.py:425(LoadLibrary)\n",
       "        1    0.000    0.000    0.000    0.000 pyparsing.py:5864(pyparsing_unicode)\n",
       "        3    0.000    0.000    0.000    0.000 rcsetup.py:268(validate_toolbar)\n",
       "       10    0.000    0.000    0.000    0.000 rcsetup.py:284(__init__)\n",
       "        5    0.000    0.000    0.000    0.000 rcsetup.py:631(validate_bbox)\n",
       "        9    0.000    0.000    0.000    0.000 fontconfig_pattern.py:145(<listcomp>)\n",
       "        4    0.000    0.000    0.000    0.000 pyparsing.py:1863(__radd__)\n",
       "        3    0.000    0.000    0.000    0.000 version.py:69(__ge__)\n",
       "        1    0.000    0.000    0.000    0.000 __init__.py:656(_get_data_path)\n",
       "        1    0.000    0.000    0.007    0.007 fakedata.py:1(<module>)\n",
       "        1    0.000    0.000    0.002    0.002 ImageEnhance.py:21(<module>)\n",
       "        1    0.000    0.000    0.000    0.000 {method 'bind' of '_socket.socket' objects}\n",
       "        1    0.000    0.000    0.000    0.000 pathlib.py:1174(open)\n",
       "        3    0.000    0.000    0.000    0.000 gettext.py:506(translation)\n",
       "        2    0.000    0.000    0.000    0.000 traitlets.py:737(__init__)\n",
       "        1    0.000    0.000    0.000    0.000 traitlets.py:2275(__init__)\n",
       "        4    0.000    0.000    0.000    0.000 re.py:204(split)\n",
       "        3    0.000    0.000    0.000    0.000 weakref.py:339(__init__)\n",
       "        1    0.000    0.000    0.000    0.000 <frozen importlib._bootstrap_external>:850(set_data)\n",
       "        4    0.000    0.000    0.000    0.000 {built-in method atexit.register}\n",
       "       14    0.000    0.000    0.000    0.000 {method 'index' of 'list' objects}\n",
       "        1    0.000    0.000    0.000    0.000 {built-in method torch._C._tracer_warn_use_python}\n",
       "        1    0.000    0.000    0.000    0.000 basestring.py:12(<module>)\n",
       "        1    0.000    0.000    0.000    0.000 olddict.py:17(<module>)\n",
       "        1    0.000    0.000    0.000    0.000 oldstr.py:3(<module>)\n",
       "        1    0.000    0.000    0.000    0.000 pgen.py:5(<module>)\n",
       "        1    0.000    0.000    0.000    0.000 pytree.py:32(Base)\n",
       "        1    0.000    0.000    0.001    0.001 parse.py:11(<module>)\n",
       "        2    0.000    0.000    0.000    0.000 driver.py:110(_generate_pickle_name)\n",
       "        2    0.000    0.000    0.000    0.000 driver.py:138(_newer)\n",
       "        1    0.000    0.000    0.035    0.035 __init__.py:85(<module>)\n",
       "       11    0.000    0.000    0.000    0.000 attr_value_pb2.py:5(<lambda>)\n",
       "        9    0.000    0.000    0.000    0.000 step_stats_pb2.py:5(<lambda>)\n",
       "       14    0.000    0.000    0.000    0.000 {method 'ParseFromString' of 'google.protobuf.pyext._message.CMessage' objects}\n",
       "       13    0.000    0.000    0.000    0.000 {method 'AddEnumDescriptor' of 'google.protobuf.pyext._message.DescriptorPool' objects}\n",
       "        1    0.000    0.000    0.000    0.000 descriptor_pool.py:102(DescriptorPool)\n",
       "        1    0.000    0.000    0.000    0.000 message_factory.py:38(<module>)\n",
       "        1    0.000    0.000    0.000    0.000 containers.py:524(MessageMap)\n",
       "       13    0.000    0.000    0.000    0.000 enum_type_wrapper.py:46(__init__)\n",
       "        2    0.000    0.000    0.000    0.000 pyparsing.py:1567(resetCache)\n",
       "        1    0.000    0.000    0.000    0.000 py31compat.py:1(<module>)\n",
       "       12    0.000    0.000    0.000    0.000 version.py:338(<genexpr>)\n",
       "       16    0.000    0.000    0.000    0.000 six.py:75(_add_doc)\n",
       "       10    0.000    0.000    0.000    0.000 six.py:181(_get_module)\n",
       "        1    0.000    0.000    0.000    0.000 _decomp_polar.py:1(<module>)\n",
       "        1    0.000    0.000    0.000    0.000 <string>:5(_VCABMState)\n",
       "        1    0.000    0.000    0.000    0.000 <string>:5(_ButcherTableau)\n",
       "        1    0.000    0.000    0.001    0.001 __init__.py:11(<module>)\n",
       "        1    0.000    0.000    0.000    0.000 axis.py:38(Tick)\n",
       "        1    0.000    0.000    0.001    0.001 triangulation.py:1(<module>)\n",
       "        1    0.000    0.000    0.000    0.000 trifinder.py:1(<module>)\n",
       "        1    0.000    0.000    0.000    0.000 tripcolor.py:1(<module>)\n",
       "        8    0.000    0.000    0.000    0.000 rrule.py:77(<genexpr>)\n",
       "        1    0.000    0.000    0.000    0.000 backend_bases.py:127(RendererBase)\n",
       "        1    0.000    0.000    0.000    0.000 backend_bases.py:2522(NavigationToolbar2)\n",
       "        1    0.000    0.000    0.000    0.000 _pylab_helpers.py:10(Gcf)\n",
       "        1    0.000    0.000    0.000    0.000 textpath.py:24(TextToPath)\n",
       "        1    0.000    0.000    0.000    0.000 dviread.py:766(PsfontsMap)\n",
       "        1    0.000    0.000    0.000    0.000 <string>:5(Page)\n",
       "        1    0.000    0.000    0.000    0.000 <string>:5(Text)\n",
       "        1    0.000    0.000    0.000    0.000 mathtext.py:1060(StandardPsFonts)\n",
       "        1    0.000    0.000    0.000    0.000 dataset.py:1(<module>)\n",
       "        1    0.000    0.000    0.000    0.000 vgg.py:1(<module>)\n",
       "        1    0.000    0.000    0.000    0.000 squeezenet.py:1(<module>)\n",
       "        1    0.000    0.000    0.000    0.000 zipfile.py:1063(ZipFile)\n",
       "        1    0.000    0.000    0.000    0.000 x509.py:214(_CertificateRevocationList)\n",
       "        1    0.000    0.000    0.000    0.000 ocsp.py:34(OCSPResponseStatus)\n",
       "        1    0.000    0.000    0.000    0.000 ocsp.py:264(OCSPRequest)\n",
       "        1    0.000    0.000    0.000    0.000 <string>:5(_OpenSSLErrorWithText)\n",
       "        1    0.000    0.000    0.000    0.000 dsa.py:80(DSAPublicKey)\n",
       "        1    0.000    0.000    0.000    0.000 sbcharsetprober.py:29(<module>)\n",
       "        1    0.000    0.000    0.000    0.000 mbcharsetprober.py:30(<module>)\n",
       "        1    0.000    0.000    0.000    0.000 <string>:5(RequestHistory)\n",
       "        1    0.000    0.000    0.001    0.001 universaldetector.py:51(UniversalDetector)\n",
       "        1    0.000    0.000    0.000    0.000 one_hot_categorical.py:1(<module>)\n",
       "        1    0.000    0.000    0.000    0.000 pareto.py:9(Pareto)\n",
       "        1    0.000    0.000    0.000    0.000 poisson.py:1(<module>)\n",
       "        1    0.000    0.000    0.000    0.000 fishersnedecor.py:11(FisherSnedecor)\n",
       "        1    0.000    0.000    0.000    0.000 geometric.py:1(<module>)\n",
       "        1    0.000    0.000    0.000    0.000 transformed_distribution.py:1(<module>)\n",
       "        1    0.000    0.000    0.000    0.000 independent.py:1(<module>)\n",
       "        1    0.000    0.000    0.000    0.000 bernoulli.py:10(Bernoulli)\n",
       "        1    0.000    0.000    0.000    0.000 cauchy.py:11(Cauchy)\n",
       "        1    0.000    0.000    0.000    0.000 rmsprop.py:1(<module>)\n",
       "        1    0.000    0.000    0.001    0.001 scatter_gather.py:1(<module>)\n",
       "        1    0.000    0.000    0.000    0.000 profiler.py:341(FormattedTimesMixin)\n",
       "        2    0.000    0.000    0.000    0.000 function.py:183(once_differentiable)\n",
       "        3    0.000    0.000    0.000    0.000 _six.py:54(with_metaclass)\n",
       "        2    0.000    0.000    0.000    0.000 serialization.py:46(register_package)\n",
       "        1    0.000    0.000    0.000    0.000 hermite_e.py:1811(HermiteE)\n",
       "        1    0.000    0.000    0.000    0.000 _distributor_init.py:17(__enter__)\n",
       "        1    0.000    0.000    0.000    0.000 mixins.py:1(<module>)\n",
       "        4    0.000    0.000    0.000    0.000 function_base.py:241(iterable)\n",
       "       10    0.000    0.000    0.000    0.000 case.py:1316(_deprecate)\n",
       "        1    0.000    0.000    0.000    0.000 suite.py:270(_ErrorHolder)\n",
       "        1    0.000    0.000    0.000    0.000 pyparsing.py:3127(__init__)\n",
       "        8    0.000    0.000    0.000    0.000 pyparsing.py:4936(<genexpr>)\n",
       "       13    0.000    0.000    0.000    0.000 rcsetup.py:336(validate_color_or_auto)\n",
       "       11    0.000    0.000    0.000    0.000 rcsetup.py:661(__init__)\n",
       "        6    0.000    0.000    0.000    0.000 version.py:302(__init__)\n",
       "        5    0.000    0.000    0.000    0.000 __init__.py:1876(_str_equal)\n",
       "        2    0.000    0.000    0.000    0.000 __init__.py:175(compare_versions)\n",
       "        1    0.000    0.000    0.000    0.000 __init__.py:590(_get_xdg_cache_dir)\n",
       "        1    0.000    0.000    0.000    0.000 socket.py:409(_real_close)\n",
       "        1    0.000    0.000    0.000    0.000 random.py:96(seed)\n",
       "        3    0.000    0.000    0.000    0.000 gettext.py:572(dgettext)\n",
       "        6    0.000    0.000    0.000    0.000 platform.py:921(uname)\n",
       "        2    0.000    0.000    0.000    0.000 six.py:586(iteritems)\n",
       "        1    0.000    0.000    0.001    0.001 fnmatch.py:38(_compile_pattern)\n",
       "        2    0.000    0.000    0.000    0.000 subprocess.py:1154(_get_handles)\n",
       "        1    0.000    0.000    0.000    0.000 decoder.py:345(raw_decode)\n",
       "        7    0.000    0.000    0.000    0.000 enum.py:537(_generate_next_value_)\n",
       "        1    0.000    0.000    0.000    0.000 warnings.py:20(_showwarnmsg_impl)\n",
       "        1    0.000    0.000    0.000    0.000 functools.py:193(total_ordering)\n",
       "        1    0.000    0.000    0.000    0.000 warnings.py:398(__init__)\n",
       "        2    0.000    0.000    0.000    0.000 extension_loader.py:16(DlopenGuard)\n",
       "        1    0.000    0.000 42099.497 42099.497 <string>:1(<module>)\n",
       "        1    0.000    0.000    0.000    0.000 __init__.py:14(<module>)\n",
       "        2    0.000    0.000    0.001    0.001 driver.py:147(load_packaged_grammar)\n",
       "        1    0.000    0.000    0.000    0.000 tokenize.py:37(<listcomp>)\n",
       "        1    0.000    0.000    0.000    0.000 message.py:44(Message)\n",
       "        1    0.000    0.000    0.000    0.000 reflection.py:46(<module>)\n",
       "       13    0.000    0.000    0.000    0.000 summary_pb2.py:5(<lambda>)\n",
       "       11    0.000    0.000    0.000    0.000 tensor_pb2.py:5(<lambda>)\n",
       "        2    0.000    0.000    0.000    0.000 pyparsing.py:2963(__str__)\n",
       "        4    0.000    0.000    0.000    0.000 pyparsing.py:3015(parseImpl)\n",
       "        1    0.000    0.000    0.000    0.000 pyparsing.py:3061(__init__)\n",
       "        4    0.000    0.000    0.000    0.000 pyparsing.py:3353(setResultsName)\n",
       "        2    0.000    0.000    0.000    0.000 pyparsing.py:4003(parseImpl)\n",
       "        5    0.000    0.000    0.000    0.000 pyparsing.py:4292(__init__)\n",
       "        1    0.000    0.000    0.002    0.002 specifiers.py:214(LegacySpecifier)\n",
       "        6    0.000    0.000    0.000    0.000 pyparsing.py:506(haskeys)\n",
       "        1    0.000    0.000    0.008    0.008 version.py:191(Version)\n",
       "        1    0.000    0.000    0.000    0.000 __init__.py:551(WorkingSet)\n",
       "       14    0.000    0.000    0.000    0.000 __init__.py:2237(_cygwin_patch)\n",
       "       12    0.000    0.000    0.000    0.000 record_writer.py:132(u32)\n",
       "        1    0.000    0.000    0.000    0.000 _expm_frechet.py:1(<module>)\n",
       "        1    0.000    0.000    0.000    0.000 linalg_version.py:1(<module>)\n",
       "        1    0.000    0.000    0.000    0.000 coupling.py:1(<module>)\n",
       "        1    0.000    0.000    0.000    0.000 gate.py:1(<module>)\n",
       "        1    0.000    0.000    0.000    0.000 interp.py:1(<module>)\n",
       "        1    0.000    0.000    0.000    0.000 axis.py:33(<listcomp>)\n",
       "        1    0.000    0.000    0.000    0.000 axis.py:34(<listcomp>)\n",
       "        1    0.000    0.000    0.000    0.000 tritools.py:3(<module>)\n",
       "        1    0.000    0.000    0.000    0.000 widgets.py:1949(RectangleSelector)\n",
       "        1    0.000    0.000    0.000    0.000 backend_bases.py:728(GraphicsContextBase)\n",
       "        1    0.000    0.000    0.000    0.000 offsetbox.py:1365(AnnotationBbox)\n",
       "        1    0.000    0.000    0.000    0.000 image.py:180(_ImageBase)\n",
       "        1    0.000    0.000    0.000    0.000 tight_layout.py:10(<module>)\n",
       "        1    0.000    0.000    0.000    0.000 <string>:5(Box)\n",
       "        1    0.000    0.000    0.000    0.000 <string>:5(Font)\n",
       "        1    0.000    0.000    0.000    0.000 mathtext.py:3204(MathTextParser)\n",
       "        1    0.000    0.000    0.000    0.000 patches.py:3901(FancyArrowPatch)\n",
       "        1    0.000    0.000    0.000    0.000 patches.py:2413(FancyBboxPatch)\n",
       "        1    0.000    0.000    0.000    0.000 patches.py:1105(Arrow)\n",
       "        1    0.000    0.000    0.000    0.000 <string>:5(CharMetrics)\n",
       "        1    0.000    0.000    0.000    0.000 ticker.py:481(ScalarFormatter)\n",
       "        2    0.000    0.000    0.000    0.000 model.py:264(__init__)\n",
       "        1    0.000    0.000    0.000    0.000 coco.py:1(<module>)\n",
       "        1    0.000    0.000    0.000    0.000 algorithms.py:76(Blowfish)\n",
       "        1    0.000    0.000    0.000    0.000 x509.py:387(_CertificateSigningRequest)\n",
       "        7    0.000    0.000    0.000    0.000 ocsp.py:43(<genexpr>)\n",
       "        1    0.000    0.000    0.000    0.000 base.py:86(AEADEncryptionContext)\n",
       "        1    0.000    0.000    0.000    0.000 backend.py:102(__init__)\n",
       "        2    0.000    0.000    0.027    0.014 binding.py:136(init_static_locks)\n",
       "        1    0.000    0.000    0.000    0.000 oid.py:120(ExtendedKeyUsageOID)\n",
       "        1    0.000    0.000    0.000    0.000 core.py:3050(Sequence)\n",
       "        1    0.000    0.000    0.000    0.000 core.py:3848(SequenceOf)\n",
       "        1    0.000    0.000    0.000    0.000 extensions.py:1449(UnrecognizedExtension)\n",
       "        1    0.000    0.000    0.000    0.000 rsa.py:69(RSAPublicKey)\n",
       "        1    0.000    0.000    0.000    0.000 rsa.py:268(RSAPrivateNumbers)\n",
       "        1    0.000    0.000    0.000    0.000 interfaces.py:183(EllipticCurveBackend)\n",
       "        1    0.000    0.000    0.000    0.000 dsa.py:150(DSAParameterNumbers)\n",
       "        1    0.000    0.000    0.000    0.000 ec.py:15(EllipticCurveOID)\n",
       "        1    0.000    0.000    0.000    0.000 pyopenssl.py:247(WrappedSocket)\n",
       "        1    0.000    0.000    0.000    0.000 crypto.py:714(X509Extension)\n",
       "        1    0.000    0.000    0.000    0.000 crypto.py:872(X509Req)\n",
       "        1    0.000    0.000    0.000    0.000 big5prober.py:34(Big5Prober)\n",
       "        1    0.000    0.000    0.000    0.000 hebrewprober.py:28(<module>)\n",
       "        1    0.000    0.000    0.000    0.000 charsetprober.py:29(<module>)\n",
       "        1    0.000    0.000    0.000    0.000 _storage_docs.py:1(<module>)\n",
       "        1    0.000    0.000    0.000    0.000 logistic_normal.py:8(LogisticNormal)\n",
       "        1    0.000    0.000    0.000    0.000 relaxed_bernoulli.py:10(LogitRelaxedBernoulli)\n",
       "        1    0.000    0.000    0.000    0.000 geometric.py:10(Geometric)\n",
       "        1    0.000    0.000    0.000    0.000 chi2.py:1(<module>)\n",
       "        1    0.000    0.000    0.000    0.000 <string>:5(ScriptMethodStub)\n",
       "        1    0.000    0.000    0.000    0.000 adagrad.py:1(<module>)\n",
       "        1    0.000    0.000    0.000    0.000 adam.py:1(<module>)\n",
       "        1    0.000    0.000    0.000    0.000 sparse_adam.py:1(<module>)\n",
       "        1    0.000    0.000    0.000    0.000 adamax.py:1(<module>)\n",
       "        1    0.000    0.000    0.000    0.000 asgd.py:1(<module>)\n",
       "        1    0.000    0.000    0.000    0.000 rprop.py:1(<module>)\n",
       "        1    0.000    0.000    0.000    0.000 weight_norm.py:3(<module>)\n",
       "        1    0.000    0.000    0.000    0.000 parallel_apply.py:1(<module>)\n",
       "        1    0.000    0.000    0.000    0.000 __init__.py:451(__set__)\n",
       "        1    0.000    0.000    0.000    0.000 grad.py:1(<module>)\n",
       "        1    0.000    0.000    0.000    0.000 hooks.py:1(<module>)\n",
       "        4    0.000    0.000    0.000    0.000 __init__.py:267(get_device_name)\n",
       "        1    0.000    0.000    0.000    0.000 core.py:3080(view)\n",
       "        2    0.000    0.000    0.000    0.000 core.py:6348(__setattr__)\n",
       "        1    0.000    0.000    0.000    0.000 legendre.py:1794(Legendre)\n",
       "        1    0.000    0.000    0.000    0.000 _inspect.py:7(<module>)\n",
       "       13    0.000    0.000    0.000    0.000 mixins.py:30(_reflected_binary_method)\n",
       "        1    0.000    0.000    0.000    0.000 arraysetops.py:27(<module>)\n",
       "        3    0.000    0.000    0.000    0.000 numeric.py:2891(__enter__)\n",
       "        2    0.000    0.000    0.000    0.000 arrayprint.py:450(decorating_function)\n",
       "       10    0.000    0.000    0.000    0.000 pytesttester.py:72(__init__)\n",
       "        1    0.000    0.000    0.000    0.000 pytesttester.py:29(<module>)\n",
       "        1    0.000    0.000    0.000    0.000 machar.py:7(<module>)\n",
       "        2    0.000    0.000    0.000    0.000 getlimits.py:96(_str_xmin)\n",
       "        3    0.000    0.000    0.000    0.000 result.py:12(failfast)\n",
       "        1    0.000    0.000    0.000    0.000 result.py:24(TestResult)\n",
       "        1    0.000    0.000    0.000    0.000 <string>:5(Mismatch)\n",
       "       10    0.000    0.000    0.000    0.000 rcsetup.py:329(validate_color_or_inherit)\n",
       "        6    0.000    0.000    0.000    0.000 rcsetup.py:501(validate_ps_distiller)\n",
       "        6    0.000    0.000    0.000    0.000 version.py:312(<listcomp>)\n",
       "        3    0.000    0.000    0.000    0.000 __init__.py:903(__init__)\n",
       "        3    0.000    0.000    0.000    0.000 rcsetup.py:108(validate_path_exists)\n",
       "        1    0.000    0.000    0.000    0.000 stl10.py:12(STL10)\n",
       "        1    0.000    0.000    0.000    0.000 syspathcontext.py:55(__exit__)\n",
       "        1    0.000    0.000    0.000    0.000 builtin_trap.py:46(__exit__)\n",
       "        1    0.000    0.000    0.000    0.000 tempfile.py:160(<listcomp>)\n",
       "        1    0.000    0.000    0.000    0.000 tempfile.py:157(__next__)\n",
       "        1    0.000    0.000    0.000    0.000 argparse.py:1920(consume_positionals)\n",
       "        6    0.000    0.000    0.000    0.000 traitlets.py:383(class_init)\n",
       "        1    0.000    0.000    0.000    0.000 traitlets.py:2175(__init__)\n",
       "        1    0.000    0.000    0.000    0.000 threading.py:1175(cancel)\n",
       "        2    0.000    0.000    0.000    0.000 subprocess.py:758(__del__)\n",
       "        4    0.000    0.000    0.000    0.000 weakref.py:288(update)\n",
       "        4    0.000    0.000    0.000    0.000 _collections_abc.py:252(__subclasshook__)\n",
       "        2    0.000    0.000    0.000    0.000 os.py:672(__setitem__)\n",
       "        2    0.000    0.000    0.000    0.000 os.py:678(__delitem__)\n",
       "        2    0.000    0.000    0.000    0.000 <frozen importlib._bootstrap_external>:47(_w_long)\n",
       "        6    0.000    0.000    0.000    0.000 {built-in method sys.setdlopenflags}\n",
       "        8    0.000    0.000    0.000    0.000 {method 'write' of '_io.BufferedWriter' objects}\n",
       "        1    0.000    0.000    0.000    0.000 {built-in method torch._C._set_cudnn_benchmark}\n",
       "        1    0.000    0.000    0.000    0.000 compatibility.py:1(<module>)\n",
       "        3    0.000    0.000    0.000    0.000 grammar.py:77(__init__)\n",
       "        7    0.000    0.000    0.000    0.000 node_def_pb2.py:5(<lambda>)\n",
       "        1    0.000    0.000    0.000    0.000 x2num.py:2(<module>)\n",
       "        6    0.000    0.000    0.000    0.000 resource_handle_pb2.py:5(<lambda>)\n",
       "        4    0.000    0.000    0.000    0.000 descriptor.py:729(__new__)\n",
       "        1    0.000    0.000    0.000    0.000 <string>:5(manifest_mod)\n",
       "        3    0.000    0.000    0.000    0.000 pyparsing.py:2376(__init__)\n",
       "        1    0.000    0.000    0.000    0.000 pyparsing.py:2991(__init__)\n",
       "        5    0.000    0.000    0.000    0.000 pyparsing.py:3032(__str__)\n",
       "       18    0.000    0.000    0.000    0.000 pyparsing.py:458(__bool__)\n",
       "        2    0.000    0.000    0.000    0.000 pyparsing.py:1288(addParseAction)\n",
       "        4    0.000    0.000    0.000    0.000 pyparsing.py:2020(__invert__)\n",
       "        2    0.000    0.000    0.000    0.000 six.py:164(_SixMetaPathImporter)\n",
       "        1    0.000    0.000    0.000    0.000 __about__.py:4(<module>)\n",
       "        1    0.000    0.000    0.000    0.000 _structures.py:4(<module>)\n",
       "       12    0.000    0.000    0.000    0.000 __init__.py:15(search_path)\n",
       "        1    0.000    0.000    0.000    0.000 event_file_writer.py:79(EventFileWriter)\n",
       "        1    0.000    0.000    0.000    0.000 crc32c.py:1(<module>)\n",
       "        1    0.000    0.000    0.000    0.000 glow.py:1(<module>)\n",
       "        1    0.000    0.000    0.000    0.000 geo.py:442(LambertAxes)\n",
       "        1    0.000    0.000    0.000    0.000 axis.py:2164(YAxis)\n",
       "        1    0.000    0.000    0.000    0.000 scale.py:191(LogScale)\n",
       "        1    0.000    0.000    0.000    0.000 trirefine.py:3(<module>)\n",
       "        1    0.000    0.000    0.000    0.000 quiver.py:890(Barbs)\n",
       "        1    0.000    0.000    0.000    0.000 rrule.py:1300(rruleset)\n",
       "        1    0.000    0.000    0.000    0.000 backend_tools.py:1024(ToolHelpBase)\n",
       "        1    0.000    0.000    0.000    0.000 container.py:5(Container)\n",
       "        1    0.000    0.000    0.000    0.000 backend_bases.py:2436(FigureManagerBase)\n",
       "        1    0.000    0.000    0.000    0.000 backend_tools.py:35(ToolBase)\n",
       "        1    0.000    0.000    0.000    0.000 _layoutbox.py:48(LayoutBox)\n",
       "        1    0.000    0.000    0.000    0.000 textpath.py:412(TextPath)\n",
       "        8    0.000    0.000    0.000    0.000 mathtext.py:1853(__init__)\n",
       "        1    0.000    0.000    0.000    0.000 patches.py:794(RegularPolygon)\n",
       "        1    0.000    0.000    0.000    0.000 <string>:5(CompositePart)\n",
       "        1    0.000    0.000    0.000    0.000 collections.py:1297(EventCollection)\n",
       "        1    0.000    0.000    0.000    0.000 <string>:5(_XYPair)\n",
       "        1    0.000    0.000    0.000    0.000 transforms.py:1095(LockableBbox)\n",
       "        1    0.000    0.000    0.000    0.000 transforms.py:1718(AffineBase)\n",
       "        1    0.000    0.000    0.000    0.000 transforms.py:1777(Affine2DBase)\n",
       "        1    0.000    0.000    0.002    0.002 pyplot.py:621(close)\n",
       "        1    0.000    0.000    0.000    0.000 _version.py:20(get_versions)\n",
       "        1    0.000    0.000    0.000    0.000 resnext.py:1(<module>)\n",
       "        1    0.000    0.000    0.000    0.000 sampler.py:142(__init__)\n",
       "        1    0.000    0.000    0.000    0.000 _monitor.py:1(<module>)\n",
       "        1    0.000    0.000    0.003    0.003 api.py:11(<module>)\n",
       "        1    0.000    0.000    0.000    0.000 <string>:5(_MemoryBIO)\n",
       "        7    0.000    0.000    0.000    0.000 decode_asn1.py:187(__init__)\n",
       "        1    0.000    0.000    0.000    0.000 aead.py:5(<module>)\n",
       "        5    0.000    0.000    0.000    0.000 SSL.py:701(<genexpr>)\n",
       "        1    0.000    0.000    0.000    0.000 hashes.py:33(HashContext)\n",
       "        1    0.000    0.000    0.000    0.000 core.py:168(Asn1Value)\n",
       "        1    0.000    0.000    0.000    0.000 core.py:1283(Concat)\n",
       "        1    0.000    0.000    0.000    0.000 util.py:202(extended_date)\n",
       "        1    0.000    0.000    0.000    0.000 _types.py:2(<module>)\n",
       "        1    0.000    0.000    0.000    0.000 extensions.py:114(CRLNumber)\n",
       "        1    0.000    0.000    0.000    0.000 interfaces.py:334(DHBackend)\n",
       "        1    0.000    0.000    0.000    0.000 ec.py:103(EllipticCurvePublicKey)\n",
       "        1    0.000    0.000    0.000    0.000 crypto.py:375(_EllipticCurve)\n",
       "        1    0.000    0.000    0.000    0.000 crypto.py:1941(Revoked)\n",
       "        1    0.000    0.000    0.000    0.000 __about__.py:5(<module>)\n",
       "        1    0.000    0.000    0.000    0.000 base.py:44(Version)\n",
       "        1    0.000    0.000    0.000    0.000 retry.py:28(Retry)\n",
       "        1    0.000    0.000    0.000    0.000 _collections.py:102(HTTPHeaderDict)\n",
       "        1    0.000    0.000    0.000    0.000 __init__.py:49(check_compatibility)\n",
       "        1    0.000    0.000    0.000    0.000 transforms.py:26(Transform)\n",
       "        1    0.000    0.000    0.000    0.000 transformed_distribution.py:8(TransformedDistribution)\n",
       "        1    0.000    0.000    0.000    0.000 normal.py:10(Normal)\n",
       "        1    0.000    0.000    0.000    0.000 distribution.py:1(<module>)\n",
       "        1    0.000    0.000    0.000    0.000 <string>:5(PackedSequence)\n",
       "        1    0.000    0.000    0.000    0.000 clip_grad.py:1(<module>)\n",
       "        1    0.000    0.000    0.000    0.000 <string>:5(ASMoutput)\n",
       "        1    0.000    0.000    0.000    0.000 __init__.py:459(CudnnModule)\n",
       "        1    0.000    0.000    0.000    0.000 _VF.py:1(<module>)\n",
       "        1    0.000    0.000    0.000    0.000 auto_double_backwards.py:1(<module>)\n",
       "        5    0.000    0.000    0.000    0.000 __init__.py:20(__init__)\n",
       "        1    0.000    0.000    0.000    0.000 profiler.py:7(cudaOutputMode)\n",
       "        1    0.000    0.000    0.000    0.000 chebyshev.py:2109(Chebyshev)\n",
       "        1    0.000    0.000    0.000    0.000 stride_tricks.py:7(<module>)\n",
       "        5    0.000    0.000    0.000    0.000 __init__.py:99(CFunctionType)\n",
       "        1    0.000    0.000    0.000    0.000 pyparsing.py:2461(Keyword)\n",
       "        4    0.000    0.000    0.000    0.000 pyparsing.py:3081(parseImpl)\n",
       "        5    0.000    0.000    0.000    0.000 rcsetup.py:324(<listcomp>)\n",
       "       16    0.000    0.000    0.000    0.000 pyparsing.py:327(__getitem__)\n",
       "        2    0.000    0.000    0.000    0.000 pyparsing.py:1298(addParseAction)\n",
       "        1    0.000    0.000    0.001    0.001 version.py:93(StrictVersion)\n",
       "        3    0.000    0.000    0.000    0.000 version.py:331(_cmp)\n",
       "        1    0.000    0.000    0.000    0.000 gzip.py:110(GzipFile)\n",
       "      2/1    0.000    0.000    0.000    0.000 deprecation.py:248(wrapper)\n",
       "        1    0.000    0.000    0.000    0.000 __init__.py:555(get_home)\n",
       "        1    0.000    0.000    0.000    0.000 __init__.py:578(_get_xdg_config_dir)\n",
       "        2    0.000    0.000    0.000    0.000 {built-in method _socket.gethostname}\n",
       "        1    0.000    0.000    0.000    0.000 pathlib.py:1035(_opener)\n",
       "       12    0.000    0.000    0.000    0.000 {method 'getrandbits' of '_random.Random' objects}\n",
       "        2    0.000    0.000    0.000    0.000 argparse.py:1354(add_argument_group)\n",
       "        3    0.000    0.000    0.000    0.000 argparse.py:1484(_get_handler)\n",
       "        2    0.000    0.000    0.000    0.000 argparse.py:133(_get_kwargs)\n",
       "        2    0.000    0.000    0.000    0.000 __init__.py:960(__init__)\n",
       "        4    0.000    0.000    0.000    0.000 threading.py:74(RLock)\n",
       "        1    0.000    0.000    0.000    0.000 threading.py:1167(__init__)\n",
       "        1    0.000    0.000    0.000    0.000 encoder.py:104(__init__)\n",
       "        1    0.000    0.000    0.000    0.000 subprocess.py:773(_get_devnull)\n",
       "        1    0.000    0.000    0.000    0.000 decoder.py:334(decode)\n",
       "        2    0.000    0.000    0.000    0.000 enum.py:760(_missing_)\n",
       "        3    0.000    0.000    0.000    0.000 weakref.py:334(__new__)\n",
       "        3    0.000    0.000    0.000    0.000 _collections_abc.py:349(__subclasshook__)\n",
       "        2    0.000    0.000    0.000    0.000 {method 'rfind' of 'bytes' objects}\n",
       "        6    0.000    0.000    0.000    0.000 {method 'isdigit' of 'str' objects}\n",
       "        4    0.000    0.000    0.000    0.000 type_checkers.py:115(__init__)\n",
       "       13    0.000    0.000    0.000    0.000 decoder.py:190(_SimpleDecoder)\n",
       "        1    0.000    0.000    0.000    0.000 encoder.py:375(EncodeVarint)\n",
       "        1    0.000    0.000    0.000    0.000 encoder.py:418(TagBytes)\n",
       "        1    0.000    0.000    0.000    0.000 text_format.py:593(_Parser)\n",
       "        1    0.000    0.000    0.000    0.000 pytree.py:318(Leaf)\n",
       "        1    0.000    0.000    0.000    0.000 parse.py:27(Parser)\n",
       "        1    0.000    0.000    0.000    0.000 odenvp_conditional_rl.py:10(ODENVP)\n",
       "        6    0.000    0.000    0.000    0.000 layout_pb2.py:5(<lambda>)\n",
       "        4    0.000    0.000    0.000    0.000 {method 'FindOneofByName' of 'google.protobuf.pyext._message.DescriptorPool' objects}\n",
       "        1    0.000    0.000    0.000    0.000 well_known_types.py:241(Duration)\n",
       "        1    0.000    0.000    0.000    0.000 descriptor.py:222(Descriptor)\n",
       "        1    0.000    0.000    0.000    0.000 enum_type_wrapper.py:41(EnumTypeWrapper)\n",
       "        1    0.000    0.000    0.000    0.000 pyparsing.py:3458(__init__)\n",
       "        1    0.000    0.000    0.000    0.000 pyparsing.py:4163(__lshift__)\n",
       "        1    0.000    0.000    0.000    0.000 _compat.py:4(<module>)\n",
       "       16    0.000    0.000    0.000    0.000 pyparsing.py:317(__getitem__)\n",
       "        1    0.000    0.000    0.000    0.000 pyparsing.py:1972(__xor__)\n",
       "       14    0.000    0.000    0.000    0.000 six.py:189(__get_module)\n",
       "        1    0.000    0.000    0.000    0.000 __init__.py:3114(_initialize)\n",
       "       10    0.000    0.000    0.000    0.000 event_pb2.py:5(<lambda>)\n",
       "        1    0.000    0.000    0.003    0.003 train_misc.py:15(set_cnf_options)\n",
       "        1    0.000    0.000    0.000    0.000 _sketches.py:1(<module>)\n",
       "        1    0.000    0.000    0.000    0.000 _ccallback.py:26(LowLevelCallable)\n",
       "        2    0.000    0.000    0.000    0.000 _util.py:156(__init__)\n",
       "        1    0.000    0.000    0.000    0.000 squeeze.py:1(<module>)\n",
       "        1    0.000    0.000    0.000    0.000 normalization.py:8(MovingBatchNormNd)\n",
       "        9    0.000    0.000    0.000    0.000 utils.py:66(reset)\n",
       "        2    0.000    0.000    0.000    0.000 odefunc.py:75(__init__)\n",
       "        2    0.000    0.000    0.000    0.000 _version.py:62(<listcomp>)\n",
       "        1    0.000    0.000    0.000    0.000 _version.py:114(_compare)\n",
       "        1    0.000    0.000    0.000    0.000 polar.py:521(RadialTick)\n",
       "        1    0.000    0.000    0.000    0.000 geo.py:241(_GeoTransform)\n",
       "        1    0.000    0.000    0.000    0.000 polar.py:86(PolarAffine)\n",
       "        1    0.000    0.000    0.000    0.000 axis.py:404(XTick)\n",
       "        1    0.000    0.000    0.000    0.000 tritools.py:10(TriAnalyzer)\n",
       "        1    0.000    0.000    0.000    0.000 _base.py:131(_process_plot_var_args)\n",
       "        3    0.000    0.000    0.000    0.000 legend_handler.py:340(__init__)\n",
       "        1    0.000    0.000    0.000    0.000 core.py:157(iter_user_libraries)\n",
       "        1    0.000    0.000    0.000    0.000 backend_tools.py:958(ToolPan)\n",
       "        1    0.000    0.000    0.000    0.000 tight_bbox.py:3(<module>)\n",
       "        1    0.000    0.000    0.000    0.000 backend_tools.py:237(SetCursorBase)\n",
       "        1    0.000    0.000    0.000    0.000 backend_tools.py:562(ToolViewsPositions)\n",
       "        1    0.000    0.000    0.000    0.000 offsetbox.py:138(OffsetBox)\n",
       "        1    0.000    0.000    0.000    0.000 blocking_input.py:100(BlockingMouseInput)\n",
       "        1    0.000    0.000    0.000    0.000 gridspec.py:175(GridSpec)\n",
       "        1    0.000    0.000    0.000    0.000 mathtext.py:370(Fonts)\n",
       "        1    0.000    0.000    0.000    0.000 mathtext.py:1532(List)\n",
       "        1    0.000    0.000    0.000    0.000 bezier.py:147(BezierSegment)\n",
       "        1    0.000    0.000    0.000    0.000 patches.py:625(Rectangle)\n",
       "        1    0.000    0.000    0.000    0.000 text.py:1280(TextWithDash)\n",
       "        1    0.000    0.000    0.000    0.000 font_manager.py:516(FontProperties)\n",
       "        1    0.000    0.000    0.000    0.000 afm.py:390(AFM)\n",
       "        1    0.000    0.000    0.000    0.000 ticker.py:1810(MaxNLocator)\n",
       "        6    0.000    0.000    0.000    0.000 font_manager.py:139(get_fontext_synonyms)\n",
       "        1    0.000    0.000    0.000    0.000 transforms.py:2131(BlendedGenericTransform)\n",
       "        1    0.000    0.000    0.000    0.000 transforms.py:2344(CompositeGenericTransform)\n",
       "        1    0.000    0.000    0.001    0.001 artist.py:1088(ArtistInspector)\n",
       "        1    0.000    0.000    0.000    0.000 transforms.py:1865(Affine2D)\n",
       "        1    0.000    0.000    0.000    0.000 colorbar.py:218(_ColorbarAutoLocator)\n",
       "        1    0.000    0.000    0.000    0.000 colorbar.py:1058(Colorbar)\n",
       "        1    0.000    0.000    0.000    0.000 cycler.py:77(Cycler)\n",
       "        1    0.000    0.000    0.000    0.000 colors.py:1510(LightSource)\n",
       "        4    0.000    0.000    0.000    0.000 _utils.py:8(<genexpr>)\n",
       "        1    0.000    0.000    0.000    0.000 synchronize.py:371(Barrier)\n",
       "        1    0.000    0.000    0.000    0.000 auth.py:108(HTTPDigestAuth)\n",
       "        1    0.000    0.000    0.000    0.000 cookiejar.py:863(DefaultCookiePolicy)\n",
       "        1    0.000    0.000    0.000    0.000 cookiejar.py:1961(MozillaCookieJar)\n",
       "        1    0.000    0.000    0.000    0.000 zipfile.py:989(_ZipWriteFile)\n",
       "        1    0.000    0.000    0.000    0.000 x25519.py:31(X25519PrivateKey)\n",
       "        1    0.000    0.000    0.000    0.000 ocsp.py:57(OCSPCertStatus)\n",
       "        1    0.000    0.000    0.000    0.000 mac.py:12(MACContext)\n",
       "        1    0.000    0.000    0.000    0.000 dh.py:118(DHParameters)\n",
       "        1    0.000    0.000    0.000    0.000 {built-in method _openssl.ENGINE_get_default_RAND}\n",
       "        1    0.000    0.000    0.000    0.000 binding.py:96(Binding)\n",
       "        1    0.000    0.000    0.000    0.000 serialization.py:172(Encoding)\n",
       "        1    0.000    0.000    0.000    0.000 serialization.py:178(PrivateFormat)\n",
       "        1    0.000    0.000    0.000    0.000 binding.py:22(_OpenSSLError)\n",
       "        1    0.000    0.000    0.000    0.000 core.py:764(Void)\n",
       "        5    0.000    0.000    0.000    0.000 _elliptic_curve.py:60(__init__)\n",
       "        5    0.000    0.000    0.000    0.000 _elliptic_curve.py:170(__mul__)\n",
       "        1    0.000    0.000    0.000    0.000 algos.py:50(_ForceNullParameters)\n",
       "        1    0.000    0.000    0.000    0.000 extensions.py:261(AuthorityInformationAccess)\n",
       "        1    0.000    0.000    0.000    0.000 extensions.py:594(PolicyConstraints)\n",
       "        1    0.000    0.000    0.000    0.000 extensions.py:655(CertificatePolicies)\n",
       "        1    0.000    0.000    0.000    0.000 extensions.py:904(TLSFeatureType)\n",
       "        1    0.000    0.000    0.000    0.000 keys.py:329(NamedCurve)\n",
       "        1    0.000    0.000    0.000    0.000 keys.py:964(PublicKeyInfo)\n",
       "        1    0.000    0.000    0.000    0.000 ec.py:384(EllipticCurvePrivateNumbers)\n",
       "        1    0.000    0.000    0.000    0.000 _oid.py:5(<module>)\n",
       "        1    0.000    0.000    0.000    0.000 rsa.py:21(RSAPrivateKey)\n",
       "        1    0.000    0.000    0.000    0.000 interfaces.py:131(DSABackend)\n",
       "        1    0.000    0.000    0.000    0.000 interfaces.py:275(X509Backend)\n",
       "        1    0.000    0.000    0.000    0.000 utils.py:46(register_decorator)\n",
       "        1    0.000    0.000    0.000    0.000 ec.py:48(EllipticCurvePrivateKey)\n",
       "        1    0.000    0.000    0.000    0.000 certificate_transparency.py:13(LogEntryType)\n",
       "        1    0.000    0.000    0.000    0.000 certificate_transparency.py:22(SignedCertificateTimestamp)\n",
       "        1    0.000    0.000    0.000    0.000 hebrewprober.py:128(HebrewProber)\n",
       "        1    0.000    0.000    0.000    0.000 connection.py:70(HTTPConnection)\n",
       "        1    0.000    0.000    0.000    0.000 __init__.py:74(_check_cryptography)\n",
       "        1    0.000    0.000    0.000    0.000 laplace.py:8(Laplace)\n",
       "        1    0.000    0.000    0.000    0.000 poisson.py:9(Poisson)\n",
       "        1    0.000    0.000    0.000    0.000 log_normal.py:8(LogNormal)\n",
       "        1    0.000    0.000    0.000    0.000 relaxed_bernoulli.py:92(RelaxedBernoulli)\n",
       "        1    0.000    0.000    0.000    0.000 relaxed_categorical.py:10(ExpRelaxedCategorical)\n",
       "        1    0.000    0.000    0.000    0.000 studentT.py:11(StudentT)\n",
       "        1    0.000    0.000    0.000    0.000 gamma.py:13(Gamma)\n",
       "        1    0.000    0.000    0.000    0.000 transforms.py:164(_InverseTransform)\n",
       "        1    0.000    0.000    0.000    0.000 transforms.py:209(ComposeTransform)\n",
       "        1    0.000    0.000    0.000    0.000 exp_family.py:1(<module>)\n",
       "        1    0.000    0.000    0.000    0.000 beta.py:10(Beta)\n",
       "        1    0.000    0.000    0.000    0.000 __init__.py:1262(_get_methods)\n",
       "        2    0.000    0.000    0.002    0.001 __init__.py:1450(_register_builtin)\n",
       "        1    0.000    0.000    0.000    0.000 optimizer.py:17(Optimizer)\n",
       "        1    0.000    0.000    0.000    0.000 sgd.py:1(<module>)\n",
       "        1    0.000    0.000    0.000    0.000 __init__.py:38(_parse_env)\n",
       "        1    0.000    0.000    0.000    0.000 distance.py:47(CosineSimilarity)\n",
       "        1    0.000    0.000    0.001    0.001 replicate.py:1(<module>)\n",
       "        1    0.000    0.000    0.000    0.000 nccl.py:1(<module>)\n",
       "        1    0.000    0.000    0.000    0.000 sparse.py:10(Embedding)\n",
       "        1    0.000    0.000    0.000    0.000 container.py:202(ModuleDict)\n",
       "        1    0.000    0.000    0.000    0.000 container.py:415(ParameterDict)\n",
       "        1    0.000    0.000    0.000    0.000 pooling.py:971(AdaptiveAvgPool2d)\n",
       "        1    0.000    0.000    0.000    0.000 activation.py:576(Softplus)\n",
       "        1    0.000    0.000    0.000    0.000 parameter.py:1(<module>)\n",
       "        1    0.000    0.000    0.000    0.000 linear.py:75(Bilinear)\n",
       "        4    0.000    0.000    0.000    0.000 utils.py:5(_ntuple)\n",
       "        1    0.000    0.000    0.000    0.000 anomaly_mode.py:4(detect_anomaly)\n",
       "        1    0.000    0.000    0.000    0.000 nvtx.py:1(<module>)\n",
       "        1    0.000    0.000    0.000    0.000 storage.py:7(_StorageBase)\n",
       "       14    0.000    0.000    0.000    0.000 {built-in method numpy.core.umath.geterrobj}\n",
       "        2    0.000    0.000    0.000    0.000 {method 'transpose' of 'numpy.ndarray' objects}\n",
       "        1    0.000    0.000    0.000    0.000 core.py:6256(MaskedConstant)\n",
       "        1    0.000    0.000    0.000    0.000 _internal.py:246(_ctypes)\n",
       "        1    0.000    0.000    0.000    0.000 numeric.py:2171(identity)\n",
       "        1    0.000    0.000    0.000    0.000 polynomial.py:1606(Polynomial)\n",
       "        1    0.000    0.000    0.000    0.000 _datasource.py:265(DataSource)\n",
       "        4    0.000    0.000    0.000    0.000 mixins.py:55(_unary_method)\n",
       "        1    0.000    0.000    0.000    0.000 utils.py:1923(suppress_warnings)\n",
       "        1    0.000    0.000    0.000    0.000 main.py:49(TestProgram)\n",
       "        1    0.000    0.000    0.000    0.000 records.py:304(recarray)\n",
       "        2    0.000    0.000    0.000    0.000 getlimits.py:100(_str_xmax)\n",
       "        1    0.000    0.000    0.000    0.000 _globals.py:63(__new__)\n",
       "        2    0.000    0.000    0.000    0.000 __init__.py:342(_FuncPtr)\n",
       "        1    0.000    0.000    0.000    0.000 pyparsing.py:3057(__init__)\n",
       "        5    0.000    0.000    0.000    0.000 pyparsing.py:3098(__str__)\n",
       "        5    0.000    0.000    0.000    0.000 rcsetup.py:484(update_savefig_format)\n",
       "        6    0.000    0.000    0.000    0.000 rcsetup.py:596(validate_svg_fonttype)\n",
       "        1    0.000    0.000    0.000    0.000 pyparsing.py:1308(addCondition)\n",
       "        4    0.000    0.000    0.000    0.000 pyparsing.py:2042(__invert__)\n",
       "        5    0.000    0.000    0.000    0.000 rcsetup.py:153(validate_float_or_None)\n",
       "        2    0.000    0.000    0.000    0.000 __init__.py:666(get_candidate_paths)\n",
       "        1    0.000    0.000    0.009    0.009 __init__.py:936(rc_params)\n",
       "        2    0.000    0.000    0.000    0.000 __init__.py:1404(get_backend)\n",
       "        3    0.000    0.000    0.000    0.000 {built-in method _socket.inet_aton}\n",
       "        2    0.000    0.000    0.000    0.000 queue.py:199(_init)\n",
       "        1    0.000    0.000    0.000    0.000 socket.py:413(close)\n",
       "        2    0.000    0.000    0.000    0.000 pathlib.py:685(_make_child)\n",
       "        3    0.000    0.000    0.000    0.000 pathlib.py:1153(stat)\n",
       "        3    0.000    0.000    0.000    0.000 pathlib.py:357(gethomedir)\n",
       "        3    0.000    0.000    0.000    0.000 gettext.py:611(gettext)\n",
       "        2    0.000    0.000    0.000    0.000 inspect.py:2984(bind)\n",
       "        2    0.000    0.000    0.000    0.000 __init__.py:1280(setLevel)\n",
       "        2    0.000    0.000    0.000    0.000 __init__.py:800(createLock)\n",
       "        5    0.000    0.000    0.000    0.000 __init__.py:1115(append)\n",
       "        2    0.000    0.000    0.000    0.000 threading.py:1136(daemon)\n",
       "        1    0.000    0.000    0.000    0.000 encoder.py:259(_make_iterencode)\n",
       "        1    0.000    0.000    0.000    0.000 __init__.py:302(loads)\n",
       "        1    0.000    0.000    0.000    0.000 re.py:314(_compile_repl)\n",
       "        4    0.000    0.000    0.000    0.000 enum.py:331(__iter__)\n",
       "        2    0.000    0.000    0.000    0.000 os.py:760(getenv)\n",
       "        1    0.000    0.000    0.000    0.000 codecs.py:93(__new__)\n",
       "       11    0.000    0.000    0.000    0.000 {method 'endswith' of 'bytes' objects}\n",
       "        1    0.000    0.000    0.000    0.000 {built-in method _codecs.register_error}\n",
       "        5    0.000    0.000    0.000    0.000 {method 'intersection' of 'set' objects}\n",
       "        4    0.000    0.000    0.000    0.000 {built-in method fromkeys}\n",
       "        3    0.000    0.000    0.000    0.000 decoder.py:249(_ModifiedDecoder)\n",
       "        1    0.000    0.000    0.000    0.000 encoder.py:409(_VarintBytes)\n",
       "        4    0.000    0.000    0.000    0.000 encoder.py:504(_StructPackEncoder)\n",
       "        1    0.000    0.000    0.000    0.000 btm_utils.py:16(MinNode)\n",
       "        1    0.000    0.000    0.000    0.000 fixer_util.py:19(LParen)\n",
       "        1    0.000    0.000    0.000    0.000 workspace.py:494(_BlobDict)\n",
       "        1    0.000    0.000    0.000    0.000 __init__.py:252(__init__)\n",
       "        2    0.000    0.000    0.000    0.000 versions_pb2.py:5(<lambda>)\n",
       "        1    0.000    0.000    0.000    0.000 utils.py:2(<module>)\n",
       "        1    0.000    0.000    0.000    0.000 descriptor_pool.py:107(__new__)\n",
       "        2    0.000    0.000    0.000    0.000 message_factory.py:50(__init__)\n",
       "        1    0.000    0.000    0.000    0.000 pyparsing.py:3914(__str__)\n",
       "        1    0.000    0.000    0.000    0.000 specifiers.py:589(SpecifierSet)\n",
       "       12    0.000    0.000    0.000    0.000 version.py:248(<genexpr>)\n",
       "        8    0.000    0.000    0.000    0.000 version.py:261(<genexpr>)\n",
       "        1    0.000    0.000    0.000    0.000 __init__.py:2876(DistInfoDistribution)\n",
       "        2    0.000    0.000    0.190    0.095 __init__.py:3109(_call_aside)\n",
       "        1    0.000    0.000    0.000    0.000 plistlib.py:764(_BinaryPlistWriter)\n",
       "        2    0.000    0.000    0.000    0.000 __init__.py:10(__init__)\n",
       "        4    0.000    0.000    0.000    0.000 __init__.py:342(register_loader_type)\n",
       "        1    0.000    0.000    0.000    0.000 __init__.py:385(get_build_platform)\n",
       "        1    0.000    0.000    0.000    0.000 __init__.py:957(Environment)\n",
       "        1    0.000    0.000    0.000    0.000 __init__.py:1381(NullProvider)\n",
       "        1    0.000    0.000    0.000    0.000 __init__.py:1506(DefaultProvider)\n",
       "        1    0.000    0.000    0.000    0.000 __init__.py:1603(ZipProvider)\n",
       "        1    0.000    0.000    0.001    0.001 __init__.py:2310(EntryPoint)\n",
       "        2    0.000    0.000    0.000    0.000 writer.py:53(__init__)\n",
       "        1    0.000    0.000    0.000    0.000 coupling.py:51(MaskedCouplingLayer)\n",
       "        1    0.000    0.000    0.000    0.000 cnf_regularization_rl.py:5(RegularizedODEfunc)\n",
       "        1    0.000    0.000    0.000    0.000 container_gate.py:1(<module>)\n",
       "        1    0.000    0.000    0.000    0.000 cnf_gate_sep.py:20(CNF_Gate_Sep)\n",
       "        1    0.000    0.000    0.000    0.000 utils.py:8(makedirs)\n",
       "        1    0.000    0.000    0.000    0.000 multiscale_parallel.py:8(MultiscaleParallelCNF)\n",
       "        1    0.000    0.000    0.000    0.000 modules.py:152(Conv2dZeros)\n",
       "        1    0.000    0.000    0.000    0.000 basic.py:13(HyperLinear)\n",
       "        4    0.000    0.000    0.000    0.000 six.py:67(_add_doc)\n",
       "        1    0.000    0.000    0.000    0.000 polar.py:230(ThetaLocator)\n",
       "        1    0.000    0.000    0.000    0.000 polar.py:759(_WedgeBbox)\n",
       "        1    0.000    0.000    0.000    0.000 backend_agg.py:372(FigureCanvasAgg)\n",
       "        1    0.000    0.000    0.000    0.000 geo.py:271(AitoffTransform)\n",
       "        1    0.000    0.000    0.000    0.000 geo.py:319(HammerAxes)\n",
       "        1    0.000    0.000    0.000    0.000 __init__.py:6(ProjectionRegistry)\n",
       "        1    0.000    0.000    0.000    0.000 triangulation.py:7(Triangulation)\n",
       "        1    0.000    0.000    0.000    0.000 triinterpolate.py:293(CubicTriInterpolator)\n",
       "        1    0.000    0.000    0.000    0.000 triplot.py:1(<module>)\n",
       "        1    0.000    0.000    0.000    0.000 table.py:32(Cell)\n",
       "        1    0.000    0.000    0.000    0.000 dates.py:1136(AutoDateLocator)\n",
       "        1    0.000    0.000    0.000    0.000 rrule.py:304(rrule)\n",
       "        1    0.000    0.000    0.000    0.000 legend_handler.py:41(HandlerBase)\n",
       "        3    0.000    0.000    0.000    0.000 legend_handler.py:210(__init__)\n",
       "        1    0.000    0.000    0.000    0.000 legend_handler.py:549(HandlerStem)\n",
       "        1    0.000    0.000    0.000    0.000 core.py:218(reload_library)\n",
       "        1    0.000    0.000    0.000    0.000 widgets.py:61(Widget)\n",
       "        1    0.000    0.000    0.000    0.000 widgets.py:635(TextBox)\n",
       "        4    0.000    0.000    0.000    0.000 backend_bases.py:92(register_backend)\n",
       "        1    0.000    0.000    0.000    0.000 backend_bases.py:1096(TimerBase)\n",
       "        1    0.000    0.000    0.000    0.000 offsetbox.py:471(PaddedBox)\n",
       "        1    0.000    0.000    0.000    0.000 offsetbox.py:856(AuxTransformBox)\n",
       "        1    0.000    0.000    0.000    0.000 offsetbox.py:1260(OffsetImage)\n",
       "        1    0.000    0.000    0.000    0.000 image.py:781(AxesImage)\n",
       "        1    0.000    0.000    0.000    0.000 mathtext.py:137(MathtextBackendAgg)\n",
       "        1    0.000    0.000    0.000    0.000 mathtext.py:1425(Char)\n",
       "        1    0.000    0.000    0.000    0.000 patches.py:1534(Arc)\n",
       "        1    0.000    0.000    0.000    0.000 patches.py:1854(_simpleprint_styles)\n",
       "        1    0.000    0.000    0.000    0.000 patches.py:1407(Ellipse)\n",
       "        1    0.000    0.000    0.000    0.000 patches.py:911(Polygon)\n",
       "        1    0.000    0.000    0.000    0.000 patches.py:561(Shadow)\n",
       "        1    0.000    0.000    0.000    0.000 ticker.py:1711(MultipleLocator)\n",
       "        1    0.000    0.000    0.000    0.000 ticker.py:2057(LogLocator)\n",
       "        1    0.000    0.000    0.000    0.000 collections.py:1780(QuadMesh)\n",
       "        1    0.000    0.000    0.000    0.000 docstring.py:61(Appender)\n",
       "        1    0.000    0.000    0.000    0.000 transforms.py:1224(Transform)\n",
       "        1    0.000    0.000    0.000    0.000 transforms.py:1621(TransformWrapper)\n",
       "        1    0.000    0.000    0.000    0.000 colorbar.py:248(_ColorbarAutoMinorLocator)\n",
       "        1    0.000    0.000    0.000    0.000 lock.py:1(<module>)\n",
       "        1    0.000    0.000    0.000    0.000 error.py:2(<module>)\n",
       "        1    0.000    0.000    0.000    0.000 model.py:25(BaseTypeByIdentity)\n",
       "        1    0.000    0.000    0.000    0.000 model.py:102(PrimitiveType)\n",
       "        1    0.000    0.000    0.000    0.000 dataloader.py:720(DataLoader)\n",
       "        1    0.000    0.000    0.000    0.000 sampler.py:5(Sampler)\n",
       "        1    0.000    0.000    0.000    0.000 _monitor.py:14(TMonitor)\n",
       "        1    0.000    0.000    0.000    0.000 synchronize.py:210(Condition)\n",
       "        1    0.000    0.000    0.000    0.000 cookies.py:25(MockRequest)\n",
       "        1    0.000    0.000    0.000    0.000 cookies.py:97(MockResponse)\n",
       "        1    0.000    0.000    0.000    0.000 cookies.py:171(RequestsCookieJar)\n",
       "        1    0.000    0.000    0.003    0.003 certs.py:14(<module>)\n",
       "        1    0.000    0.000    0.000    0.000 core.py:13(where)\n",
       "        1    0.000    0.000    0.000    0.000 rsa.py:418(_RSAPublicKey)\n",
       "        1    0.000    0.000    0.000    0.000 padding.py:17(AsymmetricPadding)\n",
       "        1    0.000    0.000    0.000    0.000 makefile.py:8(<module>)\n",
       "        1    0.000    0.000    0.000    0.000 ocsp.py:325(_OCSPRequest)\n",
       "        1    0.000    0.000    0.000    0.000 x509.py:499(_SignedCertificateTimestamp)\n",
       "        1    0.000    0.000    0.000    0.000 ocsp.py:29(OCSPResponderEncoding)\n",
       "        4    0.000    0.000    0.000    0.000 ocsp.py:63(<genexpr>)\n",
       "        1    0.000    0.000    0.000    0.000 ocsp.py:175(OCSPResponseBuilder)\n",
       "        1    0.000    0.000    0.000    0.000 ec.py:126(_EllipticCurvePrivateKey)\n",
       "        5    0.000    0.000    0.000    0.000 backend.py:114(openssl_assert)\n",
       "        1    0.000    0.000    0.000    0.000 backend.py:117(activate_builtin_random)\n",
       "        2    0.000    0.000    0.000    0.000 {built-in method _openssl.OpenSSL_add_all_algorithms}\n",
       "        1    0.000    0.000    0.000    0.000 {built-in method _openssl.ASN1_STRING_set_default_mask_asc}\n",
       "        1    0.000    0.000    0.000    0.000 general_name.py:50(RFC822Name)\n",
       "        1    0.000    0.000    0.000    0.000 general_name.py:253(RegisteredID)\n",
       "        1    0.000    0.000    0.000    0.000 hashes.py:18(HashAlgorithm)\n",
       "        1    0.000    0.000    0.000    0.000 core.py:693(Constructable)\n",
       "        1    0.000    0.000    0.000    0.000 core.py:971(Choice)\n",
       "        1    0.000    0.000    0.000    0.000 core.py:1910(BitString)\n",
       "        1    0.000    0.000    0.000    0.000 core.py:2737(ObjectIdentifier)\n",
       "        1    0.000    0.000    0.000    0.000 _elliptic_curve.py:92(PrimePoint)\n",
       "        1    0.000    0.000    0.000    0.000 util.py:388(extended_datetime)\n",
       "        1    0.000    0.000    0.000    0.000 _errors.py:7(<module>)\n",
       "        1    0.000    0.000    0.000    0.000 _ordereddict.py:23(<module>)\n",
       "        1    0.000    0.000    0.000    0.000 algos.py:162(MaskGenAlgorithm)\n",
       "        1    0.000    0.000    0.000    0.000 algos.py:220(SignedDigestAlgorithmId)\n",
       "        1    0.000    0.000    0.000    0.000 extensions.py:232(SubjectKeyIdentifier)\n",
       "        1    0.000    0.000    0.000    0.000 extensions.py:300(AccessDescription)\n",
       "        1    0.000    0.000    0.000    0.000 extensions.py:336(BasicConstraints)\n",
       "        1    0.000    0.000    0.000    0.000 extensions.py:447(FreshestCRL)\n",
       "        1    0.000    0.000    0.000    0.000 extensions.py:817(ExtendedKeyUsage)\n",
       "        1    0.000    0.000    0.000    0.000 extensions.py:1210(SubjectAlternativeName)\n",
       "        1    0.000    0.000    0.000    0.000 extensions.py:1315(CRLReason)\n",
       "        1    0.000    0.000    0.000    0.000 extensions.py:1343(InvalidityDate)\n",
       "        1    0.000    0.000    0.000    0.000 version.py:2(<module>)\n",
       "        1    0.000    0.000    0.000    0.000 keys.py:54(OtherPrimeInfo)\n",
       "        1    0.000    0.000    0.000    0.000 keys.py:264(CharacteristicTwo)\n",
       "        1    0.000    0.000    0.000    0.000 keys.py:284(FieldID)\n",
       "        1    0.000    0.000    0.000    0.000 interfaces.py:253(DERSerializationBackend)\n",
       "        1    0.000    0.000    0.000    0.000 base.py:390(CertificateSigningRequestBuilder)\n",
       "        1    0.000    0.000    0.000    0.000 base.py:598(CertificateRevocationListBuilder)\n",
       "        1    0.000    0.000    0.000    0.000 __init__.py:12(AsymmetricSignatureContext)\n",
       "        1    0.000    0.000    0.000    0.000 dsa.py:14(DSAParameters)\n",
       "        1    0.000    0.000    0.000    0.000 dsa.py:227(DSAPrivateNumbers)\n",
       "        6    0.000    0.000    0.000    0.000 crypto.py:625(_cmp)\n",
       "        1    0.000    0.000    0.000    0.000 crypto.py:1550(X509StoreFlags)\n",
       "        1    0.000    0.000    0.000    0.000 crypto.py:2111(CRL)\n",
       "        1    0.000    0.000    0.000    0.000 crypto.py:2387(PKCS12)\n",
       "        1    0.000    0.000    0.000    0.000 crypto.py:2568(NetscapeSPKI)\n",
       "        1    0.000    0.000    0.000    0.000 crypto.py:2665(_PassphraseHelper)\n",
       "        1    0.000    0.000    0.000    0.000 enums.py:5(<module>)\n",
       "        1    0.000    0.000    0.000    0.000 charsetprober.py:35(CharSetProber)\n",
       "        1    0.000    0.000    0.000    0.000 jpcntx.py:31(<module>)\n",
       "        1    0.000    0.000    0.000    0.000 timeout.py:18(Timeout)\n",
       "        1    0.000    0.000    0.000    0.000 retry.py:159(__init__)\n",
       "        1    0.000    0.000    0.000    0.000 response.py:22(DeflateDecoder)\n",
       "        1    0.000    0.000    0.000    0.000 weibull.py:10(Weibull)\n",
       "        1    0.000    0.000    0.000    0.000 __init__.py:19(cuFFTPlanCache)\n",
       "        1    0.000    0.000    0.000    0.000 transforms.py:217(__init__)\n",
       "        1    0.000    0.000    0.000    0.000 transforms.py:290(ExpTransform)\n",
       "        1    0.000    0.000    0.000    0.000 transforms.py:514(LowerCholeskyTransform)\n",
       "        1    0.000    0.000    0.000    0.000 gumbel.py:13(Gumbel)\n",
       "        1    0.000    0.000    0.000    0.000 half_cauchy.py:11(HalfCauchy)\n",
       "        1    0.000    0.000    0.000    0.000 half_normal.py:11(HalfNormal)\n",
       "        1    0.000    0.000    0.000    0.000 dirichlet.py:38(Dirichlet)\n",
       "        1    0.000    0.000    0.000    0.000 lr_scheduler.py:56(LambdaLR)\n",
       "        1    0.000    0.000    0.000    0.000 resource_sharer.py:63(__init__)\n",
       "        1    0.000    0.000    0.000    0.000 resource_sharer.py:61(_ResourceSharer)\n",
       "        1    0.000    0.000    0.000    0.000 distributed.py:19(DistributedDataParallel)\n",
       "        1    0.000    0.000    0.000    0.000 distributed.py:27(DistributedDataParallel)\n",
       "        1    0.000    0.000    0.000    0.000 convert_parameters.py:1(<module>)\n",
       "        1    0.000    0.000    0.000    0.000 batchnorm.py:13(_BatchNorm)\n",
       "        1    0.000    0.000    0.000    0.000 instancenorm.py:6(_InstanceNorm)\n",
       "        2    0.000    0.000    0.000    0.000 dropout.py:17(extra_repr)\n",
       "        1    0.000    0.000    0.000    0.000 rnn.py:21(RNNBase)\n",
       "        1    0.000    0.000    0.000    0.000 loss.py:507(BCEWithLogitsLoss)\n",
       "        1    0.000    0.000    0.000    0.000 __init__.py:204(TensorDescriptor)\n",
       "        1    0.000    0.000    0.001    0.001 auto_symbolic.py:1(<module>)\n",
       "        1    0.000    0.000    0.000    0.000 grad_mode.py:1(<module>)\n",
       "        1    0.000    0.000    0.000    0.000 anomaly_mode.py:1(<module>)\n",
       "        1    0.000    0.000    0.000    0.000 streams.py:7(Stream)\n",
       "        1    0.000    0.000    0.002    0.002 random.py:77(manual_seed_all)\n",
       "        1    0.000    0.000    0.000    0.000 hooks.py:7(RemovableHandle)\n",
       "        1    0.000    0.000    0.000    0.000 core.py:6060(mvoid)\n",
       "        2    0.000    0.000    0.000    0.000 core.py:6449(__init__)\n",
       "        1    0.000    0.000    0.000    0.000 core.py:6440(_extrema_operation)\n",
       "        1    0.000    0.000    0.000    0.000 laguerre.py:1764(Laguerre)\n",
       "        1    0.000    0.000    0.000    0.000 info.py:156(<module>)\n",
       "        5    0.000    0.000    0.000    0.000 _inspect.py:145(<lambda>)\n",
       "        1    0.000    0.000    0.000    0.000 numerictypes.py:759(__getitem__)\n",
       "        1    0.000    0.000    0.000    0.000 numerictypes.py:845(<lambda>)\n",
       "        2    0.000    0.000    0.000    0.000 helper.py:245(__init__)\n",
       "        1    0.000    0.000    0.000    0.000 _iotools.py:270(NameValidator)\n",
       "        1    0.000    0.000    0.000    0.000 info.py:184(<module>)\n",
       "        1    0.000    0.000    0.000    0.000 npyio.py:51(BagObj)\n",
       "        3    0.000    0.000    0.000    0.000 numeric.py:2887(__init__)\n",
       "        3    0.000    0.000    0.000    0.000 numeric.py:2896(__exit__)\n",
       "        7    0.000    0.000    0.000    0.000 utils.py:52(_set_function_name)\n",
       "        3    0.000    0.000    0.000    0.000 index_tricks.py:241(__init__)\n",
       "        1    0.000    0.000    0.000    0.000 case.py:1338(FunctionTestCase)\n",
       "        1    0.000    0.000    0.000    0.000 suite.py:16(BaseTestSuite)\n",
       "        1    0.000    0.000    0.000    0.000 loader.py:66(TestLoader)\n",
       "        1    0.000    0.000    0.000    0.000 getlimits.py:62(MachArLike)\n",
       "        2    0.000    0.000    0.000    0.000 getlimits.py:532(max)\n",
       "        1    0.000    0.000    0.000    0.000 pyparsing.py:2798(Regex)\n",
       "        2    0.000    0.000    0.000    0.000 pyparsing.py:3265(__init__)\n",
       "        1    0.000    0.000    0.000    0.000 pyparsing.py:3510(Or)\n",
       "        3    0.000    0.000    0.000    0.000 pyparsing.py:4445(__init__)\n",
       "        1    0.000    0.000    0.000    0.000 pyparsing.py:5844(unicode_set)\n",
       "        1    0.000    0.000    0.000    0.000 fontconfig_pattern.py:30(FontconfigPatternParser)\n",
       "        4    0.000    0.000    0.000    0.000 pyparsing.py:325(__init__)\n",
       "        2    0.000    0.000    0.000    0.000 pyparsing.py:678(<listcomp>)\n",
       "        3    0.000    0.000    0.000    0.000 pyparsing.py:2067(suppress)\n",
       "        1    0.000    0.000    0.002    0.002 version.py:27(<module>)\n",
       "        1    0.000    0.000    0.000    0.000 __init__.py:629(Stack)\n",
       "        1    0.000    0.000    0.000    0.000 rcsetup.py:46(ValidateInStrings)\n",
       "        1    0.000    0.000    0.000    0.000 ImageStat.py:29(Stat)\n",
       "        1    0.000    0.000    0.000    0.000 ImageStat.py:24(<module>)\n",
       "        1    0.000    0.000    0.000    0.000 __init__.py:687(get_data_path)\n",
       "        1    0.000    0.000    0.000    0.000 svhn.py:10(SVHN)\n",
       "        1    0.000    0.000    0.000    0.000 phototour.py:12(PhotoTour)\n",
       "        2    0.000    0.000    0.000    0.000 transforms.py:44(__init__)\n",
       "        1    0.000    0.000    0.000    0.000 transforms.py:954(Grayscale)\n",
       "        1    0.000    0.000    0.000    0.000 syspathcontext.py:48(__enter__)\n",
       "        2    0.000    0.000    0.000    0.000 pathlib.py:898(__truediv__)\n",
       "        1    0.000    0.000    0.000    0.000 argparse.py:1011(__init__)\n",
       "        1    0.000    0.000    0.000    0.000 argparse.py:1726(<listcomp>)\n",
       "        1    0.000    0.000    0.000    0.000 argparse.py:1725(_get_positional_actions)\n",
       "        2    0.000    0.000    0.000    0.000 configurable.py:426(initialized)\n",
       "        1    0.000    0.000    0.000    0.000 platform.py:1148(_sys_version)\n",
       "        1    0.000    0.000    0.000    0.000 six.py:824(metaclass)\n",
       "        1    0.000    0.000    0.000    0.000 traitlets.py:2335(__init__)\n",
       "        1    0.000    0.000    0.000    0.000 __init__.py:1236(_fixupChildren)\n",
       "        4    0.000    0.000    0.000    0.000 sre_parse.py:161(__delitem__)\n",
       "        1    0.000    0.000    0.000    0.000 sre_parse.py:885(addgroup)\n",
       "        1    0.000    0.000    0.000    0.000 sre_parse.py:963(expand_template)\n",
       "        1    0.000    0.000    0.000    0.000 re.py:330(filter)\n",
       "        4    0.000    0.000    0.000    0.000 genericpath.py:53(getmtime)\n",
       "        1    0.000    0.000    0.000    0.000 <frozen importlib._bootstrap_external>:845(_cache_bytecode)\n",
       "        2    0.000    0.000    0.000    0.000 codecs.py:185(__init__)\n",
       "        1    0.000    0.000    0.000    0.000 {built-in method _codecs.charmap_build}\n",
       "        1    0.000    0.000    0.000    0.000 {built-in method posix.uname}\n",
       "        4    0.000    0.000    0.000    0.000 {method 'title' of 'str' objects}\n",
       "        6    0.000    0.000    0.000    0.000 {method 'isalnum' of 'str' objects}\n",
       "        6    0.000    0.000    0.000    0.000 {method 'union' of 'set' objects}\n",
       "        4    0.000    0.000    0.000    0.000 type_checkers.py:98(__init__)\n",
       "        2    0.000    0.000    0.000    0.000 decoder.py:134(_SignedVarintDecoder)\n",
       "        1    0.000    0.000    0.000    0.000 encoder.py:387(_SignedVarintEncoder)\n",
       "        1    0.000    0.000    0.000    0.000 __init__.py:82(<module>)\n",
       "        3    0.000    0.000    0.000    0.000 __init__.py:49(metaclass)\n",
       "        1    0.000    0.000    0.000    0.000 olddict.py:33(olddict)\n",
       "        1    0.000    0.000    0.000    0.000 oldstr.py:37(oldstr)\n",
       "        1    0.000    0.000    0.000    0.000 literals.py:4(<module>)\n",
       "        1    0.000    0.000    0.000    0.000 pgen.py:10(ParserGenerator)\n",
       "        1    0.000    0.000    0.000    0.000 pytree.py:208(Node)\n",
       "        2    0.000    0.000    0.000    0.000 pytree.py:327(__init__)\n",
       "        1    0.000    0.000    0.000    0.000 __init__.py:457(hooks)\n",
       "        1    0.000    0.000    0.000    0.000 well_known_types.py:788(ListValue)\n",
       "        1    0.000    0.000    0.000    0.000 pytorch_graph.py:79(Graph_py)\n",
       "        1    0.000    0.000    0.000    0.000 message.py:35(<module>)\n",
       "        1    0.000    0.000    0.000    0.000 cpp_message.py:35(<module>)\n",
       "        1    0.000    0.000    0.000    0.000 descriptor_database.py:31(<module>)\n",
       "        1    0.000    0.000    0.000    0.000 containers.py:185(BaseContainer)\n",
       "        1    0.000    0.000    0.000    0.000 containers.py:230(RepeatedScalarFieldContainer)\n",
       "        1    0.000    0.000    0.000    0.000 containers.py:343(RepeatedCompositeFieldContainer)\n",
       "        1    0.000    0.000    0.000    0.000 markers.py:272(Marker)\n",
       "        1    0.000    0.000    0.000    0.000 pyparsing.py:3233(WordEnd)\n",
       "        1    0.000    0.000    0.000    0.000 pyparsing.py:3256(ParseExpression)\n",
       "        1    0.000    0.000    0.000    0.000 pyparsing.py:3591(Each)\n",
       "        2    0.000    0.000    0.000    0.000 pyparsing.py:4214(copy)\n",
       "        1    0.000    0.000    0.000    0.000 pyparsing.py:4141(Forward)\n",
       "        8    0.000    0.000    0.000    0.000 pyparsing.py:4783(<genexpr>)\n",
       "        1    0.000    0.000    0.000    0.000 _compat.py:28(__new__)\n",
       "        1    0.000    0.000    0.000    0.000 _compat.py:20(with_metaclass)\n",
       "        1    0.000    0.000    0.000    0.000 pyparsing.py:205(ParseBaseException)\n",
       "        1    0.000    0.000    0.000    0.000 appdirs.py:407(AppDirs)\n",
       "        1    0.000    0.000    0.000    0.000 version.py:72(LegacyVersion)\n",
       "        1    0.000    0.000    0.000    0.000 __init__.py:2973(Requirement)\n",
       "        1    0.000    0.000    0.000    0.000 plistlib.py:312(_PlistParser)\n",
       "        1    0.000    0.000    0.000    0.000 __init__.py:64(install)\n",
       "        1    0.000    0.000    0.000    0.000 __init__.py:4(VendorImporter)\n",
       "        1    0.000    0.000    0.000    0.000 event_file_writer.py:32(EventsWriter)\n",
       "        1    0.000    0.000    0.000    0.000 __init__.py:1123(ResourceManager)\n",
       "        4    0.000    0.000    0.000    0.000 __init__.py:1860(register_finder)\n",
       "        1    0.000    0.000    0.000    0.000 thops.py:1(<module>)\n",
       "        1    0.000    0.000    0.000    0.000 writer.py:40(SummaryToEventTransformer)\n",
       "        1    0.000    0.000    0.000    0.000 writer.py:144(FileWriter)\n",
       "        1    0.000    0.000    0.000    0.000 modules.py:110(Conv2d)\n",
       "        1    0.000    0.000    0.000    0.000 cnf_regularization.py:5(RegularizedODEfunc)\n",
       "        1    0.000    0.000    0.000    0.000 odefunc.py:94(ODEnet)\n",
       "        1    0.000    0.000    0.000    0.000 basic.py:214(GatedLinear)\n",
       "        1    0.000    0.000    0.000    0.000 basic.py:260(BlendLinear)\n",
       "        1    0.000    0.000    0.000    0.000 solvers.py:36(FixedGridODESolver)\n",
       "        3    0.000    0.000    0.000    0.000 _testutils.py:26(__init__)\n",
       "        1    0.000    0.000    0.000    0.000 geo.py:268(AitoffAxes)\n",
       "        1    0.000    0.000    0.000    0.000 geo.py:368(MollweideAxes)\n",
       "        1    0.000    0.000    0.000    0.000 geo.py:445(LambertTransform)\n",
       "        1    0.000    0.000    0.000    0.000 polar.py:19(PolarTransform)\n",
       "        3    0.000    0.000    0.000    0.000 scale.py:551(get_scale_names)\n",
       "        1    0.000    0.000    0.000    0.000 __init__.py:13(register)\n",
       "        1    0.000    0.000    0.000    0.000 trifinder.py:25(TrapezoidMapTriFinder)\n",
       "        1    0.000    0.000    0.000    0.000 triinterpolate.py:237(LinearTriInterpolator)\n",
       "        1    0.000    0.000    0.000    0.000 triinterpolate.py:1231(_Sparse_Matrix_coo)\n",
       "        1    0.000    0.000    0.000    0.000 trirefine.py:10(TriRefiner)\n",
       "        1    0.000    0.000    0.000    0.000 stackplot.py:8(<module>)\n",
       "        1    0.000    0.000    0.000    0.000 streamplot.py:229(StreamplotSet)\n",
       "        1    0.000    0.000    0.000    0.000 table.py:145(CustomCell)\n",
       "        1    0.000    0.000    0.000    0.000 mlab.py:2999(FormatInt)\n",
       "        1    0.000    0.000    0.000    0.000 csv.py:81(DictReader)\n",
       "        1    0.000    0.000    0.000    0.000 dates.py:951(DateLocator)\n",
       "        1    0.000    0.000    0.000    0.000 dates.py:1766(DateConverter)\n",
       "        1    0.000    0.000    0.000    0.000 rrule.py:93(rrulebase)\n",
       "        1    0.000    0.000    0.000    0.000 figure.py:60(AxesStack)\n",
       "        1    0.000    0.000    0.000    0.000 _subplots.py:11(SubplotBase)\n",
       "        1    0.000    0.000    0.000    0.000 legend_handler.py:440(__init__)\n",
       "        1    0.000    0.000    0.000    0.000 backend_tools.py:832(ToolZoom)\n",
       "        1    0.000    0.000    0.000    0.000 widgets.py:256(Slider)\n",
       "        1    0.000    0.000    0.000    0.000 widgets.py:1890(ToolHandles)\n",
       "        1    0.000    0.000    0.000    0.000 backend_bases.py:1251(Event)\n",
       "        1    0.000    0.000    0.000    0.000 backend_bases.py:3179(_Backend)\n",
       "        1    0.000    0.000    0.000    0.000 backend_tools.py:384(ToolQuit)\n",
       "        1    0.000    0.000    0.000    0.000 cnf.py:11(CNF)\n",
       "        1    0.000    0.000    0.000    0.000 offsetbox.py:554(DrawingArea)\n",
       "        1    0.000    0.000    0.000    0.000 offsetbox.py:1758(DraggableAnnotation)\n",
       "        1    0.000    0.000    0.000    0.000 image.py:901(NonUniformImage)\n",
       "        1    0.000    0.000    0.000    0.000 blocking_input.py:30(BlockingInput)\n",
       "        1    0.000    0.000    0.000    0.000 gridspec.py:30(GridSpecBase)\n",
       "        1    0.000    0.000    0.000    0.000 mathtext.py:746(UnicodeFonts)\n",
       "        1    0.000    0.000    0.000    0.000 mathtext.py:934(StixFonts)\n",
       "        1    0.000    0.000    0.000    0.000 mathtext.py:1705(Vlist)\n",
       "        1    0.000    0.000    0.000    0.000 patches.py:4332(ConnectionPatch)\n",
       "        1    0.000    0.000    0.000    0.000 textpath.py:32(__init__)\n",
       "        1    0.000    0.000    0.000    0.000 patches.py:1863(_Style)\n",
       "        1    0.000    0.000    0.000    0.000 patches.py:1274(YAArrow)\n",
       "        1    0.000    0.000    0.000    0.000 patches.py:1014(Wedge)\n",
       "        1    0.000    0.000    0.000    0.000 contour.py:1453(QuadContourSet)\n",
       "        1    0.000    0.000    0.000    0.000 ticker.py:371(FuncFormatter)\n",
       "        1    0.000    0.000    0.000    0.000 ticker.py:1283(PercentFormatter)\n",
       "        1    0.000    0.000    0.000    0.000 collections.py:1564(EllipseCollection)\n",
       "        1    0.000    0.000    0.000    0.000 collections.py:1713(TriMesh)\n",
       "        2    0.000    0.000    0.000    0.000 cm.py:77(<listcomp>)\n",
       "        1    0.000    0.000    0.000    0.000 cm.py:185(ScalarMappable)\n",
       "        1    0.000    0.000    0.000    0.000 transforms.py:2675(BboxTransformFrom)\n",
       "        1    0.000    0.000    0.000    0.000 collections.py:1026(RegularPolyCollection)\n",
       "        1    0.000    0.000    0.000    0.000 artist.py:1223(<listcomp>)\n",
       "        1    0.000    0.000    0.004    0.004 artist.py:1217(get_setters)\n",
       "        1    0.000    0.000    0.000    0.000 transforms.py:83(__init__)\n",
       "        1    0.000    0.000    0.000    0.000 transforms.py:55(TransformNode)\n",
       "        1    0.000    0.000    0.000    0.000 pyplot.py:1801(colormaps)\n",
       "        1    0.000    0.000    0.000    0.000 colorbar.py:275(_ColorbarLogLocator)\n",
       "        1    0.000    0.000    0.000    0.000 colors.py:427(Colormap)\n",
       "        1    0.000    0.000    0.000    0.000 colors.py:1068(SymLogNorm)\n",
       "        1    0.000    0.000    0.000    0.000 colors.py:94(<dictcomp>)\n",
       "        1    0.000    0.000    0.000    0.000 coco.py:7(CocoCaptions)\n",
       "        1    0.000    0.000    0.000    0.000 cifar.py:16(CIFAR10)\n",
       "        1    0.000    0.000    0.000    0.000 squeezenet.py:40(SqueezeNet)\n",
       "        1    0.000    0.000    0.000    0.000 sampler.py:79(SubsetRandomSampler)\n",
       "        1    0.000    0.000    0.000    0.000 synchronize.py:46(SemLock)\n",
       "        1    0.000    0.000    0.000    0.000 structures.py:90(__init__)\n",
       "        1    0.000    0.000    0.000    0.000 models.py:60(RequestEncodingMixin)\n",
       "        1    0.000    0.000    0.000    0.000 models.py:272(PreparedRequest)\n",
       "        1    0.000    0.000    0.000    0.000 sessions.py:340(Session)\n",
       "        1    0.000    0.000    0.000    0.000 adapters.py:84(HTTPAdapter)\n",
       "        1    0.000    0.000    0.000    0.000 socks.py:91(set_self_blocking)\n",
       "        1    0.000    0.000    0.000    0.000 cookies.py:485(BaseCookie)\n",
       "        1    0.000    0.000    0.000    0.000 zipfile.py:760(ZipExtFile)\n",
       "        1    0.000    0.000    0.000    0.000 algorithms.py:26(AES)\n",
       "        1    0.000    0.000    0.000    0.000 algorithms.py:91(CAST5)\n",
       "        1    0.000    0.000    0.000    0.000 x509.py:176(_RevokedCertificate)\n",
       "        1    0.000    0.000    0.000    0.000 rsa.py:329(_RSAPrivateKey)\n",
       "        1    0.000    0.000    0.000    0.000 dh.py:106(_DHPrivateKey)\n",
       "        1    0.000    0.000    0.000    0.000 dh.py:18(DHPrivateNumbers)\n",
       "        1    0.000    0.000    0.000    0.000 dh.py:49(DHPublicNumbers)\n",
       "        1    0.000    0.000    0.000    0.000 dh.py:80(DHParameterNumbers)\n",
       "        1    0.000    0.000    0.000    0.000 dh.py:142(DHPrivateKey)\n",
       "        1    0.000    0.000    0.000    0.000 dh.py:185(DHPublicKey)\n",
       "        1    0.000    0.000    0.000    0.000 dsa.py:108(_DSAPrivateKey)\n",
       "        1    0.000    0.000    0.000    0.000 ec.py:228(_EllipticCurvePublicKey)\n",
       "        1    0.000    0.000    0.000    0.000 ciphers.py:13(_CipherContext)\n",
       "        1    0.000    0.000    0.000    0.000 modes.py:14(Mode)\n",
       "        1    0.000    0.000    0.000    0.000 modes.py:85(CBC)\n",
       "        1    0.000    0.000    0.000    0.000 modes.py:197(GCM)\n",
       "        1    0.000    0.000    0.000    0.000 cmac.py:16(_CMACContext)\n",
       "       10    0.000    0.000    0.000    0.000 SSL.py:646(_requires_decorator)\n",
       "        1    0.000    0.000    0.000    0.000 version.py:7(<module>)\n",
       "        1    0.000    0.000    0.000    0.000 {built-in method _openssl.ENGINE_set_default_RAND}\n",
       "        1    0.000    0.000    0.000    0.000 serialization.py:183(PublicFormat)\n",
       "        1    0.000    0.000    0.000    0.000 general_name.py:115(DNSName)\n",
       "        1    0.000    0.000    0.000    0.000 general_name.py:317(OtherName)\n",
       "        1    0.000    0.000    0.000    0.000 hashes.py:60(Hash)\n",
       "        1    0.000    0.000    0.000    0.000 hashes.py:146(BLAKE2b)\n",
       "        6    0.000    0.000    0.000    0.000 binding.py:54(_openssl_assert)\n",
       "        3    0.000    0.000    0.000    0.000 binding.py:106(__init__)\n",
       "        1    0.000    0.000    0.000    0.000 {method 'new_allocator' of 'CompiledFFI' objects}\n",
       "        1    0.000    0.000    0.000    0.000 core.py:232(__init__)\n",
       "        1    0.000    0.000    0.000    0.000 core.py:821(Any)\n",
       "        1    0.000    0.000    0.000    0.000 _elliptic_curve.py:54(PrimeCurve)\n",
       "        1    0.000    0.000    0.000    0.000 algos.py:272(SignedDigestAlgorithm)\n",
       "        1    0.000    0.000    0.000    0.000 algos.py:561(EncryptionAlgorithmId)\n",
       "        1    0.000    0.000    0.000    0.000 extensions.py:72(Extensions)\n",
       "        1    0.000    0.000    0.000    0.000 extensions.py:744(UserNotice)\n",
       "        1    0.000    0.000    0.000    0.000 extensions.py:781(NoticeReference)\n",
       "        1    0.000    0.000    0.000    0.000 extensions.py:862(TLSFeature)\n",
       "        1    0.000    0.000    0.000    0.000 extensions.py:918(InhibitAnyPolicy)\n",
       "        1    0.000    0.000    0.000    0.000 extensions.py:1044(NameConstraints)\n",
       "        1    0.000    0.000    0.000    0.000 extensions.py:1126(Extension)\n",
       "        1    0.000    0.000    0.000    0.000 extensions.py:1373(PrecertificateSignedCertificateTimestamps)\n",
       "        1    0.000    0.000    0.000    0.000 extensions.py:1421(OCSPNonce)\n",
       "        1    0.000    0.000    0.000    0.000 keys.py:86(RSAPrivateKey)\n",
       "        1    0.000    0.000    0.000    0.000 keys.py:116(DSAPrivateKey)\n",
       "        1    0.000    0.000    0.000    0.000 keys.py:944(PublicKeyAlgorithm)\n",
       "        1    0.000    0.000    0.000    0.000 ec.py:313(EllipticCurvePublicNumbers)\n",
       "        1    0.000    0.000    0.000    0.000 _oid.py:10(ObjectIdentifier)\n",
       "        1    0.000    0.000    0.000    0.000 interfaces.py:12(CipherBackend)\n",
       "        1    0.000    0.000    0.000    0.000 interfaces.py:64(CMACBackend)\n",
       "        1    0.000    0.000    0.000    0.000 interfaces.py:79(PBKDF2HMACBackend)\n",
       "        1    0.000    0.000    0.000    0.000 interfaces.py:96(RSABackend)\n",
       "        1    0.000    0.000    0.000    0.000 interfaces.py:231(PEMSerializationBackend)\n",
       "        1    0.000    0.000    0.000    0.000 base.py:369(RevokedCertificate)\n",
       "        1    0.000    0.000    0.000    0.000 __init__.py:27(AsymmetricVerificationContext)\n",
       "        1    0.000    0.000    0.000    0.000 crypto.py:1696(X509StoreContext)\n",
       "        1    0.000    0.000    0.000    0.000 certificate_transparency.py:18(Version)\n",
       "        1    0.000    0.000    0.000    0.000 euckrprober.py:34(EUCKRProber)\n",
       "        1    0.000    0.000    0.000    0.000 sbcharsetprober.py:33(SingleByteCharSetProber)\n",
       "        1    0.000    0.000    0.000    0.000 langcyrillicmodel.py:31(<module>)\n",
       "        1    0.000    0.000    0.000    0.000 escprober.py:35(EscCharSetProber)\n",
       "        1    0.000    0.000    0.000    0.000 latin1prober.py:96(Latin1Prober)\n",
       "        1    0.000    0.000    0.000    0.000 utf8prober.py:35(UTF8Prober)\n",
       "        1    0.000    0.000    0.000    0.000 sjisprober.py:36(SJISProber)\n",
       "        1    0.000    0.000    0.000    0.000 mbcharsetprober.py:34(MultiByteCharSetProber)\n",
       "        1    0.000    0.000    0.000    0.000 chardistribution.py:40(CharDistributionAnalysis)\n",
       "        1    0.000    0.000    0.000    0.000 url.py:14(Url)\n",
       "        1    0.000    0.000    0.000    0.000 poolmanager.py:122(PoolManager)\n",
       "        1    0.000    0.000    0.000    0.000 compat.py:22(<module>)\n",
       "        1    0.000    0.000    0.000    0.000 six.py:117(__getattr__)\n",
       "        1    0.000    0.000    0.000    0.000 _appengine_environ.py:8(is_appengine)\n",
       "        1    0.000    0.000    0.000    0.000 _appengine_environ.py:3(<module>)\n",
       "        1    0.000    0.000    0.000    0.000 _ops.py:69(__init__)\n",
       "        1    0.000    0.000    0.000    0.000 relaxed_categorical.py:87(RelaxedOneHotCategorical)\n",
       "        2    0.000    0.000    0.000    0.000 constraints.py:143(__init__)\n",
       "        1    0.000    0.000    0.000    0.000 constraints.py:179(_GreaterThanEq)\n",
       "        1    0.000    0.000    0.000    0.000 dirichlet.py:24(_Dirichlet)\n",
       "        6    0.000    0.000    0.000    0.000 __init__.py:1279(_make_fail)\n",
       "        1    0.000    0.000    0.000    0.000 lr_scheduler.py:254(ReduceLROnPlateau)\n",
       "        3    0.000    0.000    0.000    0.000 __init__.py:8(__init__)\n",
       "        1    0.000    0.000    0.000    0.000 __init__.py:550(ignore_lib_warnings)\n",
       "        1    0.000    0.000    0.000    0.000 __init__.py:784(OrderedDictWrapper)\n",
       "        3    0.000    0.000    0.000    0.000 __init__.py:4(is_available)\n",
       "        3    0.000    0.000    0.000    0.000 rendezvous.py:13(register_rendezvous_handler)\n",
       "        1    0.000    0.000    0.000    0.000 pixelshuffle.py:6(PixelShuffle)\n",
       "        1    0.000    0.000    0.000    0.000 distance.py:7(PairwiseDistance)\n",
       "        1    0.000    0.000    0.000    0.000 _functions.py:78(Scatter)\n",
       "        1    0.000    0.000    0.000    0.000 instancenorm.py:134(InstanceNorm2d)\n",
       "        1    0.000    0.000    0.000    0.000 normalization.py:11(LocalResponseNorm)\n",
       "        1    0.000    0.000    0.000    0.000 padding.py:10(_ConstantPadNd)\n",
       "        1    0.000    0.000    0.000    0.000 rnn.py:10(PackedSequence)\n",
       "        1    0.000    0.000    0.000    0.000 loss.py:1112(TripletMarginLoss)\n",
       "        1    0.000    0.000    0.000    0.000 _VF.py:7(__init__)\n",
       "        1    0.000    0.000    0.000    0.000 activation.py:146(Hardtanh)\n",
       "        1    0.000    0.000    0.000    0.000 activation.py:269(Tanh)\n",
       "        1    0.000    0.000    0.000    0.000 sparse.py:13(EmbeddingBag)\n",
       "        1    0.000    0.000    0.000    0.000 linear.py:11(Linear)\n",
       "        1    0.000    0.000    0.000    0.000 profiler.py:129(profile)\n",
       "        4    0.000    0.000    0.000    0.000 profiler.py:337(attr_formatter)\n",
       "        1    0.000    0.000    0.000    0.000 profiler.py:497(EnforceUnique)\n",
       "        1    0.000    0.000    0.000    0.000 grad_mode.py:39(__call__)\n",
       "        4    0.000    0.000    0.000    0.000 function.py:273(_iter_filter)\n",
       "        1    0.000    0.000    0.000    0.000 function.py:331(NestedIOFunction)\n",
       "        1    0.000    0.000    0.000    0.000 streams.py:131(Event)\n",
       "        1    0.000    0.000    0.007    0.007 __init__.py:134(init)\n",
       "        1    0.000    0.000    0.000    0.000 tarfile.py:312(_LowLevelFile)\n",
       "        1    0.000    0.000    0.000    0.000 tarfile.py:612(_FileInFile)\n",
       "        1    0.000    0.000    0.000    0.000 tarfile.py:716(ExFileObject)\n",
       "        3    0.000    0.000    0.000    0.000 _six.py:59(metaclass)\n",
       "        2    0.000    0.000    0.000    0.000 {built-in method numpy.core.multiarray.set_string_function}\n",
       "        1    0.000    0.000    0.000    0.000 {method 'view' of 'numpy.generic' objects}\n",
       "        3    0.000    0.000    0.000    0.000 core.py:805(__init__)\n",
       "        6    0.000    0.000    0.000    0.000 core.py:845(__init__)\n",
       "        1    0.000    0.000    0.000    0.000 core.py:1315(_replace_dtype_fields)\n",
       "        1    0.000    0.000    0.000    0.000 core.py:1329(make_mask_descr)\n",
       "        1    0.000    0.000    0.000    0.000 core.py:2596(MaskedIterator)\n",
       "        4    0.000    0.000    0.000    0.000 core.py:3350(dtype)\n",
       "        1    0.000    0.000    0.000    0.000 info.py:86(<module>)\n",
       "        1    0.000    0.000    0.000    0.000 _import_tools.py:9(PackageLoader)\n",
       "        1    0.000    0.000    0.000    0.000 info.py:83(<module>)\n",
       "        1    0.000    0.000    0.000    0.000 _internal.py:216(_getintp_ctype)\n",
       "        7    0.000    0.000    0.000    0.000 _inspect.py:144(<lambda>)\n",
       "        1    0.000    0.000    0.000    0.000 _datasource.py:621(Repository)\n",
       "        1    0.000    0.000    0.000    0.000 npyio.py:115(NpzFile)\n",
       "        1    0.000    0.000    0.000    0.000 numeric.py:2902(_setdef)\n",
       "        1    0.000    0.000    0.000    0.000 runner.py:29(TextTestResult)\n",
       "        1    0.000    0.000    0.000    0.000 utils.py:997(SafeEval)\n",
       "        1    0.000    0.000    0.000    0.000 index_tricks.py:98(nd_grid)\n",
       "        2    0.000    0.000    0.000    0.000 getlimits.py:92(_str_epsneg)\n",
       "        1    0.000    0.000    0.000    0.000 case.py:44(_Outcome)\n",
       "        7    0.000    0.000    0.000    0.000 _common.py:9(__init__)\n",
       "        1    0.000    0.000    0.000    0.000 pyparsing.py:2398(__init__)\n",
       "        3    0.000    0.000    0.000    0.000 pyparsing.py:3132(<genexpr>)\n",
       "        1    0.000    0.000    0.000    0.000 pyparsing.py:3322(ParseExpression)\n",
       "        1    0.000    0.000    0.000    0.000 pyparsing.py:4003(_MultipleMatch)\n",
       "        1    0.000    0.000    0.000    0.000 pyparsing.py:4067(__str__)\n",
       "        6    0.000    0.000    0.000    0.000 pyparsing.py:4449(postParse)\n",
       "        1    0.000    0.000    0.000    0.000 pyparsing.py:4517(Suppress)\n",
       "        4    0.000    0.000    0.000    0.000 pyparsing.py:5833(__init__)\n",
       "        5    0.000    0.000    0.000    0.000 rcsetup.py:413(validate_aspect)\n",
       "        1    0.000    0.000    0.000    0.000 pyparsing.py:215(ParseBaseException)\n",
       "        3    0.000    0.000    0.000    0.000 pyparsing.py:2048(__call__)\n",
       "        1    0.000    0.000    0.001    0.001 version.py:267(LooseVersion)\n",
       "        1    0.000    0.000    0.000    0.000 __init__.py:615(__init__)\n",
       "        5    0.000    0.000    0.000    0.000 rcsetup.py:190(validate_dpi)\n",
       "        3    0.000    0.000    0.000    0.000 rcsetup.py:256(validate_qt4)\n",
       "        1    0.000    0.000    0.000    0.000 omniglot.py:9(Omniglot)\n",
       "        1    0.000    0.000    0.000    0.000 __init__.py:625(get_configdir)\n",
       "        1    0.000    0.000    0.000    0.000 __init__.py:1415(interactive)\n",
       "        1    0.000    0.000    0.000    0.000 transforms.py:149(Resize)\n",
       "        1    0.000    0.000    0.000    0.000 transforms.py:436(__init__)\n",
       "        1    0.000    0.000    0.000    0.000 transforms.py:455(RandomVerticalFlip)\n",
       "        1    0.000    0.000    0.000    0.000 context.py:232(get_context)\n",
       "        1    0.000    0.000    0.000    0.000 pathlib.py:1277(unlink)\n",
       "        2    0.000    0.000    0.000    0.000 configurable.py:381(instance)\n",
       "        1    0.000    0.000    0.000    0.000 six.py:829(__prepare__)\n",
       "        1    0.000    0.000    0.000    0.000 six.py:819(with_metaclass)\n",
       "        1    0.000    0.000    0.000    0.000 traitlets.py:526(get)\n",
       "        1    0.000    0.000    0.000    0.000 traitlets.py:2259(class_init)\n",
       "        1    0.000    0.000    0.000    0.000 subprocess.py:852(poll)\n",
       "        1    0.000    0.000    0.000    0.000 threading.py:357(notify_all)\n",
       "        2    0.000    0.000    0.000    0.000 subprocess.py:203(_cleanup)\n",
       "        1    0.000    0.000    0.000    0.000 subprocess.py:350(__init__)\n",
       "        1    0.000    0.000    0.000    0.000 copyreg.py:12(pickle)\n",
       "        1    0.000    0.000    0.000    0.000 warnings.py:85(_showwarnmsg)\n",
       "        1    0.000    0.000    0.000    0.000 warnings.py:106(_formatwarnmsg)\n",
       "        1    0.000    0.000    0.000    0.000 functools.py:196(<listcomp>)\n",
       "        5    0.000    0.000    0.000    0.000 _collections_abc.py:367(__subclasshook__)\n",
       "        1    0.000    0.000    0.000    0.000 _collections_abc.py:406(__subclasshook__)\n",
       "        1    0.000    0.000    0.000    0.000 <frozen importlib._bootstrap_external>:373(_calc_mode)\n",
       "        3    0.000    0.000    0.000    0.000 {method 'extend' of 'bytearray' objects}\n",
       "        1    0.000    0.000    0.000    0.000 {built-in method _codecs.register}\n",
       "        2    0.000    0.000    0.000    0.000 {built-in method posix.WIFSIGNALED}\n",
       "        1    0.000    0.000    0.000    0.000 {method 'index' of 'str' objects}\n",
       "        1    0.000    0.000    0.000    0.000 text_format.py:1022(<listcomp>)\n",
       "        2    0.000    0.000    0.000    0.000 encoder.py:542(_FloatingPointEncoder)\n",
       "        1    0.000    0.000    0.000    0.000 utils.py:272(DebugMode)\n",
       "        1    0.000    0.000    0.000    0.000 text_format.py:253(_Printer)\n",
       "        1    0.000    0.000    0.000    0.000 patcomp.py:38(PatternCompiler)\n",
       "        1    0.000    0.000    0.000    0.000 btm_matcher.py:17(BMNode)\n",
       "        1    0.000    0.000    0.000    0.000 fixer_util.py:22(RParen)\n",
       "        1    0.000    0.000    0.000    0.000 pytree.py:415(BasePattern)\n",
       "        1    0.000    0.000    0.000    0.000 pytree.py:606(WildcardPattern)\n",
       "        1    0.000    0.000    0.000    0.000 __init__.py:118(RTs)\n",
       "        1    0.000    0.000    0.000    0.000 __init__.py:241(Py2Fixer)\n",
       "        1    0.000    0.000    0.000    0.000 grammar.py:23(Grammar)\n",
       "        1    0.000    0.000    0.000    0.000 tokenize.py:49(any)\n",
       "        1    0.000    0.000    0.000    0.000 well_known_types.py:735(Struct)\n",
       "        3    0.000    0.000    0.000    0.000 tensor_shape_pb2.py:5(<lambda>)\n",
       "        3    0.000    0.000    0.000    0.000 graph_pb2.py:5(<lambda>)\n",
       "        1    0.000    0.000    0.000    0.000 symbol_database.py:65(SymbolDatabase)\n",
       "        1    0.000    0.000    0.000    0.000 descriptor_database.py:46(DescriptorDatabase)\n",
       "        1    0.000    0.000    0.000    0.000 well_known_types.py:68(Any)\n",
       "        1    0.000    0.000    0.000    0.000 well_known_types.py:98(Timestamp)\n",
       "        1    0.000    0.000    0.000    0.000 well_known_types.py:398(FieldMask)\n",
       "        1    0.000    0.000    0.000    0.000 descriptor.py:76(_Lock)\n",
       "        2    0.000    0.000    0.000    0.000 api_implementation.py:136(Type)\n",
       "        1    0.000    0.000    0.000    0.000 containers.py:434(ScalarMap)\n",
       "        1    0.000    0.000    0.000    0.000 descriptor.py:843(FileDescriptor)\n",
       "        1    0.000    0.000    0.000    0.000 descriptor.py:94(DescriptorBase)\n",
       "        1    0.000    0.000    0.000    0.000 enum_type_wrapper.py:36(<module>)\n",
       "        1    0.000    0.000    0.000    0.000 pyparsing.py:2439(Keyword)\n",
       "        1    0.000    0.000    0.000    0.000 pyparsing.py:2606(Word)\n",
       "        1    0.000    0.000    0.000    0.000 pyparsing.py:2765(Regex)\n",
       "        3    0.000    0.000    0.000    0.000 pyparsing.py:3064(<genexpr>)\n",
       "        1    0.000    0.000    0.000    0.000 pyparsing.py:3184(__init__)\n",
       "        1    0.000    0.000    0.000    0.000 pyparsing.py:3444(Or)\n",
       "        1    0.000    0.000    0.000    0.000 pyparsing.py:3715(ParseElementEnhance)\n",
       "        1    0.000    0.000    0.000    0.000 pyparsing.py:3962(Optional)\n",
       "        6    0.000    0.000    0.000    0.000 pyparsing.py:4296(postParse)\n",
       "        1    0.000    0.000    0.001    0.001 pyparsing.py:4904(makeHTMLTags)\n",
       "        4    0.000    0.000    0.000    0.000 pyparsing.py:315(__init__)\n",
       "        2    0.000    0.000    0.000    0.000 pyparsing.py:644(__getattr__)\n",
       "        2    0.000    0.000    0.000    0.000 six.py:320(Module_six_moves_urllib_parse)\n",
       "        2    0.000    0.000    0.000    0.000 six.py:430(Module_six_moves_urllib_response)\n",
       "        1    0.000    0.000    0.000    0.000 _structures.py:7(Infinity)\n",
       "        1    0.000    0.000    0.000    0.000 _structures.py:39(NegativeInfinity)\n",
       "        1    0.000    0.000    0.000    0.000 plistlib.py:79(_InternalDict)\n",
       "        1    0.000    0.000    0.000    0.000 plistlib.py:127(Plist)\n",
       "        1    0.000    0.000    0.000    0.000 plistlib.py:204(Data)\n",
       "        1    0.000    0.000    0.000    0.000 plistlib.py:454(_PlistWriter)\n",
       "        1    0.000    0.000    0.000    0.000 plistlib.py:595(_BinaryPlistParser)\n",
       "        2    0.000    0.000    0.000    0.000 six.py:86(_LazyDescr)\n",
       "        2    0.000    0.000    0.000    0.000 six.py:124(_LazyModule)\n",
       "        2    0.000    0.000    0.000    0.000 six.py:139(MovedAttribute)\n",
       "        2    0.000    0.000    0.000    0.000 six.py:173(__init__)\n",
       "        1    0.000    0.000    0.000    0.000 embedding.py:1(<module>)\n",
       "        1    0.000    0.000    0.000    0.000 __init__.py:175(get_supported_platform)\n",
       "        1    0.000    0.000    0.000    0.000 __init__.py:256(VersionConflict)\n",
       "        1    0.000    0.000    0.000    0.000 __init__.py:288(ContextualVersionConflict)\n",
       "        1    0.000    0.000    0.000    0.000 __init__.py:301(DistributionNotFound)\n",
       "        1    0.000    0.000    0.000    0.000 __init__.py:500(IMetadataProvider)\n",
       "        1    0.000    0.000    0.000    0.000 __init__.py:905(subscribe)\n",
       "        1    0.000    0.000    0.000    0.000 __init__.py:1525(_register)\n",
       "        1    0.000    0.000    0.000    0.000 __init__.py:1583(MemoizedZipManifests)\n",
       "        1    0.000    0.000    0.000    0.000 __init__.py:1778(FileMetadata)\n",
       "        1    0.000    0.000    0.000    0.000 __init__.py:1989(NoDists)\n",
       "        1    0.000    0.000    0.000    0.000 spectral_norm.py:11(SpectralNorm)\n",
       "        1    0.000    0.000    0.000    0.000 record_writer.py:56(S3RecordWriter)\n",
       "        1    0.000    0.000    0.000    0.000 torchvis.py:19(TorchVis)\n",
       "        1    0.000    0.000    0.000    0.000 modules.py:194(InvertibleConv1x1)\n",
       "        1    0.000    0.000    0.000    0.000 _util.py:138(DeprecatedImport)\n",
       "        1    0.000    0.000    0.000    0.000 squeeze.py:6(SqueezeLayer)\n",
       "        1    0.000    0.000    0.000    0.000 glow.py:6(BruteForceLayer)\n",
       "        1    0.000    0.000    0.000    0.000 norm_flows.py:7(PlanarFlow)\n",
       "        1    0.000    0.000    0.000    0.000 container_gate.py:4(SequentialFlow_Gate)\n",
       "        1    0.000    0.000    0.000    0.000 cnf_augment.py:11(CNF_augment)\n",
       "        1    0.000    0.000    0.000    0.000 modules.py:9(_ActNorm)\n",
       "        1    0.000    0.000    0.000    0.000 adams.py:61(VariableCoefficientAdamsBashforth)\n",
       "        1    0.000    0.000    0.000    0.000 adjoint.py:7(OdeintAdjointMethod)\n",
       "        1    0.000    0.000    0.000    0.000 fixed_adams.py:151(AdamsBashforthMoulton)\n",
       "        1    0.000    0.000    0.000    0.000 odefunc.py:63(Swish)\n",
       "        1    0.000    0.000    0.000    0.000 odefunc.py:73(Lambda)\n",
       "        1    0.000    0.000    0.000    0.000 odefunc.py:176(AutoencoderDiffEqNet)\n",
       "        1    0.000    0.000    0.000    0.000 odefunc.py:255(ODEfunc)\n",
       "        1    0.000    0.000    0.000    0.000 odefunc.py:316(AutoencoderODEfunc)\n",
       "        1    0.000    0.000    0.000    0.000 adjoint_sep.py:7(OdeintAdjointMethod)\n",
       "        1    0.000    0.000    0.000    0.000 wrappers.py:7(DiffEqWrapper)\n",
       "        1    0.000    0.000    0.000    0.000 resnet.py:9(ResNet)\n",
       "        1    0.000    0.000    0.000    0.000 _version.py:136(__lt__)\n",
       "        1    0.000    0.000    0.000    0.000 _version.py:17(NumpyVersion)\n",
       "        1    0.000    0.000    0.000    0.000 tsit5.py:66(Tsit5Solver)\n",
       "        1    0.000    0.000    0.000    0.000 dopri5.py:58(Dopri5Solver)\n",
       "        1    0.000    0.000    0.000    0.000 polar.py:207(_AxisWrapper)\n",
       "        1    0.000    0.000    0.000    0.000 polar.py:270(ThetaTick)\n",
       "        1    0.000    0.000    0.000    0.000 polar.py:373(ThetaAxis)\n",
       "        1    0.000    0.000    0.000    0.000 polar.py:418(RadialLocator)\n",
       "        1    0.000    0.000    0.000    0.000 geo.py:344(InvertedHammerTransform)\n",
       "        1    0.000    0.000    0.000    0.000 geo.py:413(InvertedMollweideTransform)\n",
       "        1    0.000    0.000    0.000    0.000 geo.py:488(InvertedLambertTransform)\n",
       "        1    0.000    0.000    0.000    0.000 polar.py:125(InvertedPolarTransform)\n",
       "        1    0.000    0.000    0.000    0.000 scale.py:12(ScaleBase)\n",
       "        1    0.000    0.000    0.000    0.000 scale.py:53(LinearScale)\n",
       "        1    0.000    0.000    0.000    0.000 scale.py:159(NaturalLogTransform)\n",
       "        1    0.000    0.000    0.000    0.000 scale.py:600(<listcomp>)\n",
       "        1    0.000    0.000    0.000    0.000 __init__.py:96(get_projection_names)\n",
       "        1    0.000    0.000    0.000    0.000 axis.py:527(YTick)\n",
       "        2    0.000    0.000    0.000    0.000 axis.py:663(__init__)\n",
       "        1    0.000    0.000    0.000    0.000 tricontour.py:8(TriContourSet)\n",
       "        1    0.000    0.000    0.000    0.000 triinterpolate.py:16(TriInterpolator)\n",
       "        1    0.000    0.000    0.000    0.000 triinterpolate.py:1012(_DOF_estimator)\n",
       "        1    0.000    0.000    0.000    0.000 trirefine.py:47(UniformTriRefiner)\n",
       "        1    0.000    0.000    0.000    0.000 csv.py:131(DictWriter)\n",
       "        1    0.000    0.000    0.000    0.000 csv.py:166(Sniffer)\n",
       "        1    0.000    0.000    0.000    0.000 streamplot.py:239(DomainMap)\n",
       "        1    0.000    0.000    0.000    0.000 streamplot.py:302(Grid)\n",
       "        1    0.000    0.000    0.000    0.000 mlab.py:1557(PCA)\n",
       "        1    0.000    0.000    0.000    0.000 mlab.py:2943(FormatObj)\n",
       "        1    0.000    0.000    0.000    0.000 csv.py:24(Dialect)\n",
       "        1    0.000    0.000    0.000    0.000 units.py:87(ConversionInterface)\n",
       "        1    0.000    0.000    0.000    0.000 units.py:136(__init__)\n",
       "        1    0.000    0.000    0.000    0.000 units.py:132(Registry)\n",
       "        1    0.000    0.000    0.000    0.000 dates.py:338(bytespdate2num)\n",
       "        1    0.000    0.000    0.000    0.000 dates.py:1031(RRuleLocator)\n",
       "        1    0.000    0.000    0.000    0.000 dates.py:1574(MicrosecondLocator)\n",
       "        1    0.000    0.000    0.000    0.000 rrule.py:1105(_iterinfo)\n",
       "        1    0.000    0.000    0.000    0.000 figure.py:169(SubplotParams)\n",
       "        2    0.000    0.000    0.000    0.000 legend_handler.py:262(__init__)\n",
       "        1    0.000    0.000    0.000    0.000 legend_handler.py:336(HandlerRegularPolyCollection)\n",
       "        1    0.000    0.000    0.000    0.000 legend_handler.py:436(HandlerErrorbar)\n",
       "        1    0.000    0.000    0.032    0.032 core.py:151(load_base_library)\n",
       "        1    0.000    0.000    0.000    0.000 core.py:164(update_user_library)\n",
       "        1    0.000    0.000    0.000    0.000 widgets.py:1669(SpanSelector)\n",
       "        1    0.000    0.000    0.000    0.000 widgets.py:2451(LassoSelector)\n",
       "        1    0.000    0.000    0.000    0.000 widgets.py:2538(PolygonSelector)\n",
       "        1    0.000    0.000    0.000    0.000 backend_bases.py:3011(ToolContainerBase)\n",
       "        1    0.000    0.000    0.000    0.000 backend_tools.py:26(Cursors)\n",
       "        1    0.000    0.000    0.000    0.000 backend_tools.py:147(ToolToggleBase)\n",
       "        1    0.000    0.000    0.000    0.000 backend_tools.py:309(ToolCursorPosition)\n",
       "        1    0.000    0.000    0.000    0.000 backend_tools.py:394(ToolQuitAll)\n",
       "        1    0.000    0.000    0.000    0.000 backend_tools.py:404(ToolEnableAllNavigation)\n",
       "        1    0.000    0.000    0.000    0.000 backend_tools.py:471(ToolGrid)\n",
       "        1    0.000    0.000    0.000    0.000 backend_tools.py:512(ToolFullScreen)\n",
       "        1    0.000    0.000    0.000    0.000 backend_tools.py:542(ToolYScale)\n",
       "        1    0.000    0.000    0.000    0.000 backend_tools.py:552(ToolXScale)\n",
       "        1    0.000    0.000    0.000    0.000 backend_tools.py:726(ToolHome)\n",
       "        1    0.000    0.000    0.000    0.000 backend_tools.py:744(ToolForward)\n",
       "        1    0.000    0.000    0.000    0.000 backend_tools.py:760(SaveFigureBase)\n",
       "        1    0.000    0.000    0.000    0.000 container.py:4(SequentialFlow)\n",
       "        1    0.000    0.000    0.000    0.000 offsetbox.py:686(TextArea)\n",
       "        1    0.000    0.000    0.000    0.000 offsetbox.py:1607(DraggableBase)\n",
       "        1    0.000    0.000    0.000    0.000 image.py:1023(PcolorImage)\n",
       "        1    0.000    0.000    0.000    0.000 gridspec.py:409(SubplotSpec)\n",
       "        1    0.000    0.000    0.000    0.000 dviread.py:490(DviFont)\n",
       "        1    0.000    0.000    0.000    0.000 dviread.py:934(Encoding)\n",
       "        1    0.000    0.000    0.000    0.000 mathtext.py:529(TruetypeFonts)\n",
       "        1    0.000    0.000    0.000    0.000 mathtext.py:1503(Accent)\n",
       "        1    0.000    0.000    0.000    0.000 mathtext.py:1849(GlueSpec)\n",
       "        1    0.000    0.000    0.000    0.000 mathtext.py:2037(Ship)\n",
       "        1    0.000    0.000    0.000    0.000 mathtext.py:2523(State)\n",
       "        1    0.000    0.000    0.016    0.016 mathtext.py:2738(<lambda>)\n",
       "        1    0.000    0.000    0.000    0.000 patches.py:2687(_Base)\n",
       "        1    0.000    0.000    0.000    0.000 patches.py:3141(_Base)\n",
       "        1    0.000    0.000    0.000    0.000 patches.py:2041(Circle)\n",
       "        1    0.000    0.000    0.000    0.000 patches.py:2228(Round4)\n",
       "        1    0.000    0.000    0.000    0.000 patches.py:2281(Sawtooth)\n",
       "        1    0.000    0.000    0.000    0.000 patches.py:1172(FancyArrow)\n",
       "        1    0.000    0.000    0.000    0.000 patches.py:1378(CirclePolygon)\n",
       "        1    0.000    0.000    0.000    0.000 patches.py:1490(Circle)\n",
       "        1    0.000    0.000    0.000    0.000 patches.py:880(PathPatch)\n",
       "        1    0.000    0.000    0.000    0.000 text.py:1766(_AnnotationBase)\n",
       "        1    0.000    0.000    0.000    0.000 text.py:1682(OffsetFrom)\n",
       "        1    0.000    0.000    0.000    0.000 font_manager.py:883(json_load)\n",
       "        1    0.000    0.000    0.000    0.000 ticker.py:205(_DummyAxis)\n",
       "        1    0.000    0.000    0.000    0.000 ticker.py:252(Formatter)\n",
       "        1    0.000    0.000    0.000    0.000 ticker.py:338(FixedFormatter)\n",
       "        1    0.000    0.000    0.000    0.000 ticker.py:808(LogFormatter)\n",
       "        1    0.000    0.000    0.000    0.000 ticker.py:1169(EngFormatter)\n",
       "        1    0.000    0.000    0.000    0.000 ticker.py:1399(Locator)\n",
       "        1    0.000    0.000    0.000    0.000 ticker.py:1669(Base)\n",
       "        1    0.000    0.000    0.000    0.000 ticker.py:2429(LogitLocator)\n",
       "        2    0.000    0.000    0.000    0.000 font_manager.py:247(<listcomp>)\n",
       "        1    0.000    0.000    0.000    0.000 lines.py:1348(VertexSelector)\n",
       "        1    0.000    0.000    0.000    0.000 contour.py:37(ClabelText)\n",
       "        1    0.000    0.000    0.000    0.000 collections.py:1544(CircleCollection)\n",
       "        3    0.000    0.000    0.000    0.000 _cm.py:96(get_color_function)\n",
       "        1    0.000    0.000    0.000    0.000 _cm.py:57(cubehelix)\n",
       "        1    0.000    0.000    0.000    0.000 transforms.py:2715(ScaledTranslation)\n",
       "        1    0.000    0.000    0.000    0.000 collections.py:837(_CollectionWithSizes)\n",
       "        1    0.000    0.000    0.000    0.000 collections.py:886(PathCollection)\n",
       "        1    0.000    0.000    0.000    0.000 collections.py:912(PolyCollection)\n",
       "        1    0.000    0.000    0.000    0.000 collections.py:979(BrokenBarHCollection)\n",
       "        1    0.000    0.000    0.000    0.000 collections.py:1105(LineCollection)\n",
       "        1    0.000    0.000    0.000    0.000 docstring.py:7(Substitution)\n",
       "        1    0.000    0.000    0.000    0.000 transforms.py:1019(TransformedBbox)\n",
       "        1    0.000    0.000    0.000    0.000 transforms.py:1725(__init__)\n",
       "        1    0.000    0.000    0.000    0.000 colorbar.py:1485(ColorbarPatch)\n",
       "        1    0.000    0.000    0.000    0.000 colors.py:306(ColorConverter)\n",
       "        1    0.000    0.000    0.000    0.000 colors.py:632(LinearSegmentedColormap)\n",
       "        1    0.000    0.000    0.000    0.000 colors.py:870(Normalize)\n",
       "        1    0.000    0.000    0.000    0.000 colors.py:997(LogNorm)\n",
       "        1    0.000    0.000    0.000    0.000 colors.py:1186(PowerNorm)\n",
       "        2    0.000    0.000    0.000    0.000 model.py:12(qualify)\n",
       "        1    0.000    0.000    0.000    0.000 model.py:160(__init__)\n",
       "        1    0.000    0.000    0.000    0.000 model.py:278(ConstPointerType)\n",
       "        1    0.000    0.000    0.000    0.000 model.py:297(__init__)\n",
       "        1    0.000    0.000    0.000    0.000 model.py:293(ArrayType)\n",
       "        1    0.000    0.000    0.000    0.000 folder.py:47(DatasetFolder)\n",
       "        1    0.000    0.000    0.000    0.000 dataloader.py:300(_DataLoaderIter)\n",
       "        1    0.000    0.000    0.000    0.000 Image.py:479(_E)\n",
       "        1    0.000    0.000    0.000    0.000 ImageMode.py:17(<module>)\n",
       "        1    0.000    0.000    0.000    0.000 resnet.py:25(BasicBlock)\n",
       "        1    0.000    0.000    0.000    0.000 inception.py:33(Inception3)\n",
       "        1    0.000    0.000    0.000    0.000 sampler.py:30(__init__)\n",
       "        1    0.000    0.000    0.000    0.000 distributed.py:7(DistributedSampler)\n",
       "        1    0.000    0.000    0.000    0.000 dataset.py:46(ConcatDataset)\n",
       "        1    0.000    0.000    0.000    0.000 _tqdm.py:86(TqdmDefaultWriteLock)\n",
       "        1    0.000    0.000    0.000    0.000 _tqdm_pandas.py:1(<module>)\n",
       "        1    0.000    0.000    0.000    0.000 structures.py:13(CaseInsensitiveDict)\n",
       "        1    0.000    0.000    0.000    0.000 hooks.py:13(<module>)\n",
       "        1    0.000    0.000    0.000    0.000 socks.py:59(SOCKSConnection)\n",
       "        1    0.000    0.000    0.000    0.000 socks.py:267(_BaseSocket)\n",
       "        1    0.000    0.000    0.000    0.000 _tqdm.py:93(__init__)\n",
       "        1    0.000    0.000    0.000    0.000 cookiejar.py:1755(FileCookieJar)\n",
       "        1    0.000    0.000    0.000    0.000 zipfile.py:318(ZipInfo)\n",
       "        1    0.000    0.000    0.000    0.000 zipfile.py:534(_ZipDecrypter)\n",
       "        1    0.000    0.000    0.000    0.000 zipfile.py:618(LZMADecompressor)\n",
       "        1    0.000    0.000    0.000    0.000 core.py:9(<module>)\n",
       "        1    0.000    0.000    0.000    0.000 cookiejar.py:732(Cookie)\n",
       "        1    0.000    0.000    0.000    0.000 x25519.py:14(X25519PublicKey)\n",
       "        1    0.000    0.000    0.000    0.000 algorithms.py:42(Camellia)\n",
       "        1    0.000    0.000    0.000    0.000 algorithms.py:57(TripleDES)\n",
       "        1    0.000    0.000    0.000    0.000 algorithms.py:106(ARC4)\n",
       "        1    0.000    0.000    0.000    0.000 algorithms.py:119(IDEA)\n",
       "        1    0.000    0.000    0.000    0.000 algorithms.py:148(ChaCha20)\n",
       "        1    0.000    0.000    0.000    0.000 __init__.py:12(KeyDerivationFunction)\n",
       "        1    0.000    0.000    0.000    0.000 hashes.py:13(_HashContext)\n",
       "        1    0.000    0.000    0.000    0.000 hmac.py:15(_HMACContext)\n",
       "        1    0.000    0.000    0.000    0.000 dsa.py:197(_DSAPublicKey)\n",
       "        1    0.000    0.000    0.000    0.000 base.py:20(CipherAlgorithm)\n",
       "        1    0.000    0.000    0.000    0.000 base.py:67(AEADCipherContext)\n",
       "        1    0.000    0.000    0.000    0.000 base.py:141(_CipherContext)\n",
       "        1    0.000    0.000    0.000    0.000 base.py:164(_AEADCipherContext)\n",
       "        1    0.000    0.000    0.000    0.000 modes.py:30(ModeWithInitializationVector)\n",
       "        1    0.000    0.000    0.000    0.000 modes.py:39(ModeWithTweak)\n",
       "        1    0.000    0.000    0.000    0.000 modes.py:48(ModeWithNonce)\n",
       "        1    0.000    0.000    0.000    0.000 modes.py:57(ModeWithAuthenticationTag)\n",
       "        1    0.000    0.000    0.000    0.000 modes.py:100(XTS)\n",
       "        1    0.000    0.000    0.000    0.000 modes.py:131(OFB)\n",
       "        1    0.000    0.000    0.000    0.000 modes.py:146(CFB)\n",
       "        1    0.000    0.000    0.000    0.000 modes.py:161(CFB8)\n",
       "        1    0.000    0.000    0.000    0.000 modes.py:176(CTR)\n",
       "        3    0.000    0.000    0.000    0.000 SSL.py:636(_make_requires)\n",
       "        1    0.000    0.000    0.000    0.000 serialization.py:189(ParameterFormat)\n",
       "        1    0.000    0.000    0.000    0.000 general_name.py:41(GeneralName)\n",
       "        1    0.000    0.000    0.000    0.000 general_name.py:160(UniformResourceIdentifier)\n",
       "        1    0.000    0.000    0.000    0.000 general_name.py:227(DirectoryName)\n",
       "        1    0.000    0.000    0.000    0.000 general_name.py:279(IPAddress)\n",
       "        1    0.000    0.000    0.000    0.000 intranges.py:6(<module>)\n",
       "        1    0.000    0.000    0.000    0.000 name.py:102(RelativeDistinguishedName)\n",
       "        1    0.000    0.000    0.000    0.000 name.py:142(Name)\n",
       "        1    0.000    0.000    0.000    0.000 oid.py:42(OCSPExtensionOID)\n",
       "        1    0.000    0.000    0.000    0.000 oid.py:46(CRLEntryExtensionOID)\n",
       "        1    0.000    0.000    0.000    0.000 oid.py:135(CertificatePoliciesOID)\n",
       "        2    0.000    0.000    0.000    0.000 _util.py:57(make_assert)\n",
       "        1    0.000    0.000    0.000    0.000 {method 'gc' of 'CompiledFFI' objects}\n",
       "        1    0.000    0.000    0.000    0.000 core.py:622(ValueMap)\n",
       "        1    0.000    0.000    0.000    0.000 core.py:1776(Boolean)\n",
       "        1    0.000    0.000    0.000    0.000 core.py:2198(OctetBitString)\n",
       "        1    0.000    0.000    0.000    0.000 core.py:2501(ParsableOctetString)\n",
       "        1    0.000    0.000    0.000    0.000 _teletex_codec.py:29(TeletexIncrementalDecoder)\n",
       "        1    0.000    0.000    0.000    0.000 algos.py:107(HmacAlgorithmId)\n",
       "        1    0.000    0.000    0.000    0.000 algos.py:180(RSASSAPSSParams)\n",
       "        1    0.000    0.000    0.000    0.000 algos.py:372(Pbkdf2Params)\n",
       "        1    0.000    0.000    0.000    0.000 algos.py:475(RSAESOAEPParams)\n",
       "        1    0.000    0.000    0.000    0.000 algos.py:510(DSASignature)\n",
       "        1    0.000    0.000    0.000    0.000 extensions.py:378(DeltaCRLIndicator)\n",
       "        1    0.000    0.000    0.000    0.000 extensions.py:406(CRLDistributionPoints)\n",
       "        1    0.000    0.000    0.000    0.000 extensions.py:694(PolicyInformation)\n",
       "        1    0.000    0.000    0.000    0.000 extensions.py:1165(GeneralNames)\n",
       "        1    0.000    0.000    0.000    0.000 extensions.py:1245(IssuerAlternativeName)\n",
       "        1    0.000    0.000    0.000    0.000 extensions.py:1280(CertificateIssuer)\n",
       "        1    0.000    0.000    0.000    0.000 keys.py:74(RSAPrivateKeyVersion)\n",
       "        1    0.000    0.000    0.000    0.000 keys.py:136(_ECPoint)\n",
       "        1    0.000    0.000    0.000    0.000 keys.py:252(Pentanomial)\n",
       "        1    0.000    0.000    0.000    0.000 keys.py:313(SpecifiedECDomain)\n",
       "        1    0.000    0.000    0.000    0.000 keys.py:384(ECDomainParameters)\n",
       "        1    0.000    0.000    0.000    0.000 keys.py:473(PrivateKeyAlgorithm)\n",
       "        1    0.000    0.000    0.000    0.000 keys.py:886(EncryptedPrivateKeyInfo)\n",
       "        1    0.000    0.000    0.000    0.000 rsa.py:54(RSAPrivateKeyWithSerialization)\n",
       "        1    0.000    0.000    0.000    0.000 rsa.py:338(RSAPublicNumbers)\n",
       "        1    0.000    0.000    0.000    0.000 interfaces.py:33(HashBackend)\n",
       "        1    0.000    0.000    0.000    0.000 interfaces.py:389(ScryptBackend)\n",
       "        1    0.000    0.000    0.000    0.000 base.py:431(CertificateBuilder)\n",
       "        1    0.000    0.000    0.000    0.000 base.py:693(RevokedCertificateBuilder)\n",
       "        1    0.000    0.000    0.000    0.000 utils.py:122(_ModuleWithDeprecations)\n",
       "        1    0.000    0.000    0.000    0.000 dsa.py:32(DSAPrivateKey)\n",
       "        1    0.000    0.000    0.000    0.000 dsa.py:65(DSAPrivateKeyWithSerialization)\n",
       "        1    0.000    0.000    0.000    0.000 dsa.py:189(DSAPublicNumbers)\n",
       "        1    0.000    0.000    0.000    0.000 ec.py:24(EllipticCurve)\n",
       "        1    0.000    0.000    0.000    0.000 ec.py:88(EllipticCurvePrivateKeyWithSerialization)\n",
       "        1    0.000    0.000    0.000    0.000 ec.py:288(ECDSA)\n",
       "        2    0.000    0.000    0.000    0.000 crypto.py:205(__init__)\n",
       "        1    0.000    0.000    0.000    0.000 crypto.py:1573(X509Store)\n",
       "        1    0.000    0.000    0.000    0.000 crypto.py:2336(PKCS7)\n",
       "        1    0.000    0.000    0.000    0.000 eucjpprober.py:36(EUCJPProber)\n",
       "        1    0.000    0.000    0.000    0.000 gb2312prober.py:33(GB2312Prober)\n",
       "        1    0.000    0.000    0.000    0.000 cp949prober.py:34(CP949Prober)\n",
       "        1    0.000    0.000    0.000    0.000 euctwprober.py:33(EUCTWProber)\n",
       "        1    0.000    0.000    0.000    0.000 langgreekmodel.py:35(<module>)\n",
       "        1    0.000    0.000    0.000    0.000 langbulgarianmodel.py:38(<module>)\n",
       "        1    0.000    0.000    0.000    0.000 langhebrewmodel.py:38(<module>)\n",
       "        1    0.000    0.000    0.000    0.000 version.py:6(<module>)\n",
       "        1    0.000    0.000    0.000    0.000 langturkishmodel.py:37(<module>)\n",
       "        1    0.000    0.000    0.000    0.000 charsetgroupprober.py:32(CharSetGroupProber)\n",
       "        1    0.000    0.000    0.000    0.000 enums.py:17(LanguageFilter)\n",
       "        1    0.000    0.000    0.000    0.000 enums.py:50(SequenceLikelihood)\n",
       "        1    0.000    0.000    0.000    0.000 codingstatemachine.py:33(CodingStateMachine)\n",
       "        1    0.000    0.000    0.000    0.000 gb2312freq.py:42(<module>)\n",
       "        1    0.000    0.000    0.000    0.000 big5freq.py:43(<module>)\n",
       "        1    0.000    0.000    0.000    0.000 jisfreq.py:44(<module>)\n",
       "        1    0.000    0.000    0.000    0.000 jpcntx.py:116(JapaneseContextAnalysis)\n",
       "        1    0.000    0.000    0.000    0.000 jpcntx.py:183(SJISContextAnalysis)\n",
       "        1    0.000    0.000    0.000    0.000 _collections.py:28(RecentlyUsedContainer)\n",
       "        1    0.000    0.000    0.000    0.000 request.py:10(RequestMethods)\n",
       "        1    0.000    0.000    0.000    0.000 fields.py:50(RequestField)\n",
       "        1    0.000    0.000    0.000    0.000 poolmanager.py:362(ProxyManager)\n",
       "        1    0.000    0.000    0.000    0.000 connection.py:223(HTTPSConnection)\n",
       "        1    0.000    0.000    0.000    0.000 connection.py:263(VerifiedHTTPSConnection)\n",
       "        1    0.000    0.000    0.000    0.000 _appengine_environ.py:23(is_prod_appengine)\n",
       "        1    0.000    0.000    0.000    0.000 _appengine_environ.py:29(is_prod_appengine_mvms)\n",
       "        1    0.000    0.000    0.000    0.000 alexnet.py:13(AlexNet)\n",
       "        1    0.000    0.000    0.000    0.000 connectionpool.py:55(ConnectionPool)\n",
       "        1    0.000    0.000    0.000    0.000 connectionpool.py:736(HTTPSConnectionPool)\n",
       "        2    0.000    0.000    0.000    0.000 __init__.py:6(__init__)\n",
       "        1    0.000    0.000    0.000    0.000 transforms.py:379(AffineTransform)\n",
       "        1    0.000    0.000    0.000    0.000 kl.py:77(_Match)\n",
       "        1    0.000    0.000    0.000    0.000 constraints.py:183(__init__)\n",
       "        1    0.000    0.000    0.000    0.000 exp_family.py:5(ExponentialFamily)\n",
       "        1    0.000    0.000    0.000    0.000 chi2.py:6(Chi2)\n",
       "        2    0.000    0.000    0.000    0.000 constraint_registry.py:83(__init__)\n",
       "        1    0.000    0.000    0.000    0.000 __init__.py:960(ScriptModule)\n",
       "        1    0.000    0.000    0.000    0.000 sgd.py:5(SGD)\n",
       "        1    0.000    0.000    0.000    0.000 rmsprop.py:5(RMSprop)\n",
       "        1    0.000    0.000    0.000    0.000 lr_scheduler.py:10(_LRScheduler)\n",
       "        1    0.000    0.000    0.000    0.000 __init__.py:7(Warning)\n",
       "        1    0.000    0.000    0.000    0.000 __init__.py:817(OrderedModuleDict)\n",
       "        1    0.000    0.000    0.000    0.000 __init__.py:868(OrderedBufferDict)\n",
       "        2    0.000    0.000    0.000    0.000 distributed_cpu.py:10(DistributedDataParallelCPU)\n",
       "        1    0.000    0.000    0.000    0.000 __init__.py:142(reduce_op)\n",
       "        1    0.000    0.000    0.000    0.000 weight_norm.py:8(WeightNorm)\n",
       "        1    0.000    0.000    0.000    0.000 spectral_norm.py:9(SpectralNorm)\n",
       "        1    0.000    0.000    0.000    0.000 upsampling.py:9(Upsample)\n",
       "        1    0.000    0.000    0.000    0.000 fold.py:6(Fold)\n",
       "        1    0.000    0.000    0.000    0.000 adaptive.py:15(AdaptiveLogSoftmaxWithLoss)\n",
       "        1    0.000    0.000    0.000    0.000 _functions.py:9(Broadcast)\n",
       "        1    0.000    0.000    0.000    0.000 batchnorm.py:98(BatchNorm1d)\n",
       "        1    0.000    0.000    0.000    0.000 batchnorm.py:172(BatchNorm2d)\n",
       "        1    0.000    0.000    0.000    0.000 instancenorm.py:210(InstanceNorm3d)\n",
       "        1    0.000    0.000    0.000    0.000 normalization.py:75(LayerNorm)\n",
       "        1    0.000    0.000    0.000    0.000 normalization.py:165(GroupNorm)\n",
       "        1    0.000    0.000    0.000    0.000 dropout.py:6(_DropoutNd)\n",
       "        1    0.000    0.000    0.000    0.000 dropout.py:61(Dropout2d)\n",
       "        1    0.000    0.000    0.000    0.000 dropout.py:193(FeatureAlphaDropout)\n",
       "        1    0.000    0.000    0.000    0.000 padding.py:166(_ReflectionPadNd)\n",
       "        1    0.000    0.000    0.000    0.000 padding.py:270(_ReplicationPadNd)\n",
       "        1    0.000    0.000    0.000    0.000 sparse.py:169(EmbeddingBag)\n",
       "        1    0.000    0.000    0.000    0.000 activation.py:818(Softmax)\n",
       "        1    0.000    0.000    0.000    0.000 activation.py:897(LogSoftmax)\n",
       "        1    0.000    0.000    0.000    0.000 loss.py:27(L1Loss)\n",
       "        1    0.000    0.000    0.000    0.000 loss.py:96(NLLLoss)\n",
       "        1    0.000    0.000    0.000    0.000 loss.py:223(PoissonNLLLoss)\n",
       "        1    0.000    0.000    0.000    0.000 loss.py:289(KLDivLoss)\n",
       "        1    0.000    0.000    0.000    0.000 loss.py:438(BCELoss)\n",
       "        1    0.000    0.000    0.000    0.000 loss.py:598(HingeEmbeddingLoss)\n",
       "        1    0.000    0.000    0.000    0.000 loss.py:658(MultiLabelMarginLoss)\n",
       "        1    0.000    0.000    0.000    0.000 loss.py:713(SmoothL1Loss)\n",
       "        1    0.000    0.000    0.000    0.000 loss.py:773(SoftMarginLoss)\n",
       "        1    0.000    0.000    0.000    0.000 loss.py:815(CrossEntropyLoss)\n",
       "        1    0.000    0.000    0.000    0.000 loss.py:954(CosineEmbeddingLoss)\n",
       "        1    0.000    0.000    0.000    0.000 loss.py:1188(CTCLoss)\n",
       "        1    0.000    0.000    0.000    0.000 container.py:22(Sequential)\n",
       "        1    0.000    0.000    0.000    0.000 container.py:96(ModuleList)\n",
       "        1    0.000    0.000    0.000    0.000 container.py:318(ParameterList)\n",
       "        1    0.000    0.000    0.000    0.000 pooling.py:9(_MaxPoolNd)\n",
       "        1    0.000    0.000    0.000    0.000 pooling.py:29(MaxPool1d)\n",
       "        1    0.000    0.000    0.000    0.000 pooling.py:151(MaxPool3d)\n",
       "        1    0.000    0.000    0.000    0.000 pooling.py:502(AvgPool2d)\n",
       "        1    0.000    0.000    0.000    0.000 pooling.py:568(AvgPool3d)\n",
       "        1    0.000    0.000    0.000    0.000 pooling.py:647(FractionalMaxPool2d)\n",
       "        1    0.000    0.000    0.000    0.000 pooling.py:723(LPPool1d)\n",
       "        1    0.000    0.000    0.000    0.000 pooling.py:766(LPPool2d)\n",
       "        1    0.000    0.000    0.000    0.000 pooling.py:899(AdaptiveMaxPool3d)\n",
       "        1    0.000    0.000    0.000    0.000 pooling.py:948(AdaptiveAvgPool1d)\n",
       "        1    0.000    0.000    0.000    0.000 pooling.py:1005(AdaptiveAvgPool3d)\n",
       "        3    0.000    0.000    0.000    0.000 __init__.py:444(__init__)\n",
       "        1    0.000    0.000    0.000    0.000 __init__.py:460(__init__)\n",
       "        1    0.000    0.000    0.000    0.000 __init__.py:464(__getattr__)\n",
       "        1    0.000    0.000    0.000    0.000 conv.py:12(_ConvNd)\n",
       "        1    0.000    0.000    0.000    0.000 conv.py:69(Conv1d)\n",
       "        1    0.000    0.000    0.000    0.000 conv.py:190(Conv2d)\n",
       "        1    0.000    0.000    0.000    0.000 conv.py:323(Conv3d)\n",
       "        1    0.000    0.000    0.000    0.000 conv.py:451(_ConvTransposeMixin)\n",
       "        1    0.000    0.000    0.000    0.000 conv.py:509(ConvTranspose1d)\n",
       "        1    0.000    0.000    0.000    0.000 conv.py:617(ConvTranspose2d)\n",
       "        1    0.000    0.000    0.000    0.000 activation.py:10(Threshold)\n",
       "        1    0.000    0.000    0.000    0.000 activation.py:425(GLU)\n",
       "        1    0.000    0.000    0.000    0.000 activation.py:663(PReLU)\n",
       "        1    0.000    0.000    0.000    0.000 activation.py:728(Softsign)\n",
       "        1    0.000    0.000    0.000    0.000 profiler.py:24(EventList)\n",
       "        1    0.000    0.000    0.000    0.000 profiler.py:377(FunctionEvent)\n",
       "        1    0.000    0.000    0.000    0.000 normalization.py:8(CrossMapLRN2d)\n",
       "        1    0.000    0.000    0.000    0.000 grad_mode.py:5(no_grad)\n",
       "        1    0.000    0.000    0.000    0.000 function.py:10(_ContextMethodMixin)\n",
       "        1    0.000    0.000    0.000    0.000 function.py:108(Function)\n",
       "        1    0.000    0.000    0.000    0.000 backend.py:2(<module>)\n",
       "        1    0.000    0.000    0.000    0.000 __init__.py:18(Backend)\n",
       "        1    0.000    0.000    0.000    0.000 __init__.py:43(THNNCudaBackendStateMixin)\n",
       "        1    0.000    0.000    0.000    0.000 utils.py:23(THNNBackendBase)\n",
       "        1    0.000    0.000    0.000    0.000 random.py:86(<lambda>)\n",
       "        1    0.000    0.000    0.000    0.000 __init__.py:211(device)\n",
       "        1    0.000    0.000    0.000    0.000 tarfile.py:336(_Stream)\n",
       "        1    0.000    0.000    0.000    0.000 version.py:1(<module>)\n",
       "        1    0.000    0.000    0.000    0.000 core.py:8048(_convert2ma)\n",
       "        1    0.000    0.000    0.000    0.000 extras.py:1443(MAxisConcatenator)\n",
       "        1    0.000    0.000    0.000    0.000 extras.py:1489(__init__)\n",
       "        3    0.000    0.000    0.000    0.000 core.py:1362(getmask)\n",
       "        1    0.000    0.000    0.000    0.000 core.py:2378(_MaskedPrintOption)\n",
       "        2    0.000    0.000    0.000    0.000 core.py:3366(shape)\n",
       "        4    0.000    0.000    0.000    0.000 core.py:6260(__has_singleton)\n",
       "        1    0.000    0.000    0.000    0.000 core.py:6284(__array_finalize__)\n",
       "        1    0.000    0.000    0.000    0.000 version.py:5(<module>)\n",
       "        1    0.000    0.000    0.000    0.000 _datasource.py:162(__init__)\n",
       "        1    0.000    0.000    0.000    0.000 _datasource.py:138(_FileOpeners)\n",
       "        1    0.000    0.000    0.000    0.000 _iotools.py:170(LineSplitter)\n",
       "        1    0.000    0.000    0.000    0.000 arrayterator.py:20(Arrayterator)\n",
       "        1    0.000    0.000    0.000    0.000 _version.py:18(NumpyVersion)\n",
       "        1    0.000    0.000    0.000    0.000 _distributor_init.py:28(__exit__)\n",
       "        1    0.000    0.000    0.000    0.000 _distributor_init.py:13(RTLD_for_MKL)\n",
       "        1    0.000    0.000    0.000    0.000 index_tricks.py:231(AxisConcatenator)\n",
       "        1    0.000    0.000    0.000    0.000 index_tricks.py:446(__init__)\n",
       "        1    0.000    0.000    0.000    0.000 index_tricks.py:476(__init__)\n",
       "        1    0.000    0.000    0.000    0.000 arrayprint.py:1202(DatetimeFormat)\n",
       "        1    0.000    0.000    0.000    0.000 arrayprint.py:1249(StructuredVoidFormat)\n",
       "        2    0.000    0.000    0.000    0.000 arrayprint.py:1506(set_string_function)\n",
       "        1    0.000    0.000    0.000    0.000 case.py:137(_AssertRaisesBaseContext)\n",
       "        1    0.000    0.000    0.000    0.000 case.py:184(_AssertRaisesContext)\n",
       "        1    0.000    0.000    0.000    0.000 case.py:221(_AssertWarnsContext)\n",
       "        1    0.000    0.000    0.000    0.000 case.py:278(_CapturingHandler)\n",
       "        1    0.000    0.000    0.000    0.000 case.py:297(_AssertLogsContext)\n",
       "        6    0.000    0.000    0.000    0.000 case.py:420(addTypeEqualityFunc)\n",
       "        1    0.000    0.000    0.000    0.000 case.py:1396(_SubTest)\n",
       "        1    0.000    0.000    0.000    0.000 suite.py:92(TestSuite)\n",
       "        1    0.000    0.000    0.000    0.000 loader.py:76(__init__)\n",
       "        1    0.000    0.000    0.000    0.000 runner.py:13(_WritelnDecorator)\n",
       "        1    0.000    0.000    0.000    0.000 records.py:217(record)\n",
       "        2    0.000    0.000    0.000    0.000 getlimits.py:88(_str_eps)\n",
       "        1    0.000    0.000    0.000    0.000 getlimits.py:455(iinfo)\n",
       "        9    0.000    0.000    0.000    0.000 _globals.py:73(__repr__)\n",
       "        1    0.000    0.000    0.000    0.000 _globals.py:55(_NoValueType)\n",
       "        1    0.000    0.000    0.000    0.000 legend.py:50(DraggableLegend)\n",
       "        1    0.000    0.000    0.000    0.000 pyparsing.py:2904(QuotedString)\n",
       "        1    0.000    0.000    0.000    0.000 pyparsing.py:3196(LineStart)\n",
       "        1    0.000    0.000    0.000    0.000 pyparsing.py:3250(__init__)\n",
       "        1    0.000    0.000    0.000    0.000 pyparsing.py:3781(ParseElementEnhance)\n",
       "        1    0.000    0.000    0.000    0.000 pyparsing.py:4387(Combine)\n",
       "        1    0.000    0.000    0.000    0.000 pyparsing.py:4488(__init__)\n",
       "        1    0.000    0.000    0.003    0.003 pyparsing.py:5057(makeHTMLTags)\n",
       "        4    0.000    0.000    0.000    0.000 pyparsing.py:467(__len__)\n",
       "        2    0.000    0.000    0.000    0.000 pyparsing.py:654(__getattr__)\n",
       "        2    0.000    0.000    0.000    0.000 pyparsing.py:676(<lambda>)\n",
       "        1    0.000    0.000    0.000    0.000 __init__.py:88(CallbackRegistry)\n",
       "        1    0.000    0.000    0.000    0.000 __init__.py:867(Grouper)\n",
       "        1    0.000    0.000    0.000    0.000 __init__.py:1769(Locked)\n",
       "        1    0.000    0.000    0.000    0.000 gzip.py:69(_PaddedFile)\n",
       "        1    0.000    0.000    0.000    0.000 gzip.py:377(_GzipReader)\n",
       "        5    0.000    0.000    0.000    0.000 rcsetup.py:209(validate_int_or_None)\n",
       "        1    0.000    0.000    0.000    0.000 semeion.py:17(SEMEION)\n",
       "        1    0.000    0.000    0.000    0.000 __init__.py:292(<dictcomp>)\n",
       "        1    0.000    0.000    0.000    0.000 __init__.py:308(__init__)\n",
       "        1    0.000    0.000    0.000    0.000 __init__.py:645(get_cachedir)\n",
       "        1    0.000    0.000    0.000    0.000 __init__.py:932(copy)\n",
       "        1    0.000    0.000    0.000    0.000 __init__.py:1264(rc_context)\n",
       "        1    0.000    0.000    0.000    0.000 mnist.py:12(MNIST)\n",
       "        1    0.000    0.000    0.000    0.000 mnist.py:179(EMNIST)\n",
       "        1    0.000    0.000    0.000    0.000 transforms.py:312(RandomApply)\n",
       "        1    0.000    0.000    0.000    0.000 transforms.py:360(RandomCrop)\n",
       "        1    0.000    0.000    0.000    0.000 transforms.py:481(RandomResizedCrop)\n",
       "        1    0.000    0.000    0.000    0.000 ImageFilter.py:306(Color3DLUT)\n",
       "        2    0.000    0.000    0.000    0.000 pathlib.py:89(join_parsed_parts)\n",
       "        1    0.000    0.000    0.000    0.000 random.py:87(__init__)\n",
       "        1    0.000    0.000    0.001    0.001 argparse.py:1733(parse_args)\n",
       "        1    0.000    0.000    0.000    0.000 platform.py:1255(python_implementation)\n",
       "        2    0.000    0.000    0.000    0.000 inspect.py:2589(__init__)\n",
       "        1    0.000    0.000    0.000    0.000 traitlets.py:545(__get__)\n",
       "        2    0.000    0.000    0.000    0.000 __init__.py:1982(createLock)\n",
       "        2    0.000    0.000    0.000    0.000 __init__.py:823(setLevel)\n",
       "        1    0.000    0.000    0.003    0.003 __init__.py:1056(_open)\n",
       "        3    0.000    0.000    0.000    0.000 subprocess.py:1366(_internal_poll)\n",
       "        4    0.000    0.000    0.000    0.000 enum.py:868(<lambda>)\n",
       "        2    0.000    0.000    0.000    0.000 subprocess.py:743(__enter__)\n",
       "        1    0.000    0.000    0.000    0.000 copyreg.py:22(constructor)\n",
       "        2    0.000    0.000    0.000    0.000 _collections_abc.py:271(__subclasshook__)\n",
       "        1    0.000    0.000    0.000    0.000 <frozen importlib._bootstrap_external>:735(source_to_code)\n",
       "        3    0.000    0.000    0.000    0.000 {built-in method sys.getdlopenflags}\n",
       "        1    0.000    0.000    0.000    0.000 {built-in method sys.getfilesystemencoding}\n",
       "        2    0.000    0.000    0.000    0.000 {built-in method posix.WIFEXITED}\n",
       "        2    0.000    0.000    0.000    0.000 {built-in method posix.WEXITSTATUS}\n",
       "        1    0.000    0.000    0.000    0.000 {method 'isdisjoint' of 'set' objects}\n",
       "        2    0.000    0.000    0.000    0.000 {method 'to_bytes' of 'int' objects}\n",
       "        1    0.000    0.000    0.000    0.000 {built-in method torch._C._cuda_getCompiledVersion}\n",
       "        1    0.000    0.000    0.000    0.000 {built-in method torch._C._jit_init}\n",
       "        1    0.000    0.000    0.000    0.000 type_checkers.py:92(TypeChecker)\n",
       "        1    0.000    0.000    0.000    0.000 type_checkers.py:113(TypeCheckerWithDefault)\n",
       "        1    0.000    0.000    0.000    0.000 type_checkers.py:146(EnumValueChecker)\n",
       "        1    0.000    0.000    0.000    0.000 type_checkers.py:166(UnicodeValueChecker)\n",
       "        1    0.000    0.000    0.000    0.000 type_checkers.py:194(Int32ValueChecker)\n",
       "        1    0.000    0.000    0.000    0.000 type_checkers.py:202(Uint32ValueChecker)\n",
       "        1    0.000    0.000    0.000    0.000 type_checkers.py:208(Int64ValueChecker)\n",
       "        1    0.000    0.000    0.000    0.000 type_checkers.py:214(Uint64ValueChecker)\n",
       "        1    0.000    0.000    0.000    0.000 decoder.py:288(_FloatDecoder)\n",
       "        1    0.000    0.000    0.000    0.000 decoder.py:822(_FieldSkipper)\n",
       "        1    0.000    0.000    0.000    0.000 encoder.py:155(_ModifiedSizer)\n",
       "        3    0.000    0.000    0.000    0.000 encoder.py:184(_FixedSizer)\n",
       "        1    0.000    0.000    0.000    0.000 encoder.py:372(_VarintEncoder)\n",
       "        2    0.000    0.000    0.000    0.000 encoder.py:429(_SimpleEncoder)\n",
       "        1    0.000    0.000    0.000    0.000 wire_format.py:80(PackTag)\n",
       "        1    0.000    0.000    0.000    0.000 basestring.py:24(BaseBaseString)\n",
       "        1    0.000    0.000    0.000    0.000 basestring.py:33(basestring)\n",
       "        1    0.000    0.000    0.000    0.000 olddict.py:28(BaseOldDict)\n",
       "        1    0.000    0.000    0.000    0.000 oldstr.py:14(BaseOldStr)\n",
       "        1    0.000    0.000    0.000    0.000 text_format.py:100(TextWriter)\n",
       "        1    0.000    0.000    0.000    0.000 btm_matcher.py:26(BottomMatcher)\n",
       "        1    0.000    0.000    0.000    0.000 pgen.py:337(NFAState)\n",
       "        1    0.000    0.000    0.000    0.000 pgen.py:347(DFAState)\n",
       "        2    0.000    0.000    0.000    0.000 pytree.py:50(__new__)\n",
       "        1    0.000    0.000    0.000    0.000 pytree.py:501(LeafPattern)\n",
       "        1    0.000    0.000    0.000    0.000 pytree.py:545(NodePattern)\n",
       "        1    0.000    0.000    0.000    0.000 pytree.py:794(NegatedPattern)\n",
       "        1    0.000    0.000    0.000    0.000 pygram.py:20(Symbols)\n",
       "        1    0.000    0.000    0.000    0.000 patcomp.py:24(PatternSyntaxError)\n",
       "        1    0.000    0.000    0.000    0.000 __init__.py:477(suspend_hooks)\n",
       "        1    0.000    0.000    0.000    0.000 refactor.py:43(_EveryNode)\n",
       "        1    0.000    0.000    0.000    0.000 refactor.py:167(FixerError)\n",
       "        1    0.000    0.000    0.000    0.000 refactor.py:692(MultiprocessRefactoringTool)\n",
       "        1    0.000    0.000    0.000    0.000 driver.py:30(Driver)\n",
       "        1    0.000    0.000    0.000    0.000 tokenize.py:197(Untokenizer)\n",
       "        1    0.000    0.000    0.000    0.000 pgen.py:7(PgenGrammar)\n",
       "        1    0.000    0.000    0.000    0.000 odenvp_conditional_rl.py:193(StackedCNFLayers)\n",
       "        2    0.000    0.000    0.000    0.000 types_pb2.py:5(<lambda>)\n",
       "        1    0.000    0.000    0.000    0.000 pytorch_graph.py:19(Node_base)\n",
       "        1    0.000    0.000    0.000    0.000 pytorch_graph.py:38(Node_py)\n",
       "        1    0.000    0.000    0.000    0.000 pytorch_graph.py:63(Node_py_IO)\n",
       "        1    0.000    0.000    0.000    0.000 pytorch_graph.py:72(Node_py_OP)\n",
       "        1    0.000    0.000    0.000    0.000 plugin_pr_curve_pb2.py:5(<lambda>)\n",
       "        1    0.000    0.000    0.000    0.000 cpp_message.py:42(GeneratedProtocolMessageType)\n",
       "        1    0.000    0.000    0.000    0.000 descriptor_pool.py:1056(Default)\n",
       "        1    0.000    0.000    0.000    0.000 message_factory.py:47(MessageFactory)\n",
       "        1    0.000    0.000    0.000    0.000 well_known_types.py:60(Error)\n",
       "        1    0.000    0.000    0.000    0.000 well_known_types.py:64(ParseError)\n",
       "        1    0.000    0.000    0.000    0.000 well_known_types.py:541(_FieldMaskTree)\n",
       "        1    0.000    0.000    0.000    0.000 descriptor.py:55(TypeTransformationError)\n",
       "        1    0.000    0.000    0.000    0.000 descriptor.py:64(DescriptorMetaclass)\n",
       "        1    0.000    0.000    0.000    0.000 descriptor.py:607(EnumDescriptor)\n",
       "        1    0.000    0.000    0.000    0.000 descriptor.py:672(EnumValueDescriptor)\n",
       "        1    0.000    0.000    0.000    0.000 descriptor.py:712(OneofDescriptor)\n",
       "        1    0.000    0.000    0.000    0.000 descriptor.py:748(ServiceDescriptor)\n",
       "        1    0.000    0.000    0.000    0.000 descriptor.py:803(MethodDescriptor)\n",
       "        1    0.000    0.000    0.000    0.000 descriptor.py:165(_NestedDescriptorBase)\n",
       "        1    0.000    0.000    0.000    0.000 markers.py:31(UndefinedComparison)\n",
       "        1    0.000    0.000    0.000    0.000 markers.py:25(InvalidMarker)\n",
       "        1    0.000    0.000    0.000    0.000 markers.py:37(UndefinedEnvironmentName)\n",
       "        1    0.000    0.000    0.000    0.000 markers.py:44(Node)\n",
       "        1    0.000    0.000    0.000    0.000 markers.py:59(Variable)\n",
       "        1    0.000    0.000    0.000    0.000 markers.py:65(Value)\n",
       "        1    0.000    0.000    0.000    0.000 pyparsing.py:2383(NoMatch)\n",
       "        1    0.000    0.000    0.000    0.000 pyparsing.py:2398(Literal)\n",
       "        1    0.000    0.000    0.000    0.000 pyparsing.py:2504(CaselessLiteral)\n",
       "        1    0.000    0.000    0.000    0.000 pyparsing.py:2527(CaselessKeyword)\n",
       "        1    0.000    0.000    0.000    0.000 pyparsing.py:2545(CloseMatch)\n",
       "        1    0.000    0.000    0.000    0.000 pyparsing.py:2838(QuotedString)\n",
       "        1    0.000    0.000    0.000    0.000 pyparsing.py:2975(CharsNotIn)\n",
       "        3    0.000    0.000    0.000    0.000 pyparsing.py:3066(<genexpr>)\n",
       "        1    0.000    0.000    0.000    0.000 pyparsing.py:3046(White)\n",
       "        1    0.000    0.000    0.000    0.000 pyparsing.py:3104(GoToColumn)\n",
       "        1    0.000    0.000    0.000    0.000 pyparsing.py:3151(__init__)\n",
       "        1    0.000    0.000    0.000    0.000 pyparsing.py:3130(LineStart)\n",
       "        1    0.000    0.000    0.000    0.000 pyparsing.py:3180(StringStart)\n",
       "        1    0.000    0.000    0.000    0.000 pyparsing.py:3199(__init__)\n",
       "        1    0.000    0.000    0.000    0.000 pyparsing.py:3195(StringEnd)\n",
       "        1    0.000    0.000    0.000    0.000 pyparsing.py:3213(WordStart)\n",
       "        1    0.000    0.000    0.000    0.000 pyparsing.py:3384(_ErrorStop)\n",
       "        1    0.000    0.000    0.000    0.000 pyparsing.py:3368(And)\n",
       "        2    0.000    0.000    0.000    0.000 pyparsing.py:3461(<genexpr>)\n",
       "        1    0.000    0.000    0.000    0.000 pyparsing.py:3523(MatchFirst)\n",
       "        1    0.000    0.000    0.000    0.000 pyparsing.py:3792(FollowedBy)\n",
       "        1    0.000    0.000    0.000    0.000 pyparsing.py:3818(NotAny)\n",
       "        1    0.000    0.000    0.000    0.000 pyparsing.py:3888(OneOrMore)\n",
       "        1    0.000    0.000    0.000    0.000 pyparsing.py:3923(ZeroOrMore)\n",
       "        1    0.000    0.000    0.000    0.000 pyparsing.py:4026(SkipTo)\n",
       "        1    0.000    0.000    0.000    0.000 pyparsing.py:4160(__init__)\n",
       "        1    0.000    0.000    0.000    0.000 pyparsing.py:4222(_ForwardNoRecurse)\n",
       "        1    0.000    0.000    0.000    0.000 pyparsing.py:4234(Combine)\n",
       "        1    0.000    0.000    0.000    0.000 pyparsing.py:4278(Group)\n",
       "        1    0.000    0.000    0.000    0.000 pyparsing.py:4335(__init__)\n",
       "        1    0.000    0.000    0.000    0.000 pyparsing.py:4299(Dict)\n",
       "        1    0.000    0.000    0.000    0.000 pyparsing.py:4364(Suppress)\n",
       "        1    0.000    0.000    0.000    0.000 pyparsing.py:4390(OnlyOnce)\n",
       "        1    0.000    0.000    0.000    0.000 _compat.py:27(metaclass)\n",
       "        1    0.000    0.000    0.000    0.000 requirements.py:18(InvalidRequirement)\n",
       "        1    0.000    0.000    0.000    0.000 requirements.py:75(Requirement)\n",
       "        1    0.000    0.000    0.000    0.000 pyparsing.py:287(ParseSyntaxException)\n",
       "        1    0.000    0.000    0.000    0.000 pyparsing.py:314(_ParseResultsWithOffset)\n",
       "        2    0.000    0.000    0.000    0.000 pyparsing.py:460(__iter__)\n",
       "        2    0.000    0.000    0.000    0.000 pyparsing.py:666(<lambda>)\n",
       "        1    0.000    0.000    0.000    0.000 pyparsing.py:1455(_UnboundedCache)\n",
       "        1    0.000    0.000    0.000    0.000 pyparsing.py:1478(_FifoCache)\n",
       "        2    0.000    0.000    0.000    0.000 six.py:229(_MovedItems)\n",
       "        2    0.000    0.000    0.000    0.000 six.py:360(Module_six_moves_urllib_error)\n",
       "        2    0.000    0.000    0.000    0.000 six.py:380(Module_six_moves_urllib_request)\n",
       "        1    0.000    0.000    0.000    0.000 version.py:42(_BaseVersion)\n",
       "        1    0.000    0.000    0.000    0.000 specifiers.py:15(InvalidSpecifier)\n",
       "        1    0.000    0.000    0.000    0.000 __init__.py:2857(EggInfoDistribution)\n",
       "        1    0.000    0.000    0.000    0.000 __init__.py:2946(RequirementParseError)\n",
       "        1    0.000    0.000    0.000    0.000 __init__.py:3165(PkgResourcesDeprecationWarning)\n",
       "        1    0.000    0.000    0.000    0.000 plistlib.py:109(Dict)\n",
       "        1    0.000    0.000    0.000    0.000 plistlib.py:416(_DumbXMLWriter)\n",
       "        1    0.000    0.000    0.000    0.000 plistlib.py:587(InvalidFileException)\n",
       "        1    0.000    0.000    0.000    0.000 event_file_writer.py:156(_EventLoggerThread)\n",
       "        1    0.000    0.000    0.000    0.000 __init__.py:118(PEP440Warning)\n",
       "        1    0.000    0.000    0.000    0.000 __init__.py:249(ResolutionError)\n",
       "        1    0.000    0.000    0.000    0.000 __init__.py:328(UnknownExtra)\n",
       "        1    0.000    0.000    0.000    0.000 __init__.py:523(IResourceProvider)\n",
       "        1    0.000    0.000    0.000    0.000 __init__.py:937(_ReqExtras)\n",
       "        1    0.000    0.000    0.000    0.000 __init__.py:1107(ExtractionError)\n",
       "        1    0.000    0.000    0.000    0.000 __init__.py:1127(__init__)\n",
       "        1    0.000    0.000    0.000    0.000 __init__.py:1549(__init__)\n",
       "        1    0.000    0.000    0.000    0.000 __init__.py:1536(EmptyProvider)\n",
       "        1    0.000    0.000    0.000    0.000 __init__.py:1556(ZipManifests)\n",
       "        2    0.000    0.000    0.000    0.000 __init__.py:1907(find_nothing)\n",
       "        4    0.000    0.000    0.000    0.000 __init__.py:2076(register_namespace_handler)\n",
       "        1    0.000    0.000    0.000    0.000 train_misc.py:141(<dictcomp>)\n",
       "        1    0.000    0.000    0.000    0.000 record_writer.py:29(register_writer_factory)\n",
       "        1    0.000    0.000    0.000    0.000 record_writer.py:89(S3RecordWriterFactory)\n",
       "        1    0.000    0.000    0.000    0.000 record_writer.py:104(RecordWriter)\n",
       "        4    0.000    0.000    0.000    0.000 crc32c.py:100(crc_finalize)\n",
       "        1    0.000    0.000    0.000    0.000 _matfuncs_sqrtm.py:22(SqrtmError)\n",
       "        1    0.000    0.000    0.000    0.000 basic.py:1044(LstsqLapackError)\n",
       "        1    0.000    0.000    0.000    0.000 modules.py:291(Split2d)\n",
       "        1    0.000    0.000    0.000    0.000 modules.py:347(SqueezeLayer)\n",
       "        1    0.000    0.000    0.000    0.000 modules.py:361(MultiLinearZeros)\n",
       "        1    0.000    0.000    0.000    0.000 _ccallback.py:9(CData)\n",
       "        1    0.000    0.000    0.000    0.000 normalization.py:128(MovingBatchNorm1d)\n",
       "        1    0.000    0.000    0.000    0.000 coupling.py:7(CouplingLayer)\n",
       "        1    0.000    0.000    0.000    0.000 cnf_gate.py:20(CNF_Gate)\n",
       "        1    0.000    0.000    0.000    0.000 gate.py:6(FeedforwardGateI)\n",
       "        1    0.000    0.000    0.000    0.000 gate.py:46(FeedforwardGateII)\n",
       "        1    0.000    0.000    0.000    0.000 gate.py:89(FeedforwardGateIII)\n",
       "        1    0.000    0.000    0.000    0.000 odefunc_rl.py:63(Swish)\n",
       "        1    0.000    0.000    0.000    0.000 odefunc_rl.py:94(ODEnet)\n",
       "        1    0.000    0.000    0.000    0.000 odefunc_rl.py:176(AutoencoderDiffEqNet)\n",
       "        1    0.000    0.000    0.000    0.000 odefunc_rl.py:255(ODEfunc_rl)\n",
       "        1    0.000    0.000    0.000    0.000 odefunc_rl.py:321(AutoencoderODEfunc)\n",
       "        1    0.000    0.000    0.000    0.000 utils.py:40(AverageMeter)\n",
       "        1    0.000    0.000    0.000    0.000 utils.py:59(RunningAverageMeter)\n",
       "        1    0.000    0.000    0.000    0.000 multiscale_parallel.py:126(ParallelCNFLayers)\n",
       "        1    0.000    0.000    0.000    0.000 modules.py:83(ActNorm2d)\n",
       "        1    0.000    0.000    0.000    0.000 modules.py:95(LinearZeros)\n",
       "        1    0.000    0.000    0.000    0.000 modules.py:170(Permute2d)\n",
       "        1    0.000    0.000    0.000    0.000 fixed_adams.py:208(AdamsBashforth)\n",
       "        1    0.000    0.000    0.000    0.000 adams.py:18(_VCABMState)\n",
       "        1    0.000    0.000    0.000    0.000 container.py:7(SequentialDiffEq)\n",
       "        1    0.000    0.000    0.000    0.000 container.py:21(MixtureODELayer)\n",
       "        1    0.000    0.000    0.000    0.000 wrappers.py:29(ReshapeDiffEq)\n",
       "        1    0.000    0.000    0.000    0.000 resnet.py:38(BasicBlock)\n",
       "        1    0.000    0.000    0.000    0.000 basic.py:56(ConcatLinear_v2)\n",
       "        1    0.000    0.000    0.000    0.000 basic.py:66(SquashLinear)\n",
       "        1    0.000    0.000    0.000    0.000 basic.py:76(ConcatSquashLinear)\n",
       "        1    0.000    0.000    0.000    0.000 basic.py:88(HyperConv2d)\n",
       "        1    0.000    0.000    0.000    0.000 basic.py:124(IgnoreConv2d)\n",
       "        1    0.000    0.000    0.000    0.000 basic.py:137(SquashConv2d)\n",
       "        1    0.000    0.000    0.000    0.000 basic.py:151(ConcatConv2d)\n",
       "        1    0.000    0.000    0.000    0.000 basic.py:180(ConcatSquashConv2d)\n",
       "        1    0.000    0.000    0.000    0.000 basic.py:196(ConcatCoordConv2d)\n",
       "        1    0.000    0.000    0.000    0.000 basic.py:226(GatedConv)\n",
       "        1    0.000    0.000    0.000    0.000 basic.py:272(BlendConv2d)\n",
       "        1    0.000    0.000    0.000    0.000 _version.py:78(_compare_version)\n",
       "        1    0.000    0.000    0.000    0.000 fixed_grid.py:15(Midpoint)\n",
       "        1    0.000    0.000    0.000    0.000 fixed_grid.py:26(RK4)\n",
       "        1    0.000    0.000    0.000    0.000 polar.py:462(_ThetaShift)\n",
       "        1    0.000    0.000    0.000    0.000 polar.py:705(RadialAxis)\n",
       "        1    0.000    0.000    0.000    0.000 backend_agg.py:592(_BackendAgg)\n",
       "        1    0.000    0.000    0.000    0.000 _testutils.py:16(FPUModeChangeWarning)\n",
       "        1    0.000    0.000    0.000    0.000 config.py:36(InlineBackendConfig)\n",
       "        1    0.000    0.000    0.000    0.000 version.py:3(<module>)\n",
       "        1    0.000    0.000    0.000    0.000 _testutils.py:21(PytestTester)\n",
       "        1    0.000    0.000    0.000    0.000 geo.py:322(HammerTransform)\n",
       "        1    0.000    0.000    0.000    0.000 geo.py:371(MollweideTransform)\n",
       "        1    0.000    0.000    0.000    0.000 scale.py:85(LogTransformBase)\n",
       "        1    0.000    0.000    0.000    0.000 scale.py:118(InvertedLogTransformBase)\n",
       "        1    0.000    0.000    0.000    0.000 scale.py:152(InvertedLog2Transform)\n",
       "        1    0.000    0.000    0.000    0.000 scale.py:173(LogTransform)\n",
       "        1    0.000    0.000    0.000    0.000 scale.py:182(InvertedLogTransform)\n",
       "        1    0.000    0.000    0.000    0.000 scale.py:298(SymmetricalLogTransform)\n",
       "        1    0.000    0.000    0.000    0.000 scale.py:331(InvertedSymmetricalLogTransform)\n",
       "        1    0.000    0.000    0.000    0.000 scale.py:363(SymmetricalLogScale)\n",
       "        1    0.000    0.000    0.000    0.000 scale.py:478(LogisticTransform)\n",
       "        1    0.000    0.000    0.000    0.000 scale.py:499(LogitScale)\n",
       "        1    0.000    0.000    0.000    0.000 __init__.py:27(get_projection_names)\n",
       "        1    0.000    0.000    0.000    0.000 geo.py:17(ThetaFormatter)\n",
       "        1    0.000    0.000    0.000    0.000 axis.py:650(Ticker)\n",
       "        1    0.000    0.000    0.000    0.000 trifinder.py:7(TriFinder)\n",
       "        1    0.000    0.000    0.000    0.000 triinterpolate.py:1089(_DOF_estimator_geom)\n",
       "        1    0.000    0.000    0.000    0.000 triinterpolate.py:1173(_DOF_estimator_min_E)\n",
       "        1    0.000    0.000    0.000    0.000 streamplot.py:349(StreamMask)\n",
       "        1    0.000    0.000    0.000    0.000 streamplot.py:400(InvalidIndexError)\n",
       "        1    0.000    0.000    0.000    0.000 streamplot.py:404(TerminateTrajectory)\n",
       "        1    0.000    0.000    0.000    0.000 mlab.py:2962(FormatString)\n",
       "        1    0.000    0.000    0.000    0.000 mlab.py:2969(FormatFormatStr)\n",
       "        1    0.000    0.000    0.000    0.000 mlab.py:2980(FormatFloat)\n",
       "        1    0.000    0.000    0.000    0.000 mlab.py:3012(FormatBool)\n",
       "        1    0.000    0.000    0.000    0.000 mlab.py:3021(FormatPercent)\n",
       "        1    0.000    0.000    0.000    0.000 mlab.py:3027(FormatThousands)\n",
       "        1    0.000    0.000    0.000    0.000 mlab.py:3039(FormatDate)\n",
       "        1    0.000    0.000    0.000    0.000 mlab.py:3057(FormatDatetime)\n",
       "        1    0.000    0.000    0.000    0.000 mlab.py:3601(GaussianKDE)\n",
       "        1    0.000    0.000    0.000    0.000 csv.py:55(excel)\n",
       "        1    0.000    0.000    0.000    0.000 csv.py:65(excel_tab)\n",
       "        1    0.000    0.000    0.000    0.000 csv.py:70(unix_dialect)\n",
       "        1    0.000    0.000    0.000    0.000 category.py:23(StrCategoryConverter)\n",
       "        1    0.000    0.000    0.000    0.000 category.py:109(StrCategoryLocator)\n",
       "        1    0.000    0.000    0.000    0.000 category.py:127(StrCategoryFormatter)\n",
       "        1    0.000    0.000    0.000    0.000 category.py:156(UnitData)\n",
       "        1    0.000    0.000    0.000    0.000 units.py:52(AxisInfo)\n",
       "        1    0.000    0.000    0.000    0.000 dates.py:322(strpdate2num)\n",
       "        1    0.000    0.000    0.000    0.000 dates.py:723(IndexDateFormatter)\n",
       "        1    0.000    0.000    0.000    0.000 dates.py:747(AutoDateFormatter)\n",
       "        1    0.000    0.000    0.000    0.000 dates.py:846(rrulewrapper)\n",
       "        1    0.000    0.000    0.000    0.000 dates.py:1370(YearLocator)\n",
       "        1    0.000    0.000    0.000    0.000 dates.py:1459(WeekdayLocator)\n",
       "        1    0.000    0.000    0.000    0.000 dates.py:1487(DayLocator)\n",
       "        1    0.000    0.000    0.000    0.000 dates.py:1534(MinuteLocator)\n",
       "        1    0.000    0.000    0.000    0.000 rrule.py:66(weekday)\n",
       "        4    0.000    0.000    0.000    0.000 rrule.py:80(_invalidates_cache)\n",
       "        1    0.000    0.000    0.000    0.000 rrule.py:1308(_genitem)\n",
       "        1    0.000    0.000    0.000    0.000 _subplots.py:218(<genexpr>)\n",
       "        1    0.000    0.000    0.000    0.000 legend_handler.py:130(HandlerNpoints)\n",
       "        1    0.000    0.000    0.000    0.000 legend_handler.py:174(HandlerNpointsYoffsets)\n",
       "        1    0.000    0.000    0.000    0.000 legend_handler.py:206(HandlerLine2D)\n",
       "        1    0.000    0.000    0.000    0.000 legend_handler.py:258(HandlerPatch)\n",
       "        1    0.000    0.000    0.000    0.000 legend_handler.py:304(HandlerLineCollection)\n",
       "        1    0.000    0.000    0.000    0.000 legend_handler.py:411(HandlerPathCollection)\n",
       "        1    0.000    0.000    0.000    0.000 legend_handler.py:424(HandlerCircleCollection)\n",
       "        1    0.000    0.000    0.000    0.000 legend_handler.py:649(__init__)\n",
       "        1    0.000    0.000    0.000    0.000 legend_handler.py:632(HandlerTuple)\n",
       "        1    0.000    0.000    0.000    0.000 backend_tools.py:768(ZoomPanBase)\n",
       "        1    0.000    0.000    0.000    0.000 backend_tools.py:1066(ToolCopyToClipboardBase)\n",
       "        1    0.000    0.000    0.000    0.000 widgets.py:23(LockDraw)\n",
       "        1    0.000    0.000    0.000    0.000 widgets.py:92(AxesWidget)\n",
       "        1    0.000    0.000    0.000    0.000 widgets.py:134(Button)\n",
       "        1    0.000    0.000    0.000    0.000 widgets.py:481(CheckButtons)\n",
       "        1    0.000    0.000    0.000    0.000 widgets.py:940(RadioButtons)\n",
       "        1    0.000    0.000    0.000    0.000 widgets.py:1085(SubplotTool)\n",
       "        1    0.000    0.000    0.000    0.000 widgets.py:1234(Cursor)\n",
       "        1    0.000    0.000    0.000    0.000 widgets.py:1325(MultiCursor)\n",
       "        1    0.000    0.000    0.000    0.000 widgets.py:2380(EllipseSelector)\n",
       "        1    0.000    0.000    0.000    0.000 widgets.py:2751(Lasso)\n",
       "        1    0.000    0.000    0.000    0.000 container.py:103(BarContainer)\n",
       "        1    0.000    0.000    0.000    0.000 image.py:1216(BboxImage)\n",
       "        1    0.000    0.000    0.000    0.000 backend_bases.py:1275(DrawEvent)\n",
       "        1    0.000    0.000    0.000    0.000 backend_bases.py:1303(ResizeEvent)\n",
       "        1    0.000    0.000    0.000    0.000 backend_bases.py:1333(LocationEvent)\n",
       "        1    0.000    0.000    0.000    0.000 backend_bases.py:1428(MouseEvent)\n",
       "        1    0.000    0.000    0.000    0.000 backend_bases.py:1529(KeyEvent)\n",
       "        1    0.000    0.000    0.000    0.000 backend_bases.py:2432(NonGuiException)\n",
       "        1    0.000    0.000    0.000    0.000 backend_bases.py:3156(StatusbarBase)\n",
       "        1    0.000    0.000    0.000    0.000 backend_bases.py:3284(Show)\n",
       "        1    0.000    0.000    0.000    0.000 backend_bases.py:3292(ShowBase)\n",
       "        1    0.000    0.000    0.000    0.000 backend_tools.py:356(RubberbandBase)\n",
       "        1    0.000    0.000    0.000    0.000 backend_tools.py:420(ToolEnableNavigation)\n",
       "        1    0.000    0.000    0.000    0.000 backend_tools.py:437(_ToolGridBase)\n",
       "        1    0.000    0.000    0.000    0.000 backend_tools.py:492(ToolMinorGrid)\n",
       "        1    0.000    0.000    0.000    0.000 backend_tools.py:525(AxisScaleBase)\n",
       "        1    0.000    0.000    0.000    0.000 backend_tools.py:714(ViewsPositionsBase)\n",
       "        1    0.000    0.000    0.000    0.000 backend_tools.py:735(ToolBack)\n",
       "        1    0.000    0.000    0.000    0.000 elemwise.py:43(SigmoidTransform)\n",
       "        1    0.000    0.000    0.000    0.000 elemwise.py:25(LogitTransform)\n",
       "        1    0.000    0.000    0.000    0.000 elemwise.py:8(ZeroMeanTransform)\n",
       "        1    0.000    0.000    0.000    0.000 offsetbox.py:317(VPacker)\n",
       "        1    0.000    0.000    0.000    0.000 offsetbox.py:393(HPacker)\n",
       "        1    0.000    0.000    0.000    0.000 offsetbox.py:1214(AnchoredText)\n",
       "        1    0.000    0.000    0.000    0.000 offsetbox.py:1730(DraggableOffsetBox)\n",
       "        1    0.000    0.000    0.000    0.000 image.py:1155(FigureImage)\n",
       "        1    0.000    0.000    0.000    0.000 blocking_input.py:267(BlockingContourLabeler)\n",
       "        1    0.000    0.000    0.000    0.000 blocking_input.py:326(BlockingKeyMouseInput)\n",
       "        1    0.000    0.000    0.000    0.000 gridspec.py:348(GridSpecFromSubplotSpec)\n",
       "        1    0.000    0.000    0.000    0.000 dviread.py:580(Vf)\n",
       "        1    0.000    0.000    0.000    0.000 mathtext.py:83(MathtextBackend)\n",
       "        1    0.000    0.000    0.000    0.000 mathtext.py:211(MathtextBackendBitmap)\n",
       "        1    0.000    0.000    0.000    0.000 mathtext.py:217(MathtextBackendPs)\n",
       "        1    0.000    0.000    0.000    0.000 mathtext.py:257(MathtextBackendPdf)\n",
       "        1    0.000    0.000    0.000    0.000 mathtext.py:285(MathtextBackendSvg)\n",
       "        1    0.000    0.000    0.000    0.000 mathtext.py:314(MathtextBackendPath)\n",
       "        1    0.000    0.000    0.000    0.000 mathtext.py:342(MathtextBackendCairo)\n",
       "        1    0.000    0.000    0.000    0.000 mathtext.py:861(DejaVuFonts)\n",
       "        1    0.000    0.000    0.000    0.000 mathtext.py:904(DejaVuSerifFonts)\n",
       "        1    0.000    0.000    0.000    0.000 mathtext.py:919(DejaVuSansFonts)\n",
       "        1    0.000    0.000    0.000    0.000 mathtext.py:1244(FontConstantsBase)\n",
       "        1    0.000    0.000    0.000    0.000 mathtext.py:1280(ComputerModernFontConstants)\n",
       "        1    0.000    0.000    0.000    0.000 mathtext.py:1291(STIXFontConstants)\n",
       "        1    0.000    0.000    0.000    0.000 mathtext.py:1300(STIXSansFontConstants)\n",
       "        1    0.000    0.000    0.000    0.000 mathtext.py:1311(DejaVuSansFontConstants)\n",
       "        1    0.000    0.000    0.000    0.000 mathtext.py:1352(MathTextWarning)\n",
       "        1    0.000    0.000    0.000    0.000 mathtext.py:1355(Node)\n",
       "        1    0.000    0.000    0.000    0.000 mathtext.py:1385(Box)\n",
       "        1    0.000    0.000    0.000    0.000 mathtext.py:1411(Vbox)\n",
       "        1    0.000    0.000    0.000    0.000 mathtext.py:1594(Hlist)\n",
       "        1    0.000    0.000    0.000    0.000 mathtext.py:1779(Rule)\n",
       "        1    0.000    0.000    0.000    0.000 mathtext.py:1796(Hrule)\n",
       "        1    0.000    0.000    0.000    0.000 mathtext.py:1807(Vrule)\n",
       "        1    0.000    0.000    0.000    0.000 mathtext.py:1816(Glue)\n",
       "        1    0.000    0.000    0.000    0.000 mathtext.py:1893(Filll)\n",
       "        1    0.000    0.000    0.000    0.000 mathtext.py:1897(NegFil)\n",
       "        1    0.000    0.000    0.000    0.000 mathtext.py:1909(SsGlue)\n",
       "        1    0.000    0.000    0.000    0.000 mathtext.py:1930(Kern)\n",
       "        1    0.000    0.000    0.000    0.000 mathtext.py:2010(AutoWidthChar)\n",
       "        1    0.000    0.000    0.000    0.000 mathtext.py:3227(__init__)\n",
       "        5    0.000    0.000    0.000    0.000 texmanager.py:96(<genexpr>)\n",
       "        1    0.000    0.000    0.000    0.000 bezier.py:11(NonIntersectingPathException)\n",
       "        1    0.000    0.000    0.000    0.000 patches.py:3636(BarAB)\n",
       "        1    0.000    0.000    0.000    0.000 patches.py:3664(Simple)\n",
       "        1    0.000    0.000    0.000    0.000 patches.py:3747(Fancy)\n",
       "        1    0.000    0.000    0.000    0.000 patches.py:3846(Wedge)\n",
       "        1    0.000    0.000    0.000    0.000 patches.py:3220(_Curve)\n",
       "        1    0.000    0.000    0.000    0.000 patches.py:3364(CurveA)\n",
       "        1    0.000    0.000    0.000    0.000 patches.py:3402(CurveAB)\n",
       "        1    0.000    0.000    0.000    0.000 patches.py:3441(CurveFilledB)\n",
       "        1    0.000    0.000    0.000    0.000 patches.py:3461(CurveFilledAB)\n",
       "        1    0.000    0.000    0.000    0.000 patches.py:3481(_Bracket)\n",
       "        1    0.000    0.000    0.000    0.000 patches.py:3558(BracketAB)\n",
       "        1    0.000    0.000    0.000    0.000 patches.py:3592(BracketA)\n",
       "        1    0.000    0.000    0.000    0.000 patches.py:2779(Arc3)\n",
       "        1    0.000    0.000    0.000    0.000 patches.py:3009(Bar)\n",
       "        1    0.000    0.000    0.000    0.000 patches.py:2379(Roundtooth)\n",
       "        1    0.000    0.000    0.000    0.000 patches.py:2700(SimpleEvent)\n",
       "        1    0.000    0.000    0.000    0.000 patches.py:1963(_Base)\n",
       "        1    0.000    0.000    0.000    0.000 patches.py:2012(Square)\n",
       "        1    0.000    0.000    0.000    0.000 patches.py:2063(LArrow)\n",
       "        1    0.000    0.000    0.000    0.000 patches.py:2101(RArrow)\n",
       "        1    0.000    0.000    0.000    0.000 patches.py:2116(DArrow)\n",
       "        1    0.000    0.000    0.000    0.000 patches.py:2166(Round)\n",
       "        1    0.000    0.000    0.000    0.000 font_manager.py:284(FontEntry)\n",
       "        1    0.000    0.000    0.000    0.000 font_manager.py:901(TempCache)\n",
       "        1    0.000    0.000    0.000    0.000 ticker.py:231(TickHelper)\n",
       "        1    0.000    0.000    0.000    0.000 ticker.py:305(IndexFormatter)\n",
       "        1    0.000    0.000    0.000    0.000 ticker.py:327(NullFormatter)\n",
       "        1    0.000    0.000    0.000    0.000 ticker.py:391(FormatStrFormatter)\n",
       "        1    0.000    0.000    0.000    0.000 ticker.py:410(StrMethodFormatter)\n",
       "        1    0.000    0.000    0.000    0.000 ticker.py:431(OldScalarFormatter)\n",
       "        1    0.000    0.000    0.000    0.000 ticker.py:1043(LogFormatterExponent)\n",
       "        1    0.000    0.000    0.000    0.000 ticker.py:1059(LogFormatterMathtext)\n",
       "        1    0.000    0.000    0.000    0.000 ticker.py:1144(LogitFormatter)\n",
       "        1    0.000    0.000    0.000    0.000 ticker.py:1498(IndexLocator)\n",
       "        1    0.000    0.000    0.000    0.000 ticker.py:1527(FixedLocator)\n",
       "        1    0.000    0.000    0.000    0.000 ticker.py:1571(NullLocator)\n",
       "        1    0.000    0.000    0.000    0.000 ticker.py:1591(LinearLocator)\n",
       "        1    0.000    0.000    0.000    0.000 ticker.py:1767(_Edge_integer)\n",
       "        1    0.000    0.000    0.000    0.000 ticker.py:2256(SymmetricalLogLocator)\n",
       "        1    0.000    0.000    0.000    0.000 ticker.py:2521(AutoLocator)\n",
       "        1    0.000    0.000    0.000    0.000 ticker.py:2541(AutoMinorLocator)\n",
       "        1    0.000    0.000    0.000    0.000 ticker.py:2604(OldAutoLocator)\n",
       "        1    0.000    0.000    0.000    0.000 collections.py:1658(PatchCollection)\n",
       "        1    0.000    0.000    0.000    0.000 transforms.py:2253(BlendedAffine2D)\n",
       "        1    0.000    0.000    0.000    0.000 transforms.py:2563(BboxTransform)\n",
       "        1    0.000    0.000    0.000    0.000 transforms.py:2611(BboxTransformTo)\n",
       "        1    0.000    0.000    0.000    0.000 transforms.py:2747(TransformedPath)\n",
       "        1    0.000    0.000    0.000    0.000 transforms.py:2821(TransformedPatchPath)\n",
       "        1    0.000    0.000    0.000    0.000 collections.py:1091(StarPolygonCollection)\n",
       "        1    0.000    0.000    0.000    0.000 collections.py:1098(AsteriskPolygonCollection)\n",
       "        1    0.000    0.000    0.000    0.000 pyplot.py:92(_NotIPython)\n",
       "        1    0.000    0.000    0.000    0.000 colors.py:1252(BoundaryNorm)\n",
       "        1    0.000    0.000    0.000    0.000 colors.py:781(ListedColormap)\n",
       "        1    0.000    0.000    0.000    0.000 colors.py:72(_ColorMapping)\n",
       "        1    0.000    0.000    0.000    0.000 error.py:2(FFIError)\n",
       "        1    0.000    0.000    0.000    0.000 error.py:5(CDefError)\n",
       "        1    0.000    0.000    0.000    0.000 error.py:16(VerificationError)\n",
       "        1    0.000    0.000    0.000    0.000 model.py:72(BaseType)\n",
       "        1    0.000    0.000    0.000    0.000 model.py:88(__init__)\n",
       "        1    0.000    0.000    0.000    0.000 model.py:85(VoidType)\n",
       "        1    0.000    0.000    0.000    0.000 model.py:97(BasePrimitiveType)\n",
       "        1    0.000    0.000    0.000    0.000 model.py:178(UnknownIntegerType)\n",
       "        1    0.000    0.000    0.000    0.000 model.py:192(UnknownFloatType)\n",
       "        1    0.000    0.000    0.000    0.000 model.py:204(BaseFunctionType)\n",
       "        1    0.000    0.000    0.000    0.000 model.py:224(RawFunctionType)\n",
       "        1    0.000    0.000    0.000    0.000 model.py:261(PointerType)\n",
       "        1    0.000    0.000    0.000    0.000 model.py:284(NamedPointerType)\n",
       "        1    0.000    0.000    0.000    0.000 model.py:324(StructOrUnionOrEnum)\n",
       "        1    0.000    0.000    0.000    0.000 model.py:341(StructOrUnion)\n",
       "        1    0.000    0.000    0.000    0.000 model.py:475(StructType)\n",
       "        1    0.000    0.000    0.000    0.000 model.py:483(EnumType)\n",
       "        1    0.000    0.000    0.000    0.000 folder.py:150(ImageFolder)\n",
       "        1    0.000    0.000    0.000    0.000 coco.py:82(CocoDetection)\n",
       "        1    0.000    0.000    0.000    0.000 dataloader.py:39(ExceptionWrapper)\n",
       "        1    0.000    0.000    0.000    0.000 dataloader.py:86(ManagerWatchdog)\n",
       "        1    0.000    0.000    0.000    0.000 Image.py:40(DecompressionBombWarning)\n",
       "        1    0.000    0.000    0.000    0.000 Image.py:48(_imaging_not_installed)\n",
       "        1    0.000    0.000    0.000    0.000 Image.py:2282(ImagePointHandler)\n",
       "        1    0.000    0.000    0.000    0.000 Image.py:2287(ImageTransformHandler)\n",
       "        1    0.000    0.000    0.000    0.000 _util.py:25(deferred_error)\n",
       "        1    0.000    0.000    0.000    0.000 ImageMode.py:20(ModeDescriptor)\n",
       "        1    0.000    0.000    0.000    0.000 resnet.py:57(Bottleneck)\n",
       "        1    0.000    0.000    0.000    0.000 resnet.py:96(ResNet)\n",
       "        1    0.000    0.000    0.000    0.000 resnext.py:16(ResNeXtBottleneckC)\n",
       "        1    0.000    0.000    0.000    0.000 resnext.py:58(ResNeXt)\n",
       "        1    0.000    0.000    0.000    0.000 vgg.py:24(VGG)\n",
       "        1    0.000    0.000    0.000    0.000 squeezenet.py:17(Fire)\n",
       "        1    0.000    0.000    0.000    0.000 inception.py:130(InceptionA)\n",
       "        1    0.000    0.000    0.000    0.000 inception.py:224(InceptionD)\n",
       "        1    0.000    0.000    0.000    0.000 inception.py:317(BasicConv2d)\n",
       "        1    0.000    0.000    0.000    0.000 densenet.py:127(_DenseLayer)\n",
       "        1    0.000    0.000    0.000    0.000 densenet.py:147(_DenseBlock)\n",
       "        1    0.000    0.000    0.000    0.000 densenet.py:155(_Transition)\n",
       "        1    0.000    0.000    0.000    0.000 densenet.py:165(DenseNet)\n",
       "        1    0.000    0.000    0.000    0.000 lsun.py:14(LSUNClass)\n",
       "        1    0.000    0.000    0.000    0.000 lsun.py:59(LSUN)\n",
       "        1    0.000    0.000    0.000    0.000 sampler.py:23(SequentialSampler)\n",
       "        1    0.000    0.000    0.000    0.000 sampler.py:40(RandomSampler)\n",
       "        1    0.000    0.000    0.000    0.000 sampler.py:96(WeightedRandomSampler)\n",
       "        1    0.000    0.000    0.000    0.000 sampler.py:126(BatchSampler)\n",
       "        1    0.000    0.000    0.000    0.000 dataset.py:8(Dataset)\n",
       "        1    0.000    0.000    0.000    0.000 dataset.py:26(TensorDataset)\n",
       "        1    0.000    0.000    0.000    0.000 _utils.py:123(Comparable)\n",
       "        1    0.000    0.000    0.000    0.000 _monitor.py:8(TqdmSynchronisationWarning)\n",
       "        1    0.000    0.000    0.000    0.000 synchronize.py:90(_make_methods)\n",
       "        1    0.000    0.000    0.000    0.000 synchronize.py:123(Semaphore)\n",
       "        1    0.000    0.000    0.000    0.000 synchronize.py:142(BoundedSemaphore)\n",
       "        1    0.000    0.000    0.000    0.000 synchronize.py:186(__init__)\n",
       "        1    0.000    0.000    0.000    0.000 synchronize.py:184(RLock)\n",
       "        1    0.000    0.000    0.000    0.000 synchronize.py:332(Event)\n",
       "        1    0.000    0.000    0.000    0.000 models.py:174(RequestHooksMixin)\n",
       "        1    0.000    0.000    0.000    0.000 models.py:198(Request)\n",
       "        1    0.000    0.000    0.000    0.000 auth.py:72(AuthBase)\n",
       "        1    0.000    0.000    0.000    0.000 auth.py:79(HTTPBasicAuth)\n",
       "        1    0.000    0.000    0.000    0.000 auth.py:100(HTTPProxyAuth)\n",
       "        1    0.000    0.000    0.000    0.000 sessions.py:95(SessionRedirectMixin)\n",
       "        1    0.000    0.000    0.000    0.000 adapters.py:55(BaseAdapter)\n",
       "        1    0.000    0.000    0.000    0.000 socks.py:141(SOCKSProxyManager)\n",
       "        1    0.000    0.000    0.000    0.000 socks.py:110(ProxyError)\n",
       "        1    0.000    0.000    0.000    0.000 socks.py:123(GeneralProxyError)\n",
       "        1    0.000    0.000    0.000    0.000 socks.py:131(SOCKS5AuthError)\n",
       "        1    0.000    0.000    0.000    0.000 socks.py:135(SOCKS5Error)\n",
       "        1    0.000    0.000    0.000    0.000 _tqdm.py:36(TqdmTypeError)\n",
       "        1    0.000    0.000    0.000    0.000 _tqdm.py:40(TqdmKeyError)\n",
       "        1    0.000    0.000    0.000    0.000 _tqdm.py:44(TqdmWarning)\n",
       "        1    0.000    0.000    0.000    0.000 _tqdm.py:57(TqdmExperimentalWarning)\n",
       "        1    0.000    0.000    0.000    0.000 _tqdm.py:62(TqdmDeprecationWarning)\n",
       "        1    0.000    0.000    0.000    0.000 _tqdm.py:95(<listcomp>)\n",
       "        1    0.000    0.000    0.000    0.000 cookiejar.py:1222(Absent)\n",
       "        1    0.000    0.000    0.000    0.000 cookiejar.py:1753(LoadError)\n",
       "        1    0.000    0.000    0.000    0.000 cookiejar.py:1841(LWPCookieJar)\n",
       "        1    0.000    0.000    0.000    0.000 cookies.py:625(SimpleCookie)\n",
       "        1    0.000    0.000    0.000    0.000 cookies.py:165(CookieConflictError)\n",
       "        1    0.000    0.000    0.000    0.000 zipfile.py:595(LZMACompressor)\n",
       "        1    0.000    0.000    0.000    0.000 zipfile.py:714(_SharedFile)\n",
       "        1    0.000    0.000    0.000    0.000 zipfile.py:740(_Tellable)\n",
       "        1    0.000    0.000    0.000    0.000 zipfile.py:1819(PyZipFile)\n",
       "        1    0.000    0.000    0.000    0.000 cookiejar.py:830(CookiePolicy)\n",
       "        1    0.000    0.000    0.000    0.000 padding.py:26(PKCS1v15)\n",
       "        1    0.000    0.000    0.000    0.000 padding.py:31(PSS)\n",
       "        1    0.000    0.000    0.000    0.000 padding.py:49(OAEP)\n",
       "        1    0.000    0.000    0.000    0.000 padding.py:62(MGF1)\n",
       "        1    0.000    0.000    0.000    0.000 x25519.py:13(_X25519PublicKey)\n",
       "        1    0.000    0.000    0.000    0.000 x25519.py:32(_X25519PrivateKey)\n",
       "        1    0.000    0.000    0.000    0.000 algorithms.py:133(SEED)\n",
       "        1    0.000    0.000    0.000    0.000 scrypt.py:23(Scrypt)\n",
       "        1    0.000    0.000    0.000    0.000 __version__.py:5(<module>)\n",
       "        1    0.000    0.000    0.000    0.000 ocsp.py:76(OCSPRequestBuilder)\n",
       "        1    0.000    0.000    0.000    0.000 ocsp.py:113(_SingleResponse)\n",
       "        1    0.000    0.000    0.000    0.000 rsa.py:272(_RSASignatureContext)\n",
       "        1    0.000    0.000    0.000    0.000 rsa.py:299(_RSAVerificationContext)\n",
       "        1    0.000    0.000    0.000    0.000 decode_asn1.py:23(_Integers)\n",
       "        1    0.000    0.000    0.000    0.000 dh.py:36(_DHParameters)\n",
       "        1    0.000    0.000    0.000    0.000 dh.py:170(DHPrivateKeyWithSerialization)\n",
       "        1    0.000    0.000    0.000    0.000 dsa.py:47(_DSAVerificationContext)\n",
       "        1    0.000    0.000    0.000    0.000 dsa.py:68(_DSASignatureContext)\n",
       "        1    0.000    0.000    0.000    0.000 dsa.py:84(_DSAParameters)\n",
       "        1    0.000    0.000    0.000    0.000 utils.py:52(Prehashed)\n",
       "        1    0.000    0.000    0.000    0.000 ec.py:92(_ECDSASignatureContext)\n",
       "        1    0.000    0.000    0.000    0.000 ec.py:108(_ECDSAVerificationContext)\n",
       "        1    0.000    0.000    0.000    0.000 backend.py:2099(GetCipherByName)\n",
       "        1    0.000    0.000    0.000    0.000 base.py:35(BlockCipherAlgorithm)\n",
       "        1    0.000    0.000    0.000    0.000 base.py:44(CipherContext)\n",
       "        1    0.000    0.000    0.000    0.000 base.py:76(AEADDecryptionContext)\n",
       "        1    0.000    0.000    0.000    0.000 base.py:96(Cipher)\n",
       "        1    0.000    0.000    0.000    0.000 base.py:228(_AEADEncryptionContext)\n",
       "        1    0.000    0.000    0.000    0.000 modes.py:124(ECB)\n",
       "        1    0.000    0.000    0.000    0.000 SSL.py:118(_buffer)\n",
       "        1    0.000    0.000    0.000    0.000 SSL.py:253(WantWriteError)\n",
       "        1    0.000    0.000    0.000    0.000 SSL.py:257(WantX509LookupError)\n",
       "        1    0.000    0.000    0.000    0.000 SSL.py:265(SysCallError)\n",
       "        1    0.000    0.000    0.000    0.000 SSL.py:269(_CallbackExceptionHelper)\n",
       "        1    0.000    0.000    0.000    0.000 SSL.py:336(_NpnAdvertiseHelper)\n",
       "        1    0.000    0.000    0.000    0.000 SSL.py:477(_OCSPServerCallbackHelper)\n",
       "        1    0.000    0.000    0.000    0.000 SSL.py:673(Session)\n",
       "        1    0.000    0.000    0.000    0.000 {built-in method _openssl.ENGINE_by_id}\n",
       "        1    0.000    0.000    0.000    0.000 {built-in method _openssl.ENGINE_finish}\n",
       "        1    0.000    0.000    0.000    0.000 {built-in method _openssl.ERR_clear_error}\n",
       "        1    0.000    0.000    0.000    0.000 {built-in method _openssl.RAND_cleanup}\n",
       "        1    0.000    0.000    0.000    0.000 {built-in method _openssl.ENGINE_free}\n",
       "        1    0.000    0.000    0.000    0.000 _conditional.py:135(cryptography_has_ssl_st)\n",
       "        1    0.000    0.000    0.000    0.000 general_name.py:35(UnsupportedGeneralNameType)\n",
       "        1    0.000    0.000    0.000    0.000 package_data.py:1(<module>)\n",
       "        1    0.000    0.000    0.000    0.000 core.py:16(IDNAError)\n",
       "        1    0.000    0.000    0.000    0.000 core.py:21(IDNABidiError)\n",
       "        1    0.000    0.000    0.000    0.000 core.py:26(InvalidCodepoint)\n",
       "        1    0.000    0.000    0.000    0.000 oid.py:130(AuthorityInformationAccessOID)\n",
       "        1    0.000    0.000    0.000    0.000 hashes.py:111(SHA224)\n",
       "        1    0.000    0.000    0.000    0.000 hashes.py:118(SHA256)\n",
       "        1    0.000    0.000    0.000    0.000 hashes.py:125(SHA384)\n",
       "        1    0.000    0.000    0.000    0.000 hashes.py:132(SHA512)\n",
       "        1    0.000    0.000    0.000    0.000 hashes.py:139(MD5)\n",
       "        1    0.000    0.000    0.000    0.000 _util.py:62(openssl_assert)\n",
       "        1    0.000    0.000    0.000    0.000 algos.py:1091(Pbmac1Params)\n",
       "        1    0.000    0.000    0.000    0.000 algos.py:1098(Pkcs5MacId)\n",
       "        1    0.000    0.000    0.000    0.000 algos.py:1104(Pkcs5MacAlgorithm)\n",
       "        1    0.000    0.000    0.000    0.000 algos.py:1119(AnyAlgorithmId)\n",
       "        1    0.000    0.000    0.000    0.000 algos.py:1129(AnyAlgorithmIdentifier)\n",
       "        1    0.000    0.000    0.000    0.000 core.py:649(Castable)\n",
       "        1    0.000    0.000    0.000    0.000 core.py:1572(Primitive)\n",
       "        1    0.000    0.000    0.000    0.000 core.py:1695(AbstractString)\n",
       "        1    0.000    0.000    0.000    0.000 core.py:1829(Integer)\n",
       "        1    0.000    0.000    0.000    0.000 core.py:2286(IntegerBitString)\n",
       "        1    0.000    0.000    0.000    0.000 core.py:2448(IntegerOctetString)\n",
       "        1    0.000    0.000    0.000    0.000 core.py:2665(ParsableOctetBitString)\n",
       "        1    0.000    0.000    0.000    0.000 core.py:2706(Null)\n",
       "        1    0.000    0.000    0.000    0.000 core.py:2940(ObjectDescriptor)\n",
       "        1    0.000    0.000    0.000    0.000 core.py:2948(InstanceOf)\n",
       "        1    0.000    0.000    0.000    0.000 core.py:2964(Enumerated)\n",
       "        1    0.000    0.000    0.000    0.000 core.py:4298(Set)\n",
       "        1    0.000    0.000    0.000    0.000 core.py:4484(SetOf)\n",
       "        1    0.000    0.000    0.000    0.000 core.py:4517(EmbeddedPdv)\n",
       "        1    0.000    0.000    0.000    0.000 core.py:4525(NumericString)\n",
       "        1    0.000    0.000    0.000    0.000 core.py:4534(PrintableString)\n",
       "        1    0.000    0.000    0.000    0.000 core.py:4543(TeletexString)\n",
       "        1    0.000    0.000    0.000    0.000 core.py:4552(VideotexString)\n",
       "        1    0.000    0.000    0.000    0.000 core.py:4560(IA5String)\n",
       "        1    0.000    0.000    0.000    0.000 core.py:4615(UTCTime)\n",
       "        1    0.000    0.000    0.000    0.000 core.py:4671(GeneralizedTime)\n",
       "        1    0.000    0.000    0.000    0.000 core.py:4744(GraphicString)\n",
       "        1    0.000    0.000    0.000    0.000 core.py:4763(GeneralString)\n",
       "        1    0.000    0.000    0.000    0.000 core.py:4773(UniversalString)\n",
       "        1    0.000    0.000    0.000    0.000 core.py:4782(CharacterString)\n",
       "        1    0.000    0.000    0.000    0.000 core.py:4792(BMPString)\n",
       "        1    0.000    0.000    0.000    0.000 _teletex_codec.py:14(TeletexCodec)\n",
       "        1    0.000    0.000    0.000    0.000 _teletex_codec.py:23(TeletexIncrementalEncoder)\n",
       "        1    0.000    0.000    0.000    0.000 _teletex_codec.py:35(TeletexStreamWriter)\n",
       "        1    0.000    0.000    0.000    0.000 _teletex_codec.py:64(register)\n",
       "        1    0.000    0.000    0.000    0.000 idna.py:146(Codec)\n",
       "        1    0.000    0.000    0.000    0.000 idna.py:253(IncrementalDecoder)\n",
       "        1    0.000    0.000    0.000    0.000 idna.py:292(StreamWriter)\n",
       "        1    0.000    0.000    0.000    0.000 _ffi.py:30(LibraryNotFoundError)\n",
       "        1    0.000    0.000    0.000    0.000 _ffi.py:39(FFIEngineError)\n",
       "        1    0.000    0.000    0.000    0.000 algos.py:43(AlgorithmIdentifier)\n",
       "        1    0.000    0.000    0.000    0.000 algos.py:120(HmacAlgorithm)\n",
       "        1    0.000    0.000    0.000    0.000 algos.py:127(DigestAlgorithmId)\n",
       "        1    0.000    0.000    0.000    0.000 algos.py:141(DigestAlgorithm)\n",
       "        1    0.000    0.000    0.000    0.000 algos.py:149(DigestInfo)\n",
       "        1    0.000    0.000    0.000    0.000 algos.py:156(MaskGenAlgorithmId)\n",
       "        1    0.000    0.000    0.000    0.000 algos.py:365(Pbkdf2Salt)\n",
       "        1    0.000    0.000    0.000    0.000 algos.py:387(KdfAlgorithm)\n",
       "        1    0.000    0.000    0.000    0.000 algos.py:398(DHParameters)\n",
       "        1    0.000    0.000    0.000    0.000 algos.py:411(KeyExchangeAlgorithmId)\n",
       "        1    0.000    0.000    0.000    0.000 algos.py:417(KeyExchangeAlgorithm)\n",
       "        1    0.000    0.000    0.000    0.000 algos.py:428(Rc2Params)\n",
       "        1    0.000    0.000    0.000    0.000 algos.py:441(Rc5Params)\n",
       "        1    0.000    0.000    0.000    0.000 algos.py:450(Pbes1Params)\n",
       "        1    0.000    0.000    0.000    0.000 algos.py:463(PSourceAlgorithm)\n",
       "        1    0.000    0.000    0.000    0.000 extensions.py:852(OCSPNoCheck)\n",
       "        1    0.000    0.000    0.000    0.000 extensions.py:857(PrecertPoison)\n",
       "        1    0.000    0.000    0.000    0.000 keys.py:66(OtherPrimeInfos)\n",
       "        1    0.000    0.000    0.000    0.000 keys.py:105(RSAPublicKey)\n",
       "        1    0.000    0.000    0.000    0.000 keys.py:206(ECPoint)\n",
       "        1    0.000    0.000    0.000    0.000 keys.py:216(SpecifiedECDomainVersion)\n",
       "        1    0.000    0.000    0.000    0.000 keys.py:239(CharacteristicTwoBasis)\n",
       "        1    0.000    0.000    0.000    0.000 keys.py:301(Curve)\n",
       "        1    0.000    0.000    0.000    0.000 keys.py:396(ECPrivateKeyVersion)\n",
       "        1    0.000    0.000    0.000    0.000 keys.py:407(ECPrivateKey)\n",
       "        1    0.000    0.000    0.000    0.000 keys.py:420(DSAParams)\n",
       "        1    0.000    0.000    0.000    0.000 keys.py:435(Attribute)\n",
       "        1    0.000    0.000    0.000    0.000 keys.py:454(PrivateKeyAlgorithmId)\n",
       "        1    0.000    0.000    0.000    0.000 keys.py:910(DomainParameters)\n",
       "        1    0.000    0.000    0.000    0.000 keys.py:924(PublicKeyAlgorithmId)\n",
       "        1    0.000    0.000    0.000    0.000 ec.py:420(ECDH)\n",
       "        1    0.000    0.000    0.000    0.000 exceptions.py:24(UnsupportedAlgorithm)\n",
       "        1    0.000    0.000    0.000    0.000 exceptions.py:34(AlreadyUpdated)\n",
       "        1    0.000    0.000    0.000    0.000 exceptions.py:42(InvalidTag)\n",
       "        1    0.000    0.000    0.000    0.000 exceptions.py:46(InvalidSignature)\n",
       "        1    0.000    0.000    0.000    0.000 exceptions.py:50(InternalError)\n",
       "        1    0.000    0.000    0.000    0.000 interfaces.py:48(HMACBackend)\n",
       "        1    0.000    0.000    0.000    0.000 extensions.py:51(DuplicateExtension)\n",
       "        1    0.000    0.000    0.000    0.000 extensions.py:63(ExtensionType)\n",
       "        1    0.000    0.000    0.000    0.000 utils.py:45(register_interface_if)\n",
       "        1    0.000    0.000    0.000    0.000 utils.py:115(_DeprecatedValue)\n",
       "        1    0.000    0.000    0.000    0.000 dsa.py:23(DSAParametersWithNumbers)\n",
       "        1    0.000    0.000    0.000    0.000 ec.py:39(EllipticCurveSignatureAlgorithm)\n",
       "        1    0.000    0.000    0.000    0.000 ec.py:151(SECT409R1)\n",
       "        1    0.000    0.000    0.000    0.000 ec.py:169(SECT163R2)\n",
       "        1    0.000    0.000    0.000    0.000 ec.py:187(SECT283K1)\n",
       "        1    0.000    0.000    0.000    0.000 ec.py:199(SECT163K1)\n",
       "        1    0.000    0.000    0.000    0.000 ec.py:205(SECP521R1)\n",
       "        1    0.000    0.000    0.000    0.000 ec.py:211(SECP384R1)\n",
       "        1    0.000    0.000    0.000    0.000 ec.py:217(SECP256R1)\n",
       "        1    0.000    0.000    0.000    0.000 ec.py:223(SECP256K1)\n",
       "        1    0.000    0.000    0.000    0.000 ec.py:235(SECP192R1)\n",
       "        1    0.000    0.000    0.000    0.000 ec.py:241(BrainpoolP256R1)\n",
       "        1    0.000    0.000    0.000    0.000 ec.py:253(BrainpoolP512R1)\n",
       "        1    0.000    0.000    0.000    0.000 crypto.py:204(_X509NameInvalidator)\n",
       "        1    0.000    0.000    0.000    0.000 crypto.py:1682(X509StoreContextError)\n",
       "        1    0.000    0.000    0.000    0.000 utils.py:16(CryptographyDeprecationWarning)\n",
       "        1    0.000    0.000    0.000    0.000 base.py:73(InvalidVersion)\n",
       "        1    0.000    0.000    0.000    0.000 sbcsgroupprober.py:43(SBCSGroupProber)\n",
       "        1    0.000    0.000    0.000    0.000 langthaimodel.py:37(<module>)\n",
       "        1    0.000    0.000    0.000    0.000 exceptions.py:12(RequestException)\n",
       "        1    0.000    0.000    0.000    0.000 exceptions.py:28(HTTPError)\n",
       "        1    0.000    0.000    0.000    0.000 exceptions.py:32(ConnectionError)\n",
       "        1    0.000    0.000    0.000    0.000 exceptions.py:44(Timeout)\n",
       "        1    0.000    0.000    0.000    0.000 exceptions.py:53(ConnectTimeout)\n",
       "        1    0.000    0.000    0.000    0.000 exceptions.py:72(MissingSchema)\n",
       "        1    0.000    0.000    0.000    0.000 exceptions.py:76(InvalidSchema)\n",
       "        1    0.000    0.000    0.000    0.000 exceptions.py:84(InvalidHeader)\n",
       "        1    0.000    0.000    0.000    0.000 exceptions.py:88(InvalidProxyURL)\n",
       "        1    0.000    0.000    0.000    0.000 exceptions.py:100(StreamConsumedError)\n",
       "        1    0.000    0.000    0.000    0.000 exceptions.py:104(RetryError)\n",
       "        1    0.000    0.000    0.000    0.000 exceptions.py:108(UnrewindableBodyError)\n",
       "        1    0.000    0.000    0.000    0.000 exceptions.py:124(RequestsDependencyWarning)\n",
       "        4    0.000    0.000    0.000    0.000 pyopenssl.py:102(<genexpr>)\n",
       "        1    0.000    0.000    0.000    0.000 enums.py:8(InputState)\n",
       "        1    0.000    0.000    0.000    0.000 enums.py:32(ProbingState)\n",
       "        1    0.000    0.000    0.000    0.000 enums.py:41(MachineState)\n",
       "        1    0.000    0.000    0.000    0.000 enums.py:65(CharacterCategory)\n",
       "        1    0.000    0.000    0.000    0.000 mbcsgroupprober.py:41(MBCSGroupProber)\n",
       "        1    0.000    0.000    0.000    0.000 euctwfreq.py:44(<module>)\n",
       "        1    0.000    0.000    0.000    0.000 chardistribution.py:113(EUCTWDistributionAnalysis)\n",
       "        1    0.000    0.000    0.000    0.000 chardistribution.py:132(EUCKRDistributionAnalysis)\n",
       "        1    0.000    0.000    0.000    0.000 chardistribution.py:151(GB2312DistributionAnalysis)\n",
       "        1    0.000    0.000    0.000    0.000 chardistribution.py:170(Big5DistributionAnalysis)\n",
       "        1    0.000    0.000    0.000    0.000 chardistribution.py:192(SJISDistributionAnalysis)\n",
       "        1    0.000    0.000    0.000    0.000 chardistribution.py:217(EUCJPDistributionAnalysis)\n",
       "        1    0.000    0.000    0.000    0.000 euckrfreq.py:41(<module>)\n",
       "        1    0.000    0.000    0.000    0.000 jpcntx.py:212(EUCJPContextAnalysis)\n",
       "        1    0.000    0.000    0.000    0.000 response.py:55(GzipDecoderState)\n",
       "        1    0.000    0.000    0.000    0.000 response.py:93(MultiDecoder)\n",
       "        1    0.000    0.000    0.000    0.000 queue.py:10(LifoQueue)\n",
       "        1    0.000    0.000    0.000    0.000 connection.py:65(DummyConnection)\n",
       "        1    0.000    0.000    0.000    0.000 wait.py:13(NoWayToWaitForSocketError)\n",
       "        1    0.000    0.000    0.000    0.000 _appengine_environ.py:14(is_appengine_sandbox)\n",
       "        1    0.000    0.000    0.000    0.000 _ops.py:32(_OpNamespace)\n",
       "        1    0.000    0.000    0.000    0.000 _ops.py:68(_Ops)\n",
       "        1    0.000    0.000    0.000    0.000 exceptions.py:8(HTTPError)\n",
       "        1    0.000    0.000    0.000    0.000 exceptions.py:13(HTTPWarning)\n",
       "        1    0.000    0.000    0.000    0.000 exceptions.py:18(PoolError)\n",
       "        1    0.000    0.000    0.000    0.000 exceptions.py:45(ProxyError)\n",
       "        1    0.000    0.000    0.000    0.000 exceptions.py:50(DecodeError)\n",
       "        1    0.000    0.000    0.000    0.000 exceptions.py:66(MaxRetryError)\n",
       "        1    0.000    0.000    0.000    0.000 exceptions.py:85(HostChangedError)\n",
       "        1    0.000    0.000    0.000    0.000 exceptions.py:94(TimeoutStateError)\n",
       "        1    0.000    0.000    0.000    0.000 exceptions.py:120(NewConnectionError)\n",
       "        1    0.000    0.000    0.000    0.000 exceptions.py:135(LocationValueError)\n",
       "        1    0.000    0.000    0.000    0.000 exceptions.py:140(LocationParseError)\n",
       "        1    0.000    0.000    0.000    0.000 exceptions.py:156(SecurityWarning)\n",
       "        1    0.000    0.000    0.000    0.000 exceptions.py:171(SystemTimeWarning)\n",
       "        1    0.000    0.000    0.000    0.000 exceptions.py:181(SNIMissingWarning)\n",
       "        1    0.000    0.000    0.000    0.000 exceptions.py:194(ResponseNotChunked)\n",
       "        1    0.000    0.000    0.000    0.000 exceptions.py:207(IncompleteRead)\n",
       "        1    0.000    0.000    0.000    0.000 exceptions.py:228(ProxySchemeUnknown)\n",
       "        1    0.000    0.000    0.000    0.000 exceptions.py:237(HeaderParsingError)\n",
       "        1    0.000    0.000    0.000    0.000 __init__.py:5(ContextProp)\n",
       "        1    0.000    0.000    0.000    0.000 __init__.py:28(__init__)\n",
       "        1    0.000    0.000    0.000    0.000 __init__.py:27(CUDAModule)\n",
       "        1    0.000    0.000    0.000    0.000 constraint_registry.py:79(ConstraintRegistry)\n",
       "        1    0.000    0.000    0.000    0.000 transforms.py:77(__init__)\n",
       "        1    0.000    0.000    0.000    0.000 transforms.py:312(PowerTransform)\n",
       "        1    0.000    0.000    0.000    0.000 transforms.py:340(SigmoidTransform)\n",
       "        1    0.000    0.000    0.000    0.000 transforms.py:362(AbsTransform)\n",
       "        1    0.000    0.000    0.000    0.000 transforms.py:446(SoftmaxTransform)\n",
       "        1    0.000    0.000    0.000    0.000 transforms.py:472(StickBreakingTransform)\n",
       "        1    0.000    0.000    0.000    0.000 constraints.py:49(Constraint)\n",
       "        1    0.000    0.000    0.000    0.000 constraints.py:67(_Dependent)\n",
       "        1    0.000    0.000    0.000    0.000 constraints.py:80(_DependentProperty)\n",
       "        1    0.000    0.000    0.000    0.000 constraints.py:98(_Boolean)\n",
       "        1    0.000    0.000    0.000    0.000 constraints.py:106(_IntegerInterval)\n",
       "        1    0.000    0.000    0.000    0.000 constraints.py:123(_IntegerLessThan)\n",
       "        1    0.000    0.000    0.000    0.000 constraints.py:139(_IntegerGreaterThan)\n",
       "        1    0.000    0.000    0.000    0.000 constraints.py:155(_Real)\n",
       "        1    0.000    0.000    0.000    0.000 constraints.py:167(__init__)\n",
       "        1    0.000    0.000    0.000    0.000 constraints.py:163(_GreaterThan)\n",
       "        1    0.000    0.000    0.000    0.000 constraints.py:195(_LessThan)\n",
       "        1    0.000    0.000    0.000    0.000 constraints.py:215(__init__)\n",
       "        1    0.000    0.000    0.000    0.000 constraints.py:232(__init__)\n",
       "        1    0.000    0.000    0.000    0.000 constraints.py:228(_HalfOpenInterval)\n",
       "        1    0.000    0.000    0.000    0.000 constraints.py:254(_LowerTriangular)\n",
       "        1    0.000    0.000    0.000    0.000 constraints.py:263(_LowerCholesky)\n",
       "        1    0.000    0.000    0.000    0.000 constraints.py:277(_PositiveDefinite)\n",
       "        1    0.000    0.000    0.000    0.000 utils.py:105(lazy_property)\n",
       "        1    0.000    0.000    0.000    0.000 __init__.py:926(ScriptMeta)\n",
       "        1    0.000    0.000    0.000    0.000 __init__.py:1164(WeakScriptModuleProxy)\n",
       "        1    0.000    0.000    0.000    0.000 __init__.py:1292(TracedModule)\n",
       "        1    0.000    0.000    0.000    0.000 __init__.py:1354(_ConstModuleList)\n",
       "        1    0.000    0.000    0.000    0.000 __init__.py:1384(_ConstSequential)\n",
       "        1    0.000    0.000    0.000    0.000 __init__.py:1465(_disable_tracing)\n",
       "        1    0.000    0.000    0.000    0.000 frontend.py:90(FrontendError)\n",
       "        1    0.000    0.000    0.000    0.000 frontend.py:102(NotSupportedError)\n",
       "        1    0.000    0.000    0.000    0.000 frontend.py:106(UnsupportedNodeError)\n",
       "        1    0.000    0.000    0.000    0.000 frontend.py:119(FrontendTypeError)\n",
       "        1    0.000    0.000    0.000    0.000 frontend.py:152(SourceContext)\n",
       "        1    0.000    0.000    0.000    0.000 frontend.py:158(Builder)\n",
       "        2    0.000    0.000    0.000    0.000 annotations.py:15(__init__)\n",
       "        1    0.000    0.000    0.000    0.000 annotations.py:14(Module)\n",
       "        1    0.000    0.000    0.000    0.000 adagrad.py:5(Adagrad)\n",
       "        1    0.000    0.000    0.000    0.000 adam.py:6(Adam)\n",
       "        1    0.000    0.000    0.000    0.000 sparse_adam.py:6(SparseAdam)\n",
       "        1    0.000    0.000    0.000    0.000 adamax.py:5(Adamax)\n",
       "        1    0.000    0.000    0.000    0.000 asgd.py:6(ASGD)\n",
       "        1    0.000    0.000    0.000    0.000 rprop.py:6(Rprop)\n",
       "        1    0.000    0.000    0.000    0.000 lbfgs.py:6(LBFGS)\n",
       "        1    0.000    0.000    0.000    0.000 lr_scheduler.py:126(StepLR)\n",
       "        1    0.000    0.000    0.000    0.000 lr_scheduler.py:198(ExponentialLR)\n",
       "        1    0.000    0.000    0.000    0.000 reductions.py:20(StorageWeakRef)\n",
       "        1    0.000    0.000    0.000    0.000 reductions.py:42(__init__)\n",
       "        1    0.000    0.000    0.000    0.000 reductions.py:39(SharedCache)\n",
       "        1    0.000    0.000    0.000    0.000 resource_sharer.py:45(DupFd)\n",
       "        1    0.000    0.000    0.000    0.000 spawn.py:40(SpawnContext)\n",
       "        1    0.000    0.000    0.000    0.000 __init__.py:13(ExportTypes)\n",
       "        1    0.000    0.000    0.000    0.000 __init__.py:234(LegacyTracedModule)\n",
       "        1    0.000    0.000    0.000    0.000 __init__.py:408(TracingCheckError)\n",
       "        1    0.000    0.000    0.000    0.000 __init__.py:549(TracerWarning)\n",
       "        1    0.000    0.000    0.000    0.000 __init__.py:649(CompilationUnit)\n",
       "        1    0.000    0.000    0.000    0.000 __init__.py:847(OrderedParameterDict)\n",
       "        1    0.000    0.000    0.000    0.000 distributed_c10d.py:29(Backend)\n",
       "        1    0.000    0.000    0.000    0.000 distributed_c10d.py:71(reduce_op)\n",
       "        1    0.000    0.000    0.000    0.000 distributed_c10d.py:93(group)\n",
       "        1    0.000    0.000    0.000    0.000 distributed_c10d.py:97(GroupMember)\n",
       "        1    0.000    0.000    0.000    0.000 __init__.py:12(dist_backend)\n",
       "        1    0.000    0.000    0.000    0.000 __init__.py:149(group)\n",
       "        1    0.000    0.000    0.000    0.000 __init__.py:153(_DistributedRequest)\n",
       "        1    0.000    0.000    0.000    0.000 adadelta.py:6(Adadelta)\n",
       "        1    0.000    0.000    0.000    0.000 optimizer.py:9(_RequiredParameter)\n",
       "        1    0.000    0.000    0.000    0.000 spectral_norm.py:147(SpectralNormLoadStateDictPreHook)\n",
       "        1    0.000    0.000    0.000    0.000 spectral_norm.py:177(SpectralNormStateDictHook)\n",
       "        1    0.000    0.000    0.000    0.000 upsampling.py:143(UpsamplingNearest2d)\n",
       "        1    0.000    0.000    0.000    0.000 upsampling.py:188(UpsamplingBilinear2d)\n",
       "        1    0.000    0.000    0.000    0.000 fold.py:110(Unfold)\n",
       "        1    0.000    0.000    0.000    0.000 data_parallel.py:35(DataParallel)\n",
       "        1    0.000    0.000    0.000    0.000 _functions.py:35(ReduceAddCoalesced)\n",
       "        1    0.000    0.000    0.000    0.000 _functions.py:50(Gather)\n",
       "        1    0.000    0.000    0.000    0.000 batchnorm.py:246(BatchNorm3d)\n",
       "        1    0.000    0.000    0.000    0.000 instancenorm.py:58(InstanceNorm1d)\n",
       "        1    0.000    0.000    0.000    0.000 normalization.py:58(CrossMapLRN2d)\n",
       "        1    0.000    0.000    0.000    0.000 dropout.py:22(Dropout)\n",
       "        1    0.000    0.000    0.000    0.000 dropout.py:105(Dropout3d)\n",
       "        1    0.000    0.000    0.000    0.000 dropout.py:149(AlphaDropout)\n",
       "        1    0.000    0.000    0.000    0.000 padding.py:26(ConstantPad1d)\n",
       "        1    0.000    0.000    0.000    0.000 padding.py:75(ConstantPad2d)\n",
       "        1    0.000    0.000    0.000    0.000 padding.py:130(ConstantPad3d)\n",
       "        1    0.000    0.000    0.000    0.000 padding.py:178(ReflectionPad1d)\n",
       "        1    0.000    0.000    0.000    0.000 padding.py:370(ReplicationPad3d)\n",
       "        1    0.000    0.000    0.000    0.000 padding.py:406(ZeroPad2d)\n",
       "        1    0.000    0.000    0.000    0.000 rnn.py:232(RNN)\n",
       "        1    0.000    0.000    0.000    0.000 rnn.py:333(LSTM)\n",
       "        1    0.000    0.000    0.000    0.000 rnn.py:441(GRU)\n",
       "        1    0.000    0.000    0.000    0.000 rnn.py:537(RNNCellBase)\n",
       "        1    0.000    0.000    0.000    0.000 rnn.py:585(RNNCell)\n",
       "        1    0.000    0.000    0.000    0.000 rnn.py:658(LSTMCell)\n",
       "        1    0.000    0.000    0.000    0.000 rnn.py:736(GRUCell)\n",
       "        1    0.000    0.000    0.000    0.000 activation.py:754(Tanhshrink)\n",
       "        1    0.000    0.000    0.000    0.000 activation.py:780(Softmin)\n",
       "        1    0.000    0.000    0.000    0.000 loss.py:12(_Loss)\n",
       "        1    0.000    0.000    0.000    0.000 loss.py:21(_WeightedLoss)\n",
       "        1    0.000    0.000    0.000    0.000 loss.py:213(NLLLoss2d)\n",
       "        1    0.000    0.000    0.000    0.000 loss.py:370(MSELoss)\n",
       "        1    0.000    0.000    0.000    0.000 loss.py:907(MultiLabelSoftMarginLoss)\n",
       "        1    0.000    0.000    0.000    0.000 loss.py:1001(MarginRankingLoss)\n",
       "        1    0.000    0.000    0.000    0.000 loss.py:1049(MultiMarginLoss)\n",
       "        1    0.000    0.000    0.000    0.000 container.py:11(Container)\n",
       "        1    0.000    0.000    0.000    0.000 pooling.py:84(MaxPool2d)\n",
       "        1    0.000    0.000    0.000    0.000 pooling.py:222(_MaxUnpoolNd)\n",
       "        1    0.000    0.000    0.000    0.000 pooling.py:231(MaxUnpool1d)\n",
       "        1    0.000    0.000    0.000    0.000 pooling.py:297(MaxUnpool2d)\n",
       "        1    0.000    0.000    0.000    0.000 pooling.py:371(MaxUnpool3d)\n",
       "        1    0.000    0.000    0.000    0.000 pooling.py:434(_AvgPoolNd)\n",
       "        1    0.000    0.000    0.000    0.000 pooling.py:707(_LPPoolNd)\n",
       "        1    0.000    0.000    0.000    0.000 pooling.py:822(_AdaptiveMaxPoolNd)\n",
       "        1    0.000    0.000    0.000    0.000 pooling.py:838(AdaptiveMaxPool1d)\n",
       "        1    0.000    0.000    0.000    0.000 pooling.py:936(_AdaptiveAvgPoolNd)\n",
       "        1    0.000    0.000    0.000    0.000 __init__.py:160(flags_frozen)\n",
       "        1    0.000    0.000    0.000    0.000 __init__.py:187(CuDNNHandle)\n",
       "        1    0.000    0.000    0.000    0.000 __init__.py:197(CuDNNError)\n",
       "        1    0.000    0.000    0.000    0.000 __init__.py:226(TensorDescriptorArray)\n",
       "        1    0.000    0.000    0.000    0.000 __init__.py:277(DropoutDescriptor)\n",
       "        1    0.000    0.000    0.000    0.000 __init__.py:321(RNNDescriptor)\n",
       "        1    0.000    0.000    0.000    0.000 _VF.py:11(__getattr__)\n",
       "        1    0.000    0.000    0.000    0.000 _VF.py:6(VFModule)\n",
       "        1    0.000    0.000    0.000    0.000 activation.py:59(ReLU)\n",
       "        1    0.000    0.000    0.000    0.000 activation.py:89(RReLU)\n",
       "        1    0.000    0.000    0.000    0.000 activation.py:210(ReLU6)\n",
       "        1    0.000    0.000    0.000    0.000 activation.py:242(Sigmoid)\n",
       "        1    0.000    0.000    0.000    0.000 activation.py:295(ELU)\n",
       "        1    0.000    0.000    0.000    0.000 activation.py:335(CELU)\n",
       "        1    0.000    0.000    0.000    0.000 activation.py:380(SELU)\n",
       "        1    0.000    0.000    0.000    0.000 activation.py:459(Hardshrink)\n",
       "        1    0.000    0.000    0.000    0.000 activation.py:501(LeakyReLU)\n",
       "        1    0.000    0.000    0.000    0.000 activation.py:551(LogSigmoid)\n",
       "        1    0.000    0.000    0.000    0.000 activation.py:621(Softshrink)\n",
       "        1    0.000    0.000    0.000    0.000 parameter.py:5(Parameter)\n",
       "        1    0.000    0.000    0.000    0.000 profiler.py:12(range)\n",
       "        1    0.000    0.000    0.000    0.000 profiler.py:225(emit_nvtx)\n",
       "        1    0.000    0.000    0.000    0.000 profiler.py:360(Interval)\n",
       "        1    0.000    0.000    0.000    0.000 profiler.py:407(FunctionEventAvg)\n",
       "        1    0.000    0.000    0.000    0.000 tensor.py:7(Type)\n",
       "        1    0.000    0.000    0.000    0.000 tensor.py:25(Resize)\n",
       "        1    0.000    0.000    0.000    0.000 grad_mode.py:47(enable_grad)\n",
       "        1    0.000    0.000    0.000    0.000 grad_mode.py:91(set_grad_enabled)\n",
       "        1    0.000    0.000    0.000    0.000 anomaly_mode.py:75(set_detect_anomaly)\n",
       "        1    0.000    0.000    0.000    0.000 variable.py:5(VariableMeta)\n",
       "        1    0.000    0.000    0.000    0.000 variable.py:10(Variable)\n",
       "        1    0.000    0.000    0.000    0.000 function.py:61(_HookMixin)\n",
       "        1    0.000    0.000    0.000    0.000 function.py:72(BackwardCFunction)\n",
       "        1    0.000    0.000    0.000    0.000 function.py:79(FunctionMeta)\n",
       "        1    0.000    0.000    0.000    0.000 function.py:242(InplaceFunction)\n",
       "        1    0.000    0.000    0.000    0.000 thnn.py:4(THNNFunctionBackend)\n",
       "        1    0.000    0.000    0.000    0.000 backend.py:4(__init__)\n",
       "        1    0.000    0.000    0.000    0.000 backend.py:2(FunctionBackend)\n",
       "        1    0.000    0.000    0.000    0.000 __init__.py:6(Backends)\n",
       "        1    0.000    0.000    0.000    0.000 utils.py:45(Function)\n",
       "        1    0.000    0.000    0.000    0.000 utils.py:59(Argument)\n",
       "        1    0.000    0.000    0.000    0.000 __init__.py:73(_check_driver)\n",
       "        1    0.000    0.000    0.000    0.000 __init__.py:195(cudaStatus)\n",
       "        1    0.000    0.000    0.000    0.000 __init__.py:200(CudaError)\n",
       "        1    0.000    0.000    0.000    0.000 __init__.py:237(device_of)\n",
       "        1    0.000    0.000    0.000    0.000 __init__.py:499(_CudaBase)\n",
       "        1    0.000    0.000    0.000    0.000 __init__.py:510(DoubleStorage)\n",
       "        1    0.000    0.000    0.000    0.000 __init__.py:534(ByteStorage)\n",
       "        1    0.000    0.000    0.000    0.000 tarfile.py:275(TarError)\n",
       "        1    0.000    0.000    0.000    0.000 tarfile.py:278(ExtractError)\n",
       "        1    0.000    0.000    0.000    0.000 tarfile.py:287(StreamError)\n",
       "        1    0.000    0.000    0.000    0.000 tarfile.py:290(HeaderError)\n",
       "        1    0.000    0.000    0.000    0.000 tarfile.py:293(EmptyHeaderError)\n",
       "        1    0.000    0.000    0.000    0.000 tarfile.py:296(TruncatedHeaderError)\n",
       "        1    0.000    0.000    0.000    0.000 tarfile.py:299(EOFHeaderError)\n",
       "        1    0.000    0.000    0.000    0.000 tarfile.py:582(_StreamProxy)\n",
       "        1    0.000    0.000    0.000    0.000 _tensor_str.py:8(__PrinterOptions)\n",
       "        1    0.000    0.000    0.000    0.000 _tensor_str.py:68(_Formatter)\n",
       "        1    0.000    0.000    0.000    0.000 _utils_internal.py:28(prepare_multiprocessing_environment)\n",
       "        1    0.000    0.000    0.000    0.000 extras.py:218(_fromnxfunction)\n",
       "        1    0.000    0.000    0.000    0.000 extras.py:273(_fromnxfunction_single)\n",
       "        1    0.000    0.000    0.000    0.000 extras.py:329(_fromnxfunction_allargs)\n",
       "        1    0.000    0.000    0.000    0.000 extras.py:1473(mr_class)\n",
       "        1    0.000    0.000    0.000    0.000 __init__.py:194(DoubleStorage)\n",
       "        1    0.000    0.000    0.000    0.000 __init__.py:202(HalfStorage)\n",
       "        1    0.000    0.000    0.000    0.000 __init__.py:214(ShortStorage)\n",
       "        1    0.000    0.000    0.000    0.000 __init__.py:222(ByteStorage)\n",
       "        2    0.000    0.000    0.000    0.000 {method 'view' of 'numpy.ndarray' objects}\n",
       "        1    0.000    0.000    0.000    0.000 {built-in method numpy.core.multiarray.set_typeDict}\n",
       "        1    0.000    0.000    0.000    0.000 core.py:174(MaskError)\n",
       "        1    0.000    0.000    0.000    0.000 core.py:206(<listcomp>)\n",
       "        1    0.000    0.000    0.000    0.000 core.py:208(<listcomp>)\n",
       "        1    0.000    0.000    0.000    0.000 core.py:796(_DomainCheckInterval)\n",
       "        1    0.000    0.000    0.000    0.000 core.py:829(__init__)\n",
       "        1    0.000    0.000    0.000    0.000 core.py:821(_DomainTan)\n",
       "        1    0.000    0.000    0.000    0.000 core.py:839(_DomainSafeDivide)\n",
       "        2    0.000    0.000    0.000    0.000 core.py:882(__init__)\n",
       "        1    0.000    0.000    0.000    0.000 core.py:876(_DomainGreaterEqual)\n",
       "        1    0.000    0.000    0.000    0.000 core.py:902(_MaskedUnaryOperation)\n",
       "        1    0.000    0.000    0.000    0.000 core.py:976(_MaskedBinaryOperation)\n",
       "        1    0.000    0.000    0.000    0.000 core.py:1124(_DomainedBinaryOperation)\n",
       "        1    0.000    0.000    0.000    0.000 core.py:1283(_replace_dtype_fields_recursive)\n",
       "        1    0.000    0.000    0.000    0.000 core.py:2384(__init__)\n",
       "        1    0.000    0.000    0.000    0.000 core.py:6557(_frommethod)\n",
       "        1    0.000    0.000    0.000    0.000 core.py:95(MaskedArrayFutureWarning)\n",
       "        1    0.000    0.000    0.000    0.000 _internal.py:683(TooHardError)\n",
       "        1    0.000    0.000    0.000    0.000 _internal.py:686(AxisError)\n",
       "        1    0.000    0.000    0.000    0.000 _internal.py:204(dummy_ctype)\n",
       "        1    0.000    0.000    0.000    0.000 _internal.py:239(_missing_ctypes)\n",
       "        1    0.000    0.000    0.000    0.000 numerictypes.py:750(_typedict)\n",
       "        1    0.000    0.000    0.000    0.000 numeric.py:83(ComplexWarning)\n",
       "        1    0.000    0.000    0.000    0.000 helper.py:224(_FFTCache)\n",
       "        1    0.000    0.000    0.000    0.000 _version.py:1(<module>)\n",
       "        1    0.000    0.000    0.000    0.000 polyutils.py:58(RankWarning)\n",
       "        1    0.000    0.000    0.000    0.000 _iotools.py:464(ConverterError)\n",
       "        1    0.000    0.000    0.000    0.000 _iotools.py:480(ConversionWarning)\n",
       "        1    0.000    0.000    0.000    0.000 _distributor_init.py:14(__init__)\n",
       "        1    0.000    0.000    0.000    0.000 stride_tricks.py:15(DummyArray)\n",
       "        1    0.000    0.000    0.000    0.000 polynomial.py:22(RankWarning)\n",
       "        1    0.000    0.000    0.000    0.000 index_tricks.py:451(CClass)\n",
       "        1    0.000    0.000    0.000    0.000 index_tricks.py:481(ndenumerate)\n",
       "        1    0.000    0.000    0.000    0.000 index_tricks.py:531(ndindex)\n",
       "        2    0.000    0.000    0.000    0.000 index_tricks.py:653(__init__)\n",
       "        1    0.000    0.000    0.000    0.000 index_tricks.py:609(IndexExpression)\n",
       "        1    0.000    0.000    0.000    0.000 function_base.py:1760(vectorize)\n",
       "        1    0.000    0.000    0.000    0.000 linalg.py:44(LinAlgError)\n",
       "        1    0.000    0.000    0.000    0.000 numeric.py:2824(errstate)\n",
       "        1    0.000    0.000    0.000    0.000 arrayprint.py:810(FloatingFormat)\n",
       "        1    0.000    0.000    0.000    0.000 arrayprint.py:953(FloatFormat)\n",
       "        1    0.000    0.000    0.000    0.000 arrayprint.py:960(LongFloatFormat)\n",
       "        1    0.000    0.000    0.000    0.000 arrayprint.py:1109(IntegerFormat)\n",
       "        1    0.000    0.000    0.000    0.000 arrayprint.py:1122(BoolFormat)\n",
       "        1    0.000    0.000    0.000    0.000 arrayprint.py:1132(ComplexFloatingFormat)\n",
       "        1    0.000    0.000    0.000    0.000 arrayprint.py:1161(ComplexFormat)\n",
       "        1    0.000    0.000    0.000    0.000 arrayprint.py:1168(LongComplexFormat)\n",
       "        1    0.000    0.000    0.000    0.000 arrayprint.py:1234(TimedeltaFormat)\n",
       "        1    0.000    0.000    0.000    0.000 arrayprint.py:1239(SubArrayFormat)\n",
       "        1    0.000    0.000    0.000    0.000 arrayprint.py:1286(StructureFormat)\n",
       "        1    0.000    0.000    0.000    0.000 records.py:85(format_parser)\n",
       "        1    0.000    0.000    0.000    0.000 signals.py:9(_InterruptHandler)\n",
       "        1    0.000    0.000    0.000    0.000 utils.py:1212(_Dummy)\n",
       "        1    0.000    0.000    0.000    0.000 utils.py:1816(IgnoreException)\n",
       "        1    0.000    0.000    0.000    0.000 utils.py:1858(clear_and_catch_warnings)\n",
       "        1    0.000    0.000    0.000    0.000 utils.py:57(_Deprecate)\n",
       "        1    0.000    0.000    0.000    0.000 decorators.py:99(skipif)\n",
       "        1    0.000    0.000    0.000    0.000 nosetester.py:115(NoseTester)\n",
       "        1    0.000    0.000    0.000    0.000 pytesttester.py:47(PytestTester)\n",
       "        2    0.000    0.000    0.000    0.000 index_tricks.py:159(__init__)\n",
       "        1    0.000    0.000    0.000    0.000 case.py:128(_BaseTestCaseContext)\n",
       "        1    0.000    0.000    0.000    0.000 loader.py:23(_FailedTest)\n",
       "        1    0.000    0.000    0.000    0.000 memmap.py:20(memmap)\n",
       "        1    0.000    0.000    0.000    0.000 machar.py:17(MachAr)\n",
       "        2    0.000    0.000    0.000    0.000 getlimits.py:104(_str_resolution)\n",
       "        1    0.000    0.000    0.000    0.000 getlimits.py:305(finfo)\n",
       "        1    0.000    0.000    0.000    0.000 case.py:25(SkipTest)\n",
       "        1    0.000    0.000    0.000    0.000 case.py:33(_ShouldStop)\n",
       "        1    0.000    0.000    0.000    0.000 pyparsing.py:2386(Token)\n",
       "        1    0.000    0.000    0.000    0.000 pyparsing.py:2394(Empty)\n",
       "        1    0.000    0.000    0.000    0.000 pyparsing.py:2405(NoMatch)\n",
       "        1    0.000    0.000    0.000    0.000 pyparsing.py:2420(Literal)\n",
       "        1    0.000    0.000    0.000    0.000 pyparsing.py:2526(CaselessLiteral)\n",
       "        1    0.000    0.000    0.000    0.000 pyparsing.py:2549(CaselessKeyword)\n",
       "        1    0.000    0.000    0.000    0.000 pyparsing.py:2567(CloseMatch)\n",
       "        1    0.000    0.000    0.000    0.000 pyparsing.py:2628(Word)\n",
       "        1    0.000    0.000    0.000    0.000 pyparsing.py:2787(Char)\n",
       "        1    0.000    0.000    0.000    0.000 pyparsing.py:3041(CharsNotIn)\n",
       "        1    0.000    0.000    0.000    0.000 pyparsing.py:3112(White)\n",
       "        1    0.000    0.000    0.000    0.000 pyparsing.py:3163(_PositionToken)\n",
       "        1    0.000    0.000    0.000    0.000 pyparsing.py:3170(GoToColumn)\n",
       "        1    0.000    0.000    0.000    0.000 pyparsing.py:3217(__init__)\n",
       "        1    0.000    0.000    0.000    0.000 pyparsing.py:3261(StringEnd)\n",
       "        1    0.000    0.000    0.000    0.000 pyparsing.py:3279(WordStart)\n",
       "        1    0.000    0.000    0.000    0.000 pyparsing.py:3299(WordEnd)\n",
       "        1    0.000    0.000    0.000    0.000 pyparsing.py:3419(setResultsName)\n",
       "        1    0.000    0.000    0.000    0.000 pyparsing.py:3450(_ErrorStop)\n",
       "        1    0.000    0.000    0.000    0.000 pyparsing.py:3434(And)\n",
       "        1    0.000    0.000    0.000    0.000 pyparsing.py:3589(MatchFirst)\n",
       "        1    0.000    0.000    0.000    0.000 pyparsing.py:3657(Each)\n",
       "        1    0.000    0.000    0.000    0.000 pyparsing.py:3858(FollowedBy)\n",
       "        1    0.000    0.000    0.000    0.000 pyparsing.py:3887(PrecededBy)\n",
       "        1    0.000    0.000    0.000    0.000 pyparsing.py:3960(NotAny)\n",
       "        1    0.000    0.000    0.000    0.000 pyparsing.py:4076(ZeroOrMore)\n",
       "        1    0.000    0.000    0.000    0.000 pyparsing.py:4107(_NullToken)\n",
       "        1    0.000    0.000    0.000    0.000 pyparsing.py:4115(Optional)\n",
       "        1    0.000    0.000    0.000    0.000 pyparsing.py:4179(SkipTo)\n",
       "        1    0.000    0.000    0.000    0.000 pyparsing.py:4294(Forward)\n",
       "        1    0.000    0.000    0.000    0.000 pyparsing.py:4379(TokenConverter)\n",
       "        1    0.000    0.000    0.000    0.000 pyparsing.py:4431(Group)\n",
       "        1    0.000    0.000    0.000    0.000 pyparsing.py:4452(Dict)\n",
       "        4    0.000    0.000    0.000    0.000 pyparsing.py:4536(postParse)\n",
       "        1    0.000    0.000    0.000    0.000 pyparsing.py:4543(OnlyOnce)\n",
       "        1    0.000    0.000    0.000    0.000 pyparsing.py:5832(_lazyclassproperty)\n",
       "        1    0.000    0.000    0.000    0.000 pyparsing.py:5867(Latin1)\n",
       "        1    0.000    0.000    0.000    0.000 pyparsing.py:5872(Greek)\n",
       "        1    0.000    0.000    0.000    0.000 pyparsing.py:5879(Cyrillic)\n",
       "        1    0.000    0.000    0.000    0.000 pyparsing.py:5894(Katakana)\n",
       "        1    0.000    0.000    0.000    0.000 pyparsing.py:5897(Korean)\n",
       "        1    0.000    0.000    0.000    0.000 pyparsing.py:5904(Thai)\n",
       "        1    0.000    0.000    0.000    0.000 pyparsing.py:5910(Hebrew)\n",
       "        1    0.000    0.000    0.000    0.000 pyparsing.py:5913(Devanagari)\n",
       "        1    0.000    0.000    0.000    0.000 rcsetup.py:283(validate_nseq_float)\n",
       "        1    0.000    0.000    0.000    0.000 rcsetup.py:309(__init__)\n",
       "        2    0.000    0.000    0.000    0.000 rcsetup.py:315(<listcomp>)\n",
       "        1    0.000    0.000    0.000    0.000 rcsetup.py:308(validate_nseq_int)\n",
       "        3    0.000    0.000    0.000    0.000 rcsetup.py:422(validate_fontsize_None)\n",
       "        1    0.000    0.000    0.000    0.000 rcsetup.py:657(ValidateInterval)\n",
       "        1    0.000    0.000    0.000    0.000 pyparsing.py:196(<genexpr>)\n",
       "        1    0.000    0.000    0.000    0.000 pyparsing.py:271(ParseException)\n",
       "        1    0.000    0.000    0.000    0.000 pyparsing.py:292(ParseFatalException)\n",
       "        1    0.000    0.000    0.000    0.000 pyparsing.py:297(ParseSyntaxException)\n",
       "        1    0.000    0.000    0.000    0.000 pyparsing.py:324(_ParseResultsWithOffset)\n",
       "        1    0.000    0.000    0.000    0.000 pyparsing.py:1477(_UnboundedCache)\n",
       "        1    0.000    0.000    0.000    0.000 pyparsing.py:1500(_FifoCache)\n",
       "        1    0.000    0.000    0.000    0.000 version.py:31(Version)\n",
       "        1    0.000    0.000    0.000    0.000 __init__.py:70(_StrongRef)\n",
       "        1    0.000    0.000    0.000    0.000 __init__.py:225(silent_list)\n",
       "        1    0.000    0.000    0.000    0.000 __init__.py:315(Bunch)\n",
       "        1    0.000    0.000    0.000    0.000 __init__.py:505(GetRealpathAndStat)\n",
       "        1    0.000    0.000    0.000    0.000 __init__.py:609(maxdict)\n",
       "        3    0.000    0.000    0.000    0.000 __init__.py:904(<dictcomp>)\n",
       "        1    0.000    0.000    0.000    0.000 __init__.py:1274(<dictcomp>)\n",
       "        1    0.000    0.000    0.000    0.000 __init__.py:1784(TimeoutError)\n",
       "        1    0.000    0.000    0.000    0.000 __init__.py:2020(_OrderedSet)\n",
       "        1    0.000    0.000    0.000    0.000 deprecation.py:6(MatplotlibDeprecationWarning)\n",
       "        3    0.000    0.000    0.000    0.000 rcsetup.py:103(validate_any)\n",
       "        3    0.000    0.000    0.000    0.000 rcsetup.py:168(validate_string_or_None)\n",
       "        1    0.000    0.000    0.000    0.000 __init__.py:313(set_level)\n",
       "        1    0.000    0.000    0.000    0.000 __init__.py:491(checkdep_ps_distiller)\n",
       "        1    0.000    0.000    0.000    0.000 __init__.py:1424(is_interactive)\n",
       "        1    0.000    0.000    0.000    0.000 cifar.py:174(CIFAR100)\n",
       "        1    0.000    0.000    0.000    0.000 mnist.py:155(FashionMNIST)\n",
       "        1    0.000    0.000    0.000    0.000 fakedata.py:6(FakeData)\n",
       "        1    0.000    0.000    0.000    0.000 transforms.py:31(Compose)\n",
       "        1    0.000    0.000    0.000    0.000 transforms.py:61(ToTensor)\n",
       "        1    0.000    0.000    0.000    0.000 transforms.py:82(ToPILImage)\n",
       "        1    0.000    0.000    0.000    0.000 transforms.py:120(Normalize)\n",
       "        1    0.000    0.000    0.000    0.000 transforms.py:182(Scale)\n",
       "        1    0.000    0.000    0.000    0.000 transforms.py:192(CenterCrop)\n",
       "        1    0.000    0.000    0.000    0.000 transforms.py:221(Pad)\n",
       "        1    0.000    0.000    0.000    0.000 transforms.py:271(Lambda)\n",
       "        1    0.000    0.000    0.000    0.000 transforms.py:289(RandomTransforms)\n",
       "        1    0.000    0.000    0.000    0.000 transforms.py:341(RandomOrder)\n",
       "        1    0.000    0.000    0.000    0.000 transforms.py:429(RandomHorizontalFlip)\n",
       "        1    0.000    0.000    0.000    0.000 transforms.py:557(RandomSizedCrop)\n",
       "        1    0.000    0.000    0.000    0.000 transforms.py:567(FiveCrop)\n",
       "        1    0.000    0.000    0.000    0.000 transforms.py:649(LinearTransformation)\n",
       "        1    0.000    0.000    0.000    0.000 transforms.py:695(ColorJitter)\n",
       "        1    0.000    0.000    0.000    0.000 transforms.py:767(RandomRotation)\n",
       "        1    0.000    0.000    0.000    0.000 transforms.py:834(RandomAffine)\n",
       "        1    0.000    0.000    0.000    0.000 transforms.py:984(RandomGrayscale)\n",
       "        1    0.000    0.000    0.000    0.000 ImageEnhance.py:24(_Enhance)\n",
       "        1    0.000    0.000    0.000    0.000 ImageEnhance.py:40(Color)\n",
       "        1    0.000    0.000    0.000    0.000 ImageEnhance.py:58(Contrast)\n",
       "        1    0.000    0.000    0.000    0.000 ImageEnhance.py:74(Brightness)\n",
       "        1    0.000    0.000    0.000    0.000 ImageFilter.py:28(Filter)\n",
       "        1    0.000    0.000    0.000    0.000 ImageFilter.py:32(MultibandFilter)\n",
       "        1    0.000    0.000    0.000    0.000 ImageFilter.py:36(BuiltinFilter)\n",
       "        1    0.000    0.000    0.000    0.000 ImageFilter.py:43(Kernel)\n",
       "        1    0.000    0.000    0.000    0.000 ImageFilter.py:71(RankFilter)\n",
       "        1    0.000    0.000    0.000    0.000 ImageFilter.py:108(MinFilter)\n",
       "        1    0.000    0.000    0.000    0.000 ImageFilter.py:122(MaxFilter)\n",
       "        1    0.000    0.000    0.000    0.000 ImageFilter.py:136(ModeFilter)\n",
       "        1    0.000    0.000    0.000    0.000 ImageFilter.py:167(BoxBlur)\n",
       "        1    0.000    0.000    0.000    0.000 ImageFilter.py:212(BLUR)\n",
       "        1    0.000    0.000    0.000    0.000 ImageFilter.py:223(CONTOUR)\n",
       "        1    0.000    0.000    0.000    0.000 ImageFilter.py:232(DETAIL)\n",
       "        1    0.000    0.000    0.000    0.000 ImageFilter.py:241(EDGE_ENHANCE)\n",
       "        1    0.000    0.000    0.000    0.000 ImageFilter.py:268(FIND_EDGES)\n",
       "        1    0.000    0.000    0.000    0.000 ImageFilter.py:277(SHARPEN)\n",
       "        1    0.000    0.000    0.000    0.000 ImageFilter.py:295(SMOOTH_MORE)\n",
       "        1    0.000    0.000    0.000    0.000 syspathcontext.py:45(__init__)\n",
       "        1    0.000    0.000    0.000    0.000 builtin_trap.py:39(__enter__)\n",
       "        1    0.000    0.000    0.000    0.000 util.py:48(debug)\n",
       "        1    0.000    0.000    0.000    0.000 argparse.py:1211(__init__)\n",
       "        1    0.000    0.000    0.000    0.000 argparse.py:2071(_match_arguments_partial)\n",
       "        2    0.000    0.000    0.000    0.000 argparse.py:136(_get_args)\n",
       "        1    0.000    0.000    0.000    0.000 argparse.py:595(<listcomp>)\n",
       "        1    0.000    0.000    0.000    0.000 {method 'pack' of 'Struct' objects}\n",
       "        1    0.000    0.000    0.000    0.000 {method 'toordinal' of 'datetime.date' objects}\n",
       "        1    0.000    0.000    0.000    0.000 glob.py:22(iglob)\n",
       "        1    0.000    0.000    0.000    0.000 sre_parse.py:287(seek)\n",
       "        1    0.000    0.000    0.000    0.000 _globals.py:33(ModuleDeprecationWarning)\n",
       "        1    0.000    0.000    0.000    0.000 _globals.py:45(VisibleDeprecationWarning)\n",
       "        1    0.000    0.000    0.000    0.000 enum.py:337(__members__)\n",
       "        1    0.000    0.000    0.000    0.000 codecs.py:213(setstate)\n",
       "        1    0.000    0.000    0.000    0.000 {method '__prepare__' of 'type' objects}\n",
       "        1    0.000    0.000    0.000    0.000 {method 'count' of 'list' objects}\n",
       "        1    0.000    0.000    0.000    0.000 type_checkers.py:125(IntValueChecker)\n",
       "        2    0.000    0.000    0.000    0.000 decoder.py:107(_VarintDecoder)\n",
       "        1    0.000    0.000    0.000    0.000 decoder.py:323(_DoubleDecoder)\n",
       "        2    0.000    0.000    0.000    0.000 encoder.py:126(_SimpleSizer)\n",
       "        1    0.000    0.000    0.000    0.000 encoder.py:470(_ModifiedEncoder)\n",
       "        1    0.000    0.000    0.000    0.000 text_format.py:73(Error)\n",
       "        1    0.000    0.000    0.000    0.000 parse.py:16(ParseError)\n",
       "        1    0.000    0.000    0.000    0.000 refactor.py:688(MultiprocessingUnsupported)\n",
       "        2    0.000    0.000    0.000    0.000 tokenize.py:50(maybe)\n",
       "        1    0.000    0.000    0.000    0.000 tokenize.py:164(TokenError)\n",
       "        1    0.000    0.000    0.000    0.000 tokenize.py:166(StopTokenizing)\n",
       "        1    0.000    0.000    0.000    0.000 plugin_text_pb2.py:5(<lambda>)\n",
       "        1    0.000    0.000    0.000    0.000 message.py:39(Error)\n",
       "        1    0.000    0.000    0.000    0.000 message.py:40(DecodeError)\n",
       "        1    0.000    0.000    0.000    0.000 message.py:41(EncodeError)\n",
       "        1    0.000    0.000    0.000    0.000 descriptor_database.py:38(Error)\n",
       "        1    0.000    0.000    0.000    0.000 descriptor_database.py:42(DescriptorDatabaseConflictingDefinitionError)\n",
       "        1    0.000    0.000    0.000    0.000 descriptor.py:51(Error)\n",
       "        1    0.000    0.000    0.000    0.000 markers.py:71(Op)\n",
       "        1    0.000    0.000    0.000    0.000 pyparsing.py:2364(Token)\n",
       "        1    0.000    0.000    0.000    0.000 pyparsing.py:2372(Empty)\n",
       "        1    0.000    0.000    0.000    0.000 pyparsing.py:3097(_PositionToken)\n",
       "        1    0.000    0.000    0.000    0.000 pyparsing.py:3160(LineEnd)\n",
       "        1    0.000    0.000    0.000    0.000 pyparsing.py:3850(_MultipleMatch)\n",
       "        1    0.000    0.000    0.000    0.000 pyparsing.py:3954(_NullToken)\n",
       "        1    0.000    0.000    0.000    0.000 pyparsing.py:4226(TokenConverter)\n",
       "        4    0.000    0.000    0.000    0.000 pyparsing.py:4383(postParse)\n",
       "        1    0.000    0.000    0.000    0.000 pyparsing.py:183(<genexpr>)\n",
       "        1    0.000    0.000    0.000    0.000 pyparsing.py:195(_Constants)\n",
       "        1    0.000    0.000    0.000    0.000 pyparsing.py:261(ParseException)\n",
       "        1    0.000    0.000    0.000    0.000 pyparsing.py:282(ParseFatalException)\n",
       "        1    0.000    0.000    0.000    0.000 pyparsing.py:306(RecursiveGrammarException)\n",
       "        2    0.000    0.000    0.000    0.000 six.py:451(Module_six_moves_urllib_robotparser)\n",
       "        1    0.000    0.000    0.000    0.000 version.py:36(InvalidVersion)\n",
       "        1    0.000    0.000    0.000    0.000 __init__.py:8(<module>)\n",
       "        1    0.000    0.000    0.000    0.000 __init__.py:1484(EggProvider)\n",
       "        1    0.000    0.000    0.000    0.000 __init__.py:1817(PathMetadata)\n",
       "        1    0.000    0.000    0.000    0.000 __init__.py:1842(EggMetadata)\n",
       "        1    0.000    0.000    0.000    0.000 misc.py:11(LinAlgWarning)\n",
       "        1    0.000    0.000    0.000    0.000 normalization.py:134(MovingBatchNorm2d)\n",
       "        1    0.000    0.000    0.000    0.000 odefunc_rl.py:73(Lambda)\n",
       "        1    0.000    0.000    0.000    0.000 multiscale_parallel.py:115(ParallelSumModules)\n",
       "        1    0.000    0.000    0.000    0.000 basic.py:45(ConcatLinear)\n",
       "        1    0.000    0.000    0.000    0.000 basic.py:166(ConcatConv2d_v2)\n",
       "        1    0.000    0.000    0.000    0.000 basic.py:242(GatedConvTranspose)\n",
       "        1    0.000    0.000    0.000    0.000 rk_common.py:8(_RungeKuttaState)\n",
       "        1    0.000    0.000    0.000    0.000 polar.py:184(ThetaFormatter)\n",
       "        1    0.000    0.000    0.000    0.000 scale.py:131(Log10Transform)\n",
       "        1    0.000    0.000    0.000    0.000 scale.py:138(InvertedLog10Transform)\n",
       "        1    0.000    0.000    0.000    0.000 scale.py:145(Log2Transform)\n",
       "        1    0.000    0.000    0.000    0.000 scale.py:166(InvertedNaturalLogTransform)\n",
       "        1    0.000    0.000    0.000    0.000 axis.py:655(_LazyTickList)\n",
       "        1    0.000    0.000    0.000    0.000 triinterpolate.py:1080(_DOF_estimator_user)\n",
       "        1    0.000    0.000    0.000    0.000 mlab.py:3033(FormatMillions)\n",
       "        1    0.000    0.000    0.000    0.000 dates.py:1434(MonthLocator)\n",
       "        1    0.000    0.000    0.000    0.000 dates.py:1514(HourLocator)\n",
       "        1    0.000    0.000    0.000    0.000 dates.py:1554(SecondLocator)\n",
       "        1    0.000    0.000    0.000    0.000 container.py:128(ErrorbarContainer)\n",
       "        1    0.000    0.000    0.000    0.000 container.py:160(StemContainer)\n",
       "        1    0.000    0.000    0.000    0.000 backend_bases.py:1324(CloseEvent)\n",
       "        1    0.000    0.000    0.000    0.000 backend_bases.py:1485(PickEvent)\n",
       "        1    0.000    0.000    0.000    0.000 backend_tools.py:753(ConfigureSubplotsBase)\n",
       "        1    0.000    0.000    0.000    0.000 offsetbox.py:273(PackerBase)\n",
       "        1    0.000    0.000    0.000    0.000 dviread.py:711(Tfm)\n",
       "        1    0.000    0.000    0.000    0.000 mathtext.py:1053(StixSansFonts)\n",
       "        1    0.000    0.000    0.000    0.000 mathtext.py:1307(DejaVuSerifFontConstants)\n",
       "        1    0.000    0.000    0.000    0.000 mathtext.py:1418(Hbox)\n",
       "        1    0.000    0.000    0.000    0.000 mathtext.py:1885(Fil)\n",
       "        1    0.000    0.000    0.000    0.000 mathtext.py:1889(Fill)\n",
       "        1    0.000    0.000    0.000    0.000 mathtext.py:1901(NegFill)\n",
       "        1    0.000    0.000    0.000    0.000 mathtext.py:1905(NegFilll)\n",
       "        1    0.000    0.000    0.000    0.000 mathtext.py:1913(HCentered)\n",
       "        1    0.000    0.000    0.000    0.000 mathtext.py:1922(VCentered)\n",
       "        1    0.000    0.000    0.000    0.000 mathtext.py:1959(SubSuperCluster)\n",
       "        1    0.000    0.000    0.000    0.000 mathtext.py:1973(AutoHeightChar)\n",
       "        1    0.000    0.000    0.000    0.000 patches.py:3355(Curve)\n",
       "        1    0.000    0.000    0.000    0.000 patches.py:3383(CurveB)\n",
       "        1    0.000    0.000    0.000    0.000 patches.py:3421(CurveFilledA)\n",
       "        1    0.000    0.000    0.000    0.000 patches.py:3614(BracketB)\n",
       "        1    0.000    0.000    0.000    0.000 patches.py:2815(Angle3)\n",
       "        1    0.000    0.000    0.000    0.000 patches.py:2853(Angle)\n",
       "        1    0.000    0.000    0.000    0.000 patches.py:2915(Arc)\n",
       "        1    0.000    0.000    0.000    0.000 font_manager.py:832(JSONEncoder)\n",
       "        1    0.000    0.000    0.000    0.000 ticker.py:1124(LogFormatterSciNotation)\n",
       "        1    0.000    0.000    0.000    0.000 transforms.py:2654(BboxTransformToMaxOnly)\n",
       "        1    0.000    0.000    0.000    0.000 colors.py:1338(NoNorm)\n",
       "        1    0.000    0.000    0.000    0.000 error.py:20(VerificationMissing)\n",
       "        1    0.000    0.000    0.000    0.000 model.py:239(FunctionPtrType)\n",
       "        1    0.000    0.000    0.000    0.000 model.py:479(UnionType)\n",
       "        1    0.000    0.000    0.000    0.000 dataset.py:90(Subset)\n",
       "        1    0.000    0.000    0.000    0.000 Image.py:44(DecompressionBombError)\n",
       "        1    0.000    0.000    0.000    0.000 inception.py:162(InceptionB)\n",
       "        1    0.000    0.000    0.000    0.000 inception.py:185(InceptionC)\n",
       "        1    0.000    0.000    0.000    0.000 inception.py:250(InceptionE)\n",
       "        1    0.000    0.000    0.000    0.000 inception.py:292(InceptionAux)\n",
       "        1    0.000    0.000    0.000    0.000 synchronize.py:159(Lock)\n",
       "        1    0.000    0.000    0.000    0.000 socks.py:129(SOCKSHTTPSConnection)\n",
       "        1    0.000    0.000    0.000    0.000 socks.py:133(SOCKSHTTPConnectionPool)\n",
       "        1    0.000    0.000    0.000    0.000 socks.py:137(SOCKSHTTPSConnectionPool)\n",
       "        1    0.000    0.000    0.000    0.000 socks.py:127(ProxyConnectionError)\n",
       "        1    0.000    0.000    0.000    0.000 socks.py:139(SOCKS4Error)\n",
       "        1    0.000    0.000    0.000    0.000 socks.py:143(HTTPError)\n",
       "        1    0.000    0.000    0.000    0.000 _tqdm.py:67(TqdmMonitorWarning)\n",
       "        1    0.000    0.000    0.000    0.000 cookies.py:150(CookieError)\n",
       "        1    0.000    0.000    0.000    0.000 zipfile.py:43(BadZipFile)\n",
       "        1    0.000    0.000    0.000    0.000 zipfile.py:47(LargeZipFile)\n",
       "        1    0.000    0.000    0.000    0.000 decode_asn1.py:186(_X509ExtensionParser)\n",
       "        1    0.000    0.000    0.000    0.000 SSL.py:239(Error)\n",
       "        1    0.000    0.000    0.000    0.000 SSL.py:249(WantReadError)\n",
       "        1    0.000    0.000    0.000    0.000 SSL.py:261(ZeroReturnError)\n",
       "        1    0.000    0.000    0.000    0.000 SSL.py:297(_VerifyHelper)\n",
       "        1    0.000    0.000    0.000    0.000 SSL.py:377(_NpnSelectHelper)\n",
       "        1    0.000    0.000    0.000    0.000 SSL.py:426(_ALPNSelectHelper)\n",
       "        1    0.000    0.000    0.000    0.000 SSL.py:549(_OCSPClientCallbackHelper)\n",
       "        1    0.000    0.000    0.000    0.000 binding.py:154(_verify_openssl_version)\n",
       "        1    0.000    0.000    0.000    0.000 _conditional.py:151(cryptography_has_locking_callbacks)\n",
       "        1    0.000    0.000    0.000    0.000 serialization.py:193(KeySerializationEncryption)\n",
       "        1    0.000    0.000    0.000    0.000 serialization.py:207(NoEncryption)\n",
       "        1    0.000    0.000    0.000    0.000 core.py:31(InvalidCodepointContext)\n",
       "        1    0.000    0.000    0.000    0.000 hashes.py:104(SHA1)\n",
       "        1    0.000    0.000    0.000    0.000 algos.py:1084(Pbes2Params)\n",
       "        1    0.000    0.000    0.000    0.000 core.py:2956(Real)\n",
       "        1    0.000    0.000    0.000    0.000 core.py:3032(UTF8String)\n",
       "        1    0.000    0.000    0.000    0.000 core.py:3041(RelativeOid)\n",
       "        1    0.000    0.000    0.000    0.000 core.py:4569(AbstractTime)\n",
       "        1    0.000    0.000    0.000    0.000 core.py:4754(VisibleString)\n",
       "        1    0.000    0.000    0.000    0.000 _teletex_codec.py:40(TeletexStreamReader)\n",
       "        1    0.000    0.000    0.000    0.000 idna.py:218(IncrementalEncoder)\n",
       "        1    0.000    0.000    0.000    0.000 idna.py:295(StreamReader)\n",
       "        1    0.000    0.000    0.000    0.000 algos.py:174(TrailerField)\n",
       "        1    0.000    0.000    0.000    0.000 algos.py:381(KdfAlgorithmId)\n",
       "        1    0.000    0.000    0.000    0.000 algos.py:435(Rc5ParamVersion)\n",
       "        1    0.000    0.000    0.000    0.000 algos.py:457(PSourceAlgorithmId)\n",
       "        1    0.000    0.000    0.000    0.000 keys.py:211(ECPointBitString)\n",
       "        1    0.000    0.000    0.000    0.000 keys.py:227(FieldType)\n",
       "        1    0.000    0.000    0.000    0.000 keys.py:446(Attributes)\n",
       "        1    0.000    0.000    0.000    0.000 keys.py:899(ValidationParms)\n",
       "        1    0.000    0.000    0.000    0.000 exceptions.py:30(AlreadyFinalized)\n",
       "        1    0.000    0.000    0.000    0.000 exceptions.py:38(NotYetFinalized)\n",
       "        1    0.000    0.000    0.000    0.000 exceptions.py:56(InvalidKey)\n",
       "        1    0.000    0.000    0.000    0.000 extensions.py:57(ExtensionNotFound)\n",
       "        1    0.000    0.000    0.000    0.000 utils.py:79(InterfaceNotImplemented)\n",
       "        1    0.000    0.000    0.000    0.000 ec.py:145(SECT571R1)\n",
       "        1    0.000    0.000    0.000    0.000 ec.py:157(SECT283R1)\n",
       "        1    0.000    0.000    0.000    0.000 ec.py:163(SECT233R1)\n",
       "        1    0.000    0.000    0.000    0.000 ec.py:175(SECT571K1)\n",
       "        1    0.000    0.000    0.000    0.000 ec.py:181(SECT409K1)\n",
       "        1    0.000    0.000    0.000    0.000 ec.py:193(SECT233K1)\n",
       "        1    0.000    0.000    0.000    0.000 ec.py:229(SECP224R1)\n",
       "        1    0.000    0.000    0.000    0.000 ec.py:247(BrainpoolP384R1)\n",
       "        1    0.000    0.000    0.000    0.000 crypto.py:76(Error)\n",
       "        1    0.000    0.000    0.000    0.000 exceptions.py:36(ProxyError)\n",
       "        2    0.000    0.000    0.000    0.000 exceptions.py:40(SSLError)\n",
       "        1    0.000    0.000    0.000    0.000 exceptions.py:60(ReadTimeout)\n",
       "        1    0.000    0.000    0.000    0.000 exceptions.py:64(URLRequired)\n",
       "        1    0.000    0.000    0.000    0.000 exceptions.py:68(TooManyRedirects)\n",
       "        1    0.000    0.000    0.000    0.000 exceptions.py:80(InvalidURL)\n",
       "        1    0.000    0.000    0.000    0.000 exceptions.py:92(ChunkedEncodingError)\n",
       "        1    0.000    0.000    0.000    0.000 exceptions.py:96(ContentDecodingError)\n",
       "        1    0.000    0.000    0.000    0.000 exceptions.py:114(RequestsWarning)\n",
       "        1    0.000    0.000    0.000    0.000 exceptions.py:119(FileModeWarning)\n",
       "        1    0.000    0.000    0.000    0.000 pyopenssl.py:54(UnsupportedExtension)\n",
       "        1    0.000    0.000    0.000    0.000 response.py:62(GzipDecoder)\n",
       "        1    0.000    0.000    0.000    0.000 exceptions.py:29(RequestError)\n",
       "        1    0.000    0.000    0.000    0.000 exceptions.py:55(ProtocolError)\n",
       "        1    0.000    0.000    0.000    0.000 exceptions.py:99(TimeoutError)\n",
       "        1    0.000    0.000    0.000    0.000 exceptions.py:108(ReadTimeoutError)\n",
       "        1    0.000    0.000    0.000    0.000 exceptions.py:115(ConnectTimeoutError)\n",
       "        1    0.000    0.000    0.000    0.000 exceptions.py:125(EmptyPoolError)\n",
       "        1    0.000    0.000    0.000    0.000 exceptions.py:130(ClosedPoolError)\n",
       "        1    0.000    0.000    0.000    0.000 exceptions.py:150(ResponseError)\n",
       "        1    0.000    0.000    0.000    0.000 exceptions.py:161(SubjectAltNameWarning)\n",
       "        1    0.000    0.000    0.000    0.000 exceptions.py:166(InsecureRequestWarning)\n",
       "        1    0.000    0.000    0.000    0.000 exceptions.py:176(InsecurePlatformWarning)\n",
       "        1    0.000    0.000    0.000    0.000 exceptions.py:186(DependencyWarning)\n",
       "        1    0.000    0.000    0.000    0.000 exceptions.py:199(BodyNotHttplibCompatible)\n",
       "        1    0.000    0.000    0.000    0.000 exceptions.py:223(InvalidHeader)\n",
       "        1    0.000    0.000    0.000    0.000 exceptions.py:244(UnrewindableBodyError)\n",
       "        1    0.000    0.000    0.000    0.000 constraints.py:211(_Interval)\n",
       "        1    0.000    0.000    0.000    0.000 constraints.py:245(_Simplex)\n",
       "        1    0.000    0.000    0.000    0.000 constraints.py:291(_RealVector)\n",
       "        1    0.000    0.000    0.000    0.000 __init__.py:1349(TopLevelTracedModule)\n",
       "        1    0.000    0.000    0.000    0.000 lr_scheduler.py:161(MultiStepLR)\n",
       "        1    0.000    0.000    0.000    0.000 lr_scheduler.py:217(CosineAnnealingLR)\n",
       "        1    0.000    0.000    0.000    0.000 padding.py:220(ReflectionPad2d)\n",
       "        1    0.000    0.000    0.000    0.000 padding.py:282(ReplicationPad1d)\n",
       "        1    0.000    0.000    0.000    0.000 padding.py:321(ReplicationPad2d)\n",
       "        1    0.000    0.000    0.000    0.000 activation.py:868(Softmax2d)\n",
       "        1    0.000    0.000    0.000    0.000 pooling.py:444(AvgPool1d)\n",
       "        1    0.000    0.000    0.000    0.000 pooling.py:863(AdaptiveMaxPool2d)\n",
       "        1    0.000    0.000    0.000    0.000 __init__.py:256(FilterDescriptor)\n",
       "        1    0.000    0.000    0.000    0.000 __init__.py:443(ContextProp)\n",
       "        1    0.000    0.000    0.000    0.000 _jit_internal.py:196(BroadcastingListCls)\n",
       "        1    0.000    0.000    0.000    0.000 profiler.py:369(Kernel)\n",
       "        1    0.000    0.000    0.000    0.000 profiler.py:431(StringTable)\n",
       "        1    0.000    0.000    0.000    0.000 function.py:249(_nested_map)\n",
       "        1    0.000    0.000    0.000    0.000 __init__.py:130(DeferredCudaCallError)\n",
       "        1    0.000    0.000    0.000    0.000 __init__.py:514(FloatStorage)\n",
       "        1    0.000    0.000    0.000    0.000 __init__.py:518(LongStorage)\n",
       "        1    0.000    0.000    0.000    0.000 __init__.py:522(IntStorage)\n",
       "        1    0.000    0.000    0.000    0.000 __init__.py:526(ShortStorage)\n",
       "        1    0.000    0.000    0.000    0.000 __init__.py:530(CharStorage)\n",
       "        1    0.000    0.000    0.000    0.000 __init__.py:538(HalfStorage)\n",
       "        1    0.000    0.000    0.000    0.000 tarfile.py:281(ReadError)\n",
       "        1    0.000    0.000    0.000    0.000 tarfile.py:284(CompressionError)\n",
       "        1    0.000    0.000    0.000    0.000 tarfile.py:302(InvalidHeaderError)\n",
       "        1    0.000    0.000    0.000    0.000 tarfile.py:305(SubsequentHeaderError)\n",
       "        1    0.000    0.000    0.000    0.000 serialization.py:32(SourceChangeWarning)\n",
       "        1    0.000    0.000    0.000    0.000 extras.py:291(_fromnxfunction_seq)\n",
       "        1    0.000    0.000    0.000    0.000 extras.py:304(_fromnxfunction_args)\n",
       "        1    0.000    0.000    0.000    0.000 __init__.py:198(FloatStorage)\n",
       "        1    0.000    0.000    0.000    0.000 __init__.py:206(LongStorage)\n",
       "        1    0.000    0.000    0.000    0.000 __init__.py:210(IntStorage)\n",
       "        1    0.000    0.000    0.000    0.000 __init__.py:218(CharStorage)\n",
       "        1    0.000    0.000    0.000    0.000 core.py:166(MAError)\n",
       "        3    0.000    0.000    0.000    0.000 core.py:866(__init__)\n",
       "        1    0.000    0.000    0.000    0.000 core.py:860(_DomainGreater)\n",
       "        1    0.000    0.000    0.000    0.000 core.py:892(_MaskedUFunc)\n",
       "        1    0.000    0.000    0.000    0.000 _import_tools.py:339(PackageLoaderDebug)\n",
       "        1    0.000    0.000    0.000    0.000 polyutils.py:62(PolyError)\n",
       "        1    0.000    0.000    0.000    0.000 polyutils.py:66(PolyDomainError)\n",
       "        1    0.000    0.000    0.000    0.000 polyutils.py:79(PolyBase)\n",
       "        1    0.000    0.000    0.000    0.000 _iotools.py:472(ConverterLockError)\n",
       "        1    0.000    0.000    0.000    0.000 index_tricks.py:351(RClass)\n",
       "        1    0.000    0.000    0.000    0.000 numeric.py:2817(_unspecified)\n",
       "        2    0.000    0.000    0.000    0.000 arrayprint.py:440(_recursive_guard)\n",
       "        1    0.000    0.000    0.000    0.000 arrayprint.py:1176(_TimelikeFormat)\n",
       "        1    0.000    0.000    0.000    0.000 utils.py:45(KnownFailureException)\n",
       "        1    0.000    0.000    0.000    0.000 case.py:38(_UnexpectedSuccess)\n",
       "        3    0.000    0.000    0.000    0.000 pyparsing.py:3130(<genexpr>)\n",
       "        1    0.000    0.000    0.000    0.000 pyparsing.py:3226(LineEnd)\n",
       "        1    0.000    0.000    0.000    0.000 pyparsing.py:3246(StringStart)\n",
       "        1    0.000    0.000    0.000    0.000 pyparsing.py:4041(OneOrMore)\n",
       "        1    0.000    0.000    0.000    0.000 pyparsing.py:4375(_ForwardNoRecurse)\n",
       "        1    0.000    0.000    0.000    0.000 pyparsing.py:5882(Chinese)\n",
       "        1    0.000    0.000    0.000    0.000 pyparsing.py:5888(Kanji)\n",
       "        1    0.000    0.000    0.000    0.000 pyparsing.py:5891(Hiragana)\n",
       "        1    0.000    0.000    0.000    0.000 pyparsing.py:5900(CJK)\n",
       "        1    0.000    0.000    0.000    0.000 pyparsing.py:5907(Arabic)\n",
       "        1    0.000    0.000    0.000    0.000 pyparsing.py:316(RecursiveGrammarException)\n",
       "        1    0.000    0.000    0.000    0.000 __init__.py:250(IgnoredKeywordWarning)\n",
       "        3    0.000    0.000    0.000    0.000 rcsetup.py:262(validate_qt5)\n",
       "        1    0.000    0.000    0.000    0.000 __init__.py:525(checkdep_usetex)\n",
       "        1    0.000    0.000    0.000    0.000 transforms.py:352(RandomChoice)\n",
       "        1    0.000    0.000    0.000    0.000 transforms.py:606(TenCrop)\n",
       "        1    0.000    0.000    0.000    0.000 ImageEnhance.py:89(Sharpness)\n",
       "        1    0.000    0.000    0.000    0.000 ImageFilter.py:94(MedianFilter)\n",
       "        1    0.000    0.000    0.000    0.000 ImageFilter.py:153(GaussianBlur)\n",
       "        1    0.000    0.000    0.000    0.000 ImageFilter.py:187(UnsharpMask)\n",
       "        1    0.000    0.000    0.000    0.000 ImageFilter.py:250(EDGE_ENHANCE_MORE)\n",
       "        1    0.000    0.000    0.000    0.000 ImageFilter.py:259(EMBOSS)\n",
       "        1    0.000    0.000    0.000    0.000 ImageFilter.py:286(SMOOTH)\n",
       "        1    0.000    0.000    0.000    0.000 context.py:196(get_start_method)\n",
       "        1    0.000    0.000    0.000    0.000 {method 'disable' of '_lsprof.Profiler' objects}\n",
       "        1    0.000    0.000    0.000    0.000 sre_parse.py:101(checklookbehindgroup)"
      ]
     },
     "metadata": {},
     "output_type": "display_data"
    }
   ],
   "source": [
    "%run -p ../train_cnf_disentangle_rl.py --data cifar10 --dims 64,64,64 --strides 1,1,1,1 --num_blocks 2 --layer_type concat --multiscale True --rademacher True --batch_size 900 --test_batch_size 500 --save ../experiments_published/cnf_conditional_disentangle_cifar10_bs900_sratio_0_5_drop_0_5_rl_stdscale_6_run3_post --load_dir ../experiments_published/cnf_conditional_disentangle_cifar10_bs900_sratio_0_5_drop_0_5_rl_stdscale_6_run3 --seed 3 --resume_load 135 --conditional True --controlled_tol False --train_mode semisup --weight_y 0.5 --condition_ratio 0.5 --dropout_rate 0.5 --scale_fac 1.0 --scale_std 6.0\n",
    "#"
   ]
  },
  {
   "cell_type": "code",
   "execution_count": null,
   "metadata": {},
   "outputs": [],
   "source": []
  }
 ],
 "metadata": {
  "kernelspec": {
   "display_name": "Python 3",
   "language": "python",
   "name": "python3"
  },
  "language_info": {
   "codemirror_mode": {
    "name": "ipython",
    "version": 3
   },
   "file_extension": ".py",
   "mimetype": "text/x-python",
   "name": "python",
   "nbconvert_exporter": "python",
   "pygments_lexer": "ipython3",
   "version": "3.6.7"
  }
 },
 "nbformat": 4,
 "nbformat_minor": 2
}
