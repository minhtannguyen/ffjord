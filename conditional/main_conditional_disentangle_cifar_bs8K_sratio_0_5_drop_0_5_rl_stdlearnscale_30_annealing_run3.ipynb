{
 "cells": [
  {
   "cell_type": "code",
   "execution_count": null,
   "metadata": {},
   "outputs": [
    {
     "name": "stderr",
     "output_type": "stream",
     "text": [
      "/tancode/repos/tan-ffjord/train_cnf_disentangle_rl.py\n",
      "import argparse\n",
      "import os\n",
      "import time\n",
      "import numpy as np\n",
      "\n",
      "import torch\n",
      "import torch.optim as optim\n",
      "import torchvision.datasets as dset\n",
      "import torchvision.transforms as tforms\n",
      "from torchvision.utils import save_image\n",
      "\n",
      "import lib.layers as layers\n",
      "import lib.utils as utils\n",
      "import lib.multiscale_parallel as multiscale_parallel\n",
      "import lib.modules as modules\n",
      "import lib.thops as thops\n",
      "\n",
      "from train_misc import standard_normal_logprob\n",
      "from train_misc import set_cnf_options, count_nfe, count_parameters, count_total_time, count_nfe_gate\n",
      "from train_misc import add_spectral_norm, spectral_norm_power_iteration\n",
      "from train_misc import create_regularization_fns, get_regularization, append_regularization_to_log\n",
      "\n",
      "from tensorboardX import SummaryWriter\n",
      "\n",
      "# go fast boi!!\n",
      "torch.backends.cudnn.benchmark = True\n",
      "SOLVERS = [\"dopri5\", \"bdf\", \"rk4\", \"midpoint\", 'adams', 'explicit_adams']\n",
      "GATES = [\"cnn1\", \"cnn2\", \"rnn\"]\n",
      "\n",
      "parser = argparse.ArgumentParser(\"Continuous Normalizing Flow\")\n",
      "parser.add_argument(\"--data\", choices=[\"mnist\", \"svhn\", \"cifar10\", 'lsun_church'], type=str, default=\"mnist\")\n",
      "parser.add_argument(\"--dims\", type=str, default=\"8,32,32,8\")\n",
      "parser.add_argument(\"--strides\", type=str, default=\"2,2,1,-2,-2\")\n",
      "parser.add_argument(\"--num_blocks\", type=int, default=1, help='Number of stacked CNFs.')\n",
      "\n",
      "parser.add_argument(\"--conv\", type=eval, default=True, choices=[True, False])\n",
      "parser.add_argument(\n",
      "    \"--layer_type\", type=str, default=\"ignore\",\n",
      "    choices=[\"ignore\", \"concat\", \"concat_v2\", \"squash\", \"concatsquash\", \"concatcoord\", \"hyper\", \"blend\"]\n",
      ")\n",
      "parser.add_argument(\"--divergence_fn\", type=str, default=\"approximate\", choices=[\"brute_force\", \"approximate\"])\n",
      "parser.add_argument(\n",
      "    \"--nonlinearity\", type=str, default=\"softplus\", choices=[\"tanh\", \"relu\", \"softplus\", \"elu\", \"swish\"]\n",
      ")\n",
      "\n",
      "parser.add_argument(\"--seed\", type=int, default=0)\n",
      "\n",
      "parser.add_argument('--solver', type=str, default='dopri5', choices=SOLVERS)\n",
      "parser.add_argument('--atol', type=float, default=1e-5)\n",
      "parser.add_argument('--rtol', type=float, default=1e-5)\n",
      "parser.add_argument(\"--step_size\", type=float, default=None, help=\"Optional fixed step size.\")\n",
      "\n",
      "parser.add_argument('--gate', type=str, default='cnn1', choices=GATES)\n",
      "parser.add_argument('--scale', type=float, default=1.0)\n",
      "parser.add_argument('--scale_fac', type=float, default=1.0)\n",
      "parser.add_argument('--scale_std', type=float, default=1.0)\n",
      "parser.add_argument('--eta', default=0.1, type=float,\n",
      "                        help='tuning parameter that allows us to trade-off the competing goals of' \n",
      "                                'minimizing the prediction loss and maximizing the gate rewards ')\n",
      "parser.add_argument('--rl-weight', default=0.01, type=float,\n",
      "                        help='rl weight')\n",
      "\n",
      "parser.add_argument('--gamma', default=0.99, type=float,\n",
      "                        help='discount factor, default: (0.99)')\n",
      "\n",
      "parser.add_argument('--test_solver', type=str, default=None, choices=SOLVERS + [None])\n",
      "parser.add_argument('--test_atol', type=float, default=None)\n",
      "parser.add_argument('--test_rtol', type=float, default=None)\n",
      "\n",
      "parser.add_argument(\"--imagesize\", type=int, default=None)\n",
      "parser.add_argument(\"--alpha\", type=float, default=1e-6)\n",
      "parser.add_argument('--time_length', type=float, default=1.0)\n",
      "parser.add_argument('--train_T', type=eval, default=True)\n",
      "\n",
      "parser.add_argument(\"--num_epochs\", type=int, default=500)\n",
      "parser.add_argument(\"--batch_size\", type=int, default=200)\n",
      "parser.add_argument(\n",
      "    \"--batch_size_schedule\", type=str, default=\"\", help=\"Increases the batchsize at every given epoch, dash separated.\"\n",
      ")\n",
      "parser.add_argument(\"--test_batch_size\", type=int, default=200)\n",
      "parser.add_argument(\"--lr\", type=float, default=1e-3)\n",
      "parser.add_argument(\"--warmup_iters\", type=float, default=1000)\n",
      "parser.add_argument(\"--weight_decay\", type=float, default=0.0)\n",
      "parser.add_argument(\"--spectral_norm_niter\", type=int, default=10)\n",
      "parser.add_argument(\"--weight_y\", type=float, default=0.5)\n",
      "parser.add_argument(\"--annealing_std\", type=eval, default=False, choices=[True, False])\n",
      "\n",
      "parser.add_argument(\"--add_noise\", type=eval, default=True, choices=[True, False])\n",
      "parser.add_argument(\"--batch_norm\", type=eval, default=False, choices=[True, False])\n",
      "parser.add_argument('--residual', type=eval, default=False, choices=[True, False])\n",
      "parser.add_argument('--autoencode', type=eval, default=False, choices=[True, False])\n",
      "parser.add_argument('--rademacher', type=eval, default=True, choices=[True, False])\n",
      "parser.add_argument('--spectral_norm', type=eval, default=False, choices=[True, False])\n",
      "parser.add_argument('--multiscale', type=eval, default=False, choices=[True, False])\n",
      "parser.add_argument('--parallel', type=eval, default=False, choices=[True, False])\n",
      "parser.add_argument('--conditional', type=eval, default=False, choices=[True, False])\n",
      "parser.add_argument('--controlled_tol', type=eval, default=False, choices=[True, False])\n",
      "parser.add_argument(\"--train_mode\", choices=[\"semisup\", \"sup\", \"unsup\"], type=str, default=\"semisup\")\n",
      "parser.add_argument(\"--condition_ratio\", type=float, default=0.5)\n",
      "parser.add_argument(\"--dropout_rate\", type=float, default=0.0)\n",
      "\n",
      "\n",
      "# Regularizations\n",
      "parser.add_argument('--l1int', type=float, default=None, help=\"int_t ||f||_1\")\n",
      "parser.add_argument('--l2int', type=float, default=None, help=\"int_t ||f||_2\")\n",
      "parser.add_argument('--dl2int', type=float, default=None, help=\"int_t ||f^T df/dt||_2\")\n",
      "parser.add_argument('--JFrobint', type=float, default=None, help=\"int_t ||df/dx||_F\")\n",
      "parser.add_argument('--JdiagFrobint', type=float, default=None, help=\"int_t ||df_i/dx_i||_F\")\n",
      "parser.add_argument('--JoffdiagFrobint', type=float, default=None, help=\"int_t ||df/dx - df_i/dx_i||_F\")\n",
      "\n",
      "parser.add_argument(\"--time_penalty\", type=float, default=0, help=\"Regularization on the end_time.\")\n",
      "parser.add_argument(\n",
      "    \"--max_grad_norm\", type=float, default=1e10,\n",
      "    help=\"Max norm of graidents (default is just stupidly high to avoid any clipping)\"\n",
      ")\n",
      "\n",
      "parser.add_argument(\"--begin_epoch\", type=int, default=1)\n",
      "parser.add_argument(\"--resume\", type=str, default=None)\n",
      "parser.add_argument(\"--save\", type=str, default=\"experiments/cnf\")\n",
      "parser.add_argument(\"--val_freq\", type=int, default=1)\n",
      "parser.add_argument(\"--log_freq\", type=int, default=1)\n",
      "\n",
      "args = parser.parse_args()\n",
      "\n",
      "import lib.odenvp_conditional_rl as odenvp\n",
      "    \n",
      "# set seed\n",
      "torch.manual_seed(args.seed)\n",
      "np.random.seed(args.seed)\n",
      "\n",
      "# logger\n",
      "utils.makedirs(args.save)\n",
      "logger = utils.get_logger(logpath=os.path.join(args.save, 'logs'), filepath=os.path.abspath(__file__)) # write to log file\n",
      "writer = SummaryWriter(os.path.join(args.save, 'tensorboard')) # write to tensorboard\n",
      "\n",
      "if args.layer_type == \"blend\":\n",
      "    logger.info(\"!! Setting time_length from None to 1.0 due to use of Blend layers.\")\n",
      "    args.time_length = 1.0\n",
      "\n",
      "logger.info(args)\n",
      "\n",
      "\n",
      "def add_noise(x):\n",
      "    \"\"\"\n",
      "    [0, 1] -> [0, 255] -> add noise -> [0, 1]\n",
      "    \"\"\"\n",
      "    if args.add_noise:\n",
      "        noise = x.new().resize_as_(x).uniform_()\n",
      "        x = x * 255 + noise\n",
      "        x = x / 256\n",
      "    return x\n",
      "\n",
      "\n",
      "def update_lr(optimizer, itr):\n",
      "    iter_frac = min(float(itr + 1) / max(args.warmup_iters, 1), 1.0)\n",
      "    lr = args.lr * iter_frac\n",
      "    for param_group in optimizer.param_groups:\n",
      "        param_group[\"lr\"] = lr\n",
      "\n",
      "        \n",
      "def update_scale_std(model, epoch):\n",
      "    epoch_frac = 1.0 - float(epoch - 1) / max(args.num_epochs + 1, 1)\n",
      "    scale_std = args.scale_std * epoch_frac\n",
      "    model.set_scale_std(scale_std)\n",
      "\n",
      "\n",
      "def get_train_loader(train_set, epoch):\n",
      "    if args.batch_size_schedule != \"\":\n",
      "        epochs = [0] + list(map(int, args.batch_size_schedule.split(\"-\")))\n",
      "        n_passed = sum(np.array(epochs) <= epoch)\n",
      "        current_batch_size = int(args.batch_size * n_passed)\n",
      "    else:\n",
      "        current_batch_size = args.batch_size\n",
      "    train_loader = torch.utils.data.DataLoader(\n",
      "        dataset=train_set, batch_size=current_batch_size, shuffle=True, drop_last=True, pin_memory=True\n",
      "    )\n",
      "    logger.info(\"===> Using batch size {}. Total {} iterations/epoch.\".format(current_batch_size, len(train_loader)))\n",
      "    return train_loader\n",
      "\n",
      "\n",
      "def get_dataset(args):\n",
      "    trans = lambda im_size: tforms.Compose([tforms.Resize(im_size), tforms.ToTensor(), add_noise])\n",
      "\n",
      "    if args.data == \"mnist\":\n",
      "        im_dim = 1\n",
      "        im_size = 28 if args.imagesize is None else args.imagesize\n",
      "        train_set = dset.MNIST(root=\"../data\", train=True, transform=trans(im_size), download=True)\n",
      "        test_set = dset.MNIST(root=\"../data\", train=False, transform=trans(im_size), download=True)\n",
      "    elif args.data == \"svhn\":\n",
      "        im_dim = 3\n",
      "        im_size = 32 if args.imagesize is None else args.imagesize\n",
      "        train_set = dset.SVHN(root=\"../data\", split=\"train\", transform=trans(im_size), download=True)\n",
      "        test_set = dset.SVHN(root=\"../data\", split=\"test\", transform=trans(im_size), download=True)\n",
      "    elif args.data == \"cifar10\":\n",
      "        im_dim = 3\n",
      "        im_size = 32 if args.imagesize is None else args.imagesize\n",
      "        train_set = dset.CIFAR10(\n",
      "            root=\"../data\", train=True, transform=tforms.Compose([\n",
      "                tforms.Resize(im_size),\n",
      "                tforms.RandomHorizontalFlip(),\n",
      "                tforms.ToTensor(),\n",
      "                add_noise,\n",
      "            ]), download=True\n",
      "        )\n",
      "        test_set = dset.CIFAR10(root=\"../data\", train=False, transform=trans(im_size), download=True)\n",
      "    elif args.data == 'celeba':\n",
      "        im_dim = 3\n",
      "        im_size = 64 if args.imagesize is None else args.imagesize\n",
      "        train_set = dset.CelebA(\n",
      "            train=True, transform=tforms.Compose([\n",
      "                tforms.ToPILImage(),\n",
      "                tforms.Resize(im_size),\n",
      "                tforms.RandomHorizontalFlip(),\n",
      "                tforms.ToTensor(),\n",
      "                add_noise,\n",
      "            ])\n",
      "        )\n",
      "        test_set = dset.CelebA(\n",
      "            train=False, transform=tforms.Compose([\n",
      "                tforms.ToPILImage(),\n",
      "                tforms.Resize(im_size),\n",
      "                tforms.ToTensor(),\n",
      "                add_noise,\n",
      "            ])\n",
      "        )\n",
      "    elif args.data == 'lsun_church':\n",
      "        im_dim = 3\n",
      "        im_size = 64 if args.imagesize is None else args.imagesize\n",
      "        train_set = dset.LSUN(\n",
      "            '../data', ['church_outdoor_train'], transform=tforms.Compose([\n",
      "                tforms.Resize(96),\n",
      "                tforms.RandomCrop(64),\n",
      "                tforms.Resize(im_size),\n",
      "                tforms.ToTensor(),\n",
      "                add_noise,\n",
      "            ])\n",
      "        )\n",
      "        test_set = dset.LSUN(\n",
      "            '../data', ['church_outdoor_val'], transform=tforms.Compose([\n",
      "                tforms.Resize(96),\n",
      "                tforms.RandomCrop(64),\n",
      "                tforms.Resize(im_size),\n",
      "                tforms.ToTensor(),\n",
      "                add_noise,\n",
      "            ])\n",
      "        )    \n",
      "    elif args.data == 'imagenet_64':\n",
      "        im_dim = 3\n",
      "        im_size = 64 if args.imagesize is None else args.imagesize\n",
      "        train_set = dset.ImageFolder(\n",
      "            train=True, transform=tforms.Compose([\n",
      "                tforms.ToPILImage(),\n",
      "                tforms.Resize(im_size),\n",
      "                tforms.RandomHorizontalFlip(),\n",
      "                tforms.ToTensor(),\n",
      "                add_noise,\n",
      "            ])\n",
      "        )\n",
      "        test_set = dset.ImageFolder(\n",
      "            train=False, transform=tforms.Compose([\n",
      "                tforms.ToPILImage(),\n",
      "                tforms.Resize(im_size),\n",
      "                tforms.ToTensor(),\n",
      "                add_noise,\n",
      "            ])\n",
      "        )\n",
      "    \n",
      "    data_shape = (im_dim, im_size, im_size)\n",
      "    if not args.conv:\n",
      "        data_shape = (im_dim * im_size * im_size,)\n",
      "\n",
      "    test_loader = torch.utils.data.DataLoader(\n",
      "        dataset=test_set, batch_size=args.test_batch_size, shuffle=False, drop_last=True\n",
      "    )\n",
      "    return train_set, test_loader, data_shape\n",
      "\n",
      "\n",
      "def compute_bits_per_dim(x, model):\n",
      "    zero = torch.zeros(x.shape[0], 1).to(x)\n",
      "\n",
      "    # Don't use data parallelize if batch size is small.\n",
      "    # if x.shape[0] < 200:\n",
      "    #     model = model.module\n",
      "    \n",
      "    z, delta_logp, atol, rtol, logp_actions, nfe = model(x, zero)  # run model forward\n",
      "\n",
      "    logpz = standard_normal_logprob(z).view(z.shape[0], -1).sum(1, keepdim=True)  # logp(z)\n",
      "    logpx = logpz - delta_logp\n",
      "\n",
      "    logpx_per_dim = torch.sum(logpx) / x.nelement()  # averaged over batches\n",
      "    bits_per_dim = -(logpx_per_dim - np.log(256)) / np.log(2)\n",
      "\n",
      "    return bits_per_dim, atol, rtol, logp_actions, nfe\n",
      "\n",
      "def compute_bits_per_dim_conditional(x, y, model):\n",
      "    zero = torch.zeros(x.shape[0], 1).to(x)\n",
      "    y_onehot = thops.onehot(y, num_classes=model.module.y_class).to(x)\n",
      "\n",
      "    # Don't use data parallelize if batch size is small.\n",
      "    # if x.shape[0] < 200:\n",
      "    #     model = model.module\n",
      "    \n",
      "    z, delta_logp, atol, rtol, logp_actions, nfe = model(x, zero)  # run model forward\n",
      "    \n",
      "    dim_sup = int(args.condition_ratio * np.prod(z.size()[1:]))\n",
      "    \n",
      "    # prior\n",
      "    mean, logs = model.module._prior(y_onehot)\n",
      "\n",
      "    logpz_sup = modules.GaussianDiag.logp(mean, logs, z[:, 0:dim_sup]).view(-1,1)  # logp(z)_sup\n",
      "    logpz_unsup = standard_normal_logprob(z[:, dim_sup:]).view(z.shape[0], -1).sum(1, keepdim=True)\n",
      "    logpz = logpz_sup + logpz_unsup\n",
      "    logpx = logpz - delta_logp\n",
      "\n",
      "    logpx_per_dim = torch.sum(logpx) / x.nelement()  # averaged over batches\n",
      "    bits_per_dim = -(logpx_per_dim - np.log(256)) / np.log(2)\n",
      "    \n",
      "    # dropout\n",
      "    if args.dropout_rate > 0:\n",
      "        zsup = model.module.dropout(z[:, 0:dim_sup])\n",
      "    else:\n",
      "        zsup = z[:, 0:dim_sup]\n",
      "    \n",
      "    # compute xentropy loss\n",
      "    y_logits = model.module.project_class(zsup)\n",
      "    loss_xent = model.module.loss_class(y_logits, y.to(x.get_device()))\n",
      "    y_predicted = np.argmax(y_logits.cpu().detach().numpy(), axis=1)\n",
      "\n",
      "    return bits_per_dim, loss_xent, y_predicted, atol, rtol, logp_actions, nfe\n",
      "\n",
      "def create_model(args, data_shape, regularization_fns):\n",
      "    hidden_dims = tuple(map(int, args.dims.split(\",\")))\n",
      "    strides = tuple(map(int, args.strides.split(\",\")))\n",
      "\n",
      "    if args.multiscale:\n",
      "        model = odenvp.ODENVP(\n",
      "            (args.batch_size, *data_shape),\n",
      "            n_blocks=args.num_blocks,\n",
      "            intermediate_dims=hidden_dims,\n",
      "            nonlinearity=args.nonlinearity,\n",
      "            alpha=args.alpha,\n",
      "            cnf_kwargs={\"T\": args.time_length, \"train_T\": args.train_T, \"regularization_fns\": regularization_fns, \"solver\": args.solver, \"atol\": args.atol, \"rtol\": args.rtol, \"scale\": args.scale, \"scale_fac\": args.scale_fac, \"scale_std\": args.scale_std, \"gate\": args.gate},\n",
      "            condition_ratio=args.condition_ratio,\n",
      "            dropout_rate=args.dropout_rate,)\n",
      "    elif args.parallel:\n",
      "        model = multiscale_parallel.MultiscaleParallelCNF(\n",
      "            (args.batch_size, *data_shape),\n",
      "            n_blocks=args.num_blocks,\n",
      "            intermediate_dims=hidden_dims,\n",
      "            alpha=args.alpha,\n",
      "            time_length=args.time_length,\n",
      "        )\n",
      "    else:\n",
      "        if args.autoencode:\n",
      "\n",
      "            def build_cnf():\n",
      "                autoencoder_diffeq = layers.AutoencoderDiffEqNet(\n",
      "                    hidden_dims=hidden_dims,\n",
      "                    input_shape=data_shape,\n",
      "                    strides=strides,\n",
      "                    conv=args.conv,\n",
      "                    layer_type=args.layer_type,\n",
      "                    nonlinearity=args.nonlinearity,\n",
      "                )\n",
      "                odefunc = layers.AutoencoderODEfunc(\n",
      "                    autoencoder_diffeq=autoencoder_diffeq,\n",
      "                    divergence_fn=args.divergence_fn,\n",
      "                    residual=args.residual,\n",
      "                    rademacher=args.rademacher,\n",
      "                )\n",
      "                cnf = layers.CNF(\n",
      "                    odefunc=odefunc,\n",
      "                    T=args.time_length,\n",
      "                    regularization_fns=regularization_fns,\n",
      "                    solver=args.solver,\n",
      "                )\n",
      "                return cnf\n",
      "        else:\n",
      "\n",
      "            def build_cnf():\n",
      "                diffeq = layers.ODEnet(\n",
      "                    hidden_dims=hidden_dims,\n",
      "                    input_shape=data_shape,\n",
      "                    strides=strides,\n",
      "                    conv=args.conv,\n",
      "                    layer_type=args.layer_type,\n",
      "                    nonlinearity=args.nonlinearity,\n",
      "                )\n",
      "                odefunc = layers.ODEfunc(\n",
      "                    diffeq=diffeq,\n",
      "                    divergence_fn=args.divergence_fn,\n",
      "                    residual=args.residual,\n",
      "                    rademacher=args.rademacher,\n",
      "                )\n",
      "                cnf = layers.CNF(\n",
      "                    odefunc=odefunc,\n",
      "                    T=args.time_length,\n",
      "                    train_T=args.train_T,\n",
      "                    regularization_fns=regularization_fns,\n",
      "                    solver=args.solver,\n",
      "                )\n",
      "                return cnf\n",
      "\n",
      "        chain = [layers.LogitTransform(alpha=args.alpha)] if args.alpha > 0 else [layers.ZeroMeanTransform()]\n",
      "        chain = chain + [build_cnf() for _ in range(args.num_blocks)]\n",
      "        if args.batch_norm:\n",
      "            chain.append(layers.MovingBatchNorm2d(data_shape[0]))\n",
      "        model = layers.SequentialFlow(chain)\n",
      "    return model\n",
      "\n",
      "\n",
      "if __name__ == \"__main__\":\n",
      "\n",
      "    # get deivce\n",
      "    device = torch.device(\"cuda:0\" if torch.cuda.is_available() else \"cpu\")\n",
      "    cvt = lambda x: x.type(torch.float32).to(device, non_blocking=True)\n",
      "\n",
      "    # load dataset\n",
      "    train_set, test_loader, data_shape = get_dataset(args)\n",
      "\n",
      "    # build model\n",
      "    regularization_fns, regularization_coeffs = create_regularization_fns(args)\n",
      "    model = create_model(args, data_shape, regularization_fns)\n",
      "\n",
      "    if args.spectral_norm: add_spectral_norm(model, logger)\n",
      "    set_cnf_options(args, model)\n",
      "\n",
      "    logger.info(model)\n",
      "    logger.info(\"Number of trainable parameters: {}\".format(count_parameters(model)))\n",
      "    \n",
      "    writer.add_text('info', \"Number of trainable parameters: {}\".format(count_parameters(model)))\n",
      "\n",
      "    # optimizer\n",
      "    optimizer = optim.Adam(model.parameters(), lr=args.lr, weight_decay=args.weight_decay)\n",
      "    \n",
      "    # set initial iter\n",
      "    itr = 1\n",
      "    \n",
      "    # set the meters\n",
      "    time_epoch_meter = utils.RunningAverageMeter(0.97)\n",
      "    time_meter = utils.RunningAverageMeter(0.97)\n",
      "    loss_meter = utils.RunningAverageMeter(0.97) # track total loss\n",
      "    nll_meter = utils.RunningAverageMeter(0.97) # track negative log-likelihood\n",
      "    xent_meter = utils.RunningAverageMeter(0.97) # track xentropy score\n",
      "    error_meter = utils.RunningAverageMeter(0.97) # track error score\n",
      "    steps_meter = utils.RunningAverageMeter(0.97)\n",
      "    grad_meter = utils.RunningAverageMeter(0.97)\n",
      "    tt_meter = utils.RunningAverageMeter(0.97)\n",
      "\n",
      "    # restore parameters\n",
      "    if args.resume is not None:\n",
      "        checkpt = torch.load(args.resume, map_location=lambda storage, loc: storage)\n",
      "        model.load_state_dict(checkpt[\"state_dict\"])\n",
      "        if \"optim_state_dict\" in checkpt.keys():\n",
      "            optimizer.load_state_dict(checkpt[\"optim_state_dict\"])\n",
      "            # Manually move optimizer state to device.\n",
      "            for state in optimizer.state.values():\n",
      "                for k, v in state.items():\n",
      "                    if torch.is_tensor(v):\n",
      "                        state[k] = cvt(v)\n",
      "        args.begin_epoch = checkpt['epoch'] + 1\n",
      "        itr = checkpt['iter'] + 1\n",
      "        time_epoch_meter.set(checkpt['epoch_time_avg'])\n",
      "        time_meter.set(checkpt['time_train'])\n",
      "        loss_meter.set(checkpt['loss_train'])\n",
      "        nll_meter.set(checkpt['bits_per_dim_train'])\n",
      "        xent_meter.set(checkpt['xent_train'])\n",
      "        error_meter.set(checkpt['error_train'])\n",
      "        steps_meter.set(checkpt['nfe_train'])\n",
      "        grad_meter.set(checkpt['grad_train'])\n",
      "        tt_meter.set(checkpt['total_time_train'])\n",
      "\n",
      "    if torch.cuda.is_available():\n",
      "        model = torch.nn.DataParallel(model).cuda()\n",
      "\n",
      "    # For visualization.\n",
      "    if args.conditional:\n",
      "        dim_unsup = int((1.0 - args.condition_ratio) * np.prod(data_shape))\n",
      "        fixed_y = torch.from_numpy(np.arange(model.module.y_class)).repeat(model.module.y_class).type(torch.long).to(device, non_blocking=True)\n",
      "        fixed_y_onehot = thops.onehot(fixed_y, num_classes=model.module.y_class)\n",
      "        with torch.no_grad():\n",
      "            mean, logs = model.module._prior(fixed_y_onehot)\n",
      "            fixed_z_sup = modules.GaussianDiag.sample(mean, logs)\n",
      "            fixed_z_unsup = cvt(torch.randn(model.module.y_class**2, dim_unsup))\n",
      "            fixed_z = torch.cat((fixed_z_sup, fixed_z_unsup),1)\n",
      "    else:\n",
      "        fixed_z = cvt(torch.randn(100, *data_shape))\n",
      "    \n",
      "\n",
      "    if args.spectral_norm and not args.resume: spectral_norm_power_iteration(model, 500)\n",
      "\n",
      "    best_loss_nll = float(\"inf\")\n",
      "    best_error_score = float(\"inf\")\n",
      "    \n",
      "    for epoch in range(args.begin_epoch, args.num_epochs + 1):\n",
      "        start_epoch = time.time()\n",
      "        model.train()\n",
      "        if args.annealing_std:\n",
      "            update_scale_std(model.module, epoch)\n",
      "            \n",
      "        train_loader = get_train_loader(train_set, epoch)\n",
      "        for _, (x, y) in enumerate(train_loader):\n",
      "            start = time.time()\n",
      "            update_lr(optimizer, itr)\n",
      "            optimizer.zero_grad()\n",
      "\n",
      "            if not args.conv:\n",
      "                x = x.view(x.shape[0], -1)\n",
      "\n",
      "            # cast data and move to device\n",
      "            x = cvt(x)\n",
      "            \n",
      "            # compute loss\n",
      "            if args.conditional:\n",
      "                loss_nll, loss_xent, y_predicted, atol, rtol, logp_actions, nfe = compute_bits_per_dim_conditional(x, y, model)\n",
      "                if args.train_mode == \"semisup\":\n",
      "                    loss =  loss_nll + args.weight_y * loss_xent\n",
      "                elif args.train_mode == \"sup\":\n",
      "                    loss =  loss_xent\n",
      "                elif args.train_mode == \"unsup\":\n",
      "                    loss =  loss_nll\n",
      "                else:\n",
      "                    raise ValueError('Choose supported train_mode: semisup, sup, unsup')\n",
      "                error_score = 1. - np.mean(y_predicted.astype(int) == y.numpy())   \n",
      "                \n",
      "            else:\n",
      "                loss, atol, rtol, logp_actions, nfe = compute_bits_per_dim(x, model)\n",
      "                loss_nll, loss_xent, error_score = loss, 0., 0.\n",
      "            \n",
      "            if regularization_coeffs:\n",
      "                reg_states = get_regularization(model, regularization_coeffs)\n",
      "                reg_loss = sum(\n",
      "                    reg_state * coeff for reg_state, coeff in zip(reg_states, regularization_coeffs) if coeff != 0\n",
      "                )\n",
      "                loss = loss + reg_loss\n",
      "            total_time = count_total_time(model)\n",
      "            loss = loss + total_time * args.time_penalty\n",
      "\n",
      "            # re-weight the gate rewards\n",
      "            normalized_eta = args.eta / len(logp_actions)\n",
      "            \n",
      "            # collect cumulative future rewards\n",
      "            R = - loss\n",
      "            cum_rewards = []\n",
      "            for r in nfe[::-1]:\n",
      "                R = -normalized_eta * r.view(-1,1) + args.gamma * R\n",
      "                cum_rewards.insert(0,R)\n",
      "            \n",
      "            # apply REINFORCE\n",
      "            rl_loss = 0\n",
      "            for lpa, r in zip(logp_actions, cum_rewards):\n",
      "                rl_loss = rl_loss - lpa.view(-1,1) * args.rl_weight * r\n",
      "                \n",
      "            loss = loss + rl_loss.mean()\n",
      "            \n",
      "            loss.backward()\n",
      "            \n",
      "            grad_norm = torch.nn.utils.clip_grad_norm_(model.parameters(), args.max_grad_norm)\n",
      "\n",
      "            optimizer.step()\n",
      "\n",
      "            if args.spectral_norm: spectral_norm_power_iteration(model, args.spectral_norm_niter)\n",
      "            \n",
      "            time_meter.update(time.time() - start)\n",
      "            loss_meter.update(loss.item())\n",
      "            nll_meter.update(loss_nll.item())\n",
      "            if args.conditional:\n",
      "                xent_meter.update(loss_xent.item())\n",
      "            else:\n",
      "                xent_meter.update(loss_xent)\n",
      "            error_meter.update(error_score)\n",
      "            steps_meter.update(count_nfe_gate(model))\n",
      "            grad_meter.update(grad_norm)\n",
      "            tt_meter.update(total_time)\n",
      "            \n",
      "            for idx in range(len(model.module.transforms)):\n",
      "                for layer in model.module.transforms[idx].chain:\n",
      "                    if hasattr(layer, 'atol'):\n",
      "                        layer.odefunc.after_odeint()\n",
      "            \n",
      "            # write to tensorboard\n",
      "            writer.add_scalars('time', {'train_iter': time_meter.val}, itr)\n",
      "            writer.add_scalars('loss', {'train_iter': loss_meter.val}, itr)\n",
      "            writer.add_scalars('bits_per_dim', {'train_iter': nll_meter.val}, itr)\n",
      "            writer.add_scalars('xent', {'train_iter': xent_meter.val}, itr)\n",
      "            writer.add_scalars('error', {'train_iter': error_meter.val}, itr)\n",
      "            writer.add_scalars('nfe', {'train_iter': steps_meter.val}, itr)\n",
      "            writer.add_scalars('grad', {'train_iter': grad_meter.val}, itr)\n",
      "            writer.add_scalars('total_time', {'train_iter': tt_meter.val}, itr)\n",
      "\n",
      "            if itr % args.log_freq == 0:\n",
      "                for tol_indx in range(len(atol)):\n",
      "                    writer.add_scalars('atol_%i'%tol_indx, {'train': atol[tol_indx].mean()}, itr)\n",
      "                    writer.add_scalars('rtol_%i'%tol_indx, {'train': rtol[tol_indx].mean()}, itr)\n",
      "                    \n",
      "                log_message = (\n",
      "                    \"Iter {:04d} | Time {:.4f}({:.4f}) | Bit/dim {:.4f}({:.4f}) | Xent {:.4f}({:.4f}) | Loss {:.4f}({:.4f}) | Error {:.4f}({:.4f}) \"\n",
      "                    \"Steps {:.0f}({:.2f}) | Grad Norm {:.4f}({:.4f}) | Total Time {:.2f}({:.2f})\".format(\n",
      "                        itr, time_meter.val, time_meter.avg, nll_meter.val, nll_meter.avg, xent_meter.val, xent_meter.avg, loss_meter.val, loss_meter.avg, error_meter.val, error_meter.avg, steps_meter.val, steps_meter.avg, grad_meter.val, grad_meter.avg, tt_meter.val, tt_meter.avg\n",
      "                    )\n",
      "                )\n",
      "                if regularization_coeffs:\n",
      "                    log_message = append_regularization_to_log(log_message, regularization_fns, reg_states)\n",
      "                logger.info(log_message)\n",
      "                writer.add_text('info', log_message, itr)\n",
      "\n",
      "            itr += 1\n",
      "        \n",
      "        # compute test loss\n",
      "        model.eval()\n",
      "        if epoch % args.val_freq == 0:\n",
      "            with torch.no_grad():\n",
      "                # write to tensorboard\n",
      "                writer.add_scalars('time', {'train_epoch': time_meter.avg}, epoch)\n",
      "                writer.add_scalars('loss', {'train_epoch': loss_meter.avg}, epoch)\n",
      "                writer.add_scalars('bits_per_dim', {'train_epoch': nll_meter.avg}, epoch)\n",
      "                writer.add_scalars('xent', {'train_epoch': xent_meter.avg}, epoch)\n",
      "                writer.add_scalars('error', {'train_epoch': error_meter.avg}, epoch)\n",
      "                writer.add_scalars('nfe', {'train_epoch': steps_meter.avg}, epoch)\n",
      "                writer.add_scalars('grad', {'train_epoch': grad_meter.avg}, epoch)\n",
      "                writer.add_scalars('total_time', {'train_epoch': tt_meter.avg}, epoch)\n",
      "                \n",
      "                start = time.time()\n",
      "                logger.info(\"validating...\")\n",
      "                writer.add_text('info', \"validating...\", epoch)\n",
      "                losses_nll = []; losses_xent = []; losses = []\n",
      "                total_correct = 0\n",
      "                \n",
      "                for (x, y) in test_loader:\n",
      "                    if not args.conv:\n",
      "                        x = x.view(x.shape[0], -1)\n",
      "                    x = cvt(x)\n",
      "                    if args.conditional:\n",
      "                        loss_nll, loss_xent, y_predicted, atol, rtol, logp_actions, nfe = compute_bits_per_dim_conditional(x, y, model)\n",
      "                        if args.train_mode == \"semisup\":\n",
      "                            loss =  loss_nll + args.weight_y * loss_xent\n",
      "                        elif args.train_mode == \"sup\":\n",
      "                            loss =  loss_xent\n",
      "                        elif args.train_mode == \"unsup\":\n",
      "                            loss =  loss_nll\n",
      "                        else:\n",
      "                            raise ValueError('Choose supported train_mode: semisup, sup, unsup')\n",
      "                        total_correct += np.sum(y_predicted.astype(int) == y.numpy())\n",
      "                    else:\n",
      "                        loss, atol, rtol, logp_actions, nfe = compute_bits_per_dim(x, model)\n",
      "                        loss_nll, loss_xent = loss, 0.\n",
      "                    losses_nll.append(loss_nll.cpu().numpy()); losses.append(loss.cpu().numpy())\n",
      "                    if args.conditional: \n",
      "                        losses_xent.append(loss_xent.cpu().numpy())\n",
      "                    else:\n",
      "                        losses_xent.append(loss_xent)\n",
      "                \n",
      "                loss_nll = np.mean(losses_nll); loss_xent = np.mean(losses_xent); loss = np.mean(losses)\n",
      "                error_score =  1. - total_correct / len(test_loader.dataset)\n",
      "                time_epoch_meter.update(time.time() - start_epoch)\n",
      "                \n",
      "                # write to tensorboard\n",
      "                test_time_spent = time.time() - start\n",
      "                writer.add_scalars('time', {'validation': test_time_spent}, epoch)\n",
      "                writer.add_scalars('epoch_time', {'validation': time_epoch_meter.val}, epoch)\n",
      "                writer.add_scalars('bits_per_dim', {'validation': loss_nll}, epoch)\n",
      "                writer.add_scalars('xent', {'validation': loss_xent}, epoch)\n",
      "                writer.add_scalars('loss', {'validation': loss}, epoch)\n",
      "                writer.add_scalars('error', {'validation': error_score}, epoch)\n",
      "                \n",
      "                for tol_indx in range(len(atol)):\n",
      "                    writer.add_scalars('atol_%i'%tol_indx, {'validation': atol[tol_indx].mean()}, epoch)\n",
      "                    writer.add_scalars('rtol_%i'%tol_indx, {'validation': rtol[tol_indx].mean()}, epoch)\n",
      "                \n",
      "                log_message = \"Epoch {:04d} | Time {:.4f}, Epoch Time {:.4f}({:.4f}), Bit/dim {:.4f}(best: {:.4f}), Xent {:.4f}, Loss {:.4f}, Error {:.4f}(best: {:.4f})\".format(epoch, time.time() - start, time_epoch_meter.val, time_epoch_meter.avg, loss_nll, best_loss_nll, loss_xent, loss, error_score, best_error_score)\n",
      "                logger.info(log_message)\n",
      "                writer.add_text('info', log_message, epoch)\n",
      "                \n",
      "                for name, param in model.named_parameters():\n",
      "                    writer.add_histogram(name, param.clone().cpu().data.numpy(), epoch)\n",
      "                    \n",
      "                \n",
      "                utils.makedirs(args.save)\n",
      "                torch.save({\n",
      "                        \"args\": args,\n",
      "                        \"state_dict\": model.module.state_dict() if torch.cuda.is_available() else model.state_dict(),\n",
      "                        \"optim_state_dict\": optimizer.state_dict(),\n",
      "                        \"epoch\": epoch,\n",
      "                        \"iter\": itr-1,\n",
      "                        \"error\": error_score,\n",
      "                        \"loss\": loss,\n",
      "                        \"xent\": loss_xent,\n",
      "                        \"bits_per_dim\": loss_nll,\n",
      "                        \"best_bits_per_dim\": best_loss_nll,\n",
      "                        \"best_error_score\": best_error_score,\n",
      "                        \"epoch_time\": time_epoch_meter.val,\n",
      "                        \"epoch_time_avg\": time_epoch_meter.avg,\n",
      "                        \"time\": test_time_spent,\n",
      "                        \"error_train\": error_meter.avg,\n",
      "                        \"loss_train\": loss_meter.avg,\n",
      "                        \"xent_train\": xent_meter.avg,\n",
      "                        \"bits_per_dim_train\": nll_meter.avg,\n",
      "                        \"total_time_train\": tt_meter.avg,\n",
      "                        \"time_train\": time_meter.avg,\n",
      "                        \"nfe_train\": steps_meter.avg,\n",
      "                        \"grad_train\": grad_meter.avg,\n",
      "                    }, os.path.join(args.save, \"epoch_%i_checkpt.pth\"%epoch))\n",
      "                \n",
      "                torch.save({\n",
      "                        \"args\": args,\n",
      "                        \"state_dict\": model.module.state_dict() if torch.cuda.is_available() else model.state_dict(),\n",
      "                        \"optim_state_dict\": optimizer.state_dict(),\n",
      "                        \"epoch\": epoch,\n",
      "                        \"iter\": itr-1,\n",
      "                        \"error\": error_score,\n",
      "                        \"loss\": loss,\n",
      "                        \"xent\": loss_xent,\n",
      "                        \"bits_per_dim\": loss_nll,\n",
      "                        \"best_bits_per_dim\": best_loss_nll,\n",
      "                        \"best_error_score\": best_error_score,\n",
      "                        \"epoch_time\": time_epoch_meter.val,\n",
      "                        \"epoch_time_avg\": time_epoch_meter.avg,\n",
      "                        \"time\": test_time_spent,\n",
      "                        \"error_train\": error_meter.avg,\n",
      "                        \"loss_train\": loss_meter.avg,\n",
      "                        \"xent_train\": xent_meter.avg,\n",
      "                        \"bits_per_dim_train\": nll_meter.avg,\n",
      "                        \"total_time_train\": tt_meter.avg,\n",
      "                        \"time_train\": time_meter.avg,\n",
      "                        \"nfe_train\": steps_meter.avg,\n",
      "                        \"grad_train\": grad_meter.avg,\n",
      "                    }, os.path.join(args.save, \"current_checkpt.pth\"))\n",
      "                \n",
      "                if loss_nll < best_loss_nll:\n",
      "                    best_loss_nll = loss_nll\n",
      "                    utils.makedirs(args.save)\n",
      "                    torch.save({\n",
      "                        \"args\": args,\n",
      "                        \"state_dict\": model.module.state_dict() if torch.cuda.is_available() else model.state_dict(),\n",
      "                        \"optim_state_dict\": optimizer.state_dict(),\n",
      "                        \"epoch\": epoch,\n",
      "                        \"iter\": itr-1,\n",
      "                        \"error\": error_score,\n",
      "                        \"loss\": loss,\n",
      "                        \"xent\": loss_xent,\n",
      "                        \"bits_per_dim\": loss_nll,\n",
      "                        \"best_bits_per_dim\": best_loss_nll,\n",
      "                        \"best_error_score\": best_error_score,\n",
      "                        \"epoch_time\": time_epoch_meter.val,\n",
      "                        \"epoch_time_avg\": time_epoch_meter.avg,\n",
      "                        \"time\": test_time_spent,\n",
      "                        \"error_train\": error_meter.avg,\n",
      "                        \"loss_train\": loss_meter.avg,\n",
      "                        \"xent_train\": xent_meter.avg,\n",
      "                        \"bits_per_dim_train\": nll_meter.avg,\n",
      "                        \"total_time_train\": tt_meter.avg,\n",
      "                        \"time_train\": time_meter.avg,\n",
      "                        \"nfe_train\": steps_meter.avg,\n",
      "                        \"grad_train\": grad_meter.avg,\n",
      "                    }, os.path.join(args.save, \"best_nll_checkpt.pth\"))\n",
      "                    \n",
      "                if args.conditional:\n",
      "                    if error_score < best_error_score:\n",
      "                        best_error_score = error_score\n",
      "                        utils.makedirs(args.save)\n",
      "                        torch.save({\n",
      "                            \"args\": args,\n",
      "                            \"state_dict\": model.module.state_dict() if torch.cuda.is_available() else model.state_dict(),\n",
      "                            \"optim_state_dict\": optimizer.state_dict(),\n",
      "                            \"epoch\": epoch,\n",
      "                            \"iter\": itr-1,\n",
      "                            \"error\": error_score,\n",
      "                            \"loss\": loss,\n",
      "                            \"xent\": loss_xent,\n",
      "                            \"bits_per_dim\": loss_nll,\n",
      "                            \"best_bits_per_dim\": best_loss_nll,\n",
      "                            \"best_error_score\": best_error_score,\n",
      "                            \"epoch_time\": time_epoch_meter.val,\n",
      "                            \"epoch_time_avg\": time_epoch_meter.avg,\n",
      "                            \"time\": test_time_spent,\n",
      "                            \"error_train\": error_meter.avg,\n",
      "                            \"loss_train\": loss_meter.avg,\n",
      "                            \"xent_train\": xent_meter.avg,\n",
      "                            \"bits_per_dim_train\": nll_meter.avg,\n",
      "                            \"total_time_train\": tt_meter.avg,\n",
      "                            \"time_train\": time_meter.avg,\n",
      "                            \"nfe_train\": steps_meter.avg,\n",
      "                            \"grad_train\": grad_meter.avg,\n",
      "                        }, os.path.join(args.save, \"best_error_checkpt.pth\"))\n",
      "                        \n",
      "\n",
      "        # visualize samples and density\n",
      "        with torch.no_grad():\n",
      "            fig_filename = os.path.join(args.save, \"figs\", \"{:04d}.jpg\".format(epoch))\n",
      "            utils.makedirs(os.path.dirname(fig_filename))\n",
      "            generated_samples, atol, rtol, logp_actions, nfe = model(fixed_z, reverse=True)\n",
      "            generated_samples = generated_samples.view(-1, *data_shape)\n",
      "            for tol_indx in range(len(atol)):\n",
      "                writer.add_scalars('atol_gen_%i'%tol_indx, {'validation': atol[tol_indx].mean()}, epoch)\n",
      "                writer.add_scalars('rtol_gen_%i'%tol_indx, {'validation': rtol[tol_indx].mean()}, epoch)\n",
      "            save_image(generated_samples, fig_filename, nrow=10)\n",
      "            if args.data == \"mnist\":\n",
      "                writer.add_images('generated_images', generated_samples.repeat(1,3,1,1), epoch)\n",
      "            else:\n",
      "                writer.add_images('generated_images', generated_samples.repeat(1,1,1,1), epoch)\n",
      "Namespace(JFrobint=None, JdiagFrobint=None, JoffdiagFrobint=None, add_noise=True, alpha=1e-06, annealing_std=True, atol=0.0001, autoencode=False, batch_norm=False, batch_size=8000, batch_size_schedule='', begin_epoch=1, condition_ratio=0.5, conditional=True, controlled_tol=True, conv=True, data='cifar10', dims='64,64,64', divergence_fn='approximate', dl2int=None, dropout_rate=0.5, eta=0.1, gamma=0.99, gate='cnn2', imagesize=None, l1int=None, l2int=None, layer_type='concat', log_freq=1, lr=0.001, max_grad_norm=20.0, multiscale=True, nonlinearity='softplus', num_blocks=2, num_epochs=500, parallel=False, rademacher=True, residual=False, resume=None, rl_weight=0.01, rtol=0.0001, save='../experiments_published/cnf_conditional_disentangle_cifar10_bs8K_sratio_0_5_drop_0_5_rl_stdlearnscale_30_annealing_run3', scale=1.0, scale_fac=1.0, scale_std=30.0, seed=3, solver='dopri5', spectral_norm=False, spectral_norm_niter=10, step_size=None, strides='1,1,1,1', test_atol=None, test_batch_size=5000, test_rtol=None, test_solver=None, time_length=1.0, time_penalty=0, train_T=True, train_mode='semisup', val_freq=1, warmup_iters=1000.0, weight_decay=0.0, weight_y=0.5)\n"
     ]
    },
    {
     "name": "stdout",
     "output_type": "stream",
     "text": [
      "Files already downloaded and verified\n",
      "Files already downloaded and verified\n"
     ]
    },
    {
     "name": "stderr",
     "output_type": "stream",
     "text": [
      "ODENVP(\n",
      "  (transforms): ModuleList(\n",
      "    (0): StackedCNFLayers(\n",
      "      (chain): ModuleList(\n",
      "        (0): LogitTransform()\n",
      "        (1): CNF_Gate(\n",
      "          (gate_net): FeedforwardGateII(\n",
      "            (maxpool): MaxPool2d(kernel_size=2, stride=2, padding=0, dilation=1, ceil_mode=False)\n",
      "            (conv1): Conv2d(3, 10, kernel_size=(3, 3), stride=(1, 1), padding=(1, 1), bias=False)\n",
      "            (bn1): BatchNorm2d(10, eps=1e-05, momentum=0.1, affine=True, track_running_stats=True)\n",
      "            (relu1): ReLU(inplace)\n",
      "            (conv2): Conv2d(10, 10, kernel_size=(3, 3), stride=(2, 2), padding=(1, 1), bias=False)\n",
      "            (bn2): BatchNorm2d(10, eps=1e-05, momentum=0.1, affine=True, track_running_stats=True)\n",
      "            (relu2): ReLU(inplace)\n",
      "            (avg_layer): AdaptiveAvgPool2d(output_size=(1, 1))\n",
      "            (linear_layer): Conv2d(10, 2, kernel_size=(1, 1), stride=(1, 1))\n",
      "            (sigmoid): Sigmoid()\n",
      "          )\n",
      "          (odefunc): RegularizedODEfunc(\n",
      "            (odefunc): ODEfunc_rl(\n",
      "              (diffeq): ODEnet(\n",
      "                (layers): ModuleList(\n",
      "                  (0): ConcatConv2d(\n",
      "                    (_layer): Conv2d(4, 64, kernel_size=(3, 3), stride=(1, 1), padding=(1, 1))\n",
      "                  )\n",
      "                  (1): ConcatConv2d(\n",
      "                    (_layer): Conv2d(65, 64, kernel_size=(3, 3), stride=(1, 1), padding=(1, 1))\n",
      "                  )\n",
      "                  (2): ConcatConv2d(\n",
      "                    (_layer): Conv2d(65, 64, kernel_size=(3, 3), stride=(1, 1), padding=(1, 1))\n",
      "                  )\n",
      "                  (3): ConcatConv2d(\n",
      "                    (_layer): Conv2d(65, 3, kernel_size=(3, 3), stride=(1, 1), padding=(1, 1))\n",
      "                  )\n",
      "                )\n",
      "                (activation_fns): ModuleList(\n",
      "                  (0): Softplus(beta=1, threshold=20)\n",
      "                  (1): Softplus(beta=1, threshold=20)\n",
      "                  (2): Softplus(beta=1, threshold=20)\n",
      "                )\n",
      "              )\n",
      "            )\n",
      "          )\n",
      "        )\n",
      "        (2): CNF_Gate(\n",
      "          (gate_net): FeedforwardGateII(\n",
      "            (maxpool): MaxPool2d(kernel_size=2, stride=2, padding=0, dilation=1, ceil_mode=False)\n",
      "            (conv1): Conv2d(3, 10, kernel_size=(3, 3), stride=(1, 1), padding=(1, 1), bias=False)\n",
      "            (bn1): BatchNorm2d(10, eps=1e-05, momentum=0.1, affine=True, track_running_stats=True)\n",
      "            (relu1): ReLU(inplace)\n",
      "            (conv2): Conv2d(10, 10, kernel_size=(3, 3), stride=(2, 2), padding=(1, 1), bias=False)\n",
      "            (bn2): BatchNorm2d(10, eps=1e-05, momentum=0.1, affine=True, track_running_stats=True)\n",
      "            (relu2): ReLU(inplace)\n",
      "            (avg_layer): AdaptiveAvgPool2d(output_size=(1, 1))\n",
      "            (linear_layer): Conv2d(10, 2, kernel_size=(1, 1), stride=(1, 1))\n",
      "            (sigmoid): Sigmoid()\n",
      "          )\n",
      "          (odefunc): RegularizedODEfunc(\n",
      "            (odefunc): ODEfunc_rl(\n",
      "              (diffeq): ODEnet(\n",
      "                (layers): ModuleList(\n",
      "                  (0): ConcatConv2d(\n",
      "                    (_layer): Conv2d(4, 64, kernel_size=(3, 3), stride=(1, 1), padding=(1, 1))\n",
      "                  )\n",
      "                  (1): ConcatConv2d(\n",
      "                    (_layer): Conv2d(65, 64, kernel_size=(3, 3), stride=(1, 1), padding=(1, 1))\n",
      "                  )\n",
      "                  (2): ConcatConv2d(\n",
      "                    (_layer): Conv2d(65, 64, kernel_size=(3, 3), stride=(1, 1), padding=(1, 1))\n",
      "                  )\n",
      "                  (3): ConcatConv2d(\n",
      "                    (_layer): Conv2d(65, 3, kernel_size=(3, 3), stride=(1, 1), padding=(1, 1))\n",
      "                  )\n",
      "                )\n",
      "                (activation_fns): ModuleList(\n",
      "                  (0): Softplus(beta=1, threshold=20)\n",
      "                  (1): Softplus(beta=1, threshold=20)\n",
      "                  (2): Softplus(beta=1, threshold=20)\n",
      "                )\n",
      "              )\n",
      "            )\n",
      "          )\n",
      "        )\n",
      "        (3): SqueezeLayer()\n",
      "        (4): CNF_Gate(\n",
      "          (gate_net): FeedforwardGateII(\n",
      "            (maxpool): MaxPool2d(kernel_size=2, stride=2, padding=0, dilation=1, ceil_mode=False)\n",
      "            (conv1): Conv2d(12, 10, kernel_size=(3, 3), stride=(1, 1), padding=(1, 1), bias=False)\n",
      "            (bn1): BatchNorm2d(10, eps=1e-05, momentum=0.1, affine=True, track_running_stats=True)\n",
      "            (relu1): ReLU(inplace)\n",
      "            (conv2): Conv2d(10, 10, kernel_size=(3, 3), stride=(2, 2), padding=(1, 1), bias=False)\n",
      "            (bn2): BatchNorm2d(10, eps=1e-05, momentum=0.1, affine=True, track_running_stats=True)\n",
      "            (relu2): ReLU(inplace)\n",
      "            (avg_layer): AdaptiveAvgPool2d(output_size=(1, 1))\n",
      "            (linear_layer): Conv2d(10, 2, kernel_size=(1, 1), stride=(1, 1))\n",
      "            (sigmoid): Sigmoid()\n",
      "          )\n",
      "          (odefunc): RegularizedODEfunc(\n",
      "            (odefunc): ODEfunc_rl(\n",
      "              (diffeq): ODEnet(\n",
      "                (layers): ModuleList(\n",
      "                  (0): ConcatConv2d(\n",
      "                    (_layer): Conv2d(13, 64, kernel_size=(3, 3), stride=(1, 1), padding=(1, 1))\n",
      "                  )\n",
      "                  (1): ConcatConv2d(\n",
      "                    (_layer): Conv2d(65, 64, kernel_size=(3, 3), stride=(1, 1), padding=(1, 1))\n",
      "                  )\n",
      "                  (2): ConcatConv2d(\n",
      "                    (_layer): Conv2d(65, 64, kernel_size=(3, 3), stride=(1, 1), padding=(1, 1))\n",
      "                  )\n",
      "                  (3): ConcatConv2d(\n",
      "                    (_layer): Conv2d(65, 12, kernel_size=(3, 3), stride=(1, 1), padding=(1, 1))\n",
      "                  )\n",
      "                )\n",
      "                (activation_fns): ModuleList(\n",
      "                  (0): Softplus(beta=1, threshold=20)\n",
      "                  (1): Softplus(beta=1, threshold=20)\n",
      "                  (2): Softplus(beta=1, threshold=20)\n",
      "                )\n",
      "              )\n",
      "            )\n",
      "          )\n",
      "        )\n",
      "        (5): CNF_Gate(\n",
      "          (gate_net): FeedforwardGateII(\n",
      "            (maxpool): MaxPool2d(kernel_size=2, stride=2, padding=0, dilation=1, ceil_mode=False)\n",
      "            (conv1): Conv2d(12, 10, kernel_size=(3, 3), stride=(1, 1), padding=(1, 1), bias=False)\n",
      "            (bn1): BatchNorm2d(10, eps=1e-05, momentum=0.1, affine=True, track_running_stats=True)\n",
      "            (relu1): ReLU(inplace)\n",
      "            (conv2): Conv2d(10, 10, kernel_size=(3, 3), stride=(2, 2), padding=(1, 1), bias=False)\n",
      "            (bn2): BatchNorm2d(10, eps=1e-05, momentum=0.1, affine=True, track_running_stats=True)\n",
      "            (relu2): ReLU(inplace)\n",
      "            (avg_layer): AdaptiveAvgPool2d(output_size=(1, 1))\n",
      "            (linear_layer): Conv2d(10, 2, kernel_size=(1, 1), stride=(1, 1))\n",
      "            (sigmoid): Sigmoid()\n",
      "          )\n",
      "          (odefunc): RegularizedODEfunc(\n",
      "            (odefunc): ODEfunc_rl(\n",
      "              (diffeq): ODEnet(\n",
      "                (layers): ModuleList(\n",
      "                  (0): ConcatConv2d(\n",
      "                    (_layer): Conv2d(13, 64, kernel_size=(3, 3), stride=(1, 1), padding=(1, 1))\n",
      "                  )\n",
      "                  (1): ConcatConv2d(\n",
      "                    (_layer): Conv2d(65, 64, kernel_size=(3, 3), stride=(1, 1), padding=(1, 1))\n",
      "                  )\n",
      "                  (2): ConcatConv2d(\n",
      "                    (_layer): Conv2d(65, 64, kernel_size=(3, 3), stride=(1, 1), padding=(1, 1))\n",
      "                  )\n",
      "                  (3): ConcatConv2d(\n",
      "                    (_layer): Conv2d(65, 12, kernel_size=(3, 3), stride=(1, 1), padding=(1, 1))\n",
      "                  )\n",
      "                )\n",
      "                (activation_fns): ModuleList(\n",
      "                  (0): Softplus(beta=1, threshold=20)\n",
      "                  (1): Softplus(beta=1, threshold=20)\n",
      "                  (2): Softplus(beta=1, threshold=20)\n",
      "                )\n",
      "              )\n",
      "            )\n",
      "          )\n",
      "        )\n",
      "      )\n",
      "    )\n",
      "    (1): StackedCNFLayers(\n",
      "      (chain): ModuleList(\n",
      "        (0): CNF_Gate(\n",
      "          (gate_net): FeedforwardGateII(\n",
      "            (maxpool): MaxPool2d(kernel_size=2, stride=2, padding=0, dilation=1, ceil_mode=False)\n",
      "            (conv1): Conv2d(6, 10, kernel_size=(3, 3), stride=(1, 1), padding=(1, 1), bias=False)\n",
      "            (bn1): BatchNorm2d(10, eps=1e-05, momentum=0.1, affine=True, track_running_stats=True)\n",
      "            (relu1): ReLU(inplace)\n",
      "            (conv2): Conv2d(10, 10, kernel_size=(3, 3), stride=(2, 2), padding=(1, 1), bias=False)\n",
      "            (bn2): BatchNorm2d(10, eps=1e-05, momentum=0.1, affine=True, track_running_stats=True)\n",
      "            (relu2): ReLU(inplace)\n",
      "            (avg_layer): AdaptiveAvgPool2d(output_size=(1, 1))\n",
      "            (linear_layer): Conv2d(10, 2, kernel_size=(1, 1), stride=(1, 1))\n",
      "            (sigmoid): Sigmoid()\n",
      "          )\n",
      "          (odefunc): RegularizedODEfunc(\n",
      "            (odefunc): ODEfunc_rl(\n",
      "              (diffeq): ODEnet(\n",
      "                (layers): ModuleList(\n",
      "                  (0): ConcatConv2d(\n",
      "                    (_layer): Conv2d(7, 64, kernel_size=(3, 3), stride=(1, 1), padding=(1, 1))\n",
      "                  )\n",
      "                  (1): ConcatConv2d(\n",
      "                    (_layer): Conv2d(65, 64, kernel_size=(3, 3), stride=(1, 1), padding=(1, 1))\n",
      "                  )\n",
      "                  (2): ConcatConv2d(\n",
      "                    (_layer): Conv2d(65, 64, kernel_size=(3, 3), stride=(1, 1), padding=(1, 1))\n",
      "                  )\n",
      "                  (3): ConcatConv2d(\n",
      "                    (_layer): Conv2d(65, 6, kernel_size=(3, 3), stride=(1, 1), padding=(1, 1))\n",
      "                  )\n",
      "                )\n",
      "                (activation_fns): ModuleList(\n",
      "                  (0): Softplus(beta=1, threshold=20)\n",
      "                  (1): Softplus(beta=1, threshold=20)\n",
      "                  (2): Softplus(beta=1, threshold=20)\n",
      "                )\n",
      "              )\n",
      "            )\n",
      "          )\n",
      "        )\n",
      "        (1): CNF_Gate(\n",
      "          (gate_net): FeedforwardGateII(\n",
      "            (maxpool): MaxPool2d(kernel_size=2, stride=2, padding=0, dilation=1, ceil_mode=False)\n",
      "            (conv1): Conv2d(6, 10, kernel_size=(3, 3), stride=(1, 1), padding=(1, 1), bias=False)\n",
      "            (bn1): BatchNorm2d(10, eps=1e-05, momentum=0.1, affine=True, track_running_stats=True)\n",
      "            (relu1): ReLU(inplace)\n",
      "            (conv2): Conv2d(10, 10, kernel_size=(3, 3), stride=(2, 2), padding=(1, 1), bias=False)\n",
      "            (bn2): BatchNorm2d(10, eps=1e-05, momentum=0.1, affine=True, track_running_stats=True)\n",
      "            (relu2): ReLU(inplace)\n",
      "            (avg_layer): AdaptiveAvgPool2d(output_size=(1, 1))\n",
      "            (linear_layer): Conv2d(10, 2, kernel_size=(1, 1), stride=(1, 1))\n",
      "            (sigmoid): Sigmoid()\n",
      "          )\n",
      "          (odefunc): RegularizedODEfunc(\n",
      "            (odefunc): ODEfunc_rl(\n",
      "              (diffeq): ODEnet(\n",
      "                (layers): ModuleList(\n",
      "                  (0): ConcatConv2d(\n",
      "                    (_layer): Conv2d(7, 64, kernel_size=(3, 3), stride=(1, 1), padding=(1, 1))\n",
      "                  )\n",
      "                  (1): ConcatConv2d(\n",
      "                    (_layer): Conv2d(65, 64, kernel_size=(3, 3), stride=(1, 1), padding=(1, 1))\n",
      "                  )\n",
      "                  (2): ConcatConv2d(\n",
      "                    (_layer): Conv2d(65, 64, kernel_size=(3, 3), stride=(1, 1), padding=(1, 1))\n",
      "                  )\n",
      "                  (3): ConcatConv2d(\n",
      "                    (_layer): Conv2d(65, 6, kernel_size=(3, 3), stride=(1, 1), padding=(1, 1))\n",
      "                  )\n",
      "                )\n",
      "                (activation_fns): ModuleList(\n",
      "                  (0): Softplus(beta=1, threshold=20)\n",
      "                  (1): Softplus(beta=1, threshold=20)\n",
      "                  (2): Softplus(beta=1, threshold=20)\n",
      "                )\n",
      "              )\n",
      "            )\n",
      "          )\n",
      "        )\n",
      "        (2): SqueezeLayer()\n",
      "        (3): CNF_Gate(\n",
      "          (gate_net): FeedforwardGateII(\n",
      "            (maxpool): MaxPool2d(kernel_size=2, stride=2, padding=0, dilation=1, ceil_mode=False)\n",
      "            (conv1): Conv2d(24, 10, kernel_size=(3, 3), stride=(1, 1), padding=(1, 1), bias=False)\n",
      "            (bn1): BatchNorm2d(10, eps=1e-05, momentum=0.1, affine=True, track_running_stats=True)\n",
      "            (relu1): ReLU(inplace)\n",
      "            (conv2): Conv2d(10, 10, kernel_size=(3, 3), stride=(2, 2), padding=(1, 1), bias=False)\n",
      "            (bn2): BatchNorm2d(10, eps=1e-05, momentum=0.1, affine=True, track_running_stats=True)\n",
      "            (relu2): ReLU(inplace)\n",
      "            (avg_layer): AdaptiveAvgPool2d(output_size=(1, 1))\n",
      "            (linear_layer): Conv2d(10, 2, kernel_size=(1, 1), stride=(1, 1))\n",
      "            (sigmoid): Sigmoid()\n",
      "          )\n",
      "          (odefunc): RegularizedODEfunc(\n",
      "            (odefunc): ODEfunc_rl(\n",
      "              (diffeq): ODEnet(\n",
      "                (layers): ModuleList(\n",
      "                  (0): ConcatConv2d(\n",
      "                    (_layer): Conv2d(25, 64, kernel_size=(3, 3), stride=(1, 1), padding=(1, 1))\n",
      "                  )\n",
      "                  (1): ConcatConv2d(\n",
      "                    (_layer): Conv2d(65, 64, kernel_size=(3, 3), stride=(1, 1), padding=(1, 1))\n",
      "                  )\n",
      "                  (2): ConcatConv2d(\n",
      "                    (_layer): Conv2d(65, 64, kernel_size=(3, 3), stride=(1, 1), padding=(1, 1))\n",
      "                  )\n",
      "                  (3): ConcatConv2d(\n",
      "                    (_layer): Conv2d(65, 24, kernel_size=(3, 3), stride=(1, 1), padding=(1, 1))\n",
      "                  )\n",
      "                )\n",
      "                (activation_fns): ModuleList(\n",
      "                  (0): Softplus(beta=1, threshold=20)\n",
      "                  (1): Softplus(beta=1, threshold=20)\n",
      "                  (2): Softplus(beta=1, threshold=20)\n",
      "                )\n",
      "              )\n",
      "            )\n",
      "          )\n",
      "        )\n",
      "        (4): CNF_Gate(\n",
      "          (gate_net): FeedforwardGateII(\n",
      "            (maxpool): MaxPool2d(kernel_size=2, stride=2, padding=0, dilation=1, ceil_mode=False)\n",
      "            (conv1): Conv2d(24, 10, kernel_size=(3, 3), stride=(1, 1), padding=(1, 1), bias=False)\n",
      "            (bn1): BatchNorm2d(10, eps=1e-05, momentum=0.1, affine=True, track_running_stats=True)\n",
      "            (relu1): ReLU(inplace)\n",
      "            (conv2): Conv2d(10, 10, kernel_size=(3, 3), stride=(2, 2), padding=(1, 1), bias=False)\n",
      "            (bn2): BatchNorm2d(10, eps=1e-05, momentum=0.1, affine=True, track_running_stats=True)\n",
      "            (relu2): ReLU(inplace)\n",
      "            (avg_layer): AdaptiveAvgPool2d(output_size=(1, 1))\n",
      "            (linear_layer): Conv2d(10, 2, kernel_size=(1, 1), stride=(1, 1))\n",
      "            (sigmoid): Sigmoid()\n",
      "          )\n",
      "          (odefunc): RegularizedODEfunc(\n",
      "            (odefunc): ODEfunc_rl(\n",
      "              (diffeq): ODEnet(\n",
      "                (layers): ModuleList(\n",
      "                  (0): ConcatConv2d(\n",
      "                    (_layer): Conv2d(25, 64, kernel_size=(3, 3), stride=(1, 1), padding=(1, 1))\n",
      "                  )\n",
      "                  (1): ConcatConv2d(\n",
      "                    (_layer): Conv2d(65, 64, kernel_size=(3, 3), stride=(1, 1), padding=(1, 1))\n",
      "                  )\n",
      "                  (2): ConcatConv2d(\n",
      "                    (_layer): Conv2d(65, 64, kernel_size=(3, 3), stride=(1, 1), padding=(1, 1))\n",
      "                  )\n",
      "                  (3): ConcatConv2d(\n",
      "                    (_layer): Conv2d(65, 24, kernel_size=(3, 3), stride=(1, 1), padding=(1, 1))\n",
      "                  )\n",
      "                )\n",
      "                (activation_fns): ModuleList(\n",
      "                  (0): Softplus(beta=1, threshold=20)\n",
      "                  (1): Softplus(beta=1, threshold=20)\n",
      "                  (2): Softplus(beta=1, threshold=20)\n",
      "                )\n",
      "              )\n",
      "            )\n",
      "          )\n",
      "        )\n",
      "      )\n",
      "    )\n",
      "    (2): StackedCNFLayers(\n",
      "      (chain): ModuleList(\n",
      "        (0): CNF_Gate(\n",
      "          (gate_net): FeedforwardGateII(\n",
      "            (maxpool): MaxPool2d(kernel_size=2, stride=2, padding=0, dilation=1, ceil_mode=False)\n",
      "            (conv1): Conv2d(12, 10, kernel_size=(3, 3), stride=(1, 1), padding=(1, 1), bias=False)\n",
      "            (bn1): BatchNorm2d(10, eps=1e-05, momentum=0.1, affine=True, track_running_stats=True)\n",
      "            (relu1): ReLU(inplace)\n",
      "            (conv2): Conv2d(10, 10, kernel_size=(3, 3), stride=(2, 2), padding=(1, 1), bias=False)\n",
      "            (bn2): BatchNorm2d(10, eps=1e-05, momentum=0.1, affine=True, track_running_stats=True)\n",
      "            (relu2): ReLU(inplace)\n",
      "            (avg_layer): AdaptiveAvgPool2d(output_size=(1, 1))\n",
      "            (linear_layer): Conv2d(10, 2, kernel_size=(1, 1), stride=(1, 1))\n",
      "            (sigmoid): Sigmoid()\n",
      "          )\n",
      "          (odefunc): RegularizedODEfunc(\n",
      "            (odefunc): ODEfunc_rl(\n",
      "              (diffeq): ODEnet(\n",
      "                (layers): ModuleList(\n",
      "                  (0): ConcatConv2d(\n",
      "                    (_layer): Conv2d(13, 64, kernel_size=(3, 3), stride=(1, 1), padding=(1, 1))\n",
      "                  )\n",
      "                  (1): ConcatConv2d(\n",
      "                    (_layer): Conv2d(65, 64, kernel_size=(3, 3), stride=(1, 1), padding=(1, 1))\n",
      "                  )\n",
      "                  (2): ConcatConv2d(\n",
      "                    (_layer): Conv2d(65, 64, kernel_size=(3, 3), stride=(1, 1), padding=(1, 1))\n",
      "                  )\n",
      "                  (3): ConcatConv2d(\n",
      "                    (_layer): Conv2d(65, 12, kernel_size=(3, 3), stride=(1, 1), padding=(1, 1))\n",
      "                  )\n",
      "                )\n",
      "                (activation_fns): ModuleList(\n",
      "                  (0): Softplus(beta=1, threshold=20)\n",
      "                  (1): Softplus(beta=1, threshold=20)\n",
      "                  (2): Softplus(beta=1, threshold=20)\n",
      "                )\n",
      "              )\n",
      "            )\n",
      "          )\n",
      "        )\n",
      "        (1): CNF_Gate(\n",
      "          (gate_net): FeedforwardGateII(\n",
      "            (maxpool): MaxPool2d(kernel_size=2, stride=2, padding=0, dilation=1, ceil_mode=False)\n",
      "            (conv1): Conv2d(12, 10, kernel_size=(3, 3), stride=(1, 1), padding=(1, 1), bias=False)\n",
      "            (bn1): BatchNorm2d(10, eps=1e-05, momentum=0.1, affine=True, track_running_stats=True)\n",
      "            (relu1): ReLU(inplace)\n",
      "            (conv2): Conv2d(10, 10, kernel_size=(3, 3), stride=(2, 2), padding=(1, 1), bias=False)\n",
      "            (bn2): BatchNorm2d(10, eps=1e-05, momentum=0.1, affine=True, track_running_stats=True)\n",
      "            (relu2): ReLU(inplace)\n",
      "            (avg_layer): AdaptiveAvgPool2d(output_size=(1, 1))\n",
      "            (linear_layer): Conv2d(10, 2, kernel_size=(1, 1), stride=(1, 1))\n",
      "            (sigmoid): Sigmoid()\n",
      "          )\n",
      "          (odefunc): RegularizedODEfunc(\n",
      "            (odefunc): ODEfunc_rl(\n",
      "              (diffeq): ODEnet(\n",
      "                (layers): ModuleList(\n",
      "                  (0): ConcatConv2d(\n",
      "                    (_layer): Conv2d(13, 64, kernel_size=(3, 3), stride=(1, 1), padding=(1, 1))\n",
      "                  )\n",
      "                  (1): ConcatConv2d(\n",
      "                    (_layer): Conv2d(65, 64, kernel_size=(3, 3), stride=(1, 1), padding=(1, 1))\n",
      "                  )\n",
      "                  (2): ConcatConv2d(\n",
      "                    (_layer): Conv2d(65, 64, kernel_size=(3, 3), stride=(1, 1), padding=(1, 1))\n",
      "                  )\n",
      "                  (3): ConcatConv2d(\n",
      "                    (_layer): Conv2d(65, 12, kernel_size=(3, 3), stride=(1, 1), padding=(1, 1))\n",
      "                  )\n",
      "                )\n",
      "                (activation_fns): ModuleList(\n",
      "                  (0): Softplus(beta=1, threshold=20)\n",
      "                  (1): Softplus(beta=1, threshold=20)\n",
      "                  (2): Softplus(beta=1, threshold=20)\n",
      "                )\n",
      "              )\n",
      "            )\n",
      "          )\n",
      "        )\n",
      "        (2): SqueezeLayer()\n",
      "        (3): CNF_Gate(\n",
      "          (gate_net): FeedforwardGateII(\n",
      "            (maxpool): MaxPool2d(kernel_size=2, stride=2, padding=0, dilation=1, ceil_mode=False)\n",
      "            (conv1): Conv2d(48, 10, kernel_size=(3, 3), stride=(1, 1), padding=(1, 1), bias=False)\n",
      "            (bn1): BatchNorm2d(10, eps=1e-05, momentum=0.1, affine=True, track_running_stats=True)\n",
      "            (relu1): ReLU(inplace)\n",
      "            (conv2): Conv2d(10, 10, kernel_size=(3, 3), stride=(2, 2), padding=(1, 1), bias=False)\n",
      "            (bn2): BatchNorm2d(10, eps=1e-05, momentum=0.1, affine=True, track_running_stats=True)\n",
      "            (relu2): ReLU(inplace)\n",
      "            (avg_layer): AdaptiveAvgPool2d(output_size=(1, 1))\n",
      "            (linear_layer): Conv2d(10, 2, kernel_size=(1, 1), stride=(1, 1))\n",
      "            (sigmoid): Sigmoid()\n",
      "          )\n",
      "          (odefunc): RegularizedODEfunc(\n",
      "            (odefunc): ODEfunc_rl(\n",
      "              (diffeq): ODEnet(\n",
      "                (layers): ModuleList(\n",
      "                  (0): ConcatConv2d(\n",
      "                    (_layer): Conv2d(49, 64, kernel_size=(3, 3), stride=(1, 1), padding=(1, 1))\n",
      "                  )\n",
      "                  (1): ConcatConv2d(\n",
      "                    (_layer): Conv2d(65, 64, kernel_size=(3, 3), stride=(1, 1), padding=(1, 1))\n",
      "                  )\n",
      "                  (2): ConcatConv2d(\n",
      "                    (_layer): Conv2d(65, 64, kernel_size=(3, 3), stride=(1, 1), padding=(1, 1))\n",
      "                  )\n",
      "                  (3): ConcatConv2d(\n",
      "                    (_layer): Conv2d(65, 48, kernel_size=(3, 3), stride=(1, 1), padding=(1, 1))\n",
      "                  )\n",
      "                )\n",
      "                (activation_fns): ModuleList(\n",
      "                  (0): Softplus(beta=1, threshold=20)\n",
      "                  (1): Softplus(beta=1, threshold=20)\n",
      "                  (2): Softplus(beta=1, threshold=20)\n",
      "                )\n",
      "              )\n",
      "            )\n",
      "          )\n",
      "        )\n",
      "        (4): CNF_Gate(\n",
      "          (gate_net): FeedforwardGateII(\n",
      "            (maxpool): MaxPool2d(kernel_size=2, stride=2, padding=0, dilation=1, ceil_mode=False)\n",
      "            (conv1): Conv2d(48, 10, kernel_size=(3, 3), stride=(1, 1), padding=(1, 1), bias=False)\n",
      "            (bn1): BatchNorm2d(10, eps=1e-05, momentum=0.1, affine=True, track_running_stats=True)\n",
      "            (relu1): ReLU(inplace)\n",
      "            (conv2): Conv2d(10, 10, kernel_size=(3, 3), stride=(2, 2), padding=(1, 1), bias=False)\n",
      "            (bn2): BatchNorm2d(10, eps=1e-05, momentum=0.1, affine=True, track_running_stats=True)\n",
      "            (relu2): ReLU(inplace)\n",
      "            (avg_layer): AdaptiveAvgPool2d(output_size=(1, 1))\n",
      "            (linear_layer): Conv2d(10, 2, kernel_size=(1, 1), stride=(1, 1))\n",
      "            (sigmoid): Sigmoid()\n",
      "          )\n",
      "          (odefunc): RegularizedODEfunc(\n",
      "            (odefunc): ODEfunc_rl(\n",
      "              (diffeq): ODEnet(\n",
      "                (layers): ModuleList(\n",
      "                  (0): ConcatConv2d(\n",
      "                    (_layer): Conv2d(49, 64, kernel_size=(3, 3), stride=(1, 1), padding=(1, 1))\n",
      "                  )\n",
      "                  (1): ConcatConv2d(\n",
      "                    (_layer): Conv2d(65, 64, kernel_size=(3, 3), stride=(1, 1), padding=(1, 1))\n",
      "                  )\n",
      "                  (2): ConcatConv2d(\n",
      "                    (_layer): Conv2d(65, 64, kernel_size=(3, 3), stride=(1, 1), padding=(1, 1))\n",
      "                  )\n",
      "                  (3): ConcatConv2d(\n",
      "                    (_layer): Conv2d(65, 48, kernel_size=(3, 3), stride=(1, 1), padding=(1, 1))\n",
      "                  )\n",
      "                )\n",
      "                (activation_fns): ModuleList(\n",
      "                  (0): Softplus(beta=1, threshold=20)\n",
      "                  (1): Softplus(beta=1, threshold=20)\n",
      "                  (2): Softplus(beta=1, threshold=20)\n",
      "                )\n",
      "              )\n",
      "            )\n",
      "          )\n",
      "        )\n",
      "      )\n",
      "    )\n",
      "    (3): StackedCNFLayers(\n",
      "      (chain): ModuleList(\n",
      "        (0): CNF_Gate(\n",
      "          (gate_net): FeedforwardGateII(\n",
      "            (maxpool): MaxPool2d(kernel_size=2, stride=2, padding=0, dilation=1, ceil_mode=False)\n",
      "            (conv1): Conv2d(24, 10, kernel_size=(3, 3), stride=(1, 1), padding=(1, 1), bias=False)\n",
      "            (bn1): BatchNorm2d(10, eps=1e-05, momentum=0.1, affine=True, track_running_stats=True)\n",
      "            (relu1): ReLU(inplace)\n",
      "            (conv2): Conv2d(10, 10, kernel_size=(3, 3), stride=(2, 2), padding=(1, 1), bias=False)\n",
      "            (bn2): BatchNorm2d(10, eps=1e-05, momentum=0.1, affine=True, track_running_stats=True)\n",
      "            (relu2): ReLU(inplace)\n",
      "            (avg_layer): AdaptiveAvgPool2d(output_size=(1, 1))\n",
      "            (linear_layer): Conv2d(10, 2, kernel_size=(1, 1), stride=(1, 1))\n",
      "            (sigmoid): Sigmoid()\n",
      "          )\n",
      "          (odefunc): RegularizedODEfunc(\n",
      "            (odefunc): ODEfunc_rl(\n",
      "              (diffeq): ODEnet(\n",
      "                (layers): ModuleList(\n",
      "                  (0): ConcatConv2d(\n",
      "                    (_layer): Conv2d(25, 64, kernel_size=(3, 3), stride=(1, 1), padding=(1, 1))\n",
      "                  )\n",
      "                  (1): ConcatConv2d(\n",
      "                    (_layer): Conv2d(65, 64, kernel_size=(3, 3), stride=(1, 1), padding=(1, 1))\n",
      "                  )\n",
      "                  (2): ConcatConv2d(\n",
      "                    (_layer): Conv2d(65, 64, kernel_size=(3, 3), stride=(1, 1), padding=(1, 1))\n",
      "                  )\n",
      "                  (3): ConcatConv2d(\n",
      "                    (_layer): Conv2d(65, 24, kernel_size=(3, 3), stride=(1, 1), padding=(1, 1))\n",
      "                  )\n",
      "                )\n",
      "                (activation_fns): ModuleList(\n",
      "                  (0): Softplus(beta=1, threshold=20)\n",
      "                  (1): Softplus(beta=1, threshold=20)\n",
      "                  (2): Softplus(beta=1, threshold=20)\n",
      "                )\n",
      "              )\n",
      "            )\n",
      "          )\n",
      "        )\n",
      "        (1): CNF_Gate(\n",
      "          (gate_net): FeedforwardGateII(\n",
      "            (maxpool): MaxPool2d(kernel_size=2, stride=2, padding=0, dilation=1, ceil_mode=False)\n",
      "            (conv1): Conv2d(24, 10, kernel_size=(3, 3), stride=(1, 1), padding=(1, 1), bias=False)\n",
      "            (bn1): BatchNorm2d(10, eps=1e-05, momentum=0.1, affine=True, track_running_stats=True)\n",
      "            (relu1): ReLU(inplace)\n",
      "            (conv2): Conv2d(10, 10, kernel_size=(3, 3), stride=(2, 2), padding=(1, 1), bias=False)\n",
      "            (bn2): BatchNorm2d(10, eps=1e-05, momentum=0.1, affine=True, track_running_stats=True)\n",
      "            (relu2): ReLU(inplace)\n",
      "            (avg_layer): AdaptiveAvgPool2d(output_size=(1, 1))\n",
      "            (linear_layer): Conv2d(10, 2, kernel_size=(1, 1), stride=(1, 1))\n",
      "            (sigmoid): Sigmoid()\n",
      "          )\n",
      "          (odefunc): RegularizedODEfunc(\n",
      "            (odefunc): ODEfunc_rl(\n",
      "              (diffeq): ODEnet(\n",
      "                (layers): ModuleList(\n",
      "                  (0): ConcatConv2d(\n",
      "                    (_layer): Conv2d(25, 64, kernel_size=(3, 3), stride=(1, 1), padding=(1, 1))\n",
      "                  )\n",
      "                  (1): ConcatConv2d(\n",
      "                    (_layer): Conv2d(65, 64, kernel_size=(3, 3), stride=(1, 1), padding=(1, 1))\n",
      "                  )\n",
      "                  (2): ConcatConv2d(\n",
      "                    (_layer): Conv2d(65, 64, kernel_size=(3, 3), stride=(1, 1), padding=(1, 1))\n",
      "                  )\n",
      "                  (3): ConcatConv2d(\n",
      "                    (_layer): Conv2d(65, 24, kernel_size=(3, 3), stride=(1, 1), padding=(1, 1))\n",
      "                  )\n",
      "                )\n",
      "                (activation_fns): ModuleList(\n",
      "                  (0): Softplus(beta=1, threshold=20)\n",
      "                  (1): Softplus(beta=1, threshold=20)\n",
      "                  (2): Softplus(beta=1, threshold=20)\n",
      "                )\n",
      "              )\n",
      "            )\n",
      "          )\n",
      "        )\n",
      "      )\n",
      "    )\n",
      "  )\n",
      "  (project_ycond): LinearZeros(in_features=10, out_features=3072, bias=True)\n",
      "  (project_class): LinearZeros(in_features=1536, out_features=10, bias=True)\n",
      "  (dropout): Dropout(p=0.5)\n",
      ")\n",
      "Number of trainable parameters: 1450886\n",
      "===> Using batch size 8000. Total 6 iterations/epoch.\n"
     ]
    },
    {
     "name": "stdout",
     "output_type": "stream",
     "text": [
      "30.0\n",
      "30.0\n",
      "30.0\n",
      "30.0\n",
      "30.0\n",
      "30.0\n",
      "30.0\n",
      "30.0\n",
      "30.0\n",
      "30.0\n",
      "30.0\n",
      "30.0\n",
      "30.0\n",
      "30.0\n"
     ]
    },
    {
     "name": "stderr",
     "output_type": "stream",
     "text": [
      "/tancode/repos/tan-ffjord/lib/layers/odefunc_rl.py:291: UserWarning: To copy construct from a tensor, it is recommended to use sourceTensor.clone().detach() or sourceTensor.clone().detach().requires_grad_(True), rather than torch.tensor(sourceTensor).\n",
      "  t = torch.tensor(t).type_as(y)\n",
      "/opt/conda/lib/python3.6/site-packages/torch/nn/parallel/_functions.py:61: UserWarning: Was asked to gather along dimension 0, but all input tensors were scalars; will instead unsqueeze and return a vector.\n",
      "  warnings.warn('Was asked to gather along dimension 0, but all '\n",
      "Iter 0001 | Time 97.1083(97.1083) | Bit/dim 9.2495(9.2495) | Xent 2.3026(2.3026) | Loss 21.4998(21.4998) | Error 0.9069(0.9069) Steps 448(448.00) | Grad Norm 37.5201(37.5201) | Total Time 0.00(0.00)\n",
      "Iter 0002 | Time 36.8205(95.2997) | Bit/dim 9.2477(9.2494) | Xent 2.3016(2.3026) | Loss 21.4594(21.4986) | Error 0.7760(0.9029) Steps 460(448.36) | Grad Norm 37.3531(37.5151) | Total Time 0.00(0.00)\n",
      "Iter 0003 | Time 39.4216(93.6233) | Bit/dim 9.2184(9.2485) | Xent 2.3000(2.3025) | Loss 21.6107(21.5020) | Error 0.7672(0.8989) Steps 454(448.53) | Grad Norm 36.9956(37.4995) | Total Time 0.00(0.00)\n",
      "Iter 0004 | Time 33.3286(91.8145) | Bit/dim 9.2110(9.2474) | Xent 2.2981(2.3023) | Loss 21.3436(21.4972) | Error 0.7672(0.8949) Steps 424(447.79) | Grad Norm 35.6709(37.4447) | Total Time 0.00(0.00)\n",
      "Iter 0005 | Time 37.8994(90.1971) | Bit/dim 9.1772(9.2453) | Xent 2.2953(2.3021) | Loss 21.3192(21.4919) | Error 0.7661(0.8911) Steps 442(447.62) | Grad Norm 35.0708(37.3734) | Total Time 0.00(0.00)\n",
      "Iter 0006 | Time 37.9087(88.6284) | Bit/dim 9.1195(9.2415) | Xent 2.2930(2.3019) | Loss 21.0364(21.4782) | Error 0.7709(0.8875) Steps 442(447.45) | Grad Norm 33.3396(37.2524) | Total Time 0.00(0.00)\n",
      "validating...\n",
      "Epoch 0001 | Time 32.8317, Epoch Time 330.6936(330.6936), Bit/dim 9.0902(best: inf), Xent 2.2889, Loss 10.2346, Error 0.7567(best: inf)\n",
      "===> Using batch size 8000. Total 6 iterations/epoch.\n"
     ]
    },
    {
     "name": "stdout",
     "output_type": "stream",
     "text": [
      "29.94011976047904\n",
      "29.94011976047904\n",
      "29.94011976047904\n",
      "29.94011976047904\n",
      "29.94011976047904\n",
      "29.94011976047904\n",
      "29.94011976047904\n",
      "29.94011976047904\n",
      "29.94011976047904\n",
      "29.94011976047904\n",
      "29.94011976047904\n",
      "29.94011976047904\n",
      "29.94011976047904\n",
      "29.94011976047904\n"
     ]
    },
    {
     "name": "stderr",
     "output_type": "stream",
     "text": [
      "Iter 0007 | Time 48.8990(87.4365) | Bit/dim 9.1067(9.2375) | Xent 2.2892(2.3015) | Loss 23.5453(21.5402) | Error 0.7676(0.8839) Steps 460(447.83) | Grad Norm 32.3863(37.1064) | Total Time 0.00(0.00)\n",
      "Iter 0008 | Time 39.7027(86.0045) | Bit/dim 9.0543(9.2320) | Xent 2.2856(2.3010) | Loss 20.8737(21.5202) | Error 0.7697(0.8804) Steps 430(447.29) | Grad Norm 30.8088(36.9175) | Total Time 0.00(0.00)\n",
      "Iter 0009 | Time 39.6597(84.6142) | Bit/dim 9.0064(9.2252) | Xent 2.2816(2.3004) | Loss 20.9557(21.5033) | Error 0.7616(0.8769) Steps 454(447.49) | Grad Norm 29.2769(36.6883) | Total Time 0.00(0.00)\n",
      "Iter 0010 | Time 39.2047(83.2519) | Bit/dim 8.9915(9.2182) | Xent 2.2765(2.2997) | Loss 21.1921(21.4940) | Error 0.7645(0.8735) Steps 442(447.33) | Grad Norm 28.1311(36.4316) | Total Time 0.00(0.00)\n",
      "Iter 0011 | Time 37.0908(81.8670) | Bit/dim 8.9246(9.2094) | Xent 2.2718(2.2989) | Loss 19.7674(21.4422) | Error 0.7625(0.8702) Steps 460(447.71) | Grad Norm 24.7224(36.0803) | Total Time 0.00(0.00)\n",
      "Iter 0012 | Time 36.9698(80.5201) | Bit/dim 8.8713(9.1992) | Xent 2.2653(2.2979) | Loss 20.3216(21.4085) | Error 0.7500(0.8666) Steps 448(447.72) | Grad Norm 23.5068(35.7031) | Total Time 0.00(0.00)\n",
      "validating...\n",
      "Epoch 0002 | Time 18.8215, Epoch Time 276.2060(329.0589), Bit/dim 8.8182(best: 9.0902), Xent 2.2593, Loss 9.9479, Error 0.7474(best: 0.7567)\n",
      "===> Using batch size 8000. Total 6 iterations/epoch.\n"
     ]
    },
    {
     "name": "stdout",
     "output_type": "stream",
     "text": [
      "29.880239520958085\n",
      "29.880239520958085\n",
      "29.880239520958085\n",
      "29.880239520958085\n",
      "29.880239520958085\n",
      "29.880239520958085\n",
      "29.880239520958085\n",
      "29.880239520958085\n",
      "29.880239520958085\n",
      "29.880239520958085\n",
      "29.880239520958085\n",
      "29.880239520958085\n",
      "29.880239520958085\n",
      "29.880239520958085\n"
     ]
    },
    {
     "name": "stderr",
     "output_type": "stream",
     "text": [
      "Iter 0013 | Time 37.5259(79.2303) | Bit/dim 8.8464(9.1886) | Xent 2.2604(2.2967) | Loss 23.6116(21.4746) | Error 0.7519(0.8631) Steps 466(448.27) | Grad Norm 22.0906(35.2947) | Total Time 0.00(0.00)\n",
      "Iter 0014 | Time 38.1638(77.9983) | Bit/dim 8.7798(9.1764) | Xent 2.2543(2.2955) | Loss 20.5067(21.4456) | Error 0.7554(0.8599) Steps 442(448.08) | Grad Norm 19.7789(34.8292) | Total Time 0.00(0.00)\n",
      "Iter 0015 | Time 38.0106(76.7987) | Bit/dim 8.7430(9.1634) | Xent 2.2479(2.2940) | Loss 20.1029(21.4053) | Error 0.7516(0.8566) Steps 442(447.90) | Grad Norm 17.5389(34.3105) | Total Time 0.00(0.00)\n",
      "Iter 0016 | Time 36.4579(75.5884) | Bit/dim 8.6934(9.1493) | Xent 2.2430(2.2925) | Loss 19.5477(21.3496) | Error 0.7578(0.8537) Steps 466(448.44) | Grad Norm 15.1111(33.7346) | Total Time 0.00(0.00)\n",
      "Iter 0017 | Time 37.2711(74.4389) | Bit/dim 8.6635(9.1347) | Xent 2.2342(2.2908) | Loss 20.1718(21.3143) | Error 0.7511(0.8506) Steps 490(449.69) | Grad Norm 13.8656(33.1385) | Total Time 0.00(0.00)\n",
      "Iter 0018 | Time 39.3440(73.3861) | Bit/dim 8.6113(9.1190) | Xent 2.2283(2.2889) | Loss 20.4926(21.2896) | Error 0.7494(0.8476) Steps 490(450.90) | Grad Norm 12.2195(32.5109) | Total Time 0.00(0.00)\n",
      "validating...\n",
      "Epoch 0003 | Time 19.3261, Epoch Time 262.1915(327.0529), Bit/dim 8.5850(best: 8.8182), Xent 2.2186, Loss 9.6943, Error 0.7407(best: 0.7474)\n",
      "===> Using batch size 8000. Total 6 iterations/epoch.\n"
     ]
    },
    {
     "name": "stdout",
     "output_type": "stream",
     "text": [
      "29.820359281437124\n",
      "29.820359281437124\n",
      "29.820359281437124\n",
      "29.820359281437124\n",
      "29.820359281437124\n",
      "29.820359281437124\n",
      "29.820359281437124\n",
      "29.820359281437124\n",
      "29.820359281437124\n",
      "29.820359281437124\n",
      "29.820359281437124\n",
      "29.820359281437124\n",
      "29.820359281437124\n",
      "29.820359281437124\n"
     ]
    },
    {
     "name": "stderr",
     "output_type": "stream",
     "text": [
      "Iter 0019 | Time 40.4903(72.3992) | Bit/dim 8.5950(9.1033) | Xent 2.2209(2.2868) | Loss 23.0324(21.3419) | Error 0.7460(0.8445) Steps 496(452.25) | Grad Norm 10.8818(31.8620) | Total Time 0.00(0.00)\n",
      "Iter 0020 | Time 35.3799(71.2886) | Bit/dim 8.5802(9.0876) | Xent 2.2108(2.2846) | Loss 19.3084(21.2809) | Error 0.7410(0.8414) Steps 442(451.94) | Grad Norm 9.3556(31.1868) | Total Time 0.00(0.00)\n",
      "Iter 0021 | Time 41.2281(70.3868) | Bit/dim 8.5704(9.0721) | Xent 2.2101(2.2823) | Loss 20.1255(21.2462) | Error 0.7552(0.8388) Steps 478(452.72) | Grad Norm 9.2419(30.5285) | Total Time 0.00(0.00)\n",
      "Iter 0022 | Time 39.6718(69.4654) | Bit/dim 8.5376(9.0560) | Xent 2.2017(2.2799) | Loss 20.1983(21.2148) | Error 0.7495(0.8361) Steps 442(452.40) | Grad Norm 8.5516(29.8692) | Total Time 0.00(0.00)\n",
      "Iter 0023 | Time 33.8748(68.3976) | Bit/dim 8.4816(9.0388) | Xent 2.1936(2.2773) | Loss 19.7639(21.1713) | Error 0.7476(0.8335) Steps 424(451.55) | Grad Norm 8.4324(29.2261) | Total Time 0.00(0.00)\n",
      "Iter 0024 | Time 34.3370(67.3758) | Bit/dim 8.4903(9.0224) | Xent 2.1879(2.2746) | Loss 20.1369(21.1402) | Error 0.7456(0.8309) Steps 466(451.98) | Grad Norm 8.5686(28.6064) | Total Time 0.00(0.00)\n",
      "validating...\n",
      "Epoch 0004 | Time 19.0028, Epoch Time 260.0037(325.0414), Bit/dim 8.4644(best: 8.5850), Xent 2.1776, Loss 9.5532, Error 0.7360(best: 0.7407)\n",
      "===> Using batch size 8000. Total 6 iterations/epoch.\n"
     ]
    },
    {
     "name": "stdout",
     "output_type": "stream",
     "text": [
      "29.760479041916167\n",
      "29.760479041916167\n",
      "29.760479041916167\n",
      "29.760479041916167\n",
      "29.760479041916167\n",
      "29.760479041916167\n",
      "29.760479041916167\n",
      "29.760479041916167\n",
      "29.760479041916167\n",
      "29.760479041916167\n",
      "29.760479041916167\n",
      "29.760479041916167\n",
      "29.760479041916167\n",
      "29.760479041916167\n"
     ]
    },
    {
     "name": "stderr",
     "output_type": "stream",
     "text": [
      "Iter 0025 | Time 36.8822(66.4610) | Bit/dim 8.4649(9.0056) | Xent 2.1788(2.2718) | Loss 22.5226(21.1817) | Error 0.7375(0.8281) Steps 478(452.76) | Grad Norm 8.8324(28.0132) | Total Time 0.00(0.00)\n",
      "Iter 0026 | Time 35.9263(65.5450) | Bit/dim 8.4654(8.9894) | Xent 2.1759(2.2689) | Loss 19.6558(21.1359) | Error 0.7398(0.8254) Steps 448(452.62) | Grad Norm 8.9003(27.4398) | Total Time 0.00(0.00)\n",
      "Iter 0027 | Time 33.5262(64.5844) | Bit/dim 8.4475(8.9732) | Xent 2.1752(2.2661) | Loss 19.5740(21.0891) | Error 0.7530(0.8232) Steps 430(451.94) | Grad Norm 8.7273(26.8784) | Total Time 0.00(0.00)\n",
      "Iter 0028 | Time 34.8498(63.6924) | Bit/dim 8.4042(8.9561) | Xent 2.1611(2.2629) | Loss 19.5361(21.0425) | Error 0.7483(0.8210) Steps 418(450.92) | Grad Norm 9.0622(26.3439) | Total Time 0.00(0.00)\n",
      "Iter 0029 | Time 40.1562(62.9863) | Bit/dim 8.4097(8.9397) | Xent 2.1572(2.2598) | Loss 19.8560(21.0069) | Error 0.7368(0.8185) Steps 466(451.38) | Grad Norm 8.9062(25.8208) | Total Time 0.00(0.00)\n",
      "Iter 0030 | Time 35.6137(62.1651) | Bit/dim 8.3821(8.9230) | Xent 2.1578(2.2567) | Loss 19.1239(20.9504) | Error 0.7492(0.8164) Steps 454(451.45) | Grad Norm 8.4168(25.2987) | Total Time 0.00(0.00)\n",
      "validating...\n",
      "Epoch 0005 | Time 18.7305, Epoch Time 251.6938(322.8410), Bit/dim 8.3517(best: 8.4644), Xent 2.1430, Loss 9.4232, Error 0.7299(best: 0.7360)\n",
      "===> Using batch size 8000. Total 6 iterations/epoch.\n"
     ]
    },
    {
     "name": "stdout",
     "output_type": "stream",
     "text": [
      "29.70059880239521\n",
      "29.70059880239521\n",
      "29.70059880239521\n",
      "29.70059880239521\n",
      "29.70059880239521\n",
      "29.70059880239521\n",
      "29.70059880239521\n",
      "29.70059880239521\n",
      "29.70059880239521\n",
      "29.70059880239521\n",
      "29.70059880239521\n",
      "29.70059880239521\n",
      "29.70059880239521\n",
      "29.70059880239521\n"
     ]
    },
    {
     "name": "stderr",
     "output_type": "stream",
     "text": [
      "Iter 0031 | Time 39.6515(61.4897) | Bit/dim 8.3495(8.9058) | Xent 2.1455(2.2534) | Loss 21.9347(20.9799) | Error 0.7386(0.8141) Steps 430(450.81) | Grad Norm 8.2245(24.7864) | Total Time 0.00(0.00)\n",
      "Iter 0032 | Time 40.9156(60.8725) | Bit/dim 8.3208(8.8882) | Xent 2.1416(2.2500) | Loss 19.1344(20.9246) | Error 0.7355(0.8117) Steps 406(449.47) | Grad Norm 7.5637(24.2698) | Total Time 0.00(0.00)\n",
      "Iter 0033 | Time 36.2843(60.1348) | Bit/dim 8.3158(8.8711) | Xent 2.1435(2.2468) | Loss 19.5984(20.8848) | Error 0.7348(0.8094) Steps 466(449.96) | Grad Norm 7.1594(23.7564) | Total Time 0.00(0.00)\n",
      "Iter 0034 | Time 37.4472(59.4542) | Bit/dim 8.3011(8.8540) | Xent 2.1367(2.2435) | Loss 19.2865(20.8368) | Error 0.7350(0.8072) Steps 466(450.44) | Grad Norm 6.6532(23.2433) | Total Time 0.00(0.00)\n",
      "Iter 0035 | Time 38.3542(58.8212) | Bit/dim 8.2832(8.8368) | Xent 2.1233(2.2399) | Loss 19.2886(20.7904) | Error 0.7286(0.8048) Steps 442(450.19) | Grad Norm 6.0359(22.7271) | Total Time 0.00(0.00)\n",
      "Iter 0036 | Time 37.7121(58.1879) | Bit/dim 8.2573(8.8194) | Xent 2.1235(2.2364) | Loss 19.3306(20.7466) | Error 0.7384(0.8028) Steps 478(451.02) | Grad Norm 5.2006(22.2013) | Total Time 0.00(0.00)\n",
      "validating...\n",
      "Epoch 0006 | Time 18.7792, Epoch Time 265.0263(321.1066), Bit/dim 8.2188(best: 8.3517), Xent 2.1108, Loss 9.2742, Error 0.7175(best: 0.7299)\n",
      "===> Using batch size 8000. Total 6 iterations/epoch.\n"
     ]
    },
    {
     "name": "stdout",
     "output_type": "stream",
     "text": [
      "29.64071856287425\n",
      "29.64071856287425\n",
      "29.64071856287425\n",
      "29.64071856287425\n",
      "29.64071856287425\n",
      "29.64071856287425\n",
      "29.64071856287425\n",
      "29.64071856287425\n",
      "29.64071856287425\n",
      "29.64071856287425\n",
      "29.64071856287425\n",
      "29.64071856287425\n",
      "29.64071856287425\n",
      "29.64071856287425\n"
     ]
    },
    {
     "name": "stderr",
     "output_type": "stream",
     "text": [
      "Iter 0037 | Time 36.2275(57.5291) | Bit/dim 8.2117(8.8012) | Xent 2.1092(2.2326) | Loss 21.1470(20.7586) | Error 0.7231(0.8004) Steps 430(450.39) | Grad Norm 4.7012(21.6763) | Total Time 0.00(0.00)\n",
      "Iter 0038 | Time 36.4859(56.8978) | Bit/dim 8.2078(8.7834) | Xent 2.1096(2.2289) | Loss 19.1426(20.7101) | Error 0.7221(0.7981) Steps 442(450.14) | Grad Norm 4.6973(21.1669) | Total Time 0.00(0.00)\n",
      "Iter 0039 | Time 35.8095(56.2652) | Bit/dim 8.1885(8.7656) | Xent 2.1158(2.2255) | Loss 19.2142(20.6652) | Error 0.7255(0.7959) Steps 436(449.72) | Grad Norm 4.7261(20.6737) | Total Time 0.00(0.00)\n",
      "Iter 0040 | Time 39.6202(55.7658) | Bit/dim 8.1775(8.7479) | Xent 2.1048(2.2219) | Loss 19.4287(20.6281) | Error 0.7238(0.7937) Steps 430(449.13) | Grad Norm 5.0049(20.2037) | Total Time 0.00(0.00)\n",
      "Iter 0041 | Time 32.9529(55.0814) | Bit/dim 8.1579(8.7302) | Xent 2.1019(2.2183) | Loss 18.7670(20.5723) | Error 0.7251(0.7917) Steps 418(448.19) | Grad Norm 5.1352(19.7516) | Total Time 0.00(0.00)\n",
      "Iter 0042 | Time 36.9340(54.5370) | Bit/dim 8.1239(8.7120) | Xent 2.0964(2.2146) | Loss 18.8011(20.5192) | Error 0.7211(0.7896) Steps 478(449.09) | Grad Norm 5.5526(19.3256) | Total Time 0.00(0.00)\n",
      "validating...\n",
      "Epoch 0007 | Time 17.8603, Epoch Time 251.4951(319.0182), Bit/dim 8.1005(best: 8.2188), Xent 2.0835, Loss 9.1422, Error 0.7090(best: 0.7175)\n",
      "===> Using batch size 8000. Total 6 iterations/epoch.\n"
     ]
    },
    {
     "name": "stdout",
     "output_type": "stream",
     "text": [
      "29.58083832335329\n",
      "29.58083832335329\n",
      "29.58083832335329\n",
      "29.58083832335329\n",
      "29.58083832335329\n",
      "29.58083832335329\n",
      "29.58083832335329\n",
      "29.58083832335329\n",
      "29.58083832335329\n",
      "29.58083832335329\n",
      "29.58083832335329\n",
      "29.58083832335329\n",
      "29.58083832335329\n",
      "29.58083832335329\n"
     ]
    },
    {
     "name": "stderr",
     "output_type": "stream",
     "text": [
      "Iter 0043 | Time 33.9564(53.9196) | Bit/dim 8.1062(8.6939) | Xent 2.0945(2.2110) | Loss 21.1846(20.5391) | Error 0.7139(0.7873) Steps 418(448.15) | Grad Norm 5.7186(18.9174) | Total Time 0.00(0.00)\n",
      "Iter 0044 | Time 37.8727(53.4382) | Bit/dim 8.1084(8.6763) | Xent 2.0822(2.2072) | Loss 19.0884(20.4956) | Error 0.7094(0.7849) Steps 424(447.43) | Grad Norm 6.0808(18.5323) | Total Time 0.00(0.00)\n",
      "Iter 0045 | Time 34.2782(52.8634) | Bit/dim 8.0561(8.6577) | Xent 2.0867(2.2036) | Loss 18.9154(20.4482) | Error 0.7195(0.7830) Steps 406(446.19) | Grad Norm 5.7953(18.1502) | Total Time 0.00(0.00)\n",
      "Iter 0046 | Time 33.9053(52.2946) | Bit/dim 8.0348(8.6390) | Xent 2.0766(2.1997) | Loss 18.8195(20.3993) | Error 0.7175(0.7810) Steps 448(446.24) | Grad Norm 5.6101(17.7740) | Total Time 0.00(0.00)\n",
      "Iter 0047 | Time 36.8199(51.8304) | Bit/dim 8.0142(8.6203) | Xent 2.0805(2.1962) | Loss 18.9257(20.3551) | Error 0.7063(0.7788) Steps 442(446.11) | Grad Norm 5.4027(17.4029) | Total Time 0.00(0.00)\n",
      "Iter 0048 | Time 38.4158(51.4280) | Bit/dim 7.9844(8.6012) | Xent 2.0645(2.1922) | Loss 18.8610(20.3103) | Error 0.7012(0.7764) Steps 436(445.81) | Grad Norm 5.1483(17.0352) | Total Time 0.00(0.00)\n",
      "validating...\n",
      "Epoch 0008 | Time 18.3499, Epoch Time 249.8957(316.9445), Bit/dim 7.9514(best: 8.1005), Xent 2.0614, Loss 8.9821, Error 0.6953(best: 0.7090)\n",
      "===> Using batch size 8000. Total 6 iterations/epoch.\n"
     ]
    },
    {
     "name": "stdout",
     "output_type": "stream",
     "text": [
      "29.520958083832337\n",
      "29.520958083832337\n",
      "29.520958083832337\n",
      "29.520958083832337\n",
      "29.520958083832337\n",
      "29.520958083832337\n",
      "29.520958083832337\n",
      "29.520958083832337\n",
      "29.520958083832337\n",
      "29.520958083832337\n",
      "29.520958083832337\n",
      "29.520958083832337\n",
      "29.520958083832337\n",
      "29.520958083832337\n"
     ]
    },
    {
     "name": "stderr",
     "output_type": "stream",
     "text": [
      "Iter 0049 | Time 38.2458(51.0325) | Bit/dim 7.9609(8.5820) | Xent 2.0700(2.1886) | Loss 21.0413(20.3322) | Error 0.7052(0.7743) Steps 406(444.62) | Grad Norm 4.7774(16.6675) | Total Time 0.00(0.00)\n",
      "Iter 0050 | Time 35.5651(50.5685) | Bit/dim 7.9322(8.5625) | Xent 2.0636(2.1848) | Loss 18.6225(20.2810) | Error 0.6997(0.7721) Steps 442(444.54) | Grad Norm 4.6396(16.3067) | Total Time 0.00(0.00)\n",
      "Iter 0051 | Time 33.1110(50.0447) | Bit/dim 7.9126(8.5430) | Xent 2.0624(2.1811) | Loss 18.5984(20.2305) | Error 0.6927(0.7697) Steps 430(444.10) | Grad Norm 4.5333(15.9535) | Total Time 0.00(0.00)\n",
      "Iter 0052 | Time 40.9083(49.7707) | Bit/dim 7.8662(8.5227) | Xent 2.0649(2.1776) | Loss 18.5409(20.1798) | Error 0.6970(0.7675) Steps 484(445.30) | Grad Norm 4.4590(15.6086) | Total Time 0.00(0.00)\n",
      "Iter 0053 | Time 37.7811(49.4110) | Bit/dim 7.8441(8.5023) | Xent 2.0579(2.1741) | Loss 18.6823(20.1349) | Error 0.6910(0.7652) Steps 442(445.20) | Grad Norm 4.6566(15.2801) | Total Time 0.00(0.00)\n",
      "Iter 0054 | Time 36.8758(49.0349) | Bit/dim 7.8260(8.4820) | Xent 2.0484(2.1703) | Loss 18.3265(20.0806) | Error 0.6879(0.7629) Steps 478(446.18) | Grad Norm 4.8618(14.9675) | Total Time 0.00(0.00)\n",
      "validating...\n",
      "Epoch 0009 | Time 19.1661, Epoch Time 257.4070(315.1584), Bit/dim 7.7875(best: 7.9514), Xent 2.0450, Loss 8.8101, Error 0.6829(best: 0.6953)\n",
      "===> Using batch size 8000. Total 6 iterations/epoch.\n"
     ]
    },
    {
     "name": "stdout",
     "output_type": "stream",
     "text": [
      "29.461077844311376\n",
      "29.461077844311376\n",
      "29.461077844311376\n",
      "29.461077844311376\n",
      "29.461077844311376\n",
      "29.461077844311376\n",
      "29.461077844311376\n",
      "29.461077844311376\n",
      "29.461077844311376\n",
      "29.461077844311376\n",
      "29.461077844311376\n",
      "29.461077844311376\n",
      "29.461077844311376\n",
      "29.461077844311376\n"
     ]
    },
    {
     "name": "stderr",
     "output_type": "stream",
     "text": [
      "Iter 0055 | Time 37.2745(48.6821) | Bit/dim 7.7925(8.4613) | Xent 2.0536(2.1668) | Loss 20.8648(20.1041) | Error 0.6954(0.7609) Steps 466(446.78) | Grad Norm 4.8757(14.6648) | Total Time 0.00(0.00)\n",
      "Iter 0056 | Time 36.8392(48.3268) | Bit/dim 7.7660(8.4405) | Xent 2.0545(2.1634) | Loss 18.5031(20.0561) | Error 0.6983(0.7590) Steps 472(447.53) | Grad Norm 4.9923(14.3746) | Total Time 0.00(0.00)\n",
      "Iter 0057 | Time 35.1964(47.9329) | Bit/dim 7.7284(8.4191) | Xent 2.0356(2.1596) | Loss 18.3388(20.0046) | Error 0.6821(0.7567) Steps 430(447.01) | Grad Norm 4.9209(14.0910) | Total Time 0.00(0.00)\n",
      "Iter 0058 | Time 34.8101(47.5392) | Bit/dim 7.7024(8.3976) | Xent 2.0433(2.1561) | Loss 17.8532(19.9400) | Error 0.6824(0.7545) Steps 442(446.86) | Grad Norm 4.6098(13.8065) | Total Time 0.00(0.00)\n",
      "Iter 0059 | Time 36.3967(47.2049) | Bit/dim 7.6762(8.3760) | Xent 2.0467(2.1528) | Loss 18.1086(19.8851) | Error 0.6755(0.7521) Steps 460(447.25) | Grad Norm 4.5787(13.5297) | Total Time 0.00(0.00)\n",
      "Iter 0060 | Time 42.1900(47.0545) | Bit/dim 7.6427(8.3540) | Xent 2.0365(2.1493) | Loss 18.3655(19.8395) | Error 0.6850(0.7501) Steps 478(448.17) | Grad Norm 4.3539(13.2544) | Total Time 0.00(0.00)\n",
      "validating...\n",
      "Epoch 0010 | Time 19.0331, Epoch Time 257.8053(313.4378), Bit/dim 7.6085(best: 7.7875), Xent 2.0310, Loss 8.6240, Error 0.6724(best: 0.6829)\n",
      "===> Using batch size 8000. Total 6 iterations/epoch.\n"
     ]
    },
    {
     "name": "stdout",
     "output_type": "stream",
     "text": [
      "29.40119760479042\n",
      "29.40119760479042\n",
      "29.40119760479042\n",
      "29.40119760479042\n",
      "29.40119760479042\n",
      "29.40119760479042\n",
      "29.40119760479042\n",
      "29.40119760479042\n",
      "29.40119760479042\n",
      "29.40119760479042\n",
      "29.40119760479042\n",
      "29.40119760479042\n",
      "29.40119760479042\n",
      "29.40119760479042\n"
     ]
    },
    {
     "name": "stderr",
     "output_type": "stream",
     "text": [
      "Iter 0061 | Time 36.2095(46.7291) | Bit/dim 7.6128(8.3317) | Xent 2.0293(2.1457) | Loss 20.6083(19.8626) | Error 0.6755(0.7478) Steps 442(447.99) | Grad Norm 4.2379(12.9839) | Total Time 0.00(0.00)\n",
      "Iter 0062 | Time 37.4069(46.4495) | Bit/dim 7.5750(8.3090) | Xent 2.0309(2.1423) | Loss 17.8085(19.8010) | Error 0.6731(0.7456) Steps 466(448.53) | Grad Norm 4.0562(12.7161) | Total Time 0.00(0.00)\n",
      "Iter 0063 | Time 42.0599(46.3178) | Bit/dim 7.5498(8.2863) | Xent 2.0312(2.1389) | Loss 18.1783(19.7523) | Error 0.6753(0.7435) Steps 466(449.05) | Grad Norm 4.2315(12.4616) | Total Time 0.00(0.00)\n",
      "Iter 0064 | Time 35.3727(45.9894) | Bit/dim 7.5270(8.2635) | Xent 2.0416(2.1360) | Loss 17.8851(19.6963) | Error 0.6847(0.7417) Steps 454(449.20) | Grad Norm 4.2282(12.2146) | Total Time 0.00(0.00)\n",
      "Iter 0065 | Time 36.5448(45.7061) | Bit/dim 7.4999(8.2406) | Xent 2.0404(2.1332) | Loss 17.7171(19.6369) | Error 0.6784(0.7398) Steps 418(448.27) | Grad Norm 4.1982(11.9741) | Total Time 0.00(0.00)\n",
      "Iter 0066 | Time 35.4704(45.3990) | Bit/dim 7.4672(8.2174) | Xent 2.0331(2.1302) | Loss 17.8666(19.5838) | Error 0.6746(0.7379) Steps 454(448.44) | Grad Norm 4.0543(11.7365) | Total Time 0.00(0.00)\n",
      "validating...\n",
      "Epoch 0011 | Time 18.6133, Epoch Time 257.5129(311.7601), Bit/dim 7.4369(best: 7.6085), Xent 2.0243, Loss 8.4491, Error 0.6648(best: 0.6724)\n",
      "===> Using batch size 8000. Total 6 iterations/epoch.\n"
     ]
    },
    {
     "name": "stdout",
     "output_type": "stream",
     "text": [
      "29.34131736526946\n",
      "29.34131736526946\n",
      "29.34131736526946\n",
      "29.34131736526946\n",
      "29.34131736526946\n",
      "29.34131736526946\n",
      "29.34131736526946\n",
      "29.34131736526946\n",
      "29.34131736526946\n",
      "29.34131736526946\n",
      "29.34131736526946\n",
      "29.34131736526946\n",
      "29.34131736526946\n",
      "29.34131736526946\n"
     ]
    },
    {
     "name": "stderr",
     "output_type": "stream",
     "text": [
      "Iter 0067 | Time 39.2513(45.2146) | Bit/dim 7.4363(8.1939) | Xent 2.0264(2.1270) | Loss 20.3150(19.6057) | Error 0.6718(0.7359) Steps 466(448.97) | Grad Norm 3.8466(11.4998) | Total Time 0.00(0.00)\n",
      "Iter 0068 | Time 37.8250(44.9929) | Bit/dim 7.4112(8.1705) | Xent 2.0299(2.1241) | Loss 17.4583(19.5413) | Error 0.6724(0.7340) Steps 466(449.48) | Grad Norm 3.7795(11.2682) | Total Time 0.00(0.00)\n",
      "Iter 0069 | Time 36.1285(44.7270) | Bit/dim 7.3853(8.1469) | Xent 2.0338(2.1214) | Loss 17.4382(19.4782) | Error 0.6796(0.7323) Steps 466(449.97) | Grad Norm 3.5621(11.0370) | Total Time 0.00(0.00)\n",
      "Iter 0070 | Time 39.7018(44.5762) | Bit/dim 7.3617(8.1234) | Xent 2.0307(2.1187) | Loss 17.6252(19.4226) | Error 0.6670(0.7304) Steps 472(450.63) | Grad Norm 3.5341(10.8119) | Total Time 0.00(0.00)\n",
      "Iter 0071 | Time 37.0823(44.3514) | Bit/dim 7.3383(8.0998) | Xent 2.0436(2.1164) | Loss 17.2386(19.3571) | Error 0.6823(0.7289) Steps 454(450.73) | Grad Norm 3.3122(10.5869) | Total Time 0.00(0.00)\n",
      "Iter 0072 | Time 39.0088(44.1911) | Bit/dim 7.3133(8.0762) | Xent 2.0256(2.1137) | Loss 17.3242(19.2961) | Error 0.6696(0.7272) Steps 442(450.47) | Grad Norm 3.2831(10.3678) | Total Time 0.00(0.00)\n",
      "validating...\n",
      "Epoch 0012 | Time 19.4797, Epoch Time 264.2421(310.3345), Bit/dim 7.2905(best: 7.4369), Xent 2.0261, Loss 8.3035, Error 0.6609(best: 0.6648)\n",
      "===> Using batch size 8000. Total 6 iterations/epoch.\n"
     ]
    },
    {
     "name": "stdout",
     "output_type": "stream",
     "text": [
      "29.281437125748504\n",
      "29.281437125748504\n",
      "29.281437125748504\n",
      "29.281437125748504\n",
      "29.281437125748504\n",
      "29.281437125748504\n",
      "29.281437125748504\n",
      "29.281437125748504\n",
      "29.281437125748504\n",
      "29.281437125748504\n",
      "29.281437125748504\n",
      "29.281437125748504\n",
      "29.281437125748504\n",
      "29.281437125748504\n"
     ]
    },
    {
     "name": "stderr",
     "output_type": "stream",
     "text": [
      "Iter 0073 | Time 36.9170(43.9729) | Bit/dim 7.2934(8.0527) | Xent 2.0293(2.1112) | Loss 19.8377(19.3124) | Error 0.6598(0.7251) Steps 454(450.58) | Grad Norm 3.1131(10.1502) | Total Time 0.00(0.00)\n",
      "Iter 0074 | Time 35.3103(43.7130) | Bit/dim 7.2729(8.0293) | Xent 2.0282(2.1087) | Loss 17.4216(19.2556) | Error 0.6694(0.7235) Steps 448(450.50) | Grad Norm 2.9125(9.9330) | Total Time 0.00(0.00)\n",
      "Iter 0075 | Time 38.4890(43.5563) | Bit/dim 7.2526(8.0060) | Xent 2.0360(2.1065) | Loss 17.2593(19.1957) | Error 0.6723(0.7219) Steps 466(450.97) | Grad Norm 2.7110(9.7164) | Total Time 0.00(0.00)\n",
      "Iter 0076 | Time 42.1546(43.5143) | Bit/dim 7.2294(7.9827) | Xent 2.0341(2.1043) | Loss 17.3158(19.1393) | Error 0.6771(0.7206) Steps 454(451.06) | Grad Norm 2.6540(9.5045) | Total Time 0.00(0.00)\n",
      "Iter 0077 | Time 39.3880(43.3905) | Bit/dim 7.2089(7.9595) | Xent 2.0418(2.1025) | Loss 17.1216(19.0788) | Error 0.6829(0.7195) Steps 502(452.58) | Grad Norm 2.5469(9.2958) | Total Time 0.00(0.00)\n",
      "Iter 0078 | Time 37.1543(43.2034) | Bit/dim 7.1962(7.9366) | Xent 2.0399(2.1006) | Loss 17.0647(19.0184) | Error 0.6831(0.7184) Steps 466(452.99) | Grad Norm 2.3498(9.0874) | Total Time 0.00(0.00)\n",
      "validating...\n",
      "Epoch 0013 | Time 19.4072, Epoch Time 264.4684(308.9586), Bit/dim 7.1838(best: 7.2905), Xent 2.0333, Loss 8.2004, Error 0.6651(best: 0.6609)\n",
      "===> Using batch size 8000. Total 6 iterations/epoch.\n"
     ]
    },
    {
     "name": "stdout",
     "output_type": "stream",
     "text": [
      "29.221556886227546\n",
      "29.221556886227546\n",
      "29.221556886227546\n",
      "29.221556886227546\n",
      "29.221556886227546\n",
      "29.221556886227546\n",
      "29.221556886227546\n",
      "29.221556886227546\n",
      "29.221556886227546\n",
      "29.221556886227546\n",
      "29.221556886227546\n",
      "29.221556886227546\n",
      "29.221556886227546\n",
      "29.221556886227546\n"
     ]
    },
    {
     "name": "stderr",
     "output_type": "stream",
     "text": [
      "Iter 0079 | Time 35.0848(42.9598) | Bit/dim 7.1809(7.9139) | Xent 2.0383(2.0987) | Loss 19.2485(19.0253) | Error 0.6780(0.7172) Steps 442(452.66) | Grad Norm 2.1862(8.8804) | Total Time 0.00(0.00)\n",
      "Iter 0080 | Time 37.3543(42.7917) | Bit/dim 7.1702(7.8916) | Xent 2.0506(2.0973) | Loss 16.8714(18.9607) | Error 0.6823(0.7161) Steps 454(452.70) | Grad Norm 2.0317(8.6749) | Total Time 0.00(0.00)\n",
      "Iter 0081 | Time 40.3146(42.7173) | Bit/dim 7.1588(7.8696) | Xent 2.0487(2.0958) | Loss 17.3134(18.9113) | Error 0.6818(0.7151) Steps 478(453.46) | Grad Norm 2.0298(8.4755) | Total Time 0.00(0.00)\n",
      "Iter 0082 | Time 40.9742(42.6650) | Bit/dim 7.1458(7.8479) | Xent 2.0465(2.0943) | Loss 17.0288(18.8548) | Error 0.6843(0.7142) Steps 442(453.11) | Grad Norm 1.9805(8.2807) | Total Time 0.00(0.00)\n",
      "Iter 0083 | Time 38.2862(42.5337) | Bit/dim 7.1360(7.8266) | Xent 2.0401(2.0927) | Loss 17.1846(18.8047) | Error 0.6859(0.7133) Steps 448(452.96) | Grad Norm 1.8080(8.0865) | Total Time 0.00(0.00)\n",
      "Iter 0084 | Time 37.1317(42.3716) | Bit/dim 7.1199(7.8054) | Xent 2.0376(2.0911) | Loss 17.0695(18.7526) | Error 0.6798(0.7123) Steps 418(451.91) | Grad Norm 1.7968(7.8978) | Total Time 0.00(0.00)\n",
      "validating...\n",
      "Epoch 0014 | Time 19.2339, Epoch Time 264.0550(307.6114), Bit/dim 7.1154(best: 7.1838), Xent 2.0423, Loss 8.1366, Error 0.6773(best: 0.6609)\n",
      "===> Using batch size 8000. Total 6 iterations/epoch.\n"
     ]
    },
    {
     "name": "stdout",
     "output_type": "stream",
     "text": [
      "29.16167664670659\n",
      "29.16167664670659\n",
      "29.16167664670659\n",
      "29.16167664670659\n",
      "29.16167664670659\n",
      "29.16167664670659\n",
      "29.16167664670659\n",
      "29.16167664670659\n",
      "29.16167664670659\n",
      "29.16167664670659\n",
      "29.16167664670659\n",
      "29.16167664670659\n",
      "29.16167664670659\n",
      "29.16167664670659\n"
     ]
    },
    {
     "name": "stderr",
     "output_type": "stream",
     "text": [
      "Iter 0085 | Time 37.8583(42.2362) | Bit/dim 7.1124(7.7846) | Xent 2.0533(2.0899) | Loss 19.5098(18.7753) | Error 0.7003(0.7119) Steps 502(453.41) | Grad Norm 1.6859(7.7115) | Total Time 0.00(0.00)\n",
      "Iter 0086 | Time 39.1283(42.1430) | Bit/dim 7.1023(7.7641) | Xent 2.0471(2.0886) | Loss 16.6834(18.7126) | Error 0.6751(0.7108) Steps 466(453.79) | Grad Norm 1.6433(7.5294) | Total Time 0.00(0.00)\n",
      "Iter 0087 | Time 40.2117(42.0850) | Bit/dim 7.0945(7.7440) | Xent 2.0574(2.0877) | Loss 16.8262(18.6560) | Error 0.6909(0.7102) Steps 460(453.98) | Grad Norm 1.5668(7.3505) | Total Time 0.00(0.00)\n",
      "Iter 0088 | Time 37.1695(41.9376) | Bit/dim 7.0952(7.7246) | Xent 2.0502(2.0866) | Loss 16.6088(18.5946) | Error 0.6896(0.7096) Steps 466(454.34) | Grad Norm 1.6325(7.1790) | Total Time 0.00(0.00)\n",
      "Iter 0089 | Time 35.7773(41.7528) | Bit/dim 7.0823(7.7053) | Xent 2.0514(2.0855) | Loss 16.7888(18.5404) | Error 0.7070(0.7095) Steps 460(454.51) | Grad Norm 1.5677(7.0107) | Total Time 0.00(0.00)\n",
      "Iter 0090 | Time 38.4565(41.6539) | Bit/dim 7.0805(7.6865) | Xent 2.0421(2.0842) | Loss 17.0088(18.4945) | Error 0.6974(0.7092) Steps 466(454.85) | Grad Norm 1.5109(6.8457) | Total Time 0.00(0.00)\n",
      "validating...\n",
      "Epoch 0015 | Time 19.9032, Epoch Time 264.1846(306.3086), Bit/dim 7.0727(best: 7.1154), Xent 2.0452, Loss 8.0953, Error 0.6845(best: 0.6609)\n",
      "===> Using batch size 8000. Total 6 iterations/epoch.\n"
     ]
    },
    {
     "name": "stdout",
     "output_type": "stream",
     "text": [
      "29.101796407185628\n",
      "29.101796407185628\n",
      "29.101796407185628\n",
      "29.101796407185628\n",
      "29.101796407185628\n",
      "29.101796407185628\n",
      "29.101796407185628\n",
      "29.101796407185628\n",
      "29.101796407185628\n",
      "29.101796407185628\n",
      "29.101796407185628\n",
      "29.101796407185628\n",
      "29.101796407185628\n",
      "29.101796407185628\n"
     ]
    },
    {
     "name": "stderr",
     "output_type": "stream",
     "text": [
      "Iter 0091 | Time 37.7477(41.5367) | Bit/dim 7.0766(7.6683) | Xent 2.0545(2.0833) | Loss 19.4231(18.5223) | Error 0.6995(0.7089) Steps 478(455.55) | Grad Norm 1.3758(6.6816) | Total Time 0.00(0.00)\n",
      "Iter 0092 | Time 36.6783(41.3909) | Bit/dim 7.0671(7.6502) | Xent 2.0595(2.0826) | Loss 17.0708(18.4788) | Error 0.7014(0.7087) Steps 454(455.50) | Grad Norm 1.3215(6.5208) | Total Time 0.00(0.00)\n",
      "Iter 0093 | Time 36.8145(41.2536) | Bit/dim 7.0536(7.6323) | Xent 2.0513(2.0817) | Loss 16.8887(18.4311) | Error 0.6976(0.7083) Steps 460(455.64) | Grad Norm 1.5843(6.3727) | Total Time 0.00(0.00)\n",
      "Iter 0094 | Time 40.3388(41.2262) | Bit/dim 7.0545(7.6150) | Xent 2.0481(2.0807) | Loss 17.0204(18.3887) | Error 0.6967(0.7080) Steps 490(456.67) | Grad Norm 1.9274(6.2393) | Total Time 0.00(0.00)\n",
      "Iter 0095 | Time 38.0861(41.1320) | Bit/dim 7.0562(7.5982) | Xent 2.0498(2.0797) | Loss 16.8001(18.3411) | Error 0.7036(0.7078) Steps 454(456.59) | Grad Norm 1.6350(6.1012) | Total Time 0.00(0.00)\n",
      "Iter 0096 | Time 41.0955(41.1309) | Bit/dim 7.0403(7.5815) | Xent 2.0466(2.0787) | Loss 17.0077(18.3011) | Error 0.6912(0.7074) Steps 484(457.41) | Grad Norm 1.3176(5.9577) | Total Time 0.00(0.00)\n",
      "validating...\n",
      "Epoch 0016 | Time 19.4153, Epoch Time 271.1887(305.2550), Bit/dim 7.0438(best: 7.0727), Xent 2.0407, Loss 8.0642, Error 0.6839(best: 0.6609)\n",
      "===> Using batch size 8000. Total 6 iterations/epoch.\n"
     ]
    },
    {
     "name": "stdout",
     "output_type": "stream",
     "text": [
      "29.041916167664674\n",
      "29.041916167664674\n",
      "29.041916167664674\n",
      "29.041916167664674\n",
      "29.041916167664674\n",
      "29.041916167664674\n",
      "29.041916167664674\n",
      "29.041916167664674\n",
      "29.041916167664674\n",
      "29.041916167664674\n",
      "29.041916167664674\n",
      "29.041916167664674\n",
      "29.041916167664674\n",
      "29.041916167664674\n"
     ]
    },
    {
     "name": "stderr",
     "output_type": "stream",
     "text": [
      "Iter 0097 | Time 41.2331(41.1340) | Bit/dim 7.0385(7.5652) | Xent 2.0434(2.0777) | Loss 19.0593(18.3238) | Error 0.6917(0.7069) Steps 526(459.47) | Grad Norm 1.5341(5.8250) | Total Time 0.00(0.00)\n",
      "Iter 0098 | Time 40.2990(41.1089) | Bit/dim 7.0395(7.5494) | Xent 2.0585(2.0771) | Loss 16.6427(18.2734) | Error 0.6994(0.7067) Steps 448(459.12) | Grad Norm 1.2510(5.6878) | Total Time 0.00(0.00)\n",
      "Iter 0099 | Time 41.6122(41.1240) | Bit/dim 7.0311(7.5339) | Xent 2.0488(2.0763) | Loss 17.1596(18.2400) | Error 0.7015(0.7065) Steps 466(459.33) | Grad Norm 1.7974(5.5710) | Total Time 0.00(0.00)\n",
      "Iter 0100 | Time 37.2426(41.0076) | Bit/dim 7.0317(7.5188) | Xent 2.0478(2.0754) | Loss 16.8130(18.1972) | Error 0.6964(0.7062) Steps 466(459.53) | Grad Norm 1.2153(5.4404) | Total Time 0.00(0.00)\n",
      "Iter 0101 | Time 40.2061(40.9835) | Bit/dim 7.0241(7.5040) | Xent 2.0436(2.0745) | Loss 16.9260(18.1590) | Error 0.7001(0.7060) Steps 448(459.18) | Grad Norm 1.2683(5.3152) | Total Time 0.00(0.00)\n",
      "Iter 0102 | Time 37.2880(40.8727) | Bit/dim 7.0269(7.4897) | Xent 2.0328(2.0732) | Loss 16.8726(18.1204) | Error 0.6892(0.7055) Steps 490(460.11) | Grad Norm 1.1309(5.1897) | Total Time 0.00(0.00)\n",
      "validating...\n",
      "Epoch 0017 | Time 19.8130, Epoch Time 273.4306(304.3003), Bit/dim 7.0213(best: 7.0438), Xent 2.0318, Loss 8.0372, Error 0.6816(best: 0.6609)\n",
      "===> Using batch size 8000. Total 6 iterations/epoch.\n"
     ]
    },
    {
     "name": "stdout",
     "output_type": "stream",
     "text": [
      "28.982035928143713\n",
      "28.982035928143713\n",
      "28.982035928143713\n",
      "28.982035928143713\n",
      "28.982035928143713\n",
      "28.982035928143713\n",
      "28.982035928143713\n",
      "28.982035928143713\n",
      "28.982035928143713\n",
      "28.982035928143713\n",
      "28.982035928143713\n",
      "28.982035928143713\n",
      "28.982035928143713\n",
      "28.982035928143713\n"
     ]
    },
    {
     "name": "stderr",
     "output_type": "stream",
     "text": [
      "Iter 0103 | Time 36.7440(40.7488) | Bit/dim 7.0177(7.4755) | Xent 2.0532(2.0726) | Loss 19.6541(18.1665) | Error 0.7031(0.7054) Steps 466(460.28) | Grad Norm 1.1485(5.0685) | Total Time 0.00(0.00)\n",
      "Iter 0104 | Time 38.8517(40.6919) | Bit/dim 7.0174(7.4618) | Xent 2.0448(2.0718) | Loss 16.4200(18.1141) | Error 0.6981(0.7052) Steps 436(459.56) | Grad Norm 1.4322(4.9594) | Total Time 0.00(0.00)\n",
      "Iter 0105 | Time 35.9048(40.5483) | Bit/dim 7.0154(7.4484) | Xent 2.0342(2.0706) | Loss 16.9672(18.0797) | Error 0.6881(0.7047) Steps 466(459.75) | Grad Norm 1.0402(4.8418) | Total Time 0.00(0.00)\n",
      "Iter 0106 | Time 39.8998(40.5288) | Bit/dim 7.0101(7.4352) | Xent 2.0329(2.0695) | Loss 16.9356(18.0453) | Error 0.6895(0.7043) Steps 472(460.12) | Grad Norm 0.9752(4.7258) | Total Time 0.00(0.00)\n",
      "Iter 0107 | Time 42.7203(40.5946) | Bit/dim 7.0020(7.4222) | Xent 2.0343(2.0685) | Loss 16.6569(18.0037) | Error 0.6957(0.7040) Steps 466(460.29) | Grad Norm 1.6846(4.6346) | Total Time 0.00(0.00)\n",
      "Iter 0108 | Time 43.3500(40.6772) | Bit/dim 7.0001(7.4096) | Xent 2.0245(2.0671) | Loss 16.7386(17.9657) | Error 0.6839(0.7034) Steps 496(461.36) | Grad Norm 0.9413(4.5238) | Total Time 0.00(0.00)\n",
      "validating...\n",
      "Epoch 0018 | Time 20.1850, Epoch Time 273.6759(303.3816), Bit/dim 7.0019(best: 7.0213), Xent 2.0221, Loss 8.0130, Error 0.6783(best: 0.6609)\n",
      "===> Using batch size 8000. Total 6 iterations/epoch.\n"
     ]
    },
    {
     "name": "stdout",
     "output_type": "stream",
     "text": [
      "28.922155688622755\n",
      "28.922155688622755\n",
      "28.922155688622755\n",
      "28.922155688622755\n",
      "28.922155688622755\n",
      "28.922155688622755\n",
      "28.922155688622755\n",
      "28.922155688622755\n",
      "28.922155688622755\n",
      "28.922155688622755\n",
      "28.922155688622755\n",
      "28.922155688622755\n",
      "28.922155688622755\n",
      "28.922155688622755\n"
     ]
    },
    {
     "name": "stderr",
     "output_type": "stream",
     "text": [
      "Iter 0109 | Time 39.4239(40.6396) | Bit/dim 6.9924(7.3970) | Xent 2.0322(2.0661) | Loss 19.6057(18.0149) | Error 0.6945(0.7031) Steps 460(461.32) | Grad Norm 1.4253(4.4308) | Total Time 0.00(0.00)\n",
      "Iter 0110 | Time 42.1990(40.6864) | Bit/dim 6.9983(7.3851) | Xent 2.0233(2.0648) | Loss 16.9093(17.9818) | Error 0.6858(0.7026) Steps 502(462.54) | Grad Norm 1.2221(4.3345) | Total Time 0.00(0.00)\n",
      "Iter 0111 | Time 39.6365(40.6549) | Bit/dim 6.9949(7.3734) | Xent 2.0293(2.0637) | Loss 16.7511(17.9448) | Error 0.6873(0.7021) Steps 466(462.65) | Grad Norm 1.5517(4.2511) | Total Time 0.00(0.00)\n",
      "Iter 0112 | Time 38.0553(40.5769) | Bit/dim 6.9926(7.3619) | Xent 2.0337(2.0628) | Loss 16.0952(17.8894) | Error 0.6799(0.7015) Steps 454(462.39) | Grad Norm 1.0480(4.1550) | Total Time 0.00(0.00)\n",
      "Iter 0113 | Time 39.0349(40.5307) | Bit/dim 6.9838(7.3506) | Xent 2.0419(2.0622) | Loss 16.5761(17.8500) | Error 0.6910(0.7012) Steps 490(463.22) | Grad Norm 1.3830(4.0718) | Total Time 0.00(0.00)\n",
      "Iter 0114 | Time 42.1828(40.5802) | Bit/dim 6.9837(7.3396) | Xent 2.0122(2.0607) | Loss 16.5410(17.8107) | Error 0.6843(0.7007) Steps 484(463.84) | Grad Norm 1.2559(3.9873) | Total Time 0.00(0.00)\n",
      "validating...\n",
      "Epoch 0019 | Time 19.5114, Epoch Time 275.5684(302.5472), Bit/dim 6.9823(best: 7.0019), Xent 2.0136, Loss 7.9891, Error 0.6740(best: 0.6609)\n",
      "===> Using batch size 8000. Total 6 iterations/epoch.\n"
     ]
    },
    {
     "name": "stdout",
     "output_type": "stream",
     "text": [
      "28.862275449101798\n",
      "28.862275449101798\n",
      "28.862275449101798\n",
      "28.862275449101798\n",
      "28.862275449101798\n",
      "28.862275449101798\n",
      "28.862275449101798\n",
      "28.862275449101798\n",
      "28.862275449101798\n",
      "28.862275449101798\n",
      "28.862275449101798\n",
      "28.862275449101798\n",
      "28.862275449101798\n",
      "28.862275449101798\n"
     ]
    },
    {
     "name": "stderr",
     "output_type": "stream",
     "text": [
      "Iter 0115 | Time 38.9557(40.5315) | Bit/dim 6.9726(7.3286) | Xent 2.0324(2.0599) | Loss 19.2088(17.8526) | Error 0.6863(0.7002) Steps 472(464.08) | Grad Norm 3.1544(3.9623) | Total Time 0.00(0.00)\n",
      "Iter 0116 | Time 42.4928(40.5903) | Bit/dim 6.9787(7.3181) | Xent 2.0256(2.0588) | Loss 16.9666(17.8261) | Error 0.6864(0.6998) Steps 478(464.50) | Grad Norm 0.9562(3.8722) | Total Time 0.00(0.00)\n",
      "Iter 0117 | Time 38.2363(40.5197) | Bit/dim 6.9749(7.3078) | Xent 2.0115(2.0574) | Loss 16.0521(17.7728) | Error 0.6759(0.6991) Steps 418(463.11) | Grad Norm 2.0171(3.8165) | Total Time 0.00(0.00)\n",
      "Iter 0118 | Time 41.6992(40.5551) | Bit/dim 6.9727(7.2977) | Xent 2.0179(2.0562) | Loss 16.7765(17.7429) | Error 0.6809(0.6985) Steps 466(463.19) | Grad Norm 1.1676(3.7370) | Total Time 0.00(0.00)\n",
      "Iter 0119 | Time 38.3728(40.4896) | Bit/dim 6.9649(7.2878) | Xent 2.0197(2.0551) | Loss 16.5616(17.7075) | Error 0.6836(0.6981) Steps 460(463.10) | Grad Norm 1.4068(3.6671) | Total Time 0.00(0.00)\n",
      "Iter 0120 | Time 37.6502(40.4044) | Bit/dim 6.9613(7.2780) | Xent 2.0110(2.0538) | Loss 16.6780(17.6766) | Error 0.6894(0.6978) Steps 466(463.19) | Grad Norm 1.2638(3.5950) | Total Time 0.00(0.00)\n",
      "validating...\n",
      "Epoch 0020 | Time 19.7965, Epoch Time 273.3379(301.6709), Bit/dim 6.9605(best: 6.9823), Xent 2.0061, Loss 7.9636, Error 0.6729(best: 0.6609)\n",
      "===> Using batch size 8000. Total 6 iterations/epoch.\n"
     ]
    },
    {
     "name": "stdout",
     "output_type": "stream",
     "text": [
      "28.80239520958084\n",
      "28.80239520958084\n",
      "28.80239520958084\n",
      "28.80239520958084\n",
      "28.80239520958084\n",
      "28.80239520958084\n",
      "28.80239520958084\n",
      "28.80239520958084\n",
      "28.80239520958084\n",
      "28.80239520958084\n",
      "28.80239520958084\n",
      "28.80239520958084\n",
      "28.80239520958084\n",
      "28.80239520958084\n"
     ]
    },
    {
     "name": "stderr",
     "output_type": "stream",
     "text": [
      "Iter 0121 | Time 41.0676(40.4243) | Bit/dim 6.9602(7.2684) | Xent 2.0076(2.0524) | Loss 19.4539(17.7299) | Error 0.6805(0.6973) Steps 502(464.35) | Grad Norm 1.7352(3.5392) | Total Time 0.00(0.00)\n",
      "Iter 0122 | Time 43.3464(40.5120) | Bit/dim 6.9532(7.2590) | Xent 2.0203(2.0515) | Loss 16.7687(17.7011) | Error 0.6798(0.6968) Steps 430(463.32) | Grad Norm 1.5695(3.4801) | Total Time 0.00(0.00)\n",
      "Iter 0123 | Time 41.2498(40.5341) | Bit/dim 6.9539(7.2498) | Xent 2.0085(2.0502) | Loss 16.2930(17.6589) | Error 0.6844(0.6964) Steps 472(463.58) | Grad Norm 1.7134(3.4271) | Total Time 0.00(0.00)\n",
      "Iter 0124 | Time 36.5458(40.4145) | Bit/dim 6.9456(7.2407) | Xent 2.0049(2.0488) | Loss 16.5024(17.6242) | Error 0.6860(0.6961) Steps 460(463.47) | Grad Norm 1.8694(3.3804) | Total Time 0.00(0.00)\n",
      "Iter 0125 | Time 42.0112(40.4624) | Bit/dim 6.9412(7.2317) | Xent 2.0131(2.0477) | Loss 16.9105(17.6028) | Error 0.6767(0.6955) Steps 442(462.83) | Grad Norm 1.0319(3.3100) | Total Time 0.00(0.00)\n",
      "Iter 0126 | Time 40.2430(40.4558) | Bit/dim 6.9373(7.2229) | Xent 2.0262(2.0471) | Loss 16.4404(17.5679) | Error 0.6816(0.6951) Steps 454(462.56) | Grad Norm 3.6341(3.3197) | Total Time 0.00(0.00)\n",
      "validating...\n",
      "Epoch 0021 | Time 19.5597, Epoch Time 279.6544(301.0104), Bit/dim 6.9361(best: 6.9605), Xent 2.0008, Loss 7.9365, Error 0.6731(best: 0.6609)\n",
      "===> Using batch size 8000. Total 6 iterations/epoch.\n"
     ]
    },
    {
     "name": "stdout",
     "output_type": "stream",
     "text": [
      "28.74251497005988\n",
      "28.74251497005988\n",
      "28.74251497005988\n",
      "28.74251497005988\n",
      "28.74251497005988\n",
      "28.74251497005988\n",
      "28.74251497005988\n",
      "28.74251497005988\n",
      "28.74251497005988\n",
      "28.74251497005988\n",
      "28.74251497005988\n",
      "28.74251497005988\n",
      "28.74251497005988\n",
      "28.74251497005988\n"
     ]
    },
    {
     "name": "stderr",
     "output_type": "stream",
     "text": [
      "Iter 0127 | Time 42.2668(40.5101) | Bit/dim 6.9352(7.2142) | Xent 2.0247(2.0464) | Loss 19.1640(17.6158) | Error 0.6796(0.6946) Steps 490(463.39) | Grad Norm 3.7854(3.3336) | Total Time 0.00(0.00)\n",
      "Iter 0128 | Time 43.0604(40.5866) | Bit/dim 6.9279(7.2057) | Xent 2.0119(2.0454) | Loss 16.7002(17.5883) | Error 0.6851(0.6944) Steps 490(464.18) | Grad Norm 1.6620(3.2835) | Total Time 0.00(0.00)\n",
      "Iter 0129 | Time 41.4854(40.6136) | Bit/dim 6.9334(7.1975) | Xent 1.9997(2.0440) | Loss 16.7819(17.5641) | Error 0.6646(0.6935) Steps 442(463.52) | Grad Norm 2.8663(3.2710) | Total Time 0.00(0.00)\n",
      "Iter 0130 | Time 40.8376(40.6203) | Bit/dim 6.9154(7.1890) | Xent 2.0099(2.0430) | Loss 16.6556(17.5369) | Error 0.6749(0.6929) Steps 466(463.59) | Grad Norm 0.9344(3.2009) | Total Time 0.00(0.00)\n",
      "Iter 0131 | Time 40.5624(40.6186) | Bit/dim 6.9116(7.1807) | Xent 1.9874(2.0413) | Loss 16.5059(17.5059) | Error 0.6646(0.6921) Steps 490(464.39) | Grad Norm 1.3904(3.1466) | Total Time 0.00(0.00)\n",
      "Iter 0132 | Time 40.8993(40.6270) | Bit/dim 6.9076(7.1725) | Xent 2.0127(2.0405) | Loss 16.7741(17.4840) | Error 0.6784(0.6916) Steps 460(464.25) | Grad Norm 1.0400(3.0834) | Total Time 0.00(0.00)\n",
      "validating...\n",
      "Epoch 0022 | Time 19.8926, Epoch Time 284.6762(300.5204), Bit/dim 6.9074(best: 6.9361), Xent 1.9946, Loss 7.9047, Error 0.6679(best: 0.6609)\n",
      "===> Using batch size 8000. Total 6 iterations/epoch.\n"
     ]
    },
    {
     "name": "stdout",
     "output_type": "stream",
     "text": [
      "28.682634730538922\n",
      "28.682634730538922\n",
      "28.682634730538922\n",
      "28.682634730538922\n",
      "28.682634730538922\n",
      "28.682634730538922\n",
      "28.682634730538922\n",
      "28.682634730538922\n",
      "28.682634730538922\n",
      "28.682634730538922\n",
      "28.682634730538922\n",
      "28.682634730538922\n",
      "28.682634730538922\n",
      "28.682634730538922\n"
     ]
    },
    {
     "name": "stderr",
     "output_type": "stream",
     "text": [
      "Iter 0133 | Time 42.4082(40.6804) | Bit/dim 6.9026(7.1644) | Xent 2.0036(2.0394) | Loss 19.4704(17.5436) | Error 0.6681(0.6909) Steps 484(464.85) | Grad Norm 1.4885(3.0355) | Total Time 0.00(0.00)\n",
      "Iter 0134 | Time 41.6472(40.7095) | Bit/dim 6.8991(7.1565) | Xent 2.0104(2.0385) | Loss 16.8193(17.5218) | Error 0.6719(0.6904) Steps 478(465.24) | Grad Norm 2.2558(3.0121) | Total Time 0.00(0.00)\n",
      "Iter 0135 | Time 42.5866(40.7658) | Bit/dim 6.8996(7.1487) | Xent 2.0029(2.0374) | Loss 16.4098(17.4885) | Error 0.6793(0.6900) Steps 514(466.70) | Grad Norm 2.5154(2.9972) | Total Time 0.00(0.00)\n",
      "Iter 0136 | Time 40.3606(40.7536) | Bit/dim 6.8865(7.1409) | Xent 2.0014(2.0363) | Loss 16.4365(17.4569) | Error 0.6770(0.6896) Steps 478(467.04) | Grad Norm 2.7785(2.9907) | Total Time 0.00(0.00)\n",
      "Iter 0137 | Time 40.6660(40.7510) | Bit/dim 6.8826(7.1331) | Xent 2.0020(2.0353) | Loss 16.4133(17.4256) | Error 0.6719(0.6891) Steps 454(466.65) | Grad Norm 6.7828(3.1044) | Total Time 0.00(0.00)\n",
      "Iter 0138 | Time 42.0989(40.7914) | Bit/dim 6.8753(7.1254) | Xent 1.9928(2.0340) | Loss 16.7238(17.4046) | Error 0.6705(0.6886) Steps 502(467.71) | Grad Norm 5.1148(3.1647) | Total Time 0.00(0.00)\n",
      "validating...\n",
      "Epoch 0023 | Time 19.7650, Epoch Time 285.4027(300.0669), Bit/dim 6.8729(best: 6.9074), Xent 1.9888, Loss 7.8673, Error 0.6642(best: 0.6609)\n",
      "===> Using batch size 8000. Total 6 iterations/epoch.\n"
     ]
    },
    {
     "name": "stdout",
     "output_type": "stream",
     "text": [
      "28.622754491017965\n",
      "28.622754491017965\n",
      "28.622754491017965\n",
      "28.622754491017965\n",
      "28.622754491017965\n",
      "28.622754491017965\n",
      "28.622754491017965\n",
      "28.622754491017965\n",
      "28.622754491017965\n",
      "28.622754491017965\n",
      "28.622754491017965\n",
      "28.622754491017965\n",
      "28.622754491017965\n",
      "28.622754491017965\n"
     ]
    },
    {
     "name": "stderr",
     "output_type": "stream",
     "text": [
      "Iter 0139 | Time 41.4292(40.8106) | Bit/dim 6.8685(7.1177) | Xent 2.0046(2.0332) | Loss 19.1839(17.4579) | Error 0.6830(0.6884) Steps 502(468.74) | Grad Norm 3.1084(3.1631) | Total Time 0.00(0.00)\n",
      "Iter 0140 | Time 40.0154(40.7867) | Bit/dim 6.8661(7.1101) | Xent 2.0018(2.0322) | Loss 16.4297(17.4271) | Error 0.6694(0.6878) Steps 478(469.02) | Grad Norm 8.9246(3.3359) | Total Time 0.00(0.00)\n",
      "Iter 0141 | Time 39.9481(40.7615) | Bit/dim 6.8660(7.1028) | Xent 1.9945(2.0311) | Loss 16.4153(17.3967) | Error 0.6786(0.6875) Steps 478(469.29) | Grad Norm 7.7945(3.4697) | Total Time 0.00(0.00)\n",
      "Iter 0142 | Time 43.6179(40.8472) | Bit/dim 6.8474(7.0952) | Xent 1.9927(2.0299) | Loss 16.6064(17.3730) | Error 0.6711(0.6870) Steps 448(468.65) | Grad Norm 1.2318(3.4025) | Total Time 0.00(0.00)\n",
      "Iter 0143 | Time 44.4458(40.9552) | Bit/dim 6.8473(7.0877) | Xent 2.0024(2.0291) | Loss 16.4435(17.3451) | Error 0.6714(0.6866) Steps 526(470.37) | Grad Norm 7.9872(3.5401) | Total Time 0.00(0.00)\n",
      "Iter 0144 | Time 40.2457(40.9339) | Bit/dim 6.8293(7.0800) | Xent 2.0019(2.0283) | Loss 16.5992(17.3228) | Error 0.6873(0.6866) Steps 478(470.60) | Grad Norm 15.2042(3.8900) | Total Time 0.00(0.00)\n",
      "validating...\n",
      "Epoch 0024 | Time 19.3570, Epoch Time 284.5655(299.6018), Bit/dim 6.8363(best: 6.8729), Xent 1.9961, Loss 7.8343, Error 0.6700(best: 0.6609)\n",
      "===> Using batch size 8000. Total 6 iterations/epoch.\n"
     ]
    },
    {
     "name": "stdout",
     "output_type": "stream",
     "text": [
      "28.562874251497004\n",
      "28.562874251497004\n",
      "28.562874251497004\n",
      "28.562874251497004\n",
      "28.562874251497004\n",
      "28.562874251497004\n",
      "28.562874251497004\n",
      "28.562874251497004\n",
      "28.562874251497004\n",
      "28.562874251497004\n",
      "28.562874251497004\n",
      "28.562874251497004\n",
      "28.562874251497004\n",
      "28.562874251497004\n"
     ]
    },
    {
     "name": "stderr",
     "output_type": "stream",
     "text": [
      "Iter 0145 | Time 42.4750(40.9801) | Bit/dim 6.8380(7.0727) | Xent 2.0113(2.0278) | Loss 18.9888(17.3727) | Error 0.6807(0.6864) Steps 454(470.10) | Grad Norm 18.5202(4.3289) | Total Time 0.00(0.00)\n",
      "Iter 0146 | Time 40.8534(40.9763) | Bit/dim 6.8264(7.0653) | Xent 2.0068(2.0272) | Loss 16.3051(17.3407) | Error 0.6829(0.6863) Steps 496(470.88) | Grad Norm 12.9373(4.5871) | Total Time 0.00(0.00)\n",
      "Iter 0147 | Time 37.9908(40.8868) | Bit/dim 6.8150(7.0578) | Xent 1.9890(2.0260) | Loss 16.0269(17.3013) | Error 0.6664(0.6857) Steps 478(471.09) | Grad Norm 1.4991(4.4945) | Total Time 0.00(0.00)\n",
      "Iter 0148 | Time 42.1739(40.9254) | Bit/dim 6.7987(7.0500) | Xent 1.9843(2.0248) | Loss 16.5077(17.2775) | Error 0.6531(0.6847) Steps 514(472.38) | Grad Norm 8.8746(4.6259) | Total Time 0.00(0.00)\n",
      "Iter 0149 | Time 38.8129(40.8620) | Bit/dim 6.8037(7.0426) | Xent 1.9961(2.0239) | Loss 16.2269(17.2460) | Error 0.6864(0.6848) Steps 478(472.55) | Grad Norm 10.9403(4.8153) | Total Time 0.00(0.00)\n",
      "Iter 0150 | Time 42.2238(40.9029) | Bit/dim 6.7887(7.0350) | Xent 1.9822(2.0226) | Loss 16.3004(17.2176) | Error 0.6656(0.6842) Steps 490(473.07) | Grad Norm 6.2583(4.8586) | Total Time 0.00(0.00)\n",
      "validating...\n",
      "Epoch 0025 | Time 19.6113, Epoch Time 279.8047(299.0079), Bit/dim 6.7857(best: 6.8363), Xent 1.9754, Loss 7.7734, Error 0.6564(best: 0.6609)\n",
      "===> Using batch size 8000. Total 6 iterations/epoch.\n"
     ]
    },
    {
     "name": "stdout",
     "output_type": "stream",
     "text": [
      "28.50299401197605\n",
      "28.50299401197605\n",
      "28.50299401197605\n",
      "28.50299401197605\n",
      "28.50299401197605\n",
      "28.50299401197605\n",
      "28.50299401197605\n",
      "28.50299401197605\n",
      "28.50299401197605\n",
      "28.50299401197605\n",
      "28.50299401197605\n",
      "28.50299401197605\n",
      "28.50299401197605\n",
      "28.50299401197605\n"
     ]
    },
    {
     "name": "stderr",
     "output_type": "stream",
     "text": [
      "Iter 0151 | Time 40.8269(40.9006) | Bit/dim 6.7898(7.0277) | Xent 1.9786(2.0213) | Loss 18.9732(17.2703) | Error 0.6660(0.6837) Steps 472(473.04) | Grad Norm 2.3855(4.7844) | Total Time 0.00(0.00)\n",
      "Iter 0152 | Time 37.0421(40.7848) | Bit/dim 6.7674(7.0199) | Xent 1.9848(2.0202) | Loss 16.2608(17.2400) | Error 0.6767(0.6835) Steps 448(472.29) | Grad Norm 9.2495(4.9184) | Total Time 0.00(0.00)\n",
      "Iter 0153 | Time 39.9383(40.7594) | Bit/dim 6.7683(7.0123) | Xent 1.9918(2.0194) | Loss 16.3471(17.2132) | Error 0.6685(0.6830) Steps 466(472.10) | Grad Norm 15.4265(5.2336) | Total Time 0.00(0.00)\n",
      "Iter 0154 | Time 40.5608(40.7535) | Bit/dim 6.7578(7.0047) | Xent 2.0077(2.0190) | Loss 16.5215(17.1924) | Error 0.6951(0.6834) Steps 490(472.64) | Grad Norm 23.5830(5.7841) | Total Time 0.00(0.00)\n",
      "Iter 0155 | Time 39.4620(40.7147) | Bit/dim 6.7425(6.9968) | Xent 1.9965(2.0183) | Loss 16.3651(17.1676) | Error 0.6695(0.6830) Steps 478(472.80) | Grad Norm 19.7458(6.2030) | Total Time 0.00(0.00)\n",
      "Iter 0156 | Time 43.8238(40.8080) | Bit/dim 6.7394(6.9891) | Xent 1.9897(2.0175) | Loss 16.3589(17.1434) | Error 0.6887(0.6831) Steps 472(472.77) | Grad Norm 16.5141(6.5123) | Total Time 0.00(0.00)\n",
      "validating...\n",
      "Epoch 0026 | Time 19.7414, Epoch Time 282.8243(298.5224), Bit/dim 6.7307(best: 6.7857), Xent 1.9733, Loss 7.7173, Error 0.6572(best: 0.6564)\n",
      "===> Using batch size 8000. Total 6 iterations/epoch.\n"
     ]
    },
    {
     "name": "stdout",
     "output_type": "stream",
     "text": [
      "28.44311377245509\n",
      "28.44311377245509\n",
      "28.44311377245509\n",
      "28.44311377245509\n",
      "28.44311377245509\n",
      "28.44311377245509\n",
      "28.44311377245509\n",
      "28.44311377245509\n",
      "28.44311377245509\n",
      "28.44311377245509\n",
      "28.44311377245509\n",
      "28.44311377245509\n",
      "28.44311377245509\n",
      "28.44311377245509\n"
     ]
    },
    {
     "name": "stderr",
     "output_type": "stream",
     "text": [
      "Iter 0157 | Time 39.3145(40.7632) | Bit/dim 6.7278(6.9813) | Xent 1.9842(2.0165) | Loss 18.9135(17.1965) | Error 0.6681(0.6827) Steps 460(472.39) | Grad Norm 12.7402(6.6991) | Total Time 0.00(0.00)\n",
      "Iter 0158 | Time 41.8103(40.7946) | Bit/dim 6.7130(6.9732) | Xent 1.9887(2.0157) | Loss 16.3345(17.1706) | Error 0.6724(0.6824) Steps 490(472.92) | Grad Norm 9.3753(6.7794) | Total Time 0.00(0.00)\n",
      "Iter 0159 | Time 42.1696(40.8359) | Bit/dim 6.7032(6.9651) | Xent 1.9829(2.0147) | Loss 16.3175(17.1450) | Error 0.6619(0.6818) Steps 502(473.79) | Grad Norm 9.3252(6.8558) | Total Time 0.00(0.00)\n",
      "Iter 0160 | Time 40.9298(40.8387) | Bit/dim 6.7003(6.9572) | Xent 1.9742(2.0135) | Loss 16.2222(17.1173) | Error 0.6671(0.6813) Steps 484(474.10) | Grad Norm 7.3507(6.8706) | Total Time 0.00(0.00)\n",
      "Iter 0161 | Time 42.9040(40.9006) | Bit/dim 6.6804(6.9489) | Xent 1.9773(2.0124) | Loss 16.2313(17.0908) | Error 0.6621(0.6807) Steps 472(474.03) | Grad Norm 8.2015(6.9106) | Total Time 0.00(0.00)\n",
      "Iter 0162 | Time 40.0672(40.8756) | Bit/dim 6.6745(6.9406) | Xent 1.9918(2.0118) | Loss 15.9094(17.0553) | Error 0.6943(0.6811) Steps 472(473.97) | Grad Norm 21.2016(7.3393) | Total Time 0.00(0.00)\n",
      "validating...\n",
      "Epoch 0027 | Time 19.8654, Epoch Time 282.8984(298.0537), Bit/dim 6.6724(best: 6.7307), Xent 2.0053, Loss 7.6750, Error 0.6962(best: 0.6564)\n",
      "===> Using batch size 8000. Total 6 iterations/epoch.\n"
     ]
    },
    {
     "name": "stdout",
     "output_type": "stream",
     "text": [
      "28.38323353293413\n",
      "28.38323353293413\n",
      "28.38323353293413\n",
      "28.38323353293413\n",
      "28.38323353293413\n",
      "28.38323353293413\n",
      "28.38323353293413\n",
      "28.38323353293413\n",
      "28.38323353293413\n",
      "28.38323353293413\n",
      "28.38323353293413\n",
      "28.38323353293413\n",
      "28.38323353293413\n",
      "28.38323353293413\n"
     ]
    },
    {
     "name": "stderr",
     "output_type": "stream",
     "text": [
      "Iter 0163 | Time 41.0528(40.8810) | Bit/dim 6.6672(6.9324) | Xent 2.0030(2.0115) | Loss 19.3072(17.1229) | Error 0.6923(0.6815) Steps 514(475.17) | Grad Norm 38.6897(8.2798) | Total Time 0.00(0.00)\n",
      "Iter 0164 | Time 37.2187(40.7711) | Bit/dim 6.6504(6.9240) | Xent 1.9721(2.0103) | Loss 16.0045(17.0893) | Error 0.6718(0.6812) Steps 472(475.08) | Grad Norm 13.8512(8.4470) | Total Time 0.00(0.00)\n",
      "Iter 0165 | Time 39.9636(40.7469) | Bit/dim 6.6633(6.9161) | Xent 2.0756(2.0123) | Loss 16.3264(17.0664) | Error 0.7492(0.6832) Steps 478(475.17) | Grad Norm 50.1751(9.6988) | Total Time 0.00(0.00)\n",
      "Iter 0166 | Time 42.2190(40.7910) | Bit/dim 6.6334(6.9077) | Xent 2.0503(2.0134) | Loss 15.8611(17.0303) | Error 0.7246(0.6845) Steps 484(475.43) | Grad Norm 29.9883(10.3075) | Total Time 0.00(0.00)\n",
      "Iter 0167 | Time 39.4792(40.7517) | Bit/dim 6.6315(6.8994) | Xent 2.0443(2.0143) | Loss 15.8240(16.9941) | Error 0.7416(0.6862) Steps 460(474.97) | Grad Norm 51.6855(11.5488) | Total Time 0.00(0.00)\n",
      "Iter 0168 | Time 39.9625(40.7280) | Bit/dim 6.6266(6.8912) | Xent 2.1449(2.0183) | Loss 16.2328(16.9712) | Error 0.7812(0.6890) Steps 496(475.60) | Grad Norm 53.5886(12.8100) | Total Time 0.00(0.00)\n",
      "validating...\n",
      "Epoch 0028 | Time 20.2919, Epoch Time 276.0324(297.3930), Bit/dim 6.5971(best: 6.6724), Xent 1.9965, Loss 7.5954, Error 0.6966(best: 0.6564)\n",
      "===> Using batch size 8000. Total 6 iterations/epoch.\n"
     ]
    },
    {
     "name": "stdout",
     "output_type": "stream",
     "text": [
      "28.323353293413174\n",
      "28.323353293413174\n",
      "28.323353293413174\n",
      "28.323353293413174\n",
      "28.323353293413174\n",
      "28.323353293413174\n",
      "28.323353293413174\n",
      "28.323353293413174\n",
      "28.323353293413174\n",
      "28.323353293413174\n",
      "28.323353293413174\n",
      "28.323353293413174\n",
      "28.323353293413174\n",
      "28.323353293413174\n"
     ]
    },
    {
     "name": "stderr",
     "output_type": "stream",
     "text": [
      "Iter 0169 | Time 38.1391(40.6503) | Bit/dim 6.5963(6.8823) | Xent 2.0131(2.0181) | Loss 18.8445(17.0274) | Error 0.7064(0.6896) Steps 496(476.21) | Grad Norm 34.0431(13.4470) | Total Time 0.00(0.00)\n",
      "Iter 0170 | Time 39.7937(40.6246) | Bit/dim 6.6020(6.8739) | Xent 2.0951(2.0204) | Loss 16.0909(16.9994) | Error 0.7331(0.6909) Steps 472(476.08) | Grad Norm 42.8129(14.3280) | Total Time 0.00(0.00)\n",
      "Iter 0171 | Time 39.6221(40.5946) | Bit/dim 6.5895(6.8654) | Xent 2.1171(2.0233) | Loss 16.2651(16.9773) | Error 0.7421(0.6924) Steps 472(475.96) | Grad Norm 49.3641(15.3791) | Total Time 0.00(0.00)\n",
      "Iter 0172 | Time 40.8527(40.6023) | Bit/dim 6.5545(6.8561) | Xent 1.9778(2.0219) | Loss 15.8857(16.9446) | Error 0.6730(0.6918) Steps 478(476.02) | Grad Norm 8.3071(15.1669) | Total Time 0.00(0.00)\n",
      "Iter 0173 | Time 39.8148(40.5787) | Bit/dim 6.5741(6.8476) | Xent 2.0892(2.0240) | Loss 16.0891(16.9189) | Error 0.7656(0.6940) Steps 472(475.90) | Grad Norm 48.2357(16.1590) | Total Time 0.00(0.00)\n",
      "Iter 0174 | Time 40.4144(40.5737) | Bit/dim 6.5560(6.8389) | Xent 2.0240(2.0240) | Loss 16.1609(16.8962) | Error 0.7272(0.6950) Steps 496(476.51) | Grad Norm 34.7344(16.7162) | Total Time 0.00(0.00)\n",
      "validating...\n",
      "Epoch 0029 | Time 20.4789, Epoch Time 274.7939(296.7151), Bit/dim 6.5418(best: 6.5971), Xent 1.9846, Loss 7.5341, Error 0.6874(best: 0.6564)\n",
      "===> Using batch size 8000. Total 6 iterations/epoch.\n"
     ]
    },
    {
     "name": "stdout",
     "output_type": "stream",
     "text": [
      "28.263473053892216\n",
      "28.263473053892216\n",
      "28.263473053892216\n",
      "28.263473053892216\n",
      "28.263473053892216\n",
      "28.263473053892216\n",
      "28.263473053892216\n",
      "28.263473053892216\n",
      "28.263473053892216\n",
      "28.263473053892216\n",
      "28.263473053892216\n",
      "28.263473053892216\n",
      "28.263473053892216\n",
      "28.263473053892216\n"
     ]
    },
    {
     "name": "stderr",
     "output_type": "stream",
     "text": [
      "Iter 0175 | Time 40.3276(40.5664) | Bit/dim 6.5378(6.8298) | Xent 1.9878(2.0229) | Loss 18.1161(16.9328) | Error 0.6877(0.6948) Steps 484(476.73) | Grad Norm 22.7746(16.8980) | Total Time 0.00(0.00)\n",
      "Iter 0176 | Time 43.7255(40.6611) | Bit/dim 6.5239(6.8207) | Xent 2.0098(2.0225) | Loss 15.9960(16.9047) | Error 0.6940(0.6948) Steps 466(476.41) | Grad Norm 22.4546(17.0647) | Total Time 0.00(0.00)\n",
      "Iter 0177 | Time 42.8907(40.7280) | Bit/dim 6.5174(6.8116) | Xent 2.0047(2.0220) | Loss 15.8263(16.8723) | Error 0.7175(0.6955) Steps 454(475.74) | Grad Norm 24.3032(17.2818) | Total Time 0.00(0.00)\n",
      "Iter 0178 | Time 42.1424(40.7705) | Bit/dim 6.5060(6.8024) | Xent 1.9967(2.0212) | Loss 15.9254(16.8439) | Error 0.6987(0.6956) Steps 520(477.06) | Grad Norm 19.6261(17.3522) | Total Time 0.00(0.00)\n",
      "Iter 0179 | Time 43.2673(40.8454) | Bit/dim 6.4968(6.7932) | Xent 2.0104(2.0209) | Loss 15.9275(16.8164) | Error 0.7105(0.6960) Steps 478(477.09) | Grad Norm 28.4202(17.6842) | Total Time 0.00(0.00)\n",
      "Iter 0180 | Time 43.8473(40.9354) | Bit/dim 6.4799(6.7838) | Xent 2.0254(2.0210) | Loss 16.0906(16.7946) | Error 0.7023(0.6962) Steps 484(477.30) | Grad Norm 32.6830(18.1342) | Total Time 0.00(0.00)\n",
      "validating...\n",
      "Epoch 0030 | Time 20.3078, Epoch Time 292.2611(296.5814), Bit/dim 6.4617(best: 6.5418), Xent 1.9679, Loss 7.4456, Error 0.6670(best: 0.6564)\n",
      "===> Using batch size 8000. Total 6 iterations/epoch.\n"
     ]
    },
    {
     "name": "stdout",
     "output_type": "stream",
     "text": [
      "28.203592814371255\n",
      "28.203592814371255\n",
      "28.203592814371255\n",
      "28.203592814371255\n",
      "28.203592814371255\n",
      "28.203592814371255\n",
      "28.203592814371255\n",
      "28.203592814371255\n",
      "28.203592814371255\n",
      "28.203592814371255\n",
      "28.203592814371255\n",
      "28.203592814371255\n",
      "28.203592814371255\n",
      "28.203592814371255\n"
     ]
    },
    {
     "name": "stderr",
     "output_type": "stream",
     "text": [
      "Iter 0181 | Time 40.5862(40.9249) | Bit/dim 6.4548(6.7740) | Xent 1.9670(2.0194) | Loss 18.2763(16.8391) | Error 0.6698(0.6954) Steps 478(477.32) | Grad Norm 21.3906(18.2319) | Total Time 0.00(0.00)\n",
      "Iter 0182 | Time 41.9243(40.9549) | Bit/dim 6.4626(6.7646) | Xent 2.0323(2.0198) | Loss 15.3526(16.7945) | Error 0.7144(0.6960) Steps 490(477.70) | Grad Norm 52.4165(19.2574) | Total Time 0.00(0.00)\n",
      "Iter 0183 | Time 42.9225(41.0139) | Bit/dim 6.4477(6.7551) | Xent 2.0201(2.0198) | Loss 15.6284(16.7595) | Error 0.7229(0.6968) Steps 502(478.43) | Grad Norm 28.7283(19.5415) | Total Time 0.00(0.00)\n",
      "Iter 0184 | Time 41.0303(41.0144) | Bit/dim 6.4433(6.7458) | Xent 2.0275(2.0200) | Loss 15.3647(16.7177) | Error 0.7070(0.6971) Steps 472(478.24) | Grad Norm 59.6012(20.7433) | Total Time 0.00(0.00)\n",
      "Iter 0185 | Time 46.5504(41.1805) | Bit/dim 6.4368(6.7365) | Xent 2.0412(2.0206) | Loss 15.5148(16.6816) | Error 0.7354(0.6982) Steps 502(478.95) | Grad Norm 32.1348(21.0851) | Total Time 0.00(0.00)\n",
      "Iter 0186 | Time 41.6979(41.1960) | Bit/dim 6.4079(6.7266) | Xent 2.1014(2.0231) | Loss 15.7947(16.6550) | Error 0.7615(0.7001) Steps 496(479.46) | Grad Norm 78.6587(22.8123) | Total Time 0.00(0.00)\n",
      "validating...\n",
      "Epoch 0031 | Time 19.7208, Epoch Time 290.5686(296.4011), Bit/dim 6.3876(best: 6.4617), Xent 1.9674, Loss 7.3713, Error 0.6546(best: 0.6564)\n",
      "===> Using batch size 8000. Total 6 iterations/epoch.\n"
     ]
    },
    {
     "name": "stdout",
     "output_type": "stream",
     "text": [
      "28.1437125748503\n",
      "28.1437125748503\n",
      "28.1437125748503\n",
      "28.1437125748503\n",
      "28.1437125748503\n",
      "28.1437125748503\n",
      "28.1437125748503\n",
      "28.1437125748503\n",
      "28.1437125748503\n",
      "28.1437125748503\n",
      "28.1437125748503\n",
      "28.1437125748503\n",
      "28.1437125748503\n",
      "28.1437125748503\n"
     ]
    },
    {
     "name": "stderr",
     "output_type": "stream",
     "text": [
      "Iter 0187 | Time 45.5707(41.3273) | Bit/dim 6.3899(6.7165) | Xent 1.9828(2.0219) | Loss 18.8050(16.7195) | Error 0.6650(0.6991) Steps 496(479.96) | Grad Norm 26.6642(22.9278) | Total Time 0.00(0.00)\n",
      "Iter 0188 | Time 45.2744(41.4457) | Bit/dim 6.4178(6.7076) | Xent 2.3598(2.0320) | Loss 16.2084(16.7041) | Error 0.7973(0.7020) Steps 484(480.08) | Grad Norm 140.0543(26.4416) | Total Time 0.00(0.00)\n",
      "Iter 0189 | Time 45.0167(41.5528) | Bit/dim 6.4336(6.6993) | Xent 2.5770(2.0483) | Loss 16.2445(16.6904) | Error 0.8275(0.7058) Steps 490(480.38) | Grad Norm 164.1423(30.5726) | Total Time 0.00(0.00)\n",
      "Iter 0190 | Time 44.3251(41.6360) | Bit/dim 6.3891(6.6900) | Xent 2.1860(2.0525) | Loss 16.1528(16.6742) | Error 0.7974(0.7085) Steps 508(481.21) | Grad Norm 94.3460(32.4858) | Total Time 0.00(0.00)\n",
      "Iter 0191 | Time 41.3893(41.6286) | Bit/dim 6.4069(6.6815) | Xent 2.1773(2.0562) | Loss 15.7014(16.6450) | Error 0.7809(0.7107) Steps 478(481.11) | Grad Norm 123.7699(35.2244) | Total Time 0.00(0.00)\n",
      "Iter 0192 | Time 40.7601(41.6025) | Bit/dim 6.4121(6.6735) | Xent 2.4395(2.0677) | Loss 16.0021(16.6258) | Error 0.8454(0.7148) Steps 472(480.84) | Grad Norm 171.2260(39.3044) | Total Time 0.00(0.00)\n",
      "validating...\n",
      "Epoch 0032 | Time 20.5798, Epoch Time 298.3908(296.4608), Bit/dim 6.3540(best: 6.3876), Xent 2.1349, Loss 7.4214, Error 0.7799(best: 0.6546)\n",
      "===> Using batch size 8000. Total 6 iterations/epoch.\n"
     ]
    },
    {
     "name": "stdout",
     "output_type": "stream",
     "text": [
      "28.08383233532934\n",
      "28.08383233532934\n",
      "28.08383233532934\n",
      "28.08383233532934\n",
      "28.08383233532934\n",
      "28.08383233532934\n",
      "28.08383233532934\n",
      "28.08383233532934\n",
      "28.08383233532934\n",
      "28.08383233532934\n",
      "28.08383233532934\n",
      "28.08383233532934\n",
      "28.08383233532934\n",
      "28.08383233532934\n"
     ]
    },
    {
     "name": "stderr",
     "output_type": "stream",
     "text": [
      "Iter 0193 | Time 44.0661(41.6764) | Bit/dim 6.3526(6.6638) | Xent 2.1272(2.0695) | Loss 18.2152(16.6734) | Error 0.7844(0.7168) Steps 490(481.11) | Grad Norm 96.2611(41.0131) | Total Time 0.00(0.00)\n",
      "Iter 0194 | Time 43.2486(41.7236) | Bit/dim 6.3743(6.6551) | Xent 2.0774(2.0697) | Loss 15.6389(16.6424) | Error 0.7574(0.7181) Steps 490(481.38) | Grad Norm 87.2761(42.4010) | Total Time 0.00(0.00)\n",
      "Iter 0195 | Time 42.8660(41.7579) | Bit/dim 6.3880(6.6471) | Xent 2.2293(2.0745) | Loss 15.7617(16.6160) | Error 0.7916(0.7203) Steps 514(482.36) | Grad Norm 126.3328(44.9190) | Total Time 0.00(0.00)\n",
      "Iter 0196 | Time 43.7710(41.8183) | Bit/dim 6.3123(6.6371) | Xent 2.0237(2.0730) | Loss 15.1750(16.5728) | Error 0.7295(0.7205) Steps 478(482.23) | Grad Norm 58.0993(45.3144) | Total Time 0.00(0.00)\n",
      "Iter 0197 | Time 42.2473(41.8311) | Bit/dim 6.3397(6.6282) | Xent 2.1926(2.0766) | Loss 15.8351(16.5506) | Error 0.7906(0.7226) Steps 460(481.56) | Grad Norm 113.6980(47.3659) | Total Time 0.00(0.00)\n",
      "Iter 0198 | Time 44.6916(41.9170) | Bit/dim 6.3926(6.6211) | Xent 2.3224(2.0840) | Loss 15.8225(16.5288) | Error 0.8197(0.7256) Steps 520(482.71) | Grad Norm 147.1596(50.3597) | Total Time 0.00(0.00)\n",
      "validating...\n",
      "Epoch 0033 | Time 20.1076, Epoch Time 299.5426(296.5532), Bit/dim 6.3248(best: 6.3540), Xent 2.0591, Loss 7.3543, Error 0.7214(best: 0.6546)\n",
      "===> Using batch size 8000. Total 6 iterations/epoch.\n"
     ]
    },
    {
     "name": "stdout",
     "output_type": "stream",
     "text": [
      "28.023952095808383\n",
      "28.023952095808383\n",
      "28.023952095808383\n",
      "28.023952095808383\n",
      "28.023952095808383\n",
      "28.023952095808383\n",
      "28.023952095808383\n",
      "28.023952095808383\n",
      "28.023952095808383\n",
      "28.023952095808383\n",
      "28.023952095808383\n",
      "28.023952095808383\n",
      "28.023952095808383\n",
      "28.023952095808383\n"
     ]
    },
    {
     "name": "stderr",
     "output_type": "stream",
     "text": [
      "Iter 0199 | Time 42.5659(41.9364) | Bit/dim 6.3187(6.6120) | Xent 2.0815(2.0839) | Loss 18.2176(16.5794) | Error 0.7345(0.7258) Steps 502(483.29) | Grad Norm 76.6166(51.1474) | Total Time 0.00(0.00)\n",
      "Iter 0200 | Time 45.1216(42.0320) | Bit/dim 6.2901(6.6024) | Xent 2.1532(2.0860) | Loss 15.3462(16.5424) | Error 0.7766(0.7273) Steps 508(484.03) | Grad Norm 83.7491(52.1255) | Total Time 0.00(0.00)\n",
      "Iter 0201 | Time 43.5200(42.0766) | Bit/dim 6.3245(6.5940) | Xent 2.2504(2.0909) | Loss 16.0411(16.5274) | Error 0.7960(0.7294) Steps 532(485.47) | Grad Norm 114.7428(54.0040) | Total Time 0.00(0.00)\n",
      "Iter 0202 | Time 47.9417(42.2526) | Bit/dim 6.2734(6.5844) | Xent 2.0335(2.0892) | Loss 15.5928(16.4994) | Error 0.7260(0.7293) Steps 538(487.05) | Grad Norm 60.2592(54.1916) | Total Time 0.00(0.00)\n",
      "Iter 0203 | Time 45.9876(42.3646) | Bit/dim 6.2684(6.5749) | Xent 2.1174(2.0900) | Loss 15.4722(16.4686) | Error 0.7685(0.7305) Steps 520(488.04) | Grad Norm 71.9956(54.7257) | Total Time 0.00(0.00)\n",
      "Iter 0204 | Time 41.9633(42.3526) | Bit/dim 6.2839(6.5662) | Xent 2.2223(2.0940) | Loss 15.4033(16.4366) | Error 0.8156(0.7330) Steps 502(488.45) | Grad Norm 96.1370(55.9681) | Total Time 0.00(0.00)\n",
      "validating...\n",
      "Epoch 0034 | Time 20.5831, Epoch Time 303.3862(296.7582), Bit/dim 6.2430(best: 6.3248), Xent 2.0448, Loss 7.2654, Error 0.7198(best: 0.6546)\n",
      "===> Using batch size 8000. Total 6 iterations/epoch.\n"
     ]
    },
    {
     "name": "stdout",
     "output_type": "stream",
     "text": [
      "27.964071856287426\n",
      "27.964071856287426\n",
      "27.964071856287426\n",
      "27.964071856287426\n",
      "27.964071856287426\n",
      "27.964071856287426\n",
      "27.964071856287426\n",
      "27.964071856287426\n",
      "27.964071856287426\n",
      "27.964071856287426\n",
      "27.964071856287426\n",
      "27.964071856287426\n",
      "27.964071856287426\n",
      "27.964071856287426\n"
     ]
    },
    {
     "name": "stderr",
     "output_type": "stream",
     "text": [
      "Iter 0205 | Time 45.8943(42.4588) | Bit/dim 6.2394(6.5564) | Xent 2.0458(2.0926) | Loss 17.3726(16.4647) | Error 0.7192(0.7326) Steps 508(489.04) | Grad Norm 47.3343(55.7091) | Total Time 0.00(0.00)\n",
      "Iter 0206 | Time 43.5639(42.4920) | Bit/dim 6.2573(6.5474) | Xent 2.0666(2.0918) | Loss 15.5699(16.4378) | Error 0.7338(0.7327) Steps 508(489.61) | Grad Norm 62.8917(55.9246) | Total Time 0.00(0.00)\n",
      "Iter 0207 | Time 45.3626(42.5781) | Bit/dim 6.2708(6.5391) | Xent 2.1723(2.0942) | Loss 15.6457(16.4141) | Error 0.7791(0.7341) Steps 478(489.26) | Grad Norm 84.9267(56.7946) | Total Time 0.00(0.00)\n",
      "Iter 0208 | Time 43.6346(42.6098) | Bit/dim 6.2234(6.5297) | Xent 2.0509(2.0929) | Loss 15.1830(16.3771) | Error 0.7435(0.7343) Steps 448(488.02) | Grad Norm 45.7714(56.4639) | Total Time 0.00(0.00)\n",
      "Iter 0209 | Time 45.3096(42.6908) | Bit/dim 6.2326(6.5207) | Xent 2.0437(2.0914) | Loss 15.5238(16.3515) | Error 0.7063(0.7335) Steps 484(487.90) | Grad Norm 54.1165(56.3935) | Total Time 0.00(0.00)\n",
      "Iter 0210 | Time 47.0209(42.8207) | Bit/dim 6.2402(6.5123) | Xent 2.1029(2.0918) | Loss 15.5789(16.3284) | Error 0.7574(0.7342) Steps 466(487.25) | Grad Norm 67.3848(56.7232) | Total Time 0.00(0.00)\n",
      "validating...\n",
      "Epoch 0035 | Time 20.2063, Epoch Time 306.6019(297.0535), Bit/dim 6.1967(best: 6.2430), Xent 2.0226, Loss 7.2080, Error 0.6924(best: 0.6546)\n",
      "===> Using batch size 8000. Total 6 iterations/epoch.\n"
     ]
    },
    {
     "name": "stdout",
     "output_type": "stream",
     "text": [
      "27.904191616766468\n",
      "27.904191616766468\n",
      "27.904191616766468\n",
      "27.904191616766468\n",
      "27.904191616766468\n",
      "27.904191616766468\n",
      "27.904191616766468\n",
      "27.904191616766468\n",
      "27.904191616766468\n",
      "27.904191616766468\n",
      "27.904191616766468\n",
      "27.904191616766468\n",
      "27.904191616766468\n",
      "27.904191616766468\n"
     ]
    },
    {
     "name": "stderr",
     "output_type": "stream",
     "text": [
      "Iter 0211 | Time 42.6962(42.8170) | Bit/dim 6.1943(6.5028) | Xent 2.0333(2.0900) | Loss 17.6035(16.3666) | Error 0.6954(0.7330) Steps 478(486.97) | Grad Norm 28.8400(55.8867) | Total Time 0.00(0.00)\n",
      "Iter 0212 | Time 46.4988(42.9274) | Bit/dim 6.2239(6.4944) | Xent 2.0368(2.0884) | Loss 15.3697(16.3367) | Error 0.7292(0.7329) Steps 478(486.70) | Grad Norm 50.5823(55.7276) | Total Time 0.00(0.00)\n",
      "Iter 0213 | Time 44.1549(42.9642) | Bit/dim 6.2141(6.4860) | Xent 2.0993(2.0887) | Loss 15.1455(16.3010) | Error 0.7606(0.7338) Steps 520(487.70) | Grad Norm 61.6201(55.9044) | Total Time 0.00(0.00)\n",
      "Iter 0214 | Time 39.4107(42.8576) | Bit/dim 6.1721(6.4766) | Xent 2.0334(2.0871) | Loss 15.2941(16.2708) | Error 0.7270(0.7336) Steps 502(488.13) | Grad Norm 30.0211(55.1279) | Total Time 0.00(0.00)\n",
      "Iter 0215 | Time 47.9477(43.0103) | Bit/dim 6.1813(6.4677) | Xent 2.0195(2.0850) | Loss 15.4186(16.2452) | Error 0.6904(0.7323) Steps 514(488.90) | Grad Norm 40.7019(54.6951) | Total Time 0.00(0.00)\n",
      "Iter 0216 | Time 47.4187(43.1426) | Bit/dim 6.1769(6.4590) | Xent 2.1136(2.0859) | Loss 15.3395(16.2180) | Error 0.7595(0.7331) Steps 520(489.84) | Grad Norm 51.3785(54.5956) | Total Time 0.00(0.00)\n",
      "validating...\n",
      "Epoch 0036 | Time 19.8567, Epoch Time 304.0258(297.2627), Bit/dim 6.1405(best: 6.1967), Xent 2.0426, Loss 7.1618, Error 0.7049(best: 0.6546)\n",
      "===> Using batch size 8000. Total 6 iterations/epoch.\n"
     ]
    },
    {
     "name": "stdout",
     "output_type": "stream",
     "text": [
      "27.844311377245507\n",
      "27.844311377245507\n",
      "27.844311377245507\n",
      "27.844311377245507\n",
      "27.844311377245507\n",
      "27.844311377245507\n",
      "27.844311377245507\n",
      "27.844311377245507\n",
      "27.844311377245507\n",
      "27.844311377245507\n",
      "27.844311377245507\n",
      "27.844311377245507\n",
      "27.844311377245507\n",
      "27.844311377245507\n"
     ]
    },
    {
     "name": "stderr",
     "output_type": "stream",
     "text": [
      "Iter 0217 | Time 43.6801(43.1587) | Bit/dim 6.1360(6.4493) | Xent 2.0594(2.0851) | Loss 18.0940(16.2743) | Error 0.7154(0.7325) Steps 514(490.56) | Grad Norm 29.2734(53.8359) | Total Time 0.00(0.00)\n",
      "Iter 0218 | Time 44.1414(43.1882) | Bit/dim 6.1225(6.4395) | Xent 2.0268(2.0834) | Loss 15.0798(16.2385) | Error 0.7016(0.7316) Steps 502(490.90) | Grad Norm 30.0346(53.1219) | Total Time 0.00(0.00)\n",
      "Iter 0219 | Time 43.5609(43.1994) | Bit/dim 6.1194(6.4299) | Xent 2.0916(2.0836) | Loss 15.0686(16.2034) | Error 0.7694(0.7328) Steps 472(490.34) | Grad Norm 41.5916(52.7760) | Total Time 0.00(0.00)\n",
      "Iter 0220 | Time 44.6723(43.2436) | Bit/dim 6.1026(6.4201) | Xent 2.0181(2.0816) | Loss 14.8116(16.1616) | Error 0.6955(0.7316) Steps 490(490.33) | Grad Norm 16.7581(51.6955) | Total Time 0.00(0.00)\n",
      "Iter 0221 | Time 41.9824(43.2057) | Bit/dim 6.0938(6.4103) | Xent 2.0891(2.0819) | Loss 15.0934(16.1296) | Error 0.7299(0.7316) Steps 490(490.32) | Grad Norm 35.8135(51.2190) | Total Time 0.00(0.00)\n",
      "Iter 0222 | Time 47.1388(43.3237) | Bit/dim 6.0831(6.4005) | Xent 2.0999(2.0824) | Loss 15.2823(16.1042) | Error 0.7310(0.7316) Steps 490(490.31) | Grad Norm 38.8570(50.8481) | Total Time 0.00(0.00)\n",
      "validating...\n",
      "Epoch 0037 | Time 20.5173, Epoch Time 301.3629(297.3857), Bit/dim 6.0537(best: 6.1405), Xent 1.9969, Loss 7.0521, Error 0.6535(best: 0.6546)\n",
      "===> Using batch size 8000. Total 6 iterations/epoch.\n"
     ]
    },
    {
     "name": "stdout",
     "output_type": "stream",
     "text": [
      "27.784431137724553\n",
      "27.784431137724553\n",
      "27.784431137724553\n",
      "27.784431137724553\n",
      "27.784431137724553\n",
      "27.784431137724553\n",
      "27.784431137724553\n",
      "27.784431137724553\n",
      "27.784431137724553\n",
      "27.784431137724553\n",
      "27.784431137724553\n",
      "27.784431137724553\n",
      "27.784431137724553\n",
      "27.784431137724553\n"
     ]
    },
    {
     "name": "stderr",
     "output_type": "stream",
     "text": [
      "Iter 0223 | Time 45.5339(43.3900) | Bit/dim 6.0532(6.3901) | Xent 1.9928(2.0797) | Loss 17.7632(16.1539) | Error 0.6576(0.7293) Steps 502(490.66) | Grad Norm 20.7804(49.9461) | Total Time 0.00(0.00)\n",
      "Iter 0224 | Time 41.9756(43.3476) | Bit/dim 6.0582(6.3801) | Xent 2.0557(2.0790) | Loss 14.9723(16.1185) | Error 0.7359(0.7295) Steps 496(490.82) | Grad Norm 34.1716(49.4729) | Total Time 0.00(0.00)\n",
      "Iter 0225 | Time 43.7649(43.3601) | Bit/dim 6.0525(6.3703) | Xent 2.0640(2.0785) | Loss 15.0592(16.0867) | Error 0.7306(0.7296) Steps 490(490.79) | Grad Norm 44.7275(49.3305) | Total Time 0.00(0.00)\n",
      "Iter 0226 | Time 44.5379(43.3954) | Bit/dim 6.0101(6.3595) | Xent 2.0202(2.0768) | Loss 14.9417(16.0524) | Error 0.6994(0.7287) Steps 508(491.31) | Grad Norm 26.2606(48.6384) | Total Time 0.00(0.00)\n",
      "Iter 0227 | Time 41.4470(43.3370) | Bit/dim 6.0406(6.3499) | Xent 2.0157(2.0750) | Loss 14.7868(16.0144) | Error 0.6892(0.7275) Steps 496(491.45) | Grad Norm 49.6299(48.6682) | Total Time 0.00(0.00)\n",
      "Iter 0228 | Time 43.6232(43.3456) | Bit/dim 6.0474(6.3408) | Xent 2.0696(2.0748) | Loss 14.7746(15.9772) | Error 0.7491(0.7281) Steps 490(491.41) | Grad Norm 60.4074(49.0203) | Total Time 0.00(0.00)\n",
      "validating...\n",
      "Epoch 0038 | Time 20.2915, Epoch Time 297.0060(297.3743), Bit/dim 5.9870(best: 6.0537), Xent 2.0460, Loss 7.0100, Error 0.7087(best: 0.6535)\n",
      "===> Using batch size 8000. Total 6 iterations/epoch.\n"
     ]
    },
    {
     "name": "stdout",
     "output_type": "stream",
     "text": [
      "27.724550898203592\n",
      "27.724550898203592\n",
      "27.724550898203592\n",
      "27.724550898203592\n",
      "27.724550898203592\n",
      "27.724550898203592\n",
      "27.724550898203592\n",
      "27.724550898203592\n",
      "27.724550898203592\n",
      "27.724550898203592\n",
      "27.724550898203592\n",
      "27.724550898203592\n",
      "27.724550898203592\n",
      "27.724550898203592\n"
     ]
    },
    {
     "name": "stderr",
     "output_type": "stream",
     "text": [
      "Iter 0229 | Time 44.4687(43.3793) | Bit/dim 5.9873(6.3302) | Xent 2.0599(2.0744) | Loss 17.6638(16.0278) | Error 0.7141(0.7277) Steps 538(492.81) | Grad Norm 33.4908(48.5544) | Total Time 0.00(0.00)\n",
      "Iter 0230 | Time 43.1809(43.3733) | Bit/dim 5.9527(6.3189) | Xent 2.0008(2.0722) | Loss 14.4077(15.9792) | Error 0.6850(0.7264) Steps 502(493.08) | Grad Norm 24.7071(47.8390) | Total Time 0.00(0.00)\n",
      "Iter 0231 | Time 45.8787(43.4485) | Bit/dim 5.9840(6.3089) | Xent 2.1682(2.0750) | Loss 15.0174(15.9503) | Error 0.8017(0.7287) Steps 508(493.53) | Grad Norm 67.4309(48.4268) | Total Time 0.00(0.00)\n",
      "Iter 0232 | Time 45.2148(43.5015) | Bit/dim 5.9643(6.2985) | Xent 2.1405(2.0770) | Loss 15.0027(15.9219) | Error 0.7974(0.7308) Steps 514(494.14) | Grad Norm 62.2665(48.8420) | Total Time 0.00(0.00)\n",
      "Iter 0233 | Time 43.5820(43.5039) | Bit/dim 5.9393(6.2878) | Xent 2.0156(2.0752) | Loss 14.7102(15.8856) | Error 0.6985(0.7298) Steps 472(493.48) | Grad Norm 49.2241(48.8534) | Total Time 0.00(0.00)\n",
      "Iter 0234 | Time 45.3964(43.5607) | Bit/dim 5.9133(6.2765) | Xent 2.0152(2.0734) | Loss 14.5978(15.8469) | Error 0.7145(0.7293) Steps 478(493.01) | Grad Norm 36.6669(48.4878) | Total Time 0.00(0.00)\n",
      "validating...\n",
      "Epoch 0039 | Time 19.4582, Epoch Time 302.8679(297.5391), Bit/dim 5.9755(best: 5.9870), Xent 2.0501, Loss 7.0006, Error 0.7170(best: 0.6535)\n",
      "===> Using batch size 8000. Total 6 iterations/epoch.\n"
     ]
    },
    {
     "name": "stdout",
     "output_type": "stream",
     "text": [
      "27.66467065868263\n",
      "27.66467065868263\n",
      "27.66467065868263\n",
      "27.66467065868263\n",
      "27.66467065868263\n",
      "27.66467065868263\n",
      "27.66467065868263\n",
      "27.66467065868263\n",
      "27.66467065868263\n",
      "27.66467065868263\n",
      "27.66467065868263\n",
      "27.66467065868263\n",
      "27.66467065868263\n",
      "27.66467065868263\n"
     ]
    },
    {
     "name": "stderr",
     "output_type": "stream",
     "text": [
      "Iter 0235 | Time 42.2784(43.5222) | Bit/dim 5.9726(6.2674) | Xent 2.0565(2.0729) | Loss 17.7640(15.9044) | Error 0.7215(0.7291) Steps 502(493.28) | Grad Norm 81.4879(49.4778) | Total Time 0.00(0.00)\n",
      "Iter 0236 | Time 43.7617(43.5294) | Bit/dim 5.9952(6.2592) | Xent 2.0818(2.0731) | Loss 15.0088(15.8776) | Error 0.7391(0.7294) Steps 460(492.29) | Grad Norm 93.1598(50.7883) | Total Time 0.00(0.00)\n",
      "Iter 0237 | Time 44.0370(43.5446) | Bit/dim 5.8997(6.2484) | Xent 2.0278(2.0718) | Loss 14.4806(15.8357) | Error 0.6849(0.7281) Steps 490(492.22) | Grad Norm 22.5349(49.9407) | Total Time 0.00(0.00)\n",
      "Iter 0238 | Time 45.8521(43.6138) | Bit/dim 5.9736(6.2402) | Xent 2.0417(2.0709) | Loss 14.6350(15.7996) | Error 0.7439(0.7285) Steps 502(492.51) | Grad Norm 72.5548(50.6191) | Total Time 0.00(0.00)\n",
      "Iter 0239 | Time 44.7690(43.6485) | Bit/dim 6.0361(6.2341) | Xent 2.0698(2.0708) | Loss 14.8814(15.7721) | Error 0.7283(0.7285) Steps 496(492.61) | Grad Norm 61.6525(50.9501) | Total Time 0.00(0.00)\n",
      "Iter 0240 | Time 46.1160(43.7225) | Bit/dim 5.9106(6.2244) | Xent 2.1454(2.0731) | Loss 14.3234(15.7286) | Error 0.7937(0.7305) Steps 502(492.90) | Grad Norm 50.9473(50.9500) | Total Time 0.00(0.00)\n",
      "validating...\n",
      "Epoch 0040 | Time 20.8504, Epoch Time 303.4685(297.7170), Bit/dim 5.9199(best: 5.9755), Xent 2.0556, Loss 6.9478, Error 0.7322(best: 0.6535)\n",
      "===> Using batch size 8000. Total 6 iterations/epoch.\n"
     ]
    },
    {
     "name": "stdout",
     "output_type": "stream",
     "text": [
      "27.604790419161677\n",
      "27.604790419161677\n",
      "27.604790419161677\n",
      "27.604790419161677\n",
      "27.604790419161677\n",
      "27.604790419161677\n",
      "27.604790419161677\n",
      "27.604790419161677\n",
      "27.604790419161677\n",
      "27.604790419161677\n",
      "27.604790419161677\n",
      "27.604790419161677\n",
      "27.604790419161677\n",
      "27.604790419161677\n"
     ]
    },
    {
     "name": "stderr",
     "output_type": "stream",
     "text": [
      "Iter 0241 | Time 46.7641(43.8138) | Bit/dim 5.9133(6.2150) | Xent 2.0581(2.0726) | Loss 17.2828(15.7753) | Error 0.7363(0.7307) Steps 466(492.09) | Grad Norm 40.2114(50.6279) | Total Time 0.00(0.00)\n",
      "Iter 0242 | Time 46.4787(43.8937) | Bit/dim 5.8778(6.2049) | Xent 2.0215(2.0711) | Loss 14.6028(15.7401) | Error 0.7052(0.7299) Steps 508(492.57) | Grad Norm 30.2122(50.0154) | Total Time 0.00(0.00)\n",
      "Iter 0243 | Time 45.1216(43.9305) | Bit/dim 5.9208(6.1964) | Xent 2.0474(2.0704) | Loss 14.6036(15.7060) | Error 0.7309(0.7299) Steps 496(492.67) | Grad Norm 37.3991(49.6369) | Total Time 0.00(0.00)\n",
      "Iter 0244 | Time 42.0043(43.8728) | Bit/dim 5.8818(6.1870) | Xent 2.0458(2.0696) | Loss 14.4246(15.6675) | Error 0.7140(0.7294) Steps 490(492.59) | Grad Norm 32.3025(49.1169) | Total Time 0.00(0.00)\n",
      "Iter 0245 | Time 41.2261(43.7934) | Bit/dim 5.8408(6.1766) | Xent 2.0175(2.0681) | Loss 14.3751(15.6288) | Error 0.7084(0.7288) Steps 490(492.51) | Grad Norm 29.9540(48.5420) | Total Time 0.00(0.00)\n",
      "Iter 0246 | Time 45.8799(43.8560) | Bit/dim 5.8500(6.1668) | Xent 2.0434(2.0673) | Loss 14.7262(15.6017) | Error 0.7070(0.7282) Steps 532(493.70) | Grad Norm 29.8755(47.9820) | Total Time 0.00(0.00)\n",
      "validating...\n",
      "Epoch 0041 | Time 20.2556, Epoch Time 303.3734(297.8867), Bit/dim 5.8215(best: 5.9199), Xent 2.0303, Loss 6.8366, Error 0.6920(best: 0.6535)\n",
      "===> Using batch size 8000. Total 6 iterations/epoch.\n"
     ]
    },
    {
     "name": "stdout",
     "output_type": "stream",
     "text": [
      "27.54491017964072\n",
      "27.54491017964072\n",
      "27.54491017964072\n",
      "27.54491017964072\n",
      "27.54491017964072\n",
      "27.54491017964072\n",
      "27.54491017964072\n",
      "27.54491017964072\n",
      "27.54491017964072\n",
      "27.54491017964072\n",
      "27.54491017964072\n",
      "27.54491017964072\n",
      "27.54491017964072\n",
      "27.54491017964072\n"
     ]
    },
    {
     "name": "stderr",
     "output_type": "stream",
     "text": [
      "Iter 0247 | Time 46.2772(43.9286) | Bit/dim 5.8165(6.1563) | Xent 2.0214(2.0659) | Loss 17.1048(15.6468) | Error 0.6919(0.7271) Steps 490(493.59) | Grad Norm 18.8626(47.1084) | Total Time 0.00(0.00)\n",
      "Iter 0248 | Time 43.2751(43.9090) | Bit/dim 5.8469(6.1470) | Xent 2.0217(2.0646) | Loss 14.6294(15.6163) | Error 0.7039(0.7264) Steps 484(493.30) | Grad Norm 37.5113(46.8205) | Total Time 0.00(0.00)\n",
      "Iter 0249 | Time 41.8642(43.8476) | Bit/dim 5.8003(6.1366) | Xent 2.0231(2.0634) | Loss 14.2520(15.5753) | Error 0.6899(0.7253) Steps 514(493.92) | Grad Norm 16.9172(45.9234) | Total Time 0.00(0.00)\n",
      "Iter 0250 | Time 46.0168(43.9127) | Bit/dim 5.8062(6.1267) | Xent 2.0118(2.0618) | Loss 14.5349(15.5441) | Error 0.6834(0.7240) Steps 496(493.98) | Grad Norm 26.1509(45.3302) | Total Time 0.00(0.00)\n",
      "Iter 0251 | Time 42.0982(43.8583) | Bit/dim 5.7920(6.1166) | Xent 2.0278(2.0608) | Loss 14.1270(15.5016) | Error 0.7109(0.7236) Steps 484(493.68) | Grad Norm 35.0174(45.0209) | Total Time 0.00(0.00)\n",
      "Iter 0252 | Time 49.1145(44.0160) | Bit/dim 5.7797(6.1065) | Xent 2.0164(2.0595) | Loss 14.7338(15.4786) | Error 0.6647(0.7219) Steps 496(493.75) | Grad Norm 22.7729(44.3534) | Total Time 0.00(0.00)\n",
      "validating...\n",
      "Epoch 0042 | Time 19.8710, Epoch Time 304.0228(298.0708), Bit/dim 5.7895(best: 5.8215), Xent 2.0046, Loss 6.7918, Error 0.6777(best: 0.6535)\n",
      "===> Using batch size 8000. Total 6 iterations/epoch.\n"
     ]
    },
    {
     "name": "stdout",
     "output_type": "stream",
     "text": [
      "27.48502994011976\n",
      "27.48502994011976\n",
      "27.48502994011976\n",
      "27.48502994011976\n",
      "27.48502994011976\n",
      "27.48502994011976\n",
      "27.48502994011976\n",
      "27.48502994011976\n",
      "27.48502994011976\n",
      "27.48502994011976\n",
      "27.48502994011976\n",
      "27.48502994011976\n",
      "27.48502994011976\n",
      "27.48502994011976\n"
     ]
    },
    {
     "name": "stderr",
     "output_type": "stream",
     "text": [
      "Iter 0253 | Time 46.6166(44.0940) | Bit/dim 5.7887(6.0970) | Xent 2.0158(2.0582) | Loss 17.3754(15.5355) | Error 0.6890(0.7209) Steps 496(493.82) | Grad Norm 33.9428(44.0411) | Total Time 0.00(0.00)\n",
      "Iter 0254 | Time 41.0289(44.0020) | Bit/dim 5.7643(6.0870) | Xent 2.0007(2.0564) | Loss 14.1525(15.4940) | Error 0.6639(0.7192) Steps 508(494.24) | Grad Norm 17.2464(43.2373) | Total Time 0.00(0.00)\n",
      "Iter 0255 | Time 41.8984(43.9389) | Bit/dim 5.7763(6.0777) | Xent 1.9892(2.0544) | Loss 14.4194(15.4618) | Error 0.6701(0.7177) Steps 472(493.58) | Grad Norm 22.8953(42.6270) | Total Time 0.00(0.00)\n",
      "Iter 0256 | Time 40.9120(43.8481) | Bit/dim 5.7568(6.0681) | Xent 2.0268(2.0536) | Loss 14.2454(15.4253) | Error 0.7003(0.7172) Steps 502(493.83) | Grad Norm 54.0188(42.9688) | Total Time 0.00(0.00)\n",
      "Iter 0257 | Time 45.2958(43.8915) | Bit/dim 5.7362(6.0581) | Xent 2.0014(2.0520) | Loss 14.3632(15.3934) | Error 0.6713(0.7158) Steps 514(494.44) | Grad Norm 14.8548(42.1253) | Total Time 0.00(0.00)\n",
      "Iter 0258 | Time 46.0218(43.9555) | Bit/dim 5.7266(6.0482) | Xent 2.0143(2.0509) | Loss 13.9697(15.3507) | Error 0.7030(0.7154) Steps 520(495.20) | Grad Norm 55.3076(42.5208) | Total Time 0.00(0.00)\n",
      "validating...\n",
      "Epoch 0043 | Time 20.9970, Epoch Time 298.3646(298.0796), Bit/dim 5.7951(best: 5.7895), Xent 1.9843, Loss 6.7873, Error 0.6592(best: 0.6535)\n",
      "===> Using batch size 8000. Total 6 iterations/epoch.\n"
     ]
    },
    {
     "name": "stdout",
     "output_type": "stream",
     "text": [
      "27.4251497005988\n",
      "27.4251497005988\n",
      "27.4251497005988\n",
      "27.4251497005988\n",
      "27.4251497005988\n",
      "27.4251497005988\n",
      "27.4251497005988\n",
      "27.4251497005988\n",
      "27.4251497005988\n",
      "27.4251497005988\n",
      "27.4251497005988\n",
      "27.4251497005988\n",
      "27.4251497005988\n",
      "27.4251497005988\n"
     ]
    },
    {
     "name": "stderr",
     "output_type": "stream",
     "text": [
      "Iter 0259 | Time 43.5839(43.9443) | Bit/dim 5.8002(6.0407) | Xent 1.9893(2.0490) | Loss 17.4262(15.4130) | Error 0.6695(0.7140) Steps 484(494.87) | Grad Norm 44.5745(42.5824) | Total Time 0.00(0.00)\n",
      "Iter 0260 | Time 47.4789(44.0503) | Bit/dim 5.7554(6.0322) | Xent 1.9870(2.0472) | Loss 14.3362(15.3807) | Error 0.6754(0.7129) Steps 448(493.46) | Grad Norm 27.5151(42.1304) | Total Time 0.00(0.00)\n",
      "Iter 0261 | Time 42.5542(44.0055) | Bit/dim 5.6916(6.0220) | Xent 1.9882(2.0454) | Loss 14.2546(15.3469) | Error 0.6635(0.7114) Steps 496(493.54) | Grad Norm 27.0550(41.6781) | Total Time 0.00(0.00)\n",
      "Iter 0262 | Time 42.3666(43.9563) | Bit/dim 5.7700(6.0144) | Xent 2.0318(2.0450) | Loss 14.3044(15.3156) | Error 0.7412(0.7123) Steps 472(492.89) | Grad Norm 94.1248(43.2515) | Total Time 0.00(0.00)\n",
      "Iter 0263 | Time 42.3394(43.9078) | Bit/dim 5.7966(6.0079) | Xent 1.9843(2.0432) | Loss 14.2861(15.2847) | Error 0.6734(0.7111) Steps 484(492.62) | Grad Norm 34.7155(42.9955) | Total Time 0.00(0.00)\n",
      "Iter 0264 | Time 45.7594(43.9633) | Bit/dim 5.8172(6.0021) | Xent 2.1990(2.0479) | Loss 14.6298(15.2651) | Error 0.7745(0.7130) Steps 538(493.98) | Grad Norm 165.0672(46.6576) | Total Time 0.00(0.00)\n",
      "validating...\n",
      "Epoch 0044 | Time 19.7696, Epoch Time 299.2677(298.1152), Bit/dim 5.7956(best: 5.7895), Xent 2.1533, Loss 6.8723, Error 0.7484(best: 0.6535)\n",
      "===> Using batch size 8000. Total 6 iterations/epoch.\n"
     ]
    },
    {
     "name": "stdout",
     "output_type": "stream",
     "text": [
      "27.365269461077844\n",
      "27.365269461077844\n",
      "27.365269461077844\n",
      "27.365269461077844\n",
      "27.365269461077844\n",
      "27.365269461077844\n",
      "27.365269461077844\n",
      "27.365269461077844\n",
      "27.365269461077844\n",
      "27.365269461077844\n",
      "27.365269461077844\n",
      "27.365269461077844\n",
      "27.365269461077844\n",
      "27.365269461077844\n"
     ]
    },
    {
     "name": "stderr",
     "output_type": "stream",
     "text": [
      "Iter 0265 | Time 45.4194(44.0070) | Bit/dim 5.7893(5.9958) | Xent 2.1876(2.0521) | Loss 17.7872(15.3407) | Error 0.7705(0.7147) Steps 484(493.69) | Grad Norm 155.5768(49.9252) | Total Time 0.00(0.00)\n",
      "Iter 0266 | Time 41.0902(43.9195) | Bit/dim 5.6724(5.9861) | Xent 2.0108(2.0508) | Loss 14.1652(15.3055) | Error 0.6934(0.7141) Steps 502(493.93) | Grad Norm 25.3961(49.1893) | Total Time 0.00(0.00)\n",
      "Iter 0267 | Time 42.1801(43.8673) | Bit/dim 5.6961(5.9774) | Xent 2.0268(2.0501) | Loss 14.2197(15.2729) | Error 0.7144(0.7141) Steps 466(493.10) | Grad Norm 86.6885(50.3143) | Total Time 0.00(0.00)\n",
      "Iter 0268 | Time 44.5736(43.8885) | Bit/dim 5.7190(5.9696) | Xent 1.9628(2.0475) | Loss 14.5814(15.2521) | Error 0.6631(0.7126) Steps 502(493.36) | Grad Norm 20.0375(49.4060) | Total Time 0.00(0.00)\n",
      "Iter 0269 | Time 41.4081(43.8141) | Bit/dim 5.6638(5.9604) | Xent 1.9591(2.0448) | Loss 13.7564(15.2073) | Error 0.6520(0.7108) Steps 466(492.54) | Grad Norm 6.8567(48.1295) | Total Time 0.00(0.00)\n",
      "Iter 0270 | Time 47.2025(43.9158) | Bit/dim 5.6813(5.9521) | Xent 1.9696(2.0426) | Loss 14.1526(15.1756) | Error 0.6670(0.7095) Steps 484(492.29) | Grad Norm 12.8860(47.0722) | Total Time 0.00(0.00)\n",
      "validating...\n",
      "Epoch 0045 | Time 20.2242, Epoch Time 297.6947(298.1026), Bit/dim 5.6679(best: 5.7895), Xent 1.9756, Loss 6.6556, Error 0.6701(best: 0.6535)\n",
      "===> Using batch size 8000. Total 6 iterations/epoch.\n"
     ]
    },
    {
     "name": "stdout",
     "output_type": "stream",
     "text": [
      "27.305389221556887\n",
      "27.305389221556887\n",
      "27.305389221556887\n",
      "27.305389221556887\n",
      "27.305389221556887\n",
      "27.305389221556887\n",
      "27.305389221556887\n",
      "27.305389221556887\n",
      "27.305389221556887\n",
      "27.305389221556887\n",
      "27.305389221556887\n",
      "27.305389221556887\n",
      "27.305389221556887\n",
      "27.305389221556887\n"
     ]
    },
    {
     "name": "stderr",
     "output_type": "stream",
     "text": [
      "Iter 0271 | Time 40.0646(43.8002) | Bit/dim 5.6662(5.9435) | Xent 1.9781(2.0406) | Loss 16.2287(15.2072) | Error 0.6809(0.7086) Steps 496(492.40) | Grad Norm 46.2916(47.0488) | Total Time 0.00(0.00)\n",
      "Iter 0272 | Time 43.6014(43.7943) | Bit/dim 5.6864(5.9358) | Xent 2.0020(2.0395) | Loss 14.4249(15.1838) | Error 0.6903(0.7080) Steps 508(492.87) | Grad Norm 65.8827(47.6138) | Total Time 0.00(0.00)\n",
      "Iter 0273 | Time 45.8800(43.8568) | Bit/dim 5.6853(5.9283) | Xent 1.9701(2.0374) | Loss 14.3380(15.1584) | Error 0.6558(0.7065) Steps 520(493.68) | Grad Norm 10.9614(46.5142) | Total Time 0.00(0.00)\n",
      "Iter 0274 | Time 44.7798(43.8845) | Bit/dim 5.6748(5.9207) | Xent 2.0057(2.0364) | Loss 13.8922(15.1204) | Error 0.7037(0.7064) Steps 490(493.57) | Grad Norm 83.1087(47.6121) | Total Time 0.00(0.00)\n",
      "Iter 0275 | Time 47.5679(43.9950) | Bit/dim 5.7059(5.9142) | Xent 1.9658(2.0343) | Loss 14.1093(15.0901) | Error 0.6620(0.7051) Steps 478(493.10) | Grad Norm 19.5543(46.7703) | Total Time 0.00(0.00)\n",
      "Iter 0276 | Time 47.2225(44.0918) | Bit/dim 5.6339(5.9058) | Xent 1.9657(2.0323) | Loss 14.1200(15.0610) | Error 0.6536(0.7035) Steps 460(492.11) | Grad Norm 11.4204(45.7098) | Total Time 0.00(0.00)\n",
      "validating...\n",
      "Epoch 0046 | Time 19.9587, Epoch Time 304.6915(298.3003), Bit/dim 5.6620(best: 5.6679), Xent 1.9465, Loss 6.6353, Error 0.6476(best: 0.6535)\n",
      "===> Using batch size 8000. Total 6 iterations/epoch.\n"
     ]
    },
    {
     "name": "stdout",
     "output_type": "stream",
     "text": [
      "27.24550898203593\n",
      "27.24550898203593\n",
      "27.24550898203593\n",
      "27.24550898203593\n",
      "27.24550898203593\n",
      "27.24550898203593\n",
      "27.24550898203593\n",
      "27.24550898203593\n",
      "27.24550898203593\n",
      "27.24550898203593\n",
      "27.24550898203593\n",
      "27.24550898203593\n",
      "27.24550898203593\n",
      "27.24550898203593\n"
     ]
    },
    {
     "name": "stderr",
     "output_type": "stream",
     "text": [
      "Iter 0277 | Time 41.1795(44.0045) | Bit/dim 5.6699(5.8987) | Xent 1.9568(2.0300) | Loss 16.3252(15.0989) | Error 0.6625(0.7023) Steps 490(492.05) | Grad Norm 32.8188(45.3231) | Total Time 0.00(0.00)\n",
      "Iter 0278 | Time 41.8745(43.9406) | Bit/dim 5.7459(5.8941) | Xent 2.0593(2.0309) | Loss 14.3191(15.0755) | Error 0.7315(0.7032) Steps 490(491.98) | Grad Norm 123.5389(47.6696) | Total Time 0.00(0.00)\n",
      "Iter 0279 | Time 43.5454(43.9287) | Bit/dim 5.7080(5.8886) | Xent 1.9898(2.0296) | Loss 14.3109(15.0526) | Error 0.6972(0.7030) Steps 478(491.57) | Grad Norm 66.1590(48.2243) | Total Time 0.00(0.00)\n",
      "Iter 0280 | Time 46.1298(43.9948) | Bit/dim 5.7935(5.8857) | Xent 2.1596(2.0335) | Loss 14.6621(15.0408) | Error 0.7876(0.7055) Steps 490(491.52) | Grad Norm 173.4225(51.9802) | Total Time 0.00(0.00)\n",
      "Iter 0281 | Time 41.6637(43.9248) | Bit/dim 5.7521(5.8817) | Xent 2.1605(2.0374) | Loss 14.4428(15.0229) | Error 0.7726(0.7075) Steps 484(491.29) | Grad Norm 167.5339(55.4468) | Total Time 0.00(0.00)\n",
      "Iter 0282 | Time 43.2719(43.9052) | Bit/dim 5.6334(5.8742) | Xent 1.9472(2.0347) | Loss 14.1414(14.9965) | Error 0.6641(0.7062) Steps 448(489.99) | Grad Norm 13.6245(54.1921) | Total Time 0.00(0.00)\n",
      "validating...\n",
      "Epoch 0047 | Time 20.6010, Epoch Time 294.1341(298.1753), Bit/dim 5.7119(best: 5.6620), Xent 2.0668, Loss 6.7453, Error 0.7286(best: 0.6476)\n",
      "===> Using batch size 8000. Total 6 iterations/epoch.\n"
     ]
    },
    {
     "name": "stdout",
     "output_type": "stream",
     "text": [
      "27.185628742514968\n",
      "27.185628742514968\n",
      "27.185628742514968\n",
      "27.185628742514968\n",
      "27.185628742514968\n",
      "27.185628742514968\n",
      "27.185628742514968\n",
      "27.185628742514968\n",
      "27.185628742514968\n",
      "27.185628742514968\n",
      "27.185628742514968\n",
      "27.185628742514968\n",
      "27.185628742514968\n",
      "27.185628742514968\n"
     ]
    },
    {
     "name": "stderr",
     "output_type": "stream",
     "text": [
      "Iter 0283 | Time 42.6737(43.8683) | Bit/dim 5.7046(5.8692) | Xent 2.0802(2.0360) | Loss 17.0458(15.0579) | Error 0.7435(0.7074) Steps 526(491.07) | Grad Norm 137.8877(56.7030) | Total Time 0.00(0.00)\n",
      "Iter 0284 | Time 47.2153(43.9687) | Bit/dim 5.6735(5.8633) | Xent 2.0369(2.0360) | Loss 14.2988(15.0352) | Error 0.7165(0.7076) Steps 496(491.22) | Grad Norm 103.3925(58.1037) | Total Time 0.00(0.00)\n",
      "Iter 0285 | Time 44.8198(43.9942) | Bit/dim 5.7041(5.8585) | Xent 1.9993(2.0349) | Loss 14.1531(15.0087) | Error 0.7110(0.7077) Steps 478(490.83) | Grad Norm 85.5003(58.9256) | Total Time 0.00(0.00)\n",
      "Iter 0286 | Time 45.5296(44.0403) | Bit/dim 5.7204(5.8544) | Xent 2.0184(2.0344) | Loss 14.4756(14.9927) | Error 0.7205(0.7081) Steps 454(489.72) | Grad Norm 91.2027(59.8939) | Total Time 0.00(0.00)\n",
      "Iter 0287 | Time 45.2018(44.0751) | Bit/dim 5.6561(5.8484) | Xent 1.9793(2.0328) | Loss 14.3963(14.9748) | Error 0.6806(0.7073) Steps 478(489.37) | Grad Norm 45.8416(59.4723) | Total Time 0.00(0.00)\n",
      "Iter 0288 | Time 44.1010(44.0759) | Bit/dim 5.6188(5.8415) | Xent 1.9684(2.0309) | Loss 13.8160(14.9401) | Error 0.6716(0.7062) Steps 490(489.39) | Grad Norm 25.1419(58.4424) | Total Time 0.00(0.00)\n",
      "validating...\n",
      "Epoch 0048 | Time 20.4993, Epoch Time 305.2728(298.3882), Bit/dim 5.7023(best: 5.6620), Xent 2.0001, Loss 6.7024, Error 0.7142(best: 0.6476)\n",
      "===> Using batch size 8000. Total 6 iterations/epoch.\n"
     ]
    },
    {
     "name": "stdout",
     "output_type": "stream",
     "text": [
      "27.125748502994014\n",
      "27.125748502994014\n",
      "27.125748502994014\n",
      "27.125748502994014\n",
      "27.125748502994014\n",
      "27.125748502994014\n",
      "27.125748502994014\n",
      "27.125748502994014\n",
      "27.125748502994014\n",
      "27.125748502994014\n",
      "27.125748502994014\n",
      "27.125748502994014\n",
      "27.125748502994014\n",
      "27.125748502994014\n"
     ]
    },
    {
     "name": "stderr",
     "output_type": "stream",
     "text": [
      "Iter 0289 | Time 46.1942(44.1395) | Bit/dim 5.7139(5.8377) | Xent 2.0122(2.0303) | Loss 17.0495(15.0033) | Error 0.7208(0.7067) Steps 478(489.05) | Grad Norm 97.5174(59.6147) | Total Time 0.00(0.00)\n",
      "Iter 0290 | Time 46.2470(44.2027) | Bit/dim 5.7293(5.8345) | Xent 2.0183(2.0299) | Loss 14.5219(14.9889) | Error 0.7292(0.7073) Steps 490(489.07) | Grad Norm 86.6513(60.4258) | Total Time 0.00(0.00)\n",
      "Iter 0291 | Time 40.8169(44.1011) | Bit/dim 5.6923(5.8302) | Xent 1.9826(2.0285) | Loss 13.9403(14.9574) | Error 0.6841(0.7066) Steps 484(488.92) | Grad Norm 30.9461(59.5414) | Total Time 0.00(0.00)\n",
      "Iter 0292 | Time 39.9218(43.9757) | Bit/dim 5.6677(5.8253) | Xent 1.9834(2.0272) | Loss 13.7231(14.9204) | Error 0.6917(0.7062) Steps 442(487.51) | Grad Norm 42.9177(59.0427) | Total Time 0.00(0.00)\n",
      "Iter 0293 | Time 45.8362(44.0315) | Bit/dim 5.6315(5.8195) | Xent 2.0023(2.0264) | Loss 14.1162(14.8963) | Error 0.6994(0.7060) Steps 514(488.31) | Grad Norm 35.5357(58.3375) | Total Time 0.00(0.00)\n",
      "Iter 0294 | Time 43.6408(44.0198) | Bit/dim 5.6022(5.8130) | Xent 1.9444(2.0240) | Loss 13.7981(14.8633) | Error 0.6613(0.7046) Steps 496(488.54) | Grad Norm 25.9381(57.3655) | Total Time 0.00(0.00)\n",
      "validating...\n",
      "Epoch 0049 | Time 19.8926, Epoch Time 299.9250(298.4343), Bit/dim 5.6386(best: 5.6620), Xent 1.9922, Loss 6.6347, Error 0.6947(best: 0.6476)\n",
      "===> Using batch size 8000. Total 6 iterations/epoch.\n"
     ]
    },
    {
     "name": "stdout",
     "output_type": "stream",
     "text": [
      "27.065868263473053\n",
      "27.065868263473053\n",
      "27.065868263473053\n",
      "27.065868263473053\n",
      "27.065868263473053\n",
      "27.065868263473053\n",
      "27.065868263473053\n",
      "27.065868263473053\n",
      "27.065868263473053\n",
      "27.065868263473053\n",
      "27.065868263473053\n",
      "27.065868263473053\n",
      "27.065868263473053\n",
      "27.065868263473053\n"
     ]
    },
    {
     "name": "stderr",
     "output_type": "stream",
     "text": [
      "Iter 0295 | Time 43.4627(44.0031) | Bit/dim 5.6543(5.8082) | Xent 2.0281(2.0241) | Loss 17.0753(14.9297) | Error 0.7164(0.7050) Steps 532(489.84) | Grad Norm 51.1809(57.1799) | Total Time 0.00(0.00)\n",
      "Iter 0296 | Time 44.9258(44.0308) | Bit/dim 5.6297(5.8029) | Xent 1.9736(2.0226) | Loss 14.1532(14.9064) | Error 0.6770(0.7042) Steps 490(489.85) | Grad Norm 31.4532(56.4081) | Total Time 0.00(0.00)\n",
      "Iter 0297 | Time 42.0937(43.9727) | Bit/dim 5.6578(5.7985) | Xent 2.0140(2.0223) | Loss 14.2678(14.8872) | Error 0.7156(0.7045) Steps 490(489.85) | Grad Norm 69.0928(56.7887) | Total Time 0.00(0.00)\n",
      "Iter 0298 | Time 42.9369(43.9416) | Bit/dim 5.6566(5.7943) | Xent 2.0108(2.0220) | Loss 14.0610(14.8625) | Error 0.7054(0.7045) Steps 490(489.86) | Grad Norm 71.5421(57.2313) | Total Time 0.00(0.00)\n",
      "Iter 0299 | Time 42.6067(43.9016) | Bit/dim 5.5965(5.7883) | Xent 1.9467(2.0197) | Loss 13.8172(14.8311) | Error 0.6484(0.7028) Steps 484(489.68) | Grad Norm 9.7459(55.8067) | Total Time 0.00(0.00)\n",
      "Iter 0300 | Time 44.7378(43.9267) | Bit/dim 5.6462(5.7841) | Xent 1.9867(2.0187) | Loss 14.1854(14.8117) | Error 0.6805(0.7022) Steps 466(488.97) | Grad Norm 66.9926(56.1423) | Total Time 0.00(0.00)\n",
      "validating...\n",
      "Epoch 0050 | Time 20.1486, Epoch Time 296.6929(298.3821), Bit/dim 5.6354(best: 5.6386), Xent 1.9595, Loss 6.6152, Error 0.6530(best: 0.6476)\n",
      "===> Using batch size 8000. Total 6 iterations/epoch.\n"
     ]
    },
    {
     "name": "stdout",
     "output_type": "stream",
     "text": [
      "27.005988023952096\n",
      "27.005988023952096\n",
      "27.005988023952096\n",
      "27.005988023952096\n",
      "27.005988023952096\n",
      "27.005988023952096\n",
      "27.005988023952096\n",
      "27.005988023952096\n",
      "27.005988023952096\n",
      "27.005988023952096\n",
      "27.005988023952096\n",
      "27.005988023952096\n",
      "27.005988023952096\n",
      "27.005988023952096\n"
     ]
    },
    {
     "name": "stderr",
     "output_type": "stream",
     "text": [
      "Iter 0301 | Time 41.6364(43.8579) | Bit/dim 5.6297(5.7794) | Xent 1.9788(2.0175) | Loss 17.2156(14.8838) | Error 0.6721(0.7013) Steps 484(488.82) | Grad Norm 52.7351(56.0401) | Total Time 0.00(0.00)\n",
      "Iter 0302 | Time 40.3985(43.7542) | Bit/dim 5.5944(5.7739) | Xent 1.9597(2.0158) | Loss 13.7271(14.8491) | Error 0.6703(0.7003) Steps 466(488.14) | Grad Norm 25.6948(55.1297) | Total Time 0.00(0.00)\n",
      "Iter 0303 | Time 41.1109(43.6749) | Bit/dim 5.6011(5.7687) | Xent 1.9647(2.0143) | Loss 14.0297(14.8246) | Error 0.6716(0.6995) Steps 490(488.19) | Grad Norm 30.1886(54.3815) | Total Time 0.00(0.00)\n",
      "Iter 0304 | Time 45.3406(43.7248) | Bit/dim 5.5937(5.7634) | Xent 1.9561(2.0125) | Loss 14.2540(14.8074) | Error 0.6593(0.6983) Steps 490(488.25) | Grad Norm 27.2289(53.5669) | Total Time 0.00(0.00)\n",
      "Iter 0305 | Time 43.3255(43.7129) | Bit/dim 5.5931(5.7583) | Xent 1.9573(2.0109) | Loss 13.9326(14.7812) | Error 0.6626(0.6972) Steps 490(488.30) | Grad Norm 19.4895(52.5446) | Total Time 0.00(0.00)\n",
      "Iter 0306 | Time 41.5217(43.6471) | Bit/dim 5.6328(5.7546) | Xent 1.9654(2.0095) | Loss 13.7397(14.7499) | Error 0.6883(0.6969) Steps 478(487.99) | Grad Norm 50.4551(52.4819) | Total Time 0.00(0.00)\n",
      "validating...\n",
      "Epoch 0051 | Time 19.6269, Epoch Time 288.5664(298.0876), Bit/dim 5.6258(best: 5.6354), Xent 1.9429, Loss 6.5973, Error 0.6630(best: 0.6476)\n",
      "===> Using batch size 8000. Total 6 iterations/epoch.\n"
     ]
    },
    {
     "name": "stdout",
     "output_type": "stream",
     "text": [
      "26.94610778443114\n",
      "26.94610778443114\n",
      "26.94610778443114\n",
      "26.94610778443114\n",
      "26.94610778443114\n",
      "26.94610778443114\n",
      "26.94610778443114\n",
      "26.94610778443114\n",
      "26.94610778443114\n",
      "26.94610778443114\n",
      "26.94610778443114\n",
      "26.94610778443114\n",
      "26.94610778443114\n",
      "26.94610778443114\n"
     ]
    },
    {
     "name": "stderr",
     "output_type": "stream",
     "text": [
      "Iter 0307 | Time 40.6936(43.5585) | Bit/dim 5.6113(5.7503) | Xent 1.9563(2.0079) | Loss 16.5217(14.8031) | Error 0.6691(0.6961) Steps 472(487.51) | Grad Norm 46.2209(52.2941) | Total Time 0.00(0.00)\n",
      "Iter 0308 | Time 45.6472(43.6212) | Bit/dim 5.6081(5.7460) | Xent 1.9733(2.0069) | Loss 14.2682(14.7871) | Error 0.6885(0.6959) Steps 490(487.59) | Grad Norm 36.2441(51.8126) | Total Time 0.00(0.00)\n",
      "Iter 0309 | Time 44.8889(43.6592) | Bit/dim 5.5904(5.7413) | Xent 1.9597(2.0054) | Loss 13.8342(14.7585) | Error 0.6658(0.6950) Steps 508(488.20) | Grad Norm 36.1481(51.3426) | Total Time 0.00(0.00)\n",
      "Iter 0310 | Time 42.8906(43.6361) | Bit/dim 5.5680(5.7361) | Xent 1.9624(2.0042) | Loss 14.0640(14.7376) | Error 0.6739(0.6943) Steps 460(487.35) | Grad Norm 22.7505(50.4849) | Total Time 0.00(0.00)\n",
      "Iter 0311 | Time 42.2052(43.5932) | Bit/dim 5.5949(5.7319) | Xent 2.0479(2.0055) | Loss 14.0714(14.7176) | Error 0.7434(0.6958) Steps 472(486.89) | Grad Norm 56.1628(50.6552) | Total Time 0.00(0.00)\n",
      "Iter 0312 | Time 43.3868(43.5870) | Bit/dim 5.5774(5.7273) | Xent 2.0092(2.0056) | Loss 13.9753(14.6954) | Error 0.7180(0.6965) Steps 490(486.99) | Grad Norm 40.4873(50.3502) | Total Time 0.00(0.00)\n",
      "validating...\n",
      "Epoch 0052 | Time 20.0012, Epoch Time 295.4214(298.0076), Bit/dim 5.5898(best: 5.6258), Xent 1.9839, Loss 6.5817, Error 0.6986(best: 0.6476)\n",
      "===> Using batch size 8000. Total 6 iterations/epoch.\n"
     ]
    },
    {
     "name": "stdout",
     "output_type": "stream",
     "text": [
      "26.88622754491018\n",
      "26.88622754491018\n",
      "26.88622754491018\n",
      "26.88622754491018\n",
      "26.88622754491018\n",
      "26.88622754491018\n",
      "26.88622754491018\n",
      "26.88622754491018\n",
      "26.88622754491018\n",
      "26.88622754491018\n",
      "26.88622754491018\n",
      "26.88622754491018\n",
      "26.88622754491018\n",
      "26.88622754491018\n"
     ]
    },
    {
     "name": "stderr",
     "output_type": "stream",
     "text": [
      "Iter 0313 | Time 43.4851(43.5840) | Bit/dim 5.5837(5.7230) | Xent 1.9971(2.0053) | Loss 16.9454(14.7629) | Error 0.7011(0.6966) Steps 478(486.72) | Grad Norm 40.3740(50.0509) | Total Time 0.00(0.00)\n",
      "Iter 0314 | Time 43.9285(43.5943) | Bit/dim 5.5954(5.7191) | Xent 2.0004(2.0052) | Loss 14.0967(14.7429) | Error 0.6991(0.6967) Steps 484(486.63) | Grad Norm 39.5374(49.7355) | Total Time 0.00(0.00)\n",
      "Iter 0315 | Time 44.2886(43.6151) | Bit/dim 5.5600(5.7144) | Xent 1.9762(2.0043) | Loss 14.0795(14.7230) | Error 0.6803(0.6962) Steps 490(486.74) | Grad Norm 24.6589(48.9832) | Total Time 0.00(0.00)\n",
      "Iter 0316 | Time 43.5535(43.6133) | Bit/dim 5.5574(5.7096) | Xent 1.9605(2.0030) | Loss 13.7720(14.6945) | Error 0.6630(0.6952) Steps 502(487.19) | Grad Norm 20.9648(48.1426) | Total Time 0.00(0.00)\n",
      "Iter 0317 | Time 43.5532(43.6115) | Bit/dim 5.5588(5.7051) | Xent 1.9948(2.0027) | Loss 13.9817(14.6731) | Error 0.6841(0.6949) Steps 502(487.64) | Grad Norm 30.3162(47.6078) | Total Time 0.00(0.00)\n",
      "Iter 0318 | Time 42.7513(43.5857) | Bit/dim 5.5515(5.7005) | Xent 1.9525(2.0012) | Loss 13.5326(14.6389) | Error 0.6684(0.6941) Steps 502(488.07) | Grad Norm 23.3427(46.8799) | Total Time 0.00(0.00)\n",
      "validating...\n",
      "Epoch 0053 | Time 20.2897, Epoch Time 297.8590(298.0032), Bit/dim 5.5572(best: 5.5898), Xent 1.9572, Loss 6.5358, Error 0.6681(best: 0.6476)\n",
      "===> Using batch size 8000. Total 6 iterations/epoch.\n"
     ]
    },
    {
     "name": "stdout",
     "output_type": "stream",
     "text": [
      "26.82634730538922\n",
      "26.82634730538922\n",
      "26.82634730538922\n",
      "26.82634730538922\n",
      "26.82634730538922\n",
      "26.82634730538922\n",
      "26.82634730538922\n",
      "26.82634730538922\n",
      "26.82634730538922\n",
      "26.82634730538922\n",
      "26.82634730538922\n",
      "26.82634730538922\n",
      "26.82634730538922\n",
      "26.82634730538922\n"
     ]
    },
    {
     "name": "stderr",
     "output_type": "stream",
     "text": [
      "Iter 0319 | Time 40.6410(43.4973) | Bit/dim 5.5596(5.6963) | Xent 1.9585(2.0000) | Loss 16.7456(14.7021) | Error 0.6727(0.6934) Steps 490(488.13) | Grad Norm 29.6307(46.3624) | Total Time 0.00(0.00)\n",
      "Iter 0320 | Time 43.5000(43.4974) | Bit/dim 5.5412(5.6916) | Xent 1.9600(1.9988) | Loss 13.7629(14.6739) | Error 0.6686(0.6927) Steps 484(488.00) | Grad Norm 24.0803(45.6939) | Total Time 0.00(0.00)\n",
      "Iter 0321 | Time 40.7071(43.4137) | Bit/dim 5.5617(5.6877) | Xent 1.9759(1.9981) | Loss 13.8782(14.6500) | Error 0.6763(0.6922) Steps 466(487.34) | Grad Norm 40.4317(45.5361) | Total Time 0.00(0.00)\n",
      "Iter 0322 | Time 44.7166(43.4528) | Bit/dim 5.5684(5.6842) | Xent 1.9559(1.9968) | Loss 13.7447(14.6229) | Error 0.6590(0.6912) Steps 532(488.68) | Grad Norm 35.2106(45.2263) | Total Time 0.00(0.00)\n",
      "Iter 0323 | Time 42.5491(43.4257) | Bit/dim 5.5596(5.6804) | Xent 1.9420(1.9952) | Loss 13.6951(14.5950) | Error 0.6715(0.6906) Steps 496(488.90) | Grad Norm 32.8876(44.8562) | Total Time 0.00(0.00)\n",
      "Iter 0324 | Time 44.5507(43.4594) | Bit/dim 5.5311(5.6759) | Xent 1.9477(1.9937) | Loss 13.9204(14.5748) | Error 0.6649(0.6898) Steps 520(489.83) | Grad Norm 28.9197(44.3781) | Total Time 0.00(0.00)\n",
      "validating...\n",
      "Epoch 0054 | Time 20.5981, Epoch Time 292.9012(297.8501), Bit/dim 5.5435(best: 5.5572), Xent 1.9559, Loss 6.5215, Error 0.6707(best: 0.6476)\n",
      "===> Using batch size 8000. Total 6 iterations/epoch.\n"
     ]
    },
    {
     "name": "stdout",
     "output_type": "stream",
     "text": [
      "26.766467065868266\n",
      "26.766467065868266\n",
      "26.766467065868266\n",
      "26.766467065868266\n",
      "26.766467065868266\n",
      "26.766467065868266\n",
      "26.766467065868266\n",
      "26.766467065868266\n",
      "26.766467065868266\n",
      "26.766467065868266\n",
      "26.766467065868266\n",
      "26.766467065868266\n",
      "26.766467065868266\n",
      "26.766467065868266\n"
     ]
    },
    {
     "name": "stderr",
     "output_type": "stream",
     "text": [
      "Iter 0325 | Time 44.7075(43.4969) | Bit/dim 5.5354(5.6717) | Xent 1.9788(1.9933) | Loss 16.8485(14.6430) | Error 0.6799(0.6895) Steps 484(489.66) | Grad Norm 41.6691(44.2968) | Total Time 0.00(0.00)\n",
      "Iter 0326 | Time 41.0276(43.4228) | Bit/dim 5.5309(5.6675) | Xent 1.9718(1.9926) | Loss 13.9495(14.6222) | Error 0.6859(0.6894) Steps 472(489.13) | Grad Norm 31.7633(43.9208) | Total Time 0.00(0.00)\n",
      "Iter 0327 | Time 45.7997(43.4941) | Bit/dim 5.5289(5.6633) | Xent 1.9565(1.9916) | Loss 13.6314(14.5925) | Error 0.6741(0.6890) Steps 496(489.34) | Grad Norm 26.7449(43.4055) | Total Time 0.00(0.00)\n",
      "Iter 0328 | Time 44.2359(43.5164) | Bit/dim 5.5401(5.6596) | Xent 2.0439(1.9931) | Loss 14.1679(14.5797) | Error 0.7420(0.6906) Steps 484(489.18) | Grad Norm 60.4290(43.9162) | Total Time 0.00(0.00)\n",
      "Iter 0329 | Time 43.9031(43.5280) | Bit/dim 5.5307(5.6558) | Xent 1.9771(1.9927) | Loss 13.8959(14.5592) | Error 0.6975(0.6908) Steps 502(489.56) | Grad Norm 35.6956(43.6696) | Total Time 0.00(0.00)\n",
      "Iter 0330 | Time 44.2389(43.5493) | Bit/dim 5.5462(5.6525) | Xent 1.9806(1.9923) | Loss 13.9253(14.5402) | Error 0.7041(0.6912) Steps 478(489.21) | Grad Norm 42.2050(43.6257) | Total Time 0.00(0.00)\n",
      "validating...\n",
      "Epoch 0055 | Time 20.6344, Epoch Time 300.6662(297.9346), Bit/dim 5.5416(best: 5.5435), Xent 1.9951, Loss 6.5391, Error 0.6982(best: 0.6476)\n",
      "===> Using batch size 8000. Total 6 iterations/epoch.\n"
     ]
    },
    {
     "name": "stdout",
     "output_type": "stream",
     "text": [
      "26.706586826347305\n",
      "26.706586826347305\n",
      "26.706586826347305\n",
      "26.706586826347305\n",
      "26.706586826347305\n",
      "26.706586826347305\n",
      "26.706586826347305\n",
      "26.706586826347305\n",
      "26.706586826347305\n",
      "26.706586826347305\n",
      "26.706586826347305\n",
      "26.706586826347305\n",
      "26.706586826347305\n",
      "26.706586826347305\n"
     ]
    },
    {
     "name": "stderr",
     "output_type": "stream",
     "text": [
      "Iter 0331 | Time 42.2170(43.5093) | Bit/dim 5.5569(5.6496) | Xent 2.0235(1.9932) | Loss 16.5867(14.6016) | Error 0.7127(0.6918) Steps 478(488.88) | Grad Norm 34.9078(43.3641) | Total Time 0.00(0.00)\n",
      "Iter 0332 | Time 42.5204(43.4796) | Bit/dim 5.5363(5.6462) | Xent 1.9528(1.9920) | Loss 13.8537(14.5792) | Error 0.6720(0.6912) Steps 484(488.73) | Grad Norm 37.2507(43.1807) | Total Time 0.00(0.00)\n",
      "Iter 0333 | Time 42.6678(43.4553) | Bit/dim 5.5159(5.6423) | Xent 1.9893(1.9919) | Loss 13.8938(14.5586) | Error 0.6957(0.6914) Steps 514(489.49) | Grad Norm 30.4853(42.7999) | Total Time 0.00(0.00)\n",
      "Iter 0334 | Time 40.4112(43.3640) | Bit/dim 5.5443(5.6394) | Xent 1.9749(1.9914) | Loss 13.9529(14.5404) | Error 0.6840(0.6911) Steps 484(489.32) | Grad Norm 44.7865(42.8595) | Total Time 0.00(0.00)\n",
      "Iter 0335 | Time 44.2222(43.3897) | Bit/dim 5.5340(5.6362) | Xent 1.9881(1.9913) | Loss 13.8714(14.5204) | Error 0.6903(0.6911) Steps 514(490.06) | Grad Norm 39.7685(42.7667) | Total Time 0.00(0.00)\n",
      "Iter 0336 | Time 41.4441(43.3314) | Bit/dim 5.4849(5.6317) | Xent 1.9674(1.9906) | Loss 13.6529(14.4943) | Error 0.6709(0.6905) Steps 484(489.88) | Grad Norm 21.2288(42.1206) | Total Time 0.00(0.00)\n",
      "validating...\n",
      "Epoch 0056 | Time 20.5946, Epoch Time 289.5865(297.6841), Bit/dim 5.4981(best: 5.5416), Xent 1.9568, Loss 6.4765, Error 0.6555(best: 0.6476)\n",
      "===> Using batch size 8000. Total 6 iterations/epoch.\n"
     ]
    },
    {
     "name": "stdout",
     "output_type": "stream",
     "text": [
      "26.646706586826348\n",
      "26.646706586826348\n",
      "26.646706586826348\n",
      "26.646706586826348\n",
      "26.646706586826348\n",
      "26.646706586826348\n",
      "26.646706586826348\n",
      "26.646706586826348\n",
      "26.646706586826348\n",
      "26.646706586826348\n",
      "26.646706586826348\n",
      "26.646706586826348\n",
      "26.646706586826348\n",
      "26.646706586826348\n"
     ]
    },
    {
     "name": "stderr",
     "output_type": "stream",
     "text": [
      "Iter 0337 | Time 42.7302(43.3133) | Bit/dim 5.5022(5.6278) | Xent 1.9669(1.9899) | Loss 16.7322(14.5615) | Error 0.6666(0.6898) Steps 508(490.43) | Grad Norm 25.8500(41.6325) | Total Time 0.00(0.00)\n",
      "Iter 0338 | Time 42.9538(43.3025) | Bit/dim 5.4988(5.6239) | Xent 1.9661(1.9892) | Loss 13.6734(14.5348) | Error 0.6635(0.6890) Steps 502(490.77) | Grad Norm 23.9274(41.1013) | Total Time 0.00(0.00)\n",
      "Iter 0339 | Time 42.8310(43.2884) | Bit/dim 5.4776(5.6195) | Xent 1.9498(1.9880) | Loss 13.7134(14.5102) | Error 0.6623(0.6882) Steps 478(490.39) | Grad Norm 16.9133(40.3757) | Total Time 0.00(0.00)\n",
      "Iter 0340 | Time 45.3902(43.3514) | Bit/dim 5.5076(5.6162) | Xent 1.9576(1.9871) | Loss 13.6532(14.4845) | Error 0.6610(0.6874) Steps 508(490.92) | Grad Norm 37.6467(40.2938) | Total Time 0.00(0.00)\n",
      "Iter 0341 | Time 42.9406(43.3391) | Bit/dim 5.5033(5.6128) | Xent 1.9614(1.9863) | Loss 13.6289(14.4588) | Error 0.6726(0.6869) Steps 490(490.89) | Grad Norm 28.3042(39.9341) | Total Time 0.00(0.00)\n",
      "Iter 0342 | Time 40.4486(43.2524) | Bit/dim 5.4996(5.6094) | Xent 1.9525(1.9853) | Loss 13.7940(14.4389) | Error 0.6699(0.6864) Steps 508(491.40) | Grad Norm 30.1656(39.6411) | Total Time 0.00(0.00)\n",
      "validating...\n",
      "Epoch 0057 | Time 20.6319, Epoch Time 294.0397(297.5748), Bit/dim 5.4924(best: 5.4981), Xent 1.9348, Loss 6.4598, Error 0.6527(best: 0.6476)\n",
      "===> Using batch size 8000. Total 6 iterations/epoch.\n"
     ]
    },
    {
     "name": "stdout",
     "output_type": "stream",
     "text": [
      "26.58682634730539\n",
      "26.58682634730539\n",
      "26.58682634730539\n",
      "26.58682634730539\n",
      "26.58682634730539\n",
      "26.58682634730539\n",
      "26.58682634730539\n",
      "26.58682634730539\n",
      "26.58682634730539\n",
      "26.58682634730539\n",
      "26.58682634730539\n",
      "26.58682634730539\n",
      "26.58682634730539\n",
      "26.58682634730539\n"
     ]
    },
    {
     "name": "stderr",
     "output_type": "stream",
     "text": [
      "Iter 0343 | Time 42.2526(43.2224) | Bit/dim 5.5027(5.6062) | Xent 1.9486(1.9842) | Loss 16.2664(14.4937) | Error 0.6598(0.6856) Steps 514(492.08) | Grad Norm 26.7718(39.2550) | Total Time 0.00(0.00)\n",
      "Iter 0344 | Time 43.0584(43.2175) | Bit/dim 5.4676(5.6020) | Xent 1.9634(1.9836) | Loss 13.8041(14.4730) | Error 0.6861(0.6856) Steps 490(492.02) | Grad Norm 36.3171(39.1668) | Total Time 0.00(0.00)\n",
      "Iter 0345 | Time 43.7688(43.2340) | Bit/dim 5.4761(5.5983) | Xent 1.9330(1.9821) | Loss 13.7700(14.4519) | Error 0.6634(0.6850) Steps 508(492.50) | Grad Norm 26.0157(38.7723) | Total Time 0.00(0.00)\n",
      "Iter 0346 | Time 43.1720(43.2322) | Bit/dim 5.4853(5.5949) | Xent 1.9751(1.9818) | Loss 13.8927(14.4351) | Error 0.6791(0.6848) Steps 496(492.60) | Grad Norm 25.8032(38.3832) | Total Time 0.00(0.00)\n",
      "Iter 0347 | Time 42.8798(43.2216) | Bit/dim 5.4522(5.5906) | Xent 1.9273(1.9802) | Loss 13.7195(14.4137) | Error 0.6512(0.6838) Steps 484(492.35) | Grad Norm 20.3032(37.8408) | Total Time 0.00(0.00)\n",
      "Iter 0348 | Time 40.9340(43.1530) | Bit/dim 5.4769(5.5872) | Xent 1.9867(1.9804) | Loss 13.6783(14.3916) | Error 0.7096(0.6846) Steps 472(491.74) | Grad Norm 46.1896(38.0913) | Total Time 0.00(0.00)\n",
      "validating...\n",
      "Epoch 0058 | Time 20.4891, Epoch Time 292.4273(297.4204), Bit/dim 5.4528(best: 5.4924), Xent 1.9224, Loss 6.4140, Error 0.6390(best: 0.6476)\n",
      "===> Using batch size 8000. Total 6 iterations/epoch.\n"
     ]
    },
    {
     "name": "stdout",
     "output_type": "stream",
     "text": [
      "26.526946107784433\n",
      "26.526946107784433\n",
      "26.526946107784433\n",
      "26.526946107784433\n",
      "26.526946107784433\n",
      "26.526946107784433\n",
      "26.526946107784433\n",
      "26.526946107784433\n",
      "26.526946107784433\n",
      "26.526946107784433\n",
      "26.526946107784433\n",
      "26.526946107784433\n",
      "26.526946107784433\n",
      "26.526946107784433\n"
     ]
    },
    {
     "name": "stderr",
     "output_type": "stream",
     "text": [
      "Iter 0349 | Time 42.8237(43.1431) | Bit/dim 5.4648(5.5835) | Xent 1.9317(1.9789) | Loss 16.3141(14.4493) | Error 0.6566(0.6837) Steps 514(492.40) | Grad Norm 23.0926(37.6413) | Total Time 0.00(0.00)\n",
      "Iter 0350 | Time 40.4905(43.0635) | Bit/dim 5.4632(5.5799) | Xent 1.9816(1.9790) | Loss 13.7105(14.4271) | Error 0.6885(0.6839) Steps 502(492.69) | Grad Norm 29.3082(37.3913) | Total Time 0.00(0.00)\n",
      "Iter 0351 | Time 44.3195(43.1012) | Bit/dim 5.4660(5.5765) | Xent 1.9498(1.9782) | Loss 13.7218(14.4060) | Error 0.6613(0.6832) Steps 478(492.25) | Grad Norm 27.3134(37.0890) | Total Time 0.00(0.00)\n",
      "Iter 0352 | Time 41.4498(43.0516) | Bit/dim 5.4251(5.5719) | Xent 1.9782(1.9782) | Loss 13.3506(14.3743) | Error 0.6970(0.6836) Steps 484(492.00) | Grad Norm 29.4331(36.8593) | Total Time 0.00(0.00)\n",
      "Iter 0353 | Time 45.0338(43.1111) | Bit/dim 5.4341(5.5678) | Xent 1.9457(1.9772) | Loss 13.7398(14.3553) | Error 0.6769(0.6834) Steps 514(492.66) | Grad Norm 25.6901(36.5243) | Total Time 0.00(0.00)\n",
      "Iter 0354 | Time 40.1538(43.0224) | Bit/dim 5.4306(5.5637) | Xent 1.9942(1.9777) | Loss 13.5240(14.3303) | Error 0.7072(0.6841) Steps 484(492.40) | Grad Norm 28.1402(36.2727) | Total Time 0.00(0.00)\n",
      "validating...\n",
      "Epoch 0059 | Time 20.1419, Epoch Time 291.0264(297.2286), Bit/dim 5.4306(best: 5.4528), Xent 1.9436, Loss 6.4023, Error 0.6609(best: 0.6390)\n",
      "===> Using batch size 8000. Total 6 iterations/epoch.\n"
     ]
    },
    {
     "name": "stdout",
     "output_type": "stream",
     "text": [
      "26.46706586826347\n",
      "26.46706586826347\n",
      "26.46706586826347\n",
      "26.46706586826347\n",
      "26.46706586826347\n",
      "26.46706586826347\n",
      "26.46706586826347\n",
      "26.46706586826347\n",
      "26.46706586826347\n",
      "26.46706586826347\n",
      "26.46706586826347\n",
      "26.46706586826347\n",
      "26.46706586826347\n",
      "26.46706586826347\n"
     ]
    },
    {
     "name": "stderr",
     "output_type": "stream",
     "text": [
      "Iter 0355 | Time 41.3684(42.9728) | Bit/dim 5.4240(5.5595) | Xent 1.9584(1.9771) | Loss 16.4157(14.3929) | Error 0.6778(0.6839) Steps 496(492.51) | Grad Norm 23.7544(35.8972) | Total Time 0.00(0.00)\n",
      "Iter 0356 | Time 43.4144(42.9860) | Bit/dim 5.4127(5.5551) | Xent 1.9696(1.9769) | Loss 13.8612(14.3769) | Error 0.6876(0.6840) Steps 496(492.62) | Grad Norm 28.3491(35.6707) | Total Time 0.00(0.00)\n",
      "Iter 0357 | Time 42.3190(42.9660) | Bit/dim 5.4175(5.5510) | Xent 1.9431(1.9759) | Loss 13.4592(14.3494) | Error 0.6796(0.6839) Steps 460(491.64) | Grad Norm 25.6682(35.3707) | Total Time 0.00(0.00)\n",
      "Iter 0358 | Time 44.3221(43.0067) | Bit/dim 5.4164(5.5469) | Xent 1.9651(1.9755) | Loss 13.6972(14.3298) | Error 0.6910(0.6841) Steps 472(491.05) | Grad Norm 25.6629(35.0794) | Total Time 0.00(0.00)\n",
      "Iter 0359 | Time 45.9502(43.0950) | Bit/dim 5.4040(5.5426) | Xent 1.9466(1.9747) | Loss 13.7147(14.3114) | Error 0.6663(0.6836) Steps 490(491.02) | Grad Norm 23.6822(34.7375) | Total Time 0.00(0.00)\n",
      "Iter 0360 | Time 41.9556(43.0608) | Bit/dim 5.3894(5.5380) | Xent 1.9550(1.9741) | Loss 13.3281(14.2819) | Error 0.6780(0.6834) Steps 484(490.81) | Grad Norm 22.2141(34.3618) | Total Time 0.00(0.00)\n",
      "validating...\n",
      "Epoch 0060 | Time 19.5071, Epoch Time 297.6772(297.2420), Bit/dim 5.3926(best: 5.4306), Xent 1.9167, Loss 6.3510, Error 0.6531(best: 0.6390)\n",
      "===> Using batch size 8000. Total 6 iterations/epoch.\n"
     ]
    },
    {
     "name": "stdout",
     "output_type": "stream",
     "text": [
      "26.407185628742514\n",
      "26.407185628742514\n",
      "26.407185628742514\n",
      "26.407185628742514\n",
      "26.407185628742514\n",
      "26.407185628742514\n",
      "26.407185628742514\n",
      "26.407185628742514\n",
      "26.407185628742514\n",
      "26.407185628742514\n",
      "26.407185628742514\n",
      "26.407185628742514\n",
      "26.407185628742514\n",
      "26.407185628742514\n"
     ]
    },
    {
     "name": "stderr",
     "output_type": "stream",
     "text": [
      "Iter 0361 | Time 47.1246(43.1827) | Bit/dim 5.3939(5.5337) | Xent 1.9240(1.9726) | Loss 16.3527(14.3440) | Error 0.6494(0.6824) Steps 508(491.32) | Grad Norm 22.9138(34.0184) | Total Time 0.00(0.00)\n",
      "Iter 0362 | Time 40.4174(43.0998) | Bit/dim 5.3968(5.5296) | Xent 1.9404(1.9716) | Loss 13.3727(14.3149) | Error 0.6760(0.6822) Steps 484(491.10) | Grad Norm 19.7504(33.5903) | Total Time 0.00(0.00)\n",
      "Iter 0363 | Time 41.9629(43.0657) | Bit/dim 5.3765(5.5250) | Xent 1.9263(1.9703) | Loss 13.4233(14.2881) | Error 0.6581(0.6815) Steps 484(490.89) | Grad Norm 18.3734(33.1338) | Total Time 0.00(0.00)\n",
      "Iter 0364 | Time 43.2608(43.0715) | Bit/dim 5.3642(5.5202) | Xent 1.9469(1.9696) | Loss 13.1613(14.2543) | Error 0.6776(0.6814) Steps 490(490.86) | Grad Norm 32.0573(33.1015) | Total Time 0.00(0.00)\n",
      "Iter 0365 | Time 43.8284(43.0942) | Bit/dim 5.3650(5.5155) | Xent 1.9398(1.9687) | Loss 13.6774(14.2370) | Error 0.6664(0.6809) Steps 502(491.20) | Grad Norm 22.0484(32.7699) | Total Time 0.00(0.00)\n",
      "Iter 0366 | Time 45.0464(43.1528) | Bit/dim 5.3888(5.5117) | Xent 1.9308(1.9675) | Loss 13.6369(14.2190) | Error 0.6680(0.6805) Steps 502(491.52) | Grad Norm 32.4457(32.7602) | Total Time 0.00(0.00)\n",
      "validating...\n",
      "Epoch 0061 | Time 20.2646, Epoch Time 297.4866(297.2494), Bit/dim 5.3785(best: 5.3926), Xent 1.9530, Loss 6.3550, Error 0.6738(best: 0.6390)\n",
      "===> Using batch size 8000. Total 6 iterations/epoch.\n"
     ]
    },
    {
     "name": "stdout",
     "output_type": "stream",
     "text": [
      "26.347305389221557\n",
      "26.347305389221557\n",
      "26.347305389221557\n",
      "26.347305389221557\n",
      "26.347305389221557\n",
      "26.347305389221557\n",
      "26.347305389221557\n",
      "26.347305389221557\n",
      "26.347305389221557\n",
      "26.347305389221557\n",
      "26.347305389221557\n",
      "26.347305389221557\n",
      "26.347305389221557\n",
      "26.347305389221557\n"
     ]
    },
    {
     "name": "stderr",
     "output_type": "stream",
     "text": [
      "Iter 0367 | Time 42.9954(43.1481) | Bit/dim 5.3978(5.5083) | Xent 1.9600(1.9673) | Loss 16.4549(14.2861) | Error 0.6892(0.6808) Steps 496(491.66) | Grad Norm 27.5568(32.6041) | Total Time 0.00(0.00)\n",
      "Iter 0368 | Time 41.8822(43.1101) | Bit/dim 5.3263(5.5029) | Xent 1.9379(1.9664) | Loss 13.5460(14.2639) | Error 0.6636(0.6803) Steps 496(491.79) | Grad Norm 25.6021(32.3940) | Total Time 0.00(0.00)\n",
      "Iter 0369 | Time 51.5016(43.3618) | Bit/dim 5.3736(5.4990) | Xent 1.9729(1.9666) | Loss 13.8287(14.2508) | Error 0.6937(0.6807) Steps 472(491.19) | Grad Norm 38.4545(32.5759) | Total Time 0.00(0.00)\n",
      "Iter 0370 | Time 50.5358(43.5771) | Bit/dim 5.3540(5.4946) | Xent 1.9870(1.9672) | Loss 13.6786(14.2337) | Error 0.6989(0.6812) Steps 466(490.44) | Grad Norm 38.8196(32.7632) | Total Time 0.00(0.00)\n",
      "Iter 0371 | Time 48.8845(43.7363) | Bit/dim 5.3271(5.4896) | Xent 1.9083(1.9655) | Loss 13.4666(14.2106) | Error 0.6469(0.6802) Steps 502(490.78) | Grad Norm 14.2313(32.2072) | Total Time 0.00(0.00)\n",
      "Iter 0372 | Time 48.8383(43.8893) | Bit/dim 5.3757(5.4862) | Xent 2.0088(1.9668) | Loss 13.7122(14.1957) | Error 0.6990(0.6808) Steps 502(491.12) | Grad Norm 57.0344(32.9520) | Total Time 0.00(0.00)\n",
      "validating...\n",
      "Epoch 0062 | Time 20.3120, Epoch Time 321.0856(297.9644), Bit/dim 5.3408(best: 5.3785), Xent 1.9668, Loss 6.3242, Error 0.6851(best: 0.6390)\n",
      "===> Using batch size 8000. Total 6 iterations/epoch.\n"
     ]
    },
    {
     "name": "stdout",
     "output_type": "stream",
     "text": [
      "26.2874251497006\n",
      "26.2874251497006\n",
      "26.2874251497006\n",
      "26.2874251497006\n",
      "26.2874251497006\n",
      "26.2874251497006\n",
      "26.2874251497006\n",
      "26.2874251497006\n",
      "26.2874251497006\n",
      "26.2874251497006\n",
      "26.2874251497006\n",
      "26.2874251497006\n",
      "26.2874251497006\n",
      "26.2874251497006\n"
     ]
    },
    {
     "name": "stderr",
     "output_type": "stream",
     "text": [
      "Iter 0373 | Time 53.2436(44.1700) | Bit/dim 5.3270(5.4814) | Xent 1.9836(1.9673) | Loss 16.5470(14.2662) | Error 0.6967(0.6812) Steps 538(492.53) | Grad Norm 43.1126(33.2569) | Total Time 0.00(0.00)\n",
      "Iter 0374 | Time 52.2223(44.4115) | Bit/dim 5.3333(5.4770) | Xent 1.9401(1.9665) | Loss 13.5094(14.2435) | Error 0.6745(0.6810) Steps 526(493.53) | Grad Norm 32.2180(33.2257) | Total Time 0.00(0.00)\n",
      "Iter 0375 | Time 50.3615(44.5900) | Bit/dim 5.3107(5.4720) | Xent 1.9115(1.9648) | Loss 13.4923(14.2210) | Error 0.6604(0.6804) Steps 502(493.78) | Grad Norm 25.4706(32.9930) | Total Time 0.00(0.00)\n",
      "Iter 0376 | Time 52.0508(44.8139) | Bit/dim 5.3556(5.4685) | Xent 1.9447(1.9642) | Loss 13.5458(14.2007) | Error 0.6845(0.6805) Steps 526(494.75) | Grad Norm 53.1202(33.5968) | Total Time 0.00(0.00)\n",
      "Iter 0377 | Time 49.3600(44.9502) | Bit/dim 5.3152(5.4639) | Xent 1.9380(1.9634) | Loss 13.3215(14.1744) | Error 0.6754(0.6804) Steps 484(494.43) | Grad Norm 30.5196(33.5045) | Total Time 0.00(0.00)\n",
      "Iter 0378 | Time 49.3307(45.0817) | Bit/dim 5.3625(5.4609) | Xent 1.9286(1.9624) | Loss 13.5209(14.1548) | Error 0.6643(0.6799) Steps 514(495.02) | Grad Norm 33.8150(33.5138) | Total Time 0.00(0.00)\n",
      "validating...\n",
      "Epoch 0063 | Time 21.0519, Epoch Time 343.2314(299.3225), Bit/dim 5.3385(best: 5.3408), Xent 1.9335, Loss 6.3053, Error 0.6594(best: 0.6390)\n",
      "===> Using batch size 8000. Total 6 iterations/epoch.\n"
     ]
    },
    {
     "name": "stdout",
     "output_type": "stream",
     "text": [
      "26.227544910179642\n",
      "26.227544910179642\n",
      "26.227544910179642\n",
      "26.227544910179642\n",
      "26.227544910179642\n",
      "26.227544910179642\n",
      "26.227544910179642\n",
      "26.227544910179642\n",
      "26.227544910179642\n",
      "26.227544910179642\n",
      "26.227544910179642\n",
      "26.227544910179642\n",
      "26.227544910179642\n",
      "26.227544910179642\n"
     ]
    },
    {
     "name": "stderr",
     "output_type": "stream",
     "text": [
      "Iter 0379 | Time 45.0430(45.0805) | Bit/dim 5.3534(5.4576) | Xent 1.9569(1.9622) | Loss 16.0501(14.2116) | Error 0.6790(0.6799) Steps 484(494.68) | Grad Norm 34.8747(33.5547) | Total Time 0.00(0.00)\n",
      "Iter 0380 | Time 47.0200(45.1387) | Bit/dim 5.2943(5.4527) | Xent 1.9146(1.9608) | Loss 13.4666(14.1893) | Error 0.6560(0.6792) Steps 472(494.00) | Grad Norm 8.3176(32.7976) | Total Time 0.00(0.00)\n",
      "Iter 0381 | Time 48.2710(45.2327) | Bit/dim 5.3089(5.4484) | Xent 1.9335(1.9600) | Loss 13.1272(14.1574) | Error 0.6733(0.6790) Steps 472(493.34) | Grad Norm 42.7613(33.0965) | Total Time 0.00(0.00)\n",
      "Iter 0382 | Time 47.0690(45.2877) | Bit/dim 5.2665(5.4430) | Xent 1.9089(1.9584) | Loss 13.4891(14.1374) | Error 0.6573(0.6783) Steps 472(492.70) | Grad Norm 11.8045(32.4577) | Total Time 0.00(0.00)\n",
      "Iter 0383 | Time 49.9156(45.4266) | Bit/dim 5.3176(5.4392) | Xent 1.9351(1.9577) | Loss 13.5914(14.1210) | Error 0.6600(0.6778) Steps 490(492.62) | Grad Norm 32.0601(32.4458) | Total Time 0.00(0.00)\n",
      "Iter 0384 | Time 47.0209(45.4744) | Bit/dim 5.3046(5.4352) | Xent 1.9227(1.9567) | Loss 12.9934(14.0871) | Error 0.6590(0.6772) Steps 502(492.90) | Grad Norm 25.8478(32.2478) | Total Time 0.00(0.00)\n",
      "validating...\n",
      "Epoch 0064 | Time 20.8730, Epoch Time 320.9265(299.9706), Bit/dim 5.2800(best: 5.3385), Xent 1.9020, Loss 6.2310, Error 0.6417(best: 0.6390)\n",
      "===> Using batch size 8000. Total 6 iterations/epoch.\n"
     ]
    },
    {
     "name": "stdout",
     "output_type": "stream",
     "text": [
      "26.16766467065868\n",
      "26.16766467065868\n",
      "26.16766467065868\n",
      "26.16766467065868\n",
      "26.16766467065868\n",
      "26.16766467065868\n",
      "26.16766467065868\n",
      "26.16766467065868\n",
      "26.16766467065868\n",
      "26.16766467065868\n",
      "26.16766467065868\n",
      "26.16766467065868\n",
      "26.16766467065868\n",
      "26.16766467065868\n"
     ]
    },
    {
     "name": "stderr",
     "output_type": "stream",
     "text": [
      "Iter 0385 | Time 50.5351(45.6262) | Bit/dim 5.2892(5.4308) | Xent 1.9126(1.9554) | Loss 16.0934(14.1473) | Error 0.6532(0.6765) Steps 508(493.36) | Grad Norm 29.9340(32.1784) | Total Time 0.00(0.00)\n",
      "Iter 0386 | Time 52.1413(45.8217) | Bit/dim 5.2768(5.4262) | Xent 1.9213(1.9543) | Loss 13.3697(14.1240) | Error 0.6644(0.6761) Steps 508(493.80) | Grad Norm 28.3423(32.0633) | Total Time 0.00(0.00)\n",
      "Iter 0387 | Time 52.1605(46.0118) | Bit/dim 5.2770(5.4217) | Xent 1.9112(1.9530) | Loss 13.2409(14.0975) | Error 0.6544(0.6755) Steps 538(495.12) | Grad Norm 20.3265(31.7112) | Total Time 0.00(0.00)\n",
      "Iter 0388 | Time 48.1079(46.0747) | Bit/dim 5.2641(5.4170) | Xent 1.9114(1.9518) | Loss 13.2838(14.0731) | Error 0.6560(0.6749) Steps 496(495.15) | Grad Norm 16.9538(31.2685) | Total Time 0.00(0.00)\n",
      "Iter 0389 | Time 51.7636(46.2454) | Bit/dim 5.2585(5.4122) | Xent 1.9233(1.9509) | Loss 12.9707(14.0400) | Error 0.6649(0.6746) Steps 490(494.99) | Grad Norm 27.6194(31.1590) | Total Time 0.00(0.00)\n",
      "Iter 0390 | Time 51.2176(46.3946) | Bit/dim 5.2595(5.4076) | Xent 1.9151(1.9499) | Loss 12.9639(14.0077) | Error 0.6524(0.6739) Steps 490(494.84) | Grad Norm 17.7170(30.7558) | Total Time 0.00(0.00)\n",
      "validating...\n",
      "Epoch 0065 | Time 21.2577, Epoch Time 342.6282(301.2503), Bit/dim 5.2661(best: 5.2800), Xent 1.9011, Loss 6.2167, Error 0.6386(best: 0.6390)\n",
      "===> Using batch size 8000. Total 6 iterations/epoch.\n"
     ]
    },
    {
     "name": "stdout",
     "output_type": "stream",
     "text": [
      "26.107784431137723\n",
      "26.107784431137723\n",
      "26.107784431137723\n",
      "26.107784431137723\n",
      "26.107784431137723\n",
      "26.107784431137723\n",
      "26.107784431137723\n",
      "26.107784431137723\n",
      "26.107784431137723\n",
      "26.107784431137723\n",
      "26.107784431137723\n",
      "26.107784431137723\n",
      "26.107784431137723\n",
      "26.107784431137723\n"
     ]
    },
    {
     "name": "stderr",
     "output_type": "stream",
     "text": [
      "Iter 0391 | Time 57.1951(46.7186) | Bit/dim 5.2838(5.4039) | Xent 1.9166(1.9489) | Loss 16.5504(14.0840) | Error 0.6593(0.6735) Steps 562(496.86) | Grad Norm 23.4461(30.5365) | Total Time 0.00(0.00)\n",
      "Iter 0392 | Time 51.4765(46.8613) | Bit/dim 5.2615(5.3996) | Xent 1.8966(1.9473) | Loss 13.4133(14.0639) | Error 0.6525(0.6729) Steps 526(497.73) | Grad Norm 22.2697(30.2885) | Total Time 0.00(0.00)\n",
      "Iter 0393 | Time 53.3675(47.0565) | Bit/dim 5.2522(5.3952) | Xent 1.9190(1.9465) | Loss 13.4262(14.0448) | Error 0.6714(0.6728) Steps 520(498.40) | Grad Norm 33.1753(30.3751) | Total Time 0.00(0.00)\n",
      "Iter 0394 | Time 48.1462(47.0892) | Bit/dim 5.2488(5.3908) | Xent 1.9124(1.9454) | Loss 13.1483(14.0179) | Error 0.6567(0.6723) Steps 502(498.51) | Grad Norm 25.9598(30.2426) | Total Time 0.00(0.00)\n",
      "Iter 0395 | Time 53.9023(47.2936) | Bit/dim 5.2303(5.3860) | Xent 1.8981(1.9440) | Loss 13.1077(13.9906) | Error 0.6502(0.6717) Steps 538(499.69) | Grad Norm 21.0845(29.9679) | Total Time 0.00(0.00)\n",
      "Iter 0396 | Time 50.2588(47.3825) | Bit/dim 5.2281(5.3813) | Xent 1.8946(1.9425) | Loss 13.1550(13.9655) | Error 0.6505(0.6710) Steps 514(500.12) | Grad Norm 19.7731(29.6620) | Total Time 0.00(0.00)\n",
      "validating...\n",
      "Epoch 0066 | Time 20.4293, Epoch Time 350.1885(302.7184), Bit/dim 5.2249(best: 5.2661), Xent 1.9181, Loss 6.1839, Error 0.6759(best: 0.6386)\n",
      "===> Using batch size 8000. Total 6 iterations/epoch.\n"
     ]
    },
    {
     "name": "stdout",
     "output_type": "stream",
     "text": [
      "26.047904191616766\n",
      "26.047904191616766\n",
      "26.047904191616766\n",
      "26.047904191616766\n",
      "26.047904191616766\n",
      "26.047904191616766\n",
      "26.047904191616766\n",
      "26.047904191616766\n",
      "26.047904191616766\n",
      "26.047904191616766\n",
      "26.047904191616766\n",
      "26.047904191616766\n",
      "26.047904191616766\n",
      "26.047904191616766\n"
     ]
    },
    {
     "name": "stderr",
     "output_type": "stream",
     "text": [
      "Iter 0397 | Time 55.0436(47.6124) | Bit/dim 5.2185(5.3764) | Xent 1.9400(1.9424) | Loss 15.8557(14.0222) | Error 0.6858(0.6715) Steps 538(501.26) | Grad Norm 31.8363(29.7273) | Total Time 0.00(0.00)\n",
      "Iter 0398 | Time 50.5073(47.6992) | Bit/dim 5.2465(5.3725) | Xent 1.8933(1.9410) | Loss 13.5654(14.0085) | Error 0.6476(0.6708) Steps 520(501.82) | Grad Norm 24.8769(29.5818) | Total Time 0.00(0.00)\n",
      "Iter 0399 | Time 49.3451(47.7486) | Bit/dim 5.2040(5.3674) | Xent 1.9164(1.9402) | Loss 13.3750(13.9895) | Error 0.6627(0.6705) Steps 514(502.19) | Grad Norm 22.3600(29.3651) | Total Time 0.00(0.00)\n",
      "Iter 0400 | Time 52.9688(47.9052) | Bit/dim 5.2235(5.3631) | Xent 1.8944(1.9389) | Loss 13.3833(13.9713) | Error 0.6589(0.6702) Steps 490(501.82) | Grad Norm 19.4234(29.0669) | Total Time 0.00(0.00)\n",
      "Iter 0401 | Time 54.9603(48.1169) | Bit/dim 5.2057(5.3584) | Xent 1.8886(1.9374) | Loss 12.9239(13.9399) | Error 0.6583(0.6698) Steps 538(502.91) | Grad Norm 21.3368(28.8350) | Total Time 0.00(0.00)\n",
      "Iter 0402 | Time 52.0370(48.2345) | Bit/dim 5.1958(5.3535) | Xent 1.9436(1.9375) | Loss 13.3627(13.9226) | Error 0.6821(0.6702) Steps 502(502.88) | Grad Norm 28.0855(28.8125) | Total Time 0.00(0.00)\n",
      "validating...\n",
      "Epoch 0067 | Time 21.0323, Epoch Time 351.7391(304.1891), Bit/dim 5.1892(best: 5.2249), Xent 1.8799, Loss 6.1292, Error 0.6327(best: 0.6386)\n",
      "===> Using batch size 8000. Total 6 iterations/epoch.\n"
     ]
    },
    {
     "name": "stdout",
     "output_type": "stream",
     "text": [
      "25.98802395209581\n",
      "25.98802395209581\n",
      "25.98802395209581\n",
      "25.98802395209581\n",
      "25.98802395209581\n",
      "25.98802395209581\n",
      "25.98802395209581\n",
      "25.98802395209581\n",
      "25.98802395209581\n",
      "25.98802395209581\n",
      "25.98802395209581\n",
      "25.98802395209581\n",
      "25.98802395209581\n",
      "25.98802395209581\n"
     ]
    },
    {
     "name": "stderr",
     "output_type": "stream",
     "text": [
      "Iter 0403 | Time 47.0105(48.1977) | Bit/dim 5.1731(5.3481) | Xent 1.8813(1.9359) | Loss 16.1748(13.9901) | Error 0.6524(0.6696) Steps 478(502.13) | Grad Norm 16.1537(28.4327) | Total Time 0.00(0.00)\n",
      "Iter 0404 | Time 50.2812(48.2602) | Bit/dim 5.2105(5.3440) | Xent 1.9623(1.9366) | Loss 13.4018(13.9725) | Error 0.6932(0.6704) Steps 544(503.39) | Grad Norm 38.4903(28.7344) | Total Time 0.00(0.00)\n",
      "Iter 0405 | Time 58.4387(48.5656) | Bit/dim 5.1922(5.3394) | Xent 1.9298(1.9364) | Loss 13.4175(13.9558) | Error 0.6809(0.6707) Steps 514(503.71) | Grad Norm 27.6581(28.7021) | Total Time 0.00(0.00)\n",
      "Iter 0406 | Time 55.6962(48.7795) | Bit/dim 5.1984(5.3352) | Xent 1.9386(1.9365) | Loss 12.9783(13.9265) | Error 0.6696(0.6706) Steps 514(504.02) | Grad Norm 26.2398(28.6283) | Total Time 0.00(0.00)\n",
      "Iter 0407 | Time 47.9428(48.7544) | Bit/dim 5.1836(5.3306) | Xent 1.9610(1.9372) | Loss 13.2879(13.9074) | Error 0.6830(0.6710) Steps 520(504.50) | Grad Norm 26.3336(28.5594) | Total Time 0.00(0.00)\n",
      "Iter 0408 | Time 56.9903(49.0015) | Bit/dim 5.1720(5.3259) | Xent 1.8861(1.9357) | Loss 13.1702(13.8852) | Error 0.6565(0.6706) Steps 490(504.06) | Grad Norm 11.7296(28.0545) | Total Time 0.00(0.00)\n",
      "validating...\n",
      "Epoch 0068 | Time 21.2417, Epoch Time 353.2912(305.6621), Bit/dim 5.1740(best: 5.1892), Xent 1.9027, Loss 6.1254, Error 0.6641(best: 0.6327)\n",
      "===> Using batch size 8000. Total 6 iterations/epoch.\n"
     ]
    },
    {
     "name": "stdout",
     "output_type": "stream",
     "text": [
      "25.92814371257485\n",
      "25.92814371257485\n",
      "25.92814371257485\n",
      "25.92814371257485\n",
      "25.92814371257485\n",
      "25.92814371257485\n",
      "25.92814371257485\n",
      "25.92814371257485\n",
      "25.92814371257485\n",
      "25.92814371257485\n",
      "25.92814371257485\n",
      "25.92814371257485\n",
      "25.92814371257485\n",
      "25.92814371257485\n"
     ]
    },
    {
     "name": "stderr",
     "output_type": "stream",
     "text": [
      "Iter 0409 | Time 49.7390(49.0236) | Bit/dim 5.1923(5.3219) | Xent 1.9166(1.9351) | Loss 15.7985(13.9426) | Error 0.6649(0.6704) Steps 508(504.18) | Grad Norm 22.6075(27.8911) | Total Time 0.00(0.00)\n",
      "Iter 0410 | Time 49.7762(49.0462) | Bit/dim 5.1527(5.3168) | Xent 1.8756(1.9334) | Loss 13.1871(13.9200) | Error 0.6389(0.6695) Steps 514(504.47) | Grad Norm 14.2197(27.4810) | Total Time 0.00(0.00)\n",
      "Iter 0411 | Time 53.8573(49.1905) | Bit/dim 5.1714(5.3124) | Xent 1.9071(1.9326) | Loss 13.1911(13.8981) | Error 0.6566(0.6691) Steps 496(504.22) | Grad Norm 22.3954(27.3284) | Total Time 0.00(0.00)\n",
      "Iter 0412 | Time 57.8028(49.4489) | Bit/dim 5.1492(5.3075) | Xent 1.8820(1.9310) | Loss 13.1781(13.8765) | Error 0.6564(0.6687) Steps 514(504.51) | Grad Norm 4.5104(26.6439) | Total Time 0.00(0.00)\n",
      "Iter 0413 | Time 48.3154(49.4149) | Bit/dim 5.1676(5.3033) | Xent 1.9037(1.9302) | Loss 12.8255(13.8450) | Error 0.6655(0.6686) Steps 502(504.44) | Grad Norm 15.3763(26.3058) | Total Time 0.00(0.00)\n",
      "Iter 0414 | Time 53.6489(49.5419) | Bit/dim 5.1368(5.2983) | Xent 1.8897(1.9290) | Loss 13.3427(13.8299) | Error 0.6531(0.6681) Steps 544(505.62) | Grad Norm 8.7043(25.7778) | Total Time 0.00(0.00)\n",
      "validating...\n",
      "Epoch 0069 | Time 21.5827, Epoch Time 350.3091(307.0015), Bit/dim 5.1415(best: 5.1740), Xent 1.8691, Loss 6.0761, Error 0.6322(best: 0.6327)\n",
      "===> Using batch size 8000. Total 6 iterations/epoch.\n"
     ]
    },
    {
     "name": "stdout",
     "output_type": "stream",
     "text": [
      "25.868263473053894\n",
      "25.868263473053894\n",
      "25.868263473053894\n",
      "25.868263473053894\n",
      "25.868263473053894\n",
      "25.868263473053894\n",
      "25.868263473053894\n",
      "25.868263473053894\n",
      "25.868263473053894\n",
      "25.868263473053894\n",
      "25.868263473053894\n",
      "25.868263473053894\n",
      "25.868263473053894\n",
      "25.868263473053894\n"
     ]
    },
    {
     "name": "stderr",
     "output_type": "stream",
     "text": [
      "Iter 0415 | Time 51.6385(49.6048) | Bit/dim 5.1383(5.2935) | Xent 1.8681(1.9272) | Loss 15.9543(13.8936) | Error 0.6510(0.6676) Steps 514(505.88) | Grad Norm 10.8928(25.3313) | Total Time 0.00(0.00)\n",
      "Iter 0416 | Time 55.9918(49.7964) | Bit/dim 5.1438(5.2891) | Xent 1.9236(1.9271) | Loss 13.3027(13.8759) | Error 0.6698(0.6677) Steps 502(505.76) | Grad Norm 10.6603(24.8911) | Total Time 0.00(0.00)\n",
      "Iter 0417 | Time 55.4232(49.9652) | Bit/dim 5.1321(5.2843) | Xent 1.8734(1.9255) | Loss 13.1975(13.8556) | Error 0.6419(0.6669) Steps 496(505.47) | Grad Norm 4.3678(24.2754) | Total Time 0.00(0.00)\n",
      "Iter 0418 | Time 55.2284(50.1231) | Bit/dim 5.1304(5.2797) | Xent 1.8788(1.9241) | Loss 13.2043(13.8360) | Error 0.6539(0.6665) Steps 502(505.36) | Grad Norm 13.5841(23.9547) | Total Time 0.00(0.00)\n",
      "Iter 0419 | Time 54.3711(50.2506) | Bit/dim 5.1242(5.2751) | Xent 1.8667(1.9223) | Loss 13.3302(13.8208) | Error 0.6369(0.6656) Steps 526(505.98) | Grad Norm 13.5337(23.6421) | Total Time 0.00(0.00)\n",
      "Iter 0420 | Time 57.6024(50.4711) | Bit/dim 5.1150(5.2703) | Xent 1.8831(1.9212) | Loss 13.2774(13.8045) | Error 0.6490(0.6651) Steps 556(507.48) | Grad Norm 15.8426(23.4081) | Total Time 0.00(0.00)\n",
      "validating...\n",
      "Epoch 0070 | Time 21.3616, Epoch Time 367.3997(308.8135), Bit/dim 5.1017(best: 5.1415), Xent 1.8582, Loss 6.0308, Error 0.6232(best: 0.6322)\n",
      "===> Using batch size 8000. Total 6 iterations/epoch.\n"
     ]
    },
    {
     "name": "stdout",
     "output_type": "stream",
     "text": [
      "25.808383233532933\n",
      "25.808383233532933\n",
      "25.808383233532933\n",
      "25.808383233532933\n",
      "25.808383233532933\n",
      "25.808383233532933\n",
      "25.808383233532933\n",
      "25.808383233532933\n",
      "25.808383233532933\n",
      "25.808383233532933\n",
      "25.808383233532933\n",
      "25.808383233532933\n",
      "25.808383233532933\n",
      "25.808383233532933\n"
     ]
    },
    {
     "name": "stderr",
     "output_type": "stream",
     "text": [
      "Iter 0421 | Time 54.3069(50.5862) | Bit/dim 5.1093(5.2654) | Xent 1.8835(1.9200) | Loss 15.8966(13.8673) | Error 0.6555(0.6648) Steps 508(507.50) | Grad Norm 8.9771(22.9751) | Total Time 0.00(0.00)\n",
      "Iter 0422 | Time 54.3594(50.6994) | Bit/dim 5.1135(5.2609) | Xent 1.8888(1.9191) | Loss 12.8531(13.8369) | Error 0.6509(0.6644) Steps 532(508.23) | Grad Norm 6.6120(22.4842) | Total Time 0.00(0.00)\n",
      "Iter 0423 | Time 56.0575(50.8601) | Bit/dim 5.0882(5.2557) | Xent 1.8421(1.9168) | Loss 13.0371(13.8129) | Error 0.6345(0.6635) Steps 550(509.49) | Grad Norm 8.9440(22.0780) | Total Time 0.00(0.00)\n",
      "Iter 0424 | Time 51.9976(50.8943) | Bit/dim 5.0939(5.2508) | Xent 1.8740(1.9155) | Loss 12.8696(13.7846) | Error 0.6456(0.6630) Steps 502(509.26) | Grad Norm 6.1875(21.6013) | Total Time 0.00(0.00)\n",
      "Iter 0425 | Time 58.1942(51.1133) | Bit/dim 5.0772(5.2456) | Xent 1.8717(1.9142) | Loss 13.0408(13.7623) | Error 0.6409(0.6623) Steps 526(509.76) | Grad Norm 8.6081(21.2115) | Total Time 0.00(0.00)\n",
      "Iter 0426 | Time 54.3343(51.2099) | Bit/dim 5.0866(5.2409) | Xent 1.8591(1.9125) | Loss 12.8610(13.7352) | Error 0.6415(0.6617) Steps 514(509.89) | Grad Norm 3.9011(20.6922) | Total Time 0.00(0.00)\n",
      "validating...\n",
      "Epoch 0071 | Time 21.8987, Epoch Time 366.6709(310.5492), Bit/dim 5.0832(best: 5.1017), Xent 1.8424, Loss 6.0044, Error 0.6279(best: 0.6232)\n",
      "===> Using batch size 8000. Total 6 iterations/epoch.\n"
     ]
    },
    {
     "name": "stdout",
     "output_type": "stream",
     "text": [
      "25.74850299401198\n",
      "25.74850299401198\n",
      "25.74850299401198\n",
      "25.74850299401198\n",
      "25.74850299401198\n",
      "25.74850299401198\n",
      "25.74850299401198\n",
      "25.74850299401198\n",
      "25.74850299401198\n",
      "25.74850299401198\n",
      "25.74850299401198\n",
      "25.74850299401198\n",
      "25.74850299401198\n",
      "25.74850299401198\n"
     ]
    },
    {
     "name": "stderr",
     "output_type": "stream",
     "text": [
      "Iter 0427 | Time 56.6442(51.3729) | Bit/dim 5.0909(5.2364) | Xent 1.8559(1.9108) | Loss 15.9373(13.8013) | Error 0.6400(0.6610) Steps 496(509.47) | Grad Norm 12.2321(20.4384) | Total Time 0.00(0.00)\n",
      "Iter 0428 | Time 50.9829(51.3612) | Bit/dim 5.0852(5.2318) | Xent 1.8642(1.9094) | Loss 12.8041(13.7714) | Error 0.6460(0.6606) Steps 526(509.97) | Grad Norm 17.2934(20.3441) | Total Time 0.00(0.00)\n",
      "Iter 0429 | Time 53.0981(51.4133) | Bit/dim 5.0926(5.2276) | Xent 1.9042(1.9093) | Loss 13.1763(13.7535) | Error 0.6581(0.6605) Steps 550(511.17) | Grad Norm 32.2255(20.7005) | Total Time 0.00(0.00)\n",
      "Iter 0430 | Time 52.8504(51.4564) | Bit/dim 5.0830(5.2233) | Xent 1.8537(1.9076) | Loss 12.9026(13.7280) | Error 0.6367(0.6598) Steps 532(511.80) | Grad Norm 8.1974(20.3254) | Total Time 0.00(0.00)\n",
      "Iter 0431 | Time 55.2512(51.5703) | Bit/dim 5.0589(5.2184) | Xent 1.8843(1.9069) | Loss 12.7502(13.6987) | Error 0.6669(0.6600) Steps 556(513.12) | Grad Norm 29.0131(20.5860) | Total Time 0.00(0.00)\n",
      "Iter 0432 | Time 53.6552(51.6328) | Bit/dim 5.0696(5.2139) | Xent 1.9436(1.9080) | Loss 12.9876(13.6773) | Error 0.6887(0.6609) Steps 490(512.43) | Grad Norm 41.0812(21.2009) | Total Time 0.00(0.00)\n",
      "validating...\n",
      "Epoch 0072 | Time 21.3617, Epoch Time 359.6977(312.0237), Bit/dim 5.0470(best: 5.0832), Xent 1.8447, Loss 5.9693, Error 0.6241(best: 0.6232)\n",
      "===> Using batch size 8000. Total 6 iterations/epoch.\n"
     ]
    },
    {
     "name": "stdout",
     "output_type": "stream",
     "text": [
      "25.688622754491018\n",
      "25.688622754491018\n",
      "25.688622754491018\n",
      "25.688622754491018\n",
      "25.688622754491018\n",
      "25.688622754491018\n",
      "25.688622754491018\n",
      "25.688622754491018\n",
      "25.688622754491018\n",
      "25.688622754491018\n",
      "25.688622754491018\n",
      "25.688622754491018\n",
      "25.688622754491018\n",
      "25.688622754491018\n"
     ]
    },
    {
     "name": "stderr",
     "output_type": "stream",
     "text": [
      "Iter 0433 | Time 55.3566(51.7445) | Bit/dim 5.0549(5.2091) | Xent 1.8573(1.9065) | Loss 15.9710(13.7461) | Error 0.6435(0.6604) Steps 532(513.02) | Grad Norm 15.5013(21.0299) | Total Time 0.00(0.00)\n",
      "Iter 0434 | Time 56.6921(51.8930) | Bit/dim 5.1425(5.2071) | Xent 2.1432(1.9136) | Loss 13.4487(13.7372) | Error 0.7285(0.6624) Steps 538(513.76) | Grad Norm 98.7777(23.3623) | Total Time 0.00(0.00)\n",
      "Iter 0435 | Time 50.8322(51.8611) | Bit/dim 5.1172(5.2044) | Xent 2.1521(1.9208) | Loss 13.3332(13.7251) | Error 0.7400(0.6647) Steps 520(513.95) | Grad Norm 73.9108(24.8788) | Total Time 0.00(0.00)\n",
      "Iter 0436 | Time 57.0528(52.0169) | Bit/dim 5.1051(5.2015) | Xent 1.9256(1.9209) | Loss 13.1731(13.7085) | Error 0.6729(0.6650) Steps 502(513.59) | Grad Norm 27.3656(24.9534) | Total Time 0.00(0.00)\n",
      "Iter 0437 | Time 53.5247(52.0621) | Bit/dim 5.0777(5.1978) | Xent 1.9126(1.9206) | Loss 12.9671(13.6863) | Error 0.6706(0.6651) Steps 538(514.33) | Grad Norm 32.2875(25.1734) | Total Time 0.00(0.00)\n",
      "Iter 0438 | Time 51.6542(52.0499) | Bit/dim 5.0874(5.1944) | Xent 1.9251(1.9208) | Loss 13.0177(13.6662) | Error 0.6750(0.6654) Steps 472(513.06) | Grad Norm 26.4507(25.2117) | Total Time 0.00(0.00)\n",
      "validating...\n",
      "Epoch 0073 | Time 21.3477, Epoch Time 363.5703(313.5701), Bit/dim 5.0717(best: 5.0470), Xent 1.8872, Loss 6.0154, Error 0.6609(best: 0.6232)\n",
      "===> Using batch size 8000. Total 6 iterations/epoch.\n"
     ]
    },
    {
     "name": "stdout",
     "output_type": "stream",
     "text": [
      "25.62874251497006\n",
      "25.62874251497006\n",
      "25.62874251497006\n",
      "25.62874251497006\n",
      "25.62874251497006\n",
      "25.62874251497006\n",
      "25.62874251497006\n",
      "25.62874251497006\n",
      "25.62874251497006\n",
      "25.62874251497006\n",
      "25.62874251497006\n",
      "25.62874251497006\n",
      "25.62874251497006\n",
      "25.62874251497006\n"
     ]
    },
    {
     "name": "stderr",
     "output_type": "stream",
     "text": [
      "Iter 0439 | Time 54.7177(52.1299) | Bit/dim 5.0782(5.1910) | Xent 1.9120(1.9205) | Loss 15.7624(13.7291) | Error 0.6695(0.6656) Steps 508(512.90) | Grad Norm 44.4232(25.7881) | Total Time 0.00(0.00)\n",
      "Iter 0440 | Time 56.1287(52.2499) | Bit/dim 5.0396(5.1864) | Xent 1.8629(1.9188) | Loss 12.9546(13.7059) | Error 0.6522(0.6652) Steps 508(512.76) | Grad Norm 13.7103(25.4258) | Total Time 0.00(0.00)\n",
      "Iter 0441 | Time 52.5762(52.2597) | Bit/dim 5.0598(5.1826) | Xent 1.9479(1.9197) | Loss 12.9150(13.6822) | Error 0.6885(0.6659) Steps 550(513.87) | Grad Norm 37.2745(25.7812) | Total Time 0.00(0.00)\n",
      "Iter 0442 | Time 51.2777(52.2302) | Bit/dim 5.0510(5.1787) | Xent 1.8849(1.9186) | Loss 12.9169(13.6592) | Error 0.6604(0.6657) Steps 496(513.34) | Grad Norm 26.0819(25.7902) | Total Time 0.00(0.00)\n",
      "Iter 0443 | Time 52.6616(52.2432) | Bit/dim 5.0479(5.1747) | Xent 1.9327(1.9190) | Loss 12.8327(13.6344) | Error 0.6855(0.6663) Steps 496(512.82) | Grad Norm 38.2459(26.1639) | Total Time 0.00(0.00)\n",
      "Iter 0444 | Time 56.3199(52.3655) | Bit/dim 5.0293(5.1704) | Xent 1.9370(1.9196) | Loss 12.9888(13.6150) | Error 0.6751(0.6666) Steps 496(512.31) | Grad Norm 40.5154(26.5945) | Total Time 0.00(0.00)\n",
      "validating...\n",
      "Epoch 0074 | Time 21.0963, Epoch Time 362.4133(315.0354), Bit/dim 5.0257(best: 5.0470), Xent 1.8653, Loss 5.9584, Error 0.6426(best: 0.6232)\n",
      "===> Using batch size 8000. Total 6 iterations/epoch.\n"
     ]
    },
    {
     "name": "stdout",
     "output_type": "stream",
     "text": [
      "25.568862275449103\n",
      "25.568862275449103\n",
      "25.568862275449103\n",
      "25.568862275449103\n",
      "25.568862275449103\n",
      "25.568862275449103\n",
      "25.568862275449103\n",
      "25.568862275449103\n",
      "25.568862275449103\n",
      "25.568862275449103\n",
      "25.568862275449103\n",
      "25.568862275449103\n",
      "25.568862275449103\n",
      "25.568862275449103\n"
     ]
    },
    {
     "name": "stderr",
     "output_type": "stream",
     "text": [
      "Iter 0445 | Time 54.6760(52.4348) | Bit/dim 5.0354(5.1663) | Xent 1.9091(1.9193) | Loss 15.4082(13.6688) | Error 0.6633(0.6665) Steps 544(513.26) | Grad Norm 24.2640(26.5245) | Total Time 0.00(0.00)\n",
      "Iter 0446 | Time 52.6567(52.4414) | Bit/dim 5.0376(5.1625) | Xent 1.8768(1.9180) | Loss 12.9292(13.6466) | Error 0.6501(0.6660) Steps 508(513.11) | Grad Norm 26.7601(26.5316) | Total Time 0.00(0.00)\n",
      "Iter 0447 | Time 56.1313(52.5521) | Bit/dim 5.0077(5.1578) | Xent 1.8557(1.9161) | Loss 12.7227(13.6189) | Error 0.6410(0.6652) Steps 532(513.67) | Grad Norm 7.6315(25.9646) | Total Time 0.00(0.00)\n",
      "Iter 0448 | Time 61.9479(52.8340) | Bit/dim 5.0517(5.1546) | Xent 1.8976(1.9156) | Loss 13.1106(13.6037) | Error 0.6664(0.6653) Steps 502(513.32) | Grad Norm 42.5583(26.4624) | Total Time 0.00(0.00)\n",
      "Iter 0449 | Time 57.1715(52.9641) | Bit/dim 5.0048(5.1501) | Xent 1.8783(1.9145) | Loss 12.5885(13.5732) | Error 0.6679(0.6653) Steps 550(514.42) | Grad Norm 18.9950(26.2384) | Total Time 0.00(0.00)\n",
      "Iter 0450 | Time 52.0819(52.9377) | Bit/dim 5.0624(5.1475) | Xent 1.8872(1.9136) | Loss 12.8173(13.5505) | Error 0.6560(0.6651) Steps 520(514.59) | Grad Norm 27.1963(26.2671) | Total Time 0.00(0.00)\n",
      "validating...\n",
      "Epoch 0075 | Time 20.3536, Epoch Time 370.6079(316.7025), Bit/dim 5.0198(best: 5.0257), Xent 1.9110, Loss 5.9753, Error 0.6698(best: 0.6232)\n",
      "===> Using batch size 8000. Total 6 iterations/epoch.\n"
     ]
    },
    {
     "name": "stdout",
     "output_type": "stream",
     "text": [
      "25.508982035928145\n",
      "25.508982035928145\n",
      "25.508982035928145\n",
      "25.508982035928145\n",
      "25.508982035928145\n",
      "25.508982035928145\n",
      "25.508982035928145\n",
      "25.508982035928145\n",
      "25.508982035928145\n",
      "25.508982035928145\n",
      "25.508982035928145\n",
      "25.508982035928145\n",
      "25.508982035928145\n",
      "25.508982035928145\n"
     ]
    },
    {
     "name": "stderr",
     "output_type": "stream",
     "text": [
      "Iter 0451 | Time 54.4978(52.9845) | Bit/dim 5.0191(5.1437) | Xent 1.9398(1.9144) | Loss 15.8938(13.6208) | Error 0.6859(0.6657) Steps 532(515.11) | Grad Norm 25.2286(26.2360) | Total Time 0.00(0.00)\n",
      "Iter 0452 | Time 57.0150(53.1054) | Bit/dim 5.0286(5.1402) | Xent 1.8774(1.9133) | Loss 12.9073(13.5994) | Error 0.6486(0.6652) Steps 502(514.72) | Grad Norm 24.7064(26.1901) | Total Time 0.00(0.00)\n",
      "Iter 0453 | Time 59.2115(53.2886) | Bit/dim 5.0197(5.1366) | Xent 1.9600(1.9147) | Loss 13.0898(13.5841) | Error 0.6894(0.6659) Steps 550(515.78) | Grad Norm 31.1436(26.3387) | Total Time 0.00(0.00)\n",
      "Iter 0454 | Time 53.5791(53.2973) | Bit/dim 4.9930(5.1323) | Xent 1.9085(1.9145) | Loss 12.7402(13.5588) | Error 0.6689(0.6660) Steps 502(515.36) | Grad Norm 24.2039(26.2746) | Total Time 0.00(0.00)\n",
      "Iter 0455 | Time 57.5675(53.4254) | Bit/dim 5.0030(5.1284) | Xent 1.9327(1.9151) | Loss 12.8995(13.5390) | Error 0.6786(0.6664) Steps 550(516.40) | Grad Norm 33.1624(26.4813) | Total Time 0.00(0.00)\n",
      "Iter 0456 | Time 54.9974(53.4725) | Bit/dim 4.9955(5.1244) | Xent 1.9320(1.9156) | Loss 13.0503(13.5244) | Error 0.6885(0.6670) Steps 550(517.41) | Grad Norm 26.5054(26.4820) | Total Time 0.00(0.00)\n",
      "validating...\n",
      "Epoch 0076 | Time 20.8698, Epoch Time 373.5839(318.4090), Bit/dim 5.0131(best: 5.0198), Xent 1.8594, Loss 5.9428, Error 0.6269(best: 0.6232)\n",
      "===> Using batch size 8000. Total 6 iterations/epoch.\n"
     ]
    },
    {
     "name": "stdout",
     "output_type": "stream",
     "text": [
      "25.449101796407184\n",
      "25.449101796407184\n",
      "25.449101796407184\n",
      "25.449101796407184\n",
      "25.449101796407184\n",
      "25.449101796407184\n",
      "25.449101796407184\n",
      "25.449101796407184\n",
      "25.449101796407184\n",
      "25.449101796407184\n",
      "25.449101796407184\n",
      "25.449101796407184\n",
      "25.449101796407184\n",
      "25.449101796407184\n"
     ]
    },
    {
     "name": "stderr",
     "output_type": "stream",
     "text": [
      "Iter 0457 | Time 51.1396(53.4026) | Bit/dim 5.0174(5.1212) | Xent 1.8940(1.9149) | Loss 15.6872(13.5893) | Error 0.6556(0.6667) Steps 544(518.21) | Grad Norm 24.0733(26.4097) | Total Time 0.00(0.00)\n",
      "Iter 0458 | Time 56.6983(53.5014) | Bit/dim 4.9951(5.1174) | Xent 1.8707(1.9136) | Loss 12.8625(13.5675) | Error 0.6514(0.6662) Steps 538(518.80) | Grad Norm 15.6061(26.0856) | Total Time 0.00(0.00)\n",
      "Iter 0459 | Time 59.4363(53.6795) | Bit/dim 4.9937(5.1137) | Xent 1.8689(1.9123) | Loss 12.8366(13.5455) | Error 0.6454(0.6656) Steps 484(517.76) | Grad Norm 30.8126(26.2274) | Total Time 0.00(0.00)\n",
      "Iter 0460 | Time 54.9580(53.7178) | Bit/dim 4.9726(5.1095) | Xent 1.8591(1.9107) | Loss 12.6985(13.5201) | Error 0.6396(0.6648) Steps 514(517.65) | Grad Norm 6.4924(25.6354) | Total Time 0.00(0.00)\n",
      "Iter 0461 | Time 51.1659(53.6413) | Bit/dim 4.9769(5.1055) | Xent 1.8693(1.9094) | Loss 12.7414(13.4968) | Error 0.6375(0.6640) Steps 526(517.90) | Grad Norm 17.5104(25.3916) | Total Time 0.00(0.00)\n",
      "Iter 0462 | Time 56.9712(53.7412) | Bit/dim 4.9622(5.1012) | Xent 1.8771(1.9085) | Loss 12.8217(13.4765) | Error 0.6551(0.6637) Steps 526(518.14) | Grad Norm 21.3574(25.2706) | Total Time 0.00(0.00)\n",
      "validating...\n",
      "Epoch 0077 | Time 21.2028, Epoch Time 367.2283(319.8736), Bit/dim 4.9560(best: 5.0131), Xent 1.8322, Loss 5.8721, Error 0.6264(best: 0.6232)\n",
      "===> Using batch size 8000. Total 6 iterations/epoch.\n"
     ]
    },
    {
     "name": "stdout",
     "output_type": "stream",
     "text": [
      "25.389221556886227\n",
      "25.389221556886227\n",
      "25.389221556886227\n",
      "25.389221556886227\n",
      "25.389221556886227\n",
      "25.389221556886227\n",
      "25.389221556886227\n",
      "25.389221556886227\n",
      "25.389221556886227\n",
      "25.389221556886227\n",
      "25.389221556886227\n",
      "25.389221556886227\n",
      "25.389221556886227\n",
      "25.389221556886227\n"
     ]
    },
    {
     "name": "stderr",
     "output_type": "stream",
     "text": [
      "Iter 0463 | Time 51.0299(53.6598) | Bit/dim 4.9657(5.0971) | Xent 1.8423(1.9065) | Loss 15.5594(13.5390) | Error 0.6362(0.6629) Steps 514(518.02) | Grad Norm 9.2589(24.7903) | Total Time 0.00(0.00)\n",
      "Iter 0464 | Time 50.0084(53.5503) | Bit/dim 4.9495(5.0927) | Xent 1.8689(1.9053) | Loss 12.6757(13.5131) | Error 0.6496(0.6625) Steps 520(518.07) | Grad Norm 16.4578(24.5403) | Total Time 0.00(0.00)\n",
      "Iter 0465 | Time 56.9000(53.6508) | Bit/dim 4.9529(5.0885) | Xent 1.8567(1.9039) | Loss 12.4210(13.4803) | Error 0.6395(0.6618) Steps 490(517.23) | Grad Norm 19.6192(24.3927) | Total Time 0.00(0.00)\n",
      "Iter 0466 | Time 53.2890(53.6399) | Bit/dim 4.9597(5.0847) | Xent 1.8595(1.9026) | Loss 12.8755(13.4622) | Error 0.6499(0.6615) Steps 520(517.32) | Grad Norm 16.2905(24.1496) | Total Time 0.00(0.00)\n",
      "Iter 0467 | Time 53.0979(53.6237) | Bit/dim 4.9379(5.0803) | Xent 1.8320(1.9004) | Loss 12.5176(13.4339) | Error 0.6361(0.6607) Steps 484(516.32) | Grad Norm 3.1816(23.5205) | Total Time 0.00(0.00)\n",
      "Iter 0468 | Time 54.5436(53.6513) | Bit/dim 4.9319(5.0758) | Xent 1.8645(1.8994) | Loss 12.6756(13.4111) | Error 0.6460(0.6603) Steps 484(515.35) | Grad Norm 18.9710(23.3841) | Total Time 0.00(0.00)\n",
      "validating...\n",
      "Epoch 0078 | Time 21.6235, Epoch Time 356.5249(320.9731), Bit/dim 4.9531(best: 4.9560), Xent 1.8321, Loss 5.8691, Error 0.6198(best: 0.6232)\n",
      "===> Using batch size 8000. Total 6 iterations/epoch.\n"
     ]
    },
    {
     "name": "stdout",
     "output_type": "stream",
     "text": [
      "25.32934131736527\n",
      "25.32934131736527\n",
      "25.32934131736527\n",
      "25.32934131736527\n",
      "25.32934131736527\n",
      "25.32934131736527\n",
      "25.32934131736527\n",
      "25.32934131736527\n",
      "25.32934131736527\n",
      "25.32934131736527\n",
      "25.32934131736527\n",
      "25.32934131736527\n",
      "25.32934131736527\n",
      "25.32934131736527\n"
     ]
    },
    {
     "name": "stderr",
     "output_type": "stream",
     "text": [
      "Iter 0469 | Time 54.7282(53.6836) | Bit/dim 4.9598(5.0723) | Xent 1.8618(1.8982) | Loss 15.7478(13.4812) | Error 0.6462(0.6598) Steps 568(516.93) | Grad Norm 25.0464(23.4339) | Total Time 0.00(0.00)\n",
      "Iter 0470 | Time 52.9603(53.6619) | Bit/dim 4.9126(5.0675) | Xent 1.8458(1.8967) | Loss 12.8770(13.4631) | Error 0.6442(0.6594) Steps 520(517.02) | Grad Norm 9.8954(23.0278) | Total Time 0.00(0.00)\n",
      "Iter 0471 | Time 55.1499(53.7065) | Bit/dim 4.9402(5.0637) | Xent 1.8618(1.8956) | Loss 12.5376(13.4353) | Error 0.6623(0.6595) Steps 538(517.65) | Grad Norm 30.4109(23.2493) | Total Time 0.00(0.00)\n",
      "Iter 0472 | Time 56.0421(53.7766) | Bit/dim 4.9377(5.0599) | Xent 1.8329(1.8937) | Loss 12.6156(13.4107) | Error 0.6447(0.6590) Steps 562(518.98) | Grad Norm 20.9689(23.1809) | Total Time 0.00(0.00)\n",
      "Iter 0473 | Time 56.7281(53.8651) | Bit/dim 4.9204(5.0557) | Xent 1.8284(1.8918) | Loss 12.6996(13.3894) | Error 0.6392(0.6584) Steps 526(519.19) | Grad Norm 14.2063(22.9116) | Total Time 0.00(0.00)\n",
      "Iter 0474 | Time 50.4660(53.7632) | Bit/dim 4.9005(5.0511) | Xent 1.8126(1.8894) | Loss 12.2214(13.3544) | Error 0.6316(0.6576) Steps 508(518.85) | Grad Norm 5.2923(22.3830) | Total Time 0.00(0.00)\n",
      "validating...\n",
      "Epoch 0079 | Time 22.4240, Epoch Time 373.4388(322.5471), Bit/dim 4.9117(best: 4.9531), Xent 1.7900, Loss 5.8066, Error 0.6176(best: 0.6198)\n",
      "===> Using batch size 8000. Total 6 iterations/epoch.\n"
     ]
    },
    {
     "name": "stdout",
     "output_type": "stream",
     "text": [
      "25.269461077844312\n",
      "25.269461077844312\n",
      "25.269461077844312\n",
      "25.269461077844312\n",
      "25.269461077844312\n",
      "25.269461077844312\n",
      "25.269461077844312\n",
      "25.269461077844312\n",
      "25.269461077844312\n",
      "25.269461077844312\n",
      "25.269461077844312\n",
      "25.269461077844312\n",
      "25.269461077844312\n",
      "25.269461077844312\n"
     ]
    },
    {
     "name": "stderr",
     "output_type": "stream",
     "text": [
      "Iter 0475 | Time 57.0631(53.8621) | Bit/dim 4.9088(5.0468) | Xent 1.8215(1.8874) | Loss 15.0888(13.4064) | Error 0.6215(0.6565) Steps 550(519.79) | Grad Norm 13.4932(22.1163) | Total Time 0.00(0.00)\n",
      "Iter 0476 | Time 61.1200(54.0799) | Bit/dim 4.8869(5.0420) | Xent 1.8238(1.8855) | Loss 12.6126(13.3826) | Error 0.6380(0.6560) Steps 562(521.05) | Grad Norm 17.8198(21.9874) | Total Time 0.00(0.00)\n",
      "Iter 0477 | Time 52.4147(54.0299) | Bit/dim 4.9060(5.0379) | Xent 1.8062(1.8831) | Loss 12.2609(13.3489) | Error 0.6280(0.6551) Steps 514(520.84) | Grad Norm 19.2673(21.9058) | Total Time 0.00(0.00)\n",
      "Iter 0478 | Time 58.6375(54.1682) | Bit/dim 4.9417(5.0351) | Xent 1.8219(1.8812) | Loss 12.4869(13.3231) | Error 0.6322(0.6545) Steps 526(521.00) | Grad Norm 41.4971(22.4936) | Total Time 0.00(0.00)\n",
      "Iter 0479 | Time 59.2039(54.3192) | Bit/dim 4.9011(5.0310) | Xent 1.7909(1.8785) | Loss 12.7263(13.3052) | Error 0.6184(0.6534) Steps 496(520.25) | Grad Norm 2.9709(21.9079) | Total Time 0.00(0.00)\n",
      "Iter 0480 | Time 50.8164(54.2141) | Bit/dim 4.9201(5.0277) | Xent 1.8071(1.8764) | Loss 12.5186(13.2816) | Error 0.6374(0.6529) Steps 526(520.42) | Grad Norm 27.0691(22.0627) | Total Time 0.00(0.00)\n",
      "validating...\n",
      "Epoch 0080 | Time 21.6781, Epoch Time 386.8443(324.4760), Bit/dim 4.9113(best: 4.9117), Xent 1.8047, Loss 5.8136, Error 0.6328(best: 0.6176)\n",
      "===> Using batch size 8000. Total 6 iterations/epoch.\n"
     ]
    },
    {
     "name": "stdout",
     "output_type": "stream",
     "text": [
      "25.209580838323355\n",
      "25.209580838323355\n",
      "25.209580838323355\n",
      "25.209580838323355\n",
      "25.209580838323355\n",
      "25.209580838323355\n",
      "25.209580838323355\n",
      "25.209580838323355\n",
      "25.209580838323355\n",
      "25.209580838323355\n",
      "25.209580838323355\n",
      "25.209580838323355\n",
      "25.209580838323355\n",
      "25.209580838323355\n"
     ]
    },
    {
     "name": "stderr",
     "output_type": "stream",
     "text": [
      "Iter 0481 | Time 56.3343(54.2778) | Bit/dim 4.9122(5.0242) | Xent 1.8340(1.8751) | Loss 15.6717(13.3533) | Error 0.6416(0.6526) Steps 538(520.95) | Grad Norm 38.6656(22.5608) | Total Time 0.00(0.00)\n",
      "Iter 0482 | Time 56.4335(54.3424) | Bit/dim 4.8726(5.0197) | Xent 1.7951(1.8727) | Loss 12.6819(13.3331) | Error 0.6248(0.6517) Steps 538(521.46) | Grad Norm 6.6475(22.0834) | Total Time 0.00(0.00)\n",
      "Iter 0483 | Time 58.3729(54.4633) | Bit/dim 4.8801(5.0155) | Xent 1.8247(1.8713) | Loss 12.3716(13.3043) | Error 0.6338(0.6512) Steps 550(522.32) | Grad Norm 14.8832(21.8674) | Total Time 0.00(0.00)\n",
      "Iter 0484 | Time 55.6469(54.4988) | Bit/dim 4.9543(5.0137) | Xent 1.8260(1.8699) | Loss 12.5505(13.2817) | Error 0.6460(0.6510) Steps 574(523.87) | Grad Norm 53.9801(22.8308) | Total Time 0.00(0.00)\n",
      "Iter 0485 | Time 57.1796(54.5793) | Bit/dim 4.8726(5.0094) | Xent 1.8001(1.8678) | Loss 12.4004(13.2552) | Error 0.6300(0.6504) Steps 526(523.93) | Grad Norm 9.1595(22.4207) | Total Time 0.00(0.00)\n",
      "Iter 0486 | Time 60.7876(54.7655) | Bit/dim 4.8990(5.0061) | Xent 1.8606(1.8676) | Loss 12.6953(13.2384) | Error 0.6532(0.6505) Steps 574(525.43) | Grad Norm 37.3683(22.8691) | Total Time 0.00(0.00)\n",
      "validating...\n",
      "Epoch 0081 | Time 21.9291, Epoch Time 382.6912(326.2224), Bit/dim 4.8654(best: 4.9113), Xent 1.7852, Loss 5.7580, Error 0.6238(best: 0.6176)\n",
      "===> Using batch size 8000. Total 6 iterations/epoch.\n"
     ]
    },
    {
     "name": "stdout",
     "output_type": "stream",
     "text": [
      "25.149700598802394\n",
      "25.149700598802394\n",
      "25.149700598802394\n",
      "25.149700598802394\n",
      "25.149700598802394\n",
      "25.149700598802394\n",
      "25.149700598802394\n",
      "25.149700598802394\n",
      "25.149700598802394\n",
      "25.149700598802394\n",
      "25.149700598802394\n",
      "25.149700598802394\n",
      "25.149700598802394\n",
      "25.149700598802394\n"
     ]
    },
    {
     "name": "stderr",
     "output_type": "stream",
     "text": [
      "Iter 0487 | Time 55.3828(54.7840) | Bit/dim 4.8567(5.0016) | Xent 1.8008(1.8656) | Loss 15.2860(13.2999) | Error 0.6346(0.6500) Steps 520(525.27) | Grad Norm 21.7509(22.8355) | Total Time 0.00(0.00)\n",
      "Iter 0488 | Time 61.5708(54.9876) | Bit/dim 4.9299(4.9995) | Xent 2.1325(1.8736) | Loss 13.2951(13.2997) | Error 0.7346(0.6525) Steps 508(524.75) | Grad Norm 94.9638(24.9994) | Total Time 0.00(0.00)\n",
      "Iter 0489 | Time 51.6581(54.8878) | Bit/dim 4.9189(4.9971) | Xent 2.1713(1.8825) | Loss 12.8712(13.2869) | Error 0.7510(0.6555) Steps 538(525.15) | Grad Norm 81.5405(26.6956) | Total Time 0.00(0.00)\n",
      "Iter 0490 | Time 63.4442(55.1444) | Bit/dim 4.8963(4.9940) | Xent 1.8178(1.8806) | Loss 12.3802(13.2597) | Error 0.6274(0.6547) Steps 592(527.15) | Grad Norm 26.7465(26.6972) | Total Time 0.00(0.00)\n",
      "Iter 0491 | Time 63.0268(55.3809) | Bit/dim 4.9246(4.9920) | Xent 2.2279(1.8910) | Loss 13.0019(13.2519) | Error 0.7604(0.6578) Steps 586(528.92) | Grad Norm 99.8110(28.8906) | Total Time 0.00(0.00)\n",
      "Iter 0492 | Time 61.0819(55.5519) | Bit/dim 4.9517(4.9908) | Xent 2.2932(1.9031) | Loss 13.2366(13.2515) | Error 0.7726(0.6613) Steps 544(529.37) | Grad Norm 96.9633(30.9327) | Total Time 0.00(0.00)\n",
      "validating...\n",
      "Epoch 0082 | Time 21.8525, Epoch Time 393.9560(328.2544), Bit/dim 4.8803(best: 4.8654), Xent 1.9198, Loss 5.8402, Error 0.6882(best: 0.6176)\n",
      "===> Using batch size 8000. Total 6 iterations/epoch.\n"
     ]
    },
    {
     "name": "stdout",
     "output_type": "stream",
     "text": [
      "25.089820359281436\n",
      "25.089820359281436\n",
      "25.089820359281436\n",
      "25.089820359281436\n",
      "25.089820359281436\n",
      "25.089820359281436\n",
      "25.089820359281436\n",
      "25.089820359281436\n",
      "25.089820359281436\n",
      "25.089820359281436\n",
      "25.089820359281436\n",
      "25.089820359281436\n",
      "25.089820359281436\n",
      "25.089820359281436\n"
     ]
    },
    {
     "name": "stderr",
     "output_type": "stream",
     "text": [
      "Iter 0493 | Time 56.5329(55.5814) | Bit/dim 4.8789(4.9874) | Xent 1.9733(1.9052) | Loss 15.8541(13.3295) | Error 0.7097(0.6627) Steps 574(530.71) | Grad Norm 35.4913(31.0695) | Total Time 0.00(0.00)\n",
      "Iter 0494 | Time 55.0866(55.5665) | Bit/dim 4.8572(4.9835) | Xent 1.8587(1.9038) | Loss 12.5550(13.3063) | Error 0.6518(0.6624) Steps 550(531.29) | Grad Norm 19.8555(30.7331) | Total Time 0.00(0.00)\n",
      "Iter 0495 | Time 57.7246(55.6313) | Bit/dim 4.9456(4.9824) | Xent 1.9684(1.9057) | Loss 12.6938(13.2879) | Error 0.7017(0.6636) Steps 532(531.31) | Grad Norm 66.8348(31.8161) | Total Time 0.00(0.00)\n",
      "Iter 0496 | Time 59.7046(55.7535) | Bit/dim 4.8734(4.9791) | Xent 1.9592(1.9073) | Loss 12.5760(13.2666) | Error 0.6964(0.6646) Steps 532(531.33) | Grad Norm 40.4357(32.0747) | Total Time 0.00(0.00)\n",
      "Iter 0497 | Time 56.3586(55.7716) | Bit/dim 4.9429(4.9780) | Xent 1.8561(1.9058) | Loss 12.7647(13.2515) | Error 0.6398(0.6638) Steps 520(530.99) | Grad Norm 40.2194(32.3191) | Total Time 0.00(0.00)\n",
      "Iter 0498 | Time 52.0601(55.6603) | Bit/dim 4.9510(4.9772) | Xent 1.8828(1.9051) | Loss 12.3957(13.2258) | Error 0.6604(0.6637) Steps 550(531.56) | Grad Norm 40.5881(32.5671) | Total Time 0.00(0.00)\n",
      "validating...\n",
      "Epoch 0083 | Time 22.7113, Epoch Time 375.8563(329.6825), Bit/dim 4.8684(best: 4.8654), Xent 1.8194, Loss 5.7781, Error 0.6305(best: 0.6176)\n",
      "===> Using batch size 8000. Total 6 iterations/epoch.\n"
     ]
    },
    {
     "name": "stdout",
     "output_type": "stream",
     "text": [
      "25.029940119760482\n",
      "25.029940119760482\n",
      "25.029940119760482\n",
      "25.029940119760482\n",
      "25.029940119760482\n",
      "25.029940119760482\n",
      "25.029940119760482\n",
      "25.029940119760482\n",
      "25.029940119760482\n",
      "25.029940119760482\n",
      "25.029940119760482\n",
      "25.029940119760482\n",
      "25.029940119760482\n",
      "25.029940119760482\n"
     ]
    },
    {
     "name": "stderr",
     "output_type": "stream",
     "text": [
      "Iter 0499 | Time 57.7982(55.7244) | Bit/dim 4.8604(4.9737) | Xent 1.8630(1.9038) | Loss 14.4282(13.2619) | Error 0.6499(0.6633) Steps 574(532.83) | Grad Norm 14.2201(32.0167) | Total Time 0.00(0.00)\n",
      "Iter 0500 | Time 56.1131(55.7361) | Bit/dim 4.8337(4.9695) | Xent 1.8339(1.9017) | Loss 12.2923(13.2328) | Error 0.6365(0.6625) Steps 568(533.89) | Grad Norm 22.4162(31.7287) | Total Time 0.00(0.00)\n",
      "Iter 0501 | Time 56.5339(55.7600) | Bit/dim 4.8770(4.9667) | Xent 1.8581(1.9004) | Loss 12.5215(13.2115) | Error 0.6435(0.6619) Steps 562(534.73) | Grad Norm 21.8243(31.4316) | Total Time 0.00(0.00)\n",
      "Iter 0502 | Time 60.0292(55.8881) | Bit/dim 4.8407(4.9629) | Xent 1.8422(1.8987) | Loss 12.6229(13.1938) | Error 0.6441(0.6614) Steps 532(534.65) | Grad Norm 12.8595(30.8744) | Total Time 0.00(0.00)\n",
      "Iter 0503 | Time 65.9851(56.1910) | Bit/dim 4.8846(4.9606) | Xent 1.8431(1.8970) | Loss 12.8150(13.1825) | Error 0.6474(0.6610) Steps 544(534.93) | Grad Norm 30.3565(30.8589) | Total Time 0.00(0.00)\n",
      "Iter 0504 | Time 60.9787(56.3346) | Bit/dim 4.8617(4.9576) | Xent 1.8346(1.8952) | Loss 12.5398(13.1632) | Error 0.6494(0.6606) Steps 550(535.38) | Grad Norm 18.5011(30.4881) | Total Time 0.00(0.00)\n",
      "validating...\n",
      "Epoch 0084 | Time 22.4152, Epoch Time 395.4702(331.6561), Bit/dim 4.8499(best: 4.8654), Xent 1.7933, Loss 5.7466, Error 0.6222(best: 0.6176)\n",
      "===> Using batch size 8000. Total 6 iterations/epoch.\n"
     ]
    },
    {
     "name": "stdout",
     "output_type": "stream",
     "text": [
      "24.97005988023952\n",
      "24.97005988023952\n",
      "24.97005988023952\n",
      "24.97005988023952\n",
      "24.97005988023952\n",
      "24.97005988023952\n",
      "24.97005988023952\n",
      "24.97005988023952\n",
      "24.97005988023952\n",
      "24.97005988023952\n",
      "24.97005988023952\n",
      "24.97005988023952\n",
      "24.97005988023952\n",
      "24.97005988023952\n"
     ]
    },
    {
     "name": "stderr",
     "output_type": "stream",
     "text": [
      "Iter 0505 | Time 58.0070(56.3848) | Bit/dim 4.8464(4.9543) | Xent 1.8256(1.8931) | Loss 15.7778(13.2416) | Error 0.6326(0.6598) Steps 544(535.64) | Grad Norm 22.6247(30.2522) | Total Time 0.00(0.00)\n",
      "Iter 0506 | Time 59.2877(56.4719) | Bit/dim 4.8559(4.9513) | Xent 1.8067(1.8905) | Loss 12.4597(13.2182) | Error 0.6327(0.6590) Steps 508(534.81) | Grad Norm 23.1830(30.0402) | Total Time 0.00(0.00)\n",
      "Iter 0507 | Time 55.3113(56.4371) | Bit/dim 4.8581(4.9485) | Xent 1.7908(1.8875) | Loss 12.4938(13.1964) | Error 0.6274(0.6580) Steps 532(534.73) | Grad Norm 15.8213(29.6136) | Total Time 0.00(0.00)\n",
      "Iter 0508 | Time 60.3528(56.5545) | Bit/dim 4.8468(4.9455) | Xent 1.8162(1.8853) | Loss 12.4194(13.1731) | Error 0.6321(0.6572) Steps 514(534.11) | Grad Norm 13.0884(29.1178) | Total Time 0.00(0.00)\n",
      "Iter 0509 | Time 60.8526(56.6835) | Bit/dim 4.8320(4.9421) | Xent 1.8179(1.8833) | Loss 12.6063(13.1561) | Error 0.6367(0.6566) Steps 490(532.78) | Grad Norm 27.3305(29.0642) | Total Time 0.00(0.00)\n",
      "Iter 0510 | Time 61.6570(56.8327) | Bit/dim 4.8271(4.9386) | Xent 1.7863(1.8804) | Loss 12.6154(13.1399) | Error 0.6256(0.6557) Steps 526(532.58) | Grad Norm 16.6574(28.6920) | Total Time 0.00(0.00)\n",
      "validating...\n",
      "Epoch 0085 | Time 22.1949, Epoch Time 393.0663(333.4984), Bit/dim 4.8192(best: 4.8499), Xent 1.7556, Loss 5.6970, Error 0.6057(best: 0.6176)\n",
      "===> Using batch size 8000. Total 6 iterations/epoch.\n"
     ]
    },
    {
     "name": "stdout",
     "output_type": "stream",
     "text": [
      "24.91017964071856\n",
      "24.91017964071856\n",
      "24.91017964071856\n",
      "24.91017964071856\n",
      "24.91017964071856\n",
      "24.91017964071856\n",
      "24.91017964071856\n",
      "24.91017964071856\n",
      "24.91017964071856\n",
      "24.91017964071856\n",
      "24.91017964071856\n",
      "24.91017964071856\n",
      "24.91017964071856\n",
      "24.91017964071856\n"
     ]
    },
    {
     "name": "stderr",
     "output_type": "stream",
     "text": [
      "Iter 0511 | Time 52.7450(56.7101) | Bit/dim 4.8195(4.9351) | Xent 1.7918(1.8778) | Loss 15.4789(13.2101) | Error 0.6255(0.6548) Steps 544(532.92) | Grad Norm 16.8499(28.3367) | Total Time 0.00(0.00)\n",
      "Iter 0512 | Time 61.8190(56.8633) | Bit/dim 4.8296(4.9319) | Xent 1.8305(1.8763) | Loss 12.5240(13.1895) | Error 0.6421(0.6544) Steps 556(533.61) | Grad Norm 31.3510(28.4272) | Total Time 0.00(0.00)\n",
      "Iter 0513 | Time 64.0335(57.0784) | Bit/dim 4.8266(4.9287) | Xent 1.7580(1.8728) | Loss 12.5648(13.1707) | Error 0.6153(0.6532) Steps 526(533.39) | Grad Norm 9.9624(27.8732) | Total Time 0.00(0.00)\n",
      "Iter 0514 | Time 57.1957(57.0820) | Bit/dim 4.8178(4.9254) | Xent 1.7686(1.8697) | Loss 12.3947(13.1475) | Error 0.6074(0.6519) Steps 538(533.52) | Grad Norm 16.4615(27.5309) | Total Time 0.00(0.00)\n",
      "Iter 0515 | Time 52.4973(56.9444) | Bit/dim 4.8103(4.9220) | Xent 1.7894(1.8673) | Loss 12.3973(13.1250) | Error 0.6256(0.6511) Steps 508(532.76) | Grad Norm 20.2637(27.3129) | Total Time 0.00(0.00)\n",
      "Iter 0516 | Time 58.1396(56.9803) | Bit/dim 4.8005(4.9183) | Xent 1.7584(1.8640) | Loss 12.5983(13.1092) | Error 0.6170(0.6501) Steps 556(533.46) | Grad Norm 13.1058(26.8866) | Total Time 0.00(0.00)\n",
      "validating...\n",
      "Epoch 0086 | Time 21.9227, Epoch Time 384.2351(335.0205), Bit/dim 4.7941(best: 4.8192), Xent 1.7322, Loss 5.6602, Error 0.6015(best: 0.6057)\n",
      "===> Using batch size 8000. Total 6 iterations/epoch.\n"
     ]
    },
    {
     "name": "stdout",
     "output_type": "stream",
     "text": [
      "24.850299401197606\n",
      "24.850299401197606\n",
      "24.850299401197606\n",
      "24.850299401197606\n",
      "24.850299401197606\n",
      "24.850299401197606\n",
      "24.850299401197606\n",
      "24.850299401197606\n",
      "24.850299401197606\n",
      "24.850299401197606\n",
      "24.850299401197606\n",
      "24.850299401197606\n",
      "24.850299401197606\n",
      "24.850299401197606\n"
     ]
    },
    {
     "name": "stderr",
     "output_type": "stream",
     "text": [
      "Iter 0517 | Time 60.0112(57.0712) | Bit/dim 4.7999(4.9148) | Xent 1.7727(1.8612) | Loss 15.3576(13.1766) | Error 0.6228(0.6492) Steps 562(534.31) | Grad Norm 18.0649(26.6220) | Total Time 0.00(0.00)\n",
      "Iter 0518 | Time 53.6544(56.9687) | Bit/dim 4.8345(4.9123) | Xent 1.9184(1.8630) | Loss 12.5810(13.1587) | Error 0.6720(0.6499) Steps 496(533.16) | Grad Norm 56.3339(27.5134) | Total Time 0.00(0.00)\n",
      "Iter 0519 | Time 58.5894(57.0173) | Bit/dim 4.7961(4.9089) | Xent 1.8553(1.8627) | Loss 12.4089(13.1362) | Error 0.6515(0.6500) Steps 574(534.39) | Grad Norm 36.6135(27.7864) | Total Time 0.00(0.00)\n",
      "Iter 0520 | Time 63.1035(57.1999) | Bit/dim 4.8749(4.9078) | Xent 1.9577(1.8656) | Loss 12.7847(13.1257) | Error 0.6874(0.6511) Steps 550(534.86) | Grad Norm 88.9325(29.6207) | Total Time 0.00(0.00)\n",
      "Iter 0521 | Time 57.9277(57.2217) | Bit/dim 4.8499(4.9061) | Xent 1.9989(1.8696) | Loss 12.6974(13.1129) | Error 0.7004(0.6526) Steps 538(534.95) | Grad Norm 76.4107(31.0244) | Total Time 0.00(0.00)\n",
      "Iter 0522 | Time 57.3092(57.2244) | Bit/dim 4.8436(4.9042) | Xent 1.8554(1.8692) | Loss 11.9520(13.0780) | Error 0.6555(0.6527) Steps 568(535.94) | Grad Norm 40.0507(31.2952) | Total Time 0.00(0.00)\n",
      "validating...\n",
      "Epoch 0087 | Time 21.5365, Epoch Time 391.8002(336.7239), Bit/dim 4.7871(best: 4.7941), Xent 1.7987, Loss 5.6864, Error 0.6303(best: 0.6015)\n",
      "===> Using batch size 8000. Total 6 iterations/epoch.\n"
     ]
    },
    {
     "name": "stdout",
     "output_type": "stream",
     "text": [
      "24.790419161676645\n",
      "24.790419161676645\n",
      "24.790419161676645\n",
      "24.790419161676645\n",
      "24.790419161676645\n",
      "24.790419161676645\n",
      "24.790419161676645\n",
      "24.790419161676645\n",
      "24.790419161676645\n",
      "24.790419161676645\n",
      "24.790419161676645\n",
      "24.790419161676645\n",
      "24.790419161676645\n",
      "24.790419161676645\n"
     ]
    },
    {
     "name": "stderr",
     "output_type": "stream",
     "text": [
      "Iter 0523 | Time 55.6648(57.1776) | Bit/dim 4.7915(4.9008) | Xent 1.8360(1.8682) | Loss 15.3466(13.1461) | Error 0.6506(0.6526) Steps 526(535.64) | Grad Norm 26.9702(31.1655) | Total Time 0.00(0.00)\n",
      "Iter 0524 | Time 56.5559(57.1589) | Bit/dim 4.8875(4.9004) | Xent 1.9104(1.8694) | Loss 12.5435(13.1280) | Error 0.6746(0.6533) Steps 520(535.17) | Grad Norm 73.7485(32.4430) | Total Time 0.00(0.00)\n",
      "Iter 0525 | Time 56.9053(57.1513) | Bit/dim 4.7724(4.8966) | Xent 1.8616(1.8692) | Loss 12.2679(13.1022) | Error 0.6575(0.6534) Steps 496(534.00) | Grad Norm 30.7389(32.3919) | Total Time 0.00(0.00)\n",
      "Iter 0526 | Time 52.2472(57.0042) | Bit/dim 4.9419(4.8980) | Xent 1.8929(1.8699) | Loss 12.6693(13.0892) | Error 0.6716(0.6539) Steps 550(534.48) | Grad Norm 50.9747(32.9493) | Total Time 0.00(0.00)\n",
      "Iter 0527 | Time 55.8042(56.9682) | Bit/dim 4.9589(4.8998) | Xent 1.9229(1.8715) | Loss 12.6870(13.0772) | Error 0.6830(0.6548) Steps 526(534.23) | Grad Norm 52.3610(33.5317) | Total Time 0.00(0.00)\n",
      "Iter 0528 | Time 57.1386(56.9733) | Bit/dim 4.7838(4.8963) | Xent 1.8129(1.8697) | Loss 12.3781(13.0562) | Error 0.6305(0.6541) Steps 556(534.88) | Grad Norm 13.1934(32.9215) | Total Time 0.00(0.00)\n",
      "validating...\n",
      "Epoch 0088 | Time 23.2432, Epoch Time 373.5984(337.8302), Bit/dim 5.0884(best: 4.7871), Xent 1.9769, Loss 6.0769, Error 0.7068(best: 0.6015)\n",
      "===> Using batch size 8000. Total 6 iterations/epoch.\n"
     ]
    },
    {
     "name": "stdout",
     "output_type": "stream",
     "text": [
      "24.730538922155688\n",
      "24.730538922155688\n",
      "24.730538922155688\n",
      "24.730538922155688\n",
      "24.730538922155688\n",
      "24.730538922155688\n",
      "24.730538922155688\n",
      "24.730538922155688\n",
      "24.730538922155688\n",
      "24.730538922155688\n",
      "24.730538922155688\n",
      "24.730538922155688\n",
      "24.730538922155688\n",
      "24.730538922155688\n"
     ]
    },
    {
     "name": "stderr",
     "output_type": "stream",
     "text": [
      "Iter 0529 | Time 60.3716(57.0753) | Bit/dim 5.0804(4.9018) | Xent 2.0586(1.8754) | Loss 15.8941(13.1413) | Error 0.7157(0.6559) Steps 514(534.25) | Grad Norm 109.4969(35.2188) | Total Time 0.00(0.00)\n",
      "Iter 0530 | Time 61.9101(57.2203) | Bit/dim 5.1388(4.9089) | Xent 2.1230(1.8828) | Loss 13.4632(13.1510) | Error 0.7121(0.6576) Steps 544(534.54) | Grad Norm 111.8588(37.5180) | Total Time 0.00(0.00)\n",
      "Iter 0531 | Time 56.1671(57.1887) | Bit/dim 4.8453(4.9070) | Xent 1.8680(1.8824) | Loss 12.5541(13.1331) | Error 0.6603(0.6577) Steps 544(534.83) | Grad Norm 31.2779(37.3308) | Total Time 0.00(0.00)\n",
      "Iter 0532 | Time 59.8219(57.2677) | Bit/dim 4.9227(4.9075) | Xent 1.8595(1.8817) | Loss 12.8787(13.1254) | Error 0.6462(0.6573) Steps 544(535.10) | Grad Norm 30.8603(37.1367) | Total Time 0.00(0.00)\n",
      "Iter 0533 | Time 56.3617(57.2405) | Bit/dim 4.9478(4.9087) | Xent 1.8928(1.8820) | Loss 12.9766(13.1210) | Error 0.6716(0.6578) Steps 532(535.01) | Grad Norm 34.5273(37.0584) | Total Time 0.00(0.00)\n",
      "Iter 0534 | Time 55.8777(57.1996) | Bit/dim 4.8483(4.9069) | Xent 1.9112(1.8829) | Loss 12.3110(13.0967) | Error 0.6805(0.6585) Steps 526(534.74) | Grad Norm 19.0263(36.5174) | Total Time 0.00(0.00)\n",
      "validating...\n",
      "Epoch 0089 | Time 21.9152, Epoch Time 393.9986(339.5152), Bit/dim 4.8447(best: 4.7871), Xent 1.7902, Loss 5.7398, Error 0.6261(best: 0.6015)\n",
      "===> Using batch size 8000. Total 6 iterations/epoch.\n"
     ]
    },
    {
     "name": "stdout",
     "output_type": "stream",
     "text": [
      "24.67065868263473\n",
      "24.67065868263473\n",
      "24.67065868263473\n",
      "24.67065868263473\n",
      "24.67065868263473\n",
      "24.67065868263473\n",
      "24.67065868263473\n",
      "24.67065868263473\n",
      "24.67065868263473\n",
      "24.67065868263473\n",
      "24.67065868263473\n",
      "24.67065868263473\n",
      "24.67065868263473\n",
      "24.67065868263473\n"
     ]
    },
    {
     "name": "stderr",
     "output_type": "stream",
     "text": [
      "Iter 0535 | Time 63.6397(57.3928) | Bit/dim 4.8460(4.9051) | Xent 1.8546(1.8821) | Loss 15.3883(13.1654) | Error 0.6614(0.6585) Steps 514(534.12) | Grad Norm 24.9455(36.1703) | Total Time 0.00(0.00)\n",
      "Iter 0536 | Time 58.4973(57.4260) | Bit/dim 4.8355(4.9030) | Xent 1.8420(1.8809) | Loss 12.3947(13.1423) | Error 0.6539(0.6584) Steps 568(535.13) | Grad Norm 15.3757(35.5464) | Total Time 0.00(0.00)\n",
      "Iter 0537 | Time 54.3277(57.3330) | Bit/dim 4.8556(4.9016) | Xent 1.8512(1.8800) | Loss 12.6534(13.1276) | Error 0.6587(0.6584) Steps 550(535.58) | Grad Norm 14.9167(34.9275) | Total Time 0.00(0.00)\n",
      "Iter 0538 | Time 56.0331(57.2940) | Bit/dim 4.8067(4.8987) | Xent 1.8207(1.8782) | Loss 12.4095(13.1061) | Error 0.6392(0.6578) Steps 544(535.83) | Grad Norm 9.6855(34.1703) | Total Time 0.00(0.00)\n",
      "Iter 0539 | Time 59.3772(57.3565) | Bit/dim 4.8040(4.8959) | Xent 1.8470(1.8773) | Loss 12.3046(13.0820) | Error 0.6535(0.6577) Steps 538(535.90) | Grad Norm 14.4946(33.5800) | Total Time 0.00(0.00)\n",
      "Iter 0540 | Time 63.1193(57.5294) | Bit/dim 4.8096(4.8933) | Xent 1.8155(1.8754) | Loss 12.5556(13.0662) | Error 0.6391(0.6572) Steps 544(536.14) | Grad Norm 10.3156(32.8821) | Total Time 0.00(0.00)\n",
      "validating...\n",
      "Epoch 0090 | Time 21.5008, Epoch Time 392.6225(341.1084), Bit/dim 4.8094(best: 4.7871), Xent 1.7664, Loss 5.6926, Error 0.6137(best: 0.6015)\n",
      "===> Using batch size 8000. Total 6 iterations/epoch.\n"
     ]
    },
    {
     "name": "stdout",
     "output_type": "stream",
     "text": [
      "24.610778443113773\n",
      "24.610778443113773\n",
      "24.610778443113773\n",
      "24.610778443113773\n",
      "24.610778443113773\n",
      "24.610778443113773\n",
      "24.610778443113773\n",
      "24.610778443113773\n",
      "24.610778443113773\n",
      "24.610778443113773\n",
      "24.610778443113773\n",
      "24.610778443113773\n",
      "24.610778443113773\n",
      "24.610778443113773\n"
     ]
    },
    {
     "name": "stderr",
     "output_type": "stream",
     "text": [
      "Iter 0541 | Time 52.7706(57.3866) | Bit/dim 4.8051(4.8906) | Xent 1.7784(1.8725) | Loss 15.5065(13.1395) | Error 0.6289(0.6563) Steps 550(536.56) | Grad Norm 16.5929(32.3934) | Total Time 0.00(0.00)\n",
      "Iter 0542 | Time 59.5131(57.4504) | Bit/dim 4.8162(4.8884) | Xent 1.8434(1.8716) | Loss 12.3584(13.1160) | Error 0.6530(0.6562) Steps 544(536.78) | Grad Norm 32.1124(32.3850) | Total Time 0.00(0.00)\n",
      "Iter 0543 | Time 59.2082(57.5032) | Bit/dim 4.7920(4.8855) | Xent 1.8835(1.8720) | Loss 12.3371(13.0927) | Error 0.6583(0.6563) Steps 490(535.38) | Grad Norm 23.1562(32.1081) | Total Time 0.00(0.00)\n",
      "Iter 0544 | Time 61.2686(57.6161) | Bit/dim 4.7963(4.8828) | Xent 1.8543(1.8714) | Loss 12.5568(13.0766) | Error 0.6601(0.6564) Steps 550(535.82) | Grad Norm 38.2596(32.2927) | Total Time 0.00(0.00)\n",
      "Iter 0545 | Time 54.4920(57.5224) | Bit/dim 4.7780(4.8797) | Xent 1.8046(1.8694) | Loss 12.2216(13.0509) | Error 0.6339(0.6557) Steps 538(535.88) | Grad Norm 13.4132(31.7263) | Total Time 0.00(0.00)\n",
      "Iter 0546 | Time 57.9935(57.5365) | Bit/dim 4.7502(4.8758) | Xent 1.8050(1.8675) | Loss 12.2151(13.0259) | Error 0.6402(0.6552) Steps 550(536.30) | Grad Norm 8.8383(31.0396) | Total Time 0.00(0.00)\n",
      "validating...\n",
      "Epoch 0091 | Time 21.2505, Epoch Time 382.3633(342.3461), Bit/dim 4.7689(best: 4.7871), Xent 1.7685, Loss 5.6531, Error 0.6179(best: 0.6015)\n",
      "===> Using batch size 8000. Total 6 iterations/epoch.\n"
     ]
    },
    {
     "name": "stdout",
     "output_type": "stream",
     "text": [
      "24.550898203592812\n",
      "24.550898203592812\n",
      "24.550898203592812\n",
      "24.550898203592812\n",
      "24.550898203592812\n",
      "24.550898203592812\n",
      "24.550898203592812\n",
      "24.550898203592812\n",
      "24.550898203592812\n",
      "24.550898203592812\n",
      "24.550898203592812\n",
      "24.550898203592812\n",
      "24.550898203592812\n",
      "24.550898203592812\n"
     ]
    },
    {
     "name": "stderr",
     "output_type": "stream",
     "text": [
      "Iter 0547 | Time 61.2136(57.6468) | Bit/dim 4.7774(4.8729) | Xent 1.8120(1.8658) | Loss 15.0807(13.0875) | Error 0.6286(0.6544) Steps 550(536.72) | Grad Norm 15.8770(30.5848) | Total Time 0.00(0.00)\n",
      "Iter 0548 | Time 60.5212(57.7331) | Bit/dim 4.7634(4.8696) | Xent 1.8161(1.8643) | Loss 12.4837(13.0694) | Error 0.6444(0.6541) Steps 514(536.03) | Grad Norm 27.1809(30.4826) | Total Time 0.00(0.00)\n",
      "Iter 0549 | Time 55.2883(57.6597) | Bit/dim 4.7743(4.8667) | Xent 1.8292(1.8633) | Loss 12.1173(13.0408) | Error 0.6455(0.6539) Steps 532(535.91) | Grad Norm 28.5294(30.4240) | Total Time 0.00(0.00)\n",
      "Iter 0550 | Time 56.1393(57.6141) | Bit/dim 4.7564(4.8634) | Xent 1.7805(1.8608) | Loss 12.3915(13.0213) | Error 0.6281(0.6531) Steps 550(536.34) | Grad Norm 20.6738(30.1315) | Total Time 0.00(0.00)\n",
      "Iter 0551 | Time 52.8740(57.4719) | Bit/dim 4.7507(4.8600) | Xent 1.8090(1.8593) | Loss 11.9502(12.9892) | Error 0.6424(0.6528) Steps 496(535.13) | Grad Norm 26.1641(30.0125) | Total Time 0.00(0.00)\n",
      "Iter 0552 | Time 56.6679(57.4478) | Bit/dim 4.7414(4.8565) | Xent 1.8071(1.8577) | Loss 12.3618(12.9704) | Error 0.6271(0.6520) Steps 550(535.57) | Grad Norm 28.8630(29.9780) | Total Time 0.00(0.00)\n",
      "validating...\n",
      "Epoch 0092 | Time 22.2050, Epoch Time 380.6886(343.4964), Bit/dim 4.7405(best: 4.7689), Xent 1.7419, Loss 5.6114, Error 0.6060(best: 0.6015)\n",
      "===> Using batch size 8000. Total 6 iterations/epoch.\n"
     ]
    },
    {
     "name": "stdout",
     "output_type": "stream",
     "text": [
      "24.491017964071858\n",
      "24.491017964071858\n",
      "24.491017964071858\n",
      "24.491017964071858\n",
      "24.491017964071858\n",
      "24.491017964071858\n",
      "24.491017964071858\n",
      "24.491017964071858\n",
      "24.491017964071858\n",
      "24.491017964071858\n",
      "24.491017964071858\n",
      "24.491017964071858\n",
      "24.491017964071858\n",
      "24.491017964071858\n"
     ]
    },
    {
     "name": "stderr",
     "output_type": "stream",
     "text": [
      "Iter 0553 | Time 59.9121(57.5217) | Bit/dim 4.7365(4.8529) | Xent 1.7751(1.8552) | Loss 15.3425(13.0416) | Error 0.6221(0.6511) Steps 532(535.46) | Grad Norm 15.3669(29.5397) | Total Time 0.00(0.00)\n",
      "Iter 0554 | Time 57.7501(57.5286) | Bit/dim 4.7551(4.8499) | Xent 1.7767(1.8529) | Loss 12.4452(13.0237) | Error 0.6226(0.6503) Steps 550(535.90) | Grad Norm 22.3843(29.3250) | Total Time 0.00(0.00)\n",
      "Iter 0555 | Time 56.1819(57.4882) | Bit/dim 4.7549(4.8471) | Xent 1.8522(1.8528) | Loss 12.3278(13.0028) | Error 0.6495(0.6502) Steps 538(535.96) | Grad Norm 38.6134(29.6037) | Total Time 0.00(0.00)\n",
      "Iter 0556 | Time 55.0917(57.4163) | Bit/dim 4.7390(4.8438) | Xent 1.7420(1.8495) | Loss 12.1174(12.9762) | Error 0.6055(0.6489) Steps 532(535.84) | Grad Norm 9.5341(29.0016) | Total Time 0.00(0.00)\n",
      "Iter 0557 | Time 60.7015(57.5148) | Bit/dim 4.7829(4.8420) | Xent 1.8974(1.8510) | Loss 12.6181(12.9655) | Error 0.6713(0.6496) Steps 562(536.63) | Grad Norm 72.6508(30.3111) | Total Time 0.00(0.00)\n",
      "Iter 0558 | Time 55.0587(57.4412) | Bit/dim 4.7699(4.8399) | Xent 1.7631(1.8483) | Loss 12.0730(12.9387) | Error 0.6213(0.6487) Steps 526(536.31) | Grad Norm 29.9776(30.3011) | Total Time 0.00(0.00)\n",
      "validating...\n",
      "Epoch 0093 | Time 21.7011, Epoch Time 382.0158(344.6519), Bit/dim 4.8701(best: 4.7405), Xent 1.8682, Loss 5.8042, Error 0.6582(best: 0.6015)\n",
      "===> Using batch size 8000. Total 6 iterations/epoch.\n"
     ]
    },
    {
     "name": "stdout",
     "output_type": "stream",
     "text": [
      "24.431137724550897\n",
      "24.431137724550897\n",
      "24.431137724550897\n",
      "24.431137724550897\n",
      "24.431137724550897\n",
      "24.431137724550897\n",
      "24.431137724550897\n",
      "24.431137724550897\n",
      "24.431137724550897\n",
      "24.431137724550897\n",
      "24.431137724550897\n",
      "24.431137724550897\n",
      "24.431137724550897\n",
      "24.431137724550897\n"
     ]
    },
    {
     "name": "stderr",
     "output_type": "stream",
     "text": [
      "Iter 0559 | Time 54.4576(57.3516) | Bit/dim 4.8733(4.8409) | Xent 1.8990(1.8498) | Loss 15.3165(13.0100) | Error 0.6703(0.6494) Steps 520(535.82) | Grad Norm 56.1777(31.0774) | Total Time 0.00(0.00)\n",
      "Iter 0560 | Time 63.2680(57.5291) | Bit/dim 4.9354(4.8437) | Xent 1.8630(1.8502) | Loss 12.9951(13.0096) | Error 0.6525(0.6495) Steps 550(536.25) | Grad Norm 53.7447(31.7574) | Total Time 0.00(0.00)\n",
      "Iter 0561 | Time 59.1302(57.5772) | Bit/dim 4.7571(4.8411) | Xent 1.7567(1.8474) | Loss 12.2701(12.9874) | Error 0.6053(0.6481) Steps 508(535.40) | Grad Norm 18.8266(31.3695) | Total Time 0.00(0.00)\n",
      "Iter 0562 | Time 53.7388(57.4620) | Bit/dim 5.0969(4.8488) | Xent 1.9570(1.8507) | Loss 13.1160(12.9913) | Error 0.6659(0.6487) Steps 550(535.84) | Grad Norm 95.6782(33.2987) | Total Time 0.00(0.00)\n",
      "Iter 0563 | Time 57.5944(57.4660) | Bit/dim 5.3593(4.8641) | Xent 1.9841(1.8547) | Loss 13.3357(13.0016) | Error 0.6747(0.6494) Steps 556(536.44) | Grad Norm 113.8082(35.7140) | Total Time 0.00(0.00)\n",
      "Iter 0564 | Time 59.1931(57.5178) | Bit/dim 4.8930(4.8650) | Xent 1.7864(1.8527) | Loss 12.6813(12.9920) | Error 0.6274(0.6488) Steps 556(537.03) | Grad Norm 37.8450(35.7779) | Total Time 0.00(0.00)\n",
      "validating...\n",
      "Epoch 0094 | Time 22.7281, Epoch Time 385.7328(345.8844), Bit/dim 4.8516(best: 4.7405), Xent 1.7956, Loss 5.7494, Error 0.6260(best: 0.6015)\n",
      "===> Using batch size 8000. Total 6 iterations/epoch.\n"
     ]
    },
    {
     "name": "stdout",
     "output_type": "stream",
     "text": [
      "24.37125748502994\n",
      "24.37125748502994\n",
      "24.37125748502994\n",
      "24.37125748502994\n",
      "24.37125748502994\n",
      "24.37125748502994\n",
      "24.37125748502994\n",
      "24.37125748502994\n",
      "24.37125748502994\n",
      "24.37125748502994\n",
      "24.37125748502994\n",
      "24.37125748502994\n",
      "24.37125748502994\n",
      "24.37125748502994\n"
     ]
    },
    {
     "name": "stderr",
     "output_type": "stream",
     "text": [
      "Iter 0565 | Time 57.4003(57.5143) | Bit/dim 4.8514(4.8645) | Xent 1.8438(1.8524) | Loss 14.9905(13.0519) | Error 0.6567(0.6490) Steps 556(537.60) | Grad Norm 23.8826(35.4211) | Total Time 0.00(0.00)\n",
      "Iter 0566 | Time 57.5968(57.5168) | Bit/dim 4.9637(4.8675) | Xent 1.8516(1.8524) | Loss 12.6493(13.0399) | Error 0.6472(0.6490) Steps 496(536.35) | Grad Norm 28.2455(35.2058) | Total Time 0.00(0.00)\n",
      "Iter 0567 | Time 57.2814(57.5097) | Bit/dim 4.8622(4.8674) | Xent 1.8188(1.8514) | Loss 12.4697(13.0228) | Error 0.6451(0.6489) Steps 532(536.22) | Grad Norm 19.8239(34.7444) | Total Time 0.00(0.00)\n",
      "Iter 0568 | Time 62.5197(57.6600) | Bit/dim 4.7683(4.8644) | Xent 1.8355(1.8509) | Loss 12.3092(13.0014) | Error 0.6484(0.6488) Steps 580(537.53) | Grad Norm 21.8494(34.3575) | Total Time 0.00(0.00)\n",
      "Iter 0569 | Time 58.8341(57.6952) | Bit/dim 4.9089(4.8657) | Xent 2.0410(1.8566) | Loss 12.4389(12.9845) | Error 0.6929(0.6502) Steps 568(538.45) | Grad Norm 70.7073(35.4480) | Total Time 0.00(0.00)\n",
      "Iter 0570 | Time 54.4745(57.5986) | Bit/dim 4.9774(4.8691) | Xent 2.0002(1.8609) | Loss 13.0396(12.9861) | Error 0.6783(0.6510) Steps 532(538.25) | Grad Norm 66.1092(36.3678) | Total Time 0.00(0.00)\n",
      "validating...\n",
      "Epoch 0095 | Time 23.2294, Epoch Time 387.0056(347.1180), Bit/dim 4.8213(best: 4.7405), Xent 1.8288, Loss 5.7357, Error 0.6516(best: 0.6015)\n",
      "===> Using batch size 8000. Total 6 iterations/epoch.\n"
     ]
    },
    {
     "name": "stdout",
     "output_type": "stream",
     "text": [
      "24.311377245508982\n",
      "24.311377245508982\n",
      "24.311377245508982\n",
      "24.311377245508982\n",
      "24.311377245508982\n",
      "24.311377245508982\n",
      "24.311377245508982\n",
      "24.311377245508982\n",
      "24.311377245508982\n",
      "24.311377245508982\n",
      "24.311377245508982\n",
      "24.311377245508982\n",
      "24.311377245508982\n",
      "24.311377245508982\n"
     ]
    },
    {
     "name": "stderr",
     "output_type": "stream",
     "text": [
      "Iter 0571 | Time 59.7936(57.6644) | Bit/dim 4.8246(4.8677) | Xent 1.8782(1.8614) | Loss 15.4037(13.0587) | Error 0.6522(0.6510) Steps 598(540.05) | Grad Norm 44.0007(36.5968) | Total Time 0.00(0.00)\n",
      "Iter 0572 | Time 58.2890(57.6832) | Bit/dim 4.7573(4.8644) | Xent 1.8186(1.8601) | Loss 12.3630(13.0378) | Error 0.6407(0.6507) Steps 538(539.98) | Grad Norm 14.8172(35.9434) | Total Time 0.00(0.00)\n",
      "Iter 0573 | Time 57.5082(57.6779) | Bit/dim 4.8516(4.8640) | Xent 1.8339(1.8593) | Loss 12.4466(13.0201) | Error 0.6381(0.6504) Steps 538(539.92) | Grad Norm 26.4710(35.6593) | Total Time 0.00(0.00)\n",
      "Iter 0574 | Time 58.4118(57.6999) | Bit/dim 4.8287(4.8630) | Xent 1.8103(1.8579) | Loss 12.3237(12.9992) | Error 0.6309(0.6498) Steps 526(539.51) | Grad Norm 17.9694(35.1286) | Total Time 0.00(0.00)\n",
      "Iter 0575 | Time 52.1227(57.5326) | Bit/dim 4.7567(4.8598) | Xent 1.8798(1.8585) | Loss 12.1263(12.9730) | Error 0.6646(0.6502) Steps 520(538.92) | Grad Norm 32.8429(35.0600) | Total Time 0.00(0.00)\n",
      "Iter 0576 | Time 59.6817(57.5971) | Bit/dim 4.7908(4.8577) | Xent 1.8129(1.8572) | Loss 12.1986(12.9497) | Error 0.6396(0.6499) Steps 520(538.35) | Grad Norm 21.5175(34.6537) | Total Time 0.00(0.00)\n",
      "validating...\n",
      "Epoch 0096 | Time 22.0731, Epoch Time 383.4366(348.2076), Bit/dim 4.7734(best: 4.7405), Xent 1.9131, Loss 5.7300, Error 0.6697(best: 0.6015)\n",
      "===> Using batch size 8000. Total 6 iterations/epoch.\n"
     ]
    },
    {
     "name": "stdout",
     "output_type": "stream",
     "text": [
      "24.251497005988025\n",
      "24.251497005988025\n",
      "24.251497005988025\n",
      "24.251497005988025\n",
      "24.251497005988025\n",
      "24.251497005988025\n",
      "24.251497005988025\n",
      "24.251497005988025\n",
      "24.251497005988025\n",
      "24.251497005988025\n",
      "24.251497005988025\n",
      "24.251497005988025\n",
      "24.251497005988025\n",
      "24.251497005988025\n"
     ]
    },
    {
     "name": "stderr",
     "output_type": "stream",
     "text": [
      "Iter 0577 | Time 58.8537(57.6348) | Bit/dim 4.7724(4.8552) | Xent 1.9455(1.8598) | Loss 15.5066(13.0265) | Error 0.6824(0.6509) Steps 562(539.06) | Grad Norm 44.5785(34.9515) | Total Time 0.00(0.00)\n",
      "Iter 0578 | Time 60.6794(57.7261) | Bit/dim 4.7504(4.8520) | Xent 1.8990(1.8610) | Loss 12.3801(13.0071) | Error 0.6686(0.6514) Steps 544(539.21) | Grad Norm 32.2911(34.8717) | Total Time 0.00(0.00)\n",
      "Iter 0579 | Time 58.0255(57.7351) | Bit/dim 4.7397(4.8487) | Xent 1.8055(1.8593) | Loss 12.2406(12.9841) | Error 0.6306(0.6508) Steps 544(539.36) | Grad Norm 17.3969(34.3474) | Total Time 0.00(0.00)\n",
      "Iter 0580 | Time 57.9673(57.7421) | Bit/dim 4.7420(4.8455) | Xent 1.9008(1.8606) | Loss 12.3676(12.9656) | Error 0.6799(0.6517) Steps 526(538.95) | Grad Norm 28.1450(34.1613) | Total Time 0.00(0.00)\n",
      "Iter 0581 | Time 60.7055(57.8310) | Bit/dim 4.7299(4.8420) | Xent 1.8224(1.8594) | Loss 11.9362(12.9347) | Error 0.6414(0.6513) Steps 520(538.39) | Grad Norm 15.3397(33.5967) | Total Time 0.00(0.00)\n",
      "Iter 0582 | Time 60.7220(57.9177) | Bit/dim 4.7208(4.8383) | Xent 1.8189(1.8582) | Loss 12.1981(12.9126) | Error 0.6364(0.6509) Steps 568(539.27) | Grad Norm 17.1892(33.1045) | Total Time 0.00(0.00)\n",
      "validating...\n",
      "Epoch 0097 | Time 22.7148, Epoch Time 395.2903(349.6200), Bit/dim 4.7318(best: 4.7405), Xent 1.7984, Loss 5.6310, Error 0.6344(best: 0.6015)\n",
      "===> Using batch size 8000. Total 6 iterations/epoch.\n"
     ]
    },
    {
     "name": "stdout",
     "output_type": "stream",
     "text": [
      "24.191616766467064\n",
      "24.191616766467064\n",
      "24.191616766467064\n",
      "24.191616766467064\n",
      "24.191616766467064\n",
      "24.191616766467064\n",
      "24.191616766467064\n",
      "24.191616766467064\n",
      "24.191616766467064\n",
      "24.191616766467064\n",
      "24.191616766467064\n",
      "24.191616766467064\n",
      "24.191616766467064\n",
      "24.191616766467064\n"
     ]
    },
    {
     "name": "stderr",
     "output_type": "stream",
     "text": [
      "Iter 0583 | Time 61.5616(58.0270) | Bit/dim 4.7247(4.8349) | Xent 1.8463(1.8579) | Loss 14.8828(12.9717) | Error 0.6566(0.6511) Steps 568(540.14) | Grad Norm 21.4709(32.7555) | Total Time 0.00(0.00)\n",
      "Iter 0584 | Time 54.5936(57.9240) | Bit/dim 4.6933(4.8307) | Xent 1.7574(1.8548) | Loss 12.0878(12.9452) | Error 0.6079(0.6498) Steps 526(539.71) | Grad Norm 5.7084(31.9440) | Total Time 0.00(0.00)\n",
      "Iter 0585 | Time 57.0812(57.8987) | Bit/dim 4.7079(4.8270) | Xent 1.7792(1.8526) | Loss 12.3491(12.9273) | Error 0.6250(0.6490) Steps 526(539.30) | Grad Norm 15.9978(31.4657) | Total Time 0.00(0.00)\n",
      "Iter 0586 | Time 52.0388(57.7229) | Bit/dim 4.7222(4.8239) | Xent 1.7643(1.8499) | Loss 12.1354(12.9035) | Error 0.6181(0.6481) Steps 538(539.26) | Grad Norm 12.5811(30.8991) | Total Time 0.00(0.00)\n",
      "Iter 0587 | Time 57.5058(57.7164) | Bit/dim 4.7131(4.8205) | Xent 1.7507(1.8469) | Loss 12.0775(12.8788) | Error 0.6121(0.6470) Steps 550(539.58) | Grad Norm 10.5767(30.2894) | Total Time 0.00(0.00)\n",
      "Iter 0588 | Time 61.8885(57.8416) | Bit/dim 4.7206(4.8175) | Xent 1.7788(1.8449) | Loss 12.0428(12.8537) | Error 0.6295(0.6465) Steps 514(538.82) | Grad Norm 28.7774(30.2441) | Total Time 0.00(0.00)\n",
      "validating...\n",
      "Epoch 0098 | Time 22.5748, Epoch Time 382.8107(350.6158), Bit/dim 4.7044(best: 4.7318), Xent 1.6983, Loss 5.5535, Error 0.5892(best: 0.6015)\n",
      "===> Using batch size 8000. Total 6 iterations/epoch.\n"
     ]
    },
    {
     "name": "stdout",
     "output_type": "stream",
     "text": [
      "24.131736526946106\n",
      "24.131736526946106\n",
      "24.131736526946106\n",
      "24.131736526946106\n",
      "24.131736526946106\n",
      "24.131736526946106\n",
      "24.131736526946106\n",
      "24.131736526946106\n",
      "24.131736526946106\n",
      "24.131736526946106\n",
      "24.131736526946106\n",
      "24.131736526946106\n",
      "24.131736526946106\n",
      "24.131736526946106\n"
     ]
    },
    {
     "name": "stderr",
     "output_type": "stream",
     "text": [
      "Iter 0589 | Time 52.9075(57.6936) | Bit/dim 4.7012(4.8140) | Xent 1.7354(1.8416) | Loss 14.6644(12.9080) | Error 0.6015(0.6451) Steps 538(538.79) | Grad Norm 13.6677(29.7468) | Total Time 0.00(0.00)\n",
      "Iter 0590 | Time 56.8785(57.6691) | Bit/dim 4.7002(4.8106) | Xent 1.7454(1.8387) | Loss 11.9584(12.8795) | Error 0.6089(0.6441) Steps 520(538.23) | Grad Norm 14.3923(29.2862) | Total Time 0.00(0.00)\n",
      "Iter 0591 | Time 61.5822(57.7865) | Bit/dim 4.6934(4.8071) | Xent 1.7966(1.8375) | Loss 12.3724(12.8643) | Error 0.6351(0.6438) Steps 586(539.66) | Grad Norm 32.1818(29.3730) | Total Time 0.00(0.00)\n",
      "Iter 0592 | Time 54.9096(57.7002) | Bit/dim 4.6869(4.8035) | Xent 1.7175(1.8339) | Loss 11.8630(12.8343) | Error 0.6028(0.6426) Steps 544(539.79) | Grad Norm 7.2606(28.7097) | Total Time 0.00(0.00)\n",
      "Iter 0593 | Time 56.2215(57.6558) | Bit/dim 4.6809(4.7998) | Xent 1.7620(1.8317) | Loss 11.8439(12.8045) | Error 0.6193(0.6419) Steps 550(540.10) | Grad Norm 26.0306(28.6293) | Total Time 0.00(0.00)\n",
      "Iter 0594 | Time 57.5973(57.6541) | Bit/dim 4.6852(4.7964) | Xent 1.7561(1.8294) | Loss 12.3633(12.7913) | Error 0.6220(0.6413) Steps 562(540.75) | Grad Norm 34.4225(28.8031) | Total Time 0.00(0.00)\n",
      "validating...\n",
      "Epoch 0099 | Time 22.3040, Epoch Time 378.0582(351.4390), Bit/dim 4.6787(best: 4.7044), Xent 1.6877, Loss 5.5226, Error 0.5918(best: 0.5892)\n",
      "===> Using batch size 8000. Total 6 iterations/epoch.\n"
     ]
    },
    {
     "name": "stdout",
     "output_type": "stream",
     "text": [
      "24.07185628742515\n",
      "24.07185628742515\n",
      "24.07185628742515\n",
      "24.07185628742515\n",
      "24.07185628742515\n",
      "24.07185628742515\n",
      "24.07185628742515\n",
      "24.07185628742515\n",
      "24.07185628742515\n",
      "24.07185628742515\n",
      "24.07185628742515\n",
      "24.07185628742515\n",
      "24.07185628742515\n",
      "24.07185628742515\n"
     ]
    },
    {
     "name": "stderr",
     "output_type": "stream",
     "text": [
      "Iter 0595 | Time 57.8083(57.6587) | Bit/dim 4.6696(4.7926) | Xent 1.7256(1.8263) | Loss 14.8825(12.8540) | Error 0.6041(0.6402) Steps 550(541.03) | Grad Norm 11.2038(28.2751) | Total Time 0.00(0.00)\n",
      "Iter 0596 | Time 61.9543(57.7876) | Bit/dim 4.6704(4.7889) | Xent 1.7670(1.8246) | Loss 12.0772(12.8307) | Error 0.6159(0.6394) Steps 562(541.66) | Grad Norm 27.5206(28.2525) | Total Time 0.00(0.00)\n",
      "Iter 0597 | Time 62.2019(57.9200) | Bit/dim 4.6829(4.7857) | Xent 1.7516(1.8224) | Loss 12.2299(12.8127) | Error 0.6216(0.6389) Steps 508(540.65) | Grad Norm 31.5333(28.3509) | Total Time 0.00(0.00)\n",
      "Iter 0598 | Time 57.5334(57.9084) | Bit/dim 4.6682(4.7822) | Xent 1.7147(1.8191) | Loss 12.0045(12.7885) | Error 0.6030(0.6378) Steps 556(541.11) | Grad Norm 8.9951(27.7702) | Total Time 0.00(0.00)\n",
      "Iter 0599 | Time 59.9610(57.9700) | Bit/dim 4.6670(4.7788) | Xent 1.6988(1.8155) | Loss 12.0306(12.7657) | Error 0.5966(0.6366) Steps 526(540.66) | Grad Norm 12.7040(27.3182) | Total Time 0.00(0.00)\n",
      "Iter 0600 | Time 58.4888(57.9856) | Bit/dim 4.6738(4.7756) | Xent 1.7334(1.8131) | Loss 12.0885(12.7454) | Error 0.6202(0.6361) Steps 544(540.76) | Grad Norm 34.4557(27.5324) | Total Time 0.00(0.00)\n",
      "validating...\n",
      "Epoch 0100 | Time 22.2980, Epoch Time 396.2591(352.7836), Bit/dim 4.6496(best: 4.6787), Xent 1.6759, Loss 5.4875, Error 0.5877(best: 0.5892)\n",
      "===> Using batch size 8000. Total 6 iterations/epoch.\n"
     ]
    },
    {
     "name": "stdout",
     "output_type": "stream",
     "text": [
      "24.01197604790419\n",
      "24.01197604790419\n",
      "24.01197604790419\n",
      "24.01197604790419\n",
      "24.01197604790419\n",
      "24.01197604790419\n",
      "24.01197604790419\n",
      "24.01197604790419\n",
      "24.01197604790419\n",
      "24.01197604790419\n",
      "24.01197604790419\n",
      "24.01197604790419\n",
      "24.01197604790419\n",
      "24.01197604790419\n"
     ]
    },
    {
     "name": "stderr",
     "output_type": "stream",
     "text": [
      "Iter 0601 | Time 59.4272(58.0288) | Bit/dim 4.6564(4.7720) | Xent 1.7076(1.8099) | Loss 15.1394(12.8172) | Error 0.6008(0.6350) Steps 562(541.40) | Grad Norm 13.0017(27.0964) | Total Time 0.00(0.00)\n",
      "Iter 0602 | Time 60.3926(58.0997) | Bit/dim 4.6537(4.7685) | Xent 1.6912(1.8063) | Loss 12.1752(12.7980) | Error 0.5954(0.6338) Steps 598(543.09) | Grad Norm 12.2069(26.6498) | Total Time 0.00(0.00)\n",
      "Iter 0603 | Time 60.5523(58.1733) | Bit/dim 4.6526(4.7650) | Xent 1.7052(1.8033) | Loss 12.1909(12.7798) | Error 0.6005(0.6328) Steps 562(543.66) | Grad Norm 17.3986(26.3722) | Total Time 0.00(0.00)\n",
      "Iter 0604 | Time 64.9260(58.3759) | Bit/dim 4.6707(4.7622) | Xent 1.7258(1.8010) | Loss 12.2640(12.7643) | Error 0.6024(0.6319) Steps 592(545.11) | Grad Norm 28.8281(26.4459) | Total Time 0.00(0.00)\n",
      "Iter 0605 | Time 53.6817(58.2351) | Bit/dim 4.6389(4.7585) | Xent 1.7012(1.7980) | Loss 11.6459(12.7307) | Error 0.5990(0.6309) Steps 544(545.08) | Grad Norm 10.8199(25.9771) | Total Time 0.00(0.00)\n",
      "Iter 0606 | Time 63.4983(58.3929) | Bit/dim 4.6580(4.7555) | Xent 1.7003(1.7951) | Loss 11.9760(12.7081) | Error 0.5980(0.6299) Steps 562(545.59) | Grad Norm 15.8531(25.6734) | Total Time 0.00(0.00)\n",
      "validating...\n",
      "Epoch 0101 | Time 22.4857, Epoch Time 400.9121(354.2275), Bit/dim 4.6618(best: 4.6496), Xent 1.7103, Loss 5.5169, Error 0.5978(best: 0.5877)\n",
      "===> Using batch size 8000. Total 6 iterations/epoch.\n"
     ]
    },
    {
     "name": "stdout",
     "output_type": "stream",
     "text": [
      "23.952095808383234\n",
      "23.952095808383234\n",
      "23.952095808383234\n",
      "23.952095808383234\n",
      "23.952095808383234\n",
      "23.952095808383234\n",
      "23.952095808383234\n",
      "23.952095808383234\n",
      "23.952095808383234\n",
      "23.952095808383234\n",
      "23.952095808383234\n",
      "23.952095808383234\n",
      "23.952095808383234\n",
      "23.952095808383234\n"
     ]
    },
    {
     "name": "stderr",
     "output_type": "stream",
     "text": [
      "Iter 0607 | Time 61.4830(58.4856) | Bit/dim 4.6682(4.7529) | Xent 1.7506(1.7937) | Loss 15.0458(12.7782) | Error 0.6094(0.6293) Steps 550(545.72) | Grad Norm 33.3929(25.9050) | Total Time 0.00(0.00)\n",
      "Iter 0608 | Time 61.7731(58.5843) | Bit/dim 4.6546(4.7499) | Xent 1.6854(1.7905) | Loss 12.0075(12.7551) | Error 0.5913(0.6282) Steps 574(546.57) | Grad Norm 10.5767(25.4451) | Total Time 0.00(0.00)\n",
      "Iter 0609 | Time 63.9867(58.7463) | Bit/dim 4.6656(4.7474) | Xent 1.7510(1.7893) | Loss 12.1632(12.7373) | Error 0.6095(0.6276) Steps 580(547.57) | Grad Norm 42.0867(25.9444) | Total Time 0.00(0.00)\n",
      "Iter 0610 | Time 60.5751(58.8012) | Bit/dim 4.6339(4.7440) | Xent 1.7169(1.7871) | Loss 11.9993(12.7152) | Error 0.6053(0.6270) Steps 538(547.28) | Grad Norm 19.8392(25.7612) | Total Time 0.00(0.00)\n",
      "Iter 0611 | Time 56.9826(58.7466) | Bit/dim 4.6704(4.7418) | Xent 1.7747(1.7867) | Loss 12.0903(12.6965) | Error 0.6299(0.6270) Steps 532(546.82) | Grad Norm 30.9979(25.9183) | Total Time 0.00(0.00)\n",
      "Iter 0612 | Time 58.8415(58.7495) | Bit/dim 4.6222(4.7382) | Xent 1.7115(1.7845) | Loss 11.8886(12.6722) | Error 0.6056(0.6264) Steps 544(546.74) | Grad Norm 22.0285(25.8016) | Total Time 0.00(0.00)\n",
      "validating...\n",
      "Epoch 0102 | Time 22.9145, Epoch Time 402.8684(355.6867), Bit/dim 4.6887(best: 4.6496), Xent 1.8946, Loss 5.6361, Error 0.6725(best: 0.5877)\n",
      "===> Using batch size 8000. Total 6 iterations/epoch.\n"
     ]
    },
    {
     "name": "stdout",
     "output_type": "stream",
     "text": [
      "23.892215568862273\n",
      "23.892215568862273\n",
      "23.892215568862273\n",
      "23.892215568862273\n",
      "23.892215568862273\n",
      "23.892215568862273\n",
      "23.892215568862273\n",
      "23.892215568862273\n",
      "23.892215568862273\n",
      "23.892215568862273\n",
      "23.892215568862273\n",
      "23.892215568862273\n",
      "23.892215568862273\n",
      "23.892215568862273\n"
     ]
    },
    {
     "name": "stderr",
     "output_type": "stream",
     "text": [
      "Iter 0613 | Time 60.5381(58.8032) | Bit/dim 4.6885(4.7367) | Xent 1.9303(1.7889) | Loss 15.6993(12.7630) | Error 0.6711(0.6277) Steps 580(547.74) | Grad Norm 74.4619(27.2614) | Total Time 0.00(0.00)\n",
      "Iter 0614 | Time 61.9919(58.8988) | Bit/dim 4.6960(4.7355) | Xent 1.9811(1.7946) | Loss 12.3898(12.7518) | Error 0.6804(0.6293) Steps 580(548.71) | Grad Norm 74.4292(28.6765) | Total Time 0.00(0.00)\n",
      "Iter 0615 | Time 60.5610(58.9487) | Bit/dim 4.6190(4.7320) | Xent 1.7099(1.7921) | Loss 12.0474(12.7307) | Error 0.5970(0.6284) Steps 604(550.36) | Grad Norm 14.1428(28.2405) | Total Time 0.00(0.00)\n",
      "Iter 0616 | Time 60.9031(59.0073) | Bit/dim 4.6791(4.7304) | Xent 2.0083(1.7986) | Loss 12.2952(12.7176) | Error 0.6984(0.6305) Steps 562(550.71) | Grad Norm 74.8464(29.6386) | Total Time 0.00(0.00)\n",
      "Iter 0617 | Time 58.8388(59.0023) | Bit/dim 4.7014(4.7295) | Xent 2.0010(1.8046) | Loss 12.5993(12.7141) | Error 0.6923(0.6323) Steps 574(551.41) | Grad Norm 60.3726(30.5607) | Total Time 0.00(0.00)\n",
      "Iter 0618 | Time 62.0023(59.0923) | Bit/dim 4.7040(4.7288) | Xent 1.8505(1.8060) | Loss 12.2905(12.7014) | Error 0.6578(0.6331) Steps 556(551.55) | Grad Norm 43.4804(30.9482) | Total Time 0.00(0.00)\n",
      "validating...\n",
      "Epoch 0103 | Time 22.3680, Epoch Time 405.4991(357.1811), Bit/dim 4.6267(best: 4.6496), Xent 1.6973, Loss 5.4753, Error 0.5926(best: 0.5877)\n",
      "===> Using batch size 8000. Total 6 iterations/epoch.\n"
     ]
    },
    {
     "name": "stdout",
     "output_type": "stream",
     "text": [
      "23.83233532934132\n",
      "23.83233532934132\n",
      "23.83233532934132\n",
      "23.83233532934132\n",
      "23.83233532934132\n",
      "23.83233532934132\n",
      "23.83233532934132\n",
      "23.83233532934132\n",
      "23.83233532934132\n",
      "23.83233532934132\n",
      "23.83233532934132\n",
      "23.83233532934132\n",
      "23.83233532934132\n",
      "23.83233532934132\n"
     ]
    },
    {
     "name": "stderr",
     "output_type": "stream",
     "text": [
      "Iter 0619 | Time 64.6984(59.2604) | Bit/dim 4.6132(4.7253) | Xent 1.7208(1.8035) | Loss 15.1753(12.7756) | Error 0.6061(0.6323) Steps 586(552.58) | Grad Norm 23.7967(30.7337) | Total Time 0.00(0.00)\n",
      "Iter 0620 | Time 60.5959(59.3005) | Bit/dim 4.8323(4.7285) | Xent 1.9667(1.8084) | Loss 12.3499(12.7628) | Error 0.6789(0.6337) Steps 574(553.23) | Grad Norm 81.3193(32.2513) | Total Time 0.00(0.00)\n",
      "Iter 0621 | Time 59.0878(59.2941) | Bit/dim 4.8056(4.7308) | Xent 2.0073(1.8143) | Loss 12.6383(12.7591) | Error 0.6831(0.6351) Steps 568(553.67) | Grad Norm 73.6146(33.4922) | Total Time 0.00(0.00)\n",
      "Iter 0622 | Time 54.2090(59.1416) | Bit/dim 4.6331(4.7279) | Xent 1.7533(1.8125) | Loss 11.8991(12.7333) | Error 0.6206(0.6347) Steps 538(553.20) | Grad Norm 17.7849(33.0209) | Total Time 0.00(0.00)\n",
      "Iter 0623 | Time 54.3937(58.9991) | Bit/dim 4.6897(4.7267) | Xent 1.8030(1.8122) | Loss 12.1365(12.7154) | Error 0.6350(0.6347) Steps 556(553.28) | Grad Norm 28.4104(32.8826) | Total Time 0.00(0.00)\n",
      "Iter 0624 | Time 61.4577(59.0729) | Bit/dim 4.6661(4.7249) | Xent 1.8966(1.8148) | Loss 12.2241(12.7006) | Error 0.6847(0.6362) Steps 574(553.90) | Grad Norm 27.0376(32.7073) | Total Time 0.00(0.00)\n",
      "validating...\n",
      "Epoch 0104 | Time 22.2329, Epoch Time 392.4924(358.2404), Bit/dim 4.6307(best: 4.6267), Xent 1.7329, Loss 5.4972, Error 0.6142(best: 0.5877)\n",
      "===> Using batch size 8000. Total 6 iterations/epoch.\n"
     ]
    },
    {
     "name": "stdout",
     "output_type": "stream",
     "text": [
      "23.77245508982036\n",
      "23.77245508982036\n",
      "23.77245508982036\n",
      "23.77245508982036\n",
      "23.77245508982036\n",
      "23.77245508982036\n",
      "23.77245508982036\n",
      "23.77245508982036\n",
      "23.77245508982036\n",
      "23.77245508982036\n",
      "23.77245508982036\n",
      "23.77245508982036\n",
      "23.77245508982036\n",
      "23.77245508982036\n"
     ]
    },
    {
     "name": "stderr",
     "output_type": "stream",
     "text": [
      "Iter 0625 | Time 61.1854(59.1363) | Bit/dim 4.6350(4.7222) | Xent 1.7812(1.8137) | Loss 15.1301(12.7735) | Error 0.6374(0.6363) Steps 544(553.61) | Grad Norm 19.9917(32.3258) | Total Time 0.00(0.00)\n",
      "Iter 0626 | Time 55.1249(59.0159) | Bit/dim 4.6360(4.7196) | Xent 1.9021(1.8164) | Loss 12.1738(12.7555) | Error 0.6700(0.6373) Steps 556(553.68) | Grad Norm 37.0645(32.4680) | Total Time 0.00(0.00)\n",
      "Iter 0627 | Time 61.7054(59.0966) | Bit/dim 4.6697(4.7181) | Xent 1.8986(1.8189) | Loss 12.2110(12.7392) | Error 0.6801(0.6386) Steps 568(554.11) | Grad Norm 32.4786(32.4683) | Total Time 0.00(0.00)\n",
      "Iter 0628 | Time 56.3932(59.0155) | Bit/dim 4.6871(4.7172) | Xent 1.8352(1.8194) | Loss 12.1785(12.7224) | Error 0.6476(0.6388) Steps 568(554.53) | Grad Norm 23.3452(32.1946) | Total Time 0.00(0.00)\n",
      "Iter 0629 | Time 57.8229(58.9797) | Bit/dim 4.6342(4.7147) | Xent 1.7977(1.8187) | Loss 11.8186(12.6953) | Error 0.6318(0.6386) Steps 574(555.11) | Grad Norm 22.2025(31.8948) | Total Time 0.00(0.00)\n",
      "Iter 0630 | Time 61.9942(59.0702) | Bit/dim 4.6206(4.7119) | Xent 1.7922(1.8179) | Loss 12.2323(12.6814) | Error 0.6294(0.6383) Steps 556(555.14) | Grad Norm 29.7455(31.8304) | Total Time 0.00(0.00)\n",
      "validating...\n",
      "Epoch 0105 | Time 22.1935, Epoch Time 392.0945(359.2561), Bit/dim 4.6516(best: 4.6267), Xent 1.7237, Loss 5.5135, Error 0.6078(best: 0.5877)\n",
      "===> Using batch size 8000. Total 6 iterations/epoch.\n"
     ]
    },
    {
     "name": "stdout",
     "output_type": "stream",
     "text": [
      "23.7125748502994\n",
      "23.7125748502994\n",
      "23.7125748502994\n",
      "23.7125748502994\n",
      "23.7125748502994\n",
      "23.7125748502994\n",
      "23.7125748502994\n",
      "23.7125748502994\n",
      "23.7125748502994\n",
      "23.7125748502994\n",
      "23.7125748502994\n",
      "23.7125748502994\n",
      "23.7125748502994\n",
      "23.7125748502994\n"
     ]
    },
    {
     "name": "stderr",
     "output_type": "stream",
     "text": [
      "Iter 0631 | Time 58.4279(59.0509) | Bit/dim 4.6498(4.7100) | Xent 1.7800(1.8168) | Loss 14.8486(12.7464) | Error 0.6267(0.6380) Steps 568(555.52) | Grad Norm 21.5616(31.5223) | Total Time 0.00(0.00)\n",
      "Iter 0632 | Time 60.2498(59.0869) | Bit/dim 4.6718(4.7089) | Xent 1.8504(1.8178) | Loss 11.6755(12.7143) | Error 0.6594(0.6386) Steps 592(556.62) | Grad Norm 42.9153(31.8641) | Total Time 0.00(0.00)\n",
      "Iter 0633 | Time 54.9065(58.9615) | Bit/dim 4.6449(4.7070) | Xent 1.7952(1.8171) | Loss 12.0125(12.6932) | Error 0.6458(0.6388) Steps 550(556.42) | Grad Norm 25.5510(31.6747) | Total Time 0.00(0.00)\n",
      "Iter 0634 | Time 59.5964(58.9805) | Bit/dim 4.6631(4.7056) | Xent 1.8089(1.8168) | Loss 11.9598(12.6712) | Error 0.6412(0.6389) Steps 580(557.13) | Grad Norm 29.8903(31.6212) | Total Time 0.00(0.00)\n",
      "Iter 0635 | Time 61.5923(59.0589) | Bit/dim 4.6317(4.7034) | Xent 1.7984(1.8163) | Loss 12.0441(12.6524) | Error 0.6364(0.6388) Steps 592(558.17) | Grad Norm 24.3223(31.4022) | Total Time 0.00(0.00)\n",
      "Iter 0636 | Time 58.9807(59.0565) | Bit/dim 4.6556(4.7020) | Xent 1.7747(1.8150) | Loss 12.0411(12.6341) | Error 0.6265(0.6385) Steps 556(558.11) | Grad Norm 32.2448(31.4275) | Total Time 0.00(0.00)\n",
      "validating...\n",
      "Epoch 0106 | Time 22.8490, Epoch Time 392.6530(360.2580), Bit/dim 4.6263(best: 4.6267), Xent 1.7057, Loss 5.4791, Error 0.5953(best: 0.5877)\n",
      "===> Using batch size 8000. Total 6 iterations/epoch.\n"
     ]
    },
    {
     "name": "stdout",
     "output_type": "stream",
     "text": [
      "23.652694610778443\n",
      "23.652694610778443\n",
      "23.652694610778443\n",
      "23.652694610778443\n",
      "23.652694610778443\n",
      "23.652694610778443\n",
      "23.652694610778443\n",
      "23.652694610778443\n",
      "23.652694610778443\n",
      "23.652694610778443\n",
      "23.652694610778443\n",
      "23.652694610778443\n",
      "23.652694610778443\n",
      "23.652694610778443\n"
     ]
    },
    {
     "name": "stderr",
     "output_type": "stream",
     "text": [
      "Iter 0637 | Time 55.6017(58.9529) | Bit/dim 4.6220(4.6996) | Xent 1.7436(1.8129) | Loss 14.9216(12.7027) | Error 0.6131(0.6377) Steps 544(557.68) | Grad Norm 13.4587(30.8884) | Total Time 0.00(0.00)\n",
      "Iter 0638 | Time 59.1973(58.9602) | Bit/dim 4.6475(4.6980) | Xent 1.7427(1.8108) | Loss 11.9410(12.6798) | Error 0.6150(0.6370) Steps 598(558.89) | Grad Norm 23.2946(30.6606) | Total Time 0.00(0.00)\n",
      "Iter 0639 | Time 63.3852(59.0930) | Bit/dim 4.6077(4.6953) | Xent 1.7735(1.8097) | Loss 12.0690(12.6615) | Error 0.6249(0.6367) Steps 616(560.61) | Grad Norm 12.3905(30.1125) | Total Time 0.00(0.00)\n",
      "Iter 0640 | Time 60.9282(59.1480) | Bit/dim 4.6343(4.6935) | Xent 1.7173(1.8069) | Loss 11.8433(12.6370) | Error 0.5991(0.6355) Steps 520(559.39) | Grad Norm 24.9973(29.9590) | Total Time 0.00(0.00)\n",
      "Iter 0641 | Time 60.3434(59.1839) | Bit/dim 4.6130(4.6911) | Xent 1.7251(1.8045) | Loss 11.6638(12.6078) | Error 0.5985(0.6344) Steps 514(558.03) | Grad Norm 9.3382(29.3404) | Total Time 0.00(0.00)\n",
      "Iter 0642 | Time 59.1950(59.1842) | Bit/dim 4.6256(4.6891) | Xent 1.7275(1.8021) | Loss 12.2118(12.5959) | Error 0.6025(0.6335) Steps 592(559.05) | Grad Norm 14.5217(28.8958) | Total Time 0.00(0.00)\n",
      "validating...\n",
      "Epoch 0107 | Time 22.5087, Epoch Time 396.5727(361.3474), Bit/dim 4.6235(best: 4.6263), Xent 1.6674, Loss 5.4572, Error 0.5833(best: 0.5877)\n",
      "===> Using batch size 8000. Total 6 iterations/epoch.\n"
     ]
    },
    {
     "name": "stdout",
     "output_type": "stream",
     "text": [
      "23.592814371257486\n",
      "23.592814371257486\n",
      "23.592814371257486\n",
      "23.592814371257486\n",
      "23.592814371257486\n",
      "23.592814371257486\n",
      "23.592814371257486\n",
      "23.592814371257486\n",
      "23.592814371257486\n",
      "23.592814371257486\n",
      "23.592814371257486\n",
      "23.592814371257486\n",
      "23.592814371257486\n",
      "23.592814371257486\n"
     ]
    },
    {
     "name": "stderr",
     "output_type": "stream",
     "text": [
      "Iter 0643 | Time 57.8370(59.1438) | Bit/dim 4.6236(4.6871) | Xent 1.7319(1.8000) | Loss 15.0087(12.6683) | Error 0.6121(0.6328) Steps 538(558.41) | Grad Norm 20.2988(28.6379) | Total Time 0.00(0.00)\n",
      "Iter 0644 | Time 65.6705(59.3396) | Bit/dim 4.5942(4.6844) | Xent 1.7160(1.7975) | Loss 11.9661(12.6472) | Error 0.6033(0.6319) Steps 532(557.62) | Grad Norm 11.5332(28.1248) | Total Time 0.00(0.00)\n",
      "Iter 0645 | Time 61.4556(59.4031) | Bit/dim 4.5906(4.6815) | Xent 1.6718(1.7937) | Loss 11.9308(12.6257) | Error 0.5884(0.6306) Steps 562(557.75) | Grad Norm 8.5565(27.5377) | Total Time 0.00(0.00)\n",
      "Iter 0646 | Time 58.7655(59.3839) | Bit/dim 4.6018(4.6792) | Xent 1.7225(1.7916) | Loss 12.1205(12.6106) | Error 0.6088(0.6300) Steps 562(557.88) | Grad Norm 21.6562(27.3613) | Total Time 0.00(0.00)\n",
      "Iter 0647 | Time 57.2447(59.3198) | Bit/dim 4.5877(4.6764) | Xent 1.7033(1.7890) | Loss 12.0837(12.5948) | Error 0.5973(0.6290) Steps 550(557.64) | Grad Norm 17.5606(27.0673) | Total Time 0.00(0.00)\n",
      "Iter 0648 | Time 62.2334(59.4072) | Bit/dim 4.5868(4.6737) | Xent 1.6839(1.7858) | Loss 12.0433(12.5782) | Error 0.5961(0.6280) Steps 556(557.59) | Grad Norm 3.7516(26.3678) | Total Time 0.00(0.00)\n",
      "validating...\n",
      "Epoch 0108 | Time 23.4174, Epoch Time 402.3624(362.5779), Bit/dim 4.5884(best: 4.6235), Xent 1.6568, Loss 5.4168, Error 0.5804(best: 0.5833)\n",
      "===> Using batch size 8000. Total 6 iterations/epoch.\n"
     ]
    },
    {
     "name": "stdout",
     "output_type": "stream",
     "text": [
      "23.532934131736525\n",
      "23.532934131736525\n",
      "23.532934131736525\n",
      "23.532934131736525\n",
      "23.532934131736525\n",
      "23.532934131736525\n",
      "23.532934131736525\n",
      "23.532934131736525\n",
      "23.532934131736525\n",
      "23.532934131736525\n",
      "23.532934131736525\n",
      "23.532934131736525\n",
      "23.532934131736525\n",
      "23.532934131736525\n"
     ]
    },
    {
     "name": "stderr",
     "output_type": "stream",
     "text": [
      "Iter 0649 | Time 59.9641(59.4239) | Bit/dim 4.5989(4.6715) | Xent 1.6945(1.7831) | Loss 15.0379(12.6520) | Error 0.5926(0.6269) Steps 586(558.45) | Grad Norm 23.3276(26.2766) | Total Time 0.00(0.00)\n",
      "Iter 0650 | Time 57.1835(59.3567) | Bit/dim 4.5756(4.6686) | Xent 1.6817(1.7800) | Loss 11.9412(12.6307) | Error 0.5861(0.6257) Steps 574(558.91) | Grad Norm 22.7217(26.1700) | Total Time 0.00(0.00)\n",
      "Iter 0651 | Time 60.7036(59.3971) | Bit/dim 4.5703(4.6657) | Xent 1.6803(1.7770) | Loss 11.7168(12.6033) | Error 0.6008(0.6250) Steps 562(559.01) | Grad Norm 14.1681(25.8099) | Total Time 0.00(0.00)\n",
      "Iter 0652 | Time 60.9513(59.4437) | Bit/dim 4.5774(4.6630) | Xent 1.6481(1.7732) | Loss 11.8330(12.5802) | Error 0.5836(0.6237) Steps 556(558.92) | Grad Norm 9.0609(25.3074) | Total Time 0.00(0.00)\n",
      "Iter 0653 | Time 61.7682(59.5134) | Bit/dim 4.5741(4.6603) | Xent 1.6971(1.7709) | Loss 11.9311(12.5607) | Error 0.6002(0.6230) Steps 634(561.17) | Grad Norm 11.4248(24.8910) | Total Time 0.00(0.00)\n",
      "Iter 0654 | Time 62.6512(59.6076) | Bit/dim 4.5719(4.6577) | Xent 1.6954(1.7686) | Loss 11.8870(12.5405) | Error 0.5974(0.6223) Steps 550(560.83) | Grad Norm 19.0343(24.7153) | Total Time 0.00(0.00)\n",
      "validating...\n",
      "Epoch 0109 | Time 23.3217, Epoch Time 402.9529(363.7891), Bit/dim 4.5876(best: 4.5884), Xent 1.6596, Loss 5.4173, Error 0.5788(best: 0.5804)\n",
      "===> Using batch size 8000. Total 6 iterations/epoch.\n"
     ]
    },
    {
     "name": "stdout",
     "output_type": "stream",
     "text": [
      "23.47305389221557\n",
      "23.47305389221557\n",
      "23.47305389221557\n",
      "23.47305389221557\n",
      "23.47305389221557\n",
      "23.47305389221557\n",
      "23.47305389221557\n",
      "23.47305389221557\n",
      "23.47305389221557\n",
      "23.47305389221557\n",
      "23.47305389221557\n",
      "23.47305389221557\n",
      "23.47305389221557\n",
      "23.47305389221557\n"
     ]
    },
    {
     "name": "stderr",
     "output_type": "stream",
     "text": [
      "Iter 0655 | Time 61.8979(59.6763) | Bit/dim 4.5880(4.6556) | Xent 1.6974(1.7665) | Loss 14.9154(12.6117) | Error 0.5973(0.6215) Steps 598(561.95) | Grad Norm 25.1555(24.7285) | Total Time 0.00(0.00)\n",
      "Iter 0656 | Time 60.6307(59.7049) | Bit/dim 4.5656(4.6529) | Xent 1.6790(1.7639) | Loss 11.8038(12.5875) | Error 0.5906(0.6206) Steps 592(562.85) | Grad Norm 12.3784(24.3580) | Total Time 0.00(0.00)\n",
      "Iter 0657 | Time 64.4768(59.8481) | Bit/dim 4.5694(4.6504) | Xent 1.6781(1.7613) | Loss 11.9142(12.5673) | Error 0.5956(0.6198) Steps 556(562.64) | Grad Norm 14.2005(24.0532) | Total Time 0.00(0.00)\n",
      "Iter 0658 | Time 60.5236(59.8683) | Bit/dim 4.5765(4.6482) | Xent 1.6870(1.7591) | Loss 11.9239(12.5480) | Error 0.5965(0.6191) Steps 592(563.52) | Grad Norm 24.7891(24.0753) | Total Time 0.00(0.00)\n",
      "Iter 0659 | Time 63.4693(59.9764) | Bit/dim 4.5530(4.6453) | Xent 1.6797(1.7567) | Loss 11.9926(12.5313) | Error 0.5966(0.6185) Steps 556(563.30) | Grad Norm 24.7019(24.0941) | Total Time 0.00(0.00)\n",
      "Iter 0660 | Time 60.9744(60.0063) | Bit/dim 4.5448(4.6423) | Xent 1.6989(1.7549) | Loss 11.9173(12.5129) | Error 0.6058(0.6181) Steps 592(564.16) | Grad Norm 19.5629(23.9582) | Total Time 0.00(0.00)\n",
      "validating...\n",
      "Epoch 0110 | Time 22.9009, Epoch Time 411.5263(365.2212), Bit/dim 4.5587(best: 4.5876), Xent 1.6245, Loss 5.3710, Error 0.5663(best: 0.5788)\n",
      "===> Using batch size 8000. Total 6 iterations/epoch.\n"
     ]
    },
    {
     "name": "stdout",
     "output_type": "stream",
     "text": [
      "23.41317365269461\n",
      "23.41317365269461\n",
      "23.41317365269461\n",
      "23.41317365269461\n",
      "23.41317365269461\n",
      "23.41317365269461\n",
      "23.41317365269461\n",
      "23.41317365269461\n",
      "23.41317365269461\n",
      "23.41317365269461\n",
      "23.41317365269461\n",
      "23.41317365269461\n",
      "23.41317365269461\n",
      "23.41317365269461\n"
     ]
    },
    {
     "name": "stderr",
     "output_type": "stream",
     "text": [
      "Iter 0661 | Time 66.0221(60.1868) | Bit/dim 4.5485(4.6395) | Xent 1.6842(1.7528) | Loss 14.6843(12.5780) | Error 0.5924(0.6173) Steps 580(564.64) | Grad Norm 15.9969(23.7193) | Total Time 0.00(0.00)\n",
      "Iter 0662 | Time 56.3694(60.0723) | Bit/dim 4.5550(4.6370) | Xent 1.6937(1.7510) | Loss 11.8828(12.5572) | Error 0.6026(0.6169) Steps 574(564.92) | Grad Norm 35.2116(24.0641) | Total Time 0.00(0.00)\n",
      "Iter 0663 | Time 63.6622(60.1800) | Bit/dim 4.5486(4.6343) | Xent 1.6696(1.7486) | Loss 11.8493(12.5360) | Error 0.5924(0.6161) Steps 598(565.91) | Grad Norm 20.5532(23.9588) | Total Time 0.00(0.00)\n",
      "Iter 0664 | Time 62.7549(60.2572) | Bit/dim 4.5565(4.6320) | Xent 1.6664(1.7461) | Loss 12.0223(12.5205) | Error 0.5809(0.6151) Steps 586(566.51) | Grad Norm 11.6235(23.5887) | Total Time 0.00(0.00)\n",
      "Iter 0665 | Time 62.7880(60.3331) | Bit/dim 4.5625(4.6299) | Xent 1.7205(1.7454) | Loss 11.7325(12.4969) | Error 0.6124(0.6150) Steps 622(568.18) | Grad Norm 39.2929(24.0598) | Total Time 0.00(0.00)\n",
      "Iter 0666 | Time 64.0296(60.4440) | Bit/dim 4.5353(4.6270) | Xent 1.6583(1.7428) | Loss 11.6366(12.4711) | Error 0.5861(0.6141) Steps 562(567.99) | Grad Norm 18.3510(23.8886) | Total Time 0.00(0.00)\n",
      "validating...\n",
      "Epoch 0111 | Time 22.7390, Epoch Time 415.6139(366.7330), Bit/dim 4.5320(best: 4.5587), Xent 1.5929, Loss 5.3285, Error 0.5595(best: 0.5663)\n",
      "===> Using batch size 8000. Total 6 iterations/epoch.\n"
     ]
    },
    {
     "name": "stdout",
     "output_type": "stream",
     "text": [
      "23.353293413173652\n",
      "23.353293413173652\n",
      "23.353293413173652\n",
      "23.353293413173652\n",
      "23.353293413173652\n",
      "23.353293413173652\n",
      "23.353293413173652\n",
      "23.353293413173652\n",
      "23.353293413173652\n",
      "23.353293413173652\n",
      "23.353293413173652\n",
      "23.353293413173652\n",
      "23.353293413173652\n",
      "23.353293413173652\n"
     ]
    },
    {
     "name": "stderr",
     "output_type": "stream",
     "text": [
      "Iter 0667 | Time 55.0323(60.2817) | Bit/dim 4.5301(4.6241) | Xent 1.6586(1.7402) | Loss 14.8033(12.5411) | Error 0.5814(0.6131) Steps 586(568.53) | Grad Norm 4.3914(23.3037) | Total Time 0.00(0.00)\n",
      "Iter 0668 | Time 62.6229(60.3519) | Bit/dim 4.5456(4.6218) | Xent 1.6493(1.7375) | Loss 11.5601(12.5116) | Error 0.5833(0.6122) Steps 556(568.16) | Grad Norm 18.1614(23.1494) | Total Time 0.00(0.00)\n",
      "Iter 0669 | Time 60.5020(60.3564) | Bit/dim 4.5482(4.6196) | Xent 1.7424(1.7377) | Loss 11.8231(12.4910) | Error 0.6155(0.6123) Steps 556(567.79) | Grad Norm 37.1789(23.5703) | Total Time 0.00(0.00)\n",
      "Iter 0670 | Time 57.4170(60.2682) | Bit/dim 4.5435(4.6173) | Xent 1.6538(1.7351) | Loss 11.5730(12.4634) | Error 0.5876(0.6116) Steps 592(568.52) | Grad Norm 13.8361(23.2783) | Total Time 0.00(0.00)\n",
      "Iter 0671 | Time 69.1151(60.5336) | Bit/dim 4.5628(4.6157) | Xent 1.8080(1.7373) | Loss 11.9172(12.4471) | Error 0.6310(0.6122) Steps 580(568.86) | Grad Norm 58.7574(24.3426) | Total Time 0.00(0.00)\n",
      "Iter 0672 | Time 55.4151(60.3801) | Bit/dim 4.5313(4.6131) | Xent 1.7076(1.7364) | Loss 11.8685(12.4297) | Error 0.5971(0.6117) Steps 580(569.20) | Grad Norm 31.6324(24.5613) | Total Time 0.00(0.00)\n",
      "validating...\n",
      "Epoch 0112 | Time 23.0988, Epoch Time 400.6003(367.7490), Bit/dim 4.5606(best: 4.5320), Xent 1.7423, Loss 5.4317, Error 0.6167(best: 0.5595)\n",
      "===> Using batch size 8000. Total 6 iterations/epoch.\n"
     ]
    },
    {
     "name": "stdout",
     "output_type": "stream",
     "text": [
      "23.293413173652695\n",
      "23.293413173652695\n",
      "23.293413173652695\n",
      "23.293413173652695\n",
      "23.293413173652695\n",
      "23.293413173652695\n",
      "23.293413173652695\n",
      "23.293413173652695\n",
      "23.293413173652695\n",
      "23.293413173652695\n",
      "23.293413173652695\n",
      "23.293413173652695\n",
      "23.293413173652695\n",
      "23.293413173652695\n"
     ]
    },
    {
     "name": "stderr",
     "output_type": "stream",
     "text": [
      "Iter 0673 | Time 58.5033(60.3238) | Bit/dim 4.5514(4.6113) | Xent 1.7883(1.7380) | Loss 15.1099(12.5101) | Error 0.6259(0.6122) Steps 592(569.88) | Grad Norm 38.9470(24.9929) | Total Time 0.00(0.00)\n",
      "Iter 0674 | Time 60.4699(60.3282) | Bit/dim 4.5276(4.6088) | Xent 1.8537(1.7415) | Loss 11.7682(12.4878) | Error 0.6485(0.6132) Steps 574(570.00) | Grad Norm 45.8817(25.6196) | Total Time 0.00(0.00)\n",
      "Iter 0675 | Time 63.8835(60.4348) | Bit/dim 4.5212(4.6061) | Xent 1.6519(1.7388) | Loss 11.7432(12.4655) | Error 0.5866(0.6124) Steps 550(569.40) | Grad Norm 15.6098(25.3193) | Total Time 0.00(0.00)\n",
      "Iter 0676 | Time 61.9763(60.4811) | Bit/dim 4.5895(4.6056) | Xent 1.8433(1.7419) | Loss 12.0618(12.4534) | Error 0.6601(0.6139) Steps 592(570.08) | Grad Norm 36.3313(25.6496) | Total Time 0.00(0.00)\n",
      "Iter 0677 | Time 61.8940(60.5235) | Bit/dim 4.5640(4.6044) | Xent 1.7790(1.7430) | Loss 12.1693(12.4449) | Error 0.6339(0.6145) Steps 568(570.02) | Grad Norm 30.3416(25.7904) | Total Time 0.00(0.00)\n",
      "Iter 0678 | Time 72.4190(60.8803) | Bit/dim 4.5611(4.6031) | Xent 1.7553(1.7434) | Loss 12.1232(12.4352) | Error 0.6250(0.6148) Steps 544(569.24) | Grad Norm 33.7818(26.0301) | Total Time 0.00(0.00)\n",
      "validating...\n",
      "Epoch 0113 | Time 23.4846, Epoch Time 419.7897(369.3102), Bit/dim 4.5306(best: 4.5320), Xent 1.7497, Loss 5.4055, Error 0.6253(best: 0.5595)\n",
      "===> Using batch size 8000. Total 6 iterations/epoch.\n"
     ]
    },
    {
     "name": "stdout",
     "output_type": "stream",
     "text": [
      "23.233532934131738\n",
      "23.233532934131738\n",
      "23.233532934131738\n",
      "23.233532934131738\n",
      "23.233532934131738\n",
      "23.233532934131738\n",
      "23.233532934131738\n",
      "23.233532934131738\n",
      "23.233532934131738\n",
      "23.233532934131738\n",
      "23.233532934131738\n",
      "23.233532934131738\n",
      "23.233532934131738\n",
      "23.233532934131738\n"
     ]
    },
    {
     "name": "stderr",
     "output_type": "stream",
     "text": [
      "Iter 0679 | Time 56.2811(60.7423) | Bit/dim 4.5300(4.6009) | Xent 1.7855(1.7447) | Loss 14.5966(12.5001) | Error 0.6292(0.6152) Steps 568(569.20) | Grad Norm 32.5513(26.2258) | Total Time 0.00(0.00)\n",
      "Iter 0680 | Time 62.5475(60.7965) | Bit/dim 4.5440(4.5992) | Xent 1.7229(1.7440) | Loss 11.6439(12.4744) | Error 0.6008(0.6148) Steps 604(570.24) | Grad Norm 22.3700(26.1101) | Total Time 0.00(0.00)\n",
      "Iter 0681 | Time 64.5852(60.9102) | Bit/dim 4.5928(4.5990) | Xent 1.8760(1.7480) | Loss 12.2462(12.4675) | Error 0.6524(0.6159) Steps 574(570.36) | Grad Norm 64.0034(27.2469) | Total Time 0.00(0.00)\n",
      "Iter 0682 | Time 60.4471(60.8963) | Bit/dim 4.5783(4.5984) | Xent 1.9224(1.7532) | Loss 11.8711(12.4496) | Error 0.6675(0.6175) Steps 604(571.37) | Grad Norm 61.9335(28.2875) | Total Time 0.00(0.00)\n",
      "Iter 0683 | Time 59.1404(60.8436) | Bit/dim 4.5356(4.5965) | Xent 1.7498(1.7531) | Loss 11.8179(12.4307) | Error 0.6201(0.6175) Steps 580(571.63) | Grad Norm 20.6726(28.0590) | Total Time 0.00(0.00)\n",
      "Iter 0684 | Time 58.3331(60.7683) | Bit/dim 4.5196(4.5942) | Xent 1.6989(1.7515) | Loss 11.7558(12.4104) | Error 0.6036(0.6171) Steps 586(572.06) | Grad Norm 22.3671(27.8883) | Total Time 0.00(0.00)\n",
      "validating...\n",
      "Epoch 0114 | Time 24.0749, Epoch Time 403.7631(370.3438), Bit/dim 4.5350(best: 4.5306), Xent 1.6855, Loss 5.3778, Error 0.6013(best: 0.5595)\n",
      "===> Using batch size 8000. Total 6 iterations/epoch.\n"
     ]
    },
    {
     "name": "stdout",
     "output_type": "stream",
     "text": [
      "23.173652694610777\n",
      "23.173652694610777\n",
      "23.173652694610777\n",
      "23.173652694610777\n",
      "23.173652694610777\n",
      "23.173652694610777\n",
      "23.173652694610777\n",
      "23.173652694610777\n",
      "23.173652694610777\n",
      "23.173652694610777\n",
      "23.173652694610777\n",
      "23.173652694610777\n",
      "23.173652694610777\n",
      "23.173652694610777\n"
     ]
    },
    {
     "name": "stderr",
     "output_type": "stream",
     "text": [
      "Iter 0685 | Time 60.3932(60.7570) | Bit/dim 4.5296(4.5922) | Xent 1.7200(1.7505) | Loss 15.1516(12.4927) | Error 0.6145(0.6171) Steps 598(572.84) | Grad Norm 24.9509(27.8002) | Total Time 0.00(0.00)\n",
      "Iter 0686 | Time 56.1876(60.6199) | Bit/dim 4.5266(4.5903) | Xent 1.7034(1.7491) | Loss 11.7463(12.4703) | Error 0.5974(0.6165) Steps 568(572.69) | Grad Norm 15.9393(27.4443) | Total Time 0.00(0.00)\n",
      "Iter 0687 | Time 55.0702(60.4534) | Bit/dim 4.5213(4.5882) | Xent 1.7364(1.7487) | Loss 11.5182(12.4417) | Error 0.6174(0.6165) Steps 556(572.19) | Grad Norm 16.2165(27.1075) | Total Time 0.00(0.00)\n",
      "Iter 0688 | Time 65.6244(60.6086) | Bit/dim 4.5188(4.5861) | Xent 1.6651(1.7462) | Loss 12.0384(12.4296) | Error 0.5919(0.6158) Steps 616(573.50) | Grad Norm 13.1564(26.6890) | Total Time 0.00(0.00)\n",
      "Iter 0689 | Time 58.2529(60.5379) | Bit/dim 4.5198(4.5841) | Xent 1.6880(1.7445) | Loss 11.5553(12.4034) | Error 0.6001(0.6153) Steps 580(573.70) | Grad Norm 16.5851(26.3859) | Total Time 0.00(0.00)\n",
      "Iter 0690 | Time 59.5731(60.5090) | Bit/dim 4.5247(4.5824) | Xent 1.6328(1.7411) | Loss 11.6776(12.3816) | Error 0.5760(0.6141) Steps 562(573.35) | Grad Norm 11.1515(25.9288) | Total Time 0.00(0.00)\n",
      "validating...\n",
      "Epoch 0115 | Time 23.3684, Epoch Time 396.6637(371.1334), Bit/dim 4.5089(best: 4.5306), Xent 1.6099, Loss 5.3138, Error 0.5716(best: 0.5595)\n",
      "===> Using batch size 8000. Total 6 iterations/epoch.\n"
     ]
    },
    {
     "name": "stdout",
     "output_type": "stream",
     "text": [
      "23.113772455089823\n",
      "23.113772455089823\n",
      "23.113772455089823\n",
      "23.113772455089823\n",
      "23.113772455089823\n",
      "23.113772455089823\n",
      "23.113772455089823\n",
      "23.113772455089823\n",
      "23.113772455089823\n",
      "23.113772455089823\n",
      "23.113772455089823\n",
      "23.113772455089823\n",
      "23.113772455089823\n",
      "23.113772455089823\n"
     ]
    },
    {
     "name": "stderr",
     "output_type": "stream",
     "text": [
      "Iter 0691 | Time 63.2169(60.5902) | Bit/dim 4.5063(4.5801) | Xent 1.6454(1.7382) | Loss 14.7222(12.4518) | Error 0.5842(0.6132) Steps 574(573.37) | Grad Norm 12.8152(25.5354) | Total Time 0.00(0.00)\n",
      "Iter 0692 | Time 65.3555(60.7332) | Bit/dim 4.5148(4.5781) | Xent 1.6858(1.7367) | Loss 11.8410(12.4335) | Error 0.5909(0.6125) Steps 586(573.75) | Grad Norm 21.7508(25.4219) | Total Time 0.00(0.00)\n",
      "Iter 0693 | Time 59.8584(60.7069) | Bit/dim 4.5144(4.5762) | Xent 1.6736(1.7348) | Loss 11.9153(12.4180) | Error 0.5870(0.6118) Steps 580(573.93) | Grad Norm 23.5061(25.3644) | Total Time 0.00(0.00)\n",
      "Iter 0694 | Time 58.7065(60.6469) | Bit/dim 4.5548(4.5756) | Xent 1.6487(1.7322) | Loss 11.8464(12.4008) | Error 0.5826(0.6109) Steps 568(573.76) | Grad Norm 21.1920(25.2392) | Total Time 0.00(0.00)\n",
      "Iter 0695 | Time 57.1453(60.5419) | Bit/dim 4.5004(4.5733) | Xent 1.6652(1.7302) | Loss 11.5839(12.3763) | Error 0.5946(0.6104) Steps 568(573.58) | Grad Norm 21.0876(25.1147) | Total Time 0.00(0.00)\n",
      "Iter 0696 | Time 61.2425(60.5629) | Bit/dim 4.4926(4.5709) | Xent 1.6950(1.7291) | Loss 11.9200(12.3626) | Error 0.5991(0.6101) Steps 550(572.88) | Grad Norm 18.0182(24.9018) | Total Time 0.00(0.00)\n",
      "validating...\n",
      "Epoch 0116 | Time 23.2181, Epoch Time 406.5282(372.1953), Bit/dim 4.5025(best: 4.5089), Xent 1.5958, Loss 5.3004, Error 0.5601(best: 0.5595)\n",
      "===> Using batch size 8000. Total 6 iterations/epoch.\n"
     ]
    },
    {
     "name": "stdout",
     "output_type": "stream",
     "text": [
      "23.05389221556886\n",
      "23.05389221556886\n",
      "23.05389221556886\n",
      "23.05389221556886\n",
      "23.05389221556886\n",
      "23.05389221556886\n",
      "23.05389221556886\n",
      "23.05389221556886\n",
      "23.05389221556886\n",
      "23.05389221556886\n",
      "23.05389221556886\n",
      "23.05389221556886\n",
      "23.05389221556886\n",
      "23.05389221556886\n"
     ]
    },
    {
     "name": "stderr",
     "output_type": "stream",
     "text": [
      "Iter 0697 | Time 59.8776(60.5423) | Bit/dim 4.4937(4.5686) | Xent 1.6495(1.7267) | Loss 14.8739(12.4380) | Error 0.5895(0.6095) Steps 568(572.73) | Grad Norm 13.4194(24.5573) | Total Time 0.00(0.00)\n",
      "Iter 0698 | Time 56.9338(60.4341) | Bit/dim 4.4924(4.5663) | Xent 1.6263(1.7237) | Loss 11.5412(12.4111) | Error 0.5673(0.6082) Steps 598(573.49) | Grad Norm 11.9259(24.1784) | Total Time 0.00(0.00)\n",
      "Iter 0699 | Time 64.1440(60.5454) | Bit/dim 4.4937(4.5641) | Xent 1.6594(1.7218) | Loss 11.7718(12.3919) | Error 0.5905(0.6077) Steps 622(574.94) | Grad Norm 16.9371(23.9611) | Total Time 0.00(0.00)\n",
      "Iter 0700 | Time 59.8156(60.5235) | Bit/dim 4.4997(4.5622) | Xent 1.6704(1.7203) | Loss 11.9459(12.3785) | Error 0.5825(0.6069) Steps 598(575.63) | Grad Norm 22.2882(23.9109) | Total Time 0.00(0.00)\n",
      "Iter 0701 | Time 63.1565(60.6025) | Bit/dim 4.5095(4.5606) | Xent 1.6520(1.7182) | Loss 11.7042(12.3583) | Error 0.5787(0.6061) Steps 592(576.13) | Grad Norm 26.0276(23.9744) | Total Time 0.00(0.00)\n",
      "Iter 0702 | Time 58.1534(60.5290) | Bit/dim 4.4844(4.5583) | Xent 1.6533(1.7163) | Loss 11.5168(12.3330) | Error 0.5911(0.6056) Steps 550(575.34) | Grad Norm 8.4409(23.5084) | Total Time 0.00(0.00)\n",
      "validating...\n",
      "Epoch 0117 | Time 23.3875, Epoch Time 402.7113(373.1108), Bit/dim 4.4826(best: 4.5025), Xent 1.5890, Loss 5.2771, Error 0.5551(best: 0.5595)\n",
      "===> Using batch size 8000. Total 6 iterations/epoch.\n"
     ]
    },
    {
     "name": "stdout",
     "output_type": "stream",
     "text": [
      "22.994011976047904\n",
      "22.994011976047904\n",
      "22.994011976047904\n",
      "22.994011976047904\n",
      "22.994011976047904\n",
      "22.994011976047904\n",
      "22.994011976047904\n",
      "22.994011976047904\n",
      "22.994011976047904\n",
      "22.994011976047904\n",
      "22.994011976047904\n",
      "22.994011976047904\n",
      "22.994011976047904\n",
      "22.994011976047904\n"
     ]
    },
    {
     "name": "stderr",
     "output_type": "stream",
     "text": [
      "Iter 0703 | Time 63.4070(60.6153) | Bit/dim 4.4885(4.5562) | Xent 1.6491(1.7143) | Loss 14.5914(12.4008) | Error 0.5834(0.6049) Steps 544(574.40) | Grad Norm 9.9059(23.1004) | Total Time 0.00(0.00)\n",
      "Iter 0704 | Time 61.7171(60.6484) | Bit/dim 4.4648(4.5535) | Xent 1.6382(1.7120) | Loss 11.6963(12.3797) | Error 0.5810(0.6042) Steps 610(575.47) | Grad Norm 12.8853(22.7939) | Total Time 0.00(0.00)\n",
      "Iter 0705 | Time 62.4452(60.7023) | Bit/dim 4.4908(4.5516) | Xent 1.6481(1.7101) | Loss 11.8750(12.3645) | Error 0.5771(0.6034) Steps 610(576.51) | Grad Norm 21.5672(22.7571) | Total Time 0.00(0.00)\n",
      "Iter 0706 | Time 61.5230(60.7269) | Bit/dim 4.5381(4.5512) | Xent 1.6679(1.7088) | Loss 11.8060(12.3478) | Error 0.5920(0.6031) Steps 586(576.79) | Grad Norm 36.4734(23.1686) | Total Time 0.00(0.00)\n",
      "Iter 0707 | Time 59.5329(60.6911) | Bit/dim 4.4693(4.5487) | Xent 1.6077(1.7058) | Loss 11.4956(12.3222) | Error 0.5671(0.6020) Steps 610(577.79) | Grad Norm 4.1896(22.5992) | Total Time 0.00(0.00)\n",
      "Iter 0708 | Time 63.8265(60.7851) | Bit/dim 4.5005(4.5473) | Xent 1.6510(1.7041) | Loss 11.7250(12.3043) | Error 0.5885(0.6016) Steps 610(578.75) | Grad Norm 20.1213(22.5249) | Total Time 0.00(0.00)\n",
      "validating...\n",
      "Epoch 0118 | Time 23.4418, Epoch Time 414.2053(374.3436), Bit/dim 4.5414(best: 4.4826), Xent 1.7083, Loss 5.3955, Error 0.6018(best: 0.5551)\n",
      "===> Using batch size 8000. Total 6 iterations/epoch.\n"
     ]
    },
    {
     "name": "stdout",
     "output_type": "stream",
     "text": [
      "22.934131736526947\n",
      "22.934131736526947\n",
      "22.934131736526947\n",
      "22.934131736526947\n",
      "22.934131736526947\n",
      "22.934131736526947\n",
      "22.934131736526947\n",
      "22.934131736526947\n",
      "22.934131736526947\n",
      "22.934131736526947\n",
      "22.934131736526947\n",
      "22.934131736526947\n",
      "22.934131736526947\n",
      "22.934131736526947\n"
     ]
    },
    {
     "name": "stderr",
     "output_type": "stream",
     "text": [
      "Iter 0709 | Time 64.1551(60.8862) | Bit/dim 4.5367(4.5470) | Xent 1.7813(1.7064) | Loss 14.6987(12.3761) | Error 0.6225(0.6022) Steps 586(578.97) | Grad Norm 54.3592(23.4799) | Total Time 0.00(0.00)\n",
      "Iter 0710 | Time 62.4074(60.9319) | Bit/dim 4.4941(4.5454) | Xent 1.6582(1.7050) | Loss 11.4948(12.3497) | Error 0.5910(0.6019) Steps 610(579.90) | Grad Norm 24.9629(23.5244) | Total Time 0.00(0.00)\n",
      "Iter 0711 | Time 59.4095(60.8862) | Bit/dim 4.6185(4.5476) | Xent 1.8357(1.7089) | Loss 12.2259(12.3460) | Error 0.6506(0.6033) Steps 580(579.90) | Grad Norm 48.5738(24.2759) | Total Time 0.00(0.00)\n",
      "Iter 0712 | Time 59.8283(60.8545) | Bit/dim 4.6513(4.5507) | Xent 1.8176(1.7122) | Loss 12.1718(12.3407) | Error 0.6502(0.6047) Steps 592(580.27) | Grad Norm 42.6369(24.8267) | Total Time 0.00(0.00)\n",
      "Iter 0713 | Time 60.8140(60.8533) | Bit/dim 4.4722(4.5483) | Xent 1.6898(1.7115) | Loss 11.5537(12.3171) | Error 0.6055(0.6048) Steps 592(580.62) | Grad Norm 8.1757(24.3272) | Total Time 0.00(0.00)\n",
      "Iter 0714 | Time 60.2260(60.8344) | Bit/dim 4.6854(4.5524) | Xent 1.7374(1.7123) | Loss 12.2122(12.3140) | Error 0.6030(0.6047) Steps 574(580.42) | Grad Norm 46.2363(24.9845) | Total Time 0.00(0.00)\n",
      "validating...\n",
      "Epoch 0119 | Time 22.9954, Epoch Time 408.5876(375.3709), Bit/dim 4.5649(best: 4.4826), Xent 1.6975, Loss 5.4136, Error 0.5983(best: 0.5551)\n",
      "===> Using batch size 8000. Total 6 iterations/epoch.\n"
     ]
    },
    {
     "name": "stdout",
     "output_type": "stream",
     "text": [
      "22.874251497005986\n",
      "22.874251497005986\n",
      "22.874251497005986\n",
      "22.874251497005986\n",
      "22.874251497005986\n",
      "22.874251497005986\n",
      "22.874251497005986\n",
      "22.874251497005986\n",
      "22.874251497005986\n",
      "22.874251497005986\n",
      "22.874251497005986\n",
      "22.874251497005986\n",
      "22.874251497005986\n",
      "22.874251497005986\n"
     ]
    },
    {
     "name": "stderr",
     "output_type": "stream",
     "text": [
      "Iter 0715 | Time 58.9631(60.7783) | Bit/dim 4.5528(4.5525) | Xent 1.7452(1.7133) | Loss 15.1034(12.3977) | Error 0.6096(0.6049) Steps 586(580.59) | Grad Norm 32.0837(25.1974) | Total Time 0.00(0.00)\n",
      "Iter 0716 | Time 59.7397(60.7471) | Bit/dim 4.5503(4.5524) | Xent 1.7015(1.7129) | Loss 11.8729(12.3819) | Error 0.5989(0.6047) Steps 562(580.03) | Grad Norm 12.9667(24.8305) | Total Time 0.00(0.00)\n",
      "Iter 0717 | Time 58.0795(60.6671) | Bit/dim 4.5323(4.5518) | Xent 1.7394(1.7137) | Loss 11.9528(12.3690) | Error 0.6188(0.6051) Steps 592(580.39) | Grad Norm 20.8477(24.7110) | Total Time 0.00(0.00)\n",
      "Iter 0718 | Time 61.6055(60.6953) | Bit/dim 4.5201(4.5508) | Xent 1.7510(1.7148) | Loss 11.8970(12.3549) | Error 0.6159(0.6054) Steps 592(580.74) | Grad Norm 15.3350(24.4298) | Total Time 0.00(0.00)\n",
      "Iter 0719 | Time 58.2572(60.6221) | Bit/dim 4.4878(4.5489) | Xent 1.7384(1.7155) | Loss 11.8493(12.3397) | Error 0.6270(0.6061) Steps 586(580.90) | Grad Norm 24.8477(24.4423) | Total Time 0.00(0.00)\n",
      "Iter 0720 | Time 57.1998(60.5195) | Bit/dim 4.5019(4.5475) | Xent 1.6633(1.7140) | Loss 11.2807(12.3079) | Error 0.5889(0.6056) Steps 592(581.23) | Grad Norm 6.7894(23.9127) | Total Time 0.00(0.00)\n",
      "validating...\n",
      "Epoch 0120 | Time 23.5200, Epoch Time 394.9889(375.9594), Bit/dim 4.5014(best: 4.4826), Xent 1.6583, Loss 5.3306, Error 0.5870(best: 0.5551)\n",
      "===> Using batch size 8000. Total 6 iterations/epoch.\n"
     ]
    },
    {
     "name": "stdout",
     "output_type": "stream",
     "text": [
      "22.81437125748503\n",
      "22.81437125748503\n",
      "22.81437125748503\n",
      "22.81437125748503\n",
      "22.81437125748503\n",
      "22.81437125748503\n",
      "22.81437125748503\n",
      "22.81437125748503\n",
      "22.81437125748503\n",
      "22.81437125748503\n",
      "22.81437125748503\n",
      "22.81437125748503\n",
      "22.81437125748503\n",
      "22.81437125748503\n"
     ]
    },
    {
     "name": "stderr",
     "output_type": "stream",
     "text": [
      "Iter 0721 | Time 57.5378(60.4300) | Bit/dim 4.5046(4.5462) | Xent 1.6903(1.7133) | Loss 14.7763(12.3820) | Error 0.6010(0.6054) Steps 580(581.19) | Grad Norm 12.7767(23.5786) | Total Time 0.00(0.00)\n",
      "Iter 0722 | Time 56.7335(60.3191) | Bit/dim 4.4817(4.5443) | Xent 1.6778(1.7122) | Loss 11.6414(12.3598) | Error 0.5881(0.6049) Steps 556(580.44) | Grad Norm 12.1697(23.2364) | Total Time 0.00(0.00)\n",
      "Iter 0723 | Time 63.5322(60.4155) | Bit/dim 4.4775(4.5423) | Xent 1.6483(1.7103) | Loss 11.7530(12.3416) | Error 0.5835(0.6043) Steps 592(580.78) | Grad Norm 6.7721(22.7424) | Total Time 0.00(0.00)\n",
      "Iter 0724 | Time 55.8634(60.2789) | Bit/dim 4.4687(4.5401) | Xent 1.6648(1.7089) | Loss 11.5410(12.3176) | Error 0.5894(0.6038) Steps 544(579.68) | Grad Norm 15.5929(22.5279) | Total Time 0.00(0.00)\n",
      "Iter 0725 | Time 60.0804(60.2730) | Bit/dim 4.4776(4.5382) | Xent 1.6436(1.7070) | Loss 11.7050(12.2992) | Error 0.5900(0.6034) Steps 592(580.05) | Grad Norm 15.6452(22.3215) | Total Time 0.00(0.00)\n",
      "Iter 0726 | Time 63.7625(60.3777) | Bit/dim 4.4723(4.5362) | Xent 1.6523(1.7053) | Loss 11.7931(12.2840) | Error 0.5850(0.6028) Steps 604(580.77) | Grad Norm 9.4351(21.9349) | Total Time 0.00(0.00)\n",
      "validating...\n",
      "Epoch 0121 | Time 23.2497, Epoch Time 398.0789(376.6230), Bit/dim 4.4701(best: 4.4826), Xent 1.5925, Loss 5.2663, Error 0.5630(best: 0.5551)\n",
      "===> Using batch size 8000. Total 6 iterations/epoch.\n"
     ]
    },
    {
     "name": "stdout",
     "output_type": "stream",
     "text": [
      "22.754491017964074\n",
      "22.754491017964074\n",
      "22.754491017964074\n",
      "22.754491017964074\n",
      "22.754491017964074\n",
      "22.754491017964074\n",
      "22.754491017964074\n",
      "22.754491017964074\n",
      "22.754491017964074\n",
      "22.754491017964074\n",
      "22.754491017964074\n",
      "22.754491017964074\n",
      "22.754491017964074\n",
      "22.754491017964074\n"
     ]
    },
    {
     "name": "stderr",
     "output_type": "stream",
     "text": [
      "Iter 0727 | Time 58.9704(60.3355) | Bit/dim 4.4632(4.5341) | Xent 1.6433(1.7035) | Loss 14.4351(12.3485) | Error 0.5825(0.6022) Steps 592(581.10) | Grad Norm 9.6179(21.5654) | Total Time 0.00(0.00)\n",
      "Iter 0728 | Time 65.1337(60.4794) | Bit/dim 4.4592(4.5318) | Xent 1.6383(1.7015) | Loss 11.6573(12.3278) | Error 0.5831(0.6017) Steps 598(581.61) | Grad Norm 10.9198(21.2460) | Total Time 0.00(0.00)\n",
      "Iter 0729 | Time 57.7908(60.3987) | Bit/dim 4.4572(4.5296) | Xent 1.6177(1.6990) | Loss 11.6002(12.3060) | Error 0.5682(0.6007) Steps 556(580.84) | Grad Norm 8.5999(20.8666) | Total Time 0.00(0.00)\n",
      "Iter 0730 | Time 59.5624(60.3736) | Bit/dim 4.4534(4.5273) | Xent 1.6193(1.6966) | Loss 11.7489(12.2893) | Error 0.5757(0.5999) Steps 544(579.74) | Grad Norm 4.8355(20.3857) | Total Time 0.00(0.00)\n",
      "Iter 0731 | Time 63.3738(60.4637) | Bit/dim 4.4564(4.5252) | Xent 1.6246(1.6944) | Loss 11.6080(12.2688) | Error 0.5793(0.5993) Steps 538(578.49) | Grad Norm 14.8191(20.2187) | Total Time 0.00(0.00)\n",
      "Iter 0732 | Time 64.8395(60.5949) | Bit/dim 4.4524(4.5230) | Xent 1.6196(1.6922) | Loss 11.7872(12.2544) | Error 0.5751(0.5986) Steps 556(577.81) | Grad Norm 15.6798(20.0825) | Total Time 0.00(0.00)\n",
      "validating...\n",
      "Epoch 0122 | Time 23.1117, Epoch Time 410.3089(377.6336), Bit/dim 4.4561(best: 4.4701), Xent 1.5694, Loss 5.2408, Error 0.5564(best: 0.5551)\n",
      "===> Using batch size 8000. Total 6 iterations/epoch.\n"
     ]
    },
    {
     "name": "stdout",
     "output_type": "stream",
     "text": [
      "22.694610778443113\n",
      "22.694610778443113\n",
      "22.694610778443113\n",
      "22.694610778443113\n",
      "22.694610778443113\n",
      "22.694610778443113\n",
      "22.694610778443113\n",
      "22.694610778443113\n",
      "22.694610778443113\n",
      "22.694610778443113\n",
      "22.694610778443113\n",
      "22.694610778443113\n",
      "22.694610778443113\n",
      "22.694610778443113\n"
     ]
    },
    {
     "name": "stderr",
     "output_type": "stream",
     "text": [
      "Iter 0733 | Time 59.3103(60.5564) | Bit/dim 4.4478(4.5207) | Xent 1.6295(1.6903) | Loss 14.7219(12.3284) | Error 0.5805(0.5980) Steps 598(578.42) | Grad Norm 17.8196(20.0146) | Total Time 0.00(0.00)\n",
      "Iter 0734 | Time 58.5284(60.4956) | Bit/dim 4.4697(4.5192) | Xent 1.6146(1.6880) | Loss 11.4527(12.3021) | Error 0.5707(0.5972) Steps 580(578.46) | Grad Norm 23.4178(20.1167) | Total Time 0.00(0.00)\n",
      "Iter 0735 | Time 58.4906(60.4354) | Bit/dim 4.4588(4.5174) | Xent 1.6126(1.6858) | Loss 11.5857(12.2806) | Error 0.5760(0.5966) Steps 580(578.51) | Grad Norm 15.8482(19.9887) | Total Time 0.00(0.00)\n",
      "Iter 0736 | Time 62.2745(60.4906) | Bit/dim 4.4436(4.5152) | Xent 1.6291(1.6841) | Loss 11.6074(12.2604) | Error 0.5687(0.5957) Steps 580(578.56) | Grad Norm 12.1604(19.7538) | Total Time 0.00(0.00)\n",
      "Iter 0737 | Time 56.7487(60.3783) | Bit/dim 4.4469(4.5131) | Xent 1.6037(1.6817) | Loss 11.5348(12.2387) | Error 0.5724(0.5950) Steps 568(578.24) | Grad Norm 14.4185(19.5938) | Total Time 0.00(0.00)\n",
      "Iter 0738 | Time 61.2860(60.4056) | Bit/dim 4.4343(4.5108) | Xent 1.5966(1.6791) | Loss 11.3130(12.2109) | Error 0.5661(0.5942) Steps 574(578.11) | Grad Norm 13.6152(19.4144) | Total Time 0.00(0.00)\n",
      "validating...\n",
      "Epoch 0123 | Time 23.6946, Epoch Time 397.8113(378.2389), Bit/dim 4.4338(best: 4.4561), Xent 1.5642, Loss 5.2160, Error 0.5544(best: 0.5551)\n",
      "===> Using batch size 8000. Total 6 iterations/epoch.\n"
     ]
    },
    {
     "name": "stdout",
     "output_type": "stream",
     "text": [
      "22.634730538922156\n",
      "22.634730538922156\n",
      "22.634730538922156\n",
      "22.634730538922156\n",
      "22.634730538922156\n",
      "22.634730538922156\n",
      "22.634730538922156\n",
      "22.634730538922156\n",
      "22.634730538922156\n",
      "22.634730538922156\n",
      "22.634730538922156\n",
      "22.634730538922156\n",
      "22.634730538922156\n",
      "22.634730538922156\n"
     ]
    },
    {
     "name": "stderr",
     "output_type": "stream",
     "text": [
      "Iter 0739 | Time 61.9821(60.4528) | Bit/dim 4.4321(4.5084) | Xent 1.6192(1.6773) | Loss 14.6850(12.2851) | Error 0.5757(0.5936) Steps 550(577.27) | Grad Norm 13.5755(19.2392) | Total Time 0.00(0.00)\n",
      "Iter 0740 | Time 62.2000(60.5053) | Bit/dim 4.4363(4.5062) | Xent 1.6144(1.6754) | Loss 11.5059(12.2617) | Error 0.5687(0.5929) Steps 586(577.53) | Grad Norm 14.9919(19.1118) | Total Time 0.00(0.00)\n",
      "Iter 0741 | Time 62.8887(60.5768) | Bit/dim 4.4350(4.5041) | Xent 1.6178(1.6737) | Loss 11.2778(12.2322) | Error 0.5717(0.5922) Steps 598(578.14) | Grad Norm 15.0086(18.9887) | Total Time 0.00(0.00)\n",
      "Iter 0742 | Time 61.3340(60.5995) | Bit/dim 4.4388(4.5021) | Xent 1.6129(1.6719) | Loss 11.4667(12.2093) | Error 0.5730(0.5917) Steps 610(579.10) | Grad Norm 16.0937(18.9019) | Total Time 0.00(0.00)\n",
      "Iter 0743 | Time 64.7085(60.7228) | Bit/dim 4.4336(4.5001) | Xent 1.5813(1.6692) | Loss 11.4157(12.1855) | Error 0.5593(0.5907) Steps 610(580.03) | Grad Norm 19.1056(18.9080) | Total Time 0.00(0.00)\n",
      "Iter 0744 | Time 61.0118(60.7314) | Bit/dim 4.4209(4.4977) | Xent 1.6332(1.6681) | Loss 11.6039(12.1680) | Error 0.5834(0.5905) Steps 598(580.57) | Grad Norm 23.3592(19.0415) | Total Time 0.00(0.00)\n",
      "validating...\n",
      "Epoch 0124 | Time 23.7015, Epoch Time 415.3880(379.3534), Bit/dim 4.4275(best: 4.4338), Xent 1.5525, Loss 5.2038, Error 0.5482(best: 0.5544)\n",
      "===> Using batch size 8000. Total 6 iterations/epoch.\n"
     ]
    },
    {
     "name": "stdout",
     "output_type": "stream",
     "text": [
      "22.5748502994012\n",
      "22.5748502994012\n",
      "22.5748502994012\n",
      "22.5748502994012\n",
      "22.5748502994012\n",
      "22.5748502994012\n",
      "22.5748502994012\n",
      "22.5748502994012\n",
      "22.5748502994012\n",
      "22.5748502994012\n",
      "22.5748502994012\n",
      "22.5748502994012\n",
      "22.5748502994012\n",
      "22.5748502994012\n"
     ]
    },
    {
     "name": "stderr",
     "output_type": "stream",
     "text": [
      "Iter 0745 | Time 61.9949(60.7693) | Bit/dim 4.4276(4.4956) | Xent 1.6011(1.6661) | Loss 14.5915(12.2407) | Error 0.5761(0.5900) Steps 592(580.91) | Grad Norm 17.8165(19.0048) | Total Time 0.00(0.00)\n",
      "Iter 0746 | Time 61.7315(60.7982) | Bit/dim 4.4244(4.4935) | Xent 1.6084(1.6643) | Loss 11.3471(12.2139) | Error 0.5640(0.5893) Steps 574(580.70) | Grad Norm 15.8643(18.9106) | Total Time 0.00(0.00)\n",
      "Iter 0747 | Time 56.5992(60.6722) | Bit/dim 4.4253(4.4914) | Xent 1.5847(1.6619) | Loss 11.3700(12.1886) | Error 0.5631(0.5885) Steps 580(580.68) | Grad Norm 17.4783(18.8676) | Total Time 0.00(0.00)\n",
      "Iter 0748 | Time 58.7926(60.6158) | Bit/dim 4.4350(4.4897) | Xent 1.6362(1.6612) | Loss 11.3967(12.1648) | Error 0.5904(0.5885) Steps 592(581.02) | Grad Norm 22.8283(18.9864) | Total Time 0.00(0.00)\n",
      "Iter 0749 | Time 62.9052(60.6845) | Bit/dim 4.4204(4.4876) | Xent 1.6121(1.6597) | Loss 11.5704(12.1470) | Error 0.5670(0.5879) Steps 592(581.35) | Grad Norm 19.4935(19.0016) | Total Time 0.00(0.00)\n",
      "Iter 0750 | Time 58.4411(60.6172) | Bit/dim 4.4163(4.4855) | Xent 1.6132(1.6583) | Loss 11.7099(12.1339) | Error 0.5735(0.5875) Steps 610(582.21) | Grad Norm 18.1882(18.9772) | Total Time 0.00(0.00)\n",
      "validating...\n",
      "Epoch 0125 | Time 23.5215, Epoch Time 401.8391(380.0280), Bit/dim 4.4191(best: 4.4275), Xent 1.5639, Loss 5.2010, Error 0.5521(best: 0.5482)\n",
      "===> Using batch size 8000. Total 6 iterations/epoch.\n"
     ]
    },
    {
     "name": "stdout",
     "output_type": "stream",
     "text": [
      "22.51497005988024\n",
      "22.51497005988024\n",
      "22.51497005988024\n",
      "22.51497005988024\n",
      "22.51497005988024\n",
      "22.51497005988024\n",
      "22.51497005988024\n",
      "22.51497005988024\n",
      "22.51497005988024\n",
      "22.51497005988024\n",
      "22.51497005988024\n",
      "22.51497005988024\n",
      "22.51497005988024\n",
      "22.51497005988024\n"
     ]
    },
    {
     "name": "stderr",
     "output_type": "stream",
     "text": [
      "Iter 0751 | Time 61.0338(60.6297) | Bit/dim 4.4113(4.4833) | Xent 1.6134(1.6570) | Loss 14.5229(12.2056) | Error 0.5715(0.5870) Steps 580(582.14) | Grad Norm 23.5114(19.1132) | Total Time 0.00(0.00)\n",
      "Iter 0752 | Time 60.3053(60.6200) | Bit/dim 4.3976(4.4807) | Xent 1.6316(1.6562) | Loss 11.5262(12.1852) | Error 0.5813(0.5868) Steps 586(582.26) | Grad Norm 24.7775(19.2832) | Total Time 0.00(0.00)\n",
      "Iter 0753 | Time 61.4945(60.6462) | Bit/dim 4.4176(4.4788) | Xent 1.6105(1.6548) | Loss 11.6770(12.1699) | Error 0.5751(0.5865) Steps 580(582.19) | Grad Norm 10.5126(19.0201) | Total Time 0.00(0.00)\n",
      "Iter 0754 | Time 60.9117(60.6542) | Bit/dim 4.4116(4.4768) | Xent 1.6037(1.6533) | Loss 11.5246(12.1506) | Error 0.5714(0.5860) Steps 598(582.67) | Grad Norm 11.7668(18.8025) | Total Time 0.00(0.00)\n",
      "Iter 0755 | Time 65.5929(60.8023) | Bit/dim 4.4279(4.4753) | Xent 1.6371(1.6528) | Loss 11.5384(12.1322) | Error 0.5785(0.5858) Steps 610(583.49) | Grad Norm 29.3998(19.1204) | Total Time 0.00(0.00)\n",
      "Iter 0756 | Time 59.1621(60.7531) | Bit/dim 4.3941(4.4729) | Xent 1.5736(1.6504) | Loss 11.2915(12.1070) | Error 0.5545(0.5848) Steps 568(583.02) | Grad Norm 11.3047(18.8859) | Total Time 0.00(0.00)\n",
      "validating...\n",
      "Epoch 0126 | Time 23.2983, Epoch Time 409.2877(380.9058), Bit/dim 4.3990(best: 4.4191), Xent 1.5303, Loss 5.1642, Error 0.5422(best: 0.5482)\n",
      "===> Using batch size 8000. Total 6 iterations/epoch.\n"
     ]
    },
    {
     "name": "stdout",
     "output_type": "stream",
     "text": [
      "22.455089820359284\n",
      "22.455089820359284\n",
      "22.455089820359284\n",
      "22.455089820359284\n",
      "22.455089820359284\n",
      "22.455089820359284\n",
      "22.455089820359284\n",
      "22.455089820359284\n",
      "22.455089820359284\n",
      "22.455089820359284\n",
      "22.455089820359284\n",
      "22.455089820359284\n",
      "22.455089820359284\n",
      "22.455089820359284\n"
     ]
    },
    {
     "name": "stderr",
     "output_type": "stream",
     "text": [
      "Iter 0757 | Time 63.3817(60.8320) | Bit/dim 4.4029(4.4708) | Xent 1.6024(1.6490) | Loss 14.3445(12.1741) | Error 0.5690(0.5844) Steps 616(584.01) | Grad Norm 13.1971(18.7152) | Total Time 0.00(0.00)\n",
      "Iter 0758 | Time 65.7884(60.9807) | Bit/dim 4.4261(4.4695) | Xent 1.6430(1.6488) | Loss 11.7840(12.1624) | Error 0.5766(0.5841) Steps 598(584.43) | Grad Norm 34.1808(19.1792) | Total Time 0.00(0.00)\n",
      "Iter 0759 | Time 59.6092(60.9395) | Bit/dim 4.3958(4.4672) | Xent 1.6014(1.6474) | Loss 11.3848(12.1391) | Error 0.5616(0.5835) Steps 580(584.30) | Grad Norm 10.7896(18.9275) | Total Time 0.00(0.00)\n",
      "Iter 0760 | Time 59.5667(60.8984) | Bit/dim 4.4017(4.4653) | Xent 1.5946(1.6458) | Loss 11.1187(12.1085) | Error 0.5686(0.5830) Steps 586(584.35) | Grad Norm 16.6348(18.8587) | Total Time 0.00(0.00)\n",
      "Iter 0761 | Time 62.3330(60.9414) | Bit/dim 4.4358(4.4644) | Xent 1.6330(1.6454) | Loss 11.7046(12.0964) | Error 0.5776(0.5828) Steps 562(583.68) | Grad Norm 28.4026(19.1451) | Total Time 0.00(0.00)\n",
      "Iter 0762 | Time 59.2868(60.8918) | Bit/dim 4.3875(4.4621) | Xent 1.5641(1.6430) | Loss 11.5259(12.0792) | Error 0.5556(0.5820) Steps 586(583.75) | Grad Norm 15.6865(19.0413) | Total Time 0.00(0.00)\n",
      "validating...\n",
      "Epoch 0127 | Time 22.9307, Epoch Time 410.6094(381.7969), Bit/dim 4.4152(best: 4.3990), Xent 1.6238, Loss 5.2271, Error 0.5811(best: 0.5422)\n",
      "===> Using batch size 8000. Total 6 iterations/epoch.\n"
     ]
    },
    {
     "name": "stdout",
     "output_type": "stream",
     "text": [
      "22.395209580838323\n",
      "22.395209580838323\n",
      "22.395209580838323\n",
      "22.395209580838323\n",
      "22.395209580838323\n",
      "22.395209580838323\n",
      "22.395209580838323\n",
      "22.395209580838323\n",
      "22.395209580838323\n",
      "22.395209580838323\n",
      "22.395209580838323\n",
      "22.395209580838323\n",
      "22.395209580838323\n",
      "22.395209580838323\n"
     ]
    },
    {
     "name": "stderr",
     "output_type": "stream",
     "text": [
      "Iter 0763 | Time 63.0403(60.9562) | Bit/dim 4.4239(4.4609) | Xent 1.6659(1.6437) | Loss 14.6929(12.1577) | Error 0.5966(0.5825) Steps 634(585.25) | Grad Norm 35.0899(19.5228) | Total Time 0.00(0.00)\n",
      "Iter 0764 | Time 63.5585(61.0343) | Bit/dim 4.4000(4.4591) | Xent 1.5905(1.6421) | Loss 11.5489(12.1394) | Error 0.5730(0.5822) Steps 592(585.46) | Grad Norm 14.0931(19.3599) | Total Time 0.00(0.00)\n",
      "Iter 0765 | Time 63.4460(61.1066) | Bit/dim 4.3943(4.4572) | Xent 1.6993(1.6438) | Loss 11.6724(12.1254) | Error 0.5990(0.5827) Steps 592(585.65) | Grad Norm 38.4974(19.9340) | Total Time 0.00(0.00)\n",
      "Iter 0766 | Time 62.9933(61.1632) | Bit/dim 4.3714(4.4546) | Xent 1.6056(1.6427) | Loss 11.2791(12.1000) | Error 0.5695(0.5823) Steps 574(585.30) | Grad Norm 11.8178(19.6905) | Total Time 0.00(0.00)\n",
      "Iter 0767 | Time 58.1453(61.0727) | Bit/dim 4.3971(4.4529) | Xent 1.7527(1.6460) | Loss 11.4484(12.0804) | Error 0.6204(0.5834) Steps 568(584.78) | Grad Norm 43.5244(20.4055) | Total Time 0.00(0.00)\n",
      "Iter 0768 | Time 59.1234(61.0142) | Bit/dim 4.3986(4.4512) | Xent 1.7176(1.6481) | Loss 11.7340(12.0700) | Error 0.6079(0.5842) Steps 556(583.92) | Grad Norm 27.6678(20.6234) | Total Time 0.00(0.00)\n",
      "validating...\n",
      "Epoch 0128 | Time 23.9814, Epoch Time 411.5038(382.6881), Bit/dim 4.4002(best: 4.3990), Xent 1.6410, Loss 5.2207, Error 0.5772(best: 0.5422)\n",
      "===> Using batch size 8000. Total 6 iterations/epoch.\n"
     ]
    },
    {
     "name": "stdout",
     "output_type": "stream",
     "text": [
      "22.335329341317365\n",
      "22.335329341317365\n",
      "22.335329341317365\n",
      "22.335329341317365\n",
      "22.335329341317365\n",
      "22.335329341317365\n",
      "22.335329341317365\n",
      "22.335329341317365\n",
      "22.335329341317365\n",
      "22.335329341317365\n",
      "22.335329341317365\n",
      "22.335329341317365\n",
      "22.335329341317365\n",
      "22.335329341317365\n"
     ]
    },
    {
     "name": "stderr",
     "output_type": "stream",
     "text": [
      "Iter 0769 | Time 60.4217(60.9964) | Bit/dim 4.4068(4.4499) | Xent 1.6750(1.6489) | Loss 14.7217(12.1496) | Error 0.5895(0.5843) Steps 616(584.88) | Grad Norm 35.5154(21.0702) | Total Time 0.00(0.00)\n",
      "Iter 0770 | Time 61.0863(60.9991) | Bit/dim 4.4300(4.4493) | Xent 1.7613(1.6523) | Loss 11.8721(12.1413) | Error 0.6281(0.5856) Steps 574(584.56) | Grad Norm 29.5199(21.3236) | Total Time 0.00(0.00)\n",
      "Iter 0771 | Time 61.9736(61.0284) | Bit/dim 4.3843(4.4474) | Xent 1.6236(1.6514) | Loss 11.5706(12.1242) | Error 0.5809(0.5855) Steps 598(584.96) | Grad Norm 15.3091(21.1432) | Total Time 0.00(0.00)\n",
      "Iter 0772 | Time 61.0923(61.0303) | Bit/dim 4.4617(4.4478) | Xent 1.7960(1.6558) | Loss 11.7677(12.1135) | Error 0.6344(0.5870) Steps 592(585.17) | Grad Norm 52.2313(22.0759) | Total Time 0.00(0.00)\n",
      "Iter 0773 | Time 55.8772(60.8757) | Bit/dim 4.4707(4.4485) | Xent 1.7304(1.6580) | Loss 11.5757(12.0973) | Error 0.6218(0.5880) Steps 580(585.02) | Grad Norm 28.7280(22.2754) | Total Time 0.00(0.00)\n",
      "Iter 0774 | Time 61.3332(60.8894) | Bit/dim 4.4447(4.4484) | Xent 1.7079(1.6595) | Loss 11.5006(12.0794) | Error 0.6075(0.5886) Steps 604(585.59) | Grad Norm 39.0260(22.7779) | Total Time 0.00(0.00)\n",
      "validating...\n",
      "Epoch 0129 | Time 23.7604, Epoch Time 403.6022(383.3155), Bit/dim 4.4031(best: 4.3990), Xent 1.6178, Loss 5.2120, Error 0.5770(best: 0.5422)\n",
      "===> Using batch size 8000. Total 6 iterations/epoch.\n"
     ]
    },
    {
     "name": "stdout",
     "output_type": "stream",
     "text": [
      "22.27544910179641\n",
      "22.27544910179641\n",
      "22.27544910179641\n",
      "22.27544910179641\n",
      "22.27544910179641\n",
      "22.27544910179641\n",
      "22.27544910179641\n",
      "22.27544910179641\n",
      "22.27544910179641\n",
      "22.27544910179641\n",
      "22.27544910179641\n",
      "22.27544910179641\n",
      "22.27544910179641\n",
      "22.27544910179641\n"
     ]
    },
    {
     "name": "stderr",
     "output_type": "stream",
     "text": [
      "Iter 0775 | Time 58.8570(60.8284) | Bit/dim 4.3960(4.4468) | Xent 1.6802(1.6601) | Loss 14.7407(12.1593) | Error 0.6042(0.5891) Steps 568(585.06) | Grad Norm 16.5545(22.5912) | Total Time 0.00(0.00)\n",
      "Iter 0776 | Time 64.7794(60.9470) | Bit/dim 4.4241(4.4461) | Xent 1.6980(1.6613) | Loss 11.4288(12.1373) | Error 0.6054(0.5896) Steps 604(585.63) | Grad Norm 34.9734(22.9627) | Total Time 0.00(0.00)\n",
      "Iter 0777 | Time 68.8240(61.1833) | Bit/dim 4.3923(4.4445) | Xent 1.6749(1.6617) | Loss 11.7491(12.1257) | Error 0.5909(0.5896) Steps 634(587.08) | Grad Norm 19.0043(22.8439) | Total Time 0.00(0.00)\n",
      "Iter 0778 | Time 60.2998(61.1568) | Bit/dim 4.3946(4.4430) | Xent 1.6094(1.6601) | Loss 11.5868(12.1095) | Error 0.5759(0.5892) Steps 568(586.51) | Grad Norm 8.8999(22.4256) | Total Time 0.00(0.00)\n",
      "Iter 0779 | Time 58.1793(61.0675) | Bit/dim 4.4140(4.4421) | Xent 1.6400(1.6595) | Loss 11.6152(12.0947) | Error 0.5861(0.5891) Steps 586(586.49) | Grad Norm 15.1048(22.2060) | Total Time 0.00(0.00)\n",
      "Iter 0780 | Time 62.9053(61.1226) | Bit/dim 4.4013(4.4409) | Xent 1.6559(1.6594) | Loss 11.5683(12.0789) | Error 0.5919(0.5892) Steps 604(587.02) | Grad Norm 26.9880(22.3495) | Total Time 0.00(0.00)\n",
      "validating...\n",
      "Epoch 0130 | Time 22.8324, Epoch Time 414.0652(384.2380), Bit/dim 4.3867(best: 4.3990), Xent 1.5499, Loss 5.1616, Error 0.5477(best: 0.5422)\n",
      "===> Using batch size 8000. Total 6 iterations/epoch.\n"
     ]
    },
    {
     "name": "stdout",
     "output_type": "stream",
     "text": [
      "22.21556886227545\n",
      "22.21556886227545\n",
      "22.21556886227545\n",
      "22.21556886227545\n",
      "22.21556886227545\n",
      "22.21556886227545\n",
      "22.21556886227545\n",
      "22.21556886227545\n",
      "22.21556886227545\n",
      "22.21556886227545\n",
      "22.21556886227545\n",
      "22.21556886227545\n",
      "22.21556886227545\n",
      "22.21556886227545\n"
     ]
    },
    {
     "name": "stderr",
     "output_type": "stream",
     "text": [
      "Iter 0781 | Time 61.7484(61.1414) | Bit/dim 4.3770(4.4390) | Xent 1.5861(1.6572) | Loss 14.6507(12.1561) | Error 0.5687(0.5886) Steps 580(586.81) | Grad Norm 8.1773(21.9243) | Total Time 0.00(0.00)\n",
      "Iter 0782 | Time 65.1177(61.2607) | Bit/dim 4.4001(4.4378) | Xent 1.6127(1.6558) | Loss 11.7220(12.1430) | Error 0.5790(0.5883) Steps 586(586.78) | Grad Norm 22.8615(21.9524) | Total Time 0.00(0.00)\n",
      "Iter 0783 | Time 63.0066(61.3130) | Bit/dim 4.4043(4.4368) | Xent 1.6853(1.6567) | Loss 11.7074(12.1300) | Error 0.5944(0.5885) Steps 586(586.76) | Grad Norm 29.4574(22.1776) | Total Time 0.00(0.00)\n",
      "Iter 0784 | Time 62.7400(61.3558) | Bit/dim 4.3756(4.4350) | Xent 1.5887(1.6547) | Loss 11.3560(12.1068) | Error 0.5667(0.5878) Steps 598(587.09) | Grad Norm 6.1161(21.6957) | Total Time 0.00(0.00)\n",
      "Iter 0785 | Time 63.8103(61.4295) | Bit/dim 4.3970(4.4338) | Xent 1.6450(1.6544) | Loss 11.6758(12.0938) | Error 0.5841(0.5877) Steps 568(586.52) | Grad Norm 31.7889(21.9985) | Total Time 0.00(0.00)\n",
      "Iter 0786 | Time 55.6223(61.2553) | Bit/dim 4.3900(4.4325) | Xent 1.6092(1.6530) | Loss 11.3701(12.0721) | Error 0.5737(0.5873) Steps 580(586.33) | Grad Norm 8.2909(21.5873) | Total Time 0.00(0.00)\n",
      "validating...\n",
      "Epoch 0131 | Time 24.0337, Epoch Time 413.9869(385.1305), Bit/dim 4.3689(best: 4.3867), Xent 1.5675, Loss 5.1527, Error 0.5593(best: 0.5422)\n",
      "===> Using batch size 8000. Total 6 iterations/epoch.\n"
     ]
    },
    {
     "name": "stdout",
     "output_type": "stream",
     "text": [
      "22.15568862275449\n",
      "22.15568862275449\n",
      "22.15568862275449\n",
      "22.15568862275449\n",
      "22.15568862275449\n",
      "22.15568862275449\n",
      "22.15568862275449\n",
      "22.15568862275449\n",
      "22.15568862275449\n",
      "22.15568862275449\n",
      "22.15568862275449\n",
      "22.15568862275449\n",
      "22.15568862275449\n",
      "22.15568862275449\n"
     ]
    },
    {
     "name": "stderr",
     "output_type": "stream",
     "text": [
      "Iter 0787 | Time 55.8276(61.0924) | Bit/dim 4.3628(4.4304) | Xent 1.6353(1.6525) | Loss 14.3215(12.1396) | Error 0.5810(0.5871) Steps 592(586.50) | Grad Norm 17.3448(21.4600) | Total Time 0.00(0.00)\n",
      "Iter 0788 | Time 54.9239(60.9074) | Bit/dim 4.3737(4.4287) | Xent 1.5860(1.6505) | Loss 11.3196(12.1150) | Error 0.5674(0.5865) Steps 574(586.12) | Grad Norm 18.6108(21.3745) | Total Time 0.00(0.00)\n",
      "Iter 0789 | Time 63.1726(60.9753) | Bit/dim 4.3900(4.4276) | Xent 1.5875(1.6486) | Loss 11.6288(12.1004) | Error 0.5613(0.5857) Steps 598(586.48) | Grad Norm 15.6739(21.2035) | Total Time 0.00(0.00)\n",
      "Iter 0790 | Time 67.9897(61.1858) | Bit/dim 4.3967(4.4266) | Xent 1.5824(1.6466) | Loss 11.5679(12.0844) | Error 0.5624(0.5850) Steps 616(587.36) | Grad Norm 19.9494(21.1659) | Total Time 0.00(0.00)\n",
      "Iter 0791 | Time 59.2090(61.1265) | Bit/dim 4.4257(4.4266) | Xent 1.5895(1.6449) | Loss 11.6047(12.0700) | Error 0.5616(0.5843) Steps 604(587.86) | Grad Norm 22.1508(21.1954) | Total Time 0.00(0.00)\n",
      "Iter 0792 | Time 63.0250(61.1834) | Bit/dim 4.3782(4.4252) | Xent 1.6266(1.6444) | Loss 11.3261(12.0477) | Error 0.5784(0.5842) Steps 574(587.45) | Grad Norm 25.2971(21.3185) | Total Time 0.00(0.00)\n",
      "validating...\n",
      "Epoch 0132 | Time 24.3091, Epoch Time 405.8834(385.7531), Bit/dim 4.3628(best: 4.3689), Xent 1.5414, Loss 5.1335, Error 0.5504(best: 0.5422)\n",
      "===> Using batch size 8000. Total 6 iterations/epoch.\n"
     ]
    },
    {
     "name": "stdout",
     "output_type": "stream",
     "text": [
      "22.095808383233532\n",
      "22.095808383233532\n",
      "22.095808383233532\n",
      "22.095808383233532\n",
      "22.095808383233532\n",
      "22.095808383233532\n",
      "22.095808383233532\n",
      "22.095808383233532\n",
      "22.095808383233532\n",
      "22.095808383233532\n",
      "22.095808383233532\n",
      "22.095808383233532\n",
      "22.095808383233532\n",
      "22.095808383233532\n"
     ]
    },
    {
     "name": "stderr",
     "output_type": "stream",
     "text": [
      "Iter 0793 | Time 56.0376(61.0290) | Bit/dim 4.3547(4.4231) | Xent 1.5596(1.6418) | Loss 14.2086(12.1126) | Error 0.5457(0.5830) Steps 586(587.40) | Grad Norm 16.6516(21.1785) | Total Time 0.00(0.00)\n",
      "Iter 0794 | Time 61.3242(61.0379) | Bit/dim 4.3652(4.4213) | Xent 1.5697(1.6397) | Loss 11.2408(12.0864) | Error 0.5568(0.5822) Steps 610(588.08) | Grad Norm 13.9112(20.9605) | Total Time 0.00(0.00)\n",
      "Iter 0795 | Time 58.7573(60.9695) | Bit/dim 4.3770(4.4200) | Xent 1.6333(1.6395) | Loss 11.5245(12.0695) | Error 0.5809(0.5822) Steps 574(587.66) | Grad Norm 33.2081(21.3279) | Total Time 0.00(0.00)\n",
      "Iter 0796 | Time 60.3360(60.9505) | Bit/dim 4.3565(4.4181) | Xent 1.5885(1.6380) | Loss 11.4814(12.0519) | Error 0.5709(0.5818) Steps 598(587.97) | Grad Norm 3.3890(20.7897) | Total Time 0.00(0.00)\n",
      "Iter 0797 | Time 57.8926(60.8587) | Bit/dim 4.3739(4.4168) | Xent 1.6151(1.6373) | Loss 11.5582(12.0371) | Error 0.5755(0.5816) Steps 592(588.09) | Grad Norm 27.7908(20.9998) | Total Time 0.00(0.00)\n",
      "Iter 0798 | Time 62.1649(60.8979) | Bit/dim 4.3480(4.4147) | Xent 1.5720(1.6353) | Loss 11.2612(12.0138) | Error 0.5609(0.5810) Steps 616(588.93) | Grad Norm 12.7521(20.7523) | Total Time 0.00(0.00)\n",
      "validating...\n",
      "Epoch 0133 | Time 23.4503, Epoch Time 397.6409(386.1097), Bit/dim 4.3442(best: 4.3628), Xent 1.5161, Loss 5.1022, Error 0.5382(best: 0.5422)\n",
      "===> Using batch size 8000. Total 6 iterations/epoch.\n"
     ]
    },
    {
     "name": "stdout",
     "output_type": "stream",
     "text": [
      "22.035928143712574\n",
      "22.035928143712574\n",
      "22.035928143712574\n",
      "22.035928143712574\n",
      "22.035928143712574\n",
      "22.035928143712574\n",
      "22.035928143712574\n",
      "22.035928143712574\n",
      "22.035928143712574\n",
      "22.035928143712574\n",
      "22.035928143712574\n",
      "22.035928143712574\n",
      "22.035928143712574\n",
      "22.035928143712574\n"
     ]
    },
    {
     "name": "stderr",
     "output_type": "stream",
     "text": [
      "Iter 0799 | Time 59.8745(60.8672) | Bit/dim 4.3316(4.4122) | Xent 1.5606(1.6331) | Loss 14.7241(12.0951) | Error 0.5590(0.5804) Steps 604(589.38) | Grad Norm 11.8493(20.4852) | Total Time 0.00(0.00)\n",
      "Iter 0800 | Time 65.9694(61.0203) | Bit/dim 4.3555(4.4105) | Xent 1.6099(1.6324) | Loss 11.4759(12.0765) | Error 0.5719(0.5801) Steps 580(589.10) | Grad Norm 24.0349(20.5917) | Total Time 0.00(0.00)\n",
      "Iter 0801 | Time 59.9346(60.9877) | Bit/dim 4.3595(4.4090) | Xent 1.5615(1.6302) | Loss 11.5092(12.0595) | Error 0.5544(0.5793) Steps 610(589.73) | Grad Norm 13.5411(20.3802) | Total Time 0.00(0.00)\n",
      "Iter 0802 | Time 58.0018(60.8981) | Bit/dim 4.3753(4.4080) | Xent 1.5751(1.6286) | Loss 11.4712(12.0419) | Error 0.5576(0.5787) Steps 580(589.43) | Grad Norm 18.4323(20.3218) | Total Time 0.00(0.00)\n",
      "Iter 0803 | Time 66.8808(61.0776) | Bit/dim 4.3504(4.4062) | Xent 1.5817(1.6272) | Loss 11.4851(12.0252) | Error 0.5640(0.5782) Steps 610(590.05) | Grad Norm 19.2815(20.2906) | Total Time 0.00(0.00)\n",
      "Iter 0804 | Time 58.8270(61.0101) | Bit/dim 4.3647(4.4050) | Xent 1.5546(1.6250) | Loss 11.1336(11.9984) | Error 0.5556(0.5776) Steps 580(589.75) | Grad Norm 20.8366(20.3070) | Total Time 0.00(0.00)\n",
      "validating...\n",
      "Epoch 0134 | Time 23.8238, Epoch Time 411.2528(386.8640), Bit/dim 4.3615(best: 4.3442), Xent 1.5708, Loss 5.1469, Error 0.5606(best: 0.5382)\n",
      "===> Using batch size 8000. Total 6 iterations/epoch.\n"
     ]
    },
    {
     "name": "stdout",
     "output_type": "stream",
     "text": [
      "21.976047904191617\n",
      "21.976047904191617\n",
      "21.976047904191617\n",
      "21.976047904191617\n",
      "21.976047904191617\n",
      "21.976047904191617\n",
      "21.976047904191617\n",
      "21.976047904191617\n",
      "21.976047904191617\n",
      "21.976047904191617\n",
      "21.976047904191617\n",
      "21.976047904191617\n",
      "21.976047904191617\n",
      "21.976047904191617\n"
     ]
    },
    {
     "name": "stderr",
     "output_type": "stream",
     "text": [
      "Iter 0805 | Time 57.3637(60.9007) | Bit/dim 4.3626(4.4037) | Xent 1.6244(1.6250) | Loss 14.5697(12.0756) | Error 0.5760(0.5775) Steps 568(589.10) | Grad Norm 36.3085(20.7870) | Total Time 0.00(0.00)\n",
      "Iter 0806 | Time 59.9970(60.8736) | Bit/dim 4.3347(4.4016) | Xent 1.5544(1.6229) | Loss 11.1654(12.0483) | Error 0.5544(0.5768) Steps 604(589.54) | Grad Norm 7.6950(20.3942) | Total Time 0.00(0.00)\n",
      "Iter 0807 | Time 61.8687(60.9034) | Bit/dim 4.3622(4.4005) | Xent 1.6261(1.6230) | Loss 11.3269(12.0266) | Error 0.5796(0.5769) Steps 616(590.34) | Grad Norm 31.8783(20.7388) | Total Time 0.00(0.00)\n",
      "Iter 0808 | Time 58.6447(60.8357) | Bit/dim 4.3387(4.3986) | Xent 1.5534(1.6209) | Loss 11.2710(12.0039) | Error 0.5615(0.5764) Steps 562(589.49) | Grad Norm 9.2558(20.3943) | Total Time 0.00(0.00)\n",
      "Iter 0809 | Time 58.9092(60.7779) | Bit/dim 4.3298(4.3965) | Xent 1.6066(1.6205) | Loss 11.2065(11.9800) | Error 0.5733(0.5764) Steps 580(589.20) | Grad Norm 22.6473(20.4619) | Total Time 0.00(0.00)\n",
      "Iter 0810 | Time 65.1958(60.9104) | Bit/dim 4.3389(4.3948) | Xent 1.5854(1.6194) | Loss 11.2082(11.9569) | Error 0.5594(0.5758) Steps 616(590.01) | Grad Norm 14.2882(20.2766) | Total Time 0.00(0.00)\n",
      "validating...\n",
      "Epoch 0135 | Time 23.3038, Epoch Time 402.4585(387.3318), Bit/dim 4.3474(best: 4.3442), Xent 1.5240, Loss 5.1094, Error 0.5430(best: 0.5382)\n",
      "===> Using batch size 8000. Total 6 iterations/epoch.\n"
     ]
    },
    {
     "name": "stdout",
     "output_type": "stream",
     "text": [
      "21.91616766467066\n",
      "21.91616766467066\n",
      "21.91616766467066\n",
      "21.91616766467066\n",
      "21.91616766467066\n",
      "21.91616766467066\n",
      "21.91616766467066\n",
      "21.91616766467066\n",
      "21.91616766467066\n",
      "21.91616766467066\n",
      "21.91616766467066\n",
      "21.91616766467066\n",
      "21.91616766467066\n",
      "21.91616766467066\n"
     ]
    },
    {
     "name": "stderr",
     "output_type": "stream",
     "text": [
      "Iter 0811 | Time 63.2482(60.9806) | Bit/dim 4.3573(4.3937) | Xent 1.5884(1.6185) | Loss 14.4141(12.0306) | Error 0.5623(0.5754) Steps 586(589.89) | Grad Norm 21.3490(20.3088) | Total Time 0.00(0.00)\n",
      "Iter 0812 | Time 54.2906(60.7799) | Bit/dim 4.3496(4.3924) | Xent 1.6165(1.6184) | Loss 11.3278(12.0095) | Error 0.5769(0.5755) Steps 574(589.41) | Grad Norm 22.1589(20.3643) | Total Time 0.00(0.00)\n",
      "Iter 0813 | Time 59.1949(60.7323) | Bit/dim 4.3268(4.3904) | Xent 1.5393(1.6160) | Loss 11.5309(11.9951) | Error 0.5534(0.5748) Steps 574(588.95) | Grad Norm 7.7846(19.9869) | Total Time 0.00(0.00)\n",
      "Iter 0814 | Time 62.1421(60.7746) | Bit/dim 4.3606(4.3895) | Xent 1.6219(1.6162) | Loss 11.5250(11.9810) | Error 0.5707(0.5747) Steps 586(588.86) | Grad Norm 25.6088(20.1556) | Total Time 0.00(0.00)\n",
      "Iter 0815 | Time 57.7097(60.6827) | Bit/dim 4.3427(4.3881) | Xent 1.5761(1.6150) | Loss 11.5388(11.9678) | Error 0.5524(0.5740) Steps 628(590.03) | Grad Norm 20.9454(20.1793) | Total Time 0.00(0.00)\n",
      "Iter 0816 | Time 59.0135(60.6326) | Bit/dim 4.3407(4.3867) | Xent 1.6404(1.6158) | Loss 11.3398(11.9489) | Error 0.5837(0.5743) Steps 556(589.01) | Grad Norm 41.3667(20.8149) | Total Time 0.00(0.00)\n",
      "validating...\n",
      "Epoch 0136 | Time 24.6035, Epoch Time 397.8037(387.6460), Bit/dim 4.3258(best: 4.3442), Xent 1.5225, Loss 5.0871, Error 0.5423(best: 0.5382)\n",
      "===> Using batch size 8000. Total 6 iterations/epoch.\n"
     ]
    },
    {
     "name": "stdout",
     "output_type": "stream",
     "text": [
      "21.8562874251497\n",
      "21.8562874251497\n",
      "21.8562874251497\n",
      "21.8562874251497\n",
      "21.8562874251497\n",
      "21.8562874251497\n",
      "21.8562874251497\n",
      "21.8562874251497\n",
      "21.8562874251497\n",
      "21.8562874251497\n",
      "21.8562874251497\n",
      "21.8562874251497\n",
      "21.8562874251497\n",
      "21.8562874251497\n"
     ]
    },
    {
     "name": "stderr",
     "output_type": "stream",
     "text": [
      "Iter 0817 | Time 60.0074(60.6138) | Bit/dim 4.3185(4.3846) | Xent 1.5719(1.6145) | Loss 14.2681(12.0185) | Error 0.5599(0.5739) Steps 598(589.28) | Grad Norm 20.3193(20.8000) | Total Time 0.00(0.00)\n",
      "Iter 0818 | Time 58.6243(60.5541) | Bit/dim 4.4116(4.3854) | Xent 1.8329(1.6210) | Loss 11.8278(12.0128) | Error 0.6438(0.5760) Steps 586(589.18) | Grad Norm 55.4265(21.8388) | Total Time 0.00(0.00)\n",
      "Iter 0819 | Time 56.5221(60.4332) | Bit/dim 4.4074(4.3861) | Xent 1.8151(1.6268) | Loss 11.6477(12.0018) | Error 0.6369(0.5778) Steps 568(588.55) | Grad Norm 48.8143(22.6481) | Total Time 0.00(0.00)\n",
      "Iter 0820 | Time 64.9471(60.5686) | Bit/dim 4.3540(4.3851) | Xent 1.5790(1.6254) | Loss 11.1827(11.9773) | Error 0.5609(0.5773) Steps 568(587.93) | Grad Norm 14.1890(22.3943) | Total Time 0.00(0.00)\n",
      "Iter 0821 | Time 61.3831(60.5930) | Bit/dim 4.3744(4.3848) | Xent 1.6910(1.6274) | Loss 11.4094(11.9602) | Error 0.5989(0.5779) Steps 580(587.69) | Grad Norm 32.7478(22.7049) | Total Time 0.00(0.00)\n",
      "Iter 0822 | Time 57.6217(60.5039) | Bit/dim 4.4027(4.3854) | Xent 1.6250(1.6273) | Loss 11.4801(11.9458) | Error 0.5742(0.5778) Steps 580(587.46) | Grad Norm 25.6512(22.7933) | Total Time 0.00(0.00)\n",
      "validating...\n",
      "Epoch 0137 | Time 24.4671, Epoch Time 400.4203(388.0292), Bit/dim 4.3328(best: 4.3258), Xent 1.5749, Loss 5.1203, Error 0.5619(best: 0.5382)\n",
      "===> Using batch size 8000. Total 6 iterations/epoch.\n"
     ]
    },
    {
     "name": "stdout",
     "output_type": "stream",
     "text": [
      "21.79640718562874\n",
      "21.79640718562874\n",
      "21.79640718562874\n",
      "21.79640718562874\n",
      "21.79640718562874\n",
      "21.79640718562874\n",
      "21.79640718562874\n",
      "21.79640718562874\n",
      "21.79640718562874\n",
      "21.79640718562874\n",
      "21.79640718562874\n",
      "21.79640718562874\n",
      "21.79640718562874\n",
      "21.79640718562874\n"
     ]
    },
    {
     "name": "stderr",
     "output_type": "stream",
     "text": [
      "Iter 0823 | Time 63.1723(60.5840) | Bit/dim 4.3273(4.3836) | Xent 1.6297(1.6274) | Loss 14.6687(12.0275) | Error 0.5874(0.5781) Steps 562(586.70) | Grad Norm 11.6538(22.4591) | Total Time 0.00(0.00)\n",
      "Iter 0824 | Time 66.0210(60.7471) | Bit/dim 4.3650(4.3831) | Xent 1.6447(1.6279) | Loss 11.7141(12.0181) | Error 0.5876(0.5784) Steps 604(587.22) | Grad Norm 16.6861(22.2859) | Total Time 0.00(0.00)\n",
      "Iter 0825 | Time 57.6309(60.6536) | Bit/dim 4.3484(4.3820) | Xent 1.6212(1.6277) | Loss 11.1261(11.9913) | Error 0.5829(0.5785) Steps 568(586.64) | Grad Norm 18.7679(22.1804) | Total Time 0.00(0.00)\n",
      "Iter 0826 | Time 59.8854(60.6305) | Bit/dim 4.3464(4.3809) | Xent 1.5920(1.6266) | Loss 11.4233(11.9743) | Error 0.5693(0.5783) Steps 592(586.80) | Grad Norm 20.6698(22.1351) | Total Time 0.00(0.00)\n",
      "Iter 0827 | Time 57.4058(60.5338) | Bit/dim 4.3550(4.3802) | Xent 1.6246(1.6266) | Loss 11.5345(11.9611) | Error 0.5880(0.5786) Steps 574(586.42) | Grad Norm 19.4819(22.0555) | Total Time 0.00(0.00)\n",
      "Iter 0828 | Time 62.5951(60.5956) | Bit/dim 4.3329(4.3788) | Xent 1.5786(1.6251) | Loss 11.4496(11.9458) | Error 0.5629(0.5781) Steps 586(586.41) | Grad Norm 14.0682(21.8159) | Total Time 0.00(0.00)\n",
      "validating...\n",
      "Epoch 0138 | Time 23.4564, Epoch Time 407.3625(388.6092), Bit/dim 4.3269(best: 4.3258), Xent 1.5343, Loss 5.0941, Error 0.5487(best: 0.5382)\n",
      "===> Using batch size 8000. Total 6 iterations/epoch.\n"
     ]
    },
    {
     "name": "stdout",
     "output_type": "stream",
     "text": [
      "21.736526946107787\n",
      "21.736526946107787\n",
      "21.736526946107787\n",
      "21.736526946107787\n",
      "21.736526946107787\n",
      "21.736526946107787\n",
      "21.736526946107787\n",
      "21.736526946107787\n",
      "21.736526946107787\n",
      "21.736526946107787\n",
      "21.736526946107787\n",
      "21.736526946107787\n",
      "21.736526946107787\n",
      "21.736526946107787\n"
     ]
    },
    {
     "name": "stderr",
     "output_type": "stream",
     "text": [
      "Iter 0829 | Time 67.4951(60.8026) | Bit/dim 4.3219(4.3770) | Xent 1.5633(1.6233) | Loss 14.4327(12.0204) | Error 0.5535(0.5773) Steps 616(587.29) | Grad Norm 12.4770(21.5357) | Total Time 0.00(0.00)\n",
      "Iter 0830 | Time 60.8672(60.8046) | Bit/dim 4.3403(4.3759) | Xent 1.5975(1.6225) | Loss 11.3367(11.9999) | Error 0.5617(0.5769) Steps 580(587.07) | Grad Norm 14.7122(21.3310) | Total Time 0.00(0.00)\n",
      "Iter 0831 | Time 61.6164(60.8289) | Bit/dim 4.3303(4.3746) | Xent 1.5795(1.6212) | Loss 11.3080(11.9791) | Error 0.5636(0.5765) Steps 616(587.94) | Grad Norm 14.5440(21.1274) | Total Time 0.00(0.00)\n",
      "Iter 0832 | Time 57.8565(60.7397) | Bit/dim 4.3541(4.3740) | Xent 1.5664(1.6196) | Loss 11.2905(11.9585) | Error 0.5653(0.5761) Steps 586(587.88) | Grad Norm 14.9677(20.9426) | Total Time 0.00(0.00)\n",
      "Iter 0833 | Time 68.5356(60.9736) | Bit/dim 4.3352(4.3728) | Xent 1.5778(1.6183) | Loss 11.4551(11.9434) | Error 0.5616(0.5757) Steps 592(588.01) | Grad Norm 21.7185(20.9659) | Total Time 0.00(0.00)\n",
      "Iter 0834 | Time 58.8558(60.9101) | Bit/dim 4.3252(4.3714) | Xent 1.5621(1.6166) | Loss 11.1556(11.9197) | Error 0.5580(0.5752) Steps 574(587.59) | Grad Norm 14.0369(20.7580) | Total Time 0.00(0.00)\n",
      "validating...\n",
      "Epoch 0139 | Time 22.7867, Epoch Time 415.7065(389.4221), Bit/dim 4.3144(best: 4.3258), Xent 1.5047, Loss 5.0668, Error 0.5376(best: 0.5382)\n",
      "===> Using batch size 8000. Total 6 iterations/epoch.\n"
     ]
    },
    {
     "name": "stdout",
     "output_type": "stream",
     "text": [
      "21.676646706586826\n",
      "21.676646706586826\n",
      "21.676646706586826\n",
      "21.676646706586826\n",
      "21.676646706586826\n",
      "21.676646706586826\n",
      "21.676646706586826\n",
      "21.676646706586826\n",
      "21.676646706586826\n",
      "21.676646706586826\n",
      "21.676646706586826\n",
      "21.676646706586826\n",
      "21.676646706586826\n",
      "21.676646706586826\n"
     ]
    },
    {
     "name": "stderr",
     "output_type": "stream",
     "text": [
      "Iter 0835 | Time 60.2684(60.8908) | Bit/dim 4.3106(4.3695) | Xent 1.5509(1.6146) | Loss 14.2667(11.9901) | Error 0.5551(0.5746) Steps 604(588.08) | Grad Norm 6.8155(20.3397) | Total Time 0.00(0.00)\n",
      "Iter 0836 | Time 62.9580(60.9528) | Bit/dim 4.2992(4.3674) | Xent 1.5548(1.6129) | Loss 11.2573(11.9681) | Error 0.5600(0.5741) Steps 604(588.56) | Grad Norm 8.8457(19.9949) | Total Time 0.00(0.00)\n",
      "Iter 0837 | Time 60.1357(60.9283) | Bit/dim 4.3135(4.3658) | Xent 1.5712(1.6116) | Loss 11.0224(11.9398) | Error 0.5627(0.5738) Steps 610(589.20) | Grad Norm 10.4291(19.7079) | Total Time 0.00(0.00)\n",
      "Iter 0838 | Time 63.4670(61.0045) | Bit/dim 4.3253(4.3646) | Xent 1.5431(1.6095) | Loss 11.1716(11.9167) | Error 0.5525(0.5732) Steps 586(589.10) | Grad Norm 16.8053(19.6208) | Total Time 0.00(0.00)\n",
      "Iter 0839 | Time 58.4760(60.9286) | Bit/dim 4.3202(4.3633) | Xent 1.5641(1.6082) | Loss 11.4997(11.9042) | Error 0.5620(0.5728) Steps 568(588.47) | Grad Norm 20.2225(19.6389) | Total Time 0.00(0.00)\n",
      "Iter 0840 | Time 61.5943(60.9486) | Bit/dim 4.3396(4.3626) | Xent 1.5521(1.6065) | Loss 11.4318(11.8900) | Error 0.5530(0.5722) Steps 580(588.22) | Grad Norm 20.0776(19.6521) | Total Time 0.00(0.00)\n",
      "validating...\n",
      "Epoch 0140 | Time 23.3181, Epoch Time 407.8646(389.9754), Bit/dim 4.3289(best: 4.3144), Xent 1.5213, Loss 5.0896, Error 0.5422(best: 0.5376)\n",
      "===> Using batch size 8000. Total 6 iterations/epoch.\n"
     ]
    },
    {
     "name": "stdout",
     "output_type": "stream",
     "text": [
      "21.616766467065865\n",
      "21.616766467065865\n",
      "21.616766467065865\n",
      "21.616766467065865\n",
      "21.616766467065865\n",
      "21.616766467065865\n",
      "21.616766467065865\n",
      "21.616766467065865\n",
      "21.616766467065865\n",
      "21.616766467065865\n",
      "21.616766467065865\n",
      "21.616766467065865\n",
      "21.616766467065865\n",
      "21.616766467065865\n"
     ]
    },
    {
     "name": "stderr",
     "output_type": "stream",
     "text": [
      "Iter 0841 | Time 59.5106(60.9055) | Bit/dim 4.3309(4.3616) | Xent 1.5727(1.6055) | Loss 14.5859(11.9709) | Error 0.5620(0.5719) Steps 580(587.97) | Grad Norm 20.3316(19.6724) | Total Time 0.00(0.00)\n",
      "Iter 0842 | Time 63.7633(60.9912) | Bit/dim 4.3044(4.3599) | Xent 1.5480(1.6038) | Loss 11.2418(11.9490) | Error 0.5480(0.5712) Steps 586(587.91) | Grad Norm 15.5821(19.5497) | Total Time 0.00(0.00)\n",
      "Iter 0843 | Time 59.5130(60.9468) | Bit/dim 4.2876(4.3577) | Xent 1.5401(1.6019) | Loss 11.0426(11.9218) | Error 0.5468(0.5705) Steps 562(587.13) | Grad Norm 4.7196(19.1048) | Total Time 0.00(0.00)\n",
      "Iter 0844 | Time 58.8194(60.8830) | Bit/dim 4.2829(4.3555) | Xent 1.5404(1.6000) | Loss 11.3607(11.9050) | Error 0.5503(0.5699) Steps 616(588.00) | Grad Norm 13.4399(18.9349) | Total Time 0.00(0.00)\n",
      "Iter 0845 | Time 63.6454(60.9659) | Bit/dim 4.3174(4.3543) | Xent 1.5192(1.5976) | Loss 11.3607(11.8887) | Error 0.5496(0.5693) Steps 580(587.76) | Grad Norm 13.1750(18.7621) | Total Time 0.00(0.00)\n",
      "Iter 0846 | Time 59.5048(60.9221) | Bit/dim 4.3077(4.3529) | Xent 1.5408(1.5959) | Loss 11.1906(11.8677) | Error 0.5504(0.5687) Steps 592(587.89) | Grad Norm 13.3362(18.5993) | Total Time 0.00(0.00)\n",
      "validating...\n",
      "Epoch 0141 | Time 24.1009, Epoch Time 405.6580(390.4459), Bit/dim 4.2916(best: 4.3144), Xent 1.4886, Loss 5.0358, Error 0.5328(best: 0.5376)\n",
      "===> Using batch size 8000. Total 6 iterations/epoch.\n"
     ]
    },
    {
     "name": "stdout",
     "output_type": "stream",
     "text": [
      "21.55688622754491\n",
      "21.55688622754491\n",
      "21.55688622754491\n",
      "21.55688622754491\n",
      "21.55688622754491\n",
      "21.55688622754491\n",
      "21.55688622754491\n",
      "21.55688622754491\n",
      "21.55688622754491\n",
      "21.55688622754491\n",
      "21.55688622754491\n",
      "21.55688622754491\n",
      "21.55688622754491\n",
      "21.55688622754491\n"
     ]
    },
    {
     "name": "stderr",
     "output_type": "stream",
     "text": [
      "Iter 0847 | Time 62.9815(60.9838) | Bit/dim 4.2983(4.3513) | Xent 1.5390(1.5942) | Loss 14.1649(11.9367) | Error 0.5493(0.5681) Steps 592(588.01) | Grad Norm 8.2624(18.2892) | Total Time 0.00(0.00)\n",
      "Iter 0848 | Time 69.8334(61.2493) | Bit/dim 4.2794(4.3491) | Xent 1.5222(1.5920) | Loss 11.2042(11.9147) | Error 0.5436(0.5674) Steps 604(588.49) | Grad Norm 6.4572(17.9342) | Total Time 0.00(0.00)\n",
      "Iter 0849 | Time 57.9410(61.1501) | Bit/dim 4.2887(4.3473) | Xent 1.5491(1.5907) | Loss 11.1210(11.8909) | Error 0.5560(0.5670) Steps 568(587.88) | Grad Norm 14.7676(17.8392) | Total Time 0.00(0.00)\n",
      "Iter 0850 | Time 64.7838(61.2591) | Bit/dim 4.2990(4.3459) | Xent 1.5546(1.5896) | Loss 11.4216(11.8768) | Error 0.5571(0.5667) Steps 550(586.74) | Grad Norm 17.1396(17.8183) | Total Time 0.00(0.00)\n",
      "Iter 0851 | Time 59.1655(61.1963) | Bit/dim 4.2847(4.3440) | Xent 1.5417(1.5882) | Loss 11.0146(11.8509) | Error 0.5583(0.5665) Steps 544(585.46) | Grad Norm 16.2809(17.7721) | Total Time 0.00(0.00)\n",
      "Iter 0852 | Time 59.9129(61.1578) | Bit/dim 4.3020(4.3428) | Xent 1.5641(1.5875) | Loss 11.2310(11.8323) | Error 0.5625(0.5664) Steps 592(585.65) | Grad Norm 26.6884(18.0396) | Total Time 0.00(0.00)\n",
      "validating...\n",
      "Epoch 0142 | Time 23.7301, Epoch Time 416.5206(391.2281), Bit/dim 4.2858(best: 4.2916), Xent 1.4944, Loss 5.0330, Error 0.5341(best: 0.5328)\n",
      "===> Using batch size 8000. Total 6 iterations/epoch.\n"
     ]
    },
    {
     "name": "stdout",
     "output_type": "stream",
     "text": [
      "21.497005988023954\n",
      "21.497005988023954\n",
      "21.497005988023954\n",
      "21.497005988023954\n",
      "21.497005988023954\n",
      "21.497005988023954\n",
      "21.497005988023954\n",
      "21.497005988023954\n",
      "21.497005988023954\n",
      "21.497005988023954\n",
      "21.497005988023954\n",
      "21.497005988023954\n",
      "21.497005988023954\n",
      "21.497005988023954\n"
     ]
    },
    {
     "name": "stderr",
     "output_type": "stream",
     "text": [
      "Iter 0853 | Time 57.7422(61.0553) | Bit/dim 4.2874(4.3411) | Xent 1.5425(1.5861) | Loss 14.2172(11.9039) | Error 0.5485(0.5658) Steps 568(585.12) | Grad Norm 15.6698(17.9685) | Total Time 0.00(0.00)\n",
      "Iter 0854 | Time 66.3106(61.2130) | Bit/dim 4.2849(4.3394) | Xent 1.5010(1.5836) | Loss 11.0403(11.8780) | Error 0.5385(0.5650) Steps 574(584.79) | Grad Norm 5.7162(17.6010) | Total Time 0.00(0.00)\n",
      "Iter 0855 | Time 58.9486(61.1450) | Bit/dim 4.2937(4.3381) | Xent 1.5728(1.5833) | Loss 10.8492(11.8471) | Error 0.5649(0.5650) Steps 592(585.01) | Grad Norm 21.5641(17.7198) | Total Time 0.00(0.00)\n",
      "Iter 0856 | Time 55.7029(60.9818) | Bit/dim 4.2991(4.3369) | Xent 1.5521(1.5823) | Loss 11.2921(11.8305) | Error 0.5575(0.5648) Steps 598(585.40) | Grad Norm 26.1834(17.9738) | Total Time 0.00(0.00)\n",
      "Iter 0857 | Time 55.8707(60.8284) | Bit/dim 4.2708(4.3349) | Xent 1.5400(1.5811) | Loss 10.9895(11.8052) | Error 0.5510(0.5644) Steps 562(584.69) | Grad Norm 11.5466(17.7809) | Total Time 0.00(0.00)\n",
      "Iter 0858 | Time 64.3775(60.9349) | Bit/dim 4.2658(4.3328) | Xent 1.5359(1.5797) | Loss 11.2540(11.7887) | Error 0.5470(0.5638) Steps 616(585.63) | Grad Norm 14.5196(17.6831) | Total Time 0.00(0.00)\n",
      "validating...\n",
      "Epoch 0143 | Time 24.2645, Epoch Time 401.6746(391.5415), Bit/dim 4.2799(best: 4.2858), Xent 1.5148, Loss 5.0373, Error 0.5434(best: 0.5328)\n",
      "===> Using batch size 8000. Total 6 iterations/epoch.\n"
     ]
    },
    {
     "name": "stdout",
     "output_type": "stream",
     "text": [
      "21.437125748502993\n",
      "21.437125748502993\n",
      "21.437125748502993\n",
      "21.437125748502993\n",
      "21.437125748502993\n",
      "21.437125748502993\n",
      "21.437125748502993\n",
      "21.437125748502993\n",
      "21.437125748502993\n",
      "21.437125748502993\n",
      "21.437125748502993\n",
      "21.437125748502993\n",
      "21.437125748502993\n",
      "21.437125748502993\n"
     ]
    },
    {
     "name": "stderr",
     "output_type": "stream",
     "text": [
      "Iter 0859 | Time 62.8363(60.9920) | Bit/dim 4.2854(4.3314) | Xent 1.5822(1.5798) | Loss 14.6863(11.8756) | Error 0.5610(0.5638) Steps 562(584.92) | Grad Norm 21.9823(17.8121) | Total Time 0.00(0.00)\n",
      "Iter 0860 | Time 65.7025(61.1333) | Bit/dim 4.2820(4.3299) | Xent 1.5724(1.5795) | Loss 11.1991(11.8553) | Error 0.5650(0.5638) Steps 568(584.42) | Grad Norm 21.0360(17.9088) | Total Time 0.00(0.00)\n",
      "Iter 0861 | Time 63.6825(61.2098) | Bit/dim 4.2678(4.3281) | Xent 1.5286(1.5780) | Loss 11.0717(11.8318) | Error 0.5515(0.5634) Steps 586(584.46) | Grad Norm 13.3373(17.7716) | Total Time 0.00(0.00)\n",
      "Iter 0862 | Time 61.4921(61.2182) | Bit/dim 4.2741(4.3264) | Xent 1.5398(1.5769) | Loss 11.1580(11.8116) | Error 0.5470(0.5629) Steps 592(584.69) | Grad Norm 13.3382(17.6386) | Total Time 0.00(0.00)\n",
      "Iter 0863 | Time 55.7806(61.0551) | Bit/dim 4.2771(4.3250) | Xent 1.5605(1.5764) | Loss 11.2674(11.7953) | Error 0.5627(0.5629) Steps 568(584.19) | Grad Norm 14.8564(17.5552) | Total Time 0.00(0.00)\n",
      "Iter 0864 | Time 64.7551(61.1661) | Bit/dim 4.2527(4.3228) | Xent 1.5076(1.5743) | Loss 11.1195(11.7750) | Error 0.5360(0.5621) Steps 598(584.60) | Grad Norm 9.1400(17.3027) | Total Time 0.00(0.00)\n",
      "validating...\n",
      "Epoch 0144 | Time 22.8842, Epoch Time 415.5924(392.2630), Bit/dim 4.2633(best: 4.2799), Xent 1.5001, Loss 5.0134, Error 0.5384(best: 0.5328)\n",
      "===> Using batch size 8000. Total 6 iterations/epoch.\n"
     ]
    },
    {
     "name": "stdout",
     "output_type": "stream",
     "text": [
      "21.377245508982035\n",
      "21.377245508982035\n",
      "21.377245508982035\n",
      "21.377245508982035\n",
      "21.377245508982035\n",
      "21.377245508982035\n",
      "21.377245508982035\n",
      "21.377245508982035\n",
      "21.377245508982035\n",
      "21.377245508982035\n",
      "21.377245508982035\n",
      "21.377245508982035\n",
      "21.377245508982035\n",
      "21.377245508982035\n"
     ]
    },
    {
     "name": "stderr",
     "output_type": "stream",
     "text": [
      "Iter 0865 | Time 64.1851(61.2567) | Bit/dim 4.2658(4.3211) | Xent 1.5475(1.5735) | Loss 14.3952(11.8536) | Error 0.5528(0.5618) Steps 610(585.37) | Grad Norm 15.1961(17.2395) | Total Time 0.00(0.00)\n",
      "Iter 0866 | Time 64.7541(61.3616) | Bit/dim 4.2605(4.3193) | Xent 1.5127(1.5717) | Loss 11.1865(11.8336) | Error 0.5403(0.5612) Steps 562(584.66) | Grad Norm 14.3778(17.1537) | Total Time 0.00(0.00)\n",
      "Iter 0867 | Time 57.5386(61.2469) | Bit/dim 4.2691(4.3178) | Xent 1.5332(1.5705) | Loss 11.0553(11.8102) | Error 0.5516(0.5609) Steps 622(585.78) | Grad Norm 10.4368(16.9522) | Total Time 0.00(0.00)\n",
      "Iter 0868 | Time 66.7306(61.4114) | Bit/dim 4.2635(4.3161) | Xent 1.5477(1.5698) | Loss 11.3417(11.7962) | Error 0.5551(0.5607) Steps 586(585.79) | Grad Norm 18.5064(16.9988) | Total Time 0.00(0.00)\n",
      "Iter 0869 | Time 63.5764(61.4764) | Bit/dim 4.3101(4.3160) | Xent 1.5717(1.5699) | Loss 11.3000(11.7813) | Error 0.5617(0.5608) Steps 610(586.52) | Grad Norm 36.3337(17.5788) | Total Time 0.00(0.00)\n",
      "Iter 0870 | Time 62.7903(61.5158) | Bit/dim 4.2587(4.3142) | Xent 1.5285(1.5687) | Loss 11.3809(11.7693) | Error 0.5488(0.5604) Steps 616(587.40) | Grad Norm 8.2468(17.2989) | Total Time 0.00(0.00)\n",
      "validating...\n",
      "Epoch 0145 | Time 23.4999, Epoch Time 420.9411(393.1234), Bit/dim 4.2949(best: 4.2633), Xent 1.5473, Loss 5.0685, Error 0.5520(best: 0.5328)\n",
      "===> Using batch size 8000. Total 6 iterations/epoch.\n"
     ]
    },
    {
     "name": "stdout",
     "output_type": "stream",
     "text": [
      "21.317365269461078\n",
      "21.317365269461078\n",
      "21.317365269461078\n",
      "21.317365269461078\n",
      "21.317365269461078\n",
      "21.317365269461078\n",
      "21.317365269461078\n",
      "21.317365269461078\n",
      "21.317365269461078\n",
      "21.317365269461078\n",
      "21.317365269461078\n",
      "21.317365269461078\n",
      "21.317365269461078\n",
      "21.317365269461078\n"
     ]
    },
    {
     "name": "stderr",
     "output_type": "stream",
     "text": [
      "Iter 0871 | Time 66.8443(61.6756) | Bit/dim 4.2957(4.3137) | Xent 1.5903(1.5693) | Loss 14.5335(11.8522) | Error 0.5736(0.5608) Steps 550(586.28) | Grad Norm 32.1307(17.7438) | Total Time 0.00(0.00)\n",
      "Iter 0872 | Time 59.6107(61.6137) | Bit/dim 4.2512(4.3118) | Xent 1.5052(1.5674) | Loss 11.2444(11.8340) | Error 0.5443(0.5603) Steps 562(585.55) | Grad Norm 11.0981(17.5445) | Total Time 0.00(0.00)\n",
      "Iter 0873 | Time 60.7128(61.5867) | Bit/dim 4.2897(4.3111) | Xent 1.5823(1.5678) | Loss 11.3019(11.8180) | Error 0.5569(0.5602) Steps 586(585.57) | Grad Norm 31.3279(17.9580) | Total Time 0.00(0.00)\n",
      "Iter 0874 | Time 62.4140(61.6115) | Bit/dim 4.2607(4.3096) | Xent 1.5315(1.5667) | Loss 11.3675(11.8045) | Error 0.5465(0.5598) Steps 604(586.12) | Grad Norm 15.6739(17.8894) | Total Time 0.00(0.00)\n",
      "Iter 0875 | Time 63.5422(61.6694) | Bit/dim 4.2674(4.3084) | Xent 1.6515(1.5693) | Loss 11.4764(11.7947) | Error 0.5879(0.5606) Steps 610(586.83) | Grad Norm 33.8132(18.3672) | Total Time 0.00(0.00)\n",
      "Iter 0876 | Time 61.8425(61.6746) | Bit/dim 4.2595(4.3069) | Xent 1.5724(1.5694) | Loss 11.0372(11.7719) | Error 0.5694(0.5609) Steps 586(586.81) | Grad Norm 17.4425(18.3394) | Total Time 0.00(0.00)\n",
      "validating...\n",
      "Epoch 0146 | Time 23.6905, Epoch Time 416.2648(393.8176), Bit/dim 4.2553(best: 4.2633), Xent 1.5667, Loss 5.0387, Error 0.5559(best: 0.5328)\n",
      "===> Using batch size 8000. Total 6 iterations/epoch.\n"
     ]
    },
    {
     "name": "stdout",
     "output_type": "stream",
     "text": [
      "21.25748502994012\n",
      "21.25748502994012\n",
      "21.25748502994012\n",
      "21.25748502994012\n",
      "21.25748502994012\n",
      "21.25748502994012\n",
      "21.25748502994012\n",
      "21.25748502994012\n",
      "21.25748502994012\n",
      "21.25748502994012\n",
      "21.25748502994012\n",
      "21.25748502994012\n",
      "21.25748502994012\n",
      "21.25748502994012\n"
     ]
    },
    {
     "name": "stderr",
     "output_type": "stream",
     "text": [
      "Iter 0877 | Time 68.3613(61.8752) | Bit/dim 4.2549(4.3053) | Xent 1.6133(1.5707) | Loss 14.5924(11.8566) | Error 0.5746(0.5613) Steps 610(587.51) | Grad Norm 24.7804(18.5326) | Total Time 0.00(0.00)\n",
      "Iter 0878 | Time 61.4353(61.8620) | Bit/dim 4.2675(4.3042) | Xent 1.5753(1.5708) | Loss 11.1594(11.8356) | Error 0.5588(0.5612) Steps 562(586.74) | Grad Norm 14.4415(18.4099) | Total Time 0.00(0.00)\n",
      "Iter 0879 | Time 59.1580(61.7809) | Bit/dim 4.2590(4.3029) | Xent 1.5551(1.5704) | Loss 11.1670(11.8156) | Error 0.5571(0.5611) Steps 568(586.18) | Grad Norm 13.0383(18.2488) | Total Time 0.00(0.00)\n",
      "Iter 0880 | Time 59.6211(61.7161) | Bit/dim 4.2682(4.3018) | Xent 1.5591(1.5700) | Loss 11.2398(11.7983) | Error 0.5611(0.5611) Steps 562(585.45) | Grad Norm 13.7188(18.1129) | Total Time 0.00(0.00)\n",
      "Iter 0881 | Time 61.4108(61.7069) | Bit/dim 4.2709(4.3009) | Xent 1.5738(1.5701) | Loss 11.1594(11.7791) | Error 0.5679(0.5613) Steps 604(586.01) | Grad Norm 23.4024(18.2716) | Total Time 0.00(0.00)\n",
      "Iter 0882 | Time 58.1497(61.6002) | Bit/dim 4.2846(4.3004) | Xent 1.5485(1.5695) | Loss 11.3840(11.7673) | Error 0.5550(0.5611) Steps 568(585.47) | Grad Norm 27.8542(18.5590) | Total Time 0.00(0.00)\n",
      "validating...\n",
      "Epoch 0147 | Time 24.4368, Epoch Time 410.9002(394.3301), Bit/dim 4.2717(best: 4.2553), Xent 1.4680, Loss 5.0057, Error 0.5255(best: 0.5328)\n",
      "===> Using batch size 8000. Total 6 iterations/epoch.\n"
     ]
    },
    {
     "name": "stdout",
     "output_type": "stream",
     "text": [
      "21.197604790419163\n",
      "21.197604790419163\n",
      "21.197604790419163\n",
      "21.197604790419163\n",
      "21.197604790419163\n",
      "21.197604790419163\n",
      "21.197604790419163\n",
      "21.197604790419163\n",
      "21.197604790419163\n",
      "21.197604790419163\n",
      "21.197604790419163\n",
      "21.197604790419163\n",
      "21.197604790419163\n",
      "21.197604790419163\n"
     ]
    },
    {
     "name": "stderr",
     "output_type": "stream",
     "text": [
      "Iter 0883 | Time 63.7596(61.6650) | Bit/dim 4.2702(4.2995) | Xent 1.5476(1.5688) | Loss 14.3053(11.8434) | Error 0.5495(0.5608) Steps 616(586.38) | Grad Norm 12.3668(18.3733) | Total Time 0.00(0.00)\n",
      "Iter 0884 | Time 61.2740(61.6533) | Bit/dim 4.2432(4.2978) | Xent 1.4923(1.5665) | Loss 11.1582(11.8229) | Error 0.5344(0.5600) Steps 598(586.73) | Grad Norm 6.3827(18.0135) | Total Time 0.00(0.00)\n",
      "Iter 0885 | Time 59.8274(61.5985) | Bit/dim 4.2453(4.2962) | Xent 1.5028(1.5646) | Loss 11.1468(11.8026) | Error 0.5340(0.5592) Steps 604(587.25) | Grad Norm 10.8684(17.7992) | Total Time 0.00(0.00)\n",
      "Iter 0886 | Time 63.8232(61.6652) | Bit/dim 4.2664(4.2953) | Xent 1.5342(1.5637) | Loss 11.0868(11.7811) | Error 0.5539(0.5590) Steps 598(587.57) | Grad Norm 19.3742(17.8464) | Total Time 0.00(0.00)\n",
      "Iter 0887 | Time 56.9500(61.5238) | Bit/dim 4.3000(4.2955) | Xent 1.5519(1.5634) | Loss 11.1589(11.7624) | Error 0.5575(0.5590) Steps 598(587.89) | Grad Norm 22.9362(17.9991) | Total Time 0.00(0.00)\n",
      "Iter 0888 | Time 64.8041(61.6222) | Bit/dim 4.2621(4.2945) | Xent 1.5093(1.5617) | Loss 11.2239(11.7463) | Error 0.5433(0.5585) Steps 568(587.29) | Grad Norm 15.5099(17.9245) | Total Time 0.00(0.00)\n",
      "validating...\n",
      "Epoch 0148 | Time 23.5419, Epoch Time 412.1137(394.8636), Bit/dim 4.2482(best: 4.2553), Xent 1.4654, Loss 4.9809, Error 0.5260(best: 0.5255)\n",
      "===> Using batch size 8000. Total 6 iterations/epoch.\n"
     ]
    },
    {
     "name": "stdout",
     "output_type": "stream",
     "text": [
      "21.137724550898202\n",
      "21.137724550898202\n",
      "21.137724550898202\n",
      "21.137724550898202\n",
      "21.137724550898202\n",
      "21.137724550898202\n",
      "21.137724550898202\n",
      "21.137724550898202\n",
      "21.137724550898202\n",
      "21.137724550898202\n",
      "21.137724550898202\n",
      "21.137724550898202\n",
      "21.137724550898202\n",
      "21.137724550898202\n"
     ]
    },
    {
     "name": "stderr",
     "output_type": "stream",
     "text": [
      "Iter 0889 | Time 62.8068(61.6577) | Bit/dim 4.2435(4.2929) | Xent 1.5225(1.5606) | Loss 13.7880(11.8075) | Error 0.5436(0.5581) Steps 616(588.15) | Grad Norm 12.1219(17.7504) | Total Time 0.00(0.00)\n",
      "Iter 0890 | Time 61.3604(61.6488) | Bit/dim 4.2640(4.2921) | Xent 1.5191(1.5593) | Loss 10.8918(11.7801) | Error 0.5471(0.5577) Steps 538(586.65) | Grad Norm 10.1126(17.5212) | Total Time 0.00(0.00)\n",
      "Iter 0891 | Time 61.1740(61.6346) | Bit/dim 4.2261(4.2901) | Xent 1.4878(1.5572) | Loss 11.0089(11.7569) | Error 0.5384(0.5572) Steps 592(586.81) | Grad Norm 15.3169(17.4551) | Total Time 0.00(0.00)\n",
      "Iter 0892 | Time 61.6579(61.6353) | Bit/dim 4.2509(4.2889) | Xent 1.5468(1.5569) | Loss 11.2322(11.7412) | Error 0.5520(0.5570) Steps 592(586.96) | Grad Norm 24.9327(17.6794) | Total Time 0.00(0.00)\n",
      "Iter 0893 | Time 63.3436(61.6865) | Bit/dim 4.2330(4.2872) | Xent 1.4838(1.5547) | Loss 11.1472(11.7234) | Error 0.5317(0.5563) Steps 592(587.11) | Grad Norm 9.1447(17.4234) | Total Time 0.00(0.00)\n",
      "Iter 0894 | Time 61.4673(61.6799) | Bit/dim 4.2260(4.2854) | Xent 1.4871(1.5526) | Loss 11.1587(11.7064) | Error 0.5299(0.5555) Steps 598(587.44) | Grad Norm 11.8920(17.2575) | Total Time 0.00(0.00)\n",
      "validating...\n",
      "Epoch 0149 | Time 23.5919, Epoch Time 412.9588(395.4065), Bit/dim 4.2318(best: 4.2482), Xent 1.4633, Loss 4.9634, Error 0.5277(best: 0.5255)\n",
      "===> Using batch size 8000. Total 6 iterations/epoch.\n"
     ]
    },
    {
     "name": "stdout",
     "output_type": "stream",
     "text": [
      "21.077844311377245\n",
      "21.077844311377245\n",
      "21.077844311377245\n",
      "21.077844311377245\n",
      "21.077844311377245\n",
      "21.077844311377245\n",
      "21.077844311377245\n",
      "21.077844311377245\n",
      "21.077844311377245\n",
      "21.077844311377245\n",
      "21.077844311377245\n",
      "21.077844311377245\n",
      "21.077844311377245\n",
      "21.077844311377245\n"
     ]
    },
    {
     "name": "stderr",
     "output_type": "stream",
     "text": [
      "Iter 0895 | Time 59.7664(61.6225) | Bit/dim 4.2317(4.2838) | Xent 1.5113(1.5514) | Loss 13.7468(11.7676) | Error 0.5433(0.5551) Steps 568(586.86) | Grad Norm 14.5691(17.1768) | Total Time 0.00(0.00)\n",
      "Iter 0896 | Time 62.7879(61.6575) | Bit/dim 4.2253(4.2820) | Xent 1.4812(1.5493) | Loss 11.2005(11.7506) | Error 0.5321(0.5544) Steps 574(586.47) | Grad Norm 4.7561(16.8042) | Total Time 0.00(0.00)\n",
      "Iter 0897 | Time 64.1301(61.7317) | Bit/dim 4.2316(4.2805) | Xent 1.4782(1.5472) | Loss 11.1931(11.7339) | Error 0.5390(0.5539) Steps 562(585.74) | Grad Norm 9.6405(16.5893) | Total Time 0.00(0.00)\n",
      "Iter 0898 | Time 60.3146(61.6891) | Bit/dim 4.2215(4.2787) | Xent 1.4834(1.5453) | Loss 11.0518(11.7134) | Error 0.5294(0.5532) Steps 586(585.75) | Grad Norm 12.4859(16.4662) | Total Time 0.00(0.00)\n",
      "Iter 0899 | Time 61.7226(61.6902) | Bit/dim 4.2278(4.2772) | Xent 1.4825(1.5434) | Loss 10.9981(11.6920) | Error 0.5256(0.5524) Steps 610(586.47) | Grad Norm 10.3426(16.2825) | Total Time 0.00(0.00)\n",
      "Iter 0900 | Time 59.3335(61.6195) | Bit/dim 4.2495(4.2764) | Xent 1.4998(1.5421) | Loss 11.1212(11.6749) | Error 0.5369(0.5519) Steps 586(586.46) | Grad Norm 31.3962(16.7359) | Total Time 0.00(0.00)\n",
      "validating...\n",
      "Epoch 0150 | Time 23.3676, Epoch Time 408.4482(395.7977), Bit/dim 4.2309(best: 4.2318), Xent 1.4412, Loss 4.9515, Error 0.5143(best: 0.5255)\n",
      "===> Using batch size 8000. Total 6 iterations/epoch.\n"
     ]
    },
    {
     "name": "stdout",
     "output_type": "stream",
     "text": [
      "21.01796407185629\n",
      "21.01796407185629\n",
      "21.01796407185629\n",
      "21.01796407185629\n",
      "21.01796407185629\n",
      "21.01796407185629\n",
      "21.01796407185629\n",
      "21.01796407185629\n",
      "21.01796407185629\n",
      "21.01796407185629\n",
      "21.01796407185629\n",
      "21.01796407185629\n",
      "21.01796407185629\n",
      "21.01796407185629\n"
     ]
    },
    {
     "name": "stderr",
     "output_type": "stream",
     "text": [
      "Iter 0901 | Time 61.0538(61.6025) | Bit/dim 4.2325(4.2751) | Xent 1.4891(1.5405) | Loss 14.2609(11.7524) | Error 0.5386(0.5515) Steps 592(586.63) | Grad Norm 15.9003(16.7108) | Total Time 0.00(0.00)\n",
      "Iter 0902 | Time 65.1184(61.7080) | Bit/dim 4.2238(4.2735) | Xent 1.4748(1.5385) | Loss 10.9678(11.7289) | Error 0.5251(0.5507) Steps 598(586.97) | Grad Norm 11.0382(16.5406) | Total Time 0.00(0.00)\n",
      "Iter 0903 | Time 62.8794(61.7431) | Bit/dim 4.2334(4.2723) | Xent 1.4850(1.5369) | Loss 11.0698(11.7091) | Error 0.5370(0.5503) Steps 592(587.12) | Grad Norm 12.7843(16.4279) | Total Time 0.00(0.00)\n",
      "Iter 0904 | Time 63.9089(61.8081) | Bit/dim 4.2320(4.2711) | Xent 1.4735(1.5350) | Loss 11.0282(11.6887) | Error 0.5390(0.5500) Steps 574(586.72) | Grad Norm 16.0831(16.4176) | Total Time 0.00(0.00)\n",
      "Iter 0905 | Time 60.5979(61.7718) | Bit/dim 4.2444(4.2703) | Xent 1.5750(1.5362) | Loss 11.2963(11.6769) | Error 0.5636(0.5504) Steps 592(586.88) | Grad Norm 30.2625(16.8329) | Total Time 0.00(0.00)\n",
      "Iter 0906 | Time 57.3353(61.6387) | Bit/dim 4.2093(4.2685) | Xent 1.4626(1.5340) | Loss 10.9000(11.6536) | Error 0.5272(0.5497) Steps 562(586.14) | Grad Norm 9.0362(16.5990) | Total Time 0.00(0.00)\n",
      "validating...\n",
      "Epoch 0151 | Time 22.9801, Epoch Time 411.4980(396.2687), Bit/dim 4.2203(best: 4.2309), Xent 1.5304, Loss 4.9855, Error 0.5489(best: 0.5143)\n",
      "===> Using batch size 8000. Total 6 iterations/epoch.\n"
     ]
    },
    {
     "name": "stdout",
     "output_type": "stream",
     "text": [
      "20.95808383233533\n",
      "20.95808383233533\n",
      "20.95808383233533\n",
      "20.95808383233533\n",
      "20.95808383233533\n",
      "20.95808383233533\n",
      "20.95808383233533\n",
      "20.95808383233533\n",
      "20.95808383233533\n",
      "20.95808383233533\n",
      "20.95808383233533\n",
      "20.95808383233533\n",
      "20.95808383233533\n",
      "20.95808383233533\n"
     ]
    },
    {
     "name": "stderr",
     "output_type": "stream",
     "text": [
      "Iter 0907 | Time 63.6045(61.6977) | Bit/dim 4.2224(4.2671) | Xent 1.5761(1.5352) | Loss 13.8674(11.7200) | Error 0.5629(0.5501) Steps 592(586.31) | Grad Norm 22.5047(16.7762) | Total Time 0.00(0.00)\n",
      "Iter 0908 | Time 56.0210(61.5274) | Bit/dim 4.2390(4.2663) | Xent 1.5870(1.5368) | Loss 11.0693(11.7005) | Error 0.5815(0.5510) Steps 562(585.58) | Grad Norm 19.7277(16.8648) | Total Time 0.00(0.00)\n",
      "Iter 0909 | Time 61.0903(61.5142) | Bit/dim 4.2163(4.2648) | Xent 1.4957(1.5356) | Loss 10.8257(11.6743) | Error 0.5424(0.5508) Steps 586(585.59) | Grad Norm 12.4210(16.7314) | Total Time 0.00(0.00)\n",
      "Iter 0910 | Time 63.2426(61.5661) | Bit/dim 4.2216(4.2635) | Xent 1.5922(1.5373) | Loss 11.2296(11.6609) | Error 0.5701(0.5513) Steps 598(585.97) | Grad Norm 24.0663(16.9515) | Total Time 0.00(0.00)\n",
      "Iter 0911 | Time 61.5854(61.5667) | Bit/dim 4.2259(4.2623) | Xent 1.5125(1.5365) | Loss 11.1758(11.6464) | Error 0.5396(0.5510) Steps 562(585.25) | Grad Norm 11.2453(16.7803) | Total Time 0.00(0.00)\n",
      "Iter 0912 | Time 63.2155(61.6161) | Bit/dim 4.2275(4.2613) | Xent 1.5208(1.5360) | Loss 11.1383(11.6311) | Error 0.5508(0.5510) Steps 610(585.99) | Grad Norm 12.3424(16.6472) | Total Time 0.00(0.00)\n",
      "validating...\n",
      "Epoch 0152 | Time 23.2352, Epoch Time 409.3010(396.6597), Bit/dim 4.2506(best: 4.2203), Xent 1.4745, Loss 4.9878, Error 0.5339(best: 0.5143)\n",
      "===> Using batch size 8000. Total 6 iterations/epoch.\n"
     ]
    },
    {
     "name": "stdout",
     "output_type": "stream",
     "text": [
      "20.89820359281437\n",
      "20.89820359281437\n",
      "20.89820359281437\n",
      "20.89820359281437\n",
      "20.89820359281437\n",
      "20.89820359281437\n",
      "20.89820359281437\n",
      "20.89820359281437\n",
      "20.89820359281437\n",
      "20.89820359281437\n",
      "20.89820359281437\n",
      "20.89820359281437\n",
      "20.89820359281437\n",
      "20.89820359281437\n"
     ]
    },
    {
     "name": "stderr",
     "output_type": "stream",
     "text": [
      "Iter 0913 | Time 62.9995(61.6576) | Bit/dim 4.2534(4.2611) | Xent 1.5351(1.5360) | Loss 14.3629(11.7131) | Error 0.5564(0.5511) Steps 550(584.91) | Grad Norm 29.6952(17.0386) | Total Time 0.00(0.00)\n",
      "Iter 0914 | Time 61.1187(61.6415) | Bit/dim 4.2294(4.2601) | Xent 1.4872(1.5346) | Loss 10.8074(11.6859) | Error 0.5390(0.5508) Steps 532(583.32) | Grad Norm 15.7752(17.0007) | Total Time 0.00(0.00)\n",
      "Iter 0915 | Time 61.0308(61.6231) | Bit/dim 4.2418(4.2596) | Xent 1.5084(1.5338) | Loss 11.0713(11.6675) | Error 0.5473(0.5507) Steps 586(583.40) | Grad Norm 16.2099(16.9770) | Total Time 0.00(0.00)\n",
      "Iter 0916 | Time 61.2563(61.6121) | Bit/dim 4.2404(4.2590) | Xent 1.5110(1.5331) | Loss 11.2136(11.6539) | Error 0.5440(0.5505) Steps 574(583.12) | Grad Norm 28.5102(17.3230) | Total Time 0.00(0.00)\n",
      "Iter 0917 | Time 60.7163(61.5853) | Bit/dim 4.2149(4.2577) | Xent 1.5037(1.5322) | Loss 11.2351(11.6413) | Error 0.5385(0.5501) Steps 610(583.93) | Grad Norm 14.7999(17.2473) | Total Time 0.00(0.00)\n",
      "Iter 0918 | Time 61.2466(61.5751) | Bit/dim 4.2139(4.2564) | Xent 1.4927(1.5310) | Loss 11.2447(11.6294) | Error 0.5431(0.5499) Steps 580(583.81) | Grad Norm 13.7627(17.1427) | Total Time 0.00(0.00)\n",
      "validating...\n",
      "Epoch 0153 | Time 23.3705, Epoch Time 409.9249(397.0577), Bit/dim 4.2314(best: 4.2203), Xent 1.4831, Loss 4.9730, Error 0.5318(best: 0.5143)\n",
      "===> Using batch size 8000. Total 6 iterations/epoch.\n"
     ]
    },
    {
     "name": "stdout",
     "output_type": "stream",
     "text": [
      "20.83832335329341\n",
      "20.83832335329341\n",
      "20.83832335329341\n",
      "20.83832335329341\n",
      "20.83832335329341\n",
      "20.83832335329341\n",
      "20.83832335329341\n",
      "20.83832335329341\n",
      "20.83832335329341\n",
      "20.83832335329341\n",
      "20.83832335329341\n",
      "20.83832335329341\n",
      "20.83832335329341\n",
      "20.83832335329341\n"
     ]
    },
    {
     "name": "stderr",
     "output_type": "stream",
     "text": [
      "Iter 0919 | Time 61.6817(61.5783) | Bit/dim 4.2363(4.2558) | Xent 1.5330(1.5311) | Loss 14.5668(11.7175) | Error 0.5476(0.5498) Steps 556(582.98) | Grad Norm 27.0410(17.4397) | Total Time 0.00(0.00)\n",
      "Iter 0920 | Time 62.1662(61.5959) | Bit/dim 4.2174(4.2546) | Xent 1.5062(1.5303) | Loss 11.0937(11.6988) | Error 0.5383(0.5495) Steps 604(583.61) | Grad Norm 12.6712(17.2966) | Total Time 0.00(0.00)\n",
      "Iter 0921 | Time 64.5283(61.6839) | Bit/dim 4.2156(4.2534) | Xent 1.5116(1.5298) | Loss 10.8758(11.6741) | Error 0.5425(0.5493) Steps 580(583.50) | Grad Norm 16.0375(17.2589) | Total Time 0.00(0.00)\n",
      "Iter 0922 | Time 61.1553(61.6681) | Bit/dim 4.2280(4.2527) | Xent 1.5898(1.5316) | Loss 11.2676(11.6619) | Error 0.5724(0.5500) Steps 574(583.21) | Grad Norm 24.1629(17.4660) | Total Time 0.00(0.00)\n",
      "Iter 0923 | Time 60.2669(61.6260) | Bit/dim 4.2136(4.2515) | Xent 1.4847(1.5302) | Loss 11.1556(11.6467) | Error 0.5361(0.5496) Steps 556(582.40) | Grad Norm 12.4000(17.3140) | Total Time 0.00(0.00)\n",
      "Iter 0924 | Time 62.1467(61.6416) | Bit/dim 4.1991(4.2499) | Xent 1.5664(1.5313) | Loss 11.3252(11.6371) | Error 0.5500(0.5496) Steps 586(582.51) | Grad Norm 29.5756(17.6819) | Total Time 0.00(0.00)\n",
      "validating...\n",
      "Epoch 0154 | Time 23.2518, Epoch Time 413.8698(397.5620), Bit/dim 4.2126(best: 4.2203), Xent 1.4543, Loss 4.9398, Error 0.5206(best: 0.5143)\n",
      "===> Using batch size 8000. Total 6 iterations/epoch.\n"
     ]
    },
    {
     "name": "stdout",
     "output_type": "stream",
     "text": [
      "20.778443113772454\n",
      "20.778443113772454\n",
      "20.778443113772454\n",
      "20.778443113772454\n",
      "20.778443113772454\n",
      "20.778443113772454\n",
      "20.778443113772454\n",
      "20.778443113772454\n",
      "20.778443113772454\n",
      "20.778443113772454\n",
      "20.778443113772454\n",
      "20.778443113772454\n",
      "20.778443113772454\n",
      "20.778443113772454\n"
     ]
    },
    {
     "name": "stderr",
     "output_type": "stream",
     "text": [
      "Iter 0925 | Time 57.5802(61.5198) | Bit/dim 4.2123(4.2488) | Xent 1.4902(1.5300) | Loss 14.3706(11.7191) | Error 0.5404(0.5493) Steps 580(582.43) | Grad Norm 16.4688(17.6455) | Total Time 0.00(0.00)\n",
      "Iter 0926 | Time 64.4188(61.6068) | Bit/dim 4.2375(4.2485) | Xent 1.5136(1.5295) | Loss 11.1371(11.7016) | Error 0.5523(0.5494) Steps 562(581.82) | Grad Norm 29.6216(18.0047) | Total Time 0.00(0.00)\n",
      "Iter 0927 | Time 60.6368(61.5777) | Bit/dim 4.2143(4.2474) | Xent 1.4748(1.5279) | Loss 10.9526(11.6792) | Error 0.5289(0.5488) Steps 562(581.22) | Grad Norm 16.5867(17.9622) | Total Time 0.00(0.00)\n",
      "Iter 0928 | Time 60.4351(61.5434) | Bit/dim 4.1992(4.2460) | Xent 1.4685(1.5261) | Loss 10.8586(11.6545) | Error 0.5302(0.5482) Steps 580(581.19) | Grad Norm 11.3302(17.7632) | Total Time 0.00(0.00)\n",
      "Iter 0929 | Time 60.4549(61.5107) | Bit/dim 4.2102(4.2449) | Xent 1.4977(1.5253) | Loss 10.9785(11.6343) | Error 0.5366(0.5479) Steps 580(581.15) | Grad Norm 15.4099(17.6926) | Total Time 0.00(0.00)\n",
      "Iter 0930 | Time 64.9858(61.6150) | Bit/dim 4.2114(4.2439) | Xent 1.4828(1.5240) | Loss 11.0700(11.6173) | Error 0.5324(0.5474) Steps 598(581.66) | Grad Norm 16.1591(17.6466) | Total Time 0.00(0.00)\n",
      "validating...\n",
      "Epoch 0155 | Time 23.0424, Epoch Time 410.0613(397.9370), Bit/dim 4.2087(best: 4.2126), Xent 1.4296, Loss 4.9235, Error 0.5118(best: 0.5143)\n",
      "===> Using batch size 8000. Total 6 iterations/epoch.\n"
     ]
    },
    {
     "name": "stdout",
     "output_type": "stream",
     "text": [
      "20.718562874251496\n",
      "20.718562874251496\n",
      "20.718562874251496\n",
      "20.718562874251496\n",
      "20.718562874251496\n",
      "20.718562874251496\n",
      "20.718562874251496\n",
      "20.718562874251496\n",
      "20.718562874251496\n",
      "20.718562874251496\n",
      "20.718562874251496\n",
      "20.718562874251496\n",
      "20.718562874251496\n",
      "20.718562874251496\n"
     ]
    },
    {
     "name": "stderr",
     "output_type": "stream",
     "text": [
      "Iter 0931 | Time 66.6046(61.7647) | Bit/dim 4.2064(4.2428) | Xent 1.4726(1.5224) | Loss 14.2487(11.6963) | Error 0.5274(0.5468) Steps 616(582.69) | Grad Norm 20.3528(17.7278) | Total Time 0.00(0.00)\n",
      "Iter 0932 | Time 63.6451(61.8211) | Bit/dim 4.2402(4.2427) | Xent 1.4863(1.5214) | Loss 11.0855(11.6779) | Error 0.5335(0.5464) Steps 610(583.51) | Grad Norm 26.1622(17.9809) | Total Time 0.00(0.00)\n",
      "Iter 0933 | Time 58.1855(61.7120) | Bit/dim 4.2190(4.2420) | Xent 1.4622(1.5196) | Loss 11.0703(11.6597) | Error 0.5291(0.5459) Steps 568(583.04) | Grad Norm 13.5727(17.8486) | Total Time 0.00(0.00)\n",
      "Iter 0934 | Time 62.5427(61.7369) | Bit/dim 4.1880(4.2404) | Xent 1.5013(1.5190) | Loss 11.1146(11.6434) | Error 0.5405(0.5457) Steps 586(583.13) | Grad Norm 19.9012(17.9102) | Total Time 0.00(0.00)\n",
      "Iter 0935 | Time 58.1419(61.6291) | Bit/dim 4.1897(4.2388) | Xent 1.4902(1.5182) | Loss 10.7350(11.6161) | Error 0.5337(0.5454) Steps 592(583.40) | Grad Norm 16.5504(17.8694) | Total Time 0.00(0.00)\n",
      "Iter 0936 | Time 62.7439(61.6625) | Bit/dim 4.1925(4.2375) | Xent 1.4630(1.5165) | Loss 11.0230(11.5983) | Error 0.5340(0.5450) Steps 604(584.01) | Grad Norm 6.1084(17.5166) | Total Time 0.00(0.00)\n",
      "validating...\n",
      "Epoch 0156 | Time 23.0209, Epoch Time 412.5734(398.3761), Bit/dim 4.1940(best: 4.2087), Xent 1.4361, Loss 4.9120, Error 0.5186(best: 0.5118)\n",
      "===> Using batch size 8000. Total 6 iterations/epoch.\n"
     ]
    },
    {
     "name": "stdout",
     "output_type": "stream",
     "text": [
      "20.65868263473054\n",
      "20.65868263473054\n",
      "20.65868263473054\n",
      "20.65868263473054\n",
      "20.65868263473054\n",
      "20.65868263473054\n",
      "20.65868263473054\n",
      "20.65868263473054\n",
      "20.65868263473054\n",
      "20.65868263473054\n",
      "20.65868263473054\n",
      "20.65868263473054\n",
      "20.65868263473054\n",
      "20.65868263473054\n"
     ]
    },
    {
     "name": "stderr",
     "output_type": "stream",
     "text": [
      "Iter 0937 | Time 61.3416(61.6529) | Bit/dim 4.1888(4.2360) | Xent 1.4864(1.5156) | Loss 13.7686(11.6634) | Error 0.5331(0.5447) Steps 562(583.35) | Grad Norm 16.7068(17.4923) | Total Time 0.00(0.00)\n",
      "Iter 0938 | Time 63.8762(61.7196) | Bit/dim 4.1982(4.2349) | Xent 1.4710(1.5143) | Loss 11.2639(11.6514) | Error 0.5297(0.5442) Steps 580(583.25) | Grad Norm 14.4773(17.4018) | Total Time 0.00(0.00)\n",
      "Iter 0939 | Time 62.1604(61.7328) | Bit/dim 4.1815(4.2333) | Xent 1.4718(1.5130) | Loss 10.8036(11.6260) | Error 0.5281(0.5437) Steps 598(583.69) | Grad Norm 8.7710(17.1429) | Total Time 0.00(0.00)\n",
      "Iter 0940 | Time 57.7137(61.6123) | Bit/dim 4.1955(4.2321) | Xent 1.4751(1.5119) | Loss 10.3732(11.5884) | Error 0.5331(0.5434) Steps 586(583.76) | Grad Norm 20.3912(17.2403) | Total Time 0.00(0.00)\n",
      "Iter 0941 | Time 59.7283(61.5557) | Bit/dim 4.2021(4.2312) | Xent 1.4920(1.5113) | Loss 11.0966(11.5737) | Error 0.5368(0.5432) Steps 574(583.47) | Grad Norm 26.5766(17.5204) | Total Time 0.00(0.00)\n",
      "Iter 0942 | Time 59.5723(61.4962) | Bit/dim 4.1925(4.2301) | Xent 1.4795(1.5103) | Loss 11.0776(11.5588) | Error 0.5334(0.5429) Steps 574(583.19) | Grad Norm 22.5740(17.6720) | Total Time 0.00(0.00)\n",
      "validating...\n",
      "Epoch 0157 | Time 23.6612, Epoch Time 405.6895(398.5955), Bit/dim 4.2270(best: 4.1940), Xent 1.4420, Loss 4.9479, Error 0.5194(best: 0.5118)\n",
      "===> Using batch size 8000. Total 6 iterations/epoch.\n"
     ]
    },
    {
     "name": "stdout",
     "output_type": "stream",
     "text": [
      "20.598802395209578\n",
      "20.598802395209578\n",
      "20.598802395209578\n",
      "20.598802395209578\n",
      "20.598802395209578\n",
      "20.598802395209578\n",
      "20.598802395209578\n",
      "20.598802395209578\n",
      "20.598802395209578\n",
      "20.598802395209578\n",
      "20.598802395209578\n",
      "20.598802395209578\n",
      "20.598802395209578\n",
      "20.598802395209578\n"
     ]
    },
    {
     "name": "stderr",
     "output_type": "stream",
     "text": [
      "Iter 0943 | Time 60.1786(61.4567) | Bit/dim 4.2426(4.2304) | Xent 1.5115(1.5103) | Loss 14.1276(11.6358) | Error 0.5403(0.5428) Steps 580(583.09) | Grad Norm 26.2907(17.9306) | Total Time 0.00(0.00)\n",
      "Iter 0944 | Time 59.9069(61.4102) | Bit/dim 4.2136(4.2299) | Xent 1.4559(1.5087) | Loss 11.0964(11.6197) | Error 0.5239(0.5423) Steps 586(583.18) | Grad Norm 20.3012(18.0017) | Total Time 0.00(0.00)\n",
      "Iter 0945 | Time 62.0203(61.4285) | Bit/dim 4.1817(4.2285) | Xent 1.4721(1.5076) | Loss 10.8982(11.5980) | Error 0.5295(0.5419) Steps 586(583.26) | Grad Norm 24.4953(18.1965) | Total Time 0.00(0.00)\n",
      "Iter 0946 | Time 63.5273(61.4915) | Bit/dim 4.1749(4.2269) | Xent 1.4417(1.5056) | Loss 11.1054(11.5832) | Error 0.5204(0.5412) Steps 598(583.71) | Grad Norm 10.3746(17.9619) | Total Time 0.00(0.00)\n",
      "Iter 0947 | Time 58.2263(61.3935) | Bit/dim 4.1904(4.2258) | Xent 1.4539(1.5041) | Loss 10.7817(11.5592) | Error 0.5265(0.5408) Steps 574(583.41) | Grad Norm 15.0560(17.8747) | Total Time 0.00(0.00)\n",
      "Iter 0948 | Time 62.0221(61.4124) | Bit/dim 4.1948(4.2249) | Xent 1.5011(1.5040) | Loss 10.9994(11.5424) | Error 0.5323(0.5405) Steps 598(583.85) | Grad Norm 27.8474(18.1739) | Total Time 0.00(0.00)\n",
      "validating...\n",
      "Epoch 0158 | Time 23.3811, Epoch Time 407.2053(398.8538), Bit/dim 4.1743(best: 4.1940), Xent 1.3926, Loss 4.8706, Error 0.5104(best: 0.5118)\n",
      "===> Using batch size 8000. Total 6 iterations/epoch.\n"
     ]
    },
    {
     "name": "stdout",
     "output_type": "stream",
     "text": [
      "20.538922155688624\n",
      "20.538922155688624\n",
      "20.538922155688624\n",
      "20.538922155688624\n",
      "20.538922155688624\n",
      "20.538922155688624\n",
      "20.538922155688624\n",
      "20.538922155688624\n",
      "20.538922155688624\n",
      "20.538922155688624\n",
      "20.538922155688624\n",
      "20.538922155688624\n",
      "20.538922155688624\n",
      "20.538922155688624\n"
     ]
    },
    {
     "name": "stderr",
     "output_type": "stream",
     "text": [
      "Iter 0949 | Time 64.8714(61.5161) | Bit/dim 4.1685(4.2232) | Xent 1.4219(1.5015) | Loss 14.0634(11.6180) | Error 0.5162(0.5398) Steps 610(584.64) | Grad Norm 7.5091(17.8539) | Total Time 0.00(0.00)\n",
      "Iter 0950 | Time 61.6163(61.5191) | Bit/dim 4.1718(4.2216) | Xent 1.4594(1.5003) | Loss 11.0933(11.6023) | Error 0.5268(0.5394) Steps 604(585.22) | Grad Norm 18.1348(17.8624) | Total Time 0.00(0.00)\n",
      "Iter 0951 | Time 67.9237(61.7113) | Bit/dim 4.2186(4.2215) | Xent 1.4857(1.4998) | Loss 11.2445(11.5916) | Error 0.5368(0.5393) Steps 580(585.06) | Grad Norm 26.4947(18.1213) | Total Time 0.00(0.00)\n",
      "Iter 0952 | Time 58.1890(61.6056) | Bit/dim 4.1771(4.2202) | Xent 1.4506(1.4984) | Loss 10.7107(11.5651) | Error 0.5214(0.5388) Steps 574(584.73) | Grad Norm 9.4364(17.8608) | Total Time 0.00(0.00)\n",
      "Iter 0953 | Time 64.5576(61.6942) | Bit/dim 4.1853(4.2192) | Xent 1.4468(1.4968) | Loss 11.0066(11.5484) | Error 0.5237(0.5384) Steps 586(584.77) | Grad Norm 18.7662(17.8879) | Total Time 0.00(0.00)\n",
      "Iter 0954 | Time 60.7862(61.6669) | Bit/dim 4.2281(4.2194) | Xent 1.4547(1.4955) | Loss 10.8237(11.5266) | Error 0.5222(0.5379) Steps 562(584.08) | Grad Norm 24.8949(18.0981) | Total Time 0.00(0.00)\n",
      "validating...\n",
      "Epoch 0159 | Time 22.7901, Epoch Time 418.7627(399.4511), Bit/dim 4.1926(best: 4.1743), Xent 1.4026, Loss 4.8939, Error 0.5038(best: 0.5104)\n",
      "===> Using batch size 8000. Total 6 iterations/epoch.\n"
     ]
    },
    {
     "name": "stdout",
     "output_type": "stream",
     "text": [
      "20.479041916167667\n",
      "20.479041916167667\n",
      "20.479041916167667\n",
      "20.479041916167667\n",
      "20.479041916167667\n",
      "20.479041916167667\n",
      "20.479041916167667\n",
      "20.479041916167667\n",
      "20.479041916167667\n",
      "20.479041916167667\n",
      "20.479041916167667\n",
      "20.479041916167667\n",
      "20.479041916167667\n",
      "20.479041916167667\n"
     ]
    },
    {
     "name": "stderr",
     "output_type": "stream",
     "text": [
      "Iter 0955 | Time 60.8794(61.6433) | Bit/dim 4.1894(4.2185) | Xent 1.4406(1.4939) | Loss 13.8729(11.5970) | Error 0.5175(0.5373) Steps 586(584.14) | Grad Norm 12.3160(17.9247) | Total Time 0.00(0.00)\n",
      "Iter 0956 | Time 60.0347(61.5951) | Bit/dim 4.1743(4.2172) | Xent 1.4975(1.4940) | Loss 10.9587(11.5779) | Error 0.5370(0.5373) Steps 556(583.30) | Grad Norm 25.0588(18.1387) | Total Time 0.00(0.00)\n",
      "Iter 0957 | Time 67.2406(61.7644) | Bit/dim 4.1829(4.2162) | Xent 1.4864(1.4938) | Loss 10.9810(11.5600) | Error 0.5381(0.5373) Steps 616(584.28) | Grad Norm 17.8813(18.1310) | Total Time 0.00(0.00)\n",
      "Iter 0958 | Time 58.0449(61.6528) | Bit/dim 4.1739(4.2149) | Xent 1.4611(1.4928) | Loss 10.9732(11.5424) | Error 0.5162(0.5366) Steps 562(583.61) | Grad Norm 10.8818(17.9135) | Total Time 0.00(0.00)\n",
      "Iter 0959 | Time 60.5136(61.6187) | Bit/dim 4.1836(4.2140) | Xent 1.5091(1.4933) | Loss 10.9689(11.5252) | Error 0.5359(0.5366) Steps 580(583.50) | Grad Norm 20.8537(18.0017) | Total Time 0.00(0.00)\n",
      "Iter 0960 | Time 69.4736(61.8543) | Bit/dim 4.2033(4.2136) | Xent 1.4905(1.4932) | Loss 11.0498(11.5109) | Error 0.5360(0.5366) Steps 628(584.84) | Grad Norm 15.9383(17.9398) | Total Time 0.00(0.00)\n",
      "validating...\n",
      "Epoch 0160 | Time 22.4138, Epoch Time 415.9822(399.9470), Bit/dim 4.1683(best: 4.1743), Xent 1.4284, Loss 4.8824, Error 0.5202(best: 0.5038)\n",
      "===> Using batch size 8000. Total 6 iterations/epoch.\n"
     ]
    },
    {
     "name": "stdout",
     "output_type": "stream",
     "text": [
      "20.419161676646706\n",
      "20.419161676646706\n",
      "20.419161676646706\n",
      "20.419161676646706\n",
      "20.419161676646706\n",
      "20.419161676646706\n",
      "20.419161676646706\n",
      "20.419161676646706\n",
      "20.419161676646706\n",
      "20.419161676646706\n",
      "20.419161676646706\n",
      "20.419161676646706\n",
      "20.419161676646706\n",
      "20.419161676646706\n"
     ]
    },
    {
     "name": "stderr",
     "output_type": "stream",
     "text": [
      "Iter 0961 | Time 63.0442(61.8900) | Bit/dim 4.1707(4.2123) | Xent 1.4580(1.4921) | Loss 14.1402(11.5898) | Error 0.5309(0.5364) Steps 604(585.41) | Grad Norm 10.4531(17.7152) | Total Time 0.00(0.00)\n",
      "Iter 0962 | Time 64.1921(61.9591) | Bit/dim 4.1798(4.2114) | Xent 1.4865(1.4920) | Loss 11.0930(11.5749) | Error 0.5354(0.5364) Steps 562(584.71) | Grad Norm 16.1707(17.6689) | Total Time 0.00(0.00)\n",
      "Iter 0963 | Time 58.2140(61.8467) | Bit/dim 4.1914(4.2108) | Xent 1.4478(1.4906) | Loss 11.1115(11.5610) | Error 0.5164(0.5358) Steps 556(583.85) | Grad Norm 13.9104(17.5561) | Total Time 0.00(0.00)\n",
      "Iter 0964 | Time 64.9616(61.9402) | Bit/dim 4.1843(4.2100) | Xent 1.4659(1.4899) | Loss 11.0000(11.5441) | Error 0.5221(0.5354) Steps 604(584.45) | Grad Norm 12.8964(17.4163) | Total Time 0.00(0.00)\n",
      "Iter 0965 | Time 65.2321(62.0389) | Bit/dim 4.1939(4.2095) | Xent 1.4376(1.4883) | Loss 11.1248(11.5316) | Error 0.5224(0.5350) Steps 580(584.32) | Grad Norm 12.4650(17.2678) | Total Time 0.00(0.00)\n",
      "Iter 0966 | Time 60.3171(61.9873) | Bit/dim 4.1847(4.2088) | Xent 1.4515(1.4872) | Loss 11.1233(11.5193) | Error 0.5290(0.5348) Steps 586(584.37) | Grad Norm 16.6452(17.2491) | Total Time 0.00(0.00)\n",
      "validating...\n",
      "Epoch 0161 | Time 23.2339, Epoch Time 417.3323(400.4685), Bit/dim 4.2060(best: 4.1683), Xent 1.4048, Loss 4.9084, Error 0.5092(best: 0.5038)\n",
      "===> Using batch size 8000. Total 6 iterations/epoch.\n"
     ]
    },
    {
     "name": "stdout",
     "output_type": "stream",
     "text": [
      "20.35928143712575\n",
      "20.35928143712575\n",
      "20.35928143712575\n",
      "20.35928143712575\n",
      "20.35928143712575\n",
      "20.35928143712575\n",
      "20.35928143712575\n",
      "20.35928143712575\n",
      "20.35928143712575\n",
      "20.35928143712575\n",
      "20.35928143712575\n",
      "20.35928143712575\n",
      "20.35928143712575\n",
      "20.35928143712575\n"
     ]
    },
    {
     "name": "stderr",
     "output_type": "stream",
     "text": [
      "Iter 0967 | Time 60.9541(61.9563) | Bit/dim 4.2094(4.2088) | Xent 1.4396(1.4858) | Loss 14.2834(11.6022) | Error 0.5208(0.5344) Steps 598(584.78) | Grad Norm 27.3682(17.5527) | Total Time 0.00(0.00)\n",
      "Iter 0968 | Time 64.3996(62.0296) | Bit/dim 4.1543(4.2071) | Xent 1.4416(1.4845) | Loss 10.8480(11.5796) | Error 0.5162(0.5339) Steps 556(583.91) | Grad Norm 8.7706(17.2892) | Total Time 0.00(0.00)\n",
      "Iter 0969 | Time 62.4398(62.0419) | Bit/dim 4.1605(4.2057) | Xent 1.4317(1.4829) | Loss 10.9451(11.5606) | Error 0.5180(0.5334) Steps 610(584.70) | Grad Norm 16.9073(17.2778) | Total Time 0.00(0.00)\n",
      "Iter 0970 | Time 64.1124(62.1040) | Bit/dim 4.1976(4.2055) | Xent 1.4755(1.4827) | Loss 11.0665(11.5458) | Error 0.5325(0.5334) Steps 580(584.56) | Grad Norm 27.6146(17.5879) | Total Time 0.00(0.00)\n",
      "Iter 0971 | Time 57.8511(61.9764) | Bit/dim 4.2068(4.2055) | Xent 1.4417(1.4814) | Loss 11.1056(11.5325) | Error 0.5209(0.5330) Steps 580(584.42) | Grad Norm 16.0229(17.5409) | Total Time 0.00(0.00)\n",
      "Iter 0972 | Time 66.8545(62.1227) | Bit/dim 4.1518(4.2039) | Xent 1.4291(1.4799) | Loss 11.0156(11.5170) | Error 0.5191(0.5326) Steps 544(583.21) | Grad Norm 10.2760(17.3230) | Total Time 0.00(0.00)\n",
      "validating...\n",
      "Epoch 0162 | Time 23.0046, Epoch Time 417.1413(400.9687), Bit/dim 4.1729(best: 4.1683), Xent 1.3958, Loss 4.8708, Error 0.5067(best: 0.5038)\n",
      "===> Using batch size 8000. Total 6 iterations/epoch.\n"
     ]
    },
    {
     "name": "stdout",
     "output_type": "stream",
     "text": [
      "20.29940119760479\n",
      "20.29940119760479\n",
      "20.29940119760479\n",
      "20.29940119760479\n",
      "20.29940119760479\n",
      "20.29940119760479\n",
      "20.29940119760479\n",
      "20.29940119760479\n",
      "20.29940119760479\n",
      "20.29940119760479\n",
      "20.29940119760479\n",
      "20.29940119760479\n",
      "20.29940119760479\n",
      "20.29940119760479\n"
     ]
    },
    {
     "name": "stderr",
     "output_type": "stream",
     "text": [
      "Iter 0973 | Time 60.6421(62.0783) | Bit/dim 4.1815(4.2032) | Xent 1.4453(1.4788) | Loss 14.0599(11.5933) | Error 0.5180(0.5321) Steps 586(583.29) | Grad Norm 13.6515(17.2128) | Total Time 0.00(0.00)\n",
      "Iter 0974 | Time 58.5780(61.9733) | Bit/dim 4.1561(4.2018) | Xent 1.4545(1.4781) | Loss 10.6949(11.5664) | Error 0.5279(0.5320) Steps 568(582.83) | Grad Norm 14.4949(17.1313) | Total Time 0.00(0.00)\n",
      "Iter 0975 | Time 63.8438(62.0294) | Bit/dim 4.1715(4.2009) | Xent 1.4448(1.4771) | Loss 10.5834(11.5369) | Error 0.5222(0.5317) Steps 592(583.11) | Grad Norm 19.0236(17.1881) | Total Time 0.00(0.00)\n",
      "Iter 0976 | Time 63.1583(62.0633) | Bit/dim 4.1681(4.1999) | Xent 1.4457(1.4762) | Loss 11.0178(11.5213) | Error 0.5202(0.5314) Steps 580(583.01) | Grad Norm 21.2797(17.3108) | Total Time 0.00(0.00)\n",
      "Iter 0977 | Time 63.0874(62.0940) | Bit/dim 4.1689(4.1990) | Xent 1.4323(1.4749) | Loss 10.9917(11.5054) | Error 0.5225(0.5311) Steps 586(583.10) | Grad Norm 23.8919(17.5082) | Total Time 0.00(0.00)\n",
      "Iter 0978 | Time 65.6652(62.2012) | Bit/dim 4.1594(4.1978) | Xent 1.4515(1.4742) | Loss 10.6784(11.4806) | Error 0.5344(0.5312) Steps 562(582.47) | Grad Norm 16.9395(17.4912) | Total Time 0.00(0.00)\n",
      "validating...\n",
      "Epoch 0163 | Time 23.3588, Epoch Time 416.8016(401.4437), Bit/dim 4.1548(best: 4.1683), Xent 1.3840, Loss 4.8468, Error 0.5069(best: 0.5038)\n",
      "===> Using batch size 8000. Total 6 iterations/epoch.\n"
     ]
    },
    {
     "name": "stdout",
     "output_type": "stream",
     "text": [
      "20.239520958083833\n",
      "20.239520958083833\n",
      "20.239520958083833\n",
      "20.239520958083833\n",
      "20.239520958083833\n",
      "20.239520958083833\n",
      "20.239520958083833\n",
      "20.239520958083833\n",
      "20.239520958083833\n",
      "20.239520958083833\n",
      "20.239520958083833\n",
      "20.239520958083833\n",
      "20.239520958083833\n",
      "20.239520958083833\n"
     ]
    },
    {
     "name": "stderr",
     "output_type": "stream",
     "text": [
      "Iter 0979 | Time 61.2068(62.1713) | Bit/dim 4.1451(4.1962) | Xent 1.4259(1.4727) | Loss 13.4613(11.5400) | Error 0.5162(0.5307) Steps 568(582.04) | Grad Norm 10.4707(17.2806) | Total Time 0.00(0.00)\n",
      "Iter 0980 | Time 65.9404(62.2844) | Bit/dim 4.1558(4.1950) | Xent 1.3916(1.4703) | Loss 11.0865(11.5264) | Error 0.5091(0.5301) Steps 556(581.26) | Grad Norm 7.8529(16.9977) | Total Time 0.00(0.00)\n",
      "Iter 0981 | Time 64.1571(62.3406) | Bit/dim 4.1450(4.1935) | Xent 1.4189(1.4687) | Loss 10.8617(11.5065) | Error 0.5090(0.5295) Steps 580(581.22) | Grad Norm 11.3317(16.8278) | Total Time 0.00(0.00)\n",
      "Iter 0982 | Time 63.7126(62.3817) | Bit/dim 4.1483(4.1922) | Xent 1.4746(1.4689) | Loss 10.5857(11.4789) | Error 0.5274(0.5294) Steps 574(581.00) | Grad Norm 15.4582(16.7867) | Total Time 0.00(0.00)\n",
      "Iter 0983 | Time 61.4175(62.3528) | Bit/dim 4.1442(4.1907) | Xent 1.4736(1.4690) | Loss 10.9212(11.4621) | Error 0.5270(0.5293) Steps 556(580.25) | Grad Norm 23.8145(16.9975) | Total Time 0.00(0.00)\n",
      "Iter 0984 | Time 59.3678(62.2633) | Bit/dim 4.1524(4.1896) | Xent 1.4959(1.4699) | Loss 10.9443(11.4466) | Error 0.5331(0.5294) Steps 556(579.52) | Grad Norm 23.1049(17.1807) | Total Time 0.00(0.00)\n",
      "validating...\n",
      "Epoch 0164 | Time 23.6441, Epoch Time 417.7320(401.9324), Bit/dim 4.1624(best: 4.1548), Xent 1.4160, Loss 4.8704, Error 0.5166(best: 0.5038)\n",
      "===> Using batch size 8000. Total 6 iterations/epoch.\n"
     ]
    },
    {
     "name": "stdout",
     "output_type": "stream",
     "text": [
      "20.179640718562876\n",
      "20.179640718562876\n",
      "20.179640718562876\n",
      "20.179640718562876\n",
      "20.179640718562876\n",
      "20.179640718562876\n",
      "20.179640718562876\n",
      "20.179640718562876\n",
      "20.179640718562876\n",
      "20.179640718562876\n",
      "20.179640718562876\n",
      "20.179640718562876\n",
      "20.179640718562876\n",
      "20.179640718562876\n"
     ]
    },
    {
     "name": "stderr",
     "output_type": "stream",
     "text": [
      "Iter 0985 | Time 60.2420(62.2026) | Bit/dim 4.1602(4.1887) | Xent 1.4690(1.4698) | Loss 14.2763(11.5315) | Error 0.5355(0.5296) Steps 604(580.26) | Grad Norm 14.9107(17.1126) | Total Time 0.00(0.00)\n",
      "Iter 0986 | Time 61.4397(62.1797) | Bit/dim 4.1586(4.1878) | Xent 1.4168(1.4682) | Loss 10.6436(11.5049) | Error 0.5117(0.5291) Steps 568(579.89) | Grad Norm 9.8521(16.8948) | Total Time 0.00(0.00)\n",
      "Iter 0987 | Time 59.7604(62.1072) | Bit/dim 4.1684(4.1872) | Xent 1.4706(1.4683) | Loss 11.0256(11.4905) | Error 0.5380(0.5294) Steps 568(579.53) | Grad Norm 27.8434(17.2233) | Total Time 0.00(0.00)\n",
      "Iter 0988 | Time 59.9277(62.0418) | Bit/dim 4.1517(4.1861) | Xent 1.4818(1.4687) | Loss 10.7758(11.4690) | Error 0.5335(0.5295) Steps 568(579.19) | Grad Norm 20.1478(17.3110) | Total Time 0.00(0.00)\n",
      "Iter 0989 | Time 61.5486(62.0270) | Bit/dim 4.2147(4.1870) | Xent 1.5625(1.4715) | Loss 11.0551(11.4566) | Error 0.5457(0.5300) Steps 556(578.49) | Grad Norm 47.9909(18.2314) | Total Time 0.00(0.00)\n",
      "Iter 0990 | Time 60.9386(61.9943) | Bit/dim 4.1641(4.1863) | Xent 1.4714(1.4715) | Loss 10.8770(11.4392) | Error 0.5340(0.5301) Steps 568(578.18) | Grad Norm 16.3891(18.1761) | Total Time 0.00(0.00)\n",
      "validating...\n",
      "Epoch 0165 | Time 22.9712, Epoch Time 404.2955(402.0033), Bit/dim 4.1962(best: 4.1548), Xent 1.4494, Loss 4.9209, Error 0.5227(best: 0.5038)\n",
      "===> Using batch size 8000. Total 6 iterations/epoch.\n"
     ]
    },
    {
     "name": "stdout",
     "output_type": "stream",
     "text": [
      "20.119760479041915\n",
      "20.119760479041915\n",
      "20.119760479041915\n",
      "20.119760479041915\n",
      "20.119760479041915\n",
      "20.119760479041915\n",
      "20.119760479041915\n",
      "20.119760479041915\n",
      "20.119760479041915\n",
      "20.119760479041915\n",
      "20.119760479041915\n",
      "20.119760479041915\n",
      "20.119760479041915\n",
      "20.119760479041915\n"
     ]
    },
    {
     "name": "stderr",
     "output_type": "stream",
     "text": [
      "Iter 0991 | Time 63.0653(62.0265) | Bit/dim 4.1975(4.1867) | Xent 1.4816(1.4718) | Loss 14.2317(11.5230) | Error 0.5365(0.5303) Steps 628(579.67) | Grad Norm 28.4632(18.4847) | Total Time 0.00(0.00)\n",
      "Iter 0992 | Time 62.2508(62.0332) | Bit/dim 4.1898(4.1867) | Xent 1.4796(1.4721) | Loss 10.8940(11.5041) | Error 0.5393(0.5306) Steps 592(580.04) | Grad Norm 23.7731(18.6434) | Total Time 0.00(0.00)\n",
      "Iter 0993 | Time 61.0360(62.0033) | Bit/dim 4.1613(4.1860) | Xent 1.4871(1.4725) | Loss 10.9897(11.4887) | Error 0.5436(0.5309) Steps 568(579.68) | Grad Norm 13.7854(18.4977) | Total Time 0.00(0.00)\n",
      "Iter 0994 | Time 64.8464(62.0886) | Bit/dim 4.1538(4.1850) | Xent 1.4721(1.4725) | Loss 11.1627(11.4789) | Error 0.5334(0.5310) Steps 592(580.05) | Grad Norm 21.7731(18.5959) | Total Time 0.00(0.00)\n",
      "Iter 0995 | Time 59.3995(62.0079) | Bit/dim 4.1766(4.1848) | Xent 1.4841(1.4728) | Loss 10.9276(11.4624) | Error 0.5300(0.5310) Steps 586(580.23) | Grad Norm 24.3666(18.7690) | Total Time 0.00(0.00)\n",
      "Iter 0996 | Time 61.8181(62.0022) | Bit/dim 4.1592(4.1840) | Xent 1.4409(1.4719) | Loss 10.8778(11.4448) | Error 0.5265(0.5309) Steps 556(579.50) | Grad Norm 15.5532(18.6726) | Total Time 0.00(0.00)\n",
      "validating...\n",
      "Epoch 0166 | Time 23.4383, Epoch Time 414.4188(402.3757), Bit/dim 4.1455(best: 4.1548), Xent 1.3851, Loss 4.8380, Error 0.4990(best: 0.5038)\n",
      "===> Using batch size 8000. Total 6 iterations/epoch.\n"
     ]
    },
    {
     "name": "stdout",
     "output_type": "stream",
     "text": [
      "20.059880239520957\n",
      "20.059880239520957\n",
      "20.059880239520957\n",
      "20.059880239520957\n",
      "20.059880239520957\n",
      "20.059880239520957\n",
      "20.059880239520957\n",
      "20.059880239520957\n",
      "20.059880239520957\n",
      "20.059880239520957\n",
      "20.059880239520957\n",
      "20.059880239520957\n",
      "20.059880239520957\n",
      "20.059880239520957\n"
     ]
    },
    {
     "name": "stderr",
     "output_type": "stream",
     "text": [
      "Iter 0997 | Time 63.0529(62.0337) | Bit/dim 4.1583(4.1832) | Xent 1.4052(1.4699) | Loss 13.9882(11.5211) | Error 0.5069(0.5301) Steps 574(579.34) | Grad Norm 13.1410(18.5066) | Total Time 0.00(0.00)\n",
      "Iter 0998 | Time 65.7576(62.1454) | Bit/dim 4.1995(4.1837) | Xent 1.4368(1.4689) | Loss 10.8297(11.5004) | Error 0.5168(0.5297) Steps 562(578.82) | Grad Norm 23.3210(18.6511) | Total Time 0.00(0.00)\n",
      "Iter 0999 | Time 63.8289(62.1959) | Bit/dim 4.1596(4.1830) | Xent 1.4391(1.4680) | Loss 11.0713(11.4875) | Error 0.5220(0.5295) Steps 592(579.21) | Grad Norm 15.7790(18.5649) | Total Time 0.00(0.00)\n",
      "Iter 1000 | Time 61.9173(62.1876) | Bit/dim 4.1340(4.1815) | Xent 1.4285(1.4668) | Loss 10.5610(11.4597) | Error 0.5202(0.5292) Steps 580(579.24) | Grad Norm 15.9679(18.4870) | Total Time 0.00(0.00)\n",
      "Iter 1001 | Time 60.0417(62.1232) | Bit/dim 4.1421(4.1803) | Xent 1.4291(1.4657) | Loss 11.0335(11.4469) | Error 0.5129(0.5287) Steps 568(578.90) | Grad Norm 13.4903(18.3371) | Total Time 0.00(0.00)\n",
      "Iter 1002 | Time 60.2154(62.0660) | Bit/dim 4.1360(4.1790) | Xent 1.4198(1.4643) | Loss 10.7133(11.4249) | Error 0.5157(0.5283) Steps 574(578.75) | Grad Norm 10.0352(18.0880) | Total Time 0.00(0.00)\n",
      "validating...\n",
      "Epoch 0167 | Time 23.2570, Epoch Time 416.1612(402.7893), Bit/dim 4.1359(best: 4.1455), Xent 1.3548, Loss 4.8133, Error 0.4935(best: 0.4990)\n",
      "===> Using batch size 8000. Total 6 iterations/epoch.\n"
     ]
    },
    {
     "name": "stdout",
     "output_type": "stream",
     "text": [
      "20.000000000000004\n",
      "20.000000000000004\n",
      "20.000000000000004\n",
      "20.000000000000004\n",
      "20.000000000000004\n",
      "20.000000000000004\n",
      "20.000000000000004\n",
      "20.000000000000004\n",
      "20.000000000000004\n",
      "20.000000000000004\n",
      "20.000000000000004\n",
      "20.000000000000004\n",
      "20.000000000000004\n",
      "20.000000000000004\n"
     ]
    },
    {
     "name": "stderr",
     "output_type": "stream",
     "text": [
      "Iter 1003 | Time 59.5663(61.9910) | Bit/dim 4.1365(4.1777) | Xent 1.4100(1.4627) | Loss 13.8483(11.4976) | Error 0.5075(0.5277) Steps 580(578.79) | Grad Norm 8.0460(17.7868) | Total Time 0.00(0.00)\n",
      "Iter 1004 | Time 65.3665(62.0922) | Bit/dim 4.1288(4.1763) | Xent 1.4081(1.4610) | Loss 10.9808(11.4821) | Error 0.5106(0.5272) Steps 568(578.47) | Grad Norm 11.2621(17.5910) | Total Time 0.00(0.00)\n",
      "Iter 1005 | Time 64.6101(62.1678) | Bit/dim 4.1469(4.1754) | Xent 1.4418(1.4605) | Loss 10.8716(11.4638) | Error 0.5292(0.5273) Steps 580(578.51) | Grad Norm 18.1433(17.6076) | Total Time 0.00(0.00)\n",
      "Iter 1006 | Time 59.4431(62.0860) | Bit/dim 4.1513(4.1747) | Xent 1.4471(1.4601) | Loss 10.8532(11.4455) | Error 0.5280(0.5273) Steps 544(577.48) | Grad Norm 25.3009(17.8384) | Total Time 0.00(0.00)\n",
      "Iter 1007 | Time 58.6894(61.9841) | Bit/dim 4.1573(4.1741) | Xent 1.4307(1.4592) | Loss 10.9361(11.4302) | Error 0.5196(0.5271) Steps 586(577.73) | Grad Norm 24.8673(18.0493) | Total Time 0.00(0.00)\n",
      "Iter 1008 | Time 60.1803(61.9300) | Bit/dim 4.1396(4.1731) | Xent 1.4623(1.4593) | Loss 10.8180(11.4118) | Error 0.5211(0.5269) Steps 580(577.80) | Grad Norm 27.2712(18.3259) | Total Time 0.00(0.00)\n",
      "validating...\n",
      "Epoch 0168 | Time 22.8260, Epoch Time 409.2015(402.9817), Bit/dim 4.1316(best: 4.1359), Xent 1.3956, Loss 4.8294, Error 0.5028(best: 0.4935)\n",
      "===> Using batch size 8000. Total 6 iterations/epoch.\n"
     ]
    },
    {
     "name": "stdout",
     "output_type": "stream",
     "text": [
      "19.940119760479043\n",
      "19.940119760479043\n",
      "19.940119760479043\n",
      "19.940119760479043\n",
      "19.940119760479043\n",
      "19.940119760479043\n",
      "19.940119760479043\n",
      "19.940119760479043\n",
      "19.940119760479043\n",
      "19.940119760479043\n",
      "19.940119760479043\n",
      "19.940119760479043\n",
      "19.940119760479043\n",
      "19.940119760479043\n"
     ]
    },
    {
     "name": "stderr",
     "output_type": "stream",
     "text": [
      "Iter 1009 | Time 61.3370(61.9122) | Bit/dim 4.1241(4.1716) | Xent 1.4147(1.4579) | Loss 13.9921(11.4893) | Error 0.5144(0.5265) Steps 604(578.59) | Grad Norm 12.7396(18.1583) | Total Time 0.00(0.00)\n",
      "Iter 1010 | Time 60.1679(61.8599) | Bit/dim 4.1388(4.1707) | Xent 1.4347(1.4572) | Loss 10.8875(11.4712) | Error 0.5215(0.5264) Steps 556(577.91) | Grad Norm 21.4385(18.2567) | Total Time 0.00(0.00)\n",
      "Iter 1011 | Time 62.4061(61.8763) | Bit/dim 4.1534(4.1701) | Xent 1.5538(1.4601) | Loss 11.0342(11.4581) | Error 0.5503(0.5271) Steps 592(578.33) | Grad Norm 42.0835(18.9715) | Total Time 0.00(0.00)\n",
      "Iter 1012 | Time 64.4945(61.9548) | Bit/dim 4.1448(4.1694) | Xent 1.4147(1.4588) | Loss 10.9347(11.4424) | Error 0.5130(0.5266) Steps 574(578.20) | Grad Norm 17.9906(18.9421) | Total Time 0.00(0.00)\n",
      "Iter 1013 | Time 60.5453(61.9125) | Bit/dim 4.2570(4.1720) | Xent 1.6221(1.4637) | Loss 11.4661(11.4431) | Error 0.5594(0.5276) Steps 574(578.08) | Grad Norm 52.8938(19.9607) | Total Time 0.00(0.00)\n",
      "Iter 1014 | Time 61.7302(61.9071) | Bit/dim 4.2395(4.1740) | Xent 1.5775(1.4671) | Loss 11.3099(11.4391) | Error 0.5491(0.5283) Steps 598(578.67) | Grad Norm 41.2363(20.5989) | Total Time 0.00(0.00)\n",
      "validating...\n",
      "Epoch 0169 | Time 23.6107, Epoch Time 412.2789(403.2606), Bit/dim 4.1687(best: 4.1316), Xent 1.4444, Loss 4.8909, Error 0.5226(best: 0.4935)\n",
      "===> Using batch size 8000. Total 6 iterations/epoch.\n"
     ]
    },
    {
     "name": "stdout",
     "output_type": "stream",
     "text": [
      "19.88023952095808\n",
      "19.88023952095808\n",
      "19.88023952095808\n",
      "19.88023952095808\n",
      "19.88023952095808\n",
      "19.88023952095808\n",
      "19.88023952095808\n",
      "19.88023952095808\n",
      "19.88023952095808\n",
      "19.88023952095808\n",
      "19.88023952095808\n",
      "19.88023952095808\n",
      "19.88023952095808\n",
      "19.88023952095808\n"
     ]
    },
    {
     "name": "stderr",
     "output_type": "stream",
     "text": [
      "Iter 1015 | Time 67.7629(62.0828) | Bit/dim 4.1683(4.1739) | Xent 1.4856(1.4676) | Loss 14.2520(11.5235) | Error 0.5391(0.5286) Steps 592(579.07) | Grad Norm 18.9130(20.5483) | Total Time 0.00(0.00)\n",
      "Iter 1016 | Time 60.3535(62.0309) | Bit/dim 4.1605(4.1735) | Xent 1.7527(1.4762) | Loss 11.2769(11.5161) | Error 0.5951(0.5306) Steps 550(578.20) | Grad Norm 45.7095(21.3032) | Total Time 0.00(0.00)\n",
      "Iter 1017 | Time 60.7118(61.9913) | Bit/dim 4.1638(4.1732) | Xent 1.5343(1.4779) | Loss 10.9001(11.4976) | Error 0.5451(0.5310) Steps 574(578.07) | Grad Norm 17.4621(21.1879) | Total Time 0.00(0.00)\n",
      "Iter 1018 | Time 62.7012(62.0126) | Bit/dim 4.1737(4.1732) | Xent 1.5195(1.4792) | Loss 11.0765(11.4850) | Error 0.5437(0.5314) Steps 610(579.03) | Grad Norm 19.6081(21.1406) | Total Time 0.00(0.00)\n",
      "Iter 1019 | Time 58.5884(61.9099) | Bit/dim 4.2131(4.1744) | Xent 1.6196(1.4834) | Loss 11.0354(11.4715) | Error 0.5671(0.5325) Steps 592(579.42) | Grad Norm 33.1419(21.5006) | Total Time 0.00(0.00)\n",
      "Iter 1020 | Time 59.1720(61.8277) | Bit/dim 4.1513(4.1737) | Xent 1.4830(1.4834) | Loss 10.7572(11.4501) | Error 0.5271(0.5323) Steps 574(579.26) | Grad Norm 8.3261(21.1054) | Total Time 0.00(0.00)\n",
      "validating...\n",
      "Epoch 0170 | Time 22.9068, Epoch Time 410.6399(403.4820), Bit/dim 4.1493(best: 4.1316), Xent 1.5141, Loss 4.9063, Error 0.5446(best: 0.4935)\n",
      "===> Using batch size 8000. Total 6 iterations/epoch.\n"
     ]
    },
    {
     "name": "stdout",
     "output_type": "stream",
     "text": [
      "19.820359281437128\n",
      "19.820359281437128\n",
      "19.820359281437128\n",
      "19.820359281437128\n",
      "19.820359281437128\n",
      "19.820359281437128\n",
      "19.820359281437128\n",
      "19.820359281437128\n",
      "19.820359281437128\n",
      "19.820359281437128\n",
      "19.820359281437128\n",
      "19.820359281437128\n",
      "19.820359281437128\n",
      "19.820359281437128\n"
     ]
    },
    {
     "name": "stderr",
     "output_type": "stream",
     "text": [
      "Iter 1021 | Time 71.7187(62.1245) | Bit/dim 4.1441(4.1728) | Xent 1.5580(1.4856) | Loss 14.5123(11.5419) | Error 0.5483(0.5328) Steps 574(579.10) | Grad Norm 24.2911(21.2009) | Total Time 0.00(0.00)\n",
      "Iter 1022 | Time 63.3917(62.1625) | Bit/dim 4.1465(4.1720) | Xent 1.4930(1.4858) | Loss 10.6628(11.5156) | Error 0.5393(0.5330) Steps 580(579.13) | Grad Norm 18.2457(21.1123) | Total Time 0.00(0.00)\n",
      "Iter 1023 | Time 62.1762(62.1629) | Bit/dim 4.1524(4.1714) | Xent 1.4511(1.4848) | Loss 11.0228(11.5008) | Error 0.5260(0.5328) Steps 586(579.33) | Grad Norm 7.0243(20.6896) | Total Time 0.00(0.00)\n",
      "Iter 1024 | Time 65.0422(62.2493) | Bit/dim 4.1496(4.1708) | Xent 1.4696(1.4843) | Loss 10.7361(11.4778) | Error 0.5320(0.5328) Steps 568(578.99) | Grad Norm 14.3536(20.4996) | Total Time 0.00(0.00)\n",
      "Iter 1025 | Time 61.1268(62.2156) | Bit/dim 4.1320(4.1696) | Xent 1.4584(1.4836) | Loss 10.8904(11.4602) | Error 0.5240(0.5325) Steps 568(578.66) | Grad Norm 8.0644(20.1265) | Total Time 0.00(0.00)\n",
      "Iter 1026 | Time 62.7994(62.2331) | Bit/dim 4.1206(4.1681) | Xent 1.4488(1.4825) | Loss 10.8390(11.4416) | Error 0.5270(0.5323) Steps 586(578.88) | Grad Norm 8.4554(19.7764) | Total Time 0.00(0.00)\n",
      "validating...\n",
      "Epoch 0171 | Time 22.5844, Epoch Time 426.9904(404.1872), Bit/dim 4.1321(best: 4.1316), Xent 1.3991, Loss 4.8316, Error 0.5065(best: 0.4935)\n",
      "===> Using batch size 8000. Total 6 iterations/epoch.\n"
     ]
    },
    {
     "name": "stdout",
     "output_type": "stream",
     "text": [
      "19.760479041916167\n",
      "19.760479041916167\n",
      "19.760479041916167\n",
      "19.760479041916167\n",
      "19.760479041916167\n",
      "19.760479041916167\n",
      "19.760479041916167\n",
      "19.760479041916167\n",
      "19.760479041916167\n",
      "19.760479041916167\n",
      "19.760479041916167\n",
      "19.760479041916167\n",
      "19.760479041916167\n",
      "19.760479041916167\n"
     ]
    },
    {
     "name": "stderr",
     "output_type": "stream",
     "text": [
      "Iter 1027 | Time 59.4207(62.1487) | Bit/dim 4.1432(4.1674) | Xent 1.4344(1.4811) | Loss 14.2252(11.5251) | Error 0.5157(0.5318) Steps 586(579.10) | Grad Norm 8.9311(19.4510) | Total Time 0.00(0.00)\n",
      "Iter 1028 | Time 64.8357(62.2294) | Bit/dim 4.1415(4.1666) | Xent 1.4483(1.4801) | Loss 11.0839(11.5118) | Error 0.5215(0.5315) Steps 580(579.12) | Grad Norm 10.9180(19.1950) | Total Time 0.00(0.00)\n",
      "Iter 1029 | Time 62.1900(62.2282) | Bit/dim 4.1206(4.1652) | Xent 1.4359(1.4788) | Loss 10.7423(11.4888) | Error 0.5232(0.5313) Steps 592(579.51) | Grad Norm 13.0867(19.0118) | Total Time 0.00(0.00)\n",
      "Iter 1030 | Time 62.1174(62.2249) | Bit/dim 4.1110(4.1636) | Xent 1.4138(1.4768) | Loss 10.8476(11.4695) | Error 0.5159(0.5308) Steps 604(580.25) | Grad Norm 9.3950(18.7233) | Total Time 0.00(0.00)\n",
      "Iter 1031 | Time 57.8464(62.0935) | Bit/dim 4.1249(4.1624) | Xent 1.4341(1.4755) | Loss 10.8940(11.4523) | Error 0.5216(0.5305) Steps 586(580.42) | Grad Norm 5.5507(18.3281) | Total Time 0.00(0.00)\n",
      "Iter 1032 | Time 61.9271(62.0885) | Bit/dim 4.1106(4.1609) | Xent 1.3990(1.4732) | Loss 10.5229(11.4244) | Error 0.5070(0.5298) Steps 574(580.23) | Grad Norm 4.3090(17.9075) | Total Time 0.00(0.00)\n",
      "validating...\n",
      "Epoch 0172 | Time 24.1459, Epoch Time 411.1239(404.3953), Bit/dim 4.1106(best: 4.1316), Xent 1.3511, Loss 4.7862, Error 0.4892(best: 0.4935)\n",
      "===> Using batch size 8000. Total 6 iterations/epoch.\n"
     ]
    },
    {
     "name": "stdout",
     "output_type": "stream",
     "text": [
      "19.70059880239521\n",
      "19.70059880239521\n",
      "19.70059880239521\n",
      "19.70059880239521\n",
      "19.70059880239521\n",
      "19.70059880239521\n",
      "19.70059880239521\n",
      "19.70059880239521\n",
      "19.70059880239521\n",
      "19.70059880239521\n",
      "19.70059880239521\n",
      "19.70059880239521\n",
      "19.70059880239521\n",
      "19.70059880239521\n"
     ]
    },
    {
     "name": "stderr",
     "output_type": "stream",
     "text": [
      "Iter 1033 | Time 65.0102(62.1762) | Bit/dim 4.1058(4.1592) | Xent 1.4034(1.4711) | Loss 14.0857(11.5042) | Error 0.5164(0.5294) Steps 628(581.66) | Grad Norm 5.2719(17.5284) | Total Time 0.00(0.00)\n",
      "Iter 1034 | Time 62.5438(62.1872) | Bit/dim 4.1128(4.1578) | Xent 1.3879(1.4686) | Loss 10.6221(11.4778) | Error 0.5040(0.5287) Steps 586(581.79) | Grad Norm 4.6099(17.1409) | Total Time 0.00(0.00)\n",
      "Iter 1035 | Time 67.0778(62.3339) | Bit/dim 4.1017(4.1562) | Xent 1.4061(1.4668) | Loss 10.9892(11.4631) | Error 0.5051(0.5280) Steps 562(581.20) | Grad Norm 4.4954(16.7615) | Total Time 0.00(0.00)\n",
      "Iter 1036 | Time 62.1974(62.3298) | Bit/dim 4.1075(4.1547) | Xent 1.3817(1.4642) | Loss 10.7275(11.4410) | Error 0.4992(0.5271) Steps 586(581.34) | Grad Norm 3.9434(16.3770) | Total Time 0.00(0.00)\n",
      "Iter 1037 | Time 61.8965(62.3168) | Bit/dim 4.1093(4.1533) | Xent 1.3816(1.4617) | Loss 10.5657(11.4148) | Error 0.4944(0.5261) Steps 574(581.12) | Grad Norm 4.0996(16.0087) | Total Time 0.00(0.00)\n",
      "Iter 1038 | Time 63.7081(62.3586) | Bit/dim 4.1047(4.1519) | Xent 1.3563(1.4586) | Loss 10.7393(11.3945) | Error 0.4981(0.5253) Steps 586(581.27) | Grad Norm 4.5369(15.6645) | Total Time 0.00(0.00)\n",
      "validating...\n",
      "Epoch 0173 | Time 23.2271, Epoch Time 423.8866(404.9800), Bit/dim 4.1103(best: 4.1106), Xent 1.3223, Loss 4.7715, Error 0.4836(best: 0.4892)\n",
      "===> Using batch size 8000. Total 6 iterations/epoch.\n"
     ]
    },
    {
     "name": "stdout",
     "output_type": "stream",
     "text": [
      "19.64071856287425\n",
      "19.64071856287425\n",
      "19.64071856287425\n",
      "19.64071856287425\n",
      "19.64071856287425\n",
      "19.64071856287425\n",
      "19.64071856287425\n",
      "19.64071856287425\n",
      "19.64071856287425\n",
      "19.64071856287425\n",
      "19.64071856287425\n",
      "19.64071856287425\n",
      "19.64071856287425\n",
      "19.64071856287425\n"
     ]
    },
    {
     "name": "stderr",
     "output_type": "stream",
     "text": [
      "Iter 1039 | Time 63.1916(62.3835) | Bit/dim 4.1026(4.1504) | Xent 1.3568(1.4555) | Loss 14.0655(11.4746) | Error 0.4909(0.5242) Steps 586(581.41) | Grad Norm 5.5958(15.3624) | Total Time 0.00(0.00)\n",
      "Iter 1040 | Time 63.2681(62.4101) | Bit/dim 4.0984(4.1488) | Xent 1.3685(1.4529) | Loss 10.5938(11.4482) | Error 0.4985(0.5235) Steps 562(580.83) | Grad Norm 10.1001(15.2046) | Total Time 0.00(0.00)\n",
      "Iter 1041 | Time 63.7709(62.4509) | Bit/dim 4.1317(4.1483) | Xent 1.3952(1.4512) | Loss 10.8842(11.4313) | Error 0.5015(0.5228) Steps 586(580.98) | Grad Norm 24.1633(15.4733) | Total Time 0.00(0.00)\n",
      "Iter 1042 | Time 59.6400(62.3666) | Bit/dim 4.1535(4.1485) | Xent 1.5074(1.4529) | Loss 10.5924(11.4061) | Error 0.5477(0.5236) Steps 568(580.59) | Grad Norm 34.7337(16.0511) | Total Time 0.00(0.00)\n",
      "Iter 1043 | Time 60.9465(62.3240) | Bit/dim 4.1058(4.1472) | Xent 1.3525(1.4499) | Loss 10.4188(11.3765) | Error 0.4971(0.5228) Steps 586(580.75) | Grad Norm 5.1302(15.7235) | Total Time 0.00(0.00)\n",
      "Iter 1044 | Time 61.1686(62.2893) | Bit/dim 4.1746(4.1480) | Xent 1.4395(1.4495) | Loss 11.0267(11.3660) | Error 0.5174(0.5226) Steps 568(580.37) | Grad Norm 35.2653(16.3098) | Total Time 0.00(0.00)\n",
      "validating...\n",
      "Epoch 0174 | Time 23.4928, Epoch Time 413.8232(405.2453), Bit/dim 4.1139(best: 4.1103), Xent 1.3631, Loss 4.7954, Error 0.4969(best: 0.4836)\n",
      "===> Using batch size 8000. Total 6 iterations/epoch.\n"
     ]
    },
    {
     "name": "stdout",
     "output_type": "stream",
     "text": [
      "19.58083832335329\n",
      "19.58083832335329\n",
      "19.58083832335329\n",
      "19.58083832335329\n",
      "19.58083832335329\n",
      "19.58083832335329\n",
      "19.58083832335329\n",
      "19.58083832335329\n",
      "19.58083832335329\n",
      "19.58083832335329\n",
      "19.58083832335329\n",
      "19.58083832335329\n",
      "19.58083832335329\n",
      "19.58083832335329\n"
     ]
    },
    {
     "name": "stderr",
     "output_type": "stream",
     "text": [
      "Iter 1045 | Time 61.4845(62.2652) | Bit/dim 4.1099(4.1469) | Xent 1.3918(1.4478) | Loss 14.0445(11.4464) | Error 0.5119(0.5223) Steps 586(580.54) | Grad Norm 13.8834(16.2370) | Total Time 0.00(0.00)\n",
      "Iter 1046 | Time 57.9527(62.1358) | Bit/dim 4.0995(4.1455) | Xent 1.4182(1.4469) | Loss 10.7690(11.4260) | Error 0.5131(0.5220) Steps 586(580.70) | Grad Norm 15.3518(16.2104) | Total Time 0.00(0.00)\n",
      "Iter 1047 | Time 63.3867(62.1733) | Bit/dim 4.1203(4.1447) | Xent 1.3865(1.4451) | Loss 10.4822(11.3977) | Error 0.4992(0.5213) Steps 592(581.04) | Grad Norm 17.7623(16.2570) | Total Time 0.00(0.00)\n",
      "Iter 1048 | Time 60.7548(62.1308) | Bit/dim 4.1050(4.1435) | Xent 1.4111(1.4441) | Loss 10.5047(11.3709) | Error 0.5150(0.5211) Steps 556(580.29) | Grad Norm 12.0971(16.1322) | Total Time 0.00(0.00)\n",
      "Iter 1049 | Time 60.3808(62.0783) | Bit/dim 4.0966(4.1421) | Xent 1.4100(1.4431) | Loss 10.7582(11.3526) | Error 0.5041(0.5206) Steps 574(580.10) | Grad Norm 11.0279(15.9791) | Total Time 0.00(0.00)\n",
      "Iter 1050 | Time 63.8614(62.1318) | Bit/dim 4.0785(4.1402) | Xent 1.3588(1.4405) | Loss 10.6450(11.3313) | Error 0.4854(0.5196) Steps 580(580.10) | Grad Norm 5.4714(15.6638) | Total Time 0.00(0.00)\n",
      "validating...\n",
      "Epoch 0175 | Time 23.1471, Epoch Time 408.5168(405.3435), Bit/dim 4.0947(best: 4.1103), Xent 1.3506, Loss 4.7700, Error 0.4915(best: 0.4836)\n",
      "===> Using batch size 8000. Total 6 iterations/epoch.\n"
     ]
    },
    {
     "name": "stdout",
     "output_type": "stream",
     "text": [
      "19.520958083832333\n",
      "19.520958083832333\n",
      "19.520958083832333\n",
      "19.520958083832333\n",
      "19.520958083832333\n",
      "19.520958083832333\n",
      "19.520958083832333\n",
      "19.520958083832333\n",
      "19.520958083832333\n",
      "19.520958083832333\n",
      "19.520958083832333\n",
      "19.520958083832333\n",
      "19.520958083832333\n",
      "19.520958083832333\n"
     ]
    },
    {
     "name": "stderr",
     "output_type": "stream",
     "text": [
      "Iter 1051 | Time 63.8960(62.1847) | Bit/dim 4.1014(4.1390) | Xent 1.3918(1.4391) | Loss 13.5826(11.3989) | Error 0.5086(0.5192) Steps 562(579.56) | Grad Norm 7.5940(15.4217) | Total Time 0.00(0.00)\n",
      "Iter 1052 | Time 61.1789(62.1545) | Bit/dim 4.1033(4.1380) | Xent 1.3709(1.4370) | Loss 10.7838(11.3804) | Error 0.4959(0.5185) Steps 562(579.03) | Grad Norm 8.2191(15.2057) | Total Time 0.00(0.00)\n",
      "Iter 1053 | Time 65.4275(62.2527) | Bit/dim 4.0776(4.1362) | Xent 1.3869(1.4355) | Loss 10.6544(11.3586) | Error 0.5051(0.5181) Steps 592(579.42) | Grad Norm 12.0708(15.1116) | Total Time 0.00(0.00)\n",
      "Iter 1054 | Time 57.6194(62.1137) | Bit/dim 4.0797(4.1345) | Xent 1.3497(1.4330) | Loss 10.7114(11.3392) | Error 0.4936(0.5174) Steps 574(579.26) | Grad Norm 12.5683(15.0353) | Total Time 0.00(0.00)\n",
      "Iter 1055 | Time 61.2636(62.0882) | Bit/dim 4.0954(4.1333) | Xent 1.3643(1.4309) | Loss 10.7463(11.3214) | Error 0.4901(0.5166) Steps 556(578.56) | Grad Norm 7.7747(14.8175) | Total Time 0.00(0.00)\n",
      "Iter 1056 | Time 59.7966(62.0194) | Bit/dim 4.0920(4.1320) | Xent 1.3675(1.4290) | Loss 10.8240(11.3065) | Error 0.5009(0.5161) Steps 586(578.78) | Grad Norm 6.9998(14.5830) | Total Time 0.00(0.00)\n",
      "validating...\n",
      "Epoch 0176 | Time 22.9435, Epoch Time 410.3085(405.4924), Bit/dim 4.0849(best: 4.0947), Xent 1.3128, Loss 4.7413, Error 0.4788(best: 0.4836)\n",
      "===> Using batch size 8000. Total 6 iterations/epoch.\n"
     ]
    },
    {
     "name": "stdout",
     "output_type": "stream",
     "text": [
      "19.46107784431138\n",
      "19.46107784431138\n",
      "19.46107784431138\n",
      "19.46107784431138\n",
      "19.46107784431138\n",
      "19.46107784431138\n",
      "19.46107784431138\n",
      "19.46107784431138\n",
      "19.46107784431138\n",
      "19.46107784431138\n",
      "19.46107784431138\n",
      "19.46107784431138\n",
      "19.46107784431138\n",
      "19.46107784431138\n"
     ]
    },
    {
     "name": "stderr",
     "output_type": "stream",
     "text": [
      "Iter 1057 | Time 66.7976(62.1628) | Bit/dim 4.0728(4.1303) | Xent 1.3688(1.4272) | Loss 13.9305(11.3852) | Error 0.4946(0.5155) Steps 598(579.36) | Grad Norm 8.1287(14.3893) | Total Time 0.00(0.00)\n",
      "Iter 1058 | Time 63.7797(62.2113) | Bit/dim 4.0823(4.1288) | Xent 1.3416(1.4246) | Loss 10.7794(11.3671) | Error 0.4839(0.5145) Steps 586(579.56) | Grad Norm 9.1779(14.2330) | Total Time 0.00(0.00)\n",
      "Iter 1059 | Time 59.9050(62.1421) | Bit/dim 4.1065(4.1282) | Xent 1.3478(1.4223) | Loss 10.7817(11.3495) | Error 0.4831(0.5136) Steps 550(578.67) | Grad Norm 14.7202(14.2476) | Total Time 0.00(0.00)\n",
      "Iter 1060 | Time 60.8396(62.1030) | Bit/dim 4.1085(4.1276) | Xent 1.4264(1.4224) | Loss 10.6694(11.3291) | Error 0.5162(0.5137) Steps 568(578.35) | Grad Norm 25.8971(14.5971) | Total Time 0.00(0.00)\n",
      "Iter 1061 | Time 65.1393(62.1941) | Bit/dim 4.0956(4.1266) | Xent 1.3452(1.4201) | Loss 10.6978(11.3102) | Error 0.4872(0.5129) Steps 556(577.68) | Grad Norm 17.2918(14.6779) | Total Time 0.00(0.00)\n",
      "Iter 1062 | Time 57.1668(62.0433) | Bit/dim 4.0703(4.1249) | Xent 1.3767(1.4188) | Loss 10.5235(11.2866) | Error 0.5002(0.5125) Steps 568(577.39) | Grad Norm 10.6151(14.5560) | Total Time 0.00(0.00)\n",
      "validating...\n",
      "Epoch 0177 | Time 23.0977, Epoch Time 414.1097(405.7510), Bit/dim 4.0854(best: 4.0849), Xent 1.3206, Loss 4.7457, Error 0.4787(best: 0.4788)\n",
      "===> Using batch size 8000. Total 6 iterations/epoch.\n"
     ]
    },
    {
     "name": "stdout",
     "output_type": "stream",
     "text": [
      "19.40119760479042\n",
      "19.40119760479042\n",
      "19.40119760479042\n",
      "19.40119760479042\n",
      "19.40119760479042\n",
      "19.40119760479042\n",
      "19.40119760479042\n",
      "19.40119760479042\n",
      "19.40119760479042\n",
      "19.40119760479042\n",
      "19.40119760479042\n",
      "19.40119760479042\n",
      "19.40119760479042\n",
      "19.40119760479042\n"
     ]
    },
    {
     "name": "stderr",
     "output_type": "stream",
     "text": [
      "Iter 1063 | Time 59.8700(61.9781) | Bit/dim 4.0809(4.1236) | Xent 1.3548(1.4169) | Loss 14.1114(11.3713) | Error 0.4836(0.5116) Steps 568(577.11) | Grad Norm 12.8482(14.5048) | Total Time 0.00(0.00)\n",
      "Iter 1064 | Time 64.1907(62.0445) | Bit/dim 4.0880(4.1225) | Xent 1.3507(1.4149) | Loss 10.8336(11.3552) | Error 0.4879(0.5109) Steps 586(577.38) | Grad Norm 16.5753(14.5669) | Total Time 0.00(0.00)\n",
      "Iter 1065 | Time 59.6556(61.9728) | Bit/dim 4.0878(4.1215) | Xent 1.3755(1.4137) | Loss 10.8251(11.3393) | Error 0.4965(0.5105) Steps 574(577.27) | Grad Norm 17.1879(14.6456) | Total Time 0.00(0.00)\n",
      "Iter 1066 | Time 60.7698(61.9367) | Bit/dim 4.0756(4.1201) | Xent 1.3490(1.4118) | Loss 10.4118(11.3114) | Error 0.4820(0.5096) Steps 562(576.82) | Grad Norm 15.9075(14.6834) | Total Time 0.00(0.00)\n",
      "Iter 1067 | Time 59.8805(61.8750) | Bit/dim 4.0750(4.1188) | Xent 1.3679(1.4105) | Loss 10.7607(11.2949) | Error 0.4956(0.5092) Steps 592(577.27) | Grad Norm 13.7278(14.6547) | Total Time 0.00(0.00)\n",
      "Iter 1068 | Time 60.8061(61.8430) | Bit/dim 4.0894(4.1179) | Xent 1.3500(1.4087) | Loss 10.2344(11.2631) | Error 0.4918(0.5087) Steps 562(576.81) | Grad Norm 13.2678(14.6131) | Total Time 0.00(0.00)\n",
      "validating...\n",
      "Epoch 0178 | Time 23.0992, Epoch Time 405.7742(405.7517), Bit/dim 4.0771(best: 4.0849), Xent 1.2926, Loss 4.7234, Error 0.4687(best: 0.4787)\n",
      "===> Using batch size 8000. Total 6 iterations/epoch.\n"
     ]
    },
    {
     "name": "stdout",
     "output_type": "stream",
     "text": [
      "19.34131736526946\n",
      "19.34131736526946\n",
      "19.34131736526946\n",
      "19.34131736526946\n",
      "19.34131736526946\n",
      "19.34131736526946\n",
      "19.34131736526946\n",
      "19.34131736526946\n",
      "19.34131736526946\n",
      "19.34131736526946\n",
      "19.34131736526946\n",
      "19.34131736526946\n",
      "19.34131736526946\n",
      "19.34131736526946\n"
     ]
    },
    {
     "name": "stderr",
     "output_type": "stream",
     "text": [
      "Iter 1069 | Time 61.0763(61.8200) | Bit/dim 4.0873(4.1170) | Xent 1.3479(1.4068) | Loss 13.9998(11.3452) | Error 0.4894(0.5081) Steps 562(576.37) | Grad Norm 15.7268(14.6465) | Total Time 0.00(0.00)\n",
      "Iter 1070 | Time 61.5623(61.8122) | Bit/dim 4.0923(4.1162) | Xent 1.4103(1.4069) | Loss 10.7717(11.3280) | Error 0.5148(0.5083) Steps 574(576.30) | Grad Norm 27.1953(15.0230) | Total Time 0.00(0.00)\n",
      "Iter 1071 | Time 59.8710(61.7540) | Bit/dim 4.1066(4.1159) | Xent 1.4397(1.4079) | Loss 10.9249(11.3159) | Error 0.5120(0.5084) Steps 568(576.05) | Grad Norm 26.1338(15.3563) | Total Time 0.00(0.00)\n",
      "Iter 1072 | Time 60.6049(61.7195) | Bit/dim 4.0936(4.1153) | Xent 1.3222(1.4053) | Loss 10.7842(11.3000) | Error 0.4761(0.5074) Steps 544(575.09) | Grad Norm 15.9289(15.3735) | Total Time 0.00(0.00)\n",
      "Iter 1073 | Time 56.9536(61.5766) | Bit/dim 4.0729(4.1140) | Xent 1.3342(1.4032) | Loss 10.7020(11.2820) | Error 0.4861(0.5068) Steps 550(574.33) | Grad Norm 11.5077(15.2575) | Total Time 0.00(0.00)\n",
      "Iter 1074 | Time 57.6506(61.4588) | Bit/dim 4.0756(4.1128) | Xent 1.3377(1.4012) | Loss 10.7326(11.2655) | Error 0.4886(0.5063) Steps 586(574.68) | Grad Norm 11.2292(15.1367) | Total Time 0.00(0.00)\n",
      "validating...\n",
      "Epoch 0179 | Time 22.5331, Epoch Time 398.3967(405.5310), Bit/dim 4.0732(best: 4.0771), Xent 1.3080, Loss 4.7273, Error 0.4763(best: 0.4687)\n",
      "===> Using batch size 8000. Total 6 iterations/epoch.\n"
     ]
    },
    {
     "name": "stdout",
     "output_type": "stream",
     "text": [
      "19.281437125748504\n",
      "19.281437125748504\n",
      "19.281437125748504\n",
      "19.281437125748504\n",
      "19.281437125748504\n",
      "19.281437125748504\n",
      "19.281437125748504\n",
      "19.281437125748504\n",
      "19.281437125748504\n",
      "19.281437125748504\n",
      "19.281437125748504\n",
      "19.281437125748504\n",
      "19.281437125748504\n",
      "19.281437125748504\n"
     ]
    },
    {
     "name": "stderr",
     "output_type": "stream",
     "text": [
      "Iter 1075 | Time 61.1669(61.4500) | Bit/dim 4.0653(4.1114) | Xent 1.3456(1.3996) | Loss 13.9259(11.3453) | Error 0.4926(0.5058) Steps 586(575.02) | Grad Norm 7.2024(14.8987) | Total Time 0.00(0.00)\n",
      "Iter 1076 | Time 59.9243(61.4042) | Bit/dim 4.0702(4.1102) | Xent 1.3430(1.3979) | Loss 10.6138(11.3234) | Error 0.4819(0.5051) Steps 568(574.81) | Grad Norm 15.7226(14.9234) | Total Time 0.00(0.00)\n",
      "Iter 1077 | Time 61.8486(61.4176) | Bit/dim 4.0770(4.1092) | Xent 1.3749(1.3972) | Loss 10.6290(11.3026) | Error 0.4915(0.5047) Steps 580(574.97) | Grad Norm 23.8835(15.1922) | Total Time 0.00(0.00)\n",
      "Iter 1078 | Time 61.6885(61.4257) | Bit/dim 4.0931(4.1087) | Xent 1.3194(1.3949) | Loss 10.6451(11.2828) | Error 0.4781(0.5039) Steps 580(575.12) | Grad Norm 9.7305(15.0283) | Total Time 0.00(0.00)\n",
      "Iter 1079 | Time 59.8068(61.3771) | Bit/dim 4.0760(4.1077) | Xent 1.3239(1.3927) | Loss 10.4205(11.2570) | Error 0.4771(0.5031) Steps 568(574.91) | Grad Norm 10.8205(14.9021) | Total Time 0.00(0.00)\n",
      "Iter 1080 | Time 58.7541(61.2984) | Bit/dim 4.0743(4.1067) | Xent 1.3348(1.3910) | Loss 10.5835(11.2368) | Error 0.4809(0.5025) Steps 544(573.98) | Grad Norm 19.3315(15.0350) | Total Time 0.00(0.00)\n",
      "validating...\n",
      "Epoch 0180 | Time 22.5994, Epoch Time 403.8796(405.4815), Bit/dim 4.0918(best: 4.0732), Xent 1.2888, Loss 4.7362, Error 0.4630(best: 0.4687)\n",
      "===> Using batch size 8000. Total 6 iterations/epoch.\n"
     ]
    },
    {
     "name": "stdout",
     "output_type": "stream",
     "text": [
      "19.221556886227546\n",
      "19.221556886227546\n",
      "19.221556886227546\n",
      "19.221556886227546\n",
      "19.221556886227546\n",
      "19.221556886227546\n",
      "19.221556886227546\n",
      "19.221556886227546\n",
      "19.221556886227546\n",
      "19.221556886227546\n",
      "19.221556886227546\n",
      "19.221556886227546\n",
      "19.221556886227546\n",
      "19.221556886227546\n"
     ]
    },
    {
     "name": "stderr",
     "output_type": "stream",
     "text": [
      "Iter 1081 | Time 62.3839(61.3310) | Bit/dim 4.0981(4.1065) | Xent 1.3558(1.3899) | Loss 14.0088(11.3199) | Error 0.4942(0.5022) Steps 580(574.16) | Grad Norm 23.0738(15.2761) | Total Time 0.00(0.00)\n",
      "Iter 1082 | Time 60.1065(61.2943) | Bit/dim 4.0764(4.1056) | Xent 1.3848(1.3898) | Loss 10.7218(11.3020) | Error 0.5091(0.5024) Steps 568(573.97) | Grad Norm 15.4333(15.2809) | Total Time 0.00(0.00)\n",
      "Iter 1083 | Time 56.5527(61.1520) | Bit/dim 4.0719(4.1046) | Xent 1.3969(1.3900) | Loss 10.7005(11.2839) | Error 0.5057(0.5025) Steps 574(573.98) | Grad Norm 15.5077(15.2877) | Total Time 0.00(0.00)\n",
      "Iter 1084 | Time 59.3605(61.0983) | Bit/dim 4.0925(4.1042) | Xent 1.4222(1.3910) | Loss 10.9407(11.2736) | Error 0.5121(0.5028) Steps 568(573.80) | Grad Norm 24.1085(15.5523) | Total Time 0.00(0.00)\n",
      "Iter 1085 | Time 61.6107(61.1137) | Bit/dim 4.0729(4.1032) | Xent 1.3748(1.3905) | Loss 10.8058(11.2596) | Error 0.4959(0.5026) Steps 574(573.80) | Grad Norm 16.1950(15.5716) | Total Time 0.00(0.00)\n",
      "Iter 1086 | Time 63.2965(61.1791) | Bit/dim 4.0764(4.1024) | Xent 1.3264(1.3886) | Loss 10.5047(11.2370) | Error 0.4798(0.5019) Steps 568(573.63) | Grad Norm 17.6928(15.6352) | Total Time 0.00(0.00)\n",
      "validating...\n",
      "Epoch 0181 | Time 22.9916, Epoch Time 404.3162(405.4465), Bit/dim 4.0844(best: 4.0732), Xent 1.3476, Loss 4.7582, Error 0.4931(best: 0.4630)\n",
      "===> Using batch size 8000. Total 6 iterations/epoch.\n"
     ]
    },
    {
     "name": "stdout",
     "output_type": "stream",
     "text": [
      "19.16167664670659\n",
      "19.16167664670659\n",
      "19.16167664670659\n",
      "19.16167664670659\n",
      "19.16167664670659\n",
      "19.16167664670659\n",
      "19.16167664670659\n",
      "19.16167664670659\n",
      "19.16167664670659\n",
      "19.16167664670659\n",
      "19.16167664670659\n",
      "19.16167664670659\n",
      "19.16167664670659\n",
      "19.16167664670659\n"
     ]
    },
    {
     "name": "stderr",
     "output_type": "stream",
     "text": [
      "Iter 1087 | Time 62.8794(61.2301) | Bit/dim 4.0857(4.1019) | Xent 1.3988(1.3889) | Loss 14.2799(11.3283) | Error 0.5072(0.5021) Steps 544(572.74) | Grad Norm 23.3420(15.8664) | Total Time 0.00(0.00)\n",
      "Iter 1088 | Time 63.5490(61.2997) | Bit/dim 4.0631(4.1008) | Xent 1.3255(1.3870) | Loss 10.7020(11.3095) | Error 0.4831(0.5015) Steps 556(572.24) | Grad Norm 10.9442(15.7187) | Total Time 0.00(0.00)\n",
      "Iter 1089 | Time 59.7840(61.2542) | Bit/dim 4.0733(4.1000) | Xent 1.3143(1.3848) | Loss 10.4394(11.2834) | Error 0.4794(0.5008) Steps 568(572.11) | Grad Norm 16.0475(15.7286) | Total Time 0.00(0.00)\n",
      "Iter 1090 | Time 65.8675(61.3926) | Bit/dim 4.0641(4.0989) | Xent 1.3666(1.3842) | Loss 10.7433(11.2672) | Error 0.4866(0.5004) Steps 556(571.63) | Grad Norm 18.7198(15.8183) | Total Time 0.00(0.00)\n",
      "Iter 1091 | Time 59.6194(61.3394) | Bit/dim 4.0745(4.0981) | Xent 1.3473(1.3831) | Loss 10.5616(11.2460) | Error 0.4899(0.5001) Steps 586(572.06) | Grad Norm 15.3620(15.8047) | Total Time 0.00(0.00)\n",
      "Iter 1092 | Time 61.8377(61.3544) | Bit/dim 4.0854(4.0978) | Xent 1.3885(1.3833) | Loss 10.5069(11.2238) | Error 0.4930(0.4999) Steps 586(572.48) | Grad Norm 15.5250(15.7963) | Total Time 0.00(0.00)\n",
      "validating...\n",
      "Epoch 0182 | Time 22.9445, Epoch Time 414.6235(405.7218), Bit/dim 4.0654(best: 4.0732), Xent 1.3175, Loss 4.7241, Error 0.4735(best: 0.4630)\n",
      "===> Using batch size 8000. Total 6 iterations/epoch.\n"
     ]
    },
    {
     "name": "stdout",
     "output_type": "stream",
     "text": [
      "19.101796407185628\n",
      "19.101796407185628\n",
      "19.101796407185628\n",
      "19.101796407185628\n",
      "19.101796407185628\n",
      "19.101796407185628\n",
      "19.101796407185628\n",
      "19.101796407185628\n",
      "19.101796407185628\n",
      "19.101796407185628\n",
      "19.101796407185628\n",
      "19.101796407185628\n",
      "19.101796407185628\n",
      "19.101796407185628\n"
     ]
    },
    {
     "name": "stderr",
     "output_type": "stream",
     "text": [
      "Iter 1093 | Time 60.1873(61.3194) | Bit/dim 4.0549(4.0965) | Xent 1.3580(1.3825) | Loss 13.7457(11.2995) | Error 0.4859(0.4995) Steps 592(573.06) | Grad Norm 21.0872(15.9550) | Total Time 0.00(0.00)\n",
      "Iter 1094 | Time 62.9862(61.3694) | Bit/dim 4.0698(4.0957) | Xent 1.3512(1.3816) | Loss 10.4325(11.2735) | Error 0.4865(0.4991) Steps 604(573.99) | Grad Norm 21.8515(16.1319) | Total Time 0.00(0.00)\n",
      "Iter 1095 | Time 57.9630(61.2672) | Bit/dim 4.0609(4.0946) | Xent 1.3528(1.3807) | Loss 10.5251(11.2510) | Error 0.4950(0.4990) Steps 574(573.99) | Grad Norm 11.2790(15.9863) | Total Time 0.00(0.00)\n",
      "Iter 1096 | Time 60.0903(61.2319) | Bit/dim 4.0702(4.0939) | Xent 1.3546(1.3799) | Loss 10.6694(11.2336) | Error 0.4935(0.4988) Steps 574(573.99) | Grad Norm 18.1360(16.0508) | Total Time 0.00(0.00)\n",
      "Iter 1097 | Time 62.8585(61.2807) | Bit/dim 4.0788(4.0934) | Xent 1.3948(1.3804) | Loss 10.7892(11.2202) | Error 0.5111(0.4992) Steps 568(573.81) | Grad Norm 19.4630(16.1532) | Total Time 0.00(0.00)\n",
      "Iter 1098 | Time 57.1395(61.1564) | Bit/dim 4.0624(4.0925) | Xent 1.3052(1.3781) | Loss 10.5577(11.2004) | Error 0.4718(0.4983) Steps 580(574.00) | Grad Norm 8.7470(15.9310) | Total Time 0.00(0.00)\n",
      "validating...\n",
      "Epoch 0183 | Time 23.4861, Epoch Time 402.7521(405.6327), Bit/dim 4.0645(best: 4.0654), Xent 1.2747, Loss 4.7018, Error 0.4669(best: 0.4630)\n",
      "===> Using batch size 8000. Total 6 iterations/epoch.\n"
     ]
    },
    {
     "name": "stdout",
     "output_type": "stream",
     "text": [
      "19.04191616766467\n",
      "19.04191616766467\n",
      "19.04191616766467\n",
      "19.04191616766467\n",
      "19.04191616766467\n",
      "19.04191616766467\n",
      "19.04191616766467\n",
      "19.04191616766467\n",
      "19.04191616766467\n",
      "19.04191616766467\n",
      "19.04191616766467\n",
      "19.04191616766467\n",
      "19.04191616766467\n",
      "19.04191616766467\n"
     ]
    },
    {
     "name": "stderr",
     "output_type": "stream",
     "text": [
      "Iter 1099 | Time 59.7103(61.1131) | Bit/dim 4.0579(4.0915) | Xent 1.2994(1.3758) | Loss 13.8419(11.2796) | Error 0.4774(0.4977) Steps 574(574.00) | Grad Norm 9.4930(15.7378) | Total Time 0.00(0.00)\n",
      "Iter 1100 | Time 59.4878(61.0643) | Bit/dim 4.0622(4.0906) | Xent 1.3280(1.3743) | Loss 10.6823(11.2617) | Error 0.4762(0.4971) Steps 574(574.00) | Grad Norm 12.1070(15.6289) | Total Time 0.00(0.00)\n",
      "Iter 1101 | Time 58.4921(60.9871) | Bit/dim 4.0496(4.0894) | Xent 1.3179(1.3726) | Loss 10.5620(11.2407) | Error 0.4798(0.4965) Steps 562(573.64) | Grad Norm 6.2316(15.3470) | Total Time 0.00(0.00)\n",
      "Iter 1102 | Time 62.4393(61.0307) | Bit/dim 4.0509(4.0882) | Xent 1.3330(1.3715) | Loss 10.5121(11.2188) | Error 0.4845(0.4962) Steps 568(573.47) | Grad Norm 7.3994(15.1086) | Total Time 0.00(0.00)\n",
      "Iter 1103 | Time 62.5072(61.0750) | Bit/dim 4.0584(4.0873) | Xent 1.3397(1.3705) | Loss 10.7761(11.2056) | Error 0.4871(0.4959) Steps 568(573.30) | Grad Norm 13.0835(15.0478) | Total Time 0.00(0.00)\n",
      "Iter 1104 | Time 59.7018(61.0338) | Bit/dim 4.0801(4.0871) | Xent 1.3587(1.3701) | Loss 10.5144(11.1848) | Error 0.4985(0.4960) Steps 586(573.68) | Grad Norm 28.7518(15.4589) | Total Time 0.00(0.00)\n",
      "validating...\n",
      "Epoch 0184 | Time 22.5320, Epoch Time 403.4438(405.5671), Bit/dim 4.0673(best: 4.0645), Xent 1.3024, Loss 4.7185, Error 0.4678(best: 0.4630)\n"
     ]
    },
    {
     "name": "stdout",
     "output_type": "stream",
     "text": [
      "18.982035928143716\n",
      "18.982035928143716\n",
      "18.982035928143716\n",
      "18.982035928143716\n",
      "18.982035928143716\n",
      "18.982035928143716\n",
      "18.982035928143716\n",
      "18.982035928143716\n",
      "18.982035928143716\n",
      "18.982035928143716\n",
      "18.982035928143716\n",
      "18.982035928143716\n",
      "18.982035928143716\n",
      "18.982035928143716\n"
     ]
    },
    {
     "name": "stderr",
     "output_type": "stream",
     "text": [
      "===> Using batch size 8000. Total 6 iterations/epoch.\n",
      "Iter 1105 | Time 59.9529(61.0014) | Bit/dim 4.0631(4.0864) | Xent 1.3643(1.3700) | Loss 13.7374(11.2614) | Error 0.4892(0.4958) Steps 562(573.33) | Grad Norm 23.1181(15.6887) | Total Time 0.00(0.00)\n",
      "Iter 1106 | Time 57.5653(60.8983) | Bit/dim 4.0674(4.0858) | Xent 1.3259(1.3686) | Loss 10.6489(11.2430) | Error 0.4755(0.4952) Steps 568(573.17) | Grad Norm 14.8359(15.6631) | Total Time 0.00(0.00)\n",
      "Iter 1107 | Time 60.3651(60.8823) | Bit/dim 4.0612(4.0851) | Xent 1.3395(1.3678) | Loss 10.7164(11.2272) | Error 0.4760(0.4946) Steps 568(573.02) | Grad Norm 12.4391(15.5664) | Total Time 0.00(0.00)\n",
      "Iter 1108 | Time 60.6517(60.8754) | Bit/dim 4.0531(4.0841) | Xent 1.3477(1.3672) | Loss 10.9889(11.2201) | Error 0.4908(0.4945) Steps 604(573.95) | Grad Norm 9.0833(15.3719) | Total Time 0.00(0.00)\n",
      "Iter 1109 | Time 59.5717(60.8363) | Bit/dim 4.0468(4.0830) | Xent 1.3103(1.3655) | Loss 10.6181(11.2020) | Error 0.4752(0.4939) Steps 592(574.49) | Grad Norm 6.2460(15.0981) | Total Time 0.00(0.00)\n",
      "Iter 1110 | Time 63.5177(60.9167) | Bit/dim 4.0510(4.0820) | Xent 1.3105(1.3638) | Loss 10.7945(11.1898) | Error 0.4732(0.4933) Steps 574(574.48) | Grad Norm 10.2489(14.9527) | Total Time 0.00(0.00)\n",
      "validating...\n",
      "Epoch 0185 | Time 22.7771, Epoch Time 402.1643(405.4650), Bit/dim 4.0520(best: 4.0645), Xent 1.2720, Loss 4.6880, Error 0.4606(best: 0.4630)\n",
      "===> Using batch size 8000. Total 6 iterations/epoch.\n"
     ]
    },
    {
     "name": "stdout",
     "output_type": "stream",
     "text": [
      "18.922155688622755\n",
      "18.922155688622755\n",
      "18.922155688622755\n",
      "18.922155688622755\n",
      "18.922155688622755\n",
      "18.922155688622755\n",
      "18.922155688622755\n",
      "18.922155688622755\n",
      "18.922155688622755\n",
      "18.922155688622755\n",
      "18.922155688622755\n",
      "18.922155688622755\n",
      "18.922155688622755\n",
      "18.922155688622755\n"
     ]
    },
    {
     "name": "stderr",
     "output_type": "stream",
     "text": [
      "Iter 1111 | Time 62.9280(60.9770) | Bit/dim 4.0431(4.0809) | Xent 1.3028(1.3620) | Loss 14.1192(11.2777) | Error 0.4694(0.4926) Steps 580(574.64) | Grad Norm 9.9633(14.8030) | Total Time 0.00(0.00)\n",
      "Iter 1112 | Time 63.9276(61.0656) | Bit/dim 4.0470(4.0799) | Xent 1.3049(1.3603) | Loss 10.4966(11.2542) | Error 0.4799(0.4922) Steps 604(575.52) | Grad Norm 9.1276(14.6327) | Total Time 0.00(0.00)\n",
      "Iter 1113 | Time 56.5619(60.9305) | Bit/dim 4.0430(4.0787) | Xent 1.2789(1.3578) | Loss 10.5865(11.2342) | Error 0.4660(0.4914) Steps 568(575.30) | Grad Norm 5.3833(14.3552) | Total Time 0.00(0.00)\n",
      "Iter 1114 | Time 63.0968(60.9954) | Bit/dim 4.0455(4.0777) | Xent 1.3146(1.3565) | Loss 10.4908(11.2119) | Error 0.4639(0.4906) Steps 604(576.16) | Grad Norm 6.5260(14.1204) | Total Time 0.00(0.00)\n",
      "Iter 1115 | Time 64.1642(61.0905) | Bit/dim 4.0495(4.0769) | Xent 1.2854(1.3544) | Loss 10.6799(11.1959) | Error 0.4670(0.4899) Steps 598(576.81) | Grad Norm 9.0887(13.9694) | Total Time 0.00(0.00)\n",
      "Iter 1116 | Time 60.6904(61.0785) | Bit/dim 4.0498(4.0761) | Xent 1.3145(1.3532) | Loss 10.5876(11.1777) | Error 0.4724(0.4893) Steps 580(576.91) | Grad Norm 8.4848(13.8049) | Total Time 0.00(0.00)\n",
      "validating...\n",
      "Epoch 0186 | Time 22.9679, Epoch Time 412.3839(405.6725), Bit/dim 4.0484(best: 4.0520), Xent 1.2539, Loss 4.6754, Error 0.4508(best: 0.4606)\n",
      "===> Using batch size 8000. Total 6 iterations/epoch.\n"
     ]
    },
    {
     "name": "stdout",
     "output_type": "stream",
     "text": [
      "18.862275449101794\n",
      "18.862275449101794\n",
      "18.862275449101794\n",
      "18.862275449101794\n",
      "18.862275449101794\n",
      "18.862275449101794\n",
      "18.862275449101794\n",
      "18.862275449101794\n",
      "18.862275449101794\n",
      "18.862275449101794\n",
      "18.862275449101794\n",
      "18.862275449101794\n",
      "18.862275449101794\n",
      "18.862275449101794\n"
     ]
    },
    {
     "name": "stderr",
     "output_type": "stream",
     "text": [
      "Iter 1117 | Time 59.4388(61.0293) | Bit/dim 4.0396(4.0750) | Xent 1.2872(1.3512) | Loss 13.8832(11.2589) | Error 0.4637(0.4886) Steps 562(576.46) | Grad Norm 8.8739(13.6569) | Total Time 0.00(0.00)\n",
      "Iter 1118 | Time 60.7145(61.0199) | Bit/dim 4.0469(4.0741) | Xent 1.3156(1.3502) | Loss 10.2966(11.2300) | Error 0.4808(0.4883) Steps 562(576.03) | Grad Norm 16.3340(13.7372) | Total Time 0.00(0.00)\n",
      "Iter 1119 | Time 64.5901(61.1270) | Bit/dim 4.0980(4.0749) | Xent 1.3960(1.3515) | Loss 10.8270(11.2179) | Error 0.5011(0.4887) Steps 556(575.43) | Grad Norm 40.6814(14.5456) | Total Time 0.00(0.00)\n",
      "Iter 1120 | Time 59.0980(61.0661) | Bit/dim 4.0359(4.0737) | Xent 1.3176(1.3505) | Loss 10.6281(11.2002) | Error 0.4798(0.4885) Steps 598(576.10) | Grad Norm 10.1300(14.4131) | Total Time 0.00(0.00)\n",
      "Iter 1121 | Time 63.6974(61.1450) | Bit/dim 4.0827(4.0740) | Xent 1.4108(1.3523) | Loss 10.9038(11.1913) | Error 0.5080(0.4890) Steps 562(575.68) | Grad Norm 28.8888(14.8474) | Total Time 0.00(0.00)\n",
      "Iter 1122 | Time 62.7312(61.1926) | Bit/dim 4.0540(4.0734) | Xent 1.3256(1.3515) | Loss 10.6098(11.1739) | Error 0.4800(0.4888) Steps 598(576.35) | Grad Norm 18.6264(14.9607) | Total Time 0.00(0.00)\n",
      "validating...\n",
      "Epoch 0187 | Time 23.5100, Epoch Time 411.6071(405.8506), Bit/dim 4.0411(best: 4.0484), Xent 1.3468, Loss 4.7145, Error 0.4844(best: 0.4508)\n",
      "===> Using batch size 8000. Total 6 iterations/epoch.\n"
     ]
    },
    {
     "name": "stdout",
     "output_type": "stream",
     "text": [
      "18.80239520958084\n",
      "18.80239520958084\n",
      "18.80239520958084\n",
      "18.80239520958084\n",
      "18.80239520958084\n",
      "18.80239520958084\n",
      "18.80239520958084\n",
      "18.80239520958084\n",
      "18.80239520958084\n",
      "18.80239520958084\n",
      "18.80239520958084\n",
      "18.80239520958084\n",
      "18.80239520958084\n",
      "18.80239520958084\n"
     ]
    },
    {
     "name": "stderr",
     "output_type": "stream",
     "text": [
      "Iter 1123 | Time 59.5386(61.1430) | Bit/dim 4.0468(4.0726) | Xent 1.4019(1.3530) | Loss 13.9942(11.2585) | Error 0.5021(0.4892) Steps 568(576.10) | Grad Norm 28.5470(15.3683) | Total Time 0.00(0.00)\n",
      "Iter 1124 | Time 57.0014(61.0188) | Bit/dim 4.0502(4.0719) | Xent 1.3360(1.3525) | Loss 10.6135(11.2391) | Error 0.4800(0.4889) Steps 586(576.40) | Grad Norm 12.1418(15.2715) | Total Time 0.00(0.00)\n",
      "Iter 1125 | Time 61.3776(61.0295) | Bit/dim 4.0447(4.0711) | Xent 1.3122(1.3513) | Loss 10.4114(11.2143) | Error 0.4755(0.4885) Steps 586(576.68) | Grad Norm 11.6246(15.1621) | Total Time 0.00(0.00)\n",
      "Iter 1126 | Time 58.2487(60.9461) | Bit/dim 4.0411(4.0702) | Xent 1.3792(1.3521) | Loss 10.7574(11.2006) | Error 0.4858(0.4884) Steps 574(576.60) | Grad Norm 23.3265(15.4071) | Total Time 0.00(0.00)\n",
      "Iter 1127 | Time 60.9011(60.9447) | Bit/dim 4.0592(4.0699) | Xent 1.3619(1.3524) | Loss 10.5273(11.1804) | Error 0.4824(0.4882) Steps 562(576.17) | Grad Norm 21.5710(15.5920) | Total Time 0.00(0.00)\n",
      "Iter 1128 | Time 61.6737(60.9666) | Bit/dim 4.0337(4.0688) | Xent 1.3043(1.3510) | Loss 10.3957(11.1568) | Error 0.4718(0.4877) Steps 574(576.10) | Grad Norm 6.7779(15.3276) | Total Time 0.00(0.00)\n",
      "validating...\n",
      "Epoch 0188 | Time 23.4290, Epoch Time 400.1424(405.6793), Bit/dim 4.0528(best: 4.0411), Xent 1.3248, Loss 4.7152, Error 0.4760(best: 0.4508)\n",
      "===> Using batch size 8000. Total 6 iterations/epoch.\n"
     ]
    },
    {
     "name": "stdout",
     "output_type": "stream",
     "text": [
      "18.742514970059883\n",
      "18.742514970059883\n",
      "18.742514970059883\n",
      "18.742514970059883\n",
      "18.742514970059883\n",
      "18.742514970059883\n",
      "18.742514970059883\n",
      "18.742514970059883\n",
      "18.742514970059883\n",
      "18.742514970059883\n",
      "18.742514970059883\n",
      "18.742514970059883\n",
      "18.742514970059883\n",
      "18.742514970059883\n"
     ]
    },
    {
     "name": "stderr",
     "output_type": "stream",
     "text": [
      "Iter 1129 | Time 60.1012(60.9407) | Bit/dim 4.0526(4.0683) | Xent 1.3727(1.3516) | Loss 13.9147(11.2396) | Error 0.4840(0.4876) Steps 586(576.40) | Grad Norm 25.0040(15.6178) | Total Time 0.00(0.00)\n",
      "Iter 1130 | Time 62.5504(60.9889) | Bit/dim 4.0588(4.0680) | Xent 1.3128(1.3505) | Loss 10.8038(11.2265) | Error 0.4741(0.4872) Steps 592(576.87) | Grad Norm 16.5785(15.6467) | Total Time 0.00(0.00)\n",
      "Iter 1131 | Time 61.2256(60.9960) | Bit/dim 4.0475(4.0674) | Xent 1.3021(1.3490) | Loss 10.6695(11.2098) | Error 0.4694(0.4867) Steps 574(576.78) | Grad Norm 14.3696(15.6084) | Total Time 0.00(0.00)\n",
      "Iter 1132 | Time 63.2964(61.0651) | Bit/dim 4.0443(4.0667) | Xent 1.3233(1.3483) | Loss 10.7453(11.1959) | Error 0.4798(0.4865) Steps 562(576.34) | Grad Norm 19.7861(15.7337) | Total Time 0.00(0.00)\n",
      "Iter 1133 | Time 62.8235(61.1178) | Bit/dim 4.0400(4.0659) | Xent 1.3315(1.3478) | Loss 10.6286(11.1789) | Error 0.4779(0.4862) Steps 556(575.73) | Grad Norm 13.8020(15.6757) | Total Time 0.00(0.00)\n",
      "Iter 1134 | Time 63.8618(61.2001) | Bit/dim 4.0550(4.0656) | Xent 1.4108(1.3496) | Loss 10.6156(11.1620) | Error 0.5137(0.4870) Steps 556(575.13) | Grad Norm 20.3663(15.8165) | Total Time 0.00(0.00)\n",
      "validating...\n",
      "Epoch 0189 | Time 22.1130, Epoch Time 414.0326(405.9299), Bit/dim 4.1064(best: 4.0411), Xent 1.4485, Loss 4.8307, Error 0.5118(best: 0.4508)\n",
      "===> Using batch size 8000. Total 6 iterations/epoch.\n"
     ]
    },
    {
     "name": "stdout",
     "output_type": "stream",
     "text": [
      "18.682634730538922\n",
      "18.682634730538922\n",
      "18.682634730538922\n",
      "18.682634730538922\n",
      "18.682634730538922\n",
      "18.682634730538922\n",
      "18.682634730538922\n",
      "18.682634730538922\n",
      "18.682634730538922\n",
      "18.682634730538922\n",
      "18.682634730538922\n",
      "18.682634730538922\n",
      "18.682634730538922\n",
      "18.682634730538922\n"
     ]
    },
    {
     "name": "stderr",
     "output_type": "stream",
     "text": [
      "Iter 1135 | Time 56.6241(61.0628) | Bit/dim 4.0950(4.0664) | Xent 1.4895(1.3538) | Loss 13.9762(11.2464) | Error 0.5206(0.4881) Steps 556(574.56) | Grad Norm 44.7299(16.6839) | Total Time 0.00(0.00)\n",
      "Iter 1136 | Time 60.1073(61.0342) | Bit/dim 4.0524(4.0660) | Xent 1.4639(1.3571) | Loss 10.7136(11.2304) | Error 0.5164(0.4889) Steps 592(575.08) | Grad Norm 17.4531(16.7069) | Total Time 0.00(0.00)\n",
      "Iter 1137 | Time 60.8152(61.0276) | Bit/dim 4.1840(4.0696) | Xent 1.5184(1.3620) | Loss 11.2780(11.2318) | Error 0.5549(0.4909) Steps 586(575.41) | Grad Norm 51.7132(17.7571) | Total Time 0.00(0.00)\n",
      "Iter 1138 | Time 57.5961(60.9247) | Bit/dim 4.2070(4.0737) | Xent 1.6836(1.3716) | Loss 11.2839(11.2334) | Error 0.6073(0.4944) Steps 556(574.83) | Grad Norm 33.4098(18.2267) | Total Time 0.00(0.00)\n",
      "Iter 1139 | Time 53.3898(60.6986) | Bit/dim 4.1298(4.0754) | Xent 1.4639(1.3744) | Loss 10.7371(11.2185) | Error 0.5302(0.4954) Steps 544(573.90) | Grad Norm 25.7884(18.4536) | Total Time 0.00(0.00)\n",
      "Iter 1140 | Time 64.4780(60.8120) | Bit/dim 4.1161(4.0766) | Xent 1.3890(1.3748) | Loss 10.8604(11.2078) | Error 0.5061(0.4958) Steps 562(573.55) | Grad Norm 21.3377(18.5401) | Total Time 0.00(0.00)\n",
      "validating...\n",
      "Epoch 0190 | Time 23.4078, Epoch Time 393.8526(405.5676), Bit/dim 4.0934(best: 4.0411), Xent 1.4275, Loss 4.8072, Error 0.5291(best: 0.4508)\n",
      "===> Using batch size 8000. Total 6 iterations/epoch.\n"
     ]
    },
    {
     "name": "stdout",
     "output_type": "stream",
     "text": [
      "18.622754491017965\n",
      "18.622754491017965\n",
      "18.622754491017965\n",
      "18.622754491017965\n",
      "18.622754491017965\n",
      "18.622754491017965\n",
      "18.622754491017965\n",
      "18.622754491017965\n",
      "18.622754491017965\n",
      "18.622754491017965\n",
      "18.622754491017965\n",
      "18.622754491017965\n",
      "18.622754491017965\n",
      "18.622754491017965\n"
     ]
    },
    {
     "name": "stderr",
     "output_type": "stream",
     "text": [
      "Iter 1141 | Time 58.3114(60.7370) | Bit/dim 4.0828(4.0768) | Xent 1.4724(1.3778) | Loss 13.9267(11.2893) | Error 0.5396(0.4971) Steps 538(572.48) | Grad Norm 25.7933(18.7577) | Total Time 0.00(0.00)\n",
      "Iter 1142 | Time 56.7555(60.6175) | Bit/dim 4.1043(4.0776) | Xent 1.4343(1.3795) | Loss 10.8889(11.2773) | Error 0.5239(0.4979) Steps 544(571.63) | Grad Norm 17.2305(18.7119) | Total Time 0.00(0.00)\n",
      "Iter 1143 | Time 60.1066(60.6022) | Bit/dim 4.1296(4.0792) | Xent 1.4898(1.3828) | Loss 10.9752(11.2682) | Error 0.5404(0.4992) Steps 520(570.08) | Grad Norm 27.1761(18.9658) | Total Time 0.00(0.00)\n",
      "Iter 1144 | Time 56.8077(60.4884) | Bit/dim 4.0906(4.0795) | Xent 1.4313(1.3842) | Loss 10.4546(11.2438) | Error 0.5248(0.4999) Steps 550(569.48) | Grad Norm 16.4913(18.8916) | Total Time 0.00(0.00)\n",
      "Iter 1145 | Time 60.6765(60.4940) | Bit/dim 4.0906(4.0798) | Xent 1.4940(1.3875) | Loss 10.8682(11.2326) | Error 0.5394(0.5011) Steps 568(569.43) | Grad Norm 21.0728(18.9570) | Total Time 0.00(0.00)\n",
      "Iter 1146 | Time 61.6469(60.5286) | Bit/dim 4.0955(4.0803) | Xent 1.4340(1.3889) | Loss 10.9644(11.2245) | Error 0.5280(0.5019) Steps 556(569.03) | Grad Norm 13.7210(18.7999) | Total Time 0.00(0.00)\n",
      "validating...\n",
      "Epoch 0191 | Time 22.9729, Epoch Time 394.9436(405.2489), Bit/dim 4.0815(best: 4.0411), Xent 1.3973, Loss 4.7801, Error 0.5178(best: 0.4508)\n",
      "===> Using batch size 8000. Total 6 iterations/epoch.\n"
     ]
    },
    {
     "name": "stdout",
     "output_type": "stream",
     "text": [
      "18.562874251497004\n",
      "18.562874251497004\n",
      "18.562874251497004\n",
      "18.562874251497004\n",
      "18.562874251497004\n",
      "18.562874251497004\n",
      "18.562874251497004\n",
      "18.562874251497004\n",
      "18.562874251497004\n",
      "18.562874251497004\n",
      "18.562874251497004\n",
      "18.562874251497004\n",
      "18.562874251497004\n",
      "18.562874251497004\n"
     ]
    },
    {
     "name": "stderr",
     "output_type": "stream",
     "text": [
      "Iter 1147 | Time 61.5076(60.5580) | Bit/dim 4.0813(4.0803) | Xent 1.4513(1.3908) | Loss 14.2021(11.3138) | Error 0.5295(0.5027) Steps 556(568.64) | Grad Norm 16.9418(18.7442) | Total Time 0.00(0.00)\n",
      "Iter 1148 | Time 57.8576(60.4770) | Bit/dim 4.0644(4.0799) | Xent 1.4332(1.3921) | Loss 10.8401(11.2996) | Error 0.5272(0.5035) Steps 562(568.44) | Grad Norm 11.4742(18.5261) | Total Time 0.00(0.00)\n",
      "Iter 1149 | Time 62.8099(60.5470) | Bit/dim 4.0592(4.0792) | Xent 1.4394(1.3935) | Loss 10.6800(11.2810) | Error 0.5252(0.5041) Steps 598(569.32) | Grad Norm 13.6023(18.3784) | Total Time 0.00(0.00)\n",
      "Iter 1150 | Time 59.6065(60.5187) | Bit/dim 4.0516(4.0784) | Xent 1.3943(1.3935) | Loss 10.6392(11.2618) | Error 0.5111(0.5043) Steps 592(570.01) | Grad Norm 9.5169(18.1125) | Total Time 0.00(0.00)\n",
      "Iter 1151 | Time 60.7951(60.5270) | Bit/dim 4.0562(4.0777) | Xent 1.4347(1.3947) | Loss 10.9309(11.2519) | Error 0.5246(0.5050) Steps 592(570.66) | Grad Norm 15.7255(18.0409) | Total Time 0.00(0.00)\n",
      "Iter 1152 | Time 64.1105(60.6345) | Bit/dim 4.0499(4.0769) | Xent 1.4531(1.3965) | Loss 10.6821(11.2348) | Error 0.5329(0.5058) Steps 598(571.48) | Grad Norm 15.2356(17.9567) | Total Time 0.00(0.00)\n",
      "validating...\n",
      "Epoch 0192 | Time 23.1146, Epoch Time 408.5403(405.3476), Bit/dim 4.0530(best: 4.0411), Xent 1.3863, Loss 4.7461, Error 0.5026(best: 0.4508)\n",
      "===> Using batch size 8000. Total 6 iterations/epoch.\n"
     ]
    },
    {
     "name": "stdout",
     "output_type": "stream",
     "text": [
      "18.502994011976046\n",
      "18.502994011976046\n",
      "18.502994011976046\n",
      "18.502994011976046\n",
      "18.502994011976046\n",
      "18.502994011976046\n",
      "18.502994011976046\n",
      "18.502994011976046\n",
      "18.502994011976046\n",
      "18.502994011976046\n",
      "18.502994011976046\n",
      "18.502994011976046\n",
      "18.502994011976046\n",
      "18.502994011976046\n"
     ]
    },
    {
     "name": "stderr",
     "output_type": "stream",
     "text": [
      "Iter 1153 | Time 62.8017(60.6995) | Bit/dim 4.0549(4.0762) | Xent 1.4514(1.3981) | Loss 13.9961(11.3176) | Error 0.5321(0.5066) Steps 598(572.28) | Grad Norm 13.8588(17.8338) | Total Time 0.00(0.00)\n",
      "Iter 1154 | Time 59.9418(60.6768) | Bit/dim 4.0324(4.0749) | Xent 1.3939(1.3980) | Loss 10.6864(11.2987) | Error 0.5081(0.5066) Steps 592(572.87) | Grad Norm 6.3785(17.4901) | Total Time 0.00(0.00)\n",
      "Iter 1155 | Time 62.4819(60.7310) | Bit/dim 4.0437(4.0740) | Xent 1.3905(1.3978) | Loss 10.9193(11.2873) | Error 0.5059(0.5066) Steps 610(573.99) | Grad Norm 9.5171(17.2510) | Total Time 0.00(0.00)\n",
      "Iter 1156 | Time 68.3102(60.9583) | Bit/dim 4.0395(4.0730) | Xent 1.3739(1.3971) | Loss 10.8374(11.2738) | Error 0.4951(0.5063) Steps 574(573.99) | Grad Norm 9.9112(17.0308) | Total Time 0.00(0.00)\n",
      "Iter 1157 | Time 61.0124(60.9600) | Bit/dim 4.0318(4.0717) | Xent 1.3829(1.3966) | Loss 10.6916(11.2563) | Error 0.5057(0.5062) Steps 562(573.63) | Grad Norm 10.4981(16.8348) | Total Time 0.00(0.00)\n",
      "Iter 1158 | Time 65.8681(61.1072) | Bit/dim 4.0347(4.0706) | Xent 1.4057(1.3969) | Loss 10.7384(11.2408) | Error 0.5179(0.5066) Steps 592(574.18) | Grad Norm 7.5412(16.5560) | Total Time 0.00(0.00)\n",
      "validating...\n",
      "Epoch 0193 | Time 22.8539, Epoch Time 420.7388(405.8094), Bit/dim 4.0268(best: 4.0411), Xent 1.3226, Loss 4.6881, Error 0.4798(best: 0.4508)\n",
      "===> Using batch size 8000. Total 6 iterations/epoch.\n"
     ]
    },
    {
     "name": "stdout",
     "output_type": "stream",
     "text": [
      "18.443113772455092\n",
      "18.443113772455092\n",
      "18.443113772455092\n",
      "18.443113772455092\n",
      "18.443113772455092\n",
      "18.443113772455092\n",
      "18.443113772455092\n",
      "18.443113772455092\n",
      "18.443113772455092\n",
      "18.443113772455092\n",
      "18.443113772455092\n",
      "18.443113772455092\n",
      "18.443113772455092\n",
      "18.443113772455092\n"
     ]
    },
    {
     "name": "stderr",
     "output_type": "stream",
     "text": [
      "Iter 1159 | Time 60.6953(61.0949) | Bit/dim 4.0297(4.0694) | Xent 1.3735(1.3962) | Loss 13.4798(11.3080) | Error 0.5016(0.5064) Steps 556(573.63) | Grad Norm 4.7769(16.2026) | Total Time 0.00(0.00)\n",
      "Iter 1160 | Time 61.1520(61.0966) | Bit/dim 4.0254(4.0681) | Xent 1.3459(1.3947) | Loss 10.7353(11.2908) | Error 0.4950(0.5061) Steps 580(573.82) | Grad Norm 7.1303(15.9304) | Total Time 0.00(0.00)\n",
      "Iter 1161 | Time 57.8880(61.0003) | Bit/dim 4.0341(4.0670) | Xent 1.3530(1.3935) | Loss 10.7461(11.2744) | Error 0.4901(0.5056) Steps 574(573.83) | Grad Norm 11.0446(15.7839) | Total Time 0.00(0.00)\n",
      "Iter 1162 | Time 61.1425(61.0046) | Bit/dim 4.0234(4.0657) | Xent 1.3619(1.3925) | Loss 10.3196(11.2458) | Error 0.4888(0.5051) Steps 556(573.29) | Grad Norm 12.1133(15.6737) | Total Time 0.00(0.00)\n",
      "Iter 1163 | Time 57.1213(60.8881) | Bit/dim 4.0209(4.0644) | Xent 1.3631(1.3916) | Loss 10.4110(11.2208) | Error 0.4921(0.5047) Steps 544(572.42) | Grad Norm 9.5342(15.4896) | Total Time 0.00(0.00)\n",
      "Iter 1164 | Time 64.0515(60.9830) | Bit/dim 4.0338(4.0635) | Xent 1.3573(1.3906) | Loss 10.6331(11.2031) | Error 0.4905(0.5043) Steps 538(571.38) | Grad Norm 5.0749(15.1771) | Total Time 0.00(0.00)\n",
      "validating...\n",
      "Epoch 0194 | Time 22.4850, Epoch Time 403.5637(405.7420), Bit/dim 4.0251(best: 4.0268), Xent 1.3093, Loss 4.6797, Error 0.4722(best: 0.4508)\n",
      "===> Using batch size 8000. Total 6 iterations/epoch.\n"
     ]
    },
    {
     "name": "stdout",
     "output_type": "stream",
     "text": [
      "18.38323353293413\n",
      "18.38323353293413\n",
      "18.38323353293413\n",
      "18.38323353293413\n",
      "18.38323353293413\n",
      "18.38323353293413\n",
      "18.38323353293413\n",
      "18.38323353293413\n",
      "18.38323353293413\n",
      "18.38323353293413\n",
      "18.38323353293413\n",
      "18.38323353293413\n",
      "18.38323353293413\n",
      "18.38323353293413\n"
     ]
    },
    {
     "name": "stderr",
     "output_type": "stream",
     "text": [
      "Iter 1165 | Time 62.3216(61.0231) | Bit/dim 4.0196(4.0622) | Xent 1.3255(1.3886) | Loss 13.7513(11.2796) | Error 0.4792(0.5035) Steps 562(571.10) | Grad Norm 10.7395(15.0440) | Total Time 0.00(0.00)\n",
      "Iter 1166 | Time 66.5015(61.1875) | Bit/dim 4.0239(4.0610) | Xent 1.3500(1.3875) | Loss 10.7579(11.2639) | Error 0.4831(0.5029) Steps 568(571.01) | Grad Norm 15.8521(15.0682) | Total Time 0.00(0.00)\n",
      "Iter 1167 | Time 61.3742(61.1931) | Bit/dim 4.0243(4.0599) | Xent 1.3849(1.3874) | Loss 10.7882(11.2497) | Error 0.4991(0.5028) Steps 574(571.10) | Grad Norm 17.1475(15.1306) | Total Time 0.00(0.00)\n",
      "Iter 1168 | Time 61.0630(61.1892) | Bit/dim 4.0229(4.0588) | Xent 1.3700(1.3869) | Loss 10.4594(11.2259) | Error 0.5000(0.5027) Steps 580(571.37) | Grad Norm 11.8917(15.0334) | Total Time 0.00(0.00)\n",
      "Iter 1169 | Time 63.5219(61.2592) | Bit/dim 4.0066(4.0572) | Xent 1.3160(1.3848) | Loss 10.7914(11.2129) | Error 0.4776(0.5020) Steps 592(571.98) | Grad Norm 6.1724(14.7676) | Total Time 0.00(0.00)\n",
      "Iter 1170 | Time 65.1804(61.3768) | Bit/dim 4.0167(4.0560) | Xent 1.3490(1.3837) | Loss 10.3102(11.1858) | Error 0.4844(0.5015) Steps 574(572.04) | Grad Norm 13.0281(14.7154) | Total Time 0.00(0.00)\n",
      "validating...\n",
      "Epoch 0195 | Time 22.9172, Epoch Time 420.4754(406.1840), Bit/dim 4.0163(best: 4.0251), Xent 1.2883, Loss 4.6604, Error 0.4644(best: 0.4508)\n",
      "===> Using batch size 8000. Total 6 iterations/epoch.\n"
     ]
    },
    {
     "name": "stdout",
     "output_type": "stream",
     "text": [
      "18.32335329341317\n",
      "18.32335329341317\n",
      "18.32335329341317\n",
      "18.32335329341317\n",
      "18.32335329341317\n",
      "18.32335329341317\n",
      "18.32335329341317\n",
      "18.32335329341317\n",
      "18.32335329341317\n",
      "18.32335329341317\n",
      "18.32335329341317\n",
      "18.32335329341317\n",
      "18.32335329341317\n",
      "18.32335329341317\n"
     ]
    },
    {
     "name": "stderr",
     "output_type": "stream",
     "text": [
      "Iter 1171 | Time 62.8058(61.4197) | Bit/dim 4.0155(4.0548) | Xent 1.3193(1.3818) | Loss 13.9110(11.2676) | Error 0.4784(0.5008) Steps 580(572.28) | Grad Norm 9.8832(14.5705) | Total Time 0.00(0.00)\n",
      "Iter 1172 | Time 59.7753(61.3703) | Bit/dim 4.0165(4.0537) | Xent 1.3183(1.3798) | Loss 10.5236(11.2453) | Error 0.4842(0.5003) Steps 580(572.51) | Grad Norm 6.0843(14.3159) | Total Time 0.00(0.00)\n",
      "Iter 1173 | Time 62.3130(61.3986) | Bit/dim 4.0083(4.0523) | Xent 1.3196(1.3780) | Loss 10.5759(11.2252) | Error 0.4673(0.4993) Steps 574(572.56) | Grad Norm 9.1981(14.1623) | Total Time 0.00(0.00)\n",
      "Iter 1174 | Time 63.1881(61.4523) | Bit/dim 4.0131(4.0511) | Xent 1.3158(1.3762) | Loss 10.6961(11.2093) | Error 0.4766(0.4986) Steps 568(572.42) | Grad Norm 7.8022(13.9715) | Total Time 0.00(0.00)\n",
      "Iter 1175 | Time 63.3248(61.5085) | Bit/dim 4.0069(4.0498) | Xent 1.3159(1.3744) | Loss 10.5245(11.1888) | Error 0.4812(0.4981) Steps 550(571.75) | Grad Norm 6.6831(13.7529) | Total Time 0.00(0.00)\n",
      "Iter 1176 | Time 61.6045(61.5114) | Bit/dim 4.0075(4.0485) | Xent 1.2912(1.3719) | Loss 10.3161(11.1626) | Error 0.4699(0.4972) Steps 580(572.00) | Grad Norm 3.2853(13.4389) | Total Time 0.00(0.00)\n",
      "validating...\n",
      "Epoch 0196 | Time 22.6164, Epoch Time 413.5801(406.4059), Bit/dim 4.0067(best: 4.0163), Xent 1.2683, Loss 4.6409, Error 0.4532(best: 0.4508)\n",
      "===> Using batch size 8000. Total 6 iterations/epoch.\n"
     ]
    },
    {
     "name": "stdout",
     "output_type": "stream",
     "text": [
      "18.263473053892216\n",
      "18.263473053892216\n",
      "18.263473053892216\n",
      "18.263473053892216\n",
      "18.263473053892216\n",
      "18.263473053892216\n",
      "18.263473053892216\n",
      "18.263473053892216\n",
      "18.263473053892216\n",
      "18.263473053892216\n",
      "18.263473053892216\n",
      "18.263473053892216\n",
      "18.263473053892216\n",
      "18.263473053892216\n"
     ]
    },
    {
     "name": "stderr",
     "output_type": "stream",
     "text": [
      "Iter 1177 | Time 63.1901(61.5617) | Bit/dim 4.0090(4.0473) | Xent 1.3246(1.3705) | Loss 13.9724(11.2469) | Error 0.4845(0.4968) Steps 574(572.06) | Grad Norm 7.9578(13.2744) | Total Time 0.00(0.00)\n",
      "Iter 1178 | Time 66.4837(61.7094) | Bit/dim 4.0119(4.0463) | Xent 1.2940(1.3682) | Loss 10.5059(11.2247) | Error 0.4651(0.4959) Steps 556(571.58) | Grad Norm 9.0207(13.1468) | Total Time 0.00(0.00)\n",
      "Iter 1179 | Time 60.8440(61.6834) | Bit/dim 4.0088(4.0451) | Xent 1.3033(1.3662) | Loss 10.7105(11.2092) | Error 0.4742(0.4952) Steps 592(572.19) | Grad Norm 10.7470(13.0748) | Total Time 0.00(0.00)\n",
      "Iter 1180 | Time 56.5662(61.5299) | Bit/dim 4.0036(4.0439) | Xent 1.2927(1.3640) | Loss 10.7559(11.1956) | Error 0.4665(0.4944) Steps 580(572.42) | Grad Norm 10.3245(12.9923) | Total Time 0.00(0.00)\n",
      "Iter 1181 | Time 58.9780(61.4534) | Bit/dim 3.9991(4.0426) | Xent 1.2848(1.3616) | Loss 10.3418(11.1700) | Error 0.4595(0.4933) Steps 568(572.29) | Grad Norm 6.7568(12.8052) | Total Time 0.00(0.00)\n",
      "Iter 1182 | Time 62.5214(61.4854) | Bit/dim 4.0039(4.0414) | Xent 1.3072(1.3600) | Loss 10.4713(11.1490) | Error 0.4758(0.4928) Steps 562(571.98) | Grad Norm 6.7866(12.6247) | Total Time 0.00(0.00)\n",
      "validating...\n",
      "Epoch 0197 | Time 22.8241, Epoch Time 409.8885(406.5104), Bit/dim 4.0070(best: 4.0067), Xent 1.2503, Loss 4.6321, Error 0.4477(best: 0.4508)\n",
      "===> Using batch size 8000. Total 6 iterations/epoch.\n"
     ]
    },
    {
     "name": "stdout",
     "output_type": "stream",
     "text": [
      "18.20359281437126\n",
      "18.20359281437126\n",
      "18.20359281437126\n",
      "18.20359281437126\n",
      "18.20359281437126\n",
      "18.20359281437126\n",
      "18.20359281437126\n",
      "18.20359281437126\n",
      "18.20359281437126\n",
      "18.20359281437126\n",
      "18.20359281437126\n",
      "18.20359281437126\n",
      "18.20359281437126\n",
      "18.20359281437126\n"
     ]
    },
    {
     "name": "stderr",
     "output_type": "stream",
     "text": [
      "Iter 1183 | Time 57.5959(61.3687) | Bit/dim 4.0000(4.0402) | Xent 1.2789(1.3576) | Loss 13.9478(11.2330) | Error 0.4635(0.4919) Steps 574(572.04) | Grad Norm 10.0395(12.5471) | Total Time 0.00(0.00)\n",
      "Iter 1184 | Time 62.4204(61.4003) | Bit/dim 4.0063(4.0391) | Xent 1.2901(1.3555) | Loss 10.6050(11.2142) | Error 0.4635(0.4911) Steps 562(571.74) | Grad Norm 12.5907(12.5484) | Total Time 0.00(0.00)\n",
      "Iter 1185 | Time 61.9673(61.4173) | Bit/dim 4.0066(4.0382) | Xent 1.3115(1.3542) | Loss 10.4424(11.1910) | Error 0.4688(0.4904) Steps 568(571.63) | Grad Norm 12.6992(12.5530) | Total Time 0.00(0.00)\n",
      "Iter 1186 | Time 62.9873(61.4644) | Bit/dim 3.9978(4.0370) | Xent 1.2824(1.3521) | Loss 10.6315(11.1742) | Error 0.4627(0.4896) Steps 604(572.60) | Grad Norm 8.8796(12.4428) | Total Time 0.00(0.00)\n",
      "Iter 1187 | Time 60.6056(61.4386) | Bit/dim 3.9990(4.0358) | Xent 1.2983(1.3505) | Loss 10.5908(11.1567) | Error 0.4762(0.4892) Steps 586(573.00) | Grad Norm 5.3603(12.2303) | Total Time 0.00(0.00)\n",
      "Iter 1188 | Time 63.7776(61.5088) | Bit/dim 3.9852(4.0343) | Xent 1.2900(1.3486) | Loss 10.4962(11.1369) | Error 0.4715(0.4886) Steps 616(574.29) | Grad Norm 8.8891(12.1300) | Total Time 0.00(0.00)\n",
      "validating...\n",
      "Epoch 0198 | Time 23.3997, Epoch Time 410.8694(406.6411), Bit/dim 4.0040(best: 4.0067), Xent 1.2359, Loss 4.6219, Error 0.4451(best: 0.4477)\n",
      "===> Using batch size 8000. Total 6 iterations/epoch.\n"
     ]
    },
    {
     "name": "stdout",
     "output_type": "stream",
     "text": [
      "18.143712574850298\n",
      "18.143712574850298\n",
      "18.143712574850298\n",
      "18.143712574850298\n",
      "18.143712574850298\n",
      "18.143712574850298\n",
      "18.143712574850298\n",
      "18.143712574850298\n",
      "18.143712574850298\n",
      "18.143712574850298\n",
      "18.143712574850298\n",
      "18.143712574850298\n",
      "18.143712574850298\n",
      "18.143712574850298\n"
     ]
    },
    {
     "name": "stderr",
     "output_type": "stream",
     "text": [
      "Iter 1189 | Time 59.8843(61.4600) | Bit/dim 4.0116(4.0336) | Xent 1.2749(1.3464) | Loss 13.2482(11.2003) | Error 0.4579(0.4877) Steps 556(573.74) | Grad Norm 13.8713(12.1823) | Total Time 0.00(0.00)\n",
      "Iter 1190 | Time 60.0826(61.4187) | Bit/dim 4.0131(4.0330) | Xent 1.2673(1.3441) | Loss 10.6170(11.1828) | Error 0.4600(0.4869) Steps 562(573.39) | Grad Norm 14.3375(12.2469) | Total Time 0.00(0.00)\n",
      "Iter 1191 | Time 60.0244(61.3769) | Bit/dim 3.9976(4.0319) | Xent 1.2689(1.3418) | Loss 10.4512(11.1608) | Error 0.4586(0.4860) Steps 556(572.87) | Grad Norm 8.9733(12.1487) | Total Time 0.00(0.00)\n",
      "Iter 1192 | Time 62.7056(61.4167) | Bit/dim 3.9855(4.0305) | Xent 1.2831(1.3400) | Loss 10.5033(11.1411) | Error 0.4656(0.4854) Steps 568(572.72) | Grad Norm 4.8397(11.9295) | Total Time 0.00(0.00)\n",
      "Iter 1193 | Time 60.0877(61.3769) | Bit/dim 3.9899(4.0293) | Xent 1.2810(1.3383) | Loss 10.4055(11.1190) | Error 0.4708(0.4850) Steps 592(573.30) | Grad Norm 4.7320(11.7135) | Total Time 0.00(0.00)\n",
      "Iter 1194 | Time 62.8333(61.4206) | Bit/dim 3.9878(4.0281) | Xent 1.2665(1.3361) | Loss 10.4765(11.0997) | Error 0.4550(0.4841) Steps 592(573.86) | Grad Norm 5.6083(11.5304) | Total Time 0.00(0.00)\n",
      "validating...\n",
      "Epoch 0199 | Time 22.9583, Epoch Time 407.0670(406.6539), Bit/dim 3.9939(best: 4.0040), Xent 1.2230, Loss 4.6054, Error 0.4390(best: 0.4451)\n",
      "===> Using batch size 8000. Total 6 iterations/epoch.\n"
     ]
    },
    {
     "name": "stdout",
     "output_type": "stream",
     "text": [
      "18.08383233532934\n",
      "18.08383233532934\n",
      "18.08383233532934\n",
      "18.08383233532934\n",
      "18.08383233532934\n",
      "18.08383233532934\n",
      "18.08383233532934\n",
      "18.08383233532934\n",
      "18.08383233532934\n",
      "18.08383233532934\n",
      "18.08383233532934\n",
      "18.08383233532934\n",
      "18.08383233532934\n",
      "18.08383233532934\n"
     ]
    },
    {
     "name": "stderr",
     "output_type": "stream",
     "text": [
      "Iter 1195 | Time 67.7948(61.6118) | Bit/dim 3.9936(4.0270) | Xent 1.2480(1.3335) | Loss 13.4601(11.1706) | Error 0.4581(0.4833) Steps 580(574.05) | Grad Norm 6.1099(11.3678) | Total Time 0.00(0.00)\n",
      "Iter 1196 | Time 61.0665(61.5954) | Bit/dim 3.9836(4.0257) | Xent 1.2810(1.3319) | Loss 10.3458(11.1458) | Error 0.4657(0.4828) Steps 574(574.04) | Grad Norm 7.7507(11.2593) | Total Time 0.00(0.00)\n",
      "Iter 1197 | Time 59.5010(61.5326) | Bit/dim 3.9885(4.0246) | Xent 1.2754(1.3302) | Loss 10.3627(11.1223) | Error 0.4625(0.4822) Steps 598(574.76) | Grad Norm 9.9816(11.2209) | Total Time 0.00(0.00)\n",
      "Iter 1198 | Time 58.9796(61.4560) | Bit/dim 4.0071(4.0241) | Xent 1.2761(1.3286) | Loss 10.4635(11.1026) | Error 0.4625(0.4816) Steps 580(574.92) | Grad Norm 12.6592(11.2641) | Total Time 0.00(0.00)\n",
      "Iter 1199 | Time 60.9124(61.4397) | Bit/dim 4.0004(4.0234) | Xent 1.2797(1.3271) | Loss 10.5829(11.0870) | Error 0.4640(0.4811) Steps 580(575.07) | Grad Norm 17.8572(11.4619) | Total Time 0.00(0.00)\n",
      "Iter 1200 | Time 59.0211(61.3671) | Bit/dim 4.0165(4.0232) | Xent 1.3273(1.3271) | Loss 10.6892(11.0750) | Error 0.4826(0.4811) Steps 568(574.86) | Grad Norm 25.7977(11.8919) | Total Time 0.00(0.00)\n",
      "validating...\n",
      "Epoch 0200 | Time 23.4208, Epoch Time 408.0908(406.6970), Bit/dim 4.0000(best: 3.9939), Xent 1.2229, Loss 4.6115, Error 0.4399(best: 0.4390)\n",
      "===> Using batch size 8000. Total 6 iterations/epoch.\n"
     ]
    },
    {
     "name": "stdout",
     "output_type": "stream",
     "text": [
      "18.023952095808383\n",
      "18.023952095808383\n",
      "18.023952095808383\n",
      "18.023952095808383\n",
      "18.023952095808383\n",
      "18.023952095808383\n",
      "18.023952095808383\n",
      "18.023952095808383\n",
      "18.023952095808383\n",
      "18.023952095808383\n",
      "18.023952095808383\n",
      "18.023952095808383\n",
      "18.023952095808383\n",
      "18.023952095808383\n"
     ]
    },
    {
     "name": "stderr",
     "output_type": "stream",
     "text": [
      "Iter 1201 | Time 57.9802(61.2655) | Bit/dim 3.9995(4.0225) | Xent 1.2683(1.3254) | Loss 13.4642(11.1467) | Error 0.4640(0.4806) Steps 556(574.29) | Grad Norm 11.9124(11.8926) | Total Time 0.00(0.00)\n",
      "Iter 1202 | Time 59.3766(61.2089) | Bit/dim 3.9857(4.0214) | Xent 1.2564(1.3233) | Loss 10.4548(11.1259) | Error 0.4537(0.4798) Steps 556(573.75) | Grad Norm 8.6169(11.7943) | Total Time 0.00(0.00)\n",
      "Iter 1203 | Time 60.0831(61.1751) | Bit/dim 3.9960(4.0206) | Xent 1.2720(1.3217) | Loss 10.4626(11.1060) | Error 0.4609(0.4792) Steps 568(573.57) | Grad Norm 15.3903(11.9022) | Total Time 0.00(0.00)\n",
      "Iter 1204 | Time 59.1184(61.1134) | Bit/dim 4.0007(4.0200) | Xent 1.2809(1.3205) | Loss 10.6966(11.0938) | Error 0.4595(0.4786) Steps 592(574.13) | Grad Norm 16.6448(12.0444) | Total Time 0.00(0.00)\n",
      "Iter 1205 | Time 56.9942(60.9898) | Bit/dim 3.9954(4.0193) | Xent 1.3120(1.3203) | Loss 10.4278(11.0738) | Error 0.4714(0.4784) Steps 550(573.40) | Grad Norm 12.7372(12.0652) | Total Time 0.00(0.00)\n",
      "Iter 1206 | Time 64.3827(61.0916) | Bit/dim 3.9860(4.0183) | Xent 1.2880(1.3193) | Loss 10.5567(11.0583) | Error 0.4659(0.4780) Steps 592(573.96) | Grad Norm 12.1106(12.0666) | Total Time 0.00(0.00)\n",
      "validating...\n",
      "Epoch 0201 | Time 23.0317, Epoch Time 399.7256(406.4879), Bit/dim 4.0070(best: 3.9939), Xent 1.2457, Loss 4.6298, Error 0.4458(best: 0.4390)\n",
      "===> Using batch size 8000. Total 6 iterations/epoch.\n"
     ]
    },
    {
     "name": "stdout",
     "output_type": "stream",
     "text": [
      "17.964071856287426\n",
      "17.964071856287426\n",
      "17.964071856287426\n",
      "17.964071856287426\n",
      "17.964071856287426\n",
      "17.964071856287426\n",
      "17.964071856287426\n",
      "17.964071856287426\n",
      "17.964071856287426\n",
      "17.964071856287426\n",
      "17.964071856287426\n",
      "17.964071856287426\n",
      "17.964071856287426\n",
      "17.964071856287426\n"
     ]
    },
    {
     "name": "stderr",
     "output_type": "stream",
     "text": [
      "Iter 1207 | Time 61.0335(61.0899) | Bit/dim 4.0006(4.0177) | Xent 1.2971(1.3186) | Loss 13.4988(11.1315) | Error 0.4735(0.4779) Steps 592(574.50) | Grad Norm 22.9485(12.3930) | Total Time 0.00(0.00)\n",
      "Iter 1208 | Time 62.2616(61.1250) | Bit/dim 4.0124(4.0176) | Xent 1.3258(1.3188) | Loss 10.7778(11.1209) | Error 0.4780(0.4779) Steps 550(573.77) | Grad Norm 24.2329(12.7482) | Total Time 0.00(0.00)\n",
      "Iter 1209 | Time 58.9122(61.0586) | Bit/dim 3.9887(4.0167) | Xent 1.2479(1.3167) | Loss 10.4767(11.1015) | Error 0.4567(0.4773) Steps 592(574.31) | Grad Norm 7.0377(12.5769) | Total Time 0.00(0.00)\n",
      "Iter 1210 | Time 60.7877(61.0505) | Bit/dim 3.9914(4.0160) | Xent 1.2678(1.3152) | Loss 10.4069(11.0807) | Error 0.4611(0.4768) Steps 556(573.76) | Grad Norm 11.7714(12.5528) | Total Time 0.00(0.00)\n",
      "Iter 1211 | Time 61.1841(61.0545) | Bit/dim 3.9914(4.0152) | Xent 1.3088(1.3151) | Loss 10.5598(11.0651) | Error 0.4641(0.4764) Steps 574(573.77) | Grad Norm 23.2422(12.8734) | Total Time 0.00(0.00)\n",
      "Iter 1212 | Time 56.6849(60.9234) | Bit/dim 3.9907(4.0145) | Xent 1.2572(1.3133) | Loss 10.4579(11.0469) | Error 0.4546(0.4758) Steps 556(573.24) | Grad Norm 13.0439(12.8786) | Total Time 0.00(0.00)\n",
      "validating...\n",
      "Epoch 0202 | Time 23.4585, Epoch Time 401.7000(406.3442), Bit/dim 3.9893(best: 3.9939), Xent 1.2282, Loss 4.6034, Error 0.4385(best: 0.4390)\n",
      "===> Using batch size 8000. Total 6 iterations/epoch.\n"
     ]
    },
    {
     "name": "stdout",
     "output_type": "stream",
     "text": [
      "17.904191616766468\n",
      "17.904191616766468\n",
      "17.904191616766468\n",
      "17.904191616766468\n",
      "17.904191616766468\n",
      "17.904191616766468\n",
      "17.904191616766468\n",
      "17.904191616766468\n",
      "17.904191616766468\n",
      "17.904191616766468\n",
      "17.904191616766468\n",
      "17.904191616766468\n",
      "17.904191616766468\n",
      "17.904191616766468\n"
     ]
    },
    {
     "name": "stderr",
     "output_type": "stream",
     "text": [
      "Iter 1213 | Time 63.0575(60.9874) | Bit/dim 3.9883(4.0137) | Xent 1.2625(1.3118) | Loss 13.3734(11.1167) | Error 0.4530(0.4751) Steps 568(573.08) | Grad Norm 9.4595(12.7760) | Total Time 0.00(0.00)\n",
      "Iter 1214 | Time 60.5288(60.9737) | Bit/dim 3.9994(4.0133) | Xent 1.2846(1.3110) | Loss 10.5746(11.1004) | Error 0.4647(0.4748) Steps 556(572.57) | Grad Norm 20.9271(13.0205) | Total Time 0.00(0.00)\n",
      "Iter 1215 | Time 65.6685(61.1145) | Bit/dim 3.9884(4.0125) | Xent 1.2766(1.3099) | Loss 10.5316(11.0833) | Error 0.4567(0.4742) Steps 580(572.79) | Grad Norm 17.6884(13.1605) | Total Time 0.00(0.00)\n",
      "Iter 1216 | Time 59.9445(61.0794) | Bit/dim 3.9874(4.0118) | Xent 1.2751(1.3089) | Loss 10.2838(11.0594) | Error 0.4600(0.4738) Steps 568(572.65) | Grad Norm 9.5324(13.0517) | Total Time 0.00(0.00)\n",
      "Iter 1217 | Time 60.1815(61.0525) | Bit/dim 3.9885(4.0111) | Xent 1.2579(1.3074) | Loss 10.5419(11.0438) | Error 0.4563(0.4733) Steps 562(572.33) | Grad Norm 11.9170(13.0177) | Total Time 0.00(0.00)\n",
      "Iter 1218 | Time 59.2106(60.9972) | Bit/dim 3.9908(4.0105) | Xent 1.2747(1.3064) | Loss 10.4733(11.0267) | Error 0.4630(0.4730) Steps 574(572.38) | Grad Norm 17.9150(13.1646) | Total Time 0.00(0.00)\n",
      "validating...\n",
      "Epoch 0203 | Time 22.6567, Epoch Time 408.9150(406.4214), Bit/dim 3.9880(best: 3.9893), Xent 1.2355, Loss 4.6058, Error 0.4456(best: 0.4385)\n",
      "===> Using batch size 8000. Total 6 iterations/epoch.\n"
     ]
    },
    {
     "name": "stdout",
     "output_type": "stream",
     "text": [
      "17.844311377245507\n",
      "17.844311377245507\n",
      "17.844311377245507\n",
      "17.844311377245507\n",
      "17.844311377245507\n",
      "17.844311377245507\n",
      "17.844311377245507\n",
      "17.844311377245507\n",
      "17.844311377245507\n",
      "17.844311377245507\n",
      "17.844311377245507\n",
      "17.844311377245507\n",
      "17.844311377245507\n",
      "17.844311377245507\n"
     ]
    },
    {
     "name": "stderr",
     "output_type": "stream",
     "text": [
      "Iter 1219 | Time 59.9650(60.9663) | Bit/dim 3.9793(4.0095) | Xent 1.2758(1.3055) | Loss 13.7139(11.1073) | Error 0.4531(0.4724) Steps 568(572.25) | Grad Norm 12.5749(13.1469) | Total Time 0.00(0.00)\n",
      "Iter 1220 | Time 62.6146(61.0157) | Bit/dim 3.9858(4.0088) | Xent 1.2617(1.3042) | Loss 10.6850(11.0947) | Error 0.4514(0.4717) Steps 556(571.76) | Grad Norm 14.4361(13.1856) | Total Time 0.00(0.00)\n",
      "Iter 1221 | Time 61.9942(61.0451) | Bit/dim 3.9904(4.0083) | Xent 1.3578(1.3058) | Loss 10.5601(11.0786) | Error 0.4861(0.4722) Steps 592(572.37) | Grad Norm 33.0827(13.7825) | Total Time 0.00(0.00)\n",
      "Iter 1222 | Time 62.6870(61.0943) | Bit/dim 3.9887(4.0077) | Xent 1.2829(1.3051) | Loss 10.5156(11.0617) | Error 0.4647(0.4719) Steps 562(572.06) | Grad Norm 9.4894(13.6537) | Total Time 0.00(0.00)\n",
      "Iter 1223 | Time 61.8077(61.1157) | Bit/dim 3.9843(4.0070) | Xent 1.2757(1.3042) | Loss 10.6221(11.0485) | Error 0.4594(0.4716) Steps 544(571.21) | Grad Norm 12.0013(13.6041) | Total Time 0.00(0.00)\n",
      "Iter 1224 | Time 56.2256(60.9690) | Bit/dim 3.9764(4.0061) | Xent 1.2922(1.3038) | Loss 10.5641(11.0340) | Error 0.4669(0.4714) Steps 568(571.12) | Grad Norm 20.2127(13.8024) | Total Time 0.00(0.00)\n",
      "validating...\n",
      "Epoch 0204 | Time 23.7214, Epoch Time 406.9290(406.4366), Bit/dim 3.9980(best: 3.9880), Xent 1.3539, Loss 4.6749, Error 0.4729(best: 0.4385)\n",
      "===> Using batch size 8000. Total 6 iterations/epoch.\n"
     ]
    },
    {
     "name": "stdout",
     "output_type": "stream",
     "text": [
      "17.78443113772455\n",
      "17.78443113772455\n",
      "17.78443113772455\n",
      "17.78443113772455\n",
      "17.78443113772455\n",
      "17.78443113772455\n",
      "17.78443113772455\n",
      "17.78443113772455\n",
      "17.78443113772455\n",
      "17.78443113772455\n",
      "17.78443113772455\n",
      "17.78443113772455\n",
      "17.78443113772455\n",
      "17.78443113772455\n"
     ]
    },
    {
     "name": "stderr",
     "output_type": "stream",
     "text": [
      "Iter 1225 | Time 63.1379(61.0341) | Bit/dim 3.9837(4.0054) | Xent 1.4069(1.3069) | Loss 13.8769(11.1193) | Error 0.4918(0.4720) Steps 604(572.10) | Grad Norm 24.7893(14.1320) | Total Time 0.00(0.00)\n",
      "Iter 1226 | Time 56.4531(60.8967) | Bit/dim 3.9917(4.0050) | Xent 1.2522(1.3053) | Loss 10.4368(11.0988) | Error 0.4495(0.4714) Steps 544(571.26) | Grad Norm 9.1553(13.9827) | Total Time 0.00(0.00)\n",
      "Iter 1227 | Time 60.3952(60.8816) | Bit/dim 4.0003(4.0048) | Xent 1.3200(1.3057) | Loss 10.5481(11.0823) | Error 0.4679(0.4713) Steps 568(571.16) | Grad Norm 22.9167(14.2507) | Total Time 0.00(0.00)\n",
      "Iter 1228 | Time 56.8962(60.7621) | Bit/dim 3.9974(4.0046) | Xent 1.3707(1.3077) | Loss 10.5890(11.0675) | Error 0.4932(0.4719) Steps 574(571.25) | Grad Norm 23.4667(14.5272) | Total Time 0.00(0.00)\n",
      "Iter 1229 | Time 63.4412(60.8424) | Bit/dim 3.9928(4.0043) | Xent 1.2695(1.3065) | Loss 10.5375(11.0516) | Error 0.4573(0.4715) Steps 580(571.51) | Grad Norm 9.4374(14.3745) | Total Time 0.00(0.00)\n",
      "Iter 1230 | Time 64.3477(60.9476) | Bit/dim 4.0254(4.0049) | Xent 1.4133(1.3097) | Loss 10.6203(11.0387) | Error 0.5030(0.4724) Steps 598(572.31) | Grad Norm 31.4644(14.8872) | Total Time 0.00(0.00)\n",
      "validating...\n",
      "Epoch 0205 | Time 23.7012, Epoch Time 405.7319(406.4155), Bit/dim 3.9936(best: 3.9880), Xent 1.2468, Loss 4.6170, Error 0.4460(best: 0.4385)\n",
      "===> Using batch size 8000. Total 6 iterations/epoch.\n"
     ]
    },
    {
     "name": "stdout",
     "output_type": "stream",
     "text": [
      "17.724550898203596\n",
      "17.724550898203596\n",
      "17.724550898203596\n",
      "17.724550898203596\n",
      "17.724550898203596\n",
      "17.724550898203596\n",
      "17.724550898203596\n",
      "17.724550898203596\n",
      "17.724550898203596\n",
      "17.724550898203596\n",
      "17.724550898203596\n",
      "17.724550898203596\n",
      "17.724550898203596\n",
      "17.724550898203596\n"
     ]
    },
    {
     "name": "stderr",
     "output_type": "stream",
     "text": [
      "Iter 1231 | Time 58.9707(60.8883) | Bit/dim 3.9905(4.0045) | Xent 1.2901(1.3091) | Loss 13.4980(11.1124) | Error 0.4656(0.4722) Steps 556(571.82) | Grad Norm 14.1668(14.8656) | Total Time 0.00(0.00)\n",
      "Iter 1232 | Time 64.3236(60.9913) | Bit/dim 4.0010(4.0044) | Xent 1.3460(1.3103) | Loss 10.7182(11.1006) | Error 0.4709(0.4722) Steps 592(572.42) | Grad Norm 20.3773(15.0309) | Total Time 0.00(0.00)\n",
      "Iter 1233 | Time 59.5077(60.9468) | Bit/dim 3.9975(4.0041) | Xent 1.3095(1.3102) | Loss 10.2947(11.0764) | Error 0.4663(0.4720) Steps 556(571.93) | Grad Norm 12.1741(14.9452) | Total Time 0.00(0.00)\n",
      "Iter 1234 | Time 57.6112(60.8468) | Bit/dim 3.9923(4.0038) | Xent 1.3499(1.3114) | Loss 10.4113(11.0565) | Error 0.4839(0.4724) Steps 568(571.81) | Grad Norm 21.6219(15.1455) | Total Time 0.00(0.00)\n",
      "Iter 1235 | Time 61.8966(60.8783) | Bit/dim 3.9942(4.0035) | Xent 1.3345(1.3121) | Loss 10.5277(11.0406) | Error 0.4841(0.4727) Steps 574(571.88) | Grad Norm 14.2835(15.1197) | Total Time 0.00(0.00)\n",
      "Iter 1236 | Time 63.2992(60.9509) | Bit/dim 3.9950(4.0033) | Xent 1.3483(1.3132) | Loss 10.5134(11.0248) | Error 0.4912(0.4733) Steps 586(572.30) | Grad Norm 13.3192(15.0656) | Total Time 0.00(0.00)\n",
      "validating...\n",
      "Epoch 0206 | Time 23.1260, Epoch Time 406.3860(406.4146), Bit/dim 4.0072(best: 3.9880), Xent 1.2345, Loss 4.6244, Error 0.4421(best: 0.4385)\n",
      "===> Using batch size 8000. Total 6 iterations/epoch.\n"
     ]
    },
    {
     "name": "stdout",
     "output_type": "stream",
     "text": [
      "17.664670658682635\n",
      "17.664670658682635\n",
      "17.664670658682635\n",
      "17.664670658682635\n",
      "17.664670658682635\n",
      "17.664670658682635\n",
      "17.664670658682635\n",
      "17.664670658682635\n",
      "17.664670658682635\n",
      "17.664670658682635\n",
      "17.664670658682635\n",
      "17.664670658682635\n",
      "17.664670658682635\n",
      "17.664670658682635\n"
     ]
    },
    {
     "name": "stderr",
     "output_type": "stream",
     "text": [
      "Iter 1237 | Time 58.0879(60.8650) | Bit/dim 4.0115(4.0035) | Xent 1.2989(1.3128) | Loss 13.5668(11.1011) | Error 0.4692(0.4731) Steps 550(571.63) | Grad Norm 24.7538(15.3563) | Total Time 0.00(0.00)\n",
      "Iter 1238 | Time 57.4002(60.7610) | Bit/dim 3.9935(4.0032) | Xent 1.3304(1.3133) | Loss 10.5361(11.0841) | Error 0.4839(0.4735) Steps 556(571.16) | Grad Norm 22.4896(15.5703) | Total Time 0.00(0.00)\n",
      "Iter 1239 | Time 62.7540(60.8208) | Bit/dim 3.9763(4.0024) | Xent 1.2825(1.3124) | Loss 10.4860(11.0662) | Error 0.4557(0.4729) Steps 580(571.43) | Grad Norm 13.6421(15.5124) | Total Time 0.00(0.00)\n",
      "Iter 1240 | Time 57.1201(60.7098) | Bit/dim 3.9972(4.0022) | Xent 1.2948(1.3118) | Loss 10.4915(11.0489) | Error 0.4665(0.4727) Steps 550(570.79) | Grad Norm 8.4664(15.3011) | Total Time 0.00(0.00)\n",
      "Iter 1241 | Time 59.0105(60.6588) | Bit/dim 3.9734(4.0014) | Xent 1.2649(1.3104) | Loss 10.3462(11.0278) | Error 0.4634(0.4725) Steps 562(570.52) | Grad Norm 9.4193(15.1246) | Total Time 0.00(0.00)\n",
      "Iter 1242 | Time 60.7379(60.6612) | Bit/dim 3.9969(4.0012) | Xent 1.2903(1.3098) | Loss 10.6967(11.0179) | Error 0.4732(0.4725) Steps 592(571.17) | Grad Norm 13.5435(15.0772) | Total Time 0.00(0.00)\n",
      "validating...\n",
      "Epoch 0207 | Time 22.9851, Epoch Time 395.4905(406.0868), Bit/dim 3.9820(best: 3.9880), Xent 1.2200, Loss 4.5920, Error 0.4373(best: 0.4385)\n",
      "===> Using batch size 8000. Total 6 iterations/epoch.\n"
     ]
    },
    {
     "name": "stdout",
     "output_type": "stream",
     "text": [
      "17.604790419161674\n",
      "17.604790419161674\n",
      "17.604790419161674\n",
      "17.604790419161674\n",
      "17.604790419161674\n",
      "17.604790419161674\n",
      "17.604790419161674\n",
      "17.604790419161674\n",
      "17.604790419161674\n",
      "17.604790419161674\n",
      "17.604790419161674\n",
      "17.604790419161674\n",
      "17.604790419161674\n",
      "17.604790419161674\n"
     ]
    },
    {
     "name": "stderr",
     "output_type": "stream",
     "text": [
      "Iter 1243 | Time 63.4584(60.7451) | Bit/dim 3.9715(4.0003) | Xent 1.2571(1.3083) | Loss 13.6716(11.0975) | Error 0.4559(0.4720) Steps 568(571.07) | Grad Norm 6.7367(14.8270) | Total Time 0.00(0.00)\n",
      "Iter 1244 | Time 57.5279(60.6486) | Bit/dim 3.9863(3.9999) | Xent 1.2493(1.3065) | Loss 10.6227(11.0833) | Error 0.4501(0.4713) Steps 574(571.16) | Grad Norm 6.5003(14.5772) | Total Time 0.00(0.00)\n",
      "Iter 1245 | Time 62.1262(60.6929) | Bit/dim 3.9769(3.9992) | Xent 1.2487(1.3047) | Loss 10.5411(11.0670) | Error 0.4504(0.4707) Steps 610(572.32) | Grad Norm 8.8229(14.4045) | Total Time 0.00(0.00)\n",
      "Iter 1246 | Time 59.2439(60.6495) | Bit/dim 3.9759(3.9985) | Xent 1.2611(1.3034) | Loss 10.4533(11.0486) | Error 0.4564(0.4703) Steps 586(572.73) | Grad Norm 7.5829(14.1999) | Total Time 0.00(0.00)\n",
      "Iter 1247 | Time 60.9964(60.6599) | Bit/dim 3.9880(3.9982) | Xent 1.2557(1.3020) | Loss 10.4596(11.0309) | Error 0.4457(0.4695) Steps 568(572.59) | Grad Norm 10.6876(14.0945) | Total Time 0.00(0.00)\n",
      "Iter 1248 | Time 61.1876(60.6757) | Bit/dim 3.9595(3.9971) | Xent 1.2567(1.3006) | Loss 10.3486(11.0105) | Error 0.4546(0.4691) Steps 574(572.63) | Grad Norm 8.3714(13.9228) | Total Time 0.00(0.00)\n",
      "validating...\n",
      "Epoch 0208 | Time 22.9950, Epoch Time 405.5440(406.0706), Bit/dim 3.9788(best: 3.9820), Xent 1.1991, Loss 4.5783, Error 0.4279(best: 0.4373)\n",
      "===> Using batch size 8000. Total 6 iterations/epoch.\n"
     ]
    },
    {
     "name": "stdout",
     "output_type": "stream",
     "text": [
      "17.54491017964072\n",
      "17.54491017964072\n",
      "17.54491017964072\n",
      "17.54491017964072\n",
      "17.54491017964072\n",
      "17.54491017964072\n",
      "17.54491017964072\n",
      "17.54491017964072\n",
      "17.54491017964072\n",
      "17.54491017964072\n",
      "17.54491017964072\n",
      "17.54491017964072\n",
      "17.54491017964072\n",
      "17.54491017964072\n"
     ]
    },
    {
     "name": "stderr",
     "output_type": "stream",
     "text": [
      "Iter 1249 | Time 61.8553(60.7111) | Bit/dim 3.9760(3.9964) | Xent 1.2393(1.2988) | Loss 13.1752(11.0754) | Error 0.4436(0.4683) Steps 574(572.68) | Grad Norm 9.6614(13.7950) | Total Time 0.00(0.00)\n",
      "Iter 1250 | Time 61.2163(60.7262) | Bit/dim 3.9876(3.9962) | Xent 1.2409(1.2971) | Loss 10.5612(11.0600) | Error 0.4427(0.4676) Steps 568(572.54) | Grad Norm 12.7907(13.7649) | Total Time 0.00(0.00)\n",
      "Iter 1251 | Time 63.5005(60.8095) | Bit/dim 3.9873(3.9959) | Xent 1.2732(1.2964) | Loss 10.3346(11.0382) | Error 0.4631(0.4674) Steps 568(572.40) | Grad Norm 23.3829(14.0534) | Total Time 0.00(0.00)\n",
      "Iter 1252 | Time 59.3648(60.7661) | Bit/dim 3.9891(3.9957) | Xent 1.2800(1.2959) | Loss 10.4285(11.0199) | Error 0.4589(0.4672) Steps 556(571.91) | Grad Norm 27.3027(14.4509) | Total Time 0.00(0.00)\n",
      "Iter 1253 | Time 62.2078(60.8094) | Bit/dim 3.9763(3.9951) | Xent 1.2535(1.2946) | Loss 10.4387(11.0025) | Error 0.4551(0.4668) Steps 574(571.97) | Grad Norm 6.4308(14.2103) | Total Time 0.00(0.00)\n",
      "Iter 1254 | Time 59.0443(60.7564) | Bit/dim 3.9710(3.9944) | Xent 1.2463(1.2931) | Loss 10.2989(10.9814) | Error 0.4510(0.4663) Steps 562(571.67) | Grad Norm 16.3126(14.2733) | Total Time 0.00(0.00)\n",
      "validating...\n",
      "Epoch 0209 | Time 22.1572, Epoch Time 407.1366(406.1025), Bit/dim 4.0056(best: 3.9788), Xent 1.2776, Loss 4.6444, Error 0.4630(best: 0.4279)\n",
      "===> Using batch size 8000. Total 6 iterations/epoch.\n"
     ]
    },
    {
     "name": "stdout",
     "output_type": "stream",
     "text": [
      "17.485029940119762\n",
      "17.485029940119762\n",
      "17.485029940119762\n",
      "17.485029940119762\n",
      "17.485029940119762\n",
      "17.485029940119762\n",
      "17.485029940119762\n",
      "17.485029940119762\n",
      "17.485029940119762\n",
      "17.485029940119762\n",
      "17.485029940119762\n",
      "17.485029940119762\n",
      "17.485029940119762\n",
      "17.485029940119762\n"
     ]
    },
    {
     "name": "stderr",
     "output_type": "stream",
     "text": [
      "Iter 1255 | Time 59.7281(60.7256) | Bit/dim 4.0104(3.9949) | Xent 1.3066(1.2935) | Loss 13.5547(11.0586) | Error 0.4657(0.4663) Steps 562(571.38) | Grad Norm 32.8040(14.8293) | Total Time 0.00(0.00)\n",
      "Iter 1256 | Time 60.6016(60.7219) | Bit/dim 3.9708(3.9941) | Xent 1.2359(1.2918) | Loss 10.2955(11.0357) | Error 0.4540(0.4659) Steps 550(570.74) | Grad Norm 8.0700(14.6265) | Total Time 0.00(0.00)\n",
      "Iter 1257 | Time 63.1075(60.7934) | Bit/dim 4.0221(3.9950) | Xent 1.2809(1.2915) | Loss 10.7342(11.0266) | Error 0.4587(0.4657) Steps 574(570.84) | Grad Norm 34.1496(15.2122) | Total Time 0.00(0.00)\n",
      "Iter 1258 | Time 59.7663(60.7626) | Bit/dim 3.9887(3.9948) | Xent 1.2306(1.2897) | Loss 10.4656(11.0098) | Error 0.4391(0.4649) Steps 568(570.75) | Grad Norm 10.7090(15.0771) | Total Time 0.00(0.00)\n",
      "Iter 1259 | Time 64.0213(60.8604) | Bit/dim 4.0117(3.9953) | Xent 1.3112(1.2903) | Loss 10.7090(11.0008) | Error 0.4710(0.4651) Steps 580(571.03) | Grad Norm 33.9624(15.6436) | Total Time 0.00(0.00)\n",
      "Iter 1260 | Time 57.4583(60.7583) | Bit/dim 3.9649(3.9944) | Xent 1.2759(1.2899) | Loss 10.5365(10.9869) | Error 0.4603(0.4650) Steps 592(571.66) | Grad Norm 16.4066(15.6665) | Total Time 0.00(0.00)\n",
      "validating...\n",
      "Epoch 0210 | Time 22.9210, Epoch Time 405.8214(406.0941), Bit/dim 4.0437(best: 3.9788), Xent 1.2515, Loss 4.6695, Error 0.4461(best: 0.4279)\n",
      "===> Using batch size 8000. Total 6 iterations/epoch.\n"
     ]
    },
    {
     "name": "stdout",
     "output_type": "stream",
     "text": [
      "17.4251497005988\n",
      "17.4251497005988\n",
      "17.4251497005988\n",
      "17.4251497005988\n",
      "17.4251497005988\n",
      "17.4251497005988\n",
      "17.4251497005988\n",
      "17.4251497005988\n",
      "17.4251497005988\n",
      "17.4251497005988\n",
      "17.4251497005988\n",
      "17.4251497005988\n",
      "17.4251497005988\n",
      "17.4251497005988\n"
     ]
    },
    {
     "name": "stderr",
     "output_type": "stream",
     "text": [
      "Iter 1261 | Time 59.6260(60.7243) | Bit/dim 4.0390(3.9957) | Xent 1.2962(1.2901) | Loss 13.2210(11.0539) | Error 0.4684(0.4651) Steps 556(571.19) | Grad Norm 30.2013(16.1026) | Total Time 0.00(0.00)\n",
      "Iter 1262 | Time 64.2105(60.8289) | Bit/dim 4.0448(3.9972) | Xent 1.2704(1.2895) | Loss 10.8773(11.0486) | Error 0.4616(0.4650) Steps 586(571.63) | Grad Norm 21.5575(16.2662) | Total Time 0.00(0.00)\n",
      "Iter 1263 | Time 60.7973(60.8280) | Bit/dim 4.0023(3.9974) | Xent 1.2765(1.2891) | Loss 10.5440(11.0335) | Error 0.4646(0.4650) Steps 550(570.98) | Grad Norm 20.6008(16.3963) | Total Time 0.00(0.00)\n",
      "Iter 1264 | Time 61.1848(60.8387) | Bit/dim 3.9856(3.9970) | Xent 1.3231(1.2901) | Loss 10.5920(11.0202) | Error 0.4748(0.4652) Steps 580(571.25) | Grad Norm 17.7118(16.4357) | Total Time 0.00(0.00)\n",
      "Iter 1265 | Time 57.4833(60.7380) | Bit/dim 3.9870(3.9967) | Xent 1.3232(1.2911) | Loss 10.6538(11.0092) | Error 0.4756(0.4656) Steps 568(571.16) | Grad Norm 12.5455(16.3190) | Total Time 0.00(0.00)\n",
      "Iter 1266 | Time 60.3968(60.7278) | Bit/dim 4.0163(3.9973) | Xent 1.2752(1.2906) | Loss 10.5766(10.9962) | Error 0.4616(0.4654) Steps 562(570.88) | Grad Norm 20.5493(16.4459) | Total Time 0.00(0.00)\n",
      "validating...\n",
      "Epoch 0211 | Time 22.5012, Epoch Time 403.5236(406.0170), Bit/dim 3.9917(best: 3.9788), Xent 1.2217, Loss 4.6025, Error 0.4393(best: 0.4279)\n",
      "===> Using batch size 8000. Total 6 iterations/epoch.\n"
     ]
    },
    {
     "name": "stdout",
     "output_type": "stream",
     "text": [
      "17.365269461077844\n",
      "17.365269461077844\n",
      "17.365269461077844\n",
      "17.365269461077844\n",
      "17.365269461077844\n",
      "17.365269461077844\n",
      "17.365269461077844\n",
      "17.365269461077844\n",
      "17.365269461077844\n",
      "17.365269461077844\n",
      "17.365269461077844\n",
      "17.365269461077844\n",
      "17.365269461077844\n",
      "17.365269461077844\n"
     ]
    },
    {
     "name": "stderr",
     "output_type": "stream",
     "text": [
      "Iter 1267 | Time 58.4993(60.6609) | Bit/dim 3.9879(3.9970) | Xent 1.2642(1.2898) | Loss 13.5218(11.0720) | Error 0.4560(0.4652) Steps 568(570.80) | Grad Norm 8.4853(16.2071) | Total Time 0.00(0.00)\n",
      "Iter 1268 | Time 64.7261(60.7829) | Bit/dim 3.9749(3.9963) | Xent 1.2526(1.2887) | Loss 10.0584(11.0416) | Error 0.4531(0.4648) Steps 586(571.25) | Grad Norm 11.5192(16.0665) | Total Time 0.00(0.00)\n",
      "Iter 1269 | Time 62.4104(60.8317) | Bit/dim 3.9878(3.9961) | Xent 1.2562(1.2877) | Loss 10.2534(11.0179) | Error 0.4564(0.4645) Steps 580(571.51) | Grad Norm 12.7157(15.9659) | Total Time 0.00(0.00)\n",
      "Iter 1270 | Time 62.8687(60.8928) | Bit/dim 3.9691(3.9953) | Xent 1.2451(1.2865) | Loss 10.3742(10.9986) | Error 0.4500(0.4641) Steps 586(571.95) | Grad Norm 7.8839(15.7235) | Total Time 0.00(0.00)\n",
      "Iter 1271 | Time 63.1698(60.9611) | Bit/dim 3.9907(3.9951) | Xent 1.2273(1.2847) | Loss 10.5111(10.9840) | Error 0.4447(0.4635) Steps 604(572.91) | Grad Norm 6.2186(15.4383) | Total Time 0.00(0.00)\n",
      "Iter 1272 | Time 56.8007(60.8363) | Bit/dim 3.9861(3.9949) | Xent 1.2479(1.2836) | Loss 10.4977(10.9694) | Error 0.4505(0.4631) Steps 568(572.76) | Grad Norm 7.8585(15.2109) | Total Time 0.00(0.00)\n",
      "validating...\n",
      "Epoch 0212 | Time 23.5983, Epoch Time 409.2080(406.1127), Bit/dim 3.9661(best: 3.9788), Xent 1.2210, Loss 4.5766, Error 0.4417(best: 0.4279)\n",
      "===> Using batch size 8000. Total 6 iterations/epoch.\n"
     ]
    },
    {
     "name": "stdout",
     "output_type": "stream",
     "text": [
      "17.305389221556883\n",
      "17.305389221556883\n",
      "17.305389221556883\n",
      "17.305389221556883\n",
      "17.305389221556883\n",
      "17.305389221556883\n",
      "17.305389221556883\n",
      "17.305389221556883\n",
      "17.305389221556883\n",
      "17.305389221556883\n",
      "17.305389221556883\n",
      "17.305389221556883\n",
      "17.305389221556883\n",
      "17.305389221556883\n"
     ]
    },
    {
     "name": "stderr",
     "output_type": "stream",
     "text": [
      "Iter 1273 | Time 64.8686(60.9573) | Bit/dim 3.9602(3.9938) | Xent 1.2721(1.2832) | Loss 13.8685(11.0564) | Error 0.4635(0.4631) Steps 604(573.70) | Grad Norm 10.6756(15.0749) | Total Time 0.00(0.00)\n",
      "Iter 1274 | Time 58.8922(60.8953) | Bit/dim 3.9750(3.9933) | Xent 1.2325(1.2817) | Loss 10.5945(11.0425) | Error 0.4405(0.4625) Steps 556(573.17) | Grad Norm 13.5858(15.0302) | Total Time 0.00(0.00)\n",
      "Iter 1275 | Time 56.5012(60.7635) | Bit/dim 3.9645(3.9924) | Xent 1.2564(1.2810) | Loss 10.1711(11.0164) | Error 0.4475(0.4620) Steps 550(572.47) | Grad Norm 14.9994(15.0293) | Total Time 0.00(0.00)\n",
      "Iter 1276 | Time 59.6370(60.7297) | Bit/dim 3.9799(3.9920) | Xent 1.2544(1.2802) | Loss 10.4952(11.0008) | Error 0.4529(0.4617) Steps 586(572.88) | Grad Norm 18.0224(15.1191) | Total Time 0.00(0.00)\n",
      "Iter 1277 | Time 60.4624(60.7217) | Bit/dim 3.9875(3.9919) | Xent 1.2466(1.2791) | Loss 10.3043(10.9799) | Error 0.4473(0.4613) Steps 568(572.73) | Grad Norm 15.7919(15.1393) | Total Time 0.00(0.00)\n",
      "Iter 1278 | Time 63.5153(60.8055) | Bit/dim 3.9779(3.9915) | Xent 1.2132(1.2772) | Loss 10.4260(10.9632) | Error 0.4364(0.4606) Steps 592(573.31) | Grad Norm 8.4707(14.9392) | Total Time 0.00(0.00)\n",
      "validating...\n",
      "Epoch 0213 | Time 23.8770, Epoch Time 405.0505(406.0809), Bit/dim 3.9637(best: 3.9661), Xent 1.1857, Loss 4.5565, Error 0.4278(best: 0.4279)\n",
      "===> Using batch size 8000. Total 6 iterations/epoch.\n"
     ]
    },
    {
     "name": "stdout",
     "output_type": "stream",
     "text": [
      "17.24550898203593\n",
      "17.24550898203593\n",
      "17.24550898203593\n",
      "17.24550898203593\n",
      "17.24550898203593\n",
      "17.24550898203593\n",
      "17.24550898203593\n",
      "17.24550898203593\n",
      "17.24550898203593\n",
      "17.24550898203593\n",
      "17.24550898203593\n",
      "17.24550898203593\n",
      "17.24550898203593\n",
      "17.24550898203593\n"
     ]
    },
    {
     "name": "stderr",
     "output_type": "stream",
     "text": [
      "Iter 1279 | Time 61.4588(60.8251) | Bit/dim 3.9601(3.9905) | Xent 1.2238(1.2756) | Loss 13.6778(11.0447) | Error 0.4445(0.4601) Steps 550(572.61) | Grad Norm 8.7220(14.7527) | Total Time 0.00(0.00)\n",
      "Iter 1280 | Time 59.0387(60.7715) | Bit/dim 3.9639(3.9897) | Xent 1.2334(1.2743) | Loss 10.5705(11.0305) | Error 0.4417(0.4595) Steps 586(573.01) | Grad Norm 12.7305(14.6920) | Total Time 0.00(0.00)\n",
      "Iter 1281 | Time 55.6309(60.6173) | Bit/dim 3.9837(3.9895) | Xent 1.2419(1.2733) | Loss 10.2041(11.0057) | Error 0.4555(0.4594) Steps 550(572.32) | Grad Norm 14.5448(14.6876) | Total Time 0.00(0.00)\n",
      "Iter 1282 | Time 59.1234(60.5725) | Bit/dim 3.9823(3.9893) | Xent 1.2318(1.2721) | Loss 10.4020(10.9876) | Error 0.4469(0.4590) Steps 574(572.37) | Grad Norm 18.0359(14.7881) | Total Time 0.00(0.00)\n",
      "Iter 1283 | Time 57.1338(60.4693) | Bit/dim 3.9681(3.9887) | Xent 1.3139(1.2733) | Loss 10.3974(10.9699) | Error 0.4635(0.4592) Steps 556(571.88) | Grad Norm 24.9840(15.0939) | Total Time 0.00(0.00)\n",
      "Iter 1284 | Time 63.3285(60.5551) | Bit/dim 3.9771(3.9883) | Xent 1.2438(1.2725) | Loss 10.3115(10.9501) | Error 0.4474(0.4588) Steps 586(572.31) | Grad Norm 17.6813(15.1716) | Total Time 0.00(0.00)\n",
      "validating...\n",
      "Epoch 0214 | Time 23.4374, Epoch Time 396.3600(405.7892), Bit/dim 3.9870(best: 3.9637), Xent 1.2244, Loss 4.5992, Error 0.4358(best: 0.4278)\n",
      "===> Using batch size 8000. Total 6 iterations/epoch.\n"
     ]
    },
    {
     "name": "stdout",
     "output_type": "stream",
     "text": [
      "17.18562874251497\n",
      "17.18562874251497\n",
      "17.18562874251497\n",
      "17.18562874251497\n",
      "17.18562874251497\n",
      "17.18562874251497\n",
      "17.18562874251497\n",
      "17.18562874251497\n",
      "17.18562874251497\n",
      "17.18562874251497\n",
      "17.18562874251497\n",
      "17.18562874251497\n",
      "17.18562874251497\n",
      "17.18562874251497\n"
     ]
    },
    {
     "name": "stderr",
     "output_type": "stream",
     "text": [
      "Iter 1285 | Time 61.5920(60.5862) | Bit/dim 3.9875(3.9883) | Xent 1.2750(1.2725) | Loss 13.8983(11.0385) | Error 0.4571(0.4588) Steps 598(573.08) | Grad Norm 24.1020(15.4395) | Total Time 0.00(0.00)\n",
      "Iter 1286 | Time 59.6263(60.5574) | Bit/dim 3.9708(3.9878) | Xent 1.2571(1.2721) | Loss 10.4290(11.0203) | Error 0.4495(0.4585) Steps 550(572.38) | Grad Norm 20.9522(15.6048) | Total Time 0.00(0.00)\n",
      "Iter 1287 | Time 59.9339(60.5387) | Bit/dim 3.9795(3.9875) | Xent 1.2280(1.2707) | Loss 10.3686(11.0007) | Error 0.4434(0.4580) Steps 544(571.53) | Grad Norm 14.8526(15.5823) | Total Time 0.00(0.00)\n",
      "Iter 1288 | Time 62.4341(60.5956) | Bit/dim 3.9900(3.9876) | Xent 1.2514(1.2702) | Loss 10.3350(10.9807) | Error 0.4470(0.4577) Steps 586(571.97) | Grad Norm 17.4591(15.6386) | Total Time 0.00(0.00)\n",
      "Iter 1289 | Time 63.7314(60.6896) | Bit/dim 3.9549(3.9866) | Xent 1.2240(1.2688) | Loss 10.6116(10.9697) | Error 0.4385(0.4571) Steps 568(571.85) | Grad Norm 8.7393(15.4316) | Total Time 0.00(0.00)\n",
      "Iter 1290 | Time 60.7909(60.6927) | Bit/dim 3.9576(3.9858) | Xent 1.2567(1.2684) | Loss 10.2646(10.9485) | Error 0.4546(0.4571) Steps 556(571.37) | Grad Norm 10.6146(15.2871) | Total Time 0.00(0.00)\n",
      "validating...\n",
      "Epoch 0215 | Time 23.2224, Epoch Time 409.1455(405.8899), Bit/dim 3.9708(best: 3.9637), Xent 1.1908, Loss 4.5661, Error 0.4247(best: 0.4278)\n",
      "===> Using batch size 8000. Total 6 iterations/epoch.\n"
     ]
    },
    {
     "name": "stdout",
     "output_type": "stream",
     "text": [
      "17.12574850299401\n",
      "17.12574850299401\n",
      "17.12574850299401\n",
      "17.12574850299401\n",
      "17.12574850299401\n",
      "17.12574850299401\n",
      "17.12574850299401\n",
      "17.12574850299401\n",
      "17.12574850299401\n",
      "17.12574850299401\n",
      "17.12574850299401\n",
      "17.12574850299401\n",
      "17.12574850299401\n",
      "17.12574850299401\n"
     ]
    },
    {
     "name": "stderr",
     "output_type": "stream",
     "text": [
      "Iter 1291 | Time 61.4211(60.7145) | Bit/dim 3.9678(3.9852) | Xent 1.2460(1.2677) | Loss 13.4607(11.0239) | Error 0.4547(0.4570) Steps 568(571.27) | Grad Norm 15.1420(15.2827) | Total Time 0.00(0.00)\n",
      "Iter 1292 | Time 59.1711(60.6682) | Bit/dim 3.9635(3.9846) | Xent 1.2158(1.2662) | Loss 10.5671(11.0102) | Error 0.4306(0.4562) Steps 562(570.99) | Grad Norm 6.5275(15.0201) | Total Time 0.00(0.00)\n",
      "Iter 1293 | Time 62.1389(60.7123) | Bit/dim 3.9447(3.9834) | Xent 1.2189(1.2648) | Loss 10.4361(10.9930) | Error 0.4397(0.4557) Steps 562(570.72) | Grad Norm 9.8763(14.8658) | Total Time 0.00(0.00)\n",
      "Iter 1294 | Time 58.4430(60.6443) | Bit/dim 3.9675(3.9829) | Xent 1.2457(1.2642) | Loss 10.3751(10.9744) | Error 0.4415(0.4553) Steps 538(569.74) | Grad Norm 12.7337(14.8018) | Total Time 0.00(0.00)\n",
      "Iter 1295 | Time 61.6182(60.6735) | Bit/dim 3.9463(3.9818) | Xent 1.1954(1.2621) | Loss 10.3097(10.9545) | Error 0.4345(0.4546) Steps 568(569.69) | Grad Norm 3.8446(14.4731) | Total Time 0.00(0.00)\n",
      "Iter 1296 | Time 61.3507(60.6938) | Bit/dim 3.9489(3.9808) | Xent 1.2126(1.2606) | Loss 10.4999(10.9408) | Error 0.4315(0.4540) Steps 574(569.82) | Grad Norm 10.2848(14.3474) | Total Time 0.00(0.00)\n",
      "validating...\n",
      "Epoch 0216 | Time 23.0571, Epoch Time 405.6560(405.8829), Bit/dim 3.9504(best: 3.9637), Xent 1.1643, Loss 4.5325, Error 0.4179(best: 0.4247)\n",
      "===> Using batch size 8000. Total 6 iterations/epoch.\n"
     ]
    },
    {
     "name": "stdout",
     "output_type": "stream",
     "text": [
      "17.065868263473053\n",
      "17.065868263473053\n",
      "17.065868263473053\n",
      "17.065868263473053\n",
      "17.065868263473053\n",
      "17.065868263473053\n",
      "17.065868263473053\n",
      "17.065868263473053\n",
      "17.065868263473053\n",
      "17.065868263473053\n",
      "17.065868263473053\n",
      "17.065868263473053\n",
      "17.065868263473053\n",
      "17.065868263473053\n"
     ]
    },
    {
     "name": "stderr",
     "output_type": "stream",
     "text": [
      "Iter 1297 | Time 56.2972(60.5619) | Bit/dim 3.9583(3.9801) | Xent 1.2041(1.2589) | Loss 13.3689(11.0137) | Error 0.4385(0.4535) Steps 574(569.94) | Grad Norm 7.8172(14.1515) | Total Time 0.00(0.00)\n",
      "Iter 1298 | Time 59.9866(60.5446) | Bit/dim 3.9516(3.9793) | Xent 1.1860(1.2568) | Loss 10.4209(10.9959) | Error 0.4309(0.4528) Steps 556(569.53) | Grad Norm 7.3275(13.9468) | Total Time 0.00(0.00)\n",
      "Iter 1299 | Time 59.1371(60.5024) | Bit/dim 3.9594(3.9787) | Xent 1.2530(1.2566) | Loss 10.5123(10.9814) | Error 0.4444(0.4526) Steps 574(569.66) | Grad Norm 12.7153(13.9099) | Total Time 0.00(0.00)\n",
      "Iter 1300 | Time 59.7476(60.4798) | Bit/dim 3.9483(3.9778) | Xent 1.2105(1.2553) | Loss 10.2155(10.9584) | Error 0.4389(0.4521) Steps 562(569.43) | Grad Norm 6.1307(13.6765) | Total Time 0.00(0.00)\n",
      "Iter 1301 | Time 60.7325(60.4874) | Bit/dim 3.9476(3.9769) | Xent 1.2067(1.2538) | Loss 10.3105(10.9390) | Error 0.4317(0.4515) Steps 568(569.39) | Grad Norm 8.8543(13.5318) | Total Time 0.00(0.00)\n",
      "Iter 1302 | Time 59.3096(60.4520) | Bit/dim 3.9363(3.9757) | Xent 1.2331(1.2532) | Loss 10.3140(10.9202) | Error 0.4446(0.4513) Steps 574(569.53) | Grad Norm 11.7282(13.4777) | Total Time 0.00(0.00)\n",
      "validating...\n",
      "Epoch 0217 | Time 22.9448, Epoch Time 395.9685(405.5855), Bit/dim 3.9419(best: 3.9504), Xent 1.1694, Loss 4.5267, Error 0.4227(best: 0.4179)\n",
      "===> Using batch size 8000. Total 6 iterations/epoch.\n"
     ]
    },
    {
     "name": "stdout",
     "output_type": "stream",
     "text": [
      "17.005988023952096\n",
      "17.005988023952096\n",
      "17.005988023952096\n",
      "17.005988023952096\n",
      "17.005988023952096\n",
      "17.005988023952096\n",
      "17.005988023952096\n",
      "17.005988023952096\n",
      "17.005988023952096\n",
      "17.005988023952096\n",
      "17.005988023952096\n",
      "17.005988023952096\n",
      "17.005988023952096\n",
      "17.005988023952096\n"
     ]
    },
    {
     "name": "stderr",
     "output_type": "stream",
     "text": [
      "Iter 1303 | Time 60.0545(60.4401) | Bit/dim 3.9490(3.9749) | Xent 1.2021(1.2517) | Loss 13.6142(11.0010) | Error 0.4396(0.4510) Steps 562(569.30) | Grad Norm 6.9193(13.2810) | Total Time 0.00(0.00)\n",
      "Iter 1304 | Time 60.2321(60.4339) | Bit/dim 3.9535(3.9742) | Xent 1.2175(1.2506) | Loss 10.2087(10.9773) | Error 0.4393(0.4506) Steps 550(568.72) | Grad Norm 13.8432(13.2978) | Total Time 0.00(0.00)\n",
      "Iter 1305 | Time 63.4538(60.5245) | Bit/dim 3.9491(3.9735) | Xent 1.2301(1.2500) | Loss 10.4382(10.9611) | Error 0.4464(0.4505) Steps 568(568.70) | Grad Norm 18.5633(13.4558) | Total Time 0.00(0.00)\n",
      "Iter 1306 | Time 60.5711(60.5259) | Bit/dim 3.9543(3.9729) | Xent 1.2773(1.2508) | Loss 10.4990(10.9472) | Error 0.4465(0.4504) Steps 556(568.32) | Grad Norm 27.2399(13.8693) | Total Time 0.00(0.00)\n",
      "Iter 1307 | Time 61.1915(60.5458) | Bit/dim 3.9420(3.9720) | Xent 1.2101(1.2496) | Loss 10.4079(10.9311) | Error 0.4333(0.4499) Steps 556(567.95) | Grad Norm 7.4275(13.6761) | Total Time 0.00(0.00)\n",
      "Iter 1308 | Time 60.9844(60.5590) | Bit/dim 3.9454(3.9712) | Xent 1.2349(1.2492) | Loss 10.4040(10.9153) | Error 0.4395(0.4496) Steps 580(568.31) | Grad Norm 14.1967(13.6917) | Total Time 0.00(0.00)\n",
      "validating...\n",
      "Epoch 0218 | Time 22.2895, Epoch Time 407.0179(405.6284), Bit/dim 3.9510(best: 3.9419), Xent 1.1889, Loss 4.5455, Error 0.4186(best: 0.4179)\n",
      "===> Using batch size 8000. Total 6 iterations/epoch.\n"
     ]
    },
    {
     "name": "stdout",
     "output_type": "stream",
     "text": [
      "16.94610778443114\n",
      "16.94610778443114\n",
      "16.94610778443114\n",
      "16.94610778443114\n",
      "16.94610778443114\n",
      "16.94610778443114\n",
      "16.94610778443114\n",
      "16.94610778443114\n",
      "16.94610778443114\n",
      "16.94610778443114\n",
      "16.94610778443114\n",
      "16.94610778443114\n",
      "16.94610778443114\n",
      "16.94610778443114\n"
     ]
    },
    {
     "name": "stderr",
     "output_type": "stream",
     "text": [
      "Iter 1309 | Time 60.2735(60.5504) | Bit/dim 3.9369(3.9701) | Xent 1.2406(1.2489) | Loss 13.6606(10.9976) | Error 0.4494(0.4495) Steps 586(568.84) | Grad Norm 17.9971(13.8208) | Total Time 0.00(0.00)\n",
      "Iter 1310 | Time 63.8332(60.6489) | Bit/dim 3.9594(3.9698) | Xent 1.2977(1.2504) | Loss 10.6159(10.9862) | Error 0.4660(0.4500) Steps 580(569.18) | Grad Norm 18.5404(13.9624) | Total Time 0.00(0.00)\n",
      "Iter 1311 | Time 58.4503(60.5829) | Bit/dim 3.9504(3.9692) | Xent 1.2314(1.2498) | Loss 10.2928(10.9654) | Error 0.4416(0.4498) Steps 568(569.14) | Grad Norm 16.2686(14.0316) | Total Time 0.00(0.00)\n",
      "Iter 1312 | Time 59.5089(60.5507) | Bit/dim 3.9414(3.9684) | Xent 1.2165(1.2488) | Loss 10.4153(10.9489) | Error 0.4421(0.4496) Steps 580(569.47) | Grad Norm 9.7884(13.9043) | Total Time 0.00(0.00)\n",
      "Iter 1313 | Time 62.3005(60.6032) | Bit/dim 3.9377(3.9675) | Xent 1.1983(1.2473) | Loss 10.2672(10.9284) | Error 0.4275(0.4489) Steps 556(569.06) | Grad Norm 7.0069(13.6974) | Total Time 0.00(0.00)\n",
      "Iter 1314 | Time 64.0461(60.7065) | Bit/dim 3.9366(3.9666) | Xent 1.2088(1.2461) | Loss 10.5535(10.9172) | Error 0.4430(0.4487) Steps 562(568.85) | Grad Norm 8.4272(13.5393) | Total Time 0.00(0.00)\n",
      "validating...\n",
      "Epoch 0219 | Time 22.4544, Epoch Time 408.9063(405.7268), Bit/dim 3.9427(best: 3.9419), Xent 1.1849, Loss 4.5352, Error 0.4264(best: 0.4179)\n",
      "===> Using batch size 8000. Total 6 iterations/epoch.\n"
     ]
    },
    {
     "name": "stdout",
     "output_type": "stream",
     "text": [
      "16.88622754491018\n",
      "16.88622754491018\n",
      "16.88622754491018\n",
      "16.88622754491018\n",
      "16.88622754491018\n",
      "16.88622754491018\n",
      "16.88622754491018\n",
      "16.88622754491018\n",
      "16.88622754491018\n",
      "16.88622754491018\n",
      "16.88622754491018\n",
      "16.88622754491018\n",
      "16.88622754491018\n",
      "16.88622754491018\n"
     ]
    },
    {
     "name": "stderr",
     "output_type": "stream",
     "text": [
      "Iter 1315 | Time 58.6394(60.6445) | Bit/dim 3.9434(3.9659) | Xent 1.2166(1.2453) | Loss 13.5213(10.9953) | Error 0.4354(0.4483) Steps 562(568.64) | Grad Norm 17.1308(13.6470) | Total Time 0.00(0.00)\n",
      "Iter 1316 | Time 59.7488(60.6176) | Bit/dim 3.9397(3.9651) | Xent 1.1871(1.2435) | Loss 10.2524(10.9730) | Error 0.4295(0.4478) Steps 550(568.09) | Grad Norm 15.9786(13.7170) | Total Time 0.00(0.00)\n",
      "Iter 1317 | Time 58.5445(60.5554) | Bit/dim 3.9442(3.9644) | Xent 1.1921(1.2420) | Loss 10.2379(10.9509) | Error 0.4327(0.4473) Steps 538(567.18) | Grad Norm 7.5120(13.5308) | Total Time 0.00(0.00)\n",
      "Iter 1318 | Time 64.7131(60.6802) | Bit/dim 3.9410(3.9637) | Xent 1.2236(1.2414) | Loss 10.4462(10.9358) | Error 0.4426(0.4472) Steps 556(566.85) | Grad Norm 8.5622(13.3818) | Total Time 0.00(0.00)\n",
      "Iter 1319 | Time 62.5047(60.7349) | Bit/dim 3.9348(3.9629) | Xent 1.2137(1.2406) | Loss 10.2709(10.9159) | Error 0.4333(0.4467) Steps 580(567.24) | Grad Norm 12.1679(13.3454) | Total Time 0.00(0.00)\n",
      "Iter 1320 | Time 56.6817(60.6133) | Bit/dim 3.9412(3.9622) | Xent 1.2040(1.2395) | Loss 10.0466(10.8898) | Error 0.4331(0.4463) Steps 556(566.90) | Grad Norm 8.8648(13.2109) | Total Time 0.00(0.00)\n",
      "validating...\n",
      "Epoch 0220 | Time 23.2344, Epoch Time 401.7054(405.6061), Bit/dim 3.9367(best: 3.9419), Xent 1.1535, Loss 4.5135, Error 0.4160(best: 0.4179)\n",
      "===> Using batch size 8000. Total 6 iterations/epoch.\n"
     ]
    },
    {
     "name": "stdout",
     "output_type": "stream",
     "text": [
      "16.82634730538922\n",
      "16.82634730538922\n",
      "16.82634730538922\n",
      "16.82634730538922\n",
      "16.82634730538922\n",
      "16.82634730538922\n",
      "16.82634730538922\n",
      "16.82634730538922\n",
      "16.82634730538922\n",
      "16.82634730538922\n",
      "16.82634730538922\n",
      "16.82634730538922\n",
      "16.82634730538922\n",
      "16.82634730538922\n"
     ]
    },
    {
     "name": "stderr",
     "output_type": "stream",
     "text": [
      "Iter 1321 | Time 60.0993(60.5979) | Bit/dim 3.9400(3.9616) | Xent 1.2009(1.2383) | Loss 13.4218(10.9657) | Error 0.4333(0.4459) Steps 568(566.94) | Grad Norm 5.1123(12.9680) | Total Time 0.00(0.00)\n",
      "Iter 1322 | Time 63.7908(60.6937) | Bit/dim 3.9382(3.9609) | Xent 1.1900(1.2369) | Loss 10.5202(10.9524) | Error 0.4281(0.4454) Steps 592(567.69) | Grad Norm 8.1829(12.8244) | Total Time 0.00(0.00)\n",
      "Iter 1323 | Time 60.6829(60.6933) | Bit/dim 3.9369(3.9601) | Xent 1.2057(1.2359) | Loss 10.4473(10.9372) | Error 0.4345(0.4451) Steps 550(567.16) | Grad Norm 14.6024(12.8778) | Total Time 0.00(0.00)\n",
      "Iter 1324 | Time 56.3358(60.5626) | Bit/dim 3.9547(3.9600) | Xent 1.2011(1.2349) | Loss 10.2351(10.9162) | Error 0.4325(0.4447) Steps 556(566.82) | Grad Norm 16.0278(12.9723) | Total Time 0.00(0.00)\n",
      "Iter 1325 | Time 65.0335(60.6967) | Bit/dim 3.9334(3.9592) | Xent 1.2192(1.2344) | Loss 10.0409(10.8899) | Error 0.4426(0.4446) Steps 598(567.76) | Grad Norm 13.3717(12.9843) | Total Time 0.00(0.00)\n",
      "Iter 1326 | Time 58.9721(60.6450) | Bit/dim 3.9407(3.9586) | Xent 1.1858(1.2330) | Loss 10.1190(10.8668) | Error 0.4280(0.4441) Steps 592(568.49) | Grad Norm 11.7730(12.9479) | Total Time 0.00(0.00)\n",
      "validating...\n",
      "Epoch 0221 | Time 23.8291, Epoch Time 406.3080(405.6272), Bit/dim 3.9392(best: 3.9367), Xent 1.1406, Loss 4.5095, Error 0.4076(best: 0.4160)\n",
      "===> Using batch size 8000. Total 6 iterations/epoch.\n"
     ]
    },
    {
     "name": "stdout",
     "output_type": "stream",
     "text": [
      "16.766467065868262\n",
      "16.766467065868262\n",
      "16.766467065868262\n",
      "16.766467065868262\n",
      "16.766467065868262\n",
      "16.766467065868262\n",
      "16.766467065868262\n",
      "16.766467065868262\n",
      "16.766467065868262\n",
      "16.766467065868262\n",
      "16.766467065868262\n",
      "16.766467065868262\n",
      "16.766467065868262\n",
      "16.766467065868262\n"
     ]
    },
    {
     "name": "stderr",
     "output_type": "stream",
     "text": [
      "Iter 1327 | Time 62.8639(60.7116) | Bit/dim 3.9374(3.9580) | Xent 1.1664(1.2310) | Loss 13.2424(10.9380) | Error 0.4180(0.4434) Steps 592(569.19) | Grad Norm 9.3909(12.8412) | Total Time 0.00(0.00)\n",
      "Iter 1328 | Time 58.3167(60.6397) | Bit/dim 3.9317(3.9572) | Xent 1.2238(1.2308) | Loss 10.2618(10.9178) | Error 0.4404(0.4433) Steps 568(569.16) | Grad Norm 14.1552(12.8806) | Total Time 0.00(0.00)\n",
      "Iter 1329 | Time 56.2404(60.5077) | Bit/dim 3.9305(3.9564) | Xent 1.2054(1.2300) | Loss 10.3738(10.9014) | Error 0.4391(0.4431) Steps 562(568.94) | Grad Norm 10.9562(12.8229) | Total Time 0.00(0.00)\n",
      "Iter 1330 | Time 59.6145(60.4809) | Bit/dim 3.9378(3.9558) | Xent 1.1844(1.2286) | Loss 10.4847(10.8889) | Error 0.4317(0.4428) Steps 550(568.37) | Grad Norm 7.5259(12.6640) | Total Time 0.00(0.00)\n",
      "Iter 1331 | Time 60.3029(60.4756) | Bit/dim 3.9303(3.9551) | Xent 1.1950(1.2276) | Loss 10.0819(10.8647) | Error 0.4330(0.4425) Steps 580(568.72) | Grad Norm 12.4235(12.6568) | Total Time 0.00(0.00)\n",
      "Iter 1332 | Time 61.3392(60.5015) | Bit/dim 3.9327(3.9544) | Xent 1.2098(1.2271) | Loss 10.4090(10.8510) | Error 0.4313(0.4422) Steps 580(569.06) | Grad Norm 14.8811(12.7235) | Total Time 0.00(0.00)\n",
      "validating...\n",
      "Epoch 0222 | Time 23.4682, Epoch Time 399.1781(405.4337), Bit/dim 3.9330(best: 3.9367), Xent 1.1592, Loss 4.5127, Error 0.4167(best: 0.4076)\n",
      "===> Using batch size 8000. Total 6 iterations/epoch.\n"
     ]
    },
    {
     "name": "stdout",
     "output_type": "stream",
     "text": [
      "16.70658682634731\n",
      "16.70658682634731\n",
      "16.70658682634731\n",
      "16.70658682634731\n",
      "16.70658682634731\n",
      "16.70658682634731\n",
      "16.70658682634731\n",
      "16.70658682634731\n",
      "16.70658682634731\n",
      "16.70658682634731\n",
      "16.70658682634731\n",
      "16.70658682634731\n",
      "16.70658682634731\n",
      "16.70658682634731\n"
     ]
    },
    {
     "name": "stderr",
     "output_type": "stream",
     "text": [
      "Iter 1333 | Time 61.1173(60.5200) | Bit/dim 3.9238(3.9535) | Xent 1.1856(1.2258) | Loss 13.7744(10.9387) | Error 0.4265(0.4417) Steps 580(569.39) | Grad Norm 14.1412(12.7660) | Total Time 0.00(0.00)\n",
      "Iter 1334 | Time 61.5457(60.5508) | Bit/dim 3.9279(3.9527) | Xent 1.2075(1.2253) | Loss 10.4614(10.9244) | Error 0.4375(0.4416) Steps 592(570.07) | Grad Norm 13.3862(12.7846) | Total Time 0.00(0.00)\n",
      "Iter 1335 | Time 60.3385(60.5444) | Bit/dim 3.9486(3.9526) | Xent 1.2362(1.2256) | Loss 10.4463(10.9101) | Error 0.4401(0.4415) Steps 574(570.18) | Grad Norm 20.2435(13.0084) | Total Time 0.00(0.00)\n",
      "Iter 1336 | Time 61.2862(60.5666) | Bit/dim 3.9383(3.9522) | Xent 1.2915(1.2276) | Loss 10.5803(10.9002) | Error 0.4560(0.4420) Steps 580(570.48) | Grad Norm 25.3659(13.3791) | Total Time 0.00(0.00)\n",
      "Iter 1337 | Time 62.7263(60.6314) | Bit/dim 3.9535(3.9522) | Xent 1.1965(1.2267) | Loss 10.4848(10.8877) | Error 0.4331(0.4417) Steps 580(570.77) | Grad Norm 15.9385(13.4559) | Total Time 0.00(0.00)\n",
      "Iter 1338 | Time 65.6509(60.7820) | Bit/dim 3.9457(3.9520) | Xent 1.3322(1.2298) | Loss 10.2969(10.8700) | Error 0.4679(0.4425) Steps 586(571.22) | Grad Norm 34.5820(14.0897) | Total Time 0.00(0.00)\n",
      "validating...\n",
      "Epoch 0223 | Time 22.8858, Epoch Time 412.9369(405.6588), Bit/dim 3.9395(best: 3.9330), Xent 1.1922, Loss 4.5356, Error 0.4327(best: 0.4076)\n",
      "===> Using batch size 8000. Total 6 iterations/epoch.\n"
     ]
    },
    {
     "name": "stdout",
     "output_type": "stream",
     "text": [
      "16.646706586826348\n",
      "16.646706586826348\n",
      "16.646706586826348\n",
      "16.646706586826348\n",
      "16.646706586826348\n",
      "16.646706586826348\n",
      "16.646706586826348\n",
      "16.646706586826348\n",
      "16.646706586826348\n",
      "16.646706586826348\n",
      "16.646706586826348\n",
      "16.646706586826348\n",
      "16.646706586826348\n",
      "16.646706586826348\n"
     ]
    },
    {
     "name": "stderr",
     "output_type": "stream",
     "text": [
      "Iter 1339 | Time 58.3277(60.7084) | Bit/dim 3.9544(3.9521) | Xent 1.2314(1.2299) | Loss 13.1824(10.9394) | Error 0.4457(0.4426) Steps 568(571.13) | Grad Norm 15.0385(14.1182) | Total Time 0.00(0.00)\n",
      "Iter 1340 | Time 63.2726(60.7853) | Bit/dim 3.9377(3.9516) | Xent 1.3698(1.2341) | Loss 10.5393(10.9274) | Error 0.4851(0.4439) Steps 562(570.85) | Grad Norm 29.7690(14.5877) | Total Time 0.00(0.00)\n",
      "Iter 1341 | Time 63.8158(60.8762) | Bit/dim 3.9505(3.9516) | Xent 1.2201(1.2337) | Loss 10.3947(10.9114) | Error 0.4443(0.4439) Steps 580(571.13) | Grad Norm 13.3540(14.5507) | Total Time 0.00(0.00)\n",
      "Iter 1342 | Time 62.1042(60.9131) | Bit/dim 3.9271(3.9509) | Xent 1.2204(1.2333) | Loss 10.2592(10.8918) | Error 0.4345(0.4436) Steps 574(571.21) | Grad Norm 13.6354(14.5232) | Total Time 0.00(0.00)\n",
      "Iter 1343 | Time 57.9003(60.8227) | Bit/dim 3.9489(3.9508) | Xent 1.2782(1.2346) | Loss 10.5237(10.8808) | Error 0.4597(0.4441) Steps 556(570.76) | Grad Norm 20.1634(14.6924) | Total Time 0.00(0.00)\n",
      "Iter 1344 | Time 59.8170(60.7925) | Bit/dim 3.9805(3.9517) | Xent 1.2808(1.2360) | Loss 10.4451(10.8677) | Error 0.4614(0.4446) Steps 592(571.39) | Grad Norm 31.9036(15.2088) | Total Time 0.00(0.00)\n",
      "validating...\n",
      "Epoch 0224 | Time 22.9449, Epoch Time 406.4577(405.6828), Bit/dim 3.9829(best: 3.9330), Xent 1.1895, Loss 4.5776, Error 0.4270(best: 0.4076)\n",
      "===> Using batch size 8000. Total 6 iterations/epoch.\n"
     ]
    },
    {
     "name": "stdout",
     "output_type": "stream",
     "text": [
      "16.586826347305387\n",
      "16.586826347305387\n",
      "16.586826347305387\n",
      "16.586826347305387\n",
      "16.586826347305387\n",
      "16.586826347305387\n",
      "16.586826347305387\n",
      "16.586826347305387\n",
      "16.586826347305387\n",
      "16.586826347305387\n",
      "16.586826347305387\n",
      "16.586826347305387\n",
      "16.586826347305387\n",
      "16.586826347305387\n"
     ]
    },
    {
     "name": "stderr",
     "output_type": "stream",
     "text": [
      "Iter 1345 | Time 61.7002(60.8197) | Bit/dim 3.9842(3.9527) | Xent 1.1897(1.2346) | Loss 13.7503(10.9542) | Error 0.4309(0.4442) Steps 544(570.57) | Grad Norm 15.2317(15.2094) | Total Time 0.00(0.00)\n",
      "Iter 1346 | Time 58.8660(60.7611) | Bit/dim 3.9716(3.9533) | Xent 1.2321(1.2345) | Loss 10.3061(10.9347) | Error 0.4349(0.4439) Steps 580(570.85) | Grad Norm 23.6866(15.4638) | Total Time 0.00(0.00)\n",
      "Iter 1347 | Time 58.3172(60.6878) | Bit/dim 3.9805(3.9541) | Xent 1.2411(1.2347) | Loss 10.3527(10.9173) | Error 0.4475(0.4440) Steps 562(570.59) | Grad Norm 15.0073(15.4501) | Total Time 0.00(0.00)\n",
      "Iter 1348 | Time 64.4961(60.8021) | Bit/dim 3.9360(3.9535) | Xent 1.2278(1.2345) | Loss 10.4984(10.9047) | Error 0.4404(0.4439) Steps 556(570.15) | Grad Norm 13.4271(15.3894) | Total Time 0.00(0.00)\n",
      "Iter 1349 | Time 61.4345(60.8210) | Bit/dim 3.9668(3.9539) | Xent 1.2295(1.2344) | Loss 10.2824(10.8860) | Error 0.4413(0.4438) Steps 562(569.91) | Grad Norm 16.5489(15.4242) | Total Time 0.00(0.00)\n",
      "Iter 1350 | Time 63.5480(60.9028) | Bit/dim 3.9502(3.9538) | Xent 1.2013(1.2334) | Loss 10.3845(10.8710) | Error 0.4339(0.4435) Steps 574(570.03) | Grad Norm 9.1249(15.2352) | Total Time 0.00(0.00)\n",
      "validating...\n",
      "Epoch 0225 | Time 22.8590, Epoch Time 410.0672(405.8143), Bit/dim 3.9469(best: 3.9330), Xent 1.1874, Loss 4.5406, Error 0.4312(best: 0.4076)\n",
      "===> Using batch size 8000. Total 6 iterations/epoch.\n"
     ]
    },
    {
     "name": "stdout",
     "output_type": "stream",
     "text": [
      "16.526946107784433\n",
      "16.526946107784433\n",
      "16.526946107784433\n",
      "16.526946107784433\n",
      "16.526946107784433\n",
      "16.526946107784433\n",
      "16.526946107784433\n",
      "16.526946107784433\n",
      "16.526946107784433\n",
      "16.526946107784433\n",
      "16.526946107784433\n",
      "16.526946107784433\n",
      "16.526946107784433\n",
      "16.526946107784433\n"
     ]
    },
    {
     "name": "stderr",
     "output_type": "stream",
     "text": [
      "Iter 1351 | Time 61.2126(60.9121) | Bit/dim 3.9536(3.9538) | Xent 1.1975(1.2323) | Loss 13.5592(10.9516) | Error 0.4295(0.4431) Steps 592(570.69) | Grad Norm 8.9780(15.0475) | Total Time 0.00(0.00)\n",
      "Iter 1352 | Time 62.9170(60.9723) | Bit/dim 3.9533(3.9538) | Xent 1.1964(1.2312) | Loss 10.3930(10.9349) | Error 0.4356(0.4429) Steps 592(571.33) | Grad Norm 12.3770(14.9674) | Total Time 0.00(0.00)\n",
      "Iter 1353 | Time 60.7116(60.9645) | Bit/dim 3.9388(3.9533) | Xent 1.1912(1.2300) | Loss 10.3950(10.9187) | Error 0.4323(0.4426) Steps 586(571.77) | Grad Norm 8.1623(14.7632) | Total Time 0.00(0.00)\n",
      "Iter 1354 | Time 60.5101(60.9508) | Bit/dim 3.9379(3.9529) | Xent 1.1916(1.2289) | Loss 10.1933(10.8969) | Error 0.4255(0.4420) Steps 556(571.29) | Grad Norm 8.4442(14.5736) | Total Time 0.00(0.00)\n",
      "Iter 1355 | Time 58.7928(60.8861) | Bit/dim 3.9363(3.9524) | Xent 1.2112(1.2283) | Loss 10.3921(10.8818) | Error 0.4379(0.4419) Steps 598(572.10) | Grad Norm 8.7263(14.3982) | Total Time 0.00(0.00)\n",
      "Iter 1356 | Time 61.3420(60.8998) | Bit/dim 3.9307(3.9517) | Xent 1.1882(1.2271) | Loss 10.0705(10.8574) | Error 0.4231(0.4414) Steps 568(571.97) | Grad Norm 6.0657(14.1482) | Total Time 0.00(0.00)\n",
      "validating...\n",
      "Epoch 0226 | Time 22.6816, Epoch Time 406.4504(405.8334), Bit/dim 3.9385(best: 3.9330), Xent 1.1575, Loss 4.5173, Error 0.4149(best: 0.4076)\n",
      "===> Using batch size 8000. Total 6 iterations/epoch.\n"
     ]
    },
    {
     "name": "stdout",
     "output_type": "stream",
     "text": [
      "16.467065868263475\n",
      "16.467065868263475\n",
      "16.467065868263475\n",
      "16.467065868263475\n",
      "16.467065868263475\n",
      "16.467065868263475\n",
      "16.467065868263475\n",
      "16.467065868263475\n",
      "16.467065868263475\n",
      "16.467065868263475\n",
      "16.467065868263475\n",
      "16.467065868263475\n",
      "16.467065868263475\n",
      "16.467065868263475\n"
     ]
    },
    {
     "name": "stderr",
     "output_type": "stream",
     "text": [
      "Iter 1357 | Time 61.2268(60.9096) | Bit/dim 3.9356(3.9512) | Xent 1.1673(1.2253) | Loss 13.4122(10.9341) | Error 0.4193(0.4407) Steps 586(572.39) | Grad Norm 7.1495(13.9383) | Total Time 0.00(0.00)\n",
      "Iter 1358 | Time 57.4830(60.8068) | Bit/dim 3.9268(3.9505) | Xent 1.1971(1.2245) | Loss 10.4562(10.9198) | Error 0.4296(0.4404) Steps 556(571.90) | Grad Norm 10.4171(13.8326) | Total Time 0.00(0.00)\n",
      "Iter 1359 | Time 59.1327(60.7566) | Bit/dim 3.9316(3.9499) | Xent 1.1957(1.2236) | Loss 10.2167(10.8987) | Error 0.4270(0.4400) Steps 574(571.97) | Grad Norm 10.7440(13.7400) | Total Time 0.00(0.00)\n",
      "Iter 1360 | Time 58.5216(60.6895) | Bit/dim 3.9309(3.9494) | Xent 1.1988(1.2229) | Loss 10.1818(10.8772) | Error 0.4339(0.4398) Steps 568(571.85) | Grad Norm 7.3556(13.5484) | Total Time 0.00(0.00)\n",
      "Iter 1361 | Time 60.0008(60.6688) | Bit/dim 3.9396(3.9491) | Xent 1.1736(1.2214) | Loss 10.1249(10.8546) | Error 0.4206(0.4392) Steps 562(571.55) | Grad Norm 6.8404(13.3472) | Total Time 0.00(0.00)\n",
      "Iter 1362 | Time 65.7760(60.8221) | Bit/dim 3.9285(3.9485) | Xent 1.1566(1.2195) | Loss 10.0788(10.8313) | Error 0.4100(0.4383) Steps 592(572.16) | Grad Norm 9.4294(13.2297) | Total Time 0.00(0.00)\n",
      "validating...\n",
      "Epoch 0227 | Time 22.9768, Epoch Time 403.3592(405.7592), Bit/dim 3.9307(best: 3.9330), Xent 1.1465, Loss 4.5040, Error 0.4115(best: 0.4076)\n",
      "===> Using batch size 8000. Total 6 iterations/epoch.\n"
     ]
    },
    {
     "name": "stdout",
     "output_type": "stream",
     "text": [
      "16.407185628742514\n",
      "16.407185628742514\n",
      "16.407185628742514\n",
      "16.407185628742514\n",
      "16.407185628742514\n",
      "16.407185628742514\n",
      "16.407185628742514\n",
      "16.407185628742514\n",
      "16.407185628742514\n",
      "16.407185628742514\n",
      "16.407185628742514\n",
      "16.407185628742514\n",
      "16.407185628742514\n",
      "16.407185628742514\n"
     ]
    },
    {
     "name": "stderr",
     "output_type": "stream",
     "text": [
      "Iter 1363 | Time 56.9529(60.7060) | Bit/dim 3.9223(3.9477) | Xent 1.1771(1.2182) | Loss 13.5279(10.9122) | Error 0.4251(0.4379) Steps 562(571.86) | Grad Norm 12.6034(13.2109) | Total Time 0.00(0.00)\n",
      "Iter 1364 | Time 61.6120(60.7332) | Bit/dim 3.9319(3.9472) | Xent 1.1719(1.2168) | Loss 10.3411(10.8951) | Error 0.4199(0.4374) Steps 568(571.74) | Grad Norm 7.3172(13.0341) | Total Time 0.00(0.00)\n",
      "Iter 1365 | Time 58.1645(60.6561) | Bit/dim 3.9369(3.9469) | Xent 1.1570(1.2150) | Loss 10.1920(10.8740) | Error 0.4151(0.4367) Steps 562(571.45) | Grad Norm 6.8579(12.8488) | Total Time 0.00(0.00)\n",
      "Iter 1366 | Time 61.9264(60.6942) | Bit/dim 3.9286(3.9463) | Xent 1.1982(1.2145) | Loss 10.4541(10.8614) | Error 0.4314(0.4366) Steps 574(571.53) | Grad Norm 15.1840(12.9188) | Total Time 0.00(0.00)\n",
      "Iter 1367 | Time 57.3087(60.5927) | Bit/dim 3.9251(3.9457) | Xent 1.2389(1.2152) | Loss 10.5145(10.8510) | Error 0.4471(0.4369) Steps 550(570.88) | Grad Norm 26.3290(13.3211) | Total Time 0.00(0.00)\n",
      "Iter 1368 | Time 60.4445(60.5882) | Bit/dim 3.9271(3.9452) | Xent 1.1907(1.2145) | Loss 10.3075(10.8347) | Error 0.4303(0.4367) Steps 592(571.52) | Grad Norm 14.4559(13.3552) | Total Time 0.00(0.00)\n",
      "validating...\n",
      "Epoch 0228 | Time 23.1767, Epoch Time 397.8440(405.5217), Bit/dim 3.9278(best: 3.9307), Xent 1.1656, Loss 4.5107, Error 0.4140(best: 0.4076)\n",
      "===> Using batch size 8000. Total 6 iterations/epoch.\n"
     ]
    },
    {
     "name": "stdout",
     "output_type": "stream",
     "text": [
      "16.347305389221557\n",
      "16.347305389221557\n",
      "16.347305389221557\n",
      "16.347305389221557\n",
      "16.347305389221557\n",
      "16.347305389221557\n",
      "16.347305389221557\n",
      "16.347305389221557\n",
      "16.347305389221557\n",
      "16.347305389221557\n",
      "16.347305389221557\n",
      "16.347305389221557\n",
      "16.347305389221557\n",
      "16.347305389221557\n"
     ]
    },
    {
     "name": "stderr",
     "output_type": "stream",
     "text": [
      "Iter 1369 | Time 61.3740(60.6118) | Bit/dim 3.9276(3.9446) | Xent 1.2115(1.2144) | Loss 13.5031(10.9147) | Error 0.4355(0.4366) Steps 586(571.95) | Grad Norm 12.8612(13.3404) | Total Time 0.00(0.00)\n",
      "Iter 1370 | Time 58.5216(60.5491) | Bit/dim 3.9371(3.9444) | Xent 1.2807(1.2164) | Loss 10.4677(10.9013) | Error 0.4591(0.4373) Steps 562(571.65) | Grad Norm 18.9999(13.5102) | Total Time 0.00(0.00)\n",
      "Iter 1371 | Time 58.6649(60.4926) | Bit/dim 3.9385(3.9442) | Xent 1.2646(1.2178) | Loss 10.3011(10.8833) | Error 0.4515(0.4377) Steps 550(571.00) | Grad Norm 20.7704(13.7280) | Total Time 0.00(0.00)\n",
      "Iter 1372 | Time 59.6924(60.4685) | Bit/dim 3.9283(3.9437) | Xent 1.2065(1.2175) | Loss 10.1407(10.8610) | Error 0.4353(0.4377) Steps 544(570.19) | Grad Norm 16.7816(13.8196) | Total Time 0.00(0.00)\n",
      "Iter 1373 | Time 63.4823(60.5590) | Bit/dim 3.9303(3.9433) | Xent 1.2654(1.2189) | Loss 10.5008(10.8502) | Error 0.4651(0.4385) Steps 598(571.03) | Grad Norm 10.9152(13.7324) | Total Time 0.00(0.00)\n",
      "Iter 1374 | Time 60.3752(60.5534) | Bit/dim 3.9391(3.9432) | Xent 1.1669(1.2174) | Loss 10.0002(10.8247) | Error 0.4273(0.4382) Steps 562(570.76) | Grad Norm 12.9778(13.7098) | Total Time 0.00(0.00)\n",
      "validating...\n",
      "Epoch 0229 | Time 22.8115, Epoch Time 402.4415(405.4293), Bit/dim 3.9345(best: 3.9278), Xent 1.1918, Loss 4.5304, Error 0.4343(best: 0.4076)\n",
      "===> Using batch size 8000. Total 6 iterations/epoch.\n"
     ]
    },
    {
     "name": "stdout",
     "output_type": "stream",
     "text": [
      "16.2874251497006\n",
      "16.2874251497006\n",
      "16.2874251497006\n",
      "16.2874251497006\n",
      "16.2874251497006\n",
      "16.2874251497006\n",
      "16.2874251497006\n",
      "16.2874251497006\n",
      "16.2874251497006\n",
      "16.2874251497006\n",
      "16.2874251497006\n",
      "16.2874251497006\n",
      "16.2874251497006\n",
      "16.2874251497006\n"
     ]
    },
    {
     "name": "stderr",
     "output_type": "stream",
     "text": [
      "Iter 1375 | Time 60.6802(60.5573) | Bit/dim 3.9317(3.9429) | Xent 1.2293(1.2177) | Loss 13.6199(10.9086) | Error 0.4474(0.4384) Steps 568(570.67) | Grad Norm 16.8276(13.8033) | Total Time 0.00(0.00)\n",
      "Iter 1376 | Time 60.8686(60.5666) | Bit/dim 3.9191(3.9422) | Xent 1.1953(1.2171) | Loss 10.2157(10.8878) | Error 0.4353(0.4383) Steps 550(570.05) | Grad Norm 7.7753(13.6225) | Total Time 0.00(0.00)\n",
      "Iter 1377 | Time 62.1222(60.6133) | Bit/dim 3.9306(3.9418) | Xent 1.1912(1.2163) | Loss 10.4455(10.8745) | Error 0.4299(0.4381) Steps 574(570.17) | Grad Norm 11.5924(13.5616) | Total Time 0.00(0.00)\n",
      "Iter 1378 | Time 59.0505(60.5664) | Bit/dim 3.9383(3.9417) | Xent 1.2122(1.2162) | Loss 10.2176(10.8548) | Error 0.4331(0.4379) Steps 574(570.29) | Grad Norm 17.2025(13.6708) | Total Time 0.00(0.00)\n",
      "Iter 1379 | Time 61.4320(60.5923) | Bit/dim 3.9215(3.9411) | Xent 1.2368(1.2168) | Loss 10.5185(10.8447) | Error 0.4455(0.4382) Steps 574(570.40) | Grad Norm 20.6518(13.8802) | Total Time 0.00(0.00)\n",
      "Iter 1380 | Time 67.5101(60.7999) | Bit/dim 3.9383(3.9410) | Xent 1.2591(1.2180) | Loss 10.6076(10.8376) | Error 0.4497(0.4385) Steps 556(569.97) | Grad Norm 22.8243(14.1486) | Total Time 0.00(0.00)\n",
      "validating...\n",
      "Epoch 0230 | Time 23.3302, Epoch Time 412.6247(405.6452), Bit/dim 3.9160(best: 3.9278), Xent 1.1599, Loss 4.4960, Error 0.4113(best: 0.4076)\n",
      "===> Using batch size 8000. Total 6 iterations/epoch.\n"
     ]
    },
    {
     "name": "stdout",
     "output_type": "stream",
     "text": [
      "16.227544910179642\n",
      "16.227544910179642\n",
      "16.227544910179642\n",
      "16.227544910179642\n",
      "16.227544910179642\n",
      "16.227544910179642\n",
      "16.227544910179642\n",
      "16.227544910179642\n",
      "16.227544910179642\n",
      "16.227544910179642\n",
      "16.227544910179642\n",
      "16.227544910179642\n",
      "16.227544910179642\n",
      "16.227544910179642\n"
     ]
    },
    {
     "name": "stderr",
     "output_type": "stream",
     "text": [
      "Iter 1381 | Time 62.2542(60.8435) | Bit/dim 3.9208(3.9404) | Xent 1.1922(1.2173) | Loss 13.7424(10.9248) | Error 0.4273(0.4382) Steps 574(570.09) | Grad Norm 9.8362(14.0192) | Total Time 0.00(0.00)\n",
      "Iter 1382 | Time 63.1211(60.9118) | Bit/dim 3.9135(3.9396) | Xent 1.2232(1.2174) | Loss 10.3653(10.9080) | Error 0.4389(0.4382) Steps 556(569.66) | Grad Norm 13.4335(14.0016) | Total Time 0.00(0.00)\n",
      "Iter 1383 | Time 58.5624(60.8414) | Bit/dim 3.9141(3.9388) | Xent 1.2672(1.2189) | Loss 10.1295(10.8846) | Error 0.4453(0.4384) Steps 544(568.89) | Grad Norm 23.3367(14.2817) | Total Time 0.00(0.00)\n",
      "Iter 1384 | Time 60.6015(60.8342) | Bit/dim 3.9375(3.9388) | Xent 1.1756(1.2176) | Loss 10.2819(10.8665) | Error 0.4231(0.4379) Steps 580(569.23) | Grad Norm 14.4804(14.2876) | Total Time 0.00(0.00)\n",
      "Iter 1385 | Time 66.2911(60.9979) | Bit/dim 3.9261(3.9384) | Xent 1.1841(1.2166) | Loss 10.4124(10.8529) | Error 0.4240(0.4375) Steps 574(569.37) | Grad Norm 10.1328(14.1630) | Total Time 0.00(0.00)\n",
      "Iter 1386 | Time 65.3735(61.1291) | Bit/dim 3.9292(3.9381) | Xent 1.2184(1.2167) | Loss 10.5170(10.8428) | Error 0.4375(0.4375) Steps 598(570.23) | Grad Norm 16.3808(14.2295) | Total Time 0.00(0.00)\n",
      "validating...\n",
      "Epoch 0231 | Time 22.6658, Epoch Time 416.1811(405.9613), Bit/dim 3.9159(best: 3.9160), Xent 1.1251, Loss 4.4784, Error 0.3995(best: 0.4076)\n",
      "===> Using batch size 8000. Total 6 iterations/epoch.\n"
     ]
    },
    {
     "name": "stdout",
     "output_type": "stream",
     "text": [
      "16.167664670658684\n",
      "16.167664670658684\n",
      "16.167664670658684\n",
      "16.167664670658684\n",
      "16.167664670658684\n",
      "16.167664670658684\n",
      "16.167664670658684\n",
      "16.167664670658684\n",
      "16.167664670658684\n",
      "16.167664670658684\n",
      "16.167664670658684\n",
      "16.167664670658684\n",
      "16.167664670658684\n",
      "16.167664670658684\n"
     ]
    },
    {
     "name": "stderr",
     "output_type": "stream",
     "text": [
      "Iter 1387 | Time 61.5284(61.1411) | Bit/dim 3.9292(3.9379) | Xent 1.1737(1.2154) | Loss 13.7121(10.9289) | Error 0.4216(0.4371) Steps 580(570.52) | Grad Norm 8.7944(14.0665) | Total Time 0.00(0.00)\n",
      "Iter 1388 | Time 58.2432(61.0542) | Bit/dim 3.9196(3.9373) | Xent 1.1838(1.2145) | Loss 10.5077(10.9163) | Error 0.4215(0.4366) Steps 580(570.81) | Grad Norm 10.4180(13.9570) | Total Time 0.00(0.00)\n",
      "Iter 1389 | Time 63.5349(61.1286) | Bit/dim 3.9251(3.9370) | Xent 1.1578(1.2128) | Loss 10.3384(10.8989) | Error 0.4111(0.4358) Steps 586(571.26) | Grad Norm 5.2292(13.6952) | Total Time 0.00(0.00)\n",
      "Iter 1390 | Time 60.8758(61.1210) | Bit/dim 3.9099(3.9361) | Xent 1.1942(1.2122) | Loss 10.3114(10.8813) | Error 0.4269(0.4356) Steps 568(571.16) | Grad Norm 8.4721(13.5385) | Total Time 0.00(0.00)\n",
      "Iter 1391 | Time 61.5648(61.1343) | Bit/dim 3.9143(3.9355) | Xent 1.1713(1.2110) | Loss 10.0301(10.8558) | Error 0.4143(0.4349) Steps 544(570.35) | Grad Norm 12.1049(13.4955) | Total Time 0.00(0.00)\n",
      "Iter 1392 | Time 60.4453(61.1137) | Bit/dim 3.9087(3.9347) | Xent 1.1756(1.2099) | Loss 10.3552(10.8408) | Error 0.4199(0.4345) Steps 556(569.92) | Grad Norm 14.3732(13.5218) | Total Time 0.00(0.00)\n",
      "validating...\n",
      "Epoch 0232 | Time 22.9702, Epoch Time 407.8466(406.0178), Bit/dim 3.9207(best: 3.9159), Xent 1.1306, Loss 4.4860, Error 0.4034(best: 0.3995)\n",
      "===> Using batch size 8000. Total 6 iterations/epoch.\n"
     ]
    },
    {
     "name": "stdout",
     "output_type": "stream",
     "text": [
      "16.107784431137723\n",
      "16.107784431137723\n",
      "16.107784431137723\n",
      "16.107784431137723\n",
      "16.107784431137723\n",
      "16.107784431137723\n",
      "16.107784431137723\n",
      "16.107784431137723\n",
      "16.107784431137723\n",
      "16.107784431137723\n",
      "16.107784431137723\n",
      "16.107784431137723\n",
      "16.107784431137723\n",
      "16.107784431137723\n"
     ]
    },
    {
     "name": "stderr",
     "output_type": "stream",
     "text": [
      "Iter 1393 | Time 56.4277(60.9731) | Bit/dim 3.9154(3.9341) | Xent 1.1497(1.2081) | Loss 13.4989(10.9205) | Error 0.4144(0.4339) Steps 562(569.68) | Grad Norm 11.5324(13.4621) | Total Time 0.00(0.00)\n",
      "Iter 1394 | Time 62.0069(61.0041) | Bit/dim 3.9099(3.9334) | Xent 1.1552(1.2065) | Loss 10.3440(10.9032) | Error 0.4154(0.4333) Steps 574(569.81) | Grad Norm 6.7090(13.2595) | Total Time 0.00(0.00)\n",
      "Iter 1395 | Time 60.9497(61.0025) | Bit/dim 3.9118(3.9327) | Xent 1.1931(1.2061) | Loss 10.3566(10.8868) | Error 0.4236(0.4330) Steps 568(569.76) | Grad Norm 5.4109(13.0241) | Total Time 0.00(0.00)\n",
      "Iter 1396 | Time 59.5775(60.9597) | Bit/dim 3.8968(3.9317) | Xent 1.1705(1.2050) | Loss 10.2737(10.8684) | Error 0.4207(0.4326) Steps 556(569.34) | Grad Norm 8.3528(12.8839) | Total Time 0.00(0.00)\n",
      "Iter 1397 | Time 61.4351(60.9740) | Bit/dim 3.8980(3.9306) | Xent 1.1609(1.2037) | Loss 10.3894(10.8541) | Error 0.4193(0.4322) Steps 550(568.76) | Grad Norm 10.2226(12.8041) | Total Time 0.00(0.00)\n",
      "Iter 1398 | Time 66.8599(61.1506) | Bit/dim 3.9177(3.9303) | Xent 1.1544(1.2022) | Loss 10.3092(10.8377) | Error 0.4220(0.4319) Steps 610(570.00) | Grad Norm 11.0773(12.7523) | Total Time 0.00(0.00)\n",
      "validating...\n",
      "Epoch 0233 | Time 23.6282, Epoch Time 408.6382(406.0964), Bit/dim 3.9221(best: 3.9159), Xent 1.1554, Loss 4.4998, Error 0.4149(best: 0.3995)\n",
      "===> Using batch size 8000. Total 6 iterations/epoch.\n"
     ]
    },
    {
     "name": "stdout",
     "output_type": "stream",
     "text": [
      "16.047904191616766\n",
      "16.047904191616766\n",
      "16.047904191616766\n",
      "16.047904191616766\n",
      "16.047904191616766\n",
      "16.047904191616766\n",
      "16.047904191616766\n",
      "16.047904191616766\n",
      "16.047904191616766\n",
      "16.047904191616766\n",
      "16.047904191616766\n",
      "16.047904191616766\n",
      "16.047904191616766\n",
      "16.047904191616766\n"
     ]
    },
    {
     "name": "stderr",
     "output_type": "stream",
     "text": [
      "Iter 1399 | Time 59.3721(61.0972) | Bit/dim 3.9207(3.9300) | Xent 1.1968(1.2021) | Loss 13.7063(10.9238) | Error 0.4277(0.4318) Steps 574(570.12) | Grad Norm 21.3469(13.0101) | Total Time 0.00(0.00)\n",
      "Iter 1400 | Time 61.1717(61.0994) | Bit/dim 3.9434(3.9304) | Xent 1.3312(1.2059) | Loss 10.5338(10.9121) | Error 0.4718(0.4330) Steps 556(569.70) | Grad Norm 34.5129(13.6552) | Total Time 0.00(0.00)\n",
      "Iter 1401 | Time 61.4437(61.1098) | Bit/dim 3.8998(3.9295) | Xent 1.1578(1.2045) | Loss 10.2447(10.8920) | Error 0.4136(0.4324) Steps 574(569.83) | Grad Norm 5.4777(13.4099) | Total Time 0.00(0.00)\n",
      "Iter 1402 | Time 64.7020(61.2175) | Bit/dim 3.9309(3.9295) | Xent 1.3130(1.2078) | Loss 10.5406(10.8815) | Error 0.4651(0.4334) Steps 568(569.77) | Grad Norm 28.9090(13.8749) | Total Time 0.00(0.00)\n",
      "Iter 1403 | Time 62.6591(61.2608) | Bit/dim 3.9310(3.9296) | Xent 1.1512(1.2061) | Loss 10.3747(10.8663) | Error 0.4130(0.4328) Steps 586(570.26) | Grad Norm 7.9294(13.6965) | Total Time 0.00(0.00)\n",
      "Iter 1404 | Time 58.0820(61.1654) | Bit/dim 3.9165(3.9292) | Xent 1.2343(1.2069) | Loss 10.1989(10.8463) | Error 0.4509(0.4333) Steps 532(569.11) | Grad Norm 16.0913(13.7684) | Total Time 0.00(0.00)\n",
      "validating...\n",
      "Epoch 0234 | Time 22.9612, Epoch Time 407.9228(406.1512), Bit/dim 3.9189(best: 3.9159), Xent 1.1266, Loss 4.4822, Error 0.4006(best: 0.3995)\n",
      "===> Using batch size 8000. Total 6 iterations/epoch.\n"
     ]
    },
    {
     "name": "stdout",
     "output_type": "stream",
     "text": [
      "15.988023952095809\n",
      "15.988023952095809\n",
      "15.988023952095809\n",
      "15.988023952095809\n",
      "15.988023952095809\n",
      "15.988023952095809\n",
      "15.988023952095809\n",
      "15.988023952095809\n",
      "15.988023952095809\n",
      "15.988023952095809\n",
      "15.988023952095809\n",
      "15.988023952095809\n",
      "15.988023952095809\n",
      "15.988023952095809\n"
     ]
    },
    {
     "name": "stderr",
     "output_type": "stream",
     "text": [
      "Iter 1405 | Time 57.6084(61.0587) | Bit/dim 3.9214(3.9289) | Xent 1.1622(1.2056) | Loss 13.1796(10.9163) | Error 0.4185(0.4329) Steps 562(568.90) | Grad Norm 15.1300(13.8092) | Total Time 0.00(0.00)\n",
      "Iter 1406 | Time 58.8162(60.9914) | Bit/dim 3.9011(3.9281) | Xent 1.2205(1.2060) | Loss 10.2895(10.8975) | Error 0.4373(0.4330) Steps 556(568.51) | Grad Norm 10.7912(13.7187) | Total Time 0.00(0.00)\n",
      "Iter 1407 | Time 60.8329(60.9867) | Bit/dim 3.9284(3.9281) | Xent 1.1693(1.2049) | Loss 10.2023(10.8766) | Error 0.4211(0.4327) Steps 544(567.78) | Grad Norm 13.4169(13.7096) | Total Time 0.00(0.00)\n",
      "Iter 1408 | Time 59.2414(60.9343) | Bit/dim 3.9028(3.9273) | Xent 1.1858(1.2043) | Loss 9.9442(10.8486) | Error 0.4247(0.4324) Steps 574(567.96) | Grad Norm 8.3746(13.5496) | Total Time 0.00(0.00)\n",
      "Iter 1409 | Time 61.6178(60.9548) | Bit/dim 3.9078(3.9268) | Xent 1.1864(1.2038) | Loss 10.2938(10.8320) | Error 0.4225(0.4321) Steps 562(567.78) | Grad Norm 9.3437(13.4234) | Total Time 0.00(0.00)\n",
      "Iter 1410 | Time 61.9390(60.9843) | Bit/dim 3.9137(3.9264) | Xent 1.1720(1.2028) | Loss 10.2475(10.8145) | Error 0.4216(0.4318) Steps 592(568.51) | Grad Norm 7.2489(13.2382) | Total Time 0.00(0.00)\n",
      "validating...\n",
      "Epoch 0235 | Time 22.6907, Epoch Time 400.8976(405.9936), Bit/dim 3.9118(best: 3.9159), Xent 1.1498, Loss 4.4867, Error 0.4125(best: 0.3995)\n",
      "===> Using batch size 8000. Total 6 iterations/epoch.\n"
     ]
    },
    {
     "name": "stdout",
     "output_type": "stream",
     "text": [
      "15.928143712574851\n",
      "15.928143712574851\n",
      "15.928143712574851\n",
      "15.928143712574851\n",
      "15.928143712574851\n",
      "15.928143712574851\n",
      "15.928143712574851\n",
      "15.928143712574851\n",
      "15.928143712574851\n",
      "15.928143712574851\n",
      "15.928143712574851\n",
      "15.928143712574851\n",
      "15.928143712574851\n",
      "15.928143712574851\n"
     ]
    },
    {
     "name": "stderr",
     "output_type": "stream",
     "text": [
      "Iter 1411 | Time 64.3893(61.0865) | Bit/dim 3.9185(3.9261) | Xent 1.1845(1.2023) | Loss 13.1634(10.8849) | Error 0.4315(0.4318) Steps 574(568.67) | Grad Norm 7.7488(13.0735) | Total Time 0.00(0.00)\n",
      "Iter 1412 | Time 62.7528(61.1365) | Bit/dim 3.9119(3.9257) | Xent 1.1575(1.2010) | Loss 10.1432(10.8627) | Error 0.4135(0.4313) Steps 574(568.83) | Grad Norm 9.7905(12.9750) | Total Time 0.00(0.00)\n",
      "Iter 1413 | Time 60.3523(61.1130) | Bit/dim 3.9011(3.9250) | Xent 1.1728(1.2001) | Loss 10.3211(10.8464) | Error 0.4196(0.4309) Steps 580(569.17) | Grad Norm 6.1088(12.7690) | Total Time 0.00(0.00)\n",
      "Iter 1414 | Time 59.1146(61.0530) | Bit/dim 3.9072(3.9244) | Xent 1.1653(1.1991) | Loss 10.5814(10.8385) | Error 0.4209(0.4306) Steps 586(569.67) | Grad Norm 11.2322(12.7229) | Total Time 0.00(0.00)\n",
      "Iter 1415 | Time 57.8434(60.9567) | Bit/dim 3.9061(3.9239) | Xent 1.1429(1.1974) | Loss 10.3360(10.8234) | Error 0.4125(0.4301) Steps 562(569.44) | Grad Norm 12.5580(12.7179) | Total Time 0.00(0.00)\n",
      "Iter 1416 | Time 61.0143(60.9585) | Bit/dim 3.9077(3.9234) | Xent 1.1702(1.1966) | Loss 10.4490(10.8122) | Error 0.4287(0.4300) Steps 556(569.04) | Grad Norm 9.6501(12.6259) | Total Time 0.00(0.00)\n",
      "validating...\n",
      "Epoch 0236 | Time 23.2977, Epoch Time 407.2291(406.0307), Bit/dim 3.9107(best: 3.9118), Xent 1.1102, Loss 4.4658, Error 0.3955(best: 0.3995)\n",
      "===> Using batch size 8000. Total 6 iterations/epoch.\n"
     ]
    },
    {
     "name": "stdout",
     "output_type": "stream",
     "text": [
      "15.868263473053892\n",
      "15.868263473053892\n",
      "15.868263473053892\n",
      "15.868263473053892\n",
      "15.868263473053892\n",
      "15.868263473053892\n",
      "15.868263473053892\n",
      "15.868263473053892\n",
      "15.868263473053892\n",
      "15.868263473053892\n",
      "15.868263473053892\n",
      "15.868263473053892\n",
      "15.868263473053892\n",
      "15.868263473053892\n"
     ]
    },
    {
     "name": "stderr",
     "output_type": "stream",
     "text": [
      "Iter 1417 | Time 63.1338(61.0237) | Bit/dim 3.8956(3.9226) | Xent 1.1631(1.1956) | Loss 13.3832(10.8893) | Error 0.4160(0.4296) Steps 574(569.19) | Grad Norm 9.1798(12.5225) | Total Time 0.00(0.00)\n",
      "Iter 1418 | Time 61.2643(61.0309) | Bit/dim 3.9053(3.9220) | Xent 1.1532(1.1943) | Loss 10.2092(10.8689) | Error 0.4099(0.4290) Steps 598(570.05) | Grad Norm 9.5771(12.4342) | Total Time 0.00(0.00)\n",
      "Iter 1419 | Time 62.1538(61.0646) | Bit/dim 3.9031(3.9215) | Xent 1.1288(1.1923) | Loss 10.1585(10.8476) | Error 0.4031(0.4282) Steps 616(571.43) | Grad Norm 4.1854(12.1867) | Total Time 0.00(0.00)\n",
      "Iter 1420 | Time 63.6156(61.1411) | Bit/dim 3.9091(3.9211) | Xent 1.1542(1.1912) | Loss 10.4117(10.8345) | Error 0.4125(0.4278) Steps 574(571.51) | Grad Norm 7.2785(12.0395) | Total Time 0.00(0.00)\n",
      "Iter 1421 | Time 59.6438(61.0962) | Bit/dim 3.8964(3.9204) | Xent 1.1208(1.1891) | Loss 10.3230(10.8192) | Error 0.4004(0.4269) Steps 598(572.30) | Grad Norm 5.4944(11.8431) | Total Time 0.00(0.00)\n",
      "Iter 1422 | Time 56.5272(60.9592) | Bit/dim 3.9031(3.9198) | Xent 1.1430(1.1877) | Loss 10.0990(10.7976) | Error 0.4136(0.4265) Steps 574(572.35) | Grad Norm 5.5107(11.6531) | Total Time 0.00(0.00)\n",
      "validating...\n",
      "Epoch 0237 | Time 23.5236, Epoch Time 406.7300(406.0517), Bit/dim 3.8946(best: 3.9107), Xent 1.1016, Loss 4.4454, Error 0.3945(best: 0.3955)\n",
      "===> Using batch size 8000. Total 6 iterations/epoch.\n"
     ]
    },
    {
     "name": "stdout",
     "output_type": "stream",
     "text": [
      "15.808383233532933\n",
      "15.808383233532933\n",
      "15.808383233532933\n",
      "15.808383233532933\n",
      "15.808383233532933\n",
      "15.808383233532933\n",
      "15.808383233532933\n",
      "15.808383233532933\n",
      "15.808383233532933\n",
      "15.808383233532933\n",
      "15.808383233532933\n",
      "15.808383233532933\n",
      "15.808383233532933\n",
      "15.808383233532933\n"
     ]
    },
    {
     "name": "stderr",
     "output_type": "stream",
     "text": [
      "Iter 1423 | Time 59.9004(60.9274) | Bit/dim 3.8963(3.9191) | Xent 1.1489(1.1865) | Loss 13.2328(10.8706) | Error 0.4154(0.4262) Steps 556(571.86) | Grad Norm 8.3670(11.5545) | Total Time 0.00(0.00)\n",
      "Iter 1424 | Time 59.6387(60.8887) | Bit/dim 3.9126(3.9189) | Xent 1.1423(1.1852) | Loss 10.2207(10.8511) | Error 0.4163(0.4259) Steps 586(572.29) | Grad Norm 9.4128(11.4903) | Total Time 0.00(0.00)\n",
      "Iter 1425 | Time 61.4075(60.9043) | Bit/dim 3.9058(3.9185) | Xent 1.1270(1.1834) | Loss 10.2379(10.8327) | Error 0.4031(0.4252) Steps 574(572.34) | Grad Norm 8.6398(11.4048) | Total Time 0.00(0.00)\n",
      "Iter 1426 | Time 63.7870(60.9908) | Bit/dim 3.8972(3.9179) | Xent 1.1238(1.1817) | Loss 10.3166(10.8172) | Error 0.4066(0.4247) Steps 580(572.57) | Grad Norm 6.4039(11.2548) | Total Time 0.00(0.00)\n",
      "Iter 1427 | Time 60.7774(60.9844) | Bit/dim 3.8903(3.9171) | Xent 1.1449(1.1806) | Loss 10.2105(10.7990) | Error 0.4069(0.4241) Steps 574(572.61) | Grad Norm 9.2034(11.1932) | Total Time 0.00(0.00)\n",
      "Iter 1428 | Time 58.7514(60.9174) | Bit/dim 3.8865(3.9162) | Xent 1.1264(1.1789) | Loss 10.2094(10.7813) | Error 0.4011(0.4234) Steps 562(572.29) | Grad Norm 10.6161(11.1759) | Total Time 0.00(0.00)\n",
      "validating...\n",
      "Epoch 0238 | Time 22.8419, Epoch Time 404.6445(406.0094), Bit/dim 3.9079(best: 3.8946), Xent 1.1330, Loss 4.4744, Error 0.4042(best: 0.3945)\n",
      "===> Using batch size 8000. Total 6 iterations/epoch.\n"
     ]
    },
    {
     "name": "stdout",
     "output_type": "stream",
     "text": [
      "15.748502994011975\n",
      "15.748502994011975\n",
      "15.748502994011975\n",
      "15.748502994011975\n",
      "15.748502994011975\n",
      "15.748502994011975\n",
      "15.748502994011975\n",
      "15.748502994011975\n",
      "15.748502994011975\n",
      "15.748502994011975\n",
      "15.748502994011975\n",
      "15.748502994011975\n",
      "15.748502994011975\n",
      "15.748502994011975\n"
     ]
    },
    {
     "name": "stderr",
     "output_type": "stream",
     "text": [
      "Iter 1429 | Time 63.7251(61.0016) | Bit/dim 3.8903(3.9154) | Xent 1.1250(1.1773) | Loss 13.2850(10.8565) | Error 0.4073(0.4230) Steps 574(572.34) | Grad Norm 17.2740(11.3588) | Total Time 0.00(0.00)\n",
      "Iter 1430 | Time 63.2492(61.0690) | Bit/dim 3.9218(3.9156) | Xent 1.2402(1.1792) | Loss 10.4895(10.8455) | Error 0.4429(0.4236) Steps 574(572.39) | Grad Norm 31.3356(11.9581) | Total Time 0.00(0.00)\n",
      "Iter 1431 | Time 60.9984(61.0669) | Bit/dim 3.8965(3.9150) | Xent 1.1097(1.1771) | Loss 10.2782(10.8284) | Error 0.4004(0.4229) Steps 586(572.80) | Grad Norm 7.7137(11.8308) | Total Time 0.00(0.00)\n",
      "Iter 1432 | Time 61.6906(61.0856) | Bit/dim 3.8810(3.9140) | Xent 1.1458(1.1762) | Loss 10.1150(10.8070) | Error 0.4113(0.4225) Steps 574(572.84) | Grad Norm 13.3279(11.8757) | Total Time 0.00(0.00)\n",
      "Iter 1433 | Time 61.1686(61.0881) | Bit/dim 3.9146(3.9140) | Xent 1.2160(1.1774) | Loss 10.4586(10.7966) | Error 0.4351(0.4229) Steps 580(573.05) | Grad Norm 22.1218(12.1831) | Total Time 0.00(0.00)\n",
      "Iter 1434 | Time 63.3584(61.1562) | Bit/dim 3.9104(3.9139) | Xent 1.2431(1.1793) | Loss 10.2066(10.7789) | Error 0.4404(0.4234) Steps 550(572.36) | Grad Norm 13.7174(12.2291) | Total Time 0.00(0.00)\n",
      "validating...\n",
      "Epoch 0239 | Time 23.0275, Epoch Time 413.8163(406.2436), Bit/dim 3.8961(best: 3.8946), Xent 1.1248, Loss 4.4585, Error 0.3985(best: 0.3945)\n",
      "===> Using batch size 8000. Total 6 iterations/epoch.\n"
     ]
    },
    {
     "name": "stdout",
     "output_type": "stream",
     "text": [
      "15.68862275449102\n",
      "15.68862275449102\n",
      "15.68862275449102\n",
      "15.68862275449102\n",
      "15.68862275449102\n",
      "15.68862275449102\n",
      "15.68862275449102\n",
      "15.68862275449102\n",
      "15.68862275449102\n",
      "15.68862275449102\n",
      "15.68862275449102\n",
      "15.68862275449102\n",
      "15.68862275449102\n",
      "15.68862275449102\n"
     ]
    },
    {
     "name": "stderr",
     "output_type": "stream",
     "text": [
      "Iter 1435 | Time 62.2110(61.1879) | Bit/dim 3.8899(3.9132) | Xent 1.1652(1.1789) | Loss 12.6618(10.8354) | Error 0.4149(0.4232) Steps 580(572.59) | Grad Norm 12.9065(12.2495) | Total Time 0.00(0.00)\n",
      "Iter 1436 | Time 60.5775(61.1696) | Bit/dim 3.9106(3.9131) | Xent 1.2618(1.1814) | Loss 10.4794(10.8247) | Error 0.4485(0.4239) Steps 568(572.45) | Grad Norm 25.9536(12.6606) | Total Time 0.00(0.00)\n",
      "Iter 1437 | Time 63.8864(61.2511) | Bit/dim 3.8949(3.9126) | Xent 1.1781(1.1813) | Loss 10.2271(10.8068) | Error 0.4235(0.4239) Steps 562(572.14) | Grad Norm 11.1844(12.6163) | Total Time 0.00(0.00)\n",
      "Iter 1438 | Time 59.8889(61.2102) | Bit/dim 3.9040(3.9123) | Xent 1.2113(1.1822) | Loss 10.1885(10.7882) | Error 0.4364(0.4243) Steps 562(571.84) | Grad Norm 15.4558(12.7015) | Total Time 0.00(0.00)\n",
      "Iter 1439 | Time 64.9872(61.3235) | Bit/dim 3.8960(3.9118) | Xent 1.1622(1.1816) | Loss 10.2390(10.7717) | Error 0.4217(0.4242) Steps 586(572.26) | Grad Norm 13.0982(12.7134) | Total Time 0.00(0.00)\n",
      "Iter 1440 | Time 58.4829(61.2383) | Bit/dim 3.9101(3.9118) | Xent 1.1652(1.1811) | Loss 10.1887(10.7542) | Error 0.4119(0.4238) Steps 574(572.31) | Grad Norm 12.6521(12.7115) | Total Time 0.00(0.00)\n",
      "validating...\n",
      "Epoch 0240 | Time 23.3175, Epoch Time 411.7364(406.4084), Bit/dim 3.8967(best: 3.8946), Xent 1.1590, Loss 4.4761, Error 0.4155(best: 0.3945)\n",
      "===> Using batch size 8000. Total 6 iterations/epoch.\n"
     ]
    },
    {
     "name": "stdout",
     "output_type": "stream",
     "text": [
      "15.62874251497006\n",
      "15.62874251497006\n",
      "15.62874251497006\n",
      "15.62874251497006\n",
      "15.62874251497006\n",
      "15.62874251497006\n",
      "15.62874251497006\n",
      "15.62874251497006\n",
      "15.62874251497006\n",
      "15.62874251497006\n",
      "15.62874251497006\n",
      "15.62874251497006\n",
      "15.62874251497006\n",
      "15.62874251497006\n"
     ]
    },
    {
     "name": "stderr",
     "output_type": "stream",
     "text": [
      "Iter 1441 | Time 56.7758(61.1044) | Bit/dim 3.8920(3.9112) | Xent 1.2025(1.1818) | Loss 13.4590(10.8354) | Error 0.4271(0.4239) Steps 562(572.00) | Grad Norm 17.3345(12.8502) | Total Time 0.00(0.00)\n",
      "Iter 1442 | Time 60.3510(61.0818) | Bit/dim 3.9021(3.9109) | Xent 1.2732(1.1845) | Loss 10.2413(10.8176) | Error 0.4557(0.4249) Steps 562(571.70) | Grad Norm 33.4037(13.4668) | Total Time 0.00(0.00)\n",
      "Iter 1443 | Time 64.3600(61.1802) | Bit/dim 3.8987(3.9105) | Xent 1.1760(1.1842) | Loss 10.0321(10.7940) | Error 0.4201(0.4247) Steps 574(571.77) | Grad Norm 13.4094(13.4651) | Total Time 0.00(0.00)\n",
      "Iter 1444 | Time 59.6105(61.1331) | Bit/dim 3.8956(3.9101) | Xent 1.1659(1.1837) | Loss 10.4116(10.7825) | Error 0.4203(0.4246) Steps 550(571.12) | Grad Norm 19.3887(13.6428) | Total Time 0.00(0.00)\n",
      "Iter 1445 | Time 58.3708(61.0502) | Bit/dim 3.9505(3.9113) | Xent 1.1738(1.1834) | Loss 10.3897(10.7707) | Error 0.4260(0.4247) Steps 556(570.67) | Grad Norm 21.9629(13.8924) | Total Time 0.00(0.00)\n",
      "Iter 1446 | Time 67.3217(61.2384) | Bit/dim 3.8895(3.9106) | Xent 1.1777(1.1832) | Loss 10.1671(10.7526) | Error 0.4241(0.4246) Steps 574(570.77) | Grad Norm 12.2711(13.8438) | Total Time 0.00(0.00)\n",
      "validating...\n",
      "Epoch 0241 | Time 22.8198, Epoch Time 408.2117(406.4625), Bit/dim 3.9233(best: 3.8946), Xent 1.1406, Loss 4.4936, Error 0.4067(best: 0.3945)\n",
      "===> Using batch size 8000. Total 6 iterations/epoch.\n"
     ]
    },
    {
     "name": "stdout",
     "output_type": "stream",
     "text": [
      "15.5688622754491\n",
      "15.5688622754491\n",
      "15.5688622754491\n",
      "15.5688622754491\n",
      "15.5688622754491\n",
      "15.5688622754491\n",
      "15.5688622754491\n",
      "15.5688622754491\n",
      "15.5688622754491\n",
      "15.5688622754491\n",
      "15.5688622754491\n",
      "15.5688622754491\n",
      "15.5688622754491\n",
      "15.5688622754491\n"
     ]
    },
    {
     "name": "stderr",
     "output_type": "stream",
     "text": [
      "Iter 1447 | Time 62.1374(61.2653) | Bit/dim 3.9172(3.9108) | Xent 1.1733(1.1829) | Loss 13.6540(10.8397) | Error 0.4197(0.4245) Steps 574(570.86) | Grad Norm 22.3411(14.0987) | Total Time 0.00(0.00)\n",
      "Iter 1448 | Time 62.5380(61.3035) | Bit/dim 3.9151(3.9110) | Xent 1.1629(1.1823) | Loss 10.1781(10.8198) | Error 0.4215(0.4244) Steps 610(572.04) | Grad Norm 11.6164(14.0242) | Total Time 0.00(0.00)\n",
      "Iter 1449 | Time 60.8078(61.2886) | Bit/dim 3.8920(3.9104) | Xent 1.1641(1.1818) | Loss 10.3510(10.8058) | Error 0.4167(0.4242) Steps 574(572.10) | Grad Norm 13.9372(14.0216) | Total Time 0.00(0.00)\n",
      "Iter 1450 | Time 60.6655(61.2699) | Bit/dim 3.8978(3.9100) | Xent 1.1865(1.1819) | Loss 10.3941(10.7934) | Error 0.4299(0.4243) Steps 586(572.51) | Grad Norm 15.2236(14.0577) | Total Time 0.00(0.00)\n",
      "Iter 1451 | Time 58.9498(61.2003) | Bit/dim 3.8925(3.9095) | Xent 1.1838(1.1820) | Loss 10.1497(10.7741) | Error 0.4224(0.4243) Steps 580(572.74) | Grad Norm 7.4694(13.8600) | Total Time 0.00(0.00)\n",
      "Iter 1452 | Time 62.6390(61.2435) | Bit/dim 3.8953(3.9091) | Xent 1.1390(1.1807) | Loss 10.1178(10.7544) | Error 0.4130(0.4239) Steps 568(572.60) | Grad Norm 7.8910(13.6810) | Total Time 0.00(0.00)\n",
      "validating...\n",
      "Epoch 0242 | Time 23.5700, Epoch Time 409.6844(406.5592), Bit/dim 3.8926(best: 3.8946), Xent 1.1128, Loss 4.4490, Error 0.3952(best: 0.3945)\n",
      "===> Using batch size 8000. Total 6 iterations/epoch.\n"
     ]
    },
    {
     "name": "stdout",
     "output_type": "stream",
     "text": [
      "15.508982035928144\n",
      "15.508982035928144\n",
      "15.508982035928144\n",
      "15.508982035928144\n",
      "15.508982035928144\n",
      "15.508982035928144\n",
      "15.508982035928144\n",
      "15.508982035928144\n",
      "15.508982035928144\n",
      "15.508982035928144\n",
      "15.508982035928144\n",
      "15.508982035928144\n",
      "15.508982035928144\n",
      "15.508982035928144\n"
     ]
    },
    {
     "name": "stderr",
     "output_type": "stream",
     "text": [
      "Iter 1453 | Time 60.5343(61.2222) | Bit/dim 3.8967(3.9087) | Xent 1.1279(1.1791) | Loss 13.3389(10.8320) | Error 0.4062(0.4234) Steps 562(572.28) | Grad Norm 9.0271(13.5413) | Total Time 0.00(0.00)\n",
      "Iter 1454 | Time 60.1039(61.1887) | Bit/dim 3.8940(3.9083) | Xent 1.1609(1.1786) | Loss 10.1494(10.8115) | Error 0.4160(0.4232) Steps 580(572.51) | Grad Norm 7.0563(13.3468) | Total Time 0.00(0.00)\n",
      "Iter 1455 | Time 64.1380(61.2771) | Bit/dim 3.8882(3.9077) | Xent 1.1180(1.1767) | Loss 10.1782(10.7925) | Error 0.4022(0.4226) Steps 580(572.73) | Grad Norm 9.2749(13.2246) | Total Time 0.00(0.00)\n",
      "Iter 1456 | Time 57.2644(61.1568) | Bit/dim 3.9025(3.9075) | Xent 1.1377(1.1756) | Loss 9.9833(10.7682) | Error 0.4100(0.4222) Steps 556(572.23) | Grad Norm 7.1767(13.0432) | Total Time 0.00(0.00)\n",
      "Iter 1457 | Time 61.1662(61.1570) | Bit/dim 3.8933(3.9071) | Xent 1.1177(1.1738) | Loss 10.3518(10.7557) | Error 0.3994(0.4215) Steps 562(571.92) | Grad Norm 5.5304(12.8178) | Total Time 0.00(0.00)\n",
      "Iter 1458 | Time 59.7804(61.1157) | Bit/dim 3.8968(3.9068) | Xent 1.1233(1.1723) | Loss 9.9969(10.7329) | Error 0.4071(0.4211) Steps 574(571.99) | Grad Norm 9.7332(12.7253) | Total Time 0.00(0.00)\n",
      "validating...\n",
      "Epoch 0243 | Time 22.3316, Epoch Time 404.8168(406.5069), Bit/dim 3.8920(best: 3.8926), Xent 1.0854, Loss 4.4347, Error 0.3877(best: 0.3945)\n",
      "===> Using batch size 8000. Total 6 iterations/epoch.\n"
     ]
    },
    {
     "name": "stdout",
     "output_type": "stream",
     "text": [
      "15.449101796407188\n",
      "15.449101796407188\n",
      "15.449101796407188\n",
      "15.449101796407188\n",
      "15.449101796407188\n",
      "15.449101796407188\n",
      "15.449101796407188\n",
      "15.449101796407188\n",
      "15.449101796407188\n",
      "15.449101796407188\n",
      "15.449101796407188\n",
      "15.449101796407188\n",
      "15.449101796407188\n",
      "15.449101796407188\n"
     ]
    },
    {
     "name": "stderr",
     "output_type": "stream",
     "text": [
      "Iter 1459 | Time 63.2371(61.1794) | Bit/dim 3.8807(3.9060) | Xent 1.1160(1.1706) | Loss 13.3131(10.8103) | Error 0.4024(0.4205) Steps 568(571.87) | Grad Norm 9.6452(12.6329) | Total Time 0.00(0.00)\n",
      "Iter 1460 | Time 57.9173(61.0815) | Bit/dim 3.9042(3.9059) | Xent 1.1036(1.1686) | Loss 9.9688(10.7851) | Error 0.3945(0.4197) Steps 574(571.93) | Grad Norm 6.2578(12.4416) | Total Time 0.00(0.00)\n",
      "Iter 1461 | Time 58.7055(61.0102) | Bit/dim 3.8885(3.9054) | Xent 1.1196(1.1672) | Loss 10.3065(10.7707) | Error 0.3999(0.4191) Steps 562(571.63) | Grad Norm 9.7505(12.3609) | Total Time 0.00(0.00)\n",
      "Iter 1462 | Time 64.9207(61.1276) | Bit/dim 3.9085(3.9055) | Xent 1.1398(1.1663) | Loss 10.1900(10.7533) | Error 0.4079(0.4188) Steps 586(572.06) | Grad Norm 12.2865(12.3587) | Total Time 0.00(0.00)\n",
      "Iter 1463 | Time 60.3757(61.1050) | Bit/dim 3.8891(3.9050) | Xent 1.1649(1.1663) | Loss 10.2123(10.7371) | Error 0.4160(0.4187) Steps 562(571.76) | Grad Norm 20.5310(12.6038) | Total Time 0.00(0.00)\n",
      "Iter 1464 | Time 61.6330(61.1208) | Bit/dim 3.9143(3.9053) | Xent 1.1870(1.1669) | Loss 10.4388(10.7281) | Error 0.4225(0.4188) Steps 568(571.65) | Grad Norm 24.4208(12.9583) | Total Time 0.00(0.00)\n",
      "validating...\n",
      "Epoch 0244 | Time 23.5634, Epoch Time 409.1679(406.5867), Bit/dim 3.8940(best: 3.8920), Xent 1.0953, Loss 4.4417, Error 0.3923(best: 0.3877)\n",
      "===> Using batch size 8000. Total 6 iterations/epoch.\n"
     ]
    },
    {
     "name": "stdout",
     "output_type": "stream",
     "text": [
      "15.389221556886227\n",
      "15.389221556886227\n",
      "15.389221556886227\n",
      "15.389221556886227\n",
      "15.389221556886227\n",
      "15.389221556886227\n",
      "15.389221556886227\n",
      "15.389221556886227\n",
      "15.389221556886227\n",
      "15.389221556886227\n",
      "15.389221556886227\n",
      "15.389221556886227\n",
      "15.389221556886227\n",
      "15.389221556886227\n"
     ]
    },
    {
     "name": "stderr",
     "output_type": "stream",
     "text": [
      "Iter 1465 | Time 64.9413(61.2355) | Bit/dim 3.8952(3.9050) | Xent 1.1397(1.1661) | Loss 13.6063(10.8145) | Error 0.4107(0.4186) Steps 574(571.72) | Grad Norm 11.1366(12.9037) | Total Time 0.00(0.00)\n",
      "Iter 1466 | Time 62.0389(61.2596) | Bit/dim 3.8814(3.9043) | Xent 1.0899(1.1638) | Loss 10.3831(10.8015) | Error 0.3874(0.4176) Steps 568(571.61) | Grad Norm 8.1298(12.7605) | Total Time 0.00(0.00)\n",
      "Iter 1467 | Time 62.1146(61.2852) | Bit/dim 3.8825(3.9036) | Xent 1.1676(1.1639) | Loss 10.1598(10.7823) | Error 0.4229(0.4178) Steps 574(571.68) | Grad Norm 15.3472(12.8381) | Total Time 0.00(0.00)\n",
      "Iter 1468 | Time 59.6015(61.2347) | Bit/dim 3.8900(3.9032) | Xent 1.1424(1.1633) | Loss 10.1460(10.7632) | Error 0.4131(0.4177) Steps 562(571.39) | Grad Norm 15.7223(12.9246) | Total Time 0.00(0.00)\n",
      "Iter 1469 | Time 62.8674(61.2837) | Bit/dim 3.8754(3.9024) | Xent 1.1326(1.1624) | Loss 10.1883(10.7460) | Error 0.4030(0.4172) Steps 574(571.47) | Grad Norm 13.8434(12.9522) | Total Time 0.00(0.00)\n",
      "Iter 1470 | Time 57.8966(61.1821) | Bit/dim 3.8964(3.9022) | Xent 1.1616(1.1623) | Loss 9.9854(10.7231) | Error 0.4149(0.4172) Steps 586(571.90) | Grad Norm 18.8776(13.1299) | Total Time 0.00(0.00)\n",
      "validating...\n",
      "Epoch 0245 | Time 23.3150, Epoch Time 411.5031(406.7342), Bit/dim 3.8907(best: 3.8920), Xent 1.1490, Loss 4.4652, Error 0.4050(best: 0.3877)\n",
      "===> Using batch size 8000. Total 6 iterations/epoch.\n"
     ]
    },
    {
     "name": "stdout",
     "output_type": "stream",
     "text": [
      "15.329341317365268\n",
      "15.329341317365268\n",
      "15.329341317365268\n",
      "15.329341317365268\n",
      "15.329341317365268\n",
      "15.329341317365268\n",
      "15.329341317365268\n",
      "15.329341317365268\n",
      "15.329341317365268\n",
      "15.329341317365268\n",
      "15.329341317365268\n",
      "15.329341317365268\n",
      "15.329341317365268\n",
      "15.329341317365268\n"
     ]
    },
    {
     "name": "stderr",
     "output_type": "stream",
     "text": [
      "Iter 1471 | Time 64.8863(61.2932) | Bit/dim 3.8843(3.9017) | Xent 1.2092(1.1637) | Loss 13.9874(10.8211) | Error 0.4330(0.4176) Steps 580(572.15) | Grad Norm 20.5826(13.3535) | Total Time 0.00(0.00)\n",
      "Iter 1472 | Time 58.4752(61.2087) | Bit/dim 3.8858(3.9012) | Xent 1.1509(1.1634) | Loss 10.1042(10.7996) | Error 0.4155(0.4176) Steps 550(571.48) | Grad Norm 8.1559(13.1976) | Total Time 0.00(0.00)\n",
      "Iter 1473 | Time 57.5086(61.0977) | Bit/dim 3.9015(3.9012) | Xent 1.1206(1.1621) | Loss 10.3083(10.7848) | Error 0.3990(0.4170) Steps 568(571.38) | Grad Norm 15.1334(13.2556) | Total Time 0.00(0.00)\n",
      "Iter 1474 | Time 59.4237(61.0474) | Bit/dim 3.8864(3.9008) | Xent 1.1745(1.1624) | Loss 10.0947(10.7641) | Error 0.4229(0.4172) Steps 586(571.82) | Grad Norm 18.1325(13.4020) | Total Time 0.00(0.00)\n",
      "Iter 1475 | Time 65.1036(61.1691) | Bit/dim 3.8950(3.9006) | Xent 1.1412(1.1618) | Loss 10.3459(10.7516) | Error 0.4073(0.4169) Steps 544(570.98) | Grad Norm 11.7424(13.3522) | Total Time 0.00(0.00)\n",
      "Iter 1476 | Time 67.4215(61.3567) | Bit/dim 3.9053(3.9007) | Xent 1.1473(1.1614) | Loss 10.4160(10.7415) | Error 0.4060(0.4166) Steps 544(570.17) | Grad Norm 22.7724(13.6348) | Total Time 0.00(0.00)\n",
      "validating...\n",
      "Epoch 0246 | Time 23.4912, Epoch Time 415.7055(407.0034), Bit/dim 3.8848(best: 3.8907), Xent 1.0941, Loss 4.4319, Error 0.3933(best: 0.3877)\n",
      "===> Using batch size 8000. Total 6 iterations/epoch.\n"
     ]
    },
    {
     "name": "stdout",
     "output_type": "stream",
     "text": [
      "15.269461077844312\n",
      "15.269461077844312\n",
      "15.269461077844312\n",
      "15.269461077844312\n",
      "15.269461077844312\n",
      "15.269461077844312\n",
      "15.269461077844312\n",
      "15.269461077844312\n",
      "15.269461077844312\n",
      "15.269461077844312\n",
      "15.269461077844312\n",
      "15.269461077844312\n",
      "15.269461077844312\n",
      "15.269461077844312\n"
     ]
    },
    {
     "name": "stderr",
     "output_type": "stream",
     "text": [
      "Iter 1477 | Time 59.8825(61.3125) | Bit/dim 3.8621(3.8996) | Xent 1.1133(1.1599) | Loss 13.2957(10.8181) | Error 0.4006(0.4161) Steps 556(569.75) | Grad Norm 9.8452(13.5211) | Total Time 0.00(0.00)\n",
      "Iter 1478 | Time 61.1564(61.3078) | Bit/dim 3.8943(3.8994) | Xent 1.1418(1.1594) | Loss 10.1420(10.7978) | Error 0.4113(0.4159) Steps 592(570.42) | Grad Norm 14.1065(13.5387) | Total Time 0.00(0.00)\n",
      "Iter 1479 | Time 63.0734(61.3608) | Bit/dim 3.8912(3.8992) | Xent 1.1444(1.1589) | Loss 10.4606(10.7877) | Error 0.4109(0.4158) Steps 556(569.98) | Grad Norm 12.7268(13.5143) | Total Time 0.00(0.00)\n",
      "Iter 1480 | Time 60.6164(61.3384) | Bit/dim 3.8882(3.8988) | Xent 1.1256(1.1579) | Loss 10.3503(10.7746) | Error 0.4101(0.4156) Steps 556(569.56) | Grad Norm 6.2774(13.2972) | Total Time 0.00(0.00)\n",
      "Iter 1481 | Time 62.6149(61.3767) | Bit/dim 3.8855(3.8984) | Xent 1.1358(1.1573) | Loss 10.1651(10.7563) | Error 0.4012(0.4152) Steps 592(570.24) | Grad Norm 11.3999(13.2403) | Total Time 0.00(0.00)\n",
      "Iter 1482 | Time 61.6339(61.3844) | Bit/dim 3.8949(3.8983) | Xent 1.1036(1.1557) | Loss 10.2215(10.7403) | Error 0.3968(0.4146) Steps 574(570.35) | Grad Norm 7.1763(13.0583) | Total Time 0.00(0.00)\n",
      "validating...\n",
      "Epoch 0247 | Time 23.5043, Epoch Time 410.8935(407.1201), Bit/dim 3.8839(best: 3.8848), Xent 1.0748, Loss 4.4213, Error 0.3823(best: 0.3877)\n",
      "===> Using batch size 8000. Total 6 iterations/epoch.\n"
     ]
    },
    {
     "name": "stdout",
     "output_type": "stream",
     "text": [
      "15.209580838323355\n",
      "15.209580838323355\n",
      "15.209580838323355\n",
      "15.209580838323355\n",
      "15.209580838323355\n",
      "15.209580838323355\n",
      "15.209580838323355\n",
      "15.209580838323355\n",
      "15.209580838323355\n",
      "15.209580838323355\n",
      "15.209580838323355\n",
      "15.209580838323355\n",
      "15.209580838323355\n",
      "15.209580838323355\n"
     ]
    },
    {
     "name": "stderr",
     "output_type": "stream",
     "text": [
      "Iter 1483 | Time 62.0410(61.4041) | Bit/dim 3.8908(3.8981) | Xent 1.1198(1.1546) | Loss 13.7406(10.8303) | Error 0.4030(0.4143) Steps 562(570.10) | Grad Norm 6.1223(12.8503) | Total Time 0.00(0.00)\n",
      "Iter 1484 | Time 60.6832(61.3825) | Bit/dim 3.8776(3.8975) | Xent 1.1201(1.1536) | Loss 10.0690(10.8074) | Error 0.3981(0.4138) Steps 562(569.86) | Grad Norm 5.8823(12.6412) | Total Time 0.00(0.00)\n",
      "Iter 1485 | Time 61.2768(61.3793) | Bit/dim 3.8822(3.8970) | Xent 1.0795(1.1513) | Loss 10.1172(10.7867) | Error 0.3890(0.4131) Steps 568(569.80) | Grad Norm 4.7512(12.4045) | Total Time 0.00(0.00)\n",
      "Iter 1486 | Time 61.0947(61.3708) | Bit/dim 3.8834(3.8966) | Xent 1.0867(1.1494) | Loss 10.2080(10.7694) | Error 0.3922(0.4124) Steps 580(570.11) | Grad Norm 5.4541(12.1960) | Total Time 0.00(0.00)\n",
      "Iter 1487 | Time 61.4578(61.3734) | Bit/dim 3.8857(3.8963) | Xent 1.0834(1.1474) | Loss 10.1565(10.7510) | Error 0.3864(0.4116) Steps 574(570.22) | Grad Norm 4.6144(11.9686) | Total Time 0.00(0.00)\n",
      "Iter 1488 | Time 61.8251(61.3870) | Bit/dim 3.8772(3.8957) | Xent 1.1159(1.1465) | Loss 10.1847(10.7340) | Error 0.4009(0.4113) Steps 574(570.34) | Grad Norm 5.5021(11.7746) | Total Time 0.00(0.00)\n",
      "validating...\n",
      "Epoch 0248 | Time 23.3966, Epoch Time 409.9829(407.2060), Bit/dim 3.8799(best: 3.8839), Xent 1.0558, Loss 4.4078, Error 0.3728(best: 0.3823)\n",
      "===> Using batch size 8000. Total 6 iterations/epoch.\n"
     ]
    },
    {
     "name": "stdout",
     "output_type": "stream",
     "text": [
      "15.149700598802395\n",
      "15.149700598802395\n",
      "15.149700598802395\n",
      "15.149700598802395\n",
      "15.149700598802395\n",
      "15.149700598802395\n",
      "15.149700598802395\n",
      "15.149700598802395\n",
      "15.149700598802395\n",
      "15.149700598802395\n",
      "15.149700598802395\n",
      "15.149700598802395\n",
      "15.149700598802395\n",
      "15.149700598802395\n"
     ]
    },
    {
     "name": "stderr",
     "output_type": "stream",
     "text": [
      "Iter 1489 | Time 63.3998(61.4473) | Bit/dim 3.8715(3.8950) | Xent 1.0863(1.1447) | Loss 13.8186(10.8265) | Error 0.3881(0.4106) Steps 586(570.81) | Grad Norm 10.0651(11.7233) | Total Time 0.00(0.00)\n",
      "Iter 1490 | Time 60.1264(61.4077) | Bit/dim 3.8746(3.8944) | Xent 1.1108(1.1436) | Loss 10.1168(10.8052) | Error 0.3971(0.4102) Steps 568(570.72) | Grad Norm 15.1021(11.8247) | Total Time 0.00(0.00)\n",
      "Iter 1491 | Time 59.9932(61.3653) | Bit/dim 3.8849(3.8941) | Xent 1.1330(1.1433) | Loss 10.1789(10.7865) | Error 0.4035(0.4100) Steps 580(571.00) | Grad Norm 18.5888(12.0276) | Total Time 0.00(0.00)\n",
      "Iter 1492 | Time 60.3867(61.3359) | Bit/dim 3.8969(3.8942) | Xent 1.2105(1.1453) | Loss 10.3305(10.7728) | Error 0.4310(0.4107) Steps 568(570.91) | Grad Norm 23.2740(12.3650) | Total Time 0.00(0.00)\n",
      "Iter 1493 | Time 64.7891(61.4395) | Bit/dim 3.8841(3.8939) | Xent 1.1896(1.1467) | Loss 10.2963(10.7585) | Error 0.4280(0.4112) Steps 580(571.18) | Grad Norm 16.9914(12.5038) | Total Time 0.00(0.00)\n",
      "Iter 1494 | Time 65.3524(61.5569) | Bit/dim 3.8745(3.8933) | Xent 1.0893(1.1449) | Loss 9.9919(10.7355) | Error 0.3819(0.4103) Steps 580(571.45) | Grad Norm 10.3631(12.4395) | Total Time 0.00(0.00)\n",
      "validating...\n",
      "Epoch 0249 | Time 23.3480, Epoch Time 415.1938(407.4456), Bit/dim 3.8803(best: 3.8799), Xent 1.1227, Loss 4.4417, Error 0.4018(best: 0.3728)\n",
      "===> Using batch size 8000. Total 6 iterations/epoch.\n"
     ]
    },
    {
     "name": "stdout",
     "output_type": "stream",
     "text": [
      "15.089820359281436\n",
      "15.089820359281436\n",
      "15.089820359281436\n",
      "15.089820359281436\n",
      "15.089820359281436\n",
      "15.089820359281436\n",
      "15.089820359281436\n",
      "15.089820359281436\n",
      "15.089820359281436\n",
      "15.089820359281436\n",
      "15.089820359281436\n",
      "15.089820359281436\n",
      "15.089820359281436\n",
      "15.089820359281436\n"
     ]
    },
    {
     "name": "stderr",
     "output_type": "stream",
     "text": [
      "Iter 1495 | Time 62.3759(61.5815) | Bit/dim 3.8751(3.8927) | Xent 1.1607(1.1454) | Loss 13.7993(10.8274) | Error 0.4040(0.4101) Steps 574(571.52) | Grad Norm 19.1384(12.6405) | Total Time 0.00(0.00)\n",
      "Iter 1496 | Time 63.3990(61.6360) | Bit/dim 3.8924(3.8927) | Xent 1.1758(1.1463) | Loss 10.3764(10.8139) | Error 0.4174(0.4103) Steps 580(571.78) | Grad Norm 24.2932(12.9901) | Total Time 0.00(0.00)\n",
      "Iter 1497 | Time 58.4039(61.5390) | Bit/dim 3.8733(3.8922) | Xent 1.1475(1.1464) | Loss 10.2225(10.7961) | Error 0.4087(0.4103) Steps 580(572.03) | Grad Norm 12.6152(12.9788) | Total Time 0.00(0.00)\n",
      "Iter 1498 | Time 59.4267(61.4757) | Bit/dim 3.8877(3.8920) | Xent 1.1843(1.1475) | Loss 10.3349(10.7823) | Error 0.4259(0.4107) Steps 574(572.08) | Grad Norm 19.3371(13.1696) | Total Time 0.00(0.00)\n",
      "Iter 1499 | Time 60.9593(61.4602) | Bit/dim 3.8970(3.8922) | Xent 1.1375(1.1472) | Loss 10.3703(10.7699) | Error 0.4105(0.4107) Steps 574(572.14) | Grad Norm 11.4212(13.1171) | Total Time 0.00(0.00)\n",
      "Iter 1500 | Time 61.7645(61.4693) | Bit/dim 3.8808(3.8918) | Xent 1.1500(1.1473) | Loss 10.3321(10.7568) | Error 0.4096(0.4107) Steps 586(572.56) | Grad Norm 11.1546(13.0583) | Total Time 0.00(0.00)\n",
      "validating...\n",
      "Epoch 0250 | Time 23.7934, Epoch Time 407.3220(407.4419), Bit/dim 3.8832(best: 3.8799), Xent 1.0916, Loss 4.4290, Error 0.3841(best: 0.3728)\n",
      "===> Using batch size 8000. Total 6 iterations/epoch.\n"
     ]
    },
    {
     "name": "stdout",
     "output_type": "stream",
     "text": [
      "15.02994011976048\n",
      "15.02994011976048\n",
      "15.02994011976048\n",
      "15.02994011976048\n",
      "15.02994011976048\n",
      "15.02994011976048\n",
      "15.02994011976048\n",
      "15.02994011976048\n",
      "15.02994011976048\n",
      "15.02994011976048\n",
      "15.02994011976048\n",
      "15.02994011976048\n",
      "15.02994011976048\n",
      "15.02994011976048\n"
     ]
    },
    {
     "name": "stderr",
     "output_type": "stream",
     "text": [
      "Iter 1501 | Time 60.2461(61.4326) | Bit/dim 3.8860(3.8917) | Xent 1.1233(1.1466) | Loss 13.5852(10.8416) | Error 0.4040(0.4105) Steps 574(572.60) | Grad Norm 13.2707(13.0646) | Total Time 0.00(0.00)\n",
      "Iter 1502 | Time 59.8158(61.3841) | Bit/dim 3.8806(3.8913) | Xent 1.1087(1.1454) | Loss 9.9300(10.8143) | Error 0.3951(0.4100) Steps 568(572.46) | Grad Norm 6.0109(12.8530) | Total Time 0.00(0.00)\n",
      "Iter 1503 | Time 58.6761(61.3029) | Bit/dim 3.8827(3.8911) | Xent 1.0771(1.1434) | Loss 10.3348(10.7999) | Error 0.3828(0.4092) Steps 574(572.51) | Grad Norm 10.1767(12.7727) | Total Time 0.00(0.00)\n",
      "Iter 1504 | Time 62.6404(61.3430) | Bit/dim 3.8817(3.8908) | Xent 1.1232(1.1428) | Loss 10.2364(10.7830) | Error 0.4015(0.4090) Steps 616(573.81) | Grad Norm 9.0053(12.6597) | Total Time 0.00(0.00)\n",
      "Iter 1505 | Time 66.6391(61.5019) | Bit/dim 3.8712(3.8902) | Xent 1.1133(1.1419) | Loss 10.4263(10.7723) | Error 0.4041(0.4088) Steps 580(574.00) | Grad Norm 8.6029(12.5380) | Total Time 0.00(0.00)\n",
      "Iter 1506 | Time 62.4818(61.5313) | Bit/dim 3.8777(3.8898) | Xent 1.1108(1.1410) | Loss 10.1124(10.7525) | Error 0.3926(0.4084) Steps 568(573.82) | Grad Norm 11.9122(12.5192) | Total Time 0.00(0.00)\n",
      "validating...\n",
      "Epoch 0251 | Time 23.2649, Epoch Time 411.8642(407.5746), Bit/dim 3.8759(best: 3.8799), Xent 1.1028, Loss 4.4273, Error 0.3982(best: 0.3728)\n",
      "===> Using batch size 8000. Total 6 iterations/epoch.\n"
     ]
    },
    {
     "name": "stdout",
     "output_type": "stream",
     "text": [
      "14.97005988023952\n",
      "14.97005988023952\n",
      "14.97005988023952\n",
      "14.97005988023952\n",
      "14.97005988023952\n",
      "14.97005988023952\n",
      "14.97005988023952\n",
      "14.97005988023952\n",
      "14.97005988023952\n",
      "14.97005988023952\n",
      "14.97005988023952\n",
      "14.97005988023952\n",
      "14.97005988023952\n",
      "14.97005988023952\n"
     ]
    },
    {
     "name": "stderr",
     "output_type": "stream",
     "text": [
      "Iter 1507 | Time 62.5035(61.5604) | Bit/dim 3.8662(3.8891) | Xent 1.1319(1.1407) | Loss 13.4026(10.8320) | Error 0.4077(0.4083) Steps 562(573.46) | Grad Norm 11.6946(12.4945) | Total Time 0.00(0.00)\n",
      "Iter 1508 | Time 62.4467(61.5870) | Bit/dim 3.8789(3.8888) | Xent 1.1399(1.1407) | Loss 10.3069(10.8163) | Error 0.4120(0.4084) Steps 604(574.38) | Grad Norm 12.5703(12.4968) | Total Time 0.00(0.00)\n",
      "Iter 1509 | Time 61.7258(61.5912) | Bit/dim 3.8704(3.8883) | Xent 1.1058(1.1396) | Loss 10.3724(10.8029) | Error 0.3972(0.4081) Steps 586(574.73) | Grad Norm 11.9982(12.4818) | Total Time 0.00(0.00)\n",
      "Iter 1510 | Time 62.9649(61.6324) | Bit/dim 3.8839(3.8881) | Xent 1.0997(1.1384) | Loss 10.0757(10.7811) | Error 0.3952(0.4077) Steps 562(574.35) | Grad Norm 7.8447(12.3427) | Total Time 0.00(0.00)\n",
      "Iter 1511 | Time 61.4715(61.6276) | Bit/dim 3.8882(3.8881) | Xent 1.0917(1.1370) | Loss 10.1173(10.7612) | Error 0.3865(0.4071) Steps 580(574.52) | Grad Norm 7.0521(12.1840) | Total Time 0.00(0.00)\n",
      "Iter 1512 | Time 67.2137(61.7951) | Bit/dim 3.8690(3.8875) | Xent 1.1132(1.1363) | Loss 10.4564(10.7521) | Error 0.4002(0.4069) Steps 574(574.50) | Grad Norm 8.3982(12.0704) | Total Time 0.00(0.00)\n",
      "validating...\n",
      "Epoch 0252 | Time 23.5532, Epoch Time 420.1231(407.9510), Bit/dim 3.8714(best: 3.8759), Xent 1.0513, Loss 4.3970, Error 0.3707(best: 0.3728)\n",
      "===> Using batch size 8000. Total 6 iterations/epoch.\n"
     ]
    },
    {
     "name": "stdout",
     "output_type": "stream",
     "text": [
      "14.910179640718564\n",
      "14.910179640718564\n",
      "14.910179640718564\n",
      "14.910179640718564\n",
      "14.910179640718564\n",
      "14.910179640718564\n",
      "14.910179640718564\n",
      "14.910179640718564\n",
      "14.910179640718564\n",
      "14.910179640718564\n",
      "14.910179640718564\n",
      "14.910179640718564\n",
      "14.910179640718564\n",
      "14.910179640718564\n"
     ]
    },
    {
     "name": "stderr",
     "output_type": "stream",
     "text": [
      "Iter 1513 | Time 58.9155(61.7088) | Bit/dim 3.8770(3.8872) | Xent 1.1005(1.1352) | Loss 13.4972(10.8344) | Error 0.3941(0.4065) Steps 586(574.85) | Grad Norm 8.9894(11.9780) | Total Time 0.00(0.00)\n",
      "Iter 1514 | Time 63.6871(61.7681) | Bit/dim 3.8686(3.8867) | Xent 1.0757(1.1334) | Loss 10.0597(10.8112) | Error 0.3872(0.4059) Steps 586(575.18) | Grad Norm 7.0058(11.8288) | Total Time 0.00(0.00)\n",
      "Iter 1515 | Time 61.4018(61.7571) | Bit/dim 3.8704(3.8862) | Xent 1.0914(1.1322) | Loss 9.9754(10.7861) | Error 0.3881(0.4054) Steps 586(575.51) | Grad Norm 6.7040(11.6751) | Total Time 0.00(0.00)\n",
      "Iter 1516 | Time 62.0236(61.7651) | Bit/dim 3.8709(3.8857) | Xent 1.1103(1.1315) | Loss 10.3264(10.7723) | Error 0.3985(0.4052) Steps 586(575.82) | Grad Norm 13.5921(11.7326) | Total Time 0.00(0.00)\n",
      "Iter 1517 | Time 61.7561(61.7648) | Bit/dim 3.8750(3.8854) | Xent 1.0970(1.1305) | Loss 10.2426(10.7564) | Error 0.3956(0.4049) Steps 586(576.13) | Grad Norm 16.2286(11.8675) | Total Time 0.00(0.00)\n",
      "Iter 1518 | Time 61.3017(61.7509) | Bit/dim 3.8762(3.8851) | Xent 1.0851(1.1291) | Loss 10.0478(10.7352) | Error 0.3935(0.4046) Steps 586(576.42) | Grad Norm 12.2343(11.8785) | Total Time 0.00(0.00)\n",
      "validating...\n",
      "Epoch 0253 | Time 23.1885, Epoch Time 410.2866(408.0211), Bit/dim 3.8669(best: 3.8714), Xent 1.0389, Loss 4.3864, Error 0.3680(best: 0.3707)\n",
      "===> Using batch size 8000. Total 6 iterations/epoch.\n"
     ]
    },
    {
     "name": "stdout",
     "output_type": "stream",
     "text": [
      "14.850299401197605\n",
      "14.850299401197605\n",
      "14.850299401197605\n",
      "14.850299401197605\n",
      "14.850299401197605\n",
      "14.850299401197605\n",
      "14.850299401197605\n",
      "14.850299401197605\n",
      "14.850299401197605\n",
      "14.850299401197605\n",
      "14.850299401197605\n",
      "14.850299401197605\n",
      "14.850299401197605\n",
      "14.850299401197605\n"
     ]
    },
    {
     "name": "stderr",
     "output_type": "stream",
     "text": [
      "Iter 1519 | Time 64.0072(61.8186) | Bit/dim 3.8644(3.8845) | Xent 1.0579(1.1270) | Loss 13.5029(10.8182) | Error 0.3785(0.4038) Steps 568(576.17) | Grad Norm 4.8300(11.6670) | Total Time 0.00(0.00)\n",
      "Iter 1520 | Time 60.9300(61.7920) | Bit/dim 3.8702(3.8841) | Xent 1.0876(1.1258) | Loss 10.0671(10.7957) | Error 0.3900(0.4034) Steps 592(576.64) | Grad Norm 10.4964(11.6319) | Total Time 0.00(0.00)\n",
      "Iter 1521 | Time 61.5758(61.7855) | Bit/dim 3.8789(3.8839) | Xent 1.0864(1.1246) | Loss 10.1517(10.7763) | Error 0.3930(0.4030) Steps 574(576.56) | Grad Norm 14.6924(11.7237) | Total Time 0.00(0.00)\n",
      "Iter 1522 | Time 57.7050(61.6631) | Bit/dim 3.8751(3.8837) | Xent 1.0871(1.1235) | Loss 10.0620(10.7549) | Error 0.3878(0.4026) Steps 574(576.49) | Grad Norm 10.7302(11.6939) | Total Time 0.00(0.00)\n",
      "Iter 1523 | Time 57.9985(61.5531) | Bit/dim 3.8578(3.8829) | Xent 1.0754(1.1221) | Loss 10.2758(10.7405) | Error 0.3828(0.4020) Steps 592(576.95) | Grad Norm 4.2233(11.4698) | Total Time 0.00(0.00)\n",
      "Iter 1524 | Time 60.5060(61.5217) | Bit/dim 3.8632(3.8823) | Xent 1.0714(1.1205) | Loss 10.1762(10.7236) | Error 0.3818(0.4014) Steps 574(576.86) | Grad Norm 7.8069(11.3599) | Total Time 0.00(0.00)\n",
      "validating...\n",
      "Epoch 0254 | Time 23.6098, Epoch Time 404.9360(407.9285), Bit/dim 3.8707(best: 3.8669), Xent 1.0514, Loss 4.3964, Error 0.3763(best: 0.3680)\n",
      "===> Using batch size 8000. Total 6 iterations/epoch.\n"
     ]
    },
    {
     "name": "stdout",
     "output_type": "stream",
     "text": [
      "14.790419161676647\n",
      "14.790419161676647\n",
      "14.790419161676647\n",
      "14.790419161676647\n",
      "14.790419161676647\n",
      "14.790419161676647\n",
      "14.790419161676647\n",
      "14.790419161676647\n",
      "14.790419161676647\n",
      "14.790419161676647\n",
      "14.790419161676647\n",
      "14.790419161676647\n",
      "14.790419161676647\n",
      "14.790419161676647\n"
     ]
    },
    {
     "name": "stderr",
     "output_type": "stream",
     "text": [
      "Iter 1525 | Time 59.5012(61.4611) | Bit/dim 3.8773(3.8821) | Xent 1.0747(1.1192) | Loss 13.4732(10.8061) | Error 0.3864(0.4009) Steps 562(576.42) | Grad Norm 9.2443(11.2964) | Total Time 0.00(0.00)\n",
      "Iter 1526 | Time 62.1749(61.4825) | Bit/dim 3.8735(3.8819) | Xent 1.1044(1.1187) | Loss 10.0340(10.7829) | Error 0.3918(0.4007) Steps 568(576.17) | Grad Norm 16.8533(11.4631) | Total Time 0.00(0.00)\n",
      "Iter 1527 | Time 61.6711(61.4882) | Bit/dim 3.8734(3.8816) | Xent 1.2028(1.1212) | Loss 10.0753(10.7617) | Error 0.4241(0.4014) Steps 550(575.38) | Grad Norm 28.8787(11.9856) | Total Time 0.00(0.00)\n",
      "Iter 1528 | Time 58.5576(61.4003) | Bit/dim 3.8606(3.8810) | Xent 1.1201(1.1212) | Loss 10.2506(10.7464) | Error 0.4008(0.4013) Steps 568(575.16) | Grad Norm 10.3488(11.9365) | Total Time 0.00(0.00)\n",
      "Iter 1529 | Time 58.2596(61.3060) | Bit/dim 3.8746(3.8808) | Xent 1.2223(1.1242) | Loss 10.5619(10.7408) | Error 0.4390(0.4025) Steps 574(575.13) | Grad Norm 22.4639(12.2523) | Total Time 0.00(0.00)\n",
      "Iter 1530 | Time 61.5511(61.3134) | Bit/dim 3.8877(3.8810) | Xent 1.3179(1.1301) | Loss 10.2966(10.7275) | Error 0.4650(0.4044) Steps 568(574.91) | Grad Norm 33.7899(12.8984) | Total Time 0.00(0.00)\n",
      "validating...\n",
      "Epoch 0255 | Time 24.2029, Epoch Time 403.6174(407.7992), Bit/dim 3.8792(best: 3.8669), Xent 1.1288, Loss 4.4436, Error 0.4052(best: 0.3680)\n",
      "===> Using batch size 8000. Total 6 iterations/epoch.\n"
     ]
    },
    {
     "name": "stdout",
     "output_type": "stream",
     "text": [
      "14.730538922155688\n",
      "14.730538922155688\n",
      "14.730538922155688\n",
      "14.730538922155688\n",
      "14.730538922155688\n",
      "14.730538922155688\n",
      "14.730538922155688\n",
      "14.730538922155688\n",
      "14.730538922155688\n",
      "14.730538922155688\n",
      "14.730538922155688\n",
      "14.730538922155688\n",
      "14.730538922155688\n",
      "14.730538922155688\n"
     ]
    },
    {
     "name": "stderr",
     "output_type": "stream",
     "text": [
      "Iter 1531 | Time 56.7847(61.1775) | Bit/dim 3.8782(3.8809) | Xent 1.1767(1.1315) | Loss 13.7308(10.8176) | Error 0.4184(0.4048) Steps 556(574.34) | Grad Norm 12.0092(12.8718) | Total Time 0.00(0.00)\n",
      "Iter 1532 | Time 57.9476(61.0806) | Bit/dim 3.8976(3.8814) | Xent 1.3299(1.1374) | Loss 10.4798(10.8075) | Error 0.4626(0.4065) Steps 586(574.69) | Grad Norm 28.7730(13.3488) | Total Time 0.00(0.00)\n",
      "Iter 1533 | Time 61.8586(61.1040) | Bit/dim 3.8740(3.8812) | Xent 1.1834(1.1388) | Loss 10.3455(10.7936) | Error 0.4216(0.4070) Steps 616(575.93) | Grad Norm 11.0349(13.2794) | Total Time 0.00(0.00)\n",
      "Iter 1534 | Time 66.7456(61.2732) | Bit/dim 3.8747(3.8810) | Xent 1.2340(1.1416) | Loss 10.1164(10.7733) | Error 0.4390(0.4079) Steps 610(576.95) | Grad Norm 19.7227(13.4727) | Total Time 0.00(0.00)\n",
      "Iter 1535 | Time 62.8106(61.3193) | Bit/dim 3.9124(3.8820) | Xent 1.2254(1.1442) | Loss 10.2363(10.7572) | Error 0.4416(0.4089) Steps 598(577.59) | Grad Norm 21.9823(13.7280) | Total Time 0.00(0.00)\n",
      "Iter 1536 | Time 60.1325(61.2837) | Bit/dim 3.9024(3.8826) | Xent 1.2208(1.1465) | Loss 10.4987(10.7494) | Error 0.4454(0.4100) Steps 556(576.94) | Grad Norm 16.3949(13.8080) | Total Time 0.00(0.00)\n",
      "validating...\n",
      "Epoch 0256 | Time 23.5737, Epoch Time 406.7576(407.7679), Bit/dim 3.8827(best: 3.8669), Xent 1.1050, Loss 4.4352, Error 0.3963(best: 0.3680)\n",
      "===> Using batch size 8000. Total 6 iterations/epoch.\n"
     ]
    },
    {
     "name": "stdout",
     "output_type": "stream",
     "text": [
      "14.670658682634732\n",
      "14.670658682634732\n",
      "14.670658682634732\n",
      "14.670658682634732\n",
      "14.670658682634732\n",
      "14.670658682634732\n",
      "14.670658682634732\n",
      "14.670658682634732\n",
      "14.670658682634732\n",
      "14.670658682634732\n",
      "14.670658682634732\n",
      "14.670658682634732\n",
      "14.670658682634732\n",
      "14.670658682634732\n"
     ]
    },
    {
     "name": "stderr",
     "output_type": "stream",
     "text": [
      "Iter 1537 | Time 61.6989(61.2962) | Bit/dim 3.8687(3.8821) | Xent 1.1344(1.1461) | Loss 13.6673(10.8370) | Error 0.4070(0.4099) Steps 562(576.49) | Grad Norm 8.4468(13.6472) | Total Time 0.00(0.00)\n",
      "Iter 1538 | Time 64.1396(61.3815) | Bit/dim 3.8808(3.8821) | Xent 1.1778(1.1471) | Loss 9.9731(10.8111) | Error 0.4185(0.4102) Steps 586(576.78) | Grad Norm 13.3543(13.6384) | Total Time 0.00(0.00)\n",
      "Iter 1539 | Time 62.3686(61.4111) | Bit/dim 3.8847(3.8822) | Xent 1.1817(1.1481) | Loss 10.1409(10.7910) | Error 0.4215(0.4105) Steps 574(576.69) | Grad Norm 9.2079(13.5055) | Total Time 0.00(0.00)\n",
      "Iter 1540 | Time 57.6836(61.2993) | Bit/dim 3.8860(3.8823) | Xent 1.1332(1.1476) | Loss 10.2976(10.7762) | Error 0.4099(0.4105) Steps 580(576.79) | Grad Norm 6.7401(13.3025) | Total Time 0.00(0.00)\n",
      "Iter 1541 | Time 58.8760(61.2266) | Bit/dim 3.8772(3.8821) | Xent 1.1710(1.1483) | Loss 10.3466(10.7633) | Error 0.4201(0.4108) Steps 562(576.35) | Grad Norm 8.5993(13.1614) | Total Time 0.00(0.00)\n",
      "Iter 1542 | Time 57.7389(61.1220) | Bit/dim 3.8822(3.8821) | Xent 1.1724(1.1491) | Loss 10.2853(10.7489) | Error 0.4273(0.4113) Steps 556(575.74) | Grad Norm 7.8819(13.0030) | Total Time 0.00(0.00)\n",
      "validating...\n",
      "Epoch 0257 | Time 23.1840, Epoch Time 403.1767(407.6302), Bit/dim 3.8781(best: 3.8669), Xent 1.1162, Loss 4.4362, Error 0.3996(best: 0.3680)\n",
      "===> Using batch size 8000. Total 6 iterations/epoch.\n"
     ]
    },
    {
     "name": "stdout",
     "output_type": "stream",
     "text": [
      "14.610778443113773\n",
      "14.610778443113773\n",
      "14.610778443113773\n",
      "14.610778443113773\n",
      "14.610778443113773\n",
      "14.610778443113773\n",
      "14.610778443113773\n",
      "14.610778443113773\n",
      "14.610778443113773\n",
      "14.610778443113773\n",
      "14.610778443113773\n",
      "14.610778443113773\n",
      "14.610778443113773\n",
      "14.610778443113773\n"
     ]
    },
    {
     "name": "stderr",
     "output_type": "stream",
     "text": [
      "Iter 1543 | Time 58.8557(61.0540) | Bit/dim 3.8769(3.8820) | Xent 1.1446(1.1489) | Loss 13.4457(10.8298) | Error 0.4114(0.4113) Steps 580(575.87) | Grad Norm 9.4434(12.8962) | Total Time 0.00(0.00)\n",
      "Iter 1544 | Time 62.7307(61.1043) | Bit/dim 3.8890(3.8822) | Xent 1.1334(1.1485) | Loss 10.2100(10.8112) | Error 0.4055(0.4111) Steps 604(576.71) | Grad Norm 7.4429(12.7326) | Total Time 0.00(0.00)\n",
      "Iter 1545 | Time 61.2669(61.1091) | Bit/dim 3.8639(3.8817) | Xent 1.1510(1.1485) | Loss 10.3387(10.7971) | Error 0.4086(0.4110) Steps 586(576.99) | Grad Norm 9.3609(12.6315) | Total Time 0.00(0.00)\n",
      "Iter 1546 | Time 63.4785(61.1802) | Bit/dim 3.8675(3.8812) | Xent 1.1572(1.1488) | Loss 10.3527(10.7837) | Error 0.4144(0.4111) Steps 598(577.62) | Grad Norm 8.3601(12.5033) | Total Time 0.00(0.00)\n",
      "Iter 1547 | Time 62.8456(61.2302) | Bit/dim 3.8590(3.8806) | Xent 1.1403(1.1485) | Loss 10.3327(10.7702) | Error 0.4125(0.4112) Steps 616(578.77) | Grad Norm 8.1193(12.3718) | Total Time 0.00(0.00)\n",
      "Iter 1548 | Time 61.1777(61.2286) | Bit/dim 3.8746(3.8804) | Xent 1.1626(1.1490) | Loss 10.0999(10.7501) | Error 0.4184(0.4114) Steps 586(578.99) | Grad Norm 12.2787(12.3690) | Total Time 0.00(0.00)\n",
      "validating...\n",
      "Epoch 0258 | Time 23.7826, Epoch Time 412.5378(407.7774), Bit/dim 3.8689(best: 3.8669), Xent 1.0881, Loss 4.4130, Error 0.3901(best: 0.3680)\n",
      "===> Using batch size 8000. Total 6 iterations/epoch.\n"
     ]
    },
    {
     "name": "stdout",
     "output_type": "stream",
     "text": [
      "14.550898203592816\n",
      "14.550898203592816\n",
      "14.550898203592816\n",
      "14.550898203592816\n",
      "14.550898203592816\n",
      "14.550898203592816\n",
      "14.550898203592816\n",
      "14.550898203592816\n",
      "14.550898203592816\n",
      "14.550898203592816\n",
      "14.550898203592816\n",
      "14.550898203592816\n",
      "14.550898203592816\n",
      "14.550898203592816\n"
     ]
    },
    {
     "name": "stderr",
     "output_type": "stream",
     "text": [
      "Iter 1549 | Time 62.1923(61.2575) | Bit/dim 3.8657(3.8799) | Xent 1.1243(1.1482) | Loss 13.2402(10.8248) | Error 0.4084(0.4113) Steps 580(579.02) | Grad Norm 9.7351(12.2900) | Total Time 0.00(0.00)\n",
      "Iter 1550 | Time 65.9647(61.3987) | Bit/dim 3.8537(3.8792) | Xent 1.1156(1.1472) | Loss 10.3576(10.8108) | Error 0.3959(0.4109) Steps 556(578.33) | Grad Norm 4.8122(12.0657) | Total Time 0.00(0.00)\n",
      "Iter 1551 | Time 60.3334(61.3668) | Bit/dim 3.8756(3.8791) | Xent 1.1379(1.1470) | Loss 10.2687(10.7945) | Error 0.3991(0.4105) Steps 574(578.20) | Grad Norm 11.4785(12.0481) | Total Time 0.00(0.00)\n",
      "Iter 1552 | Time 61.6594(61.3756) | Bit/dim 3.8822(3.8791) | Xent 1.1196(1.1461) | Loss 10.2064(10.7769) | Error 0.4010(0.4102) Steps 592(578.61) | Grad Norm 8.0114(11.9270) | Total Time 0.00(0.00)\n",
      "Iter 1553 | Time 60.1204(61.3379) | Bit/dim 3.8560(3.8785) | Xent 1.1090(1.1450) | Loss 9.9267(10.7514) | Error 0.4016(0.4100) Steps 586(578.83) | Grad Norm 8.3935(11.8209) | Total Time 0.00(0.00)\n",
      "Iter 1554 | Time 59.4350(61.2808) | Bit/dim 3.8653(3.8781) | Xent 1.1234(1.1444) | Loss 9.9098(10.7261) | Error 0.4040(0.4098) Steps 562(578.33) | Grad Norm 9.8003(11.7603) | Total Time 0.00(0.00)\n",
      "validating...\n",
      "Epoch 0259 | Time 23.1296, Epoch Time 410.6872(407.8647), Bit/dim 3.8673(best: 3.8669), Xent 1.0757, Loss 4.4052, Error 0.3868(best: 0.3680)\n",
      "===> Using batch size 8000. Total 6 iterations/epoch.\n"
     ]
    },
    {
     "name": "stdout",
     "output_type": "stream",
     "text": [
      "14.491017964071856\n",
      "14.491017964071856\n",
      "14.491017964071856\n",
      "14.491017964071856\n",
      "14.491017964071856\n",
      "14.491017964071856\n",
      "14.491017964071856\n",
      "14.491017964071856\n",
      "14.491017964071856\n",
      "14.491017964071856\n",
      "14.491017964071856\n",
      "14.491017964071856\n",
      "14.491017964071856\n",
      "14.491017964071856\n"
     ]
    },
    {
     "name": "stderr",
     "output_type": "stream",
     "text": [
      "Iter 1555 | Time 60.1516(61.2469) | Bit/dim 3.8632(3.8776) | Xent 1.0981(1.1430) | Loss 13.5985(10.8123) | Error 0.3906(0.4092) Steps 574(578.20) | Grad Norm 7.2149(11.6240) | Total Time 0.00(0.00)\n",
      "Iter 1556 | Time 65.5627(61.3764) | Bit/dim 3.8597(3.8771) | Xent 1.0793(1.1411) | Loss 10.1198(10.7915) | Error 0.3906(0.4086) Steps 580(578.25) | Grad Norm 8.3506(11.5258) | Total Time 0.00(0.00)\n",
      "Iter 1557 | Time 63.5477(61.4416) | Bit/dim 3.8559(3.8764) | Xent 1.1032(1.1399) | Loss 10.2268(10.7746) | Error 0.3960(0.4083) Steps 598(578.84) | Grad Norm 11.7921(11.5338) | Total Time 0.00(0.00)\n",
      "Iter 1558 | Time 64.4299(61.5312) | Bit/dim 3.8528(3.8757) | Xent 1.0796(1.1381) | Loss 10.0541(10.7530) | Error 0.3952(0.4079) Steps 586(579.06) | Grad Norm 10.1599(11.4925) | Total Time 0.00(0.00)\n",
      "Iter 1559 | Time 58.6061(61.4434) | Bit/dim 3.8634(3.8754) | Xent 1.0822(1.1365) | Loss 10.1553(10.7350) | Error 0.3866(0.4072) Steps 586(579.27) | Grad Norm 6.9123(11.3551) | Total Time 0.00(0.00)\n",
      "Iter 1560 | Time 58.5599(61.3569) | Bit/dim 3.8650(3.8751) | Xent 1.1048(1.1355) | Loss 10.3860(10.7246) | Error 0.3944(0.4069) Steps 574(579.11) | Grad Norm 9.9078(11.3117) | Total Time 0.00(0.00)\n",
      "validating...\n",
      "Epoch 0260 | Time 23.4851, Epoch Time 412.4460(408.0022), Bit/dim 3.8602(best: 3.8669), Xent 1.0707, Loss 4.3955, Error 0.3809(best: 0.3680)\n",
      "===> Using batch size 8000. Total 6 iterations/epoch.\n"
     ]
    },
    {
     "name": "stdout",
     "output_type": "stream",
     "text": [
      "14.4311377245509\n",
      "14.4311377245509\n",
      "14.4311377245509\n",
      "14.4311377245509\n",
      "14.4311377245509\n",
      "14.4311377245509\n",
      "14.4311377245509\n",
      "14.4311377245509\n",
      "14.4311377245509\n",
      "14.4311377245509\n",
      "14.4311377245509\n",
      "14.4311377245509\n",
      "14.4311377245509\n",
      "14.4311377245509\n"
     ]
    },
    {
     "name": "stderr",
     "output_type": "stream",
     "text": [
      "Iter 1561 | Time 61.0189(61.3468) | Bit/dim 3.8611(3.8746) | Xent 1.0793(1.1338) | Loss 13.5799(10.8102) | Error 0.3882(0.4063) Steps 580(579.14) | Grad Norm 14.1220(11.3960) | Total Time 0.00(0.00)\n",
      "Iter 1562 | Time 58.2634(61.2543) | Bit/dim 3.8754(3.8747) | Xent 1.0804(1.1322) | Loss 9.9074(10.7831) | Error 0.3904(0.4058) Steps 550(578.26) | Grad Norm 16.2596(11.5419) | Total Time 0.00(0.00)\n",
      "Iter 1563 | Time 65.5326(61.3826) | Bit/dim 3.8667(3.8744) | Xent 1.0642(1.1302) | Loss 10.2757(10.7679) | Error 0.3824(0.4051) Steps 604(579.03) | Grad Norm 11.7198(11.5473) | Total Time 0.00(0.00)\n",
      "Iter 1564 | Time 63.0396(61.4324) | Bit/dim 3.8616(3.8740) | Xent 1.0912(1.1290) | Loss 10.2642(10.7528) | Error 0.3864(0.4046) Steps 568(578.70) | Grad Norm 11.0613(11.5327) | Total Time 0.00(0.00)\n",
      "Iter 1565 | Time 56.4164(61.2819) | Bit/dim 3.8530(3.8734) | Xent 1.1160(1.1286) | Loss 10.2136(10.7366) | Error 0.3956(0.4043) Steps 562(578.20) | Grad Norm 11.6919(11.5375) | Total Time 0.00(0.00)\n",
      "Iter 1566 | Time 63.9847(61.3630) | Bit/dim 3.8523(3.8728) | Xent 1.1193(1.1283) | Loss 10.4935(10.7293) | Error 0.4009(0.4042) Steps 586(578.44) | Grad Norm 10.3883(11.5030) | Total Time 0.00(0.00)\n",
      "validating...\n",
      "Epoch 0261 | Time 23.2228, Epoch Time 409.5650(408.0491), Bit/dim 3.8566(best: 3.8602), Xent 1.0423, Loss 4.3778, Error 0.3707(best: 0.3680)\n",
      "===> Using batch size 8000. Total 6 iterations/epoch.\n"
     ]
    },
    {
     "name": "stdout",
     "output_type": "stream",
     "text": [
      "14.37125748502994\n",
      "14.37125748502994\n",
      "14.37125748502994\n",
      "14.37125748502994\n",
      "14.37125748502994\n",
      "14.37125748502994\n",
      "14.37125748502994\n",
      "14.37125748502994\n",
      "14.37125748502994\n",
      "14.37125748502994\n",
      "14.37125748502994\n",
      "14.37125748502994\n",
      "14.37125748502994\n",
      "14.37125748502994\n"
     ]
    },
    {
     "name": "stderr",
     "output_type": "stream",
     "text": [
      "Iter 1567 | Time 63.8688(61.4381) | Bit/dim 3.8373(3.8717) | Xent 1.0569(1.1262) | Loss 13.7709(10.8206) | Error 0.3774(0.4034) Steps 586(578.66) | Grad Norm 12.0424(11.5192) | Total Time 0.00(0.00)\n",
      "Iter 1568 | Time 58.9891(61.3647) | Bit/dim 3.8715(3.8717) | Xent 1.1135(1.1258) | Loss 10.3760(10.8072) | Error 0.3955(0.4031) Steps 574(578.52) | Grad Norm 22.3794(11.8450) | Total Time 0.00(0.00)\n",
      "Iter 1569 | Time 60.7755(61.3470) | Bit/dim 3.8699(3.8716) | Xent 1.0917(1.1248) | Loss 10.0778(10.7854) | Error 0.3960(0.4029) Steps 586(578.75) | Grad Norm 17.2261(12.0064) | Total Time 0.00(0.00)\n",
      "Iter 1570 | Time 60.4981(61.3215) | Bit/dim 3.8569(3.8712) | Xent 1.0516(1.1226) | Loss 10.1340(10.7658) | Error 0.3816(0.4023) Steps 574(578.60) | Grad Norm 7.8628(11.8821) | Total Time 0.00(0.00)\n",
      "Iter 1571 | Time 60.3945(61.2937) | Bit/dim 3.8671(3.8711) | Xent 1.1321(1.1229) | Loss 10.3348(10.7529) | Error 0.4022(0.4023) Steps 574(578.47) | Grad Norm 17.9745(12.0649) | Total Time 0.00(0.00)\n",
      "Iter 1572 | Time 64.7416(61.3971) | Bit/dim 3.8619(3.8708) | Xent 1.1117(1.1226) | Loss 10.2385(10.7375) | Error 0.3986(0.4022) Steps 592(578.87) | Grad Norm 13.3613(12.1038) | Total Time 0.00(0.00)\n",
      "validating...\n",
      "Epoch 0262 | Time 23.6667, Epoch Time 411.2424(408.1449), Bit/dim 3.8623(best: 3.8566), Xent 1.0437, Loss 4.3841, Error 0.3736(best: 0.3680)\n",
      "===> Using batch size 8000. Total 6 iterations/epoch.\n"
     ]
    },
    {
     "name": "stdout",
     "output_type": "stream",
     "text": [
      "14.31137724550898\n",
      "14.31137724550898\n",
      "14.31137724550898\n",
      "14.31137724550898\n",
      "14.31137724550898\n",
      "14.31137724550898\n",
      "14.31137724550898\n",
      "14.31137724550898\n",
      "14.31137724550898\n",
      "14.31137724550898\n",
      "14.31137724550898\n",
      "14.31137724550898\n",
      "14.31137724550898\n",
      "14.31137724550898\n"
     ]
    },
    {
     "name": "stderr",
     "output_type": "stream",
     "text": [
      "Iter 1573 | Time 59.7412(61.3475) | Bit/dim 3.8573(3.8704) | Xent 1.0735(1.1211) | Loss 13.4387(10.8185) | Error 0.3820(0.4016) Steps 568(578.55) | Grad Norm 14.9546(12.1893) | Total Time 0.00(0.00)\n",
      "Iter 1574 | Time 58.3749(61.2583) | Bit/dim 3.8749(3.8705) | Xent 1.0756(1.1197) | Loss 10.0501(10.7954) | Error 0.3788(0.4009) Steps 550(577.69) | Grad Norm 20.2296(12.4305) | Total Time 0.00(0.00)\n",
      "Iter 1575 | Time 61.1160(61.2540) | Bit/dim 3.8615(3.8703) | Xent 1.1119(1.1195) | Loss 10.2757(10.7799) | Error 0.3962(0.4007) Steps 568(577.40) | Grad Norm 17.0360(12.5687) | Total Time 0.00(0.00)\n",
      "Iter 1576 | Time 65.1761(61.3717) | Bit/dim 3.8634(3.8701) | Xent 1.1361(1.1200) | Loss 10.2677(10.7645) | Error 0.4075(0.4009) Steps 574(577.30) | Grad Norm 14.7146(12.6330) | Total Time 0.00(0.00)\n",
      "Iter 1577 | Time 59.6563(61.3202) | Bit/dim 3.8572(3.8697) | Xent 1.0837(1.1189) | Loss 10.3066(10.7507) | Error 0.3881(0.4006) Steps 568(577.02) | Grad Norm 10.4303(12.5670) | Total Time 0.00(0.00)\n",
      "Iter 1578 | Time 60.4365(61.2937) | Bit/dim 3.8470(3.8690) | Xent 1.1241(1.1190) | Loss 10.0924(10.7310) | Error 0.4042(0.4007) Steps 580(577.11) | Grad Norm 10.4705(12.5041) | Total Time 0.00(0.00)\n",
      "validating...\n",
      "Epoch 0263 | Time 23.2197, Epoch Time 405.9247(408.0782), Bit/dim 3.8600(best: 3.8566), Xent 1.0371, Loss 4.3785, Error 0.3642(best: 0.3680)\n",
      "===> Using batch size 8000. Total 6 iterations/epoch.\n"
     ]
    },
    {
     "name": "stdout",
     "output_type": "stream",
     "text": [
      "14.251497005988025\n",
      "14.251497005988025\n",
      "14.251497005988025\n",
      "14.251497005988025\n",
      "14.251497005988025\n",
      "14.251497005988025\n",
      "14.251497005988025\n",
      "14.251497005988025\n",
      "14.251497005988025\n",
      "14.251497005988025\n",
      "14.251497005988025\n",
      "14.251497005988025\n",
      "14.251497005988025\n",
      "14.251497005988025\n"
     ]
    },
    {
     "name": "stderr",
     "output_type": "stream",
     "text": [
      "Iter 1579 | Time 62.8970(61.3418) | Bit/dim 3.8560(3.8686) | Xent 1.0766(1.1178) | Loss 13.7065(10.8203) | Error 0.3824(0.4001) Steps 568(576.83) | Grad Norm 13.9464(12.5473) | Total Time 0.00(0.00)\n",
      "Iter 1580 | Time 63.7931(61.4154) | Bit/dim 3.8601(3.8683) | Xent 1.1061(1.1174) | Loss 10.2836(10.8042) | Error 0.3926(0.3999) Steps 586(577.11) | Grad Norm 14.0131(12.5913) | Total Time 0.00(0.00)\n",
      "Iter 1581 | Time 61.2397(61.4101) | Bit/dim 3.8491(3.8678) | Xent 1.1181(1.1174) | Loss 10.0818(10.7825) | Error 0.3945(0.3997) Steps 598(577.74) | Grad Norm 15.8637(12.6895) | Total Time 0.00(0.00)\n",
      "Iter 1582 | Time 61.3654(61.4087) | Bit/dim 3.8610(3.8676) | Xent 1.0510(1.1154) | Loss 10.1673(10.7640) | Error 0.3759(0.3990) Steps 604(578.52) | Grad Norm 14.2636(12.7367) | Total Time 0.00(0.00)\n",
      "Iter 1583 | Time 61.8886(61.4231) | Bit/dim 3.8556(3.8672) | Xent 1.1200(1.1156) | Loss 10.2291(10.7480) | Error 0.4014(0.3991) Steps 574(578.39) | Grad Norm 9.9740(12.6538) | Total Time 0.00(0.00)\n",
      "Iter 1584 | Time 59.8961(61.3773) | Bit/dim 3.8650(3.8671) | Xent 1.1055(1.1153) | Loss 10.2972(10.7345) | Error 0.4039(0.3992) Steps 586(578.62) | Grad Norm 15.9685(12.7533) | Total Time 0.00(0.00)\n",
      "validating...\n",
      "Epoch 0264 | Time 23.6677, Epoch Time 412.6703(408.2160), Bit/dim 3.8544(best: 3.8566), Xent 1.0204, Loss 4.3646, Error 0.3646(best: 0.3642)\n",
      "===> Using batch size 8000. Total 6 iterations/epoch.\n"
     ]
    },
    {
     "name": "stdout",
     "output_type": "stream",
     "text": [
      "14.191616766467064\n",
      "14.191616766467064\n",
      "14.191616766467064\n",
      "14.191616766467064\n",
      "14.191616766467064\n",
      "14.191616766467064\n",
      "14.191616766467064\n",
      "14.191616766467064\n",
      "14.191616766467064\n",
      "14.191616766467064\n",
      "14.191616766467064\n",
      "14.191616766467064\n",
      "14.191616766467064\n",
      "14.191616766467064\n"
     ]
    },
    {
     "name": "stderr",
     "output_type": "stream",
     "text": [
      "Iter 1585 | Time 60.3035(61.3451) | Bit/dim 3.8425(3.8664) | Xent 1.0568(1.1135) | Loss 13.6404(10.8216) | Error 0.3774(0.3986) Steps 580(578.66) | Grad Norm 8.1141(12.6141) | Total Time 0.00(0.00)\n",
      "Iter 1586 | Time 60.5639(61.3217) | Bit/dim 3.8675(3.8664) | Xent 1.0821(1.1126) | Loss 10.1412(10.8012) | Error 0.3885(0.3983) Steps 580(578.70) | Grad Norm 9.6762(12.5260) | Total Time 0.00(0.00)\n",
      "Iter 1587 | Time 60.8731(61.3082) | Bit/dim 3.8646(3.8664) | Xent 1.0759(1.1115) | Loss 10.2871(10.7858) | Error 0.3906(0.3980) Steps 586(578.92) | Grad Norm 9.8114(12.4445) | Total Time 0.00(0.00)\n",
      "Iter 1588 | Time 60.4876(61.2836) | Bit/dim 3.8547(3.8660) | Xent 1.0842(1.1107) | Loss 9.9972(10.7621) | Error 0.3902(0.3978) Steps 598(579.49) | Grad Norm 12.1832(12.4367) | Total Time 0.00(0.00)\n",
      "Iter 1589 | Time 59.4180(61.2276) | Bit/dim 3.8502(3.8656) | Xent 1.0864(1.1099) | Loss 10.0329(10.7403) | Error 0.3888(0.3975) Steps 556(578.79) | Grad Norm 14.7790(12.5070) | Total Time 0.00(0.00)\n",
      "Iter 1590 | Time 59.0327(61.1618) | Bit/dim 3.8439(3.8649) | Xent 1.0508(1.1082) | Loss 10.1204(10.7217) | Error 0.3775(0.3969) Steps 562(578.28) | Grad Norm 6.7175(12.3333) | Total Time 0.00(0.00)\n",
      "validating...\n",
      "Epoch 0265 | Time 23.3547, Epoch Time 402.4279(408.0424), Bit/dim 3.8594(best: 3.8544), Xent 1.0355, Loss 4.3772, Error 0.3692(best: 0.3642)\n",
      "===> Using batch size 8000. Total 6 iterations/epoch.\n"
     ]
    },
    {
     "name": "stdout",
     "output_type": "stream",
     "text": [
      "14.131736526946108\n",
      "14.131736526946108\n",
      "14.131736526946108\n",
      "14.131736526946108\n",
      "14.131736526946108\n",
      "14.131736526946108\n",
      "14.131736526946108\n",
      "14.131736526946108\n",
      "14.131736526946108\n",
      "14.131736526946108\n",
      "14.131736526946108\n",
      "14.131736526946108\n",
      "14.131736526946108\n",
      "14.131736526946108\n"
     ]
    },
    {
     "name": "stderr",
     "output_type": "stream",
     "text": [
      "Iter 1591 | Time 63.8097(61.2412) | Bit/dim 3.8484(3.8644) | Xent 1.0611(1.1068) | Loss 13.6144(10.8085) | Error 0.3802(0.3964) Steps 556(577.61) | Grad Norm 15.3185(12.4228) | Total Time 0.00(0.00)\n",
      "Iter 1592 | Time 63.0192(61.2946) | Bit/dim 3.8630(3.8644) | Xent 1.0972(1.1065) | Loss 10.1776(10.7895) | Error 0.3906(0.3963) Steps 580(577.69) | Grad Norm 16.1279(12.5340) | Total Time 0.00(0.00)\n",
      "Iter 1593 | Time 60.7867(61.2793) | Bit/dim 3.8429(3.8637) | Xent 1.0479(1.1047) | Loss 10.1321(10.7698) | Error 0.3792(0.3958) Steps 550(576.85) | Grad Norm 8.9323(12.4259) | Total Time 0.00(0.00)\n",
      "Iter 1594 | Time 57.4202(61.1636) | Bit/dim 3.8671(3.8638) | Xent 1.1008(1.1046) | Loss 10.3079(10.7559) | Error 0.3961(0.3958) Steps 574(576.77) | Grad Norm 15.6761(12.5234) | Total Time 0.00(0.00)\n",
      "Iter 1595 | Time 59.0473(61.1001) | Bit/dim 3.8556(3.8636) | Xent 1.1082(1.1047) | Loss 10.2431(10.7406) | Error 0.3941(0.3957) Steps 568(576.51) | Grad Norm 13.7375(12.5599) | Total Time 0.00(0.00)\n",
      "Iter 1596 | Time 60.7919(61.0908) | Bit/dim 3.8624(3.8635) | Xent 1.1190(1.1051) | Loss 10.1005(10.7214) | Error 0.3944(0.3957) Steps 586(576.79) | Grad Norm 19.0069(12.7533) | Total Time 0.00(0.00)\n",
      "validating...\n",
      "Epoch 0266 | Time 23.7521, Epoch Time 405.9081(407.9783), Bit/dim 3.8527(best: 3.8544), Xent 1.0752, Loss 4.3903, Error 0.3816(best: 0.3642)\n",
      "===> Using batch size 8000. Total 6 iterations/epoch.\n"
     ]
    },
    {
     "name": "stdout",
     "output_type": "stream",
     "text": [
      "14.071856287425149\n",
      "14.071856287425149\n",
      "14.071856287425149\n",
      "14.071856287425149\n",
      "14.071856287425149\n",
      "14.071856287425149\n",
      "14.071856287425149\n",
      "14.071856287425149\n",
      "14.071856287425149\n",
      "14.071856287425149\n",
      "14.071856287425149\n",
      "14.071856287425149\n",
      "14.071856287425149\n",
      "14.071856287425149\n"
     ]
    },
    {
     "name": "stderr",
     "output_type": "stream",
     "text": [
      "Iter 1597 | Time 61.2402(61.0953) | Bit/dim 3.8682(3.8637) | Xent 1.0972(1.1049) | Loss 13.8105(10.8140) | Error 0.3988(0.3958) Steps 568(576.53) | Grad Norm 20.8872(12.9973) | Total Time 0.00(0.00)\n",
      "Iter 1598 | Time 66.8432(61.2677) | Bit/dim 3.8410(3.8630) | Xent 1.0813(1.1042) | Loss 10.1546(10.7943) | Error 0.3864(0.3955) Steps 550(575.73) | Grad Norm 8.7180(12.8689) | Total Time 0.00(0.00)\n",
      "Iter 1599 | Time 61.9646(61.2886) | Bit/dim 3.8567(3.8628) | Xent 1.1054(1.1042) | Loss 10.3361(10.7805) | Error 0.3958(0.3955) Steps 556(575.14) | Grad Norm 18.2954(13.0317) | Total Time 0.00(0.00)\n",
      "Iter 1600 | Time 56.6590(61.1498) | Bit/dim 3.8664(3.8629) | Xent 1.1509(1.1056) | Loss 10.3831(10.7686) | Error 0.4115(0.3960) Steps 574(575.10) | Grad Norm 24.9310(13.3887) | Total Time 0.00(0.00)\n",
      "Iter 1601 | Time 63.1546(61.2099) | Bit/dim 3.8620(3.8629) | Xent 1.1528(1.1070) | Loss 10.2849(10.7541) | Error 0.4095(0.3964) Steps 592(575.61) | Grad Norm 25.0182(13.7376) | Total Time 0.00(0.00)\n",
      "Iter 1602 | Time 59.7222(61.1653) | Bit/dim 3.8552(3.8627) | Xent 1.0858(1.1064) | Loss 10.1926(10.7372) | Error 0.3871(0.3961) Steps 580(575.74) | Grad Norm 17.8091(13.8597) | Total Time 0.00(0.00)\n",
      "validating...\n",
      "Epoch 0267 | Time 23.2979, Epoch Time 410.4088(408.0513), Bit/dim 3.8607(best: 3.8527), Xent 1.0609, Loss 4.3912, Error 0.3762(best: 0.3642)\n",
      "===> Using batch size 8000. Total 6 iterations/epoch.\n"
     ]
    },
    {
     "name": "stdout",
     "output_type": "stream",
     "text": [
      "14.011976047904191\n",
      "14.011976047904191\n",
      "14.011976047904191\n",
      "14.011976047904191\n",
      "14.011976047904191\n",
      "14.011976047904191\n",
      "14.011976047904191\n",
      "14.011976047904191\n",
      "14.011976047904191\n",
      "14.011976047904191\n",
      "14.011976047904191\n",
      "14.011976047904191\n",
      "14.011976047904191\n",
      "14.011976047904191\n"
     ]
    },
    {
     "name": "stderr",
     "output_type": "stream",
     "text": [
      "Iter 1603 | Time 70.1979(61.4362) | Bit/dim 3.8548(3.8624) | Xent 1.0821(1.1057) | Loss 13.9455(10.8335) | Error 0.3844(0.3958) Steps 586(576.05) | Grad Norm 18.1951(13.9898) | Total Time 0.00(0.00)\n",
      "Iter 1604 | Time 66.3587(61.5839) | Bit/dim 3.8795(3.8629) | Xent 1.0997(1.1055) | Loss 10.2908(10.8172) | Error 0.3922(0.3956) Steps 616(577.25) | Grad Norm 25.2068(14.3263) | Total Time 0.00(0.00)\n",
      "Iter 1605 | Time 60.9428(61.5647) | Bit/dim 3.8579(3.8628) | Xent 1.1255(1.1061) | Loss 10.3881(10.8043) | Error 0.4062(0.3960) Steps 592(577.69) | Grad Norm 13.4188(14.2991) | Total Time 0.00(0.00)\n",
      "Iter 1606 | Time 60.0802(61.5202) | Bit/dim 3.8742(3.8631) | Xent 1.1170(1.1064) | Loss 10.2963(10.7891) | Error 0.4014(0.3961) Steps 580(577.76) | Grad Norm 23.5636(14.5770) | Total Time 0.00(0.00)\n",
      "Iter 1607 | Time 65.1044(61.6277) | Bit/dim 3.8531(3.8628) | Xent 1.0963(1.1061) | Loss 10.1976(10.7713) | Error 0.3925(0.3960) Steps 556(577.11) | Grad Norm 14.0692(14.5618) | Total Time 0.00(0.00)\n",
      "Iter 1608 | Time 60.2662(61.5868) | Bit/dim 3.8763(3.8632) | Xent 1.1165(1.1064) | Loss 10.3455(10.7586) | Error 0.3956(0.3960) Steps 580(577.20) | Grad Norm 18.6302(14.6838) | Total Time 0.00(0.00)\n",
      "validating...\n",
      "Epoch 0268 | Time 23.8096, Epoch Time 425.1487(408.5642), Bit/dim 3.8625(best: 3.8527), Xent 1.0892, Loss 4.4071, Error 0.3881(best: 0.3642)\n",
      "===> Using batch size 8000. Total 6 iterations/epoch.\n"
     ]
    },
    {
     "name": "stdout",
     "output_type": "stream",
     "text": [
      "13.952095808383232\n",
      "13.952095808383232\n",
      "13.952095808383232\n",
      "13.952095808383232\n",
      "13.952095808383232\n",
      "13.952095808383232\n",
      "13.952095808383232\n",
      "13.952095808383232\n",
      "13.952095808383232\n",
      "13.952095808383232\n",
      "13.952095808383232\n",
      "13.952095808383232\n",
      "13.952095808383232\n",
      "13.952095808383232\n"
     ]
    },
    {
     "name": "stderr",
     "output_type": "stream",
     "text": [
      "Iter 1609 | Time 62.7916(61.6230) | Bit/dim 3.8505(3.8628) | Xent 1.1199(1.1068) | Loss 13.7043(10.8469) | Error 0.3998(0.3961) Steps 568(576.92) | Grad Norm 19.9558(14.8420) | Total Time 0.00(0.00)\n",
      "Iter 1610 | Time 59.8498(61.5698) | Bit/dim 3.8552(3.8626) | Xent 1.1254(1.1074) | Loss 10.2521(10.8291) | Error 0.3965(0.3961) Steps 568(576.65) | Grad Norm 16.6298(14.8956) | Total Time 0.00(0.00)\n",
      "Iter 1611 | Time 62.3187(61.5923) | Bit/dim 3.8493(3.8622) | Xent 1.0470(1.1056) | Loss 10.1529(10.8088) | Error 0.3689(0.3953) Steps 598(577.29) | Grad Norm 9.2417(14.7260) | Total Time 0.00(0.00)\n",
      "Iter 1612 | Time 58.6203(61.5031) | Bit/dim 3.8455(3.8617) | Xent 1.0945(1.1052) | Loss 10.0663(10.7865) | Error 0.3891(0.3951) Steps 580(577.37) | Grad Norm 14.3609(14.7150) | Total Time 0.00(0.00)\n",
      "Iter 1613 | Time 58.7639(61.4209) | Bit/dim 3.8598(3.8617) | Xent 1.0599(1.1039) | Loss 10.3606(10.7738) | Error 0.3775(0.3946) Steps 580(577.45) | Grad Norm 10.2756(14.5819) | Total Time 0.00(0.00)\n",
      "Iter 1614 | Time 64.4984(61.5132) | Bit/dim 3.8637(3.8617) | Xent 1.0468(1.1022) | Loss 10.3100(10.7598) | Error 0.3770(0.3941) Steps 544(576.45) | Grad Norm 8.7583(14.4071) | Total Time 0.00(0.00)\n",
      "validating...\n",
      "Epoch 0269 | Time 23.8906, Epoch Time 408.7240(408.5690), Bit/dim 3.8594(best: 3.8527), Xent 1.0261, Loss 4.3724, Error 0.3653(best: 0.3642)\n",
      "===> Using batch size 8000. Total 6 iterations/epoch.\n"
     ]
    },
    {
     "name": "stdout",
     "output_type": "stream",
     "text": [
      "13.892215568862277\n",
      "13.892215568862277\n",
      "13.892215568862277\n",
      "13.892215568862277\n",
      "13.892215568862277\n",
      "13.892215568862277\n",
      "13.892215568862277\n",
      "13.892215568862277\n",
      "13.892215568862277\n",
      "13.892215568862277\n",
      "13.892215568862277\n",
      "13.892215568862277\n",
      "13.892215568862277\n",
      "13.892215568862277\n"
     ]
    },
    {
     "name": "stderr",
     "output_type": "stream",
     "text": [
      "Iter 1615 | Time 65.8652(61.6438) | Bit/dim 3.8548(3.8615) | Xent 1.0491(1.1006) | Loss 13.9029(10.8541) | Error 0.3708(0.3934) Steps 604(577.28) | Grad Norm 9.8706(14.2711) | Total Time 0.00(0.00)\n",
      "Iter 1616 | Time 59.2858(61.5731) | Bit/dim 3.8481(3.8611) | Xent 1.0459(1.0989) | Loss 10.2614(10.8364) | Error 0.3696(0.3927) Steps 562(576.82) | Grad Norm 5.5428(14.0092) | Total Time 0.00(0.00)\n",
      "Iter 1617 | Time 59.8780(61.5222) | Bit/dim 3.8500(3.8608) | Xent 1.0567(1.0977) | Loss 10.3467(10.8217) | Error 0.3749(0.3921) Steps 568(576.55) | Grad Norm 8.9808(13.8584) | Total Time 0.00(0.00)\n",
      "Iter 1618 | Time 59.1824(61.4520) | Bit/dim 3.8537(3.8606) | Xent 1.0281(1.0956) | Loss 9.8990(10.7940) | Error 0.3644(0.3913) Steps 574(576.48) | Grad Norm 6.7915(13.6463) | Total Time 0.00(0.00)\n",
      "Iter 1619 | Time 65.2025(61.5645) | Bit/dim 3.8564(3.8604) | Xent 1.0390(1.0939) | Loss 10.2798(10.7786) | Error 0.3716(0.3907) Steps 580(576.58) | Grad Norm 6.6659(13.4369) | Total Time 0.00(0.00)\n",
      "Iter 1620 | Time 65.1444(61.6719) | Bit/dim 3.8572(3.8603) | Xent 1.0308(1.0920) | Loss 10.0830(10.7577) | Error 0.3700(0.3901) Steps 598(577.22) | Grad Norm 7.8298(13.2687) | Total Time 0.00(0.00)\n",
      "validating...\n",
      "Epoch 0270 | Time 23.9606, Epoch Time 417.0497(408.8234), Bit/dim 3.8553(best: 3.8527), Xent 1.0013, Loss 4.3560, Error 0.3534(best: 0.3642)\n",
      "===> Using batch size 8000. Total 6 iterations/epoch.\n"
     ]
    },
    {
     "name": "stdout",
     "output_type": "stream",
     "text": [
      "13.832335329341316\n",
      "13.832335329341316\n",
      "13.832335329341316\n",
      "13.832335329341316\n",
      "13.832335329341316\n",
      "13.832335329341316\n",
      "13.832335329341316\n",
      "13.832335329341316\n",
      "13.832335329341316\n",
      "13.832335329341316\n",
      "13.832335329341316\n",
      "13.832335329341316\n",
      "13.832335329341316\n",
      "13.832335329341316\n"
     ]
    },
    {
     "name": "stderr",
     "output_type": "stream",
     "text": [
      "Iter 1621 | Time 62.9557(61.7104) | Bit/dim 3.8444(3.8599) | Xent 1.0566(1.0909) | Loss 13.3878(10.8366) | Error 0.3762(0.3897) Steps 562(576.77) | Grad Norm 6.6582(13.0704) | Total Time 0.00(0.00)\n",
      "Iter 1622 | Time 62.0991(61.7221) | Bit/dim 3.8450(3.8594) | Xent 1.0300(1.0891) | Loss 10.2946(10.8203) | Error 0.3658(0.3889) Steps 580(576.86) | Grad Norm 10.3940(12.9901) | Total Time 0.00(0.00)\n",
      "Iter 1623 | Time 56.6449(61.5698) | Bit/dim 3.8478(3.8591) | Xent 1.0259(1.0872) | Loss 10.2401(10.8029) | Error 0.3680(0.3883) Steps 562(576.42) | Grad Norm 7.3592(12.8212) | Total Time 0.00(0.00)\n",
      "Iter 1624 | Time 60.5345(61.5387) | Bit/dim 3.8544(3.8589) | Xent 1.0207(1.0852) | Loss 10.1675(10.7839) | Error 0.3642(0.3876) Steps 562(575.99) | Grad Norm 5.7556(12.6092) | Total Time 0.00(0.00)\n",
      "Iter 1625 | Time 61.2895(61.5312) | Bit/dim 3.8448(3.8585) | Xent 1.0097(1.0830) | Loss 10.0911(10.7631) | Error 0.3619(0.3868) Steps 580(576.11) | Grad Norm 8.5729(12.4881) | Total Time 0.00(0.00)\n",
      "Iter 1626 | Time 65.1528(61.6399) | Bit/dim 3.8456(3.8581) | Xent 1.0270(1.0813) | Loss 10.1525(10.7448) | Error 0.3652(0.3862) Steps 592(576.58) | Grad Norm 7.0822(12.3260) | Total Time 0.00(0.00)\n",
      "validating...\n",
      "Epoch 0271 | Time 23.4067, Epoch Time 410.2052(408.8648), Bit/dim 3.8444(best: 3.8527), Xent 0.9880, Loss 4.3384, Error 0.3501(best: 0.3534)\n",
      "===> Using batch size 8000. Total 6 iterations/epoch.\n"
     ]
    },
    {
     "name": "stdout",
     "output_type": "stream",
     "text": [
      "13.77245508982036\n",
      "13.77245508982036\n",
      "13.77245508982036\n",
      "13.77245508982036\n",
      "13.77245508982036\n",
      "13.77245508982036\n",
      "13.77245508982036\n",
      "13.77245508982036\n",
      "13.77245508982036\n",
      "13.77245508982036\n",
      "13.77245508982036\n",
      "13.77245508982036\n",
      "13.77245508982036\n",
      "13.77245508982036\n"
     ]
    },
    {
     "name": "stderr",
     "output_type": "stream",
     "text": [
      "Iter 1627 | Time 62.8292(61.6756) | Bit/dim 3.8542(3.8580) | Xent 1.0278(1.0797) | Loss 13.6070(10.8306) | Error 0.3682(0.3856) Steps 562(576.15) | Grad Norm 3.8996(12.0732) | Total Time 0.00(0.00)\n",
      "Iter 1628 | Time 61.5152(61.6708) | Bit/dim 3.8492(3.8577) | Xent 1.0042(1.0774) | Loss 10.2286(10.8126) | Error 0.3588(0.3848) Steps 544(575.18) | Grad Norm 9.1556(11.9856) | Total Time 0.00(0.00)\n",
      "Iter 1629 | Time 59.2384(61.5978) | Bit/dim 3.8404(3.8572) | Xent 1.0060(1.0753) | Loss 9.5557(10.7749) | Error 0.3598(0.3841) Steps 562(574.79) | Grad Norm 9.4965(11.9110) | Total Time 0.00(0.00)\n",
      "Iter 1630 | Time 57.7957(61.4837) | Bit/dim 3.8317(3.8565) | Xent 1.0313(1.0739) | Loss 10.1129(10.7550) | Error 0.3665(0.3836) Steps 562(574.40) | Grad Norm 6.5067(11.7488) | Total Time 0.00(0.00)\n",
      "Iter 1631 | Time 62.7449(61.5216) | Bit/dim 3.8430(3.8561) | Xent 1.1064(1.0749) | Loss 10.0546(10.7340) | Error 0.3958(0.3839) Steps 568(574.21) | Grad Norm 14.2645(11.8243) | Total Time 0.00(0.00)\n",
      "Iter 1632 | Time 61.9385(61.5341) | Bit/dim 3.8660(3.8563) | Xent 1.2122(1.0790) | Loss 10.2392(10.7191) | Error 0.4274(0.3852) Steps 568(574.02) | Grad Norm 19.5626(12.0565) | Total Time 0.00(0.00)\n",
      "validating...\n",
      "Epoch 0272 | Time 23.2046, Epoch Time 406.9851(408.8085), Bit/dim 3.8743(best: 3.8444), Xent 1.3728, Loss 4.5608, Error 0.4805(best: 0.3501)\n",
      "===> Using batch size 8000. Total 6 iterations/epoch.\n"
     ]
    },
    {
     "name": "stdout",
     "output_type": "stream",
     "text": [
      "13.7125748502994\n",
      "13.7125748502994\n",
      "13.7125748502994\n",
      "13.7125748502994\n",
      "13.7125748502994\n",
      "13.7125748502994\n",
      "13.7125748502994\n",
      "13.7125748502994\n",
      "13.7125748502994\n",
      "13.7125748502994\n",
      "13.7125748502994\n",
      "13.7125748502994\n",
      "13.7125748502994\n",
      "13.7125748502994\n"
     ]
    },
    {
     "name": "stderr",
     "output_type": "stream",
     "text": [
      "Iter 1633 | Time 59.5602(61.4749) | Bit/dim 3.8751(3.8569) | Xent 1.3954(1.0885) | Loss 13.9519(10.8161) | Error 0.4789(0.3880) Steps 574(574.02) | Grad Norm 24.0716(12.4169) | Total Time 0.00(0.00)\n",
      "Iter 1634 | Time 61.7924(61.4844) | Bit/dim 3.8864(3.8578) | Xent 1.4099(1.0982) | Loss 10.6685(10.8117) | Error 0.4820(0.3909) Steps 568(573.84) | Grad Norm 32.8715(13.0305) | Total Time 0.00(0.00)\n",
      "Iter 1635 | Time 59.1063(61.4130) | Bit/dim 3.8885(3.8587) | Xent 1.2488(1.1027) | Loss 10.5403(10.8036) | Error 0.4469(0.3925) Steps 562(573.49) | Grad Norm 23.6601(13.3494) | Total Time 0.00(0.00)\n",
      "Iter 1636 | Time 65.1871(61.5263) | Bit/dim 3.8645(3.8589) | Xent 1.1639(1.1045) | Loss 10.4014(10.7915) | Error 0.4104(0.3931) Steps 574(573.50) | Grad Norm 23.5315(13.6549) | Total Time 0.00(0.00)\n",
      "Iter 1637 | Time 59.6949(61.4713) | Bit/dim 3.8948(3.8600) | Xent 1.1942(1.1072) | Loss 9.9996(10.7677) | Error 0.4333(0.3943) Steps 562(573.16) | Grad Norm 14.7959(13.6891) | Total Time 0.00(0.00)\n",
      "Iter 1638 | Time 64.1809(61.5526) | Bit/dim 3.8681(3.8602) | Xent 1.2217(1.1106) | Loss 10.5353(10.7608) | Error 0.4410(0.3957) Steps 580(573.36) | Grad Norm 27.8103(14.1128) | Total Time 0.00(0.00)\n",
      "validating...\n",
      "Epoch 0273 | Time 23.7587, Epoch Time 412.0822(408.9067), Bit/dim 3.8877(best: 3.8444), Xent 1.1150, Loss 4.4452, Error 0.3967(best: 0.3501)\n",
      "===> Using batch size 8000. Total 6 iterations/epoch.\n"
     ]
    },
    {
     "name": "stdout",
     "output_type": "stream",
     "text": [
      "13.652694610778443\n",
      "13.652694610778443\n",
      "13.652694610778443\n",
      "13.652694610778443\n",
      "13.652694610778443\n",
      "13.652694610778443\n",
      "13.652694610778443\n",
      "13.652694610778443\n",
      "13.652694610778443\n",
      "13.652694610778443\n",
      "13.652694610778443\n",
      "13.652694610778443\n",
      "13.652694610778443\n",
      "13.652694610778443\n"
     ]
    },
    {
     "name": "stderr",
     "output_type": "stream",
     "text": [
      "Iter 1639 | Time 64.0012(61.6261) | Bit/dim 3.8939(3.8612) | Xent 1.1417(1.1116) | Loss 13.6714(10.8481) | Error 0.4136(0.3962) Steps 568(573.20) | Grad Norm 15.6668(14.1594) | Total Time 0.00(0.00)\n",
      "Iter 1640 | Time 58.3118(61.5266) | Bit/dim 3.8604(3.8612) | Xent 1.1736(1.1134) | Loss 10.3079(10.8319) | Error 0.4261(0.3971) Steps 574(573.23) | Grad Norm 10.3676(14.0456) | Total Time 0.00(0.00)\n",
      "Iter 1641 | Time 63.0516(61.5724) | Bit/dim 3.8820(3.8618) | Xent 1.1368(1.1141) | Loss 10.3730(10.8181) | Error 0.4083(0.3974) Steps 568(573.07) | Grad Norm 15.6366(14.0934) | Total Time 0.00(0.00)\n",
      "Iter 1642 | Time 65.0091(61.6755) | Bit/dim 3.8583(3.8617) | Xent 1.1500(1.1152) | Loss 10.3589(10.8043) | Error 0.4139(0.3979) Steps 574(573.10) | Grad Norm 12.8864(14.0571) | Total Time 0.00(0.00)\n",
      "Iter 1643 | Time 64.0198(61.7458) | Bit/dim 3.8594(3.8616) | Xent 1.1545(1.1164) | Loss 10.2267(10.7870) | Error 0.4056(0.3982) Steps 592(573.66) | Grad Norm 9.1722(13.9106) | Total Time 0.00(0.00)\n",
      "Iter 1644 | Time 60.2531(61.7010) | Bit/dim 3.8659(3.8618) | Xent 1.1636(1.1178) | Loss 10.3903(10.7751) | Error 0.4203(0.3988) Steps 550(572.95) | Grad Norm 14.9935(13.9431) | Total Time 0.00(0.00)\n",
      "validating...\n",
      "Epoch 0274 | Time 23.0959, Epoch Time 415.9255(409.1172), Bit/dim 3.8527(best: 3.8444), Xent 1.0893, Loss 4.3973, Error 0.3911(best: 0.3501)\n",
      "===> Using batch size 8000. Total 6 iterations/epoch.\n"
     ]
    },
    {
     "name": "stdout",
     "output_type": "stream",
     "text": [
      "13.592814371257484\n",
      "13.592814371257484\n",
      "13.592814371257484\n",
      "13.592814371257484\n",
      "13.592814371257484\n",
      "13.592814371257484\n",
      "13.592814371257484\n",
      "13.592814371257484\n",
      "13.592814371257484\n",
      "13.592814371257484\n",
      "13.592814371257484\n",
      "13.592814371257484\n",
      "13.592814371257484\n",
      "13.592814371257484\n"
     ]
    },
    {
     "name": "stderr",
     "output_type": "stream",
     "text": [
      "Iter 1645 | Time 63.4630(61.7539) | Bit/dim 3.8436(3.8612) | Xent 1.1338(1.1183) | Loss 13.6891(10.8625) | Error 0.4120(0.3992) Steps 562(572.63) | Grad Norm 6.5654(13.7218) | Total Time 0.00(0.00)\n",
      "Iter 1646 | Time 64.1243(61.8250) | Bit/dim 3.8644(3.8613) | Xent 1.1189(1.1183) | Loss 10.3910(10.8484) | Error 0.4069(0.3995) Steps 556(572.13) | Grad Norm 12.5337(13.6861) | Total Time 0.00(0.00)\n",
      "Iter 1647 | Time 61.0274(61.8011) | Bit/dim 3.8579(3.8612) | Xent 1.1286(1.1186) | Loss 10.1856(10.8285) | Error 0.4085(0.3997) Steps 586(572.54) | Grad Norm 10.3299(13.5854) | Total Time 0.00(0.00)\n",
      "Iter 1648 | Time 60.1990(61.7530) | Bit/dim 3.8499(3.8609) | Xent 1.0955(1.1179) | Loss 10.1691(10.8087) | Error 0.3942(0.3996) Steps 568(572.41) | Grad Norm 9.7251(13.4696) | Total Time 0.00(0.00)\n",
      "Iter 1649 | Time 63.3090(61.7997) | Bit/dim 3.8464(3.8604) | Xent 1.1128(1.1178) | Loss 10.3041(10.7936) | Error 0.4039(0.3997) Steps 592(572.99) | Grad Norm 12.5579(13.4423) | Total Time 0.00(0.00)\n",
      "Iter 1650 | Time 60.5389(61.7619) | Bit/dim 3.8465(3.8600) | Xent 1.1046(1.1174) | Loss 10.2084(10.7760) | Error 0.4002(0.3997) Steps 586(573.38) | Grad Norm 12.1732(13.4042) | Total Time 0.00(0.00)\n",
      "validating...\n",
      "Epoch 0275 | Time 24.2134, Epoch Time 413.9517(409.2623), Bit/dim 3.8490(best: 3.8444), Xent 1.0458, Loss 4.3719, Error 0.3764(best: 0.3501)\n",
      "===> Using batch size 8000. Total 6 iterations/epoch.\n"
     ]
    },
    {
     "name": "stdout",
     "output_type": "stream",
     "text": [
      "13.532934131736528\n",
      "13.532934131736528\n",
      "13.532934131736528\n",
      "13.532934131736528\n",
      "13.532934131736528\n",
      "13.532934131736528\n",
      "13.532934131736528\n",
      "13.532934131736528\n",
      "13.532934131736528\n",
      "13.532934131736528\n",
      "13.532934131736528\n",
      "13.532934131736528\n",
      "13.532934131736528\n",
      "13.532934131736528\n"
     ]
    },
    {
     "name": "stderr",
     "output_type": "stream",
     "text": [
      "Iter 1651 | Time 58.2659(61.6570) | Bit/dim 3.8534(3.8598) | Xent 1.0865(1.1165) | Loss 14.0666(10.8747) | Error 0.3966(0.3996) Steps 574(573.40) | Grad Norm 8.4923(13.2568) | Total Time 0.00(0.00)\n",
      "Iter 1652 | Time 61.9683(61.6663) | Bit/dim 3.8501(3.8595) | Xent 1.0802(1.1154) | Loss 10.1073(10.8517) | Error 0.3861(0.3992) Steps 598(574.14) | Grad Norm 4.9877(13.0088) | Total Time 0.00(0.00)\n",
      "Iter 1653 | Time 59.1101(61.5896) | Bit/dim 3.8296(3.8586) | Xent 1.0648(1.1138) | Loss 9.9865(10.8258) | Error 0.3782(0.3986) Steps 586(574.50) | Grad Norm 8.3314(12.8684) | Total Time 0.00(0.00)\n",
      "Iter 1654 | Time 61.7168(61.5935) | Bit/dim 3.8399(3.8581) | Xent 1.0761(1.1127) | Loss 10.2480(10.8084) | Error 0.3842(0.3982) Steps 574(574.48) | Grad Norm 9.2391(12.7596) | Total Time 0.00(0.00)\n",
      "Iter 1655 | Time 64.6554(61.6853) | Bit/dim 3.8429(3.8576) | Xent 1.0614(1.1112) | Loss 10.1780(10.7895) | Error 0.3782(0.3976) Steps 586(574.83) | Grad Norm 5.2323(12.5337) | Total Time 0.00(0.00)\n",
      "Iter 1656 | Time 62.3195(61.7043) | Bit/dim 3.8408(3.8571) | Xent 1.0654(1.1098) | Loss 10.2590(10.7736) | Error 0.3805(0.3970) Steps 574(574.80) | Grad Norm 6.2710(12.3459) | Total Time 0.00(0.00)\n",
      "validating...\n",
      "Epoch 0276 | Time 23.6221, Epoch Time 409.8462(409.2798), Bit/dim 3.8394(best: 3.8444), Xent 1.0209, Loss 4.3499, Error 0.3614(best: 0.3501)\n",
      "===> Using batch size 8000. Total 6 iterations/epoch.\n"
     ]
    },
    {
     "name": "stdout",
     "output_type": "stream",
     "text": [
      "13.47305389221557\n",
      "13.47305389221557\n",
      "13.47305389221557\n",
      "13.47305389221557\n",
      "13.47305389221557\n",
      "13.47305389221557\n",
      "13.47305389221557\n",
      "13.47305389221557\n",
      "13.47305389221557\n",
      "13.47305389221557\n",
      "13.47305389221557\n",
      "13.47305389221557\n",
      "13.47305389221557\n",
      "13.47305389221557\n"
     ]
    },
    {
     "name": "stderr",
     "output_type": "stream",
     "text": [
      "Iter 1657 | Time 62.0425(61.7145) | Bit/dim 3.8400(3.8566) | Xent 1.0551(1.1082) | Loss 13.1309(10.8443) | Error 0.3752(0.3964) Steps 580(574.96) | Grad Norm 6.8787(12.1819) | Total Time 0.00(0.00)\n",
      "Iter 1658 | Time 66.3653(61.8540) | Bit/dim 3.8294(3.8558) | Xent 1.0388(1.1061) | Loss 10.2762(10.8273) | Error 0.3716(0.3956) Steps 574(574.93) | Grad Norm 3.3135(11.9158) | Total Time 0.00(0.00)\n",
      "Iter 1659 | Time 62.6074(61.8766) | Bit/dim 3.8330(3.8551) | Xent 1.0545(1.1045) | Loss 10.2869(10.8111) | Error 0.3764(0.3951) Steps 580(575.08) | Grad Norm 5.0085(11.7086) | Total Time 0.00(0.00)\n",
      "Iter 1660 | Time 61.2021(61.8564) | Bit/dim 3.8428(3.8547) | Xent 1.0225(1.1021) | Loss 9.9975(10.7867) | Error 0.3630(0.3941) Steps 592(575.59) | Grad Norm 3.9389(11.4755) | Total Time 0.00(0.00)\n",
      "Iter 1661 | Time 56.8028(61.7048) | Bit/dim 3.8265(3.8539) | Xent 1.0411(1.1002) | Loss 10.1074(10.7663) | Error 0.3809(0.3937) Steps 538(574.46) | Grad Norm 5.1524(11.2858) | Total Time 0.00(0.00)\n",
      "Iter 1662 | Time 58.4432(61.6069) | Bit/dim 3.8495(3.8538) | Xent 1.0252(1.0980) | Loss 10.1572(10.7480) | Error 0.3680(0.3929) Steps 550(573.73) | Grad Norm 4.4000(11.0792) | Total Time 0.00(0.00)\n",
      "validating...\n",
      "Epoch 0277 | Time 24.1679, Epoch Time 409.6001(409.2894), Bit/dim 3.8325(best: 3.8394), Xent 0.9917, Loss 4.3284, Error 0.3528(best: 0.3501)\n",
      "===> Using batch size 8000. Total 6 iterations/epoch.\n"
     ]
    },
    {
     "name": "stdout",
     "output_type": "stream",
     "text": [
      "13.413173652694612\n",
      "13.413173652694612\n",
      "13.413173652694612\n",
      "13.413173652694612\n",
      "13.413173652694612\n",
      "13.413173652694612\n",
      "13.413173652694612\n",
      "13.413173652694612\n",
      "13.413173652694612\n",
      "13.413173652694612\n",
      "13.413173652694612\n",
      "13.413173652694612\n",
      "13.413173652694612\n",
      "13.413173652694612\n"
     ]
    },
    {
     "name": "stderr",
     "output_type": "stream",
     "text": [
      "Iter 1663 | Time 60.4089(61.5710) | Bit/dim 3.8491(3.8536) | Xent 1.0397(1.0962) | Loss 13.9147(10.8430) | Error 0.3760(0.3924) Steps 592(574.28) | Grad Norm 4.3291(10.8767) | Total Time 0.00(0.00)\n",
      "Iter 1664 | Time 63.8670(61.6399) | Bit/dim 3.8314(3.8530) | Xent 1.0538(1.0950) | Loss 10.0520(10.8193) | Error 0.3735(0.3919) Steps 580(574.45) | Grad Norm 6.6401(10.7496) | Total Time 0.00(0.00)\n",
      "Iter 1665 | Time 63.8971(61.7076) | Bit/dim 3.8311(3.8523) | Xent 1.0043(1.0923) | Loss 9.9635(10.7936) | Error 0.3608(0.3909) Steps 586(574.79) | Grad Norm 5.1283(10.5810) | Total Time 0.00(0.00)\n",
      "Iter 1666 | Time 64.2802(61.7848) | Bit/dim 3.8308(3.8517) | Xent 1.0229(1.0902) | Loss 10.2749(10.7780) | Error 0.3699(0.3903) Steps 568(574.59) | Grad Norm 5.7911(10.4373) | Total Time 0.00(0.00)\n",
      "Iter 1667 | Time 63.7945(61.8451) | Bit/dim 3.8281(3.8509) | Xent 1.0313(1.0884) | Loss 9.8908(10.7514) | Error 0.3679(0.3896) Steps 604(575.47) | Grad Norm 7.8573(10.3599) | Total Time 0.00(0.00)\n",
      "Iter 1668 | Time 62.0866(61.8523) | Bit/dim 3.8224(3.8501) | Xent 1.0097(1.0860) | Loss 10.1687(10.7339) | Error 0.3586(0.3887) Steps 550(574.71) | Grad Norm 6.1765(10.2344) | Total Time 0.00(0.00)\n",
      "validating...\n",
      "Epoch 0278 | Time 24.0032, Epoch Time 420.5036(409.6258), Bit/dim 3.8315(best: 3.8325), Xent 0.9977, Loss 4.3304, Error 0.3548(best: 0.3501)\n",
      "===> Using batch size 8000. Total 6 iterations/epoch.\n"
     ]
    },
    {
     "name": "stdout",
     "output_type": "stream",
     "text": [
      "13.353293413173652\n",
      "13.353293413173652\n",
      "13.353293413173652\n",
      "13.353293413173652\n",
      "13.353293413173652\n",
      "13.353293413173652\n",
      "13.353293413173652\n",
      "13.353293413173652\n",
      "13.353293413173652\n",
      "13.353293413173652\n",
      "13.353293413173652\n",
      "13.353293413173652\n",
      "13.353293413173652\n",
      "13.353293413173652\n"
     ]
    },
    {
     "name": "stderr",
     "output_type": "stream",
     "text": [
      "Iter 1669 | Time 59.6080(61.7850) | Bit/dim 3.8384(3.8497) | Xent 1.0423(1.0847) | Loss 13.7188(10.8235) | Error 0.3739(0.3883) Steps 592(575.23) | Grad Norm 7.7341(10.1594) | Total Time 0.00(0.00)\n",
      "Iter 1670 | Time 60.0282(61.7323) | Bit/dim 3.8217(3.8489) | Xent 1.0221(1.0829) | Loss 10.1384(10.8029) | Error 0.3655(0.3876) Steps 568(575.01) | Grad Norm 10.8197(10.1792) | Total Time 0.00(0.00)\n",
      "Iter 1671 | Time 60.5033(61.6954) | Bit/dim 3.8326(3.8484) | Xent 1.0401(1.0816) | Loss 10.1453(10.7832) | Error 0.3692(0.3870) Steps 580(575.16) | Grad Norm 12.3522(10.2444) | Total Time 0.00(0.00)\n",
      "Iter 1672 | Time 60.9602(61.6733) | Bit/dim 3.8327(3.8479) | Xent 1.0864(1.0817) | Loss 10.2763(10.7680) | Error 0.3869(0.3870) Steps 586(575.49) | Grad Norm 19.1831(10.5125) | Total Time 0.00(0.00)\n",
      "Iter 1673 | Time 64.1650(61.7481) | Bit/dim 3.8429(3.8478) | Xent 1.0703(1.0814) | Loss 10.1630(10.7498) | Error 0.3800(0.3868) Steps 586(575.80) | Grad Norm 22.9212(10.8848) | Total Time 0.00(0.00)\n",
      "Iter 1674 | Time 64.7673(61.8387) | Bit/dim 3.8375(3.8475) | Xent 1.0290(1.0798) | Loss 9.9553(10.7260) | Error 0.3606(0.3860) Steps 592(576.29) | Grad Norm 10.1814(10.8637) | Total Time 0.00(0.00)\n",
      "validating...\n",
      "Epoch 0279 | Time 24.2470, Epoch Time 412.7027(409.7181), Bit/dim 3.8292(best: 3.8315), Xent 1.0265, Loss 4.3424, Error 0.3642(best: 0.3501)\n",
      "===> Using batch size 8000. Total 6 iterations/epoch.\n"
     ]
    },
    {
     "name": "stdout",
     "output_type": "stream",
     "text": [
      "13.293413173652697\n",
      "13.293413173652697\n",
      "13.293413173652697\n",
      "13.293413173652697\n",
      "13.293413173652697\n",
      "13.293413173652697\n",
      "13.293413173652697\n",
      "13.293413173652697\n",
      "13.293413173652697\n",
      "13.293413173652697\n",
      "13.293413173652697\n",
      "13.293413173652697\n",
      "13.293413173652697\n",
      "13.293413173652697\n"
     ]
    },
    {
     "name": "stderr",
     "output_type": "stream",
     "text": [
      "Iter 1675 | Time 61.6204(61.8321) | Bit/dim 3.8260(3.8468) | Xent 1.0701(1.0795) | Loss 13.6401(10.8134) | Error 0.3799(0.3858) Steps 580(576.40) | Grad Norm 15.8307(11.0127) | Total Time 0.00(0.00)\n",
      "Iter 1676 | Time 61.3277(61.8170) | Bit/dim 3.8500(3.8469) | Xent 1.1277(1.0810) | Loss 10.4270(10.8018) | Error 0.4077(0.3865) Steps 592(576.87) | Grad Norm 20.9574(11.3110) | Total Time 0.00(0.00)\n",
      "Iter 1677 | Time 62.3884(61.8341) | Bit/dim 3.8185(3.8461) | Xent 1.0245(1.0793) | Loss 10.0910(10.7805) | Error 0.3662(0.3859) Steps 568(576.60) | Grad Norm 7.6301(11.2006) | Total Time 0.00(0.00)\n",
      "Iter 1678 | Time 63.5757(61.8864) | Bit/dim 3.8454(3.8461) | Xent 1.1213(1.0805) | Loss 10.2347(10.7641) | Error 0.3984(0.3863) Steps 562(576.16) | Grad Norm 15.4074(11.3268) | Total Time 0.00(0.00)\n",
      "Iter 1679 | Time 63.2805(61.9282) | Bit/dim 3.8309(3.8456) | Xent 1.0963(1.0810) | Loss 10.2981(10.7502) | Error 0.3992(0.3866) Steps 556(575.56) | Grad Norm 13.6724(11.3972) | Total Time 0.00(0.00)\n",
      "Iter 1680 | Time 58.1871(61.8160) | Bit/dim 3.8474(3.8456) | Xent 1.0985(1.0815) | Loss 10.2036(10.7338) | Error 0.3889(0.3867) Steps 580(575.69) | Grad Norm 11.8212(11.4099) | Total Time 0.00(0.00)\n",
      "validating...\n",
      "Epoch 0280 | Time 23.8723, Epoch Time 411.4922(409.7714), Bit/dim 3.8499(best: 3.8292), Xent 1.0380, Loss 4.3689, Error 0.3672(best: 0.3501)\n",
      "===> Using batch size 8000. Total 6 iterations/epoch.\n"
     ]
    },
    {
     "name": "stdout",
     "output_type": "stream",
     "text": [
      "13.233532934131736\n",
      "13.233532934131736\n",
      "13.233532934131736\n",
      "13.233532934131736\n",
      "13.233532934131736\n",
      "13.233532934131736\n",
      "13.233532934131736\n",
      "13.233532934131736\n",
      "13.233532934131736\n",
      "13.233532934131736\n",
      "13.233532934131736\n",
      "13.233532934131736\n",
      "13.233532934131736\n",
      "13.233532934131736\n"
     ]
    },
    {
     "name": "stderr",
     "output_type": "stream",
     "text": [
      "Iter 1681 | Time 64.9576(61.9102) | Bit/dim 3.8544(3.8459) | Xent 1.0867(1.0817) | Loss 13.8952(10.8286) | Error 0.3878(0.3867) Steps 580(575.82) | Grad Norm 18.0424(11.6089) | Total Time 0.00(0.00)\n",
      "Iter 1682 | Time 65.2717(62.0111) | Bit/dim 3.8562(3.8462) | Xent 1.0715(1.0814) | Loss 10.2702(10.8118) | Error 0.3838(0.3867) Steps 574(575.77) | Grad Norm 17.1225(11.7743) | Total Time 0.00(0.00)\n",
      "Iter 1683 | Time 59.1623(61.9256) | Bit/dim 3.8374(3.8460) | Xent 1.0425(1.0802) | Loss 10.2389(10.7947) | Error 0.3736(0.3863) Steps 586(576.07) | Grad Norm 11.0998(11.7541) | Total Time 0.00(0.00)\n",
      "Iter 1684 | Time 59.4863(61.8524) | Bit/dim 3.8360(3.8457) | Xent 1.0792(1.0802) | Loss 10.2397(10.7780) | Error 0.3846(0.3862) Steps 592(576.55) | Grad Norm 13.5448(11.8078) | Total Time 0.00(0.00)\n",
      "Iter 1685 | Time 58.5283(61.7527) | Bit/dim 3.8505(3.8458) | Xent 1.0454(1.0791) | Loss 10.3628(10.7656) | Error 0.3750(0.3859) Steps 580(576.65) | Grad Norm 15.9468(11.9319) | Total Time 0.00(0.00)\n",
      "Iter 1686 | Time 62.0579(61.7619) | Bit/dim 3.8245(3.8452) | Xent 1.0426(1.0780) | Loss 10.2885(10.7512) | Error 0.3688(0.3854) Steps 592(577.11) | Grad Norm 6.6065(11.7722) | Total Time 0.00(0.00)\n",
      "validating...\n",
      "Epoch 0281 | Time 23.1298, Epoch Time 410.2476(409.7856), Bit/dim 3.8462(best: 3.8292), Xent 0.9988, Loss 4.3456, Error 0.3542(best: 0.3501)\n",
      "===> Using batch size 8000. Total 6 iterations/epoch.\n"
     ]
    },
    {
     "name": "stdout",
     "output_type": "stream",
     "text": [
      "13.173652694610777\n",
      "13.173652694610777\n",
      "13.173652694610777\n",
      "13.173652694610777\n",
      "13.173652694610777\n",
      "13.173652694610777\n",
      "13.173652694610777\n",
      "13.173652694610777\n",
      "13.173652694610777\n",
      "13.173652694610777\n",
      "13.173652694610777\n",
      "13.173652694610777\n",
      "13.173652694610777\n",
      "13.173652694610777\n"
     ]
    },
    {
     "name": "stderr",
     "output_type": "stream",
     "text": [
      "Iter 1687 | Time 67.3487(61.9295) | Bit/dim 3.8370(3.8449) | Xent 1.0305(1.0766) | Loss 13.6086(10.8370) | Error 0.3738(0.3850) Steps 586(577.38) | Grad Norm 12.2427(11.7863) | Total Time 0.00(0.00)\n",
      "Iter 1688 | Time 64.1605(61.9964) | Bit/dim 3.8427(3.8449) | Xent 1.0445(1.0756) | Loss 10.1904(10.8176) | Error 0.3696(0.3846) Steps 586(577.64) | Grad Norm 12.3204(11.8023) | Total Time 0.00(0.00)\n",
      "Iter 1689 | Time 68.3330(62.1865) | Bit/dim 3.8185(3.8441) | Xent 1.0409(1.0746) | Loss 10.3054(10.8022) | Error 0.3731(0.3842) Steps 610(578.61) | Grad Norm 5.1345(11.6023) | Total Time 0.00(0.00)\n",
      "Iter 1690 | Time 63.0556(62.2126) | Bit/dim 3.8429(3.8440) | Xent 1.0162(1.0728) | Loss 10.1363(10.7822) | Error 0.3656(0.3837) Steps 592(579.01) | Grad Norm 10.0362(11.5553) | Total Time 0.00(0.00)\n",
      "Iter 1691 | Time 60.7673(62.1692) | Bit/dim 3.8367(3.8438) | Xent 1.0201(1.0713) | Loss 10.3147(10.7682) | Error 0.3648(0.3831) Steps 586(579.22) | Grad Norm 11.2935(11.5474) | Total Time 0.00(0.00)\n",
      "Iter 1692 | Time 61.1651(62.1391) | Bit/dim 3.8337(3.8435) | Xent 1.0251(1.0699) | Loss 10.1321(10.7491) | Error 0.3625(0.3825) Steps 598(579.78) | Grad Norm 5.7150(11.3725) | Total Time 0.00(0.00)\n",
      "validating...\n",
      "Epoch 0282 | Time 23.4293, Epoch Time 425.9662(410.2711), Bit/dim 3.8367(best: 3.8292), Xent 0.9770, Loss 4.3251, Error 0.3441(best: 0.3501)\n",
      "===> Using batch size 8000. Total 6 iterations/epoch.\n"
     ]
    },
    {
     "name": "stdout",
     "output_type": "stream",
     "text": [
      "13.113772455089821\n",
      "13.113772455089821\n",
      "13.113772455089821\n",
      "13.113772455089821\n",
      "13.113772455089821\n",
      "13.113772455089821\n",
      "13.113772455089821\n",
      "13.113772455089821\n",
      "13.113772455089821\n",
      "13.113772455089821\n",
      "13.113772455089821\n",
      "13.113772455089821\n",
      "13.113772455089821\n",
      "13.113772455089821\n"
     ]
    },
    {
     "name": "stderr",
     "output_type": "stream",
     "text": [
      "Iter 1693 | Time 60.0874(62.0775) | Bit/dim 3.8360(3.8433) | Xent 1.0231(1.0685) | Loss 13.9080(10.8439) | Error 0.3628(0.3819) Steps 586(579.97) | Grad Norm 8.7698(11.2944) | Total Time 0.00(0.00)\n",
      "Iter 1694 | Time 58.6088(61.9735) | Bit/dim 3.8228(3.8427) | Xent 1.0259(1.0672) | Loss 10.0443(10.8199) | Error 0.3610(0.3813) Steps 592(580.33) | Grad Norm 11.9011(11.3126) | Total Time 0.00(0.00)\n",
      "Iter 1695 | Time 61.0159(61.9447) | Bit/dim 3.8191(3.8420) | Xent 0.9993(1.0652) | Loss 10.3049(10.8044) | Error 0.3556(0.3805) Steps 574(580.14) | Grad Norm 7.7075(11.2044) | Total Time 0.00(0.00)\n",
      "Iter 1696 | Time 64.2990(62.0154) | Bit/dim 3.8300(3.8416) | Xent 1.0235(1.0639) | Loss 10.0732(10.7825) | Error 0.3686(0.3801) Steps 586(580.32) | Grad Norm 7.9137(11.1057) | Total Time 0.00(0.00)\n",
      "Iter 1697 | Time 63.1921(62.0507) | Bit/dim 3.8403(3.8416) | Xent 0.9923(1.0618) | Loss 10.1877(10.7647) | Error 0.3542(0.3794) Steps 574(580.13) | Grad Norm 7.0131(10.9829) | Total Time 0.00(0.00)\n",
      "Iter 1698 | Time 60.0554(61.9908) | Bit/dim 3.8300(3.8412) | Xent 1.0091(1.0602) | Loss 10.0492(10.7432) | Error 0.3572(0.3787) Steps 580(580.12) | Grad Norm 4.0939(10.7763) | Total Time 0.00(0.00)\n",
      "validating...\n",
      "Epoch 0283 | Time 23.9286, Epoch Time 408.9113(410.2303), Bit/dim 3.8336(best: 3.8292), Xent 0.9755, Loss 4.3214, Error 0.3463(best: 0.3441)\n",
      "===> Using batch size 8000. Total 6 iterations/epoch.\n"
     ]
    },
    {
     "name": "stdout",
     "output_type": "stream",
     "text": [
      "13.053892215568862\n",
      "13.053892215568862\n",
      "13.053892215568862\n",
      "13.053892215568862\n",
      "13.053892215568862\n",
      "13.053892215568862\n",
      "13.053892215568862\n",
      "13.053892215568862\n",
      "13.053892215568862\n",
      "13.053892215568862\n",
      "13.053892215568862\n",
      "13.053892215568862\n",
      "13.053892215568862\n",
      "13.053892215568862\n"
     ]
    },
    {
     "name": "stderr",
     "output_type": "stream",
     "text": [
      "Iter 1699 | Time 60.4830(61.9456) | Bit/dim 3.8202(3.8406) | Xent 0.9873(1.0580) | Loss 13.4469(10.8243) | Error 0.3518(0.3779) Steps 580(580.12) | Grad Norm 7.1339(10.6670) | Total Time 0.00(0.00)\n",
      "Iter 1700 | Time 61.8267(61.9420) | Bit/dim 3.8311(3.8403) | Xent 1.0074(1.0565) | Loss 10.1455(10.8039) | Error 0.3630(0.3774) Steps 580(580.12) | Grad Norm 6.2619(10.5348) | Total Time 0.00(0.00)\n",
      "Iter 1701 | Time 59.7003(61.8748) | Bit/dim 3.8183(3.8396) | Xent 1.0124(1.0552) | Loss 9.9368(10.7779) | Error 0.3678(0.3771) Steps 592(580.47) | Grad Norm 5.7449(10.3911) | Total Time 0.00(0.00)\n",
      "Iter 1702 | Time 61.9849(61.8781) | Bit/dim 3.8293(3.8393) | Xent 1.0122(1.0539) | Loss 10.2298(10.7615) | Error 0.3559(0.3765) Steps 562(579.92) | Grad Norm 8.5857(10.3370) | Total Time 0.00(0.00)\n",
      "Iter 1703 | Time 61.3918(61.8635) | Bit/dim 3.8271(3.8390) | Xent 1.0292(1.0531) | Loss 10.2550(10.7463) | Error 0.3698(0.3763) Steps 568(579.56) | Grad Norm 7.5180(10.2524) | Total Time 0.00(0.00)\n",
      "Iter 1704 | Time 60.0662(61.8096) | Bit/dim 3.8261(3.8386) | Xent 1.0117(1.0519) | Loss 9.9769(10.7232) | Error 0.3619(0.3759) Steps 562(579.03) | Grad Norm 6.2719(10.1330) | Total Time 0.00(0.00)\n",
      "validating...\n",
      "Epoch 0284 | Time 23.8368, Epoch Time 407.0753(410.1356), Bit/dim 3.8190(best: 3.8292), Xent 0.9743, Loss 4.3061, Error 0.3478(best: 0.3441)\n",
      "===> Using batch size 8000. Total 6 iterations/epoch.\n"
     ]
    },
    {
     "name": "stdout",
     "output_type": "stream",
     "text": [
      "12.994011976047904\n",
      "12.994011976047904\n",
      "12.994011976047904\n",
      "12.994011976047904\n",
      "12.994011976047904\n",
      "12.994011976047904\n",
      "12.994011976047904\n",
      "12.994011976047904\n",
      "12.994011976047904\n",
      "12.994011976047904\n",
      "12.994011976047904\n",
      "12.994011976047904\n",
      "12.994011976047904\n",
      "12.994011976047904\n"
     ]
    },
    {
     "name": "stderr",
     "output_type": "stream",
     "text": [
      "Iter 1705 | Time 61.5913(61.8030) | Bit/dim 3.8202(3.8380) | Xent 1.0146(1.0508) | Loss 13.4698(10.8056) | Error 0.3575(0.3753) Steps 580(579.06) | Grad Norm 5.1286(9.9829) | Total Time 0.00(0.00)\n",
      "Iter 1706 | Time 62.3787(61.8203) | Bit/dim 3.8189(3.8374) | Xent 0.9996(1.0492) | Loss 10.0472(10.7829) | Error 0.3574(0.3748) Steps 586(579.27) | Grad Norm 3.6566(9.7931) | Total Time 0.00(0.00)\n",
      "Iter 1707 | Time 61.6283(61.8145) | Bit/dim 3.8170(3.8368) | Xent 1.0378(1.0489) | Loss 9.9586(10.7581) | Error 0.3701(0.3746) Steps 574(579.11) | Grad Norm 8.9774(9.7686) | Total Time 0.00(0.00)\n",
      "Iter 1708 | Time 62.6652(61.8400) | Bit/dim 3.8189(3.8363) | Xent 1.0109(1.0477) | Loss 10.0219(10.7360) | Error 0.3601(0.3742) Steps 604(579.86) | Grad Norm 11.3130(9.8149) | Total Time 0.00(0.00)\n",
      "Iter 1709 | Time 64.8400(61.9300) | Bit/dim 3.8280(3.8361) | Xent 0.9880(1.0460) | Loss 10.2055(10.7201) | Error 0.3489(0.3734) Steps 568(579.50) | Grad Norm 6.3742(9.7117) | Total Time 0.00(0.00)\n",
      "Iter 1710 | Time 59.2306(61.8491) | Bit/dim 3.8191(3.8355) | Xent 1.0069(1.0448) | Loss 10.1330(10.7025) | Error 0.3588(0.3730) Steps 574(579.34) | Grad Norm 5.5816(9.5878) | Total Time 0.00(0.00)\n",
      "validating...\n",
      "Epoch 0285 | Time 23.6091, Epoch Time 413.5621(410.2384), Bit/dim 3.8205(best: 3.8190), Xent 0.9918, Loss 4.3164, Error 0.3488(best: 0.3441)\n",
      "===> Using batch size 8000. Total 6 iterations/epoch.\n"
     ]
    },
    {
     "name": "stdout",
     "output_type": "stream",
     "text": [
      "12.934131736526945\n",
      "12.934131736526945\n",
      "12.934131736526945\n",
      "12.934131736526945\n",
      "12.934131736526945\n",
      "12.934131736526945\n",
      "12.934131736526945\n",
      "12.934131736526945\n",
      "12.934131736526945\n",
      "12.934131736526945\n",
      "12.934131736526945\n",
      "12.934131736526945\n",
      "12.934131736526945\n",
      "12.934131736526945\n"
     ]
    },
    {
     "name": "stderr",
     "output_type": "stream",
     "text": [
      "Iter 1711 | Time 57.7666(61.7266) | Bit/dim 3.8196(3.8351) | Xent 1.0187(1.0440) | Loss 13.4238(10.7842) | Error 0.3731(0.3730) Steps 580(579.36) | Grad Norm 8.8232(9.5649) | Total Time 0.00(0.00)\n",
      "Iter 1712 | Time 65.0056(61.8250) | Bit/dim 3.8220(3.8347) | Xent 1.0208(1.0433) | Loss 10.0675(10.7627) | Error 0.3601(0.3726) Steps 598(579.92) | Grad Norm 11.4875(9.6226) | Total Time 0.00(0.00)\n",
      "Iter 1713 | Time 65.3116(61.9296) | Bit/dim 3.8182(3.8342) | Xent 1.0324(1.0430) | Loss 10.0977(10.7427) | Error 0.3652(0.3724) Steps 574(579.74) | Grad Norm 15.0109(9.7842) | Total Time 0.00(0.00)\n",
      "Iter 1714 | Time 61.7718(61.9248) | Bit/dim 3.8235(3.8339) | Xent 1.0881(1.0443) | Loss 10.1291(10.7243) | Error 0.3859(0.3728) Steps 574(579.57) | Grad Norm 19.5060(10.0759) | Total Time 0.00(0.00)\n",
      "Iter 1715 | Time 61.8501(61.9226) | Bit/dim 3.8537(3.8344) | Xent 1.2398(1.0502) | Loss 10.4048(10.7147) | Error 0.4247(0.3744) Steps 586(579.76) | Grad Norm 31.1202(10.7072) | Total Time 0.00(0.00)\n",
      "Iter 1716 | Time 61.2285(61.9018) | Bit/dim 3.8325(3.8344) | Xent 1.0985(1.0516) | Loss 10.3024(10.7023) | Error 0.3860(0.3747) Steps 580(579.77) | Grad Norm 14.0085(10.8062) | Total Time 0.00(0.00)\n",
      "validating...\n",
      "Epoch 0286 | Time 23.3804, Epoch Time 414.1094(410.3545), Bit/dim 3.8475(best: 3.8190), Xent 1.1993, Loss 4.4471, Error 0.4308(best: 0.3441)\n",
      "===> Using batch size 8000. Total 6 iterations/epoch.\n"
     ]
    },
    {
     "name": "stdout",
     "output_type": "stream",
     "text": [
      "12.87425149700599\n",
      "12.87425149700599\n",
      "12.87425149700599\n",
      "12.87425149700599\n",
      "12.87425149700599\n",
      "12.87425149700599\n",
      "12.87425149700599\n",
      "12.87425149700599\n",
      "12.87425149700599\n",
      "12.87425149700599\n",
      "12.87425149700599\n",
      "12.87425149700599\n",
      "12.87425149700599\n",
      "12.87425149700599\n"
     ]
    },
    {
     "name": "stderr",
     "output_type": "stream",
     "text": [
      "Iter 1717 | Time 59.2476(61.8221) | Bit/dim 3.8530(3.8349) | Xent 1.2181(1.0566) | Loss 13.9335(10.7993) | Error 0.4444(0.3768) Steps 568(579.42) | Grad Norm 24.0141(11.2025) | Total Time 0.00(0.00)\n",
      "Iter 1718 | Time 64.5512(61.9040) | Bit/dim 3.8576(3.8356) | Xent 1.0660(1.0569) | Loss 10.2710(10.7834) | Error 0.3810(0.3769) Steps 556(578.71) | Grad Norm 25.7887(11.6401) | Total Time 0.00(0.00)\n",
      "Iter 1719 | Time 63.6830(61.9574) | Bit/dim 3.8384(3.8357) | Xent 1.0730(1.0574) | Loss 10.1903(10.7656) | Error 0.3842(0.3771) Steps 598(579.29) | Grad Norm 14.8969(11.7378) | Total Time 0.00(0.00)\n",
      "Iter 1720 | Time 60.9474(61.9271) | Bit/dim 3.8698(3.8367) | Xent 1.1135(1.0591) | Loss 10.3581(10.7534) | Error 0.4004(0.3778) Steps 568(578.95) | Grad Norm 22.3761(12.0569) | Total Time 0.00(0.00)\n",
      "Iter 1721 | Time 58.4341(61.8223) | Bit/dim 3.8219(3.8363) | Xent 1.0834(1.0598) | Loss 10.0950(10.7337) | Error 0.3848(0.3781) Steps 562(578.44) | Grad Norm 8.7825(11.9587) | Total Time 0.00(0.00)\n",
      "Iter 1722 | Time 57.1628(61.6825) | Bit/dim 3.8611(3.8370) | Xent 1.0722(1.0602) | Loss 10.2835(10.7201) | Error 0.3816(0.3782) Steps 568(578.13) | Grad Norm 17.5031(12.1250) | Total Time 0.00(0.00)\n",
      "validating...\n",
      "Epoch 0287 | Time 24.0852, Epoch Time 406.3831(410.2354), Bit/dim 3.8397(best: 3.8190), Xent 1.0555, Loss 4.3674, Error 0.3763(best: 0.3441)\n",
      "===> Using batch size 8000. Total 6 iterations/epoch.\n"
     ]
    },
    {
     "name": "stdout",
     "output_type": "stream",
     "text": [
      "12.814371257485028\n",
      "12.814371257485028\n",
      "12.814371257485028\n",
      "12.814371257485028\n",
      "12.814371257485028\n",
      "12.814371257485028\n",
      "12.814371257485028\n",
      "12.814371257485028\n",
      "12.814371257485028\n",
      "12.814371257485028\n",
      "12.814371257485028\n",
      "12.814371257485028\n",
      "12.814371257485028\n",
      "12.814371257485028\n"
     ]
    },
    {
     "name": "stderr",
     "output_type": "stream",
     "text": [
      "Iter 1723 | Time 60.5370(61.6481) | Bit/dim 3.8427(3.8372) | Xent 1.0978(1.0613) | Loss 13.3030(10.7976) | Error 0.3892(0.3785) Steps 568(577.83) | Grad Norm 13.7904(12.1750) | Total Time 0.00(0.00)\n",
      "Iter 1724 | Time 59.1277(61.5725) | Bit/dim 3.8340(3.8371) | Xent 1.0442(1.0608) | Loss 10.2138(10.7801) | Error 0.3689(0.3782) Steps 586(578.07) | Grad Norm 18.8094(12.3740) | Total Time 0.00(0.00)\n",
      "Iter 1725 | Time 61.1395(61.5595) | Bit/dim 3.8540(3.8376) | Xent 1.0699(1.0611) | Loss 10.1711(10.7618) | Error 0.3806(0.3783) Steps 598(578.67) | Grad Norm 24.7665(12.7458) | Total Time 0.00(0.00)\n",
      "Iter 1726 | Time 60.7040(61.5339) | Bit/dim 3.8452(3.8378) | Xent 1.0390(1.0604) | Loss 10.1753(10.7443) | Error 0.3702(0.3780) Steps 586(578.89) | Grad Norm 9.7037(12.6545) | Total Time 0.00(0.00)\n",
      "Iter 1727 | Time 61.5155(61.5333) | Bit/dim 3.8367(3.8378) | Xent 1.0663(1.0606) | Loss 10.1568(10.7266) | Error 0.3778(0.3780) Steps 586(579.10) | Grad Norm 18.7145(12.8363) | Total Time 0.00(0.00)\n",
      "Iter 1728 | Time 57.1879(61.4030) | Bit/dim 3.8476(3.8381) | Xent 1.0224(1.0594) | Loss 10.1935(10.7106) | Error 0.3622(0.3776) Steps 574(578.95) | Grad Norm 11.7223(12.8029) | Total Time 0.00(0.00)\n",
      "validating...\n",
      "Epoch 0288 | Time 23.6000, Epoch Time 401.6299(409.9772), Bit/dim 3.8444(best: 3.8190), Xent 1.0152, Loss 4.3520, Error 0.3619(best: 0.3441)\n",
      "===> Using batch size 8000. Total 6 iterations/epoch.\n"
     ]
    },
    {
     "name": "stdout",
     "output_type": "stream",
     "text": [
      "12.754491017964073\n",
      "12.754491017964073\n",
      "12.754491017964073\n",
      "12.754491017964073\n",
      "12.754491017964073\n",
      "12.754491017964073\n",
      "12.754491017964073\n",
      "12.754491017964073\n",
      "12.754491017964073\n",
      "12.754491017964073\n",
      "12.754491017964073\n",
      "12.754491017964073\n",
      "12.754491017964073\n",
      "12.754491017964073\n"
     ]
    },
    {
     "name": "stderr",
     "output_type": "stream",
     "text": [
      "Iter 1729 | Time 59.1194(61.3344) | Bit/dim 3.8378(3.8381) | Xent 1.0570(1.0594) | Loss 13.8360(10.8044) | Error 0.3768(0.3775) Steps 580(578.98) | Grad Norm 12.0297(12.7797) | Total Time 0.00(0.00)\n",
      "Iter 1730 | Time 65.3258(61.4542) | Bit/dim 3.8282(3.8378) | Xent 1.0423(1.0589) | Loss 10.3236(10.7900) | Error 0.3729(0.3774) Steps 592(579.37) | Grad Norm 6.9845(12.6058) | Total Time 0.00(0.00)\n",
      "Iter 1731 | Time 64.8791(61.5569) | Bit/dim 3.8430(3.8380) | Xent 1.0512(1.0586) | Loss 10.2295(10.7732) | Error 0.3759(0.3773) Steps 574(579.21) | Grad Norm 11.6748(12.5779) | Total Time 0.00(0.00)\n",
      "Iter 1732 | Time 63.8795(61.6266) | Bit/dim 3.8407(3.8380) | Xent 1.0163(1.0574) | Loss 10.1874(10.7556) | Error 0.3682(0.3771) Steps 598(579.77) | Grad Norm 7.8949(12.4374) | Total Time 0.00(0.00)\n",
      "Iter 1733 | Time 64.0571(61.6995) | Bit/dim 3.8299(3.8378) | Xent 1.0175(1.0562) | Loss 9.9385(10.7311) | Error 0.3650(0.3767) Steps 580(579.78) | Grad Norm 10.1848(12.3698) | Total Time 0.00(0.00)\n",
      "Iter 1734 | Time 63.6359(61.7576) | Bit/dim 3.8288(3.8375) | Xent 1.0138(1.0549) | Loss 10.0681(10.7112) | Error 0.3659(0.3764) Steps 592(580.15) | Grad Norm 9.6523(12.2883) | Total Time 0.00(0.00)\n",
      "validating...\n",
      "Epoch 0289 | Time 23.5151, Epoch Time 421.9929(410.3377), Bit/dim 3.8305(best: 3.8190), Xent 0.9937, Loss 4.3273, Error 0.3546(best: 0.3441)\n",
      "===> Using batch size 8000. Total 6 iterations/epoch.\n"
     ]
    },
    {
     "name": "stdout",
     "output_type": "stream",
     "text": [
      "12.694610778443113\n",
      "12.694610778443113\n",
      "12.694610778443113\n",
      "12.694610778443113\n",
      "12.694610778443113\n",
      "12.694610778443113\n",
      "12.694610778443113\n",
      "12.694610778443113\n",
      "12.694610778443113\n",
      "12.694610778443113\n",
      "12.694610778443113\n",
      "12.694610778443113\n",
      "12.694610778443113\n",
      "12.694610778443113\n"
     ]
    },
    {
     "name": "stderr",
     "output_type": "stream",
     "text": [
      "Iter 1735 | Time 60.8876(61.7315) | Bit/dim 3.8351(3.8374) | Xent 1.0328(1.0542) | Loss 13.8644(10.8058) | Error 0.3732(0.3763) Steps 598(580.68) | Grad Norm 7.1914(12.1354) | Total Time 0.00(0.00)\n",
      "Iter 1736 | Time 61.4217(61.7222) | Bit/dim 3.8285(3.8372) | Xent 1.0033(1.0527) | Loss 10.1703(10.7867) | Error 0.3594(0.3758) Steps 592(581.02) | Grad Norm 9.0664(12.0433) | Total Time 0.00(0.00)\n",
      "Iter 1737 | Time 58.8314(61.6355) | Bit/dim 3.8184(3.8366) | Xent 1.0130(1.0515) | Loss 9.8360(10.7582) | Error 0.3628(0.3754) Steps 580(580.99) | Grad Norm 6.9318(11.8900) | Total Time 0.00(0.00)\n",
      "Iter 1738 | Time 65.0644(61.7384) | Bit/dim 3.8168(3.8360) | Xent 0.9849(1.0495) | Loss 10.1648(10.7404) | Error 0.3566(0.3748) Steps 574(580.78) | Grad Norm 4.7139(11.6747) | Total Time 0.00(0.00)\n",
      "Iter 1739 | Time 60.4512(61.6998) | Bit/dim 3.8234(3.8356) | Xent 1.0023(1.0481) | Loss 10.2235(10.7249) | Error 0.3601(0.3744) Steps 586(580.94) | Grad Norm 6.9450(11.5328) | Total Time 0.00(0.00)\n",
      "Iter 1740 | Time 63.5989(61.7567) | Bit/dim 3.8152(3.8350) | Xent 1.0256(1.0474) | Loss 10.1025(10.7062) | Error 0.3658(0.3741) Steps 586(581.09) | Grad Norm 10.9835(11.5163) | Total Time 0.00(0.00)\n",
      "validating...\n",
      "Epoch 0290 | Time 23.5982, Epoch Time 411.9508(410.3861), Bit/dim 3.8267(best: 3.8190), Xent 0.9742, Loss 4.3138, Error 0.3427(best: 0.3441)\n",
      "===> Using batch size 8000. Total 6 iterations/epoch.\n"
     ]
    },
    {
     "name": "stdout",
     "output_type": "stream",
     "text": [
      "12.634730538922156\n",
      "12.634730538922156\n",
      "12.634730538922156\n",
      "12.634730538922156\n",
      "12.634730538922156\n",
      "12.634730538922156\n",
      "12.634730538922156\n",
      "12.634730538922156\n",
      "12.634730538922156\n",
      "12.634730538922156\n",
      "12.634730538922156\n",
      "12.634730538922156\n",
      "12.634730538922156\n",
      "12.634730538922156\n"
     ]
    },
    {
     "name": "stderr",
     "output_type": "stream",
     "text": [
      "Iter 1741 | Time 61.3564(61.7447) | Bit/dim 3.8311(3.8349) | Xent 1.0025(1.0461) | Loss 13.7237(10.7967) | Error 0.3526(0.3735) Steps 580(581.06) | Grad Norm 9.0769(11.4432) | Total Time 0.00(0.00)\n",
      "Iter 1742 | Time 63.2881(61.7910) | Bit/dim 3.8150(3.8343) | Xent 1.0077(1.0449) | Loss 10.1396(10.7770) | Error 0.3606(0.3731) Steps 580(581.03) | Grad Norm 9.8731(11.3961) | Total Time 0.00(0.00)\n",
      "Iter 1743 | Time 64.6487(61.8767) | Bit/dim 3.8141(3.8337) | Xent 1.0047(1.0437) | Loss 10.0371(10.7548) | Error 0.3569(0.3726) Steps 574(580.82) | Grad Norm 8.3769(11.3055) | Total Time 0.00(0.00)\n",
      "Iter 1744 | Time 67.9712(62.0596) | Bit/dim 3.8201(3.8333) | Xent 0.9920(1.0422) | Loss 10.1855(10.7377) | Error 0.3558(0.3721) Steps 604(581.51) | Grad Norm 8.7152(11.2278) | Total Time 0.00(0.00)\n",
      "Iter 1745 | Time 63.8975(62.1147) | Bit/dim 3.8284(3.8332) | Xent 0.9913(1.0406) | Loss 10.1600(10.7204) | Error 0.3552(0.3716) Steps 598(582.01) | Grad Norm 7.6273(11.1198) | Total Time 0.00(0.00)\n",
      "Iter 1746 | Time 63.3655(62.1522) | Bit/dim 3.8175(3.8327) | Xent 0.9947(1.0393) | Loss 10.0691(10.7009) | Error 0.3542(0.3711) Steps 580(581.95) | Grad Norm 8.5284(11.0420) | Total Time 0.00(0.00)\n",
      "validating...\n",
      "Epoch 0291 | Time 23.5524, Epoch Time 426.3584(410.8653), Bit/dim 3.8235(best: 3.8190), Xent 0.9793, Loss 4.3132, Error 0.3453(best: 0.3427)\n",
      "===> Using batch size 8000. Total 6 iterations/epoch.\n"
     ]
    },
    {
     "name": "stdout",
     "output_type": "stream",
     "text": [
      "12.574850299401197\n",
      "12.574850299401197\n",
      "12.574850299401197\n",
      "12.574850299401197\n",
      "12.574850299401197\n",
      "12.574850299401197\n",
      "12.574850299401197\n",
      "12.574850299401197\n",
      "12.574850299401197\n",
      "12.574850299401197\n",
      "12.574850299401197\n",
      "12.574850299401197\n",
      "12.574850299401197\n",
      "12.574850299401197\n"
     ]
    },
    {
     "name": "stderr",
     "output_type": "stream",
     "text": [
      "Iter 1747 | Time 61.4211(62.1303) | Bit/dim 3.8311(3.8326) | Xent 1.0047(1.0382) | Loss 13.8500(10.7953) | Error 0.3620(0.3708) Steps 598(582.43) | Grad Norm 13.9683(11.1298) | Total Time 0.00(0.00)\n",
      "Iter 1748 | Time 64.7518(62.2090) | Bit/dim 3.8279(3.8325) | Xent 1.0376(1.0382) | Loss 10.1008(10.7745) | Error 0.3708(0.3708) Steps 592(582.71) | Grad Norm 16.6799(11.2963) | Total Time 0.00(0.00)\n",
      "Iter 1749 | Time 61.3976(62.1846) | Bit/dim 3.8162(3.8320) | Xent 1.0033(1.0372) | Loss 10.0901(10.7540) | Error 0.3628(0.3706) Steps 580(582.63) | Grad Norm 13.6699(11.3675) | Total Time 0.00(0.00)\n",
      "Iter 1750 | Time 59.4180(62.1016) | Bit/dim 3.8152(3.8315) | Xent 0.9822(1.0355) | Loss 9.9809(10.7308) | Error 0.3515(0.3700) Steps 574(582.37) | Grad Norm 5.6412(11.1957) | Total Time 0.00(0.00)\n",
      "Iter 1751 | Time 63.0875(62.1312) | Bit/dim 3.8226(3.8312) | Xent 0.9843(1.0340) | Loss 9.9706(10.7080) | Error 0.3550(0.3695) Steps 586(582.48) | Grad Norm 13.4934(11.2647) | Total Time 0.00(0.00)\n",
      "Iter 1752 | Time 61.6272(62.1161) | Bit/dim 3.8206(3.8309) | Xent 1.0381(1.0341) | Loss 10.2403(10.6939) | Error 0.3711(0.3696) Steps 592(582.77) | Grad Norm 14.1097(11.3500) | Total Time 0.00(0.00)\n",
      "validating...\n",
      "Epoch 0292 | Time 24.0344, Epoch Time 413.6554(410.9490), Bit/dim 3.8200(best: 3.8190), Xent 0.9866, Loss 4.3133, Error 0.3464(best: 0.3427)\n",
      "===> Using batch size 8000. Total 6 iterations/epoch.\n"
     ]
    },
    {
     "name": "stdout",
     "output_type": "stream",
     "text": [
      "12.514970059880241\n",
      "12.514970059880241\n",
      "12.514970059880241\n",
      "12.514970059880241\n",
      "12.514970059880241\n",
      "12.514970059880241\n",
      "12.514970059880241\n",
      "12.514970059880241\n",
      "12.514970059880241\n",
      "12.514970059880241\n",
      "12.514970059880241\n",
      "12.514970059880241\n",
      "12.514970059880241\n",
      "12.514970059880241\n"
     ]
    },
    {
     "name": "stderr",
     "output_type": "stream",
     "text": [
      "Iter 1753 | Time 63.0212(62.1432) | Bit/dim 3.8331(3.8310) | Xent 0.9848(1.0326) | Loss 13.6984(10.7841) | Error 0.3519(0.3691) Steps 598(583.23) | Grad Norm 10.8492(11.3350) | Total Time 0.00(0.00)\n",
      "Iter 1754 | Time 62.0170(62.1394) | Bit/dim 3.8155(3.8305) | Xent 1.0186(1.0322) | Loss 10.0295(10.7614) | Error 0.3580(0.3687) Steps 586(583.31) | Grad Norm 15.3860(11.4565) | Total Time 0.00(0.00)\n",
      "Iter 1755 | Time 63.8993(62.1922) | Bit/dim 3.8213(3.8302) | Xent 1.0102(1.0315) | Loss 10.3319(10.7486) | Error 0.3606(0.3685) Steps 592(583.57) | Grad Norm 10.6853(11.4334) | Total Time 0.00(0.00)\n",
      "Iter 1756 | Time 60.5441(62.1428) | Bit/dim 3.8020(3.8294) | Xent 0.9963(1.0305) | Loss 10.1072(10.7293) | Error 0.3564(0.3681) Steps 592(583.82) | Grad Norm 4.7240(11.2321) | Total Time 0.00(0.00)\n",
      "Iter 1757 | Time 64.1420(62.2028) | Bit/dim 3.8131(3.8289) | Xent 1.0265(1.0304) | Loss 10.1600(10.7122) | Error 0.3635(0.3680) Steps 592(584.07) | Grad Norm 9.2776(11.1735) | Total Time 0.00(0.00)\n",
      "Iter 1758 | Time 64.6306(62.2756) | Bit/dim 3.8100(3.8283) | Xent 1.0206(1.0301) | Loss 10.1107(10.6942) | Error 0.3648(0.3679) Steps 598(584.49) | Grad Norm 8.3925(11.0900) | Total Time 0.00(0.00)\n",
      "validating...\n",
      "Epoch 0293 | Time 24.1713, Epoch Time 420.5246(411.2362), Bit/dim 3.8112(best: 3.8190), Xent 0.9780, Loss 4.3002, Error 0.3491(best: 0.3427)\n",
      "===> Using batch size 8000. Total 6 iterations/epoch.\n"
     ]
    },
    {
     "name": "stdout",
     "output_type": "stream",
     "text": [
      "12.45508982035928\n",
      "12.45508982035928\n",
      "12.45508982035928\n",
      "12.45508982035928\n",
      "12.45508982035928\n",
      "12.45508982035928\n",
      "12.45508982035928\n",
      "12.45508982035928\n",
      "12.45508982035928\n",
      "12.45508982035928\n",
      "12.45508982035928\n",
      "12.45508982035928\n",
      "12.45508982035928\n",
      "12.45508982035928\n"
     ]
    },
    {
     "name": "stderr",
     "output_type": "stream",
     "text": [
      "Iter 1759 | Time 67.3291(62.4272) | Bit/dim 3.8133(3.8279) | Xent 0.9994(1.0291) | Loss 13.7961(10.7872) | Error 0.3562(0.3675) Steps 598(584.89) | Grad Norm 9.7827(11.0508) | Total Time 0.00(0.00)\n",
      "Iter 1760 | Time 62.8435(62.4397) | Bit/dim 3.8189(3.8276) | Xent 0.9905(1.0280) | Loss 10.0559(10.7653) | Error 0.3514(0.3671) Steps 574(584.56) | Grad Norm 11.1025(11.0524) | Total Time 0.00(0.00)\n",
      "Iter 1761 | Time 63.5738(62.4737) | Bit/dim 3.8109(3.8271) | Xent 0.9807(1.0266) | Loss 9.9832(10.7418) | Error 0.3511(0.3666) Steps 598(584.97) | Grad Norm 5.7685(10.8938) | Total Time 0.00(0.00)\n",
      "Iter 1762 | Time 59.7824(62.3930) | Bit/dim 3.8196(3.8269) | Xent 1.0004(1.0258) | Loss 10.2397(10.7268) | Error 0.3549(0.3662) Steps 592(585.18) | Grad Norm 8.5284(10.8229) | Total Time 0.00(0.00)\n",
      "Iter 1763 | Time 62.9487(62.4097) | Bit/dim 3.8235(3.8268) | Xent 0.9798(1.0244) | Loss 10.1505(10.7095) | Error 0.3456(0.3656) Steps 592(585.38) | Grad Norm 14.4343(10.9312) | Total Time 0.00(0.00)\n",
      "Iter 1764 | Time 62.9493(62.4258) | Bit/dim 3.8033(3.8261) | Xent 0.9977(1.0236) | Loss 10.2207(10.6948) | Error 0.3522(0.3652) Steps 586(585.40) | Grad Norm 14.4543(11.0369) | Total Time 0.00(0.00)\n",
      "validating...\n",
      "Epoch 0294 | Time 24.0235, Epoch Time 422.4218(411.5718), Bit/dim 3.8103(best: 3.8112), Xent 0.9708, Loss 4.2957, Error 0.3473(best: 0.3427)\n",
      "===> Using batch size 8000. Total 6 iterations/epoch.\n"
     ]
    },
    {
     "name": "stdout",
     "output_type": "stream",
     "text": [
      "12.395209580838324\n",
      "12.395209580838324\n",
      "12.395209580838324\n",
      "12.395209580838324\n",
      "12.395209580838324\n",
      "12.395209580838324\n",
      "12.395209580838324\n",
      "12.395209580838324\n",
      "12.395209580838324\n",
      "12.395209580838324\n",
      "12.395209580838324\n",
      "12.395209580838324\n",
      "12.395209580838324\n",
      "12.395209580838324\n"
     ]
    },
    {
     "name": "stderr",
     "output_type": "stream",
     "text": [
      "Iter 1765 | Time 62.6521(62.4326) | Bit/dim 3.8140(3.8257) | Xent 0.9899(1.0226) | Loss 13.2600(10.7718) | Error 0.3548(0.3649) Steps 586(585.42) | Grad Norm 9.7344(10.9978) | Total Time 0.00(0.00)\n",
      "Iter 1766 | Time 62.7830(62.4431) | Bit/dim 3.8181(3.8255) | Xent 0.9850(1.0215) | Loss 9.9116(10.7460) | Error 0.3542(0.3646) Steps 586(585.44) | Grad Norm 5.6720(10.8381) | Total Time 0.00(0.00)\n",
      "Iter 1767 | Time 62.6328(62.4488) | Bit/dim 3.8103(3.8250) | Xent 0.9795(1.0202) | Loss 9.9170(10.7211) | Error 0.3468(0.3640) Steps 592(585.63) | Grad Norm 6.3990(10.7049) | Total Time 0.00(0.00)\n",
      "Iter 1768 | Time 64.3972(62.5073) | Bit/dim 3.8096(3.8246) | Xent 0.9699(1.0187) | Loss 10.0773(10.7018) | Error 0.3430(0.3634) Steps 574(585.28) | Grad Norm 5.7777(10.5571) | Total Time 0.00(0.00)\n",
      "Iter 1769 | Time 62.3361(62.5021) | Bit/dim 3.8058(3.8240) | Xent 0.9792(1.0175) | Loss 10.2950(10.6896) | Error 0.3475(0.3629) Steps 568(584.77) | Grad Norm 6.1448(10.4247) | Total Time 0.00(0.00)\n",
      "Iter 1770 | Time 57.4776(62.3514) | Bit/dim 3.7877(3.8229) | Xent 0.9728(1.0162) | Loss 9.8144(10.6633) | Error 0.3471(0.3625) Steps 592(584.98) | Grad Norm 5.2567(10.2697) | Total Time 0.00(0.00)\n",
      "validating...\n",
      "Epoch 0295 | Time 23.5867, Epoch Time 413.8827(411.6411), Bit/dim 3.8130(best: 3.8103), Xent 0.9472, Loss 4.2866, Error 0.3376(best: 0.3427)\n",
      "===> Using batch size 8000. Total 6 iterations/epoch.\n"
     ]
    },
    {
     "name": "stdout",
     "output_type": "stream",
     "text": [
      "12.335329341317365\n",
      "12.335329341317365\n",
      "12.335329341317365\n",
      "12.335329341317365\n",
      "12.335329341317365\n",
      "12.335329341317365\n",
      "12.335329341317365\n",
      "12.335329341317365\n",
      "12.335329341317365\n",
      "12.335329341317365\n",
      "12.335329341317365\n",
      "12.335329341317365\n",
      "12.335329341317365\n",
      "12.335329341317365\n"
     ]
    },
    {
     "name": "stderr",
     "output_type": "stream",
     "text": [
      "Iter 1771 | Time 63.3184(62.3804) | Bit/dim 3.8037(3.8223) | Xent 0.9526(1.0143) | Loss 13.5778(10.7508) | Error 0.3444(0.3619) Steps 592(585.19) | Grad Norm 3.8570(10.0773) | Total Time 0.00(0.00)\n",
      "Iter 1772 | Time 61.0705(62.3411) | Bit/dim 3.8082(3.8219) | Xent 0.9656(1.0128) | Loss 10.1890(10.7339) | Error 0.3427(0.3613) Steps 574(584.86) | Grad Norm 3.4289(9.8778) | Total Time 0.00(0.00)\n",
      "Iter 1773 | Time 61.8743(62.3271) | Bit/dim 3.8046(3.8214) | Xent 0.9914(1.0122) | Loss 10.0800(10.7143) | Error 0.3534(0.3611) Steps 574(584.53) | Grad Norm 5.3125(9.7409) | Total Time 0.00(0.00)\n",
      "Iter 1774 | Time 66.1351(62.4414) | Bit/dim 3.8078(3.8210) | Xent 0.9949(1.0116) | Loss 9.9002(10.6899) | Error 0.3515(0.3608) Steps 604(585.12) | Grad Norm 9.6603(9.7385) | Total Time 0.00(0.00)\n",
      "Iter 1775 | Time 57.8512(62.3037) | Bit/dim 3.8156(3.8208) | Xent 0.9970(1.0112) | Loss 9.9104(10.6665) | Error 0.3564(0.3607) Steps 580(584.96) | Grad Norm 17.8377(9.9814) | Total Time 0.00(0.00)\n",
      "Iter 1776 | Time 68.1173(62.4781) | Bit/dim 3.8304(3.8211) | Xent 1.0263(1.0117) | Loss 10.3922(10.6583) | Error 0.3660(0.3608) Steps 598(585.35) | Grad Norm 24.3937(10.4138) | Total Time 0.00(0.00)\n",
      "validating...\n",
      "Epoch 0296 | Time 24.1556, Epoch Time 420.9093(411.9192), Bit/dim 3.8142(best: 3.8103), Xent 0.9661, Loss 4.2973, Error 0.3411(best: 0.3376)\n",
      "===> Using batch size 8000. Total 6 iterations/epoch.\n"
     ]
    },
    {
     "name": "stdout",
     "output_type": "stream",
     "text": [
      "12.275449101796408\n",
      "12.275449101796408\n",
      "12.275449101796408\n",
      "12.275449101796408\n",
      "12.275449101796408\n",
      "12.275449101796408\n",
      "12.275449101796408\n",
      "12.275449101796408\n",
      "12.275449101796408\n",
      "12.275449101796408\n",
      "12.275449101796408\n",
      "12.275449101796408\n",
      "12.275449101796408\n",
      "12.275449101796408\n"
     ]
    },
    {
     "name": "stderr",
     "output_type": "stream",
     "text": [
      "Iter 1777 | Time 64.7139(62.5451) | Bit/dim 3.7965(3.8204) | Xent 0.9772(1.0106) | Loss 13.0976(10.7314) | Error 0.3476(0.3604) Steps 592(585.55) | Grad Norm 9.7001(10.3924) | Total Time 0.00(0.00)\n",
      "Iter 1778 | Time 64.0757(62.5911) | Bit/dim 3.8117(3.8201) | Xent 1.0412(1.0115) | Loss 10.2198(10.7161) | Error 0.3710(0.3608) Steps 568(585.03) | Grad Norm 12.7411(10.4629) | Total Time 0.00(0.00)\n",
      "Iter 1779 | Time 65.7934(62.6871) | Bit/dim 3.8278(3.8203) | Xent 1.0309(1.0121) | Loss 10.1380(10.6988) | Error 0.3676(0.3610) Steps 586(585.06) | Grad Norm 13.1570(10.5437) | Total Time 0.00(0.00)\n",
      "Iter 1780 | Time 60.0062(62.6067) | Bit/dim 3.8091(3.8200) | Xent 0.9894(1.0114) | Loss 10.0386(10.6789) | Error 0.3550(0.3608) Steps 604(585.62) | Grad Norm 7.6963(10.4583) | Total Time 0.00(0.00)\n",
      "Iter 1781 | Time 58.1057(62.4717) | Bit/dim 3.8274(3.8202) | Xent 1.0199(1.0117) | Loss 10.2185(10.6651) | Error 0.3656(0.3609) Steps 586(585.64) | Grad Norm 20.7659(10.7675) | Total Time 0.00(0.00)\n",
      "Iter 1782 | Time 61.7488(62.4500) | Bit/dim 3.8065(3.8198) | Xent 1.0282(1.0122) | Loss 10.1483(10.6496) | Error 0.3666(0.3611) Steps 556(584.75) | Grad Norm 14.8483(10.8899) | Total Time 0.00(0.00)\n",
      "validating...\n",
      "Epoch 0297 | Time 23.5308, Epoch Time 416.0767(412.0439), Bit/dim 3.8036(best: 3.8103), Xent 0.9839, Loss 4.2956, Error 0.3440(best: 0.3376)\n",
      "===> Using batch size 8000. Total 6 iterations/epoch.\n"
     ]
    },
    {
     "name": "stdout",
     "output_type": "stream",
     "text": [
      "12.215568862275449\n",
      "12.215568862275449\n",
      "12.215568862275449\n",
      "12.215568862275449\n",
      "12.215568862275449\n",
      "12.215568862275449\n",
      "12.215568862275449\n",
      "12.215568862275449\n",
      "12.215568862275449\n",
      "12.215568862275449\n",
      "12.215568862275449\n",
      "12.215568862275449\n",
      "12.215568862275449\n",
      "12.215568862275449\n"
     ]
    },
    {
     "name": "stderr",
     "output_type": "stream",
     "text": [
      "Iter 1783 | Time 57.9632(62.3154) | Bit/dim 3.8074(3.8195) | Xent 1.0101(1.0121) | Loss 13.9276(10.7480) | Error 0.3625(0.3611) Steps 592(584.96) | Grad Norm 7.9612(10.8021) | Total Time 0.00(0.00)\n",
      "Iter 1784 | Time 58.6453(62.2053) | Bit/dim 3.7998(3.8189) | Xent 1.0140(1.0122) | Loss 10.2421(10.7328) | Error 0.3612(0.3611) Steps 580(584.82) | Grad Norm 11.9566(10.8367) | Total Time 0.00(0.00)\n",
      "Iter 1785 | Time 61.4781(62.1835) | Bit/dim 3.8188(3.8189) | Xent 1.0188(1.0124) | Loss 9.9386(10.7090) | Error 0.3618(0.3612) Steps 568(584.31) | Grad Norm 12.0420(10.8728) | Total Time 0.00(0.00)\n",
      "Iter 1786 | Time 63.5392(62.2241) | Bit/dim 3.8230(3.8190) | Xent 1.0462(1.0134) | Loss 10.1855(10.6933) | Error 0.3729(0.3615) Steps 616(585.26) | Grad Norm 12.8226(10.9313) | Total Time 0.00(0.00)\n",
      "Iter 1787 | Time 58.8837(62.1239) | Bit/dim 3.8198(3.8190) | Xent 1.0014(1.0130) | Loss 10.2957(10.6813) | Error 0.3539(0.3613) Steps 574(584.92) | Grad Norm 14.2322(11.0304) | Total Time 0.00(0.00)\n",
      "Iter 1788 | Time 64.7590(62.2030) | Bit/dim 3.8213(3.8191) | Xent 0.9808(1.0121) | Loss 10.1164(10.6644) | Error 0.3510(0.3610) Steps 610(585.68) | Grad Norm 14.8822(11.1459) | Total Time 0.00(0.00)\n",
      "validating...\n",
      "Epoch 0298 | Time 23.6131, Epoch Time 407.3346(411.9026), Bit/dim 3.8189(best: 3.8036), Xent 0.9686, Loss 4.3032, Error 0.3442(best: 0.3376)\n",
      "===> Using batch size 8000. Total 6 iterations/epoch.\n"
     ]
    },
    {
     "name": "stdout",
     "output_type": "stream",
     "text": [
      "12.155688622754493\n",
      "12.155688622754493\n",
      "12.155688622754493\n",
      "12.155688622754493\n",
      "12.155688622754493\n",
      "12.155688622754493\n",
      "12.155688622754493\n",
      "12.155688622754493\n",
      "12.155688622754493\n",
      "12.155688622754493\n",
      "12.155688622754493\n",
      "12.155688622754493\n",
      "12.155688622754493\n",
      "12.155688622754493\n"
     ]
    },
    {
     "name": "stderr",
     "output_type": "stream",
     "text": [
      "Iter 1789 | Time 64.2071(62.2631) | Bit/dim 3.8213(3.8191) | Xent 0.9978(1.0116) | Loss 13.4169(10.7470) | Error 0.3621(0.3610) Steps 604(586.23) | Grad Norm 10.0115(11.1119) | Total Time 0.00(0.00)\n",
      "Iter 1790 | Time 63.2416(62.2925) | Bit/dim 3.8070(3.8188) | Xent 1.0328(1.0123) | Loss 10.1002(10.7276) | Error 0.3694(0.3613) Steps 598(586.58) | Grad Norm 20.6118(11.3969) | Total Time 0.00(0.00)\n",
      "Iter 1791 | Time 59.6659(62.2137) | Bit/dim 3.8103(3.8185) | Xent 1.0259(1.0127) | Loss 10.2763(10.7140) | Error 0.3591(0.3612) Steps 574(586.20) | Grad Norm 25.0717(11.8071) | Total Time 0.00(0.00)\n",
      "Iter 1792 | Time 60.8029(62.1713) | Bit/dim 3.8167(3.8185) | Xent 0.9821(1.0118) | Loss 10.1152(10.6961) | Error 0.3485(0.3608) Steps 592(586.38) | Grad Norm 11.4328(11.7959) | Total Time 0.00(0.00)\n",
      "Iter 1793 | Time 63.5068(62.2114) | Bit/dim 3.8221(3.8186) | Xent 0.9828(1.0109) | Loss 9.9032(10.6723) | Error 0.3500(0.3605) Steps 604(586.90) | Grad Norm 11.9730(11.8012) | Total Time 0.00(0.00)\n",
      "Iter 1794 | Time 65.6275(62.3139) | Bit/dim 3.8183(3.8186) | Xent 1.0152(1.0110) | Loss 10.2724(10.6603) | Error 0.3655(0.3606) Steps 568(586.34) | Grad Norm 14.0552(11.8688) | Total Time 0.00(0.00)\n",
      "validating...\n",
      "Epoch 0299 | Time 24.2603, Epoch Time 419.2330(412.1225), Bit/dim 3.8103(best: 3.8036), Xent 0.9957, Loss 4.3082, Error 0.3552(best: 0.3376)\n",
      "===> Using batch size 8000. Total 6 iterations/epoch.\n"
     ]
    },
    {
     "name": "stdout",
     "output_type": "stream",
     "text": [
      "12.095808383233532\n",
      "12.095808383233532\n",
      "12.095808383233532\n",
      "12.095808383233532\n",
      "12.095808383233532\n",
      "12.095808383233532\n",
      "12.095808383233532\n",
      "12.095808383233532\n",
      "12.095808383233532\n",
      "12.095808383233532\n",
      "12.095808383233532\n",
      "12.095808383233532\n",
      "12.095808383233532\n",
      "12.095808383233532\n"
     ]
    },
    {
     "name": "stderr",
     "output_type": "stream",
     "text": [
      "Iter 1795 | Time 63.2680(62.3425) | Bit/dim 3.8070(3.8182) | Xent 0.9997(1.0107) | Loss 13.6144(10.7489) | Error 0.3504(0.3603) Steps 586(586.33) | Grad Norm 10.2804(11.8212) | Total Time 0.00(0.00)\n",
      "Iter 1796 | Time 62.5658(62.3492) | Bit/dim 3.8149(3.8181) | Xent 1.0126(1.0107) | Loss 10.0806(10.7288) | Error 0.3586(0.3603) Steps 544(585.06) | Grad Norm 10.0320(11.7675) | Total Time 0.00(0.00)\n",
      "Iter 1797 | Time 62.2494(62.3462) | Bit/dim 3.8112(3.8179) | Xent 0.9817(1.0099) | Loss 10.0925(10.7098) | Error 0.3538(0.3601) Steps 568(584.55) | Grad Norm 10.7938(11.7383) | Total Time 0.00(0.00)\n",
      "Iter 1798 | Time 62.3480(62.3463) | Bit/dim 3.8247(3.8181) | Xent 1.0237(1.0103) | Loss 10.3409(10.6987) | Error 0.3636(0.3602) Steps 604(585.13) | Grad Norm 14.1963(11.8120) | Total Time 0.00(0.00)\n",
      "Iter 1799 | Time 62.3234(62.3456) | Bit/dim 3.7951(3.8174) | Xent 0.9956(1.0098) | Loss 10.2630(10.6856) | Error 0.3580(0.3601) Steps 574(584.80) | Grad Norm 8.9127(11.7251) | Total Time 0.00(0.00)\n",
      "Iter 1800 | Time 63.7164(62.3867) | Bit/dim 3.8292(3.8178) | Xent 1.0246(1.0103) | Loss 10.2113(10.6714) | Error 0.3608(0.3601) Steps 574(584.47) | Grad Norm 15.6719(11.8435) | Total Time 0.00(0.00)\n",
      "validating...\n",
      "Epoch 0300 | Time 23.5127, Epoch Time 417.9439(412.2972), Bit/dim 3.8204(best: 3.8036), Xent 0.9911, Loss 4.3159, Error 0.3495(best: 0.3376)\n",
      "===> Using batch size 8000. Total 6 iterations/epoch.\n"
     ]
    },
    {
     "name": "stdout",
     "output_type": "stream",
     "text": [
      "12.035928143712576\n",
      "12.035928143712576\n",
      "12.035928143712576\n",
      "12.035928143712576\n",
      "12.035928143712576\n",
      "12.035928143712576\n",
      "12.035928143712576\n",
      "12.035928143712576\n",
      "12.035928143712576\n",
      "12.035928143712576\n",
      "12.035928143712576\n",
      "12.035928143712576\n",
      "12.035928143712576\n",
      "12.035928143712576\n"
     ]
    },
    {
     "name": "stderr",
     "output_type": "stream",
     "text": [
      "Iter 1801 | Time 60.5896(62.3328) | Bit/dim 3.8163(3.8177) | Xent 0.9969(1.0099) | Loss 13.2536(10.7489) | Error 0.3592(0.3601) Steps 586(584.52) | Grad Norm 18.2328(12.0351) | Total Time 0.00(0.00)\n",
      "Iter 1802 | Time 60.0236(62.2635) | Bit/dim 3.8174(3.8177) | Xent 0.9736(1.0088) | Loss 10.1246(10.7301) | Error 0.3469(0.3597) Steps 610(585.28) | Grad Norm 7.9161(11.9116) | Total Time 0.00(0.00)\n",
      "Iter 1803 | Time 64.2508(62.3231) | Bit/dim 3.8153(3.8177) | Xent 1.0142(1.0090) | Loss 10.2583(10.7160) | Error 0.3666(0.3599) Steps 604(585.84) | Grad Norm 14.6508(11.9937) | Total Time 0.00(0.00)\n",
      "Iter 1804 | Time 61.9529(62.3120) | Bit/dim 3.8114(3.8175) | Xent 0.9840(1.0082) | Loss 10.1974(10.7004) | Error 0.3528(0.3597) Steps 580(585.67) | Grad Norm 8.4549(11.8876) | Total Time 0.00(0.00)\n",
      "Iter 1805 | Time 61.1769(62.2780) | Bit/dim 3.8240(3.8177) | Xent 0.9882(1.0076) | Loss 10.1521(10.6840) | Error 0.3535(0.3595) Steps 574(585.32) | Grad Norm 9.3956(11.8128) | Total Time 0.00(0.00)\n",
      "Iter 1806 | Time 58.5639(62.1666) | Bit/dim 3.7968(3.8170) | Xent 0.9862(1.0070) | Loss 10.2077(10.6697) | Error 0.3506(0.3593) Steps 568(584.80) | Grad Norm 8.3938(11.7102) | Total Time 0.00(0.00)\n",
      "validating...\n",
      "Epoch 0301 | Time 23.5182, Epoch Time 407.2873(412.1469), Bit/dim 3.8128(best: 3.8036), Xent 0.9624, Loss 4.2940, Error 0.3466(best: 0.3376)\n",
      "===> Using batch size 8000. Total 6 iterations/epoch.\n"
     ]
    },
    {
     "name": "stdout",
     "output_type": "stream",
     "text": [
      "11.976047904191617\n",
      "11.976047904191617\n",
      "11.976047904191617\n",
      "11.976047904191617\n",
      "11.976047904191617\n",
      "11.976047904191617\n",
      "11.976047904191617\n",
      "11.976047904191617\n",
      "11.976047904191617\n",
      "11.976047904191617\n",
      "11.976047904191617\n",
      "11.976047904191617\n",
      "11.976047904191617\n",
      "11.976047904191617\n"
     ]
    },
    {
     "name": "stderr",
     "output_type": "stream",
     "text": [
      "Iter 1807 | Time 62.8068(62.1858) | Bit/dim 3.8122(3.8169) | Xent 0.9738(1.0060) | Loss 13.5899(10.7573) | Error 0.3511(0.3590) Steps 598(585.19) | Grad Norm 6.2319(11.5459) | Total Time 0.00(0.00)\n",
      "Iter 1808 | Time 60.5880(62.1378) | Bit/dim 3.8063(3.8166) | Xent 1.0006(1.0058) | Loss 10.3316(10.7445) | Error 0.3568(0.3589) Steps 580(585.04) | Grad Norm 10.0087(11.4998) | Total Time 0.00(0.00)\n",
      "Iter 1809 | Time 63.7504(62.1862) | Bit/dim 3.8173(3.8166) | Xent 1.0023(1.0057) | Loss 10.1621(10.7270) | Error 0.3522(0.3587) Steps 592(585.25) | Grad Norm 10.8496(11.4803) | Total Time 0.00(0.00)\n",
      "Iter 1810 | Time 62.3374(62.1907) | Bit/dim 3.7947(3.8159) | Xent 0.9575(1.0043) | Loss 10.1492(10.7097) | Error 0.3387(0.3581) Steps 604(585.81) | Grad Norm 6.4925(11.3306) | Total Time 0.00(0.00)\n",
      "Iter 1811 | Time 58.1580(62.0698) | Bit/dim 3.8199(3.8161) | Xent 0.9593(1.0029) | Loss 10.1451(10.6928) | Error 0.3407(0.3576) Steps 568(585.28) | Grad Norm 7.9702(11.2298) | Total Time 0.00(0.00)\n",
      "Iter 1812 | Time 64.5882(62.1453) | Bit/dim 3.8032(3.8157) | Xent 0.9949(1.0027) | Loss 9.7919(10.6657) | Error 0.3604(0.3577) Steps 586(585.30) | Grad Norm 10.0807(11.1954) | Total Time 0.00(0.00)\n",
      "validating...\n",
      "Epoch 0302 | Time 24.0622, Epoch Time 413.7683(412.1955), Bit/dim 3.8090(best: 3.8036), Xent 0.9474, Loss 4.2827, Error 0.3315(best: 0.3376)\n",
      "===> Using batch size 8000. Total 6 iterations/epoch.\n"
     ]
    },
    {
     "name": "stdout",
     "output_type": "stream",
     "text": [
      "11.916167664670658\n",
      "11.916167664670658\n",
      "11.916167664670658\n",
      "11.916167664670658\n",
      "11.916167664670658\n",
      "11.916167664670658\n",
      "11.916167664670658\n",
      "11.916167664670658\n",
      "11.916167664670658\n",
      "11.916167664670658\n",
      "11.916167664670658\n",
      "11.916167664670658\n",
      "11.916167664670658\n",
      "11.916167664670658\n"
     ]
    },
    {
     "name": "stderr",
     "output_type": "stream",
     "text": [
      "Iter 1813 | Time 63.0536(62.1726) | Bit/dim 3.8125(3.8156) | Xent 0.9523(1.0012) | Loss 13.3934(10.7476) | Error 0.3427(0.3573) Steps 592(585.50) | Grad Norm 7.3791(11.0809) | Total Time 0.00(0.00)\n",
      "Iter 1814 | Time 63.1593(62.2022) | Bit/dim 3.8110(3.8154) | Xent 0.9614(1.0000) | Loss 9.8408(10.7204) | Error 0.3411(0.3568) Steps 586(585.51) | Grad Norm 7.1171(10.9620) | Total Time 0.00(0.00)\n",
      "Iter 1815 | Time 58.4825(62.0906) | Bit/dim 3.8107(3.8153) | Xent 0.9717(0.9991) | Loss 9.9210(10.6964) | Error 0.3445(0.3564) Steps 592(585.71) | Grad Norm 10.1142(10.9365) | Total Time 0.00(0.00)\n",
      "Iter 1816 | Time 61.1703(62.0630) | Bit/dim 3.7906(3.8146) | Xent 0.9842(0.9987) | Loss 10.1531(10.6801) | Error 0.3560(0.3564) Steps 598(586.08) | Grad Norm 14.5550(11.0451) | Total Time 0.00(0.00)\n",
      "Iter 1817 | Time 64.4239(62.1338) | Bit/dim 3.8170(3.8146) | Xent 0.9897(0.9984) | Loss 10.0718(10.6618) | Error 0.3534(0.3563) Steps 610(586.79) | Grad Norm 17.8914(11.2505) | Total Time 0.00(0.00)\n",
      "Iter 1818 | Time 66.0860(62.2524) | Bit/dim 3.8011(3.8142) | Xent 1.0097(0.9987) | Loss 10.1705(10.6471) | Error 0.3629(0.3565) Steps 586(586.77) | Grad Norm 18.5294(11.4688) | Total Time 0.00(0.00)\n",
      "validating...\n",
      "Epoch 0303 | Time 23.8759, Epoch Time 418.2403(412.3769), Bit/dim 3.8236(best: 3.8036), Xent 1.0461, Loss 4.3466, Error 0.3656(best: 0.3315)\n",
      "===> Using batch size 8000. Total 6 iterations/epoch.\n"
     ]
    },
    {
     "name": "stdout",
     "output_type": "stream",
     "text": [
      "11.8562874251497\n",
      "11.8562874251497\n",
      "11.8562874251497\n",
      "11.8562874251497\n",
      "11.8562874251497\n",
      "11.8562874251497\n",
      "11.8562874251497\n",
      "11.8562874251497\n",
      "11.8562874251497\n",
      "11.8562874251497\n",
      "11.8562874251497\n",
      "11.8562874251497\n",
      "11.8562874251497\n",
      "11.8562874251497\n"
     ]
    },
    {
     "name": "stderr",
     "output_type": "stream",
     "text": [
      "Iter 1819 | Time 60.4435(62.1981) | Bit/dim 3.8297(3.8147) | Xent 1.0479(1.0002) | Loss 13.4400(10.7309) | Error 0.3655(0.3568) Steps 604(587.29) | Grad Norm 20.2513(11.7323) | Total Time 0.00(0.00)\n",
      "Iter 1820 | Time 60.4596(62.1459) | Bit/dim 3.8220(3.8149) | Xent 1.0792(1.0026) | Loss 10.3650(10.7199) | Error 0.3778(0.3574) Steps 580(587.07) | Grad Norm 15.5731(11.8475) | Total Time 0.00(0.00)\n",
      "Iter 1821 | Time 58.2794(62.0299) | Bit/dim 3.7863(3.8141) | Xent 0.9855(1.0021) | Loss 10.0961(10.7012) | Error 0.3545(0.3573) Steps 574(586.68) | Grad Norm 8.4493(11.7456) | Total Time 0.00(0.00)\n",
      "Iter 1822 | Time 62.7168(62.0505) | Bit/dim 3.8172(3.8141) | Xent 1.1212(1.0056) | Loss 10.2572(10.6879) | Error 0.3932(0.3584) Steps 610(587.38) | Grad Norm 16.3162(11.8827) | Total Time 0.00(0.00)\n",
      "Iter 1823 | Time 63.0716(62.0812) | Bit/dim 3.8162(3.8142) | Xent 1.0676(1.0075) | Loss 9.9915(10.6670) | Error 0.3824(0.3591) Steps 574(586.98) | Grad Norm 13.5064(11.9314) | Total Time 0.00(0.00)\n",
      "Iter 1824 | Time 59.2774(61.9971) | Bit/dim 3.8092(3.8141) | Xent 1.0428(1.0086) | Loss 10.3585(10.6577) | Error 0.3785(0.3597) Steps 574(586.59) | Grad Norm 13.1891(11.9691) | Total Time 0.00(0.00)\n",
      "validating...\n",
      "Epoch 0304 | Time 23.7001, Epoch Time 405.8904(412.1823), Bit/dim 3.8117(best: 3.8036), Xent 0.9874, Loss 4.3054, Error 0.3502(best: 0.3315)\n",
      "===> Using batch size 8000. Total 6 iterations/epoch.\n"
     ]
    },
    {
     "name": "stdout",
     "output_type": "stream",
     "text": [
      "11.796407185628741\n",
      "11.796407185628741\n",
      "11.796407185628741\n",
      "11.796407185628741\n",
      "11.796407185628741\n",
      "11.796407185628741\n",
      "11.796407185628741\n",
      "11.796407185628741\n",
      "11.796407185628741\n",
      "11.796407185628741\n",
      "11.796407185628741\n",
      "11.796407185628741\n",
      "11.796407185628741\n",
      "11.796407185628741\n"
     ]
    },
    {
     "name": "stderr",
     "output_type": "stream",
     "text": [
      "Iter 1825 | Time 60.4409(61.9504) | Bit/dim 3.8197(3.8142) | Xent 1.0031(1.0084) | Loss 13.0632(10.7299) | Error 0.3578(0.3596) Steps 574(586.21) | Grad Norm 10.4381(11.9232) | Total Time 0.00(0.00)\n",
      "Iter 1826 | Time 58.0067(61.8321) | Bit/dim 3.8296(3.8147) | Xent 1.0519(1.0097) | Loss 10.3141(10.7174) | Error 0.3734(0.3600) Steps 580(586.02) | Grad Norm 9.8599(11.8613) | Total Time 0.00(0.00)\n",
      "Iter 1827 | Time 63.6163(61.8856) | Bit/dim 3.8224(3.8149) | Xent 0.9756(1.0087) | Loss 10.1185(10.6995) | Error 0.3460(0.3596) Steps 598(586.38) | Grad Norm 8.1738(11.7507) | Total Time 0.00(0.00)\n",
      "Iter 1828 | Time 63.2955(61.9279) | Bit/dim 3.8058(3.8146) | Xent 1.0205(1.0090) | Loss 10.1770(10.6838) | Error 0.3712(0.3600) Steps 586(586.37) | Grad Norm 9.7858(11.6917) | Total Time 0.00(0.00)\n",
      "Iter 1829 | Time 61.0935(61.9029) | Bit/dim 3.8038(3.8143) | Xent 1.0320(1.0097) | Loss 9.9640(10.6622) | Error 0.3692(0.3603) Steps 586(586.36) | Grad Norm 9.5166(11.6265) | Total Time 0.00(0.00)\n",
      "Iter 1830 | Time 65.4720(62.0099) | Bit/dim 3.8103(3.8142) | Xent 1.0259(1.0102) | Loss 10.0998(10.6453) | Error 0.3670(0.3605) Steps 580(586.17) | Grad Norm 10.3595(11.5885) | Total Time 0.00(0.00)\n",
      "validating...\n",
      "Epoch 0305 | Time 23.5920, Epoch Time 414.4114(412.2491), Bit/dim 3.8173(best: 3.8036), Xent 0.9936, Loss 4.3141, Error 0.3577(best: 0.3315)\n",
      "===> Using batch size 8000. Total 6 iterations/epoch.\n"
     ]
    },
    {
     "name": "stdout",
     "output_type": "stream",
     "text": [
      "11.736526946107785\n",
      "11.736526946107785\n",
      "11.736526946107785\n",
      "11.736526946107785\n",
      "11.736526946107785\n",
      "11.736526946107785\n",
      "11.736526946107785\n",
      "11.736526946107785\n",
      "11.736526946107785\n",
      "11.736526946107785\n",
      "11.736526946107785\n",
      "11.736526946107785\n",
      "11.736526946107785\n",
      "11.736526946107785\n"
     ]
    },
    {
     "name": "stderr",
     "output_type": "stream",
     "text": [
      "Iter 1831 | Time 60.9804(61.9791) | Bit/dim 3.8189(3.8143) | Xent 1.0010(1.0099) | Loss 13.5216(10.7316) | Error 0.3572(0.3604) Steps 568(585.62) | Grad Norm 12.4270(11.6136) | Total Time 0.00(0.00)\n",
      "Iter 1832 | Time 66.1246(62.1034) | Bit/dim 3.8109(3.8142) | Xent 1.0007(1.0097) | Loss 10.2436(10.7170) | Error 0.3569(0.3603) Steps 580(585.45) | Grad Norm 10.4570(11.5789) | Total Time 0.00(0.00)\n",
      "Iter 1833 | Time 62.4845(62.1149) | Bit/dim 3.8146(3.8142) | Xent 1.0210(1.0100) | Loss 10.0256(10.6962) | Error 0.3620(0.3603) Steps 616(586.37) | Grad Norm 12.4558(11.6052) | Total Time 0.00(0.00)\n",
      "Iter 1834 | Time 62.6908(62.1321) | Bit/dim 3.8073(3.8140) | Xent 1.0080(1.0099) | Loss 10.2976(10.6843) | Error 0.3622(0.3604) Steps 592(586.54) | Grad Norm 8.9196(11.5247) | Total Time 0.00(0.00)\n",
      "Iter 1835 | Time 63.5293(62.1740) | Bit/dim 3.8138(3.8140) | Xent 0.9940(1.0095) | Loss 10.1827(10.6692) | Error 0.3520(0.3601) Steps 586(586.52) | Grad Norm 7.1020(11.3920) | Total Time 0.00(0.00)\n",
      "Iter 1836 | Time 61.6173(62.1573) | Bit/dim 3.7960(3.8135) | Xent 0.9950(1.0090) | Loss 10.2878(10.6578) | Error 0.3564(0.3600) Steps 598(586.87) | Grad Norm 10.7434(11.3725) | Total Time 0.00(0.00)\n",
      "validating...\n",
      "Epoch 0306 | Time 23.9432, Epoch Time 419.3418(412.4619), Bit/dim 3.8047(best: 3.8036), Xent 0.9586, Loss 4.2840, Error 0.3416(best: 0.3315)\n",
      "===> Using batch size 8000. Total 6 iterations/epoch.\n"
     ]
    },
    {
     "name": "stdout",
     "output_type": "stream",
     "text": [
      "11.676646706586824\n",
      "11.676646706586824\n",
      "11.676646706586824\n",
      "11.676646706586824\n",
      "11.676646706586824\n",
      "11.676646706586824\n",
      "11.676646706586824\n",
      "11.676646706586824\n",
      "11.676646706586824\n",
      "11.676646706586824\n",
      "11.676646706586824\n",
      "11.676646706586824\n",
      "11.676646706586824\n",
      "11.676646706586824\n"
     ]
    },
    {
     "name": "stderr",
     "output_type": "stream",
     "text": [
      "Iter 1837 | Time 61.9849(62.1522) | Bit/dim 3.8071(3.8133) | Xent 1.0006(1.0088) | Loss 13.1479(10.7325) | Error 0.3584(0.3600) Steps 586(586.84) | Grad Norm 6.0521(11.2129) | Total Time 0.00(0.00)\n",
      "Iter 1838 | Time 64.7507(62.2301) | Bit/dim 3.8096(3.8132) | Xent 0.9538(1.0071) | Loss 9.9200(10.7081) | Error 0.3409(0.3594) Steps 580(586.64) | Grad Norm 8.5907(11.1343) | Total Time 0.00(0.00)\n",
      "Iter 1839 | Time 63.9769(62.2825) | Bit/dim 3.7973(3.8127) | Xent 0.9748(1.0061) | Loss 9.9341(10.6849) | Error 0.3474(0.3590) Steps 574(586.26) | Grad Norm 8.6823(11.0607) | Total Time 0.00(0.00)\n",
      "Iter 1840 | Time 62.7645(62.2970) | Bit/dim 3.8070(3.8125) | Xent 0.9619(1.0048) | Loss 10.0700(10.6664) | Error 0.3386(0.3584) Steps 586(586.25) | Grad Norm 5.7847(10.9024) | Total Time 0.00(0.00)\n",
      "Iter 1841 | Time 61.5856(62.2756) | Bit/dim 3.7914(3.8119) | Xent 0.9752(1.0039) | Loss 10.1075(10.6497) | Error 0.3460(0.3580) Steps 580(586.06) | Grad Norm 13.3296(10.9752) | Total Time 0.00(0.00)\n",
      "Iter 1842 | Time 57.4630(62.1313) | Bit/dim 3.8013(3.8116) | Xent 0.9916(1.0036) | Loss 10.2795(10.6386) | Error 0.3478(0.3577) Steps 592(586.24) | Grad Norm 16.3906(11.1377) | Total Time 0.00(0.00)\n",
      "validating...\n",
      "Epoch 0307 | Time 23.6475, Epoch Time 413.7512(412.5006), Bit/dim 3.8100(best: 3.8036), Xent 0.9543, Loss 4.2871, Error 0.3409(best: 0.3315)\n",
      "===> Using batch size 8000. Total 6 iterations/epoch.\n"
     ]
    },
    {
     "name": "stdout",
     "output_type": "stream",
     "text": [
      "11.616766467065869\n",
      "11.616766467065869\n",
      "11.616766467065869\n",
      "11.616766467065869\n",
      "11.616766467065869\n",
      "11.616766467065869\n",
      "11.616766467065869\n",
      "11.616766467065869\n",
      "11.616766467065869\n",
      "11.616766467065869\n",
      "11.616766467065869\n",
      "11.616766467065869\n",
      "11.616766467065869\n",
      "11.616766467065869\n"
     ]
    },
    {
     "name": "stderr",
     "output_type": "stream",
     "text": [
      "Iter 1843 | Time 61.4487(62.1108) | Bit/dim 3.8190(3.8118) | Xent 0.9575(1.0022) | Loss 13.5758(10.7267) | Error 0.3404(0.3572) Steps 562(585.51) | Grad Norm 12.3175(11.1731) | Total Time 0.00(0.00)\n",
      "Iter 1844 | Time 64.9432(62.1958) | Bit/dim 3.8002(3.8115) | Xent 0.9350(1.0002) | Loss 10.1103(10.7082) | Error 0.3370(0.3566) Steps 598(585.89) | Grad Norm 7.8259(11.0727) | Total Time 0.00(0.00)\n",
      "Iter 1845 | Time 60.9287(62.1577) | Bit/dim 3.8082(3.8114) | Xent 0.9777(0.9995) | Loss 9.9943(10.6868) | Error 0.3516(0.3565) Steps 586(585.89) | Grad Norm 10.9979(11.0704) | Total Time 0.00(0.00)\n",
      "Iter 1846 | Time 63.8613(62.2089) | Bit/dim 3.7942(3.8108) | Xent 1.0057(0.9997) | Loss 10.0083(10.6664) | Error 0.3559(0.3564) Steps 592(586.07) | Grad Norm 9.2059(11.0145) | Total Time 0.00(0.00)\n",
      "Iter 1847 | Time 64.4664(62.2766) | Bit/dim 3.8046(3.8107) | Xent 1.0275(1.0005) | Loss 10.1213(10.6501) | Error 0.3656(0.3567) Steps 580(585.89) | Grad Norm 17.6693(11.2141) | Total Time 0.00(0.00)\n",
      "Iter 1848 | Time 58.4808(62.1627) | Bit/dim 3.8142(3.8108) | Xent 1.0315(1.0014) | Loss 10.2544(10.6382) | Error 0.3605(0.3568) Steps 586(585.90) | Grad Norm 19.7022(11.4688) | Total Time 0.00(0.00)\n",
      "validating...\n",
      "Epoch 0308 | Time 23.3339, Epoch Time 414.1946(412.5514), Bit/dim 3.8094(best: 3.8036), Xent 0.9796, Loss 4.2992, Error 0.3498(best: 0.3315)\n",
      "===> Using batch size 8000. Total 6 iterations/epoch.\n"
     ]
    },
    {
     "name": "stdout",
     "output_type": "stream",
     "text": [
      "11.55688622754491\n",
      "11.55688622754491\n",
      "11.55688622754491\n",
      "11.55688622754491\n",
      "11.55688622754491\n",
      "11.55688622754491\n",
      "11.55688622754491\n",
      "11.55688622754491\n",
      "11.55688622754491\n",
      "11.55688622754491\n",
      "11.55688622754491\n",
      "11.55688622754491\n",
      "11.55688622754491\n",
      "11.55688622754491\n"
     ]
    },
    {
     "name": "stderr",
     "output_type": "stream",
     "text": [
      "Iter 1849 | Time 63.8580(62.2136) | Bit/dim 3.8072(3.8107) | Xent 1.0055(1.0016) | Loss 13.5883(10.7267) | Error 0.3588(0.3569) Steps 580(585.72) | Grad Norm 11.0385(11.4559) | Total Time 0.00(0.00)\n",
      "Iter 1850 | Time 64.3947(62.2790) | Bit/dim 3.8185(3.8109) | Xent 1.0270(1.0023) | Loss 10.1286(10.7087) | Error 0.3662(0.3572) Steps 556(584.83) | Grad Norm 21.3902(11.7539) | Total Time 0.00(0.00)\n",
      "Iter 1851 | Time 61.1283(62.2445) | Bit/dim 3.7985(3.8105) | Xent 1.0177(1.0028) | Loss 10.2552(10.6951) | Error 0.3615(0.3573) Steps 574(584.50) | Grad Norm 16.8647(11.9072) | Total Time 0.00(0.00)\n",
      "Iter 1852 | Time 60.9892(62.2068) | Bit/dim 3.8053(3.8104) | Xent 1.0159(1.0032) | Loss 10.2916(10.6830) | Error 0.3606(0.3574) Steps 574(584.19) | Grad Norm 13.8273(11.9648) | Total Time 0.00(0.00)\n",
      "Iter 1853 | Time 65.4711(62.3047) | Bit/dim 3.8154(3.8105) | Xent 1.0339(1.0041) | Loss 10.0792(10.6649) | Error 0.3712(0.3578) Steps 592(584.42) | Grad Norm 22.0562(12.2676) | Total Time 0.00(0.00)\n",
      "Iter 1854 | Time 67.1337(62.4496) | Bit/dim 3.7941(3.8100) | Xent 1.0432(1.0053) | Loss 10.1144(10.6484) | Error 0.3700(0.3582) Steps 616(585.37) | Grad Norm 14.3119(12.3289) | Total Time 0.00(0.00)\n",
      "validating...\n",
      "Epoch 0309 | Time 23.1837, Epoch Time 424.1668(412.8999), Bit/dim 3.8082(best: 3.8036), Xent 1.0445, Loss 4.3305, Error 0.3657(best: 0.3315)\n",
      "===> Using batch size 8000. Total 6 iterations/epoch.\n"
     ]
    },
    {
     "name": "stdout",
     "output_type": "stream",
     "text": [
      "11.497005988023952\n",
      "11.497005988023952\n",
      "11.497005988023952\n",
      "11.497005988023952\n",
      "11.497005988023952\n",
      "11.497005988023952\n",
      "11.497005988023952\n",
      "11.497005988023952\n",
      "11.497005988023952\n",
      "11.497005988023952\n",
      "11.497005988023952\n",
      "11.497005988023952\n",
      "11.497005988023952\n",
      "11.497005988023952\n"
     ]
    },
    {
     "name": "stderr",
     "output_type": "stream",
     "text": [
      "Iter 1855 | Time 63.3141(62.4756) | Bit/dim 3.8047(3.8099) | Xent 1.0708(1.0072) | Loss 13.5954(10.7368) | Error 0.3739(0.3586) Steps 598(585.75) | Grad Norm 18.4835(12.5135) | Total Time 0.00(0.00)\n",
      "Iter 1856 | Time 63.1313(62.4952) | Bit/dim 3.8002(3.8096) | Xent 1.0453(1.0084) | Loss 10.0279(10.7155) | Error 0.3632(0.3588) Steps 586(585.76) | Grad Norm 11.1471(12.4725) | Total Time 0.00(0.00)\n",
      "Iter 1857 | Time 62.2728(62.4886) | Bit/dim 3.8067(3.8095) | Xent 1.0703(1.0102) | Loss 10.2795(10.7025) | Error 0.3819(0.3595) Steps 586(585.76) | Grad Norm 16.6388(12.5975) | Total Time 0.00(0.00)\n",
      "Iter 1858 | Time 61.0250(62.4446) | Bit/dim 3.7947(3.8090) | Xent 1.0089(1.0102) | Loss 9.9796(10.6808) | Error 0.3622(0.3596) Steps 580(585.59) | Grad Norm 13.1367(12.6137) | Total Time 0.00(0.00)\n",
      "Iter 1859 | Time 61.0931(62.4041) | Bit/dim 3.8023(3.8088) | Xent 1.0240(1.0106) | Loss 10.0834(10.6629) | Error 0.3662(0.3598) Steps 574(585.24) | Grad Norm 14.3569(12.6660) | Total Time 0.00(0.00)\n",
      "Iter 1860 | Time 59.5010(62.3170) | Bit/dim 3.7977(3.8085) | Xent 1.0072(1.0105) | Loss 10.1229(10.6467) | Error 0.3612(0.3598) Steps 556(584.36) | Grad Norm 8.7582(12.5488) | Total Time 0.00(0.00)\n",
      "validating...\n",
      "Epoch 0310 | Time 24.2579, Epoch Time 412.9193(412.9005), Bit/dim 3.8006(best: 3.8036), Xent 0.9790, Loss 4.2901, Error 0.3444(best: 0.3315)\n",
      "===> Using batch size 8000. Total 6 iterations/epoch.\n"
     ]
    },
    {
     "name": "stdout",
     "output_type": "stream",
     "text": [
      "11.437125748502993\n",
      "11.437125748502993\n",
      "11.437125748502993\n",
      "11.437125748502993\n",
      "11.437125748502993\n",
      "11.437125748502993\n",
      "11.437125748502993\n",
      "11.437125748502993\n",
      "11.437125748502993\n",
      "11.437125748502993\n",
      "11.437125748502993\n",
      "11.437125748502993\n",
      "11.437125748502993\n",
      "11.437125748502993\n"
     ]
    },
    {
     "name": "stderr",
     "output_type": "stream",
     "text": [
      "Iter 1861 | Time 63.6069(62.3557) | Bit/dim 3.8079(3.8085) | Xent 0.9980(1.0101) | Loss 14.0602(10.7491) | Error 0.3588(0.3598) Steps 598(584.77) | Grad Norm 11.0677(12.5043) | Total Time 0.00(0.00)\n",
      "Iter 1862 | Time 62.7341(62.3671) | Bit/dim 3.7977(3.8082) | Xent 0.9880(1.0095) | Loss 10.1343(10.7306) | Error 0.3458(0.3594) Steps 604(585.35) | Grad Norm 10.2974(12.4381) | Total Time 0.00(0.00)\n",
      "Iter 1863 | Time 66.3356(62.4861) | Bit/dim 3.8109(3.8082) | Xent 0.9973(1.0091) | Loss 10.2643(10.7166) | Error 0.3551(0.3592) Steps 580(585.19) | Grad Norm 11.9785(12.4243) | Total Time 0.00(0.00)\n",
      "Iter 1864 | Time 61.9193(62.4691) | Bit/dim 3.7986(3.8080) | Xent 0.9758(1.0081) | Loss 10.1880(10.7008) | Error 0.3501(0.3590) Steps 580(585.03) | Grad Norm 11.0183(12.3822) | Total Time 0.00(0.00)\n",
      "Iter 1865 | Time 62.1522(62.4596) | Bit/dim 3.7947(3.8076) | Xent 0.9891(1.0075) | Loss 10.1823(10.6852) | Error 0.3506(0.3587) Steps 580(584.88) | Grad Norm 6.1686(12.1957) | Total Time 0.00(0.00)\n",
      "Iter 1866 | Time 61.7591(62.4386) | Bit/dim 3.8107(3.8077) | Xent 0.9857(1.0069) | Loss 9.9334(10.6627) | Error 0.3469(0.3583) Steps 610(585.64) | Grad Norm 8.9240(12.0976) | Total Time 0.00(0.00)\n",
      "validating...\n",
      "Epoch 0311 | Time 24.0797, Epoch Time 420.3282(413.1233), Bit/dim 3.8046(best: 3.8006), Xent 0.9479, Loss 4.2785, Error 0.3398(best: 0.3315)\n",
      "===> Using batch size 8000. Total 6 iterations/epoch.\n"
     ]
    },
    {
     "name": "stdout",
     "output_type": "stream",
     "text": [
      "11.377245508982037\n",
      "11.377245508982037\n",
      "11.377245508982037\n",
      "11.377245508982037\n",
      "11.377245508982037\n",
      "11.377245508982037\n",
      "11.377245508982037\n",
      "11.377245508982037\n",
      "11.377245508982037\n",
      "11.377245508982037\n",
      "11.377245508982037\n",
      "11.377245508982037\n",
      "11.377245508982037\n",
      "11.377245508982037\n"
     ]
    },
    {
     "name": "stderr",
     "output_type": "stream",
     "text": [
      "Iter 1867 | Time 62.3146(62.4349) | Bit/dim 3.8070(3.8076) | Xent 0.9781(1.0060) | Loss 13.7915(10.7565) | Error 0.3528(0.3582) Steps 592(585.83) | Grad Norm 10.4129(12.0471) | Total Time 0.00(0.00)\n",
      "Iter 1868 | Time 60.1851(62.3674) | Bit/dim 3.8006(3.8074) | Xent 0.9775(1.0052) | Loss 9.9093(10.7311) | Error 0.3440(0.3578) Steps 580(585.65) | Grad Norm 7.6539(11.9153) | Total Time 0.00(0.00)\n",
      "Iter 1869 | Time 63.0554(62.3880) | Bit/dim 3.8043(3.8073) | Xent 0.9588(1.0038) | Loss 10.3320(10.7191) | Error 0.3430(0.3573) Steps 598(586.02) | Grad Norm 9.1655(11.8328) | Total Time 0.00(0.00)\n",
      "Iter 1870 | Time 58.2899(62.2651) | Bit/dim 3.8004(3.8071) | Xent 0.9633(1.0026) | Loss 10.1054(10.7007) | Error 0.3446(0.3569) Steps 592(586.20) | Grad Norm 8.5938(11.7356) | Total Time 0.00(0.00)\n",
      "Iter 1871 | Time 60.4456(62.2105) | Bit/dim 3.8007(3.8069) | Xent 0.9553(1.0011) | Loss 10.1783(10.6851) | Error 0.3379(0.3564) Steps 580(586.02) | Grad Norm 6.2173(11.5701) | Total Time 0.00(0.00)\n",
      "Iter 1872 | Time 64.8690(62.2902) | Bit/dim 3.7873(3.8063) | Xent 0.9666(1.0001) | Loss 10.3882(10.6761) | Error 0.3394(0.3559) Steps 598(586.38) | Grad Norm 10.3327(11.5329) | Total Time 0.00(0.00)\n",
      "validating...\n",
      "Epoch 0312 | Time 23.8757, Epoch Time 411.1736(413.0648), Bit/dim 3.7996(best: 3.8006), Xent 0.9554, Loss 4.2773, Error 0.3404(best: 0.3315)\n",
      "===> Using batch size 8000. Total 6 iterations/epoch.\n"
     ]
    },
    {
     "name": "stdout",
     "output_type": "stream",
     "text": [
      "11.317365269461078\n",
      "11.317365269461078\n",
      "11.317365269461078\n",
      "11.317365269461078\n",
      "11.317365269461078\n",
      "11.317365269461078\n",
      "11.317365269461078\n",
      "11.317365269461078\n",
      "11.317365269461078\n",
      "11.317365269461078\n",
      "11.317365269461078\n",
      "11.317365269461078\n",
      "11.317365269461078\n",
      "11.317365269461078\n"
     ]
    },
    {
     "name": "stderr",
     "output_type": "stream",
     "text": [
      "Iter 1873 | Time 59.3454(62.2019) | Bit/dim 3.8012(3.8062) | Xent 0.9627(0.9990) | Loss 13.5409(10.7621) | Error 0.3406(0.3554) Steps 574(586.00) | Grad Norm 11.9402(11.5452) | Total Time 0.00(0.00)\n",
      "Iter 1874 | Time 61.4271(62.1787) | Bit/dim 3.8012(3.8060) | Xent 1.0027(0.9991) | Loss 10.0853(10.7418) | Error 0.3650(0.3557) Steps 586(586.00) | Grad Norm 17.7188(11.7304) | Total Time 0.00(0.00)\n",
      "Iter 1875 | Time 64.2533(62.2409) | Bit/dim 3.8076(3.8061) | Xent 0.9762(0.9984) | Loss 10.2694(10.7276) | Error 0.3479(0.3554) Steps 580(585.82) | Grad Norm 14.6832(11.8189) | Total Time 0.00(0.00)\n",
      "Iter 1876 | Time 64.6719(62.3138) | Bit/dim 3.7984(3.8059) | Xent 0.9581(0.9972) | Loss 10.1644(10.7107) | Error 0.3410(0.3550) Steps 574(585.47) | Grad Norm 10.3452(11.7747) | Total Time 0.00(0.00)\n",
      "Iter 1877 | Time 60.8597(62.2702) | Bit/dim 3.8014(3.8057) | Xent 0.9707(0.9964) | Loss 10.1239(10.6931) | Error 0.3525(0.3549) Steps 586(585.49) | Grad Norm 9.9230(11.7192) | Total Time 0.00(0.00)\n",
      "Iter 1878 | Time 61.9164(62.2596) | Bit/dim 3.7823(3.8050) | Xent 0.9416(0.9948) | Loss 10.0416(10.6736) | Error 0.3331(0.3543) Steps 580(585.32) | Grad Norm 9.9682(11.6667) | Total Time 0.00(0.00)\n",
      "validating...\n",
      "Epoch 0313 | Time 24.2525, Epoch Time 414.9211(413.1205), Bit/dim 3.7963(best: 3.7996), Xent 0.9388, Loss 4.2657, Error 0.3344(best: 0.3315)\n",
      "===> Using batch size 8000. Total 6 iterations/epoch.\n"
     ]
    },
    {
     "name": "stdout",
     "output_type": "stream",
     "text": [
      "11.25748502994012\n",
      "11.25748502994012\n",
      "11.25748502994012\n",
      "11.25748502994012\n",
      "11.25748502994012\n",
      "11.25748502994012\n",
      "11.25748502994012\n",
      "11.25748502994012\n",
      "11.25748502994012\n",
      "11.25748502994012\n",
      "11.25748502994012\n",
      "11.25748502994012\n",
      "11.25748502994012\n",
      "11.25748502994012\n"
     ]
    },
    {
     "name": "stderr",
     "output_type": "stream",
     "text": [
      "Iter 1879 | Time 65.0709(62.3439) | Bit/dim 3.7967(3.8048) | Xent 0.9365(0.9930) | Loss 13.7653(10.7663) | Error 0.3347(0.3537) Steps 580(585.16) | Grad Norm 8.5082(11.5719) | Total Time 0.00(0.00)\n",
      "Iter 1880 | Time 57.5107(62.1989) | Bit/dim 3.7889(3.8043) | Xent 0.9384(0.9914) | Loss 9.9026(10.7404) | Error 0.3409(0.3533) Steps 568(584.65) | Grad Norm 4.5512(11.3613) | Total Time 0.00(0.00)\n",
      "Iter 1881 | Time 62.1096(62.1963) | Bit/dim 3.7978(3.8041) | Xent 0.9645(0.9906) | Loss 9.9215(10.7158) | Error 0.3416(0.3530) Steps 598(585.05) | Grad Norm 5.5230(11.1861) | Total Time 0.00(0.00)\n",
      "Iter 1882 | Time 57.7052(62.0615) | Bit/dim 3.7874(3.8036) | Xent 0.9454(0.9892) | Loss 10.1100(10.6977) | Error 0.3386(0.3525) Steps 580(584.90) | Grad Norm 5.7454(11.0229) | Total Time 0.00(0.00)\n",
      "Iter 1883 | Time 63.2976(62.0986) | Bit/dim 3.7912(3.8032) | Xent 0.9501(0.9880) | Loss 10.1665(10.6817) | Error 0.3376(0.3521) Steps 580(584.75) | Grad Norm 5.4006(10.8542) | Total Time 0.00(0.00)\n",
      "Iter 1884 | Time 63.0720(62.1278) | Bit/dim 3.7980(3.8031) | Xent 0.9477(0.9868) | Loss 10.1420(10.6655) | Error 0.3310(0.3515) Steps 592(584.97) | Grad Norm 6.3272(10.7184) | Total Time 0.00(0.00)\n",
      "validating...\n",
      "Epoch 0314 | Time 23.6931, Epoch Time 410.3432(413.0372), Bit/dim 3.7896(best: 3.7963), Xent 0.9238, Loss 4.2514, Error 0.3261(best: 0.3315)\n",
      "===> Using batch size 8000. Total 6 iterations/epoch.\n"
     ]
    },
    {
     "name": "stdout",
     "output_type": "stream",
     "text": [
      "11.197604790419161\n",
      "11.197604790419161\n",
      "11.197604790419161\n",
      "11.197604790419161\n",
      "11.197604790419161\n",
      "11.197604790419161\n",
      "11.197604790419161\n",
      "11.197604790419161\n",
      "11.197604790419161\n",
      "11.197604790419161\n",
      "11.197604790419161\n",
      "11.197604790419161\n",
      "11.197604790419161\n",
      "11.197604790419161\n"
     ]
    },
    {
     "name": "stderr",
     "output_type": "stream",
     "text": [
      "Iter 1885 | Time 59.0099(62.0343) | Bit/dim 3.7979(3.8029) | Xent 0.9378(0.9854) | Loss 13.6750(10.7558) | Error 0.3326(0.3509) Steps 586(585.00) | Grad Norm 5.9383(10.5750) | Total Time 0.00(0.00)\n",
      "Iter 1886 | Time 60.8344(61.9983) | Bit/dim 3.7942(3.8027) | Xent 0.9465(0.9842) | Loss 10.1202(10.7368) | Error 0.3471(0.3508) Steps 604(585.57) | Grad Norm 7.2987(10.4767) | Total Time 0.00(0.00)\n",
      "Iter 1887 | Time 63.6160(62.0468) | Bit/dim 3.7905(3.8023) | Xent 0.9434(0.9830) | Loss 10.1026(10.7177) | Error 0.3365(0.3503) Steps 592(585.76) | Grad Norm 7.4188(10.3850) | Total Time 0.00(0.00)\n",
      "Iter 1888 | Time 59.8415(61.9806) | Bit/dim 3.7920(3.8020) | Xent 0.9279(0.9813) | Loss 9.9856(10.6958) | Error 0.3321(0.3498) Steps 574(585.41) | Grad Norm 6.3484(10.2639) | Total Time 0.00(0.00)\n",
      "Iter 1889 | Time 59.5403(61.9074) | Bit/dim 3.7804(3.8013) | Xent 0.9406(0.9801) | Loss 10.1036(10.6780) | Error 0.3389(0.3495) Steps 586(585.43) | Grad Norm 6.1319(10.1399) | Total Time 0.00(0.00)\n",
      "Iter 1890 | Time 65.9387(62.0284) | Bit/dim 3.7838(3.8008) | Xent 0.9340(0.9787) | Loss 9.9584(10.6564) | Error 0.3301(0.3489) Steps 604(585.98) | Grad Norm 11.2581(10.1735) | Total Time 0.00(0.00)\n",
      "validating...\n",
      "Epoch 0315 | Time 23.4779, Epoch Time 410.1015(412.9491), Bit/dim 3.7928(best: 3.7896), Xent 0.9355, Loss 4.2605, Error 0.3331(best: 0.3261)\n",
      "===> Using batch size 8000. Total 6 iterations/epoch.\n"
     ]
    },
    {
     "name": "stdout",
     "output_type": "stream",
     "text": [
      "11.137724550898206\n",
      "11.137724550898206\n",
      "11.137724550898206\n",
      "11.137724550898206\n",
      "11.137724550898206\n",
      "11.137724550898206\n",
      "11.137724550898206\n",
      "11.137724550898206\n",
      "11.137724550898206\n",
      "11.137724550898206\n",
      "11.137724550898206\n",
      "11.137724550898206\n",
      "11.137724550898206\n",
      "11.137724550898206\n"
     ]
    },
    {
     "name": "stderr",
     "output_type": "stream",
     "text": [
      "Iter 1891 | Time 61.3446(62.0079) | Bit/dim 3.8022(3.8009) | Xent 0.9507(0.9779) | Loss 13.7201(10.7483) | Error 0.3426(0.3487) Steps 598(586.34) | Grad Norm 13.3999(10.2703) | Total Time 0.00(0.00)\n",
      "Iter 1892 | Time 61.7198(61.9992) | Bit/dim 3.7996(3.8008) | Xent 0.9799(0.9779) | Loss 10.1401(10.7301) | Error 0.3499(0.3487) Steps 598(586.69) | Grad Norm 18.9197(10.5298) | Total Time 0.00(0.00)\n",
      "Iter 1893 | Time 65.3194(62.0988) | Bit/dim 3.7980(3.8007) | Xent 1.0463(0.9800) | Loss 10.3033(10.7173) | Error 0.3730(0.3495) Steps 580(586.49) | Grad Norm 26.8359(11.0189) | Total Time 0.00(0.00)\n",
      "Iter 1894 | Time 62.9800(62.1253) | Bit/dim 3.7933(3.8005) | Xent 0.9680(0.9796) | Loss 10.0993(10.6987) | Error 0.3426(0.3493) Steps 550(585.40) | Grad Norm 10.7300(11.0103) | Total Time 0.00(0.00)\n",
      "Iter 1895 | Time 59.4824(62.0460) | Bit/dim 3.7970(3.8004) | Xent 0.9571(0.9789) | Loss 9.8930(10.6746) | Error 0.3390(0.3490) Steps 580(585.24) | Grad Norm 13.4145(11.0824) | Total Time 0.00(0.00)\n",
      "Iter 1896 | Time 66.0385(62.1658) | Bit/dim 3.7844(3.7999) | Xent 0.9509(0.9781) | Loss 9.9851(10.6539) | Error 0.3403(0.3487) Steps 598(585.62) | Grad Norm 15.3580(11.2107) | Total Time 0.00(0.00)\n",
      "validating...\n",
      "Epoch 0316 | Time 23.7524, Epoch Time 418.5106(413.1160), Bit/dim 3.7905(best: 3.7896), Xent 0.9635, Loss 4.2723, Error 0.3428(best: 0.3261)\n",
      "===> Using batch size 8000. Total 6 iterations/epoch.\n"
     ]
    },
    {
     "name": "stdout",
     "output_type": "stream",
     "text": [
      "11.077844311377245\n",
      "11.077844311377245\n",
      "11.077844311377245\n",
      "11.077844311377245\n",
      "11.077844311377245\n",
      "11.077844311377245\n",
      "11.077844311377245\n",
      "11.077844311377245\n",
      "11.077844311377245\n",
      "11.077844311377245\n",
      "11.077844311377245\n",
      "11.077844311377245\n",
      "11.077844311377245\n",
      "11.077844311377245\n"
     ]
    },
    {
     "name": "stderr",
     "output_type": "stream",
     "text": [
      "Iter 1897 | Time 61.5675(62.1478) | Bit/dim 3.7930(3.7997) | Xent 0.9654(0.9777) | Loss 13.3994(10.7362) | Error 0.3393(0.3484) Steps 574(585.27) | Grad Norm 13.3496(11.2748) | Total Time 0.00(0.00)\n",
      "Iter 1898 | Time 65.2612(62.2412) | Bit/dim 3.7928(3.7995) | Xent 0.9948(0.9782) | Loss 10.2843(10.7227) | Error 0.3556(0.3486) Steps 628(586.55) | Grad Norm 11.2390(11.2738) | Total Time 0.00(0.00)\n",
      "Iter 1899 | Time 62.7230(62.2557) | Bit/dim 3.8085(3.7998) | Xent 1.0217(0.9795) | Loss 10.1875(10.7066) | Error 0.3684(0.3492) Steps 586(586.54) | Grad Norm 10.4046(11.2477) | Total Time 0.00(0.00)\n",
      "Iter 1900 | Time 59.2263(62.1648) | Bit/dim 3.7864(3.7994) | Xent 1.0234(0.9809) | Loss 10.1710(10.6906) | Error 0.3621(0.3496) Steps 598(586.88) | Grad Norm 11.5094(11.2555) | Total Time 0.00(0.00)\n",
      "Iter 1901 | Time 60.9115(62.1272) | Bit/dim 3.7929(3.7992) | Xent 0.9623(0.9803) | Loss 9.9712(10.6690) | Error 0.3416(0.3494) Steps 574(586.49) | Grad Norm 11.7574(11.2706) | Total Time 0.00(0.00)\n",
      "Iter 1902 | Time 58.8683(62.0294) | Bit/dim 3.7937(3.7990) | Xent 0.9978(0.9808) | Loss 10.0169(10.6494) | Error 0.3561(0.3496) Steps 586(586.48) | Grad Norm 11.0736(11.2647) | Total Time 0.00(0.00)\n",
      "validating...\n",
      "Epoch 0317 | Time 23.8276, Epoch Time 411.1436(413.0568), Bit/dim 3.7952(best: 3.7896), Xent 0.9384, Loss 4.2644, Error 0.3306(best: 0.3261)\n",
      "===> Using batch size 8000. Total 6 iterations/epoch.\n"
     ]
    },
    {
     "name": "stdout",
     "output_type": "stream",
     "text": [
      "11.017964071856289\n",
      "11.017964071856289\n",
      "11.017964071856289\n",
      "11.017964071856289\n",
      "11.017964071856289\n",
      "11.017964071856289\n",
      "11.017964071856289\n",
      "11.017964071856289\n",
      "11.017964071856289\n",
      "11.017964071856289\n",
      "11.017964071856289\n",
      "11.017964071856289\n",
      "11.017964071856289\n",
      "11.017964071856289\n"
     ]
    },
    {
     "name": "stderr",
     "output_type": "stream",
     "text": [
      "Iter 1903 | Time 58.2788(61.9169) | Bit/dim 3.7895(3.7987) | Xent 0.9495(0.9799) | Loss 13.8247(10.7447) | Error 0.3369(0.3492) Steps 586(586.46) | Grad Norm 14.9816(11.3762) | Total Time 0.00(0.00)\n",
      "Iter 1904 | Time 60.6975(61.8803) | Bit/dim 3.8019(3.7988) | Xent 0.9632(0.9794) | Loss 10.1559(10.7270) | Error 0.3464(0.3491) Steps 598(586.81) | Grad Norm 12.7384(11.4171) | Total Time 0.00(0.00)\n",
      "Iter 1905 | Time 63.3051(61.9231) | Bit/dim 3.8019(3.7989) | Xent 0.9605(0.9788) | Loss 9.9622(10.7041) | Error 0.3421(0.3489) Steps 568(586.25) | Grad Norm 10.8513(11.4001) | Total Time 0.00(0.00)\n",
      "Iter 1906 | Time 61.1842(61.9009) | Bit/dim 3.7940(3.7988) | Xent 0.9808(0.9789) | Loss 10.1995(10.6889) | Error 0.3472(0.3488) Steps 574(585.88) | Grad Norm 12.3647(11.4290) | Total Time 0.00(0.00)\n",
      "Iter 1907 | Time 60.1107(61.8472) | Bit/dim 3.7945(3.7986) | Xent 0.9694(0.9786) | Loss 10.1366(10.6724) | Error 0.3488(0.3488) Steps 586(585.88) | Grad Norm 9.2403(11.3634) | Total Time 0.00(0.00)\n",
      "Iter 1908 | Time 63.0822(61.8842) | Bit/dim 3.7676(3.7977) | Xent 0.9516(0.9778) | Loss 10.3211(10.6618) | Error 0.3410(0.3486) Steps 592(586.07) | Grad Norm 6.3536(11.2131) | Total Time 0.00(0.00)\n",
      "validating...\n",
      "Epoch 0318 | Time 23.5937, Epoch Time 408.2709(412.9132), Bit/dim 3.7937(best: 3.7896), Xent 0.9440, Loss 4.2657, Error 0.3302(best: 0.3261)\n",
      "===> Using batch size 8000. Total 6 iterations/epoch.\n"
     ]
    },
    {
     "name": "stdout",
     "output_type": "stream",
     "text": [
      "10.95808383233533\n",
      "10.95808383233533\n",
      "10.95808383233533\n",
      "10.95808383233533\n",
      "10.95808383233533\n",
      "10.95808383233533\n",
      "10.95808383233533\n",
      "10.95808383233533\n",
      "10.95808383233533\n",
      "10.95808383233533\n",
      "10.95808383233533\n",
      "10.95808383233533\n",
      "10.95808383233533\n",
      "10.95808383233533\n"
     ]
    },
    {
     "name": "stderr",
     "output_type": "stream",
     "text": [
      "Iter 1909 | Time 62.6856(61.9083) | Bit/dim 3.7848(3.7973) | Xent 0.9787(0.9778) | Loss 13.4848(10.7465) | Error 0.3468(0.3486) Steps 598(586.42) | Grad Norm 8.2113(11.1230) | Total Time 0.00(0.00)\n",
      "Iter 1910 | Time 59.2860(61.8296) | Bit/dim 3.7907(3.7971) | Xent 0.9625(0.9774) | Loss 9.9403(10.7223) | Error 0.3466(0.3485) Steps 586(586.41) | Grad Norm 10.0598(11.0911) | Total Time 0.00(0.00)\n",
      "Iter 1911 | Time 68.0853(62.0173) | Bit/dim 3.7877(3.7968) | Xent 0.9369(0.9761) | Loss 10.1461(10.7050) | Error 0.3339(0.3481) Steps 598(586.76) | Grad Norm 6.8281(10.9632) | Total Time 0.00(0.00)\n",
      "Iter 1912 | Time 64.1886(62.0824) | Bit/dim 3.7956(3.7968) | Xent 0.9492(0.9753) | Loss 10.1099(10.6872) | Error 0.3365(0.3477) Steps 592(586.92) | Grad Norm 8.5358(10.8904) | Total Time 0.00(0.00)\n",
      "Iter 1913 | Time 62.8044(62.1041) | Bit/dim 3.7949(3.7967) | Xent 0.9355(0.9741) | Loss 10.0783(10.6689) | Error 0.3316(0.3472) Steps 598(587.25) | Grad Norm 10.8305(10.8886) | Total Time 0.00(0.00)\n",
      "Iter 1914 | Time 58.5345(61.9970) | Bit/dim 3.7818(3.7963) | Xent 0.9106(0.9722) | Loss 10.0784(10.6512) | Error 0.3230(0.3465) Steps 568(586.67) | Grad Norm 6.3310(10.7519) | Total Time 0.00(0.00)\n",
      "validating...\n",
      "Epoch 0319 | Time 23.9080, Epoch Time 417.3915(413.0476), Bit/dim 3.7903(best: 3.7896), Xent 0.9162, Loss 4.2484, Error 0.3238(best: 0.3261)\n",
      "===> Using batch size 8000. Total 6 iterations/epoch.\n"
     ]
    },
    {
     "name": "stdout",
     "output_type": "stream",
     "text": [
      "10.898203592814372\n",
      "10.898203592814372\n",
      "10.898203592814372\n",
      "10.898203592814372\n",
      "10.898203592814372\n",
      "10.898203592814372\n",
      "10.898203592814372\n",
      "10.898203592814372\n",
      "10.898203592814372\n",
      "10.898203592814372\n",
      "10.898203592814372\n",
      "10.898203592814372\n",
      "10.898203592814372\n",
      "10.898203592814372\n"
     ]
    },
    {
     "name": "stderr",
     "output_type": "stream",
     "text": [
      "Iter 1915 | Time 62.4505(62.0106) | Bit/dim 3.7833(3.7959) | Xent 0.9163(0.9706) | Loss 13.4224(10.7343) | Error 0.3251(0.3459) Steps 586(586.65) | Grad Norm 4.9499(10.5778) | Total Time 0.00(0.00)\n",
      "Iter 1916 | Time 63.6085(62.0585) | Bit/dim 3.7996(3.7960) | Xent 0.9480(0.9699) | Loss 10.0152(10.7128) | Error 0.3409(0.3457) Steps 586(586.63) | Grad Norm 6.6258(10.4593) | Total Time 0.00(0.00)\n",
      "Iter 1917 | Time 63.5572(62.1035) | Bit/dim 3.7924(3.7959) | Xent 0.9360(0.9689) | Loss 10.1909(10.6971) | Error 0.3351(0.3454) Steps 586(586.61) | Grad Norm 7.6625(10.3754) | Total Time 0.00(0.00)\n",
      "Iter 1918 | Time 62.2937(62.1092) | Bit/dim 3.7813(3.7955) | Xent 0.9274(0.9676) | Loss 10.1730(10.6814) | Error 0.3371(0.3451) Steps 592(586.77) | Grad Norm 6.9077(10.2713) | Total Time 0.00(0.00)\n",
      "Iter 1919 | Time 66.3053(62.2351) | Bit/dim 3.7861(3.7952) | Xent 0.9359(0.9667) | Loss 10.0619(10.6628) | Error 0.3366(0.3449) Steps 574(586.39) | Grad Norm 3.6210(10.0718) | Total Time 0.00(0.00)\n",
      "Iter 1920 | Time 62.4964(62.2429) | Bit/dim 3.7702(3.7944) | Xent 0.9297(0.9656) | Loss 9.9292(10.6408) | Error 0.3331(0.3445) Steps 592(586.56) | Grad Norm 6.3060(9.9588) | Total Time 0.00(0.00)\n",
      "validating...\n",
      "Epoch 0320 | Time 24.1767, Epoch Time 422.4464(413.3295), Bit/dim 3.7796(best: 3.7896), Xent 0.9354, Loss 4.2472, Error 0.3282(best: 0.3238)\n",
      "===> Using batch size 8000. Total 6 iterations/epoch.\n"
     ]
    },
    {
     "name": "stdout",
     "output_type": "stream",
     "text": [
      "10.838323353293413\n",
      "10.838323353293413\n",
      "10.838323353293413\n",
      "10.838323353293413\n",
      "10.838323353293413\n",
      "10.838323353293413\n",
      "10.838323353293413\n",
      "10.838323353293413\n",
      "10.838323353293413\n",
      "10.838323353293413\n",
      "10.838323353293413\n",
      "10.838323353293413\n",
      "10.838323353293413\n",
      "10.838323353293413\n"
     ]
    },
    {
     "name": "stderr",
     "output_type": "stream",
     "text": [
      "Iter 1921 | Time 60.9322(62.2036) | Bit/dim 3.7889(3.7943) | Xent 0.9467(0.9650) | Loss 13.1854(10.7171) | Error 0.3351(0.3443) Steps 586(586.54) | Grad Norm 8.9805(9.9295) | Total Time 0.00(0.00)\n",
      "Iter 1922 | Time 63.9877(62.2571) | Bit/dim 3.7868(3.7941) | Xent 0.9580(0.9648) | Loss 10.3081(10.7049) | Error 0.3416(0.3442) Steps 586(586.53) | Grad Norm 14.7404(10.0738) | Total Time 0.00(0.00)\n",
      "Iter 1923 | Time 64.0885(62.3121) | Bit/dim 3.7898(3.7939) | Xent 0.9769(0.9651) | Loss 10.3568(10.6944) | Error 0.3461(0.3442) Steps 580(586.33) | Grad Norm 23.4933(10.4764) | Total Time 0.00(0.00)\n",
      "Iter 1924 | Time 59.1484(62.2172) | Bit/dim 3.7994(3.7941) | Xent 0.9439(0.9645) | Loss 10.1527(10.6782) | Error 0.3353(0.3440) Steps 592(586.50) | Grad Norm 16.2180(10.6487) | Total Time 0.00(0.00)\n",
      "Iter 1925 | Time 57.7802(62.0841) | Bit/dim 3.7772(3.7936) | Xent 0.9610(0.9644) | Loss 10.1308(10.6617) | Error 0.3393(0.3438) Steps 592(586.67) | Grad Norm 6.9273(10.5370) | Total Time 0.00(0.00)\n",
      "Iter 1926 | Time 64.4455(62.1549) | Bit/dim 3.7767(3.7931) | Xent 0.9775(0.9648) | Loss 10.0227(10.6426) | Error 0.3464(0.3439) Steps 586(586.65) | Grad Norm 10.6572(10.5406) | Total Time 0.00(0.00)\n",
      "validating...\n",
      "Epoch 0321 | Time 23.7125, Epoch Time 412.4701(413.3037), Bit/dim 3.7873(best: 3.7796), Xent 0.9296, Loss 4.2522, Error 0.3277(best: 0.3238)\n",
      "===> Using batch size 8000. Total 6 iterations/epoch.\n"
     ]
    },
    {
     "name": "stdout",
     "output_type": "stream",
     "text": [
      "10.778443113772454\n",
      "10.778443113772454\n",
      "10.778443113772454\n",
      "10.778443113772454\n",
      "10.778443113772454\n",
      "10.778443113772454\n",
      "10.778443113772454\n",
      "10.778443113772454\n",
      "10.778443113772454\n",
      "10.778443113772454\n",
      "10.778443113772454\n",
      "10.778443113772454\n",
      "10.778443113772454\n",
      "10.778443113772454\n"
     ]
    },
    {
     "name": "stderr",
     "output_type": "stream",
     "text": [
      "Iter 1927 | Time 58.9374(62.0584) | Bit/dim 3.7946(3.7931) | Xent 0.9414(0.9641) | Loss 13.4992(10.7283) | Error 0.3375(0.3437) Steps 574(586.27) | Grad Norm 11.8868(10.5810) | Total Time 0.00(0.00)\n",
      "Iter 1928 | Time 66.5636(62.1935) | Bit/dim 3.7670(3.7923) | Xent 0.9484(0.9636) | Loss 9.8556(10.7021) | Error 0.3393(0.3436) Steps 610(586.98) | Grad Norm 6.9599(10.4724) | Total Time 0.00(0.00)\n",
      "Iter 1929 | Time 60.2689(62.1358) | Bit/dim 3.7888(3.7922) | Xent 0.9673(0.9637) | Loss 10.2231(10.6877) | Error 0.3494(0.3437) Steps 598(587.31) | Grad Norm 9.6905(10.4489) | Total Time 0.00(0.00)\n",
      "Iter 1930 | Time 66.3440(62.2620) | Bit/dim 3.7940(3.7923) | Xent 0.9811(0.9643) | Loss 10.3744(10.6783) | Error 0.3504(0.3439) Steps 580(587.09) | Grad Norm 9.8280(10.4303) | Total Time 0.00(0.00)\n",
      "Iter 1931 | Time 65.3034(62.3533) | Bit/dim 3.7715(3.7917) | Xent 0.9309(0.9633) | Loss 9.9767(10.6573) | Error 0.3387(0.3438) Steps 598(587.42) | Grad Norm 9.0901(10.3901) | Total Time 0.00(0.00)\n",
      "Iter 1932 | Time 67.6335(62.5117) | Bit/dim 3.8013(3.7920) | Xent 0.9344(0.9624) | Loss 10.0161(10.6380) | Error 0.3341(0.3435) Steps 610(588.09) | Grad Norm 15.9408(10.5566) | Total Time 0.00(0.00)\n",
      "validating...\n",
      "Epoch 0322 | Time 23.5298, Epoch Time 427.5186(413.7302), Bit/dim 3.7920(best: 3.7796), Xent 0.9413, Loss 4.2627, Error 0.3371(best: 0.3238)\n",
      "===> Using batch size 8000. Total 6 iterations/epoch.\n"
     ]
    },
    {
     "name": "stdout",
     "output_type": "stream",
     "text": [
      "10.718562874251496\n",
      "10.718562874251496\n",
      "10.718562874251496\n",
      "10.718562874251496\n",
      "10.718562874251496\n",
      "10.718562874251496\n",
      "10.718562874251496\n",
      "10.718562874251496\n",
      "10.718562874251496\n",
      "10.718562874251496\n",
      "10.718562874251496\n",
      "10.718562874251496\n",
      "10.718562874251496\n",
      "10.718562874251496\n"
     ]
    },
    {
     "name": "stderr",
     "output_type": "stream",
     "text": [
      "Iter 1933 | Time 59.0154(62.4068) | Bit/dim 3.7964(3.7921) | Xent 0.9365(0.9616) | Loss 13.5334(10.7249) | Error 0.3335(0.3432) Steps 592(588.21) | Grad Norm 16.5018(10.7350) | Total Time 0.00(0.00)\n",
      "Iter 1934 | Time 59.6498(62.3241) | Bit/dim 3.7838(3.7918) | Xent 0.9953(0.9626) | Loss 10.1927(10.7089) | Error 0.3534(0.3435) Steps 586(588.14) | Grad Norm 17.1987(10.9289) | Total Time 0.00(0.00)\n",
      "Iter 1935 | Time 62.3172(62.3239) | Bit/dim 3.7858(3.7917) | Xent 1.0598(0.9655) | Loss 10.2790(10.6960) | Error 0.3809(0.3446) Steps 574(587.72) | Grad Norm 19.4132(11.1834) | Total Time 0.00(0.00)\n",
      "Iter 1936 | Time 64.8777(62.4005) | Bit/dim 3.7870(3.7915) | Xent 0.9595(0.9654) | Loss 10.2721(10.6833) | Error 0.3421(0.3446) Steps 610(588.39) | Grad Norm 10.3735(11.1591) | Total Time 0.00(0.00)\n",
      "Iter 1937 | Time 60.9121(62.3558) | Bit/dim 3.7788(3.7911) | Xent 1.0089(0.9667) | Loss 10.3321(10.6728) | Error 0.3601(0.3450) Steps 592(588.50) | Grad Norm 18.4092(11.3766) | Total Time 0.00(0.00)\n",
      "Iter 1938 | Time 64.2671(62.4132) | Bit/dim 3.7889(3.7911) | Xent 1.0479(0.9691) | Loss 10.4250(10.6654) | Error 0.3724(0.3458) Steps 598(588.78) | Grad Norm 23.4837(11.7398) | Total Time 0.00(0.00)\n",
      "validating...\n",
      "Epoch 0323 | Time 24.4312, Epoch Time 414.2952(413.7471), Bit/dim 3.7915(best: 3.7796), Xent 1.0197, Loss 4.3013, Error 0.3678(best: 0.3238)\n",
      "===> Using batch size 8000. Total 6 iterations/epoch.\n"
     ]
    },
    {
     "name": "stdout",
     "output_type": "stream",
     "text": [
      "10.658682634730537\n",
      "10.658682634730537\n",
      "10.658682634730537\n",
      "10.658682634730537\n",
      "10.658682634730537\n",
      "10.658682634730537\n",
      "10.658682634730537\n",
      "10.658682634730537\n",
      "10.658682634730537\n",
      "10.658682634730537\n",
      "10.658682634730537\n",
      "10.658682634730537\n",
      "10.658682634730537\n",
      "10.658682634730537\n"
     ]
    },
    {
     "name": "stderr",
     "output_type": "stream",
     "text": [
      "Iter 1939 | Time 59.0609(62.3126) | Bit/dim 3.7867(3.7909) | Xent 1.0233(0.9707) | Loss 13.9321(10.7634) | Error 0.3669(0.3465) Steps 586(588.70) | Grad Norm 18.8900(11.9543) | Total Time 0.00(0.00)\n",
      "Iter 1940 | Time 59.7556(62.2359) | Bit/dim 3.8035(3.7913) | Xent 1.0255(0.9724) | Loss 10.0304(10.7414) | Error 0.3711(0.3472) Steps 574(588.26) | Grad Norm 17.7249(12.1274) | Total Time 0.00(0.00)\n",
      "Iter 1941 | Time 59.4173(62.1513) | Bit/dim 3.7942(3.7914) | Xent 0.9968(0.9731) | Loss 10.0536(10.7207) | Error 0.3585(0.3475) Steps 586(588.19) | Grad Norm 10.6245(12.0824) | Total Time 0.00(0.00)\n",
      "Iter 1942 | Time 63.9944(62.2066) | Bit/dim 3.7845(3.7912) | Xent 1.0169(0.9744) | Loss 10.1381(10.7033) | Error 0.3632(0.3480) Steps 598(588.48) | Grad Norm 13.5029(12.1250) | Total Time 0.00(0.00)\n",
      "Iter 1943 | Time 59.7650(62.1334) | Bit/dim 3.7920(3.7912) | Xent 1.0239(0.9759) | Loss 10.1895(10.6878) | Error 0.3665(0.3486) Steps 598(588.77) | Grad Norm 15.0507(12.2127) | Total Time 0.00(0.00)\n",
      "Iter 1944 | Time 64.0484(62.1908) | Bit/dim 3.7904(3.7912) | Xent 1.0208(0.9772) | Loss 10.3356(10.6773) | Error 0.3616(0.3490) Steps 598(589.05) | Grad Norm 22.4051(12.5185) | Total Time 0.00(0.00)\n",
      "validating...\n",
      "Epoch 0324 | Time 24.0545, Epoch Time 408.1339(413.5787), Bit/dim 3.8207(best: 3.7796), Xent 1.0397, Loss 4.3406, Error 0.3715(best: 0.3238)\n",
      "===> Using batch size 8000. Total 6 iterations/epoch.\n"
     ]
    },
    {
     "name": "stdout",
     "output_type": "stream",
     "text": [
      "10.598802395209582\n",
      "10.598802395209582\n",
      "10.598802395209582\n",
      "10.598802395209582\n",
      "10.598802395209582\n",
      "10.598802395209582\n",
      "10.598802395209582\n",
      "10.598802395209582\n",
      "10.598802395209582\n",
      "10.598802395209582\n",
      "10.598802395209582\n",
      "10.598802395209582\n",
      "10.598802395209582\n",
      "10.598802395209582\n"
     ]
    },
    {
     "name": "stderr",
     "output_type": "stream",
     "text": [
      "Iter 1945 | Time 58.5484(62.0816) | Bit/dim 3.8252(3.7922) | Xent 1.0576(0.9797) | Loss 14.0662(10.7789) | Error 0.3816(0.3499) Steps 592(589.14) | Grad Norm 30.6187(13.0615) | Total Time 0.00(0.00)\n",
      "Iter 1946 | Time 65.2241(62.1758) | Bit/dim 3.7876(3.7921) | Xent 0.9875(0.9799) | Loss 10.2489(10.7630) | Error 0.3549(0.3501) Steps 592(589.22) | Grad Norm 8.7941(12.9335) | Total Time 0.00(0.00)\n",
      "Iter 1947 | Time 58.3492(62.0610) | Bit/dim 3.8139(3.7927) | Xent 1.0079(0.9807) | Loss 10.0745(10.7424) | Error 0.3668(0.3506) Steps 592(589.30) | Grad Norm 22.9747(13.2347) | Total Time 0.00(0.00)\n",
      "Iter 1948 | Time 64.7532(62.1418) | Bit/dim 3.7911(3.7927) | Xent 0.9973(0.9812) | Loss 10.1742(10.7253) | Error 0.3622(0.3509) Steps 604(589.75) | Grad Norm 9.7178(13.1292) | Total Time 0.00(0.00)\n",
      "Iter 1949 | Time 65.8248(62.2523) | Bit/dim 3.8136(3.7933) | Xent 0.9724(0.9810) | Loss 10.3034(10.7127) | Error 0.3484(0.3509) Steps 598(589.99) | Grad Norm 15.9296(13.2132) | Total Time 0.00(0.00)\n",
      "Iter 1950 | Time 59.9918(62.1845) | Bit/dim 3.7958(3.7934) | Xent 0.9770(0.9808) | Loss 10.1258(10.6951) | Error 0.3415(0.3506) Steps 580(589.69) | Grad Norm 14.7033(13.2579) | Total Time 0.00(0.00)\n",
      "validating...\n",
      "Epoch 0325 | Time 23.8630, Epoch Time 414.4811(413.6058), Bit/dim 3.7917(best: 3.7796), Xent 0.9756, Loss 4.2795, Error 0.3392(best: 0.3238)\n",
      "===> Using batch size 8000. Total 6 iterations/epoch.\n"
     ]
    },
    {
     "name": "stdout",
     "output_type": "stream",
     "text": [
      "10.53892215568862\n",
      "10.53892215568862\n",
      "10.53892215568862\n",
      "10.53892215568862\n",
      "10.53892215568862\n",
      "10.53892215568862\n",
      "10.53892215568862\n",
      "10.53892215568862\n",
      "10.53892215568862\n",
      "10.53892215568862\n",
      "10.53892215568862\n",
      "10.53892215568862\n",
      "10.53892215568862\n",
      "10.53892215568862\n"
     ]
    },
    {
     "name": "stderr",
     "output_type": "stream",
     "text": [
      "Iter 1951 | Time 56.8534(62.0245) | Bit/dim 3.7849(3.7931) | Xent 0.9961(0.9813) | Loss 13.3947(10.7761) | Error 0.3524(0.3506) Steps 586(589.58) | Grad Norm 9.3183(13.1398) | Total Time 0.00(0.00)\n",
      "Iter 1952 | Time 61.1257(61.9976) | Bit/dim 3.7997(3.7933) | Xent 0.9791(0.9812) | Loss 10.2343(10.7598) | Error 0.3496(0.3506) Steps 568(588.94) | Grad Norm 16.5463(13.2420) | Total Time 0.00(0.00)\n",
      "Iter 1953 | Time 61.8219(61.9923) | Bit/dim 3.7952(3.7934) | Xent 0.9508(0.9803) | Loss 10.3168(10.7465) | Error 0.3439(0.3504) Steps 586(588.85) | Grad Norm 7.6127(13.0731) | Total Time 0.00(0.00)\n",
      "Iter 1954 | Time 59.7408(61.9248) | Bit/dim 3.7929(3.7934) | Xent 0.9494(0.9794) | Loss 10.0982(10.7271) | Error 0.3426(0.3502) Steps 592(588.94) | Grad Norm 11.9645(13.0398) | Total Time 0.00(0.00)\n",
      "Iter 1955 | Time 63.4716(61.9712) | Bit/dim 3.8089(3.7938) | Xent 0.9677(0.9790) | Loss 10.2233(10.7120) | Error 0.3454(0.3500) Steps 598(589.21) | Grad Norm 10.5553(12.9653) | Total Time 0.00(0.00)\n",
      "Iter 1956 | Time 66.1164(62.0955) | Bit/dim 3.7936(3.7938) | Xent 0.9308(0.9776) | Loss 10.0301(10.6915) | Error 0.3276(0.3494) Steps 610(589.84) | Grad Norm 5.7949(12.7502) | Total Time 0.00(0.00)\n",
      "validating...\n",
      "Epoch 0326 | Time 23.6634, Epoch Time 410.6488(413.5171), Bit/dim 3.7951(best: 3.7796), Xent 0.9319, Loss 4.2610, Error 0.3308(best: 0.3238)\n",
      "===> Using batch size 8000. Total 6 iterations/epoch.\n"
     ]
    },
    {
     "name": "stdout",
     "output_type": "stream",
     "text": [
      "10.479041916167665\n",
      "10.479041916167665\n",
      "10.479041916167665\n",
      "10.479041916167665\n",
      "10.479041916167665\n",
      "10.479041916167665\n",
      "10.479041916167665\n",
      "10.479041916167665\n",
      "10.479041916167665\n",
      "10.479041916167665\n",
      "10.479041916167665\n",
      "10.479041916167665\n",
      "10.479041916167665\n",
      "10.479041916167665\n"
     ]
    }
   ],
   "source": [
    "%run -p ../train_cnf_disentangle_rl.py --data cifar10 --dims 64,64,64 --strides 1,1,1,1 --num_blocks 2 --layer_type concat --multiscale True --rademacher True --batch_size 8000 --test_batch_size 5000 --save ../experiments_published/cnf_conditional_disentangle_cifar10_bs8K_sratio_0_5_drop_0_5_rl_stdlearnscale_30_annealing_run3 --seed 3 --conditional True --controlled_tol True --train_mode semisup --lr 0.001 --warmup_iters 1000 --atol 1e-4  --rtol 1e-4 --weight_y 0.5 --condition_ratio 0.5 --dropout_rate 0.5 --scale_fac 1.0 --gate cnn2 --scale_std 30.0 --max_grad_norm 20.0 --annealing_std True\n",
    "#"
   ]
  }
 ],
 "metadata": {
  "kernelspec": {
   "display_name": "Python 3",
   "language": "python",
   "name": "python3"
  },
  "language_info": {
   "codemirror_mode": {
    "name": "ipython",
    "version": 3
   },
   "file_extension": ".py",
   "mimetype": "text/x-python",
   "name": "python",
   "nbconvert_exporter": "python",
   "pygments_lexer": "ipython3",
   "version": "3.6.7"
  }
 },
 "nbformat": 4,
 "nbformat_minor": 2
}
